{
  "nbformat": 4,
  "nbformat_minor": 0,
  "metadata": {
    "colab": {
      "name": "Reinforcement Learning for Stock Market Trading.ipynb",
      "provenance": [],
      "collapsed_sections": []
    },
    "kernelspec": {
      "name": "python385jvsc74a57bd07f9c69b77f8cb78a9d8b8acc2d09c3972908e6673afd8bfd04ee2f6acaaac495",
      "display_name": "Python 3.8.5 64-bit ('DataSciences': conda)"
    },
    "accelerator": "GPU",
    "metadata": {
      "interpreter": {
        "hash": "7f9c69b77f8cb78a9d8b8acc2d09c3972908e6673afd8bfd04ee2f6acaaac495"
      }
    }
  },
  "cells": [
    {
      "cell_type": "markdown",
      "metadata": {
        "id": "CFYKMfEEEzni"
      },
      "source": [
        "## Stage 1: Installing dependencies and environment setup\n"
      ]
    },
    {
      "cell_type": "markdown",
      "metadata": {
        "id": "J0BVbvetGrlR"
      },
      "source": [
        "## Stage 2: Importing project dependencies"
      ]
    },
    {
      "cell_type": "code",
      "metadata": {
        "id": "qALiMginGiMW",
        "colab": {
          "base_uri": "https://localhost:8080/",
          "height": 511
        },
        "outputId": "82e804cb-eac8-43c3-a2ab-cae39a4b8a86"
      },
      "source": [
        "import math\n",
        "import random\n",
        "import numpy as np\n",
        "import pandas as pd\n",
        "import tensorflow as tf\n",
        "import matplotlib.pyplot as plt\n",
        "import pandas_datareader as data_reader\n",
        "\n",
        "from tqdm import tqdm_notebook, tqdm\n",
        "from collections import deque"
      ],
      "execution_count": 1,
      "outputs": []
    },
    {
      "cell_type": "markdown",
      "metadata": {
        "id": "l0zw2i2mr6YC"
      },
      "source": []
    },
    {
      "cell_type": "code",
      "metadata": {
        "id": "drGd9adHGuje",
        "colab": {
          "base_uri": "https://localhost:8080/",
          "height": 36
        },
        "outputId": "c96f5749-bfcb-4268-973d-893885602ed9"
      },
      "source": [
        "tf.__version__"
      ],
      "execution_count": 2,
      "outputs": [
        {
          "output_type": "execute_result",
          "data": {
            "text/plain": [
              "'2.4.1'"
            ]
          },
          "metadata": {},
          "execution_count": 2
        }
      ]
    },
    {
      "cell_type": "markdown",
      "metadata": {
        "id": "__E4SMMaGwqb"
      },
      "source": [
        "## Stage 3: Building the AI Trader network"
      ]
    },
    {
      "cell_type": "code",
      "metadata": {
        "id": "PCggfrCtGyiG"
      },
      "source": [
        "class AI_Trader():\n",
        "  \n",
        "  def __init__(self, state_size, action_space=3, model_name=\"AITrader\"): #Stay, Buy, Sell\n",
        "    \n",
        "    self.state_size = state_size\n",
        "    self.action_space = action_space\n",
        "    self.memory = deque(maxlen=2000)\n",
        "    self.inventory = []\n",
        "    self.model_name = model_name\n",
        "    \n",
        "    self.gamma = 0.95\n",
        "    self.epsilon = 1.0\n",
        "    self.epsilon_final = 0.01\n",
        "    self.epsilon_decay = 0.995\n",
        "    \n",
        "    self.model = self.model_builder()\n",
        "    \n",
        "  def model_builder(self):\n",
        "    \n",
        "    model = tf.keras.models.Sequential()\n",
        "    \n",
        "    model.add(tf.keras.layers.Dense(units=32, activation='relu', input_dim=self.state_size))\n",
        "    \n",
        "    model.add(tf.keras.layers.Dense(units=64, activation='relu'))\n",
        "    \n",
        "    model.add(tf.keras.layers.Dense(units=128, activation='relu'))\n",
        "    \n",
        "    model.add(tf.keras.layers.Dense(units=self.action_space, activation='linear'))\n",
        "    \n",
        "    model.compile(loss='mse', optimizer=tf.keras.optimizers.Adam(lr=0.001))\n",
        "    \n",
        "    return model\n",
        "  \n",
        "  def trade(self, state):\n",
        "    \n",
        "    if random.random() <= self.epsilon:\n",
        "      return random.randrange(self.action_space)\n",
        "    \n",
        "    actions = self.model.predict(state)\n",
        "    return np.argmax(actions[0])\n",
        "  \n",
        "  \n",
        "  def batch_train(self, batch_size):\n",
        "    \n",
        "    batch = []\n",
        "    for i in range(len(self.memory) - batch_size + 1, len(self.memory)):\n",
        "      batch.append(self.memory[i])\n",
        "      \n",
        "    for state, action, reward, next_state, done in batch:\n",
        "      reward = reward\n",
        "      if not done:\n",
        "        reward = reward + self.gamma * np.amax(self.model.predict(next_state)[0])\n",
        "        \n",
        "      target = self.model.predict(state)\n",
        "      target[0][action] = reward\n",
        "      \n",
        "      self.model.fit(state, target, epochs=1, verbose=0)\n",
        "      \n",
        "    if self.epsilon > self.epsilon_final:\n",
        "      self.epsilon *= self.epsilon_decay"
      ],
      "execution_count": 3,
      "outputs": []
    },
    {
      "cell_type": "markdown",
      "metadata": {
        "id": "7tcUyJMnS479"
      },
      "source": [
        "## Stage 4: Dataset preprocessing"
      ]
    },
    {
      "cell_type": "markdown",
      "metadata": {
        "id": "ya_4XPUMS8Pe"
      },
      "source": [
        "### Defining helper functions"
      ]
    },
    {
      "cell_type": "markdown",
      "metadata": {
        "id": "kK6UDGe0TACz"
      },
      "source": [
        "#### Sigmoid"
      ]
    },
    {
      "cell_type": "code",
      "metadata": {
        "id": "IzXG-49iSZX3"
      },
      "source": [
        "def sigmoid(x):\n",
        "  return 1 / (1 + math.exp(-x))"
      ],
      "execution_count": 4,
      "outputs": []
    },
    {
      "cell_type": "markdown",
      "metadata": {
        "id": "0VRbmx_OTDtZ"
      },
      "source": [
        "#### Price format function"
      ]
    },
    {
      "cell_type": "code",
      "metadata": {
        "id": "N8vVBL8YTGaE"
      },
      "source": [
        "def stocks_price_format(n):\n",
        "  if n < 0:\n",
        "    return \"- $ {0:2f}\".format(abs(n))\n",
        "  else:\n",
        "    return \"$ {0:2f}\".format(abs(n))"
      ],
      "execution_count": 5,
      "outputs": []
    },
    {
      "cell_type": "markdown",
      "metadata": {
        "id": "j8_bXTiFTHnH"
      },
      "source": [
        "#### Dataset loader"
      ]
    },
    {
      "cell_type": "code",
      "metadata": {
        "id": "ZAcu8ZZzTNwm"
      },
      "source": [
        "def dataset_loader(stock_name):\n",
        "  import joblib\n",
        "  #Complete the dataset loader function\n",
        "  #dataset = data_reader.DataReader(stock_name, data_source=\"yahoo\")\n",
        "  dataset = joblib.load('../BASES/EURUSD_m5')\n",
        "  start_date = str(dataset.index[0]).split()[0]\n",
        "  end_date = str(dataset.index[-1]).split()[0]\n",
        "  \n",
        "  close = dataset['Close']\n",
        "\n",
        "  return close"
      ],
      "execution_count": 13,
      "outputs": []
    },
    {
      "cell_type": "markdown",
      "metadata": {
        "id": "eG5ueRzH1Kh8"
      },
      "source": [
        "### State creator"
      ]
    },
    {
      "cell_type": "code",
      "metadata": {
        "id": "zwTS0EyZ0O1k"
      },
      "source": [
        "def state_creator(data, timestep, window_size):\n",
        "  \n",
        "  starting_id = timestep - window_size + 1\n",
        "  \n",
        "  if starting_id >= 0:\n",
        "    windowed_data = data[starting_id:timestep+1]\n",
        "  else:\n",
        "    windowed_data = - starting_id * [data[0]] + list(data[0:timestep+1])\n",
        "    \n",
        "  state = []\n",
        "  for i in range(window_size - 1):\n",
        "    state.append(sigmoid(windowed_data[i+1] - windowed_data[i]))\n",
        "    \n",
        "  return np.array([state])"
      ],
      "execution_count": 14,
      "outputs": []
    },
    {
      "cell_type": "markdown",
      "metadata": {
        "id": "sV2a68QC34N-"
      },
      "source": [
        "### Loading a dataset"
      ]
    },
    {
      "cell_type": "code",
      "metadata": {
        "id": "acuYlqD83xcX"
      },
      "source": [
        "stock_name = \"AAPL\"\n",
        "data = dataset_loader(stock_name)"
      ],
      "execution_count": 15,
      "outputs": []
    },
    {
      "cell_type": "markdown",
      "metadata": {
        "id": "k_KUeBY14o8Z"
      },
      "source": [
        "## Stage 5: Training the AI Trader"
      ]
    },
    {
      "cell_type": "markdown",
      "metadata": {
        "id": "hkyW12-L4qo_"
      },
      "source": [
        "### Setting hyper parameters"
      ]
    },
    {
      "cell_type": "code",
      "metadata": {
        "id": "dKfuoXO84c5X"
      },
      "source": [
        "window_size = 10\n",
        "episodes = 1000\n",
        "\n",
        "batch_size = 32\n",
        "data_samples = len(data) - 1"
      ],
      "execution_count": 16,
      "outputs": []
    },
    {
      "cell_type": "markdown",
      "metadata": {
        "id": "h2kvNZx24sJ7"
      },
      "source": [
        "### Defining the Trader model"
      ]
    },
    {
      "cell_type": "code",
      "metadata": {
        "id": "M4LmF2V94trY"
      },
      "source": [
        "trader = AI_Trader(window_size)"
      ],
      "execution_count": 17,
      "outputs": []
    },
    {
      "cell_type": "code",
      "metadata": {
        "id": "y66jkzwW4wNV",
        "colab": {
          "base_uri": "https://localhost:8080/",
          "height": 316
        },
        "outputId": "6eef7a3a-6ec5-406b-fa8a-2e6f534415be"
      },
      "source": [
        "trader.model.summary()"
      ],
      "execution_count": 18,
      "outputs": [
        {
          "output_type": "stream",
          "name": "stdout",
          "text": [
            "Model: \"sequential_1\"\n_________________________________________________________________\nLayer (type)                 Output Shape              Param #   \n=================================================================\ndense_4 (Dense)              (None, 32)                352       \n_________________________________________________________________\ndense_5 (Dense)              (None, 64)                2112      \n_________________________________________________________________\ndense_6 (Dense)              (None, 128)               8320      \n_________________________________________________________________\ndense_7 (Dense)              (None, 3)                 387       \n=================================================================\nTotal params: 11,171\nTrainable params: 11,171\nNon-trainable params: 0\n_________________________________________________________________\n"
          ]
        }
      ]
    },
    {
      "cell_type": "markdown",
      "metadata": {
        "id": "QRip_rac5zHS"
      },
      "source": [
        "### Training loop"
      ]
    },
    {
      "cell_type": "code",
      "metadata": {
        "id": "b0tytPl-5hdg",
        "colab": {
          "base_uri": "https://localhost:8080/",
          "height": 5211
        },
        "outputId": "d391ac9c-2a60-443b-cfd7-a0abbb0e1ef5"
      },
      "source": [
        "for episode in range(1, episodes + 1):\n",
        "  \n",
        "  print(\"Episode: {}/{}\".format(episode, episodes))\n",
        "  \n",
        "  state = state_creator(data, 0, window_size + 1)\n",
        "  \n",
        "  total_profit = 0\n",
        "  trader.inventory = []\n",
        "  \n",
        "  for t in tqdm(range(data_samples)):\n",
        "    \n",
        "    action = trader.trade(state)\n",
        "    \n",
        "    next_state = state_creator(data, t+1, window_size + 1)\n",
        "    reward = 0\n",
        "    \n",
        "    if action == 1: #Buying\n",
        "      trader.inventory.append(data[t])\n",
        "      print(\"AI Trader bought: \", stocks_price_format(data[t]))\n",
        "      \n",
        "    elif action == 2 and len(trader.inventory) > 0: #Selling\n",
        "      buy_price = trader.inventory.pop(0)\n",
        "      \n",
        "      reward = max(data[t] - buy_price, 0)\n",
        "      total_profit += data[t] - buy_price\n",
        "      print(\"AI Trader sold: \", stocks_price_format(data[t]), \" Profit: \" + stocks_price_format(data[t] - buy_price) )\n",
        "      \n",
        "    if t == data_samples - 1:\n",
        "      done = True\n",
        "    else:\n",
        "      done = False\n",
        "      \n",
        "    trader.memory.append((state, action, reward, next_state, done))\n",
        "    \n",
        "    state = next_state\n",
        "    \n",
        "    if done:\n",
        "      print(\"########################\")\n",
        "      print(\"TOTAL PROFIT: {}\".format(total_profit))\n",
        "      print(\"########################\")\n",
        "    \n",
        "    if len(trader.memory) > batch_size:\n",
        "      trader.batch_train(batch_size)\n",
        "      \n",
        "  if episode % 10 == 0:\n",
        "    trader.model.save(\"ai_trader_{}.h5\".format(episode))\n",
        "    "
      ],
      "execution_count": 12,
      "outputs": [
        {
          "output_type": "stream",
          "name": "stderr",
          "text": [
            "  0%|          | 0/1257 [00:00<?, ?it/s]Episode: 1/1000\n",
            "AI Trader bought:  $ 23.549999\n",
            "AI Trader sold:  $ 23.805000  Profit: $ 0.255001\n",
            "AI Trader bought:  $ 24.107500\n",
            "AI Trader sold:  $ 24.475000  Profit: $ 0.367500\n",
            "AI Trader bought:  $ 24.480000\n",
            "AI Trader sold:  $ 24.657499  Profit: $ 0.177500\n",
            "AI Trader bought:  $ 24.757500\n",
            "AI Trader bought:  $ 24.735001\n",
            "AI Trader bought:  $ 24.912500\n",
            "AI Trader sold:  $ 24.334999  Profit: - $ 0.422501\n",
            "AI Trader bought:  $ 24.365000\n",
            "AI Trader bought:  $ 24.285000\n",
            "AI Trader bought:  $ 24.387501\n",
            "AI Trader bought:  $ 23.775000\n",
            "AI Trader sold:  $ 23.887501  Profit: - $ 0.847500\n",
            "AI Trader bought:  $ 24.025000\n",
            "AI Trader bought:  $ 23.350000\n",
            "AI Trader sold:  $ 23.397499  Profit: - $ 1.515001\n",
            "AI Trader bought:  $ 23.900000\n",
            "  3%|▎         | 34/1257 [00:04<13:46,  1.48it/s]AI Trader bought:  $ 23.747499\n",
            "  3%|▎         | 35/1257 [00:06<22:09,  1.09s/it]AI Trader sold:  $ 23.882500  Profit: - $ 0.482500\n",
            "  3%|▎         | 36/1257 [00:08<28:47,  1.41s/it]AI Trader sold:  $ 23.985001  Profit: - $ 0.299999\n",
            "  3%|▎         | 37/1257 [00:10<32:37,  1.60s/it]AI Trader sold:  $ 24.170000  Profit: - $ 0.217501\n",
            "  3%|▎         | 38/1257 [00:13<35:31,  1.75s/it]AI Trader sold:  $ 24.245001  Profit: $ 0.470001\n",
            "  3%|▎         | 39/1257 [00:15<37:21,  1.84s/it]AI Trader sold:  $ 24.355000  Profit: $ 0.330000\n",
            "  3%|▎         | 41/1257 [00:19<39:37,  1.96s/it]AI Trader bought:  $ 24.697500\n",
            "  3%|▎         | 43/1257 [00:23<41:06,  2.03s/it]AI Trader bought:  $ 24.957500\n",
            "  4%|▍         | 48/1257 [00:34<44:43,  2.22s/it]AI Trader sold:  $ 24.334999  Profit: $ 0.984999\n",
            "  4%|▍         | 50/1257 [00:39<49:33,  2.46s/it]AI Trader bought:  $ 25.737499\n",
            "  4%|▍         | 51/1257 [00:42<50:48,  2.53s/it]AI Trader bought:  $ 26.084999\n",
            "  4%|▍         | 52/1257 [00:45<50:50,  2.53s/it]AI Trader bought:  $ 26.052500\n",
            "  5%|▍         | 57/1257 [00:56<46:17,  2.31s/it]AI Trader sold:  $ 26.870001  Profit: $ 2.970001\n",
            "  5%|▍         | 59/1257 [01:00<45:14,  2.27s/it]AI Trader sold:  $ 27.202499  Profit: $ 3.455000\n",
            "  5%|▍         | 60/1257 [01:03<45:01,  2.26s/it]AI Trader sold:  $ 27.000000  Profit: $ 2.302500\n",
            "  5%|▍         | 62/1257 [01:07<44:43,  2.25s/it]AI Trader sold:  $ 27.045000  Profit: $ 2.087500\n",
            "  5%|▌         | 64/1257 [01:12<44:49,  2.25s/it]AI Trader sold:  $ 27.344999  Profit: $ 1.607500\n",
            "  5%|▌         | 67/1257 [01:18<44:33,  2.25s/it]AI Trader bought:  $ 27.340000\n",
            "  5%|▌         | 68/1257 [01:21<45:04,  2.27s/it]AI Trader sold:  $ 27.127501  Profit: $ 1.042501\n",
            "  6%|▌         | 70/1257 [01:25<44:33,  2.25s/it]AI Trader sold:  $ 27.007500  Profit: $ 0.955000\n",
            "  6%|▌         | 71/1257 [01:27<44:22,  2.24s/it]AI Trader bought:  $ 26.892500\n",
            "  6%|▌         | 73/1257 [01:32<44:42,  2.27s/it]AI Trader sold:  $ 26.705000  Profit: - $ 0.635000\n",
            "  6%|▌         | 74/1257 [01:34<44:37,  2.26s/it]AI Trader sold:  $ 26.500000  Profit: - $ 0.392500\n",
            "  6%|▌         | 75/1257 [01:36<44:30,  2.26s/it]AI Trader bought:  $ 26.525000\n",
            "  6%|▌         | 76/1257 [01:39<44:29,  2.26s/it]AI Trader sold:  $ 26.682501  Profit: $ 0.157501\n",
            "  7%|▋         | 83/1257 [01:54<43:57,  2.25s/it]AI Trader bought:  $ 26.987499\n",
            "  7%|▋         | 84/1257 [01:57<44:21,  2.27s/it]AI Trader sold:  $ 27.942499  Profit: $ 0.955000\n",
            "  7%|▋         | 85/1257 [01:59<44:15,  2.27s/it]AI Trader bought:  $ 28.892500\n",
            "  7%|▋         | 86/1257 [02:01<44:05,  2.26s/it]AI Trader sold:  $ 28.730000  Profit: - $ 0.162500\n",
            "  7%|▋         | 93/1257 [02:17<43:28,  2.24s/it]AI Trader bought:  $ 28.272499\n",
            "  7%|▋         | 94/1257 [02:19<43:20,  2.24s/it]AI Trader bought:  $ 28.487499\n",
            "  8%|▊         | 95/1257 [02:21<43:46,  2.26s/it]AI Trader sold:  $ 28.045000  Profit: - $ 0.227499\n",
            "  8%|▊         | 97/1257 [02:26<43:46,  2.26s/it]AI Trader bought:  $ 28.129999\n",
            "  8%|▊         | 99/1257 [02:31<43:29,  2.25s/it]AI Trader sold:  $ 28.262501  Profit: - $ 0.224998\n",
            "  8%|▊         | 100/1257 [02:33<44:10,  2.29s/it]AI Trader bought:  $ 28.472500\n",
            "  8%|▊         | 101/1257 [02:35<44:04,  2.29s/it]AI Trader sold:  $ 28.514999  Profit: $ 0.385000\n",
            "  8%|▊         | 102/1257 [02:37<43:51,  2.28s/it]AI Trader sold:  $ 29.012501  Profit: $ 0.540001\n",
            "  9%|▉         | 111/1257 [02:58<43:28,  2.28s/it]AI Trader bought:  $ 29.150000\n",
            "  9%|▉         | 112/1257 [03:00<43:23,  2.27s/it]AI Trader sold:  $ 29.412500  Profit: $ 0.262501\n",
            " 10%|▉         | 121/1257 [03:21<43:12,  2.28s/it]AI Trader bought:  $ 27.209999\n",
            " 10%|▉         | 123/1257 [03:25<42:48,  2.26s/it]AI Trader bought:  $ 27.764999\n",
            " 10%|▉         | 124/1257 [03:27<42:40,  2.26s/it]AI Trader sold:  $ 27.719999  Profit: $ 0.510000\n",
            " 10%|▉         | 125/1257 [03:30<42:56,  2.28s/it]AI Trader sold:  $ 26.947500  Profit: - $ 0.817499\n",
            " 10%|█         | 126/1257 [03:32<43:20,  2.30s/it]AI Trader bought:  $ 27.107500\n",
            " 10%|█         | 127/1257 [03:34<43:07,  2.29s/it]AI Trader sold:  $ 26.427500  Profit: - $ 0.680000\n",
            " 10%|█         | 130/1257 [03:41<42:37,  2.27s/it]AI Trader bought:  $ 27.487499\n",
            " 10%|█         | 131/1257 [03:43<42:37,  2.27s/it]AI Trader sold:  $ 27.514999  Profit: $ 0.027500\n",
            " 11%|█         | 139/1257 [04:02<42:28,  2.28s/it]AI Trader bought:  $ 27.372499\n",
            " 11%|█         | 140/1257 [04:04<42:36,  2.29s/it]AI Trader bought:  $ 27.475000\n",
            " 11%|█         | 141/1257 [04:06<42:36,  2.29s/it]AI Trader bought:  $ 27.277500\n",
            " 11%|█▏        | 142/1257 [04:09<43:02,  2.32s/it]AI Trader sold:  $ 27.487499  Profit: $ 0.115000\n",
            " 11%|█▏        | 143/1257 [04:11<42:37,  2.30s/it]AI Trader sold:  $ 27.757500  Profit: $ 0.282499\n",
            " 11%|█▏        | 144/1257 [04:13<42:41,  2.30s/it]AI Trader sold:  $ 28.030001  Profit: $ 0.752501\n",
            " 12%|█▏        | 145/1257 [04:15<42:35,  2.30s/it]AI Trader bought:  $ 28.487499\n",
            " 12%|█▏        | 146/1257 [04:18<42:23,  2.29s/it]AI Trader bought:  $ 28.325001\n",
            " 12%|█▏        | 147/1257 [04:20<42:41,  2.31s/it]AI Trader bought:  $ 28.797501\n",
            " 12%|█▏        | 148/1257 [04:22<42:18,  2.29s/it]AI Trader sold:  $ 28.797501  Profit: $ 0.310001\n",
            " 12%|█▏        | 149/1257 [04:25<42:02,  2.28s/it]AI Trader bought:  $ 28.955000\n",
            " 12%|█▏        | 150/1257 [04:27<41:58,  2.28s/it]AI Trader sold:  $ 28.992500  Profit: $ 0.667500\n",
            " 12%|█▏        | 151/1257 [04:29<42:02,  2.28s/it]AI Trader sold:  $ 29.160000  Profit: $ 0.362499\n",
            " 12%|█▏        | 152/1257 [04:31<41:58,  2.28s/it]AI Trader sold:  $ 29.237499  Profit: $ 0.282499\n",
            " 14%|█▍        | 177/1257 [05:28<39:33,  2.20s/it]AI Trader bought:  $ 30.487499\n",
            " 14%|█▍        | 178/1257 [05:30<38:47,  2.16s/it]AI Trader bought:  $ 30.407499\n",
            " 14%|█▍        | 179/1257 [05:33<38:41,  2.15s/it]AI Trader bought:  $ 30.337500\n",
            " 14%|█▍        | 180/1257 [05:35<37:56,  2.11s/it]AI Trader bought:  $ 32.187500\n",
            " 14%|█▍        | 181/1257 [05:37<37:29,  2.09s/it]AI Trader sold:  $ 32.132500  Profit: $ 1.645000\n",
            " 14%|█▍        | 182/1257 [05:39<37:03,  2.07s/it]AI Trader sold:  $ 32.270000  Profit: $ 1.862501\n",
            " 15%|█▍        | 183/1257 [05:41<36:46,  2.05s/it]AI Trader sold:  $ 32.572498  Profit: $ 2.234999\n",
            " 15%|█▍        | 184/1257 [05:43<37:18,  2.09s/it]AI Trader sold:  $ 32.882500  Profit: $ 0.695000\n",
            " 15%|█▍        | 185/1257 [05:45<36:47,  2.06s/it]AI Trader bought:  $ 33.009998\n",
            " 15%|█▍        | 186/1257 [05:47<36:16,  2.03s/it]AI Trader sold:  $ 33.105000  Profit: $ 0.095001\n",
            " 16%|█▌        | 199/1257 [06:13<35:23,  2.01s/it]AI Trader bought:  $ 34.947498\n",
            " 16%|█▌        | 200/1257 [06:15<35:51,  2.04s/it]AI Trader sold:  $ 34.740002  Profit: - $ 0.207497\n",
            " 16%|█▋        | 205/1257 [06:25<35:42,  2.04s/it]AI Trader bought:  $ 34.669998\n",
            " 16%|█▋        | 206/1257 [06:27<35:31,  2.03s/it]AI Trader sold:  $ 34.785000  Profit: $ 0.115002\n",
            " 17%|█▋        | 209/1257 [06:33<35:01,  2.01s/it]AI Trader bought:  $ 35.115002\n",
            " 17%|█▋        | 210/1257 [06:35<35:07,  2.01s/it]AI Trader bought:  $ 35.172501\n",
            " 17%|█▋        | 212/1257 [06:39<35:11,  2.02s/it]AI Trader bought:  $ 35.365002\n",
            " 17%|█▋        | 213/1257 [06:41<35:17,  2.03s/it]AI Trader bought:  $ 34.959999\n",
            " 17%|█▋        | 214/1257 [06:43<35:18,  2.03s/it]AI Trader bought:  $ 35.355000\n",
            " 17%|█▋        | 215/1257 [06:45<35:08,  2.02s/it]AI Trader bought:  $ 35.230000\n",
            " 17%|█▋        | 217/1257 [06:49<35:19,  2.04s/it]AI Trader bought:  $ 35.220001\n",
            " 18%|█▊        | 220/1257 [06:55<34:36,  2.00s/it]AI Trader bought:  $ 35.982498\n",
            " 18%|█▊        | 221/1257 [06:58<35:05,  2.03s/it]AI Trader bought:  $ 35.915001\n",
            " 18%|█▊        | 223/1257 [07:01<34:32,  2.00s/it]AI Trader bought:  $ 36.192501\n",
            " 18%|█▊        | 224/1257 [07:03<34:27,  2.00s/it]AI Trader bought:  $ 36.005001\n",
            " 18%|█▊        | 225/1257 [07:05<34:21,  2.00s/it]AI Trader sold:  $ 35.915001  Profit: $ 0.799999\n",
            " 18%|█▊        | 226/1257 [07:08<34:59,  2.04s/it]AI Trader sold:  $ 35.834999  Profit: $ 0.662498\n",
            " 18%|█▊        | 227/1257 [07:10<34:39,  2.02s/it]AI Trader sold:  $ 35.792500  Profit: $ 0.427498\n",
            " 18%|█▊        | 228/1257 [07:12<34:23,  2.01s/it]AI Trader sold:  $ 35.407501  Profit: $ 0.447502\n",
            " 18%|█▊        | 230/1257 [07:16<34:14,  2.00s/it]AI Trader bought:  $ 35.262501\n",
            " 18%|█▊        | 231/1257 [07:18<34:07,  2.00s/it]AI Trader sold:  $ 35.457500  Profit: $ 0.102501\n",
            " 18%|█▊        | 232/1257 [07:20<34:42,  2.03s/it]AI Trader sold:  $ 35.299999  Profit: $ 0.070000\n",
            " 19%|█▊        | 234/1257 [07:24<34:09,  2.00s/it]AI Trader sold:  $ 35.610001  Profit: $ 0.389999\n",
            " 19%|█▊        | 235/1257 [07:26<33:57,  1.99s/it]AI Trader sold:  $ 35.567501  Profit: - $ 0.414997\n",
            " 19%|█▉        | 236/1257 [07:28<34:00,  2.00s/it]AI Trader sold:  $ 35.910000  Profit: - $ 0.005001\n",
            " 19%|█▉        | 237/1257 [07:30<34:42,  2.04s/it]AI Trader sold:  $ 36.132500  Profit: - $ 0.060001\n",
            " 19%|█▉        | 238/1257 [07:32<34:26,  2.03s/it]AI Trader sold:  $ 35.919998  Profit: - $ 0.085003\n",
            " 19%|█▉        | 239/1257 [07:34<34:20,  2.02s/it]AI Trader bought:  $ 35.947498\n",
            " 19%|█▉        | 240/1257 [07:36<34:08,  2.01s/it]AI Trader sold:  $ 35.912498  Profit: $ 0.649998\n",
            " 19%|█▉        | 241/1257 [07:38<34:02,  2.01s/it]AI Trader sold:  $ 36.645000  Profit: $ 0.697502\n",
            " 20%|█▉        | 250/1257 [07:56<33:52,  2.02s/it]AI Trader bought:  $ 39.025002\n",
            " 20%|█▉        | 251/1257 [07:58<33:40,  2.01s/it]AI Trader sold:  $ 38.924999  Profit: - $ 0.100002\n",
            " 21%|██        | 258/1257 [08:12<34:04,  2.05s/it]AI Trader bought:  $ 38.334999\n",
            " 21%|██        | 259/1257 [08:14<33:48,  2.03s/it]AI Trader bought:  $ 38.467499\n",
            " 21%|██        | 261/1257 [08:18<33:23,  2.01s/it]AI Trader sold:  $ 38.417500  Profit: $ 0.082500\n",
            " 21%|██        | 262/1257 [08:20<33:19,  2.01s/it]AI Trader bought:  $ 38.189999\n",
            " 21%|██        | 263/1257 [08:22<33:45,  2.04s/it]AI Trader sold:  $ 38.294998  Profit: - $ 0.172501\n",
            " 21%|██        | 264/1257 [08:24<33:42,  2.04s/it]AI Trader sold:  $ 38.862499  Profit: $ 0.672501\n",
            " 22%|██▏       | 277/1257 [08:51<32:53,  2.01s/it]AI Trader bought:  $ 36.467499\n",
            " 22%|██▏       | 279/1257 [08:55<33:10,  2.04s/it]AI Trader bought:  $ 36.570000\n",
            " 22%|██▏       | 280/1257 [08:57<32:54,  2.02s/it]AI Trader bought:  $ 36.455002\n",
            " 22%|██▏       | 281/1257 [08:59<32:50,  2.02s/it]AI Trader bought:  $ 35.932499\n",
            " 22%|██▏       | 282/1257 [09:01<32:51,  2.02s/it]AI Trader sold:  $ 36.457500  Profit: - $ 0.009998\n",
            " 23%|██▎       | 283/1257 [09:03<32:41,  2.01s/it]AI Trader sold:  $ 35.919998  Profit: - $ 0.650002\n",
            " 23%|██▎       | 284/1257 [09:05<33:14,  2.05s/it]AI Trader sold:  $ 36.005001  Profit: - $ 0.450001\n",
            " 23%|██▎       | 285/1257 [09:07<32:54,  2.03s/it]AI Trader bought:  $ 35.875000\n",
            " 23%|██▎       | 286/1257 [09:09<32:38,  2.02s/it]AI Trader sold:  $ 36.022499  Profit: $ 0.090000\n",
            " 23%|██▎       | 287/1257 [09:11<32:34,  2.01s/it]AI Trader sold:  $ 35.682499  Profit: - $ 0.192501\n",
            " 23%|██▎       | 292/1257 [09:21<32:15,  2.01s/it]AI Trader bought:  $ 36.942501\n",
            " 23%|██▎       | 295/1257 [09:27<32:36,  2.03s/it]AI Trader bought:  $ 37.520000\n",
            " 24%|██▎       | 296/1257 [09:29<32:28,  2.03s/it]AI Trader sold:  $ 37.755001  Profit: $ 0.812500\n",
            " 24%|██▎       | 297/1257 [09:31<32:22,  2.02s/it]AI Trader sold:  $ 37.584999  Profit: $ 0.064999\n",
            " 24%|██▍       | 302/1257 [09:41<32:13,  2.02s/it]AI Trader bought:  $ 37.639999\n",
            " 24%|██▍       | 303/1257 [09:43<32:11,  2.02s/it]AI Trader sold:  $ 37.375000  Profit: - $ 0.264999\n",
            " 24%|██▍       | 307/1257 [09:51<31:56,  2.02s/it]AI Trader bought:  $ 38.892502\n",
            " 25%|██▍       | 308/1257 [09:53<31:51,  2.01s/it]AI Trader sold:  $ 39.097500  Profit: $ 0.204998\n",
            " 25%|██▍       | 311/1257 [10:00<32:09,  2.04s/it]AI Trader bought:  $ 40.264999\n",
            " 25%|██▍       | 312/1257 [10:02<31:58,  2.03s/it]AI Trader bought:  $ 38.830002\n",
            " 25%|██▍       | 313/1257 [10:04<31:55,  2.03s/it]AI Trader sold:  $ 39.369999  Profit: - $ 0.895000\n",
            " 25%|██▍       | 314/1257 [10:06<31:46,  2.02s/it]AI Trader sold:  $ 39.962502  Profit: $ 1.132500\n",
            " 25%|██▌       | 320/1257 [10:18<31:20,  2.01s/it]AI Trader bought:  $ 39.945000\n",
            " 26%|██▌       | 321/1257 [10:20<31:51,  2.04s/it]AI Trader bought:  $ 39.994999\n",
            " 26%|██▌       | 322/1257 [10:22<31:27,  2.02s/it]AI Trader sold:  $ 39.817501  Profit: - $ 0.127499\n",
            " 26%|██▌       | 323/1257 [10:24<31:25,  2.02s/it]AI Trader sold:  $ 39.965000  Profit: - $ 0.029999\n",
            " 27%|██▋       | 336/1257 [10:51<31:39,  2.06s/it]AI Trader bought:  $ 39.570000\n",
            " 27%|██▋       | 337/1257 [10:53<32:03,  2.09s/it]AI Trader sold:  $ 39.970001  Profit: $ 0.400002\n",
            " 27%|██▋       | 339/1257 [10:57<31:12,  2.04s/it]AI Trader bought:  $ 39.682499\n",
            " 27%|██▋       | 340/1257 [10:59<31:05,  2.03s/it]AI Trader bought:  $ 39.017502\n",
            " 27%|██▋       | 341/1257 [11:01<31:01,  2.03s/it]AI Trader sold:  $ 38.347500  Profit: - $ 1.334999\n",
            " 27%|██▋       | 342/1257 [11:03<31:21,  2.06s/it]AI Trader sold:  $ 37.972500  Profit: - $ 1.045002\n",
            " 27%|██▋       | 343/1257 [11:05<31:31,  2.07s/it]AI Trader bought:  $ 37.637501\n",
            " 27%|██▋       | 344/1257 [11:07<31:20,  2.06s/it]AI Trader sold:  $ 38.285000  Profit: $ 0.647499\n",
            " 28%|██▊       | 346/1257 [11:11<31:19,  2.06s/it]AI Trader bought:  $ 38.320000\n",
            " 28%|██▊       | 349/1257 [11:17<31:36,  2.09s/it]AI Trader bought:  $ 38.619999\n",
            " 28%|██▊       | 351/1257 [11:22<31:15,  2.07s/it]AI Trader sold:  $ 38.847500  Profit: $ 0.527500\n",
            " 28%|██▊       | 352/1257 [11:24<32:02,  2.12s/it]AI Trader sold:  $ 38.825001  Profit: $ 0.205002\n",
            " 28%|██▊       | 357/1257 [11:34<30:53,  2.06s/it]AI Trader bought:  $ 39.247501\n",
            " 28%|██▊       | 358/1257 [11:36<31:11,  2.08s/it]AI Trader sold:  $ 39.970001  Profit: $ 0.722500\n",
            " 29%|██▊       | 361/1257 [11:42<30:27,  2.04s/it]AI Trader bought:  $ 38.994999\n",
            " 29%|██▉       | 362/1257 [11:44<30:36,  2.05s/it]AI Trader sold:  $ 39.062500  Profit: $ 0.067501\n",
            " 29%|██▉       | 365/1257 [11:51<30:39,  2.06s/it]AI Trader bought:  $ 39.102501\n",
            " 29%|██▉       | 366/1257 [11:53<30:40,  2.07s/it]AI Trader sold:  $ 39.352501  Profit: $ 0.250000\n",
            " 30%|██▉       | 371/1257 [12:03<29:54,  2.03s/it]AI Trader bought:  $ 42.027500\n",
            " 30%|██▉       | 372/1257 [12:05<29:47,  2.02s/it]AI Trader sold:  $ 43.125000  Profit: $ 1.097500\n",
            " 30%|██▉       | 373/1257 [12:07<29:37,  2.01s/it]AI Trader bought:  $ 43.562500\n",
            " 30%|██▉       | 375/1257 [12:11<29:58,  2.04s/it]AI Trader bought:  $ 44.060001\n",
            " 30%|██▉       | 376/1257 [12:13<29:55,  2.04s/it]AI Trader sold:  $ 43.970001  Profit: $ 0.407501\n",
            " 30%|██▉       | 377/1257 [12:15<29:59,  2.05s/it]AI Trader bought:  $ 43.667500\n",
            " 30%|███       | 378/1257 [12:17<29:45,  2.03s/it]AI Trader bought:  $ 43.492500\n",
            " 30%|███       | 379/1257 [12:19<30:06,  2.06s/it]AI Trader sold:  $ 42.834999  Profit: - $ 1.225002\n",
            " 30%|███       | 380/1257 [12:21<29:52,  2.04s/it]AI Trader bought:  $ 42.270000\n",
            " 30%|███       | 381/1257 [12:23<29:42,  2.03s/it]AI Trader sold:  $ 42.775002  Profit: - $ 0.892498\n",
            " 30%|███       | 382/1257 [12:25<29:32,  2.03s/it]AI Trader sold:  $ 42.537498  Profit: - $ 0.955002\n",
            " 30%|███       | 383/1257 [12:27<29:28,  2.02s/it]AI Trader sold:  $ 42.494999  Profit: $ 0.224998\n",
            " 31%|███       | 384/1257 [12:29<29:57,  2.06s/it]AI Trader bought:  $ 43.285000\n",
            " 31%|███       | 385/1257 [12:31<29:33,  2.03s/it]AI Trader sold:  $ 43.740002  Profit: $ 0.455002\n",
            " 31%|███       | 389/1257 [12:40<29:32,  2.04s/it]AI Trader bought:  $ 42.369999\n",
            " 31%|███       | 390/1257 [12:42<29:17,  2.03s/it]AI Trader sold:  $ 42.962502  Profit: $ 0.592503\n",
            " 31%|███       | 391/1257 [12:44<29:10,  2.02s/it]AI Trader bought:  $ 42.762501\n",
            " 31%|███       | 392/1257 [12:46<29:07,  2.02s/it]AI Trader sold:  $ 42.450001  Profit: - $ 0.312500\n",
            " 31%|███▏      | 393/1257 [12:48<29:00,  2.01s/it]AI Trader bought:  $ 42.410000\n",
            " 31%|███▏      | 394/1257 [12:50<28:53,  2.01s/it]AI Trader sold:  $ 42.252499  Profit: - $ 0.157501\n",
            " 32%|███▏      | 403/1257 [13:08<28:27,  2.00s/it]AI Trader bought:  $ 43.634998\n",
            " 32%|███▏      | 404/1257 [13:10<28:20,  1.99s/it]AI Trader sold:  $ 43.587502  Profit: - $ 0.047497\n",
            " 32%|███▏      | 408/1257 [13:18<28:22,  2.01s/it]AI Trader bought:  $ 42.650002\n",
            " 33%|███▎      | 409/1257 [13:20<28:17,  2.00s/it]AI Trader sold:  $ 42.770000  Profit: $ 0.119999\n",
            " 33%|███▎      | 410/1257 [13:22<28:45,  2.04s/it]AI Trader bought:  $ 42.307499\n",
            " 33%|███▎      | 411/1257 [13:24<28:34,  2.03s/it]AI Trader bought:  $ 43.064999\n",
            " 33%|███▎      | 412/1257 [13:26<28:30,  2.02s/it]AI Trader bought:  $ 43.057499\n",
            " 33%|███▎      | 413/1257 [13:28<28:23,  2.02s/it]AI Trader bought:  $ 43.257500\n",
            " 33%|███▎      | 415/1257 [13:32<28:04,  2.00s/it]AI Trader bought:  $ 43.587502\n",
            " 33%|███▎      | 416/1257 [13:34<28:36,  2.04s/it]AI Trader bought:  $ 43.582500\n",
            " 33%|███▎      | 417/1257 [13:36<28:26,  2.03s/it]AI Trader bought:  $ 43.572498\n",
            " 33%|███▎      | 419/1257 [13:40<28:02,  2.01s/it]AI Trader bought:  $ 44.272499\n",
            " 33%|███▎      | 421/1257 [13:44<28:30,  2.05s/it]AI Trader sold:  $ 44.775002  Profit: $ 2.467503\n",
            " 34%|███▎      | 422/1257 [13:46<28:15,  2.03s/it]AI Trader sold:  $ 44.814999  Profit: $ 1.750000\n",
            " 34%|███▎      | 424/1257 [13:50<27:46,  2.00s/it]AI Trader sold:  $ 44.250000  Profit: $ 1.192501\n",
            " 34%|███▍      | 426/1257 [13:54<28:12,  2.04s/it]AI Trader sold:  $ 43.555000  Profit: $ 0.297501\n",
            " 34%|███▍      | 427/1257 [13:56<27:59,  2.02s/it]AI Trader sold:  $ 42.777500  Profit: - $ 0.810001\n",
            " 34%|███▍      | 428/1257 [13:58<27:53,  2.02s/it]AI Trader sold:  $ 42.877499  Profit: - $ 0.705002\n",
            " 34%|███▍      | 429/1257 [14:00<27:50,  2.02s/it]AI Trader sold:  $ 41.990002  Profit: - $ 1.582497\n",
            " 34%|███▍      | 431/1257 [14:04<27:34,  2.00s/it]AI Trader sold:  $ 41.857498  Profit: - $ 2.415001\n",
            " 36%|███▌      | 453/1257 [14:49<27:04,  2.02s/it]AI Trader bought:  $ 44.205002\n",
            " 36%|███▌      | 454/1257 [14:51<26:55,  2.01s/it]AI Trader bought:  $ 44.167500\n",
            " 36%|███▌      | 455/1257 [14:53<26:50,  2.01s/it]AI Trader bought:  $ 43.757500\n",
            " 36%|███▋      | 456/1257 [14:55<26:53,  2.01s/it]AI Trader bought:  $ 44.235001\n",
            " 36%|███▋      | 457/1257 [14:57<26:48,  2.01s/it]AI Trader bought:  $ 44.994999\n",
            " 36%|███▋      | 458/1257 [14:59<27:19,  2.05s/it]AI Trader bought:  $ 45.430000\n",
            " 37%|███▋      | 461/1257 [15:05<26:53,  2.03s/it]AI Trader bought:  $ 44.662498\n",
            " 37%|███▋      | 462/1257 [15:07<26:46,  2.02s/it]AI Trader bought:  $ 44.505001\n",
            " 37%|███▋      | 463/1257 [15:09<27:10,  2.05s/it]AI Trader bought:  $ 43.825001\n",
            " 37%|███▋      | 464/1257 [15:11<26:53,  2.03s/it]AI Trader bought:  $ 43.810001\n",
            " 37%|███▋      | 466/1257 [15:15<26:31,  2.01s/it]AI Trader bought:  $ 42.212502\n",
            " 37%|███▋      | 467/1257 [15:17<26:26,  2.01s/it]AI Trader bought:  $ 41.235001\n",
            " 37%|███▋      | 468/1257 [15:19<26:48,  2.04s/it]AI Trader sold:  $ 43.192501  Profit: - $ 1.012501\n",
            " 37%|███▋      | 469/1257 [15:21<26:32,  2.02s/it]AI Trader bought:  $ 42.084999\n",
            " 37%|███▋      | 470/1257 [15:23<26:27,  2.02s/it]AI Trader bought:  $ 41.619999\n",
            " 37%|███▋      | 471/1257 [15:25<26:20,  2.01s/it]AI Trader bought:  $ 41.945000\n",
            " 38%|███▊      | 472/1257 [15:27<26:13,  2.00s/it]AI Trader bought:  $ 41.669998\n",
            " 38%|███▊      | 473/1257 [15:29<26:39,  2.04s/it]AI Trader sold:  $ 42.097500  Profit: - $ 2.070000\n",
            " 38%|███▊      | 475/1257 [15:33<26:19,  2.02s/it]AI Trader sold:  $ 43.200001  Profit: - $ 0.557499\n",
            " 38%|███▊      | 476/1257 [15:35<26:21,  2.03s/it]AI Trader bought:  $ 42.095001\n",
            " 38%|███▊      | 477/1257 [15:37<26:13,  2.02s/it]AI Trader bought:  $ 42.512501\n",
            " 38%|███▊      | 478/1257 [15:39<26:08,  2.01s/it]AI Trader bought:  $ 43.312500\n",
            " 38%|███▊      | 479/1257 [15:41<26:35,  2.05s/it]AI Trader bought:  $ 43.110001\n",
            " 38%|███▊      | 480/1257 [15:44<26:29,  2.05s/it]AI Trader bought:  $ 43.535000\n",
            " 38%|███▊      | 482/1257 [15:47<25:59,  2.01s/it]AI Trader sold:  $ 43.955002  Profit: - $ 0.279999\n",
            " 38%|███▊      | 483/1257 [15:49<25:54,  2.01s/it]AI Trader sold:  $ 44.560001  Profit: - $ 0.434998\n",
            " 39%|███▊      | 484/1257 [15:52<26:15,  2.04s/it]AI Trader bought:  $ 44.459999\n",
            " 39%|███▊      | 485/1257 [15:54<26:04,  2.03s/it]AI Trader bought:  $ 43.200001\n",
            " 39%|███▊      | 486/1257 [15:56<25:54,  2.02s/it]AI Trader bought:  $ 41.430000\n",
            " 39%|███▊      | 487/1257 [15:58<25:48,  2.01s/it]AI Trader bought:  $ 41.310001\n",
            " 39%|███▉      | 488/1257 [16:00<25:43,  2.01s/it]AI Trader bought:  $ 40.735001\n",
            " 39%|███▉      | 489/1257 [16:02<26:11,  2.05s/it]AI Trader bought:  $ 40.912498\n",
            " 39%|███▉      | 490/1257 [16:04<26:03,  2.04s/it]AI Trader bought:  $ 41.055000\n",
            " 39%|███▉      | 494/1257 [16:12<25:26,  2.00s/it]AI Trader bought:  $ 44.142502\n",
            " 39%|███▉      | 495/1257 [16:14<25:52,  2.04s/it]AI Trader bought:  $ 44.222500\n",
            " 39%|███▉      | 496/1257 [16:16<25:40,  2.02s/it]AI Trader sold:  $ 45.957500  Profit: $ 0.527500\n",
            " 40%|███▉      | 498/1257 [16:20<25:24,  2.01s/it]AI Trader bought:  $ 46.512501\n",
            " 40%|███▉      | 500/1257 [16:24<25:47,  2.04s/it]AI Trader sold:  $ 47.509998  Profit: $ 2.847500\n",
            " 40%|███▉      | 501/1257 [16:26<25:35,  2.03s/it]AI Trader bought:  $ 47.147499\n",
            " 40%|███▉      | 502/1257 [16:28<25:34,  2.03s/it]AI Trader sold:  $ 47.037498  Profit: $ 2.532497\n",
            " 40%|████      | 503/1257 [16:30<25:33,  2.03s/it]AI Trader sold:  $ 46.610001  Profit: $ 2.785000\n",
            " 40%|████      | 504/1257 [16:32<25:26,  2.03s/it]AI Trader sold:  $ 47.044998  Profit: $ 3.234997\n",
            " 40%|████      | 505/1257 [16:34<26:01,  2.08s/it]AI Trader sold:  $ 46.747501  Profit: $ 4.535000\n",
            " 40%|████      | 506/1257 [16:36<25:51,  2.07s/it]AI Trader sold:  $ 46.577499  Profit: $ 5.342499\n",
            " 40%|████      | 507/1257 [16:38<25:38,  2.05s/it]AI Trader bought:  $ 46.907501\n",
            " 41%|████      | 510/1257 [16:44<25:42,  2.06s/it]AI Trader sold:  $ 47.037498  Profit: $ 4.952499\n",
            " 41%|████      | 511/1257 [16:46<25:24,  2.04s/it]AI Trader sold:  $ 47.145000  Profit: $ 5.525002\n",
            " 41%|████      | 512/1257 [16:48<25:13,  2.03s/it]AI Trader sold:  $ 46.974998  Profit: $ 5.029999\n",
            " 41%|████      | 513/1257 [16:50<25:07,  2.03s/it]AI Trader sold:  $ 46.875000  Profit: $ 5.205002\n",
            " 41%|████      | 514/1257 [16:52<25:04,  2.02s/it]AI Trader sold:  $ 46.717499  Profit: $ 4.622498\n",
            " 41%|████      | 515/1257 [16:54<24:58,  2.02s/it]AI Trader sold:  $ 47.560001  Profit: $ 5.047501\n",
            " 41%|████      | 516/1257 [16:57<25:18,  2.05s/it]AI Trader bought:  $ 47.957500\n",
            " 41%|████      | 517/1257 [16:59<25:04,  2.03s/it]AI Trader bought:  $ 48.327499\n",
            " 41%|████▏     | 519/1257 [17:03<24:48,  2.02s/it]AI Trader sold:  $ 48.365002  Profit: $ 5.052502\n",
            " 41%|████▏     | 520/1257 [17:05<24:43,  2.01s/it]AI Trader sold:  $ 47.924999  Profit: $ 4.814999\n",
            " 41%|████▏     | 521/1257 [17:07<25:06,  2.05s/it]AI Trader sold:  $ 47.807499  Profit: $ 4.272499\n",
            " 42%|████▏     | 522/1257 [17:09<24:51,  2.03s/it]AI Trader sold:  $ 48.070000  Profit: $ 3.610001\n",
            " 42%|████▏     | 523/1257 [17:11<24:43,  2.02s/it]AI Trader sold:  $ 47.674999  Profit: $ 4.474998\n",
            " 42%|████▏     | 524/1257 [17:13<24:45,  2.03s/it]AI Trader sold:  $ 47.700001  Profit: $ 6.270000\n",
            " 42%|████▏     | 525/1257 [17:15<24:41,  2.02s/it]AI Trader sold:  $ 47.209999  Profit: $ 5.899998\n",
            " 42%|████▏     | 526/1257 [17:17<25:03,  2.06s/it]AI Trader sold:  $ 47.185001  Profit: $ 6.450001\n",
            " 42%|████▏     | 527/1257 [17:19<24:55,  2.05s/it]AI Trader sold:  $ 46.422501  Profit: $ 5.510002\n",
            " 42%|████▏     | 528/1257 [17:21<24:56,  2.05s/it]AI Trader sold:  $ 46.625000  Profit: $ 5.570000\n",
            " 42%|████▏     | 529/1257 [17:23<24:55,  2.05s/it]AI Trader sold:  $ 46.365002  Profit: $ 2.222500\n",
            " 42%|████▏     | 530/1257 [17:25<24:54,  2.06s/it]AI Trader sold:  $ 46.230000  Profit: $ 2.007500\n",
            " 42%|████▏     | 531/1257 [17:27<25:09,  2.08s/it]AI Trader sold:  $ 45.542500  Profit: - $ 0.970001\n",
            " 42%|████▏     | 532/1257 [17:29<24:49,  2.05s/it]AI Trader sold:  $ 46.107498  Profit: - $ 1.040001\n",
            " 42%|████▏     | 533/1257 [17:31<24:34,  2.04s/it]AI Trader sold:  $ 46.040001  Profit: - $ 0.867500\n",
            " 42%|████▏     | 534/1257 [17:33<24:30,  2.03s/it]AI Trader sold:  $ 46.375000  Profit: - $ 1.582500\n",
            " 43%|████▎     | 535/1257 [17:35<24:28,  2.03s/it]AI Trader sold:  $ 46.277500  Profit: - $ 2.049999\n",
            " 44%|████▍     | 551/1257 [18:08<23:36,  2.01s/it]AI Trader bought:  $ 48.250000\n",
            " 44%|████▍     | 552/1257 [18:10<23:57,  2.04s/it]AI Trader bought:  $ 48.705002\n",
            " 44%|████▍     | 553/1257 [18:12<23:45,  2.02s/it]AI Trader bought:  $ 48.552502\n",
            " 44%|████▍     | 554/1257 [18:14<23:41,  2.02s/it]AI Trader bought:  $ 47.744999\n",
            " 45%|████▍     | 564/1257 [18:34<23:33,  2.04s/it]AI Trader sold:  $ 51.882500  Profit: $ 3.632500\n",
            " 45%|████▍     | 565/1257 [18:36<23:29,  2.04s/it]AI Trader sold:  $ 52.217499  Profit: $ 3.512497\n",
            " 45%|████▌     | 566/1257 [18:38<23:20,  2.03s/it]AI Trader bought:  $ 52.437500\n",
            " 45%|████▌     | 567/1257 [18:40<23:15,  2.02s/it]AI Trader sold:  $ 52.560001  Profit: $ 4.007500\n",
            " 45%|████▌     | 568/1257 [18:42<23:52,  2.08s/it]AI Trader sold:  $ 53.330002  Profit: $ 5.585003\n",
            " 45%|████▌     | 569/1257 [18:44<23:56,  2.09s/it]AI Trader sold:  $ 54.395000  Profit: $ 1.957500\n",
            " 46%|████▌     | 575/1257 [18:57<22:59,  2.02s/it]AI Trader bought:  $ 54.485001\n",
            " 46%|████▌     | 576/1257 [18:59<22:50,  2.01s/it]AI Trader sold:  $ 54.924999  Profit: $ 0.439999\n",
            " 46%|████▋     | 584/1257 [19:15<22:57,  2.05s/it]AI Trader bought:  $ 54.582500\n",
            " 47%|████▋     | 585/1257 [19:17<22:39,  2.02s/it]AI Trader sold:  $ 55.962502  Profit: $ 1.380001\n",
            " 47%|████▋     | 588/1257 [19:23<22:18,  2.00s/it]AI Trader bought:  $ 55.959999\n",
            " 47%|████▋     | 589/1257 [19:25<22:41,  2.04s/it]AI Trader sold:  $ 54.470001  Profit: - $ 1.489998\n",
            " 47%|████▋     | 590/1257 [19:27<22:29,  2.02s/it]AI Trader bought:  $ 54.560001\n",
            " 47%|████▋     | 591/1257 [19:29<22:22,  2.02s/it]AI Trader sold:  $ 54.592499  Profit: $ 0.032497\n",
            " 47%|████▋     | 595/1257 [19:37<22:32,  2.04s/it]AI Trader bought:  $ 55.547501\n",
            " 47%|████▋     | 596/1257 [19:39<22:20,  2.03s/it]AI Trader bought:  $ 55.105000\n",
            " 47%|████▋     | 597/1257 [19:41<22:14,  2.02s/it]AI Trader bought:  $ 56.237499\n",
            " 48%|████▊     | 598/1257 [19:43<22:14,  2.03s/it]AI Trader bought:  $ 56.435001\n",
            " 48%|████▊     | 599/1257 [19:45<22:08,  2.02s/it]AI Trader bought:  $ 56.814999\n",
            " 48%|████▊     | 600/1257 [19:47<22:28,  2.05s/it]AI Trader bought:  $ 57.320000\n",
            " 48%|████▊     | 603/1257 [19:53<21:59,  2.02s/it]AI Trader sold:  $ 56.072498  Profit: $ 0.524998\n",
            " 48%|████▊     | 604/1257 [19:55<21:55,  2.01s/it]AI Trader sold:  $ 55.942501  Profit: $ 0.837502\n",
            " 48%|████▊     | 605/1257 [19:57<22:17,  2.05s/it]AI Trader sold:  $ 56.717499  Profit: $ 0.480000\n",
            " 48%|████▊     | 606/1257 [19:59<22:01,  2.03s/it]AI Trader sold:  $ 54.090000  Profit: - $ 2.345001\n",
            " 48%|████▊     | 607/1257 [20:01<21:56,  2.03s/it]AI Trader sold:  $ 53.612499  Profit: - $ 3.202499\n",
            " 48%|████▊     | 608/1257 [20:03<21:50,  2.02s/it]AI Trader sold:  $ 55.527500  Profit: - $ 1.792500\n",
            " 49%|████▊     | 611/1257 [20:10<21:49,  2.03s/it]AI Trader bought:  $ 55.297501\n",
            " 49%|████▊     | 612/1257 [20:12<21:40,  2.02s/it]AI Trader sold:  $ 54.005001  Profit: - $ 1.292500\n",
            " 49%|████▉     | 621/1257 [20:30<21:48,  2.06s/it]AI Trader bought:  $ 54.715000\n",
            " 49%|████▉     | 622/1257 [20:32<21:33,  2.04s/it]AI Trader sold:  $ 55.555000  Profit: $ 0.840000\n",
            " 51%|█████     | 640/1257 [21:08<20:42,  2.01s/it]AI Trader bought:  $ 45.235001\n",
            " 51%|█████     | 641/1257 [21:10<20:40,  2.01s/it]AI Trader bought:  $ 44.887501\n",
            " 51%|█████     | 642/1257 [21:13<21:02,  2.05s/it]AI Trader bought:  $ 44.645000\n",
            " 51%|█████     | 643/1257 [21:15<20:51,  2.04s/it]AI Trader bought:  $ 46.205002\n",
            " 51%|█████▏    | 645/1257 [21:19<20:36,  2.02s/it]AI Trader sold:  $ 43.680000  Profit: - $ 1.555000\n",
            " 51%|█████▏    | 646/1257 [21:21<20:30,  2.01s/it]AI Trader sold:  $ 42.122501  Profit: - $ 2.764999\n",
            " 51%|█████▏    | 647/1257 [21:23<20:49,  2.05s/it]AI Trader sold:  $ 42.400002  Profit: - $ 2.244999\n",
            " 52%|█████▏    | 650/1257 [21:29<20:19,  2.01s/it]AI Trader bought:  $ 42.737499\n",
            " 52%|█████▏    | 658/1257 [21:45<20:15,  2.03s/it]AI Trader bought:  $ 39.292500\n",
            " 52%|█████▏    | 659/1257 [21:47<20:08,  2.02s/it]AI Trader bought:  $ 39.037498\n",
            " 53%|█████▎    | 660/1257 [21:49<20:06,  2.02s/it]AI Trader bought:  $ 39.057499\n",
            " 53%|█████▎    | 665/1257 [21:59<19:51,  2.01s/it]AI Trader sold:  $ 36.982498  Profit: - $ 9.222504\n",
            " 55%|█████▍    | 687/1257 [22:44<19:20,  2.04s/it]AI Trader sold:  $ 42.735001  Profit: - $ 0.002499\n",
            " 55%|█████▍    | 688/1257 [22:46<19:17,  2.03s/it]AI Trader sold:  $ 42.602501  Profit: $ 3.310001\n",
            " 55%|█████▍    | 689/1257 [22:48<19:28,  2.06s/it]AI Trader sold:  $ 42.357498  Profit: $ 3.320000\n",
            " 55%|█████▍    | 690/1257 [22:50<19:15,  2.04s/it]AI Trader bought:  $ 42.722500\n",
            " 55%|█████▍    | 691/1257 [22:52<19:03,  2.02s/it]AI Trader sold:  $ 42.544998  Profit: $ 3.487499\n",
            " 55%|█████▌    | 692/1257 [22:54<19:00,  2.02s/it]AI Trader sold:  $ 42.700001  Profit: - $ 0.022499\n",
            " 58%|█████▊    | 724/1257 [23:58<17:50,  2.01s/it]AI Trader bought:  $ 48.505001\n",
            " 58%|█████▊    | 725/1257 [24:00<17:51,  2.01s/it]AI Trader bought:  $ 48.837502\n",
            " 58%|█████▊    | 728/1257 [24:07<17:52,  2.03s/it]AI Trader bought:  $ 50.025002\n",
            " 58%|█████▊    | 735/1257 [24:21<17:28,  2.01s/it]AI Trader sold:  $ 50.782501  Profit: $ 2.277500\n",
            " 59%|█████▊    | 736/1257 [24:23<17:45,  2.05s/it]AI Trader sold:  $ 50.965000  Profit: $ 2.127499\n",
            " 59%|█████▊    | 737/1257 [24:25<17:35,  2.03s/it]AI Trader sold:  $ 51.132500  Profit: $ 1.107498\n",
            " 62%|██████▏   | 784/1257 [26:00<16:08,  2.05s/it]AI Trader bought:  $ 49.935001\n",
            " 63%|██████▎   | 787/1257 [26:06<15:47,  2.02s/it]AI Trader bought:  $ 50.682499\n",
            " 63%|██████▎   | 788/1257 [26:08<15:44,  2.01s/it]AI Trader bought:  $ 51.102501\n",
            " 63%|██████▎   | 795/1257 [26:22<15:30,  2.01s/it]AI Trader sold:  $ 51.302502  Profit: $ 1.367500\n",
            " 63%|██████▎   | 796/1257 [26:24<15:28,  2.01s/it]AI Trader sold:  $ 51.125000  Profit: $ 0.442501\n",
            " 64%|██████▎   | 800/1257 [26:33<15:32,  2.04s/it]AI Trader sold:  $ 51.805000  Profit: $ 0.702499\n",
            " 64%|██████▍   | 808/1257 [26:49<15:01,  2.01s/it]AI Trader bought:  $ 52.107498\n",
            " 64%|██████▍   | 809/1257 [26:51<14:59,  2.01s/it]AI Trader sold:  $ 51.005001  Profit: - $ 1.102497\n",
            " 64%|██████▍   | 810/1257 [26:53<15:14,  2.05s/it]AI Trader bought:  $ 48.334999\n",
            " 65%|██████▍   | 811/1257 [26:55<15:09,  2.04s/it]AI Trader sold:  $ 49.250000  Profit: $ 0.915001\n",
            " 66%|██████▌   | 831/1257 [27:35<14:39,  2.06s/it]AI Trader bought:  $ 52.297501\n",
            " 67%|██████▋   | 836/1257 [27:46<14:25,  2.06s/it]AI Trader sold:  $ 55.897499  Profit: $ 3.599998\n",
            " 69%|██████▉   | 871/1257 [28:57<12:58,  2.02s/it]AI Trader bought:  $ 60.814999\n",
            " 69%|██████▉   | 872/1257 [28:59<12:55,  2.01s/it]AI Trader bought:  $ 62.189999\n",
            " 69%|██████▉   | 873/1257 [29:01<13:09,  2.06s/it]AI Trader sold:  $ 63.955002  Profit: $ 3.140003\n",
            " 70%|██████▉   | 876/1257 [29:07<12:48,  2.02s/it]AI Trader bought:  $ 64.309998\n",
            " 70%|██████▉   | 877/1257 [29:09<12:45,  2.01s/it]AI Trader bought:  $ 64.857498\n",
            " 70%|██████▉   | 878/1257 [29:11<12:55,  2.05s/it]AI Trader bought:  $ 65.035004\n",
            " 70%|██████▉   | 879/1257 [29:13<12:51,  2.04s/it]AI Trader bought:  $ 65.550003\n",
            " 70%|███████   | 880/1257 [29:15<12:45,  2.03s/it]AI Trader bought:  $ 65.489998\n",
            " 70%|███████   | 881/1257 [29:17<12:40,  2.02s/it]AI Trader bought:  $ 66.117500\n",
            " 70%|███████   | 882/1257 [29:19<12:37,  2.02s/it]AI Trader bought:  $ 65.660004\n",
            " 70%|███████   | 883/1257 [29:21<12:33,  2.02s/it]AI Trader bought:  $ 66.440002\n",
            " 70%|███████   | 884/1257 [29:23<12:45,  2.05s/it]AI Trader bought:  $ 66.775002\n",
            " 70%|███████   | 885/1257 [29:25<12:38,  2.04s/it]AI Trader bought:  $ 66.572502\n",
            " 70%|███████   | 886/1257 [29:27<12:33,  2.03s/it]AI Trader bought:  $ 65.797501\n",
            " 71%|███████   | 887/1257 [29:29<12:27,  2.02s/it]AI Trader bought:  $ 65.502502\n",
            " 71%|███████   | 888/1257 [29:31<12:25,  2.02s/it]AI Trader bought:  $ 65.445000\n",
            " 71%|███████   | 889/1257 [29:33<12:37,  2.06s/it]AI Trader sold:  $ 66.592499  Profit: $ 4.402500\n",
            " 71%|███████   | 890/1257 [29:35<12:32,  2.05s/it]AI Trader bought:  $ 66.072502\n",
            " 71%|███████   | 891/1257 [29:37<12:24,  2.04s/it]AI Trader sold:  $ 66.959999  Profit: $ 2.650002\n",
            " 71%|███████   | 892/1257 [29:39<12:19,  2.03s/it]AI Trader bought:  $ 66.812500\n",
            " 71%|███████   | 893/1257 [29:41<12:15,  2.02s/it]AI Trader sold:  $ 66.040001  Profit: $ 1.182503\n",
            " 71%|███████   | 895/1257 [29:46<12:18,  2.04s/it]AI Trader sold:  $ 65.434998  Profit: $ 0.399994\n",
            " 71%|███████▏  | 896/1257 [29:48<12:12,  2.03s/it]AI Trader sold:  $ 66.394997  Profit: $ 0.844994\n",
            " 71%|███████▏  | 897/1257 [29:50<12:07,  2.02s/it]AI Trader sold:  $ 67.677498  Profit: $ 2.187500\n",
            " 71%|███████▏  | 898/1257 [29:52<12:03,  2.01s/it]AI Trader sold:  $ 66.730003  Profit: $ 0.612503\n",
            " 72%|███████▏  | 899/1257 [29:54<12:16,  2.06s/it]AI Trader sold:  $ 67.120003  Profit: $ 1.459999\n",
            " 72%|███████▏  | 900/1257 [29:56<12:08,  2.04s/it]AI Trader sold:  $ 67.692497  Profit: $ 1.252495\n",
            " 72%|███████▏  | 901/1257 [29:58<12:02,  2.03s/it]AI Trader sold:  $ 67.864998  Profit: $ 1.089996\n",
            " 72%|███████▏  | 902/1257 [30:00<12:01,  2.03s/it]AI Trader sold:  $ 68.787498  Profit: $ 2.214996\n",
            " 72%|███████▏  | 903/1257 [30:02<11:56,  2.02s/it]AI Trader sold:  $ 69.964996  Profit: $ 4.167496\n",
            " 72%|███████▏  | 904/1257 [30:04<11:54,  2.02s/it]AI Trader sold:  $ 70.102501  Profit: $ 4.599998\n",
            " 72%|███████▏  | 905/1257 [30:06<12:03,  2.06s/it]AI Trader bought:  $ 69.934998\n",
            " 72%|███████▏  | 906/1257 [30:08<11:57,  2.04s/it]AI Trader bought:  $ 70.004997\n",
            " 72%|███████▏  | 907/1257 [30:10<11:51,  2.03s/it]AI Trader sold:  $ 69.860001  Profit: $ 4.415001\n",
            " 72%|███████▏  | 908/1257 [30:12<11:48,  2.03s/it]AI Trader sold:  $ 71.000000  Profit: $ 4.927498\n",
            " 72%|███████▏  | 909/1257 [30:14<11:50,  2.04s/it]AI Trader sold:  $ 71.067497  Profit: $ 4.254997\n",
            " 72%|███████▏  | 910/1257 [30:16<11:57,  2.07s/it]AI Trader bought:  $ 72.477501\n",
            " 72%|███████▏  | 911/1257 [30:18<11:48,  2.05s/it]AI Trader sold:  $ 72.449997  Profit: $ 2.514999\n",
            " 73%|███████▎  | 912/1257 [30:20<11:42,  2.04s/it]AI Trader sold:  $ 72.879997  Profit: $ 2.875000\n",
            " 73%|███████▎  | 913/1257 [30:22<11:37,  2.03s/it]AI Trader sold:  $ 73.412498  Profit: $ 0.934998\n",
            " 74%|███████▍  | 930/1257 [30:57<11:32,  2.12s/it]AI Trader bought:  $ 77.237503\n",
            " 74%|███████▍  | 931/1257 [30:59<11:33,  2.13s/it]AI Trader sold:  $ 79.422501  Profit: $ 2.184998\n",
            " 74%|███████▍  | 934/1257 [31:06<11:06,  2.06s/it]AI Trader bought:  $ 77.377502\n",
            " 74%|███████▍  | 935/1257 [31:08<10:59,  2.05s/it]AI Trader sold:  $ 77.165001  Profit: - $ 0.212502\n",
            " 87%|████████▋ | 1093/1257 [36:29<05:38,  2.06s/it]AI Trader bought:  $ 110.339996\n",
            " 87%|████████▋ | 1094/1257 [36:31<05:42,  2.10s/it]AI Trader sold:  $ 106.839996  Profit: - $ 3.500000\n",
            "100%|█████████▉| 1256/1257 [42:17<00:02,  2.13s/it]########################\n",
            "TOTAL PROFIT: 190.84997177124023\n",
            "########################\n",
            "100%|██████████| 1257/1257 [42:20<00:00,  2.02s/it]\n",
            "  0%|          | 0/1257 [00:00<?, ?it/s]Episode: 2/1000\n",
            " 35%|███▍      | 436/1257 [16:06<33:07,  2.42s/it]AI Trader bought:  $ 39.884998\n",
            " 35%|███▌      | 442/1257 [16:20<30:56,  2.28s/it]AI Trader bought:  $ 43.247501\n",
            " 35%|███▌      | 444/1257 [16:24<29:21,  2.17s/it]AI Trader bought:  $ 42.962502\n",
            " 35%|███▌      | 445/1257 [16:26<30:03,  2.22s/it]AI Trader bought:  $ 42.767502\n",
            " 35%|███▌      | 446/1257 [16:29<31:06,  2.30s/it]AI Trader bought:  $ 43.125000\n",
            " 36%|███▌      | 449/1257 [16:36<31:45,  2.36s/it]AI Trader bought:  $ 44.597500\n",
            " 36%|███▋      | 456/1257 [16:53<32:26,  2.43s/it]AI Trader sold:  $ 44.235001  Profit: $ 4.350002\n",
            " 36%|███▋      | 457/1257 [16:56<32:54,  2.47s/it]AI Trader sold:  $ 44.994999  Profit: $ 1.747498\n",
            " 36%|███▋      | 458/1257 [16:58<32:44,  2.46s/it]AI Trader sold:  $ 45.430000  Profit: $ 2.467499\n",
            " 37%|███▋      | 459/1257 [17:01<32:20,  2.43s/it]AI Trader sold:  $ 44.992500  Profit: $ 2.224998\n",
            " 37%|███▋      | 460/1257 [17:03<33:03,  2.49s/it]AI Trader sold:  $ 44.610001  Profit: $ 1.485001\n",
            " 37%|███▋      | 461/1257 [17:06<33:25,  2.52s/it]AI Trader sold:  $ 44.662498  Profit: $ 0.064999\n",
            " 39%|███▊      | 485/1257 [18:06<30:57,  2.41s/it]AI Trader bought:  $ 43.200001\n",
            " 39%|███▊      | 486/1257 [18:08<30:34,  2.38s/it]AI Trader bought:  $ 41.430000\n",
            " 40%|███▉      | 501/1257 [18:46<30:14,  2.40s/it]AI Trader sold:  $ 47.147499  Profit: $ 3.947498\n",
            " 40%|███▉      | 502/1257 [18:49<30:38,  2.43s/it]AI Trader sold:  $ 47.037498  Profit: $ 5.607498\n",
            " 43%|████▎     | 538/1257 [20:21<30:38,  2.56s/it]AI Trader bought:  $ 46.349998\n",
            " 43%|████▎     | 539/1257 [20:24<30:20,  2.54s/it]AI Trader bought:  $ 46.992500\n",
            " 43%|████▎     | 540/1257 [20:26<30:15,  2.53s/it]AI Trader bought:  $ 47.645000\n",
            " 43%|████▎     | 541/1257 [20:29<30:31,  2.56s/it]AI Trader bought:  $ 47.587502\n",
            " 43%|████▎     | 542/1257 [20:31<30:11,  2.53s/it]AI Trader bought:  $ 46.970001\n",
            " 43%|████▎     | 543/1257 [20:34<29:59,  2.52s/it]AI Trader bought:  $ 47.757500\n",
            " 43%|████▎     | 544/1257 [20:36<29:43,  2.50s/it]AI Trader bought:  $ 47.832500\n",
            " 43%|████▎     | 545/1257 [20:39<29:27,  2.48s/it]AI Trader sold:  $ 47.727501  Profit: $ 1.377502\n",
            " 43%|████▎     | 546/1257 [20:41<29:52,  2.52s/it]AI Trader sold:  $ 47.862499  Profit: $ 0.869999\n",
            " 44%|████▎     | 547/1257 [20:44<29:33,  2.50s/it]AI Trader sold:  $ 47.599998  Profit: - $ 0.045002\n",
            " 44%|████▎     | 548/1257 [20:46<29:20,  2.48s/it]AI Trader sold:  $ 47.970001  Profit: $ 0.382500\n",
            " 44%|████▎     | 549/1257 [20:49<29:15,  2.48s/it]AI Trader sold:  $ 47.860001  Profit: $ 0.889999\n",
            " 44%|████▍     | 550/1257 [20:51<29:00,  2.46s/it]AI Trader sold:  $ 47.902500  Profit: $ 0.145000\n",
            " 44%|████▍     | 551/1257 [20:54<29:25,  2.50s/it]AI Trader sold:  $ 48.250000  Profit: $ 0.417500\n",
            " 46%|████▌     | 579/1257 [22:03<28:05,  2.49s/it]AI Trader bought:  $ 56.907501\n",
            " 46%|████▌     | 580/1257 [22:05<27:48,  2.46s/it]AI Trader bought:  $ 57.090000\n",
            " 46%|████▌     | 581/1257 [22:08<27:52,  2.47s/it]AI Trader bought:  $ 56.717499\n",
            " 46%|████▋     | 582/1257 [22:10<27:44,  2.47s/it]AI Trader bought:  $ 55.775002\n",
            " 46%|████▋     | 583/1257 [22:13<28:04,  2.50s/it]AI Trader bought:  $ 55.325001\n",
            " 46%|████▋     | 584/1257 [22:15<28:05,  2.50s/it]AI Trader bought:  $ 54.582500\n",
            " 47%|████▋     | 585/1257 [22:18<27:49,  2.48s/it]AI Trader sold:  $ 55.962502  Profit: - $ 0.945000\n",
            " 47%|████▋     | 586/1257 [22:20<27:46,  2.48s/it]AI Trader sold:  $ 55.267502  Profit: - $ 1.822498\n",
            " 47%|████▋     | 587/1257 [22:23<27:52,  2.50s/it]AI Trader sold:  $ 56.602501  Profit: - $ 0.114998\n",
            " 47%|████▋     | 588/1257 [22:26<28:04,  2.52s/it]AI Trader sold:  $ 55.959999  Profit: $ 0.184998\n",
            " 47%|████▋     | 589/1257 [22:28<28:16,  2.54s/it]AI Trader sold:  $ 54.470001  Profit: - $ 0.855000\n",
            " 47%|████▋     | 590/1257 [22:31<28:08,  2.53s/it]AI Trader sold:  $ 54.560001  Profit: - $ 0.022499\n",
            " 47%|████▋     | 592/1257 [22:36<27:41,  2.50s/it]AI Trader bought:  $ 55.007500\n",
            " 47%|████▋     | 594/1257 [22:41<27:33,  2.49s/it]AI Trader bought:  $ 55.197498\n",
            " 47%|████▋     | 595/1257 [22:43<27:27,  2.49s/it]AI Trader bought:  $ 55.547501\n",
            " 47%|████▋     | 596/1257 [22:45<27:21,  2.48s/it]AI Trader bought:  $ 55.105000\n",
            " 47%|████▋     | 597/1257 [22:48<27:03,  2.46s/it]AI Trader bought:  $ 56.237499\n",
            " 48%|████▊     | 599/1257 [22:53<27:26,  2.50s/it]AI Trader bought:  $ 56.814999\n",
            " 48%|████▊     | 601/1257 [22:58<27:04,  2.48s/it]AI Trader sold:  $ 58.017502  Profit: $ 3.010002\n",
            " 48%|████▊     | 602/1257 [23:00<27:07,  2.48s/it]AI Trader sold:  $ 56.997501  Profit: $ 1.800003\n",
            " 48%|████▊     | 603/1257 [23:03<26:50,  2.46s/it]AI Trader bought:  $ 56.072498\n",
            " 48%|████▊     | 604/1257 [23:05<27:10,  2.50s/it]AI Trader sold:  $ 55.942501  Profit: $ 0.395000\n",
            " 48%|████▊     | 605/1257 [23:08<27:06,  2.49s/it]AI Trader sold:  $ 56.717499  Profit: $ 1.612499\n",
            " 48%|████▊     | 606/1257 [23:10<26:51,  2.47s/it]AI Trader sold:  $ 54.090000  Profit: - $ 2.147499\n",
            " 48%|████▊     | 607/1257 [23:13<26:51,  2.48s/it]AI Trader sold:  $ 53.612499  Profit: - $ 3.202499\n",
            " 48%|████▊     | 608/1257 [23:15<26:49,  2.48s/it]AI Trader sold:  $ 55.527500  Profit: - $ 0.544998\n",
            " 51%|█████     | 641/1257 [24:38<26:44,  2.60s/it]AI Trader bought:  $ 44.887501\n",
            " 51%|█████     | 642/1257 [24:41<26:33,  2.59s/it]AI Trader bought:  $ 44.645000\n",
            " 51%|█████     | 643/1257 [24:43<26:09,  2.56s/it]AI Trader bought:  $ 46.205002\n",
            " 51%|█████▏    | 645/1257 [24:49<26:04,  2.56s/it]AI Trader sold:  $ 43.680000  Profit: - $ 1.207500\n",
            " 51%|█████▏    | 647/1257 [24:54<26:45,  2.63s/it]AI Trader sold:  $ 42.400002  Profit: - $ 2.244999\n",
            " 52%|█████▏    | 648/1257 [24:56<26:12,  2.58s/it]AI Trader sold:  $ 42.157501  Profit: - $ 4.047501\n",
            " 54%|█████▍    | 680/1257 [26:20<22:21,  2.32s/it]\n"
          ]
        },
        {
          "output_type": "error",
          "ename": "KeyboardInterrupt",
          "evalue": "",
          "traceback": [
            "\u001b[0;31m---------------------------------------------------------------------------\u001b[0m",
            "\u001b[0;31mKeyboardInterrupt\u001b[0m                         Traceback (most recent call last)",
            "\u001b[0;32m<ipython-input-12-a1a8760d2784>\u001b[0m in \u001b[0;36m<module>\u001b[0;34m\u001b[0m\n\u001b[1;32m     41\u001b[0m \u001b[0;34m\u001b[0m\u001b[0m\n\u001b[1;32m     42\u001b[0m     \u001b[0;32mif\u001b[0m \u001b[0mlen\u001b[0m\u001b[0;34m(\u001b[0m\u001b[0mtrader\u001b[0m\u001b[0;34m.\u001b[0m\u001b[0mmemory\u001b[0m\u001b[0;34m)\u001b[0m \u001b[0;34m>\u001b[0m \u001b[0mbatch_size\u001b[0m\u001b[0;34m:\u001b[0m\u001b[0;34m\u001b[0m\u001b[0;34m\u001b[0m\u001b[0m\n\u001b[0;32m---> 43\u001b[0;31m       \u001b[0mtrader\u001b[0m\u001b[0;34m.\u001b[0m\u001b[0mbatch_train\u001b[0m\u001b[0;34m(\u001b[0m\u001b[0mbatch_size\u001b[0m\u001b[0;34m)\u001b[0m\u001b[0;34m\u001b[0m\u001b[0;34m\u001b[0m\u001b[0m\n\u001b[0m\u001b[1;32m     44\u001b[0m \u001b[0;34m\u001b[0m\u001b[0m\n\u001b[1;32m     45\u001b[0m   \u001b[0;32mif\u001b[0m \u001b[0mepisode\u001b[0m \u001b[0;34m%\u001b[0m \u001b[0;36m10\u001b[0m \u001b[0;34m==\u001b[0m \u001b[0;36m0\u001b[0m\u001b[0;34m:\u001b[0m\u001b[0;34m\u001b[0m\u001b[0;34m\u001b[0m\u001b[0m\n",
            "\u001b[0;32m<ipython-input-3-85e45d4e54a2>\u001b[0m in \u001b[0;36mbatch_train\u001b[0;34m(self, batch_size)\u001b[0m\n\u001b[1;32m     50\u001b[0m       \u001b[0mreward\u001b[0m \u001b[0;34m=\u001b[0m \u001b[0mreward\u001b[0m\u001b[0;34m\u001b[0m\u001b[0;34m\u001b[0m\u001b[0m\n\u001b[1;32m     51\u001b[0m       \u001b[0;32mif\u001b[0m \u001b[0;32mnot\u001b[0m \u001b[0mdone\u001b[0m\u001b[0;34m:\u001b[0m\u001b[0;34m\u001b[0m\u001b[0;34m\u001b[0m\u001b[0m\n\u001b[0;32m---> 52\u001b[0;31m         \u001b[0mreward\u001b[0m \u001b[0;34m=\u001b[0m \u001b[0mreward\u001b[0m \u001b[0;34m+\u001b[0m \u001b[0mself\u001b[0m\u001b[0;34m.\u001b[0m\u001b[0mgamma\u001b[0m \u001b[0;34m*\u001b[0m \u001b[0mnp\u001b[0m\u001b[0;34m.\u001b[0m\u001b[0mamax\u001b[0m\u001b[0;34m(\u001b[0m\u001b[0mself\u001b[0m\u001b[0;34m.\u001b[0m\u001b[0mmodel\u001b[0m\u001b[0;34m.\u001b[0m\u001b[0mpredict\u001b[0m\u001b[0;34m(\u001b[0m\u001b[0mnext_state\u001b[0m\u001b[0;34m)\u001b[0m\u001b[0;34m[\u001b[0m\u001b[0;36m0\u001b[0m\u001b[0;34m]\u001b[0m\u001b[0;34m)\u001b[0m\u001b[0;34m\u001b[0m\u001b[0;34m\u001b[0m\u001b[0m\n\u001b[0m\u001b[1;32m     53\u001b[0m \u001b[0;34m\u001b[0m\u001b[0m\n\u001b[1;32m     54\u001b[0m       \u001b[0mtarget\u001b[0m \u001b[0;34m=\u001b[0m \u001b[0mself\u001b[0m\u001b[0;34m.\u001b[0m\u001b[0mmodel\u001b[0m\u001b[0;34m.\u001b[0m\u001b[0mpredict\u001b[0m\u001b[0;34m(\u001b[0m\u001b[0mstate\u001b[0m\u001b[0;34m)\u001b[0m\u001b[0;34m\u001b[0m\u001b[0;34m\u001b[0m\u001b[0m\n",
            "\u001b[0;32m~/anaconda3/envs/DataSciences/lib/python3.8/site-packages/tensorflow/python/keras/engine/training.py\u001b[0m in \u001b[0;36mpredict\u001b[0;34m(self, x, batch_size, verbose, steps, callbacks, max_queue_size, workers, use_multiprocessing)\u001b[0m\n\u001b[1;32m   1596\u001b[0m                         '. Consider setting it to AutoShardPolicy.DATA.')\n\u001b[1;32m   1597\u001b[0m \u001b[0;34m\u001b[0m\u001b[0m\n\u001b[0;32m-> 1598\u001b[0;31m       data_handler = data_adapter.DataHandler(\n\u001b[0m\u001b[1;32m   1599\u001b[0m           \u001b[0mx\u001b[0m\u001b[0;34m=\u001b[0m\u001b[0mx\u001b[0m\u001b[0;34m,\u001b[0m\u001b[0;34m\u001b[0m\u001b[0;34m\u001b[0m\u001b[0m\n\u001b[1;32m   1600\u001b[0m           \u001b[0mbatch_size\u001b[0m\u001b[0;34m=\u001b[0m\u001b[0mbatch_size\u001b[0m\u001b[0;34m,\u001b[0m\u001b[0;34m\u001b[0m\u001b[0;34m\u001b[0m\u001b[0m\n",
            "\u001b[0;32m~/anaconda3/envs/DataSciences/lib/python3.8/site-packages/tensorflow/python/keras/engine/data_adapter.py\u001b[0m in \u001b[0;36m__init__\u001b[0;34m(self, x, y, sample_weight, batch_size, steps_per_epoch, initial_epoch, epochs, shuffle, class_weight, max_queue_size, workers, use_multiprocessing, model, steps_per_execution)\u001b[0m\n\u001b[1;32m   1098\u001b[0m \u001b[0;34m\u001b[0m\u001b[0m\n\u001b[1;32m   1099\u001b[0m     \u001b[0madapter_cls\u001b[0m \u001b[0;34m=\u001b[0m \u001b[0mselect_data_adapter\u001b[0m\u001b[0;34m(\u001b[0m\u001b[0mx\u001b[0m\u001b[0;34m,\u001b[0m \u001b[0my\u001b[0m\u001b[0;34m)\u001b[0m\u001b[0;34m\u001b[0m\u001b[0;34m\u001b[0m\u001b[0m\n\u001b[0;32m-> 1100\u001b[0;31m     self._adapter = adapter_cls(\n\u001b[0m\u001b[1;32m   1101\u001b[0m         \u001b[0mx\u001b[0m\u001b[0;34m,\u001b[0m\u001b[0;34m\u001b[0m\u001b[0;34m\u001b[0m\u001b[0m\n\u001b[1;32m   1102\u001b[0m         \u001b[0my\u001b[0m\u001b[0;34m,\u001b[0m\u001b[0;34m\u001b[0m\u001b[0;34m\u001b[0m\u001b[0m\n",
            "\u001b[0;32m~/anaconda3/envs/DataSciences/lib/python3.8/site-packages/tensorflow/python/keras/engine/data_adapter.py\u001b[0m in \u001b[0;36m__init__\u001b[0;34m(self, x, y, sample_weights, sample_weight_modes, batch_size, epochs, steps, shuffle, **kwargs)\u001b[0m\n\u001b[1;32m    351\u001b[0m       \u001b[0;32mreturn\u001b[0m \u001b[0mflat_dataset\u001b[0m\u001b[0;34m\u001b[0m\u001b[0;34m\u001b[0m\u001b[0m\n\u001b[1;32m    352\u001b[0m \u001b[0;34m\u001b[0m\u001b[0m\n\u001b[0;32m--> 353\u001b[0;31m     \u001b[0mindices_dataset\u001b[0m \u001b[0;34m=\u001b[0m \u001b[0mindices_dataset\u001b[0m\u001b[0;34m.\u001b[0m\u001b[0mflat_map\u001b[0m\u001b[0;34m(\u001b[0m\u001b[0mslice_batch_indices\u001b[0m\u001b[0;34m)\u001b[0m\u001b[0;34m\u001b[0m\u001b[0;34m\u001b[0m\u001b[0m\n\u001b[0m\u001b[1;32m    354\u001b[0m \u001b[0;34m\u001b[0m\u001b[0m\n\u001b[1;32m    355\u001b[0m     \u001b[0mdataset\u001b[0m \u001b[0;34m=\u001b[0m \u001b[0mself\u001b[0m\u001b[0;34m.\u001b[0m\u001b[0mslice_inputs\u001b[0m\u001b[0;34m(\u001b[0m\u001b[0mindices_dataset\u001b[0m\u001b[0;34m,\u001b[0m \u001b[0minputs\u001b[0m\u001b[0;34m)\u001b[0m\u001b[0;34m\u001b[0m\u001b[0;34m\u001b[0m\u001b[0m\n",
            "\u001b[0;32m~/anaconda3/envs/DataSciences/lib/python3.8/site-packages/tensorflow/python/data/ops/dataset_ops.py\u001b[0m in \u001b[0;36mflat_map\u001b[0;34m(self, map_func)\u001b[0m\n\u001b[1;32m   1835\u001b[0m       \u001b[0mDataset\u001b[0m\u001b[0;34m:\u001b[0m \u001b[0mA\u001b[0m\u001b[0;31m \u001b[0m\u001b[0;31m`\u001b[0m\u001b[0mDataset\u001b[0m\u001b[0;31m`\u001b[0m\u001b[0;34m.\u001b[0m\u001b[0;34m\u001b[0m\u001b[0;34m\u001b[0m\u001b[0m\n\u001b[1;32m   1836\u001b[0m     \"\"\"\n\u001b[0;32m-> 1837\u001b[0;31m     \u001b[0;32mreturn\u001b[0m \u001b[0mFlatMapDataset\u001b[0m\u001b[0;34m(\u001b[0m\u001b[0mself\u001b[0m\u001b[0;34m,\u001b[0m \u001b[0mmap_func\u001b[0m\u001b[0;34m)\u001b[0m\u001b[0;34m\u001b[0m\u001b[0;34m\u001b[0m\u001b[0m\n\u001b[0m\u001b[1;32m   1838\u001b[0m \u001b[0;34m\u001b[0m\u001b[0m\n\u001b[1;32m   1839\u001b[0m   def interleave(self,\n",
            "\u001b[0;32m~/anaconda3/envs/DataSciences/lib/python3.8/site-packages/tensorflow/python/data/ops/dataset_ops.py\u001b[0m in \u001b[0;36m__init__\u001b[0;34m(self, input_dataset, map_func)\u001b[0m\n\u001b[1;32m   4282\u001b[0m     \u001b[0;34m\"\"\"See `Dataset.flat_map()` for details.\"\"\"\u001b[0m\u001b[0;34m\u001b[0m\u001b[0;34m\u001b[0m\u001b[0m\n\u001b[1;32m   4283\u001b[0m     \u001b[0mself\u001b[0m\u001b[0;34m.\u001b[0m\u001b[0m_input_dataset\u001b[0m \u001b[0;34m=\u001b[0m \u001b[0minput_dataset\u001b[0m\u001b[0;34m\u001b[0m\u001b[0;34m\u001b[0m\u001b[0m\n\u001b[0;32m-> 4284\u001b[0;31m     self._map_func = StructuredFunctionWrapper(\n\u001b[0m\u001b[1;32m   4285\u001b[0m         map_func, self._transformation_name(), dataset=input_dataset)\n\u001b[1;32m   4286\u001b[0m     \u001b[0;32mif\u001b[0m \u001b[0;32mnot\u001b[0m \u001b[0misinstance\u001b[0m\u001b[0;34m(\u001b[0m\u001b[0mself\u001b[0m\u001b[0;34m.\u001b[0m\u001b[0m_map_func\u001b[0m\u001b[0;34m.\u001b[0m\u001b[0moutput_structure\u001b[0m\u001b[0;34m,\u001b[0m \u001b[0mDatasetSpec\u001b[0m\u001b[0;34m)\u001b[0m\u001b[0;34m:\u001b[0m\u001b[0;34m\u001b[0m\u001b[0;34m\u001b[0m\u001b[0m\n",
            "\u001b[0;32m~/anaconda3/envs/DataSciences/lib/python3.8/site-packages/tensorflow/python/data/ops/dataset_ops.py\u001b[0m in \u001b[0;36m__init__\u001b[0;34m(self, func, transformation_name, dataset, input_classes, input_shapes, input_types, input_structure, add_to_graph, use_legacy_function, defun_kwargs)\u001b[0m\n\u001b[1;32m   3523\u001b[0m       \u001b[0;32mwith\u001b[0m \u001b[0mtracking\u001b[0m\u001b[0;34m.\u001b[0m\u001b[0mresource_tracker_scope\u001b[0m\u001b[0;34m(\u001b[0m\u001b[0mresource_tracker\u001b[0m\u001b[0;34m)\u001b[0m\u001b[0;34m:\u001b[0m\u001b[0;34m\u001b[0m\u001b[0;34m\u001b[0m\u001b[0m\n\u001b[1;32m   3524\u001b[0m         \u001b[0;31m# TODO(b/141462134): Switch to using garbage collection.\u001b[0m\u001b[0;34m\u001b[0m\u001b[0;34m\u001b[0m\u001b[0;34m\u001b[0m\u001b[0m\n\u001b[0;32m-> 3525\u001b[0;31m         \u001b[0mself\u001b[0m\u001b[0;34m.\u001b[0m\u001b[0m_function\u001b[0m \u001b[0;34m=\u001b[0m \u001b[0mwrapper_fn\u001b[0m\u001b[0;34m.\u001b[0m\u001b[0mget_concrete_function\u001b[0m\u001b[0;34m(\u001b[0m\u001b[0;34m)\u001b[0m\u001b[0;34m\u001b[0m\u001b[0;34m\u001b[0m\u001b[0m\n\u001b[0m\u001b[1;32m   3526\u001b[0m         \u001b[0;32mif\u001b[0m \u001b[0madd_to_graph\u001b[0m\u001b[0;34m:\u001b[0m\u001b[0;34m\u001b[0m\u001b[0;34m\u001b[0m\u001b[0m\n\u001b[1;32m   3527\u001b[0m           \u001b[0mself\u001b[0m\u001b[0;34m.\u001b[0m\u001b[0m_function\u001b[0m\u001b[0;34m.\u001b[0m\u001b[0madd_to_graph\u001b[0m\u001b[0;34m(\u001b[0m\u001b[0mops\u001b[0m\u001b[0;34m.\u001b[0m\u001b[0mget_default_graph\u001b[0m\u001b[0;34m(\u001b[0m\u001b[0;34m)\u001b[0m\u001b[0;34m)\u001b[0m\u001b[0;34m\u001b[0m\u001b[0;34m\u001b[0m\u001b[0m\n",
            "\u001b[0;32m~/anaconda3/envs/DataSciences/lib/python3.8/site-packages/tensorflow/python/eager/function.py\u001b[0m in \u001b[0;36mget_concrete_function\u001b[0;34m(self, *args, **kwargs)\u001b[0m\n\u001b[1;32m   3049\u001b[0m       \u001b[0;34m**\u001b[0m\u001b[0mkwargs\u001b[0m\u001b[0;34m:\u001b[0m \u001b[0minputs\u001b[0m \u001b[0mto\u001b[0m \u001b[0mspecialize\u001b[0m \u001b[0mon\u001b[0m\u001b[0;34m.\u001b[0m\u001b[0;34m\u001b[0m\u001b[0;34m\u001b[0m\u001b[0m\n\u001b[1;32m   3050\u001b[0m     \"\"\"\n\u001b[0;32m-> 3051\u001b[0;31m     graph_function = self._get_concrete_function_garbage_collected(\n\u001b[0m\u001b[1;32m   3052\u001b[0m         *args, **kwargs)\n\u001b[1;32m   3053\u001b[0m     \u001b[0mgraph_function\u001b[0m\u001b[0;34m.\u001b[0m\u001b[0m_garbage_collector\u001b[0m\u001b[0;34m.\u001b[0m\u001b[0mrelease\u001b[0m\u001b[0;34m(\u001b[0m\u001b[0;34m)\u001b[0m  \u001b[0;31m# pylint: disable=protected-access\u001b[0m\u001b[0;34m\u001b[0m\u001b[0;34m\u001b[0m\u001b[0m\n",
            "\u001b[0;32m~/anaconda3/envs/DataSciences/lib/python3.8/site-packages/tensorflow/python/eager/function.py\u001b[0m in \u001b[0;36m_get_concrete_function_garbage_collected\u001b[0;34m(self, *args, **kwargs)\u001b[0m\n\u001b[1;32m   3017\u001b[0m       \u001b[0margs\u001b[0m\u001b[0;34m,\u001b[0m \u001b[0mkwargs\u001b[0m \u001b[0;34m=\u001b[0m \u001b[0;32mNone\u001b[0m\u001b[0;34m,\u001b[0m \u001b[0;32mNone\u001b[0m\u001b[0;34m\u001b[0m\u001b[0;34m\u001b[0m\u001b[0m\n\u001b[1;32m   3018\u001b[0m     \u001b[0;32mwith\u001b[0m \u001b[0mself\u001b[0m\u001b[0;34m.\u001b[0m\u001b[0m_lock\u001b[0m\u001b[0;34m:\u001b[0m\u001b[0;34m\u001b[0m\u001b[0;34m\u001b[0m\u001b[0m\n\u001b[0;32m-> 3019\u001b[0;31m       \u001b[0mgraph_function\u001b[0m\u001b[0;34m,\u001b[0m \u001b[0m_\u001b[0m \u001b[0;34m=\u001b[0m \u001b[0mself\u001b[0m\u001b[0;34m.\u001b[0m\u001b[0m_maybe_define_function\u001b[0m\u001b[0;34m(\u001b[0m\u001b[0margs\u001b[0m\u001b[0;34m,\u001b[0m \u001b[0mkwargs\u001b[0m\u001b[0;34m)\u001b[0m\u001b[0;34m\u001b[0m\u001b[0;34m\u001b[0m\u001b[0m\n\u001b[0m\u001b[1;32m   3020\u001b[0m       \u001b[0mseen_names\u001b[0m \u001b[0;34m=\u001b[0m \u001b[0mset\u001b[0m\u001b[0;34m(\u001b[0m\u001b[0;34m)\u001b[0m\u001b[0;34m\u001b[0m\u001b[0;34m\u001b[0m\u001b[0m\n\u001b[1;32m   3021\u001b[0m       captured = object_identity.ObjectIdentitySet(\n",
            "\u001b[0;32m~/anaconda3/envs/DataSciences/lib/python3.8/site-packages/tensorflow/python/eager/function.py\u001b[0m in \u001b[0;36m_maybe_define_function\u001b[0;34m(self, args, kwargs)\u001b[0m\n\u001b[1;32m   3359\u001b[0m \u001b[0;34m\u001b[0m\u001b[0m\n\u001b[1;32m   3360\u001b[0m           \u001b[0mself\u001b[0m\u001b[0;34m.\u001b[0m\u001b[0m_function_cache\u001b[0m\u001b[0;34m.\u001b[0m\u001b[0mmissed\u001b[0m\u001b[0;34m.\u001b[0m\u001b[0madd\u001b[0m\u001b[0;34m(\u001b[0m\u001b[0mcall_context_key\u001b[0m\u001b[0;34m)\u001b[0m\u001b[0;34m\u001b[0m\u001b[0;34m\u001b[0m\u001b[0m\n\u001b[0;32m-> 3361\u001b[0;31m           \u001b[0mgraph_function\u001b[0m \u001b[0;34m=\u001b[0m \u001b[0mself\u001b[0m\u001b[0;34m.\u001b[0m\u001b[0m_create_graph_function\u001b[0m\u001b[0;34m(\u001b[0m\u001b[0margs\u001b[0m\u001b[0;34m,\u001b[0m \u001b[0mkwargs\u001b[0m\u001b[0;34m)\u001b[0m\u001b[0;34m\u001b[0m\u001b[0;34m\u001b[0m\u001b[0m\n\u001b[0m\u001b[1;32m   3362\u001b[0m           \u001b[0mself\u001b[0m\u001b[0;34m.\u001b[0m\u001b[0m_function_cache\u001b[0m\u001b[0;34m.\u001b[0m\u001b[0mprimary\u001b[0m\u001b[0;34m[\u001b[0m\u001b[0mcache_key\u001b[0m\u001b[0;34m]\u001b[0m \u001b[0;34m=\u001b[0m \u001b[0mgraph_function\u001b[0m\u001b[0;34m\u001b[0m\u001b[0;34m\u001b[0m\u001b[0m\n\u001b[1;32m   3363\u001b[0m \u001b[0;34m\u001b[0m\u001b[0m\n",
            "\u001b[0;32m~/anaconda3/envs/DataSciences/lib/python3.8/site-packages/tensorflow/python/eager/function.py\u001b[0m in \u001b[0;36m_create_graph_function\u001b[0;34m(self, args, kwargs, override_flat_arg_shapes)\u001b[0m\n\u001b[1;32m   3194\u001b[0m     \u001b[0marg_names\u001b[0m \u001b[0;34m=\u001b[0m \u001b[0mbase_arg_names\u001b[0m \u001b[0;34m+\u001b[0m \u001b[0mmissing_arg_names\u001b[0m\u001b[0;34m\u001b[0m\u001b[0;34m\u001b[0m\u001b[0m\n\u001b[1;32m   3195\u001b[0m     graph_function = ConcreteFunction(\n\u001b[0;32m-> 3196\u001b[0;31m         func_graph_module.func_graph_from_py_func(\n\u001b[0m\u001b[1;32m   3197\u001b[0m             \u001b[0mself\u001b[0m\u001b[0;34m.\u001b[0m\u001b[0m_name\u001b[0m\u001b[0;34m,\u001b[0m\u001b[0;34m\u001b[0m\u001b[0;34m\u001b[0m\u001b[0m\n\u001b[1;32m   3198\u001b[0m             \u001b[0mself\u001b[0m\u001b[0;34m.\u001b[0m\u001b[0m_python_function\u001b[0m\u001b[0;34m,\u001b[0m\u001b[0;34m\u001b[0m\u001b[0;34m\u001b[0m\u001b[0m\n",
            "\u001b[0;32m~/anaconda3/envs/DataSciences/lib/python3.8/site-packages/tensorflow/python/framework/func_graph.py\u001b[0m in \u001b[0;36mfunc_graph_from_py_func\u001b[0;34m(name, python_func, args, kwargs, signature, func_graph, autograph, autograph_options, add_control_dependencies, arg_names, op_return_value, collections, capture_by_value, override_flat_arg_shapes)\u001b[0m\n\u001b[1;32m    988\u001b[0m         \u001b[0m_\u001b[0m\u001b[0;34m,\u001b[0m \u001b[0moriginal_func\u001b[0m \u001b[0;34m=\u001b[0m \u001b[0mtf_decorator\u001b[0m\u001b[0;34m.\u001b[0m\u001b[0munwrap\u001b[0m\u001b[0;34m(\u001b[0m\u001b[0mpython_func\u001b[0m\u001b[0;34m)\u001b[0m\u001b[0;34m\u001b[0m\u001b[0;34m\u001b[0m\u001b[0m\n\u001b[1;32m    989\u001b[0m \u001b[0;34m\u001b[0m\u001b[0m\n\u001b[0;32m--> 990\u001b[0;31m       \u001b[0mfunc_outputs\u001b[0m \u001b[0;34m=\u001b[0m \u001b[0mpython_func\u001b[0m\u001b[0;34m(\u001b[0m\u001b[0;34m*\u001b[0m\u001b[0mfunc_args\u001b[0m\u001b[0;34m,\u001b[0m \u001b[0;34m**\u001b[0m\u001b[0mfunc_kwargs\u001b[0m\u001b[0;34m)\u001b[0m\u001b[0;34m\u001b[0m\u001b[0;34m\u001b[0m\u001b[0m\n\u001b[0m\u001b[1;32m    991\u001b[0m \u001b[0;34m\u001b[0m\u001b[0m\n\u001b[1;32m    992\u001b[0m       \u001b[0;31m# invariant: `func_outputs` contains only Tensors, CompositeTensors,\u001b[0m\u001b[0;34m\u001b[0m\u001b[0;34m\u001b[0m\u001b[0;34m\u001b[0m\u001b[0m\n",
            "\u001b[0;32m~/anaconda3/envs/DataSciences/lib/python3.8/site-packages/tensorflow/python/data/ops/dataset_ops.py\u001b[0m in \u001b[0;36mwrapper_fn\u001b[0;34m(*args)\u001b[0m\n\u001b[1;32m   3516\u001b[0m           attributes=defun_kwargs)\n\u001b[1;32m   3517\u001b[0m       \u001b[0;32mdef\u001b[0m \u001b[0mwrapper_fn\u001b[0m\u001b[0;34m(\u001b[0m\u001b[0;34m*\u001b[0m\u001b[0margs\u001b[0m\u001b[0;34m)\u001b[0m\u001b[0;34m:\u001b[0m  \u001b[0;31m# pylint: disable=missing-docstring\u001b[0m\u001b[0;34m\u001b[0m\u001b[0;34m\u001b[0m\u001b[0m\n\u001b[0;32m-> 3518\u001b[0;31m         \u001b[0mret\u001b[0m \u001b[0;34m=\u001b[0m \u001b[0m_wrapper_helper\u001b[0m\u001b[0;34m(\u001b[0m\u001b[0;34m*\u001b[0m\u001b[0margs\u001b[0m\u001b[0;34m)\u001b[0m\u001b[0;34m\u001b[0m\u001b[0;34m\u001b[0m\u001b[0m\n\u001b[0m\u001b[1;32m   3519\u001b[0m         \u001b[0mret\u001b[0m \u001b[0;34m=\u001b[0m \u001b[0mstructure\u001b[0m\u001b[0;34m.\u001b[0m\u001b[0mto_tensor_list\u001b[0m\u001b[0;34m(\u001b[0m\u001b[0mself\u001b[0m\u001b[0;34m.\u001b[0m\u001b[0m_output_structure\u001b[0m\u001b[0;34m,\u001b[0m \u001b[0mret\u001b[0m\u001b[0;34m)\u001b[0m\u001b[0;34m\u001b[0m\u001b[0;34m\u001b[0m\u001b[0m\n\u001b[1;32m   3520\u001b[0m         \u001b[0;32mreturn\u001b[0m \u001b[0;34m[\u001b[0m\u001b[0mops\u001b[0m\u001b[0;34m.\u001b[0m\u001b[0mconvert_to_tensor\u001b[0m\u001b[0;34m(\u001b[0m\u001b[0mt\u001b[0m\u001b[0;34m)\u001b[0m \u001b[0;32mfor\u001b[0m \u001b[0mt\u001b[0m \u001b[0;32min\u001b[0m \u001b[0mret\u001b[0m\u001b[0;34m]\u001b[0m\u001b[0;34m\u001b[0m\u001b[0;34m\u001b[0m\u001b[0m\n",
            "\u001b[0;32m~/anaconda3/envs/DataSciences/lib/python3.8/site-packages/tensorflow/python/data/ops/dataset_ops.py\u001b[0m in \u001b[0;36m_wrapper_helper\u001b[0;34m(*args)\u001b[0m\n\u001b[1;32m   3451\u001b[0m         \u001b[0mnested_args\u001b[0m \u001b[0;34m=\u001b[0m \u001b[0;34m(\u001b[0m\u001b[0mnested_args\u001b[0m\u001b[0;34m,\u001b[0m\u001b[0;34m)\u001b[0m\u001b[0;34m\u001b[0m\u001b[0;34m\u001b[0m\u001b[0m\n\u001b[1;32m   3452\u001b[0m \u001b[0;34m\u001b[0m\u001b[0m\n\u001b[0;32m-> 3453\u001b[0;31m       \u001b[0mret\u001b[0m \u001b[0;34m=\u001b[0m \u001b[0mautograph\u001b[0m\u001b[0;34m.\u001b[0m\u001b[0mtf_convert\u001b[0m\u001b[0;34m(\u001b[0m\u001b[0mfunc\u001b[0m\u001b[0;34m,\u001b[0m \u001b[0mag_ctx\u001b[0m\u001b[0;34m)\u001b[0m\u001b[0;34m(\u001b[0m\u001b[0;34m*\u001b[0m\u001b[0mnested_args\u001b[0m\u001b[0;34m)\u001b[0m\u001b[0;34m\u001b[0m\u001b[0;34m\u001b[0m\u001b[0m\n\u001b[0m\u001b[1;32m   3454\u001b[0m       \u001b[0;31m# If `func` returns a list of tensors, `nest.flatten()` and\u001b[0m\u001b[0;34m\u001b[0m\u001b[0;34m\u001b[0m\u001b[0;34m\u001b[0m\u001b[0m\n\u001b[1;32m   3455\u001b[0m       \u001b[0;31m# `ops.convert_to_tensor()` would conspire to attempt to stack\u001b[0m\u001b[0;34m\u001b[0m\u001b[0;34m\u001b[0m\u001b[0;34m\u001b[0m\u001b[0m\n",
            "\u001b[0;32m~/anaconda3/envs/DataSciences/lib/python3.8/site-packages/tensorflow/python/autograph/impl/api.py\u001b[0m in \u001b[0;36mwrapper\u001b[0;34m(*args, **kwargs)\u001b[0m\n\u001b[1;32m    665\u001b[0m       \u001b[0;32mtry\u001b[0m\u001b[0;34m:\u001b[0m\u001b[0;34m\u001b[0m\u001b[0;34m\u001b[0m\u001b[0m\n\u001b[1;32m    666\u001b[0m         \u001b[0;32mwith\u001b[0m \u001b[0mconversion_ctx\u001b[0m\u001b[0;34m:\u001b[0m\u001b[0;34m\u001b[0m\u001b[0;34m\u001b[0m\u001b[0m\n\u001b[0;32m--> 667\u001b[0;31m           \u001b[0;32mreturn\u001b[0m \u001b[0mconverted_call\u001b[0m\u001b[0;34m(\u001b[0m\u001b[0mf\u001b[0m\u001b[0;34m,\u001b[0m \u001b[0margs\u001b[0m\u001b[0;34m,\u001b[0m \u001b[0mkwargs\u001b[0m\u001b[0;34m,\u001b[0m \u001b[0moptions\u001b[0m\u001b[0;34m=\u001b[0m\u001b[0moptions\u001b[0m\u001b[0;34m)\u001b[0m\u001b[0;34m\u001b[0m\u001b[0;34m\u001b[0m\u001b[0m\n\u001b[0m\u001b[1;32m    668\u001b[0m       \u001b[0;32mexcept\u001b[0m \u001b[0mException\u001b[0m \u001b[0;32mas\u001b[0m \u001b[0me\u001b[0m\u001b[0;34m:\u001b[0m  \u001b[0;31m# pylint:disable=broad-except\u001b[0m\u001b[0;34m\u001b[0m\u001b[0;34m\u001b[0m\u001b[0m\n\u001b[1;32m    669\u001b[0m         \u001b[0;32mif\u001b[0m \u001b[0mhasattr\u001b[0m\u001b[0;34m(\u001b[0m\u001b[0me\u001b[0m\u001b[0;34m,\u001b[0m \u001b[0;34m'ag_error_metadata'\u001b[0m\u001b[0;34m)\u001b[0m\u001b[0;34m:\u001b[0m\u001b[0;34m\u001b[0m\u001b[0;34m\u001b[0m\u001b[0m\n",
            "\u001b[0;32m~/anaconda3/envs/DataSciences/lib/python3.8/site-packages/tensorflow/python/autograph/impl/api.py\u001b[0m in \u001b[0;36mconverted_call\u001b[0;34m(f, args, kwargs, caller_fn_scope, options)\u001b[0m\n\u001b[1;32m    394\u001b[0m \u001b[0;34m\u001b[0m\u001b[0m\n\u001b[1;32m    395\u001b[0m   \u001b[0;32mif\u001b[0m \u001b[0;32mnot\u001b[0m \u001b[0moptions\u001b[0m\u001b[0;34m.\u001b[0m\u001b[0muser_requested\u001b[0m \u001b[0;32mand\u001b[0m \u001b[0mconversion\u001b[0m\u001b[0;34m.\u001b[0m\u001b[0mis_allowlisted\u001b[0m\u001b[0;34m(\u001b[0m\u001b[0mf\u001b[0m\u001b[0;34m)\u001b[0m\u001b[0;34m:\u001b[0m\u001b[0;34m\u001b[0m\u001b[0;34m\u001b[0m\u001b[0m\n\u001b[0;32m--> 396\u001b[0;31m     \u001b[0;32mreturn\u001b[0m \u001b[0m_call_unconverted\u001b[0m\u001b[0;34m(\u001b[0m\u001b[0mf\u001b[0m\u001b[0;34m,\u001b[0m \u001b[0margs\u001b[0m\u001b[0;34m,\u001b[0m \u001b[0mkwargs\u001b[0m\u001b[0;34m,\u001b[0m \u001b[0moptions\u001b[0m\u001b[0;34m)\u001b[0m\u001b[0;34m\u001b[0m\u001b[0;34m\u001b[0m\u001b[0m\n\u001b[0m\u001b[1;32m    397\u001b[0m \u001b[0;34m\u001b[0m\u001b[0m\n\u001b[1;32m    398\u001b[0m   \u001b[0;31m# internal_convert_user_code is for example turned off when issuing a dynamic\u001b[0m\u001b[0;34m\u001b[0m\u001b[0;34m\u001b[0m\u001b[0;34m\u001b[0m\u001b[0m\n",
            "\u001b[0;32m~/anaconda3/envs/DataSciences/lib/python3.8/site-packages/tensorflow/python/autograph/impl/api.py\u001b[0m in \u001b[0;36m_call_unconverted\u001b[0;34m(f, args, kwargs, options, update_cache)\u001b[0m\n\u001b[1;32m    476\u001b[0m \u001b[0;34m\u001b[0m\u001b[0m\n\u001b[1;32m    477\u001b[0m   \u001b[0;32mif\u001b[0m \u001b[0mkwargs\u001b[0m \u001b[0;32mis\u001b[0m \u001b[0;32mnot\u001b[0m \u001b[0;32mNone\u001b[0m\u001b[0;34m:\u001b[0m\u001b[0;34m\u001b[0m\u001b[0;34m\u001b[0m\u001b[0m\n\u001b[0;32m--> 478\u001b[0;31m     \u001b[0;32mreturn\u001b[0m \u001b[0mf\u001b[0m\u001b[0;34m(\u001b[0m\u001b[0;34m*\u001b[0m\u001b[0margs\u001b[0m\u001b[0;34m,\u001b[0m \u001b[0;34m**\u001b[0m\u001b[0mkwargs\u001b[0m\u001b[0;34m)\u001b[0m\u001b[0;34m\u001b[0m\u001b[0;34m\u001b[0m\u001b[0m\n\u001b[0m\u001b[1;32m    479\u001b[0m   \u001b[0;32mreturn\u001b[0m \u001b[0mf\u001b[0m\u001b[0;34m(\u001b[0m\u001b[0;34m*\u001b[0m\u001b[0margs\u001b[0m\u001b[0;34m)\u001b[0m\u001b[0;34m\u001b[0m\u001b[0;34m\u001b[0m\u001b[0m\n\u001b[1;32m    480\u001b[0m \u001b[0;34m\u001b[0m\u001b[0m\n",
            "\u001b[0;32m~/anaconda3/envs/DataSciences/lib/python3.8/site-packages/tensorflow/python/keras/engine/data_adapter.py\u001b[0m in \u001b[0;36mslice_batch_indices\u001b[0;34m(indices)\u001b[0m\n\u001b[1;32m    340\u001b[0m           first_k_indices, [num_full_batches, batch_size])\n\u001b[1;32m    341\u001b[0m \u001b[0;34m\u001b[0m\u001b[0m\n\u001b[0;32m--> 342\u001b[0;31m       \u001b[0mflat_dataset\u001b[0m \u001b[0;34m=\u001b[0m \u001b[0mdataset_ops\u001b[0m\u001b[0;34m.\u001b[0m\u001b[0mDatasetV2\u001b[0m\u001b[0;34m.\u001b[0m\u001b[0mfrom_tensor_slices\u001b[0m\u001b[0;34m(\u001b[0m\u001b[0mfirst_k_indices\u001b[0m\u001b[0;34m)\u001b[0m\u001b[0;34m\u001b[0m\u001b[0;34m\u001b[0m\u001b[0m\n\u001b[0m\u001b[1;32m    343\u001b[0m       \u001b[0;32mif\u001b[0m \u001b[0mself\u001b[0m\u001b[0;34m.\u001b[0m\u001b[0m_partial_batch_size\u001b[0m\u001b[0;34m:\u001b[0m\u001b[0;34m\u001b[0m\u001b[0;34m\u001b[0m\u001b[0m\n\u001b[1;32m    344\u001b[0m         index_remainder = dataset_ops.DatasetV2.from_tensors(array_ops.slice(\n",
            "\u001b[0;32m~/anaconda3/envs/DataSciences/lib/python3.8/site-packages/tensorflow/python/data/ops/dataset_ops.py\u001b[0m in \u001b[0;36mfrom_tensor_slices\u001b[0;34m(tensors)\u001b[0m\n\u001b[1;32m    689\u001b[0m       \u001b[0mDataset\u001b[0m\u001b[0;34m:\u001b[0m \u001b[0mA\u001b[0m\u001b[0;31m \u001b[0m\u001b[0;31m`\u001b[0m\u001b[0mDataset\u001b[0m\u001b[0;31m`\u001b[0m\u001b[0;34m.\u001b[0m\u001b[0;34m\u001b[0m\u001b[0;34m\u001b[0m\u001b[0m\n\u001b[1;32m    690\u001b[0m     \"\"\"\n\u001b[0;32m--> 691\u001b[0;31m     \u001b[0;32mreturn\u001b[0m \u001b[0mTensorSliceDataset\u001b[0m\u001b[0;34m(\u001b[0m\u001b[0mtensors\u001b[0m\u001b[0;34m)\u001b[0m\u001b[0;34m\u001b[0m\u001b[0;34m\u001b[0m\u001b[0m\n\u001b[0m\u001b[1;32m    692\u001b[0m \u001b[0;34m\u001b[0m\u001b[0m\n\u001b[1;32m    693\u001b[0m   \u001b[0;32mclass\u001b[0m \u001b[0m_GeneratorState\u001b[0m\u001b[0;34m(\u001b[0m\u001b[0mobject\u001b[0m\u001b[0;34m)\u001b[0m\u001b[0;34m:\u001b[0m\u001b[0;34m\u001b[0m\u001b[0;34m\u001b[0m\u001b[0m\n",
            "\u001b[0;32m~/anaconda3/envs/DataSciences/lib/python3.8/site-packages/tensorflow/python/data/ops/dataset_ops.py\u001b[0m in \u001b[0;36m__init__\u001b[0;34m(self, element)\u001b[0m\n\u001b[1;32m   3165\u001b[0m           tensor_shape.dimension_value(t.get_shape()[0])))\n\u001b[1;32m   3166\u001b[0m \u001b[0;34m\u001b[0m\u001b[0m\n\u001b[0;32m-> 3167\u001b[0;31m     variant_tensor = gen_dataset_ops.tensor_slice_dataset(\n\u001b[0m\u001b[1;32m   3168\u001b[0m         \u001b[0mself\u001b[0m\u001b[0;34m.\u001b[0m\u001b[0m_tensors\u001b[0m\u001b[0;34m,\u001b[0m\u001b[0;34m\u001b[0m\u001b[0;34m\u001b[0m\u001b[0m\n\u001b[1;32m   3169\u001b[0m         output_shapes=structure.get_flat_tensor_shapes(self._structure))\n",
            "\u001b[0;32m~/anaconda3/envs/DataSciences/lib/python3.8/site-packages/tensorflow/python/ops/gen_dataset_ops.py\u001b[0m in \u001b[0;36mtensor_slice_dataset\u001b[0;34m(components, output_shapes, name)\u001b[0m\n\u001b[1;32m   6772\u001b[0m         \"'tensor_slice_dataset' Op, not %r.\" % output_shapes)\n\u001b[1;32m   6773\u001b[0m   \u001b[0moutput_shapes\u001b[0m \u001b[0;34m=\u001b[0m \u001b[0;34m[\u001b[0m\u001b[0m_execute\u001b[0m\u001b[0;34m.\u001b[0m\u001b[0mmake_shape\u001b[0m\u001b[0;34m(\u001b[0m\u001b[0m_s\u001b[0m\u001b[0;34m,\u001b[0m \u001b[0;34m\"output_shapes\"\u001b[0m\u001b[0;34m)\u001b[0m \u001b[0;32mfor\u001b[0m \u001b[0m_s\u001b[0m \u001b[0;32min\u001b[0m \u001b[0moutput_shapes\u001b[0m\u001b[0;34m]\u001b[0m\u001b[0;34m\u001b[0m\u001b[0;34m\u001b[0m\u001b[0m\n\u001b[0;32m-> 6774\u001b[0;31m   _, _, _op, _outputs = _op_def_library._apply_op_helper(\n\u001b[0m\u001b[1;32m   6775\u001b[0m         \u001b[0;34m\"TensorSliceDataset\"\u001b[0m\u001b[0;34m,\u001b[0m \u001b[0mcomponents\u001b[0m\u001b[0;34m=\u001b[0m\u001b[0mcomponents\u001b[0m\u001b[0;34m,\u001b[0m\u001b[0;34m\u001b[0m\u001b[0;34m\u001b[0m\u001b[0m\n\u001b[1;32m   6776\u001b[0m                               output_shapes=output_shapes, name=name)\n",
            "\u001b[0;32m~/anaconda3/envs/DataSciences/lib/python3.8/site-packages/tensorflow/python/framework/op_def_library.py\u001b[0m in \u001b[0;36m_apply_op_helper\u001b[0;34m(op_type_name, name, **keywords)\u001b[0m\n\u001b[1;32m    746\u001b[0m       \u001b[0;31m# Add Op to graph\u001b[0m\u001b[0;34m\u001b[0m\u001b[0;34m\u001b[0m\u001b[0;34m\u001b[0m\u001b[0m\n\u001b[1;32m    747\u001b[0m       \u001b[0;31m# pylint: disable=protected-access\u001b[0m\u001b[0;34m\u001b[0m\u001b[0;34m\u001b[0m\u001b[0;34m\u001b[0m\u001b[0m\n\u001b[0;32m--> 748\u001b[0;31m       op = g._create_op_internal(op_type_name, inputs, dtypes=None,\n\u001b[0m\u001b[1;32m    749\u001b[0m                                  \u001b[0mname\u001b[0m\u001b[0;34m=\u001b[0m\u001b[0mscope\u001b[0m\u001b[0;34m,\u001b[0m \u001b[0minput_types\u001b[0m\u001b[0;34m=\u001b[0m\u001b[0minput_types\u001b[0m\u001b[0;34m,\u001b[0m\u001b[0;34m\u001b[0m\u001b[0;34m\u001b[0m\u001b[0m\n\u001b[1;32m    750\u001b[0m                                  attrs=attr_protos, op_def=op_def)\n",
            "\u001b[0;32m~/anaconda3/envs/DataSciences/lib/python3.8/site-packages/tensorflow/python/framework/func_graph.py\u001b[0m in \u001b[0;36m_create_op_internal\u001b[0;34m(self, op_type, inputs, dtypes, input_types, name, attrs, op_def, compute_device)\u001b[0m\n\u001b[1;32m    588\u001b[0m       \u001b[0minp\u001b[0m \u001b[0;34m=\u001b[0m \u001b[0mself\u001b[0m\u001b[0;34m.\u001b[0m\u001b[0mcapture\u001b[0m\u001b[0;34m(\u001b[0m\u001b[0minp\u001b[0m\u001b[0;34m)\u001b[0m\u001b[0;34m\u001b[0m\u001b[0;34m\u001b[0m\u001b[0m\n\u001b[1;32m    589\u001b[0m       \u001b[0mcaptured_inputs\u001b[0m\u001b[0;34m.\u001b[0m\u001b[0mappend\u001b[0m\u001b[0;34m(\u001b[0m\u001b[0minp\u001b[0m\u001b[0;34m)\u001b[0m\u001b[0;34m\u001b[0m\u001b[0;34m\u001b[0m\u001b[0m\n\u001b[0;32m--> 590\u001b[0;31m     return super(FuncGraph, self)._create_op_internal(  # pylint: disable=protected-access\n\u001b[0m\u001b[1;32m    591\u001b[0m         \u001b[0mop_type\u001b[0m\u001b[0;34m,\u001b[0m \u001b[0mcaptured_inputs\u001b[0m\u001b[0;34m,\u001b[0m \u001b[0mdtypes\u001b[0m\u001b[0;34m,\u001b[0m \u001b[0minput_types\u001b[0m\u001b[0;34m,\u001b[0m \u001b[0mname\u001b[0m\u001b[0;34m,\u001b[0m \u001b[0mattrs\u001b[0m\u001b[0;34m,\u001b[0m \u001b[0mop_def\u001b[0m\u001b[0;34m,\u001b[0m\u001b[0;34m\u001b[0m\u001b[0;34m\u001b[0m\u001b[0m\n\u001b[1;32m    592\u001b[0m         compute_device)\n",
            "\u001b[0;32m~/anaconda3/envs/DataSciences/lib/python3.8/site-packages/tensorflow/python/framework/ops.py\u001b[0m in \u001b[0;36m_create_op_internal\u001b[0;34m(self, op_type, inputs, dtypes, input_types, name, attrs, op_def, compute_device)\u001b[0m\n\u001b[1;32m   3526\u001b[0m     \u001b[0;31m# Session.run call cannot occur between creating and mutating the op.\u001b[0m\u001b[0;34m\u001b[0m\u001b[0;34m\u001b[0m\u001b[0;34m\u001b[0m\u001b[0m\n\u001b[1;32m   3527\u001b[0m     \u001b[0;32mwith\u001b[0m \u001b[0mself\u001b[0m\u001b[0;34m.\u001b[0m\u001b[0m_mutation_lock\u001b[0m\u001b[0;34m(\u001b[0m\u001b[0;34m)\u001b[0m\u001b[0;34m:\u001b[0m\u001b[0;34m\u001b[0m\u001b[0;34m\u001b[0m\u001b[0m\n\u001b[0;32m-> 3528\u001b[0;31m       ret = Operation(\n\u001b[0m\u001b[1;32m   3529\u001b[0m           \u001b[0mnode_def\u001b[0m\u001b[0;34m,\u001b[0m\u001b[0;34m\u001b[0m\u001b[0;34m\u001b[0m\u001b[0m\n\u001b[1;32m   3530\u001b[0m           \u001b[0mself\u001b[0m\u001b[0;34m,\u001b[0m\u001b[0;34m\u001b[0m\u001b[0;34m\u001b[0m\u001b[0m\n",
            "\u001b[0;32m~/anaconda3/envs/DataSciences/lib/python3.8/site-packages/tensorflow/python/framework/ops.py\u001b[0m in \u001b[0;36m__init__\u001b[0;34m(self, node_def, g, inputs, output_types, control_inputs, input_types, original_op, op_def)\u001b[0m\n\u001b[1;32m   2013\u001b[0m       \u001b[0;32mif\u001b[0m \u001b[0mop_def\u001b[0m \u001b[0;32mis\u001b[0m \u001b[0;32mNone\u001b[0m\u001b[0;34m:\u001b[0m\u001b[0;34m\u001b[0m\u001b[0;34m\u001b[0m\u001b[0m\n\u001b[1;32m   2014\u001b[0m         \u001b[0mop_def\u001b[0m \u001b[0;34m=\u001b[0m \u001b[0mself\u001b[0m\u001b[0;34m.\u001b[0m\u001b[0m_graph\u001b[0m\u001b[0;34m.\u001b[0m\u001b[0m_get_op_def\u001b[0m\u001b[0;34m(\u001b[0m\u001b[0mnode_def\u001b[0m\u001b[0;34m.\u001b[0m\u001b[0mop\u001b[0m\u001b[0;34m)\u001b[0m\u001b[0;34m\u001b[0m\u001b[0;34m\u001b[0m\u001b[0m\n\u001b[0;32m-> 2015\u001b[0;31m       self._c_op = _create_c_op(self._graph, node_def, inputs,\n\u001b[0m\u001b[1;32m   2016\u001b[0m                                 control_input_ops, op_def)\n\u001b[1;32m   2017\u001b[0m       \u001b[0mname\u001b[0m \u001b[0;34m=\u001b[0m \u001b[0mcompat\u001b[0m\u001b[0;34m.\u001b[0m\u001b[0mas_str\u001b[0m\u001b[0;34m(\u001b[0m\u001b[0mnode_def\u001b[0m\u001b[0;34m.\u001b[0m\u001b[0mname\u001b[0m\u001b[0;34m)\u001b[0m\u001b[0;34m\u001b[0m\u001b[0;34m\u001b[0m\u001b[0m\n",
            "\u001b[0;32m~/anaconda3/envs/DataSciences/lib/python3.8/site-packages/tensorflow/python/framework/ops.py\u001b[0m in \u001b[0;36m_create_c_op\u001b[0;34m(graph, node_def, inputs, control_inputs, op_def)\u001b[0m\n\u001b[1;32m   1847\u001b[0m     \u001b[0;31m# TODO(skyewm): this creates and deletes a new TF_Status for every attr.\u001b[0m\u001b[0;34m\u001b[0m\u001b[0;34m\u001b[0m\u001b[0;34m\u001b[0m\u001b[0m\n\u001b[1;32m   1848\u001b[0m     \u001b[0;31m# It might be worth creating a convenient way to re-use the same status.\u001b[0m\u001b[0;34m\u001b[0m\u001b[0;34m\u001b[0m\u001b[0;34m\u001b[0m\u001b[0m\n\u001b[0;32m-> 1849\u001b[0;31m     pywrap_tf_session.TF_SetAttrValueProto(op_desc, compat.as_str(name),\n\u001b[0m\u001b[1;32m   1850\u001b[0m                                            serialized)\n\u001b[1;32m   1851\u001b[0m \u001b[0;34m\u001b[0m\u001b[0m\n",
            "\u001b[0;31mKeyboardInterrupt\u001b[0m: "
          ]
        }
      ]
    },
    {
      "cell_type": "code",
      "metadata": {
        "id": "jqc5EbDe-OWs"
      },
      "source": [],
      "execution_count": null,
      "outputs": []
    }
  ]
}