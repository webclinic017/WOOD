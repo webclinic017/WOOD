{
 "metadata": {
  "language_info": {
   "codemirror_mode": {
    "name": "ipython",
    "version": 3
   },
   "file_extension": ".py",
   "mimetype": "text/x-python",
   "name": "python",
   "nbconvert_exporter": "python",
   "pygments_lexer": "ipython3",
   "version": "3.8.5"
  },
  "orig_nbformat": 2,
  "kernelspec": {
   "name": "python385jvsc74a57bd07f9c69b77f8cb78a9d8b8acc2d09c3972908e6673afd8bfd04ee2f6acaaac495",
   "display_name": "Python 3.8.5 64-bit ('DataSciences': conda)"
  },
  "metadata": {
   "interpreter": {
    "hash": "7f9c69b77f8cb78a9d8b8acc2d09c3972908e6673afd8bfd04ee2f6acaaac495"
   }
  }
 },
 "nbformat": 4,
 "nbformat_minor": 2,
 "cells": [
  {
   "cell_type": "code",
   "execution_count": 2,
   "metadata": {},
   "outputs": [],
   "source": [
    "# Gym Stuff\n",
    "import gym\n",
    "from gym import spaces\n",
    "from gym.utils import seeding\n",
    "from stable_baselines3.common.callbacks import EvalCallback, StopTrainingOnRewardThreshold\n",
    "\n",
    "\n",
    "# Stable Baselines : RL Stuff\n",
    "#from stable_baselines3.common.vec_env import DummyVecEnv\n",
    "from stable_baselines3 import A2C, PPO\n",
    "\n",
    "# Proceesing librairies\n",
    "import numpy as np\n",
    "import pandas as pd\n",
    "from enum import Enum\n",
    "from matplotlib import pyplot as plt\n",
    "from natsort import natsorted\n",
    "from sklearn.preprocessing import MinMaxScaler, StandardScaler\n",
    "\n",
    "\n",
    "# Side Stuff\n",
    "import time\n",
    "import joblib\n",
    "import warnings\n",
    "\n",
    "# Technical analysis\n",
    "from finta import TA\n",
    "\n",
    "warnings.filterwarnings(\"ignore\")"
   ]
  },
  {
   "cell_type": "code",
   "execution_count": null,
   "metadata": {},
   "outputs": [],
   "source": []
  },
  {
   "cell_type": "code",
   "execution_count": 3,
   "metadata": {},
   "outputs": [],
   "source": [
    "TIK = ['AUD','NZD','GBP','JPY','CHF','CAD','SEK','NOK','ILS','MXN','USD','EUR']\n",
    "RATE = [0.776,0.721,1.3912,1/105.91,1/0.892,1/1.2681,1/8.2884,1/8.4261,1/3.2385,1/20.1564,1,1.21]\n",
    "df_ratefx = pd.DataFrame(index=TIK)\n",
    "df_ratefx['rate'] = RATE\n",
    "\n",
    "x = 'EUR/USD'\n",
    "_period = 'm5'\n",
    "_period2 = 'H1'\n",
    "_ticker = x.replace('/','')\n",
    "_start = '2010-01-01' # start the train there '2010-01-01'\n",
    "_mid = '2016-06-30' # stop the train and begin the test there '2016-08-31'\n",
    "_stop = '2017-12-31' # stop the test there. After that, it is kept for oos '2017-12-31'\n",
    "_last = '2021-04-29' # '2020-12-31'\n",
    "_nb_bougie_exit = 5555555555\n",
    "_trigger_reengage = 0\n",
    "_trigger_target = 1\n",
    "_trigger_invers = 0\n",
    "_trigger_sl = 1\n",
    "_trigger_rsi = 1\n",
    "_verbose = 0\n",
    "_cash_ini = 200000\n",
    "_target = 0.002\n",
    "_sl = 0.001\n",
    "_exposure = 2\n",
    "_rate = df_ratefx.loc[x[4:],'rate']\n",
    "_size = _cash_ini / df_ratefx.loc[x[:3],'rate']\n",
    "_trigger_spread = 0.025\n",
    "_no_access = 0"
   ]
  },
  {
   "cell_type": "code",
   "execution_count": null,
   "metadata": {},
   "outputs": [],
   "source": []
  },
  {
   "cell_type": "code",
   "execution_count": 4,
   "metadata": {},
   "outputs": [],
   "source": [
    "class Actions(Enum):\n",
    "    Hold = 0\n",
    "    Buy = 1\n",
    "    Sell = 2\n",
    "\n",
    "\n",
    "class Positions(Enum):\n",
    "    Flat = 0\n",
    "    Long = 1\n",
    "    Short = 2"
   ]
  },
  {
   "cell_type": "code",
   "execution_count": 49,
   "metadata": {},
   "outputs": [
    {
     "output_type": "execute_result",
     "data": {
      "text/plain": [
       "0"
      ]
     },
     "metadata": {},
     "execution_count": 49
    }
   ],
   "source": []
  },
  {
   "cell_type": "code",
   "execution_count": 103,
   "metadata": {},
   "outputs": [],
   "source": [
    "class GolemTradingEnv(gym.Env):\n",
    "\n",
    "    metadata = {'render.modes': ['human']}\n",
    "\n",
    "    def __init__(self, df, window_size):\n",
    "        assert df.ndim == 2\n",
    "\n",
    "        # Fix the random seed state\n",
    "        self.seed()\n",
    "        # Let's call it df, won't we?\n",
    "        self.df = df\n",
    "        # Do the same with window_size\n",
    "        self.window_size = window_size\n",
    "        # Get Signal & Features from df\n",
    "        self.signal, self.signal_features = self._process_data()\n",
    "        # Make the shape\n",
    "        self.shape = (window_size, self.signal_features.shape[1])\n",
    "\n",
    "        # How lany Action do we have\n",
    "        self.action_space = spaces.MultiDiscrete(len(Actions))\n",
    "        # Dimension of our space, and caracteristics\n",
    "        self.observation_space = spaces.Box(low=-1,high=1,shape=self.shape,dtype=np.float32)\n",
    "\n",
    "        # For one episode, we begin at window_size\n",
    "        self._start_tick = self.window_size\n",
    "        # And we finish at the end of price (processed df)\n",
    "        self._end_tick = len(self.df) - 1\n",
    "\n",
    "        # Initialisation of variables\n",
    "        self._done = None\n",
    "        self._current_tick = None\n",
    "        self._last_trade_tick = None\n",
    "        self._total_reward = None\n",
    "        self._first_rendering = None\n",
    "        self.history = None\n",
    "\n",
    "\n",
    "    def seed(self, seed=42):\n",
    "        self.np_random, seed = seeding.np_random(seed)\n",
    "        return [seed]\n",
    "\n",
    "\n",
    "    def reset(self):\n",
    "        self._done = False\n",
    "        self._current_tick = self._start_tick\n",
    "        self._last_trade_tick = self._current_tick - 40\n",
    "        self._total_reward = 0.\n",
    "        self._first_rendering = True\n",
    "         \n",
    "\n",
    "\n",
    "    def _step(self, action):\n",
    "        \n",
    "        self._current_tick += 1\n",
    "\n",
    "        if self._current_tick == self._end_tick:\n",
    "            self._done = True\n",
    "        else:\n",
    "            self._done = False\n",
    "\n",
    "        step_reward = self._calculate_reward(action)\n",
    "        self._total_reward += step_reward\n",
    "\n",
    "        if action == 0:\n",
    "            self._position = Positions.Flat\n",
    "        elif action == 1:\n",
    "            self._position = Positions.Long\n",
    "        elif action == 2:\n",
    "            self._position = Positions.Short\n",
    "     \n",
    "        info = dict(\n",
    "            total_reward = self._total_reward\n",
    "        )\n",
    "        #self._update_history(info)\n",
    "\n",
    "        return step_reward, self._done, info\n",
    "\n",
    "\n",
    "    def render(self, mode='human'):\n",
    "\n",
    "        def _plot_position(position, tick):\n",
    "            color ='orange'\n",
    "            plt.plot(tick, self.step_reward, color=color)\n",
    "\n",
    "        if self._first_rendering:\n",
    "            self._first_rendering = False\n",
    "            plt.cla()\n",
    "            plt.plot(tick, self.step_reward, color=color)\n",
    "            \n",
    "\n",
    "        _plot_position(self._position, self._current_tick)\n",
    "\n",
    "        print(\"Total Reward: %.6f\" % self._total_reward + ' ~ ')\n",
    "\n",
    "        plt.pause(0.01)\n",
    "\n",
    "\n",
    "    def render_all(self, mode='human'):\n",
    "        print('Render_all under construction')\n",
    "        print(\"Total Reward: %.6f\" % self._total_reward + ' ~ ' \n",
    "        )\n",
    "        \n",
    "        \n",
    "    def close(self):\n",
    "        plt.close()\n",
    "\n",
    "\n",
    "    def save_rendering(self, filepath):\n",
    "        plt.savefig(filepath)\n",
    "\n",
    "\n",
    "    def pause_rendering(self):\n",
    "        plt.show()\n",
    "\n",
    "\n",
    "    def _process_data(self):\n",
    "        raise NotImplementedError\n",
    "\n",
    "\n",
    "    def _calculate_reward(self, action):\n",
    "        raise NotImplementedError\n",
    "\n",
    "\n",
    "    def _update_profit(self, action):\n",
    "        raise NotImplementedError\n",
    "\n",
    "\n",
    "    def max_possible_profit(self):  # trade fees are ignored\n",
    "        raise NotImplementedError\n"
   ]
  },
  {
   "cell_type": "code",
   "execution_count": null,
   "metadata": {},
   "outputs": [],
   "source": []
  },
  {
   "cell_type": "code",
   "execution_count": 104,
   "metadata": {},
   "outputs": [],
   "source": [
    "class ForexEnv(GolemTradingEnv):\n",
    "\n",
    "    def __init__(self, df, window_size, frame_bound): #, unit_side='left'):\n",
    "        assert len(frame_bound) == 2\n",
    "        #assert unit_side.lower() in ['left', 'right']\n",
    "\n",
    "        self.frame_bound = frame_bound\n",
    "        #self.unit_side = unit_side.lower()\n",
    "        super().__init__(df, window_size)\n",
    " \n",
    "    def _process_data(self):\n",
    "        signal = self.df.loc[:, 'Signal'].to_numpy()\n",
    "\n",
    "        #signal[self.frame_bound[0] - self.window_size]  # validate index (TODO: Improve validation)\n",
    "        #signal = signal[self.frame_bound[0]-self.window_size:self.frame_bound[1]]\n",
    "\n",
    "        #diff = np.insert(np.diff(prices), 0, 0)\n",
    "        #signal_features = np.column_stack((self.df[['Body','Color','LowerShadow','UpperShadow']]))\n",
    "        signal_features = self.df.drop(['Signal'],axis=1).to_numpy()\n",
    "\n",
    "        return signal, signal_features\n",
    "\n",
    "\n",
    "    def _calculate_reward(self, action):\n",
    "        step_reward = 0  # pip\n",
    "\n",
    "        if (action == 1 and self.signal[self._current_tick] == 1) or (action == 2 and self.signal[self._current_tick] == -1):\n",
    "            step_reward += 100\n",
    "        elif (action == 0 and self.signal[self._current_tick] == 0):\n",
    "            step_reward += 10\n",
    "        elif (action == 0 and self.signal[self._current_tick] == 1) or (action == 0 and self.signal[self._current_tick] == -1):\n",
    "            step_reward -= 100\n",
    "        elif (action == 1 and self.signal[self._current_tick] == -1) or (action == 1 and self.signal[self._current_tick] == 0) or (action == 2 and self.signal[self._current_tick] == 1)\\\n",
    "             or (action == 2 and self.signal[self._current_tick] == 0):\n",
    "            step_reward -= 10\n",
    "\n",
    "        return step_reward\n",
    "\n",
    "\n",
    "    def _update_profit(self, step_reward):\n",
    "        self._total_profit += step_reward\n",
    "\n",
    "\n",
    "    def max_possible_profit(self):\n",
    "        current_tick = self._start_tick\n",
    "        profit = 0\n",
    "\n",
    "        while current_tick <= self._end_tick:\n",
    "\n",
    "            if (self.signal[current_tick] == 1) or (self.signal[current_tick] == -1):\n",
    "                profit += 100\n",
    "            elif (self.signal[current_tick] == 0):\n",
    "                profit += 10\n",
    "\n",
    "            current_tick = current_tick - 1\n",
    "\n",
    "        return profit"
   ]
  },
  {
   "cell_type": "code",
   "execution_count": null,
   "metadata": {},
   "outputs": [],
   "source": []
  },
  {
   "cell_type": "code",
   "execution_count": 92,
   "metadata": {},
   "outputs": [],
   "source": [
    "def split_df(df):\n",
    "    \"\"\"[Split the dtaframe in train/test/oos and reduce train and test to dataframe with signal!=0 only]\n",
    "\n",
    "    Args:\n",
    "        df ([pandas]): [the datframe to split already featured]\n",
    "        _start ([date]): [beginning of the df]\n",
    "        _mid ([date]): [stop of the train and beginning of the test]\n",
    "        _stop ([date]): [stop of the test and beginning of the oos]\n",
    "        _last ([date]): [end of the oos]\n",
    "    \"\"\"    \n",
    "    df = df.dropna()\n",
    "    df['Date'] = pd.to_datetime(df.index)\n",
    "    df_train = df[(df.Date>=_start)&(df.Date<=_mid)]\n",
    "    df_test = df[(df.Date>_mid)&(df.Date<=_stop)]\n",
    "    df_oos = df[(df.Date>_stop)&(df.Date <= _last)]\n",
    "    df_train = df_train.drop(['Date'],axis=1)\n",
    "    df_test = df_test.drop(['Date'],axis=1)\n",
    "    df_oos = df_oos.drop(['Date'],axis=1)\n",
    "    return(df_train, df_test,df_oos)\n",
    "\n",
    "def klines(df):\n",
    "    _condition1 = df.Close >= df.Open\n",
    "    df['Color'] = np.where(_condition1,1,-1)\n",
    "    _condition2 = df.Color = 1\n",
    "    df['UpperShadow'] = np.where(_condition2,(df.High-df.Close),(df.High-df.Open))\n",
    "    df['LowerShadow'] = np.where(_condition2,(df.Open-df.Low),(df.Close-df.Low))\n",
    "    df['Body'] = abs(df.Close-df.Open)\n",
    "    return (df)\n",
    "\n",
    "def strategy(df,_window=40):\n",
    "\n",
    "    #df['RSI_2'] = TA.RSI(ohlc=df,int=2,str='Close')\n",
    "\n",
    "    df['Window_High_Ask'] = df.HighAsk.iloc[::-1].rolling(_window).max().iloc[::-1] # Limite SL Short\n",
    "    df['Window_High_Bid'] = df.HighBid.iloc[::-1].rolling(_window).max().iloc[::-1] # Limite Target Long\n",
    "    df['Window_Low_Ask'] = df.LowAsk.iloc[::-1].rolling(_window).min().iloc[::-1] # Limite Target Short\n",
    "    df['Window_Low_Bid'] = df.LowBid.iloc[::-1].rolling(_window).min().iloc[::-1] # Limite SL Long\n",
    "    df['Window_sl_Short'] = df.CloseBid + (df.CloseBid * _sl) # Short pour SL\n",
    "    df['Window_sl_Long'] = df.CloseAsk - (df.CloseAsk * _sl) # Long pour SL\n",
    "    df['Window_tp_Short'] = df.CloseBid - (df.CloseBid * _target) # Short pour TP\n",
    "    df['Window_tp_Long'] = df.CloseAsk + (df.CloseAsk * _target) # Long pour TP\n",
    "\n",
    "    ##### CONDITIONS LONG\n",
    "    _condition_1 = (df['Window_tp_Long'] <= df['Window_High_Bid']) & (df['Window_sl_Long'] <= df['Window_Low_Bid'])\n",
    "\n",
    "    ##### CONDITIONS SHORT\n",
    "    _condition_1_bar = (df['Window_tp_Short'] >= df['Window_Low_Ask']) & (df['Window_sl_Short'] >= df['Window_High_Ask'])\n",
    "\n",
    "    ##### 1 condition\n",
    "    df['Signal'] = np.where(_condition_1,1,np.where(_condition_1_bar,-1,0))\n",
    "    df = df.drop(['Symbol','Date','DateIndex','Window_High_Ask','Window_High_Bid','Window_Low_Ask','Window_Low_Bid','Window_sl_Short','Window_sl_Long','Window_tp_Short','Window_tp_Long'], axis=1)\n",
    "    return(df.sort_index(axis=0))\n",
    "\n",
    "def undersample(df):\n",
    "    \n",
    "    print('Avant Resampling :')\n",
    "    print('Classe 0',df[df.Signal==0].shape[0])\n",
    "    print('Classe 1',df[df.Signal==1].shape[0])\n",
    "    print('Classe -1',df[df.Signal==-1].shape[0])\n",
    "\n",
    "    # Class count\n",
    "    count_class_0, count_class_1, count_class_2 = df_train.Signal.value_counts()\n",
    "    # Divide by class\n",
    "    df_class_0 = df[df.Signal== 0]\n",
    "    df_class_1 = df[df.Signal != 0]\n",
    "\n",
    "    df_class_0_under = df_class_0.sample(int((count_class_1+count_class_1)/1.5))\n",
    "    df = pd.concat([df_class_0_under, df_class_1], axis=0)\n",
    "    df = df.sort_index()\n",
    "    print('Random under-sampling:')\n",
    "    print(df.Signal.value_counts())\n",
    "\n",
    "    # Classify and report the results\n",
    "    print('\\nAprès resample:')\n",
    "    print('Classe 0',df[df.Signal==0].shape[0])\n",
    "    print('Classe 1',df[df.Signal==1].shape[0])\n",
    "    print('Classe -1',df[df.Signal==-1].shape[0])\n",
    "    return df"
   ]
  },
  {
   "cell_type": "code",
   "execution_count": null,
   "metadata": {},
   "outputs": [],
   "source": []
  },
  {
   "cell_type": "code",
   "execution_count": 105,
   "metadata": {},
   "outputs": [
    {
     "output_type": "stream",
     "name": "stdout",
     "text": [
      "\n",
      "Test du moteur de RL. Rien n'est optimisé pour la performance pour le moment. Seul le moteur est testé\n",
      "\n",
      "Chargement de la base et reverse sorting\n",
      "\n",
      "Split en 3 bases, train, test et oos\n",
      "Sorting the 3 bases in Ascending=False\n",
      "\n",
      "Tail du train\n",
      "                         Body  Color  LowerShadow  Signal  UpperShadow\n",
      "2010-01-04 00:20:00  0.054942      1     0.010510      -1     0.010062\n",
      "2010-01-04 00:15:00  0.058340      1     0.005414       0     0.012009\n",
      "2010-01-04 00:10:00  0.093741      1     0.105732       0     0.115871\n",
      "2010-01-04 00:05:00  0.021524      1     0.094904       0     0.027264\n",
      "2010-01-04 00:00:00  0.031153      1     0.080892      -1     0.035703\n",
      "\n",
      "Tail du oos\n",
      "                         Body  Color  LowerShadow  Signal  UpperShadow\n",
      "2018-01-01 18:55:00  0.000754      1     0.008462       0     0.000592\n",
      "2018-01-01 18:50:00  0.000000      1     0.007692       0     0.042604\n",
      "2018-01-01 18:35:00  0.000000      1     0.042308       0     0.000000\n",
      "2018-01-01 18:25:00  0.000000      1     0.026923       0     0.000000\n",
      "2018-01-01 18:10:00  0.024115      1     0.169231       0     0.000000\n",
      "CPU times: user 1.18 s, sys: 434 ms, total: 1.62 s\n",
      "Wall time: 1.48 s\n"
     ]
    }
   ],
   "source": [
    "%%time\n",
    "print(\"\\nTest du moteur de RL. Rien n'est optimisé pour la performance pour le moment. Seul le moteur est testé\")\n",
    "    \n",
    "print(\"\\nChargement de la base et reverse sorting\")\n",
    "df = joblib.load('BASES/EURUSD_m5')\n",
    "\n",
    "print(\"\\nSplit en 3 bases, train, test et oos\")\n",
    "\n",
    "df = klines(df)\n",
    "\n",
    "df = strategy(df)\n",
    "\n",
    "df = df[['Body','Color','LowerShadow','UpperShadow','Signal']]\n",
    "\n",
    "df_train, df_test, df_oos = split_df(df)\n",
    "\n",
    "df_oos_raw = df_oos.copy().dropna()\n",
    "\n",
    "df_train = pd.concat([df_train , df_test])\n",
    "df_train.sort_index(inplace=True)\n",
    "\n",
    "scaler = MinMaxScaler()\n",
    "\n",
    "for i in df.columns.unique():\n",
    "    if i != 'Signal' and i != 'Color':\n",
    "        df_train[i] = scaler.fit_transform(df_train[i].values.reshape(-1, 1))\n",
    "        #df_test[i] = scaler.fit_transform(df_test[i].values.reshape(-1, 1))\n",
    "        df_oos[i] = scaler.fit_transform(df_oos[i].values.reshape(-1, 1))\n",
    "\n",
    "df_train = df_train.dropna()\n",
    "#df_train = undersample(df_train)\n",
    "#df_test = df_test.dropna()\n",
    "df_oos = df_oos.dropna()\n",
    "\n",
    "df_oos= df_oos.reindex(natsorted(df_oos.columns), axis=1)\n",
    "df_train = df_train.reindex(natsorted(df_train.columns), axis=1)\n",
    "df_oos_raw = df_oos_raw.reindex(natsorted(df_oos_raw.columns), axis=1)\n",
    "\n",
    "print(\"Sorting the 3 bases in Ascending=False\")\n",
    "df_train.sort_index(ascending=False,inplace=True)\n",
    "df_test.sort_index(ascending=False,inplace=True)\n",
    "df_oos.sort_index(ascending=False,inplace=True)\n",
    "print('\\nTail du train')\n",
    "print(df_train.tail())\n",
    "#print(\"\\nTail du test\")\n",
    "#print(df_test.tail())\n",
    "print(\"\\nTail du oos\")\n",
    "print(df_oos.tail())\n"
   ]
  },
  {
   "cell_type": "code",
   "execution_count": null,
   "metadata": {},
   "outputs": [],
   "source": []
  },
  {
   "cell_type": "code",
   "execution_count": 106,
   "metadata": {},
   "outputs": [
    {
     "output_type": "stream",
     "name": "stdout",
     "text": [
      "\nCréation de l'environnement\nCPU times: user 8.92 ms, sys: 1.52 ms, total: 10.4 ms\nWall time: 8.78 ms\n"
     ]
    }
   ],
   "source": [
    "%%time\n",
    "print(\"\\nCréation de l'environnement\")\n",
    "_env = ForexEnv(df_train,frame_bound=(40,int(df_oos.shape[0])),window_size=40)\n"
   ]
  },
  {
   "cell_type": "code",
   "execution_count": null,
   "metadata": {},
   "outputs": [],
   "source": []
  },
  {
   "cell_type": "code",
   "execution_count": 110,
   "metadata": {},
   "outputs": [
    {
     "output_type": "stream",
     "name": "stdout",
     "text": [
      "\n",
      "Test random sans learning\n",
      "\n",
      "New reward_min : -10 \n",
      "\n",
      "\n",
      "New reward_max : 100 \n",
      "\n",
      "\n",
      "New reward_min : -100 \n",
      "\n",
      "Info : {'total_reward': -1933630.0}\n",
      "Render_all under construction\n",
      "Total Reward: -1933630.000000 ~ \n",
      "\n",
      "CPU times: user 3.81 s, sys: 352 ms, total: 4.16 s\n",
      "Wall time: 3.85 s\n"
     ]
    }
   ],
   "source": [
    "%%time\n",
    "print(\"\\nTest random sans learning\")\n",
    "_state = _env.reset()\n",
    "_reward_max = 0\n",
    "_reward_min = 0\n",
    "while True:\n",
    "    _action = _env.action_space.sample()\n",
    "    #_n_state, \n",
    "    _reward, _done, _info = _env._step(_action)\n",
    "    if _reward > _reward_max:\n",
    "        _reward_max = _reward\n",
    "        print('\\nNew reward_max :',_reward,'\\n')\n",
    "    if _reward < _reward_min:\n",
    "        _reward_min = _reward\n",
    "        print('\\nNew reward_min :',_reward,'\\n')\n",
    "    if _done :\n",
    "        print('Info :',_info)\n",
    "        break\n",
    "#plt.figure(figsize=(24,6))\n",
    "#plt.cla()\n",
    "_env.render_all()\n",
    "print()\n",
    "#plt.show()\n"
   ]
  },
  {
   "cell_type": "code",
   "execution_count": null,
   "metadata": {},
   "outputs": [],
   "source": []
  },
  {
   "cell_type": "code",
   "execution_count": 107,
   "metadata": {},
   "outputs": [
    {
     "output_type": "stream",
     "name": "stdout",
     "text": [
      "Définition de l'environnement\nCPU times: user 8.95 ms, sys: 2.76 ms, total: 11.7 ms\nWall time: 9.8 ms\n"
     ]
    }
   ],
   "source": [
    "%%time\n",
    "print(\"Définition de l'environnement\")\n",
    "_env = ForexEnv(df_train,frame_bound=(40,int(df_train.shape[0])),window_size=40)\n",
    "# Stop training when the model reaches the reward threshold\n",
    "callback_on_best = StopTrainingOnRewardThreshold(reward_threshold=40000, verbose=1)\n",
    "eval_callback = EvalCallback(_env, callback_on_new_best=callback_on_best, verbose=1)"
   ]
  },
  {
   "cell_type": "code",
   "execution_count": null,
   "metadata": {},
   "outputs": [],
   "source": []
  },
  {
   "cell_type": "code",
   "execution_count": 108,
   "metadata": {},
   "outputs": [
    {
     "output_type": "stream",
     "name": "stdout",
     "text": [
      "\nMise en action de l'agent pour l'apprentissage\nUsing cpu device\nWrapping the env with a `Monitor` wrapper\nWrapping the env in a DummyVecEnv.\n"
     ]
    },
    {
     "output_type": "error",
     "ename": "TypeError",
     "evalue": "len() of unsized object",
     "traceback": [
      "\u001b[0;31m---------------------------------------------------------------------------\u001b[0m",
      "\u001b[0;31mTypeError\u001b[0m                                 Traceback (most recent call last)",
      "\u001b[0;32m<timed exec>\u001b[0m in \u001b[0;36m<module>\u001b[0;34m\u001b[0m\n",
      "\u001b[0;32m~/anaconda3/envs/DataSciences/lib/python3.8/site-packages/stable_baselines3/a2c/a2c.py\u001b[0m in \u001b[0;36m__init__\u001b[0;34m(self, policy, env, learning_rate, n_steps, gamma, gae_lambda, ent_coef, vf_coef, max_grad_norm, rms_prop_eps, use_rms_prop, use_sde, sde_sample_freq, normalize_advantage, tensorboard_log, create_eval_env, policy_kwargs, verbose, seed, device, _init_setup_model)\u001b[0m\n\u001b[1;32m    114\u001b[0m \u001b[0;34m\u001b[0m\u001b[0m\n\u001b[1;32m    115\u001b[0m         \u001b[0;32mif\u001b[0m \u001b[0m_init_setup_model\u001b[0m\u001b[0;34m:\u001b[0m\u001b[0;34m\u001b[0m\u001b[0;34m\u001b[0m\u001b[0m\n\u001b[0;32m--> 116\u001b[0;31m             \u001b[0mself\u001b[0m\u001b[0;34m.\u001b[0m\u001b[0m_setup_model\u001b[0m\u001b[0;34m(\u001b[0m\u001b[0;34m)\u001b[0m\u001b[0;34m\u001b[0m\u001b[0;34m\u001b[0m\u001b[0m\n\u001b[0m\u001b[1;32m    117\u001b[0m \u001b[0;34m\u001b[0m\u001b[0m\n\u001b[1;32m    118\u001b[0m     \u001b[0;32mdef\u001b[0m \u001b[0mtrain\u001b[0m\u001b[0;34m(\u001b[0m\u001b[0mself\u001b[0m\u001b[0;34m)\u001b[0m \u001b[0;34m->\u001b[0m \u001b[0;32mNone\u001b[0m\u001b[0;34m:\u001b[0m\u001b[0;34m\u001b[0m\u001b[0;34m\u001b[0m\u001b[0m\n",
      "\u001b[0;32m~/anaconda3/envs/DataSciences/lib/python3.8/site-packages/stable_baselines3/common/on_policy_algorithm.py\u001b[0m in \u001b[0;36m_setup_model\u001b[0;34m(self)\u001b[0m\n\u001b[1;32m    106\u001b[0m         \u001b[0mself\u001b[0m\u001b[0;34m.\u001b[0m\u001b[0mset_random_seed\u001b[0m\u001b[0;34m(\u001b[0m\u001b[0mself\u001b[0m\u001b[0;34m.\u001b[0m\u001b[0mseed\u001b[0m\u001b[0;34m)\u001b[0m\u001b[0;34m\u001b[0m\u001b[0;34m\u001b[0m\u001b[0m\n\u001b[1;32m    107\u001b[0m \u001b[0;34m\u001b[0m\u001b[0m\n\u001b[0;32m--> 108\u001b[0;31m         self.rollout_buffer = RolloutBuffer(\n\u001b[0m\u001b[1;32m    109\u001b[0m             \u001b[0mself\u001b[0m\u001b[0;34m.\u001b[0m\u001b[0mn_steps\u001b[0m\u001b[0;34m,\u001b[0m\u001b[0;34m\u001b[0m\u001b[0;34m\u001b[0m\u001b[0m\n\u001b[1;32m    110\u001b[0m             \u001b[0mself\u001b[0m\u001b[0;34m.\u001b[0m\u001b[0mobservation_space\u001b[0m\u001b[0;34m,\u001b[0m\u001b[0;34m\u001b[0m\u001b[0;34m\u001b[0m\u001b[0m\n",
      "\u001b[0;32m~/anaconda3/envs/DataSciences/lib/python3.8/site-packages/stable_baselines3/common/buffers.py\u001b[0m in \u001b[0;36m__init__\u001b[0;34m(self, buffer_size, observation_space, action_space, device, gae_lambda, gamma, n_envs)\u001b[0m\n\u001b[1;32m    291\u001b[0m     ):\n\u001b[1;32m    292\u001b[0m \u001b[0;34m\u001b[0m\u001b[0m\n\u001b[0;32m--> 293\u001b[0;31m         \u001b[0msuper\u001b[0m\u001b[0;34m(\u001b[0m\u001b[0mRolloutBuffer\u001b[0m\u001b[0;34m,\u001b[0m \u001b[0mself\u001b[0m\u001b[0;34m)\u001b[0m\u001b[0;34m.\u001b[0m\u001b[0m__init__\u001b[0m\u001b[0;34m(\u001b[0m\u001b[0mbuffer_size\u001b[0m\u001b[0;34m,\u001b[0m \u001b[0mobservation_space\u001b[0m\u001b[0;34m,\u001b[0m \u001b[0maction_space\u001b[0m\u001b[0;34m,\u001b[0m \u001b[0mdevice\u001b[0m\u001b[0;34m,\u001b[0m \u001b[0mn_envs\u001b[0m\u001b[0;34m=\u001b[0m\u001b[0mn_envs\u001b[0m\u001b[0;34m)\u001b[0m\u001b[0;34m\u001b[0m\u001b[0;34m\u001b[0m\u001b[0m\n\u001b[0m\u001b[1;32m    294\u001b[0m         \u001b[0mself\u001b[0m\u001b[0;34m.\u001b[0m\u001b[0mgae_lambda\u001b[0m \u001b[0;34m=\u001b[0m \u001b[0mgae_lambda\u001b[0m\u001b[0;34m\u001b[0m\u001b[0;34m\u001b[0m\u001b[0m\n\u001b[1;32m    295\u001b[0m         \u001b[0mself\u001b[0m\u001b[0;34m.\u001b[0m\u001b[0mgamma\u001b[0m \u001b[0;34m=\u001b[0m \u001b[0mgamma\u001b[0m\u001b[0;34m\u001b[0m\u001b[0;34m\u001b[0m\u001b[0m\n",
      "\u001b[0;32m~/anaconda3/envs/DataSciences/lib/python3.8/site-packages/stable_baselines3/common/buffers.py\u001b[0m in \u001b[0;36m__init__\u001b[0;34m(self, buffer_size, observation_space, action_space, device, n_envs)\u001b[0m\n\u001b[1;32m     43\u001b[0m         \u001b[0mself\u001b[0m\u001b[0;34m.\u001b[0m\u001b[0maction_space\u001b[0m \u001b[0;34m=\u001b[0m \u001b[0maction_space\u001b[0m\u001b[0;34m\u001b[0m\u001b[0;34m\u001b[0m\u001b[0m\n\u001b[1;32m     44\u001b[0m         \u001b[0mself\u001b[0m\u001b[0;34m.\u001b[0m\u001b[0mobs_shape\u001b[0m \u001b[0;34m=\u001b[0m \u001b[0mget_obs_shape\u001b[0m\u001b[0;34m(\u001b[0m\u001b[0mobservation_space\u001b[0m\u001b[0;34m)\u001b[0m\u001b[0;34m\u001b[0m\u001b[0;34m\u001b[0m\u001b[0m\n\u001b[0;32m---> 45\u001b[0;31m         \u001b[0mself\u001b[0m\u001b[0;34m.\u001b[0m\u001b[0maction_dim\u001b[0m \u001b[0;34m=\u001b[0m \u001b[0mget_action_dim\u001b[0m\u001b[0;34m(\u001b[0m\u001b[0maction_space\u001b[0m\u001b[0;34m)\u001b[0m\u001b[0;34m\u001b[0m\u001b[0;34m\u001b[0m\u001b[0m\n\u001b[0m\u001b[1;32m     46\u001b[0m         \u001b[0mself\u001b[0m\u001b[0;34m.\u001b[0m\u001b[0mpos\u001b[0m \u001b[0;34m=\u001b[0m \u001b[0;36m0\u001b[0m\u001b[0;34m\u001b[0m\u001b[0;34m\u001b[0m\u001b[0m\n\u001b[1;32m     47\u001b[0m         \u001b[0mself\u001b[0m\u001b[0;34m.\u001b[0m\u001b[0mfull\u001b[0m \u001b[0;34m=\u001b[0m \u001b[0;32mFalse\u001b[0m\u001b[0;34m\u001b[0m\u001b[0;34m\u001b[0m\u001b[0m\n",
      "\u001b[0;32m~/anaconda3/envs/DataSciences/lib/python3.8/site-packages/stable_baselines3/common/preprocessing.py\u001b[0m in \u001b[0;36mget_action_dim\u001b[0;34m(action_space)\u001b[0m\n\u001b[1;32m    173\u001b[0m     \u001b[0;32melif\u001b[0m \u001b[0misinstance\u001b[0m\u001b[0;34m(\u001b[0m\u001b[0maction_space\u001b[0m\u001b[0;34m,\u001b[0m \u001b[0mspaces\u001b[0m\u001b[0;34m.\u001b[0m\u001b[0mMultiDiscrete\u001b[0m\u001b[0;34m)\u001b[0m\u001b[0;34m:\u001b[0m\u001b[0;34m\u001b[0m\u001b[0;34m\u001b[0m\u001b[0m\n\u001b[1;32m    174\u001b[0m         \u001b[0;31m# Number of discrete actions\u001b[0m\u001b[0;34m\u001b[0m\u001b[0;34m\u001b[0m\u001b[0;34m\u001b[0m\u001b[0m\n\u001b[0;32m--> 175\u001b[0;31m         \u001b[0;32mreturn\u001b[0m \u001b[0mint\u001b[0m\u001b[0;34m(\u001b[0m\u001b[0mlen\u001b[0m\u001b[0;34m(\u001b[0m\u001b[0maction_space\u001b[0m\u001b[0;34m.\u001b[0m\u001b[0mnvec\u001b[0m\u001b[0;34m)\u001b[0m\u001b[0;34m)\u001b[0m\u001b[0;34m\u001b[0m\u001b[0;34m\u001b[0m\u001b[0m\n\u001b[0m\u001b[1;32m    176\u001b[0m     \u001b[0;32melif\u001b[0m \u001b[0misinstance\u001b[0m\u001b[0;34m(\u001b[0m\u001b[0maction_space\u001b[0m\u001b[0;34m,\u001b[0m \u001b[0mspaces\u001b[0m\u001b[0;34m.\u001b[0m\u001b[0mMultiBinary\u001b[0m\u001b[0;34m)\u001b[0m\u001b[0;34m:\u001b[0m\u001b[0;34m\u001b[0m\u001b[0;34m\u001b[0m\u001b[0m\n\u001b[1;32m    177\u001b[0m         \u001b[0;31m# Number of binary actions\u001b[0m\u001b[0;34m\u001b[0m\u001b[0;34m\u001b[0m\u001b[0;34m\u001b[0m\u001b[0m\n",
      "\u001b[0;31mTypeError\u001b[0m: len() of unsized object"
     ]
    }
   ],
   "source": [
    "%%time\n",
    "print(\"\\nMise en action de l'agent pour l'apprentissage\")\n",
    "_model = A2C('MlpPolicy',_env,verbose=1)\n"
   ]
  },
  {
   "cell_type": "code",
   "execution_count": null,
   "metadata": {},
   "outputs": [],
   "source": []
  },
  {
   "cell_type": "code",
   "execution_count": 102,
   "metadata": {},
   "outputs": [
    {
     "output_type": "stream",
     "name": "stdout",
     "text": [
      "Démarrage de l'apprentissage\n"
     ]
    },
    {
     "output_type": "error",
     "ename": "NameError",
     "evalue": "name '_model' is not defined",
     "traceback": [
      "\u001b[0;31m---------------------------------------------------------------------------\u001b[0m",
      "\u001b[0;31mNameError\u001b[0m                                 Traceback (most recent call last)",
      "\u001b[0;32m<timed exec>\u001b[0m in \u001b[0;36m<module>\u001b[0;34m\u001b[0m\n",
      "\u001b[0;31mNameError\u001b[0m: name '_model' is not defined"
     ]
    }
   ],
   "source": [
    "%%time\n",
    "print(\"Démarrage de l'apprentissage\")\n",
    "_model.learn(total_timesteps=100,callback=eval_callback)"
   ]
  },
  {
   "cell_type": "code",
   "execution_count": null,
   "metadata": {},
   "outputs": [],
   "source": []
  },
  {
   "cell_type": "code",
   "execution_count": null,
   "metadata": {},
   "outputs": [],
   "source": [
    "print(\"\\nEvaluation du système\")\n",
    "_obs = _env.reset()\n",
    "while True:\n",
    "    _obs = df_test\n",
    "    _action, _states = _model.predict(_obs)\n",
    "    _obs, _reward, _done, _info = _env.step(_action)\n",
    "    if _done :\n",
    "        print('Info :',_info)\n",
    "        break\n",
    "plt.figure(figsize=(24,6))\n",
    "plt.cla()\n",
    "_env.render_all()\n",
    "plt.show()"
   ]
  },
  {
   "cell_type": "code",
   "execution_count": null,
   "metadata": {},
   "outputs": [],
   "source": []
  },
  {
   "cell_type": "code",
   "execution_count": 44,
   "metadata": {},
   "outputs": [
    {
     "output_type": "error",
     "ename": "AttributeError",
     "evalue": "'DataFrame' object has no attribute '_start_tick'",
     "traceback": [
      "\u001b[0;31m---------------------------------------------------------------------------\u001b[0m",
      "\u001b[0;31mAttributeError\u001b[0m                            Traceback (most recent call last)",
      "\u001b[0;32m<ipython-input-44-af74cb3e2860>\u001b[0m in \u001b[0;36m<module>\u001b[0;34m\u001b[0m\n\u001b[0;32m----> 1\u001b[0;31m \u001b[0mForexEnv\u001b[0m\u001b[0;34m.\u001b[0m\u001b[0mmax_possible_profit\u001b[0m\u001b[0;34m(\u001b[0m\u001b[0mdf\u001b[0m\u001b[0;34m)\u001b[0m\u001b[0;34m\u001b[0m\u001b[0;34m\u001b[0m\u001b[0m\n\u001b[0m",
      "\u001b[0;32m<ipython-input-38-1c2911a8159c>\u001b[0m in \u001b[0;36mmax_possible_profit\u001b[0;34m(self)\u001b[0m\n\u001b[1;32m     43\u001b[0m \u001b[0;34m\u001b[0m\u001b[0m\n\u001b[1;32m     44\u001b[0m     \u001b[0;32mdef\u001b[0m \u001b[0mmax_possible_profit\u001b[0m\u001b[0;34m(\u001b[0m\u001b[0mself\u001b[0m\u001b[0;34m)\u001b[0m\u001b[0;34m:\u001b[0m\u001b[0;34m\u001b[0m\u001b[0;34m\u001b[0m\u001b[0m\n\u001b[0;32m---> 45\u001b[0;31m         \u001b[0mcurrent_tick\u001b[0m \u001b[0;34m=\u001b[0m \u001b[0mself\u001b[0m\u001b[0;34m.\u001b[0m\u001b[0m_start_tick\u001b[0m\u001b[0;34m\u001b[0m\u001b[0;34m\u001b[0m\u001b[0m\n\u001b[0m\u001b[1;32m     46\u001b[0m         \u001b[0mprofit\u001b[0m \u001b[0;34m=\u001b[0m \u001b[0;36m0\u001b[0m\u001b[0;34m\u001b[0m\u001b[0;34m\u001b[0m\u001b[0m\n\u001b[1;32m     47\u001b[0m \u001b[0;34m\u001b[0m\u001b[0m\n",
      "\u001b[0;32m~/anaconda3/envs/DataSciences/lib/python3.8/site-packages/pandas/core/generic.py\u001b[0m in \u001b[0;36m__getattr__\u001b[0;34m(self, name)\u001b[0m\n\u001b[1;32m   5460\u001b[0m             \u001b[0;32mif\u001b[0m \u001b[0mself\u001b[0m\u001b[0;34m.\u001b[0m\u001b[0m_info_axis\u001b[0m\u001b[0;34m.\u001b[0m\u001b[0m_can_hold_identifiers_and_holds_name\u001b[0m\u001b[0;34m(\u001b[0m\u001b[0mname\u001b[0m\u001b[0;34m)\u001b[0m\u001b[0;34m:\u001b[0m\u001b[0;34m\u001b[0m\u001b[0;34m\u001b[0m\u001b[0m\n\u001b[1;32m   5461\u001b[0m                 \u001b[0;32mreturn\u001b[0m \u001b[0mself\u001b[0m\u001b[0;34m[\u001b[0m\u001b[0mname\u001b[0m\u001b[0;34m]\u001b[0m\u001b[0;34m\u001b[0m\u001b[0;34m\u001b[0m\u001b[0m\n\u001b[0;32m-> 5462\u001b[0;31m             \u001b[0;32mreturn\u001b[0m \u001b[0mobject\u001b[0m\u001b[0;34m.\u001b[0m\u001b[0m__getattribute__\u001b[0m\u001b[0;34m(\u001b[0m\u001b[0mself\u001b[0m\u001b[0;34m,\u001b[0m \u001b[0mname\u001b[0m\u001b[0;34m)\u001b[0m\u001b[0;34m\u001b[0m\u001b[0;34m\u001b[0m\u001b[0m\n\u001b[0m\u001b[1;32m   5463\u001b[0m \u001b[0;34m\u001b[0m\u001b[0m\n\u001b[1;32m   5464\u001b[0m     \u001b[0;32mdef\u001b[0m \u001b[0m__setattr__\u001b[0m\u001b[0;34m(\u001b[0m\u001b[0mself\u001b[0m\u001b[0;34m,\u001b[0m \u001b[0mname\u001b[0m\u001b[0;34m:\u001b[0m \u001b[0mstr\u001b[0m\u001b[0;34m,\u001b[0m \u001b[0mvalue\u001b[0m\u001b[0;34m)\u001b[0m \u001b[0;34m->\u001b[0m \u001b[0;32mNone\u001b[0m\u001b[0;34m:\u001b[0m\u001b[0;34m\u001b[0m\u001b[0;34m\u001b[0m\u001b[0m\n",
      "\u001b[0;31mAttributeError\u001b[0m: 'DataFrame' object has no attribute '_start_tick'"
     ]
    }
   ],
   "source": []
  },
  {
   "cell_type": "code",
   "execution_count": 45,
   "metadata": {},
   "outputs": [
    {
     "output_type": "execute_result",
     "data": {
      "text/plain": [
       "                         Body  Color  LowerShadow  UpperShadow  Signal\n",
       "2010-01-04 00:00:00  0.000550      1     0.001270     0.000550      -1\n",
       "2010-01-04 00:05:00  0.000380      1     0.001490     0.000420       0\n",
       "2010-01-04 00:10:00  0.001655      1     0.001660     0.001785       0\n",
       "2010-01-04 00:15:00  0.001030      1     0.000085     0.000185       0\n",
       "2010-01-04 00:20:00  0.000970      1     0.000165     0.000155      -1\n",
       "...                       ...    ...          ...          ...     ...\n",
       "2021-04-29 07:20:00  0.000375      1     0.000045     0.000065       0\n",
       "2021-04-29 07:25:00  0.000170      1     0.000265     0.000220       0\n",
       "2021-04-29 07:30:00  0.000040      1     0.000235     0.000120       0\n",
       "2021-04-29 07:35:00  0.000130      1     0.000410     0.000260       0\n",
       "2021-04-29 07:40:00  0.000145      1     0.000125     0.000105       0\n",
       "\n",
       "[820907 rows x 5 columns]"
      ],
      "text/html": "<div>\n<style scoped>\n    .dataframe tbody tr th:only-of-type {\n        vertical-align: middle;\n    }\n\n    .dataframe tbody tr th {\n        vertical-align: top;\n    }\n\n    .dataframe thead th {\n        text-align: right;\n    }\n</style>\n<table border=\"1\" class=\"dataframe\">\n  <thead>\n    <tr style=\"text-align: right;\">\n      <th></th>\n      <th>Body</th>\n      <th>Color</th>\n      <th>LowerShadow</th>\n      <th>UpperShadow</th>\n      <th>Signal</th>\n    </tr>\n  </thead>\n  <tbody>\n    <tr>\n      <th>2010-01-04 00:00:00</th>\n      <td>0.000550</td>\n      <td>1</td>\n      <td>0.001270</td>\n      <td>0.000550</td>\n      <td>-1</td>\n    </tr>\n    <tr>\n      <th>2010-01-04 00:05:00</th>\n      <td>0.000380</td>\n      <td>1</td>\n      <td>0.001490</td>\n      <td>0.000420</td>\n      <td>0</td>\n    </tr>\n    <tr>\n      <th>2010-01-04 00:10:00</th>\n      <td>0.001655</td>\n      <td>1</td>\n      <td>0.001660</td>\n      <td>0.001785</td>\n      <td>0</td>\n    </tr>\n    <tr>\n      <th>2010-01-04 00:15:00</th>\n      <td>0.001030</td>\n      <td>1</td>\n      <td>0.000085</td>\n      <td>0.000185</td>\n      <td>0</td>\n    </tr>\n    <tr>\n      <th>2010-01-04 00:20:00</th>\n      <td>0.000970</td>\n      <td>1</td>\n      <td>0.000165</td>\n      <td>0.000155</td>\n      <td>-1</td>\n    </tr>\n    <tr>\n      <th>...</th>\n      <td>...</td>\n      <td>...</td>\n      <td>...</td>\n      <td>...</td>\n      <td>...</td>\n    </tr>\n    <tr>\n      <th>2021-04-29 07:20:00</th>\n      <td>0.000375</td>\n      <td>1</td>\n      <td>0.000045</td>\n      <td>0.000065</td>\n      <td>0</td>\n    </tr>\n    <tr>\n      <th>2021-04-29 07:25:00</th>\n      <td>0.000170</td>\n      <td>1</td>\n      <td>0.000265</td>\n      <td>0.000220</td>\n      <td>0</td>\n    </tr>\n    <tr>\n      <th>2021-04-29 07:30:00</th>\n      <td>0.000040</td>\n      <td>1</td>\n      <td>0.000235</td>\n      <td>0.000120</td>\n      <td>0</td>\n    </tr>\n    <tr>\n      <th>2021-04-29 07:35:00</th>\n      <td>0.000130</td>\n      <td>1</td>\n      <td>0.000410</td>\n      <td>0.000260</td>\n      <td>0</td>\n    </tr>\n    <tr>\n      <th>2021-04-29 07:40:00</th>\n      <td>0.000145</td>\n      <td>1</td>\n      <td>0.000125</td>\n      <td>0.000105</td>\n      <td>0</td>\n    </tr>\n  </tbody>\n</table>\n<p>820907 rows × 5 columns</p>\n</div>"
     },
     "metadata": {},
     "execution_count": 45
    }
   ],
   "source": [
    "df"
   ]
  },
  {
   "cell_type": "code",
   "execution_count": null,
   "metadata": {},
   "outputs": [],
   "source": []
  },
  {
   "cell_type": "code",
   "execution_count": null,
   "metadata": {},
   "outputs": [],
   "source": []
  },
  {
   "cell_type": "code",
   "execution_count": null,
   "metadata": {},
   "outputs": [],
   "source": []
  },
  {
   "cell_type": "code",
   "execution_count": null,
   "metadata": {},
   "outputs": [],
   "source": []
  }
 ]
}