{
 "cells": [
  {
   "cell_type": "code",
   "execution_count": 1,
   "metadata": {},
   "outputs": [],
   "source": [
    "___Author___='LumberJack Jyss'"
   ]
  },
  {
   "cell_type": "code",
   "execution_count": 3,
   "metadata": {},
   "outputs": [
    {
     "name": "stdout",
     "output_type": "stream",
     "text": [
      "LumberJack BRUTAL AtidotCom TREND RULES\n",
      "LumberJack Jyss 5779(c)\n"
     ]
    }
   ],
   "source": [
    "print('LumberJack BRUTAL AtidotCom TREND RULES\\nLumberJack Jyss 5779(c)')"
   ]
  },
  {
   "cell_type": "code",
   "execution_count": 4,
   "metadata": {},
   "outputs": [],
   "source": [
    "import pandas as pd\n",
    "import numpy as np\n",
    "import matplotlib\n",
    "import matplotlib.pyplot as plt\n",
    "%matplotlib inline"
   ]
  },
  {
   "cell_type": "code",
   "execution_count": 5,
   "metadata": {},
   "outputs": [],
   "source": [
    "df =  pd.read_csv('gbpjpy.csv')\n",
    "#df =  pd.read_csv('dataset_daily.csv')"
   ]
  },
  {
   "cell_type": "code",
   "execution_count": 6,
   "metadata": {},
   "outputs": [
    {
     "data": {
      "text/html": [
       "<div>\n",
       "<style scoped>\n",
       "    .dataframe tbody tr th:only-of-type {\n",
       "        vertical-align: middle;\n",
       "    }\n",
       "\n",
       "    .dataframe tbody tr th {\n",
       "        vertical-align: top;\n",
       "    }\n",
       "\n",
       "    .dataframe thead th {\n",
       "        text-align: right;\n",
       "    }\n",
       "</style>\n",
       "<table border=\"1\" class=\"dataframe\">\n",
       "  <thead>\n",
       "    <tr style=\"text-align: right;\">\n",
       "      <th></th>\n",
       "      <th>Date</th>\n",
       "      <th>oc_gbpjpy</th>\n",
       "      <th>hl_gbpjpy</th>\n",
       "      <th>gbpjpy_close</th>\n",
       "      <th>gbpjpy_Doc</th>\n",
       "      <th>gbpjpy_Dhl</th>\n",
       "      <th>rsi_gbpjpy</th>\n",
       "      <th>GBPJPY</th>\n",
       "      <th>short_gbpjpy</th>\n",
       "      <th>long_gbpjpy</th>\n",
       "    </tr>\n",
       "  </thead>\n",
       "  <tbody>\n",
       "    <tr>\n",
       "      <th>0</th>\n",
       "      <td>20180507  00:45:00</td>\n",
       "      <td>-0.0080</td>\n",
       "      <td>0.0320</td>\n",
       "      <td>0.000054</td>\n",
       "      <td>-0.726644</td>\n",
       "      <td>-0.389734</td>\n",
       "      <td>78.889990</td>\n",
       "      <td>147.6740</td>\n",
       "      <td>0</td>\n",
       "      <td>0</td>\n",
       "    </tr>\n",
       "    <tr>\n",
       "      <th>1</th>\n",
       "      <td>20180507  01:00:00</td>\n",
       "      <td>-0.0810</td>\n",
       "      <td>0.0915</td>\n",
       "      <td>0.000549</td>\n",
       "      <td>9.240506</td>\n",
       "      <td>1.853583</td>\n",
       "      <td>96.560633</td>\n",
       "      <td>147.7550</td>\n",
       "      <td>0</td>\n",
       "      <td>0</td>\n",
       "    </tr>\n",
       "    <tr>\n",
       "      <th>2</th>\n",
       "      <td>20180507  01:15:00</td>\n",
       "      <td>-0.0525</td>\n",
       "      <td>0.0850</td>\n",
       "      <td>0.000355</td>\n",
       "      <td>-0.352287</td>\n",
       "      <td>-0.070961</td>\n",
       "      <td>98.350499</td>\n",
       "      <td>147.8075</td>\n",
       "      <td>0</td>\n",
       "      <td>0</td>\n",
       "    </tr>\n",
       "    <tr>\n",
       "      <th>3</th>\n",
       "      <td>20180507  01:30:00</td>\n",
       "      <td>0.0710</td>\n",
       "      <td>0.0830</td>\n",
       "      <td>-0.000480</td>\n",
       "      <td>-2.356870</td>\n",
       "      <td>-0.023502</td>\n",
       "      <td>40.850462</td>\n",
       "      <td>147.7365</td>\n",
       "      <td>0</td>\n",
       "      <td>0</td>\n",
       "    </tr>\n",
       "    <tr>\n",
       "      <th>4</th>\n",
       "      <td>20180507  01:45:00</td>\n",
       "      <td>0.0510</td>\n",
       "      <td>0.1225</td>\n",
       "      <td>-0.000345</td>\n",
       "      <td>-0.281294</td>\n",
       "      <td>0.475331</td>\n",
       "      <td>22.202409</td>\n",
       "      <td>147.6855</td>\n",
       "      <td>0</td>\n",
       "      <td>0</td>\n",
       "    </tr>\n",
       "  </tbody>\n",
       "</table>\n",
       "</div>"
      ],
      "text/plain": [
       "                 Date  oc_gbpjpy  hl_gbpjpy  gbpjpy_close  gbpjpy_Doc  \\\n",
       "0  20180507  00:45:00    -0.0080     0.0320      0.000054   -0.726644   \n",
       "1  20180507  01:00:00    -0.0810     0.0915      0.000549    9.240506   \n",
       "2  20180507  01:15:00    -0.0525     0.0850      0.000355   -0.352287   \n",
       "3  20180507  01:30:00     0.0710     0.0830     -0.000480   -2.356870   \n",
       "4  20180507  01:45:00     0.0510     0.1225     -0.000345   -0.281294   \n",
       "\n",
       "   gbpjpy_Dhl  rsi_gbpjpy    GBPJPY  short_gbpjpy  long_gbpjpy  \n",
       "0   -0.389734   78.889990  147.6740             0            0  \n",
       "1    1.853583   96.560633  147.7550             0            0  \n",
       "2   -0.070961   98.350499  147.8075             0            0  \n",
       "3   -0.023502   40.850462  147.7365             0            0  \n",
       "4    0.475331   22.202409  147.6855             0            0  "
      ]
     },
     "execution_count": 6,
     "metadata": {},
     "output_type": "execute_result"
    }
   ],
   "source": [
    "df.head()"
   ]
  },
  {
   "cell_type": "code",
   "execution_count": 7,
   "metadata": {},
   "outputs": [
    {
     "data": {
      "text/html": [
       "<div>\n",
       "<style scoped>\n",
       "    .dataframe tbody tr th:only-of-type {\n",
       "        vertical-align: middle;\n",
       "    }\n",
       "\n",
       "    .dataframe tbody tr th {\n",
       "        vertical-align: top;\n",
       "    }\n",
       "\n",
       "    .dataframe thead th {\n",
       "        text-align: right;\n",
       "    }\n",
       "</style>\n",
       "<table border=\"1\" class=\"dataframe\">\n",
       "  <thead>\n",
       "    <tr style=\"text-align: right;\">\n",
       "      <th></th>\n",
       "      <th>oc_gbpjpy</th>\n",
       "      <th>hl_gbpjpy</th>\n",
       "      <th>gbpjpy_close</th>\n",
       "      <th>gbpjpy_Doc</th>\n",
       "      <th>gbpjpy_Dhl</th>\n",
       "      <th>rsi_gbpjpy</th>\n",
       "      <th>GBPJPY</th>\n",
       "    </tr>\n",
       "    <tr>\n",
       "      <th>Date</th>\n",
       "      <th></th>\n",
       "      <th></th>\n",
       "      <th></th>\n",
       "      <th></th>\n",
       "      <th></th>\n",
       "      <th></th>\n",
       "      <th></th>\n",
       "    </tr>\n",
       "  </thead>\n",
       "  <tbody>\n",
       "    <tr>\n",
       "      <th>20180507  00:45:00</th>\n",
       "      <td>-0.0080</td>\n",
       "      <td>0.0320</td>\n",
       "      <td>0.000054</td>\n",
       "      <td>-0.726644</td>\n",
       "      <td>-0.389734</td>\n",
       "      <td>78.889990</td>\n",
       "      <td>147.6740</td>\n",
       "    </tr>\n",
       "    <tr>\n",
       "      <th>20180507  01:00:00</th>\n",
       "      <td>-0.0810</td>\n",
       "      <td>0.0915</td>\n",
       "      <td>0.000549</td>\n",
       "      <td>9.240506</td>\n",
       "      <td>1.853583</td>\n",
       "      <td>96.560633</td>\n",
       "      <td>147.7550</td>\n",
       "    </tr>\n",
       "    <tr>\n",
       "      <th>20180507  01:15:00</th>\n",
       "      <td>-0.0525</td>\n",
       "      <td>0.0850</td>\n",
       "      <td>0.000355</td>\n",
       "      <td>-0.352287</td>\n",
       "      <td>-0.070961</td>\n",
       "      <td>98.350499</td>\n",
       "      <td>147.8075</td>\n",
       "    </tr>\n",
       "    <tr>\n",
       "      <th>20180507  01:30:00</th>\n",
       "      <td>0.0710</td>\n",
       "      <td>0.0830</td>\n",
       "      <td>-0.000480</td>\n",
       "      <td>-2.356870</td>\n",
       "      <td>-0.023502</td>\n",
       "      <td>40.850462</td>\n",
       "      <td>147.7365</td>\n",
       "    </tr>\n",
       "    <tr>\n",
       "      <th>20180507  01:45:00</th>\n",
       "      <td>0.0510</td>\n",
       "      <td>0.1225</td>\n",
       "      <td>-0.000345</td>\n",
       "      <td>-0.281294</td>\n",
       "      <td>0.475331</td>\n",
       "      <td>22.202409</td>\n",
       "      <td>147.6855</td>\n",
       "    </tr>\n",
       "  </tbody>\n",
       "</table>\n",
       "</div>"
      ],
      "text/plain": [
       "                    oc_gbpjpy  hl_gbpjpy  gbpjpy_close  gbpjpy_Doc  \\\n",
       "Date                                                                 \n",
       "20180507  00:45:00    -0.0080     0.0320      0.000054   -0.726644   \n",
       "20180507  01:00:00    -0.0810     0.0915      0.000549    9.240506   \n",
       "20180507  01:15:00    -0.0525     0.0850      0.000355   -0.352287   \n",
       "20180507  01:30:00     0.0710     0.0830     -0.000480   -2.356870   \n",
       "20180507  01:45:00     0.0510     0.1225     -0.000345   -0.281294   \n",
       "\n",
       "                    gbpjpy_Dhl  rsi_gbpjpy    GBPJPY  \n",
       "Date                                                  \n",
       "20180507  00:45:00   -0.389734   78.889990  147.6740  \n",
       "20180507  01:00:00    1.853583   96.560633  147.7550  \n",
       "20180507  01:15:00   -0.070961   98.350499  147.8075  \n",
       "20180507  01:30:00   -0.023502   40.850462  147.7365  \n",
       "20180507  01:45:00    0.475331   22.202409  147.6855  "
      ]
     },
     "execution_count": 7,
     "metadata": {},
     "output_type": "execute_result"
    }
   ],
   "source": [
    "df.set_index(df['Date'],drop=True,inplace=True)\n",
    "df = df.iloc[:,1:8]\n",
    "df.head()"
   ]
  },
  {
   "cell_type": "code",
   "execution_count": 8,
   "metadata": {},
   "outputs": [
    {
     "name": "stdout",
     "output_type": "stream",
     "text": [
      "<class 'pandas.core.frame.DataFrame'>\n",
      "Index: 24475 entries, 20180507  00:45:00 to 20190506  00:15:00\n",
      "Data columns (total 7 columns):\n",
      "oc_gbpjpy       24475 non-null float64\n",
      "hl_gbpjpy       24475 non-null float64\n",
      "gbpjpy_close    24475 non-null float64\n",
      "gbpjpy_Doc      24475 non-null float64\n",
      "gbpjpy_Dhl      24475 non-null float64\n",
      "rsi_gbpjpy      24475 non-null float64\n",
      "GBPJPY          24475 non-null float64\n",
      "dtypes: float64(7)\n",
      "memory usage: 1.5+ MB\n"
     ]
    }
   ],
   "source": [
    "df.info()"
   ]
  },
  {
   "cell_type": "code",
   "execution_count": 9,
   "metadata": {},
   "outputs": [
    {
     "data": {
      "text/plain": [
       "(24475, 7)"
      ]
     },
     "execution_count": 9,
     "metadata": {},
     "output_type": "execute_result"
    }
   ],
   "source": [
    "df.shape"
   ]
  },
  {
   "cell_type": "code",
   "execution_count": 10,
   "metadata": {},
   "outputs": [
    {
     "data": {
      "text/plain": [
       "24475"
      ]
     },
     "execution_count": 10,
     "metadata": {},
     "output_type": "execute_result"
    }
   ],
   "source": [
    "df.shape[0]"
   ]
  },
  {
   "cell_type": "code",
   "execution_count": 11,
   "metadata": {},
   "outputs": [
    {
     "data": {
      "text/html": [
       "<div>\n",
       "<style scoped>\n",
       "    .dataframe tbody tr th:only-of-type {\n",
       "        vertical-align: middle;\n",
       "    }\n",
       "\n",
       "    .dataframe tbody tr th {\n",
       "        vertical-align: top;\n",
       "    }\n",
       "\n",
       "    .dataframe thead th {\n",
       "        text-align: right;\n",
       "    }\n",
       "</style>\n",
       "<table border=\"1\" class=\"dataframe\">\n",
       "  <thead>\n",
       "    <tr style=\"text-align: right;\">\n",
       "      <th></th>\n",
       "      <th>oc_gbpjpy</th>\n",
       "      <th>hl_gbpjpy</th>\n",
       "      <th>gbpjpy_close</th>\n",
       "      <th>gbpjpy_Doc</th>\n",
       "      <th>gbpjpy_Dhl</th>\n",
       "      <th>rsi_gbpjpy</th>\n",
       "      <th>GBPJPY</th>\n",
       "    </tr>\n",
       "    <tr>\n",
       "      <th>Date</th>\n",
       "      <th></th>\n",
       "      <th></th>\n",
       "      <th></th>\n",
       "      <th></th>\n",
       "      <th></th>\n",
       "      <th></th>\n",
       "      <th></th>\n",
       "    </tr>\n",
       "  </thead>\n",
       "  <tbody>\n",
       "    <tr>\n",
       "      <th>20190505  23:15:00</th>\n",
       "      <td>0.0310</td>\n",
       "      <td>0.5090</td>\n",
       "      <td>-0.005530</td>\n",
       "      <td>-1.351810</td>\n",
       "      <td>3.292580</td>\n",
       "      <td>5.317128</td>\n",
       "      <td>145.5680</td>\n",
       "    </tr>\n",
       "    <tr>\n",
       "      <th>20190505  23:30:00</th>\n",
       "      <td>-0.0515</td>\n",
       "      <td>0.2115</td>\n",
       "      <td>0.000354</td>\n",
       "      <td>-2.652733</td>\n",
       "      <td>-0.584365</td>\n",
       "      <td>15.463869</td>\n",
       "      <td>145.6195</td>\n",
       "    </tr>\n",
       "    <tr>\n",
       "      <th>20190505  23:45:00</th>\n",
       "      <td>0.0570</td>\n",
       "      <td>0.1670</td>\n",
       "      <td>-0.000391</td>\n",
       "      <td>-2.110895</td>\n",
       "      <td>-0.210302</td>\n",
       "      <td>12.498876</td>\n",
       "      <td>145.5625</td>\n",
       "    </tr>\n",
       "    <tr>\n",
       "      <th>20190506  00:00:00</th>\n",
       "      <td>-0.1975</td>\n",
       "      <td>0.2675</td>\n",
       "      <td>0.001357</td>\n",
       "      <td>-4.457093</td>\n",
       "      <td>0.601436</td>\n",
       "      <td>62.424947</td>\n",
       "      <td>145.7600</td>\n",
       "    </tr>\n",
       "    <tr>\n",
       "      <th>20190506  00:15:00</th>\n",
       "      <td>0.0315</td>\n",
       "      <td>0.1090</td>\n",
       "      <td>-0.000216</td>\n",
       "      <td>-1.160081</td>\n",
       "      <td>-0.592302</td>\n",
       "      <td>52.812688</td>\n",
       "      <td>145.7285</td>\n",
       "    </tr>\n",
       "  </tbody>\n",
       "</table>\n",
       "</div>"
      ],
      "text/plain": [
       "                    oc_gbpjpy  hl_gbpjpy  gbpjpy_close  gbpjpy_Doc  \\\n",
       "Date                                                                 \n",
       "20190505  23:15:00     0.0310     0.5090     -0.005530   -1.351810   \n",
       "20190505  23:30:00    -0.0515     0.2115      0.000354   -2.652733   \n",
       "20190505  23:45:00     0.0570     0.1670     -0.000391   -2.110895   \n",
       "20190506  00:00:00    -0.1975     0.2675      0.001357   -4.457093   \n",
       "20190506  00:15:00     0.0315     0.1090     -0.000216   -1.160081   \n",
       "\n",
       "                    gbpjpy_Dhl  rsi_gbpjpy    GBPJPY  \n",
       "Date                                                  \n",
       "20190505  23:15:00    3.292580    5.317128  145.5680  \n",
       "20190505  23:30:00   -0.584365   15.463869  145.6195  \n",
       "20190505  23:45:00   -0.210302   12.498876  145.5625  \n",
       "20190506  00:00:00    0.601436   62.424947  145.7600  \n",
       "20190506  00:15:00   -0.592302   52.812688  145.7285  "
      ]
     },
     "execution_count": 11,
     "metadata": {},
     "output_type": "execute_result"
    }
   ],
   "source": [
    "df.tail()"
   ]
  },
  {
   "cell_type": "code",
   "execution_count": 16,
   "metadata": {},
   "outputs": [
    {
     "name": "stdout",
     "output_type": "stream",
     "text": [
      "Début de la boucle\n",
      "Boucle terminée\n",
      "La long target était fixée à  0.2\n",
      "La short target était fixée à  -0.3\n",
      "La règle était qu'une des 5 periodes d'avant était inférieure ou supérieure à la target (long ou short)\n",
      "Il y a eu  24475  périodes testées\n",
      "Durant cette période, 3406  long et  1476  short\n",
      "Les gains totaux s'élèvent à : 186121654 $\n"
     ]
    }
   ],
   "source": [
    "long_list = []\n",
    "short_list = []\n",
    "equity_list = []\n",
    "var_long_list = []\n",
    "var_short_list = []\n",
    "candle_close = 0\n",
    "candle_close_1 = 0\n",
    "candle_close_2 = 0\n",
    "candle_close_3 = 0\n",
    "candle_close_4 = 0\n",
    "candle_close_5 = 0\n",
    "candle_open = 0\n",
    "candle_high = 0\n",
    "candle_low = 0\n",
    "c = 0\n",
    "cc = 0\n",
    "long_target = 0.2\n",
    "short_target = -0.3\n",
    "ticket = 100000\n",
    "equity = 100000\n",
    "print('Début de la boucle')\n",
    "\n",
    "import sys\n",
    "orig_stdout = sys.stdout\n",
    "f = open('OUt_rules.txt', 'w')\n",
    "sys.stdout = f\n",
    "\n",
    "\n",
    "for i in range(5,df.shape[0]-1):\n",
    "    print('\\nCompteur de ligne :',i)\n",
    "    print('Date :',df.index[i])\n",
    "    c+=1\n",
    "    \n",
    "    candle_close = float(df.iloc[i,6])\n",
    "    candle_close_1 = float(df.iloc[i-1,6])\n",
    "    print('candle_close_1',candle_close_1)\n",
    "    candle_close_2 = float(df.iloc[i-2,6])\n",
    "    candle_close_3 = float(df.iloc[i-3,6])\n",
    "    candle_close_4 = float(df.iloc[i-4,6])\n",
    "    candle_close_5 = float(df.iloc[i-5,6])\n",
    "    \n",
    "    \n",
    "    var1 = candle_close - candle_close_1\n",
    "    var2 = candle_close - candle_close_2\n",
    "    var3 = candle_close - candle_close_3\n",
    "    var4 = candle_close - candle_close_4\n",
    "    var5 = candle_close - candle_close_5\n",
    "    \n",
    "    if var1 > long_target or var2 > long_target or\\\n",
    "    var3 > long_target or var4 > long_target or var5 > long_target:\n",
    "        var_long_list.append(var1)\n",
    "        var_long_list.append(var2)\n",
    "        var_long_list.append(var3)\n",
    "        var_long_list.append(var4)\n",
    "        var_long_list.append(var5)\n",
    "        print('\\nDate :',df.index[i])\n",
    "        print('Long effectué, :',var1,', ',var2,', ',var3,', ',var4)\n",
    "        print('close actuel',candle_close)\n",
    "        print(\"les 4 close d'avant\",\\\n",
    "              candle_close_1,candle_close_2,candle_close_3,\\\n",
    "              candle_close_4,candle_close_5)\n",
    "        print('Max ',max(var_long_list))\n",
    "        print('pnl :',max(var_long_list))\n",
    "        equity = equity -3 + max(var_long_list)*ticket\n",
    "        #equity = equity - 3 + max(var_long_list)*ticket\n",
    "        print('Nouvel equity :',equity)\n",
    "        long_list.append(1)\n",
    "        short_list.append(0)\n",
    "        equity_list.append(equity)\n",
    "        cc+=1\n",
    "        var_long_list = []\n",
    "    \n",
    "    elif var1 < short_target or var2 < short_target or \\\n",
    "    var3 < short_target or var4 < short_target or var5 < short_target:\n",
    "        var_short_list.append(var1)\n",
    "        var_short_list.append(var2)\n",
    "        var_short_list.append(var3)\n",
    "        var_short_list.append(var4)\n",
    "        var_short_list.append(var5)\n",
    "        print('\\nDate :',df.index[i])\n",
    "        print('Short effectué :',var1,', ',var2,', ',var3,', ',var4)\n",
    "        print('close actuel',candle_close)\n",
    "        print(\"les 4 close d'avant\",\\\n",
    "              candle_close_1,candle_close_2,candle_close_3,\\\n",
    "              candle_close_4,candle_close_5)\n",
    "        print('Min ',-min(var_short_list))\n",
    "        print('pnl :', - min(var_short_list))\n",
    "        equity = equity -3 - min(var_short_list)*ticket\n",
    "        #equity = equity - 3 - min(var_short_list)*ticket\n",
    "        print('Nouvel equity :',equity)\n",
    "        short_list.append(1)\n",
    "        long_list.append(0)\n",
    "        equity_list.append(equity)\n",
    "        cc+=1\n",
    "        var_short_list = []\n",
    "    \n",
    "    else :\n",
    "        print('\\nDate :',df.index[i])\n",
    "        print('Il ne se passe rien')\n",
    "        short_list.append(0)\n",
    "        long_list.append(0)\n",
    "        equity_list.append(equity)\n",
    "        cc+=1\n",
    "\n",
    "\n",
    "print('Boucle terminée')\n",
    "print('La long target était fixée à ',long_target)\n",
    "print('La short target était fixée à ',short_target)\n",
    "print('La règle était 4 périodes consécutives au dessus de long ou au dessous de short')\n",
    "print('Il y a eu ',df.shape[0],' périodes testées')\n",
    "print('Durant cette période,',sum(long_list),' long et ',sum(short_list),' short')\n",
    "print(\"Les gains totaux s'élèvent à :\",round(equity-100000),'$' )\n",
    "    \n",
    "f.close()\n",
    "sys.stdout = orig_stdout\n",
    "\n",
    "\n",
    "print('Boucle terminée')\n",
    "print('La long target était fixée à ',long_target)\n",
    "print('La short target était fixée à ',short_target)\n",
    "print(\"La règle était qu'une des 5 periodes d'avant était inférieure ou supérieure à la target (long ou short)\")\n",
    "print('Il y a eu ',df.shape[0],' périodes testées')\n",
    "print('Durant cette période,',sum(long_list),' long et ',sum(short_list),' short')\n",
    "print(\"Les gains totaux s'élèvent à :\",round(equity-100000),'$' )\n",
    "\n",
    "var_dtf = pd.DataFrame()\n",
    "var_dtf['Long'] = long_list\n",
    "var_dtf['Short'] = short_list\n",
    "var_dtf['Equity'] = equity_list\n",
    "\n",
    " \n",
    "    "
   ]
  },
  {
   "cell_type": "code",
   "execution_count": 17,
   "metadata": {},
   "outputs": [
    {
     "data": {
      "text/plain": [
       "(145.76, 145.5625, 145.6195, 145.56799999999996, 146.3775, 146.289, 0)"
      ]
     },
     "execution_count": 17,
     "metadata": {},
     "output_type": "execute_result"
    }
   ],
   "source": [
    "candle_close,candle_close_1,candle_close_2,candle_close_3,candle_close_4,candle_close_5,candle_open"
   ]
  },
  {
   "cell_type": "code",
   "execution_count": 18,
   "metadata": {},
   "outputs": [
    {
     "data": {
      "text/plain": [
       "(4882, 24469, 24469, 24469, 24469, 24469, 24475)"
      ]
     },
     "execution_count": 18,
     "metadata": {},
     "output_type": "execute_result"
    }
   ],
   "source": [
    "sum(short_list)+sum(long_list), c, cc, len(short_list),len(long_list),len(equity_list),len(df)"
   ]
  },
  {
   "cell_type": "code",
   "execution_count": 19,
   "metadata": {},
   "outputs": [
    {
     "data": {
      "text/plain": [
       "<matplotlib.legend.Legend at 0x118a832b0>"
      ]
     },
     "execution_count": 19,
     "metadata": {},
     "output_type": "execute_result"
    },
    {
     "data": {
      "image/png": "[encoded data removed]",
      "text/plain": [
       "<Figure size 1152x432 with 1 Axes>"
      ]
     },
     "metadata": {
      "needs_background": "light"
     },
     "output_type": "display_data"
    }
   ],
   "source": [
    "plt.figure(figsize=(16,6))\n",
    "plt.plot(var_dtf['Long'],color='orange',label='Long')\n",
    "plt.plot(-var_dtf['Short'],color='purple',label='Short')\n",
    "plt.axhline(y=long_target, color='cyan',linestyle='-', label='Long Target')\n",
    "plt.axhline(y=0, color='red',linestyle='--', label='Zéro')\n",
    "plt.axhline(y=short_target,color='cyan',label='Short Target')\n",
    "plt.legend()"
   ]
  },
  {
   "cell_type": "code",
   "execution_count": 20,
   "metadata": {},
   "outputs": [
    {
     "data": {
      "text/plain": [
       "<matplotlib.legend.Legend at 0x119fa17f0>"
      ]
     },
     "execution_count": 20,
     "metadata": {},
     "output_type": "execute_result"
    },
    {
     "data": {
      "image/png": "[encoded data removed]",
      "text/plain": [
       "<Figure size 1152x432 with 1 Axes>"
      ]
     },
     "metadata": {
      "needs_background": "light"
     },
     "output_type": "display_data"
    }
   ],
   "source": [
    "plt.figure(figsize=(16,6))\n",
    "plt.plot(var_dtf['Equity'],color='green',label='Equity')\n",
    "plt.axhline(y=100000., color='red',linestyle='-', label='mise de départ')\n",
    "plt.legend()"
   ]
  },
  {
   "cell_type": "code",
   "execution_count": 21,
   "metadata": {},
   "outputs": [
    {
     "data": {
      "text/plain": [
       "(24469, 24469, 24475)"
      ]
     },
     "execution_count": 21,
     "metadata": {},
     "output_type": "execute_result"
    }
   ],
   "source": [
    "len(short_list),len(long_list),len(df)"
   ]
  },
  {
   "cell_type": "code",
   "execution_count": 22,
   "metadata": {},
   "outputs": [],
   "source": [
    "df = df.iloc[5:(df.shape[0]-1),:]\n",
    "df['short_gbpjpy'] = short_list\n",
    "df['long_gbpjpy'] = long_list"
   ]
  },
  {
   "cell_type": "code",
   "execution_count": 23,
   "metadata": {},
   "outputs": [
    {
     "name": "stdout",
     "output_type": "stream",
     "text": [
      "Nombre de positions de long trouvées : 3406\n",
      "Nombre de positions short trouvées : 1476\n",
      "Sur un total de  4882\n"
     ]
    }
   ],
   "source": [
    "print('Nombre de positions de long trouvées :',sum(long_list))\n",
    "print('Nombre de positions short trouvées :',sum(short_list))\n",
    "print('Sur un total de ',sum(short_list)+sum(long_list))"
   ]
  },
  {
   "cell_type": "code",
   "execution_count": 24,
   "metadata": {},
   "outputs": [
    {
     "name": "stdout",
     "output_type": "stream",
     "text": [
      "Sur un achat systématique, les gains représentent 9.98 %\n"
     ]
    }
   ],
   "source": [
    "print('Sur un achat systématique, les gains représentent',\\\n",
    "      round((sum(short_list)+sum(long_list))/(len(short_list)+len(long_list))*100,2),'%')"
   ]
  },
  {
   "cell_type": "code",
   "execution_count": 25,
   "metadata": {},
   "outputs": [
    {
     "data": {
      "text/plain": [
       "(1476, 3406)"
      ]
     },
     "execution_count": 25,
     "metadata": {},
     "output_type": "execute_result"
    }
   ],
   "source": [
    "#df['short'] = df['trend'].shift(-1)\n",
    "df['short_gbpjpy'].sum(),df['long_gbpjpy'].sum()"
   ]
  },
  {
   "cell_type": "code",
   "execution_count": 26,
   "metadata": {},
   "outputs": [
    {
     "data": {
      "text/html": [
       "<div>\n",
       "<style scoped>\n",
       "    .dataframe tbody tr th:only-of-type {\n",
       "        vertical-align: middle;\n",
       "    }\n",
       "\n",
       "    .dataframe tbody tr th {\n",
       "        vertical-align: top;\n",
       "    }\n",
       "\n",
       "    .dataframe thead th {\n",
       "        text-align: right;\n",
       "    }\n",
       "</style>\n",
       "<table border=\"1\" class=\"dataframe\">\n",
       "  <thead>\n",
       "    <tr style=\"text-align: right;\">\n",
       "      <th></th>\n",
       "      <th>oc_gbpjpy</th>\n",
       "      <th>hl_gbpjpy</th>\n",
       "      <th>gbpjpy_close</th>\n",
       "      <th>gbpjpy_Doc</th>\n",
       "      <th>gbpjpy_Dhl</th>\n",
       "      <th>rsi_gbpjpy</th>\n",
       "      <th>GBPJPY</th>\n",
       "      <th>short_gbpjpy</th>\n",
       "      <th>long_gbpjpy</th>\n",
       "    </tr>\n",
       "    <tr>\n",
       "      <th>Date</th>\n",
       "      <th></th>\n",
       "      <th></th>\n",
       "      <th></th>\n",
       "      <th></th>\n",
       "      <th></th>\n",
       "      <th></th>\n",
       "      <th></th>\n",
       "      <th></th>\n",
       "      <th></th>\n",
       "    </tr>\n",
       "  </thead>\n",
       "  <tbody>\n",
       "    <tr>\n",
       "      <th>20190503  22:45:00</th>\n",
       "      <td>-0.0885</td>\n",
       "      <td>0.1185</td>\n",
       "      <td>0.000605</td>\n",
       "      <td>-29.516129</td>\n",
       "      <td>1.343874</td>\n",
       "      <td>93.826793</td>\n",
       "      <td>146.3775</td>\n",
       "      <td>0</td>\n",
       "      <td>0</td>\n",
       "    </tr>\n",
       "    <tr>\n",
       "      <th>20190505  23:15:00</th>\n",
       "      <td>0.0310</td>\n",
       "      <td>0.5090</td>\n",
       "      <td>-0.005530</td>\n",
       "      <td>-1.351810</td>\n",
       "      <td>3.292580</td>\n",
       "      <td>5.317128</td>\n",
       "      <td>145.5680</td>\n",
       "      <td>1</td>\n",
       "      <td>0</td>\n",
       "    </tr>\n",
       "    <tr>\n",
       "      <th>20190505  23:30:00</th>\n",
       "      <td>-0.0515</td>\n",
       "      <td>0.2115</td>\n",
       "      <td>0.000354</td>\n",
       "      <td>-2.652733</td>\n",
       "      <td>-0.584365</td>\n",
       "      <td>15.463869</td>\n",
       "      <td>145.6195</td>\n",
       "      <td>1</td>\n",
       "      <td>0</td>\n",
       "    </tr>\n",
       "    <tr>\n",
       "      <th>20190505  23:45:00</th>\n",
       "      <td>0.0570</td>\n",
       "      <td>0.1670</td>\n",
       "      <td>-0.000391</td>\n",
       "      <td>-2.110895</td>\n",
       "      <td>-0.210302</td>\n",
       "      <td>12.498876</td>\n",
       "      <td>145.5625</td>\n",
       "      <td>1</td>\n",
       "      <td>0</td>\n",
       "    </tr>\n",
       "    <tr>\n",
       "      <th>20190506  00:00:00</th>\n",
       "      <td>-0.1975</td>\n",
       "      <td>0.2675</td>\n",
       "      <td>0.001357</td>\n",
       "      <td>-4.457093</td>\n",
       "      <td>0.601436</td>\n",
       "      <td>62.424947</td>\n",
       "      <td>145.7600</td>\n",
       "      <td>1</td>\n",
       "      <td>0</td>\n",
       "    </tr>\n",
       "  </tbody>\n",
       "</table>\n",
       "</div>"
      ],
      "text/plain": [
       "                    oc_gbpjpy  hl_gbpjpy  gbpjpy_close  gbpjpy_Doc  \\\n",
       "Date                                                                 \n",
       "20190503  22:45:00    -0.0885     0.1185      0.000605  -29.516129   \n",
       "20190505  23:15:00     0.0310     0.5090     -0.005530   -1.351810   \n",
       "20190505  23:30:00    -0.0515     0.2115      0.000354   -2.652733   \n",
       "20190505  23:45:00     0.0570     0.1670     -0.000391   -2.110895   \n",
       "20190506  00:00:00    -0.1975     0.2675      0.001357   -4.457093   \n",
       "\n",
       "                    gbpjpy_Dhl  rsi_gbpjpy    GBPJPY  short_gbpjpy  \\\n",
       "Date                                                                 \n",
       "20190503  22:45:00    1.343874   93.826793  146.3775             0   \n",
       "20190505  23:15:00    3.292580    5.317128  145.5680             1   \n",
       "20190505  23:30:00   -0.584365   15.463869  145.6195             1   \n",
       "20190505  23:45:00   -0.210302   12.498876  145.5625             1   \n",
       "20190506  00:00:00    0.601436   62.424947  145.7600             1   \n",
       "\n",
       "                    long_gbpjpy  \n",
       "Date                             \n",
       "20190503  22:45:00            0  \n",
       "20190505  23:15:00            0  \n",
       "20190505  23:30:00            0  \n",
       "20190505  23:45:00            0  \n",
       "20190506  00:00:00            0  "
      ]
     },
     "execution_count": 26,
     "metadata": {},
     "output_type": "execute_result"
    }
   ],
   "source": [
    "df.tail()"
   ]
  },
  {
   "cell_type": "code",
   "execution_count": 27,
   "metadata": {},
   "outputs": [
    {
     "data": {
      "text/html": [
       "<div>\n",
       "<style scoped>\n",
       "    .dataframe tbody tr th:only-of-type {\n",
       "        vertical-align: middle;\n",
       "    }\n",
       "\n",
       "    .dataframe tbody tr th {\n",
       "        vertical-align: top;\n",
       "    }\n",
       "\n",
       "    .dataframe thead th {\n",
       "        text-align: right;\n",
       "    }\n",
       "</style>\n",
       "<table border=\"1\" class=\"dataframe\">\n",
       "  <thead>\n",
       "    <tr style=\"text-align: right;\">\n",
       "      <th></th>\n",
       "      <th>oc_gbpjpy</th>\n",
       "      <th>hl_gbpjpy</th>\n",
       "      <th>gbpjpy_close</th>\n",
       "      <th>gbpjpy_Doc</th>\n",
       "      <th>gbpjpy_Dhl</th>\n",
       "      <th>rsi_gbpjpy</th>\n",
       "      <th>GBPJPY</th>\n",
       "      <th>short_gbpjpy</th>\n",
       "      <th>long_gbpjpy</th>\n",
       "    </tr>\n",
       "    <tr>\n",
       "      <th>Date</th>\n",
       "      <th></th>\n",
       "      <th></th>\n",
       "      <th></th>\n",
       "      <th></th>\n",
       "      <th></th>\n",
       "      <th></th>\n",
       "      <th></th>\n",
       "      <th></th>\n",
       "      <th></th>\n",
       "    </tr>\n",
       "  </thead>\n",
       "  <tbody>\n",
       "    <tr>\n",
       "      <th>20190503  22:45:00</th>\n",
       "      <td>-0.0885</td>\n",
       "      <td>0.1185</td>\n",
       "      <td>0.000605</td>\n",
       "      <td>-29.516129</td>\n",
       "      <td>1.343874</td>\n",
       "      <td>93.826793</td>\n",
       "      <td>146.3775</td>\n",
       "      <td>0</td>\n",
       "      <td>0</td>\n",
       "    </tr>\n",
       "    <tr>\n",
       "      <th>20190505  23:15:00</th>\n",
       "      <td>0.0310</td>\n",
       "      <td>0.5090</td>\n",
       "      <td>-0.005530</td>\n",
       "      <td>-1.351810</td>\n",
       "      <td>3.292580</td>\n",
       "      <td>5.317128</td>\n",
       "      <td>145.5680</td>\n",
       "      <td>1</td>\n",
       "      <td>0</td>\n",
       "    </tr>\n",
       "    <tr>\n",
       "      <th>20190505  23:30:00</th>\n",
       "      <td>-0.0515</td>\n",
       "      <td>0.2115</td>\n",
       "      <td>0.000354</td>\n",
       "      <td>-2.652733</td>\n",
       "      <td>-0.584365</td>\n",
       "      <td>15.463869</td>\n",
       "      <td>145.6195</td>\n",
       "      <td>1</td>\n",
       "      <td>0</td>\n",
       "    </tr>\n",
       "    <tr>\n",
       "      <th>20190505  23:45:00</th>\n",
       "      <td>0.0570</td>\n",
       "      <td>0.1670</td>\n",
       "      <td>-0.000391</td>\n",
       "      <td>-2.110895</td>\n",
       "      <td>-0.210302</td>\n",
       "      <td>12.498876</td>\n",
       "      <td>145.5625</td>\n",
       "      <td>1</td>\n",
       "      <td>0</td>\n",
       "    </tr>\n",
       "    <tr>\n",
       "      <th>20190506  00:00:00</th>\n",
       "      <td>-0.1975</td>\n",
       "      <td>0.2675</td>\n",
       "      <td>0.001357</td>\n",
       "      <td>-4.457093</td>\n",
       "      <td>0.601436</td>\n",
       "      <td>62.424947</td>\n",
       "      <td>145.7600</td>\n",
       "      <td>1</td>\n",
       "      <td>0</td>\n",
       "    </tr>\n",
       "  </tbody>\n",
       "</table>\n",
       "</div>"
      ],
      "text/plain": [
       "                    oc_gbpjpy  hl_gbpjpy  gbpjpy_close  gbpjpy_Doc  \\\n",
       "Date                                                                 \n",
       "20190503  22:45:00    -0.0885     0.1185      0.000605  -29.516129   \n",
       "20190505  23:15:00     0.0310     0.5090     -0.005530   -1.351810   \n",
       "20190505  23:30:00    -0.0515     0.2115      0.000354   -2.652733   \n",
       "20190505  23:45:00     0.0570     0.1670     -0.000391   -2.110895   \n",
       "20190506  00:00:00    -0.1975     0.2675      0.001357   -4.457093   \n",
       "\n",
       "                    gbpjpy_Dhl  rsi_gbpjpy    GBPJPY  short_gbpjpy  \\\n",
       "Date                                                                 \n",
       "20190503  22:45:00    1.343874   93.826793  146.3775             0   \n",
       "20190505  23:15:00    3.292580    5.317128  145.5680             1   \n",
       "20190505  23:30:00   -0.584365   15.463869  145.6195             1   \n",
       "20190505  23:45:00   -0.210302   12.498876  145.5625             1   \n",
       "20190506  00:00:00    0.601436   62.424947  145.7600             1   \n",
       "\n",
       "                    long_gbpjpy  \n",
       "Date                             \n",
       "20190503  22:45:00            0  \n",
       "20190505  23:15:00            0  \n",
       "20190505  23:30:00            0  \n",
       "20190505  23:45:00            0  \n",
       "20190506  00:00:00            0  "
      ]
     },
     "execution_count": 27,
     "metadata": {},
     "output_type": "execute_result"
    }
   ],
   "source": [
    "df = df.dropna()\n",
    "df.tail()"
   ]
  },
  {
   "cell_type": "code",
   "execution_count": 28,
   "metadata": {},
   "outputs": [
    {
     "data": {
      "text/plain": [
       "(1476, 3406)"
      ]
     },
     "execution_count": 28,
     "metadata": {},
     "output_type": "execute_result"
    }
   ],
   "source": [
    "df['short_gbpjpy'].sum(),df['long_gbpjpy'].sum()"
   ]
  },
  {
   "cell_type": "code",
   "execution_count": 29,
   "metadata": {},
   "outputs": [],
   "source": [
    "df.to_csv('dataset_Ruled.csv')"
   ]
  },
  {
   "cell_type": "code",
   "execution_count": null,
   "metadata": {},
   "outputs": [],
   "source": []
  },
  {
   "cell_type": "code",
   "execution_count": null,
   "metadata": {},
   "outputs": [],
   "source": []
  },
  {
   "cell_type": "code",
   "execution_count": null,
   "metadata": {},
   "outputs": [],
   "source": []
  }
 ],
 "metadata": {
  "kernelspec": {
   "display_name": "Python 3",
   "language": "python",
   "name": "python3"
  },
  "language_info": {
   "codemirror_mode": {
    "name": "ipython",
    "version": 3
   },
   "file_extension": ".py",
   "mimetype": "text/x-python",
   "name": "python",
   "nbconvert_exporter": "python",
   "pygments_lexer": "ipython3",
   "version": "3.6.8"
  }
 },
 "nbformat": 4,
 "nbformat_minor": 2
}
