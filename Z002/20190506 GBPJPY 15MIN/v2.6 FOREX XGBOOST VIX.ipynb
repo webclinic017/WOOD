{
 "cells": [
  {
   "cell_type": "code",
   "execution_count": 1,
   "metadata": {},
   "outputs": [],
   "source": [
    "___Author___='LumberJack Jyss'"
   ]
  },
  {
   "cell_type": "code",
   "execution_count": 2,
   "metadata": {},
   "outputs": [
    {
     "name": "stdout",
     "output_type": "stream",
     "text": [
      "LumberJack BRUTAL AtidotCom XGBOOST\n",
      "LumberJack Jyss (c)\n"
     ]
    }
   ],
   "source": [
    "print('LumberJack BRUTAL AtidotCom XGBOOST\\nLumberJack Jyss (c)')"
   ]
  },
  {
   "cell_type": "code",
   "execution_count": 3,
   "metadata": {},
   "outputs": [
    {
     "name": "stdout",
     "output_type": "stream",
     "text": [
      "Importation des librairies...\n",
      "Librairies importées\n"
     ]
    }
   ],
   "source": [
    "print('Importation des librairies...')\n",
    "import statistics\n",
    "import pickle\n",
    "import numpy as np\n",
    "import pandas as pd\n",
    "import xgboost as xgb\n",
    "from pandas.plotting import register_matplotlib_converters\n",
    "import pandas_datareader as web\n",
    "import matplotlib.pyplot as plt\n",
    "from sklearn.linear_model import LogisticRegression\n",
    "from sklearn.preprocessing import LabelEncoder\n",
    "from sklearn.metrics import accuracy_score, precision_score, recall_score, roc_auc_score,roc_curve\n",
    "from sklearn import model_selection\n",
    "from sklearn.model_selection import cross_val_score\n",
    "from sklearn.metrics import confusion_matrix\n",
    "from sklearn.metrics import classification_report\n",
    "from sklearn.model_selection import train_test_split\n",
    "#from sklearn.grid_search import GridSearchCV\n",
    "import seaborn as sns\n",
    "\n",
    "import os\n",
    "os.environ['KMP_DUPLICATE_LIB_OK']='True'\n",
    "from xgboost import XGBClassifier\n",
    "\n",
    "%matplotlib inline\n",
    "print('Librairies importées')"
   ]
  },
  {
   "cell_type": "code",
   "execution_count": 4,
   "metadata": {},
   "outputs": [],
   "source": [
    "#df = pd.read_csv('gbpjpy.csv')\n",
    "df = pd.read_csv('dataset_Ruled.csv')"
   ]
  },
  {
   "cell_type": "code",
   "execution_count": 5,
   "metadata": {},
   "outputs": [],
   "source": [
    "df = df.dropna()\n",
    "#df.iloc[0].column=['Date']\n",
    "#df = df.drop(['Open_spy','High_spy','Low_spy'],axis=1)"
   ]
  },
  {
   "cell_type": "code",
   "execution_count": 6,
   "metadata": {},
   "outputs": [
    {
     "data": {
      "text/html": [
       "<div>\n",
       "<style scoped>\n",
       "    .dataframe tbody tr th:only-of-type {\n",
       "        vertical-align: middle;\n",
       "    }\n",
       "\n",
       "    .dataframe tbody tr th {\n",
       "        vertical-align: top;\n",
       "    }\n",
       "\n",
       "    .dataframe thead th {\n",
       "        text-align: right;\n",
       "    }\n",
       "</style>\n",
       "<table border=\"1\" class=\"dataframe\">\n",
       "  <thead>\n",
       "    <tr style=\"text-align: right;\">\n",
       "      <th></th>\n",
       "      <th>Date</th>\n",
       "      <th>oc_gbpjpy</th>\n",
       "      <th>hl_gbpjpy</th>\n",
       "      <th>gbpjpy_close</th>\n",
       "      <th>gbpjpy_Doc</th>\n",
       "      <th>gbpjpy_Dhl</th>\n",
       "      <th>rsi_gbpjpy</th>\n",
       "      <th>GBPJPY</th>\n",
       "      <th>short_gbpjpy</th>\n",
       "      <th>long_gbpjpy</th>\n",
       "    </tr>\n",
       "  </thead>\n",
       "  <tbody>\n",
       "    <tr>\n",
       "      <th>0</th>\n",
       "      <td>20180507  02:00:00</td>\n",
       "      <td>0.1220</td>\n",
       "      <td>0.1670</td>\n",
       "      <td>-0.000826</td>\n",
       "      <td>1.389432</td>\n",
       "      <td>0.362969</td>\n",
       "      <td>6.973080</td>\n",
       "      <td>147.5635</td>\n",
       "      <td>0</td>\n",
       "      <td>0</td>\n",
       "    </tr>\n",
       "    <tr>\n",
       "      <th>1</th>\n",
       "      <td>20180507  02:15:00</td>\n",
       "      <td>0.0060</td>\n",
       "      <td>0.0815</td>\n",
       "      <td>-0.000041</td>\n",
       "      <td>-0.950041</td>\n",
       "      <td>-0.511670</td>\n",
       "      <td>6.532351</td>\n",
       "      <td>147.5575</td>\n",
       "      <td>0</td>\n",
       "      <td>0</td>\n",
       "    </tr>\n",
       "    <tr>\n",
       "      <th>2</th>\n",
       "      <td>20180507  02:30:00</td>\n",
       "      <td>-0.0225</td>\n",
       "      <td>0.0655</td>\n",
       "      <td>0.000152</td>\n",
       "      <td>-4.672131</td>\n",
       "      <td>-0.196078</td>\n",
       "      <td>36.590515</td>\n",
       "      <td>147.5800</td>\n",
       "      <td>0</td>\n",
       "      <td>0</td>\n",
       "    </tr>\n",
       "    <tr>\n",
       "      <th>3</th>\n",
       "      <td>20180507  02:45:00</td>\n",
       "      <td>0.0385</td>\n",
       "      <td>0.0880</td>\n",
       "      <td>-0.000261</td>\n",
       "      <td>-2.723214</td>\n",
       "      <td>0.342988</td>\n",
       "      <td>17.419502</td>\n",
       "      <td>147.5415</td>\n",
       "      <td>0</td>\n",
       "      <td>0</td>\n",
       "    </tr>\n",
       "    <tr>\n",
       "      <th>4</th>\n",
       "      <td>20180507  03:00:00</td>\n",
       "      <td>0.1295</td>\n",
       "      <td>0.1775</td>\n",
       "      <td>-0.000878</td>\n",
       "      <td>2.357513</td>\n",
       "      <td>1.015891</td>\n",
       "      <td>3.849914</td>\n",
       "      <td>147.4120</td>\n",
       "      <td>0</td>\n",
       "      <td>0</td>\n",
       "    </tr>\n",
       "  </tbody>\n",
       "</table>\n",
       "</div>"
      ],
      "text/plain": [
       "                 Date  oc_gbpjpy  hl_gbpjpy  gbpjpy_close  gbpjpy_Doc  \\\n",
       "0  20180507  02:00:00     0.1220     0.1670     -0.000826    1.389432   \n",
       "1  20180507  02:15:00     0.0060     0.0815     -0.000041   -0.950041   \n",
       "2  20180507  02:30:00    -0.0225     0.0655      0.000152   -4.672131   \n",
       "3  20180507  02:45:00     0.0385     0.0880     -0.000261   -2.723214   \n",
       "4  20180507  03:00:00     0.1295     0.1775     -0.000878    2.357513   \n",
       "\n",
       "   gbpjpy_Dhl  rsi_gbpjpy    GBPJPY  short_gbpjpy  long_gbpjpy  \n",
       "0    0.362969    6.973080  147.5635             0            0  \n",
       "1   -0.511670    6.532351  147.5575             0            0  \n",
       "2   -0.196078   36.590515  147.5800             0            0  \n",
       "3    0.342988   17.419502  147.5415             0            0  \n",
       "4    1.015891    3.849914  147.4120             0            0  "
      ]
     },
     "execution_count": 6,
     "metadata": {},
     "output_type": "execute_result"
    }
   ],
   "source": [
    "df.head()"
   ]
  },
  {
   "cell_type": "code",
   "execution_count": 7,
   "metadata": {},
   "outputs": [
    {
     "data": {
      "text/html": [
       "<div>\n",
       "<style scoped>\n",
       "    .dataframe tbody tr th:only-of-type {\n",
       "        vertical-align: middle;\n",
       "    }\n",
       "\n",
       "    .dataframe tbody tr th {\n",
       "        vertical-align: top;\n",
       "    }\n",
       "\n",
       "    .dataframe thead th {\n",
       "        text-align: right;\n",
       "    }\n",
       "</style>\n",
       "<table border=\"1\" class=\"dataframe\">\n",
       "  <thead>\n",
       "    <tr style=\"text-align: right;\">\n",
       "      <th></th>\n",
       "      <th>oc_gbpjpy</th>\n",
       "      <th>hl_gbpjpy</th>\n",
       "      <th>gbpjpy_close</th>\n",
       "      <th>gbpjpy_Doc</th>\n",
       "      <th>gbpjpy_Dhl</th>\n",
       "      <th>rsi_gbpjpy</th>\n",
       "      <th>GBPJPY</th>\n",
       "      <th>short_gbpjpy</th>\n",
       "      <th>long_gbpjpy</th>\n",
       "    </tr>\n",
       "    <tr>\n",
       "      <th>Date</th>\n",
       "      <th></th>\n",
       "      <th></th>\n",
       "      <th></th>\n",
       "      <th></th>\n",
       "      <th></th>\n",
       "      <th></th>\n",
       "      <th></th>\n",
       "      <th></th>\n",
       "      <th></th>\n",
       "    </tr>\n",
       "  </thead>\n",
       "  <tbody>\n",
       "    <tr>\n",
       "      <th>20180507  02:00:00</th>\n",
       "      <td>0.1220</td>\n",
       "      <td>0.1670</td>\n",
       "      <td>-0.000826</td>\n",
       "      <td>1.389432</td>\n",
       "      <td>0.362969</td>\n",
       "      <td>6.973080</td>\n",
       "      <td>147.5635</td>\n",
       "      <td>0</td>\n",
       "      <td>0</td>\n",
       "    </tr>\n",
       "    <tr>\n",
       "      <th>20180507  02:15:00</th>\n",
       "      <td>0.0060</td>\n",
       "      <td>0.0815</td>\n",
       "      <td>-0.000041</td>\n",
       "      <td>-0.950041</td>\n",
       "      <td>-0.511670</td>\n",
       "      <td>6.532351</td>\n",
       "      <td>147.5575</td>\n",
       "      <td>0</td>\n",
       "      <td>0</td>\n",
       "    </tr>\n",
       "    <tr>\n",
       "      <th>20180507  02:30:00</th>\n",
       "      <td>-0.0225</td>\n",
       "      <td>0.0655</td>\n",
       "      <td>0.000152</td>\n",
       "      <td>-4.672131</td>\n",
       "      <td>-0.196078</td>\n",
       "      <td>36.590515</td>\n",
       "      <td>147.5800</td>\n",
       "      <td>0</td>\n",
       "      <td>0</td>\n",
       "    </tr>\n",
       "    <tr>\n",
       "      <th>20180507  02:45:00</th>\n",
       "      <td>0.0385</td>\n",
       "      <td>0.0880</td>\n",
       "      <td>-0.000261</td>\n",
       "      <td>-2.723214</td>\n",
       "      <td>0.342988</td>\n",
       "      <td>17.419502</td>\n",
       "      <td>147.5415</td>\n",
       "      <td>0</td>\n",
       "      <td>0</td>\n",
       "    </tr>\n",
       "    <tr>\n",
       "      <th>20180507  03:00:00</th>\n",
       "      <td>0.1295</td>\n",
       "      <td>0.1775</td>\n",
       "      <td>-0.000878</td>\n",
       "      <td>2.357513</td>\n",
       "      <td>1.015891</td>\n",
       "      <td>3.849914</td>\n",
       "      <td>147.4120</td>\n",
       "      <td>0</td>\n",
       "      <td>0</td>\n",
       "    </tr>\n",
       "  </tbody>\n",
       "</table>\n",
       "</div>"
      ],
      "text/plain": [
       "                    oc_gbpjpy  hl_gbpjpy  gbpjpy_close  gbpjpy_Doc  \\\n",
       "Date                                                                 \n",
       "20180507  02:00:00     0.1220     0.1670     -0.000826    1.389432   \n",
       "20180507  02:15:00     0.0060     0.0815     -0.000041   -0.950041   \n",
       "20180507  02:30:00    -0.0225     0.0655      0.000152   -4.672131   \n",
       "20180507  02:45:00     0.0385     0.0880     -0.000261   -2.723214   \n",
       "20180507  03:00:00     0.1295     0.1775     -0.000878    2.357513   \n",
       "\n",
       "                    gbpjpy_Dhl  rsi_gbpjpy    GBPJPY  short_gbpjpy  \\\n",
       "Date                                                                 \n",
       "20180507  02:00:00    0.362969    6.973080  147.5635             0   \n",
       "20180507  02:15:00   -0.511670    6.532351  147.5575             0   \n",
       "20180507  02:30:00   -0.196078   36.590515  147.5800             0   \n",
       "20180507  02:45:00    0.342988   17.419502  147.5415             0   \n",
       "20180507  03:00:00    1.015891    3.849914  147.4120             0   \n",
       "\n",
       "                    long_gbpjpy  \n",
       "Date                             \n",
       "20180507  02:00:00            0  \n",
       "20180507  02:15:00            0  \n",
       "20180507  02:30:00            0  \n",
       "20180507  02:45:00            0  \n",
       "20180507  03:00:00            0  "
      ]
     },
     "execution_count": 7,
     "metadata": {},
     "output_type": "execute_result"
    }
   ],
   "source": [
    "df.set_index('Date', inplace=True)\n",
    "df.head()"
   ]
  },
  {
   "cell_type": "code",
   "execution_count": 8,
   "metadata": {},
   "outputs": [
    {
     "name": "stdout",
     "output_type": "stream",
     "text": [
      "<class 'pandas.core.frame.DataFrame'>\n",
      "Index: 24469 entries, 20180507  02:00:00 to 20190506  00:00:00\n",
      "Data columns (total 9 columns):\n",
      "oc_gbpjpy       24469 non-null float64\n",
      "hl_gbpjpy       24469 non-null float64\n",
      "gbpjpy_close    24469 non-null float64\n",
      "gbpjpy_Doc      24469 non-null float64\n",
      "gbpjpy_Dhl      24469 non-null float64\n",
      "rsi_gbpjpy      24469 non-null float64\n",
      "GBPJPY          24469 non-null float64\n",
      "short_gbpjpy    24469 non-null int64\n",
      "long_gbpjpy     24469 non-null int64\n",
      "dtypes: float64(7), int64(2)\n",
      "memory usage: 1.9+ MB\n"
     ]
    }
   ],
   "source": [
    "df.info()"
   ]
  },
  {
   "cell_type": "code",
   "execution_count": 9,
   "metadata": {},
   "outputs": [
    {
     "data": {
      "text/plain": [
       "(1476, 3406)"
      ]
     },
     "execution_count": 9,
     "metadata": {},
     "output_type": "execute_result"
    }
   ],
   "source": [
    "sum(df['short_gbpjpy']),sum(df['long_gbpjpy'])"
   ]
  },
  {
   "cell_type": "code",
   "execution_count": 10,
   "metadata": {},
   "outputs": [
    {
     "name": "stdout",
     "output_type": "stream",
     "text": [
      "Période d'étude :  24469 périodes\n",
      "Sur un découpage 80% - 20% de la période : \n",
      "Bloc 1 :  19575  périodes \n",
      "Bloc 2 : 4894  périodes\n"
     ]
    }
   ],
   "source": [
    "delta = df.shape[0]\n",
    "bloc1 = round(delta*0.8)\n",
    "bloc2 = delta - bloc1\n",
    "print(\"Période d'étude : \",delta,'périodes')\n",
    "print('Sur un découpage 80% - 20% de la période : ')\n",
    "print('Bloc 1 : ',bloc1,' périodes \\nBloc 2 :',bloc2,' périodes')"
   ]
  },
  {
   "cell_type": "code",
   "execution_count": 11,
   "metadata": {},
   "outputs": [
    {
     "data": {
      "text/plain": [
       "(3406, 1476)"
      ]
     },
     "execution_count": 11,
     "metadata": {},
     "output_type": "execute_result"
    }
   ],
   "source": [
    "df['long_gbpjpy'].sum(),df['short_gbpjpy'].sum()"
   ]
  },
  {
   "cell_type": "code",
   "execution_count": 12,
   "metadata": {},
   "outputs": [
    {
     "data": {
      "text/html": [
       "<div>\n",
       "<style scoped>\n",
       "    .dataframe tbody tr th:only-of-type {\n",
       "        vertical-align: middle;\n",
       "    }\n",
       "\n",
       "    .dataframe tbody tr th {\n",
       "        vertical-align: top;\n",
       "    }\n",
       "\n",
       "    .dataframe thead th {\n",
       "        text-align: right;\n",
       "    }\n",
       "</style>\n",
       "<table border=\"1\" class=\"dataframe\">\n",
       "  <thead>\n",
       "    <tr style=\"text-align: right;\">\n",
       "      <th></th>\n",
       "      <th>oc_gbpjpy</th>\n",
       "      <th>hl_gbpjpy</th>\n",
       "      <th>gbpjpy_close</th>\n",
       "      <th>gbpjpy_Doc</th>\n",
       "      <th>gbpjpy_Dhl</th>\n",
       "      <th>rsi_gbpjpy</th>\n",
       "      <th>GBPJPY</th>\n",
       "      <th>short_gbpjpy</th>\n",
       "      <th>long_gbpjpy</th>\n",
       "    </tr>\n",
       "    <tr>\n",
       "      <th>Date</th>\n",
       "      <th></th>\n",
       "      <th></th>\n",
       "      <th></th>\n",
       "      <th></th>\n",
       "      <th></th>\n",
       "      <th></th>\n",
       "      <th></th>\n",
       "      <th></th>\n",
       "      <th></th>\n",
       "    </tr>\n",
       "  </thead>\n",
       "  <tbody>\n",
       "    <tr>\n",
       "      <th>20180507  02:00:00</th>\n",
       "      <td>0.1220</td>\n",
       "      <td>0.1670</td>\n",
       "      <td>-0.000826</td>\n",
       "      <td>1.389432</td>\n",
       "      <td>0.362969</td>\n",
       "      <td>6.973080</td>\n",
       "      <td>147.5635</td>\n",
       "      <td>0</td>\n",
       "      <td>0</td>\n",
       "    </tr>\n",
       "    <tr>\n",
       "      <th>20180507  02:15:00</th>\n",
       "      <td>0.0060</td>\n",
       "      <td>0.0815</td>\n",
       "      <td>-0.000041</td>\n",
       "      <td>-0.950041</td>\n",
       "      <td>-0.511670</td>\n",
       "      <td>6.532351</td>\n",
       "      <td>147.5575</td>\n",
       "      <td>0</td>\n",
       "      <td>0</td>\n",
       "    </tr>\n",
       "    <tr>\n",
       "      <th>20180507  02:30:00</th>\n",
       "      <td>-0.0225</td>\n",
       "      <td>0.0655</td>\n",
       "      <td>0.000152</td>\n",
       "      <td>-4.672131</td>\n",
       "      <td>-0.196078</td>\n",
       "      <td>36.590515</td>\n",
       "      <td>147.5800</td>\n",
       "      <td>0</td>\n",
       "      <td>0</td>\n",
       "    </tr>\n",
       "    <tr>\n",
       "      <th>20180507  02:45:00</th>\n",
       "      <td>0.0385</td>\n",
       "      <td>0.0880</td>\n",
       "      <td>-0.000261</td>\n",
       "      <td>-2.723214</td>\n",
       "      <td>0.342988</td>\n",
       "      <td>17.419502</td>\n",
       "      <td>147.5415</td>\n",
       "      <td>0</td>\n",
       "      <td>0</td>\n",
       "    </tr>\n",
       "    <tr>\n",
       "      <th>20180507  03:00:00</th>\n",
       "      <td>0.1295</td>\n",
       "      <td>0.1775</td>\n",
       "      <td>-0.000878</td>\n",
       "      <td>2.357513</td>\n",
       "      <td>1.015891</td>\n",
       "      <td>3.849914</td>\n",
       "      <td>147.4120</td>\n",
       "      <td>0</td>\n",
       "      <td>0</td>\n",
       "    </tr>\n",
       "  </tbody>\n",
       "</table>\n",
       "</div>"
      ],
      "text/plain": [
       "                    oc_gbpjpy  hl_gbpjpy  gbpjpy_close  gbpjpy_Doc  \\\n",
       "Date                                                                 \n",
       "20180507  02:00:00     0.1220     0.1670     -0.000826    1.389432   \n",
       "20180507  02:15:00     0.0060     0.0815     -0.000041   -0.950041   \n",
       "20180507  02:30:00    -0.0225     0.0655      0.000152   -4.672131   \n",
       "20180507  02:45:00     0.0385     0.0880     -0.000261   -2.723214   \n",
       "20180507  03:00:00     0.1295     0.1775     -0.000878    2.357513   \n",
       "\n",
       "                    gbpjpy_Dhl  rsi_gbpjpy    GBPJPY  short_gbpjpy  \\\n",
       "Date                                                                 \n",
       "20180507  02:00:00    0.362969    6.973080  147.5635             0   \n",
       "20180507  02:15:00   -0.511670    6.532351  147.5575             0   \n",
       "20180507  02:30:00   -0.196078   36.590515  147.5800             0   \n",
       "20180507  02:45:00    0.342988   17.419502  147.5415             0   \n",
       "20180507  03:00:00    1.015891    3.849914  147.4120             0   \n",
       "\n",
       "                    long_gbpjpy  \n",
       "Date                             \n",
       "20180507  02:00:00            0  \n",
       "20180507  02:15:00            0  \n",
       "20180507  02:30:00            0  \n",
       "20180507  02:45:00            0  \n",
       "20180507  03:00:00            0  "
      ]
     },
     "execution_count": 12,
     "metadata": {},
     "output_type": "execute_result"
    }
   ],
   "source": [
    "df.head()"
   ]
  },
  {
   "cell_type": "code",
   "execution_count": 13,
   "metadata": {},
   "outputs": [],
   "source": [
    "Xtrain_long = df.iloc[:bloc1,:8]\n",
    "#Xtrain_long = Xtrain_long.drop(['short'],axis=1)\n",
    "Xtest_long = df.iloc[bloc1:,:8]\n",
    "#Xtest_long = Xtest_long.drop(['short'],axis=1)\n",
    "ytrain_long = df.iloc[:bloc1,8]\n",
    "ytest_long = df.iloc[bloc1:,8]"
   ]
  },
  {
   "cell_type": "code",
   "execution_count": 14,
   "metadata": {},
   "outputs": [
    {
     "data": {
      "text/html": [
       "<div>\n",
       "<style scoped>\n",
       "    .dataframe tbody tr th:only-of-type {\n",
       "        vertical-align: middle;\n",
       "    }\n",
       "\n",
       "    .dataframe tbody tr th {\n",
       "        vertical-align: top;\n",
       "    }\n",
       "\n",
       "    .dataframe thead th {\n",
       "        text-align: right;\n",
       "    }\n",
       "</style>\n",
       "<table border=\"1\" class=\"dataframe\">\n",
       "  <thead>\n",
       "    <tr style=\"text-align: right;\">\n",
       "      <th></th>\n",
       "      <th>oc_gbpjpy</th>\n",
       "      <th>hl_gbpjpy</th>\n",
       "      <th>gbpjpy_close</th>\n",
       "      <th>gbpjpy_Doc</th>\n",
       "      <th>gbpjpy_Dhl</th>\n",
       "      <th>rsi_gbpjpy</th>\n",
       "      <th>GBPJPY</th>\n",
       "      <th>short_gbpjpy</th>\n",
       "    </tr>\n",
       "    <tr>\n",
       "      <th>Date</th>\n",
       "      <th></th>\n",
       "      <th></th>\n",
       "      <th></th>\n",
       "      <th></th>\n",
       "      <th></th>\n",
       "      <th></th>\n",
       "      <th></th>\n",
       "      <th></th>\n",
       "    </tr>\n",
       "  </thead>\n",
       "  <tbody>\n",
       "    <tr>\n",
       "      <th>20180507  02:00:00</th>\n",
       "      <td>0.1220</td>\n",
       "      <td>0.1670</td>\n",
       "      <td>-0.000826</td>\n",
       "      <td>1.389432</td>\n",
       "      <td>0.362969</td>\n",
       "      <td>6.973080</td>\n",
       "      <td>147.5635</td>\n",
       "      <td>0</td>\n",
       "    </tr>\n",
       "    <tr>\n",
       "      <th>20180507  02:15:00</th>\n",
       "      <td>0.0060</td>\n",
       "      <td>0.0815</td>\n",
       "      <td>-0.000041</td>\n",
       "      <td>-0.950041</td>\n",
       "      <td>-0.511670</td>\n",
       "      <td>6.532351</td>\n",
       "      <td>147.5575</td>\n",
       "      <td>0</td>\n",
       "    </tr>\n",
       "    <tr>\n",
       "      <th>20180507  02:30:00</th>\n",
       "      <td>-0.0225</td>\n",
       "      <td>0.0655</td>\n",
       "      <td>0.000152</td>\n",
       "      <td>-4.672131</td>\n",
       "      <td>-0.196078</td>\n",
       "      <td>36.590515</td>\n",
       "      <td>147.5800</td>\n",
       "      <td>0</td>\n",
       "    </tr>\n",
       "    <tr>\n",
       "      <th>20180507  02:45:00</th>\n",
       "      <td>0.0385</td>\n",
       "      <td>0.0880</td>\n",
       "      <td>-0.000261</td>\n",
       "      <td>-2.723214</td>\n",
       "      <td>0.342988</td>\n",
       "      <td>17.419502</td>\n",
       "      <td>147.5415</td>\n",
       "      <td>0</td>\n",
       "    </tr>\n",
       "    <tr>\n",
       "      <th>20180507  03:00:00</th>\n",
       "      <td>0.1295</td>\n",
       "      <td>0.1775</td>\n",
       "      <td>-0.000878</td>\n",
       "      <td>2.357513</td>\n",
       "      <td>1.015891</td>\n",
       "      <td>3.849914</td>\n",
       "      <td>147.4120</td>\n",
       "      <td>0</td>\n",
       "    </tr>\n",
       "  </tbody>\n",
       "</table>\n",
       "</div>"
      ],
      "text/plain": [
       "                    oc_gbpjpy  hl_gbpjpy  gbpjpy_close  gbpjpy_Doc  \\\n",
       "Date                                                                 \n",
       "20180507  02:00:00     0.1220     0.1670     -0.000826    1.389432   \n",
       "20180507  02:15:00     0.0060     0.0815     -0.000041   -0.950041   \n",
       "20180507  02:30:00    -0.0225     0.0655      0.000152   -4.672131   \n",
       "20180507  02:45:00     0.0385     0.0880     -0.000261   -2.723214   \n",
       "20180507  03:00:00     0.1295     0.1775     -0.000878    2.357513   \n",
       "\n",
       "                    gbpjpy_Dhl  rsi_gbpjpy    GBPJPY  short_gbpjpy  \n",
       "Date                                                                \n",
       "20180507  02:00:00    0.362969    6.973080  147.5635             0  \n",
       "20180507  02:15:00   -0.511670    6.532351  147.5575             0  \n",
       "20180507  02:30:00   -0.196078   36.590515  147.5800             0  \n",
       "20180507  02:45:00    0.342988   17.419502  147.5415             0  \n",
       "20180507  03:00:00    1.015891    3.849914  147.4120             0  "
      ]
     },
     "execution_count": 14,
     "metadata": {},
     "output_type": "execute_result"
    }
   ],
   "source": [
    "Xtrain_long.head()"
   ]
  },
  {
   "cell_type": "code",
   "execution_count": 15,
   "metadata": {},
   "outputs": [
    {
     "data": {
      "text/plain": [
       "(2755, 651)"
      ]
     },
     "execution_count": 15,
     "metadata": {},
     "output_type": "execute_result"
    }
   ],
   "source": [
    "ytrain_long.sum(),ytest_long.sum()"
   ]
  },
  {
   "cell_type": "code",
   "execution_count": 16,
   "metadata": {},
   "outputs": [
    {
     "name": "stdout",
     "output_type": "stream",
     "text": [
      "Split effectué\n"
     ]
    }
   ],
   "source": [
    "Xtrain_short = df.iloc[:bloc1,:]\n",
    "Xtrain_short = Xtrain_short.drop(['short_gbpjpy'],axis=1)\n",
    "Xtest_short = df.iloc[bloc1:,:]\n",
    "Xtest_short = Xtest_short.drop(['short_gbpjpy'],axis=1)\n",
    "ytrain_short = df.iloc[:bloc1,7]\n",
    "ytest_short = df.iloc[bloc1:,7]\n",
    "print('Split effectué')"
   ]
  },
  {
   "cell_type": "code",
   "execution_count": 17,
   "metadata": {},
   "outputs": [
    {
     "data": {
      "text/plain": [
       "((19575,), (19575, 8), (4894, 8), (4894,))"
      ]
     },
     "execution_count": 17,
     "metadata": {},
     "output_type": "execute_result"
    }
   ],
   "source": [
    "ytrain_long.shape,Xtrain_long.shape,Xtest_long.shape,ytest_long.shape"
   ]
  },
  {
   "cell_type": "code",
   "execution_count": 18,
   "metadata": {},
   "outputs": [
    {
     "data": {
      "text/plain": [
       "(1189, 287)"
      ]
     },
     "execution_count": 18,
     "metadata": {},
     "output_type": "execute_result"
    }
   ],
   "source": [
    "ytrain_short.sum(),ytest_short.sum()"
   ]
  },
  {
   "cell_type": "code",
   "execution_count": 19,
   "metadata": {},
   "outputs": [],
   "source": [
    "model_long = XGBClassifier(silent=False,objective='binary:logistic',n_estimators=200)"
   ]
  },
  {
   "cell_type": "code",
   "execution_count": 20,
   "metadata": {},
   "outputs": [],
   "source": [
    "model_short = XGBClassifier(silent=False,objective='binary:logistic',n_estimators=200)"
   ]
  },
  {
   "cell_type": "code",
   "execution_count": 21,
   "metadata": {},
   "outputs": [],
   "source": [
    "eval_set_long=[(Xtrain_long, ytrain_long), (Xtest_long, ytest_long)]"
   ]
  },
  {
   "cell_type": "code",
   "execution_count": 22,
   "metadata": {},
   "outputs": [],
   "source": [
    "eval_set_short=[(Xtrain_short, ytrain_short), (Xtest_short, ytest_short)]"
   ]
  },
  {
   "cell_type": "code",
   "execution_count": 23,
   "metadata": {},
   "outputs": [
    {
     "data": {
      "text/plain": [
       "XGBClassifier(base_score=0.5, booster='gbtree', colsample_bylevel=1,\n",
       "       colsample_bytree=1, gamma=0, learning_rate=0.1, max_delta_step=0,\n",
       "       max_depth=3, min_child_weight=1, missing=None, n_estimators=200,\n",
       "       n_jobs=1, nthread=None, objective='binary:logistic', random_state=0,\n",
       "       reg_alpha=0, reg_lambda=1, scale_pos_weight=1, seed=None,\n",
       "       silent=False, subsample=1)"
      ]
     },
     "execution_count": 23,
     "metadata": {},
     "output_type": "execute_result"
    }
   ],
   "source": [
    "model_long.fit( Xtrain_long, ytrain_long, eval_metric=['auc','error','logloss'], eval_set=eval_set_long, verbose=0)"
   ]
  },
  {
   "cell_type": "code",
   "execution_count": 24,
   "metadata": {},
   "outputs": [
    {
     "data": {
      "text/plain": [
       "XGBClassifier(base_score=0.5, booster='gbtree', colsample_bylevel=1,\n",
       "       colsample_bytree=1, gamma=0, learning_rate=0.1, max_delta_step=0,\n",
       "       max_depth=3, min_child_weight=1, missing=None, n_estimators=200,\n",
       "       n_jobs=1, nthread=None, objective='binary:logistic', random_state=0,\n",
       "       reg_alpha=0, reg_lambda=1, scale_pos_weight=1, seed=None,\n",
       "       silent=False, subsample=1)"
      ]
     },
     "execution_count": 24,
     "metadata": {},
     "output_type": "execute_result"
    }
   ],
   "source": [
    "model_short.fit( Xtrain_short, ytrain_short, eval_metric=['auc','error','logloss'], eval_set=eval_set_short, verbose=0)"
   ]
  },
  {
   "cell_type": "code",
   "execution_count": 25,
   "metadata": {},
   "outputs": [
    {
     "name": "stdout",
     "output_type": "stream",
     "text": [
      "RESULTATS LONG\n",
      "\n",
      "Accuracy: 93.42%\n",
      "Precision: 82.07%   => Discrimnination des vrais positifs parmi les faux positifs\n",
      "Recall: 64.67%   => Positifs trouvés par Golem sur tous les positifs existants\n",
      "AUC: 81.25% \n",
      "AUC_proba: 95.24% \n",
      "              precision    recall  f1-score   support\n",
      "\n",
      "           0       0.95      0.98      0.96      4243\n",
      "           1       0.82      0.65      0.72       651\n",
      "\n",
      "   micro avg       0.93      0.93      0.93      4894\n",
      "   macro avg       0.88      0.81      0.84      4894\n",
      "weighted avg       0.93      0.93      0.93      4894\n",
      "\n",
      "[[4151   92]\n",
      " [ 230  421]]\n",
      "Matrice de confusion :\n"
     ]
    },
    {
     "data": {
      "text/html": [
       "<div>\n",
       "<style scoped>\n",
       "    .dataframe tbody tr th:only-of-type {\n",
       "        vertical-align: middle;\n",
       "    }\n",
       "\n",
       "    .dataframe tbody tr th {\n",
       "        vertical-align: top;\n",
       "    }\n",
       "\n",
       "    .dataframe thead th {\n",
       "        text-align: right;\n",
       "    }\n",
       "</style>\n",
       "<table border=\"1\" class=\"dataframe\">\n",
       "  <thead>\n",
       "    <tr style=\"text-align: right;\">\n",
       "      <th></th>\n",
       "      <th>Vrais_estimés</th>\n",
       "      <th>Faux_estimés</th>\n",
       "    </tr>\n",
       "  </thead>\n",
       "  <tbody>\n",
       "    <tr>\n",
       "      <th>vrais_réels</th>\n",
       "      <td>Vrais_positifs</td>\n",
       "      <td>Faux_négatif</td>\n",
       "    </tr>\n",
       "    <tr>\n",
       "      <th>Faux_réels</th>\n",
       "      <td>Faux_positifs</td>\n",
       "      <td>Vrais-négatifs</td>\n",
       "    </tr>\n",
       "  </tbody>\n",
       "</table>\n",
       "</div>"
      ],
      "text/plain": [
       "              Vrais_estimés    Faux_estimés\n",
       "vrais_réels  Vrais_positifs    Faux_négatif\n",
       "Faux_réels    Faux_positifs  Vrais-négatifs"
      ]
     },
     "execution_count": 25,
     "metadata": {},
     "output_type": "execute_result"
    }
   ],
   "source": [
    "predictions_long = model_long.predict(Xtest_long)\n",
    "accuracy_long = accuracy_score(ytest_long, predictions_long)\n",
    "precision_long=precision_score(ytest_long, predictions_long) # vrais_positifs/(vrais_positifs+faux_positifs)\n",
    "# La précision permet de mesurer la capacité du modèle à refuser résultats non-pertinents.\n",
    "recall_long=recall_score(ytest_long, predictions_long) # (vrai_positifs/(vrais_positifs+faux_négatifs))\n",
    "roc_long=roc_auc_score(ytest_long,predictions_long)\n",
    "print('RESULTATS LONG\\n')\n",
    "print('Accuracy: %.2f%%' % (accuracy_long * 100.0))\n",
    "print(\"Precision: %.2f%% \" % (precision_long *100),' => Discrimnination des vrais positifs parmi les faux positifs')\n",
    "print(\"Recall: %.2f%% \" % (recall_long * 100),' => Positifs trouvés par Golem sur tous les positifs existants')\n",
    "print(\"AUC: %.2f%% \" % (roc_long *100))\n",
    "# get probabilities for positive class\n",
    "prediction_long = model_long.predict_proba(Xtest_long)\n",
    "roc_long2 = roc_auc_score(ytest_long, prediction_long[:,1])\n",
    "print(\"AUC_proba: %.2f%% \" % (roc_long2 * 100))\n",
    "print(classification_report(ytest_long, predictions_long))\n",
    "conf_matrix = pd.DataFrame(index = ['vrais_réels','Faux_réels'])\n",
    "conf_matrix['Vrais_estimés'] = ['Vrais_positifs','Faux_positifs']\n",
    "conf_matrix['Faux_estimés'] = ['Faux_négatif','Vrais-négatifs']\n",
    "print(confusion_matrix(ytest_long, predictions_long))\n",
    "print('Matrice de confusion :')\n",
    "conf_matrix"
   ]
  },
  {
   "cell_type": "code",
   "execution_count": null,
   "metadata": {},
   "outputs": [],
   "source": []
  },
  {
   "cell_type": "code",
   "execution_count": 26,
   "metadata": {},
   "outputs": [
    {
     "name": "stdout",
     "output_type": "stream",
     "text": [
      "RESULTATS SHORT\n",
      "\n",
      "Accuracy: 96.69%\n",
      "Precision: 83.07%   => Discrimnination des vrais positifs parmi les faux positifs\n",
      "Recall: 54.70%   => Positifs trouvés par Golem sur tous les positifs existants\n",
      "AUC: 77.00% \n",
      "AUC_proba: 97.65% \n",
      "              precision    recall  f1-score   support\n",
      "\n",
      "           0       0.97      0.99      0.98      4607\n",
      "           1       0.83      0.55      0.66       287\n",
      "\n",
      "   micro avg       0.97      0.97      0.97      4894\n",
      "   macro avg       0.90      0.77      0.82      4894\n",
      "weighted avg       0.96      0.97      0.96      4894\n",
      "\n",
      "[[4575   32]\n",
      " [ 130  157]]\n",
      "Matrice de confusion :\n"
     ]
    },
    {
     "data": {
      "text/html": [
       "<div>\n",
       "<style scoped>\n",
       "    .dataframe tbody tr th:only-of-type {\n",
       "        vertical-align: middle;\n",
       "    }\n",
       "\n",
       "    .dataframe tbody tr th {\n",
       "        vertical-align: top;\n",
       "    }\n",
       "\n",
       "    .dataframe thead th {\n",
       "        text-align: right;\n",
       "    }\n",
       "</style>\n",
       "<table border=\"1\" class=\"dataframe\">\n",
       "  <thead>\n",
       "    <tr style=\"text-align: right;\">\n",
       "      <th></th>\n",
       "      <th>Vrais_estimés</th>\n",
       "      <th>Faux_estimés</th>\n",
       "    </tr>\n",
       "  </thead>\n",
       "  <tbody>\n",
       "    <tr>\n",
       "      <th>vrais_réels</th>\n",
       "      <td>Vrais_positifs</td>\n",
       "      <td>Faux_négatif</td>\n",
       "    </tr>\n",
       "    <tr>\n",
       "      <th>Faux_réels</th>\n",
       "      <td>Faux_positifs</td>\n",
       "      <td>Vrais-négatifs</td>\n",
       "    </tr>\n",
       "  </tbody>\n",
       "</table>\n",
       "</div>"
      ],
      "text/plain": [
       "              Vrais_estimés    Faux_estimés\n",
       "vrais_réels  Vrais_positifs    Faux_négatif\n",
       "Faux_réels    Faux_positifs  Vrais-négatifs"
      ]
     },
     "execution_count": 26,
     "metadata": {},
     "output_type": "execute_result"
    }
   ],
   "source": [
    "predictions_short = model_short.predict(Xtest_short)\n",
    "accuracy_short = accuracy_score(ytest_short, predictions_short)\n",
    "precision_short=precision_score(ytest_short, predictions_short) # vrais_positifs/(vrais_positifs+faux_positifs)\n",
    "# La précision permet de mesurer la capacité du modèle à refuser résultats non-pertinents.\n",
    "recall_short = recall_score(ytest_short, predictions_short) # (vrai_positifs/(vrais_positifs+faux_négatifs))\n",
    "roc_short=roc_auc_score(ytest_short,predictions_short)\n",
    "print('RESULTATS SHORT\\n')\n",
    "print('Accuracy: %.2f%%' % (accuracy_short * 100.0))\n",
    "print(\"Precision: %.2f%% \" % (precision_short *100),' => Discrimnination des vrais positifs parmi les faux positifs')\n",
    "print(\"Recall: %.2f%% \" % (recall_short * 100),' => Positifs trouvés par Golem sur tous les positifs existants')\n",
    "print(\"AUC: %.2f%% \" % (roc_short *100))\n",
    "# get probabilities for positive class\n",
    "prediction_short = model_short.predict_proba(Xtest_short)\n",
    "roc_short2 = roc_auc_score(ytest_short, prediction_short[:,1])\n",
    "print(\"AUC_proba: %.2f%% \" % (roc_short2 * 100))\n",
    "print(classification_report(ytest_short, predictions_short))\n",
    "conf_matrix = pd.DataFrame(index = ['vrais_réels','Faux_réels'])\n",
    "conf_matrix['Vrais_estimés'] = ['Vrais_positifs','Faux_positifs']\n",
    "conf_matrix['Faux_estimés'] = ['Faux_négatif','Vrais-négatifs']\n",
    "print(confusion_matrix(ytest_short, predictions_short))\n",
    "print('Matrice de confusion :')\n",
    "conf_matrix"
   ]
  },
  {
   "cell_type": "code",
   "execution_count": 27,
   "metadata": {},
   "outputs": [
    {
     "data": {
      "text/plain": [
       "(numpy.ndarray, 4894, 513)"
      ]
     },
     "execution_count": 27,
     "metadata": {},
     "output_type": "execute_result"
    }
   ],
   "source": [
    "type(predictions_long),len(predictions_long), predictions_long.sum()"
   ]
  },
  {
   "cell_type": "code",
   "execution_count": 28,
   "metadata": {},
   "outputs": [
    {
     "data": {
      "text/plain": [
       "(numpy.ndarray, 4894, 189)"
      ]
     },
     "execution_count": 28,
     "metadata": {},
     "output_type": "execute_result"
    }
   ],
   "source": [
    "type(predictions_short),len(predictions_short), predictions_short.sum()"
   ]
  },
  {
   "cell_type": "code",
   "execution_count": null,
   "metadata": {},
   "outputs": [],
   "source": []
  },
  {
   "cell_type": "code",
   "execution_count": null,
   "metadata": {},
   "outputs": [],
   "source": []
  },
  {
   "cell_type": "code",
   "execution_count": 29,
   "metadata": {},
   "outputs": [
    {
     "data": {
      "text/plain": [
       "<matplotlib.legend.Legend at 0x1a1afd0470>"
      ]
     },
     "execution_count": 29,
     "metadata": {},
     "output_type": "execute_result"
    },
    {
     "data": {
      "image/png": "[encoded data removed]",
      "text/plain": [
       "<Figure size 1152x432 with 1 Axes>"
      ]
     },
     "metadata": {
      "needs_background": "light"
     },
     "output_type": "display_data"
    }
   ],
   "source": [
    "plt.figure(figsize=(16,6))\n",
    "plt.plot(predictions_long,label = 'Long')\n",
    "plt.plot(-predictions_short,label = 'Short')\n",
    "plt.legend()"
   ]
  },
  {
   "cell_type": "code",
   "execution_count": 30,
   "metadata": {},
   "outputs": [
    {
     "data": {
      "text/plain": [
       "((4894,), (4894,))"
      ]
     },
     "execution_count": 30,
     "metadata": {},
     "output_type": "execute_result"
    }
   ],
   "source": [
    "predictions_long.shape,predictions_short.shape"
   ]
  },
  {
   "cell_type": "code",
   "execution_count": 32,
   "metadata": {},
   "outputs": [
    {
     "data": {
      "text/html": [
       "<div>\n",
       "<style scoped>\n",
       "    .dataframe tbody tr th:only-of-type {\n",
       "        vertical-align: middle;\n",
       "    }\n",
       "\n",
       "    .dataframe tbody tr th {\n",
       "        vertical-align: top;\n",
       "    }\n",
       "\n",
       "    .dataframe thead th {\n",
       "        text-align: right;\n",
       "    }\n",
       "</style>\n",
       "<table border=\"1\" class=\"dataframe\">\n",
       "  <thead>\n",
       "    <tr style=\"text-align: right;\">\n",
       "      <th></th>\n",
       "      <th>Close_gbpjpy</th>\n",
       "      <th>long</th>\n",
       "      <th>short</th>\n",
       "    </tr>\n",
       "    <tr>\n",
       "      <th>Date</th>\n",
       "      <th></th>\n",
       "      <th></th>\n",
       "      <th></th>\n",
       "    </tr>\n",
       "  </thead>\n",
       "  <tbody>\n",
       "    <tr>\n",
       "      <th>20190221  10:00:00</th>\n",
       "      <td>144.7310</td>\n",
       "      <td>0</td>\n",
       "      <td>0</td>\n",
       "    </tr>\n",
       "    <tr>\n",
       "      <th>20190221  10:15:00</th>\n",
       "      <td>144.6560</td>\n",
       "      <td>0</td>\n",
       "      <td>0</td>\n",
       "    </tr>\n",
       "    <tr>\n",
       "      <th>20190221  10:30:00</th>\n",
       "      <td>144.6035</td>\n",
       "      <td>0</td>\n",
       "      <td>0</td>\n",
       "    </tr>\n",
       "    <tr>\n",
       "      <th>20190221  10:45:00</th>\n",
       "      <td>144.6530</td>\n",
       "      <td>0</td>\n",
       "      <td>0</td>\n",
       "    </tr>\n",
       "    <tr>\n",
       "      <th>20190221  11:00:00</th>\n",
       "      <td>144.7350</td>\n",
       "      <td>0</td>\n",
       "      <td>0</td>\n",
       "    </tr>\n",
       "  </tbody>\n",
       "</table>\n",
       "</div>"
      ],
      "text/plain": [
       "                    Close_gbpjpy  long  short\n",
       "Date                                         \n",
       "20190221  10:00:00      144.7310     0      0\n",
       "20190221  10:15:00      144.6560     0      0\n",
       "20190221  10:30:00      144.6035     0      0\n",
       "20190221  10:45:00      144.6530     0      0\n",
       "20190221  11:00:00      144.7350     0      0"
      ]
     },
     "execution_count": 32,
     "metadata": {},
     "output_type": "execute_result"
    }
   ],
   "source": [
    "backtest = pd.DataFrame()\n",
    "backtest['Close_gbpjpy'] = df.iloc[-4894:,6]\n",
    "backtest['long'] = predictions_long\n",
    "backtest['short'] = predictions_short\n",
    "backtest.head()"
   ]
  },
  {
   "cell_type": "code",
   "execution_count": 33,
   "metadata": {},
   "outputs": [
    {
     "data": {
      "text/html": [
       "<div>\n",
       "<style scoped>\n",
       "    .dataframe tbody tr th:only-of-type {\n",
       "        vertical-align: middle;\n",
       "    }\n",
       "\n",
       "    .dataframe tbody tr th {\n",
       "        vertical-align: top;\n",
       "    }\n",
       "\n",
       "    .dataframe thead th {\n",
       "        text-align: right;\n",
       "    }\n",
       "</style>\n",
       "<table border=\"1\" class=\"dataframe\">\n",
       "  <thead>\n",
       "    <tr style=\"text-align: right;\">\n",
       "      <th></th>\n",
       "      <th>Close_gbpjpy</th>\n",
       "      <th>long</th>\n",
       "      <th>short</th>\n",
       "    </tr>\n",
       "    <tr>\n",
       "      <th>Date</th>\n",
       "      <th></th>\n",
       "      <th></th>\n",
       "      <th></th>\n",
       "    </tr>\n",
       "  </thead>\n",
       "  <tbody>\n",
       "    <tr>\n",
       "      <th>20190221  10:00:00</th>\n",
       "      <td>144.7310</td>\n",
       "      <td>0</td>\n",
       "      <td>0</td>\n",
       "    </tr>\n",
       "    <tr>\n",
       "      <th>20190221  10:15:00</th>\n",
       "      <td>144.6560</td>\n",
       "      <td>0</td>\n",
       "      <td>0</td>\n",
       "    </tr>\n",
       "    <tr>\n",
       "      <th>20190221  10:30:00</th>\n",
       "      <td>144.6035</td>\n",
       "      <td>0</td>\n",
       "      <td>0</td>\n",
       "    </tr>\n",
       "    <tr>\n",
       "      <th>20190221  10:45:00</th>\n",
       "      <td>144.6530</td>\n",
       "      <td>0</td>\n",
       "      <td>0</td>\n",
       "    </tr>\n",
       "    <tr>\n",
       "      <th>20190221  11:00:00</th>\n",
       "      <td>144.7350</td>\n",
       "      <td>0</td>\n",
       "      <td>0</td>\n",
       "    </tr>\n",
       "  </tbody>\n",
       "</table>\n",
       "</div>"
      ],
      "text/plain": [
       "                    Close_gbpjpy  long  short\n",
       "Date                                         \n",
       "20190221  10:00:00      144.7310     0      0\n",
       "20190221  10:15:00      144.6560     0      0\n",
       "20190221  10:30:00      144.6035     0      0\n",
       "20190221  10:45:00      144.6530     0      0\n",
       "20190221  11:00:00      144.7350     0      0"
      ]
     },
     "execution_count": 33,
     "metadata": {},
     "output_type": "execute_result"
    }
   ],
   "source": [
    "#backtest = backtest.iloc[bloc1:,:]\n",
    "backtest.head()"
   ]
  },
  {
   "cell_type": "code",
   "execution_count": null,
   "metadata": {},
   "outputs": [],
   "source": []
  },
  {
   "cell_type": "code",
   "execution_count": 34,
   "metadata": {},
   "outputs": [
    {
     "data": {
      "text/plain": [
       "(513, 189)"
      ]
     },
     "execution_count": 34,
     "metadata": {},
     "output_type": "execute_result"
    }
   ],
   "source": [
    "backtest['long'].sum(),backtest['short'].sum()"
   ]
  },
  {
   "cell_type": "code",
   "execution_count": 35,
   "metadata": {},
   "outputs": [
    {
     "data": {
      "text/plain": [
       "(4894, 189, 4894, 4894.0, 4894, 513, 4894, 4894.0)"
      ]
     },
     "execution_count": 35,
     "metadata": {},
     "output_type": "execute_result"
    }
   ],
   "source": [
    "len(predictions_short),predictions_short.sum(),len(prediction_short),prediction_short.sum(),len(predictions_long),predictions_long.sum(),len(prediction_long),prediction_long.sum()"
   ]
  },
  {
   "cell_type": "code",
   "execution_count": 36,
   "metadata": {},
   "outputs": [
    {
     "data": {
      "text/plain": [
       "(4894, 3)"
      ]
     },
     "execution_count": 36,
     "metadata": {},
     "output_type": "execute_result"
    }
   ],
   "source": [
    "backtest.shape"
   ]
  },
  {
   "cell_type": "code",
   "execution_count": 37,
   "metadata": {},
   "outputs": [],
   "source": [
    "#backtest = backtest.iloc[4800:,:]"
   ]
  },
  {
   "cell_type": "code",
   "execution_count": 38,
   "metadata": {},
   "outputs": [
    {
     "data": {
      "text/html": [
       "<div>\n",
       "<style scoped>\n",
       "    .dataframe tbody tr th:only-of-type {\n",
       "        vertical-align: middle;\n",
       "    }\n",
       "\n",
       "    .dataframe tbody tr th {\n",
       "        vertical-align: top;\n",
       "    }\n",
       "\n",
       "    .dataframe thead th {\n",
       "        text-align: right;\n",
       "    }\n",
       "</style>\n",
       "<table border=\"1\" class=\"dataframe\">\n",
       "  <thead>\n",
       "    <tr style=\"text-align: right;\">\n",
       "      <th></th>\n",
       "      <th>Close_gbpjpy</th>\n",
       "      <th>long</th>\n",
       "      <th>short</th>\n",
       "    </tr>\n",
       "    <tr>\n",
       "      <th>Date</th>\n",
       "      <th></th>\n",
       "      <th></th>\n",
       "      <th></th>\n",
       "    </tr>\n",
       "  </thead>\n",
       "  <tbody>\n",
       "    <tr>\n",
       "      <th>20190221  10:00:00</th>\n",
       "      <td>144.7310</td>\n",
       "      <td>0</td>\n",
       "      <td>0</td>\n",
       "    </tr>\n",
       "    <tr>\n",
       "      <th>20190221  10:15:00</th>\n",
       "      <td>144.6560</td>\n",
       "      <td>0</td>\n",
       "      <td>0</td>\n",
       "    </tr>\n",
       "    <tr>\n",
       "      <th>20190221  10:30:00</th>\n",
       "      <td>144.6035</td>\n",
       "      <td>0</td>\n",
       "      <td>0</td>\n",
       "    </tr>\n",
       "    <tr>\n",
       "      <th>20190221  10:45:00</th>\n",
       "      <td>144.6530</td>\n",
       "      <td>0</td>\n",
       "      <td>0</td>\n",
       "    </tr>\n",
       "    <tr>\n",
       "      <th>20190221  11:00:00</th>\n",
       "      <td>144.7350</td>\n",
       "      <td>0</td>\n",
       "      <td>0</td>\n",
       "    </tr>\n",
       "  </tbody>\n",
       "</table>\n",
       "</div>"
      ],
      "text/plain": [
       "                    Close_gbpjpy  long  short\n",
       "Date                                         \n",
       "20190221  10:00:00      144.7310     0      0\n",
       "20190221  10:15:00      144.6560     0      0\n",
       "20190221  10:30:00      144.6035     0      0\n",
       "20190221  10:45:00      144.6530     0      0\n",
       "20190221  11:00:00      144.7350     0      0"
      ]
     },
     "execution_count": 38,
     "metadata": {},
     "output_type": "execute_result"
    }
   ],
   "source": [
    "backtest.head()"
   ]
  },
  {
   "cell_type": "code",
   "execution_count": 72,
   "metadata": {},
   "outputs": [],
   "source": [
    "long_pos = 0\n",
    "short_pos = 0\n",
    "equity = 100000\n",
    "price_buy_long = 0\n",
    "price_buy_short = 0\n",
    "equity_list = []\n",
    "nb_transaction = 0\n",
    "col_profit = []\n",
    "max_gain = (0,0)\n",
    "max_loss = (0,0)\n",
    "stop_loss_short = 0.13\n",
    "stop_loss_long = -0.26\n",
    "ticket = 100000\n",
    "target_long = 0.46\n",
    "target_short = -0.35\n",
    "longueur = (backtest.shape[0])-1\n",
    "long_exit = []\n",
    "short_exit = []\n",
    "long_sl = []\n",
    "short_sl = []\n",
    "go_long = []\n",
    "go_short = []\n",
    "lea = 0\n",
    "sea = 0\n",
    "gain_sum = 0\n",
    "loss_sum = 0\n",
    "\n",
    "print(\"Boucle de backtest initiée!\")\n",
    "\n",
    "import sys\n",
    "orig_stdout = sys.stdout\n",
    "f = open('backtestv2_5.txt', 'w')\n",
    "sys.stdout = f\n",
    "\n",
    "for i in range(0,longueur):\n",
    "    \n",
    "    if backtest.iloc[i,1] == 2 and long_pos == 0:\n",
    "        long_pos = 1\n",
    "        nb_transaction += 1\n",
    "        price_buy_long = backtest.iloc[i,0]\n",
    "        equity = equity - 150\n",
    "        equity_list.append(equity)\n",
    "        col_profit.append(0)\n",
    "        go_long.append(1)\n",
    "        print('\\n Go Long enclenché le ',backtest.index[i],' pour $',price_buy_long)\n",
    "        print('Nouvel equity :',equity)\n",
    "        \n",
    "    elif backtest.iloc[i,1] == 1 and long_pos == 1 :\n",
    "        equity_list.append(equity)\n",
    "        print('Le',backtest.index[i],', On maintient la position long ouverte')\n",
    "        col_profit.append(0)\n",
    "    \n",
    "    elif backtest.iloc[i,1] == 0 and long_pos == 1:\n",
    "        \n",
    "        if (backtest.iloc[i,0] - price_buy_long) > target_long:\n",
    "            print('\\n close de position long le ',backtest.index[i],' pour $',backtest.iloc[i,0])    \n",
    "            print(\"Le prix d'achat était de \",price_buy_long)\n",
    "            print('variation des deux ', backtest.iloc[i,0] - price_buy_long)\n",
    "            print(' pnl :',(backtest.iloc[i,0] - price_buy_long)*ticket)\n",
    "            equity = equity - 150 + ((backtest.iloc[i,0] - price_buy_long) * ticket)\n",
    "            print('Le nouvel equity est de :',equity,'$')\n",
    "            nb_transaction += 1\n",
    "            long_exit.append(1)\n",
    "            col_profit.append(( backtest.iloc[i,0] - price_buy_long) * ticket)\n",
    "            if ((backtest.iloc[i,0] - price_buy_long) * ticket) > max_gain[1]:\n",
    "                max_gain = (i,((backtest.iloc[i,0] - price_buy_long) * ticket))\n",
    "                \n",
    "            #elif ((backtest.iloc[i,0] - price_buy_long) * ticket) < max_loss[1]:\n",
    "             #   max_loss = (i,((backtest.iloc[i,0] - price_buy_long) * ticket))\n",
    "            equity_list.append(equity)\n",
    "            gain_sum = gain_sum + (backtest.iloc[i,0] - price_buy_long)*ticket\n",
    "            long_pos = 0\n",
    "        \n",
    "        elif (backtest.iloc[i,0] - price_buy_long) < stop_loss_long:\n",
    "            equity = equity - 150 + ((backtest.iloc[i,0] - price_buy_long) * ticket)\n",
    "            print('\\n sortie stop_loss du long ',backtest.index[i],' pour $',backtest.iloc[i,0])    \n",
    "            print(\"Le prix d'achat était de \",price_buy_long)\n",
    "            print(' pnl :',(backtest.iloc[i,0] - price_buy_long)*ticket)\n",
    "            print('Le nouvel equity est de :',equity,'$')\n",
    "            nb_transaction += 1\n",
    "            long_sl.append(1)\n",
    "            col_profit.append(((backtest.iloc[i,0] - price_buy_long) * ticket))\n",
    "            #if ((backtest.iloc[i,0] - price_buy_long) * ticket) > max_gain[1]:\n",
    "                #max_gain = (i,((backtest.iloc[i,0] - price_buy_long) * ticket))\n",
    "                \n",
    "            if ((backtest.iloc[i,0] - price_buy_long) * ticket)< max_loss[1]:\n",
    "                max_loss = (i,((backtest.iloc[i,0] - price_buy_long) * ticket))\n",
    "            equity_list.append(equity)\n",
    "            long_pos = 0\n",
    "            loss_sum = loss_sum + abs(( backtest.iloc[i,0] - price_buy_long)*ticket)\n",
    "        \n",
    "    elif backtest.iloc[i,1] == 0 and long_pos == 0 :\n",
    "        equity_list.append(equity)\n",
    "        print('Le',backtest.index[i],', il ne se passe rien')\n",
    "        col_profit.append(0)\n",
    "            \n",
    "for i in range(0,longueur):\n",
    "    \n",
    "    if backtest.iloc[i,2] == 1 and short_pos == 0:\n",
    "        short_pos = 1\n",
    "        nb_transaction += 1\n",
    "        price_buy_short = backtest.iloc[i,0]\n",
    "        equity = equity - 150\n",
    "        equity_list.append(equity)\n",
    "        col_profit.append(0)\n",
    "        go_short.append(1)\n",
    "        print('\\n Short on le ',backtest.index[i],' pour $',price_buy_short)\n",
    "        print('Le nouvel equity est de :',equity,'$')\n",
    "        \n",
    "    elif backtest.iloc[i,2] == 1 and short_pos == 1 :\n",
    "        equity_list.append(equity)\n",
    "        print('Le',backtest.index[i],', on reste en position Short')\n",
    "        col_profit.append(0)\n",
    "    \n",
    "    elif backtest.iloc[i,2] == 0 and short_pos == 1:\n",
    "        \n",
    "        if (backtest.iloc[i,0] - price_buy_short) < target_short:\n",
    "            print('\\n sortie du position short ',backtest.index[i],' pour $',backtest.iloc[i,0])    \n",
    "            print(\"Le prix d'achat était de \",price_buy_short)\n",
    "            print(' pnl :',( backtest.iloc[i,0] - price_buy_short)*ticket)\n",
    "            equity = equity - 150 + abs((backtest.iloc[i,0] - price_buy_short) * ticket)\n",
    "            print('Le nouvel equity est de :',equity,'$')\n",
    "            nb_transaction += 1\n",
    "            short_exit.append(1)\n",
    "            col_profit.append(abs((( backtest.iloc[i,0] - price_buy_short) * ticket)))\n",
    "            if abs((backtest.iloc[i,0] - price_buy_short) * ticket) > max_gain[1]:\n",
    "                max_gain = (i,abs((backtest.iloc[i,0] - price_buy_short) * ticket))\n",
    "                \n",
    "            #elif ((backtest.iloc[i,0] - price_buy_short) * ticket)< max_loss[1]:\n",
    "             #   max_loss = (i,((backtest.iloc[i,0] - price_buy_short) * ticket))\n",
    "            equity_list.append(equity)\n",
    "            short_pos = 0\n",
    "            gain_sum = gain_sum + abs((backtest.iloc[i,0] - price_buy_short) * ticket)\n",
    "        \n",
    "        elif (backtest.iloc[i,0] - price_buy_short) > stop_loss_short:\n",
    "            equity = equity - 150 - abs((backtest.iloc[i,0] - price_buy_short)* ticket)\n",
    "            print('\\n sortie stop_loss du short ',backtest.index[i],' pour $',backtest.iloc[i,0])    \n",
    "            print(\"Le prix d'achat était de \",price_buy_short)\n",
    "            print(' pnl :',-(backtest.iloc[i,0] - price_buy_short)*ticket)\n",
    "            print('Le nouvel equity est de :',equity,'$')\n",
    "            nb_transaction += 1\n",
    "            short_sl.append(1)\n",
    "            col_profit.append(-((backtest.iloc[i,0] - price_buy_short) * ticket))\n",
    "            #if ((backtest.iloc[i,0] - price_buy_short) * ticket) > max_gain[1]:\n",
    "             #   max_gain = (i,((backtest.iloc[i,0] - price_buy_short) * ticket))\n",
    "                \n",
    "            if (-(backtest.iloc[i,0] - price_buy_short) * ticket)< max_loss[1]:\n",
    "                max_loss = (i,(-(backtest.iloc[i,0] - price_buy_short) * ticket))\n",
    "            equity_list.append(equity)\n",
    "            short_pos = 0\n",
    "            loss_sum = loss_sum + abs((backtest.iloc[i,0] - price_buy_short) * ticket)\n",
    "        \n",
    "    elif backtest.iloc[i,2] == 0 and short_pos == 0 :\n",
    "        equity_list.append(equity)\n",
    "        print('Le',backtest.index[i],', il ne se passe rien')\n",
    "        col_profit.append(0)    \n",
    "\n",
    "\n",
    "if long_pos == 1 :\n",
    "    print(\"Sortie d'une position long en l'air\")\n",
    "    equity = equity - 150 + ((backtest.iloc[longueur,0]- price_buy_long) * ticket)\n",
    "    lea = 1\n",
    "if short_pos == 1 :\n",
    "    print(\"Sortie d'une position short en l'air\")\n",
    "    equity = equity - 150 + ((backtest.iloc[longueur,0]- price_buy_short) * ticket)\n",
    "    sea = 1\n",
    "    \n",
    "            \n",
    "print(\"\\n\\033[95m \\033[1m Les gains faramineux s'élèvent à : $\",round(equity-100000),'!. En ',nb_transaction,' transactions.' )\n",
    "f.close()\n",
    "sys.stdout = orig_stdout\n",
    "print('Boucle terminée')\n",
    "print(\"\\n\\033[95m \\033[1m Les gains faramineux s'élèvent à : $\",round(equity-100000),'!. En ',nb_transaction,' transactions.' )\n"
   ]
  },
  {
   "cell_type": "code",
   "execution_count": 60,
   "metadata": {},
   "outputs": [],
   "source": [
    "longueur_long = (backtest.shape[0])-1"
   ]
  },
  {
   "cell_type": "code",
   "execution_count": 61,
   "metadata": {},
   "outputs": [
    {
     "data": {
      "text/plain": [
       "0"
      ]
     },
     "execution_count": 61,
     "metadata": {},
     "output_type": "execute_result"
    }
   ],
   "source": [
    "backtest.iloc[longueur,2]"
   ]
  },
  {
   "cell_type": "code",
   "execution_count": 62,
   "metadata": {},
   "outputs": [
    {
     "data": {
      "text/plain": [
       "(7370, 513, 184, 558499.9999999759, 189)"
      ]
     },
     "execution_count": 62,
     "metadata": {},
     "output_type": "execute_result"
    }
   ],
   "source": [
    "len(equity_list),backtest['long'].sum(),nb_transaction,equity-100000,backtest['short'].sum()"
   ]
  },
  {
   "cell_type": "markdown",
   "metadata": {},
   "source": [
    "gain_sum = 0\n",
    "loss_sum = 0\n",
    "for i in range(len(col_profit)):\n",
    "    if col_profit[i]>0:\n",
    "        gain_sum+=col_profit[i]\n",
    "    else :\n",
    "        loss_sum+=col_profit[i]\n",
    "        "
   ]
  },
  {
   "cell_type": "code",
   "execution_count": 63,
   "metadata": {},
   "outputs": [
    {
     "data": {
      "text/plain": [
       "(7370, 7370)"
      ]
     },
     "execution_count": 63,
     "metadata": {},
     "output_type": "execute_result"
    }
   ],
   "source": [
    "len(equity_list),len(col_profit)"
   ]
  },
  {
   "cell_type": "code",
   "execution_count": 64,
   "metadata": {},
   "outputs": [],
   "source": [
    "backtest_graph = pd.DataFrame()\n",
    "backtest_graph['equity'] = equity_list\n",
    "backtest_graph['col_profit'] = col_profit\n",
    "#backtest_graph['col_is_win'] = col_is_win\n",
    "#backtest_graph['col_cours'] = col_cours"
   ]
  },
  {
   "cell_type": "code",
   "execution_count": 65,
   "metadata": {},
   "outputs": [
    {
     "data": {
      "text/plain": [
       "<matplotlib.legend.Legend at 0x1a1e3a3c18>"
      ]
     },
     "execution_count": 65,
     "metadata": {},
     "output_type": "execute_result"
    },
    {
     "data": {
      "image/png": "[encoded data removed]",
      "text/plain": [
       "<Figure size 1152x432 with 1 Axes>"
      ]
     },
     "metadata": {
      "needs_background": "light"
     },
     "output_type": "display_data"
    }
   ],
   "source": [
    "plt.figure(figsize=(16,6))\n",
    "backtest_graph['equity'].plot()\n",
    "plt.legend()"
   ]
  },
  {
   "cell_type": "code",
   "execution_count": 66,
   "metadata": {},
   "outputs": [
    {
     "data": {
      "text/plain": [
       "<matplotlib.legend.Legend at 0x1a1e854ba8>"
      ]
     },
     "execution_count": 66,
     "metadata": {},
     "output_type": "execute_result"
    },
    {
     "data": {
      "image/png": "[encoded data removed]",
      "text/plain": [
       "<Figure size 1152x432 with 1 Axes>"
      ]
     },
     "metadata": {
      "needs_background": "light"
     },
     "output_type": "display_data"
    }
   ],
   "source": [
    "plt.figure(figsize=(16,6))\n",
    "plt.plot(backtest_graph['col_profit'])\n",
    "plt.scatter(max_gain[0],max_gain[1],c='y')\n",
    "plt.scatter(max_loss[0],max_loss[1],c='r')\n",
    "plt.legend()"
   ]
  },
  {
   "cell_type": "code",
   "execution_count": 67,
   "metadata": {},
   "outputs": [],
   "source": [
    "cumul_profit = sum(col_profit)\n",
    "nul_profit = col_profit.count(0)\n",
    "len_profit = len(col_profit)"
   ]
  },
  {
   "cell_type": "code",
   "execution_count": 69,
   "metadata": {},
   "outputs": [
    {
     "name": "stdout",
     "output_type": "stream",
     "text": [
      "Période testée :\n",
      "Début :  20190221  10:00:00\n",
      "Fin :  20190506  00:00:00\n",
      "ROC long :  81.25 %\n",
      "ROC short :  77.0 %\n",
      "Transaction à $100,000\n",
      "Equity initiale : $100,000\n",
      "Equity finale :  658500.0\n",
      "Gain généré : 558500.0 $\n",
      "Nombre de transactions :  184\n",
      "Nombre de Long :  92\n",
      "Nombre de Short :  0\n",
      "Nombre winners :  38\n",
      "Nombre loosers :  54\n",
      "Nombre de long winners :  38\n",
      "Nombre de short winners :  0\n",
      "Nombre de long loosers :  54\n",
      "Nombre de short loosers :  0\n",
      "Nombre de short en l'air :  0\n",
      "Nombre long en l'air :  0\n",
      "Fees :  27600\n",
      "Gain maximal 132700.0   132700.0\n",
      "Perte maximale -69100.0   -69100.0\n",
      "Moyenne du gain 6070.65\n",
      "Somme de tous les gains 2408000.0\n",
      "Somme de tous le loss 1821900.0\n",
      "profit factor 1.32\n"
     ]
    }
   ],
   "source": [
    "print('Période testée :')\n",
    "print('Début : ',backtest.index[0])\n",
    "print('Fin : ',backtest.index[-1])\n",
    "print('ROC long : ',round(roc_long*100,2),'%')\n",
    "print('ROC short : ',round(roc_short*100,2),'%')\n",
    "print('Transaction à $100,000')\n",
    "print('Equity initiale : $100,000')\n",
    "print('Equity finale : ',round(equity,2))\n",
    "print('Gain généré :',round(equity-100000,2),'$')\n",
    "print('Nombre de transactions : ',nb_transaction)\n",
    "print('Nombre de Long : ',sum(go_long))\n",
    "print('Nombre de Short : ',sum(go_short))\n",
    "print('Nombre winners : ',sum(long_exit) + sum(short_exit))\n",
    "print('Nombre loosers : ',sum(long_sl) + sum(short_sl))\n",
    "print('Nombre de long winners : ',sum(long_exit))\n",
    "print('Nombre de short winners : ',sum(short_exit))\n",
    "print('Nombre de long loosers : ',sum(long_sl))\n",
    "print('Nombre de short loosers : ',sum(short_sl))\n",
    "print(\"Nombre de short en l'air : \", sea)\n",
    "print(\"Nombre long en l'air : \",lea)\n",
    "print('Fees : ',nb_transaction*150)\n",
    "#print('Nombre de positions gagnées',sum(col_is_win))\n",
    "#print('Nombre de positions perdues',sum(col_close_pos)-sum(col_is_win))\n",
    "print('Gain maximal',round(max(col_profit),2),' ',round(max_gain[1],2))\n",
    "print('Perte maximale',round(min(col_profit),2),' ',round(max_loss[1],2))\n",
    "print('Moyenne du gain',round(((equity-100000)/(nb_transaction/2)),2))\n",
    "print('Somme de tous les gains',round(gain_sum,2))\n",
    "print('Somme de tous le loss',round(abs(loss_sum),2))\n",
    "print('profit factor',round(abs(gain_sum/loss_sum),2))\n"
   ]
  },
  {
   "cell_type": "code",
   "execution_count": 517,
   "metadata": {},
   "outputs": [],
   "source": [
    "# save the model to disk\n",
    "filename = 'finalized_model_long.sav'\n",
    "pickle.dump(model_long, open(filename, 'wb'))\n",
    "filename = 'finalized_model_short.sav'\n",
    "pickle.dump(model_short, open(filename, 'wb'))"
   ]
  },
  {
   "cell_type": "markdown",
   "metadata": {},
   "source": [
    "# load the model from disk\n",
    "loaded_model = pickle.load(open(filename, 'rb'))\n",
    "result = loaded_model.score(X_test, Y_test)\n",
    "print(result)"
   ]
  }
 ],
 "metadata": {
  "kernelspec": {
   "display_name": "Python 3",
   "language": "python",
   "name": "python3"
  },
  "language_info": {
   "codemirror_mode": {
    "name": "ipython",
    "version": 3
   },
   "file_extension": ".py",
   "mimetype": "text/x-python",
   "name": "python",
   "nbconvert_exporter": "python",
   "pygments_lexer": "ipython3",
   "version": "3.6.8"
  }
 },
 "nbformat": 4,
 "nbformat_minor": 2
}
