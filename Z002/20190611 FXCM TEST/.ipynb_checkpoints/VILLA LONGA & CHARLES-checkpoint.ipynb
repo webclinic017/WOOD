{
 "cells": [
  {
   "cell_type": "code",
   "execution_count": 1,
   "metadata": {},
   "outputs": [
    {
     "name": "stdout",
     "output_type": "stream",
     "text": [
      "Global Optimized LumberJack Environment Motor\n",
      "°OoO_FXCM_Oo0°\n",
      "LumberJack Jyss 5779(c)\n",
      "Villa Longa & Charles Method\n",
      "Importing librairies...\n",
      "version fxcmpy : 1.2.4\n"
     ]
    },
    {
     "name": "stderr",
     "output_type": "stream",
     "text": [
      "Using TensorFlow backend.\n"
     ]
    },
    {
     "name": "stdout",
     "output_type": "stream",
     "text": [
      "Librairies imported\n"
     ]
    }
   ],
   "source": [
    "___Author___='LumberJack Jyss'\n",
    "print('Global Optimized LumberJack Environment Motor\\n°OoO_FXCM_Oo0°\\nLumberJack Jyss 5779(c)')\n",
    "print('Villa Longa & Charles Method')\n",
    "print('Importing librairies...')\n",
    "import fxcmpy\n",
    "print('version fxcmpy :',fxcmpy.__version__)\n",
    "import time\n",
    "import numpy as np\n",
    "import pandas as pd\n",
    "from colorama import Fore, Back, Style \n",
    "import datetime as dt\n",
    "import talib\n",
    "from zigzag import *\n",
    "import matplotlib.pyplot as plt\n",
    "import matplotlib.dates as mdates\n",
    "plt.style.use('seaborn')\n",
    "%matplotlib inline\n",
    "import plotly.plotly as py\n",
    "import plotly.tools as tls\n",
    "#import seaborn as sns\n",
    "import os\n",
    "from sklearn.preprocessing import MinMaxScaler\n",
    "from keras.models import Sequential\n",
    "from keras.layers import Dense\n",
    "from sklearn.metrics import accuracy_score, precision_score, recall_score, roc_auc_score,roc_curve,confusion_matrix,classification_report\n",
    "print('Librairies imported')\n",
    "import warnings\n",
    "warnings.filterwarnings(\"ignore\")\n",
    "import tensorflow as tf\n",
    "tf.logging.set_verbosity(tf.logging.ERROR)"
   ]
  },
  {
   "cell_type": "code",
   "execution_count": 2,
   "metadata": {},
   "outputs": [],
   "source": [
    "TOKEN = 'e053ac1597cef331df9429ac8151100ea9f1c411'\n",
    "server = 'demo'\n",
    "ticker = 'ETH/USD'\n",
    "period = 'm1'\n",
    "number = 8000"
   ]
  },
  {
   "cell_type": "code",
   "execution_count": 4,
   "metadata": {},
   "outputs": [
    {
     "name": "stdout",
     "output_type": "stream",
     "text": [
      "Connecting server...\n"
     ]
    },
    {
     "name": "stderr",
     "output_type": "stream",
     "text": [
      "WARNING: Logging before flag parsing goes to stderr.\n",
      "W0618 01:01:34.614001 4582667712 fxcmpy.py:222] Default account set to 1147539, to change use set_default_account().\n"
     ]
    },
    {
     "name": "stdout",
     "output_type": "stream",
     "text": [
      "Connection established for \u001b[34m1147539 \u001b[0m  - Mode : \u001b[31mdemo \u001b[0m\n",
      "Connexion executed in = 8.470000 secondes\n"
     ]
    }
   ],
   "source": [
    "tmps1=time.time()\n",
    "print('Connecting server...')\n",
    "con = fxcmpy.fxcmpy(access_token=TOKEN, log_level='error',server= server)\n",
    "if con.is_connected():\n",
    "    print('Connection established for', Fore.BLUE + str(con.get_account_ids()[-1]),Style.RESET_ALL,' - Mode :',Fore.RED + server,Style.RESET_ALL)\n",
    "else:\n",
    "    print('Not connected')\n",
    "tmps2=round(time.time()-tmps1,2)\n",
    "print (\"Connexion executed in = %f\" %tmps2,'secondes')"
   ]
  },
  {
   "cell_type": "code",
   "execution_count": 6,
   "metadata": {},
   "outputs": [
    {
     "name": "stderr",
     "output_type": "stream",
     "text": [
      "W0618 01:02:57.075520 123145531502592 fxcmpy.py:2681] Got a insert event for open positions: {'t': 1, 'ratePrecision': 2, 'tradeId': '150364788', 'accountName': '01147539', 'accountId': '1147539', 'roll': 0, 'com': 0, 'open': 273.95, 'valueDate': '', 'grossPL': -5.13287, 'close': 272.15, 'visiblePL': -1.8, 'isDisabled': False, 'currency': 'ETH/USD', 'isBuy': True, 'amountK': 0.032, 'currencyPoint': 0.00285, 'time': '06172019220256', 'usedMargin': 206.064, 'stop': 0, 'stopMove': 0, 'limit': 274.87, 'action': 'I'}.\n",
      "W0618 01:02:57.078519 123145531502592 fxcmpy.py:2603] Got a delete event for orders: {'t': 3, 'orderId': '315663848', 'action': 'D'}.\n",
      "W0618 01:03:01.757839 123145531502592 fxcmpy.py:2681] Got a insert event for open positions: {'t': 1, 'ratePrecision': 2, 'tradeId': '150364791', 'accountName': '01147539', 'accountId': '1147539', 'roll': 0, 'com': 0, 'open': 272.15, 'valueDate': '', 'grossPL': -5.13287, 'close': 273.95, 'visiblePL': -1.8, 'isDisabled': False, 'currency': 'ETH/USD', 'isBuy': False, 'amountK': 0.032, 'currencyPoint': 0.00285, 'time': '06172019220301', 'usedMargin': 206.064, 'stop': 0, 'stopMove': 0, 'limit': 271.21, 'action': 'I'}.\n",
      "W0618 01:03:01.760858 123145531502592 fxcmpy.py:2603] Got a delete event for orders: {'t': 3, 'orderId': '315663852', 'action': 'D'}.\n",
      "W0618 01:03:26.636950 123145531502592 fxcmpy.py:2681] Got a insert event for open positions: {'t': 1, 'ratePrecision': 2, 'tradeId': '150364878', 'accountName': '01147539', 'accountId': '1147539', 'roll': 0, 'com': 0, 'open': 272.15, 'valueDate': '', 'grossPL': -2.42383, 'close': 273.85, 'visiblePL': -1.7, 'isDisabled': False, 'currency': 'ETH/USD', 'isBuy': False, 'amountK': 0.016, 'currencyPoint': 0.00143, 'time': '06172019220301', 'usedMargin': 103.032, 'stop': 0, 'stopMove': 0, 'limit': 0, 'action': 'I'}.\n",
      "W0618 01:03:26.641072 123145531502592 fxcmpy.py:2733] Got a insert event for closed positions: {'t': 2, 'ratePrecision': 2, 'tradeId': '150364791', 'accountName': '01147539', 'roll': 0, 'com': 0, 'open': 272.15, 'valueDate': '', 'grossPL': -2.42, 'close': 273.85, 'visiblePL': -1.7, 'currency': 'ETH/USD', 'isBuy': False, 'amountK': 0.016, 'currencyPoint': 0.00143, 'openTime': '06172019220301', 'closeTime': '06172019220326', 'action': 'I'}.\n",
      "W0618 01:03:26.648767 123145531502592 fxcmpy.py:2684] Got a delete event for open posi: {'t': 1, 'tradeId': '150364791', 'action': 'D'}\n",
      "W0618 01:03:27.130446 123145531502592 fxcmpy.py:2681] Got a insert event for open positions: {'t': 1, 'ratePrecision': 2, 'tradeId': '150364792', 'accountName': '01147539', 'accountId': '1147539', 'roll': 0, 'com': 0, 'open': 273.85, 'valueDate': '', 'grossPL': -2.56642, 'close': 272.05, 'visiblePL': -1.8, 'isDisabled': False, 'currency': 'ETH/USD', 'isBuy': True, 'amountK': 0.016, 'currencyPoint': 0.00143, 'time': '06172019220326', 'usedMargin': 103.032, 'stop': 0, 'stopMove': 0, 'limit': 274.87, 'action': 'I'}.\n",
      "W0618 01:03:27.132394 123145531502592 fxcmpy.py:2603] Got a delete event for orders: {'t': 3, 'orderId': '315663856', 'action': 'D'}.\n",
      "W0618 01:03:31.767231 123145531502592 fxcmpy.py:2681] Got a insert event for open positions: {'t': 1, 'ratePrecision': 2, 'tradeId': '150364794', 'accountName': '01147539', 'accountId': '1147539', 'roll': 0, 'com': 0, 'open': 272.05, 'valueDate': '', 'grossPL': -2.56642, 'close': 273.85, 'visiblePL': -1.8, 'isDisabled': False, 'currency': 'ETH/USD', 'isBuy': False, 'amountK': 0.016, 'currencyPoint': 0.00143, 'time': '06172019220331', 'usedMargin': 103.032, 'stop': 0, 'stopMove': 0, 'limit': 271.21, 'action': 'I'}.\n",
      "W0618 01:03:31.770149 123145531502592 fxcmpy.py:2603] Got a delete event for orders: {'t': 3, 'orderId': '315663858', 'action': 'D'}.\n"
     ]
    },
    {
     "ename": "KeyboardInterrupt",
     "evalue": "",
     "output_type": "error",
     "traceback": [
      "\u001b[0;31m---------------------------------------------------------------------------\u001b[0m",
      "\u001b[0;31mKeyboardInterrupt\u001b[0m                         Traceback (most recent call last)",
      "\u001b[0;32m<ipython-input-6-6e877faa26a0>\u001b[0m in \u001b[0;36m<module>\u001b[0;34m\u001b[0m\n\u001b[1;32m     15\u001b[0m         \u001b[0mtime\u001b[0m\u001b[0;34m.\u001b[0m\u001b[0msleep\u001b[0m\u001b[0;34m(\u001b[0m\u001b[0;36m3\u001b[0m\u001b[0;34m)\u001b[0m\u001b[0;34m\u001b[0m\u001b[0;34m\u001b[0m\u001b[0m\n\u001b[1;32m     16\u001b[0m         \u001b[0mtradeId_bid\u001b[0m \u001b[0;34m=\u001b[0m \u001b[0mcon\u001b[0m\u001b[0;34m.\u001b[0m\u001b[0mget_open_trade_ids\u001b[0m\u001b[0;34m(\u001b[0m\u001b[0;34m)\u001b[0m\u001b[0;34m[\u001b[0m\u001b[0;34m-\u001b[0m\u001b[0;36m1\u001b[0m\u001b[0;34m]\u001b[0m\u001b[0;34m\u001b[0m\u001b[0;34m\u001b[0m\u001b[0m\n\u001b[0;32m---> 17\u001b[0;31m         \u001b[0mtime\u001b[0m\u001b[0;34m.\u001b[0m\u001b[0msleep\u001b[0m\u001b[0;34m(\u001b[0m\u001b[0;36m20\u001b[0m\u001b[0;34m)\u001b[0m\u001b[0;34m\u001b[0m\u001b[0;34m\u001b[0m\u001b[0m\n\u001b[0m\u001b[1;32m     18\u001b[0m         \u001b[0;32mif\u001b[0m \u001b[0;36m1.01\u001b[0m \u001b[0;34m*\u001b[0m \u001b[0mbid\u001b[0m \u001b[0;34m>\u001b[0m  \u001b[0mcon\u001b[0m\u001b[0;34m.\u001b[0m\u001b[0mget_last_price\u001b[0m\u001b[0;34m(\u001b[0m\u001b[0mticker\u001b[0m\u001b[0;34m)\u001b[0m\u001b[0;34m[\u001b[0m\u001b[0;36m0\u001b[0m\u001b[0;34m]\u001b[0m\u001b[0;34m:\u001b[0m\u001b[0;34m\u001b[0m\u001b[0;34m\u001b[0m\u001b[0m\n\u001b[1;32m     19\u001b[0m             \u001b[0;32mtry\u001b[0m \u001b[0;34m:\u001b[0m\u001b[0;34m\u001b[0m\u001b[0;34m\u001b[0m\u001b[0m\n",
      "\u001b[0;31mKeyboardInterrupt\u001b[0m: "
     ]
    }
   ],
   "source": [
    "pack_bid = 32.0\n",
    "pack_ask = 32.0\n",
    "for megaloop in range (0,10):\n",
    "    con.subscribe_market_data(ticker)\n",
    "    con.get_last_price(ticker)\n",
    "    bid = con.get_last_price(ticker)[1]\n",
    "    ask = con.get_last_price(ticker)[0]\n",
    "    for miniloop in range (0,10):\n",
    "        con.open_trade(symbol=ticker, is_buy=True,rate=ask, is_in_pips=False,amount=pack_ask, time_in_force='GTC',order_type='AtMarket', limit=ask*1.01)\n",
    "        time.sleep(3)\n",
    "        tradeId_ask = con.get_open_trade_ids()[-1]\n",
    "        con.open_trade(symbol=ticker, is_buy=False,rate=bid, is_in_pips=False,amount=pack_bid, time_in_force='GTC',order_type='AtMarket', limit=bid*0.99)\n",
    "        pack_bid = pack_bid/2\n",
    "        pack_ask = pack_ask/2\n",
    "        time.sleep(3)\n",
    "        tradeId_bid = con.get_open_trade_ids()[-1]\n",
    "        time.sleep(20)\n",
    "        if 1.01 * bid >  con.get_last_price(ticker)[0]:\n",
    "            try :\n",
    "                con.close_trade(trade_id=tradeId_bid, amount=pack_bid)\n",
    "            except:\n",
    "                pass\n",
    "        elif 1.01 * ask <  con.get_last_price(ticker)[1]:\n",
    "            try :\n",
    "                con.close_trade(trade_id=tradeId_ask, amount=pack_bid)\n",
    "            except:\n",
    "                pass\n",
    "                \n",
    "        \n"
   ]
  },
  {
   "cell_type": "code",
   "execution_count": 18,
   "metadata": {},
   "outputs": [
    {
     "data": {
      "text/plain": [
       "[150363299, 150362689, 150363183, 150363757, 150363691, 150363801]"
      ]
     },
     "execution_count": 18,
     "metadata": {},
     "output_type": "execute_result"
    }
   ],
   "source": [
    "con.get_open_trade_ids()"
   ]
  },
  {
   "cell_type": "code",
   "execution_count": 7,
   "metadata": {},
   "outputs": [
    {
     "name": "stderr",
     "output_type": "stream",
     "text": [
      "W0618 01:03:49.691314 123145531502592 fxcmpy.py:2733] Got a insert event for closed positions: {'t': 2, 'ratePrecision': 2, 'tradeId': '150364788', 'accountName': '01147539', 'roll': 0, 'com': 0, 'open': 273.95, 'valueDate': '', 'grossPL': -5.7, 'close': 271.95, 'visiblePL': -2, 'currency': 'ETH/USD', 'isBuy': True, 'amountK': 0.032, 'currencyPoint': 0.00285, 'openTime': '06172019220256', 'closeTime': '06172019220349', 'action': 'I'}.\n",
      "W0618 01:03:49.693383 123145531502592 fxcmpy.py:2684] Got a delete event for open posi: {'t': 1, 'tradeId': '150364788', 'action': 'D'}\n",
      "W0618 01:03:49.696920 123145531502592 fxcmpy.py:2603] Got a delete event for orders: {'t': 3, 'orderId': '315663861', 'action': 'D'}.\n",
      "W0618 01:03:49.706083 123145531502592 fxcmpy.py:2733] Got a insert event for closed positions: {'t': 2, 'ratePrecision': 2, 'tradeId': '150364792', 'accountName': '01147539', 'roll': 0, 'com': 0, 'open': 273.85, 'valueDate': '', 'grossPL': -2.71, 'close': 271.95, 'visiblePL': -1.9, 'currency': 'ETH/USD', 'isBuy': True, 'amountK': 0.016, 'currencyPoint': 0.00143, 'openTime': '06172019220326', 'closeTime': '06172019220349', 'action': 'I'}.\n",
      "W0618 01:03:49.826753 123145531502592 fxcmpy.py:2684] Got a delete event for open posi: {'t': 1, 'tradeId': '150364792', 'action': 'D'}\n",
      "W0618 01:03:49.835968 123145531502592 fxcmpy.py:2733] Got a insert event for closed positions: {'t': 2, 'ratePrecision': 2, 'tradeId': '150364878', 'accountName': '01147539', 'roll': 0, 'com': 0, 'open': 272.15, 'valueDate': '', 'grossPL': -2.42, 'close': 273.85, 'visiblePL': -1.7, 'currency': 'ETH/USD', 'isBuy': False, 'amountK': 0.016, 'currencyPoint': 0.00143, 'openTime': '06172019220301', 'closeTime': '06172019220349', 'action': 'I'}.\n",
      "W0618 01:03:49.844578 123145531502592 fxcmpy.py:2684] Got a delete event for open posi: {'t': 1, 'tradeId': '150364878', 'action': 'D'}\n",
      "W0618 01:03:49.847067 123145531502592 fxcmpy.py:2603] Got a delete event for orders: {'t': 3, 'orderId': '315663862', 'action': 'D'}.\n",
      "W0618 01:03:49.849301 123145531502592 fxcmpy.py:2733] Got a insert event for closed positions: {'t': 2, 'ratePrecision': 2, 'tradeId': '150364794', 'accountName': '01147539', 'roll': 0, 'com': 0, 'open': 272.05, 'valueDate': '', 'grossPL': -2.57, 'close': 273.85, 'visiblePL': -1.8, 'currency': 'ETH/USD', 'isBuy': False, 'amountK': 0.016, 'currencyPoint': 0.00143, 'openTime': '06172019220331', 'closeTime': '06172019220349', 'action': 'I'}.\n",
      "W0618 01:03:49.850620 123145531502592 fxcmpy.py:2684] Got a delete event for open posi: {'t': 1, 'tradeId': '150364794', 'action': 'D'}\n"
     ]
    }
   ],
   "source": [
    "con.close_all_for_symbol(ticker)"
   ]
  },
  {
   "cell_type": "code",
   "execution_count": null,
   "metadata": {},
   "outputs": [],
   "source": []
  }
 ],
 "metadata": {
  "kernelspec": {
   "display_name": "Python 3",
   "language": "python",
   "name": "python3"
  },
  "language_info": {
   "codemirror_mode": {
    "name": "ipython",
    "version": 3
   },
   "file_extension": ".py",
   "mimetype": "text/x-python",
   "name": "python",
   "nbconvert_exporter": "python",
   "pygments_lexer": "ipython3",
   "version": "3.6.8"
  }
 },
 "nbformat": 4,
 "nbformat_minor": 2
}
