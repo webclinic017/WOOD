{
 "cells": [
  {
   "cell_type": "code",
   "execution_count": 80,
   "metadata": {},
   "outputs": [],
   "source": [
    "___Author___='LumberJack Jyss'"
   ]
  },
  {
   "cell_type": "code",
   "execution_count": 81,
   "metadata": {},
   "outputs": [
    {
     "name": "stdout",
     "output_type": "stream",
     "text": [
      "LumberJack Trading AtidotCom TREND FORECAST\n",
      "LumberJack Jyss (c)\n"
     ]
    }
   ],
   "source": [
    "print('LumberJack Trading AtidotCom TREND FORECAST\\nLumberJack Jyss (c)')"
   ]
  },
  {
   "cell_type": "code",
   "execution_count": 82,
   "metadata": {},
   "outputs": [
    {
     "name": "stdout",
     "output_type": "stream",
     "text": [
      "Importation des librairies...\n",
      "Librairies importées\n"
     ]
    }
   ],
   "source": [
    "print('Importation des librairies...')\n",
    "import talib\n",
    "import numpy as np\n",
    "import pandas as pd\n",
    "import pandas_datareader as web\n",
    "import matplotlib.pyplot as plt\n",
    "import seaborn as sns\n",
    "%matplotlib inline\n",
    "print('Librairies importées')"
   ]
  },
  {
   "cell_type": "code",
   "execution_count": 83,
   "metadata": {},
   "outputs": [],
   "source": [
    "# PARAMETRES TEMPORELS INITIAUX\n",
    "start = pd.to_datetime('1997-03-03')\n",
    "end = pd.to_datetime('2019-04-29')"
   ]
  },
  {
   "cell_type": "code",
   "execution_count": 84,
   "metadata": {},
   "outputs": [],
   "source": [
    "# SCRAPING DES DONNES BRUTES\n",
    "spy = web.DataReader('SPY','yahoo',start,end)\n",
    "vix = web.DataReader('^VIX','yahoo',start,end)\n",
    "len_spy = len(spy)\n",
    "len_vix = len(vix)\n",
    "spy_norm = []\n",
    "vix_norm = []"
   ]
  },
  {
   "cell_type": "code",
   "execution_count": 85,
   "metadata": {},
   "outputs": [
    {
     "data": {
      "text/html": [
       "<div>\n",
       "<style scoped>\n",
       "    .dataframe tbody tr th:only-of-type {\n",
       "        vertical-align: middle;\n",
       "    }\n",
       "\n",
       "    .dataframe tbody tr th {\n",
       "        vertical-align: top;\n",
       "    }\n",
       "\n",
       "    .dataframe thead th {\n",
       "        text-align: right;\n",
       "    }\n",
       "</style>\n",
       "<table border=\"1\" class=\"dataframe\">\n",
       "  <thead>\n",
       "    <tr style=\"text-align: right;\">\n",
       "      <th></th>\n",
       "      <th>High</th>\n",
       "      <th>Low</th>\n",
       "      <th>Open</th>\n",
       "      <th>Close</th>\n",
       "      <th>Volume</th>\n",
       "      <th>Adj Close</th>\n",
       "    </tr>\n",
       "    <tr>\n",
       "      <th>Date</th>\n",
       "      <th></th>\n",
       "      <th></th>\n",
       "      <th></th>\n",
       "      <th></th>\n",
       "      <th></th>\n",
       "      <th></th>\n",
       "    </tr>\n",
       "  </thead>\n",
       "  <tbody>\n",
       "    <tr>\n",
       "      <th>1997-03-03</th>\n",
       "      <td>79.750000</td>\n",
       "      <td>78.687500</td>\n",
       "      <td>78.750000</td>\n",
       "      <td>79.687500</td>\n",
       "      <td>1210400.0</td>\n",
       "      <td>53.450661</td>\n",
       "    </tr>\n",
       "    <tr>\n",
       "      <th>1997-03-04</th>\n",
       "      <td>80.125000</td>\n",
       "      <td>79.093697</td>\n",
       "      <td>79.906197</td>\n",
       "      <td>79.250000</td>\n",
       "      <td>1478700.0</td>\n",
       "      <td>53.157196</td>\n",
       "    </tr>\n",
       "    <tr>\n",
       "      <th>1997-03-05</th>\n",
       "      <td>80.593697</td>\n",
       "      <td>79.453102</td>\n",
       "      <td>79.718697</td>\n",
       "      <td>80.593697</td>\n",
       "      <td>1254800.0</td>\n",
       "      <td>54.058502</td>\n",
       "    </tr>\n",
       "    <tr>\n",
       "      <th>1997-03-06</th>\n",
       "      <td>80.906197</td>\n",
       "      <td>79.875000</td>\n",
       "      <td>80.625000</td>\n",
       "      <td>80.125000</td>\n",
       "      <td>1528500.0</td>\n",
       "      <td>53.744110</td>\n",
       "    </tr>\n",
       "    <tr>\n",
       "      <th>1997-03-07</th>\n",
       "      <td>81.156197</td>\n",
       "      <td>80.250000</td>\n",
       "      <td>80.437500</td>\n",
       "      <td>80.843697</td>\n",
       "      <td>1859300.0</td>\n",
       "      <td>54.226185</td>\n",
       "    </tr>\n",
       "  </tbody>\n",
       "</table>\n",
       "</div>"
      ],
      "text/plain": [
       "                 High        Low       Open      Close     Volume  Adj Close\n",
       "Date                                                                        \n",
       "1997-03-03  79.750000  78.687500  78.750000  79.687500  1210400.0  53.450661\n",
       "1997-03-04  80.125000  79.093697  79.906197  79.250000  1478700.0  53.157196\n",
       "1997-03-05  80.593697  79.453102  79.718697  80.593697  1254800.0  54.058502\n",
       "1997-03-06  80.906197  79.875000  80.625000  80.125000  1528500.0  53.744110\n",
       "1997-03-07  81.156197  80.250000  80.437500  80.843697  1859300.0  54.226185"
      ]
     },
     "execution_count": 85,
     "metadata": {},
     "output_type": "execute_result"
    }
   ],
   "source": [
    "spy.head()"
   ]
  },
  {
   "cell_type": "code",
   "execution_count": 86,
   "metadata": {},
   "outputs": [
    {
     "data": {
      "text/html": [
       "<div>\n",
       "<style scoped>\n",
       "    .dataframe tbody tr th:only-of-type {\n",
       "        vertical-align: middle;\n",
       "    }\n",
       "\n",
       "    .dataframe tbody tr th {\n",
       "        vertical-align: top;\n",
       "    }\n",
       "\n",
       "    .dataframe thead th {\n",
       "        text-align: right;\n",
       "    }\n",
       "</style>\n",
       "<table border=\"1\" class=\"dataframe\">\n",
       "  <thead>\n",
       "    <tr style=\"text-align: right;\">\n",
       "      <th></th>\n",
       "      <th>High</th>\n",
       "      <th>Low</th>\n",
       "      <th>Open</th>\n",
       "      <th>Close</th>\n",
       "      <th>Volume</th>\n",
       "      <th>Adj Close</th>\n",
       "    </tr>\n",
       "    <tr>\n",
       "      <th>Date</th>\n",
       "      <th></th>\n",
       "      <th></th>\n",
       "      <th></th>\n",
       "      <th></th>\n",
       "      <th></th>\n",
       "      <th></th>\n",
       "    </tr>\n",
       "  </thead>\n",
       "  <tbody>\n",
       "    <tr>\n",
       "      <th>1997-03-03</th>\n",
       "      <td>21.889999</td>\n",
       "      <td>20.879999</td>\n",
       "      <td>21.889999</td>\n",
       "      <td>20.889999</td>\n",
       "      <td>0</td>\n",
       "      <td>20.889999</td>\n",
       "    </tr>\n",
       "    <tr>\n",
       "      <th>1997-03-04</th>\n",
       "      <td>20.830000</td>\n",
       "      <td>20.270000</td>\n",
       "      <td>20.750000</td>\n",
       "      <td>20.620001</td>\n",
       "      <td>0</td>\n",
       "      <td>20.620001</td>\n",
       "    </tr>\n",
       "    <tr>\n",
       "      <th>1997-03-05</th>\n",
       "      <td>20.080000</td>\n",
       "      <td>19.410000</td>\n",
       "      <td>20.010000</td>\n",
       "      <td>19.490000</td>\n",
       "      <td>0</td>\n",
       "      <td>19.490000</td>\n",
       "    </tr>\n",
       "    <tr>\n",
       "      <th>1997-03-06</th>\n",
       "      <td>20.510000</td>\n",
       "      <td>19.469999</td>\n",
       "      <td>19.480000</td>\n",
       "      <td>20.480000</td>\n",
       "      <td>0</td>\n",
       "      <td>20.480000</td>\n",
       "    </tr>\n",
       "    <tr>\n",
       "      <th>1997-03-07</th>\n",
       "      <td>19.549999</td>\n",
       "      <td>19.209999</td>\n",
       "      <td>19.520000</td>\n",
       "      <td>19.320000</td>\n",
       "      <td>0</td>\n",
       "      <td>19.320000</td>\n",
       "    </tr>\n",
       "  </tbody>\n",
       "</table>\n",
       "</div>"
      ],
      "text/plain": [
       "                 High        Low       Open      Close  Volume  Adj Close\n",
       "Date                                                                     \n",
       "1997-03-03  21.889999  20.879999  21.889999  20.889999       0  20.889999\n",
       "1997-03-04  20.830000  20.270000  20.750000  20.620001       0  20.620001\n",
       "1997-03-05  20.080000  19.410000  20.010000  19.490000       0  19.490000\n",
       "1997-03-06  20.510000  19.469999  19.480000  20.480000       0  20.480000\n",
       "1997-03-07  19.549999  19.209999  19.520000  19.320000       0  19.320000"
      ]
     },
     "execution_count": 86,
     "metadata": {},
     "output_type": "execute_result"
    }
   ],
   "source": [
    "vix.head()"
   ]
  },
  {
   "cell_type": "code",
   "execution_count": 87,
   "metadata": {},
   "outputs": [],
   "source": [
    "spy_norm = []\n",
    "vix_norm = []"
   ]
  },
  {
   "cell_type": "code",
   "execution_count": 88,
   "metadata": {},
   "outputs": [],
   "source": [
    "for i in range (1,len_spy):\n",
    "    b = i - 1\n",
    "    spy_norm.append((spy.iloc[i,-1] - spy.iloc[b,-1]) / spy.iloc[b,-1])"
   ]
  },
  {
   "cell_type": "code",
   "execution_count": 89,
   "metadata": {},
   "outputs": [],
   "source": [
    "for i in range (1,len_vix): \n",
    "    b = i - 1\n",
    "    vix_norm.append((vix.iloc[i,-1] - vix.iloc[b,-1]) / vix.iloc[b,-1])"
   ]
  },
  {
   "cell_type": "code",
   "execution_count": 90,
   "metadata": {},
   "outputs": [],
   "source": [
    "temp = spy.iloc[1:,:]\n",
    "vix = vix.iloc[1:,:]\n",
    "df = pd.DataFrame(index = temp.index)"
   ]
  },
  {
   "cell_type": "code",
   "execution_count": 91,
   "metadata": {},
   "outputs": [
    {
     "data": {
      "text/plain": [
       "(5575, 5575, 5575, 5575)"
      ]
     },
     "execution_count": 91,
     "metadata": {},
     "output_type": "execute_result"
    }
   ],
   "source": [
    "len(temp),len(vix),len(spy_norm),len(spy_norm)"
   ]
  },
  {
   "cell_type": "code",
   "execution_count": 92,
   "metadata": {},
   "outputs": [],
   "source": [
    "df['spy_norm'] = spy_norm"
   ]
  },
  {
   "cell_type": "code",
   "execution_count": 93,
   "metadata": {},
   "outputs": [],
   "source": [
    "df['vix_norm'] = vix_norm"
   ]
  },
  {
   "cell_type": "code",
   "execution_count": 94,
   "metadata": {},
   "outputs": [
    {
     "data": {
      "image/png": "[encoded data removed]",
      "text/plain": [
       "<Figure size 1152x432 with 2 Axes>"
      ]
     },
     "metadata": {
      "needs_background": "light"
     },
     "output_type": "display_data"
    }
   ],
   "source": [
    "plt.figure(figsize=(16,6))\n",
    "sns.heatmap(df.corr())\n",
    "plt.show()"
   ]
  },
  {
   "cell_type": "code",
   "execution_count": 95,
   "metadata": {},
   "outputs": [
    {
     "data": {
      "text/html": [
       "<div>\n",
       "<style scoped>\n",
       "    .dataframe tbody tr th:only-of-type {\n",
       "        vertical-align: middle;\n",
       "    }\n",
       "\n",
       "    .dataframe tbody tr th {\n",
       "        vertical-align: top;\n",
       "    }\n",
       "\n",
       "    .dataframe thead th {\n",
       "        text-align: right;\n",
       "    }\n",
       "</style>\n",
       "<table border=\"1\" class=\"dataframe\">\n",
       "  <thead>\n",
       "    <tr style=\"text-align: right;\">\n",
       "      <th></th>\n",
       "      <th>spy_norm</th>\n",
       "      <th>vix_norm</th>\n",
       "    </tr>\n",
       "    <tr>\n",
       "      <th>Date</th>\n",
       "      <th></th>\n",
       "      <th></th>\n",
       "    </tr>\n",
       "  </thead>\n",
       "  <tbody>\n",
       "    <tr>\n",
       "      <th>1997-03-04</th>\n",
       "      <td>-0.005490</td>\n",
       "      <td>-0.012925</td>\n",
       "    </tr>\n",
       "    <tr>\n",
       "      <th>1997-03-05</th>\n",
       "      <td>0.016955</td>\n",
       "      <td>-0.054801</td>\n",
       "    </tr>\n",
       "    <tr>\n",
       "      <th>1997-03-06</th>\n",
       "      <td>-0.005816</td>\n",
       "      <td>0.050795</td>\n",
       "    </tr>\n",
       "    <tr>\n",
       "      <th>1997-03-07</th>\n",
       "      <td>0.008970</td>\n",
       "      <td>-0.056641</td>\n",
       "    </tr>\n",
       "    <tr>\n",
       "      <th>1997-03-10</th>\n",
       "      <td>0.010437</td>\n",
       "      <td>-0.016563</td>\n",
       "    </tr>\n",
       "  </tbody>\n",
       "</table>\n",
       "</div>"
      ],
      "text/plain": [
       "            spy_norm  vix_norm\n",
       "Date                          \n",
       "1997-03-04 -0.005490 -0.012925\n",
       "1997-03-05  0.016955 -0.054801\n",
       "1997-03-06 -0.005816  0.050795\n",
       "1997-03-07  0.008970 -0.056641\n",
       "1997-03-10  0.010437 -0.016563"
      ]
     },
     "execution_count": 95,
     "metadata": {},
     "output_type": "execute_result"
    }
   ],
   "source": [
    "df.head()"
   ]
  },
  {
   "cell_type": "code",
   "execution_count": 96,
   "metadata": {},
   "outputs": [
    {
     "name": "stdout",
     "output_type": "stream",
     "text": [
      "<class 'pandas.core.frame.DataFrame'>\n",
      "DatetimeIndex: 5576 entries, 1997-03-03 to 2019-04-29\n",
      "Data columns (total 6 columns):\n",
      "High         5576 non-null float64\n",
      "Low          5576 non-null float64\n",
      "Open         5576 non-null float64\n",
      "Close        5576 non-null float64\n",
      "Volume       5576 non-null float64\n",
      "Adj Close    5576 non-null float64\n",
      "dtypes: float64(6)\n",
      "memory usage: 464.9 KB\n"
     ]
    }
   ],
   "source": [
    "spy.info()"
   ]
  },
  {
   "cell_type": "code",
   "execution_count": 97,
   "metadata": {},
   "outputs": [],
   "source": [
    "df['SPY']=temp.iloc[:,-1]"
   ]
  },
  {
   "cell_type": "code",
   "execution_count": 98,
   "metadata": {},
   "outputs": [
    {
     "data": {
      "text/html": [
       "<div>\n",
       "<style scoped>\n",
       "    .dataframe tbody tr th:only-of-type {\n",
       "        vertical-align: middle;\n",
       "    }\n",
       "\n",
       "    .dataframe tbody tr th {\n",
       "        vertical-align: top;\n",
       "    }\n",
       "\n",
       "    .dataframe thead th {\n",
       "        text-align: right;\n",
       "    }\n",
       "</style>\n",
       "<table border=\"1\" class=\"dataframe\">\n",
       "  <thead>\n",
       "    <tr style=\"text-align: right;\">\n",
       "      <th></th>\n",
       "      <th>spy_norm</th>\n",
       "      <th>vix_norm</th>\n",
       "      <th>SPY</th>\n",
       "    </tr>\n",
       "    <tr>\n",
       "      <th>Date</th>\n",
       "      <th></th>\n",
       "      <th></th>\n",
       "      <th></th>\n",
       "    </tr>\n",
       "  </thead>\n",
       "  <tbody>\n",
       "    <tr>\n",
       "      <th>1997-03-04</th>\n",
       "      <td>-0.005490</td>\n",
       "      <td>-0.012925</td>\n",
       "      <td>53.157196</td>\n",
       "    </tr>\n",
       "    <tr>\n",
       "      <th>1997-03-05</th>\n",
       "      <td>0.016955</td>\n",
       "      <td>-0.054801</td>\n",
       "      <td>54.058502</td>\n",
       "    </tr>\n",
       "    <tr>\n",
       "      <th>1997-03-06</th>\n",
       "      <td>-0.005816</td>\n",
       "      <td>0.050795</td>\n",
       "      <td>53.744110</td>\n",
       "    </tr>\n",
       "    <tr>\n",
       "      <th>1997-03-07</th>\n",
       "      <td>0.008970</td>\n",
       "      <td>-0.056641</td>\n",
       "      <td>54.226185</td>\n",
       "    </tr>\n",
       "    <tr>\n",
       "      <th>1997-03-10</th>\n",
       "      <td>0.010437</td>\n",
       "      <td>-0.016563</td>\n",
       "      <td>54.792145</td>\n",
       "    </tr>\n",
       "  </tbody>\n",
       "</table>\n",
       "</div>"
      ],
      "text/plain": [
       "            spy_norm  vix_norm        SPY\n",
       "Date                                     \n",
       "1997-03-04 -0.005490 -0.012925  53.157196\n",
       "1997-03-05  0.016955 -0.054801  54.058502\n",
       "1997-03-06 -0.005816  0.050795  53.744110\n",
       "1997-03-07  0.008970 -0.056641  54.226185\n",
       "1997-03-10  0.010437 -0.016563  54.792145"
      ]
     },
     "execution_count": 98,
     "metadata": {},
     "output_type": "execute_result"
    }
   ],
   "source": [
    "df.head()"
   ]
  },
  {
   "cell_type": "code",
   "execution_count": 116,
   "metadata": {},
   "outputs": [],
   "source": [
    "short_list = []\n",
    "long_list = []\n",
    "len_df = len(df)\n",
    "for damhout_HAMSSA_26_5_sur_toi in range(0,len_df):\n",
    "    if df.iloc[damhout_HAMSSA_26_5_sur_toi,0] > 0.01 and\\\n",
    "    df.iloc[damhout_HAMSSA_26_5_sur_toi,1] > 0.02 :\n",
    "        short_list.append(1)\n",
    "        long_list.append(0)\n",
    "    elif df.iloc[damhout_HAMSSA_26_5_sur_toi,0] < 0.01 and\\\n",
    "    df.iloc[damhout_HAMSSA_26_5_sur_toi,1] < 0.02 :\n",
    "        long_list.append(1)\n",
    "        short_list.append(0)\n",
    "    elif df.iloc[damhout_HAMSSA_26_5_sur_toi,0] > 0.01 and\\\n",
    "    df.iloc[damhout_HAMSSA_26_5_sur_toi,1] < 0.02 :\n",
    "        long_list.append(0)\n",
    "        short_list.append(0)\n",
    "    elif df.iloc[damhout_HAMSSA_26_5_sur_toi,0] < 0.01 and\\\n",
    "    df.iloc[damhout_HAMSSA_26_5_sur_toi,1] > 0.02 :\n",
    "        long_list.append(0)\n",
    "        short_list.append(0)\n",
    "    elif df.iloc[damhout_HAMSSA_26_5_sur_toi,0] == 0 or\\\n",
    "    df.iloc[damhout_HAMSSA_26_5_sur_toi,1] == 0 :\n",
    "        long_list.append(0)\n",
    "        short_list.append(0)"
   ]
  },
  {
   "cell_type": "code",
   "execution_count": 117,
   "metadata": {},
   "outputs": [
    {
     "data": {
      "text/plain": [
       "(5575, 5575, 5575)"
      ]
     },
     "execution_count": 117,
     "metadata": {},
     "output_type": "execute_result"
    }
   ],
   "source": [
    "len_df, len(short_list),len(long_list)"
   ]
  },
  {
   "cell_type": "code",
   "execution_count": 118,
   "metadata": {},
   "outputs": [],
   "source": [
    "df['short'] = short_list\n",
    "df['long'] = long_list"
   ]
  },
  {
   "cell_type": "code",
   "execution_count": 119,
   "metadata": {},
   "outputs": [
    {
     "data": {
      "text/html": [
       "<div>\n",
       "<style scoped>\n",
       "    .dataframe tbody tr th:only-of-type {\n",
       "        vertical-align: middle;\n",
       "    }\n",
       "\n",
       "    .dataframe tbody tr th {\n",
       "        vertical-align: top;\n",
       "    }\n",
       "\n",
       "    .dataframe thead th {\n",
       "        text-align: right;\n",
       "    }\n",
       "</style>\n",
       "<table border=\"1\" class=\"dataframe\">\n",
       "  <thead>\n",
       "    <tr style=\"text-align: right;\">\n",
       "      <th></th>\n",
       "      <th>spy_norm</th>\n",
       "      <th>vix_norm</th>\n",
       "      <th>SPY</th>\n",
       "      <th>short</th>\n",
       "      <th>long</th>\n",
       "    </tr>\n",
       "    <tr>\n",
       "      <th>Date</th>\n",
       "      <th></th>\n",
       "      <th></th>\n",
       "      <th></th>\n",
       "      <th></th>\n",
       "      <th></th>\n",
       "    </tr>\n",
       "  </thead>\n",
       "  <tbody>\n",
       "    <tr>\n",
       "      <th>1997-03-04</th>\n",
       "      <td>-0.005490</td>\n",
       "      <td>-0.012925</td>\n",
       "      <td>53.157196</td>\n",
       "      <td>0</td>\n",
       "      <td>1</td>\n",
       "    </tr>\n",
       "    <tr>\n",
       "      <th>1997-03-05</th>\n",
       "      <td>0.016955</td>\n",
       "      <td>-0.054801</td>\n",
       "      <td>54.058502</td>\n",
       "      <td>0</td>\n",
       "      <td>0</td>\n",
       "    </tr>\n",
       "    <tr>\n",
       "      <th>1997-03-06</th>\n",
       "      <td>-0.005816</td>\n",
       "      <td>0.050795</td>\n",
       "      <td>53.744110</td>\n",
       "      <td>0</td>\n",
       "      <td>0</td>\n",
       "    </tr>\n",
       "    <tr>\n",
       "      <th>1997-03-07</th>\n",
       "      <td>0.008970</td>\n",
       "      <td>-0.056641</td>\n",
       "      <td>54.226185</td>\n",
       "      <td>0</td>\n",
       "      <td>1</td>\n",
       "    </tr>\n",
       "    <tr>\n",
       "      <th>1997-03-10</th>\n",
       "      <td>0.010437</td>\n",
       "      <td>-0.016563</td>\n",
       "      <td>54.792145</td>\n",
       "      <td>0</td>\n",
       "      <td>0</td>\n",
       "    </tr>\n",
       "    <tr>\n",
       "      <th>1997-03-11</th>\n",
       "      <td>-0.005355</td>\n",
       "      <td>0.013158</td>\n",
       "      <td>54.498707</td>\n",
       "      <td>0</td>\n",
       "      <td>1</td>\n",
       "    </tr>\n",
       "    <tr>\n",
       "      <th>1997-03-12</th>\n",
       "      <td>-0.008846</td>\n",
       "      <td>0.018701</td>\n",
       "      <td>54.016586</td>\n",
       "      <td>0</td>\n",
       "      <td>1</td>\n",
       "    </tr>\n",
       "    <tr>\n",
       "      <th>1997-03-13</th>\n",
       "      <td>-0.015522</td>\n",
       "      <td>0.009179</td>\n",
       "      <td>53.178131</td>\n",
       "      <td>0</td>\n",
       "      <td>1</td>\n",
       "    </tr>\n",
       "    <tr>\n",
       "      <th>1997-03-14</th>\n",
       "      <td>0.005125</td>\n",
       "      <td>0.001011</td>\n",
       "      <td>53.450661</td>\n",
       "      <td>0</td>\n",
       "      <td>1</td>\n",
       "    </tr>\n",
       "    <tr>\n",
       "      <th>1997-03-17</th>\n",
       "      <td>0.002744</td>\n",
       "      <td>0.057547</td>\n",
       "      <td>53.597351</td>\n",
       "      <td>0</td>\n",
       "      <td>0</td>\n",
       "    </tr>\n",
       "    <tr>\n",
       "      <th>1997-03-18</th>\n",
       "      <td>-0.010756</td>\n",
       "      <td>0.014797</td>\n",
       "      <td>53.020874</td>\n",
       "      <td>0</td>\n",
       "      <td>1</td>\n",
       "    </tr>\n",
       "    <tr>\n",
       "      <th>1997-03-19</th>\n",
       "      <td>-0.003360</td>\n",
       "      <td>0.022578</td>\n",
       "      <td>52.842743</td>\n",
       "      <td>0</td>\n",
       "      <td>0</td>\n",
       "    </tr>\n",
       "    <tr>\n",
       "      <th>1997-03-20</th>\n",
       "      <td>-0.005156</td>\n",
       "      <td>-0.023919</td>\n",
       "      <td>52.570286</td>\n",
       "      <td>0</td>\n",
       "      <td>1</td>\n",
       "    </tr>\n",
       "    <tr>\n",
       "      <th>1997-03-21</th>\n",
       "      <td>0.004630</td>\n",
       "      <td>-0.072102</td>\n",
       "      <td>52.813686</td>\n",
       "      <td>0</td>\n",
       "      <td>1</td>\n",
       "    </tr>\n",
       "    <tr>\n",
       "      <th>1997-03-24</th>\n",
       "      <td>0.013944</td>\n",
       "      <td>0.018791</td>\n",
       "      <td>53.550098</td>\n",
       "      <td>0</td>\n",
       "      <td>0</td>\n",
       "    </tr>\n",
       "    <tr>\n",
       "      <th>1997-03-25</th>\n",
       "      <td>-0.009823</td>\n",
       "      <td>-0.039880</td>\n",
       "      <td>53.024097</td>\n",
       "      <td>0</td>\n",
       "      <td>1</td>\n",
       "    </tr>\n",
       "    <tr>\n",
       "      <th>1997-03-26</th>\n",
       "      <td>0.004365</td>\n",
       "      <td>-0.048806</td>\n",
       "      <td>53.255527</td>\n",
       "      <td>0</td>\n",
       "      <td>1</td>\n",
       "    </tr>\n",
       "    <tr>\n",
       "      <th>1997-03-27</th>\n",
       "      <td>-0.026471</td>\n",
       "      <td>0.118996</td>\n",
       "      <td>51.845791</td>\n",
       "      <td>0</td>\n",
       "      <td>0</td>\n",
       "    </tr>\n",
       "    <tr>\n",
       "      <th>1997-03-31</th>\n",
       "      <td>-0.021103</td>\n",
       "      <td>0.080000</td>\n",
       "      <td>50.751667</td>\n",
       "      <td>0</td>\n",
       "      <td>0</td>\n",
       "    </tr>\n",
       "    <tr>\n",
       "      <th>1997-04-01</th>\n",
       "      <td>0.006425</td>\n",
       "      <td>-0.058717</td>\n",
       "      <td>51.077763</td>\n",
       "      <td>0</td>\n",
       "      <td>1</td>\n",
       "    </tr>\n",
       "    <tr>\n",
       "      <th>1997-04-02</th>\n",
       "      <td>-0.017919</td>\n",
       "      <td>0.022073</td>\n",
       "      <td>50.162498</td>\n",
       "      <td>0</td>\n",
       "      <td>0</td>\n",
       "    </tr>\n",
       "    <tr>\n",
       "      <th>1997-04-03</th>\n",
       "      <td>0.005452</td>\n",
       "      <td>-0.005164</td>\n",
       "      <td>50.435993</td>\n",
       "      <td>0</td>\n",
       "      <td>1</td>\n",
       "    </tr>\n",
       "    <tr>\n",
       "      <th>1997-04-04</th>\n",
       "      <td>0.012515</td>\n",
       "      <td>-0.092497</td>\n",
       "      <td>51.067211</td>\n",
       "      <td>0</td>\n",
       "      <td>0</td>\n",
       "    </tr>\n",
       "    <tr>\n",
       "      <th>1997-04-07</th>\n",
       "      <td>0.003915</td>\n",
       "      <td>-0.037441</td>\n",
       "      <td>51.267162</td>\n",
       "      <td>0</td>\n",
       "      <td>1</td>\n",
       "    </tr>\n",
       "    <tr>\n",
       "      <th>1997-04-08</th>\n",
       "      <td>0.007182</td>\n",
       "      <td>-0.003782</td>\n",
       "      <td>51.635387</td>\n",
       "      <td>0</td>\n",
       "      <td>1</td>\n",
       "    </tr>\n",
       "    <tr>\n",
       "      <th>1997-04-09</th>\n",
       "      <td>-0.008150</td>\n",
       "      <td>0.006508</td>\n",
       "      <td>51.214565</td>\n",
       "      <td>0</td>\n",
       "      <td>1</td>\n",
       "    </tr>\n",
       "    <tr>\n",
       "      <th>1997-04-10</th>\n",
       "      <td>-0.003699</td>\n",
       "      <td>0.024246</td>\n",
       "      <td>51.025124</td>\n",
       "      <td>0</td>\n",
       "      <td>0</td>\n",
       "    </tr>\n",
       "    <tr>\n",
       "      <th>1997-04-11</th>\n",
       "      <td>-0.031751</td>\n",
       "      <td>0.039453</td>\n",
       "      <td>49.405006</td>\n",
       "      <td>0</td>\n",
       "      <td>0</td>\n",
       "    </tr>\n",
       "    <tr>\n",
       "      <th>1997-04-14</th>\n",
       "      <td>0.013414</td>\n",
       "      <td>-0.033907</td>\n",
       "      <td>50.067749</td>\n",
       "      <td>0</td>\n",
       "      <td>0</td>\n",
       "    </tr>\n",
       "    <tr>\n",
       "      <th>1997-04-15</th>\n",
       "      <td>0.017022</td>\n",
       "      <td>-0.044002</td>\n",
       "      <td>50.919991</td>\n",
       "      <td>0</td>\n",
       "      <td>0</td>\n",
       "    </tr>\n",
       "  </tbody>\n",
       "</table>\n",
       "</div>"
      ],
      "text/plain": [
       "            spy_norm  vix_norm        SPY  short  long\n",
       "Date                                                  \n",
       "1997-03-04 -0.005490 -0.012925  53.157196      0     1\n",
       "1997-03-05  0.016955 -0.054801  54.058502      0     0\n",
       "1997-03-06 -0.005816  0.050795  53.744110      0     0\n",
       "1997-03-07  0.008970 -0.056641  54.226185      0     1\n",
       "1997-03-10  0.010437 -0.016563  54.792145      0     0\n",
       "1997-03-11 -0.005355  0.013158  54.498707      0     1\n",
       "1997-03-12 -0.008846  0.018701  54.016586      0     1\n",
       "1997-03-13 -0.015522  0.009179  53.178131      0     1\n",
       "1997-03-14  0.005125  0.001011  53.450661      0     1\n",
       "1997-03-17  0.002744  0.057547  53.597351      0     0\n",
       "1997-03-18 -0.010756  0.014797  53.020874      0     1\n",
       "1997-03-19 -0.003360  0.022578  52.842743      0     0\n",
       "1997-03-20 -0.005156 -0.023919  52.570286      0     1\n",
       "1997-03-21  0.004630 -0.072102  52.813686      0     1\n",
       "1997-03-24  0.013944  0.018791  53.550098      0     0\n",
       "1997-03-25 -0.009823 -0.039880  53.024097      0     1\n",
       "1997-03-26  0.004365 -0.048806  53.255527      0     1\n",
       "1997-03-27 -0.026471  0.118996  51.845791      0     0\n",
       "1997-03-31 -0.021103  0.080000  50.751667      0     0\n",
       "1997-04-01  0.006425 -0.058717  51.077763      0     1\n",
       "1997-04-02 -0.017919  0.022073  50.162498      0     0\n",
       "1997-04-03  0.005452 -0.005164  50.435993      0     1\n",
       "1997-04-04  0.012515 -0.092497  51.067211      0     0\n",
       "1997-04-07  0.003915 -0.037441  51.267162      0     1\n",
       "1997-04-08  0.007182 -0.003782  51.635387      0     1\n",
       "1997-04-09 -0.008150  0.006508  51.214565      0     1\n",
       "1997-04-10 -0.003699  0.024246  51.025124      0     0\n",
       "1997-04-11 -0.031751  0.039453  49.405006      0     0\n",
       "1997-04-14  0.013414 -0.033907  50.067749      0     0\n",
       "1997-04-15  0.017022 -0.044002  50.919991      0     0"
      ]
     },
     "execution_count": 119,
     "metadata": {},
     "output_type": "execute_result"
    }
   ],
   "source": [
    "df.head(30)\n",
    "        "
   ]
  },
  {
   "cell_type": "code",
   "execution_count": 120,
   "metadata": {},
   "outputs": [],
   "source": [
    "df.to_csv('VIX.csv')"
   ]
  },
  {
   "cell_type": "code",
   "execution_count": 121,
   "metadata": {},
   "outputs": [
    {
     "data": {
      "text/plain": [
       "(5575, 5)"
      ]
     },
     "execution_count": 121,
     "metadata": {},
     "output_type": "execute_result"
    }
   ],
   "source": [
    "df.shape"
   ]
  },
  {
   "cell_type": "code",
   "execution_count": null,
   "metadata": {},
   "outputs": [],
   "source": []
  },
  {
   "cell_type": "code",
   "execution_count": null,
   "metadata": {},
   "outputs": [],
   "source": []
  }
 ],
 "metadata": {
  "kernelspec": {
   "display_name": "Python 3",
   "language": "python",
   "name": "python3"
  },
  "language_info": {
   "codemirror_mode": {
    "name": "ipython",
    "version": 3
   },
   "file_extension": ".py",
   "mimetype": "text/x-python",
   "name": "python",
   "nbconvert_exporter": "python",
   "pygments_lexer": "ipython3",
   "version": "3.6.8"
  }
 },
 "nbformat": 4,
 "nbformat_minor": 2
}
