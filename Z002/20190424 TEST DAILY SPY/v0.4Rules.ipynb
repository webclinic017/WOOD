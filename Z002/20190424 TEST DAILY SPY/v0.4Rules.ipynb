{
 "cells": [
  {
   "cell_type": "code",
   "execution_count": 43,
   "metadata": {},
   "outputs": [],
   "source": [
    "___Author___='LumberJack Jyss'"
   ]
  },
  {
   "cell_type": "code",
   "execution_count": 44,
   "metadata": {},
   "outputs": [
    {
     "name": "stdout",
     "output_type": "stream",
     "text": [
      "LumberJack BRUTAL AtidotCom TREND RULES\n",
      "LumberJack Jyss (c)\n"
     ]
    }
   ],
   "source": [
    "print('LumberJack BRUTAL AtidotCom TREND RULES\\nLumberJack Jyss (c)')"
   ]
  },
  {
   "cell_type": "code",
   "execution_count": 45,
   "metadata": {},
   "outputs": [],
   "source": [
    "import pandas as pd\n",
    "import numpy as np\n",
    "import matplotlib\n",
    "import matplotlib.pyplot as plt\n",
    "%matplotlib inline"
   ]
  },
  {
   "cell_type": "code",
   "execution_count": 46,
   "metadata": {},
   "outputs": [],
   "source": [
    "df =  pd.read_csv('normalized.csv')\n",
    "#df =  pd.read_csv('dataset_daily.csv')"
   ]
  },
  {
   "cell_type": "code",
   "execution_count": 47,
   "metadata": {},
   "outputs": [
    {
     "data": {
      "text/html": [
       "<div>\n",
       "<style scoped>\n",
       "    .dataframe tbody tr th:only-of-type {\n",
       "        vertical-align: middle;\n",
       "    }\n",
       "\n",
       "    .dataframe tbody tr th {\n",
       "        vertical-align: top;\n",
       "    }\n",
       "\n",
       "    .dataframe thead th {\n",
       "        text-align: right;\n",
       "    }\n",
       "</style>\n",
       "<table border=\"1\" class=\"dataframe\">\n",
       "  <thead>\n",
       "    <tr style=\"text-align: right;\">\n",
       "      <th></th>\n",
       "      <th>eur/usd</th>\n",
       "      <th>gpb/usd</th>\n",
       "      <th>usd/jpy</th>\n",
       "      <th>tlt</th>\n",
       "      <th>vix</th>\n",
       "      <th>gold</th>\n",
       "      <th>Open_spy</th>\n",
       "      <th>High_spy</th>\n",
       "      <th>Low_spy</th>\n",
       "      <th>SPY</th>\n",
       "    </tr>\n",
       "    <tr>\n",
       "      <th>Unnamed: 0</th>\n",
       "      <th></th>\n",
       "      <th></th>\n",
       "      <th></th>\n",
       "      <th></th>\n",
       "      <th></th>\n",
       "      <th></th>\n",
       "      <th></th>\n",
       "      <th></th>\n",
       "      <th></th>\n",
       "      <th></th>\n",
       "    </tr>\n",
       "  </thead>\n",
       "  <tbody>\n",
       "    <tr>\n",
       "      <th>2004-11-29</th>\n",
       "      <td>0.491816</td>\n",
       "      <td>0.701859</td>\n",
       "      <td>0.371005</td>\n",
       "      <td>0.314398</td>\n",
       "      <td>0.047892</td>\n",
       "      <td>0.163483</td>\n",
       "      <td>119.010002</td>\n",
       "      <td>117.480003</td>\n",
       "      <td>118.790001</td>\n",
       "      <td>117.809998</td>\n",
       "    </tr>\n",
       "    <tr>\n",
       "      <th>2004-11-30</th>\n",
       "      <td>0.490910</td>\n",
       "      <td>0.704955</td>\n",
       "      <td>0.369178</td>\n",
       "      <td>0.311918</td>\n",
       "      <td>0.047502</td>\n",
       "      <td>0.161879</td>\n",
       "      <td>118.239998</td>\n",
       "      <td>117.639999</td>\n",
       "      <td>118.000000</td>\n",
       "      <td>117.889999</td>\n",
       "    </tr>\n",
       "    <tr>\n",
       "      <th>2004-12-01</th>\n",
       "      <td>0.489303</td>\n",
       "      <td>0.708599</td>\n",
       "      <td>0.366602</td>\n",
       "      <td>0.309167</td>\n",
       "      <td>0.046384</td>\n",
       "      <td>0.162290</td>\n",
       "      <td>119.500000</td>\n",
       "      <td>118.099998</td>\n",
       "      <td>118.160004</td>\n",
       "      <td>119.230003</td>\n",
       "    </tr>\n",
       "    <tr>\n",
       "      <th>2004-12-02</th>\n",
       "      <td>0.488644</td>\n",
       "      <td>0.708997</td>\n",
       "      <td>0.368565</td>\n",
       "      <td>0.307793</td>\n",
       "      <td>0.046401</td>\n",
       "      <td>0.160689</td>\n",
       "      <td>119.870003</td>\n",
       "      <td>119.010002</td>\n",
       "      <td>119.099998</td>\n",
       "      <td>119.330002</td>\n",
       "    </tr>\n",
       "    <tr>\n",
       "      <th>2004-12-03</th>\n",
       "      <td>0.490370</td>\n",
       "      <td>0.707761</td>\n",
       "      <td>0.364245</td>\n",
       "      <td>0.311976</td>\n",
       "      <td>0.046240</td>\n",
       "      <td>0.162696</td>\n",
       "      <td>120.139999</td>\n",
       "      <td>119.089996</td>\n",
       "      <td>119.309998</td>\n",
       "      <td>119.250000</td>\n",
       "    </tr>\n",
       "  </tbody>\n",
       "</table>\n",
       "</div>"
      ],
      "text/plain": [
       "             eur/usd   gpb/usd   usd/jpy       tlt       vix      gold  \\\n",
       "Unnamed: 0                                                               \n",
       "2004-11-29  0.491816  0.701859  0.371005  0.314398  0.047892  0.163483   \n",
       "2004-11-30  0.490910  0.704955  0.369178  0.311918  0.047502  0.161879   \n",
       "2004-12-01  0.489303  0.708599  0.366602  0.309167  0.046384  0.162290   \n",
       "2004-12-02  0.488644  0.708997  0.368565  0.307793  0.046401  0.160689   \n",
       "2004-12-03  0.490370  0.707761  0.364245  0.311976  0.046240  0.162696   \n",
       "\n",
       "              Open_spy    High_spy     Low_spy         SPY  \n",
       "Unnamed: 0                                                  \n",
       "2004-11-29  119.010002  117.480003  118.790001  117.809998  \n",
       "2004-11-30  118.239998  117.639999  118.000000  117.889999  \n",
       "2004-12-01  119.500000  118.099998  118.160004  119.230003  \n",
       "2004-12-02  119.870003  119.010002  119.099998  119.330002  \n",
       "2004-12-03  120.139999  119.089996  119.309998  119.250000  "
      ]
     },
     "execution_count": 47,
     "metadata": {},
     "output_type": "execute_result"
    }
   ],
   "source": [
    "df.set_index(df['Unnamed: 0'],drop=True,inplace=True)\n",
    "df = df.iloc[:,1:]\n",
    "df.head()"
   ]
  },
  {
   "cell_type": "code",
   "execution_count": 48,
   "metadata": {},
   "outputs": [
    {
     "name": "stdout",
     "output_type": "stream",
     "text": [
      "<class 'pandas.core.frame.DataFrame'>\n",
      "Index: 3149 entries, 2004-11-29 to 2019-03-01\n",
      "Data columns (total 10 columns):\n",
      "eur/usd     3149 non-null float64\n",
      "gpb/usd     3149 non-null float64\n",
      "usd/jpy     3149 non-null float64\n",
      "tlt         3149 non-null float64\n",
      "vix         3149 non-null float64\n",
      "gold        3149 non-null float64\n",
      "Open_spy    3149 non-null float64\n",
      "High_spy    3149 non-null float64\n",
      "Low_spy     3149 non-null float64\n",
      "SPY         3149 non-null float64\n",
      "dtypes: float64(10)\n",
      "memory usage: 270.6+ KB\n"
     ]
    }
   ],
   "source": [
    "df.info()"
   ]
  },
  {
   "cell_type": "code",
   "execution_count": 49,
   "metadata": {},
   "outputs": [
    {
     "data": {
      "text/plain": [
       "(3149, 10)"
      ]
     },
     "execution_count": 49,
     "metadata": {},
     "output_type": "execute_result"
    }
   ],
   "source": [
    "df.shape"
   ]
  },
  {
   "cell_type": "code",
   "execution_count": 50,
   "metadata": {},
   "outputs": [
    {
     "data": {
      "text/plain": [
       "3149"
      ]
     },
     "execution_count": 50,
     "metadata": {},
     "output_type": "execute_result"
    }
   ],
   "source": [
    "df.shape[0]"
   ]
  },
  {
   "cell_type": "code",
   "execution_count": 51,
   "metadata": {},
   "outputs": [
    {
     "name": "stdout",
     "output_type": "stream",
     "text": [
      "Début de la boucle\n",
      "Boucle terminée\n",
      "La long target était fixée à  3\n",
      "La short target était fixée à  -1\n",
      "La règle était qu'une des 5 periodes d'avant était inférieure ou supérieure à la target (long ou short)\n",
      "Il y a eu  3149  périodes testées\n",
      "Durant cette période, 1100  long et  771  short\n",
      "Les gains totaux s'élèvent à : 5196795.48\n"
     ]
    }
   ],
   "source": [
    "long_list = []\n",
    "short_list = []\n",
    "equity_list = []\n",
    "var_long_list = []\n",
    "var_short_list = []\n",
    "candle_close = 0\n",
    "candle_close_1 = 0\n",
    "candle_close_2 = 0\n",
    "candle_close_3 = 0\n",
    "candle_close_4 = 0\n",
    "candle_close_5 = 0\n",
    "candle_open = 0\n",
    "candle_high = 0\n",
    "candle_low = 0\n",
    "n=0\n",
    "c = 0\n",
    "cc = 0\n",
    "long_target = 3\n",
    "short_target = - 1\n",
    "\n",
    "equity = 100000\n",
    "print('Début de la boucle')\n",
    "\n",
    "import sys\n",
    "orig_stdout = sys.stdout\n",
    "f = open('OUt_rules.txt', 'w')\n",
    "sys.stdout = f\n",
    "\n",
    "\n",
    "for i in range(5,df.shape[0]-1):\n",
    "    print('\\nCompteur de ligne :',i)\n",
    "    print('Date :',df.index[i])\n",
    "    c+=1\n",
    "    \n",
    "    candle_close = float(df.iloc[i,9])\n",
    "    candle_close_1 = float(df.iloc[i-1,9])\n",
    "    print('candle_close_1',candle_close_1)\n",
    "    candle_close_2 = float(df.iloc[i-2,9])\n",
    "    candle_close_3 = float(df.iloc[i-3,9])\n",
    "    candle_close_4 = float(df.iloc[i-4,9])\n",
    "    candle_close_5 = float(df.iloc[i-5,9])\n",
    "    candle_open = float(df.iloc[i,6])\n",
    "    candle_high = float(df.iloc[i,7])\n",
    "    candle_low = float(df.iloc[i,8])\n",
    "    \n",
    "    var1 = candle_open - candle_close_1\n",
    "    var2 = candle_open - candle_close_2\n",
    "    var3 = candle_open - candle_close_3\n",
    "    var4 = candle_open - candle_close_4\n",
    "    var5 = candle_open - candle_close_5\n",
    "    \n",
    "    if var1 > long_target or var2 > long_target or\\\n",
    "    var3 > long_target or var4 > long_target or var5 > long_target:\n",
    "        var_long_list.append(var1)\n",
    "        var_long_list.append(var2)\n",
    "        var_long_list.append(var3)\n",
    "        var_long_list.append(var4)\n",
    "        var_long_list.append(var5)\n",
    "        print('\\nDate :',df.index[i])\n",
    "        print('Long effectué, :',var1,', ',var2,', ',var3,', ',var4)\n",
    "        print('open actuel',float(df.iloc[i,6]))\n",
    "        n = round(100000/candle_open)\n",
    "        print('n ',n)\n",
    "        print(\"les 4 close d'avant\",\\\n",
    "              float(df.iloc[i-1,9]),float(df.iloc[i-2,9]),float(df.iloc[i-3,9]),\\\n",
    "              float(df.iloc[i-4,9]),float(df.iloc[i-5,9]))\n",
    "        print('Max ',max(var_long_list))\n",
    "        print('pnl :',max(var_long_list)*n)\n",
    "        equity = equity -(n/100) + max(var_long_list)*n\n",
    "        print('Nouvel equity :',equity)\n",
    "        long_list.append(1)\n",
    "        short_list.append(0)\n",
    "        equity_list.append(equity)\n",
    "        cc+=1\n",
    "        var_long_list = []\n",
    "    \n",
    "    elif var1< short_target or var2 < short_target or \\\n",
    "    var3 < short_target or var4 < short_target or var5 < short_target:\n",
    "        var_short_list.append(var1)\n",
    "        var_short_list.append(var2)\n",
    "        var_short_list.append(var3)\n",
    "        var_short_list.append(var4)\n",
    "        var_short_list.append(var5)\n",
    "        print('\\nDate :',df.index[i])\n",
    "        print('Short effectué :',var1,', ',var2,', ',var3,', ',var4)\n",
    "        print('open actuel',float(df.iloc[i,6]))\n",
    "        n = round(100000/candle_open)\n",
    "        print('n ',n)\n",
    "        print(\"les 4 close d'avant\",\\\n",
    "              float(df.iloc[i-1,9]),float(df.iloc[i-2,9]),float(df.iloc[i-3,9]),\\\n",
    "              float(df.iloc[i-4,9]),float(df.iloc[i-5,9]))\n",
    "        print('Min ',-min(var_short_list))\n",
    "        print('pnl :', - min(var_short_list)*n)\n",
    "        equity = equity -n/100 - min(var_short_list)*n\n",
    "        print('Nouvel equity :',equity)\n",
    "        short_list.append(1)\n",
    "        long_list.append(0)\n",
    "        equity_list.append(equity)\n",
    "        cc+=1\n",
    "        var_short_list = []\n",
    "    \n",
    "    else :\n",
    "        print('\\nDate :',df.index[0])\n",
    "        print('Il ne se passe rien')\n",
    "        short_list.append(0)\n",
    "        long_list.append(0)\n",
    "        equity_list.append(equity)\n",
    "        cc+=1\n",
    "\n",
    "\n",
    "print('Boucle terminée')\n",
    "print('La long target était fixée à ',long_target)\n",
    "print('La short target était fixée à ',short_target)\n",
    "print('La règle était 4 périodes consécutives au dessus de long ou au dessous de short')\n",
    "print('Il y a eu ',df.shape[0],' périodes testées')\n",
    "print('Durant cette période,',sum(long_list),' long et ',sum(short_list),' short')\n",
    "print(\"Les gains totaux s'élèvent à :\",equity-100000 )\n",
    "    \n",
    "f.close()\n",
    "sys.stdout = orig_stdout\n",
    "\n",
    "\n",
    "print('Boucle terminée')\n",
    "print('La long target était fixée à ',long_target)\n",
    "print('La short target était fixée à ',short_target)\n",
    "print(\"La règle était qu'une des 5 periodes d'avant était inférieure ou supérieure à la target (long ou short)\")\n",
    "print('Il y a eu ',df.shape[0],' périodes testées')\n",
    "print('Durant cette période,',sum(long_list),' long et ',sum(short_list),' short')\n",
    "print(\"Les gains totaux s'élèvent à :\",round(equity-100000,2) )\n",
    "\n",
    "var_dtf = pd.DataFrame()\n",
    "var_dtf['Long'] = long_list\n",
    "var_dtf['Short'] = short_list\n",
    "var_dtf['Equity'] = equity_list\n",
    "\n",
    " \n",
    "    "
   ]
  },
  {
   "cell_type": "code",
   "execution_count": 52,
   "metadata": {},
   "outputs": [
    {
     "data": {
      "text/plain": [
       "(1871, 3143, 3143, 3143, 3143, 3143, 3149)"
      ]
     },
     "execution_count": 52,
     "metadata": {},
     "output_type": "execute_result"
    }
   ],
   "source": [
    "sum(short_list)+sum(long_list), c, cc, len(short_list),len(long_list),len(equity_list),len(df)"
   ]
  },
  {
   "cell_type": "code",
   "execution_count": 53,
   "metadata": {},
   "outputs": [
    {
     "data": {
      "text/plain": [
       "<matplotlib.legend.Legend at 0x11d741ac8>"
      ]
     },
     "execution_count": 53,
     "metadata": {},
     "output_type": "execute_result"
    },
    {
     "data": {
      "image/png": "[encoded data removed]",
      "text/plain": [
       "<Figure size 1152x432 with 1 Axes>"
      ]
     },
     "metadata": {
      "needs_background": "light"
     },
     "output_type": "display_data"
    }
   ],
   "source": [
    "plt.figure(figsize=(16,6))\n",
    "plt.plot(var_dtf['Long'],color='orange',label='Long')\n",
    "plt.plot(var_dtf['Short'],color='purple',label='Short')\n",
    "plt.axhline(y=long_target, color='cyan',linestyle='-', label='Long Target')\n",
    "plt.axhline(y=0, color='red',linestyle='--', label='Zéro')\n",
    "plt.axhline(y=short_target,color='cyan',label='Short Target')\n",
    "plt.legend()"
   ]
  },
  {
   "cell_type": "code",
   "execution_count": 54,
   "metadata": {},
   "outputs": [
    {
     "data": {
      "text/plain": [
       "<matplotlib.legend.Legend at 0x11e2d1518>"
      ]
     },
     "execution_count": 54,
     "metadata": {},
     "output_type": "execute_result"
    },
    {
     "data": {
      "image/png": "[encoded data removed]",
      "text/plain": [
       "<Figure size 1152x432 with 1 Axes>"
      ]
     },
     "metadata": {
      "needs_background": "light"
     },
     "output_type": "display_data"
    }
   ],
   "source": [
    "plt.figure(figsize=(16,6))\n",
    "plt.plot(var_dtf['Equity'],color='green',label='Equity')\n",
    "plt.axhline(y=100000., color='red',linestyle='-', label='mise de départ')\n",
    "plt.legend()"
   ]
  },
  {
   "cell_type": "code",
   "execution_count": 55,
   "metadata": {},
   "outputs": [
    {
     "data": {
      "text/plain": [
       "(3143, 3143, 3149)"
      ]
     },
     "execution_count": 55,
     "metadata": {},
     "output_type": "execute_result"
    }
   ],
   "source": [
    "len(short_list),len(long_list),len(df)"
   ]
  },
  {
   "cell_type": "code",
   "execution_count": 56,
   "metadata": {},
   "outputs": [],
   "source": [
    "df = df.iloc[5:(df.shape[0]-1),:]\n",
    "df['short'] = short_list\n",
    "df['long'] = long_list"
   ]
  },
  {
   "cell_type": "code",
   "execution_count": 57,
   "metadata": {},
   "outputs": [
    {
     "name": "stdout",
     "output_type": "stream",
     "text": [
      "Nombre de positions de long trouvées : 1100\n",
      "Nombre de positions short trouvées : 771\n",
      "Sur un total de  1871\n"
     ]
    }
   ],
   "source": [
    "print('Nombre de positions de long trouvées :',sum(long_list))\n",
    "print('Nombre de positions short trouvées :',sum(short_list))\n",
    "print('Sur un total de ',sum(short_list)+sum(long_list))"
   ]
  },
  {
   "cell_type": "code",
   "execution_count": 58,
   "metadata": {},
   "outputs": [
    {
     "name": "stdout",
     "output_type": "stream",
     "text": [
      "Sur un achat systématique, les gains représentent 29.76 %\n"
     ]
    }
   ],
   "source": [
    "print('Sur un achat systématique, les gains représentent',\\\n",
    "      round((sum(short_list)+sum(long_list))/(len(short_list)+len(long_list))*100,2),'%')"
   ]
  },
  {
   "cell_type": "code",
   "execution_count": 59,
   "metadata": {},
   "outputs": [],
   "source": [
    "#df['short'] = df['trend'].shift(-1)"
   ]
  },
  {
   "cell_type": "code",
   "execution_count": 60,
   "metadata": {},
   "outputs": [
    {
     "data": {
      "text/html": [
       "<div>\n",
       "<style scoped>\n",
       "    .dataframe tbody tr th:only-of-type {\n",
       "        vertical-align: middle;\n",
       "    }\n",
       "\n",
       "    .dataframe tbody tr th {\n",
       "        vertical-align: top;\n",
       "    }\n",
       "\n",
       "    .dataframe thead th {\n",
       "        text-align: right;\n",
       "    }\n",
       "</style>\n",
       "<table border=\"1\" class=\"dataframe\">\n",
       "  <thead>\n",
       "    <tr style=\"text-align: right;\">\n",
       "      <th></th>\n",
       "      <th>eur/usd</th>\n",
       "      <th>gpb/usd</th>\n",
       "      <th>usd/jpy</th>\n",
       "      <th>tlt</th>\n",
       "      <th>vix</th>\n",
       "      <th>gold</th>\n",
       "      <th>Open_spy</th>\n",
       "      <th>High_spy</th>\n",
       "      <th>Low_spy</th>\n",
       "      <th>SPY</th>\n",
       "      <th>short</th>\n",
       "      <th>long</th>\n",
       "    </tr>\n",
       "    <tr>\n",
       "      <th>Unnamed: 0</th>\n",
       "      <th></th>\n",
       "      <th></th>\n",
       "      <th></th>\n",
       "      <th></th>\n",
       "      <th></th>\n",
       "      <th></th>\n",
       "      <th></th>\n",
       "      <th></th>\n",
       "      <th></th>\n",
       "      <th></th>\n",
       "      <th></th>\n",
       "      <th></th>\n",
       "    </tr>\n",
       "  </thead>\n",
       "  <tbody>\n",
       "    <tr>\n",
       "      <th>2019-02-22</th>\n",
       "      <td>0.445047</td>\n",
       "      <td>0.511793</td>\n",
       "      <td>0.392466</td>\n",
       "      <td>0.430973</td>\n",
       "      <td>0.047894</td>\n",
       "      <td>0.444905</td>\n",
       "      <td>279.359985</td>\n",
       "      <td>277.399994</td>\n",
       "      <td>278.109985</td>\n",
       "      <td>279.140015</td>\n",
       "      <td>0</td>\n",
       "      <td>1</td>\n",
       "    </tr>\n",
       "    <tr>\n",
       "      <th>2019-02-25</th>\n",
       "      <td>0.445218</td>\n",
       "      <td>0.512841</td>\n",
       "      <td>0.392557</td>\n",
       "      <td>0.429547</td>\n",
       "      <td>0.052626</td>\n",
       "      <td>0.444290</td>\n",
       "      <td>281.309998</td>\n",
       "      <td>279.429993</td>\n",
       "      <td>280.730011</td>\n",
       "      <td>279.519989</td>\n",
       "      <td>0</td>\n",
       "      <td>1</td>\n",
       "    </tr>\n",
       "    <tr>\n",
       "      <th>2019-02-26</th>\n",
       "      <td>0.445251</td>\n",
       "      <td>0.514240</td>\n",
       "      <td>0.391767</td>\n",
       "      <td>0.429742</td>\n",
       "      <td>0.053519</td>\n",
       "      <td>0.443042</td>\n",
       "      <td>280.299988</td>\n",
       "      <td>278.899994</td>\n",
       "      <td>279.130005</td>\n",
       "      <td>279.320007</td>\n",
       "      <td>0</td>\n",
       "      <td>0</td>\n",
       "    </tr>\n",
       "    <tr>\n",
       "      <th>2019-02-27</th>\n",
       "      <td>0.445709</td>\n",
       "      <td>0.518729</td>\n",
       "      <td>0.391295</td>\n",
       "      <td>0.426242</td>\n",
       "      <td>0.052028</td>\n",
       "      <td>0.441320</td>\n",
       "      <td>279.589996</td>\n",
       "      <td>277.480011</td>\n",
       "      <td>278.519989</td>\n",
       "      <td>279.200012</td>\n",
       "      <td>0</td>\n",
       "      <td>0</td>\n",
       "    </tr>\n",
       "    <tr>\n",
       "      <th>2019-02-28</th>\n",
       "      <td>0.446032</td>\n",
       "      <td>0.521976</td>\n",
       "      <td>0.391959</td>\n",
       "      <td>0.424338</td>\n",
       "      <td>0.052256</td>\n",
       "      <td>0.438374</td>\n",
       "      <td>279.450012</td>\n",
       "      <td>278.320007</td>\n",
       "      <td>278.959991</td>\n",
       "      <td>278.679993</td>\n",
       "      <td>0</td>\n",
       "      <td>0</td>\n",
       "    </tr>\n",
       "  </tbody>\n",
       "</table>\n",
       "</div>"
      ],
      "text/plain": [
       "             eur/usd   gpb/usd   usd/jpy       tlt       vix      gold  \\\n",
       "Unnamed: 0                                                               \n",
       "2019-02-22  0.445047  0.511793  0.392466  0.430973  0.047894  0.444905   \n",
       "2019-02-25  0.445218  0.512841  0.392557  0.429547  0.052626  0.444290   \n",
       "2019-02-26  0.445251  0.514240  0.391767  0.429742  0.053519  0.443042   \n",
       "2019-02-27  0.445709  0.518729  0.391295  0.426242  0.052028  0.441320   \n",
       "2019-02-28  0.446032  0.521976  0.391959  0.424338  0.052256  0.438374   \n",
       "\n",
       "              Open_spy    High_spy     Low_spy         SPY  short  long  \n",
       "Unnamed: 0                                                               \n",
       "2019-02-22  279.359985  277.399994  278.109985  279.140015      0     1  \n",
       "2019-02-25  281.309998  279.429993  280.730011  279.519989      0     1  \n",
       "2019-02-26  280.299988  278.899994  279.130005  279.320007      0     0  \n",
       "2019-02-27  279.589996  277.480011  278.519989  279.200012      0     0  \n",
       "2019-02-28  279.450012  278.320007  278.959991  278.679993      0     0  "
      ]
     },
     "execution_count": 60,
     "metadata": {},
     "output_type": "execute_result"
    }
   ],
   "source": [
    "df.tail()"
   ]
  },
  {
   "cell_type": "code",
   "execution_count": 61,
   "metadata": {},
   "outputs": [
    {
     "data": {
      "text/html": [
       "<div>\n",
       "<style scoped>\n",
       "    .dataframe tbody tr th:only-of-type {\n",
       "        vertical-align: middle;\n",
       "    }\n",
       "\n",
       "    .dataframe tbody tr th {\n",
       "        vertical-align: top;\n",
       "    }\n",
       "\n",
       "    .dataframe thead th {\n",
       "        text-align: right;\n",
       "    }\n",
       "</style>\n",
       "<table border=\"1\" class=\"dataframe\">\n",
       "  <thead>\n",
       "    <tr style=\"text-align: right;\">\n",
       "      <th></th>\n",
       "      <th>eur/usd</th>\n",
       "      <th>gpb/usd</th>\n",
       "      <th>usd/jpy</th>\n",
       "      <th>tlt</th>\n",
       "      <th>vix</th>\n",
       "      <th>gold</th>\n",
       "      <th>Open_spy</th>\n",
       "      <th>High_spy</th>\n",
       "      <th>Low_spy</th>\n",
       "      <th>SPY</th>\n",
       "      <th>short</th>\n",
       "      <th>long</th>\n",
       "    </tr>\n",
       "    <tr>\n",
       "      <th>Unnamed: 0</th>\n",
       "      <th></th>\n",
       "      <th></th>\n",
       "      <th></th>\n",
       "      <th></th>\n",
       "      <th></th>\n",
       "      <th></th>\n",
       "      <th></th>\n",
       "      <th></th>\n",
       "      <th></th>\n",
       "      <th></th>\n",
       "      <th></th>\n",
       "      <th></th>\n",
       "    </tr>\n",
       "  </thead>\n",
       "  <tbody>\n",
       "    <tr>\n",
       "      <th>2019-02-22</th>\n",
       "      <td>0.445047</td>\n",
       "      <td>0.511793</td>\n",
       "      <td>0.392466</td>\n",
       "      <td>0.430973</td>\n",
       "      <td>0.047894</td>\n",
       "      <td>0.444905</td>\n",
       "      <td>279.359985</td>\n",
       "      <td>277.399994</td>\n",
       "      <td>278.109985</td>\n",
       "      <td>279.140015</td>\n",
       "      <td>0</td>\n",
       "      <td>1</td>\n",
       "    </tr>\n",
       "    <tr>\n",
       "      <th>2019-02-25</th>\n",
       "      <td>0.445218</td>\n",
       "      <td>0.512841</td>\n",
       "      <td>0.392557</td>\n",
       "      <td>0.429547</td>\n",
       "      <td>0.052626</td>\n",
       "      <td>0.444290</td>\n",
       "      <td>281.309998</td>\n",
       "      <td>279.429993</td>\n",
       "      <td>280.730011</td>\n",
       "      <td>279.519989</td>\n",
       "      <td>0</td>\n",
       "      <td>1</td>\n",
       "    </tr>\n",
       "    <tr>\n",
       "      <th>2019-02-26</th>\n",
       "      <td>0.445251</td>\n",
       "      <td>0.514240</td>\n",
       "      <td>0.391767</td>\n",
       "      <td>0.429742</td>\n",
       "      <td>0.053519</td>\n",
       "      <td>0.443042</td>\n",
       "      <td>280.299988</td>\n",
       "      <td>278.899994</td>\n",
       "      <td>279.130005</td>\n",
       "      <td>279.320007</td>\n",
       "      <td>0</td>\n",
       "      <td>0</td>\n",
       "    </tr>\n",
       "    <tr>\n",
       "      <th>2019-02-27</th>\n",
       "      <td>0.445709</td>\n",
       "      <td>0.518729</td>\n",
       "      <td>0.391295</td>\n",
       "      <td>0.426242</td>\n",
       "      <td>0.052028</td>\n",
       "      <td>0.441320</td>\n",
       "      <td>279.589996</td>\n",
       "      <td>277.480011</td>\n",
       "      <td>278.519989</td>\n",
       "      <td>279.200012</td>\n",
       "      <td>0</td>\n",
       "      <td>0</td>\n",
       "    </tr>\n",
       "    <tr>\n",
       "      <th>2019-02-28</th>\n",
       "      <td>0.446032</td>\n",
       "      <td>0.521976</td>\n",
       "      <td>0.391959</td>\n",
       "      <td>0.424338</td>\n",
       "      <td>0.052256</td>\n",
       "      <td>0.438374</td>\n",
       "      <td>279.450012</td>\n",
       "      <td>278.320007</td>\n",
       "      <td>278.959991</td>\n",
       "      <td>278.679993</td>\n",
       "      <td>0</td>\n",
       "      <td>0</td>\n",
       "    </tr>\n",
       "  </tbody>\n",
       "</table>\n",
       "</div>"
      ],
      "text/plain": [
       "             eur/usd   gpb/usd   usd/jpy       tlt       vix      gold  \\\n",
       "Unnamed: 0                                                               \n",
       "2019-02-22  0.445047  0.511793  0.392466  0.430973  0.047894  0.444905   \n",
       "2019-02-25  0.445218  0.512841  0.392557  0.429547  0.052626  0.444290   \n",
       "2019-02-26  0.445251  0.514240  0.391767  0.429742  0.053519  0.443042   \n",
       "2019-02-27  0.445709  0.518729  0.391295  0.426242  0.052028  0.441320   \n",
       "2019-02-28  0.446032  0.521976  0.391959  0.424338  0.052256  0.438374   \n",
       "\n",
       "              Open_spy    High_spy     Low_spy         SPY  short  long  \n",
       "Unnamed: 0                                                               \n",
       "2019-02-22  279.359985  277.399994  278.109985  279.140015      0     1  \n",
       "2019-02-25  281.309998  279.429993  280.730011  279.519989      0     1  \n",
       "2019-02-26  280.299988  278.899994  279.130005  279.320007      0     0  \n",
       "2019-02-27  279.589996  277.480011  278.519989  279.200012      0     0  \n",
       "2019-02-28  279.450012  278.320007  278.959991  278.679993      0     0  "
      ]
     },
     "execution_count": 61,
     "metadata": {},
     "output_type": "execute_result"
    }
   ],
   "source": [
    "df = df.dropna()\n",
    "df.tail()"
   ]
  },
  {
   "cell_type": "code",
   "execution_count": 62,
   "metadata": {},
   "outputs": [
    {
     "data": {
      "text/plain": [
       "(771, 1100)"
      ]
     },
     "execution_count": 62,
     "metadata": {},
     "output_type": "execute_result"
    }
   ],
   "source": [
    "df['short'].sum(),df['long'].sum()"
   ]
  },
  {
   "cell_type": "code",
   "execution_count": 63,
   "metadata": {},
   "outputs": [],
   "source": [
    "df.to_csv('dataset_ready_to_use.csv')"
   ]
  },
  {
   "cell_type": "code",
   "execution_count": null,
   "metadata": {},
   "outputs": [],
   "source": []
  },
  {
   "cell_type": "code",
   "execution_count": null,
   "metadata": {},
   "outputs": [],
   "source": []
  }
 ],
 "metadata": {
  "kernelspec": {
   "display_name": "Python 3",
   "language": "python",
   "name": "python3"
  },
  "language_info": {
   "codemirror_mode": {
    "name": "ipython",
    "version": 3
   },
   "file_extension": ".py",
   "mimetype": "text/x-python",
   "name": "python",
   "nbconvert_exporter": "python",
   "pygments_lexer": "ipython3",
   "version": "3.6.8"
  }
 },
 "nbformat": 4,
 "nbformat_minor": 2
}
