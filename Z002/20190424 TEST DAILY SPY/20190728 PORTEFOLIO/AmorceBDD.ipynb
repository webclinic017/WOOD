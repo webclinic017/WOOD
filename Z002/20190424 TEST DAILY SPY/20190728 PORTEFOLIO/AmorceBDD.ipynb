{
 "cells": [
  {
   "cell_type": "code",
   "execution_count": null,
   "metadata": {},
   "outputs": [],
   "source": [
    "print('Importing Librairies...')\n",
    "import numpy as np\n",
    "import pandas as pd\n",
    "import pandas_datareader as web\n",
    "import time\n",
    "import datetime as dt\n",
    "\n",
    "print('Librairies imported')\n",
    "print('')\n",
    "\n",
    "\n",
    "\n",
    "print('')\n",
    "print('Sraping tickers')\n",
    "constituents = pd.read_csv('constituents_csv.csv')\n",
    "print('Scrap -----> ok')\n",
    "# PARAMETRES TEMPORELS INITIAUX\n",
    "start = pd.to_datetime('2015-03-03')\n",
    "end = pd.to_datetime('2015-06-21')\n",
    "gnagna = []\n",
    "base_clean = []\n",
    "\n",
    "for loop in range(0,len(constituents)):\n",
    "    try:\n",
    "        ticker = constituents.iloc[loop,0]\n",
    "        print('Loop : ',loop ,'Ticker : ',ticker)\n",
    "        df = web.DataReader(ticker,'yahoo',start,end)\n",
    "        df = df.drop(['Close'],axis=1)\n",
    "        df['Close'] = df['Adj Close']\n",
    "        df = df.drop(['Adj Close'],axis = 1)\n",
    "        df.to_csv('Base_'+ticker+'.csv')\n",
    "        base_clean.append(ticker)\n",
    "    except:\n",
    "        gnagna.append(ticker)\n",
    "        print('Probleme au ticker : ', ticker)\n",
    "\n",
    "df_base_clean = pd.DataFrame()\n",
    "df_base_clean['Base Clean'] = base_clean\n",
    "df_gnagna = pd.DataFrame()\n",
    "df_gnagna['Tapadijip'] = gnagna\n",
    "base_clean.to_csv('BaseClean.csv')\n",
    "gnagna.to_csv('BasePb.csv')"
   ]
  }
 ],
 "metadata": {
  "kernelspec": {
   "display_name": "Python 3",
   "language": "python",
   "name": "python3"
  },
  "language_info": {
   "codemirror_mode": {
    "name": "ipython",
    "version": 3
   },
   "file_extension": ".py",
   "mimetype": "text/x-python",
   "name": "python",
   "nbconvert_exporter": "python",
   "pygments_lexer": "ipython3",
   "version": "3.6.8"
  }
 },
 "nbformat": 4,
 "nbformat_minor": 2
}
