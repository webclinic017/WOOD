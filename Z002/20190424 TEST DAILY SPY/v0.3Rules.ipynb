{
 "cells": [
  {
   "cell_type": "code",
   "execution_count": 43,
   "metadata": {},
   "outputs": [],
   "source": [
    "___Author___='LumberJack Jyss'"
   ]
  },
  {
   "cell_type": "code",
   "execution_count": 44,
   "metadata": {},
   "outputs": [
    {
     "name": "stdout",
     "output_type": "stream",
     "text": [
      "LumberJack BRUTAL AtidotCom TREND RULES\n",
      "LumberJack Jyss (c)\n"
     ]
    }
   ],
   "source": [
    "print('LumberJack BRUTAL AtidotCom TREND RULES\\nLumberJack Jyss (c)')"
   ]
  },
  {
   "cell_type": "code",
   "execution_count": 45,
   "metadata": {},
   "outputs": [
    {
     "name": "stdout",
     "output_type": "stream",
     "text": [
      "Importation des librairies\n",
      "librairies importées\n"
     ]
    }
   ],
   "source": [
    "print('Importation des librairies')\n",
    "import pandas as pd\n",
    "import numpy as np\n",
    "import talib\n",
    "import pandas_datareader as web\n",
    "import matplotlib\n",
    "import matplotlib.pyplot as plt\n",
    "%matplotlib inline\n",
    "print('librairies importées')"
   ]
  },
  {
   "cell_type": "code",
   "execution_count": 46,
   "metadata": {},
   "outputs": [],
   "source": [
    "# PARAMETRES TEMPORELS INITIAUX\n",
    "start = pd.to_datetime('1997-03-03')\n",
    "end = pd.to_datetime('2019-04-10')"
   ]
  },
  {
   "cell_type": "code",
   "execution_count": 47,
   "metadata": {},
   "outputs": [],
   "source": [
    "# SCRAPING DES DONNES BRUTES\n",
    "spy = web.DataReader('SPY','yahoo',start,end)"
   ]
  },
  {
   "cell_type": "code",
   "execution_count": 48,
   "metadata": {},
   "outputs": [
    {
     "data": {
      "text/html": [
       "<div>\n",
       "<style scoped>\n",
       "    .dataframe tbody tr th:only-of-type {\n",
       "        vertical-align: middle;\n",
       "    }\n",
       "\n",
       "    .dataframe tbody tr th {\n",
       "        vertical-align: top;\n",
       "    }\n",
       "\n",
       "    .dataframe thead th {\n",
       "        text-align: right;\n",
       "    }\n",
       "</style>\n",
       "<table border=\"1\" class=\"dataframe\">\n",
       "  <thead>\n",
       "    <tr style=\"text-align: right;\">\n",
       "      <th></th>\n",
       "      <th>High</th>\n",
       "      <th>Low</th>\n",
       "      <th>Open</th>\n",
       "      <th>Close</th>\n",
       "      <th>Volume</th>\n",
       "      <th>Adj Close</th>\n",
       "    </tr>\n",
       "    <tr>\n",
       "      <th>Date</th>\n",
       "      <th></th>\n",
       "      <th></th>\n",
       "      <th></th>\n",
       "      <th></th>\n",
       "      <th></th>\n",
       "      <th></th>\n",
       "    </tr>\n",
       "  </thead>\n",
       "  <tbody>\n",
       "    <tr>\n",
       "      <th>1997-03-03</th>\n",
       "      <td>79.750000</td>\n",
       "      <td>78.687500</td>\n",
       "      <td>78.750000</td>\n",
       "      <td>79.687500</td>\n",
       "      <td>1210400.0</td>\n",
       "      <td>53.450661</td>\n",
       "    </tr>\n",
       "    <tr>\n",
       "      <th>1997-03-04</th>\n",
       "      <td>80.125000</td>\n",
       "      <td>79.093697</td>\n",
       "      <td>79.906197</td>\n",
       "      <td>79.250000</td>\n",
       "      <td>1478700.0</td>\n",
       "      <td>53.157196</td>\n",
       "    </tr>\n",
       "    <tr>\n",
       "      <th>1997-03-05</th>\n",
       "      <td>80.593697</td>\n",
       "      <td>79.453102</td>\n",
       "      <td>79.718697</td>\n",
       "      <td>80.593697</td>\n",
       "      <td>1254800.0</td>\n",
       "      <td>54.058502</td>\n",
       "    </tr>\n",
       "    <tr>\n",
       "      <th>1997-03-06</th>\n",
       "      <td>80.906197</td>\n",
       "      <td>79.875000</td>\n",
       "      <td>80.625000</td>\n",
       "      <td>80.125000</td>\n",
       "      <td>1528500.0</td>\n",
       "      <td>53.744110</td>\n",
       "    </tr>\n",
       "    <tr>\n",
       "      <th>1997-03-07</th>\n",
       "      <td>81.156197</td>\n",
       "      <td>80.250000</td>\n",
       "      <td>80.437500</td>\n",
       "      <td>80.843697</td>\n",
       "      <td>1859300.0</td>\n",
       "      <td>54.226185</td>\n",
       "    </tr>\n",
       "  </tbody>\n",
       "</table>\n",
       "</div>"
      ],
      "text/plain": [
       "                 High        Low       Open      Close     Volume  Adj Close\n",
       "Date                                                                        \n",
       "1997-03-03  79.750000  78.687500  78.750000  79.687500  1210400.0  53.450661\n",
       "1997-03-04  80.125000  79.093697  79.906197  79.250000  1478700.0  53.157196\n",
       "1997-03-05  80.593697  79.453102  79.718697  80.593697  1254800.0  54.058502\n",
       "1997-03-06  80.906197  79.875000  80.625000  80.125000  1528500.0  53.744110\n",
       "1997-03-07  81.156197  80.250000  80.437500  80.843697  1859300.0  54.226185"
      ]
     },
     "execution_count": 48,
     "metadata": {},
     "output_type": "execute_result"
    }
   ],
   "source": [
    "spy.head()"
   ]
  },
  {
   "cell_type": "code",
   "execution_count": 49,
   "metadata": {},
   "outputs": [
    {
     "name": "stdout",
     "output_type": "stream",
     "text": [
      "<class 'pandas.core.frame.DataFrame'>\n",
      "DatetimeIndex: 5564 entries, 1997-03-03 to 2019-04-10\n",
      "Data columns (total 6 columns):\n",
      "High         5564 non-null float64\n",
      "Low          5564 non-null float64\n",
      "Open         5564 non-null float64\n",
      "Close        5564 non-null float64\n",
      "Volume       5564 non-null float64\n",
      "Adj Close    5564 non-null float64\n",
      "dtypes: float64(6)\n",
      "memory usage: 304.3 KB\n"
     ]
    }
   ],
   "source": [
    "spy.info()"
   ]
  },
  {
   "cell_type": "code",
   "execution_count": 50,
   "metadata": {},
   "outputs": [
    {
     "data": {
      "text/plain": [
       "(5564, 6)"
      ]
     },
     "execution_count": 50,
     "metadata": {},
     "output_type": "execute_result"
    }
   ],
   "source": [
    "spy.shape"
   ]
  },
  {
   "cell_type": "code",
   "execution_count": 51,
   "metadata": {},
   "outputs": [],
   "source": [
    "# DEFINITION DU DATAFRAME DES SIMANIM\n",
    "simanim = pd.DataFrame(index=spy.index)"
   ]
  },
  {
   "cell_type": "code",
   "execution_count": 52,
   "metadata": {},
   "outputs": [],
   "source": [
    "# DEFINITIONS DES SIMANIM\n",
    "\n",
    "# ema8 = talib.EMA(spy['Close'], timeperiod=8) # => Coorelation\n",
    "# simanim['ema8'] = ema8\n",
    "\n",
    "# ema34 = talib.EMA(spy['Close'], timeperiod=34) # => Coorelation\n",
    "# simanim['ema34'] = ema34\n",
    "\n",
    "#atr8 = talib.EMA(spy['Close'], timeperiod=8) # => Coorelation\n",
    "#simanim['atr8'] = atr8\n",
    "\n",
    "rsi = talib.RSI(spy['Close'], timeperiod=21)\n",
    "simanim['rsi'] = rsi\n",
    "\n",
    "macd, macdsignal, macdhist = talib.MACD(spy['Close'], fastperiod=12, slowperiod=26, signalperiod=9)\n",
    "#simanim['macd'] = macd\n",
    "#simanim['macdsignal'] = macdsignal\n",
    "#simanim['macdhist'] = macdhist\n",
    "\n",
    "fastk, fastd = talib.STOCHRSI(spy['Close'], timeperiod=14, fastk_period=5, fastd_period=3, fastd_matype=0)\n",
    "simanim['fastk'] = fastk\n",
    "#simanim['fastd'] = fastd\n",
    "\n",
    "# ad = talib.AD(spy['High'], spy['Low'], spy['Close'], spy['Volume']) # => Coorelation\n",
    "# simanim['ad'] = ad\n",
    "\n",
    "atr14 = talib.ATR(spy['High'], spy['Low'], spy['Close'], timeperiod=14)\n",
    "simanim['atr14'] = atr14\n",
    "\n",
    "wclprice = talib.WCLPRICE(spy['High'], spy['Low'], spy['Close'])\n",
    "simanim['wclprice'] = wclprice\n",
    "\n",
    "sine, leadsine = talib.HT_SINE(spy['Close'])\n",
    "simanim['sine'] = sine\n",
    "simanim['leadsine'] = leadsine\n",
    "\n",
    "#instant_trendline = talib.HT_TRENDLINE(spy['Close'])\n",
    "#simanim['instant_trendline'] = instant_trendline\n",
    "\n",
    "#midprice5 = talib.MIDPRICE(spy['High'],spy['Low'], timeperiod=5) # Correlation \n",
    "#simanim['midprice5'] = midprice5\n",
    "\n",
    "ultosc = talib.ULTOSC(spy['High'], spy['Low'], spy['Close'], timeperiod1=5, timeperiod2=9, timeperiod3=13)\n",
    "simanim['ultosc'] = ultosc\n",
    "\n",
    "#obv = talib.OBV(spy['Close'], spy['Volume'])\n",
    "#simanim['obv'] = obv\n",
    "\n",
    "#ht_trendmode = talib.HT_TRENDMODE(spy['Close'])\n",
    "#simanim['ht_trendmode'] = ht_trendmode\n",
    "simanim['Volume_Spy'] = spy['Volume']\n",
    "simanim['Close_Spy'] = spy['Close']"
   ]
  },
  {
   "cell_type": "code",
   "execution_count": 53,
   "metadata": {},
   "outputs": [],
   "source": [
    "simanim = simanim.dropna()"
   ]
  },
  {
   "cell_type": "code",
   "execution_count": 54,
   "metadata": {},
   "outputs": [
    {
     "data": {
      "text/html": [
       "<div>\n",
       "<style scoped>\n",
       "    .dataframe tbody tr th:only-of-type {\n",
       "        vertical-align: middle;\n",
       "    }\n",
       "\n",
       "    .dataframe tbody tr th {\n",
       "        vertical-align: top;\n",
       "    }\n",
       "\n",
       "    .dataframe thead th {\n",
       "        text-align: right;\n",
       "    }\n",
       "</style>\n",
       "<table border=\"1\" class=\"dataframe\">\n",
       "  <thead>\n",
       "    <tr style=\"text-align: right;\">\n",
       "      <th></th>\n",
       "      <th>rsi</th>\n",
       "      <th>fastk</th>\n",
       "      <th>atr14</th>\n",
       "      <th>wclprice</th>\n",
       "      <th>sine</th>\n",
       "      <th>leadsine</th>\n",
       "      <th>ultosc</th>\n",
       "      <th>Volume_Spy</th>\n",
       "      <th>Close_Spy</th>\n",
       "    </tr>\n",
       "    <tr>\n",
       "      <th>Date</th>\n",
       "      <th></th>\n",
       "      <th></th>\n",
       "      <th></th>\n",
       "      <th></th>\n",
       "      <th></th>\n",
       "      <th></th>\n",
       "      <th></th>\n",
       "      <th></th>\n",
       "      <th></th>\n",
       "    </tr>\n",
       "  </thead>\n",
       "  <tbody>\n",
       "    <tr>\n",
       "      <th>1997-06-02</th>\n",
       "      <td>61.016745</td>\n",
       "      <td>0.000000</td>\n",
       "      <td>1.320350</td>\n",
       "      <td>84.945272</td>\n",
       "      <td>-0.545650</td>\n",
       "      <td>-0.978398</td>\n",
       "      <td>59.832475</td>\n",
       "      <td>1479100.0</td>\n",
       "      <td>84.781197</td>\n",
       "    </tr>\n",
       "    <tr>\n",
       "      <th>1997-06-03</th>\n",
       "      <td>59.756457</td>\n",
       "      <td>0.000000</td>\n",
       "      <td>1.304168</td>\n",
       "      <td>84.695299</td>\n",
       "      <td>-0.551399</td>\n",
       "      <td>-0.979796</td>\n",
       "      <td>51.133164</td>\n",
       "      <td>1562100.0</td>\n",
       "      <td>84.500000</td>\n",
       "    </tr>\n",
       "    <tr>\n",
       "      <th>1997-06-04</th>\n",
       "      <td>59.327244</td>\n",
       "      <td>0.000000</td>\n",
       "      <td>1.259006</td>\n",
       "      <td>84.410124</td>\n",
       "      <td>-0.941049</td>\n",
       "      <td>-0.904616</td>\n",
       "      <td>49.648307</td>\n",
       "      <td>1063100.0</td>\n",
       "      <td>84.406197</td>\n",
       "    </tr>\n",
       "    <tr>\n",
       "      <th>1997-06-05</th>\n",
       "      <td>60.324107</td>\n",
       "      <td>29.233467</td>\n",
       "      <td>1.233813</td>\n",
       "      <td>84.792923</td>\n",
       "      <td>-0.940331</td>\n",
       "      <td>-0.905515</td>\n",
       "      <td>50.880544</td>\n",
       "      <td>1180800.0</td>\n",
       "      <td>84.718697</td>\n",
       "    </tr>\n",
       "    <tr>\n",
       "      <th>1997-06-06</th>\n",
       "      <td>65.086300</td>\n",
       "      <td>100.000000</td>\n",
       "      <td>1.277383</td>\n",
       "      <td>85.945299</td>\n",
       "      <td>-0.939121</td>\n",
       "      <td>-0.907011</td>\n",
       "      <td>53.857315</td>\n",
       "      <td>1511100.0</td>\n",
       "      <td>86.375000</td>\n",
       "    </tr>\n",
       "  </tbody>\n",
       "</table>\n",
       "</div>"
      ],
      "text/plain": [
       "                  rsi       fastk     atr14   wclprice      sine  leadsine  \\\n",
       "Date                                                                         \n",
       "1997-06-02  61.016745    0.000000  1.320350  84.945272 -0.545650 -0.978398   \n",
       "1997-06-03  59.756457    0.000000  1.304168  84.695299 -0.551399 -0.979796   \n",
       "1997-06-04  59.327244    0.000000  1.259006  84.410124 -0.941049 -0.904616   \n",
       "1997-06-05  60.324107   29.233467  1.233813  84.792923 -0.940331 -0.905515   \n",
       "1997-06-06  65.086300  100.000000  1.277383  85.945299 -0.939121 -0.907011   \n",
       "\n",
       "               ultosc  Volume_Spy  Close_Spy  \n",
       "Date                                          \n",
       "1997-06-02  59.832475   1479100.0  84.781197  \n",
       "1997-06-03  51.133164   1562100.0  84.500000  \n",
       "1997-06-04  49.648307   1063100.0  84.406197  \n",
       "1997-06-05  50.880544   1180800.0  84.718697  \n",
       "1997-06-06  53.857315   1511100.0  86.375000  "
      ]
     },
     "execution_count": 54,
     "metadata": {},
     "output_type": "execute_result"
    }
   ],
   "source": [
    "simanim.head()"
   ]
  },
  {
   "cell_type": "code",
   "execution_count": 55,
   "metadata": {},
   "outputs": [],
   "source": [
    "##### SANS NORMALIZE DES DATA"
   ]
  },
  {
   "cell_type": "code",
   "execution_count": null,
   "metadata": {},
   "outputs": [],
   "source": []
  },
  {
   "cell_type": "code",
   "execution_count": 56,
   "metadata": {},
   "outputs": [],
   "source": [
    "df = simanim"
   ]
  },
  {
   "cell_type": "code",
   "execution_count": 57,
   "metadata": {},
   "outputs": [
    {
     "name": "stdout",
     "output_type": "stream",
     "text": [
      "Début de la boucle\n",
      "Boucle terminée\n",
      "La long target était fixée à  0.3\n",
      "La short target était fixée à  -0.3\n",
      "La règle était 4 périodes consécutives au dessus de long ou au dessous de short, en x2, x3, x4, x4\n",
      "Il y a eu  5501  périodes testées\n",
      "Durant cette période, 1497  long et  3154  short\n",
      "Les gains totaux s'élèvent à : 4332356370.18\n"
     ]
    }
   ],
   "source": [
    "long_list = []\n",
    "short_list = []\n",
    "equity_list = []\n",
    "c = 0\n",
    "cc = 0\n",
    "long_target = 0.3\n",
    "short_target = - 0.3\n",
    "\n",
    "equity = 100000\n",
    "print('Début de la boucle')\n",
    "\n",
    "import sys\n",
    "orig_stdout = sys.stdout\n",
    "f = open('Rules_v0_3.txt', 'w')\n",
    "sys.stdout = f\n",
    "\n",
    "\n",
    "for i in range(0,df.shape[0]):\n",
    "    print('\\nCompteur de ligne :',i)\n",
    "    print('Date :',df.iloc[i,0])\n",
    "    c+=1\n",
    "    \n",
    "    candle_close = float(df.iloc[i,8])\n",
    "    candle_close_1 = float(df.iloc[i-1,8])\n",
    "    candle_close_2 = float(df.iloc[i-2,8])\n",
    "    candle_close_3 = float(df.iloc[i-3,8])\n",
    "    candle_close_4 = float(df.iloc[i-4,8])\n",
    "    candle_open = float(spy.iloc[i,2])\n",
    "    candle_high = float(spy.iloc[i,0])\n",
    "    candle_low = float(spy.iloc[i,0])\n",
    "    \n",
    "    var1 = candle_open - candle_close_1\n",
    "    var2 = candle_open - candle_close_2\n",
    "    var3 = candle_open - candle_close_3\n",
    "    var4 = candle_open - candle_close_4\n",
    "    \n",
    "    if var1 > long_target*2 and var2 > long_target*3 and\\\n",
    "    var3 > long_target*4 and var4 > long_target*4 :\n",
    "        print('\\nDate :',df.iloc[i,0])\n",
    "        print('Long effectué, pnl :',var1,', ',var2,', ',var3,', ',var4)\n",
    "        equity = equity -3 + var4*100000\n",
    "        print('Nouvel equity :')\n",
    "        long_list.append(1)\n",
    "        short_list.append(0)\n",
    "        equity_list.append(equity)\n",
    "        cc+=1\n",
    "    \n",
    "    elif var1< short_target*2 and var2 < short_target*3 and \\\n",
    "    var3 < short_target*4 and var4 < short_target*4:\n",
    "        print('\\nDate :',df.iloc[i,0])\n",
    "        print('Short effectué, pnl :',var1,', ',var2,', ',var3,', ',var4)\n",
    "        equity = equity -3 - var4*100000\n",
    "        print('Nouvel equity :')\n",
    "        short_list.append(1)\n",
    "        long_list.append(0)\n",
    "        equity_list.append(equity)\n",
    "        cc+=1\n",
    "    \n",
    "    else :\n",
    "        print('\\nDate :',df.iloc[i,0])\n",
    "        print('Il ne se passe rien')\n",
    "        short_list.append(0)\n",
    "        long_list.append(0)\n",
    "        equity_list.append(equity)\n",
    "        cc+=1\n",
    "\n",
    "\n",
    "print('Boucle terminée')\n",
    "print('La long target était fixée à ',long_target)\n",
    "print('La short target était fixée à ',short_target)\n",
    "print('La règle était 4 périodes consécutives au dessus de long ou au dessous de short')\n",
    "print('Il y a eu ',df.shape[0],' périodes testées')\n",
    "print('Durant cette période,',sum(long_list),' long et ',sum(short_list),' short')\n",
    "print(\"Les gains totaux s'élèvent à :\",equity-100000 )\n",
    "    \n",
    "f.close()\n",
    "sys.stdout = orig_stdout\n",
    "\n",
    "\n",
    "print('Boucle terminée')\n",
    "print('La long target était fixée à ',long_target)\n",
    "print('La short target était fixée à ',short_target)\n",
    "print('La règle était 4 périodes consécutives au dessus de long ou au dessous de short, en x2, x3, x4, x4')\n",
    "print('Il y a eu ',df.shape[0],' périodes testées')\n",
    "print('Durant cette période,',sum(long_list),' long et ',sum(short_list),' short')\n",
    "print(\"Les gains totaux s'élèvent à :\",round(equity-100000,2) )\n",
    "\n",
    "var_dtf = pd.DataFrame()\n",
    "var_dtf['Long'] = long_list\n",
    "var_dtf['Short'] = short_list\n",
    "var_dtf['Equity'] = equity_list\n",
    "\n",
    " \n",
    "    "
   ]
  },
  {
   "cell_type": "code",
   "execution_count": 58,
   "metadata": {},
   "outputs": [
    {
     "data": {
      "text/plain": [
       "(4651, 5501, 5501, 5501, 5501, 5501, 5501)"
      ]
     },
     "execution_count": 58,
     "metadata": {},
     "output_type": "execute_result"
    }
   ],
   "source": [
    "sum(short_list)+sum(long_list), c, cc, len(short_list),len(long_list),len(equity_list),len(df)"
   ]
  },
  {
   "cell_type": "code",
   "execution_count": 59,
   "metadata": {},
   "outputs": [
    {
     "data": {
      "text/plain": [
       "<matplotlib.legend.Legend at 0x11b9a2390>"
      ]
     },
     "execution_count": 59,
     "metadata": {},
     "output_type": "execute_result"
    },
    {
     "data": {
      "image/png": "[encoded data removed]",
      "text/plain": [
       "<Figure size 1152x432 with 1 Axes>"
      ]
     },
     "metadata": {
      "needs_background": "light"
     },
     "output_type": "display_data"
    }
   ],
   "source": [
    "plt.figure(figsize=(16,6))\n",
    "plt.plot(var_dtf['Long'],color='orange',label='Long')\n",
    "plt.plot(var_dtf['Short'],color='purple',label='Short')\n",
    "plt.axhline(y=long_target, color='cyan',linestyle='-', label='Long Target')\n",
    "plt.axhline(y=0, color='red',linestyle='--', label='Zéro')\n",
    "plt.axhline(y=short_target,color='cyan',label='Short Target')\n",
    "plt.legend()"
   ]
  },
  {
   "cell_type": "code",
   "execution_count": 60,
   "metadata": {},
   "outputs": [
    {
     "data": {
      "text/plain": [
       "<matplotlib.legend.Legend at 0x1072b9d68>"
      ]
     },
     "execution_count": 60,
     "metadata": {},
     "output_type": "execute_result"
    },
    {
     "data": {
      "image/png": "[encoded data removed]",
      "text/plain": [
       "<Figure size 1152x432 with 1 Axes>"
      ]
     },
     "metadata": {
      "needs_background": "light"
     },
     "output_type": "display_data"
    }
   ],
   "source": [
    "plt.figure(figsize=(16,6))\n",
    "plt.plot(var_dtf['Equity'],color='green',label='Equity')\n",
    "plt.axhline(y=100000., color='red',linestyle='-', label='mise de départ')\n",
    "plt.legend()"
   ]
  },
  {
   "cell_type": "code",
   "execution_count": 61,
   "metadata": {},
   "outputs": [
    {
     "data": {
      "text/plain": [
       "(5501, 5501, 5501)"
      ]
     },
     "execution_count": 61,
     "metadata": {},
     "output_type": "execute_result"
    }
   ],
   "source": [
    "len(short_list),len(long_list),len(df)"
   ]
  },
  {
   "cell_type": "code",
   "execution_count": 62,
   "metadata": {},
   "outputs": [],
   "source": [
    "df['short'] = short_list\n",
    "df['long'] = long_list"
   ]
  },
  {
   "cell_type": "code",
   "execution_count": 63,
   "metadata": {},
   "outputs": [
    {
     "name": "stdout",
     "output_type": "stream",
     "text": [
      "Nombre de positions de long trouvées : 1497\n",
      "Nombre de positions short trouvées : 3154\n",
      "Sur un total de  4651\n"
     ]
    }
   ],
   "source": [
    "print('Nombre de positions de long trouvées :',sum(long_list))\n",
    "print('Nombre de positions short trouvées :',sum(short_list))\n",
    "print('Sur un total de ',sum(short_list)+sum(long_list))"
   ]
  },
  {
   "cell_type": "code",
   "execution_count": 64,
   "metadata": {},
   "outputs": [
    {
     "name": "stdout",
     "output_type": "stream",
     "text": [
      "Sur un achat systématique, les gains représentent 42.27 %\n"
     ]
    }
   ],
   "source": [
    "print('Sur un achat systématique, les gains représentent',\\\n",
    "      round((sum(short_list)+sum(long_list))/(len(short_list)+len(long_list))*100,2),'%')"
   ]
  },
  {
   "cell_type": "code",
   "execution_count": 65,
   "metadata": {},
   "outputs": [],
   "source": [
    "#df['short'] = df['trend'].shift(-1)"
   ]
  },
  {
   "cell_type": "code",
   "execution_count": 66,
   "metadata": {},
   "outputs": [
    {
     "data": {
      "text/html": [
       "<div>\n",
       "<style scoped>\n",
       "    .dataframe tbody tr th:only-of-type {\n",
       "        vertical-align: middle;\n",
       "    }\n",
       "\n",
       "    .dataframe tbody tr th {\n",
       "        vertical-align: top;\n",
       "    }\n",
       "\n",
       "    .dataframe thead th {\n",
       "        text-align: right;\n",
       "    }\n",
       "</style>\n",
       "<table border=\"1\" class=\"dataframe\">\n",
       "  <thead>\n",
       "    <tr style=\"text-align: right;\">\n",
       "      <th></th>\n",
       "      <th>rsi</th>\n",
       "      <th>fastk</th>\n",
       "      <th>atr14</th>\n",
       "      <th>wclprice</th>\n",
       "      <th>sine</th>\n",
       "      <th>leadsine</th>\n",
       "      <th>ultosc</th>\n",
       "      <th>Volume_Spy</th>\n",
       "      <th>Close_Spy</th>\n",
       "      <th>short</th>\n",
       "      <th>long</th>\n",
       "    </tr>\n",
       "    <tr>\n",
       "      <th>Date</th>\n",
       "      <th></th>\n",
       "      <th></th>\n",
       "      <th></th>\n",
       "      <th></th>\n",
       "      <th></th>\n",
       "      <th></th>\n",
       "      <th></th>\n",
       "      <th></th>\n",
       "      <th></th>\n",
       "      <th></th>\n",
       "      <th></th>\n",
       "    </tr>\n",
       "  </thead>\n",
       "  <tbody>\n",
       "    <tr>\n",
       "      <th>2019-04-04</th>\n",
       "      <td>64.518067</td>\n",
       "      <td>100.000000</td>\n",
       "      <td>2.633531</td>\n",
       "      <td>286.957497</td>\n",
       "      <td>-0.355686</td>\n",
       "      <td>-0.912374</td>\n",
       "      <td>69.905648</td>\n",
       "      <td>48997500.0</td>\n",
       "      <td>287.179993</td>\n",
       "      <td>1</td>\n",
       "      <td>0</td>\n",
       "    </tr>\n",
       "    <tr>\n",
       "      <th>2019-04-05</th>\n",
       "      <td>66.093390</td>\n",
       "      <td>100.000000</td>\n",
       "      <td>2.548994</td>\n",
       "      <td>288.342506</td>\n",
       "      <td>0.643083</td>\n",
       "      <td>-0.086772</td>\n",
       "      <td>72.140177</td>\n",
       "      <td>58621700.0</td>\n",
       "      <td>288.570007</td>\n",
       "      <td>1</td>\n",
       "      <td>0</td>\n",
       "    </tr>\n",
       "    <tr>\n",
       "      <th>2019-04-08</th>\n",
       "      <td>66.341732</td>\n",
       "      <td>100.000000</td>\n",
       "      <td>2.476923</td>\n",
       "      <td>288.465004</td>\n",
       "      <td>0.664463</td>\n",
       "      <td>-0.058589</td>\n",
       "      <td>71.105850</td>\n",
       "      <td>53566300.0</td>\n",
       "      <td>288.790009</td>\n",
       "      <td>1</td>\n",
       "      <td>0</td>\n",
       "    </tr>\n",
       "    <tr>\n",
       "      <th>2019-04-09</th>\n",
       "      <td>63.078304</td>\n",
       "      <td>0.000000</td>\n",
       "      <td>2.449286</td>\n",
       "      <td>287.349998</td>\n",
       "      <td>0.557507</td>\n",
       "      <td>-0.192803</td>\n",
       "      <td>64.039609</td>\n",
       "      <td>66142300.0</td>\n",
       "      <td>287.309998</td>\n",
       "      <td>1</td>\n",
       "      <td>0</td>\n",
       "    </tr>\n",
       "    <tr>\n",
       "      <th>2019-04-10</th>\n",
       "      <td>64.299314</td>\n",
       "      <td>34.326791</td>\n",
       "      <td>2.351481</td>\n",
       "      <td>288.070007</td>\n",
       "      <td>0.331124</td>\n",
       "      <td>-0.433077</td>\n",
       "      <td>72.585261</td>\n",
       "      <td>52601500.0</td>\n",
       "      <td>288.290009</td>\n",
       "      <td>1</td>\n",
       "      <td>0</td>\n",
       "    </tr>\n",
       "  </tbody>\n",
       "</table>\n",
       "</div>"
      ],
      "text/plain": [
       "                  rsi       fastk     atr14    wclprice      sine  leadsine  \\\n",
       "Date                                                                          \n",
       "2019-04-04  64.518067  100.000000  2.633531  286.957497 -0.355686 -0.912374   \n",
       "2019-04-05  66.093390  100.000000  2.548994  288.342506  0.643083 -0.086772   \n",
       "2019-04-08  66.341732  100.000000  2.476923  288.465004  0.664463 -0.058589   \n",
       "2019-04-09  63.078304    0.000000  2.449286  287.349998  0.557507 -0.192803   \n",
       "2019-04-10  64.299314   34.326791  2.351481  288.070007  0.331124 -0.433077   \n",
       "\n",
       "               ultosc  Volume_Spy   Close_Spy  short  long  \n",
       "Date                                                        \n",
       "2019-04-04  69.905648  48997500.0  287.179993      1     0  \n",
       "2019-04-05  72.140177  58621700.0  288.570007      1     0  \n",
       "2019-04-08  71.105850  53566300.0  288.790009      1     0  \n",
       "2019-04-09  64.039609  66142300.0  287.309998      1     0  \n",
       "2019-04-10  72.585261  52601500.0  288.290009      1     0  "
      ]
     },
     "execution_count": 66,
     "metadata": {},
     "output_type": "execute_result"
    }
   ],
   "source": [
    "df.tail()"
   ]
  },
  {
   "cell_type": "code",
   "execution_count": 67,
   "metadata": {},
   "outputs": [
    {
     "data": {
      "text/html": [
       "<div>\n",
       "<style scoped>\n",
       "    .dataframe tbody tr th:only-of-type {\n",
       "        vertical-align: middle;\n",
       "    }\n",
       "\n",
       "    .dataframe tbody tr th {\n",
       "        vertical-align: top;\n",
       "    }\n",
       "\n",
       "    .dataframe thead th {\n",
       "        text-align: right;\n",
       "    }\n",
       "</style>\n",
       "<table border=\"1\" class=\"dataframe\">\n",
       "  <thead>\n",
       "    <tr style=\"text-align: right;\">\n",
       "      <th></th>\n",
       "      <th>rsi</th>\n",
       "      <th>fastk</th>\n",
       "      <th>atr14</th>\n",
       "      <th>wclprice</th>\n",
       "      <th>sine</th>\n",
       "      <th>leadsine</th>\n",
       "      <th>ultosc</th>\n",
       "      <th>Volume_Spy</th>\n",
       "      <th>Close_Spy</th>\n",
       "      <th>short</th>\n",
       "      <th>long</th>\n",
       "    </tr>\n",
       "    <tr>\n",
       "      <th>Date</th>\n",
       "      <th></th>\n",
       "      <th></th>\n",
       "      <th></th>\n",
       "      <th></th>\n",
       "      <th></th>\n",
       "      <th></th>\n",
       "      <th></th>\n",
       "      <th></th>\n",
       "      <th></th>\n",
       "      <th></th>\n",
       "      <th></th>\n",
       "    </tr>\n",
       "  </thead>\n",
       "  <tbody>\n",
       "    <tr>\n",
       "      <th>2019-04-04</th>\n",
       "      <td>64.518067</td>\n",
       "      <td>100.000000</td>\n",
       "      <td>2.633531</td>\n",
       "      <td>286.957497</td>\n",
       "      <td>-0.355686</td>\n",
       "      <td>-0.912374</td>\n",
       "      <td>69.905648</td>\n",
       "      <td>48997500.0</td>\n",
       "      <td>287.179993</td>\n",
       "      <td>1</td>\n",
       "      <td>0</td>\n",
       "    </tr>\n",
       "    <tr>\n",
       "      <th>2019-04-05</th>\n",
       "      <td>66.093390</td>\n",
       "      <td>100.000000</td>\n",
       "      <td>2.548994</td>\n",
       "      <td>288.342506</td>\n",
       "      <td>0.643083</td>\n",
       "      <td>-0.086772</td>\n",
       "      <td>72.140177</td>\n",
       "      <td>58621700.0</td>\n",
       "      <td>288.570007</td>\n",
       "      <td>1</td>\n",
       "      <td>0</td>\n",
       "    </tr>\n",
       "    <tr>\n",
       "      <th>2019-04-08</th>\n",
       "      <td>66.341732</td>\n",
       "      <td>100.000000</td>\n",
       "      <td>2.476923</td>\n",
       "      <td>288.465004</td>\n",
       "      <td>0.664463</td>\n",
       "      <td>-0.058589</td>\n",
       "      <td>71.105850</td>\n",
       "      <td>53566300.0</td>\n",
       "      <td>288.790009</td>\n",
       "      <td>1</td>\n",
       "      <td>0</td>\n",
       "    </tr>\n",
       "    <tr>\n",
       "      <th>2019-04-09</th>\n",
       "      <td>63.078304</td>\n",
       "      <td>0.000000</td>\n",
       "      <td>2.449286</td>\n",
       "      <td>287.349998</td>\n",
       "      <td>0.557507</td>\n",
       "      <td>-0.192803</td>\n",
       "      <td>64.039609</td>\n",
       "      <td>66142300.0</td>\n",
       "      <td>287.309998</td>\n",
       "      <td>1</td>\n",
       "      <td>0</td>\n",
       "    </tr>\n",
       "    <tr>\n",
       "      <th>2019-04-10</th>\n",
       "      <td>64.299314</td>\n",
       "      <td>34.326791</td>\n",
       "      <td>2.351481</td>\n",
       "      <td>288.070007</td>\n",
       "      <td>0.331124</td>\n",
       "      <td>-0.433077</td>\n",
       "      <td>72.585261</td>\n",
       "      <td>52601500.0</td>\n",
       "      <td>288.290009</td>\n",
       "      <td>1</td>\n",
       "      <td>0</td>\n",
       "    </tr>\n",
       "  </tbody>\n",
       "</table>\n",
       "</div>"
      ],
      "text/plain": [
       "                  rsi       fastk     atr14    wclprice      sine  leadsine  \\\n",
       "Date                                                                          \n",
       "2019-04-04  64.518067  100.000000  2.633531  286.957497 -0.355686 -0.912374   \n",
       "2019-04-05  66.093390  100.000000  2.548994  288.342506  0.643083 -0.086772   \n",
       "2019-04-08  66.341732  100.000000  2.476923  288.465004  0.664463 -0.058589   \n",
       "2019-04-09  63.078304    0.000000  2.449286  287.349998  0.557507 -0.192803   \n",
       "2019-04-10  64.299314   34.326791  2.351481  288.070007  0.331124 -0.433077   \n",
       "\n",
       "               ultosc  Volume_Spy   Close_Spy  short  long  \n",
       "Date                                                        \n",
       "2019-04-04  69.905648  48997500.0  287.179993      1     0  \n",
       "2019-04-05  72.140177  58621700.0  288.570007      1     0  \n",
       "2019-04-08  71.105850  53566300.0  288.790009      1     0  \n",
       "2019-04-09  64.039609  66142300.0  287.309998      1     0  \n",
       "2019-04-10  72.585261  52601500.0  288.290009      1     0  "
      ]
     },
     "execution_count": 67,
     "metadata": {},
     "output_type": "execute_result"
    }
   ],
   "source": [
    "df = df.dropna()\n",
    "df.tail()"
   ]
  },
  {
   "cell_type": "code",
   "execution_count": 68,
   "metadata": {},
   "outputs": [
    {
     "data": {
      "text/plain": [
       "(3154, 1497)"
      ]
     },
     "execution_count": 68,
     "metadata": {},
     "output_type": "execute_result"
    }
   ],
   "source": [
    "df['short'].sum(),df['long'].sum()"
   ]
  },
  {
   "cell_type": "code",
   "execution_count": 69,
   "metadata": {},
   "outputs": [],
   "source": [
    "df.to_csv('dataset_ready_to_use.csv')"
   ]
  },
  {
   "cell_type": "code",
   "execution_count": null,
   "metadata": {},
   "outputs": [],
   "source": []
  }
 ],
 "metadata": {
  "kernelspec": {
   "display_name": "Python 3",
   "language": "python",
   "name": "python3"
  },
  "language_info": {
   "codemirror_mode": {
    "name": "ipython",
    "version": 3
   },
   "file_extension": ".py",
   "mimetype": "text/x-python",
   "name": "python",
   "nbconvert_exporter": "python",
   "pygments_lexer": "ipython3",
   "version": "3.6.8"
  }
 },
 "nbformat": 4,
 "nbformat_minor": 2
}
