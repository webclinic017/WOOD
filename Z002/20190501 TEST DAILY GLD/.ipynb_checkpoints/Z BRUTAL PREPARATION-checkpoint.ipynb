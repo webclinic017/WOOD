{
 "cells": [
  {
   "cell_type": "code",
   "execution_count": 1,
   "metadata": {},
   "outputs": [],
   "source": [
    "___Author___='LumberJack Jyss'"
   ]
  },
  {
   "cell_type": "code",
   "execution_count": 2,
   "metadata": {},
   "outputs": [
    {
     "name": "stdout",
     "output_type": "stream",
     "text": [
      "LumberJack Trading AtidotCom TREND FORECAST\n",
      "LumberJack Jyss (c)\n"
     ]
    }
   ],
   "source": [
    "print('LumberJack Trading AtidotCom TREND FORECAST\\nLumberJack Jyss (c)')"
   ]
  },
  {
   "cell_type": "code",
   "execution_count": 3,
   "metadata": {},
   "outputs": [
    {
     "name": "stdout",
     "output_type": "stream",
     "text": [
      "Importation des librairies...\n",
      "Librairies importées\n"
     ]
    }
   ],
   "source": [
    "print('Importation des librairies...')\n",
    "import talib\n",
    "import numpy as np\n",
    "import pandas as pd\n",
    "import pandas_datareader as web\n",
    "import matplotlib.pyplot as plt\n",
    "import seaborn as sns\n",
    "%matplotlib inline\n",
    "print('Librairies importées')"
   ]
  },
  {
   "cell_type": "code",
   "execution_count": 15,
   "metadata": {},
   "outputs": [],
   "source": [
    "# PARAMETRES TEMPORELS INITIAUX\n",
    "start = pd.to_datetime('1997-03-03')\n",
    "end = pd.to_datetime('2019-04-29')"
   ]
  },
  {
   "cell_type": "code",
   "execution_count": 16,
   "metadata": {},
   "outputs": [],
   "source": [
    "# SCRAPING DES DONNES BRUTES\n",
    "spy = web.DataReader('GLD','yahoo',start,end)"
   ]
  },
  {
   "cell_type": "code",
   "execution_count": 18,
   "metadata": {},
   "outputs": [
    {
     "data": {
      "text/html": [
       "<div>\n",
       "<style scoped>\n",
       "    .dataframe tbody tr th:only-of-type {\n",
       "        vertical-align: middle;\n",
       "    }\n",
       "\n",
       "    .dataframe tbody tr th {\n",
       "        vertical-align: top;\n",
       "    }\n",
       "\n",
       "    .dataframe thead th {\n",
       "        text-align: right;\n",
       "    }\n",
       "</style>\n",
       "<table border=\"1\" class=\"dataframe\">\n",
       "  <thead>\n",
       "    <tr style=\"text-align: right;\">\n",
       "      <th></th>\n",
       "      <th>High</th>\n",
       "      <th>Low</th>\n",
       "      <th>Open</th>\n",
       "      <th>Close</th>\n",
       "      <th>Volume</th>\n",
       "      <th>Adj Close</th>\n",
       "    </tr>\n",
       "    <tr>\n",
       "      <th>Date</th>\n",
       "      <th></th>\n",
       "      <th></th>\n",
       "      <th></th>\n",
       "      <th></th>\n",
       "      <th></th>\n",
       "      <th></th>\n",
       "    </tr>\n",
       "  </thead>\n",
       "  <tbody>\n",
       "    <tr>\n",
       "      <th>2004-11-18</th>\n",
       "      <td>44.490002</td>\n",
       "      <td>44.070000</td>\n",
       "      <td>44.430000</td>\n",
       "      <td>44.380001</td>\n",
       "      <td>5992000</td>\n",
       "      <td>44.380001</td>\n",
       "    </tr>\n",
       "    <tr>\n",
       "      <th>2004-11-19</th>\n",
       "      <td>44.919998</td>\n",
       "      <td>44.470001</td>\n",
       "      <td>44.490002</td>\n",
       "      <td>44.779999</td>\n",
       "      <td>11655300</td>\n",
       "      <td>44.779999</td>\n",
       "    </tr>\n",
       "    <tr>\n",
       "      <th>2004-11-22</th>\n",
       "      <td>44.970001</td>\n",
       "      <td>44.740002</td>\n",
       "      <td>44.750000</td>\n",
       "      <td>44.950001</td>\n",
       "      <td>11996000</td>\n",
       "      <td>44.950001</td>\n",
       "    </tr>\n",
       "    <tr>\n",
       "      <th>2004-11-23</th>\n",
       "      <td>44.919998</td>\n",
       "      <td>44.720001</td>\n",
       "      <td>44.880001</td>\n",
       "      <td>44.750000</td>\n",
       "      <td>3169200</td>\n",
       "      <td>44.750000</td>\n",
       "    </tr>\n",
       "    <tr>\n",
       "      <th>2004-11-24</th>\n",
       "      <td>45.049999</td>\n",
       "      <td>44.790001</td>\n",
       "      <td>44.930000</td>\n",
       "      <td>45.049999</td>\n",
       "      <td>6105100</td>\n",
       "      <td>45.049999</td>\n",
       "    </tr>\n",
       "  </tbody>\n",
       "</table>\n",
       "</div>"
      ],
      "text/plain": [
       "                 High        Low       Open      Close    Volume  Adj Close\n",
       "Date                                                                       \n",
       "2004-11-18  44.490002  44.070000  44.430000  44.380001   5992000  44.380001\n",
       "2004-11-19  44.919998  44.470001  44.490002  44.779999  11655300  44.779999\n",
       "2004-11-22  44.970001  44.740002  44.750000  44.950001  11996000  44.950001\n",
       "2004-11-23  44.919998  44.720001  44.880001  44.750000   3169200  44.750000\n",
       "2004-11-24  45.049999  44.790001  44.930000  45.049999   6105100  45.049999"
      ]
     },
     "execution_count": 18,
     "metadata": {},
     "output_type": "execute_result"
    }
   ],
   "source": [
    "spy.head()"
   ]
  },
  {
   "cell_type": "code",
   "execution_count": 19,
   "metadata": {},
   "outputs": [
    {
     "name": "stdout",
     "output_type": "stream",
     "text": [
      "<class 'pandas.core.frame.DataFrame'>\n",
      "DatetimeIndex: 3634 entries, 2004-11-18 to 2019-04-29\n",
      "Data columns (total 6 columns):\n",
      "High         3634 non-null float64\n",
      "Low          3634 non-null float64\n",
      "Open         3634 non-null float64\n",
      "Close        3634 non-null float64\n",
      "Volume       3634 non-null int64\n",
      "Adj Close    3634 non-null float64\n",
      "dtypes: float64(5), int64(1)\n",
      "memory usage: 198.7 KB\n"
     ]
    }
   ],
   "source": [
    "spy.info()"
   ]
  },
  {
   "cell_type": "code",
   "execution_count": 20,
   "metadata": {},
   "outputs": [],
   "source": [
    "# DEFINITION DU DATAFRAME DES SIMANIM\n",
    "simanim = pd.DataFrame(index=spy.index)"
   ]
  },
  {
   "cell_type": "code",
   "execution_count": 21,
   "metadata": {},
   "outputs": [
    {
     "data": {
      "text/plain": [
       "-1"
      ]
     },
     "execution_count": 21,
     "metadata": {},
     "output_type": "execute_result"
    }
   ],
   "source": [
    "CDL2CROWS = talib.CDL2CROWS(spy['Open'], spy['High'], spy['Low'], spy['Close']) \n",
    "#enc.fit(CDL2CROWS.as_matrix()).transform(df.as_matrix()).toarray()\n",
    "simanim['CDL2CROWS'] = CDL2CROWS\n",
    "for i in range(0,len(CDL2CROWS)):\n",
    "    if simanim['CDL2CROWS'].iloc[i] == 100:\n",
    "        simanim['CDL2CROWS'].iloc[i] = 1\n",
    "    elif simanim['CDL2CROWS'].iloc[i] == -100:\n",
    "        simanim['CDL2CROWS'].iloc[i] = -1\n",
    "simanim['CDL2CROWS'].sum()"
   ]
  },
  {
   "cell_type": "code",
   "execution_count": 22,
   "metadata": {},
   "outputs": [
    {
     "data": {
      "text/plain": [
       "0"
      ]
     },
     "execution_count": 22,
     "metadata": {},
     "output_type": "execute_result"
    }
   ],
   "source": [
    "CDL3BLACKCROWS = talib.CDL3BLACKCROWS(spy['Open'], spy['High'], spy['Low'], spy['Close']) \n",
    "#enc.fit(CDL3BLACKCROWS.as_matrix()).transform(df.as_matrix()).toarray() \n",
    "simanim['CDL3BLACKCROWS'] = CDL3BLACKCROWS\n",
    "simanim['CDL3BLACKCROWS'] = CDL3BLACKCROWS\n",
    "for i in range(0,len(CDL3BLACKCROWS)):\n",
    "    if simanim['CDL3BLACKCROWS'].iloc[i] == 100:\n",
    "        simanim['CDL3BLACKCROWS'].iloc[i] = 1\n",
    "    elif simanim['CDL3BLACKCROWS'].iloc[i] == -100:\n",
    "        simanim['CDL3BLACKCROWS'].iloc[i] = -1\n",
    "simanim['CDL3BLACKCROWS'].sum()"
   ]
  },
  {
   "cell_type": "code",
   "execution_count": 23,
   "metadata": {},
   "outputs": [
    {
     "data": {
      "text/plain": [
       "7"
      ]
     },
     "execution_count": 23,
     "metadata": {},
     "output_type": "execute_result"
    }
   ],
   "source": [
    "\n",
    "CDL3INSIDE = talib.CDL3INSIDE(spy['Open'], spy['High'], spy['Low'], spy['Close']) \n",
    "#enc.fit(CDL3INSIDE.as_matrix()).transform(df.as_matrix()).toarray() \n",
    "simanim['CDL3INSIDE'] = CDL3INSIDE\n",
    "for i in range(0,len(CDL3INSIDE)):\n",
    "    if simanim['CDL3INSIDE'].iloc[i] == 100:\n",
    "        simanim['CDL3INSIDE'].iloc[i] = 1\n",
    "    elif simanim['CDL3INSIDE'].iloc[i] == -100:\n",
    "        simanim['CDL3INSIDE'].iloc[i] = -1\n",
    "simanim['CDL3INSIDE'].sum()"
   ]
  },
  {
   "cell_type": "code",
   "execution_count": 24,
   "metadata": {},
   "outputs": [
    {
     "data": {
      "text/plain": [
       "1"
      ]
     },
     "execution_count": 24,
     "metadata": {},
     "output_type": "execute_result"
    }
   ],
   "source": [
    "CDL3LINESTRIKE = talib.CDL3LINESTRIKE(spy['Open'], spy['High'], spy['Low'], spy['Close']) \n",
    "#enc.fit(CDL3LINESTRIKE.as_matrix()).transform(df.as_matrix()).toarray() \n",
    "simanim['CDL3LINESTRIKE'] = CDL3LINESTRIKE\n",
    "for i in range(0,len(CDL3LINESTRIKE)):\n",
    "    if simanim['CDL3LINESTRIKE'].iloc[i] == 100:\n",
    "        simanim['CDL3LINESTRIKE'].iloc[i] = 1\n",
    "    elif simanim['CDL3LINESTRIKE'].iloc[i] == -100:\n",
    "        simanim['CDL3LINESTRIKE'].iloc[i] = -1\n",
    "simanim['CDL3LINESTRIKE'].sum()"
   ]
  },
  {
   "cell_type": "code",
   "execution_count": 25,
   "metadata": {},
   "outputs": [
    {
     "data": {
      "text/plain": [
       "-3"
      ]
     },
     "execution_count": 25,
     "metadata": {},
     "output_type": "execute_result"
    }
   ],
   "source": [
    "CDL3OUTSIDE = talib.CDL3OUTSIDE(spy['Open'], spy['High'], spy['Low'], spy['Close']) \n",
    "#enc.fit(CDL3OUTSIDE.as_matrix()).transform(df.as_matrix()).toarray() \n",
    "simanim['CDL3OUTSIDE'] = CDL3OUTSIDE\n",
    "for i in range(0,len(CDL3OUTSIDE)):\n",
    "    if simanim['CDL3OUTSIDE'].iloc[i] == 100:\n",
    "        simanim['CDL3OUTSIDE'].iloc[i] = 1\n",
    "    elif simanim['CDL3OUTSIDE'].iloc[i] == -100:\n",
    "        simanim['CDL3OUTSIDE'].iloc[i] = -1\n",
    "simanim['CDL3OUTSIDE'].sum()"
   ]
  },
  {
   "cell_type": "code",
   "execution_count": 26,
   "metadata": {},
   "outputs": [
    {
     "data": {
      "text/plain": [
       "0"
      ]
     },
     "execution_count": 26,
     "metadata": {},
     "output_type": "execute_result"
    }
   ],
   "source": [
    "CDL3STARSINSOUTH = talib.CDL3STARSINSOUTH(spy['Open'], spy['High'], spy['Low'], spy['Close']) \n",
    "#enc.fit(df.as_matrix()).transform(df.as_matrix()).toarray()\n",
    "simanim['CDL3STARSINSOUTH'] = CDL3STARSINSOUTH\n",
    "for i in range(0,len(CDL3STARSINSOUTH)):\n",
    "    if simanim['CDL3STARSINSOUTH'].iloc[i] == 100:\n",
    "        simanim['CDL3STARSINSOUTH'].iloc[i] = 1\n",
    "    elif simanim['CDL3STARSINSOUTH'].iloc[i] == -100:\n",
    "        simanim['CDL3STARSINSOUTH'].iloc[i] = -1\n",
    "simanim['CDL3STARSINSOUTH'].sum()"
   ]
  },
  {
   "cell_type": "code",
   "execution_count": 27,
   "metadata": {},
   "outputs": [
    {
     "data": {
      "text/plain": [
       "0"
      ]
     },
     "execution_count": 27,
     "metadata": {},
     "output_type": "execute_result"
    }
   ],
   "source": [
    "CDL3WHITESOLDIERS = talib.CDL3WHITESOLDIERS(spy['Open'], spy['High'],spy['Low'], spy['Close']) \n",
    "#enc.fit(CDL3STARSINSOUTH.as_matrix()).transform(df.as_matrix()).toarray() \n",
    "simanim['CDL3WHITESOLDIERS'] = CDL3WHITESOLDIERS\n",
    "for i in range(0,len(CDL3STARSINSOUTH)):\n",
    "    if simanim['CDL3WHITESOLDIERS'].iloc[i] == 100:\n",
    "        simanim['CDL3WHITESOLDIERS'].iloc[i] = 1\n",
    "    elif simanim['CDL3WHITESOLDIERS'].iloc[i] == -100:\n",
    "        simanim['CDL3WHITESOLDIERS'].iloc[i] = -1\n",
    "simanim['CDL3WHITESOLDIERS'].sum()"
   ]
  },
  {
   "cell_type": "code",
   "execution_count": 28,
   "metadata": {},
   "outputs": [
    {
     "data": {
      "text/plain": [
       "0"
      ]
     },
     "execution_count": 28,
     "metadata": {},
     "output_type": "execute_result"
    }
   ],
   "source": [
    "CDLABANDONEDBABY = talib.CDLABANDONEDBABY(spy['Open'], spy['High'],spy['Low'], spy['Close'], penetration=0) \n",
    "#enc.fit(CDLABANDONEDBABY.as_matrix()).transform(df.as_matrix()).toarray() \n",
    "simanim['CDLABANDONEDBABY'] = CDLABANDONEDBABY\n",
    "for i in range(0,len(CDLABANDONEDBABY)):\n",
    "    if simanim['CDLABANDONEDBABY'].iloc[i] == 100:\n",
    "        simanim['CDLABANDONEDBABY'].iloc[i] = 1\n",
    "    elif simanim['CDLABANDONEDBABY'].iloc[i] == -100:\n",
    "        simanim['CDLABANDONEDBABY'].iloc[i] = -1\n",
    "simanim['CDLABANDONEDBABY'].sum()"
   ]
  },
  {
   "cell_type": "code",
   "execution_count": 29,
   "metadata": {},
   "outputs": [
    {
     "data": {
      "text/plain": [
       "-3"
      ]
     },
     "execution_count": 29,
     "metadata": {},
     "output_type": "execute_result"
    }
   ],
   "source": [
    "CDLADVANCEBLOCK = talib.CDLADVANCEBLOCK(spy['Open'], spy['High'],spy['Low'], spy['Close']) \n",
    "#enc.fit(CDLADVANCEBLOCK.as_matrix()).transform(df.as_matrix()).toarray() \n",
    "simanim['CDLADVANCEBLOCK'] = CDLADVANCEBLOCK\n",
    "for i in range(0,len(CDLADVANCEBLOCK)):\n",
    "    if simanim['CDLADVANCEBLOCK'].iloc[i] == 100:\n",
    "        simanim['CDLADVANCEBLOCK'].iloc[i] = 1\n",
    "    elif simanim['CDLADVANCEBLOCK'].iloc[i] == -100:\n",
    "        simanim['CDLADVANCEBLOCK'].iloc[i] = -1\n",
    "simanim['CDLADVANCEBLOCK'].sum()"
   ]
  },
  {
   "cell_type": "code",
   "execution_count": 30,
   "metadata": {},
   "outputs": [
    {
     "data": {
      "text/plain": [
       "-19"
      ]
     },
     "execution_count": 30,
     "metadata": {},
     "output_type": "execute_result"
    }
   ],
   "source": [
    "CDLBELTHOLD = talib.CDLBELTHOLD(spy['Open'], spy['High'],spy['Low'], spy['Close']) \n",
    "#enc.fit(CDLBELTHOLD.as_matrix()).transform(df.as_matrix()).toarray() \n",
    "simanim['CDLBELTHOLD'] = CDLBELTHOLD\n",
    "for i in range(0,len(CDLBELTHOLD)):\n",
    "    if simanim['CDLBELTHOLD'].iloc[i] == 100:\n",
    "        simanim['CDLBELTHOLD'].iloc[i] = 1\n",
    "    elif simanim['CDLBELTHOLD'].iloc[i] == -100:\n",
    "        simanim['CDLBELTHOLD'].iloc[i] = -1\n",
    "simanim['CDLBELTHOLD'].sum()"
   ]
  },
  {
   "cell_type": "code",
   "execution_count": 31,
   "metadata": {},
   "outputs": [
    {
     "data": {
      "text/plain": [
       "1"
      ]
     },
     "execution_count": 31,
     "metadata": {},
     "output_type": "execute_result"
    }
   ],
   "source": [
    "CDLBREAKAWAY = talib.CDLBREAKAWAY(spy['Open'], spy['High'],spy['Low'], spy['Close']) \n",
    "#enc.fit(df.as_matrix()).transform(df.as_matrix()).toarray() \n",
    "simanim['CDLBREAKAWAY'] = CDLBREAKAWAY\n",
    "for i in range(0,len(CDLBREAKAWAY)):\n",
    "    if simanim['CDLBREAKAWAY'].iloc[i] == 100:\n",
    "        simanim['CDLBREAKAWAY'].iloc[i] = 1\n",
    "    elif simanim['CDLBREAKAWAY'].iloc[i] == -100:\n",
    "        simanim['CDLBREAKAWAY'].iloc[i] = -1\n",
    "simanim['CDLBREAKAWAY'].sum()"
   ]
  },
  {
   "cell_type": "code",
   "execution_count": 32,
   "metadata": {},
   "outputs": [
    {
     "data": {
      "text/plain": [
       "56"
      ]
     },
     "execution_count": 32,
     "metadata": {},
     "output_type": "execute_result"
    }
   ],
   "source": [
    "CDLCLOSINGMARUBOZU = talib.CDLCLOSINGMARUBOZU(spy['Open'], spy['High'],spy['Low'], spy['Close']) \n",
    "#enc.fit(CDLBREAKAWAY.as_matrix()).transform(df.as_matrix()).toarray() \n",
    "simanim['CDLCLOSINGMARUBOZU'] = CDLCLOSINGMARUBOZU\n",
    "for i in range(0,len(CDLBREAKAWAY)):\n",
    "    if simanim['CDLCLOSINGMARUBOZU'].iloc[i] == 100:\n",
    "        simanim['CDLCLOSINGMARUBOZU'].iloc[i] = 1\n",
    "    elif simanim['CDLCLOSINGMARUBOZU'].iloc[i] == -100:\n",
    "        simanim['CDLCLOSINGMARUBOZU'].iloc[i] = -1\n",
    "simanim['CDLCLOSINGMARUBOZU'].sum()"
   ]
  },
  {
   "cell_type": "code",
   "execution_count": 33,
   "metadata": {},
   "outputs": [
    {
     "data": {
      "text/plain": [
       "0"
      ]
     },
     "execution_count": 33,
     "metadata": {},
     "output_type": "execute_result"
    }
   ],
   "source": [
    "CDLCONCEALBABYSWALL = talib.CDLCONCEALBABYSWALL(spy['Open'], spy['High'],spy['Low'], spy['Close']) \n",
    "#enc.fit(df.as_matrix()).transform(df.as_matrix()).toarray() \n",
    "simanim['CDLCONCEALBABYSWALL'] = CDLCONCEALBABYSWALL\n",
    "for i in range(0,len(CDLCONCEALBABYSWALL)):\n",
    "    if simanim['CDLCONCEALBABYSWALL'].iloc[i] == 100:\n",
    "        simanim['CDLCONCEALBABYSWALL'].iloc[i] = 1\n",
    "    elif simanim['CDLCONCEALBABYSWALL'].iloc[i] == -100:\n",
    "        simanim['CDLCONCEALBABYSWALL'].iloc[i] = -1\n",
    "simanim['CDLCONCEALBABYSWALL'].sum()"
   ]
  },
  {
   "cell_type": "code",
   "execution_count": 34,
   "metadata": {},
   "outputs": [
    {
     "data": {
      "text/plain": [
       "-3"
      ]
     },
     "execution_count": 34,
     "metadata": {},
     "output_type": "execute_result"
    }
   ],
   "source": [
    "CDLCOUNTERATTACK = talib.CDLCOUNTERATTACK(spy['Open'], spy['High'],spy['Low'], spy['Close']) \n",
    "#enc.fit(CDLCONCEALBABYSWALL.as_matrix()).transform(df.as_matrix()).toarray()\n",
    "simanim['CDLCOUNTERATTACK'] = CDLCOUNTERATTACK\n",
    "for i in range(0,len(CDLCOUNTERATTACK)):\n",
    "    if simanim['CDLCOUNTERATTACK'].iloc[i] == 100:\n",
    "        simanim['CDLCOUNTERATTACK'].iloc[i] = 1\n",
    "    elif simanim['CDLCOUNTERATTACK'].iloc[i] == -100:\n",
    "        simanim['CDLCOUNTERATTACK'].iloc[i] = -1\n",
    "simanim['CDLCOUNTERATTACK'].sum()"
   ]
  },
  {
   "cell_type": "code",
   "execution_count": 35,
   "metadata": {},
   "outputs": [
    {
     "data": {
      "text/plain": [
       "-36"
      ]
     },
     "execution_count": 35,
     "metadata": {},
     "output_type": "execute_result"
    }
   ],
   "source": [
    "CDLDARKCLOUDCOVER = talib.CDLDARKCLOUDCOVER(spy['Open'], spy['High'],spy['Low'], spy['Close'], penetration=0) \n",
    "#enc.fit(CDLDARKCLOUDCOVER.as_matrix()).transform(df.as_matrix()).toarray() \n",
    "simanim['CDLDARKCLOUDCOVER'] = CDLDARKCLOUDCOVER\n",
    "for i in range(0,len(CDLDARKCLOUDCOVER)):\n",
    "    if simanim['CDLDARKCLOUDCOVER'].iloc[i] == 100:\n",
    "        simanim['CDLDARKCLOUDCOVER'].iloc[i] = 1\n",
    "    elif simanim['CDLDARKCLOUDCOVER'].iloc[i] == -100:\n",
    "        simanim['CDLDARKCLOUDCOVER'].iloc[i] = -1\n",
    "simanim['CDLDARKCLOUDCOVER'].sum()"
   ]
  },
  {
   "cell_type": "code",
   "execution_count": 36,
   "metadata": {},
   "outputs": [
    {
     "data": {
      "text/plain": [
       "588"
      ]
     },
     "execution_count": 36,
     "metadata": {},
     "output_type": "execute_result"
    }
   ],
   "source": [
    "CDLDOJI = talib.CDLDOJI(spy['Open'], spy['High'],spy['Low'], spy['Close'])\n",
    "#enc.fit(CDLDOJI.as_matrix()).transform(df.as_matrix()).toarray() \n",
    "simanim['CDLDOJI'] = CDLDOJI\n",
    "for i in range(0,len(CDLDOJI)):\n",
    "    if simanim['CDLDOJI'].iloc[i] == 100:\n",
    "        simanim['CDLDOJI'].iloc[i] = 1\n",
    "    elif simanim['CDLDOJI'].iloc[i] == -100:\n",
    "        simanim['CDLDOJI'].iloc[i] = -1\n",
    "simanim['CDLDOJI'].sum()"
   ]
  },
  {
   "cell_type": "code",
   "execution_count": 37,
   "metadata": {},
   "outputs": [
    {
     "data": {
      "text/plain": [
       "-18"
      ]
     },
     "execution_count": 37,
     "metadata": {},
     "output_type": "execute_result"
    }
   ],
   "source": [
    "CDLDOJISTAR = talib.CDLDOJISTAR(spy['Open'], spy['High'],spy['Low'], spy['Close']) \n",
    "#enc.fit(df.as_matrix()).transform(df.as_matrix()).toarray() \n",
    "simanim['CDLDOJISTAR'] = CDLDOJISTAR\n",
    "for i in range(0,len(CDLDOJISTAR)):\n",
    "    if simanim['CDLDOJISTAR'].iloc[i] == 100:\n",
    "        simanim['CDLDOJISTAR'].iloc[i] = 1\n",
    "    elif simanim['CDLDOJISTAR'].iloc[i] == -100:\n",
    "        simanim['CDLDOJISTAR'].iloc[i] = -1\n",
    "simanim['CDLDOJISTAR'].sum()"
   ]
  },
  {
   "cell_type": "code",
   "execution_count": 38,
   "metadata": {},
   "outputs": [
    {
     "data": {
      "text/plain": [
       "66"
      ]
     },
     "execution_count": 38,
     "metadata": {},
     "output_type": "execute_result"
    }
   ],
   "source": [
    "CDLDRAGONFLYDOJI = talib.CDLDRAGONFLYDOJI(spy['Open'], spy['High'],spy['Low'], spy['Close']) \n",
    "#enc.fit(CDLDOJISTAR.as_matrix()).transform(df.as_matrix()).toarray() \n",
    "simanim['CDLDRAGONFLYDOJI'] = CDLDRAGONFLYDOJI\n",
    "for i in range(0,len(CDLDRAGONFLYDOJI)):\n",
    "    if simanim['CDLDRAGONFLYDOJI'].iloc[i] == 100:\n",
    "        simanim['CDLDRAGONFLYDOJI'].iloc[i] = 1\n",
    "    elif simanim['CDLDRAGONFLYDOJI'].iloc[i] == -100:\n",
    "        simanim['CDLDRAGONFLYDOJI'].iloc[i] = -1\n",
    "simanim['CDLDRAGONFLYDOJI'].sum()"
   ]
  },
  {
   "cell_type": "code",
   "execution_count": 39,
   "metadata": {},
   "outputs": [
    {
     "data": {
      "text/plain": [
       "-3"
      ]
     },
     "execution_count": 39,
     "metadata": {},
     "output_type": "execute_result"
    }
   ],
   "source": [
    "CDLENGULFING = talib.CDLENGULFING(spy['Open'], spy['High'],spy['Low'], spy['Close'])\n",
    "#enc.fit(df.as_matrix()).transform(df.as_matrix()).toarray() \n",
    "simanim['CDLENGULFING'] = CDLENGULFING\n",
    "for i in range(0,len(CDLENGULFING)):\n",
    "    if simanim['CDLENGULFING'].iloc[i] == 100:\n",
    "        simanim['CDLENGULFING'].iloc[i] = 1\n",
    "    elif simanim['CDLENGULFING'].iloc[i] == -100:\n",
    "        simanim['CDLENGULFING'].iloc[i] = -1\n",
    "simanim['CDLENGULFING'].sum()"
   ]
  },
  {
   "cell_type": "code",
   "execution_count": 40,
   "metadata": {},
   "outputs": [
    {
     "data": {
      "text/plain": [
       "-6"
      ]
     },
     "execution_count": 40,
     "metadata": {},
     "output_type": "execute_result"
    }
   ],
   "source": [
    "CDLEVENINGDOJISTAR = talib.CDLEVENINGDOJISTAR(spy['Open'], spy['High'],spy['Low'], spy['Close'], penetration=0) \n",
    "#enc.fit(CDLENGULFING.as_matrix()).transform(df.as_matrix()).toarray() \n",
    "simanim['CDLEVENINGDOJISTAR'] = CDLEVENINGDOJISTAR\n",
    "for i in range(0,len(CDLEVENINGDOJISTAR)):\n",
    "    if simanim['CDLEVENINGDOJISTAR'].iloc[i] == 100:\n",
    "        simanim['CDLEVENINGDOJISTAR'].iloc[i] = 1\n",
    "    elif simanim['CDLEVENINGDOJISTAR'].iloc[i] == -100:\n",
    "        simanim['CDLEVENINGDOJISTAR'].iloc[i] = -1\n",
    "simanim['CDLEVENINGDOJISTAR'].sum()"
   ]
  },
  {
   "cell_type": "code",
   "execution_count": 41,
   "metadata": {},
   "outputs": [
    {
     "data": {
      "text/plain": [
       "-20"
      ]
     },
     "execution_count": 41,
     "metadata": {},
     "output_type": "execute_result"
    }
   ],
   "source": [
    "CDLEVENINGSTAR = talib.CDLEVENINGSTAR(spy['Open'], spy['High'],spy['Low'], spy['Close'], penetration=0)\n",
    "#enc.fit(CDLEVENINGSTAR.as_matrix()).transform(df.as_matrix()).toarray() \n",
    "simanim['CDLEVENINGSTAR'] = CDLEVENINGSTAR\n",
    "for i in range(0,len(CDLEVENINGSTAR)):\n",
    "    if simanim['CDLEVENINGSTAR'].iloc[i] == 100:\n",
    "        simanim['CDLEVENINGSTAR'].iloc[i] = 1\n",
    "    elif simanim['CDLEVENINGSTAR'].iloc[i] == -100:\n",
    "        simanim['CDLEVENINGSTAR'].iloc[i] = -1\n",
    "simanim['CDLEVENINGSTAR'].sum()"
   ]
  },
  {
   "cell_type": "code",
   "execution_count": 42,
   "metadata": {},
   "outputs": [
    {
     "data": {
      "text/plain": [
       "7"
      ]
     },
     "execution_count": 42,
     "metadata": {},
     "output_type": "execute_result"
    }
   ],
   "source": [
    "CDLGAPSIDESIDEWHITE = talib.CDLGAPSIDESIDEWHITE(spy['Open'], spy['High'],spy['Low'], spy['Close']) \n",
    "#enc.fit(CDLGAPSIDESIDEWHITE.as_matrix()).transform(df.as_matrix()).toarray() \n",
    "simanim['CDLGAPSIDESIDEWHITE'] = CDLGAPSIDESIDEWHITE\n",
    "for i in range(0,len(CDLGAPSIDESIDEWHITE)):\n",
    "    if simanim['CDLGAPSIDESIDEWHITE'].iloc[i] == 100:\n",
    "        simanim['CDLGAPSIDESIDEWHITE'].iloc[i] = 1\n",
    "    elif simanim['CDLGAPSIDESIDEWHITE'].iloc[i] == -100:\n",
    "        simanim['CDLGAPSIDESIDEWHITE'].iloc[i] = -1\n",
    "simanim['CDLGAPSIDESIDEWHITE'].sum()\n"
   ]
  },
  {
   "cell_type": "code",
   "execution_count": 43,
   "metadata": {},
   "outputs": [
    {
     "data": {
      "text/plain": [
       "41"
      ]
     },
     "execution_count": 43,
     "metadata": {},
     "output_type": "execute_result"
    }
   ],
   "source": [
    "CDLGRAVESTONEDOJI = talib.CDLGRAVESTONEDOJI(spy['Open'], spy['High'],spy['Low'], spy['Close']) \n",
    "#enc.fit(df.as_matrix()).transform(df.as_matrix()).toarray() \n",
    "simanim['CDLGRAVESTONEDOJI'] = CDLGRAVESTONEDOJI\n",
    "for i in range(0,len(CDLGRAVESTONEDOJI)):\n",
    "    if simanim['CDLGRAVESTONEDOJI'].iloc[i] == 100:\n",
    "        simanim['CDLGRAVESTONEDOJI'].iloc[i] = 1\n",
    "    elif simanim['CDLGRAVESTONEDOJI'].iloc[i] == -100:\n",
    "        simanim['CDLGRAVESTONEDOJI'].iloc[i] = -1\n",
    "simanim['CDLGRAVESTONEDOJI'].sum()"
   ]
  },
  {
   "cell_type": "code",
   "execution_count": 44,
   "metadata": {},
   "outputs": [
    {
     "data": {
      "text/plain": [
       "91"
      ]
     },
     "execution_count": 44,
     "metadata": {},
     "output_type": "execute_result"
    }
   ],
   "source": [
    "CDLHAMMER = talib.CDLHAMMER(spy['Open'], spy['High'],spy['Low'], spy['Close']) \n",
    "#enc.fit(CDLGRAVESTONEDOJI.as_matrix()).transform(df.as_matrix()).toarray() \n",
    "simanim['CDLHAMMER'] = CDLHAMMER\n",
    "for i in range(0,len(CDLHAMMER)):\n",
    "    if simanim['CDLHAMMER'].iloc[i] == 100:\n",
    "        simanim['CDLHAMMER'].iloc[i] = 1\n",
    "    elif simanim['CDLHAMMER'].iloc[i] == -100:\n",
    "        simanim['CDLHAMMER'].iloc[i] = -1\n",
    "simanim['CDLHAMMER'].sum()"
   ]
  },
  {
   "cell_type": "code",
   "execution_count": 45,
   "metadata": {},
   "outputs": [
    {
     "data": {
      "text/plain": [
       "-103"
      ]
     },
     "execution_count": 45,
     "metadata": {},
     "output_type": "execute_result"
    }
   ],
   "source": [
    "CDLHANGINGMAN = talib.CDLHANGINGMAN(spy['Open'], spy['High'],spy['Low'], spy['Close']) \n",
    "#enc.fit(CDLHANGINGMAN.as_matrix()).transform(df.as_matrix()).toarray() \n",
    "simanim['CDLHANGINGMAN'] = CDLHANGINGMAN\n",
    "for i in range(0,len(CDLHANGINGMAN)):\n",
    "    if simanim['CDLHANGINGMAN'].iloc[i] == 100:\n",
    "        simanim['CDLHANGINGMAN'].iloc[i] = 1\n",
    "    elif simanim['CDLHANGINGMAN'].iloc[i] == -100:\n",
    "        simanim['CDLHANGINGMAN'].iloc[i] = -1\n",
    "simanim['CDLHANGINGMAN'].sum()"
   ]
  },
  {
   "cell_type": "code",
   "execution_count": 46,
   "metadata": {},
   "outputs": [
    {
     "data": {
      "text/plain": [
       "-2"
      ]
     },
     "execution_count": 46,
     "metadata": {},
     "output_type": "execute_result"
    }
   ],
   "source": [
    "CDLHARAMI = talib.CDLHARAMI(spy['Open'], spy['High'],spy['Low'], spy['Close']) \n",
    "#enc.fit(CDLHARAMI.as_matrix()).transform(df.as_matrix()).toarray() \n",
    "simanim['CDLHARAMI'] = CDLHARAMI\n",
    "for i in range(0,len(CDLHARAMI)):\n",
    "    if simanim['CDLHARAMI'].iloc[i] == 100:\n",
    "        simanim['CDLHARAMI'].iloc[i] = 1\n",
    "    elif simanim['CDLHARAMI'].iloc[i] == -100:\n",
    "        simanim['CDLHARAMI'].iloc[i] = -1\n",
    "simanim['CDLHARAMI'].sum()"
   ]
  },
  {
   "cell_type": "code",
   "execution_count": 47,
   "metadata": {},
   "outputs": [
    {
     "data": {
      "text/plain": [
       "9"
      ]
     },
     "execution_count": 47,
     "metadata": {},
     "output_type": "execute_result"
    }
   ],
   "source": [
    "CDLHARAMICROSS = talib.CDLHARAMICROSS(spy['Open'], spy['High'],spy['Low'], spy['Close']) \n",
    "#enc.fit(CDLHARAMICROSS.as_matrix()).transform(df.as_matrix()).toarray() \n",
    "simanim['CDLHARAMICROSS'] = CDLHARAMICROSS\n",
    "for i in range(0,len(CDLHARAMICROSS)):\n",
    "    if simanim['CDLHARAMICROSS'].iloc[i] == 100:\n",
    "        simanim['CDLHARAMICROSS'].iloc[i] = 1\n",
    "    elif simanim['CDLHARAMICROSS'].iloc[i] == -100:\n",
    "        simanim['CDLHARAMICROSS'].iloc[i] = -1\n",
    "simanim['CDLHARAMICROSS'].sum()"
   ]
  },
  {
   "cell_type": "code",
   "execution_count": 48,
   "metadata": {},
   "outputs": [
    {
     "data": {
      "text/plain": [
       "18"
      ]
     },
     "execution_count": 48,
     "metadata": {},
     "output_type": "execute_result"
    }
   ],
   "source": [
    "CDLHIGHWAVE = talib.CDLHIGHWAVE(spy['Open'], spy['High'],spy['Low'], spy['Close']) \n",
    "#enc.fit(CDLHIGHWAVE.as_matrix()).transform(df.as_matrix()).toarray()\n",
    "simanim['CDLHIGHWAVE'] = CDLHIGHWAVE\n",
    "for i in range(0,len(CDLHIGHWAVE)):\n",
    "    if simanim['CDLHIGHWAVE'].iloc[i] == 100:\n",
    "        simanim['CDLHIGHWAVE'].iloc[i] = 1\n",
    "    elif simanim['CDLHIGHWAVE'].iloc[i] == -100:\n",
    "        simanim['CDLHIGHWAVE'].iloc[i] = -1\n",
    "simanim['CDLHIGHWAVE'].sum()"
   ]
  },
  {
   "cell_type": "code",
   "execution_count": 49,
   "metadata": {},
   "outputs": [
    {
     "data": {
      "text/plain": [
       "172"
      ]
     },
     "execution_count": 49,
     "metadata": {},
     "output_type": "execute_result"
    }
   ],
   "source": [
    "CDLHIKKAKE = talib.CDLHIKKAKE(spy['Open'], spy['High'],spy['Low'], spy['Close']) \n",
    "#enc.fit(CDLHIKKAKE.as_matrix()).transform(df.as_matrix()).toarray() \n",
    "simanim['CDLHIKKAKE'] = CDLHIKKAKE\n",
    "for i in range(0,len(CDLHIKKAKE)):\n",
    "    if simanim['CDLHIKKAKE'].iloc[i] == 100:\n",
    "        simanim['CDLHIKKAKE'].iloc[i] = 1\n",
    "    elif simanim['CDLHIKKAKE'].iloc[i] == -100:\n",
    "        simanim['CDLHIKKAKE'].iloc[i] = -1\n",
    "simanim['CDLHIKKAKE'].sum()"
   ]
  },
  {
   "cell_type": "code",
   "execution_count": 50,
   "metadata": {},
   "outputs": [
    {
     "data": {
      "text/plain": [
       "-202"
      ]
     },
     "execution_count": 50,
     "metadata": {},
     "output_type": "execute_result"
    }
   ],
   "source": [
    "CDLHIKKAKEMOD = talib.CDLHIKKAKEMOD(spy['Open'], spy['High'],spy['Low'], spy['Close']) \n",
    "#enc.fit(CDLHIKKAKEMOD.as_matrix()).transform(df.as_matrix()).toarray() \n",
    "simanim['CDLHIKKAKEMOD'] = CDLHIKKAKEMOD\n",
    "for i in range(0,len(CDLHIKKAKEMOD)):\n",
    "    if simanim['CDLHIKKAKEMOD'].iloc[i] == 100:\n",
    "        simanim['CDLHIKKAKEMOD'].iloc[i] = 1\n",
    "    elif simanim['CDLHIKKAKEMOD'].iloc[i] == -100:\n",
    "        simanim['CDLHIKKAKEMOD'].iloc[i] = -1\n",
    "simanim['CDLHIKKAKEMOD'].sum()"
   ]
  },
  {
   "cell_type": "code",
   "execution_count": 51,
   "metadata": {},
   "outputs": [
    {
     "data": {
      "text/plain": [
       "49"
      ]
     },
     "execution_count": 51,
     "metadata": {},
     "output_type": "execute_result"
    }
   ],
   "source": [
    "CDLHOMINGPIGEON = talib.CDLHOMINGPIGEON(spy['Open'], spy['High'],spy['Low'], spy['Close']) \n",
    "#enc.fit(CDLHOMINGPIGEON.as_matrix()).transform(df.as_matrix()).toarray() \n",
    "simanim['CDLHOMINGPIGEON'] = CDLHOMINGPIGEON\n",
    "for i in range(0,len(CDLHOMINGPIGEON)):\n",
    "    if simanim['CDLHOMINGPIGEON'].iloc[i] == 100:\n",
    "        simanim['CDLHOMINGPIGEON'].iloc[i] = 1\n",
    "    elif simanim['CDLHOMINGPIGEON'].iloc[i] == -100:\n",
    "        simanim['CDLHOMINGPIGEON'].iloc[i] = -1\n",
    "simanim['CDLHOMINGPIGEON'].sum()"
   ]
  },
  {
   "cell_type": "code",
   "execution_count": 52,
   "metadata": {},
   "outputs": [
    {
     "data": {
      "text/plain": [
       "0"
      ]
     },
     "execution_count": 52,
     "metadata": {},
     "output_type": "execute_result"
    }
   ],
   "source": [
    "CDLIDENTICAL3CROWS = talib.CDLIDENTICAL3CROWS(spy['Open'], spy['High'],spy['Low'], spy['Close']) \n",
    "#enc.fit(CDLIDENTICAL3CROWS.as_matrix()).transform(df.as_matrix()).toarray() \n",
    "simanim['CDLIDENTICAL3CROWS'] = CDLIDENTICAL3CROWS\n",
    "for i in range(0,len(CDLIDENTICAL3CROWS)):\n",
    "    if simanim['CDLIDENTICAL3CROWS'].iloc[i] == 100:\n",
    "        simanim['CDLIDENTICAL3CROWS'].iloc[i] = 1\n",
    "    elif simanim['CDLIDENTICAL3CROWS'].iloc[i] == -100:\n",
    "        simanim['CDLIDENTICAL3CROWS'].iloc[i] = -1\n",
    "simanim['CDLIDENTICAL3CROWS'].sum()"
   ]
  },
  {
   "cell_type": "code",
   "execution_count": 53,
   "metadata": {},
   "outputs": [
    {
     "data": {
      "text/plain": [
       "-1"
      ]
     },
     "execution_count": 53,
     "metadata": {},
     "output_type": "execute_result"
    }
   ],
   "source": [
    "CDLINNECK = talib.CDLINNECK(spy['Open'], spy['High'],spy['Low'], spy['Close']) \n",
    "#enc.fit(CDLINNECK.as_matrix()).transform(df.as_matrix()).toarray() \n",
    "simanim['CDLINNECK'] = CDLINNECK\n",
    "for i in range(0,len(CDLINNECK)):\n",
    "    if simanim['CDLINNECK'].iloc[i] == 100:\n",
    "        simanim['CDLINNECK'].iloc[i] = 1\n",
    "    elif simanim['CDLINNECK'].iloc[i] == -100:\n",
    "        simanim['CDLINNECK'].iloc[i] = -1\n",
    "simanim['CDLINNECK'].sum()"
   ]
  },
  {
   "cell_type": "code",
   "execution_count": 54,
   "metadata": {},
   "outputs": [
    {
     "data": {
      "text/plain": [
       "50"
      ]
     },
     "execution_count": 54,
     "metadata": {},
     "output_type": "execute_result"
    }
   ],
   "source": [
    "CDLINVERTEDHAMMER = talib.CDLINVERTEDHAMMER(spy['Open'], spy['High'],spy['Low'], spy['Close']) \n",
    "#enc.fit(CDLINVERTEDHAMMER.as_matrix()).transform(df.as_matrix()).toarray()\n",
    "simanim['CDLINVERTEDHAMMER'] = CDLINVERTEDHAMMER\n",
    "for i in range(0,len(CDLINVERTEDHAMMER)):\n",
    "    if simanim['CDLINVERTEDHAMMER'].iloc[i] == 100:\n",
    "        simanim['CDLINVERTEDHAMMER'].iloc[i] = 1\n",
    "    elif simanim['CDLINVERTEDHAMMER'].iloc[i] == -100:\n",
    "        simanim['CDLINVERTEDHAMMER'].iloc[i] = -1\n",
    "simanim['CDLINVERTEDHAMMER'].sum()"
   ]
  },
  {
   "cell_type": "code",
   "execution_count": 55,
   "metadata": {},
   "outputs": [
    {
     "data": {
      "text/plain": [
       "0"
      ]
     },
     "execution_count": 55,
     "metadata": {},
     "output_type": "execute_result"
    }
   ],
   "source": [
    "CDLKICKING = talib.CDLKICKING(spy['Open'], spy['High'],spy['Low'], spy['Close']) \n",
    "#enc.fit(CDLKICKING.as_matrix()).transform(df.as_matrix()).toarray() \n",
    "simanim['CDLKICKING'] = CDLKICKING\n",
    "for i in range(0,len(CDLKICKING)):\n",
    "    if simanim['CDLKICKING'].iloc[i] == 100:\n",
    "        simanim['CDLKICKING'].iloc[i] = 1\n",
    "    elif simanim['CDLKICKING'].iloc[i] == -100:\n",
    "        simanim['CDLKICKING'].iloc[i] = -1\n",
    "simanim['CDLKICKING'].sum()"
   ]
  },
  {
   "cell_type": "code",
   "execution_count": 56,
   "metadata": {},
   "outputs": [
    {
     "data": {
      "text/plain": [
       "0"
      ]
     },
     "execution_count": 56,
     "metadata": {},
     "output_type": "execute_result"
    }
   ],
   "source": [
    "CDLKICKINGBYLENGTH = talib.CDLKICKINGBYLENGTH(spy['Open'], spy['High'],spy['Low'], spy['Close'])\n",
    "#enc.fit(CDLKICKINGBYLENGTH.as_matrix()).transform(df.as_matrix()).toarray() \n",
    "simanim['CDLKICKINGBYLENGTH'] = CDLKICKINGBYLENGTH\n",
    "for i in range(0,len(CDLKICKINGBYLENGTH)):\n",
    "    if simanim['CDLKICKINGBYLENGTH'].iloc[i] == 100:\n",
    "        simanim['CDLKICKINGBYLENGTH'].iloc[i] = 1\n",
    "    elif simanim['CDLKICKINGBYLENGTH'].iloc[i] == -100:\n",
    "        simanim['CDLKICKINGBYLENGTH'].iloc[i] = -1\n",
    "simanim['CDLKICKINGBYLENGTH'].sum()"
   ]
  },
  {
   "cell_type": "code",
   "execution_count": 57,
   "metadata": {},
   "outputs": [
    {
     "data": {
      "text/plain": [
       "13"
      ]
     },
     "execution_count": 57,
     "metadata": {},
     "output_type": "execute_result"
    }
   ],
   "source": [
    "CDLLADDERBOTTOM = talib.CDLLADDERBOTTOM(spy['Open'], spy['High'],spy['Low'], spy['Close']) \n",
    "#enc.fit(CDLLADDERBOTTOM.as_matrix()).transform(df.as_matrix()).toarray() \n",
    "simanim['CDLLADDERBOTTOM'] = CDLLADDERBOTTOM\n",
    "for i in range(0,len(CDLLADDERBOTTOM)):\n",
    "    if simanim['CDLLADDERBOTTOM'].iloc[i] == 100:\n",
    "        simanim['CDLLADDERBOTTOM'].iloc[i] = 1\n",
    "    elif simanim['CDLLADDERBOTTOM'].iloc[i] == -100:\n",
    "        simanim['CDLLADDERBOTTOM'].iloc[i] = -1\n",
    "simanim['CDLLADDERBOTTOM'].sum()"
   ]
  },
  {
   "cell_type": "code",
   "execution_count": 58,
   "metadata": {},
   "outputs": [
    {
     "data": {
      "text/plain": [
       "588"
      ]
     },
     "execution_count": 58,
     "metadata": {},
     "output_type": "execute_result"
    }
   ],
   "source": [
    "CDLLONGLEGGEDDOJI = talib.CDLLONGLEGGEDDOJI(spy['Open'], spy['High'],spy['Low'], spy['Close']) \n",
    "#enc.fit(CDLLONGLEGGEDDOJI.as_matrix()).transform(df.as_matrix()).toarray() \n",
    "simanim['CDLLONGLEGGEDDOJI'] = CDLLONGLEGGEDDOJI\n",
    "for i in range(0,len(CDLLONGLEGGEDDOJI)):\n",
    "    if simanim['CDLLONGLEGGEDDOJI'].iloc[i] == 100:\n",
    "        simanim['CDLLONGLEGGEDDOJI'].iloc[i] = 1\n",
    "    elif simanim['CDLLONGLEGGEDDOJI'].iloc[i] == -100:\n",
    "        simanim['CDLLONGLEGGEDDOJI'].iloc[i] = -1\n",
    "simanim['CDLLONGLEGGEDDOJI'].sum()"
   ]
  },
  {
   "cell_type": "code",
   "execution_count": 59,
   "metadata": {},
   "outputs": [
    {
     "data": {
      "text/plain": [
       "54"
      ]
     },
     "execution_count": 59,
     "metadata": {},
     "output_type": "execute_result"
    }
   ],
   "source": [
    "CDLLONGLINE = talib.CDLLONGLINE(spy['Open'], spy['High'],spy['Low'], spy['Close']) \n",
    "#enc.fit(CDLLONGLINE.as_matrix()).transform(df.as_matrix()).toarray() \n",
    "simanim['CDLLONGLINE'] = CDLLONGLINE\n",
    "for i in range(0,len(CDLLONGLINE)):\n",
    "    if simanim['CDLLONGLINE'].iloc[i] == 100:\n",
    "        simanim['CDLLONGLINE'].iloc[i] = 1\n",
    "    elif simanim['CDLLONGLINE'].iloc[i] == -100:\n",
    "        simanim['CDLLONGLINE'].iloc[i] = -1\n",
    "simanim['CDLLONGLINE'].sum()"
   ]
  },
  {
   "cell_type": "code",
   "execution_count": 60,
   "metadata": {},
   "outputs": [
    {
     "data": {
      "text/plain": [
       "19"
      ]
     },
     "execution_count": 60,
     "metadata": {},
     "output_type": "execute_result"
    }
   ],
   "source": [
    "CDLMARUBOZU = talib.CDLMARUBOZU(spy['Open'], spy['High'],spy['Low'], spy['Close']) \n",
    "#enc.fit(CDLMARUBOZU.as_matrix()).transform(df.as_matrix()).toarray() \n",
    "simanim['CDLMARUBOZU'] = CDLMARUBOZU\n",
    "for i in range(0,len(CDLMARUBOZU)):\n",
    "    if simanim['CDLMARUBOZU'].iloc[i] == 100:\n",
    "        simanim['CDLMARUBOZU'].iloc[i] = 1\n",
    "    elif simanim['CDLMARUBOZU'].iloc[i] == -100:\n",
    "        simanim['CDLMARUBOZU'].iloc[i] = -1\n",
    "simanim['CDLMARUBOZU'].sum()"
   ]
  },
  {
   "cell_type": "code",
   "execution_count": 61,
   "metadata": {},
   "outputs": [
    {
     "data": {
      "text/plain": [
       "45"
      ]
     },
     "execution_count": 61,
     "metadata": {},
     "output_type": "execute_result"
    }
   ],
   "source": [
    "CDLMATCHINGLOW = talib.CDLMATCHINGLOW(spy['Open'], spy['High'],spy['Low'], spy['Close']) \n",
    "#enc.fit(CDLMATCHINGLOW.as_matrix()).transform(df.as_matrix()).toarray() \n",
    "simanim['CDLMATCHINGLOW'] = CDLMATCHINGLOW\n",
    "for i in range(0,len(CDLMATCHINGLOW)):\n",
    "    if simanim['CDLMATCHINGLOW'].iloc[i] == 100:\n",
    "        simanim['CDLMATCHINGLOW'].iloc[i] = 1\n",
    "    elif simanim['CDLMATCHINGLOW'].iloc[i] == -100:\n",
    "        simanim['CDLMATCHINGLOW'].iloc[i] = -1\n",
    "simanim['CDLMATCHINGLOW'].sum()"
   ]
  },
  {
   "cell_type": "code",
   "execution_count": 62,
   "metadata": {},
   "outputs": [
    {
     "data": {
      "text/plain": [
       "0"
      ]
     },
     "execution_count": 62,
     "metadata": {},
     "output_type": "execute_result"
    }
   ],
   "source": [
    "CDLMATHOLD = talib.CDLMATHOLD(spy['Open'], spy['High'],spy['Low'], spy['Close'], penetration=0) \n",
    "#enc.fit(CDLMATHOLD.as_matrix()).transform(df.as_matrix()).toarray() \n",
    "simanim['CDLMATHOLD'] = CDLMATHOLD\n",
    "for i in range(0,len(CDLMATHOLD)):\n",
    "    if simanim['CDLMATHOLD'].iloc[i] == 100:\n",
    "        simanim['CDLMATHOLD'].iloc[i] = 1\n",
    "    elif simanim['CDLMATHOLD'].iloc[i] == -100:\n",
    "        simanim['CDLMATHOLD'].iloc[i] = -1\n",
    "simanim['CDLMATHOLD'].sum()"
   ]
  },
  {
   "cell_type": "code",
   "execution_count": 63,
   "metadata": {},
   "outputs": [
    {
     "data": {
      "text/plain": [
       "8"
      ]
     },
     "execution_count": 63,
     "metadata": {},
     "output_type": "execute_result"
    }
   ],
   "source": [
    "CDLMORNINGDOJISTAR = talib.CDLMORNINGDOJISTAR(spy['Open'], spy['High'],spy['Low'], spy['Close'], penetration=0) \n",
    "#enc.fit(CDLMORNINGDOJISTAR.as_matrix()).transform(df.as_matrix()).toarray() \n",
    "simanim['CDLMORNINGDOJISTAR'] = CDLMORNINGDOJISTAR\n",
    "for i in range(0,len(CDLMORNINGDOJISTAR)):\n",
    "    if simanim['CDLMORNINGDOJISTAR'].iloc[i] == 100:\n",
    "        simanim['CDLMORNINGDOJISTAR'].iloc[i] = 1\n",
    "    elif simanim['CDLMORNINGDOJISTAR'].iloc[i] == -100:\n",
    "        simanim['CDLMORNINGDOJISTAR'].iloc[i] = -1\n",
    "simanim['CDLMORNINGDOJISTAR'].sum()"
   ]
  },
  {
   "cell_type": "code",
   "execution_count": 64,
   "metadata": {},
   "outputs": [
    {
     "data": {
      "text/plain": [
       "24"
      ]
     },
     "execution_count": 64,
     "metadata": {},
     "output_type": "execute_result"
    }
   ],
   "source": [
    "CDLMORNINGSTAR = talib.CDLMORNINGSTAR(spy['Open'], spy['High'],spy['Low'], spy['Close'], penetration=0) \n",
    "#enc.fit(CDLMORNINGSTAR.as_matrix()).transform(df.as_matrix()).toarray() \n",
    "simanim['CDLMORNINGSTAR'] = CDLMORNINGSTAR\n",
    "for i in range(0,len(CDLMORNINGSTAR)):\n",
    "    if simanim['CDLMORNINGSTAR'].iloc[i] == 100:\n",
    "        simanim['CDLMORNINGSTAR'].iloc[i] = 1\n",
    "    elif simanim['CDLMORNINGSTAR'].iloc[i] == -100:\n",
    "        simanim['CDLMORNINGSTAR'].iloc[i] = -1\n",
    "simanim['CDLMORNINGSTAR'].sum()"
   ]
  },
  {
   "cell_type": "code",
   "execution_count": 65,
   "metadata": {},
   "outputs": [
    {
     "data": {
      "text/plain": [
       "-10"
      ]
     },
     "execution_count": 65,
     "metadata": {},
     "output_type": "execute_result"
    }
   ],
   "source": [
    "CDLONNECK = talib.CDLONNECK(spy['Open'], spy['High'],spy['Low'], spy['Close']) \n",
    "#enc.fit(CDLONNECK.as_matrix()).transform(df.as_matrix()).toarray() \n",
    "simanim['CDLONNECK'] = CDLONNECK\n",
    "for i in range(0,len(CDLONNECK)):\n",
    "    if simanim['CDLONNECK'].iloc[i] == 100:\n",
    "        simanim['CDLONNECK'].iloc[i] = 1\n",
    "    elif simanim['CDLONNECK'].iloc[i] == -100:\n",
    "        simanim['CDLONNECK'].iloc[i] = -1\n",
    "simanim['CDLONNECK'].sum()"
   ]
  },
  {
   "cell_type": "code",
   "execution_count": 66,
   "metadata": {},
   "outputs": [
    {
     "data": {
      "text/plain": [
       "9"
      ]
     },
     "execution_count": 66,
     "metadata": {},
     "output_type": "execute_result"
    }
   ],
   "source": [
    "CDLPIERCING = talib.CDLPIERCING(spy['Open'], spy['High'],spy['Low'], spy['Close']) \n",
    "#enc.fit(CDLPIERCING.as_matrix()).transform(df.as_matrix()).toarray() \n",
    "simanim['CDLPIERCING'] = CDLPIERCING\n",
    "for i in range(0,len(CDLPIERCING)):\n",
    "    if simanim['CDLPIERCING'].iloc[i] == 100:\n",
    "        simanim['CDLPIERCING'].iloc[i] = 1\n",
    "    elif simanim['CDLPIERCING'].iloc[i] == -100:\n",
    "        simanim['CDLPIERCING'].iloc[i] = -1\n",
    "simanim['CDLPIERCING'].sum()"
   ]
  },
  {
   "cell_type": "code",
   "execution_count": 67,
   "metadata": {},
   "outputs": [
    {
     "data": {
      "text/plain": [
       "457"
      ]
     },
     "execution_count": 67,
     "metadata": {},
     "output_type": "execute_result"
    }
   ],
   "source": [
    "CDLRICKSHAWMAN = talib.CDLRICKSHAWMAN(spy['Open'], spy['High'],spy['Low'], spy['Close']) \n",
    "#enc.fit(CDLRICKSHAWMAN.as_matrix()).transform(df.as_matrix()).toarray() \n",
    "simanim['CDLRICKSHAWMAN'] = CDLRICKSHAWMAN\n",
    "for i in range(0,len(CDLRICKSHAWMAN)):\n",
    "    if simanim['CDLRICKSHAWMAN'].iloc[i] == 100:\n",
    "        simanim['CDLRICKSHAWMAN'].iloc[i] = 1\n",
    "    elif simanim['CDLRICKSHAWMAN'].iloc[i] == -100:\n",
    "        simanim['CDLRICKSHAWMAN'].iloc[i] = -1\n",
    "simanim['CDLRICKSHAWMAN'].sum()"
   ]
  },
  {
   "cell_type": "code",
   "execution_count": 68,
   "metadata": {},
   "outputs": [
    {
     "data": {
      "text/plain": [
       "-1"
      ]
     },
     "execution_count": 68,
     "metadata": {},
     "output_type": "execute_result"
    }
   ],
   "source": [
    "CDLRISEFALL3METHODS = talib.CDLRISEFALL3METHODS(spy['Open'], spy['High'],spy['Low'], spy['Close']) \n",
    "#enc.fit(CDLRISEFALL3METHODS.as_matrix()).transform(df.as_matrix()).toarray() \n",
    "simanim['CDLRISEFALL3METHODS'] = CDLRISEFALL3METHODS\n",
    "for i in range(0,len(CDLRISEFALL3METHODS)):\n",
    "    if simanim['CDLRISEFALL3METHODS'].iloc[i] == 100:\n",
    "        simanim['CDLRISEFALL3METHODS'].iloc[i] = 1\n",
    "    elif simanim['CDLRISEFALL3METHODS'].iloc[i] == -100:\n",
    "        simanim['CDLRISEFALL3METHODS'].iloc[i] = -1\n",
    "simanim['CDLRISEFALL3METHODS'].sum()"
   ]
  },
  {
   "cell_type": "code",
   "execution_count": 69,
   "metadata": {},
   "outputs": [
    {
     "data": {
      "text/plain": [
       "0"
      ]
     },
     "execution_count": 69,
     "metadata": {},
     "output_type": "execute_result"
    }
   ],
   "source": [
    "CDLSEPARATINGLINES = talib.CDLSEPARATINGLINES(spy['Open'], spy['High'],spy['Low'], spy['Close']) \n",
    "#enc.fit(CDLSEPARATINGLINES.as_matrix()).transform(df.as_matrix()).toarray() \n",
    "simanim['CDLSEPARATINGLINES'] = CDLSEPARATINGLINES\n",
    "for i in range(0,len(CDLSEPARATINGLINES)):\n",
    "    if simanim['CDLSEPARATINGLINES'].iloc[i] == 100:\n",
    "        simanim['CDLSEPARATINGLINES'].iloc[i] = 1\n",
    "    elif simanim['CDLSEPARATINGLINES'].iloc[i] == -100:\n",
    "        simanim['CDLSEPARATINGLINES'].iloc[i] = -1\n",
    "simanim['CDLSEPARATINGLINES'].sum()"
   ]
  },
  {
   "cell_type": "code",
   "execution_count": 70,
   "metadata": {},
   "outputs": [
    {
     "data": {
      "text/plain": [
       "-63"
      ]
     },
     "execution_count": 70,
     "metadata": {},
     "output_type": "execute_result"
    }
   ],
   "source": [
    "CDLSHOOTINGSTAR = talib.CDLSHOOTINGSTAR(spy['Open'], spy['High'],spy['Low'], spy['Close']) \n",
    "#enc.fit(CDLSHOOTINGSTAR.as_matrix()).transform(df.as_matrix()).toarray() \n",
    "simanim['CDLSHOOTINGSTAR'] = CDLSHOOTINGSTAR\n",
    "for i in range(0,len(CDLSHOOTINGSTAR)):\n",
    "    if simanim['CDLSHOOTINGSTAR'].iloc[i] == 100:\n",
    "        simanim['CDLSHOOTINGSTAR'].iloc[i] = 1\n",
    "    elif simanim['CDLSHOOTINGSTAR'].iloc[i] == -100:\n",
    "        simanim['CDLSHOOTINGSTAR'].iloc[i] = -1\n",
    "simanim['CDLSHOOTINGSTAR'].sum()"
   ]
  },
  {
   "cell_type": "code",
   "execution_count": 71,
   "metadata": {},
   "outputs": [
    {
     "data": {
      "text/plain": [
       "35"
      ]
     },
     "execution_count": 71,
     "metadata": {},
     "output_type": "execute_result"
    }
   ],
   "source": [
    "CDLSHORTLINE = talib.CDLSHORTLINE(spy['Open'], spy['High'],spy['Low'], spy['Close']) \n",
    "#enc.fit(CDLSHORTLINE.as_matrix()).transform(df.as_matrix()).toarray() \n",
    "simanim['CDLSHORTLINE'] = CDLSHORTLINE\n",
    "for i in range(0,len(CDLSHORTLINE)):\n",
    "    if simanim['CDLSHORTLINE'].iloc[i] == 100:\n",
    "        simanim['CDLSHORTLINE'].iloc[i] = 1\n",
    "    elif simanim['CDLSHORTLINE'].iloc[i] == -100:\n",
    "        simanim['CDLSHORTLINE'].iloc[i] = -1\n",
    "simanim['CDLSHORTLINE'].sum()"
   ]
  },
  {
   "cell_type": "code",
   "execution_count": 72,
   "metadata": {},
   "outputs": [
    {
     "data": {
      "text/plain": [
       "7"
      ]
     },
     "execution_count": 72,
     "metadata": {},
     "output_type": "execute_result"
    }
   ],
   "source": [
    "CDLSPINNINGTOP = talib.CDLSPINNINGTOP(spy['Open'], spy['High'],spy['Low'], spy['Close']) \n",
    "#enc.fit(CDLSPINNINGTOP.as_matrix()).transform(df.as_matrix()).toarray() \n",
    "simanim['CDLSPINNINGTOP'] = CDLSPINNINGTOP\n",
    "for i in range(0,len(CDLSPINNINGTOP)):\n",
    "    if simanim['CDLSPINNINGTOP'].iloc[i] == 100:\n",
    "        simanim['CDLSPINNINGTOP'].iloc[i] = 1\n",
    "    elif simanim['CDLSPINNINGTOP'].iloc[i] == -100:\n",
    "        simanim['CDLSPINNINGTOP'].iloc[i] = -1\n",
    "simanim['CDLSPINNINGTOP'].sum()"
   ]
  },
  {
   "cell_type": "code",
   "execution_count": 73,
   "metadata": {},
   "outputs": [
    {
     "data": {
      "text/plain": [
       "-5"
      ]
     },
     "execution_count": 73,
     "metadata": {},
     "output_type": "execute_result"
    }
   ],
   "source": [
    "CDLSTALLEDPATTERN = talib.CDLSTALLEDPATTERN(spy['Open'], spy['High'],spy['Low'], spy['Close']) \n",
    "#enc.fit(CDLSTALLEDPATTERN.as_matrix()).transform(df.as_matrix()).toarray() \n",
    "simanim['CDLSTALLEDPATTERN'] = CDLSTALLEDPATTERN\n",
    "for i in range(0,len(CDLSTALLEDPATTERN)):\n",
    "    if simanim['CDLSTALLEDPATTERN'].iloc[i] == 100:\n",
    "        simanim['CDLSTALLEDPATTERN'].iloc[i] = 1\n",
    "    elif simanim['CDLSTALLEDPATTERN'].iloc[i] == -100:\n",
    "        simanim['CDLSTALLEDPATTERN'].iloc[i] = -1\n",
    "simanim['CDLSTALLEDPATTERN'].sum()"
   ]
  },
  {
   "cell_type": "code",
   "execution_count": 74,
   "metadata": {},
   "outputs": [
    {
     "data": {
      "text/plain": [
       "3"
      ]
     },
     "execution_count": 74,
     "metadata": {},
     "output_type": "execute_result"
    }
   ],
   "source": [
    "CDLSTICKSANDWICH = talib.CDLSTICKSANDWICH(spy['Open'], spy['High'],spy['Low'], spy['Close']) \n",
    "#enc.fit(CDLSTICKSANDWICH.as_matrix()).transform(df.as_matrix()).toarray() \n",
    "simanim['CDLSTICKSANDWICH'] = CDLSTICKSANDWICH\n",
    "for i in range(0,len(CDLSTICKSANDWICH)):\n",
    "    if simanim['CDLSTICKSANDWICH'].iloc[i] == 100:\n",
    "        simanim['CDLSTICKSANDWICH'].iloc[i] = 1\n",
    "    elif simanim['CDLSTICKSANDWICH'].iloc[i] == -100:\n",
    "        simanim['CDLSTICKSANDWICH'].iloc[i] = -1\n",
    "simanim['CDLSTICKSANDWICH'].sum()"
   ]
  },
  {
   "cell_type": "code",
   "execution_count": 75,
   "metadata": {},
   "outputs": [
    {
     "data": {
      "text/plain": [
       "65"
      ]
     },
     "execution_count": 75,
     "metadata": {},
     "output_type": "execute_result"
    }
   ],
   "source": [
    "CDLTAKURI = talib.CDLTAKURI(spy['Open'], spy['High'],spy['Low'], spy['Close']) \n",
    "#enc.fit(CDLTAKURI.as_matrix()).transform(df.as_matrix()).toarray() \n",
    "simanim['CDLTAKURI'] = CDLTAKURI\n",
    "for i in range(0,len(CDLTAKURI)):\n",
    "    if simanim['CDLTAKURI'].iloc[i] == 100:\n",
    "        simanim['CDLTAKURI'].iloc[i] = 1\n",
    "    elif simanim['CDLTAKURI'].iloc[i] == -100:\n",
    "        simanim['CDLTAKURI'].iloc[i] = -1\n",
    "simanim['CDLTAKURI'].sum()"
   ]
  },
  {
   "cell_type": "code",
   "execution_count": 76,
   "metadata": {},
   "outputs": [
    {
     "data": {
      "text/plain": [
       "1"
      ]
     },
     "execution_count": 76,
     "metadata": {},
     "output_type": "execute_result"
    }
   ],
   "source": [
    "CDLTASUKIGAP = talib.CDLTASUKIGAP(spy['Open'], spy['High'],spy['Low'], spy['Close']) \n",
    "#enc.fit(CDLTASUKIGAP.as_matrix()).transform(df.as_matrix()).toarray() \n",
    "simanim['CDLTASUKIGAP'] = CDLTASUKIGAP\n",
    "for i in range(0,len(CDLTASUKIGAP)):\n",
    "    if simanim['CDLTASUKIGAP'].iloc[i] == 100:\n",
    "        simanim['CDLTASUKIGAP'].iloc[i] = 1\n",
    "    elif simanim['CDLTASUKIGAP'].iloc[i] == -100:\n",
    "        simanim['CDLTASUKIGAP'].iloc[i] = -1\n",
    "simanim['CDLTASUKIGAP'].sum()"
   ]
  },
  {
   "cell_type": "code",
   "execution_count": 77,
   "metadata": {},
   "outputs": [
    {
     "data": {
      "text/plain": [
       "-27"
      ]
     },
     "execution_count": 77,
     "metadata": {},
     "output_type": "execute_result"
    }
   ],
   "source": [
    "CDLTHRUSTING = talib.CDLTHRUSTING(spy['Open'], spy['High'],spy['Low'], spy['Close']) \n",
    "#enc.fit(CDLTHRUSTING.as_matrix()).transform(df.as_matrix()).toarray() \n",
    "simanim['CDLTHRUSTING'] = CDLTHRUSTING\n",
    "for i in range(0,len(CDLTHRUSTING)):\n",
    "    if simanim['CDLTHRUSTING'].iloc[i] == 100:\n",
    "        simanim['CDLTHRUSTING'].iloc[i] = 1\n",
    "    elif simanim['CDLTHRUSTING'].iloc[i] == -100:\n",
    "        simanim['CDLTHRUSTING'].iloc[i] = -1\n",
    "simanim['CDLTHRUSTING'].sum()"
   ]
  },
  {
   "cell_type": "code",
   "execution_count": 78,
   "metadata": {},
   "outputs": [
    {
     "data": {
      "text/plain": [
       "2"
      ]
     },
     "execution_count": 78,
     "metadata": {},
     "output_type": "execute_result"
    }
   ],
   "source": [
    "CDLTRISTAR = talib.CDLTRISTAR(spy['Open'], spy['High'],spy['Low'], spy['Close'])\n",
    "#enc.fit(CDLTRISTAR.as_matrix()).transform(df.as_matrix()).toarray() \n",
    "simanim['CDLTRISTAR'] = CDLTRISTAR\n",
    "for i in range(0,len(CDLTRISTAR)):\n",
    "    if simanim['CDLTRISTAR'].iloc[i] == 100:\n",
    "        simanim['CDLTRISTAR'].iloc[i] = 1\n",
    "    elif simanim['CDLTRISTAR'].iloc[i] == -100:\n",
    "        simanim['CDLTRISTAR'].iloc[i] = -1\n",
    "simanim['CDLTRISTAR'].sum()"
   ]
  },
  {
   "cell_type": "code",
   "execution_count": 79,
   "metadata": {},
   "outputs": [
    {
     "data": {
      "text/plain": [
       "-20"
      ]
     },
     "execution_count": 79,
     "metadata": {},
     "output_type": "execute_result"
    }
   ],
   "source": [
    "CDLUNIQUE3RIVER = talib.CDLUNIQUE3RIVER(spy['Open'], spy['High'],spy['Low'], spy['Close']) \n",
    "#enc.fit(CDLUNIQUE3RIVER.as_matrix()).transform(df.as_matrix()).toarray() \n",
    "simanim['CDLUNIQUE3RIVER'] = CDLUNIQUE3RIVER\n",
    "for i in range(0,len(CDLEVENINGSTAR)):\n",
    "    if simanim['CDLEVENINGSTAR'].iloc[i] == 100:\n",
    "        simanim['CDLEVENINGSTAR'].iloc[i] = 1\n",
    "    elif simanim['CDLEVENINGSTAR'].iloc[i] == -100:\n",
    "        simanim['CDLEVENINGSTAR'].iloc[i] = -1\n",
    "simanim['CDLEVENINGSTAR'].sum()"
   ]
  },
  {
   "cell_type": "code",
   "execution_count": 80,
   "metadata": {},
   "outputs": [
    {
     "data": {
      "text/plain": [
       "-2"
      ]
     },
     "execution_count": 80,
     "metadata": {},
     "output_type": "execute_result"
    }
   ],
   "source": [
    "CDLUPSIDEGAP2CROWS = talib.CDLUPSIDEGAP2CROWS(spy['Open'], spy['High'],spy['Low'], spy['Close']) \n",
    "#enc.fit(CDLUPSIDEGAP2CROWS.as_matrix()).transform(df.as_matrix()).toarray() \n",
    "simanim['CDLUPSIDEGAP2CROWS'] = CDLUPSIDEGAP2CROWS\n",
    "for i in range(0,len(CDLUPSIDEGAP2CROWS)):\n",
    "    if simanim['CDLUPSIDEGAP2CROWS'].iloc[i] == 100:\n",
    "        simanim['CDLUPSIDEGAP2CROWS'].iloc[i] = 1\n",
    "    elif simanim['CDLUPSIDEGAP2CROWS'].iloc[i] == -100:\n",
    "        simanim['CDLUPSIDEGAP2CROWS'].iloc[i] = -1\n",
    "simanim['CDLUPSIDEGAP2CROWS'].sum()"
   ]
  },
  {
   "cell_type": "code",
   "execution_count": 81,
   "metadata": {},
   "outputs": [
    {
     "data": {
      "text/plain": [
       "3"
      ]
     },
     "execution_count": 81,
     "metadata": {},
     "output_type": "execute_result"
    }
   ],
   "source": [
    "CDLXSIDEGAP3METHODS = talib.CDLXSIDEGAP3METHODS(spy['Open'], spy['High'],spy['Low'], spy['Close']) \n",
    "#enc.fit(CDLXSIDEGAP3METHODS.as_matrix()).transform(df.as_matrix()).toarray() \n",
    "simanim['CDLXSIDEGAP3METHODS'] = CDLXSIDEGAP3METHODS\n",
    "for i in range(0,len(CDLXSIDEGAP3METHODS)):\n",
    "    if simanim['CDLXSIDEGAP3METHODS'].iloc[i] == 100:\n",
    "        simanim['CDLXSIDEGAP3METHODS'].iloc[i] = 1\n",
    "    elif simanim['CDLXSIDEGAP3METHODS'].iloc[i] == -100:\n",
    "        simanim['CDLXSIDEGAP3METHODS'].iloc[i] = -1\n",
    "simanim['CDLXSIDEGAP3METHODS'].sum()"
   ]
  },
  {
   "cell_type": "code",
   "execution_count": 82,
   "metadata": {},
   "outputs": [
    {
     "data": {
      "text/html": [
       "<div>\n",
       "<style scoped>\n",
       "    .dataframe tbody tr th:only-of-type {\n",
       "        vertical-align: middle;\n",
       "    }\n",
       "\n",
       "    .dataframe tbody tr th {\n",
       "        vertical-align: top;\n",
       "    }\n",
       "\n",
       "    .dataframe thead th {\n",
       "        text-align: right;\n",
       "    }\n",
       "</style>\n",
       "<table border=\"1\" class=\"dataframe\">\n",
       "  <thead>\n",
       "    <tr style=\"text-align: right;\">\n",
       "      <th></th>\n",
       "      <th>CDL2CROWS</th>\n",
       "      <th>CDL3BLACKCROWS</th>\n",
       "      <th>CDL3INSIDE</th>\n",
       "      <th>CDL3LINESTRIKE</th>\n",
       "      <th>CDL3OUTSIDE</th>\n",
       "      <th>CDL3STARSINSOUTH</th>\n",
       "      <th>CDL3WHITESOLDIERS</th>\n",
       "      <th>CDLABANDONEDBABY</th>\n",
       "      <th>CDLADVANCEBLOCK</th>\n",
       "      <th>CDLBELTHOLD</th>\n",
       "      <th>...</th>\n",
       "      <th>CDLSPINNINGTOP</th>\n",
       "      <th>CDLSTALLEDPATTERN</th>\n",
       "      <th>CDLSTICKSANDWICH</th>\n",
       "      <th>CDLTAKURI</th>\n",
       "      <th>CDLTASUKIGAP</th>\n",
       "      <th>CDLTHRUSTING</th>\n",
       "      <th>CDLTRISTAR</th>\n",
       "      <th>CDLUNIQUE3RIVER</th>\n",
       "      <th>CDLUPSIDEGAP2CROWS</th>\n",
       "      <th>CDLXSIDEGAP3METHODS</th>\n",
       "    </tr>\n",
       "    <tr>\n",
       "      <th>Date</th>\n",
       "      <th></th>\n",
       "      <th></th>\n",
       "      <th></th>\n",
       "      <th></th>\n",
       "      <th></th>\n",
       "      <th></th>\n",
       "      <th></th>\n",
       "      <th></th>\n",
       "      <th></th>\n",
       "      <th></th>\n",
       "      <th></th>\n",
       "      <th></th>\n",
       "      <th></th>\n",
       "      <th></th>\n",
       "      <th></th>\n",
       "      <th></th>\n",
       "      <th></th>\n",
       "      <th></th>\n",
       "      <th></th>\n",
       "      <th></th>\n",
       "      <th></th>\n",
       "    </tr>\n",
       "  </thead>\n",
       "  <tbody>\n",
       "    <tr>\n",
       "      <th>2019-04-23</th>\n",
       "      <td>0</td>\n",
       "      <td>0</td>\n",
       "      <td>0</td>\n",
       "      <td>0</td>\n",
       "      <td>0</td>\n",
       "      <td>0</td>\n",
       "      <td>0</td>\n",
       "      <td>0</td>\n",
       "      <td>0</td>\n",
       "      <td>0</td>\n",
       "      <td>...</td>\n",
       "      <td>0</td>\n",
       "      <td>0</td>\n",
       "      <td>0</td>\n",
       "      <td>0</td>\n",
       "      <td>0</td>\n",
       "      <td>0</td>\n",
       "      <td>0</td>\n",
       "      <td>0</td>\n",
       "      <td>0</td>\n",
       "      <td>0</td>\n",
       "    </tr>\n",
       "    <tr>\n",
       "      <th>2019-04-24</th>\n",
       "      <td>0</td>\n",
       "      <td>0</td>\n",
       "      <td>0</td>\n",
       "      <td>0</td>\n",
       "      <td>0</td>\n",
       "      <td>0</td>\n",
       "      <td>0</td>\n",
       "      <td>0</td>\n",
       "      <td>0</td>\n",
       "      <td>1</td>\n",
       "      <td>...</td>\n",
       "      <td>0</td>\n",
       "      <td>0</td>\n",
       "      <td>0</td>\n",
       "      <td>0</td>\n",
       "      <td>0</td>\n",
       "      <td>0</td>\n",
       "      <td>0</td>\n",
       "      <td>0</td>\n",
       "      <td>0</td>\n",
       "      <td>0</td>\n",
       "    </tr>\n",
       "    <tr>\n",
       "      <th>2019-04-25</th>\n",
       "      <td>0</td>\n",
       "      <td>0</td>\n",
       "      <td>0</td>\n",
       "      <td>0</td>\n",
       "      <td>0</td>\n",
       "      <td>0</td>\n",
       "      <td>0</td>\n",
       "      <td>0</td>\n",
       "      <td>0</td>\n",
       "      <td>0</td>\n",
       "      <td>...</td>\n",
       "      <td>0</td>\n",
       "      <td>0</td>\n",
       "      <td>0</td>\n",
       "      <td>0</td>\n",
       "      <td>0</td>\n",
       "      <td>0</td>\n",
       "      <td>0</td>\n",
       "      <td>0</td>\n",
       "      <td>0</td>\n",
       "      <td>0</td>\n",
       "    </tr>\n",
       "    <tr>\n",
       "      <th>2019-04-26</th>\n",
       "      <td>0</td>\n",
       "      <td>0</td>\n",
       "      <td>0</td>\n",
       "      <td>0</td>\n",
       "      <td>0</td>\n",
       "      <td>0</td>\n",
       "      <td>0</td>\n",
       "      <td>0</td>\n",
       "      <td>0</td>\n",
       "      <td>0</td>\n",
       "      <td>...</td>\n",
       "      <td>0</td>\n",
       "      <td>0</td>\n",
       "      <td>0</td>\n",
       "      <td>0</td>\n",
       "      <td>0</td>\n",
       "      <td>0</td>\n",
       "      <td>0</td>\n",
       "      <td>0</td>\n",
       "      <td>0</td>\n",
       "      <td>0</td>\n",
       "    </tr>\n",
       "    <tr>\n",
       "      <th>2019-04-29</th>\n",
       "      <td>0</td>\n",
       "      <td>0</td>\n",
       "      <td>0</td>\n",
       "      <td>0</td>\n",
       "      <td>0</td>\n",
       "      <td>0</td>\n",
       "      <td>0</td>\n",
       "      <td>0</td>\n",
       "      <td>0</td>\n",
       "      <td>0</td>\n",
       "      <td>...</td>\n",
       "      <td>0</td>\n",
       "      <td>0</td>\n",
       "      <td>0</td>\n",
       "      <td>0</td>\n",
       "      <td>0</td>\n",
       "      <td>0</td>\n",
       "      <td>0</td>\n",
       "      <td>0</td>\n",
       "      <td>0</td>\n",
       "      <td>0</td>\n",
       "    </tr>\n",
       "  </tbody>\n",
       "</table>\n",
       "<p>5 rows × 61 columns</p>\n",
       "</div>"
      ],
      "text/plain": [
       "            CDL2CROWS  CDL3BLACKCROWS  CDL3INSIDE  CDL3LINESTRIKE  \\\n",
       "Date                                                                \n",
       "2019-04-23          0               0           0               0   \n",
       "2019-04-24          0               0           0               0   \n",
       "2019-04-25          0               0           0               0   \n",
       "2019-04-26          0               0           0               0   \n",
       "2019-04-29          0               0           0               0   \n",
       "\n",
       "            CDL3OUTSIDE  CDL3STARSINSOUTH  CDL3WHITESOLDIERS  \\\n",
       "Date                                                           \n",
       "2019-04-23            0                 0                  0   \n",
       "2019-04-24            0                 0                  0   \n",
       "2019-04-25            0                 0                  0   \n",
       "2019-04-26            0                 0                  0   \n",
       "2019-04-29            0                 0                  0   \n",
       "\n",
       "            CDLABANDONEDBABY  CDLADVANCEBLOCK  CDLBELTHOLD  ...  \\\n",
       "Date                                                        ...   \n",
       "2019-04-23                 0                0            0  ...   \n",
       "2019-04-24                 0                0            1  ...   \n",
       "2019-04-25                 0                0            0  ...   \n",
       "2019-04-26                 0                0            0  ...   \n",
       "2019-04-29                 0                0            0  ...   \n",
       "\n",
       "            CDLSPINNINGTOP  CDLSTALLEDPATTERN  CDLSTICKSANDWICH  CDLTAKURI  \\\n",
       "Date                                                                         \n",
       "2019-04-23               0                  0                 0          0   \n",
       "2019-04-24               0                  0                 0          0   \n",
       "2019-04-25               0                  0                 0          0   \n",
       "2019-04-26               0                  0                 0          0   \n",
       "2019-04-29               0                  0                 0          0   \n",
       "\n",
       "            CDLTASUKIGAP  CDLTHRUSTING  CDLTRISTAR  CDLUNIQUE3RIVER  \\\n",
       "Date                                                                  \n",
       "2019-04-23             0             0           0                0   \n",
       "2019-04-24             0             0           0                0   \n",
       "2019-04-25             0             0           0                0   \n",
       "2019-04-26             0             0           0                0   \n",
       "2019-04-29             0             0           0                0   \n",
       "\n",
       "            CDLUPSIDEGAP2CROWS  CDLXSIDEGAP3METHODS  \n",
       "Date                                                 \n",
       "2019-04-23                   0                    0  \n",
       "2019-04-24                   0                    0  \n",
       "2019-04-25                   0                    0  \n",
       "2019-04-26                   0                    0  \n",
       "2019-04-29                   0                    0  \n",
       "\n",
       "[5 rows x 61 columns]"
      ]
     },
     "execution_count": 82,
     "metadata": {},
     "output_type": "execute_result"
    }
   ],
   "source": [
    "simanim.tail()"
   ]
  },
  {
   "cell_type": "code",
   "execution_count": 83,
   "metadata": {},
   "outputs": [
    {
     "data": {
      "text/plain": [
       "(3634, 61)"
      ]
     },
     "execution_count": 83,
     "metadata": {},
     "output_type": "execute_result"
    }
   ],
   "source": [
    "simanim.shape"
   ]
  },
  {
   "cell_type": "code",
   "execution_count": 84,
   "metadata": {},
   "outputs": [
    {
     "data": {
      "text/plain": [
       "CDL2CROWS               -1\n",
       "CDL3BLACKCROWS           0\n",
       "CDL3INSIDE               7\n",
       "CDL3LINESTRIKE           1\n",
       "CDL3OUTSIDE             -3\n",
       "CDL3STARSINSOUTH         0\n",
       "CDL3WHITESOLDIERS        0\n",
       "CDLABANDONEDBABY         0\n",
       "CDLADVANCEBLOCK         -3\n",
       "CDLBELTHOLD            -19\n",
       "CDLBREAKAWAY             1\n",
       "CDLCLOSINGMARUBOZU      56\n",
       "CDLCONCEALBABYSWALL      0\n",
       "CDLCOUNTERATTACK        -3\n",
       "CDLDARKCLOUDCOVER      -36\n",
       "CDLDOJI                588\n",
       "CDLDOJISTAR            -18\n",
       "CDLDRAGONFLYDOJI        66\n",
       "CDLENGULFING            -3\n",
       "CDLEVENINGDOJISTAR      -6\n",
       "CDLEVENINGSTAR         -20\n",
       "CDLGAPSIDESIDEWHITE      7\n",
       "CDLGRAVESTONEDOJI       41\n",
       "CDLHAMMER               91\n",
       "CDLHANGINGMAN         -103\n",
       "CDLHARAMI               -2\n",
       "CDLHARAMICROSS           9\n",
       "CDLHIGHWAVE             18\n",
       "CDLHIKKAKE             172\n",
       "CDLHIKKAKEMOD         -202\n",
       "                      ... \n",
       "CDLIDENTICAL3CROWS       0\n",
       "CDLINNECK               -1\n",
       "CDLINVERTEDHAMMER       50\n",
       "CDLKICKING               0\n",
       "CDLKICKINGBYLENGTH       0\n",
       "CDLLADDERBOTTOM         13\n",
       "CDLLONGLEGGEDDOJI      588\n",
       "CDLLONGLINE             54\n",
       "CDLMARUBOZU             19\n",
       "CDLMATCHINGLOW          45\n",
       "CDLMATHOLD               0\n",
       "CDLMORNINGDOJISTAR       8\n",
       "CDLMORNINGSTAR          24\n",
       "CDLONNECK              -10\n",
       "CDLPIERCING              9\n",
       "CDLRICKSHAWMAN         457\n",
       "CDLRISEFALL3METHODS     -1\n",
       "CDLSEPARATINGLINES       0\n",
       "CDLSHOOTINGSTAR        -63\n",
       "CDLSHORTLINE            35\n",
       "CDLSPINNINGTOP           7\n",
       "CDLSTALLEDPATTERN       -5\n",
       "CDLSTICKSANDWICH         3\n",
       "CDLTAKURI               65\n",
       "CDLTASUKIGAP             1\n",
       "CDLTHRUSTING           -27\n",
       "CDLTRISTAR               2\n",
       "CDLUNIQUE3RIVER        300\n",
       "CDLUPSIDEGAP2CROWS      -2\n",
       "CDLXSIDEGAP3METHODS      3\n",
       "Length: 61, dtype: int64"
      ]
     },
     "execution_count": 84,
     "metadata": {},
     "output_type": "execute_result"
    }
   ],
   "source": [
    "simanim.sum()"
   ]
  },
  {
   "cell_type": "code",
   "execution_count": 85,
   "metadata": {},
   "outputs": [
    {
     "name": "stdout",
     "output_type": "stream",
     "text": [
      "<class 'pandas.core.frame.DataFrame'>\n",
      "DatetimeIndex: 3634 entries, 2004-11-18 to 2019-04-29\n",
      "Data columns (total 61 columns):\n",
      "CDL2CROWS              3634 non-null int32\n",
      "CDL3BLACKCROWS         3634 non-null int32\n",
      "CDL3INSIDE             3634 non-null int32\n",
      "CDL3LINESTRIKE         3634 non-null int32\n",
      "CDL3OUTSIDE            3634 non-null int32\n",
      "CDL3STARSINSOUTH       3634 non-null int32\n",
      "CDL3WHITESOLDIERS      3634 non-null int32\n",
      "CDLABANDONEDBABY       3634 non-null int32\n",
      "CDLADVANCEBLOCK        3634 non-null int32\n",
      "CDLBELTHOLD            3634 non-null int32\n",
      "CDLBREAKAWAY           3634 non-null int32\n",
      "CDLCLOSINGMARUBOZU     3634 non-null int32\n",
      "CDLCONCEALBABYSWALL    3634 non-null int32\n",
      "CDLCOUNTERATTACK       3634 non-null int32\n",
      "CDLDARKCLOUDCOVER      3634 non-null int32\n",
      "CDLDOJI                3634 non-null int32\n",
      "CDLDOJISTAR            3634 non-null int32\n",
      "CDLDRAGONFLYDOJI       3634 non-null int32\n",
      "CDLENGULFING           3634 non-null int32\n",
      "CDLEVENINGDOJISTAR     3634 non-null int32\n",
      "CDLEVENINGSTAR         3634 non-null int32\n",
      "CDLGAPSIDESIDEWHITE    3634 non-null int32\n",
      "CDLGRAVESTONEDOJI      3634 non-null int32\n",
      "CDLHAMMER              3634 non-null int32\n",
      "CDLHANGINGMAN          3634 non-null int32\n",
      "CDLHARAMI              3634 non-null int32\n",
      "CDLHARAMICROSS         3634 non-null int32\n",
      "CDLHIGHWAVE            3634 non-null int32\n",
      "CDLHIKKAKE             3634 non-null int32\n",
      "CDLHIKKAKEMOD          3634 non-null int32\n",
      "CDLHOMINGPIGEON        3634 non-null int32\n",
      "CDLIDENTICAL3CROWS     3634 non-null int32\n",
      "CDLINNECK              3634 non-null int32\n",
      "CDLINVERTEDHAMMER      3634 non-null int32\n",
      "CDLKICKING             3634 non-null int32\n",
      "CDLKICKINGBYLENGTH     3634 non-null int32\n",
      "CDLLADDERBOTTOM        3634 non-null int32\n",
      "CDLLONGLEGGEDDOJI      3634 non-null int32\n",
      "CDLLONGLINE            3634 non-null int32\n",
      "CDLMARUBOZU            3634 non-null int32\n",
      "CDLMATCHINGLOW         3634 non-null int32\n",
      "CDLMATHOLD             3634 non-null int32\n",
      "CDLMORNINGDOJISTAR     3634 non-null int32\n",
      "CDLMORNINGSTAR         3634 non-null int32\n",
      "CDLONNECK              3634 non-null int32\n",
      "CDLPIERCING            3634 non-null int32\n",
      "CDLRICKSHAWMAN         3634 non-null int32\n",
      "CDLRISEFALL3METHODS    3634 non-null int32\n",
      "CDLSEPARATINGLINES     3634 non-null int32\n",
      "CDLSHOOTINGSTAR        3634 non-null int32\n",
      "CDLSHORTLINE           3634 non-null int32\n",
      "CDLSPINNINGTOP         3634 non-null int32\n",
      "CDLSTALLEDPATTERN      3634 non-null int32\n",
      "CDLSTICKSANDWICH       3634 non-null int32\n",
      "CDLTAKURI              3634 non-null int32\n",
      "CDLTASUKIGAP           3634 non-null int32\n",
      "CDLTHRUSTING           3634 non-null int32\n",
      "CDLTRISTAR             3634 non-null int32\n",
      "CDLUNIQUE3RIVER        3634 non-null int32\n",
      "CDLUPSIDEGAP2CROWS     3634 non-null int32\n",
      "CDLXSIDEGAP3METHODS    3634 non-null int32\n",
      "dtypes: int32(61)\n",
      "memory usage: 894.3 KB\n"
     ]
    }
   ],
   "source": [
    "simanim.info()"
   ]
  },
  {
   "cell_type": "code",
   "execution_count": 86,
   "metadata": {},
   "outputs": [],
   "source": [
    "# DEFINITIONS DES SIMANIM\n",
    "\n",
    "ema9 = talib.EMA(spy['Close'], timeperiod=9) \n",
    "simanim['ema9'] = ema9\n",
    "\n",
    "ema54 = talib.EMA(spy['Close'], timeperiod=54) \n",
    "simanim['ema54'] = ema54\n",
    "\n",
    "ema100 = talib.EMA(spy['Close'], timeperiod=100) \n",
    "simanim['ema100'] = ema100\n",
    "\n",
    "#atr8 = talib.EMA(spy['Close'], timeperiod=8)\n",
    "#simanim['atr8'] = atr8\n",
    "\n",
    "rsi = talib.RSI(spy['Close'], timeperiod=14)\n",
    "simanim['rsi'] = rsi\n",
    "\n",
    "#macd, macdsignal, macdhist = talib.MACD(spy['Close'], fastperiod=12, slowperiod=26, signalperiod=9)\n",
    "#simanim['macd'] = macd\n",
    "#simanim['macdsignal'] = macdsignal\n",
    "#simanim['macdhist'] = macdhist\n",
    "\n",
    "#fastk, fastd = talib.STOCHRSI(spy['Close'], timeperiod=14, fastk_period=5, fastd_period=3, fastd_matype=0)\n",
    "#simanim['fastk'] = fastk\n",
    "#simanim['fastd'] = fastd\n",
    "\n",
    "# ad = talib.AD(spy['High'], spy['Low'], spy['Close'], spy['Volume']) # => Coorelation\n",
    "# simanim['ad'] = ad\n",
    "\n",
    "atr14 = talib.ATR(spy['High'], spy['Low'], spy['Close'], timeperiod=14)\n",
    "simanim['atr14'] = atr14\n",
    "\n",
    "wclprice = talib.WCLPRICE(spy['High'], spy['Low'], spy['Close'])\n",
    "simanim['wclprice'] = wclprice\n",
    "\n",
    "upper, middle, lower =  talib.BBANDS(spy['Close'], 9, 2, 2)\n",
    "simanim['BBup'] = upper\n",
    "simanim['BBmid'] = middle\n",
    "simanim['BBlow'] = lower\n",
    "\n",
    "#sine, leadsine = talib.HT_SINE(spy['Close'])\n",
    "#simanim['sine'] = sine\n",
    "#simanim['leadsine'] = leadsine\n",
    "\n",
    "instant_trendline = talib.HT_TRENDLINE(spy['Close'])\n",
    "simanim['instant_trendline'] = instant_trendline\n",
    "\n",
    "#midprice5 = talib.MIDPRICE(spy['High'],spy['Low'], timeperiod=5) # Correlation \n",
    "#simanim['midprice5'] = midprice5\n",
    "\n",
    "#ultosc = talib.ULTOSC(spy['High'], spy['Low'], spy['Close'], timeperiod1=5, timeperiod2=9, timeperiod3=13)\n",
    "#simanim['ultosc'] = ultosc\n",
    "\n",
    "#obv = talib.OBV(spy['Close'], spy['Volume'])\n",
    "#simanim['obv'] = obv\n",
    "\n",
    "#ht_trendmode = talib.HT_TRENDMODE(spy['Close'])\n",
    "#simanim['ht_trendmode'] = ht_trendmode"
   ]
  },
  {
   "cell_type": "code",
   "execution_count": 87,
   "metadata": {},
   "outputs": [
    {
     "data": {
      "text/html": [
       "<div>\n",
       "<style scoped>\n",
       "    .dataframe tbody tr th:only-of-type {\n",
       "        vertical-align: middle;\n",
       "    }\n",
       "\n",
       "    .dataframe tbody tr th {\n",
       "        vertical-align: top;\n",
       "    }\n",
       "\n",
       "    .dataframe thead th {\n",
       "        text-align: right;\n",
       "    }\n",
       "</style>\n",
       "<table border=\"1\" class=\"dataframe\">\n",
       "  <thead>\n",
       "    <tr style=\"text-align: right;\">\n",
       "      <th></th>\n",
       "      <th>CDL2CROWS</th>\n",
       "      <th>CDL3BLACKCROWS</th>\n",
       "      <th>CDL3INSIDE</th>\n",
       "      <th>CDL3LINESTRIKE</th>\n",
       "      <th>CDL3OUTSIDE</th>\n",
       "      <th>CDL3STARSINSOUTH</th>\n",
       "      <th>CDL3WHITESOLDIERS</th>\n",
       "      <th>CDLABANDONEDBABY</th>\n",
       "      <th>CDLADVANCEBLOCK</th>\n",
       "      <th>CDLBELTHOLD</th>\n",
       "      <th>...</th>\n",
       "      <th>ema9</th>\n",
       "      <th>ema54</th>\n",
       "      <th>ema100</th>\n",
       "      <th>rsi</th>\n",
       "      <th>atr14</th>\n",
       "      <th>wclprice</th>\n",
       "      <th>BBup</th>\n",
       "      <th>BBmid</th>\n",
       "      <th>BBlow</th>\n",
       "      <th>instant_trendline</th>\n",
       "    </tr>\n",
       "    <tr>\n",
       "      <th>Date</th>\n",
       "      <th></th>\n",
       "      <th></th>\n",
       "      <th></th>\n",
       "      <th></th>\n",
       "      <th></th>\n",
       "      <th></th>\n",
       "      <th></th>\n",
       "      <th></th>\n",
       "      <th></th>\n",
       "      <th></th>\n",
       "      <th></th>\n",
       "      <th></th>\n",
       "      <th></th>\n",
       "      <th></th>\n",
       "      <th></th>\n",
       "      <th></th>\n",
       "      <th></th>\n",
       "      <th></th>\n",
       "      <th></th>\n",
       "      <th></th>\n",
       "      <th></th>\n",
       "    </tr>\n",
       "  </thead>\n",
       "  <tbody>\n",
       "    <tr>\n",
       "      <th>2019-04-23</th>\n",
       "      <td>0</td>\n",
       "      <td>0</td>\n",
       "      <td>0</td>\n",
       "      <td>0</td>\n",
       "      <td>0</td>\n",
       "      <td>0</td>\n",
       "      <td>0</td>\n",
       "      <td>0</td>\n",
       "      <td>0</td>\n",
       "      <td>0</td>\n",
       "      <td>...</td>\n",
       "      <td>120.940058</td>\n",
       "      <td>122.151680</td>\n",
       "      <td>121.424750</td>\n",
       "      <td>35.358774</td>\n",
       "      <td>0.821959</td>\n",
       "      <td>119.997501</td>\n",
       "      <td>123.324155</td>\n",
       "      <td>121.173334</td>\n",
       "      <td>119.022512</td>\n",
       "      <td>121.756314</td>\n",
       "    </tr>\n",
       "    <tr>\n",
       "      <th>2019-04-24</th>\n",
       "      <td>0</td>\n",
       "      <td>0</td>\n",
       "      <td>0</td>\n",
       "      <td>0</td>\n",
       "      <td>0</td>\n",
       "      <td>0</td>\n",
       "      <td>0</td>\n",
       "      <td>0</td>\n",
       "      <td>0</td>\n",
       "      <td>1</td>\n",
       "      <td>...</td>\n",
       "      <td>120.846047</td>\n",
       "      <td>122.090528</td>\n",
       "      <td>121.405844</td>\n",
       "      <td>38.791876</td>\n",
       "      <td>0.811819</td>\n",
       "      <td>120.425001</td>\n",
       "      <td>122.217207</td>\n",
       "      <td>120.833334</td>\n",
       "      <td>119.449461</td>\n",
       "      <td>121.630545</td>\n",
       "    </tr>\n",
       "    <tr>\n",
       "      <th>2019-04-25</th>\n",
       "      <td>0</td>\n",
       "      <td>0</td>\n",
       "      <td>0</td>\n",
       "      <td>0</td>\n",
       "      <td>0</td>\n",
       "      <td>0</td>\n",
       "      <td>0</td>\n",
       "      <td>0</td>\n",
       "      <td>0</td>\n",
       "      <td>0</td>\n",
       "      <td>...</td>\n",
       "      <td>120.790838</td>\n",
       "      <td>122.035237</td>\n",
       "      <td>121.389293</td>\n",
       "      <td>39.776020</td>\n",
       "      <td>0.798832</td>\n",
       "      <td>120.684999</td>\n",
       "      <td>121.819162</td>\n",
       "      <td>120.680001</td>\n",
       "      <td>119.540841</td>\n",
       "      <td>121.531439</td>\n",
       "    </tr>\n",
       "    <tr>\n",
       "      <th>2019-04-26</th>\n",
       "      <td>0</td>\n",
       "      <td>0</td>\n",
       "      <td>0</td>\n",
       "      <td>0</td>\n",
       "      <td>0</td>\n",
       "      <td>0</td>\n",
       "      <td>0</td>\n",
       "      <td>0</td>\n",
       "      <td>0</td>\n",
       "      <td>0</td>\n",
       "      <td>...</td>\n",
       "      <td>120.906671</td>\n",
       "      <td>122.011046</td>\n",
       "      <td>121.388911</td>\n",
       "      <td>47.103571</td>\n",
       "      <td>0.820344</td>\n",
       "      <td>121.407501</td>\n",
       "      <td>121.583385</td>\n",
       "      <td>120.628890</td>\n",
       "      <td>119.674396</td>\n",
       "      <td>121.450789</td>\n",
       "    </tr>\n",
       "    <tr>\n",
       "      <th>2019-04-29</th>\n",
       "      <td>0</td>\n",
       "      <td>0</td>\n",
       "      <td>0</td>\n",
       "      <td>0</td>\n",
       "      <td>0</td>\n",
       "      <td>0</td>\n",
       "      <td>0</td>\n",
       "      <td>0</td>\n",
       "      <td>0</td>\n",
       "      <td>0</td>\n",
       "      <td>...</td>\n",
       "      <td>120.891337</td>\n",
       "      <td>121.968099</td>\n",
       "      <td>121.377843</td>\n",
       "      <td>43.275994</td>\n",
       "      <td>0.811748</td>\n",
       "      <td>120.810001</td>\n",
       "      <td>121.236605</td>\n",
       "      <td>120.543335</td>\n",
       "      <td>119.850065</td>\n",
       "      <td>121.374009</td>\n",
       "    </tr>\n",
       "  </tbody>\n",
       "</table>\n",
       "<p>5 rows × 71 columns</p>\n",
       "</div>"
      ],
      "text/plain": [
       "            CDL2CROWS  CDL3BLACKCROWS  CDL3INSIDE  CDL3LINESTRIKE  \\\n",
       "Date                                                                \n",
       "2019-04-23          0               0           0               0   \n",
       "2019-04-24          0               0           0               0   \n",
       "2019-04-25          0               0           0               0   \n",
       "2019-04-26          0               0           0               0   \n",
       "2019-04-29          0               0           0               0   \n",
       "\n",
       "            CDL3OUTSIDE  CDL3STARSINSOUTH  CDL3WHITESOLDIERS  \\\n",
       "Date                                                           \n",
       "2019-04-23            0                 0                  0   \n",
       "2019-04-24            0                 0                  0   \n",
       "2019-04-25            0                 0                  0   \n",
       "2019-04-26            0                 0                  0   \n",
       "2019-04-29            0                 0                  0   \n",
       "\n",
       "            CDLABANDONEDBABY  CDLADVANCEBLOCK  CDLBELTHOLD  ...        ema9  \\\n",
       "Date                                                        ...               \n",
       "2019-04-23                 0                0            0  ...  120.940058   \n",
       "2019-04-24                 0                0            1  ...  120.846047   \n",
       "2019-04-25                 0                0            0  ...  120.790838   \n",
       "2019-04-26                 0                0            0  ...  120.906671   \n",
       "2019-04-29                 0                0            0  ...  120.891337   \n",
       "\n",
       "                 ema54      ema100        rsi     atr14    wclprice  \\\n",
       "Date                                                                  \n",
       "2019-04-23  122.151680  121.424750  35.358774  0.821959  119.997501   \n",
       "2019-04-24  122.090528  121.405844  38.791876  0.811819  120.425001   \n",
       "2019-04-25  122.035237  121.389293  39.776020  0.798832  120.684999   \n",
       "2019-04-26  122.011046  121.388911  47.103571  0.820344  121.407501   \n",
       "2019-04-29  121.968099  121.377843  43.275994  0.811748  120.810001   \n",
       "\n",
       "                  BBup       BBmid       BBlow  instant_trendline  \n",
       "Date                                                               \n",
       "2019-04-23  123.324155  121.173334  119.022512         121.756314  \n",
       "2019-04-24  122.217207  120.833334  119.449461         121.630545  \n",
       "2019-04-25  121.819162  120.680001  119.540841         121.531439  \n",
       "2019-04-26  121.583385  120.628890  119.674396         121.450789  \n",
       "2019-04-29  121.236605  120.543335  119.850065         121.374009  \n",
       "\n",
       "[5 rows x 71 columns]"
      ]
     },
     "execution_count": 87,
     "metadata": {},
     "output_type": "execute_result"
    }
   ],
   "source": [
    "simanim.tail()"
   ]
  },
  {
   "cell_type": "code",
   "execution_count": 88,
   "metadata": {},
   "outputs": [],
   "source": [
    "simanim = pd.concat((simanim,spy['Adj Close']),axis=1)"
   ]
  },
  {
   "cell_type": "code",
   "execution_count": 89,
   "metadata": {},
   "outputs": [
    {
     "data": {
      "text/html": [
       "<div>\n",
       "<style scoped>\n",
       "    .dataframe tbody tr th:only-of-type {\n",
       "        vertical-align: middle;\n",
       "    }\n",
       "\n",
       "    .dataframe tbody tr th {\n",
       "        vertical-align: top;\n",
       "    }\n",
       "\n",
       "    .dataframe thead th {\n",
       "        text-align: right;\n",
       "    }\n",
       "</style>\n",
       "<table border=\"1\" class=\"dataframe\">\n",
       "  <thead>\n",
       "    <tr style=\"text-align: right;\">\n",
       "      <th></th>\n",
       "      <th>CDL2CROWS</th>\n",
       "      <th>CDL3BLACKCROWS</th>\n",
       "      <th>CDL3INSIDE</th>\n",
       "      <th>CDL3LINESTRIKE</th>\n",
       "      <th>CDL3OUTSIDE</th>\n",
       "      <th>CDL3STARSINSOUTH</th>\n",
       "      <th>CDL3WHITESOLDIERS</th>\n",
       "      <th>CDLABANDONEDBABY</th>\n",
       "      <th>CDLADVANCEBLOCK</th>\n",
       "      <th>CDLBELTHOLD</th>\n",
       "      <th>...</th>\n",
       "      <th>ema54</th>\n",
       "      <th>ema100</th>\n",
       "      <th>rsi</th>\n",
       "      <th>atr14</th>\n",
       "      <th>wclprice</th>\n",
       "      <th>BBup</th>\n",
       "      <th>BBmid</th>\n",
       "      <th>BBlow</th>\n",
       "      <th>instant_trendline</th>\n",
       "      <th>Adj Close</th>\n",
       "    </tr>\n",
       "    <tr>\n",
       "      <th>Date</th>\n",
       "      <th></th>\n",
       "      <th></th>\n",
       "      <th></th>\n",
       "      <th></th>\n",
       "      <th></th>\n",
       "      <th></th>\n",
       "      <th></th>\n",
       "      <th></th>\n",
       "      <th></th>\n",
       "      <th></th>\n",
       "      <th></th>\n",
       "      <th></th>\n",
       "      <th></th>\n",
       "      <th></th>\n",
       "      <th></th>\n",
       "      <th></th>\n",
       "      <th></th>\n",
       "      <th></th>\n",
       "      <th></th>\n",
       "      <th></th>\n",
       "      <th></th>\n",
       "    </tr>\n",
       "  </thead>\n",
       "  <tbody>\n",
       "    <tr>\n",
       "      <th>2004-11-18</th>\n",
       "      <td>0</td>\n",
       "      <td>0</td>\n",
       "      <td>0</td>\n",
       "      <td>0</td>\n",
       "      <td>0</td>\n",
       "      <td>0</td>\n",
       "      <td>0</td>\n",
       "      <td>0</td>\n",
       "      <td>0</td>\n",
       "      <td>0</td>\n",
       "      <td>...</td>\n",
       "      <td>NaN</td>\n",
       "      <td>NaN</td>\n",
       "      <td>NaN</td>\n",
       "      <td>NaN</td>\n",
       "      <td>44.330001</td>\n",
       "      <td>NaN</td>\n",
       "      <td>NaN</td>\n",
       "      <td>NaN</td>\n",
       "      <td>NaN</td>\n",
       "      <td>44.380001</td>\n",
       "    </tr>\n",
       "    <tr>\n",
       "      <th>2004-11-19</th>\n",
       "      <td>0</td>\n",
       "      <td>0</td>\n",
       "      <td>0</td>\n",
       "      <td>0</td>\n",
       "      <td>0</td>\n",
       "      <td>0</td>\n",
       "      <td>0</td>\n",
       "      <td>0</td>\n",
       "      <td>0</td>\n",
       "      <td>0</td>\n",
       "      <td>...</td>\n",
       "      <td>NaN</td>\n",
       "      <td>NaN</td>\n",
       "      <td>NaN</td>\n",
       "      <td>NaN</td>\n",
       "      <td>44.737499</td>\n",
       "      <td>NaN</td>\n",
       "      <td>NaN</td>\n",
       "      <td>NaN</td>\n",
       "      <td>NaN</td>\n",
       "      <td>44.779999</td>\n",
       "    </tr>\n",
       "    <tr>\n",
       "      <th>2004-11-22</th>\n",
       "      <td>0</td>\n",
       "      <td>0</td>\n",
       "      <td>0</td>\n",
       "      <td>0</td>\n",
       "      <td>0</td>\n",
       "      <td>0</td>\n",
       "      <td>0</td>\n",
       "      <td>0</td>\n",
       "      <td>0</td>\n",
       "      <td>0</td>\n",
       "      <td>...</td>\n",
       "      <td>NaN</td>\n",
       "      <td>NaN</td>\n",
       "      <td>NaN</td>\n",
       "      <td>NaN</td>\n",
       "      <td>44.902501</td>\n",
       "      <td>NaN</td>\n",
       "      <td>NaN</td>\n",
       "      <td>NaN</td>\n",
       "      <td>NaN</td>\n",
       "      <td>44.950001</td>\n",
       "    </tr>\n",
       "    <tr>\n",
       "      <th>2004-11-23</th>\n",
       "      <td>0</td>\n",
       "      <td>0</td>\n",
       "      <td>0</td>\n",
       "      <td>0</td>\n",
       "      <td>0</td>\n",
       "      <td>0</td>\n",
       "      <td>0</td>\n",
       "      <td>0</td>\n",
       "      <td>0</td>\n",
       "      <td>0</td>\n",
       "      <td>...</td>\n",
       "      <td>NaN</td>\n",
       "      <td>NaN</td>\n",
       "      <td>NaN</td>\n",
       "      <td>NaN</td>\n",
       "      <td>44.785000</td>\n",
       "      <td>NaN</td>\n",
       "      <td>NaN</td>\n",
       "      <td>NaN</td>\n",
       "      <td>NaN</td>\n",
       "      <td>44.750000</td>\n",
       "    </tr>\n",
       "    <tr>\n",
       "      <th>2004-11-24</th>\n",
       "      <td>0</td>\n",
       "      <td>0</td>\n",
       "      <td>0</td>\n",
       "      <td>0</td>\n",
       "      <td>0</td>\n",
       "      <td>0</td>\n",
       "      <td>0</td>\n",
       "      <td>0</td>\n",
       "      <td>0</td>\n",
       "      <td>0</td>\n",
       "      <td>...</td>\n",
       "      <td>NaN</td>\n",
       "      <td>NaN</td>\n",
       "      <td>NaN</td>\n",
       "      <td>NaN</td>\n",
       "      <td>44.985000</td>\n",
       "      <td>NaN</td>\n",
       "      <td>NaN</td>\n",
       "      <td>NaN</td>\n",
       "      <td>NaN</td>\n",
       "      <td>45.049999</td>\n",
       "    </tr>\n",
       "  </tbody>\n",
       "</table>\n",
       "<p>5 rows × 72 columns</p>\n",
       "</div>"
      ],
      "text/plain": [
       "            CDL2CROWS  CDL3BLACKCROWS  CDL3INSIDE  CDL3LINESTRIKE  \\\n",
       "Date                                                                \n",
       "2004-11-18          0               0           0               0   \n",
       "2004-11-19          0               0           0               0   \n",
       "2004-11-22          0               0           0               0   \n",
       "2004-11-23          0               0           0               0   \n",
       "2004-11-24          0               0           0               0   \n",
       "\n",
       "            CDL3OUTSIDE  CDL3STARSINSOUTH  CDL3WHITESOLDIERS  \\\n",
       "Date                                                           \n",
       "2004-11-18            0                 0                  0   \n",
       "2004-11-19            0                 0                  0   \n",
       "2004-11-22            0                 0                  0   \n",
       "2004-11-23            0                 0                  0   \n",
       "2004-11-24            0                 0                  0   \n",
       "\n",
       "            CDLABANDONEDBABY  CDLADVANCEBLOCK  CDLBELTHOLD  ...  ema54  \\\n",
       "Date                                                        ...          \n",
       "2004-11-18                 0                0            0  ...    NaN   \n",
       "2004-11-19                 0                0            0  ...    NaN   \n",
       "2004-11-22                 0                0            0  ...    NaN   \n",
       "2004-11-23                 0                0            0  ...    NaN   \n",
       "2004-11-24                 0                0            0  ...    NaN   \n",
       "\n",
       "            ema100  rsi  atr14   wclprice  BBup  BBmid  BBlow  \\\n",
       "Date                                                            \n",
       "2004-11-18     NaN  NaN    NaN  44.330001   NaN    NaN    NaN   \n",
       "2004-11-19     NaN  NaN    NaN  44.737499   NaN    NaN    NaN   \n",
       "2004-11-22     NaN  NaN    NaN  44.902501   NaN    NaN    NaN   \n",
       "2004-11-23     NaN  NaN    NaN  44.785000   NaN    NaN    NaN   \n",
       "2004-11-24     NaN  NaN    NaN  44.985000   NaN    NaN    NaN   \n",
       "\n",
       "            instant_trendline  Adj Close  \n",
       "Date                                      \n",
       "2004-11-18                NaN  44.380001  \n",
       "2004-11-19                NaN  44.779999  \n",
       "2004-11-22                NaN  44.950001  \n",
       "2004-11-23                NaN  44.750000  \n",
       "2004-11-24                NaN  45.049999  \n",
       "\n",
       "[5 rows x 72 columns]"
      ]
     },
     "execution_count": 89,
     "metadata": {},
     "output_type": "execute_result"
    }
   ],
   "source": [
    "simanim.head()"
   ]
  },
  {
   "cell_type": "markdown",
   "metadata": {},
   "source": [
    "# TREND GLISSANT 5 JOURS COEF +atr14*2\n",
    "trend = []"
   ]
  },
  {
   "cell_type": "markdown",
   "metadata": {},
   "source": [
    "for i in range(0,len(simanim)-5):\n",
    "    \n",
    "    #ii = (atr14[i]*2)/spy.iloc[i,3]\n",
    "    ii = 0.019\n",
    "    jour = spy.iloc[i,3]\n",
    "    jour2 = spy.iloc[i+1,3]\n",
    "    jour3 = spy.iloc[i+2,3]\n",
    "    jour4 = spy.iloc[i+3,3]\n",
    "    jour5 = spy.iloc[i+4,3]\n",
    "    moy = (jour2+jour3+jour4+jour5)/4\n",
    "    jtest = jour+(jour*ii)\n",
    "    \n",
    "    if jour*(1+ii)<jour5:\n",
    "        trend.append(1)\n",
    "        \n",
    "    \n",
    "    elif jour*(1-ii)>jour5:\n",
    "        trend.append(2)\n",
    "        \n",
    "    \n",
    "    else :\n",
    "        trend.append(0)\n",
    "        \n",
    "\n",
    "nb_row= len(trend)\n",
    "#simanim.loc[:nb_row,'trend'] = trend5\n",
    "\n",
    "simanim.loc[:nb_row,'trend'] = trend\n",
    "\n",
    "#simanim.loc[:nb_row,'baisse'] = baisse\n",
    "\n",
    "#simanim.loc[:nb_row,'stagne'] = stagne\n",
    "simanim.shape"
   ]
  },
  {
   "cell_type": "code",
   "execution_count": 90,
   "metadata": {},
   "outputs": [
    {
     "data": {
      "text/plain": [
       "(0, (3535, 72))"
      ]
     },
     "execution_count": 90,
     "metadata": {},
     "output_type": "execute_result"
    }
   ],
   "source": [
    "simanim = simanim.dropna()\n",
    "simanim.isnull().sum().sum(),simanim.shape#,simanim['trend'].sum()"
   ]
  },
  {
   "cell_type": "code",
   "execution_count": 91,
   "metadata": {},
   "outputs": [
    {
     "name": "stdout",
     "output_type": "stream",
     "text": [
      "Période d'étude :  3535\n",
      "Sur un découpage 80% - 20% de la période : \n",
      "Bloc 1 :  2828  jours \n",
      "Bloc 2 : 707  jours\n"
     ]
    }
   ],
   "source": [
    "#delta = round((date(simanim.index[simanim.shape[0]-1].year,\\\n",
    " #                   simanim.index[simanim.shape[0]-1].month,simanim.index[simanim.shape[0]-1].day)\\\n",
    "  #             -date(simanim.index[0].year,simanim.index[0].month,simanim.index[0].day)).days)\n",
    "delta = simanim.shape[0]\n",
    "bloc1 = round(delta*0.8)\n",
    "bloc2 = delta - bloc1\n",
    "print(\"Période d'étude : \",delta)\n",
    "print('Sur un découpage 80% - 20% de la période : ')\n",
    "print('Bloc 1 : ',bloc1,' jours \\nBloc 2 :',bloc2,' jours')"
   ]
  },
  {
   "cell_type": "code",
   "execution_count": 92,
   "metadata": {},
   "outputs": [],
   "source": [
    "simanim.to_csv('simanim.csv')"
   ]
  },
  {
   "cell_type": "code",
   "execution_count": 93,
   "metadata": {},
   "outputs": [
    {
     "data": {
      "text/plain": [
       "(3535, 72)"
      ]
     },
     "execution_count": 93,
     "metadata": {},
     "output_type": "execute_result"
    }
   ],
   "source": [
    "simanim.shape"
   ]
  },
  {
   "cell_type": "code",
   "execution_count": 94,
   "metadata": {},
   "outputs": [
    {
     "data": {
      "image/png": "[encoded data removed]",
      "text/plain": [
       "<Figure size 1152x432 with 2 Axes>"
      ]
     },
     "metadata": {
      "needs_background": "light"
     },
     "output_type": "display_data"
    }
   ],
   "source": [
    "plt.figure(figsize=(16,6))\n",
    "sns.heatmap(simanim.iloc[:,:-1].corr())\n",
    "plt.show()"
   ]
  },
  {
   "cell_type": "code",
   "execution_count": 84,
   "metadata": {},
   "outputs": [],
   "source": [
    "# SPLIT TRAIN ET TEST\n",
    "X = simanim.iloc[:,:-1]\n",
    "y = simanim.iloc[:,-1]\n",
    "#X_train, X_test, y_train, y_test = train_test_split(X, y, random_state=0)\n",
    "X_train = X.iloc[:bloc1,:]\n",
    "X_test = X.iloc[bloc1:,:]\n",
    "y_train = y.iloc[:bloc1]\n",
    "y_test = y.iloc[bloc1:]"
   ]
  },
  {
   "cell_type": "code",
   "execution_count": null,
   "metadata": {},
   "outputs": [],
   "source": [
    "import statsmodels.api as sm\n",
    "logit_model=sm.MNLogit(y,X)\n",
    "result=logit_model.fit(\n",
    "    start_params=None,\n",
    "    method='bfgs',\n",
    "    maxiter=350,\n",
    "    full_output=1,\n",
    "    disp=1,\n",
    "    callback=None,\n",
    ")\n",
    "print(result.summary2())"
   ]
  },
  {
   "cell_type": "code",
   "execution_count": null,
   "metadata": {},
   "outputs": [],
   "source": [
    "from sklearn.metrics import roc_auc_score\n",
    "from sklearn.metrics import roc_curve\n",
    "logit_roc_auc = roc_auc_score(y_test, logreg.predict(X_test))\n",
    "fpr, tpr, thresholds = roc_curve(y_test, logreg.predict_proba(X_test)[:,1])\n",
    "plt.figure()\n",
    "plt.plot(fpr, tpr, label='Logistic Regression (area = %0.2f)' % logit_roc_auc)\n",
    "plt.plot([0, 1], [0, 1],'r--')\n",
    "plt.xlim([0.0, 1.0])\n",
    "plt.ylim([0.0, 1.05])\n",
    "plt.xlabel('False Positive Rate')\n",
    "plt.ylabel('True Positive Rate')\n",
    "plt.title('Receiver operating characteristic')\n",
    "plt.legend(loc=\"lower right\")\n",
    "plt.savefig('Log_ROC')\n",
    "plt.show()"
   ]
  },
  {
   "cell_type": "code",
   "execution_count": null,
   "metadata": {},
   "outputs": [],
   "source": [
    "classifier = LogisticRegression(\n",
    "    penalty='l2',\n",
    "    dual=False,\n",
    "    tol=0.001,\n",
    "    C=1,\n",
    "    fit_intercept=True,\n",
    "    intercept_scaling=1,\n",
    "    class_weight=None,\n",
    "    random_state=None,\n",
    "    solver='newton-cg',\n",
    "    max_iter=1000,\n",
    "    multi_class='ovr',\n",
    "    verbose=1,\n",
    "    warm_start=False,\n",
    "    n_jobs=-1,\n",
    ")\n",
    "classifier.fit(X_train, y_train)"
   ]
  },
  {
   "cell_type": "code",
   "execution_count": null,
   "metadata": {},
   "outputs": [],
   "source": [
    "X_test.shape"
   ]
  },
  {
   "cell_type": "code",
   "execution_count": null,
   "metadata": {},
   "outputs": [],
   "source": [
    "y_pred = classifier.predict(X_test)"
   ]
  },
  {
   "cell_type": "code",
   "execution_count": null,
   "metadata": {},
   "outputs": [],
   "source": [
    "from sklearn.metrics import confusion_matrix\n",
    "confusion_matrix = confusion_matrix(y_test, y_pred)\n",
    "print(confusion_matrix)"
   ]
  },
  {
   "cell_type": "code",
   "execution_count": null,
   "metadata": {},
   "outputs": [],
   "source": [
    "print('Accuracy de la regression logistique sue le test set: {:.2f}%'.format(classifier.score(X_test, y_test)*100))"
   ]
  },
  {
   "cell_type": "code",
   "execution_count": null,
   "metadata": {},
   "outputs": [],
   "source": [
    "y_pred"
   ]
  },
  {
   "cell_type": "code",
   "execution_count": null,
   "metadata": {},
   "outputs": [],
   "source": [
    "from sklearn.metrics import classification_report\n",
    "print(classification_report(y_test, y_pred))"
   ]
  },
  {
   "cell_type": "code",
   "execution_count": null,
   "metadata": {},
   "outputs": [],
   "source": [
    "print(\"The precision is the ratio tp / (tp + fp) where tp is the number of true positives and fp the number of false positives. The precision is intuitively the ability of the classifier to not label a sample as positive if it is negative.The recall is the ratio tp / (tp + fn) where tp is the number of true positives and fn the number of false negatives. The recall is intuitively the ability of the classifier to find all the positive samples.The F-beta score can be interpreted as a weighted harmonic mean of the precision and recall, where an F-beta score reaches its best value at 1 and worst score at 0.The F-beta score weights the recall more than the precision by a factor of beta. beta = 1.0 means recall and precision are equally important.The support is the number of occurrences of each class in y_test.\")"
   ]
  },
  {
   "cell_type": "code",
   "execution_count": null,
   "metadata": {},
   "outputs": [],
   "source": [
    "y_train.shape,y_train.sum(),y_test.shape,y_test.sum()"
   ]
  },
  {
   "cell_type": "code",
   "execution_count": null,
   "metadata": {},
   "outputs": [],
   "source": [
    "# PHASE DEUX\n"
   ]
  },
  {
   "cell_type": "code",
   "execution_count": null,
   "metadata": {},
   "outputs": [],
   "source": []
  },
  {
   "cell_type": "code",
   "execution_count": null,
   "metadata": {},
   "outputs": [],
   "source": [
    "Xtrain = simanim.iloc[:bloc1,:-1]\n",
    "Xtest = simanim.iloc[bloc1:,:-1]\n",
    "y = simanim.iloc[:bloc1,-1]"
   ]
  },
  {
   "cell_type": "code",
   "execution_count": null,
   "metadata": {},
   "outputs": [],
   "source": [
    "param = {}\n",
    "param['booster'] = 'gbtree'\n",
    "param['objective'] = 'binary:logistic'\n",
    "param[\"eval_metric\"] = \"error\"\n",
    "param['eta'] = 0.3\n",
    "param['gamma'] = 0\n",
    "param['max_depth'] = 6\n",
    "param['min_child_weight']=1\n",
    "param['max_delta_step'] = 0\n",
    "param['subsample']= 1\n",
    "param['colsample_bytree']=1\n",
    "param['silent'] = 1\n",
    "param['seed'] = 0\n",
    "param['base_score'] = 0.5\n",
    "\n",
    "clf = xgb.XGBClassifier(param)"
   ]
  },
  {
   "cell_type": "code",
   "execution_count": null,
   "metadata": {},
   "outputs": [],
   "source": [
    "boost = XGBClassifier()\n",
    "boost.fit(Xtrain, y)\n",
    "p_boost = boost.predict(Xtrain)\n",
    "print (\"Score Train -->\", round(boost.score(Xtrain, y) *100,2), \" %\")"
   ]
  },
  {
   "cell_type": "code",
   "execution_count": null,
   "metadata": {},
   "outputs": [],
   "source": [
    "xgb.plot_importance(boost)"
   ]
  },
  {
   "cell_type": "code",
   "execution_count": null,
   "metadata": {},
   "outputs": [],
   "source": [
    "xgb.to_graphviz(boost, num_trees=2)"
   ]
  },
  {
   "cell_type": "code",
   "execution_count": null,
   "metadata": {},
   "outputs": [],
   "source": [
    "Xtrain.head()"
   ]
  },
  {
   "cell_type": "code",
   "execution_count": null,
   "metadata": {},
   "outputs": [],
   "source": [
    "import catboost as cb"
   ]
  },
  {
   "cell_type": "code",
   "execution_count": null,
   "metadata": {},
   "outputs": [],
   "source": [
    "Xtrain = simanim.iloc[:bloc1,:-1]\n",
    "Xtest = simanim.iloc[bloc1:,:-1]\n",
    "y = simanim.iloc[:bloc1,-1]\n",
    "simanim.shape"
   ]
  },
  {
   "cell_type": "code",
   "execution_count": null,
   "metadata": {},
   "outputs": [],
   "source": [
    "q=0\n",
    "featlist = []\n",
    "for bb in range(8,69):\n",
    "    q+=1\n",
    "    featlist.append(q)\n",
    "#cat_features = featlist\n",
    "params = {'depth': [4, 7, 10],\n",
    "          'learning_rate' : [0.03, 0.1, 0.15],\n",
    "          'l2_leaf_reg': [1,4,9],\n",
    "          'iterations': [300]}\n",
    "\n",
    "cbc = cb.CatBoostClassifier(\n",
    "    iterations=None,\n",
    "    learning_rate=None,\n",
    "    depth=None,\n",
    "    l2_leaf_reg=None,\n",
    "    model_size_reg=None,\n",
    "    rsm=None,\n",
    "    loss_function='Logloss',\n",
    "    border_count=None,\n",
    "    feature_border_type=None,\n",
    "    input_borders=None,\n",
    "    output_borders=None,\n",
    "    fold_permutation_block=None,\n",
    "    od_pval=None,\n",
    "    od_wait=None,\n",
    "    od_type=None,\n",
    "    nan_mode=None,\n",
    "    counter_calc_method=None,\n",
    "    leaf_estimation_iterations=None,\n",
    "    leaf_estimation_method=None,\n",
    "    thread_count=None,\n",
    "    random_seed=None,\n",
    "    use_best_model=None,\n",
    "    best_model_min_trees=None,\n",
    "    verbose=None,\n",
    "    silent=None,\n",
    "    logging_level=None,\n",
    "    metric_period=None,\n",
    "    ctr_leaf_count_limit=None,\n",
    "    store_all_simple_ctr=None,\n",
    "    max_ctr_complexity=None,\n",
    "    has_time=None,\n",
    "    allow_const_label=None,\n",
    "    classes_count=None,\n",
    "    class_weights=None,\n",
    "    class_names=None,\n",
    "    one_hot_max_size=None,\n",
    "    random_strength=None,\n",
    "    name=None,\n",
    "    ignored_features=None,\n",
    "    train_dir=None,\n",
    "    custom_loss=None,\n",
    "    custom_metric=None,\n",
    "    eval_metric=None,\n",
    "    bagging_temperature=None,\n",
    "    save_snapshot=None,\n",
    "    snapshot_file=None,\n",
    "    snapshot_interval=None,\n",
    "    fold_len_multiplier=None,\n",
    "    used_ram_limit=None,\n",
    "    gpu_ram_part=None,\n",
    "    pinned_memory_size=None,\n",
    "    allow_writing_files=None,\n",
    "    final_ctr_computation_mode=None,\n",
    "    approx_on_full_history=None,\n",
    "    boosting_type=None,\n",
    "    simple_ctr=None,\n",
    "    combinations_ctr=None,\n",
    "    per_feature_ctr=None,\n",
    "    ctr_description=None,\n",
    "    ctr_target_border_count=None,\n",
    "    task_type=None,\n",
    "    device_config=None,\n",
    "    devices=None,\n",
    "    bootstrap_type=None,\n",
    "    subsample=None,\n",
    "    sampling_unit=None,\n",
    "    dev_score_calc_obj_block_size=None,\n",
    "    dev_efb_max_buckets=None,\n",
    "    efb_max_conflict_fraction=None,\n",
    "    max_depth=None,\n",
    "    n_estimators=None,\n",
    "    num_boost_round=None,\n",
    "    num_trees=None,\n",
    "    colsample_bylevel=None,\n",
    "    random_state=None,\n",
    "    reg_lambda=None,\n",
    "    objective=None,\n",
    "    eta=None,\n",
    "    max_bin=None,\n",
    "    scale_pos_weight=None,\n",
    "    gpu_cat_features_storage=None,\n",
    "    data_partition=None,\n",
    "    metadata=None,\n",
    "    early_stopping_rounds=None,\n",
    "    cat_features=None,\n",
    "    grow_policy=None,\n",
    "    min_data_in_leaf=None,\n",
    "    max_leaves=None,\n",
    "    score_function=None,\n",
    "    leaf_estimation_backtracking=None,\n",
    "    ctr_history_unit=None,\n",
    ")\n",
    "cbc.fit(Xtrain, y)#, cat_features)\n",
    "p_cbc = cbc.predict(Xtrain)\n",
    "print (\"Score Train -->\", round(cbc.score(Xtrain, y) *100,2), \" %\")"
   ]
  },
  {
   "cell_type": "code",
   "execution_count": null,
   "metadata": {},
   "outputs": [],
   "source": [
    "clf = cb.CatBoostClassifier(eval_metric=\"AUC\",\n",
    "\n",
    "depth=10,\n",
    "\n",
    "iterations= 500,\n",
    "\n",
    "l2_leaf_reg= 9,\n",
    "\n",
    "learning_rate= 0.15)\n",
    "\n",
    "clf.fit(Xtrain, y)#, cat_features)\n",
    "\n",
    "print (\"Score Train -->\", round(clf.score(Xtrain, y) *100,2), \" %\")\n"
   ]
  },
  {
   "cell_type": "code",
   "execution_count": null,
   "metadata": {},
   "outputs": [],
   "source": [
    "from catboost import CatBoostRegressor,Pool\n",
    "X_train = simanim.iloc[:bloc1,:-1]\n",
    "X_validation = simanim.iloc[bloc1:,:-1]\n",
    "y_train = simanim.iloc[:bloc1,-1]\n",
    "y_validation = simanim.iloc[bloc1:,-1]"
   ]
  },
  {
   "cell_type": "code",
   "execution_count": null,
   "metadata": {},
   "outputs": [],
   "source": [
    "X_train.shape,X_test.shape,y_train.shape,y_validation.shape"
   ]
  },
  {
   "cell_type": "code",
   "execution_count": null,
   "metadata": {},
   "outputs": [],
   "source": [
    "categorical_features_indices = np.where(X.dtypes != np.float)[0]"
   ]
  },
  {
   "cell_type": "code",
   "execution_count": null,
   "metadata": {},
   "outputs": [],
   "source": [
    "model=CatBoostRegressor(iterations=50, depth=3, learning_rate=0.1, loss_function='RMSE')\n",
    "model.fit(X_train, y_train,cat_features=categorical_features_indices,eval_set=(X_validation, y_validation),plot=True)"
   ]
  },
  {
   "cell_type": "code",
   "execution_count": null,
   "metadata": {},
   "outputs": [],
   "source": [
    "#model.predict(simanim.iloc[-1,:-1])\n",
    "simanim"
   ]
  },
  {
   "cell_type": "code",
   "execution_count": null,
   "metadata": {},
   "outputs": [],
   "source": [
    "#BACKTEST"
   ]
  },
  {
   "cell_type": "code",
   "execution_count": null,
   "metadata": {},
   "outputs": [],
   "source": [
    "len(y_pred)"
   ]
  },
  {
   "cell_type": "code",
   "execution_count": null,
   "metadata": {},
   "outputs": [],
   "source": [
    "backtest = pd.DataFrame(index=spy.index)\n",
    "backtest = spy\n",
    "backtest = backtest.iloc[-len(y_pred):,:]\n",
    "backtest ['pichapo'] = y_pred "
   ]
  },
  {
   "cell_type": "code",
   "execution_count": null,
   "metadata": {},
   "outputs": [],
   "source": [
    "backtest['pichapo'].sum()"
   ]
  },
  {
   "cell_type": "code",
   "execution_count": null,
   "metadata": {},
   "outputs": [],
   "source": []
  }
 ],
 "metadata": {
  "kernelspec": {
   "display_name": "Python 3",
   "language": "python",
   "name": "python3"
  },
  "language_info": {
   "codemirror_mode": {
    "name": "ipython",
    "version": 3
   },
   "file_extension": ".py",
   "mimetype": "text/x-python",
   "name": "python",
   "nbconvert_exporter": "python",
   "pygments_lexer": "ipython3",
   "version": "3.6.8"
  }
 },
 "nbformat": 4,
 "nbformat_minor": 2
}
