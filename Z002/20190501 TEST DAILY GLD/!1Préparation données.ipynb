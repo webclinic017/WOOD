{
 "cells": [
  {
   "cell_type": "code",
   "execution_count": 48,
   "metadata": {},
   "outputs": [],
   "source": [
    "___Author___='LumberJack Jyss'"
   ]
  },
  {
   "cell_type": "code",
   "execution_count": 49,
   "metadata": {},
   "outputs": [
    {
     "name": "stdout",
     "output_type": "stream",
     "text": [
      "LumberJack BRUTAL_60 PREPARATION\n",
      "LumberJack Jyss (c)\n"
     ]
    }
   ],
   "source": [
    "print('LumberJack BRUTAL_60 PREPARATION\\nLumberJack Jyss (c)')"
   ]
  },
  {
   "cell_type": "code",
   "execution_count": 50,
   "metadata": {},
   "outputs": [
    {
     "name": "stdout",
     "output_type": "stream",
     "text": [
      "Importation des librairies...\n",
      "Librairies importées\n"
     ]
    }
   ],
   "source": [
    "print('Importation des librairies...')\n",
    "import numpy as np\n",
    "import pandas as pd\n",
    "from yahoofinancials import YahooFinancials\n",
    "import pandas_datareader as web\n",
    "from keras.utils import normalize\n",
    "print('Librairies importées')"
   ]
  },
  {
   "cell_type": "code",
   "execution_count": 51,
   "metadata": {},
   "outputs": [
    {
     "name": "stdout",
     "output_type": "stream",
     "text": [
      "PARAMETRES TEMPORELS INITIAUX\n",
      "Période d'étude :  5205\n",
      "Sur un découpage 80% - 20% de la période : \n",
      "Bloc 1 :  4164  jours \n",
      "Bloc 2 : 1041  jours\n",
      "Note : On change de règles de calculs, car tous les jours ne sont pas ouvrés\n"
     ]
    }
   ],
   "source": [
    "# PARAMETRES TEMPORELS INITIAUX\n",
    "print('PARAMETRES TEMPORELS INITIAUX')\n",
    "start = pd.to_datetime('2004-11-29')\n",
    "end = pd.to_datetime('2019-03-01')\n",
    "delta = round((end-start).days)\n",
    "bloc1 = round(delta*0.8)\n",
    "bloc2 = delta - bloc1\n",
    "print(\"Période d'étude : \",delta)\n",
    "print('Sur un découpage 80% - 20% de la période : ')\n",
    "print('Bloc 1 : ',bloc1,' jours \\nBloc 2 :',bloc2,' jours')\n",
    "print('Note : On change de règles de calculs, car tous les jours ne sont pas ouvrés')"
   ]
  },
  {
   "cell_type": "code",
   "execution_count": 52,
   "metadata": {},
   "outputs": [
    {
     "name": "stdout",
     "output_type": "stream",
     "text": [
      "Scraping des données\n"
     ]
    }
   ],
   "source": [
    "print('Scraping des données')\n",
    "spy = web.DataReader('SPY','yahoo',start,end)\n",
    "tlt = web.DataReader('TLT','yahoo',start,end)\n",
    "vix = web.DataReader('^VIX','yahoo',start,end)\n",
    "gld = web.DataReader('GLD','yahoo',start,end)\n",
    "#eurostoxx = web.DataReader('^STOXX50E','yahoo',start,end)\n",
    "#nikkei = web.DataReader('^N225','yahoo',start,end)\n",
    "currencies = ['EURJPY=X', 'GBPJPY=X', 'USDJPY=X',]\n",
    "daily_currency_prices = YahooFinancials(currencies).get_historical_price_data(start.strftime('%Y-%m-%d')\\\n",
    "                                                                              , end.strftime('%Y-%m-%d'), 'daily')\n",
    "temp_df = pd.DataFrame.from_dict(daily_currency_prices.values()).T"
   ]
  },
  {
   "cell_type": "code",
   "execution_count": 53,
   "metadata": {},
   "outputs": [
    {
     "name": "stdout",
     "output_type": "stream",
     "text": [
      "Scraping des données brutes effectué\n",
      "\n"
     ]
    }
   ],
   "source": [
    "eurjpy = pd.DataFrame.from_dict(temp_df.iloc[4,0])\n",
    "eurjpy = eurjpy.set_index('formatted_date')\n",
    "eurjpy = eurjpy.drop(['date','volume'],axis=1)\n",
    "\n",
    "gbpjpy = pd.DataFrame.from_dict(temp_df.iloc[4,1])\n",
    "gbpjpy = gbpjpy.set_index('formatted_date')\n",
    "gbpjpy = gbpjpy.drop(['date','volume'],axis=1)\n",
    "\n",
    "usdjpy = pd.DataFrame.from_dict(temp_df.iloc[4,2])\n",
    "usdjpy = usdjpy.set_index('formatted_date')\n",
    "usdjpy = usdjpy.drop(['date','volume'],axis=1)\n",
    "\n",
    "print('Scraping des données brutes effectué\\n')"
   ]
  },
  {
   "cell_type": "code",
   "execution_count": 54,
   "metadata": {},
   "outputs": [
    {
     "name": "stdout",
     "output_type": "stream",
     "text": [
      "DONNEES BRUTES TRAITEES\n"
     ]
    }
   ],
   "source": [
    "# TRAITEMENT DES DONNEES BRUTES\n",
    "spy = spy.drop(['Adj Close','Volume'],axis = 1)\n",
    "spy.columns = ['Open_spy','High_spy','Low_spy','SPY']\n",
    "\n",
    "vix = vix.drop(['Open','Adj Close','High','Low','Volume'],axis = 1)\n",
    "vix.columns = ['vix']\n",
    "\n",
    "tlt = tlt.drop(['Open','Adj Close','High','Low','Volume'],axis = 1)\n",
    "tlt.columns = ['tlt']\n",
    "\n",
    "gld = gld.drop(['Open','Adj Close','High','Low','Volume'],axis = 1)\n",
    "gld.columns = ['gold']\n",
    "\n",
    "eurjpy = eurjpy.drop(['open','high','low','adjclose'],axis = 1)\n",
    "eurjpy.columns = ['eur/usd']\n",
    "\n",
    "gbpjpy = gbpjpy.drop(['open','high','low','adjclose'],axis = 1)\n",
    "gbpjpy.columns = ['gpb/usd']\n",
    "\n",
    "usdjpy = usdjpy.drop(['open','high','low','adjclose'],axis = 1)\n",
    "usdjpy.columns = ['usd/jpy']\n",
    "\n",
    "print('DONNEES BRUTES TRAITEES')"
   ]
  },
  {
   "cell_type": "code",
   "execution_count": null,
   "metadata": {},
   "outputs": [],
   "source": []
  },
  {
   "cell_type": "code",
   "execution_count": null,
   "metadata": {},
   "outputs": [],
   "source": []
  },
  {
   "cell_type": "code",
   "execution_count": 55,
   "metadata": {},
   "outputs": [],
   "source": [
    "toto = pd.concat((eurjpy,gbpjpy,usdjpy),axis=1)\n",
    "titi = pd.concat((tlt,vix,gld,spy),axis=1)\n",
    "raw_dataset = pd.merge(toto, titi,left_index=True,right_index=True)"
   ]
  },
  {
   "cell_type": "code",
   "execution_count": 56,
   "metadata": {},
   "outputs": [
    {
     "data": {
      "text/html": [
       "<div>\n",
       "<style scoped>\n",
       "    .dataframe tbody tr th:only-of-type {\n",
       "        vertical-align: middle;\n",
       "    }\n",
       "\n",
       "    .dataframe tbody tr th {\n",
       "        vertical-align: top;\n",
       "    }\n",
       "\n",
       "    .dataframe thead th {\n",
       "        text-align: right;\n",
       "    }\n",
       "</style>\n",
       "<table border=\"1\" class=\"dataframe\">\n",
       "  <thead>\n",
       "    <tr style=\"text-align: right;\">\n",
       "      <th></th>\n",
       "      <th>eur/usd</th>\n",
       "      <th>gpb/usd</th>\n",
       "      <th>usd/jpy</th>\n",
       "      <th>tlt</th>\n",
       "      <th>vix</th>\n",
       "      <th>gold</th>\n",
       "      <th>Open_spy</th>\n",
       "      <th>High_spy</th>\n",
       "      <th>Low_spy</th>\n",
       "      <th>SPY</th>\n",
       "    </tr>\n",
       "  </thead>\n",
       "  <tbody>\n",
       "    <tr>\n",
       "      <th>2004-11-29</th>\n",
       "      <td>136.580002</td>\n",
       "      <td>194.910004</td>\n",
       "      <td>103.029999</td>\n",
       "      <td>87.309998</td>\n",
       "      <td>13.30</td>\n",
       "      <td>45.400002</td>\n",
       "      <td>119.010002</td>\n",
       "      <td>117.480003</td>\n",
       "      <td>118.790001</td>\n",
       "      <td>117.809998</td>\n",
       "    </tr>\n",
       "    <tr>\n",
       "      <th>2004-11-30</th>\n",
       "      <td>136.830002</td>\n",
       "      <td>196.490005</td>\n",
       "      <td>102.900002</td>\n",
       "      <td>86.940002</td>\n",
       "      <td>13.24</td>\n",
       "      <td>45.119999</td>\n",
       "      <td>118.239998</td>\n",
       "      <td>117.639999</td>\n",
       "      <td>118.000000</td>\n",
       "      <td>117.889999</td>\n",
       "    </tr>\n",
       "    <tr>\n",
       "      <th>2004-12-01</th>\n",
       "      <td>136.820007</td>\n",
       "      <td>198.139999</td>\n",
       "      <td>102.510002</td>\n",
       "      <td>86.449997</td>\n",
       "      <td>12.97</td>\n",
       "      <td>45.380001</td>\n",
       "      <td>119.500000</td>\n",
       "      <td>118.099998</td>\n",
       "      <td>118.160004</td>\n",
       "      <td>119.230003</td>\n",
       "    </tr>\n",
       "    <tr>\n",
       "      <th>2004-12-02</th>\n",
       "      <td>136.690002</td>\n",
       "      <td>198.330002</td>\n",
       "      <td>103.099998</td>\n",
       "      <td>86.099998</td>\n",
       "      <td>12.98</td>\n",
       "      <td>44.950001</td>\n",
       "      <td>119.870003</td>\n",
       "      <td>119.010002</td>\n",
       "      <td>119.099998</td>\n",
       "      <td>119.330002</td>\n",
       "    </tr>\n",
       "    <tr>\n",
       "      <th>2004-12-03</th>\n",
       "      <td>137.440002</td>\n",
       "      <td>198.369995</td>\n",
       "      <td>102.089996</td>\n",
       "      <td>87.440002</td>\n",
       "      <td>12.96</td>\n",
       "      <td>45.599998</td>\n",
       "      <td>120.139999</td>\n",
       "      <td>119.089996</td>\n",
       "      <td>119.309998</td>\n",
       "      <td>119.250000</td>\n",
       "    </tr>\n",
       "  </tbody>\n",
       "</table>\n",
       "</div>"
      ],
      "text/plain": [
       "               eur/usd     gpb/usd     usd/jpy        tlt    vix       gold  \\\n",
       "2004-11-29  136.580002  194.910004  103.029999  87.309998  13.30  45.400002   \n",
       "2004-11-30  136.830002  196.490005  102.900002  86.940002  13.24  45.119999   \n",
       "2004-12-01  136.820007  198.139999  102.510002  86.449997  12.97  45.380001   \n",
       "2004-12-02  136.690002  198.330002  103.099998  86.099998  12.98  44.950001   \n",
       "2004-12-03  137.440002  198.369995  102.089996  87.440002  12.96  45.599998   \n",
       "\n",
       "              Open_spy    High_spy     Low_spy         SPY  \n",
       "2004-11-29  119.010002  117.480003  118.790001  117.809998  \n",
       "2004-11-30  118.239998  117.639999  118.000000  117.889999  \n",
       "2004-12-01  119.500000  118.099998  118.160004  119.230003  \n",
       "2004-12-02  119.870003  119.010002  119.099998  119.330002  \n",
       "2004-12-03  120.139999  119.089996  119.309998  119.250000  "
      ]
     },
     "execution_count": 56,
     "metadata": {},
     "output_type": "execute_result"
    }
   ],
   "source": [
    "raw_dataset.head()"
   ]
  },
  {
   "cell_type": "code",
   "execution_count": 57,
   "metadata": {},
   "outputs": [
    {
     "data": {
      "text/html": [
       "<div>\n",
       "<style scoped>\n",
       "    .dataframe tbody tr th:only-of-type {\n",
       "        vertical-align: middle;\n",
       "    }\n",
       "\n",
       "    .dataframe tbody tr th {\n",
       "        vertical-align: top;\n",
       "    }\n",
       "\n",
       "    .dataframe thead th {\n",
       "        text-align: right;\n",
       "    }\n",
       "</style>\n",
       "<table border=\"1\" class=\"dataframe\">\n",
       "  <thead>\n",
       "    <tr style=\"text-align: right;\">\n",
       "      <th></th>\n",
       "      <th>eur/usd</th>\n",
       "      <th>gpb/usd</th>\n",
       "      <th>usd/jpy</th>\n",
       "      <th>tlt</th>\n",
       "      <th>vix</th>\n",
       "      <th>gold</th>\n",
       "      <th>Open_spy</th>\n",
       "      <th>High_spy</th>\n",
       "      <th>Low_spy</th>\n",
       "      <th>SPY</th>\n",
       "    </tr>\n",
       "  </thead>\n",
       "  <tbody>\n",
       "    <tr>\n",
       "      <th>2019-02-25</th>\n",
       "      <td>125.632004</td>\n",
       "      <td>144.714005</td>\n",
       "      <td>110.772003</td>\n",
       "      <td>121.209999</td>\n",
       "      <td>14.85</td>\n",
       "      <td>125.370003</td>\n",
       "      <td>281.309998</td>\n",
       "      <td>279.429993</td>\n",
       "      <td>280.730011</td>\n",
       "      <td>279.519989</td>\n",
       "    </tr>\n",
       "    <tr>\n",
       "      <th>2019-02-26</th>\n",
       "      <td>126.206001</td>\n",
       "      <td>145.761002</td>\n",
       "      <td>111.045998</td>\n",
       "      <td>121.809998</td>\n",
       "      <td>15.17</td>\n",
       "      <td>125.580002</td>\n",
       "      <td>280.299988</td>\n",
       "      <td>278.899994</td>\n",
       "      <td>279.130005</td>\n",
       "      <td>279.320007</td>\n",
       "    </tr>\n",
       "    <tr>\n",
       "      <th>2019-02-27</th>\n",
       "      <td>125.930000</td>\n",
       "      <td>146.561005</td>\n",
       "      <td>110.556000</td>\n",
       "      <td>120.430000</td>\n",
       "      <td>14.70</td>\n",
       "      <td>124.690002</td>\n",
       "      <td>279.589996</td>\n",
       "      <td>277.480011</td>\n",
       "      <td>278.519989</td>\n",
       "      <td>279.200012</td>\n",
       "    </tr>\n",
       "    <tr>\n",
       "      <th>2019-02-28</th>\n",
       "      <td>126.155998</td>\n",
       "      <td>147.636002</td>\n",
       "      <td>110.862000</td>\n",
       "      <td>120.019997</td>\n",
       "      <td>14.78</td>\n",
       "      <td>123.989998</td>\n",
       "      <td>279.450012</td>\n",
       "      <td>278.320007</td>\n",
       "      <td>278.959991</td>\n",
       "      <td>278.679993</td>\n",
       "    </tr>\n",
       "    <tr>\n",
       "      <th>2019-03-01</th>\n",
       "      <td>126.646004</td>\n",
       "      <td>147.703995</td>\n",
       "      <td>111.357002</td>\n",
       "      <td>118.660004</td>\n",
       "      <td>13.57</td>\n",
       "      <td>121.879997</td>\n",
       "      <td>280.880005</td>\n",
       "      <td>278.820007</td>\n",
       "      <td>280.440002</td>\n",
       "      <td>280.420013</td>\n",
       "    </tr>\n",
       "  </tbody>\n",
       "</table>\n",
       "</div>"
      ],
      "text/plain": [
       "               eur/usd     gpb/usd     usd/jpy         tlt    vix        gold  \\\n",
       "2019-02-25  125.632004  144.714005  110.772003  121.209999  14.85  125.370003   \n",
       "2019-02-26  126.206001  145.761002  111.045998  121.809998  15.17  125.580002   \n",
       "2019-02-27  125.930000  146.561005  110.556000  120.430000  14.70  124.690002   \n",
       "2019-02-28  126.155998  147.636002  110.862000  120.019997  14.78  123.989998   \n",
       "2019-03-01  126.646004  147.703995  111.357002  118.660004  13.57  121.879997   \n",
       "\n",
       "              Open_spy    High_spy     Low_spy         SPY  \n",
       "2019-02-25  281.309998  279.429993  280.730011  279.519989  \n",
       "2019-02-26  280.299988  278.899994  279.130005  279.320007  \n",
       "2019-02-27  279.589996  277.480011  278.519989  279.200012  \n",
       "2019-02-28  279.450012  278.320007  278.959991  278.679993  \n",
       "2019-03-01  280.880005  278.820007  280.440002  280.420013  "
      ]
     },
     "execution_count": 57,
     "metadata": {},
     "output_type": "execute_result"
    }
   ],
   "source": [
    "raw_dataset.tail()"
   ]
  },
  {
   "cell_type": "code",
   "execution_count": 58,
   "metadata": {},
   "outputs": [],
   "source": [
    "raw_dataset = raw_dataset.dropna()"
   ]
  },
  {
   "cell_type": "code",
   "execution_count": 59,
   "metadata": {},
   "outputs": [
    {
     "data": {
      "text/plain": [
       "eur/usd     0\n",
       "gpb/usd     0\n",
       "usd/jpy     0\n",
       "tlt         0\n",
       "vix         0\n",
       "gold        0\n",
       "Open_spy    0\n",
       "High_spy    0\n",
       "Low_spy     0\n",
       "SPY         0\n",
       "dtype: int64"
      ]
     },
     "execution_count": 59,
     "metadata": {},
     "output_type": "execute_result"
    }
   ],
   "source": [
    "raw_dataset.isnull().sum()"
   ]
  },
  {
   "cell_type": "code",
   "execution_count": 60,
   "metadata": {},
   "outputs": [
    {
     "name": "stdout",
     "output_type": "stream",
     "text": [
      "<class 'pandas.core.frame.DataFrame'>\n",
      "DatetimeIndex: 3149 entries, 2004-11-29 to 2019-03-01\n",
      "Data columns (total 10 columns):\n",
      "eur/usd     3149 non-null float64\n",
      "gpb/usd     3149 non-null float64\n",
      "usd/jpy     3149 non-null float64\n",
      "tlt         3149 non-null float64\n",
      "vix         3149 non-null float64\n",
      "gold        3149 non-null float64\n",
      "Open_spy    3149 non-null float64\n",
      "High_spy    3149 non-null float64\n",
      "Low_spy     3149 non-null float64\n",
      "SPY         3149 non-null float64\n",
      "dtypes: float64(10)\n",
      "memory usage: 270.6 KB\n"
     ]
    }
   ],
   "source": [
    "raw_dataset.info()"
   ]
  },
  {
   "cell_type": "code",
   "execution_count": 61,
   "metadata": {},
   "outputs": [],
   "source": [
    "normalized_dataset = normalize(raw_dataset.iloc[:,:-4], axis=-1, order=2)"
   ]
  },
  {
   "cell_type": "code",
   "execution_count": 62,
   "metadata": {},
   "outputs": [
    {
     "data": {
      "text/html": [
       "<div>\n",
       "<style scoped>\n",
       "    .dataframe tbody tr th:only-of-type {\n",
       "        vertical-align: middle;\n",
       "    }\n",
       "\n",
       "    .dataframe tbody tr th {\n",
       "        vertical-align: top;\n",
       "    }\n",
       "\n",
       "    .dataframe thead th {\n",
       "        text-align: right;\n",
       "    }\n",
       "</style>\n",
       "<table border=\"1\" class=\"dataframe\">\n",
       "  <thead>\n",
       "    <tr style=\"text-align: right;\">\n",
       "      <th></th>\n",
       "      <th>eur/usd</th>\n",
       "      <th>gpb/usd</th>\n",
       "      <th>usd/jpy</th>\n",
       "      <th>tlt</th>\n",
       "      <th>vix</th>\n",
       "      <th>gold</th>\n",
       "    </tr>\n",
       "  </thead>\n",
       "  <tbody>\n",
       "    <tr>\n",
       "      <th>2004-11-29</th>\n",
       "      <td>0.491816</td>\n",
       "      <td>0.701859</td>\n",
       "      <td>0.371005</td>\n",
       "      <td>0.314398</td>\n",
       "      <td>0.047892</td>\n",
       "      <td>0.163483</td>\n",
       "    </tr>\n",
       "    <tr>\n",
       "      <th>2004-11-30</th>\n",
       "      <td>0.490910</td>\n",
       "      <td>0.704955</td>\n",
       "      <td>0.369178</td>\n",
       "      <td>0.311918</td>\n",
       "      <td>0.047502</td>\n",
       "      <td>0.161879</td>\n",
       "    </tr>\n",
       "    <tr>\n",
       "      <th>2004-12-01</th>\n",
       "      <td>0.489303</td>\n",
       "      <td>0.708599</td>\n",
       "      <td>0.366602</td>\n",
       "      <td>0.309167</td>\n",
       "      <td>0.046384</td>\n",
       "      <td>0.162290</td>\n",
       "    </tr>\n",
       "    <tr>\n",
       "      <th>2004-12-02</th>\n",
       "      <td>0.488644</td>\n",
       "      <td>0.708997</td>\n",
       "      <td>0.368565</td>\n",
       "      <td>0.307793</td>\n",
       "      <td>0.046401</td>\n",
       "      <td>0.160689</td>\n",
       "    </tr>\n",
       "    <tr>\n",
       "      <th>2004-12-03</th>\n",
       "      <td>0.490370</td>\n",
       "      <td>0.707761</td>\n",
       "      <td>0.364245</td>\n",
       "      <td>0.311976</td>\n",
       "      <td>0.046240</td>\n",
       "      <td>0.162696</td>\n",
       "    </tr>\n",
       "  </tbody>\n",
       "</table>\n",
       "</div>"
      ],
      "text/plain": [
       "             eur/usd   gpb/usd   usd/jpy       tlt       vix      gold\n",
       "2004-11-29  0.491816  0.701859  0.371005  0.314398  0.047892  0.163483\n",
       "2004-11-30  0.490910  0.704955  0.369178  0.311918  0.047502  0.161879\n",
       "2004-12-01  0.489303  0.708599  0.366602  0.309167  0.046384  0.162290\n",
       "2004-12-02  0.488644  0.708997  0.368565  0.307793  0.046401  0.160689\n",
       "2004-12-03  0.490370  0.707761  0.364245  0.311976  0.046240  0.162696"
      ]
     },
     "execution_count": 62,
     "metadata": {},
     "output_type": "execute_result"
    }
   ],
   "source": [
    "normalized_dataset.head()"
   ]
  },
  {
   "cell_type": "code",
   "execution_count": 63,
   "metadata": {},
   "outputs": [],
   "source": [
    "normalized_dataset = pd.concat((normalized_dataset,raw_dataset.iloc[:,-4:]),axis=1)"
   ]
  },
  {
   "cell_type": "code",
   "execution_count": 64,
   "metadata": {},
   "outputs": [
    {
     "data": {
      "text/html": [
       "<div>\n",
       "<style scoped>\n",
       "    .dataframe tbody tr th:only-of-type {\n",
       "        vertical-align: middle;\n",
       "    }\n",
       "\n",
       "    .dataframe tbody tr th {\n",
       "        vertical-align: top;\n",
       "    }\n",
       "\n",
       "    .dataframe thead th {\n",
       "        text-align: right;\n",
       "    }\n",
       "</style>\n",
       "<table border=\"1\" class=\"dataframe\">\n",
       "  <thead>\n",
       "    <tr style=\"text-align: right;\">\n",
       "      <th></th>\n",
       "      <th>eur/usd</th>\n",
       "      <th>gpb/usd</th>\n",
       "      <th>usd/jpy</th>\n",
       "      <th>tlt</th>\n",
       "      <th>vix</th>\n",
       "      <th>gold</th>\n",
       "      <th>Open_spy</th>\n",
       "      <th>High_spy</th>\n",
       "      <th>Low_spy</th>\n",
       "      <th>SPY</th>\n",
       "    </tr>\n",
       "  </thead>\n",
       "  <tbody>\n",
       "    <tr>\n",
       "      <th>2004-11-29</th>\n",
       "      <td>0.491816</td>\n",
       "      <td>0.701859</td>\n",
       "      <td>0.371005</td>\n",
       "      <td>0.314398</td>\n",
       "      <td>0.047892</td>\n",
       "      <td>0.163483</td>\n",
       "      <td>119.010002</td>\n",
       "      <td>117.480003</td>\n",
       "      <td>118.790001</td>\n",
       "      <td>117.809998</td>\n",
       "    </tr>\n",
       "    <tr>\n",
       "      <th>2004-11-30</th>\n",
       "      <td>0.490910</td>\n",
       "      <td>0.704955</td>\n",
       "      <td>0.369178</td>\n",
       "      <td>0.311918</td>\n",
       "      <td>0.047502</td>\n",
       "      <td>0.161879</td>\n",
       "      <td>118.239998</td>\n",
       "      <td>117.639999</td>\n",
       "      <td>118.000000</td>\n",
       "      <td>117.889999</td>\n",
       "    </tr>\n",
       "    <tr>\n",
       "      <th>2004-12-01</th>\n",
       "      <td>0.489303</td>\n",
       "      <td>0.708599</td>\n",
       "      <td>0.366602</td>\n",
       "      <td>0.309167</td>\n",
       "      <td>0.046384</td>\n",
       "      <td>0.162290</td>\n",
       "      <td>119.500000</td>\n",
       "      <td>118.099998</td>\n",
       "      <td>118.160004</td>\n",
       "      <td>119.230003</td>\n",
       "    </tr>\n",
       "    <tr>\n",
       "      <th>2004-12-02</th>\n",
       "      <td>0.488644</td>\n",
       "      <td>0.708997</td>\n",
       "      <td>0.368565</td>\n",
       "      <td>0.307793</td>\n",
       "      <td>0.046401</td>\n",
       "      <td>0.160689</td>\n",
       "      <td>119.870003</td>\n",
       "      <td>119.010002</td>\n",
       "      <td>119.099998</td>\n",
       "      <td>119.330002</td>\n",
       "    </tr>\n",
       "    <tr>\n",
       "      <th>2004-12-03</th>\n",
       "      <td>0.490370</td>\n",
       "      <td>0.707761</td>\n",
       "      <td>0.364245</td>\n",
       "      <td>0.311976</td>\n",
       "      <td>0.046240</td>\n",
       "      <td>0.162696</td>\n",
       "      <td>120.139999</td>\n",
       "      <td>119.089996</td>\n",
       "      <td>119.309998</td>\n",
       "      <td>119.250000</td>\n",
       "    </tr>\n",
       "  </tbody>\n",
       "</table>\n",
       "</div>"
      ],
      "text/plain": [
       "             eur/usd   gpb/usd   usd/jpy       tlt       vix      gold  \\\n",
       "2004-11-29  0.491816  0.701859  0.371005  0.314398  0.047892  0.163483   \n",
       "2004-11-30  0.490910  0.704955  0.369178  0.311918  0.047502  0.161879   \n",
       "2004-12-01  0.489303  0.708599  0.366602  0.309167  0.046384  0.162290   \n",
       "2004-12-02  0.488644  0.708997  0.368565  0.307793  0.046401  0.160689   \n",
       "2004-12-03  0.490370  0.707761  0.364245  0.311976  0.046240  0.162696   \n",
       "\n",
       "              Open_spy    High_spy     Low_spy         SPY  \n",
       "2004-11-29  119.010002  117.480003  118.790001  117.809998  \n",
       "2004-11-30  118.239998  117.639999  118.000000  117.889999  \n",
       "2004-12-01  119.500000  118.099998  118.160004  119.230003  \n",
       "2004-12-02  119.870003  119.010002  119.099998  119.330002  \n",
       "2004-12-03  120.139999  119.089996  119.309998  119.250000  "
      ]
     },
     "execution_count": 64,
     "metadata": {},
     "output_type": "execute_result"
    }
   ],
   "source": [
    "normalized_dataset.head()"
   ]
  },
  {
   "cell_type": "code",
   "execution_count": null,
   "metadata": {},
   "outputs": [],
   "source": []
  },
  {
   "cell_type": "code",
   "execution_count": null,
   "metadata": {},
   "outputs": [],
   "source": []
  },
  {
   "cell_type": "code",
   "execution_count": null,
   "metadata": {},
   "outputs": [],
   "source": []
  },
  {
   "cell_type": "code",
   "execution_count": 65,
   "metadata": {},
   "outputs": [],
   "source": [
    "raw_dataset.to_csv('dataset_daily.csv')"
   ]
  },
  {
   "cell_type": "code",
   "execution_count": 66,
   "metadata": {},
   "outputs": [],
   "source": [
    "normalized_dataset.to_csv('normalized.csv')"
   ]
  }
 ],
 "metadata": {
  "kernelspec": {
   "display_name": "Python 3",
   "language": "python",
   "name": "python3"
  },
  "language_info": {
   "codemirror_mode": {
    "name": "ipython",
    "version": 3
   },
   "file_extension": ".py",
   "mimetype": "text/x-python",
   "name": "python",
   "nbconvert_exporter": "python",
   "pygments_lexer": "ipython3",
   "version": "3.6.8"
  }
 },
 "nbformat": 4,
 "nbformat_minor": 2
}
