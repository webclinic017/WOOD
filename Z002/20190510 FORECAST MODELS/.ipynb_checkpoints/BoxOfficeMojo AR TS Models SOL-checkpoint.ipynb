{
 "cells": [
  {
   "cell_type": "markdown",
   "metadata": {
    "deletable": true,
    "editable": true
   },
   "source": [
    "# Auto-Regressive Models of Time Series\n",
    "This lab captures weekly gross numbers [for a movie from boxofficemojo](http://www.boxofficemojo.com/movies/?page=weekly&id=furyroad.htm) and builds an AR model using linear regression."
   ]
  },
  {
   "cell_type": "code",
   "execution_count": 92,
   "metadata": {
    "collapsed": false,
    "deletable": true,
    "editable": true
   },
   "outputs": [],
   "source": [
    "# connect to page and find table with BeautifulSoup\n",
    "\n",
    "from __future__ import print_function\n",
    "%matplotlib inline\n",
    "import requests\n",
    "from bs4 import BeautifulSoup\n",
    "import matplotlib.pyplot as plt\n",
    "\n",
    "url = 'http://www.boxofficemojo.com/movies/?page=weekly&id=furyroad.htm'\n",
    "\n",
    "response = requests.get(url)\n",
    "page = response.text\n",
    "soup = BeautifulSoup(page, 'lxml')\n",
    "\n",
    "weekly_gross_table = soup.find('table', {\"class\":\"chart-wide\"})"
   ]
  },
  {
   "cell_type": "code",
   "execution_count": 93,
   "metadata": {
    "collapsed": false,
    "deletable": true,
    "editable": true
   },
   "outputs": [],
   "source": [
    "# write a function that iterates over each row and gets the gross for each weekend in theaters\n",
    "\n",
    "def extract_gross_points_from_table(gross_table, gross_column=2):\n",
    "    points = []\n",
    "    rows = gross_table.find_all('tr')\n",
    "    for row_no, row in enumerate(rows):\n",
    "        columns = row.find_all('td')\n",
    "        # skip first row (headers) or an empty row\n",
    "        if row_no == 0 or len(columns)<=1:\n",
    "            continue\n",
    "        # take column 2 (weekly gross)        \n",
    "        gross = columns[gross_column].text\n",
    "        points.append(gross)\n",
    "    return points"
   ]
  },
  {
   "cell_type": "code",
   "execution_count": 94,
   "metadata": {
    "collapsed": false
   },
   "outputs": [
    {
     "name": "stdout",
     "output_type": "stream",
     "text": [
      "0 $63,440,279\n",
      "1 $38,849,255\n",
      "2 $20,544,731\n",
      "3 $11,643,562\n",
      "4 $6,309,002\n",
      "5 $4,555,993\n",
      "6 $2,648,047\n",
      "7 $1,645,168\n",
      "8 $966,275\n",
      "9 $601,794\n",
      "10 $663,222\n",
      "11 $471,641\n",
      "12 $266,007\n",
      "13 $190,614\n",
      "14 $129,637\n",
      "15 $119,106\n",
      "16 $94,384\n",
      "17 $473,315\n",
      "18 $24,322\n"
     ]
    }
   ],
   "source": [
    "# print output\n",
    "\n",
    "weekly_timeseries = extract_gross_points_from_table(weekly_gross_table)\n",
    "for weekend, gross in enumerate(weekly_timeseries):\n",
    "    print(weekend, gross)"
   ]
  },
  {
   "cell_type": "markdown",
   "metadata": {
    "deletable": true,
    "editable": true
   },
   "source": [
    "Gross is in text form with '$' sign and commas; let's clean it up with a quick helper function. We'll change our extraction function to use that."
   ]
  },
  {
   "cell_type": "code",
   "execution_count": 95,
   "metadata": {
    "collapsed": false,
    "deletable": true,
    "editable": true
   },
   "outputs": [],
   "source": [
    "# updated helper functions\n",
    "\n",
    "def gross_text_to_int(gross_text):\n",
    "    clean_text = gross_text.replace('$','').replace(',','')\n",
    "    gross_as_int = int(clean_text)\n",
    "    return gross_as_int\n",
    "    \n",
    "def extract_gross_points_from_table(gross_table, gross_column=2):\n",
    "    points = []\n",
    "    rows = gross_table.find_all('tr')\n",
    "    for row_no, row in enumerate(rows):\n",
    "        columns = row.find_all('td')\n",
    "        # skip first row (headers) or an empty row\n",
    "        if row_no == 0 or len(columns)<=1:\n",
    "            continue\n",
    "        # take column 2 (weekly gross)\n",
    "        # We are using our helper function here\n",
    "        # to make sure we have a number for gross\n",
    "        gross = gross_text_to_int(columns[gross_column].text)\n",
    "        # -----------\n",
    "        points.append(gross)\n",
    "    return points"
   ]
  },
  {
   "cell_type": "code",
   "execution_count": 96,
   "metadata": {
    "collapsed": false,
    "deletable": true,
    "editable": true
   },
   "outputs": [
    {
     "name": "stdout",
     "output_type": "stream",
     "text": [
      "0 63440279\n",
      "1 38849255\n",
      "2 20544731\n",
      "3 11643562\n",
      "4 6309002\n",
      "5 4555993\n",
      "6 2648047\n",
      "7 1645168\n",
      "8 966275\n",
      "9 601794\n",
      "10 663222\n",
      "11 471641\n",
      "12 266007\n",
      "13 190614\n",
      "14 129637\n",
      "15 119106\n",
      "16 94384\n",
      "17 473315\n",
      "18 24322\n"
     ]
    }
   ],
   "source": [
    "# print output\n",
    "\n",
    "weekly_timeseries = extract_gross_points_from_table(weekly_gross_table)\n",
    "for weekend, gross in enumerate(weekly_timeseries):\n",
    "    print(weekend, gross)"
   ]
  },
  {
   "cell_type": "code",
   "execution_count": 97,
   "metadata": {
    "collapsed": false,
    "deletable": true,
    "editable": true
   },
   "outputs": [
    {
     "data": {
      "text/plain": [
       "<matplotlib.text.Text at 0x11f6b3b50>"
      ]
     },
     "execution_count": 97,
     "metadata": {},
     "output_type": "execute_result"
    },
    {
     "data": {
      "image/png": "[encoded data removed]",
      "text/plain": [
       "<matplotlib.figure.Figure at 0x11f981150>"
      ]
     },
     "metadata": {},
     "output_type": "display_data"
    }
   ],
   "source": [
    "# plot weekly grosses\n",
    "\n",
    "x = range(len(weekly_timeseries))\n",
    "y = weekly_timeseries\n",
    "plt.scatter(x,y)\n",
    "plt.title(\"Mad Max Fury Road Weekly Gross over Time\")\n",
    "plt.xlabel(\"Week in theaters\")\n",
    "plt.ylabel(\"Weekly Gross\")"
   ]
  },
  {
   "cell_type": "markdown",
   "metadata": {
    "deletable": true,
    "editable": true
   },
   "source": [
    "As we can see, the gross drops pretty quickly. With this scale, it is hard to see the differences in the later weeks. One solution is to use log scale: instead of plotting gross numbers, we plot the _order of magnitude_ of weekly gross."
   ]
  },
  {
   "cell_type": "code",
   "execution_count": 98,
   "metadata": {
    "collapsed": false,
    "deletable": true,
    "editable": true
   },
   "outputs": [
    {
     "data": {
      "image/png": "[encoded data removed]",
      "text/plain": [
       "<matplotlib.figure.Figure at 0x11f5be4d0>"
      ]
     },
     "metadata": {},
     "output_type": "display_data"
    }
   ],
   "source": [
    "# plot with log scale\n",
    "\n",
    "x = range(len(weekly_timeseries))\n",
    "y = weekly_timeseries\n",
    "plt.scatter(x,y)\n",
    "plt.title(\"Mad Max Fury Road Weekly Gross over Time\")\n",
    "plt.xlabel(\"Week in theaters\")\n",
    "plt.ylabel(\"Weekly Gross\")\n",
    "plt.yscale(\"log\")"
   ]
  },
  {
   "cell_type": "markdown",
   "metadata": {
    "deletable": true,
    "editable": true
   },
   "source": [
    "AR models, meaning regression models that use the past as input features, are no different from regression with time-unrelated features. What we are doing is just using previous y-values as input for a given point. We can manually construct such features directly."
   ]
  },
  {
   "cell_type": "code",
   "execution_count": 99,
   "metadata": {
    "collapsed": false,
    "deletable": true,
    "editable": true
   },
   "outputs": [
    {
     "data": {
      "text/html": [
       "<div>\n",
       "<table border=\"1\" class=\"dataframe\">\n",
       "  <thead>\n",
       "    <tr style=\"text-align: right;\">\n",
       "      <th></th>\n",
       "      <th>weekly_gross</th>\n",
       "    </tr>\n",
       "  </thead>\n",
       "  <tbody>\n",
       "    <tr>\n",
       "      <th>0</th>\n",
       "      <td>63440279</td>\n",
       "    </tr>\n",
       "    <tr>\n",
       "      <th>1</th>\n",
       "      <td>38849255</td>\n",
       "    </tr>\n",
       "    <tr>\n",
       "      <th>2</th>\n",
       "      <td>20544731</td>\n",
       "    </tr>\n",
       "    <tr>\n",
       "      <th>3</th>\n",
       "      <td>11643562</td>\n",
       "    </tr>\n",
       "    <tr>\n",
       "      <th>4</th>\n",
       "      <td>6309002</td>\n",
       "    </tr>\n",
       "    <tr>\n",
       "      <th>5</th>\n",
       "      <td>4555993</td>\n",
       "    </tr>\n",
       "    <tr>\n",
       "      <th>6</th>\n",
       "      <td>2648047</td>\n",
       "    </tr>\n",
       "    <tr>\n",
       "      <th>7</th>\n",
       "      <td>1645168</td>\n",
       "    </tr>\n",
       "    <tr>\n",
       "      <th>8</th>\n",
       "      <td>966275</td>\n",
       "    </tr>\n",
       "    <tr>\n",
       "      <th>9</th>\n",
       "      <td>601794</td>\n",
       "    </tr>\n",
       "    <tr>\n",
       "      <th>10</th>\n",
       "      <td>663222</td>\n",
       "    </tr>\n",
       "    <tr>\n",
       "      <th>11</th>\n",
       "      <td>471641</td>\n",
       "    </tr>\n",
       "    <tr>\n",
       "      <th>12</th>\n",
       "      <td>266007</td>\n",
       "    </tr>\n",
       "    <tr>\n",
       "      <th>13</th>\n",
       "      <td>190614</td>\n",
       "    </tr>\n",
       "    <tr>\n",
       "      <th>14</th>\n",
       "      <td>129637</td>\n",
       "    </tr>\n",
       "    <tr>\n",
       "      <th>15</th>\n",
       "      <td>119106</td>\n",
       "    </tr>\n",
       "    <tr>\n",
       "      <th>16</th>\n",
       "      <td>94384</td>\n",
       "    </tr>\n",
       "    <tr>\n",
       "      <th>17</th>\n",
       "      <td>473315</td>\n",
       "    </tr>\n",
       "    <tr>\n",
       "      <th>18</th>\n",
       "      <td>24322</td>\n",
       "    </tr>\n",
       "  </tbody>\n",
       "</table>\n",
       "</div>"
      ],
      "text/plain": [
       "    weekly_gross\n",
       "0       63440279\n",
       "1       38849255\n",
       "2       20544731\n",
       "3       11643562\n",
       "4        6309002\n",
       "5        4555993\n",
       "6        2648047\n",
       "7        1645168\n",
       "8         966275\n",
       "9         601794\n",
       "10        663222\n",
       "11        471641\n",
       "12        266007\n",
       "13        190614\n",
       "14        129637\n",
       "15        119106\n",
       "16         94384\n",
       "17        473315\n",
       "18         24322"
      ]
     },
     "execution_count": 99,
     "metadata": {},
     "output_type": "execute_result"
    }
   ],
   "source": [
    "# load data into DataFrame\n",
    "import pandas as pd\n",
    "\n",
    "timeseries_df = pd.DataFrame(weekly_timeseries, columns=[\"weekly_gross\"])\n",
    "timeseries_df"
   ]
  },
  {
   "cell_type": "markdown",
   "metadata": {
    "deletable": true,
    "editable": true
   },
   "source": [
    "We have only our target now: what we want to predict. As input for a given week, we want to know what the previous week's gross was. let's build that."
   ]
  },
  {
   "cell_type": "code",
   "execution_count": 100,
   "metadata": {
    "collapsed": false,
    "deletable": true,
    "editable": true
   },
   "outputs": [
    {
     "data": {
      "text/plain": [
       "[None,\n",
       " None,\n",
       " None,\n",
       " None,\n",
       " None,\n",
       " None,\n",
       " None,\n",
       " None,\n",
       " None,\n",
       " None,\n",
       " None,\n",
       " None,\n",
       " None,\n",
       " None,\n",
       " None,\n",
       " None,\n",
       " None,\n",
       " None,\n",
       " None]"
      ]
     },
     "execution_count": 100,
     "metadata": {},
     "output_type": "execute_result"
    }
   ],
   "source": [
    "# create previous week feature\n",
    "\n",
    "previous_weeks_grosses = [None] * len(weekly_timeseries)\n",
    "previous_weeks_grosses"
   ]
  },
  {
   "cell_type": "code",
   "execution_count": 101,
   "metadata": {
    "collapsed": false,
    "deletable": true,
    "editable": true
   },
   "outputs": [
    {
     "data": {
      "text/plain": [
       "[None,\n",
       " 63440279,\n",
       " 38849255,\n",
       " 20544731,\n",
       " 11643562,\n",
       " 6309002,\n",
       " 4555993,\n",
       " 2648047,\n",
       " 1645168,\n",
       " 966275,\n",
       " 601794,\n",
       " 663222,\n",
       " 471641,\n",
       " 266007,\n",
       " 190614,\n",
       " 129637,\n",
       " 119106,\n",
       " 94384,\n",
       " 473315]"
      ]
     },
     "execution_count": 101,
     "metadata": {},
     "output_type": "execute_result"
    }
   ],
   "source": [
    "for week in range(1, len(weekly_timeseries)):\n",
    "    previous_weeks_grosses[week] = weekly_timeseries[week-1]\n",
    "previous_weeks_grosses"
   ]
  },
  {
   "cell_type": "code",
   "execution_count": 102,
   "metadata": {
    "collapsed": false,
    "deletable": true,
    "editable": true
   },
   "outputs": [
    {
     "data": {
      "text/html": [
       "<div>\n",
       "<table border=\"1\" class=\"dataframe\">\n",
       "  <thead>\n",
       "    <tr style=\"text-align: right;\">\n",
       "      <th></th>\n",
       "      <th>weekly_gross</th>\n",
       "      <th>one_prev_weeks_gross</th>\n",
       "    </tr>\n",
       "  </thead>\n",
       "  <tbody>\n",
       "    <tr>\n",
       "      <th>0</th>\n",
       "      <td>63440279</td>\n",
       "      <td>NaN</td>\n",
       "    </tr>\n",
       "    <tr>\n",
       "      <th>1</th>\n",
       "      <td>38849255</td>\n",
       "      <td>63440279.0</td>\n",
       "    </tr>\n",
       "    <tr>\n",
       "      <th>2</th>\n",
       "      <td>20544731</td>\n",
       "      <td>38849255.0</td>\n",
       "    </tr>\n",
       "    <tr>\n",
       "      <th>3</th>\n",
       "      <td>11643562</td>\n",
       "      <td>20544731.0</td>\n",
       "    </tr>\n",
       "    <tr>\n",
       "      <th>4</th>\n",
       "      <td>6309002</td>\n",
       "      <td>11643562.0</td>\n",
       "    </tr>\n",
       "    <tr>\n",
       "      <th>5</th>\n",
       "      <td>4555993</td>\n",
       "      <td>6309002.0</td>\n",
       "    </tr>\n",
       "    <tr>\n",
       "      <th>6</th>\n",
       "      <td>2648047</td>\n",
       "      <td>4555993.0</td>\n",
       "    </tr>\n",
       "    <tr>\n",
       "      <th>7</th>\n",
       "      <td>1645168</td>\n",
       "      <td>2648047.0</td>\n",
       "    </tr>\n",
       "    <tr>\n",
       "      <th>8</th>\n",
       "      <td>966275</td>\n",
       "      <td>1645168.0</td>\n",
       "    </tr>\n",
       "    <tr>\n",
       "      <th>9</th>\n",
       "      <td>601794</td>\n",
       "      <td>966275.0</td>\n",
       "    </tr>\n",
       "    <tr>\n",
       "      <th>10</th>\n",
       "      <td>663222</td>\n",
       "      <td>601794.0</td>\n",
       "    </tr>\n",
       "    <tr>\n",
       "      <th>11</th>\n",
       "      <td>471641</td>\n",
       "      <td>663222.0</td>\n",
       "    </tr>\n",
       "    <tr>\n",
       "      <th>12</th>\n",
       "      <td>266007</td>\n",
       "      <td>471641.0</td>\n",
       "    </tr>\n",
       "    <tr>\n",
       "      <th>13</th>\n",
       "      <td>190614</td>\n",
       "      <td>266007.0</td>\n",
       "    </tr>\n",
       "    <tr>\n",
       "      <th>14</th>\n",
       "      <td>129637</td>\n",
       "      <td>190614.0</td>\n",
       "    </tr>\n",
       "    <tr>\n",
       "      <th>15</th>\n",
       "      <td>119106</td>\n",
       "      <td>129637.0</td>\n",
       "    </tr>\n",
       "    <tr>\n",
       "      <th>16</th>\n",
       "      <td>94384</td>\n",
       "      <td>119106.0</td>\n",
       "    </tr>\n",
       "    <tr>\n",
       "      <th>17</th>\n",
       "      <td>473315</td>\n",
       "      <td>94384.0</td>\n",
       "    </tr>\n",
       "    <tr>\n",
       "      <th>18</th>\n",
       "      <td>24322</td>\n",
       "      <td>473315.0</td>\n",
       "    </tr>\n",
       "  </tbody>\n",
       "</table>\n",
       "</div>"
      ],
      "text/plain": [
       "    weekly_gross  one_prev_weeks_gross\n",
       "0       63440279                   NaN\n",
       "1       38849255            63440279.0\n",
       "2       20544731            38849255.0\n",
       "3       11643562            20544731.0\n",
       "4        6309002            11643562.0\n",
       "5        4555993             6309002.0\n",
       "6        2648047             4555993.0\n",
       "7        1645168             2648047.0\n",
       "8         966275             1645168.0\n",
       "9         601794              966275.0\n",
       "10        663222              601794.0\n",
       "11        471641              663222.0\n",
       "12        266007              471641.0\n",
       "13        190614              266007.0\n",
       "14        129637              190614.0\n",
       "15        119106              129637.0\n",
       "16         94384              119106.0\n",
       "17        473315               94384.0\n",
       "18         24322              473315.0"
      ]
     },
     "execution_count": 102,
     "metadata": {},
     "output_type": "execute_result"
    }
   ],
   "source": [
    "timeseries_df[\"one_prev_weeks_gross\"] = previous_weeks_grosses\n",
    "timeseries_df"
   ]
  },
  {
   "cell_type": "markdown",
   "metadata": {
    "deletable": true,
    "editable": true
   },
   "source": [
    "For a given week, `weekly_gross` is our target, and `one_prev_weeks_gross` is our only feature. Of course, since for the very first week we don't have an input (no past information), we will have to leave that our of our model."
   ]
  },
  {
   "cell_type": "code",
   "execution_count": 103,
   "metadata": {
    "collapsed": false,
    "deletable": true,
    "editable": true
   },
   "outputs": [
    {
     "data": {
      "text/plain": [
       "LinearRegression(copy_X=True, fit_intercept=True, n_jobs=1, normalize=False)"
      ]
     },
     "execution_count": 103,
     "metadata": {},
     "output_type": "execute_result"
    }
   ],
   "source": [
    "# fit a linear model using sklearn.\n",
    "import numpy as np\n",
    "from sklearn.linear_model import LinearRegression\n",
    "\n",
    "model = LinearRegression()\n",
    "X = timeseries_df.dropna()[[\"one_prev_weeks_gross\"]]\n",
    "y = timeseries_df.dropna()[[\"weekly_gross\"]]\n",
    "model.fit(X, y)"
   ]
  },
  {
   "cell_type": "code",
   "execution_count": 104,
   "metadata": {
    "collapsed": false,
    "deletable": true,
    "editable": true
   },
   "outputs": [
    {
     "data": {
      "text/plain": [
       "(array([[ 0.58806191]]), array([-7628.30132035]))"
      ]
     },
     "execution_count": 104,
     "metadata": {},
     "output_type": "execute_result"
    }
   ],
   "source": [
    "# print coef and intercept\n",
    "model.coef_, model.intercept_"
   ]
  },
  {
   "cell_type": "markdown",
   "metadata": {
    "deletable": true,
    "editable": true
   },
   "source": [
    "We can interpret our model like this:\n",
    "Each week, we should expect the movie to make about **59% of what it made last week, minus a small flat drop of $7500, plus/minus some luck factor** (what we can't predict with this model). This is an autoregressive model, specifically AR-1, since it is using only a lag of 1 time tick as input. This is no different in principle from other linear models that multiply each feature with a coefficient, which is found by optimization over the set of training points.\n",
    "\n",
    "Let's see what the model does. We didn't separate training/test sets, so this look over the training set is not a good evaluation of generalized performance, but a quick check."
   ]
  },
  {
   "cell_type": "code",
   "execution_count": 105,
   "metadata": {
    "collapsed": false,
    "deletable": true,
    "editable": true
   },
   "outputs": [
    {
     "data": {
      "image/png": "[encoded data removed]",
      "text/plain": [
       "<matplotlib.figure.Figure at 0x11f70dbd0>"
      ]
     },
     "metadata": {},
     "output_type": "display_data"
    }
   ],
   "source": [
    "# plot actuals and predicted\n",
    "\n",
    "x = range(len(weekly_timeseries))\n",
    "y_true = weekly_timeseries\n",
    "# plot actual grosses (blue spheres)\n",
    "plt.scatter(x,y_true, label=\"actual gross\")\n",
    "\n",
    "# we can only predict for weeks where we have a number for\n",
    "# the previous week. That is a feature. \n",
    "x_pred = x[1:]\n",
    "y_pred = model.predict(X)\n",
    "\n",
    "# plot model prediction (red x signs)\n",
    "plt.scatter(x_pred,y_pred, color='red', marker=\"x\", label=\"predicted\")\n",
    "\n",
    "# Labels\n",
    "plt.title(\"Mad Max Fury Road Weekly Gross over Time\")\n",
    "plt.xlabel(\"Week in theaters\")\n",
    "plt.ylabel(\"Weekly Gross\")\n",
    "plt.legend();"
   ]
  },
  {
   "cell_type": "code",
   "execution_count": 106,
   "metadata": {
    "collapsed": false,
    "deletable": true,
    "editable": true
   },
   "outputs": [
    {
     "data": {
      "image/png": "[encoded data removed]",
      "text/plain": [
       "<matplotlib.figure.Figure at 0x11d016d10>"
      ]
     },
     "metadata": {},
     "output_type": "display_data"
    }
   ],
   "source": [
    "# plot on log scale\n",
    "\n",
    "plt.scatter(x,y_true)\n",
    "plt.scatter(x_pred,y_pred, color='red', marker=\"x\")\n",
    "plt.yscale('log')"
   ]
  },
  {
   "cell_type": "markdown",
   "metadata": {
    "deletable": true,
    "editable": true
   },
   "source": [
    "We are still plotting it over time. The model doesn't know about time. For each point, it sees an input feature (previous week's gross) and a target value (this week's gross). Let's try and look at these points from a viewpoint closer to the model's. Let's plot the target versus our single feature."
   ]
  },
  {
   "cell_type": "code",
   "execution_count": 107,
   "metadata": {
    "collapsed": false,
    "deletable": true,
    "editable": true
   },
   "outputs": [
    {
     "data": {
      "image/png": "[encoded data removed]",
      "text/plain": [
       "<matplotlib.figure.Figure at 0x11d1fd290>"
      ]
     },
     "metadata": {},
     "output_type": "display_data"
    }
   ],
   "source": [
    "plt.scatter(previous_weeks_grosses[1:], weekly_timeseries[1:])\n",
    "plt.scatter(previous_weeks_grosses[1:], y_pred, color='red', marker='x')\n",
    "plt.xlabel(\"Previous week's gross\")\n",
    "plt.ylabel(\"This week's gross\");"
   ]
  },
  {
   "cell_type": "markdown",
   "metadata": {
    "deletable": true,
    "editable": true
   },
   "source": [
    "Looking at orders of magnitude (logarithms of the grosses) will make it clearer to see those clustered points."
   ]
  },
  {
   "cell_type": "code",
   "execution_count": 108,
   "metadata": {
    "collapsed": false,
    "deletable": true,
    "editable": true
   },
   "outputs": [
    {
     "data": {
      "image/png": "[encoded data removed]",
      "text/plain": [
       "<matplotlib.figure.Figure at 0x11d1ea110>"
      ]
     },
     "metadata": {},
     "output_type": "display_data"
    }
   ],
   "source": [
    "plt.scatter(previous_weeks_grosses[1:], weekly_timeseries[1:])\n",
    "plt.scatter(previous_weeks_grosses[1:], y_pred, color='red', marker='x')\n",
    "plt.xlabel(\"Previous week's gross\")\n",
    "plt.ylabel(\"This week's gross\")\n",
    "plt.xscale('log')\n",
    "plt.yscale('log')"
   ]
  },
  {
   "cell_type": "markdown",
   "metadata": {
    "deletable": true,
    "editable": true
   },
   "source": [
    "Looking at it this way, we can see it as just another regular regression problem."
   ]
  },
  {
   "cell_type": "markdown",
   "metadata": {
    "deletable": true,
    "editable": true
   },
   "source": [
    "So, already by looking at what the movie made last week, the model gathers a pretty good idea of what to expect this week. If we add more information about the past, like not only last week, but what it made the two previous weeks, we could get even better estimates. More lag doesn't necessarily mean 'better' models. Of course it will fit the training data better, but the extra complexity might be just overfitting to the data at hand. Just like any other regression model where we \n",
    "\n",
    "When we add a 2-lag feature (meaning grosses from two weeks ago & last week in our case), the model is called AR-2 (AR for **A**uto**R**egressive). When we use up to three, it is called AR-3 and so on. Let's do an AR-2."
   ]
  },
  {
   "cell_type": "code",
   "execution_count": 109,
   "metadata": {
    "collapsed": false,
    "deletable": true,
    "editable": true
   },
   "outputs": [
    {
     "data": {
      "text/plain": [
       "[None,\n",
       " None,\n",
       " 63440279,\n",
       " 38849255,\n",
       " 20544731,\n",
       " 11643562,\n",
       " 6309002,\n",
       " 4555993,\n",
       " 2648047,\n",
       " 1645168,\n",
       " 966275,\n",
       " 601794,\n",
       " 663222,\n",
       " 471641,\n",
       " 266007,\n",
       " 190614,\n",
       " 129637,\n",
       " 119106,\n",
       " 94384]"
      ]
     },
     "execution_count": 109,
     "metadata": {},
     "output_type": "execute_result"
    }
   ],
   "source": [
    "grosses_two_weeks_prior = [None] * len(weekly_timeseries)\n",
    "for week in range(2, len(weekly_timeseries)):\n",
    "    grosses_two_weeks_prior[week] = weekly_timeseries[week-2]\n",
    "\n",
    "grosses_two_weeks_prior"
   ]
  },
  {
   "cell_type": "code",
   "execution_count": 110,
   "metadata": {
    "collapsed": false,
    "deletable": true,
    "editable": true
   },
   "outputs": [
    {
     "data": {
      "text/html": [
       "<div>\n",
       "<table border=\"1\" class=\"dataframe\">\n",
       "  <thead>\n",
       "    <tr style=\"text-align: right;\">\n",
       "      <th></th>\n",
       "      <th>weekly_gross</th>\n",
       "      <th>one_prev_weeks_gross</th>\n",
       "      <th>two_prev_weeks_gross</th>\n",
       "    </tr>\n",
       "  </thead>\n",
       "  <tbody>\n",
       "    <tr>\n",
       "      <th>0</th>\n",
       "      <td>63440279</td>\n",
       "      <td>NaN</td>\n",
       "      <td>NaN</td>\n",
       "    </tr>\n",
       "    <tr>\n",
       "      <th>1</th>\n",
       "      <td>38849255</td>\n",
       "      <td>63440279.0</td>\n",
       "      <td>NaN</td>\n",
       "    </tr>\n",
       "    <tr>\n",
       "      <th>2</th>\n",
       "      <td>20544731</td>\n",
       "      <td>38849255.0</td>\n",
       "      <td>63440279.0</td>\n",
       "    </tr>\n",
       "    <tr>\n",
       "      <th>3</th>\n",
       "      <td>11643562</td>\n",
       "      <td>20544731.0</td>\n",
       "      <td>38849255.0</td>\n",
       "    </tr>\n",
       "    <tr>\n",
       "      <th>4</th>\n",
       "      <td>6309002</td>\n",
       "      <td>11643562.0</td>\n",
       "      <td>20544731.0</td>\n",
       "    </tr>\n",
       "    <tr>\n",
       "      <th>5</th>\n",
       "      <td>4555993</td>\n",
       "      <td>6309002.0</td>\n",
       "      <td>11643562.0</td>\n",
       "    </tr>\n",
       "    <tr>\n",
       "      <th>6</th>\n",
       "      <td>2648047</td>\n",
       "      <td>4555993.0</td>\n",
       "      <td>6309002.0</td>\n",
       "    </tr>\n",
       "    <tr>\n",
       "      <th>7</th>\n",
       "      <td>1645168</td>\n",
       "      <td>2648047.0</td>\n",
       "      <td>4555993.0</td>\n",
       "    </tr>\n",
       "    <tr>\n",
       "      <th>8</th>\n",
       "      <td>966275</td>\n",
       "      <td>1645168.0</td>\n",
       "      <td>2648047.0</td>\n",
       "    </tr>\n",
       "    <tr>\n",
       "      <th>9</th>\n",
       "      <td>601794</td>\n",
       "      <td>966275.0</td>\n",
       "      <td>1645168.0</td>\n",
       "    </tr>\n",
       "    <tr>\n",
       "      <th>10</th>\n",
       "      <td>663222</td>\n",
       "      <td>601794.0</td>\n",
       "      <td>966275.0</td>\n",
       "    </tr>\n",
       "    <tr>\n",
       "      <th>11</th>\n",
       "      <td>471641</td>\n",
       "      <td>663222.0</td>\n",
       "      <td>601794.0</td>\n",
       "    </tr>\n",
       "    <tr>\n",
       "      <th>12</th>\n",
       "      <td>266007</td>\n",
       "      <td>471641.0</td>\n",
       "      <td>663222.0</td>\n",
       "    </tr>\n",
       "    <tr>\n",
       "      <th>13</th>\n",
       "      <td>190614</td>\n",
       "      <td>266007.0</td>\n",
       "      <td>471641.0</td>\n",
       "    </tr>\n",
       "    <tr>\n",
       "      <th>14</th>\n",
       "      <td>129637</td>\n",
       "      <td>190614.0</td>\n",
       "      <td>266007.0</td>\n",
       "    </tr>\n",
       "    <tr>\n",
       "      <th>15</th>\n",
       "      <td>119106</td>\n",
       "      <td>129637.0</td>\n",
       "      <td>190614.0</td>\n",
       "    </tr>\n",
       "    <tr>\n",
       "      <th>16</th>\n",
       "      <td>94384</td>\n",
       "      <td>119106.0</td>\n",
       "      <td>129637.0</td>\n",
       "    </tr>\n",
       "    <tr>\n",
       "      <th>17</th>\n",
       "      <td>473315</td>\n",
       "      <td>94384.0</td>\n",
       "      <td>119106.0</td>\n",
       "    </tr>\n",
       "    <tr>\n",
       "      <th>18</th>\n",
       "      <td>24322</td>\n",
       "      <td>473315.0</td>\n",
       "      <td>94384.0</td>\n",
       "    </tr>\n",
       "  </tbody>\n",
       "</table>\n",
       "</div>"
      ],
      "text/plain": [
       "    weekly_gross  one_prev_weeks_gross  two_prev_weeks_gross\n",
       "0       63440279                   NaN                   NaN\n",
       "1       38849255            63440279.0                   NaN\n",
       "2       20544731            38849255.0            63440279.0\n",
       "3       11643562            20544731.0            38849255.0\n",
       "4        6309002            11643562.0            20544731.0\n",
       "5        4555993             6309002.0            11643562.0\n",
       "6        2648047             4555993.0             6309002.0\n",
       "7        1645168             2648047.0             4555993.0\n",
       "8         966275             1645168.0             2648047.0\n",
       "9         601794              966275.0             1645168.0\n",
       "10        663222              601794.0              966275.0\n",
       "11        471641              663222.0              601794.0\n",
       "12        266007              471641.0              663222.0\n",
       "13        190614              266007.0              471641.0\n",
       "14        129637              190614.0              266007.0\n",
       "15        119106              129637.0              190614.0\n",
       "16         94384              119106.0              129637.0\n",
       "17        473315               94384.0              119106.0\n",
       "18         24322              473315.0               94384.0"
      ]
     },
     "execution_count": 110,
     "metadata": {},
     "output_type": "execute_result"
    }
   ],
   "source": [
    "timeseries_df[\"two_prev_weeks_gross\"] = grosses_two_weeks_prior\n",
    "timeseries_df"
   ]
  },
  {
   "cell_type": "code",
   "execution_count": 111,
   "metadata": {
    "collapsed": false,
    "deletable": true,
    "editable": true
   },
   "outputs": [
    {
     "data": {
      "text/plain": [
       "LinearRegression(copy_X=True, fit_intercept=True, n_jobs=1, normalize=False)"
      ]
     },
     "execution_count": 111,
     "metadata": {},
     "output_type": "execute_result"
    }
   ],
   "source": [
    "AR2_model = LinearRegression()\n",
    "X = timeseries_df.dropna()[[\"one_prev_weeks_gross\", \"two_prev_weeks_gross\"]]\n",
    "y = timeseries_df.dropna()[[\"weekly_gross\"]]\n",
    "AR2_model.fit(X, y)"
   ]
  },
  {
   "cell_type": "code",
   "execution_count": 112,
   "metadata": {
    "collapsed": false,
    "deletable": true,
    "editable": true
   },
   "outputs": [
    {
     "data": {
      "text/plain": [
       "(array([[ 0.27113585,  0.15521272]]), array([ 184055.7504095]))"
      ]
     },
     "execution_count": 112,
     "metadata": {},
     "output_type": "execute_result"
    }
   ],
   "source": [
    "AR2_model.coef_, AR2_model.intercept_"
   ]
  },
  {
   "cell_type": "markdown",
   "metadata": {
    "deletable": true,
    "editable": true
   },
   "source": [
    "This new model is saying, take 15% of the gross from two weeks ago, add to that 27% of last week's gross, add $184K to it, plus the small luck factor -- that's what this week's gross will be."
   ]
  },
  {
   "cell_type": "code",
   "execution_count": 113,
   "metadata": {
    "collapsed": false,
    "deletable": true,
    "editable": true
   },
   "outputs": [
    {
     "data": {
      "image/png": "[encoded data removed]",
      "text/plain": [
       "<matplotlib.figure.Figure at 0x11d18c190>"
      ]
     },
     "metadata": {},
     "output_type": "display_data"
    }
   ],
   "source": [
    "x = range(len(weekly_timeseries))\n",
    "y_true = weekly_timeseries\n",
    "# plot actual grosses (blue spheres)\n",
    "plt.scatter(x,y_true)\n",
    "\n",
    "# we can only predict for weeks where we have a number for\n",
    "# the previous week AND two weeks ago. So our model can now\n",
    "# start predicting only at the 3rd week for a movie.\n",
    "x_pred = x[2:]\n",
    "y_pred = AR2_model.predict(X)\n",
    "\n",
    "# plot model prediction (red x signs)\n",
    "plt.scatter(x_pred,y_pred, color='red', marker=\"x\")\n",
    "\n",
    "# Labels\n",
    "plt.title(\"Mad Max Fury Road Weekly Gross over Time\")\n",
    "plt.xlabel(\"Week in theaters\")\n",
    "plt.ylabel(\"Weekly Gross\");"
   ]
  },
  {
   "cell_type": "code",
   "execution_count": 114,
   "metadata": {
    "collapsed": false,
    "deletable": true,
    "editable": true
   },
   "outputs": [
    {
     "data": {
      "image/png": "[encoded data removed]",
      "text/plain": [
       "<matplotlib.figure.Figure at 0x104331c10>"
      ]
     },
     "metadata": {},
     "output_type": "display_data"
    }
   ],
   "source": [
    "plt.scatter(x,y_true, label=\"actual gross\")\n",
    "plt.scatter(x_pred,y_pred, color='red', marker=\"x\", label=\"predicted\")\n",
    "plt.yscale('log')\n",
    "plt.xlabel(\"Week in theaters\")\n",
    "plt.ylabel(\"Weekly Gross\")\n",
    "plt.legend();"
   ]
  },
  {
   "cell_type": "markdown",
   "metadata": {
    "deletable": true,
    "editable": true
   },
   "source": [
    "As you can see, this model is different. It is smoother. Our previous model was only looking at last week and that single jump towards the end was throwing it off for those last few points. Here, because the model is looking at a longer range of the past, it is starting to predict a general level for those last low gross amounts.\n",
    "\n",
    "We have manually constructed our features based on past performance. Since this is common for time series, there are actually short-hand interfaces to build such AR models. In statsmodels, for example, you can just use the gross values over time as the input to an AR model and it will automatically do what we just did. Let's take a look."
   ]
  },
  {
   "cell_type": "code",
   "execution_count": 115,
   "metadata": {
    "collapsed": false,
    "deletable": true,
    "editable": true
   },
   "outputs": [
    {
     "data": {
      "text/plain": [
       "[63440279,\n",
       " 38849255,\n",
       " 20544731,\n",
       " 11643562,\n",
       " 6309002,\n",
       " 4555993,\n",
       " 2648047,\n",
       " 1645168,\n",
       " 966275,\n",
       " 601794,\n",
       " 663222,\n",
       " 471641,\n",
       " 266007,\n",
       " 190614,\n",
       " 129637,\n",
       " 119106,\n",
       " 94384,\n",
       " 473315,\n",
       " 24322]"
      ]
     },
     "execution_count": 115,
     "metadata": {},
     "output_type": "execute_result"
    }
   ],
   "source": [
    "import statsmodels.api as sm\n",
    "weekly_timeseries"
   ]
  },
  {
   "cell_type": "code",
   "execution_count": 116,
   "metadata": {
    "collapsed": false,
    "deletable": true,
    "editable": true
   },
   "outputs": [
    {
     "name": "stdout",
     "output_type": "stream",
     "text": [
      "[ -7.62830132e+03   5.88061907e-01]\n"
     ]
    }
   ],
   "source": [
    "# freq set as \"W\" means these numbers are weekly -- this is required \n",
    "# to make it possible to make predictions with datetime objects later,\n",
    "# as is usually practical with time series models.\n",
    "# The maxlag=1 means we are using a single lag feature, so this is an AR-1.\n",
    "sm_AR1_model = sm.tsa.AR(weekly_timeseries, freq=\"W\").fit(maxlag=1)\n",
    "print(sm_AR1_model.params)"
   ]
  },
  {
   "cell_type": "markdown",
   "metadata": {
    "deletable": true,
    "editable": true
   },
   "source": [
    "As you can see, these are the same coefficients! The intercept first, and then the coefficient for our only feature: Previous week's gross. Take 58% of last week, subtract $7600K, there's our estimate. You can see it if we plot it, too."
   ]
  },
  {
   "cell_type": "code",
   "execution_count": 117,
   "metadata": {
    "collapsed": false,
    "deletable": true,
    "editable": true
   },
   "outputs": [
    {
     "data": {
      "text/plain": [
       "<matplotlib.legend.Legend at 0x11d246210>"
      ]
     },
     "execution_count": 117,
     "metadata": {},
     "output_type": "execute_result"
    },
    {
     "data": {
      "image/png": "[encoded data removed]",
      "text/plain": [
       "<matplotlib.figure.Figure at 0x11d0be210>"
      ]
     },
     "metadata": {},
     "output_type": "display_data"
    }
   ],
   "source": [
    "x = range(len(weekly_timeseries))\n",
    "y_true = weekly_timeseries\n",
    "# plot actual grosses (blue spheres)\n",
    "plt.scatter(x,y_true, label='actual gross')\n",
    "\n",
    "x_pred = x[1:]\n",
    "y_pred = sm_AR1_model.predict()\n",
    "\n",
    "# plot model prediction (red x signs)\n",
    "plt.scatter(x_pred,y_pred, color='red', marker=\"x\", label='predicted')\n",
    "\n",
    "# Labels\n",
    "plt.title(\"Mad Max Fury Road Weekly Gross over Time\")\n",
    "plt.xlabel(\"Week in theaters\")\n",
    "plt.ylabel(\"Weekly Gross\")\n",
    "plt.yscale('log')\n",
    "plt.legend()"
   ]
  },
  {
   "cell_type": "markdown",
   "metadata": {
    "deletable": true,
    "editable": true
   },
   "source": [
    "This makes it easy to fit any AR type model. AR2 or AR3 are simple changes of maxlag."
   ]
  },
  {
   "cell_type": "code",
   "execution_count": 118,
   "metadata": {
    "collapsed": false,
    "deletable": true,
    "editable": true
   },
   "outputs": [
    {
     "name": "stdout",
     "output_type": "stream",
     "text": [
      "[  1.84055750e+05   2.71135854e-01   1.55212721e-01]\n"
     ]
    }
   ],
   "source": [
    "sm_AR2_model = sm.tsa.AR(weekly_timeseries, freq=\"W\").fit(maxlag=2)\n",
    "print(sm_AR2_model.params)"
   ]
  },
  {
   "cell_type": "code",
   "execution_count": 119,
   "metadata": {
    "collapsed": false,
    "deletable": true,
    "editable": true
   },
   "outputs": [
    {
     "name": "stdout",
     "output_type": "stream",
     "text": [
      "[  1.73898123e+05   2.99677232e-01   1.18869792e-01   1.29184801e-02]\n"
     ]
    }
   ],
   "source": [
    "sm_AR3_model = sm.tsa.AR(weekly_timeseries, freq=\"W\").fit(maxlag=3)\n",
    "print(sm_AR3_model.params)"
   ]
  },
  {
   "cell_type": "markdown",
   "metadata": {
    "deletable": true,
    "editable": true
   },
   "source": [
    "### Preprocessing: Smoothing out the noise\n",
    "Ok. Now let's see what happens if there is more noise. We were looking at weekly grosses. Basically, by summing up each daily gross, we are averaging out some of that daily noise. What if we looked at each day? Easy enough to get from boxofficemojo by going to the daily page for the same movie."
   ]
  },
  {
   "cell_type": "code",
   "execution_count": 120,
   "metadata": {
    "collapsed": false,
    "deletable": true,
    "editable": true
   },
   "outputs": [
    {
     "data": {
      "text/plain": [
       "[16611428,\n",
       " 16145936,\n",
       " 12670764,\n",
       " 5329473,\n",
       " 5031242,\n",
       " 3933036,\n",
       " 3708400,\n",
       " 6691708,\n",
       " 8926676,\n",
       " 9020878,\n",
       " 6648179,\n",
       " 3045462,\n",
       " 2318209,\n",
       " 2208143,\n",
       " 3880449,\n",
       " 5820128,\n",
       " 4477659,\n",
       " 1648447,\n",
       " 1985244,\n",
       " 1457348,\n",
       " 1275456,\n",
       " 2338428,\n",
       " 3241587,\n",
       " 2251438,\n",
       " 989046,\n",
       " 1152490,\n",
       " 951219,\n",
       " 719354,\n",
       " 1207792,\n",
       " 1676550,\n",
       " 1181625,\n",
       " 542680,\n",
       " 618347,\n",
       " 562083,\n",
       " 519925,\n",
       " 738959,\n",
       " 1098841,\n",
       " 1195249,\n",
       " 376030,\n",
       " 461402,\n",
       " 363386,\n",
       " 322126,\n",
       " 444374,\n",
       " 737290,\n",
       " 582772,\n",
       " 242233,\n",
       " 245481,\n",
       " 178396,\n",
       " 217511,\n",
       " 390636,\n",
       " 310952,\n",
       " 314418,\n",
       " 162234,\n",
       " 183390,\n",
       " 154047,\n",
       " 129481,\n",
       " 171052,\n",
       " 251161,\n",
       " 194935,\n",
       " 88670,\n",
       " 102857,\n",
       " 87550,\n",
       " 70040,\n",
       " 105387,\n",
       " 156620,\n",
       " 122342,\n",
       " 55054,\n",
       " 62413,\n",
       " 51802,\n",
       " 48176,\n",
       " 115109,\n",
       " 168355,\n",
       " 134728,\n",
       " 60322,\n",
       " 68163,\n",
       " 57983,\n",
       " 58562,\n",
       " 78736,\n",
       " 111558,\n",
       " 112023,\n",
       " 45781,\n",
       " 42136,\n",
       " 42698,\n",
       " 38709,\n",
       " 45729,\n",
       " 68075,\n",
       " 52561,\n",
       " 25331,\n",
       " 26090,\n",
       " 24524,\n",
       " 23697,\n",
       " 34411,\n",
       " 51370,\n",
       " 36366,\n",
       " 17819,\n",
       " 17809,\n",
       " 16806,\n",
       " 16033,\n",
       " 23724,\n",
       " 33105,\n",
       " 22542,\n",
       " 10662,\n",
       " 12620,\n",
       " 14545,\n",
       " 12439,\n",
       " 30029,\n",
       " 33792,\n",
       " 22812,\n",
       " 8265,\n",
       " 8665,\n",
       " 7651,\n",
       " 7892,\n",
       " 16314,\n",
       " 20099,\n",
       " 25487,\n",
       " 15396,\n",
       " 5558,\n",
       " 5669,\n",
       " 5861,\n",
       " 96855,\n",
       " 142195,\n",
       " 92814,\n",
       " 35697,\n",
       " 41408,\n",
       " 45962,\n",
       " 18384,\n",
       " 4249,\n",
       " 7908,\n",
       " 5296,\n",
       " 1571,\n",
       " 1696,\n",
       " 1645,\n",
       " 1957]"
      ]
     },
     "execution_count": 120,
     "metadata": {},
     "output_type": "execute_result"
    }
   ],
   "source": [
    "url = \"http://www.boxofficemojo.com/movies/?page=daily&view=chart&id=furyroad.htm\"\n",
    "\n",
    "response = requests.get(url)\n",
    "page = response.text\n",
    "soup = BeautifulSoup(page)\n",
    "\n",
    "# eac\n",
    "daily_gross_table = soup.find('table', {\"class\":\"chart-wide\"})\n",
    "daily_timeseries = extract_gross_points_from_table(daily_gross_table, gross_column=3)\n",
    "daily_timeseries"
   ]
  },
  {
   "cell_type": "code",
   "execution_count": 121,
   "metadata": {
    "collapsed": false,
    "deletable": true,
    "editable": true
   },
   "outputs": [
    {
     "data": {
      "text/plain": [
       "<matplotlib.text.Text at 0x121b61690>"
      ]
     },
     "execution_count": 121,
     "metadata": {},
     "output_type": "execute_result"
    },
    {
     "data": {
      "image/png": "[encoded data removed]",
      "text/plain": [
       "<matplotlib.figure.Figure at 0x11d1a2d90>"
      ]
     },
     "metadata": {},
     "output_type": "display_data"
    }
   ],
   "source": [
    "x = range(len(daily_timeseries))\n",
    "y = daily_timeseries\n",
    "plt.plot(x,y)\n",
    "plt.title(\"Mad Max Fury Road Daily Gross over Time\")\n",
    "plt.xlabel(\"Day in theaters\")\n",
    "plt.ylabel(\"Daily Gross\")"
   ]
  },
  {
   "cell_type": "markdown",
   "metadata": {
    "deletable": true,
    "editable": true
   },
   "source": [
    "We can see that it fluctuates. This is a somewhat patterned fluctuation, we have a spike every weekend, since many more people watch movies on the weekend compared to weekdays. So, actually summing up or averaging the daily grosses for each week, and then using the weekly time series is a very good pre-processing to apply to this data.\n",
    "\n",
    "There are of course tons of other time series where the noise is less patterned. Take the following time series of an instructor's weight, for example, taken every day (in kgs) for a long stretch. First of all, stop judging! :)\n",
    "\n",
    "Here we can see the daily fluctuations that would make it tough if we just used something like AR-1 or AR-2. Our amazing human brains with great pattern-finding capabilities can immediately see the trend, but on the small scale, zoomed into a few points next to each other, the noise has some effect."
   ]
  },
  {
   "cell_type": "code",
   "execution_count": 122,
   "metadata": {
    "collapsed": false,
    "deletable": true,
    "editable": true
   },
   "outputs": [
    {
     "data": {
      "text/plain": [
       "<matplotlib.text.Text at 0x11f636090>"
      ]
     },
     "execution_count": 122,
     "metadata": {},
     "output_type": "execute_result"
    },
    {
     "data": {
      "image/png": "[encoded data removed]",
      "text/plain": [
       "<matplotlib.figure.Figure at 0x11ff6d5d0>"
      ]
     },
     "metadata": {},
     "output_type": "display_data"
    }
   ],
   "source": [
    "weight_timeseries = [82.8, 82.7, 81.2, 80.8, 80.7, 81, 81.2, 80.6, 80.3, 79.9, 79.5, 79.7, 80.1, 79.3, 80.2, 80.2, 79.5, 78.6, 79.2, 79.2, 78.1, 77.8, 77.4, 77.5, 77.3, 76.9, 76.7, 77.2, 77.1, 77.2, 77.3, 76.4, 76.5, 76.4, 76.4, 76.3, 76.2, 76.2, 75.6, 75.4, 75.3, 75.5, 75.7, 75.1, 74.7, 75.2, 74.9, 74.8, 74.6, 74.5, 75.4, 74.9, 74.6, 74.5, 74.3, 75.1, 75.1, 75.1, 74.7, 73.9, 74.1, 74.2, 73.9, 74.2, 73.7, 73.5, 73.8, 74.4, 74, 74.6, 73.8, 73, 72.9, 73.8, 74.4, 73.4]\n",
    "x = range(len(weight_timeseries))\n",
    "y = weight_timeseries\n",
    "plt.plot(x,y)\n",
    "plt.title(\"Weight over Time\")\n",
    "plt.xlabel(\"Days\")\n",
    "plt.ylabel(\"Weight in kgs\")"
   ]
  },
  {
   "cell_type": "code",
   "execution_count": 123,
   "metadata": {
    "collapsed": false,
    "deletable": true,
    "editable": true
   },
   "outputs": [
    {
     "data": {
      "text/plain": [
       "<matplotlib.text.Text at 0x1201b97d0>"
      ]
     },
     "execution_count": 123,
     "metadata": {},
     "output_type": "execute_result"
    },
    {
     "data": {
      "image/png": "[encoded data removed]",
      "text/plain": [
       "<matplotlib.figure.Figure at 0x120223f10>"
      ]
     },
     "metadata": {},
     "output_type": "display_data"
    }
   ],
   "source": [
    "# Zoom in\n",
    "plt.plot(x[20:35],y[20:35], 'o-')\n",
    "plt.title(\"Weight over Time\")\n",
    "plt.xlabel(\"Days\")\n",
    "plt.ylabel(\"Weight in kgs\")"
   ]
  },
  {
   "cell_type": "markdown",
   "metadata": {
    "deletable": true,
    "editable": true
   },
   "source": [
    "Basically, that daily luck factor in our stochastic process model is causing fluctuations that makes it a bit harder for the model to fit that underlying process. If we can eliminate the noise a bit, we can fit better. In fact, this is exactly what we did in the beginning by looking at weekly timeseries instead of daily. By averaging (or summing -- same effect) over a bunch of points, we are letting the noise from different days cancel each other.\n",
    "\n",
    "Now, in some cases, such as the weekly grosses, there are logical units, bins, to average/sum over. In movies, each week is one unit that makes sense in the system. Every week there are new movies released, new competitors, so it makes sense to treat each week separately. In the case of the weight, however, there is no discrete jump from one unit to the other as in the case of movies. So, if we wanted to get rid of the noise, instead of just dividing the time into bins, a better approach is to take a **moving average**. Basically, take a window of n points, take their average to represent that whole window, then slide the window by one point to the future (remove oldest point, add the next point) average again. Let's do that here with a 10-day moving average window and see how it helps."
   ]
  },
  {
   "cell_type": "code",
   "execution_count": 124,
   "metadata": {
    "collapsed": false,
    "deletable": true,
    "editable": true
   },
   "outputs": [
    {
     "data": {
      "text/plain": [
       "[None,\n",
       " None,\n",
       " None,\n",
       " None,\n",
       " None,\n",
       " 81.11999999999999,\n",
       " 80.78999999999999,\n",
       " 80.49,\n",
       " 80.38000000000001,\n",
       " 80.23,\n",
       " 80.18,\n",
       " 80.1,\n",
       " 79.92999999999999,\n",
       " 79.73,\n",
       " 79.62000000000002,\n",
       " 79.55000000000001,\n",
       " 79.41000000000001,\n",
       " 79.22,\n",
       " 78.94999999999999,\n",
       " 78.77]"
      ]
     },
     "execution_count": 124,
     "metadata": {},
     "output_type": "execute_result"
    }
   ],
   "source": [
    "MA_10 = [None] * len(weight_timeseries)\n",
    "start, end = 5, len(MA_10)-5\n",
    "for window in range(start, end):\n",
    "    points_in_window = [weight_timeseries[i] for i in range(window-5, window+5)]\n",
    "    MA_10[window] = sum(points_in_window)/10.\n",
    "    \n",
    "MA_10[:20]"
   ]
  },
  {
   "cell_type": "code",
   "execution_count": 125,
   "metadata": {
    "collapsed": false,
    "deletable": true,
    "editable": true
   },
   "outputs": [
    {
     "data": {
      "text/plain": [
       "<matplotlib.legend.Legend at 0x121285750>"
      ]
     },
     "execution_count": 125,
     "metadata": {},
     "output_type": "execute_result"
    },
    {
     "data": {
      "image/png": "[encoded data removed]",
      "text/plain": [
       "<matplotlib.figure.Figure at 0x11d61e8d0>"
      ]
     },
     "metadata": {},
     "output_type": "display_data"
    }
   ],
   "source": [
    "x = range(len(weight_timeseries))\n",
    "y_real = weight_timeseries\n",
    "\n",
    "start, end = 5, len(MA_10)-5\n",
    "x_ma = range(start, end)\n",
    "y_ma = MA_10[start:end]\n",
    "\n",
    "plt.plot(x,y, label=\"actual weight\")\n",
    "plt.plot(x_ma, y_ma, color='green', label=\"moving average\")\n",
    "plt.title(\"Weight over Time (Moving Average: 10 Days)\")\n",
    "plt.xlabel(\"Day\")\n",
    "plt.ylabel(\"Weight in kgs\")\n",
    "plt.legend()"
   ]
  },
  {
   "cell_type": "markdown",
   "metadata": {
    "deletable": true,
    "editable": true
   },
   "source": [
    "As you can see, the moving average gives us a much smoother, less noisy dataset, making it easier to define the underlying process. Of course, just like in the case of the AR models, we get fewer points (since we lose 5 at the start and 5 at the end) to use in a model.\n",
    "\n",
    "**Remember**: When you are doing preprocessing like this, you are putting some of your prior information or assumptions about the system into your model. The window size you choose reflects your belief about what portion of the fluctuations are noise. If you choose a rolling window of 5 points, you are saying that the underlying value would not change much within a time window of 5 points. So, the ups and downs must be from noise. By inserting more information, you make it easier to model the changes. But of course **be mindful of your assumptions, and keep checking their validity wherever you can.**\n",
    "\n",
    "Don't let this scare you, though. Making assumptions like this is normal, it isn't evil at all. Even by doing linear regression, we are making a lot of assumptions. Quite a few of those assumptions (such as a perfectly well behaving gaussian noise with the same standard deviation throughout) are usually wrong, but they are close enough that our models are still very useful.\n",
    "\n",
    "### Implementation in pandas\n",
    "Pandas actually provides a function to do the moving average.\n",
    "`pd.stats.moments.rolling_mean`"
   ]
  },
  {
   "cell_type": "code",
   "execution_count": 126,
   "metadata": {
    "collapsed": false,
    "deletable": true,
    "editable": true
   },
   "outputs": [
    {
     "name": "stderr",
     "output_type": "stream",
     "text": [
      "/Users/jb/anaconda3/envs/py27/lib/python2.7/site-packages/ipykernel/__main__.py:2: FutureWarning: pd.rolling_mean is deprecated for DataFrame and will be removed in a future version, replace with \n",
      "\tDataFrame.rolling(window=10,center=False).mean()\n",
      "  from ipykernel import kernelapp as app\n"
     ]
    },
    {
     "data": {
      "text/html": [
       "<div>\n",
       "<table border=\"1\" class=\"dataframe\">\n",
       "  <thead>\n",
       "    <tr style=\"text-align: right;\">\n",
       "      <th></th>\n",
       "      <th>Weight</th>\n",
       "      <th>Weight_MA10</th>\n",
       "    </tr>\n",
       "  </thead>\n",
       "  <tbody>\n",
       "    <tr>\n",
       "      <th>0</th>\n",
       "      <td>82.8</td>\n",
       "      <td>NaN</td>\n",
       "    </tr>\n",
       "    <tr>\n",
       "      <th>1</th>\n",
       "      <td>82.7</td>\n",
       "      <td>NaN</td>\n",
       "    </tr>\n",
       "    <tr>\n",
       "      <th>2</th>\n",
       "      <td>81.2</td>\n",
       "      <td>NaN</td>\n",
       "    </tr>\n",
       "    <tr>\n",
       "      <th>3</th>\n",
       "      <td>80.8</td>\n",
       "      <td>NaN</td>\n",
       "    </tr>\n",
       "    <tr>\n",
       "      <th>4</th>\n",
       "      <td>80.7</td>\n",
       "      <td>NaN</td>\n",
       "    </tr>\n",
       "    <tr>\n",
       "      <th>5</th>\n",
       "      <td>81.0</td>\n",
       "      <td>NaN</td>\n",
       "    </tr>\n",
       "    <tr>\n",
       "      <th>6</th>\n",
       "      <td>81.2</td>\n",
       "      <td>NaN</td>\n",
       "    </tr>\n",
       "    <tr>\n",
       "      <th>7</th>\n",
       "      <td>80.6</td>\n",
       "      <td>NaN</td>\n",
       "    </tr>\n",
       "    <tr>\n",
       "      <th>8</th>\n",
       "      <td>80.3</td>\n",
       "      <td>NaN</td>\n",
       "    </tr>\n",
       "    <tr>\n",
       "      <th>9</th>\n",
       "      <td>79.9</td>\n",
       "      <td>81.12</td>\n",
       "    </tr>\n",
       "    <tr>\n",
       "      <th>10</th>\n",
       "      <td>79.5</td>\n",
       "      <td>80.79</td>\n",
       "    </tr>\n",
       "    <tr>\n",
       "      <th>11</th>\n",
       "      <td>79.7</td>\n",
       "      <td>80.49</td>\n",
       "    </tr>\n",
       "    <tr>\n",
       "      <th>12</th>\n",
       "      <td>80.1</td>\n",
       "      <td>80.38</td>\n",
       "    </tr>\n",
       "    <tr>\n",
       "      <th>13</th>\n",
       "      <td>79.3</td>\n",
       "      <td>80.23</td>\n",
       "    </tr>\n",
       "    <tr>\n",
       "      <th>14</th>\n",
       "      <td>80.2</td>\n",
       "      <td>80.18</td>\n",
       "    </tr>\n",
       "    <tr>\n",
       "      <th>15</th>\n",
       "      <td>80.2</td>\n",
       "      <td>80.10</td>\n",
       "    </tr>\n",
       "    <tr>\n",
       "      <th>16</th>\n",
       "      <td>79.5</td>\n",
       "      <td>79.93</td>\n",
       "    </tr>\n",
       "    <tr>\n",
       "      <th>17</th>\n",
       "      <td>78.6</td>\n",
       "      <td>79.73</td>\n",
       "    </tr>\n",
       "    <tr>\n",
       "      <th>18</th>\n",
       "      <td>79.2</td>\n",
       "      <td>79.62</td>\n",
       "    </tr>\n",
       "    <tr>\n",
       "      <th>19</th>\n",
       "      <td>79.2</td>\n",
       "      <td>79.55</td>\n",
       "    </tr>\n",
       "  </tbody>\n",
       "</table>\n",
       "</div>"
      ],
      "text/plain": [
       "    Weight  Weight_MA10\n",
       "0     82.8          NaN\n",
       "1     82.7          NaN\n",
       "2     81.2          NaN\n",
       "3     80.8          NaN\n",
       "4     80.7          NaN\n",
       "5     81.0          NaN\n",
       "6     81.2          NaN\n",
       "7     80.6          NaN\n",
       "8     80.3          NaN\n",
       "9     79.9        81.12\n",
       "10    79.5        80.79\n",
       "11    79.7        80.49\n",
       "12    80.1        80.38\n",
       "13    79.3        80.23\n",
       "14    80.2        80.18\n",
       "15    80.2        80.10\n",
       "16    79.5        79.93\n",
       "17    78.6        79.73\n",
       "18    79.2        79.62\n",
       "19    79.2        79.55"
      ]
     },
     "execution_count": 126,
     "metadata": {},
     "output_type": "execute_result"
    }
   ],
   "source": [
    "weight_df = pd.DataFrame(weight_timeseries, columns=[\"Weight\"])\n",
    "weight_df[\"Weight_MA10\"] = pd.stats.moments.rolling_mean(weight_df, window=10)\n",
    "weight_df.head(20)"
   ]
  },
  {
   "cell_type": "markdown",
   "metadata": {
    "deletable": true,
    "editable": true
   },
   "source": [
    "This actually assigns the mean of the *last 10 points* to the last time point of the window. If we instead want to center that value (like we did up there manually), we can do that as well, with the `center` keyword argument. This is important if the underlying trend is going up or down (your data is not *stationary*). Otherwise, for example in this case, since the weight is generally going down, our average of the last 10 weights will be higher than what we should assign the last point."
   ]
  },
  {
   "cell_type": "code",
   "execution_count": 127,
   "metadata": {
    "collapsed": false,
    "deletable": true,
    "editable": true
   },
   "outputs": [
    {
     "name": "stderr",
     "output_type": "stream",
     "text": [
      "/Users/jb/anaconda3/envs/py27/lib/python2.7/site-packages/ipykernel/__main__.py:1: FutureWarning: pd.rolling_mean is deprecated for DataFrame and will be removed in a future version, replace with \n",
      "\tDataFrame.rolling(window=10,center=True).mean()\n",
      "  if __name__ == '__main__':\n"
     ]
    },
    {
     "data": {
      "text/html": [
       "<div>\n",
       "<table border=\"1\" class=\"dataframe\">\n",
       "  <thead>\n",
       "    <tr style=\"text-align: right;\">\n",
       "      <th></th>\n",
       "      <th>Weight</th>\n",
       "      <th>Weight_MA10</th>\n",
       "    </tr>\n",
       "  </thead>\n",
       "  <tbody>\n",
       "    <tr>\n",
       "      <th>0</th>\n",
       "      <td>82.8</td>\n",
       "      <td>NaN</td>\n",
       "    </tr>\n",
       "    <tr>\n",
       "      <th>1</th>\n",
       "      <td>82.7</td>\n",
       "      <td>NaN</td>\n",
       "    </tr>\n",
       "    <tr>\n",
       "      <th>2</th>\n",
       "      <td>81.2</td>\n",
       "      <td>NaN</td>\n",
       "    </tr>\n",
       "    <tr>\n",
       "      <th>3</th>\n",
       "      <td>80.8</td>\n",
       "      <td>NaN</td>\n",
       "    </tr>\n",
       "    <tr>\n",
       "      <th>4</th>\n",
       "      <td>80.7</td>\n",
       "      <td>NaN</td>\n",
       "    </tr>\n",
       "    <tr>\n",
       "      <th>5</th>\n",
       "      <td>81.0</td>\n",
       "      <td>81.12</td>\n",
       "    </tr>\n",
       "    <tr>\n",
       "      <th>6</th>\n",
       "      <td>81.2</td>\n",
       "      <td>80.79</td>\n",
       "    </tr>\n",
       "    <tr>\n",
       "      <th>7</th>\n",
       "      <td>80.6</td>\n",
       "      <td>80.49</td>\n",
       "    </tr>\n",
       "    <tr>\n",
       "      <th>8</th>\n",
       "      <td>80.3</td>\n",
       "      <td>80.38</td>\n",
       "    </tr>\n",
       "    <tr>\n",
       "      <th>9</th>\n",
       "      <td>79.9</td>\n",
       "      <td>80.23</td>\n",
       "    </tr>\n",
       "    <tr>\n",
       "      <th>10</th>\n",
       "      <td>79.5</td>\n",
       "      <td>80.18</td>\n",
       "    </tr>\n",
       "    <tr>\n",
       "      <th>11</th>\n",
       "      <td>79.7</td>\n",
       "      <td>80.10</td>\n",
       "    </tr>\n",
       "    <tr>\n",
       "      <th>12</th>\n",
       "      <td>80.1</td>\n",
       "      <td>79.93</td>\n",
       "    </tr>\n",
       "    <tr>\n",
       "      <th>13</th>\n",
       "      <td>79.3</td>\n",
       "      <td>79.73</td>\n",
       "    </tr>\n",
       "    <tr>\n",
       "      <th>14</th>\n",
       "      <td>80.2</td>\n",
       "      <td>79.62</td>\n",
       "    </tr>\n",
       "    <tr>\n",
       "      <th>15</th>\n",
       "      <td>80.2</td>\n",
       "      <td>79.55</td>\n",
       "    </tr>\n",
       "    <tr>\n",
       "      <th>16</th>\n",
       "      <td>79.5</td>\n",
       "      <td>79.41</td>\n",
       "    </tr>\n",
       "    <tr>\n",
       "      <th>17</th>\n",
       "      <td>78.6</td>\n",
       "      <td>79.22</td>\n",
       "    </tr>\n",
       "    <tr>\n",
       "      <th>18</th>\n",
       "      <td>79.2</td>\n",
       "      <td>78.95</td>\n",
       "    </tr>\n",
       "    <tr>\n",
       "      <th>19</th>\n",
       "      <td>79.2</td>\n",
       "      <td>78.77</td>\n",
       "    </tr>\n",
       "  </tbody>\n",
       "</table>\n",
       "</div>"
      ],
      "text/plain": [
       "    Weight  Weight_MA10\n",
       "0     82.8          NaN\n",
       "1     82.7          NaN\n",
       "2     81.2          NaN\n",
       "3     80.8          NaN\n",
       "4     80.7          NaN\n",
       "5     81.0        81.12\n",
       "6     81.2        80.79\n",
       "7     80.6        80.49\n",
       "8     80.3        80.38\n",
       "9     79.9        80.23\n",
       "10    79.5        80.18\n",
       "11    79.7        80.10\n",
       "12    80.1        79.93\n",
       "13    79.3        79.73\n",
       "14    80.2        79.62\n",
       "15    80.2        79.55\n",
       "16    79.5        79.41\n",
       "17    78.6        79.22\n",
       "18    79.2        78.95\n",
       "19    79.2        78.77"
      ]
     },
     "execution_count": 127,
     "metadata": {},
     "output_type": "execute_result"
    }
   ],
   "source": [
    "weight_df[\"Weight_MA10\"] = pd.stats.moments.rolling_mean(weight_df, window=10, center=True)\n",
    "weight_df.head(20)"
   ]
  },
  {
   "cell_type": "markdown",
   "metadata": {
    "deletable": true,
    "editable": true
   },
   "source": [
    "Of course, we weighed every single point in the window equally. You can use other schemes, such as weighing each point less and less as we go back into the past. A common way to do that is an exponential moving average, where the weight of each previous point falls down exponentially. Again, by choosing the form of that exponential decay (like halflife, or span, or center of mass), we are putting in assumptions about the system, specifically in terms of how we believe noise works.\n",
    "\n",
    "In pandas, you can do this with `pandas.stats.moments.ewma`, where ewma stands for exponentially weighted moving average. We are using `halflife = 5` to set the shape of the exponential decay. This means that by the time we are at the 5th previous point, the weight we are using is half of the weight of the current point. By the time we are at the 10th previous point, the weight is half of the weight we used at the 5th previous point (and of course one quarter of the weight we gave the current point)."
   ]
  },
  {
   "cell_type": "code",
   "execution_count": 128,
   "metadata": {
    "collapsed": false,
    "deletable": true,
    "editable": true
   },
   "outputs": [
    {
     "name": "stderr",
     "output_type": "stream",
     "text": [
      "/Users/jb/anaconda3/envs/py27/lib/python2.7/site-packages/ipykernel/__main__.py:1: FutureWarning: pd.ewm_mean is deprecated for DataFrame and will be removed in a future version, replace with \n",
      "\tDataFrame.ewm(halflife=5,ignore_na=False,min_periods=0,adjust=True).mean()\n",
      "  if __name__ == '__main__':\n"
     ]
    },
    {
     "data": {
      "text/html": [
       "<div>\n",
       "<table border=\"1\" class=\"dataframe\">\n",
       "  <thead>\n",
       "    <tr style=\"text-align: right;\">\n",
       "      <th></th>\n",
       "      <th>Weight</th>\n",
       "      <th>Weight_MA10</th>\n",
       "    </tr>\n",
       "  </thead>\n",
       "  <tbody>\n",
       "    <tr>\n",
       "      <th>0</th>\n",
       "      <td>82.800000</td>\n",
       "      <td>NaN</td>\n",
       "    </tr>\n",
       "    <tr>\n",
       "      <th>1</th>\n",
       "      <td>82.746540</td>\n",
       "      <td>NaN</td>\n",
       "    </tr>\n",
       "    <tr>\n",
       "      <th>2</th>\n",
       "      <td>82.158146</td>\n",
       "      <td>NaN</td>\n",
       "    </tr>\n",
       "    <tr>\n",
       "      <th>3</th>\n",
       "      <td>81.745105</td>\n",
       "      <td>NaN</td>\n",
       "    </tr>\n",
       "    <tr>\n",
       "      <th>4</th>\n",
       "      <td>81.474528</td>\n",
       "      <td>NaN</td>\n",
       "    </tr>\n",
       "    <tr>\n",
       "      <th>5</th>\n",
       "      <td>81.365754</td>\n",
       "      <td>81.120000</td>\n",
       "    </tr>\n",
       "    <tr>\n",
       "      <th>6</th>\n",
       "      <td>81.331206</td>\n",
       "      <td>80.943581</td>\n",
       "    </tr>\n",
       "    <tr>\n",
       "      <th>7</th>\n",
       "      <td>81.189957</td>\n",
       "      <td>80.771013</td>\n",
       "    </tr>\n",
       "    <tr>\n",
       "      <th>8</th>\n",
       "      <td>81.028341</td>\n",
       "      <td>80.652097</td>\n",
       "    </tr>\n",
       "    <tr>\n",
       "      <th>9</th>\n",
       "      <td>80.833590</td>\n",
       "      <td>80.542817</td>\n",
       "    </tr>\n",
       "    <tr>\n",
       "      <th>10</th>\n",
       "      <td>80.612934</td>\n",
       "      <td>80.459650</td>\n",
       "    </tr>\n",
       "    <tr>\n",
       "      <th>11</th>\n",
       "      <td>80.467131</td>\n",
       "      <td>80.384688</td>\n",
       "    </tr>\n",
       "    <tr>\n",
       "      <th>12</th>\n",
       "      <td>80.410219</td>\n",
       "      <td>80.296855</td>\n",
       "    </tr>\n",
       "    <tr>\n",
       "      <th>13</th>\n",
       "      <td>80.242406</td>\n",
       "      <td>80.193914</td>\n",
       "    </tr>\n",
       "    <tr>\n",
       "      <th>14</th>\n",
       "      <td>80.236132</td>\n",
       "      <td>80.094857</td>\n",
       "    </tr>\n",
       "    <tr>\n",
       "      <th>15</th>\n",
       "      <td>80.230884</td>\n",
       "      <td>80.004705</td>\n",
       "    </tr>\n",
       "    <tr>\n",
       "      <th>16</th>\n",
       "      <td>80.126371</td>\n",
       "      <td>79.909725</td>\n",
       "    </tr>\n",
       "    <tr>\n",
       "      <th>17</th>\n",
       "      <td>79.911023</td>\n",
       "      <td>79.802806</td>\n",
       "    </tr>\n",
       "    <tr>\n",
       "      <th>18</th>\n",
       "      <td>79.811863</td>\n",
       "      <td>79.673901</td>\n",
       "    </tr>\n",
       "    <tr>\n",
       "      <th>19</th>\n",
       "      <td>79.727377</td>\n",
       "      <td>79.540176</td>\n",
       "    </tr>\n",
       "  </tbody>\n",
       "</table>\n",
       "</div>"
      ],
      "text/plain": [
       "       Weight  Weight_MA10\n",
       "0   82.800000          NaN\n",
       "1   82.746540          NaN\n",
       "2   82.158146          NaN\n",
       "3   81.745105          NaN\n",
       "4   81.474528          NaN\n",
       "5   81.365754    81.120000\n",
       "6   81.331206    80.943581\n",
       "7   81.189957    80.771013\n",
       "8   81.028341    80.652097\n",
       "9   80.833590    80.542817\n",
       "10  80.612934    80.459650\n",
       "11  80.467131    80.384688\n",
       "12  80.410219    80.296855\n",
       "13  80.242406    80.193914\n",
       "14  80.236132    80.094857\n",
       "15  80.230884    80.004705\n",
       "16  80.126371    79.909725\n",
       "17  79.911023    79.802806\n",
       "18  79.811863    79.673901\n",
       "19  79.727377    79.540176"
      ]
     },
     "execution_count": 128,
     "metadata": {},
     "output_type": "execute_result"
    }
   ],
   "source": [
    "ewma= pd.stats.moments.ewma(weight_df, halflife=5)\n",
    "ewma.head(20)"
   ]
  },
  {
   "cell_type": "markdown",
   "metadata": {
    "deletable": true,
    "editable": true
   },
   "source": [
    "Unfortunately, `ewma` is again doing an averaging into the past and assigning this to the last point. If your time series has a trend in one direction, you get the same problem of over/under estimating the appropriate value. You can overcome this by doing both a forward `ewma` and a backward `ewma` and averaging those two values for all time points."
   ]
  },
  {
   "cell_type": "markdown",
   "metadata": {
    "deletable": true,
    "editable": true
   },
   "source": [
    "### Moving Average Smoothing vs Moving-Average models: Not the same\n",
    "Now, what we covered above is a **moving average**, a way to smooth data, get rid of noise before using it to train a model (like an AR model). It can sometimes be a valid way to preprocess noisy timeseries data prior to (any type of) modeling. Smoothing out the noise can especially help to avoid overfitting and training models that generalize well to new data.\n",
    "\n",
    "There is also a different way of modeling time series data, which is called a **Moving Average Model**. Like auto-regressive (AR) models, moving-average models try to forecast future values by fitting a model to the observed data over time. The **Moving Average Model** is **not** the same thing as a **moving average**. While there are some remote similarities, these two concepts are different.\n",
    "\n",
    "The moving average model (**MA**) is actually quite similar to the autoregressive model (AR) in the sense that it is using a few previous points as input to forecast the future point. One big difference is that MA is using the noise contributions from the past as input features, rather than the final observed values (which includes that noise contribution).\n",
    "\n",
    "MA assumes that it is modeling **stationary** data, which means that it assumes the mean of the time series is not changing and will never change within a large enough sliding window. While locally, during some short time period the mean of a small window might change, generally the time series will stay around the same mean. So, basically, the MA model is a model about modeling \"noise\" around a mean. It is still trying to predict the value for the next point, but the inputs differ from AR.  Instead of using the absolute values for the past few points, it is using the noise from the previous points.Since the noise for each point cannot be observed directly and separately, fitting an MA model is more complicated and needs to involve non-linear optimization methods.\n",
    "\n",
    "**ARMA** models combine both AR features and MA features in a single model. **ARIMA** models add another trick: Differencing (converting each point from its absolute value into a difference from the previous value). We will touch upon MA, ARMA, ARIMA models later in the bootcamp again. Feel free to read on them if you like, but for a lot of time series cases, the straightforward auto-regressive modeling gives you a strong modeling tool, that works exactly like any other regression problem."
   ]
  }
 ],
 "metadata": {
  "anaconda-cloud": {},
  "kernelspec": {
   "display_name": "Python [conda env:py27]",
   "language": "python",
   "name": "conda-env-py27-py"
  },
  "toc": {
   "colors": {
    "hover_highlight": "#DAA520",
    "running_highlight": "#FF0000",
    "selected_highlight": "#FFD700"
   },
   "moveMenuLeft": false,
   "nav_menu": {
    "height": "84px",
    "width": "252px"
   },
   "navigate_menu": true,
   "number_sections": false,
   "sideBar": false,
   "threshold": "3",
   "toc_cell": false,
   "toc_section_display": "block",
   "toc_window_display": false
  }
 },
 "nbformat": 4,
 "nbformat_minor": 0
}
