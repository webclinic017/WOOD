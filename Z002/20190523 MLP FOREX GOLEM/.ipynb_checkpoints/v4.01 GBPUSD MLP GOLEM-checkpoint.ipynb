{
 "cells": [
  {
   "cell_type": "code",
   "execution_count": 1,
   "metadata": {},
   "outputs": [],
   "source": [
    "___Author___='LumberJack Jyss'"
   ]
  },
  {
   "cell_type": "code",
   "execution_count": 2,
   "metadata": {},
   "outputs": [
    {
     "name": "stdout",
     "output_type": "stream",
     "text": [
      "Global Optimized LumberJack Equities Method\n",
      "°OoO_FOREX_Oo0°\n",
      "LumberJack Jyss 5779(c)\n"
     ]
    }
   ],
   "source": [
    "print('Global Optimized LumberJack Equities Method\\n°OoO_FOREX_Oo0°\\nLumberJack Jyss 5779(c)')"
   ]
  },
  {
   "cell_type": "markdown",
   "metadata": {},
   "source": [
    "currencies = ['EURJPY=X', 'GBPJPY=X', 'USDJPY=X','GBPUSD=X','BTCUSD=X','ETHUSD=X','GBPEUR=X',\\\n",
    "             'GBPSGD=X','GBPSEK=X','GBPSAR=X','CADUSD=X','CADJPY=X','AUDUSD=X','NZDUSD=X',\\\n",
    "             'NZDGBP=X','NZDEUR=X','AUDGBP=X','AUDEUR=X',]\n",
    "daily_currency_prices = YahooFinancials(currencies).get_historical_price_data(start,end,'daily')\n",
    "temp_df = pd.DataFrame.from_dict(daily_currency_prices.values()).T"
   ]
  },
  {
   "cell_type": "code",
   "execution_count": 10,
   "metadata": {},
   "outputs": [
    {
     "name": "stdout",
     "output_type": "stream",
     "text": [
      "Importing librairies...\n",
      "Librairies imported\n"
     ]
    }
   ],
   "source": [
    "print('Importing librairies...')\n",
    "import numpy as np\n",
    "import pandas as pd\n",
    "import pandas_datareader as web\n",
    "import matplotlib.pyplot as plt\n",
    "import os\n",
    "from sklearn.preprocessing import MinMaxScaler\n",
    "from keras.models import Sequential\n",
    "from keras.layers import Input\n",
    "from keras.layers import Dense\n",
    "from yahoofinancials import YahooFinancials\n",
    "print('Librairies imported')"
   ]
  },
  {
   "cell_type": "code",
   "execution_count": 11,
   "metadata": {},
   "outputs": [],
   "source": [
    "start = '2014-01-28'\n",
    "end = '2019-05-26'"
   ]
  },
  {
   "cell_type": "code",
   "execution_count": 12,
   "metadata": {},
   "outputs": [],
   "source": [
    "currencies = ['GBPUSD=X']\n",
    "daily_currency_prices = YahooFinancials(currencies).get_historical_price_data(start,end,'daily')"
   ]
  },
  {
   "cell_type": "code",
   "execution_count": 13,
   "metadata": {},
   "outputs": [],
   "source": [
    "vix = web.DataReader('^VIX','yahoo',start,end)"
   ]
  },
  {
   "cell_type": "code",
   "execution_count": 14,
   "metadata": {},
   "outputs": [],
   "source": [
    "temp_df = pd.DataFrame.from_dict(daily_currency_prices.values()).T"
   ]
  },
  {
   "cell_type": "code",
   "execution_count": 15,
   "metadata": {},
   "outputs": [],
   "source": [
    "gbpusd = pd.DataFrame.from_dict(temp_df.iloc[4,0])"
   ]
  },
  {
   "cell_type": "code",
   "execution_count": 16,
   "metadata": {},
   "outputs": [],
   "source": [
    "df = pd.DataFrame()\n",
    "df['Date'] = gbpusd['formatted_date']\n",
    "df['High'] = gbpusd['high']\n",
    "df['Low'] = gbpusd['low']\n",
    "df['Open'] = gbpusd['open']\n",
    "df['Close'] = gbpusd['close']\n",
    "#df['Volume'] = gbpusd['volume']\n",
    "df['Adj Close'] = gbpusd['adjclose']"
   ]
  },
  {
   "cell_type": "code",
   "execution_count": 17,
   "metadata": {},
   "outputs": [
    {
     "name": "stdout",
     "output_type": "stream",
     "text": [
      "Période d'étude :  1389\n",
      "Sur un découpage 80% - 20% de la période : \n",
      "Bloc 1 :  1111  jours \n",
      "Bloc 2 : 278  jours\n"
     ]
    }
   ],
   "source": [
    "delta = round(df.shape[0])\n",
    "bloc1 = round(delta*0.8)\n",
    "bloc2 = delta - bloc1\n",
    "print(\"Période d'étude : \",delta)\n",
    "print('Sur un découpage 80% - 20% de la période : ')\n",
    "print('Bloc 1 : ',bloc1,' jours \\nBloc 2 :',bloc2,' jours')"
   ]
  },
  {
   "cell_type": "code",
   "execution_count": 18,
   "metadata": {},
   "outputs": [],
   "source": [
    "date = df['Date']"
   ]
  },
  {
   "cell_type": "code",
   "execution_count": 19,
   "metadata": {},
   "outputs": [
    {
     "data": {
      "text/html": [
       "<div>\n",
       "<style scoped>\n",
       "    .dataframe tbody tr th:only-of-type {\n",
       "        vertical-align: middle;\n",
       "    }\n",
       "\n",
       "    .dataframe tbody tr th {\n",
       "        vertical-align: top;\n",
       "    }\n",
       "\n",
       "    .dataframe thead th {\n",
       "        text-align: right;\n",
       "    }\n",
       "</style>\n",
       "<table border=\"1\" class=\"dataframe\">\n",
       "  <thead>\n",
       "    <tr style=\"text-align: right;\">\n",
       "      <th></th>\n",
       "      <th>Date</th>\n",
       "      <th>High</th>\n",
       "      <th>Low</th>\n",
       "      <th>Open</th>\n",
       "      <th>Close</th>\n",
       "      <th>Adj Close</th>\n",
       "    </tr>\n",
       "  </thead>\n",
       "  <tbody>\n",
       "    <tr>\n",
       "      <th>0</th>\n",
       "      <td>2014-01-28</td>\n",
       "      <td>1.662124</td>\n",
       "      <td>1.654287</td>\n",
       "      <td>1.657523</td>\n",
       "      <td>1.657495</td>\n",
       "      <td>1.657495</td>\n",
       "    </tr>\n",
       "    <tr>\n",
       "      <th>1</th>\n",
       "      <td>2014-01-29</td>\n",
       "      <td>1.660550</td>\n",
       "      <td>1.652892</td>\n",
       "      <td>1.656891</td>\n",
       "      <td>1.657001</td>\n",
       "      <td>1.657001</td>\n",
       "    </tr>\n",
       "    <tr>\n",
       "      <th>2</th>\n",
       "      <td>2014-01-30</td>\n",
       "      <td>1.656589</td>\n",
       "      <td>1.644899</td>\n",
       "      <td>1.655821</td>\n",
       "      <td>1.655903</td>\n",
       "      <td>1.655903</td>\n",
       "    </tr>\n",
       "    <tr>\n",
       "      <th>3</th>\n",
       "      <td>2014-01-31</td>\n",
       "      <td>1.649947</td>\n",
       "      <td>1.643169</td>\n",
       "      <td>1.649430</td>\n",
       "      <td>1.649838</td>\n",
       "      <td>1.649838</td>\n",
       "    </tr>\n",
       "    <tr>\n",
       "      <th>4</th>\n",
       "      <td>2014-02-03</td>\n",
       "      <td>1.643791</td>\n",
       "      <td>1.632706</td>\n",
       "      <td>1.643791</td>\n",
       "      <td>1.643791</td>\n",
       "      <td>1.643791</td>\n",
       "    </tr>\n",
       "  </tbody>\n",
       "</table>\n",
       "</div>"
      ],
      "text/plain": [
       "         Date      High       Low      Open     Close  Adj Close\n",
       "0  2014-01-28  1.662124  1.654287  1.657523  1.657495   1.657495\n",
       "1  2014-01-29  1.660550  1.652892  1.656891  1.657001   1.657001\n",
       "2  2014-01-30  1.656589  1.644899  1.655821  1.655903   1.655903\n",
       "3  2014-01-31  1.649947  1.643169  1.649430  1.649838   1.649838\n",
       "4  2014-02-03  1.643791  1.632706  1.643791  1.643791   1.643791"
      ]
     },
     "execution_count": 19,
     "metadata": {},
     "output_type": "execute_result"
    }
   ],
   "source": [
    "df.head()"
   ]
  },
  {
   "cell_type": "code",
   "execution_count": 20,
   "metadata": {},
   "outputs": [
    {
     "data": {
      "text/html": [
       "<div>\n",
       "<style scoped>\n",
       "    .dataframe tbody tr th:only-of-type {\n",
       "        vertical-align: middle;\n",
       "    }\n",
       "\n",
       "    .dataframe tbody tr th {\n",
       "        vertical-align: top;\n",
       "    }\n",
       "\n",
       "    .dataframe thead th {\n",
       "        text-align: right;\n",
       "    }\n",
       "</style>\n",
       "<table border=\"1\" class=\"dataframe\">\n",
       "  <thead>\n",
       "    <tr style=\"text-align: right;\">\n",
       "      <th></th>\n",
       "      <th>Date</th>\n",
       "      <th>High</th>\n",
       "      <th>Low</th>\n",
       "      <th>Open</th>\n",
       "      <th>Close</th>\n",
       "      <th>Adj Close</th>\n",
       "    </tr>\n",
       "  </thead>\n",
       "  <tbody>\n",
       "    <tr>\n",
       "      <th>1384</th>\n",
       "      <td>2019-05-19</td>\n",
       "      <td>1.275754</td>\n",
       "      <td>1.271682</td>\n",
       "      <td>1.273026</td>\n",
       "      <td>1.273156</td>\n",
       "      <td>1.273156</td>\n",
       "    </tr>\n",
       "    <tr>\n",
       "      <th>1385</th>\n",
       "      <td>2019-05-20</td>\n",
       "      <td>1.279427</td>\n",
       "      <td>1.268617</td>\n",
       "      <td>1.272783</td>\n",
       "      <td>1.272912</td>\n",
       "      <td>1.272912</td>\n",
       "    </tr>\n",
       "    <tr>\n",
       "      <th>1386</th>\n",
       "      <td>2019-05-21</td>\n",
       "      <td>NaN</td>\n",
       "      <td>NaN</td>\n",
       "      <td>NaN</td>\n",
       "      <td>NaN</td>\n",
       "      <td>NaN</td>\n",
       "    </tr>\n",
       "    <tr>\n",
       "      <th>1387</th>\n",
       "      <td>2019-05-22</td>\n",
       "      <td>1.268343</td>\n",
       "      <td>1.260589</td>\n",
       "      <td>1.266336</td>\n",
       "      <td>1.266416</td>\n",
       "      <td>1.266416</td>\n",
       "    </tr>\n",
       "    <tr>\n",
       "      <th>1388</th>\n",
       "      <td>2019-05-23</td>\n",
       "      <td>1.271715</td>\n",
       "      <td>1.264942</td>\n",
       "      <td>1.266464</td>\n",
       "      <td>1.266464</td>\n",
       "      <td>1.266464</td>\n",
       "    </tr>\n",
       "  </tbody>\n",
       "</table>\n",
       "</div>"
      ],
      "text/plain": [
       "            Date      High       Low      Open     Close  Adj Close\n",
       "1384  2019-05-19  1.275754  1.271682  1.273026  1.273156   1.273156\n",
       "1385  2019-05-20  1.279427  1.268617  1.272783  1.272912   1.272912\n",
       "1386  2019-05-21       NaN       NaN       NaN       NaN        NaN\n",
       "1387  2019-05-22  1.268343  1.260589  1.266336  1.266416   1.266416\n",
       "1388  2019-05-23  1.271715  1.264942  1.266464  1.266464   1.266464"
      ]
     },
     "execution_count": 20,
     "metadata": {},
     "output_type": "execute_result"
    }
   ],
   "source": [
    "df.tail()"
   ]
  },
  {
   "cell_type": "code",
   "execution_count": 21,
   "metadata": {},
   "outputs": [
    {
     "data": {
      "text/html": [
       "<div>\n",
       "<style scoped>\n",
       "    .dataframe tbody tr th:only-of-type {\n",
       "        vertical-align: middle;\n",
       "    }\n",
       "\n",
       "    .dataframe tbody tr th {\n",
       "        vertical-align: top;\n",
       "    }\n",
       "\n",
       "    .dataframe thead th {\n",
       "        text-align: right;\n",
       "    }\n",
       "</style>\n",
       "<table border=\"1\" class=\"dataframe\">\n",
       "  <thead>\n",
       "    <tr style=\"text-align: right;\">\n",
       "      <th></th>\n",
       "      <th>High</th>\n",
       "      <th>Low</th>\n",
       "      <th>Open</th>\n",
       "      <th>Close</th>\n",
       "      <th>Volume</th>\n",
       "      <th>Adj Close</th>\n",
       "    </tr>\n",
       "    <tr>\n",
       "      <th>Date</th>\n",
       "      <th></th>\n",
       "      <th></th>\n",
       "      <th></th>\n",
       "      <th></th>\n",
       "      <th></th>\n",
       "      <th></th>\n",
       "    </tr>\n",
       "  </thead>\n",
       "  <tbody>\n",
       "    <tr>\n",
       "      <th>2014-01-28</th>\n",
       "      <td>17.280001</td>\n",
       "      <td>15.800000</td>\n",
       "      <td>17.270000</td>\n",
       "      <td>15.800000</td>\n",
       "      <td>0</td>\n",
       "      <td>15.800000</td>\n",
       "    </tr>\n",
       "    <tr>\n",
       "      <th>2014-01-29</th>\n",
       "      <td>18.040001</td>\n",
       "      <td>16.709999</td>\n",
       "      <td>17.950001</td>\n",
       "      <td>17.350000</td>\n",
       "      <td>0</td>\n",
       "      <td>17.350000</td>\n",
       "    </tr>\n",
       "    <tr>\n",
       "      <th>2014-01-30</th>\n",
       "      <td>17.389999</td>\n",
       "      <td>15.960000</td>\n",
       "      <td>16.370001</td>\n",
       "      <td>17.290001</td>\n",
       "      <td>0</td>\n",
       "      <td>17.290001</td>\n",
       "    </tr>\n",
       "    <tr>\n",
       "      <th>2014-01-31</th>\n",
       "      <td>18.990000</td>\n",
       "      <td>17.270000</td>\n",
       "      <td>18.709999</td>\n",
       "      <td>18.410000</td>\n",
       "      <td>0</td>\n",
       "      <td>18.410000</td>\n",
       "    </tr>\n",
       "    <tr>\n",
       "      <th>2014-02-03</th>\n",
       "      <td>21.480000</td>\n",
       "      <td>18.340000</td>\n",
       "      <td>18.570000</td>\n",
       "      <td>21.440001</td>\n",
       "      <td>0</td>\n",
       "      <td>21.440001</td>\n",
       "    </tr>\n",
       "  </tbody>\n",
       "</table>\n",
       "</div>"
      ],
      "text/plain": [
       "                 High        Low       Open      Close  Volume  Adj Close\n",
       "Date                                                                     \n",
       "2014-01-28  17.280001  15.800000  17.270000  15.800000       0  15.800000\n",
       "2014-01-29  18.040001  16.709999  17.950001  17.350000       0  17.350000\n",
       "2014-01-30  17.389999  15.960000  16.370001  17.290001       0  17.290001\n",
       "2014-01-31  18.990000  17.270000  18.709999  18.410000       0  18.410000\n",
       "2014-02-03  21.480000  18.340000  18.570000  21.440001       0  21.440001"
      ]
     },
     "execution_count": 21,
     "metadata": {},
     "output_type": "execute_result"
    }
   ],
   "source": [
    "vix.head()"
   ]
  },
  {
   "cell_type": "code",
   "execution_count": 22,
   "metadata": {},
   "outputs": [
    {
     "data": {
      "text/plain": [
       "High         0\n",
       "Low          0\n",
       "Open         0\n",
       "Close        0\n",
       "Volume       0\n",
       "Adj Close    0\n",
       "dtype: int64"
      ]
     },
     "execution_count": 22,
     "metadata": {},
     "output_type": "execute_result"
    }
   ],
   "source": [
    "vix.isnull().sum()"
   ]
  },
  {
   "cell_type": "code",
   "execution_count": 23,
   "metadata": {},
   "outputs": [
    {
     "data": {
      "text/plain": [
       "((1389, 6), (1341, 6))"
      ]
     },
     "execution_count": 23,
     "metadata": {},
     "output_type": "execute_result"
    }
   ],
   "source": [
    "df.shape,vix.shape"
   ]
  },
  {
   "cell_type": "code",
   "execution_count": 24,
   "metadata": {},
   "outputs": [],
   "source": [
    "temp = pd.DataFrame()\n",
    "temp = vix.iloc[:,-1]"
   ]
  },
  {
   "cell_type": "code",
   "execution_count": 25,
   "metadata": {},
   "outputs": [],
   "source": [
    "dataset = df.copy()\n",
    "dataset = dataset.iloc[-vix.shape[0]:,:]\n",
    "dataset['Vix'] = np.array(temp)\n",
    "dataset = dataset.drop(dataset[['Close','Date']],axis=1)\n",
    "dataset.rename(columns={'Adj Close':'Close'}, inplace=True)\n",
    "dataset.fillna(dataset.mean(), inplace=True)"
   ]
  },
  {
   "cell_type": "code",
   "execution_count": 26,
   "metadata": {},
   "outputs": [
    {
     "data": {
      "text/plain": [
       "(High     0\n",
       " Low      0\n",
       " Open     0\n",
       " Close    0\n",
       " Vix      0\n",
       " dtype: int64, pandas.core.frame.DataFrame)"
      ]
     },
     "execution_count": 26,
     "metadata": {},
     "output_type": "execute_result"
    }
   ],
   "source": [
    "dataset.isnull().sum(),type(dataset)"
   ]
  },
  {
   "cell_type": "code",
   "execution_count": 27,
   "metadata": {},
   "outputs": [
    {
     "data": {
      "text/html": [
       "<div>\n",
       "<style scoped>\n",
       "    .dataframe tbody tr th:only-of-type {\n",
       "        vertical-align: middle;\n",
       "    }\n",
       "\n",
       "    .dataframe tbody tr th {\n",
       "        vertical-align: top;\n",
       "    }\n",
       "\n",
       "    .dataframe thead th {\n",
       "        text-align: right;\n",
       "    }\n",
       "</style>\n",
       "<table border=\"1\" class=\"dataframe\">\n",
       "  <thead>\n",
       "    <tr style=\"text-align: right;\">\n",
       "      <th></th>\n",
       "      <th>High</th>\n",
       "      <th>Low</th>\n",
       "      <th>Open</th>\n",
       "      <th>Close</th>\n",
       "      <th>Vix</th>\n",
       "    </tr>\n",
       "  </thead>\n",
       "  <tbody>\n",
       "    <tr>\n",
       "      <th>count</th>\n",
       "      <td>1341.000000</td>\n",
       "      <td>1341.000000</td>\n",
       "      <td>1341.000000</td>\n",
       "      <td>1341.000000</td>\n",
       "      <td>1341.000000</td>\n",
       "    </tr>\n",
       "    <tr>\n",
       "      <th>mean</th>\n",
       "      <td>1.415173</td>\n",
       "      <td>1.405345</td>\n",
       "      <td>1.410425</td>\n",
       "      <td>1.410452</td>\n",
       "      <td>14.962685</td>\n",
       "    </tr>\n",
       "    <tr>\n",
       "      <th>std</th>\n",
       "      <td>0.137071</td>\n",
       "      <td>0.137494</td>\n",
       "      <td>0.137328</td>\n",
       "      <td>0.137327</td>\n",
       "      <td>4.195267</td>\n",
       "    </tr>\n",
       "    <tr>\n",
       "      <th>min</th>\n",
       "      <td>1.208751</td>\n",
       "      <td>1.199515</td>\n",
       "      <td>1.203746</td>\n",
       "      <td>1.203935</td>\n",
       "      <td>9.140000</td>\n",
       "    </tr>\n",
       "    <tr>\n",
       "      <th>25%</th>\n",
       "      <td>1.302932</td>\n",
       "      <td>1.293996</td>\n",
       "      <td>1.298297</td>\n",
       "      <td>1.298196</td>\n",
       "      <td>12.130000</td>\n",
       "    </tr>\n",
       "    <tr>\n",
       "      <th>50%</th>\n",
       "      <td>1.359915</td>\n",
       "      <td>1.350658</td>\n",
       "      <td>1.356116</td>\n",
       "      <td>1.356245</td>\n",
       "      <td>13.880000</td>\n",
       "    </tr>\n",
       "    <tr>\n",
       "      <th>75%</th>\n",
       "      <td>1.531159</td>\n",
       "      <td>1.520450</td>\n",
       "      <td>1.525832</td>\n",
       "      <td>1.525832</td>\n",
       "      <td>16.520000</td>\n",
       "    </tr>\n",
       "    <tr>\n",
       "      <th>max</th>\n",
       "      <td>1.718715</td>\n",
       "      <td>1.714237</td>\n",
       "      <td>1.716237</td>\n",
       "      <td>1.716090</td>\n",
       "      <td>40.740002</td>\n",
       "    </tr>\n",
       "  </tbody>\n",
       "</table>\n",
       "</div>"
      ],
      "text/plain": [
       "              High          Low         Open        Close          Vix\n",
       "count  1341.000000  1341.000000  1341.000000  1341.000000  1341.000000\n",
       "mean      1.415173     1.405345     1.410425     1.410452    14.962685\n",
       "std       0.137071     0.137494     0.137328     0.137327     4.195267\n",
       "min       1.208751     1.199515     1.203746     1.203935     9.140000\n",
       "25%       1.302932     1.293996     1.298297     1.298196    12.130000\n",
       "50%       1.359915     1.350658     1.356116     1.356245    13.880000\n",
       "75%       1.531159     1.520450     1.525832     1.525832    16.520000\n",
       "max       1.718715     1.714237     1.716237     1.716090    40.740002"
      ]
     },
     "execution_count": 27,
     "metadata": {},
     "output_type": "execute_result"
    }
   ],
   "source": [
    "dataset.describe()"
   ]
  },
  {
   "cell_type": "code",
   "execution_count": 28,
   "metadata": {},
   "outputs": [
    {
     "data": {
      "text/html": [
       "<div>\n",
       "<style scoped>\n",
       "    .dataframe tbody tr th:only-of-type {\n",
       "        vertical-align: middle;\n",
       "    }\n",
       "\n",
       "    .dataframe tbody tr th {\n",
       "        vertical-align: top;\n",
       "    }\n",
       "\n",
       "    .dataframe thead th {\n",
       "        text-align: right;\n",
       "    }\n",
       "</style>\n",
       "<table border=\"1\" class=\"dataframe\">\n",
       "  <thead>\n",
       "    <tr style=\"text-align: right;\">\n",
       "      <th></th>\n",
       "      <th>Open</th>\n",
       "      <th>Vix</th>\n",
       "      <th>Close</th>\n",
       "    </tr>\n",
       "  </thead>\n",
       "  <tbody>\n",
       "    <tr>\n",
       "      <th>1335</th>\n",
       "      <td>1.279787</td>\n",
       "      <td>15.960000</td>\n",
       "      <td>1.279771</td>\n",
       "    </tr>\n",
       "    <tr>\n",
       "      <th>1336</th>\n",
       "      <td>1.273026</td>\n",
       "      <td>16.309999</td>\n",
       "      <td>1.273156</td>\n",
       "    </tr>\n",
       "    <tr>\n",
       "      <th>1337</th>\n",
       "      <td>1.272783</td>\n",
       "      <td>14.950000</td>\n",
       "      <td>1.272912</td>\n",
       "    </tr>\n",
       "    <tr>\n",
       "      <th>1338</th>\n",
       "      <td>1.410425</td>\n",
       "      <td>14.750000</td>\n",
       "      <td>1.410452</td>\n",
       "    </tr>\n",
       "    <tr>\n",
       "      <th>1339</th>\n",
       "      <td>1.266336</td>\n",
       "      <td>16.920000</td>\n",
       "      <td>1.266416</td>\n",
       "    </tr>\n",
       "  </tbody>\n",
       "</table>\n",
       "</div>"
      ],
      "text/plain": [
       "          Open        Vix     Close\n",
       "1335  1.279787  15.960000  1.279771\n",
       "1336  1.273026  16.309999  1.273156\n",
       "1337  1.272783  14.950000  1.272912\n",
       "1338  1.410425  14.750000  1.410452\n",
       "1339  1.266336  16.920000  1.266416"
      ]
     },
     "execution_count": 28,
     "metadata": {},
     "output_type": "execute_result"
    }
   ],
   "source": [
    "temp = dataset.copy()\n",
    "dataset = pd.DataFrame()\n",
    "dataset['Open'] = temp['Open']\n",
    "dataset['Vix'] = temp['Vix']\n",
    "dataset['Close'] = temp['Close']\n",
    "dataset.reset_index(inplace=True,drop=True)\n",
    "dataset = dataset.iloc[:-1,:]\n",
    "dataset.tail()"
   ]
  },
  {
   "cell_type": "code",
   "execution_count": 29,
   "metadata": {},
   "outputs": [
    {
     "name": "stdout",
     "output_type": "stream",
     "text": [
      "<class 'pandas.core.frame.DataFrame'>\n",
      "RangeIndex: 1340 entries, 0 to 1339\n",
      "Data columns (total 3 columns):\n",
      "Open     1340 non-null float64\n",
      "Vix      1340 non-null float64\n",
      "Close    1340 non-null float64\n",
      "dtypes: float64(3)\n",
      "memory usage: 31.5 KB\n"
     ]
    }
   ],
   "source": [
    "dataset.info()"
   ]
  },
  {
   "cell_type": "code",
   "execution_count": 30,
   "metadata": {},
   "outputs": [],
   "source": [
    "# convert into input/output\n",
    "X1 = dataset['Open'].values.reshape(len(dataset),1)\n",
    "X2 = dataset['Vix'].values.reshape(len(dataset),1)\n",
    "y = dataset['Close'].values.reshape(len(dataset),1)\n"
   ]
  },
  {
   "cell_type": "code",
   "execution_count": 31,
   "metadata": {},
   "outputs": [
    {
     "data": {
      "text/plain": [
       "(1340, 1340)"
      ]
     },
     "execution_count": 31,
     "metadata": {},
     "output_type": "execute_result"
    }
   ],
   "source": [
    "len(X1),len(X2)"
   ]
  },
  {
   "cell_type": "code",
   "execution_count": 32,
   "metadata": {},
   "outputs": [],
   "source": [
    "X = np.concatenate((X1,X2),axis=1)"
   ]
  },
  {
   "cell_type": "code",
   "execution_count": 34,
   "metadata": {},
   "outputs": [],
   "source": [
    "# first input model\n",
    "model = Sequential()\n",
    "model.add(Dense(50, activation='relu', input_dim=2))\n",
    "#model.add(Dense(50,activation='tanh'))\n",
    "#model.add(Dense(25,activation='sigmoid'))\n",
    "model.add(Dense(1))\n",
    "model.compile(optimizer='adam', loss='mse')"
   ]
  },
  {
   "cell_type": "code",
   "execution_count": 36,
   "metadata": {},
   "outputs": [
    {
     "name": "stdout",
     "output_type": "stream",
     "text": [
      "Epoch 1/80\n",
      "1340/1340 [==============================] - 0s 26us/step - loss: 6.5844e-07\n",
      "Epoch 2/80\n",
      "1340/1340 [==============================] - 0s 23us/step - loss: 9.5260e-07\n",
      "Epoch 3/80\n",
      "1340/1340 [==============================] - 0s 24us/step - loss: 4.7512e-07\n",
      "Epoch 4/80\n",
      "1340/1340 [==============================] - 0s 32us/step - loss: 3.7837e-07\n",
      "Epoch 5/80\n",
      "1340/1340 [==============================] - 0s 30us/step - loss: 1.0819e-06\n",
      "Epoch 6/80\n",
      "1340/1340 [==============================] - 0s 22us/step - loss: 1.1788e-05\n",
      "Epoch 7/80\n",
      "1340/1340 [==============================] - 0s 22us/step - loss: 1.0468e-04\n",
      "Epoch 8/80\n",
      "1340/1340 [==============================] - 0s 23us/step - loss: 9.0808e-05\n",
      "Epoch 9/80\n",
      "1340/1340 [==============================] - 0s 22us/step - loss: 9.4217e-05\n",
      "Epoch 10/80\n",
      "1340/1340 [==============================] - 0s 22us/step - loss: 1.6702e-05\n",
      "Epoch 11/80\n",
      "1340/1340 [==============================] - 0s 22us/step - loss: 1.0745e-05\n",
      "Epoch 12/80\n",
      "1340/1340 [==============================] - 0s 22us/step - loss: 3.2586e-06\n",
      "Epoch 13/80\n",
      "1340/1340 [==============================] - 0s 22us/step - loss: 2.3133e-07\n",
      "Epoch 14/80\n",
      "1340/1340 [==============================] - 0s 22us/step - loss: 7.6303e-07\n",
      "Epoch 15/80\n",
      "1340/1340 [==============================] - 0s 22us/step - loss: 8.5440e-07\n",
      "Epoch 16/80\n",
      "1340/1340 [==============================] - 0s 22us/step - loss: 3.7771e-05\n",
      "Epoch 17/80\n",
      "1340/1340 [==============================] - 0s 23us/step - loss: 2.6712e-04\n",
      "Epoch 18/80\n",
      "1340/1340 [==============================] - 0s 22us/step - loss: 5.2077e-06\n",
      "Epoch 19/80\n",
      "1340/1340 [==============================] - 0s 22us/step - loss: 6.0636e-07\n",
      "Epoch 20/80\n",
      "1340/1340 [==============================] - 0s 22us/step - loss: 6.3777e-07\n",
      "Epoch 21/80\n",
      "1340/1340 [==============================] - 0s 22us/step - loss: 1.0791e-06\n",
      "Epoch 22/80\n",
      "1340/1340 [==============================] - 0s 22us/step - loss: 1.6292e-06\n",
      "Epoch 23/80\n",
      "1340/1340 [==============================] - 0s 22us/step - loss: 1.2750e-06\n",
      "Epoch 24/80\n",
      "1340/1340 [==============================] - 0s 23us/step - loss: 6.8276e-07\n",
      "Epoch 25/80\n",
      "1340/1340 [==============================] - 0s 23us/step - loss: 3.0905e-06\n",
      "Epoch 26/80\n",
      "1340/1340 [==============================] - 0s 22us/step - loss: 3.8953e-06\n",
      "Epoch 27/80\n",
      "1340/1340 [==============================] - 0s 23us/step - loss: 1.8938e-05\n",
      "Epoch 28/80\n",
      "1340/1340 [==============================] - 0s 24us/step - loss: 3.1079e-06\n",
      "Epoch 29/80\n",
      "1340/1340 [==============================] - 0s 23us/step - loss: 1.6558e-05\n",
      "Epoch 30/80\n",
      "1340/1340 [==============================] - 0s 22us/step - loss: 1.0415e-05\n",
      "Epoch 31/80\n",
      "1340/1340 [==============================] - 0s 22us/step - loss: 3.8065e-05\n",
      "Epoch 32/80\n",
      "1340/1340 [==============================] - 0s 23us/step - loss: 4.3626e-06\n",
      "Epoch 33/80\n",
      "1340/1340 [==============================] - 0s 23us/step - loss: 1.0175e-05\n",
      "Epoch 34/80\n",
      "1340/1340 [==============================] - 0s 23us/step - loss: 2.7067e-05\n",
      "Epoch 35/80\n",
      "1340/1340 [==============================] - 0s 23us/step - loss: 4.9713e-06\n",
      "Epoch 36/80\n",
      "1340/1340 [==============================] - 0s 23us/step - loss: 7.2889e-05\n",
      "Epoch 37/80\n",
      "1340/1340 [==============================] - 0s 23us/step - loss: 4.3164e-05\n",
      "Epoch 38/80\n",
      "1340/1340 [==============================] - 0s 22us/step - loss: 1.4352e-05\n",
      "Epoch 39/80\n",
      "1340/1340 [==============================] - 0s 22us/step - loss: 1.1161e-06\n",
      "Epoch 40/80\n",
      "1340/1340 [==============================] - 0s 24us/step - loss: 1.1489e-06\n",
      "Epoch 41/80\n",
      "1340/1340 [==============================] - 0s 24us/step - loss: 8.1408e-06\n",
      "Epoch 42/80\n",
      "1340/1340 [==============================] - 0s 24us/step - loss: 4.1052e-06\n",
      "Epoch 43/80\n",
      "1340/1340 [==============================] - 0s 23us/step - loss: 2.6742e-07\n",
      "Epoch 44/80\n",
      "1340/1340 [==============================] - 0s 23us/step - loss: 3.0490e-06\n",
      "Epoch 45/80\n",
      "1340/1340 [==============================] - 0s 24us/step - loss: 2.9820e-06\n",
      "Epoch 46/80\n",
      "1340/1340 [==============================] - 0s 24us/step - loss: 2.9301e-04\n",
      "Epoch 47/80\n",
      "1340/1340 [==============================] - 0s 24us/step - loss: 1.1476e-04\n",
      "Epoch 48/80\n",
      "1340/1340 [==============================] - 0s 23us/step - loss: 2.0050e-04\n",
      "Epoch 49/80\n",
      "1340/1340 [==============================] - 0s 23us/step - loss: 1.6198e-05\n",
      "Epoch 50/80\n",
      "1340/1340 [==============================] - 0s 23us/step - loss: 1.0677e-06\n",
      "Epoch 51/80\n",
      "1340/1340 [==============================] - 0s 23us/step - loss: 1.4469e-07\n",
      "Epoch 52/80\n",
      "1340/1340 [==============================] - 0s 23us/step - loss: 1.4097e-07\n",
      "Epoch 53/80\n",
      "1340/1340 [==============================] - 0s 23us/step - loss: 2.9553e-07\n",
      "Epoch 54/80\n",
      "1340/1340 [==============================] - 0s 22us/step - loss: 1.0433e-06\n",
      "Epoch 55/80\n",
      "1340/1340 [==============================] - 0s 22us/step - loss: 3.8011e-07\n",
      "Epoch 56/80\n",
      "1340/1340 [==============================] - 0s 23us/step - loss: 1.7850e-07\n",
      "Epoch 57/80\n",
      "1340/1340 [==============================] - 0s 24us/step - loss: 3.8705e-07\n",
      "Epoch 58/80\n",
      "1340/1340 [==============================] - 0s 24us/step - loss: 1.4028e-07\n",
      "Epoch 59/80\n",
      "1340/1340 [==============================] - 0s 23us/step - loss: 2.0932e-07\n",
      "Epoch 60/80\n",
      "1340/1340 [==============================] - 0s 23us/step - loss: 1.2713e-07\n",
      "Epoch 61/80\n",
      "1340/1340 [==============================] - 0s 23us/step - loss: 2.3580e-07\n",
      "Epoch 62/80\n",
      "1340/1340 [==============================] - 0s 23us/step - loss: 4.5368e-07\n",
      "Epoch 63/80\n",
      "1340/1340 [==============================] - 0s 23us/step - loss: 1.6582e-06\n",
      "Epoch 64/80\n",
      "1340/1340 [==============================] - 0s 25us/step - loss: 1.8202e-06\n",
      "Epoch 65/80\n",
      "1340/1340 [==============================] - 0s 23us/step - loss: 4.2270e-07\n",
      "Epoch 66/80\n",
      "1340/1340 [==============================] - 0s 23us/step - loss: 1.5597e-06\n",
      "Epoch 67/80\n",
      "1340/1340 [==============================] - 0s 23us/step - loss: 2.5848e-05\n",
      "Epoch 68/80\n",
      "1340/1340 [==============================] - 0s 23us/step - loss: 5.5031e-05\n",
      "Epoch 69/80\n",
      "1340/1340 [==============================] - 0s 24us/step - loss: 5.3662e-04\n",
      "Epoch 70/80\n",
      "1340/1340 [==============================] - 0s 23us/step - loss: 1.8772e-05\n",
      "Epoch 71/80\n",
      "1340/1340 [==============================] - 0s 23us/step - loss: 2.8541e-06\n",
      "Epoch 72/80\n",
      "1340/1340 [==============================] - 0s 23us/step - loss: 2.3450e-07\n",
      "Epoch 73/80\n",
      "1340/1340 [==============================] - 0s 23us/step - loss: 3.2420e-07\n",
      "Epoch 74/80\n",
      "1340/1340 [==============================] - 0s 22us/step - loss: 3.0795e-07\n",
      "Epoch 75/80\n",
      "1340/1340 [==============================] - 0s 23us/step - loss: 1.3378e-07\n",
      "Epoch 76/80\n",
      "1340/1340 [==============================] - 0s 22us/step - loss: 2.5007e-07\n",
      "Epoch 77/80\n",
      "1340/1340 [==============================] - 0s 21us/step - loss: 2.1125e-07\n",
      "Epoch 78/80\n",
      "1340/1340 [==============================] - 0s 22us/step - loss: 4.5032e-07\n",
      "Epoch 79/80\n",
      "1340/1340 [==============================] - 0s 22us/step - loss: 3.1590e-07\n",
      "Epoch 80/80\n",
      "1340/1340 [==============================] - 0s 22us/step - loss: 1.4350e-07\n"
     ]
    },
    {
     "data": {
      "text/plain": [
       "<keras.callbacks.History at 0x1359bfa90>"
      ]
     },
     "execution_count": 36,
     "metadata": {},
     "output_type": "execute_result"
    }
   ],
   "source": [
    "# fit model\n",
    "model.fit(X, y, epochs=80, verbose=1)"
   ]
  },
  {
   "cell_type": "code",
   "execution_count": 39,
   "metadata": {},
   "outputs": [
    {
     "name": "stdout",
     "output_type": "stream",
     "text": [
      "1/1 [==============================] - 0s 520us/step\n",
      "[[1.2662536]] versus 1.2664639949798584\n"
     ]
    }
   ],
   "source": [
    "# demonstrate prediction\n",
    "x_input = np.array([[1.266464,14.750000]])\n",
    "yhat = model.predict(x_input, verbose=1)\n",
    "print(yhat,'versus', df.iloc[-1,-1])"
   ]
  },
  {
   "cell_type": "code",
   "execution_count": 40,
   "metadata": {},
   "outputs": [
    {
     "data": {
      "text/html": [
       "<div>\n",
       "<style scoped>\n",
       "    .dataframe tbody tr th:only-of-type {\n",
       "        vertical-align: middle;\n",
       "    }\n",
       "\n",
       "    .dataframe tbody tr th {\n",
       "        vertical-align: top;\n",
       "    }\n",
       "\n",
       "    .dataframe thead th {\n",
       "        text-align: right;\n",
       "    }\n",
       "</style>\n",
       "<table border=\"1\" class=\"dataframe\">\n",
       "  <thead>\n",
       "    <tr style=\"text-align: right;\">\n",
       "      <th></th>\n",
       "      <th>Open</th>\n",
       "      <th>Vix</th>\n",
       "      <th>Close</th>\n",
       "    </tr>\n",
       "  </thead>\n",
       "  <tbody>\n",
       "    <tr>\n",
       "      <th>0</th>\n",
       "      <td>1.659889</td>\n",
       "      <td>15.800000</td>\n",
       "      <td>1.659889</td>\n",
       "    </tr>\n",
       "    <tr>\n",
       "      <th>1</th>\n",
       "      <td>1.658017</td>\n",
       "      <td>17.350000</td>\n",
       "      <td>1.657907</td>\n",
       "    </tr>\n",
       "    <tr>\n",
       "      <th>2</th>\n",
       "      <td>1.661074</td>\n",
       "      <td>17.290001</td>\n",
       "      <td>1.661047</td>\n",
       "    </tr>\n",
       "    <tr>\n",
       "      <th>3</th>\n",
       "      <td>1.674677</td>\n",
       "      <td>18.410000</td>\n",
       "      <td>1.675014</td>\n",
       "    </tr>\n",
       "    <tr>\n",
       "      <th>4</th>\n",
       "      <td>1.680023</td>\n",
       "      <td>21.440001</td>\n",
       "      <td>1.679995</td>\n",
       "    </tr>\n",
       "  </tbody>\n",
       "</table>\n",
       "</div>"
      ],
      "text/plain": [
       "       Open        Vix     Close\n",
       "0  1.659889  15.800000  1.659889\n",
       "1  1.658017  17.350000  1.657907\n",
       "2  1.661074  17.290001  1.661047\n",
       "3  1.674677  18.410000  1.675014\n",
       "4  1.680023  21.440001  1.679995"
      ]
     },
     "execution_count": 40,
     "metadata": {},
     "output_type": "execute_result"
    }
   ],
   "source": [
    "dataset.head()"
   ]
  },
  {
   "cell_type": "code",
   "execution_count": 42,
   "metadata": {},
   "outputs": [
    {
     "name": "stdout",
     "output_type": "stream",
     "text": [
      "Initializing Processing\n",
      "10% completed\n",
      "30% completed\n",
      "50% completed\n",
      "70% completed\n",
      "All processed\n"
     ]
    }
   ],
   "source": [
    "predictions = []\n",
    "print('Initializing \\b Processing')\n",
    "for i in range (1, len(dataset)):\n",
    "    x_input = np.array([[dataset.iloc[i,0],dataset.iloc[i-1,1]]])\n",
    "    yhat = model.predict(x_input, verbose=0)\n",
    "    yhat = yhat.reshape(1,)\n",
    "    predictions.append(yhat)\n",
    "    if round(i/(len(dataset)),3) == 0.10 and round(i/(len(dataset)),1) < 0.101:\n",
    "          print('10% completed')\n",
    "    elif round(i/(len(dataset)),3) == 0.30 and round(i/(len(dataset)),1) < 0.301:\n",
    "          print('30% completed')\n",
    "    elif round(i/(len(dataset)),3) == 0.50 and round(i/(len(dataset)),1) < 0.501:\n",
    "          print('50% completed')\n",
    "    elif round(i/(len(dataset)),3) == 0.70 and round(i/(len(dataset)),1) < 0.701:\n",
    "          print('70% completed')\n",
    "print('All processed')"
   ]
  },
  {
   "cell_type": "code",
   "execution_count": 43,
   "metadata": {},
   "outputs": [
    {
     "data": {
      "image/png": "[encoded data removed]",
      "text/plain": [
       "<Figure size 3200x1200 with 1 Axes>"
      ]
     },
     "metadata": {
      "needs_background": "light"
     },
     "output_type": "display_data"
    }
   ],
   "source": [
    "plt.figure(figsize=(16,6),dpi=200)\n",
    "plt.suptitle('Prediction of GBPUSD with DEEP LEARNING',fontsize=16)\n",
    "plt.plot(dataset.iloc[2:,2],color='purple',label='Actual')\n",
    "plt.plot(predictions,color='orange',label='Predicted')\n",
    "plt.legend()\n",
    "plt.show()"
   ]
  },
  {
   "cell_type": "code",
   "execution_count": 44,
   "metadata": {},
   "outputs": [
    {
     "data": {
      "text/plain": [
       "(1340, 1339, 1389, list, pandas.core.series.Series)"
      ]
     },
     "execution_count": 44,
     "metadata": {},
     "output_type": "execute_result"
    }
   ],
   "source": [
    "len(dataset),len(predictions),len(df),type(predictions),type(date)"
   ]
  },
  {
   "cell_type": "code",
   "execution_count": 45,
   "metadata": {},
   "outputs": [
    {
     "data": {
      "text/plain": [
       "1339"
      ]
     },
     "execution_count": 45,
     "metadata": {},
     "output_type": "execute_result"
    }
   ],
   "source": [
    "index = len(df) - len(predictions)\n",
    "len(date.iloc[index:])                      "
   ]
  },
  {
   "cell_type": "code",
   "execution_count": 46,
   "metadata": {},
   "outputs": [
    {
     "data": {
      "text/plain": [
       "pandas.core.series.Series"
      ]
     },
     "execution_count": 46,
     "metadata": {},
     "output_type": "execute_result"
    }
   ],
   "source": [
    "type(date)"
   ]
  },
  {
   "cell_type": "code",
   "execution_count": 134,
   "metadata": {},
   "outputs": [],
   "source": [
    "resultats = date\n",
    "resultats = resultats.iloc[index:]\n",
    "resultats.reset_index(inplace=True,drop=True)\n",
    "dataset.reset_index(inplace=True,drop=True)\n",
    "resultats = pd.concat((resultats,dataset.iloc[2:,:],pd.Series(predictions)),axis=1)\n",
    "resultats.iloc[:,4] = resultats.iloc[:,4].shift(1)\n",
    "resultats['% Error'] = ((resultats.iloc[:,3].values-resultats.iloc[:,4])/resultats.iloc[:,4])*100"
   ]
  },
  {
   "cell_type": "code",
   "execution_count": 139,
   "metadata": {},
   "outputs": [],
   "source": []
  },
  {
   "cell_type": "code",
   "execution_count": null,
   "metadata": {},
   "outputs": [],
   "source": []
  },
  {
   "cell_type": "code",
   "execution_count": null,
   "metadata": {},
   "outputs": [],
   "source": []
  }
 ],
 "metadata": {
  "kernelspec": {
   "display_name": "Python 3",
   "language": "python",
   "name": "python3"
  },
  "language_info": {
   "codemirror_mode": {
    "name": "ipython",
    "version": 3
   },
   "file_extension": ".py",
   "mimetype": "text/x-python",
   "name": "python",
   "nbconvert_exporter": "python",
   "pygments_lexer": "ipython3",
   "version": "3.6.8"
  }
 },
 "nbformat": 4,
 "nbformat_minor": 2
}
