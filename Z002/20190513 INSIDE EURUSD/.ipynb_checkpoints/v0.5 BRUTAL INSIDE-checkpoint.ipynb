{
 "cells": [
  {
   "cell_type": "code",
   "execution_count": 2,
   "metadata": {},
   "outputs": [],
   "source": [
    "___Author___='LumberJack Jyss'"
   ]
  },
  {
   "cell_type": "code",
   "execution_count": 3,
   "metadata": {},
   "outputs": [
    {
     "name": "stdout",
     "output_type": "stream",
     "text": [
      "Global Optimized LumberJack Equities Method\n",
      "        °OoO_INSIDE_BAR_STRATEGY_Oo0°\n",
      "           LumberJack Jyss 5779(c)\n"
     ]
    }
   ],
   "source": [
    "print('Global Optimized LumberJack Equities Method\\n        °OoO_INSIDE_BAR_STRATEGY_Oo0°\\n           LumberJack Jyss 5779(c)')"
   ]
  },
  {
   "cell_type": "code",
   "execution_count": 4,
   "metadata": {},
   "outputs": [
    {
     "name": "stdout",
     "output_type": "stream",
     "text": [
      "Importation des librairies...\n",
      "Librairies importées\n"
     ]
    }
   ],
   "source": [
    "print('Importation des librairies...')\n",
    "import talib\n",
    "import numpy as np\n",
    "import pandas as pd\n",
    "import matplotlib.pyplot as plt\n",
    "import seaborn as sns\n",
    "%matplotlib inline\n",
    "print('Librairies importées')"
   ]
  },
  {
   "cell_type": "code",
   "execution_count": 5,
   "metadata": {},
   "outputs": [],
   "source": [
    "# SCRAPING DES DONNES BRUTES\n",
    "currency = pd.read_csv('eurusd_15mn_1Y.csv')\n",
    "currency = currency.set_index('Date')\n",
    "currency = currency.iloc[:-2,1:-1]\n",
    "\n",
    "len_currency = len(currency)"
   ]
  },
  {
   "cell_type": "code",
   "execution_count": 6,
   "metadata": {},
   "outputs": [
    {
     "data": {
      "text/html": [
       "<div>\n",
       "<style scoped>\n",
       "    .dataframe tbody tr th:only-of-type {\n",
       "        vertical-align: middle;\n",
       "    }\n",
       "\n",
       "    .dataframe tbody tr th {\n",
       "        vertical-align: top;\n",
       "    }\n",
       "\n",
       "    .dataframe thead th {\n",
       "        text-align: right;\n",
       "    }\n",
       "</style>\n",
       "<table border=\"1\" class=\"dataframe\">\n",
       "  <thead>\n",
       "    <tr style=\"text-align: right;\">\n",
       "      <th></th>\n",
       "      <th>Open</th>\n",
       "      <th>High</th>\n",
       "      <th>Low</th>\n",
       "      <th>Close</th>\n",
       "    </tr>\n",
       "    <tr>\n",
       "      <th>Date</th>\n",
       "      <th></th>\n",
       "      <th></th>\n",
       "      <th></th>\n",
       "      <th></th>\n",
       "    </tr>\n",
       "  </thead>\n",
       "  <tbody>\n",
       "    <tr>\n",
       "      <th>20180506  23:15:00</th>\n",
       "      <td>1.195975</td>\n",
       "      <td>1.196370</td>\n",
       "      <td>1.195975</td>\n",
       "      <td>1.196155</td>\n",
       "    </tr>\n",
       "    <tr>\n",
       "      <th>20180506  23:30:00</th>\n",
       "      <td>1.196155</td>\n",
       "      <td>1.196205</td>\n",
       "      <td>1.196020</td>\n",
       "      <td>1.196060</td>\n",
       "    </tr>\n",
       "    <tr>\n",
       "      <th>20180506  23:45:00</th>\n",
       "      <td>1.196060</td>\n",
       "      <td>1.196325</td>\n",
       "      <td>1.195575</td>\n",
       "      <td>1.195805</td>\n",
       "    </tr>\n",
       "    <tr>\n",
       "      <th>20180507  00:00:00</th>\n",
       "      <td>1.195805</td>\n",
       "      <td>1.196170</td>\n",
       "      <td>1.195780</td>\n",
       "      <td>1.195980</td>\n",
       "    </tr>\n",
       "    <tr>\n",
       "      <th>20180507  00:15:00</th>\n",
       "      <td>1.195980</td>\n",
       "      <td>1.196360</td>\n",
       "      <td>1.195960</td>\n",
       "      <td>1.196255</td>\n",
       "    </tr>\n",
       "  </tbody>\n",
       "</table>\n",
       "</div>"
      ],
      "text/plain": [
       "                        Open      High       Low     Close\n",
       "Date                                                      \n",
       "20180506  23:15:00  1.195975  1.196370  1.195975  1.196155\n",
       "20180506  23:30:00  1.196155  1.196205  1.196020  1.196060\n",
       "20180506  23:45:00  1.196060  1.196325  1.195575  1.195805\n",
       "20180507  00:00:00  1.195805  1.196170  1.195780  1.195980\n",
       "20180507  00:15:00  1.195980  1.196360  1.195960  1.196255"
      ]
     },
     "execution_count": 6,
     "metadata": {},
     "output_type": "execute_result"
    }
   ],
   "source": [
    "currency.head()"
   ]
  },
  {
   "cell_type": "code",
   "execution_count": 7,
   "metadata": {},
   "outputs": [
    {
     "data": {
      "text/plain": [
       "(24481, 4)"
      ]
     },
     "execution_count": 7,
     "metadata": {},
     "output_type": "execute_result"
    }
   ],
   "source": [
    "currency.shape"
   ]
  },
  {
   "cell_type": "code",
   "execution_count": 8,
   "metadata": {},
   "outputs": [],
   "source": [
    "rsi_currency = talib.RSI(currency['Close'], timeperiod=2)\n",
    "ema5_currency = talib.EMA(currency['Close'],timeperiod=5)\n",
    "ema21_currency = talib.EMA(currency['Close'],timeperiod=21)"
   ]
  },
  {
   "cell_type": "code",
   "execution_count": 9,
   "metadata": {},
   "outputs": [
    {
     "data": {
      "text/plain": [
       "(24479, 24481)"
      ]
     },
     "execution_count": 9,
     "metadata": {},
     "output_type": "execute_result"
    }
   ],
   "source": [
    "inside = []\n",
    "for i in range (2,len_currency):\n",
    "    if currency.iloc[i,1] < currency.iloc[i-1,1] and\\\n",
    "    currency.iloc[i,2] > currency.iloc[i-1,2]:\n",
    "        inside.append(1)\n",
    "    else:\n",
    "        inside.append(0)\n",
    "len(inside),len(currency)"
   ]
  },
  {
   "cell_type": "markdown",
   "metadata": {},
   "source": [
    "inside = []\n",
    "for i in range (2,len_currency):\n",
    "    if currency.iloc[i,1] < currency.iloc[i-1,1] and\\\n",
    "    currency.iloc[i-1,1] < currency.iloc[i-2,1] and\\\n",
    "    currency.iloc[i,2] > currency.iloc[i-1,2] and\\\n",
    "    currency.iloc[i-1,2] > currency.iloc[i-2,2]:\n",
    "        inside.append(1)\n",
    "    else:\n",
    "        inside.append(0)\n",
    "len(inside),len(currency)"
   ]
  },
  {
   "cell_type": "code",
   "execution_count": 10,
   "metadata": {},
   "outputs": [],
   "source": [
    "currency['rsi_currency'] = rsi_currency\n",
    "currency['ema5_currency'] = ema5_currency\n",
    "currency['ema21_currency'] = ema21_currency"
   ]
  },
  {
   "cell_type": "code",
   "execution_count": 11,
   "metadata": {},
   "outputs": [
    {
     "data": {
      "text/plain": [
       "(24479, 24479)"
      ]
     },
     "execution_count": 11,
     "metadata": {},
     "output_type": "execute_result"
    }
   ],
   "source": [
    "currency = currency.iloc[2:,:]\n",
    "len(inside),len(currency)"
   ]
  },
  {
   "cell_type": "code",
   "execution_count": 12,
   "metadata": {},
   "outputs": [],
   "source": [
    "currency.loc[:,'Inside Bar'] = inside"
   ]
  },
  {
   "cell_type": "code",
   "execution_count": 13,
   "metadata": {},
   "outputs": [
    {
     "data": {
      "text/html": [
       "<div>\n",
       "<style scoped>\n",
       "    .dataframe tbody tr th:only-of-type {\n",
       "        vertical-align: middle;\n",
       "    }\n",
       "\n",
       "    .dataframe tbody tr th {\n",
       "        vertical-align: top;\n",
       "    }\n",
       "\n",
       "    .dataframe thead th {\n",
       "        text-align: right;\n",
       "    }\n",
       "</style>\n",
       "<table border=\"1\" class=\"dataframe\">\n",
       "  <thead>\n",
       "    <tr style=\"text-align: right;\">\n",
       "      <th></th>\n",
       "      <th>Open</th>\n",
       "      <th>High</th>\n",
       "      <th>Low</th>\n",
       "      <th>Close</th>\n",
       "      <th>rsi_currency</th>\n",
       "      <th>ema5_currency</th>\n",
       "      <th>ema21_currency</th>\n",
       "      <th>Inside Bar</th>\n",
       "    </tr>\n",
       "    <tr>\n",
       "      <th>Date</th>\n",
       "      <th></th>\n",
       "      <th></th>\n",
       "      <th></th>\n",
       "      <th></th>\n",
       "      <th></th>\n",
       "      <th></th>\n",
       "      <th></th>\n",
       "      <th></th>\n",
       "    </tr>\n",
       "  </thead>\n",
       "  <tbody>\n",
       "    <tr>\n",
       "      <th>20180506  23:45:00</th>\n",
       "      <td>1.196060</td>\n",
       "      <td>1.196325</td>\n",
       "      <td>1.195575</td>\n",
       "      <td>1.195805</td>\n",
       "      <td>0.000000</td>\n",
       "      <td>NaN</td>\n",
       "      <td>NaN</td>\n",
       "      <td>0</td>\n",
       "    </tr>\n",
       "    <tr>\n",
       "      <th>20180507  00:00:00</th>\n",
       "      <td>1.195805</td>\n",
       "      <td>1.196170</td>\n",
       "      <td>1.195780</td>\n",
       "      <td>1.195980</td>\n",
       "      <td>50.000000</td>\n",
       "      <td>NaN</td>\n",
       "      <td>NaN</td>\n",
       "      <td>1</td>\n",
       "    </tr>\n",
       "    <tr>\n",
       "      <th>20180507  00:15:00</th>\n",
       "      <td>1.195980</td>\n",
       "      <td>1.196360</td>\n",
       "      <td>1.195960</td>\n",
       "      <td>1.196255</td>\n",
       "      <td>80.555556</td>\n",
       "      <td>1.196051</td>\n",
       "      <td>NaN</td>\n",
       "      <td>0</td>\n",
       "    </tr>\n",
       "    <tr>\n",
       "      <th>20180507  00:30:00</th>\n",
       "      <td>1.196255</td>\n",
       "      <td>1.196255</td>\n",
       "      <td>1.195910</td>\n",
       "      <td>1.195915</td>\n",
       "      <td>32.079646</td>\n",
       "      <td>1.196006</td>\n",
       "      <td>NaN</td>\n",
       "      <td>0</td>\n",
       "    </tr>\n",
       "    <tr>\n",
       "      <th>20180507  00:45:00</th>\n",
       "      <td>1.195915</td>\n",
       "      <td>1.196075</td>\n",
       "      <td>1.195890</td>\n",
       "      <td>1.196035</td>\n",
       "      <td>52.329193</td>\n",
       "      <td>1.196015</td>\n",
       "      <td>NaN</td>\n",
       "      <td>0</td>\n",
       "    </tr>\n",
       "  </tbody>\n",
       "</table>\n",
       "</div>"
      ],
      "text/plain": [
       "                        Open      High       Low     Close  rsi_currency  \\\n",
       "Date                                                                       \n",
       "20180506  23:45:00  1.196060  1.196325  1.195575  1.195805      0.000000   \n",
       "20180507  00:00:00  1.195805  1.196170  1.195780  1.195980     50.000000   \n",
       "20180507  00:15:00  1.195980  1.196360  1.195960  1.196255     80.555556   \n",
       "20180507  00:30:00  1.196255  1.196255  1.195910  1.195915     32.079646   \n",
       "20180507  00:45:00  1.195915  1.196075  1.195890  1.196035     52.329193   \n",
       "\n",
       "                    ema5_currency  ema21_currency  Inside Bar  \n",
       "Date                                                           \n",
       "20180506  23:45:00            NaN             NaN           0  \n",
       "20180507  00:00:00            NaN             NaN           1  \n",
       "20180507  00:15:00       1.196051             NaN           0  \n",
       "20180507  00:30:00       1.196006             NaN           0  \n",
       "20180507  00:45:00       1.196015             NaN           0  "
      ]
     },
     "execution_count": 13,
     "metadata": {},
     "output_type": "execute_result"
    }
   ],
   "source": [
    "currency.head()"
   ]
  },
  {
   "cell_type": "code",
   "execution_count": 14,
   "metadata": {},
   "outputs": [
    {
     "data": {
      "text/plain": [
       "3515"
      ]
     },
     "execution_count": 14,
     "metadata": {},
     "output_type": "execute_result"
    }
   ],
   "source": [
    "currency['Inside Bar'].sum()"
   ]
  },
  {
   "cell_type": "code",
   "execution_count": 15,
   "metadata": {},
   "outputs": [
    {
     "data": {
      "text/plain": [
       "(24461, 8)"
      ]
     },
     "execution_count": 15,
     "metadata": {},
     "output_type": "execute_result"
    }
   ],
   "source": [
    "df = currency.dropna()\n",
    "df.shape"
   ]
  },
  {
   "cell_type": "code",
   "execution_count": 16,
   "metadata": {},
   "outputs": [
    {
     "data": {
      "text/html": [
       "<div>\n",
       "<style scoped>\n",
       "    .dataframe tbody tr th:only-of-type {\n",
       "        vertical-align: middle;\n",
       "    }\n",
       "\n",
       "    .dataframe tbody tr th {\n",
       "        vertical-align: top;\n",
       "    }\n",
       "\n",
       "    .dataframe thead th {\n",
       "        text-align: right;\n",
       "    }\n",
       "</style>\n",
       "<table border=\"1\" class=\"dataframe\">\n",
       "  <thead>\n",
       "    <tr style=\"text-align: right;\">\n",
       "      <th></th>\n",
       "      <th>Open</th>\n",
       "      <th>High</th>\n",
       "      <th>Low</th>\n",
       "      <th>Close</th>\n",
       "      <th>rsi_currency</th>\n",
       "      <th>ema5_currency</th>\n",
       "      <th>ema21_currency</th>\n",
       "      <th>Inside Bar</th>\n",
       "    </tr>\n",
       "    <tr>\n",
       "      <th>Date</th>\n",
       "      <th></th>\n",
       "      <th></th>\n",
       "      <th></th>\n",
       "      <th></th>\n",
       "      <th></th>\n",
       "      <th></th>\n",
       "      <th></th>\n",
       "      <th></th>\n",
       "    </tr>\n",
       "  </thead>\n",
       "  <tbody>\n",
       "    <tr>\n",
       "      <th>20180507  04:15:00</th>\n",
       "      <td>1.197185</td>\n",
       "      <td>1.197555</td>\n",
       "      <td>1.197165</td>\n",
       "      <td>1.197280</td>\n",
       "      <td>72.176242</td>\n",
       "      <td>1.197099</td>\n",
       "      <td>1.196400</td>\n",
       "      <td>0</td>\n",
       "    </tr>\n",
       "    <tr>\n",
       "      <th>20180507  04:30:00</th>\n",
       "      <td>1.197280</td>\n",
       "      <td>1.197495</td>\n",
       "      <td>1.197070</td>\n",
       "      <td>1.197410</td>\n",
       "      <td>82.022493</td>\n",
       "      <td>1.197203</td>\n",
       "      <td>1.196492</td>\n",
       "      <td>0</td>\n",
       "    </tr>\n",
       "    <tr>\n",
       "      <th>20180507  04:45:00</th>\n",
       "      <td>1.197410</td>\n",
       "      <td>1.197440</td>\n",
       "      <td>1.197030</td>\n",
       "      <td>1.197255</td>\n",
       "      <td>44.483980</td>\n",
       "      <td>1.197220</td>\n",
       "      <td>1.196562</td>\n",
       "      <td>0</td>\n",
       "    </tr>\n",
       "    <tr>\n",
       "      <th>20180507  05:00:00</th>\n",
       "      <td>1.197255</td>\n",
       "      <td>1.197810</td>\n",
       "      <td>1.197250</td>\n",
       "      <td>1.197605</td>\n",
       "      <td>81.898074</td>\n",
       "      <td>1.197348</td>\n",
       "      <td>1.196656</td>\n",
       "      <td>0</td>\n",
       "    </tr>\n",
       "    <tr>\n",
       "      <th>20180507  05:15:00</th>\n",
       "      <td>1.197605</td>\n",
       "      <td>1.197605</td>\n",
       "      <td>1.197370</td>\n",
       "      <td>1.197550</td>\n",
       "      <td>67.583396</td>\n",
       "      <td>1.197416</td>\n",
       "      <td>1.196738</td>\n",
       "      <td>1</td>\n",
       "    </tr>\n",
       "  </tbody>\n",
       "</table>\n",
       "</div>"
      ],
      "text/plain": [
       "                        Open      High       Low     Close  rsi_currency  \\\n",
       "Date                                                                       \n",
       "20180507  04:15:00  1.197185  1.197555  1.197165  1.197280     72.176242   \n",
       "20180507  04:30:00  1.197280  1.197495  1.197070  1.197410     82.022493   \n",
       "20180507  04:45:00  1.197410  1.197440  1.197030  1.197255     44.483980   \n",
       "20180507  05:00:00  1.197255  1.197810  1.197250  1.197605     81.898074   \n",
       "20180507  05:15:00  1.197605  1.197605  1.197370  1.197550     67.583396   \n",
       "\n",
       "                    ema5_currency  ema21_currency  Inside Bar  \n",
       "Date                                                           \n",
       "20180507  04:15:00       1.197099        1.196400           0  \n",
       "20180507  04:30:00       1.197203        1.196492           0  \n",
       "20180507  04:45:00       1.197220        1.196562           0  \n",
       "20180507  05:00:00       1.197348        1.196656           0  \n",
       "20180507  05:15:00       1.197416        1.196738           1  "
      ]
     },
     "execution_count": 16,
     "metadata": {},
     "output_type": "execute_result"
    }
   ],
   "source": [
    "df.head()"
   ]
  },
  {
   "cell_type": "code",
   "execution_count": 17,
   "metadata": {},
   "outputs": [
    {
     "data": {
      "text/html": [
       "<div>\n",
       "<style scoped>\n",
       "    .dataframe tbody tr th:only-of-type {\n",
       "        vertical-align: middle;\n",
       "    }\n",
       "\n",
       "    .dataframe tbody tr th {\n",
       "        vertical-align: top;\n",
       "    }\n",
       "\n",
       "    .dataframe thead th {\n",
       "        text-align: right;\n",
       "    }\n",
       "</style>\n",
       "<table border=\"1\" class=\"dataframe\">\n",
       "  <thead>\n",
       "    <tr style=\"text-align: right;\">\n",
       "      <th></th>\n",
       "      <th>Open</th>\n",
       "      <th>High</th>\n",
       "      <th>Low</th>\n",
       "      <th>Close</th>\n",
       "      <th>rsi_currency</th>\n",
       "      <th>ema5_currency</th>\n",
       "      <th>ema21_currency</th>\n",
       "      <th>Inside Bar</th>\n",
       "    </tr>\n",
       "    <tr>\n",
       "      <th>Date</th>\n",
       "      <th></th>\n",
       "      <th></th>\n",
       "      <th></th>\n",
       "      <th></th>\n",
       "      <th></th>\n",
       "      <th></th>\n",
       "      <th></th>\n",
       "      <th></th>\n",
       "    </tr>\n",
       "  </thead>\n",
       "  <tbody>\n",
       "    <tr>\n",
       "      <th>20190505  23:15:00</th>\n",
       "      <td>1.117570</td>\n",
       "      <td>1.118825</td>\n",
       "      <td>1.117400</td>\n",
       "      <td>1.117915</td>\n",
       "      <td>1.873345</td>\n",
       "      <td>1.119404</td>\n",
       "      <td>1.119337</td>\n",
       "      <td>0</td>\n",
       "    </tr>\n",
       "    <tr>\n",
       "      <th>20190505  23:30:00</th>\n",
       "      <td>1.117915</td>\n",
       "      <td>1.118170</td>\n",
       "      <td>1.117480</td>\n",
       "      <td>1.118040</td>\n",
       "      <td>11.193971</td>\n",
       "      <td>1.118949</td>\n",
       "      <td>1.119219</td>\n",
       "      <td>1</td>\n",
       "    </tr>\n",
       "    <tr>\n",
       "      <th>20190505  23:45:00</th>\n",
       "      <td>1.118040</td>\n",
       "      <td>1.118800</td>\n",
       "      <td>1.117385</td>\n",
       "      <td>1.117990</td>\n",
       "      <td>10.403430</td>\n",
       "      <td>1.118629</td>\n",
       "      <td>1.119107</td>\n",
       "      <td>0</td>\n",
       "    </tr>\n",
       "    <tr>\n",
       "      <th>20190506  00:00:00</th>\n",
       "      <td>1.117990</td>\n",
       "      <td>1.118870</td>\n",
       "      <td>1.117980</td>\n",
       "      <td>1.118830</td>\n",
       "      <td>73.436352</td>\n",
       "      <td>1.118696</td>\n",
       "      <td>1.119082</td>\n",
       "      <td>0</td>\n",
       "    </tr>\n",
       "    <tr>\n",
       "      <th>20190506  00:15:00</th>\n",
       "      <td>1.118830</td>\n",
       "      <td>1.119105</td>\n",
       "      <td>1.118550</td>\n",
       "      <td>1.118940</td>\n",
       "      <td>77.569319</td>\n",
       "      <td>1.118778</td>\n",
       "      <td>1.119069</td>\n",
       "      <td>0</td>\n",
       "    </tr>\n",
       "  </tbody>\n",
       "</table>\n",
       "</div>"
      ],
      "text/plain": [
       "                        Open      High       Low     Close  rsi_currency  \\\n",
       "Date                                                                       \n",
       "20190505  23:15:00  1.117570  1.118825  1.117400  1.117915      1.873345   \n",
       "20190505  23:30:00  1.117915  1.118170  1.117480  1.118040     11.193971   \n",
       "20190505  23:45:00  1.118040  1.118800  1.117385  1.117990     10.403430   \n",
       "20190506  00:00:00  1.117990  1.118870  1.117980  1.118830     73.436352   \n",
       "20190506  00:15:00  1.118830  1.119105  1.118550  1.118940     77.569319   \n",
       "\n",
       "                    ema5_currency  ema21_currency  Inside Bar  \n",
       "Date                                                           \n",
       "20190505  23:15:00       1.119404        1.119337           0  \n",
       "20190505  23:30:00       1.118949        1.119219           1  \n",
       "20190505  23:45:00       1.118629        1.119107           0  \n",
       "20190506  00:00:00       1.118696        1.119082           0  \n",
       "20190506  00:15:00       1.118778        1.119069           0  "
      ]
     },
     "execution_count": 17,
     "metadata": {},
     "output_type": "execute_result"
    }
   ],
   "source": [
    "df.tail()"
   ]
  },
  {
   "cell_type": "code",
   "execution_count": 18,
   "metadata": {},
   "outputs": [
    {
     "data": {
      "image/png": "[encoded data removed]",
      "text/plain": [
       "<Figure size 1152x432 with 2 Axes>"
      ]
     },
     "metadata": {
      "needs_background": "light"
     },
     "output_type": "display_data"
    }
   ],
   "source": [
    "plt.figure(figsize=(16,6))\n",
    "sns.heatmap(df.corr())\n",
    "plt.show()"
   ]
  },
  {
   "cell_type": "code",
   "execution_count": 19,
   "metadata": {},
   "outputs": [
    {
     "data": {
      "text/html": [
       "<div>\n",
       "<style scoped>\n",
       "    .dataframe tbody tr th:only-of-type {\n",
       "        vertical-align: middle;\n",
       "    }\n",
       "\n",
       "    .dataframe tbody tr th {\n",
       "        vertical-align: top;\n",
       "    }\n",
       "\n",
       "    .dataframe thead th {\n",
       "        text-align: right;\n",
       "    }\n",
       "</style>\n",
       "<table border=\"1\" class=\"dataframe\">\n",
       "  <thead>\n",
       "    <tr style=\"text-align: right;\">\n",
       "      <th></th>\n",
       "      <th>Open</th>\n",
       "      <th>High</th>\n",
       "      <th>Low</th>\n",
       "      <th>Close</th>\n",
       "      <th>rsi_currency</th>\n",
       "      <th>ema5_currency</th>\n",
       "      <th>ema21_currency</th>\n",
       "      <th>Inside Bar</th>\n",
       "    </tr>\n",
       "    <tr>\n",
       "      <th>Date</th>\n",
       "      <th></th>\n",
       "      <th></th>\n",
       "      <th></th>\n",
       "      <th></th>\n",
       "      <th></th>\n",
       "      <th></th>\n",
       "      <th></th>\n",
       "      <th></th>\n",
       "    </tr>\n",
       "  </thead>\n",
       "  <tbody>\n",
       "    <tr>\n",
       "      <th>20180507  04:15:00</th>\n",
       "      <td>1.197185</td>\n",
       "      <td>1.197555</td>\n",
       "      <td>1.197165</td>\n",
       "      <td>1.197280</td>\n",
       "      <td>72.176242</td>\n",
       "      <td>1.197099</td>\n",
       "      <td>1.196400</td>\n",
       "      <td>0</td>\n",
       "    </tr>\n",
       "    <tr>\n",
       "      <th>20180507  04:30:00</th>\n",
       "      <td>1.197280</td>\n",
       "      <td>1.197495</td>\n",
       "      <td>1.197070</td>\n",
       "      <td>1.197410</td>\n",
       "      <td>82.022493</td>\n",
       "      <td>1.197203</td>\n",
       "      <td>1.196492</td>\n",
       "      <td>0</td>\n",
       "    </tr>\n",
       "    <tr>\n",
       "      <th>20180507  04:45:00</th>\n",
       "      <td>1.197410</td>\n",
       "      <td>1.197440</td>\n",
       "      <td>1.197030</td>\n",
       "      <td>1.197255</td>\n",
       "      <td>44.483980</td>\n",
       "      <td>1.197220</td>\n",
       "      <td>1.196562</td>\n",
       "      <td>0</td>\n",
       "    </tr>\n",
       "    <tr>\n",
       "      <th>20180507  05:00:00</th>\n",
       "      <td>1.197255</td>\n",
       "      <td>1.197810</td>\n",
       "      <td>1.197250</td>\n",
       "      <td>1.197605</td>\n",
       "      <td>81.898074</td>\n",
       "      <td>1.197348</td>\n",
       "      <td>1.196656</td>\n",
       "      <td>0</td>\n",
       "    </tr>\n",
       "    <tr>\n",
       "      <th>20180507  05:15:00</th>\n",
       "      <td>1.197605</td>\n",
       "      <td>1.197605</td>\n",
       "      <td>1.197370</td>\n",
       "      <td>1.197550</td>\n",
       "      <td>67.583396</td>\n",
       "      <td>1.197416</td>\n",
       "      <td>1.196738</td>\n",
       "      <td>1</td>\n",
       "    </tr>\n",
       "  </tbody>\n",
       "</table>\n",
       "</div>"
      ],
      "text/plain": [
       "                        Open      High       Low     Close  rsi_currency  \\\n",
       "Date                                                                       \n",
       "20180507  04:15:00  1.197185  1.197555  1.197165  1.197280     72.176242   \n",
       "20180507  04:30:00  1.197280  1.197495  1.197070  1.197410     82.022493   \n",
       "20180507  04:45:00  1.197410  1.197440  1.197030  1.197255     44.483980   \n",
       "20180507  05:00:00  1.197255  1.197810  1.197250  1.197605     81.898074   \n",
       "20180507  05:15:00  1.197605  1.197605  1.197370  1.197550     67.583396   \n",
       "\n",
       "                    ema5_currency  ema21_currency  Inside Bar  \n",
       "Date                                                           \n",
       "20180507  04:15:00       1.197099        1.196400           0  \n",
       "20180507  04:30:00       1.197203        1.196492           0  \n",
       "20180507  04:45:00       1.197220        1.196562           0  \n",
       "20180507  05:00:00       1.197348        1.196656           0  \n",
       "20180507  05:15:00       1.197416        1.196738           1  "
      ]
     },
     "execution_count": 19,
     "metadata": {},
     "output_type": "execute_result"
    }
   ],
   "source": [
    "df.head()"
   ]
  },
  {
   "cell_type": "code",
   "execution_count": 20,
   "metadata": {},
   "outputs": [
    {
     "name": "stdout",
     "output_type": "stream",
     "text": [
      "<class 'pandas.core.frame.DataFrame'>\n",
      "Index: 24461 entries, 20180507  04:15:00 to 20190506  00:15:00\n",
      "Data columns (total 8 columns):\n",
      "Open              24461 non-null float64\n",
      "High              24461 non-null float64\n",
      "Low               24461 non-null float64\n",
      "Close             24461 non-null float64\n",
      "rsi_currency      24461 non-null float64\n",
      "ema5_currency     24461 non-null float64\n",
      "ema21_currency    24461 non-null float64\n",
      "Inside Bar        24461 non-null int64\n",
      "dtypes: float64(7), int64(1)\n",
      "memory usage: 1.7+ MB\n"
     ]
    }
   ],
   "source": [
    "df.info()"
   ]
  },
  {
   "cell_type": "code",
   "execution_count": 21,
   "metadata": {},
   "outputs": [],
   "source": [
    "df.to_csv('currency.csv')"
   ]
  },
  {
   "cell_type": "code",
   "execution_count": null,
   "metadata": {},
   "outputs": [],
   "source": []
  },
  {
   "cell_type": "code",
   "execution_count": 22,
   "metadata": {},
   "outputs": [],
   "source": [
    "from mpl_finance import candlestick_ohlc\n",
    "import matplotlib.dates as mdates"
   ]
  },
  {
   "cell_type": "code",
   "execution_count": 23,
   "metadata": {},
   "outputs": [],
   "source": [
    "date_index = df.index\n",
    "date = pd.to_datetime(date_index)"
   ]
  },
  {
   "cell_type": "code",
   "execution_count": 31,
   "metadata": {},
   "outputs": [],
   "source": [
    "df.loc[:,'Date'] = date"
   ]
  },
  {
   "cell_type": "code",
   "execution_count": 25,
   "metadata": {},
   "outputs": [],
   "source": [
    "df.loc[:,\"Date\"] = df[\"Date\"].apply(mdates.date2num)"
   ]
  },
  {
   "cell_type": "code",
   "execution_count": 26,
   "metadata": {},
   "outputs": [],
   "source": [
    "ohlc= df[['Date', 'Open', 'High', 'Low','Close']].copy()"
   ]
  },
  {
   "cell_type": "code",
   "execution_count": 30,
   "metadata": {},
   "outputs": [
    {
     "data": {
      "image/png": "[encoded data removed]",
      "text/plain": [
       "<Figure size 1152x432 with 1 Axes>"
      ]
     },
     "metadata": {
      "needs_background": "light"
     },
     "output_type": "display_data"
    }
   ],
   "source": [
    "f1, ax = plt.subplots(figsize = (16,6))\n",
    "candlestick_ohlc(ax, ohlc.values, width=.5, colorup='green', colordown='red')\n",
    "ax.xaxis.set_major_formatter(mdates.DateFormatter('%Y-%m'))"
   ]
  },
  {
   "cell_type": "code",
   "execution_count": null,
   "metadata": {},
   "outputs": [],
   "source": []
  },
  {
   "cell_type": "code",
   "execution_count": null,
   "metadata": {},
   "outputs": [],
   "source": []
  },
  {
   "cell_type": "code",
   "execution_count": null,
   "metadata": {},
   "outputs": [],
   "source": []
  },
  {
   "cell_type": "code",
   "execution_count": null,
   "metadata": {},
   "outputs": [],
   "source": []
  },
  {
   "cell_type": "code",
   "execution_count": null,
   "metadata": {},
   "outputs": [],
   "source": []
  },
  {
   "cell_type": "code",
   "execution_count": null,
   "metadata": {},
   "outputs": [],
   "source": []
  },
  {
   "cell_type": "code",
   "execution_count": null,
   "metadata": {},
   "outputs": [
    {
     "data": {
      "text/plain": [
       "[<matplotlib.lines.Line2D at 0x1a4123ba58>]"
      ]
     },
     "execution_count": 29,
     "metadata": {},
     "output_type": "execute_result"
    }
   ],
   "source": [
    "plt.figure(figsize=(16,6))\n",
    "plt.plot(df['High'],color='green')\n",
    "plt.plot(df['Close'],color = 'b')\n",
    "plt.plot(df['Low'],color='orange')"
   ]
  },
  {
   "cell_type": "code",
   "execution_count": null,
   "metadata": {},
   "outputs": [],
   "source": []
  }
 ],
 "metadata": {
  "kernelspec": {
   "display_name": "Python 3",
   "language": "python",
   "name": "python3"
  },
  "language_info": {
   "codemirror_mode": {
    "name": "ipython",
    "version": 3
   },
   "file_extension": ".py",
   "mimetype": "text/x-python",
   "name": "python",
   "nbconvert_exporter": "python",
   "pygments_lexer": "ipython3",
   "version": "3.6.8"
  }
 },
 "nbformat": 4,
 "nbformat_minor": 2
}
