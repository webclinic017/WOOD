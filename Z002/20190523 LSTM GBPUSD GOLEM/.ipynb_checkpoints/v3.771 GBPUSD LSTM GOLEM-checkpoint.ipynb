{
 "cells": [
  {
   "cell_type": "code",
   "execution_count": 1,
   "metadata": {},
   "outputs": [],
   "source": [
    "___Author___='LumberJack Jyss'"
   ]
  },
  {
   "cell_type": "code",
   "execution_count": 2,
   "metadata": {},
   "outputs": [
    {
     "name": "stdout",
     "output_type": "stream",
     "text": [
      "Global Optimized LumberJack Equities Method\n",
      "°OoO_FOREX_Oo0°\n",
      "LumberJack Jyss 5779(c)\n"
     ]
    }
   ],
   "source": [
    "print('Global Optimized LumberJack Equities Method\\n°OoO_FOREX_Oo0°\\nLumberJack Jyss 5779(c)')"
   ]
  },
  {
   "cell_type": "markdown",
   "metadata": {},
   "source": [
    "currencies = ['EURJPY=X', 'GBPJPY=X', 'USDJPY=X','GBPUSD=X','BTCUSD=X','ETHUSD=X','GBPEUR=X',\\\n",
    "             'GBPSGD=X','GBPSEK=X','GBPSAR=X','CADUSD=X','CADJPY=X','AUDUSD=X','NZDUSD=X',\\\n",
    "             'NZDGBP=X','NZDEUR=X','AUDGBP=X','AUDEUR=X',]\n",
    "daily_currency_prices = YahooFinancials(currencies).get_historical_price_data(start,end,'daily')\n",
    "temp_df = pd.DataFrame.from_dict(daily_currency_prices.values()).T"
   ]
  },
  {
   "cell_type": "code",
   "execution_count": 3,
   "metadata": {},
   "outputs": [
    {
     "name": "stdout",
     "output_type": "stream",
     "text": [
      "Importation des librairies...\n"
     ]
    },
    {
     "name": "stderr",
     "output_type": "stream",
     "text": [
      "Using TensorFlow backend.\n"
     ]
    },
    {
     "name": "stdout",
     "output_type": "stream",
     "text": [
      "Librairies importées\n"
     ]
    }
   ],
   "source": [
    "print('Importation des librairies...')\n",
    "import numpy as np\n",
    "import pandas as pd\n",
    "import pandas_datareader as web\n",
    "import matplotlib.pyplot as plt\n",
    "import os\n",
    "from sklearn.preprocessing import MinMaxScaler\n",
    "from keras.models import Sequential\n",
    "from keras.layers import Dense\n",
    "from keras.layers import LSTM\n",
    "from keras.layers import Dropout\n",
    "from yahoofinancials import YahooFinancials\n",
    "from sklearn.metrics import mean_squared_error\n",
    "from math import sqrt\n",
    "print('Librairies importées')"
   ]
  },
  {
   "cell_type": "code",
   "execution_count": 4,
   "metadata": {},
   "outputs": [],
   "source": [
    "start = '2014-01-28'\n",
    "end = '2019-05-24'"
   ]
  },
  {
   "cell_type": "code",
   "execution_count": 5,
   "metadata": {},
   "outputs": [],
   "source": [
    "currencies = ['GBPUSD=X']\n",
    "daily_currency_prices = YahooFinancials(currencies).get_historical_price_data(start,end,'daily')"
   ]
  },
  {
   "cell_type": "code",
   "execution_count": 6,
   "metadata": {},
   "outputs": [],
   "source": [
    "temp_df = pd.DataFrame.from_dict(daily_currency_prices.values()).T"
   ]
  },
  {
   "cell_type": "code",
   "execution_count": 7,
   "metadata": {},
   "outputs": [],
   "source": [
    "gbpusd = pd.DataFrame.from_dict(temp_df.iloc[4,0])"
   ]
  },
  {
   "cell_type": "code",
   "execution_count": 8,
   "metadata": {},
   "outputs": [],
   "source": [
    "df = pd.DataFrame()\n",
    "df['Date'] = gbpusd['formatted_date']\n",
    "df['High'] = gbpusd['high']\n",
    "df['Low'] = gbpusd['low']\n",
    "df['Open'] = gbpusd['open']\n",
    "df['Close'] = gbpusd['close']\n",
    "#df['Volume'] = gbpusd['volume']\n",
    "df['Adj Close'] = gbpusd['adjclose']"
   ]
  },
  {
   "cell_type": "code",
   "execution_count": 9,
   "metadata": {},
   "outputs": [
    {
     "name": "stdout",
     "output_type": "stream",
     "text": [
      "Période d'étude :  1389\n",
      "Sur un découpage 80% - 20% de la période : \n",
      "Bloc 1 :  1111  jours \n",
      "Bloc 2 : 278  jours\n"
     ]
    }
   ],
   "source": [
    "delta = round(df.shape[0])\n",
    "bloc1 = round(delta*0.8)\n",
    "bloc2 = delta - bloc1\n",
    "print(\"Période d'étude : \",delta)\n",
    "print('Sur un découpage 80% - 20% de la période : ')\n",
    "print('Bloc 1 : ',bloc1,' jours \\nBloc 2 :',bloc2,' jours')"
   ]
  },
  {
   "cell_type": "code",
   "execution_count": 10,
   "metadata": {},
   "outputs": [
    {
     "data": {
      "text/html": [
       "<div>\n",
       "<style scoped>\n",
       "    .dataframe tbody tr th:only-of-type {\n",
       "        vertical-align: middle;\n",
       "    }\n",
       "\n",
       "    .dataframe tbody tr th {\n",
       "        vertical-align: top;\n",
       "    }\n",
       "\n",
       "    .dataframe thead th {\n",
       "        text-align: right;\n",
       "    }\n",
       "</style>\n",
       "<table border=\"1\" class=\"dataframe\">\n",
       "  <thead>\n",
       "    <tr style=\"text-align: right;\">\n",
       "      <th></th>\n",
       "      <th>Date</th>\n",
       "      <th>High</th>\n",
       "      <th>Low</th>\n",
       "      <th>Open</th>\n",
       "      <th>Close</th>\n",
       "      <th>Adj Close</th>\n",
       "    </tr>\n",
       "  </thead>\n",
       "  <tbody>\n",
       "    <tr>\n",
       "      <th>0</th>\n",
       "      <td>2014-01-28</td>\n",
       "      <td>1.662124</td>\n",
       "      <td>1.654287</td>\n",
       "      <td>1.657523</td>\n",
       "      <td>1.657495</td>\n",
       "      <td>1.657495</td>\n",
       "    </tr>\n",
       "    <tr>\n",
       "      <th>1</th>\n",
       "      <td>2014-01-29</td>\n",
       "      <td>1.660550</td>\n",
       "      <td>1.652892</td>\n",
       "      <td>1.656891</td>\n",
       "      <td>1.657001</td>\n",
       "      <td>1.657001</td>\n",
       "    </tr>\n",
       "    <tr>\n",
       "      <th>2</th>\n",
       "      <td>2014-01-30</td>\n",
       "      <td>1.656589</td>\n",
       "      <td>1.644899</td>\n",
       "      <td>1.655821</td>\n",
       "      <td>1.655903</td>\n",
       "      <td>1.655903</td>\n",
       "    </tr>\n",
       "    <tr>\n",
       "      <th>3</th>\n",
       "      <td>2014-01-31</td>\n",
       "      <td>1.649947</td>\n",
       "      <td>1.643169</td>\n",
       "      <td>1.649430</td>\n",
       "      <td>1.649838</td>\n",
       "      <td>1.649838</td>\n",
       "    </tr>\n",
       "    <tr>\n",
       "      <th>4</th>\n",
       "      <td>2014-02-03</td>\n",
       "      <td>1.643791</td>\n",
       "      <td>1.632706</td>\n",
       "      <td>1.643791</td>\n",
       "      <td>1.643791</td>\n",
       "      <td>1.643791</td>\n",
       "    </tr>\n",
       "  </tbody>\n",
       "</table>\n",
       "</div>"
      ],
      "text/plain": [
       "         Date      High       Low      Open     Close  Adj Close\n",
       "0  2014-01-28  1.662124  1.654287  1.657523  1.657495   1.657495\n",
       "1  2014-01-29  1.660550  1.652892  1.656891  1.657001   1.657001\n",
       "2  2014-01-30  1.656589  1.644899  1.655821  1.655903   1.655903\n",
       "3  2014-01-31  1.649947  1.643169  1.649430  1.649838   1.649838\n",
       "4  2014-02-03  1.643791  1.632706  1.643791  1.643791   1.643791"
      ]
     },
     "execution_count": 10,
     "metadata": {},
     "output_type": "execute_result"
    }
   ],
   "source": [
    "df.head()"
   ]
  },
  {
   "cell_type": "code",
   "execution_count": 11,
   "metadata": {},
   "outputs": [
    {
     "data": {
      "text/html": [
       "<div>\n",
       "<style scoped>\n",
       "    .dataframe tbody tr th:only-of-type {\n",
       "        vertical-align: middle;\n",
       "    }\n",
       "\n",
       "    .dataframe tbody tr th {\n",
       "        vertical-align: top;\n",
       "    }\n",
       "\n",
       "    .dataframe thead th {\n",
       "        text-align: right;\n",
       "    }\n",
       "</style>\n",
       "<table border=\"1\" class=\"dataframe\">\n",
       "  <thead>\n",
       "    <tr style=\"text-align: right;\">\n",
       "      <th></th>\n",
       "      <th>Date</th>\n",
       "      <th>High</th>\n",
       "      <th>Low</th>\n",
       "      <th>Open</th>\n",
       "      <th>Close</th>\n",
       "      <th>Adj Close</th>\n",
       "    </tr>\n",
       "  </thead>\n",
       "  <tbody>\n",
       "    <tr>\n",
       "      <th>1384</th>\n",
       "      <td>2019-05-19</td>\n",
       "      <td>1.275754</td>\n",
       "      <td>1.271682</td>\n",
       "      <td>1.273026</td>\n",
       "      <td>1.273156</td>\n",
       "      <td>1.273156</td>\n",
       "    </tr>\n",
       "    <tr>\n",
       "      <th>1385</th>\n",
       "      <td>2019-05-20</td>\n",
       "      <td>1.279427</td>\n",
       "      <td>1.268617</td>\n",
       "      <td>1.272783</td>\n",
       "      <td>1.272912</td>\n",
       "      <td>1.272912</td>\n",
       "    </tr>\n",
       "    <tr>\n",
       "      <th>1386</th>\n",
       "      <td>2019-05-21</td>\n",
       "      <td>NaN</td>\n",
       "      <td>NaN</td>\n",
       "      <td>NaN</td>\n",
       "      <td>NaN</td>\n",
       "      <td>NaN</td>\n",
       "    </tr>\n",
       "    <tr>\n",
       "      <th>1387</th>\n",
       "      <td>2019-05-22</td>\n",
       "      <td>1.268343</td>\n",
       "      <td>1.260589</td>\n",
       "      <td>1.266336</td>\n",
       "      <td>1.266416</td>\n",
       "      <td>1.266416</td>\n",
       "    </tr>\n",
       "    <tr>\n",
       "      <th>1388</th>\n",
       "      <td>2019-05-24</td>\n",
       "      <td>1.270567</td>\n",
       "      <td>1.265566</td>\n",
       "      <td>1.266255</td>\n",
       "      <td>1.268665</td>\n",
       "      <td>1.268665</td>\n",
       "    </tr>\n",
       "  </tbody>\n",
       "</table>\n",
       "</div>"
      ],
      "text/plain": [
       "            Date      High       Low      Open     Close  Adj Close\n",
       "1384  2019-05-19  1.275754  1.271682  1.273026  1.273156   1.273156\n",
       "1385  2019-05-20  1.279427  1.268617  1.272783  1.272912   1.272912\n",
       "1386  2019-05-21       NaN       NaN       NaN       NaN        NaN\n",
       "1387  2019-05-22  1.268343  1.260589  1.266336  1.266416   1.266416\n",
       "1388  2019-05-24  1.270567  1.265566  1.266255  1.268665   1.268665"
      ]
     },
     "execution_count": 11,
     "metadata": {},
     "output_type": "execute_result"
    }
   ],
   "source": [
    "df.tail()"
   ]
  },
  {
   "cell_type": "code",
   "execution_count": 12,
   "metadata": {},
   "outputs": [
    {
     "data": {
      "text/plain": [
       "(1389, 6)"
      ]
     },
     "execution_count": 12,
     "metadata": {},
     "output_type": "execute_result"
    }
   ],
   "source": [
    "df.shape"
   ]
  },
  {
   "cell_type": "code",
   "execution_count": 13,
   "metadata": {},
   "outputs": [],
   "source": [
    "dataset = df.copy()\n",
    "dataset = dataset.drop(dataset[['Close','Date']],axis=1)\n",
    "dataset.rename(columns={'Adj Close':'Close'}, inplace=True)\n",
    "dataset.fillna(dataset.mean(), inplace=True)"
   ]
  },
  {
   "cell_type": "code",
   "execution_count": 14,
   "metadata": {},
   "outputs": [
    {
     "data": {
      "text/plain": [
       "(High     0\n",
       " Low      0\n",
       " Open     0\n",
       " Close    0\n",
       " dtype: int64, pandas.core.frame.DataFrame)"
      ]
     },
     "execution_count": 14,
     "metadata": {},
     "output_type": "execute_result"
    }
   ],
   "source": [
    "dataset.isnull().sum(),type(dataset)"
   ]
  },
  {
   "cell_type": "code",
   "execution_count": 15,
   "metadata": {},
   "outputs": [
    {
     "data": {
      "text/html": [
       "<div>\n",
       "<style scoped>\n",
       "    .dataframe tbody tr th:only-of-type {\n",
       "        vertical-align: middle;\n",
       "    }\n",
       "\n",
       "    .dataframe tbody tr th {\n",
       "        vertical-align: top;\n",
       "    }\n",
       "\n",
       "    .dataframe thead th {\n",
       "        text-align: right;\n",
       "    }\n",
       "</style>\n",
       "<table border=\"1\" class=\"dataframe\">\n",
       "  <thead>\n",
       "    <tr style=\"text-align: right;\">\n",
       "      <th></th>\n",
       "      <th>High</th>\n",
       "      <th>Low</th>\n",
       "      <th>Open</th>\n",
       "      <th>Close</th>\n",
       "    </tr>\n",
       "  </thead>\n",
       "  <tbody>\n",
       "    <tr>\n",
       "      <th>count</th>\n",
       "      <td>1389.000000</td>\n",
       "      <td>1389.000000</td>\n",
       "      <td>1389.000000</td>\n",
       "      <td>1389.000000</td>\n",
       "    </tr>\n",
       "    <tr>\n",
       "      <th>mean</th>\n",
       "      <td>1.423744</td>\n",
       "      <td>1.413996</td>\n",
       "      <td>1.419030</td>\n",
       "      <td>1.419057</td>\n",
       "    </tr>\n",
       "    <tr>\n",
       "      <th>std</th>\n",
       "      <td>0.142088</td>\n",
       "      <td>0.142614</td>\n",
       "      <td>0.142383</td>\n",
       "      <td>0.142377</td>\n",
       "    </tr>\n",
       "    <tr>\n",
       "      <th>min</th>\n",
       "      <td>1.208751</td>\n",
       "      <td>1.199515</td>\n",
       "      <td>1.203746</td>\n",
       "      <td>1.203935</td>\n",
       "    </tr>\n",
       "    <tr>\n",
       "      <th>25%</th>\n",
       "      <td>1.304019</td>\n",
       "      <td>1.295505</td>\n",
       "      <td>1.300559</td>\n",
       "      <td>1.300559</td>\n",
       "    </tr>\n",
       "    <tr>\n",
       "      <th>50%</th>\n",
       "      <td>1.391595</td>\n",
       "      <td>1.380662</td>\n",
       "      <td>1.386501</td>\n",
       "      <td>1.386194</td>\n",
       "    </tr>\n",
       "    <tr>\n",
       "      <th>75%</th>\n",
       "      <td>1.543496</td>\n",
       "      <td>1.532896</td>\n",
       "      <td>1.536807</td>\n",
       "      <td>1.536665</td>\n",
       "    </tr>\n",
       "    <tr>\n",
       "      <th>max</th>\n",
       "      <td>1.718715</td>\n",
       "      <td>1.714237</td>\n",
       "      <td>1.716237</td>\n",
       "      <td>1.716090</td>\n",
       "    </tr>\n",
       "  </tbody>\n",
       "</table>\n",
       "</div>"
      ],
      "text/plain": [
       "              High          Low         Open        Close\n",
       "count  1389.000000  1389.000000  1389.000000  1389.000000\n",
       "mean      1.423744     1.413996     1.419030     1.419057\n",
       "std       0.142088     0.142614     0.142383     0.142377\n",
       "min       1.208751     1.199515     1.203746     1.203935\n",
       "25%       1.304019     1.295505     1.300559     1.300559\n",
       "50%       1.391595     1.380662     1.386501     1.386194\n",
       "75%       1.543496     1.532896     1.536807     1.536665\n",
       "max       1.718715     1.714237     1.716237     1.716090"
      ]
     },
     "execution_count": 15,
     "metadata": {},
     "output_type": "execute_result"
    }
   ],
   "source": [
    "dataset.describe()"
   ]
  },
  {
   "cell_type": "code",
   "execution_count": 16,
   "metadata": {},
   "outputs": [],
   "source": [
    "# date-time parsing function for loading the dataset\n",
    "def parser(x):\n",
    "\treturn datetime.strptime('190'+x, '%Y-%m')"
   ]
  },
  {
   "cell_type": "code",
   "execution_count": 17,
   "metadata": {},
   "outputs": [],
   "source": [
    "# convert time series into supervised learning problem\n",
    "def series_to_supervised(data, n_in=1, n_out=1, dropnan=True):\n",
    "\tn_vars = 1 if type(data) is list else data.shape[1]\n",
    "\tdf = pd.DataFrame(data)\n",
    "\tcols, names = list(), list()\n",
    "\t# input sequence (t-n, ... t-1)\n",
    "\tfor i in range(n_in, 0, -1):\n",
    "\t\tcols.append(df.shift(i))\n",
    "\t\tnames += [('var%d(t-%d)' % (j+1, i)) for j in range(n_vars)]\n",
    "\t# forecast sequence (t, t+1, ... t+n)\n",
    "\tfor i in range(0, n_out):\n",
    "\t\tcols.append(df.shift(-i))\n",
    "\t\tif i == 0:\n",
    "\t\t\tnames += [('var%d(t)' % (j+1)) for j in range(n_vars)]\n",
    "\t\telse:\n",
    "\t\t\tnames += [('var%d(t+%d)' % (j+1, i)) for j in range(n_vars)]\n",
    "\t# put it all together\n",
    "\tagg = pd.concat(cols, axis=1)\n",
    "\tagg.columns = names\n",
    "\t# drop rows with NaN values\n",
    "\tif dropnan:\n",
    "\t\tagg.dropna(inplace=True)\n",
    "\treturn agg"
   ]
  },
  {
   "cell_type": "code",
   "execution_count": 18,
   "metadata": {},
   "outputs": [],
   "source": [
    "# create a differenced series\n",
    "def difference(dataset, interval=1):\n",
    "\tdiff = list()\n",
    "\tfor i in range(interval, len(dataset)):\n",
    "\t\tvalue = dataset[i] - dataset[i - interval]\n",
    "\t\tdiff.append(value)\n",
    "\treturn pd.Series(diff)"
   ]
  },
  {
   "cell_type": "code",
   "execution_count": 19,
   "metadata": {},
   "outputs": [],
   "source": [
    "# transform series into train and test sets for supervised learning\n",
    "def prepare_data(seriesX, seriesy, n_test, n_lag, n_seq):\n",
    "\t\n",
    "    # extract raw values\n",
    "    raw_valuesX,raw_valuesy = seriesX.values,seriesy.values\n",
    "\n",
    "    # transform data to be stationary\n",
    "    diff_seriesX = difference(raw_valuesX, 1)\n",
    "    diff_valuesX = diff_seriesX.values\n",
    "    diff_valuesX = diff_valuesX.reshape(len(diff_valuesX), 1)\n",
    "    \n",
    "    diff_seriesy = difference(raw_valuesy, 1)\n",
    "    diff_valuesy = diff_seriesy.values\n",
    "    diff_valuesy = diff_valuesy.reshape(len(diff_valuesy), 1)\n",
    "    \n",
    "    # rescale values to -1, 1\n",
    "    scaler = MinMaxScaler(feature_range=(-1, 1))\n",
    "    scaled_valuesX = scaler.fit_transform(diff_valuesX)\n",
    "    scaled_valuesX = scaled_valuesX.reshape(len(scaled_valuesX), 1)\n",
    "    scaled_valuesy = scaler.fit_transform(diff_valuesy)\n",
    "    scaled_valuesy = scaled_valuesy.reshape(len(scaled_valuesy), 1)\n",
    "\n",
    "    #transform into supervised learning problem X, y\n",
    "    supervisedX = series_to_supervised(scaled_valuesX, n_lag, n_seq)\n",
    "    supervised_valuesX = supervisedX.values\n",
    "\n",
    "    # split into train and test sets\n",
    "    train, test = supervised_valuesX[0:-n_test], supervised_valuesX[-n_test:]\n",
    "    return scaler, train, test"
   ]
  },
  {
   "cell_type": "code",
   "execution_count": 39,
   "metadata": {},
   "outputs": [],
   "source": [
    "# fit an LSTM network to training data\n",
    "def fit_lstm(train, n_lag, n_seq, n_batch, nb_epoch, n_neurons):\n",
    "    # reshape training into [samples, timesteps, features]\n",
    "    X, y = train[:, 0:n_lag], train[:, n_lag:]\n",
    "    X = X.reshape(X.shape[0], 1, X.shape[1])\n",
    "    # design network\n",
    "    model = Sequential()\n",
    "    model.add(LSTM(n_neurons, batch_input_shape=(n_batch, X.shape[1], X.shape[2]), stateful=True,return_sequences = True))\n",
    "    model.add(LSTM(units = 20, return_sequences = True))\n",
    "    model.add(Dropout(0.3))\n",
    "    model.add(LSTM(units = 10))\n",
    "    model.add(Dropout(0.4))  \n",
    "    model.add(Dense(y.shape[1]))\n",
    "    model.compile(loss='mean_squared_error', optimizer='adam')\n",
    "# fit network\n",
    "    for i in range(nb_epoch):\n",
    "        print('Super Epoch Nb',i,'/',nb_epoch)\n",
    "        model.fit(X, y, epochs=1, batch_size=n_batch, verbose=1, shuffle=False)\n",
    "        model.reset_states()\n",
    "    return model"
   ]
  },
  {
   "cell_type": "code",
   "execution_count": 31,
   "metadata": {},
   "outputs": [],
   "source": [
    "# make one forecast with an LSTM,\n",
    "def forecast_lstm(model, X, n_batch):\n",
    "\t# reshape input pattern to [samples, timesteps, features]\n",
    "\tX = X.reshape(1, 1, len(X))\n",
    "\t# make forecast\n",
    "\tforecast = model.predict(X, batch_size=n_batch)\n",
    "\t# convert to array\n",
    "\treturn [x for x in forecast[0, :]]"
   ]
  },
  {
   "cell_type": "code",
   "execution_count": 32,
   "metadata": {},
   "outputs": [],
   "source": [
    "# evaluate the persistence model\n",
    "def make_forecasts(model, n_batch, train, test, n_lag, n_seq):\n",
    "\tforecasts = list()\n",
    "\tfor i in range(len(test)):\n",
    "\t\tX, y = test[i, 0:n_lag], test[i, n_lag:]\n",
    "\t\t# make forecast\n",
    "\t\tforecast = forecast_lstm(model, X, n_batch)\n",
    "\t\t# store the forecast\n",
    "\t\tforecasts.append(forecast)\n",
    "\treturn forecasts"
   ]
  },
  {
   "cell_type": "code",
   "execution_count": 33,
   "metadata": {},
   "outputs": [],
   "source": [
    "# invert differenced forecast\n",
    "def inverse_difference(last_ob, forecast):\n",
    "\t# invert first forecast\n",
    "\tinverted = list()\n",
    "\tinverted.append(forecast[0] + last_ob)\n",
    "\t# propagate difference forecast using inverted first value\n",
    "\tfor i in range(1, len(forecast)):\n",
    "\t\tinverted.append(forecast[i] + inverted[i-1])\n",
    "\treturn inverted"
   ]
  },
  {
   "cell_type": "code",
   "execution_count": 34,
   "metadata": {},
   "outputs": [],
   "source": [
    "# inverse data transform on forecasts\n",
    "def inverse_transform(series, forecasts, scaler, n_test):\n",
    "\tinverted = list()\n",
    "\tfor i in range(len(forecasts)):\n",
    "\t\t# create array from forecast\n",
    "\t\tforecast = np.array(forecasts[i])\n",
    "\t\tforecast = forecast.reshape(1, len(forecast))\n",
    "\t\t# invert scaling\n",
    "\t\tinv_scale = scaler.inverse_transform(forecast)\n",
    "\t\tinv_scale = inv_scale[0, :]\n",
    "\t\t# invert differencing\n",
    "\t\tindex = len(series) - n_test + i - 1\n",
    "\t\tlast_ob = series.values[index]\n",
    "\t\tinv_diff = inverse_difference(last_ob, inv_scale)\n",
    "\t\t# store\n",
    "\t\tinverted.append(inv_diff)\n",
    "\treturn inverted"
   ]
  },
  {
   "cell_type": "code",
   "execution_count": 35,
   "metadata": {},
   "outputs": [],
   "source": [
    "# evaluate the RMSE for each forecast time step\n",
    "def evaluate_forecasts(test, forecasts, n_lag, n_seq):\n",
    "\tfor i in range(n_seq):\n",
    "\t\tactual = [row[i] for row in test]\n",
    "\t\tpredicted = [forecast[i] for forecast in forecasts]\n",
    "\t\trmse = sqrt(mean_squared_error(actual, predicted))\n",
    "\t\tprint('t+%d RMSE: %f' % ((i+1), rmse))"
   ]
  },
  {
   "cell_type": "code",
   "execution_count": 36,
   "metadata": {},
   "outputs": [],
   "source": [
    "# plot the forecasts in the context of the original dataset\n",
    "def plot_forecasts(seriesX, forecasts, n_test):\n",
    "    # plot the entire dataset in blue\n",
    "    plt.figure(figsize=(16,6),dpi=200)\n",
    "    plt.xlim(1370,1385 )\n",
    "    plt.ylim(1.25,1.35)\n",
    "    plt.suptitle('Prediction of GBPUSD with DEEP LEARNING',fontsize=16)\n",
    "    plt.plot(seriesX.values,color='purple',label='Actual',)\n",
    "    # plot the forecasts in red\n",
    "    for i in range(len(forecasts)):\n",
    "        off_s = len(seriesX) - n_test + i - 1\n",
    "        off_e = off_s + len(forecasts[i]) + 1\n",
    "        xaxis = [x for x in range(off_s, off_e)]\n",
    "        yaxis = [seriesX.values[off_s]] + forecasts[i]\n",
    "        plt.plot(xaxis, yaxis, color='orange',label='Trend Predictions')\n",
    "    # show the plot\n",
    "    plt.legend()\n",
    "    plt.show()"
   ]
  },
  {
   "cell_type": "code",
   "execution_count": 40,
   "metadata": {},
   "outputs": [],
   "source": [
    "# load dataset\n",
    "seriesX = dataset.iloc[:,2]\n",
    "seriesy = dataset.iloc[:,3]\n",
    "\n",
    "# configure\n",
    "n_lag = 1\n",
    "n_seq = 3\n",
    "n_test = 10\n",
    "n_epochs = 10\n",
    "n_batch = 1\n",
    "n_neurons = 1\n",
    "\n",
    "# prepare data\n",
    "scaler, train, test = prepare_data(seriesX, seriesy, n_test, n_lag, n_seq)"
   ]
  },
  {
   "cell_type": "code",
   "execution_count": 41,
   "metadata": {},
   "outputs": [
    {
     "name": "stdout",
     "output_type": "stream",
     "text": [
      "Super Epoch Nb 0 / 10\n",
      "Epoch 1/1\n",
      "1375/1375 [==============================] - 7s 5ms/step - loss: 0.0047\n",
      "Super Epoch Nb 1 / 10\n",
      "Epoch 1/1\n",
      "1375/1375 [==============================] - 5s 4ms/step - loss: 0.0047\n",
      "Super Epoch Nb 2 / 10\n",
      "Epoch 1/1\n",
      "1375/1375 [==============================] - 5s 4ms/step - loss: 0.0047\n",
      "Super Epoch Nb 3 / 10\n",
      "Epoch 1/1\n",
      "1375/1375 [==============================] - 5s 4ms/step - loss: 0.0047\n",
      "Super Epoch Nb 4 / 10\n",
      "Epoch 1/1\n",
      "1375/1375 [==============================] - 5s 4ms/step - loss: 0.0047\n",
      "Super Epoch Nb 5 / 10\n",
      "Epoch 1/1\n",
      "1375/1375 [==============================] - 6s 4ms/step - loss: 0.0047\n",
      "Super Epoch Nb 6 / 10\n",
      "Epoch 1/1\n",
      "1375/1375 [==============================] - 6s 4ms/step - loss: 0.0047\n",
      "Super Epoch Nb 7 / 10\n",
      "Epoch 1/1\n",
      "1375/1375 [==============================] - 6s 4ms/step - loss: 0.0047\n",
      "Super Epoch Nb 8 / 10\n",
      "Epoch 1/1\n",
      "1375/1375 [==============================] - 7s 5ms/step - loss: 0.0047\n",
      "Super Epoch Nb 9 / 10\n",
      "Epoch 1/1\n",
      "1375/1375 [==============================] - 6s 4ms/step - loss: 0.0047\n"
     ]
    }
   ],
   "source": [
    "# fit model\n",
    "model = fit_lstm(train, n_lag, n_seq, n_batch, n_epochs, n_neurons)"
   ]
  },
  {
   "cell_type": "code",
   "execution_count": 42,
   "metadata": {},
   "outputs": [],
   "source": [
    "# make forecasts\n",
    "forecasts = make_forecasts(model, n_batch, train, test, n_lag, n_seq)"
   ]
  },
  {
   "cell_type": "code",
   "execution_count": 43,
   "metadata": {},
   "outputs": [],
   "source": [
    "# inverse transform forecasts and test\n",
    "forecasts = inverse_transform(seriesX, forecasts, scaler, n_test+2)\n",
    "actual = [row[n_lag:] for row in test]\n",
    "actual = inverse_transform(seriesX, actual, scaler, n_test+2)"
   ]
  },
  {
   "cell_type": "code",
   "execution_count": 44,
   "metadata": {},
   "outputs": [
    {
     "name": "stdout",
     "output_type": "stream",
     "text": [
      "t+1 RMSE: 0.046491\n",
      "t+2 RMSE: 0.046880\n",
      "t+3 RMSE: 0.045433\n"
     ]
    }
   ],
   "source": [
    "# evaluate forecasts\n",
    "evaluate_forecasts(actual, forecasts, n_lag, n_seq)"
   ]
  },
  {
   "cell_type": "code",
   "execution_count": 45,
   "metadata": {},
   "outputs": [
    {
     "data": {
      "image/png": "[encoded data removed]",
      "text/plain": [
       "<Figure size 3200x1200 with 1 Axes>"
      ]
     },
     "metadata": {
      "needs_background": "light"
     },
     "output_type": "display_data"
    }
   ],
   "source": [
    "# plot forecasts\n",
    "plot_forecasts(seriesX, forecasts, n_test+2)"
   ]
  },
  {
   "cell_type": "code",
   "execution_count": null,
   "metadata": {},
   "outputs": [],
   "source": []
  },
  {
   "cell_type": "code",
   "execution_count": null,
   "metadata": {},
   "outputs": [],
   "source": []
  },
  {
   "cell_type": "code",
   "execution_count": 118,
   "metadata": {},
   "outputs": [],
   "source": []
  }
 ],
 "metadata": {
  "kernelspec": {
   "display_name": "Python 3",
   "language": "python",
   "name": "python3"
  },
  "language_info": {
   "codemirror_mode": {
    "name": "ipython",
    "version": 3
   },
   "file_extension": ".py",
   "mimetype": "text/x-python",
   "name": "python",
   "nbconvert_exporter": "python",
   "pygments_lexer": "ipython3",
   "version": "3.6.8"
  }
 },
 "nbformat": 4,
 "nbformat_minor": 2
}
