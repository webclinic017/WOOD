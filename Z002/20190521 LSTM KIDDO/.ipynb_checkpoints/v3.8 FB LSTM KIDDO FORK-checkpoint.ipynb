{
 "cells": [
  {
   "cell_type": "code",
   "execution_count": 1,
   "metadata": {},
   "outputs": [],
   "source": [
    "___Author___='LumberJack Jyss'"
   ]
  },
  {
   "cell_type": "code",
   "execution_count": 2,
   "metadata": {},
   "outputs": [
    {
     "name": "stdout",
     "output_type": "stream",
     "text": [
      "Global Optimized LumberJack Equities Method\n",
      "°OoO_FOREX_Oo0°\n",
      "LumberJack Jyss 5779(c)\n"
     ]
    }
   ],
   "source": [
    "print('Global Optimized LumberJack Equities Method\\n°OoO_FOREX_Oo0°\\nLumberJack Jyss 5779(c)')"
   ]
  },
  {
   "cell_type": "code",
   "execution_count": 3,
   "metadata": {},
   "outputs": [
    {
     "name": "stdout",
     "output_type": "stream",
     "text": [
      "Importation des librairies...\n"
     ]
    },
    {
     "name": "stderr",
     "output_type": "stream",
     "text": [
      "Using TensorFlow backend.\n"
     ]
    },
    {
     "name": "stdout",
     "output_type": "stream",
     "text": [
      "Librairies importées\n"
     ]
    }
   ],
   "source": [
    "print('Importation des librairies...')\n",
    "import numpy as np\n",
    "import pandas as pd\n",
    "import pandas_datareader as web\n",
    "import matplotlib.pyplot as plt\n",
    "import os\n",
    "from sklearn.preprocessing import MinMaxScaler\n",
    "from keras.models import Sequential\n",
    "from keras.layers import Dense\n",
    "from keras.layers import LSTM\n",
    "from keras.layers import Dropout\n",
    "print('Librairies importées')"
   ]
  },
  {
   "cell_type": "code",
   "execution_count": 4,
   "metadata": {},
   "outputs": [
    {
     "name": "stdout",
     "output_type": "stream",
     "text": [
      "Période d'étude :  1338\n",
      "Sur un découpage 80% - 20% de la période : \n",
      "Bloc 1 :  1070  jours \n",
      "Bloc 2 : 268  jours\n",
      "Note : On change de règles de calculs, car tous les jours ne sont pas ouvrés\n"
     ]
    },
    {
     "data": {
      "text/html": [
       "<div>\n",
       "<style scoped>\n",
       "    .dataframe tbody tr th:only-of-type {\n",
       "        vertical-align: middle;\n",
       "    }\n",
       "\n",
       "    .dataframe tbody tr th {\n",
       "        vertical-align: top;\n",
       "    }\n",
       "\n",
       "    .dataframe thead th {\n",
       "        text-align: right;\n",
       "    }\n",
       "</style>\n",
       "<table border=\"1\" class=\"dataframe\">\n",
       "  <thead>\n",
       "    <tr style=\"text-align: right;\">\n",
       "      <th></th>\n",
       "      <th>Date</th>\n",
       "      <th>High</th>\n",
       "      <th>Low</th>\n",
       "      <th>Open</th>\n",
       "      <th>Close</th>\n",
       "      <th>Volume</th>\n",
       "      <th>Adj Close</th>\n",
       "    </tr>\n",
       "  </thead>\n",
       "  <tbody>\n",
       "    <tr>\n",
       "      <th>0</th>\n",
       "      <td>2014-01-28</td>\n",
       "      <td>55.279999</td>\n",
       "      <td>54.000000</td>\n",
       "      <td>54.020000</td>\n",
       "      <td>55.139999</td>\n",
       "      <td>48191200</td>\n",
       "      <td>55.139999</td>\n",
       "    </tr>\n",
       "    <tr>\n",
       "      <th>1</th>\n",
       "      <td>2014-01-29</td>\n",
       "      <td>54.950001</td>\n",
       "      <td>53.189999</td>\n",
       "      <td>54.610001</td>\n",
       "      <td>53.529999</td>\n",
       "      <td>92995600</td>\n",
       "      <td>53.529999</td>\n",
       "    </tr>\n",
       "    <tr>\n",
       "      <th>2</th>\n",
       "      <td>2014-01-30</td>\n",
       "      <td>62.500000</td>\n",
       "      <td>60.459999</td>\n",
       "      <td>62.119999</td>\n",
       "      <td>61.080002</td>\n",
       "      <td>150178900</td>\n",
       "      <td>61.080002</td>\n",
       "    </tr>\n",
       "    <tr>\n",
       "      <th>3</th>\n",
       "      <td>2014-01-31</td>\n",
       "      <td>63.369999</td>\n",
       "      <td>60.169998</td>\n",
       "      <td>60.470001</td>\n",
       "      <td>62.570000</td>\n",
       "      <td>87794600</td>\n",
       "      <td>62.570000</td>\n",
       "    </tr>\n",
       "    <tr>\n",
       "      <th>4</th>\n",
       "      <td>2014-02-03</td>\n",
       "      <td>63.770000</td>\n",
       "      <td>60.700001</td>\n",
       "      <td>63.029999</td>\n",
       "      <td>61.480000</td>\n",
       "      <td>74866600</td>\n",
       "      <td>61.480000</td>\n",
       "    </tr>\n",
       "  </tbody>\n",
       "</table>\n",
       "</div>"
      ],
      "text/plain": [
       "        Date       High        Low       Open      Close     Volume  Adj Close\n",
       "0 2014-01-28  55.279999  54.000000  54.020000  55.139999   48191200  55.139999\n",
       "1 2014-01-29  54.950001  53.189999  54.610001  53.529999   92995600  53.529999\n",
       "2 2014-01-30  62.500000  60.459999  62.119999  61.080002  150178900  61.080002\n",
       "3 2014-01-31  63.369999  60.169998  60.470001  62.570000   87794600  62.570000\n",
       "4 2014-02-03  63.770000  60.700001  63.029999  61.480000   74866600  61.480000"
      ]
     },
     "execution_count": 4,
     "metadata": {},
     "output_type": "execute_result"
    }
   ],
   "source": [
    "\n",
    "start = pd.to_datetime('2014-01-28')\n",
    "end = pd.to_datetime('2019-05-21')\n",
    "\n",
    "df = web.DataReader('FB','yahoo',start,end)\n",
    "\n",
    "delta = round(df.shape[0])\n",
    "bloc1 = round(delta*0.8)\n",
    "bloc2 = delta - bloc1\n",
    "print(\"Période d'étude : \",delta)\n",
    "print('Sur un découpage 80% - 20% de la période : ')\n",
    "print('Bloc 1 : ',bloc1,' jours \\nBloc 2 :',bloc2,' jours')\n",
    "print('Note : On change de règles de calculs, car tous les jours ne sont pas ouvrés')\n",
    "\n",
    "\n",
    "#dataframe = dataframe.iloc[:,1:]\n",
    "df.reset_index(inplace=True)\n",
    "df.head()"
   ]
  },
  {
   "cell_type": "code",
   "execution_count": 5,
   "metadata": {},
   "outputs": [
    {
     "data": {
      "text/plain": [
       "(1338, 7)"
      ]
     },
     "execution_count": 5,
     "metadata": {},
     "output_type": "execute_result"
    }
   ],
   "source": [
    "df.shape"
   ]
  },
  {
   "cell_type": "code",
   "execution_count": 6,
   "metadata": {},
   "outputs": [
    {
     "data": {
      "text/html": [
       "<div>\n",
       "<style scoped>\n",
       "    .dataframe tbody tr th:only-of-type {\n",
       "        vertical-align: middle;\n",
       "    }\n",
       "\n",
       "    .dataframe tbody tr th {\n",
       "        vertical-align: top;\n",
       "    }\n",
       "\n",
       "    .dataframe thead th {\n",
       "        text-align: right;\n",
       "    }\n",
       "</style>\n",
       "<table border=\"1\" class=\"dataframe\">\n",
       "  <thead>\n",
       "    <tr style=\"text-align: right;\">\n",
       "      <th></th>\n",
       "      <th>Date</th>\n",
       "      <th>High</th>\n",
       "      <th>Low</th>\n",
       "      <th>Open</th>\n",
       "      <th>Close</th>\n",
       "      <th>Volume</th>\n",
       "    </tr>\n",
       "  </thead>\n",
       "  <tbody>\n",
       "    <tr>\n",
       "      <th>0</th>\n",
       "      <td>2014-01-28</td>\n",
       "      <td>55.279999</td>\n",
       "      <td>54.000000</td>\n",
       "      <td>54.020000</td>\n",
       "      <td>55.139999</td>\n",
       "      <td>48191200</td>\n",
       "    </tr>\n",
       "    <tr>\n",
       "      <th>1</th>\n",
       "      <td>2014-01-29</td>\n",
       "      <td>54.950001</td>\n",
       "      <td>53.189999</td>\n",
       "      <td>54.610001</td>\n",
       "      <td>53.529999</td>\n",
       "      <td>92995600</td>\n",
       "    </tr>\n",
       "    <tr>\n",
       "      <th>2</th>\n",
       "      <td>2014-01-30</td>\n",
       "      <td>62.500000</td>\n",
       "      <td>60.459999</td>\n",
       "      <td>62.119999</td>\n",
       "      <td>61.080002</td>\n",
       "      <td>150178900</td>\n",
       "    </tr>\n",
       "    <tr>\n",
       "      <th>3</th>\n",
       "      <td>2014-01-31</td>\n",
       "      <td>63.369999</td>\n",
       "      <td>60.169998</td>\n",
       "      <td>60.470001</td>\n",
       "      <td>62.570000</td>\n",
       "      <td>87794600</td>\n",
       "    </tr>\n",
       "    <tr>\n",
       "      <th>4</th>\n",
       "      <td>2014-02-03</td>\n",
       "      <td>63.770000</td>\n",
       "      <td>60.700001</td>\n",
       "      <td>63.029999</td>\n",
       "      <td>61.480000</td>\n",
       "      <td>74866600</td>\n",
       "    </tr>\n",
       "  </tbody>\n",
       "</table>\n",
       "</div>"
      ],
      "text/plain": [
       "        Date       High        Low       Open      Close     Volume\n",
       "0 2014-01-28  55.279999  54.000000  54.020000  55.139999   48191200\n",
       "1 2014-01-29  54.950001  53.189999  54.610001  53.529999   92995600\n",
       "2 2014-01-30  62.500000  60.459999  62.119999  61.080002  150178900\n",
       "3 2014-01-31  63.369999  60.169998  60.470001  62.570000   87794600\n",
       "4 2014-02-03  63.770000  60.700001  63.029999  61.480000   74866600"
      ]
     },
     "execution_count": 6,
     "metadata": {},
     "output_type": "execute_result"
    }
   ],
   "source": [
    "data_train = df.iloc[:bloc1,:6]\n",
    "data_train.head()"
   ]
  },
  {
   "cell_type": "code",
   "execution_count": 7,
   "metadata": {},
   "outputs": [
    {
     "data": {
      "text/plain": [
       "(1338, 7)"
      ]
     },
     "execution_count": 7,
     "metadata": {},
     "output_type": "execute_result"
    }
   ],
   "source": [
    "df.shape"
   ]
  },
  {
   "cell_type": "code",
   "execution_count": 8,
   "metadata": {},
   "outputs": [
    {
     "data": {
      "text/plain": [
       "array([[ 54.02000046],\n",
       "       [ 54.61000061],\n",
       "       [ 62.11999893],\n",
       "       ...,\n",
       "       [165.42999268],\n",
       "       [160.13999939],\n",
       "       [173.22000122]])"
      ]
     },
     "execution_count": 8,
     "metadata": {},
     "output_type": "execute_result"
    }
   ],
   "source": [
    "trainset = data_train.iloc[:, 3:4].values\n",
    "trainset"
   ]
  },
  {
   "cell_type": "code",
   "execution_count": 9,
   "metadata": {},
   "outputs": [],
   "source": [
    "sc = MinMaxScaler(feature_range = (0,1))\n",
    "trainData_scaled = sc.fit_transform(trainset)"
   ]
  },
  {
   "cell_type": "code",
   "execution_count": 10,
   "metadata": {},
   "outputs": [],
   "source": [
    "x_train = []\n",
    "y_train = []"
   ]
  },
  {
   "cell_type": "code",
   "execution_count": 11,
   "metadata": {},
   "outputs": [],
   "source": [
    "for i in range(60, len(data_train)): #60 is the memory size, nb of rows of training data\n",
    "    x_train.append(trainData_scaled[i-60:i, 0]) # adds data for the last 60 rows\n",
    "    y_train.append(trainData_scaled[i,0]) # adds the prices that the model is trying to predict\n",
    "\n",
    "# Convert to tensors\n",
    "x_train, y_train = np.array(x_train), np.array(y_train)"
   ]
  },
  {
   "cell_type": "code",
   "execution_count": 12,
   "metadata": {},
   "outputs": [
    {
     "data": {
      "text/plain": [
       "(1010, 60)"
      ]
     },
     "execution_count": 12,
     "metadata": {},
     "output_type": "execute_result"
    }
   ],
   "source": [
    "x_train.shape"
   ]
  },
  {
   "cell_type": "code",
   "execution_count": 13,
   "metadata": {},
   "outputs": [],
   "source": [
    "x_train = np.reshape(x_train, (x_train.shape[0], x_train.shape[1], 1)) # adds a 3rd dimension to the tensor\n",
    "#                     array , new size -->(x, y, z)"
   ]
  },
  {
   "cell_type": "code",
   "execution_count": 14,
   "metadata": {},
   "outputs": [
    {
     "name": "stderr",
     "output_type": "stream",
     "text": [
      "WARNING: Logging before flag parsing goes to stderr.\n",
      "W0523 09:06:17.343536 4618749376 deprecation_wrapper.py:119] From /Users/YTsBaCh/Applications/anaconda3/envs/LumberJack/lib/python3.6/site-packages/keras/backend/tensorflow_backend.py:74: The name tf.get_default_graph is deprecated. Please use tf.compat.v1.get_default_graph instead.\n",
      "\n",
      "W0523 09:06:17.357573 4618749376 deprecation_wrapper.py:119] From /Users/YTsBaCh/Applications/anaconda3/envs/LumberJack/lib/python3.6/site-packages/keras/backend/tensorflow_backend.py:517: The name tf.placeholder is deprecated. Please use tf.compat.v1.placeholder instead.\n",
      "\n",
      "W0523 09:06:17.360098 4618749376 deprecation_wrapper.py:119] From /Users/YTsBaCh/Applications/anaconda3/envs/LumberJack/lib/python3.6/site-packages/keras/backend/tensorflow_backend.py:4138: The name tf.random_uniform is deprecated. Please use tf.random.uniform instead.\n",
      "\n",
      "W0523 09:06:17.624208 4618749376 deprecation_wrapper.py:119] From /Users/YTsBaCh/Applications/anaconda3/envs/LumberJack/lib/python3.6/site-packages/keras/backend/tensorflow_backend.py:133: The name tf.placeholder_with_default is deprecated. Please use tf.compat.v1.placeholder_with_default instead.\n",
      "\n",
      "W0523 09:06:17.631301 4618749376 deprecation.py:506] From /Users/YTsBaCh/Applications/anaconda3/envs/LumberJack/lib/python3.6/site-packages/keras/backend/tensorflow_backend.py:3445: calling dropout (from tensorflow.python.ops.nn_ops) with keep_prob is deprecated and will be removed in a future version.\n",
      "Instructions for updating:\n",
      "Please use `rate` instead of `keep_prob`. Rate should be set to `rate = 1 - keep_prob`.\n",
      "W0523 09:06:18.015459 4618749376 deprecation_wrapper.py:119] From /Users/YTsBaCh/Applications/anaconda3/envs/LumberJack/lib/python3.6/site-packages/keras/optimizers.py:790: The name tf.train.Optimizer is deprecated. Please use tf.compat.v1.train.Optimizer instead.\n",
      "\n"
     ]
    }
   ],
   "source": [
    "model = Sequential()\n",
    "\n",
    "model.add(LSTM(units = 50, return_sequences = True, input_shape = (x_train.shape[1], 1)))\n",
    "model.add(Dropout(0.2))\n",
    "\n",
    "model.add(LSTM(units = 50, return_sequences = True))\n",
    "model.add(Dropout(0.2))\n",
    "\n",
    "model.add(LSTM(units = 50))\n",
    "model.add(Dropout(0.2))\n",
    "\n",
    "model.add(Dense(units = 1))\n",
    "\n",
    "model.compile(optimizer = 'adam', loss='mean_squared_error')"
   ]
  },
  {
   "cell_type": "code",
   "execution_count": 15,
   "metadata": {},
   "outputs": [
    {
     "name": "stderr",
     "output_type": "stream",
     "text": [
      "W0523 09:06:18.270661 4618749376 deprecation.py:323] From /Users/YTsBaCh/Applications/anaconda3/envs/LumberJack/lib/python3.6/site-packages/tensorflow/python/ops/math_grad.py:1250: add_dispatch_support.<locals>.wrapper (from tensorflow.python.ops.array_ops) is deprecated and will be removed in a future version.\n",
      "Instructions for updating:\n",
      "Use tf.where in 2.0, which has the same broadcast rule as np.where\n",
      "W0523 09:06:19.967449 4618749376 deprecation_wrapper.py:119] From /Users/YTsBaCh/Applications/anaconda3/envs/LumberJack/lib/python3.6/site-packages/keras/backend/tensorflow_backend.py:986: The name tf.assign_add is deprecated. Please use tf.compat.v1.assign_add instead.\n",
      "\n"
     ]
    },
    {
     "name": "stdout",
     "output_type": "stream",
     "text": [
      "Epoch 1/100\n",
      "1010/1010 [==============================] - 6s 6ms/step - loss: 0.0446\n",
      "Epoch 2/100\n",
      "1010/1010 [==============================] - 4s 4ms/step - loss: 0.0047\n",
      "Epoch 3/100\n",
      "1010/1010 [==============================] - 4s 4ms/step - loss: 0.0048\n",
      "Epoch 4/100\n",
      "1010/1010 [==============================] - 4s 4ms/step - loss: 0.0038\n",
      "Epoch 5/100\n",
      "1010/1010 [==============================] - 4s 4ms/step - loss: 0.0036\n",
      "Epoch 6/100\n",
      "1010/1010 [==============================] - 4s 4ms/step - loss: 0.0039\n",
      "Epoch 7/100\n",
      "1010/1010 [==============================] - 4s 4ms/step - loss: 0.0032\n",
      "Epoch 8/100\n",
      "1010/1010 [==============================] - 4s 4ms/step - loss: 0.0029\n",
      "Epoch 9/100\n",
      "1010/1010 [==============================] - 4s 4ms/step - loss: 0.0034\n",
      "Epoch 10/100\n",
      "1010/1010 [==============================] - 4s 4ms/step - loss: 0.0036\n",
      "Epoch 11/100\n",
      "1010/1010 [==============================] - 4s 4ms/step - loss: 0.0030\n",
      "Epoch 12/100\n",
      "1010/1010 [==============================] - 4s 4ms/step - loss: 0.0033\n",
      "Epoch 13/100\n",
      "1010/1010 [==============================] - 4s 4ms/step - loss: 0.0029\n",
      "Epoch 14/100\n",
      "1010/1010 [==============================] - 4s 4ms/step - loss: 0.0028\n",
      "Epoch 15/100\n",
      "1010/1010 [==============================] - 4s 4ms/step - loss: 0.0028\n",
      "Epoch 16/100\n",
      "1010/1010 [==============================] - 4s 4ms/step - loss: 0.0026\n",
      "Epoch 17/100\n",
      "1010/1010 [==============================] - 4s 4ms/step - loss: 0.0030\n",
      "Epoch 18/100\n",
      "1010/1010 [==============================] - 4s 4ms/step - loss: 0.0026\n",
      "Epoch 19/100\n",
      "1010/1010 [==============================] - 4s 4ms/step - loss: 0.0028\n",
      "Epoch 20/100\n",
      "1010/1010 [==============================] - 5s 5ms/step - loss: 0.0031\n",
      "Epoch 21/100\n",
      "1010/1010 [==============================] - 4s 4ms/step - loss: 0.0028\n",
      "Epoch 22/100\n",
      "1010/1010 [==============================] - 4s 4ms/step - loss: 0.0032\n",
      "Epoch 23/100\n",
      "1010/1010 [==============================] - 4s 4ms/step - loss: 0.0028\n",
      "Epoch 24/100\n",
      "1010/1010 [==============================] - 4s 4ms/step - loss: 0.0025\n",
      "Epoch 25/100\n",
      "1010/1010 [==============================] - 4s 4ms/step - loss: 0.0030\n",
      "Epoch 26/100\n",
      "1010/1010 [==============================] - 4s 4ms/step - loss: 0.0024\n",
      "Epoch 27/100\n",
      "1010/1010 [==============================] - 4s 4ms/step - loss: 0.0029\n",
      "Epoch 28/100\n",
      "1010/1010 [==============================] - 4s 4ms/step - loss: 0.0026\n",
      "Epoch 29/100\n",
      "1010/1010 [==============================] - 4s 4ms/step - loss: 0.0024\n",
      "Epoch 30/100\n",
      "1010/1010 [==============================] - 4s 4ms/step - loss: 0.0024\n",
      "Epoch 31/100\n",
      "1010/1010 [==============================] - 4s 4ms/step - loss: 0.0022\n",
      "Epoch 32/100\n",
      "1010/1010 [==============================] - 4s 4ms/step - loss: 0.0022\n",
      "Epoch 33/100\n",
      "1010/1010 [==============================] - 4s 4ms/step - loss: 0.0020\n",
      "Epoch 34/100\n",
      "1010/1010 [==============================] - 4s 4ms/step - loss: 0.0022\n",
      "Epoch 35/100\n",
      "1010/1010 [==============================] - 4s 4ms/step - loss: 0.0022\n",
      "Epoch 36/100\n",
      "1010/1010 [==============================] - 4s 4ms/step - loss: 0.0023\n",
      "Epoch 37/100\n",
      "1010/1010 [==============================] - 5s 5ms/step - loss: 0.0022\n",
      "Epoch 38/100\n",
      "1010/1010 [==============================] - 5s 4ms/step - loss: 0.0022\n",
      "Epoch 39/100\n",
      "1010/1010 [==============================] - 4s 4ms/step - loss: 0.0022\n",
      "Epoch 40/100\n",
      "1010/1010 [==============================] - 5s 5ms/step - loss: 0.0022\n",
      "Epoch 41/100\n",
      "1010/1010 [==============================] - 4s 4ms/step - loss: 0.0021\n",
      "Epoch 42/100\n",
      "1010/1010 [==============================] - 4s 4ms/step - loss: 0.0023\n",
      "Epoch 43/100\n",
      "1010/1010 [==============================] - 5s 5ms/step - loss: 0.0021\n",
      "Epoch 44/100\n",
      "1010/1010 [==============================] - 4s 4ms/step - loss: 0.0019\n",
      "Epoch 45/100\n",
      "1010/1010 [==============================] - 4s 4ms/step - loss: 0.0018\n",
      "Epoch 46/100\n",
      "1010/1010 [==============================] - 4s 4ms/step - loss: 0.0019\n",
      "Epoch 47/100\n",
      "1010/1010 [==============================] - 4s 4ms/step - loss: 0.0023\n",
      "Epoch 48/100\n",
      "1010/1010 [==============================] - 4s 4ms/step - loss: 0.0018\n",
      "Epoch 49/100\n",
      "1010/1010 [==============================] - 4s 4ms/step - loss: 0.0018\n",
      "Epoch 50/100\n",
      "1010/1010 [==============================] - 5s 4ms/step - loss: 0.0020\n",
      "Epoch 51/100\n",
      "1010/1010 [==============================] - 4s 4ms/step - loss: 0.0019\n",
      "Epoch 52/100\n",
      "1010/1010 [==============================] - 5s 5ms/step - loss: 0.0019\n",
      "Epoch 53/100\n",
      "1010/1010 [==============================] - 4s 4ms/step - loss: 0.0018\n",
      "Epoch 54/100\n",
      "1010/1010 [==============================] - 4s 4ms/step - loss: 0.0016\n",
      "Epoch 55/100\n",
      "1010/1010 [==============================] - 4s 4ms/step - loss: 0.0024\n",
      "Epoch 56/100\n",
      "1010/1010 [==============================] - 4s 4ms/step - loss: 0.0019\n",
      "Epoch 57/100\n",
      "1010/1010 [==============================] - 4s 4ms/step - loss: 0.0020\n",
      "Epoch 58/100\n",
      "1010/1010 [==============================] - 4s 4ms/step - loss: 0.0020\n",
      "Epoch 59/100\n",
      "1010/1010 [==============================] - 4s 4ms/step - loss: 0.0019\n",
      "Epoch 60/100\n",
      "1010/1010 [==============================] - 4s 4ms/step - loss: 0.0017\n",
      "Epoch 61/100\n",
      "1010/1010 [==============================] - 4s 4ms/step - loss: 0.0017\n",
      "Epoch 62/100\n",
      "1010/1010 [==============================] - 4s 4ms/step - loss: 0.0019\n",
      "Epoch 63/100\n",
      "1010/1010 [==============================] - 4s 4ms/step - loss: 0.0018\n",
      "Epoch 64/100\n",
      "1010/1010 [==============================] - 4s 4ms/step - loss: 0.0015\n",
      "Epoch 65/100\n",
      "1010/1010 [==============================] - 4s 4ms/step - loss: 0.0017\n",
      "Epoch 66/100\n",
      "1010/1010 [==============================] - 4s 4ms/step - loss: 0.0017\n",
      "Epoch 67/100\n",
      "1010/1010 [==============================] - 4s 4ms/step - loss: 0.0017\n",
      "Epoch 68/100\n",
      "1010/1010 [==============================] - 4s 4ms/step - loss: 0.0015\n",
      "Epoch 69/100\n",
      "1010/1010 [==============================] - 4s 4ms/step - loss: 0.0016\n",
      "Epoch 70/100\n",
      "1010/1010 [==============================] - 4s 4ms/step - loss: 0.0016\n",
      "Epoch 71/100\n",
      "1010/1010 [==============================] - 4s 4ms/step - loss: 0.0016\n",
      "Epoch 72/100\n",
      "1010/1010 [==============================] - 4s 4ms/step - loss: 0.0016\n",
      "Epoch 73/100\n",
      "1010/1010 [==============================] - 4s 4ms/step - loss: 0.0017\n",
      "Epoch 74/100\n",
      "1010/1010 [==============================] - 4s 4ms/step - loss: 0.0015\n",
      "Epoch 75/100\n",
      "1010/1010 [==============================] - 4s 4ms/step - loss: 0.0015\n",
      "Epoch 76/100\n",
      "1010/1010 [==============================] - 4s 4ms/step - loss: 0.0017\n",
      "Epoch 77/100\n",
      "1010/1010 [==============================] - 4s 4ms/step - loss: 0.0013\n",
      "Epoch 78/100\n",
      "1010/1010 [==============================] - 4s 4ms/step - loss: 0.0014\n",
      "Epoch 79/100\n",
      "1010/1010 [==============================] - 4s 4ms/step - loss: 0.0014\n",
      "Epoch 80/100\n",
      "1010/1010 [==============================] - 4s 4ms/step - loss: 0.0015\n",
      "Epoch 81/100\n",
      "1010/1010 [==============================] - 4s 4ms/step - loss: 0.0014\n",
      "Epoch 82/100\n",
      "1010/1010 [==============================] - 4s 4ms/step - loss: 0.0014\n",
      "Epoch 83/100\n",
      "1010/1010 [==============================] - 4s 4ms/step - loss: 0.0012\n",
      "Epoch 84/100\n",
      "1010/1010 [==============================] - 4s 4ms/step - loss: 0.0012\n",
      "Epoch 85/100\n",
      "1010/1010 [==============================] - 4s 4ms/step - loss: 0.0015\n",
      "Epoch 86/100\n",
      "1010/1010 [==============================] - 4s 4ms/step - loss: 0.0015\n",
      "Epoch 87/100\n",
      "1010/1010 [==============================] - 4s 4ms/step - loss: 0.0018\n",
      "Epoch 88/100\n",
      "1010/1010 [==============================] - 4s 4ms/step - loss: 0.0013\n",
      "Epoch 89/100\n",
      "1010/1010 [==============================] - 4s 4ms/step - loss: 0.0014\n",
      "Epoch 90/100\n",
      "1010/1010 [==============================] - 4s 4ms/step - loss: 0.0013\n",
      "Epoch 91/100\n",
      "1010/1010 [==============================] - 4s 4ms/step - loss: 0.0014\n",
      "Epoch 92/100\n",
      "1010/1010 [==============================] - 4s 4ms/step - loss: 0.0013\n",
      "Epoch 93/100\n",
      "1010/1010 [==============================] - 4s 4ms/step - loss: 0.0013\n",
      "Epoch 94/100\n",
      "1010/1010 [==============================] - 4s 4ms/step - loss: 0.0013\n",
      "Epoch 95/100\n",
      "1010/1010 [==============================] - 4s 4ms/step - loss: 0.0012\n",
      "Epoch 96/100\n",
      "1010/1010 [==============================] - 4s 4ms/step - loss: 0.0016\n",
      "Epoch 97/100\n",
      "1010/1010 [==============================] - 4s 4ms/step - loss: 0.0015\n",
      "Epoch 98/100\n",
      "1010/1010 [==============================] - 4s 4ms/step - loss: 0.0013\n",
      "Epoch 99/100\n",
      "1010/1010 [==============================] - 4s 4ms/step - loss: 0.0012\n",
      "Epoch 100/100\n",
      "1010/1010 [==============================] - 4s 4ms/step - loss: 0.0015\n"
     ]
    },
    {
     "data": {
      "text/plain": [
       "<keras.callbacks.History at 0x140791b38>"
      ]
     },
     "execution_count": 15,
     "metadata": {},
     "output_type": "execute_result"
    }
   ],
   "source": [
    "model.fit(x_train, y_train, epochs = 100, batch_size = 28)"
   ]
  },
  {
   "cell_type": "code",
   "execution_count": 16,
   "metadata": {},
   "outputs": [],
   "source": [
    "model.save(\"BIDU_RNN.hd5f\")"
   ]
  },
  {
   "cell_type": "code",
   "execution_count": 17,
   "metadata": {},
   "outputs": [
    {
     "data": {
      "text/html": [
       "<div>\n",
       "<style scoped>\n",
       "    .dataframe tbody tr th:only-of-type {\n",
       "        vertical-align: middle;\n",
       "    }\n",
       "\n",
       "    .dataframe tbody tr th {\n",
       "        vertical-align: top;\n",
       "    }\n",
       "\n",
       "    .dataframe thead th {\n",
       "        text-align: right;\n",
       "    }\n",
       "</style>\n",
       "<table border=\"1\" class=\"dataframe\">\n",
       "  <thead>\n",
       "    <tr style=\"text-align: right;\">\n",
       "      <th></th>\n",
       "      <th>Date</th>\n",
       "      <th>High</th>\n",
       "      <th>Low</th>\n",
       "      <th>Open</th>\n",
       "      <th>Close</th>\n",
       "      <th>Volume</th>\n",
       "      <th>Adj Close</th>\n",
       "    </tr>\n",
       "  </thead>\n",
       "  <tbody>\n",
       "    <tr>\n",
       "      <th>0</th>\n",
       "      <td>2014-01-28</td>\n",
       "      <td>55.279999</td>\n",
       "      <td>54.000000</td>\n",
       "      <td>54.020000</td>\n",
       "      <td>55.139999</td>\n",
       "      <td>48191200</td>\n",
       "      <td>55.139999</td>\n",
       "    </tr>\n",
       "    <tr>\n",
       "      <th>1</th>\n",
       "      <td>2014-01-29</td>\n",
       "      <td>54.950001</td>\n",
       "      <td>53.189999</td>\n",
       "      <td>54.610001</td>\n",
       "      <td>53.529999</td>\n",
       "      <td>92995600</td>\n",
       "      <td>53.529999</td>\n",
       "    </tr>\n",
       "    <tr>\n",
       "      <th>2</th>\n",
       "      <td>2014-01-30</td>\n",
       "      <td>62.500000</td>\n",
       "      <td>60.459999</td>\n",
       "      <td>62.119999</td>\n",
       "      <td>61.080002</td>\n",
       "      <td>150178900</td>\n",
       "      <td>61.080002</td>\n",
       "    </tr>\n",
       "    <tr>\n",
       "      <th>3</th>\n",
       "      <td>2014-01-31</td>\n",
       "      <td>63.369999</td>\n",
       "      <td>60.169998</td>\n",
       "      <td>60.470001</td>\n",
       "      <td>62.570000</td>\n",
       "      <td>87794600</td>\n",
       "      <td>62.570000</td>\n",
       "    </tr>\n",
       "    <tr>\n",
       "      <th>4</th>\n",
       "      <td>2014-02-03</td>\n",
       "      <td>63.770000</td>\n",
       "      <td>60.700001</td>\n",
       "      <td>63.029999</td>\n",
       "      <td>61.480000</td>\n",
       "      <td>74866600</td>\n",
       "      <td>61.480000</td>\n",
       "    </tr>\n",
       "  </tbody>\n",
       "</table>\n",
       "</div>"
      ],
      "text/plain": [
       "        Date       High        Low       Open      Close     Volume  Adj Close\n",
       "0 2014-01-28  55.279999  54.000000  54.020000  55.139999   48191200  55.139999\n",
       "1 2014-01-29  54.950001  53.189999  54.610001  53.529999   92995600  53.529999\n",
       "2 2014-01-30  62.500000  60.459999  62.119999  61.080002  150178900  61.080002\n",
       "3 2014-01-31  63.369999  60.169998  60.470001  62.570000   87794600  62.570000\n",
       "4 2014-02-03  63.770000  60.700001  63.029999  61.480000   74866600  61.480000"
      ]
     },
     "execution_count": 17,
     "metadata": {},
     "output_type": "execute_result"
    }
   ],
   "source": [
    "df.head()"
   ]
  },
  {
   "cell_type": "code",
   "execution_count": 18,
   "metadata": {},
   "outputs": [
    {
     "data": {
      "text/plain": [
       "1070"
      ]
     },
     "execution_count": 18,
     "metadata": {},
     "output_type": "execute_result"
    }
   ],
   "source": [
    "bloc1"
   ]
  },
  {
   "cell_type": "code",
   "execution_count": 19,
   "metadata": {},
   "outputs": [],
   "source": [
    "data_test= df.iloc[bloc1:,:6] # Import Test Data"
   ]
  },
  {
   "cell_type": "code",
   "execution_count": 20,
   "metadata": {},
   "outputs": [
    {
     "data": {
      "text/html": [
       "<div>\n",
       "<style scoped>\n",
       "    .dataframe tbody tr th:only-of-type {\n",
       "        vertical-align: middle;\n",
       "    }\n",
       "\n",
       "    .dataframe tbody tr th {\n",
       "        vertical-align: top;\n",
       "    }\n",
       "\n",
       "    .dataframe thead th {\n",
       "        text-align: right;\n",
       "    }\n",
       "</style>\n",
       "<table border=\"1\" class=\"dataframe\">\n",
       "  <thead>\n",
       "    <tr style=\"text-align: right;\">\n",
       "      <th></th>\n",
       "      <th>Date</th>\n",
       "      <th>High</th>\n",
       "      <th>Low</th>\n",
       "      <th>Open</th>\n",
       "      <th>Close</th>\n",
       "      <th>Volume</th>\n",
       "    </tr>\n",
       "  </thead>\n",
       "  <tbody>\n",
       "    <tr>\n",
       "      <th>1065</th>\n",
       "      <td>2018-04-20</td>\n",
       "      <td>168.429993</td>\n",
       "      <td>165.809998</td>\n",
       "      <td>167.789993</td>\n",
       "      <td>166.279999</td>\n",
       "      <td>19119400</td>\n",
       "    </tr>\n",
       "    <tr>\n",
       "      <th>1066</th>\n",
       "      <td>2018-04-23</td>\n",
       "      <td>168.449997</td>\n",
       "      <td>165.089996</td>\n",
       "      <td>167.270004</td>\n",
       "      <td>165.839996</td>\n",
       "      <td>23088100</td>\n",
       "    </tr>\n",
       "    <tr>\n",
       "      <th>1067</th>\n",
       "      <td>2018-04-24</td>\n",
       "      <td>166.100006</td>\n",
       "      <td>158.190002</td>\n",
       "      <td>165.429993</td>\n",
       "      <td>159.690002</td>\n",
       "      <td>35079900</td>\n",
       "    </tr>\n",
       "    <tr>\n",
       "      <th>1068</th>\n",
       "      <td>2018-04-25</td>\n",
       "      <td>161.059998</td>\n",
       "      <td>156.190002</td>\n",
       "      <td>160.139999</td>\n",
       "      <td>159.690002</td>\n",
       "      <td>41083600</td>\n",
       "    </tr>\n",
       "    <tr>\n",
       "      <th>1069</th>\n",
       "      <td>2018-04-26</td>\n",
       "      <td>176.270004</td>\n",
       "      <td>170.800003</td>\n",
       "      <td>173.220001</td>\n",
       "      <td>174.160004</td>\n",
       "      <td>77556900</td>\n",
       "    </tr>\n",
       "  </tbody>\n",
       "</table>\n",
       "</div>"
      ],
      "text/plain": [
       "           Date        High         Low        Open       Close    Volume\n",
       "1065 2018-04-20  168.429993  165.809998  167.789993  166.279999  19119400\n",
       "1066 2018-04-23  168.449997  165.089996  167.270004  165.839996  23088100\n",
       "1067 2018-04-24  166.100006  158.190002  165.429993  159.690002  35079900\n",
       "1068 2018-04-25  161.059998  156.190002  160.139999  159.690002  41083600\n",
       "1069 2018-04-26  176.270004  170.800003  173.220001  174.160004  77556900"
      ]
     },
     "execution_count": 20,
     "metadata": {},
     "output_type": "execute_result"
    }
   ],
   "source": [
    "data_train.tail()"
   ]
  },
  {
   "cell_type": "code",
   "execution_count": 21,
   "metadata": {},
   "outputs": [
    {
     "data": {
      "text/html": [
       "<div>\n",
       "<style scoped>\n",
       "    .dataframe tbody tr th:only-of-type {\n",
       "        vertical-align: middle;\n",
       "    }\n",
       "\n",
       "    .dataframe tbody tr th {\n",
       "        vertical-align: top;\n",
       "    }\n",
       "\n",
       "    .dataframe thead th {\n",
       "        text-align: right;\n",
       "    }\n",
       "</style>\n",
       "<table border=\"1\" class=\"dataframe\">\n",
       "  <thead>\n",
       "    <tr style=\"text-align: right;\">\n",
       "      <th></th>\n",
       "      <th>Date</th>\n",
       "      <th>High</th>\n",
       "      <th>Low</th>\n",
       "      <th>Open</th>\n",
       "      <th>Close</th>\n",
       "      <th>Volume</th>\n",
       "    </tr>\n",
       "  </thead>\n",
       "  <tbody>\n",
       "    <tr>\n",
       "      <th>1070</th>\n",
       "      <td>2018-04-27</td>\n",
       "      <td>177.100006</td>\n",
       "      <td>172.600006</td>\n",
       "      <td>176.809998</td>\n",
       "      <td>173.589996</td>\n",
       "      <td>29804700</td>\n",
       "    </tr>\n",
       "    <tr>\n",
       "      <th>1071</th>\n",
       "      <td>2018-04-30</td>\n",
       "      <td>175.720001</td>\n",
       "      <td>171.710007</td>\n",
       "      <td>173.789993</td>\n",
       "      <td>172.000000</td>\n",
       "      <td>20750500</td>\n",
       "    </tr>\n",
       "    <tr>\n",
       "      <th>1072</th>\n",
       "      <td>2018-05-01</td>\n",
       "      <td>174.020004</td>\n",
       "      <td>170.229996</td>\n",
       "      <td>172.000000</td>\n",
       "      <td>173.860001</td>\n",
       "      <td>26025900</td>\n",
       "    </tr>\n",
       "    <tr>\n",
       "      <th>1073</th>\n",
       "      <td>2018-05-02</td>\n",
       "      <td>178.080002</td>\n",
       "      <td>174.199997</td>\n",
       "      <td>174.250000</td>\n",
       "      <td>176.070007</td>\n",
       "      <td>30424500</td>\n",
       "    </tr>\n",
       "    <tr>\n",
       "      <th>1074</th>\n",
       "      <td>2018-05-03</td>\n",
       "      <td>176.119995</td>\n",
       "      <td>172.119995</td>\n",
       "      <td>175.130005</td>\n",
       "      <td>174.020004</td>\n",
       "      <td>24026100</td>\n",
       "    </tr>\n",
       "  </tbody>\n",
       "</table>\n",
       "</div>"
      ],
      "text/plain": [
       "           Date        High         Low        Open       Close    Volume\n",
       "1070 2018-04-27  177.100006  172.600006  176.809998  173.589996  29804700\n",
       "1071 2018-04-30  175.720001  171.710007  173.789993  172.000000  20750500\n",
       "1072 2018-05-01  174.020004  170.229996  172.000000  173.860001  26025900\n",
       "1073 2018-05-02  178.080002  174.199997  174.250000  176.070007  30424500\n",
       "1074 2018-05-03  176.119995  172.119995  175.130005  174.020004  24026100"
      ]
     },
     "execution_count": 21,
     "metadata": {},
     "output_type": "execute_result"
    }
   ],
   "source": [
    "data_test.head()"
   ]
  },
  {
   "cell_type": "code",
   "execution_count": 22,
   "metadata": {},
   "outputs": [],
   "source": [
    "actual_stock_price = data_test.iloc[:, 3:4].values # Get the Open Prices"
   ]
  },
  {
   "cell_type": "code",
   "execution_count": 23,
   "metadata": {},
   "outputs": [],
   "source": [
    "data_total = pd.concat((data_train['Open'], data_test['Open']), axis=0) \n",
    "# combines the train and test data (axis=0 labels by index)"
   ]
  },
  {
   "cell_type": "code",
   "execution_count": 24,
   "metadata": {},
   "outputs": [
    {
     "data": {
      "text/plain": [
       "1333    180.419998\n",
       "1334    185.050003\n",
       "1335    184.839996\n",
       "1336    181.880005\n",
       "1337    184.570007\n",
       "Name: Open, dtype: float64"
      ]
     },
     "execution_count": 24,
     "metadata": {},
     "output_type": "execute_result"
    }
   ],
   "source": [
    "data_total[-5:]"
   ]
  },
  {
   "cell_type": "code",
   "execution_count": 25,
   "metadata": {},
   "outputs": [
    {
     "name": "stdout",
     "output_type": "stream",
     "text": [
      "1338\n",
      "268\n"
     ]
    },
    {
     "data": {
      "text/plain": [
       "(328, 1)"
      ]
     },
     "execution_count": 25,
     "metadata": {},
     "output_type": "execute_result"
    }
   ],
   "source": [
    "inputs = data_total[len(data_total) - len(data_test)-60:].values #removes the answers\n",
    "print(len(data_total))\n",
    "print(len(data_test))\n",
    "\n",
    "inputs = inputs.reshape(-1, 1) #Converts the row of values into a column vector\n",
    "inputs = sc.transform(inputs) # Feature Scaling (0-1)\n",
    "inputs.shape"
   ]
  },
  {
   "cell_type": "code",
   "execution_count": 26,
   "metadata": {},
   "outputs": [],
   "source": [
    "# Prepare Testing Inputs\n",
    "x_test = []\n",
    "\n",
    "for i in range(60, inputs.shape[0]):\n",
    "    x_test.append(inputs[i-60:i, 0]) #Prepares the 60 data memory input\n",
    "\n",
    "x_test = np.array(x_test) #Turn the inputs into an array\n",
    "x_test = np.reshape(x_test, (x_test.shape[0], x_test.shape[1], 1)) # Add a 3rd dimension"
   ]
  },
  {
   "cell_type": "code",
   "execution_count": 27,
   "metadata": {},
   "outputs": [],
   "source": [
    "# Use the RNN to make the predeictions \n",
    "raw_prediction = model.predict(x_test)"
   ]
  },
  {
   "cell_type": "code",
   "execution_count": 28,
   "metadata": {},
   "outputs": [
    {
     "data": {
      "text/plain": [
       "array([[162.65387],\n",
       "       [164.39227],\n",
       "       [166.47304],\n",
       "       [168.00084],\n",
       "       [169.08272]], dtype=float32)"
      ]
     },
     "execution_count": 28,
     "metadata": {},
     "output_type": "execute_result"
    }
   ],
   "source": [
    "price_prediction = sc.inverse_transform(raw_prediction) # Undoes the normalization into usable values\n",
    "price_prediction [0:5]"
   ]
  },
  {
   "cell_type": "code",
   "execution_count": 30,
   "metadata": {},
   "outputs": [],
   "source": [
    "sc2 = MinMaxScaler(feature_range = (-1,1))\n",
    "\n",
    "raw_prediction = sc2.fit_transform(raw_prediction)\n",
    "\n",
    "Suggestion_long = []\n",
    "percentChange_long = []\n",
    "Suggestion_short = []\n",
    "percentChange_short = []\n",
    "\n",
    "for d in range(1,len(raw_prediction)):\n",
    "    percentChange_long.append(float((raw_prediction[d]-raw_prediction[d-1])))\n",
    "    percentChange_short.append(float((raw_prediction[d]-raw_prediction[d-1])))\n",
    "\n",
    "for n in percentChange_long:\n",
    "    #print(n)\n",
    "    if n > 0.02:\n",
    "        Suggestion_long.append(-1) # Sell after a threshhold of increase\n",
    "    elif n < 0.02:\n",
    "        Suggestion_long.append(1) # Buy when there is a drop\n",
    "    else:\n",
    "        Suggestion_long.append(0)\n",
    "#print(Buy)\n",
    "\n",
    "    \n",
    "for n in percentChange_short:\n",
    "    #print(n)\n",
    "    if n < -0.02:\n",
    "        Suggestion_short.append(1) # Buy after a threshhold of increase\n",
    "    elif n > 0.02:\n",
    "        Suggestion_short.append(-1) # Sell when there is a drop\n",
    "    else:\n",
    "        Suggestion_short.append(0)\n",
    "#print(Buy)"
   ]
  },
  {
   "cell_type": "code",
   "execution_count": null,
   "metadata": {},
   "outputs": [],
   "source": [
    "PurchaseHistory_long=[]\n",
    "BuyPoints_long =  [[], []]\n",
    "SellPoints_long = [[], []]\n",
    "bought_long = False\n",
    "PurchaseHistory_short=[]\n",
    "BuyPoints_short =  [[], []]\n",
    "SellPoints_short = [[], []]\n",
    "sold_short = False\n",
    "\n",
    "for i in range(0, len(actual_stock_price)-1):\n",
    "    if Suggestion_long[i] == 1 and not bought_long:\n",
    "        PurchaseHistory_long.append([\"Buy: \", actual_stock_price[i], i])\n",
    "        BuyPoints_long[0].append(actual_stock_price[i])\n",
    "        BuyPoints_long[1].append(i)\n",
    "        bought_long = True\n",
    "    \n",
    "    if Suggestion_long[i] == -1 and bought_long:\n",
    "        PurchaseHistory_long.append([\"Sell:\", actual_stock_price[i], i])\n",
    "        SellPoints_long[0].append(actual_stock_price[i])\n",
    "        SellPoints_long[1].append(i)        \n",
    "        bought_long = False\n",
    "    \n",
    "    if Suggestion_short[i] == -1 and not sold_short:\n",
    "        PurchaseHistory_short.append([\"Sell: \", actual_stock_price[i], i])\n",
    "        SellPoints_short[0].append(actual_stock_price[i])\n",
    "        SellPoints_short[1].append(i)\n",
    "        sold_short = True\n",
    "    \n",
    "    if Suggestion_short[i] == 1 and sold_short:\n",
    "        PurchaseHistory_short.append([\"Buy:\", actual_stock_price[i], i])\n",
    "        BuyPoints_short[0].append(actual_stock_price[i])\n",
    "        BuyPoints_short[1].append(i)        \n",
    "        sold_short = False\n",
    "        \n",
    "if len(PurchaseHistory_long)%2 != 0:\n",
    "    PurchaseHistory_long.pop()\n",
    "    BuyPoints_long[0].pop()\n",
    "    BuyPoints_long[1].pop() \n",
    "\n",
    "\n",
    "if len(PurchaseHistory_short)%2 != 0:\n",
    "    PurchaseHistory_short.pop()\n",
    "    SellPoints_short[0].pop()\n",
    "    SellPoints_short[1].pop() \n"
   ]
  },
  {
   "cell_type": "code",
   "execution_count": null,
   "metadata": {},
   "outputs": [],
   "source": [
    "purchase = 0\n",
    "Profit_long = 0\n",
    "for purchase in range(1, len(PurchaseHistory_long)+1, 2):\n",
    "    MoneyMade_long = float(PurchaseHistory_long[purchase][1] - float(PurchaseHistory_long[purchase-1][1]))\n",
    "    Profit_long += MoneyMade_long\n",
    "\n",
    "print('Profit Long : $'+ str(round(Profit_long, 2)))"
   ]
  },
  {
   "cell_type": "code",
   "execution_count": null,
   "metadata": {},
   "outputs": [],
   "source": [
    "Profit_short = 0\n",
    "for purchase in range(1, len(PurchaseHistory_short)+1, 2):\n",
    "    MoneyMade_short = (float(-PurchaseHistory_short[purchase][1] + float(PurchaseHistory_short[purchase-1][1])))\n",
    "    Profit_short += MoneyMade_short\n",
    "\n",
    "print('Profit Short : $'+ str(round(Profit_short, 2)))"
   ]
  },
  {
   "cell_type": "code",
   "execution_count": null,
   "metadata": {},
   "outputs": [],
   "source": [
    "plt.figure(figsize=(16,6),dpi=200)\n",
    "plt.plot(actual_stock_price, color =  'purple', label = \"Actual Price\")\n",
    "plt.plot(price_prediction, color = 'orange', label = \"Predicted Price\")\n",
    "plt.plot(BuyPoints_long[1], BuyPoints_long[0], \"go\",label='Buy')\n",
    "plt.plot(SellPoints_long[1], SellPoints_long[0], \"ro\",label='Sell')\n",
    "plt.title(\"Go Long... FB January 2014 - May 2019 Stock Predictions\")\n",
    "plt.xlabel('Time')\n",
    "plt.ylabel('FB Stock Price')\n",
    "plt.legend()\n",
    "plt.show()"
   ]
  },
  {
   "cell_type": "code",
   "execution_count": null,
   "metadata": {},
   "outputs": [],
   "source": [
    "plt.figure(figsize=(16,6),dpi=200)\n",
    "plt.plot(actual_stock_price, color =  'purple', label = \"Actual Price\")\n",
    "plt.plot(price_prediction, color = 'orange', label = \"Predicted Price\")\n",
    "plt.plot(BuyPoints_short[1], BuyPoints_short[0], \"go\",label='Buy')\n",
    "plt.plot(SellPoints_short[1], SellPoints_short[0], \"ro\",label='Sell')\n",
    "\n",
    "plt.title(\"Go Short, FB January 2014 - May 2019 Stock Predictions\")\n",
    "plt.xlabel('Time')\n",
    "plt.ylabel('FB Stock Price')\n",
    "plt.legend()\n",
    "plt.show()"
   ]
  },
  {
   "cell_type": "code",
   "execution_count": null,
   "metadata": {},
   "outputs": [],
   "source": [
    "print('Cumulative Profit :','$'+ str(round(Profit_long+Profit_short, 2)))"
   ]
  },
  {
   "cell_type": "code",
   "execution_count": null,
   "metadata": {},
   "outputs": [],
   "source": [
    "MinimumRequiredCapital_long = max(BuyPoints_long[0])\n",
    "MinimumRequiredCapital_short = max(BuyPoints_short[0])\n",
    "ROI_long = Profit_long / MinimumRequiredCapital_long * 100\n",
    "ROI_short = Profit_short / MinimumRequiredCapital_short * 100\n",
    "print('Summary FB')\n",
    "print('Total period : From ',start,' to ',end)\n",
    "print('Training on ',bloc1,' days')\n",
    "print('Testing on ',bloc2,' days')\n",
    "print('Minimum Required Capital long :',round(MinimumRequiredCapital_long[0]),'$')\n",
    "print('Minimum Required Capital short :',round(MinimumRequiredCapital_short[0]),'$')\n",
    "print('Number of long :',len(BuyPoints_long[1]))\n",
    "print('Number of short :',len(BuyPoints_short[1]))\n",
    "print('Short CumProfit :''$'+ str(round(Profit_short, 2)))\n",
    "print('Long CumProfit :''$'+ str(round(Profit_long, 2)))\n",
    "print('Cumulative Profit :','$'+ str(round(Profit_long+Profit_short, 2)))\n",
    "print(\"Return on Long Investment:\", round(float(ROI_long), 2),\"%\")\n",
    "print(\"Return on Short Investment:\", round(float(ROI_short), 2),\"%\")"
   ]
  },
  {
   "cell_type": "code",
   "execution_count": 75,
   "metadata": {},
   "outputs": [
    {
     "data": {
      "text/plain": [
       "(1338, 7)"
      ]
     },
     "execution_count": 75,
     "metadata": {},
     "output_type": "execute_result"
    }
   ],
   "source": [
    "df.shape"
   ]
  },
  {
   "cell_type": "code",
   "execution_count": null,
   "metadata": {},
   "outputs": [],
   "source": []
  }
 ],
 "metadata": {
  "kernelspec": {
   "display_name": "Python 3",
   "language": "python",
   "name": "python3"
  },
  "language_info": {
   "codemirror_mode": {
    "name": "ipython",
    "version": 3
   },
   "file_extension": ".py",
   "mimetype": "text/x-python",
   "name": "python",
   "nbconvert_exporter": "python",
   "pygments_lexer": "ipython3",
   "version": "3.6.8"
  }
 },
 "nbformat": 4,
 "nbformat_minor": 2
}
