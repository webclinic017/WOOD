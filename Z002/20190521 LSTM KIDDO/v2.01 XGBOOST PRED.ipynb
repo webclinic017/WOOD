{
 "cells": [
  {
   "cell_type": "code",
   "execution_count": 1,
   "metadata": {},
   "outputs": [],
   "source": [
    "___Author___='LumberJack Jyss'"
   ]
  },
  {
   "cell_type": "code",
   "execution_count": 2,
   "metadata": {},
   "outputs": [
    {
     "name": "stdout",
     "output_type": "stream",
     "text": [
      "Global Optimized LumberJack Equities Method\n",
      "°OoO_FOREX_Oo0°\n",
      "LumberJack Jyss 5779(c)\n"
     ]
    }
   ],
   "source": [
    "print('Global Optimized LumberJack Equities Method\\n°OoO_FOREX_Oo0°\\nLumberJack Jyss 5779(c)')"
   ]
  },
  {
   "cell_type": "code",
   "execution_count": 1,
   "metadata": {},
   "outputs": [
    {
     "name": "stdout",
     "output_type": "stream",
     "text": [
      "Importation des librairies...\n",
      "0.90\n",
      "Librairies importées\n"
     ]
    }
   ],
   "source": [
    "print('Importation des librairies...')\n",
    "import statistics\n",
    "import pickle\n",
    "import numpy as np\n",
    "import pandas as pd\n",
    "import xgboost as xgb\n",
    "from xgboost import XGBRegressor, plot_importance\n",
    "print(xgb.__version__)\n",
    "from pandas.plotting import register_matplotlib_converters\n",
    "import pandas_datareader as web\n",
    "import matplotlib.pyplot as plt\n",
    "from sklearn.linear_model import LogisticRegression\n",
    "from sklearn.preprocessing import LabelEncoder\n",
    "from sklearn.metrics import accuracy_score, precision_score, recall_score, roc_auc_score,roc_curve\n",
    "from sklearn import model_selection\n",
    "from sklearn.model_selection import cross_val_score\n",
    "from sklearn.metrics import confusion_matrix\n",
    "from sklearn.metrics import classification_report\n",
    "from sklearn.model_selection import train_test_split\n",
    "from sklearn.metrics import r2_score\n",
    "from sklearn.metrics import mean_squared_error\n",
    "\n",
    "#from sklearn.grid_search import GridSearchCV\n",
    "import seaborn as sns\n",
    "\n",
    "import os\n",
    "os.environ['KMP_DUPLICATE_LIB_OK']='True'\n",
    "from xgboost import XGBClassifier\n",
    "\n",
    "%matplotlib inline\n",
    "print('Librairies importées')"
   ]
  },
  {
   "cell_type": "code",
   "execution_count": 2,
   "metadata": {},
   "outputs": [
    {
     "name": "stdout",
     "output_type": "stream",
     "text": [
      "Période d'étude :  1520\n",
      "Sur un découpage 80% - 20% de la période : \n",
      "Bloc 1 :  1216  jours \n",
      "Bloc 2 : 304  jours\n",
      "Note : On change de règles de calculs, car tous les jours ne sont pas ouvrés\n"
     ]
    }
   ],
   "source": [
    "# Setting the data\n",
    "start = pd.to_datetime('2015-01-28')\n",
    "end = pd.to_datetime('2019-03-28')\n",
    "delta = round((end-start).days)\n",
    "bloc1 = round(delta*0.8)\n",
    "bloc2 = delta - bloc1\n",
    "print(\"Période d'étude : \",delta)\n",
    "print('Sur un découpage 80% - 20% de la période : ')\n",
    "print('Bloc 1 : ',bloc1,' jours \\nBloc 2 :',bloc2,' jours')\n",
    "print('Note : On change de règles de calculs, car tous les jours ne sont pas ouvrés')"
   ]
  },
  {
   "cell_type": "code",
   "execution_count": 3,
   "metadata": {},
   "outputs": [
    {
     "data": {
      "text/html": [
       "<div>\n",
       "<style scoped>\n",
       "    .dataframe tbody tr th:only-of-type {\n",
       "        vertical-align: middle;\n",
       "    }\n",
       "\n",
       "    .dataframe tbody tr th {\n",
       "        vertical-align: top;\n",
       "    }\n",
       "\n",
       "    .dataframe thead th {\n",
       "        text-align: right;\n",
       "    }\n",
       "</style>\n",
       "<table border=\"1\" class=\"dataframe\">\n",
       "  <thead>\n",
       "    <tr style=\"text-align: right;\">\n",
       "      <th></th>\n",
       "      <th>Date</th>\n",
       "      <th>High</th>\n",
       "      <th>Low</th>\n",
       "      <th>Open</th>\n",
       "      <th>Close</th>\n",
       "      <th>Volume</th>\n",
       "      <th>Adj Close</th>\n",
       "    </tr>\n",
       "  </thead>\n",
       "  <tbody>\n",
       "    <tr>\n",
       "      <th>1044</th>\n",
       "      <td>2019-03-22</td>\n",
       "      <td>1230.000000</td>\n",
       "      <td>1202.824951</td>\n",
       "      <td>1226.319946</td>\n",
       "      <td>1205.500000</td>\n",
       "      <td>1714200.0</td>\n",
       "      <td>1193.000000</td>\n",
       "    </tr>\n",
       "    <tr>\n",
       "      <th>1045</th>\n",
       "      <td>2019-03-25</td>\n",
       "      <td>1206.397949</td>\n",
       "      <td>1187.040039</td>\n",
       "      <td>1196.930054</td>\n",
       "      <td>1193.000000</td>\n",
       "      <td>1496800.0</td>\n",
       "      <td>1184.619995</td>\n",
       "    </tr>\n",
       "    <tr>\n",
       "      <th>1046</th>\n",
       "      <td>2019-03-26</td>\n",
       "      <td>1202.829956</td>\n",
       "      <td>1176.719971</td>\n",
       "      <td>1198.530029</td>\n",
       "      <td>1184.619995</td>\n",
       "      <td>1901200.0</td>\n",
       "      <td>1173.020020</td>\n",
       "    </tr>\n",
       "    <tr>\n",
       "      <th>1047</th>\n",
       "      <td>2019-03-27</td>\n",
       "      <td>1187.558960</td>\n",
       "      <td>1159.369995</td>\n",
       "      <td>1185.500000</td>\n",
       "      <td>1173.020020</td>\n",
       "      <td>1400200.0</td>\n",
       "      <td>1168.489990</td>\n",
       "    </tr>\n",
       "    <tr>\n",
       "      <th>1048</th>\n",
       "      <td>2019-03-28</td>\n",
       "      <td>1171.564941</td>\n",
       "      <td>1159.431030</td>\n",
       "      <td>1171.540039</td>\n",
       "      <td>1168.489990</td>\n",
       "      <td>1012400.0</td>\n",
       "      <td>NaN</td>\n",
       "    </tr>\n",
       "  </tbody>\n",
       "</table>\n",
       "</div>"
      ],
      "text/plain": [
       "           Date         High          Low         Open        Close  \\\n",
       "1044 2019-03-22  1230.000000  1202.824951  1226.319946  1205.500000   \n",
       "1045 2019-03-25  1206.397949  1187.040039  1196.930054  1193.000000   \n",
       "1046 2019-03-26  1202.829956  1176.719971  1198.530029  1184.619995   \n",
       "1047 2019-03-27  1187.558960  1159.369995  1185.500000  1173.020020   \n",
       "1048 2019-03-28  1171.564941  1159.431030  1171.540039  1168.489990   \n",
       "\n",
       "         Volume    Adj Close  \n",
       "1044  1714200.0  1193.000000  \n",
       "1045  1496800.0  1184.619995  \n",
       "1046  1901200.0  1173.020020  \n",
       "1047  1400200.0  1168.489990  \n",
       "1048  1012400.0          NaN  "
      ]
     },
     "execution_count": 3,
     "metadata": {},
     "output_type": "execute_result"
    }
   ],
   "source": [
    "# fix random seed for reproducibility\n",
    "np.random.seed(7)\n",
    "# load the dataset\n",
    "df = web.DataReader('GOOG','yahoo',start,end)\n",
    "df.reset_index(inplace=True)\n",
    "df['Adj Close'] = df['Adj Close'].shift(-1)\n",
    "df.tail()"
   ]
  },
  {
   "cell_type": "code",
   "execution_count": 4,
   "metadata": {},
   "outputs": [],
   "source": [
    "df = df.dropna()\n",
    "df = df.drop(columns='Close',axis=1)"
   ]
  },
  {
   "cell_type": "code",
   "execution_count": 5,
   "metadata": {},
   "outputs": [
    {
     "name": "stdout",
     "output_type": "stream",
     "text": [
      "<class 'pandas.core.frame.DataFrame'>\n",
      "Int64Index: 1048 entries, 0 to 1047\n",
      "Data columns (total 6 columns):\n",
      "Date         1048 non-null datetime64[ns]\n",
      "High         1048 non-null float64\n",
      "Low          1048 non-null float64\n",
      "Open         1048 non-null float64\n",
      "Volume       1048 non-null float64\n",
      "Adj Close    1048 non-null float64\n",
      "dtypes: datetime64[ns](1), float64(5)\n",
      "memory usage: 57.3 KB\n"
     ]
    }
   ],
   "source": [
    "df.info()"
   ]
  },
  {
   "cell_type": "code",
   "execution_count": 6,
   "metadata": {},
   "outputs": [
    {
     "data": {
      "text/html": [
       "<div>\n",
       "<style scoped>\n",
       "    .dataframe tbody tr th:only-of-type {\n",
       "        vertical-align: middle;\n",
       "    }\n",
       "\n",
       "    .dataframe tbody tr th {\n",
       "        vertical-align: top;\n",
       "    }\n",
       "\n",
       "    .dataframe thead th {\n",
       "        text-align: right;\n",
       "    }\n",
       "</style>\n",
       "<table border=\"1\" class=\"dataframe\">\n",
       "  <thead>\n",
       "    <tr style=\"text-align: right;\">\n",
       "      <th></th>\n",
       "      <th>Date</th>\n",
       "      <th>High</th>\n",
       "      <th>Low</th>\n",
       "      <th>Open</th>\n",
       "      <th>Volume</th>\n",
       "      <th>Adj Close</th>\n",
       "    </tr>\n",
       "  </thead>\n",
       "  <tbody>\n",
       "    <tr>\n",
       "      <th>0</th>\n",
       "      <td>2015-01-28</td>\n",
       "      <td>520.127686</td>\n",
       "      <td>507.208801</td>\n",
       "      <td>519.918884</td>\n",
       "      <td>1683800.0</td>\n",
       "      <td>507.865204</td>\n",
       "    </tr>\n",
       "    <tr>\n",
       "      <th>1</th>\n",
       "      <td>2015-01-29</td>\n",
       "      <td>508.292847</td>\n",
       "      <td>498.456970</td>\n",
       "      <td>508.203339</td>\n",
       "      <td>4186400.0</td>\n",
       "      <td>531.594604</td>\n",
       "    </tr>\n",
       "    <tr>\n",
       "      <th>2</th>\n",
       "      <td>2015-01-30</td>\n",
       "      <td>536.915344</td>\n",
       "      <td>512.698608</td>\n",
       "      <td>513.036743</td>\n",
       "      <td>5606400.0</td>\n",
       "      <td>525.587646</td>\n",
       "    </tr>\n",
       "    <tr>\n",
       "      <th>3</th>\n",
       "      <td>2015-02-02</td>\n",
       "      <td>530.082947</td>\n",
       "      <td>515.712036</td>\n",
       "      <td>528.819885</td>\n",
       "      <td>2849800.0</td>\n",
       "      <td>526.343506</td>\n",
       "    </tr>\n",
       "    <tr>\n",
       "      <th>4</th>\n",
       "      <td>2015-02-03</td>\n",
       "      <td>530.480713</td>\n",
       "      <td>520.396240</td>\n",
       "      <td>525.110291</td>\n",
       "      <td>2034800.0</td>\n",
       "      <td>519.898987</td>\n",
       "    </tr>\n",
       "  </tbody>\n",
       "</table>\n",
       "</div>"
      ],
      "text/plain": [
       "        Date        High         Low        Open     Volume   Adj Close\n",
       "0 2015-01-28  520.127686  507.208801  519.918884  1683800.0  507.865204\n",
       "1 2015-01-29  508.292847  498.456970  508.203339  4186400.0  531.594604\n",
       "2 2015-01-30  536.915344  512.698608  513.036743  5606400.0  525.587646\n",
       "3 2015-02-02  530.082947  515.712036  528.819885  2849800.0  526.343506\n",
       "4 2015-02-03  530.480713  520.396240  525.110291  2034800.0  519.898987"
      ]
     },
     "execution_count": 6,
     "metadata": {},
     "output_type": "execute_result"
    }
   ],
   "source": [
    "df.head()"
   ]
  },
  {
   "cell_type": "code",
   "execution_count": 7,
   "metadata": {},
   "outputs": [],
   "source": [
    "Xtrain = df.iloc[:bloc1,1:5]\n",
    "Xtest = df.iloc[bloc1:,1:5]\n",
    "ytrain = df.iloc[:bloc1,5]\n",
    "ytest = df.iloc[bloc1:,5]"
   ]
  },
  {
   "cell_type": "code",
   "execution_count": 8,
   "metadata": {},
   "outputs": [
    {
     "data": {
      "text/html": [
       "<div>\n",
       "<style scoped>\n",
       "    .dataframe tbody tr th:only-of-type {\n",
       "        vertical-align: middle;\n",
       "    }\n",
       "\n",
       "    .dataframe tbody tr th {\n",
       "        vertical-align: top;\n",
       "    }\n",
       "\n",
       "    .dataframe thead th {\n",
       "        text-align: right;\n",
       "    }\n",
       "</style>\n",
       "<table border=\"1\" class=\"dataframe\">\n",
       "  <thead>\n",
       "    <tr style=\"text-align: right;\">\n",
       "      <th></th>\n",
       "      <th>High</th>\n",
       "      <th>Low</th>\n",
       "      <th>Open</th>\n",
       "      <th>Volume</th>\n",
       "    </tr>\n",
       "  </thead>\n",
       "  <tbody>\n",
       "    <tr>\n",
       "      <th>0</th>\n",
       "      <td>520.127686</td>\n",
       "      <td>507.208801</td>\n",
       "      <td>519.918884</td>\n",
       "      <td>1683800.0</td>\n",
       "    </tr>\n",
       "    <tr>\n",
       "      <th>1</th>\n",
       "      <td>508.292847</td>\n",
       "      <td>498.456970</td>\n",
       "      <td>508.203339</td>\n",
       "      <td>4186400.0</td>\n",
       "    </tr>\n",
       "    <tr>\n",
       "      <th>2</th>\n",
       "      <td>536.915344</td>\n",
       "      <td>512.698608</td>\n",
       "      <td>513.036743</td>\n",
       "      <td>5606400.0</td>\n",
       "    </tr>\n",
       "    <tr>\n",
       "      <th>3</th>\n",
       "      <td>530.082947</td>\n",
       "      <td>515.712036</td>\n",
       "      <td>528.819885</td>\n",
       "      <td>2849800.0</td>\n",
       "    </tr>\n",
       "    <tr>\n",
       "      <th>4</th>\n",
       "      <td>530.480713</td>\n",
       "      <td>520.396240</td>\n",
       "      <td>525.110291</td>\n",
       "      <td>2034800.0</td>\n",
       "    </tr>\n",
       "  </tbody>\n",
       "</table>\n",
       "</div>"
      ],
      "text/plain": [
       "         High         Low        Open     Volume\n",
       "0  520.127686  507.208801  519.918884  1683800.0\n",
       "1  508.292847  498.456970  508.203339  4186400.0\n",
       "2  536.915344  512.698608  513.036743  5606400.0\n",
       "3  530.082947  515.712036  528.819885  2849800.0\n",
       "4  530.480713  520.396240  525.110291  2034800.0"
      ]
     },
     "execution_count": 8,
     "metadata": {},
     "output_type": "execute_result"
    }
   ],
   "source": [
    "Xtrain.head()"
   ]
  },
  {
   "cell_type": "code",
   "execution_count": 9,
   "metadata": {},
   "outputs": [
    {
     "data": {
      "text/plain": [
       "0    507.865204\n",
       "1    531.594604\n",
       "2    525.587646\n",
       "3    526.343506\n",
       "4    519.898987\n",
       "Name: Adj Close, dtype: float64"
      ]
     },
     "execution_count": 9,
     "metadata": {},
     "output_type": "execute_result"
    }
   ],
   "source": [
    "ytrain.head()"
   ]
  },
  {
   "cell_type": "code",
   "execution_count": 10,
   "metadata": {},
   "outputs": [],
   "source": [
    "model = xgb.XGBRegressor(max_depth=7,\n",
    "    learning_rate=0.01,\n",
    "    n_estimators=600,\n",
    "    silent=True,\n",
    "    objective='reg:squarederror',\n",
    "    booster='gbtree',\n",
    "    n_jobs=1,\n",
    "    nthread=None,\n",
    "    gamma=0,\n",
    "    min_child_weight=1,\n",
    "    max_delta_step=0,\n",
    "    subsample=0.75,\n",
    "    colsample_bytree=1,\n",
    "    colsample_bylevel=1,\n",
    "    reg_alpha=0,\n",
    "    reg_lambda=1,\n",
    "    scale_pos_weight=1,\n",
    "    base_score=0.5,\n",
    "    random_state=0,\n",
    "    seed=None,\n",
    "    missing=None,\n",
    "    importance_type='gain',\n",
    "    disable_default_eval_metric=1) # gbtree dart \n",
    "# objective : reg:logistic"
   ]
  },
  {
   "cell_type": "markdown",
   "metadata": {},
   "source": [
    "objective [default=reg:squarederror]\n",
    "reg:squarederror: regression with squared loss\n",
    "reg:logistic: logistic regression\n",
    "binary:logistic: logistic regression for binary classification, output probability\n",
    "binary:logitraw: logistic regression for binary classification, output score before logistic transformation\n",
    "binary:hinge: hinge loss for binary classification. This makes predictions of 0 or 1, rather than producing probabilities.\n",
    "count:poisson –poisson regression for count data, output mean of poisson distribution\n",
    "max_delta_step is set to 0.7 by default in poisson regression (used to safeguard optimization)\n",
    "survival:cox: Cox regression for right censored survival time data (negative values are considered right censored). Note that predictions are returned on the hazard ratio scale (i.e., as HR = exp(marginal_prediction) in the proportional hazard function h(t) = h0(t) * HR).\n",
    "multi:softmax: set XGBoost to do multiclass classification using the softmax objective, you also need to set num_class(number of classes)\n",
    "multi:softprob: same as softmax, but output a vector of ndata * nclass, which can be further reshaped to ndata * nclass matrix. The result contains predicted probability of each data point belonging to each class.\n",
    "rank:pairwise: Use LambdaMART to perform pairwise ranking where the pairwise loss is minimized\n",
    "rank:ndcg: Use LambdaMART to perform list-wise ranking where Normalized Discounted Cumulative Gain (NDCG) is maximized\n",
    "rank:map: Use LambdaMART to perform list-wise ranking where Mean Average Precision (MAP) is maximized\n",
    "reg:gamma: gamma regression with log-link. Output is a mean of gamma distribution. It might be useful, e.g., for modeling insurance claims severity, or for any outcome that might be gamma-distributed.\n",
    "reg:tweedie: Tweedie regression with log-link. It might be useful, e.g., for modeling total loss in insurance, or for any outcome that might be Tweedie-distributed.\n",
    "base_score [default=0.5]\n",
    "The initial prediction score of all instances, global bias\n",
    "For sufficient number of iterations, changing this value will not have too much effect.\n",
    "eval_metric [default according to objective]\n",
    "Evaluation metrics for validation data, a default metric will be assigned according to objective (rmse for regression, and error for classification, mean average precision for ranking)\n",
    "User can add multiple evaluation metrics. Python users: remember to pass the metrics in as list of parameters pairs instead of map, so that latter eval_metric won’t override previous one\n",
    "The choices are listed below:\n",
    "rmse: root mean square error\n",
    "mae: mean absolute error\n",
    "logloss: negative log-likelihood\n",
    "error: Binary classification error rate. It is calculated as #(wrong cases)/#(all cases). For the predictions, the evaluation will regard the instances with prediction value larger than 0.5 as positive instances, and the others as negative instances.\n",
    "error@t: a different than 0.5 binary classification threshold value could be specified by providing a numerical value through ‘t’.\n",
    "merror: Multiclass classification error rate. It is calculated as #(wrong cases)/#(all cases).\n",
    "mlogloss: Multiclass logloss.\n",
    "auc: Area under the curve\n",
    "aucpr: Area under the PR curve\n",
    "ndcg: Normalized Discounted Cumulative Gain\n",
    "map: Mean Average Precision\n",
    "ndcg@n, map@n: ‘n’ can be assigned as an integer to cut off the top positions in the lists for evaluation.\n",
    "ndcg-, map-, ndcg@n-, map@n-: In XGBoost, NDCG and MAP will evaluate the score of a list without any positive samples as 1. By adding “-” in the evaluation metric XGBoost will evaluate these score as 0 to be consistent under some conditions.\n",
    "poisson-nloglik: negative log-likelihood for Poisson regression\n",
    "gamma-nloglik: negative log-likelihood for gamma regression\n",
    "cox-nloglik: negative partial log-likelihood for Cox proportional hazards regression\n",
    "gamma-deviance: residual deviance for gamma regression\n",
    "tweedie-nloglik: negative log-likelihood for Tweedie regression (at a specified value of the tweedie_variance_power parameter)\n",
    "seed [default=0]\n",
    "Random number seed."
   ]
  },
  {
   "cell_type": "code",
   "execution_count": 11,
   "metadata": {},
   "outputs": [
    {
     "name": "stderr",
     "output_type": "stream",
     "text": [
      "/Users/YTsBaCh/Applications/anaconda3/envs/LumberJack/lib/python3.6/site-packages/xgboost/core.py:587: FutureWarning: Series.base is deprecated and will be removed in a future version\n",
      "  if getattr(data, 'base', None) is not None and \\\n",
      "/Users/YTsBaCh/Applications/anaconda3/envs/LumberJack/lib/python3.6/site-packages/xgboost/core.py:588: FutureWarning: Series.base is deprecated and will be removed in a future version\n",
      "  data.base is not None and isinstance(data, np.ndarray) \\\n"
     ]
    },
    {
     "ename": "IndexError",
     "evalue": "list index out of range",
     "output_type": "error",
     "traceback": [
      "\u001b[0;31m---------------------------------------------------------------------------\u001b[0m",
      "\u001b[0;31mIndexError\u001b[0m                                Traceback (most recent call last)",
      "\u001b[0;32m<ipython-input-11-7739a9c1f025>\u001b[0m in \u001b[0;36m<module>\u001b[0;34m\u001b[0m\n\u001b[0;32m----> 1\u001b[0;31m \u001b[0mmodel\u001b[0m\u001b[0;34m.\u001b[0m\u001b[0mfit\u001b[0m\u001b[0;34m(\u001b[0m\u001b[0mX\u001b[0m\u001b[0;34m=\u001b[0m\u001b[0mXtrain\u001b[0m\u001b[0;34m,\u001b[0m \u001b[0my\u001b[0m\u001b[0;34m=\u001b[0m\u001b[0mytrain\u001b[0m\u001b[0;34m,\u001b[0m\u001b[0mearly_stopping_rounds\u001b[0m\u001b[0;34m=\u001b[0m\u001b[0;36m5\u001b[0m\u001b[0;34m,\u001b[0m \u001b[0mverbose\u001b[0m\u001b[0;34m=\u001b[0m\u001b[0;36m1\u001b[0m\u001b[0;34m)\u001b[0m\u001b[0;34m\u001b[0m\u001b[0;34m\u001b[0m\u001b[0m\n\u001b[0m",
      "\u001b[0;32m~/Applications/anaconda3/envs/LumberJack/lib/python3.6/site-packages/xgboost/sklearn.py\u001b[0m in \u001b[0;36mfit\u001b[0;34m(self, X, y, sample_weight, eval_set, eval_metric, early_stopping_rounds, verbose, xgb_model, sample_weight_eval_set, callbacks)\u001b[0m\n\u001b[1;32m    394\u001b[0m                               \u001b[0mevals_result\u001b[0m\u001b[0;34m=\u001b[0m\u001b[0mevals_result\u001b[0m\u001b[0;34m,\u001b[0m \u001b[0mobj\u001b[0m\u001b[0;34m=\u001b[0m\u001b[0mobj\u001b[0m\u001b[0;34m,\u001b[0m \u001b[0mfeval\u001b[0m\u001b[0;34m=\u001b[0m\u001b[0mfeval\u001b[0m\u001b[0;34m,\u001b[0m\u001b[0;34m\u001b[0m\u001b[0;34m\u001b[0m\u001b[0m\n\u001b[1;32m    395\u001b[0m                               \u001b[0mverbose_eval\u001b[0m\u001b[0;34m=\u001b[0m\u001b[0mverbose\u001b[0m\u001b[0;34m,\u001b[0m \u001b[0mxgb_model\u001b[0m\u001b[0;34m=\u001b[0m\u001b[0mxgb_model\u001b[0m\u001b[0;34m,\u001b[0m\u001b[0;34m\u001b[0m\u001b[0;34m\u001b[0m\u001b[0m\n\u001b[0;32m--> 396\u001b[0;31m                               callbacks=callbacks)\n\u001b[0m\u001b[1;32m    397\u001b[0m \u001b[0;34m\u001b[0m\u001b[0m\n\u001b[1;32m    398\u001b[0m         \u001b[0;32mif\u001b[0m \u001b[0mevals_result\u001b[0m\u001b[0;34m:\u001b[0m\u001b[0;34m\u001b[0m\u001b[0;34m\u001b[0m\u001b[0m\n",
      "\u001b[0;32m~/Applications/anaconda3/envs/LumberJack/lib/python3.6/site-packages/xgboost/training.py\u001b[0m in \u001b[0;36mtrain\u001b[0;34m(params, dtrain, num_boost_round, evals, obj, feval, maximize, early_stopping_rounds, evals_result, verbose_eval, xgb_model, callbacks, learning_rates)\u001b[0m\n\u001b[1;32m    214\u001b[0m                            \u001b[0mevals\u001b[0m\u001b[0;34m=\u001b[0m\u001b[0mevals\u001b[0m\u001b[0;34m,\u001b[0m\u001b[0;34m\u001b[0m\u001b[0;34m\u001b[0m\u001b[0m\n\u001b[1;32m    215\u001b[0m                            \u001b[0mobj\u001b[0m\u001b[0;34m=\u001b[0m\u001b[0mobj\u001b[0m\u001b[0;34m,\u001b[0m \u001b[0mfeval\u001b[0m\u001b[0;34m=\u001b[0m\u001b[0mfeval\u001b[0m\u001b[0;34m,\u001b[0m\u001b[0;34m\u001b[0m\u001b[0;34m\u001b[0m\u001b[0m\n\u001b[0;32m--> 216\u001b[0;31m                            xgb_model=xgb_model, callbacks=callbacks)\n\u001b[0m\u001b[1;32m    217\u001b[0m \u001b[0;34m\u001b[0m\u001b[0m\n\u001b[1;32m    218\u001b[0m \u001b[0;34m\u001b[0m\u001b[0m\n",
      "\u001b[0;32m~/Applications/anaconda3/envs/LumberJack/lib/python3.6/site-packages/xgboost/training.py\u001b[0m in \u001b[0;36m_train_internal\u001b[0;34m(params, dtrain, num_boost_round, evals, obj, feval, xgb_model, callbacks)\u001b[0m\n\u001b[1;32m     97\u001b[0m                                \u001b[0mend_iteration\u001b[0m\u001b[0;34m=\u001b[0m\u001b[0mnum_boost_round\u001b[0m\u001b[0;34m,\u001b[0m\u001b[0;34m\u001b[0m\u001b[0;34m\u001b[0m\u001b[0m\n\u001b[1;32m     98\u001b[0m                                \u001b[0mrank\u001b[0m\u001b[0;34m=\u001b[0m\u001b[0mrank\u001b[0m\u001b[0;34m,\u001b[0m\u001b[0;34m\u001b[0m\u001b[0;34m\u001b[0m\u001b[0m\n\u001b[0;32m---> 99\u001b[0;31m                                evaluation_result_list=evaluation_result_list))\n\u001b[0m\u001b[1;32m    100\u001b[0m         \u001b[0;32mexcept\u001b[0m \u001b[0mEarlyStopException\u001b[0m\u001b[0;34m:\u001b[0m\u001b[0;34m\u001b[0m\u001b[0;34m\u001b[0m\u001b[0m\n\u001b[1;32m    101\u001b[0m             \u001b[0;32mbreak\u001b[0m\u001b[0;34m\u001b[0m\u001b[0;34m\u001b[0m\u001b[0m\n",
      "\u001b[0;32m~/Applications/anaconda3/envs/LumberJack/lib/python3.6/site-packages/xgboost/callback.py\u001b[0m in \u001b[0;36mcallback\u001b[0;34m(env)\u001b[0m\n\u001b[1;32m    223\u001b[0m     \u001b[0;32mdef\u001b[0m \u001b[0mcallback\u001b[0m\u001b[0;34m(\u001b[0m\u001b[0menv\u001b[0m\u001b[0;34m)\u001b[0m\u001b[0;34m:\u001b[0m\u001b[0;34m\u001b[0m\u001b[0;34m\u001b[0m\u001b[0m\n\u001b[1;32m    224\u001b[0m         \u001b[0;34m\"\"\"internal function\"\"\"\u001b[0m\u001b[0;34m\u001b[0m\u001b[0;34m\u001b[0m\u001b[0m\n\u001b[0;32m--> 225\u001b[0;31m         \u001b[0mscore\u001b[0m \u001b[0;34m=\u001b[0m \u001b[0menv\u001b[0m\u001b[0;34m.\u001b[0m\u001b[0mevaluation_result_list\u001b[0m\u001b[0;34m[\u001b[0m\u001b[0;34m-\u001b[0m\u001b[0;36m1\u001b[0m\u001b[0;34m]\u001b[0m\u001b[0;34m[\u001b[0m\u001b[0;36m1\u001b[0m\u001b[0;34m]\u001b[0m\u001b[0;34m\u001b[0m\u001b[0;34m\u001b[0m\u001b[0m\n\u001b[0m\u001b[1;32m    226\u001b[0m         \u001b[0;32mif\u001b[0m \u001b[0;32mnot\u001b[0m \u001b[0mstate\u001b[0m\u001b[0;34m:\u001b[0m\u001b[0;34m\u001b[0m\u001b[0;34m\u001b[0m\u001b[0m\n\u001b[1;32m    227\u001b[0m             \u001b[0minit\u001b[0m\u001b[0;34m(\u001b[0m\u001b[0menv\u001b[0m\u001b[0;34m)\u001b[0m\u001b[0;34m\u001b[0m\u001b[0;34m\u001b[0m\u001b[0m\n",
      "\u001b[0;31mIndexError\u001b[0m: list index out of range"
     ]
    }
   ],
   "source": [
    "model.fit(X=Xtrain, y=ytrain,early_stopping_rounds=5, verbose=1)"
   ]
  },
  {
   "cell_type": "code",
   "execution_count": 95,
   "metadata": {},
   "outputs": [
    {
     "ename": "XGBoostError",
     "evalue": "need to call fit or load_model beforehand",
     "output_type": "error",
     "traceback": [
      "\u001b[0;31m---------------------------------------------------------------------------\u001b[0m",
      "\u001b[0;31mXGBoostError\u001b[0m                              Traceback (most recent call last)",
      "\u001b[0;32m<ipython-input-95-9823975261cc>\u001b[0m in \u001b[0;36m<module>\u001b[0;34m\u001b[0m\n\u001b[0;32m----> 1\u001b[0;31m \u001b[0mytrain_pred\u001b[0m \u001b[0;34m=\u001b[0m \u001b[0mmodel\u001b[0m\u001b[0;34m.\u001b[0m\u001b[0mpredict\u001b[0m\u001b[0;34m(\u001b[0m\u001b[0mXtrain\u001b[0m\u001b[0;34m)\u001b[0m\u001b[0;34m\u001b[0m\u001b[0;34m\u001b[0m\u001b[0m\n\u001b[0m\u001b[1;32m      2\u001b[0m \u001b[0my_pred\u001b[0m \u001b[0;34m=\u001b[0m \u001b[0mmodel\u001b[0m\u001b[0;34m.\u001b[0m\u001b[0mpredict\u001b[0m\u001b[0;34m(\u001b[0m\u001b[0mXtest\u001b[0m\u001b[0;34m)\u001b[0m\u001b[0;34m\u001b[0m\u001b[0;34m\u001b[0m\u001b[0m\n\u001b[1;32m      3\u001b[0m \u001b[0;34m\u001b[0m\u001b[0m\n\u001b[1;32m      4\u001b[0m \u001b[0mprint\u001b[0m\u001b[0;34m(\u001b[0m\u001b[0;34m'Train r2 score: '\u001b[0m\u001b[0;34m,\u001b[0m \u001b[0mr2_score\u001b[0m\u001b[0;34m(\u001b[0m\u001b[0mytrain_pred\u001b[0m\u001b[0;34m,\u001b[0m \u001b[0mytrain\u001b[0m\u001b[0;34m)\u001b[0m\u001b[0;34m)\u001b[0m\u001b[0;34m\u001b[0m\u001b[0;34m\u001b[0m\u001b[0m\n\u001b[1;32m      5\u001b[0m \u001b[0mprint\u001b[0m\u001b[0;34m(\u001b[0m\u001b[0;34m'Test r2 score: '\u001b[0m\u001b[0;34m,\u001b[0m \u001b[0mr2_score\u001b[0m\u001b[0;34m(\u001b[0m\u001b[0mytest\u001b[0m\u001b[0;34m,\u001b[0m \u001b[0my_pred\u001b[0m\u001b[0;34m)\u001b[0m\u001b[0;34m)\u001b[0m\u001b[0;34m\u001b[0m\u001b[0;34m\u001b[0m\u001b[0m\n",
      "\u001b[0;32m~/Applications/anaconda3/envs/LumberJack/lib/python3.6/site-packages/xgboost/sklearn.py\u001b[0m in \u001b[0;36mpredict\u001b[0;34m(self, data, output_margin, ntree_limit, validate_features)\u001b[0m\n\u001b[1;32m    433\u001b[0m         \u001b[0;32mif\u001b[0m \u001b[0mntree_limit\u001b[0m \u001b[0;32mis\u001b[0m \u001b[0;32mNone\u001b[0m\u001b[0;34m:\u001b[0m\u001b[0;34m\u001b[0m\u001b[0;34m\u001b[0m\u001b[0m\n\u001b[1;32m    434\u001b[0m             \u001b[0mntree_limit\u001b[0m \u001b[0;34m=\u001b[0m \u001b[0mgetattr\u001b[0m\u001b[0;34m(\u001b[0m\u001b[0mself\u001b[0m\u001b[0;34m,\u001b[0m \u001b[0;34m\"best_ntree_limit\"\u001b[0m\u001b[0;34m,\u001b[0m \u001b[0;36m0\u001b[0m\u001b[0;34m)\u001b[0m\u001b[0;34m\u001b[0m\u001b[0;34m\u001b[0m\u001b[0m\n\u001b[0;32m--> 435\u001b[0;31m         return self.get_booster().predict(test_dmatrix,\n\u001b[0m\u001b[1;32m    436\u001b[0m                                           \u001b[0moutput_margin\u001b[0m\u001b[0;34m=\u001b[0m\u001b[0moutput_margin\u001b[0m\u001b[0;34m,\u001b[0m\u001b[0;34m\u001b[0m\u001b[0;34m\u001b[0m\u001b[0m\n\u001b[1;32m    437\u001b[0m                                           \u001b[0mntree_limit\u001b[0m\u001b[0;34m=\u001b[0m\u001b[0mntree_limit\u001b[0m\u001b[0;34m,\u001b[0m\u001b[0;34m\u001b[0m\u001b[0;34m\u001b[0m\u001b[0m\n",
      "\u001b[0;32m~/Applications/anaconda3/envs/LumberJack/lib/python3.6/site-packages/xgboost/sklearn.py\u001b[0m in \u001b[0;36mget_booster\u001b[0;34m(self)\u001b[0m\n\u001b[1;32m    185\u001b[0m         \"\"\"\n\u001b[1;32m    186\u001b[0m         \u001b[0;32mif\u001b[0m \u001b[0mself\u001b[0m\u001b[0;34m.\u001b[0m\u001b[0m_Booster\u001b[0m \u001b[0;32mis\u001b[0m \u001b[0;32mNone\u001b[0m\u001b[0;34m:\u001b[0m\u001b[0;34m\u001b[0m\u001b[0;34m\u001b[0m\u001b[0m\n\u001b[0;32m--> 187\u001b[0;31m             \u001b[0;32mraise\u001b[0m \u001b[0mXGBoostError\u001b[0m\u001b[0;34m(\u001b[0m\u001b[0;34m'need to call fit or load_model beforehand'\u001b[0m\u001b[0;34m)\u001b[0m\u001b[0;34m\u001b[0m\u001b[0;34m\u001b[0m\u001b[0m\n\u001b[0m\u001b[1;32m    188\u001b[0m         \u001b[0;32mreturn\u001b[0m \u001b[0mself\u001b[0m\u001b[0;34m.\u001b[0m\u001b[0m_Booster\u001b[0m\u001b[0;34m\u001b[0m\u001b[0;34m\u001b[0m\u001b[0m\n\u001b[1;32m    189\u001b[0m \u001b[0;34m\u001b[0m\u001b[0m\n",
      "\u001b[0;31mXGBoostError\u001b[0m: need to call fit or load_model beforehand"
     ]
    }
   ],
   "source": [
    "ytrain_pred = model.predict(Xtrain)\n",
    "y_pred = model.predict(Xtest)\n",
    "\n",
    "print('Train r2 score: ', r2_score(ytrain_pred, ytrain))\n",
    "print('Test r2 score: ', r2_score(ytest, y_pred))\n",
    "train_mse = mean_squared_error(ytrain_pred, ytrain)\n",
    "test_mse = mean_squared_error(y_pred, ytest)\n",
    "train_rmse = np.sqrt(train_mse)\n",
    "test_rmse = np.sqrt(test_mse)\n",
    "print('Train RMSE: %.4f' % train_rmse)\n",
    "print('Test RMSE: %.4f' % test_rmse)"
   ]
  },
  {
   "cell_type": "code",
   "execution_count": 37,
   "metadata": {},
   "outputs": [
    {
     "data": {
      "text/plain": [
       "OrderedDict([('ema5_eurusd', 654),\n",
       "             ('rsi_eurusd', 341),\n",
       "             ('hl_eurusd', 247),\n",
       "             ('oc_eurusd', 193),\n",
       "             ('eurusd_close', 146),\n",
       "             ('eurusd_Dhl', 136),\n",
       "             ('eurusd_Doc', 115),\n",
       "             ('ema21_eurusd', 88)])"
      ]
     },
     "execution_count": 37,
     "metadata": {},
     "output_type": "execute_result"
    }
   ],
   "source": [
    "from collections import OrderedDict\n",
    "OrderedDict(sorted(model.get_booster().get_fscore().items(), key=lambda t: t[1], reverse=True))"
   ]
  },
  {
   "cell_type": "code",
   "execution_count": 38,
   "metadata": {},
   "outputs": [
    {
     "name": "stdout",
     "output_type": "stream",
     "text": [
      "['ema5_eurusd', 'ema21_eurusd', 'rsi_eurusd', 'eurusd_close', 'oc_eurusd', 'hl_eurusd', 'eurusd_Dhl', 'eurusd_Doc']\n"
     ]
    }
   ],
   "source": [
    "most_relevant_features= list( dict((k, v) for k, v in model.get_booster().get_fscore().items() if v >= 4).keys())\n",
    "print(most_relevant_features)"
   ]
  },
  {
   "cell_type": "markdown",
   "metadata": {},
   "source": [
    "train_x=df[most_relevant_features]\n",
    "train_y=df['EURUSD']\n",
    "X_train, X_test, y_train, y_test  = train_test_split(train_x, train_y, test_size = 0.2, random_state = 0)"
   ]
  },
  {
   "cell_type": "code",
   "execution_count": 40,
   "metadata": {},
   "outputs": [],
   "source": [
    "tip = df['EURUSD'].iloc[-4892:]"
   ]
  },
  {
   "cell_type": "code",
   "execution_count": 41,
   "metadata": {},
   "outputs": [
    {
     "data": {
      "text/plain": [
       "<matplotlib.legend.Legend at 0x1a241b3dd8>"
      ]
     },
     "execution_count": 41,
     "metadata": {},
     "output_type": "execute_result"
    },
    {
     "data": {
      "image/png": "[encoded data removed]",
      "text/plain": [
       "<Figure size 1152x432 with 1 Axes>"
      ]
     },
     "metadata": {
      "needs_background": "light"
     },
     "output_type": "display_data"
    }
   ],
   "source": [
    "plt.figure(figsize=(16,6))\n",
    "plt.plot(y_pred,label = 'Prediction')\n",
    "plt.plot(tip,label = 'Actual')\n",
    "plt.legend()"
   ]
  },
  {
   "cell_type": "code",
   "execution_count": null,
   "metadata": {},
   "outputs": [],
   "source": []
  },
  {
   "cell_type": "code",
   "execution_count": null,
   "metadata": {},
   "outputs": [],
   "source": []
  },
  {
   "cell_type": "code",
   "execution_count": null,
   "metadata": {},
   "outputs": [],
   "source": []
  },
  {
   "cell_type": "code",
   "execution_count": null,
   "metadata": {},
   "outputs": [],
   "source": []
  },
  {
   "cell_type": "code",
   "execution_count": null,
   "metadata": {},
   "outputs": [],
   "source": []
  },
  {
   "cell_type": "code",
   "execution_count": null,
   "metadata": {},
   "outputs": [],
   "source": []
  },
  {
   "cell_type": "code",
   "execution_count": null,
   "metadata": {},
   "outputs": [],
   "source": []
  },
  {
   "cell_type": "code",
   "execution_count": null,
   "metadata": {},
   "outputs": [],
   "source": []
  },
  {
   "cell_type": "code",
   "execution_count": 272,
   "metadata": {},
   "outputs": [
    {
     "data": {
      "text/html": [
       "<div>\n",
       "<style scoped>\n",
       "    .dataframe tbody tr th:only-of-type {\n",
       "        vertical-align: middle;\n",
       "    }\n",
       "\n",
       "    .dataframe tbody tr th {\n",
       "        vertical-align: top;\n",
       "    }\n",
       "\n",
       "    .dataframe thead th {\n",
       "        text-align: right;\n",
       "    }\n",
       "</style>\n",
       "<table border=\"1\" class=\"dataframe\">\n",
       "  <thead>\n",
       "    <tr style=\"text-align: right;\">\n",
       "      <th></th>\n",
       "      <th>Close_eurusd</th>\n",
       "      <th>long</th>\n",
       "      <th>short</th>\n",
       "    </tr>\n",
       "    <tr>\n",
       "      <th>Date</th>\n",
       "      <th></th>\n",
       "      <th></th>\n",
       "      <th></th>\n",
       "    </tr>\n",
       "  </thead>\n",
       "  <tbody>\n",
       "    <tr>\n",
       "      <th>20190221  11:00:00</th>\n",
       "      <td>1.133405</td>\n",
       "      <td>0</td>\n",
       "      <td>0</td>\n",
       "    </tr>\n",
       "    <tr>\n",
       "      <th>20190221  11:15:00</th>\n",
       "      <td>1.133390</td>\n",
       "      <td>1</td>\n",
       "      <td>0</td>\n",
       "    </tr>\n",
       "    <tr>\n",
       "      <th>20190221  11:30:00</th>\n",
       "      <td>1.133845</td>\n",
       "      <td>0</td>\n",
       "      <td>0</td>\n",
       "    </tr>\n",
       "    <tr>\n",
       "      <th>20190221  11:45:00</th>\n",
       "      <td>1.134440</td>\n",
       "      <td>1</td>\n",
       "      <td>0</td>\n",
       "    </tr>\n",
       "    <tr>\n",
       "      <th>20190221  12:00:00</th>\n",
       "      <td>1.134775</td>\n",
       "      <td>1</td>\n",
       "      <td>0</td>\n",
       "    </tr>\n",
       "  </tbody>\n",
       "</table>\n",
       "</div>"
      ],
      "text/plain": [
       "                    Close_eurusd  long  short\n",
       "Date                                         \n",
       "20190221  11:00:00      1.133405     0      0\n",
       "20190221  11:15:00      1.133390     1      0\n",
       "20190221  11:30:00      1.133845     0      0\n",
       "20190221  11:45:00      1.134440     1      0\n",
       "20190221  12:00:00      1.134775     1      0"
      ]
     },
     "execution_count": 272,
     "metadata": {},
     "output_type": "execute_result"
    }
   ],
   "source": [
    "backtest = pd.DataFrame()\n",
    "backtest['Close_eurusd'] = df.iloc[-4890:,8]\n",
    "backtest['long'] = predictions_long\n",
    "backtest['short'] = predictions_short\n",
    "backtest.head()"
   ]
  },
  {
   "cell_type": "code",
   "execution_count": 273,
   "metadata": {},
   "outputs": [
    {
     "data": {
      "text/html": [
       "<div>\n",
       "<style scoped>\n",
       "    .dataframe tbody tr th:only-of-type {\n",
       "        vertical-align: middle;\n",
       "    }\n",
       "\n",
       "    .dataframe tbody tr th {\n",
       "        vertical-align: top;\n",
       "    }\n",
       "\n",
       "    .dataframe thead th {\n",
       "        text-align: right;\n",
       "    }\n",
       "</style>\n",
       "<table border=\"1\" class=\"dataframe\">\n",
       "  <thead>\n",
       "    <tr style=\"text-align: right;\">\n",
       "      <th></th>\n",
       "      <th>Close_eurusd</th>\n",
       "      <th>long</th>\n",
       "      <th>short</th>\n",
       "    </tr>\n",
       "    <tr>\n",
       "      <th>Date</th>\n",
       "      <th></th>\n",
       "      <th></th>\n",
       "      <th></th>\n",
       "    </tr>\n",
       "  </thead>\n",
       "  <tbody>\n",
       "    <tr>\n",
       "      <th>20190221  11:00:00</th>\n",
       "      <td>1.133405</td>\n",
       "      <td>0</td>\n",
       "      <td>0</td>\n",
       "    </tr>\n",
       "    <tr>\n",
       "      <th>20190221  11:15:00</th>\n",
       "      <td>1.133390</td>\n",
       "      <td>1</td>\n",
       "      <td>0</td>\n",
       "    </tr>\n",
       "    <tr>\n",
       "      <th>20190221  11:30:00</th>\n",
       "      <td>1.133845</td>\n",
       "      <td>0</td>\n",
       "      <td>0</td>\n",
       "    </tr>\n",
       "    <tr>\n",
       "      <th>20190221  11:45:00</th>\n",
       "      <td>1.134440</td>\n",
       "      <td>1</td>\n",
       "      <td>0</td>\n",
       "    </tr>\n",
       "    <tr>\n",
       "      <th>20190221  12:00:00</th>\n",
       "      <td>1.134775</td>\n",
       "      <td>1</td>\n",
       "      <td>0</td>\n",
       "    </tr>\n",
       "  </tbody>\n",
       "</table>\n",
       "</div>"
      ],
      "text/plain": [
       "                    Close_eurusd  long  short\n",
       "Date                                         \n",
       "20190221  11:00:00      1.133405     0      0\n",
       "20190221  11:15:00      1.133390     1      0\n",
       "20190221  11:30:00      1.133845     0      0\n",
       "20190221  11:45:00      1.134440     1      0\n",
       "20190221  12:00:00      1.134775     1      0"
      ]
     },
     "execution_count": 273,
     "metadata": {},
     "output_type": "execute_result"
    }
   ],
   "source": [
    "#backtest = backtest.iloc[bloc1:,:]\n",
    "backtest.head()"
   ]
  },
  {
   "cell_type": "code",
   "execution_count": null,
   "metadata": {},
   "outputs": [],
   "source": []
  },
  {
   "cell_type": "code",
   "execution_count": 274,
   "metadata": {},
   "outputs": [
    {
     "data": {
      "text/plain": [
       "(772, 738)"
      ]
     },
     "execution_count": 274,
     "metadata": {},
     "output_type": "execute_result"
    }
   ],
   "source": [
    "backtest['long'].sum(),backtest['short'].sum()"
   ]
  },
  {
   "cell_type": "code",
   "execution_count": 275,
   "metadata": {},
   "outputs": [
    {
     "data": {
      "text/plain": [
       "(4890, 738, 4890, 4890.0, 4890, 772, 4890, 4889.9995)"
      ]
     },
     "execution_count": 275,
     "metadata": {},
     "output_type": "execute_result"
    }
   ],
   "source": [
    "len(predictions_short),predictions_short.sum(),len(prediction_short),prediction_short.sum(),len(predictions_long),predictions_long.sum(),len(prediction_long),prediction_long.sum()"
   ]
  },
  {
   "cell_type": "code",
   "execution_count": 276,
   "metadata": {},
   "outputs": [
    {
     "data": {
      "text/plain": [
       "(4890, 3)"
      ]
     },
     "execution_count": 276,
     "metadata": {},
     "output_type": "execute_result"
    }
   ],
   "source": [
    "backtest.shape"
   ]
  },
  {
   "cell_type": "code",
   "execution_count": 277,
   "metadata": {},
   "outputs": [],
   "source": [
    "#backtest = backtest.iloc[4800:,:]"
   ]
  },
  {
   "cell_type": "code",
   "execution_count": 278,
   "metadata": {},
   "outputs": [
    {
     "data": {
      "text/html": [
       "<div>\n",
       "<style scoped>\n",
       "    .dataframe tbody tr th:only-of-type {\n",
       "        vertical-align: middle;\n",
       "    }\n",
       "\n",
       "    .dataframe tbody tr th {\n",
       "        vertical-align: top;\n",
       "    }\n",
       "\n",
       "    .dataframe thead th {\n",
       "        text-align: right;\n",
       "    }\n",
       "</style>\n",
       "<table border=\"1\" class=\"dataframe\">\n",
       "  <thead>\n",
       "    <tr style=\"text-align: right;\">\n",
       "      <th></th>\n",
       "      <th>Close_eurusd</th>\n",
       "      <th>long</th>\n",
       "      <th>short</th>\n",
       "    </tr>\n",
       "    <tr>\n",
       "      <th>Date</th>\n",
       "      <th></th>\n",
       "      <th></th>\n",
       "      <th></th>\n",
       "    </tr>\n",
       "  </thead>\n",
       "  <tbody>\n",
       "    <tr>\n",
       "      <th>20190221  11:00:00</th>\n",
       "      <td>1.133405</td>\n",
       "      <td>0</td>\n",
       "      <td>0</td>\n",
       "    </tr>\n",
       "    <tr>\n",
       "      <th>20190221  11:15:00</th>\n",
       "      <td>1.133390</td>\n",
       "      <td>1</td>\n",
       "      <td>0</td>\n",
       "    </tr>\n",
       "    <tr>\n",
       "      <th>20190221  11:30:00</th>\n",
       "      <td>1.133845</td>\n",
       "      <td>0</td>\n",
       "      <td>0</td>\n",
       "    </tr>\n",
       "    <tr>\n",
       "      <th>20190221  11:45:00</th>\n",
       "      <td>1.134440</td>\n",
       "      <td>1</td>\n",
       "      <td>0</td>\n",
       "    </tr>\n",
       "    <tr>\n",
       "      <th>20190221  12:00:00</th>\n",
       "      <td>1.134775</td>\n",
       "      <td>1</td>\n",
       "      <td>0</td>\n",
       "    </tr>\n",
       "  </tbody>\n",
       "</table>\n",
       "</div>"
      ],
      "text/plain": [
       "                    Close_eurusd  long  short\n",
       "Date                                         \n",
       "20190221  11:00:00      1.133405     0      0\n",
       "20190221  11:15:00      1.133390     1      0\n",
       "20190221  11:30:00      1.133845     0      0\n",
       "20190221  11:45:00      1.134440     1      0\n",
       "20190221  12:00:00      1.134775     1      0"
      ]
     },
     "execution_count": 278,
     "metadata": {},
     "output_type": "execute_result"
    }
   ],
   "source": [
    "backtest.head()"
   ]
  },
  {
   "cell_type": "code",
   "execution_count": 279,
   "metadata": {},
   "outputs": [
    {
     "data": {
      "text/plain": [
       "(772, 738)"
      ]
     },
     "execution_count": 279,
     "metadata": {},
     "output_type": "execute_result"
    }
   ],
   "source": [
    "backtest['long'].sum(),backtest['short'].sum()"
   ]
  },
  {
   "cell_type": "code",
   "execution_count": 281,
   "metadata": {},
   "outputs": [
    {
     "name": "stdout",
     "output_type": "stream",
     "text": [
      "Boucle de backtest initiée!\n",
      "Boucle terminée\n",
      "\n",
      "\u001b[95m \u001b[1m Les gains faramineux s'élèvent à : $ 1547.0 !. En  39  transactions.\n"
     ]
    }
   ],
   "source": [
    "long_pos = 0\n",
    "short_pos = 0\n",
    "equity = 100000\n",
    "price_buy_long = 0\n",
    "price_buy_short = 0\n",
    "equity_list = []\n",
    "nb_transaction = 0\n",
    "col_profit = []\n",
    "max_gain = (0,0)\n",
    "max_loss = (0,0)\n",
    "stop_loss_short = 0.011\n",
    "stop_loss_long = -0.013\n",
    "ticket = 100000\n",
    "target_long = 0.003\n",
    "target_short = -0.003\n",
    "longueur = (backtest.shape[0])-1\n",
    "long_exit = []\n",
    "short_exit = []\n",
    "long_sl = []\n",
    "short_sl = []\n",
    "go_long = []\n",
    "go_short = []\n",
    "lea = 0\n",
    "sea = 0\n",
    "gain_sum = 0\n",
    "loss_sum = 0\n",
    "\n",
    "print(\"Boucle de backtest initiée!\")\n",
    "\n",
    "import sys\n",
    "orig_stdout = sys.stdout\n",
    "f = open('backtestv2_5.txt', 'w')\n",
    "sys.stdout = f\n",
    "\n",
    "for i in range(0,longueur):\n",
    "    \n",
    "    if backtest.iloc[i,1] == 2 and long_pos == 0:\n",
    "        long_pos = 1\n",
    "        nb_transaction += 1\n",
    "        price_buy_long = backtest.iloc[i,0]\n",
    "        equity = equity - 1.5\n",
    "        equity_list.append(equity)\n",
    "        col_profit.append(0)\n",
    "        go_long.append(1)\n",
    "        print('\\n Go Long enclenché le ',backtest.index[i],' pour $',price_buy_long)\n",
    "        print('Nouvel equity :',equity)\n",
    "        \n",
    "    elif backtest.iloc[i,1] == 1 and long_pos == 1 :\n",
    "        equity_list.append(equity)\n",
    "        print('Le',backtest.index[i],', On maintient la position long ouverte')\n",
    "        col_profit.append(0)\n",
    "    \n",
    "    elif backtest.iloc[i,1] == 0 and long_pos == 1:\n",
    "        \n",
    "        if (backtest.iloc[i,0] - price_buy_long) > target_long:\n",
    "            print('\\n close de position long le ',backtest.index[i],' pour $',backtest.iloc[i,0])    \n",
    "            print(\"Le prix d'achat était de \",price_buy_long)\n",
    "            print('variation des deux ', backtest.iloc[i,0] - price_buy_long)\n",
    "            print(' pnl :',(backtest.iloc[i,0] - price_buy_long)*ticket)\n",
    "            equity = equity - 1.5 + ((backtest.iloc[i,0] - price_buy_long) * ticket)\n",
    "            print('Le nouvel equity est de :',equity,'$')\n",
    "            nb_transaction += 1\n",
    "            long_exit.append(1)\n",
    "            col_profit.append(( backtest.iloc[i,0] - price_buy_long) * ticket)\n",
    "            if ((backtest.iloc[i,0] - price_buy_long) * ticket) > max_gain[1]:\n",
    "                max_gain = (i,((backtest.iloc[i,0] - price_buy_long) * ticket))\n",
    "                \n",
    "            #elif ((backtest.iloc[i,0] - price_buy_long) * ticket) < max_loss[1]:\n",
    "             #   max_loss = (i,((backtest.iloc[i,0] - price_buy_long) * ticket))\n",
    "            equity_list.append(equity)\n",
    "            gain_sum = gain_sum + (backtest.iloc[i,0] - price_buy_long)*ticket\n",
    "            long_pos = 0\n",
    "        \n",
    "        elif (backtest.iloc[i,0] - price_buy_long) < stop_loss_long:\n",
    "            equity = equity - 1.5 + ((backtest.iloc[i,0] - price_buy_long) * ticket)\n",
    "            print('\\n sortie stop_loss du long ',backtest.index[i],' pour $',backtest.iloc[i,0])    \n",
    "            print(\"Le prix d'achat était de \",price_buy_long)\n",
    "            print(' pnl :',(backtest.iloc[i,0] - price_buy_long)*ticket)\n",
    "            print('Le nouvel equity est de :',equity,'$')\n",
    "            nb_transaction += 1\n",
    "            long_sl.append(1)\n",
    "            col_profit.append(((backtest.iloc[i,0] - price_buy_long) * ticket))\n",
    "            #if ((backtest.iloc[i,0] - price_buy_long) * ticket) > max_gain[1]:\n",
    "                #max_gain = (i,((backtest.iloc[i,0] - price_buy_long) * ticket))\n",
    "                \n",
    "            if ((backtest.iloc[i,0] - price_buy_long) * ticket)< max_loss[1]:\n",
    "                max_loss = (i,((backtest.iloc[i,0] - price_buy_long) * ticket))\n",
    "            equity_list.append(equity)\n",
    "            long_pos = 0\n",
    "            loss_sum = loss_sum + abs(( backtest.iloc[i,0] - price_buy_long)*ticket)\n",
    "        \n",
    "    elif backtest.iloc[i,1] == 0 and long_pos == 0 :\n",
    "        equity_list.append(equity)\n",
    "        print('Le',backtest.index[i],', il ne se passe rien')\n",
    "        col_profit.append(0)\n",
    "            \n",
    "for i in range(0,longueur):\n",
    "    \n",
    "    if backtest.iloc[i,2] == 1 and short_pos == 0:\n",
    "        short_pos = 1\n",
    "        nb_transaction += 1\n",
    "        price_buy_short = backtest.iloc[i,0]\n",
    "        equity = equity - 1.5\n",
    "        equity_list.append(equity)\n",
    "        col_profit.append(0)\n",
    "        go_short.append(1)\n",
    "        print('\\n Short on le ',backtest.index[i],' pour $',price_buy_short)\n",
    "        print('Le nouvel equity est de :',equity,'$')\n",
    "        \n",
    "    elif backtest.iloc[i,2] == 1 and short_pos == 1 :\n",
    "        equity_list.append(equity)\n",
    "        print('Le',backtest.index[i],', on reste en position Short')\n",
    "        col_profit.append(0)\n",
    "    \n",
    "    elif backtest.iloc[i,2] == 0 and short_pos == 1:\n",
    "        \n",
    "        if (backtest.iloc[i,0] - price_buy_short) < target_short:\n",
    "            print('\\n sortie du position short ',backtest.index[i],' pour $',backtest.iloc[i,0])    \n",
    "            print(\"Le prix d'achat était de \",price_buy_short)\n",
    "            print(' pnl :',( backtest.iloc[i,0] - price_buy_short)*ticket)\n",
    "            equity = equity - 1.5 + abs((backtest.iloc[i,0] - price_buy_short) * ticket)\n",
    "            print('Le nouvel equity est de :',equity,'$')\n",
    "            nb_transaction += 1\n",
    "            short_exit.append(1)\n",
    "            col_profit.append(abs((( backtest.iloc[i,0] - price_buy_short) * ticket)))\n",
    "            if abs((backtest.iloc[i,0] - price_buy_short) * ticket) > max_gain[1]:\n",
    "                max_gain = (i,abs((backtest.iloc[i,0] - price_buy_short) * ticket))\n",
    "                \n",
    "            #elif ((backtest.iloc[i,0] - price_buy_short) * ticket)< max_loss[1]:\n",
    "             #   max_loss = (i,((backtest.iloc[i,0] - price_buy_short) * ticket))\n",
    "            equity_list.append(equity)\n",
    "            short_pos = 0\n",
    "            gain_sum = gain_sum + abs((backtest.iloc[i,0] - price_buy_short) * ticket)\n",
    "        \n",
    "        elif (backtest.iloc[i,0] - price_buy_short) > stop_loss_short:\n",
    "            equity = equity - 1.5 - abs((backtest.iloc[i,0] - price_buy_short)* ticket)\n",
    "            print('\\n sortie stop_loss du short ',backtest.index[i],' pour $',backtest.iloc[i,0])    \n",
    "            print(\"Le prix d'achat était de \",price_buy_short)\n",
    "            print(' pnl :',-(backtest.iloc[i,0] - price_buy_short)*ticket)\n",
    "            print('Le nouvel equity est de :',equity,'$')\n",
    "            nb_transaction += 1\n",
    "            short_sl.append(1)\n",
    "            col_profit.append(-((backtest.iloc[i,0] - price_buy_short) * ticket))\n",
    "            #if ((backtest.iloc[i,0] - price_buy_short) * ticket) > max_gain[1]:\n",
    "             #   max_gain = (i,((backtest.iloc[i,0] - price_buy_short) * ticket))\n",
    "                \n",
    "            if (-(backtest.iloc[i,0] - price_buy_short) * ticket)< max_loss[1]:\n",
    "                max_loss = (i,(-(backtest.iloc[i,0] - price_buy_short) * ticket))\n",
    "            equity_list.append(equity)\n",
    "            short_pos = 0\n",
    "            loss_sum = loss_sum + abs((backtest.iloc[i,0] - price_buy_short) * ticket)\n",
    "        \n",
    "    elif backtest.iloc[i,2] == 0 and short_pos == 0 :\n",
    "        equity_list.append(equity)\n",
    "        print('Le',backtest.index[i],', il ne se passe rien')\n",
    "        col_profit.append(0)    \n",
    "\n",
    "\n",
    "if long_pos == 1 :\n",
    "    print(\"Sortie d'une position long en l'air\")\n",
    "    equity = equity - 1.5 + ((backtest.iloc[longueur,0]- price_buy_long) * ticket)\n",
    "    lea = 1\n",
    "if short_pos == 1 :\n",
    "    print(\"Sortie d'une position short en l'air\")\n",
    "    equity = equity - 1.5 + ((backtest.iloc[longueur,0]- price_buy_short) * ticket)\n",
    "    sea = 1\n",
    "    \n",
    "            \n",
    "print(\"\\n\\033[95m \\033[1m Les gains faramineux s'élèvent à : $\",round(equity-100000),'!. En ',nb_transaction,' transactions.' )\n",
    "f.close()\n",
    "sys.stdout = orig_stdout\n",
    "print('Boucle terminée')\n",
    "print(\"\\n\\033[95m \\033[1m Les gains faramineux s'élèvent à : $\",round(equity-100000),'!. En ',nb_transaction,' transactions.' )\n"
   ]
  },
  {
   "cell_type": "code",
   "execution_count": 169,
   "metadata": {},
   "outputs": [],
   "source": [
    "longueur_long = (backtest.shape[0])-1"
   ]
  },
  {
   "cell_type": "code",
   "execution_count": 170,
   "metadata": {},
   "outputs": [
    {
     "data": {
      "text/plain": [
       "1"
      ]
     },
     "execution_count": 170,
     "metadata": {},
     "output_type": "execute_result"
    }
   ],
   "source": [
    "backtest.iloc[longueur,2]"
   ]
  },
  {
   "cell_type": "code",
   "execution_count": 171,
   "metadata": {},
   "outputs": [
    {
     "data": {
      "text/plain": [
       "(5223, 776, 65, 1610.5000000000437, 769)"
      ]
     },
     "execution_count": 171,
     "metadata": {},
     "output_type": "execute_result"
    }
   ],
   "source": [
    "len(equity_list),backtest['long'].sum(),nb_transaction,equity-100000,backtest['short'].sum()"
   ]
  },
  {
   "cell_type": "markdown",
   "metadata": {},
   "source": [
    "gain_sum = 0\n",
    "loss_sum = 0\n",
    "for i in range(len(col_profit)):\n",
    "    if col_profit[i]>0:\n",
    "        gain_sum+=col_profit[i]\n",
    "    else :\n",
    "        loss_sum+=col_profit[i]\n",
    "        "
   ]
  },
  {
   "cell_type": "code",
   "execution_count": 172,
   "metadata": {},
   "outputs": [
    {
     "data": {
      "text/plain": [
       "(5223, 5223)"
      ]
     },
     "execution_count": 172,
     "metadata": {},
     "output_type": "execute_result"
    }
   ],
   "source": [
    "len(equity_list),len(col_profit)"
   ]
  },
  {
   "cell_type": "code",
   "execution_count": 173,
   "metadata": {},
   "outputs": [],
   "source": [
    "backtest_graph = pd.DataFrame()\n",
    "backtest_graph['equity'] = equity_list\n",
    "backtest_graph['col_profit'] = col_profit\n",
    "#backtest_graph['col_is_win'] = col_is_win\n",
    "#backtest_graph['col_cours'] = col_cours"
   ]
  },
  {
   "cell_type": "code",
   "execution_count": 174,
   "metadata": {},
   "outputs": [
    {
     "data": {
      "text/plain": [
       "<matplotlib.legend.Legend at 0x1a241c9ef0>"
      ]
     },
     "execution_count": 174,
     "metadata": {},
     "output_type": "execute_result"
    },
    {
     "data": {
      "image/png": "[encoded data removed]",
      "text/plain": [
       "<Figure size 1152x432 with 1 Axes>"
      ]
     },
     "metadata": {
      "needs_background": "light"
     },
     "output_type": "display_data"
    }
   ],
   "source": [
    "plt.figure(figsize=(16,6))\n",
    "backtest_graph['equity'].plot()\n",
    "plt.legend()"
   ]
  },
  {
   "cell_type": "code",
   "execution_count": 175,
   "metadata": {},
   "outputs": [
    {
     "data": {
      "text/plain": [
       "<matplotlib.legend.Legend at 0x1a25bb2fd0>"
      ]
     },
     "execution_count": 175,
     "metadata": {},
     "output_type": "execute_result"
    },
    {
     "data": {
      "image/png": "[encoded data removed]",
      "text/plain": [
       "<Figure size 1152x432 with 1 Axes>"
      ]
     },
     "metadata": {
      "needs_background": "light"
     },
     "output_type": "display_data"
    }
   ],
   "source": [
    "plt.figure(figsize=(16,6))\n",
    "plt.plot(backtest_graph['col_profit'])\n",
    "plt.scatter(max_gain[0],max_gain[1],c='y')\n",
    "plt.scatter(max_loss[0],max_loss[1],c='r')\n",
    "plt.legend()"
   ]
  },
  {
   "cell_type": "code",
   "execution_count": 176,
   "metadata": {},
   "outputs": [],
   "source": [
    "cumul_profit = sum(col_profit)\n",
    "nul_profit = col_profit.count(0)\n",
    "len_profit = len(col_profit)"
   ]
  },
  {
   "cell_type": "code",
   "execution_count": 177,
   "metadata": {},
   "outputs": [
    {
     "name": "stdout",
     "output_type": "stream",
     "text": [
      "Période testée :\n",
      "Début :  20190221  10:15:00\n",
      "Fin :  20190505  23:30:00\n",
      "ROC long :  83.09 %\n",
      "ROC short :  86.47 %\n",
      "Transaction à $100,000\n",
      "Equity initiale : $100,000\n",
      "Equity finale :  101610.5\n",
      "Gain généré : 1610.5 $\n",
      "Nombre de transactions :  65\n",
      "Nombre de Long :  0\n",
      "Nombre de Short :  33\n",
      "Nombre winners :  28\n",
      "Nombre loosers :  4\n",
      "Nombre de long winners :  0\n",
      "Nombre de short winners :  28\n",
      "Nombre de long loosers :  0\n",
      "Nombre de short loosers :  4\n",
      "Nombre de short en l'air :  1\n",
      "Nombre long en l'air :  0\n",
      "Fees :  9750\n",
      "Gain maximal 548.5   548.5\n",
      "Perte maximale -1176.5   -1176.5\n",
      "Moyenne du gain 49.55\n",
      "Somme de tous les gains 6033.0\n",
      "Somme de tous le loss 4542.0\n",
      "profit factor 1.33\n"
     ]
    }
   ],
   "source": [
    "print('Période testée :')\n",
    "print('Début : ',backtest.index[0])\n",
    "print('Fin : ',backtest.index[-1])\n",
    "print('ROC long : ',round(roc_long*100,2),'%')\n",
    "print('ROC short : ',round(roc_short*100,2),'%')\n",
    "print('Transaction à $100,000')\n",
    "print('Equity initiale : $100,000')\n",
    "print('Equity finale : ',round(equity,2))\n",
    "print('Gain généré :',round(equity-100000,2),'$')\n",
    "print('Nombre de transactions : ',nb_transaction)\n",
    "print('Nombre de Long : ',sum(go_long))\n",
    "print('Nombre de Short : ',sum(go_short))\n",
    "print('Nombre winners : ',sum(long_exit) + sum(short_exit))\n",
    "print('Nombre loosers : ',sum(long_sl) + sum(short_sl))\n",
    "print('Nombre de long winners : ',sum(long_exit))\n",
    "print('Nombre de short winners : ',sum(short_exit))\n",
    "print('Nombre de long loosers : ',sum(long_sl))\n",
    "print('Nombre de short loosers : ',sum(short_sl))\n",
    "print(\"Nombre de short en l'air : \", sea)\n",
    "print(\"Nombre long en l'air : \",lea)\n",
    "print('Fees : ',nb_transaction*150)\n",
    "#print('Nombre de positions gagnées',sum(col_is_win))\n",
    "#print('Nombre de positions perdues',sum(col_close_pos)-sum(col_is_win))\n",
    "print('Gain maximal',round(max(col_profit),2),' ',round(max_gain[1],2))\n",
    "print('Perte maximale',round(min(col_profit),2),' ',round(max_loss[1],2))\n",
    "print('Moyenne du gain',round(((equity-100000)/(nb_transaction/2)),2))\n",
    "print('Somme de tous les gains',round(gain_sum,2))\n",
    "print('Somme de tous le loss',round(abs(loss_sum),2))\n",
    "print('profit factor',round(abs(gain_sum/loss_sum),2))\n"
   ]
  },
  {
   "cell_type": "code",
   "execution_count": 517,
   "metadata": {},
   "outputs": [],
   "source": [
    "# save the model to disk\n",
    "filename = 'finalized_model_long.sav'\n",
    "pickle.dump(model_long, open(filename, 'wb'))\n",
    "filename = 'finalized_model_short.sav'\n",
    "pickle.dump(model_short, open(filename, 'wb'))"
   ]
  },
  {
   "cell_type": "markdown",
   "metadata": {},
   "source": [
    "# load the model from disk\n",
    "loaded_model = pickle.load(open(filename, 'rb'))\n",
    "result = loaded_model.score(X_test, Y_test)\n",
    "print(result)"
   ]
  }
 ],
 "metadata": {
  "kernelspec": {
   "display_name": "Python 3",
   "language": "python",
   "name": "python3"
  },
  "language_info": {
   "codemirror_mode": {
    "name": "ipython",
    "version": 3
   },
   "file_extension": ".py",
   "mimetype": "text/x-python",
   "name": "python",
   "nbconvert_exporter": "python",
   "pygments_lexer": "ipython3",
   "version": "3.6.8"
  }
 },
 "nbformat": 4,
 "nbformat_minor": 2
}
