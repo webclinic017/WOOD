{
 "cells": [
  {
   "cell_type": "code",
   "execution_count": 1,
   "metadata": {},
   "outputs": [],
   "source": [
    "___Author___='LumberJack Jyss'"
   ]
  },
  {
   "cell_type": "code",
   "execution_count": 2,
   "metadata": {},
   "outputs": [
    {
     "name": "stdout",
     "output_type": "stream",
     "text": [
      "LumberJack BRUTAL AtidotCom XGBOOST\n",
      "LumberJack Jyss (c)\n"
     ]
    }
   ],
   "source": [
    "print('LumberJack BRUTAL AtidotCom XGBOOST\\nLumberJack Jyss (c)')"
   ]
  },
  {
   "cell_type": "code",
   "execution_count": 3,
   "metadata": {},
   "outputs": [
    {
     "name": "stdout",
     "output_type": "stream",
     "text": [
      "Importation des librairies...\n",
      "Librairies importées\n"
     ]
    }
   ],
   "source": [
    "print('Importation des librairies...')\n",
    "import statistics\n",
    "import pickle\n",
    "import numpy as np\n",
    "import pandas as pd\n",
    "import xgboost as xgb\n",
    "from pandas.plotting import register_matplotlib_converters\n",
    "import pandas_datareader as web\n",
    "import matplotlib.pyplot as plt\n",
    "from sklearn.linear_model import LogisticRegression\n",
    "from sklearn.preprocessing import LabelEncoder\n",
    "from sklearn.metrics import accuracy_score, precision_score, recall_score, roc_auc_score,roc_curve\n",
    "from sklearn import model_selection\n",
    "from sklearn.model_selection import cross_val_score\n",
    "from sklearn.metrics import confusion_matrix\n",
    "from sklearn.metrics import classification_report\n",
    "from sklearn.model_selection import train_test_split\n",
    "#from sklearn.grid_search import GridSearchCV\n",
    "import seaborn as sns\n",
    "\n",
    "import os\n",
    "os.environ['KMP_DUPLICATE_LIB_OK']='True'\n",
    "from xgboost import XGBClassifier\n",
    "\n",
    "%matplotlib inline\n",
    "print('Librairies importées')"
   ]
  },
  {
   "cell_type": "code",
   "execution_count": 4,
   "metadata": {},
   "outputs": [],
   "source": [
    "#df = pd.read_csv('VIX.csv')\n",
    "df = pd.read_csv('dataset_Ruled.csv')"
   ]
  },
  {
   "cell_type": "code",
   "execution_count": 5,
   "metadata": {},
   "outputs": [],
   "source": [
    "df = df.dropna()\n",
    "#df.iloc[0].column=['Date']\n",
    "#df = df.drop(['Open_spy','High_spy','Low_spy'],axis=1)"
   ]
  },
  {
   "cell_type": "code",
   "execution_count": 6,
   "metadata": {},
   "outputs": [
    {
     "data": {
      "text/html": [
       "<div>\n",
       "<style scoped>\n",
       "    .dataframe tbody tr th:only-of-type {\n",
       "        vertical-align: middle;\n",
       "    }\n",
       "\n",
       "    .dataframe tbody tr th {\n",
       "        vertical-align: top;\n",
       "    }\n",
       "\n",
       "    .dataframe thead th {\n",
       "        text-align: right;\n",
       "    }\n",
       "</style>\n",
       "<table border=\"1\" class=\"dataframe\">\n",
       "  <thead>\n",
       "    <tr style=\"text-align: right;\">\n",
       "      <th></th>\n",
       "      <th>Date</th>\n",
       "      <th>spy_oc</th>\n",
       "      <th>spy_hl</th>\n",
       "      <th>spy_volume</th>\n",
       "      <th>spy_close</th>\n",
       "      <th>vix_close</th>\n",
       "      <th>SPY</th>\n",
       "      <th>short</th>\n",
       "      <th>long</th>\n",
       "    </tr>\n",
       "  </thead>\n",
       "  <tbody>\n",
       "    <tr>\n",
       "      <th>0</th>\n",
       "      <td>20160504  15:30:00</td>\n",
       "      <td>-3.115814</td>\n",
       "      <td>0.124980</td>\n",
       "      <td>-0.344501</td>\n",
       "      <td>-0.003881</td>\n",
       "      <td>-0.016413</td>\n",
       "      <td>205.35</td>\n",
       "      <td>1</td>\n",
       "      <td>0</td>\n",
       "    </tr>\n",
       "    <tr>\n",
       "      <th>1</th>\n",
       "      <td>20160504  16:00:00</td>\n",
       "      <td>-1.750486</td>\n",
       "      <td>0.291626</td>\n",
       "      <td>0.538004</td>\n",
       "      <td>-0.001266</td>\n",
       "      <td>0.021632</td>\n",
       "      <td>205.09</td>\n",
       "      <td>1</td>\n",
       "      <td>0</td>\n",
       "    </tr>\n",
       "    <tr>\n",
       "      <th>2</th>\n",
       "      <td>20160504  17:00:00</td>\n",
       "      <td>-0.444280</td>\n",
       "      <td>-0.279540</td>\n",
       "      <td>-0.443255</td>\n",
       "      <td>-0.000780</td>\n",
       "      <td>-0.000605</td>\n",
       "      <td>204.93</td>\n",
       "      <td>1</td>\n",
       "      <td>0</td>\n",
       "    </tr>\n",
       "    <tr>\n",
       "      <th>3</th>\n",
       "      <td>20160504  18:00:00</td>\n",
       "      <td>0.666223</td>\n",
       "      <td>-0.104462</td>\n",
       "      <td>-0.369692</td>\n",
       "      <td>-0.001269</td>\n",
       "      <td>0.004237</td>\n",
       "      <td>204.67</td>\n",
       "      <td>1</td>\n",
       "      <td>0</td>\n",
       "    </tr>\n",
       "    <tr>\n",
       "      <th>4</th>\n",
       "      <td>20160504  19:00:00</td>\n",
       "      <td>-0.959616</td>\n",
       "      <td>-0.233294</td>\n",
       "      <td>0.077159</td>\n",
       "      <td>0.000000</td>\n",
       "      <td>0.004219</td>\n",
       "      <td>204.67</td>\n",
       "      <td>1</td>\n",
       "      <td>0</td>\n",
       "    </tr>\n",
       "  </tbody>\n",
       "</table>\n",
       "</div>"
      ],
      "text/plain": [
       "                 Date    spy_oc    spy_hl  spy_volume  spy_close  vix_close  \\\n",
       "0  20160504  15:30:00 -3.115814  0.124980   -0.344501  -0.003881  -0.016413   \n",
       "1  20160504  16:00:00 -1.750486  0.291626    0.538004  -0.001266   0.021632   \n",
       "2  20160504  17:00:00 -0.444280 -0.279540   -0.443255  -0.000780  -0.000605   \n",
       "3  20160504  18:00:00  0.666223 -0.104462   -0.369692  -0.001269   0.004237   \n",
       "4  20160504  19:00:00 -0.959616 -0.233294    0.077159   0.000000   0.004219   \n",
       "\n",
       "      SPY  short  long  \n",
       "0  205.35      1     0  \n",
       "1  205.09      1     0  \n",
       "2  204.93      1     0  \n",
       "3  204.67      1     0  \n",
       "4  204.67      1     0  "
      ]
     },
     "execution_count": 6,
     "metadata": {},
     "output_type": "execute_result"
    }
   ],
   "source": [
    "df.head()"
   ]
  },
  {
   "cell_type": "code",
   "execution_count": 7,
   "metadata": {},
   "outputs": [
    {
     "data": {
      "text/html": [
       "<div>\n",
       "<style scoped>\n",
       "    .dataframe tbody tr th:only-of-type {\n",
       "        vertical-align: middle;\n",
       "    }\n",
       "\n",
       "    .dataframe tbody tr th {\n",
       "        vertical-align: top;\n",
       "    }\n",
       "\n",
       "    .dataframe thead th {\n",
       "        text-align: right;\n",
       "    }\n",
       "</style>\n",
       "<table border=\"1\" class=\"dataframe\">\n",
       "  <thead>\n",
       "    <tr style=\"text-align: right;\">\n",
       "      <th></th>\n",
       "      <th>spy_oc</th>\n",
       "      <th>spy_hl</th>\n",
       "      <th>spy_volume</th>\n",
       "      <th>spy_close</th>\n",
       "      <th>vix_close</th>\n",
       "      <th>SPY</th>\n",
       "      <th>short</th>\n",
       "      <th>long</th>\n",
       "    </tr>\n",
       "    <tr>\n",
       "      <th>Date</th>\n",
       "      <th></th>\n",
       "      <th></th>\n",
       "      <th></th>\n",
       "      <th></th>\n",
       "      <th></th>\n",
       "      <th></th>\n",
       "      <th></th>\n",
       "      <th></th>\n",
       "    </tr>\n",
       "  </thead>\n",
       "  <tbody>\n",
       "    <tr>\n",
       "      <th>20160504  15:30:00</th>\n",
       "      <td>-3.115814</td>\n",
       "      <td>0.124980</td>\n",
       "      <td>-0.344501</td>\n",
       "      <td>-0.003881</td>\n",
       "      <td>-0.016413</td>\n",
       "      <td>205.35</td>\n",
       "      <td>1</td>\n",
       "      <td>0</td>\n",
       "    </tr>\n",
       "    <tr>\n",
       "      <th>20160504  16:00:00</th>\n",
       "      <td>-1.750486</td>\n",
       "      <td>0.291626</td>\n",
       "      <td>0.538004</td>\n",
       "      <td>-0.001266</td>\n",
       "      <td>0.021632</td>\n",
       "      <td>205.09</td>\n",
       "      <td>1</td>\n",
       "      <td>0</td>\n",
       "    </tr>\n",
       "    <tr>\n",
       "      <th>20160504  17:00:00</th>\n",
       "      <td>-0.444280</td>\n",
       "      <td>-0.279540</td>\n",
       "      <td>-0.443255</td>\n",
       "      <td>-0.000780</td>\n",
       "      <td>-0.000605</td>\n",
       "      <td>204.93</td>\n",
       "      <td>1</td>\n",
       "      <td>0</td>\n",
       "    </tr>\n",
       "    <tr>\n",
       "      <th>20160504  18:00:00</th>\n",
       "      <td>0.666223</td>\n",
       "      <td>-0.104462</td>\n",
       "      <td>-0.369692</td>\n",
       "      <td>-0.001269</td>\n",
       "      <td>0.004237</td>\n",
       "      <td>204.67</td>\n",
       "      <td>1</td>\n",
       "      <td>0</td>\n",
       "    </tr>\n",
       "    <tr>\n",
       "      <th>20160504  19:00:00</th>\n",
       "      <td>-0.959616</td>\n",
       "      <td>-0.233294</td>\n",
       "      <td>0.077159</td>\n",
       "      <td>0.000000</td>\n",
       "      <td>0.004219</td>\n",
       "      <td>204.67</td>\n",
       "      <td>1</td>\n",
       "      <td>0</td>\n",
       "    </tr>\n",
       "  </tbody>\n",
       "</table>\n",
       "</div>"
      ],
      "text/plain": [
       "                      spy_oc    spy_hl  spy_volume  spy_close  vix_close  \\\n",
       "Date                                                                       \n",
       "20160504  15:30:00 -3.115814  0.124980   -0.344501  -0.003881  -0.016413   \n",
       "20160504  16:00:00 -1.750486  0.291626    0.538004  -0.001266   0.021632   \n",
       "20160504  17:00:00 -0.444280 -0.279540   -0.443255  -0.000780  -0.000605   \n",
       "20160504  18:00:00  0.666223 -0.104462   -0.369692  -0.001269   0.004237   \n",
       "20160504  19:00:00 -0.959616 -0.233294    0.077159   0.000000   0.004219   \n",
       "\n",
       "                       SPY  short  long  \n",
       "Date                                     \n",
       "20160504  15:30:00  205.35      1     0  \n",
       "20160504  16:00:00  205.09      1     0  \n",
       "20160504  17:00:00  204.93      1     0  \n",
       "20160504  18:00:00  204.67      1     0  \n",
       "20160504  19:00:00  204.67      1     0  "
      ]
     },
     "execution_count": 7,
     "metadata": {},
     "output_type": "execute_result"
    }
   ],
   "source": [
    "df.set_index('Date', inplace=True)\n",
    "df.head()"
   ]
  },
  {
   "cell_type": "code",
   "execution_count": 8,
   "metadata": {},
   "outputs": [
    {
     "name": "stdout",
     "output_type": "stream",
     "text": [
      "<class 'pandas.core.frame.DataFrame'>\n",
      "Index: 5256 entries, 20160504  15:30:00 to 20190502  17:00:00\n",
      "Data columns (total 8 columns):\n",
      "spy_oc        5256 non-null float64\n",
      "spy_hl        5256 non-null float64\n",
      "spy_volume    5256 non-null float64\n",
      "spy_close     5256 non-null float64\n",
      "vix_close     5256 non-null float64\n",
      "SPY           5256 non-null float64\n",
      "short         5256 non-null int64\n",
      "long          5256 non-null int64\n",
      "dtypes: float64(6), int64(2)\n",
      "memory usage: 369.6+ KB\n"
     ]
    }
   ],
   "source": [
    "df.info()"
   ]
  },
  {
   "cell_type": "code",
   "execution_count": 9,
   "metadata": {},
   "outputs": [
    {
     "name": "stdout",
     "output_type": "stream",
     "text": [
      "Période d'étude :  5256 périodes\n",
      "Sur un découpage 80% - 20% de la période : \n",
      "Bloc 1 :  4730  périodes \n",
      "Bloc 2 : 526  périodes\n"
     ]
    }
   ],
   "source": [
    "delta = df.shape[0]\n",
    "bloc1 = round(delta*0.9)\n",
    "bloc2 = delta - bloc1\n",
    "print(\"Période d'étude : \",delta,'périodes')\n",
    "print('Sur un découpage 80% - 20% de la période : ')\n",
    "print('Bloc 1 : ',bloc1,' périodes \\nBloc 2 :',bloc2,' périodes')"
   ]
  },
  {
   "cell_type": "code",
   "execution_count": 10,
   "metadata": {},
   "outputs": [
    {
     "data": {
      "text/plain": [
       "(2602, 2018)"
      ]
     },
     "execution_count": 10,
     "metadata": {},
     "output_type": "execute_result"
    }
   ],
   "source": [
    "df['long'].sum(),df['short'].sum()"
   ]
  },
  {
   "cell_type": "code",
   "execution_count": 11,
   "metadata": {},
   "outputs": [
    {
     "data": {
      "text/html": [
       "<div>\n",
       "<style scoped>\n",
       "    .dataframe tbody tr th:only-of-type {\n",
       "        vertical-align: middle;\n",
       "    }\n",
       "\n",
       "    .dataframe tbody tr th {\n",
       "        vertical-align: top;\n",
       "    }\n",
       "\n",
       "    .dataframe thead th {\n",
       "        text-align: right;\n",
       "    }\n",
       "</style>\n",
       "<table border=\"1\" class=\"dataframe\">\n",
       "  <thead>\n",
       "    <tr style=\"text-align: right;\">\n",
       "      <th></th>\n",
       "      <th>spy_oc</th>\n",
       "      <th>spy_hl</th>\n",
       "      <th>spy_volume</th>\n",
       "      <th>spy_close</th>\n",
       "      <th>vix_close</th>\n",
       "      <th>SPY</th>\n",
       "      <th>short</th>\n",
       "      <th>long</th>\n",
       "    </tr>\n",
       "    <tr>\n",
       "      <th>Date</th>\n",
       "      <th></th>\n",
       "      <th></th>\n",
       "      <th></th>\n",
       "      <th></th>\n",
       "      <th></th>\n",
       "      <th></th>\n",
       "      <th></th>\n",
       "      <th></th>\n",
       "    </tr>\n",
       "  </thead>\n",
       "  <tbody>\n",
       "    <tr>\n",
       "      <th>20160504  15:30:00</th>\n",
       "      <td>-3.115814</td>\n",
       "      <td>0.124980</td>\n",
       "      <td>-0.344501</td>\n",
       "      <td>-0.003881</td>\n",
       "      <td>-0.016413</td>\n",
       "      <td>205.35</td>\n",
       "      <td>1</td>\n",
       "      <td>0</td>\n",
       "    </tr>\n",
       "    <tr>\n",
       "      <th>20160504  16:00:00</th>\n",
       "      <td>-1.750486</td>\n",
       "      <td>0.291626</td>\n",
       "      <td>0.538004</td>\n",
       "      <td>-0.001266</td>\n",
       "      <td>0.021632</td>\n",
       "      <td>205.09</td>\n",
       "      <td>1</td>\n",
       "      <td>0</td>\n",
       "    </tr>\n",
       "    <tr>\n",
       "      <th>20160504  17:00:00</th>\n",
       "      <td>-0.444280</td>\n",
       "      <td>-0.279540</td>\n",
       "      <td>-0.443255</td>\n",
       "      <td>-0.000780</td>\n",
       "      <td>-0.000605</td>\n",
       "      <td>204.93</td>\n",
       "      <td>1</td>\n",
       "      <td>0</td>\n",
       "    </tr>\n",
       "    <tr>\n",
       "      <th>20160504  18:00:00</th>\n",
       "      <td>0.666223</td>\n",
       "      <td>-0.104462</td>\n",
       "      <td>-0.369692</td>\n",
       "      <td>-0.001269</td>\n",
       "      <td>0.004237</td>\n",
       "      <td>204.67</td>\n",
       "      <td>1</td>\n",
       "      <td>0</td>\n",
       "    </tr>\n",
       "    <tr>\n",
       "      <th>20160504  19:00:00</th>\n",
       "      <td>-0.959616</td>\n",
       "      <td>-0.233294</td>\n",
       "      <td>0.077159</td>\n",
       "      <td>0.000000</td>\n",
       "      <td>0.004219</td>\n",
       "      <td>204.67</td>\n",
       "      <td>1</td>\n",
       "      <td>0</td>\n",
       "    </tr>\n",
       "  </tbody>\n",
       "</table>\n",
       "</div>"
      ],
      "text/plain": [
       "                      spy_oc    spy_hl  spy_volume  spy_close  vix_close  \\\n",
       "Date                                                                       \n",
       "20160504  15:30:00 -3.115814  0.124980   -0.344501  -0.003881  -0.016413   \n",
       "20160504  16:00:00 -1.750486  0.291626    0.538004  -0.001266   0.021632   \n",
       "20160504  17:00:00 -0.444280 -0.279540   -0.443255  -0.000780  -0.000605   \n",
       "20160504  18:00:00  0.666223 -0.104462   -0.369692  -0.001269   0.004237   \n",
       "20160504  19:00:00 -0.959616 -0.233294    0.077159   0.000000   0.004219   \n",
       "\n",
       "                       SPY  short  long  \n",
       "Date                                     \n",
       "20160504  15:30:00  205.35      1     0  \n",
       "20160504  16:00:00  205.09      1     0  \n",
       "20160504  17:00:00  204.93      1     0  \n",
       "20160504  18:00:00  204.67      1     0  \n",
       "20160504  19:00:00  204.67      1     0  "
      ]
     },
     "execution_count": 11,
     "metadata": {},
     "output_type": "execute_result"
    }
   ],
   "source": [
    "df.head()"
   ]
  },
  {
   "cell_type": "code",
   "execution_count": 12,
   "metadata": {},
   "outputs": [],
   "source": [
    "Xtrain_long = df.iloc[:bloc1,:5]\n",
    "#Xtrain_long = Xtrain_long.drop(['short'],axis=1)\n",
    "Xtest_long = df.iloc[bloc1:,:5]\n",
    "#Xtest_long = Xtest_long.drop(['short'],axis=1)\n",
    "ytrain_long = df.iloc[:bloc1,7]\n",
    "ytest_long = df.iloc[bloc1:,7]"
   ]
  },
  {
   "cell_type": "code",
   "execution_count": 13,
   "metadata": {},
   "outputs": [
    {
     "data": {
      "text/html": [
       "<div>\n",
       "<style scoped>\n",
       "    .dataframe tbody tr th:only-of-type {\n",
       "        vertical-align: middle;\n",
       "    }\n",
       "\n",
       "    .dataframe tbody tr th {\n",
       "        vertical-align: top;\n",
       "    }\n",
       "\n",
       "    .dataframe thead th {\n",
       "        text-align: right;\n",
       "    }\n",
       "</style>\n",
       "<table border=\"1\" class=\"dataframe\">\n",
       "  <thead>\n",
       "    <tr style=\"text-align: right;\">\n",
       "      <th></th>\n",
       "      <th>spy_oc</th>\n",
       "      <th>spy_hl</th>\n",
       "      <th>spy_volume</th>\n",
       "      <th>spy_close</th>\n",
       "      <th>vix_close</th>\n",
       "    </tr>\n",
       "    <tr>\n",
       "      <th>Date</th>\n",
       "      <th></th>\n",
       "      <th></th>\n",
       "      <th></th>\n",
       "      <th></th>\n",
       "      <th></th>\n",
       "    </tr>\n",
       "  </thead>\n",
       "  <tbody>\n",
       "    <tr>\n",
       "      <th>20160504  15:30:00</th>\n",
       "      <td>-3.115814</td>\n",
       "      <td>0.124980</td>\n",
       "      <td>-0.344501</td>\n",
       "      <td>-0.003881</td>\n",
       "      <td>-0.016413</td>\n",
       "    </tr>\n",
       "    <tr>\n",
       "      <th>20160504  16:00:00</th>\n",
       "      <td>-1.750486</td>\n",
       "      <td>0.291626</td>\n",
       "      <td>0.538004</td>\n",
       "      <td>-0.001266</td>\n",
       "      <td>0.021632</td>\n",
       "    </tr>\n",
       "    <tr>\n",
       "      <th>20160504  17:00:00</th>\n",
       "      <td>-0.444280</td>\n",
       "      <td>-0.279540</td>\n",
       "      <td>-0.443255</td>\n",
       "      <td>-0.000780</td>\n",
       "      <td>-0.000605</td>\n",
       "    </tr>\n",
       "    <tr>\n",
       "      <th>20160504  18:00:00</th>\n",
       "      <td>0.666223</td>\n",
       "      <td>-0.104462</td>\n",
       "      <td>-0.369692</td>\n",
       "      <td>-0.001269</td>\n",
       "      <td>0.004237</td>\n",
       "    </tr>\n",
       "    <tr>\n",
       "      <th>20160504  19:00:00</th>\n",
       "      <td>-0.959616</td>\n",
       "      <td>-0.233294</td>\n",
       "      <td>0.077159</td>\n",
       "      <td>0.000000</td>\n",
       "      <td>0.004219</td>\n",
       "    </tr>\n",
       "  </tbody>\n",
       "</table>\n",
       "</div>"
      ],
      "text/plain": [
       "                      spy_oc    spy_hl  spy_volume  spy_close  vix_close\n",
       "Date                                                                    \n",
       "20160504  15:30:00 -3.115814  0.124980   -0.344501  -0.003881  -0.016413\n",
       "20160504  16:00:00 -1.750486  0.291626    0.538004  -0.001266   0.021632\n",
       "20160504  17:00:00 -0.444280 -0.279540   -0.443255  -0.000780  -0.000605\n",
       "20160504  18:00:00  0.666223 -0.104462   -0.369692  -0.001269   0.004237\n",
       "20160504  19:00:00 -0.959616 -0.233294    0.077159   0.000000   0.004219"
      ]
     },
     "execution_count": 13,
     "metadata": {},
     "output_type": "execute_result"
    }
   ],
   "source": [
    "Xtrain_long.head()"
   ]
  },
  {
   "cell_type": "code",
   "execution_count": 14,
   "metadata": {},
   "outputs": [
    {
     "data": {
      "text/plain": [
       "(Date\n",
       " 20160504  15:30:00    0\n",
       " 20160504  16:00:00    0\n",
       " 20160504  17:00:00    0\n",
       " 20160504  18:00:00    0\n",
       " 20160504  19:00:00    0\n",
       " Name: long, dtype: int64, 2289)"
      ]
     },
     "execution_count": 14,
     "metadata": {},
     "output_type": "execute_result"
    }
   ],
   "source": [
    "ytrain_long.head(),ytrain_long.sum()"
   ]
  },
  {
   "cell_type": "code",
   "execution_count": 15,
   "metadata": {},
   "outputs": [
    {
     "name": "stdout",
     "output_type": "stream",
     "text": [
      "Split effectué\n"
     ]
    }
   ],
   "source": [
    "Xtrain_short = df.iloc[:bloc1,:5]\n",
    "#Xtrain_short = Xtrain_short.drop(['Adj Close'],axis=1)\n",
    "Xtest_short = df.iloc[bloc1:,:5]\n",
    "#Xtest_short = Xtest_short.drop(['Adj Close'],axis=1)\n",
    "ytrain_short = df.iloc[:bloc1,6]\n",
    "ytest_short = df.iloc[bloc1:,6]\n",
    "print('Split effectué')"
   ]
  },
  {
   "cell_type": "code",
   "execution_count": 16,
   "metadata": {},
   "outputs": [
    {
     "data": {
      "text/plain": [
       "((4730,), (4730, 5), (526, 5), (526,))"
      ]
     },
     "execution_count": 16,
     "metadata": {},
     "output_type": "execute_result"
    }
   ],
   "source": [
    "ytrain_long.shape,Xtrain_long.shape,Xtest_long.shape,ytest_long.shape"
   ]
  },
  {
   "cell_type": "code",
   "execution_count": 17,
   "metadata": {},
   "outputs": [
    {
     "data": {
      "text/plain": [
       "((4730,), (4730, 5), (526, 5), (526,))"
      ]
     },
     "execution_count": 17,
     "metadata": {},
     "output_type": "execute_result"
    }
   ],
   "source": [
    "ytrain_short.shape,Xtrain_short.shape,Xtest_short.shape,ytest_short.shape"
   ]
  },
  {
   "cell_type": "code",
   "execution_count": 18,
   "metadata": {},
   "outputs": [],
   "source": [
    "model_long = XGBClassifier(\n",
    "    max_depth=8,\n",
    "    learning_rate=0.01,\n",
    "    n_estimators=300,\n",
    "    silent=False,\n",
    "    objective='binary:logistic',\n",
    "    booster='gbtree',\n",
    "    n_jobs=1,\n",
    "    nthread=None,\n",
    "    gamma=2,\n",
    "    min_child_weight=2,\n",
    "    max_delta_step=1,\n",
    "    subsample=1,\n",
    "    colsample_bytree=1,\n",
    "    colsample_bylevel=1,\n",
    "    reg_alpha=1,\n",
    "    reg_lambda=1,\n",
    "    scale_pos_weight=1,\n",
    "    base_score=0.5,\n",
    "    random_state=0,\n",
    "    seed=None,\n",
    "    missing=None\n",
    ")"
   ]
  },
  {
   "cell_type": "code",
   "execution_count": 19,
   "metadata": {},
   "outputs": [],
   "source": [
    "model_short = XGBClassifier(silent=False,objective='binary:logistic',n_estimators=200)"
   ]
  },
  {
   "cell_type": "code",
   "execution_count": 20,
   "metadata": {},
   "outputs": [],
   "source": [
    "eval_set_long=[(Xtrain_long, ytrain_long), (Xtest_long, ytest_long)]"
   ]
  },
  {
   "cell_type": "code",
   "execution_count": 21,
   "metadata": {},
   "outputs": [],
   "source": [
    "eval_set_short=[(Xtrain_short, ytrain_short), (Xtest_short, ytest_short)]"
   ]
  },
  {
   "cell_type": "code",
   "execution_count": 22,
   "metadata": {},
   "outputs": [
    {
     "data": {
      "text/plain": [
       "XGBClassifier(base_score=0.5, booster='gbtree', colsample_bylevel=1,\n",
       "       colsample_bytree=1, gamma=2, learning_rate=0.01, max_delta_step=1,\n",
       "       max_depth=8, min_child_weight=2, missing=None, n_estimators=300,\n",
       "       n_jobs=1, nthread=None, objective='binary:logistic', random_state=0,\n",
       "       reg_alpha=1, reg_lambda=1, scale_pos_weight=1, seed=None,\n",
       "       silent=False, subsample=1)"
      ]
     },
     "execution_count": 22,
     "metadata": {},
     "output_type": "execute_result"
    }
   ],
   "source": [
    "model_long.fit( Xtrain_long, ytrain_long, eval_metric=['auc','error','logloss'], eval_set=eval_set_long, verbose=0)"
   ]
  },
  {
   "cell_type": "code",
   "execution_count": 23,
   "metadata": {},
   "outputs": [
    {
     "data": {
      "text/plain": [
       "XGBClassifier(base_score=0.5, booster='gbtree', colsample_bylevel=1,\n",
       "       colsample_bytree=1, gamma=0, learning_rate=0.1, max_delta_step=0,\n",
       "       max_depth=3, min_child_weight=1, missing=None, n_estimators=200,\n",
       "       n_jobs=1, nthread=None, objective='binary:logistic', random_state=0,\n",
       "       reg_alpha=0, reg_lambda=1, scale_pos_weight=1, seed=None,\n",
       "       silent=False, subsample=1)"
      ]
     },
     "execution_count": 23,
     "metadata": {},
     "output_type": "execute_result"
    }
   ],
   "source": [
    "model_short.fit( Xtrain_short, ytrain_short, eval_metric=['auc','error','logloss'], eval_set=eval_set_short, verbose=0)"
   ]
  },
  {
   "cell_type": "code",
   "execution_count": 24,
   "metadata": {},
   "outputs": [
    {
     "name": "stdout",
     "output_type": "stream",
     "text": [
      "RESULTATS LONG\n",
      "\n",
      "Accuracy: 75.29%\n",
      "Precision: 92.17%   => Discrimnination des vrais positifs parmi les faux positifs\n",
      "Recall: 63.90%   => Positifs trouvés par Golem sur tous les positifs existants\n",
      "AUC: 77.96% \n",
      "AUC_proba: 83.88% \n",
      "              precision    recall  f1-score   support\n",
      "\n",
      "           0       0.63      0.92      0.75       213\n",
      "           1       0.92      0.64      0.75       313\n",
      "\n",
      "   micro avg       0.75      0.75      0.75       526\n",
      "   macro avg       0.78      0.78      0.75       526\n",
      "weighted avg       0.81      0.75      0.75       526\n",
      "\n",
      "[[196  17]\n",
      " [113 200]]\n",
      "Matrice de confusion :\n"
     ]
    },
    {
     "data": {
      "text/html": [
       "<div>\n",
       "<style scoped>\n",
       "    .dataframe tbody tr th:only-of-type {\n",
       "        vertical-align: middle;\n",
       "    }\n",
       "\n",
       "    .dataframe tbody tr th {\n",
       "        vertical-align: top;\n",
       "    }\n",
       "\n",
       "    .dataframe thead th {\n",
       "        text-align: right;\n",
       "    }\n",
       "</style>\n",
       "<table border=\"1\" class=\"dataframe\">\n",
       "  <thead>\n",
       "    <tr style=\"text-align: right;\">\n",
       "      <th></th>\n",
       "      <th>Vrais_estimés</th>\n",
       "      <th>Faux_estimés</th>\n",
       "    </tr>\n",
       "  </thead>\n",
       "  <tbody>\n",
       "    <tr>\n",
       "      <th>vrais_réels</th>\n",
       "      <td>Vrais_positifs</td>\n",
       "      <td>Faux_négatif</td>\n",
       "    </tr>\n",
       "    <tr>\n",
       "      <th>Faux_réels</th>\n",
       "      <td>Faux_positifs</td>\n",
       "      <td>Vrais-négatifs</td>\n",
       "    </tr>\n",
       "  </tbody>\n",
       "</table>\n",
       "</div>"
      ],
      "text/plain": [
       "              Vrais_estimés    Faux_estimés\n",
       "vrais_réels  Vrais_positifs    Faux_négatif\n",
       "Faux_réels    Faux_positifs  Vrais-négatifs"
      ]
     },
     "execution_count": 24,
     "metadata": {},
     "output_type": "execute_result"
    }
   ],
   "source": [
    "predictions_long = model_long.predict(Xtest_long)\n",
    "accuracy_long = accuracy_score(ytest_long, predictions_long)\n",
    "precision_long=precision_score(ytest_long, predictions_long) # vrais_positifs/(vrais_positifs+faux_positifs)\n",
    "# La précision permet de mesurer la capacité du modèle à refuser résultats non-pertinents.\n",
    "recall_long=recall_score(ytest_long, predictions_long) # (vrai_positifs/(vrais_positifs+faux_négatifs))\n",
    "roc_long=roc_auc_score(ytest_long,predictions_long)\n",
    "print('RESULTATS LONG\\n')\n",
    "print('Accuracy: %.2f%%' % (accuracy_long * 100.0))\n",
    "print(\"Precision: %.2f%% \" % (precision_long *100),' => Discrimnination des vrais positifs parmi les faux positifs')\n",
    "print(\"Recall: %.2f%% \" % (recall_long * 100),' => Positifs trouvés par Golem sur tous les positifs existants')\n",
    "print(\"AUC: %.2f%% \" % (roc_long *100))\n",
    "# get probabilities for positive class\n",
    "prediction_long = model_long.predict_proba(Xtest_long)\n",
    "roc_long2 = roc_auc_score(ytest_long, prediction_long[:,1])\n",
    "print(\"AUC_proba: %.2f%% \" % (roc_long2 * 100))\n",
    "print(classification_report(ytest_long, predictions_long))\n",
    "conf_matrix = pd.DataFrame(index = ['vrais_réels','Faux_réels'])\n",
    "conf_matrix['Vrais_estimés'] = ['Vrais_positifs','Faux_positifs']\n",
    "conf_matrix['Faux_estimés'] = ['Faux_négatif','Vrais-négatifs']\n",
    "print(confusion_matrix(ytest_long, predictions_long))\n",
    "print('Matrice de confusion :')\n",
    "conf_matrix"
   ]
  },
  {
   "cell_type": "code",
   "execution_count": null,
   "metadata": {},
   "outputs": [],
   "source": []
  },
  {
   "cell_type": "code",
   "execution_count": 25,
   "metadata": {},
   "outputs": [
    {
     "name": "stdout",
     "output_type": "stream",
     "text": [
      "RESULTATS SHORT\n",
      "\n",
      "Accuracy: 78.90%\n",
      "Precision: 69.77%   => Discrimnination des vrais positifs parmi les faux positifs\n",
      "Recall: 67.04%   => Positifs trouvés par Golem sur tous les positifs existants\n",
      "AUC: 76.03% \n",
      "AUC_proba: 85.23% \n",
      "              precision    recall  f1-score   support\n",
      "\n",
      "           0       0.83      0.85      0.84       347\n",
      "           1       0.70      0.67      0.68       179\n",
      "\n",
      "   micro avg       0.79      0.79      0.79       526\n",
      "   macro avg       0.77      0.76      0.76       526\n",
      "weighted avg       0.79      0.79      0.79       526\n",
      "\n",
      "[[295  52]\n",
      " [ 59 120]]\n",
      "Matrice de confusion :\n"
     ]
    },
    {
     "data": {
      "text/html": [
       "<div>\n",
       "<style scoped>\n",
       "    .dataframe tbody tr th:only-of-type {\n",
       "        vertical-align: middle;\n",
       "    }\n",
       "\n",
       "    .dataframe tbody tr th {\n",
       "        vertical-align: top;\n",
       "    }\n",
       "\n",
       "    .dataframe thead th {\n",
       "        text-align: right;\n",
       "    }\n",
       "</style>\n",
       "<table border=\"1\" class=\"dataframe\">\n",
       "  <thead>\n",
       "    <tr style=\"text-align: right;\">\n",
       "      <th></th>\n",
       "      <th>Vrais_estimés</th>\n",
       "      <th>Faux_estimés</th>\n",
       "    </tr>\n",
       "  </thead>\n",
       "  <tbody>\n",
       "    <tr>\n",
       "      <th>vrais_réels</th>\n",
       "      <td>Vrais_positifs</td>\n",
       "      <td>Faux_négatif</td>\n",
       "    </tr>\n",
       "    <tr>\n",
       "      <th>Faux_réels</th>\n",
       "      <td>Faux_positifs</td>\n",
       "      <td>Vrais-négatifs</td>\n",
       "    </tr>\n",
       "  </tbody>\n",
       "</table>\n",
       "</div>"
      ],
      "text/plain": [
       "              Vrais_estimés    Faux_estimés\n",
       "vrais_réels  Vrais_positifs    Faux_négatif\n",
       "Faux_réels    Faux_positifs  Vrais-négatifs"
      ]
     },
     "execution_count": 25,
     "metadata": {},
     "output_type": "execute_result"
    }
   ],
   "source": [
    "predictions_short = model_short.predict(Xtest_short)\n",
    "accuracy_short = accuracy_score(ytest_short, predictions_short)\n",
    "precision_short=precision_score(ytest_short, predictions_short) # vrais_positifs/(vrais_positifs+faux_positifs)\n",
    "# La précision permet de mesurer la capacité du modèle à refuser résultats non-pertinents.\n",
    "recall_short = recall_score(ytest_short, predictions_short) # (vrai_positifs/(vrais_positifs+faux_négatifs))\n",
    "roc_short=roc_auc_score(ytest_short,predictions_short)\n",
    "print('RESULTATS SHORT\\n')\n",
    "print('Accuracy: %.2f%%' % (accuracy_short * 100.0))\n",
    "print(\"Precision: %.2f%% \" % (precision_short *100),' => Discrimnination des vrais positifs parmi les faux positifs')\n",
    "print(\"Recall: %.2f%% \" % (recall_short * 100),' => Positifs trouvés par Golem sur tous les positifs existants')\n",
    "print(\"AUC: %.2f%% \" % (roc_short *100))\n",
    "# get probabilities for positive class\n",
    "prediction_short = model_short.predict_proba(Xtest_short)\n",
    "roc_short2 = roc_auc_score(ytest_short, prediction_short[:,1])\n",
    "print(\"AUC_proba: %.2f%% \" % (roc_short2 * 100))\n",
    "print(classification_report(ytest_short, predictions_short))\n",
    "conf_matrix = pd.DataFrame(index = ['vrais_réels','Faux_réels'])\n",
    "conf_matrix['Vrais_estimés'] = ['Vrais_positifs','Faux_positifs']\n",
    "conf_matrix['Faux_estimés'] = ['Faux_négatif','Vrais-négatifs']\n",
    "print(confusion_matrix(ytest_short, predictions_short))\n",
    "print('Matrice de confusion :')\n",
    "conf_matrix"
   ]
  },
  {
   "cell_type": "code",
   "execution_count": 26,
   "metadata": {},
   "outputs": [
    {
     "data": {
      "text/plain": [
       "(numpy.ndarray, 526, 217)"
      ]
     },
     "execution_count": 26,
     "metadata": {},
     "output_type": "execute_result"
    }
   ],
   "source": [
    "type(predictions_long),len(predictions_long), predictions_long.sum()"
   ]
  },
  {
   "cell_type": "code",
   "execution_count": 27,
   "metadata": {},
   "outputs": [
    {
     "data": {
      "text/plain": [
       "(numpy.ndarray, 526, 172)"
      ]
     },
     "execution_count": 27,
     "metadata": {},
     "output_type": "execute_result"
    }
   ],
   "source": [
    "type(predictions_short),len(predictions_short), predictions_short.sum()"
   ]
  },
  {
   "cell_type": "code",
   "execution_count": null,
   "metadata": {},
   "outputs": [],
   "source": []
  },
  {
   "cell_type": "code",
   "execution_count": null,
   "metadata": {},
   "outputs": [],
   "source": []
  },
  {
   "cell_type": "code",
   "execution_count": 28,
   "metadata": {},
   "outputs": [
    {
     "data": {
      "text/plain": [
       "<matplotlib.legend.Legend at 0x1a192770f0>"
      ]
     },
     "execution_count": 28,
     "metadata": {},
     "output_type": "execute_result"
    },
    {
     "data": {
      "image/png": "[encoded data removed]",
      "text/plain": [
       "<Figure size 1152x432 with 1 Axes>"
      ]
     },
     "metadata": {
      "needs_background": "light"
     },
     "output_type": "display_data"
    }
   ],
   "source": [
    "plt.figure(figsize=(16,6))\n",
    "plt.plot(predictions_long,label = 'Long')\n",
    "plt.plot(predictions_short,label = 'Short')\n",
    "plt.legend()"
   ]
  },
  {
   "cell_type": "code",
   "execution_count": 37,
   "metadata": {},
   "outputs": [
    {
     "data": {
      "text/html": [
       "<div>\n",
       "<style scoped>\n",
       "    .dataframe tbody tr th:only-of-type {\n",
       "        vertical-align: middle;\n",
       "    }\n",
       "\n",
       "    .dataframe tbody tr th {\n",
       "        vertical-align: top;\n",
       "    }\n",
       "\n",
       "    .dataframe thead th {\n",
       "        text-align: right;\n",
       "    }\n",
       "</style>\n",
       "<table border=\"1\" class=\"dataframe\">\n",
       "  <thead>\n",
       "    <tr style=\"text-align: right;\">\n",
       "      <th></th>\n",
       "      <th>Close_SPY</th>\n",
       "      <th>long</th>\n",
       "      <th>short</th>\n",
       "    </tr>\n",
       "    <tr>\n",
       "      <th>Date</th>\n",
       "      <th></th>\n",
       "      <th></th>\n",
       "      <th></th>\n",
       "    </tr>\n",
       "  </thead>\n",
       "  <tbody>\n",
       "    <tr>\n",
       "      <th>20190114  17:00:00</th>\n",
       "      <td>257.59</td>\n",
       "      <td>1</td>\n",
       "      <td>0</td>\n",
       "    </tr>\n",
       "    <tr>\n",
       "      <th>20190114  18:00:00</th>\n",
       "      <td>257.85</td>\n",
       "      <td>1</td>\n",
       "      <td>0</td>\n",
       "    </tr>\n",
       "    <tr>\n",
       "      <th>20190114  19:00:00</th>\n",
       "      <td>257.97</td>\n",
       "      <td>1</td>\n",
       "      <td>0</td>\n",
       "    </tr>\n",
       "    <tr>\n",
       "      <th>20190114  20:00:00</th>\n",
       "      <td>258.14</td>\n",
       "      <td>1</td>\n",
       "      <td>0</td>\n",
       "    </tr>\n",
       "    <tr>\n",
       "      <th>20190114  21:00:00</th>\n",
       "      <td>257.46</td>\n",
       "      <td>0</td>\n",
       "      <td>1</td>\n",
       "    </tr>\n",
       "  </tbody>\n",
       "</table>\n",
       "</div>"
      ],
      "text/plain": [
       "                    Close_SPY  long  short\n",
       "Date                                      \n",
       "20190114  17:00:00     257.59     1      0\n",
       "20190114  18:00:00     257.85     1      0\n",
       "20190114  19:00:00     257.97     1      0\n",
       "20190114  20:00:00     258.14     1      0\n",
       "20190114  21:00:00     257.46     0      1"
      ]
     },
     "execution_count": 37,
     "metadata": {},
     "output_type": "execute_result"
    }
   ],
   "source": [
    "backtest = pd.DataFrame()\n",
    "backtest['Close_SPY'] = df.iloc[-526:,5]\n",
    "backtest['long'] = predictions_long\n",
    "backtest['short'] = predictions_short\n",
    "backtest.head()"
   ]
  },
  {
   "cell_type": "code",
   "execution_count": 38,
   "metadata": {},
   "outputs": [
    {
     "data": {
      "text/html": [
       "<div>\n",
       "<style scoped>\n",
       "    .dataframe tbody tr th:only-of-type {\n",
       "        vertical-align: middle;\n",
       "    }\n",
       "\n",
       "    .dataframe tbody tr th {\n",
       "        vertical-align: top;\n",
       "    }\n",
       "\n",
       "    .dataframe thead th {\n",
       "        text-align: right;\n",
       "    }\n",
       "</style>\n",
       "<table border=\"1\" class=\"dataframe\">\n",
       "  <thead>\n",
       "    <tr style=\"text-align: right;\">\n",
       "      <th></th>\n",
       "      <th>Close_SPY</th>\n",
       "      <th>long</th>\n",
       "      <th>short</th>\n",
       "    </tr>\n",
       "    <tr>\n",
       "      <th>Date</th>\n",
       "      <th></th>\n",
       "      <th></th>\n",
       "      <th></th>\n",
       "    </tr>\n",
       "  </thead>\n",
       "  <tbody>\n",
       "    <tr>\n",
       "      <th>20190114  17:00:00</th>\n",
       "      <td>257.59</td>\n",
       "      <td>1</td>\n",
       "      <td>0</td>\n",
       "    </tr>\n",
       "    <tr>\n",
       "      <th>20190114  18:00:00</th>\n",
       "      <td>257.85</td>\n",
       "      <td>1</td>\n",
       "      <td>0</td>\n",
       "    </tr>\n",
       "    <tr>\n",
       "      <th>20190114  19:00:00</th>\n",
       "      <td>257.97</td>\n",
       "      <td>1</td>\n",
       "      <td>0</td>\n",
       "    </tr>\n",
       "    <tr>\n",
       "      <th>20190114  20:00:00</th>\n",
       "      <td>258.14</td>\n",
       "      <td>1</td>\n",
       "      <td>0</td>\n",
       "    </tr>\n",
       "    <tr>\n",
       "      <th>20190114  21:00:00</th>\n",
       "      <td>257.46</td>\n",
       "      <td>0</td>\n",
       "      <td>1</td>\n",
       "    </tr>\n",
       "  </tbody>\n",
       "</table>\n",
       "</div>"
      ],
      "text/plain": [
       "                    Close_SPY  long  short\n",
       "Date                                      \n",
       "20190114  17:00:00     257.59     1      0\n",
       "20190114  18:00:00     257.85     1      0\n",
       "20190114  19:00:00     257.97     1      0\n",
       "20190114  20:00:00     258.14     1      0\n",
       "20190114  21:00:00     257.46     0      1"
      ]
     },
     "execution_count": 38,
     "metadata": {},
     "output_type": "execute_result"
    }
   ],
   "source": [
    "#backtest = backtest.iloc[bloc1:,:]\n",
    "backtest.head()"
   ]
  },
  {
   "cell_type": "code",
   "execution_count": null,
   "metadata": {},
   "outputs": [],
   "source": []
  },
  {
   "cell_type": "code",
   "execution_count": 31,
   "metadata": {},
   "outputs": [
    {
     "data": {
      "text/plain": [
       "(217, 172)"
      ]
     },
     "execution_count": 31,
     "metadata": {},
     "output_type": "execute_result"
    }
   ],
   "source": [
    "backtest['long'].sum(),backtest['short'].sum()"
   ]
  },
  {
   "cell_type": "code",
   "execution_count": 32,
   "metadata": {},
   "outputs": [
    {
     "data": {
      "text/plain": [
       "(526, 172, 526, 526.0, 526, 217, 526, 526.0)"
      ]
     },
     "execution_count": 32,
     "metadata": {},
     "output_type": "execute_result"
    }
   ],
   "source": [
    "len(predictions_short),predictions_short.sum(),len(prediction_short),prediction_short.sum(),len(predictions_long),predictions_long.sum(),len(prediction_long),prediction_long.sum()"
   ]
  },
  {
   "cell_type": "code",
   "execution_count": 33,
   "metadata": {},
   "outputs": [
    {
     "data": {
      "text/plain": [
       "(526, 3)"
      ]
     },
     "execution_count": 33,
     "metadata": {},
     "output_type": "execute_result"
    }
   ],
   "source": [
    "backtest.shape"
   ]
  },
  {
   "cell_type": "code",
   "execution_count": 34,
   "metadata": {},
   "outputs": [],
   "source": [
    "#backtest = backtest.iloc[4800:,:]"
   ]
  },
  {
   "cell_type": "code",
   "execution_count": 35,
   "metadata": {},
   "outputs": [
    {
     "data": {
      "text/html": [
       "<div>\n",
       "<style scoped>\n",
       "    .dataframe tbody tr th:only-of-type {\n",
       "        vertical-align: middle;\n",
       "    }\n",
       "\n",
       "    .dataframe tbody tr th {\n",
       "        vertical-align: top;\n",
       "    }\n",
       "\n",
       "    .dataframe thead th {\n",
       "        text-align: right;\n",
       "    }\n",
       "</style>\n",
       "<table border=\"1\" class=\"dataframe\">\n",
       "  <thead>\n",
       "    <tr style=\"text-align: right;\">\n",
       "      <th></th>\n",
       "      <th>Close_SPY</th>\n",
       "      <th>long</th>\n",
       "      <th>short</th>\n",
       "    </tr>\n",
       "    <tr>\n",
       "      <th>Date</th>\n",
       "      <th></th>\n",
       "      <th></th>\n",
       "      <th></th>\n",
       "    </tr>\n",
       "  </thead>\n",
       "  <tbody>\n",
       "  </tbody>\n",
       "</table>\n",
       "</div>"
      ],
      "text/plain": [
       "Empty DataFrame\n",
       "Columns: [Close_SPY, long, short]\n",
       "Index: []"
      ]
     },
     "execution_count": 35,
     "metadata": {},
     "output_type": "execute_result"
    }
   ],
   "source": [
    "backtest.head()"
   ]
  },
  {
   "cell_type": "code",
   "execution_count": 39,
   "metadata": {},
   "outputs": [
    {
     "name": "stdout",
     "output_type": "stream",
     "text": [
      "Boucle de backtest initiée!\n",
      "Boucle terminée\n",
      "\n",
      "\u001b[95m \u001b[1m Les gains faramineux s'élèvent à : $ 7759.58501721159 !. En  241  transactions.\n"
     ]
    }
   ],
   "source": [
    "long_pos = 0\n",
    "short_pos = 0\n",
    "equity = 200000\n",
    "price_buy_long = 0\n",
    "price_buy_short = 0\n",
    "equity_list = []\n",
    "nb_transaction = 0\n",
    "col_profit = []\n",
    "max_gain = (0,0)\n",
    "max_loss = (0,0)\n",
    "stop_loss_short = 0.002\n",
    "stop_loss_long = -0.002\n",
    "ticket = 100000\n",
    "target_long = 0.006\n",
    "target_short = -0.006\n",
    "longueur = (backtest.shape[0])-1\n",
    "long_exit = []\n",
    "short_exit = []\n",
    "long_sl = []\n",
    "short_sl = []\n",
    "go_long = []\n",
    "go_short = []\n",
    "lea = 0\n",
    "sea = 0\n",
    "gain_sum = 0\n",
    "loss_sum = 0\n",
    "\n",
    "print(\"Boucle de backtest initiée!\")\n",
    "\n",
    "import sys\n",
    "orig_stdout = sys.stdout\n",
    "f = open('backtestv2_5.txt', 'w')\n",
    "sys.stdout = f\n",
    "\n",
    "for i in range(0,longueur):\n",
    "    \n",
    "    if backtest.iloc[i,1] == 1 and long_pos == 0:\n",
    "        long_pos = 1\n",
    "        nb_transaction += 1\n",
    "        price_buy_long = backtest.iloc[i,0]\n",
    "        n = (ticket/price_buy_long)\n",
    "        equity = equity - n/200\n",
    "        equity_list.append(equity)\n",
    "        col_profit.append(0)\n",
    "        go_long.append(1)\n",
    "        print('\\n Go Long enclenché le ',backtest.index[i],' pour $',price_buy_long,'et ',n,' actions')\n",
    "        print('Nouvel equity :',equity)\n",
    "        \n",
    "    elif backtest.iloc[i,1] == 1 and long_pos == 1 :\n",
    "        equity_list.append(equity)\n",
    "        print('Le',backtest.index[i],', On maintient la position long ouverte')\n",
    "        col_profit.append(0)\n",
    "    \n",
    "    elif backtest.iloc[i,1] == 0 and long_pos == 1:\n",
    "        \n",
    "        if (backtest.iloc[i,0] - price_buy_long)/price_buy_long > target_long:\n",
    "            print('\\n sortie de position long ',backtest.index[i],' pour $',backtest.iloc[i,0])    \n",
    "            print(\"Le prix d'achat était de \",price_buy_long)\n",
    "            print('variation des deux ', backtest.iloc[i,0] - price_buy_long)\n",
    "            print(\"variation sur prix d'achat \", (backtest.iloc[i,0] - price_buy_long)/price_buy_long)\n",
    "            print(' pnl :',( backtest.iloc[i,0] - price_buy_long)*n)\n",
    "            equity = equity - n/200 + ((backtest.iloc[i,0] - price_buy_long) * n)\n",
    "            print('Le nouvel equity est de :',equity,'$')\n",
    "            nb_transaction += 1\n",
    "            long_exit.append(1)\n",
    "            col_profit.append(( backtest.iloc[i,0] - price_buy_long) * n)\n",
    "            if ((backtest.iloc[i-5,0] - price_buy_long) * n) > max_gain[1]:\n",
    "                max_gain = (i,((backtest.iloc[i,0] - price_buy_long) * n))\n",
    "                \n",
    "            elif ((backtest.iloc[i-5,0] - price_buy_long) * n)< max_loss[1]:\n",
    "                max_loss = (i,((backtest.iloc[i,0] - price_buy_long) * n))\n",
    "            equity_list.append(equity)\n",
    "            gain_sum = gain_sum + (backtest.iloc[i,0] - price_buy_long)*n\n",
    "            long_pos = 0\n",
    "        \n",
    "        elif (backtest.iloc[i,0] - price_buy_long)/price_buy_long < stop_loss_long:\n",
    "            equity = equity - n/200 + ((backtest.iloc[i,0] - price_buy_long) * n)\n",
    "            print('\\n sortie stop_loss du long ',backtest.index[i],' pour $',backtest.iloc[i,0])    \n",
    "            print(\"Le prix d'achat était de \",price_buy_long)\n",
    "            print(' pnl :',(backtest.iloc[i,0] - price_buy_long)*n)\n",
    "            print('Le nouvel equity est de :',equity,'$')\n",
    "            nb_transaction += 1\n",
    "            long_sl.append(1)\n",
    "            col_profit.append(((backtest.iloc[i,0] - price_buy_long) * n))\n",
    "            if ((backtest.iloc[i,0] - price_buy_long) * n) > max_gain[1]:\n",
    "                max_gain = (i-5,((backtest.iloc[i,0] - price_buy_long) * n))\n",
    "                \n",
    "            elif ((backtest.iloc[i,0] - price_buy_long) * n)< max_loss[1]:\n",
    "                max_loss = (i-5,((backtest.iloc[i,0] - price_buy_long) * n))\n",
    "            equity_list.append(equity)\n",
    "            long_pos = 0\n",
    "            loss_sum = loss_sum + abs(( backtest.iloc[i,0] - price_buy_long)*n)\n",
    "        \n",
    "    elif backtest.iloc[i,1] == 0 and long_pos == 0 :\n",
    "        equity_list.append(equity)\n",
    "        print('Le',backtest.index[i],', il ne se passe rien')\n",
    "        col_profit.append(0)\n",
    "            \n",
    "for i in range(0,longueur):\n",
    "    \n",
    "    if backtest.iloc[i,2] == 1 and short_pos == 0:\n",
    "        short_pos = 1\n",
    "        nb_transaction += 1\n",
    "        price_buy_short = backtest.iloc[i,0]\n",
    "        n = ticket/price_buy_short\n",
    "        equity = equity - n/200\n",
    "        equity_list.append(equity)\n",
    "        col_profit.append(0)\n",
    "        go_short.append(1)\n",
    "        print('\\n Go Short le ',backtest.index[i],' pour $',price_buy_short)\n",
    "        print('Le nouvel equity est de :',equity,'$')\n",
    "        \n",
    "    elif backtest.iloc[i,2] == 1 and short_pos == 1 :\n",
    "        equity_list.append(equity)\n",
    "        print('Le',backtest.index[i],', on reste en position Short')\n",
    "        col_profit.append(0)\n",
    "    \n",
    "    elif backtest.iloc[i,2] == 0 and short_pos == 1:\n",
    "        \n",
    "        if (backtest.iloc[i,0] - price_buy_short)/price_buy_short < target_short:\n",
    "            print('\\n sortie du position short ',backtest.index[i],' pour $',backtest.iloc[i,0])    \n",
    "            print(\"Le prix d'achat était de \",price_buy_short)\n",
    "            print(' pnl :',( backtest.iloc[i,0] - price_buy_short)*n)\n",
    "            equity = equity - n/200 + abs((backtest.iloc[i,0] - price_buy_short) * n)\n",
    "            print('Le nouvel equity est de :',equity,'$')\n",
    "            nb_transaction += 1\n",
    "            short_exit.append(1)\n",
    "            col_profit.append(abs((( backtest.iloc[i,0] - price_buy_short) * n)))\n",
    "            if ((backtest.iloc[i,0] - price_buy_short) * n) > max_gain[1]:\n",
    "                max_gain = (i,((backtest.iloc[i,0] - price_buy_short) * n))\n",
    "                \n",
    "            elif ((backtest.iloc[i,0] - price_buy_short) * n)< max_loss[1]:\n",
    "                max_loss = (i,((backtest.iloc[i,0] - price_buy_short) * n))\n",
    "            equity_list.append(equity)\n",
    "            short_pos = 0\n",
    "            gain_sum = gain_sum + abs((backtest.iloc[i,0] - price_buy_short) * n)\n",
    "        \n",
    "        elif (backtest.iloc[i,0] - price_buy_short) > stop_loss_short:\n",
    "            equity = equity - n/200 - abs((backtest.iloc[i,0] - price_buy_short)* n)\n",
    "            print('\\n sortie stop_loss du short ',backtest.index[i],' pour $',backtest.iloc[i,0])    \n",
    "            print(\"Le prix d'achat était de \",price_buy_short)\n",
    "            print(' pnl :',-(backtest.iloc[i,0] - price_buy_short)*n)\n",
    "            print('Le nouvel equity est de :',equity,'$')\n",
    "            nb_transaction += 1\n",
    "            short_sl.append(1)\n",
    "            col_profit.append(((backtest.iloc[i,0] - price_buy_short) * n))\n",
    "            if ((backtest.iloc[i,0] - price_buy_short) * n) > max_gain[1]:\n",
    "                max_gain = (i,((backtest.iloc[i,0] - price_buy_short) * n))\n",
    "                \n",
    "            elif ((backtest.iloc[i,0] - price_buy_short) * n)< max_loss[1]:\n",
    "                max_loss = (i,((backtest.iloc[i,0] - price_buy_short) * n))\n",
    "            equity_list.append(equity)\n",
    "            short_pos = 0\n",
    "            loss_sum = loss_sum + abs((backtest.iloc[i,0] - price_buy_short) * n)\n",
    "        \n",
    "    elif backtest.iloc[i,2] == 0 and short_pos == 0 :\n",
    "        equity_list.append(equity)\n",
    "        print('Le',backtest.index[i],', il ne se passe rien')\n",
    "        col_profit.append(0)    \n",
    "\n",
    "\n",
    "if long_pos == 1 :\n",
    "    print(\"Sortie d'une position long en l'air\")\n",
    "    equity = equity - n/200 + ((backtest.iloc[longueur,0]- price_buy_long) * n)\n",
    "    lea = 1\n",
    "if short_pos == 1 :\n",
    "    print(\"Sortie d'une position short en l'air\")\n",
    "    equity = equity - n/200 + ((backtest.iloc[longueur,0]- price_buy_short) * n)\n",
    "    sea = 1\n",
    "    \n",
    "            \n",
    "print(\"\\n\\033[95m \\033[1m Les gains faramineux s'élèvent à : $\",equity-200000,'!. En ',nb_transaction,' transactions.' )\n",
    "f.close()\n",
    "sys.stdout = orig_stdout\n",
    "print('Boucle terminée')\n",
    "print(\"\\n\\033[95m \\033[1m Les gains faramineux s'élèvent à : $\",equity-200000,'!. En ',nb_transaction,' transactions.' )\n"
   ]
  },
  {
   "cell_type": "code",
   "execution_count": 40,
   "metadata": {},
   "outputs": [],
   "source": [
    "longueur_long = (backtest.shape[0])-1"
   ]
  },
  {
   "cell_type": "code",
   "execution_count": 41,
   "metadata": {},
   "outputs": [
    {
     "data": {
      "text/plain": [
       "1"
      ]
     },
     "execution_count": 41,
     "metadata": {},
     "output_type": "execute_result"
    }
   ],
   "source": [
    "backtest.iloc[longueur,2]"
   ]
  },
  {
   "cell_type": "code",
   "execution_count": 42,
   "metadata": {},
   "outputs": [
    {
     "data": {
      "text/plain": [
       "(843, 217, 241, 107759.58501721159, 172)"
      ]
     },
     "execution_count": 42,
     "metadata": {},
     "output_type": "execute_result"
    }
   ],
   "source": [
    "len(equity_list),backtest['long'].sum(),nb_transaction,equity-100000,backtest['short'].sum()"
   ]
  },
  {
   "cell_type": "markdown",
   "metadata": {},
   "source": [
    "gain_sum = 0\n",
    "loss_sum = 0\n",
    "for i in range(len(col_profit)):\n",
    "    if col_profit[i]>0:\n",
    "        gain_sum+=col_profit[i]\n",
    "    else :\n",
    "        loss_sum+=col_profit[i]\n",
    "        "
   ]
  },
  {
   "cell_type": "code",
   "execution_count": 43,
   "metadata": {},
   "outputs": [
    {
     "data": {
      "text/plain": [
       "(843, 843, 15)"
      ]
     },
     "execution_count": 43,
     "metadata": {},
     "output_type": "execute_result"
    }
   ],
   "source": [
    "len(equity_list),len(col_profit),26452-26437"
   ]
  },
  {
   "cell_type": "code",
   "execution_count": 44,
   "metadata": {},
   "outputs": [],
   "source": [
    "backtest_graph = pd.DataFrame()\n",
    "backtest_graph['equity'] = equity_list\n",
    "backtest_graph['col_profit'] = col_profit\n",
    "#backtest_graph['col_is_win'] = col_is_win\n",
    "#backtest_graph['col_cours'] = col_cours"
   ]
  },
  {
   "cell_type": "code",
   "execution_count": 45,
   "metadata": {},
   "outputs": [
    {
     "data": {
      "text/plain": [
       "<matplotlib.legend.Legend at 0x1a192c8080>"
      ]
     },
     "execution_count": 45,
     "metadata": {},
     "output_type": "execute_result"
    },
    {
     "data": {
      "image/png": "[encoded data removed]",
      "text/plain": [
       "<Figure size 1152x432 with 1 Axes>"
      ]
     },
     "metadata": {
      "needs_background": "light"
     },
     "output_type": "display_data"
    }
   ],
   "source": [
    "plt.figure(figsize=(16,6))\n",
    "backtest_graph['equity'].plot(ylim=(180000))\n",
    "plt.legend()"
   ]
  },
  {
   "cell_type": "code",
   "execution_count": 46,
   "metadata": {},
   "outputs": [
    {
     "data": {
      "text/plain": [
       "<matplotlib.legend.Legend at 0x1a1971a668>"
      ]
     },
     "execution_count": 46,
     "metadata": {},
     "output_type": "execute_result"
    },
    {
     "data": {
      "image/png": "[encoded data removed]",
      "text/plain": [
       "<Figure size 1152x432 with 1 Axes>"
      ]
     },
     "metadata": {
      "needs_background": "light"
     },
     "output_type": "display_data"
    }
   ],
   "source": [
    "plt.figure(figsize=(16,6))\n",
    "plt.plot(backtest_graph['col_profit'])\n",
    "plt.scatter(max_gain[0],max_gain[1],c='y')\n",
    "plt.scatter(max_loss[0],max_loss[1],c='r')\n",
    "plt.legend()"
   ]
  },
  {
   "cell_type": "code",
   "execution_count": 47,
   "metadata": {},
   "outputs": [],
   "source": [
    "cumul_profit = sum(col_profit)\n",
    "nul_profit = col_profit.count(0)\n",
    "len_profit = len(col_profit)"
   ]
  },
  {
   "cell_type": "code",
   "execution_count": 48,
   "metadata": {},
   "outputs": [
    {
     "name": "stdout",
     "output_type": "stream",
     "text": [
      "Période testée :\n",
      "Début :  20190114  17:00:00\n",
      "Fin :  20190502  17:00:00\n",
      "ROC long :  77.96 %\n",
      "ROC short :  76.03 %\n",
      "Transaction à $100,000\n",
      "Equity initiale : $200,000\n",
      "Equity finale :  207759.59\n",
      "Gain généré : 7759.59 $\n",
      "Nombre de transactions :  241\n",
      "Nombre de Long :  40\n",
      "Nombre de Short :  81\n",
      "Nombre winners :  32\n",
      "Nombre loosers :  88\n",
      "Nombre de long winners :  23\n",
      "Nombre de short winners :  9\n",
      "Nombre de long loosers :  17\n",
      "Nombre de short loosers :  71\n",
      "Nombre de short en l'air :  1\n",
      "Nombre long en l'air :  0\n",
      "Fees :  361.5\n",
      "Gain maximal 2338.89   2338.89\n",
      "Perte maximale -903.53   -1268.59\n",
      "Moyenne du gain 64.39\n",
      "Somme de tous les gains 29994.91\n",
      "Somme de tous le loss 20512.03\n",
      "profit factor 1.46\n"
     ]
    }
   ],
   "source": [
    "print('Période testée :')\n",
    "print('Début : ',backtest.index[0])\n",
    "print('Fin : ',backtest.index[-1])\n",
    "print('ROC long : ',round(roc_long*100,2),'%')\n",
    "print('ROC short : ',round(roc_short*100,2),'%')\n",
    "print('Transaction à $100,000')\n",
    "print('Equity initiale : $200,000')\n",
    "print('Equity finale : ',round(equity,2))\n",
    "print('Gain généré :',round(equity-200000,2),'$')\n",
    "print('Nombre de transactions : ',nb_transaction)\n",
    "print('Nombre de Long : ',sum(go_long))\n",
    "print('Nombre de Short : ',sum(go_short))\n",
    "print('Nombre winners : ',sum(long_exit) + sum(short_exit))\n",
    "print('Nombre loosers : ',sum(long_sl) + sum(short_sl))\n",
    "print('Nombre de long winners : ',sum(long_exit))\n",
    "print('Nombre de short winners : ',sum(short_exit))\n",
    "print('Nombre de long loosers : ',sum(long_sl))\n",
    "print('Nombre de short loosers : ',sum(short_sl))\n",
    "print(\"Nombre de short en l'air : \", sea)\n",
    "print(\"Nombre long en l'air : \",lea)\n",
    "print('Fees : ',nb_transaction*1.5)\n",
    "#print('Nombre de positions gagnées',sum(col_is_win))\n",
    "#print('Nombre de positions perdues',sum(col_close_pos)-sum(col_is_win))\n",
    "print('Gain maximal',round(max(col_profit),2),' ',round(max_gain[1],2))\n",
    "print('Perte maximale',round(min(col_profit),2),' ',round(max_loss[1],2))\n",
    "print('Moyenne du gain',round(((equity-200000)/(nb_transaction/2)),2))\n",
    "print('Somme de tous les gains',round(gain_sum,2))\n",
    "print('Somme de tous le loss',round(abs(loss_sum),2))\n",
    "print('profit factor',round(abs(gain_sum/loss_sum),2))\n"
   ]
  },
  {
   "cell_type": "code",
   "execution_count": 49,
   "metadata": {},
   "outputs": [],
   "source": [
    "# save the model to disk\n",
    "filename = 'finalized_model_long.sav'\n",
    "pickle.dump(model_long, open(filename, 'wb'))\n",
    "filename = 'finalized_model_short.sav'\n",
    "pickle.dump(model_short, open(filename, 'wb'))"
   ]
  },
  {
   "cell_type": "markdown",
   "metadata": {},
   "source": [
    "# load the model from disk\n",
    "loaded_model = pickle.load(open(filename, 'rb'))\n",
    "result = loaded_model.score(X_test, Y_test)\n",
    "print(result)"
   ]
  }
 ],
 "metadata": {
  "kernelspec": {
   "display_name": "Python 3",
   "language": "python",
   "name": "python3"
  },
  "language_info": {
   "codemirror_mode": {
    "name": "ipython",
    "version": 3
   },
   "file_extension": ".py",
   "mimetype": "text/x-python",
   "name": "python",
   "nbconvert_exporter": "python",
   "pygments_lexer": "ipython3",
   "version": "3.6.8"
  }
 },
 "nbformat": 4,
 "nbformat_minor": 2
}
