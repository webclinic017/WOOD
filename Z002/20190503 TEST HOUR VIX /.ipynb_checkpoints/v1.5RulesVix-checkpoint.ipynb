{
 "cells": [
  {
   "cell_type": "code",
   "execution_count": 1,
   "metadata": {},
   "outputs": [],
   "source": [
    "___Author___='LumberJack Jyss'"
   ]
  },
  {
   "cell_type": "code",
   "execution_count": 2,
   "metadata": {},
   "outputs": [
    {
     "name": "stdout",
     "output_type": "stream",
     "text": [
      "LumberJack BRUTAL AtidotCom TREND RULES\n",
      "LumberJack Jyss (c)\n"
     ]
    }
   ],
   "source": [
    "print('LumberJack BRUTAL AtidotCom TREND RULES\\nLumberJack Jyss (c)')"
   ]
  },
  {
   "cell_type": "code",
   "execution_count": 3,
   "metadata": {},
   "outputs": [],
   "source": [
    "import pandas as pd\n",
    "import numpy as np\n",
    "import matplotlib\n",
    "import matplotlib.pyplot as plt\n",
    "%matplotlib inline"
   ]
  },
  {
   "cell_type": "code",
   "execution_count": 4,
   "metadata": {},
   "outputs": [],
   "source": [
    "df =  pd.read_csv('VIX.csv')\n",
    "#df =  pd.read_csv('dataset_daily.csv')"
   ]
  },
  {
   "cell_type": "code",
   "execution_count": 5,
   "metadata": {},
   "outputs": [
    {
     "data": {
      "text/html": [
       "<div>\n",
       "<style scoped>\n",
       "    .dataframe tbody tr th:only-of-type {\n",
       "        vertical-align: middle;\n",
       "    }\n",
       "\n",
       "    .dataframe tbody tr th {\n",
       "        vertical-align: top;\n",
       "    }\n",
       "\n",
       "    .dataframe thead th {\n",
       "        text-align: right;\n",
       "    }\n",
       "</style>\n",
       "<table border=\"1\" class=\"dataframe\">\n",
       "  <thead>\n",
       "    <tr style=\"text-align: right;\">\n",
       "      <th></th>\n",
       "      <th>spy_oc</th>\n",
       "      <th>spy_hl</th>\n",
       "      <th>spy_volume</th>\n",
       "      <th>spy_close</th>\n",
       "      <th>vix_close</th>\n",
       "      <th>SPY</th>\n",
       "    </tr>\n",
       "    <tr>\n",
       "      <th>Date</th>\n",
       "      <th></th>\n",
       "      <th></th>\n",
       "      <th></th>\n",
       "      <th></th>\n",
       "      <th></th>\n",
       "      <th></th>\n",
       "    </tr>\n",
       "  </thead>\n",
       "  <tbody>\n",
       "    <tr>\n",
       "      <th>20160503  17:00:00</th>\n",
       "      <td>-1.471420</td>\n",
       "      <td>0.061529</td>\n",
       "      <td>-0.343107</td>\n",
       "      <td>0.001216</td>\n",
       "      <td>-0.013614</td>\n",
       "      <td>205.82</td>\n",
       "    </tr>\n",
       "    <tr>\n",
       "      <th>20160503  18:00:00</th>\n",
       "      <td>0.280112</td>\n",
       "      <td>-0.115925</td>\n",
       "      <td>-0.314547</td>\n",
       "      <td>0.001603</td>\n",
       "      <td>-0.018821</td>\n",
       "      <td>206.15</td>\n",
       "    </tr>\n",
       "    <tr>\n",
       "      <th>20160503  19:00:00</th>\n",
       "      <td>-0.062520</td>\n",
       "      <td>0.213080</td>\n",
       "      <td>0.490896</td>\n",
       "      <td>0.001407</td>\n",
       "      <td>-0.018542</td>\n",
       "      <td>206.44</td>\n",
       "    </tr>\n",
       "    <tr>\n",
       "      <th>20160503  20:00:00</th>\n",
       "      <td>-1.433811</td>\n",
       "      <td>-0.337792</td>\n",
       "      <td>-0.199358</td>\n",
       "      <td>-0.000630</td>\n",
       "      <td>0.011726</td>\n",
       "      <td>206.31</td>\n",
       "    </tr>\n",
       "    <tr>\n",
       "      <th>20160503  21:00:00</th>\n",
       "      <td>0.307456</td>\n",
       "      <td>0.306060</td>\n",
       "      <td>0.965007</td>\n",
       "      <td>-0.000776</td>\n",
       "      <td>0.000644</td>\n",
       "      <td>206.15</td>\n",
       "    </tr>\n",
       "  </tbody>\n",
       "</table>\n",
       "</div>"
      ],
      "text/plain": [
       "                      spy_oc    spy_hl  spy_volume  spy_close  vix_close  \\\n",
       "Date                                                                       \n",
       "20160503  17:00:00 -1.471420  0.061529   -0.343107   0.001216  -0.013614   \n",
       "20160503  18:00:00  0.280112 -0.115925   -0.314547   0.001603  -0.018821   \n",
       "20160503  19:00:00 -0.062520  0.213080    0.490896   0.001407  -0.018542   \n",
       "20160503  20:00:00 -1.433811 -0.337792   -0.199358  -0.000630   0.011726   \n",
       "20160503  21:00:00  0.307456  0.306060    0.965007  -0.000776   0.000644   \n",
       "\n",
       "                       SPY  \n",
       "Date                        \n",
       "20160503  17:00:00  205.82  \n",
       "20160503  18:00:00  206.15  \n",
       "20160503  19:00:00  206.44  \n",
       "20160503  20:00:00  206.31  \n",
       "20160503  21:00:00  206.15  "
      ]
     },
     "execution_count": 5,
     "metadata": {},
     "output_type": "execute_result"
    }
   ],
   "source": [
    "df.set_index(df['Date'],drop=True,inplace=True)\n",
    "df = df.iloc[:,1:7]\n",
    "df.head()"
   ]
  },
  {
   "cell_type": "code",
   "execution_count": 6,
   "metadata": {},
   "outputs": [
    {
     "name": "stdout",
     "output_type": "stream",
     "text": [
      "<class 'pandas.core.frame.DataFrame'>\n",
      "Index: 5262 entries, 20160503  17:00:00 to 20190502  18:00:00\n",
      "Data columns (total 6 columns):\n",
      "spy_oc        5262 non-null float64\n",
      "spy_hl        5262 non-null float64\n",
      "spy_volume    5262 non-null float64\n",
      "spy_close     5262 non-null float64\n",
      "vix_close     5262 non-null float64\n",
      "SPY           5262 non-null float64\n",
      "dtypes: float64(6)\n",
      "memory usage: 287.8+ KB\n"
     ]
    }
   ],
   "source": [
    "df.info()"
   ]
  },
  {
   "cell_type": "code",
   "execution_count": 7,
   "metadata": {},
   "outputs": [
    {
     "data": {
      "text/plain": [
       "(5262, 6)"
      ]
     },
     "execution_count": 7,
     "metadata": {},
     "output_type": "execute_result"
    }
   ],
   "source": [
    "df.shape"
   ]
  },
  {
   "cell_type": "code",
   "execution_count": 8,
   "metadata": {},
   "outputs": [
    {
     "data": {
      "text/plain": [
       "5262"
      ]
     },
     "execution_count": 8,
     "metadata": {},
     "output_type": "execute_result"
    }
   ],
   "source": [
    "df.shape[0]"
   ]
  },
  {
   "cell_type": "code",
   "execution_count": 9,
   "metadata": {},
   "outputs": [
    {
     "data": {
      "text/html": [
       "<div>\n",
       "<style scoped>\n",
       "    .dataframe tbody tr th:only-of-type {\n",
       "        vertical-align: middle;\n",
       "    }\n",
       "\n",
       "    .dataframe tbody tr th {\n",
       "        vertical-align: top;\n",
       "    }\n",
       "\n",
       "    .dataframe thead th {\n",
       "        text-align: right;\n",
       "    }\n",
       "</style>\n",
       "<table border=\"1\" class=\"dataframe\">\n",
       "  <thead>\n",
       "    <tr style=\"text-align: right;\">\n",
       "      <th></th>\n",
       "      <th>spy_oc</th>\n",
       "      <th>spy_hl</th>\n",
       "      <th>spy_volume</th>\n",
       "      <th>spy_close</th>\n",
       "      <th>vix_close</th>\n",
       "      <th>SPY</th>\n",
       "    </tr>\n",
       "    <tr>\n",
       "      <th>Date</th>\n",
       "      <th></th>\n",
       "      <th></th>\n",
       "      <th></th>\n",
       "      <th></th>\n",
       "      <th></th>\n",
       "      <th></th>\n",
       "    </tr>\n",
       "  </thead>\n",
       "  <tbody>\n",
       "    <tr>\n",
       "      <th>20190501  21:00:00</th>\n",
       "      <td>2.403087</td>\n",
       "      <td>0.297601</td>\n",
       "      <td>0.528754</td>\n",
       "      <td>-0.006604</td>\n",
       "      <td>0.093182</td>\n",
       "      <td>291.84</td>\n",
       "    </tr>\n",
       "    <tr>\n",
       "      <th>20190502  15:30:00</th>\n",
       "      <td>-1.252513</td>\n",
       "      <td>-0.564194</td>\n",
       "      <td>-0.883913</td>\n",
       "      <td>0.001131</td>\n",
       "      <td>-0.022115</td>\n",
       "      <td>292.17</td>\n",
       "    </tr>\n",
       "    <tr>\n",
       "      <th>20190502  16:00:00</th>\n",
       "      <td>-2.143295</td>\n",
       "      <td>0.157878</td>\n",
       "      <td>0.086283</td>\n",
       "      <td>-0.001917</td>\n",
       "      <td>0.029682</td>\n",
       "      <td>291.61</td>\n",
       "    </tr>\n",
       "    <tr>\n",
       "      <th>20190502  17:00:00</th>\n",
       "      <td>1.892519</td>\n",
       "      <td>1.208981</td>\n",
       "      <td>1.254261</td>\n",
       "      <td>-0.005521</td>\n",
       "      <td>0.083047</td>\n",
       "      <td>290.00</td>\n",
       "    </tr>\n",
       "    <tr>\n",
       "      <th>20190502  18:00:00</th>\n",
       "      <td>-0.950559</td>\n",
       "      <td>-0.773631</td>\n",
       "      <td>-0.838146</td>\n",
       "      <td>-0.000241</td>\n",
       "      <td>-0.012674</td>\n",
       "      <td>289.93</td>\n",
       "    </tr>\n",
       "  </tbody>\n",
       "</table>\n",
       "</div>"
      ],
      "text/plain": [
       "                      spy_oc    spy_hl  spy_volume  spy_close  vix_close  \\\n",
       "Date                                                                       \n",
       "20190501  21:00:00  2.403087  0.297601    0.528754  -0.006604   0.093182   \n",
       "20190502  15:30:00 -1.252513 -0.564194   -0.883913   0.001131  -0.022115   \n",
       "20190502  16:00:00 -2.143295  0.157878    0.086283  -0.001917   0.029682   \n",
       "20190502  17:00:00  1.892519  1.208981    1.254261  -0.005521   0.083047   \n",
       "20190502  18:00:00 -0.950559 -0.773631   -0.838146  -0.000241  -0.012674   \n",
       "\n",
       "                       SPY  \n",
       "Date                        \n",
       "20190501  21:00:00  291.84  \n",
       "20190502  15:30:00  292.17  \n",
       "20190502  16:00:00  291.61  \n",
       "20190502  17:00:00  290.00  \n",
       "20190502  18:00:00  289.93  "
      ]
     },
     "execution_count": 9,
     "metadata": {},
     "output_type": "execute_result"
    }
   ],
   "source": [
    "df.tail()"
   ]
  },
  {
   "cell_type": "code",
   "execution_count": 10,
   "metadata": {},
   "outputs": [
    {
     "name": "stdout",
     "output_type": "stream",
     "text": [
      "Début de la boucle\n",
      "Boucle terminée\n",
      "La long target était fixée à  0.002\n",
      "La short target était fixée à  -0.001\n",
      "La règle était qu'une des 5 periodes d'avant était inférieure ou supérieure à la target (long ou short)\n",
      "Il y a eu  5262  périodes testées\n",
      "Durant cette période, 2602  long et  2018  short\n",
      "Les gains totaux s'élèvent à : 2605766 $\n"
     ]
    }
   ],
   "source": [
    "long_list = []\n",
    "short_list = []\n",
    "equity_list = []\n",
    "var_long_list = []\n",
    "var_short_list = []\n",
    "candle_close = 0\n",
    "candle_close_1 = 0\n",
    "candle_close_2 = 0\n",
    "candle_close_3 = 0\n",
    "candle_close_4 = 0\n",
    "candle_close_5 = 0\n",
    "candle_open = 0\n",
    "candle_high = 0\n",
    "candle_low = 0\n",
    "n=0\n",
    "c = 0\n",
    "cc = 0\n",
    "long_target = 0.002\n",
    "short_target = -0.001\n",
    "ticket = 100000\n",
    "equity = 100000\n",
    "print('Début de la boucle')\n",
    "\n",
    "import sys\n",
    "orig_stdout = sys.stdout\n",
    "f = open('OUt_rules.txt', 'w')\n",
    "sys.stdout = f\n",
    "\n",
    "\n",
    "for i in range(5,df.shape[0]-1):\n",
    "    print('\\nCompteur de ligne :',i)\n",
    "    print('Date :',df.index[i])\n",
    "    c+=1\n",
    "    \n",
    "    candle_close = float(df.iloc[i,5])\n",
    "    candle_close_1 = float(df.iloc[i-1,5])\n",
    "    print('candle_close_1',candle_close_1)\n",
    "    candle_close_2 = float(df.iloc[i-2,5])\n",
    "    candle_close_3 = float(df.iloc[i-3,5])\n",
    "    candle_close_4 = float(df.iloc[i-4,5])\n",
    "    candle_close_5 = float(df.iloc[i-5,5])\n",
    "    candle_open = float(df.iloc[i,5])\n",
    "    #candle_high = float(df.iloc[i,7])\n",
    "    #candle_low = float(df.iloc[i,8])\n",
    "    \n",
    "    var1 = candle_open - candle_close_1\n",
    "    var2 = candle_open - candle_close_2\n",
    "    var3 = candle_open - candle_close_3\n",
    "    var4 = candle_open - candle_close_4\n",
    "    var5 = candle_open - candle_close_5\n",
    "    \n",
    "    if var1/candle_close_1 > long_target or var2/candle_close_2 > long_target or\\\n",
    "    var3/candle_close_3 > long_target or var4/candle_close_4 > long_target or var5/candle_close_5 > long_target:\n",
    "        var_long_list.append(var1)\n",
    "        var_long_list.append(var2)\n",
    "        var_long_list.append(var3)\n",
    "        var_long_list.append(var4)\n",
    "        var_long_list.append(var5)\n",
    "        print('\\nDate :',df.index[i])\n",
    "        print('Long effectué, :',var1,', ',var2,', ',var3,', ',var4)\n",
    "        print('close actuel',candle_open)\n",
    "        n = round(ticket/candle_open)\n",
    "        print('n ',n)\n",
    "        print(\"les 4 close d'avant\",\\\n",
    "              candle_close_1,candle_close_2,candle_close_3,\\\n",
    "              candle_close_4,candle_close_5)\n",
    "        print('Max ',max(var_long_list))\n",
    "        print('pnl :',max(var_long_list)*ticket)\n",
    "        equity = equity -(n/100) + max(var_long_list)*n\n",
    "        #equity = equity - 3 + max(var_long_list)*ticket\n",
    "        print('Nouvel equity :',equity)\n",
    "        long_list.append(1)\n",
    "        short_list.append(0)\n",
    "        equity_list.append(equity)\n",
    "        cc+=1\n",
    "        var_long_list = []\n",
    "    \n",
    "    elif var1/candle_close_1 < short_target or var2/candle_close_2 < short_target or \\\n",
    "    var3/candle_close_3 < short_target or var4/candle_close_4 < short_target or var5/candle_close_5 < short_target:\n",
    "        var_short_list.append(var1)\n",
    "        var_short_list.append(var2)\n",
    "        var_short_list.append(var3)\n",
    "        var_short_list.append(var4)\n",
    "        var_short_list.append(var5)\n",
    "        print('\\nDate :',df.index[i])\n",
    "        print('Short effectué :',var1,', ',var2,', ',var3,', ',var4)\n",
    "        print('close actuel',candle_open)\n",
    "        n = round(ticket/candle_open)\n",
    "        print('n ',n)\n",
    "        print(\"les 4 close d'avant\",\\\n",
    "              candle_close_1,candle_close_2,candle_close_3,\\\n",
    "              candle_close_4,candle_close_5)\n",
    "        print('Min ',-min(var_short_list))\n",
    "        print('pnl :', - min(var_short_list)*ticket)\n",
    "        equity = equity -n/100 - min(var_short_list)*n\n",
    "        #equity = equity - 3 - min(var_short_list)*ticket\n",
    "        print('Nouvel equity :',equity)\n",
    "        short_list.append(1)\n",
    "        long_list.append(0)\n",
    "        equity_list.append(equity)\n",
    "        cc+=1\n",
    "        var_short_list = []\n",
    "    \n",
    "    else :\n",
    "        print('\\nDate :',df.index[i])\n",
    "        print('Il ne se passe rien')\n",
    "        short_list.append(0)\n",
    "        long_list.append(0)\n",
    "        equity_list.append(equity)\n",
    "        cc+=1\n",
    "\n",
    "\n",
    "print('Boucle terminée')\n",
    "print('La long target était fixée à ',long_target)\n",
    "print('La short target était fixée à ',short_target)\n",
    "print('La règle était 4 périodes consécutives au dessus de long ou au dessous de short')\n",
    "print('Il y a eu ',df.shape[0],' périodes testées')\n",
    "print('Durant cette période,',sum(long_list),' long et ',sum(short_list),' short')\n",
    "print(\"Les gains totaux s'élèvent à :\",round(equity-100000),'$' )\n",
    "    \n",
    "f.close()\n",
    "sys.stdout = orig_stdout\n",
    "\n",
    "\n",
    "print('Boucle terminée')\n",
    "print('La long target était fixée à ',long_target)\n",
    "print('La short target était fixée à ',short_target)\n",
    "print(\"La règle était qu'une des 5 periodes d'avant était inférieure ou supérieure à la target (long ou short)\")\n",
    "print('Il y a eu ',df.shape[0],' périodes testées')\n",
    "print('Durant cette période,',sum(long_list),' long et ',sum(short_list),' short')\n",
    "print(\"Les gains totaux s'élèvent à :\",round(equity-100000),'$' )\n",
    "\n",
    "var_dtf = pd.DataFrame()\n",
    "var_dtf['Long'] = long_list\n",
    "var_dtf['Short'] = short_list\n",
    "var_dtf['Equity'] = equity_list\n",
    "\n",
    " \n",
    "    "
   ]
  },
  {
   "cell_type": "code",
   "execution_count": 11,
   "metadata": {},
   "outputs": [
    {
     "data": {
      "text/plain": [
       "(290.0, 291.61, 292.17, 291.84, 293.78, 294.35, 290.0)"
      ]
     },
     "execution_count": 11,
     "metadata": {},
     "output_type": "execute_result"
    }
   ],
   "source": [
    "candle_close,candle_close_1,candle_close_2,candle_close_3,candle_close_4,candle_close_5,candle_open"
   ]
  },
  {
   "cell_type": "code",
   "execution_count": 12,
   "metadata": {},
   "outputs": [
    {
     "data": {
      "text/plain": [
       "(4620, 5256, 5256, 5256, 5256, 5256, 5262)"
      ]
     },
     "execution_count": 12,
     "metadata": {},
     "output_type": "execute_result"
    }
   ],
   "source": [
    "sum(short_list)+sum(long_list), c, cc, len(short_list),len(long_list),len(equity_list),len(df)"
   ]
  },
  {
   "cell_type": "code",
   "execution_count": 13,
   "metadata": {},
   "outputs": [
    {
     "data": {
      "text/plain": [
       "<matplotlib.legend.Legend at 0x120a714a8>"
      ]
     },
     "execution_count": 13,
     "metadata": {},
     "output_type": "execute_result"
    },
    {
     "data": {
      "image/png": "[encoded data removed]",
      "text/plain": [
       "<Figure size 1152x432 with 1 Axes>"
      ]
     },
     "metadata": {
      "needs_background": "light"
     },
     "output_type": "display_data"
    }
   ],
   "source": [
    "plt.figure(figsize=(16,6))\n",
    "plt.plot(var_dtf['Long'],color='orange',label='Long')\n",
    "plt.plot(var_dtf['Short'],color='purple',label='Short')\n",
    "plt.axhline(y=long_target, color='cyan',linestyle='-', label='Long Target')\n",
    "plt.axhline(y=0, color='red',linestyle='--', label='Zéro')\n",
    "plt.axhline(y=short_target,color='cyan',label='Short Target')\n",
    "plt.legend()"
   ]
  },
  {
   "cell_type": "code",
   "execution_count": 14,
   "metadata": {},
   "outputs": [
    {
     "data": {
      "text/plain": [
       "<matplotlib.legend.Legend at 0x122819fd0>"
      ]
     },
     "execution_count": 14,
     "metadata": {},
     "output_type": "execute_result"
    },
    {
     "data": {
      "image/png": "[encoded data removed]",
      "text/plain": [
       "<Figure size 1152x432 with 1 Axes>"
      ]
     },
     "metadata": {
      "needs_background": "light"
     },
     "output_type": "display_data"
    }
   ],
   "source": [
    "plt.figure(figsize=(16,6))\n",
    "plt.plot(var_dtf['Equity'],color='green',label='Equity')\n",
    "plt.axhline(y=100000., color='red',linestyle='-', label='mise de départ')\n",
    "plt.legend()"
   ]
  },
  {
   "cell_type": "code",
   "execution_count": 15,
   "metadata": {},
   "outputs": [
    {
     "data": {
      "text/plain": [
       "(5256, 5256, 5262)"
      ]
     },
     "execution_count": 15,
     "metadata": {},
     "output_type": "execute_result"
    }
   ],
   "source": [
    "len(short_list),len(long_list),len(df)"
   ]
  },
  {
   "cell_type": "code",
   "execution_count": 16,
   "metadata": {},
   "outputs": [],
   "source": [
    "df = df.iloc[5:(df.shape[0]-1),:]\n",
    "df['short'] = short_list\n",
    "df['long'] = long_list"
   ]
  },
  {
   "cell_type": "code",
   "execution_count": 17,
   "metadata": {},
   "outputs": [
    {
     "name": "stdout",
     "output_type": "stream",
     "text": [
      "Nombre de positions de long trouvées : 2602\n",
      "Nombre de positions short trouvées : 2018\n",
      "Sur un total de  4620\n"
     ]
    }
   ],
   "source": [
    "print('Nombre de positions de long trouvées :',sum(long_list))\n",
    "print('Nombre de positions short trouvées :',sum(short_list))\n",
    "print('Sur un total de ',sum(short_list)+sum(long_list))"
   ]
  },
  {
   "cell_type": "code",
   "execution_count": 18,
   "metadata": {},
   "outputs": [
    {
     "name": "stdout",
     "output_type": "stream",
     "text": [
      "Sur un achat systématique, les gains représentent 43.95 %\n"
     ]
    }
   ],
   "source": [
    "print('Sur un achat systématique, les gains représentent',\\\n",
    "      round((sum(short_list)+sum(long_list))/(len(short_list)+len(long_list))*100,2),'%')"
   ]
  },
  {
   "cell_type": "code",
   "execution_count": 21,
   "metadata": {},
   "outputs": [
    {
     "data": {
      "text/plain": [
       "(2018, 2602)"
      ]
     },
     "execution_count": 21,
     "metadata": {},
     "output_type": "execute_result"
    }
   ],
   "source": [
    "#df['short'] = df['trend'].shift(-1)\n",
    "df['short'].sum(),df['long'].sum()"
   ]
  },
  {
   "cell_type": "code",
   "execution_count": 22,
   "metadata": {},
   "outputs": [
    {
     "data": {
      "text/html": [
       "<div>\n",
       "<style scoped>\n",
       "    .dataframe tbody tr th:only-of-type {\n",
       "        vertical-align: middle;\n",
       "    }\n",
       "\n",
       "    .dataframe tbody tr th {\n",
       "        vertical-align: top;\n",
       "    }\n",
       "\n",
       "    .dataframe thead th {\n",
       "        text-align: right;\n",
       "    }\n",
       "</style>\n",
       "<table border=\"1\" class=\"dataframe\">\n",
       "  <thead>\n",
       "    <tr style=\"text-align: right;\">\n",
       "      <th></th>\n",
       "      <th>spy_oc</th>\n",
       "      <th>spy_hl</th>\n",
       "      <th>spy_volume</th>\n",
       "      <th>spy_close</th>\n",
       "      <th>vix_close</th>\n",
       "      <th>SPY</th>\n",
       "      <th>short</th>\n",
       "      <th>long</th>\n",
       "    </tr>\n",
       "    <tr>\n",
       "      <th>Date</th>\n",
       "      <th></th>\n",
       "      <th></th>\n",
       "      <th></th>\n",
       "      <th></th>\n",
       "      <th></th>\n",
       "      <th></th>\n",
       "      <th></th>\n",
       "      <th></th>\n",
       "    </tr>\n",
       "  </thead>\n",
       "  <tbody>\n",
       "    <tr>\n",
       "      <th>20190501  20:00:00</th>\n",
       "      <td>-3.036799</td>\n",
       "      <td>1.947027</td>\n",
       "      <td>1.974079</td>\n",
       "      <td>-0.001936</td>\n",
       "      <td>-0.006772</td>\n",
       "      <td>293.78</td>\n",
       "      <td>1</td>\n",
       "      <td>0</td>\n",
       "    </tr>\n",
       "    <tr>\n",
       "      <th>20190501  21:00:00</th>\n",
       "      <td>2.403087</td>\n",
       "      <td>0.297601</td>\n",
       "      <td>0.528754</td>\n",
       "      <td>-0.006604</td>\n",
       "      <td>0.093182</td>\n",
       "      <td>291.84</td>\n",
       "      <td>1</td>\n",
       "      <td>0</td>\n",
       "    </tr>\n",
       "    <tr>\n",
       "      <th>20190502  15:30:00</th>\n",
       "      <td>-1.252513</td>\n",
       "      <td>-0.564194</td>\n",
       "      <td>-0.883913</td>\n",
       "      <td>0.001131</td>\n",
       "      <td>-0.022115</td>\n",
       "      <td>292.17</td>\n",
       "      <td>1</td>\n",
       "      <td>0</td>\n",
       "    </tr>\n",
       "    <tr>\n",
       "      <th>20190502  16:00:00</th>\n",
       "      <td>-2.143295</td>\n",
       "      <td>0.157878</td>\n",
       "      <td>0.086283</td>\n",
       "      <td>-0.001917</td>\n",
       "      <td>0.029682</td>\n",
       "      <td>291.61</td>\n",
       "      <td>1</td>\n",
       "      <td>0</td>\n",
       "    </tr>\n",
       "    <tr>\n",
       "      <th>20190502  17:00:00</th>\n",
       "      <td>1.892519</td>\n",
       "      <td>1.208981</td>\n",
       "      <td>1.254261</td>\n",
       "      <td>-0.005521</td>\n",
       "      <td>0.083047</td>\n",
       "      <td>290.00</td>\n",
       "      <td>1</td>\n",
       "      <td>0</td>\n",
       "    </tr>\n",
       "  </tbody>\n",
       "</table>\n",
       "</div>"
      ],
      "text/plain": [
       "                      spy_oc    spy_hl  spy_volume  spy_close  vix_close  \\\n",
       "Date                                                                       \n",
       "20190501  20:00:00 -3.036799  1.947027    1.974079  -0.001936  -0.006772   \n",
       "20190501  21:00:00  2.403087  0.297601    0.528754  -0.006604   0.093182   \n",
       "20190502  15:30:00 -1.252513 -0.564194   -0.883913   0.001131  -0.022115   \n",
       "20190502  16:00:00 -2.143295  0.157878    0.086283  -0.001917   0.029682   \n",
       "20190502  17:00:00  1.892519  1.208981    1.254261  -0.005521   0.083047   \n",
       "\n",
       "                       SPY  short  long  \n",
       "Date                                     \n",
       "20190501  20:00:00  293.78      1     0  \n",
       "20190501  21:00:00  291.84      1     0  \n",
       "20190502  15:30:00  292.17      1     0  \n",
       "20190502  16:00:00  291.61      1     0  \n",
       "20190502  17:00:00  290.00      1     0  "
      ]
     },
     "execution_count": 22,
     "metadata": {},
     "output_type": "execute_result"
    }
   ],
   "source": [
    "df.tail()"
   ]
  },
  {
   "cell_type": "code",
   "execution_count": 23,
   "metadata": {},
   "outputs": [
    {
     "data": {
      "text/html": [
       "<div>\n",
       "<style scoped>\n",
       "    .dataframe tbody tr th:only-of-type {\n",
       "        vertical-align: middle;\n",
       "    }\n",
       "\n",
       "    .dataframe tbody tr th {\n",
       "        vertical-align: top;\n",
       "    }\n",
       "\n",
       "    .dataframe thead th {\n",
       "        text-align: right;\n",
       "    }\n",
       "</style>\n",
       "<table border=\"1\" class=\"dataframe\">\n",
       "  <thead>\n",
       "    <tr style=\"text-align: right;\">\n",
       "      <th></th>\n",
       "      <th>spy_oc</th>\n",
       "      <th>spy_hl</th>\n",
       "      <th>spy_volume</th>\n",
       "      <th>spy_close</th>\n",
       "      <th>vix_close</th>\n",
       "      <th>SPY</th>\n",
       "      <th>short</th>\n",
       "      <th>long</th>\n",
       "    </tr>\n",
       "    <tr>\n",
       "      <th>Date</th>\n",
       "      <th></th>\n",
       "      <th></th>\n",
       "      <th></th>\n",
       "      <th></th>\n",
       "      <th></th>\n",
       "      <th></th>\n",
       "      <th></th>\n",
       "      <th></th>\n",
       "    </tr>\n",
       "  </thead>\n",
       "  <tbody>\n",
       "    <tr>\n",
       "      <th>20190501  20:00:00</th>\n",
       "      <td>-3.036799</td>\n",
       "      <td>1.947027</td>\n",
       "      <td>1.974079</td>\n",
       "      <td>-0.001936</td>\n",
       "      <td>-0.006772</td>\n",
       "      <td>293.78</td>\n",
       "      <td>1</td>\n",
       "      <td>0</td>\n",
       "    </tr>\n",
       "    <tr>\n",
       "      <th>20190501  21:00:00</th>\n",
       "      <td>2.403087</td>\n",
       "      <td>0.297601</td>\n",
       "      <td>0.528754</td>\n",
       "      <td>-0.006604</td>\n",
       "      <td>0.093182</td>\n",
       "      <td>291.84</td>\n",
       "      <td>1</td>\n",
       "      <td>0</td>\n",
       "    </tr>\n",
       "    <tr>\n",
       "      <th>20190502  15:30:00</th>\n",
       "      <td>-1.252513</td>\n",
       "      <td>-0.564194</td>\n",
       "      <td>-0.883913</td>\n",
       "      <td>0.001131</td>\n",
       "      <td>-0.022115</td>\n",
       "      <td>292.17</td>\n",
       "      <td>1</td>\n",
       "      <td>0</td>\n",
       "    </tr>\n",
       "    <tr>\n",
       "      <th>20190502  16:00:00</th>\n",
       "      <td>-2.143295</td>\n",
       "      <td>0.157878</td>\n",
       "      <td>0.086283</td>\n",
       "      <td>-0.001917</td>\n",
       "      <td>0.029682</td>\n",
       "      <td>291.61</td>\n",
       "      <td>1</td>\n",
       "      <td>0</td>\n",
       "    </tr>\n",
       "    <tr>\n",
       "      <th>20190502  17:00:00</th>\n",
       "      <td>1.892519</td>\n",
       "      <td>1.208981</td>\n",
       "      <td>1.254261</td>\n",
       "      <td>-0.005521</td>\n",
       "      <td>0.083047</td>\n",
       "      <td>290.00</td>\n",
       "      <td>1</td>\n",
       "      <td>0</td>\n",
       "    </tr>\n",
       "  </tbody>\n",
       "</table>\n",
       "</div>"
      ],
      "text/plain": [
       "                      spy_oc    spy_hl  spy_volume  spy_close  vix_close  \\\n",
       "Date                                                                       \n",
       "20190501  20:00:00 -3.036799  1.947027    1.974079  -0.001936  -0.006772   \n",
       "20190501  21:00:00  2.403087  0.297601    0.528754  -0.006604   0.093182   \n",
       "20190502  15:30:00 -1.252513 -0.564194   -0.883913   0.001131  -0.022115   \n",
       "20190502  16:00:00 -2.143295  0.157878    0.086283  -0.001917   0.029682   \n",
       "20190502  17:00:00  1.892519  1.208981    1.254261  -0.005521   0.083047   \n",
       "\n",
       "                       SPY  short  long  \n",
       "Date                                     \n",
       "20190501  20:00:00  293.78      1     0  \n",
       "20190501  21:00:00  291.84      1     0  \n",
       "20190502  15:30:00  292.17      1     0  \n",
       "20190502  16:00:00  291.61      1     0  \n",
       "20190502  17:00:00  290.00      1     0  "
      ]
     },
     "execution_count": 23,
     "metadata": {},
     "output_type": "execute_result"
    }
   ],
   "source": [
    "df = df.dropna()\n",
    "df.tail()"
   ]
  },
  {
   "cell_type": "code",
   "execution_count": 24,
   "metadata": {},
   "outputs": [
    {
     "data": {
      "text/plain": [
       "(2018, 2602)"
      ]
     },
     "execution_count": 24,
     "metadata": {},
     "output_type": "execute_result"
    }
   ],
   "source": [
    "df['short'].sum(),df['long'].sum()"
   ]
  },
  {
   "cell_type": "code",
   "execution_count": 25,
   "metadata": {},
   "outputs": [],
   "source": [
    "df.to_csv('dataset_Ruled.csv')"
   ]
  },
  {
   "cell_type": "code",
   "execution_count": null,
   "metadata": {},
   "outputs": [],
   "source": []
  },
  {
   "cell_type": "code",
   "execution_count": null,
   "metadata": {},
   "outputs": [],
   "source": []
  }
 ],
 "metadata": {
  "kernelspec": {
   "display_name": "Python 3",
   "language": "python",
   "name": "python3"
  },
  "language_info": {
   "codemirror_mode": {
    "name": "ipython",
    "version": 3
   },
   "file_extension": ".py",
   "mimetype": "text/x-python",
   "name": "python",
   "nbconvert_exporter": "python",
   "pygments_lexer": "ipython3",
   "version": "3.6.8"
  }
 },
 "nbformat": 4,
 "nbformat_minor": 2
}
