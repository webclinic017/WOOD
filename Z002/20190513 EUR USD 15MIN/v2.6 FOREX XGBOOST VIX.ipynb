{
 "cells": [
  {
   "cell_type": "code",
   "execution_count": 240,
   "metadata": {},
   "outputs": [],
   "source": [
    "___Author___='LumberJack Jyss'"
   ]
  },
  {
   "cell_type": "code",
   "execution_count": 241,
   "metadata": {},
   "outputs": [
    {
     "name": "stdout",
     "output_type": "stream",
     "text": [
      "LumberJack BRUTAL AtidotCom XGBOOST\n",
      "LumberJack Jyss (c)\n"
     ]
    }
   ],
   "source": [
    "print('LumberJack BRUTAL AtidotCom XGBOOST\\nLumberJack Jyss (c)')"
   ]
  },
  {
   "cell_type": "code",
   "execution_count": 242,
   "metadata": {},
   "outputs": [
    {
     "name": "stdout",
     "output_type": "stream",
     "text": [
      "Importation des librairies...\n",
      "Librairies importées\n"
     ]
    }
   ],
   "source": [
    "print('Importation des librairies...')\n",
    "import statistics\n",
    "import pickle\n",
    "import numpy as np\n",
    "import pandas as pd\n",
    "import xgboost as xgb\n",
    "from pandas.plotting import register_matplotlib_converters\n",
    "import pandas_datareader as web\n",
    "import matplotlib.pyplot as plt\n",
    "from sklearn.linear_model import LogisticRegression\n",
    "from sklearn.preprocessing import LabelEncoder\n",
    "from sklearn.metrics import accuracy_score, precision_score, recall_score, roc_auc_score,roc_curve\n",
    "from sklearn import model_selection\n",
    "from sklearn.model_selection import cross_val_score\n",
    "from sklearn.metrics import confusion_matrix\n",
    "from sklearn.metrics import classification_report\n",
    "from sklearn.model_selection import train_test_split\n",
    "#from sklearn.grid_search import GridSearchCV\n",
    "import seaborn as sns\n",
    "\n",
    "import os\n",
    "os.environ['KMP_DUPLICATE_LIB_OK']='True'\n",
    "from xgboost import XGBClassifier\n",
    "\n",
    "%matplotlib inline\n",
    "print('Librairies importées')"
   ]
  },
  {
   "cell_type": "code",
   "execution_count": 243,
   "metadata": {},
   "outputs": [],
   "source": [
    "#df = pd.read_csv('gbpjpy.csv')\n",
    "df = pd.read_csv('dataset_Ruled.csv')"
   ]
  },
  {
   "cell_type": "code",
   "execution_count": 244,
   "metadata": {},
   "outputs": [],
   "source": [
    "df = df.dropna()\n",
    "#df.iloc[0].column=['Date']\n",
    "#df = df.drop(['Open_spy','High_spy','Low_spy'],axis=1)"
   ]
  },
  {
   "cell_type": "code",
   "execution_count": 245,
   "metadata": {},
   "outputs": [
    {
     "data": {
      "text/html": [
       "<div>\n",
       "<style scoped>\n",
       "    .dataframe tbody tr th:only-of-type {\n",
       "        vertical-align: middle;\n",
       "    }\n",
       "\n",
       "    .dataframe tbody tr th {\n",
       "        vertical-align: top;\n",
       "    }\n",
       "\n",
       "    .dataframe thead th {\n",
       "        text-align: right;\n",
       "    }\n",
       "</style>\n",
       "<table border=\"1\" class=\"dataframe\">\n",
       "  <thead>\n",
       "    <tr style=\"text-align: right;\">\n",
       "      <th></th>\n",
       "      <th>Date</th>\n",
       "      <th>oc_eurusd</th>\n",
       "      <th>hl_eurusd</th>\n",
       "      <th>eurusd_close</th>\n",
       "      <th>eurusd_Doc</th>\n",
       "      <th>eurusd_Dhl</th>\n",
       "      <th>rsi_eurusd</th>\n",
       "      <th>ema5_eurusd</th>\n",
       "      <th>ema21_eurusd</th>\n",
       "      <th>EURUSD</th>\n",
       "      <th>short_eurusd</th>\n",
       "      <th>long_eurusd</th>\n",
       "    </tr>\n",
       "  </thead>\n",
       "  <tbody>\n",
       "    <tr>\n",
       "      <th>0</th>\n",
       "      <td>20180507  06:45:00</td>\n",
       "      <td>0.000135</td>\n",
       "      <td>0.000330</td>\n",
       "      <td>-0.000113</td>\n",
       "      <td>0.880000</td>\n",
       "      <td>0.228571</td>\n",
       "      <td>1.054639</td>\n",
       "      <td>1.196356</td>\n",
       "      <td>1.196592</td>\n",
       "      <td>1.196020</td>\n",
       "      <td>1</td>\n",
       "      <td>0</td>\n",
       "    </tr>\n",
       "    <tr>\n",
       "      <th>1</th>\n",
       "      <td>20180507  07:00:00</td>\n",
       "      <td>0.000490</td>\n",
       "      <td>0.000760</td>\n",
       "      <td>-0.000410</td>\n",
       "      <td>1.510638</td>\n",
       "      <td>1.000000</td>\n",
       "      <td>0.256579</td>\n",
       "      <td>1.196081</td>\n",
       "      <td>1.196496</td>\n",
       "      <td>1.195530</td>\n",
       "      <td>1</td>\n",
       "      <td>0</td>\n",
       "    </tr>\n",
       "    <tr>\n",
       "      <th>2</th>\n",
       "      <td>20180507  07:15:00</td>\n",
       "      <td>0.000630</td>\n",
       "      <td>0.000765</td>\n",
       "      <td>-0.000527</td>\n",
       "      <td>0.237288</td>\n",
       "      <td>0.005814</td>\n",
       "      <td>0.087099</td>\n",
       "      <td>1.195687</td>\n",
       "      <td>1.196351</td>\n",
       "      <td>1.194900</td>\n",
       "      <td>1</td>\n",
       "      <td>0</td>\n",
       "    </tr>\n",
       "    <tr>\n",
       "      <th>3</th>\n",
       "      <td>20180507  07:30:00</td>\n",
       "      <td>0.000065</td>\n",
       "      <td>0.000820</td>\n",
       "      <td>-0.000054</td>\n",
       "      <td>-0.773973</td>\n",
       "      <td>0.063584</td>\n",
       "      <td>0.076651</td>\n",
       "      <td>1.195403</td>\n",
       "      <td>1.196213</td>\n",
       "      <td>1.194835</td>\n",
       "      <td>1</td>\n",
       "      <td>0</td>\n",
       "    </tr>\n",
       "    <tr>\n",
       "      <th>4</th>\n",
       "      <td>20180507  07:45:00</td>\n",
       "      <td>-0.000395</td>\n",
       "      <td>0.000520</td>\n",
       "      <td>0.000331</td>\n",
       "      <td>-2.787879</td>\n",
       "      <td>-0.326087</td>\n",
       "      <td>59.345655</td>\n",
       "      <td>1.195345</td>\n",
       "      <td>1.196124</td>\n",
       "      <td>1.195230</td>\n",
       "      <td>1</td>\n",
       "      <td>0</td>\n",
       "    </tr>\n",
       "  </tbody>\n",
       "</table>\n",
       "</div>"
      ],
      "text/plain": [
       "                 Date  oc_eurusd  hl_eurusd  eurusd_close  eurusd_Doc  \\\n",
       "0  20180507  06:45:00   0.000135   0.000330     -0.000113    0.880000   \n",
       "1  20180507  07:00:00   0.000490   0.000760     -0.000410    1.510638   \n",
       "2  20180507  07:15:00   0.000630   0.000765     -0.000527    0.237288   \n",
       "3  20180507  07:30:00   0.000065   0.000820     -0.000054   -0.773973   \n",
       "4  20180507  07:45:00  -0.000395   0.000520      0.000331   -2.787879   \n",
       "\n",
       "   eurusd_Dhl  rsi_eurusd  ema5_eurusd  ema21_eurusd    EURUSD  short_eurusd  \\\n",
       "0    0.228571    1.054639     1.196356      1.196592  1.196020             1   \n",
       "1    1.000000    0.256579     1.196081      1.196496  1.195530             1   \n",
       "2    0.005814    0.087099     1.195687      1.196351  1.194900             1   \n",
       "3    0.063584    0.076651     1.195403      1.196213  1.194835             1   \n",
       "4   -0.326087   59.345655     1.195345      1.196124  1.195230             1   \n",
       "\n",
       "   long_eurusd  \n",
       "0            0  \n",
       "1            0  \n",
       "2            0  \n",
       "3            0  \n",
       "4            0  "
      ]
     },
     "execution_count": 245,
     "metadata": {},
     "output_type": "execute_result"
    }
   ],
   "source": [
    "df.head()"
   ]
  },
  {
   "cell_type": "code",
   "execution_count": 246,
   "metadata": {},
   "outputs": [
    {
     "data": {
      "text/html": [
       "<div>\n",
       "<style scoped>\n",
       "    .dataframe tbody tr th:only-of-type {\n",
       "        vertical-align: middle;\n",
       "    }\n",
       "\n",
       "    .dataframe tbody tr th {\n",
       "        vertical-align: top;\n",
       "    }\n",
       "\n",
       "    .dataframe thead th {\n",
       "        text-align: right;\n",
       "    }\n",
       "</style>\n",
       "<table border=\"1\" class=\"dataframe\">\n",
       "  <thead>\n",
       "    <tr style=\"text-align: right;\">\n",
       "      <th></th>\n",
       "      <th>oc_eurusd</th>\n",
       "      <th>hl_eurusd</th>\n",
       "      <th>eurusd_close</th>\n",
       "      <th>eurusd_Doc</th>\n",
       "      <th>eurusd_Dhl</th>\n",
       "      <th>rsi_eurusd</th>\n",
       "      <th>ema5_eurusd</th>\n",
       "      <th>ema21_eurusd</th>\n",
       "      <th>EURUSD</th>\n",
       "      <th>short_eurusd</th>\n",
       "      <th>long_eurusd</th>\n",
       "    </tr>\n",
       "    <tr>\n",
       "      <th>Date</th>\n",
       "      <th></th>\n",
       "      <th></th>\n",
       "      <th></th>\n",
       "      <th></th>\n",
       "      <th></th>\n",
       "      <th></th>\n",
       "      <th></th>\n",
       "      <th></th>\n",
       "      <th></th>\n",
       "      <th></th>\n",
       "      <th></th>\n",
       "    </tr>\n",
       "  </thead>\n",
       "  <tbody>\n",
       "    <tr>\n",
       "      <th>20180507  06:45:00</th>\n",
       "      <td>0.000135</td>\n",
       "      <td>0.000330</td>\n",
       "      <td>-0.000113</td>\n",
       "      <td>0.880000</td>\n",
       "      <td>0.228571</td>\n",
       "      <td>1.054639</td>\n",
       "      <td>1.196356</td>\n",
       "      <td>1.196592</td>\n",
       "      <td>1.196020</td>\n",
       "      <td>1</td>\n",
       "      <td>0</td>\n",
       "    </tr>\n",
       "    <tr>\n",
       "      <th>20180507  07:00:00</th>\n",
       "      <td>0.000490</td>\n",
       "      <td>0.000760</td>\n",
       "      <td>-0.000410</td>\n",
       "      <td>1.510638</td>\n",
       "      <td>1.000000</td>\n",
       "      <td>0.256579</td>\n",
       "      <td>1.196081</td>\n",
       "      <td>1.196496</td>\n",
       "      <td>1.195530</td>\n",
       "      <td>1</td>\n",
       "      <td>0</td>\n",
       "    </tr>\n",
       "    <tr>\n",
       "      <th>20180507  07:15:00</th>\n",
       "      <td>0.000630</td>\n",
       "      <td>0.000765</td>\n",
       "      <td>-0.000527</td>\n",
       "      <td>0.237288</td>\n",
       "      <td>0.005814</td>\n",
       "      <td>0.087099</td>\n",
       "      <td>1.195687</td>\n",
       "      <td>1.196351</td>\n",
       "      <td>1.194900</td>\n",
       "      <td>1</td>\n",
       "      <td>0</td>\n",
       "    </tr>\n",
       "    <tr>\n",
       "      <th>20180507  07:30:00</th>\n",
       "      <td>0.000065</td>\n",
       "      <td>0.000820</td>\n",
       "      <td>-0.000054</td>\n",
       "      <td>-0.773973</td>\n",
       "      <td>0.063584</td>\n",
       "      <td>0.076651</td>\n",
       "      <td>1.195403</td>\n",
       "      <td>1.196213</td>\n",
       "      <td>1.194835</td>\n",
       "      <td>1</td>\n",
       "      <td>0</td>\n",
       "    </tr>\n",
       "    <tr>\n",
       "      <th>20180507  07:45:00</th>\n",
       "      <td>-0.000395</td>\n",
       "      <td>0.000520</td>\n",
       "      <td>0.000331</td>\n",
       "      <td>-2.787879</td>\n",
       "      <td>-0.326087</td>\n",
       "      <td>59.345655</td>\n",
       "      <td>1.195345</td>\n",
       "      <td>1.196124</td>\n",
       "      <td>1.195230</td>\n",
       "      <td>1</td>\n",
       "      <td>0</td>\n",
       "    </tr>\n",
       "  </tbody>\n",
       "</table>\n",
       "</div>"
      ],
      "text/plain": [
       "                    oc_eurusd  hl_eurusd  eurusd_close  eurusd_Doc  \\\n",
       "Date                                                                 \n",
       "20180507  06:45:00   0.000135   0.000330     -0.000113    0.880000   \n",
       "20180507  07:00:00   0.000490   0.000760     -0.000410    1.510638   \n",
       "20180507  07:15:00   0.000630   0.000765     -0.000527    0.237288   \n",
       "20180507  07:30:00   0.000065   0.000820     -0.000054   -0.773973   \n",
       "20180507  07:45:00  -0.000395   0.000520      0.000331   -2.787879   \n",
       "\n",
       "                    eurusd_Dhl  rsi_eurusd  ema5_eurusd  ema21_eurusd  \\\n",
       "Date                                                                    \n",
       "20180507  06:45:00    0.228571    1.054639     1.196356      1.196592   \n",
       "20180507  07:00:00    1.000000    0.256579     1.196081      1.196496   \n",
       "20180507  07:15:00    0.005814    0.087099     1.195687      1.196351   \n",
       "20180507  07:30:00    0.063584    0.076651     1.195403      1.196213   \n",
       "20180507  07:45:00   -0.326087   59.345655     1.195345      1.196124   \n",
       "\n",
       "                      EURUSD  short_eurusd  long_eurusd  \n",
       "Date                                                     \n",
       "20180507  06:45:00  1.196020             1            0  \n",
       "20180507  07:00:00  1.195530             1            0  \n",
       "20180507  07:15:00  1.194900             1            0  \n",
       "20180507  07:30:00  1.194835             1            0  \n",
       "20180507  07:45:00  1.195230             1            0  "
      ]
     },
     "execution_count": 246,
     "metadata": {},
     "output_type": "execute_result"
    }
   ],
   "source": [
    "df.set_index('Date', inplace=True)\n",
    "df.head()"
   ]
  },
  {
   "cell_type": "code",
   "execution_count": 247,
   "metadata": {},
   "outputs": [
    {
     "name": "stdout",
     "output_type": "stream",
     "text": [
      "<class 'pandas.core.frame.DataFrame'>\n",
      "Index: 24450 entries, 20180507  06:45:00 to 20190506  00:00:00\n",
      "Data columns (total 11 columns):\n",
      "oc_eurusd       24450 non-null float64\n",
      "hl_eurusd       24450 non-null float64\n",
      "eurusd_close    24450 non-null float64\n",
      "eurusd_Doc      24450 non-null float64\n",
      "eurusd_Dhl      24450 non-null float64\n",
      "rsi_eurusd      24450 non-null float64\n",
      "ema5_eurusd     24450 non-null float64\n",
      "ema21_eurusd    24450 non-null float64\n",
      "EURUSD          24450 non-null float64\n",
      "short_eurusd    24450 non-null int64\n",
      "long_eurusd     24450 non-null int64\n",
      "dtypes: float64(9), int64(2)\n",
      "memory usage: 2.2+ MB\n"
     ]
    }
   ],
   "source": [
    "df.info()"
   ]
  },
  {
   "cell_type": "code",
   "execution_count": 248,
   "metadata": {},
   "outputs": [
    {
     "data": {
      "text/plain": [
       "(6019, 6521)"
      ]
     },
     "execution_count": 248,
     "metadata": {},
     "output_type": "execute_result"
    }
   ],
   "source": [
    "sum(df['short_eurusd']),sum(df['long_eurusd'])"
   ]
  },
  {
   "cell_type": "code",
   "execution_count": 249,
   "metadata": {},
   "outputs": [
    {
     "name": "stdout",
     "output_type": "stream",
     "text": [
      "Période d'étude :  24450 périodes\n",
      "Sur un découpage 80% - 20% de la période : \n",
      "Bloc 1 :  19560  périodes \n",
      "Bloc 2 : 4890  périodes\n"
     ]
    }
   ],
   "source": [
    "delta = df.shape[0]\n",
    "bloc1 = round(delta*0.8)\n",
    "bloc2 = delta - bloc1\n",
    "print(\"Période d'étude : \",delta,'périodes')\n",
    "print('Sur un découpage 80% - 20% de la période : ')\n",
    "print('Bloc 1 : ',bloc1,' périodes \\nBloc 2 :',bloc2,' périodes')"
   ]
  },
  {
   "cell_type": "code",
   "execution_count": 250,
   "metadata": {},
   "outputs": [
    {
     "data": {
      "text/plain": [
       "(6521, 6019)"
      ]
     },
     "execution_count": 250,
     "metadata": {},
     "output_type": "execute_result"
    }
   ],
   "source": [
    "df['long_eurusd'].sum(),df['short_eurusd'].sum()"
   ]
  },
  {
   "cell_type": "code",
   "execution_count": 251,
   "metadata": {},
   "outputs": [
    {
     "data": {
      "text/html": [
       "<div>\n",
       "<style scoped>\n",
       "    .dataframe tbody tr th:only-of-type {\n",
       "        vertical-align: middle;\n",
       "    }\n",
       "\n",
       "    .dataframe tbody tr th {\n",
       "        vertical-align: top;\n",
       "    }\n",
       "\n",
       "    .dataframe thead th {\n",
       "        text-align: right;\n",
       "    }\n",
       "</style>\n",
       "<table border=\"1\" class=\"dataframe\">\n",
       "  <thead>\n",
       "    <tr style=\"text-align: right;\">\n",
       "      <th></th>\n",
       "      <th>oc_eurusd</th>\n",
       "      <th>hl_eurusd</th>\n",
       "      <th>eurusd_close</th>\n",
       "      <th>eurusd_Doc</th>\n",
       "      <th>eurusd_Dhl</th>\n",
       "      <th>rsi_eurusd</th>\n",
       "      <th>ema5_eurusd</th>\n",
       "      <th>ema21_eurusd</th>\n",
       "      <th>EURUSD</th>\n",
       "      <th>short_eurusd</th>\n",
       "      <th>long_eurusd</th>\n",
       "    </tr>\n",
       "    <tr>\n",
       "      <th>Date</th>\n",
       "      <th></th>\n",
       "      <th></th>\n",
       "      <th></th>\n",
       "      <th></th>\n",
       "      <th></th>\n",
       "      <th></th>\n",
       "      <th></th>\n",
       "      <th></th>\n",
       "      <th></th>\n",
       "      <th></th>\n",
       "      <th></th>\n",
       "    </tr>\n",
       "  </thead>\n",
       "  <tbody>\n",
       "    <tr>\n",
       "      <th>20180507  06:45:00</th>\n",
       "      <td>0.000135</td>\n",
       "      <td>0.000330</td>\n",
       "      <td>-0.000113</td>\n",
       "      <td>0.880000</td>\n",
       "      <td>0.228571</td>\n",
       "      <td>1.054639</td>\n",
       "      <td>1.196356</td>\n",
       "      <td>1.196592</td>\n",
       "      <td>1.196020</td>\n",
       "      <td>1</td>\n",
       "      <td>0</td>\n",
       "    </tr>\n",
       "    <tr>\n",
       "      <th>20180507  07:00:00</th>\n",
       "      <td>0.000490</td>\n",
       "      <td>0.000760</td>\n",
       "      <td>-0.000410</td>\n",
       "      <td>1.510638</td>\n",
       "      <td>1.000000</td>\n",
       "      <td>0.256579</td>\n",
       "      <td>1.196081</td>\n",
       "      <td>1.196496</td>\n",
       "      <td>1.195530</td>\n",
       "      <td>1</td>\n",
       "      <td>0</td>\n",
       "    </tr>\n",
       "    <tr>\n",
       "      <th>20180507  07:15:00</th>\n",
       "      <td>0.000630</td>\n",
       "      <td>0.000765</td>\n",
       "      <td>-0.000527</td>\n",
       "      <td>0.237288</td>\n",
       "      <td>0.005814</td>\n",
       "      <td>0.087099</td>\n",
       "      <td>1.195687</td>\n",
       "      <td>1.196351</td>\n",
       "      <td>1.194900</td>\n",
       "      <td>1</td>\n",
       "      <td>0</td>\n",
       "    </tr>\n",
       "    <tr>\n",
       "      <th>20180507  07:30:00</th>\n",
       "      <td>0.000065</td>\n",
       "      <td>0.000820</td>\n",
       "      <td>-0.000054</td>\n",
       "      <td>-0.773973</td>\n",
       "      <td>0.063584</td>\n",
       "      <td>0.076651</td>\n",
       "      <td>1.195403</td>\n",
       "      <td>1.196213</td>\n",
       "      <td>1.194835</td>\n",
       "      <td>1</td>\n",
       "      <td>0</td>\n",
       "    </tr>\n",
       "    <tr>\n",
       "      <th>20180507  07:45:00</th>\n",
       "      <td>-0.000395</td>\n",
       "      <td>0.000520</td>\n",
       "      <td>0.000331</td>\n",
       "      <td>-2.787879</td>\n",
       "      <td>-0.326087</td>\n",
       "      <td>59.345655</td>\n",
       "      <td>1.195345</td>\n",
       "      <td>1.196124</td>\n",
       "      <td>1.195230</td>\n",
       "      <td>1</td>\n",
       "      <td>0</td>\n",
       "    </tr>\n",
       "  </tbody>\n",
       "</table>\n",
       "</div>"
      ],
      "text/plain": [
       "                    oc_eurusd  hl_eurusd  eurusd_close  eurusd_Doc  \\\n",
       "Date                                                                 \n",
       "20180507  06:45:00   0.000135   0.000330     -0.000113    0.880000   \n",
       "20180507  07:00:00   0.000490   0.000760     -0.000410    1.510638   \n",
       "20180507  07:15:00   0.000630   0.000765     -0.000527    0.237288   \n",
       "20180507  07:30:00   0.000065   0.000820     -0.000054   -0.773973   \n",
       "20180507  07:45:00  -0.000395   0.000520      0.000331   -2.787879   \n",
       "\n",
       "                    eurusd_Dhl  rsi_eurusd  ema5_eurusd  ema21_eurusd  \\\n",
       "Date                                                                    \n",
       "20180507  06:45:00    0.228571    1.054639     1.196356      1.196592   \n",
       "20180507  07:00:00    1.000000    0.256579     1.196081      1.196496   \n",
       "20180507  07:15:00    0.005814    0.087099     1.195687      1.196351   \n",
       "20180507  07:30:00    0.063584    0.076651     1.195403      1.196213   \n",
       "20180507  07:45:00   -0.326087   59.345655     1.195345      1.196124   \n",
       "\n",
       "                      EURUSD  short_eurusd  long_eurusd  \n",
       "Date                                                     \n",
       "20180507  06:45:00  1.196020             1            0  \n",
       "20180507  07:00:00  1.195530             1            0  \n",
       "20180507  07:15:00  1.194900             1            0  \n",
       "20180507  07:30:00  1.194835             1            0  \n",
       "20180507  07:45:00  1.195230             1            0  "
      ]
     },
     "execution_count": 251,
     "metadata": {},
     "output_type": "execute_result"
    }
   ],
   "source": [
    "df.head()"
   ]
  },
  {
   "cell_type": "code",
   "execution_count": 252,
   "metadata": {},
   "outputs": [],
   "source": [
    "Xtrain_long = df.iloc[:bloc1,:9]\n",
    "#Xtrain_long = Xtrain_long.drop(['short'],axis=1)\n",
    "Xtest_long = df.iloc[bloc1:,:9]\n",
    "#Xtest_long = Xtest_long.drop(['short'],axis=1)\n",
    "ytrain_long = df.iloc[:bloc1,10]\n",
    "ytest_long = df.iloc[bloc1:,10]"
   ]
  },
  {
   "cell_type": "code",
   "execution_count": 253,
   "metadata": {},
   "outputs": [
    {
     "data": {
      "text/html": [
       "<div>\n",
       "<style scoped>\n",
       "    .dataframe tbody tr th:only-of-type {\n",
       "        vertical-align: middle;\n",
       "    }\n",
       "\n",
       "    .dataframe tbody tr th {\n",
       "        vertical-align: top;\n",
       "    }\n",
       "\n",
       "    .dataframe thead th {\n",
       "        text-align: right;\n",
       "    }\n",
       "</style>\n",
       "<table border=\"1\" class=\"dataframe\">\n",
       "  <thead>\n",
       "    <tr style=\"text-align: right;\">\n",
       "      <th></th>\n",
       "      <th>oc_eurusd</th>\n",
       "      <th>hl_eurusd</th>\n",
       "      <th>eurusd_close</th>\n",
       "      <th>eurusd_Doc</th>\n",
       "      <th>eurusd_Dhl</th>\n",
       "      <th>rsi_eurusd</th>\n",
       "      <th>ema5_eurusd</th>\n",
       "      <th>ema21_eurusd</th>\n",
       "      <th>EURUSD</th>\n",
       "    </tr>\n",
       "    <tr>\n",
       "      <th>Date</th>\n",
       "      <th></th>\n",
       "      <th></th>\n",
       "      <th></th>\n",
       "      <th></th>\n",
       "      <th></th>\n",
       "      <th></th>\n",
       "      <th></th>\n",
       "      <th></th>\n",
       "      <th></th>\n",
       "    </tr>\n",
       "  </thead>\n",
       "  <tbody>\n",
       "    <tr>\n",
       "      <th>20180507  06:45:00</th>\n",
       "      <td>0.000135</td>\n",
       "      <td>0.000330</td>\n",
       "      <td>-0.000113</td>\n",
       "      <td>0.880000</td>\n",
       "      <td>0.228571</td>\n",
       "      <td>1.054639</td>\n",
       "      <td>1.196356</td>\n",
       "      <td>1.196592</td>\n",
       "      <td>1.196020</td>\n",
       "    </tr>\n",
       "    <tr>\n",
       "      <th>20180507  07:00:00</th>\n",
       "      <td>0.000490</td>\n",
       "      <td>0.000760</td>\n",
       "      <td>-0.000410</td>\n",
       "      <td>1.510638</td>\n",
       "      <td>1.000000</td>\n",
       "      <td>0.256579</td>\n",
       "      <td>1.196081</td>\n",
       "      <td>1.196496</td>\n",
       "      <td>1.195530</td>\n",
       "    </tr>\n",
       "    <tr>\n",
       "      <th>20180507  07:15:00</th>\n",
       "      <td>0.000630</td>\n",
       "      <td>0.000765</td>\n",
       "      <td>-0.000527</td>\n",
       "      <td>0.237288</td>\n",
       "      <td>0.005814</td>\n",
       "      <td>0.087099</td>\n",
       "      <td>1.195687</td>\n",
       "      <td>1.196351</td>\n",
       "      <td>1.194900</td>\n",
       "    </tr>\n",
       "    <tr>\n",
       "      <th>20180507  07:30:00</th>\n",
       "      <td>0.000065</td>\n",
       "      <td>0.000820</td>\n",
       "      <td>-0.000054</td>\n",
       "      <td>-0.773973</td>\n",
       "      <td>0.063584</td>\n",
       "      <td>0.076651</td>\n",
       "      <td>1.195403</td>\n",
       "      <td>1.196213</td>\n",
       "      <td>1.194835</td>\n",
       "    </tr>\n",
       "    <tr>\n",
       "      <th>20180507  07:45:00</th>\n",
       "      <td>-0.000395</td>\n",
       "      <td>0.000520</td>\n",
       "      <td>0.000331</td>\n",
       "      <td>-2.787879</td>\n",
       "      <td>-0.326087</td>\n",
       "      <td>59.345655</td>\n",
       "      <td>1.195345</td>\n",
       "      <td>1.196124</td>\n",
       "      <td>1.195230</td>\n",
       "    </tr>\n",
       "  </tbody>\n",
       "</table>\n",
       "</div>"
      ],
      "text/plain": [
       "                    oc_eurusd  hl_eurusd  eurusd_close  eurusd_Doc  \\\n",
       "Date                                                                 \n",
       "20180507  06:45:00   0.000135   0.000330     -0.000113    0.880000   \n",
       "20180507  07:00:00   0.000490   0.000760     -0.000410    1.510638   \n",
       "20180507  07:15:00   0.000630   0.000765     -0.000527    0.237288   \n",
       "20180507  07:30:00   0.000065   0.000820     -0.000054   -0.773973   \n",
       "20180507  07:45:00  -0.000395   0.000520      0.000331   -2.787879   \n",
       "\n",
       "                    eurusd_Dhl  rsi_eurusd  ema5_eurusd  ema21_eurusd  \\\n",
       "Date                                                                    \n",
       "20180507  06:45:00    0.228571    1.054639     1.196356      1.196592   \n",
       "20180507  07:00:00    1.000000    0.256579     1.196081      1.196496   \n",
       "20180507  07:15:00    0.005814    0.087099     1.195687      1.196351   \n",
       "20180507  07:30:00    0.063584    0.076651     1.195403      1.196213   \n",
       "20180507  07:45:00   -0.326087   59.345655     1.195345      1.196124   \n",
       "\n",
       "                      EURUSD  \n",
       "Date                          \n",
       "20180507  06:45:00  1.196020  \n",
       "20180507  07:00:00  1.195530  \n",
       "20180507  07:15:00  1.194900  \n",
       "20180507  07:30:00  1.194835  \n",
       "20180507  07:45:00  1.195230  "
      ]
     },
     "execution_count": 253,
     "metadata": {},
     "output_type": "execute_result"
    }
   ],
   "source": [
    "Xtrain_long.head()"
   ]
  },
  {
   "cell_type": "code",
   "execution_count": 254,
   "metadata": {},
   "outputs": [
    {
     "data": {
      "text/plain": [
       "Date\n",
       "20190221  11:00:00    0\n",
       "20190221  11:15:00    0\n",
       "20190221  11:30:00    1\n",
       "20190221  11:45:00    1\n",
       "20190221  12:00:00    1\n",
       "Name: long_eurusd, dtype: int64"
      ]
     },
     "execution_count": 254,
     "metadata": {},
     "output_type": "execute_result"
    }
   ],
   "source": [
    "ytest_long.head()"
   ]
  },
  {
   "cell_type": "code",
   "execution_count": 255,
   "metadata": {},
   "outputs": [
    {
     "data": {
      "text/plain": [
       "(5649, 872, 22568.982920000002, 5513.6657749999995)"
      ]
     },
     "execution_count": 255,
     "metadata": {},
     "output_type": "execute_result"
    }
   ],
   "source": [
    "ytrain_long.sum(),ytest_long.sum(),ytrain_short.sum(),ytest_short.sum()"
   ]
  },
  {
   "cell_type": "code",
   "execution_count": 256,
   "metadata": {},
   "outputs": [
    {
     "name": "stdout",
     "output_type": "stream",
     "text": [
      "Split effectué\n"
     ]
    }
   ],
   "source": [
    "Xtrain_short = df.iloc[:bloc1,:9]\n",
    "#Xtrain_short = Xtrain_short.drop(['short_eurusd'],axis=1)\n",
    "Xtest_short = df.iloc[bloc1:,:9]\n",
    "#Xtest_short = Xtest_short.drop(['short_eurusd'],axis=1)\n",
    "ytrain_short = df.iloc[:bloc1,9]\n",
    "ytest_short = df.iloc[bloc1:,9]\n",
    "print('Split effectué')"
   ]
  },
  {
   "cell_type": "code",
   "execution_count": 257,
   "metadata": {},
   "outputs": [
    {
     "data": {
      "text/plain": [
       "((19560,), (19560, 9), (4890, 9), (4890,))"
      ]
     },
     "execution_count": 257,
     "metadata": {},
     "output_type": "execute_result"
    }
   ],
   "source": [
    "ytrain_long.shape,Xtrain_long.shape,Xtest_long.shape,ytest_long.shape"
   ]
  },
  {
   "cell_type": "code",
   "execution_count": 258,
   "metadata": {},
   "outputs": [
    {
     "data": {
      "text/plain": [
       "(5196, 823)"
      ]
     },
     "execution_count": 258,
     "metadata": {},
     "output_type": "execute_result"
    }
   ],
   "source": [
    "ytrain_short.sum(),ytest_short.sum()"
   ]
  },
  {
   "cell_type": "code",
   "execution_count": 259,
   "metadata": {},
   "outputs": [],
   "source": [
    "model_long = XGBClassifier(silent=False,objective='binary:logistic',n_estimators=200)"
   ]
  },
  {
   "cell_type": "code",
   "execution_count": 260,
   "metadata": {},
   "outputs": [],
   "source": [
    "model_short = XGBClassifier(silent=False,objective='binary:logistic',n_estimators=200)"
   ]
  },
  {
   "cell_type": "code",
   "execution_count": 261,
   "metadata": {},
   "outputs": [],
   "source": [
    "eval_set_long=[(Xtrain_long, ytrain_long), (Xtest_long, ytest_long)]"
   ]
  },
  {
   "cell_type": "code",
   "execution_count": 262,
   "metadata": {},
   "outputs": [],
   "source": [
    "eval_set_short=[(Xtrain_short, ytrain_short), (Xtest_short, ytest_short)]"
   ]
  },
  {
   "cell_type": "code",
   "execution_count": 263,
   "metadata": {},
   "outputs": [
    {
     "data": {
      "text/plain": [
       "XGBClassifier(base_score=0.5, booster='gbtree', colsample_bylevel=1,\n",
       "       colsample_bytree=1, gamma=0, learning_rate=0.1, max_delta_step=0,\n",
       "       max_depth=3, min_child_weight=1, missing=None, n_estimators=200,\n",
       "       n_jobs=1, nthread=None, objective='binary:logistic', random_state=0,\n",
       "       reg_alpha=0, reg_lambda=1, scale_pos_weight=1, seed=None,\n",
       "       silent=False, subsample=1)"
      ]
     },
     "execution_count": 263,
     "metadata": {},
     "output_type": "execute_result"
    }
   ],
   "source": [
    "model_long.fit( Xtrain_long, ytrain_long, eval_metric=['auc','error','logloss'], eval_set=eval_set_long, verbose=0)"
   ]
  },
  {
   "cell_type": "code",
   "execution_count": 264,
   "metadata": {},
   "outputs": [
    {
     "data": {
      "text/plain": [
       "XGBClassifier(base_score=0.5, booster='gbtree', colsample_bylevel=1,\n",
       "       colsample_bytree=1, gamma=0, learning_rate=0.1, max_delta_step=0,\n",
       "       max_depth=3, min_child_weight=1, missing=None, n_estimators=200,\n",
       "       n_jobs=1, nthread=None, objective='binary:logistic', random_state=0,\n",
       "       reg_alpha=0, reg_lambda=1, scale_pos_weight=1, seed=None,\n",
       "       silent=False, subsample=1)"
      ]
     },
     "execution_count": 264,
     "metadata": {},
     "output_type": "execute_result"
    }
   ],
   "source": [
    "model_short.fit( Xtrain_short, ytrain_short, eval_metric=['auc','error','logloss'], eval_set=eval_set_short, verbose=0)"
   ]
  },
  {
   "cell_type": "code",
   "execution_count": 265,
   "metadata": {},
   "outputs": [
    {
     "name": "stdout",
     "output_type": "stream",
     "text": [
      "RESULTATS LONG\n",
      "\n",
      "Accuracy: 91.49%\n",
      "Precision: 79.53%   => Discrimnination des vrais positifs parmi les faux positifs\n",
      "Recall: 70.41%   => Positifs trouvés par Golem sur tous les positifs existants\n",
      "AUC: 83.24% \n",
      "AUC_proba: 95.83% \n",
      "              precision    recall  f1-score   support\n",
      "\n",
      "           0       0.94      0.96      0.95      4018\n",
      "           1       0.80      0.70      0.75       872\n",
      "\n",
      "   micro avg       0.91      0.91      0.91      4890\n",
      "   macro avg       0.87      0.83      0.85      4890\n",
      "weighted avg       0.91      0.91      0.91      4890\n",
      "\n",
      "[[3860  158]\n",
      " [ 258  614]]\n",
      "Matrice de confusion :\n"
     ]
    },
    {
     "data": {
      "text/html": [
       "<div>\n",
       "<style scoped>\n",
       "    .dataframe tbody tr th:only-of-type {\n",
       "        vertical-align: middle;\n",
       "    }\n",
       "\n",
       "    .dataframe tbody tr th {\n",
       "        vertical-align: top;\n",
       "    }\n",
       "\n",
       "    .dataframe thead th {\n",
       "        text-align: right;\n",
       "    }\n",
       "</style>\n",
       "<table border=\"1\" class=\"dataframe\">\n",
       "  <thead>\n",
       "    <tr style=\"text-align: right;\">\n",
       "      <th></th>\n",
       "      <th>Vrais_estimés</th>\n",
       "      <th>Faux_estimés</th>\n",
       "    </tr>\n",
       "  </thead>\n",
       "  <tbody>\n",
       "    <tr>\n",
       "      <th>vrais_réels</th>\n",
       "      <td>Vrais_positifs</td>\n",
       "      <td>Faux_négatif</td>\n",
       "    </tr>\n",
       "    <tr>\n",
       "      <th>Faux_réels</th>\n",
       "      <td>Faux_positifs</td>\n",
       "      <td>Vrais-négatifs</td>\n",
       "    </tr>\n",
       "  </tbody>\n",
       "</table>\n",
       "</div>"
      ],
      "text/plain": [
       "              Vrais_estimés    Faux_estimés\n",
       "vrais_réels  Vrais_positifs    Faux_négatif\n",
       "Faux_réels    Faux_positifs  Vrais-négatifs"
      ]
     },
     "execution_count": 265,
     "metadata": {},
     "output_type": "execute_result"
    }
   ],
   "source": [
    "predictions_long = model_long.predict(Xtest_long)\n",
    "accuracy_long = accuracy_score(ytest_long, predictions_long)\n",
    "precision_long=precision_score(ytest_long, predictions_long) # vrais_positifs/(vrais_positifs+faux_positifs)\n",
    "# La précision permet de mesurer la capacité du modèle à refuser résultats non-pertinents.\n",
    "recall_long=recall_score(ytest_long, predictions_long) # (vrai_positifs/(vrais_positifs+faux_négatifs))\n",
    "roc_long=roc_auc_score(ytest_long,predictions_long)\n",
    "print('RESULTATS LONG\\n')\n",
    "print('Accuracy: %.2f%%' % (accuracy_long * 100.0))\n",
    "print(\"Precision: %.2f%% \" % (precision_long *100),' => Discrimnination des vrais positifs parmi les faux positifs')\n",
    "print(\"Recall: %.2f%% \" % (recall_long * 100),' => Positifs trouvés par Golem sur tous les positifs existants')\n",
    "print(\"AUC: %.2f%% \" % (roc_long *100))\n",
    "# get probabilities for positive class\n",
    "prediction_long = model_long.predict_proba(Xtest_long)\n",
    "roc_long2 = roc_auc_score(ytest_long, prediction_long[:,1])\n",
    "print(\"AUC_proba: %.2f%% \" % (roc_long2 * 100))\n",
    "print(classification_report(ytest_long, predictions_long))\n",
    "conf_matrix = pd.DataFrame(index = ['vrais_réels','Faux_réels'])\n",
    "conf_matrix['Vrais_estimés'] = ['Vrais_positifs','Faux_positifs']\n",
    "conf_matrix['Faux_estimés'] = ['Faux_négatif','Vrais-négatifs']\n",
    "print(confusion_matrix(ytest_long, predictions_long))\n",
    "print('Matrice de confusion :')\n",
    "conf_matrix"
   ]
  },
  {
   "cell_type": "code",
   "execution_count": null,
   "metadata": {},
   "outputs": [],
   "source": []
  },
  {
   "cell_type": "code",
   "execution_count": 266,
   "metadata": {},
   "outputs": [
    {
     "name": "stdout",
     "output_type": "stream",
     "text": [
      "RESULTATS SHORT\n",
      "\n",
      "Accuracy: 93.23%\n",
      "Precision: 83.33%   => Discrimnination des vrais positifs parmi les faux positifs\n",
      "Recall: 74.73%   => Positifs trouvés par Golem sur tous les positifs existants\n",
      "AUC: 85.85% \n",
      "AUC_proba: 96.40% \n",
      "              precision    recall  f1-score   support\n",
      "\n",
      "           0       0.95      0.97      0.96      4067\n",
      "           1       0.83      0.75      0.79       823\n",
      "\n",
      "   micro avg       0.93      0.93      0.93      4890\n",
      "   macro avg       0.89      0.86      0.87      4890\n",
      "weighted avg       0.93      0.93      0.93      4890\n",
      "\n",
      "[[3944  123]\n",
      " [ 208  615]]\n",
      "Matrice de confusion :\n"
     ]
    },
    {
     "data": {
      "text/html": [
       "<div>\n",
       "<style scoped>\n",
       "    .dataframe tbody tr th:only-of-type {\n",
       "        vertical-align: middle;\n",
       "    }\n",
       "\n",
       "    .dataframe tbody tr th {\n",
       "        vertical-align: top;\n",
       "    }\n",
       "\n",
       "    .dataframe thead th {\n",
       "        text-align: right;\n",
       "    }\n",
       "</style>\n",
       "<table border=\"1\" class=\"dataframe\">\n",
       "  <thead>\n",
       "    <tr style=\"text-align: right;\">\n",
       "      <th></th>\n",
       "      <th>Vrais_estimés</th>\n",
       "      <th>Faux_estimés</th>\n",
       "    </tr>\n",
       "  </thead>\n",
       "  <tbody>\n",
       "    <tr>\n",
       "      <th>vrais_réels</th>\n",
       "      <td>Vrais_positifs</td>\n",
       "      <td>Faux_négatif</td>\n",
       "    </tr>\n",
       "    <tr>\n",
       "      <th>Faux_réels</th>\n",
       "      <td>Faux_positifs</td>\n",
       "      <td>Vrais-négatifs</td>\n",
       "    </tr>\n",
       "  </tbody>\n",
       "</table>\n",
       "</div>"
      ],
      "text/plain": [
       "              Vrais_estimés    Faux_estimés\n",
       "vrais_réels  Vrais_positifs    Faux_négatif\n",
       "Faux_réels    Faux_positifs  Vrais-négatifs"
      ]
     },
     "execution_count": 266,
     "metadata": {},
     "output_type": "execute_result"
    }
   ],
   "source": [
    "predictions_short = model_short.predict(Xtest_short)\n",
    "accuracy_short = accuracy_score(ytest_short, predictions_short)\n",
    "precision_short=precision_score(ytest_short, predictions_short) # vrais_positifs/(vrais_positifs+faux_positifs)\n",
    "# La précision permet de mesurer la capacité du modèle à refuser résultats non-pertinents.\n",
    "recall_short = recall_score(ytest_short, predictions_short) # (vrai_positifs/(vrais_positifs+faux_négatifs))\n",
    "roc_short=roc_auc_score(ytest_short,predictions_short)\n",
    "print('RESULTATS SHORT\\n')\n",
    "print('Accuracy: %.2f%%' % (accuracy_short * 100.0))\n",
    "print(\"Precision: %.2f%% \" % (precision_short *100),' => Discrimnination des vrais positifs parmi les faux positifs')\n",
    "print(\"Recall: %.2f%% \" % (recall_short * 100),' => Positifs trouvés par Golem sur tous les positifs existants')\n",
    "print(\"AUC: %.2f%% \" % (roc_short *100))\n",
    "# get probabilities for positive class\n",
    "prediction_short = model_short.predict_proba(Xtest_short)\n",
    "roc_short2 = roc_auc_score(ytest_short, prediction_short[:,1])\n",
    "print(\"AUC_proba: %.2f%% \" % (roc_short2 * 100))\n",
    "print(classification_report(ytest_short, predictions_short))\n",
    "conf_matrix = pd.DataFrame(index = ['vrais_réels','Faux_réels'])\n",
    "conf_matrix['Vrais_estimés'] = ['Vrais_positifs','Faux_positifs']\n",
    "conf_matrix['Faux_estimés'] = ['Faux_négatif','Vrais-négatifs']\n",
    "print(confusion_matrix(ytest_short, predictions_short))\n",
    "print('Matrice de confusion :')\n",
    "conf_matrix"
   ]
  },
  {
   "cell_type": "code",
   "execution_count": 267,
   "metadata": {},
   "outputs": [
    {
     "data": {
      "text/plain": [
       "(numpy.ndarray, 4890, 772)"
      ]
     },
     "execution_count": 267,
     "metadata": {},
     "output_type": "execute_result"
    }
   ],
   "source": [
    "type(predictions_long),len(predictions_long), predictions_long.sum()"
   ]
  },
  {
   "cell_type": "code",
   "execution_count": 268,
   "metadata": {},
   "outputs": [
    {
     "data": {
      "text/plain": [
       "(numpy.ndarray, 4890, 738)"
      ]
     },
     "execution_count": 268,
     "metadata": {},
     "output_type": "execute_result"
    }
   ],
   "source": [
    "type(predictions_short),len(predictions_short), predictions_short.sum()"
   ]
  },
  {
   "cell_type": "code",
   "execution_count": null,
   "metadata": {},
   "outputs": [],
   "source": []
  },
  {
   "cell_type": "code",
   "execution_count": null,
   "metadata": {},
   "outputs": [],
   "source": []
  },
  {
   "cell_type": "code",
   "execution_count": 269,
   "metadata": {},
   "outputs": [
    {
     "data": {
      "text/plain": [
       "<matplotlib.legend.Legend at 0x1a2954be48>"
      ]
     },
     "execution_count": 269,
     "metadata": {},
     "output_type": "execute_result"
    },
    {
     "data": {
      "image/png": "[encoded data removed]",
      "text/plain": [
       "<Figure size 1152x432 with 1 Axes>"
      ]
     },
     "metadata": {
      "needs_background": "light"
     },
     "output_type": "display_data"
    }
   ],
   "source": [
    "plt.figure(figsize=(16,6))\n",
    "plt.plot(predictions_long,label = 'Long')\n",
    "plt.plot(-predictions_short,label = 'Short')\n",
    "plt.legend()"
   ]
  },
  {
   "cell_type": "code",
   "execution_count": 270,
   "metadata": {},
   "outputs": [
    {
     "data": {
      "text/plain": [
       "((4890,), (4890,))"
      ]
     },
     "execution_count": 270,
     "metadata": {},
     "output_type": "execute_result"
    }
   ],
   "source": [
    "predictions_long.shape,predictions_short.shape"
   ]
  },
  {
   "cell_type": "code",
   "execution_count": 272,
   "metadata": {},
   "outputs": [
    {
     "data": {
      "text/html": [
       "<div>\n",
       "<style scoped>\n",
       "    .dataframe tbody tr th:only-of-type {\n",
       "        vertical-align: middle;\n",
       "    }\n",
       "\n",
       "    .dataframe tbody tr th {\n",
       "        vertical-align: top;\n",
       "    }\n",
       "\n",
       "    .dataframe thead th {\n",
       "        text-align: right;\n",
       "    }\n",
       "</style>\n",
       "<table border=\"1\" class=\"dataframe\">\n",
       "  <thead>\n",
       "    <tr style=\"text-align: right;\">\n",
       "      <th></th>\n",
       "      <th>Close_eurusd</th>\n",
       "      <th>long</th>\n",
       "      <th>short</th>\n",
       "    </tr>\n",
       "    <tr>\n",
       "      <th>Date</th>\n",
       "      <th></th>\n",
       "      <th></th>\n",
       "      <th></th>\n",
       "    </tr>\n",
       "  </thead>\n",
       "  <tbody>\n",
       "    <tr>\n",
       "      <th>20190221  11:00:00</th>\n",
       "      <td>1.133405</td>\n",
       "      <td>0</td>\n",
       "      <td>0</td>\n",
       "    </tr>\n",
       "    <tr>\n",
       "      <th>20190221  11:15:00</th>\n",
       "      <td>1.133390</td>\n",
       "      <td>1</td>\n",
       "      <td>0</td>\n",
       "    </tr>\n",
       "    <tr>\n",
       "      <th>20190221  11:30:00</th>\n",
       "      <td>1.133845</td>\n",
       "      <td>0</td>\n",
       "      <td>0</td>\n",
       "    </tr>\n",
       "    <tr>\n",
       "      <th>20190221  11:45:00</th>\n",
       "      <td>1.134440</td>\n",
       "      <td>1</td>\n",
       "      <td>0</td>\n",
       "    </tr>\n",
       "    <tr>\n",
       "      <th>20190221  12:00:00</th>\n",
       "      <td>1.134775</td>\n",
       "      <td>1</td>\n",
       "      <td>0</td>\n",
       "    </tr>\n",
       "  </tbody>\n",
       "</table>\n",
       "</div>"
      ],
      "text/plain": [
       "                    Close_eurusd  long  short\n",
       "Date                                         \n",
       "20190221  11:00:00      1.133405     0      0\n",
       "20190221  11:15:00      1.133390     1      0\n",
       "20190221  11:30:00      1.133845     0      0\n",
       "20190221  11:45:00      1.134440     1      0\n",
       "20190221  12:00:00      1.134775     1      0"
      ]
     },
     "execution_count": 272,
     "metadata": {},
     "output_type": "execute_result"
    }
   ],
   "source": [
    "backtest = pd.DataFrame()\n",
    "backtest['Close_eurusd'] = df.iloc[-4890:,8]\n",
    "backtest['long'] = predictions_long\n",
    "backtest['short'] = predictions_short\n",
    "backtest.head()"
   ]
  },
  {
   "cell_type": "code",
   "execution_count": 273,
   "metadata": {},
   "outputs": [
    {
     "data": {
      "text/html": [
       "<div>\n",
       "<style scoped>\n",
       "    .dataframe tbody tr th:only-of-type {\n",
       "        vertical-align: middle;\n",
       "    }\n",
       "\n",
       "    .dataframe tbody tr th {\n",
       "        vertical-align: top;\n",
       "    }\n",
       "\n",
       "    .dataframe thead th {\n",
       "        text-align: right;\n",
       "    }\n",
       "</style>\n",
       "<table border=\"1\" class=\"dataframe\">\n",
       "  <thead>\n",
       "    <tr style=\"text-align: right;\">\n",
       "      <th></th>\n",
       "      <th>Close_eurusd</th>\n",
       "      <th>long</th>\n",
       "      <th>short</th>\n",
       "    </tr>\n",
       "    <tr>\n",
       "      <th>Date</th>\n",
       "      <th></th>\n",
       "      <th></th>\n",
       "      <th></th>\n",
       "    </tr>\n",
       "  </thead>\n",
       "  <tbody>\n",
       "    <tr>\n",
       "      <th>20190221  11:00:00</th>\n",
       "      <td>1.133405</td>\n",
       "      <td>0</td>\n",
       "      <td>0</td>\n",
       "    </tr>\n",
       "    <tr>\n",
       "      <th>20190221  11:15:00</th>\n",
       "      <td>1.133390</td>\n",
       "      <td>1</td>\n",
       "      <td>0</td>\n",
       "    </tr>\n",
       "    <tr>\n",
       "      <th>20190221  11:30:00</th>\n",
       "      <td>1.133845</td>\n",
       "      <td>0</td>\n",
       "      <td>0</td>\n",
       "    </tr>\n",
       "    <tr>\n",
       "      <th>20190221  11:45:00</th>\n",
       "      <td>1.134440</td>\n",
       "      <td>1</td>\n",
       "      <td>0</td>\n",
       "    </tr>\n",
       "    <tr>\n",
       "      <th>20190221  12:00:00</th>\n",
       "      <td>1.134775</td>\n",
       "      <td>1</td>\n",
       "      <td>0</td>\n",
       "    </tr>\n",
       "  </tbody>\n",
       "</table>\n",
       "</div>"
      ],
      "text/plain": [
       "                    Close_eurusd  long  short\n",
       "Date                                         \n",
       "20190221  11:00:00      1.133405     0      0\n",
       "20190221  11:15:00      1.133390     1      0\n",
       "20190221  11:30:00      1.133845     0      0\n",
       "20190221  11:45:00      1.134440     1      0\n",
       "20190221  12:00:00      1.134775     1      0"
      ]
     },
     "execution_count": 273,
     "metadata": {},
     "output_type": "execute_result"
    }
   ],
   "source": [
    "#backtest = backtest.iloc[bloc1:,:]\n",
    "backtest.head()"
   ]
  },
  {
   "cell_type": "code",
   "execution_count": null,
   "metadata": {},
   "outputs": [],
   "source": []
  },
  {
   "cell_type": "code",
   "execution_count": 274,
   "metadata": {},
   "outputs": [
    {
     "data": {
      "text/plain": [
       "(772, 738)"
      ]
     },
     "execution_count": 274,
     "metadata": {},
     "output_type": "execute_result"
    }
   ],
   "source": [
    "backtest['long'].sum(),backtest['short'].sum()"
   ]
  },
  {
   "cell_type": "code",
   "execution_count": 275,
   "metadata": {},
   "outputs": [
    {
     "data": {
      "text/plain": [
       "(4890, 738, 4890, 4890.0, 4890, 772, 4890, 4889.9995)"
      ]
     },
     "execution_count": 275,
     "metadata": {},
     "output_type": "execute_result"
    }
   ],
   "source": [
    "len(predictions_short),predictions_short.sum(),len(prediction_short),prediction_short.sum(),len(predictions_long),predictions_long.sum(),len(prediction_long),prediction_long.sum()"
   ]
  },
  {
   "cell_type": "code",
   "execution_count": 276,
   "metadata": {},
   "outputs": [
    {
     "data": {
      "text/plain": [
       "(4890, 3)"
      ]
     },
     "execution_count": 276,
     "metadata": {},
     "output_type": "execute_result"
    }
   ],
   "source": [
    "backtest.shape"
   ]
  },
  {
   "cell_type": "code",
   "execution_count": 277,
   "metadata": {},
   "outputs": [],
   "source": [
    "#backtest = backtest.iloc[4800:,:]"
   ]
  },
  {
   "cell_type": "code",
   "execution_count": 278,
   "metadata": {},
   "outputs": [
    {
     "data": {
      "text/html": [
       "<div>\n",
       "<style scoped>\n",
       "    .dataframe tbody tr th:only-of-type {\n",
       "        vertical-align: middle;\n",
       "    }\n",
       "\n",
       "    .dataframe tbody tr th {\n",
       "        vertical-align: top;\n",
       "    }\n",
       "\n",
       "    .dataframe thead th {\n",
       "        text-align: right;\n",
       "    }\n",
       "</style>\n",
       "<table border=\"1\" class=\"dataframe\">\n",
       "  <thead>\n",
       "    <tr style=\"text-align: right;\">\n",
       "      <th></th>\n",
       "      <th>Close_eurusd</th>\n",
       "      <th>long</th>\n",
       "      <th>short</th>\n",
       "    </tr>\n",
       "    <tr>\n",
       "      <th>Date</th>\n",
       "      <th></th>\n",
       "      <th></th>\n",
       "      <th></th>\n",
       "    </tr>\n",
       "  </thead>\n",
       "  <tbody>\n",
       "    <tr>\n",
       "      <th>20190221  11:00:00</th>\n",
       "      <td>1.133405</td>\n",
       "      <td>0</td>\n",
       "      <td>0</td>\n",
       "    </tr>\n",
       "    <tr>\n",
       "      <th>20190221  11:15:00</th>\n",
       "      <td>1.133390</td>\n",
       "      <td>1</td>\n",
       "      <td>0</td>\n",
       "    </tr>\n",
       "    <tr>\n",
       "      <th>20190221  11:30:00</th>\n",
       "      <td>1.133845</td>\n",
       "      <td>0</td>\n",
       "      <td>0</td>\n",
       "    </tr>\n",
       "    <tr>\n",
       "      <th>20190221  11:45:00</th>\n",
       "      <td>1.134440</td>\n",
       "      <td>1</td>\n",
       "      <td>0</td>\n",
       "    </tr>\n",
       "    <tr>\n",
       "      <th>20190221  12:00:00</th>\n",
       "      <td>1.134775</td>\n",
       "      <td>1</td>\n",
       "      <td>0</td>\n",
       "    </tr>\n",
       "  </tbody>\n",
       "</table>\n",
       "</div>"
      ],
      "text/plain": [
       "                    Close_eurusd  long  short\n",
       "Date                                         \n",
       "20190221  11:00:00      1.133405     0      0\n",
       "20190221  11:15:00      1.133390     1      0\n",
       "20190221  11:30:00      1.133845     0      0\n",
       "20190221  11:45:00      1.134440     1      0\n",
       "20190221  12:00:00      1.134775     1      0"
      ]
     },
     "execution_count": 278,
     "metadata": {},
     "output_type": "execute_result"
    }
   ],
   "source": [
    "backtest.head()"
   ]
  },
  {
   "cell_type": "code",
   "execution_count": 279,
   "metadata": {},
   "outputs": [
    {
     "data": {
      "text/plain": [
       "(772, 738)"
      ]
     },
     "execution_count": 279,
     "metadata": {},
     "output_type": "execute_result"
    }
   ],
   "source": [
    "backtest['long'].sum(),backtest['short'].sum()"
   ]
  },
  {
   "cell_type": "code",
   "execution_count": 281,
   "metadata": {},
   "outputs": [
    {
     "name": "stdout",
     "output_type": "stream",
     "text": [
      "Boucle de backtest initiée!\n",
      "Boucle terminée\n",
      "\n",
      "\u001b[95m \u001b[1m Les gains faramineux s'élèvent à : $ 1547.0 !. En  39  transactions.\n"
     ]
    }
   ],
   "source": [
    "long_pos = 0\n",
    "short_pos = 0\n",
    "equity = 100000\n",
    "price_buy_long = 0\n",
    "price_buy_short = 0\n",
    "equity_list = []\n",
    "nb_transaction = 0\n",
    "col_profit = []\n",
    "max_gain = (0,0)\n",
    "max_loss = (0,0)\n",
    "stop_loss_short = 0.011\n",
    "stop_loss_long = -0.013\n",
    "ticket = 100000\n",
    "target_long = 0.003\n",
    "target_short = -0.003\n",
    "longueur = (backtest.shape[0])-1\n",
    "long_exit = []\n",
    "short_exit = []\n",
    "long_sl = []\n",
    "short_sl = []\n",
    "go_long = []\n",
    "go_short = []\n",
    "lea = 0\n",
    "sea = 0\n",
    "gain_sum = 0\n",
    "loss_sum = 0\n",
    "\n",
    "print(\"Boucle de backtest initiée!\")\n",
    "\n",
    "import sys\n",
    "orig_stdout = sys.stdout\n",
    "f = open('backtestv2_5.txt', 'w')\n",
    "sys.stdout = f\n",
    "\n",
    "for i in range(0,longueur):\n",
    "    \n",
    "    if backtest.iloc[i,1] == 2 and long_pos == 0:\n",
    "        long_pos = 1\n",
    "        nb_transaction += 1\n",
    "        price_buy_long = backtest.iloc[i,0]\n",
    "        equity = equity - 1.5\n",
    "        equity_list.append(equity)\n",
    "        col_profit.append(0)\n",
    "        go_long.append(1)\n",
    "        print('\\n Go Long enclenché le ',backtest.index[i],' pour $',price_buy_long)\n",
    "        print('Nouvel equity :',equity)\n",
    "        \n",
    "    elif backtest.iloc[i,1] == 1 and long_pos == 1 :\n",
    "        equity_list.append(equity)\n",
    "        print('Le',backtest.index[i],', On maintient la position long ouverte')\n",
    "        col_profit.append(0)\n",
    "    \n",
    "    elif backtest.iloc[i,1] == 0 and long_pos == 1:\n",
    "        \n",
    "        if (backtest.iloc[i,0] - price_buy_long) > target_long:\n",
    "            print('\\n close de position long le ',backtest.index[i],' pour $',backtest.iloc[i,0])    \n",
    "            print(\"Le prix d'achat était de \",price_buy_long)\n",
    "            print('variation des deux ', backtest.iloc[i,0] - price_buy_long)\n",
    "            print(' pnl :',(backtest.iloc[i,0] - price_buy_long)*ticket)\n",
    "            equity = equity - 1.5 + ((backtest.iloc[i,0] - price_buy_long) * ticket)\n",
    "            print('Le nouvel equity est de :',equity,'$')\n",
    "            nb_transaction += 1\n",
    "            long_exit.append(1)\n",
    "            col_profit.append(( backtest.iloc[i,0] - price_buy_long) * ticket)\n",
    "            if ((backtest.iloc[i,0] - price_buy_long) * ticket) > max_gain[1]:\n",
    "                max_gain = (i,((backtest.iloc[i,0] - price_buy_long) * ticket))\n",
    "                \n",
    "            #elif ((backtest.iloc[i,0] - price_buy_long) * ticket) < max_loss[1]:\n",
    "             #   max_loss = (i,((backtest.iloc[i,0] - price_buy_long) * ticket))\n",
    "            equity_list.append(equity)\n",
    "            gain_sum = gain_sum + (backtest.iloc[i,0] - price_buy_long)*ticket\n",
    "            long_pos = 0\n",
    "        \n",
    "        elif (backtest.iloc[i,0] - price_buy_long) < stop_loss_long:\n",
    "            equity = equity - 1.5 + ((backtest.iloc[i,0] - price_buy_long) * ticket)\n",
    "            print('\\n sortie stop_loss du long ',backtest.index[i],' pour $',backtest.iloc[i,0])    \n",
    "            print(\"Le prix d'achat était de \",price_buy_long)\n",
    "            print(' pnl :',(backtest.iloc[i,0] - price_buy_long)*ticket)\n",
    "            print('Le nouvel equity est de :',equity,'$')\n",
    "            nb_transaction += 1\n",
    "            long_sl.append(1)\n",
    "            col_profit.append(((backtest.iloc[i,0] - price_buy_long) * ticket))\n",
    "            #if ((backtest.iloc[i,0] - price_buy_long) * ticket) > max_gain[1]:\n",
    "                #max_gain = (i,((backtest.iloc[i,0] - price_buy_long) * ticket))\n",
    "                \n",
    "            if ((backtest.iloc[i,0] - price_buy_long) * ticket)< max_loss[1]:\n",
    "                max_loss = (i,((backtest.iloc[i,0] - price_buy_long) * ticket))\n",
    "            equity_list.append(equity)\n",
    "            long_pos = 0\n",
    "            loss_sum = loss_sum + abs(( backtest.iloc[i,0] - price_buy_long)*ticket)\n",
    "        \n",
    "    elif backtest.iloc[i,1] == 0 and long_pos == 0 :\n",
    "        equity_list.append(equity)\n",
    "        print('Le',backtest.index[i],', il ne se passe rien')\n",
    "        col_profit.append(0)\n",
    "            \n",
    "for i in range(0,longueur):\n",
    "    \n",
    "    if backtest.iloc[i,2] == 1 and short_pos == 0:\n",
    "        short_pos = 1\n",
    "        nb_transaction += 1\n",
    "        price_buy_short = backtest.iloc[i,0]\n",
    "        equity = equity - 1.5\n",
    "        equity_list.append(equity)\n",
    "        col_profit.append(0)\n",
    "        go_short.append(1)\n",
    "        print('\\n Short on le ',backtest.index[i],' pour $',price_buy_short)\n",
    "        print('Le nouvel equity est de :',equity,'$')\n",
    "        \n",
    "    elif backtest.iloc[i,2] == 1 and short_pos == 1 :\n",
    "        equity_list.append(equity)\n",
    "        print('Le',backtest.index[i],', on reste en position Short')\n",
    "        col_profit.append(0)\n",
    "    \n",
    "    elif backtest.iloc[i,2] == 0 and short_pos == 1:\n",
    "        \n",
    "        if (backtest.iloc[i,0] - price_buy_short) < target_short:\n",
    "            print('\\n sortie du position short ',backtest.index[i],' pour $',backtest.iloc[i,0])    \n",
    "            print(\"Le prix d'achat était de \",price_buy_short)\n",
    "            print(' pnl :',( backtest.iloc[i,0] - price_buy_short)*ticket)\n",
    "            equity = equity - 1.5 + abs((backtest.iloc[i,0] - price_buy_short) * ticket)\n",
    "            print('Le nouvel equity est de :',equity,'$')\n",
    "            nb_transaction += 1\n",
    "            short_exit.append(1)\n",
    "            col_profit.append(abs((( backtest.iloc[i,0] - price_buy_short) * ticket)))\n",
    "            if abs((backtest.iloc[i,0] - price_buy_short) * ticket) > max_gain[1]:\n",
    "                max_gain = (i,abs((backtest.iloc[i,0] - price_buy_short) * ticket))\n",
    "                \n",
    "            #elif ((backtest.iloc[i,0] - price_buy_short) * ticket)< max_loss[1]:\n",
    "             #   max_loss = (i,((backtest.iloc[i,0] - price_buy_short) * ticket))\n",
    "            equity_list.append(equity)\n",
    "            short_pos = 0\n",
    "            gain_sum = gain_sum + abs((backtest.iloc[i,0] - price_buy_short) * ticket)\n",
    "        \n",
    "        elif (backtest.iloc[i,0] - price_buy_short) > stop_loss_short:\n",
    "            equity = equity - 1.5 - abs((backtest.iloc[i,0] - price_buy_short)* ticket)\n",
    "            print('\\n sortie stop_loss du short ',backtest.index[i],' pour $',backtest.iloc[i,0])    \n",
    "            print(\"Le prix d'achat était de \",price_buy_short)\n",
    "            print(' pnl :',-(backtest.iloc[i,0] - price_buy_short)*ticket)\n",
    "            print('Le nouvel equity est de :',equity,'$')\n",
    "            nb_transaction += 1\n",
    "            short_sl.append(1)\n",
    "            col_profit.append(-((backtest.iloc[i,0] - price_buy_short) * ticket))\n",
    "            #if ((backtest.iloc[i,0] - price_buy_short) * ticket) > max_gain[1]:\n",
    "             #   max_gain = (i,((backtest.iloc[i,0] - price_buy_short) * ticket))\n",
    "                \n",
    "            if (-(backtest.iloc[i,0] - price_buy_short) * ticket)< max_loss[1]:\n",
    "                max_loss = (i,(-(backtest.iloc[i,0] - price_buy_short) * ticket))\n",
    "            equity_list.append(equity)\n",
    "            short_pos = 0\n",
    "            loss_sum = loss_sum + abs((backtest.iloc[i,0] - price_buy_short) * ticket)\n",
    "        \n",
    "    elif backtest.iloc[i,2] == 0 and short_pos == 0 :\n",
    "        equity_list.append(equity)\n",
    "        print('Le',backtest.index[i],', il ne se passe rien')\n",
    "        col_profit.append(0)    \n",
    "\n",
    "\n",
    "if long_pos == 1 :\n",
    "    print(\"Sortie d'une position long en l'air\")\n",
    "    equity = equity - 1.5 + ((backtest.iloc[longueur,0]- price_buy_long) * ticket)\n",
    "    lea = 1\n",
    "if short_pos == 1 :\n",
    "    print(\"Sortie d'une position short en l'air\")\n",
    "    equity = equity - 1.5 + ((backtest.iloc[longueur,0]- price_buy_short) * ticket)\n",
    "    sea = 1\n",
    "    \n",
    "            \n",
    "print(\"\\n\\033[95m \\033[1m Les gains faramineux s'élèvent à : $\",round(equity-100000),'!. En ',nb_transaction,' transactions.' )\n",
    "f.close()\n",
    "sys.stdout = orig_stdout\n",
    "print('Boucle terminée')\n",
    "print(\"\\n\\033[95m \\033[1m Les gains faramineux s'élèvent à : $\",round(equity-100000),'!. En ',nb_transaction,' transactions.' )\n"
   ]
  },
  {
   "cell_type": "code",
   "execution_count": 169,
   "metadata": {},
   "outputs": [],
   "source": [
    "longueur_long = (backtest.shape[0])-1"
   ]
  },
  {
   "cell_type": "code",
   "execution_count": 170,
   "metadata": {},
   "outputs": [
    {
     "data": {
      "text/plain": [
       "1"
      ]
     },
     "execution_count": 170,
     "metadata": {},
     "output_type": "execute_result"
    }
   ],
   "source": [
    "backtest.iloc[longueur,2]"
   ]
  },
  {
   "cell_type": "code",
   "execution_count": 171,
   "metadata": {},
   "outputs": [
    {
     "data": {
      "text/plain": [
       "(5223, 776, 65, 1610.5000000000437, 769)"
      ]
     },
     "execution_count": 171,
     "metadata": {},
     "output_type": "execute_result"
    }
   ],
   "source": [
    "len(equity_list),backtest['long'].sum(),nb_transaction,equity-100000,backtest['short'].sum()"
   ]
  },
  {
   "cell_type": "markdown",
   "metadata": {},
   "source": [
    "gain_sum = 0\n",
    "loss_sum = 0\n",
    "for i in range(len(col_profit)):\n",
    "    if col_profit[i]>0:\n",
    "        gain_sum+=col_profit[i]\n",
    "    else :\n",
    "        loss_sum+=col_profit[i]\n",
    "        "
   ]
  },
  {
   "cell_type": "code",
   "execution_count": 172,
   "metadata": {},
   "outputs": [
    {
     "data": {
      "text/plain": [
       "(5223, 5223)"
      ]
     },
     "execution_count": 172,
     "metadata": {},
     "output_type": "execute_result"
    }
   ],
   "source": [
    "len(equity_list),len(col_profit)"
   ]
  },
  {
   "cell_type": "code",
   "execution_count": 173,
   "metadata": {},
   "outputs": [],
   "source": [
    "backtest_graph = pd.DataFrame()\n",
    "backtest_graph['equity'] = equity_list\n",
    "backtest_graph['col_profit'] = col_profit\n",
    "#backtest_graph['col_is_win'] = col_is_win\n",
    "#backtest_graph['col_cours'] = col_cours"
   ]
  },
  {
   "cell_type": "code",
   "execution_count": 174,
   "metadata": {},
   "outputs": [
    {
     "data": {
      "text/plain": [
       "<matplotlib.legend.Legend at 0x1a241c9ef0>"
      ]
     },
     "execution_count": 174,
     "metadata": {},
     "output_type": "execute_result"
    },
    {
     "data": {
      "image/png": "[encoded data removed]",
      "text/plain": [
       "<Figure size 1152x432 with 1 Axes>"
      ]
     },
     "metadata": {
      "needs_background": "light"
     },
     "output_type": "display_data"
    }
   ],
   "source": [
    "plt.figure(figsize=(16,6))\n",
    "backtest_graph['equity'].plot()\n",
    "plt.legend()"
   ]
  },
  {
   "cell_type": "code",
   "execution_count": 175,
   "metadata": {},
   "outputs": [
    {
     "data": {
      "text/plain": [
       "<matplotlib.legend.Legend at 0x1a25bb2fd0>"
      ]
     },
     "execution_count": 175,
     "metadata": {},
     "output_type": "execute_result"
    },
    {
     "data": {
      "image/png": "[encoded data removed]",
      "text/plain": [
       "<Figure size 1152x432 with 1 Axes>"
      ]
     },
     "metadata": {
      "needs_background": "light"
     },
     "output_type": "display_data"
    }
   ],
   "source": [
    "plt.figure(figsize=(16,6))\n",
    "plt.plot(backtest_graph['col_profit'])\n",
    "plt.scatter(max_gain[0],max_gain[1],c='y')\n",
    "plt.scatter(max_loss[0],max_loss[1],c='r')\n",
    "plt.legend()"
   ]
  },
  {
   "cell_type": "code",
   "execution_count": 176,
   "metadata": {},
   "outputs": [],
   "source": [
    "cumul_profit = sum(col_profit)\n",
    "nul_profit = col_profit.count(0)\n",
    "len_profit = len(col_profit)"
   ]
  },
  {
   "cell_type": "code",
   "execution_count": 177,
   "metadata": {},
   "outputs": [
    {
     "name": "stdout",
     "output_type": "stream",
     "text": [
      "Période testée :\n",
      "Début :  20190221  10:15:00\n",
      "Fin :  20190505  23:30:00\n",
      "ROC long :  83.09 %\n",
      "ROC short :  86.47 %\n",
      "Transaction à $100,000\n",
      "Equity initiale : $100,000\n",
      "Equity finale :  101610.5\n",
      "Gain généré : 1610.5 $\n",
      "Nombre de transactions :  65\n",
      "Nombre de Long :  0\n",
      "Nombre de Short :  33\n",
      "Nombre winners :  28\n",
      "Nombre loosers :  4\n",
      "Nombre de long winners :  0\n",
      "Nombre de short winners :  28\n",
      "Nombre de long loosers :  0\n",
      "Nombre de short loosers :  4\n",
      "Nombre de short en l'air :  1\n",
      "Nombre long en l'air :  0\n",
      "Fees :  9750\n",
      "Gain maximal 548.5   548.5\n",
      "Perte maximale -1176.5   -1176.5\n",
      "Moyenne du gain 49.55\n",
      "Somme de tous les gains 6033.0\n",
      "Somme de tous le loss 4542.0\n",
      "profit factor 1.33\n"
     ]
    }
   ],
   "source": [
    "print('Période testée :')\n",
    "print('Début : ',backtest.index[0])\n",
    "print('Fin : ',backtest.index[-1])\n",
    "print('ROC long : ',round(roc_long*100,2),'%')\n",
    "print('ROC short : ',round(roc_short*100,2),'%')\n",
    "print('Transaction à $100,000')\n",
    "print('Equity initiale : $100,000')\n",
    "print('Equity finale : ',round(equity,2))\n",
    "print('Gain généré :',round(equity-100000,2),'$')\n",
    "print('Nombre de transactions : ',nb_transaction)\n",
    "print('Nombre de Long : ',sum(go_long))\n",
    "print('Nombre de Short : ',sum(go_short))\n",
    "print('Nombre winners : ',sum(long_exit) + sum(short_exit))\n",
    "print('Nombre loosers : ',sum(long_sl) + sum(short_sl))\n",
    "print('Nombre de long winners : ',sum(long_exit))\n",
    "print('Nombre de short winners : ',sum(short_exit))\n",
    "print('Nombre de long loosers : ',sum(long_sl))\n",
    "print('Nombre de short loosers : ',sum(short_sl))\n",
    "print(\"Nombre de short en l'air : \", sea)\n",
    "print(\"Nombre long en l'air : \",lea)\n",
    "print('Fees : ',nb_transaction*150)\n",
    "#print('Nombre de positions gagnées',sum(col_is_win))\n",
    "#print('Nombre de positions perdues',sum(col_close_pos)-sum(col_is_win))\n",
    "print('Gain maximal',round(max(col_profit),2),' ',round(max_gain[1],2))\n",
    "print('Perte maximale',round(min(col_profit),2),' ',round(max_loss[1],2))\n",
    "print('Moyenne du gain',round(((equity-100000)/(nb_transaction/2)),2))\n",
    "print('Somme de tous les gains',round(gain_sum,2))\n",
    "print('Somme de tous le loss',round(abs(loss_sum),2))\n",
    "print('profit factor',round(abs(gain_sum/loss_sum),2))\n"
   ]
  },
  {
   "cell_type": "code",
   "execution_count": 517,
   "metadata": {},
   "outputs": [],
   "source": [
    "# save the model to disk\n",
    "filename = 'finalized_model_long.sav'\n",
    "pickle.dump(model_long, open(filename, 'wb'))\n",
    "filename = 'finalized_model_short.sav'\n",
    "pickle.dump(model_short, open(filename, 'wb'))"
   ]
  },
  {
   "cell_type": "markdown",
   "metadata": {},
   "source": [
    "# load the model from disk\n",
    "loaded_model = pickle.load(open(filename, 'rb'))\n",
    "result = loaded_model.score(X_test, Y_test)\n",
    "print(result)"
   ]
  }
 ],
 "metadata": {
  "kernelspec": {
   "display_name": "Python 3",
   "language": "python",
   "name": "python3"
  },
  "language_info": {
   "codemirror_mode": {
    "name": "ipython",
    "version": 3
   },
   "file_extension": ".py",
   "mimetype": "text/x-python",
   "name": "python",
   "nbconvert_exporter": "python",
   "pygments_lexer": "ipython3",
   "version": "3.6.8"
  }
 },
 "nbformat": 4,
 "nbformat_minor": 2
}
