{
 "cells": [
  {
   "cell_type": "code",
   "execution_count": 1,
   "metadata": {},
   "outputs": [],
   "source": [
    "def clearall():\n",
    "    all = [var for var in globals() if var[0] != \"_\"]\n",
    "    for var in all:\n",
    "        del globals()[var]\n",
    "clearall()"
   ]
  },
  {
   "cell_type": "code",
   "execution_count": 2,
   "metadata": {
    "tags": []
   },
   "outputs": [
    {
     "output_type": "stream",
     "name": "stdout",
     "text": "Importing Librairies...\nLibrairies imported\n\nversion fxcmpy : 1.2.6\nPrêt\n"
    }
   ],
   "source": [
    "############################\n",
    "######## LIBRAIRIES ########\n",
    "############################\n",
    "print('Importing Librairies...')\n",
    "from sklearn.linear_model import LinearRegression\n",
    "from colorama import Fore, Back, Style\n",
    "import pandas as pd\n",
    "import matplotlib.pyplot as plt\n",
    "import matplotlib.dates as mdates\n",
    "import seaborn as sns\n",
    "import time\n",
    "import datetime as dt\n",
    "import os\n",
    "import datetime as dt\n",
    "import numpy as np\n",
    "import fxcmpy\n",
    "import socketio\n",
    "import shelve\n",
    "import talib\n",
    "import pyttsx3\n",
    "engine = pyttsx3.init()\n",
    "\n",
    "print('Librairies imported\\n')\n",
    "print('version fxcmpy :',fxcmpy.__version__)\n",
    "%matplotlib inline\n",
    "plt.style.use('seaborn')\n",
    "engine.say(\"librairie loaded\")\n",
    "engine.runAndWait()\n",
    "print('Prêt')"
   ]
  },
  {
   "cell_type": "code",
   "execution_count": null,
   "metadata": {},
   "outputs": [],
   "source": []
  },
  {
   "cell_type": "code",
   "execution_count": 3,
   "metadata": {
    "tags": []
   },
   "outputs": [
    {
     "output_type": "stream",
     "name": "stdout",
     "text": "Variables initialisées\n"
    }
   ],
   "source": [
    "engine.say(\"Ignition du Lumberjack\")\n",
    "engine.runAndWait() \n",
    "\n",
    "##############################################\n",
    "######## INITIALISATION DES VARIABLES ########\n",
    "##############################################\n",
    "\n",
    "\n",
    "# COMPTE TEST #\n",
    "'''\n",
    "TOKEN = '039add1dbe2b344ed08c518a98c7a1796f7a33c2'\n",
    "server = 'demo'\n",
    "user_id = 'D261219574'\n",
    "compte = '01215057'\n",
    "password = '3555'\n",
    "'''\n",
    "\n",
    "'''\n",
    "# COMPTE DEV #\n",
    "TOKEN = '79f83cbff13d296eb6d9b6c1ed6dccd768ef925a'\n",
    "server = 'demo'\n",
    "user_id = 'D261219577'\n",
    "compte = '01215060'\n",
    "password = '3877'\n",
    "'''\n",
    "\n",
    "\n",
    "\n",
    "# COMPTE POUBELLE #\n",
    "TOKEN = 'a66bf5c0ec732487f4b348baf6364d3ee8784935'\n",
    "server = 'demo'\n",
    "user_id = 'D261219576'\n",
    "compte = '01215059'\n",
    "password = '8029'\n",
    "\n",
    "\n",
    "\n",
    "# minutes: 'm1' , 'm5' , 'm15' , 'm30' \n",
    "# hours: 'H1' , 'H2', 'H3', 'H4', 'H6' 'H8'\n",
    "# one day: 'D1'\n",
    "# one week: 'W1'\n",
    "# one month: 'M1'\n",
    "\n",
    "\n",
    "_number = 50\n",
    "_period = 'm5'\n",
    "\n",
    "df = pd.DataFrame()\n",
    "\n",
    "engine.say(\"בסדר\")\n",
    "engine.runAndWait()\n",
    "print('Variables initialisées')"
   ]
  },
  {
   "cell_type": "code",
   "execution_count": null,
   "metadata": {},
   "outputs": [],
   "source": []
  },
  {
   "cell_type": "code",
   "execution_count": 4,
   "metadata": {
    "tags": []
   },
   "outputs": [
    {
     "output_type": "stream",
     "name": "stdout",
     "text": "Functions initiated\n"
    }
   ],
   "source": [
    "\n",
    "############################\n",
    "######## FONCTIONS ########\n",
    "###########################\n",
    "\n",
    "\n",
    "def conX():\n",
    "    con = fxcmpy.fxcmpy(access_token=TOKEN, log_level='error',server=server)\n",
    "    if con.is_connected() == True:\n",
    "        print(Fore.GREEN+'Connexion établie'+Style.RESET_ALL)\n",
    "        print('Compte utilisé : ',con.get_account_ids())\n",
    "    else:\n",
    "        print(Fore.RED+'Connexion non établie'+Style.RESET_ALL)\n",
    "    return(con)\n",
    "\n",
    "def deconX():\n",
    "    con = con.close()\n",
    "    if con.is_connected() == True:\n",
    "        print(Fore.GREEN+'Connexion non intérrompue'+Style.RESET_ALL)\n",
    "        print('Compte utilisé : ',con.get_account_ids())\n",
    "    else:\n",
    "        print(Fore.RED+'Connexion intérrompue'+Style.RESET_ALL)\n",
    "    return()\n",
    "\n",
    "\n",
    "def scrap_hist(_ticker,_number=50):\n",
    "    data = con.get_candles(_ticker,period=_period,number=_number)\n",
    "    df = pd.DataFrame(index=data.index)\n",
    "    df['Openb'] = data['bidopen'].values\n",
    "    df['Highb'] = data['bidhigh'].values\n",
    "    df['Lowb'] = data['bidlow'].values\n",
    "    df['Closeb'] = data['bidclose'].values\n",
    "    df['Opena'] = data['askopen'].values\n",
    "    df['Higha'] = data['askhigh'].values\n",
    "    df['Lowa'] = data['asklow'].values\n",
    "    df['Closea'] = data['askclose'].values\n",
    "    return(df)\n",
    "\n",
    "\n",
    "engine.say(\"functions initiated\")\n",
    "engine.runAndWait()\n",
    "print('Functions initiated')"
   ]
  },
  {
   "cell_type": "code",
   "execution_count": null,
   "metadata": {},
   "outputs": [],
   "source": []
  },
  {
   "cell_type": "code",
   "execution_count": 5,
   "metadata": {
    "tags": []
   },
   "outputs": [
    {
     "output_type": "stream",
     "name": "stdout",
     "text": "Global Optimized LumberJack Environment Motor for FOR_EX\nLumberJack Jyss 5780(c)\n\u001b[34m °0Oo_D.A.G._26_oO0°\n\u001b[33m \u001b[44m --- Go!em ForeX #v0.44 --- \u001b[0m\n\n\u001b[31mConnexion non établie\u001b[0m\n\n"
    },
    {
     "output_type": "error",
     "ename": "UnboundLocalError",
     "evalue": "local variable 'con' referenced before assignment",
     "traceback": [
      "\u001b[0;31m---------------------------------------------------------------------------\u001b[0m",
      "\u001b[0;31mNameError\u001b[0m                                 Traceback (most recent call last)",
      "\u001b[0;32m<ipython-input-5-c6e4af379b97>\u001b[0m in \u001b[0;36m<module>\u001b[0;34m\u001b[0m\n\u001b[1;32m     15\u001b[0m \u001b[0;32mtry\u001b[0m\u001b[0;34m:\u001b[0m\u001b[0;34m\u001b[0m\u001b[0;34m\u001b[0m\u001b[0m\n\u001b[0;32m---> 16\u001b[0;31m     \u001b[0mcon\u001b[0m\u001b[0;34m.\u001b[0m\u001b[0mis_connected\u001b[0m\u001b[0;34m(\u001b[0m\u001b[0;34m)\u001b[0m \u001b[0;34m==\u001b[0m \u001b[0;32mTrue\u001b[0m\u001b[0;34m\u001b[0m\u001b[0;34m\u001b[0m\u001b[0m\n\u001b[0m\u001b[1;32m     17\u001b[0m \u001b[0;34m\u001b[0m\u001b[0m\n",
      "\u001b[0;31mNameError\u001b[0m: name 'con' is not defined",
      "\nDuring handling of the above exception, another exception occurred:\n",
      "\u001b[0;31mServerError\u001b[0m                               Traceback (most recent call last)",
      "\u001b[0;32m<ipython-input-5-c6e4af379b97>\u001b[0m in \u001b[0;36m<module>\u001b[0;34m\u001b[0m\n\u001b[1;32m     25\u001b[0m     \u001b[0;32mtry\u001b[0m\u001b[0;34m:\u001b[0m\u001b[0;34m\u001b[0m\u001b[0;34m\u001b[0m\u001b[0m\n\u001b[0;32m---> 26\u001b[0;31m         \u001b[0mcon\u001b[0m \u001b[0;34m=\u001b[0m \u001b[0mconX\u001b[0m\u001b[0;34m(\u001b[0m\u001b[0;34m)\u001b[0m\u001b[0;34m\u001b[0m\u001b[0;34m\u001b[0m\u001b[0m\n\u001b[0m\u001b[1;32m     27\u001b[0m         \u001b[0mcon\u001b[0m\u001b[0;34m.\u001b[0m\u001b[0mis_connected\u001b[0m\u001b[0;34m(\u001b[0m\u001b[0;34m)\u001b[0m \u001b[0;34m==\u001b[0m \u001b[0;32mTrue\u001b[0m\u001b[0;34m\u001b[0m\u001b[0;34m\u001b[0m\u001b[0m\n",
      "\u001b[0;32m<ipython-input-4-b22f9a11b75a>\u001b[0m in \u001b[0;36mconX\u001b[0;34m()\u001b[0m\n\u001b[1;32m      6\u001b[0m \u001b[0;32mdef\u001b[0m \u001b[0mconX\u001b[0m\u001b[0;34m(\u001b[0m\u001b[0;34m)\u001b[0m\u001b[0;34m:\u001b[0m\u001b[0;34m\u001b[0m\u001b[0;34m\u001b[0m\u001b[0m\n\u001b[0;32m----> 7\u001b[0;31m     \u001b[0mcon\u001b[0m \u001b[0;34m=\u001b[0m \u001b[0mfxcmpy\u001b[0m\u001b[0;34m.\u001b[0m\u001b[0mfxcmpy\u001b[0m\u001b[0;34m(\u001b[0m\u001b[0maccess_token\u001b[0m\u001b[0;34m=\u001b[0m\u001b[0mTOKEN\u001b[0m\u001b[0;34m,\u001b[0m \u001b[0mlog_level\u001b[0m\u001b[0;34m=\u001b[0m\u001b[0;34m'error'\u001b[0m\u001b[0;34m,\u001b[0m\u001b[0mserver\u001b[0m\u001b[0;34m=\u001b[0m\u001b[0mserver\u001b[0m\u001b[0;34m)\u001b[0m\u001b[0;34m\u001b[0m\u001b[0;34m\u001b[0m\u001b[0m\n\u001b[0m\u001b[1;32m      8\u001b[0m     \u001b[0;32mif\u001b[0m \u001b[0mcon\u001b[0m\u001b[0;34m.\u001b[0m\u001b[0mis_connected\u001b[0m\u001b[0;34m(\u001b[0m\u001b[0;34m)\u001b[0m \u001b[0;34m==\u001b[0m \u001b[0;32mTrue\u001b[0m\u001b[0;34m:\u001b[0m\u001b[0;34m\u001b[0m\u001b[0;34m\u001b[0m\u001b[0m\n",
      "\u001b[0;32m/opt/anaconda3/envs/FinTech/lib/python3.7/site-packages/fxcmpy/fxcmpy.py\u001b[0m in \u001b[0;36m__init__\u001b[0;34m(self, access_token, config_file, log_file, log_level, server, proxy_url, proxy_port, proxy_type)\u001b[0m\n\u001b[1;32m    215\u001b[0m         \u001b[0;32mif\u001b[0m \u001b[0mself\u001b[0m\u001b[0;34m.\u001b[0m\u001b[0mconnection_status\u001b[0m \u001b[0;34m==\u001b[0m \u001b[0;34m'pending'\u001b[0m \u001b[0;32mand\u001b[0m \u001b[0mcount\u001b[0m \u001b[0;34m==\u001b[0m \u001b[0;36m50\u001b[0m\u001b[0;34m:\u001b[0m\u001b[0;34m\u001b[0m\u001b[0;34m\u001b[0m\u001b[0m\n\u001b[0;32m--> 216\u001b[0;31m             \u001b[0;32mraise\u001b[0m \u001b[0mServerError\u001b[0m\u001b[0;34m(\u001b[0m\u001b[0;34m'Can not find FXCM Server.'\u001b[0m\u001b[0;34m)\u001b[0m\u001b[0;34m\u001b[0m\u001b[0;34m\u001b[0m\u001b[0m\n\u001b[0m\u001b[1;32m    217\u001b[0m         \u001b[0;32melif\u001b[0m \u001b[0mself\u001b[0m\u001b[0;34m.\u001b[0m\u001b[0mconnection_status\u001b[0m \u001b[0;34m==\u001b[0m \u001b[0;34m'aborted'\u001b[0m\u001b[0;34m:\u001b[0m\u001b[0;34m\u001b[0m\u001b[0;34m\u001b[0m\u001b[0m\n",
      "\u001b[0;31mServerError\u001b[0m: Can not find FXCM Server.",
      "\nDuring handling of the above exception, another exception occurred:\n",
      "\u001b[0;31mUnboundLocalError\u001b[0m                         Traceback (most recent call last)",
      "\u001b[0;32m<ipython-input-5-c6e4af379b97>\u001b[0m in \u001b[0;36m<module>\u001b[0;34m\u001b[0m\n\u001b[1;32m     37\u001b[0m         \u001b[0mprint\u001b[0m\u001b[0;34m(\u001b[0m\u001b[0;34m''\u001b[0m\u001b[0;34m)\u001b[0m\u001b[0;34m\u001b[0m\u001b[0;34m\u001b[0m\u001b[0m\n\u001b[1;32m     38\u001b[0m         \u001b[0;31m#os._exit(0)\u001b[0m\u001b[0;34m\u001b[0m\u001b[0;34m\u001b[0m\u001b[0;34m\u001b[0m\u001b[0m\n\u001b[0;32m---> 39\u001b[0;31m         \u001b[0mcon\u001b[0m \u001b[0;34m=\u001b[0m \u001b[0mdeconX\u001b[0m\u001b[0;34m(\u001b[0m\u001b[0;34m)\u001b[0m\u001b[0;34m\u001b[0m\u001b[0;34m\u001b[0m\u001b[0m\n\u001b[0m\u001b[1;32m     40\u001b[0m         \u001b[0mtime\u001b[0m\u001b[0;34m.\u001b[0m\u001b[0msleep\u001b[0m\u001b[0;34m(\u001b[0m\u001b[0;36m1\u001b[0m\u001b[0;34m)\u001b[0m\u001b[0;34m\u001b[0m\u001b[0;34m\u001b[0m\u001b[0m\n\u001b[1;32m     41\u001b[0m         \u001b[0mcon\u001b[0m \u001b[0;34m=\u001b[0m \u001b[0mconX\u001b[0m\u001b[0;34m(\u001b[0m\u001b[0;34m)\u001b[0m\u001b[0;34m\u001b[0m\u001b[0;34m\u001b[0m\u001b[0m\n",
      "\u001b[0;32m<ipython-input-4-b22f9a11b75a>\u001b[0m in \u001b[0;36mdeconX\u001b[0;34m()\u001b[0m\n\u001b[1;32m     14\u001b[0m \u001b[0;34m\u001b[0m\u001b[0m\n\u001b[1;32m     15\u001b[0m \u001b[0;32mdef\u001b[0m \u001b[0mdeconX\u001b[0m\u001b[0;34m(\u001b[0m\u001b[0;34m)\u001b[0m\u001b[0;34m:\u001b[0m\u001b[0;34m\u001b[0m\u001b[0;34m\u001b[0m\u001b[0m\n\u001b[0;32m---> 16\u001b[0;31m     \u001b[0mcon\u001b[0m \u001b[0;34m=\u001b[0m \u001b[0mcon\u001b[0m\u001b[0;34m.\u001b[0m\u001b[0mclose\u001b[0m\u001b[0;34m(\u001b[0m\u001b[0;34m)\u001b[0m\u001b[0;34m\u001b[0m\u001b[0;34m\u001b[0m\u001b[0m\n\u001b[0m\u001b[1;32m     17\u001b[0m     \u001b[0;32mif\u001b[0m \u001b[0mcon\u001b[0m\u001b[0;34m.\u001b[0m\u001b[0mis_connected\u001b[0m\u001b[0;34m(\u001b[0m\u001b[0;34m)\u001b[0m \u001b[0;34m==\u001b[0m \u001b[0;32mTrue\u001b[0m\u001b[0;34m:\u001b[0m\u001b[0;34m\u001b[0m\u001b[0;34m\u001b[0m\u001b[0m\n\u001b[1;32m     18\u001b[0m         \u001b[0mprint\u001b[0m\u001b[0;34m(\u001b[0m\u001b[0mFore\u001b[0m\u001b[0;34m.\u001b[0m\u001b[0mGREEN\u001b[0m\u001b[0;34m+\u001b[0m\u001b[0;34m'Connexion non intérrompue'\u001b[0m\u001b[0;34m+\u001b[0m\u001b[0mStyle\u001b[0m\u001b[0;34m.\u001b[0m\u001b[0mRESET_ALL\u001b[0m\u001b[0;34m)\u001b[0m\u001b[0;34m\u001b[0m\u001b[0;34m\u001b[0m\u001b[0m\n",
      "\u001b[0;31mUnboundLocalError\u001b[0m: local variable 'con' referenced before assignment"
     ]
    }
   ],
   "source": [
    "#########################\n",
    "### CONNEXION A L'API ###\n",
    "#########################\n",
    "\n",
    "___Author___='LumberJack Jyss'\n",
    "print('Global Optimized LumberJack Environment Motor for FOR_EX\\nLumberJack Jyss 5780(c)')\n",
    "print(Fore.BLUE,'°0Oo_D.A.G._26_oO0°')\n",
    "print(Fore.YELLOW,Back.BLUE,'--- Go!em ForeX #v0.44 ---',Style.RESET_ALL)\n",
    "\n",
    "print('')\n",
    "engine.say(\" Initialisation du Gaulem faurex\")\n",
    "engine.say(\"Connexion du Gaulem hà la Péh e\")\n",
    "engine.runAndWait()\n",
    "\n",
    "try:\n",
    "    con.is_connected() == True\n",
    "    \n",
    "    engine.say(\"already Connected\")\n",
    "    engine.runAndWait()\n",
    "    print(Fore.GREEN+'Connexion rétablie'+Style.RESET_ALL)\n",
    "    print('Compte utilisé : ',con.get_account_ids())\n",
    "    print('')\n",
    "    \n",
    "except:\n",
    "    try:\n",
    "        con = conX()\n",
    "        con.is_connected() == True\n",
    "        print(Fore.GREEN+'Connexion établie'+Style.RESET_ALL)\n",
    "        print('Compte utilisé : ',con.get_account_ids())\n",
    "        engine.say(\"Connected\")\n",
    "        engine.runAndWait()\n",
    "    except:\n",
    "        print(Fore.RED+'Connexion non établie'+Style.RESET_ALL)\n",
    "        engine.say(\"Not Connected, sal rass de mor, pitun cé la merd\")\n",
    "        engine.say(\"vérifi ton internet, é relance le gaulèm\")\n",
    "        engine.runAndWait()\n",
    "        print('')\n",
    "        #os._exit(0)\n",
    "        con = deconX()\n",
    "        time.sleep(1)\n",
    "        con = conX()"
   ]
  },
  {
   "cell_type": "code",
   "execution_count": null,
   "metadata": {
    "tags": []
   },
   "outputs": [],
   "source": [
    "%%time\n",
    "INSTRUMENTS = con.get_instruments()\n",
    "_compteur = 0\n",
    "\n",
    "engine.say(\"Wow, honey, We are going to make some money with engulfing!\")\n",
    "engine.runAndWait()\n",
    "\n",
    "for loop in range(72000000):\n",
    "    _compteur += 1\n",
    "    \n",
    "    for _ticker in INSTRUMENTS:\n",
    "        \n",
    "        print('\\r',Fore.MAGENTA,'Loop',_compteur,Style.RESET_ALL,end='')\n",
    "        print(Fore.BLUE,'Ticker :',Fore.YELLOW,_ticker,Style.RESET_ALL,end='')\n",
    "        \n",
    "        #try:\n",
    "        df = scrap_hist(_ticker)\n",
    "        print('Scraping Ok.',end='')\n",
    "        print('Shape df',df.shape,end='')\n",
    "        df['RSIa'] = talib.RSI(df.Closea,14)\n",
    "        df['ATRa'] = talib.ATR(np.asarray(df.Higha)*1.000001,np.asarray(df.Lowa)*1.000001,np.asarray(df.Closea)*1.000001)\n",
    "        df['RSIb'] = talib.RSI(df.Closeb,14)\n",
    "        df['ATRb'] = talib.ATR(np.asarray(df.Highb)*1.000001,np.asarray(df.Lowb)*1.000001,np.asarray(df.Closeb)*1.000001)\n",
    "        _amplitude1a = abs(df.Opena[-3] - df.Closea[-3])\n",
    "        _amplitude2a = abs(df.Opena[-2] - df.Closea[-2])\n",
    "        _amplitude1b = abs(df.Openb[-3] - df.Closeb[-3])\n",
    "        _amplitude2b = abs(df.Openb[-2] - df.Closeb[-2])\n",
    "\n",
    "# Buy  => TP : prix achat + 1.5 * delta(Close - Low)Engulfing     -- SL : Low de engulfing *0.999 -- Prix entrée : Open[-2]\n",
    "\n",
    "# Sell => TP : prix de vente - 1.5 * delta(High - Close)Engulfing -- SL : Low de engulfing *1.001 -- Prix entrée : Open[-2]\n",
    "\n",
    "\n",
    "\n",
    "# TRAITEMENT LONG\n",
    "        if _amplitude1a > 1 * df.ATRa[-3] and _amplitude2a > 0.7 * _amplitude1a :\n",
    "\n",
    "            _ratea = df.Opena[-2]\n",
    "            _tpa = df.Opena[-2] + 1.5 * abs(df.Closea[-1] - df.Lowa[-1])\n",
    "            _sla = df.Lowb[-1] * 0.999\n",
    "            _amount = 50\n",
    "            \n",
    "            if df.Opena[-1] <= df.Closea[-2] and\\\n",
    "                    df.Closea[-1] >= df.Opena[-2] and\\\n",
    "                        df.RSIa[-2] <= 30 and\\\n",
    "                        df.Closea[-3] <= df.Opena[-3] and\\\n",
    "                                df.Closea[-2] <= df.Opena[-2]:\n",
    "\n",
    "                \n",
    "                engine.say(\"Yeah, we go long, honey!\")\n",
    "                engine.runAndWait()\n",
    "                print(Fore.GREEN,'BUY',Fore.YELLOW,_ticker,Style.RESET_ALL)\n",
    "                print('')\n",
    "                \n",
    "                order = con.create_entry_order(symbol=_ticker, \\\n",
    "                                            is_buy=True,\\\n",
    "                                                amount=_amount, \\\n",
    "                                                    limit=_tpa, \\\n",
    "                                                        is_in_pips=False, \\\n",
    "                                                            time_in_force='GTD', \\\n",
    "                                                                rate=_ratea, \\\n",
    "                                                                    stop=_sla, \\\n",
    "                                                                        trailing_step=None,\\\n",
    "                                                                            expiration=dt.datetime.now()+dt.timedelta(minutes=10)-dt.timedelta(hours=2))\n",
    "            else:\n",
    "                print(Fore.RED,'No Signal',Style.RESET_ALL,end='',flush=True)\n",
    "                time.sleep(1)\n",
    "        \n",
    "# TRAITEMENT SHORT\n",
    "        elif _amplitude1b > 1 * df.ATRb[-3] and _amplitude2b > 0.7 * _amplitude1b :  \n",
    "\n",
    "            _rateb = df.Openb[-2]\n",
    "            _tpb = df.Openb[-2] - 1.5 * abs(df.Closeb[-1] - df.Lowb[-1])\n",
    "            _slb = df.Higha[-1] * 1.001\n",
    "            _amount = 50         \n",
    "            \n",
    "            if df.Openb[-1] >= df.Closeb[-2] and\\\n",
    "                        df.Closeb[-1] <= df.Openb[-2] and\\\n",
    "                            df.RSIb[-2] >= 70 and\\\n",
    "                            df.Closeb[-3] >= df.Openb[-3] and\\\n",
    "                                    df.Closeb[-2] >= df.Openb[-2]:\n",
    "\n",
    "                engine.say(\"Yeah, we go short, honey!\")\n",
    "                engine.runAndWait()\n",
    "                print(Fore.GREEN,'SHORT',Fore.YELLOW,_ticker,Style.RESET_ALL)\n",
    "                print('')\n",
    "                \n",
    "                order = con.create_entry_order(symbol=_ticker, \\\n",
    "                                            is_buy=False,\\\n",
    "                                                amount=_amount, \\\n",
    "                                                    limit=_tpb, \\\n",
    "                                                        is_in_pips=False, \\\n",
    "                                                            time_in_force='GTD', \\\n",
    "                                                                rate=_rateb, \\\n",
    "                                                                    stop=_slb, \\\n",
    "                                                                        trailing_step=None,\\\n",
    "                                                                            expiration=dt.datetime.now()+dt.timedelta(minutes=10)-dt.timedelta(hours=2))\n",
    "\n",
    "            else:\n",
    "                print(Fore.RED,'No Signal',Style.RESET_ALL,end='',flush=True)\n",
    "                time.sleep(1)\n",
    "        else:\n",
    "            print(Fore.RED,'No Signal',Style.RESET_ALL,end='',flush=True)\n",
    "            time.sleep(1)\n",
    "    \n",
    "                \n",
    "            \n",
    "    time.sleep(20)\n",
    "    \n",
    "    \n",
    "\n",
    "    \n",
    "\n"
   ]
  },
  {
   "cell_type": "code",
   "execution_count": 13,
   "metadata": {
    "tags": []
   },
   "outputs": [],
   "source": []
  },
  {
   "cell_type": "code",
   "execution_count": null,
   "metadata": {},
   "outputs": [],
   "source": []
  },
  {
   "cell_type": "code",
   "execution_count": null,
   "metadata": {},
   "outputs": [],
   "source": []
  },
  {
   "cell_type": "code",
   "execution_count": 58,
   "metadata": {},
   "outputs": [
    {
     "output_type": "execute_result",
     "data": {
      "text/plain": "(1.2556850000000002, 1.25607, 1.256055, 1.25569)"
     },
     "metadata": {},
     "execution_count": 58
    }
   ],
   "source": [
    "df.Low[-3], df.High[-3], df.Close[-3], df.Open[-3]"
   ]
  },
  {
   "cell_type": "code",
   "execution_count": 59,
   "metadata": {},
   "outputs": [
    {
     "output_type": "execute_result",
     "data": {
      "text/plain": "(1.255665, 1.256105, 1.25572, 1.256055)"
     },
     "metadata": {},
     "execution_count": 59
    }
   ],
   "source": [
    "df.Low[-2], df.High[-2], df.Close[-2], df.Open[-2]"
   ]
  },
  {
   "cell_type": "code",
   "execution_count": 60,
   "metadata": {},
   "outputs": [
    {
     "output_type": "execute_result",
     "data": {
      "text/plain": "(1.25553, 1.25572, 1.25563, 1.25572)"
     },
     "metadata": {},
     "execution_count": 60
    }
   ],
   "source": [
    "df.Low[-1], df.High[-1], df.Close[-1], df.Open[-1]"
   ]
  },
  {
   "cell_type": "code",
   "execution_count": 61,
   "metadata": {},
   "outputs": [
    {
     "output_type": "execute_result",
     "data": {
      "text/plain": "(0.0003649999999999487, 0.0003349999999999742, 0.0003201288994486142)"
     },
     "metadata": {},
     "execution_count": 61
    }
   ],
   "source": [
    "_amplitude1,_amplitude2,df.ATR[-3]"
   ]
  },
  {
   "cell_type": "code",
   "execution_count": 11,
   "metadata": {},
   "outputs": [],
   "source": []
  },
  {
   "cell_type": "code",
   "execution_count": 12,
   "metadata": {},
   "outputs": [
    {
     "output_type": "execute_result",
     "data": {
      "text/plain": "                       Openb    Highb     Lowb   Closeb    Opena    Higha  \\\ndate                                                                        \n2020-07-14 13:25:00  1.13691  1.13691  1.13668  1.13674  1.13702  1.13702   \n2020-07-14 13:26:00  1.13674  1.13688  1.13665  1.13688  1.13686  1.13701   \n2020-07-14 13:27:00  1.13688  1.13691  1.13655  1.13679  1.13701  1.13702   \n2020-07-14 13:28:00  1.13679  1.13679  1.13648  1.13650  1.13690  1.13692   \n2020-07-14 13:29:00  1.13650  1.13671  1.13639  1.13658  1.13661  1.13683   \n2020-07-14 13:30:00  1.13658  1.13663  1.13626  1.13635  1.13671  1.13675   \n2020-07-14 13:31:00  1.13635  1.13662  1.13608  1.13662  1.13647  1.13674   \n2020-07-14 13:32:00  1.13662  1.13733  1.13662  1.13725  1.13674  1.13745   \n2020-07-14 13:33:00  1.13725  1.13752  1.13715  1.13730  1.13737  1.13763   \n2020-07-14 13:34:00  1.13730  1.13731  1.13703  1.13718  1.13742  1.13744   \n2020-07-14 13:35:00  1.13718  1.13731  1.13698  1.13714  1.13730  1.13741   \n2020-07-14 13:36:00  1.13714  1.13721  1.13699  1.13700  1.13725  1.13733   \n2020-07-14 13:37:00  1.13700  1.13711  1.13688  1.13697  1.13711  1.13723   \n2020-07-14 13:38:00  1.13697  1.13701  1.13670  1.13670  1.13710  1.13714   \n2020-07-14 13:39:00  1.13670  1.13720  1.13652  1.13720  1.13681  1.13731   \n2020-07-14 13:40:00  1.13720  1.13733  1.13702  1.13728  1.13731  1.13743   \n2020-07-14 13:41:00  1.13728  1.13772  1.13723  1.13751  1.13739  1.13782   \n2020-07-14 13:42:00  1.13751  1.13808  1.13749  1.13803  1.13764  1.13819   \n2020-07-14 13:43:00  1.13803  1.13843  1.13801  1.13843  1.13814  1.13854   \n2020-07-14 13:44:00  1.13843  1.13851  1.13826  1.13842  1.13853  1.13864   \n2020-07-14 13:45:00  1.13842  1.13893  1.13834  1.13876  1.13855  1.13905   \n2020-07-14 13:46:00  1.13876  1.13895  1.13854  1.13887  1.13888  1.13908   \n2020-07-14 13:47:00  1.13887  1.13891  1.13855  1.13855  1.13900  1.13903   \n2020-07-14 13:48:00  1.13855  1.13864  1.13830  1.13853  1.13866  1.13877   \n2020-07-14 13:49:00  1.13853  1.13872  1.13824  1.13835  1.13866  1.13885   \n2020-07-14 13:50:00  1.13835  1.13847  1.13796  1.13804  1.13843  1.13859   \n2020-07-14 13:51:00  1.13804  1.13833  1.13799  1.13812  1.13815  1.13844   \n2020-07-14 13:52:00  1.13812  1.13841  1.13801  1.13834  1.13826  1.13852   \n2020-07-14 13:53:00  1.13834  1.13841  1.13824  1.13833  1.13847  1.13851   \n2020-07-14 13:54:00  1.13833  1.13895  1.13827  1.13865  1.13843  1.13906   \n2020-07-14 13:55:00  1.13865  1.13891  1.13846  1.13889  1.13878  1.13903   \n2020-07-14 13:56:00  1.13889  1.13891  1.13848  1.13884  1.13901  1.13904   \n2020-07-14 13:57:00  1.13884  1.13887  1.13859  1.13883  1.13896  1.13898   \n2020-07-14 13:58:00  1.13883  1.13928  1.13879  1.13911  1.13894  1.13941   \n2020-07-14 13:59:00  1.13911  1.13911  1.13876  1.13895  1.13924  1.13924   \n2020-07-14 14:00:00  1.13895  1.13915  1.13890  1.13907  1.13906  1.13926   \n2020-07-14 14:01:00  1.13907  1.13923  1.13895  1.13906  1.13919  1.13934   \n2020-07-14 14:02:00  1.13906  1.13922  1.13901  1.13904  1.13917  1.13935   \n2020-07-14 14:03:00  1.13904  1.13927  1.13901  1.13903  1.13917  1.13939   \n2020-07-14 14:04:00  1.13903  1.13909  1.13888  1.13899  1.13915  1.13920   \n2020-07-14 14:05:00  1.13899  1.13954  1.13898  1.13947  1.13910  1.13967   \n2020-07-14 14:06:00  1.13947  1.13947  1.13910  1.13922  1.13958  1.13959   \n2020-07-14 14:07:00  1.13922  1.13930  1.13903  1.13905  1.13934  1.13941   \n2020-07-14 14:08:00  1.13905  1.13926  1.13900  1.13905  1.13915  1.13939   \n2020-07-14 14:09:00  1.13905  1.13905  1.13858  1.13860  1.13915  1.13916   \n2020-07-14 14:10:00  1.13860  1.13897  1.13853  1.13863  1.13870  1.13910   \n2020-07-14 14:11:00  1.13863  1.13881  1.13849  1.13860  1.13873  1.13893   \n2020-07-14 14:12:00  1.13860  1.13876  1.13844  1.13850  1.13872  1.13888   \n2020-07-14 14:13:00  1.13850  1.13904  1.13850  1.13890  1.13863  1.13914   \n2020-07-14 14:14:00  1.13890  1.13890  1.13868  1.13881  1.13901  1.13901   \n\n                        Lowa   Closea  \ndate                                   \n2020-07-14 13:25:00  1.13680  1.13686  \n2020-07-14 13:26:00  1.13677  1.13701  \n2020-07-14 13:27:00  1.13667  1.13690  \n2020-07-14 13:28:00  1.13660  1.13661  \n2020-07-14 13:29:00  1.13650  1.13671  \n2020-07-14 13:30:00  1.13638  1.13647  \n2020-07-14 13:31:00  1.13620  1.13674  \n2020-07-14 13:32:00  1.13674  1.13737  \n2020-07-14 13:33:00  1.13727  1.13742  \n2020-07-14 13:34:00  1.13715  1.13730  \n2020-07-14 13:35:00  1.13710  1.13725  \n2020-07-14 13:36:00  1.13710  1.13711  \n2020-07-14 13:37:00  1.13698  1.13710  \n2020-07-14 13:38:00  1.13681  1.13681  \n2020-07-14 13:39:00  1.13665  1.13731  \n2020-07-14 13:40:00  1.13714  1.13739  \n2020-07-14 13:41:00  1.13731  1.13764  \n2020-07-14 13:42:00  1.13761  1.13814  \n2020-07-14 13:43:00  1.13813  1.13853  \n2020-07-14 13:44:00  1.13837  1.13855  \n2020-07-14 13:45:00  1.13846  1.13888  \n2020-07-14 13:46:00  1.13866  1.13900  \n2020-07-14 13:47:00  1.13866  1.13866  \n2020-07-14 13:48:00  1.13840  1.13866  \n2020-07-14 13:49:00  1.13835  1.13843  \n2020-07-14 13:50:00  1.13808  1.13815  \n2020-07-14 13:51:00  1.13809  1.13826  \n2020-07-14 13:52:00  1.13814  1.13847  \n2020-07-14 13:53:00  1.13836  1.13843  \n2020-07-14 13:54:00  1.13837  1.13878  \n2020-07-14 13:55:00  1.13857  1.13901  \n2020-07-14 13:56:00  1.13861  1.13896  \n2020-07-14 13:57:00  1.13872  1.13894  \n2020-07-14 13:58:00  1.13891  1.13924  \n2020-07-14 13:59:00  1.13888  1.13906  \n2020-07-14 14:00:00  1.13900  1.13919  \n2020-07-14 14:01:00  1.13907  1.13917  \n2020-07-14 14:02:00  1.13912  1.13917  \n2020-07-14 14:03:00  1.13913  1.13915  \n2020-07-14 14:04:00  1.13900  1.13910  \n2020-07-14 14:05:00  1.13910  1.13958  \n2020-07-14 14:06:00  1.13922  1.13934  \n2020-07-14 14:07:00  1.13913  1.13915  \n2020-07-14 14:08:00  1.13910  1.13915  \n2020-07-14 14:09:00  1.13868  1.13870  \n2020-07-14 14:10:00  1.13864  1.13873  \n2020-07-14 14:11:00  1.13860  1.13872  \n2020-07-14 14:12:00  1.13857  1.13863  \n2020-07-14 14:13:00  1.13863  1.13901  \n2020-07-14 14:14:00  1.13880  1.13892  ",
      "text/html": "<div>\n<style scoped>\n    .dataframe tbody tr th:only-of-type {\n        vertical-align: middle;\n    }\n\n    .dataframe tbody tr th {\n        vertical-align: top;\n    }\n\n    .dataframe thead th {\n        text-align: right;\n    }\n</style>\n<table border=\"1\" class=\"dataframe\">\n  <thead>\n    <tr style=\"text-align: right;\">\n      <th></th>\n      <th>Openb</th>\n      <th>Highb</th>\n      <th>Lowb</th>\n      <th>Closeb</th>\n      <th>Opena</th>\n      <th>Higha</th>\n      <th>Lowa</th>\n      <th>Closea</th>\n    </tr>\n    <tr>\n      <th>date</th>\n      <th></th>\n      <th></th>\n      <th></th>\n      <th></th>\n      <th></th>\n      <th></th>\n      <th></th>\n      <th></th>\n    </tr>\n  </thead>\n  <tbody>\n    <tr>\n      <th>2020-07-14 13:25:00</th>\n      <td>1.13691</td>\n      <td>1.13691</td>\n      <td>1.13668</td>\n      <td>1.13674</td>\n      <td>1.13702</td>\n      <td>1.13702</td>\n      <td>1.13680</td>\n      <td>1.13686</td>\n    </tr>\n    <tr>\n      <th>2020-07-14 13:26:00</th>\n      <td>1.13674</td>\n      <td>1.13688</td>\n      <td>1.13665</td>\n      <td>1.13688</td>\n      <td>1.13686</td>\n      <td>1.13701</td>\n      <td>1.13677</td>\n      <td>1.13701</td>\n    </tr>\n    <tr>\n      <th>2020-07-14 13:27:00</th>\n      <td>1.13688</td>\n      <td>1.13691</td>\n      <td>1.13655</td>\n      <td>1.13679</td>\n      <td>1.13701</td>\n      <td>1.13702</td>\n      <td>1.13667</td>\n      <td>1.13690</td>\n    </tr>\n    <tr>\n      <th>2020-07-14 13:28:00</th>\n      <td>1.13679</td>\n      <td>1.13679</td>\n      <td>1.13648</td>\n      <td>1.13650</td>\n      <td>1.13690</td>\n      <td>1.13692</td>\n      <td>1.13660</td>\n      <td>1.13661</td>\n    </tr>\n    <tr>\n      <th>2020-07-14 13:29:00</th>\n      <td>1.13650</td>\n      <td>1.13671</td>\n      <td>1.13639</td>\n      <td>1.13658</td>\n      <td>1.13661</td>\n      <td>1.13683</td>\n      <td>1.13650</td>\n      <td>1.13671</td>\n    </tr>\n    <tr>\n      <th>2020-07-14 13:30:00</th>\n      <td>1.13658</td>\n      <td>1.13663</td>\n      <td>1.13626</td>\n      <td>1.13635</td>\n      <td>1.13671</td>\n      <td>1.13675</td>\n      <td>1.13638</td>\n      <td>1.13647</td>\n    </tr>\n    <tr>\n      <th>2020-07-14 13:31:00</th>\n      <td>1.13635</td>\n      <td>1.13662</td>\n      <td>1.13608</td>\n      <td>1.13662</td>\n      <td>1.13647</td>\n      <td>1.13674</td>\n      <td>1.13620</td>\n      <td>1.13674</td>\n    </tr>\n    <tr>\n      <th>2020-07-14 13:32:00</th>\n      <td>1.13662</td>\n      <td>1.13733</td>\n      <td>1.13662</td>\n      <td>1.13725</td>\n      <td>1.13674</td>\n      <td>1.13745</td>\n      <td>1.13674</td>\n      <td>1.13737</td>\n    </tr>\n    <tr>\n      <th>2020-07-14 13:33:00</th>\n      <td>1.13725</td>\n      <td>1.13752</td>\n      <td>1.13715</td>\n      <td>1.13730</td>\n      <td>1.13737</td>\n      <td>1.13763</td>\n      <td>1.13727</td>\n      <td>1.13742</td>\n    </tr>\n    <tr>\n      <th>2020-07-14 13:34:00</th>\n      <td>1.13730</td>\n      <td>1.13731</td>\n      <td>1.13703</td>\n      <td>1.13718</td>\n      <td>1.13742</td>\n      <td>1.13744</td>\n      <td>1.13715</td>\n      <td>1.13730</td>\n    </tr>\n    <tr>\n      <th>2020-07-14 13:35:00</th>\n      <td>1.13718</td>\n      <td>1.13731</td>\n      <td>1.13698</td>\n      <td>1.13714</td>\n      <td>1.13730</td>\n      <td>1.13741</td>\n      <td>1.13710</td>\n      <td>1.13725</td>\n    </tr>\n    <tr>\n      <th>2020-07-14 13:36:00</th>\n      <td>1.13714</td>\n      <td>1.13721</td>\n      <td>1.13699</td>\n      <td>1.13700</td>\n      <td>1.13725</td>\n      <td>1.13733</td>\n      <td>1.13710</td>\n      <td>1.13711</td>\n    </tr>\n    <tr>\n      <th>2020-07-14 13:37:00</th>\n      <td>1.13700</td>\n      <td>1.13711</td>\n      <td>1.13688</td>\n      <td>1.13697</td>\n      <td>1.13711</td>\n      <td>1.13723</td>\n      <td>1.13698</td>\n      <td>1.13710</td>\n    </tr>\n    <tr>\n      <th>2020-07-14 13:38:00</th>\n      <td>1.13697</td>\n      <td>1.13701</td>\n      <td>1.13670</td>\n      <td>1.13670</td>\n      <td>1.13710</td>\n      <td>1.13714</td>\n      <td>1.13681</td>\n      <td>1.13681</td>\n    </tr>\n    <tr>\n      <th>2020-07-14 13:39:00</th>\n      <td>1.13670</td>\n      <td>1.13720</td>\n      <td>1.13652</td>\n      <td>1.13720</td>\n      <td>1.13681</td>\n      <td>1.13731</td>\n      <td>1.13665</td>\n      <td>1.13731</td>\n    </tr>\n    <tr>\n      <th>2020-07-14 13:40:00</th>\n      <td>1.13720</td>\n      <td>1.13733</td>\n      <td>1.13702</td>\n      <td>1.13728</td>\n      <td>1.13731</td>\n      <td>1.13743</td>\n      <td>1.13714</td>\n      <td>1.13739</td>\n    </tr>\n    <tr>\n      <th>2020-07-14 13:41:00</th>\n      <td>1.13728</td>\n      <td>1.13772</td>\n      <td>1.13723</td>\n      <td>1.13751</td>\n      <td>1.13739</td>\n      <td>1.13782</td>\n      <td>1.13731</td>\n      <td>1.13764</td>\n    </tr>\n    <tr>\n      <th>2020-07-14 13:42:00</th>\n      <td>1.13751</td>\n      <td>1.13808</td>\n      <td>1.13749</td>\n      <td>1.13803</td>\n      <td>1.13764</td>\n      <td>1.13819</td>\n      <td>1.13761</td>\n      <td>1.13814</td>\n    </tr>\n    <tr>\n      <th>2020-07-14 13:43:00</th>\n      <td>1.13803</td>\n      <td>1.13843</td>\n      <td>1.13801</td>\n      <td>1.13843</td>\n      <td>1.13814</td>\n      <td>1.13854</td>\n      <td>1.13813</td>\n      <td>1.13853</td>\n    </tr>\n    <tr>\n      <th>2020-07-14 13:44:00</th>\n      <td>1.13843</td>\n      <td>1.13851</td>\n      <td>1.13826</td>\n      <td>1.13842</td>\n      <td>1.13853</td>\n      <td>1.13864</td>\n      <td>1.13837</td>\n      <td>1.13855</td>\n    </tr>\n    <tr>\n      <th>2020-07-14 13:45:00</th>\n      <td>1.13842</td>\n      <td>1.13893</td>\n      <td>1.13834</td>\n      <td>1.13876</td>\n      <td>1.13855</td>\n      <td>1.13905</td>\n      <td>1.13846</td>\n      <td>1.13888</td>\n    </tr>\n    <tr>\n      <th>2020-07-14 13:46:00</th>\n      <td>1.13876</td>\n      <td>1.13895</td>\n      <td>1.13854</td>\n      <td>1.13887</td>\n      <td>1.13888</td>\n      <td>1.13908</td>\n      <td>1.13866</td>\n      <td>1.13900</td>\n    </tr>\n    <tr>\n      <th>2020-07-14 13:47:00</th>\n      <td>1.13887</td>\n      <td>1.13891</td>\n      <td>1.13855</td>\n      <td>1.13855</td>\n      <td>1.13900</td>\n      <td>1.13903</td>\n      <td>1.13866</td>\n      <td>1.13866</td>\n    </tr>\n    <tr>\n      <th>2020-07-14 13:48:00</th>\n      <td>1.13855</td>\n      <td>1.13864</td>\n      <td>1.13830</td>\n      <td>1.13853</td>\n      <td>1.13866</td>\n      <td>1.13877</td>\n      <td>1.13840</td>\n      <td>1.13866</td>\n    </tr>\n    <tr>\n      <th>2020-07-14 13:49:00</th>\n      <td>1.13853</td>\n      <td>1.13872</td>\n      <td>1.13824</td>\n      <td>1.13835</td>\n      <td>1.13866</td>\n      <td>1.13885</td>\n      <td>1.13835</td>\n      <td>1.13843</td>\n    </tr>\n    <tr>\n      <th>2020-07-14 13:50:00</th>\n      <td>1.13835</td>\n      <td>1.13847</td>\n      <td>1.13796</td>\n      <td>1.13804</td>\n      <td>1.13843</td>\n      <td>1.13859</td>\n      <td>1.13808</td>\n      <td>1.13815</td>\n    </tr>\n    <tr>\n      <th>2020-07-14 13:51:00</th>\n      <td>1.13804</td>\n      <td>1.13833</td>\n      <td>1.13799</td>\n      <td>1.13812</td>\n      <td>1.13815</td>\n      <td>1.13844</td>\n      <td>1.13809</td>\n      <td>1.13826</td>\n    </tr>\n    <tr>\n      <th>2020-07-14 13:52:00</th>\n      <td>1.13812</td>\n      <td>1.13841</td>\n      <td>1.13801</td>\n      <td>1.13834</td>\n      <td>1.13826</td>\n      <td>1.13852</td>\n      <td>1.13814</td>\n      <td>1.13847</td>\n    </tr>\n    <tr>\n      <th>2020-07-14 13:53:00</th>\n      <td>1.13834</td>\n      <td>1.13841</td>\n      <td>1.13824</td>\n      <td>1.13833</td>\n      <td>1.13847</td>\n      <td>1.13851</td>\n      <td>1.13836</td>\n      <td>1.13843</td>\n    </tr>\n    <tr>\n      <th>2020-07-14 13:54:00</th>\n      <td>1.13833</td>\n      <td>1.13895</td>\n      <td>1.13827</td>\n      <td>1.13865</td>\n      <td>1.13843</td>\n      <td>1.13906</td>\n      <td>1.13837</td>\n      <td>1.13878</td>\n    </tr>\n    <tr>\n      <th>2020-07-14 13:55:00</th>\n      <td>1.13865</td>\n      <td>1.13891</td>\n      <td>1.13846</td>\n      <td>1.13889</td>\n      <td>1.13878</td>\n      <td>1.13903</td>\n      <td>1.13857</td>\n      <td>1.13901</td>\n    </tr>\n    <tr>\n      <th>2020-07-14 13:56:00</th>\n      <td>1.13889</td>\n      <td>1.13891</td>\n      <td>1.13848</td>\n      <td>1.13884</td>\n      <td>1.13901</td>\n      <td>1.13904</td>\n      <td>1.13861</td>\n      <td>1.13896</td>\n    </tr>\n    <tr>\n      <th>2020-07-14 13:57:00</th>\n      <td>1.13884</td>\n      <td>1.13887</td>\n      <td>1.13859</td>\n      <td>1.13883</td>\n      <td>1.13896</td>\n      <td>1.13898</td>\n      <td>1.13872</td>\n      <td>1.13894</td>\n    </tr>\n    <tr>\n      <th>2020-07-14 13:58:00</th>\n      <td>1.13883</td>\n      <td>1.13928</td>\n      <td>1.13879</td>\n      <td>1.13911</td>\n      <td>1.13894</td>\n      <td>1.13941</td>\n      <td>1.13891</td>\n      <td>1.13924</td>\n    </tr>\n    <tr>\n      <th>2020-07-14 13:59:00</th>\n      <td>1.13911</td>\n      <td>1.13911</td>\n      <td>1.13876</td>\n      <td>1.13895</td>\n      <td>1.13924</td>\n      <td>1.13924</td>\n      <td>1.13888</td>\n      <td>1.13906</td>\n    </tr>\n    <tr>\n      <th>2020-07-14 14:00:00</th>\n      <td>1.13895</td>\n      <td>1.13915</td>\n      <td>1.13890</td>\n      <td>1.13907</td>\n      <td>1.13906</td>\n      <td>1.13926</td>\n      <td>1.13900</td>\n      <td>1.13919</td>\n    </tr>\n    <tr>\n      <th>2020-07-14 14:01:00</th>\n      <td>1.13907</td>\n      <td>1.13923</td>\n      <td>1.13895</td>\n      <td>1.13906</td>\n      <td>1.13919</td>\n      <td>1.13934</td>\n      <td>1.13907</td>\n      <td>1.13917</td>\n    </tr>\n    <tr>\n      <th>2020-07-14 14:02:00</th>\n      <td>1.13906</td>\n      <td>1.13922</td>\n      <td>1.13901</td>\n      <td>1.13904</td>\n      <td>1.13917</td>\n      <td>1.13935</td>\n      <td>1.13912</td>\n      <td>1.13917</td>\n    </tr>\n    <tr>\n      <th>2020-07-14 14:03:00</th>\n      <td>1.13904</td>\n      <td>1.13927</td>\n      <td>1.13901</td>\n      <td>1.13903</td>\n      <td>1.13917</td>\n      <td>1.13939</td>\n      <td>1.13913</td>\n      <td>1.13915</td>\n    </tr>\n    <tr>\n      <th>2020-07-14 14:04:00</th>\n      <td>1.13903</td>\n      <td>1.13909</td>\n      <td>1.13888</td>\n      <td>1.13899</td>\n      <td>1.13915</td>\n      <td>1.13920</td>\n      <td>1.13900</td>\n      <td>1.13910</td>\n    </tr>\n    <tr>\n      <th>2020-07-14 14:05:00</th>\n      <td>1.13899</td>\n      <td>1.13954</td>\n      <td>1.13898</td>\n      <td>1.13947</td>\n      <td>1.13910</td>\n      <td>1.13967</td>\n      <td>1.13910</td>\n      <td>1.13958</td>\n    </tr>\n    <tr>\n      <th>2020-07-14 14:06:00</th>\n      <td>1.13947</td>\n      <td>1.13947</td>\n      <td>1.13910</td>\n      <td>1.13922</td>\n      <td>1.13958</td>\n      <td>1.13959</td>\n      <td>1.13922</td>\n      <td>1.13934</td>\n    </tr>\n    <tr>\n      <th>2020-07-14 14:07:00</th>\n      <td>1.13922</td>\n      <td>1.13930</td>\n      <td>1.13903</td>\n      <td>1.13905</td>\n      <td>1.13934</td>\n      <td>1.13941</td>\n      <td>1.13913</td>\n      <td>1.13915</td>\n    </tr>\n    <tr>\n      <th>2020-07-14 14:08:00</th>\n      <td>1.13905</td>\n      <td>1.13926</td>\n      <td>1.13900</td>\n      <td>1.13905</td>\n      <td>1.13915</td>\n      <td>1.13939</td>\n      <td>1.13910</td>\n      <td>1.13915</td>\n    </tr>\n    <tr>\n      <th>2020-07-14 14:09:00</th>\n      <td>1.13905</td>\n      <td>1.13905</td>\n      <td>1.13858</td>\n      <td>1.13860</td>\n      <td>1.13915</td>\n      <td>1.13916</td>\n      <td>1.13868</td>\n      <td>1.13870</td>\n    </tr>\n    <tr>\n      <th>2020-07-14 14:10:00</th>\n      <td>1.13860</td>\n      <td>1.13897</td>\n      <td>1.13853</td>\n      <td>1.13863</td>\n      <td>1.13870</td>\n      <td>1.13910</td>\n      <td>1.13864</td>\n      <td>1.13873</td>\n    </tr>\n    <tr>\n      <th>2020-07-14 14:11:00</th>\n      <td>1.13863</td>\n      <td>1.13881</td>\n      <td>1.13849</td>\n      <td>1.13860</td>\n      <td>1.13873</td>\n      <td>1.13893</td>\n      <td>1.13860</td>\n      <td>1.13872</td>\n    </tr>\n    <tr>\n      <th>2020-07-14 14:12:00</th>\n      <td>1.13860</td>\n      <td>1.13876</td>\n      <td>1.13844</td>\n      <td>1.13850</td>\n      <td>1.13872</td>\n      <td>1.13888</td>\n      <td>1.13857</td>\n      <td>1.13863</td>\n    </tr>\n    <tr>\n      <th>2020-07-14 14:13:00</th>\n      <td>1.13850</td>\n      <td>1.13904</td>\n      <td>1.13850</td>\n      <td>1.13890</td>\n      <td>1.13863</td>\n      <td>1.13914</td>\n      <td>1.13863</td>\n      <td>1.13901</td>\n    </tr>\n    <tr>\n      <th>2020-07-14 14:14:00</th>\n      <td>1.13890</td>\n      <td>1.13890</td>\n      <td>1.13868</td>\n      <td>1.13881</td>\n      <td>1.13901</td>\n      <td>1.13901</td>\n      <td>1.13880</td>\n      <td>1.13892</td>\n    </tr>\n  </tbody>\n</table>\n</div>"
     },
     "metadata": {},
     "execution_count": 12
    }
   ],
   "source": [
    "df"
   ]
  },
  {
   "cell_type": "code",
   "execution_count": null,
   "metadata": {},
   "outputs": [],
   "source": []
  },
  {
   "cell_type": "code",
   "execution_count": null,
   "metadata": {},
   "outputs": [],
   "source": []
  },
  {
   "cell_type": "code",
   "execution_count": null,
   "metadata": {},
   "outputs": [],
   "source": []
  }
 ],
 "metadata": {
  "file_extension": ".py",
  "kernelspec": {
   "display_name": "Python 3",
   "language": "python",
   "name": "python3"
  },
  "language_info": {
   "codemirror_mode": {
    "name": "ipython",
    "version": 3
   },
   "file_extension": ".py",
   "mimetype": "text/x-python",
   "name": "python",
   "nbconvert_exporter": "python",
   "pygments_lexer": "ipython3",
   "version": "3.7.6"
  },
  "mimetype": "text/x-python",
  "name": "python",
  "npconvert_exporter": "python",
  "pygments_lexer": "ipython3",
  "version": 3
 },
 "nbformat": 4,
 "nbformat_minor": 4
}