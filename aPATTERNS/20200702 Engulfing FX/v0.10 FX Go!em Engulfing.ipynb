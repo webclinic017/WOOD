{
 "cells": [
  {
   "cell_type": "code",
   "execution_count": 2,
   "metadata": {},
   "outputs": [],
   "source": [
    "def clearall():\n",
    "    all = [var for var in globals() if var[0] != \"_\"]\n",
    "    for var in all:\n",
    "        del globals()[var]\n",
    "clearall()"
   ]
  },
  {
   "cell_type": "code",
   "execution_count": 3,
   "metadata": {
    "tags": []
   },
   "outputs": [
    {
     "output_type": "stream",
     "name": "stdout",
     "text": "Importing Librairies...\nLibrairies imported\n\nversion fxcmpy : 1.2.6\nPrêt\n"
    }
   ],
   "source": [
    "############################\n",
    "######## LIBRAIRIES ########\n",
    "############################\n",
    "print('Importing Librairies...')\n",
    "from sklearn.linear_model import LinearRegression\n",
    "from colorama import Fore, Back, Style\n",
    "import pandas as pd\n",
    "import matplotlib.pyplot as plt\n",
    "import matplotlib.dates as mdates\n",
    "import seaborn as sns\n",
    "import time\n",
    "import os\n",
    "import datetime as dt\n",
    "import numpy as np\n",
    "import fxcmpy\n",
    "import socketio\n",
    "import shelve\n",
    "import talib\n",
    "import pyttsx3\n",
    "engine = pyttsx3.init()\n",
    "\n",
    "print('Librairies imported\\n')\n",
    "print('version fxcmpy :',fxcmpy.__version__)\n",
    "%matplotlib inline\n",
    "plt.style.use('seaborn')\n",
    "engine.say(\"librairie loaded\")\n",
    "engine.runAndWait()\n",
    "print('Prêt')"
   ]
  },
  {
   "cell_type": "code",
   "execution_count": null,
   "metadata": {},
   "outputs": [],
   "source": []
  },
  {
   "cell_type": "code",
   "execution_count": 4,
   "metadata": {
    "tags": []
   },
   "outputs": [
    {
     "output_type": "stream",
     "name": "stdout",
     "text": "Variables initialisées\n"
    }
   ],
   "source": [
    "engine.say(\"Ignition du Lumberjack\")\n",
    "engine.runAndWait() \n",
    "\n",
    "##############################################\n",
    "######## INITIALISATION DES VARIABLES ########\n",
    "##############################################\n",
    "\n",
    "\n",
    "# COMPTE TEST #\n",
    "\n",
    "TOKEN = '039add1dbe2b344ed08c518a98c7a1796f7a33c2'\n",
    "server = 'demo'\n",
    "user_id = 'D261219574'\n",
    "compte = '01215057'\n",
    "password = '3555'\n",
    "\n",
    "\n",
    "'''\n",
    "# COMPTE DEV #\n",
    "TOKEN = '79f83cbff13d296eb6d9b6c1ed6dccd768ef925a'\n",
    "server = 'demo'\n",
    "user_id = 'D261219577'\n",
    "compte = '01215060'\n",
    "password = '3877'\n",
    "'''\n",
    "\n",
    "\n",
    "'''\n",
    "# COMPTE POUBELLE #\n",
    "TOKEN = 'a66bf5c0ec732487f4b348baf6364d3ee8784935'\n",
    "server = 'demo'\n",
    "user_id = 'D261219576'\n",
    "compte = '01215059'\n",
    "password = '8029'\n",
    "'''\n",
    "\n",
    "\n",
    "# minutes: 'm1' , 'm5' , 'm15' , 'm30' \n",
    "# hours: 'H1' , 'H2', 'H3', 'H4', 'H6' 'H8'\n",
    "# one day: 'D1'\n",
    "# one week: 'W1'\n",
    "# one month: 'M1'\n",
    "\n",
    "\n",
    "_number = 17\n",
    "_period = 'm5'\n",
    "\n",
    "df = pd.DataFrame()\n",
    "\n",
    "engine.say(\"בסדר\")\n",
    "engine.runAndWait()\n",
    "print('Variables initialisées')"
   ]
  },
  {
   "cell_type": "code",
   "execution_count": null,
   "metadata": {},
   "outputs": [],
   "source": []
  },
  {
   "cell_type": "code",
   "execution_count": 5,
   "metadata": {
    "tags": []
   },
   "outputs": [
    {
     "output_type": "stream",
     "name": "stdout",
     "text": "Functions initiated\n"
    }
   ],
   "source": [
    "\n",
    "############################\n",
    "######## FONCTIONS ########\n",
    "###########################\n",
    "\n",
    "\n",
    "def conX():\n",
    "    con = fxcmpy.fxcmpy(access_token=TOKEN, log_level='error',server=server)\n",
    "    if con.is_connected() == True:\n",
    "        print(Fore.GREEN+'Connexion établie'+Style.RESET_ALL)\n",
    "        print('Compte utilisé : ',con.get_account_ids())\n",
    "    else:\n",
    "        print(Fore.RED+'Connexion non établie'+Style.RESET_ALL)\n",
    "    return(con)\n",
    "\n",
    "def deconX():\n",
    "    con = con.close()\n",
    "    if con.is_connected() == True:\n",
    "        print(Fore.GREEN+'Connexion non intérrompue'+Style.RESET_ALL)\n",
    "        print('Compte utilisé : ',con.get_account_ids())\n",
    "    else:\n",
    "        print(Fore.RED+'Connexion intérrompue'+Style.RESET_ALL)\n",
    "    return()\n",
    "\n",
    "\n",
    "def scrap_hist(_ticker,_number=21):\n",
    "    data = con.get_candles(_ticker,period=_period,number=_number)\n",
    "    df = pd.DataFrame(index=data.index)\n",
    "    df['Open'] = (data['bidopen']+data['askopen'])/2\n",
    "    df['High'] = (data['bidhigh']+data['askhigh'])/2\n",
    "    df['Low'] = (data['bidlow']+data['asklow'])/2\n",
    "    df['Close'] = (data['bidclose']+data['askclose'])/2\n",
    "    return(df)\n",
    "\n",
    "def scrap_close(_ticker,_number = 21):\n",
    "    print('Scraping des données pour le ticker',_ticker)\n",
    "    data = con.get_candles(_ticker,period=_period,number=_number)\n",
    "    df = pd.DataFrame(index=data.index)\n",
    "    df['Close'] = (data['bidclose']+data['askclose'])/2\n",
    "    return(df)\n",
    "\n",
    "engine.say(\"functions initiated\")\n",
    "engine.runAndWait()\n",
    "print('Functions initiated')"
   ]
  },
  {
   "cell_type": "code",
   "execution_count": null,
   "metadata": {},
   "outputs": [],
   "source": []
  },
  {
   "cell_type": "code",
   "execution_count": 6,
   "metadata": {
    "tags": []
   },
   "outputs": [
    {
     "output_type": "stream",
     "name": "stdout",
     "text": "Global Optimized LumberJack Environment Motor for FOR_EX\nLumberJack Jyss 5780(c)\n\u001b[34m °0Oo_D.A.G._26_oO0°\n\u001b[33m \u001b[44m --- Go!em ForeX #v0.44 --- \u001b[0m\n\n\u001b[32mConnexion établie\u001b[0m\nCompte utilisé :  [1215057]\n\u001b[32mConnexion établie\u001b[0m\nCompte utilisé :  [1215057]\n"
    }
   ],
   "source": [
    "#########################\n",
    "### CONNEXION A L'API ###\n",
    "#########################\n",
    "\n",
    "___Author___='LumberJack Jyss'\n",
    "print('Global Optimized LumberJack Environment Motor for FOR_EX\\nLumberJack Jyss 5780(c)')\n",
    "print(Fore.BLUE,'°0Oo_D.A.G._26_oO0°')\n",
    "print(Fore.YELLOW,Back.BLUE,'--- Go!em ForeX #v0.44 ---',Style.RESET_ALL)\n",
    "\n",
    "print('')\n",
    "engine.say(\" Initialisation du Gaulem faurex\")\n",
    "engine.say(\"Connexion du Gaulem hà la Péh e\")\n",
    "engine.runAndWait()\n",
    "\n",
    "try:\n",
    "    con.is_connected() == True\n",
    "    \n",
    "    engine.say(\"already Connected\")\n",
    "    engine.runAndWait()\n",
    "    print(Fore.GREEN+'Connexion rétablie'+Style.RESET_ALL)\n",
    "    print('Compte utilisé : ',con.get_account_ids())\n",
    "    print('')\n",
    "    \n",
    "except:\n",
    "    try:\n",
    "        con = conX()\n",
    "        con.is_connected() == True\n",
    "        print(Fore.GREEN+'Connexion établie'+Style.RESET_ALL)\n",
    "        print('Compte utilisé : ',con.get_account_ids())\n",
    "        engine.say(\"Connected\")\n",
    "        engine.runAndWait()\n",
    "    except:\n",
    "        print(Fore.RED+'Connexion non établie'+Style.RESET_ALL)\n",
    "        engine.say(\"Not Connected, sal rass de mor, pitun cé la merd\")\n",
    "        engine.say(\"vérifi ton internet, é relance le gaulèm\")\n",
    "        engine.runAndWait()\n",
    "        print('')\n",
    "        #os._exit(0)\n",
    "        con = deconX()\n",
    "        time.sleep(1)\n",
    "        con = conX()"
   ]
  },
  {
   "cell_type": "code",
   "execution_count": 7,
   "metadata": {},
   "outputs": [],
   "source": [
    "INSTRUMENTS = con.get_instruments()"
   ]
  },
  {
   "cell_type": "code",
   "execution_count": 19,
   "metadata": {
    "tags": []
   },
   "outputs": [
    {
     "output_type": "stream",
     "name": "stdout",
     "text": "\u001b[33m ============================= L O O P      1  =========================== \u001b[0m\n\u001b[34m ________________________________________________________________ \u001b[0m\n"
    },
    {
     "output_type": "error",
     "ename": "ValueError",
     "evalue": "The truth value of a Series is ambiguous. Use a.empty, a.bool(), a.item(), a.any() or a.all().",
     "traceback": [
      "\u001b[0;31m---------------------------------------------------------------------------\u001b[0m",
      "\u001b[0;31mValueError\u001b[0m                                Traceback (most recent call last)",
      "\u001b[0;32m<timed exec>\u001b[0m in \u001b[0;36m<module>\u001b[0;34m\u001b[0m\n",
      "\u001b[0;32m/opt/anaconda3/envs/FinTech/lib/python3.7/site-packages/pandas/core/generic.py\u001b[0m in \u001b[0;36m__nonzero__\u001b[0;34m(self)\u001b[0m\n\u001b[1;32m   1477\u001b[0m     \u001b[0;32mdef\u001b[0m \u001b[0m__nonzero__\u001b[0m\u001b[0;34m(\u001b[0m\u001b[0mself\u001b[0m\u001b[0;34m)\u001b[0m\u001b[0;34m:\u001b[0m\u001b[0;34m\u001b[0m\u001b[0;34m\u001b[0m\u001b[0m\n\u001b[1;32m   1478\u001b[0m         raise ValueError(\n\u001b[0;32m-> 1479\u001b[0;31m             \u001b[0;34mf\"The truth value of a {type(self).__name__} is ambiguous. \"\u001b[0m\u001b[0;34m\u001b[0m\u001b[0;34m\u001b[0m\u001b[0m\n\u001b[0m\u001b[1;32m   1480\u001b[0m             \u001b[0;34m\"Use a.empty, a.bool(), a.item(), a.any() or a.all().\"\u001b[0m\u001b[0;34m\u001b[0m\u001b[0;34m\u001b[0m\u001b[0m\n\u001b[1;32m   1481\u001b[0m         )\n",
      "\u001b[0;31mValueError\u001b[0m: The truth value of a Series is ambiguous. Use a.empty, a.bool(), a.item(), a.any() or a.all()."
     ]
    }
   ],
   "source": [
    "%%time\n",
    "_compteur = 0\n",
    "for i in range(720000000):\n",
    "    _compteur += 1\n",
    "    print(Fore.YELLOW,'============================= L O O P     ', _compteur,' ===========================',Style.RESET_ALL)\n",
    "    for _ticker in INSTRUMENTS:\n",
    "        print(Fore.BLUE,'________________________________________________________________',Style.RESET_ALL)\n",
    "\n",
    "        #_ticker = INSTRUMENTS[2]\n",
    "        try:\n",
    "            df = scrap_hist(_ticker)\n",
    "        except:\n",
    "            print(Fore.MAGENTA,'Problème avec le ticker',_ticker,'en loop',_compteur)\n",
    "            continue\n",
    "        df['RSI'] = talib.RSI(df.Close,14)\n",
    "        df['ATR'] = talib.ATR(np.asarray(df.High), np.asarray(df.Low), np.asarray(df.Close))\n",
    "        df['Engulfing'] = talib.CDLENGULFING(df.Open, df.High, df.Low, df.Close)\n",
    "        df = df.iloc[-3:,:]\n",
    "\n",
    "    \n",
    "        if df.Engulfing[-1] == 1:\n",
    "\n",
    "            print('Bim on achète')\n",
    "            engine.say(\"bim, sa mer, we fucking buy\")\n",
    "            engine.runAndWait()\n",
    "\n",
    "            order= con.open_trade(symbol=_ticker, is_buy=True, is_in_pips=True, amount=30, time_in_force='FOK',\\\n",
    "                                    order_type='AtMarket', limit=10, stop=-30, trailing_step=1)\n",
    "            \n",
    "        elif df.Engulfing[-1] == -1:\n",
    "\n",
    "            order= con.open_trade(symbol=_ticker, is_buy=False, is_in_pips=True, amount=30, time_in_force='FOK',\\\n",
    "                                    order_type='AtMarket', limit=10, stop=-30, trailing_step=1)\n",
    "            print('Bim on vend')\n",
    "            engine.say(\"bim, sa mer, we fucking sell\")\n",
    "            engine.runAndWait()\n",
    "\n",
    "\n",
    "        else:\n",
    "            print(Fore.RED,_ticker,'Pas ok',Style.RESET_ALL)\n",
    "        \n",
    "        print('________________________________________________________________')\n",
    "    print('Veille')\n",
    "    time.sleep(270)"
   ]
  },
  {
   "cell_type": "code",
   "execution_count": 16,
   "metadata": {},
   "outputs": [],
   "source": [
    " try:\n",
    "    df = scrap_hist(_ticker,10000)\n",
    "except:\n",
    "    print(Fore.MAGENTA,'Problème avec le ticker',_ticker,'en loop',_compteur)\n",
    "df['RSI'] = talib.RSI(df.Close,14)\n",
    "df['ATR'] = talib.ATR(np.asarray(df.High), np.asarray(df.Low), np.asarray(df.Close))\n",
    "df['Engulfing'] = talib.CDLENGULFING(df.Open, df.High, df.Low, df.Close)"
   ]
  },
  {
   "cell_type": "code",
   "execution_count": 18,
   "metadata": {
    "tags": []
   },
   "outputs": [
    {
     "output_type": "execute_result",
     "data": {
      "text/plain": "                       Open    High     Low   Close        RSI       ATR  \\\ndate                                                                       \n2020-05-19 04:15:00  5.8490  5.8495  5.8475  5.8480        NaN       NaN   \n2020-05-19 04:20:00  5.8480  5.8485  5.8470  5.8480        NaN       NaN   \n2020-05-19 04:25:00  5.8480  5.8475  5.8460  5.8465        NaN       NaN   \n2020-05-19 04:30:00  5.8465  5.8475  5.8460  5.8465        NaN       NaN   \n2020-05-19 04:35:00  5.8465  5.8485  5.8465  5.8480        NaN       NaN   \n...                     ...     ...     ...     ...        ...       ...   \n2020-07-06 14:25:00  6.3310  6.3310  6.3220  6.3255  49.164294  0.007928   \n2020-07-06 14:30:00  6.3255  6.3280  6.3215  6.3275  51.210836  0.007826   \n2020-07-06 14:35:00  6.3275  6.3295  6.3245  6.3290  52.747307  0.007624   \n2020-07-06 14:40:00  6.3290  6.3335  6.3285  6.3320  55.748822  0.007437   \n2020-07-06 14:45:00  6.3320  6.3415  6.3310  6.3405  62.933091  0.007656   \n\n                     Engulfing  \ndate                            \n2020-05-19 04:15:00          0  \n2020-05-19 04:20:00          0  \n2020-05-19 04:25:00          0  \n2020-05-19 04:30:00          0  \n2020-05-19 04:35:00          0  \n...                        ...  \n2020-07-06 14:25:00          0  \n2020-07-06 14:30:00          0  \n2020-07-06 14:35:00          0  \n2020-07-06 14:40:00          0  \n2020-07-06 14:45:00          0  \n\n[10000 rows x 7 columns]",
      "text/html": "<div>\n<style scoped>\n    .dataframe tbody tr th:only-of-type {\n        vertical-align: middle;\n    }\n\n    .dataframe tbody tr th {\n        vertical-align: top;\n    }\n\n    .dataframe thead th {\n        text-align: right;\n    }\n</style>\n<table border=\"1\" class=\"dataframe\">\n  <thead>\n    <tr style=\"text-align: right;\">\n      <th></th>\n      <th>Open</th>\n      <th>High</th>\n      <th>Low</th>\n      <th>Close</th>\n      <th>RSI</th>\n      <th>ATR</th>\n      <th>Engulfing</th>\n    </tr>\n    <tr>\n      <th>date</th>\n      <th></th>\n      <th></th>\n      <th></th>\n      <th></th>\n      <th></th>\n      <th></th>\n      <th></th>\n    </tr>\n  </thead>\n  <tbody>\n    <tr>\n      <th>2020-05-19 04:15:00</th>\n      <td>5.8490</td>\n      <td>5.8495</td>\n      <td>5.8475</td>\n      <td>5.8480</td>\n      <td>NaN</td>\n      <td>NaN</td>\n      <td>0</td>\n    </tr>\n    <tr>\n      <th>2020-05-19 04:20:00</th>\n      <td>5.8480</td>\n      <td>5.8485</td>\n      <td>5.8470</td>\n      <td>5.8480</td>\n      <td>NaN</td>\n      <td>NaN</td>\n      <td>0</td>\n    </tr>\n    <tr>\n      <th>2020-05-19 04:25:00</th>\n      <td>5.8480</td>\n      <td>5.8475</td>\n      <td>5.8460</td>\n      <td>5.8465</td>\n      <td>NaN</td>\n      <td>NaN</td>\n      <td>0</td>\n    </tr>\n    <tr>\n      <th>2020-05-19 04:30:00</th>\n      <td>5.8465</td>\n      <td>5.8475</td>\n      <td>5.8460</td>\n      <td>5.8465</td>\n      <td>NaN</td>\n      <td>NaN</td>\n      <td>0</td>\n    </tr>\n    <tr>\n      <th>2020-05-19 04:35:00</th>\n      <td>5.8465</td>\n      <td>5.8485</td>\n      <td>5.8465</td>\n      <td>5.8480</td>\n      <td>NaN</td>\n      <td>NaN</td>\n      <td>0</td>\n    </tr>\n    <tr>\n      <th>...</th>\n      <td>...</td>\n      <td>...</td>\n      <td>...</td>\n      <td>...</td>\n      <td>...</td>\n      <td>...</td>\n      <td>...</td>\n    </tr>\n    <tr>\n      <th>2020-07-06 14:25:00</th>\n      <td>6.3310</td>\n      <td>6.3310</td>\n      <td>6.3220</td>\n      <td>6.3255</td>\n      <td>49.164294</td>\n      <td>0.007928</td>\n      <td>0</td>\n    </tr>\n    <tr>\n      <th>2020-07-06 14:30:00</th>\n      <td>6.3255</td>\n      <td>6.3280</td>\n      <td>6.3215</td>\n      <td>6.3275</td>\n      <td>51.210836</td>\n      <td>0.007826</td>\n      <td>0</td>\n    </tr>\n    <tr>\n      <th>2020-07-06 14:35:00</th>\n      <td>6.3275</td>\n      <td>6.3295</td>\n      <td>6.3245</td>\n      <td>6.3290</td>\n      <td>52.747307</td>\n      <td>0.007624</td>\n      <td>0</td>\n    </tr>\n    <tr>\n      <th>2020-07-06 14:40:00</th>\n      <td>6.3290</td>\n      <td>6.3335</td>\n      <td>6.3285</td>\n      <td>6.3320</td>\n      <td>55.748822</td>\n      <td>0.007437</td>\n      <td>0</td>\n    </tr>\n    <tr>\n      <th>2020-07-06 14:45:00</th>\n      <td>6.3320</td>\n      <td>6.3415</td>\n      <td>6.3310</td>\n      <td>6.3405</td>\n      <td>62.933091</td>\n      <td>0.007656</td>\n      <td>0</td>\n    </tr>\n  </tbody>\n</table>\n<p>10000 rows × 7 columns</p>\n</div>"
     },
     "metadata": {},
     "execution_count": 18
    }
   ],
   "source": [
    "df"
   ]
  },
  {
   "cell_type": "code",
   "execution_count": null,
   "metadata": {},
   "outputs": [],
   "source": []
  }
 ],
 "metadata": {
  "file_extension": ".py",
  "kernelspec": {
   "display_name": "Python 3",
   "language": "python",
   "name": "python3"
  },
  "language_info": {
   "codemirror_mode": {
    "name": "ipython",
    "version": 3
   },
   "file_extension": ".py",
   "mimetype": "text/x-python",
   "name": "python",
   "nbconvert_exporter": "python",
   "pygments_lexer": "ipython3",
   "version": "3.7.6"
  },
  "mimetype": "text/x-python",
  "name": "python",
  "npconvert_exporter": "python",
  "pygments_lexer": "ipython3",
  "version": 3
 },
 "nbformat": 4,
 "nbformat_minor": 4
}