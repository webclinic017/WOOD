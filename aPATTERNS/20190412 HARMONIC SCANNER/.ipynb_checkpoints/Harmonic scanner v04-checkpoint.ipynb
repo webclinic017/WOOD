{
 "cells": [
  {
   "cell_type": "code",
   "execution_count": 20,
   "metadata": {},
   "outputs": [],
   "source": [
    "import matplotlib\n",
    "import matplotlib.pyplot as plt\n",
    "import matplotlib.ticker as mticker\n",
    "import matplotlib.dates as mdates\n",
    "import numpy as np\n",
    "import pandas as pd\n",
    "from numpy import loadtxt\n",
    "from functools import reduce\n",
    "import time\n",
    "from scipy.signal import argrelextrema\n",
    "from ipywidgets import *\n",
    "from Harmonic_functions import *\n",
    "#from Harmonic_functions import *\n",
    "%matplotlib inline"
   ]
  },
  {
   "cell_type": "code",
   "execution_count": 21,
   "metadata": {},
   "outputs": [
    {
     "data": {
      "text/html": [
       "<div>\n",
       "<style scoped>\n",
       "    .dataframe tbody tr th:only-of-type {\n",
       "        vertical-align: middle;\n",
       "    }\n",
       "\n",
       "    .dataframe tbody tr th {\n",
       "        vertical-align: top;\n",
       "    }\n",
       "\n",
       "    .dataframe thead tr th {\n",
       "        text-align: left;\n",
       "    }\n",
       "</style>\n",
       "<table border=\"1\" class=\"dataframe\">\n",
       "  <thead>\n",
       "    <tr>\n",
       "      <th></th>\n",
       "      <th>Date</th>\n",
       "      <th>Open</th>\n",
       "      <th>High</th>\n",
       "      <th>Low</th>\n",
       "      <th>Close</th>\n",
       "      <th>Vol</th>\n",
       "    </tr>\n",
       "  </thead>\n",
       "  <tbody>\n",
       "    <tr>\n",
       "      <th>0</th>\n",
       "      <td>01.04.2004 00:00:00.000 GMT+0200</td>\n",
       "      <td>0.76641</td>\n",
       "      <td>0.76710</td>\n",
       "      <td>0.76488</td>\n",
       "      <td>0.76535</td>\n",
       "      <td>62950.6680</td>\n",
       "    </tr>\n",
       "    <tr>\n",
       "      <th>1</th>\n",
       "      <td>01.04.2004 01:00:00.000 GMT+0200</td>\n",
       "      <td>0.76529</td>\n",
       "      <td>0.76595</td>\n",
       "      <td>0.76420</td>\n",
       "      <td>0.76563</td>\n",
       "      <td>111419.3047</td>\n",
       "    </tr>\n",
       "    <tr>\n",
       "      <th>2</th>\n",
       "      <td>01.04.2004 02:00:00.000 GMT+0200</td>\n",
       "      <td>0.76531</td>\n",
       "      <td>0.76559</td>\n",
       "      <td>0.76369</td>\n",
       "      <td>0.76419</td>\n",
       "      <td>55551.5820</td>\n",
       "    </tr>\n",
       "    <tr>\n",
       "      <th>3</th>\n",
       "      <td>01.04.2004 03:00:00.000 GMT+0200</td>\n",
       "      <td>0.76410</td>\n",
       "      <td>0.76448</td>\n",
       "      <td>0.76240</td>\n",
       "      <td>0.76273</td>\n",
       "      <td>53136.6680</td>\n",
       "    </tr>\n",
       "    <tr>\n",
       "      <th>4</th>\n",
       "      <td>01.04.2004 04:00:00.000 GMT+0200</td>\n",
       "      <td>0.76273</td>\n",
       "      <td>0.76334</td>\n",
       "      <td>0.76102</td>\n",
       "      <td>0.76153</td>\n",
       "      <td>78062.3906</td>\n",
       "    </tr>\n",
       "  </tbody>\n",
       "</table>\n",
       "</div>"
      ],
      "text/plain": [
       "                               Date     Open     High      Low    Close  \\\n",
       "0  01.04.2004 00:00:00.000 GMT+0200  0.76641  0.76710  0.76488  0.76535   \n",
       "1  01.04.2004 01:00:00.000 GMT+0200  0.76529  0.76595  0.76420  0.76563   \n",
       "2  01.04.2004 02:00:00.000 GMT+0200  0.76531  0.76559  0.76369  0.76419   \n",
       "3  01.04.2004 03:00:00.000 GMT+0200  0.76410  0.76448  0.76240  0.76273   \n",
       "4  01.04.2004 04:00:00.000 GMT+0200  0.76273  0.76334  0.76102  0.76153   \n",
       "\n",
       "           Vol  \n",
       "0   62950.6680  \n",
       "1  111419.3047  \n",
       "2   55551.5820  \n",
       "3   53136.6680  \n",
       "4   78062.3906  "
      ]
     },
     "execution_count": 21,
     "metadata": {},
     "output_type": "execute_result"
    }
   ],
   "source": [
    "data = pd.read_csv('AUDUSD_Candlestick_1_h_ASK_01.04.2004-13.04.2019.csv')\n",
    "data.columns = [['Date','Open','High','Low','Close','Vol']]\n",
    "data.head()"
   ]
  },
  {
   "cell_type": "code",
   "execution_count": 22,
   "metadata": {},
   "outputs": [
    {
     "data": {
      "text/plain": [
       "\"\\nfor i in range(len(data)-1):\\n    if data.loc[i,'Vol'].any() == 0 :\\n        data.drop([i])\\ndata.head()\\n\""
      ]
     },
     "execution_count": 22,
     "metadata": {},
     "output_type": "execute_result"
    }
   ],
   "source": [
    "\n",
    "\n",
    "#datanew = data.drop(data[(data['Vol']==0)].index)\n",
    "'''\n",
    "for i in range(len(data)-1):\n",
    "    if data.loc[i,'Vol'].any() == 0 :\n",
    "        data.drop([i])\n",
    "data.head()\n",
    "'''"
   ]
  },
  {
   "cell_type": "code",
   "execution_count": 23,
   "metadata": {},
   "outputs": [],
   "source": [
    "#find extrema\n",
    "\n",
    "err_allowed = 5/100\n",
    "pips = np.array([0.0,0.0,0.0,0.0,0.0,0.0,0.0,0.0,0.0,0.0,0.0,0.0,0.0,0.0,0.0])\n",
    "plt.ion()\n",
    "price = data.Close.copy()\n",
    "\n",
    "\n"
   ]
  },
  {
   "cell_type": "code",
   "execution_count": 24,
   "metadata": {},
   "outputs": [
    {
     "name": "stdout",
     "output_type": "stream",
     "text": [
      "bearishbutterlyfound\n",
      "276\n",
      "Close    0.76558\n",
      "Name: 276, dtype: float64\n",
      "bearishbutterlyfound\n",
      "282\n",
      "Close    0.76753\n",
      "Name: 282, dtype: float64\n",
      "Close    100268.0\n",
      "dtype: float64\n"
     ]
    }
   ],
   "source": [
    "position = 0\n",
    "equity = 100000\n",
    "nbtransactions = 0\n",
    "backtest_graph = pd.DataFrame()\n",
    "col_equity = [100000]\n",
    "col_open_pos = [0]\n",
    "col_close_pos = [0]\n",
    "col_is_win = [0]\n",
    "col_profit = [0]\n",
    "col_cours = [0]\n",
    "max_gross = (0,0)\n",
    "max_loss = (0,0)\n",
    "size = 100000\n",
    "target = 0.0030\n",
    "sl = -0.0015\n",
    "\n",
    "for i in range(100,500):\n",
    "               #len(price)):\n",
    "    \n",
    "    current_idx,current_pat,start,end = peak_detect(price.values[:i])\n",
    "    \n",
    "    \n",
    "      \n",
    "    \n",
    "    XA = current_pat[1] - current_pat[0]\n",
    "    AB = current_pat[2] - current_pat[1]\n",
    "    BC = current_pat[3] - current_pat[2]\n",
    "    CD = current_pat[4] - current_pat[3]\n",
    "\n",
    "    moves=[XA,AB,BC,CD]\n",
    "\n",
    "    gartley = is_gartley(moves,err_allowed)\n",
    "    butterfly = is_butterfly(moves,err_allowed)\n",
    "    crab = is_crab(moves,err_allowed)\n",
    "    bat = is_bat(moves,err_allowed)\n",
    "    \n",
    "    harmonics = np.array([gartley,butterfly,bat,crab])\n",
    "    labels = ['gartley','butterly','bat','crab']\n",
    "    \n",
    "    if position == 0:\n",
    "    \n",
    "        if np.any(harmonics==1) or np.any(harmonics==-1 ):\n",
    "        \n",
    "            for j in range(0, len(harmonics)):\n",
    "              \n",
    "                if harmonics[j]==1 or harmonics[j]==-1:\n",
    "                    sense ='bearish' if harmonics[j]==-1 else 'bullish'\n",
    "                    label =  sense + labels[j] +'found'\n",
    "                    print(label)\n",
    "                    print(i)\n",
    "                    \n",
    "                    if harmonics[j]==-1:\n",
    "                            position = -1\n",
    "                            col_open_pos.append(1)\n",
    "                            nbtransactions+=1\n",
    "                            price_sell = price.loc[i]\n",
    "                            print(price_sell)\n",
    "                    elif harmonics[j]==1:\n",
    "                            position = 1\n",
    "                            col_open_pos.append(1)\n",
    "                            nbtransactions+=1\n",
    "                            price_buy = price.loc[i]\n",
    "                            \n",
    "        else :\n",
    "            pass\n",
    "    \n",
    "    elif position == 1:\n",
    "        \n",
    "        if (price.iloc(i) - price_buy) >= target:\n",
    "                position = 0\n",
    "                equity = equity + (price.iloc[i] - price_buy)*size\n",
    "                col_equity.append(equity)\n",
    "        elif (price.iloc(i) - price_buy) <= sl:\n",
    "                position = 0\n",
    "                equity = equity + (price.iloc[i] - price_buy)*size\n",
    "                col_equity.append(equity)\n",
    "                \n",
    "    elif position == -1:\n",
    "            #price_sell\n",
    "            #price.iloc[276]\n",
    "            #price.iloc[277]\n",
    "            #print(price_sell)\n",
    "            #print(price.iloc[277])\n",
    "            #print(price.iloc[277] - price_sell)\n",
    "        \n",
    "            if (float(price.iloc[i]) - float(price_sell)) <= -target:\n",
    "                position = 0\n",
    "                equity = equity - (price.iloc[i] - price_sell)*size\n",
    "                col_equity.append(equity)\n",
    "                print(equity)\n",
    "            elif (float(price.iloc[i]) - float(price_sell)) >= -sl:\n",
    "                position = 0\n",
    "                equity = equity - (price.iloc[i,] - price_sell)*size\n",
    "                col_equity.append(equity)\n",
    "         "
   ]
  },
  {
   "cell_type": "code",
   "execution_count": 25,
   "metadata": {},
   "outputs": [
    {
     "name": "stdout",
     "output_type": "stream",
     "text": [
      "\n",
      "\u001b[95m \u001b[1m Les gains faramineux s'élèvent à : $ Close    268.0\n",
      "dtype: float64 !. En  2  transactions.\n"
     ]
    }
   ],
   "source": [
    "print(\"\\n\\033[95m \\033[1m Les gains faramineux s'élèvent à : $\",equity-100000,'!. En ',nbtransactions,' transactions.' )        \n",
    "                \n",
    "                \n",
    "                #plt.title(label)\n",
    "                  #plt.figure(figsize=(16,6))\n",
    "                #plt.plot(np.arange(start,i+15),price.values[start:i+15])\n",
    "                #plt.plot(current_idx,current_pat)\n",
    "                #plt.show()"
   ]
  },
  {
   "cell_type": "code",
   "execution_count": 28,
   "metadata": {},
   "outputs": [
    {
     "data": {
      "text/plain": [
       "[100000, Close    99828.0\n",
       " dtype: float64, Close    100268.0\n",
       " dtype: float64]"
      ]
     },
     "execution_count": 28,
     "metadata": {},
     "output_type": "execute_result"
    }
   ],
   "source": [
    "col_equity"
   ]
  },
  {
   "cell_type": "code",
   "execution_count": 30,
   "metadata": {},
   "outputs": [
    {
     "data": {
      "text/plain": [
       "pandas.core.series.Series"
      ]
     },
     "execution_count": 30,
     "metadata": {},
     "output_type": "execute_result"
    }
   ],
   "source": [
    "backtest_graph['equity'] = col_equity\n",
    "type(backtest_graph['equity'])"
   ]
  },
  {
   "cell_type": "code",
   "execution_count": 37,
   "metadata": {},
   "outputs": [
    {
     "data": {
      "text/plain": [
       "[<matplotlib.lines.Line2D at 0x10b2c3240>]"
      ]
     },
     "execution_count": 37,
     "metadata": {},
     "output_type": "execute_result"
    },
    {
     "data": {
      "image/png": "[encoded data removed]",
      "text/plain": [
       "<Figure size 1152x432 with 1 Axes>"
      ]
     },
     "metadata": {
      "needs_background": "light"
     },
     "output_type": "display_data"
    }
   ],
   "source": [
    "plt.figure(figsize=(16,6))\n",
    "\n",
    "plt.plot(backtest_graph['equity'].values)"
   ]
  },
  {
   "cell_type": "code",
   "execution_count": null,
   "metadata": {},
   "outputs": [],
   "source": [
    "\n",
    "\n",
    "\n",
    "\n",
    "                  ''' \n",
    "                  if harmonics[j]==1:\n",
    "                    \n",
    "                    pips += 1000*(price[end+1:end+16] - price[end])\n",
    "                    \n",
    "                  elif harmonics[j]==-1:\n",
    "                    \n",
    "                    pips += 1000*(price[end] - price[end+1:end+16])\n",
    "                    \n",
    "                  plt.clf()\n",
    "                  plt.bar(np.arange(1,16),pips)\n",
    "                  plt.pause(0.05)\n",
    "                  '''\n",
    "              \n"
   ]
  },
  {
   "cell_type": "code",
   "execution_count": null,
   "metadata": {},
   "outputs": [],
   "source": [
    "         \n",
    "   # if crab ==1:\n",
    "       # plt.figure(figsize=(16,6))\n",
    "       # plt.plot(np.arange(start,i+15),price.values[start:i+15])\n",
    "       # plt.plot(current_idx,current_pat,\"ro\")\n",
    "        #plt.show()\n",
    "    \n",
    "    \n",
    "    "
   ]
  },
  {
   "cell_type": "code",
   "execution_count": null,
   "metadata": {},
   "outputs": [],
   "source": [
    "#df = pd.read_csv('c:/Users/Stephane/OneDrive/CSS/Deep learning/database/EURUSD_1mn.csv', parse_dates={'Date'}, index_col='Date', names=['Tid', 'Dealable', 'Pair', 'DateTime', 'Buy', 'Sell'], date_parser=parse)\n",
    "\n",
    "# let's erase the columns we don't need\n",
    "#del df['Tid'] \n",
    "\"del df['Dealable']\n",
    "#del df['Pair']\n",
    "\n",
    "# group every 15 minutes and create an OHLC bar\n",
    "#grouped_data = df.resample('15Min', how='ohlc')"
   ]
  },
  {
   "cell_type": "code",
   "execution_count": null,
   "metadata": {},
   "outputs": [],
   "source": []
  },
  {
   "cell_type": "code",
   "execution_count": null,
   "metadata": {},
   "outputs": [],
   "source": []
  },
  {
   "cell_type": "code",
   "execution_count": null,
   "metadata": {},
   "outputs": [],
   "source": []
  },
  {
   "cell_type": "code",
   "execution_count": null,
   "metadata": {},
   "outputs": [],
   "source": []
  }
 ],
 "metadata": {
  "kernelspec": {
   "display_name": "Python 3",
   "language": "python",
   "name": "python3"
  },
  "language_info": {
   "codemirror_mode": {
    "name": "ipython",
    "version": 3
   },
   "file_extension": ".py",
   "mimetype": "text/x-python",
   "name": "python",
   "nbconvert_exporter": "python",
   "pygments_lexer": "ipython3",
   "version": "3.6.8"
  }
 },
 "nbformat": 4,
 "nbformat_minor": 2
}
