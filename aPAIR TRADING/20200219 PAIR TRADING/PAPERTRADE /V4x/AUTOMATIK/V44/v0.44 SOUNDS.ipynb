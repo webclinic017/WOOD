{
 "cells": [
  {
   "cell_type": "code",
   "execution_count": 1,
   "metadata": {},
   "outputs": [],
   "source": [
    "import pyttsx3\n",
    "engine = pyttsx3.init()\n"
   ]
  },
  {
   "cell_type": "code",
   "execution_count": 2,
   "metadata": {},
   "outputs": [],
   "source": [
    "engine.save_to_file(\"librairie loaded\",'lib_loaded.mp3')\n",
    "engine.runAndWait()"
   ]
  },
  {
   "cell_type": "code",
   "execution_count": 3,
   "metadata": {},
   "outputs": [],
   "source": [
    "engine.save_to_file(\"Ignition du Lumberjack\",'ignition.mp3')\n",
    "engine.runAndWait() "
   ]
  },
  {
   "cell_type": "code",
   "execution_count": 4,
   "metadata": {},
   "outputs": [],
   "source": [
    "engine.save_to_file(\"בסדר\",'bsd.mp3')\n",
    "engine.runAndWait()\n"
   ]
  },
  {
   "cell_type": "code",
   "execution_count": 6,
   "metadata": {},
   "outputs": [],
   "source": [
    "engine.save_to_file(\"בול! מצוין! הודו להשם כי טוב!\",'boul.mp3')\n",
    "engine.runAndWait()"
   ]
  },
  {
   "cell_type": "code",
   "execution_count": 3,
   "metadata": {},
   "outputs": [],
   "source": [
    "engine.save_to_file(\"לא טוב\",'lo_tov.mp3')\n",
    "engine.save_to_file(\"עוד פעם\",'odpaam.mp3')\n",
    "#engine.runAndWait()\n",
    "\n",
    "\n",
    "engine.save_to_file(\"bim!, on shoot short, ta vu?, wesh?, gé pri tro la confianse\",'open_short.mp3')\n",
    "#engine.runAndWait()\n",
    "\n",
    "\n",
    "engine.save_to_file(\"bim!, on koope natural close, ta vu?, wesh?, I need money\",'nat_close.mp3')\n",
    "#engine.runAndWait()\n",
    "\n",
    "\n",
    "engine.save_to_file(\"bim!, on koope take profit, ta vu?, wesh?, I need money\",'tp_close.mp3')\n",
    "#engine.runAndWait()\n",
    "\n",
    "\n",
    "engine.save_to_file(\"bim!,bordel, on koope stop loss, ta vu?, wesh?, cé la graus merd\",'sl_close.mp3')\n",
    "#engine.runAndWait()\n",
    "\n",
    "\n",
    "engine.save_to_file(\"bim!, on shoot long, ta vu?, wesh?, gé pri tro la confianse\",'open_long.mp3')\n",
    "#engine.runAndWait()\n",
    "\n",
    "engine.save_to_file(\" ! קדימה! מתחיל scan חדשה\",'scan.mp3')\n",
    "#engine.runAndWait()\n",
    "\n",
    "engine.save_to_file(\"allai, sé terminai, scan fini, sé leur de saurtir tapèr deu kooi, sel de franpri, sa va partir\",'fin_scan1.mp3')\n",
    "engine.save_to_file(\"sinan?, anyway, sa té férai mal ala gueul de dir, mersi ma bel?, I am sensible, bordel de merd\",'fin_scan2.mp3')\n",
    "#engine.runAndWait()\n",
    "\n",
    "engine.save_to_file(\"bordel de merd, ya riun\",'yarien.mp3')\n",
    "#engine.runAndWait()\n",
    "\n",
    "engine.save_to_file(\"ניגמ אר הסיפור\",'nigmar.mp3')\n",
    "#engine.runAndWait()\n",
    "\n",
    "\n",
    "\n",
    "\n",
    "engine.save_to_file(\"functions initiated\",'func_init.mp3')\n",
    "engine.runAndWait()\n"
   ]
  },
  {
   "cell_type": "code",
   "execution_count": null,
   "metadata": {},
   "outputs": [],
   "source": []
  },
  {
   "cell_type": "code",
   "execution_count": 6,
   "metadata": {},
   "outputs": [],
   "source": [
    "\n",
    "engine.save_to_file(\" Initialisation du Gaulem faurex\",'init_forex.mp3')\n",
    "engine.save_to_file(\"Connexion du Gaulem hà la Péh e\",'conx_api.mp3')\n",
    "\n",
    "\n",
    "\n",
    "engine.save_to_file(\"already Connected\",'alr_connected.mp3')\n",
    "\n",
    "engine.save_to_file(\"Connected\",'connected.mp3')\n",
    "\n",
    "engine.save_to_file(\"Not Connected, sal rass de mor, pitun cé la merd\",'not_connected1.mp3')\n",
    "engine.save_to_file(\"vérifi ton internet, é relance le gaulèm\",'not_connected2.mp3')\n",
    "\n",
    "engine.save_to_file(\"ep grade dé daunai\",'uograde.mp3')\n",
    "\n",
    "engine.save_to_file(\"שמירת הלשון?\",'chmirat.mp3')\n",
    "engine.save_to_file(\"ranafoot\",'ra_treuf.mp3')\n",
    "engine.save_to_file(\"avec Jyss, sa glis\",'jyss.mp3')\n",
    "\n",
    "engine.save_to_file(\"pitun cé la merd, el munk dé  pat, tutai neekai \",'mank_patt.mp3')\n",
    "\n",
    "engine.runAndWait()\n",
    "\n",
    "\n"
   ]
  },
  {
   "cell_type": "code",
   "execution_count": 2,
   "metadata": {},
   "outputs": [],
   "source": [
    "engine.save_to_file(\"failed, sa mer, la pitit put de salaup an slip ble, devan le prizunic\",'failed1.wave')\n",
    "engine.save_to_file(\"שמירת הלשון?\",'failed2.wave')\n",
    "engine.save_to_file(\"ranafoot, I tell wahat I want, tu konpran sa??\",'failed3.wave')\n",
    "engine.save_to_file(\"aipu e, detlai manier, manfu, avec Jyss, sa glis\",'failed4.wave')\n",
    "engine.runAndWait()"
   ]
  },
  {
   "cell_type": "code",
   "execution_count": 4,
   "metadata": {},
   "outputs": [],
   "source": [
    "import pygame\n",
    "try:\n",
    "    son = pygame.mixer.Sound(\".mp3\")\n",
    "    son.play()\n",
    "except:\n",
    "    pass"
   ]
  },
  {
   "cell_type": "code",
   "execution_count": 38,
   "metadata": {},
   "outputs": [
    {
     "output_type": "execute_result",
     "data": {
      "text/plain": "0"
     },
     "metadata": {},
     "execution_count": 38
    }
   ],
   "source": []
  },
  {
   "cell_type": "code",
   "execution_count": null,
   "metadata": {},
   "outputs": [],
   "source": []
  }
 ],
 "metadata": {
  "file_extension": ".py",
  "kernelspec": {
   "display_name": "Python 3.7.6 64-bit ('FinTech': conda)",
   "language": "python",
   "name": "python37664bitfintechcondac76ab263fd6941b2a7e8b27983583628"
  },
  "language_info": {
   "codemirror_mode": {
    "name": "ipython",
    "version": 3
   },
   "file_extension": ".py",
   "mimetype": "text/x-python",
   "name": "python",
   "nbconvert_exporter": "python",
   "pygments_lexer": "ipython3",
   "version": "3.7.6-final"
  },
  "mimetype": "text/x-python",
  "name": "python",
  "npconvert_exporter": "python",
  "pygments_lexer": "ipython3",
  "version": 3
 },
 "nbformat": 4,
 "nbformat_minor": 4
}