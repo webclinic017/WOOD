{
 "cells": [
  {
   "cell_type": "code",
   "execution_count": 1,
   "metadata": {},
   "outputs": [],
   "source": [
    "def clearall():\n",
    "    all = [var for var in globals() if var[0] != \"_\"]\n",
    "    for var in all:\n",
    "        del globals()[var]\n",
    "clearall()"
   ]
  },
  {
   "cell_type": "code",
   "execution_count": 2,
   "metadata": {
    "tags": []
   },
   "outputs": [
    {
     "output_type": "stream",
     "name": "stdout",
     "text": "Importing Librairies...\nLibrairies imported\n\nversion fxcmpy : 1.2.6\nPrêt\n"
    }
   ],
   "source": [
    "############################\n",
    "######## LIBRAIRIES ########\n",
    "############################\n",
    "print('Importing Librairies...')\n",
    "from colorama import Fore, Back, Style\n",
    "import matplotlib.pyplot as plt\n",
    "import matplotlib.dates as mdates\n",
    "import seaborn as sns\n",
    "import time\n",
    "import os\n",
    "import datetime as dt\n",
    "import fxcmpy\n",
    "import itertools\n",
    "import shelve\n",
    "#from twilio.rest import Client\n",
    "import pyttsx3\n",
    "engine = pyttsx3.init()\n",
    "#import pygame\n",
    "#pygame.init()\n",
    "\n",
    "print('Librairies imported\\n')\n",
    "print('version fxcmpy :',fxcmpy.__version__)\n",
    "%matplotlib inline\n",
    "plt.style.use('seaborn')\n",
    "try:\n",
    "    son = pygame.mixer.Sound(\"lib_loaded.mp3\")\n",
    "    son.play()\n",
    "except:\n",
    "    engine.say(\"librairie loaded\")\n",
    "engine.runAndWait()\n",
    "#ignore by message\n",
    "import warnings\n",
    "warnings.filterwarnings(\"ignore\", message=\"A value is trying to be set on a copy of a slice from a DataFrame.\")\n",
    "warnings.filterwarnings(\"ignore\", message=\"Try using .loc[row_indexer,col_indexer] = value instead\")\n",
    "warnings.filterwarnings(\"ignore\", message=\"The inverse of the variance-covariance matrix was calculated using the Moore-Penrose generalized matrix inversion, due to its determinant being at or very close to zero.\")\n",
    "warnings.filterwarnings(\"ignore\", message=\"The inverse of the variance-covariance matrix \")\n",
    "print('Prêt')"
   ]
  },
  {
   "cell_type": "code",
   "execution_count": null,
   "metadata": {},
   "outputs": [],
   "source": []
  },
  {
   "cell_type": "code",
   "execution_count": 3,
   "metadata": {},
   "outputs": [],
   "source": [
    "try:\n",
    "    son = pygame.mixer.Sound(\"ignition.mp3\")\n",
    "    son.play()\n",
    "except:\n",
    "    engine.say(\"Ignition du Lumberjack\")\n",
    "    engine.runAndWait() \n",
    "\n",
    "##############################################\n",
    "######## INITIALISATION DES VARIABLES ########\n",
    "##############################################\n",
    "\n",
    "\n",
    "\n",
    "# COMPTE LIVE #\n",
    "TOKEN = '9ad2de336ef53d49590aa800cdb16818858781c5'\n",
    "server = 'real'\n",
    "\n",
    "user_id = 'D261219576'\n",
    "compte = '01215059'\n",
    "password = '8029'\n",
    "\n",
    "'''\n",
    "# COMPTE DEV #\n",
    "TOKEN = '79f83cbff13d296eb6d9b6c1ed6dccd768ef925a'\n",
    "server = 'demo'\n",
    "user_id = 'D261219577'\n",
    "compte = '01215060'\n",
    "password = '3877'\n",
    "'''\n",
    "\n",
    "engine.say(\"בסדר\")\n",
    "engine.runAndWait()\n"
   ]
  },
  {
   "cell_type": "code",
   "execution_count": 4,
   "metadata": {
    "tags": []
   },
   "outputs": [
    {
     "output_type": "stream",
     "name": "stdout",
     "text": "Functions initiated\n"
    }
   ],
   "source": [
    "\n",
    "############################\n",
    "######## FONCTIONS ########\n",
    "###########################\n",
    "\n",
    "\n",
    "def conX():\n",
    "    con = fxcmpy.fxcmpy(access_token=TOKEN, log_level='error',server=server)\n",
    "    if con.is_connected() == True:\n",
    "        print(Fore.GREEN+'Connexion établie'+Style.RESET_ALL)\n",
    "        print('Compte utilisé : ',con.get_account_ids())\n",
    "    else:\n",
    "        print(Fore.RED+'Connexion non établie'+Style.RESET_ALL)\n",
    "    return(con)\n",
    "\n",
    "def deconX():\n",
    "    con = con.close()\n",
    "    if con.is_connected() == True:\n",
    "        print(Fore.GREEN+'Connexion non intérrompue'+Style.RESET_ALL)\n",
    "        print('Compte utilisé : ',con.get_account_ids())\n",
    "    else:\n",
    "        print(Fore.RED+'Connexion intérrompue'+Style.RESET_ALL)\n",
    "    return()\n",
    "\n",
    "engine.say(\"functions initiated\")\n",
    "engine.runAndWait()\n",
    "print('Functions initiated')"
   ]
  },
  {
   "cell_type": "code",
   "execution_count": null,
   "metadata": {},
   "outputs": [],
   "source": []
  },
  {
   "cell_type": "code",
   "execution_count": 5,
   "metadata": {
    "tags": []
   },
   "outputs": [
    {
     "output_type": "stream",
     "name": "stdout",
     "text": "Global Optimized LumberJack Environment Motor for FOR_EX\nLumberJack Jyss 5780(c)\n\u001b[34m °0Oo_D.A.G._26_oO0°\n\u001b[33m \u001b[44m --- Go!em ForeX #v0.44 --- \u001b[0m\n\n\u001b[32mConnexion établie\u001b[0m\nCompte utilisé :  [20263190]\n\u001b[32mConnexion établie\u001b[0m\nCompte utilisé :  [20263190]\n"
    }
   ],
   "source": [
    "#########################\n",
    "### CONNEXION A L'API ###\n",
    "#########################\n",
    "\n",
    "___Author___='LumberJack Jyss'\n",
    "print('Global Optimized LumberJack Environment Motor for FOR_EX\\nLumberJack Jyss 5780(c)')\n",
    "print(Fore.BLUE,'°0Oo_D.A.G._26_oO0°')\n",
    "print(Fore.YELLOW,Back.BLUE,'--- Go!em ForeX #v0.44 ---',Style.RESET_ALL)\n",
    "\n",
    "\n",
    "print('')\n",
    "\n",
    "engine.say(\" Initialisation du check Gaulem faurex\")\n",
    "engine.say(\"Connexion du Gaulem hà la Péh e\")\n",
    "engine.runAndWait()\n",
    "\n",
    "try:\n",
    "    con.is_connected() == True\n",
    "    \n",
    "    engine.say(\"already Connected\")\n",
    "    engine.runAndWait()\n",
    "    print(Fore.GREEN+'Connexion rétablie'+Style.RESET_ALL)\n",
    "    print('Compte utilisé : ',con.get_account_ids())\n",
    "    print('')\n",
    "    \n",
    "except:\n",
    "    try:\n",
    "        con = conX()\n",
    "        con.is_connected() == True\n",
    "        print(Fore.GREEN+'Connexion établie'+Style.RESET_ALL)\n",
    "        print('Compte utilisé : ',con.get_account_ids())\n",
    "        engine.say(\"Connected, check papa\")\n",
    "        engine.runAndWait()\n",
    "    except:\n",
    "        print(Fore.RED+'Connexion non établie'+Style.RESET_ALL)\n",
    "        \n",
    "        engine.say(\"Not Connected, sal rass de mor, pitun cé la merd\")\n",
    "        engine.say(\"vérifi ton internet, é relance le gaulèm\")\n",
    "        engine.runAndWait()\n",
    "        print('')\n",
    "        #os._exit(0)\n",
    "        con = deconX()\n",
    "        time.sleep(1)\n",
    "        con = conX()\n",
    "\n",
    "\n",
    "\n"
   ]
  },
  {
   "cell_type": "code",
   "execution_count": 6,
   "metadata": {
    "tags": []
   },
   "outputs": [
    {
     "output_type": "execute_result",
     "data": {
      "text/plain": "                                  0               1               2  \\\nt                                 1               1               1   \nratePrecision                     5               5               5   \ntradeId                   106923946       106923944       106923943   \naccountName              2620263190      2620263190      2620263190   \naccountId                  20263190        20263190        20263190   \nroll                              0               0               0   \ncom                               0               0               0   \nopen                        0.69889         9.28635         0.65483   \nvalueDate                                                             \ngrossPL                    -7.24945         12.5752        -0.89306   \nclose                       0.69866         9.28332         0.65466   \nvisiblePL                      -2.3            30.3            -1.7   \nisDisabled                    False           False           False   \ncurrency                    AUD/USD         USD/NOK         NZD/USD   \nisBuy                          True           False            True   \namountK                          36              44               6   \ncurrencyPoint               3.15194         0.41502         0.52533   \ntime                 07172020095105  07172020095104  07172020095103   \nusedMargin                      630            1100             105   \nOpenOrderRequestTXT            None            None            None   \nstop                              0               0               0   \nstopMove                          0               0               0   \nlimit                             0               0               0   \n\n                                  3  \nt                                 1  \nratePrecision                     5  \ntradeId                   106923942  \naccountName              2620263190  \naccountId                  20263190  \nroll                              0  \ncom                               0  \nopen                         9.0551  \nvalueDate                            \ngrossPL                    -114.802  \nclose                       9.04221  \nvisiblePL                    -128.9  \nisDisabled                    False  \ncurrency                    USD/SEK  \nisBuy                          True  \namountK                          92  \ncurrencyPoint               0.89063  \ntime                 07172020095102  \nusedMargin                     2300  \nOpenOrderRequestTXT            None  \nstop                              0  \nstopMove                          0  \nlimit                             0  ",
      "text/html": "<div>\n<style scoped>\n    .dataframe tbody tr th:only-of-type {\n        vertical-align: middle;\n    }\n\n    .dataframe tbody tr th {\n        vertical-align: top;\n    }\n\n    .dataframe thead th {\n        text-align: right;\n    }\n</style>\n<table border=\"1\" class=\"dataframe\">\n  <thead>\n    <tr style=\"text-align: right;\">\n      <th></th>\n      <th>0</th>\n      <th>1</th>\n      <th>2</th>\n      <th>3</th>\n    </tr>\n  </thead>\n  <tbody>\n    <tr>\n      <th>t</th>\n      <td>1</td>\n      <td>1</td>\n      <td>1</td>\n      <td>1</td>\n    </tr>\n    <tr>\n      <th>ratePrecision</th>\n      <td>5</td>\n      <td>5</td>\n      <td>5</td>\n      <td>5</td>\n    </tr>\n    <tr>\n      <th>tradeId</th>\n      <td>106923946</td>\n      <td>106923944</td>\n      <td>106923943</td>\n      <td>106923942</td>\n    </tr>\n    <tr>\n      <th>accountName</th>\n      <td>2620263190</td>\n      <td>2620263190</td>\n      <td>2620263190</td>\n      <td>2620263190</td>\n    </tr>\n    <tr>\n      <th>accountId</th>\n      <td>20263190</td>\n      <td>20263190</td>\n      <td>20263190</td>\n      <td>20263190</td>\n    </tr>\n    <tr>\n      <th>roll</th>\n      <td>0</td>\n      <td>0</td>\n      <td>0</td>\n      <td>0</td>\n    </tr>\n    <tr>\n      <th>com</th>\n      <td>0</td>\n      <td>0</td>\n      <td>0</td>\n      <td>0</td>\n    </tr>\n    <tr>\n      <th>open</th>\n      <td>0.69889</td>\n      <td>9.28635</td>\n      <td>0.65483</td>\n      <td>9.0551</td>\n    </tr>\n    <tr>\n      <th>valueDate</th>\n      <td></td>\n      <td></td>\n      <td></td>\n      <td></td>\n    </tr>\n    <tr>\n      <th>grossPL</th>\n      <td>-7.24945</td>\n      <td>12.5752</td>\n      <td>-0.89306</td>\n      <td>-114.802</td>\n    </tr>\n    <tr>\n      <th>close</th>\n      <td>0.69866</td>\n      <td>9.28332</td>\n      <td>0.65466</td>\n      <td>9.04221</td>\n    </tr>\n    <tr>\n      <th>visiblePL</th>\n      <td>-2.3</td>\n      <td>30.3</td>\n      <td>-1.7</td>\n      <td>-128.9</td>\n    </tr>\n    <tr>\n      <th>isDisabled</th>\n      <td>False</td>\n      <td>False</td>\n      <td>False</td>\n      <td>False</td>\n    </tr>\n    <tr>\n      <th>currency</th>\n      <td>AUD/USD</td>\n      <td>USD/NOK</td>\n      <td>NZD/USD</td>\n      <td>USD/SEK</td>\n    </tr>\n    <tr>\n      <th>isBuy</th>\n      <td>True</td>\n      <td>False</td>\n      <td>True</td>\n      <td>True</td>\n    </tr>\n    <tr>\n      <th>amountK</th>\n      <td>36</td>\n      <td>44</td>\n      <td>6</td>\n      <td>92</td>\n    </tr>\n    <tr>\n      <th>currencyPoint</th>\n      <td>3.15194</td>\n      <td>0.41502</td>\n      <td>0.52533</td>\n      <td>0.89063</td>\n    </tr>\n    <tr>\n      <th>time</th>\n      <td>07172020095105</td>\n      <td>07172020095104</td>\n      <td>07172020095103</td>\n      <td>07172020095102</td>\n    </tr>\n    <tr>\n      <th>usedMargin</th>\n      <td>630</td>\n      <td>1100</td>\n      <td>105</td>\n      <td>2300</td>\n    </tr>\n    <tr>\n      <th>OpenOrderRequestTXT</th>\n      <td>None</td>\n      <td>None</td>\n      <td>None</td>\n      <td>None</td>\n    </tr>\n    <tr>\n      <th>stop</th>\n      <td>0</td>\n      <td>0</td>\n      <td>0</td>\n      <td>0</td>\n    </tr>\n    <tr>\n      <th>stopMove</th>\n      <td>0</td>\n      <td>0</td>\n      <td>0</td>\n      <td>0</td>\n    </tr>\n    <tr>\n      <th>limit</th>\n      <td>0</td>\n      <td>0</td>\n      <td>0</td>\n      <td>0</td>\n    </tr>\n  </tbody>\n</table>\n</div>"
     },
     "metadata": {},
     "execution_count": 6
    }
   ],
   "source": [
    "con.get_open_positions().T"
   ]
  },
  {
   "cell_type": "code",
   "execution_count": 7,
   "metadata": {},
   "outputs": [],
   "source": [
    "OPEN_POZ = ['106923946',\t'106923944',\t'106923943',\t'106923942']\n",
    "_tp = 50\n",
    "_sl = -300"
   ]
  },
  {
   "cell_type": "code",
   "execution_count": 34,
   "metadata": {
    "tags": []
   },
   "outputs": [
    {
     "output_type": "stream",
     "name": "stdout",
     "text": "Balance :  41667.76\nEquity :  41622.46812\nMarge disponible ; 80.13099 %\n\n \u001b[31mDynamic NET PNL : -74.19 € --- \u001b[0m"
    }
   ],
   "source": [
    "balance = con.get_accounts().balance\n",
    "balance = balance[0]\n",
    "equity = con.get_accounts().equity\n",
    "equity = equity[0]\n",
    "resum = con.get_open_positions()\n",
    "usable_margin = con.get_accounts_summary().usableMargin3Perc[0]\n",
    "pnl = 0\n",
    "print('Balance : ',balance)\n",
    "\n",
    "print('Equity : ',equity)\n",
    "\n",
    "print('Marge disponible ;',usable_margin,'%')\n",
    "print('')\n",
    "\n",
    "OPEN_POZ = list(set(OPEN_POZ))\n",
    "\n",
    "if len(resum) == 0:\n",
    "    print('\\nPas de position actuellement en cours. Vous pouvez procéder à la suite\\n')\n",
    "    print(Fore.BLUE,'\\nTimeframe :',period,' et nombre de pattes ',nb_pattes,'\\n',Style.RESET_ALL)\n",
    "    \n",
    "    time.sleep(120)\n",
    "\n",
    "else:\n",
    "    for loop in range(72000):\n",
    "        \n",
    "        for x in OPEN_POZ:\n",
    "            pnl += con.get_open_position(str(x)).get_grossPL()\n",
    "        if pnl >=0:\n",
    "            print('\\r',Fore.GREEN+'Dynamic NET PNL :',round(pnl,2),'€ --- ',Style.RESET_ALL,end='',flush=True)\n",
    "        elif (pnl < 0) :\n",
    "            print('\\r',Fore.RED+'Dynamic NET PNL :',round(pnl,2),'€ ---',Style.RESET_ALL,end='',flush=True)\n",
    "        \n",
    "        \n",
    "        if pnl >= _tp or pnl < _sl:\n",
    "            for x in OPEN_POZ:\n",
    "                con.get_open_position(str(x)).close()\n",
    "\n",
    "        pnl = 0\n",
    "        \n",
    "        time.sleep(1)\n",
    "\n",
    "\n",
    "\n",
    "\n",
    "\n",
    "\n",
    "\n",
    "\n",
    "\n",
    "\n",
    "\n",
    "\n",
    "\n",
    "\n",
    "\n",
    "\n",
    "\n",
    "\n",
    "\n",
    "\n",
    "\n",
    "\n",
    "\n",
    "\n"
   ]
  },
  {
   "cell_type": "code",
   "execution_count": null,
   "metadata": {},
   "outputs": [],
   "source": [
    "## PANIC MODE"
   ]
  },
  {
   "cell_type": "markdown",
   "metadata": {},
   "source": [
    "for x in OPEN_POZ:\n",
    "    con.get_open_position(str(x)).close()"
   ]
  },
  {
   "cell_type": "code",
   "execution_count": 33,
   "metadata": {},
   "outputs": [],
   "source": [
    "#########################\n",
    "####### OPERATIVE #######\n",
    "#########################\n",
    "OPEN_POZ = []\n",
    "TICKERS = []\n",
    "pair0 = 0\n",
    "pair1 = 0\n",
    "pair2 = 0\n",
    "pair3 = 0\n",
    "pair4 = 0\n",
    "\n",
    "nb_pattes = int(input('Combien de pattes?'))\n",
    "\n",
    "for x in range(nb_pattes):\n",
    "    globals()['pair%s' %str(x)] = input('Entrez la pair')\n",
    "    TICKERS.append(globals()['pair%s' %x])\n",
    "\n",
    "    for x in range (len(con.get_open_positions().currency)):\n",
    "        for foo in TICKERS:\n",
    "                if foo == con.get_open_positions().currency[x]:\n",
    "                            OPEN_POZ.append(con.get_open_positions().tradeId[x])\n",
    "\n",
    "OPEN_POZ = sorted(set(OPEN_POZ))"
   ]
  },
  {
   "cell_type": "code",
   "execution_count": null,
   "metadata": {},
   "outputs": [],
   "source": []
  },
  {
   "cell_type": "code",
   "execution_count": null,
   "metadata": {},
   "outputs": [],
   "source": []
  },
  {
   "cell_type": "code",
   "execution_count": 12,
   "metadata": {},
   "outputs": [],
   "source": [
    "for x in OPEN_POZ:\n",
    "    poz = con.get_open_position(x)\n",
    "    con.subscribe_instrument(poz.get_currency())\n",
    "    con.subscribe_market_data(poz.get_currency())\n",
    "   "
   ]
  },
  {
   "cell_type": "code",
   "execution_count": 33,
   "metadata": {
    "tags": []
   },
   "outputs": [
    {
     "output_type": "execute_result",
     "data": {
      "text/plain": "(0.4850200000001532, -45.403670000000005, -83.90000000000002)"
     },
     "metadata": {},
     "execution_count": 33
    }
   ],
   "source": [
    "_pnl = 0\n",
    "_nav = 0\n",
    "_test = 0\n",
    "for x in OPEN_POZ:\n",
    "    poz = con.get_open_position(x)\n",
    "\n",
    "    _po = poz.get_open() * poz.get_amount()\n",
    "    if poz.get_isBuy() == False:\n",
    "        _pv = con.get_last_price(poz.get_currency()).Bid * poz.get_amount()\n",
    "    else :\n",
    "        _pv = con.get_last_price(poz.get_currency()).Ask * poz.get_amount()\n",
    "\n",
    "    _nav += poz.get_grossPL()\n",
    "\n",
    "    _pnl += (_pv - _po)\n",
    "\n",
    "    _test += poz.get_visiblePL()\n",
    "\n",
    "_pnl,_nav,_test\n",
    "\n",
    "    "
   ]
  },
  {
   "cell_type": "code",
   "execution_count": 90,
   "metadata": {
    "tags": []
   },
   "outputs": [
    {
     "output_type": "stream",
     "name": "stdout",
     "text": "accountId:        20263190\naccountName:      2620263190\namountK:          17\nclose:            16.7439\ncom:              0\ncurrency:         USD/ZAR\ncurrencyPoint:    0.08908\ngrossPL:          -4.45352\nisBuy:            False\nisDisabled:       False\nlimit:            0\nopen:             16.7389\nroll:             0.93\nstop:             0\nstopMove:         0\ntime:             2020-07-16 17:58:54\ntradeId:          106914591\nusedMargin:       1020\nvalueDate:        \nvisiblePL:        -50\n\n"
    }
   ],
   "source": [
    "poz =con.get_open_position('106914591')\n",
    "\n",
    "print(poz)"
   ]
  },
  {
   "cell_type": "code",
   "execution_count": 56,
   "metadata": {},
   "outputs": [
    {
     "output_type": "execute_result",
     "data": {
      "text/plain": "16.7208"
     },
     "metadata": {},
     "execution_count": 56
    }
   ],
   "source": [
    "con.subscribe_instrument(poz.get_currency())\n",
    "con.subscribe_market_data(poz.get_currency())\n",
    "con.get_last_price(poz.get_currency()).Ask"
   ]
  },
  {
   "cell_type": "code",
   "execution_count": 71,
   "metadata": {
    "tags": []
   },
   "outputs": [
    {
     "output_type": "execute_result",
     "data": {
      "text/plain": "58"
     },
     "metadata": {},
     "execution_count": 71
    }
   ],
   "source": [
    "poz.get_amount()"
   ]
  },
  {
   "cell_type": "code",
   "execution_count": 43,
   "metadata": {},
   "outputs": [
    {
     "output_type": "execute_result",
     "data": {
      "text/plain": "'USD/ZAR'"
     },
     "metadata": {},
     "execution_count": 43
    }
   ],
   "source": []
  },
  {
   "cell_type": "code",
   "execution_count": null,
   "metadata": {},
   "outputs": [],
   "source": []
  }
 ],
 "metadata": {
  "file_extension": ".py",
  "kernelspec": {
   "display_name": "Python 3",
   "language": "python",
   "name": "python3"
  },
  "language_info": {
   "codemirror_mode": {
    "name": "ipython",
    "version": 3
   },
   "file_extension": ".py",
   "mimetype": "text/x-python",
   "name": "python",
   "nbconvert_exporter": "python",
   "pygments_lexer": "ipython3",
   "version": "3.7.6-final"
  },
  "mimetype": "text/x-python",
  "name": "python",
  "npconvert_exporter": "python",
  "pygments_lexer": "ipython3",
  "version": 3
 },
 "nbformat": 4,
 "nbformat_minor": 4
}