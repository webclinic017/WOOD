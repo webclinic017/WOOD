{
 "metadata": {
  "language_info": {
   "codemirror_mode": {
    "name": "ipython",
    "version": 3
   },
   "file_extension": ".py",
   "mimetype": "text/x-python",
   "name": "python",
   "nbconvert_exporter": "python",
   "pygments_lexer": "ipython3",
   "version": "3.7.6-final"
  },
  "orig_nbformat": 2,
  "kernelspec": {
   "name": "python3",
   "display_name": "Python 3.7.6 64-bit ('FinTech': conda)",
   "metadata": {
    "interpreter": {
     "hash": "368096bf5c67b64f7235f072bcfb31703d805fe6f208ffd9e6f7c1070c0bd16b"
    }
   }
  }
 },
 "nbformat": 4,
 "nbformat_minor": 2,
 "cells": [
  {
   "cell_type": "code",
   "execution_count": 1,
   "metadata": {},
   "outputs": [],
   "source": [
    "import pandas as pd\n",
    "from matplotlib import pyplot as plt\n",
    "import numpy as np\n",
    "import time\n",
    "import random\n",
    "import datetime as dt\n",
    "import sys\n",
    "import string\n",
    "import colorama as col"
   ]
  },
  {
   "cell_type": "code",
   "execution_count": 2,
   "metadata": {},
   "outputs": [
    {
     "output_type": "execute_result",
     "data": {
      "text/plain": [
       "  N° Jury             Jury1   Club                    Jury2      Club.1\n",
       "0   Jury1    DE BAERE Teddy   CFKM  ROGUES DE FURSAC Arnaud        ECKM\n",
       "1   Jury2  SCHUSTER Cyrille  KMC92           ALLOUCHE David         KMM\n",
       "2   Jury3    HASSINE Gilles   ASKM              HUVET Jimmy  KM MINDSET\n",
       "3   Jury4          ATIA Léo  KMUD           OLIVEIRA Cédric      AKMC91\n",
       "4   Jury5  COHEN Jean-David  KmnCo           DAL PONT Marco        KM14"
      ],
      "text/html": "<div>\n<style scoped>\n    .dataframe tbody tr th:only-of-type {\n        vertical-align: middle;\n    }\n\n    .dataframe tbody tr th {\n        vertical-align: top;\n    }\n\n    .dataframe thead th {\n        text-align: right;\n    }\n</style>\n<table border=\"1\" class=\"dataframe\">\n  <thead>\n    <tr style=\"text-align: right;\">\n      <th></th>\n      <th>N° Jury</th>\n      <th>Jury1</th>\n      <th>Club</th>\n      <th>Jury2</th>\n      <th>Club.1</th>\n    </tr>\n  </thead>\n  <tbody>\n    <tr>\n      <th>0</th>\n      <td>Jury1</td>\n      <td>DE BAERE Teddy</td>\n      <td>CFKM</td>\n      <td>ROGUES DE FURSAC Arnaud</td>\n      <td>ECKM</td>\n    </tr>\n    <tr>\n      <th>1</th>\n      <td>Jury2</td>\n      <td>SCHUSTER Cyrille</td>\n      <td>KMC92</td>\n      <td>ALLOUCHE David</td>\n      <td>KMM</td>\n    </tr>\n    <tr>\n      <th>2</th>\n      <td>Jury3</td>\n      <td>HASSINE Gilles</td>\n      <td>ASKM</td>\n      <td>HUVET Jimmy</td>\n      <td>KM MINDSET</td>\n    </tr>\n    <tr>\n      <th>3</th>\n      <td>Jury4</td>\n      <td>ATIA Léo</td>\n      <td>KMUD</td>\n      <td>OLIVEIRA Cédric</td>\n      <td>AKMC91</td>\n    </tr>\n    <tr>\n      <th>4</th>\n      <td>Jury5</td>\n      <td>COHEN Jean-David</td>\n      <td>KmnCo</td>\n      <td>DAL PONT Marco</td>\n      <td>KM14</td>\n    </tr>\n  </tbody>\n</table>\n</div>"
     },
     "metadata": {},
     "execution_count": 2
    }
   ],
   "source": [
    "df1 = pd.read_excel('Jurys_ZN_2020.xlt')\n",
    "df1.head()"
   ]
  },
  {
   "cell_type": "code",
   "execution_count": 5,
   "metadata": {},
   "outputs": [
    {
     "output_type": "stream",
     "name": "stdout",
     "text": [
      "CPU times: user 73.1 ms, sys: 2.2 ms, total: 75.3 ms\nWall time: 73.9 ms\n"
     ]
    },
    {
     "output_type": "execute_result",
     "data": {
      "text/plain": [
       "  N° Jury             Jury1   Club                    Jury2      Club.1  \\\n",
       "0   Jury1    DE BAERE Teddy   CFKM  ROGUES DE FURSAC Arnaud        ECKM   \n",
       "1   Jury2  SCHUSTER Cyrille  KMC92           ALLOUCHE David         KMM   \n",
       "2   Jury3    HASSINE Gilles   ASKM              HUVET Jimmy  KM MINDSET   \n",
       "3   Jury4          ATIA Léo  KMUD           OLIVEIRA Cédric      AKMC91   \n",
       "4   Jury5  COHEN Jean-David  KmnCo           DAL PONT Marco        KM14   \n",
       "\n",
       "   Gene1  Gene2  \n",
       "0     10     12  \n",
       "1     37     39  \n",
       "2      8     26  \n",
       "3     46      4  \n",
       "4     47     30  "
      ],
      "text/html": "<div>\n<style scoped>\n    .dataframe tbody tr th:only-of-type {\n        vertical-align: middle;\n    }\n\n    .dataframe tbody tr th {\n        vertical-align: top;\n    }\n\n    .dataframe thead th {\n        text-align: right;\n    }\n</style>\n<table border=\"1\" class=\"dataframe\">\n  <thead>\n    <tr style=\"text-align: right;\">\n      <th></th>\n      <th>N° Jury</th>\n      <th>Jury1</th>\n      <th>Club</th>\n      <th>Jury2</th>\n      <th>Club.1</th>\n      <th>Gene1</th>\n      <th>Gene2</th>\n    </tr>\n  </thead>\n  <tbody>\n    <tr>\n      <th>0</th>\n      <td>Jury1</td>\n      <td>DE BAERE Teddy</td>\n      <td>CFKM</td>\n      <td>ROGUES DE FURSAC Arnaud</td>\n      <td>ECKM</td>\n      <td>10</td>\n      <td>12</td>\n    </tr>\n    <tr>\n      <th>1</th>\n      <td>Jury2</td>\n      <td>SCHUSTER Cyrille</td>\n      <td>KMC92</td>\n      <td>ALLOUCHE David</td>\n      <td>KMM</td>\n      <td>37</td>\n      <td>39</td>\n    </tr>\n    <tr>\n      <th>2</th>\n      <td>Jury3</td>\n      <td>HASSINE Gilles</td>\n      <td>ASKM</td>\n      <td>HUVET Jimmy</td>\n      <td>KM MINDSET</td>\n      <td>8</td>\n      <td>26</td>\n    </tr>\n    <tr>\n      <th>3</th>\n      <td>Jury4</td>\n      <td>ATIA Léo</td>\n      <td>KMUD</td>\n      <td>OLIVEIRA Cédric</td>\n      <td>AKMC91</td>\n      <td>46</td>\n      <td>4</td>\n    </tr>\n    <tr>\n      <th>4</th>\n      <td>Jury5</td>\n      <td>COHEN Jean-David</td>\n      <td>KmnCo</td>\n      <td>DAL PONT Marco</td>\n      <td>KM14</td>\n      <td>47</td>\n      <td>30</td>\n    </tr>\n  </tbody>\n</table>\n</div>"
     },
     "metadata": {},
     "execution_count": 5
    }
   ],
   "source": [
    "%%time\n",
    "GENE = []\n",
    "BASE = list(sorted(set(df1.Club.to_list()+df1['Club.1'].to_list())))\n",
    "df1['Gene1'] = 999\n",
    "df1['Gene2'] = 999\n",
    "for j in range(len(df1)):\n",
    "    for i,gene in enumerate(BASE):\n",
    "        if df1.Club[j] == gene :\n",
    "            df1.Gene1[j] = i\n",
    "        if df1['Club.1'][j] == gene:\n",
    "            df1.Gene2[j] = i\n",
    "\n",
    "df1.head()"
   ]
  },
  {
   "cell_type": "code",
   "execution_count": 6,
   "metadata": {},
   "outputs": [
    {
     "output_type": "execute_result",
     "data": {
      "text/plain": [
       "  Civilité         Nom      Prénom                        Email  \\\n",
       "0       M.  ABDELMALEK  Abdelhafid   abdelmalek.hafid@gmail.com   \n",
       "1       M.      ABENZA     Laurent     laurent.abenza@gmail.com   \n",
       "2       M.    ALBAREDE      Cédric   nickylarson2712@hotmail.fr   \n",
       "3      Mme    ALENGRIN    Clémence  clemence.alengrin@gmail.com   \n",
       "4       M.      AMELIN    Frédéric    frederic.amelin@gmail.com   \n",
       "\n",
       "        Téléphone       Date naissance Date examen  age  >=40     Club  \\\n",
       "0  06.75.49.88.98  1970-08-11 00:00:00  2021-01-30   50   1.0      DSA   \n",
       "1  06.20.86.56.58  1971-09-30 00:00:00  2021-01-30   49   1.0  KM LYON   \n",
       "2  06.60.07.54.06  1981-10-25 00:00:00  2021-01-30   39   NaN     ENKM   \n",
       "3  06.73.34.18.67  1988-10-31 00:00:00  2021-01-30   32   NaN     KM75   \n",
       "4  06.34.41.58.23  1980-06-27 00:00:00  2021-01-30   40   1.0    KMC92   \n",
       "\n",
       "      Darga  Poids       UV Table Jury  \n",
       "0  Exam. 1d     85      NaN     Jury21  \n",
       "1  Exam. 1d     72  2,3,5,6    Jury 20  \n",
       "2  Exam. 1d    110      NaN      Jury8  \n",
       "3  Exam. 1d     60      NaN     Jury16  \n",
       "4  Exam. 3D     68      NaN      Jury3  "
      ],
      "text/html": "<div>\n<style scoped>\n    .dataframe tbody tr th:only-of-type {\n        vertical-align: middle;\n    }\n\n    .dataframe tbody tr th {\n        vertical-align: top;\n    }\n\n    .dataframe thead th {\n        text-align: right;\n    }\n</style>\n<table border=\"1\" class=\"dataframe\">\n  <thead>\n    <tr style=\"text-align: right;\">\n      <th></th>\n      <th>Civilité</th>\n      <th>Nom</th>\n      <th>Prénom</th>\n      <th>Email</th>\n      <th>Téléphone</th>\n      <th>Date naissance</th>\n      <th>Date examen</th>\n      <th>age</th>\n      <th>&gt;=40</th>\n      <th>Club</th>\n      <th>Darga</th>\n      <th>Poids</th>\n      <th>UV</th>\n      <th>Table Jury</th>\n    </tr>\n  </thead>\n  <tbody>\n    <tr>\n      <th>0</th>\n      <td>M.</td>\n      <td>ABDELMALEK</td>\n      <td>Abdelhafid</td>\n      <td>abdelmalek.hafid@gmail.com</td>\n      <td>06.75.49.88.98</td>\n      <td>1970-08-11 00:00:00</td>\n      <td>2021-01-30</td>\n      <td>50</td>\n      <td>1.0</td>\n      <td>DSA</td>\n      <td>Exam. 1d</td>\n      <td>85</td>\n      <td>NaN</td>\n      <td>Jury21</td>\n    </tr>\n    <tr>\n      <th>1</th>\n      <td>M.</td>\n      <td>ABENZA</td>\n      <td>Laurent</td>\n      <td>laurent.abenza@gmail.com</td>\n      <td>06.20.86.56.58</td>\n      <td>1971-09-30 00:00:00</td>\n      <td>2021-01-30</td>\n      <td>49</td>\n      <td>1.0</td>\n      <td>KM LYON</td>\n      <td>Exam. 1d</td>\n      <td>72</td>\n      <td>2,3,5,6</td>\n      <td>Jury 20</td>\n    </tr>\n    <tr>\n      <th>2</th>\n      <td>M.</td>\n      <td>ALBAREDE</td>\n      <td>Cédric</td>\n      <td>nickylarson2712@hotmail.fr</td>\n      <td>06.60.07.54.06</td>\n      <td>1981-10-25 00:00:00</td>\n      <td>2021-01-30</td>\n      <td>39</td>\n      <td>NaN</td>\n      <td>ENKM</td>\n      <td>Exam. 1d</td>\n      <td>110</td>\n      <td>NaN</td>\n      <td>Jury8</td>\n    </tr>\n    <tr>\n      <th>3</th>\n      <td>Mme</td>\n      <td>ALENGRIN</td>\n      <td>Clémence</td>\n      <td>clemence.alengrin@gmail.com</td>\n      <td>06.73.34.18.67</td>\n      <td>1988-10-31 00:00:00</td>\n      <td>2021-01-30</td>\n      <td>32</td>\n      <td>NaN</td>\n      <td>KM75</td>\n      <td>Exam. 1d</td>\n      <td>60</td>\n      <td>NaN</td>\n      <td>Jury16</td>\n    </tr>\n    <tr>\n      <th>4</th>\n      <td>M.</td>\n      <td>AMELIN</td>\n      <td>Frédéric</td>\n      <td>frederic.amelin@gmail.com</td>\n      <td>06.34.41.58.23</td>\n      <td>1980-06-27 00:00:00</td>\n      <td>2021-01-30</td>\n      <td>40</td>\n      <td>1.0</td>\n      <td>KMC92</td>\n      <td>Exam. 3D</td>\n      <td>68</td>\n      <td>NaN</td>\n      <td>Jury3</td>\n    </tr>\n  </tbody>\n</table>\n</div>"
     },
     "metadata": {},
     "execution_count": 6
    }
   ],
   "source": [
    "df2 = pd.read_excel('ZNord_180420.xls')\n",
    "df2.head()"
   ]
  },
  {
   "cell_type": "code",
   "execution_count": 7,
   "metadata": {},
   "outputs": [],
   "source": [
    "PASSAGE1=[]\n",
    "PASSAGE2=[]\n",
    "PASSAGE3=[]\n",
    "PASSAGE4=[]\n",
    "TABLE_D1 = list(sorted(set(df2[df2.Darga == 'Exam. 1d']['Table Jury'].to_list())))\n",
    "#TABLE_D1.remove(['JUry22'])\n",
    "#TABLE_D1.remove(['Jury 20'])\n",
    "#TABLE_D1.remove(['Jury 31'])\n",
    "TABLE_D2 = list(sorted(set(df2[df2.Darga == 'Exam. 2d']['Table Jury'].to_list())))\n",
    "TABLE_D3 = list(sorted(set(df2[df2.Darga == 'Exam. 3D']['Table Jury'].to_list())))\n",
    "TABLE_D4 = list(sorted(set(df2[df2.Darga == 'Exam. 4D']['Table Jury'].to_list())))\n",
    "for i in df1['N° Jury']:\n",
    "    if i in TABLE_D1:\n",
    "        PASSAGE1.append(1)\n",
    "        \n",
    "    else:\n",
    "        PASSAGE1.append(0)\n",
    "\n",
    "    if i in TABLE_D2:\n",
    "        PASSAGE2.append(1)\n",
    "        \n",
    "    else:\n",
    "        PASSAGE2.append(0)\n",
    "    \n",
    "    if i in TABLE_D3:\n",
    "        PASSAGE3.append(1)\n",
    "        \n",
    "    else:\n",
    "        PASSAGE3.append(0)\n",
    "    \n",
    "    if i in TABLE_D4:\n",
    "        PASSAGE4.append(1)\n",
    "    \n",
    "    else:    \n",
    "        PASSAGE4.append(0)\n",
    "df1['PASSAGE1'] = PASSAGE1\n",
    "df1['PASSAGE2'] = PASSAGE2\n",
    "df1['PASSAGE3'] = PASSAGE3\n",
    "df1['PASSAGE4'] = PASSAGE4\n",
    "TABLE_D1.remove('JUry22')\n",
    "TABLE_D1.remove('Jury 20')\n",
    "TABLE_D1.remove('Jury 31')"
   ]
  },
  {
   "cell_type": "code",
   "execution_count": 8,
   "metadata": {},
   "outputs": [
    {
     "output_type": "execute_result",
     "data": {
      "text/plain": [
       "  N° Jury             Jury1   Club                    Jury2      Club.1  \\\n",
       "0   Jury1    DE BAERE Teddy   CFKM  ROGUES DE FURSAC Arnaud        ECKM   \n",
       "1   Jury2  SCHUSTER Cyrille  KMC92           ALLOUCHE David         KMM   \n",
       "2   Jury3    HASSINE Gilles   ASKM              HUVET Jimmy  KM MINDSET   \n",
       "3   Jury4          ATIA Léo  KMUD           OLIVEIRA Cédric      AKMC91   \n",
       "4   Jury5  COHEN Jean-David  KmnCo           DAL PONT Marco        KM14   \n",
       "\n",
       "   Gene1  Gene2  PASSAGE1  PASSAGE2  PASSAGE3  PASSAGE4  \n",
       "0     10     12         0         0         1         1  \n",
       "1     37     39         0         0         1         1  \n",
       "2      8     26         0         1         1         0  \n",
       "3     46      4         0         1         1         0  \n",
       "4     47     30         0         1         1         0  "
      ],
      "text/html": "<div>\n<style scoped>\n    .dataframe tbody tr th:only-of-type {\n        vertical-align: middle;\n    }\n\n    .dataframe tbody tr th {\n        vertical-align: top;\n    }\n\n    .dataframe thead th {\n        text-align: right;\n    }\n</style>\n<table border=\"1\" class=\"dataframe\">\n  <thead>\n    <tr style=\"text-align: right;\">\n      <th></th>\n      <th>N° Jury</th>\n      <th>Jury1</th>\n      <th>Club</th>\n      <th>Jury2</th>\n      <th>Club.1</th>\n      <th>Gene1</th>\n      <th>Gene2</th>\n      <th>PASSAGE1</th>\n      <th>PASSAGE2</th>\n      <th>PASSAGE3</th>\n      <th>PASSAGE4</th>\n    </tr>\n  </thead>\n  <tbody>\n    <tr>\n      <th>0</th>\n      <td>Jury1</td>\n      <td>DE BAERE Teddy</td>\n      <td>CFKM</td>\n      <td>ROGUES DE FURSAC Arnaud</td>\n      <td>ECKM</td>\n      <td>10</td>\n      <td>12</td>\n      <td>0</td>\n      <td>0</td>\n      <td>1</td>\n      <td>1</td>\n    </tr>\n    <tr>\n      <th>1</th>\n      <td>Jury2</td>\n      <td>SCHUSTER Cyrille</td>\n      <td>KMC92</td>\n      <td>ALLOUCHE David</td>\n      <td>KMM</td>\n      <td>37</td>\n      <td>39</td>\n      <td>0</td>\n      <td>0</td>\n      <td>1</td>\n      <td>1</td>\n    </tr>\n    <tr>\n      <th>2</th>\n      <td>Jury3</td>\n      <td>HASSINE Gilles</td>\n      <td>ASKM</td>\n      <td>HUVET Jimmy</td>\n      <td>KM MINDSET</td>\n      <td>8</td>\n      <td>26</td>\n      <td>0</td>\n      <td>1</td>\n      <td>1</td>\n      <td>0</td>\n    </tr>\n    <tr>\n      <th>3</th>\n      <td>Jury4</td>\n      <td>ATIA Léo</td>\n      <td>KMUD</td>\n      <td>OLIVEIRA Cédric</td>\n      <td>AKMC91</td>\n      <td>46</td>\n      <td>4</td>\n      <td>0</td>\n      <td>1</td>\n      <td>1</td>\n      <td>0</td>\n    </tr>\n    <tr>\n      <th>4</th>\n      <td>Jury5</td>\n      <td>COHEN Jean-David</td>\n      <td>KmnCo</td>\n      <td>DAL PONT Marco</td>\n      <td>KM14</td>\n      <td>47</td>\n      <td>30</td>\n      <td>0</td>\n      <td>1</td>\n      <td>1</td>\n      <td>0</td>\n    </tr>\n  </tbody>\n</table>\n</div>"
     },
     "metadata": {},
     "execution_count": 8
    }
   ],
   "source": [
    "df1.head()"
   ]
  },
  {
   "cell_type": "code",
   "execution_count": 9,
   "metadata": {},
   "outputs": [
    {
     "output_type": "execute_result",
     "data": {
      "text/plain": [
       "(46, 110)"
      ]
     },
     "metadata": {},
     "execution_count": 9
    }
   ],
   "source": [
    "df2.Poids.min(),df2.Poids.max()"
   ]
  },
  {
   "cell_type": "code",
   "execution_count": 10,
   "metadata": {
    "tags": []
   },
   "outputs": [
    {
     "output_type": "stream",
     "name": "stdout",
     "text": [
      "CPU times: user 33.9 ms, sys: 2.67 ms, total: 36.6 ms\nWall time: 37.6 ms\n"
     ]
    },
    {
     "output_type": "execute_result",
     "data": {
      "text/plain": [
       "   Civilité  age     Club  Darga  Poids  id binned\n",
       "0         1    1      DSA      1     85   0     11\n",
       "1         1    1  KM LYON      1     72   1      7\n",
       "2         1    0     ENKM      1    110   2     16\n",
       "3         0    0     KM75      1     60   3      4\n",
       "4         1    1    KMC92      3     68   4      6"
      ],
      "text/html": "<div>\n<style scoped>\n    .dataframe tbody tr th:only-of-type {\n        vertical-align: middle;\n    }\n\n    .dataframe tbody tr th {\n        vertical-align: top;\n    }\n\n    .dataframe thead th {\n        text-align: right;\n    }\n</style>\n<table border=\"1\" class=\"dataframe\">\n  <thead>\n    <tr style=\"text-align: right;\">\n      <th></th>\n      <th>Civilité</th>\n      <th>age</th>\n      <th>Club</th>\n      <th>Darga</th>\n      <th>Poids</th>\n      <th>id</th>\n      <th>binned</th>\n    </tr>\n  </thead>\n  <tbody>\n    <tr>\n      <th>0</th>\n      <td>1</td>\n      <td>1</td>\n      <td>DSA</td>\n      <td>1</td>\n      <td>85</td>\n      <td>0</td>\n      <td>11</td>\n    </tr>\n    <tr>\n      <th>1</th>\n      <td>1</td>\n      <td>1</td>\n      <td>KM LYON</td>\n      <td>1</td>\n      <td>72</td>\n      <td>1</td>\n      <td>7</td>\n    </tr>\n    <tr>\n      <th>2</th>\n      <td>1</td>\n      <td>0</td>\n      <td>ENKM</td>\n      <td>1</td>\n      <td>110</td>\n      <td>2</td>\n      <td>16</td>\n    </tr>\n    <tr>\n      <th>3</th>\n      <td>0</td>\n      <td>0</td>\n      <td>KM75</td>\n      <td>1</td>\n      <td>60</td>\n      <td>3</td>\n      <td>4</td>\n    </tr>\n    <tr>\n      <th>4</th>\n      <td>1</td>\n      <td>1</td>\n      <td>KMC92</td>\n      <td>3</td>\n      <td>68</td>\n      <td>4</td>\n      <td>6</td>\n    </tr>\n  </tbody>\n</table>\n</div>"
     },
     "metadata": {},
     "execution_count": 10
    }
   ],
   "source": [
    "%%time\n",
    "candidats = df2.copy()\n",
    "DARGA = []\n",
    "candidats['Civilité'] = [1 if candidats.Civilité[i] == 'M.' else 0 for i in range(len(candidats))]\n",
    "candidats['age'] = [1 if candidats.age[i] >= 40 else 0 for i in range(len(candidats))]\n",
    "for i in range(len(candidats)):\n",
    "    if candidats.Darga[i] == 'Exam. 1d':\n",
    "        DARGA.append(1)\n",
    "    elif candidats.Darga[i] == 'Exam. 2d':\n",
    "        DARGA.append(2)\n",
    "    elif candidats.Darga[i] == 'Exam. 3D':\n",
    "        DARGA.append(3)\n",
    "    elif candidats.Darga[i] == 'Exam. 4D':\n",
    "        DARGA.append(4)\n",
    "candidats.Darga = DARGA\n",
    "candidats = candidats.drop(['Nom', 'Prénom', 'Email', 'Téléphone','Date naissance','Date examen','>=40','UV', 'Table Jury'],axis=1)\n",
    "bins = [ 44, 48, 52, 56, 60, 64, 68, 72, 76, 80, 84, 88, 92, 96, 100, 104, 111 ]\n",
    "labels =[1,2,3,4,5,6,7,8,9,10,11,12,13,14,15,16]\n",
    "candidats['id'] = candidats.index\n",
    "candidats['binned'] = pd.cut(candidats.Poids, bins,labels=labels)\n",
    "CAT = ['44, 48','48, 52','52, 56','56, 60','60, 64','64, 68','68, 72','72, 76','76, 80','80, 84','84, 88','88, 92','92, 96','96, 100','100, 104','104, 111']\n",
    "candidats.head()"
   ]
  },
  {
   "cell_type": "code",
   "execution_count": 11,
   "metadata": {
    "tags": []
   },
   "outputs": [
    {
     "output_type": "stream",
     "name": "stdout",
     "text": [
      "\n\nDarga 1 -- Nombre de candidats : 209\nHommes de plus de 40 ans : 134\nHommes de moins de 40 ans : 56\nFemmes de plus de 40 ans : 7\nFemmes de moins de 40 ans : 12\n\n\nDarga 2 -- Nombre de candidats : 69\nHommes de plus de 40 ans : 50\nHommes de moins de 40 ans : 16\nFemmes de plus de 40 ans : 1\nFemmes de moins de 40 ans : 2\n\n\nDarga 3 -- Nombre de candidats : 23\nHommes de plus de 40 ans : 16\nHommes de moins de 40 ans : 6\nFemmes de plus de 40 ans : 1\nFemmes de moins de 40 ans : 0\n\n\nDarga 4 -- Nombre de candidats : 7\nHommes de plus de 40 ans : 5\nHommes de moins de 40 ans : 1\nFemmes de plus de 40 ans : 1\nFemmes de moins de 40 ans : 0\nCPU times: user 34.9 ms, sys: 5.26 ms, total: 40.1 ms\nWall time: 36.5 ms\n"
     ]
    }
   ],
   "source": [
    "%%time\n",
    "##### DARGA 1\n",
    "print('\\n\\nDarga 1 -- Nombre de candidats :', candidats[candidats.Darga==1].shape[0])\n",
    "groupeH401D = candidats[(candidats.Civilité==1)&(candidats.age==1)&(candidats.Darga==1)]\n",
    "print('Hommes de plus de 40 ans :', groupeH401D.shape[0])\n",
    "\n",
    "groupeH391D = candidats[(candidats.Civilité==1)&(candidats.age==0)&(candidats.Darga==1)]\n",
    "print('Hommes de moins de 40 ans :', groupeH391D.shape[0])\n",
    "\n",
    "groupeF401D = candidats[(candidats.Civilité==0)&(candidats.age==1)&(candidats.Darga==1)]\n",
    "print('Femmes de plus de 40 ans :', groupeF401D.shape[0])\n",
    "\n",
    "groupeF391D = candidats[(candidats.Civilité==0)&(candidats.age==0)&(candidats.Darga==1)]\n",
    "print('Femmes de moins de 40 ans :', groupeF391D.shape[0])\n",
    "\n",
    "\n",
    "##### DARGA 2\n",
    "print('\\n\\nDarga 2 -- Nombre de candidats :', candidats[candidats.Darga==2].shape[0])\n",
    "groupeH402D = candidats[(candidats.Civilité==1)&(candidats.age==1)&(candidats.Darga==2)]\n",
    "print('Hommes de plus de 40 ans :', groupeH402D.shape[0])\n",
    "\n",
    "groupeH392D = candidats[(candidats.Civilité==1)&(candidats.age==0)&(candidats.Darga==2)]\n",
    "print('Hommes de moins de 40 ans :', groupeH392D.shape[0])\n",
    "\n",
    "groupeF402D = candidats[(candidats.Civilité==0)&(candidats.age==1)&(candidats.Darga==2)]\n",
    "print('Femmes de plus de 40 ans :', groupeF402D.shape[0])\n",
    "\n",
    "groupeF392D = candidats[(candidats.Civilité==0)&(candidats.age==0)&(candidats.Darga==2)]\n",
    "print('Femmes de moins de 40 ans :', groupeF392D.shape[0])\n",
    "\n",
    "##### DARGA 3\n",
    "print('\\n\\nDarga 3 -- Nombre de candidats :', candidats[candidats.Darga==3].shape[0])\n",
    "groupeH403D = candidats[(candidats.Civilité==1)&(candidats.age==1)&(candidats.Darga==3)]\n",
    "print('Hommes de plus de 40 ans :', groupeH403D.shape[0])\n",
    "\n",
    "groupeH393D = candidats[(candidats.Civilité==1)&(candidats.age==0)&(candidats.Darga==3)]\n",
    "print('Hommes de moins de 40 ans :', groupeH393D.shape[0])\n",
    "\n",
    "groupeF403D = candidats[(candidats.Civilité==0)&(candidats.age==1)&(candidats.Darga==3)]\n",
    "print('Femmes de plus de 40 ans :', groupeF403D.shape[0])\n",
    "\n",
    "groupeF393D = candidats[(candidats.Civilité==0)&(candidats.age==0)&(candidats.Darga==3)]\n",
    "print('Femmes de moins de 40 ans :', groupeF393D.shape[0])\n",
    "\n",
    "##### DARGA 4\n",
    "print('\\n\\nDarga 4 -- Nombre de candidats :', candidats[candidats.Darga==4].shape[0])\n",
    "groupeH404D = candidats[(candidats.Civilité==1)&(candidats.age==1)&(candidats.Darga==4)]\n",
    "print('Hommes de plus de 40 ans :', groupeH404D.shape[0])\n",
    "\n",
    "groupeH394D = candidats[(candidats.Civilité==1)&(candidats.age==0)&(candidats.Darga==4)]\n",
    "print('Hommes de moins de 40 ans :', groupeH394D.shape[0])\n",
    "\n",
    "groupeF404D = candidats[(candidats.Civilité==0)&(candidats.age==1)&(candidats.Darga==4)]\n",
    "print('Femmes de plus de 40 ans :', groupeF404D.shape[0])\n",
    "\n",
    "groupeF394D = candidats[(candidats.Civilité==0)&(candidats.age==0)&(candidats.Darga==4)]\n",
    "print('Femmes de moins de 40 ans :', groupeF394D.shape[0])\n"
   ]
  },
  {
   "cell_type": "code",
   "execution_count": 12,
   "metadata": {
    "tags": []
   },
   "outputs": [
    {
     "output_type": "stream",
     "name": "stdout",
     "text": [
      "Pour la première darga:\n",
      "\n",
      "Femme de moins de 40 ans catégorie de poids [44, 48] Kg\n",
      "CLEMENT NOEMIE        (Index =  58 )\n",
      "\n",
      "Femme de plus de 40 ans catégorie de poids [48, 52] Kg\n",
      "PEREZ Sylvie        (Index =  230 )\n",
      "\n",
      "Femme de moins de 40 ans catégorie de poids [48, 52] Kg\n",
      "BOIRAT Stephanie        (Index =  23 )\n",
      "LOUIS Mélanie        (Index =  188 )\n",
      "\n",
      "Femme de plus de 40 ans catégorie de poids [52, 56] Kg\n",
      "DE LA HORIE Nathalie        (Index =  76 )\n",
      "LE MOAL Rebecca        (Index =  165 )\n",
      "RIVIERE Esther        (Index =  256 )\n",
      "\n",
      "Femme de moins de 40 ans catégorie de poids [52, 56] Kg\n",
      "BOURQUIN Helene        (Index =  34 )\n",
      "DOUDOUX Laurianne        (Index =  86 )\n",
      "\n",
      "Homme de plus de 40 ans catégorie de poids [56, 60] Kg\n",
      "FERRY Jean-Louis        (Index =  105 )\n",
      "MEIMOUN Patrick        (Index =  202 )\n",
      "\n",
      "Femme de plus de 40 ans catégorie de poids [56, 60] Kg\n",
      "DOS SANTOS Amarize        (Index =  84 )\n",
      "THOMINE DESMAZURES Astrid        (Index =  288 )\n",
      "\n",
      "Femme de moins de 40 ans catégorie de poids [56, 60] Kg\n",
      "ALENGRIN Clémence        (Index =  3 )\n",
      "COTTREL Mélissa         (Index =  61 )\n",
      "\n",
      "Homme de plus de 40 ans catégorie de poids [60, 64] Kg\n",
      "ANDRÉ Patrice        (Index =  6 )\n",
      "SCOPIN Yves        (Index =  270 )\n",
      "\n",
      "Homme de moins de 40 ans catégorie de poids [60, 64] Kg\n",
      "BECHAMP Mickaël, Loïc        (Index =  14 )\n",
      "FEDERKEIL Yan        (Index =  100 )\n",
      "TEISSIER Gaspard        (Index =  282 )\n",
      "\n",
      "Femme de plus de 40 ans catégorie de poids [60, 64] Kg\n",
      "SALMIER Sandrine        (Index =  264 )\n",
      "\n",
      "Femme de moins de 40 ans catégorie de poids [60, 64] Kg\n",
      "CANELLAS Jessica        (Index =  45 )\n",
      "CASAURANG-LASSALLETTE Audrey        (Index =  48 )\n",
      "PATERNOSTER Louise        (Index =  229 )\n",
      "\n",
      "Homme de plus de 40 ans catégorie de poids [64, 68] Kg\n",
      "BRION Hervé        (Index =  38 )\n",
      "CACCIAMANI Sébastien         (Index =  44 )\n",
      "DE OLIVEIRA Albert        (Index =  77 )\n",
      "DURRIEU Mickael        (Index =  92 )\n",
      "FILAIRE Guillaume        (Index =  109 )\n",
      "FRIMBAUD PIERRE        (Index =  115 )\n",
      "HACHEM Nordin        (Index =  136 )\n",
      "HEURTIN Fabrice        (Index =  145 )\n",
      "PERON JEAN-LOUIS        (Index =  232 )\n",
      "SIAM DAVID        (Index =  273 )\n",
      "\n",
      "Homme de moins de 40 ans catégorie de poids [64, 68] Kg\n",
      "LE MInh Pierre        (Index =  161 )\n",
      "LEAL Thomas        (Index =  167 )\n",
      "\n",
      "Femme de moins de 40 ans catégorie de poids [64, 68] Kg\n",
      "BONVARD  Julie         (Index =  25 )\n",
      "PETIOT AURÉLIE        (Index =  234 )\n",
      "\n",
      "Homme de plus de 40 ans catégorie de poids [68, 72] Kg\n",
      "ABENZA Laurent        (Index =  1 )\n",
      "BOUCHENOT FRANCK        (Index =  28 )\n",
      "BOURDIN Jerome        (Index =  33 )\n",
      "DARMON Denis        (Index =  72 )\n",
      "FARIAD Morad        (Index =  99 )\n",
      "GABILLET Alexandre        (Index =  118 )\n",
      "LAILE Stéphane        (Index =  157 )\n",
      "LAUFER Franck        (Index =  158 )\n",
      "MIENANZAMBI FABRICE        (Index =  208 )\n",
      "MONGIS DAVID        (Index =  210 )\n",
      "NOCARA Stéphane        (Index =  220 )\n",
      "RAMOS Christophe        (Index =  246 )\n",
      "ROBIN FREDERIC        (Index =  257 )\n",
      "URBAN Bruno        (Index =  296 )\n",
      "\n",
      "Homme de moins de 40 ans catégorie de poids [68, 72] Kg\n",
      "DARMON Kévin        (Index =  73 )\n",
      "EUSTACHE Ludovic        (Index =  97 )\n",
      "FARGES Olivier        (Index =  98 )\n",
      "GAONAC'H- ALTALAWY Alexandre        (Index =  120 )\n",
      "MASSABIEAUX Adrien        (Index =  198 )\n",
      "RUH Cédric         (Index =  262 )\n",
      "THIERY Thomas        (Index =  285 )\n",
      "\n",
      "Homme de plus de 40 ans catégorie de poids [72, 76] Kg\n",
      "BOTERF YANNICK        (Index =  27 )\n",
      "BOYER Alain        (Index =  37 )\n",
      "CASTELLER  Arnaud        (Index =  50 )\n",
      "CHAMBENOIT Frederic        (Index =  52 )\n",
      "CLAVERIE LAURENT        (Index =  56 )\n",
      "CLEMENT Guillaume        (Index =  57 )\n",
      "COUE Tanguy        (Index =  62 )\n",
      "DACHET Vincent        (Index =  67 )\n",
      "DURFORT FREDERIC.        (Index =  91 )\n",
      "FERNANDES Paul        (Index =  102 )\n",
      "FEUILLATRE Franck        (Index =  108 )\n",
      "GAUSSENS Rémy        (Index =  122 )\n",
      "HENIN Luc        (Index =  143 )\n",
      "LE VERGER Richard        (Index =  166 )\n",
      "LEFORT Fritz        (Index =  171 )\n",
      "LOGER Lionel        (Index =  182 )\n",
      "MARTIN Jerome        (Index =  196 )\n",
      "MESNAGE Gregory        (Index =  207 )\n",
      "PERQUIN-GEORGES Sébastien        (Index =  233 )\n",
      "PETIT Michael        (Index =  236 )\n",
      "PONS Philippe        (Index =  239 )\n",
      "SEERPUTTEE Viveck        (Index =  271 )\n",
      "TEUTSCH JACKY        (Index =  283 )\n",
      "THOCQUENNE Clotaire        (Index =  286 )\n",
      "THOMAS Laurent        (Index =  287 )\n",
      "THOUVENOT Jérôme        (Index =  290 )\n",
      "\n",
      "Homme de moins de 40 ans catégorie de poids [72, 76] Kg\n",
      "BOUKHOBZA Boris        (Index =  29 )\n",
      "CANGO FRANCK        (Index =  46 )\n",
      "DOUDOUX Vivien        (Index =  85 )\n",
      "DUNOYER AURELIEN        (Index =  90 )\n",
      "FEDIDA Willfried        (Index =  101 )\n",
      "LEFRANCOIS Matthieu        (Index =  172 )\n",
      "LOISEAU Florian        (Index =  183 )\n",
      "MEPHARA Aurelien        (Index =  205 )\n",
      "NOZAY Dominique         (Index =  221 )\n",
      "PETIT Cédric        (Index =  235 )\n",
      "REAL Benjamin        (Index =  248 )\n",
      "RINALDI Romain        (Index =  255 )\n",
      "SPINGARN Raphaël        (Index =  278 )\n",
      "\n",
      "Homme de plus de 40 ans catégorie de poids [76, 80] Kg\n",
      "ANTABLIAN Thierry        (Index =  8 )\n",
      "BOULARD YANNICK        (Index =  31 )\n",
      "BOUVARD Olivier        (Index =  35 )\n",
      "BRISON Patrice        (Index =  39 )\n",
      "BRUNA  Jean-Yves         (Index =  40 )\n",
      "BURGUET Grégory        (Index =  43 )\n",
      "CHARRIAU Patrick        (Index =  53 )\n",
      "COUTAZ Raphael        (Index =  63 )\n",
      "DARDOT JEAN CLAUDE        (Index =  71 )\n",
      "DE BIEVRE HUGUES        (Index =  75 )\n",
      "DEMELT Nicolas        (Index =  80 )\n",
      "DUSKUNKORUR Semih        (Index =  93 )\n",
      "EBRARD Frederic        (Index =  94 )\n",
      "FERON Thomas        (Index =  103 )\n",
      "FORTIER Olivier        (Index =  111 )\n",
      "FORTIN David        (Index =  112 )\n",
      "HABERT Frederic        (Index =  135 )\n",
      "HAZE Pascal        (Index =  140 )\n",
      "HELMLINGER Franck        (Index =  142 )\n",
      "JAHANDIER PASCAL        (Index =  151 )\n",
      "LAVAL Christian        (Index =  159 )\n",
      "MERKEL CYRIL        (Index =  206 )\n",
      "MONDOLONI Dominique        (Index =  209 )\n",
      "MOUMIN Mohammed        (Index =  214 )\n",
      "PABOT Sébastien         (Index =  225 )\n",
      "POTARD Julien        (Index =  241 )\n",
      "PRODHON Lionel        (Index =  244 )\n",
      "ROUSSEL Jean-Charles        (Index =  260 )\n",
      "TARDY NICOLAS        (Index =  280 )\n",
      "TEYSSANDIER David        (Index =  284 )\n",
      "VERDIE Eric        (Index =  299 )\n",
      "\n",
      "Homme de moins de 40 ans catégorie de poids [76, 80] Kg\n",
      "BURGALETA Romain        (Index =  42 )\n",
      "DEPOORTER Christophe        (Index =  81 )\n",
      "GÉRÈME  Loïc        (Index =  124 )\n",
      "HOSOTTE Nicolas        (Index =  146 )\n",
      "LUC Benoit        (Index =  189 )\n",
      "PIERRE Aurélien        (Index =  237 )\n",
      "SAINT-EVE Vincent        (Index =  263 )\n",
      "\n",
      "Homme de plus de 40 ans catégorie de poids [80, 84] Kg\n",
      "BAQUE OLIVIER        (Index =  12 )\n",
      "BLANCHONNET Christian        (Index =  22 )\n",
      "BOULINGUIEZ Thomas        (Index =  32 )\n",
      "BOYA Raphael        (Index =  36 )\n",
      "CASTANO Efren        (Index =  49 )\n",
      "CULEDDU Julien        (Index =  65 )\n",
      "DANTHU Olivier        (Index =  70 )\n",
      "DAVID Jean-Yves        (Index =  74 )\n",
      "DORISON HERVE        (Index =  83 )\n",
      "GILI Renaud        (Index =  126 )\n",
      "LE FUR Louis        (Index =  162 )\n",
      "LONGOUR WILLIAM        (Index =  184 )\n",
      "MANNIER Christophe        (Index =  194 )\n",
      "MOREL Gerald        (Index =  212 )\n",
      "POTIER Maxime        (Index =  242 )\n",
      "RAKOTONDRAVAO Olivier        (Index =  245 )\n",
      "SPHABMIXAY Souvanxay        (Index =  277 )\n",
      "\n",
      "Homme de moins de 40 ans catégorie de poids [80, 84] Kg\n",
      "BARROSO PEREIRA Steve        (Index =  13 )\n",
      "FOSSARD Florent        (Index =  113 )\n",
      "GERENIUS Axel        (Index =  125 )\n",
      "HEBERT Julien        (Index =  141 )\n",
      "LEFEVRE Damien        (Index =  170 )\n",
      "MELLY Etienne        (Index =  204 )\n",
      "NATIVEL ULRICK        (Index =  216 )\n",
      "WESLEY Edouard        (Index =  305 )\n",
      "\n",
      "Homme de plus de 40 ans catégorie de poids [84, 88] Kg\n",
      "ABDELMALEK Abdelhafid        (Index =  0 )\n",
      "GERARD STEPHANE        (Index =  123 )\n",
      "HALIMI David        (Index =  137 )\n",
      "LE LAIN Jean-claude        (Index =  164 )\n",
      "LÉGER  Sébastien         (Index =  174 )\n",
      "LEGLEYE Stéphane        (Index =  175 )\n",
      "MACHETEAU FREDERIC        (Index =  192 )\n",
      "MEIMOUN Olivier        (Index =  201 )\n",
      "PARKER Zacharie        (Index =  228 )\n",
      "PRIETO Aurelien        (Index =  243 )\n",
      "REYL Fabien        (Index =  252 )\n",
      "RUBINI Fabrice        (Index =  261 )\n",
      "VINCENT Thierry        (Index =  301 )\n",
      "\n",
      "Homme de moins de 40 ans catégorie de poids [84, 88] Kg\n",
      "BEN HAMOU Sidney        (Index =  16 )\n",
      "BONNOTTE Jeremy        (Index =  24 )\n",
      "DELOHEN Anthony        (Index =  79 )\n",
      "GRELLIER GAETAN        (Index =  131 )\n",
      "IDIR Jugurtha        (Index =  149 )\n",
      "LOSQ Olivier        (Index =  187 )\n",
      "PERISE MANUEL        (Index =  231 )\n",
      "RENDLER Adrien        (Index =  251 )\n",
      "\n",
      "Homme de plus de 40 ans catégorie de poids [88, 92] Kg\n",
      "BUCQUET Alexander        (Index =  41 )\n",
      "ESNOULT PASCAL        (Index =  96 )\n",
      "HERNANDEZ Damien        (Index =  144 )\n",
      "LEROY JACQUES        (Index =  179 )\n",
      "NITELET Jean-François        (Index =  219 )\n",
      "SERVANT-ROUMEY Luc        (Index =  272 )\n",
      "\n",
      "Homme de moins de 40 ans catégorie de poids [88, 92] Kg\n",
      "LEMAIRE Ulric        (Index =  177 )\n",
      "\n",
      "Homme de plus de 40 ans catégorie de poids [92, 96] Kg\n",
      "LEMMEL OLIVIER         (Index =  178 )\n",
      "VANHEEGHE BENOIT        (Index =  297 )\n",
      "VENET Laurent        (Index =  298 )\n",
      "\n",
      "Homme de moins de 40 ans catégorie de poids [92, 96] Kg\n",
      "GIRAUD Sébastien        (Index =  127 )\n",
      "ROBIN Rodnay        (Index =  258 )\n",
      "\n",
      "Homme de plus de 40 ans catégorie de poids [96, 100] Kg\n",
      "IRVENSEC Jean-Paul        (Index =  150 )\n",
      "MULLER Christophe        (Index =  215 )\n",
      "OUAKIL SERGE        (Index =  222 )\n",
      "PANETTA Laurent        (Index =  226 )\n",
      "PIERROT Patrice        (Index =  238 )\n",
      "TOURNAL HERVE        (Index =  293 )\n",
      "\n",
      "Homme de moins de 40 ans catégorie de poids [96, 100] Kg\n",
      "CREUSOT Mathieu        (Index =  64 )\n",
      "\n",
      "Homme de plus de 40 ans catégorie de poids [100, 104] Kg\n",
      "SUEUR DAVID        (Index =  279 )\n",
      "TAYAR Marc        (Index =  281 )\n",
      "\n",
      "Homme de moins de 40 ans catégorie de poids [100, 104] Kg\n",
      "GREVIN Christophe        (Index =  132 )\n",
      "\n",
      "Homme de plus de 40 ans catégorie de poids [104, 111] Kg\n",
      "FERRER Bruno        (Index =  104 )\n",
      "WALTER Hervé        (Index =  303 )\n",
      "\n",
      "Homme de moins de 40 ans catégorie de poids [104, 111] Kg\n",
      "ALBAREDE Cédric        (Index =  2 )\n",
      "JUILLARD Christophe        (Index =  153 )\n",
      "LORET Fabian        (Index =  186 )\n",
      "CPU times: user 410 ms, sys: 45.5 ms, total: 455 ms\n",
      "Wall time: 426 ms\n"
     ]
    }
   ],
   "source": [
    "%%time\n",
    "# DARGA 1\n",
    "print('Pour la première darga:')\n",
    "for bin in labels:\n",
    "    globals()['groupeH401D_bin%s' %bin] = pd.DataFrame()\n",
    "    globals()['groupeH401D_bin%s' %bin] = groupeH401D[groupeH401D.binned==bin]\n",
    "    if len(globals()['groupeH401D_bin%s' %bin]) > 0:\n",
    "        print()\n",
    "        print('Homme de plus de 40 ans catégorie de poids ['+CAT[bin-1]+'] Kg')\n",
    "        for x in globals()['groupeH401D_bin%s' %bin].id:\n",
    "            print(df2[df2.index==x].iloc[0,1]+' '+df2[df2.index==x].iloc[0,2],'       (Index = ',x,')')\n",
    "\n",
    "    globals()['groupeH391D_bin%s' %bin] = pd.DataFrame()\n",
    "    globals()['groupeH391D_bin%s' %bin] = groupeH391D[groupeH391D.binned==bin]\n",
    "    if len(globals()['groupeH391D_bin%s' %bin]) > 0:\n",
    "        print()\n",
    "        print('Homme de moins de 40 ans catégorie de poids ['+CAT[bin-1]+'] Kg')\n",
    "        for x in globals()['groupeH391D_bin%s' %bin].id:\n",
    "            print(df2[df2.index==x].iloc[0,1]+' '+df2[df2.index==x].iloc[0,2],'       (Index = ',x,')')\n",
    "\n",
    "    globals()['groupeF401D_bin%s' %bin] = pd.DataFrame()\n",
    "    globals()['groupeF401D_bin%s' %bin] = groupeF401D[groupeF401D.binned==bin]\n",
    "    if len(globals()['groupeF401D_bin%s' %bin]) > 0:\n",
    "        print()\n",
    "        print('Femme de plus de 40 ans catégorie de poids ['+CAT[bin-1]+'] Kg')\n",
    "        for x in globals()['groupeF401D_bin%s' %bin].id:\n",
    "            print(df2[df2.index==x].iloc[0,1]+' '+df2[df2.index==x].iloc[0,2],'       (Index = ',x,')')\n",
    "\n",
    "    globals()['groupeF391D_bin%s' %bin] = pd.DataFrame()\n",
    "    globals()['groupeF391D_bin%s' %bin] = groupeF391D[groupeF391D.binned==bin]\n",
    "    if len(globals()['groupeF391D_bin%s' %bin]) > 0:\n",
    "        print()\n",
    "        print('Femme de moins de 40 ans catégorie de poids ['+CAT[bin-1]+'] Kg')\n",
    "        for x in globals()['groupeF391D_bin%s' %bin].id:\n",
    "            print(df2[df2.index==x].iloc[0,1]+' '+df2[df2.index==x].iloc[0,2],'       (Index = ',x,')')\n"
   ]
  },
  {
   "cell_type": "code",
   "execution_count": null,
   "metadata": {},
   "outputs": [],
   "source": []
  },
  {
   "cell_type": "code",
   "execution_count": 13,
   "metadata": {
    "tags": []
   },
   "outputs": [
    {
     "output_type": "stream",
     "name": "stdout",
     "text": [
      "Pour la troisième darga:\n\nFemme de plus de 40 ans catégorie de poids 56, 60 Kg\nDUFOUR Isabelle        (Index =  89 )\n\nHomme de moins de 40 ans catégorie de poids 60, 64 Kg\nBORDILLON Julien        (Index =  26 )\n\nHomme de plus de 40 ans catégorie de poids 64, 68 Kg\nAMELIN Frédéric        (Index =  4 )\nSAUVANET  Dominique         (Index =  266 )\n\nHomme de plus de 40 ans catégorie de poids 68, 72 Kg\nGREJNER Andrej        (Index =  130 )\n\nHomme de moins de 40 ans catégorie de poids 68, 72 Kg\nBEN JABER ANIS        (Index =  17 )\nRICHEROLLE Benjamin        (Index =  254 )\n\nHomme de plus de 40 ans catégorie de poids 72, 76 Kg\nLEDAUPHIN Rémy        (Index =  168 )\nNEVES Pedro        (Index =  217 )\nNIGER DIDIER        (Index =  218 )\n\nHomme de plus de 40 ans catégorie de poids 76, 80 Kg\nKONATE Alou        (Index =  155 )\nLAGORIO Christophe         (Index =  156 )\n\nHomme de moins de 40 ans catégorie de poids 76, 80 Kg\nDOYARD Denis        (Index =  87 )\nGRECO RAPHAEL ABDOURAHMAN        (Index =  129 )\n\nHomme de plus de 40 ans catégorie de poids 80, 84 Kg\nJÉDROCHA Frédéric        (Index =  152 )\nTILLARD Eric        (Index =  292 )\n\nHomme de moins de 40 ans catégorie de poids 80, 84 Kg\nLEVEQUE Rénald        (Index =  181 )\n\nHomme de plus de 40 ans catégorie de poids 84, 88 Kg\nBOULANGER NICOLAS        (Index =  30 )\nCHADUTEAU Philippe        (Index =  51 )\n\nHomme de plus de 40 ans catégorie de poids 92, 96 Kg\nLORET Bruno        (Index =  185 )\nOUBOUDINAR Samir        (Index =  224 )\n\nHomme de plus de 40 ans catégorie de poids 96, 100 Kg\nTICHADOU Didier        (Index =  291 )\n\nHomme de plus de 40 ans catégorie de poids 104, 111 Kg\nSCHOTTE Jerome        (Index =  269 )\n"
     ]
    }
   ],
   "source": [
    "# DARGA 3\n",
    "print('Pour la troisième darga:')\n",
    "for bin in labels:\n",
    "    globals()['groupeH403D_bin%s' %bin] = pd.DataFrame()\n",
    "    globals()['groupeH403D_bin%s' %bin] = groupeH403D[groupeH403D.binned==bin]\n",
    "    if len(globals()['groupeH403D_bin%s' %bin]) > 0:\n",
    "        print()\n",
    "        print('Homme de plus de 40 ans catégorie de poids',CAT[bin-1],'Kg')\n",
    "        for x in globals()['groupeH403D_bin%s' %bin].id:\n",
    "            print(df2[df2.index==x].iloc[0,1]+' '+df2[df2.index==x].iloc[0,2],'       (Index = ',x,')')\n",
    "\n",
    "    globals()['groupeH393D_bin%s' %bin] = pd.DataFrame()\n",
    "    globals()['groupeH393D_bin%s' %bin] = groupeH393D[groupeH393D.binned==bin]\n",
    "    if len(globals()['groupeH393D_bin%s' %bin]) > 0:\n",
    "        print()\n",
    "        print('Homme de moins de 40 ans catégorie de poids',CAT[bin-1],'Kg')\n",
    "        for x in globals()['groupeH393D_bin%s' %bin].id:\n",
    "            print(df2[df2.index==x].iloc[0,1]+' '+df2[df2.index==x].iloc[0,2],'       (Index = ',x,')')\n",
    "\n",
    "    globals()['groupeF403D_bin%s' %bin] = pd.DataFrame()\n",
    "    globals()['groupeF403D_bin%s' %bin] = groupeF403D[groupeF403D.binned==bin]\n",
    "    if len(globals()['groupeF403D_bin%s' %bin]) > 0:\n",
    "        print()\n",
    "        print('Femme de plus de 40 ans catégorie de poids',CAT[bin-1],'Kg')\n",
    "        for x in globals()['groupeF403D_bin%s' %bin].id:\n",
    "            print(df2[df2.index==x].iloc[0,1]+' '+df2[df2.index==x].iloc[0,2],'       (Index = ',x,')')\n",
    "\n",
    "    globals()['groupeF393D_bin%s' %bin] = pd.DataFrame()\n",
    "    globals()['groupeF393D_bin%s' %bin] = groupeF393D[groupeF393D.binned==bin]\n",
    "    if len(globals()['groupeF393D_bin%s' %bin]) > 0:\n",
    "        print()\n",
    "        print('Femme de moins de 40 ans catégorie de poids',CAT[bin-1],'Kg')\n",
    "        for x in globals()['groupeF393D_bin%s' %bin].id:\n",
    "            print(df2[df2.index==x].iloc[0,1]+' '+df2[df2.index==x].iloc[0,2],'       (Index = ',x,')')"
   ]
  },
  {
   "cell_type": "code",
   "execution_count": 14,
   "metadata": {
    "tags": []
   },
   "outputs": [
    {
     "output_type": "stream",
     "name": "stdout",
     "text": [
      "Pour la quatrième darga:\n\nFemme de plus de 40 ans catégorie de poids 60, 64 Kg\nGUILLORIT Julie        (Index =  133 )\n\nHomme de plus de 40 ans catégorie de poids 68, 72 Kg\nSOUILLOT Etienne        (Index =  276 )\n\nHomme de moins de 40 ans catégorie de poids 72, 76 Kg\nREMACLE Julien        (Index =  250 )\n\nHomme de plus de 40 ans catégorie de poids 84, 88 Kg\nGONCALVES Hervé        (Index =  128 )\nTRAN Pascal        (Index =  294 )\n\nHomme de plus de 40 ans catégorie de poids 92, 96 Kg\nOUAZINE Djamel        (Index =  223 )\nPANXHAJ Fatmir        (Index =  227 )\n"
     ]
    }
   ],
   "source": [
    "# DARGA 4\n",
    "print('Pour la quatrième darga:')\n",
    "for bin in labels:\n",
    "    globals()['groupeH404D_bin%s' %bin] = pd.DataFrame()\n",
    "    globals()['groupeH404D_bin%s' %bin] = groupeH404D[groupeH404D.binned==bin]\n",
    "    if len(globals()['groupeH404D_bin%s' %bin]) > 0:\n",
    "        print()\n",
    "        print('Homme de plus de 40 ans catégorie de poids',CAT[bin-1],'Kg')\n",
    "        for x in globals()['groupeH404D_bin%s' %bin].id:\n",
    "            print(df2[df2.index==x].iloc[0,1]+' '+df2[df2.index==x].iloc[0,2],'       (Index = ',x,')')\n",
    "\n",
    "    globals()['groupeH394D_bin%s' %bin] = pd.DataFrame()\n",
    "    globals()['groupeH394D_bin%s' %bin] = groupeH394D[groupeH394D.binned==bin]\n",
    "    if len(globals()['groupeH394D_bin%s' %bin]) > 0:\n",
    "        print()\n",
    "        print('Homme de moins de 40 ans catégorie de poids',CAT[bin-1],'Kg')\n",
    "        for x in globals()['groupeH394D_bin%s' %bin].id:\n",
    "            print(df2[df2.index==x].iloc[0,1]+' '+df2[df2.index==x].iloc[0,2],'       (Index = ',x,')')\n",
    "\n",
    "    globals()['groupeF404D_bin%s' %bin] = pd.DataFrame()\n",
    "    globals()['groupeF404D_bin%s' %bin] = groupeF404D[groupeF404D.binned==bin]\n",
    "    if len(globals()['groupeF404D_bin%s' %bin]) > 0:\n",
    "        print()\n",
    "        print('Femme de plus de 40 ans catégorie de poids',CAT[bin-1],'Kg')\n",
    "        for x in globals()['groupeF404D_bin%s' %bin].id:\n",
    "            print(df2[df2.index==x].iloc[0,1]+' '+df2[df2.index==x].iloc[0,2],'       (Index = ',x,')')\n",
    "\n",
    "    globals()['groupeF394D_bin%s' %bin] = pd.DataFrame()\n",
    "    globals()['groupeF394D_bin%s' %bin] = groupeF394D[groupeF394D.binned==bin]\n",
    "    if len(globals()['groupeF394D_bin%s' %bin]) > 0:\n",
    "        print()\n",
    "        print('Femme de moins de 40 ans catégorie de poids',CAT[bin-1],'Kg')\n",
    "        for x in globals()['groupeF394D_bin%s' %bin].id:\n",
    "            print(df2[df2.index==x].iloc[0,1]+' '+df2[df2.index==x].iloc[0,2],'       (Index = ',x,')')"
   ]
  },
  {
   "cell_type": "code",
   "execution_count": 13,
   "metadata": {
    "tags": []
   },
   "outputs": [],
   "source": []
  },
  {
   "cell_type": "code",
   "execution_count": 15,
   "metadata": {},
   "outputs": [
    {
     "output_type": "execute_result",
     "data": {
      "text/plain": [
       "     Civilité  age                  Club  Darga  Poids   id binned\n",
       "58          0    0                 AMA95      1     46   58      1\n",
       "23          0    0                 KMC92      1     50   23      2\n",
       "188         0    0                 KMC92      1     52  188      2\n",
       "34          0    0              BODY VIP      1     54   34      3\n",
       "86          0    0             KM AMIENS      1     54   86      3\n",
       "3           0    0                  KM75      1     60    3      4\n",
       "61          0    0               KM LYON      1     60   61      4\n",
       "45          0    0       SELF-DEFENSE 45      1     62   45      5\n",
       "48          0    0                  KMPO      1     63   48      5\n",
       "229         0    0  Ecole dionysienne KM      1     62  229      5\n",
       "25          0    0                  EKMC      1     66   25      6\n",
       "234         0    0           KM COACHING      1     66  234      6"
      ],
      "text/html": "<div>\n<style scoped>\n    .dataframe tbody tr th:only-of-type {\n        vertical-align: middle;\n    }\n\n    .dataframe tbody tr th {\n        vertical-align: top;\n    }\n\n    .dataframe thead th {\n        text-align: right;\n    }\n</style>\n<table border=\"1\" class=\"dataframe\">\n  <thead>\n    <tr style=\"text-align: right;\">\n      <th></th>\n      <th>Civilité</th>\n      <th>age</th>\n      <th>Club</th>\n      <th>Darga</th>\n      <th>Poids</th>\n      <th>id</th>\n      <th>binned</th>\n    </tr>\n  </thead>\n  <tbody>\n    <tr>\n      <th>58</th>\n      <td>0</td>\n      <td>0</td>\n      <td>AMA95</td>\n      <td>1</td>\n      <td>46</td>\n      <td>58</td>\n      <td>1</td>\n    </tr>\n    <tr>\n      <th>23</th>\n      <td>0</td>\n      <td>0</td>\n      <td>KMC92</td>\n      <td>1</td>\n      <td>50</td>\n      <td>23</td>\n      <td>2</td>\n    </tr>\n    <tr>\n      <th>188</th>\n      <td>0</td>\n      <td>0</td>\n      <td>KMC92</td>\n      <td>1</td>\n      <td>52</td>\n      <td>188</td>\n      <td>2</td>\n    </tr>\n    <tr>\n      <th>34</th>\n      <td>0</td>\n      <td>0</td>\n      <td>BODY VIP</td>\n      <td>1</td>\n      <td>54</td>\n      <td>34</td>\n      <td>3</td>\n    </tr>\n    <tr>\n      <th>86</th>\n      <td>0</td>\n      <td>0</td>\n      <td>KM AMIENS</td>\n      <td>1</td>\n      <td>54</td>\n      <td>86</td>\n      <td>3</td>\n    </tr>\n    <tr>\n      <th>3</th>\n      <td>0</td>\n      <td>0</td>\n      <td>KM75</td>\n      <td>1</td>\n      <td>60</td>\n      <td>3</td>\n      <td>4</td>\n    </tr>\n    <tr>\n      <th>61</th>\n      <td>0</td>\n      <td>0</td>\n      <td>KM LYON</td>\n      <td>1</td>\n      <td>60</td>\n      <td>61</td>\n      <td>4</td>\n    </tr>\n    <tr>\n      <th>45</th>\n      <td>0</td>\n      <td>0</td>\n      <td>SELF-DEFENSE 45</td>\n      <td>1</td>\n      <td>62</td>\n      <td>45</td>\n      <td>5</td>\n    </tr>\n    <tr>\n      <th>48</th>\n      <td>0</td>\n      <td>0</td>\n      <td>KMPO</td>\n      <td>1</td>\n      <td>63</td>\n      <td>48</td>\n      <td>5</td>\n    </tr>\n    <tr>\n      <th>229</th>\n      <td>0</td>\n      <td>0</td>\n      <td>Ecole dionysienne KM</td>\n      <td>1</td>\n      <td>62</td>\n      <td>229</td>\n      <td>5</td>\n    </tr>\n    <tr>\n      <th>25</th>\n      <td>0</td>\n      <td>0</td>\n      <td>EKMC</td>\n      <td>1</td>\n      <td>66</td>\n      <td>25</td>\n      <td>6</td>\n    </tr>\n    <tr>\n      <th>234</th>\n      <td>0</td>\n      <td>0</td>\n      <td>KM COACHING</td>\n      <td>1</td>\n      <td>66</td>\n      <td>234</td>\n      <td>6</td>\n    </tr>\n  </tbody>\n</table>\n</div>"
     },
     "metadata": {},
     "execution_count": 15
    }
   ],
   "source": [
    "OUTLIERS_1 = []\n",
    "OUTLIERS_2 = []\n",
    "OUTLIERS_3 = []\n",
    "OUTLIERS_4 = []\n",
    "VERIF_INDEX = []\n",
    "for i in range(len(df1)+1):\n",
    "    globals()['JURY_%s' %i] = []\n",
    "\n",
    "groupeF391D.sort_values('binned')"
   ]
  },
  {
   "cell_type": "code",
   "execution_count": 16,
   "metadata": {},
   "outputs": [
    {
     "output_type": "execute_result",
     "data": {
      "text/plain": [
       "  N° Jury               Jury1    Club                Jury2  \\\n",
       "5   Jury6          VEILLERANT   KMC92     PLENAMENTE Denis   \n",
       "6   Jury7     SOUSSAND Cédric    EKMC        TAGLIANA Eric   \n",
       "7   Jury8  BERTHOMMIER Gilles  ECKM93  DELAMESIERE Arnauld   \n",
       "8   Jury9    GUILBERT Olivier    KM49         GUIOT Maxime   \n",
       "\n",
       "                      Club.1  Gene1  Gene2  PASSAGE1  PASSAGE2  PASSAGE3  \\\n",
       "5                       KMUD     37     45         1         1         0   \n",
       "6                      KMC92     16     37         1         1         0   \n",
       "7                       AKMV     13      6         1         1         0   \n",
       "8  AMICALE POMPIERS MULHOUSE     32      7         1         1         0   \n",
       "\n",
       "   PASSAGE4  \n",
       "5         0  \n",
       "6         0  \n",
       "7         0  \n",
       "8         0  "
      ],
      "text/html": "<div>\n<style scoped>\n    .dataframe tbody tr th:only-of-type {\n        vertical-align: middle;\n    }\n\n    .dataframe tbody tr th {\n        vertical-align: top;\n    }\n\n    .dataframe thead th {\n        text-align: right;\n    }\n</style>\n<table border=\"1\" class=\"dataframe\">\n  <thead>\n    <tr style=\"text-align: right;\">\n      <th></th>\n      <th>N° Jury</th>\n      <th>Jury1</th>\n      <th>Club</th>\n      <th>Jury2</th>\n      <th>Club.1</th>\n      <th>Gene1</th>\n      <th>Gene2</th>\n      <th>PASSAGE1</th>\n      <th>PASSAGE2</th>\n      <th>PASSAGE3</th>\n      <th>PASSAGE4</th>\n    </tr>\n  </thead>\n  <tbody>\n    <tr>\n      <th>5</th>\n      <td>Jury6</td>\n      <td>VEILLERANT</td>\n      <td>KMC92</td>\n      <td>PLENAMENTE Denis</td>\n      <td>KMUD</td>\n      <td>37</td>\n      <td>45</td>\n      <td>1</td>\n      <td>1</td>\n      <td>0</td>\n      <td>0</td>\n    </tr>\n    <tr>\n      <th>6</th>\n      <td>Jury7</td>\n      <td>SOUSSAND Cédric</td>\n      <td>EKMC</td>\n      <td>TAGLIANA Eric</td>\n      <td>KMC92</td>\n      <td>16</td>\n      <td>37</td>\n      <td>1</td>\n      <td>1</td>\n      <td>0</td>\n      <td>0</td>\n    </tr>\n    <tr>\n      <th>7</th>\n      <td>Jury8</td>\n      <td>BERTHOMMIER Gilles</td>\n      <td>ECKM93</td>\n      <td>DELAMESIERE Arnauld</td>\n      <td>AKMV</td>\n      <td>13</td>\n      <td>6</td>\n      <td>1</td>\n      <td>1</td>\n      <td>0</td>\n      <td>0</td>\n    </tr>\n    <tr>\n      <th>8</th>\n      <td>Jury9</td>\n      <td>GUILBERT Olivier</td>\n      <td>KM49</td>\n      <td>GUIOT Maxime</td>\n      <td>AMICALE POMPIERS MULHOUSE</td>\n      <td>32</td>\n      <td>7</td>\n      <td>1</td>\n      <td>1</td>\n      <td>0</td>\n      <td>0</td>\n    </tr>\n  </tbody>\n</table>\n</div>"
     },
     "metadata": {},
     "execution_count": 16
    }
   ],
   "source": [
    "df1.iloc[5:9,:]"
   ]
  },
  {
   "cell_type": "code",
   "execution_count": 17,
   "metadata": {
    "tags": []
   },
   "outputs": [],
   "source": [
    "def matching(_compteur,df,_flag,_darga):\n",
    "    df = df.sort_values('binned')\n",
    "    print('\\nLongeur df',len(df),end='')\n",
    "    print(' --  compteur à ',_compteur)\n",
    "    for i in range(0,len(df)):\n",
    "        \n",
    "        if _flag == 1:\n",
    "            _flag = 0\n",
    "            continue\n",
    "        \n",
    "        \n",
    "        if _compteur > _end:\n",
    "            _compteur = _start\n",
    "        \n",
    "        if len(df.iloc[i:,:]) <= 2:\n",
    "            globals()['OUTLIERS_%s' %_darga].append(df2.iloc[[df.index[i]]])\n",
    "            VERIF_INDEX.append(df2.iloc[[df.index[i]]].index[0])\n",
    "            try:\n",
    "                globals()['OUTLIERS_%s' %_darga].append(df2.iloc[[df.index[i+1]]])\n",
    "                VERIF_INDEX.append(df2.iloc[[df.index[i+1]]].index[0])\n",
    "                break\n",
    "            except:\n",
    "                pass\n",
    "            continue\n",
    "\n",
    "        if df.iloc[i,:].binned != df.iloc[i+1,:].binned:\n",
    "            globals()['OUTLIERS_%s' %_darga].append(df2.iloc[[df.index[i]]])\n",
    "            VERIF_INDEX.append(df2.iloc[[df.index[i]]].index[0])\n",
    "            continue\n",
    "\n",
    "        if (df.iloc[i]['binned'] == df.iloc[i+1]['binned']) \\\n",
    "            and (df.iloc[i]['Club'] != df1.iloc[_compteur-1]['Club']) \\\n",
    "                and (df.iloc[i]['Club'] != df1.iloc[_compteur-1]['Club.1']) \\\n",
    "                    and (df.iloc[i+1]['Club'] != df1.iloc[_compteur-1]['Club']) \\\n",
    "                        and (df.iloc[i+1]['Club'] != df1.iloc[_compteur-1]['Club.1']) :\n",
    "            globals()['JURY_%s' %_compteur].append(df2.iloc[[df.index[i]]])\n",
    "            globals()['JURY_%s' %_compteur].append(df2.iloc[[df.index[i+1]]])\n",
    "            VERIF_INDEX.append(df2.iloc[[df.index[i]]].index[0])\n",
    "            VERIF_INDEX.append(df2.iloc[[df.index[i+1]]].index[0])\n",
    "\n",
    "            _compteur += 1\n",
    "            _flag = 1\n",
    "            continue\n",
    "        else:\n",
    "            _compteur += 1\n",
    "            \n",
    "            if _compteur > _end:\n",
    "                _compteur = _start\n",
    "            if (df.iloc[i]['binned'] == df.iloc[i+1]['binned']) \\\n",
    "            and (df.iloc[i]['Club'] != df1.iloc[_compteur-1]['Club']) \\\n",
    "                and (df.iloc[i]['Club'] != df1.iloc[_compteur-1]['Club.1']) \\\n",
    "                    and (df.iloc[i+1]['Club'] != df1.iloc[_compteur-1]['Club']) \\\n",
    "                        and (df.iloc[i+1]['Club'] != df1.iloc[_compteur-1]['Club.1']) :\n",
    "                globals()['JURY_%s' %_compteur].append(df2.iloc[[df.index[i]]])\n",
    "                globals()['JURY_%s' %_compteur].append(df2.iloc[[df.index[i+1]]])\n",
    "                VERIF_INDEX.append(df2.iloc[[df.index[i]]].index[0])\n",
    "                VERIF_INDEX.append(df2.iloc[[df.index[i+1]]].index[0])\n",
    "                _compteur += 1\n",
    "                _flag = 1\n",
    "                continue\n",
    "            else:\n",
    "                _compteur += 1\n",
    "                \n",
    "                if _compteur > _end:\n",
    "                    _compteur = _start\n",
    "                if (df.iloc[i]['binned'] == df.iloc[i+1]['binned']) \\\n",
    "            and (df.iloc[i]['Club'] != df1.iloc[_compteur-1]['Club']) \\\n",
    "                and (df.iloc[i]['Club'] != df1.iloc[_compteur-1]['Club.1']) \\\n",
    "                    and (df.iloc[i+1]['Club'] != df1.iloc[_compteur-1]['Club']) \\\n",
    "                        and (df.iloc[i+1]['Club'] != df1.iloc[_compteur-1]['Club.1']) :\n",
    "                    globals()['JURY_%s' %_compteur].append(df2.iloc[[df.index[i]]])\n",
    "                    globals()['JURY_%s' %_compteur].append(df2.iloc[[df.index[i+1]]])\n",
    "                    VERIF_INDEX.append(df2.iloc[[df.index[i]]].index[0])\n",
    "                    VERIF_INDEX.append(df2.iloc[[df.index[i+1]]].index[0])\n",
    "                    _compteur += 1\n",
    "                    _flag = 1\n",
    "                    continue\n",
    "                else:\n",
    "                    _compteur += 1\n",
    "                    \n",
    "                    if _compteur > _end:\n",
    "                        _compteur = _start\n",
    "                    if (df.iloc[i]['binned'] == df.iloc[i+1]['binned']) \\\n",
    "                and (df.iloc[i]['Club'] != df1.iloc[_compteur-1]['Club']) \\\n",
    "                    and (df.iloc[i]['Club'] != df1.iloc[_compteur-1]['Club.1']) \\\n",
    "                        and (df.iloc[i+1]['Club'] != df1.iloc[_compteur-1]['Club']) \\\n",
    "                            and (df.iloc[i+1]['Club'] != df1.iloc[_compteur-1]['Club.1']) :\n",
    "                        globals()['JURY_%s' %_compteur].append(df2.iloc[[df.index[i]]])\n",
    "                        globals()['JURY_%s' %_compteur].append(df2.iloc[[df.index[i+1]]])\n",
    "                        VERIF_INDEX.append(df2.iloc[[df.index[i]]].index[0])\n",
    "                        VERIF_INDEX.append(df2.iloc[[df.index[i+1]]].index[0])\n",
    "                        _compteur += 1\n",
    "                        _flag = 1\n",
    "                        continue\n",
    "                    else:\n",
    "                        \n",
    "                        globals()['OUTLIERS_%s' %_darga].append(df2.iloc[[df.index[i]]])\n",
    "                        VERIF_INDEX.append(df2.iloc[[df.index[i+1]]].index[0])\n",
    "                        continue\n",
    "    \n",
    "    \n",
    "    return(_compteur,df,_flag)"
   ]
  },
  {
   "cell_type": "code",
   "execution_count": null,
   "metadata": {},
   "outputs": [],
   "source": []
  },
  {
   "cell_type": "code",
   "execution_count": null,
   "metadata": {},
   "outputs": [],
   "source": []
  },
  {
   "cell_type": "code",
   "execution_count": 18,
   "metadata": {
    "tags": []
   },
   "outputs": [
    {
     "output_type": "stream",
     "name": "stdout",
     "text": [
      "\n",
      "Longeur df 12 --  compteur à  17\n",
      "\n",
      "Longeur df 7 --  compteur à  21\n",
      "\n",
      "Longeur df 56 --  compteur à  23\n",
      "\n",
      "Longeur df 134 --  compteur à  30\n",
      "Longueur des binomes 188\n",
      "Longueur outliers 21\n",
      "Total 209 sur 209\n",
      "\n",
      "Pour le jury 17  longueur à:  12\n",
      "Pour le jury 18  longueur à:  12\n",
      "Pour le jury 19  longueur à:  12\n",
      "Pour le jury 20  longueur à:  8\n",
      "Pour le jury 21  longueur à:  12\n",
      "Pour le jury 22  longueur à:  10\n",
      "Pour le jury 23  longueur à:  10\n",
      "Pour le jury 24  longueur à:  12\n",
      "Pour le jury 25  longueur à:  8\n",
      "Pour le jury 26  longueur à:  12\n",
      "Pour le jury 27  longueur à:  12\n",
      "Pour le jury 28  longueur à:  12\n",
      "Pour le jury 29  longueur à:  12\n",
      "Pour le jury 30  longueur à:  10\n",
      "Pour le jury 31  longueur à:  8\n",
      "Pour le jury 32  longueur à:  10\n",
      "Pour le jury 33  longueur à:  6\n",
      "Pour le jury 34  longueur à:  10\n",
      "CPU times: user 485 ms, sys: 13.8 ms, total: 498 ms\n",
      "Wall time: 488 ms\n"
     ]
    }
   ],
   "source": [
    "%%time\n",
    "# DARGA 1\n",
    "_darga = 1\n",
    "_start = 17\n",
    "_end = 34\n",
    "_compteur = _start\n",
    "_flag = 0\n",
    "_compteur,df,_flag = matching(_compteur,groupeF391D,_flag,_darga)\n",
    "\n",
    "_compteur,df,_flag  = matching(_compteur,groupeF401D,_flag,_darga)\n",
    "\n",
    "_compteur,df,_flag  = matching(_compteur,groupeH391D,_flag,_darga)\n",
    "\n",
    "_compteur,df,_flag  = matching(_compteur,groupeH401D,_flag,_darga)\n",
    "\n",
    "_verif = 0\n",
    "for n in range(_start,_end+1):\n",
    "    _verif += len(globals()['JURY_%s' %n])\n",
    "\n",
    "print('Longueur des binomes',_verif)\n",
    "print('Longueur outliers',len(OUTLIERS_1))\n",
    "print('Total',_verif + len(OUTLIERS_1),'sur',candidats[candidats.Darga==1].shape[0])\n",
    "print()\n",
    "for n in range(_start,_end+1):\n",
    "    print(\"Pour le jury\",n,\" longueur à: \",len(globals()['JURY_%s' %n]))"
   ]
  },
  {
   "cell_type": "code",
   "execution_count": null,
   "metadata": {},
   "outputs": [],
   "source": []
  },
  {
   "cell_type": "code",
   "execution_count": 19,
   "metadata": {
    "tags": []
   },
   "outputs": [
    {
     "output_type": "stream",
     "name": "stdout",
     "text": [
      "\nLongeur df 2 --  compteur à  6\n\nLongeur df 1 --  compteur à  6\n\nLongeur df 16 --  compteur à  6\n\nLongeur df 50 --  compteur à  13\nLongueur des binomes 52\nLongueur outliers 17\nTotal 69 sur 69\nPour le jury 6  longueur à:  4\nPour le jury 7  longueur à:  6\nPour le jury 8  longueur à:  6\nPour le jury 9  longueur à:  6\nPour le jury 10  longueur à:  6\nPour le jury 11  longueur à:  6\nPour le jury 12  longueur à:  4\nPour le jury 13  longueur à:  4\nPour le jury 14  longueur à:  2\nPour le jury 15  longueur à:  4\nPour le jury 16  longueur à:  4\nCPU times: user 154 ms, sys: 6.07 ms, total: 160 ms\nWall time: 156 ms\n"
     ]
    }
   ],
   "source": [
    "%%time\n",
    "# DARGA 2\n",
    "\n",
    "_darga = 2\n",
    "_start = 6\n",
    "_end = 16\n",
    "_compteur = _start\n",
    "_flag = 0\n",
    "_compteur,df,_flag = matching(_compteur,groupeF392D,_flag,_darga)\n",
    "\n",
    "_compteur,df,_flag  = matching(_compteur,groupeF402D,_flag,_darga)\n",
    "\n",
    "_compteur,df,_flag  = matching(_compteur,groupeH392D,_flag,_darga)\n",
    "\n",
    "_compteur,df,_flag  = matching(_compteur,groupeH402D,_flag,_darga)\n",
    "\n",
    "_verif = 0\n",
    "for n in range(_start,_end+1):\n",
    "    _verif += len(globals()['JURY_%s' %n])\n",
    "\n",
    "print('Longueur des binomes',_verif)\n",
    "print('Longueur outliers',len(OUTLIERS_2))\n",
    "print('Total',_verif + len(OUTLIERS_2),'sur',candidats[candidats.Darga==2].shape[0])\n",
    "\n",
    "for n in range(_start,_end+1):\n",
    "    print(\"Pour le jury\",n,\" longueur à: \",len(globals()['JURY_%s' %n]))"
   ]
  },
  {
   "cell_type": "code",
   "execution_count": null,
   "metadata": {},
   "outputs": [],
   "source": []
  },
  {
   "cell_type": "code",
   "execution_count": 20,
   "metadata": {
    "tags": []
   },
   "outputs": [
    {
     "output_type": "stream",
     "name": "stdout",
     "text": [
      "\nLongeur df 0 --  compteur à  3\n\nLongeur df 1 --  compteur à  3\n\nLongeur df 6 --  compteur à  3\n\nLongeur df 16 --  compteur à  5\nLongueur des binomes 16\nLongueur outliers 7\nTotal 23 sur 23\nPour le jury 3  longueur à:  6\nPour le jury 4  longueur à:  6\nPour le jury 5  longueur à:  4\nCPU times: user 57.3 ms, sys: 4.88 ms, total: 62.2 ms\nWall time: 58.4 ms\n"
     ]
    }
   ],
   "source": [
    "%%time\n",
    "# DARGA 3\n",
    "_darga = 3\n",
    "_start = 3\n",
    "_end = 5\n",
    "_compteur = _start\n",
    "_flag = 0\n",
    "_compteur,df,_flag = matching(_compteur,groupeF393D,_flag,_darga)\n",
    "\n",
    "_compteur,df,_flag  = matching(_compteur,groupeF403D,_flag,_darga)\n",
    "\n",
    "_compteur,df,_flag  = matching(_compteur,groupeH393D,_flag,_darga)\n",
    "\n",
    "_compteur,df,_flag  = matching(_compteur,groupeH403D,_flag,_darga)\n",
    "\n",
    "_verif = 0\n",
    "for n in range(_start,_end+1):\n",
    "    _verif += len(globals()['JURY_%s' %n])\n",
    "\n",
    "print('Longueur des binomes',_verif)\n",
    "print('Longueur outliers',len(OUTLIERS_3))\n",
    "print('Total',_verif + len(OUTLIERS_3),'sur',candidats[candidats.Darga==3].shape[0])\n",
    "\n",
    "for n in range(_start,_end+1):\n",
    "    print(\"Pour le jury\",n,\" longueur à: \",len(globals()['JURY_%s' %n]))"
   ]
  },
  {
   "cell_type": "code",
   "execution_count": null,
   "metadata": {},
   "outputs": [],
   "source": []
  },
  {
   "cell_type": "code",
   "execution_count": 21,
   "metadata": {
    "tags": []
   },
   "outputs": [
    {
     "output_type": "stream",
     "name": "stdout",
     "text": [
      "\nLongeur df 0 --  compteur à  1\n\nLongeur df 1 --  compteur à  1\n\nLongeur df 1 --  compteur à  1\n\nLongeur df 5 --  compteur à  1\nLongueur des binomes 2\nLongueur outliers 5\nTotal 7 sur 7\nPour le jury 1  longueur à:  2\nCPU times: user 21.6 ms, sys: 4.06 ms, total: 25.7 ms\nWall time: 22.9 ms\n"
     ]
    }
   ],
   "source": [
    "%%time\n",
    "# DARGA 4\n",
    "_darga = 4\n",
    "_start = 1\n",
    "_end = 2\n",
    "_compteur = _start\n",
    "_flag = 0\n",
    "_compteur,df,_flag = matching(_compteur,groupeF394D,_flag,_darga)\n",
    "\n",
    "_compteur,df,_flag  = matching(_compteur,groupeF404D,_flag,_darga)\n",
    "\n",
    "_compteur,df,_flag  = matching(_compteur,groupeH394D,_flag,_darga)\n",
    "\n",
    "_compteur,df,_flag  = matching(_compteur,groupeH404D,_flag,_darga)\n",
    "\n",
    "_verif = 0\n",
    "for n in range(_start,_end+1):\n",
    "    _verif += len(globals()['JURY_%s' %n])\n",
    "\n",
    "print('Longueur des binomes',_verif)\n",
    "print('Longueur outliers',len(OUTLIERS_4))\n",
    "print('Total',_verif + len(OUTLIERS_4),'sur',candidats[candidats.Darga==4].shape[0])\n",
    "\n",
    "for n in range(_start,_end):\n",
    "    print(\"Pour le jury\",n,\" longueur à: \",len(globals()['JURY_%s' %n]))"
   ]
  },
  {
   "cell_type": "code",
   "execution_count": 22,
   "metadata": {
    "tags": []
   },
   "outputs": [
    {
     "output_type": "stream",
     "name": "stdout",
     "text": [
      "CPU times: user 585 ms, sys: 16.9 ms, total: 602 ms\nWall time: 609 ms\n"
     ]
    }
   ],
   "source": [
    "%%time\n",
    "for foo in range(len(df1)):\n",
    "    df_res = pd.DataFrame()\n",
    "    for i in range(len(globals()['JURY_%s' %foo])):\n",
    "        df_res = pd.concat((df_res,globals()['JURY_%s' %foo][i]))\n",
    "    df_res.to_csv('Jurys/Jury_'+str(foo)+'.csv')\n",
    "    "
   ]
  },
  {
   "cell_type": "code",
   "execution_count": 23,
   "metadata": {
    "tags": []
   },
   "outputs": [
    {
     "output_type": "stream",
     "name": "stdout",
     "text": [
      "CPU times: user 112 ms, sys: 6.09 ms, total: 118 ms\nWall time: 115 ms\n"
     ]
    }
   ],
   "source": [
    "%%time\n",
    "for foo in range(1,4):\n",
    "    df_out = pd.DataFrame()\n",
    "    for i in range(len(globals()['OUTLIERS_%s' %foo])):\n",
    "        df_out = pd.concat((df_out,globals()['OUTLIERS_%s' %foo][i]))\n",
    "    \n",
    "    df_out.to_csv('Jurys/Outliers_'+str(foo)+'.csv')"
   ]
  },
  {
   "cell_type": "code",
   "execution_count": null,
   "metadata": {},
   "outputs": [],
   "source": [
    "# TO DO : NOUVELLE IMPLEMENTATION _compteur POUR REPARTIR SELON SOTR_VALUES DES LEN() TOUJOURS EN PREMIER"
   ]
  }
 ]
}