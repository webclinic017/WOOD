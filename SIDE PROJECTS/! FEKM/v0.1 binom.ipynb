{
 "metadata": {
  "language_info": {
   "codemirror_mode": {
    "name": "ipython",
    "version": 3
   },
   "file_extension": ".py",
   "mimetype": "text/x-python",
   "name": "python",
   "nbconvert_exporter": "python",
   "pygments_lexer": "ipython3",
   "version": "3.7.6-final"
  },
  "orig_nbformat": 2,
  "kernelspec": {
   "name": "Python 3.7.6 64-bit ('FinTech': conda)",
   "display_name": "Python 3.7.6 64-bit ('FinTech': conda)",
   "metadata": {
    "interpreter": {
     "hash": "368096bf5c67b64f7235f072bcfb31703d805fe6f208ffd9e6f7c1070c0bd16b"
    }
   }
  }
 },
 "nbformat": 4,
 "nbformat_minor": 2,
 "cells": [
  {
   "cell_type": "code",
   "execution_count": 1,
   "metadata": {},
   "outputs": [],
   "source": [
    "import pandas as pd\n",
    "from matplotlib import pyplot as plt\n",
    "import time"
   ]
  },
  {
   "cell_type": "code",
   "execution_count": 2,
   "metadata": {},
   "outputs": [
    {
     "output_type": "execute_result",
     "data": {
      "text/plain": "  N° Jury             Jury1   Club                    Jury2      Club.1\n0   Jury1    DE BAERE Teddy   CFKM  ROGUES DE FURSAC Arnaud        ECKM\n1   Jury2  SCHUSTER Cyrille  KMC92           ALLOUCHE David         KMM\n2   Jury3    HASSINE Gilles   ASKM              HUVET Jimmy  KM MINDSET\n3   Jury4          ATIA Léo  KMUD           OLIVEIRA Cédric      AKMC91\n4   Jury5  COHEN Jean-David  KmnCo           DAL PONT Marco        KM14",
      "text/html": "<div>\n<style scoped>\n    .dataframe tbody tr th:only-of-type {\n        vertical-align: middle;\n    }\n\n    .dataframe tbody tr th {\n        vertical-align: top;\n    }\n\n    .dataframe thead th {\n        text-align: right;\n    }\n</style>\n<table border=\"1\" class=\"dataframe\">\n  <thead>\n    <tr style=\"text-align: right;\">\n      <th></th>\n      <th>N° Jury</th>\n      <th>Jury1</th>\n      <th>Club</th>\n      <th>Jury2</th>\n      <th>Club.1</th>\n    </tr>\n  </thead>\n  <tbody>\n    <tr>\n      <th>0</th>\n      <td>Jury1</td>\n      <td>DE BAERE Teddy</td>\n      <td>CFKM</td>\n      <td>ROGUES DE FURSAC Arnaud</td>\n      <td>ECKM</td>\n    </tr>\n    <tr>\n      <th>1</th>\n      <td>Jury2</td>\n      <td>SCHUSTER Cyrille</td>\n      <td>KMC92</td>\n      <td>ALLOUCHE David</td>\n      <td>KMM</td>\n    </tr>\n    <tr>\n      <th>2</th>\n      <td>Jury3</td>\n      <td>HASSINE Gilles</td>\n      <td>ASKM</td>\n      <td>HUVET Jimmy</td>\n      <td>KM MINDSET</td>\n    </tr>\n    <tr>\n      <th>3</th>\n      <td>Jury4</td>\n      <td>ATIA Léo</td>\n      <td>KMUD</td>\n      <td>OLIVEIRA Cédric</td>\n      <td>AKMC91</td>\n    </tr>\n    <tr>\n      <th>4</th>\n      <td>Jury5</td>\n      <td>COHEN Jean-David</td>\n      <td>KmnCo</td>\n      <td>DAL PONT Marco</td>\n      <td>KM14</td>\n    </tr>\n  </tbody>\n</table>\n</div>"
     },
     "metadata": {},
     "execution_count": 2
    }
   ],
   "source": [
    "df1 = pd.read_excel('Jurys_ZN_2020.xlt')\n",
    "df1.head()"
   ]
  },
  {
   "cell_type": "code",
   "execution_count": 3,
   "metadata": {},
   "outputs": [
    {
     "output_type": "execute_result",
     "data": {
      "text/plain": "  Civilité         Nom      Prénom                        Email  \\\n0       M.  ABDELMALEK  Abdelhafid   abdelmalek.hafid@gmail.com   \n1       M.      ABENZA     Laurent     laurent.abenza@gmail.com   \n2       M.    ALBAREDE      Cédric   nickylarson2712@hotmail.fr   \n3      Mme    ALENGRIN    Clémence  clemence.alengrin@gmail.com   \n4       M.      AMELIN    Frédéric    frederic.amelin@gmail.com   \n\n        Téléphone       Date naissance Date examen  age  >=40     Club  \\\n0  06.75.49.88.98  1970-08-11 00:00:00  2021-01-30   50   1.0      DSA   \n1  06.20.86.56.58  1971-09-30 00:00:00  2021-01-30   49   1.0  KM LYON   \n2  06.60.07.54.06  1981-10-25 00:00:00  2021-01-30   39   NaN     ENKM   \n3  06.73.34.18.67  1988-10-31 00:00:00  2021-01-30   32   NaN     KM75   \n4  06.34.41.58.23  1980-06-27 00:00:00  2021-01-30   40   1.0    KMC92   \n\n      Darga  Poids       UV Table Jury  \n0  Exam. 1d     85      NaN     Jury21  \n1  Exam. 1d     72  2,3,5,6    Jury 20  \n2  Exam. 1d    110      NaN      Jury8  \n3  Exam. 1d     60      NaN     Jury16  \n4  Exam. 3D     68      NaN      Jury3  ",
      "text/html": "<div>\n<style scoped>\n    .dataframe tbody tr th:only-of-type {\n        vertical-align: middle;\n    }\n\n    .dataframe tbody tr th {\n        vertical-align: top;\n    }\n\n    .dataframe thead th {\n        text-align: right;\n    }\n</style>\n<table border=\"1\" class=\"dataframe\">\n  <thead>\n    <tr style=\"text-align: right;\">\n      <th></th>\n      <th>Civilité</th>\n      <th>Nom</th>\n      <th>Prénom</th>\n      <th>Email</th>\n      <th>Téléphone</th>\n      <th>Date naissance</th>\n      <th>Date examen</th>\n      <th>age</th>\n      <th>&gt;=40</th>\n      <th>Club</th>\n      <th>Darga</th>\n      <th>Poids</th>\n      <th>UV</th>\n      <th>Table Jury</th>\n    </tr>\n  </thead>\n  <tbody>\n    <tr>\n      <th>0</th>\n      <td>M.</td>\n      <td>ABDELMALEK</td>\n      <td>Abdelhafid</td>\n      <td>abdelmalek.hafid@gmail.com</td>\n      <td>06.75.49.88.98</td>\n      <td>1970-08-11 00:00:00</td>\n      <td>2021-01-30</td>\n      <td>50</td>\n      <td>1.0</td>\n      <td>DSA</td>\n      <td>Exam. 1d</td>\n      <td>85</td>\n      <td>NaN</td>\n      <td>Jury21</td>\n    </tr>\n    <tr>\n      <th>1</th>\n      <td>M.</td>\n      <td>ABENZA</td>\n      <td>Laurent</td>\n      <td>laurent.abenza@gmail.com</td>\n      <td>06.20.86.56.58</td>\n      <td>1971-09-30 00:00:00</td>\n      <td>2021-01-30</td>\n      <td>49</td>\n      <td>1.0</td>\n      <td>KM LYON</td>\n      <td>Exam. 1d</td>\n      <td>72</td>\n      <td>2,3,5,6</td>\n      <td>Jury 20</td>\n    </tr>\n    <tr>\n      <th>2</th>\n      <td>M.</td>\n      <td>ALBAREDE</td>\n      <td>Cédric</td>\n      <td>nickylarson2712@hotmail.fr</td>\n      <td>06.60.07.54.06</td>\n      <td>1981-10-25 00:00:00</td>\n      <td>2021-01-30</td>\n      <td>39</td>\n      <td>NaN</td>\n      <td>ENKM</td>\n      <td>Exam. 1d</td>\n      <td>110</td>\n      <td>NaN</td>\n      <td>Jury8</td>\n    </tr>\n    <tr>\n      <th>3</th>\n      <td>Mme</td>\n      <td>ALENGRIN</td>\n      <td>Clémence</td>\n      <td>clemence.alengrin@gmail.com</td>\n      <td>06.73.34.18.67</td>\n      <td>1988-10-31 00:00:00</td>\n      <td>2021-01-30</td>\n      <td>32</td>\n      <td>NaN</td>\n      <td>KM75</td>\n      <td>Exam. 1d</td>\n      <td>60</td>\n      <td>NaN</td>\n      <td>Jury16</td>\n    </tr>\n    <tr>\n      <th>4</th>\n      <td>M.</td>\n      <td>AMELIN</td>\n      <td>Frédéric</td>\n      <td>frederic.amelin@gmail.com</td>\n      <td>06.34.41.58.23</td>\n      <td>1980-06-27 00:00:00</td>\n      <td>2021-01-30</td>\n      <td>40</td>\n      <td>1.0</td>\n      <td>KMC92</td>\n      <td>Exam. 3D</td>\n      <td>68</td>\n      <td>NaN</td>\n      <td>Jury3</td>\n    </tr>\n  </tbody>\n</table>\n</div>"
     },
     "metadata": {},
     "execution_count": 3
    }
   ],
   "source": [
    "df2 = pd.read_excel('ZNord_180420.xls')\n",
    "df2.head()"
   ]
  },
  {
   "cell_type": "code",
   "execution_count": 4,
   "metadata": {},
   "outputs": [],
   "source": [
    "PASSAGE1=[]\n",
    "PASSAGE2=[]\n",
    "PASSAGE3=[]\n",
    "PASSAGE4=[]\n",
    "TABLE_D1 = list(sorted(set(df2[df2.Darga == 'Exam. 1d']['Table Jury'].to_list())))\n",
    "#TABLE_D1.remove(['JUry22'])\n",
    "#TABLE_D1.remove(['Jury 20'])\n",
    "#TABLE_D1.remove(['Jury 31'])\n",
    "TABLE_D2 = list(sorted(set(df2[df2.Darga == 'Exam. 2d']['Table Jury'].to_list())))\n",
    "TABLE_D3 = list(sorted(set(df2[df2.Darga == 'Exam. 3D']['Table Jury'].to_list())))\n",
    "TABLE_D4 = list(sorted(set(df2[df2.Darga == 'Exam. 4D']['Table Jury'].to_list())))\n",
    "for i in df1['N° Jury']:\n",
    "    if i in TABLE_D1:\n",
    "        PASSAGE1.append(1)\n",
    "        \n",
    "    else:\n",
    "        PASSAGE1.append(0)\n",
    "\n",
    "    if i in TABLE_D2:\n",
    "        PASSAGE2.append(1)\n",
    "        \n",
    "    else:\n",
    "        PASSAGE2.append(0)\n",
    "    \n",
    "    if i in TABLE_D3:\n",
    "        PASSAGE3.append(1)\n",
    "        \n",
    "    else:\n",
    "        PASSAGE3.append(0)\n",
    "    \n",
    "    if i in TABLE_D4:\n",
    "        PASSAGE4.append(1)\n",
    "    \n",
    "    else:    \n",
    "        PASSAGE4.append(0)\n",
    "df1['PASSAGE1'] = PASSAGE1\n",
    "df1['PASSAGE2'] = PASSAGE2\n",
    "df1['PASSAGE3'] = PASSAGE3\n",
    "df1['PASSAGE4'] = PASSAGE4\n",
    "TABLE_D1.remove('JUry22')\n",
    "TABLE_D1.remove('Jury 20')\n",
    "TABLE_D1.remove('Jury 31')"
   ]
  },
  {
   "cell_type": "code",
   "execution_count": 5,
   "metadata": {},
   "outputs": [
    {
     "output_type": "execute_result",
     "data": {
      "text/plain": "  N° Jury             Jury1   Club                    Jury2      Club.1  \\\n0   Jury1    DE BAERE Teddy   CFKM  ROGUES DE FURSAC Arnaud        ECKM   \n1   Jury2  SCHUSTER Cyrille  KMC92           ALLOUCHE David         KMM   \n2   Jury3    HASSINE Gilles   ASKM              HUVET Jimmy  KM MINDSET   \n3   Jury4          ATIA Léo  KMUD           OLIVEIRA Cédric      AKMC91   \n4   Jury5  COHEN Jean-David  KmnCo           DAL PONT Marco        KM14   \n\n   PASSAGE1  PASSAGE2  PASSAGE3  PASSAGE4  \n0         0         0         1         1  \n1         0         0         1         1  \n2         0         1         1         0  \n3         0         1         1         0  \n4         0         1         1         0  ",
      "text/html": "<div>\n<style scoped>\n    .dataframe tbody tr th:only-of-type {\n        vertical-align: middle;\n    }\n\n    .dataframe tbody tr th {\n        vertical-align: top;\n    }\n\n    .dataframe thead th {\n        text-align: right;\n    }\n</style>\n<table border=\"1\" class=\"dataframe\">\n  <thead>\n    <tr style=\"text-align: right;\">\n      <th></th>\n      <th>N° Jury</th>\n      <th>Jury1</th>\n      <th>Club</th>\n      <th>Jury2</th>\n      <th>Club.1</th>\n      <th>PASSAGE1</th>\n      <th>PASSAGE2</th>\n      <th>PASSAGE3</th>\n      <th>PASSAGE4</th>\n    </tr>\n  </thead>\n  <tbody>\n    <tr>\n      <th>0</th>\n      <td>Jury1</td>\n      <td>DE BAERE Teddy</td>\n      <td>CFKM</td>\n      <td>ROGUES DE FURSAC Arnaud</td>\n      <td>ECKM</td>\n      <td>0</td>\n      <td>0</td>\n      <td>1</td>\n      <td>1</td>\n    </tr>\n    <tr>\n      <th>1</th>\n      <td>Jury2</td>\n      <td>SCHUSTER Cyrille</td>\n      <td>KMC92</td>\n      <td>ALLOUCHE David</td>\n      <td>KMM</td>\n      <td>0</td>\n      <td>0</td>\n      <td>1</td>\n      <td>1</td>\n    </tr>\n    <tr>\n      <th>2</th>\n      <td>Jury3</td>\n      <td>HASSINE Gilles</td>\n      <td>ASKM</td>\n      <td>HUVET Jimmy</td>\n      <td>KM MINDSET</td>\n      <td>0</td>\n      <td>1</td>\n      <td>1</td>\n      <td>0</td>\n    </tr>\n    <tr>\n      <th>3</th>\n      <td>Jury4</td>\n      <td>ATIA Léo</td>\n      <td>KMUD</td>\n      <td>OLIVEIRA Cédric</td>\n      <td>AKMC91</td>\n      <td>0</td>\n      <td>1</td>\n      <td>1</td>\n      <td>0</td>\n    </tr>\n    <tr>\n      <th>4</th>\n      <td>Jury5</td>\n      <td>COHEN Jean-David</td>\n      <td>KmnCo</td>\n      <td>DAL PONT Marco</td>\n      <td>KM14</td>\n      <td>0</td>\n      <td>1</td>\n      <td>1</td>\n      <td>0</td>\n    </tr>\n  </tbody>\n</table>\n</div>"
     },
     "metadata": {},
     "execution_count": 5
    }
   ],
   "source": [
    "df1.head()"
   ]
  },
  {
   "cell_type": "code",
   "execution_count": 6,
   "metadata": {},
   "outputs": [
    {
     "output_type": "execute_result",
     "data": {
      "text/plain": "(46, 110)"
     },
     "metadata": {},
     "execution_count": 6
    }
   ],
   "source": [
    "df2.Poids.min(),df2.Poids.max()"
   ]
  },
  {
   "cell_type": "code",
   "execution_count": 7,
   "metadata": {
    "tags": []
   },
   "outputs": [
    {
     "output_type": "stream",
     "name": "stdout",
     "text": "CPU times: user 33.1 ms, sys: 2.12 ms, total: 35.2 ms\nWall time: 35.6 ms\n"
    },
    {
     "output_type": "execute_result",
     "data": {
      "text/plain": "   Civilité  age     Club  Darga  Poids  id binned\n0         1    1      DSA      1     85   0     11\n1         1    1  KM LYON      1     72   1      7\n2         1    0     ENKM      1    110   2     16\n3         0    0     KM75      1     60   3      4\n4         1    1    KMC92      3     68   4      6",
      "text/html": "<div>\n<style scoped>\n    .dataframe tbody tr th:only-of-type {\n        vertical-align: middle;\n    }\n\n    .dataframe tbody tr th {\n        vertical-align: top;\n    }\n\n    .dataframe thead th {\n        text-align: right;\n    }\n</style>\n<table border=\"1\" class=\"dataframe\">\n  <thead>\n    <tr style=\"text-align: right;\">\n      <th></th>\n      <th>Civilité</th>\n      <th>age</th>\n      <th>Club</th>\n      <th>Darga</th>\n      <th>Poids</th>\n      <th>id</th>\n      <th>binned</th>\n    </tr>\n  </thead>\n  <tbody>\n    <tr>\n      <th>0</th>\n      <td>1</td>\n      <td>1</td>\n      <td>DSA</td>\n      <td>1</td>\n      <td>85</td>\n      <td>0</td>\n      <td>11</td>\n    </tr>\n    <tr>\n      <th>1</th>\n      <td>1</td>\n      <td>1</td>\n      <td>KM LYON</td>\n      <td>1</td>\n      <td>72</td>\n      <td>1</td>\n      <td>7</td>\n    </tr>\n    <tr>\n      <th>2</th>\n      <td>1</td>\n      <td>0</td>\n      <td>ENKM</td>\n      <td>1</td>\n      <td>110</td>\n      <td>2</td>\n      <td>16</td>\n    </tr>\n    <tr>\n      <th>3</th>\n      <td>0</td>\n      <td>0</td>\n      <td>KM75</td>\n      <td>1</td>\n      <td>60</td>\n      <td>3</td>\n      <td>4</td>\n    </tr>\n    <tr>\n      <th>4</th>\n      <td>1</td>\n      <td>1</td>\n      <td>KMC92</td>\n      <td>3</td>\n      <td>68</td>\n      <td>4</td>\n      <td>6</td>\n    </tr>\n  </tbody>\n</table>\n</div>"
     },
     "metadata": {},
     "execution_count": 7
    }
   ],
   "source": [
    "%%time\n",
    "candidats = df2.copy()\n",
    "DARGA = []\n",
    "candidats['Civilité'] = [1 if candidats.Civilité[i] == 'M.' else 0 for i in range(len(candidats))]\n",
    "candidats['age'] = [1 if candidats.age[i] >= 40 else 0 for i in range(len(candidats))]\n",
    "for i in range(len(candidats)):\n",
    "    if candidats.Darga[i] == 'Exam. 1d':\n",
    "        DARGA.append(1)\n",
    "    elif candidats.Darga[i] == 'Exam. 2d':\n",
    "        DARGA.append(2)\n",
    "    elif candidats.Darga[i] == 'Exam. 3D':\n",
    "        DARGA.append(3)\n",
    "    elif candidats.Darga[i] == 'Exam. 4D':\n",
    "        DARGA.append(4)\n",
    "candidats.Darga = DARGA\n",
    "candidats = candidats.drop(['Nom', 'Prénom', 'Email', 'Téléphone','Date naissance','Date examen','>=40','UV', 'Table Jury'],axis=1)\n",
    "bins = [ 44, 48, 52, 56, 60, 64, 68, 72, 76, 80, 84, 88, 92, 96, 100, 104, 111 ]\n",
    "labels =[1,2,3,4,5,6,7,8,9,10,11,12,13,14,15,16]\n",
    "candidats['id'] = candidats.index\n",
    "candidats['binned'] = pd.cut(candidats.Poids, bins,labels=labels)\n",
    "CAT = ['44, 48','48, 52','52, 56','56, 60','60, 64','64, 68','68, 72','72, 76','76, 80','80, 84','84, 88','88, 92','92, 96','96, 100','100, 104','104, 111']\n",
    "candidats.head()"
   ]
  },
  {
   "cell_type": "code",
   "execution_count": 8,
   "metadata": {
    "tags": []
   },
   "outputs": [
    {
     "output_type": "stream",
     "name": "stdout",
     "text": "\n\nDarga 1 -- Nombre de candidats : 209\nHommes de plus de 40 ans : 134\nHommes de moins de 40 ans : 56\nFemmes de plus de 40 ans : 7\nFemmes de moins de 40 ans : 12\n\n\nDarga 2 -- Nombre de candidats : 69\nHommes de plus de 40 ans : 50\nHommes de moins de 40 ans : 16\nFemmes de plus de 40 ans : 1\nFemmes de moins de 40 ans : 2\n\n\nDarga 3 -- Nombre de candidats : 23\nHommes de plus de 40 ans : 16\nHommes de moins de 40 ans : 6\nFemmes de plus de 40 ans : 1\nFemmes de moins de 40 ans : 0\n\n\nDarga 4 -- Nombre de candidats : 7\nHommes de plus de 40 ans : 5\nHommes de moins de 40 ans : 1\nFemmes de plus de 40 ans : 1\nFemmes de moins de 40 ans : 0\nCPU times: user 28.5 ms, sys: 4.83 ms, total: 33.4 ms\nWall time: 30.2 ms\n"
    }
   ],
   "source": [
    "%%time\n",
    "##### DARGA 1\n",
    "print('\\n\\nDarga 1 -- Nombre de candidats :', candidats[candidats.Darga==1].shape[0])\n",
    "groupeH401D = candidats[(candidats.Civilité==1)&(candidats.age==1)&(candidats.Darga==1)]\n",
    "print('Hommes de plus de 40 ans :', groupeH401D.shape[0])\n",
    "\n",
    "groupeH391D = candidats[(candidats.Civilité==1)&(candidats.age==0)&(candidats.Darga==1)]\n",
    "print('Hommes de moins de 40 ans :', groupeH391D.shape[0])\n",
    "\n",
    "groupeF401D = candidats[(candidats.Civilité==0)&(candidats.age==1)&(candidats.Darga==1)]\n",
    "print('Femmes de plus de 40 ans :', groupeF401D.shape[0])\n",
    "\n",
    "groupeF391D = candidats[(candidats.Civilité==0)&(candidats.age==0)&(candidats.Darga==1)]\n",
    "print('Femmes de moins de 40 ans :', groupeF391D.shape[0])\n",
    "\n",
    "\n",
    "##### DARGA 2\n",
    "print('\\n\\nDarga 2 -- Nombre de candidats :', candidats[candidats.Darga==2].shape[0])\n",
    "groupeH402D = candidats[(candidats.Civilité==1)&(candidats.age==1)&(candidats.Darga==2)]\n",
    "print('Hommes de plus de 40 ans :', groupeH402D.shape[0])\n",
    "\n",
    "groupeH392D = candidats[(candidats.Civilité==1)&(candidats.age==0)&(candidats.Darga==2)]\n",
    "print('Hommes de moins de 40 ans :', groupeH392D.shape[0])\n",
    "\n",
    "groupeF402D = candidats[(candidats.Civilité==0)&(candidats.age==1)&(candidats.Darga==2)]\n",
    "print('Femmes de plus de 40 ans :', groupeF402D.shape[0])\n",
    "\n",
    "groupeF392D = candidats[(candidats.Civilité==0)&(candidats.age==0)&(candidats.Darga==2)]\n",
    "print('Femmes de moins de 40 ans :', groupeF392D.shape[0])\n",
    "\n",
    "##### DARGA 3\n",
    "print('\\n\\nDarga 3 -- Nombre de candidats :', candidats[candidats.Darga==3].shape[0])\n",
    "groupeH403D = candidats[(candidats.Civilité==1)&(candidats.age==1)&(candidats.Darga==3)]\n",
    "print('Hommes de plus de 40 ans :', groupeH403D.shape[0])\n",
    "\n",
    "groupeH393D = candidats[(candidats.Civilité==1)&(candidats.age==0)&(candidats.Darga==3)]\n",
    "print('Hommes de moins de 40 ans :', groupeH393D.shape[0])\n",
    "\n",
    "groupeF403D = candidats[(candidats.Civilité==0)&(candidats.age==1)&(candidats.Darga==3)]\n",
    "print('Femmes de plus de 40 ans :', groupeF403D.shape[0])\n",
    "\n",
    "groupeF393D = candidats[(candidats.Civilité==0)&(candidats.age==0)&(candidats.Darga==3)]\n",
    "print('Femmes de moins de 40 ans :', groupeF393D.shape[0])\n",
    "\n",
    "##### DARGA 4\n",
    "print('\\n\\nDarga 4 -- Nombre de candidats :', candidats[candidats.Darga==4].shape[0])\n",
    "groupeH404D = candidats[(candidats.Civilité==1)&(candidats.age==1)&(candidats.Darga==4)]\n",
    "print('Hommes de plus de 40 ans :', groupeH404D.shape[0])\n",
    "\n",
    "groupeH394D = candidats[(candidats.Civilité==1)&(candidats.age==0)&(candidats.Darga==4)]\n",
    "print('Hommes de moins de 40 ans :', groupeH394D.shape[0])\n",
    "\n",
    "groupeF404D = candidats[(candidats.Civilité==0)&(candidats.age==1)&(candidats.Darga==4)]\n",
    "print('Femmes de plus de 40 ans :', groupeF404D.shape[0])\n",
    "\n",
    "groupeF394D = candidats[(candidats.Civilité==0)&(candidats.age==0)&(candidats.Darga==4)]\n",
    "print('Femmes de moins de 40 ans :', groupeF394D.shape[0])\n"
   ]
  },
  {
   "cell_type": "code",
   "execution_count": 9,
   "metadata": {
    "tags": []
   },
   "outputs": [
    {
     "output_type": "stream",
     "name": "stdout",
     "text": "Pour la première darga:\n\nFemme de moins de 40 ans catégorie de poids [44, 48] Kg\nCLEMENT NOEMIE        (Index =  58 )\n\nFemme de plus de 40 ans catégorie de poids [48, 52] Kg\nPEREZ Sylvie        (Index =  230 )\n\nFemme de moins de 40 ans catégorie de poids [48, 52] Kg\nBOIRAT Stephanie        (Index =  23 )\nLOUIS Mélanie        (Index =  188 )\n\nFemme de plus de 40 ans catégorie de poids [52, 56] Kg\nDE LA HORIE Nathalie        (Index =  76 )\nLE MOAL Rebecca        (Index =  165 )\nRIVIERE Esther        (Index =  256 )\n\nFemme de moins de 40 ans catégorie de poids [52, 56] Kg\nBOURQUIN Helene        (Index =  34 )\nDOUDOUX Laurianne        (Index =  86 )\n\nHomme de plus de 40 ans catégorie de poids [56, 60] Kg\nFERRY Jean-Louis        (Index =  105 )\nMEIMOUN Patrick        (Index =  202 )\n\nFemme de plus de 40 ans catégorie de poids [56, 60] Kg\nDOS SANTOS Amarize        (Index =  84 )\nTHOMINE DESMAZURES Astrid        (Index =  288 )\n\nFemme de moins de 40 ans catégorie de poids [56, 60] Kg\nALENGRIN Clémence        (Index =  3 )\nCOTTREL Mélissa         (Index =  61 )\n\nHomme de plus de 40 ans catégorie de poids [60, 64] Kg\nANDRÉ Patrice        (Index =  6 )\nSCOPIN Yves        (Index =  270 )\n\nHomme de moins de 40 ans catégorie de poids [60, 64] Kg\nBECHAMP Mickaël, Loïc        (Index =  14 )\nFEDERKEIL Yan        (Index =  100 )\nTEISSIER Gaspard        (Index =  282 )\n\nFemme de plus de 40 ans catégorie de poids [60, 64] Kg\nSALMIER Sandrine        (Index =  264 )\n\nFemme de moins de 40 ans catégorie de poids [60, 64] Kg\nCANELLAS Jessica        (Index =  45 )\nCASAURANG-LASSALLETTE Audrey        (Index =  48 )\nPATERNOSTER Louise        (Index =  229 )\n\nHomme de plus de 40 ans catégorie de poids [64, 68] Kg\nBRION Hervé        (Index =  38 )\nCACCIAMANI Sébastien         (Index =  44 )\nDE OLIVEIRA Albert        (Index =  77 )\nDURRIEU Mickael        (Index =  92 )\nFILAIRE Guillaume        (Index =  109 )\nFRIMBAUD PIERRE        (Index =  115 )\nHACHEM Nordin        (Index =  136 )\nHEURTIN Fabrice        (Index =  145 )\nPERON JEAN-LOUIS        (Index =  232 )\nSIAM DAVID        (Index =  273 )\n\nHomme de moins de 40 ans catégorie de poids [64, 68] Kg\nLE MInh Pierre        (Index =  161 )\nLEAL Thomas        (Index =  167 )\n\nFemme de moins de 40 ans catégorie de poids [64, 68] Kg\nBONVARD  Julie         (Index =  25 )\nPETIOT AURÉLIE        (Index =  234 )\n\nHomme de plus de 40 ans catégorie de poids [68, 72] Kg\nABENZA Laurent        (Index =  1 )\nBOUCHENOT FRANCK        (Index =  28 )\nBOURDIN Jerome        (Index =  33 )\nDARMON Denis        (Index =  72 )\nFARIAD Morad        (Index =  99 )\nGABILLET Alexandre        (Index =  118 )\nLAILE Stéphane        (Index =  157 )\nLAUFER Franck        (Index =  158 )\nMIENANZAMBI FABRICE        (Index =  208 )\nMONGIS DAVID        (Index =  210 )\nNOCARA Stéphane        (Index =  220 )\nRAMOS Christophe        (Index =  246 )\nROBIN FREDERIC        (Index =  257 )\nURBAN Bruno        (Index =  296 )\n\nHomme de moins de 40 ans catégorie de poids [68, 72] Kg\nDARMON Kévin        (Index =  73 )\nEUSTACHE Ludovic        (Index =  97 )\nFARGES Olivier        (Index =  98 )\nGAONAC'H- ALTALAWY Alexandre        (Index =  120 )\nMASSABIEAUX Adrien        (Index =  198 )\nRUH Cédric         (Index =  262 )\nTHIERY Thomas        (Index =  285 )\n\nHomme de plus de 40 ans catégorie de poids [72, 76] Kg\nBOTERF YANNICK        (Index =  27 )\nBOYER Alain        (Index =  37 )\nCASTELLER  Arnaud        (Index =  50 )\nCHAMBENOIT Frederic        (Index =  52 )\nCLAVERIE LAURENT        (Index =  56 )\nCLEMENT Guillaume        (Index =  57 )\nCOUE Tanguy        (Index =  62 )\nDACHET Vincent        (Index =  67 )\nDURFORT FREDERIC.        (Index =  91 )\nFERNANDES Paul        (Index =  102 )\nFEUILLATRE Franck        (Index =  108 )\nGAUSSENS Rémy        (Index =  122 )\nHENIN Luc        (Index =  143 )\nLE VERGER Richard        (Index =  166 )\nLEFORT Fritz        (Index =  171 )\nLOGER Lionel        (Index =  182 )\nMARTIN Jerome        (Index =  196 )\nMESNAGE Gregory        (Index =  207 )\nPERQUIN-GEORGES Sébastien        (Index =  233 )\nPETIT Michael        (Index =  236 )\nPONS Philippe        (Index =  239 )\nSEERPUTTEE Viveck        (Index =  271 )\nTEUTSCH JACKY        (Index =  283 )\nTHOCQUENNE Clotaire        (Index =  286 )\nTHOMAS Laurent        (Index =  287 )\nTHOUVENOT Jérôme        (Index =  290 )\n\nHomme de moins de 40 ans catégorie de poids [72, 76] Kg\nBOUKHOBZA Boris        (Index =  29 )\nCANGO FRANCK        (Index =  46 )\nDOUDOUX Vivien        (Index =  85 )\nDUNOYER AURELIEN        (Index =  90 )\nFEDIDA Willfried        (Index =  101 )\nLEFRANCOIS Matthieu        (Index =  172 )\nLOISEAU Florian        (Index =  183 )\nMEPHARA Aurelien        (Index =  205 )\nNOZAY Dominique         (Index =  221 )\nPETIT Cédric        (Index =  235 )\nREAL Benjamin        (Index =  248 )\nRINALDI Romain        (Index =  255 )\nSPINGARN Raphaël        (Index =  278 )\n\nHomme de plus de 40 ans catégorie de poids [76, 80] Kg\nANTABLIAN Thierry        (Index =  8 )\nBOULARD YANNICK        (Index =  31 )\nBOUVARD Olivier        (Index =  35 )\nBRISON Patrice        (Index =  39 )\nBRUNA  Jean-Yves         (Index =  40 )\nBURGUET Grégory        (Index =  43 )\nCHARRIAU Patrick        (Index =  53 )\nCOUTAZ Raphael        (Index =  63 )\nDARDOT JEAN CLAUDE        (Index =  71 )\nDE BIEVRE HUGUES        (Index =  75 )\nDEMELT Nicolas        (Index =  80 )\nDUSKUNKORUR Semih        (Index =  93 )\nEBRARD Frederic        (Index =  94 )\nFERON Thomas        (Index =  103 )\nFORTIER Olivier        (Index =  111 )\nFORTIN David        (Index =  112 )\nHABERT Frederic        (Index =  135 )\nHAZE Pascal        (Index =  140 )\nHELMLINGER Franck        (Index =  142 )\nJAHANDIER PASCAL        (Index =  151 )\nLAVAL Christian        (Index =  159 )\nMERKEL CYRIL        (Index =  206 )\nMONDOLONI Dominique        (Index =  209 )\nMOUMIN Mohammed        (Index =  214 )\nPABOT Sébastien         (Index =  225 )\nPOTARD Julien        (Index =  241 )\nPRODHON Lionel        (Index =  244 )\nROUSSEL Jean-Charles        (Index =  260 )\nTARDY NICOLAS        (Index =  280 )\nTEYSSANDIER David        (Index =  284 )\nVERDIE Eric        (Index =  299 )\n\nHomme de moins de 40 ans catégorie de poids [76, 80] Kg\nBURGALETA Romain        (Index =  42 )\nDEPOORTER Christophe        (Index =  81 )\nGÉRÈME  Loïc        (Index =  124 )\nHOSOTTE Nicolas        (Index =  146 )\nLUC Benoit        (Index =  189 )\nPIERRE Aurélien        (Index =  237 )\nSAINT-EVE Vincent        (Index =  263 )\n\nHomme de plus de 40 ans catégorie de poids [80, 84] Kg\nBAQUE OLIVIER        (Index =  12 )\nBLANCHONNET Christian        (Index =  22 )\nBOULINGUIEZ Thomas        (Index =  32 )\nBOYA Raphael        (Index =  36 )\nCASTANO Efren        (Index =  49 )\nCULEDDU Julien        (Index =  65 )\nDANTHU Olivier        (Index =  70 )\nDAVID Jean-Yves        (Index =  74 )\nDORISON HERVE        (Index =  83 )\nGILI Renaud        (Index =  126 )\nLE FUR Louis        (Index =  162 )\nLONGOUR WILLIAM        (Index =  184 )\nMANNIER Christophe        (Index =  194 )\nMOREL Gerald        (Index =  212 )\nPOTIER Maxime        (Index =  242 )\nRAKOTONDRAVAO Olivier        (Index =  245 )\nSPHABMIXAY Souvanxay        (Index =  277 )\n\nHomme de moins de 40 ans catégorie de poids [80, 84] Kg\nBARROSO PEREIRA Steve        (Index =  13 )\nFOSSARD Florent        (Index =  113 )\nGERENIUS Axel        (Index =  125 )\nHEBERT Julien        (Index =  141 )\nLEFEVRE Damien        (Index =  170 )\nMELLY Etienne        (Index =  204 )\nNATIVEL ULRICK        (Index =  216 )\nWESLEY Edouard        (Index =  305 )\n\nHomme de plus de 40 ans catégorie de poids [84, 88] Kg\nABDELMALEK Abdelhafid        (Index =  0 )\nGERARD STEPHANE        (Index =  123 )\nHALIMI David        (Index =  137 )\nLE LAIN Jean-claude        (Index =  164 )\nLÉGER  Sébastien         (Index =  174 )\nLEGLEYE Stéphane        (Index =  175 )\nMACHETEAU FREDERIC        (Index =  192 )\nMEIMOUN Olivier        (Index =  201 )\nPARKER Zacharie        (Index =  228 )\nPRIETO Aurelien        (Index =  243 )\nREYL Fabien        (Index =  252 )\nRUBINI Fabrice        (Index =  261 )\nVINCENT Thierry        (Index =  301 )\n\nHomme de moins de 40 ans catégorie de poids [84, 88] Kg\nBEN HAMOU Sidney        (Index =  16 )\nBONNOTTE Jeremy        (Index =  24 )\nDELOHEN Anthony        (Index =  79 )\nGRELLIER GAETAN        (Index =  131 )\nIDIR Jugurtha        (Index =  149 )\nLOSQ Olivier        (Index =  187 )\nPERISE MANUEL        (Index =  231 )\nRENDLER Adrien        (Index =  251 )\n\nHomme de plus de 40 ans catégorie de poids [88, 92] Kg\nBUCQUET Alexander        (Index =  41 )\nESNOULT PASCAL        (Index =  96 )\nHERNANDEZ Damien        (Index =  144 )\nLEROY JACQUES        (Index =  179 )\nNITELET Jean-François        (Index =  219 )\nSERVANT-ROUMEY Luc        (Index =  272 )\n\nHomme de moins de 40 ans catégorie de poids [88, 92] Kg\nLEMAIRE Ulric        (Index =  177 )\n\nHomme de plus de 40 ans catégorie de poids [92, 96] Kg\nLEMMEL OLIVIER         (Index =  178 )\nVANHEEGHE BENOIT        (Index =  297 )\nVENET Laurent        (Index =  298 )\n\nHomme de moins de 40 ans catégorie de poids [92, 96] Kg\nGIRAUD Sébastien        (Index =  127 )\nROBIN Rodnay        (Index =  258 )\n\nHomme de plus de 40 ans catégorie de poids [96, 100] Kg\nIRVENSEC Jean-Paul        (Index =  150 )\nMULLER Christophe        (Index =  215 )\nOUAKIL SERGE        (Index =  222 )\nPANETTA Laurent        (Index =  226 )\nPIERROT Patrice        (Index =  238 )\nTOURNAL HERVE        (Index =  293 )\n\nHomme de moins de 40 ans catégorie de poids [96, 100] Kg\nCREUSOT Mathieu        (Index =  64 )\n\nHomme de plus de 40 ans catégorie de poids [100, 104] Kg\nSUEUR DAVID        (Index =  279 )\nTAYAR Marc        (Index =  281 )\n\nHomme de moins de 40 ans catégorie de poids [100, 104] Kg\nGREVIN Christophe        (Index =  132 )\n\nHomme de plus de 40 ans catégorie de poids [104, 111] Kg\nFERRER Bruno        (Index =  104 )\nWALTER Hervé        (Index =  303 )\n\nHomme de moins de 40 ans catégorie de poids [104, 111] Kg\nALBAREDE Cédric        (Index =  2 )\nJUILLARD Christophe        (Index =  153 )\nLORET Fabian        (Index =  186 )\nCPU times: user 459 ms, sys: 54 ms, total: 514 ms\nWall time: 490 ms\n"
    }
   ],
   "source": [
    "%%time\n",
    "# DARGA 1\n",
    "print('Pour la première darga:')\n",
    "for bin in labels:\n",
    "    globals()['groupeH401D_bin%s' %bin] = pd.DataFrame()\n",
    "    globals()['groupeH401D_bin%s' %bin] = groupeH401D[groupeH401D.binned==bin]\n",
    "    if len(globals()['groupeH401D_bin%s' %bin]) > 0:\n",
    "        print()\n",
    "        print('Homme de plus de 40 ans catégorie de poids ['+CAT[bin-1]+'] Kg')\n",
    "        for x in globals()['groupeH401D_bin%s' %bin].id:\n",
    "            print(df2[df2.index==x].iloc[0,1]+' '+df2[df2.index==x].iloc[0,2],'       (Index = ',x,')')\n",
    "\n",
    "    globals()['groupeH391D_bin%s' %bin] = pd.DataFrame()\n",
    "    globals()['groupeH391D_bin%s' %bin] = groupeH391D[groupeH391D.binned==bin]\n",
    "    if len(globals()['groupeH391D_bin%s' %bin]) > 0:\n",
    "        print()\n",
    "        print('Homme de moins de 40 ans catégorie de poids ['+CAT[bin-1]+'] Kg')\n",
    "        for x in globals()['groupeH391D_bin%s' %bin].id:\n",
    "            print(df2[df2.index==x].iloc[0,1]+' '+df2[df2.index==x].iloc[0,2],'       (Index = ',x,')')\n",
    "\n",
    "    globals()['groupeF401D_bin%s' %bin] = pd.DataFrame()\n",
    "    globals()['groupeF401D_bin%s' %bin] = groupeF401D[groupeF401D.binned==bin]\n",
    "    if len(globals()['groupeF401D_bin%s' %bin]) > 0:\n",
    "        print()\n",
    "        print('Femme de plus de 40 ans catégorie de poids ['+CAT[bin-1]+'] Kg')\n",
    "        for x in globals()['groupeF401D_bin%s' %bin].id:\n",
    "            print(df2[df2.index==x].iloc[0,1]+' '+df2[df2.index==x].iloc[0,2],'       (Index = ',x,')')\n",
    "\n",
    "    globals()['groupeF391D_bin%s' %bin] = pd.DataFrame()\n",
    "    globals()['groupeF391D_bin%s' %bin] = groupeF391D[groupeF391D.binned==bin]\n",
    "    if len(globals()['groupeF391D_bin%s' %bin]) > 0:\n",
    "        print()\n",
    "        print('Femme de moins de 40 ans catégorie de poids ['+CAT[bin-1]+'] Kg')\n",
    "        for x in globals()['groupeF391D_bin%s' %bin].id:\n",
    "            print(df2[df2.index==x].iloc[0,1]+' '+df2[df2.index==x].iloc[0,2],'       (Index = ',x,')')\n"
   ]
  },
  {
   "cell_type": "code",
   "execution_count": null,
   "metadata": {},
   "outputs": [],
   "source": []
  },
  {
   "cell_type": "code",
   "execution_count": 10,
   "metadata": {
    "tags": []
   },
   "outputs": [
    {
     "output_type": "stream",
     "name": "stdout",
     "text": "Pour la troisième darga:\n\nFemme de plus de 40 ans catégorie de poids 56, 60 Kg\nDUFOUR Isabelle        (Index =  89 )\n\nHomme de moins de 40 ans catégorie de poids 60, 64 Kg\nBORDILLON Julien        (Index =  26 )\n\nHomme de plus de 40 ans catégorie de poids 64, 68 Kg\nAMELIN Frédéric        (Index =  4 )\nSAUVANET  Dominique         (Index =  266 )\n\nHomme de plus de 40 ans catégorie de poids 68, 72 Kg\nGREJNER Andrej        (Index =  130 )\n\nHomme de moins de 40 ans catégorie de poids 68, 72 Kg\nBEN JABER ANIS        (Index =  17 )\nRICHEROLLE Benjamin        (Index =  254 )\n\nHomme de plus de 40 ans catégorie de poids 72, 76 Kg\nLEDAUPHIN Rémy        (Index =  168 )\nNEVES Pedro        (Index =  217 )\nNIGER DIDIER        (Index =  218 )\n\nHomme de plus de 40 ans catégorie de poids 76, 80 Kg\nKONATE Alou        (Index =  155 )\nLAGORIO Christophe         (Index =  156 )\n\nHomme de moins de 40 ans catégorie de poids 76, 80 Kg\nDOYARD Denis        (Index =  87 )\nGRECO RAPHAEL ABDOURAHMAN        (Index =  129 )\n\nHomme de plus de 40 ans catégorie de poids 80, 84 Kg\nJÉDROCHA Frédéric        (Index =  152 )\nTILLARD Eric        (Index =  292 )\n\nHomme de moins de 40 ans catégorie de poids 80, 84 Kg\nLEVEQUE Rénald        (Index =  181 )\n\nHomme de plus de 40 ans catégorie de poids 84, 88 Kg\nBOULANGER NICOLAS        (Index =  30 )\nCHADUTEAU Philippe        (Index =  51 )\n\nHomme de plus de 40 ans catégorie de poids 92, 96 Kg\nLORET Bruno        (Index =  185 )\nOUBOUDINAR Samir        (Index =  224 )\n\nHomme de plus de 40 ans catégorie de poids 96, 100 Kg\nTICHADOU Didier        (Index =  291 )\n\nHomme de plus de 40 ans catégorie de poids 104, 111 Kg\nSCHOTTE Jerome        (Index =  269 )\n"
    }
   ],
   "source": [
    "# DARGA 3\n",
    "print('Pour la troisième darga:')\n",
    "for bin in labels:\n",
    "    globals()['groupeH403D_bin%s' %bin] = pd.DataFrame()\n",
    "    globals()['groupeH403D_bin%s' %bin] = groupeH403D[groupeH403D.binned==bin]\n",
    "    if len(globals()['groupeH403D_bin%s' %bin]) > 0:\n",
    "        print()\n",
    "        print('Homme de plus de 40 ans catégorie de poids',CAT[bin-1],'Kg')\n",
    "        for x in globals()['groupeH403D_bin%s' %bin].id:\n",
    "            print(df2[df2.index==x].iloc[0,1]+' '+df2[df2.index==x].iloc[0,2],'       (Index = ',x,')')\n",
    "\n",
    "    globals()['groupeH393D_bin%s' %bin] = pd.DataFrame()\n",
    "    globals()['groupeH393D_bin%s' %bin] = groupeH393D[groupeH393D.binned==bin]\n",
    "    if len(globals()['groupeH393D_bin%s' %bin]) > 0:\n",
    "        print()\n",
    "        print('Homme de moins de 40 ans catégorie de poids',CAT[bin-1],'Kg')\n",
    "        for x in globals()['groupeH393D_bin%s' %bin].id:\n",
    "            print(df2[df2.index==x].iloc[0,1]+' '+df2[df2.index==x].iloc[0,2],'       (Index = ',x,')')\n",
    "\n",
    "    globals()['groupeF403D_bin%s' %bin] = pd.DataFrame()\n",
    "    globals()['groupeF403D_bin%s' %bin] = groupeF403D[groupeF403D.binned==bin]\n",
    "    if len(globals()['groupeF403D_bin%s' %bin]) > 0:\n",
    "        print()\n",
    "        print('Femme de plus de 40 ans catégorie de poids',CAT[bin-1],'Kg')\n",
    "        for x in globals()['groupeF403D_bin%s' %bin].id:\n",
    "            print(df2[df2.index==x].iloc[0,1]+' '+df2[df2.index==x].iloc[0,2],'       (Index = ',x,')')\n",
    "\n",
    "    globals()['groupeF393D_bin%s' %bin] = pd.DataFrame()\n",
    "    globals()['groupeF393D_bin%s' %bin] = groupeF393D[groupeF393D.binned==bin]\n",
    "    if len(globals()['groupeF393D_bin%s' %bin]) > 0:\n",
    "        print()\n",
    "        print('Femme de moins de 40 ans catégorie de poids',CAT[bin-1],'Kg')\n",
    "        for x in globals()['groupeF393D_bin%s' %bin].id:\n",
    "            print(df2[df2.index==x].iloc[0,1]+' '+df2[df2.index==x].iloc[0,2],'       (Index = ',x,')')"
   ]
  },
  {
   "cell_type": "code",
   "execution_count": 11,
   "metadata": {
    "tags": []
   },
   "outputs": [
    {
     "output_type": "stream",
     "name": "stdout",
     "text": "Pour la quatrième darga:\n\nFemme de plus de 40 ans catégorie de poids 60, 64 Kg\nGUILLORIT Julie        (Index =  133 )\n\nHomme de plus de 40 ans catégorie de poids 68, 72 Kg\nSOUILLOT Etienne        (Index =  276 )\n\nHomme de moins de 40 ans catégorie de poids 72, 76 Kg\nREMACLE Julien        (Index =  250 )\n\nHomme de plus de 40 ans catégorie de poids 84, 88 Kg\nGONCALVES Hervé        (Index =  128 )\nTRAN Pascal        (Index =  294 )\n\nHomme de plus de 40 ans catégorie de poids 92, 96 Kg\nOUAZINE Djamel        (Index =  223 )\nPANXHAJ Fatmir        (Index =  227 )\n"
    }
   ],
   "source": [
    "# DARGA 4\n",
    "print('Pour la quatrième darga:')\n",
    "for bin in labels:\n",
    "    globals()['groupeH404D_bin%s' %bin] = pd.DataFrame()\n",
    "    globals()['groupeH404D_bin%s' %bin] = groupeH404D[groupeH404D.binned==bin]\n",
    "    if len(globals()['groupeH404D_bin%s' %bin]) > 0:\n",
    "        print()\n",
    "        print('Homme de plus de 40 ans catégorie de poids',CAT[bin-1],'Kg')\n",
    "        for x in globals()['groupeH404D_bin%s' %bin].id:\n",
    "            print(df2[df2.index==x].iloc[0,1]+' '+df2[df2.index==x].iloc[0,2],'       (Index = ',x,')')\n",
    "\n",
    "    globals()['groupeH394D_bin%s' %bin] = pd.DataFrame()\n",
    "    globals()['groupeH394D_bin%s' %bin] = groupeH394D[groupeH394D.binned==bin]\n",
    "    if len(globals()['groupeH394D_bin%s' %bin]) > 0:\n",
    "        print()\n",
    "        print('Homme de moins de 40 ans catégorie de poids',CAT[bin-1],'Kg')\n",
    "        for x in globals()['groupeH394D_bin%s' %bin].id:\n",
    "            print(df2[df2.index==x].iloc[0,1]+' '+df2[df2.index==x].iloc[0,2],'       (Index = ',x,')')\n",
    "\n",
    "    globals()['groupeF404D_bin%s' %bin] = pd.DataFrame()\n",
    "    globals()['groupeF404D_bin%s' %bin] = groupeF404D[groupeF404D.binned==bin]\n",
    "    if len(globals()['groupeF404D_bin%s' %bin]) > 0:\n",
    "        print()\n",
    "        print('Femme de plus de 40 ans catégorie de poids',CAT[bin-1],'Kg')\n",
    "        for x in globals()['groupeF404D_bin%s' %bin].id:\n",
    "            print(df2[df2.index==x].iloc[0,1]+' '+df2[df2.index==x].iloc[0,2],'       (Index = ',x,')')\n",
    "\n",
    "    globals()['groupeF394D_bin%s' %bin] = pd.DataFrame()\n",
    "    globals()['groupeF394D_bin%s' %bin] = groupeF394D[groupeF394D.binned==bin]\n",
    "    if len(globals()['groupeF394D_bin%s' %bin]) > 0:\n",
    "        print()\n",
    "        print('Femme de moins de 40 ans catégorie de poids',CAT[bin-1],'Kg')\n",
    "        for x in globals()['groupeF394D_bin%s' %bin].id:\n",
    "            print(df2[df2.index==x].iloc[0,1]+' '+df2[df2.index==x].iloc[0,2],'       (Index = ',x,')')"
   ]
  },
  {
   "cell_type": "code",
   "execution_count": 13,
   "metadata": {
    "tags": []
   },
   "outputs": [],
   "source": []
  },
  {
   "cell_type": "code",
   "execution_count": 55,
   "metadata": {
    "tags": []
   },
   "outputs": [],
   "source": []
  },
  {
   "cell_type": "code",
   "execution_count": 45,
   "metadata": {},
   "outputs": [],
   "source": []
  },
  {
   "cell_type": "markdown",
   "metadata": {},
   "source": [
    "https://towardsdatascience.com/gale-shapley-algorithm-simply-explained-caa344e643c2"
   ]
  },
  {
   "cell_type": "markdown",
   "metadata": {},
   "source": [
    "Dans chaque groupe H/F 39/40, il y a un premier match à faire selon le poids.\n",
    "\n",
    "Par exemple, pref [0, -1, 1, -2, 2]Kg``\n",
    "\n",
    "Ensuite il y a un 2ème match a effectuer entre un binome et une table (nbre place = nbre de match)\n",
    "\n",
    "Il y a un critère d'exclusion en fonction du club : transformer le binome en tuple club et table aussi\n",
    "\n",
    "Autre critère d'exclusion fonction du grade à passer \n"
   ]
  },
  {
   "cell_type": "code",
   "execution_count": 12,
   "metadata": {},
   "outputs": [
    {
     "output_type": "execute_result",
     "data": {
      "text/plain": "     Civilité  age                  Club  Darga  Poids   id binned\n58          0    0                 AMA95      1     46   58      1\n23          0    0                 KMC92      1     50   23      2\n188         0    0                 KMC92      1     52  188      2\n34          0    0              BODY VIP      1     54   34      3\n86          0    0             KM AMIENS      1     54   86      3\n3           0    0                  KM75      1     60    3      4\n61          0    0               KM LYON      1     60   61      4\n45          0    0       SELF-DEFENSE 45      1     62   45      5\n48          0    0                  KMPO      1     63   48      5\n229         0    0  Ecole dionysienne KM      1     62  229      5\n25          0    0                  EKMC      1     66   25      6\n234         0    0           KM COACHING      1     66  234      6",
      "text/html": "<div>\n<style scoped>\n    .dataframe tbody tr th:only-of-type {\n        vertical-align: middle;\n    }\n\n    .dataframe tbody tr th {\n        vertical-align: top;\n    }\n\n    .dataframe thead th {\n        text-align: right;\n    }\n</style>\n<table border=\"1\" class=\"dataframe\">\n  <thead>\n    <tr style=\"text-align: right;\">\n      <th></th>\n      <th>Civilité</th>\n      <th>age</th>\n      <th>Club</th>\n      <th>Darga</th>\n      <th>Poids</th>\n      <th>id</th>\n      <th>binned</th>\n    </tr>\n  </thead>\n  <tbody>\n    <tr>\n      <th>58</th>\n      <td>0</td>\n      <td>0</td>\n      <td>AMA95</td>\n      <td>1</td>\n      <td>46</td>\n      <td>58</td>\n      <td>1</td>\n    </tr>\n    <tr>\n      <th>23</th>\n      <td>0</td>\n      <td>0</td>\n      <td>KMC92</td>\n      <td>1</td>\n      <td>50</td>\n      <td>23</td>\n      <td>2</td>\n    </tr>\n    <tr>\n      <th>188</th>\n      <td>0</td>\n      <td>0</td>\n      <td>KMC92</td>\n      <td>1</td>\n      <td>52</td>\n      <td>188</td>\n      <td>2</td>\n    </tr>\n    <tr>\n      <th>34</th>\n      <td>0</td>\n      <td>0</td>\n      <td>BODY VIP</td>\n      <td>1</td>\n      <td>54</td>\n      <td>34</td>\n      <td>3</td>\n    </tr>\n    <tr>\n      <th>86</th>\n      <td>0</td>\n      <td>0</td>\n      <td>KM AMIENS</td>\n      <td>1</td>\n      <td>54</td>\n      <td>86</td>\n      <td>3</td>\n    </tr>\n    <tr>\n      <th>3</th>\n      <td>0</td>\n      <td>0</td>\n      <td>KM75</td>\n      <td>1</td>\n      <td>60</td>\n      <td>3</td>\n      <td>4</td>\n    </tr>\n    <tr>\n      <th>61</th>\n      <td>0</td>\n      <td>0</td>\n      <td>KM LYON</td>\n      <td>1</td>\n      <td>60</td>\n      <td>61</td>\n      <td>4</td>\n    </tr>\n    <tr>\n      <th>45</th>\n      <td>0</td>\n      <td>0</td>\n      <td>SELF-DEFENSE 45</td>\n      <td>1</td>\n      <td>62</td>\n      <td>45</td>\n      <td>5</td>\n    </tr>\n    <tr>\n      <th>48</th>\n      <td>0</td>\n      <td>0</td>\n      <td>KMPO</td>\n      <td>1</td>\n      <td>63</td>\n      <td>48</td>\n      <td>5</td>\n    </tr>\n    <tr>\n      <th>229</th>\n      <td>0</td>\n      <td>0</td>\n      <td>Ecole dionysienne KM</td>\n      <td>1</td>\n      <td>62</td>\n      <td>229</td>\n      <td>5</td>\n    </tr>\n    <tr>\n      <th>25</th>\n      <td>0</td>\n      <td>0</td>\n      <td>EKMC</td>\n      <td>1</td>\n      <td>66</td>\n      <td>25</td>\n      <td>6</td>\n    </tr>\n    <tr>\n      <th>234</th>\n      <td>0</td>\n      <td>0</td>\n      <td>KM COACHING</td>\n      <td>1</td>\n      <td>66</td>\n      <td>234</td>\n      <td>6</td>\n    </tr>\n  </tbody>\n</table>\n</div>"
     },
     "metadata": {},
     "execution_count": 12
    }
   ],
   "source": [
    "OUTLIERS_1 = []\n",
    "OUTLIERS_2 = []\n",
    "OUTLIERS_3 = []\n",
    "OUTLIERS_4 = []\n",
    "for i in range(len(df1)+1):\n",
    "    globals()['JURY_%s' %i] = []\n",
    "\n",
    "groupeF391D.sort_values('binned')"
   ]
  },
  {
   "cell_type": "code",
   "execution_count": 13,
   "metadata": {},
   "outputs": [
    {
     "output_type": "execute_result",
     "data": {
      "text/plain": "  N° Jury               Jury1    Club                Jury2  \\\n5   Jury6          VEILLERANT   KMC92     PLENAMENTE Denis   \n6   Jury7     SOUSSAND Cédric    EKMC        TAGLIANA Eric   \n7   Jury8  BERTHOMMIER Gilles  ECKM93  DELAMESIERE Arnauld   \n8   Jury9    GUILBERT Olivier    KM49         GUIOT Maxime   \n\n                      Club.1  PASSAGE1  PASSAGE2  PASSAGE3  PASSAGE4  \n5                       KMUD         1         1         0         0  \n6                      KMC92         1         1         0         0  \n7                       AKMV         1         1         0         0  \n8  AMICALE POMPIERS MULHOUSE         1         1         0         0  ",
      "text/html": "<div>\n<style scoped>\n    .dataframe tbody tr th:only-of-type {\n        vertical-align: middle;\n    }\n\n    .dataframe tbody tr th {\n        vertical-align: top;\n    }\n\n    .dataframe thead th {\n        text-align: right;\n    }\n</style>\n<table border=\"1\" class=\"dataframe\">\n  <thead>\n    <tr style=\"text-align: right;\">\n      <th></th>\n      <th>N° Jury</th>\n      <th>Jury1</th>\n      <th>Club</th>\n      <th>Jury2</th>\n      <th>Club.1</th>\n      <th>PASSAGE1</th>\n      <th>PASSAGE2</th>\n      <th>PASSAGE3</th>\n      <th>PASSAGE4</th>\n    </tr>\n  </thead>\n  <tbody>\n    <tr>\n      <th>5</th>\n      <td>Jury6</td>\n      <td>VEILLERANT</td>\n      <td>KMC92</td>\n      <td>PLENAMENTE Denis</td>\n      <td>KMUD</td>\n      <td>1</td>\n      <td>1</td>\n      <td>0</td>\n      <td>0</td>\n    </tr>\n    <tr>\n      <th>6</th>\n      <td>Jury7</td>\n      <td>SOUSSAND Cédric</td>\n      <td>EKMC</td>\n      <td>TAGLIANA Eric</td>\n      <td>KMC92</td>\n      <td>1</td>\n      <td>1</td>\n      <td>0</td>\n      <td>0</td>\n    </tr>\n    <tr>\n      <th>7</th>\n      <td>Jury8</td>\n      <td>BERTHOMMIER Gilles</td>\n      <td>ECKM93</td>\n      <td>DELAMESIERE Arnauld</td>\n      <td>AKMV</td>\n      <td>1</td>\n      <td>1</td>\n      <td>0</td>\n      <td>0</td>\n    </tr>\n    <tr>\n      <th>8</th>\n      <td>Jury9</td>\n      <td>GUILBERT Olivier</td>\n      <td>KM49</td>\n      <td>GUIOT Maxime</td>\n      <td>AMICALE POMPIERS MULHOUSE</td>\n      <td>1</td>\n      <td>1</td>\n      <td>0</td>\n      <td>0</td>\n    </tr>\n  </tbody>\n</table>\n</div>"
     },
     "metadata": {},
     "execution_count": 13
    }
   ],
   "source": [
    "df1.iloc[5:9,:]"
   ]
  },
  {
   "cell_type": "code",
   "execution_count": 14,
   "metadata": {
    "tags": []
   },
   "outputs": [],
   "source": [
    "def matching(_compteur,df,_flag,_darga):\n",
    "    df = df.sort_values('binned')\n",
    "    print('Longeur df',len(df))\n",
    "    for i in range(0,len(df)-1):\n",
    "        \n",
    "        if _flag == 1:\n",
    "            _flag = 0\n",
    "            continue\n",
    "        \n",
    "        \n",
    "        if _compteur > _end:\n",
    "            _compteur = _start\n",
    "        \n",
    "        \n",
    "        if df.shape[0] > 1 and (df[df.binned == df.iloc[i,:].binned].shape[0] < 2):\n",
    "            globals()['OUTLIERS_%s' %_darga].append(df2.iloc[[df.index[i]]])\n",
    "            continue\n",
    "        \n",
    "\n",
    "        if (df.iloc[i]['binned'] == df.iloc[i+1]['binned']) \\\n",
    "            and (df.iloc[i]['Club'] != df1.iloc[_compteur-1]['Club']) \\\n",
    "                and (df.iloc[i]['Club'] != df1.iloc[_compteur-1]['Club.1']) \\\n",
    "                    and (df.iloc[i+1]['Club'] != df1.iloc[_compteur-1]['Club']) \\\n",
    "                        and (df.iloc[i+1]['Club'] != df1.iloc[_compteur-1]['Club.1']) :\n",
    "            globals()['JURY_%s' %_compteur].append(df2.iloc[[df.index[i]]])\n",
    "            globals()['JURY_%s' %_compteur].append(df2.iloc[[df.index[i+1]]])\n",
    "            _compteur += 1\n",
    "            _flag = 1\n",
    "            continue\n",
    "        else:\n",
    "            _compteur += 1\n",
    "            if _compteur > _end:\n",
    "                _compteur = _start\n",
    "            if (df.iloc[i]['binned'] == df.iloc[i+1]['binned']) \\\n",
    "            and (df.iloc[i]['Club'] != df1.iloc[_compteur-1]['Club']) \\\n",
    "                and (df.iloc[i]['Club'] != df1.iloc[_compteur-1]['Club.1']) \\\n",
    "                    and (df.iloc[i+1]['Club'] != df1.iloc[_compteur-1]['Club']) \\\n",
    "                        and (df.iloc[i+1]['Club'] != df1.iloc[_compteur-1]['Club.1']) :\n",
    "                globals()['JURY_%s' %_compteur].append(df2.iloc[[df.index[i]]])\n",
    "                globals()['JURY_%s' %_compteur].append(df2.iloc[[df.index[i+1]]])\n",
    "                _compteur += 1\n",
    "                _flag = 1\n",
    "                continue\n",
    "            else:\n",
    "                _compteur += 1\n",
    "                if _compteur > _end:\n",
    "                    _compteur = _start\n",
    "                if (df.iloc[i]['binned'] == df.iloc[i+1]['binned']) \\\n",
    "            and (df.iloc[i]['Club'] != df1.iloc[_compteur-1]['Club']) \\\n",
    "                and (df.iloc[i]['Club'] != df1.iloc[_compteur-1]['Club.1']) \\\n",
    "                    and (df.iloc[i+1]['Club'] != df1.iloc[_compteur-1]['Club']) \\\n",
    "                        and (df.iloc[i+1]['Club'] != df1.iloc[_compteur-1]['Club.1']) :\n",
    "                    globals()['JURY_%s' %_compteur].append(df2.iloc[[df.index[i]]])\n",
    "                    globals()['JURY_%s' %_compteur].append(df2.iloc[[df.index[i+1]]])\n",
    "                    _compteur += 1\n",
    "                    _flag = 1\n",
    "                    continue\n",
    "                else:\n",
    "                    _compteur += 1\n",
    "                    if _compteur > _end:\n",
    "                        _compteur = _start\n",
    "\n",
    "        \n",
    "        \n",
    "        if len(df.iloc[i:,:]) <= 2:\n",
    "            globals()['OUTLIERS_%s' %_darga].append(df.iloc[i,:])\n",
    "            try:\n",
    "                globals()['OUTLIERS_%s' %_darga].append(df.iloc[i+1,:])\n",
    "                _flag = 1\n",
    "                break\n",
    "            except:\n",
    "                pass\n",
    "            continue\n",
    "\n",
    "        print('\\ valeur de i',i,'\\n')  \n",
    "    return(_compteur,df,_flag)"
   ]
  },
  {
   "cell_type": "code",
   "execution_count": 15,
   "metadata": {
    "tags": []
   },
   "outputs": [
    {
     "output_type": "stream",
     "name": "stdout",
     "text": "Longeur df 12\n\\ valeur de i 9 \n\nLongeur df 7\n\\ valeur de i 3 \n\nLongeur df 56\n\\ valeur de i 2 \n\n\\ valeur de i 11 \n\n\\ valeur de i 24 \n\n\\ valeur de i 31 \n\nLongeur df 134\n\\ valeur de i 84 \n\n\\ valeur de i 101 \n\n\\ valeur de i 114 \n\n\\ valeur de i 123 \n\nLongueur des binomes 192\nLongueur outliers 4\nTotal 196 sur 209\nPour le jury 17  longueur à:  14\nPour le jury 18  longueur à:  10\nPour le jury 19  longueur à:  10\nPour le jury 20  longueur à:  6\nPour le jury 21  longueur à:  12\nPour le jury 22  longueur à:  10\nPour le jury 23  longueur à:  12\nPour le jury 24  longueur à:  16\nPour le jury 25  longueur à:  10\nPour le jury 26  longueur à:  10\nPour le jury 27  longueur à:  8\nPour le jury 28  longueur à:  10\nPour le jury 29  longueur à:  12\nPour le jury 30  longueur à:  12\nPour le jury 31  longueur à:  6\nPour le jury 32  longueur à:  10\nPour le jury 33  longueur à:  10\nPour le jury 34  longueur à:  14\nCPU times: user 419 ms, sys: 14.7 ms, total: 434 ms\nWall time: 435 ms\n"
    }
   ],
   "source": [
    "%%time\n",
    "# DARGA 1\n",
    "_darga = 1\n",
    "_start = 17\n",
    "_end = 34\n",
    "_compteur = _start\n",
    "_flag = 0\n",
    "_compteur,df,_flag = matching(_compteur,groupeF391D,_flag,_darga)\n",
    "\n",
    "_compteur,df,_flag  = matching(_compteur,groupeF401D,_flag,_darga)\n",
    "\n",
    "_compteur,df,_flag  = matching(_compteur,groupeH391D,_flag,_darga)\n",
    "\n",
    "_compteur,df,_flag  = matching(_compteur,groupeH401D,_flag,_darga)\n",
    "\n",
    "_verif = 0\n",
    "for n in range(_start,_end+1):\n",
    "    _verif += len(globals()['JURY_%s' %n])\n",
    "\n",
    "print('Longueur des binomes',_verif)\n",
    "print('Longueur outliers',len(OUTLIERS_1))\n",
    "print('Total',_verif + len(OUTLIERS_1),'sur',candidats[candidats.Darga==1].shape[0])\n",
    "\n",
    "for n in range(_start,_end+1):\n",
    "    print(\"Pour le jury\",n,\" longueur à: \",len(globals()['JURY_%s' %n]))"
   ]
  },
  {
   "cell_type": "code",
   "execution_count": 21,
   "metadata": {},
   "outputs": [
    {
     "output_type": "execute_result",
     "data": {
      "text/plain": "(34, 28)"
     },
     "metadata": {},
     "execution_count": 21
    }
   ],
   "source": []
  },
  {
   "cell_type": "code",
   "execution_count": 18,
   "metadata": {
    "tags": []
   },
   "outputs": [
    {
     "output_type": "stream",
     "name": "stdout",
     "text": "Longeur df 2\n\ndernière valeur de i 0 \n\nLongeur df 1\n"
    },
    {
     "output_type": "error",
     "ename": "UnboundLocalError",
     "evalue": "local variable 'i' referenced before assignment",
     "traceback": [
      "\u001b[0;31m---------------------------------------------------------------------------\u001b[0m",
      "\u001b[0;31mUnboundLocalError\u001b[0m                         Traceback (most recent call last)",
      "\u001b[0;32m<timed exec>\u001b[0m in \u001b[0;36m<module>\u001b[0;34m\u001b[0m\n",
      "\u001b[0;32m<ipython-input-14-4db462853684>\u001b[0m in \u001b[0;36mmatching\u001b[0;34m(_compteur, df, _flag, _darga)\u001b[0m\n\u001b[1;32m    328\u001b[0m             \u001b[0;32mcontinue\u001b[0m\u001b[0;34m\u001b[0m\u001b[0;34m\u001b[0m\u001b[0m\n\u001b[1;32m    329\u001b[0m \u001b[0;34m\u001b[0m\u001b[0m\n\u001b[0;32m--> 330\u001b[0;31m     \u001b[0mprint\u001b[0m\u001b[0;34m(\u001b[0m\u001b[0;34m'\\ndernière valeur de i'\u001b[0m\u001b[0;34m,\u001b[0m\u001b[0mi\u001b[0m\u001b[0;34m,\u001b[0m\u001b[0;34m'\\n'\u001b[0m\u001b[0;34m)\u001b[0m\u001b[0;34m\u001b[0m\u001b[0;34m\u001b[0m\u001b[0m\n\u001b[0m\u001b[1;32m    331\u001b[0m     \u001b[0;32mreturn\u001b[0m\u001b[0;34m(\u001b[0m\u001b[0m_compteur\u001b[0m\u001b[0;34m,\u001b[0m\u001b[0mdf\u001b[0m\u001b[0;34m,\u001b[0m\u001b[0m_flag\u001b[0m\u001b[0;34m)\u001b[0m\u001b[0;34m\u001b[0m\u001b[0;34m\u001b[0m\u001b[0m\n",
      "\u001b[0;31mUnboundLocalError\u001b[0m: local variable 'i' referenced before assignment"
     ]
    }
   ],
   "source": [
    "%%time\n",
    "# DARGA 2\n",
    "\n",
    "_darga = 2\n",
    "_start = 6\n",
    "_end = 16\n",
    "_compteur = _start\n",
    "_flag = 0\n",
    "_compteur,df,_flag = matching(_compteur,groupeF392D,_flag,_darga)\n",
    "\n",
    "_compteur,df,_flag  = matching(_compteur,groupeF402D,_flag,_darga)\n",
    "\n",
    "_compteur,df,_flag  = matching(_compteur,groupeH392D,_flag,_darga)\n",
    "\n",
    "_compteur,df,_flag  = matching(_compteur,groupeH402D,_flag,_darga)\n",
    "\n",
    "_verif = 0\n",
    "for n in range(_start,_end+1):\n",
    "    _verif += len(globals()['JURY_%s' %n])\n",
    "\n",
    "print('Longueur des binomes',_verif)\n",
    "print('Longueur outliers',len(OUTLIERS_2))\n",
    "print('Total',_verif + len(OUTLIERS_2),'sur',candidats[candidats.Darga==2].shape[0])\n",
    "\n",
    "for n in range(_start,_end+1):\n",
    "    print(\"Pour le jury\",n,\" longueur à: \",len(globals()['JURY_%s' %n]))"
   ]
  },
  {
   "cell_type": "code",
   "execution_count": null,
   "metadata": {},
   "outputs": [],
   "source": []
  },
  {
   "cell_type": "code",
   "execution_count": 24,
   "metadata": {
    "tags": []
   },
   "outputs": [
    {
     "output_type": "stream",
     "name": "stdout",
     "text": "Longeur df 0\n"
    },
    {
     "output_type": "error",
     "ename": "UnboundLocalError",
     "evalue": "local variable 'i' referenced before assignment",
     "traceback": [
      "\u001b[0;31m---------------------------------------------------------------------------\u001b[0m",
      "\u001b[0;31mUnboundLocalError\u001b[0m                         Traceback (most recent call last)",
      "\u001b[0;32m<timed exec>\u001b[0m in \u001b[0;36m<module>\u001b[0;34m\u001b[0m\n",
      "\u001b[0;32m<ipython-input-21-4db462853684>\u001b[0m in \u001b[0;36mmatching\u001b[0;34m(_compteur, df, _flag, _darga)\u001b[0m\n\u001b[1;32m    328\u001b[0m             \u001b[0;32mcontinue\u001b[0m\u001b[0;34m\u001b[0m\u001b[0;34m\u001b[0m\u001b[0m\n\u001b[1;32m    329\u001b[0m \u001b[0;34m\u001b[0m\u001b[0m\n\u001b[0;32m--> 330\u001b[0;31m     \u001b[0mprint\u001b[0m\u001b[0;34m(\u001b[0m\u001b[0;34m'\\ndernière valeur de i'\u001b[0m\u001b[0;34m,\u001b[0m\u001b[0mi\u001b[0m\u001b[0;34m,\u001b[0m\u001b[0;34m'\\n'\u001b[0m\u001b[0;34m)\u001b[0m\u001b[0;34m\u001b[0m\u001b[0;34m\u001b[0m\u001b[0m\n\u001b[0m\u001b[1;32m    331\u001b[0m     \u001b[0;32mreturn\u001b[0m\u001b[0;34m(\u001b[0m\u001b[0m_compteur\u001b[0m\u001b[0;34m,\u001b[0m\u001b[0mdf\u001b[0m\u001b[0;34m,\u001b[0m\u001b[0m_flag\u001b[0m\u001b[0;34m)\u001b[0m\u001b[0;34m\u001b[0m\u001b[0;34m\u001b[0m\u001b[0m\n",
      "\u001b[0;31mUnboundLocalError\u001b[0m: local variable 'i' referenced before assignment"
     ]
    }
   ],
   "source": [
    "%%time\n",
    "# DARGA 3\n",
    "_darga = 3\n",
    "_start = 3\n",
    "_end = 5\n",
    "_compteur = _start\n",
    "_flag = 0\n",
    "_compteur,df,_flag = matching(_compteur,groupeF393D,_flag,_darga)\n",
    "\n",
    "_compteur,df,_flag  = matching(_compteur,groupeF403D,_flag,_darga)\n",
    "\n",
    "_compteur,df,_flag  = matching(_compteur,groupeH393D,_flag,_darga)\n",
    "\n",
    "_compteur,df,_flag  = matching(_compteur,groupeH403D,_flag,_darga)\n",
    "\n",
    "_verif = 0\n",
    "for n in range(_start,_end+1):\n",
    "    _verif += len(globals()['JURY_%s' %n])\n",
    "\n",
    "print('Longueur des binomes',_verif)\n",
    "print('Longueur outliers',len(OUTLIERS_3))\n",
    "print('Total',_verif + len(OUTLIERS_3),'sur',candidats[candidats.Darga==3].shape[0])\n",
    "\n",
    "for n in range(_start,_end+1):\n",
    "    print(\"Pour le jury\",n,\" longueur à: \",len(globals()['JURY_%s' %n]))"
   ]
  },
  {
   "cell_type": "code",
   "execution_count": null,
   "metadata": {},
   "outputs": [],
   "source": []
  },
  {
   "cell_type": "code",
   "execution_count": 18,
   "metadata": {
    "tags": []
   },
   "outputs": [
    {
     "output_type": "stream",
     "name": "stdout",
     "text": "Longeur df -1\n"
    },
    {
     "output_type": "error",
     "ename": "UnboundLocalError",
     "evalue": "local variable 'i' referenced before assignment",
     "traceback": [
      "\u001b[0;31m---------------------------------------------------------------------------\u001b[0m",
      "\u001b[0;31mUnboundLocalError\u001b[0m                         Traceback (most recent call last)",
      "\u001b[0;32m<timed exec>\u001b[0m in \u001b[0;36m<module>\u001b[0;34m\u001b[0m\n",
      "\u001b[0;32m<ipython-input-14-3662849f73d0>\u001b[0m in \u001b[0;36mmatching\u001b[0;34m(_compteur, df, _flag, _darga)\u001b[0m\n\u001b[1;32m    328\u001b[0m             \u001b[0;32mcontinue\u001b[0m\u001b[0;34m\u001b[0m\u001b[0;34m\u001b[0m\u001b[0m\n\u001b[1;32m    329\u001b[0m \u001b[0;34m\u001b[0m\u001b[0m\n\u001b[0;32m--> 330\u001b[0;31m     \u001b[0mprint\u001b[0m\u001b[0;34m(\u001b[0m\u001b[0;34m'\\ndernière valeur de i'\u001b[0m\u001b[0;34m,\u001b[0m\u001b[0mi\u001b[0m\u001b[0;34m,\u001b[0m\u001b[0;34m'\\n'\u001b[0m\u001b[0;34m)\u001b[0m\u001b[0;34m\u001b[0m\u001b[0;34m\u001b[0m\u001b[0m\n\u001b[0m\u001b[1;32m    331\u001b[0m     \u001b[0;32mreturn\u001b[0m\u001b[0;34m(\u001b[0m\u001b[0m_compteur\u001b[0m\u001b[0;34m,\u001b[0m\u001b[0mdf\u001b[0m\u001b[0;34m,\u001b[0m\u001b[0m_flag\u001b[0m\u001b[0;34m)\u001b[0m\u001b[0;34m\u001b[0m\u001b[0;34m\u001b[0m\u001b[0m\n",
      "\u001b[0;31mUnboundLocalError\u001b[0m: local variable 'i' referenced before assignment"
     ]
    }
   ],
   "source": [
    "%%time\n",
    "# DARGA 4\n",
    "_darga = 4\n",
    "_start = 1\n",
    "_end = 2\n",
    "_compteur = _start\n",
    "_flag = 0\n",
    "_compteur,df,_flag = matching(_compteur,groupeF394D,_flag,_darga)\n",
    "\n",
    "_compteur,df,_flag  = matching(_compteur,groupeF404D,_flag,_darga)\n",
    "\n",
    "_compteur,df,_flag  = matching(_compteur,groupeH394D,_flag,_darga)\n",
    "\n",
    "_compteur,df,_flag  = matching(_compteur,groupeH404D,_flag,_darga)\n",
    "\n",
    "_verif = 0\n",
    "for n in range(_start,_end+1):\n",
    "    _verif += len(globals()['JURY_%s' %n])\n",
    "\n",
    "print('Longueur des binomes',_verif)\n",
    "print('Longueur outliers',len(OUTLIERS_4))\n",
    "print('Total',_verif + len(OUTLIERS_4),'sur',candidats[candidats.Darga==4].shape[0])\n",
    "\n",
    "for n in range(_start,_end):\n",
    "    print(\"Pour le jury\",n,\" longueur à: \",len(globals()['JURY_%s' %n]))"
   ]
  },
  {
   "cell_type": "code",
   "execution_count": 19,
   "metadata": {},
   "outputs": [],
   "source": []
  },
  {
   "cell_type": "code",
   "execution_count": null,
   "metadata": {},
   "outputs": [],
   "source": []
  },
  {
   "cell_type": "code",
   "execution_count": 21,
   "metadata": {},
   "outputs": [
    {
     "output_type": "execute_result",
     "data": {
      "text/plain": "[   Civilité      Nom  Prénom                    Email       Téléphone  \\\n 58      Mme  CLEMENT  NOEMIE  noclement1220@gmail.com  06.60.32.56.27   \n \n          Date naissance Date examen  age  >=40   Club     Darga  Poids   UV  \\\n 58  1983-02-05 00:00:00  2021-01-30   37   NaN  AMA95  Exam. 1d     46  NaN   \n \n    Table Jury  \n 58      Jury9  ,\n     Civilité    Nom  Prénom                   Email       Téléphone  \\\n 230      Mme  PEREZ  Sylvie  sylvie.perez77@free.fr  06.15.14.55.42   \n \n           Date naissance Date examen  age  >=40 Club     Darga  Poids   UV  \\\n 230  1976-05-14 00:00:00  2021-01-30   44   1.0  DSA  Exam. 1d     50  NaN   \n \n     Table Jury  \n 230     Jury18  ,\n     Civilité      Nom    Prénom                Email       Téléphone  \\\n 264      Mme  SALMIER  Sandrine  slane1407@gmail.com  06.59.82.83.62   \n \n           Date naissance Date examen  age  >=40           Club     Darga  \\\n 264  1968-07-14 00:00:00  2021-01-30   52   1.0  KM PROTECTION  Exam. 1d   \n \n      Poids   UV Table Jury  \n 264     61  NaN     Jury15  ,\n     Civilité      Nom Prénom                Email       Téléphone  \\\n 177       M.  LEMAIRE  Ulric  ulric95@hotmail.com  06.72.56.68.07   \n \n           Date naissance Date examen  age  >=40   Club     Darga  Poids  \\\n 177  1984-07-31 00:00:00  2021-01-30   36   NaN  KMC92  Exam. 1d     90   \n \n            UV Table Jury  \n 177  1,2,3a,4     Jury32  ,\n    Civilité      Nom   Prénom                 Email       Téléphone  \\\n 64       M.  CREUSOT  Mathieu  ebushimott@gmail.com  06.61.03.57.62   \n \n          Date naissance Date examen  age  >=40  Club     Darga  Poids   UV  \\\n 64  1982-10-16 00:00:00  2021-01-30   38   NaN  ASKM  Exam. 1d    100  NaN   \n \n    Table Jury  \n 64      Jury6  ,\n     Civilité     Nom      Prénom               Email       Téléphone  \\\n 132       M.  GREVIN  Christophe  c.grevin@gmail.com  06.34.22.10.13   \n \n           Date naissance Date examen  age  >=40    Club     Darga  Poids  \\\n 132  1986-05-06 00:00:00  2021-01-30   34   NaN  AKMC91  Exam. 1d    104   \n \n           UV Table Jury  \n 132  1,4,5,6     Jury17  ,\n Civilité       1\n age            0\n Club        ENKM\n Darga          1\n Poids        110\n id             2\n binned        16\n Name: 2, dtype: object]"
     },
     "metadata": {},
     "execution_count": 21
    }
   ],
   "source": [
    "OUTLIERS_1"
   ]
  },
  {
   "cell_type": "code",
   "execution_count": 21,
   "metadata": {},
   "outputs": [
    {
     "output_type": "execute_result",
     "data": {
      "text/plain": "[   Civilité     Nom Prénom                 Email       Téléphone  \\\n 87       M.  DOYARD  Denis  denis.doyard@live.fr  06.18.53.46.92   \n \n          Date naissance Date examen  age  >=40        Club     Darga  Poids  \\\n 87  1981-07-24 00:00:00  2021-01-30   39   NaN  KM SEZANNE  Exam. 3D     77   \n \n      UV Table Jury  \n 87  1.2      Jury2  ,\n     Civilité    Nom               Prénom              Email       Téléphone  \\\n 129       M.  GRECO  RAPHAEL ABDOURAHMAN  a83000@hotmail.fr  06.11.45.61.33   \n \n           Date naissance Date examen  age  >=40       Club     Darga  Poids  \\\n 129  1982-05-19 00:00:00  2021-01-30   38   NaN  KMSP TLON  Exam. 3D     80   \n \n       UV Table Jury  \n 129  NaN      Jury1  ,\n     Civilité       Nom    Prénom                       Email       Téléphone  \\\n 152       M.  JÉDROCHA  Frédéric  fredericjedrocha@gmail.com  O6.03.55.13.90   \n \n           Date naissance Date examen  age  >=40  Club     Darga  Poids   UV  \\\n 152  1969-05-12 00:00:00  2021-01-30   51   1.0  EKMC  Exam. 3D     83  NaN   \n \n     Table Jury  \n 152      Jury5  ,\n     Civilité      Nom Prénom                         Email       Téléphone  \\\n 292       M.  TILLARD   Eric  tillard.decoration@gmail.com  07.71.57.07.07   \n \n           Date naissance Date examen  age  >=40  Club     Darga  Poids   UV  \\\n 292  1967-07-15 00:00:00  2021-01-30   53   1.0  KMCT  Exam. 3D     82  NaN   \n \n     Table Jury  \n 292      Jury2  ]"
     },
     "metadata": {},
     "execution_count": 21
    }
   ],
   "source": [
    "JURY_4"
   ]
  },
  {
   "cell_type": "code",
   "execution_count": 22,
   "metadata": {},
   "outputs": [
    {
     "output_type": "execute_result",
     "data": {
      "text/plain": "[  Civilité     Nom    Prénom                      Email       Téléphone  \\\n 4       M.  AMELIN  Frédéric  frederic.amelin@gmail.com  06.34.41.58.23   \n \n         Date naissance Date examen  age  >=40   Club     Darga  Poids   UV  \\\n 4  1980-06-27 00:00:00  2021-01-30   40   1.0  KMC92  Exam. 3D     68  NaN   \n \n   Table Jury  \n 4      Jury3  ,\n     Civilité        Nom      Prénom                             Email  \\\n 266       M.  SAUVANET   Dominique   domininique.sauvanet92@gmail.com   \n \n           Téléphone       Date naissance Date examen  age  >=40  Club  \\\n 266  06.66.89.85.80  1951-02-10 00:00:00  2021-01-30   69   1.0  KM16   \n \n         Darga  Poids   UV Table Jury  \n 266  Exam. 3D     68  NaN      Jury2  ,\n    Civilité        Nom   Prénom                     Email       Téléphone  \\\n 30       M.  BOULANGER  NICOLAS  nicolasboulanger@neuf.fr  06.19.65.23.20   \n \n          Date naissance Date examen  age  >=40       Club     Darga  Poids  \\\n 30  1968-09-01 00:00:00  2021-01-30   52   1.0  KM AMIENS  Exam. 3D     86   \n \n      UV Table Jury  \n 30  NaN      Jury3  ,\n    Civilité        Nom    Prénom                         Email  \\\n 51       M.  CHADUTEAU  Philippe  philippe.chaduteau@gmail.com   \n \n          Téléphone       Date naissance Date examen  age  >=40  Club  \\\n 51  06.07.35.76.21  1962-12-05 00:00:00  2021-01-30   58   1.0  EKMC   \n \n        Darga  Poids   UV Table Jury  \n 51  Exam. 3D     85  NaN      Jury3  ]"
     },
     "metadata": {},
     "execution_count": 22
    }
   ],
   "source": [
    "JURY_5"
   ]
  },
  {
   "cell_type": "code",
   "execution_count": 27,
   "metadata": {},
   "outputs": [
    {
     "output_type": "execute_result",
     "data": {
      "text/plain": "     Civilité  age          Club  Darga  Poids   id binned\n26          1    0        ECKM93      3     62   26      5\n17          1    0      BELGIQUE      3     71   17      7\n254         1    0         KMC92      3     72  254      7\n87          1    0    KM SEZANNE      3     77   87      9\n129         1    0     KMSP TLON      3     80  129      9\n181         1    0  KM CHAMPAGNE      3     83  181     10",
      "text/html": "<div>\n<style scoped>\n    .dataframe tbody tr th:only-of-type {\n        vertical-align: middle;\n    }\n\n    .dataframe tbody tr th {\n        vertical-align: top;\n    }\n\n    .dataframe thead th {\n        text-align: right;\n    }\n</style>\n<table border=\"1\" class=\"dataframe\">\n  <thead>\n    <tr style=\"text-align: right;\">\n      <th></th>\n      <th>Civilité</th>\n      <th>age</th>\n      <th>Club</th>\n      <th>Darga</th>\n      <th>Poids</th>\n      <th>id</th>\n      <th>binned</th>\n    </tr>\n  </thead>\n  <tbody>\n    <tr>\n      <th>26</th>\n      <td>1</td>\n      <td>0</td>\n      <td>ECKM93</td>\n      <td>3</td>\n      <td>62</td>\n      <td>26</td>\n      <td>5</td>\n    </tr>\n    <tr>\n      <th>17</th>\n      <td>1</td>\n      <td>0</td>\n      <td>BELGIQUE</td>\n      <td>3</td>\n      <td>71</td>\n      <td>17</td>\n      <td>7</td>\n    </tr>\n    <tr>\n      <th>254</th>\n      <td>1</td>\n      <td>0</td>\n      <td>KMC92</td>\n      <td>3</td>\n      <td>72</td>\n      <td>254</td>\n      <td>7</td>\n    </tr>\n    <tr>\n      <th>87</th>\n      <td>1</td>\n      <td>0</td>\n      <td>KM SEZANNE</td>\n      <td>3</td>\n      <td>77</td>\n      <td>87</td>\n      <td>9</td>\n    </tr>\n    <tr>\n      <th>129</th>\n      <td>1</td>\n      <td>0</td>\n      <td>KMSP TLON</td>\n      <td>3</td>\n      <td>80</td>\n      <td>129</td>\n      <td>9</td>\n    </tr>\n    <tr>\n      <th>181</th>\n      <td>1</td>\n      <td>0</td>\n      <td>KM CHAMPAGNE</td>\n      <td>3</td>\n      <td>83</td>\n      <td>181</td>\n      <td>10</td>\n    </tr>\n  </tbody>\n</table>\n</div>"
     },
     "metadata": {},
     "execution_count": 27
    }
   ],
   "source": [
    "groupeH393D.sort_values('binned')"
   ]
  },
  {
   "cell_type": "code",
   "execution_count": 28,
   "metadata": {},
   "outputs": [
    {
     "output_type": "execute_result",
     "data": {
      "text/plain": "     Civilité  age                  Club  Darga  Poids   id binned\n4           1    1                 KMC92      3     68    4      6\n266         1    1                  KM16      3     68  266      6\n130         1    1               POLOGNE      3     70  130      7\n168         1    1                  KM14      3     74  168      8\n217         1    1              PORTUGAL      3     73  217      8\n218         1    1  Ecole dionysienne KM      3     76  218      8\n155         1    1  Ecole dionysienne KM      3     80  155      9\n156         1    1               KM CAEN      3     77  156      9\n152         1    1                  EKMC      3     83  152     10\n292         1    1                  KMCT      3     82  292     10\n30          1    1             KM AMIENS      3     86   30     11\n51          1    1                  EKMC      3     85   51     11\n185         1    1                 KMB95      3     95  185     13\n224         1    1                   ESA      3     95  224     13\n291         1    1                  ADAM      3     98  291     14\n269         1    1            SKM GISORS      3    105  269     16",
      "text/html": "<div>\n<style scoped>\n    .dataframe tbody tr th:only-of-type {\n        vertical-align: middle;\n    }\n\n    .dataframe tbody tr th {\n        vertical-align: top;\n    }\n\n    .dataframe thead th {\n        text-align: right;\n    }\n</style>\n<table border=\"1\" class=\"dataframe\">\n  <thead>\n    <tr style=\"text-align: right;\">\n      <th></th>\n      <th>Civilité</th>\n      <th>age</th>\n      <th>Club</th>\n      <th>Darga</th>\n      <th>Poids</th>\n      <th>id</th>\n      <th>binned</th>\n    </tr>\n  </thead>\n  <tbody>\n    <tr>\n      <th>4</th>\n      <td>1</td>\n      <td>1</td>\n      <td>KMC92</td>\n      <td>3</td>\n      <td>68</td>\n      <td>4</td>\n      <td>6</td>\n    </tr>\n    <tr>\n      <th>266</th>\n      <td>1</td>\n      <td>1</td>\n      <td>KM16</td>\n      <td>3</td>\n      <td>68</td>\n      <td>266</td>\n      <td>6</td>\n    </tr>\n    <tr>\n      <th>130</th>\n      <td>1</td>\n      <td>1</td>\n      <td>POLOGNE</td>\n      <td>3</td>\n      <td>70</td>\n      <td>130</td>\n      <td>7</td>\n    </tr>\n    <tr>\n      <th>168</th>\n      <td>1</td>\n      <td>1</td>\n      <td>KM14</td>\n      <td>3</td>\n      <td>74</td>\n      <td>168</td>\n      <td>8</td>\n    </tr>\n    <tr>\n      <th>217</th>\n      <td>1</td>\n      <td>1</td>\n      <td>PORTUGAL</td>\n      <td>3</td>\n      <td>73</td>\n      <td>217</td>\n      <td>8</td>\n    </tr>\n    <tr>\n      <th>218</th>\n      <td>1</td>\n      <td>1</td>\n      <td>Ecole dionysienne KM</td>\n      <td>3</td>\n      <td>76</td>\n      <td>218</td>\n      <td>8</td>\n    </tr>\n    <tr>\n      <th>155</th>\n      <td>1</td>\n      <td>1</td>\n      <td>Ecole dionysienne KM</td>\n      <td>3</td>\n      <td>80</td>\n      <td>155</td>\n      <td>9</td>\n    </tr>\n    <tr>\n      <th>156</th>\n      <td>1</td>\n      <td>1</td>\n      <td>KM CAEN</td>\n      <td>3</td>\n      <td>77</td>\n      <td>156</td>\n      <td>9</td>\n    </tr>\n    <tr>\n      <th>152</th>\n      <td>1</td>\n      <td>1</td>\n      <td>EKMC</td>\n      <td>3</td>\n      <td>83</td>\n      <td>152</td>\n      <td>10</td>\n    </tr>\n    <tr>\n      <th>292</th>\n      <td>1</td>\n      <td>1</td>\n      <td>KMCT</td>\n      <td>3</td>\n      <td>82</td>\n      <td>292</td>\n      <td>10</td>\n    </tr>\n    <tr>\n      <th>30</th>\n      <td>1</td>\n      <td>1</td>\n      <td>KM AMIENS</td>\n      <td>3</td>\n      <td>86</td>\n      <td>30</td>\n      <td>11</td>\n    </tr>\n    <tr>\n      <th>51</th>\n      <td>1</td>\n      <td>1</td>\n      <td>EKMC</td>\n      <td>3</td>\n      <td>85</td>\n      <td>51</td>\n      <td>11</td>\n    </tr>\n    <tr>\n      <th>185</th>\n      <td>1</td>\n      <td>1</td>\n      <td>KMB95</td>\n      <td>3</td>\n      <td>95</td>\n      <td>185</td>\n      <td>13</td>\n    </tr>\n    <tr>\n      <th>224</th>\n      <td>1</td>\n      <td>1</td>\n      <td>ESA</td>\n      <td>3</td>\n      <td>95</td>\n      <td>224</td>\n      <td>13</td>\n    </tr>\n    <tr>\n      <th>291</th>\n      <td>1</td>\n      <td>1</td>\n      <td>ADAM</td>\n      <td>3</td>\n      <td>98</td>\n      <td>291</td>\n      <td>14</td>\n    </tr>\n    <tr>\n      <th>269</th>\n      <td>1</td>\n      <td>1</td>\n      <td>SKM GISORS</td>\n      <td>3</td>\n      <td>105</td>\n      <td>269</td>\n      <td>16</td>\n    </tr>\n  </tbody>\n</table>\n</div>"
     },
     "metadata": {},
     "execution_count": 28
    }
   ],
   "source": [
    "groupeH403D.sort_values('binned')"
   ]
  },
  {
   "cell_type": "code",
   "execution_count": 29,
   "metadata": {},
   "outputs": [
    {
     "output_type": "execute_result",
     "data": {
      "text/plain": "Empty DataFrame\nColumns: [Civilité, age, Club, Darga, Poids, id, binned]\nIndex: []",
      "text/html": "<div>\n<style scoped>\n    .dataframe tbody tr th:only-of-type {\n        vertical-align: middle;\n    }\n\n    .dataframe tbody tr th {\n        vertical-align: top;\n    }\n\n    .dataframe thead th {\n        text-align: right;\n    }\n</style>\n<table border=\"1\" class=\"dataframe\">\n  <thead>\n    <tr style=\"text-align: right;\">\n      <th></th>\n      <th>Civilité</th>\n      <th>age</th>\n      <th>Club</th>\n      <th>Darga</th>\n      <th>Poids</th>\n      <th>id</th>\n      <th>binned</th>\n    </tr>\n  </thead>\n  <tbody>\n  </tbody>\n</table>\n</div>"
     },
     "metadata": {},
     "execution_count": 29
    }
   ],
   "source": [
    "groupeF393D.sort_values('binned')"
   ]
  },
  {
   "cell_type": "code",
   "execution_count": 30,
   "metadata": {},
   "outputs": [
    {
     "output_type": "execute_result",
     "data": {
      "text/plain": "    Civilité  age  Club  Darga  Poids  id binned\n89         0    1  KMQG      3     58  89      4",
      "text/html": "<div>\n<style scoped>\n    .dataframe tbody tr th:only-of-type {\n        vertical-align: middle;\n    }\n\n    .dataframe tbody tr th {\n        vertical-align: top;\n    }\n\n    .dataframe thead th {\n        text-align: right;\n    }\n</style>\n<table border=\"1\" class=\"dataframe\">\n  <thead>\n    <tr style=\"text-align: right;\">\n      <th></th>\n      <th>Civilité</th>\n      <th>age</th>\n      <th>Club</th>\n      <th>Darga</th>\n      <th>Poids</th>\n      <th>id</th>\n      <th>binned</th>\n    </tr>\n  </thead>\n  <tbody>\n    <tr>\n      <th>89</th>\n      <td>0</td>\n      <td>1</td>\n      <td>KMQG</td>\n      <td>3</td>\n      <td>58</td>\n      <td>89</td>\n      <td>4</td>\n    </tr>\n  </tbody>\n</table>\n</div>"
     },
     "metadata": {},
     "execution_count": 30
    }
   ],
   "source": [
    "groupeF403D.sort_values('binned')"
   ]
  },
  {
   "cell_type": "code",
   "execution_count": 561,
   "metadata": {},
   "outputs": [
    {
     "output_type": "execute_result",
     "data": {
      "text/plain": "   N° Jury                 Jury1                   Club  \\\n0    Jury1        DE BAERE Teddy                   CFKM   \n1    Jury2      SCHUSTER Cyrille                  KMC92   \n2    Jury3        HASSINE Gilles                   ASKM   \n3    Jury4              ATIA Léo                  KMUD    \n4    Jury5      COHEN Jean-David                  KmnCo   \n5    Jury6            VEILLERANT                  KMC92   \n6    Jury7       SOUSSAND Cédric                   EKMC   \n7    Jury8    BERTHOMMIER Gilles                 ECKM93   \n8    Jury9      GUILBERT Olivier                   KM49   \n9   Jury10        EUZENAT Thomas                TEAMK37   \n10  Jury11            FOY Marvin            EPKM VEMARS   \n11  Jury12  SCHLAGDENHAUFEN Yves          KM SARREBOURG   \n12  Jury13      HOYON Christophe                 ECKM93   \n13  Jury14       THEVENET Romain                 ECKM93   \n14  Jury15   FAUCONNIER François                   ENKM   \n15  Jury16        LORAUD Patrice                   KM73   \n16  Jury17      LE TOUZé Antoine                   KMPO   \n17  Jury18      DELANNOY Francis                KMSALON   \n18  Jury19     FERNANDES Sérafin             KM SEZANNE   \n19  Jury20         DUCAY Estelle                 ECKM93   \n20  Jury21          PASTOR Yoann                 KMPV38   \n21  Jury22            NAIR Mehdi                   KMMA   \n22  Jury23        PASTOR Vincent                 KMPV38   \n23  Jury24        BOUNEGAB Thara                  AKMTB   \n24  Jury25         THION Mathieu           KM COTE d’OR   \n25  Jury26        GAGNERIE Allan                   KM56   \n26  Jury27          NIGER Didier  ECOLE DYIONISIENNE KM   \n27  Jury28         THAI Bertrand                 AKMC91   \n28  Jury29    PFEFERBERG Grégpry               BODY-VIP   \n29  Jury30       CHAGNIOT Franck     Cercle Parisien KM   \n30  Jury31      CUISSARD Ludovic               KANAZAWA   \n31  Jury32            ROUTY Joël     KM LE MOLAY LITTRY   \n32  Jury33       GERINTE Florian                  KMC92   \n33  Jury34       LUCARD Frédéric                   KMRM   \n\n                      Jury2                     Club.1  PASSAGE1  PASSAGE2  \\\n0   ROGUES DE FURSAC Arnaud                       ECKM         0         0   \n1            ALLOUCHE David                        KMM         0         0   \n2               HUVET Jimmy                 KM MINDSET         0         1   \n3           OLIVEIRA Cédric                     AKMC91         0         1   \n4            DAL PONT Marco                       KM14         0         1   \n5          PLENAMENTE Denis                       KMUD         1         1   \n6             TAGLIANA Eric                      KMC92         1         1   \n7       DELAMESIERE Arnauld                       AKMV         1         1   \n8              GUIOT Maxime  AMICALE POMPIERS MULHOUSE         1         1   \n9           FEYDEAU Vincent     ECOLE MONTROUGIENNE KM         1         1   \n10         CHABI Christophe                     AIN KM         1         1   \n11       VANDEVOORDE Damien                       ADKM         1         1   \n12         MALEVILLE Benoit                     AKMC91         1         1   \n13          SERIO Francesca                KM COACHING         1         1   \n14         GIELINSKI Pierre                       KMCT         1         1   \n15         MARY Jean-Didier                       ADKM         1         1   \n16              WACK Fabien                       KM75         1         0   \n17           MARSOL Nicolas                       KM75         1         1   \n18        MARCHAT Alexandre                       KM16         1         0   \n19             SAIMI Nadjim                      KMC92         1         0   \n20             ALIX Olivier                    100 %KM         1         0   \n21             REMY Olivier                     ECKM93         1         0   \n22          CHAIGNEAU Brice                       KM14         1         0   \n23             LONG Patrick                    KM LYON         1         0   \n24           DEMOUY Nicolas                      KMC92         1         0   \n25           FRESNET Samuel                  KM ANGERS         1         0   \n26     BRUNETTO Jean-Pierre                    KM LYON         1         0   \n27             NDIAYE Manou         KM VISION MARTIALE         1         0   \n28          CASTAGNé Julien                       ADAM         1         0   \n29       MARIE Jean-Charles                       KM14         1         0   \n30             HOCINE Kamel                     ECKM93         1         0   \n31          GAUTHERON David                       ADAM         1         0   \n32           LOSADA Mathieu      FIGHT SCHOOL BIARRITZ         1         0   \n33              KRIM Lazhar                       KMAC         1         0   \n\n    PASSAGE3  PASSAGE4  \n0          1         1  \n1          1         1  \n2          1         0  \n3          1         0  \n4          1         0  \n5          0         0  \n6          0         0  \n7          0         0  \n8          0         0  \n9          0         0  \n10         0         0  \n11         0         0  \n12         0         0  \n13         0         0  \n14         0         0  \n15         0         0  \n16         0         0  \n17         0         0  \n18         0         0  \n19         0         0  \n20         0         0  \n21         0         0  \n22         0         0  \n23         0         0  \n24         0         0  \n25         0         0  \n26         0         0  \n27         0         0  \n28         0         0  \n29         0         0  \n30         0         0  \n31         0         0  \n32         0         0  \n33         0         0  ",
      "text/html": "<div>\n<style scoped>\n    .dataframe tbody tr th:only-of-type {\n        vertical-align: middle;\n    }\n\n    .dataframe tbody tr th {\n        vertical-align: top;\n    }\n\n    .dataframe thead th {\n        text-align: right;\n    }\n</style>\n<table border=\"1\" class=\"dataframe\">\n  <thead>\n    <tr style=\"text-align: right;\">\n      <th></th>\n      <th>N° Jury</th>\n      <th>Jury1</th>\n      <th>Club</th>\n      <th>Jury2</th>\n      <th>Club.1</th>\n      <th>PASSAGE1</th>\n      <th>PASSAGE2</th>\n      <th>PASSAGE3</th>\n      <th>PASSAGE4</th>\n    </tr>\n  </thead>\n  <tbody>\n    <tr>\n      <th>0</th>\n      <td>Jury1</td>\n      <td>DE BAERE Teddy</td>\n      <td>CFKM</td>\n      <td>ROGUES DE FURSAC Arnaud</td>\n      <td>ECKM</td>\n      <td>0</td>\n      <td>0</td>\n      <td>1</td>\n      <td>1</td>\n    </tr>\n    <tr>\n      <th>1</th>\n      <td>Jury2</td>\n      <td>SCHUSTER Cyrille</td>\n      <td>KMC92</td>\n      <td>ALLOUCHE David</td>\n      <td>KMM</td>\n      <td>0</td>\n      <td>0</td>\n      <td>1</td>\n      <td>1</td>\n    </tr>\n    <tr>\n      <th>2</th>\n      <td>Jury3</td>\n      <td>HASSINE Gilles</td>\n      <td>ASKM</td>\n      <td>HUVET Jimmy</td>\n      <td>KM MINDSET</td>\n      <td>0</td>\n      <td>1</td>\n      <td>1</td>\n      <td>0</td>\n    </tr>\n    <tr>\n      <th>3</th>\n      <td>Jury4</td>\n      <td>ATIA Léo</td>\n      <td>KMUD</td>\n      <td>OLIVEIRA Cédric</td>\n      <td>AKMC91</td>\n      <td>0</td>\n      <td>1</td>\n      <td>1</td>\n      <td>0</td>\n    </tr>\n    <tr>\n      <th>4</th>\n      <td>Jury5</td>\n      <td>COHEN Jean-David</td>\n      <td>KmnCo</td>\n      <td>DAL PONT Marco</td>\n      <td>KM14</td>\n      <td>0</td>\n      <td>1</td>\n      <td>1</td>\n      <td>0</td>\n    </tr>\n    <tr>\n      <th>5</th>\n      <td>Jury6</td>\n      <td>VEILLERANT</td>\n      <td>KMC92</td>\n      <td>PLENAMENTE Denis</td>\n      <td>KMUD</td>\n      <td>1</td>\n      <td>1</td>\n      <td>0</td>\n      <td>0</td>\n    </tr>\n    <tr>\n      <th>6</th>\n      <td>Jury7</td>\n      <td>SOUSSAND Cédric</td>\n      <td>EKMC</td>\n      <td>TAGLIANA Eric</td>\n      <td>KMC92</td>\n      <td>1</td>\n      <td>1</td>\n      <td>0</td>\n      <td>0</td>\n    </tr>\n    <tr>\n      <th>7</th>\n      <td>Jury8</td>\n      <td>BERTHOMMIER Gilles</td>\n      <td>ECKM93</td>\n      <td>DELAMESIERE Arnauld</td>\n      <td>AKMV</td>\n      <td>1</td>\n      <td>1</td>\n      <td>0</td>\n      <td>0</td>\n    </tr>\n    <tr>\n      <th>8</th>\n      <td>Jury9</td>\n      <td>GUILBERT Olivier</td>\n      <td>KM49</td>\n      <td>GUIOT Maxime</td>\n      <td>AMICALE POMPIERS MULHOUSE</td>\n      <td>1</td>\n      <td>1</td>\n      <td>0</td>\n      <td>0</td>\n    </tr>\n    <tr>\n      <th>9</th>\n      <td>Jury10</td>\n      <td>EUZENAT Thomas</td>\n      <td>TEAMK37</td>\n      <td>FEYDEAU Vincent</td>\n      <td>ECOLE MONTROUGIENNE KM</td>\n      <td>1</td>\n      <td>1</td>\n      <td>0</td>\n      <td>0</td>\n    </tr>\n    <tr>\n      <th>10</th>\n      <td>Jury11</td>\n      <td>FOY Marvin</td>\n      <td>EPKM VEMARS</td>\n      <td>CHABI Christophe</td>\n      <td>AIN KM</td>\n      <td>1</td>\n      <td>1</td>\n      <td>0</td>\n      <td>0</td>\n    </tr>\n    <tr>\n      <th>11</th>\n      <td>Jury12</td>\n      <td>SCHLAGDENHAUFEN Yves</td>\n      <td>KM SARREBOURG</td>\n      <td>VANDEVOORDE Damien</td>\n      <td>ADKM</td>\n      <td>1</td>\n      <td>1</td>\n      <td>0</td>\n      <td>0</td>\n    </tr>\n    <tr>\n      <th>12</th>\n      <td>Jury13</td>\n      <td>HOYON Christophe</td>\n      <td>ECKM93</td>\n      <td>MALEVILLE Benoit</td>\n      <td>AKMC91</td>\n      <td>1</td>\n      <td>1</td>\n      <td>0</td>\n      <td>0</td>\n    </tr>\n    <tr>\n      <th>13</th>\n      <td>Jury14</td>\n      <td>THEVENET Romain</td>\n      <td>ECKM93</td>\n      <td>SERIO Francesca</td>\n      <td>KM COACHING</td>\n      <td>1</td>\n      <td>1</td>\n      <td>0</td>\n      <td>0</td>\n    </tr>\n    <tr>\n      <th>14</th>\n      <td>Jury15</td>\n      <td>FAUCONNIER François</td>\n      <td>ENKM</td>\n      <td>GIELINSKI Pierre</td>\n      <td>KMCT</td>\n      <td>1</td>\n      <td>1</td>\n      <td>0</td>\n      <td>0</td>\n    </tr>\n    <tr>\n      <th>15</th>\n      <td>Jury16</td>\n      <td>LORAUD Patrice</td>\n      <td>KM73</td>\n      <td>MARY Jean-Didier</td>\n      <td>ADKM</td>\n      <td>1</td>\n      <td>1</td>\n      <td>0</td>\n      <td>0</td>\n    </tr>\n    <tr>\n      <th>16</th>\n      <td>Jury17</td>\n      <td>LE TOUZé Antoine</td>\n      <td>KMPO</td>\n      <td>WACK Fabien</td>\n      <td>KM75</td>\n      <td>1</td>\n      <td>0</td>\n      <td>0</td>\n      <td>0</td>\n    </tr>\n    <tr>\n      <th>17</th>\n      <td>Jury18</td>\n      <td>DELANNOY Francis</td>\n      <td>KMSALON</td>\n      <td>MARSOL Nicolas</td>\n      <td>KM75</td>\n      <td>1</td>\n      <td>1</td>\n      <td>0</td>\n      <td>0</td>\n    </tr>\n    <tr>\n      <th>18</th>\n      <td>Jury19</td>\n      <td>FERNANDES Sérafin</td>\n      <td>KM SEZANNE</td>\n      <td>MARCHAT Alexandre</td>\n      <td>KM16</td>\n      <td>1</td>\n      <td>0</td>\n      <td>0</td>\n      <td>0</td>\n    </tr>\n    <tr>\n      <th>19</th>\n      <td>Jury20</td>\n      <td>DUCAY Estelle</td>\n      <td>ECKM93</td>\n      <td>SAIMI Nadjim</td>\n      <td>KMC92</td>\n      <td>1</td>\n      <td>0</td>\n      <td>0</td>\n      <td>0</td>\n    </tr>\n    <tr>\n      <th>20</th>\n      <td>Jury21</td>\n      <td>PASTOR Yoann</td>\n      <td>KMPV38</td>\n      <td>ALIX Olivier</td>\n      <td>100 %KM</td>\n      <td>1</td>\n      <td>0</td>\n      <td>0</td>\n      <td>0</td>\n    </tr>\n    <tr>\n      <th>21</th>\n      <td>Jury22</td>\n      <td>NAIR Mehdi</td>\n      <td>KMMA</td>\n      <td>REMY Olivier</td>\n      <td>ECKM93</td>\n      <td>1</td>\n      <td>0</td>\n      <td>0</td>\n      <td>0</td>\n    </tr>\n    <tr>\n      <th>22</th>\n      <td>Jury23</td>\n      <td>PASTOR Vincent</td>\n      <td>KMPV38</td>\n      <td>CHAIGNEAU Brice</td>\n      <td>KM14</td>\n      <td>1</td>\n      <td>0</td>\n      <td>0</td>\n      <td>0</td>\n    </tr>\n    <tr>\n      <th>23</th>\n      <td>Jury24</td>\n      <td>BOUNEGAB Thara</td>\n      <td>AKMTB</td>\n      <td>LONG Patrick</td>\n      <td>KM LYON</td>\n      <td>1</td>\n      <td>0</td>\n      <td>0</td>\n      <td>0</td>\n    </tr>\n    <tr>\n      <th>24</th>\n      <td>Jury25</td>\n      <td>THION Mathieu</td>\n      <td>KM COTE d’OR</td>\n      <td>DEMOUY Nicolas</td>\n      <td>KMC92</td>\n      <td>1</td>\n      <td>0</td>\n      <td>0</td>\n      <td>0</td>\n    </tr>\n    <tr>\n      <th>25</th>\n      <td>Jury26</td>\n      <td>GAGNERIE Allan</td>\n      <td>KM56</td>\n      <td>FRESNET Samuel</td>\n      <td>KM ANGERS</td>\n      <td>1</td>\n      <td>0</td>\n      <td>0</td>\n      <td>0</td>\n    </tr>\n    <tr>\n      <th>26</th>\n      <td>Jury27</td>\n      <td>NIGER Didier</td>\n      <td>ECOLE DYIONISIENNE KM</td>\n      <td>BRUNETTO Jean-Pierre</td>\n      <td>KM LYON</td>\n      <td>1</td>\n      <td>0</td>\n      <td>0</td>\n      <td>0</td>\n    </tr>\n    <tr>\n      <th>27</th>\n      <td>Jury28</td>\n      <td>THAI Bertrand</td>\n      <td>AKMC91</td>\n      <td>NDIAYE Manou</td>\n      <td>KM VISION MARTIALE</td>\n      <td>1</td>\n      <td>0</td>\n      <td>0</td>\n      <td>0</td>\n    </tr>\n    <tr>\n      <th>28</th>\n      <td>Jury29</td>\n      <td>PFEFERBERG Grégpry</td>\n      <td>BODY-VIP</td>\n      <td>CASTAGNé Julien</td>\n      <td>ADAM</td>\n      <td>1</td>\n      <td>0</td>\n      <td>0</td>\n      <td>0</td>\n    </tr>\n    <tr>\n      <th>29</th>\n      <td>Jury30</td>\n      <td>CHAGNIOT Franck</td>\n      <td>Cercle Parisien KM</td>\n      <td>MARIE Jean-Charles</td>\n      <td>KM14</td>\n      <td>1</td>\n      <td>0</td>\n      <td>0</td>\n      <td>0</td>\n    </tr>\n    <tr>\n      <th>30</th>\n      <td>Jury31</td>\n      <td>CUISSARD Ludovic</td>\n      <td>KANAZAWA</td>\n      <td>HOCINE Kamel</td>\n      <td>ECKM93</td>\n      <td>1</td>\n      <td>0</td>\n      <td>0</td>\n      <td>0</td>\n    </tr>\n    <tr>\n      <th>31</th>\n      <td>Jury32</td>\n      <td>ROUTY Joël</td>\n      <td>KM LE MOLAY LITTRY</td>\n      <td>GAUTHERON David</td>\n      <td>ADAM</td>\n      <td>1</td>\n      <td>0</td>\n      <td>0</td>\n      <td>0</td>\n    </tr>\n    <tr>\n      <th>32</th>\n      <td>Jury33</td>\n      <td>GERINTE Florian</td>\n      <td>KMC92</td>\n      <td>LOSADA Mathieu</td>\n      <td>FIGHT SCHOOL BIARRITZ</td>\n      <td>1</td>\n      <td>0</td>\n      <td>0</td>\n      <td>0</td>\n    </tr>\n    <tr>\n      <th>33</th>\n      <td>Jury34</td>\n      <td>LUCARD Frédéric</td>\n      <td>KMRM</td>\n      <td>KRIM Lazhar</td>\n      <td>KMAC</td>\n      <td>1</td>\n      <td>0</td>\n      <td>0</td>\n      <td>0</td>\n    </tr>\n  </tbody>\n</table>\n</div>"
     },
     "metadata": {},
     "execution_count": 561
    }
   ],
   "source": [
    "df1"
   ]
  },
  {
   "cell_type": "code",
   "execution_count": 32,
   "metadata": {},
   "outputs": [
    {
     "output_type": "execute_result",
     "data": {
      "text/plain": "Civilité                                  M.\nNom                                 JÉDROCHA\nPrénom                              Frédéric\nEmail             fredericjedrocha@gmail.com\nTéléphone                     O6.03.55.13.90\nDate naissance           1969-05-12 00:00:00\nDate examen              2021-01-30 00:00:00\nage                                       51\n>=40                                       1\nClub                                    EKMC\nDarga                               Exam. 3D\nPoids                                     83\nUV                                       NaN\nTable Jury                             Jury5\nName: 152, dtype: object"
     },
     "metadata": {},
     "execution_count": 32
    }
   ],
   "source": []
  },
  {
   "cell_type": "code",
   "execution_count": null,
   "metadata": {},
   "outputs": [],
   "source": [
    "if (df.iloc[i]['binned'] == df.iloc[i+1]['binned']) \\\n",
    "            and (df.iloc[i]['Club'] != df1.iloc[_compteur-1]['Club']) \\\n",
    "                and (df.iloc[i]['Club'] != df1.iloc[_compteur-1]['Club.1']) \\\n",
    "                    and (df.iloc[i+1]['Club'] != df1.iloc[_compteur-1]['Club']) \\\n",
    "                        and (df.iloc[i+1]['Club'] != df1.iloc[_compteur-1]['Club.1']) :\n",
    "    globals()['JURY_%s' %_compteur].append(df2.iloc[[df.index[i]]])\n",
    "    globals()['JURY_%s' %_compteur].append(df2.iloc[[df.index[i+1]]])\n",
    "    _compteur += 1\n",
    "    _flag = 1\n",
    "    continue\n",
    "else:\n",
    "    _compteur += 1\n",
    "    if _compteur > _end:\n",
    "        _compteur = _start\n",
    "\n",
    "if (df.iloc[i]['binned'] == df.iloc[i+1]['binned']) \\\n",
    "    and (df.iloc[i]['Club'] != df1.iloc[_compteur-1]['Club']) \\\n",
    "        and (df.iloc[i]['Club'] != df1.iloc[_compteur-1]['Club.1']) \\\n",
    "            and (df.iloc[i+1]['Club'] != df1.iloc[_compteur-1]['Club']) \\\n",
    "                and (df.iloc[i+1]['Club'] != df1.iloc[_compteur-1]['Club.1']) :\n",
    "    globals()['JURY_%s' %_compteur].append(df2.iloc[[df.index[i]]])\n",
    "    globals()['JURY_%s' %_compteur].append(df2.iloc[[df.index[i+1]]])\n",
    "    _compteur += 1\n",
    "    _flag = 1\n",
    "    continue\n",
    "else:\n",
    "    _compteur += 1\n",
    "    if _compteur > _end:\n",
    "        _compteur = _start\n",
    "\n",
    "if (df.iloc[i]['binned'] == df.iloc[i+1]['binned']) \\\n",
    "    and (df.iloc[i]['Club'] != df1.iloc[_compteur-1]['Club']) \\\n",
    "        and (df.iloc[i]['Club'] != df1.iloc[_compteur-1]['Club.1']) \\\n",
    "            and (df.iloc[i+1]['Club'] != df1.iloc[_compteur-1]['Club']) \\\n",
    "                and (df.iloc[i+1]['Club'] != df1.iloc[_compteur-1]['Club.1']) :\n",
    "    globals()['JURY_%s' %_compteur].append(df2.iloc[[df.index[i]]])\n",
    "    globals()['JURY_%s' %_compteur].append(df2.iloc[[df.index[i+1]]])\n",
    "    _compteur += 1\n",
    "    _flag = 1\n",
    "    continue\n",
    "else:\n",
    "    _compteur += 1\n",
    "    if _compteur > _end:\n",
    "        _compteur = _start\n",
    "\n",
    "if (df.iloc[i]['binned'] == df.iloc[i+1]['binned']) \\\n",
    "    and (df.iloc[i]['Club'] != df1.iloc[_compteur-1]['Club']) \\\n",
    "        and (df.iloc[i]['Club'] != df1.iloc[_compteur-1]['Club.1']) \\\n",
    "            and (df.iloc[i+1]['Club'] != df1.iloc[_compteur-1]['Club']) \\\n",
    "                and (df.iloc[i+1]['Club'] != df1.iloc[_compteur-1]['Club.1']) :\n",
    "    globals()['JURY_%s' %_compteur].append(df2.iloc[[df.index[i]]])\n",
    "    globals()['JURY_%s' %_compteur].append(df2.iloc[[df.index[i+1]]])\n",
    "    _compteur += 1\n",
    "    _flag = 1\n",
    "    continue\n",
    "else:\n",
    "    _compteur += 1\n",
    "    if _compteur > _end:\n",
    "        _compteur = _start\n",
    "\n",
    "if (df.iloc[i]['binned'] == df.iloc[i+1]['binned']) \\\n",
    "    and (df.iloc[i]['Club'] != df1.iloc[_compteur-1]['Club']) \\\n",
    "        and (df.iloc[i]['Club'] != df1.iloc[_compteur-1]['Club.1']) \\\n",
    "            and (df.iloc[i+1]['Club'] != df1.iloc[_compteur-1]['Club']) \\\n",
    "                and (df.iloc[i+1]['Club'] != df1.iloc[_compteur-1]['Club.1']) :\n",
    "    globals()['JURY_%s' %_compteur].append(df2.iloc[[df.index[i]]])\n",
    "    globals()['JURY_%s' %_compteur].append(df2.iloc[[df.index[i+1]]])\n",
    "    _compteur += 1\n",
    "    _flag = 1\n",
    "    continue\n",
    "else:\n",
    "    _compteur += 1\n",
    "    if _compteur > _end:\n",
    "        _compteur = _start\n",
    "\n",
    "if (df.iloc[i]['binned'] == df.iloc[i+1]['binned']) \\\n",
    "    and (df.iloc[i]['Club'] != df1.iloc[_compteur-1]['Club']) \\\n",
    "        and (df.iloc[i]['Club'] != df1.iloc[_compteur-1]['Club.1']) \\\n",
    "            and (df.iloc[i+1]['Club'] != df1.iloc[_compteur-1]['Club']) \\\n",
    "                and (df.iloc[i+1]['Club'] != df1.iloc[_compteur-1]['Club.1']) :\n",
    "    globals()['JURY_%s' %_compteur].append(df2.iloc[[df.index[i]]])\n",
    "    globals()['JURY_%s' %_compteur].append(df2.iloc[[df.index[i+1]]])\n",
    "    _compteur += 1\n",
    "    _flag = 1\n",
    "    continue\n",
    "else:\n",
    "    _compteur += 1\n",
    "    if _compteur > _end:\n",
    "        _compteur = _start\n",
    "\n",
    "if (df.iloc[i]['binned'] == df.iloc[i+1]['binned']) \\\n",
    "    and (df.iloc[i]['Club'] != df1.iloc[_compteur-1]['Club']) \\\n",
    "        and (df.iloc[i]['Club'] != df1.iloc[_compteur-1]['Club.1']) \\\n",
    "            and (df.iloc[i+1]['Club'] != df1.iloc[_compteur-1]['Club']) \\\n",
    "                and (df.iloc[i+1]['Club'] != df1.iloc[_compteur-1]['Club.1']) :\n",
    "    globals()['JURY_%s' %_compteur].append(df2.iloc[[df.index[i]]])\n",
    "    globals()['JURY_%s' %_compteur].append(df2.iloc[[df.index[i+1]]])\n",
    "    _compteur += 1\n",
    "    _flag = 1\n",
    "    continue\n",
    "else:\n",
    "    _compteur += 1\n",
    "    if _compteur > _end:\n",
    "        _compteur = _start\n",
    "\n",
    "if (df.iloc[i]['binned'] == df.iloc[i+1]['binned']) \\\n",
    "    and (df.iloc[i]['Club'] != df1.iloc[_compteur-1]['Club']) \\\n",
    "        and (df.iloc[i]['Club'] != df1.iloc[_compteur-1]['Club.1']) \\\n",
    "            and (df.iloc[i+1]['Club'] != df1.iloc[_compteur-1]['Club']) \\\n",
    "                and (df.iloc[i+1]['Club'] != df1.iloc[_compteur-1]['Club.1']) :\n",
    "    globals()['JURY_%s' %_compteur].append(df2.iloc[[df.index[i]]])\n",
    "    globals()['JURY_%s' %_compteur].append(df2.iloc[[df.index[i+1]]])\n",
    "    _compteur += 1\n",
    "    _flag = 1\n",
    "    continue\n",
    "else:\n",
    "    _compteur += 1\n",
    "    if _compteur > _end:\n",
    "        _compteur = _start\n",
    "\n",
    "if (df.iloc[i]['binned'] == df.iloc[i+1]['binned']) \\\n",
    "    and (df.iloc[i]['Club'] != df1.iloc[_compteur-1]['Club']) \\\n",
    "        and (df.iloc[i]['Club'] != df1.iloc[_compteur-1]['Club.1']) \\\n",
    "            and (df.iloc[i+1]['Club'] != df1.iloc[_compteur-1]['Club']) \\\n",
    "                and (df.iloc[i+1]['Club'] != df1.iloc[_compteur-1]['Club.1']) :\n",
    "    globals()['JURY_%s' %_compteur].append(df2.iloc[[df.index[i]]])\n",
    "    globals()['JURY_%s' %_compteur].append(df2.iloc[[df.index[i+1]]])\n",
    "    _compteur += 1\n",
    "    _flag = 1\n",
    "    continue\n",
    "else:\n",
    "    _compteur += 1\n",
    "    if _compteur > _end:\n",
    "        _compteur = _start\n",
    "\n",
    "if (df.iloc[i]['binned'] == df.iloc[i+1]['binned']) \\\n",
    "    and (df.iloc[i]['Club'] != df1.iloc[_compteur-1]['Club']) \\\n",
    "        and (df.iloc[i]['Club'] != df1.iloc[_compteur-1]['Club.1']) \\\n",
    "            and (df.iloc[i+1]['Club'] != df1.iloc[_compteur-1]['Club']) \\\n",
    "                and (df.iloc[i+1]['Club'] != df1.iloc[_compteur-1]['Club.1']) :\n",
    "    globals()['JURY_%s' %_compteur].append(df2.iloc[[df.index[i]]])\n",
    "    globals()['JURY_%s' %_compteur].append(df2.iloc[[df.index[i+1]]])\n",
    "    _compteur += 1\n",
    "    _flag = 1\n",
    "    continue\n",
    "else:\n",
    "    _compteur += 1\n",
    "    if _compteur > _end:\n",
    "        _compteur = _start\n",
    "\n",
    "if (df.iloc[i]['binned'] == df.iloc[i+1]['binned']) \\\n",
    "    and (df.iloc[i]['Club'] != df1.iloc[_compteur-1]['Club']) \\\n",
    "        and (df.iloc[i]['Club'] != df1.iloc[_compteur-1]['Club.1']) \\\n",
    "            and (df.iloc[i+1]['Club'] != df1.iloc[_compteur-1]['Club']) \\\n",
    "                and (df.iloc[i+1]['Club'] != df1.iloc[_compteur-1]['Club.1']) :\n",
    "    globals()['JURY_%s' %_compteur].append(df2.iloc[[df.index[i]]])\n",
    "    globals()['JURY_%s' %_compteur].append(df2.iloc[[df.index[i+1]]])\n",
    "    _compteur += 1\n",
    "    _flag = 1\n",
    "    continue\n",
    "else:\n",
    "    _compteur += 1\n",
    "    if _compteur > _end:\n",
    "        _compteur = _start\n",
    "\n",
    "if (df.iloc[i]['binned'] == df.iloc[i+1]['binned']) \\\n",
    "    and (df.iloc[i]['Club'] != df1.iloc[_compteur-1]['Club']) \\\n",
    "        and (df.iloc[i]['Club'] != df1.iloc[_compteur-1]['Club.1']) \\\n",
    "            and (df.iloc[i+1]['Club'] != df1.iloc[_compteur-1]['Club']) \\\n",
    "                and (df.iloc[i+1]['Club'] != df1.iloc[_compteur-1]['Club.1']) :\n",
    "    globals()['JURY_%s' %_compteur].append(df2.iloc[[df.index[i]]])\n",
    "    globals()['JURY_%s' %_compteur].append(df2.iloc[[df.index[i+1]]])\n",
    "    _compteur += 1\n",
    "    _flag = 1\n",
    "    continue\n",
    "else:\n",
    "    _compteur += 1\n",
    "    if _compteur > _end:\n",
    "        _compteur = _start\n",
    "\n",
    "if (df.iloc[i]['binned'] == df.iloc[i+1]['binned']) \\\n",
    "    and (df.iloc[i]['Club'] != df1.iloc[_compteur-1]['Club']) \\\n",
    "        and (df.iloc[i]['Club'] != df1.iloc[_compteur-1]['Club.1']) \\\n",
    "            and (df.iloc[i+1]['Club'] != df1.iloc[_compteur-1]['Club']) \\\n",
    "                and (df.iloc[i+1]['Club'] != df1.iloc[_compteur-1]['Club.1']) :\n",
    "    globals()['JURY_%s' %_compteur].append(df2.iloc[[df.index[i]]])\n",
    "    globals()['JURY_%s' %_compteur].append(df2.iloc[[df.index[i+1]]])\n",
    "    _compteur += 1\n",
    "    _flag = 1\n",
    "    continue\n",
    "else:\n",
    "    _compteur += 1\n",
    "    if _compteur > _end:\n",
    "        _compteur = _start\n",
    "\n",
    "if (df.iloc[i]['binned'] == df.iloc[i+1]['binned']) \\\n",
    "    and (df.iloc[i]['Club'] != df1.iloc[_compteur-1]['Club']) \\\n",
    "        and (df.iloc[i]['Club'] != df1.iloc[_compteur-1]['Club.1']) \\\n",
    "            and (df.iloc[i+1]['Club'] != df1.iloc[_compteur-1]['Club']) \\\n",
    "                and (df.iloc[i+1]['Club'] != df1.iloc[_compteur-1]['Club.1']) :\n",
    "    globals()['JURY_%s' %_compteur].append(df2.iloc[[df.index[i]]])\n",
    "    globals()['JURY_%s' %_compteur].append(df2.iloc[[df.index[i+1]]])\n",
    "    _compteur += 1\n",
    "    _flag = 1\n",
    "    continue\n",
    "else:\n",
    "    _compteur += 1\n",
    "    if _compteur > _end:\n",
    "        _compteur = _start\n",
    "\n",
    "if (df.iloc[i]['binned'] == df.iloc[i+1]['binned']) \\\n",
    "    and (df.iloc[i]['Club'] != df1.iloc[_compteur-1]['Club']) \\\n",
    "        and (df.iloc[i]['Club'] != df1.iloc[_compteur-1]['Club.1']) \\\n",
    "            and (df.iloc[i+1]['Club'] != df1.iloc[_compteur-1]['Club']) \\\n",
    "                and (df.iloc[i+1]['Club'] != df1.iloc[_compteur-1]['Club.1']) :\n",
    "    globals()['JURY_%s' %_compteur].append(df2.iloc[[df.index[i]]])\n",
    "    globals()['JURY_%s' %_compteur].append(df2.iloc[[df.index[i+1]]])\n",
    "    _compteur += 1\n",
    "    _flag = 1\n",
    "    continue\n",
    "else:\n",
    "    _compteur += 1\n",
    "    if _compteur > _end:\n",
    "        _compteur = _start\n",
    "\n",
    "if (df.iloc[i]['binned'] == df.iloc[i+1]['binned']) \\\n",
    "    and (df.iloc[i]['Club'] != df1.iloc[_compteur-1]['Club']) \\\n",
    "        and (df.iloc[i]['Club'] != df1.iloc[_compteur-1]['Club.1']) \\\n",
    "            and (df.iloc[i+1]['Club'] != df1.iloc[_compteur-1]['Club']) \\\n",
    "                and (df.iloc[i+1]['Club'] != df1.iloc[_compteur-1]['Club.1']) :\n",
    "    globals()['JURY_%s' %_compteur].append(df2.iloc[[df.index[i]]])\n",
    "    globals()['JURY_%s' %_compteur].append(df2.iloc[[df.index[i+1]]])\n",
    "    _compteur += 1\n",
    "    _flag = 1\n",
    "    continue\n",
    "else:\n",
    "    _compteur += 1\n",
    "    if _compteur > _end:\n",
    "        _compteur = _start\n",
    "\n",
    "if (df.iloc[i]['binned'] == df.iloc[i+1]['binned']) \\\n",
    "    and (df.iloc[i]['Club'] != df1.iloc[_compteur-1]['Club']) \\\n",
    "        and (df.iloc[i]['Club'] != df1.iloc[_compteur-1]['Club.1']) \\\n",
    "            and (df.iloc[i+1]['Club'] != df1.iloc[_compteur-1]['Club']) \\\n",
    "                and (df.iloc[i+1]['Club'] != df1.iloc[_compteur-1]['Club.1']) :\n",
    "    globals()['JURY_%s' %_compteur].append(df2.iloc[[df.index[i]]])\n",
    "    globals()['JURY_%s' %_compteur].append(df2.iloc[[df.index[i+1]]])\n",
    "    _compteur += 1\n",
    "    _flag = 1\n",
    "    continue\n",
    "else:\n",
    "    _compteur += 1\n",
    "    if _compteur > _end:\n",
    "        _compteur = _start\n",
    "\n",
    "if (df.iloc[i]['binned'] == df.iloc[i+1]['binned']) \\\n",
    "    and (df.iloc[i]['Club'] != df1.iloc[_compteur-1]['Club']) \\\n",
    "        and (df.iloc[i]['Club'] != df1.iloc[_compteur-1]['Club.1']) \\\n",
    "            and (df.iloc[i+1]['Club'] != df1.iloc[_compteur-1]['Club']) \\\n",
    "                and (df.iloc[i+1]['Club'] != df1.iloc[_compteur-1]['Club.1']) :\n",
    "    globals()['JURY_%s' %_compteur].append(df2.iloc[[df.index[i]]])\n",
    "    globals()['JURY_%s' %_compteur].append(df2.iloc[[df.index[i+1]]])\n",
    "    _compteur += 1\n",
    "    _flag = 1\n",
    "    continue\n",
    "else:\n",
    "    _compteur += 1\n",
    "    if _compteur > _end:\n",
    "        _compteur = _start\n",
    "\n",
    "if (df.iloc[i]['binned'] == df.iloc[i+1]['binned']) \\\n",
    "    and (df.iloc[i]['Club'] != df1.iloc[_compteur-1]['Club']) \\\n",
    "        and (df.iloc[i]['Club'] != df1.iloc[_compteur-1]['Club.1']) \\\n",
    "            and (df.iloc[i+1]['Club'] != df1.iloc[_compteur-1]['Club']) \\\n",
    "                and (df.iloc[i+1]['Club'] != df1.iloc[_compteur-1]['Club.1']) :\n",
    "    globals()['JURY_%s' %_compteur].append(df2.iloc[[df.index[i]]])\n",
    "    globals()['JURY_%s' %_compteur].append(df2.iloc[[df.index[i+1]]])\n",
    "    _compteur += 1\n",
    "    _flag = 1\n",
    "    continue\n",
    "else:\n",
    "    _compteur += 1\n",
    "    if _compteur > _end:\n",
    "        _compteur = _start"
   ]
  }
 ]
}