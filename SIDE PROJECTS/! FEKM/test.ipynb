{
 "metadata": {
  "language_info": {
   "codemirror_mode": {
    "name": "ipython",
    "version": 3
   },
   "file_extension": ".py",
   "mimetype": "text/x-python",
   "name": "python",
   "nbconvert_exporter": "python",
   "pygments_lexer": "ipython3",
   "version": "3.7.6-final"
  },
  "orig_nbformat": 2,
  "kernelspec": {
   "name": "python3",
   "display_name": "Python 3"
  }
 },
 "nbformat": 4,
 "nbformat_minor": 2,
 "cells": [
  {
   "cell_type": "code",
   "execution_count": 2,
   "metadata": {},
   "outputs": [
    {
     "output_type": "stream",
     "name": "stdout",
     "text": [
      "Pas le bon password\n"
     ]
    }
   ],
   "source": [
    "import py7zr\n",
    "try:\n",
    "    with py7zr.SevenZipFile('TEST/test.7z', mode='r', password='tresalbalp050374') as z:\n",
    "        z.extractall()\n",
    "except:\n",
    "    print('Pas le bon password')"
   ]
  },
  {
   "cell_type": "code",
   "execution_count": 1,
   "metadata": {},
   "outputs": [
    {
     "output_type": "stream",
     "name": "stdout",
     "text": [
      "Début des opérations horodatée à 2020-11-30 10:39:37.300653\n",
      "\n",
      "\u001b[34m\n",
      "EMn}Y9tlicZ)LhC%'UJw~HBd-IyvN@V_RQ(Gp#7çrf0:`asKT\\8mA, X!>ko;q]2*\t1\t0:00:00.000459\u001b[0m\n",
      "Nul n'est point tenu au lendemain qui n'en decoule, c'est pour ça\t65\t0:00:50.453470\n",
      "\n",
      "Temps d'excution du truc là 0:00:50.456174\n"
     ]
    }
   ],
   "source": [
    "import random\n",
    "import datetime as dt\n",
    "import sys\n",
    "import time\n",
    "import string\n",
    "import colorama as col\n",
    "\n",
    "_t1 = dt.datetime.now()\n",
    "print('Début des opérations horodatée à',dt.datetime.now())\n",
    "print('')\n",
    "#geneSet = \"abcdefghijklmnopqrstuvwxyzABCDEFGHIJKLMNOPQRSTUVWXYZ0123456789@!. '\"\n",
    "geneSet = string.ascii_lowercase + string.ascii_uppercase + string.digits + string.punctuation + ' ' +'ç' # <== LISTE DES CANDIDTAS avec genes categories\n",
    "password = \"Nul n'est point tenu au lendemain qui n'en decoule, c'est pour ça\" # <== match des catégories et de la table + nbre de binom autorisés\n",
    "\n",
    "\n",
    "def generate_parent(length):\n",
    "    \"\"\"\n",
    "    a way to generate a random list of binoms from the gene set, each binom having got its own categorials\n",
    "    :return:\n",
    "    \"\"\"\n",
    "    gene = []\n",
    "    while len(gene) < length:\n",
    "        sample_size = min(length - len(gene), len(geneSet))\n",
    "        # appends list with values ==> ['X','B'].extend('a','y') -> ['X','B','a','y']\n",
    "        gene.extend(random.sample(geneSet, sample_size))\n",
    "    # converts list to str ==> ['a', 'b', ' ', 'C', 'N', 'x'] -> ab CNx\n",
    "    return ''.join(gene)\n",
    "\n",
    "\n",
    "def get_fitness(guess):\n",
    "    \"\"\"\n",
    "    fitness value is the total number good bioms fulfilling all conditions\n",
    "    :param guess:\n",
    "    :return: number of letters matches\n",
    "    \"\"\"\n",
    "    # The sum() function adds the items of an iterable and returns the sum\n",
    "    # more @ https://www.programiz.com/python-programming/methods/built-in/sum\n",
    "    return sum(1 for expected, actual in zip(password, guess) if expected == actual)\n",
    "\n",
    "\n",
    "def mutate(parent):\n",
    "    \"\"\"\n",
    "    This implementation uses an alternate replacement\n",
    "    if the randomly selected newGene is the same as the one it is supposed to replace,\n",
    "    which can save a significant amount of overhead.\n",
    "    :param parent:\n",
    "    :return:\n",
    "    \"\"\"\n",
    "    index = random.randrange(0, len(parent))\n",
    "    child_genes = list(parent)\n",
    "    new_gene, alternate = random.sample(geneSet, 2)\n",
    "    child_genes[index] = alternate if new_gene == child_genes[index] else new_gene\n",
    "    return ''.join(child_genes)\n",
    "\n",
    "\n",
    "def display(guess):\n",
    "    \"\"\"\n",
    "    just a moniter function should be verbose = 0 for efficiency\n",
    "    :param guess:\n",
    "    :return:\n",
    "    \"\"\"\n",
    "    time_diff = dt.datetime.now() - startTime\n",
    "    fitness = get_fitness(guess)\n",
    "    print('\\r{0}\\t{1}\\t{2}'.format(guess, fitness, time_diff),end='')\n",
    "    time.sleep(.001)\n",
    "    #sys.stdout.write('\\rGeneration #' + '\\t' + guess)\n",
    "\n",
    "\n",
    "if __name__ == '__main__':\n",
    "    random.seed(4)\n",
    "    startTime = dt.datetime.now()\n",
    "    best_parent = generate_parent(len(password))\n",
    "    best_fitness = get_fitness(best_parent)\n",
    "    print(col.Fore.BLUE)\n",
    "    display(best_parent)\n",
    "    print(col.Style.RESET_ALL)\n",
    "\n",
    "\n",
    "    while True:\n",
    "        child = mutate(best_parent)\n",
    "        child_fitness = get_fitness(child)\n",
    "        display(child)\n",
    "        if best_fitness >= child_fitness:\n",
    "            continue\n",
    "        if child_fitness >= len(best_parent):\n",
    "            break\n",
    "        best_fitness = child_fitness\n",
    "        best_parent = child\n",
    "    _t2 = dt.datetime.now()\n",
    "    print(\"\\n\\nTemps d'excution du truc là\",str((_t2 - _t1)))"
   ]
  },
  {
   "cell_type": "code",
   "execution_count": null,
   "metadata": {},
   "outputs": [],
   "source": []
  },
  {
   "cell_type": "code",
   "execution_count": 22,
   "metadata": {},
   "outputs": [],
   "source": [
    "\n"
   ]
  },
  {
   "cell_type": "code",
   "execution_count": null,
   "metadata": {},
   "outputs": [],
   "source": []
  }
 ]
}