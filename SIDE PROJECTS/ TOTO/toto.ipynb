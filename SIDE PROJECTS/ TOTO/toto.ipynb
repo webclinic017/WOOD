{
 "metadata": {
  "language_info": {
   "codemirror_mode": {
    "name": "ipython",
    "version": 3
   },
   "file_extension": ".py",
   "mimetype": "text/x-python",
   "name": "python",
   "nbconvert_exporter": "python",
   "pygments_lexer": "ipython3",
   "version": "3.7.6-final"
  },
  "orig_nbformat": 2,
  "kernelspec": {
   "name": "python_defaultSpec_1600101373743",
   "display_name": "Python 3.7.6 64-bit"
  }
 },
 "nbformat": 4,
 "nbformat_minor": 2,
 "cells": [
  {
   "cell_type": "code",
   "execution_count": 1,
   "metadata": {
    "tags": []
   },
   "outputs": [
    {
     "output_type": "execute_result",
     "data": {
      "text/plain": "3"
     },
     "metadata": {},
     "execution_count": 1
    }
   ],
   "source": [
    "import time\n",
    "import configparser\n",
    "config = configparser.ConfigParser()\n",
    "config.read('toto.ini')\n",
    "WORDS = config.get('TOTO','LIST')\n",
    "len(WORDS)\n",
    " "
   ]
  },
  {
   "cell_type": "markdown",
   "metadata": {
    "tags": []
   },
   "source": [
    "### AMORCE\n",
    "%%time\n",
    "#CARAC = ['tresalbalp','TRESALBALP','Tresalbalp','13','0503','050374','vvjyss','VVJYSS','vieille','epoque','vieux','xxx','XXX','Apple','secret','Secret','jyssvv','ieuv','archive']\n",
    "CARAC = [\" \",\"_\",\"\",\"a\",\"b\",\"c\",\"d\",\"e\",\"f\",\"g\",\"h\",\"i\",\"j\",\"k\",\"l\",\"m\",\"n\",\"o\",\"p\",\"q\",\"r\",\"s\",\"t\",\"u\",\"v\",\"w\",\"x\",\"y\",\"z\",\"A\",\"B\",\"C\",\"D\",\"E\",\"F\",\"G\",\"H\",\"I\",\"J\",\"K\",\"L\",\"M\",\"N\",\"O\",\"P\",\"Q\",\"R\",\"S\",\"T\",\"U\",\"V\",\"W\",\"X\",\"Y\",\"Z\",\"1\",\"2\",\"3\",\"4\",\"5\",\"6\",\"7\",\"8\",\"9\"]\n",
    "WORDS = []\n",
    "for i in range(len(CARAC)):\n",
    "    for j in range(len(CARAC)):\n",
    "        WORDS.append(CARAC[i]+CARAC[j])\n",
    "\n",
    "config['TOTO']['LIST'] = str(WORDS).replace(\"'\",'').replace('[','').replace(']','').replace(',','').replace(' ',',')\n",
    "with open('toto.ini', 'w') as configfile:    # save\n",
    "    config.write(configfile)"
   ]
  },
  {
   "cell_type": "code",
   "execution_count": null,
   "metadata": {},
   "outputs": [],
   "source": [
    "%%time\n",
    "for i in range(len(CARAC)):\n",
    "    for j in range(len(WORDS)):\n",
    "        WORDS.append(CARAC[i]+WORDS[j])"
   ]
  },
  {
   "cell_type": "code",
   "execution_count": 4,
   "metadata": {},
   "outputs": [],
   "source": [
    "config['TOTO']['LIST'] = str(WORDS).replace(\"'\",'').replace('[','').replace(']','').replace(',','').replace(' ',',')\n",
    "with open('toto.ini', 'w') as configfile:    # save\n",
    "    config.write(configfile)"
   ]
  },
  {
   "cell_type": "code",
   "execution_count": 4,
   "metadata": {},
   "outputs": [
    {
     "output_type": "execute_result",
     "data": {
      "text/plain": "4096"
     },
     "metadata": {},
     "execution_count": 4
    }
   ],
   "source": [
    "len(WORDS)"
   ]
  },
  {
   "cell_type": "code",
   "execution_count": 10,
   "metadata": {},
   "outputs": [
    {
     "output_type": "execute_result",
     "data": {
      "text/plain": "['95', '96', '97', '98', '99']"
     },
     "metadata": {},
     "execution_count": 10
    }
   ],
   "source": [
    "WORDS[-5:]"
   ]
  },
  {
   "cell_type": "code",
   "execution_count": 25,
   "metadata": {
    "tags": []
   },
   "outputs": [
    {
     "output_type": "stream",
     "name": "stderr",
     "text": "100%|██████████| 380/380 [00:00<00:00, 296362.13word/s]Total passwords to test: 380\n[!] Password not found, try other wordlist.\nCPU times: user 3.52 ms, sys: 2.61 ms, total: 6.13 ms\nWall time: 4.2 ms\n\n"
    }
   ],
   "source": [
    "%%time\n",
    "from tqdm import tqdm\n",
    "import sys\n",
    "import py7zr\n",
    "\n",
    "\n",
    "\n",
    "# the password list path you want to use\n",
    "wordlist = WORDS\n",
    "# the zip file you want to crack its password\n",
    "zip_file = 'toto.zip'\n",
    "\n",
    "# count the number of words in this wordlist\n",
    "n_words = len(WORDS)\n",
    "# print the total number of passwords\n",
    "print(\"Total passwords to test:\", n_words)\n",
    "\n",
    "for word in tqdm(WORDS, total=n_words, unit=\"word\"):\n",
    "    try:\n",
    "        with py7zr.SevenZipFile(zip_fils, mode='r', password=word.strip()) as z:\n",
    "            z.extractall()\n",
    "    except:\n",
    "        continue\n",
    "    else:\n",
    "        print(\"[+] Password found:\", word.decode().strip())\n",
    "        exit(0)\n",
    "print(\"[!] Password not found, try other wordlist.\")"
   ]
  },
  {
   "cell_type": "code",
   "execution_count": null,
   "metadata": {},
   "outputs": [],
   "source": []
  },
  {
   "cell_type": "code",
   "execution_count": 16,
   "metadata": {},
   "outputs": [
    {
     "output_type": "execute_result",
     "data": {
      "text/plain": "['tresalbalptresalbalp',\n 'tresalbalpTRESALBALP',\n 'tresalbalpTresalbalp',\n 'tresalbalp13',\n 'tresalbalp0503',\n 'tresalbalp050374',\n 'tresalbalpvvjyss',\n 'tresalbalpVVJYSS',\n 'tresalbalpvieille',\n 'tresalbalpepoque',\n 'tresalbalpvieux',\n 'tresalbalpxxx',\n 'tresalbalpXXX',\n 'TRESALBALPtresalbalp',\n 'TRESALBALPTRESALBALP',\n 'TRESALBALPTresalbalp',\n 'TRESALBALP13',\n 'TRESALBALP0503',\n 'TRESALBALP050374',\n 'TRESALBALPvvjyss',\n 'TRESALBALPVVJYSS',\n 'TRESALBALPvieille',\n 'TRESALBALPepoque',\n 'TRESALBALPvieux',\n 'TRESALBALPxxx',\n 'TRESALBALPXXX',\n 'Tresalbalptresalbalp',\n 'TresalbalpTRESALBALP',\n 'TresalbalpTresalbalp',\n 'Tresalbalp13',\n 'Tresalbalp0503',\n 'Tresalbalp050374',\n 'Tresalbalpvvjyss',\n 'TresalbalpVVJYSS',\n 'Tresalbalpvieille',\n 'Tresalbalpepoque',\n 'Tresalbalpvieux',\n 'Tresalbalpxxx',\n 'TresalbalpXXX',\n '13tresalbalp',\n '13TRESALBALP',\n '13Tresalbalp',\n '1313',\n '130503',\n '13050374',\n '13vvjyss',\n '13VVJYSS',\n '13vieille',\n '13epoque',\n '13vieux',\n '13xxx',\n '13XXX',\n '0503tresalbalp',\n '0503TRESALBALP',\n '0503Tresalbalp',\n '050313',\n '05030503',\n '0503050374',\n '0503vvjyss',\n '0503VVJYSS',\n '0503vieille',\n '0503epoque',\n '0503vieux',\n '0503xxx',\n '0503XXX',\n '050374tresalbalp',\n '050374TRESALBALP',\n '050374Tresalbalp',\n '05037413',\n '0503740503',\n '050374050374',\n '050374vvjyss',\n '050374VVJYSS',\n '050374vieille',\n '050374epoque',\n '050374vieux',\n '050374xxx',\n '050374XXX',\n 'vvjysstresalbalp',\n 'vvjyssTRESALBALP',\n 'vvjyssTresalbalp',\n 'vvjyss13',\n 'vvjyss0503',\n 'vvjyss050374',\n 'vvjyssvvjyss',\n 'vvjyssVVJYSS',\n 'vvjyssvieille',\n 'vvjyssepoque',\n 'vvjyssvieux',\n 'vvjyssxxx',\n 'vvjyssXXX',\n 'VVJYSStresalbalp',\n 'VVJYSSTRESALBALP',\n 'VVJYSSTresalbalp',\n 'VVJYSS13',\n 'VVJYSS0503',\n 'VVJYSS050374',\n 'VVJYSSvvjyss',\n 'VVJYSSVVJYSS',\n 'VVJYSSvieille',\n 'VVJYSSepoque',\n 'VVJYSSvieux',\n 'VVJYSSxxx',\n 'VVJYSSXXX',\n 'vieilletresalbalp',\n 'vieilleTRESALBALP',\n 'vieilleTresalbalp',\n 'vieille13',\n 'vieille0503',\n 'vieille050374',\n 'vieillevvjyss',\n 'vieilleVVJYSS',\n 'vieillevieille',\n 'vieilleepoque',\n 'vieillevieux',\n 'vieillexxx',\n 'vieilleXXX',\n 'epoquetresalbalp',\n 'epoqueTRESALBALP',\n 'epoqueTresalbalp',\n 'epoque13',\n 'epoque0503',\n 'epoque050374',\n 'epoquevvjyss',\n 'epoqueVVJYSS',\n 'epoquevieille',\n 'epoqueepoque',\n 'epoquevieux',\n 'epoquexxx',\n 'epoqueXXX',\n 'vieuxtresalbalp',\n 'vieuxTRESALBALP',\n 'vieuxTresalbalp',\n 'vieux13',\n 'vieux0503',\n 'vieux050374',\n 'vieuxvvjyss',\n 'vieuxVVJYSS',\n 'vieuxvieille',\n 'vieuxepoque',\n 'vieuxvieux',\n 'vieuxxxx',\n 'vieuxXXX',\n 'xxxtresalbalp',\n 'xxxTRESALBALP',\n 'xxxTresalbalp',\n 'xxx13',\n 'xxx0503',\n 'xxx050374',\n 'xxxvvjyss',\n 'xxxVVJYSS',\n 'xxxvieille',\n 'xxxepoque',\n 'xxxvieux',\n 'xxxxxx',\n 'xxxXXX',\n 'XXXtresalbalp',\n 'XXXTRESALBALP',\n 'XXXTresalbalp',\n 'XXX13',\n 'XXX0503',\n 'XXX050374',\n 'XXXvvjyss',\n 'XXXVVJYSS',\n 'XXXvieille',\n 'XXXepoque',\n 'XXXvieux',\n 'XXXxxx',\n 'XXXXXX',\n 'tresalbalp',\n 'TRESALBALP',\n 'Tresalbalp',\n '13',\n '0503',\n '050374',\n 'vvjyss',\n 'VVJYSS',\n 'vieille',\n 'epoque',\n 'vieux',\n 'xxx',\n 'XXX']"
     },
     "metadata": {},
     "execution_count": 16
    }
   ],
   "source": [
    "WORDS"
   ]
  },
  {
   "cell_type": "code",
   "execution_count": null,
   "metadata": {},
   "outputs": [],
   "source": []
  }
 ]
}