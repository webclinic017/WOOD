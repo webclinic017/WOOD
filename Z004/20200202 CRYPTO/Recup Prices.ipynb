{
 "cells": [
  {
   "cell_type": "code",
   "execution_count": 1,
   "metadata": {},
   "outputs": [],
   "source": [
    "import requests\n",
    "import datetime\n",
    "import pandas as pd\n",
    "import matplotlib.pyplot as plt\n",
    "from pandas.plotting import register_matplotlib_converters\n",
    "register_matplotlib_converters()"
   ]
  },
  {
   "cell_type": "code",
   "execution_count": 2,
   "metadata": {},
   "outputs": [],
   "source": [
    "key = 'f01357585fe80c0597e5f63e93e06194cab9c2854924637bde99e13c5a34a726'"
   ]
  },
  {
   "cell_type": "code",
   "execution_count": 3,
   "metadata": {},
   "outputs": [],
   "source": [
    "def price(symbol, comparison_symbols=['USD'], exchange=''):\n",
    "    url = 'https://min-api.cryptocompare.com/data/price?fsym={}&tsyms={}'\\\n",
    "            .format(symbol.upper(), ','.join(comparison_symbols).upper())\n",
    "    if exchange:\n",
    "        url += '&e={}'.format(exchange)\n",
    "    page = requests.get(url)\n",
    "    data = page.json()\n",
    "    return data"
   ]
  },
  {
   "cell_type": "code",
   "execution_count": 4,
   "metadata": {},
   "outputs": [],
   "source": [
    "def daily_price_historical(symbol, comparison_symbol, all_data=True, limit=1, aggregate=1, exchange=''):\n",
    "    url = 'https://min-api.cryptocompare.com/data/histoday?fsym={}&tsym={}&limit={}&aggregate={}'\\\n",
    "            .format(symbol.upper(), comparison_symbol.upper(), limit, aggregate)\n",
    "    if exchange:\n",
    "        url += '&e={}'.format(exchange)\n",
    "    if all_data:\n",
    "        url += '&allData=true'\n",
    "    page = requests.get(url)\n",
    "    data = page.json()['Data']\n",
    "    df = pd.DataFrame(data)\n",
    "    df['timestamp'] = [datetime.datetime.fromtimestamp(d) for d in df.time]\n",
    "    return df"
   ]
  },
  {
   "cell_type": "code",
   "execution_count": 5,
   "metadata": {},
   "outputs": [],
   "source": [
    "def hourly_price_historical(symbol, comparison_symbol, limit, aggregate, exchange=''):\n",
    "    url = 'https://min-api.cryptocompare.com/data/histohour?fsym={}&tsym={}&limit={}&aggregate={}'\\\n",
    "            .format(symbol.upper(), comparison_symbol.upper(), limit, aggregate)\n",
    "    if exchange:\n",
    "        url += '&e={}'.format(exchange)\n",
    "    page = requests.get(url)\n",
    "    data = page.json()['Data']\n",
    "    df = pd.DataFrame(data)\n",
    "    df['timestamp'] = [datetime.datetime.fromtimestamp(d) for d in df.time]\n",
    "    return df"
   ]
  },
  {
   "cell_type": "code",
   "execution_count": 6,
   "metadata": {},
   "outputs": [],
   "source": [
    "def minute_price_historical(symbol, comparison_symbol, limit, aggregate, exchange=''):\n",
    "    url = 'https://min-api.cryptocompare.com/data/histominute?fsym={}&tsym={}&limit={}&aggregate={}'\\\n",
    "            .format(symbol.upper(), comparison_symbol.upper(), limit, aggregate)\n",
    "    if exchange:\n",
    "        url += '&e={}'.format(exchange)\n",
    "    page = requests.get(url)\n",
    "    data = page.json()['Data']\n",
    "    df = pd.DataFrame(data)\n",
    "    df['timestamp'] = [datetime.datetime.fromtimestamp(d) for d in df.time]\n",
    "    return df"
   ]
  },
  {
   "cell_type": "code",
   "execution_count": 7,
   "metadata": {},
   "outputs": [],
   "source": [
    "def coin_list():\n",
    "    url = 'https://www.cryptocompare.com/api/data/coinlist/'\n",
    "    page = requests.get(url)\n",
    "    data = page.json()['Data']\n",
    "    return data"
   ]
  },
  {
   "cell_type": "code",
   "execution_count": 8,
   "metadata": {},
   "outputs": [],
   "source": [
    "def coin_snapshot_full_by_id(symbol, symbol_id_dict={}):\n",
    "    if not symbol_id_dict:\n",
    "        symbol_id_dict = {\n",
    "            'BTC': 1182,\n",
    "            'ETH': 7605,\n",
    "            'LTC': 3808\n",
    "        }\n",
    "    symbol_id = symbol_id_dict[symbol.upper()]\n",
    "    url = 'https://www.cryptocompare.com/api/data/coinsnapshotfullbyid/?id={}'\\\n",
    "            .format(symbol_id)\n",
    "    page = requests.get(url)\n",
    "    data = page.json()['Data']\n",
    "    return data"
   ]
  },
  {
   "cell_type": "code",
   "execution_count": 9,
   "metadata": {},
   "outputs": [],
   "source": [
    "def live_social_status(symbol, symbol_id_dict={}):\n",
    "    if not symbol_id_dict:\n",
    "        symbol_id_dict = {\n",
    "            'BTC': 1182,\n",
    "            'ETH': 7605,\n",
    "            'LTC': 3808\n",
    "        }\n",
    "    symbol_id = symbol_id_dict[symbol.upper()]\n",
    "    url = 'https://www.cryptocompare.com/api/data/socialstats/?id={}'\\\n",
    "            .format(symbol_id)\n",
    "    page = requests.get(url)\n",
    "    data = page.json()['Data']\n",
    "    return data"
   ]
  },
  {
   "cell_type": "code",
   "execution_count": 10,
   "metadata": {},
   "outputs": [
    {
     "name": "stdout",
     "output_type": "stream",
     "text": [
      "CPU times: user 3 µs, sys: 0 ns, total: 3 µs\n",
      "Wall time: 5.96 µs\n"
     ]
    },
    {
     "data": {
      "text/plain": [
       "{'USD': 67.64}"
      ]
     },
     "execution_count": 10,
     "metadata": {},
     "output_type": "execute_result"
    }
   ],
   "source": [
    "%time\n",
    "price('LTC',exchange='Coinbase')"
   ]
  },
  {
   "cell_type": "code",
   "execution_count": 11,
   "metadata": {},
   "outputs": [
    {
     "name": "stdout",
     "output_type": "stream",
     "text": [
      "CPU times: user 2 µs, sys: 0 ns, total: 2 µs\n",
      "Wall time: 3.81 µs\n"
     ]
    },
    {
     "data": {
      "text/plain": [
       "{'BTC': 0.001318, 'ETH': 0.06406, 'USD': 12.15}"
      ]
     },
     "execution_count": 11,
     "metadata": {},
     "output_type": "execute_result"
    }
   ],
   "source": [
    "%time\n",
    "price('NEO',['BTC','ETH','USD'])"
   ]
  },
  {
   "cell_type": "code",
   "execution_count": 12,
   "metadata": {},
   "outputs": [
    {
     "name": "stdout",
     "output_type": "stream",
     "text": [
      "CPU times: user 3 µs, sys: 0 ns, total: 3 µs\n",
      "Wall time: 6.2 µs\n",
      "Max lenght = 3490\n",
      "Max Time = 3488 days 23:00:00\n"
     ]
    },
    {
     "data": {
      "text/html": [
       "<div>\n",
       "<style scoped>\n",
       "    .dataframe tbody tr th:only-of-type {\n",
       "        vertical-align: middle;\n",
       "    }\n",
       "\n",
       "    .dataframe tbody tr th {\n",
       "        vertical-align: top;\n",
       "    }\n",
       "\n",
       "    .dataframe thead th {\n",
       "        text-align: right;\n",
       "    }\n",
       "</style>\n",
       "<table border=\"1\" class=\"dataframe\">\n",
       "  <thead>\n",
       "    <tr style=\"text-align: right;\">\n",
       "      <th></th>\n",
       "      <th>time</th>\n",
       "      <th>close</th>\n",
       "      <th>high</th>\n",
       "      <th>low</th>\n",
       "      <th>open</th>\n",
       "      <th>volumefrom</th>\n",
       "      <th>volumeto</th>\n",
       "      <th>timestamp</th>\n",
       "    </tr>\n",
       "  </thead>\n",
       "  <tbody>\n",
       "    <tr>\n",
       "      <th>3485</th>\n",
       "      <td>1580428800</td>\n",
       "      <td>9342.23</td>\n",
       "      <td>9518.87</td>\n",
       "      <td>9208.36</td>\n",
       "      <td>9501.38</td>\n",
       "      <td>31334.26</td>\n",
       "      <td>2.926278e+08</td>\n",
       "      <td>2020-01-31 01:00:00</td>\n",
       "    </tr>\n",
       "    <tr>\n",
       "      <th>3486</th>\n",
       "      <td>1580515200</td>\n",
       "      <td>9384.45</td>\n",
       "      <td>9455.92</td>\n",
       "      <td>9296.57</td>\n",
       "      <td>9342.23</td>\n",
       "      <td>14778.25</td>\n",
       "      <td>1.386141e+08</td>\n",
       "      <td>2020-02-01 01:00:00</td>\n",
       "    </tr>\n",
       "    <tr>\n",
       "      <th>3487</th>\n",
       "      <td>1580601600</td>\n",
       "      <td>9334.25</td>\n",
       "      <td>9469.84</td>\n",
       "      <td>9169.21</td>\n",
       "      <td>9384.45</td>\n",
       "      <td>24059.37</td>\n",
       "      <td>2.253226e+08</td>\n",
       "      <td>2020-02-02 01:00:00</td>\n",
       "    </tr>\n",
       "    <tr>\n",
       "      <th>3488</th>\n",
       "      <td>1580688000</td>\n",
       "      <td>9288.96</td>\n",
       "      <td>9605.66</td>\n",
       "      <td>9230.83</td>\n",
       "      <td>9334.25</td>\n",
       "      <td>33363.87</td>\n",
       "      <td>3.123151e+08</td>\n",
       "      <td>2020-02-03 01:00:00</td>\n",
       "    </tr>\n",
       "    <tr>\n",
       "      <th>3489</th>\n",
       "      <td>1580774400</td>\n",
       "      <td>9168.16</td>\n",
       "      <td>9347.12</td>\n",
       "      <td>9089.52</td>\n",
       "      <td>9288.96</td>\n",
       "      <td>25982.15</td>\n",
       "      <td>2.391889e+08</td>\n",
       "      <td>2020-02-04 01:00:00</td>\n",
       "    </tr>\n",
       "  </tbody>\n",
       "</table>\n",
       "</div>"
      ],
      "text/plain": [
       "            time    close     high      low     open  volumefrom  \\\n",
       "3485  1580428800  9342.23  9518.87  9208.36  9501.38    31334.26   \n",
       "3486  1580515200  9384.45  9455.92  9296.57  9342.23    14778.25   \n",
       "3487  1580601600  9334.25  9469.84  9169.21  9384.45    24059.37   \n",
       "3488  1580688000  9288.96  9605.66  9230.83  9334.25    33363.87   \n",
       "3489  1580774400  9168.16  9347.12  9089.52  9288.96    25982.15   \n",
       "\n",
       "          volumeto           timestamp  \n",
       "3485  2.926278e+08 2020-01-31 01:00:00  \n",
       "3486  1.386141e+08 2020-02-01 01:00:00  \n",
       "3487  2.253226e+08 2020-02-02 01:00:00  \n",
       "3488  3.123151e+08 2020-02-03 01:00:00  \n",
       "3489  2.391889e+08 2020-02-04 01:00:00  "
      ]
     },
     "execution_count": 12,
     "metadata": {},
     "output_type": "execute_result"
    }
   ],
   "source": [
    "%time\n",
    "df = daily_price_historical('BTC','USD')\n",
    "print('Max lenght = %s' %len(df))\n",
    "print('Max Time = %s' %(df.timestamp.max() - df.timestamp.min()))\n",
    "df.tail()"
   ]
  },
  {
   "cell_type": "code",
   "execution_count": 13,
   "metadata": {},
   "outputs": [],
   "source": [
    "df.columns = ['Time', 'Close', 'High', 'Low', 'Open', 'Volumefrom', 'Volumeto','Timestamp']"
   ]
  },
  {
   "cell_type": "code",
   "execution_count": 14,
   "metadata": {},
   "outputs": [
    {
     "data": {
      "text/html": [
       "<div>\n",
       "<style scoped>\n",
       "    .dataframe tbody tr th:only-of-type {\n",
       "        vertical-align: middle;\n",
       "    }\n",
       "\n",
       "    .dataframe tbody tr th {\n",
       "        vertical-align: top;\n",
       "    }\n",
       "\n",
       "    .dataframe thead th {\n",
       "        text-align: right;\n",
       "    }\n",
       "</style>\n",
       "<table border=\"1\" class=\"dataframe\">\n",
       "  <thead>\n",
       "    <tr style=\"text-align: right;\">\n",
       "      <th></th>\n",
       "      <th>Time</th>\n",
       "      <th>Close</th>\n",
       "      <th>High</th>\n",
       "      <th>Low</th>\n",
       "      <th>Open</th>\n",
       "      <th>Volumefrom</th>\n",
       "      <th>Volumeto</th>\n",
       "      <th>Timestamp</th>\n",
       "    </tr>\n",
       "  </thead>\n",
       "  <tbody>\n",
       "    <tr>\n",
       "      <th>3485</th>\n",
       "      <td>1580428800</td>\n",
       "      <td>9342.23</td>\n",
       "      <td>9518.87</td>\n",
       "      <td>9208.36</td>\n",
       "      <td>9501.38</td>\n",
       "      <td>31334.26</td>\n",
       "      <td>2.926278e+08</td>\n",
       "      <td>2020-01-31 01:00:00</td>\n",
       "    </tr>\n",
       "    <tr>\n",
       "      <th>3486</th>\n",
       "      <td>1580515200</td>\n",
       "      <td>9384.45</td>\n",
       "      <td>9455.92</td>\n",
       "      <td>9296.57</td>\n",
       "      <td>9342.23</td>\n",
       "      <td>14778.25</td>\n",
       "      <td>1.386141e+08</td>\n",
       "      <td>2020-02-01 01:00:00</td>\n",
       "    </tr>\n",
       "    <tr>\n",
       "      <th>3487</th>\n",
       "      <td>1580601600</td>\n",
       "      <td>9334.25</td>\n",
       "      <td>9469.84</td>\n",
       "      <td>9169.21</td>\n",
       "      <td>9384.45</td>\n",
       "      <td>24059.37</td>\n",
       "      <td>2.253226e+08</td>\n",
       "      <td>2020-02-02 01:00:00</td>\n",
       "    </tr>\n",
       "    <tr>\n",
       "      <th>3488</th>\n",
       "      <td>1580688000</td>\n",
       "      <td>9288.96</td>\n",
       "      <td>9605.66</td>\n",
       "      <td>9230.83</td>\n",
       "      <td>9334.25</td>\n",
       "      <td>33363.87</td>\n",
       "      <td>3.123151e+08</td>\n",
       "      <td>2020-02-03 01:00:00</td>\n",
       "    </tr>\n",
       "    <tr>\n",
       "      <th>3489</th>\n",
       "      <td>1580774400</td>\n",
       "      <td>9168.16</td>\n",
       "      <td>9347.12</td>\n",
       "      <td>9089.52</td>\n",
       "      <td>9288.96</td>\n",
       "      <td>25982.15</td>\n",
       "      <td>2.391889e+08</td>\n",
       "      <td>2020-02-04 01:00:00</td>\n",
       "    </tr>\n",
       "  </tbody>\n",
       "</table>\n",
       "</div>"
      ],
      "text/plain": [
       "            Time    Close     High      Low     Open  Volumefrom  \\\n",
       "3485  1580428800  9342.23  9518.87  9208.36  9501.38    31334.26   \n",
       "3486  1580515200  9384.45  9455.92  9296.57  9342.23    14778.25   \n",
       "3487  1580601600  9334.25  9469.84  9169.21  9384.45    24059.37   \n",
       "3488  1580688000  9288.96  9605.66  9230.83  9334.25    33363.87   \n",
       "3489  1580774400  9168.16  9347.12  9089.52  9288.96    25982.15   \n",
       "\n",
       "          Volumeto           Timestamp  \n",
       "3485  2.926278e+08 2020-01-31 01:00:00  \n",
       "3486  1.386141e+08 2020-02-01 01:00:00  \n",
       "3487  2.253226e+08 2020-02-02 01:00:00  \n",
       "3488  3.123151e+08 2020-02-03 01:00:00  \n",
       "3489  2.391889e+08 2020-02-04 01:00:00  "
      ]
     },
     "execution_count": 14,
     "metadata": {},
     "output_type": "execute_result"
    }
   ],
   "source": [
    "df.tail()"
   ]
  },
  {
   "cell_type": "code",
   "execution_count": 15,
   "metadata": {},
   "outputs": [
    {
     "name": "stdout",
     "output_type": "stream",
     "text": [
      "CPU times: user 3 µs, sys: 0 ns, total: 3 µs\n",
      "Wall time: 5.96 µs\n"
     ]
    },
    {
     "data": {
      "image/png": "[encoded data removed]",
      "text/plain": [
       "<Figure size 1152x576 with 1 Axes>"
      ]
     },
     "metadata": {
      "needs_background": "light"
     },
     "output_type": "display_data"
    }
   ],
   "source": [
    "%time\n",
    "plt.figure(figsize=(16,8))\n",
    "plt.plot(df.Timestamp,df.Close)\n",
    "plt.xticks(rotation = 45)\n",
    "plt.show()"
   ]
  },
  {
   "cell_type": "code",
   "execution_count": null,
   "metadata": {},
   "outputs": [],
   "source": [
    "%time\n",
    "time_delta = 1\n",
    "df = hourly_price_historical('BTC','USD',limit=2000,aggregate=time_delta)\n",
    "print('Max lenght = %s' %len(df))\n",
    "print('Max Time = %s' %(df.timestamp.max() - df.timestamp.min()))"
   ]
  },
  {
   "cell_type": "code",
   "execution_count": null,
   "metadata": {},
   "outputs": [],
   "source": [
    "plt.figure(figsize=(16,8))\n",
    "plt.plot(df.timestamp,df.close)\n",
    "plt.xticks(rotation = 45)\n",
    "plt.show()"
   ]
  },
  {
   "cell_type": "code",
   "execution_count": null,
   "metadata": {},
   "outputs": [],
   "source": [
    "df.tail()"
   ]
  },
  {
   "cell_type": "code",
   "execution_count": null,
   "metadata": {},
   "outputs": [],
   "source": [
    "%time \n",
    "time_delta = 1\n",
    "df = minute_price_historical('BTC','USD',2000,time_delta)\n",
    "print('Max lenght = %s' %len(df))\n",
    "print('Max Time = %s' %(df.timestamp.max() - df.timestamp.min()))"
   ]
  },
  {
   "cell_type": "code",
   "execution_count": null,
   "metadata": {},
   "outputs": [],
   "source": [
    "plt.figure(figsize=(16,8))\n",
    "plt.plot(df.timestamp,df.close)\n",
    "plt.xticks(rotation = 45)\n",
    "plt.show()"
   ]
  },
  {
   "cell_type": "code",
   "execution_count": null,
   "metadata": {},
   "outputs": [],
   "source": [
    "import uuid\n",
    "from IPython.display import display_javascript, display_html, display\n",
    "import json\n",
    "\n",
    "class RenderJSON(object):\n",
    "    def __init__(self, json_data):\n",
    "        if isinstance(json_data, dict):\n",
    "            self.json_str = json.dumps(json_data)\n",
    "        else:\n",
    "            self.json_str = json_data\n",
    "        self.uuid = str(uuid.uuid4())\n",
    "\n",
    "    def _ipython_display_(self):\n",
    "        display_html('<div id=\"{}\" style=\"height: 600px; width:100%;\"></div>'.format(self.uuid), raw=True)\n",
    "        display_javascript(\"\"\"\n",
    "        require([\"https://rawgit.com/caldwell/renderjson/master/renderjson.js\"], function() {\n",
    "        document.getElementById('%s').appendChild(renderjson(%s))\n",
    "        });\n",
    "        \"\"\" % (self.uuid, self.json_str), raw=True)"
   ]
  },
  {
   "cell_type": "code",
   "execution_count": null,
   "metadata": {},
   "outputs": [],
   "source": [
    "data = coin_list()\n",
    "RenderJSON(data)"
   ]
  },
  {
   "cell_type": "code",
   "execution_count": null,
   "metadata": {},
   "outputs": [],
   "source": [
    "symbol_id_dict = {symb: int(d['Id']) for symb, d in data.items()}"
   ]
  },
  {
   "cell_type": "code",
   "execution_count": null,
   "metadata": {},
   "outputs": [],
   "source": [
    "data = coin_snapshot_full_by_id('ETH',symbol_id_dict)\n",
    "RenderJSON(data)"
   ]
  },
  {
   "cell_type": "code",
   "execution_count": null,
   "metadata": {},
   "outputs": [],
   "source": [
    "url = 'https://min-api.cryptocompare.com/data/blockchain/list?api_key=f01357585fe80c0597e5f63e93e06194cab9c2854924637bde99e13c5a34a726'\n",
    "page = requests.get(url)\n",
    "data = page.json()"
   ]
  },
  {
   "cell_type": "code",
   "execution_count": null,
   "metadata": {},
   "outputs": [],
   "source": [
    "df = pd.DataFrame(data['Data']).T\n",
    "df"
   ]
  },
  {
   "cell_type": "code",
   "execution_count": null,
   "metadata": {},
   "outputs": [],
   "source": [
    "TICKERS = []\n",
    "TICKERS = set(df.symbol)\n",
    "len(TICKERS)"
   ]
  },
  {
   "cell_type": "code",
   "execution_count": null,
   "metadata": {},
   "outputs": [],
   "source": [
    "df.data_available_from.min(),df.data_available_from.max()"
   ]
  },
  {
   "cell_type": "code",
   "execution_count": null,
   "metadata": {},
   "outputs": [],
   "source": []
  }
 ],
 "metadata": {
  "kernelspec": {
   "display_name": "Python 3",
   "language": "python",
   "name": "python3"
  },
  "language_info": {
   "codemirror_mode": {
    "name": "ipython",
    "version": 3
   },
   "file_extension": ".py",
   "mimetype": "text/x-python",
   "name": "python",
   "nbconvert_exporter": "python",
   "pygments_lexer": "ipython3",
   "version": "3.6.8"
  }
 },
 "nbformat": 4,
 "nbformat_minor": 4
}
