{
 "cells": [
  {
   "cell_type": "code",
   "execution_count": 4,
   "metadata": {},
   "outputs": [
    {
     "name": "stdout",
     "output_type": "stream",
     "text": [
      "Ok {0: ['Hedged Straddle']}\n"
     ]
    }
   ],
   "source": [
    "import PySimpleGUI as sg   \n",
    "import pandas as pd\n",
    "\n",
    "TICKER = []\n",
    "df = pd.read_excel('List_Tickers.xlsx')\n",
    "TICKER =tuple(sorted(df['Ticker']))\n",
    "\n",
    "\n",
    "# Green & tan color scheme      \n",
    "sg.ChangeLookAndFeel('Dark Blue 4')      \n",
    "\n",
    "sg.SetOptions( \n",
    "    icon=None,\n",
    "    button_color=None,\n",
    "    element_size=(None, None),\n",
    "    button_element_size=(None, None),\n",
    "    margins=(None, None),\n",
    "    element_padding=(None, None),\n",
    "    auto_size_text=None,\n",
    "    auto_size_buttons=None,\n",
    "    font=None,\n",
    "    border_width=None,\n",
    "    slider_border_width=None,\n",
    "    slider_relief=None,\n",
    "    slider_orientation=None,\n",
    "    autoclose_time=None,\n",
    "    message_box_line_width=None,\n",
    "    progress_meter_border_depth=None,\n",
    "    progress_meter_style=None,\n",
    "    progress_meter_relief=None,\n",
    "    progress_meter_color=None,\n",
    "    progress_meter_size=None,\n",
    "    text_justification='right',\n",
    "    background_color=None,\n",
    "    element_background_color=None,\n",
    "    text_element_background_color=None,\n",
    "    input_elements_background_color=None,\n",
    "    input_text_color=None,\n",
    "    scrollbar_color=None,\n",
    "    text_color=None,\n",
    "    element_text_color=None,\n",
    "    debug_win_size=(None, None),\n",
    "    window_location=(None, None),\n",
    "    error_button_color=(None, None),\n",
    "    tooltip_time=None,\n",
    "    use_ttk_buttons=None,\n",
    "    ttk_theme=None)      \n",
    "\n",
    "#           [sg.Image('fond.png',pad=(200,0))],\n",
    "\n",
    "layout = [[sg.Text('Go!em Option', font=('Helvetica', 16))],\n",
    "          [sg.Text('_'  * 100, size=(65, 1))],\n",
    "          [sg.Text('Choix de la stratégie', font=('Helvetica', 15), justification='right')],      \n",
    "          [sg.Listbox(['Calendar','Straddle','Reversed Iron Condor','Hedged Straddle'])],\n",
    "          [sg.Text('_'  * 100, size=(65, 1))],\n",
    "          \n",
    "          [sg.Ok()]]\n",
    "\n",
    "window = sg.Window('0Oo_D.A.G._26_oO0', layout, font=(\"Helvetica\", 12),location=(0,0), size=(1800,800), keep_on_top=True) \n",
    "\n",
    "event, values = window.read()    \n",
    "\n",
    "print(event,values)"
   ]
  },
  {
   "cell_type": "code",
   "execution_count": null,
   "metadata": {},
   "outputs": [],
   "source": []
  },
  {
   "cell_type": "code",
   "execution_count": null,
   "metadata": {},
   "outputs": [],
   "source": []
  },
  {
   "cell_type": "code",
   "execution_count": null,
   "metadata": {},
   "outputs": [],
   "source": []
  },
  {
   "cell_type": "code",
   "execution_count": null,
   "metadata": {},
   "outputs": [],
   "source": []
  }
 ],
 "metadata": {
  "kernelspec": {
   "display_name": "Python 3",
   "language": "python",
   "name": "python3"
  },
  "language_info": {
   "codemirror_mode": {
    "name": "ipython",
    "version": 3
   },
   "file_extension": ".py",
   "mimetype": "text/x-python",
   "name": "python",
   "nbconvert_exporter": "python",
   "pygments_lexer": "ipython3",
   "version": "3.6.8"
  }
 },
 "nbformat": 4,
 "nbformat_minor": 4
}
