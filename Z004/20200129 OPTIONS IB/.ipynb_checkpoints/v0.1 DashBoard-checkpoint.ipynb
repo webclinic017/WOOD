{
 "cells": [
  {
   "cell_type": "code",
   "execution_count": 1,
   "metadata": {},
   "outputs": [
    {
     "name": "stdout",
     "output_type": "stream",
     "text": [
      "Importing Librairies...\n",
      "Librairies imported\n",
      "\n",
      "Global Optimized LumberJack Environment Motor 55\n",
      "LumberJack Jyss 5780(c)\n",
      "\u001b[34m °0Oo_D.A.G._26_oO0°\n",
      "\u001b[33m \u001b[44m CALENDAR STRATEGY ON IB  \u001b[0m\n",
      "\n"
     ]
    },
    {
     "data": {
      "text/plain": [
       "0"
      ]
     },
     "execution_count": 1,
     "metadata": {},
     "output_type": "execute_result"
    }
   ],
   "source": [
    "import sys \n",
    "import PyQt5.Qt as qt\n",
    "def clearall():\n",
    "    all = [var for var in globals() if var[0] != \"_\"]\n",
    "    for var in all:\n",
    "        del globals()[var]\n",
    "clearall()\n",
    "\n",
    "\n",
    "print('Importing Librairies...')\n",
    "import warnings\n",
    "warnings.filterwarnings(\"ignore\")\n",
    "import numpy as np\n",
    "import pandas as pd\n",
    "import pandas_datareader as web\n",
    "from colorama import Fore, Back, Style\n",
    "import matplotlib.pyplot as plt\n",
    "import matplotlib.dates as mdates\n",
    "import sys\n",
    "import seaborn as sns\n",
    "%matplotlib inline\n",
    "plt.style.use('seaborn')\n",
    "import time\n",
    "import datetime as dt\n",
    "import os\n",
    "import shutil\n",
    "import ib_insync\n",
    "from ib_insync import *\n",
    "import asyncio\n",
    "import tkinter as tk\n",
    "import smtplib\n",
    "import mimetypes\n",
    "from email.message import EmailMessage\n",
    "from random import randint\n",
    "\n",
    "print('Librairies imported')\n",
    "print('')\n",
    "\n",
    "___Author___='LumberJack Jyss'\n",
    "print('Global Optimized LumberJack Environment Motor 55\\nLumberJack Jyss 5780(c)')\n",
    "print(Fore.BLUE,'°0Oo_D.A.G._26_oO0°')\n",
    "print(Fore.YELLOW,Back.BLUE,'CALENDAR STRATEGY ON IB ',Style.RESET_ALL)\n",
    "\n",
    "print('')\n",
    "\n",
    "ib = IB()\n",
    "os.system('say \"Le golem pour te servir, mon maitre. Hoilleli, hoille vavhoille li, mon bon maitre, si je ne te sers pas ou si je ne remplis pas ma mission. Et ma mission, cé le pognon!!\"')"
   ]
  },
  {
   "cell_type": "code",
   "execution_count": 2,
   "metadata": {},
   "outputs": [],
   "source": [
    "compte = 'DU1507428'\n",
    "ticker = 'DIS'\n",
    "echeance_1 = '20200207'\n",
    "echeance_2 = '20200221'\n",
    "quantity = 0"
   ]
  },
  {
   "cell_type": "code",
   "execution_count": 3,
   "metadata": {},
   "outputs": [],
   "source": [
    "def conX():\n",
    "    util.startLoop()  # uncomment this line when in a notebook\n",
    "    util.startLoop()\n",
    "    starterId = randint(1,19)\n",
    "    ib.connect('127.0.0.1', 7497, clientId=starterId )\n",
    "    ib.sleep(1)\n",
    "    if ib.isConnected() == True:\n",
    "        print('Golem est maintenant connecté à IB')\n",
    "    return\n",
    "\n",
    "def disconX():\n",
    "    ib.disconnect()\n",
    "    ib.sleep(1)\n",
    "    if ib.isConnected() == False:\n",
    "        print('Golem est maintenant déconnecté de IB')\n",
    "    return\n",
    "\n",
    "ib = IB()"
   ]
  },
  {
   "cell_type": "code",
   "execution_count": 4,
   "metadata": {},
   "outputs": [],
   "source": [
    "try:\n",
    "    disconX()\n",
    "    ib.sleep(5)\n",
    "except:\n",
    "    pass"
   ]
  },
  {
   "cell_type": "code",
   "execution_count": 5,
   "metadata": {},
   "outputs": [
    {
     "name": "stdout",
     "output_type": "stream",
     "text": [
      "Golem est maintenant connecté à IB\n"
     ]
    }
   ],
   "source": [
    "\n",
    "conX()"
   ]
  },
  {
   "cell_type": "code",
   "execution_count": 7,
   "metadata": {},
   "outputs": [],
   "source": [
    "stock = Stock(ticker,'SMART','USD')\n",
    "ib.qualifyContracts(stock)\n",
    "chains = ib.reqSecDefOptParams(stock.symbol, '', stock.secType, stock.conId)\n",
    "chain = next(c for c in chains if c.tradingClass == ticker and c.exchange == 'SMART')\n",
    "price = ib.reqTickers(stock)[-1].close"
   ]
  },
  {
   "cell_type": "code",
   "execution_count": 8,
   "metadata": {},
   "outputs": [
    {
     "data": {
      "text/plain": [
       "OptionChain(exchange='CBOE2', underlyingConId='6459', tradingClass='DIS', multiplier='100', expirations=['20200207', '20200214', '20200221', '20200228', '20200306', '20200313', '20200320', '20200417', '20200619', '20200717', '20200918', '20210115', '20210618', '20220121'], strikes=[55.0, 60.0, 65.0, 70.0, 75.0, 80.0, 85.0, 90.0, 95.0, 97.5, 100.0, 105.0, 110.0, 115.0, 116.0, 117.0, 118.0, 119.0, 120.0, 121.0, 122.0, 123.0, 124.0, 125.0, 126.0, 127.0, 128.0, 129.0, 130.0, 131.0, 132.0, 133.0, 134.0, 135.0, 136.0, 137.0, 138.0, 139.0, 140.0, 141.0, 142.0, 143.0, 144.0, 145.0, 146.0, 147.0, 148.0, 149.0, 150.0, 152.5, 155.0, 157.5, 160.0, 162.5, 165.0, 167.5, 170.0, 172.5, 175.0, 180.0, 185.0, 190.0, 195.0, 200.0, 210.0, 220.0])"
      ]
     },
     "execution_count": 8,
     "metadata": {},
     "output_type": "execute_result"
    }
   ],
   "source": [
    "chains[0]"
   ]
  },
  {
   "cell_type": "code",
   "execution_count": 9,
   "metadata": {},
   "outputs": [],
   "source": [
    "strikes = [strike for strike in chain.strikes\n",
    "       if round(price - (price/30),2) < strike < round(price + (price/30),2)]\n",
    "expirations = sorted(exp for exp in chain.expirations)[:5]\n",
    "rights = ['P', 'C']"
   ]
  },
  {
   "cell_type": "code",
   "execution_count": null,
   "metadata": {},
   "outputs": [],
   "source": [
    "strikes"
   ]
  },
  {
   "cell_type": "code",
   "execution_count": null,
   "metadata": {},
   "outputs": [],
   "source": [
    "expirations"
   ]
  },
  {
   "cell_type": "code",
   "execution_count": null,
   "metadata": {},
   "outputs": [],
   "source": [
    "contracts = [Option(ticker, expiration, strike, right, 'SMART')\n",
    "        for right in rights\n",
    "        for expiration in expirations\n",
    "        for strike in strikes]"
   ]
  },
  {
   "cell_type": "code",
   "execution_count": null,
   "metadata": {},
   "outputs": [],
   "source": [
    "for cont in contracts:\n",
    "    try:\n",
    "        ib.qualifyContracts(cont)\n",
    "    except:\n",
    "        pass"
   ]
  },
  {
   "cell_type": "code",
   "execution_count": null,
   "metadata": {},
   "outputs": [],
   "source": [
    "cont"
   ]
  },
  {
   "cell_type": "code",
   "execution_count": 12,
   "metadata": {},
   "outputs": [
    {
     "data": {
      "text/plain": [
       "Ticker(contract=Stock(conId=6459, symbol='DIS', exchange='SMART', primaryExchange='NYSE', currency='USD', localSymbol='DIS', tradingClass='DIS'), time=datetime.datetime(2020, 2, 3, 23, 13, 44, 144436, tzinfo=datetime.timezone.utc), bid=141.6, bidSize=2, ask=141.99, askSize=3, last=141.5, lastSize=1, prevBidSize=1, volume=126406, open=139.84, high=141.82, low=139.75, close=138.31, halted=0.0, ticks=[TickData(time=datetime.datetime(2020, 2, 3, 23, 13, 44, 144436, tzinfo=datetime.timezone.utc), tickType=4, price=141.5, size=1), TickData(time=datetime.datetime(2020, 2, 3, 23, 13, 44, 144436, tzinfo=datetime.timezone.utc), tickType=8, price=-1.0, size=126406), TickData(time=datetime.datetime(2020, 2, 3, 23, 13, 44, 144436, tzinfo=datetime.timezone.utc), tickType=6, price=141.82, size=0), TickData(time=datetime.datetime(2020, 2, 3, 23, 13, 44, 144436, tzinfo=datetime.timezone.utc), tickType=7, price=139.75, size=0), TickData(time=datetime.datetime(2020, 2, 3, 23, 13, 44, 144436, tzinfo=datetime.timezone.utc), tickType=9, price=138.31, size=0), TickData(time=datetime.datetime(2020, 2, 3, 23, 13, 44, 144436, tzinfo=datetime.timezone.utc), tickType=14, price=139.84, size=0), TickData(time=datetime.datetime(2020, 2, 3, 23, 13, 44, 144436, tzinfo=datetime.timezone.utc), tickType=49, price=0.0, size=0)], tickByTicks=[], domBids=[], domAsks=[], domTicks=[])"
      ]
     },
     "execution_count": 12,
     "metadata": {},
     "output_type": "execute_result"
    }
   ],
   "source": [
    "ib.reqTickers(stock)[-1]"
   ]
  },
  {
   "cell_type": "code",
   "execution_count": 13,
   "metadata": {},
   "outputs": [
    {
     "data": {
      "text/plain": [
       "Ticker(contract=Stock(conId=6459, symbol='DIS', exchange='SMART', primaryExchange='NYSE', currency='USD', localSymbol='DIS', tradingClass='DIS'), time=datetime.datetime(2020, 2, 3, 23, 13, 44, 730023, tzinfo=datetime.timezone.utc), bid=141.6, bidSize=2, ask=141.7, askSize=1, last=141.5, lastSize=1, prevBidSize=1, prevAsk=141.99, prevAskSize=3, volume=126406, open=139.84, high=141.82, low=139.75, close=138.31, halted=0.0, ticks=[TickData(time=datetime.datetime(2020, 2, 3, 23, 13, 44, 730023, tzinfo=datetime.timezone.utc), tickType=2, price=141.7, size=1)], tickByTicks=[], domBids=[], domAsks=[], domTicks=[])"
      ]
     },
     "execution_count": 13,
     "metadata": {},
     "output_type": "execute_result"
    }
   ],
   "source": [
    "ib.reqMktData(stock)"
   ]
  },
  {
   "cell_type": "code",
   "execution_count": null,
   "metadata": {},
   "outputs": [],
   "source": []
  },
  {
   "cell_type": "code",
   "execution_count": null,
   "metadata": {},
   "outputs": [],
   "source": []
  }
 ],
 "metadata": {
  "kernelspec": {
   "display_name": "Python 3",
   "language": "python",
   "name": "python3"
  },
  "language_info": {
   "codemirror_mode": {
    "name": "ipython",
    "version": 3
   },
   "file_extension": ".py",
   "mimetype": "text/x-python",
   "name": "python",
   "nbconvert_exporter": "python",
   "pygments_lexer": "ipython3",
   "version": "3.6.8"
  }
 },
 "nbformat": 4,
 "nbformat_minor": 4
}
