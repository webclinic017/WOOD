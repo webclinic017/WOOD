{
 "cells": [
  {
   "cell_type": "code",
   "execution_count": 1,
   "metadata": {},
   "outputs": [
    {
     "name": "stdout",
     "output_type": "stream",
     "text": [
      "Importing Librairies...\n",
      "Librairies imported\n",
      "\n",
      "Global Optimized LumberJack Environment Motor 55\n",
      "LumberJack Jyss 5780(c)\n",
      "\u001b[34m °0Oo_D.A.G._26_oO0°\n",
      "\u001b[33m \u001b[44m CALENDAR STRATEGY ON IB  \u001b[0m\n",
      "\n"
     ]
    },
    {
     "data": {
      "text/plain": [
       "0"
      ]
     },
     "execution_count": 1,
     "metadata": {},
     "output_type": "execute_result"
    }
   ],
   "source": [
    "import sys \n",
    "import PyQt5.Qt as qt\n",
    "def clearall():\n",
    "    all = [var for var in globals() if var[0] != \"_\"]\n",
    "    for var in all:\n",
    "        del globals()[var]\n",
    "clearall()\n",
    "\n",
    "\n",
    "print('Importing Librairies...')\n",
    "import warnings\n",
    "warnings.filterwarnings(\"ignore\")\n",
    "import numpy as np\n",
    "import pandas as pd\n",
    "import pandas_datareader as web\n",
    "from colorama import Fore, Back, Style\n",
    "import matplotlib.pyplot as plt\n",
    "import matplotlib.dates as mdates\n",
    "import sys\n",
    "import seaborn as sns\n",
    "%matplotlib inline\n",
    "plt.style.use('seaborn')\n",
    "import time\n",
    "import datetime as dt\n",
    "import os\n",
    "import shutil\n",
    "import ib_insync\n",
    "from ib_insync import *\n",
    "import asyncio\n",
    "import tkinter as tk\n",
    "import smtplib\n",
    "import mimetypes\n",
    "from email.message import EmailMessage\n",
    "from random import randint\n",
    "\n",
    "print('Librairies imported')\n",
    "print('')\n",
    "\n",
    "___Author___='LumberJack Jyss'\n",
    "print('Global Optimized LumberJack Environment Motor 55\\nLumberJack Jyss 5780(c)')\n",
    "print(Fore.BLUE,'°0Oo_D.A.G._26_oO0°')\n",
    "print(Fore.YELLOW,Back.BLUE,'CALENDAR STRATEGY ON IB ',Style.RESET_ALL)\n",
    "\n",
    "print('')\n",
    "\n",
    "ib = IB()\n",
    "os.system('say \"Le golem pour te servir, mon maitre. Hoilleli, hoille vavhoille li, mon bon maitre, si je ne te sers pas ou si je ne remplis pas ma mission. Et ma mission, cé le pognon!!\"')"
   ]
  },
  {
   "cell_type": "code",
   "execution_count": 2,
   "metadata": {},
   "outputs": [],
   "source": [
    "compte = 'DU1507428'\n",
    "ticker = 'DIS'\n",
    "echeance_1 = '20200207'\n",
    "echeance_2 = '20200221'\n",
    "quantity = 0"
   ]
  },
  {
   "cell_type": "code",
   "execution_count": 3,
   "metadata": {},
   "outputs": [],
   "source": [
    "def conX():\n",
    "    util.startLoop()  # uncomment this line when in a notebook\n",
    "    util.startLoop()\n",
    "    starterId = randint(1,19)\n",
    "    ib.connect('127.0.0.1', 7497, clientId=starterId )\n",
    "    ib.sleep(1)\n",
    "    if ib.isConnected() == True:\n",
    "        print('Golem est maintenant connecté à IB')\n",
    "    return\n",
    "\n",
    "def disconX():\n",
    "    ib.disconnect()\n",
    "    ib.sleep(1)\n",
    "    if ib.isConnected() == False:\n",
    "        print('Golem est maintenant déconnecté de IB')\n",
    "    return\n",
    "\n",
    "ib = IB()"
   ]
  },
  {
   "cell_type": "code",
   "execution_count": 4,
   "metadata": {},
   "outputs": [],
   "source": [
    "try:\n",
    "    disconX()\n",
    "    ib.sleep(5)\n",
    "except:\n",
    "    pass"
   ]
  },
  {
   "cell_type": "code",
   "execution_count": 6,
   "metadata": {},
   "outputs": [
    {
     "name": "stdout",
     "output_type": "stream",
     "text": [
      "Golem est maintenant connecté à IB\n"
     ]
    }
   ],
   "source": [
    "conX()"
   ]
  },
  {
   "cell_type": "code",
   "execution_count": null,
   "metadata": {},
   "outputs": [],
   "source": [
    "def calendar(ticker):\n",
    "    contract = Contract()\n",
    "    info_1 = ib.reqTickers(contract_1)\n",
    "    info_2 = ib.reqTickers(contract_2)\n",
    "    contract.symbol = ticker\n",
    "    contract.secType = \"BAG\"\n",
    "    contract.currency = \"USD\"\n",
    "    contract.exchange = \"SMART\"\n",
    "    leg1 = ComboLeg()\n",
    "    leg1.conId = info_1[0].contract.conId\n",
    "    leg1.ratio = 1\n",
    "    leg1.action = \"SELL\"\n",
    "    leg1.exchange = \"SMART\"\n",
    "    leg2 = ComboLeg()\n",
    "    leg2.conId = info_2[0].contract.conId\n",
    "    leg2.ratio = 1\n",
    "    leg2.action = \"BUY\"\n",
    "    leg2.exchange = \"SMART\"\n",
    "    contract.comboLegs = []\n",
    "    contract.comboLegs.append(leg1)\n",
    "    contract.comboLegs.append(leg2)\n",
    "\n",
    "    bag_info = ib.reqTickers(contract)\n",
    "    ib.sleep(5)\n",
    "    return(contract,bag_info)"
   ]
  },
  {
   "cell_type": "code",
   "execution_count": null,
   "metadata": {},
   "outputs": [],
   "source": [
    "contract_1=Option(ticker,echeance_1,strike=137,right=\"PUT\",exchange='SMART',multiplier=100,currency='USD')\n",
    "contract_2=Option(ticker,echeance_2,strike=137,right=\"PUT\",exchange='SMART',multiplier=100,currency='USD')\n",
    "ib.qualifyContracts(contract_1)\n",
    "ib.qualifyContracts(contract_2)\n",
    "\n",
    "contract,bag_info = calendar(ticker)\n",
    "\n",
    "print(bag_info[0].bid,bag_info[0].ask,bag_info[0],'\\n')\n",
    "\n",
    "stock = Stock(ticker,'SMART','USD')\n",
    "price = ib.reqHistoricalData(stock,durationStr='60 S',barSizeSetting='1 min',whatToShow='MIDPOINT',endDateTime='',useRTH=False)\n",
    "ib.sleep(5)\n",
    "\n",
    "print(price[1].close,price[1].close*0.0038,'\\n')\n",
    "\n",
    "relative_price = round(price[1].close*0.0038,2)\n"
   ]
  },
  {
   "cell_type": "code",
   "execution_count": null,
   "metadata": {},
   "outputs": [],
   "source": [
    "print(Fore.BLUE,'CALENDAR',Style.RESET_ALL,' sur le ticker ',Fore.YELLOW,ticker,Style.RESET_ALL,' basé sur un prix relatif à ',Fore.GREEN,relative_price,Style.RESET_ALL,\\\n",
    "      'avec un prix du sous-jacent à ',Fore.RED,round(price[1].close,2),Style.RESET_ALL,'et une quantité de',Fore.MAGENTA,quantity,Style.RESET_ALL,'et le ',Fore.MAGENTA,'order_id: {}'.format(order_id),Style.RESET_ALL,'\\n')\n",
    "print(trade,'\\n \\n')"
   ]
  },
  {
   "cell_type": "code",
   "execution_count": null,
   "metadata": {},
   "outputs": [],
   "source": []
  },
  {
   "cell_type": "code",
   "execution_count": null,
   "metadata": {},
   "outputs": [],
   "source": []
  },
  {
   "cell_type": "code",
   "execution_count": null,
   "metadata": {},
   "outputs": [],
   "source": []
  },
  {
   "cell_type": "code",
   "execution_count": null,
   "metadata": {},
   "outputs": [],
   "source": []
  },
  {
   "cell_type": "code",
   "execution_count": null,
   "metadata": {},
   "outputs": [],
   "source": []
  },
  {
   "cell_type": "code",
   "execution_count": null,
   "metadata": {},
   "outputs": [],
   "source": []
  },
  {
   "cell_type": "code",
   "execution_count": null,
   "metadata": {},
   "outputs": [],
   "source": []
  },
  {
   "cell_type": "code",
   "execution_count": null,
   "metadata": {},
   "outputs": [],
   "source": []
  },
  {
   "cell_type": "code",
   "execution_count": null,
   "metadata": {},
   "outputs": [],
   "source": []
  },
  {
   "cell_type": "code",
   "execution_count": null,
   "metadata": {},
   "outputs": [],
   "source": []
  },
  {
   "cell_type": "code",
   "execution_count": null,
   "metadata": {},
   "outputs": [],
   "source": []
  },
  {
   "cell_type": "code",
   "execution_count": null,
   "metadata": {},
   "outputs": [],
   "source": []
  },
  {
   "cell_type": "code",
   "execution_count": 7,
   "metadata": {},
   "outputs": [],
   "source": [
    "stock = Stock(ticker,'SMART','USD')\n",
    "ib.qualifyContracts(stock)\n",
    "chains = ib.reqSecDefOptParams(stock.symbol, '', stock.secType, stock.conId)\n",
    "chain = next(c for c in chains if c.tradingClass == ticker and c.exchange == 'SMART')\n",
    "price = ib.reqTickers(stock)[-1].close"
   ]
  },
  {
   "cell_type": "code",
   "execution_count": 8,
   "metadata": {},
   "outputs": [
    {
     "data": {
      "text/plain": [
       "OptionChain(exchange='CBOE2', underlyingConId='6459', tradingClass='DIS', multiplier='100', expirations=['20200207', '20200214', '20200221', '20200228', '20200306', '20200313', '20200320', '20200417', '20200619', '20200717', '20200918', '20210115', '20210618', '20220121'], strikes=[55.0, 60.0, 65.0, 70.0, 75.0, 80.0, 85.0, 90.0, 95.0, 97.5, 100.0, 105.0, 110.0, 115.0, 116.0, 117.0, 118.0, 119.0, 120.0, 121.0, 122.0, 123.0, 124.0, 125.0, 126.0, 127.0, 128.0, 129.0, 130.0, 131.0, 132.0, 133.0, 134.0, 135.0, 136.0, 137.0, 138.0, 139.0, 140.0, 141.0, 142.0, 143.0, 144.0, 145.0, 146.0, 147.0, 148.0, 149.0, 150.0, 152.5, 155.0, 157.5, 160.0, 162.5, 165.0, 167.5, 170.0, 172.5, 175.0, 180.0, 185.0, 190.0, 195.0, 200.0, 210.0, 220.0])"
      ]
     },
     "execution_count": 8,
     "metadata": {},
     "output_type": "execute_result"
    }
   ],
   "source": [
    "chains[0]"
   ]
  },
  {
   "cell_type": "code",
   "execution_count": 9,
   "metadata": {},
   "outputs": [],
   "source": [
    "strikes = [strike for strike in chain.strikes\n",
    "       if round(price - (price/30),2) < strike < round(price + (price/30),2)]\n",
    "expirations = sorted(exp for exp in chain.expirations)[:5]\n",
    "rights = ['P', 'C']"
   ]
  },
  {
   "cell_type": "code",
   "execution_count": 10,
   "metadata": {},
   "outputs": [
    {
     "data": {
      "text/plain": [
       "[137.0, 138.0, 139.0, 140.0, 141.0, 142.0, 143.0, 144.0, 145.0, 146.0]"
      ]
     },
     "execution_count": 10,
     "metadata": {},
     "output_type": "execute_result"
    }
   ],
   "source": [
    "strikes"
   ]
  },
  {
   "cell_type": "code",
   "execution_count": 11,
   "metadata": {},
   "outputs": [
    {
     "data": {
      "text/plain": [
       "['20200207', '20200214', '20200221', '20200228', '20200306']"
      ]
     },
     "execution_count": 11,
     "metadata": {},
     "output_type": "execute_result"
    }
   ],
   "source": [
    "expirations"
   ]
  },
  {
   "cell_type": "code",
   "execution_count": 13,
   "metadata": {},
   "outputs": [],
   "source": [
    "contracts = [Option(ticker, expiration, strike, right, 'SMART')\n",
    "        for right in rights\n",
    "        for expiration in expirations\n",
    "        for strike in strikes]"
   ]
  },
  {
   "cell_type": "code",
   "execution_count": null,
   "metadata": {},
   "outputs": [],
   "source": []
  },
  {
   "cell_type": "code",
   "execution_count": null,
   "metadata": {},
   "outputs": [],
   "source": []
  },
  {
   "cell_type": "code",
   "execution_count": null,
   "metadata": {},
   "outputs": [],
   "source": []
  },
  {
   "cell_type": "code",
   "execution_count": null,
   "metadata": {},
   "outputs": [],
   "source": []
  },
  {
   "cell_type": "code",
   "execution_count": null,
   "metadata": {},
   "outputs": [],
   "source": []
  },
  {
   "cell_type": "code",
   "execution_count": null,
   "metadata": {},
   "outputs": [],
   "source": []
  }
 ],
 "metadata": {
  "kernelspec": {
   "display_name": "Python 3",
   "language": "python",
   "name": "python3"
  },
  "language_info": {
   "codemirror_mode": {
    "name": "ipython",
    "version": 3
   },
   "file_extension": ".py",
   "mimetype": "text/x-python",
   "name": "python",
   "nbconvert_exporter": "python",
   "pygments_lexer": "ipython3",
   "version": "3.6.8"
  }
 },
 "nbformat": 4,
 "nbformat_minor": 4
}
