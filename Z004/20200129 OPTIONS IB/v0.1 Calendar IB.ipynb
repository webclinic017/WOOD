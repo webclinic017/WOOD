{
 "cells": [
  {
   "cell_type": "code",
   "execution_count": 11,
   "metadata": {},
   "outputs": [
    {
     "name": "stdout",
     "output_type": "stream",
     "text": [
      "Importing Librairies...\n",
      "Librairies imported\n",
      "\n",
      "Global Optimized LumberJack Environment Motor 55\n",
      "LumberJack Jyss 5780(c)\n",
      "\u001b[34m °0Oo_D.A.G._26_oO0°\n",
      "\u001b[33m \u001b[44m CALENDAR STRATEGY ON IB  \u001b[0m\n",
      "\n"
     ]
    }
   ],
   "source": [
    "def clearall():\n",
    "    all = [var for var in globals() if var[0] != \"_\"]\n",
    "    for var in all:\n",
    "        del globals()[var]\n",
    "clearall()\n",
    "\n",
    "\n",
    "print('Importing Librairies...')\n",
    "import warnings\n",
    "warnings.filterwarnings(\"ignore\")\n",
    "import numpy as np\n",
    "import pandas as pd\n",
    "import pandas_datareader as web\n",
    "from colorama import Fore, Back, Style\n",
    "import matplotlib.pyplot as plt\n",
    "import matplotlib.dates as mdates\n",
    "import sys\n",
    "import seaborn as sns\n",
    "%matplotlib inline\n",
    "plt.style.use('seaborn')\n",
    "import time\n",
    "import datetime as dt\n",
    "import os\n",
    "import shutil\n",
    "import ib_insync\n",
    "from ib_insync import *\n",
    "import asyncio\n",
    "import tkinter as tk\n",
    "import smtplib\n",
    "import mimetypes\n",
    "from email.message import EmailMessage\n",
    "from random import randint\n",
    "\n",
    "print('Librairies imported')\n",
    "print('')\n",
    "\n",
    "___Author___='LumberJack Jyss'\n",
    "print('Global Optimized LumberJack Environment Motor 55\\nLumberJack Jyss 5780(c)')\n",
    "print(Fore.BLUE,'°0Oo_D.A.G._26_oO0°')\n",
    "print(Fore.YELLOW,Back.BLUE,'CALENDAR STRATEGY ON IB ',Style.RESET_ALL)\n",
    "\n",
    "print('')\n",
    "\n",
    "ib = IB()\n",
    "os.system('say \"Le golem pour te servir, mon maitre. Hoilleli, hoille vavhoille li, mon bon maitre, si je ne te sers pas ou si je ne remplis pas ma mission. Et ma mission, cé le pognon!!\"')\n",
    "compte = 'DU1507428'\n",
    "ticker = 'DIS'\n",
    "echeance_1 = '20200207'\n",
    "echeance_2 = '20200221'\n",
    "quantity = 5\n",
    "\n",
    "\n",
    "def conX():\n",
    "    util.startLoop()  # uncomment this line when in a notebook\n",
    "    util.startLoop()\n",
    "    starterId = randint(1,19)\n",
    "    ib.connect('127.0.0.1', 7497, clientId=starterId )\n",
    "    if ib.isConnected() == True:\n",
    "        print('Golem est maintenant connecté à IB')\n",
    "    return\n",
    "\n",
    "def disconX():\n",
    "    ib.disconnect()\n",
    "    if ib.isConnected() == False:\n",
    "        print('Golem est maintenant déconnecté de IB')\n",
    "    return\n",
    "\n",
    "def calendar(ticker):\n",
    "    contract = Contract()\n",
    "    info_1 = ib.reqTickers(contract_1)\n",
    "    info_2 = ib.reqTickers(contract_2)\n",
    "    contract.symbol = ticker\n",
    "    contract.secType = \"BAG\"\n",
    "    contract.currency = \"USD\"\n",
    "    contract.exchange = \"SMART\"\n",
    "    leg1 = ComboLeg()\n",
    "    leg1.conId = info_1[0].contract.conId\n",
    "    leg1.ratio = 1\n",
    "    leg1.action = \"SELL\"\n",
    "    leg1.exchange = \"SMART\"\n",
    "    leg2 = ComboLeg()\n",
    "    leg2.conId = info_2[0].contract.conId\n",
    "    leg2.ratio = 1\n",
    "    leg2.action = \"BUY\"\n",
    "    leg2.exchange = \"SMART\"\n",
    "    contract.comboLegs = []\n",
    "    contract.comboLegs.append(leg1)\n",
    "    contract.comboLegs.append(leg2)\n",
    "\n",
    "    bag_info = ib.reqTickers(contract)\n",
    "    ib.sleep(5)\n",
    "    return(contract,bag_info)\n",
    "\n",
    "ib = IB()"
   ]
  },
  {
   "cell_type": "code",
   "execution_count": 12,
   "metadata": {},
   "outputs": [
    {
     "name": "stdout",
     "output_type": "stream",
     "text": [
      "Golem est maintenant déconnecté de IB\n",
      "Golem est maintenant connecté à IB\n"
     ]
    },
    {
     "data": {
      "text/plain": [
       "True"
      ]
     },
     "execution_count": 12,
     "metadata": {},
     "output_type": "execute_result"
    }
   ],
   "source": [
    "disconX()\n",
    "\n",
    "conX()\n",
    "ib.sleep(2)"
   ]
  },
  {
   "cell_type": "code",
   "execution_count": 3,
   "metadata": {},
   "outputs": [
    {
     "name": "stderr",
     "output_type": "stream",
     "text": [
      "Error 354, reqId 10: Vous n'êtes pas abonné à ces données de marché.Des données de marché en différé sont disponibles.Error&BEST/OPT/Top&BEST/OPT/Top, contract: Option(conId=397324485, symbol='DIS', lastTradeDateOrContractMonth='20200207', strike=137.0, right='P', multiplier='100', exchange='SMART', currency='USD', localSymbol='DIS   200207P00137000', tradingClass='DIS')\n",
      "Error 354, reqId 11: Vous n'êtes pas abonné à ces données de marché.Des données de marché en différé sont disponibles.Error&BEST/OPT/Top&BEST/OPT/Top, contract: Option(conId=400187317, symbol='DIS', lastTradeDateOrContractMonth='20200221', strike=137.0, right='P', multiplier='100', exchange='SMART', currency='USD', localSymbol='DIS   200221P00137000', tradingClass='DIS')\n",
      "Error 354, reqId 12: Vous n'êtes pas abonné à ces données de marché.Des données de marché en différé sont disponibles.Error&BEST/OPT/Top&BEST/OPT/Top, contract: Contract(secType='BAG', symbol='DIS', exchange='SMART', currency='USD', comboLegs=[ComboLeg(conId=397324485, ratio=1, action='SELL', exchange='SMART'), ComboLeg(conId=400187317, ratio=1, action='BUY', exchange='SMART')])\n"
     ]
    },
    {
     "name": "stdout",
     "output_type": "stream",
     "text": [
      "nan nan Ticker(contract=Contract(secType='BAG', symbol='DIS', exchange='SMART', currency='USD', comboLegs=[ComboLeg(conId=397324485, ratio=1, action='SELL', exchange='SMART'), ComboLeg(conId=400187317, ratio=1, action='BUY', exchange='SMART')]), ticks=[], tickByTicks=[], domBids=[], domAsks=[], domTicks=[]) \n",
      "\n"
     ]
    },
    {
     "name": "stderr",
     "output_type": "stream",
     "text": [
      "Error 162, reqId 13: Message d'erreur Service Données de Marché Historiques:No market data permissions for NYSE STK, contract: Stock(symbol='DIS', exchange='SMART', currency='USD')\n"
     ]
    },
    {
     "ename": "IndexError",
     "evalue": "list index out of range",
     "output_type": "error",
     "traceback": [
      "\u001b[0;31m---------------------------------------------------------------------------\u001b[0m",
      "\u001b[0;31mIndexError\u001b[0m                                Traceback (most recent call last)",
      "\u001b[0;32m<ipython-input-3-46a684ac8a5c>\u001b[0m in \u001b[0;36m<module>\u001b[0;34m\u001b[0m\n\u001b[1;32m     12\u001b[0m \u001b[0mib\u001b[0m\u001b[0;34m.\u001b[0m\u001b[0msleep\u001b[0m\u001b[0;34m(\u001b[0m\u001b[0;36m5\u001b[0m\u001b[0;34m)\u001b[0m\u001b[0;34m\u001b[0m\u001b[0;34m\u001b[0m\u001b[0m\n\u001b[1;32m     13\u001b[0m \u001b[0;34m\u001b[0m\u001b[0m\n\u001b[0;32m---> 14\u001b[0;31m \u001b[0mprint\u001b[0m\u001b[0;34m(\u001b[0m\u001b[0mprice\u001b[0m\u001b[0;34m[\u001b[0m\u001b[0;36m1\u001b[0m\u001b[0;34m]\u001b[0m\u001b[0;34m.\u001b[0m\u001b[0mclose\u001b[0m\u001b[0;34m,\u001b[0m\u001b[0mprice\u001b[0m\u001b[0;34m[\u001b[0m\u001b[0;36m1\u001b[0m\u001b[0;34m]\u001b[0m\u001b[0;34m.\u001b[0m\u001b[0mclose\u001b[0m\u001b[0;34m*\u001b[0m\u001b[0;36m0.0038\u001b[0m\u001b[0;34m,\u001b[0m\u001b[0;34m'\\n'\u001b[0m\u001b[0;34m)\u001b[0m\u001b[0;34m\u001b[0m\u001b[0;34m\u001b[0m\u001b[0m\n\u001b[0m\u001b[1;32m     15\u001b[0m \u001b[0;34m\u001b[0m\u001b[0m\n\u001b[1;32m     16\u001b[0m \u001b[0mrelative_price\u001b[0m \u001b[0;34m=\u001b[0m \u001b[0mround\u001b[0m\u001b[0;34m(\u001b[0m\u001b[0mprice\u001b[0m\u001b[0;34m[\u001b[0m\u001b[0;36m1\u001b[0m\u001b[0;34m]\u001b[0m\u001b[0;34m.\u001b[0m\u001b[0mclose\u001b[0m\u001b[0;34m*\u001b[0m\u001b[0;36m0.0038\u001b[0m\u001b[0;34m,\u001b[0m\u001b[0;36m2\u001b[0m\u001b[0;34m)\u001b[0m\u001b[0;34m\u001b[0m\u001b[0;34m\u001b[0m\u001b[0m\n",
      "\u001b[0;31mIndexError\u001b[0m: list index out of range"
     ]
    },
    {
     "name": "stderr",
     "output_type": "stream",
     "text": [
      "Peer closed connection\n"
     ]
    }
   ],
   "source": [
    "contract_1=Option(ticker,echeance_1,strike=137,right=\"PUT\",exchange='SMART',multiplier=100,currency='USD')\n",
    "contract_2=Option(ticker,echeance_2,strike=137,right=\"PUT\",exchange='SMART',multiplier=100,currency='USD')\n",
    "ib.qualifyContracts(contract_1)\n",
    "ib.qualifyContracts(contract_2)\n",
    "\n",
    "contract,bag_info = calendar(ticker)\n",
    "\n",
    "print(bag_info[0].bid,bag_info[0].ask,bag_info[0],'\\n')\n",
    "\n",
    "stock = Stock(ticker,'SMART','USD')\n",
    "price = ib.reqHistoricalData(stock,durationStr='60 S',barSizeSetting='1 min',whatToShow='MIDPOINT',endDateTime='',useRTH=False)\n",
    "ib.sleep(5)\n",
    "\n",
    "print(price[1].close,price[1].close*0.0038,'\\n')\n",
    "\n",
    "relative_price = round(price[1].close*0.0038,2)\n",
    "order = LimitOrder('BUY', quantity,relative_price,account=compte)\n",
    "trade = ib.placeOrder(contract, order)\n",
    "order_id = trade.order.orderId\n",
    "\n",
    "print(Fore.BLUE,'CALENDAR',Style.RESET_ALL,' sur le ticker ',Fore.YELLOW,ticker,Style.RESET_ALL,' basé sur un prix relatif à ',Fore.GREEN,relative_price,Style.RESET_ALL,\\\n",
    "      'avec un prix du sous-jacent à ',Fore.RED,round(price[1].close,2),Style.RESET_ALL,'et une quantité de',Fore.MAGENTA,quantity,Style.RESET_ALL,'et le ',Fore.MAGENTA,'order_id: {}'.format(order_id),Style.RESET_ALL,'\\n')\n",
    "print(trade,'\\n \\n')"
   ]
  },
  {
   "cell_type": "code",
   "execution_count": null,
   "metadata": {},
   "outputs": [],
   "source": [
    "order_id = trade.order.orderId\n",
    "print('order_id: {}'.format(order_id))\n",
    "assert(order_id > 1) #23447 #23461"
   ]
  },
  {
   "cell_type": "code",
   "execution_count": null,
   "metadata": {},
   "outputs": [],
   "source": [
    "for ii in range(0,len(ib.trades())):\n",
    "    if ib.trades()[ii].order.orderId == order_id:\n",
    "        ib.cancelOrder(ib.trades()[ii].order)"
   ]
  },
  {
   "cell_type": "code",
   "execution_count": null,
   "metadata": {},
   "outputs": [],
   "source": [
    "order_id"
   ]
  },
  {
   "cell_type": "code",
   "execution_count": null,
   "metadata": {},
   "outputs": [],
   "source": [
    "contract"
   ]
  },
  {
   "cell_type": "code",
   "execution_count": 4,
   "metadata": {},
   "outputs": [],
   "source": []
  },
  {
   "cell_type": "code",
   "execution_count": 14,
   "metadata": {},
   "outputs": [
    {
     "name": "stderr",
     "output_type": "stream",
     "text": [
      "Error 354, reqId 8: Vous n'êtes pas abonné à ces données de marché.Des données de marché en différé sont disponibles.Error&BEST/STK/Top&BEST/STK/Top, contract: Stock(symbol='DIS', exchange='SMART', currency='USD')\n"
     ]
    },
    {
     "data": {
      "text/plain": [
       "[Ticker(contract=Stock(symbol='DIS', exchange='SMART', currency='USD'), ticks=[], tickByTicks=[], domBids=[], domAsks=[], domTicks=[])]"
      ]
     },
     "execution_count": 14,
     "metadata": {},
     "output_type": "execute_result"
    },
    {
     "name": "stderr",
     "output_type": "stream",
     "text": [
      "Error 1100, reqId -1: La connexion entre IB et Trader Workstation a été perdue.\n",
      "Error 1102, reqId -1: La connexion entre IB et Trader Workstation a été restaurée et les données ont été récupérées.\n",
      "Error 1100, reqId -1: La connexion entre IB et Trader Workstation a été perdue.\n",
      "Error 1102, reqId -1: La connexion entre IB et Trader Workstation a été restaurée et les données ont été récupérées.\n",
      "Error 1100, reqId -1: La connexion entre IB et Trader Workstation a été perdue.\n",
      "Error 1102, reqId -1: La connexion entre IB et Trader Workstation a été restaurée et les données ont été récupérées.\n",
      "Peer closed connection\n"
     ]
    }
   ],
   "source": [
    "stock = Stock(ticker,'SMART','USD')\n",
    "ib.reqTickers(stock)"
   ]
  },
  {
   "cell_type": "code",
   "execution_count": null,
   "metadata": {},
   "outputs": [],
   "source": []
  },
  {
   "cell_type": "code",
   "execution_count": null,
   "metadata": {},
   "outputs": [],
   "source": []
  },
  {
   "cell_type": "code",
   "execution_count": null,
   "metadata": {},
   "outputs": [],
   "source": []
  },
  {
   "cell_type": "code",
   "execution_count": null,
   "metadata": {},
   "outputs": [],
   "source": []
  },
  {
   "cell_type": "code",
   "execution_count": null,
   "metadata": {},
   "outputs": [],
   "source": []
  },
  {
   "cell_type": "code",
   "execution_count": null,
   "metadata": {},
   "outputs": [],
   "source": []
  },
  {
   "cell_type": "code",
   "execution_count": null,
   "metadata": {},
   "outputs": [],
   "source": []
  },
  {
   "cell_type": "code",
   "execution_count": null,
   "metadata": {},
   "outputs": [],
   "source": []
  },
  {
   "cell_type": "code",
   "execution_count": null,
   "metadata": {},
   "outputs": [],
   "source": []
  },
  {
   "cell_type": "code",
   "execution_count": null,
   "metadata": {},
   "outputs": [],
   "source": []
  },
  {
   "cell_type": "code",
   "execution_count": null,
   "metadata": {},
   "outputs": [],
   "source": []
  },
  {
   "cell_type": "code",
   "execution_count": null,
   "metadata": {},
   "outputs": [],
   "source": []
  },
  {
   "cell_type": "code",
   "execution_count": null,
   "metadata": {},
   "outputs": [],
   "source": []
  },
  {
   "cell_type": "code",
   "execution_count": null,
   "metadata": {},
   "outputs": [],
   "source": []
  },
  {
   "cell_type": "code",
   "execution_count": null,
   "metadata": {},
   "outputs": [],
   "source": []
  },
  {
   "cell_type": "code",
   "execution_count": null,
   "metadata": {},
   "outputs": [],
   "source": [
    "### OPTIONS CALCULATION\n",
    "\n",
    "option = Option('DIS', '20200221', strike=137, right='P', multiplier=100)\n",
    "try :\n",
    "    calc = ib.calculateImpliedVolatility(option, optionPrice=6.1, underPrice=525)\n",
    "    print(calc)\n",
    "except :\n",
    "    print('Empty Implied Volatility')\n",
    "try :\n",
    "    calc = ib.calculateOptionPrice(option, volatility=0.14, underPrice=525)\n",
    "    print(calc)\n",
    "except:\n",
    "    print('Empty Option Price')"
   ]
  },
  {
   "cell_type": "code",
   "execution_count": null,
   "metadata": {},
   "outputs": [],
   "source": [
    "# DIVIDENDS\n",
    "contract = Stock('DIS', 'SMART', 'USD')\n",
    "ticker = ib.reqMktData(contract, '456')\n",
    "ib.sleep(2)\n",
    "print(ticker.dividends)"
   ]
  },
  {
   "cell_type": "code",
   "execution_count": null,
   "metadata": {},
   "outputs": [],
   "source": [
    "# FUNDAMENTAL RATIO\n",
    "contract = Stock('DIS', 'SMART', 'USD')\n",
    "ticker = ib.reqMktData(contract, '258')\n",
    "ib.sleep(2)\n",
    "print(ticker.fundamentalRatios)"
   ]
  },
  {
   "cell_type": "code",
   "execution_count": null,
   "metadata": {},
   "outputs": [],
   "source": [
    "# ORDER BOOK\n",
    "\n",
    "eurusd = Forex('EURUSD')\n",
    "ticker = ib.reqMktDepth(eurusd)\n",
    "while ib.sleep(5):\n",
    "    print(\n",
    "        [d.price for d in ticker.domBids],\n",
    "        [d.price for d in ticker.domAsks])"
   ]
  },
  {
   "cell_type": "code",
   "execution_count": null,
   "metadata": {},
   "outputs": [],
   "source": [
    "util.patchAsyncio()\n",
    "\n",
    "\n",
    "class TkApp:\n",
    "    \"\"\"\n",
    "    Example of integrating with Tkinter.\n",
    "    \"\"\"\n",
    "    def __init__(self):\n",
    "        self.ib = IB().connect()\n",
    "        self.root = tk.Tk()\n",
    "        self.root.protocol('WM_DELETE_WINDOW', self._onDeleteWindow)\n",
    "        self.entry = tk.Entry(self.root, width=50)\n",
    "        self.entry.insert(0, \"Stock('TSLA', 'SMART', 'USD')\")\n",
    "        self.entry.grid()\n",
    "        self.button = tk.Button(\n",
    "            self.root, text='Get details', command=self.onButtonClick)\n",
    "        self.button.grid()\n",
    "        self.text = tk.Text(self.root)\n",
    "        self.text.grid()\n",
    "        self.loop = asyncio.get_event_loop()\n",
    "\n",
    "    def onButtonClick(self):\n",
    "        contract = eval(self.entry.get())\n",
    "        cds = self.ib.reqContractDetails(contract)\n",
    "        self.text.delete(1.0, tk.END)\n",
    "        self.text.insert(tk.END, str(cds))\n",
    "\n",
    "    def run(self):\n",
    "        self._onTimeout()\n",
    "        self.loop.run_forever()\n",
    "\n",
    "    def _onTimeout(self):\n",
    "        self.root.update()\n",
    "        self.loop.call_later(0.03, self._onTimeout)\n",
    "\n",
    "    def _onDeleteWindow(self):\n",
    "        self.loop.stop()\n",
    "\n",
    "\n",
    "app = TkApp()\n",
    "app.run()"
   ]
  },
  {
   "cell_type": "code",
   "execution_count": null,
   "metadata": {},
   "outputs": [],
   "source": [
    "# NEWS ARTICLES\n",
    "newsProviders = ib.reqNewsProviders()\n",
    "print(newsProviders)\n",
    "codes = '+'.join(np.code for np in newsProviders)\n",
    "\n",
    "amd = Stock('AMD', 'SMART', 'USD')\n",
    "ib.qualifyContracts(amd)\n",
    "headlines = ib.reqHistoricalNews(amd.conId, codes, '', '', 10)\n",
    "if headlines != [] :\n",
    "    latest = headlines[0]\n",
    "    print(latest)\n",
    "    article = ib.reqNewsArticle(latest.providerCode, latest.articleId)\n",
    "    print(article)\n",
    "else:\n",
    "    print('Empty Headlines')"
   ]
  },
  {
   "cell_type": "code",
   "execution_count": null,
   "metadata": {},
   "outputs": [],
   "source": [
    "# NEW BULETIN\n",
    "ib.reqNewsBulletins(True)\n",
    "ib.sleep(5)\n",
    "print(ib.newsBulletins())"
   ]
  },
  {
   "cell_type": "code",
   "execution_count": null,
   "metadata": {},
   "outputs": [],
   "source": []
  },
  {
   "cell_type": "code",
   "execution_count": null,
   "metadata": {},
   "outputs": [],
   "source": []
  },
  {
   "cell_type": "code",
   "execution_count": null,
   "metadata": {},
   "outputs": [],
   "source": [
    "from ibapi.client import EClient\n",
    "from ibapi.wrapper import EWrapper\n",
    "from ibapi.contract import Contract\n",
    "from ibapi.order import *\n",
    "from threading import Timer\n",
    "\n",
    "import time\n",
    "\n",
    "\n",
    "class TestApp(EWrapper, EClient):\n",
    "    def __init__(self):\n",
    "        EClient.__init__(self, self)\n",
    "\n",
    "    # These are wrapper functions we overwrite\n",
    "    def error(self, reqID, errorCode, errorString):\n",
    "        print(\"Error: \", reqID, \" \", errorCode, \" \", errorString)\n",
    "\n",
    "    def nextValidId(self, orderId):\n",
    "        self.nextValidOrderId = orderId\n",
    "        self.start()\n",
    "\n",
    "    def nextOrderId(self):\n",
    "        oid = self.nextValidOrderId\n",
    "        self.nextValidOrderId += 1\n",
    "        return oid\n",
    "\n",
    "    def orderStatus(self, orderId, status, filled, remaining, avgFillPrice, permId, parentId, lastFillPrice, clientId,\n",
    "                    whyHeld, mktCapPrice):\n",
    "        print(\"OrderStatus, Id: \", orderId, \", Status: \", status, \", Filled: \", filled, \", Remaining: \", remaining,\n",
    "              \", LastFillPrice: \", lastFillPrice)\n",
    "\n",
    "    def openOrder(self, orderId, contract, order, orderState):\n",
    "        print(\"OpenOrder, Id:\", orderId, contract.symbol, contract.secType, \"@\", contract.exchange, \":\", order.action,\n",
    "              order.orderType, order.totalQuantity,\n",
    "              orderState.status)\n",
    "\n",
    "    def execDetails(self, reqId, contract, execution):\n",
    "        print(\"ExecDetails. \", reqId, contract.symbol, contract.secType, contract.currency, execution.execId,\n",
    "              execution.orderId, execution.shares, execution.lastLiquidity)\n",
    "\n",
    "    def start(self):\n",
    "        ticker1 = str(input(\"Enter ticker >\"))\n",
    "        type = \"BUY\"\n",
    "        quantity = float(input(\"Enter the no of contracts >\"))\n",
    "        entry = float(input(\"Enter the entry level >\"))\n",
    "        target = float(input(\"Enter the profit level >\"))\n",
    "        stop = float(input(\"Enter the stop level> \"))\n",
    "        ticks = float(input(\"Enter the limit for the stop (usually 0.01) >\"))\n",
    "        lmtOffset = float(input(\"Enter the trail ticks >\"))\n",
    "\n",
    "        udowStock = USStock(ticker1)\n",
    "        udowOrderId = self.nextOrderId()\n",
    "        udowOrder = BracketOrder(udowOrderId, type, quantity, entry, target, stop, lmtOffset, ticks)\n",
    "        for o in udowOrder:\n",
    "            self.placeOrder(o.orderId, udowStock, o)\n",
    "            self.nextOrderId()\n",
    "\n",
    "    def stop(self):\n",
    "        self.done = True\n",
    "        print(\"Stopped No Order Entered\")\n",
    "        self.disconnect()\n",
    "\n",
    "\n",
    "# helper functions as per IB Tutorial\n",
    "def BracketOrder(parentOrderId: int, action: str, quantity: float,\n",
    "                 limitPrice: float, takeProfitLimitPrice: float, stopLossPrice: float, stopLossTicks: float, lmtPriceOffset: float):\n",
    "    # This will be our main or \"parent\" order\n",
    "    parent = Order()\n",
    "    parent.orderId = parentOrderId\n",
    "    parent.action = action\n",
    "    parent.orderType = \"LMT\"  # ensures order is closed at the end of day if not executed\n",
    "    # parent.tif = \"GTC\"\n",
    "    parent.totalQuantity = quantity\n",
    "    parent.lmtPrice = limitPrice\n",
    "    # The parent and children orders will need this attribute set to False to prevent accidental executions.\n",
    "    # The LAST CHILD will have it set to True,\n",
    "    parent.transmit = False\n",
    "\n",
    "    takeProfit = Order()\n",
    "    takeProfit.orderId = parent.orderId + 1\n",
    "    takeProfit.action = \"SELL\" if action == \"BUY\" else \"BUY\"\n",
    "    takeProfit.orderType = \"LMT\"\n",
    "    takeProfit.tif = \"GTC\"\n",
    "    takeProfit.totalQuantity = quantity\n",
    "    takeProfit.lmtPrice = takeProfitLimitPrice\n",
    "    takeProfit.parentId = parentOrderId\n",
    "    takeProfit.transmit = False\n",
    "\n",
    "    stopLoss = Order()\n",
    "    stopLoss.orderId = parent.orderId + 2\n",
    "    stopLoss.action = \"SELL\" if action == \"BUY\" else \"BUY\"\n",
    "    stopLoss.orderType = \"TRAIL LIMIT\" # changed from STP to Trail 29th April\n",
    "    stopLoss.tif = \"GTC\"\n",
    "    # Stop trigger price\n",
    "    stopLoss.auxPrice = stopLossTicks\n",
    "    stopLoss.trailStopPrice = stopLossPrice # added 29th April\n",
    "    stopLoss.lmtPriceOffset = lmtPriceOffset\n",
    "    stopLoss.totalQuantity = quantity\n",
    "    stopLoss.parentId = parentOrderId\n",
    "    # In this case, the low side order will be the last child being sent. Therefore, it needs to set this attribute to True\n",
    "    # to activate all its predecessors\n",
    "    stopLoss.transmit = True\n",
    "\n",
    "    print(stopLossTicks)\n",
    "\n",
    "    bracketOrder = [parent, takeProfit, stopLoss]\n",
    "    return bracketOrder\n",
    "\n",
    "\n",
    "# ! [bracket]\n",
    "\n",
    "\n",
    "\n",
    "def USStock(ticker: str):\n",
    "    contract = Contract()\n",
    "    contract.symbol = ticker\n",
    "    contract.secType = \"STK\"\n",
    "    contract.exchange = \"SMART\"\n",
    "    contract.currency = \"USD\"\n",
    "    # contract.primaryExchange = \"NYSE\"\n",
    "    return contract\n",
    "\n",
    "\n",
    "def main():\n",
    "    app = TestApp()\n",
    "    ibAccount = 7497 # 7497 for paper 7496 for trading account\n",
    "    app.connect(\"127.0.0.1\", ibAccount, 6)\n",
    "\n",
    "    time.sleep(1)  # short sleep to allow connection\n",
    "    Timer(60, app.stop).start()\n",
    "\n",
    "    app.run()\n",
    "\n",
    "\n",
    "if __name__ == \"__main__\":\n",
    "    main()"
   ]
  },
  {
   "cell_type": "code",
   "execution_count": null,
   "metadata": {},
   "outputs": [],
   "source": []
  },
  {
   "cell_type": "code",
   "execution_count": null,
   "metadata": {},
   "outputs": [],
   "source": []
  }
 ],
 "metadata": {
  "kernelspec": {
   "display_name": "Python 3",
   "language": "python",
   "name": "python3"
  },
  "language_info": {
   "codemirror_mode": {
    "name": "ipython",
    "version": 3
   },
   "file_extension": ".py",
   "mimetype": "text/x-python",
   "name": "python",
   "nbconvert_exporter": "python",
   "pygments_lexer": "ipython3",
   "version": "3.6.8"
  }
 },
 "nbformat": 4,
 "nbformat_minor": 4
}
