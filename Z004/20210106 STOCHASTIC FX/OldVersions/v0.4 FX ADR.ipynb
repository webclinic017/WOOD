{
 "metadata": {
  "language_info": {
   "codemirror_mode": {
    "name": "ipython",
    "version": 3
   },
   "file_extension": ".py",
   "mimetype": "text/x-python",
   "name": "python",
   "nbconvert_exporter": "python",
   "pygments_lexer": "ipython3",
   "version": "3.8.5-final"
  },
  "orig_nbformat": 2,
  "kernelspec": {
   "name": "python3",
   "display_name": "Python 3.8.5 64-bit ('DataSciences': conda)",
   "metadata": {
    "interpreter": {
     "hash": "7f9c69b77f8cb78a9d8b8acc2d09c3972908e6673afd8bfd04ee2f6acaaac495"
    }
   }
  }
 },
 "nbformat": 4,
 "nbformat_minor": 2,
 "cells": [
  {
   "cell_type": "code",
   "execution_count": 2,
   "metadata": {},
   "outputs": [
    {
     "output_type": "stream",
     "name": "stdout",
     "text": [
      "Importing Librairies...\n"
     ]
    }
   ],
   "source": [
    "import time\n",
    "import sys\n",
    "sys.path.append('../')\n",
    "import librairies.dagfeaturingfx \n",
    "from  librairies.dagfeaturingfx import *\n",
    "from matplotlib import pyplot as plt\n",
    "import seaborn as sns\n",
    "from tqdm import tqdm\n",
    "import joblib\n",
    "from joblib import Parallel,delayed\n",
    "import pyttsx3\n",
    "from sklearn.preprocessing import MinMaxScaler\n",
    "from librairies.bt import *\n",
    "scaler = MinMaxScaler(feature_range=(0, 1))\n",
    "engine = pyttsx3.init()\n",
    "engine.say(\"Librairies loaded\")\n",
    "engine.runAndWait()"
   ]
  },
  {
   "source": [
    "###### RELOAD LIBRAIRIE #####\n",
    "from importlib import reload\n",
    "sys.path.append('../')\n",
    "librairies.dagfeaturingfx= reload(librairies.dagfeaturingfx)\n",
    "from  librairies.dagfeaturingfx import *"
   ],
   "cell_type": "code",
   "metadata": {},
   "execution_count": 3,
   "outputs": []
  },
  {
   "cell_type": "code",
   "execution_count": 4,
   "metadata": {},
   "outputs": [],
   "source": [
    "####### CHOIX DE LA TIME FRAME\n",
    "_period = 'm15'"
   ]
  },
  {
   "cell_type": "code",
   "execution_count": 5,
   "metadata": {},
   "outputs": [
    {
     "output_type": "stream",
     "name": "stdout",
     "text": [
      "\u001b[34m\nRécupération des tickers\u001b[0m\nCPU times: user 1.03 ms, sys: 1.16 ms, total: 2.2 ms\nWall time: 1.26 ms\n"
     ]
    }
   ],
   "source": [
    "%%time\n",
    "##### Récupération de la liste des tickers à partir du répertoire où sont rangées les bases\n",
    "TICKER_LIST = get_ticker_list()\n"
   ]
  },
  {
   "cell_type": "code",
   "execution_count": 4,
   "metadata": {},
   "outputs": [
    {
     "output_type": "error",
     "ename": "KeyboardInterrupt",
     "evalue": "",
     "traceback": [
      "\u001b[0;31m---------------------------------------------------------------------------\u001b[0m",
      "\u001b[0;31mKeyboardInterrupt\u001b[0m                         Traceback (most recent call last)",
      "\u001b[0;32m<timed exec>\u001b[0m in \u001b[0;36m<module>\u001b[0;34m\u001b[0m\n",
      "\u001b[0;32m~/.local/lib/python3.8/site-packages/pyttsx3/engine.py\u001b[0m in \u001b[0;36mrunAndWait\u001b[0;34m(self)\u001b[0m\n\u001b[1;32m    178\u001b[0m         \u001b[0mself\u001b[0m\u001b[0;34m.\u001b[0m\u001b[0m_inLoop\u001b[0m \u001b[0;34m=\u001b[0m \u001b[0;32mTrue\u001b[0m\u001b[0;34m\u001b[0m\u001b[0;34m\u001b[0m\u001b[0m\n\u001b[1;32m    179\u001b[0m         \u001b[0mself\u001b[0m\u001b[0;34m.\u001b[0m\u001b[0m_driverLoop\u001b[0m \u001b[0;34m=\u001b[0m \u001b[0;32mTrue\u001b[0m\u001b[0;34m\u001b[0m\u001b[0;34m\u001b[0m\u001b[0m\n\u001b[0;32m--> 180\u001b[0;31m         \u001b[0mself\u001b[0m\u001b[0;34m.\u001b[0m\u001b[0mproxy\u001b[0m\u001b[0;34m.\u001b[0m\u001b[0mrunAndWait\u001b[0m\u001b[0;34m(\u001b[0m\u001b[0;34m)\u001b[0m\u001b[0;34m\u001b[0m\u001b[0;34m\u001b[0m\u001b[0m\n\u001b[0m\u001b[1;32m    181\u001b[0m \u001b[0;34m\u001b[0m\u001b[0m\n\u001b[1;32m    182\u001b[0m     \u001b[0;32mdef\u001b[0m \u001b[0mstartLoop\u001b[0m\u001b[0;34m(\u001b[0m\u001b[0mself\u001b[0m\u001b[0;34m,\u001b[0m \u001b[0museDriverLoop\u001b[0m\u001b[0;34m=\u001b[0m\u001b[0;32mTrue\u001b[0m\u001b[0;34m)\u001b[0m\u001b[0;34m:\u001b[0m\u001b[0;34m\u001b[0m\u001b[0;34m\u001b[0m\u001b[0m\n",
      "\u001b[0;32m~/.local/lib/python3.8/site-packages/pyttsx3/driver.py\u001b[0m in \u001b[0;36mrunAndWait\u001b[0;34m(self)\u001b[0m\n\u001b[1;32m    190\u001b[0m         '''\n\u001b[1;32m    191\u001b[0m         \u001b[0mself\u001b[0m\u001b[0;34m.\u001b[0m\u001b[0m_push\u001b[0m\u001b[0;34m(\u001b[0m\u001b[0mself\u001b[0m\u001b[0;34m.\u001b[0m\u001b[0m_engine\u001b[0m\u001b[0;34m.\u001b[0m\u001b[0mendLoop\u001b[0m\u001b[0;34m,\u001b[0m \u001b[0mtuple\u001b[0m\u001b[0;34m(\u001b[0m\u001b[0;34m)\u001b[0m\u001b[0;34m)\u001b[0m\u001b[0;34m\u001b[0m\u001b[0;34m\u001b[0m\u001b[0m\n\u001b[0;32m--> 192\u001b[0;31m         \u001b[0mself\u001b[0m\u001b[0;34m.\u001b[0m\u001b[0m_driver\u001b[0m\u001b[0;34m.\u001b[0m\u001b[0mstartLoop\u001b[0m\u001b[0;34m(\u001b[0m\u001b[0;34m)\u001b[0m\u001b[0;34m\u001b[0m\u001b[0;34m\u001b[0m\u001b[0m\n\u001b[0m\u001b[1;32m    193\u001b[0m \u001b[0;34m\u001b[0m\u001b[0m\n\u001b[1;32m    194\u001b[0m     \u001b[0;32mdef\u001b[0m \u001b[0mstartLoop\u001b[0m\u001b[0;34m(\u001b[0m\u001b[0mself\u001b[0m\u001b[0;34m,\u001b[0m \u001b[0museDriverLoop\u001b[0m\u001b[0;34m)\u001b[0m\u001b[0;34m:\u001b[0m\u001b[0;34m\u001b[0m\u001b[0;34m\u001b[0m\u001b[0m\n",
      "\u001b[0;32m~/.local/lib/python3.8/site-packages/pyttsx3/drivers/nsss.py\u001b[0m in \u001b[0;36mstartLoop\u001b[0;34m(self)\u001b[0m\n\u001b[1;32m     33\u001b[0m         NSTimer.scheduledTimerWithTimeInterval_target_selector_userInfo_repeats_(\n\u001b[1;32m     34\u001b[0m             0.0, self, 'onPumpFirst:', None, False)\n\u001b[0;32m---> 35\u001b[0;31m         \u001b[0mAppHelper\u001b[0m\u001b[0;34m.\u001b[0m\u001b[0mrunConsoleEventLoop\u001b[0m\u001b[0;34m(\u001b[0m\u001b[0;34m)\u001b[0m\u001b[0;34m\u001b[0m\u001b[0;34m\u001b[0m\u001b[0m\n\u001b[0m\u001b[1;32m     36\u001b[0m \u001b[0;34m\u001b[0m\u001b[0m\n\u001b[1;32m     37\u001b[0m     \u001b[0;32mdef\u001b[0m \u001b[0mendLoop\u001b[0m\u001b[0;34m(\u001b[0m\u001b[0mself\u001b[0m\u001b[0;34m)\u001b[0m\u001b[0;34m:\u001b[0m\u001b[0;34m\u001b[0m\u001b[0;34m\u001b[0m\u001b[0m\n",
      "\u001b[0;32m~/.local/lib/python3.8/site-packages/PyObjCTools/AppHelper.py\u001b[0m in \u001b[0;36mrunConsoleEventLoop\u001b[0;34m(argv, installInterrupt, mode, maxTimeout)\u001b[0m\n\u001b[1;32m    261\u001b[0m             \u001b[0;32mif\u001b[0m \u001b[0mnextfire\u001b[0m \u001b[0;32mis\u001b[0m \u001b[0;32mnot\u001b[0m \u001b[0;32mNone\u001b[0m\u001b[0;34m:\u001b[0m\u001b[0;34m\u001b[0m\u001b[0;34m\u001b[0m\u001b[0m\n\u001b[1;32m    262\u001b[0m                 \u001b[0mnextfire\u001b[0m \u001b[0;34m=\u001b[0m \u001b[0msoon\u001b[0m\u001b[0;34m.\u001b[0m\u001b[0mearlierDate_\u001b[0m\u001b[0;34m(\u001b[0m\u001b[0mnextfire\u001b[0m\u001b[0;34m)\u001b[0m\u001b[0;34m\u001b[0m\u001b[0;34m\u001b[0m\u001b[0m\n\u001b[0;32m--> 263\u001b[0;31m             \u001b[0;32mif\u001b[0m \u001b[0;32mnot\u001b[0m \u001b[0mrunLoop\u001b[0m\u001b[0;34m.\u001b[0m\u001b[0mrunMode_beforeDate_\u001b[0m\u001b[0;34m(\u001b[0m\u001b[0mmode\u001b[0m\u001b[0;34m,\u001b[0m \u001b[0mnextfire\u001b[0m\u001b[0;34m)\u001b[0m\u001b[0;34m:\u001b[0m\u001b[0;34m\u001b[0m\u001b[0;34m\u001b[0m\u001b[0m\n\u001b[0m\u001b[1;32m    264\u001b[0m                 \u001b[0mstopper\u001b[0m\u001b[0;34m.\u001b[0m\u001b[0mstop\u001b[0m\u001b[0;34m(\u001b[0m\u001b[0;34m)\u001b[0m\u001b[0;34m\u001b[0m\u001b[0;34m\u001b[0m\u001b[0m\n\u001b[1;32m    265\u001b[0m \u001b[0;34m\u001b[0m\u001b[0m\n",
      "\u001b[0;32m~/.local/lib/python3.8/site-packages/pyttsx3/drivers/nsss.py\u001b[0m in \u001b[0;36mspeechSynthesizer_willSpeakWord_ofString_\u001b[0;34m(self, tts, rng, text)\u001b[0m\n\u001b[1;32m    107\u001b[0m         \u001b[0mself\u001b[0m\u001b[0;34m.\u001b[0m\u001b[0m_proxy\u001b[0m\u001b[0;34m.\u001b[0m\u001b[0msetBusy\u001b[0m\u001b[0;34m(\u001b[0m\u001b[0;32mFalse\u001b[0m\u001b[0;34m)\u001b[0m\u001b[0;34m\u001b[0m\u001b[0;34m\u001b[0m\u001b[0m\n\u001b[1;32m    108\u001b[0m \u001b[0;34m\u001b[0m\u001b[0m\n\u001b[0;32m--> 109\u001b[0;31m     \u001b[0;32mdef\u001b[0m \u001b[0mspeechSynthesizer_willSpeakWord_ofString_\u001b[0m\u001b[0;34m(\u001b[0m\u001b[0mself\u001b[0m\u001b[0;34m,\u001b[0m \u001b[0mtts\u001b[0m\u001b[0;34m,\u001b[0m \u001b[0mrng\u001b[0m\u001b[0;34m,\u001b[0m \u001b[0mtext\u001b[0m\u001b[0;34m)\u001b[0m\u001b[0;34m:\u001b[0m\u001b[0;34m\u001b[0m\u001b[0;34m\u001b[0m\u001b[0m\n\u001b[0m\u001b[1;32m    110\u001b[0m         self._proxy.notify('started-word', location=rng.location,\n\u001b[1;32m    111\u001b[0m                            length=rng.length)\n",
      "\u001b[0;31mKeyboardInterrupt\u001b[0m: "
     ]
    }
   ],
   "source": [
    "%%time\n",
    "engine.say(\"Processing featuring of dataframes, weekly, daily and intra-day\")\n",
    "engine.runAndWait()\n",
    "##### Récupération des data pour tous les tickers sur la période demandée en intraday => df_all\n",
    "df_all = get_all_data(TICKER_LIST,_period=_period)\n",
    "engine.say(\"The job is done\")\n",
    "engine.runAndWait()"
   ]
  },
  {
   "cell_type": "code",
   "execution_count": 4,
   "metadata": {},
   "outputs": [
    {
     "output_type": "stream",
     "name": "stdout",
     "text": [
      "\n",
      "Ajout Date\n",
      "100%|██████████| 42/42 [00:00<00:00, 141041.45it/s]\u001b[33m\n",
      "Récupération des data intraday\u001b[0m\n",
      "\n",
      "\n",
      "Ajout Date\n",
      "100%|██████████| 42/42 [00:00<00:00, 129339.77it/s]\u001b[32m\n",
      "Récupération des data daily\u001b[0m\n",
      "\n",
      "CPU times: user 1min 40s, sys: 3.74 s, total: 1min 44s\n",
      "Wall time: 2min 21s\n"
     ]
    }
   ],
   "source": [
    "%%time\n",
    "##### Si la période demandée est déjà H1, on peut construire directement la base daily pour tous les tickers => daily_all\n",
    "if _period == 'H1':\n",
    "    df_all = timerange1D(df_all)\n",
    "    daily_all = get_daily(df_all,TICKER_LIST)\n",
    "\n",
    "##### Si la période n'est pas H1, on récupère d'abord les data en 1H pour tous les tickers, et on construit la base daily à partir du 1H => daily_all\n",
    "else:\n",
    "    df_all = timerange1D(df_all)\n",
    "    hourly_all = get_all_data(TICKER_LIST,_period='H1')\n",
    "    hourly_all = timerange1D(hourly_all)\n",
    "    daily_all = get_daily(hourly_all,TICKER_LIST)\n",
    "    del hourly_all\n",
    "engine.say(\"The job is done\")\n",
    "engine.runAndWait()"
   ]
  },
  {
   "cell_type": "code",
   "execution_count": 5,
   "metadata": {},
   "outputs": [
    {
     "output_type": "stream",
     "name": "stdout",
     "text": [
      "\n",
      "Ajout colonne 'Date dans le weekly\n",
      "100%|██████████| 42/42 [00:00<00:00, 227011.30it/s]\u001b[34m\n",
      "Récupération des tickers weekly\u001b[0m\n",
      "\n",
      "CPU times: user 4.93 s, sys: 462 ms, total: 5.39 s\n",
      "Wall time: 10.3 s\n"
     ]
    }
   ],
   "source": [
    "%%time\n",
    "##### A partir de la base daily_all on construit la base weekly pour tous les tickers => weekly_all\n",
    "daily_all = timerange1W(daily_all)\n",
    "weekly_all = get_weekly(daily_all,TICKER_LIST)\n",
    "engine.say(\"The job is done\")\n",
    "engine.runAndWait()"
   ]
  },
  {
   "cell_type": "code",
   "execution_count": 6,
   "metadata": {},
   "outputs": [
    {
     "output_type": "stream",
     "name": "stderr",
     "text": [
      " 14%|█▍        | 6/42 [00:00<00:00, 52.72it/s]\u001b[35m\n",
      "Calcul du ADR\u001b[0m\n",
      "100%|██████████| 42/42 [00:01<00:00, 40.11it/s]\n",
      "CPU times: user 1.03 s, sys: 53.7 ms, total: 1.08 s\n",
      "Wall time: 4.07 s\n"
     ]
    }
   ],
   "source": [
    "%%time\n",
    "##### On calcule l'ADR sur le daily\n",
    "daily_all = adr(daily_all,_window=14)\n",
    "engine.say(\"The job is done\")\n",
    "engine.runAndWait()"
   ]
  },
  {
   "cell_type": "code",
   "execution_count": 7,
   "metadata": {},
   "outputs": [
    {
     "output_type": "stream",
     "name": "stderr",
     "text": [
      "100%|██████████| 42/42 [00:00<00:00, 137303.79it/s]\n",
      "Récupération de l'ADR en cours...\n",
      "\n",
      "CPU times: user 2min 32s, sys: 17.2 s, total: 2min 49s\n",
      "Wall time: 4min 39s\n"
     ]
    }
   ],
   "source": [
    "%%time\n",
    "##### On récupère l'ADR qui a été calculé en daily (daily_all) pour le mettre dans la base intraday df_all\n",
    "df_all = getadr(daily_all,df_all,TICKER_LIST)"
   ]
  },
  {
   "cell_type": "code",
   "execution_count": 8,
   "metadata": {},
   "outputs": [
    {
     "output_type": "stream",
     "name": "stdout",
     "text": [
      "\u001b[36m\n",
      "Calcul du ADR High & Low\u001b[0m\n",
      "En cours...\n",
      "100%|██████████| 42/42 [00:00<00:00, 147909.96it/s]\n",
      "CPU times: user 30.5 s, sys: 22.4 s, total: 52.9 s\n",
      "Wall time: 2min 53s\n"
     ]
    }
   ],
   "source": [
    "%%time\n",
    "##### On calcule l'ADR High & Low dans notre base intraday df_all\n",
    "df_all = adrhnl(daily_all,df_all,TICKER_LIST)"
   ]
  },
  {
   "cell_type": "code",
   "execution_count": 9,
   "metadata": {},
   "outputs": [
    {
     "output_type": "stream",
     "name": "stdout",
     "text": [
      "\u001b[35m\n",
      "Calcul SMA\u001b[0m\n",
      "CPU times: user 3.75 s, sys: 668 ms, total: 4.42 s\n",
      "Wall time: 4.42 s\n"
     ]
    }
   ],
   "source": [
    "%%time\n",
    "##### Calcul d'une SMA 200 sur df_all\n",
    "df_all = sma(df_all=df_all,_window=200)"
   ]
  },
  {
   "cell_type": "code",
   "execution_count": 10,
   "metadata": {},
   "outputs": [
    {
     "output_type": "stream",
     "name": "stdout",
     "text": [
      "\u001b[35m\n",
      "Calcul BOLLINGER\u001b[0m\n",
      "CPU times: user 8.76 s, sys: 2.43 s, total: 11.2 s\n",
      "Wall time: 10.9 s\n"
     ]
    }
   ],
   "source": [
    "%%time\n",
    "##### Calcul des bollinger sur df_all\n",
    "df_all = bollinger(df_all,_slow=20)"
   ]
  },
  {
   "cell_type": "code",
   "execution_count": 11,
   "metadata": {},
   "outputs": [
    {
     "output_type": "stream",
     "name": "stderr",
     "text": [
      "100%|██████████| 42/42 [00:00<00:00, 106634.85it/s]\u001b[32m\n",
      "Calcul du Slow STOCHASTIC\u001b[0m\n",
      "\u001b[34mFenêtre de Glissement : \u001b[33m5 periodes.\u001b[0m\n",
      "\u001b[34mPériode de lissage : \u001b[33m3 periodes.\u001b[0m\n",
      "\n",
      "CPU times: user 22.9 s, sys: 18.4 s, total: 41.3 s\n",
      "Wall time: 41.9 s\n"
     ]
    }
   ],
   "source": [
    "%%time\n",
    "##### Calcul du stochastic slow. Par défaut les paramètres sont 5 et 3.\n",
    "df_all = slowstochastic(df_all,TICKER_LIST)"
   ]
  },
  {
   "cell_type": "code",
   "execution_count": 12,
   "metadata": {},
   "outputs": [
    {
     "output_type": "stream",
     "name": "stderr",
     "text": [
      "100%|██████████| 42/42 [00:00<00:00, 134576.60it/s]\u001b[32m\n",
      "Calcul de l'EMA_21en cours\u001b[0m\n",
      "\n",
      "\u001b[32m\n",
      "Processus de calcul de l'EMA_21terminé\u001b[0m\n",
      "CPU times: user 23.8 s, sys: 21.7 s, total: 45.5 s\n",
      "Wall time: 48.9 s\n"
     ]
    }
   ],
   "source": [
    "%%time\n",
    "df_all = ema(df_all,21,TICKER_LIST)"
   ]
  },
  {
   "cell_type": "code",
   "execution_count": 13,
   "metadata": {},
   "outputs": [
    {
     "output_type": "stream",
     "name": "stderr",
     "text": [
      "100%|██████████| 42/42 [00:00<00:00, 126916.98it/s]\u001b[32m\n",
      "Calcul de l'EMA_8en cours\u001b[0m\n",
      "\n",
      "\u001b[32m\n",
      "Processus de calcul de l'EMA_8terminé\u001b[0m\n",
      "CPU times: user 23.2 s, sys: 25 s, total: 48.2 s\n",
      "Wall time: 51.7 s\n"
     ]
    }
   ],
   "source": [
    "%%time\n",
    "df_all = ema(df_all,8,TICKER_LIST)"
   ]
  },
  {
   "cell_type": "code",
   "execution_count": 14,
   "metadata": {},
   "outputs": [
    {
     "output_type": "stream",
     "name": "stderr",
     "text": [
      "100%|██████████| 42/42 [00:00<00:00, 216679.91it/s]\u001b[35m\n",
      "Calcul des PIVOT, RESISTANCE ET SUPPORT\u001b[0m\n",
      "\n",
      "CPU times: user 287 ms, sys: 283 ms, total: 570 ms\n",
      "Wall time: 589 ms\n"
     ]
    }
   ],
   "source": [
    "%%time\n",
    "weekly_all = pivot(weekly_all,TICKER_LIST)"
   ]
  },
  {
   "source": [
    "%%time\n",
    "df_all = pivotimportdf(df_all,weekly_all,TICKER_LIST)"
   ],
   "cell_type": "code",
   "metadata": {},
   "execution_count": 15,
   "outputs": [
    {
     "output_type": "stream",
     "name": "stderr",
     "text": [
      "100%|██████████| 42/42 [00:00<00:00, 213269.69it/s]\n",
      "CPU times: user 27.3 s, sys: 47.6 s, total: 1min 14s\n",
      "Wall time: 1min 15s\n"
     ]
    }
   ]
  },
  {
   "cell_type": "code",
   "execution_count": 16,
   "metadata": {},
   "outputs": [
    {
     "output_type": "stream",
     "name": "stdout",
     "text": [
      "\u001b[35m\n",
      "Calcul ATR\u001b[0m\n",
      "100%|██████████| 42/42 [00:00<00:00, 210718.62it/s]\n",
      "CPU times: user 36.6 s, sys: 2min 48s, total: 3min 25s\n",
      "Wall time: 9min 56s\n"
     ]
    }
   ],
   "source": [
    "%%time\n",
    "df_all = atr(df_all,TICKER_LIST,14)"
   ]
  },
  {
   "cell_type": "code",
   "execution_count": 17,
   "metadata": {},
   "outputs": [
    {
     "output_type": "stream",
     "name": "stderr",
     "text": [
      "100%|██████████| 42/42 [00:00<00:00, 66879.56it/s]\u001b[35m\n",
      "Calcul du RVI\u001b[0m\n",
      "\n",
      "CPU times: user 27.8 s, sys: 53 s, total: 1min 20s\n",
      "Wall time: 1min 22s\n"
     ]
    }
   ],
   "source": [
    "%%time\n",
    "df_all = rvi(df_all,TICKER_LIST,_window=14)"
   ]
  },
  {
   "cell_type": "code",
   "execution_count": 18,
   "metadata": {},
   "outputs": [
    {
     "output_type": "stream",
     "name": "stderr",
     "text": [
      "100%|██████████| 42/42 [00:00<00:00, 218561.75it/s]\n",
      "CPU times: user 29.4 s, sys: 1min 4s, total: 1min 33s\n",
      "Wall time: 1min 34s\n"
     ]
    }
   ],
   "source": [
    "%%time\n",
    "df_all = sbgamma(df_all,TICKER_LIST)"
   ]
  },
  {
   "cell_type": "code",
   "execution_count": 19,
   "metadata": {},
   "outputs": [
    {
     "output_type": "stream",
     "name": "stderr",
     "text": [
      "100%|██████████| 42/42 [00:00<00:00, 143804.71it/s]\u001b[35m\n",
      "Calcul ONHISMA\u001b[0m\n",
      "On High Simple Moving Average Calculation\n",
      "\n",
      "100%|██████████| 42/42 [00:00<00:00, 143804.71it/s]\u001b[35m\n",
      "Calcul ONLOSMA\u001b[0m\n",
      "On High Simple Moving Average Calculation\n",
      "\n",
      "CPU times: user 58.1 s, sys: 2min 5s, total: 3min 3s\n",
      "Wall time: 3min 5s\n"
     ]
    }
   ],
   "source": [
    "%%time\n",
    "df_all = onhisma(df_all,TICKER_LIST,_window=5)\n",
    "df_all = onlosma(df_all,TICKER_LIST,_window=5)"
   ]
  },
  {
   "cell_type": "code",
   "execution_count": 20,
   "metadata": {},
   "outputs": [
    {
     "output_type": "stream",
     "name": "stderr",
     "text": [
      "100%|██████████| 42/42 [00:00<00:00, 144394.07it/s]\u001b[35m\n",
      "Calcul ONHISMA\u001b[0m\n",
      "On High Simple Moving Average Calculation\n",
      "\n",
      "100%|██████████| 42/42 [00:00<00:00, 159133.49it/s]\u001b[35m\n",
      "Calcul ONLOSMA\u001b[0m\n",
      "On High Simple Moving Average Calculation\n",
      "\n",
      "CPU times: user 59.8 s, sys: 2min 12s, total: 3min 11s\n",
      "Wall time: 3min 12s\n"
     ]
    }
   ],
   "source": [
    "%%time\n",
    "df_all = onhisma(df_all,TICKER_LIST,_window=21)\n",
    "df_all = onlosma(df_all,TICKER_LIST,_window=21)"
   ]
  },
  {
   "cell_type": "code",
   "execution_count": 21,
   "metadata": {},
   "outputs": [
    {
     "output_type": "stream",
     "name": "stderr",
     "text": [
      "100%|██████████| 42/42 [00:00<00:00, 137303.79it/s]\u001b[35m\n",
      "Calcul ONHISMA\u001b[0m\n",
      "On High Simple Moving Average Calculation\n",
      "\n",
      "100%|██████████| 42/42 [00:00<00:00, 151081.28it/s]\u001b[35m\n",
      "Calcul ONLOSMA\u001b[0m\n",
      "On High Simple Moving Average Calculation\n",
      "\n",
      "CPU times: user 1min 1s, sys: 2min 30s, total: 3min 32s\n",
      "Wall time: 3min 33s\n"
     ]
    }
   ],
   "source": [
    "%%time\n",
    "df_all = onhisma(df_all,TICKER_LIST,_window=34)\n",
    "df_all = onlosma(df_all,TICKER_LIST,_window=34)"
   ]
  },
  {
   "cell_type": "code",
   "execution_count": 22,
   "metadata": {},
   "outputs": [
    {
     "output_type": "stream",
     "name": "stderr",
     "text": [
      "100%|██████████| 42/42 [00:00<00:00, 114464.44it/s]Récupération des OHLC en cours...\n",
      "\n",
      "CPU times: user 33.4 s, sys: 1min 11s, total: 1min 44s\n",
      "Wall time: 1min 45s\n"
     ]
    }
   ],
   "source": [
    "%%time\n",
    "df_all = importohlc(df_all,weekly_all,TICKER_LIST,_suffix='_weekly')"
   ]
  },
  {
   "cell_type": "code",
   "execution_count": 23,
   "metadata": {},
   "outputs": [
    {
     "output_type": "stream",
     "name": "stderr",
     "text": [
      "100%|██████████| 42/42 [00:00<00:00, 92765.02it/s]Récupération des OHLC en cours...\n",
      "\n",
      "CPU times: user 33.8 s, sys: 1min 32s, total: 2min 6s\n",
      "Wall time: 2min 7s\n"
     ]
    }
   ],
   "source": [
    "%%time\n",
    "df_all = importohlc(df_all=df_all,other_all=daily_all,TICKER_LIST=TICKER_LIST,_suffix='_daily')"
   ]
  },
  {
   "cell_type": "code",
   "execution_count": 377,
   "metadata": {},
   "outputs": [
    {
     "output_type": "stream",
     "name": "stdout",
     "text": [
      "CPU times: user 949 ms, sys: 124 ms, total: 1.07 s\nWall time: 324 ms\n"
     ]
    }
   ],
   "source": [
    "%%time\n",
    "##### CONDITIONS LONG\n",
    "_condition_1 = df_all.Low < df_all.ADR_Low # adrlo\n",
    "_condition_2 = df_all.Close >=df_all.ADR_Low # close adrlo\n",
    "_condition_4 = df_all.Close < df_all.LowerBand\n",
    "_condition_5 = df_all.slow_D5 < 20\n",
    "_condition_6 = df_all.slow_K5 > df_all.slow_D5\n",
    "_condition_7 = (df_all.slow_K5 < 20) & (df_all.slow_K5.shift(1) < df_all.slow_D5.shift(1)) & (df_all.slow_K5 > df_all.slow_D5)\n",
    "\n",
    "##### CONDITIONS SHORT\n",
    "_condition_1_bar = df_all.High > df_all.ADR_High # adrhi\n",
    "_condition_2_bar = df_all.Close < df_all.ADR_High # close adrhi\n",
    "_condition_4_bar = df_all.Close < df_all.UpperBand\n",
    "_condition_5_bar = df_all.slow_D5 > 80\n",
    "_condition_6_bar = df_all.slow_K5 < df_all.slow_D5\n",
    "_condition_7_bar = (df_all.slow_K5 > 80) & (df_all.slow_K5.shift(1) > df_all.slow_D5.shift(1)) & (df_all.slow_K5 < df_all.slow_D5)\n",
    "\n",
    "##### 1 condition\n",
    "df_all['Signal'] = np.where(_condition_7,1,np.where(_condition_7_bar,-1,0))\n",
    "\n",
    "##### 1 condition en OU\n",
    "#df_all['Signal'] = np.where(_condition_5|_condition_7,1,np.where(_condition_5_hat|_condition_7_hat,-1,0))\n",
    "\n",
    "\n",
    "##### 2 conditions\n",
    "#df_all['Signal'] = np.where(((_condition_1)&(_condition_7)),1,np.where(((_condition_1_hat)&(_condition_7_hat)),-1,0))\n",
    "\n",
    "\n",
    "##### 2 conditions en OU\n",
    "#df_all['Signal'] = np.where((((_condition_5)&(_condition_7))|((_condition_)&(_condition_6))),1,np.where((((_condition_1_hat)&(_condition_5_hat))|((_condition_1_hat)&(_condition_6_hat))),-1,0))\n",
    "\n",
    "\n",
    "##### 2 conditions\n",
    "#df_all['Signal'] = np.where(((_condition_1)&(_condition_2)&(_condition_3)),1,np.where(((_condition_1_hat)&(_condition_2_hat)&(_condition_3_hat)),-1,0))\n",
    "\n",
    "\n",
    "##### 2 conditions\n",
    "#df_all['Signal'] = np.where(((_condition_1)&(_condition_2)&(_condition_3)&(_condition_4)),1,np.where(((_condition_1_hat)&(_condition_2_hat)&(_condition_3_hat)&(_condition_4_hat)),-1,0))"
   ]
  },
  {
   "cell_type": "code",
   "execution_count": 378,
   "metadata": {},
   "outputs": [],
   "source": [
    "##### On backtest selon le ticker selectionné sur la période déterminée\n",
    "\n",
    "x='EUR/USD'\n",
    "_year_bottom = '2010-01-01'\n",
    "_year_top = '2020-12-31'\n",
    "_nb_bougie_exit = 96\n",
    "_trigger_reengage = 0\n",
    "_trigger_target = 1\n",
    "_trigger_invers = 1\n",
    "_trigger_sl = 0\n",
    "_verbose = 0\n",
    "_cash_ini = 200000\n",
    "_rate = 1\n",
    "hourly = df_all[df_all.Symbol == x.replace('/','')]\n",
    "_target = 0.002\n",
    "_exposure = 10\n",
    "_size = 50000\n",
    "_sl = 0.003\n",
    "_open_hour = 8 # day only\n",
    "_close_hour = 23 # day only\n",
    "_window = 0 # day only\n"
   ]
  },
  {
   "cell_type": "code",
   "execution_count": 379,
   "metadata": {},
   "outputs": [
    {
     "output_type": "stream",
     "name": "stdout",
     "text": [
      "Librairies imported\n",
      "\n",
      "Début des opérations horodatée à 2021-01-26 12:37:22.052574\n",
      "\n",
      "Chargement de la nouvelle base\n",
      "\n",
      "\n",
      "\u001b[35m Le rate du ticker EUR/USD est à  1 \u001b[0m\n",
      "Bases chargées\n",
      "TETEL process effectué\n",
      "\u001b[36m ENTERING THE BACKTEST \u001b[0m\n",
      "100%|██████████| 265522/265522 [00:13<00:00, 20335.25it/s]\n",
      "\u001b[34m Pour le ticker \u001b[33m EUR/USD \u001b[0m\n",
      "\u001b[35m \n",
      "Les gains faramineux s'élèvent à : $ \u001b[31m -53841.5 !. En  3250 \u001b[0m  transactions.\n",
      "\u001b[32m \n",
      "Nbre de winners : 2009 \u001b[0m\n",
      "\u001b[31m \n",
      "Nbre de loosers : 1241 \u001b[0m\n",
      "Temps d'excution du BT 0:00:19.585933\n",
      "\u001b[33m EUR/USD \u001b[34m results \u001b[0m\n",
      "\u001b[35m Tested Period 2010-01-01  à 2020-12-31 \u001b[0m\n",
      "\u001b[36m Total Number of trades 3250 \u001b[0m\n",
      "Started Cash : 50000\n",
      "P&L in currency: \u001b[31m -53841.5$ \u001b[0m\n",
      "P&L in %: \u001b[31m -26.92% \u001b[0m\n",
      "Average trade duration 46.16\n",
      "# Winners  2009.0\n",
      "# Loosers  1241.0\n",
      "Cumulated gains 233564.0\n",
      "Cumulated losses -287405.5\n",
      "\u001b[34m PROFIT FACTOR :  0.81 \u001b[0m\n",
      "\u001b[36m Winners Ratio : 61.82 % \u001b[0m\n",
      "Average Winners 116.43\n",
      "% Average Winners 0.06\n",
      "Average Loosers -231.59\n",
      "% Average Loosers -0.12\n",
      "Average pnl -16.57\n",
      "% Average pnl -0.02\n",
      "Number of opened trades 3250\n",
      "Number of closed trades 3250\n",
      "Max Exposure 1 x  50000 =  50000 $\n",
      "CPU times: user 13.6 s, sys: 184 ms, total: 13.8 s\n",
      "Wall time: 23.1 s\n"
     ]
    }
   ],
   "source": [
    "%%time\n",
    "##### Backtest Over Night\n",
    "TRACKER = bt(hourly,_year_bottom,_year_top,_nb_bougie_exit,_trigger_reengage,_trigger_target,_trigger_invers,_trigger_sl,_verbose,_cash_ini,\\\n",
    "        _rate,x,_target,_exposure,_size,_sl)"
   ]
  },
  {
   "cell_type": "code",
   "execution_count": 382,
   "metadata": {},
   "outputs": [
    {
     "output_type": "stream",
     "name": "stdout",
     "text": [
      "CPU times: user 34.4 ms, sys: 3.67 ms, total: 38 ms\nWall time: 36.9 ms\n"
     ]
    },
    {
     "output_type": "execute_result",
     "data": {
      "text/plain": [
       "['JOBLIB/TRACKER']"
      ]
     },
     "metadata": {},
     "execution_count": 382
    }
   ],
   "source": [
    "%%time\n",
    "joblib.dump(TRACKER,'JOBLIB/TRACKER')"
   ]
  },
  {
   "source": [
    "%%time\n",
    "df_all.to_csv('../BASES/Base_all/df_all'+_period+'.csv')\n",
    "daily_all.to_csv('../BASES/Base_all/daily_all.csv')\n",
    "weekly_all.to_csv('../BASES/Base_all/weekly_all.csv')"
   ],
   "cell_type": "markdown",
   "metadata": {}
  },
  {
   "source": [
    "%%time\n",
    "_period = 'm15'\n",
    "df_all = pd.read_csv('../BASES/Base_all/df_all'+_period+'.csv')\n",
    "df_all.Lindex = pd.to_datetime(df_all.Lindex)\n",
    "df_all.set_index('Lindex',drop=True,inplace=True)\n",
    "df_all.index.name = None\n",
    "daily_all = pd.read_csv('../BASES/Base_all/daily_all.csv')\n",
    "daily_all.Lindex = pd.to_datetime(daily_all.Lindex)\n",
    "daily_all.set_index('Lindex',drop=True,inplace=True)\n",
    "daily_all.index.name = None\n",
    "weekly_all = pd.read_csv('../BASES/Base_all/weekly_all.csv')\n",
    "weekly_all.Lindex = pd.to_datetime(weekly_all.Lindex)\n",
    "weekly_all.set_index('Lindex',drop=True,inplace=True)\n",
    "weekly_all.index.name = None"
   ],
   "cell_type": "markdown",
   "metadata": {}
  },
  {
   "cell_type": "code",
   "execution_count": 381,
   "metadata": {},
   "outputs": [],
   "source": [
    "#############################\n",
    "##### F E A T U R I N G #####\n",
    "#############################"
   ]
  },
  {
   "cell_type": "code",
   "execution_count": 343,
   "metadata": {},
   "outputs": [
    {
     "output_type": "error",
     "ename": "NameError",
     "evalue": "name 'daily_all' is not defined",
     "traceback": [
      "\u001b[0;31m---------------------------------------------------------------------------\u001b[0m",
      "\u001b[0;31mNameError\u001b[0m                                 Traceback (most recent call last)",
      "\u001b[0;32m<timed exec>\u001b[0m in \u001b[0;36m<module>\u001b[0;34m\u001b[0m\n",
      "\u001b[0;31mNameError\u001b[0m: name 'daily_all' is not defined"
     ]
    }
   ],
   "source": [
    "%%time\n",
    "joblib.dump(df_all,'JOBLIB/df_all')\n",
    "joblib.dump(daily_all,'JOBLIB/daily_all')\n",
    "joblib.dump(weekly_all,'JOBLIB/weekly_all')"
   ]
  },
  {
   "cell_type": "code",
   "execution_count": 383,
   "metadata": {},
   "outputs": [
    {
     "output_type": "stream",
     "name": "stdout",
     "text": [
      "CPU times: user 3.45 s, sys: 3.94 s, total: 7.39 s\nWall time: 7.4 s\n"
     ]
    }
   ],
   "source": [
    "%%time\n",
    "df_all = joblib.load('JOBLIB/df_all')\n",
    "daily_all = joblib.load('JOBLIB/daily_all')\n",
    "weekly_all = joblib.load('JOBLIB/weekly_all')\n",
    "TRACKER = joblib.load('JOBLIB/TRACKER')"
   ]
  },
  {
   "cell_type": "code",
   "execution_count": 384,
   "metadata": {},
   "outputs": [
    {
     "output_type": "stream",
     "name": "stdout",
     "text": [
      "CPU times: user 336 µs, sys: 202 µs, total: 538 µs\nWall time: 543 µs\n"
     ]
    }
   ],
   "source": [
    "%%time\n",
    "##### On crée une df vierge qui ne reprendras que les features de df_all\n",
    "features = pd.DataFrame(index=df_all.index)"
   ]
  },
  {
   "cell_type": "code",
   "execution_count": 385,
   "metadata": {},
   "outputs": [
    {
     "output_type": "stream",
     "name": "stdout",
     "text": [
      "CPU times: user 4.89 s, sys: 502 ms, total: 5.39 s\nWall time: 1.89 s\n"
     ]
    }
   ],
   "source": [
    "%%time\n",
    "features['Symbol'] = df_all['Symbol']\n",
    "features['Date'] = df_all['Date']\n",
    "features['FEMA_21'] = df_all['Close'] - df_all['EMA_21']\n",
    "features['FEMA_8'] = df_all['Close'] - df_all['EMA_8']\n",
    "features['FADRLo'] = df_all['Close'] - df_all['ADR_Low']\n",
    "features['FADRHi'] = df_all['Close'] - df_all['ADR_High']\n",
    "features['FRVI40'] = df_all['RVI'] - 40\n",
    "features['FRVI60'] = df_all['RVI'] - 60\n",
    "features['FONLOSMA5'] = df_all['Low'] - df_all['ONLOSMA_5']\n",
    "features['FONHISMA5'] = df_all['High'] - df_all['ONHISMA_5']\n",
    "features['FONLOSMA21'] = df_all['Low'] - df_all['ONLOSMA_21']\n",
    "features['FONHISMA21'] = df_all['High'] - df_all['ONHISMA_21']\n",
    "features['FONLOSMA34'] = df_all['Low'] - df_all['ONLOSMA_34']\n",
    "features['FONHISMA34'] = df_all['High'] - df_all['ONHISMA_34']\n",
    "features['FSBGAMMA'] = df_all['SB_Gamma']\n",
    "features['FOPENWEEKLY'] = df_all['Close'] - df_all['Open_weekly']\n",
    "features['FHIGHWEEKLY'] = df_all['Close'] - df_all['High_weekly']\n",
    "features['FLOWWEEKLY'] = df_all['Close'] - df_all['Low_weekly']\n",
    "features['FCLOSEWEEKLY'] = df_all['Close'] - df_all['Close_weekly']\n",
    "features['FOPENDAILY'] = df_all['Close'] - df_all['Open_daily']\n",
    "features['FHIGHDAILY'] = df_all['Close'] - df_all['High_daily']\n",
    "features['FLOWDAILY'] = df_all['Close'] - df_all['Low_daily']\n",
    "features['FCLOSEDAILY'] = df_all['Close'] - df_all['Close_daily']\n",
    "features['FOPENHOURLY'] = df_all['Close'] - df_all['Open_daily']\n",
    "features['FHIGHHOURLY'] = df_all['Close'] - df_all['High_daily']\n",
    "features['FLOWHOURLY'] = df_all['Close'] - df_all['Low_daily']\n",
    "features['FCLOSEHOURLY'] = df_all['Close'] - df_all['Close_daily']\n",
    "features['FSMA200'] = df_all['Close'] - df_all['SMA_200']\n",
    "features['FBOLUP20'] = df_all['Close'] - df_all['UpperBand']\n",
    "features['FBOLLOW20'] = df_all['Close'] - df_all['LowerBand']\n",
    "features['FPP'] = df_all['Close'] - df_all['PP']\n",
    "features['FS38'] = df_all['Close'] - df_all['S38']\n",
    "features['FS62'] = df_all['Close'] - df_all['S62']\n",
    "features['FS100'] = df_all['Close'] - df_all['S100']\n",
    "features['FS138'] = df_all['Close'] - df_all['S138']\n",
    "features['FS162'] = df_all['Close'] - df_all['S162']\n",
    "features['FS200'] = df_all['Close'] - df_all['S200']\n",
    "features['FR38'] = df_all['Close'] - df_all['R38']\n",
    "features['FR62'] = df_all['Close'] - df_all['R62']\n",
    "features['FR100'] = df_all['Close'] - df_all['R100']\n",
    "features['FR138'] = df_all['Close'] - df_all['R138']\n",
    "features['FR162'] = df_all['Close'] - df_all['R162']\n",
    "features['FR200'] = df_all['Close'] - df_all['R200']\n",
    "features['SBATR'] = (df_all['Close'] - df_all['Open']) / df_all['ATR_14']\n",
    "features['Signal'] = df_all['Signal']"
   ]
  },
  {
   "source": [
    "%%time\n",
    "features.to_csv('../BASES/Features/features.csv')"
   ],
   "cell_type": "markdown",
   "metadata": {}
  },
  {
   "source": [
    "%%time\n",
    "features = pd.read_csv('../BASES/Features/features.csv')\n",
    "features.set_index('Lindex',drop=True,inplace=True)\n",
    "features.index.name = None\n",
    "#features = features.drop('Lindex',axis=1)"
   ],
   "cell_type": "markdown",
   "metadata": {}
  },
  {
   "cell_type": "code",
   "execution_count": 386,
   "metadata": {},
   "outputs": [
    {
     "output_type": "stream",
     "name": "stdout",
     "text": [
      "CPU times: user 2.08 s, sys: 2.44 s, total: 4.53 s\nWall time: 4.92 s\n"
     ]
    },
    {
     "output_type": "execute_result",
     "data": {
      "text/plain": [
       "['JOBLIB/features']"
      ]
     },
     "metadata": {},
     "execution_count": 386
    }
   ],
   "source": [
    "%%time\n",
    "joblib.dump(features,'JOBLIB/features')"
   ]
  },
  {
   "cell_type": "code",
   "execution_count": 387,
   "metadata": {},
   "outputs": [
    {
     "output_type": "stream",
     "name": "stdout",
     "text": [
      "CPU times: user 3.1 s, sys: 3.49 s, total: 6.59 s\nWall time: 6.59 s\n"
     ]
    }
   ],
   "source": [
    "%%time\n",
    "features = joblib.load('JOBLIB/features')"
   ]
  },
  {
   "cell_type": "code",
   "execution_count": 388,
   "metadata": {},
   "outputs": [
    {
     "output_type": "stream",
     "name": "stdout",
     "text": [
      "CPU times: user 6.52 s, sys: 4.25 s, total: 10.8 s\nWall time: 10.8 s\n"
     ]
    }
   ],
   "source": [
    "%%time\n",
    "#######################################\n",
    "##### S C A L I N G ###################\n",
    "#######################################\n",
    "features = features.dropna()\n",
    "_ticker = 'EURUSD'\n",
    "features = features[features.Symbol==_ticker]\n",
    "features = features[features.Signal!=0]\n",
    "features['TRACKER'] = np.where(features.index.isin(TRACKER),1,0)"
   ]
  },
  {
   "cell_type": "code",
   "execution_count": 389,
   "metadata": {},
   "outputs": [
    {
     "output_type": "stream",
     "name": "stdout",
     "text": [
      "CPU times: user 6.15 ms, sys: 2.92 ms, total: 9.07 ms\nWall time: 7.66 ms\n"
     ]
    }
   ],
   "source": [
    "%%time\n",
    "##### ON SEPARE EN TRAIN / TEST / OOS\n",
    "# TRAIN = 2010 - 2015\n",
    "# TEST = 2016 - 2018\n",
    "# OOS = 2019 - 2020\n",
    "features_train = features[features.Date<='2015-12-31']\n",
    "features_test = features[(features.Date>'2015-12-31')&(features.Date<='2018-12-31')]\n",
    "features_oos = features[features.Date>'2018-12-31']"
   ]
  },
  {
   "cell_type": "code",
   "execution_count": 390,
   "metadata": {},
   "outputs": [
    {
     "output_type": "stream",
     "name": "stdout",
     "text": [
      "CPU times: user 31.2 ms, sys: 3.33 ms, total: 34.6 ms\nWall time: 33.5 ms\n"
     ]
    }
   ],
   "source": [
    "%%time\n",
    "features_train['FEMA_21'] = scaler.fit_transform(np.nan_to_num(features_train.FEMA_21.astype(np.float32)).reshape(-1, 1))\n",
    "features_train['FEMA_8'] = scaler.fit_transform(np.nan_to_num(features_train.FEMA_8.astype(np.float32)).reshape(-1, 1))\n",
    "features_train['FADRLo'] = scaler.fit_transform(np.nan_to_num(features_train.FADRLo.astype(np.float32)).reshape(-1, 1))\n",
    "features_train['FADRHi'] = scaler.fit_transform(np.nan_to_num(features_train.FADRHi.astype(np.float32)).reshape(-1, 1))\n",
    "features_train['FRVI40'] = scaler.fit_transform(np.nan_to_num(features_train.FRVI40.astype(np.float32)).reshape(-1, 1))\n",
    "features_train['FRVI60'] = scaler.fit_transform(np.nan_to_num(features_train.FRVI60.astype(np.float32)).reshape(-1, 1))\n",
    "features_train['FONLOSMA5'] = scaler.fit_transform(np.nan_to_num(features_train.FONLOSMA5.astype(np.float32)).reshape(-1, 1))\n",
    "features_train['FONHISMA5'] = scaler.fit_transform(np.nan_to_num(features_train.FONHISMA5.astype(np.float32)).reshape(-1, 1))\n",
    "features_train['FONLOSMA21'] = scaler.fit_transform(np.nan_to_num(features_train.FONLOSMA21.astype(np.float32)).reshape(-1, 1))\n",
    "features_train['FONHISMA21'] = scaler.fit_transform(np.nan_to_num(features_train.FONHISMA21.astype(np.float32)).reshape(-1, 1))\n",
    "features_train['FONLOSMA34'] = scaler.fit_transform(np.nan_to_num(features_train.FONLOSMA34.astype(np.float32)).reshape(-1, 1))\n",
    "features_train['FSBGAMMA'] = scaler.fit_transform(np.nan_to_num(features_train.FSBGAMMA.astype(np.float32)).reshape(-1, 1))\n",
    "features_train['FOPENWEEKLY'] = scaler.fit_transform(np.nan_to_num(features_train.FOPENWEEKLY.astype(np.float32)).reshape(-1, 1))\n",
    "features_train['FHIGHWEEKLY'] = scaler.fit_transform(np.nan_to_num(features_train.FHIGHWEEKLY.astype(np.float32)).reshape(-1, 1))\n",
    "features_train['FLOWWEEKLY'] = scaler.fit_transform(np.nan_to_num(features_train.FLOWWEEKLY.astype(np.float32)).reshape(-1, 1))\n",
    "features_train['FCLOSEWEEKLY'] = scaler.fit_transform(np.nan_to_num(features_train.FCLOSEWEEKLY.astype(np.float32)).reshape(-1, 1))\n",
    "features_train['FOPENDAILY'] = scaler.fit_transform(np.nan_to_num(features_train.FOPENDAILY.astype(np.float32)).reshape(-1, 1))\n",
    "features_train['FHIGHDAILY'] = scaler.fit_transform(np.nan_to_num(features_train.FHIGHDAILY.astype(np.float32)).reshape(-1, 1))\n",
    "features_train['FLOWDAILY'] = scaler.fit_transform(np.nan_to_num(features_train.FLOWDAILY.astype(np.float32)).reshape(-1, 1))\n",
    "features_train['FCLOSEDAILY'] = scaler.fit_transform(np.nan_to_num(features_train.FCLOSEDAILY.astype(np.float32)).reshape(-1, 1))\n",
    "features_train['FOPENHOURLY'] = scaler.fit_transform(np.nan_to_num(features_train.FOPENHOURLY.astype(np.float32)).reshape(-1, 1))\n",
    "features_train['FHIGHHOURLY'] = scaler.fit_transform(np.nan_to_num(features_train.FHIGHHOURLY.astype(np.float32)).reshape(-1, 1))\n",
    "features_train['FLOWHOURLY'] = scaler.fit_transform(np.nan_to_num(features_train.FLOWHOURLY.astype(np.float32)).reshape(-1, 1))\n",
    "features_train['FCLOSEHOURLY'] = scaler.fit_transform(np.nan_to_num(features_train.FCLOSEHOURLY.astype(np.float32)).reshape(-1, 1))\n",
    "features_train['FSMA200'] = scaler.fit_transform(np.nan_to_num(features_train.FSMA200.astype(np.float32)).reshape(-1, 1))\n",
    "features_train['FBOLUP20'] = scaler.fit_transform(np.nan_to_num(features_train.FBOLUP20.astype(np.float32)).reshape(-1, 1))\n",
    "features_train['FPP'] = scaler.fit_transform(np.nan_to_num(features_train.FPP.astype(np.float32)).reshape(-1, 1))\n",
    "features_train['FS38'] = scaler.fit_transform(np.nan_to_num(features_train.FS38.astype(np.float32)).reshape(-1, 1))\n",
    "features_train['FS62'] = scaler.fit_transform(np.nan_to_num(features_train.FS62.astype(np.float32)).reshape(-1, 1))\n",
    "features_train['FS100'] = scaler.fit_transform(np.nan_to_num(features_train.FS100.astype(np.float32)).reshape(-1, 1))\n",
    "features_train['FS138'] = scaler.fit_transform(np.nan_to_num(features_train.FS138.astype(np.float32)).reshape(-1, 1))\n",
    "features_train['FR162'] = scaler.fit_transform(np.nan_to_num(features_train.FS162.astype(np.float32)).reshape(-1, 1))\n",
    "features_train['FS200'] = scaler.fit_transform(np.nan_to_num(features_train.FS200.astype(np.float32)).reshape(-1, 1))\n",
    "features_train['FR38'] = scaler.fit_transform(np.nan_to_num(features_train.FR38.astype(np.float32)).reshape(-1, 1))\n",
    "features_train['FR62'] = scaler.fit_transform(np.nan_to_num(features_train.FR62.astype(np.float32)).reshape(-1, 1))\n",
    "features_train['FR100'] = scaler.fit_transform(np.nan_to_num(features_train.FR100.astype(np.float32)).reshape(-1, 1))\n",
    "features_train['FR138'] = scaler.fit_transform(np.nan_to_num(features_train.FR138.astype(np.float32)).reshape(-1, 1))\n",
    "features_train['FR162'] = scaler.fit_transform(np.nan_to_num(features_train.FR162.astype(np.float32)).reshape(-1, 1))\n",
    "features_train['FR200'] = scaler.fit_transform(np.nan_to_num(features_train.FR200.astype(np.float32)).reshape(-1, 1))\n",
    "features_train['SBATR'] = scaler.fit_transform(np.nan_to_num(features_train.SBATR.astype(np.float32)).reshape(-1, 1))\n"
   ]
  },
  {
   "cell_type": "code",
   "execution_count": 391,
   "metadata": {},
   "outputs": [
    {
     "output_type": "stream",
     "name": "stdout",
     "text": [
      "CPU times: user 25.4 ms, sys: 1.74 ms, total: 27.1 ms\nWall time: 26 ms\n"
     ]
    }
   ],
   "source": [
    "%%time\n",
    "features_test['FEMA_21'] = scaler.fit_transform(np.nan_to_num(features_test.FEMA_21.astype(np.float32)).reshape(-1, 1))\n",
    "features_test['FEMA_8'] = scaler.fit_transform(np.nan_to_num(features_test.FEMA_8.astype(np.float32)).reshape(-1, 1))\n",
    "features_test['FADRLo'] = scaler.fit_transform(np.nan_to_num(features_test.FADRLo.astype(np.float32)).reshape(-1, 1))\n",
    "features_test['FADRHi'] = scaler.fit_transform(np.nan_to_num(features_test.FADRHi.astype(np.float32)).reshape(-1, 1))\n",
    "features_test['FRVI40'] = scaler.fit_transform(np.nan_to_num(features_test.FRVI40.astype(np.float32)).reshape(-1, 1))\n",
    "features_test['FRVI60'] = scaler.fit_transform(np.nan_to_num(features_test.FRVI60.astype(np.float32)).reshape(-1, 1))\n",
    "features_test['FONLOSMA5'] = scaler.fit_transform(np.nan_to_num(features_test.FONLOSMA5.astype(np.float32)).reshape(-1, 1))\n",
    "features_test['FONHISMA5'] = scaler.fit_transform(np.nan_to_num(features_test.FONHISMA5.astype(np.float32)).reshape(-1, 1))\n",
    "features_test['FONLOSMA21'] = scaler.fit_transform(np.nan_to_num(features_test.FONLOSMA21.astype(np.float32)).reshape(-1, 1))\n",
    "features_test['FONHISMA21'] = scaler.fit_transform(np.nan_to_num(features_test.FONHISMA21.astype(np.float32)).reshape(-1, 1))\n",
    "features_test['FONLOSMA34'] = scaler.fit_transform(np.nan_to_num(features_test.FONLOSMA34.astype(np.float32)).reshape(-1, 1))\n",
    "features_test['FSBGAMMA'] = scaler.fit_transform(np.nan_to_num(features_test.FSBGAMMA.astype(np.float32)).reshape(-1, 1))\n",
    "features_test['FOPENWEEKLY'] = scaler.fit_transform(np.nan_to_num(features_test.FOPENWEEKLY.astype(np.float32)).reshape(-1, 1))\n",
    "features_test['FHIGHWEEKLY'] = scaler.fit_transform(np.nan_to_num(features_test.FHIGHWEEKLY.astype(np.float32)).reshape(-1, 1))\n",
    "features_test['FLOWWEEKLY'] = scaler.fit_transform(np.nan_to_num(features_test.FLOWWEEKLY.astype(np.float32)).reshape(-1, 1))\n",
    "features_test['FCLOSEWEEKLY'] = scaler.fit_transform(np.nan_to_num(features_test.FCLOSEWEEKLY.astype(np.float32)).reshape(-1, 1))\n",
    "features_test['FOPENDAILY'] = scaler.fit_transform(np.nan_to_num(features_test.FOPENDAILY.astype(np.float32)).reshape(-1, 1))\n",
    "features_test['FHIGHDAILY'] = scaler.fit_transform(np.nan_to_num(features_test.FHIGHDAILY.astype(np.float32)).reshape(-1, 1))\n",
    "features_test['FLOWDAILY'] = scaler.fit_transform(np.nan_to_num(features_test.FLOWDAILY.astype(np.float32)).reshape(-1, 1))\n",
    "features_test['FCLOSEDAILY'] = scaler.fit_transform(np.nan_to_num(features_test.FCLOSEDAILY.astype(np.float32)).reshape(-1, 1))\n",
    "features_test['FOPENHOURLY'] = scaler.fit_transform(np.nan_to_num(features_test.FOPENHOURLY.astype(np.float32)).reshape(-1, 1))\n",
    "features_test['FHIGHHOURLY'] = scaler.fit_transform(np.nan_to_num(features_test.FHIGHHOURLY.astype(np.float32)).reshape(-1, 1))\n",
    "features_test['FLOWHOURLY'] = scaler.fit_transform(np.nan_to_num(features_test.FLOWHOURLY.astype(np.float32)).reshape(-1, 1))\n",
    "features_test['FCLOSEHOURLY'] = scaler.fit_transform(np.nan_to_num(features_test.FCLOSEHOURLY.astype(np.float32)).reshape(-1, 1))\n",
    "features_test['FSMA200'] = scaler.fit_transform(np.nan_to_num(features_test.FSMA200.astype(np.float32)).reshape(-1, 1))\n",
    "features_test['FBOLUP20'] = scaler.fit_transform(np.nan_to_num(features_test.FBOLUP20.astype(np.float32)).reshape(-1, 1))\n",
    "features_test['FPP'] = scaler.fit_transform(np.nan_to_num(features_test.FPP.astype(np.float32)).reshape(-1, 1))\n",
    "features_test['FS38'] = scaler.fit_transform(np.nan_to_num(features_test.FS38.astype(np.float32)).reshape(-1, 1))\n",
    "features_test['FS62'] = scaler.fit_transform(np.nan_to_num(features_test.FS62.astype(np.float32)).reshape(-1, 1))\n",
    "features_test['FS100'] = scaler.fit_transform(np.nan_to_num(features_test.FS100.astype(np.float32)).reshape(-1, 1))\n",
    "features_test['FS138'] = scaler.fit_transform(np.nan_to_num(features_test.FS138.astype(np.float32)).reshape(-1, 1))\n",
    "features_test['FR162'] = scaler.fit_transform(np.nan_to_num(features_test.FS162.astype(np.float32)).reshape(-1, 1))\n",
    "features_test['FS200'] = scaler.fit_transform(np.nan_to_num(features_test.FS200.astype(np.float32)).reshape(-1, 1))\n",
    "features_test['FR38'] = scaler.fit_transform(np.nan_to_num(features_test.FR38.astype(np.float32)).reshape(-1, 1))\n",
    "features_test['FR62'] = scaler.fit_transform(np.nan_to_num(features_test.FR62.astype(np.float32)).reshape(-1, 1))\n",
    "features_test['FR100'] = scaler.fit_transform(np.nan_to_num(features_test.FR100.astype(np.float32)).reshape(-1, 1))\n",
    "features_test['FR138'] = scaler.fit_transform(np.nan_to_num(features_test.FR138.astype(np.float32)).reshape(-1, 1))\n",
    "features_test['FR162'] = scaler.fit_transform(np.nan_to_num(features_test.FR162.astype(np.float32)).reshape(-1, 1))\n",
    "features_test['FR200'] = scaler.fit_transform(np.nan_to_num(features_test.FR200.astype(np.float32)).reshape(-1, 1))\n",
    "features_test['SBATR'] = scaler.fit_transform(np.nan_to_num(features_test.SBATR.astype(np.float32)).reshape(-1, 1))"
   ]
  },
  {
   "cell_type": "code",
   "execution_count": null,
   "metadata": {},
   "outputs": [],
   "source": []
  },
  {
   "cell_type": "code",
   "execution_count": 392,
   "metadata": {},
   "outputs": [],
   "source": [
    "###################################################################\n",
    "########### F E A T U R I N G      I M P O R T A N C E ############\n",
    "###################################################################"
   ]
  },
  {
   "cell_type": "code",
   "execution_count": 393,
   "metadata": {},
   "outputs": [
    {
     "output_type": "stream",
     "name": "stdout",
     "text": [
      "CPU times: user 5.14 ms, sys: 974 µs, total: 6.11 ms\nWall time: 5.21 ms\n"
     ]
    }
   ],
   "source": [
    "%%time\n",
    "features_train['Buy'] = np.where((features_train.Signal==1)&(features_train.TRACKER==1),1,0)\n",
    "features_train['Sell'] = np.where((features_train.Signal==-1)&(features_train.TRACKER==1),1,0)\n",
    "features_test['Buy'] = np.where((features_test.Signal==1)&(features_test.TRACKER==1),1,0)\n",
    "features_test['Sell'] = np.where((features_test.Signal==-1)&(features_test.TRACKER==1),1,0)"
   ]
  },
  {
   "cell_type": "code",
   "execution_count": 394,
   "metadata": {},
   "outputs": [
    {
     "output_type": "stream",
     "name": "stdout",
     "text": [
      "Feature: 0, Score: -0.05583\nFeature: 1, Score: -0.51798\nFeature: 2, Score: 1.34741\nFeature: 3, Score: 0.41348\nFeature: 4, Score: -0.16890\nFeature: 5, Score: -0.16890\nFeature: 6, Score: -0.49875\nFeature: 7, Score: -0.58914\nFeature: 8, Score: -0.30184\nFeature: 9, Score: -0.23728\nFeature: 10, Score: 0.64740\nFeature: 11, Score: 0.02290\nFeature: 12, Score: 0.00000\nFeature: 13, Score: 0.80736\nFeature: 14, Score: -1.62941\nFeature: 15, Score: 0.25803\nFeature: 16, Score: -0.43473\nFeature: 17, Score: 0.55328\nFeature: 18, Score: 0.37680\nFeature: 19, Score: -1.10136\nFeature: 20, Score: -2.33545\nFeature: 21, Score: 0.55328\nFeature: 22, Score: 0.37680\nFeature: 23, Score: -1.10136\nFeature: 24, Score: -2.33545\nFeature: 25, Score: 0.50253\nFeature: 26, Score: -0.64870\nFeature: 27, Score: -0.00155\nFeature: 28, Score: -0.01469\nFeature: 29, Score: 0.00927\nFeature: 30, Score: 0.02410\nFeature: 31, Score: 0.04817\nFeature: 32, Score: 0.07231\nFeature: 33, Score: 0.71128\nFeature: 34, Score: 0.11152\nFeature: 35, Score: -0.03857\nFeature: 36, Score: -0.05303\nFeature: 37, Score: -0.07604\nFeature: 38, Score: -0.09861\nFeature: 39, Score: 0.08726\nFeature: 40, Score: -0.13420\nFeature: 41, Score: 1.29991\nFeature: 42, Score: 3.11792\n"
     ]
    },
    {
     "output_type": "display_data",
     "data": {
      "text/plain": "<Figure size 2160x360 with 1 Axes>",
      "image/svg+xml": "<?xml version=\"1.0\" encoding=\"utf-8\" standalone=\"no\"?>\n<!DOCTYPE svg PUBLIC \"-//W3C//DTD SVG 1.1//EN\"\n  \"http://www.w3.org/Graphics/SVG/1.1/DTD/svg11.dtd\">\n<!-- Created with matplotlib (https://matplotlib.org/) -->\n<svg height=\"317.99625pt\" version=\"1.1\" viewBox=\"0 0 1710.142188 317.99625\" width=\"1710.142188pt\" xmlns=\"http://www.w3.org/2000/svg\" xmlns:xlink=\"http://www.w3.org/1999/xlink\">\n <metadata>\n  <rdf:RDF xmlns:cc=\"http://creativecommons.org/ns#\" xmlns:dc=\"http://purl.org/dc/elements/1.1/\" xmlns:rdf=\"http://www.w3.org/1999/02/22-rdf-syntax-ns#\">\n   <cc:Work>\n    <dc:type rdf:resource=\"http://purl.org/dc/dcmitype/StillImage\"/>\n    <dc:date>2021-01-26T12:38:48.350595</dc:date>\n    <dc:format>image/svg+xml</dc:format>\n    <dc:creator>\n     <cc:Agent>\n      <dc:title>Matplotlib v3.3.3, https://matplotlib.org/</dc:title>\n     </cc:Agent>\n    </dc:creator>\n   </cc:Work>\n  </rdf:RDF>\n </metadata>\n <defs>\n  <style type=\"text/css\">*{stroke-linecap:butt;stroke-linejoin:round;}</style>\n </defs>\n <g id=\"figure_1\">\n  <g id=\"patch_1\">\n   <path d=\"M 0 317.99625 \nL 1710.142188 317.99625 \nL 1710.142188 0 \nL 0 0 \nz\n\" style=\"fill:none;\"/>\n  </g>\n  <g id=\"axes_1\">\n   <g id=\"patch_2\">\n    <path d=\"M 28.942188 294.118125 \nL 1702.942188 294.118125 \nL 1702.942188 22.318125 \nL 28.942188 22.318125 \nz\n\" style=\"fill:#ffffff;\"/>\n   </g>\n   <g id=\"patch_3\">\n    <path clip-path=\"url(#p2b06358069)\" d=\"M 105.033097 175.944929 \nL 133.478296 175.944929 \nL 133.478296 178.474397 \nL 105.033097 178.474397 \nz\n\" style=\"fill:#1f77b4;\"/>\n   </g>\n   <g id=\"patch_4\">\n    <path clip-path=\"url(#p2b06358069)\" d=\"M 140.589596 175.944929 \nL 169.034796 175.944929 \nL 169.034796 199.414331 \nL 140.589596 199.414331 \nz\n\" style=\"fill:#1f77b4;\"/>\n   </g>\n   <g id=\"patch_5\">\n    <path clip-path=\"url(#p2b06358069)\" d=\"M 176.146096 175.944929 \nL 204.591295 175.944929 \nL 204.591295 114.893831 \nL 176.146096 114.893831 \nz\n\" style=\"fill:#1f77b4;\"/>\n   </g>\n   <g id=\"patch_6\">\n    <path clip-path=\"url(#p2b06358069)\" d=\"M 211.702595 175.944929 \nL 240.147795 175.944929 \nL 240.147795 157.210037 \nL 211.702595 157.210037 \nz\n\" style=\"fill:#1f77b4;\"/>\n   </g>\n   <g id=\"patch_7\">\n    <path clip-path=\"url(#p2b06358069)\" d=\"M 247.259095 175.944929 \nL 275.704295 175.944929 \nL 275.704295 183.59763 \nL 247.259095 183.59763 \nz\n\" style=\"fill:#1f77b4;\"/>\n   </g>\n   <g id=\"patch_8\">\n    <path clip-path=\"url(#p2b06358069)\" d=\"M 282.815594 175.944929 \nL 311.260794 175.944929 \nL 311.260794 183.597607 \nL 282.815594 183.597607 \nz\n\" style=\"fill:#1f77b4;\"/>\n   </g>\n   <g id=\"patch_9\">\n    <path clip-path=\"url(#p2b06358069)\" d=\"M 318.372094 175.944929 \nL 346.817294 175.944929 \nL 346.817294 198.543096 \nL 318.372094 198.543096 \nz\n\" style=\"fill:#1f77b4;\"/>\n   </g>\n   <g id=\"patch_10\">\n    <path clip-path=\"url(#p2b06358069)\" d=\"M 353.928594 175.944929 \nL 382.373793 175.944929 \nL 382.373793 202.638781 \nL 353.928594 202.638781 \nz\n\" style=\"fill:#1f77b4;\"/>\n   </g>\n   <g id=\"patch_11\">\n    <path clip-path=\"url(#p2b06358069)\" d=\"M 389.485093 175.944929 \nL 417.930293 175.944929 \nL 417.930293 189.621413 \nL 389.485093 189.621413 \nz\n\" style=\"fill:#1f77b4;\"/>\n   </g>\n   <g id=\"patch_12\">\n    <path clip-path=\"url(#p2b06358069)\" d=\"M 425.041593 175.944929 \nL 453.486792 175.944929 \nL 453.486792 186.696229 \nL 425.041593 186.696229 \nz\n\" style=\"fill:#1f77b4;\"/>\n   </g>\n   <g id=\"patch_13\">\n    <path clip-path=\"url(#p2b06358069)\" d=\"M 460.598092 175.944929 \nL 489.043292 175.944929 \nL 489.043292 146.611474 \nL 460.598092 146.611474 \nz\n\" style=\"fill:#1f77b4;\"/>\n   </g>\n   <g id=\"patch_14\">\n    <path clip-path=\"url(#p2b06358069)\" d=\"M 496.154592 175.944929 \nL 524.599792 175.944929 \nL 524.599792 174.907325 \nL 496.154592 174.907325 \nz\n\" style=\"fill:#1f77b4;\"/>\n   </g>\n   <g id=\"patch_15\">\n    <path clip-path=\"url(#p2b06358069)\" d=\"M 531.711091 175.944929 \nL 560.156291 175.944929 \nL 560.156291 175.944929 \nL 531.711091 175.944929 \nz\n\" style=\"fill:#1f77b4;\"/>\n   </g>\n   <g id=\"patch_16\">\n    <path clip-path=\"url(#p2b06358069)\" d=\"M 567.267591 175.944929 \nL 595.712791 175.944929 \nL 595.712791 139.363489 \nL 567.267591 139.363489 \nz\n\" style=\"fill:#1f77b4;\"/>\n   </g>\n   <g id=\"patch_17\">\n    <path clip-path=\"url(#p2b06358069)\" d=\"M 602.824091 175.944929 \nL 631.26929 175.944929 \nL 631.26929 249.772968 \nL 602.824091 249.772968 \nz\n\" style=\"fill:#1f77b4;\"/>\n   </g>\n   <g id=\"patch_18\">\n    <path clip-path=\"url(#p2b06358069)\" d=\"M 638.38059 175.944929 \nL 666.82579 175.944929 \nL 666.82579 164.253415 \nL 638.38059 164.253415 \nz\n\" style=\"fill:#1f77b4;\"/>\n   </g>\n   <g id=\"patch_19\">\n    <path clip-path=\"url(#p2b06358069)\" d=\"M 673.93709 175.944929 \nL 702.382289 175.944929 \nL 702.382289 195.642366 \nL 673.93709 195.642366 \nz\n\" style=\"fill:#1f77b4;\"/>\n   </g>\n   <g id=\"patch_20\">\n    <path clip-path=\"url(#p2b06358069)\" d=\"M 709.493589 175.944929 \nL 737.938789 175.944929 \nL 737.938789 150.875986 \nL 709.493589 150.875986 \nz\n\" style=\"fill:#1f77b4;\"/>\n   </g>\n   <g id=\"patch_21\">\n    <path clip-path=\"url(#p2b06358069)\" d=\"M 745.050089 175.944929 \nL 773.495289 175.944929 \nL 773.495289 158.87236 \nL 745.050089 158.87236 \nz\n\" style=\"fill:#1f77b4;\"/>\n   </g>\n   <g id=\"patch_22\">\n    <path clip-path=\"url(#p2b06358069)\" d=\"M 780.606589 175.944929 \nL 809.051788 175.944929 \nL 809.051788 225.847179 \nL 780.606589 225.847179 \nz\n\" style=\"fill:#1f77b4;\"/>\n   </g>\n   <g id=\"patch_23\">\n    <path clip-path=\"url(#p2b06358069)\" d=\"M 816.163088 175.944929 \nL 844.608288 175.944929 \nL 844.608288 281.76358 \nL 816.163088 281.76358 \nz\n\" style=\"fill:#1f77b4;\"/>\n   </g>\n   <g id=\"patch_24\">\n    <path clip-path=\"url(#p2b06358069)\" d=\"M 851.719588 175.944929 \nL 880.164787 175.944929 \nL 880.164787 150.875986 \nL 851.719588 150.875986 \nz\n\" style=\"fill:#1f77b4;\"/>\n   </g>\n   <g id=\"patch_25\">\n    <path clip-path=\"url(#p2b06358069)\" d=\"M 887.276087 175.944929 \nL 915.721287 175.944929 \nL 915.721287 158.87236 \nL 887.276087 158.87236 \nz\n\" style=\"fill:#1f77b4;\"/>\n   </g>\n   <g id=\"patch_26\">\n    <path clip-path=\"url(#p2b06358069)\" d=\"M 922.832587 175.944929 \nL 951.277786 175.944929 \nL 951.277786 225.847179 \nL 922.832587 225.847179 \nz\n\" style=\"fill:#1f77b4;\"/>\n   </g>\n   <g id=\"patch_27\">\n    <path clip-path=\"url(#p2b06358069)\" d=\"M 958.389086 175.944929 \nL 986.834286 175.944929 \nL 986.834286 281.76358 \nL 958.389086 281.76358 \nz\n\" style=\"fill:#1f77b4;\"/>\n   </g>\n   <g id=\"patch_28\">\n    <path clip-path=\"url(#p2b06358069)\" d=\"M 993.945586 175.944929 \nL 1022.390786 175.944929 \nL 1022.390786 153.175342 \nL 993.945586 153.175342 \nz\n\" style=\"fill:#1f77b4;\"/>\n   </g>\n   <g id=\"patch_29\">\n    <path clip-path=\"url(#p2b06358069)\" d=\"M 1029.502086 175.944929 \nL 1057.947285 175.944929 \nL 1057.947285 205.337552 \nL 1029.502086 205.337552 \nz\n\" style=\"fill:#1f77b4;\"/>\n   </g>\n   <g id=\"patch_30\">\n    <path clip-path=\"url(#p2b06358069)\" d=\"M 1065.058585 175.944929 \nL 1093.503785 175.944929 \nL 1093.503785 176.015005 \nL 1065.058585 176.015005 \nz\n\" style=\"fill:#1f77b4;\"/>\n   </g>\n   <g id=\"patch_31\">\n    <path clip-path=\"url(#p2b06358069)\" d=\"M 1100.615085 175.944929 \nL 1129.060284 175.944929 \nL 1129.060284 176.610457 \nL 1100.615085 176.610457 \nz\n\" style=\"fill:#1f77b4;\"/>\n   </g>\n   <g id=\"patch_32\">\n    <path clip-path=\"url(#p2b06358069)\" d=\"M 1136.171584 175.944929 \nL 1164.616784 175.944929 \nL 1164.616784 175.524976 \nL 1136.171584 175.524976 \nz\n\" style=\"fill:#1f77b4;\"/>\n   </g>\n   <g id=\"patch_33\">\n    <path clip-path=\"url(#p2b06358069)\" d=\"M 1171.728084 175.944929 \nL 1200.173284 175.944929 \nL 1200.173284 174.852804 \nL 1171.728084 174.852804 \nz\n\" style=\"fill:#1f77b4;\"/>\n   </g>\n   <g id=\"patch_34\">\n    <path clip-path=\"url(#p2b06358069)\" d=\"M 1207.284583 175.944929 \nL 1235.729783 175.944929 \nL 1235.729783 173.762219 \nL 1207.284583 173.762219 \nz\n\" style=\"fill:#1f77b4;\"/>\n   </g>\n   <g id=\"patch_35\">\n    <path clip-path=\"url(#p2b06358069)\" d=\"M 1242.841083 175.944929 \nL 1271.286283 175.944929 \nL 1271.286283 172.668436 \nL 1242.841083 172.668436 \nz\n\" style=\"fill:#1f77b4;\"/>\n   </g>\n   <g id=\"patch_36\">\n    <path clip-path=\"url(#p2b06358069)\" d=\"M 1278.397583 175.944929 \nL 1306.842782 175.944929 \nL 1306.842782 143.717035 \nL 1278.397583 143.717035 \nz\n\" style=\"fill:#1f77b4;\"/>\n   </g>\n   <g id=\"patch_37\">\n    <path clip-path=\"url(#p2b06358069)\" d=\"M 1313.954082 175.944929 \nL 1342.399282 175.944929 \nL 1342.399282 170.892127 \nL 1313.954082 170.892127 \nz\n\" style=\"fill:#1f77b4;\"/>\n   </g>\n   <g id=\"patch_38\">\n    <path clip-path=\"url(#p2b06358069)\" d=\"M 1349.510582 175.944929 \nL 1377.955781 175.944929 \nL 1377.955781 177.69255 \nL 1349.510582 177.69255 \nz\n\" style=\"fill:#1f77b4;\"/>\n   </g>\n   <g id=\"patch_39\">\n    <path clip-path=\"url(#p2b06358069)\" d=\"M 1385.067081 175.944929 \nL 1413.512281 175.944929 \nL 1413.512281 178.347769 \nL 1385.067081 178.347769 \nz\n\" style=\"fill:#1f77b4;\"/>\n   </g>\n   <g id=\"patch_40\">\n    <path clip-path=\"url(#p2b06358069)\" d=\"M 1420.623581 175.944929 \nL 1449.068781 175.944929 \nL 1449.068781 179.390513 \nL 1420.623581 179.390513 \nz\n\" style=\"fill:#1f77b4;\"/>\n   </g>\n   <g id=\"patch_41\">\n    <path clip-path=\"url(#p2b06358069)\" d=\"M 1456.18008 175.944929 \nL 1484.62528 175.944929 \nL 1484.62528 180.412965 \nL 1456.18008 180.412965 \nz\n\" style=\"fill:#1f77b4;\"/>\n   </g>\n   <g id=\"patch_42\">\n    <path clip-path=\"url(#p2b06358069)\" d=\"M 1491.73658 175.944929 \nL 1520.18178 175.944929 \nL 1520.18178 171.991106 \nL 1491.73658 171.991106 \nz\n\" style=\"fill:#1f77b4;\"/>\n   </g>\n   <g id=\"patch_43\">\n    <path clip-path=\"url(#p2b06358069)\" d=\"M 1527.29308 175.944929 \nL 1555.738279 175.944929 \nL 1555.738279 182.025681 \nL 1527.29308 182.025681 \nz\n\" style=\"fill:#1f77b4;\"/>\n   </g>\n   <g id=\"patch_44\">\n    <path clip-path=\"url(#p2b06358069)\" d=\"M 1562.849579 175.944929 \nL 1591.294779 175.944929 \nL 1591.294779 117.046042 \nL 1562.849579 117.046042 \nz\n\" style=\"fill:#1f77b4;\"/>\n   </g>\n   <g id=\"patch_45\">\n    <path clip-path=\"url(#p2b06358069)\" d=\"M 1598.406079 175.944929 \nL 1626.851278 175.944929 \nL 1626.851278 34.67267 \nL 1598.406079 34.67267 \nz\n\" style=\"fill:#1f77b4;\"/>\n   </g>\n   <g id=\"matplotlib.axis_1\">\n    <g id=\"xtick_1\">\n     <g id=\"line2d_1\">\n      <defs>\n       <path d=\"M 0 0 \nL 0 3.5 \n\" id=\"ma15a5a032d\" style=\"stroke:#000000;stroke-width:0.8;\"/>\n      </defs>\n      <g>\n       <use style=\"stroke:#000000;stroke-width:0.8;\" x=\"119.255696\" xlink:href=\"#ma15a5a032d\" y=\"294.118125\"/>\n      </g>\n     </g>\n     <g id=\"text_1\">\n      <!-- 0 -->\n      <g transform=\"translate(116.074446 308.716563)scale(0.1 -0.1)\">\n       <defs>\n        <path d=\"M 31.78125 66.40625 \nQ 24.171875 66.40625 20.328125 58.90625 \nQ 16.5 51.421875 16.5 36.375 \nQ 16.5 21.390625 20.328125 13.890625 \nQ 24.171875 6.390625 31.78125 6.390625 \nQ 39.453125 6.390625 43.28125 13.890625 \nQ 47.125 21.390625 47.125 36.375 \nQ 47.125 51.421875 43.28125 58.90625 \nQ 39.453125 66.40625 31.78125 66.40625 \nz\nM 31.78125 74.21875 \nQ 44.046875 74.21875 50.515625 64.515625 \nQ 56.984375 54.828125 56.984375 36.375 \nQ 56.984375 17.96875 50.515625 8.265625 \nQ 44.046875 -1.421875 31.78125 -1.421875 \nQ 19.53125 -1.421875 13.0625 8.265625 \nQ 6.59375 17.96875 6.59375 36.375 \nQ 6.59375 54.828125 13.0625 64.515625 \nQ 19.53125 74.21875 31.78125 74.21875 \nz\n\" id=\"DejaVuSans-48\"/>\n       </defs>\n       <use xlink:href=\"#DejaVuSans-48\"/>\n      </g>\n     </g>\n    </g>\n    <g id=\"xtick_2\">\n     <g id=\"line2d_2\">\n      <g>\n       <use style=\"stroke:#000000;stroke-width:0.8;\" x=\"474.820692\" xlink:href=\"#ma15a5a032d\" y=\"294.118125\"/>\n      </g>\n     </g>\n     <g id=\"text_2\">\n      <!-- 10 -->\n      <g transform=\"translate(468.458192 308.716563)scale(0.1 -0.1)\">\n       <defs>\n        <path d=\"M 12.40625 8.296875 \nL 28.515625 8.296875 \nL 28.515625 63.921875 \nL 10.984375 60.40625 \nL 10.984375 69.390625 \nL 28.421875 72.90625 \nL 38.28125 72.90625 \nL 38.28125 8.296875 \nL 54.390625 8.296875 \nL 54.390625 0 \nL 12.40625 0 \nz\n\" id=\"DejaVuSans-49\"/>\n       </defs>\n       <use xlink:href=\"#DejaVuSans-49\"/>\n       <use x=\"63.623047\" xlink:href=\"#DejaVuSans-48\"/>\n      </g>\n     </g>\n    </g>\n    <g id=\"xtick_3\">\n     <g id=\"line2d_3\">\n      <g>\n       <use style=\"stroke:#000000;stroke-width:0.8;\" x=\"830.385688\" xlink:href=\"#ma15a5a032d\" y=\"294.118125\"/>\n      </g>\n     </g>\n     <g id=\"text_3\">\n      <!-- 20 -->\n      <g transform=\"translate(824.023188 308.716563)scale(0.1 -0.1)\">\n       <defs>\n        <path d=\"M 19.1875 8.296875 \nL 53.609375 8.296875 \nL 53.609375 0 \nL 7.328125 0 \nL 7.328125 8.296875 \nQ 12.9375 14.109375 22.625 23.890625 \nQ 32.328125 33.6875 34.8125 36.53125 \nQ 39.546875 41.84375 41.421875 45.53125 \nQ 43.3125 49.21875 43.3125 52.78125 \nQ 43.3125 58.59375 39.234375 62.25 \nQ 35.15625 65.921875 28.609375 65.921875 \nQ 23.96875 65.921875 18.8125 64.3125 \nQ 13.671875 62.703125 7.8125 59.421875 \nL 7.8125 69.390625 \nQ 13.765625 71.78125 18.9375 73 \nQ 24.125 74.21875 28.421875 74.21875 \nQ 39.75 74.21875 46.484375 68.546875 \nQ 53.21875 62.890625 53.21875 53.421875 \nQ 53.21875 48.921875 51.53125 44.890625 \nQ 49.859375 40.875 45.40625 35.40625 \nQ 44.1875 33.984375 37.640625 27.21875 \nQ 31.109375 20.453125 19.1875 8.296875 \nz\n\" id=\"DejaVuSans-50\"/>\n       </defs>\n       <use xlink:href=\"#DejaVuSans-50\"/>\n       <use x=\"63.623047\" xlink:href=\"#DejaVuSans-48\"/>\n      </g>\n     </g>\n    </g>\n    <g id=\"xtick_4\">\n     <g id=\"line2d_4\">\n      <g>\n       <use style=\"stroke:#000000;stroke-width:0.8;\" x=\"1185.950684\" xlink:href=\"#ma15a5a032d\" y=\"294.118125\"/>\n      </g>\n     </g>\n     <g id=\"text_4\">\n      <!-- 30 -->\n      <g transform=\"translate(1179.588184 308.716563)scale(0.1 -0.1)\">\n       <defs>\n        <path d=\"M 40.578125 39.3125 \nQ 47.65625 37.796875 51.625 33 \nQ 55.609375 28.21875 55.609375 21.1875 \nQ 55.609375 10.40625 48.1875 4.484375 \nQ 40.765625 -1.421875 27.09375 -1.421875 \nQ 22.515625 -1.421875 17.65625 -0.515625 \nQ 12.796875 0.390625 7.625 2.203125 \nL 7.625 11.71875 \nQ 11.71875 9.328125 16.59375 8.109375 \nQ 21.484375 6.890625 26.8125 6.890625 \nQ 36.078125 6.890625 40.9375 10.546875 \nQ 45.796875 14.203125 45.796875 21.1875 \nQ 45.796875 27.640625 41.28125 31.265625 \nQ 36.765625 34.90625 28.71875 34.90625 \nL 20.21875 34.90625 \nL 20.21875 43.015625 \nL 29.109375 43.015625 \nQ 36.375 43.015625 40.234375 45.921875 \nQ 44.09375 48.828125 44.09375 54.296875 \nQ 44.09375 59.90625 40.109375 62.90625 \nQ 36.140625 65.921875 28.71875 65.921875 \nQ 24.65625 65.921875 20.015625 65.03125 \nQ 15.375 64.15625 9.8125 62.3125 \nL 9.8125 71.09375 \nQ 15.4375 72.65625 20.34375 73.4375 \nQ 25.25 74.21875 29.59375 74.21875 \nQ 40.828125 74.21875 47.359375 69.109375 \nQ 53.90625 64.015625 53.90625 55.328125 \nQ 53.90625 49.265625 50.4375 45.09375 \nQ 46.96875 40.921875 40.578125 39.3125 \nz\n\" id=\"DejaVuSans-51\"/>\n       </defs>\n       <use xlink:href=\"#DejaVuSans-51\"/>\n       <use x=\"63.623047\" xlink:href=\"#DejaVuSans-48\"/>\n      </g>\n     </g>\n    </g>\n    <g id=\"xtick_5\">\n     <g id=\"line2d_5\">\n      <g>\n       <use style=\"stroke:#000000;stroke-width:0.8;\" x=\"1541.515679\" xlink:href=\"#ma15a5a032d\" y=\"294.118125\"/>\n      </g>\n     </g>\n     <g id=\"text_5\">\n      <!-- 40 -->\n      <g transform=\"translate(1535.153179 308.716563)scale(0.1 -0.1)\">\n       <defs>\n        <path d=\"M 37.796875 64.3125 \nL 12.890625 25.390625 \nL 37.796875 25.390625 \nz\nM 35.203125 72.90625 \nL 47.609375 72.90625 \nL 47.609375 25.390625 \nL 58.015625 25.390625 \nL 58.015625 17.1875 \nL 47.609375 17.1875 \nL 47.609375 0 \nL 37.796875 0 \nL 37.796875 17.1875 \nL 4.890625 17.1875 \nL 4.890625 26.703125 \nz\n\" id=\"DejaVuSans-52\"/>\n       </defs>\n       <use xlink:href=\"#DejaVuSans-52\"/>\n       <use x=\"63.623047\" xlink:href=\"#DejaVuSans-48\"/>\n      </g>\n     </g>\n    </g>\n   </g>\n   <g id=\"matplotlib.axis_2\">\n    <g id=\"ytick_1\">\n     <g id=\"line2d_6\">\n      <defs>\n       <path d=\"M 0 0 \nL -3.5 0 \n\" id=\"m5a7902c356\" style=\"stroke:#000000;stroke-width:0.8;\"/>\n      </defs>\n      <g>\n       <use style=\"stroke:#000000;stroke-width:0.8;\" x=\"28.942188\" xlink:href=\"#m5a7902c356\" y=\"266.564558\"/>\n      </g>\n     </g>\n     <g id=\"text_6\">\n      <!-- −2 -->\n      <g transform=\"translate(7.2 270.363776)scale(0.1 -0.1)\">\n       <defs>\n        <path d=\"M 10.59375 35.5 \nL 73.1875 35.5 \nL 73.1875 27.203125 \nL 10.59375 27.203125 \nz\n\" id=\"DejaVuSans-8722\"/>\n       </defs>\n       <use xlink:href=\"#DejaVuSans-8722\"/>\n       <use x=\"83.789062\" xlink:href=\"#DejaVuSans-50\"/>\n      </g>\n     </g>\n    </g>\n    <g id=\"ytick_2\">\n     <g id=\"line2d_7\">\n      <g>\n       <use style=\"stroke:#000000;stroke-width:0.8;\" x=\"28.942188\" xlink:href=\"#m5a7902c356\" y=\"221.254744\"/>\n      </g>\n     </g>\n     <g id=\"text_7\">\n      <!-- −1 -->\n      <g transform=\"translate(7.2 225.053962)scale(0.1 -0.1)\">\n       <use xlink:href=\"#DejaVuSans-8722\"/>\n       <use x=\"83.789062\" xlink:href=\"#DejaVuSans-49\"/>\n      </g>\n     </g>\n    </g>\n    <g id=\"ytick_3\">\n     <g id=\"line2d_8\">\n      <g>\n       <use style=\"stroke:#000000;stroke-width:0.8;\" x=\"28.942188\" xlink:href=\"#m5a7902c356\" y=\"175.944929\"/>\n      </g>\n     </g>\n     <g id=\"text_8\">\n      <!-- 0 -->\n      <g transform=\"translate(15.579688 179.744148)scale(0.1 -0.1)\">\n       <use xlink:href=\"#DejaVuSans-48\"/>\n      </g>\n     </g>\n    </g>\n    <g id=\"ytick_4\">\n     <g id=\"line2d_9\">\n      <g>\n       <use style=\"stroke:#000000;stroke-width:0.8;\" x=\"28.942188\" xlink:href=\"#m5a7902c356\" y=\"130.635115\"/>\n      </g>\n     </g>\n     <g id=\"text_9\">\n      <!-- 1 -->\n      <g transform=\"translate(15.579688 134.434334)scale(0.1 -0.1)\">\n       <use xlink:href=\"#DejaVuSans-49\"/>\n      </g>\n     </g>\n    </g>\n    <g id=\"ytick_5\">\n     <g id=\"line2d_10\">\n      <g>\n       <use style=\"stroke:#000000;stroke-width:0.8;\" x=\"28.942188\" xlink:href=\"#m5a7902c356\" y=\"85.325301\"/>\n      </g>\n     </g>\n     <g id=\"text_10\">\n      <!-- 2 -->\n      <g transform=\"translate(15.579688 89.12452)scale(0.1 -0.1)\">\n       <use xlink:href=\"#DejaVuSans-50\"/>\n      </g>\n     </g>\n    </g>\n    <g id=\"ytick_6\">\n     <g id=\"line2d_11\">\n      <g>\n       <use style=\"stroke:#000000;stroke-width:0.8;\" x=\"28.942188\" xlink:href=\"#m5a7902c356\" y=\"40.015487\"/>\n      </g>\n     </g>\n     <g id=\"text_11\">\n      <!-- 3 -->\n      <g transform=\"translate(15.579688 43.814705)scale(0.1 -0.1)\">\n       <use xlink:href=\"#DejaVuSans-51\"/>\n      </g>\n     </g>\n    </g>\n   </g>\n   <g id=\"patch_46\">\n    <path d=\"M 28.942188 294.118125 \nL 28.942188 22.318125 \n\" style=\"fill:none;stroke:#000000;stroke-linecap:square;stroke-linejoin:miter;stroke-width:0.8;\"/>\n   </g>\n   <g id=\"patch_47\">\n    <path d=\"M 1702.942188 294.118125 \nL 1702.942188 22.318125 \n\" style=\"fill:none;stroke:#000000;stroke-linecap:square;stroke-linejoin:miter;stroke-width:0.8;\"/>\n   </g>\n   <g id=\"patch_48\">\n    <path d=\"M 28.942188 294.118125 \nL 1702.942187 294.118125 \n\" style=\"fill:none;stroke:#000000;stroke-linecap:square;stroke-linejoin:miter;stroke-width:0.8;\"/>\n   </g>\n   <g id=\"patch_49\">\n    <path d=\"M 28.942188 22.318125 \nL 1702.942187 22.318125 \n\" style=\"fill:none;stroke:#000000;stroke-linecap:square;stroke-linejoin:miter;stroke-width:0.8;\"/>\n   </g>\n   <g id=\"text_12\">\n    <!-- Feature Importance in Logistic Regression for Buy Signal -->\n    <g transform=\"translate(696.277188 16.318125)scale(0.12 -0.12)\">\n     <defs>\n      <path d=\"M 9.8125 72.90625 \nL 51.703125 72.90625 \nL 51.703125 64.59375 \nL 19.671875 64.59375 \nL 19.671875 43.109375 \nL 48.578125 43.109375 \nL 48.578125 34.8125 \nL 19.671875 34.8125 \nL 19.671875 0 \nL 9.8125 0 \nz\n\" id=\"DejaVuSans-70\"/>\n      <path d=\"M 56.203125 29.59375 \nL 56.203125 25.203125 \nL 14.890625 25.203125 \nQ 15.484375 15.921875 20.484375 11.0625 \nQ 25.484375 6.203125 34.421875 6.203125 \nQ 39.59375 6.203125 44.453125 7.46875 \nQ 49.3125 8.734375 54.109375 11.28125 \nL 54.109375 2.78125 \nQ 49.265625 0.734375 44.1875 -0.34375 \nQ 39.109375 -1.421875 33.890625 -1.421875 \nQ 20.796875 -1.421875 13.15625 6.1875 \nQ 5.515625 13.8125 5.515625 26.8125 \nQ 5.515625 40.234375 12.765625 48.109375 \nQ 20.015625 56 32.328125 56 \nQ 43.359375 56 49.78125 48.890625 \nQ 56.203125 41.796875 56.203125 29.59375 \nz\nM 47.21875 32.234375 \nQ 47.125 39.59375 43.09375 43.984375 \nQ 39.0625 48.390625 32.421875 48.390625 \nQ 24.90625 48.390625 20.390625 44.140625 \nQ 15.875 39.890625 15.1875 32.171875 \nz\n\" id=\"DejaVuSans-101\"/>\n      <path d=\"M 34.28125 27.484375 \nQ 23.390625 27.484375 19.1875 25 \nQ 14.984375 22.515625 14.984375 16.5 \nQ 14.984375 11.71875 18.140625 8.90625 \nQ 21.296875 6.109375 26.703125 6.109375 \nQ 34.1875 6.109375 38.703125 11.40625 \nQ 43.21875 16.703125 43.21875 25.484375 \nL 43.21875 27.484375 \nz\nM 52.203125 31.203125 \nL 52.203125 0 \nL 43.21875 0 \nL 43.21875 8.296875 \nQ 40.140625 3.328125 35.546875 0.953125 \nQ 30.953125 -1.421875 24.3125 -1.421875 \nQ 15.921875 -1.421875 10.953125 3.296875 \nQ 6 8.015625 6 15.921875 \nQ 6 25.140625 12.171875 29.828125 \nQ 18.359375 34.515625 30.609375 34.515625 \nL 43.21875 34.515625 \nL 43.21875 35.40625 \nQ 43.21875 41.609375 39.140625 45 \nQ 35.0625 48.390625 27.6875 48.390625 \nQ 23 48.390625 18.546875 47.265625 \nQ 14.109375 46.140625 10.015625 43.890625 \nL 10.015625 52.203125 \nQ 14.9375 54.109375 19.578125 55.046875 \nQ 24.21875 56 28.609375 56 \nQ 40.484375 56 46.34375 49.84375 \nQ 52.203125 43.703125 52.203125 31.203125 \nz\n\" id=\"DejaVuSans-97\"/>\n      <path d=\"M 18.3125 70.21875 \nL 18.3125 54.6875 \nL 36.8125 54.6875 \nL 36.8125 47.703125 \nL 18.3125 47.703125 \nL 18.3125 18.015625 \nQ 18.3125 11.328125 20.140625 9.421875 \nQ 21.96875 7.515625 27.59375 7.515625 \nL 36.8125 7.515625 \nL 36.8125 0 \nL 27.59375 0 \nQ 17.1875 0 13.234375 3.875 \nQ 9.28125 7.765625 9.28125 18.015625 \nL 9.28125 47.703125 \nL 2.6875 47.703125 \nL 2.6875 54.6875 \nL 9.28125 54.6875 \nL 9.28125 70.21875 \nz\n\" id=\"DejaVuSans-116\"/>\n      <path d=\"M 8.5 21.578125 \nL 8.5 54.6875 \nL 17.484375 54.6875 \nL 17.484375 21.921875 \nQ 17.484375 14.15625 20.5 10.265625 \nQ 23.53125 6.390625 29.59375 6.390625 \nQ 36.859375 6.390625 41.078125 11.03125 \nQ 45.3125 15.671875 45.3125 23.6875 \nL 45.3125 54.6875 \nL 54.296875 54.6875 \nL 54.296875 0 \nL 45.3125 0 \nL 45.3125 8.40625 \nQ 42.046875 3.421875 37.71875 1 \nQ 33.40625 -1.421875 27.6875 -1.421875 \nQ 18.265625 -1.421875 13.375 4.4375 \nQ 8.5 10.296875 8.5 21.578125 \nz\nM 31.109375 56 \nz\n\" id=\"DejaVuSans-117\"/>\n      <path d=\"M 41.109375 46.296875 \nQ 39.59375 47.171875 37.8125 47.578125 \nQ 36.03125 48 33.890625 48 \nQ 26.265625 48 22.1875 43.046875 \nQ 18.109375 38.09375 18.109375 28.8125 \nL 18.109375 0 \nL 9.078125 0 \nL 9.078125 54.6875 \nL 18.109375 54.6875 \nL 18.109375 46.1875 \nQ 20.953125 51.171875 25.484375 53.578125 \nQ 30.03125 56 36.53125 56 \nQ 37.453125 56 38.578125 55.875 \nQ 39.703125 55.765625 41.0625 55.515625 \nz\n\" id=\"DejaVuSans-114\"/>\n      <path id=\"DejaVuSans-32\"/>\n      <path d=\"M 9.8125 72.90625 \nL 19.671875 72.90625 \nL 19.671875 0 \nL 9.8125 0 \nz\n\" id=\"DejaVuSans-73\"/>\n      <path d=\"M 52 44.1875 \nQ 55.375 50.25 60.0625 53.125 \nQ 64.75 56 71.09375 56 \nQ 79.640625 56 84.28125 50.015625 \nQ 88.921875 44.046875 88.921875 33.015625 \nL 88.921875 0 \nL 79.890625 0 \nL 79.890625 32.71875 \nQ 79.890625 40.578125 77.09375 44.375 \nQ 74.3125 48.1875 68.609375 48.1875 \nQ 61.625 48.1875 57.5625 43.546875 \nQ 53.515625 38.921875 53.515625 30.90625 \nL 53.515625 0 \nL 44.484375 0 \nL 44.484375 32.71875 \nQ 44.484375 40.625 41.703125 44.40625 \nQ 38.921875 48.1875 33.109375 48.1875 \nQ 26.21875 48.1875 22.15625 43.53125 \nQ 18.109375 38.875 18.109375 30.90625 \nL 18.109375 0 \nL 9.078125 0 \nL 9.078125 54.6875 \nL 18.109375 54.6875 \nL 18.109375 46.1875 \nQ 21.1875 51.21875 25.484375 53.609375 \nQ 29.78125 56 35.6875 56 \nQ 41.65625 56 45.828125 52.96875 \nQ 50 49.953125 52 44.1875 \nz\n\" id=\"DejaVuSans-109\"/>\n      <path d=\"M 18.109375 8.203125 \nL 18.109375 -20.796875 \nL 9.078125 -20.796875 \nL 9.078125 54.6875 \nL 18.109375 54.6875 \nL 18.109375 46.390625 \nQ 20.953125 51.265625 25.265625 53.625 \nQ 29.59375 56 35.59375 56 \nQ 45.5625 56 51.78125 48.09375 \nQ 58.015625 40.1875 58.015625 27.296875 \nQ 58.015625 14.40625 51.78125 6.484375 \nQ 45.5625 -1.421875 35.59375 -1.421875 \nQ 29.59375 -1.421875 25.265625 0.953125 \nQ 20.953125 3.328125 18.109375 8.203125 \nz\nM 48.6875 27.296875 \nQ 48.6875 37.203125 44.609375 42.84375 \nQ 40.53125 48.484375 33.40625 48.484375 \nQ 26.265625 48.484375 22.1875 42.84375 \nQ 18.109375 37.203125 18.109375 27.296875 \nQ 18.109375 17.390625 22.1875 11.75 \nQ 26.265625 6.109375 33.40625 6.109375 \nQ 40.53125 6.109375 44.609375 11.75 \nQ 48.6875 17.390625 48.6875 27.296875 \nz\n\" id=\"DejaVuSans-112\"/>\n      <path d=\"M 30.609375 48.390625 \nQ 23.390625 48.390625 19.1875 42.75 \nQ 14.984375 37.109375 14.984375 27.296875 \nQ 14.984375 17.484375 19.15625 11.84375 \nQ 23.34375 6.203125 30.609375 6.203125 \nQ 37.796875 6.203125 41.984375 11.859375 \nQ 46.1875 17.53125 46.1875 27.296875 \nQ 46.1875 37.015625 41.984375 42.703125 \nQ 37.796875 48.390625 30.609375 48.390625 \nz\nM 30.609375 56 \nQ 42.328125 56 49.015625 48.375 \nQ 55.71875 40.765625 55.71875 27.296875 \nQ 55.71875 13.875 49.015625 6.21875 \nQ 42.328125 -1.421875 30.609375 -1.421875 \nQ 18.84375 -1.421875 12.171875 6.21875 \nQ 5.515625 13.875 5.515625 27.296875 \nQ 5.515625 40.765625 12.171875 48.375 \nQ 18.84375 56 30.609375 56 \nz\n\" id=\"DejaVuSans-111\"/>\n      <path d=\"M 54.890625 33.015625 \nL 54.890625 0 \nL 45.90625 0 \nL 45.90625 32.71875 \nQ 45.90625 40.484375 42.875 44.328125 \nQ 39.84375 48.1875 33.796875 48.1875 \nQ 26.515625 48.1875 22.3125 43.546875 \nQ 18.109375 38.921875 18.109375 30.90625 \nL 18.109375 0 \nL 9.078125 0 \nL 9.078125 54.6875 \nL 18.109375 54.6875 \nL 18.109375 46.1875 \nQ 21.34375 51.125 25.703125 53.5625 \nQ 30.078125 56 35.796875 56 \nQ 45.21875 56 50.046875 50.171875 \nQ 54.890625 44.34375 54.890625 33.015625 \nz\n\" id=\"DejaVuSans-110\"/>\n      <path d=\"M 48.78125 52.59375 \nL 48.78125 44.1875 \nQ 44.96875 46.296875 41.140625 47.34375 \nQ 37.3125 48.390625 33.40625 48.390625 \nQ 24.65625 48.390625 19.8125 42.84375 \nQ 14.984375 37.3125 14.984375 27.296875 \nQ 14.984375 17.28125 19.8125 11.734375 \nQ 24.65625 6.203125 33.40625 6.203125 \nQ 37.3125 6.203125 41.140625 7.25 \nQ 44.96875 8.296875 48.78125 10.40625 \nL 48.78125 2.09375 \nQ 45.015625 0.34375 40.984375 -0.53125 \nQ 36.96875 -1.421875 32.421875 -1.421875 \nQ 20.0625 -1.421875 12.78125 6.34375 \nQ 5.515625 14.109375 5.515625 27.296875 \nQ 5.515625 40.671875 12.859375 48.328125 \nQ 20.21875 56 33.015625 56 \nQ 37.15625 56 41.109375 55.140625 \nQ 45.0625 54.296875 48.78125 52.59375 \nz\n\" id=\"DejaVuSans-99\"/>\n      <path d=\"M 9.421875 54.6875 \nL 18.40625 54.6875 \nL 18.40625 0 \nL 9.421875 0 \nz\nM 9.421875 75.984375 \nL 18.40625 75.984375 \nL 18.40625 64.59375 \nL 9.421875 64.59375 \nz\n\" id=\"DejaVuSans-105\"/>\n      <path d=\"M 9.8125 72.90625 \nL 19.671875 72.90625 \nL 19.671875 8.296875 \nL 55.171875 8.296875 \nL 55.171875 0 \nL 9.8125 0 \nz\n\" id=\"DejaVuSans-76\"/>\n      <path d=\"M 45.40625 27.984375 \nQ 45.40625 37.75 41.375 43.109375 \nQ 37.359375 48.484375 30.078125 48.484375 \nQ 22.859375 48.484375 18.828125 43.109375 \nQ 14.796875 37.75 14.796875 27.984375 \nQ 14.796875 18.265625 18.828125 12.890625 \nQ 22.859375 7.515625 30.078125 7.515625 \nQ 37.359375 7.515625 41.375 12.890625 \nQ 45.40625 18.265625 45.40625 27.984375 \nz\nM 54.390625 6.78125 \nQ 54.390625 -7.171875 48.1875 -13.984375 \nQ 42 -20.796875 29.203125 -20.796875 \nQ 24.46875 -20.796875 20.265625 -20.09375 \nQ 16.0625 -19.390625 12.109375 -17.921875 \nL 12.109375 -9.1875 \nQ 16.0625 -11.328125 19.921875 -12.34375 \nQ 23.78125 -13.375 27.78125 -13.375 \nQ 36.625 -13.375 41.015625 -8.765625 \nQ 45.40625 -4.15625 45.40625 5.171875 \nL 45.40625 9.625 \nQ 42.625 4.78125 38.28125 2.390625 \nQ 33.9375 0 27.875 0 \nQ 17.828125 0 11.671875 7.65625 \nQ 5.515625 15.328125 5.515625 27.984375 \nQ 5.515625 40.671875 11.671875 48.328125 \nQ 17.828125 56 27.875 56 \nQ 33.9375 56 38.28125 53.609375 \nQ 42.625 51.21875 45.40625 46.390625 \nL 45.40625 54.6875 \nL 54.390625 54.6875 \nz\n\" id=\"DejaVuSans-103\"/>\n      <path d=\"M 44.28125 53.078125 \nL 44.28125 44.578125 \nQ 40.484375 46.53125 36.375 47.5 \nQ 32.28125 48.484375 27.875 48.484375 \nQ 21.1875 48.484375 17.84375 46.4375 \nQ 14.5 44.390625 14.5 40.28125 \nQ 14.5 37.15625 16.890625 35.375 \nQ 19.28125 33.59375 26.515625 31.984375 \nL 29.59375 31.296875 \nQ 39.15625 29.25 43.1875 25.515625 \nQ 47.21875 21.78125 47.21875 15.09375 \nQ 47.21875 7.46875 41.1875 3.015625 \nQ 35.15625 -1.421875 24.609375 -1.421875 \nQ 20.21875 -1.421875 15.453125 -0.5625 \nQ 10.6875 0.296875 5.421875 2 \nL 5.421875 11.28125 \nQ 10.40625 8.6875 15.234375 7.390625 \nQ 20.0625 6.109375 24.8125 6.109375 \nQ 31.15625 6.109375 34.5625 8.28125 \nQ 37.984375 10.453125 37.984375 14.40625 \nQ 37.984375 18.0625 35.515625 20.015625 \nQ 33.0625 21.96875 24.703125 23.78125 \nL 21.578125 24.515625 \nQ 13.234375 26.265625 9.515625 29.90625 \nQ 5.8125 33.546875 5.8125 39.890625 \nQ 5.8125 47.609375 11.28125 51.796875 \nQ 16.75 56 26.8125 56 \nQ 31.78125 56 36.171875 55.265625 \nQ 40.578125 54.546875 44.28125 53.078125 \nz\n\" id=\"DejaVuSans-115\"/>\n      <path d=\"M 44.390625 34.1875 \nQ 47.5625 33.109375 50.5625 29.59375 \nQ 53.5625 26.078125 56.59375 19.921875 \nL 66.609375 0 \nL 56 0 \nL 46.6875 18.703125 \nQ 43.0625 26.03125 39.671875 28.421875 \nQ 36.28125 30.8125 30.421875 30.8125 \nL 19.671875 30.8125 \nL 19.671875 0 \nL 9.8125 0 \nL 9.8125 72.90625 \nL 32.078125 72.90625 \nQ 44.578125 72.90625 50.734375 67.671875 \nQ 56.890625 62.453125 56.890625 51.90625 \nQ 56.890625 45.015625 53.6875 40.46875 \nQ 50.484375 35.9375 44.390625 34.1875 \nz\nM 19.671875 64.796875 \nL 19.671875 38.921875 \nL 32.078125 38.921875 \nQ 39.203125 38.921875 42.84375 42.21875 \nQ 46.484375 45.515625 46.484375 51.90625 \nQ 46.484375 58.296875 42.84375 61.546875 \nQ 39.203125 64.796875 32.078125 64.796875 \nz\n\" id=\"DejaVuSans-82\"/>\n      <path d=\"M 37.109375 75.984375 \nL 37.109375 68.5 \nL 28.515625 68.5 \nQ 23.6875 68.5 21.796875 66.546875 \nQ 19.921875 64.59375 19.921875 59.515625 \nL 19.921875 54.6875 \nL 34.71875 54.6875 \nL 34.71875 47.703125 \nL 19.921875 47.703125 \nL 19.921875 0 \nL 10.890625 0 \nL 10.890625 47.703125 \nL 2.296875 47.703125 \nL 2.296875 54.6875 \nL 10.890625 54.6875 \nL 10.890625 58.5 \nQ 10.890625 67.625 15.140625 71.796875 \nQ 19.390625 75.984375 28.609375 75.984375 \nz\n\" id=\"DejaVuSans-102\"/>\n      <path d=\"M 19.671875 34.8125 \nL 19.671875 8.109375 \nL 35.5 8.109375 \nQ 43.453125 8.109375 47.28125 11.40625 \nQ 51.125 14.703125 51.125 21.484375 \nQ 51.125 28.328125 47.28125 31.5625 \nQ 43.453125 34.8125 35.5 34.8125 \nz\nM 19.671875 64.796875 \nL 19.671875 42.828125 \nL 34.28125 42.828125 \nQ 41.5 42.828125 45.03125 45.53125 \nQ 48.578125 48.25 48.578125 53.8125 \nQ 48.578125 59.328125 45.03125 62.0625 \nQ 41.5 64.796875 34.28125 64.796875 \nz\nM 9.8125 72.90625 \nL 35.015625 72.90625 \nQ 46.296875 72.90625 52.390625 68.21875 \nQ 58.5 63.53125 58.5 54.890625 \nQ 58.5 48.1875 55.375 44.234375 \nQ 52.25 40.28125 46.1875 39.3125 \nQ 53.46875 37.75 57.5 32.78125 \nQ 61.53125 27.828125 61.53125 20.40625 \nQ 61.53125 10.640625 54.890625 5.3125 \nQ 48.25 0 35.984375 0 \nL 9.8125 0 \nz\n\" id=\"DejaVuSans-66\"/>\n      <path d=\"M 32.171875 -5.078125 \nQ 28.375 -14.84375 24.75 -17.8125 \nQ 21.140625 -20.796875 15.09375 -20.796875 \nL 7.90625 -20.796875 \nL 7.90625 -13.28125 \nL 13.1875 -13.28125 \nQ 16.890625 -13.28125 18.9375 -11.515625 \nQ 21 -9.765625 23.484375 -3.21875 \nL 25.09375 0.875 \nL 2.984375 54.6875 \nL 12.5 54.6875 \nL 29.59375 11.921875 \nL 46.6875 54.6875 \nL 56.203125 54.6875 \nz\n\" id=\"DejaVuSans-121\"/>\n      <path d=\"M 53.515625 70.515625 \nL 53.515625 60.890625 \nQ 47.90625 63.578125 42.921875 64.890625 \nQ 37.9375 66.21875 33.296875 66.21875 \nQ 25.25 66.21875 20.875 63.09375 \nQ 16.5 59.96875 16.5 54.203125 \nQ 16.5 49.359375 19.40625 46.890625 \nQ 22.3125 44.4375 30.421875 42.921875 \nL 36.375 41.703125 \nQ 47.40625 39.59375 52.65625 34.296875 \nQ 57.90625 29 57.90625 20.125 \nQ 57.90625 9.515625 50.796875 4.046875 \nQ 43.703125 -1.421875 29.984375 -1.421875 \nQ 24.8125 -1.421875 18.96875 -0.25 \nQ 13.140625 0.921875 6.890625 3.21875 \nL 6.890625 13.375 \nQ 12.890625 10.015625 18.65625 8.296875 \nQ 24.421875 6.59375 29.984375 6.59375 \nQ 38.421875 6.59375 43.015625 9.90625 \nQ 47.609375 13.234375 47.609375 19.390625 \nQ 47.609375 24.75 44.3125 27.78125 \nQ 41.015625 30.8125 33.5 32.328125 \nL 27.484375 33.5 \nQ 16.453125 35.6875 11.515625 40.375 \nQ 6.59375 45.0625 6.59375 53.421875 \nQ 6.59375 63.09375 13.40625 68.65625 \nQ 20.21875 74.21875 32.171875 74.21875 \nQ 37.3125 74.21875 42.625 73.28125 \nQ 47.953125 72.359375 53.515625 70.515625 \nz\n\" id=\"DejaVuSans-83\"/>\n      <path d=\"M 9.421875 75.984375 \nL 18.40625 75.984375 \nL 18.40625 0 \nL 9.421875 0 \nz\n\" id=\"DejaVuSans-108\"/>\n     </defs>\n     <use xlink:href=\"#DejaVuSans-70\"/>\n     <use x=\"52.019531\" xlink:href=\"#DejaVuSans-101\"/>\n     <use x=\"113.542969\" xlink:href=\"#DejaVuSans-97\"/>\n     <use x=\"174.822266\" xlink:href=\"#DejaVuSans-116\"/>\n     <use x=\"214.03125\" xlink:href=\"#DejaVuSans-117\"/>\n     <use x=\"277.410156\" xlink:href=\"#DejaVuSans-114\"/>\n     <use x=\"316.273438\" xlink:href=\"#DejaVuSans-101\"/>\n     <use x=\"377.796875\" xlink:href=\"#DejaVuSans-32\"/>\n     <use x=\"409.583984\" xlink:href=\"#DejaVuSans-73\"/>\n     <use x=\"439.076172\" xlink:href=\"#DejaVuSans-109\"/>\n     <use x=\"536.488281\" xlink:href=\"#DejaVuSans-112\"/>\n     <use x=\"599.964844\" xlink:href=\"#DejaVuSans-111\"/>\n     <use x=\"661.146484\" xlink:href=\"#DejaVuSans-114\"/>\n     <use x=\"702.259766\" xlink:href=\"#DejaVuSans-116\"/>\n     <use x=\"741.46875\" xlink:href=\"#DejaVuSans-97\"/>\n     <use x=\"802.748047\" xlink:href=\"#DejaVuSans-110\"/>\n     <use x=\"866.126953\" xlink:href=\"#DejaVuSans-99\"/>\n     <use x=\"921.107422\" xlink:href=\"#DejaVuSans-101\"/>\n     <use x=\"982.630859\" xlink:href=\"#DejaVuSans-32\"/>\n     <use x=\"1014.417969\" xlink:href=\"#DejaVuSans-105\"/>\n     <use x=\"1042.201172\" xlink:href=\"#DejaVuSans-110\"/>\n     <use x=\"1105.580078\" xlink:href=\"#DejaVuSans-32\"/>\n     <use x=\"1137.367188\" xlink:href=\"#DejaVuSans-76\"/>\n     <use x=\"1191.330078\" xlink:href=\"#DejaVuSans-111\"/>\n     <use x=\"1252.511719\" xlink:href=\"#DejaVuSans-103\"/>\n     <use x=\"1315.988281\" xlink:href=\"#DejaVuSans-105\"/>\n     <use x=\"1343.771484\" xlink:href=\"#DejaVuSans-115\"/>\n     <use x=\"1395.871094\" xlink:href=\"#DejaVuSans-116\"/>\n     <use x=\"1435.080078\" xlink:href=\"#DejaVuSans-105\"/>\n     <use x=\"1462.863281\" xlink:href=\"#DejaVuSans-99\"/>\n     <use x=\"1517.84375\" xlink:href=\"#DejaVuSans-32\"/>\n     <use x=\"1549.630859\" xlink:href=\"#DejaVuSans-82\"/>\n     <use x=\"1614.613281\" xlink:href=\"#DejaVuSans-101\"/>\n     <use x=\"1676.136719\" xlink:href=\"#DejaVuSans-103\"/>\n     <use x=\"1739.613281\" xlink:href=\"#DejaVuSans-114\"/>\n     <use x=\"1778.476562\" xlink:href=\"#DejaVuSans-101\"/>\n     <use x=\"1840\" xlink:href=\"#DejaVuSans-115\"/>\n     <use x=\"1892.099609\" xlink:href=\"#DejaVuSans-115\"/>\n     <use x=\"1944.199219\" xlink:href=\"#DejaVuSans-105\"/>\n     <use x=\"1971.982422\" xlink:href=\"#DejaVuSans-111\"/>\n     <use x=\"2033.164062\" xlink:href=\"#DejaVuSans-110\"/>\n     <use x=\"2096.542969\" xlink:href=\"#DejaVuSans-32\"/>\n     <use x=\"2128.330078\" xlink:href=\"#DejaVuSans-102\"/>\n     <use x=\"2163.535156\" xlink:href=\"#DejaVuSans-111\"/>\n     <use x=\"2224.716797\" xlink:href=\"#DejaVuSans-114\"/>\n     <use x=\"2265.830078\" xlink:href=\"#DejaVuSans-32\"/>\n     <use x=\"2297.617188\" xlink:href=\"#DejaVuSans-66\"/>\n     <use x=\"2366.220703\" xlink:href=\"#DejaVuSans-117\"/>\n     <use x=\"2429.599609\" xlink:href=\"#DejaVuSans-121\"/>\n     <use x=\"2488.779297\" xlink:href=\"#DejaVuSans-32\"/>\n     <use x=\"2520.566406\" xlink:href=\"#DejaVuSans-83\"/>\n     <use x=\"2584.042969\" xlink:href=\"#DejaVuSans-105\"/>\n     <use x=\"2611.826172\" xlink:href=\"#DejaVuSans-103\"/>\n     <use x=\"2675.302734\" xlink:href=\"#DejaVuSans-110\"/>\n     <use x=\"2738.681641\" xlink:href=\"#DejaVuSans-97\"/>\n     <use x=\"2799.960938\" xlink:href=\"#DejaVuSans-108\"/>\n    </g>\n   </g>\n  </g>\n </g>\n <defs>\n  <clipPath id=\"p2b06358069\">\n   <rect height=\"271.8\" width=\"1674\" x=\"28.942188\" y=\"22.318125\"/>\n  </clipPath>\n </defs>\n</svg>\n",
      "image/png": "[encoded data removed]"
     },
     "metadata": {
      "needs_background": "light"
     }
    },
    {
     "output_type": "stream",
     "name": "stdout",
     "text": [
      "CPU times: user 1.13 s, sys: 292 ms, total: 1.42 s\nWall time: 348 ms\n"
     ]
    },
    {
     "output_type": "execute_result",
     "data": {
      "text/plain": [
       "'The positive scores indicate a feature that predicts class 1, whereas the negative scores indicate a feature that predicts class 0.'"
      ]
     },
     "metadata": {},
     "execution_count": 394
    }
   ],
   "source": [
    "%%time\n",
    "from sklearn.linear_model import LogisticRegression\n",
    "from matplotlib import pyplot\n",
    "\n",
    "# define the model\n",
    "model = LogisticRegression()\n",
    "# fit the model\n",
    "model.fit(features_train.drop(['Date','Symbol','Buy','Sell','TRACKER'],axis=1), features_train.Buy)\n",
    "# get importance\n",
    "importance = model.coef_[0]\n",
    "# summarize feature importance\n",
    "for i,v in enumerate(importance):\n",
    "\tprint('Feature: %0d, Score: %.5f' % (i,v))\n",
    "# plot feature importance\n",
    "pyplot.figure(figsize=(30,5))\n",
    "pyplot.title('Feature Importance in Logistic Regression for Buy Signal')\n",
    "pyplot.bar([x for x in range(len(importance))], importance)\n",
    "pyplot.show()\n",
    "'''The positive scores indicate a feature that predicts class 1, whereas the negative scores indicate a feature that predicts class 0.'''\n"
   ]
  },
  {
   "cell_type": "code",
   "execution_count": 395,
   "metadata": {},
   "outputs": [
    {
     "output_type": "stream",
     "name": "stdout",
     "text": [
      "Feature: 0, Score: -0.05425\nFeature: 1, Score: 0.46693\nFeature: 2, Score: -0.60380\nFeature: 3, Score: -0.30657\nFeature: 4, Score: 0.03020\nFeature: 5, Score: 0.03020\nFeature: 6, Score: 1.42615\nFeature: 7, Score: 0.82151\nFeature: 8, Score: 0.50333\nFeature: 9, Score: 0.07151\nFeature: 10, Score: -0.32742\nFeature: 11, Score: -0.02502\nFeature: 12, Score: 0.00000\nFeature: 13, Score: -0.50357\nFeature: 14, Score: -0.46795\nFeature: 15, Score: 0.72413\nFeature: 16, Score: 1.07810\nFeature: 17, Score: -0.35339\nFeature: 18, Score: 1.88985\nFeature: 19, Score: -0.19812\nFeature: 20, Score: 1.69006\nFeature: 21, Score: -0.35339\nFeature: 22, Score: 1.88985\nFeature: 23, Score: -0.19812\nFeature: 24, Score: 1.69006\nFeature: 25, Score: 0.22983\nFeature: 26, Score: 0.27893\nFeature: 27, Score: -0.00403\nFeature: 28, Score: -0.13091\nFeature: 29, Score: -0.09048\nFeature: 30, Score: -0.06543\nFeature: 31, Score: -0.02481\nFeature: 32, Score: 0.01594\nFeature: 33, Score: 0.22062\nFeature: 34, Score: 0.08212\nFeature: 35, Score: -0.17122\nFeature: 36, Score: -0.19511\nFeature: 37, Score: -0.23307\nFeature: 38, Score: -0.27029\nFeature: 39, Score: 0.04118\nFeature: 40, Score: -0.32900\nFeature: 41, Score: -1.43841\nFeature: 42, Score: -3.01231\n"
     ]
    },
    {
     "output_type": "display_data",
     "data": {
      "text/plain": "<Figure size 2160x360 with 1 Axes>",
      "image/svg+xml": "<?xml version=\"1.0\" encoding=\"utf-8\" standalone=\"no\"?>\n<!DOCTYPE svg PUBLIC \"-//W3C//DTD SVG 1.1//EN\"\n  \"http://www.w3.org/Graphics/SVG/1.1/DTD/svg11.dtd\">\n<!-- Created with matplotlib (https://matplotlib.org/) -->\n<svg height=\"317.99625pt\" version=\"1.1\" viewBox=\"0 0 1710.142188 317.99625\" width=\"1710.142188pt\" xmlns=\"http://www.w3.org/2000/svg\" xmlns:xlink=\"http://www.w3.org/1999/xlink\">\n <metadata>\n  <rdf:RDF xmlns:cc=\"http://creativecommons.org/ns#\" xmlns:dc=\"http://purl.org/dc/elements/1.1/\" xmlns:rdf=\"http://www.w3.org/1999/02/22-rdf-syntax-ns#\">\n   <cc:Work>\n    <dc:type rdf:resource=\"http://purl.org/dc/dcmitype/StillImage\"/>\n    <dc:date>2021-01-26T12:38:48.700782</dc:date>\n    <dc:format>image/svg+xml</dc:format>\n    <dc:creator>\n     <cc:Agent>\n      <dc:title>Matplotlib v3.3.3, https://matplotlib.org/</dc:title>\n     </cc:Agent>\n    </dc:creator>\n   </cc:Work>\n  </rdf:RDF>\n </metadata>\n <defs>\n  <style type=\"text/css\">*{stroke-linecap:butt;stroke-linejoin:round;}</style>\n </defs>\n <g id=\"figure_1\">\n  <g id=\"patch_1\">\n   <path d=\"M 0 317.99625 \nL 1710.142188 317.99625 \nL 1710.142188 0 \nL 0 0 \nz\n\" style=\"fill:none;\"/>\n  </g>\n  <g id=\"axes_1\">\n   <g id=\"patch_2\">\n    <path d=\"M 28.942188 294.118125 \nL 1702.942188 294.118125 \nL 1702.942188 22.318125 \nL 28.942188 22.318125 \nz\n\" style=\"fill:#ffffff;\"/>\n   </g>\n   <g id=\"patch_3\">\n    <path clip-path=\"url(#pddb22ac3e1)\" d=\"M 105.033097 129.929744 \nL 133.478296 129.929744 \nL 133.478296 132.664203 \nL 105.033097 132.664203 \nz\n\" style=\"fill:#1f77b4;\"/>\n   </g>\n   <g id=\"patch_4\">\n    <path clip-path=\"url(#pddb22ac3e1)\" d=\"M 140.589596 129.929744 \nL 169.034796 129.929744 \nL 169.034796 106.394614 \nL 140.589596 106.394614 \nz\n\" style=\"fill:#1f77b4;\"/>\n   </g>\n   <g id=\"patch_5\">\n    <path clip-path=\"url(#pddb22ac3e1)\" d=\"M 176.146096 129.929744 \nL 204.591295 129.929744 \nL 204.591295 160.363743 \nL 176.146096 160.363743 \nz\n\" style=\"fill:#1f77b4;\"/>\n   </g>\n   <g id=\"patch_6\">\n    <path clip-path=\"url(#pddb22ac3e1)\" d=\"M 211.702595 129.929744 \nL 240.147795 129.929744 \nL 240.147795 145.382305 \nL 211.702595 145.382305 \nz\n\" style=\"fill:#1f77b4;\"/>\n   </g>\n   <g id=\"patch_7\">\n    <path clip-path=\"url(#pddb22ac3e1)\" d=\"M 247.259095 129.929744 \nL 275.704295 129.929744 \nL 275.704295 128.407676 \nL 247.259095 128.407676 \nz\n\" style=\"fill:#1f77b4;\"/>\n   </g>\n   <g id=\"patch_8\">\n    <path clip-path=\"url(#pddb22ac3e1)\" d=\"M 282.815594 129.929744 \nL 311.260794 129.929744 \nL 311.260794 128.407652 \nL 282.815594 128.407652 \nz\n\" style=\"fill:#1f77b4;\"/>\n   </g>\n   <g id=\"patch_9\">\n    <path clip-path=\"url(#pddb22ac3e1)\" d=\"M 318.372094 129.929744 \nL 346.817294 129.929744 \nL 346.817294 58.045607 \nL 318.372094 58.045607 \nz\n\" style=\"fill:#1f77b4;\"/>\n   </g>\n   <g id=\"patch_10\">\n    <path clip-path=\"url(#pddb22ac3e1)\" d=\"M 353.928594 129.929744 \nL 382.373793 129.929744 \nL 382.373793 88.52196 \nL 353.928594 88.52196 \nz\n\" style=\"fill:#1f77b4;\"/>\n   </g>\n   <g id=\"patch_11\">\n    <path clip-path=\"url(#pddb22ac3e1)\" d=\"M 389.485093 129.929744 \nL 417.930293 129.929744 \nL 417.930293 104.55955 \nL 389.485093 104.55955 \nz\n\" style=\"fill:#1f77b4;\"/>\n   </g>\n   <g id=\"patch_12\">\n    <path clip-path=\"url(#pddb22ac3e1)\" d=\"M 425.041593 129.929744 \nL 453.486792 129.929744 \nL 453.486792 126.325408 \nL 425.041593 126.325408 \nz\n\" style=\"fill:#1f77b4;\"/>\n   </g>\n   <g id=\"patch_13\">\n    <path clip-path=\"url(#pddb22ac3e1)\" d=\"M 460.598092 129.929744 \nL 489.043292 129.929744 \nL 489.043292 146.433128 \nL 460.598092 146.433128 \nz\n\" style=\"fill:#1f77b4;\"/>\n   </g>\n   <g id=\"patch_14\">\n    <path clip-path=\"url(#pddb22ac3e1)\" d=\"M 496.154592 129.929744 \nL 524.599792 129.929744 \nL 524.599792 131.190893 \nL 496.154592 131.190893 \nz\n\" style=\"fill:#1f77b4;\"/>\n   </g>\n   <g id=\"patch_15\">\n    <path clip-path=\"url(#pddb22ac3e1)\" d=\"M 531.711091 129.929744 \nL 560.156291 129.929744 \nL 560.156291 129.929744 \nL 531.711091 129.929744 \nz\n\" style=\"fill:#1f77b4;\"/>\n   </g>\n   <g id=\"patch_16\">\n    <path clip-path=\"url(#pddb22ac3e1)\" d=\"M 567.267591 129.929744 \nL 595.712791 129.929744 \nL 595.712791 155.31178 \nL 567.267591 155.31178 \nz\n\" style=\"fill:#1f77b4;\"/>\n   </g>\n   <g id=\"patch_17\">\n    <path clip-path=\"url(#pddb22ac3e1)\" d=\"M 602.824091 129.929744 \nL 631.26929 129.929744 \nL 631.26929 153.516426 \nL 602.824091 153.516426 \nz\n\" style=\"fill:#1f77b4;\"/>\n   </g>\n   <g id=\"patch_18\">\n    <path clip-path=\"url(#pddb22ac3e1)\" d=\"M 638.38059 129.929744 \nL 666.82579 129.929744 \nL 666.82579 93.430411 \nL 638.38059 93.430411 \nz\n\" style=\"fill:#1f77b4;\"/>\n   </g>\n   <g id=\"patch_19\">\n    <path clip-path=\"url(#pddb22ac3e1)\" d=\"M 673.93709 129.929744 \nL 702.382289 129.929744 \nL 702.382289 75.588862 \nL 673.93709 75.588862 \nz\n\" style=\"fill:#1f77b4;\"/>\n   </g>\n   <g id=\"patch_20\">\n    <path clip-path=\"url(#pddb22ac3e1)\" d=\"M 709.493589 129.929744 \nL 737.938789 129.929744 \nL 737.938789 147.74238 \nL 709.493589 147.74238 \nz\n\" style=\"fill:#1f77b4;\"/>\n   </g>\n   <g id=\"patch_21\">\n    <path clip-path=\"url(#pddb22ac3e1)\" d=\"M 745.050089 129.929744 \nL 773.495289 129.929744 \nL 773.495289 34.67267 \nL 745.050089 34.67267 \nz\n\" style=\"fill:#1f77b4;\"/>\n   </g>\n   <g id=\"patch_22\">\n    <path clip-path=\"url(#pddb22ac3e1)\" d=\"M 780.606589 129.929744 \nL 809.051788 129.929744 \nL 809.051788 139.91588 \nL 780.606589 139.91588 \nz\n\" style=\"fill:#1f77b4;\"/>\n   </g>\n   <g id=\"patch_23\">\n    <path clip-path=\"url(#pddb22ac3e1)\" d=\"M 816.163088 129.929744 \nL 844.608288 129.929744 \nL 844.608288 44.743305 \nL 816.163088 44.743305 \nz\n\" style=\"fill:#1f77b4;\"/>\n   </g>\n   <g id=\"patch_24\">\n    <path clip-path=\"url(#pddb22ac3e1)\" d=\"M 851.719588 129.929744 \nL 880.164787 129.929744 \nL 880.164787 147.74238 \nL 851.719588 147.74238 \nz\n\" style=\"fill:#1f77b4;\"/>\n   </g>\n   <g id=\"patch_25\">\n    <path clip-path=\"url(#pddb22ac3e1)\" d=\"M 887.276087 129.929744 \nL 915.721287 129.929744 \nL 915.721287 34.67267 \nL 887.276087 34.67267 \nz\n\" style=\"fill:#1f77b4;\"/>\n   </g>\n   <g id=\"patch_26\">\n    <path clip-path=\"url(#pddb22ac3e1)\" d=\"M 922.832587 129.929744 \nL 951.277786 129.929744 \nL 951.277786 139.91588 \nL 922.832587 139.91588 \nz\n\" style=\"fill:#1f77b4;\"/>\n   </g>\n   <g id=\"patch_27\">\n    <path clip-path=\"url(#pddb22ac3e1)\" d=\"M 958.389086 129.929744 \nL 986.834286 129.929744 \nL 986.834286 44.743305 \nL 958.389086 44.743305 \nz\n\" style=\"fill:#1f77b4;\"/>\n   </g>\n   <g id=\"patch_28\">\n    <path clip-path=\"url(#pddb22ac3e1)\" d=\"M 993.945586 129.929744 \nL 1022.390786 129.929744 \nL 1022.390786 118.345117 \nL 993.945586 118.345117 \nz\n\" style=\"fill:#1f77b4;\"/>\n   </g>\n   <g id=\"patch_29\">\n    <path clip-path=\"url(#pddb22ac3e1)\" d=\"M 1029.502086 129.929744 \nL 1057.947285 129.929744 \nL 1057.947285 115.870652 \nL 1029.502086 115.870652 \nz\n\" style=\"fill:#1f77b4;\"/>\n   </g>\n   <g id=\"patch_30\">\n    <path clip-path=\"url(#pddb22ac3e1)\" d=\"M 1065.058585 129.929744 \nL 1093.503785 129.929744 \nL 1093.503785 130.133125 \nL 1065.058585 130.133125 \nz\n\" style=\"fill:#1f77b4;\"/>\n   </g>\n   <g id=\"patch_31\">\n    <path clip-path=\"url(#pddb22ac3e1)\" d=\"M 1100.615085 129.929744 \nL 1129.060284 129.929744 \nL 1129.060284 136.528404 \nL 1100.615085 136.528404 \nz\n\" style=\"fill:#1f77b4;\"/>\n   </g>\n   <g id=\"patch_32\">\n    <path clip-path=\"url(#pddb22ac3e1)\" d=\"M 1136.171584 129.929744 \nL 1164.616784 129.929744 \nL 1164.616784 134.490167 \nL 1136.171584 134.490167 \nz\n\" style=\"fill:#1f77b4;\"/>\n   </g>\n   <g id=\"patch_33\">\n    <path clip-path=\"url(#pddb22ac3e1)\" d=\"M 1171.728084 129.929744 \nL 1200.173284 129.929744 \nL 1200.173284 133.227923 \nL 1171.728084 133.227923 \nz\n\" style=\"fill:#1f77b4;\"/>\n   </g>\n   <g id=\"patch_34\">\n    <path clip-path=\"url(#pddb22ac3e1)\" d=\"M 1207.284583 129.929744 \nL 1235.729783 129.929744 \nL 1235.729783 131.180044 \nL 1207.284583 131.180044 \nz\n\" style=\"fill:#1f77b4;\"/>\n   </g>\n   <g id=\"patch_35\">\n    <path clip-path=\"url(#pddb22ac3e1)\" d=\"M 1242.841083 129.929744 \nL 1271.286283 129.929744 \nL 1271.286283 129.126097 \nL 1242.841083 129.126097 \nz\n\" style=\"fill:#1f77b4;\"/>\n   </g>\n   <g id=\"patch_36\">\n    <path clip-path=\"url(#pddb22ac3e1)\" d=\"M 1278.397583 129.929744 \nL 1306.842782 129.929744 \nL 1306.842782 118.809616 \nL 1278.397583 118.809616 \nz\n\" style=\"fill:#1f77b4;\"/>\n   </g>\n   <g id=\"patch_37\">\n    <path clip-path=\"url(#pddb22ac3e1)\" d=\"M 1313.954082 129.929744 \nL 1342.399282 129.929744 \nL 1342.399282 125.790589 \nL 1313.954082 125.790589 \nz\n\" style=\"fill:#1f77b4;\"/>\n   </g>\n   <g id=\"patch_38\">\n    <path clip-path=\"url(#pddb22ac3e1)\" d=\"M 1349.510582 129.929744 \nL 1377.955781 129.929744 \nL 1377.955781 138.559878 \nL 1349.510582 138.559878 \nz\n\" style=\"fill:#1f77b4;\"/>\n   </g>\n   <g id=\"patch_39\">\n    <path clip-path=\"url(#pddb22ac3e1)\" d=\"M 1385.067081 129.929744 \nL 1413.512281 129.929744 \nL 1413.512281 139.764056 \nL 1385.067081 139.764056 \nz\n\" style=\"fill:#1f77b4;\"/>\n   </g>\n   <g id=\"patch_40\">\n    <path clip-path=\"url(#pddb22ac3e1)\" d=\"M 1420.623581 129.929744 \nL 1449.068781 129.929744 \nL 1449.068781 141.677466 \nL 1420.623581 141.677466 \nz\n\" style=\"fill:#1f77b4;\"/>\n   </g>\n   <g id=\"patch_41\">\n    <path clip-path=\"url(#pddb22ac3e1)\" d=\"M 1456.18008 129.929744 \nL 1484.62528 129.929744 \nL 1484.62528 143.553735 \nL 1456.18008 143.553735 \nz\n\" style=\"fill:#1f77b4;\"/>\n   </g>\n   <g id=\"patch_42\">\n    <path clip-path=\"url(#pddb22ac3e1)\" d=\"M 1491.73658 129.929744 \nL 1520.18178 129.929744 \nL 1520.18178 127.854165 \nL 1491.73658 127.854165 \nz\n\" style=\"fill:#1f77b4;\"/>\n   </g>\n   <g id=\"patch_43\">\n    <path clip-path=\"url(#pddb22ac3e1)\" d=\"M 1527.29308 129.929744 \nL 1555.738279 129.929744 \nL 1555.738279 146.513061 \nL 1527.29308 146.513061 \nz\n\" style=\"fill:#1f77b4;\"/>\n   </g>\n   <g id=\"patch_44\">\n    <path clip-path=\"url(#pddb22ac3e1)\" d=\"M 1562.849579 129.929744 \nL 1591.294779 129.929744 \nL 1591.294779 202.431932 \nL 1562.849579 202.431932 \nz\n\" style=\"fill:#1f77b4;\"/>\n   </g>\n   <g id=\"patch_45\">\n    <path clip-path=\"url(#pddb22ac3e1)\" d=\"M 1598.406079 129.929744 \nL 1626.851278 129.929744 \nL 1626.851278 281.76358 \nL 1598.406079 281.76358 \nz\n\" style=\"fill:#1f77b4;\"/>\n   </g>\n   <g id=\"matplotlib.axis_1\">\n    <g id=\"xtick_1\">\n     <g id=\"line2d_1\">\n      <defs>\n       <path d=\"M 0 0 \nL 0 3.5 \n\" id=\"mdcb3ee6af7\" style=\"stroke:#000000;stroke-width:0.8;\"/>\n      </defs>\n      <g>\n       <use style=\"stroke:#000000;stroke-width:0.8;\" x=\"119.255696\" xlink:href=\"#mdcb3ee6af7\" y=\"294.118125\"/>\n      </g>\n     </g>\n     <g id=\"text_1\">\n      <!-- 0 -->\n      <g transform=\"translate(116.074446 308.716563)scale(0.1 -0.1)\">\n       <defs>\n        <path d=\"M 31.78125 66.40625 \nQ 24.171875 66.40625 20.328125 58.90625 \nQ 16.5 51.421875 16.5 36.375 \nQ 16.5 21.390625 20.328125 13.890625 \nQ 24.171875 6.390625 31.78125 6.390625 \nQ 39.453125 6.390625 43.28125 13.890625 \nQ 47.125 21.390625 47.125 36.375 \nQ 47.125 51.421875 43.28125 58.90625 \nQ 39.453125 66.40625 31.78125 66.40625 \nz\nM 31.78125 74.21875 \nQ 44.046875 74.21875 50.515625 64.515625 \nQ 56.984375 54.828125 56.984375 36.375 \nQ 56.984375 17.96875 50.515625 8.265625 \nQ 44.046875 -1.421875 31.78125 -1.421875 \nQ 19.53125 -1.421875 13.0625 8.265625 \nQ 6.59375 17.96875 6.59375 36.375 \nQ 6.59375 54.828125 13.0625 64.515625 \nQ 19.53125 74.21875 31.78125 74.21875 \nz\n\" id=\"DejaVuSans-48\"/>\n       </defs>\n       <use xlink:href=\"#DejaVuSans-48\"/>\n      </g>\n     </g>\n    </g>\n    <g id=\"xtick_2\">\n     <g id=\"line2d_2\">\n      <g>\n       <use style=\"stroke:#000000;stroke-width:0.8;\" x=\"474.820692\" xlink:href=\"#mdcb3ee6af7\" y=\"294.118125\"/>\n      </g>\n     </g>\n     <g id=\"text_2\">\n      <!-- 10 -->\n      <g transform=\"translate(468.458192 308.716563)scale(0.1 -0.1)\">\n       <defs>\n        <path d=\"M 12.40625 8.296875 \nL 28.515625 8.296875 \nL 28.515625 63.921875 \nL 10.984375 60.40625 \nL 10.984375 69.390625 \nL 28.421875 72.90625 \nL 38.28125 72.90625 \nL 38.28125 8.296875 \nL 54.390625 8.296875 \nL 54.390625 0 \nL 12.40625 0 \nz\n\" id=\"DejaVuSans-49\"/>\n       </defs>\n       <use xlink:href=\"#DejaVuSans-49\"/>\n       <use x=\"63.623047\" xlink:href=\"#DejaVuSans-48\"/>\n      </g>\n     </g>\n    </g>\n    <g id=\"xtick_3\">\n     <g id=\"line2d_3\">\n      <g>\n       <use style=\"stroke:#000000;stroke-width:0.8;\" x=\"830.385688\" xlink:href=\"#mdcb3ee6af7\" y=\"294.118125\"/>\n      </g>\n     </g>\n     <g id=\"text_3\">\n      <!-- 20 -->\n      <g transform=\"translate(824.023188 308.716563)scale(0.1 -0.1)\">\n       <defs>\n        <path d=\"M 19.1875 8.296875 \nL 53.609375 8.296875 \nL 53.609375 0 \nL 7.328125 0 \nL 7.328125 8.296875 \nQ 12.9375 14.109375 22.625 23.890625 \nQ 32.328125 33.6875 34.8125 36.53125 \nQ 39.546875 41.84375 41.421875 45.53125 \nQ 43.3125 49.21875 43.3125 52.78125 \nQ 43.3125 58.59375 39.234375 62.25 \nQ 35.15625 65.921875 28.609375 65.921875 \nQ 23.96875 65.921875 18.8125 64.3125 \nQ 13.671875 62.703125 7.8125 59.421875 \nL 7.8125 69.390625 \nQ 13.765625 71.78125 18.9375 73 \nQ 24.125 74.21875 28.421875 74.21875 \nQ 39.75 74.21875 46.484375 68.546875 \nQ 53.21875 62.890625 53.21875 53.421875 \nQ 53.21875 48.921875 51.53125 44.890625 \nQ 49.859375 40.875 45.40625 35.40625 \nQ 44.1875 33.984375 37.640625 27.21875 \nQ 31.109375 20.453125 19.1875 8.296875 \nz\n\" id=\"DejaVuSans-50\"/>\n       </defs>\n       <use xlink:href=\"#DejaVuSans-50\"/>\n       <use x=\"63.623047\" xlink:href=\"#DejaVuSans-48\"/>\n      </g>\n     </g>\n    </g>\n    <g id=\"xtick_4\">\n     <g id=\"line2d_4\">\n      <g>\n       <use style=\"stroke:#000000;stroke-width:0.8;\" x=\"1185.950684\" xlink:href=\"#mdcb3ee6af7\" y=\"294.118125\"/>\n      </g>\n     </g>\n     <g id=\"text_4\">\n      <!-- 30 -->\n      <g transform=\"translate(1179.588184 308.716563)scale(0.1 -0.1)\">\n       <defs>\n        <path d=\"M 40.578125 39.3125 \nQ 47.65625 37.796875 51.625 33 \nQ 55.609375 28.21875 55.609375 21.1875 \nQ 55.609375 10.40625 48.1875 4.484375 \nQ 40.765625 -1.421875 27.09375 -1.421875 \nQ 22.515625 -1.421875 17.65625 -0.515625 \nQ 12.796875 0.390625 7.625 2.203125 \nL 7.625 11.71875 \nQ 11.71875 9.328125 16.59375 8.109375 \nQ 21.484375 6.890625 26.8125 6.890625 \nQ 36.078125 6.890625 40.9375 10.546875 \nQ 45.796875 14.203125 45.796875 21.1875 \nQ 45.796875 27.640625 41.28125 31.265625 \nQ 36.765625 34.90625 28.71875 34.90625 \nL 20.21875 34.90625 \nL 20.21875 43.015625 \nL 29.109375 43.015625 \nQ 36.375 43.015625 40.234375 45.921875 \nQ 44.09375 48.828125 44.09375 54.296875 \nQ 44.09375 59.90625 40.109375 62.90625 \nQ 36.140625 65.921875 28.71875 65.921875 \nQ 24.65625 65.921875 20.015625 65.03125 \nQ 15.375 64.15625 9.8125 62.3125 \nL 9.8125 71.09375 \nQ 15.4375 72.65625 20.34375 73.4375 \nQ 25.25 74.21875 29.59375 74.21875 \nQ 40.828125 74.21875 47.359375 69.109375 \nQ 53.90625 64.015625 53.90625 55.328125 \nQ 53.90625 49.265625 50.4375 45.09375 \nQ 46.96875 40.921875 40.578125 39.3125 \nz\n\" id=\"DejaVuSans-51\"/>\n       </defs>\n       <use xlink:href=\"#DejaVuSans-51\"/>\n       <use x=\"63.623047\" xlink:href=\"#DejaVuSans-48\"/>\n      </g>\n     </g>\n    </g>\n    <g id=\"xtick_5\">\n     <g id=\"line2d_5\">\n      <g>\n       <use style=\"stroke:#000000;stroke-width:0.8;\" x=\"1541.515679\" xlink:href=\"#mdcb3ee6af7\" y=\"294.118125\"/>\n      </g>\n     </g>\n     <g id=\"text_5\">\n      <!-- 40 -->\n      <g transform=\"translate(1535.153179 308.716563)scale(0.1 -0.1)\">\n       <defs>\n        <path d=\"M 37.796875 64.3125 \nL 12.890625 25.390625 \nL 37.796875 25.390625 \nz\nM 35.203125 72.90625 \nL 47.609375 72.90625 \nL 47.609375 25.390625 \nL 58.015625 25.390625 \nL 58.015625 17.1875 \nL 47.609375 17.1875 \nL 47.609375 0 \nL 37.796875 0 \nL 37.796875 17.1875 \nL 4.890625 17.1875 \nL 4.890625 26.703125 \nz\n\" id=\"DejaVuSans-52\"/>\n       </defs>\n       <use xlink:href=\"#DejaVuSans-52\"/>\n       <use x=\"63.623047\" xlink:href=\"#DejaVuSans-48\"/>\n      </g>\n     </g>\n    </g>\n   </g>\n   <g id=\"matplotlib.axis_2\">\n    <g id=\"ytick_1\">\n     <g id=\"line2d_6\">\n      <defs>\n       <path d=\"M 0 0 \nL -3.5 0 \n\" id=\"m128a617fb6\" style=\"stroke:#000000;stroke-width:0.8;\"/>\n      </defs>\n      <g>\n       <use style=\"stroke:#000000;stroke-width:0.8;\" x=\"28.942188\" xlink:href=\"#m128a617fb6\" y=\"281.143163\"/>\n      </g>\n     </g>\n     <g id=\"text_6\">\n      <!-- −3 -->\n      <g transform=\"translate(7.2 284.942382)scale(0.1 -0.1)\">\n       <defs>\n        <path d=\"M 10.59375 35.5 \nL 73.1875 35.5 \nL 73.1875 27.203125 \nL 10.59375 27.203125 \nz\n\" id=\"DejaVuSans-8722\"/>\n       </defs>\n       <use xlink:href=\"#DejaVuSans-8722\"/>\n       <use x=\"83.789062\" xlink:href=\"#DejaVuSans-51\"/>\n      </g>\n     </g>\n    </g>\n    <g id=\"ytick_2\">\n     <g id=\"line2d_7\">\n      <g>\n       <use style=\"stroke:#000000;stroke-width:0.8;\" x=\"28.942188\" xlink:href=\"#m128a617fb6\" y=\"230.73869\"/>\n      </g>\n     </g>\n     <g id=\"text_7\">\n      <!-- −2 -->\n      <g transform=\"translate(7.2 234.537909)scale(0.1 -0.1)\">\n       <use xlink:href=\"#DejaVuSans-8722\"/>\n       <use x=\"83.789062\" xlink:href=\"#DejaVuSans-50\"/>\n      </g>\n     </g>\n    </g>\n    <g id=\"ytick_3\">\n     <g id=\"line2d_8\">\n      <g>\n       <use style=\"stroke:#000000;stroke-width:0.8;\" x=\"28.942188\" xlink:href=\"#m128a617fb6\" y=\"180.334217\"/>\n      </g>\n     </g>\n     <g id=\"text_8\">\n      <!-- −1 -->\n      <g transform=\"translate(7.2 184.133436)scale(0.1 -0.1)\">\n       <use xlink:href=\"#DejaVuSans-8722\"/>\n       <use x=\"83.789062\" xlink:href=\"#DejaVuSans-49\"/>\n      </g>\n     </g>\n    </g>\n    <g id=\"ytick_4\">\n     <g id=\"line2d_9\">\n      <g>\n       <use style=\"stroke:#000000;stroke-width:0.8;\" x=\"28.942188\" xlink:href=\"#m128a617fb6\" y=\"129.929744\"/>\n      </g>\n     </g>\n     <g id=\"text_9\">\n      <!-- 0 -->\n      <g transform=\"translate(15.579688 133.728963)scale(0.1 -0.1)\">\n       <use xlink:href=\"#DejaVuSans-48\"/>\n      </g>\n     </g>\n    </g>\n    <g id=\"ytick_5\">\n     <g id=\"line2d_10\">\n      <g>\n       <use style=\"stroke:#000000;stroke-width:0.8;\" x=\"28.942188\" xlink:href=\"#m128a617fb6\" y=\"79.525271\"/>\n      </g>\n     </g>\n     <g id=\"text_10\">\n      <!-- 1 -->\n      <g transform=\"translate(15.579688 83.32449)scale(0.1 -0.1)\">\n       <use xlink:href=\"#DejaVuSans-49\"/>\n      </g>\n     </g>\n    </g>\n    <g id=\"ytick_6\">\n     <g id=\"line2d_11\">\n      <g>\n       <use style=\"stroke:#000000;stroke-width:0.8;\" x=\"28.942188\" xlink:href=\"#m128a617fb6\" y=\"29.120798\"/>\n      </g>\n     </g>\n     <g id=\"text_11\">\n      <!-- 2 -->\n      <g transform=\"translate(15.579688 32.920017)scale(0.1 -0.1)\">\n       <use xlink:href=\"#DejaVuSans-50\"/>\n      </g>\n     </g>\n    </g>\n   </g>\n   <g id=\"patch_46\">\n    <path d=\"M 28.942188 294.118125 \nL 28.942188 22.318125 \n\" style=\"fill:none;stroke:#000000;stroke-linecap:square;stroke-linejoin:miter;stroke-width:0.8;\"/>\n   </g>\n   <g id=\"patch_47\">\n    <path d=\"M 1702.942188 294.118125 \nL 1702.942188 22.318125 \n\" style=\"fill:none;stroke:#000000;stroke-linecap:square;stroke-linejoin:miter;stroke-width:0.8;\"/>\n   </g>\n   <g id=\"patch_48\">\n    <path d=\"M 28.942188 294.118125 \nL 1702.942187 294.118125 \n\" style=\"fill:none;stroke:#000000;stroke-linecap:square;stroke-linejoin:miter;stroke-width:0.8;\"/>\n   </g>\n   <g id=\"patch_49\">\n    <path d=\"M 28.942188 22.318125 \nL 1702.942187 22.318125 \n\" style=\"fill:none;stroke:#000000;stroke-linecap:square;stroke-linejoin:miter;stroke-width:0.8;\"/>\n   </g>\n   <g id=\"text_12\">\n    <!-- Feature Importance in Logistic Regression for Sell Signal -->\n    <g transform=\"translate(696.912813 16.318125)scale(0.12 -0.12)\">\n     <defs>\n      <path d=\"M 9.8125 72.90625 \nL 51.703125 72.90625 \nL 51.703125 64.59375 \nL 19.671875 64.59375 \nL 19.671875 43.109375 \nL 48.578125 43.109375 \nL 48.578125 34.8125 \nL 19.671875 34.8125 \nL 19.671875 0 \nL 9.8125 0 \nz\n\" id=\"DejaVuSans-70\"/>\n      <path d=\"M 56.203125 29.59375 \nL 56.203125 25.203125 \nL 14.890625 25.203125 \nQ 15.484375 15.921875 20.484375 11.0625 \nQ 25.484375 6.203125 34.421875 6.203125 \nQ 39.59375 6.203125 44.453125 7.46875 \nQ 49.3125 8.734375 54.109375 11.28125 \nL 54.109375 2.78125 \nQ 49.265625 0.734375 44.1875 -0.34375 \nQ 39.109375 -1.421875 33.890625 -1.421875 \nQ 20.796875 -1.421875 13.15625 6.1875 \nQ 5.515625 13.8125 5.515625 26.8125 \nQ 5.515625 40.234375 12.765625 48.109375 \nQ 20.015625 56 32.328125 56 \nQ 43.359375 56 49.78125 48.890625 \nQ 56.203125 41.796875 56.203125 29.59375 \nz\nM 47.21875 32.234375 \nQ 47.125 39.59375 43.09375 43.984375 \nQ 39.0625 48.390625 32.421875 48.390625 \nQ 24.90625 48.390625 20.390625 44.140625 \nQ 15.875 39.890625 15.1875 32.171875 \nz\n\" id=\"DejaVuSans-101\"/>\n      <path d=\"M 34.28125 27.484375 \nQ 23.390625 27.484375 19.1875 25 \nQ 14.984375 22.515625 14.984375 16.5 \nQ 14.984375 11.71875 18.140625 8.90625 \nQ 21.296875 6.109375 26.703125 6.109375 \nQ 34.1875 6.109375 38.703125 11.40625 \nQ 43.21875 16.703125 43.21875 25.484375 \nL 43.21875 27.484375 \nz\nM 52.203125 31.203125 \nL 52.203125 0 \nL 43.21875 0 \nL 43.21875 8.296875 \nQ 40.140625 3.328125 35.546875 0.953125 \nQ 30.953125 -1.421875 24.3125 -1.421875 \nQ 15.921875 -1.421875 10.953125 3.296875 \nQ 6 8.015625 6 15.921875 \nQ 6 25.140625 12.171875 29.828125 \nQ 18.359375 34.515625 30.609375 34.515625 \nL 43.21875 34.515625 \nL 43.21875 35.40625 \nQ 43.21875 41.609375 39.140625 45 \nQ 35.0625 48.390625 27.6875 48.390625 \nQ 23 48.390625 18.546875 47.265625 \nQ 14.109375 46.140625 10.015625 43.890625 \nL 10.015625 52.203125 \nQ 14.9375 54.109375 19.578125 55.046875 \nQ 24.21875 56 28.609375 56 \nQ 40.484375 56 46.34375 49.84375 \nQ 52.203125 43.703125 52.203125 31.203125 \nz\n\" id=\"DejaVuSans-97\"/>\n      <path d=\"M 18.3125 70.21875 \nL 18.3125 54.6875 \nL 36.8125 54.6875 \nL 36.8125 47.703125 \nL 18.3125 47.703125 \nL 18.3125 18.015625 \nQ 18.3125 11.328125 20.140625 9.421875 \nQ 21.96875 7.515625 27.59375 7.515625 \nL 36.8125 7.515625 \nL 36.8125 0 \nL 27.59375 0 \nQ 17.1875 0 13.234375 3.875 \nQ 9.28125 7.765625 9.28125 18.015625 \nL 9.28125 47.703125 \nL 2.6875 47.703125 \nL 2.6875 54.6875 \nL 9.28125 54.6875 \nL 9.28125 70.21875 \nz\n\" id=\"DejaVuSans-116\"/>\n      <path d=\"M 8.5 21.578125 \nL 8.5 54.6875 \nL 17.484375 54.6875 \nL 17.484375 21.921875 \nQ 17.484375 14.15625 20.5 10.265625 \nQ 23.53125 6.390625 29.59375 6.390625 \nQ 36.859375 6.390625 41.078125 11.03125 \nQ 45.3125 15.671875 45.3125 23.6875 \nL 45.3125 54.6875 \nL 54.296875 54.6875 \nL 54.296875 0 \nL 45.3125 0 \nL 45.3125 8.40625 \nQ 42.046875 3.421875 37.71875 1 \nQ 33.40625 -1.421875 27.6875 -1.421875 \nQ 18.265625 -1.421875 13.375 4.4375 \nQ 8.5 10.296875 8.5 21.578125 \nz\nM 31.109375 56 \nz\n\" id=\"DejaVuSans-117\"/>\n      <path d=\"M 41.109375 46.296875 \nQ 39.59375 47.171875 37.8125 47.578125 \nQ 36.03125 48 33.890625 48 \nQ 26.265625 48 22.1875 43.046875 \nQ 18.109375 38.09375 18.109375 28.8125 \nL 18.109375 0 \nL 9.078125 0 \nL 9.078125 54.6875 \nL 18.109375 54.6875 \nL 18.109375 46.1875 \nQ 20.953125 51.171875 25.484375 53.578125 \nQ 30.03125 56 36.53125 56 \nQ 37.453125 56 38.578125 55.875 \nQ 39.703125 55.765625 41.0625 55.515625 \nz\n\" id=\"DejaVuSans-114\"/>\n      <path id=\"DejaVuSans-32\"/>\n      <path d=\"M 9.8125 72.90625 \nL 19.671875 72.90625 \nL 19.671875 0 \nL 9.8125 0 \nz\n\" id=\"DejaVuSans-73\"/>\n      <path d=\"M 52 44.1875 \nQ 55.375 50.25 60.0625 53.125 \nQ 64.75 56 71.09375 56 \nQ 79.640625 56 84.28125 50.015625 \nQ 88.921875 44.046875 88.921875 33.015625 \nL 88.921875 0 \nL 79.890625 0 \nL 79.890625 32.71875 \nQ 79.890625 40.578125 77.09375 44.375 \nQ 74.3125 48.1875 68.609375 48.1875 \nQ 61.625 48.1875 57.5625 43.546875 \nQ 53.515625 38.921875 53.515625 30.90625 \nL 53.515625 0 \nL 44.484375 0 \nL 44.484375 32.71875 \nQ 44.484375 40.625 41.703125 44.40625 \nQ 38.921875 48.1875 33.109375 48.1875 \nQ 26.21875 48.1875 22.15625 43.53125 \nQ 18.109375 38.875 18.109375 30.90625 \nL 18.109375 0 \nL 9.078125 0 \nL 9.078125 54.6875 \nL 18.109375 54.6875 \nL 18.109375 46.1875 \nQ 21.1875 51.21875 25.484375 53.609375 \nQ 29.78125 56 35.6875 56 \nQ 41.65625 56 45.828125 52.96875 \nQ 50 49.953125 52 44.1875 \nz\n\" id=\"DejaVuSans-109\"/>\n      <path d=\"M 18.109375 8.203125 \nL 18.109375 -20.796875 \nL 9.078125 -20.796875 \nL 9.078125 54.6875 \nL 18.109375 54.6875 \nL 18.109375 46.390625 \nQ 20.953125 51.265625 25.265625 53.625 \nQ 29.59375 56 35.59375 56 \nQ 45.5625 56 51.78125 48.09375 \nQ 58.015625 40.1875 58.015625 27.296875 \nQ 58.015625 14.40625 51.78125 6.484375 \nQ 45.5625 -1.421875 35.59375 -1.421875 \nQ 29.59375 -1.421875 25.265625 0.953125 \nQ 20.953125 3.328125 18.109375 8.203125 \nz\nM 48.6875 27.296875 \nQ 48.6875 37.203125 44.609375 42.84375 \nQ 40.53125 48.484375 33.40625 48.484375 \nQ 26.265625 48.484375 22.1875 42.84375 \nQ 18.109375 37.203125 18.109375 27.296875 \nQ 18.109375 17.390625 22.1875 11.75 \nQ 26.265625 6.109375 33.40625 6.109375 \nQ 40.53125 6.109375 44.609375 11.75 \nQ 48.6875 17.390625 48.6875 27.296875 \nz\n\" id=\"DejaVuSans-112\"/>\n      <path d=\"M 30.609375 48.390625 \nQ 23.390625 48.390625 19.1875 42.75 \nQ 14.984375 37.109375 14.984375 27.296875 \nQ 14.984375 17.484375 19.15625 11.84375 \nQ 23.34375 6.203125 30.609375 6.203125 \nQ 37.796875 6.203125 41.984375 11.859375 \nQ 46.1875 17.53125 46.1875 27.296875 \nQ 46.1875 37.015625 41.984375 42.703125 \nQ 37.796875 48.390625 30.609375 48.390625 \nz\nM 30.609375 56 \nQ 42.328125 56 49.015625 48.375 \nQ 55.71875 40.765625 55.71875 27.296875 \nQ 55.71875 13.875 49.015625 6.21875 \nQ 42.328125 -1.421875 30.609375 -1.421875 \nQ 18.84375 -1.421875 12.171875 6.21875 \nQ 5.515625 13.875 5.515625 27.296875 \nQ 5.515625 40.765625 12.171875 48.375 \nQ 18.84375 56 30.609375 56 \nz\n\" id=\"DejaVuSans-111\"/>\n      <path d=\"M 54.890625 33.015625 \nL 54.890625 0 \nL 45.90625 0 \nL 45.90625 32.71875 \nQ 45.90625 40.484375 42.875 44.328125 \nQ 39.84375 48.1875 33.796875 48.1875 \nQ 26.515625 48.1875 22.3125 43.546875 \nQ 18.109375 38.921875 18.109375 30.90625 \nL 18.109375 0 \nL 9.078125 0 \nL 9.078125 54.6875 \nL 18.109375 54.6875 \nL 18.109375 46.1875 \nQ 21.34375 51.125 25.703125 53.5625 \nQ 30.078125 56 35.796875 56 \nQ 45.21875 56 50.046875 50.171875 \nQ 54.890625 44.34375 54.890625 33.015625 \nz\n\" id=\"DejaVuSans-110\"/>\n      <path d=\"M 48.78125 52.59375 \nL 48.78125 44.1875 \nQ 44.96875 46.296875 41.140625 47.34375 \nQ 37.3125 48.390625 33.40625 48.390625 \nQ 24.65625 48.390625 19.8125 42.84375 \nQ 14.984375 37.3125 14.984375 27.296875 \nQ 14.984375 17.28125 19.8125 11.734375 \nQ 24.65625 6.203125 33.40625 6.203125 \nQ 37.3125 6.203125 41.140625 7.25 \nQ 44.96875 8.296875 48.78125 10.40625 \nL 48.78125 2.09375 \nQ 45.015625 0.34375 40.984375 -0.53125 \nQ 36.96875 -1.421875 32.421875 -1.421875 \nQ 20.0625 -1.421875 12.78125 6.34375 \nQ 5.515625 14.109375 5.515625 27.296875 \nQ 5.515625 40.671875 12.859375 48.328125 \nQ 20.21875 56 33.015625 56 \nQ 37.15625 56 41.109375 55.140625 \nQ 45.0625 54.296875 48.78125 52.59375 \nz\n\" id=\"DejaVuSans-99\"/>\n      <path d=\"M 9.421875 54.6875 \nL 18.40625 54.6875 \nL 18.40625 0 \nL 9.421875 0 \nz\nM 9.421875 75.984375 \nL 18.40625 75.984375 \nL 18.40625 64.59375 \nL 9.421875 64.59375 \nz\n\" id=\"DejaVuSans-105\"/>\n      <path d=\"M 9.8125 72.90625 \nL 19.671875 72.90625 \nL 19.671875 8.296875 \nL 55.171875 8.296875 \nL 55.171875 0 \nL 9.8125 0 \nz\n\" id=\"DejaVuSans-76\"/>\n      <path d=\"M 45.40625 27.984375 \nQ 45.40625 37.75 41.375 43.109375 \nQ 37.359375 48.484375 30.078125 48.484375 \nQ 22.859375 48.484375 18.828125 43.109375 \nQ 14.796875 37.75 14.796875 27.984375 \nQ 14.796875 18.265625 18.828125 12.890625 \nQ 22.859375 7.515625 30.078125 7.515625 \nQ 37.359375 7.515625 41.375 12.890625 \nQ 45.40625 18.265625 45.40625 27.984375 \nz\nM 54.390625 6.78125 \nQ 54.390625 -7.171875 48.1875 -13.984375 \nQ 42 -20.796875 29.203125 -20.796875 \nQ 24.46875 -20.796875 20.265625 -20.09375 \nQ 16.0625 -19.390625 12.109375 -17.921875 \nL 12.109375 -9.1875 \nQ 16.0625 -11.328125 19.921875 -12.34375 \nQ 23.78125 -13.375 27.78125 -13.375 \nQ 36.625 -13.375 41.015625 -8.765625 \nQ 45.40625 -4.15625 45.40625 5.171875 \nL 45.40625 9.625 \nQ 42.625 4.78125 38.28125 2.390625 \nQ 33.9375 0 27.875 0 \nQ 17.828125 0 11.671875 7.65625 \nQ 5.515625 15.328125 5.515625 27.984375 \nQ 5.515625 40.671875 11.671875 48.328125 \nQ 17.828125 56 27.875 56 \nQ 33.9375 56 38.28125 53.609375 \nQ 42.625 51.21875 45.40625 46.390625 \nL 45.40625 54.6875 \nL 54.390625 54.6875 \nz\n\" id=\"DejaVuSans-103\"/>\n      <path d=\"M 44.28125 53.078125 \nL 44.28125 44.578125 \nQ 40.484375 46.53125 36.375 47.5 \nQ 32.28125 48.484375 27.875 48.484375 \nQ 21.1875 48.484375 17.84375 46.4375 \nQ 14.5 44.390625 14.5 40.28125 \nQ 14.5 37.15625 16.890625 35.375 \nQ 19.28125 33.59375 26.515625 31.984375 \nL 29.59375 31.296875 \nQ 39.15625 29.25 43.1875 25.515625 \nQ 47.21875 21.78125 47.21875 15.09375 \nQ 47.21875 7.46875 41.1875 3.015625 \nQ 35.15625 -1.421875 24.609375 -1.421875 \nQ 20.21875 -1.421875 15.453125 -0.5625 \nQ 10.6875 0.296875 5.421875 2 \nL 5.421875 11.28125 \nQ 10.40625 8.6875 15.234375 7.390625 \nQ 20.0625 6.109375 24.8125 6.109375 \nQ 31.15625 6.109375 34.5625 8.28125 \nQ 37.984375 10.453125 37.984375 14.40625 \nQ 37.984375 18.0625 35.515625 20.015625 \nQ 33.0625 21.96875 24.703125 23.78125 \nL 21.578125 24.515625 \nQ 13.234375 26.265625 9.515625 29.90625 \nQ 5.8125 33.546875 5.8125 39.890625 \nQ 5.8125 47.609375 11.28125 51.796875 \nQ 16.75 56 26.8125 56 \nQ 31.78125 56 36.171875 55.265625 \nQ 40.578125 54.546875 44.28125 53.078125 \nz\n\" id=\"DejaVuSans-115\"/>\n      <path d=\"M 44.390625 34.1875 \nQ 47.5625 33.109375 50.5625 29.59375 \nQ 53.5625 26.078125 56.59375 19.921875 \nL 66.609375 0 \nL 56 0 \nL 46.6875 18.703125 \nQ 43.0625 26.03125 39.671875 28.421875 \nQ 36.28125 30.8125 30.421875 30.8125 \nL 19.671875 30.8125 \nL 19.671875 0 \nL 9.8125 0 \nL 9.8125 72.90625 \nL 32.078125 72.90625 \nQ 44.578125 72.90625 50.734375 67.671875 \nQ 56.890625 62.453125 56.890625 51.90625 \nQ 56.890625 45.015625 53.6875 40.46875 \nQ 50.484375 35.9375 44.390625 34.1875 \nz\nM 19.671875 64.796875 \nL 19.671875 38.921875 \nL 32.078125 38.921875 \nQ 39.203125 38.921875 42.84375 42.21875 \nQ 46.484375 45.515625 46.484375 51.90625 \nQ 46.484375 58.296875 42.84375 61.546875 \nQ 39.203125 64.796875 32.078125 64.796875 \nz\n\" id=\"DejaVuSans-82\"/>\n      <path d=\"M 37.109375 75.984375 \nL 37.109375 68.5 \nL 28.515625 68.5 \nQ 23.6875 68.5 21.796875 66.546875 \nQ 19.921875 64.59375 19.921875 59.515625 \nL 19.921875 54.6875 \nL 34.71875 54.6875 \nL 34.71875 47.703125 \nL 19.921875 47.703125 \nL 19.921875 0 \nL 10.890625 0 \nL 10.890625 47.703125 \nL 2.296875 47.703125 \nL 2.296875 54.6875 \nL 10.890625 54.6875 \nL 10.890625 58.5 \nQ 10.890625 67.625 15.140625 71.796875 \nQ 19.390625 75.984375 28.609375 75.984375 \nz\n\" id=\"DejaVuSans-102\"/>\n      <path d=\"M 53.515625 70.515625 \nL 53.515625 60.890625 \nQ 47.90625 63.578125 42.921875 64.890625 \nQ 37.9375 66.21875 33.296875 66.21875 \nQ 25.25 66.21875 20.875 63.09375 \nQ 16.5 59.96875 16.5 54.203125 \nQ 16.5 49.359375 19.40625 46.890625 \nQ 22.3125 44.4375 30.421875 42.921875 \nL 36.375 41.703125 \nQ 47.40625 39.59375 52.65625 34.296875 \nQ 57.90625 29 57.90625 20.125 \nQ 57.90625 9.515625 50.796875 4.046875 \nQ 43.703125 -1.421875 29.984375 -1.421875 \nQ 24.8125 -1.421875 18.96875 -0.25 \nQ 13.140625 0.921875 6.890625 3.21875 \nL 6.890625 13.375 \nQ 12.890625 10.015625 18.65625 8.296875 \nQ 24.421875 6.59375 29.984375 6.59375 \nQ 38.421875 6.59375 43.015625 9.90625 \nQ 47.609375 13.234375 47.609375 19.390625 \nQ 47.609375 24.75 44.3125 27.78125 \nQ 41.015625 30.8125 33.5 32.328125 \nL 27.484375 33.5 \nQ 16.453125 35.6875 11.515625 40.375 \nQ 6.59375 45.0625 6.59375 53.421875 \nQ 6.59375 63.09375 13.40625 68.65625 \nQ 20.21875 74.21875 32.171875 74.21875 \nQ 37.3125 74.21875 42.625 73.28125 \nQ 47.953125 72.359375 53.515625 70.515625 \nz\n\" id=\"DejaVuSans-83\"/>\n      <path d=\"M 9.421875 75.984375 \nL 18.40625 75.984375 \nL 18.40625 0 \nL 9.421875 0 \nz\n\" id=\"DejaVuSans-108\"/>\n     </defs>\n     <use xlink:href=\"#DejaVuSans-70\"/>\n     <use x=\"52.019531\" xlink:href=\"#DejaVuSans-101\"/>\n     <use x=\"113.542969\" xlink:href=\"#DejaVuSans-97\"/>\n     <use x=\"174.822266\" xlink:href=\"#DejaVuSans-116\"/>\n     <use x=\"214.03125\" xlink:href=\"#DejaVuSans-117\"/>\n     <use x=\"277.410156\" xlink:href=\"#DejaVuSans-114\"/>\n     <use x=\"316.273438\" xlink:href=\"#DejaVuSans-101\"/>\n     <use x=\"377.796875\" xlink:href=\"#DejaVuSans-32\"/>\n     <use x=\"409.583984\" xlink:href=\"#DejaVuSans-73\"/>\n     <use x=\"439.076172\" xlink:href=\"#DejaVuSans-109\"/>\n     <use x=\"536.488281\" xlink:href=\"#DejaVuSans-112\"/>\n     <use x=\"599.964844\" xlink:href=\"#DejaVuSans-111\"/>\n     <use x=\"661.146484\" xlink:href=\"#DejaVuSans-114\"/>\n     <use x=\"702.259766\" xlink:href=\"#DejaVuSans-116\"/>\n     <use x=\"741.46875\" xlink:href=\"#DejaVuSans-97\"/>\n     <use x=\"802.748047\" xlink:href=\"#DejaVuSans-110\"/>\n     <use x=\"866.126953\" xlink:href=\"#DejaVuSans-99\"/>\n     <use x=\"921.107422\" xlink:href=\"#DejaVuSans-101\"/>\n     <use x=\"982.630859\" xlink:href=\"#DejaVuSans-32\"/>\n     <use x=\"1014.417969\" xlink:href=\"#DejaVuSans-105\"/>\n     <use x=\"1042.201172\" xlink:href=\"#DejaVuSans-110\"/>\n     <use x=\"1105.580078\" xlink:href=\"#DejaVuSans-32\"/>\n     <use x=\"1137.367188\" xlink:href=\"#DejaVuSans-76\"/>\n     <use x=\"1191.330078\" xlink:href=\"#DejaVuSans-111\"/>\n     <use x=\"1252.511719\" xlink:href=\"#DejaVuSans-103\"/>\n     <use x=\"1315.988281\" xlink:href=\"#DejaVuSans-105\"/>\n     <use x=\"1343.771484\" xlink:href=\"#DejaVuSans-115\"/>\n     <use x=\"1395.871094\" xlink:href=\"#DejaVuSans-116\"/>\n     <use x=\"1435.080078\" xlink:href=\"#DejaVuSans-105\"/>\n     <use x=\"1462.863281\" xlink:href=\"#DejaVuSans-99\"/>\n     <use x=\"1517.84375\" xlink:href=\"#DejaVuSans-32\"/>\n     <use x=\"1549.630859\" xlink:href=\"#DejaVuSans-82\"/>\n     <use x=\"1614.613281\" xlink:href=\"#DejaVuSans-101\"/>\n     <use x=\"1676.136719\" xlink:href=\"#DejaVuSans-103\"/>\n     <use x=\"1739.613281\" xlink:href=\"#DejaVuSans-114\"/>\n     <use x=\"1778.476562\" xlink:href=\"#DejaVuSans-101\"/>\n     <use x=\"1840\" xlink:href=\"#DejaVuSans-115\"/>\n     <use x=\"1892.099609\" xlink:href=\"#DejaVuSans-115\"/>\n     <use x=\"1944.199219\" xlink:href=\"#DejaVuSans-105\"/>\n     <use x=\"1971.982422\" xlink:href=\"#DejaVuSans-111\"/>\n     <use x=\"2033.164062\" xlink:href=\"#DejaVuSans-110\"/>\n     <use x=\"2096.542969\" xlink:href=\"#DejaVuSans-32\"/>\n     <use x=\"2128.330078\" xlink:href=\"#DejaVuSans-102\"/>\n     <use x=\"2163.535156\" xlink:href=\"#DejaVuSans-111\"/>\n     <use x=\"2224.716797\" xlink:href=\"#DejaVuSans-114\"/>\n     <use x=\"2265.830078\" xlink:href=\"#DejaVuSans-32\"/>\n     <use x=\"2297.617188\" xlink:href=\"#DejaVuSans-83\"/>\n     <use x=\"2361.09375\" xlink:href=\"#DejaVuSans-101\"/>\n     <use x=\"2422.617188\" xlink:href=\"#DejaVuSans-108\"/>\n     <use x=\"2450.400391\" xlink:href=\"#DejaVuSans-108\"/>\n     <use x=\"2478.183594\" xlink:href=\"#DejaVuSans-32\"/>\n     <use x=\"2509.970703\" xlink:href=\"#DejaVuSans-83\"/>\n     <use x=\"2573.447266\" xlink:href=\"#DejaVuSans-105\"/>\n     <use x=\"2601.230469\" xlink:href=\"#DejaVuSans-103\"/>\n     <use x=\"2664.707031\" xlink:href=\"#DejaVuSans-110\"/>\n     <use x=\"2728.085938\" xlink:href=\"#DejaVuSans-97\"/>\n     <use x=\"2789.365234\" xlink:href=\"#DejaVuSans-108\"/>\n    </g>\n   </g>\n  </g>\n </g>\n <defs>\n  <clipPath id=\"pddb22ac3e1\">\n   <rect height=\"271.8\" width=\"1674\" x=\"28.942188\" y=\"22.318125\"/>\n  </clipPath>\n </defs>\n</svg>\n",
      "image/png": "[encoded data removed]"
     },
     "metadata": {
      "needs_background": "light"
     }
    },
    {
     "output_type": "stream",
     "name": "stdout",
     "text": [
      "CPU times: user 1.11 s, sys: 306 ms, total: 1.41 s\nWall time: 356 ms\n"
     ]
    },
    {
     "output_type": "execute_result",
     "data": {
      "text/plain": [
       "'The positive scores indicate a feature that predicts class 1, whereas the negative scores indicate a feature that predicts class 0.'"
      ]
     },
     "metadata": {},
     "execution_count": 395
    }
   ],
   "source": [
    "%%time\n",
    "# define the model\n",
    "model = LogisticRegression()\n",
    "# fit the model\n",
    "model.fit(features_train.drop(['Date','Symbol','Buy','Sell','TRACKER'],axis=1), features_train.Sell)\n",
    "# get importance\n",
    "importance = model.coef_[0]\n",
    "# summarize feature importance\n",
    "for i,v in enumerate(importance):\n",
    "\tprint('Feature: %0d, Score: %.5f' % (i,v))\n",
    "# plot feature importance\n",
    "pyplot.figure(figsize=(30,5))\n",
    "pyplot.title('Feature Importance in Logistic Regression for Sell Signal')\n",
    "pyplot.bar([x for x in range(len(importance))], importance)\n",
    "pyplot.show()\n",
    "'''The positive scores indicate a feature that predicts class 1, whereas the negative scores indicate a feature that predicts class 0.'''\n"
   ]
  },
  {
   "cell_type": "code",
   "execution_count": 396,
   "metadata": {},
   "outputs": [
    {
     "output_type": "stream",
     "name": "stdout",
     "text": [
      "Feature: 0, Score: 0.01629\nFeature: 1, Score: 0.01839\nFeature: 2, Score: 0.03415\nFeature: 3, Score: 0.01697\nFeature: 4, Score: 0.02118\nFeature: 5, Score: 0.03297\nFeature: 6, Score: 0.04280\nFeature: 7, Score: 0.03463\nFeature: 8, Score: 0.01647\nFeature: 9, Score: 0.01206\nFeature: 10, Score: 0.01515\nFeature: 11, Score: 0.01222\nFeature: 12, Score: 0.00000\nFeature: 13, Score: 0.02223\nFeature: 14, Score: 0.03216\nFeature: 15, Score: 0.01861\nFeature: 16, Score: 0.03760\nFeature: 17, Score: 0.00319\nFeature: 18, Score: 0.00775\nFeature: 19, Score: 0.01707\nFeature: 20, Score: 0.03257\nFeature: 21, Score: 0.01230\nFeature: 22, Score: 0.02670\nFeature: 23, Score: 0.02965\nFeature: 24, Score: 0.08267\nFeature: 25, Score: 0.02283\nFeature: 26, Score: 0.02140\nFeature: 27, Score: 0.01827\nFeature: 28, Score: 0.01249\nFeature: 29, Score: 0.01319\nFeature: 30, Score: 0.00842\nFeature: 31, Score: 0.00587\nFeature: 32, Score: 0.00800\nFeature: 33, Score: 0.00875\nFeature: 34, Score: 0.00840\nFeature: 35, Score: 0.01804\nFeature: 36, Score: 0.01961\nFeature: 37, Score: 0.01376\nFeature: 38, Score: 0.00641\nFeature: 39, Score: 0.00757\nFeature: 40, Score: 0.01322\nFeature: 41, Score: 0.02895\nFeature: 42, Score: 0.16902\n"
     ]
    },
    {
     "output_type": "display_data",
     "data": {
      "text/plain": "<Figure size 2160x360 with 1 Axes>",
      "image/svg+xml": "<?xml version=\"1.0\" encoding=\"utf-8\" standalone=\"no\"?>\n<!DOCTYPE svg PUBLIC \"-//W3C//DTD SVG 1.1//EN\"\n  \"http://www.w3.org/Graphics/SVG/1.1/DTD/svg11.dtd\">\n<!-- Created with matplotlib (https://matplotlib.org/) -->\n<svg height=\"317.99625pt\" version=\"1.1\" viewBox=\"0 0 1717.665625 317.99625\" width=\"1717.665625pt\" xmlns=\"http://www.w3.org/2000/svg\" xmlns:xlink=\"http://www.w3.org/1999/xlink\">\n <metadata>\n  <rdf:RDF xmlns:cc=\"http://creativecommons.org/ns#\" xmlns:dc=\"http://purl.org/dc/elements/1.1/\" xmlns:rdf=\"http://www.w3.org/1999/02/22-rdf-syntax-ns#\">\n   <cc:Work>\n    <dc:type rdf:resource=\"http://purl.org/dc/dcmitype/StillImage\"/>\n    <dc:date>2021-01-26T12:38:49.083202</dc:date>\n    <dc:format>image/svg+xml</dc:format>\n    <dc:creator>\n     <cc:Agent>\n      <dc:title>Matplotlib v3.3.3, https://matplotlib.org/</dc:title>\n     </cc:Agent>\n    </dc:creator>\n   </cc:Work>\n  </rdf:RDF>\n </metadata>\n <defs>\n  <style type=\"text/css\">*{stroke-linecap:butt;stroke-linejoin:round;}</style>\n </defs>\n <g id=\"figure_1\">\n  <g id=\"patch_1\">\n   <path d=\"M 0 317.99625 \nL 1717.665625 317.99625 \nL 1717.665625 0 \nL 0 0 \nz\n\" style=\"fill:none;\"/>\n  </g>\n  <g id=\"axes_1\">\n   <g id=\"patch_2\">\n    <path d=\"M 36.465625 294.118125 \nL 1710.465625 294.118125 \nL 1710.465625 22.318125 \nL 36.465625 22.318125 \nz\n\" style=\"fill:#ffffff;\"/>\n   </g>\n   <g id=\"patch_3\">\n    <path clip-path=\"url(#pafca09a5fe)\" d=\"M 112.556534 294.118125 \nL 141.001734 294.118125 \nL 141.001734 269.162354 \nL 112.556534 269.162354 \nz\n\" style=\"fill:#1f77b4;\"/>\n   </g>\n   <g id=\"patch_4\">\n    <path clip-path=\"url(#pafca09a5fe)\" d=\"M 148.113034 294.118125 \nL 176.558233 294.118125 \nL 176.558233 265.953303 \nL 148.113034 265.953303 \nz\n\" style=\"fill:#1f77b4;\"/>\n   </g>\n   <g id=\"patch_5\">\n    <path clip-path=\"url(#pafca09a5fe)\" d=\"M 183.669533 294.118125 \nL 212.114733 294.118125 \nL 212.114733 241.810599 \nL 183.669533 241.810599 \nz\n\" style=\"fill:#1f77b4;\"/>\n   </g>\n   <g id=\"patch_6\">\n    <path clip-path=\"url(#pafca09a5fe)\" d=\"M 219.226033 294.118125 \nL 247.671232 294.118125 \nL 247.671232 268.124993 \nL 219.226033 268.124993 \nz\n\" style=\"fill:#1f77b4;\"/>\n   </g>\n   <g id=\"patch_7\">\n    <path clip-path=\"url(#pafca09a5fe)\" d=\"M 254.782532 294.118125 \nL 283.227732 294.118125 \nL 283.227732 261.673627 \nL 254.782532 261.673627 \nz\n\" style=\"fill:#1f77b4;\"/>\n   </g>\n   <g id=\"patch_8\">\n    <path clip-path=\"url(#pafca09a5fe)\" d=\"M 290.339032 294.118125 \nL 318.784232 294.118125 \nL 318.784232 243.628799 \nL 290.339032 243.628799 \nz\n\" style=\"fill:#1f77b4;\"/>\n   </g>\n   <g id=\"patch_9\">\n    <path clip-path=\"url(#pafca09a5fe)\" d=\"M 325.895532 294.118125 \nL 354.340731 294.118125 \nL 354.340731 228.564297 \nL 325.895532 228.564297 \nz\n\" style=\"fill:#1f77b4;\"/>\n   </g>\n   <g id=\"patch_10\">\n    <path clip-path=\"url(#pafca09a5fe)\" d=\"M 361.452031 294.118125 \nL 389.897231 294.118125 \nL 389.897231 241.076401 \nL 361.452031 241.076401 \nz\n\" style=\"fill:#1f77b4;\"/>\n   </g>\n   <g id=\"patch_11\">\n    <path clip-path=\"url(#pafca09a5fe)\" d=\"M 397.008531 294.118125 \nL 425.45373 294.118125 \nL 425.45373 268.891341 \nL 397.008531 268.891341 \nz\n\" style=\"fill:#1f77b4;\"/>\n   </g>\n   <g id=\"patch_12\">\n    <path clip-path=\"url(#pafca09a5fe)\" d=\"M 432.56503 294.118125 \nL 461.01023 294.118125 \nL 461.01023 275.642812 \nL 432.56503 275.642812 \nz\n\" style=\"fill:#1f77b4;\"/>\n   </g>\n   <g id=\"patch_13\">\n    <path clip-path=\"url(#pafca09a5fe)\" d=\"M 468.12153 294.118125 \nL 496.56673 294.118125 \nL 496.56673 270.914613 \nL 468.12153 270.914613 \nz\n\" style=\"fill:#1f77b4;\"/>\n   </g>\n   <g id=\"patch_14\">\n    <path clip-path=\"url(#pafca09a5fe)\" d=\"M 503.678029 294.118125 \nL 532.123229 294.118125 \nL 532.123229 275.406002 \nL 503.678029 275.406002 \nz\n\" style=\"fill:#1f77b4;\"/>\n   </g>\n   <g id=\"patch_15\">\n    <path clip-path=\"url(#pafca09a5fe)\" d=\"M 539.234529 294.118125 \nL 567.679729 294.118125 \nL 567.679729 294.118125 \nL 539.234529 294.118125 \nz\n\" style=\"fill:#1f77b4;\"/>\n   </g>\n   <g id=\"patch_16\">\n    <path clip-path=\"url(#pafca09a5fe)\" d=\"M 574.791029 294.118125 \nL 603.236228 294.118125 \nL 603.236228 260.07929 \nL 574.791029 260.07929 \nz\n\" style=\"fill:#1f77b4;\"/>\n   </g>\n   <g id=\"patch_17\">\n    <path clip-path=\"url(#pafca09a5fe)\" d=\"M 610.347528 294.118125 \nL 638.792728 294.118125 \nL 638.792728 244.85815 \nL 610.347528 244.85815 \nz\n\" style=\"fill:#1f77b4;\"/>\n   </g>\n   <g id=\"patch_18\">\n    <path clip-path=\"url(#pafca09a5fe)\" d=\"M 645.904028 294.118125 \nL 674.349227 294.118125 \nL 674.349227 265.617599 \nL 645.904028 265.617599 \nz\n\" style=\"fill:#1f77b4;\"/>\n   </g>\n   <g id=\"patch_19\">\n    <path clip-path=\"url(#pafca09a5fe)\" d=\"M 681.460527 294.118125 \nL 709.905727 294.118125 \nL 709.905727 236.526737 \nL 681.460527 236.526737 \nz\n\" style=\"fill:#1f77b4;\"/>\n   </g>\n   <g id=\"patch_20\">\n    <path clip-path=\"url(#pafca09a5fe)\" d=\"M 717.017027 294.118125 \nL 745.462227 294.118125 \nL 745.462227 289.23273 \nL 717.017027 289.23273 \nz\n\" style=\"fill:#1f77b4;\"/>\n   </g>\n   <g id=\"patch_21\">\n    <path clip-path=\"url(#pafca09a5fe)\" d=\"M 752.573526 294.118125 \nL 781.018726 294.118125 \nL 781.018726 282.25393 \nL 752.573526 282.25393 \nz\n\" style=\"fill:#1f77b4;\"/>\n   </g>\n   <g id=\"patch_22\">\n    <path clip-path=\"url(#pafca09a5fe)\" d=\"M 788.130026 294.118125 \nL 816.575226 294.118125 \nL 816.575226 267.973885 \nL 788.130026 267.973885 \nz\n\" style=\"fill:#1f77b4;\"/>\n   </g>\n   <g id=\"patch_23\">\n    <path clip-path=\"url(#pafca09a5fe)\" d=\"M 823.686526 294.118125 \nL 852.131725 294.118125 \nL 852.131725 244.239497 \nL 823.686526 244.239497 \nz\n\" style=\"fill:#1f77b4;\"/>\n   </g>\n   <g id=\"patch_24\">\n    <path clip-path=\"url(#pafca09a5fe)\" d=\"M 859.243025 294.118125 \nL 887.688225 294.118125 \nL 887.688225 275.274072 \nL 859.243025 275.274072 \nz\n\" style=\"fill:#1f77b4;\"/>\n   </g>\n   <g id=\"patch_25\">\n    <path clip-path=\"url(#pafca09a5fe)\" d=\"M 894.799525 294.118125 \nL 923.244724 294.118125 \nL 923.244724 253.230527 \nL 894.799525 253.230527 \nz\n\" style=\"fill:#1f77b4;\"/>\n   </g>\n   <g id=\"patch_26\">\n    <path clip-path=\"url(#pafca09a5fe)\" d=\"M 930.356024 294.118125 \nL 958.801224 294.118125 \nL 958.801224 248.708087 \nL 930.356024 248.708087 \nz\n\" style=\"fill:#1f77b4;\"/>\n   </g>\n   <g id=\"patch_27\">\n    <path clip-path=\"url(#pafca09a5fe)\" d=\"M 965.912524 294.118125 \nL 994.357724 294.118125 \nL 994.357724 167.508524 \nL 965.912524 167.508524 \nz\n\" style=\"fill:#1f77b4;\"/>\n   </g>\n   <g id=\"patch_28\">\n    <path clip-path=\"url(#pafca09a5fe)\" d=\"M 1001.469023 294.118125 \nL 1029.914223 294.118125 \nL 1029.914223 259.159306 \nL 1001.469023 259.159306 \nz\n\" style=\"fill:#1f77b4;\"/>\n   </g>\n   <g id=\"patch_29\">\n    <path clip-path=\"url(#pafca09a5fe)\" d=\"M 1037.025523 294.118125 \nL 1065.470723 294.118125 \nL 1065.470723 261.346269 \nL 1037.025523 261.346269 \nz\n\" style=\"fill:#1f77b4;\"/>\n   </g>\n   <g id=\"patch_30\">\n    <path clip-path=\"url(#pafca09a5fe)\" d=\"M 1072.582023 294.118125 \nL 1101.027222 294.118125 \nL 1101.027222 266.14243 \nL 1072.582023 266.14243 \nz\n\" style=\"fill:#1f77b4;\"/>\n   </g>\n   <g id=\"patch_31\">\n    <path clip-path=\"url(#pafca09a5fe)\" d=\"M 1108.138522 294.118125 \nL 1136.583722 294.118125 \nL 1136.583722 274.985737 \nL 1108.138522 274.985737 \nz\n\" style=\"fill:#1f77b4;\"/>\n   </g>\n   <g id=\"patch_32\">\n    <path clip-path=\"url(#pafca09a5fe)\" d=\"M 1143.695022 294.118125 \nL 1172.140221 294.118125 \nL 1172.140221 273.917902 \nL 1143.695022 273.917902 \nz\n\" style=\"fill:#1f77b4;\"/>\n   </g>\n   <g id=\"patch_33\">\n    <path clip-path=\"url(#pafca09a5fe)\" d=\"M 1179.251521 294.118125 \nL 1207.696721 294.118125 \nL 1207.696721 281.217574 \nL 1179.251521 281.217574 \nz\n\" style=\"fill:#1f77b4;\"/>\n   </g>\n   <g id=\"patch_34\">\n    <path clip-path=\"url(#pafca09a5fe)\" d=\"M 1214.808021 294.118125 \nL 1243.253221 294.118125 \nL 1243.253221 285.122024 \nL 1214.808021 285.122024 \nz\n\" style=\"fill:#1f77b4;\"/>\n   </g>\n   <g id=\"patch_35\">\n    <path clip-path=\"url(#pafca09a5fe)\" d=\"M 1250.36452 294.118125 \nL 1278.80972 294.118125 \nL 1278.80972 281.866439 \nL 1250.36452 281.866439 \nz\n\" style=\"fill:#1f77b4;\"/>\n   </g>\n   <g id=\"patch_36\">\n    <path clip-path=\"url(#pafca09a5fe)\" d=\"M 1285.92102 294.118125 \nL 1314.36622 294.118125 \nL 1314.36622 280.717701 \nL 1285.92102 280.717701 \nz\n\" style=\"fill:#1f77b4;\"/>\n   </g>\n   <g id=\"patch_37\">\n    <path clip-path=\"url(#pafca09a5fe)\" d=\"M 1321.47752 294.118125 \nL 1349.922719 294.118125 \nL 1349.922719 281.250907 \nL 1321.47752 281.250907 \nz\n\" style=\"fill:#1f77b4;\"/>\n   </g>\n   <g id=\"patch_38\">\n    <path clip-path=\"url(#pafca09a5fe)\" d=\"M 1357.034019 294.118125 \nL 1385.479219 294.118125 \nL 1385.479219 266.494373 \nL 1357.034019 266.494373 \nz\n\" style=\"fill:#1f77b4;\"/>\n   </g>\n   <g id=\"patch_39\">\n    <path clip-path=\"url(#pafca09a5fe)\" d=\"M 1392.590519 294.118125 \nL 1421.035718 294.118125 \nL 1421.035718 264.086972 \nL 1392.590519 264.086972 \nz\n\" style=\"fill:#1f77b4;\"/>\n   </g>\n   <g id=\"patch_40\">\n    <path clip-path=\"url(#pafca09a5fe)\" d=\"M 1428.147018 294.118125 \nL 1456.592218 294.118125 \nL 1456.592218 273.037413 \nL 1428.147018 273.037413 \nz\n\" style=\"fill:#1f77b4;\"/>\n   </g>\n   <g id=\"patch_41\">\n    <path clip-path=\"url(#pafca09a5fe)\" d=\"M 1463.703518 294.118125 \nL 1492.148718 294.118125 \nL 1492.148718 284.304217 \nL 1463.703518 284.304217 \nz\n\" style=\"fill:#1f77b4;\"/>\n   </g>\n   <g id=\"patch_42\">\n    <path clip-path=\"url(#pafca09a5fe)\" d=\"M 1499.260018 294.118125 \nL 1527.705217 294.118125 \nL 1527.705217 282.526571 \nL 1499.260018 282.526571 \nz\n\" style=\"fill:#1f77b4;\"/>\n   </g>\n   <g id=\"patch_43\">\n    <path clip-path=\"url(#pafca09a5fe)\" d=\"M 1534.816517 294.118125 \nL 1563.261717 294.118125 \nL 1563.261717 273.869436 \nL 1534.816517 273.869436 \nz\n\" style=\"fill:#1f77b4;\"/>\n   </g>\n   <g id=\"patch_44\">\n    <path clip-path=\"url(#pafca09a5fe)\" d=\"M 1570.373017 294.118125 \nL 1598.818216 294.118125 \nL 1598.818216 249.778719 \nL 1570.373017 249.778719 \nz\n\" style=\"fill:#1f77b4;\"/>\n   </g>\n   <g id=\"patch_45\">\n    <path clip-path=\"url(#pafca09a5fe)\" d=\"M 1605.929516 294.118125 \nL 1634.374716 294.118125 \nL 1634.374716 35.260982 \nL 1605.929516 35.260982 \nz\n\" style=\"fill:#1f77b4;\"/>\n   </g>\n   <g id=\"matplotlib.axis_1\">\n    <g id=\"xtick_1\">\n     <g id=\"line2d_1\">\n      <defs>\n       <path d=\"M 0 0 \nL 0 3.5 \n\" id=\"m96aa7808a7\" style=\"stroke:#000000;stroke-width:0.8;\"/>\n      </defs>\n      <g>\n       <use style=\"stroke:#000000;stroke-width:0.8;\" x=\"126.779134\" xlink:href=\"#m96aa7808a7\" y=\"294.118125\"/>\n      </g>\n     </g>\n     <g id=\"text_1\">\n      <!-- 0 -->\n      <g transform=\"translate(123.597884 308.716563)scale(0.1 -0.1)\">\n       <defs>\n        <path d=\"M 31.78125 66.40625 \nQ 24.171875 66.40625 20.328125 58.90625 \nQ 16.5 51.421875 16.5 36.375 \nQ 16.5 21.390625 20.328125 13.890625 \nQ 24.171875 6.390625 31.78125 6.390625 \nQ 39.453125 6.390625 43.28125 13.890625 \nQ 47.125 21.390625 47.125 36.375 \nQ 47.125 51.421875 43.28125 58.90625 \nQ 39.453125 66.40625 31.78125 66.40625 \nz\nM 31.78125 74.21875 \nQ 44.046875 74.21875 50.515625 64.515625 \nQ 56.984375 54.828125 56.984375 36.375 \nQ 56.984375 17.96875 50.515625 8.265625 \nQ 44.046875 -1.421875 31.78125 -1.421875 \nQ 19.53125 -1.421875 13.0625 8.265625 \nQ 6.59375 17.96875 6.59375 36.375 \nQ 6.59375 54.828125 13.0625 64.515625 \nQ 19.53125 74.21875 31.78125 74.21875 \nz\n\" id=\"DejaVuSans-48\"/>\n       </defs>\n       <use xlink:href=\"#DejaVuSans-48\"/>\n      </g>\n     </g>\n    </g>\n    <g id=\"xtick_2\">\n     <g id=\"line2d_2\">\n      <g>\n       <use style=\"stroke:#000000;stroke-width:0.8;\" x=\"482.34413\" xlink:href=\"#m96aa7808a7\" y=\"294.118125\"/>\n      </g>\n     </g>\n     <g id=\"text_2\">\n      <!-- 10 -->\n      <g transform=\"translate(475.98163 308.716563)scale(0.1 -0.1)\">\n       <defs>\n        <path d=\"M 12.40625 8.296875 \nL 28.515625 8.296875 \nL 28.515625 63.921875 \nL 10.984375 60.40625 \nL 10.984375 69.390625 \nL 28.421875 72.90625 \nL 38.28125 72.90625 \nL 38.28125 8.296875 \nL 54.390625 8.296875 \nL 54.390625 0 \nL 12.40625 0 \nz\n\" id=\"DejaVuSans-49\"/>\n       </defs>\n       <use xlink:href=\"#DejaVuSans-49\"/>\n       <use x=\"63.623047\" xlink:href=\"#DejaVuSans-48\"/>\n      </g>\n     </g>\n    </g>\n    <g id=\"xtick_3\">\n     <g id=\"line2d_3\">\n      <g>\n       <use style=\"stroke:#000000;stroke-width:0.8;\" x=\"837.909125\" xlink:href=\"#m96aa7808a7\" y=\"294.118125\"/>\n      </g>\n     </g>\n     <g id=\"text_3\">\n      <!-- 20 -->\n      <g transform=\"translate(831.546625 308.716563)scale(0.1 -0.1)\">\n       <defs>\n        <path d=\"M 19.1875 8.296875 \nL 53.609375 8.296875 \nL 53.609375 0 \nL 7.328125 0 \nL 7.328125 8.296875 \nQ 12.9375 14.109375 22.625 23.890625 \nQ 32.328125 33.6875 34.8125 36.53125 \nQ 39.546875 41.84375 41.421875 45.53125 \nQ 43.3125 49.21875 43.3125 52.78125 \nQ 43.3125 58.59375 39.234375 62.25 \nQ 35.15625 65.921875 28.609375 65.921875 \nQ 23.96875 65.921875 18.8125 64.3125 \nQ 13.671875 62.703125 7.8125 59.421875 \nL 7.8125 69.390625 \nQ 13.765625 71.78125 18.9375 73 \nQ 24.125 74.21875 28.421875 74.21875 \nQ 39.75 74.21875 46.484375 68.546875 \nQ 53.21875 62.890625 53.21875 53.421875 \nQ 53.21875 48.921875 51.53125 44.890625 \nQ 49.859375 40.875 45.40625 35.40625 \nQ 44.1875 33.984375 37.640625 27.21875 \nQ 31.109375 20.453125 19.1875 8.296875 \nz\n\" id=\"DejaVuSans-50\"/>\n       </defs>\n       <use xlink:href=\"#DejaVuSans-50\"/>\n       <use x=\"63.623047\" xlink:href=\"#DejaVuSans-48\"/>\n      </g>\n     </g>\n    </g>\n    <g id=\"xtick_4\">\n     <g id=\"line2d_4\">\n      <g>\n       <use style=\"stroke:#000000;stroke-width:0.8;\" x=\"1193.474121\" xlink:href=\"#m96aa7808a7\" y=\"294.118125\"/>\n      </g>\n     </g>\n     <g id=\"text_4\">\n      <!-- 30 -->\n      <g transform=\"translate(1187.111621 308.716563)scale(0.1 -0.1)\">\n       <defs>\n        <path d=\"M 40.578125 39.3125 \nQ 47.65625 37.796875 51.625 33 \nQ 55.609375 28.21875 55.609375 21.1875 \nQ 55.609375 10.40625 48.1875 4.484375 \nQ 40.765625 -1.421875 27.09375 -1.421875 \nQ 22.515625 -1.421875 17.65625 -0.515625 \nQ 12.796875 0.390625 7.625 2.203125 \nL 7.625 11.71875 \nQ 11.71875 9.328125 16.59375 8.109375 \nQ 21.484375 6.890625 26.8125 6.890625 \nQ 36.078125 6.890625 40.9375 10.546875 \nQ 45.796875 14.203125 45.796875 21.1875 \nQ 45.796875 27.640625 41.28125 31.265625 \nQ 36.765625 34.90625 28.71875 34.90625 \nL 20.21875 34.90625 \nL 20.21875 43.015625 \nL 29.109375 43.015625 \nQ 36.375 43.015625 40.234375 45.921875 \nQ 44.09375 48.828125 44.09375 54.296875 \nQ 44.09375 59.90625 40.109375 62.90625 \nQ 36.140625 65.921875 28.71875 65.921875 \nQ 24.65625 65.921875 20.015625 65.03125 \nQ 15.375 64.15625 9.8125 62.3125 \nL 9.8125 71.09375 \nQ 15.4375 72.65625 20.34375 73.4375 \nQ 25.25 74.21875 29.59375 74.21875 \nQ 40.828125 74.21875 47.359375 69.109375 \nQ 53.90625 64.015625 53.90625 55.328125 \nQ 53.90625 49.265625 50.4375 45.09375 \nQ 46.96875 40.921875 40.578125 39.3125 \nz\n\" id=\"DejaVuSans-51\"/>\n       </defs>\n       <use xlink:href=\"#DejaVuSans-51\"/>\n       <use x=\"63.623047\" xlink:href=\"#DejaVuSans-48\"/>\n      </g>\n     </g>\n    </g>\n    <g id=\"xtick_5\">\n     <g id=\"line2d_5\">\n      <g>\n       <use style=\"stroke:#000000;stroke-width:0.8;\" x=\"1549.039117\" xlink:href=\"#m96aa7808a7\" y=\"294.118125\"/>\n      </g>\n     </g>\n     <g id=\"text_5\">\n      <!-- 40 -->\n      <g transform=\"translate(1542.676617 308.716563)scale(0.1 -0.1)\">\n       <defs>\n        <path d=\"M 37.796875 64.3125 \nL 12.890625 25.390625 \nL 37.796875 25.390625 \nz\nM 35.203125 72.90625 \nL 47.609375 72.90625 \nL 47.609375 25.390625 \nL 58.015625 25.390625 \nL 58.015625 17.1875 \nL 47.609375 17.1875 \nL 47.609375 0 \nL 37.796875 0 \nL 37.796875 17.1875 \nL 4.890625 17.1875 \nL 4.890625 26.703125 \nz\n\" id=\"DejaVuSans-52\"/>\n       </defs>\n       <use xlink:href=\"#DejaVuSans-52\"/>\n       <use x=\"63.623047\" xlink:href=\"#DejaVuSans-48\"/>\n      </g>\n     </g>\n    </g>\n   </g>\n   <g id=\"matplotlib.axis_2\">\n    <g id=\"ytick_1\">\n     <g id=\"line2d_6\">\n      <defs>\n       <path d=\"M 0 0 \nL -3.5 0 \n\" id=\"m24a7f23fb1\" style=\"stroke:#000000;stroke-width:0.8;\"/>\n      </defs>\n      <g>\n       <use style=\"stroke:#000000;stroke-width:0.8;\" x=\"36.465625\" xlink:href=\"#m24a7f23fb1\" y=\"294.118125\"/>\n      </g>\n     </g>\n     <g id=\"text_6\">\n      <!-- 0.00 -->\n      <g transform=\"translate(7.2 297.917344)scale(0.1 -0.1)\">\n       <defs>\n        <path d=\"M 10.6875 12.40625 \nL 21 12.40625 \nL 21 0 \nL 10.6875 0 \nz\n\" id=\"DejaVuSans-46\"/>\n       </defs>\n       <use xlink:href=\"#DejaVuSans-48\"/>\n       <use x=\"63.623047\" xlink:href=\"#DejaVuSans-46\"/>\n       <use x=\"95.410156\" xlink:href=\"#DejaVuSans-48\"/>\n       <use x=\"159.033203\" xlink:href=\"#DejaVuSans-48\"/>\n      </g>\n     </g>\n    </g>\n    <g id=\"ytick_2\">\n     <g id=\"line2d_7\">\n      <g>\n       <use style=\"stroke:#000000;stroke-width:0.8;\" x=\"36.465625\" xlink:href=\"#m24a7f23fb1\" y=\"263.487643\"/>\n      </g>\n     </g>\n     <g id=\"text_7\">\n      <!-- 0.02 -->\n      <g transform=\"translate(7.2 267.286862)scale(0.1 -0.1)\">\n       <use xlink:href=\"#DejaVuSans-48\"/>\n       <use x=\"63.623047\" xlink:href=\"#DejaVuSans-46\"/>\n       <use x=\"95.410156\" xlink:href=\"#DejaVuSans-48\"/>\n       <use x=\"159.033203\" xlink:href=\"#DejaVuSans-50\"/>\n      </g>\n     </g>\n    </g>\n    <g id=\"ytick_3\">\n     <g id=\"line2d_8\">\n      <g>\n       <use style=\"stroke:#000000;stroke-width:0.8;\" x=\"36.465625\" xlink:href=\"#m24a7f23fb1\" y=\"232.857161\"/>\n      </g>\n     </g>\n     <g id=\"text_8\">\n      <!-- 0.04 -->\n      <g transform=\"translate(7.2 236.656379)scale(0.1 -0.1)\">\n       <use xlink:href=\"#DejaVuSans-48\"/>\n       <use x=\"63.623047\" xlink:href=\"#DejaVuSans-46\"/>\n       <use x=\"95.410156\" xlink:href=\"#DejaVuSans-48\"/>\n       <use x=\"159.033203\" xlink:href=\"#DejaVuSans-52\"/>\n      </g>\n     </g>\n    </g>\n    <g id=\"ytick_4\">\n     <g id=\"line2d_9\">\n      <g>\n       <use style=\"stroke:#000000;stroke-width:0.8;\" x=\"36.465625\" xlink:href=\"#m24a7f23fb1\" y=\"202.226678\"/>\n      </g>\n     </g>\n     <g id=\"text_9\">\n      <!-- 0.06 -->\n      <g transform=\"translate(7.2 206.025897)scale(0.1 -0.1)\">\n       <defs>\n        <path d=\"M 33.015625 40.375 \nQ 26.375 40.375 22.484375 35.828125 \nQ 18.609375 31.296875 18.609375 23.390625 \nQ 18.609375 15.53125 22.484375 10.953125 \nQ 26.375 6.390625 33.015625 6.390625 \nQ 39.65625 6.390625 43.53125 10.953125 \nQ 47.40625 15.53125 47.40625 23.390625 \nQ 47.40625 31.296875 43.53125 35.828125 \nQ 39.65625 40.375 33.015625 40.375 \nz\nM 52.59375 71.296875 \nL 52.59375 62.3125 \nQ 48.875 64.0625 45.09375 64.984375 \nQ 41.3125 65.921875 37.59375 65.921875 \nQ 27.828125 65.921875 22.671875 59.328125 \nQ 17.53125 52.734375 16.796875 39.40625 \nQ 19.671875 43.65625 24.015625 45.921875 \nQ 28.375 48.1875 33.59375 48.1875 \nQ 44.578125 48.1875 50.953125 41.515625 \nQ 57.328125 34.859375 57.328125 23.390625 \nQ 57.328125 12.15625 50.6875 5.359375 \nQ 44.046875 -1.421875 33.015625 -1.421875 \nQ 20.359375 -1.421875 13.671875 8.265625 \nQ 6.984375 17.96875 6.984375 36.375 \nQ 6.984375 53.65625 15.1875 63.9375 \nQ 23.390625 74.21875 37.203125 74.21875 \nQ 40.921875 74.21875 44.703125 73.484375 \nQ 48.484375 72.75 52.59375 71.296875 \nz\n\" id=\"DejaVuSans-54\"/>\n       </defs>\n       <use xlink:href=\"#DejaVuSans-48\"/>\n       <use x=\"63.623047\" xlink:href=\"#DejaVuSans-46\"/>\n       <use x=\"95.410156\" xlink:href=\"#DejaVuSans-48\"/>\n       <use x=\"159.033203\" xlink:href=\"#DejaVuSans-54\"/>\n      </g>\n     </g>\n    </g>\n    <g id=\"ytick_5\">\n     <g id=\"line2d_10\">\n      <g>\n       <use style=\"stroke:#000000;stroke-width:0.8;\" x=\"36.465625\" xlink:href=\"#m24a7f23fb1\" y=\"171.596196\"/>\n      </g>\n     </g>\n     <g id=\"text_10\">\n      <!-- 0.08 -->\n      <g transform=\"translate(7.2 175.395415)scale(0.1 -0.1)\">\n       <defs>\n        <path d=\"M 31.78125 34.625 \nQ 24.75 34.625 20.71875 30.859375 \nQ 16.703125 27.09375 16.703125 20.515625 \nQ 16.703125 13.921875 20.71875 10.15625 \nQ 24.75 6.390625 31.78125 6.390625 \nQ 38.8125 6.390625 42.859375 10.171875 \nQ 46.921875 13.96875 46.921875 20.515625 \nQ 46.921875 27.09375 42.890625 30.859375 \nQ 38.875 34.625 31.78125 34.625 \nz\nM 21.921875 38.8125 \nQ 15.578125 40.375 12.03125 44.71875 \nQ 8.5 49.078125 8.5 55.328125 \nQ 8.5 64.0625 14.71875 69.140625 \nQ 20.953125 74.21875 31.78125 74.21875 \nQ 42.671875 74.21875 48.875 69.140625 \nQ 55.078125 64.0625 55.078125 55.328125 \nQ 55.078125 49.078125 51.53125 44.71875 \nQ 48 40.375 41.703125 38.8125 \nQ 48.828125 37.15625 52.796875 32.3125 \nQ 56.78125 27.484375 56.78125 20.515625 \nQ 56.78125 9.90625 50.3125 4.234375 \nQ 43.84375 -1.421875 31.78125 -1.421875 \nQ 19.734375 -1.421875 13.25 4.234375 \nQ 6.78125 9.90625 6.78125 20.515625 \nQ 6.78125 27.484375 10.78125 32.3125 \nQ 14.796875 37.15625 21.921875 38.8125 \nz\nM 18.3125 54.390625 \nQ 18.3125 48.734375 21.84375 45.5625 \nQ 25.390625 42.390625 31.78125 42.390625 \nQ 38.140625 42.390625 41.71875 45.5625 \nQ 45.3125 48.734375 45.3125 54.390625 \nQ 45.3125 60.0625 41.71875 63.234375 \nQ 38.140625 66.40625 31.78125 66.40625 \nQ 25.390625 66.40625 21.84375 63.234375 \nQ 18.3125 60.0625 18.3125 54.390625 \nz\n\" id=\"DejaVuSans-56\"/>\n       </defs>\n       <use xlink:href=\"#DejaVuSans-48\"/>\n       <use x=\"63.623047\" xlink:href=\"#DejaVuSans-46\"/>\n       <use x=\"95.410156\" xlink:href=\"#DejaVuSans-48\"/>\n       <use x=\"159.033203\" xlink:href=\"#DejaVuSans-56\"/>\n      </g>\n     </g>\n    </g>\n    <g id=\"ytick_6\">\n     <g id=\"line2d_11\">\n      <g>\n       <use style=\"stroke:#000000;stroke-width:0.8;\" x=\"36.465625\" xlink:href=\"#m24a7f23fb1\" y=\"140.965714\"/>\n      </g>\n     </g>\n     <g id=\"text_11\">\n      <!-- 0.10 -->\n      <g transform=\"translate(7.2 144.764933)scale(0.1 -0.1)\">\n       <use xlink:href=\"#DejaVuSans-48\"/>\n       <use x=\"63.623047\" xlink:href=\"#DejaVuSans-46\"/>\n       <use x=\"95.410156\" xlink:href=\"#DejaVuSans-49\"/>\n       <use x=\"159.033203\" xlink:href=\"#DejaVuSans-48\"/>\n      </g>\n     </g>\n    </g>\n    <g id=\"ytick_7\">\n     <g id=\"line2d_12\">\n      <g>\n       <use style=\"stroke:#000000;stroke-width:0.8;\" x=\"36.465625\" xlink:href=\"#m24a7f23fb1\" y=\"110.335232\"/>\n      </g>\n     </g>\n     <g id=\"text_12\">\n      <!-- 0.12 -->\n      <g transform=\"translate(7.2 114.13445)scale(0.1 -0.1)\">\n       <use xlink:href=\"#DejaVuSans-48\"/>\n       <use x=\"63.623047\" xlink:href=\"#DejaVuSans-46\"/>\n       <use x=\"95.410156\" xlink:href=\"#DejaVuSans-49\"/>\n       <use x=\"159.033203\" xlink:href=\"#DejaVuSans-50\"/>\n      </g>\n     </g>\n    </g>\n    <g id=\"ytick_8\">\n     <g id=\"line2d_13\">\n      <g>\n       <use style=\"stroke:#000000;stroke-width:0.8;\" x=\"36.465625\" xlink:href=\"#m24a7f23fb1\" y=\"79.704749\"/>\n      </g>\n     </g>\n     <g id=\"text_13\">\n      <!-- 0.14 -->\n      <g transform=\"translate(7.2 83.503968)scale(0.1 -0.1)\">\n       <use xlink:href=\"#DejaVuSans-48\"/>\n       <use x=\"63.623047\" xlink:href=\"#DejaVuSans-46\"/>\n       <use x=\"95.410156\" xlink:href=\"#DejaVuSans-49\"/>\n       <use x=\"159.033203\" xlink:href=\"#DejaVuSans-52\"/>\n      </g>\n     </g>\n    </g>\n    <g id=\"ytick_9\">\n     <g id=\"line2d_14\">\n      <g>\n       <use style=\"stroke:#000000;stroke-width:0.8;\" x=\"36.465625\" xlink:href=\"#m24a7f23fb1\" y=\"49.074267\"/>\n      </g>\n     </g>\n     <g id=\"text_14\">\n      <!-- 0.16 -->\n      <g transform=\"translate(7.2 52.873486)scale(0.1 -0.1)\">\n       <use xlink:href=\"#DejaVuSans-48\"/>\n       <use x=\"63.623047\" xlink:href=\"#DejaVuSans-46\"/>\n       <use x=\"95.410156\" xlink:href=\"#DejaVuSans-49\"/>\n       <use x=\"159.033203\" xlink:href=\"#DejaVuSans-54\"/>\n      </g>\n     </g>\n    </g>\n   </g>\n   <g id=\"patch_46\">\n    <path d=\"M 36.465625 294.118125 \nL 36.465625 22.318125 \n\" style=\"fill:none;stroke:#000000;stroke-linecap:square;stroke-linejoin:miter;stroke-width:0.8;\"/>\n   </g>\n   <g id=\"patch_47\">\n    <path d=\"M 1710.465625 294.118125 \nL 1710.465625 22.318125 \n\" style=\"fill:none;stroke:#000000;stroke-linecap:square;stroke-linejoin:miter;stroke-width:0.8;\"/>\n   </g>\n   <g id=\"patch_48\">\n    <path d=\"M 36.465625 294.118125 \nL 1710.465625 294.118125 \n\" style=\"fill:none;stroke:#000000;stroke-linecap:square;stroke-linejoin:miter;stroke-width:0.8;\"/>\n   </g>\n   <g id=\"patch_49\">\n    <path d=\"M 36.465625 22.318125 \nL 1710.465625 22.318125 \n\" style=\"fill:none;stroke:#000000;stroke-linecap:square;stroke-linejoin:miter;stroke-width:0.8;\"/>\n   </g>\n   <g id=\"text_15\">\n    <!-- Feature Importance in Decision Trees CART for Buy Signal -->\n    <g transform=\"translate(700.680625 16.318125)scale(0.12 -0.12)\">\n     <defs>\n      <path d=\"M 9.8125 72.90625 \nL 51.703125 72.90625 \nL 51.703125 64.59375 \nL 19.671875 64.59375 \nL 19.671875 43.109375 \nL 48.578125 43.109375 \nL 48.578125 34.8125 \nL 19.671875 34.8125 \nL 19.671875 0 \nL 9.8125 0 \nz\n\" id=\"DejaVuSans-70\"/>\n      <path d=\"M 56.203125 29.59375 \nL 56.203125 25.203125 \nL 14.890625 25.203125 \nQ 15.484375 15.921875 20.484375 11.0625 \nQ 25.484375 6.203125 34.421875 6.203125 \nQ 39.59375 6.203125 44.453125 7.46875 \nQ 49.3125 8.734375 54.109375 11.28125 \nL 54.109375 2.78125 \nQ 49.265625 0.734375 44.1875 -0.34375 \nQ 39.109375 -1.421875 33.890625 -1.421875 \nQ 20.796875 -1.421875 13.15625 6.1875 \nQ 5.515625 13.8125 5.515625 26.8125 \nQ 5.515625 40.234375 12.765625 48.109375 \nQ 20.015625 56 32.328125 56 \nQ 43.359375 56 49.78125 48.890625 \nQ 56.203125 41.796875 56.203125 29.59375 \nz\nM 47.21875 32.234375 \nQ 47.125 39.59375 43.09375 43.984375 \nQ 39.0625 48.390625 32.421875 48.390625 \nQ 24.90625 48.390625 20.390625 44.140625 \nQ 15.875 39.890625 15.1875 32.171875 \nz\n\" id=\"DejaVuSans-101\"/>\n      <path d=\"M 34.28125 27.484375 \nQ 23.390625 27.484375 19.1875 25 \nQ 14.984375 22.515625 14.984375 16.5 \nQ 14.984375 11.71875 18.140625 8.90625 \nQ 21.296875 6.109375 26.703125 6.109375 \nQ 34.1875 6.109375 38.703125 11.40625 \nQ 43.21875 16.703125 43.21875 25.484375 \nL 43.21875 27.484375 \nz\nM 52.203125 31.203125 \nL 52.203125 0 \nL 43.21875 0 \nL 43.21875 8.296875 \nQ 40.140625 3.328125 35.546875 0.953125 \nQ 30.953125 -1.421875 24.3125 -1.421875 \nQ 15.921875 -1.421875 10.953125 3.296875 \nQ 6 8.015625 6 15.921875 \nQ 6 25.140625 12.171875 29.828125 \nQ 18.359375 34.515625 30.609375 34.515625 \nL 43.21875 34.515625 \nL 43.21875 35.40625 \nQ 43.21875 41.609375 39.140625 45 \nQ 35.0625 48.390625 27.6875 48.390625 \nQ 23 48.390625 18.546875 47.265625 \nQ 14.109375 46.140625 10.015625 43.890625 \nL 10.015625 52.203125 \nQ 14.9375 54.109375 19.578125 55.046875 \nQ 24.21875 56 28.609375 56 \nQ 40.484375 56 46.34375 49.84375 \nQ 52.203125 43.703125 52.203125 31.203125 \nz\n\" id=\"DejaVuSans-97\"/>\n      <path d=\"M 18.3125 70.21875 \nL 18.3125 54.6875 \nL 36.8125 54.6875 \nL 36.8125 47.703125 \nL 18.3125 47.703125 \nL 18.3125 18.015625 \nQ 18.3125 11.328125 20.140625 9.421875 \nQ 21.96875 7.515625 27.59375 7.515625 \nL 36.8125 7.515625 \nL 36.8125 0 \nL 27.59375 0 \nQ 17.1875 0 13.234375 3.875 \nQ 9.28125 7.765625 9.28125 18.015625 \nL 9.28125 47.703125 \nL 2.6875 47.703125 \nL 2.6875 54.6875 \nL 9.28125 54.6875 \nL 9.28125 70.21875 \nz\n\" id=\"DejaVuSans-116\"/>\n      <path d=\"M 8.5 21.578125 \nL 8.5 54.6875 \nL 17.484375 54.6875 \nL 17.484375 21.921875 \nQ 17.484375 14.15625 20.5 10.265625 \nQ 23.53125 6.390625 29.59375 6.390625 \nQ 36.859375 6.390625 41.078125 11.03125 \nQ 45.3125 15.671875 45.3125 23.6875 \nL 45.3125 54.6875 \nL 54.296875 54.6875 \nL 54.296875 0 \nL 45.3125 0 \nL 45.3125 8.40625 \nQ 42.046875 3.421875 37.71875 1 \nQ 33.40625 -1.421875 27.6875 -1.421875 \nQ 18.265625 -1.421875 13.375 4.4375 \nQ 8.5 10.296875 8.5 21.578125 \nz\nM 31.109375 56 \nz\n\" id=\"DejaVuSans-117\"/>\n      <path d=\"M 41.109375 46.296875 \nQ 39.59375 47.171875 37.8125 47.578125 \nQ 36.03125 48 33.890625 48 \nQ 26.265625 48 22.1875 43.046875 \nQ 18.109375 38.09375 18.109375 28.8125 \nL 18.109375 0 \nL 9.078125 0 \nL 9.078125 54.6875 \nL 18.109375 54.6875 \nL 18.109375 46.1875 \nQ 20.953125 51.171875 25.484375 53.578125 \nQ 30.03125 56 36.53125 56 \nQ 37.453125 56 38.578125 55.875 \nQ 39.703125 55.765625 41.0625 55.515625 \nz\n\" id=\"DejaVuSans-114\"/>\n      <path id=\"DejaVuSans-32\"/>\n      <path d=\"M 9.8125 72.90625 \nL 19.671875 72.90625 \nL 19.671875 0 \nL 9.8125 0 \nz\n\" id=\"DejaVuSans-73\"/>\n      <path d=\"M 52 44.1875 \nQ 55.375 50.25 60.0625 53.125 \nQ 64.75 56 71.09375 56 \nQ 79.640625 56 84.28125 50.015625 \nQ 88.921875 44.046875 88.921875 33.015625 \nL 88.921875 0 \nL 79.890625 0 \nL 79.890625 32.71875 \nQ 79.890625 40.578125 77.09375 44.375 \nQ 74.3125 48.1875 68.609375 48.1875 \nQ 61.625 48.1875 57.5625 43.546875 \nQ 53.515625 38.921875 53.515625 30.90625 \nL 53.515625 0 \nL 44.484375 0 \nL 44.484375 32.71875 \nQ 44.484375 40.625 41.703125 44.40625 \nQ 38.921875 48.1875 33.109375 48.1875 \nQ 26.21875 48.1875 22.15625 43.53125 \nQ 18.109375 38.875 18.109375 30.90625 \nL 18.109375 0 \nL 9.078125 0 \nL 9.078125 54.6875 \nL 18.109375 54.6875 \nL 18.109375 46.1875 \nQ 21.1875 51.21875 25.484375 53.609375 \nQ 29.78125 56 35.6875 56 \nQ 41.65625 56 45.828125 52.96875 \nQ 50 49.953125 52 44.1875 \nz\n\" id=\"DejaVuSans-109\"/>\n      <path d=\"M 18.109375 8.203125 \nL 18.109375 -20.796875 \nL 9.078125 -20.796875 \nL 9.078125 54.6875 \nL 18.109375 54.6875 \nL 18.109375 46.390625 \nQ 20.953125 51.265625 25.265625 53.625 \nQ 29.59375 56 35.59375 56 \nQ 45.5625 56 51.78125 48.09375 \nQ 58.015625 40.1875 58.015625 27.296875 \nQ 58.015625 14.40625 51.78125 6.484375 \nQ 45.5625 -1.421875 35.59375 -1.421875 \nQ 29.59375 -1.421875 25.265625 0.953125 \nQ 20.953125 3.328125 18.109375 8.203125 \nz\nM 48.6875 27.296875 \nQ 48.6875 37.203125 44.609375 42.84375 \nQ 40.53125 48.484375 33.40625 48.484375 \nQ 26.265625 48.484375 22.1875 42.84375 \nQ 18.109375 37.203125 18.109375 27.296875 \nQ 18.109375 17.390625 22.1875 11.75 \nQ 26.265625 6.109375 33.40625 6.109375 \nQ 40.53125 6.109375 44.609375 11.75 \nQ 48.6875 17.390625 48.6875 27.296875 \nz\n\" id=\"DejaVuSans-112\"/>\n      <path d=\"M 30.609375 48.390625 \nQ 23.390625 48.390625 19.1875 42.75 \nQ 14.984375 37.109375 14.984375 27.296875 \nQ 14.984375 17.484375 19.15625 11.84375 \nQ 23.34375 6.203125 30.609375 6.203125 \nQ 37.796875 6.203125 41.984375 11.859375 \nQ 46.1875 17.53125 46.1875 27.296875 \nQ 46.1875 37.015625 41.984375 42.703125 \nQ 37.796875 48.390625 30.609375 48.390625 \nz\nM 30.609375 56 \nQ 42.328125 56 49.015625 48.375 \nQ 55.71875 40.765625 55.71875 27.296875 \nQ 55.71875 13.875 49.015625 6.21875 \nQ 42.328125 -1.421875 30.609375 -1.421875 \nQ 18.84375 -1.421875 12.171875 6.21875 \nQ 5.515625 13.875 5.515625 27.296875 \nQ 5.515625 40.765625 12.171875 48.375 \nQ 18.84375 56 30.609375 56 \nz\n\" id=\"DejaVuSans-111\"/>\n      <path d=\"M 54.890625 33.015625 \nL 54.890625 0 \nL 45.90625 0 \nL 45.90625 32.71875 \nQ 45.90625 40.484375 42.875 44.328125 \nQ 39.84375 48.1875 33.796875 48.1875 \nQ 26.515625 48.1875 22.3125 43.546875 \nQ 18.109375 38.921875 18.109375 30.90625 \nL 18.109375 0 \nL 9.078125 0 \nL 9.078125 54.6875 \nL 18.109375 54.6875 \nL 18.109375 46.1875 \nQ 21.34375 51.125 25.703125 53.5625 \nQ 30.078125 56 35.796875 56 \nQ 45.21875 56 50.046875 50.171875 \nQ 54.890625 44.34375 54.890625 33.015625 \nz\n\" id=\"DejaVuSans-110\"/>\n      <path d=\"M 48.78125 52.59375 \nL 48.78125 44.1875 \nQ 44.96875 46.296875 41.140625 47.34375 \nQ 37.3125 48.390625 33.40625 48.390625 \nQ 24.65625 48.390625 19.8125 42.84375 \nQ 14.984375 37.3125 14.984375 27.296875 \nQ 14.984375 17.28125 19.8125 11.734375 \nQ 24.65625 6.203125 33.40625 6.203125 \nQ 37.3125 6.203125 41.140625 7.25 \nQ 44.96875 8.296875 48.78125 10.40625 \nL 48.78125 2.09375 \nQ 45.015625 0.34375 40.984375 -0.53125 \nQ 36.96875 -1.421875 32.421875 -1.421875 \nQ 20.0625 -1.421875 12.78125 6.34375 \nQ 5.515625 14.109375 5.515625 27.296875 \nQ 5.515625 40.671875 12.859375 48.328125 \nQ 20.21875 56 33.015625 56 \nQ 37.15625 56 41.109375 55.140625 \nQ 45.0625 54.296875 48.78125 52.59375 \nz\n\" id=\"DejaVuSans-99\"/>\n      <path d=\"M 9.421875 54.6875 \nL 18.40625 54.6875 \nL 18.40625 0 \nL 9.421875 0 \nz\nM 9.421875 75.984375 \nL 18.40625 75.984375 \nL 18.40625 64.59375 \nL 9.421875 64.59375 \nz\n\" id=\"DejaVuSans-105\"/>\n      <path d=\"M 19.671875 64.796875 \nL 19.671875 8.109375 \nL 31.59375 8.109375 \nQ 46.6875 8.109375 53.6875 14.9375 \nQ 60.6875 21.78125 60.6875 36.53125 \nQ 60.6875 51.171875 53.6875 57.984375 \nQ 46.6875 64.796875 31.59375 64.796875 \nz\nM 9.8125 72.90625 \nL 30.078125 72.90625 \nQ 51.265625 72.90625 61.171875 64.09375 \nQ 71.09375 55.28125 71.09375 36.53125 \nQ 71.09375 17.671875 61.125 8.828125 \nQ 51.171875 0 30.078125 0 \nL 9.8125 0 \nz\n\" id=\"DejaVuSans-68\"/>\n      <path d=\"M 44.28125 53.078125 \nL 44.28125 44.578125 \nQ 40.484375 46.53125 36.375 47.5 \nQ 32.28125 48.484375 27.875 48.484375 \nQ 21.1875 48.484375 17.84375 46.4375 \nQ 14.5 44.390625 14.5 40.28125 \nQ 14.5 37.15625 16.890625 35.375 \nQ 19.28125 33.59375 26.515625 31.984375 \nL 29.59375 31.296875 \nQ 39.15625 29.25 43.1875 25.515625 \nQ 47.21875 21.78125 47.21875 15.09375 \nQ 47.21875 7.46875 41.1875 3.015625 \nQ 35.15625 -1.421875 24.609375 -1.421875 \nQ 20.21875 -1.421875 15.453125 -0.5625 \nQ 10.6875 0.296875 5.421875 2 \nL 5.421875 11.28125 \nQ 10.40625 8.6875 15.234375 7.390625 \nQ 20.0625 6.109375 24.8125 6.109375 \nQ 31.15625 6.109375 34.5625 8.28125 \nQ 37.984375 10.453125 37.984375 14.40625 \nQ 37.984375 18.0625 35.515625 20.015625 \nQ 33.0625 21.96875 24.703125 23.78125 \nL 21.578125 24.515625 \nQ 13.234375 26.265625 9.515625 29.90625 \nQ 5.8125 33.546875 5.8125 39.890625 \nQ 5.8125 47.609375 11.28125 51.796875 \nQ 16.75 56 26.8125 56 \nQ 31.78125 56 36.171875 55.265625 \nQ 40.578125 54.546875 44.28125 53.078125 \nz\n\" id=\"DejaVuSans-115\"/>\n      <path d=\"M -0.296875 72.90625 \nL 61.375 72.90625 \nL 61.375 64.59375 \nL 35.5 64.59375 \nL 35.5 0 \nL 25.59375 0 \nL 25.59375 64.59375 \nL -0.296875 64.59375 \nz\n\" id=\"DejaVuSans-84\"/>\n      <path d=\"M 64.40625 67.28125 \nL 64.40625 56.890625 \nQ 59.421875 61.53125 53.78125 63.8125 \nQ 48.140625 66.109375 41.796875 66.109375 \nQ 29.296875 66.109375 22.65625 58.46875 \nQ 16.015625 50.828125 16.015625 36.375 \nQ 16.015625 21.96875 22.65625 14.328125 \nQ 29.296875 6.6875 41.796875 6.6875 \nQ 48.140625 6.6875 53.78125 8.984375 \nQ 59.421875 11.28125 64.40625 15.921875 \nL 64.40625 5.609375 \nQ 59.234375 2.09375 53.4375 0.328125 \nQ 47.65625 -1.421875 41.21875 -1.421875 \nQ 24.65625 -1.421875 15.125 8.703125 \nQ 5.609375 18.84375 5.609375 36.375 \nQ 5.609375 53.953125 15.125 64.078125 \nQ 24.65625 74.21875 41.21875 74.21875 \nQ 47.75 74.21875 53.53125 72.484375 \nQ 59.328125 70.75 64.40625 67.28125 \nz\n\" id=\"DejaVuSans-67\"/>\n      <path d=\"M 34.1875 63.1875 \nL 20.796875 26.90625 \nL 47.609375 26.90625 \nz\nM 28.609375 72.90625 \nL 39.796875 72.90625 \nL 67.578125 0 \nL 57.328125 0 \nL 50.6875 18.703125 \nL 17.828125 18.703125 \nL 11.1875 0 \nL 0.78125 0 \nz\n\" id=\"DejaVuSans-65\"/>\n      <path d=\"M 44.390625 34.1875 \nQ 47.5625 33.109375 50.5625 29.59375 \nQ 53.5625 26.078125 56.59375 19.921875 \nL 66.609375 0 \nL 56 0 \nL 46.6875 18.703125 \nQ 43.0625 26.03125 39.671875 28.421875 \nQ 36.28125 30.8125 30.421875 30.8125 \nL 19.671875 30.8125 \nL 19.671875 0 \nL 9.8125 0 \nL 9.8125 72.90625 \nL 32.078125 72.90625 \nQ 44.578125 72.90625 50.734375 67.671875 \nQ 56.890625 62.453125 56.890625 51.90625 \nQ 56.890625 45.015625 53.6875 40.46875 \nQ 50.484375 35.9375 44.390625 34.1875 \nz\nM 19.671875 64.796875 \nL 19.671875 38.921875 \nL 32.078125 38.921875 \nQ 39.203125 38.921875 42.84375 42.21875 \nQ 46.484375 45.515625 46.484375 51.90625 \nQ 46.484375 58.296875 42.84375 61.546875 \nQ 39.203125 64.796875 32.078125 64.796875 \nz\n\" id=\"DejaVuSans-82\"/>\n      <path d=\"M 37.109375 75.984375 \nL 37.109375 68.5 \nL 28.515625 68.5 \nQ 23.6875 68.5 21.796875 66.546875 \nQ 19.921875 64.59375 19.921875 59.515625 \nL 19.921875 54.6875 \nL 34.71875 54.6875 \nL 34.71875 47.703125 \nL 19.921875 47.703125 \nL 19.921875 0 \nL 10.890625 0 \nL 10.890625 47.703125 \nL 2.296875 47.703125 \nL 2.296875 54.6875 \nL 10.890625 54.6875 \nL 10.890625 58.5 \nQ 10.890625 67.625 15.140625 71.796875 \nQ 19.390625 75.984375 28.609375 75.984375 \nz\n\" id=\"DejaVuSans-102\"/>\n      <path d=\"M 19.671875 34.8125 \nL 19.671875 8.109375 \nL 35.5 8.109375 \nQ 43.453125 8.109375 47.28125 11.40625 \nQ 51.125 14.703125 51.125 21.484375 \nQ 51.125 28.328125 47.28125 31.5625 \nQ 43.453125 34.8125 35.5 34.8125 \nz\nM 19.671875 64.796875 \nL 19.671875 42.828125 \nL 34.28125 42.828125 \nQ 41.5 42.828125 45.03125 45.53125 \nQ 48.578125 48.25 48.578125 53.8125 \nQ 48.578125 59.328125 45.03125 62.0625 \nQ 41.5 64.796875 34.28125 64.796875 \nz\nM 9.8125 72.90625 \nL 35.015625 72.90625 \nQ 46.296875 72.90625 52.390625 68.21875 \nQ 58.5 63.53125 58.5 54.890625 \nQ 58.5 48.1875 55.375 44.234375 \nQ 52.25 40.28125 46.1875 39.3125 \nQ 53.46875 37.75 57.5 32.78125 \nQ 61.53125 27.828125 61.53125 20.40625 \nQ 61.53125 10.640625 54.890625 5.3125 \nQ 48.25 0 35.984375 0 \nL 9.8125 0 \nz\n\" id=\"DejaVuSans-66\"/>\n      <path d=\"M 32.171875 -5.078125 \nQ 28.375 -14.84375 24.75 -17.8125 \nQ 21.140625 -20.796875 15.09375 -20.796875 \nL 7.90625 -20.796875 \nL 7.90625 -13.28125 \nL 13.1875 -13.28125 \nQ 16.890625 -13.28125 18.9375 -11.515625 \nQ 21 -9.765625 23.484375 -3.21875 \nL 25.09375 0.875 \nL 2.984375 54.6875 \nL 12.5 54.6875 \nL 29.59375 11.921875 \nL 46.6875 54.6875 \nL 56.203125 54.6875 \nz\n\" id=\"DejaVuSans-121\"/>\n      <path d=\"M 53.515625 70.515625 \nL 53.515625 60.890625 \nQ 47.90625 63.578125 42.921875 64.890625 \nQ 37.9375 66.21875 33.296875 66.21875 \nQ 25.25 66.21875 20.875 63.09375 \nQ 16.5 59.96875 16.5 54.203125 \nQ 16.5 49.359375 19.40625 46.890625 \nQ 22.3125 44.4375 30.421875 42.921875 \nL 36.375 41.703125 \nQ 47.40625 39.59375 52.65625 34.296875 \nQ 57.90625 29 57.90625 20.125 \nQ 57.90625 9.515625 50.796875 4.046875 \nQ 43.703125 -1.421875 29.984375 -1.421875 \nQ 24.8125 -1.421875 18.96875 -0.25 \nQ 13.140625 0.921875 6.890625 3.21875 \nL 6.890625 13.375 \nQ 12.890625 10.015625 18.65625 8.296875 \nQ 24.421875 6.59375 29.984375 6.59375 \nQ 38.421875 6.59375 43.015625 9.90625 \nQ 47.609375 13.234375 47.609375 19.390625 \nQ 47.609375 24.75 44.3125 27.78125 \nQ 41.015625 30.8125 33.5 32.328125 \nL 27.484375 33.5 \nQ 16.453125 35.6875 11.515625 40.375 \nQ 6.59375 45.0625 6.59375 53.421875 \nQ 6.59375 63.09375 13.40625 68.65625 \nQ 20.21875 74.21875 32.171875 74.21875 \nQ 37.3125 74.21875 42.625 73.28125 \nQ 47.953125 72.359375 53.515625 70.515625 \nz\n\" id=\"DejaVuSans-83\"/>\n      <path d=\"M 45.40625 27.984375 \nQ 45.40625 37.75 41.375 43.109375 \nQ 37.359375 48.484375 30.078125 48.484375 \nQ 22.859375 48.484375 18.828125 43.109375 \nQ 14.796875 37.75 14.796875 27.984375 \nQ 14.796875 18.265625 18.828125 12.890625 \nQ 22.859375 7.515625 30.078125 7.515625 \nQ 37.359375 7.515625 41.375 12.890625 \nQ 45.40625 18.265625 45.40625 27.984375 \nz\nM 54.390625 6.78125 \nQ 54.390625 -7.171875 48.1875 -13.984375 \nQ 42 -20.796875 29.203125 -20.796875 \nQ 24.46875 -20.796875 20.265625 -20.09375 \nQ 16.0625 -19.390625 12.109375 -17.921875 \nL 12.109375 -9.1875 \nQ 16.0625 -11.328125 19.921875 -12.34375 \nQ 23.78125 -13.375 27.78125 -13.375 \nQ 36.625 -13.375 41.015625 -8.765625 \nQ 45.40625 -4.15625 45.40625 5.171875 \nL 45.40625 9.625 \nQ 42.625 4.78125 38.28125 2.390625 \nQ 33.9375 0 27.875 0 \nQ 17.828125 0 11.671875 7.65625 \nQ 5.515625 15.328125 5.515625 27.984375 \nQ 5.515625 40.671875 11.671875 48.328125 \nQ 17.828125 56 27.875 56 \nQ 33.9375 56 38.28125 53.609375 \nQ 42.625 51.21875 45.40625 46.390625 \nL 45.40625 54.6875 \nL 54.390625 54.6875 \nz\n\" id=\"DejaVuSans-103\"/>\n      <path d=\"M 9.421875 75.984375 \nL 18.40625 75.984375 \nL 18.40625 0 \nL 9.421875 0 \nz\n\" id=\"DejaVuSans-108\"/>\n     </defs>\n     <use xlink:href=\"#DejaVuSans-70\"/>\n     <use x=\"52.019531\" xlink:href=\"#DejaVuSans-101\"/>\n     <use x=\"113.542969\" xlink:href=\"#DejaVuSans-97\"/>\n     <use x=\"174.822266\" xlink:href=\"#DejaVuSans-116\"/>\n     <use x=\"214.03125\" xlink:href=\"#DejaVuSans-117\"/>\n     <use x=\"277.410156\" xlink:href=\"#DejaVuSans-114\"/>\n     <use x=\"316.273438\" xlink:href=\"#DejaVuSans-101\"/>\n     <use x=\"377.796875\" xlink:href=\"#DejaVuSans-32\"/>\n     <use x=\"409.583984\" xlink:href=\"#DejaVuSans-73\"/>\n     <use x=\"439.076172\" xlink:href=\"#DejaVuSans-109\"/>\n     <use x=\"536.488281\" xlink:href=\"#DejaVuSans-112\"/>\n     <use x=\"599.964844\" xlink:href=\"#DejaVuSans-111\"/>\n     <use x=\"661.146484\" xlink:href=\"#DejaVuSans-114\"/>\n     <use x=\"702.259766\" xlink:href=\"#DejaVuSans-116\"/>\n     <use x=\"741.46875\" xlink:href=\"#DejaVuSans-97\"/>\n     <use x=\"802.748047\" xlink:href=\"#DejaVuSans-110\"/>\n     <use x=\"866.126953\" xlink:href=\"#DejaVuSans-99\"/>\n     <use x=\"921.107422\" xlink:href=\"#DejaVuSans-101\"/>\n     <use x=\"982.630859\" xlink:href=\"#DejaVuSans-32\"/>\n     <use x=\"1014.417969\" xlink:href=\"#DejaVuSans-105\"/>\n     <use x=\"1042.201172\" xlink:href=\"#DejaVuSans-110\"/>\n     <use x=\"1105.580078\" xlink:href=\"#DejaVuSans-32\"/>\n     <use x=\"1137.367188\" xlink:href=\"#DejaVuSans-68\"/>\n     <use x=\"1214.369141\" xlink:href=\"#DejaVuSans-101\"/>\n     <use x=\"1275.892578\" xlink:href=\"#DejaVuSans-99\"/>\n     <use x=\"1330.873047\" xlink:href=\"#DejaVuSans-105\"/>\n     <use x=\"1358.65625\" xlink:href=\"#DejaVuSans-115\"/>\n     <use x=\"1410.755859\" xlink:href=\"#DejaVuSans-105\"/>\n     <use x=\"1438.539062\" xlink:href=\"#DejaVuSans-111\"/>\n     <use x=\"1499.720703\" xlink:href=\"#DejaVuSans-110\"/>\n     <use x=\"1563.099609\" xlink:href=\"#DejaVuSans-32\"/>\n     <use x=\"1594.886719\" xlink:href=\"#DejaVuSans-84\"/>\n     <use x=\"1641.220703\" xlink:href=\"#DejaVuSans-114\"/>\n     <use x=\"1680.083984\" xlink:href=\"#DejaVuSans-101\"/>\n     <use x=\"1741.607422\" xlink:href=\"#DejaVuSans-101\"/>\n     <use x=\"1803.130859\" xlink:href=\"#DejaVuSans-115\"/>\n     <use x=\"1855.230469\" xlink:href=\"#DejaVuSans-32\"/>\n     <use x=\"1887.017578\" xlink:href=\"#DejaVuSans-67\"/>\n     <use x=\"1956.841797\" xlink:href=\"#DejaVuSans-65\"/>\n     <use x=\"2025.25\" xlink:href=\"#DejaVuSans-82\"/>\n     <use x=\"2087.482422\" xlink:href=\"#DejaVuSans-84\"/>\n     <use x=\"2148.566406\" xlink:href=\"#DejaVuSans-32\"/>\n     <use x=\"2180.353516\" xlink:href=\"#DejaVuSans-102\"/>\n     <use x=\"2215.558594\" xlink:href=\"#DejaVuSans-111\"/>\n     <use x=\"2276.740234\" xlink:href=\"#DejaVuSans-114\"/>\n     <use x=\"2317.853516\" xlink:href=\"#DejaVuSans-32\"/>\n     <use x=\"2349.640625\" xlink:href=\"#DejaVuSans-66\"/>\n     <use x=\"2418.244141\" xlink:href=\"#DejaVuSans-117\"/>\n     <use x=\"2481.623047\" xlink:href=\"#DejaVuSans-121\"/>\n     <use x=\"2540.802734\" xlink:href=\"#DejaVuSans-32\"/>\n     <use x=\"2572.589844\" xlink:href=\"#DejaVuSans-83\"/>\n     <use x=\"2636.066406\" xlink:href=\"#DejaVuSans-105\"/>\n     <use x=\"2663.849609\" xlink:href=\"#DejaVuSans-103\"/>\n     <use x=\"2727.326172\" xlink:href=\"#DejaVuSans-110\"/>\n     <use x=\"2790.705078\" xlink:href=\"#DejaVuSans-97\"/>\n     <use x=\"2851.984375\" xlink:href=\"#DejaVuSans-108\"/>\n    </g>\n   </g>\n  </g>\n </g>\n <defs>\n  <clipPath id=\"pafca09a5fe\">\n   <rect height=\"271.8\" width=\"1674\" x=\"36.465625\" y=\"22.318125\"/>\n  </clipPath>\n </defs>\n</svg>\n",
      "image/png": "[encoded data removed]"
     },
     "metadata": {
      "needs_background": "light"
     }
    },
    {
     "output_type": "stream",
     "name": "stdout",
     "text": [
      "CPU times: user 379 ms, sys: 30 ms, total: 409 ms\nWall time: 403 ms\n"
     ]
    }
   ],
   "source": [
    "%%time\n",
    "from sklearn.tree import DecisionTreeRegressor\n",
    "# define the model\n",
    "model = DecisionTreeRegressor()\n",
    "# fit the model\n",
    "model.fit(features_train.drop(['Date','Symbol','Buy','Sell','TRACKER'],axis=1), features_train.Buy)\n",
    "# get importance\n",
    "importance = model.feature_importances_\n",
    "# summarize feature importance\n",
    "for i,v in enumerate(importance):\n",
    "\tprint('Feature: %0d, Score: %.5f' % (i,v))\n",
    "# plot feature importance\n",
    "pyplot.figure(figsize=(30,5))\n",
    "pyplot.title('Feature Importance in Decision Trees CART for Buy Signal')\n",
    "pyplot.bar([x for x in range(len(importance))], importance)\n",
    "pyplot.show()"
   ]
  },
  {
   "cell_type": "code",
   "execution_count": 397,
   "metadata": {},
   "outputs": [
    {
     "output_type": "stream",
     "name": "stdout",
     "text": [
      "Feature: 0, Score: 0.01554\nFeature: 1, Score: 0.02922\nFeature: 2, Score: 0.03867\nFeature: 3, Score: 0.01395\nFeature: 4, Score: 0.00729\nFeature: 5, Score: 0.02439\nFeature: 6, Score: 0.02859\nFeature: 7, Score: 0.02260\nFeature: 8, Score: 0.01115\nFeature: 9, Score: 0.01288\nFeature: 10, Score: 0.01661\nFeature: 11, Score: 0.01356\nFeature: 12, Score: 0.00000\nFeature: 13, Score: 0.01873\nFeature: 14, Score: 0.03808\nFeature: 15, Score: 0.02918\nFeature: 16, Score: 0.02980\nFeature: 17, Score: 0.00893\nFeature: 18, Score: 0.01499\nFeature: 19, Score: 0.01158\nFeature: 20, Score: 0.02438\nFeature: 21, Score: 0.01585\nFeature: 22, Score: 0.03472\nFeature: 23, Score: 0.00746\nFeature: 24, Score: 0.08768\nFeature: 25, Score: 0.02093\nFeature: 26, Score: 0.02261\nFeature: 27, Score: 0.02089\nFeature: 28, Score: 0.01341\nFeature: 29, Score: 0.01126\nFeature: 30, Score: 0.01117\nFeature: 31, Score: 0.00494\nFeature: 32, Score: 0.00256\nFeature: 33, Score: 0.00339\nFeature: 34, Score: 0.02250\nFeature: 35, Score: 0.02537\nFeature: 36, Score: 0.01412\nFeature: 37, Score: 0.01661\nFeature: 38, Score: 0.00949\nFeature: 39, Score: 0.01341\nFeature: 40, Score: 0.01333\nFeature: 41, Score: 0.03825\nFeature: 42, Score: 0.17990\n"
     ]
    },
    {
     "output_type": "display_data",
     "data": {
      "text/plain": "<Figure size 2160x360 with 1 Axes>",
      "image/svg+xml": "<?xml version=\"1.0\" encoding=\"utf-8\" standalone=\"no\"?>\n<!DOCTYPE svg PUBLIC \"-//W3C//DTD SVG 1.1//EN\"\n  \"http://www.w3.org/Graphics/SVG/1.1/DTD/svg11.dtd\">\n<!-- Created with matplotlib (https://matplotlib.org/) -->\n<svg height=\"317.99625pt\" version=\"1.1\" viewBox=\"0 0 1724.028125 317.99625\" width=\"1724.028125pt\" xmlns=\"http://www.w3.org/2000/svg\" xmlns:xlink=\"http://www.w3.org/1999/xlink\">\n <metadata>\n  <rdf:RDF xmlns:cc=\"http://creativecommons.org/ns#\" xmlns:dc=\"http://purl.org/dc/elements/1.1/\" xmlns:rdf=\"http://www.w3.org/1999/02/22-rdf-syntax-ns#\">\n   <cc:Work>\n    <dc:type rdf:resource=\"http://purl.org/dc/dcmitype/StillImage\"/>\n    <dc:date>2021-01-26T12:38:49.486256</dc:date>\n    <dc:format>image/svg+xml</dc:format>\n    <dc:creator>\n     <cc:Agent>\n      <dc:title>Matplotlib v3.3.3, https://matplotlib.org/</dc:title>\n     </cc:Agent>\n    </dc:creator>\n   </cc:Work>\n  </rdf:RDF>\n </metadata>\n <defs>\n  <style type=\"text/css\">*{stroke-linecap:butt;stroke-linejoin:round;}</style>\n </defs>\n <g id=\"figure_1\">\n  <g id=\"patch_1\">\n   <path d=\"M 0 317.99625 \nL 1724.028125 317.99625 \nL 1724.028125 0 \nL 0 0 \nz\n\" style=\"fill:none;\"/>\n  </g>\n  <g id=\"axes_1\">\n   <g id=\"patch_2\">\n    <path d=\"M 42.828125 294.118125 \nL 1716.828125 294.118125 \nL 1716.828125 22.318125 \nL 42.828125 22.318125 \nz\n\" style=\"fill:#ffffff;\"/>\n   </g>\n   <g id=\"patch_3\">\n    <path clip-path=\"url(#p00ddab58c0)\" d=\"M 118.919034 294.118125 \nL 147.364234 294.118125 \nL 147.364234 271.751676 \nL 118.919034 271.751676 \nz\n\" style=\"fill:#1f77b4;\"/>\n   </g>\n   <g id=\"patch_4\">\n    <path clip-path=\"url(#p00ddab58c0)\" d=\"M 154.475534 294.118125 \nL 182.920733 294.118125 \nL 182.920733 252.071559 \nL 154.475534 252.071559 \nz\n\" style=\"fill:#1f77b4;\"/>\n   </g>\n   <g id=\"patch_5\">\n    <path clip-path=\"url(#p00ddab58c0)\" d=\"M 190.032033 294.118125 \nL 218.477233 294.118125 \nL 218.477233 238.479123 \nL 190.032033 238.479123 \nz\n\" style=\"fill:#1f77b4;\"/>\n   </g>\n   <g id=\"patch_6\">\n    <path clip-path=\"url(#p00ddab58c0)\" d=\"M 225.588533 294.118125 \nL 254.033732 294.118125 \nL 254.033732 274.044996 \nL 225.588533 274.044996 \nz\n\" style=\"fill:#1f77b4;\"/>\n   </g>\n   <g id=\"patch_7\">\n    <path clip-path=\"url(#p00ddab58c0)\" d=\"M 261.145032 294.118125 \nL 289.590232 294.118125 \nL 289.590232 283.63441 \nL 261.145032 283.63441 \nz\n\" style=\"fill:#1f77b4;\"/>\n   </g>\n   <g id=\"patch_8\">\n    <path clip-path=\"url(#p00ddab58c0)\" d=\"M 296.701532 294.118125 \nL 325.146732 294.118125 \nL 325.146732 259.030285 \nL 296.701532 259.030285 \nz\n\" style=\"fill:#1f77b4;\"/>\n   </g>\n   <g id=\"patch_9\">\n    <path clip-path=\"url(#p00ddab58c0)\" d=\"M 332.258032 294.118125 \nL 360.703231 294.118125 \nL 360.703231 252.977607 \nL 332.258032 252.977607 \nz\n\" style=\"fill:#1f77b4;\"/>\n   </g>\n   <g id=\"patch_10\">\n    <path clip-path=\"url(#p00ddab58c0)\" d=\"M 367.814531 294.118125 \nL 396.259731 294.118125 \nL 396.259731 261.606318 \nL 367.814531 261.606318 \nz\n\" style=\"fill:#1f77b4;\"/>\n   </g>\n   <g id=\"patch_11\">\n    <path clip-path=\"url(#p00ddab58c0)\" d=\"M 403.371031 294.118125 \nL 431.81623 294.118125 \nL 431.81623 278.068249 \nL 403.371031 278.068249 \nz\n\" style=\"fill:#1f77b4;\"/>\n   </g>\n   <g id=\"patch_12\">\n    <path clip-path=\"url(#p00ddab58c0)\" d=\"M 438.92753 294.118125 \nL 467.37273 294.118125 \nL 467.37273 275.58479 \nL 438.92753 275.58479 \nz\n\" style=\"fill:#1f77b4;\"/>\n   </g>\n   <g id=\"patch_13\">\n    <path clip-path=\"url(#p00ddab58c0)\" d=\"M 474.48403 294.118125 \nL 502.92923 294.118125 \nL 502.92923 270.21254 \nL 474.48403 270.21254 \nz\n\" style=\"fill:#1f77b4;\"/>\n   </g>\n   <g id=\"patch_14\">\n    <path clip-path=\"url(#p00ddab58c0)\" d=\"M 510.040529 294.118125 \nL 538.485729 294.118125 \nL 538.485729 274.605772 \nL 510.040529 274.605772 \nz\n\" style=\"fill:#1f77b4;\"/>\n   </g>\n   <g id=\"patch_15\">\n    <path clip-path=\"url(#p00ddab58c0)\" d=\"M 545.597029 294.118125 \nL 574.042229 294.118125 \nL 574.042229 294.118125 \nL 545.597029 294.118125 \nz\n\" style=\"fill:#1f77b4;\"/>\n   </g>\n   <g id=\"patch_16\">\n    <path clip-path=\"url(#p00ddab58c0)\" d=\"M 581.153529 294.118125 \nL 609.598728 294.118125 \nL 609.598728 267.16379 \nL 581.153529 267.16379 \nz\n\" style=\"fill:#1f77b4;\"/>\n   </g>\n   <g id=\"patch_17\">\n    <path clip-path=\"url(#p00ddab58c0)\" d=\"M 616.710028 294.118125 \nL 645.155228 294.118125 \nL 645.155228 239.3211 \nL 616.710028 239.3211 \nz\n\" style=\"fill:#1f77b4;\"/>\n   </g>\n   <g id=\"patch_18\">\n    <path clip-path=\"url(#p00ddab58c0)\" d=\"M 652.266528 294.118125 \nL 680.711727 294.118125 \nL 680.711727 252.132863 \nL 652.266528 252.132863 \nz\n\" style=\"fill:#1f77b4;\"/>\n   </g>\n   <g id=\"patch_19\">\n    <path clip-path=\"url(#p00ddab58c0)\" d=\"M 687.823027 294.118125 \nL 716.268227 294.118125 \nL 716.268227 251.240643 \nL 687.823027 251.240643 \nz\n\" style=\"fill:#1f77b4;\"/>\n   </g>\n   <g id=\"patch_20\">\n    <path clip-path=\"url(#p00ddab58c0)\" d=\"M 723.379527 294.118125 \nL 751.824727 294.118125 \nL 751.824727 281.264533 \nL 723.379527 281.264533 \nz\n\" style=\"fill:#1f77b4;\"/>\n   </g>\n   <g id=\"patch_21\">\n    <path clip-path=\"url(#p00ddab58c0)\" d=\"M 758.936026 294.118125 \nL 787.381226 294.118125 \nL 787.381226 272.552453 \nL 758.936026 272.552453 \nz\n\" style=\"fill:#1f77b4;\"/>\n   </g>\n   <g id=\"patch_22\">\n    <path clip-path=\"url(#p00ddab58c0)\" d=\"M 794.492526 294.118125 \nL 822.937726 294.118125 \nL 822.937726 277.453002 \nL 794.492526 277.453002 \nz\n\" style=\"fill:#1f77b4;\"/>\n   </g>\n   <g id=\"patch_23\">\n    <path clip-path=\"url(#p00ddab58c0)\" d=\"M 830.049026 294.118125 \nL 858.494225 294.118125 \nL 858.494225 259.033085 \nL 830.049026 259.033085 \nz\n\" style=\"fill:#1f77b4;\"/>\n   </g>\n   <g id=\"patch_24\">\n    <path clip-path=\"url(#p00ddab58c0)\" d=\"M 865.605525 294.118125 \nL 894.050725 294.118125 \nL 894.050725 271.313571 \nL 865.605525 271.313571 \nz\n\" style=\"fill:#1f77b4;\"/>\n   </g>\n   <g id=\"patch_25\">\n    <path clip-path=\"url(#p00ddab58c0)\" d=\"M 901.162025 294.118125 \nL 929.607224 294.118125 \nL 929.607224 244.164393 \nL 901.162025 244.164393 \nz\n\" style=\"fill:#1f77b4;\"/>\n   </g>\n   <g id=\"patch_26\">\n    <path clip-path=\"url(#p00ddab58c0)\" d=\"M 936.718524 294.118125 \nL 965.163724 294.118125 \nL 965.163724 283.377514 \nL 936.718524 283.377514 \nz\n\" style=\"fill:#1f77b4;\"/>\n   </g>\n   <g id=\"patch_27\">\n    <path clip-path=\"url(#p00ddab58c0)\" d=\"M 972.275024 294.118125 \nL 1000.720224 294.118125 \nL 1000.720224 167.956707 \nL 972.275024 167.956707 \nz\n\" style=\"fill:#1f77b4;\"/>\n   </g>\n   <g id=\"patch_28\">\n    <path clip-path=\"url(#p00ddab58c0)\" d=\"M 1007.831523 294.118125 \nL 1036.276723 294.118125 \nL 1036.276723 263.999809 \nL 1007.831523 263.999809 \nz\n\" style=\"fill:#1f77b4;\"/>\n   </g>\n   <g id=\"patch_29\">\n    <path clip-path=\"url(#p00ddab58c0)\" d=\"M 1043.388023 294.118125 \nL 1071.833223 294.118125 \nL 1071.833223 261.588569 \nL 1043.388023 261.588569 \nz\n\" style=\"fill:#1f77b4;\"/>\n   </g>\n   <g id=\"patch_30\">\n    <path clip-path=\"url(#p00ddab58c0)\" d=\"M 1078.944523 294.118125 \nL 1107.389722 294.118125 \nL 1107.389722 264.065295 \nL 1078.944523 264.065295 \nz\n\" style=\"fill:#1f77b4;\"/>\n   </g>\n   <g id=\"patch_31\">\n    <path clip-path=\"url(#p00ddab58c0)\" d=\"M 1114.501022 294.118125 \nL 1142.946222 294.118125 \nL 1142.946222 274.820956 \nL 1114.501022 274.820956 \nz\n\" style=\"fill:#1f77b4;\"/>\n   </g>\n   <g id=\"patch_32\">\n    <path clip-path=\"url(#p00ddab58c0)\" d=\"M 1150.057522 294.118125 \nL 1178.502721 294.118125 \nL 1178.502721 277.9129 \nL 1150.057522 277.9129 \nz\n\" style=\"fill:#1f77b4;\"/>\n   </g>\n   <g id=\"patch_33\">\n    <path clip-path=\"url(#p00ddab58c0)\" d=\"M 1185.614021 294.118125 \nL 1214.059221 294.118125 \nL 1214.059221 278.05004 \nL 1185.614021 278.05004 \nz\n\" style=\"fill:#1f77b4;\"/>\n   </g>\n   <g id=\"patch_34\">\n    <path clip-path=\"url(#p00ddab58c0)\" d=\"M 1221.170521 294.118125 \nL 1249.615721 294.118125 \nL 1249.615721 287.006693 \nL 1221.170521 287.006693 \nz\n\" style=\"fill:#1f77b4;\"/>\n   </g>\n   <g id=\"patch_35\">\n    <path clip-path=\"url(#p00ddab58c0)\" d=\"M 1256.72702 294.118125 \nL 1285.17222 294.118125 \nL 1285.17222 290.432748 \nL 1256.72702 290.432748 \nz\n\" style=\"fill:#1f77b4;\"/>\n   </g>\n   <g id=\"patch_36\">\n    <path clip-path=\"url(#p00ddab58c0)\" d=\"M 1292.28352 294.118125 \nL 1320.72872 294.118125 \nL 1320.72872 289.240025 \nL 1292.28352 289.240025 \nz\n\" style=\"fill:#1f77b4;\"/>\n   </g>\n   <g id=\"patch_37\">\n    <path clip-path=\"url(#p00ddab58c0)\" d=\"M 1327.84002 294.118125 \nL 1356.285219 294.118125 \nL 1356.285219 261.742409 \nL 1327.84002 261.742409 \nz\n\" style=\"fill:#1f77b4;\"/>\n   </g>\n   <g id=\"patch_38\">\n    <path clip-path=\"url(#p00ddab58c0)\" d=\"M 1363.396519 294.118125 \nL 1391.841719 294.118125 \nL 1391.841719 257.610265 \nL 1363.396519 257.610265 \nz\n\" style=\"fill:#1f77b4;\"/>\n   </g>\n   <g id=\"patch_39\">\n    <path clip-path=\"url(#p00ddab58c0)\" d=\"M 1398.953019 294.118125 \nL 1427.398218 294.118125 \nL 1427.398218 273.802282 \nL 1398.953019 273.802282 \nz\n\" style=\"fill:#1f77b4;\"/>\n   </g>\n   <g id=\"patch_40\">\n    <path clip-path=\"url(#p00ddab58c0)\" d=\"M 1434.509518 294.118125 \nL 1462.954718 294.118125 \nL 1462.954718 270.212428 \nL 1434.509518 270.212428 \nz\n\" style=\"fill:#1f77b4;\"/>\n   </g>\n   <g id=\"patch_41\">\n    <path clip-path=\"url(#p00ddab58c0)\" d=\"M 1470.066018 294.118125 \nL 1498.511218 294.118125 \nL 1498.511218 280.470283 \nL 1470.066018 280.470283 \nz\n\" style=\"fill:#1f77b4;\"/>\n   </g>\n   <g id=\"patch_42\">\n    <path clip-path=\"url(#p00ddab58c0)\" d=\"M 1505.622518 294.118125 \nL 1534.067717 294.118125 \nL 1534.067717 274.816909 \nL 1505.622518 274.816909 \nz\n\" style=\"fill:#1f77b4;\"/>\n   </g>\n   <g id=\"patch_43\">\n    <path clip-path=\"url(#p00ddab58c0)\" d=\"M 1541.179017 294.118125 \nL 1569.624217 294.118125 \nL 1569.624217 274.940109 \nL 1541.179017 274.940109 \nz\n\" style=\"fill:#1f77b4;\"/>\n   </g>\n   <g id=\"patch_44\">\n    <path clip-path=\"url(#p00ddab58c0)\" d=\"M 1576.735517 294.118125 \nL 1605.180716 294.118125 \nL 1605.180716 239.087007 \nL 1576.735517 239.087007 \nz\n\" style=\"fill:#1f77b4;\"/>\n   </g>\n   <g id=\"patch_45\">\n    <path clip-path=\"url(#p00ddab58c0)\" d=\"M 1612.292016 294.118125 \nL 1640.737216 294.118125 \nL 1640.737216 35.260982 \nL 1612.292016 35.260982 \nz\n\" style=\"fill:#1f77b4;\"/>\n   </g>\n   <g id=\"matplotlib.axis_1\">\n    <g id=\"xtick_1\">\n     <g id=\"line2d_1\">\n      <defs>\n       <path d=\"M 0 0 \nL 0 3.5 \n\" id=\"m1f7ad28a9d\" style=\"stroke:#000000;stroke-width:0.8;\"/>\n      </defs>\n      <g>\n       <use style=\"stroke:#000000;stroke-width:0.8;\" x=\"133.141634\" xlink:href=\"#m1f7ad28a9d\" y=\"294.118125\"/>\n      </g>\n     </g>\n     <g id=\"text_1\">\n      <!-- 0 -->\n      <g transform=\"translate(129.960384 308.716563)scale(0.1 -0.1)\">\n       <defs>\n        <path d=\"M 31.78125 66.40625 \nQ 24.171875 66.40625 20.328125 58.90625 \nQ 16.5 51.421875 16.5 36.375 \nQ 16.5 21.390625 20.328125 13.890625 \nQ 24.171875 6.390625 31.78125 6.390625 \nQ 39.453125 6.390625 43.28125 13.890625 \nQ 47.125 21.390625 47.125 36.375 \nQ 47.125 51.421875 43.28125 58.90625 \nQ 39.453125 66.40625 31.78125 66.40625 \nz\nM 31.78125 74.21875 \nQ 44.046875 74.21875 50.515625 64.515625 \nQ 56.984375 54.828125 56.984375 36.375 \nQ 56.984375 17.96875 50.515625 8.265625 \nQ 44.046875 -1.421875 31.78125 -1.421875 \nQ 19.53125 -1.421875 13.0625 8.265625 \nQ 6.59375 17.96875 6.59375 36.375 \nQ 6.59375 54.828125 13.0625 64.515625 \nQ 19.53125 74.21875 31.78125 74.21875 \nz\n\" id=\"DejaVuSans-48\"/>\n       </defs>\n       <use xlink:href=\"#DejaVuSans-48\"/>\n      </g>\n     </g>\n    </g>\n    <g id=\"xtick_2\">\n     <g id=\"line2d_2\">\n      <g>\n       <use style=\"stroke:#000000;stroke-width:0.8;\" x=\"488.70663\" xlink:href=\"#m1f7ad28a9d\" y=\"294.118125\"/>\n      </g>\n     </g>\n     <g id=\"text_2\">\n      <!-- 10 -->\n      <g transform=\"translate(482.34413 308.716563)scale(0.1 -0.1)\">\n       <defs>\n        <path d=\"M 12.40625 8.296875 \nL 28.515625 8.296875 \nL 28.515625 63.921875 \nL 10.984375 60.40625 \nL 10.984375 69.390625 \nL 28.421875 72.90625 \nL 38.28125 72.90625 \nL 38.28125 8.296875 \nL 54.390625 8.296875 \nL 54.390625 0 \nL 12.40625 0 \nz\n\" id=\"DejaVuSans-49\"/>\n       </defs>\n       <use xlink:href=\"#DejaVuSans-49\"/>\n       <use x=\"63.623047\" xlink:href=\"#DejaVuSans-48\"/>\n      </g>\n     </g>\n    </g>\n    <g id=\"xtick_3\">\n     <g id=\"line2d_3\">\n      <g>\n       <use style=\"stroke:#000000;stroke-width:0.8;\" x=\"844.271625\" xlink:href=\"#m1f7ad28a9d\" y=\"294.118125\"/>\n      </g>\n     </g>\n     <g id=\"text_3\">\n      <!-- 20 -->\n      <g transform=\"translate(837.909125 308.716563)scale(0.1 -0.1)\">\n       <defs>\n        <path d=\"M 19.1875 8.296875 \nL 53.609375 8.296875 \nL 53.609375 0 \nL 7.328125 0 \nL 7.328125 8.296875 \nQ 12.9375 14.109375 22.625 23.890625 \nQ 32.328125 33.6875 34.8125 36.53125 \nQ 39.546875 41.84375 41.421875 45.53125 \nQ 43.3125 49.21875 43.3125 52.78125 \nQ 43.3125 58.59375 39.234375 62.25 \nQ 35.15625 65.921875 28.609375 65.921875 \nQ 23.96875 65.921875 18.8125 64.3125 \nQ 13.671875 62.703125 7.8125 59.421875 \nL 7.8125 69.390625 \nQ 13.765625 71.78125 18.9375 73 \nQ 24.125 74.21875 28.421875 74.21875 \nQ 39.75 74.21875 46.484375 68.546875 \nQ 53.21875 62.890625 53.21875 53.421875 \nQ 53.21875 48.921875 51.53125 44.890625 \nQ 49.859375 40.875 45.40625 35.40625 \nQ 44.1875 33.984375 37.640625 27.21875 \nQ 31.109375 20.453125 19.1875 8.296875 \nz\n\" id=\"DejaVuSans-50\"/>\n       </defs>\n       <use xlink:href=\"#DejaVuSans-50\"/>\n       <use x=\"63.623047\" xlink:href=\"#DejaVuSans-48\"/>\n      </g>\n     </g>\n    </g>\n    <g id=\"xtick_4\">\n     <g id=\"line2d_4\">\n      <g>\n       <use style=\"stroke:#000000;stroke-width:0.8;\" x=\"1199.836621\" xlink:href=\"#m1f7ad28a9d\" y=\"294.118125\"/>\n      </g>\n     </g>\n     <g id=\"text_4\">\n      <!-- 30 -->\n      <g transform=\"translate(1193.474121 308.716563)scale(0.1 -0.1)\">\n       <defs>\n        <path d=\"M 40.578125 39.3125 \nQ 47.65625 37.796875 51.625 33 \nQ 55.609375 28.21875 55.609375 21.1875 \nQ 55.609375 10.40625 48.1875 4.484375 \nQ 40.765625 -1.421875 27.09375 -1.421875 \nQ 22.515625 -1.421875 17.65625 -0.515625 \nQ 12.796875 0.390625 7.625 2.203125 \nL 7.625 11.71875 \nQ 11.71875 9.328125 16.59375 8.109375 \nQ 21.484375 6.890625 26.8125 6.890625 \nQ 36.078125 6.890625 40.9375 10.546875 \nQ 45.796875 14.203125 45.796875 21.1875 \nQ 45.796875 27.640625 41.28125 31.265625 \nQ 36.765625 34.90625 28.71875 34.90625 \nL 20.21875 34.90625 \nL 20.21875 43.015625 \nL 29.109375 43.015625 \nQ 36.375 43.015625 40.234375 45.921875 \nQ 44.09375 48.828125 44.09375 54.296875 \nQ 44.09375 59.90625 40.109375 62.90625 \nQ 36.140625 65.921875 28.71875 65.921875 \nQ 24.65625 65.921875 20.015625 65.03125 \nQ 15.375 64.15625 9.8125 62.3125 \nL 9.8125 71.09375 \nQ 15.4375 72.65625 20.34375 73.4375 \nQ 25.25 74.21875 29.59375 74.21875 \nQ 40.828125 74.21875 47.359375 69.109375 \nQ 53.90625 64.015625 53.90625 55.328125 \nQ 53.90625 49.265625 50.4375 45.09375 \nQ 46.96875 40.921875 40.578125 39.3125 \nz\n\" id=\"DejaVuSans-51\"/>\n       </defs>\n       <use xlink:href=\"#DejaVuSans-51\"/>\n       <use x=\"63.623047\" xlink:href=\"#DejaVuSans-48\"/>\n      </g>\n     </g>\n    </g>\n    <g id=\"xtick_5\">\n     <g id=\"line2d_5\">\n      <g>\n       <use style=\"stroke:#000000;stroke-width:0.8;\" x=\"1555.401617\" xlink:href=\"#m1f7ad28a9d\" y=\"294.118125\"/>\n      </g>\n     </g>\n     <g id=\"text_5\">\n      <!-- 40 -->\n      <g transform=\"translate(1549.039117 308.716563)scale(0.1 -0.1)\">\n       <defs>\n        <path d=\"M 37.796875 64.3125 \nL 12.890625 25.390625 \nL 37.796875 25.390625 \nz\nM 35.203125 72.90625 \nL 47.609375 72.90625 \nL 47.609375 25.390625 \nL 58.015625 25.390625 \nL 58.015625 17.1875 \nL 47.609375 17.1875 \nL 47.609375 0 \nL 37.796875 0 \nL 37.796875 17.1875 \nL 4.890625 17.1875 \nL 4.890625 26.703125 \nz\n\" id=\"DejaVuSans-52\"/>\n       </defs>\n       <use xlink:href=\"#DejaVuSans-52\"/>\n       <use x=\"63.623047\" xlink:href=\"#DejaVuSans-48\"/>\n      </g>\n     </g>\n    </g>\n   </g>\n   <g id=\"matplotlib.axis_2\">\n    <g id=\"ytick_1\">\n     <g id=\"line2d_6\">\n      <defs>\n       <path d=\"M 0 0 \nL -3.5 0 \n\" id=\"m70399df430\" style=\"stroke:#000000;stroke-width:0.8;\"/>\n      </defs>\n      <g>\n       <use style=\"stroke:#000000;stroke-width:0.8;\" x=\"42.828125\" xlink:href=\"#m70399df430\" y=\"294.118125\"/>\n      </g>\n     </g>\n     <g id=\"text_6\">\n      <!-- 0.000 -->\n      <g transform=\"translate(7.2 297.917344)scale(0.1 -0.1)\">\n       <defs>\n        <path d=\"M 10.6875 12.40625 \nL 21 12.40625 \nL 21 0 \nL 10.6875 0 \nz\n\" id=\"DejaVuSans-46\"/>\n       </defs>\n       <use xlink:href=\"#DejaVuSans-48\"/>\n       <use x=\"63.623047\" xlink:href=\"#DejaVuSans-46\"/>\n       <use x=\"95.410156\" xlink:href=\"#DejaVuSans-48\"/>\n       <use x=\"159.033203\" xlink:href=\"#DejaVuSans-48\"/>\n       <use x=\"222.65625\" xlink:href=\"#DejaVuSans-48\"/>\n      </g>\n     </g>\n    </g>\n    <g id=\"ytick_2\">\n     <g id=\"line2d_7\">\n      <g>\n       <use style=\"stroke:#000000;stroke-width:0.8;\" x=\"42.828125\" xlink:href=\"#m70399df430\" y=\"258.146611\"/>\n      </g>\n     </g>\n     <g id=\"text_7\">\n      <!-- 0.025 -->\n      <g transform=\"translate(7.2 261.94583)scale(0.1 -0.1)\">\n       <defs>\n        <path d=\"M 10.796875 72.90625 \nL 49.515625 72.90625 \nL 49.515625 64.59375 \nL 19.828125 64.59375 \nL 19.828125 46.734375 \nQ 21.96875 47.46875 24.109375 47.828125 \nQ 26.265625 48.1875 28.421875 48.1875 \nQ 40.625 48.1875 47.75 41.5 \nQ 54.890625 34.8125 54.890625 23.390625 \nQ 54.890625 11.625 47.5625 5.09375 \nQ 40.234375 -1.421875 26.90625 -1.421875 \nQ 22.3125 -1.421875 17.546875 -0.640625 \nQ 12.796875 0.140625 7.71875 1.703125 \nL 7.71875 11.625 \nQ 12.109375 9.234375 16.796875 8.0625 \nQ 21.484375 6.890625 26.703125 6.890625 \nQ 35.15625 6.890625 40.078125 11.328125 \nQ 45.015625 15.765625 45.015625 23.390625 \nQ 45.015625 31 40.078125 35.4375 \nQ 35.15625 39.890625 26.703125 39.890625 \nQ 22.75 39.890625 18.8125 39.015625 \nQ 14.890625 38.140625 10.796875 36.28125 \nz\n\" id=\"DejaVuSans-53\"/>\n       </defs>\n       <use xlink:href=\"#DejaVuSans-48\"/>\n       <use x=\"63.623047\" xlink:href=\"#DejaVuSans-46\"/>\n       <use x=\"95.410156\" xlink:href=\"#DejaVuSans-48\"/>\n       <use x=\"159.033203\" xlink:href=\"#DejaVuSans-50\"/>\n       <use x=\"222.65625\" xlink:href=\"#DejaVuSans-53\"/>\n      </g>\n     </g>\n    </g>\n    <g id=\"ytick_3\">\n     <g id=\"line2d_8\">\n      <g>\n       <use style=\"stroke:#000000;stroke-width:0.8;\" x=\"42.828125\" xlink:href=\"#m70399df430\" y=\"222.175097\"/>\n      </g>\n     </g>\n     <g id=\"text_8\">\n      <!-- 0.050 -->\n      <g transform=\"translate(7.2 225.974316)scale(0.1 -0.1)\">\n       <use xlink:href=\"#DejaVuSans-48\"/>\n       <use x=\"63.623047\" xlink:href=\"#DejaVuSans-46\"/>\n       <use x=\"95.410156\" xlink:href=\"#DejaVuSans-48\"/>\n       <use x=\"159.033203\" xlink:href=\"#DejaVuSans-53\"/>\n       <use x=\"222.65625\" xlink:href=\"#DejaVuSans-48\"/>\n      </g>\n     </g>\n    </g>\n    <g id=\"ytick_4\">\n     <g id=\"line2d_9\">\n      <g>\n       <use style=\"stroke:#000000;stroke-width:0.8;\" x=\"42.828125\" xlink:href=\"#m70399df430\" y=\"186.203583\"/>\n      </g>\n     </g>\n     <g id=\"text_9\">\n      <!-- 0.075 -->\n      <g transform=\"translate(7.2 190.002802)scale(0.1 -0.1)\">\n       <defs>\n        <path d=\"M 8.203125 72.90625 \nL 55.078125 72.90625 \nL 55.078125 68.703125 \nL 28.609375 0 \nL 18.3125 0 \nL 43.21875 64.59375 \nL 8.203125 64.59375 \nz\n\" id=\"DejaVuSans-55\"/>\n       </defs>\n       <use xlink:href=\"#DejaVuSans-48\"/>\n       <use x=\"63.623047\" xlink:href=\"#DejaVuSans-46\"/>\n       <use x=\"95.410156\" xlink:href=\"#DejaVuSans-48\"/>\n       <use x=\"159.033203\" xlink:href=\"#DejaVuSans-55\"/>\n       <use x=\"222.65625\" xlink:href=\"#DejaVuSans-53\"/>\n      </g>\n     </g>\n    </g>\n    <g id=\"ytick_5\">\n     <g id=\"line2d_10\">\n      <g>\n       <use style=\"stroke:#000000;stroke-width:0.8;\" x=\"42.828125\" xlink:href=\"#m70399df430\" y=\"150.232069\"/>\n      </g>\n     </g>\n     <g id=\"text_10\">\n      <!-- 0.100 -->\n      <g transform=\"translate(7.2 154.031288)scale(0.1 -0.1)\">\n       <use xlink:href=\"#DejaVuSans-48\"/>\n       <use x=\"63.623047\" xlink:href=\"#DejaVuSans-46\"/>\n       <use x=\"95.410156\" xlink:href=\"#DejaVuSans-49\"/>\n       <use x=\"159.033203\" xlink:href=\"#DejaVuSans-48\"/>\n       <use x=\"222.65625\" xlink:href=\"#DejaVuSans-48\"/>\n      </g>\n     </g>\n    </g>\n    <g id=\"ytick_6\">\n     <g id=\"line2d_11\">\n      <g>\n       <use style=\"stroke:#000000;stroke-width:0.8;\" x=\"42.828125\" xlink:href=\"#m70399df430\" y=\"114.260555\"/>\n      </g>\n     </g>\n     <g id=\"text_11\">\n      <!-- 0.125 -->\n      <g transform=\"translate(7.2 118.059773)scale(0.1 -0.1)\">\n       <use xlink:href=\"#DejaVuSans-48\"/>\n       <use x=\"63.623047\" xlink:href=\"#DejaVuSans-46\"/>\n       <use x=\"95.410156\" xlink:href=\"#DejaVuSans-49\"/>\n       <use x=\"159.033203\" xlink:href=\"#DejaVuSans-50\"/>\n       <use x=\"222.65625\" xlink:href=\"#DejaVuSans-53\"/>\n      </g>\n     </g>\n    </g>\n    <g id=\"ytick_7\">\n     <g id=\"line2d_12\">\n      <g>\n       <use style=\"stroke:#000000;stroke-width:0.8;\" x=\"42.828125\" xlink:href=\"#m70399df430\" y=\"78.289041\"/>\n      </g>\n     </g>\n     <g id=\"text_12\">\n      <!-- 0.150 -->\n      <g transform=\"translate(7.2 82.088259)scale(0.1 -0.1)\">\n       <use xlink:href=\"#DejaVuSans-48\"/>\n       <use x=\"63.623047\" xlink:href=\"#DejaVuSans-46\"/>\n       <use x=\"95.410156\" xlink:href=\"#DejaVuSans-49\"/>\n       <use x=\"159.033203\" xlink:href=\"#DejaVuSans-53\"/>\n       <use x=\"222.65625\" xlink:href=\"#DejaVuSans-48\"/>\n      </g>\n     </g>\n    </g>\n    <g id=\"ytick_8\">\n     <g id=\"line2d_13\">\n      <g>\n       <use style=\"stroke:#000000;stroke-width:0.8;\" x=\"42.828125\" xlink:href=\"#m70399df430\" y=\"42.317527\"/>\n      </g>\n     </g>\n     <g id=\"text_13\">\n      <!-- 0.175 -->\n      <g transform=\"translate(7.2 46.116745)scale(0.1 -0.1)\">\n       <use xlink:href=\"#DejaVuSans-48\"/>\n       <use x=\"63.623047\" xlink:href=\"#DejaVuSans-46\"/>\n       <use x=\"95.410156\" xlink:href=\"#DejaVuSans-49\"/>\n       <use x=\"159.033203\" xlink:href=\"#DejaVuSans-55\"/>\n       <use x=\"222.65625\" xlink:href=\"#DejaVuSans-53\"/>\n      </g>\n     </g>\n    </g>\n   </g>\n   <g id=\"patch_46\">\n    <path d=\"M 42.828125 294.118125 \nL 42.828125 22.318125 \n\" style=\"fill:none;stroke:#000000;stroke-linecap:square;stroke-linejoin:miter;stroke-width:0.8;\"/>\n   </g>\n   <g id=\"patch_47\">\n    <path d=\"M 1716.828125 294.118125 \nL 1716.828125 22.318125 \n\" style=\"fill:none;stroke:#000000;stroke-linecap:square;stroke-linejoin:miter;stroke-width:0.8;\"/>\n   </g>\n   <g id=\"patch_48\">\n    <path d=\"M 42.828125 294.118125 \nL 1716.828125 294.118125 \n\" style=\"fill:none;stroke:#000000;stroke-linecap:square;stroke-linejoin:miter;stroke-width:0.8;\"/>\n   </g>\n   <g id=\"patch_49\">\n    <path d=\"M 42.828125 22.318125 \nL 1716.828125 22.318125 \n\" style=\"fill:none;stroke:#000000;stroke-linecap:square;stroke-linejoin:miter;stroke-width:0.8;\"/>\n   </g>\n   <g id=\"text_14\">\n    <!-- Feature Importance in Decision Trees CART for Sell Signal -->\n    <g transform=\"translate(707.67875 16.318125)scale(0.12 -0.12)\">\n     <defs>\n      <path d=\"M 9.8125 72.90625 \nL 51.703125 72.90625 \nL 51.703125 64.59375 \nL 19.671875 64.59375 \nL 19.671875 43.109375 \nL 48.578125 43.109375 \nL 48.578125 34.8125 \nL 19.671875 34.8125 \nL 19.671875 0 \nL 9.8125 0 \nz\n\" id=\"DejaVuSans-70\"/>\n      <path d=\"M 56.203125 29.59375 \nL 56.203125 25.203125 \nL 14.890625 25.203125 \nQ 15.484375 15.921875 20.484375 11.0625 \nQ 25.484375 6.203125 34.421875 6.203125 \nQ 39.59375 6.203125 44.453125 7.46875 \nQ 49.3125 8.734375 54.109375 11.28125 \nL 54.109375 2.78125 \nQ 49.265625 0.734375 44.1875 -0.34375 \nQ 39.109375 -1.421875 33.890625 -1.421875 \nQ 20.796875 -1.421875 13.15625 6.1875 \nQ 5.515625 13.8125 5.515625 26.8125 \nQ 5.515625 40.234375 12.765625 48.109375 \nQ 20.015625 56 32.328125 56 \nQ 43.359375 56 49.78125 48.890625 \nQ 56.203125 41.796875 56.203125 29.59375 \nz\nM 47.21875 32.234375 \nQ 47.125 39.59375 43.09375 43.984375 \nQ 39.0625 48.390625 32.421875 48.390625 \nQ 24.90625 48.390625 20.390625 44.140625 \nQ 15.875 39.890625 15.1875 32.171875 \nz\n\" id=\"DejaVuSans-101\"/>\n      <path d=\"M 34.28125 27.484375 \nQ 23.390625 27.484375 19.1875 25 \nQ 14.984375 22.515625 14.984375 16.5 \nQ 14.984375 11.71875 18.140625 8.90625 \nQ 21.296875 6.109375 26.703125 6.109375 \nQ 34.1875 6.109375 38.703125 11.40625 \nQ 43.21875 16.703125 43.21875 25.484375 \nL 43.21875 27.484375 \nz\nM 52.203125 31.203125 \nL 52.203125 0 \nL 43.21875 0 \nL 43.21875 8.296875 \nQ 40.140625 3.328125 35.546875 0.953125 \nQ 30.953125 -1.421875 24.3125 -1.421875 \nQ 15.921875 -1.421875 10.953125 3.296875 \nQ 6 8.015625 6 15.921875 \nQ 6 25.140625 12.171875 29.828125 \nQ 18.359375 34.515625 30.609375 34.515625 \nL 43.21875 34.515625 \nL 43.21875 35.40625 \nQ 43.21875 41.609375 39.140625 45 \nQ 35.0625 48.390625 27.6875 48.390625 \nQ 23 48.390625 18.546875 47.265625 \nQ 14.109375 46.140625 10.015625 43.890625 \nL 10.015625 52.203125 \nQ 14.9375 54.109375 19.578125 55.046875 \nQ 24.21875 56 28.609375 56 \nQ 40.484375 56 46.34375 49.84375 \nQ 52.203125 43.703125 52.203125 31.203125 \nz\n\" id=\"DejaVuSans-97\"/>\n      <path d=\"M 18.3125 70.21875 \nL 18.3125 54.6875 \nL 36.8125 54.6875 \nL 36.8125 47.703125 \nL 18.3125 47.703125 \nL 18.3125 18.015625 \nQ 18.3125 11.328125 20.140625 9.421875 \nQ 21.96875 7.515625 27.59375 7.515625 \nL 36.8125 7.515625 \nL 36.8125 0 \nL 27.59375 0 \nQ 17.1875 0 13.234375 3.875 \nQ 9.28125 7.765625 9.28125 18.015625 \nL 9.28125 47.703125 \nL 2.6875 47.703125 \nL 2.6875 54.6875 \nL 9.28125 54.6875 \nL 9.28125 70.21875 \nz\n\" id=\"DejaVuSans-116\"/>\n      <path d=\"M 8.5 21.578125 \nL 8.5 54.6875 \nL 17.484375 54.6875 \nL 17.484375 21.921875 \nQ 17.484375 14.15625 20.5 10.265625 \nQ 23.53125 6.390625 29.59375 6.390625 \nQ 36.859375 6.390625 41.078125 11.03125 \nQ 45.3125 15.671875 45.3125 23.6875 \nL 45.3125 54.6875 \nL 54.296875 54.6875 \nL 54.296875 0 \nL 45.3125 0 \nL 45.3125 8.40625 \nQ 42.046875 3.421875 37.71875 1 \nQ 33.40625 -1.421875 27.6875 -1.421875 \nQ 18.265625 -1.421875 13.375 4.4375 \nQ 8.5 10.296875 8.5 21.578125 \nz\nM 31.109375 56 \nz\n\" id=\"DejaVuSans-117\"/>\n      <path d=\"M 41.109375 46.296875 \nQ 39.59375 47.171875 37.8125 47.578125 \nQ 36.03125 48 33.890625 48 \nQ 26.265625 48 22.1875 43.046875 \nQ 18.109375 38.09375 18.109375 28.8125 \nL 18.109375 0 \nL 9.078125 0 \nL 9.078125 54.6875 \nL 18.109375 54.6875 \nL 18.109375 46.1875 \nQ 20.953125 51.171875 25.484375 53.578125 \nQ 30.03125 56 36.53125 56 \nQ 37.453125 56 38.578125 55.875 \nQ 39.703125 55.765625 41.0625 55.515625 \nz\n\" id=\"DejaVuSans-114\"/>\n      <path id=\"DejaVuSans-32\"/>\n      <path d=\"M 9.8125 72.90625 \nL 19.671875 72.90625 \nL 19.671875 0 \nL 9.8125 0 \nz\n\" id=\"DejaVuSans-73\"/>\n      <path d=\"M 52 44.1875 \nQ 55.375 50.25 60.0625 53.125 \nQ 64.75 56 71.09375 56 \nQ 79.640625 56 84.28125 50.015625 \nQ 88.921875 44.046875 88.921875 33.015625 \nL 88.921875 0 \nL 79.890625 0 \nL 79.890625 32.71875 \nQ 79.890625 40.578125 77.09375 44.375 \nQ 74.3125 48.1875 68.609375 48.1875 \nQ 61.625 48.1875 57.5625 43.546875 \nQ 53.515625 38.921875 53.515625 30.90625 \nL 53.515625 0 \nL 44.484375 0 \nL 44.484375 32.71875 \nQ 44.484375 40.625 41.703125 44.40625 \nQ 38.921875 48.1875 33.109375 48.1875 \nQ 26.21875 48.1875 22.15625 43.53125 \nQ 18.109375 38.875 18.109375 30.90625 \nL 18.109375 0 \nL 9.078125 0 \nL 9.078125 54.6875 \nL 18.109375 54.6875 \nL 18.109375 46.1875 \nQ 21.1875 51.21875 25.484375 53.609375 \nQ 29.78125 56 35.6875 56 \nQ 41.65625 56 45.828125 52.96875 \nQ 50 49.953125 52 44.1875 \nz\n\" id=\"DejaVuSans-109\"/>\n      <path d=\"M 18.109375 8.203125 \nL 18.109375 -20.796875 \nL 9.078125 -20.796875 \nL 9.078125 54.6875 \nL 18.109375 54.6875 \nL 18.109375 46.390625 \nQ 20.953125 51.265625 25.265625 53.625 \nQ 29.59375 56 35.59375 56 \nQ 45.5625 56 51.78125 48.09375 \nQ 58.015625 40.1875 58.015625 27.296875 \nQ 58.015625 14.40625 51.78125 6.484375 \nQ 45.5625 -1.421875 35.59375 -1.421875 \nQ 29.59375 -1.421875 25.265625 0.953125 \nQ 20.953125 3.328125 18.109375 8.203125 \nz\nM 48.6875 27.296875 \nQ 48.6875 37.203125 44.609375 42.84375 \nQ 40.53125 48.484375 33.40625 48.484375 \nQ 26.265625 48.484375 22.1875 42.84375 \nQ 18.109375 37.203125 18.109375 27.296875 \nQ 18.109375 17.390625 22.1875 11.75 \nQ 26.265625 6.109375 33.40625 6.109375 \nQ 40.53125 6.109375 44.609375 11.75 \nQ 48.6875 17.390625 48.6875 27.296875 \nz\n\" id=\"DejaVuSans-112\"/>\n      <path d=\"M 30.609375 48.390625 \nQ 23.390625 48.390625 19.1875 42.75 \nQ 14.984375 37.109375 14.984375 27.296875 \nQ 14.984375 17.484375 19.15625 11.84375 \nQ 23.34375 6.203125 30.609375 6.203125 \nQ 37.796875 6.203125 41.984375 11.859375 \nQ 46.1875 17.53125 46.1875 27.296875 \nQ 46.1875 37.015625 41.984375 42.703125 \nQ 37.796875 48.390625 30.609375 48.390625 \nz\nM 30.609375 56 \nQ 42.328125 56 49.015625 48.375 \nQ 55.71875 40.765625 55.71875 27.296875 \nQ 55.71875 13.875 49.015625 6.21875 \nQ 42.328125 -1.421875 30.609375 -1.421875 \nQ 18.84375 -1.421875 12.171875 6.21875 \nQ 5.515625 13.875 5.515625 27.296875 \nQ 5.515625 40.765625 12.171875 48.375 \nQ 18.84375 56 30.609375 56 \nz\n\" id=\"DejaVuSans-111\"/>\n      <path d=\"M 54.890625 33.015625 \nL 54.890625 0 \nL 45.90625 0 \nL 45.90625 32.71875 \nQ 45.90625 40.484375 42.875 44.328125 \nQ 39.84375 48.1875 33.796875 48.1875 \nQ 26.515625 48.1875 22.3125 43.546875 \nQ 18.109375 38.921875 18.109375 30.90625 \nL 18.109375 0 \nL 9.078125 0 \nL 9.078125 54.6875 \nL 18.109375 54.6875 \nL 18.109375 46.1875 \nQ 21.34375 51.125 25.703125 53.5625 \nQ 30.078125 56 35.796875 56 \nQ 45.21875 56 50.046875 50.171875 \nQ 54.890625 44.34375 54.890625 33.015625 \nz\n\" id=\"DejaVuSans-110\"/>\n      <path d=\"M 48.78125 52.59375 \nL 48.78125 44.1875 \nQ 44.96875 46.296875 41.140625 47.34375 \nQ 37.3125 48.390625 33.40625 48.390625 \nQ 24.65625 48.390625 19.8125 42.84375 \nQ 14.984375 37.3125 14.984375 27.296875 \nQ 14.984375 17.28125 19.8125 11.734375 \nQ 24.65625 6.203125 33.40625 6.203125 \nQ 37.3125 6.203125 41.140625 7.25 \nQ 44.96875 8.296875 48.78125 10.40625 \nL 48.78125 2.09375 \nQ 45.015625 0.34375 40.984375 -0.53125 \nQ 36.96875 -1.421875 32.421875 -1.421875 \nQ 20.0625 -1.421875 12.78125 6.34375 \nQ 5.515625 14.109375 5.515625 27.296875 \nQ 5.515625 40.671875 12.859375 48.328125 \nQ 20.21875 56 33.015625 56 \nQ 37.15625 56 41.109375 55.140625 \nQ 45.0625 54.296875 48.78125 52.59375 \nz\n\" id=\"DejaVuSans-99\"/>\n      <path d=\"M 9.421875 54.6875 \nL 18.40625 54.6875 \nL 18.40625 0 \nL 9.421875 0 \nz\nM 9.421875 75.984375 \nL 18.40625 75.984375 \nL 18.40625 64.59375 \nL 9.421875 64.59375 \nz\n\" id=\"DejaVuSans-105\"/>\n      <path d=\"M 19.671875 64.796875 \nL 19.671875 8.109375 \nL 31.59375 8.109375 \nQ 46.6875 8.109375 53.6875 14.9375 \nQ 60.6875 21.78125 60.6875 36.53125 \nQ 60.6875 51.171875 53.6875 57.984375 \nQ 46.6875 64.796875 31.59375 64.796875 \nz\nM 9.8125 72.90625 \nL 30.078125 72.90625 \nQ 51.265625 72.90625 61.171875 64.09375 \nQ 71.09375 55.28125 71.09375 36.53125 \nQ 71.09375 17.671875 61.125 8.828125 \nQ 51.171875 0 30.078125 0 \nL 9.8125 0 \nz\n\" id=\"DejaVuSans-68\"/>\n      <path d=\"M 44.28125 53.078125 \nL 44.28125 44.578125 \nQ 40.484375 46.53125 36.375 47.5 \nQ 32.28125 48.484375 27.875 48.484375 \nQ 21.1875 48.484375 17.84375 46.4375 \nQ 14.5 44.390625 14.5 40.28125 \nQ 14.5 37.15625 16.890625 35.375 \nQ 19.28125 33.59375 26.515625 31.984375 \nL 29.59375 31.296875 \nQ 39.15625 29.25 43.1875 25.515625 \nQ 47.21875 21.78125 47.21875 15.09375 \nQ 47.21875 7.46875 41.1875 3.015625 \nQ 35.15625 -1.421875 24.609375 -1.421875 \nQ 20.21875 -1.421875 15.453125 -0.5625 \nQ 10.6875 0.296875 5.421875 2 \nL 5.421875 11.28125 \nQ 10.40625 8.6875 15.234375 7.390625 \nQ 20.0625 6.109375 24.8125 6.109375 \nQ 31.15625 6.109375 34.5625 8.28125 \nQ 37.984375 10.453125 37.984375 14.40625 \nQ 37.984375 18.0625 35.515625 20.015625 \nQ 33.0625 21.96875 24.703125 23.78125 \nL 21.578125 24.515625 \nQ 13.234375 26.265625 9.515625 29.90625 \nQ 5.8125 33.546875 5.8125 39.890625 \nQ 5.8125 47.609375 11.28125 51.796875 \nQ 16.75 56 26.8125 56 \nQ 31.78125 56 36.171875 55.265625 \nQ 40.578125 54.546875 44.28125 53.078125 \nz\n\" id=\"DejaVuSans-115\"/>\n      <path d=\"M -0.296875 72.90625 \nL 61.375 72.90625 \nL 61.375 64.59375 \nL 35.5 64.59375 \nL 35.5 0 \nL 25.59375 0 \nL 25.59375 64.59375 \nL -0.296875 64.59375 \nz\n\" id=\"DejaVuSans-84\"/>\n      <path d=\"M 64.40625 67.28125 \nL 64.40625 56.890625 \nQ 59.421875 61.53125 53.78125 63.8125 \nQ 48.140625 66.109375 41.796875 66.109375 \nQ 29.296875 66.109375 22.65625 58.46875 \nQ 16.015625 50.828125 16.015625 36.375 \nQ 16.015625 21.96875 22.65625 14.328125 \nQ 29.296875 6.6875 41.796875 6.6875 \nQ 48.140625 6.6875 53.78125 8.984375 \nQ 59.421875 11.28125 64.40625 15.921875 \nL 64.40625 5.609375 \nQ 59.234375 2.09375 53.4375 0.328125 \nQ 47.65625 -1.421875 41.21875 -1.421875 \nQ 24.65625 -1.421875 15.125 8.703125 \nQ 5.609375 18.84375 5.609375 36.375 \nQ 5.609375 53.953125 15.125 64.078125 \nQ 24.65625 74.21875 41.21875 74.21875 \nQ 47.75 74.21875 53.53125 72.484375 \nQ 59.328125 70.75 64.40625 67.28125 \nz\n\" id=\"DejaVuSans-67\"/>\n      <path d=\"M 34.1875 63.1875 \nL 20.796875 26.90625 \nL 47.609375 26.90625 \nz\nM 28.609375 72.90625 \nL 39.796875 72.90625 \nL 67.578125 0 \nL 57.328125 0 \nL 50.6875 18.703125 \nL 17.828125 18.703125 \nL 11.1875 0 \nL 0.78125 0 \nz\n\" id=\"DejaVuSans-65\"/>\n      <path d=\"M 44.390625 34.1875 \nQ 47.5625 33.109375 50.5625 29.59375 \nQ 53.5625 26.078125 56.59375 19.921875 \nL 66.609375 0 \nL 56 0 \nL 46.6875 18.703125 \nQ 43.0625 26.03125 39.671875 28.421875 \nQ 36.28125 30.8125 30.421875 30.8125 \nL 19.671875 30.8125 \nL 19.671875 0 \nL 9.8125 0 \nL 9.8125 72.90625 \nL 32.078125 72.90625 \nQ 44.578125 72.90625 50.734375 67.671875 \nQ 56.890625 62.453125 56.890625 51.90625 \nQ 56.890625 45.015625 53.6875 40.46875 \nQ 50.484375 35.9375 44.390625 34.1875 \nz\nM 19.671875 64.796875 \nL 19.671875 38.921875 \nL 32.078125 38.921875 \nQ 39.203125 38.921875 42.84375 42.21875 \nQ 46.484375 45.515625 46.484375 51.90625 \nQ 46.484375 58.296875 42.84375 61.546875 \nQ 39.203125 64.796875 32.078125 64.796875 \nz\n\" id=\"DejaVuSans-82\"/>\n      <path d=\"M 37.109375 75.984375 \nL 37.109375 68.5 \nL 28.515625 68.5 \nQ 23.6875 68.5 21.796875 66.546875 \nQ 19.921875 64.59375 19.921875 59.515625 \nL 19.921875 54.6875 \nL 34.71875 54.6875 \nL 34.71875 47.703125 \nL 19.921875 47.703125 \nL 19.921875 0 \nL 10.890625 0 \nL 10.890625 47.703125 \nL 2.296875 47.703125 \nL 2.296875 54.6875 \nL 10.890625 54.6875 \nL 10.890625 58.5 \nQ 10.890625 67.625 15.140625 71.796875 \nQ 19.390625 75.984375 28.609375 75.984375 \nz\n\" id=\"DejaVuSans-102\"/>\n      <path d=\"M 53.515625 70.515625 \nL 53.515625 60.890625 \nQ 47.90625 63.578125 42.921875 64.890625 \nQ 37.9375 66.21875 33.296875 66.21875 \nQ 25.25 66.21875 20.875 63.09375 \nQ 16.5 59.96875 16.5 54.203125 \nQ 16.5 49.359375 19.40625 46.890625 \nQ 22.3125 44.4375 30.421875 42.921875 \nL 36.375 41.703125 \nQ 47.40625 39.59375 52.65625 34.296875 \nQ 57.90625 29 57.90625 20.125 \nQ 57.90625 9.515625 50.796875 4.046875 \nQ 43.703125 -1.421875 29.984375 -1.421875 \nQ 24.8125 -1.421875 18.96875 -0.25 \nQ 13.140625 0.921875 6.890625 3.21875 \nL 6.890625 13.375 \nQ 12.890625 10.015625 18.65625 8.296875 \nQ 24.421875 6.59375 29.984375 6.59375 \nQ 38.421875 6.59375 43.015625 9.90625 \nQ 47.609375 13.234375 47.609375 19.390625 \nQ 47.609375 24.75 44.3125 27.78125 \nQ 41.015625 30.8125 33.5 32.328125 \nL 27.484375 33.5 \nQ 16.453125 35.6875 11.515625 40.375 \nQ 6.59375 45.0625 6.59375 53.421875 \nQ 6.59375 63.09375 13.40625 68.65625 \nQ 20.21875 74.21875 32.171875 74.21875 \nQ 37.3125 74.21875 42.625 73.28125 \nQ 47.953125 72.359375 53.515625 70.515625 \nz\n\" id=\"DejaVuSans-83\"/>\n      <path d=\"M 9.421875 75.984375 \nL 18.40625 75.984375 \nL 18.40625 0 \nL 9.421875 0 \nz\n\" id=\"DejaVuSans-108\"/>\n      <path d=\"M 45.40625 27.984375 \nQ 45.40625 37.75 41.375 43.109375 \nQ 37.359375 48.484375 30.078125 48.484375 \nQ 22.859375 48.484375 18.828125 43.109375 \nQ 14.796875 37.75 14.796875 27.984375 \nQ 14.796875 18.265625 18.828125 12.890625 \nQ 22.859375 7.515625 30.078125 7.515625 \nQ 37.359375 7.515625 41.375 12.890625 \nQ 45.40625 18.265625 45.40625 27.984375 \nz\nM 54.390625 6.78125 \nQ 54.390625 -7.171875 48.1875 -13.984375 \nQ 42 -20.796875 29.203125 -20.796875 \nQ 24.46875 -20.796875 20.265625 -20.09375 \nQ 16.0625 -19.390625 12.109375 -17.921875 \nL 12.109375 -9.1875 \nQ 16.0625 -11.328125 19.921875 -12.34375 \nQ 23.78125 -13.375 27.78125 -13.375 \nQ 36.625 -13.375 41.015625 -8.765625 \nQ 45.40625 -4.15625 45.40625 5.171875 \nL 45.40625 9.625 \nQ 42.625 4.78125 38.28125 2.390625 \nQ 33.9375 0 27.875 0 \nQ 17.828125 0 11.671875 7.65625 \nQ 5.515625 15.328125 5.515625 27.984375 \nQ 5.515625 40.671875 11.671875 48.328125 \nQ 17.828125 56 27.875 56 \nQ 33.9375 56 38.28125 53.609375 \nQ 42.625 51.21875 45.40625 46.390625 \nL 45.40625 54.6875 \nL 54.390625 54.6875 \nz\n\" id=\"DejaVuSans-103\"/>\n     </defs>\n     <use xlink:href=\"#DejaVuSans-70\"/>\n     <use x=\"52.019531\" xlink:href=\"#DejaVuSans-101\"/>\n     <use x=\"113.542969\" xlink:href=\"#DejaVuSans-97\"/>\n     <use x=\"174.822266\" xlink:href=\"#DejaVuSans-116\"/>\n     <use x=\"214.03125\" xlink:href=\"#DejaVuSans-117\"/>\n     <use x=\"277.410156\" xlink:href=\"#DejaVuSans-114\"/>\n     <use x=\"316.273438\" xlink:href=\"#DejaVuSans-101\"/>\n     <use x=\"377.796875\" xlink:href=\"#DejaVuSans-32\"/>\n     <use x=\"409.583984\" xlink:href=\"#DejaVuSans-73\"/>\n     <use x=\"439.076172\" xlink:href=\"#DejaVuSans-109\"/>\n     <use x=\"536.488281\" xlink:href=\"#DejaVuSans-112\"/>\n     <use x=\"599.964844\" xlink:href=\"#DejaVuSans-111\"/>\n     <use x=\"661.146484\" xlink:href=\"#DejaVuSans-114\"/>\n     <use x=\"702.259766\" xlink:href=\"#DejaVuSans-116\"/>\n     <use x=\"741.46875\" xlink:href=\"#DejaVuSans-97\"/>\n     <use x=\"802.748047\" xlink:href=\"#DejaVuSans-110\"/>\n     <use x=\"866.126953\" xlink:href=\"#DejaVuSans-99\"/>\n     <use x=\"921.107422\" xlink:href=\"#DejaVuSans-101\"/>\n     <use x=\"982.630859\" xlink:href=\"#DejaVuSans-32\"/>\n     <use x=\"1014.417969\" xlink:href=\"#DejaVuSans-105\"/>\n     <use x=\"1042.201172\" xlink:href=\"#DejaVuSans-110\"/>\n     <use x=\"1105.580078\" xlink:href=\"#DejaVuSans-32\"/>\n     <use x=\"1137.367188\" xlink:href=\"#DejaVuSans-68\"/>\n     <use x=\"1214.369141\" xlink:href=\"#DejaVuSans-101\"/>\n     <use x=\"1275.892578\" xlink:href=\"#DejaVuSans-99\"/>\n     <use x=\"1330.873047\" xlink:href=\"#DejaVuSans-105\"/>\n     <use x=\"1358.65625\" xlink:href=\"#DejaVuSans-115\"/>\n     <use x=\"1410.755859\" xlink:href=\"#DejaVuSans-105\"/>\n     <use x=\"1438.539062\" xlink:href=\"#DejaVuSans-111\"/>\n     <use x=\"1499.720703\" xlink:href=\"#DejaVuSans-110\"/>\n     <use x=\"1563.099609\" xlink:href=\"#DejaVuSans-32\"/>\n     <use x=\"1594.886719\" xlink:href=\"#DejaVuSans-84\"/>\n     <use x=\"1641.220703\" xlink:href=\"#DejaVuSans-114\"/>\n     <use x=\"1680.083984\" xlink:href=\"#DejaVuSans-101\"/>\n     <use x=\"1741.607422\" xlink:href=\"#DejaVuSans-101\"/>\n     <use x=\"1803.130859\" xlink:href=\"#DejaVuSans-115\"/>\n     <use x=\"1855.230469\" xlink:href=\"#DejaVuSans-32\"/>\n     <use x=\"1887.017578\" xlink:href=\"#DejaVuSans-67\"/>\n     <use x=\"1956.841797\" xlink:href=\"#DejaVuSans-65\"/>\n     <use x=\"2025.25\" xlink:href=\"#DejaVuSans-82\"/>\n     <use x=\"2087.482422\" xlink:href=\"#DejaVuSans-84\"/>\n     <use x=\"2148.566406\" xlink:href=\"#DejaVuSans-32\"/>\n     <use x=\"2180.353516\" xlink:href=\"#DejaVuSans-102\"/>\n     <use x=\"2215.558594\" xlink:href=\"#DejaVuSans-111\"/>\n     <use x=\"2276.740234\" xlink:href=\"#DejaVuSans-114\"/>\n     <use x=\"2317.853516\" xlink:href=\"#DejaVuSans-32\"/>\n     <use x=\"2349.640625\" xlink:href=\"#DejaVuSans-83\"/>\n     <use x=\"2413.117188\" xlink:href=\"#DejaVuSans-101\"/>\n     <use x=\"2474.640625\" xlink:href=\"#DejaVuSans-108\"/>\n     <use x=\"2502.423828\" xlink:href=\"#DejaVuSans-108\"/>\n     <use x=\"2530.207031\" xlink:href=\"#DejaVuSans-32\"/>\n     <use x=\"2561.994141\" xlink:href=\"#DejaVuSans-83\"/>\n     <use x=\"2625.470703\" xlink:href=\"#DejaVuSans-105\"/>\n     <use x=\"2653.253906\" xlink:href=\"#DejaVuSans-103\"/>\n     <use x=\"2716.730469\" xlink:href=\"#DejaVuSans-110\"/>\n     <use x=\"2780.109375\" xlink:href=\"#DejaVuSans-97\"/>\n     <use x=\"2841.388672\" xlink:href=\"#DejaVuSans-108\"/>\n    </g>\n   </g>\n  </g>\n </g>\n <defs>\n  <clipPath id=\"p00ddab58c0\">\n   <rect height=\"271.8\" width=\"1674\" x=\"42.828125\" y=\"22.318125\"/>\n  </clipPath>\n </defs>\n</svg>\n",
      "image/png": "[encoded data removed]"
     },
     "metadata": {
      "needs_background": "light"
     }
    },
    {
     "output_type": "stream",
     "name": "stdout",
     "text": [
      "CPU times: user 347 ms, sys: 30.4 ms, total: 377 ms\nWall time: 372 ms\n"
     ]
    }
   ],
   "source": [
    "%%time\n",
    "from sklearn.tree import DecisionTreeRegressor\n",
    "# define the model\n",
    "model = DecisionTreeRegressor()\n",
    "# fit the model\n",
    "model.fit(features_train.drop(['Date','Symbol','Buy','Sell','TRACKER'],axis=1), features_train.Sell)\n",
    "# get importance\n",
    "importance = model.feature_importances_\n",
    "# summarize feature importance\n",
    "for i,v in enumerate(importance):\n",
    "\tprint('Feature: %0d, Score: %.5f' % (i,v))\n",
    "# plot feature importance\n",
    "pyplot.figure(figsize=(30,5))\n",
    "pyplot.title('Feature Importance in Decision Trees CART for Sell Signal')\n",
    "pyplot.bar([x for x in range(len(importance))], importance)\n",
    "pyplot.show()"
   ]
  },
  {
   "cell_type": "code",
   "execution_count": 398,
   "metadata": {},
   "outputs": [
    {
     "output_type": "stream",
     "name": "stdout",
     "text": [
      "Feature: 0, Score: 0.03374\nFeature: 1, Score: 0.03992\nFeature: 2, Score: 0.02655\nFeature: 3, Score: 0.02030\nFeature: 4, Score: 0.01978\nFeature: 5, Score: 0.01824\nFeature: 6, Score: 0.03920\nFeature: 7, Score: 0.04592\nFeature: 8, Score: 0.02911\nFeature: 9, Score: 0.03000\nFeature: 10, Score: 0.01723\nFeature: 11, Score: 0.02133\nFeature: 12, Score: 0.00000\nFeature: 13, Score: 0.01879\nFeature: 14, Score: 0.02272\nFeature: 15, Score: 0.02179\nFeature: 16, Score: 0.03176\nFeature: 17, Score: 0.02079\nFeature: 18, Score: 0.01994\nFeature: 19, Score: 0.02611\nFeature: 20, Score: 0.04199\nFeature: 21, Score: 0.02124\nFeature: 22, Score: 0.02027\nFeature: 23, Score: 0.02563\nFeature: 24, Score: 0.04116\nFeature: 25, Score: 0.02073\nFeature: 26, Score: 0.02664\nFeature: 27, Score: 0.02348\nFeature: 28, Score: 0.01581\nFeature: 29, Score: 0.01720\nFeature: 30, Score: 0.01571\nFeature: 31, Score: 0.01567\nFeature: 32, Score: 0.01606\nFeature: 33, Score: 0.01648\nFeature: 34, Score: 0.01567\nFeature: 35, Score: 0.01547\nFeature: 36, Score: 0.01527\nFeature: 37, Score: 0.01497\nFeature: 38, Score: 0.01622\nFeature: 39, Score: 0.01520\nFeature: 40, Score: 0.01551\nFeature: 41, Score: 0.02632\nFeature: 42, Score: 0.04412\n"
     ]
    },
    {
     "output_type": "display_data",
     "data": {
      "text/plain": "<Figure size 2160x360 with 1 Axes>",
      "image/svg+xml": "<?xml version=\"1.0\" encoding=\"utf-8\" standalone=\"no\"?>\n<!DOCTYPE svg PUBLIC \"-//W3C//DTD SVG 1.1//EN\"\n  \"http://www.w3.org/Graphics/SVG/1.1/DTD/svg11.dtd\">\n<!-- Created with matplotlib (https://matplotlib.org/) -->\n<svg height=\"317.99625pt\" version=\"1.1\" viewBox=\"0 0 1717.665625 317.99625\" width=\"1717.665625pt\" xmlns=\"http://www.w3.org/2000/svg\" xmlns:xlink=\"http://www.w3.org/1999/xlink\">\n <metadata>\n  <rdf:RDF xmlns:cc=\"http://creativecommons.org/ns#\" xmlns:dc=\"http://purl.org/dc/elements/1.1/\" xmlns:rdf=\"http://www.w3.org/1999/02/22-rdf-syntax-ns#\">\n   <cc:Work>\n    <dc:type rdf:resource=\"http://purl.org/dc/dcmitype/StillImage\"/>\n    <dc:date>2021-01-26T12:38:50.568384</dc:date>\n    <dc:format>image/svg+xml</dc:format>\n    <dc:creator>\n     <cc:Agent>\n      <dc:title>Matplotlib v3.3.3, https://matplotlib.org/</dc:title>\n     </cc:Agent>\n    </dc:creator>\n   </cc:Work>\n  </rdf:RDF>\n </metadata>\n <defs>\n  <style type=\"text/css\">*{stroke-linecap:butt;stroke-linejoin:round;}</style>\n </defs>\n <g id=\"figure_1\">\n  <g id=\"patch_1\">\n   <path d=\"M 0 317.99625 \nL 1717.665625 317.99625 \nL 1717.665625 0 \nL 0 0 \nz\n\" style=\"fill:none;\"/>\n  </g>\n  <g id=\"axes_1\">\n   <g id=\"patch_2\">\n    <path d=\"M 36.465625 294.118125 \nL 1710.465625 294.118125 \nL 1710.465625 22.318125 \nL 36.465625 22.318125 \nz\n\" style=\"fill:#ffffff;\"/>\n   </g>\n   <g id=\"patch_3\">\n    <path clip-path=\"url(#pd7126707d6)\" d=\"M 112.556534 294.118125 \nL 141.001734 294.118125 \nL 141.001734 103.903361 \nL 112.556534 103.903361 \nz\n\" style=\"fill:#1f77b4;\"/>\n   </g>\n   <g id=\"patch_4\">\n    <path clip-path=\"url(#pd7126707d6)\" d=\"M 148.113034 294.118125 \nL 176.558233 294.118125 \nL 176.558233 69.100518 \nL 148.113034 69.100518 \nz\n\" style=\"fill:#1f77b4;\"/>\n   </g>\n   <g id=\"patch_5\">\n    <path clip-path=\"url(#pd7126707d6)\" d=\"M 183.669533 294.118125 \nL 212.114733 294.118125 \nL 212.114733 144.458775 \nL 183.669533 144.458775 \nz\n\" style=\"fill:#1f77b4;\"/>\n   </g>\n   <g id=\"patch_6\">\n    <path clip-path=\"url(#pd7126707d6)\" d=\"M 219.226033 294.118125 \nL 247.671232 294.118125 \nL 247.671232 179.69688 \nL 219.226033 179.69688 \nz\n\" style=\"fill:#1f77b4;\"/>\n   </g>\n   <g id=\"patch_7\">\n    <path clip-path=\"url(#pd7126707d6)\" d=\"M 254.782532 294.118125 \nL 283.227732 294.118125 \nL 283.227732 182.59926 \nL 254.782532 182.59926 \nz\n\" style=\"fill:#1f77b4;\"/>\n   </g>\n   <g id=\"patch_8\">\n    <path clip-path=\"url(#pd7126707d6)\" d=\"M 290.339032 294.118125 \nL 318.784232 294.118125 \nL 318.784232 191.301044 \nL 290.339032 191.301044 \nz\n\" style=\"fill:#1f77b4;\"/>\n   </g>\n   <g id=\"patch_9\">\n    <path clip-path=\"url(#pd7126707d6)\" d=\"M 325.895532 294.118125 \nL 354.340731 294.118125 \nL 354.340731 73.140395 \nL 325.895532 73.140395 \nz\n\" style=\"fill:#1f77b4;\"/>\n   </g>\n   <g id=\"patch_10\">\n    <path clip-path=\"url(#pd7126707d6)\" d=\"M 361.452031 294.118125 \nL 389.897231 294.118125 \nL 389.897231 35.260982 \nL 361.452031 35.260982 \nz\n\" style=\"fill:#1f77b4;\"/>\n   </g>\n   <g id=\"patch_11\">\n    <path clip-path=\"url(#pd7126707d6)\" d=\"M 397.008531 294.118125 \nL 425.45373 294.118125 \nL 425.45373 130.050137 \nL 397.008531 130.050137 \nz\n\" style=\"fill:#1f77b4;\"/>\n   </g>\n   <g id=\"patch_12\">\n    <path clip-path=\"url(#pd7126707d6)\" d=\"M 432.56503 294.118125 \nL 461.01023 294.118125 \nL 461.01023 125.010924 \nL 432.56503 125.010924 \nz\n\" style=\"fill:#1f77b4;\"/>\n   </g>\n   <g id=\"patch_13\">\n    <path clip-path=\"url(#pd7126707d6)\" d=\"M 468.12153 294.118125 \nL 496.56673 294.118125 \nL 496.56673 197.013417 \nL 468.12153 197.013417 \nz\n\" style=\"fill:#1f77b4;\"/>\n   </g>\n   <g id=\"patch_14\">\n    <path clip-path=\"url(#pd7126707d6)\" d=\"M 503.678029 294.118125 \nL 532.123229 294.118125 \nL 532.123229 173.891958 \nL 503.678029 173.891958 \nz\n\" style=\"fill:#1f77b4;\"/>\n   </g>\n   <g id=\"patch_15\">\n    <path clip-path=\"url(#pd7126707d6)\" d=\"M 539.234529 294.118125 \nL 567.679729 294.118125 \nL 567.679729 294.118125 \nL 539.234529 294.118125 \nz\n\" style=\"fill:#1f77b4;\"/>\n   </g>\n   <g id=\"patch_16\">\n    <path clip-path=\"url(#pd7126707d6)\" d=\"M 574.791029 294.118125 \nL 603.236228 294.118125 \nL 603.236228 188.22579 \nL 574.791029 188.22579 \nz\n\" style=\"fill:#1f77b4;\"/>\n   </g>\n   <g id=\"patch_17\">\n    <path clip-path=\"url(#pd7126707d6)\" d=\"M 610.347528 294.118125 \nL 638.792728 294.118125 \nL 638.792728 166.054553 \nL 610.347528 166.054553 \nz\n\" style=\"fill:#1f77b4;\"/>\n   </g>\n   <g id=\"patch_18\">\n    <path clip-path=\"url(#pd7126707d6)\" d=\"M 645.904028 294.118125 \nL 674.349227 294.118125 \nL 674.349227 171.298543 \nL 645.904028 171.298543 \nz\n\" style=\"fill:#1f77b4;\"/>\n   </g>\n   <g id=\"patch_19\">\n    <path clip-path=\"url(#pd7126707d6)\" d=\"M 681.460527 294.118125 \nL 709.905727 294.118125 \nL 709.905727 115.102119 \nL 681.460527 115.102119 \nz\n\" style=\"fill:#1f77b4;\"/>\n   </g>\n   <g id=\"patch_20\">\n    <path clip-path=\"url(#pd7126707d6)\" d=\"M 717.017027 294.118125 \nL 745.462227 294.118125 \nL 745.462227 176.900517 \nL 717.017027 176.900517 \nz\n\" style=\"fill:#1f77b4;\"/>\n   </g>\n   <g id=\"patch_21\">\n    <path clip-path=\"url(#pd7126707d6)\" d=\"M 752.573526 294.118125 \nL 781.018726 294.118125 \nL 781.018726 181.741974 \nL 752.573526 181.741974 \nz\n\" style=\"fill:#1f77b4;\"/>\n   </g>\n   <g id=\"patch_22\">\n    <path clip-path=\"url(#pd7126707d6)\" d=\"M 788.130026 294.118125 \nL 816.575226 294.118125 \nL 816.575226 146.962077 \nL 788.130026 146.962077 \nz\n\" style=\"fill:#1f77b4;\"/>\n   </g>\n   <g id=\"patch_23\">\n    <path clip-path=\"url(#pd7126707d6)\" d=\"M 823.686526 294.118125 \nL 852.131725 294.118125 \nL 852.131725 57.420555 \nL 823.686526 57.420555 \nz\n\" style=\"fill:#1f77b4;\"/>\n   </g>\n   <g id=\"patch_24\">\n    <path clip-path=\"url(#pd7126707d6)\" d=\"M 859.243025 294.118125 \nL 887.688225 294.118125 \nL 887.688225 174.363276 \nL 859.243025 174.363276 \nz\n\" style=\"fill:#1f77b4;\"/>\n   </g>\n   <g id=\"patch_25\">\n    <path clip-path=\"url(#pd7126707d6)\" d=\"M 894.799525 294.118125 \nL 923.244724 294.118125 \nL 923.244724 179.881872 \nL 894.799525 179.881872 \nz\n\" style=\"fill:#1f77b4;\"/>\n   </g>\n   <g id=\"patch_26\">\n    <path clip-path=\"url(#pd7126707d6)\" d=\"M 930.356024 294.118125 \nL 958.801224 294.118125 \nL 958.801224 149.659665 \nL 930.356024 149.659665 \nz\n\" style=\"fill:#1f77b4;\"/>\n   </g>\n   <g id=\"patch_27\">\n    <path clip-path=\"url(#pd7126707d6)\" d=\"M 965.912524 294.118125 \nL 994.357724 294.118125 \nL 994.357724 62.100034 \nL 965.912524 62.100034 \nz\n\" style=\"fill:#1f77b4;\"/>\n   </g>\n   <g id=\"patch_28\">\n    <path clip-path=\"url(#pd7126707d6)\" d=\"M 1001.469023 294.118125 \nL 1029.914223 294.118125 \nL 1029.914223 177.25463 \nL 1001.469023 177.25463 \nz\n\" style=\"fill:#1f77b4;\"/>\n   </g>\n   <g id=\"patch_29\">\n    <path clip-path=\"url(#pd7126707d6)\" d=\"M 1037.025523 294.118125 \nL 1065.470723 294.118125 \nL 1065.470723 143.951757 \nL 1037.025523 143.951757 \nz\n\" style=\"fill:#1f77b4;\"/>\n   </g>\n   <g id=\"patch_30\">\n    <path clip-path=\"url(#pd7126707d6)\" d=\"M 1072.582023 294.118125 \nL 1101.027222 294.118125 \nL 1101.027222 161.764831 \nL 1072.582023 161.764831 \nz\n\" style=\"fill:#1f77b4;\"/>\n   </g>\n   <g id=\"patch_31\">\n    <path clip-path=\"url(#pd7126707d6)\" d=\"M 1108.138522 294.118125 \nL 1136.583722 294.118125 \nL 1136.583722 204.979794 \nL 1108.138522 204.979794 \nz\n\" style=\"fill:#1f77b4;\"/>\n   </g>\n   <g id=\"patch_32\">\n    <path clip-path=\"url(#pd7126707d6)\" d=\"M 1143.695022 294.118125 \nL 1172.140221 294.118125 \nL 1172.140221 197.146341 \nL 1143.695022 197.146341 \nz\n\" style=\"fill:#1f77b4;\"/>\n   </g>\n   <g id=\"patch_33\">\n    <path clip-path=\"url(#pd7126707d6)\" d=\"M 1179.251521 294.118125 \nL 1207.696721 294.118125 \nL 1207.696721 205.558505 \nL 1179.251521 205.558505 \nz\n\" style=\"fill:#1f77b4;\"/>\n   </g>\n   <g id=\"patch_34\">\n    <path clip-path=\"url(#pd7126707d6)\" d=\"M 1214.808021 294.118125 \nL 1243.253221 294.118125 \nL 1243.253221 205.777487 \nL 1214.808021 205.777487 \nz\n\" style=\"fill:#1f77b4;\"/>\n   </g>\n   <g id=\"patch_35\">\n    <path clip-path=\"url(#pd7126707d6)\" d=\"M 1250.36452 294.118125 \nL 1278.80972 294.118125 \nL 1278.80972 203.601702 \nL 1250.36452 203.601702 \nz\n\" style=\"fill:#1f77b4;\"/>\n   </g>\n   <g id=\"patch_36\">\n    <path clip-path=\"url(#pd7126707d6)\" d=\"M 1285.92102 294.118125 \nL 1314.36622 294.118125 \nL 1314.36622 201.242117 \nL 1285.92102 201.242117 \nz\n\" style=\"fill:#1f77b4;\"/>\n   </g>\n   <g id=\"patch_37\">\n    <path clip-path=\"url(#pd7126707d6)\" d=\"M 1321.47752 294.118125 \nL 1349.922719 294.118125 \nL 1349.922719 205.80841 \nL 1321.47752 205.80841 \nz\n\" style=\"fill:#1f77b4;\"/>\n   </g>\n   <g id=\"patch_38\">\n    <path clip-path=\"url(#pd7126707d6)\" d=\"M 1357.034019 294.118125 \nL 1385.479219 294.118125 \nL 1385.479219 206.92613 \nL 1357.034019 206.92613 \nz\n\" style=\"fill:#1f77b4;\"/>\n   </g>\n   <g id=\"patch_39\">\n    <path clip-path=\"url(#pd7126707d6)\" d=\"M 1392.590519 294.118125 \nL 1421.035718 294.118125 \nL 1421.035718 208.050177 \nL 1392.590519 208.050177 \nz\n\" style=\"fill:#1f77b4;\"/>\n   </g>\n   <g id=\"patch_40\">\n    <path clip-path=\"url(#pd7126707d6)\" d=\"M 1428.147018 294.118125 \nL 1456.592218 294.118125 \nL 1456.592218 209.720112 \nL 1428.147018 209.720112 \nz\n\" style=\"fill:#1f77b4;\"/>\n   </g>\n   <g id=\"patch_41\">\n    <path clip-path=\"url(#pd7126707d6)\" d=\"M 1463.703518 294.118125 \nL 1492.148718 294.118125 \nL 1492.148718 202.678276 \nL 1463.703518 202.678276 \nz\n\" style=\"fill:#1f77b4;\"/>\n   </g>\n   <g id=\"patch_42\">\n    <path clip-path=\"url(#pd7126707d6)\" d=\"M 1499.260018 294.118125 \nL 1527.705217 294.118125 \nL 1527.705217 208.435977 \nL 1499.260018 208.435977 \nz\n\" style=\"fill:#1f77b4;\"/>\n   </g>\n   <g id=\"patch_43\">\n    <path clip-path=\"url(#pd7126707d6)\" d=\"M 1534.816517 294.118125 \nL 1563.261717 294.118125 \nL 1563.261717 206.699737 \nL 1534.816517 206.699737 \nz\n\" style=\"fill:#1f77b4;\"/>\n   </g>\n   <g id=\"patch_44\">\n    <path clip-path=\"url(#pd7126707d6)\" d=\"M 1570.373017 294.118125 \nL 1598.818216 294.118125 \nL 1598.818216 145.728172 \nL 1570.373017 145.728172 \nz\n\" style=\"fill:#1f77b4;\"/>\n   </g>\n   <g id=\"patch_45\">\n    <path clip-path=\"url(#pd7126707d6)\" d=\"M 1605.929516 294.118125 \nL 1634.374716 294.118125 \nL 1634.374716 45.438054 \nL 1605.929516 45.438054 \nz\n\" style=\"fill:#1f77b4;\"/>\n   </g>\n   <g id=\"matplotlib.axis_1\">\n    <g id=\"xtick_1\">\n     <g id=\"line2d_1\">\n      <defs>\n       <path d=\"M 0 0 \nL 0 3.5 \n\" id=\"md4f00b9ba5\" style=\"stroke:#000000;stroke-width:0.8;\"/>\n      </defs>\n      <g>\n       <use style=\"stroke:#000000;stroke-width:0.8;\" x=\"126.779134\" xlink:href=\"#md4f00b9ba5\" y=\"294.118125\"/>\n      </g>\n     </g>\n     <g id=\"text_1\">\n      <!-- 0 -->\n      <g transform=\"translate(123.597884 308.716563)scale(0.1 -0.1)\">\n       <defs>\n        <path d=\"M 31.78125 66.40625 \nQ 24.171875 66.40625 20.328125 58.90625 \nQ 16.5 51.421875 16.5 36.375 \nQ 16.5 21.390625 20.328125 13.890625 \nQ 24.171875 6.390625 31.78125 6.390625 \nQ 39.453125 6.390625 43.28125 13.890625 \nQ 47.125 21.390625 47.125 36.375 \nQ 47.125 51.421875 43.28125 58.90625 \nQ 39.453125 66.40625 31.78125 66.40625 \nz\nM 31.78125 74.21875 \nQ 44.046875 74.21875 50.515625 64.515625 \nQ 56.984375 54.828125 56.984375 36.375 \nQ 56.984375 17.96875 50.515625 8.265625 \nQ 44.046875 -1.421875 31.78125 -1.421875 \nQ 19.53125 -1.421875 13.0625 8.265625 \nQ 6.59375 17.96875 6.59375 36.375 \nQ 6.59375 54.828125 13.0625 64.515625 \nQ 19.53125 74.21875 31.78125 74.21875 \nz\n\" id=\"DejaVuSans-48\"/>\n       </defs>\n       <use xlink:href=\"#DejaVuSans-48\"/>\n      </g>\n     </g>\n    </g>\n    <g id=\"xtick_2\">\n     <g id=\"line2d_2\">\n      <g>\n       <use style=\"stroke:#000000;stroke-width:0.8;\" x=\"482.34413\" xlink:href=\"#md4f00b9ba5\" y=\"294.118125\"/>\n      </g>\n     </g>\n     <g id=\"text_2\">\n      <!-- 10 -->\n      <g transform=\"translate(475.98163 308.716563)scale(0.1 -0.1)\">\n       <defs>\n        <path d=\"M 12.40625 8.296875 \nL 28.515625 8.296875 \nL 28.515625 63.921875 \nL 10.984375 60.40625 \nL 10.984375 69.390625 \nL 28.421875 72.90625 \nL 38.28125 72.90625 \nL 38.28125 8.296875 \nL 54.390625 8.296875 \nL 54.390625 0 \nL 12.40625 0 \nz\n\" id=\"DejaVuSans-49\"/>\n       </defs>\n       <use xlink:href=\"#DejaVuSans-49\"/>\n       <use x=\"63.623047\" xlink:href=\"#DejaVuSans-48\"/>\n      </g>\n     </g>\n    </g>\n    <g id=\"xtick_3\">\n     <g id=\"line2d_3\">\n      <g>\n       <use style=\"stroke:#000000;stroke-width:0.8;\" x=\"837.909125\" xlink:href=\"#md4f00b9ba5\" y=\"294.118125\"/>\n      </g>\n     </g>\n     <g id=\"text_3\">\n      <!-- 20 -->\n      <g transform=\"translate(831.546625 308.716563)scale(0.1 -0.1)\">\n       <defs>\n        <path d=\"M 19.1875 8.296875 \nL 53.609375 8.296875 \nL 53.609375 0 \nL 7.328125 0 \nL 7.328125 8.296875 \nQ 12.9375 14.109375 22.625 23.890625 \nQ 32.328125 33.6875 34.8125 36.53125 \nQ 39.546875 41.84375 41.421875 45.53125 \nQ 43.3125 49.21875 43.3125 52.78125 \nQ 43.3125 58.59375 39.234375 62.25 \nQ 35.15625 65.921875 28.609375 65.921875 \nQ 23.96875 65.921875 18.8125 64.3125 \nQ 13.671875 62.703125 7.8125 59.421875 \nL 7.8125 69.390625 \nQ 13.765625 71.78125 18.9375 73 \nQ 24.125 74.21875 28.421875 74.21875 \nQ 39.75 74.21875 46.484375 68.546875 \nQ 53.21875 62.890625 53.21875 53.421875 \nQ 53.21875 48.921875 51.53125 44.890625 \nQ 49.859375 40.875 45.40625 35.40625 \nQ 44.1875 33.984375 37.640625 27.21875 \nQ 31.109375 20.453125 19.1875 8.296875 \nz\n\" id=\"DejaVuSans-50\"/>\n       </defs>\n       <use xlink:href=\"#DejaVuSans-50\"/>\n       <use x=\"63.623047\" xlink:href=\"#DejaVuSans-48\"/>\n      </g>\n     </g>\n    </g>\n    <g id=\"xtick_4\">\n     <g id=\"line2d_4\">\n      <g>\n       <use style=\"stroke:#000000;stroke-width:0.8;\" x=\"1193.474121\" xlink:href=\"#md4f00b9ba5\" y=\"294.118125\"/>\n      </g>\n     </g>\n     <g id=\"text_4\">\n      <!-- 30 -->\n      <g transform=\"translate(1187.111621 308.716563)scale(0.1 -0.1)\">\n       <defs>\n        <path d=\"M 40.578125 39.3125 \nQ 47.65625 37.796875 51.625 33 \nQ 55.609375 28.21875 55.609375 21.1875 \nQ 55.609375 10.40625 48.1875 4.484375 \nQ 40.765625 -1.421875 27.09375 -1.421875 \nQ 22.515625 -1.421875 17.65625 -0.515625 \nQ 12.796875 0.390625 7.625 2.203125 \nL 7.625 11.71875 \nQ 11.71875 9.328125 16.59375 8.109375 \nQ 21.484375 6.890625 26.8125 6.890625 \nQ 36.078125 6.890625 40.9375 10.546875 \nQ 45.796875 14.203125 45.796875 21.1875 \nQ 45.796875 27.640625 41.28125 31.265625 \nQ 36.765625 34.90625 28.71875 34.90625 \nL 20.21875 34.90625 \nL 20.21875 43.015625 \nL 29.109375 43.015625 \nQ 36.375 43.015625 40.234375 45.921875 \nQ 44.09375 48.828125 44.09375 54.296875 \nQ 44.09375 59.90625 40.109375 62.90625 \nQ 36.140625 65.921875 28.71875 65.921875 \nQ 24.65625 65.921875 20.015625 65.03125 \nQ 15.375 64.15625 9.8125 62.3125 \nL 9.8125 71.09375 \nQ 15.4375 72.65625 20.34375 73.4375 \nQ 25.25 74.21875 29.59375 74.21875 \nQ 40.828125 74.21875 47.359375 69.109375 \nQ 53.90625 64.015625 53.90625 55.328125 \nQ 53.90625 49.265625 50.4375 45.09375 \nQ 46.96875 40.921875 40.578125 39.3125 \nz\n\" id=\"DejaVuSans-51\"/>\n       </defs>\n       <use xlink:href=\"#DejaVuSans-51\"/>\n       <use x=\"63.623047\" xlink:href=\"#DejaVuSans-48\"/>\n      </g>\n     </g>\n    </g>\n    <g id=\"xtick_5\">\n     <g id=\"line2d_5\">\n      <g>\n       <use style=\"stroke:#000000;stroke-width:0.8;\" x=\"1549.039117\" xlink:href=\"#md4f00b9ba5\" y=\"294.118125\"/>\n      </g>\n     </g>\n     <g id=\"text_5\">\n      <!-- 40 -->\n      <g transform=\"translate(1542.676617 308.716563)scale(0.1 -0.1)\">\n       <defs>\n        <path d=\"M 37.796875 64.3125 \nL 12.890625 25.390625 \nL 37.796875 25.390625 \nz\nM 35.203125 72.90625 \nL 47.609375 72.90625 \nL 47.609375 25.390625 \nL 58.015625 25.390625 \nL 58.015625 17.1875 \nL 47.609375 17.1875 \nL 47.609375 0 \nL 37.796875 0 \nL 37.796875 17.1875 \nL 4.890625 17.1875 \nL 4.890625 26.703125 \nz\n\" id=\"DejaVuSans-52\"/>\n       </defs>\n       <use xlink:href=\"#DejaVuSans-52\"/>\n       <use x=\"63.623047\" xlink:href=\"#DejaVuSans-48\"/>\n      </g>\n     </g>\n    </g>\n   </g>\n   <g id=\"matplotlib.axis_2\">\n    <g id=\"ytick_1\">\n     <g id=\"line2d_6\">\n      <defs>\n       <path d=\"M 0 0 \nL -3.5 0 \n\" id=\"mc9bab515dd\" style=\"stroke:#000000;stroke-width:0.8;\"/>\n      </defs>\n      <g>\n       <use style=\"stroke:#000000;stroke-width:0.8;\" x=\"36.465625\" xlink:href=\"#mc9bab515dd\" y=\"294.118125\"/>\n      </g>\n     </g>\n     <g id=\"text_6\">\n      <!-- 0.00 -->\n      <g transform=\"translate(7.2 297.917344)scale(0.1 -0.1)\">\n       <defs>\n        <path d=\"M 10.6875 12.40625 \nL 21 12.40625 \nL 21 0 \nL 10.6875 0 \nz\n\" id=\"DejaVuSans-46\"/>\n       </defs>\n       <use xlink:href=\"#DejaVuSans-48\"/>\n       <use x=\"63.623047\" xlink:href=\"#DejaVuSans-46\"/>\n       <use x=\"95.410156\" xlink:href=\"#DejaVuSans-48\"/>\n       <use x=\"159.033203\" xlink:href=\"#DejaVuSans-48\"/>\n      </g>\n     </g>\n    </g>\n    <g id=\"ytick_2\">\n     <g id=\"line2d_7\">\n      <g>\n       <use style=\"stroke:#000000;stroke-width:0.8;\" x=\"36.465625\" xlink:href=\"#mc9bab515dd\" y=\"237.747521\"/>\n      </g>\n     </g>\n     <g id=\"text_7\">\n      <!-- 0.01 -->\n      <g transform=\"translate(7.2 241.54674)scale(0.1 -0.1)\">\n       <use xlink:href=\"#DejaVuSans-48\"/>\n       <use x=\"63.623047\" xlink:href=\"#DejaVuSans-46\"/>\n       <use x=\"95.410156\" xlink:href=\"#DejaVuSans-48\"/>\n       <use x=\"159.033203\" xlink:href=\"#DejaVuSans-49\"/>\n      </g>\n     </g>\n    </g>\n    <g id=\"ytick_3\">\n     <g id=\"line2d_8\">\n      <g>\n       <use style=\"stroke:#000000;stroke-width:0.8;\" x=\"36.465625\" xlink:href=\"#mc9bab515dd\" y=\"181.376917\"/>\n      </g>\n     </g>\n     <g id=\"text_8\">\n      <!-- 0.02 -->\n      <g transform=\"translate(7.2 185.176135)scale(0.1 -0.1)\">\n       <use xlink:href=\"#DejaVuSans-48\"/>\n       <use x=\"63.623047\" xlink:href=\"#DejaVuSans-46\"/>\n       <use x=\"95.410156\" xlink:href=\"#DejaVuSans-48\"/>\n       <use x=\"159.033203\" xlink:href=\"#DejaVuSans-50\"/>\n      </g>\n     </g>\n    </g>\n    <g id=\"ytick_4\">\n     <g id=\"line2d_9\">\n      <g>\n       <use style=\"stroke:#000000;stroke-width:0.8;\" x=\"36.465625\" xlink:href=\"#mc9bab515dd\" y=\"125.006313\"/>\n      </g>\n     </g>\n     <g id=\"text_9\">\n      <!-- 0.03 -->\n      <g transform=\"translate(7.2 128.805531)scale(0.1 -0.1)\">\n       <use xlink:href=\"#DejaVuSans-48\"/>\n       <use x=\"63.623047\" xlink:href=\"#DejaVuSans-46\"/>\n       <use x=\"95.410156\" xlink:href=\"#DejaVuSans-48\"/>\n       <use x=\"159.033203\" xlink:href=\"#DejaVuSans-51\"/>\n      </g>\n     </g>\n    </g>\n    <g id=\"ytick_5\">\n     <g id=\"line2d_10\">\n      <g>\n       <use style=\"stroke:#000000;stroke-width:0.8;\" x=\"36.465625\" xlink:href=\"#mc9bab515dd\" y=\"68.635708\"/>\n      </g>\n     </g>\n     <g id=\"text_10\">\n      <!-- 0.04 -->\n      <g transform=\"translate(7.2 72.434927)scale(0.1 -0.1)\">\n       <use xlink:href=\"#DejaVuSans-48\"/>\n       <use x=\"63.623047\" xlink:href=\"#DejaVuSans-46\"/>\n       <use x=\"95.410156\" xlink:href=\"#DejaVuSans-48\"/>\n       <use x=\"159.033203\" xlink:href=\"#DejaVuSans-52\"/>\n      </g>\n     </g>\n    </g>\n   </g>\n   <g id=\"patch_46\">\n    <path d=\"M 36.465625 294.118125 \nL 36.465625 22.318125 \n\" style=\"fill:none;stroke:#000000;stroke-linecap:square;stroke-linejoin:miter;stroke-width:0.8;\"/>\n   </g>\n   <g id=\"patch_47\">\n    <path d=\"M 1710.465625 294.118125 \nL 1710.465625 22.318125 \n\" style=\"fill:none;stroke:#000000;stroke-linecap:square;stroke-linejoin:miter;stroke-width:0.8;\"/>\n   </g>\n   <g id=\"patch_48\">\n    <path d=\"M 36.465625 294.118125 \nL 1710.465625 294.118125 \n\" style=\"fill:none;stroke:#000000;stroke-linecap:square;stroke-linejoin:miter;stroke-width:0.8;\"/>\n   </g>\n   <g id=\"patch_49\">\n    <path d=\"M 36.465625 22.318125 \nL 1710.465625 22.318125 \n\" style=\"fill:none;stroke:#000000;stroke-linecap:square;stroke-linejoin:miter;stroke-width:0.8;\"/>\n   </g>\n   <g id=\"text_11\">\n    <!-- Feature Importance in Random Forest Classification for Buy Signal -->\n    <g transform=\"translate(674.594688 16.318125)scale(0.12 -0.12)\">\n     <defs>\n      <path d=\"M 9.8125 72.90625 \nL 51.703125 72.90625 \nL 51.703125 64.59375 \nL 19.671875 64.59375 \nL 19.671875 43.109375 \nL 48.578125 43.109375 \nL 48.578125 34.8125 \nL 19.671875 34.8125 \nL 19.671875 0 \nL 9.8125 0 \nz\n\" id=\"DejaVuSans-70\"/>\n      <path d=\"M 56.203125 29.59375 \nL 56.203125 25.203125 \nL 14.890625 25.203125 \nQ 15.484375 15.921875 20.484375 11.0625 \nQ 25.484375 6.203125 34.421875 6.203125 \nQ 39.59375 6.203125 44.453125 7.46875 \nQ 49.3125 8.734375 54.109375 11.28125 \nL 54.109375 2.78125 \nQ 49.265625 0.734375 44.1875 -0.34375 \nQ 39.109375 -1.421875 33.890625 -1.421875 \nQ 20.796875 -1.421875 13.15625 6.1875 \nQ 5.515625 13.8125 5.515625 26.8125 \nQ 5.515625 40.234375 12.765625 48.109375 \nQ 20.015625 56 32.328125 56 \nQ 43.359375 56 49.78125 48.890625 \nQ 56.203125 41.796875 56.203125 29.59375 \nz\nM 47.21875 32.234375 \nQ 47.125 39.59375 43.09375 43.984375 \nQ 39.0625 48.390625 32.421875 48.390625 \nQ 24.90625 48.390625 20.390625 44.140625 \nQ 15.875 39.890625 15.1875 32.171875 \nz\n\" id=\"DejaVuSans-101\"/>\n      <path d=\"M 34.28125 27.484375 \nQ 23.390625 27.484375 19.1875 25 \nQ 14.984375 22.515625 14.984375 16.5 \nQ 14.984375 11.71875 18.140625 8.90625 \nQ 21.296875 6.109375 26.703125 6.109375 \nQ 34.1875 6.109375 38.703125 11.40625 \nQ 43.21875 16.703125 43.21875 25.484375 \nL 43.21875 27.484375 \nz\nM 52.203125 31.203125 \nL 52.203125 0 \nL 43.21875 0 \nL 43.21875 8.296875 \nQ 40.140625 3.328125 35.546875 0.953125 \nQ 30.953125 -1.421875 24.3125 -1.421875 \nQ 15.921875 -1.421875 10.953125 3.296875 \nQ 6 8.015625 6 15.921875 \nQ 6 25.140625 12.171875 29.828125 \nQ 18.359375 34.515625 30.609375 34.515625 \nL 43.21875 34.515625 \nL 43.21875 35.40625 \nQ 43.21875 41.609375 39.140625 45 \nQ 35.0625 48.390625 27.6875 48.390625 \nQ 23 48.390625 18.546875 47.265625 \nQ 14.109375 46.140625 10.015625 43.890625 \nL 10.015625 52.203125 \nQ 14.9375 54.109375 19.578125 55.046875 \nQ 24.21875 56 28.609375 56 \nQ 40.484375 56 46.34375 49.84375 \nQ 52.203125 43.703125 52.203125 31.203125 \nz\n\" id=\"DejaVuSans-97\"/>\n      <path d=\"M 18.3125 70.21875 \nL 18.3125 54.6875 \nL 36.8125 54.6875 \nL 36.8125 47.703125 \nL 18.3125 47.703125 \nL 18.3125 18.015625 \nQ 18.3125 11.328125 20.140625 9.421875 \nQ 21.96875 7.515625 27.59375 7.515625 \nL 36.8125 7.515625 \nL 36.8125 0 \nL 27.59375 0 \nQ 17.1875 0 13.234375 3.875 \nQ 9.28125 7.765625 9.28125 18.015625 \nL 9.28125 47.703125 \nL 2.6875 47.703125 \nL 2.6875 54.6875 \nL 9.28125 54.6875 \nL 9.28125 70.21875 \nz\n\" id=\"DejaVuSans-116\"/>\n      <path d=\"M 8.5 21.578125 \nL 8.5 54.6875 \nL 17.484375 54.6875 \nL 17.484375 21.921875 \nQ 17.484375 14.15625 20.5 10.265625 \nQ 23.53125 6.390625 29.59375 6.390625 \nQ 36.859375 6.390625 41.078125 11.03125 \nQ 45.3125 15.671875 45.3125 23.6875 \nL 45.3125 54.6875 \nL 54.296875 54.6875 \nL 54.296875 0 \nL 45.3125 0 \nL 45.3125 8.40625 \nQ 42.046875 3.421875 37.71875 1 \nQ 33.40625 -1.421875 27.6875 -1.421875 \nQ 18.265625 -1.421875 13.375 4.4375 \nQ 8.5 10.296875 8.5 21.578125 \nz\nM 31.109375 56 \nz\n\" id=\"DejaVuSans-117\"/>\n      <path d=\"M 41.109375 46.296875 \nQ 39.59375 47.171875 37.8125 47.578125 \nQ 36.03125 48 33.890625 48 \nQ 26.265625 48 22.1875 43.046875 \nQ 18.109375 38.09375 18.109375 28.8125 \nL 18.109375 0 \nL 9.078125 0 \nL 9.078125 54.6875 \nL 18.109375 54.6875 \nL 18.109375 46.1875 \nQ 20.953125 51.171875 25.484375 53.578125 \nQ 30.03125 56 36.53125 56 \nQ 37.453125 56 38.578125 55.875 \nQ 39.703125 55.765625 41.0625 55.515625 \nz\n\" id=\"DejaVuSans-114\"/>\n      <path id=\"DejaVuSans-32\"/>\n      <path d=\"M 9.8125 72.90625 \nL 19.671875 72.90625 \nL 19.671875 0 \nL 9.8125 0 \nz\n\" id=\"DejaVuSans-73\"/>\n      <path d=\"M 52 44.1875 \nQ 55.375 50.25 60.0625 53.125 \nQ 64.75 56 71.09375 56 \nQ 79.640625 56 84.28125 50.015625 \nQ 88.921875 44.046875 88.921875 33.015625 \nL 88.921875 0 \nL 79.890625 0 \nL 79.890625 32.71875 \nQ 79.890625 40.578125 77.09375 44.375 \nQ 74.3125 48.1875 68.609375 48.1875 \nQ 61.625 48.1875 57.5625 43.546875 \nQ 53.515625 38.921875 53.515625 30.90625 \nL 53.515625 0 \nL 44.484375 0 \nL 44.484375 32.71875 \nQ 44.484375 40.625 41.703125 44.40625 \nQ 38.921875 48.1875 33.109375 48.1875 \nQ 26.21875 48.1875 22.15625 43.53125 \nQ 18.109375 38.875 18.109375 30.90625 \nL 18.109375 0 \nL 9.078125 0 \nL 9.078125 54.6875 \nL 18.109375 54.6875 \nL 18.109375 46.1875 \nQ 21.1875 51.21875 25.484375 53.609375 \nQ 29.78125 56 35.6875 56 \nQ 41.65625 56 45.828125 52.96875 \nQ 50 49.953125 52 44.1875 \nz\n\" id=\"DejaVuSans-109\"/>\n      <path d=\"M 18.109375 8.203125 \nL 18.109375 -20.796875 \nL 9.078125 -20.796875 \nL 9.078125 54.6875 \nL 18.109375 54.6875 \nL 18.109375 46.390625 \nQ 20.953125 51.265625 25.265625 53.625 \nQ 29.59375 56 35.59375 56 \nQ 45.5625 56 51.78125 48.09375 \nQ 58.015625 40.1875 58.015625 27.296875 \nQ 58.015625 14.40625 51.78125 6.484375 \nQ 45.5625 -1.421875 35.59375 -1.421875 \nQ 29.59375 -1.421875 25.265625 0.953125 \nQ 20.953125 3.328125 18.109375 8.203125 \nz\nM 48.6875 27.296875 \nQ 48.6875 37.203125 44.609375 42.84375 \nQ 40.53125 48.484375 33.40625 48.484375 \nQ 26.265625 48.484375 22.1875 42.84375 \nQ 18.109375 37.203125 18.109375 27.296875 \nQ 18.109375 17.390625 22.1875 11.75 \nQ 26.265625 6.109375 33.40625 6.109375 \nQ 40.53125 6.109375 44.609375 11.75 \nQ 48.6875 17.390625 48.6875 27.296875 \nz\n\" id=\"DejaVuSans-112\"/>\n      <path d=\"M 30.609375 48.390625 \nQ 23.390625 48.390625 19.1875 42.75 \nQ 14.984375 37.109375 14.984375 27.296875 \nQ 14.984375 17.484375 19.15625 11.84375 \nQ 23.34375 6.203125 30.609375 6.203125 \nQ 37.796875 6.203125 41.984375 11.859375 \nQ 46.1875 17.53125 46.1875 27.296875 \nQ 46.1875 37.015625 41.984375 42.703125 \nQ 37.796875 48.390625 30.609375 48.390625 \nz\nM 30.609375 56 \nQ 42.328125 56 49.015625 48.375 \nQ 55.71875 40.765625 55.71875 27.296875 \nQ 55.71875 13.875 49.015625 6.21875 \nQ 42.328125 -1.421875 30.609375 -1.421875 \nQ 18.84375 -1.421875 12.171875 6.21875 \nQ 5.515625 13.875 5.515625 27.296875 \nQ 5.515625 40.765625 12.171875 48.375 \nQ 18.84375 56 30.609375 56 \nz\n\" id=\"DejaVuSans-111\"/>\n      <path d=\"M 54.890625 33.015625 \nL 54.890625 0 \nL 45.90625 0 \nL 45.90625 32.71875 \nQ 45.90625 40.484375 42.875 44.328125 \nQ 39.84375 48.1875 33.796875 48.1875 \nQ 26.515625 48.1875 22.3125 43.546875 \nQ 18.109375 38.921875 18.109375 30.90625 \nL 18.109375 0 \nL 9.078125 0 \nL 9.078125 54.6875 \nL 18.109375 54.6875 \nL 18.109375 46.1875 \nQ 21.34375 51.125 25.703125 53.5625 \nQ 30.078125 56 35.796875 56 \nQ 45.21875 56 50.046875 50.171875 \nQ 54.890625 44.34375 54.890625 33.015625 \nz\n\" id=\"DejaVuSans-110\"/>\n      <path d=\"M 48.78125 52.59375 \nL 48.78125 44.1875 \nQ 44.96875 46.296875 41.140625 47.34375 \nQ 37.3125 48.390625 33.40625 48.390625 \nQ 24.65625 48.390625 19.8125 42.84375 \nQ 14.984375 37.3125 14.984375 27.296875 \nQ 14.984375 17.28125 19.8125 11.734375 \nQ 24.65625 6.203125 33.40625 6.203125 \nQ 37.3125 6.203125 41.140625 7.25 \nQ 44.96875 8.296875 48.78125 10.40625 \nL 48.78125 2.09375 \nQ 45.015625 0.34375 40.984375 -0.53125 \nQ 36.96875 -1.421875 32.421875 -1.421875 \nQ 20.0625 -1.421875 12.78125 6.34375 \nQ 5.515625 14.109375 5.515625 27.296875 \nQ 5.515625 40.671875 12.859375 48.328125 \nQ 20.21875 56 33.015625 56 \nQ 37.15625 56 41.109375 55.140625 \nQ 45.0625 54.296875 48.78125 52.59375 \nz\n\" id=\"DejaVuSans-99\"/>\n      <path d=\"M 9.421875 54.6875 \nL 18.40625 54.6875 \nL 18.40625 0 \nL 9.421875 0 \nz\nM 9.421875 75.984375 \nL 18.40625 75.984375 \nL 18.40625 64.59375 \nL 9.421875 64.59375 \nz\n\" id=\"DejaVuSans-105\"/>\n      <path d=\"M 44.390625 34.1875 \nQ 47.5625 33.109375 50.5625 29.59375 \nQ 53.5625 26.078125 56.59375 19.921875 \nL 66.609375 0 \nL 56 0 \nL 46.6875 18.703125 \nQ 43.0625 26.03125 39.671875 28.421875 \nQ 36.28125 30.8125 30.421875 30.8125 \nL 19.671875 30.8125 \nL 19.671875 0 \nL 9.8125 0 \nL 9.8125 72.90625 \nL 32.078125 72.90625 \nQ 44.578125 72.90625 50.734375 67.671875 \nQ 56.890625 62.453125 56.890625 51.90625 \nQ 56.890625 45.015625 53.6875 40.46875 \nQ 50.484375 35.9375 44.390625 34.1875 \nz\nM 19.671875 64.796875 \nL 19.671875 38.921875 \nL 32.078125 38.921875 \nQ 39.203125 38.921875 42.84375 42.21875 \nQ 46.484375 45.515625 46.484375 51.90625 \nQ 46.484375 58.296875 42.84375 61.546875 \nQ 39.203125 64.796875 32.078125 64.796875 \nz\n\" id=\"DejaVuSans-82\"/>\n      <path d=\"M 45.40625 46.390625 \nL 45.40625 75.984375 \nL 54.390625 75.984375 \nL 54.390625 0 \nL 45.40625 0 \nL 45.40625 8.203125 \nQ 42.578125 3.328125 38.25 0.953125 \nQ 33.9375 -1.421875 27.875 -1.421875 \nQ 17.96875 -1.421875 11.734375 6.484375 \nQ 5.515625 14.40625 5.515625 27.296875 \nQ 5.515625 40.1875 11.734375 48.09375 \nQ 17.96875 56 27.875 56 \nQ 33.9375 56 38.25 53.625 \nQ 42.578125 51.265625 45.40625 46.390625 \nz\nM 14.796875 27.296875 \nQ 14.796875 17.390625 18.875 11.75 \nQ 22.953125 6.109375 30.078125 6.109375 \nQ 37.203125 6.109375 41.296875 11.75 \nQ 45.40625 17.390625 45.40625 27.296875 \nQ 45.40625 37.203125 41.296875 42.84375 \nQ 37.203125 48.484375 30.078125 48.484375 \nQ 22.953125 48.484375 18.875 42.84375 \nQ 14.796875 37.203125 14.796875 27.296875 \nz\n\" id=\"DejaVuSans-100\"/>\n      <path d=\"M 44.28125 53.078125 \nL 44.28125 44.578125 \nQ 40.484375 46.53125 36.375 47.5 \nQ 32.28125 48.484375 27.875 48.484375 \nQ 21.1875 48.484375 17.84375 46.4375 \nQ 14.5 44.390625 14.5 40.28125 \nQ 14.5 37.15625 16.890625 35.375 \nQ 19.28125 33.59375 26.515625 31.984375 \nL 29.59375 31.296875 \nQ 39.15625 29.25 43.1875 25.515625 \nQ 47.21875 21.78125 47.21875 15.09375 \nQ 47.21875 7.46875 41.1875 3.015625 \nQ 35.15625 -1.421875 24.609375 -1.421875 \nQ 20.21875 -1.421875 15.453125 -0.5625 \nQ 10.6875 0.296875 5.421875 2 \nL 5.421875 11.28125 \nQ 10.40625 8.6875 15.234375 7.390625 \nQ 20.0625 6.109375 24.8125 6.109375 \nQ 31.15625 6.109375 34.5625 8.28125 \nQ 37.984375 10.453125 37.984375 14.40625 \nQ 37.984375 18.0625 35.515625 20.015625 \nQ 33.0625 21.96875 24.703125 23.78125 \nL 21.578125 24.515625 \nQ 13.234375 26.265625 9.515625 29.90625 \nQ 5.8125 33.546875 5.8125 39.890625 \nQ 5.8125 47.609375 11.28125 51.796875 \nQ 16.75 56 26.8125 56 \nQ 31.78125 56 36.171875 55.265625 \nQ 40.578125 54.546875 44.28125 53.078125 \nz\n\" id=\"DejaVuSans-115\"/>\n      <path d=\"M 64.40625 67.28125 \nL 64.40625 56.890625 \nQ 59.421875 61.53125 53.78125 63.8125 \nQ 48.140625 66.109375 41.796875 66.109375 \nQ 29.296875 66.109375 22.65625 58.46875 \nQ 16.015625 50.828125 16.015625 36.375 \nQ 16.015625 21.96875 22.65625 14.328125 \nQ 29.296875 6.6875 41.796875 6.6875 \nQ 48.140625 6.6875 53.78125 8.984375 \nQ 59.421875 11.28125 64.40625 15.921875 \nL 64.40625 5.609375 \nQ 59.234375 2.09375 53.4375 0.328125 \nQ 47.65625 -1.421875 41.21875 -1.421875 \nQ 24.65625 -1.421875 15.125 8.703125 \nQ 5.609375 18.84375 5.609375 36.375 \nQ 5.609375 53.953125 15.125 64.078125 \nQ 24.65625 74.21875 41.21875 74.21875 \nQ 47.75 74.21875 53.53125 72.484375 \nQ 59.328125 70.75 64.40625 67.28125 \nz\n\" id=\"DejaVuSans-67\"/>\n      <path d=\"M 9.421875 75.984375 \nL 18.40625 75.984375 \nL 18.40625 0 \nL 9.421875 0 \nz\n\" id=\"DejaVuSans-108\"/>\n      <path d=\"M 37.109375 75.984375 \nL 37.109375 68.5 \nL 28.515625 68.5 \nQ 23.6875 68.5 21.796875 66.546875 \nQ 19.921875 64.59375 19.921875 59.515625 \nL 19.921875 54.6875 \nL 34.71875 54.6875 \nL 34.71875 47.703125 \nL 19.921875 47.703125 \nL 19.921875 0 \nL 10.890625 0 \nL 10.890625 47.703125 \nL 2.296875 47.703125 \nL 2.296875 54.6875 \nL 10.890625 54.6875 \nL 10.890625 58.5 \nQ 10.890625 67.625 15.140625 71.796875 \nQ 19.390625 75.984375 28.609375 75.984375 \nz\n\" id=\"DejaVuSans-102\"/>\n      <path d=\"M 19.671875 34.8125 \nL 19.671875 8.109375 \nL 35.5 8.109375 \nQ 43.453125 8.109375 47.28125 11.40625 \nQ 51.125 14.703125 51.125 21.484375 \nQ 51.125 28.328125 47.28125 31.5625 \nQ 43.453125 34.8125 35.5 34.8125 \nz\nM 19.671875 64.796875 \nL 19.671875 42.828125 \nL 34.28125 42.828125 \nQ 41.5 42.828125 45.03125 45.53125 \nQ 48.578125 48.25 48.578125 53.8125 \nQ 48.578125 59.328125 45.03125 62.0625 \nQ 41.5 64.796875 34.28125 64.796875 \nz\nM 9.8125 72.90625 \nL 35.015625 72.90625 \nQ 46.296875 72.90625 52.390625 68.21875 \nQ 58.5 63.53125 58.5 54.890625 \nQ 58.5 48.1875 55.375 44.234375 \nQ 52.25 40.28125 46.1875 39.3125 \nQ 53.46875 37.75 57.5 32.78125 \nQ 61.53125 27.828125 61.53125 20.40625 \nQ 61.53125 10.640625 54.890625 5.3125 \nQ 48.25 0 35.984375 0 \nL 9.8125 0 \nz\n\" id=\"DejaVuSans-66\"/>\n      <path d=\"M 32.171875 -5.078125 \nQ 28.375 -14.84375 24.75 -17.8125 \nQ 21.140625 -20.796875 15.09375 -20.796875 \nL 7.90625 -20.796875 \nL 7.90625 -13.28125 \nL 13.1875 -13.28125 \nQ 16.890625 -13.28125 18.9375 -11.515625 \nQ 21 -9.765625 23.484375 -3.21875 \nL 25.09375 0.875 \nL 2.984375 54.6875 \nL 12.5 54.6875 \nL 29.59375 11.921875 \nL 46.6875 54.6875 \nL 56.203125 54.6875 \nz\n\" id=\"DejaVuSans-121\"/>\n      <path d=\"M 53.515625 70.515625 \nL 53.515625 60.890625 \nQ 47.90625 63.578125 42.921875 64.890625 \nQ 37.9375 66.21875 33.296875 66.21875 \nQ 25.25 66.21875 20.875 63.09375 \nQ 16.5 59.96875 16.5 54.203125 \nQ 16.5 49.359375 19.40625 46.890625 \nQ 22.3125 44.4375 30.421875 42.921875 \nL 36.375 41.703125 \nQ 47.40625 39.59375 52.65625 34.296875 \nQ 57.90625 29 57.90625 20.125 \nQ 57.90625 9.515625 50.796875 4.046875 \nQ 43.703125 -1.421875 29.984375 -1.421875 \nQ 24.8125 -1.421875 18.96875 -0.25 \nQ 13.140625 0.921875 6.890625 3.21875 \nL 6.890625 13.375 \nQ 12.890625 10.015625 18.65625 8.296875 \nQ 24.421875 6.59375 29.984375 6.59375 \nQ 38.421875 6.59375 43.015625 9.90625 \nQ 47.609375 13.234375 47.609375 19.390625 \nQ 47.609375 24.75 44.3125 27.78125 \nQ 41.015625 30.8125 33.5 32.328125 \nL 27.484375 33.5 \nQ 16.453125 35.6875 11.515625 40.375 \nQ 6.59375 45.0625 6.59375 53.421875 \nQ 6.59375 63.09375 13.40625 68.65625 \nQ 20.21875 74.21875 32.171875 74.21875 \nQ 37.3125 74.21875 42.625 73.28125 \nQ 47.953125 72.359375 53.515625 70.515625 \nz\n\" id=\"DejaVuSans-83\"/>\n      <path d=\"M 45.40625 27.984375 \nQ 45.40625 37.75 41.375 43.109375 \nQ 37.359375 48.484375 30.078125 48.484375 \nQ 22.859375 48.484375 18.828125 43.109375 \nQ 14.796875 37.75 14.796875 27.984375 \nQ 14.796875 18.265625 18.828125 12.890625 \nQ 22.859375 7.515625 30.078125 7.515625 \nQ 37.359375 7.515625 41.375 12.890625 \nQ 45.40625 18.265625 45.40625 27.984375 \nz\nM 54.390625 6.78125 \nQ 54.390625 -7.171875 48.1875 -13.984375 \nQ 42 -20.796875 29.203125 -20.796875 \nQ 24.46875 -20.796875 20.265625 -20.09375 \nQ 16.0625 -19.390625 12.109375 -17.921875 \nL 12.109375 -9.1875 \nQ 16.0625 -11.328125 19.921875 -12.34375 \nQ 23.78125 -13.375 27.78125 -13.375 \nQ 36.625 -13.375 41.015625 -8.765625 \nQ 45.40625 -4.15625 45.40625 5.171875 \nL 45.40625 9.625 \nQ 42.625 4.78125 38.28125 2.390625 \nQ 33.9375 0 27.875 0 \nQ 17.828125 0 11.671875 7.65625 \nQ 5.515625 15.328125 5.515625 27.984375 \nQ 5.515625 40.671875 11.671875 48.328125 \nQ 17.828125 56 27.875 56 \nQ 33.9375 56 38.28125 53.609375 \nQ 42.625 51.21875 45.40625 46.390625 \nL 45.40625 54.6875 \nL 54.390625 54.6875 \nz\n\" id=\"DejaVuSans-103\"/>\n     </defs>\n     <use xlink:href=\"#DejaVuSans-70\"/>\n     <use x=\"52.019531\" xlink:href=\"#DejaVuSans-101\"/>\n     <use x=\"113.542969\" xlink:href=\"#DejaVuSans-97\"/>\n     <use x=\"174.822266\" xlink:href=\"#DejaVuSans-116\"/>\n     <use x=\"214.03125\" xlink:href=\"#DejaVuSans-117\"/>\n     <use x=\"277.410156\" xlink:href=\"#DejaVuSans-114\"/>\n     <use x=\"316.273438\" xlink:href=\"#DejaVuSans-101\"/>\n     <use x=\"377.796875\" xlink:href=\"#DejaVuSans-32\"/>\n     <use x=\"409.583984\" xlink:href=\"#DejaVuSans-73\"/>\n     <use x=\"439.076172\" xlink:href=\"#DejaVuSans-109\"/>\n     <use x=\"536.488281\" xlink:href=\"#DejaVuSans-112\"/>\n     <use x=\"599.964844\" xlink:href=\"#DejaVuSans-111\"/>\n     <use x=\"661.146484\" xlink:href=\"#DejaVuSans-114\"/>\n     <use x=\"702.259766\" xlink:href=\"#DejaVuSans-116\"/>\n     <use x=\"741.46875\" xlink:href=\"#DejaVuSans-97\"/>\n     <use x=\"802.748047\" xlink:href=\"#DejaVuSans-110\"/>\n     <use x=\"866.126953\" xlink:href=\"#DejaVuSans-99\"/>\n     <use x=\"921.107422\" xlink:href=\"#DejaVuSans-101\"/>\n     <use x=\"982.630859\" xlink:href=\"#DejaVuSans-32\"/>\n     <use x=\"1014.417969\" xlink:href=\"#DejaVuSans-105\"/>\n     <use x=\"1042.201172\" xlink:href=\"#DejaVuSans-110\"/>\n     <use x=\"1105.580078\" xlink:href=\"#DejaVuSans-32\"/>\n     <use x=\"1137.367188\" xlink:href=\"#DejaVuSans-82\"/>\n     <use x=\"1204.599609\" xlink:href=\"#DejaVuSans-97\"/>\n     <use x=\"1265.878906\" xlink:href=\"#DejaVuSans-110\"/>\n     <use x=\"1329.257812\" xlink:href=\"#DejaVuSans-100\"/>\n     <use x=\"1392.734375\" xlink:href=\"#DejaVuSans-111\"/>\n     <use x=\"1453.916016\" xlink:href=\"#DejaVuSans-109\"/>\n     <use x=\"1551.328125\" xlink:href=\"#DejaVuSans-32\"/>\n     <use x=\"1583.115234\" xlink:href=\"#DejaVuSans-70\"/>\n     <use x=\"1637.009766\" xlink:href=\"#DejaVuSans-111\"/>\n     <use x=\"1698.191406\" xlink:href=\"#DejaVuSans-114\"/>\n     <use x=\"1737.054688\" xlink:href=\"#DejaVuSans-101\"/>\n     <use x=\"1798.578125\" xlink:href=\"#DejaVuSans-115\"/>\n     <use x=\"1850.677734\" xlink:href=\"#DejaVuSans-116\"/>\n     <use x=\"1889.886719\" xlink:href=\"#DejaVuSans-32\"/>\n     <use x=\"1921.673828\" xlink:href=\"#DejaVuSans-67\"/>\n     <use x=\"1991.498047\" xlink:href=\"#DejaVuSans-108\"/>\n     <use x=\"2019.28125\" xlink:href=\"#DejaVuSans-97\"/>\n     <use x=\"2080.560547\" xlink:href=\"#DejaVuSans-115\"/>\n     <use x=\"2132.660156\" xlink:href=\"#DejaVuSans-115\"/>\n     <use x=\"2184.759766\" xlink:href=\"#DejaVuSans-105\"/>\n     <use x=\"2212.542969\" xlink:href=\"#DejaVuSans-102\"/>\n     <use x=\"2247.748047\" xlink:href=\"#DejaVuSans-105\"/>\n     <use x=\"2275.53125\" xlink:href=\"#DejaVuSans-99\"/>\n     <use x=\"2330.511719\" xlink:href=\"#DejaVuSans-97\"/>\n     <use x=\"2391.791016\" xlink:href=\"#DejaVuSans-116\"/>\n     <use x=\"2431\" xlink:href=\"#DejaVuSans-105\"/>\n     <use x=\"2458.783203\" xlink:href=\"#DejaVuSans-111\"/>\n     <use x=\"2519.964844\" xlink:href=\"#DejaVuSans-110\"/>\n     <use x=\"2583.34375\" xlink:href=\"#DejaVuSans-32\"/>\n     <use x=\"2615.130859\" xlink:href=\"#DejaVuSans-102\"/>\n     <use x=\"2650.335938\" xlink:href=\"#DejaVuSans-111\"/>\n     <use x=\"2711.517578\" xlink:href=\"#DejaVuSans-114\"/>\n     <use x=\"2752.630859\" xlink:href=\"#DejaVuSans-32\"/>\n     <use x=\"2784.417969\" xlink:href=\"#DejaVuSans-66\"/>\n     <use x=\"2853.021484\" xlink:href=\"#DejaVuSans-117\"/>\n     <use x=\"2916.400391\" xlink:href=\"#DejaVuSans-121\"/>\n     <use x=\"2975.580078\" xlink:href=\"#DejaVuSans-32\"/>\n     <use x=\"3007.367188\" xlink:href=\"#DejaVuSans-83\"/>\n     <use x=\"3070.84375\" xlink:href=\"#DejaVuSans-105\"/>\n     <use x=\"3098.626953\" xlink:href=\"#DejaVuSans-103\"/>\n     <use x=\"3162.103516\" xlink:href=\"#DejaVuSans-110\"/>\n     <use x=\"3225.482422\" xlink:href=\"#DejaVuSans-97\"/>\n     <use x=\"3286.761719\" xlink:href=\"#DejaVuSans-108\"/>\n    </g>\n   </g>\n  </g>\n </g>\n <defs>\n  <clipPath id=\"pd7126707d6\">\n   <rect height=\"271.8\" width=\"1674\" x=\"36.465625\" y=\"22.318125\"/>\n  </clipPath>\n </defs>\n</svg>\n",
      "image/png": "[encoded data removed]"
     },
     "metadata": {
      "needs_background": "light"
     }
    },
    {
     "output_type": "stream",
     "name": "stdout",
     "text": [
      "CPU times: user 1.04 s, sys: 26.2 ms, total: 1.07 s\nWall time: 1.06 s\n"
     ]
    }
   ],
   "source": [
    "%%time\n",
    "# random forest for feature importance on a classification problem\n",
    "from sklearn.ensemble import RandomForestClassifier\n",
    "# define the model\n",
    "model = RandomForestClassifier()\n",
    "# fit the model\n",
    "model.fit(features_train.drop(['Date','Symbol','Buy','Sell','TRACKER'],axis=1), features_train.Buy)\n",
    "# get importance\n",
    "importance = model.feature_importances_\n",
    "# summarize feature importance\n",
    "for i,v in enumerate(importance):\n",
    "\tprint('Feature: %0d, Score: %.5f' % (i,v))\n",
    "# plot feature importance\n",
    "pyplot.figure(figsize=(30,5))\n",
    "pyplot.title('Feature Importance in Random Forest Classification for Buy Signal')\n",
    "pyplot.bar([x for x in range(len(importance))], importance)\n",
    "pyplot.show()"
   ]
  },
  {
   "cell_type": "code",
   "execution_count": 399,
   "metadata": {},
   "outputs": [
    {
     "output_type": "stream",
     "name": "stdout",
     "text": [
      "Feature: 0, Score: 0.02764\nFeature: 1, Score: 0.06171\nFeature: 2, Score: 0.02519\nFeature: 3, Score: 0.02113\nFeature: 4, Score: 0.02116\nFeature: 5, Score: 0.02021\nFeature: 6, Score: 0.04449\nFeature: 7, Score: 0.04452\nFeature: 8, Score: 0.02700\nFeature: 9, Score: 0.02882\nFeature: 10, Score: 0.02174\nFeature: 11, Score: 0.02126\nFeature: 12, Score: 0.00000\nFeature: 13, Score: 0.01922\nFeature: 14, Score: 0.02270\nFeature: 15, Score: 0.01988\nFeature: 16, Score: 0.03074\nFeature: 17, Score: 0.01895\nFeature: 18, Score: 0.02557\nFeature: 19, Score: 0.02059\nFeature: 20, Score: 0.04306\nFeature: 21, Score: 0.01809\nFeature: 22, Score: 0.03043\nFeature: 23, Score: 0.01659\nFeature: 24, Score: 0.03895\nFeature: 25, Score: 0.01968\nFeature: 26, Score: 0.02146\nFeature: 27, Score: 0.02302\nFeature: 28, Score: 0.01790\nFeature: 29, Score: 0.01549\nFeature: 30, Score: 0.01569\nFeature: 31, Score: 0.01491\nFeature: 32, Score: 0.01486\nFeature: 33, Score: 0.01427\nFeature: 34, Score: 0.01490\nFeature: 35, Score: 0.01900\nFeature: 36, Score: 0.01651\nFeature: 37, Score: 0.01510\nFeature: 38, Score: 0.01690\nFeature: 39, Score: 0.01386\nFeature: 40, Score: 0.01753\nFeature: 41, Score: 0.02593\nFeature: 42, Score: 0.03334\n"
     ]
    },
    {
     "output_type": "display_data",
     "data": {
      "text/plain": "<Figure size 2160x360 with 1 Axes>",
      "image/svg+xml": "<?xml version=\"1.0\" encoding=\"utf-8\" standalone=\"no\"?>\n<!DOCTYPE svg PUBLIC \"-//W3C//DTD SVG 1.1//EN\"\n  \"http://www.w3.org/Graphics/SVG/1.1/DTD/svg11.dtd\">\n<!-- Created with matplotlib (https://matplotlib.org/) -->\n<svg height=\"317.99625pt\" version=\"1.1\" viewBox=\"0 0 1717.665625 317.99625\" width=\"1717.665625pt\" xmlns=\"http://www.w3.org/2000/svg\" xmlns:xlink=\"http://www.w3.org/1999/xlink\">\n <metadata>\n  <rdf:RDF xmlns:cc=\"http://creativecommons.org/ns#\" xmlns:dc=\"http://purl.org/dc/elements/1.1/\" xmlns:rdf=\"http://www.w3.org/1999/02/22-rdf-syntax-ns#\">\n   <cc:Work>\n    <dc:type rdf:resource=\"http://purl.org/dc/dcmitype/StillImage\"/>\n    <dc:date>2021-01-26T12:38:51.606500</dc:date>\n    <dc:format>image/svg+xml</dc:format>\n    <dc:creator>\n     <cc:Agent>\n      <dc:title>Matplotlib v3.3.3, https://matplotlib.org/</dc:title>\n     </cc:Agent>\n    </dc:creator>\n   </cc:Work>\n  </rdf:RDF>\n </metadata>\n <defs>\n  <style type=\"text/css\">*{stroke-linecap:butt;stroke-linejoin:round;}</style>\n </defs>\n <g id=\"figure_1\">\n  <g id=\"patch_1\">\n   <path d=\"M 0 317.99625 \nL 1717.665625 317.99625 \nL 1717.665625 0 \nL 0 0 \nz\n\" style=\"fill:none;\"/>\n  </g>\n  <g id=\"axes_1\">\n   <g id=\"patch_2\">\n    <path d=\"M 36.465625 294.118125 \nL 1710.465625 294.118125 \nL 1710.465625 22.318125 \nL 36.465625 22.318125 \nz\n\" style=\"fill:#ffffff;\"/>\n   </g>\n   <g id=\"patch_3\">\n    <path clip-path=\"url(#p3bbb441a1b)\" d=\"M 112.556534 294.118125 \nL 141.001734 294.118125 \nL 141.001734 178.164621 \nL 112.556534 178.164621 \nz\n\" style=\"fill:#1f77b4;\"/>\n   </g>\n   <g id=\"patch_4\">\n    <path clip-path=\"url(#p3bbb441a1b)\" d=\"M 148.113034 294.118125 \nL 176.558233 294.118125 \nL 176.558233 35.260982 \nL 148.113034 35.260982 \nz\n\" style=\"fill:#1f77b4;\"/>\n   </g>\n   <g id=\"patch_5\">\n    <path clip-path=\"url(#p3bbb441a1b)\" d=\"M 183.669533 294.118125 \nL 212.114733 294.118125 \nL 212.114733 188.44587 \nL 183.669533 188.44587 \nz\n\" style=\"fill:#1f77b4;\"/>\n   </g>\n   <g id=\"patch_6\">\n    <path clip-path=\"url(#p3bbb441a1b)\" d=\"M 219.226033 294.118125 \nL 247.671232 294.118125 \nL 247.671232 205.476873 \nL 219.226033 205.476873 \nz\n\" style=\"fill:#1f77b4;\"/>\n   </g>\n   <g id=\"patch_7\">\n    <path clip-path=\"url(#p3bbb441a1b)\" d=\"M 254.782532 294.118125 \nL 283.227732 294.118125 \nL 283.227732 205.348675 \nL 254.782532 205.348675 \nz\n\" style=\"fill:#1f77b4;\"/>\n   </g>\n   <g id=\"patch_8\">\n    <path clip-path=\"url(#p3bbb441a1b)\" d=\"M 290.339032 294.118125 \nL 318.784232 294.118125 \nL 318.784232 209.333684 \nL 290.339032 209.333684 \nz\n\" style=\"fill:#1f77b4;\"/>\n   </g>\n   <g id=\"patch_9\">\n    <path clip-path=\"url(#p3bbb441a1b)\" d=\"M 325.895532 294.118125 \nL 354.340731 294.118125 \nL 354.340731 107.475608 \nL 325.895532 107.475608 \nz\n\" style=\"fill:#1f77b4;\"/>\n   </g>\n   <g id=\"patch_10\">\n    <path clip-path=\"url(#p3bbb441a1b)\" d=\"M 361.452031 294.118125 \nL 389.897231 294.118125 \nL 389.897231 107.359042 \nL 361.452031 107.359042 \nz\n\" style=\"fill:#1f77b4;\"/>\n   </g>\n   <g id=\"patch_11\">\n    <path clip-path=\"url(#p3bbb441a1b)\" d=\"M 397.008531 294.118125 \nL 425.45373 294.118125 \nL 425.45373 180.863819 \nL 397.008531 180.863819 \nz\n\" style=\"fill:#1f77b4;\"/>\n   </g>\n   <g id=\"patch_12\">\n    <path clip-path=\"url(#p3bbb441a1b)\" d=\"M 432.56503 294.118125 \nL 461.01023 294.118125 \nL 461.01023 173.229548 \nL 432.56503 173.229548 \nz\n\" style=\"fill:#1f77b4;\"/>\n   </g>\n   <g id=\"patch_13\">\n    <path clip-path=\"url(#p3bbb441a1b)\" d=\"M 468.12153 294.118125 \nL 496.56673 294.118125 \nL 496.56673 202.924827 \nL 468.12153 202.924827 \nz\n\" style=\"fill:#1f77b4;\"/>\n   </g>\n   <g id=\"patch_14\">\n    <path clip-path=\"url(#p3bbb441a1b)\" d=\"M 503.678029 294.118125 \nL 532.123229 294.118125 \nL 532.123229 204.932514 \nL 503.678029 204.932514 \nz\n\" style=\"fill:#1f77b4;\"/>\n   </g>\n   <g id=\"patch_15\">\n    <path clip-path=\"url(#p3bbb441a1b)\" d=\"M 539.234529 294.118125 \nL 567.679729 294.118125 \nL 567.679729 294.118125 \nL 539.234529 294.118125 \nz\n\" style=\"fill:#1f77b4;\"/>\n   </g>\n   <g id=\"patch_16\">\n    <path clip-path=\"url(#p3bbb441a1b)\" d=\"M 574.791029 294.118125 \nL 603.236228 294.118125 \nL 603.236228 213.491313 \nL 574.791029 213.491313 \nz\n\" style=\"fill:#1f77b4;\"/>\n   </g>\n   <g id=\"patch_17\">\n    <path clip-path=\"url(#p3bbb441a1b)\" d=\"M 610.347528 294.118125 \nL 638.792728 294.118125 \nL 638.792728 198.895374 \nL 610.347528 198.895374 \nz\n\" style=\"fill:#1f77b4;\"/>\n   </g>\n   <g id=\"patch_18\">\n    <path clip-path=\"url(#p3bbb441a1b)\" d=\"M 645.904028 294.118125 \nL 674.349227 294.118125 \nL 674.349227 210.705336 \nL 645.904028 210.705336 \nz\n\" style=\"fill:#1f77b4;\"/>\n   </g>\n   <g id=\"patch_19\">\n    <path clip-path=\"url(#p3bbb441a1b)\" d=\"M 681.460527 294.118125 \nL 709.905727 294.118125 \nL 709.905727 165.154345 \nL 681.460527 165.154345 \nz\n\" style=\"fill:#1f77b4;\"/>\n   </g>\n   <g id=\"patch_20\">\n    <path clip-path=\"url(#p3bbb441a1b)\" d=\"M 717.017027 294.118125 \nL 745.462227 294.118125 \nL 745.462227 214.621752 \nL 717.017027 214.621752 \nz\n\" style=\"fill:#1f77b4;\"/>\n   </g>\n   <g id=\"patch_21\">\n    <path clip-path=\"url(#p3bbb441a1b)\" d=\"M 752.573526 294.118125 \nL 781.018726 294.118125 \nL 781.018726 186.859528 \nL 752.573526 186.859528 \nz\n\" style=\"fill:#1f77b4;\"/>\n   </g>\n   <g id=\"patch_22\">\n    <path clip-path=\"url(#p3bbb441a1b)\" d=\"M 788.130026 294.118125 \nL 816.575226 294.118125 \nL 816.575226 207.730815 \nL 788.130026 207.730815 \nz\n\" style=\"fill:#1f77b4;\"/>\n   </g>\n   <g id=\"patch_23\">\n    <path clip-path=\"url(#p3bbb441a1b)\" d=\"M 823.686526 294.118125 \nL 852.131725 294.118125 \nL 852.131725 113.493609 \nL 823.686526 113.493609 \nz\n\" style=\"fill:#1f77b4;\"/>\n   </g>\n   <g id=\"patch_24\">\n    <path clip-path=\"url(#p3bbb441a1b)\" d=\"M 859.243025 294.118125 \nL 887.688225 294.118125 \nL 887.688225 218.214335 \nL 859.243025 218.214335 \nz\n\" style=\"fill:#1f77b4;\"/>\n   </g>\n   <g id=\"patch_25\">\n    <path clip-path=\"url(#p3bbb441a1b)\" d=\"M 894.799525 294.118125 \nL 923.244724 294.118125 \nL 923.244724 166.479586 \nL 894.799525 166.479586 \nz\n\" style=\"fill:#1f77b4;\"/>\n   </g>\n   <g id=\"patch_26\">\n    <path clip-path=\"url(#p3bbb441a1b)\" d=\"M 930.356024 294.118125 \nL 958.801224 294.118125 \nL 958.801224 224.522139 \nL 930.356024 224.522139 \nz\n\" style=\"fill:#1f77b4;\"/>\n   </g>\n   <g id=\"patch_27\">\n    <path clip-path=\"url(#p3bbb441a1b)\" d=\"M 965.912524 294.118125 \nL 994.357724 294.118125 \nL 994.357724 130.733213 \nL 965.912524 130.733213 \nz\n\" style=\"fill:#1f77b4;\"/>\n   </g>\n   <g id=\"patch_28\">\n    <path clip-path=\"url(#p3bbb441a1b)\" d=\"M 1001.469023 294.118125 \nL 1029.914223 294.118125 \nL 1029.914223 211.578583 \nL 1001.469023 211.578583 \nz\n\" style=\"fill:#1f77b4;\"/>\n   </g>\n   <g id=\"patch_29\">\n    <path clip-path=\"url(#p3bbb441a1b)\" d=\"M 1037.025523 294.118125 \nL 1065.470723 294.118125 \nL 1065.470723 204.084049 \nL 1037.025523 204.084049 \nz\n\" style=\"fill:#1f77b4;\"/>\n   </g>\n   <g id=\"patch_30\">\n    <path clip-path=\"url(#p3bbb441a1b)\" d=\"M 1072.582023 294.118125 \nL 1101.027222 294.118125 \nL 1101.027222 197.538238 \nL 1072.582023 197.538238 \nz\n\" style=\"fill:#1f77b4;\"/>\n   </g>\n   <g id=\"patch_31\">\n    <path clip-path=\"url(#p3bbb441a1b)\" d=\"M 1108.138522 294.118125 \nL 1136.583722 294.118125 \nL 1136.583722 219.038511 \nL 1108.138522 219.038511 \nz\n\" style=\"fill:#1f77b4;\"/>\n   </g>\n   <g id=\"patch_32\">\n    <path clip-path=\"url(#p3bbb441a1b)\" d=\"M 1143.695022 294.118125 \nL 1172.140221 294.118125 \nL 1172.140221 229.143381 \nL 1143.695022 229.143381 \nz\n\" style=\"fill:#1f77b4;\"/>\n   </g>\n   <g id=\"patch_33\">\n    <path clip-path=\"url(#p3bbb441a1b)\" d=\"M 1179.251521 294.118125 \nL 1207.696721 294.118125 \nL 1207.696721 228.284986 \nL 1179.251521 228.284986 \nz\n\" style=\"fill:#1f77b4;\"/>\n   </g>\n   <g id=\"patch_34\">\n    <path clip-path=\"url(#p3bbb441a1b)\" d=\"M 1214.808021 294.118125 \nL 1243.253221 294.118125 \nL 1243.253221 231.581419 \nL 1214.808021 231.581419 \nz\n\" style=\"fill:#1f77b4;\"/>\n   </g>\n   <g id=\"patch_35\">\n    <path clip-path=\"url(#p3bbb441a1b)\" d=\"M 1250.36452 294.118125 \nL 1278.80972 294.118125 \nL 1278.80972 231.802385 \nL 1250.36452 231.802385 \nz\n\" style=\"fill:#1f77b4;\"/>\n   </g>\n   <g id=\"patch_36\">\n    <path clip-path=\"url(#p3bbb441a1b)\" d=\"M 1285.92102 294.118125 \nL 1314.36622 294.118125 \nL 1314.36622 234.26031 \nL 1285.92102 234.26031 \nz\n\" style=\"fill:#1f77b4;\"/>\n   </g>\n   <g id=\"patch_37\">\n    <path clip-path=\"url(#p3bbb441a1b)\" d=\"M 1321.47752 294.118125 \nL 1349.922719 294.118125 \nL 1349.922719 231.619227 \nL 1321.47752 231.619227 \nz\n\" style=\"fill:#1f77b4;\"/>\n   </g>\n   <g id=\"patch_38\">\n    <path clip-path=\"url(#p3bbb441a1b)\" d=\"M 1357.034019 294.118125 \nL 1385.479219 294.118125 \nL 1385.479219 214.420224 \nL 1357.034019 214.420224 \nz\n\" style=\"fill:#1f77b4;\"/>\n   </g>\n   <g id=\"patch_39\">\n    <path clip-path=\"url(#p3bbb441a1b)\" d=\"M 1392.590519 294.118125 \nL 1421.035718 294.118125 \nL 1421.035718 224.840605 \nL 1392.590519 224.840605 \nz\n\" style=\"fill:#1f77b4;\"/>\n   </g>\n   <g id=\"patch_40\">\n    <path clip-path=\"url(#p3bbb441a1b)\" d=\"M 1428.147018 294.118125 \nL 1456.592218 294.118125 \nL 1456.592218 230.781805 \nL 1428.147018 230.781805 \nz\n\" style=\"fill:#1f77b4;\"/>\n   </g>\n   <g id=\"patch_41\">\n    <path clip-path=\"url(#p3bbb441a1b)\" d=\"M 1463.703518 294.118125 \nL 1492.148718 294.118125 \nL 1492.148718 223.229858 \nL 1463.703518 223.229858 \nz\n\" style=\"fill:#1f77b4;\"/>\n   </g>\n   <g id=\"patch_42\">\n    <path clip-path=\"url(#p3bbb441a1b)\" d=\"M 1499.260018 294.118125 \nL 1527.705217 294.118125 \nL 1527.705217 235.98411 \nL 1499.260018 235.98411 \nz\n\" style=\"fill:#1f77b4;\"/>\n   </g>\n   <g id=\"patch_43\">\n    <path clip-path=\"url(#p3bbb441a1b)\" d=\"M 1534.816517 294.118125 \nL 1563.261717 294.118125 \nL 1563.261717 220.576208 \nL 1534.816517 220.576208 \nz\n\" style=\"fill:#1f77b4;\"/>\n   </g>\n   <g id=\"patch_44\">\n    <path clip-path=\"url(#p3bbb441a1b)\" d=\"M 1570.373017 294.118125 \nL 1598.818216 294.118125 \nL 1598.818216 185.324778 \nL 1570.373017 185.324778 \nz\n\" style=\"fill:#1f77b4;\"/>\n   </g>\n   <g id=\"patch_45\">\n    <path clip-path=\"url(#p3bbb441a1b)\" d=\"M 1605.929516 294.118125 \nL 1634.374716 294.118125 \nL 1634.374716 154.257903 \nL 1605.929516 154.257903 \nz\n\" style=\"fill:#1f77b4;\"/>\n   </g>\n   <g id=\"matplotlib.axis_1\">\n    <g id=\"xtick_1\">\n     <g id=\"line2d_1\">\n      <defs>\n       <path d=\"M 0 0 \nL 0 3.5 \n\" id=\"mb5d4b572da\" style=\"stroke:#000000;stroke-width:0.8;\"/>\n      </defs>\n      <g>\n       <use style=\"stroke:#000000;stroke-width:0.8;\" x=\"126.779134\" xlink:href=\"#mb5d4b572da\" y=\"294.118125\"/>\n      </g>\n     </g>\n     <g id=\"text_1\">\n      <!-- 0 -->\n      <g transform=\"translate(123.597884 308.716563)scale(0.1 -0.1)\">\n       <defs>\n        <path d=\"M 31.78125 66.40625 \nQ 24.171875 66.40625 20.328125 58.90625 \nQ 16.5 51.421875 16.5 36.375 \nQ 16.5 21.390625 20.328125 13.890625 \nQ 24.171875 6.390625 31.78125 6.390625 \nQ 39.453125 6.390625 43.28125 13.890625 \nQ 47.125 21.390625 47.125 36.375 \nQ 47.125 51.421875 43.28125 58.90625 \nQ 39.453125 66.40625 31.78125 66.40625 \nz\nM 31.78125 74.21875 \nQ 44.046875 74.21875 50.515625 64.515625 \nQ 56.984375 54.828125 56.984375 36.375 \nQ 56.984375 17.96875 50.515625 8.265625 \nQ 44.046875 -1.421875 31.78125 -1.421875 \nQ 19.53125 -1.421875 13.0625 8.265625 \nQ 6.59375 17.96875 6.59375 36.375 \nQ 6.59375 54.828125 13.0625 64.515625 \nQ 19.53125 74.21875 31.78125 74.21875 \nz\n\" id=\"DejaVuSans-48\"/>\n       </defs>\n       <use xlink:href=\"#DejaVuSans-48\"/>\n      </g>\n     </g>\n    </g>\n    <g id=\"xtick_2\">\n     <g id=\"line2d_2\">\n      <g>\n       <use style=\"stroke:#000000;stroke-width:0.8;\" x=\"482.34413\" xlink:href=\"#mb5d4b572da\" y=\"294.118125\"/>\n      </g>\n     </g>\n     <g id=\"text_2\">\n      <!-- 10 -->\n      <g transform=\"translate(475.98163 308.716563)scale(0.1 -0.1)\">\n       <defs>\n        <path d=\"M 12.40625 8.296875 \nL 28.515625 8.296875 \nL 28.515625 63.921875 \nL 10.984375 60.40625 \nL 10.984375 69.390625 \nL 28.421875 72.90625 \nL 38.28125 72.90625 \nL 38.28125 8.296875 \nL 54.390625 8.296875 \nL 54.390625 0 \nL 12.40625 0 \nz\n\" id=\"DejaVuSans-49\"/>\n       </defs>\n       <use xlink:href=\"#DejaVuSans-49\"/>\n       <use x=\"63.623047\" xlink:href=\"#DejaVuSans-48\"/>\n      </g>\n     </g>\n    </g>\n    <g id=\"xtick_3\">\n     <g id=\"line2d_3\">\n      <g>\n       <use style=\"stroke:#000000;stroke-width:0.8;\" x=\"837.909125\" xlink:href=\"#mb5d4b572da\" y=\"294.118125\"/>\n      </g>\n     </g>\n     <g id=\"text_3\">\n      <!-- 20 -->\n      <g transform=\"translate(831.546625 308.716563)scale(0.1 -0.1)\">\n       <defs>\n        <path d=\"M 19.1875 8.296875 \nL 53.609375 8.296875 \nL 53.609375 0 \nL 7.328125 0 \nL 7.328125 8.296875 \nQ 12.9375 14.109375 22.625 23.890625 \nQ 32.328125 33.6875 34.8125 36.53125 \nQ 39.546875 41.84375 41.421875 45.53125 \nQ 43.3125 49.21875 43.3125 52.78125 \nQ 43.3125 58.59375 39.234375 62.25 \nQ 35.15625 65.921875 28.609375 65.921875 \nQ 23.96875 65.921875 18.8125 64.3125 \nQ 13.671875 62.703125 7.8125 59.421875 \nL 7.8125 69.390625 \nQ 13.765625 71.78125 18.9375 73 \nQ 24.125 74.21875 28.421875 74.21875 \nQ 39.75 74.21875 46.484375 68.546875 \nQ 53.21875 62.890625 53.21875 53.421875 \nQ 53.21875 48.921875 51.53125 44.890625 \nQ 49.859375 40.875 45.40625 35.40625 \nQ 44.1875 33.984375 37.640625 27.21875 \nQ 31.109375 20.453125 19.1875 8.296875 \nz\n\" id=\"DejaVuSans-50\"/>\n       </defs>\n       <use xlink:href=\"#DejaVuSans-50\"/>\n       <use x=\"63.623047\" xlink:href=\"#DejaVuSans-48\"/>\n      </g>\n     </g>\n    </g>\n    <g id=\"xtick_4\">\n     <g id=\"line2d_4\">\n      <g>\n       <use style=\"stroke:#000000;stroke-width:0.8;\" x=\"1193.474121\" xlink:href=\"#mb5d4b572da\" y=\"294.118125\"/>\n      </g>\n     </g>\n     <g id=\"text_4\">\n      <!-- 30 -->\n      <g transform=\"translate(1187.111621 308.716563)scale(0.1 -0.1)\">\n       <defs>\n        <path d=\"M 40.578125 39.3125 \nQ 47.65625 37.796875 51.625 33 \nQ 55.609375 28.21875 55.609375 21.1875 \nQ 55.609375 10.40625 48.1875 4.484375 \nQ 40.765625 -1.421875 27.09375 -1.421875 \nQ 22.515625 -1.421875 17.65625 -0.515625 \nQ 12.796875 0.390625 7.625 2.203125 \nL 7.625 11.71875 \nQ 11.71875 9.328125 16.59375 8.109375 \nQ 21.484375 6.890625 26.8125 6.890625 \nQ 36.078125 6.890625 40.9375 10.546875 \nQ 45.796875 14.203125 45.796875 21.1875 \nQ 45.796875 27.640625 41.28125 31.265625 \nQ 36.765625 34.90625 28.71875 34.90625 \nL 20.21875 34.90625 \nL 20.21875 43.015625 \nL 29.109375 43.015625 \nQ 36.375 43.015625 40.234375 45.921875 \nQ 44.09375 48.828125 44.09375 54.296875 \nQ 44.09375 59.90625 40.109375 62.90625 \nQ 36.140625 65.921875 28.71875 65.921875 \nQ 24.65625 65.921875 20.015625 65.03125 \nQ 15.375 64.15625 9.8125 62.3125 \nL 9.8125 71.09375 \nQ 15.4375 72.65625 20.34375 73.4375 \nQ 25.25 74.21875 29.59375 74.21875 \nQ 40.828125 74.21875 47.359375 69.109375 \nQ 53.90625 64.015625 53.90625 55.328125 \nQ 53.90625 49.265625 50.4375 45.09375 \nQ 46.96875 40.921875 40.578125 39.3125 \nz\n\" id=\"DejaVuSans-51\"/>\n       </defs>\n       <use xlink:href=\"#DejaVuSans-51\"/>\n       <use x=\"63.623047\" xlink:href=\"#DejaVuSans-48\"/>\n      </g>\n     </g>\n    </g>\n    <g id=\"xtick_5\">\n     <g id=\"line2d_5\">\n      <g>\n       <use style=\"stroke:#000000;stroke-width:0.8;\" x=\"1549.039117\" xlink:href=\"#mb5d4b572da\" y=\"294.118125\"/>\n      </g>\n     </g>\n     <g id=\"text_5\">\n      <!-- 40 -->\n      <g transform=\"translate(1542.676617 308.716563)scale(0.1 -0.1)\">\n       <defs>\n        <path d=\"M 37.796875 64.3125 \nL 12.890625 25.390625 \nL 37.796875 25.390625 \nz\nM 35.203125 72.90625 \nL 47.609375 72.90625 \nL 47.609375 25.390625 \nL 58.015625 25.390625 \nL 58.015625 17.1875 \nL 47.609375 17.1875 \nL 47.609375 0 \nL 37.796875 0 \nL 37.796875 17.1875 \nL 4.890625 17.1875 \nL 4.890625 26.703125 \nz\n\" id=\"DejaVuSans-52\"/>\n       </defs>\n       <use xlink:href=\"#DejaVuSans-52\"/>\n       <use x=\"63.623047\" xlink:href=\"#DejaVuSans-48\"/>\n      </g>\n     </g>\n    </g>\n   </g>\n   <g id=\"matplotlib.axis_2\">\n    <g id=\"ytick_1\">\n     <g id=\"line2d_6\">\n      <defs>\n       <path d=\"M 0 0 \nL -3.5 0 \n\" id=\"mcbf435665d\" style=\"stroke:#000000;stroke-width:0.8;\"/>\n      </defs>\n      <g>\n       <use style=\"stroke:#000000;stroke-width:0.8;\" x=\"36.465625\" xlink:href=\"#mcbf435665d\" y=\"294.118125\"/>\n      </g>\n     </g>\n     <g id=\"text_6\">\n      <!-- 0.00 -->\n      <g transform=\"translate(7.2 297.917344)scale(0.1 -0.1)\">\n       <defs>\n        <path d=\"M 10.6875 12.40625 \nL 21 12.40625 \nL 21 0 \nL 10.6875 0 \nz\n\" id=\"DejaVuSans-46\"/>\n       </defs>\n       <use xlink:href=\"#DejaVuSans-48\"/>\n       <use x=\"63.623047\" xlink:href=\"#DejaVuSans-46\"/>\n       <use x=\"95.410156\" xlink:href=\"#DejaVuSans-48\"/>\n       <use x=\"159.033203\" xlink:href=\"#DejaVuSans-48\"/>\n      </g>\n     </g>\n    </g>\n    <g id=\"ytick_2\">\n     <g id=\"line2d_7\">\n      <g>\n       <use style=\"stroke:#000000;stroke-width:0.8;\" x=\"36.465625\" xlink:href=\"#mcbf435665d\" y=\"252.169152\"/>\n      </g>\n     </g>\n     <g id=\"text_7\">\n      <!-- 0.01 -->\n      <g transform=\"translate(7.2 255.968371)scale(0.1 -0.1)\">\n       <use xlink:href=\"#DejaVuSans-48\"/>\n       <use x=\"63.623047\" xlink:href=\"#DejaVuSans-46\"/>\n       <use x=\"95.410156\" xlink:href=\"#DejaVuSans-48\"/>\n       <use x=\"159.033203\" xlink:href=\"#DejaVuSans-49\"/>\n      </g>\n     </g>\n    </g>\n    <g id=\"ytick_3\">\n     <g id=\"line2d_8\">\n      <g>\n       <use style=\"stroke:#000000;stroke-width:0.8;\" x=\"36.465625\" xlink:href=\"#mcbf435665d\" y=\"210.22018\"/>\n      </g>\n     </g>\n     <g id=\"text_8\">\n      <!-- 0.02 -->\n      <g transform=\"translate(7.2 214.019399)scale(0.1 -0.1)\">\n       <use xlink:href=\"#DejaVuSans-48\"/>\n       <use x=\"63.623047\" xlink:href=\"#DejaVuSans-46\"/>\n       <use x=\"95.410156\" xlink:href=\"#DejaVuSans-48\"/>\n       <use x=\"159.033203\" xlink:href=\"#DejaVuSans-50\"/>\n      </g>\n     </g>\n    </g>\n    <g id=\"ytick_4\">\n     <g id=\"line2d_9\">\n      <g>\n       <use style=\"stroke:#000000;stroke-width:0.8;\" x=\"36.465625\" xlink:href=\"#mcbf435665d\" y=\"168.271207\"/>\n      </g>\n     </g>\n     <g id=\"text_9\">\n      <!-- 0.03 -->\n      <g transform=\"translate(7.2 172.070426)scale(0.1 -0.1)\">\n       <use xlink:href=\"#DejaVuSans-48\"/>\n       <use x=\"63.623047\" xlink:href=\"#DejaVuSans-46\"/>\n       <use x=\"95.410156\" xlink:href=\"#DejaVuSans-48\"/>\n       <use x=\"159.033203\" xlink:href=\"#DejaVuSans-51\"/>\n      </g>\n     </g>\n    </g>\n    <g id=\"ytick_5\">\n     <g id=\"line2d_10\">\n      <g>\n       <use style=\"stroke:#000000;stroke-width:0.8;\" x=\"36.465625\" xlink:href=\"#mcbf435665d\" y=\"126.322235\"/>\n      </g>\n     </g>\n     <g id=\"text_10\">\n      <!-- 0.04 -->\n      <g transform=\"translate(7.2 130.121453)scale(0.1 -0.1)\">\n       <use xlink:href=\"#DejaVuSans-48\"/>\n       <use x=\"63.623047\" xlink:href=\"#DejaVuSans-46\"/>\n       <use x=\"95.410156\" xlink:href=\"#DejaVuSans-48\"/>\n       <use x=\"159.033203\" xlink:href=\"#DejaVuSans-52\"/>\n      </g>\n     </g>\n    </g>\n    <g id=\"ytick_6\">\n     <g id=\"line2d_11\">\n      <g>\n       <use style=\"stroke:#000000;stroke-width:0.8;\" x=\"36.465625\" xlink:href=\"#mcbf435665d\" y=\"84.373262\"/>\n      </g>\n     </g>\n     <g id=\"text_11\">\n      <!-- 0.05 -->\n      <g transform=\"translate(7.2 88.172481)scale(0.1 -0.1)\">\n       <defs>\n        <path d=\"M 10.796875 72.90625 \nL 49.515625 72.90625 \nL 49.515625 64.59375 \nL 19.828125 64.59375 \nL 19.828125 46.734375 \nQ 21.96875 47.46875 24.109375 47.828125 \nQ 26.265625 48.1875 28.421875 48.1875 \nQ 40.625 48.1875 47.75 41.5 \nQ 54.890625 34.8125 54.890625 23.390625 \nQ 54.890625 11.625 47.5625 5.09375 \nQ 40.234375 -1.421875 26.90625 -1.421875 \nQ 22.3125 -1.421875 17.546875 -0.640625 \nQ 12.796875 0.140625 7.71875 1.703125 \nL 7.71875 11.625 \nQ 12.109375 9.234375 16.796875 8.0625 \nQ 21.484375 6.890625 26.703125 6.890625 \nQ 35.15625 6.890625 40.078125 11.328125 \nQ 45.015625 15.765625 45.015625 23.390625 \nQ 45.015625 31 40.078125 35.4375 \nQ 35.15625 39.890625 26.703125 39.890625 \nQ 22.75 39.890625 18.8125 39.015625 \nQ 14.890625 38.140625 10.796875 36.28125 \nz\n\" id=\"DejaVuSans-53\"/>\n       </defs>\n       <use xlink:href=\"#DejaVuSans-48\"/>\n       <use x=\"63.623047\" xlink:href=\"#DejaVuSans-46\"/>\n       <use x=\"95.410156\" xlink:href=\"#DejaVuSans-48\"/>\n       <use x=\"159.033203\" xlink:href=\"#DejaVuSans-53\"/>\n      </g>\n     </g>\n    </g>\n    <g id=\"ytick_7\">\n     <g id=\"line2d_12\">\n      <g>\n       <use style=\"stroke:#000000;stroke-width:0.8;\" x=\"36.465625\" xlink:href=\"#mcbf435665d\" y=\"42.424289\"/>\n      </g>\n     </g>\n     <g id=\"text_12\">\n      <!-- 0.06 -->\n      <g transform=\"translate(7.2 46.223508)scale(0.1 -0.1)\">\n       <defs>\n        <path d=\"M 33.015625 40.375 \nQ 26.375 40.375 22.484375 35.828125 \nQ 18.609375 31.296875 18.609375 23.390625 \nQ 18.609375 15.53125 22.484375 10.953125 \nQ 26.375 6.390625 33.015625 6.390625 \nQ 39.65625 6.390625 43.53125 10.953125 \nQ 47.40625 15.53125 47.40625 23.390625 \nQ 47.40625 31.296875 43.53125 35.828125 \nQ 39.65625 40.375 33.015625 40.375 \nz\nM 52.59375 71.296875 \nL 52.59375 62.3125 \nQ 48.875 64.0625 45.09375 64.984375 \nQ 41.3125 65.921875 37.59375 65.921875 \nQ 27.828125 65.921875 22.671875 59.328125 \nQ 17.53125 52.734375 16.796875 39.40625 \nQ 19.671875 43.65625 24.015625 45.921875 \nQ 28.375 48.1875 33.59375 48.1875 \nQ 44.578125 48.1875 50.953125 41.515625 \nQ 57.328125 34.859375 57.328125 23.390625 \nQ 57.328125 12.15625 50.6875 5.359375 \nQ 44.046875 -1.421875 33.015625 -1.421875 \nQ 20.359375 -1.421875 13.671875 8.265625 \nQ 6.984375 17.96875 6.984375 36.375 \nQ 6.984375 53.65625 15.1875 63.9375 \nQ 23.390625 74.21875 37.203125 74.21875 \nQ 40.921875 74.21875 44.703125 73.484375 \nQ 48.484375 72.75 52.59375 71.296875 \nz\n\" id=\"DejaVuSans-54\"/>\n       </defs>\n       <use xlink:href=\"#DejaVuSans-48\"/>\n       <use x=\"63.623047\" xlink:href=\"#DejaVuSans-46\"/>\n       <use x=\"95.410156\" xlink:href=\"#DejaVuSans-48\"/>\n       <use x=\"159.033203\" xlink:href=\"#DejaVuSans-54\"/>\n      </g>\n     </g>\n    </g>\n   </g>\n   <g id=\"patch_46\">\n    <path d=\"M 36.465625 294.118125 \nL 36.465625 22.318125 \n\" style=\"fill:none;stroke:#000000;stroke-linecap:square;stroke-linejoin:miter;stroke-width:0.8;\"/>\n   </g>\n   <g id=\"patch_47\">\n    <path d=\"M 1710.465625 294.118125 \nL 1710.465625 22.318125 \n\" style=\"fill:none;stroke:#000000;stroke-linecap:square;stroke-linejoin:miter;stroke-width:0.8;\"/>\n   </g>\n   <g id=\"patch_48\">\n    <path d=\"M 36.465625 294.118125 \nL 1710.465625 294.118125 \n\" style=\"fill:none;stroke:#000000;stroke-linecap:square;stroke-linejoin:miter;stroke-width:0.8;\"/>\n   </g>\n   <g id=\"patch_49\">\n    <path d=\"M 36.465625 22.318125 \nL 1710.465625 22.318125 \n\" style=\"fill:none;stroke:#000000;stroke-linecap:square;stroke-linejoin:miter;stroke-width:0.8;\"/>\n   </g>\n   <g id=\"text_13\">\n    <!-- Feature Importance in Random Forest Classification for Sell Signal -->\n    <g transform=\"translate(675.230313 16.318125)scale(0.12 -0.12)\">\n     <defs>\n      <path d=\"M 9.8125 72.90625 \nL 51.703125 72.90625 \nL 51.703125 64.59375 \nL 19.671875 64.59375 \nL 19.671875 43.109375 \nL 48.578125 43.109375 \nL 48.578125 34.8125 \nL 19.671875 34.8125 \nL 19.671875 0 \nL 9.8125 0 \nz\n\" id=\"DejaVuSans-70\"/>\n      <path d=\"M 56.203125 29.59375 \nL 56.203125 25.203125 \nL 14.890625 25.203125 \nQ 15.484375 15.921875 20.484375 11.0625 \nQ 25.484375 6.203125 34.421875 6.203125 \nQ 39.59375 6.203125 44.453125 7.46875 \nQ 49.3125 8.734375 54.109375 11.28125 \nL 54.109375 2.78125 \nQ 49.265625 0.734375 44.1875 -0.34375 \nQ 39.109375 -1.421875 33.890625 -1.421875 \nQ 20.796875 -1.421875 13.15625 6.1875 \nQ 5.515625 13.8125 5.515625 26.8125 \nQ 5.515625 40.234375 12.765625 48.109375 \nQ 20.015625 56 32.328125 56 \nQ 43.359375 56 49.78125 48.890625 \nQ 56.203125 41.796875 56.203125 29.59375 \nz\nM 47.21875 32.234375 \nQ 47.125 39.59375 43.09375 43.984375 \nQ 39.0625 48.390625 32.421875 48.390625 \nQ 24.90625 48.390625 20.390625 44.140625 \nQ 15.875 39.890625 15.1875 32.171875 \nz\n\" id=\"DejaVuSans-101\"/>\n      <path d=\"M 34.28125 27.484375 \nQ 23.390625 27.484375 19.1875 25 \nQ 14.984375 22.515625 14.984375 16.5 \nQ 14.984375 11.71875 18.140625 8.90625 \nQ 21.296875 6.109375 26.703125 6.109375 \nQ 34.1875 6.109375 38.703125 11.40625 \nQ 43.21875 16.703125 43.21875 25.484375 \nL 43.21875 27.484375 \nz\nM 52.203125 31.203125 \nL 52.203125 0 \nL 43.21875 0 \nL 43.21875 8.296875 \nQ 40.140625 3.328125 35.546875 0.953125 \nQ 30.953125 -1.421875 24.3125 -1.421875 \nQ 15.921875 -1.421875 10.953125 3.296875 \nQ 6 8.015625 6 15.921875 \nQ 6 25.140625 12.171875 29.828125 \nQ 18.359375 34.515625 30.609375 34.515625 \nL 43.21875 34.515625 \nL 43.21875 35.40625 \nQ 43.21875 41.609375 39.140625 45 \nQ 35.0625 48.390625 27.6875 48.390625 \nQ 23 48.390625 18.546875 47.265625 \nQ 14.109375 46.140625 10.015625 43.890625 \nL 10.015625 52.203125 \nQ 14.9375 54.109375 19.578125 55.046875 \nQ 24.21875 56 28.609375 56 \nQ 40.484375 56 46.34375 49.84375 \nQ 52.203125 43.703125 52.203125 31.203125 \nz\n\" id=\"DejaVuSans-97\"/>\n      <path d=\"M 18.3125 70.21875 \nL 18.3125 54.6875 \nL 36.8125 54.6875 \nL 36.8125 47.703125 \nL 18.3125 47.703125 \nL 18.3125 18.015625 \nQ 18.3125 11.328125 20.140625 9.421875 \nQ 21.96875 7.515625 27.59375 7.515625 \nL 36.8125 7.515625 \nL 36.8125 0 \nL 27.59375 0 \nQ 17.1875 0 13.234375 3.875 \nQ 9.28125 7.765625 9.28125 18.015625 \nL 9.28125 47.703125 \nL 2.6875 47.703125 \nL 2.6875 54.6875 \nL 9.28125 54.6875 \nL 9.28125 70.21875 \nz\n\" id=\"DejaVuSans-116\"/>\n      <path d=\"M 8.5 21.578125 \nL 8.5 54.6875 \nL 17.484375 54.6875 \nL 17.484375 21.921875 \nQ 17.484375 14.15625 20.5 10.265625 \nQ 23.53125 6.390625 29.59375 6.390625 \nQ 36.859375 6.390625 41.078125 11.03125 \nQ 45.3125 15.671875 45.3125 23.6875 \nL 45.3125 54.6875 \nL 54.296875 54.6875 \nL 54.296875 0 \nL 45.3125 0 \nL 45.3125 8.40625 \nQ 42.046875 3.421875 37.71875 1 \nQ 33.40625 -1.421875 27.6875 -1.421875 \nQ 18.265625 -1.421875 13.375 4.4375 \nQ 8.5 10.296875 8.5 21.578125 \nz\nM 31.109375 56 \nz\n\" id=\"DejaVuSans-117\"/>\n      <path d=\"M 41.109375 46.296875 \nQ 39.59375 47.171875 37.8125 47.578125 \nQ 36.03125 48 33.890625 48 \nQ 26.265625 48 22.1875 43.046875 \nQ 18.109375 38.09375 18.109375 28.8125 \nL 18.109375 0 \nL 9.078125 0 \nL 9.078125 54.6875 \nL 18.109375 54.6875 \nL 18.109375 46.1875 \nQ 20.953125 51.171875 25.484375 53.578125 \nQ 30.03125 56 36.53125 56 \nQ 37.453125 56 38.578125 55.875 \nQ 39.703125 55.765625 41.0625 55.515625 \nz\n\" id=\"DejaVuSans-114\"/>\n      <path id=\"DejaVuSans-32\"/>\n      <path d=\"M 9.8125 72.90625 \nL 19.671875 72.90625 \nL 19.671875 0 \nL 9.8125 0 \nz\n\" id=\"DejaVuSans-73\"/>\n      <path d=\"M 52 44.1875 \nQ 55.375 50.25 60.0625 53.125 \nQ 64.75 56 71.09375 56 \nQ 79.640625 56 84.28125 50.015625 \nQ 88.921875 44.046875 88.921875 33.015625 \nL 88.921875 0 \nL 79.890625 0 \nL 79.890625 32.71875 \nQ 79.890625 40.578125 77.09375 44.375 \nQ 74.3125 48.1875 68.609375 48.1875 \nQ 61.625 48.1875 57.5625 43.546875 \nQ 53.515625 38.921875 53.515625 30.90625 \nL 53.515625 0 \nL 44.484375 0 \nL 44.484375 32.71875 \nQ 44.484375 40.625 41.703125 44.40625 \nQ 38.921875 48.1875 33.109375 48.1875 \nQ 26.21875 48.1875 22.15625 43.53125 \nQ 18.109375 38.875 18.109375 30.90625 \nL 18.109375 0 \nL 9.078125 0 \nL 9.078125 54.6875 \nL 18.109375 54.6875 \nL 18.109375 46.1875 \nQ 21.1875 51.21875 25.484375 53.609375 \nQ 29.78125 56 35.6875 56 \nQ 41.65625 56 45.828125 52.96875 \nQ 50 49.953125 52 44.1875 \nz\n\" id=\"DejaVuSans-109\"/>\n      <path d=\"M 18.109375 8.203125 \nL 18.109375 -20.796875 \nL 9.078125 -20.796875 \nL 9.078125 54.6875 \nL 18.109375 54.6875 \nL 18.109375 46.390625 \nQ 20.953125 51.265625 25.265625 53.625 \nQ 29.59375 56 35.59375 56 \nQ 45.5625 56 51.78125 48.09375 \nQ 58.015625 40.1875 58.015625 27.296875 \nQ 58.015625 14.40625 51.78125 6.484375 \nQ 45.5625 -1.421875 35.59375 -1.421875 \nQ 29.59375 -1.421875 25.265625 0.953125 \nQ 20.953125 3.328125 18.109375 8.203125 \nz\nM 48.6875 27.296875 \nQ 48.6875 37.203125 44.609375 42.84375 \nQ 40.53125 48.484375 33.40625 48.484375 \nQ 26.265625 48.484375 22.1875 42.84375 \nQ 18.109375 37.203125 18.109375 27.296875 \nQ 18.109375 17.390625 22.1875 11.75 \nQ 26.265625 6.109375 33.40625 6.109375 \nQ 40.53125 6.109375 44.609375 11.75 \nQ 48.6875 17.390625 48.6875 27.296875 \nz\n\" id=\"DejaVuSans-112\"/>\n      <path d=\"M 30.609375 48.390625 \nQ 23.390625 48.390625 19.1875 42.75 \nQ 14.984375 37.109375 14.984375 27.296875 \nQ 14.984375 17.484375 19.15625 11.84375 \nQ 23.34375 6.203125 30.609375 6.203125 \nQ 37.796875 6.203125 41.984375 11.859375 \nQ 46.1875 17.53125 46.1875 27.296875 \nQ 46.1875 37.015625 41.984375 42.703125 \nQ 37.796875 48.390625 30.609375 48.390625 \nz\nM 30.609375 56 \nQ 42.328125 56 49.015625 48.375 \nQ 55.71875 40.765625 55.71875 27.296875 \nQ 55.71875 13.875 49.015625 6.21875 \nQ 42.328125 -1.421875 30.609375 -1.421875 \nQ 18.84375 -1.421875 12.171875 6.21875 \nQ 5.515625 13.875 5.515625 27.296875 \nQ 5.515625 40.765625 12.171875 48.375 \nQ 18.84375 56 30.609375 56 \nz\n\" id=\"DejaVuSans-111\"/>\n      <path d=\"M 54.890625 33.015625 \nL 54.890625 0 \nL 45.90625 0 \nL 45.90625 32.71875 \nQ 45.90625 40.484375 42.875 44.328125 \nQ 39.84375 48.1875 33.796875 48.1875 \nQ 26.515625 48.1875 22.3125 43.546875 \nQ 18.109375 38.921875 18.109375 30.90625 \nL 18.109375 0 \nL 9.078125 0 \nL 9.078125 54.6875 \nL 18.109375 54.6875 \nL 18.109375 46.1875 \nQ 21.34375 51.125 25.703125 53.5625 \nQ 30.078125 56 35.796875 56 \nQ 45.21875 56 50.046875 50.171875 \nQ 54.890625 44.34375 54.890625 33.015625 \nz\n\" id=\"DejaVuSans-110\"/>\n      <path d=\"M 48.78125 52.59375 \nL 48.78125 44.1875 \nQ 44.96875 46.296875 41.140625 47.34375 \nQ 37.3125 48.390625 33.40625 48.390625 \nQ 24.65625 48.390625 19.8125 42.84375 \nQ 14.984375 37.3125 14.984375 27.296875 \nQ 14.984375 17.28125 19.8125 11.734375 \nQ 24.65625 6.203125 33.40625 6.203125 \nQ 37.3125 6.203125 41.140625 7.25 \nQ 44.96875 8.296875 48.78125 10.40625 \nL 48.78125 2.09375 \nQ 45.015625 0.34375 40.984375 -0.53125 \nQ 36.96875 -1.421875 32.421875 -1.421875 \nQ 20.0625 -1.421875 12.78125 6.34375 \nQ 5.515625 14.109375 5.515625 27.296875 \nQ 5.515625 40.671875 12.859375 48.328125 \nQ 20.21875 56 33.015625 56 \nQ 37.15625 56 41.109375 55.140625 \nQ 45.0625 54.296875 48.78125 52.59375 \nz\n\" id=\"DejaVuSans-99\"/>\n      <path d=\"M 9.421875 54.6875 \nL 18.40625 54.6875 \nL 18.40625 0 \nL 9.421875 0 \nz\nM 9.421875 75.984375 \nL 18.40625 75.984375 \nL 18.40625 64.59375 \nL 9.421875 64.59375 \nz\n\" id=\"DejaVuSans-105\"/>\n      <path d=\"M 44.390625 34.1875 \nQ 47.5625 33.109375 50.5625 29.59375 \nQ 53.5625 26.078125 56.59375 19.921875 \nL 66.609375 0 \nL 56 0 \nL 46.6875 18.703125 \nQ 43.0625 26.03125 39.671875 28.421875 \nQ 36.28125 30.8125 30.421875 30.8125 \nL 19.671875 30.8125 \nL 19.671875 0 \nL 9.8125 0 \nL 9.8125 72.90625 \nL 32.078125 72.90625 \nQ 44.578125 72.90625 50.734375 67.671875 \nQ 56.890625 62.453125 56.890625 51.90625 \nQ 56.890625 45.015625 53.6875 40.46875 \nQ 50.484375 35.9375 44.390625 34.1875 \nz\nM 19.671875 64.796875 \nL 19.671875 38.921875 \nL 32.078125 38.921875 \nQ 39.203125 38.921875 42.84375 42.21875 \nQ 46.484375 45.515625 46.484375 51.90625 \nQ 46.484375 58.296875 42.84375 61.546875 \nQ 39.203125 64.796875 32.078125 64.796875 \nz\n\" id=\"DejaVuSans-82\"/>\n      <path d=\"M 45.40625 46.390625 \nL 45.40625 75.984375 \nL 54.390625 75.984375 \nL 54.390625 0 \nL 45.40625 0 \nL 45.40625 8.203125 \nQ 42.578125 3.328125 38.25 0.953125 \nQ 33.9375 -1.421875 27.875 -1.421875 \nQ 17.96875 -1.421875 11.734375 6.484375 \nQ 5.515625 14.40625 5.515625 27.296875 \nQ 5.515625 40.1875 11.734375 48.09375 \nQ 17.96875 56 27.875 56 \nQ 33.9375 56 38.25 53.625 \nQ 42.578125 51.265625 45.40625 46.390625 \nz\nM 14.796875 27.296875 \nQ 14.796875 17.390625 18.875 11.75 \nQ 22.953125 6.109375 30.078125 6.109375 \nQ 37.203125 6.109375 41.296875 11.75 \nQ 45.40625 17.390625 45.40625 27.296875 \nQ 45.40625 37.203125 41.296875 42.84375 \nQ 37.203125 48.484375 30.078125 48.484375 \nQ 22.953125 48.484375 18.875 42.84375 \nQ 14.796875 37.203125 14.796875 27.296875 \nz\n\" id=\"DejaVuSans-100\"/>\n      <path d=\"M 44.28125 53.078125 \nL 44.28125 44.578125 \nQ 40.484375 46.53125 36.375 47.5 \nQ 32.28125 48.484375 27.875 48.484375 \nQ 21.1875 48.484375 17.84375 46.4375 \nQ 14.5 44.390625 14.5 40.28125 \nQ 14.5 37.15625 16.890625 35.375 \nQ 19.28125 33.59375 26.515625 31.984375 \nL 29.59375 31.296875 \nQ 39.15625 29.25 43.1875 25.515625 \nQ 47.21875 21.78125 47.21875 15.09375 \nQ 47.21875 7.46875 41.1875 3.015625 \nQ 35.15625 -1.421875 24.609375 -1.421875 \nQ 20.21875 -1.421875 15.453125 -0.5625 \nQ 10.6875 0.296875 5.421875 2 \nL 5.421875 11.28125 \nQ 10.40625 8.6875 15.234375 7.390625 \nQ 20.0625 6.109375 24.8125 6.109375 \nQ 31.15625 6.109375 34.5625 8.28125 \nQ 37.984375 10.453125 37.984375 14.40625 \nQ 37.984375 18.0625 35.515625 20.015625 \nQ 33.0625 21.96875 24.703125 23.78125 \nL 21.578125 24.515625 \nQ 13.234375 26.265625 9.515625 29.90625 \nQ 5.8125 33.546875 5.8125 39.890625 \nQ 5.8125 47.609375 11.28125 51.796875 \nQ 16.75 56 26.8125 56 \nQ 31.78125 56 36.171875 55.265625 \nQ 40.578125 54.546875 44.28125 53.078125 \nz\n\" id=\"DejaVuSans-115\"/>\n      <path d=\"M 64.40625 67.28125 \nL 64.40625 56.890625 \nQ 59.421875 61.53125 53.78125 63.8125 \nQ 48.140625 66.109375 41.796875 66.109375 \nQ 29.296875 66.109375 22.65625 58.46875 \nQ 16.015625 50.828125 16.015625 36.375 \nQ 16.015625 21.96875 22.65625 14.328125 \nQ 29.296875 6.6875 41.796875 6.6875 \nQ 48.140625 6.6875 53.78125 8.984375 \nQ 59.421875 11.28125 64.40625 15.921875 \nL 64.40625 5.609375 \nQ 59.234375 2.09375 53.4375 0.328125 \nQ 47.65625 -1.421875 41.21875 -1.421875 \nQ 24.65625 -1.421875 15.125 8.703125 \nQ 5.609375 18.84375 5.609375 36.375 \nQ 5.609375 53.953125 15.125 64.078125 \nQ 24.65625 74.21875 41.21875 74.21875 \nQ 47.75 74.21875 53.53125 72.484375 \nQ 59.328125 70.75 64.40625 67.28125 \nz\n\" id=\"DejaVuSans-67\"/>\n      <path d=\"M 9.421875 75.984375 \nL 18.40625 75.984375 \nL 18.40625 0 \nL 9.421875 0 \nz\n\" id=\"DejaVuSans-108\"/>\n      <path d=\"M 37.109375 75.984375 \nL 37.109375 68.5 \nL 28.515625 68.5 \nQ 23.6875 68.5 21.796875 66.546875 \nQ 19.921875 64.59375 19.921875 59.515625 \nL 19.921875 54.6875 \nL 34.71875 54.6875 \nL 34.71875 47.703125 \nL 19.921875 47.703125 \nL 19.921875 0 \nL 10.890625 0 \nL 10.890625 47.703125 \nL 2.296875 47.703125 \nL 2.296875 54.6875 \nL 10.890625 54.6875 \nL 10.890625 58.5 \nQ 10.890625 67.625 15.140625 71.796875 \nQ 19.390625 75.984375 28.609375 75.984375 \nz\n\" id=\"DejaVuSans-102\"/>\n      <path d=\"M 53.515625 70.515625 \nL 53.515625 60.890625 \nQ 47.90625 63.578125 42.921875 64.890625 \nQ 37.9375 66.21875 33.296875 66.21875 \nQ 25.25 66.21875 20.875 63.09375 \nQ 16.5 59.96875 16.5 54.203125 \nQ 16.5 49.359375 19.40625 46.890625 \nQ 22.3125 44.4375 30.421875 42.921875 \nL 36.375 41.703125 \nQ 47.40625 39.59375 52.65625 34.296875 \nQ 57.90625 29 57.90625 20.125 \nQ 57.90625 9.515625 50.796875 4.046875 \nQ 43.703125 -1.421875 29.984375 -1.421875 \nQ 24.8125 -1.421875 18.96875 -0.25 \nQ 13.140625 0.921875 6.890625 3.21875 \nL 6.890625 13.375 \nQ 12.890625 10.015625 18.65625 8.296875 \nQ 24.421875 6.59375 29.984375 6.59375 \nQ 38.421875 6.59375 43.015625 9.90625 \nQ 47.609375 13.234375 47.609375 19.390625 \nQ 47.609375 24.75 44.3125 27.78125 \nQ 41.015625 30.8125 33.5 32.328125 \nL 27.484375 33.5 \nQ 16.453125 35.6875 11.515625 40.375 \nQ 6.59375 45.0625 6.59375 53.421875 \nQ 6.59375 63.09375 13.40625 68.65625 \nQ 20.21875 74.21875 32.171875 74.21875 \nQ 37.3125 74.21875 42.625 73.28125 \nQ 47.953125 72.359375 53.515625 70.515625 \nz\n\" id=\"DejaVuSans-83\"/>\n      <path d=\"M 45.40625 27.984375 \nQ 45.40625 37.75 41.375 43.109375 \nQ 37.359375 48.484375 30.078125 48.484375 \nQ 22.859375 48.484375 18.828125 43.109375 \nQ 14.796875 37.75 14.796875 27.984375 \nQ 14.796875 18.265625 18.828125 12.890625 \nQ 22.859375 7.515625 30.078125 7.515625 \nQ 37.359375 7.515625 41.375 12.890625 \nQ 45.40625 18.265625 45.40625 27.984375 \nz\nM 54.390625 6.78125 \nQ 54.390625 -7.171875 48.1875 -13.984375 \nQ 42 -20.796875 29.203125 -20.796875 \nQ 24.46875 -20.796875 20.265625 -20.09375 \nQ 16.0625 -19.390625 12.109375 -17.921875 \nL 12.109375 -9.1875 \nQ 16.0625 -11.328125 19.921875 -12.34375 \nQ 23.78125 -13.375 27.78125 -13.375 \nQ 36.625 -13.375 41.015625 -8.765625 \nQ 45.40625 -4.15625 45.40625 5.171875 \nL 45.40625 9.625 \nQ 42.625 4.78125 38.28125 2.390625 \nQ 33.9375 0 27.875 0 \nQ 17.828125 0 11.671875 7.65625 \nQ 5.515625 15.328125 5.515625 27.984375 \nQ 5.515625 40.671875 11.671875 48.328125 \nQ 17.828125 56 27.875 56 \nQ 33.9375 56 38.28125 53.609375 \nQ 42.625 51.21875 45.40625 46.390625 \nL 45.40625 54.6875 \nL 54.390625 54.6875 \nz\n\" id=\"DejaVuSans-103\"/>\n     </defs>\n     <use xlink:href=\"#DejaVuSans-70\"/>\n     <use x=\"52.019531\" xlink:href=\"#DejaVuSans-101\"/>\n     <use x=\"113.542969\" xlink:href=\"#DejaVuSans-97\"/>\n     <use x=\"174.822266\" xlink:href=\"#DejaVuSans-116\"/>\n     <use x=\"214.03125\" xlink:href=\"#DejaVuSans-117\"/>\n     <use x=\"277.410156\" xlink:href=\"#DejaVuSans-114\"/>\n     <use x=\"316.273438\" xlink:href=\"#DejaVuSans-101\"/>\n     <use x=\"377.796875\" xlink:href=\"#DejaVuSans-32\"/>\n     <use x=\"409.583984\" xlink:href=\"#DejaVuSans-73\"/>\n     <use x=\"439.076172\" xlink:href=\"#DejaVuSans-109\"/>\n     <use x=\"536.488281\" xlink:href=\"#DejaVuSans-112\"/>\n     <use x=\"599.964844\" xlink:href=\"#DejaVuSans-111\"/>\n     <use x=\"661.146484\" xlink:href=\"#DejaVuSans-114\"/>\n     <use x=\"702.259766\" xlink:href=\"#DejaVuSans-116\"/>\n     <use x=\"741.46875\" xlink:href=\"#DejaVuSans-97\"/>\n     <use x=\"802.748047\" xlink:href=\"#DejaVuSans-110\"/>\n     <use x=\"866.126953\" xlink:href=\"#DejaVuSans-99\"/>\n     <use x=\"921.107422\" xlink:href=\"#DejaVuSans-101\"/>\n     <use x=\"982.630859\" xlink:href=\"#DejaVuSans-32\"/>\n     <use x=\"1014.417969\" xlink:href=\"#DejaVuSans-105\"/>\n     <use x=\"1042.201172\" xlink:href=\"#DejaVuSans-110\"/>\n     <use x=\"1105.580078\" xlink:href=\"#DejaVuSans-32\"/>\n     <use x=\"1137.367188\" xlink:href=\"#DejaVuSans-82\"/>\n     <use x=\"1204.599609\" xlink:href=\"#DejaVuSans-97\"/>\n     <use x=\"1265.878906\" xlink:href=\"#DejaVuSans-110\"/>\n     <use x=\"1329.257812\" xlink:href=\"#DejaVuSans-100\"/>\n     <use x=\"1392.734375\" xlink:href=\"#DejaVuSans-111\"/>\n     <use x=\"1453.916016\" xlink:href=\"#DejaVuSans-109\"/>\n     <use x=\"1551.328125\" xlink:href=\"#DejaVuSans-32\"/>\n     <use x=\"1583.115234\" xlink:href=\"#DejaVuSans-70\"/>\n     <use x=\"1637.009766\" xlink:href=\"#DejaVuSans-111\"/>\n     <use x=\"1698.191406\" xlink:href=\"#DejaVuSans-114\"/>\n     <use x=\"1737.054688\" xlink:href=\"#DejaVuSans-101\"/>\n     <use x=\"1798.578125\" xlink:href=\"#DejaVuSans-115\"/>\n     <use x=\"1850.677734\" xlink:href=\"#DejaVuSans-116\"/>\n     <use x=\"1889.886719\" xlink:href=\"#DejaVuSans-32\"/>\n     <use x=\"1921.673828\" xlink:href=\"#DejaVuSans-67\"/>\n     <use x=\"1991.498047\" xlink:href=\"#DejaVuSans-108\"/>\n     <use x=\"2019.28125\" xlink:href=\"#DejaVuSans-97\"/>\n     <use x=\"2080.560547\" xlink:href=\"#DejaVuSans-115\"/>\n     <use x=\"2132.660156\" xlink:href=\"#DejaVuSans-115\"/>\n     <use x=\"2184.759766\" xlink:href=\"#DejaVuSans-105\"/>\n     <use x=\"2212.542969\" xlink:href=\"#DejaVuSans-102\"/>\n     <use x=\"2247.748047\" xlink:href=\"#DejaVuSans-105\"/>\n     <use x=\"2275.53125\" xlink:href=\"#DejaVuSans-99\"/>\n     <use x=\"2330.511719\" xlink:href=\"#DejaVuSans-97\"/>\n     <use x=\"2391.791016\" xlink:href=\"#DejaVuSans-116\"/>\n     <use x=\"2431\" xlink:href=\"#DejaVuSans-105\"/>\n     <use x=\"2458.783203\" xlink:href=\"#DejaVuSans-111\"/>\n     <use x=\"2519.964844\" xlink:href=\"#DejaVuSans-110\"/>\n     <use x=\"2583.34375\" xlink:href=\"#DejaVuSans-32\"/>\n     <use x=\"2615.130859\" xlink:href=\"#DejaVuSans-102\"/>\n     <use x=\"2650.335938\" xlink:href=\"#DejaVuSans-111\"/>\n     <use x=\"2711.517578\" xlink:href=\"#DejaVuSans-114\"/>\n     <use x=\"2752.630859\" xlink:href=\"#DejaVuSans-32\"/>\n     <use x=\"2784.417969\" xlink:href=\"#DejaVuSans-83\"/>\n     <use x=\"2847.894531\" xlink:href=\"#DejaVuSans-101\"/>\n     <use x=\"2909.417969\" xlink:href=\"#DejaVuSans-108\"/>\n     <use x=\"2937.201172\" xlink:href=\"#DejaVuSans-108\"/>\n     <use x=\"2964.984375\" xlink:href=\"#DejaVuSans-32\"/>\n     <use x=\"2996.771484\" xlink:href=\"#DejaVuSans-83\"/>\n     <use x=\"3060.248047\" xlink:href=\"#DejaVuSans-105\"/>\n     <use x=\"3088.03125\" xlink:href=\"#DejaVuSans-103\"/>\n     <use x=\"3151.507812\" xlink:href=\"#DejaVuSans-110\"/>\n     <use x=\"3214.886719\" xlink:href=\"#DejaVuSans-97\"/>\n     <use x=\"3276.166016\" xlink:href=\"#DejaVuSans-108\"/>\n    </g>\n   </g>\n  </g>\n </g>\n <defs>\n  <clipPath id=\"p3bbb441a1b\">\n   <rect height=\"271.8\" width=\"1674\" x=\"36.465625\" y=\"22.318125\"/>\n  </clipPath>\n </defs>\n</svg>\n",
      "image/png": "[encoded data removed]"
     },
     "metadata": {
      "needs_background": "light"
     }
    },
    {
     "output_type": "stream",
     "name": "stdout",
     "text": [
      "CPU times: user 1.01 s, sys: 23.2 ms, total: 1.04 s\nWall time: 1.03 s\n"
     ]
    }
   ],
   "source": [
    "%%time\n",
    "# random forest for feature importance on a classification problem\n",
    "from sklearn.ensemble import RandomForestClassifier\n",
    "# define the model\n",
    "model = RandomForestClassifier()\n",
    "# fit the model\n",
    "model.fit(features_train.drop(['Date','Symbol','Buy','Sell','TRACKER'],axis=1), features_train.Sell)\n",
    "# get importance\n",
    "importance = model.feature_importances_\n",
    "# summarize feature importance\n",
    "for i,v in enumerate(importance):\n",
    "\tprint('Feature: %0d, Score: %.5f' % (i,v))\n",
    "# plot feature importance\n",
    "pyplot.figure(figsize=(30,5))\n",
    "pyplot.title('Feature Importance in Random Forest Classification for Sell Signal')\n",
    "pyplot.bar([x for x in range(len(importance))], importance)\n",
    "pyplot.show()"
   ]
  },
  {
   "cell_type": "code",
   "execution_count": 400,
   "metadata": {},
   "outputs": [
    {
     "output_type": "stream",
     "name": "stdout",
     "text": [
      "[12:38:51] WARNING: /Users/travis/build/dmlc/xgboost/src/learner.cc:1061: Starting in XGBoost 1.3.0, the default evaluation metric used with the objective 'binary:logistic' was changed from 'error' to 'logloss'. Explicitly set eval_metric if you'd like to restore the old behavior.\n",
      "Feature: 0, Score: 0.00937\n",
      "Feature: 1, Score: 0.01185\n",
      "Feature: 2, Score: 0.01394\n",
      "Feature: 3, Score: 0.01177\n",
      "Feature: 4, Score: 0.00826\n",
      "Feature: 5, Score: 0.00000\n",
      "Feature: 6, Score: 0.00947\n",
      "Feature: 7, Score: 0.01254\n",
      "Feature: 8, Score: 0.00994\n",
      "Feature: 9, Score: 0.01155\n",
      "Feature: 10, Score: 0.01364\n",
      "Feature: 11, Score: 0.01142\n",
      "Feature: 12, Score: 0.00000\n",
      "Feature: 13, Score: 0.00884\n",
      "Feature: 14, Score: 0.01055\n",
      "Feature: 15, Score: 0.01139\n",
      "Feature: 16, Score: 0.01123\n",
      "Feature: 17, Score: 0.01305\n",
      "Feature: 18, Score: 0.01228\n",
      "Feature: 19, Score: 0.01321\n",
      "Feature: 20, Score: 0.02867\n",
      "Feature: 21, Score: 0.00000\n",
      "Feature: 22, Score: 0.00000\n",
      "Feature: 23, Score: 0.00000\n",
      "Feature: 24, Score: 0.00000\n",
      "Feature: 25, Score: 0.00911\n",
      "Feature: 26, Score: 0.01316\n",
      "Feature: 27, Score: 0.01089\n",
      "Feature: 28, Score: 0.00978\n",
      "Feature: 29, Score: 0.01102\n",
      "Feature: 30, Score: 0.01147\n",
      "Feature: 31, Score: 0.01007\n",
      "Feature: 32, Score: 0.01264\n",
      "Feature: 33, Score: 0.01159\n",
      "Feature: 34, Score: 0.01178\n",
      "Feature: 35, Score: 0.01238\n",
      "Feature: 36, Score: 0.01181\n",
      "Feature: 37, Score: 0.01118\n",
      "Feature: 38, Score: 0.00551\n",
      "Feature: 39, Score: 0.00000\n",
      "Feature: 40, Score: 0.01007\n",
      "Feature: 41, Score: 0.01272\n",
      "Feature: 42, Score: 0.59184\n"
     ]
    },
    {
     "output_type": "display_data",
     "data": {
      "text/plain": "<Figure size 2160x360 with 1 Axes>",
      "image/svg+xml": "<?xml version=\"1.0\" encoding=\"utf-8\" standalone=\"no\"?>\n<!DOCTYPE svg PUBLIC \"-//W3C//DTD SVG 1.1//EN\"\n  \"http://www.w3.org/Graphics/SVG/1.1/DTD/svg11.dtd\">\n<!-- Created with matplotlib (https://matplotlib.org/) -->\n<svg height=\"317.99625pt\" version=\"1.1\" viewBox=\"0 0 1711.303125 317.99625\" width=\"1711.303125pt\" xmlns=\"http://www.w3.org/2000/svg\" xmlns:xlink=\"http://www.w3.org/1999/xlink\">\n <metadata>\n  <rdf:RDF xmlns:cc=\"http://creativecommons.org/ns#\" xmlns:dc=\"http://purl.org/dc/elements/1.1/\" xmlns:rdf=\"http://www.w3.org/1999/02/22-rdf-syntax-ns#\">\n   <cc:Work>\n    <dc:type rdf:resource=\"http://purl.org/dc/dcmitype/StillImage\"/>\n    <dc:date>2021-01-26T12:38:52.447584</dc:date>\n    <dc:format>image/svg+xml</dc:format>\n    <dc:creator>\n     <cc:Agent>\n      <dc:title>Matplotlib v3.3.3, https://matplotlib.org/</dc:title>\n     </cc:Agent>\n    </dc:creator>\n   </cc:Work>\n  </rdf:RDF>\n </metadata>\n <defs>\n  <style type=\"text/css\">*{stroke-linecap:butt;stroke-linejoin:round;}</style>\n </defs>\n <g id=\"figure_1\">\n  <g id=\"patch_1\">\n   <path d=\"M 0 317.99625 \nL 1711.303125 317.99625 \nL 1711.303125 0 \nL 0 0 \nz\n\" style=\"fill:none;\"/>\n  </g>\n  <g id=\"axes_1\">\n   <g id=\"patch_2\">\n    <path d=\"M 30.103125 294.118125 \nL 1704.103125 294.118125 \nL 1704.103125 22.318125 \nL 30.103125 22.318125 \nz\n\" style=\"fill:#ffffff;\"/>\n   </g>\n   <g id=\"patch_3\">\n    <path clip-path=\"url(#p66c5fa1be8)\" d=\"M 106.194034 294.118125 \nL 134.639234 294.118125 \nL 134.639234 290.02141 \nL 106.194034 290.02141 \nz\n\" style=\"fill:#1f77b4;\"/>\n   </g>\n   <g id=\"patch_4\">\n    <path clip-path=\"url(#p66c5fa1be8)\" d=\"M 141.750534 294.118125 \nL 170.195733 294.118125 \nL 170.195733 288.935774 \nL 141.750534 288.935774 \nz\n\" style=\"fill:#1f77b4;\"/>\n   </g>\n   <g id=\"patch_5\">\n    <path clip-path=\"url(#p66c5fa1be8)\" d=\"M 177.307033 294.118125 \nL 205.752233 294.118125 \nL 205.752233 288.022805 \nL 177.307033 288.022805 \nz\n\" style=\"fill:#1f77b4;\"/>\n   </g>\n   <g id=\"patch_6\">\n    <path clip-path=\"url(#p66c5fa1be8)\" d=\"M 212.863533 294.118125 \nL 241.308732 294.118125 \nL 241.308732 288.969938 \nL 212.863533 288.969938 \nz\n\" style=\"fill:#1f77b4;\"/>\n   </g>\n   <g id=\"patch_7\">\n    <path clip-path=\"url(#p66c5fa1be8)\" d=\"M 248.420032 294.118125 \nL 276.865232 294.118125 \nL 276.865232 290.507386 \nL 248.420032 290.507386 \nz\n\" style=\"fill:#1f77b4;\"/>\n   </g>\n   <g id=\"patch_8\">\n    <path clip-path=\"url(#p66c5fa1be8)\" d=\"M 283.976532 294.118125 \nL 312.421732 294.118125 \nL 312.421732 294.118125 \nL 283.976532 294.118125 \nz\n\" style=\"fill:#1f77b4;\"/>\n   </g>\n   <g id=\"patch_9\">\n    <path clip-path=\"url(#p66c5fa1be8)\" d=\"M 319.533032 294.118125 \nL 347.978231 294.118125 \nL 347.978231 289.975472 \nL 319.533032 289.975472 \nz\n\" style=\"fill:#1f77b4;\"/>\n   </g>\n   <g id=\"patch_10\">\n    <path clip-path=\"url(#p66c5fa1be8)\" d=\"M 355.089531 294.118125 \nL 383.534731 294.118125 \nL 383.534731 288.634463 \nL 355.089531 288.634463 \nz\n\" style=\"fill:#1f77b4;\"/>\n   </g>\n   <g id=\"patch_11\">\n    <path clip-path=\"url(#p66c5fa1be8)\" d=\"M 390.646031 294.118125 \nL 419.09123 294.118125 \nL 419.09123 289.772098 \nL 390.646031 289.772098 \nz\n\" style=\"fill:#1f77b4;\"/>\n   </g>\n   <g id=\"patch_12\">\n    <path clip-path=\"url(#p66c5fa1be8)\" d=\"M 426.20253 294.118125 \nL 454.64773 294.118125 \nL 454.64773 289.06527 \nL 426.20253 289.06527 \nz\n\" style=\"fill:#1f77b4;\"/>\n   </g>\n   <g id=\"patch_13\">\n    <path clip-path=\"url(#p66c5fa1be8)\" d=\"M 461.75903 294.118125 \nL 490.20423 294.118125 \nL 490.20423 288.153989 \nL 461.75903 288.153989 \nz\n\" style=\"fill:#1f77b4;\"/>\n   </g>\n   <g id=\"patch_14\">\n    <path clip-path=\"url(#p66c5fa1be8)\" d=\"M 497.315529 294.118125 \nL 525.760729 294.118125 \nL 525.760729 289.121326 \nL 497.315529 289.121326 \nz\n\" style=\"fill:#1f77b4;\"/>\n   </g>\n   <g id=\"patch_15\">\n    <path clip-path=\"url(#p66c5fa1be8)\" d=\"M 532.872029 294.118125 \nL 561.317229 294.118125 \nL 561.317229 294.118125 \nL 532.872029 294.118125 \nz\n\" style=\"fill:#1f77b4;\"/>\n   </g>\n   <g id=\"patch_16\">\n    <path clip-path=\"url(#p66c5fa1be8)\" d=\"M 568.428529 294.118125 \nL 596.873728 294.118125 \nL 596.873728 290.251674 \nL 568.428529 290.251674 \nz\n\" style=\"fill:#1f77b4;\"/>\n   </g>\n   <g id=\"patch_17\">\n    <path clip-path=\"url(#p66c5fa1be8)\" d=\"M 603.985028 294.118125 \nL 632.430228 294.118125 \nL 632.430228 289.502305 \nL 603.985028 289.502305 \nz\n\" style=\"fill:#1f77b4;\"/>\n   </g>\n   <g id=\"patch_18\">\n    <path clip-path=\"url(#p66c5fa1be8)\" d=\"M 639.541528 294.118125 \nL 667.986727 294.118125 \nL 667.986727 289.136572 \nL 639.541528 289.136572 \nz\n\" style=\"fill:#1f77b4;\"/>\n   </g>\n   <g id=\"patch_19\">\n    <path clip-path=\"url(#p66c5fa1be8)\" d=\"M 675.098027 294.118125 \nL 703.543227 294.118125 \nL 703.543227 289.206309 \nL 675.098027 289.206309 \nz\n\" style=\"fill:#1f77b4;\"/>\n   </g>\n   <g id=\"patch_20\">\n    <path clip-path=\"url(#p66c5fa1be8)\" d=\"M 710.654527 294.118125 \nL 739.099727 294.118125 \nL 739.099727 288.412209 \nL 710.654527 288.412209 \nz\n\" style=\"fill:#1f77b4;\"/>\n   </g>\n   <g id=\"patch_21\">\n    <path clip-path=\"url(#p66c5fa1be8)\" d=\"M 746.211026 294.118125 \nL 774.656226 294.118125 \nL 774.656226 288.745582 \nL 746.211026 288.745582 \nz\n\" style=\"fill:#1f77b4;\"/>\n   </g>\n   <g id=\"patch_22\">\n    <path clip-path=\"url(#p66c5fa1be8)\" d=\"M 781.767526 294.118125 \nL 810.212726 294.118125 \nL 810.212726 288.338866 \nL 781.767526 288.338866 \nz\n\" style=\"fill:#1f77b4;\"/>\n   </g>\n   <g id=\"patch_23\">\n    <path clip-path=\"url(#p66c5fa1be8)\" d=\"M 817.324026 294.118125 \nL 845.769225 294.118125 \nL 845.769225 281.576644 \nL 817.324026 281.576644 \nz\n\" style=\"fill:#1f77b4;\"/>\n   </g>\n   <g id=\"patch_24\">\n    <path clip-path=\"url(#p66c5fa1be8)\" d=\"M 852.880525 294.118125 \nL 881.325725 294.118125 \nL 881.325725 294.118125 \nL 852.880525 294.118125 \nz\n\" style=\"fill:#1f77b4;\"/>\n   </g>\n   <g id=\"patch_25\">\n    <path clip-path=\"url(#p66c5fa1be8)\" d=\"M 888.437025 294.118125 \nL 916.882224 294.118125 \nL 916.882224 294.118125 \nL 888.437025 294.118125 \nz\n\" style=\"fill:#1f77b4;\"/>\n   </g>\n   <g id=\"patch_26\">\n    <path clip-path=\"url(#p66c5fa1be8)\" d=\"M 923.993524 294.118125 \nL 952.438724 294.118125 \nL 952.438724 294.118125 \nL 923.993524 294.118125 \nz\n\" style=\"fill:#1f77b4;\"/>\n   </g>\n   <g id=\"patch_27\">\n    <path clip-path=\"url(#p66c5fa1be8)\" d=\"M 959.550024 294.118125 \nL 987.995224 294.118125 \nL 987.995224 294.118125 \nL 959.550024 294.118125 \nz\n\" style=\"fill:#1f77b4;\"/>\n   </g>\n   <g id=\"patch_28\">\n    <path clip-path=\"url(#p66c5fa1be8)\" d=\"M 995.106523 294.118125 \nL 1023.551723 294.118125 \nL 1023.551723 290.133166 \nL 995.106523 290.133166 \nz\n\" style=\"fill:#1f77b4;\"/>\n   </g>\n   <g id=\"patch_29\">\n    <path clip-path=\"url(#p66c5fa1be8)\" d=\"M 1030.663023 294.118125 \nL 1059.108223 294.118125 \nL 1059.108223 288.363152 \nL 1030.663023 288.363152 \nz\n\" style=\"fill:#1f77b4;\"/>\n   </g>\n   <g id=\"patch_30\">\n    <path clip-path=\"url(#p66c5fa1be8)\" d=\"M 1066.219523 294.118125 \nL 1094.664722 294.118125 \nL 1094.664722 289.357238 \nL 1066.219523 289.357238 \nz\n\" style=\"fill:#1f77b4;\"/>\n   </g>\n   <g id=\"patch_31\">\n    <path clip-path=\"url(#p66c5fa1be8)\" d=\"M 1101.776022 294.118125 \nL 1130.221222 294.118125 \nL 1130.221222 289.839636 \nL 1101.776022 289.839636 \nz\n\" style=\"fill:#1f77b4;\"/>\n   </g>\n   <g id=\"patch_32\">\n    <path clip-path=\"url(#p66c5fa1be8)\" d=\"M 1137.332522 294.118125 \nL 1165.777721 294.118125 \nL 1165.777721 289.29819 \nL 1137.332522 289.29819 \nz\n\" style=\"fill:#1f77b4;\"/>\n   </g>\n   <g id=\"patch_33\">\n    <path clip-path=\"url(#p66c5fa1be8)\" d=\"M 1172.889021 294.118125 \nL 1201.334221 294.118125 \nL 1201.334221 289.100574 \nL 1172.889021 289.100574 \nz\n\" style=\"fill:#1f77b4;\"/>\n   </g>\n   <g id=\"patch_34\">\n    <path clip-path=\"url(#p66c5fa1be8)\" d=\"M 1208.445521 294.118125 \nL 1236.890721 294.118125 \nL 1236.890721 289.71395 \nL 1208.445521 289.71395 \nz\n\" style=\"fill:#1f77b4;\"/>\n   </g>\n   <g id=\"patch_35\">\n    <path clip-path=\"url(#p66c5fa1be8)\" d=\"M 1244.00202 294.118125 \nL 1272.44722 294.118125 \nL 1272.44722 288.587793 \nL 1244.00202 288.587793 \nz\n\" style=\"fill:#1f77b4;\"/>\n   </g>\n   <g id=\"patch_36\">\n    <path clip-path=\"url(#p66c5fa1be8)\" d=\"M 1279.55852 294.118125 \nL 1308.00372 294.118125 \nL 1308.00372 289.047145 \nL 1279.55852 289.047145 \nz\n\" style=\"fill:#1f77b4;\"/>\n   </g>\n   <g id=\"patch_37\">\n    <path clip-path=\"url(#p66c5fa1be8)\" d=\"M 1315.11502 294.118125 \nL 1343.560219 294.118125 \nL 1343.560219 288.966515 \nL 1315.11502 288.966515 \nz\n\" style=\"fill:#1f77b4;\"/>\n   </g>\n   <g id=\"patch_38\">\n    <path clip-path=\"url(#p66c5fa1be8)\" d=\"M 1350.671519 294.118125 \nL 1379.116719 294.118125 \nL 1379.116719 288.703418 \nL 1350.671519 288.703418 \nz\n\" style=\"fill:#1f77b4;\"/>\n   </g>\n   <g id=\"patch_39\">\n    <path clip-path=\"url(#p66c5fa1be8)\" d=\"M 1386.228019 294.118125 \nL 1414.673218 294.118125 \nL 1414.673218 288.950932 \nL 1386.228019 288.950932 \nz\n\" style=\"fill:#1f77b4;\"/>\n   </g>\n   <g id=\"patch_40\">\n    <path clip-path=\"url(#p66c5fa1be8)\" d=\"M 1421.784518 294.118125 \nL 1450.229718 294.118125 \nL 1450.229718 289.227979 \nL 1421.784518 289.227979 \nz\n\" style=\"fill:#1f77b4;\"/>\n   </g>\n   <g id=\"patch_41\">\n    <path clip-path=\"url(#p66c5fa1be8)\" d=\"M 1457.341018 294.118125 \nL 1485.786218 294.118125 \nL 1485.786218 291.706208 \nL 1457.341018 291.706208 \nz\n\" style=\"fill:#1f77b4;\"/>\n   </g>\n   <g id=\"patch_42\">\n    <path clip-path=\"url(#p66c5fa1be8)\" d=\"M 1492.897518 294.118125 \nL 1521.342717 294.118125 \nL 1521.342717 294.118125 \nL 1492.897518 294.118125 \nz\n\" style=\"fill:#1f77b4;\"/>\n   </g>\n   <g id=\"patch_43\">\n    <path clip-path=\"url(#p66c5fa1be8)\" d=\"M 1528.454017 294.118125 \nL 1556.899217 294.118125 \nL 1556.899217 289.715806 \nL 1528.454017 289.715806 \nz\n\" style=\"fill:#1f77b4;\"/>\n   </g>\n   <g id=\"patch_44\">\n    <path clip-path=\"url(#p66c5fa1be8)\" d=\"M 1564.010517 294.118125 \nL 1592.455716 294.118125 \nL 1592.455716 288.553508 \nL 1564.010517 288.553508 \nz\n\" style=\"fill:#1f77b4;\"/>\n   </g>\n   <g id=\"patch_45\">\n    <path clip-path=\"url(#p66c5fa1be8)\" d=\"M 1599.567016 294.118125 \nL 1628.012216 294.118125 \nL 1628.012216 35.260982 \nL 1599.567016 35.260982 \nz\n\" style=\"fill:#1f77b4;\"/>\n   </g>\n   <g id=\"matplotlib.axis_1\">\n    <g id=\"xtick_1\">\n     <g id=\"line2d_1\">\n      <defs>\n       <path d=\"M 0 0 \nL 0 3.5 \n\" id=\"m760ddd2945\" style=\"stroke:#000000;stroke-width:0.8;\"/>\n      </defs>\n      <g>\n       <use style=\"stroke:#000000;stroke-width:0.8;\" x=\"120.416634\" xlink:href=\"#m760ddd2945\" y=\"294.118125\"/>\n      </g>\n     </g>\n     <g id=\"text_1\">\n      <!-- 0 -->\n      <g transform=\"translate(117.235384 308.716563)scale(0.1 -0.1)\">\n       <defs>\n        <path d=\"M 31.78125 66.40625 \nQ 24.171875 66.40625 20.328125 58.90625 \nQ 16.5 51.421875 16.5 36.375 \nQ 16.5 21.390625 20.328125 13.890625 \nQ 24.171875 6.390625 31.78125 6.390625 \nQ 39.453125 6.390625 43.28125 13.890625 \nQ 47.125 21.390625 47.125 36.375 \nQ 47.125 51.421875 43.28125 58.90625 \nQ 39.453125 66.40625 31.78125 66.40625 \nz\nM 31.78125 74.21875 \nQ 44.046875 74.21875 50.515625 64.515625 \nQ 56.984375 54.828125 56.984375 36.375 \nQ 56.984375 17.96875 50.515625 8.265625 \nQ 44.046875 -1.421875 31.78125 -1.421875 \nQ 19.53125 -1.421875 13.0625 8.265625 \nQ 6.59375 17.96875 6.59375 36.375 \nQ 6.59375 54.828125 13.0625 64.515625 \nQ 19.53125 74.21875 31.78125 74.21875 \nz\n\" id=\"DejaVuSans-48\"/>\n       </defs>\n       <use xlink:href=\"#DejaVuSans-48\"/>\n      </g>\n     </g>\n    </g>\n    <g id=\"xtick_2\">\n     <g id=\"line2d_2\">\n      <g>\n       <use style=\"stroke:#000000;stroke-width:0.8;\" x=\"475.98163\" xlink:href=\"#m760ddd2945\" y=\"294.118125\"/>\n      </g>\n     </g>\n     <g id=\"text_2\">\n      <!-- 10 -->\n      <g transform=\"translate(469.61913 308.716563)scale(0.1 -0.1)\">\n       <defs>\n        <path d=\"M 12.40625 8.296875 \nL 28.515625 8.296875 \nL 28.515625 63.921875 \nL 10.984375 60.40625 \nL 10.984375 69.390625 \nL 28.421875 72.90625 \nL 38.28125 72.90625 \nL 38.28125 8.296875 \nL 54.390625 8.296875 \nL 54.390625 0 \nL 12.40625 0 \nz\n\" id=\"DejaVuSans-49\"/>\n       </defs>\n       <use xlink:href=\"#DejaVuSans-49\"/>\n       <use x=\"63.623047\" xlink:href=\"#DejaVuSans-48\"/>\n      </g>\n     </g>\n    </g>\n    <g id=\"xtick_3\">\n     <g id=\"line2d_3\">\n      <g>\n       <use style=\"stroke:#000000;stroke-width:0.8;\" x=\"831.546625\" xlink:href=\"#m760ddd2945\" y=\"294.118125\"/>\n      </g>\n     </g>\n     <g id=\"text_3\">\n      <!-- 20 -->\n      <g transform=\"translate(825.184125 308.716563)scale(0.1 -0.1)\">\n       <defs>\n        <path d=\"M 19.1875 8.296875 \nL 53.609375 8.296875 \nL 53.609375 0 \nL 7.328125 0 \nL 7.328125 8.296875 \nQ 12.9375 14.109375 22.625 23.890625 \nQ 32.328125 33.6875 34.8125 36.53125 \nQ 39.546875 41.84375 41.421875 45.53125 \nQ 43.3125 49.21875 43.3125 52.78125 \nQ 43.3125 58.59375 39.234375 62.25 \nQ 35.15625 65.921875 28.609375 65.921875 \nQ 23.96875 65.921875 18.8125 64.3125 \nQ 13.671875 62.703125 7.8125 59.421875 \nL 7.8125 69.390625 \nQ 13.765625 71.78125 18.9375 73 \nQ 24.125 74.21875 28.421875 74.21875 \nQ 39.75 74.21875 46.484375 68.546875 \nQ 53.21875 62.890625 53.21875 53.421875 \nQ 53.21875 48.921875 51.53125 44.890625 \nQ 49.859375 40.875 45.40625 35.40625 \nQ 44.1875 33.984375 37.640625 27.21875 \nQ 31.109375 20.453125 19.1875 8.296875 \nz\n\" id=\"DejaVuSans-50\"/>\n       </defs>\n       <use xlink:href=\"#DejaVuSans-50\"/>\n       <use x=\"63.623047\" xlink:href=\"#DejaVuSans-48\"/>\n      </g>\n     </g>\n    </g>\n    <g id=\"xtick_4\">\n     <g id=\"line2d_4\">\n      <g>\n       <use style=\"stroke:#000000;stroke-width:0.8;\" x=\"1187.111621\" xlink:href=\"#m760ddd2945\" y=\"294.118125\"/>\n      </g>\n     </g>\n     <g id=\"text_4\">\n      <!-- 30 -->\n      <g transform=\"translate(1180.749121 308.716563)scale(0.1 -0.1)\">\n       <defs>\n        <path d=\"M 40.578125 39.3125 \nQ 47.65625 37.796875 51.625 33 \nQ 55.609375 28.21875 55.609375 21.1875 \nQ 55.609375 10.40625 48.1875 4.484375 \nQ 40.765625 -1.421875 27.09375 -1.421875 \nQ 22.515625 -1.421875 17.65625 -0.515625 \nQ 12.796875 0.390625 7.625 2.203125 \nL 7.625 11.71875 \nQ 11.71875 9.328125 16.59375 8.109375 \nQ 21.484375 6.890625 26.8125 6.890625 \nQ 36.078125 6.890625 40.9375 10.546875 \nQ 45.796875 14.203125 45.796875 21.1875 \nQ 45.796875 27.640625 41.28125 31.265625 \nQ 36.765625 34.90625 28.71875 34.90625 \nL 20.21875 34.90625 \nL 20.21875 43.015625 \nL 29.109375 43.015625 \nQ 36.375 43.015625 40.234375 45.921875 \nQ 44.09375 48.828125 44.09375 54.296875 \nQ 44.09375 59.90625 40.109375 62.90625 \nQ 36.140625 65.921875 28.71875 65.921875 \nQ 24.65625 65.921875 20.015625 65.03125 \nQ 15.375 64.15625 9.8125 62.3125 \nL 9.8125 71.09375 \nQ 15.4375 72.65625 20.34375 73.4375 \nQ 25.25 74.21875 29.59375 74.21875 \nQ 40.828125 74.21875 47.359375 69.109375 \nQ 53.90625 64.015625 53.90625 55.328125 \nQ 53.90625 49.265625 50.4375 45.09375 \nQ 46.96875 40.921875 40.578125 39.3125 \nz\n\" id=\"DejaVuSans-51\"/>\n       </defs>\n       <use xlink:href=\"#DejaVuSans-51\"/>\n       <use x=\"63.623047\" xlink:href=\"#DejaVuSans-48\"/>\n      </g>\n     </g>\n    </g>\n    <g id=\"xtick_5\">\n     <g id=\"line2d_5\">\n      <g>\n       <use style=\"stroke:#000000;stroke-width:0.8;\" x=\"1542.676617\" xlink:href=\"#m760ddd2945\" y=\"294.118125\"/>\n      </g>\n     </g>\n     <g id=\"text_5\">\n      <!-- 40 -->\n      <g transform=\"translate(1536.314117 308.716563)scale(0.1 -0.1)\">\n       <defs>\n        <path d=\"M 37.796875 64.3125 \nL 12.890625 25.390625 \nL 37.796875 25.390625 \nz\nM 35.203125 72.90625 \nL 47.609375 72.90625 \nL 47.609375 25.390625 \nL 58.015625 25.390625 \nL 58.015625 17.1875 \nL 47.609375 17.1875 \nL 47.609375 0 \nL 37.796875 0 \nL 37.796875 17.1875 \nL 4.890625 17.1875 \nL 4.890625 26.703125 \nz\n\" id=\"DejaVuSans-52\"/>\n       </defs>\n       <use xlink:href=\"#DejaVuSans-52\"/>\n       <use x=\"63.623047\" xlink:href=\"#DejaVuSans-48\"/>\n      </g>\n     </g>\n    </g>\n   </g>\n   <g id=\"matplotlib.axis_2\">\n    <g id=\"ytick_1\">\n     <g id=\"line2d_6\">\n      <defs>\n       <path d=\"M 0 0 \nL -3.5 0 \n\" id=\"mfac12fe07e\" style=\"stroke:#000000;stroke-width:0.8;\"/>\n      </defs>\n      <g>\n       <use style=\"stroke:#000000;stroke-width:0.8;\" x=\"30.103125\" xlink:href=\"#mfac12fe07e\" y=\"294.118125\"/>\n      </g>\n     </g>\n     <g id=\"text_6\">\n      <!-- 0.0 -->\n      <g transform=\"translate(7.2 297.917344)scale(0.1 -0.1)\">\n       <defs>\n        <path d=\"M 10.6875 12.40625 \nL 21 12.40625 \nL 21 0 \nL 10.6875 0 \nz\n\" id=\"DejaVuSans-46\"/>\n       </defs>\n       <use xlink:href=\"#DejaVuSans-48\"/>\n       <use x=\"63.623047\" xlink:href=\"#DejaVuSans-46\"/>\n       <use x=\"95.410156\" xlink:href=\"#DejaVuSans-48\"/>\n      </g>\n     </g>\n    </g>\n    <g id=\"ytick_2\">\n     <g id=\"line2d_7\">\n      <g>\n       <use style=\"stroke:#000000;stroke-width:0.8;\" x=\"30.103125\" xlink:href=\"#mfac12fe07e\" y=\"250.380503\"/>\n      </g>\n     </g>\n     <g id=\"text_7\">\n      <!-- 0.1 -->\n      <g transform=\"translate(7.2 254.179722)scale(0.1 -0.1)\">\n       <use xlink:href=\"#DejaVuSans-48\"/>\n       <use x=\"63.623047\" xlink:href=\"#DejaVuSans-46\"/>\n       <use x=\"95.410156\" xlink:href=\"#DejaVuSans-49\"/>\n      </g>\n     </g>\n    </g>\n    <g id=\"ytick_3\">\n     <g id=\"line2d_8\">\n      <g>\n       <use style=\"stroke:#000000;stroke-width:0.8;\" x=\"30.103125\" xlink:href=\"#mfac12fe07e\" y=\"206.642882\"/>\n      </g>\n     </g>\n     <g id=\"text_8\">\n      <!-- 0.2 -->\n      <g transform=\"translate(7.2 210.442101)scale(0.1 -0.1)\">\n       <use xlink:href=\"#DejaVuSans-48\"/>\n       <use x=\"63.623047\" xlink:href=\"#DejaVuSans-46\"/>\n       <use x=\"95.410156\" xlink:href=\"#DejaVuSans-50\"/>\n      </g>\n     </g>\n    </g>\n    <g id=\"ytick_4\">\n     <g id=\"line2d_9\">\n      <g>\n       <use style=\"stroke:#000000;stroke-width:0.8;\" x=\"30.103125\" xlink:href=\"#mfac12fe07e\" y=\"162.90526\"/>\n      </g>\n     </g>\n     <g id=\"text_9\">\n      <!-- 0.3 -->\n      <g transform=\"translate(7.2 166.704479)scale(0.1 -0.1)\">\n       <use xlink:href=\"#DejaVuSans-48\"/>\n       <use x=\"63.623047\" xlink:href=\"#DejaVuSans-46\"/>\n       <use x=\"95.410156\" xlink:href=\"#DejaVuSans-51\"/>\n      </g>\n     </g>\n    </g>\n    <g id=\"ytick_5\">\n     <g id=\"line2d_10\">\n      <g>\n       <use style=\"stroke:#000000;stroke-width:0.8;\" x=\"30.103125\" xlink:href=\"#mfac12fe07e\" y=\"119.167639\"/>\n      </g>\n     </g>\n     <g id=\"text_10\">\n      <!-- 0.4 -->\n      <g transform=\"translate(7.2 122.966858)scale(0.1 -0.1)\">\n       <use xlink:href=\"#DejaVuSans-48\"/>\n       <use x=\"63.623047\" xlink:href=\"#DejaVuSans-46\"/>\n       <use x=\"95.410156\" xlink:href=\"#DejaVuSans-52\"/>\n      </g>\n     </g>\n    </g>\n    <g id=\"ytick_6\">\n     <g id=\"line2d_11\">\n      <g>\n       <use style=\"stroke:#000000;stroke-width:0.8;\" x=\"30.103125\" xlink:href=\"#mfac12fe07e\" y=\"75.430017\"/>\n      </g>\n     </g>\n     <g id=\"text_11\">\n      <!-- 0.5 -->\n      <g transform=\"translate(7.2 79.229236)scale(0.1 -0.1)\">\n       <defs>\n        <path d=\"M 10.796875 72.90625 \nL 49.515625 72.90625 \nL 49.515625 64.59375 \nL 19.828125 64.59375 \nL 19.828125 46.734375 \nQ 21.96875 47.46875 24.109375 47.828125 \nQ 26.265625 48.1875 28.421875 48.1875 \nQ 40.625 48.1875 47.75 41.5 \nQ 54.890625 34.8125 54.890625 23.390625 \nQ 54.890625 11.625 47.5625 5.09375 \nQ 40.234375 -1.421875 26.90625 -1.421875 \nQ 22.3125 -1.421875 17.546875 -0.640625 \nQ 12.796875 0.140625 7.71875 1.703125 \nL 7.71875 11.625 \nQ 12.109375 9.234375 16.796875 8.0625 \nQ 21.484375 6.890625 26.703125 6.890625 \nQ 35.15625 6.890625 40.078125 11.328125 \nQ 45.015625 15.765625 45.015625 23.390625 \nQ 45.015625 31 40.078125 35.4375 \nQ 35.15625 39.890625 26.703125 39.890625 \nQ 22.75 39.890625 18.8125 39.015625 \nQ 14.890625 38.140625 10.796875 36.28125 \nz\n\" id=\"DejaVuSans-53\"/>\n       </defs>\n       <use xlink:href=\"#DejaVuSans-48\"/>\n       <use x=\"63.623047\" xlink:href=\"#DejaVuSans-46\"/>\n       <use x=\"95.410156\" xlink:href=\"#DejaVuSans-53\"/>\n      </g>\n     </g>\n    </g>\n    <g id=\"ytick_7\">\n     <g id=\"line2d_12\">\n      <g>\n       <use style=\"stroke:#000000;stroke-width:0.8;\" x=\"30.103125\" xlink:href=\"#mfac12fe07e\" y=\"31.692396\"/>\n      </g>\n     </g>\n     <g id=\"text_12\">\n      <!-- 0.6 -->\n      <g transform=\"translate(7.2 35.491615)scale(0.1 -0.1)\">\n       <defs>\n        <path d=\"M 33.015625 40.375 \nQ 26.375 40.375 22.484375 35.828125 \nQ 18.609375 31.296875 18.609375 23.390625 \nQ 18.609375 15.53125 22.484375 10.953125 \nQ 26.375 6.390625 33.015625 6.390625 \nQ 39.65625 6.390625 43.53125 10.953125 \nQ 47.40625 15.53125 47.40625 23.390625 \nQ 47.40625 31.296875 43.53125 35.828125 \nQ 39.65625 40.375 33.015625 40.375 \nz\nM 52.59375 71.296875 \nL 52.59375 62.3125 \nQ 48.875 64.0625 45.09375 64.984375 \nQ 41.3125 65.921875 37.59375 65.921875 \nQ 27.828125 65.921875 22.671875 59.328125 \nQ 17.53125 52.734375 16.796875 39.40625 \nQ 19.671875 43.65625 24.015625 45.921875 \nQ 28.375 48.1875 33.59375 48.1875 \nQ 44.578125 48.1875 50.953125 41.515625 \nQ 57.328125 34.859375 57.328125 23.390625 \nQ 57.328125 12.15625 50.6875 5.359375 \nQ 44.046875 -1.421875 33.015625 -1.421875 \nQ 20.359375 -1.421875 13.671875 8.265625 \nQ 6.984375 17.96875 6.984375 36.375 \nQ 6.984375 53.65625 15.1875 63.9375 \nQ 23.390625 74.21875 37.203125 74.21875 \nQ 40.921875 74.21875 44.703125 73.484375 \nQ 48.484375 72.75 52.59375 71.296875 \nz\n\" id=\"DejaVuSans-54\"/>\n       </defs>\n       <use xlink:href=\"#DejaVuSans-48\"/>\n       <use x=\"63.623047\" xlink:href=\"#DejaVuSans-46\"/>\n       <use x=\"95.410156\" xlink:href=\"#DejaVuSans-54\"/>\n      </g>\n     </g>\n    </g>\n   </g>\n   <g id=\"patch_46\">\n    <path d=\"M 30.103125 294.118125 \nL 30.103125 22.318125 \n\" style=\"fill:none;stroke:#000000;stroke-linecap:square;stroke-linejoin:miter;stroke-width:0.8;\"/>\n   </g>\n   <g id=\"patch_47\">\n    <path d=\"M 1704.103125 294.118125 \nL 1704.103125 22.318125 \n\" style=\"fill:none;stroke:#000000;stroke-linecap:square;stroke-linejoin:miter;stroke-width:0.8;\"/>\n   </g>\n   <g id=\"patch_48\">\n    <path d=\"M 30.103125 294.118125 \nL 1704.103125 294.118125 \n\" style=\"fill:none;stroke:#000000;stroke-linecap:square;stroke-linejoin:miter;stroke-width:0.8;\"/>\n   </g>\n   <g id=\"patch_49\">\n    <path d=\"M 30.103125 22.318125 \nL 1704.103125 22.318125 \n\" style=\"fill:none;stroke:#000000;stroke-linecap:square;stroke-linejoin:miter;stroke-width:0.8;\"/>\n   </g>\n   <g id=\"text_13\">\n    <!-- Feature Importance in XGBoost Classification for Buy Signal -->\n    <g transform=\"translate(687.687188 16.318125)scale(0.12 -0.12)\">\n     <defs>\n      <path d=\"M 9.8125 72.90625 \nL 51.703125 72.90625 \nL 51.703125 64.59375 \nL 19.671875 64.59375 \nL 19.671875 43.109375 \nL 48.578125 43.109375 \nL 48.578125 34.8125 \nL 19.671875 34.8125 \nL 19.671875 0 \nL 9.8125 0 \nz\n\" id=\"DejaVuSans-70\"/>\n      <path d=\"M 56.203125 29.59375 \nL 56.203125 25.203125 \nL 14.890625 25.203125 \nQ 15.484375 15.921875 20.484375 11.0625 \nQ 25.484375 6.203125 34.421875 6.203125 \nQ 39.59375 6.203125 44.453125 7.46875 \nQ 49.3125 8.734375 54.109375 11.28125 \nL 54.109375 2.78125 \nQ 49.265625 0.734375 44.1875 -0.34375 \nQ 39.109375 -1.421875 33.890625 -1.421875 \nQ 20.796875 -1.421875 13.15625 6.1875 \nQ 5.515625 13.8125 5.515625 26.8125 \nQ 5.515625 40.234375 12.765625 48.109375 \nQ 20.015625 56 32.328125 56 \nQ 43.359375 56 49.78125 48.890625 \nQ 56.203125 41.796875 56.203125 29.59375 \nz\nM 47.21875 32.234375 \nQ 47.125 39.59375 43.09375 43.984375 \nQ 39.0625 48.390625 32.421875 48.390625 \nQ 24.90625 48.390625 20.390625 44.140625 \nQ 15.875 39.890625 15.1875 32.171875 \nz\n\" id=\"DejaVuSans-101\"/>\n      <path d=\"M 34.28125 27.484375 \nQ 23.390625 27.484375 19.1875 25 \nQ 14.984375 22.515625 14.984375 16.5 \nQ 14.984375 11.71875 18.140625 8.90625 \nQ 21.296875 6.109375 26.703125 6.109375 \nQ 34.1875 6.109375 38.703125 11.40625 \nQ 43.21875 16.703125 43.21875 25.484375 \nL 43.21875 27.484375 \nz\nM 52.203125 31.203125 \nL 52.203125 0 \nL 43.21875 0 \nL 43.21875 8.296875 \nQ 40.140625 3.328125 35.546875 0.953125 \nQ 30.953125 -1.421875 24.3125 -1.421875 \nQ 15.921875 -1.421875 10.953125 3.296875 \nQ 6 8.015625 6 15.921875 \nQ 6 25.140625 12.171875 29.828125 \nQ 18.359375 34.515625 30.609375 34.515625 \nL 43.21875 34.515625 \nL 43.21875 35.40625 \nQ 43.21875 41.609375 39.140625 45 \nQ 35.0625 48.390625 27.6875 48.390625 \nQ 23 48.390625 18.546875 47.265625 \nQ 14.109375 46.140625 10.015625 43.890625 \nL 10.015625 52.203125 \nQ 14.9375 54.109375 19.578125 55.046875 \nQ 24.21875 56 28.609375 56 \nQ 40.484375 56 46.34375 49.84375 \nQ 52.203125 43.703125 52.203125 31.203125 \nz\n\" id=\"DejaVuSans-97\"/>\n      <path d=\"M 18.3125 70.21875 \nL 18.3125 54.6875 \nL 36.8125 54.6875 \nL 36.8125 47.703125 \nL 18.3125 47.703125 \nL 18.3125 18.015625 \nQ 18.3125 11.328125 20.140625 9.421875 \nQ 21.96875 7.515625 27.59375 7.515625 \nL 36.8125 7.515625 \nL 36.8125 0 \nL 27.59375 0 \nQ 17.1875 0 13.234375 3.875 \nQ 9.28125 7.765625 9.28125 18.015625 \nL 9.28125 47.703125 \nL 2.6875 47.703125 \nL 2.6875 54.6875 \nL 9.28125 54.6875 \nL 9.28125 70.21875 \nz\n\" id=\"DejaVuSans-116\"/>\n      <path d=\"M 8.5 21.578125 \nL 8.5 54.6875 \nL 17.484375 54.6875 \nL 17.484375 21.921875 \nQ 17.484375 14.15625 20.5 10.265625 \nQ 23.53125 6.390625 29.59375 6.390625 \nQ 36.859375 6.390625 41.078125 11.03125 \nQ 45.3125 15.671875 45.3125 23.6875 \nL 45.3125 54.6875 \nL 54.296875 54.6875 \nL 54.296875 0 \nL 45.3125 0 \nL 45.3125 8.40625 \nQ 42.046875 3.421875 37.71875 1 \nQ 33.40625 -1.421875 27.6875 -1.421875 \nQ 18.265625 -1.421875 13.375 4.4375 \nQ 8.5 10.296875 8.5 21.578125 \nz\nM 31.109375 56 \nz\n\" id=\"DejaVuSans-117\"/>\n      <path d=\"M 41.109375 46.296875 \nQ 39.59375 47.171875 37.8125 47.578125 \nQ 36.03125 48 33.890625 48 \nQ 26.265625 48 22.1875 43.046875 \nQ 18.109375 38.09375 18.109375 28.8125 \nL 18.109375 0 \nL 9.078125 0 \nL 9.078125 54.6875 \nL 18.109375 54.6875 \nL 18.109375 46.1875 \nQ 20.953125 51.171875 25.484375 53.578125 \nQ 30.03125 56 36.53125 56 \nQ 37.453125 56 38.578125 55.875 \nQ 39.703125 55.765625 41.0625 55.515625 \nz\n\" id=\"DejaVuSans-114\"/>\n      <path id=\"DejaVuSans-32\"/>\n      <path d=\"M 9.8125 72.90625 \nL 19.671875 72.90625 \nL 19.671875 0 \nL 9.8125 0 \nz\n\" id=\"DejaVuSans-73\"/>\n      <path d=\"M 52 44.1875 \nQ 55.375 50.25 60.0625 53.125 \nQ 64.75 56 71.09375 56 \nQ 79.640625 56 84.28125 50.015625 \nQ 88.921875 44.046875 88.921875 33.015625 \nL 88.921875 0 \nL 79.890625 0 \nL 79.890625 32.71875 \nQ 79.890625 40.578125 77.09375 44.375 \nQ 74.3125 48.1875 68.609375 48.1875 \nQ 61.625 48.1875 57.5625 43.546875 \nQ 53.515625 38.921875 53.515625 30.90625 \nL 53.515625 0 \nL 44.484375 0 \nL 44.484375 32.71875 \nQ 44.484375 40.625 41.703125 44.40625 \nQ 38.921875 48.1875 33.109375 48.1875 \nQ 26.21875 48.1875 22.15625 43.53125 \nQ 18.109375 38.875 18.109375 30.90625 \nL 18.109375 0 \nL 9.078125 0 \nL 9.078125 54.6875 \nL 18.109375 54.6875 \nL 18.109375 46.1875 \nQ 21.1875 51.21875 25.484375 53.609375 \nQ 29.78125 56 35.6875 56 \nQ 41.65625 56 45.828125 52.96875 \nQ 50 49.953125 52 44.1875 \nz\n\" id=\"DejaVuSans-109\"/>\n      <path d=\"M 18.109375 8.203125 \nL 18.109375 -20.796875 \nL 9.078125 -20.796875 \nL 9.078125 54.6875 \nL 18.109375 54.6875 \nL 18.109375 46.390625 \nQ 20.953125 51.265625 25.265625 53.625 \nQ 29.59375 56 35.59375 56 \nQ 45.5625 56 51.78125 48.09375 \nQ 58.015625 40.1875 58.015625 27.296875 \nQ 58.015625 14.40625 51.78125 6.484375 \nQ 45.5625 -1.421875 35.59375 -1.421875 \nQ 29.59375 -1.421875 25.265625 0.953125 \nQ 20.953125 3.328125 18.109375 8.203125 \nz\nM 48.6875 27.296875 \nQ 48.6875 37.203125 44.609375 42.84375 \nQ 40.53125 48.484375 33.40625 48.484375 \nQ 26.265625 48.484375 22.1875 42.84375 \nQ 18.109375 37.203125 18.109375 27.296875 \nQ 18.109375 17.390625 22.1875 11.75 \nQ 26.265625 6.109375 33.40625 6.109375 \nQ 40.53125 6.109375 44.609375 11.75 \nQ 48.6875 17.390625 48.6875 27.296875 \nz\n\" id=\"DejaVuSans-112\"/>\n      <path d=\"M 30.609375 48.390625 \nQ 23.390625 48.390625 19.1875 42.75 \nQ 14.984375 37.109375 14.984375 27.296875 \nQ 14.984375 17.484375 19.15625 11.84375 \nQ 23.34375 6.203125 30.609375 6.203125 \nQ 37.796875 6.203125 41.984375 11.859375 \nQ 46.1875 17.53125 46.1875 27.296875 \nQ 46.1875 37.015625 41.984375 42.703125 \nQ 37.796875 48.390625 30.609375 48.390625 \nz\nM 30.609375 56 \nQ 42.328125 56 49.015625 48.375 \nQ 55.71875 40.765625 55.71875 27.296875 \nQ 55.71875 13.875 49.015625 6.21875 \nQ 42.328125 -1.421875 30.609375 -1.421875 \nQ 18.84375 -1.421875 12.171875 6.21875 \nQ 5.515625 13.875 5.515625 27.296875 \nQ 5.515625 40.765625 12.171875 48.375 \nQ 18.84375 56 30.609375 56 \nz\n\" id=\"DejaVuSans-111\"/>\n      <path d=\"M 54.890625 33.015625 \nL 54.890625 0 \nL 45.90625 0 \nL 45.90625 32.71875 \nQ 45.90625 40.484375 42.875 44.328125 \nQ 39.84375 48.1875 33.796875 48.1875 \nQ 26.515625 48.1875 22.3125 43.546875 \nQ 18.109375 38.921875 18.109375 30.90625 \nL 18.109375 0 \nL 9.078125 0 \nL 9.078125 54.6875 \nL 18.109375 54.6875 \nL 18.109375 46.1875 \nQ 21.34375 51.125 25.703125 53.5625 \nQ 30.078125 56 35.796875 56 \nQ 45.21875 56 50.046875 50.171875 \nQ 54.890625 44.34375 54.890625 33.015625 \nz\n\" id=\"DejaVuSans-110\"/>\n      <path d=\"M 48.78125 52.59375 \nL 48.78125 44.1875 \nQ 44.96875 46.296875 41.140625 47.34375 \nQ 37.3125 48.390625 33.40625 48.390625 \nQ 24.65625 48.390625 19.8125 42.84375 \nQ 14.984375 37.3125 14.984375 27.296875 \nQ 14.984375 17.28125 19.8125 11.734375 \nQ 24.65625 6.203125 33.40625 6.203125 \nQ 37.3125 6.203125 41.140625 7.25 \nQ 44.96875 8.296875 48.78125 10.40625 \nL 48.78125 2.09375 \nQ 45.015625 0.34375 40.984375 -0.53125 \nQ 36.96875 -1.421875 32.421875 -1.421875 \nQ 20.0625 -1.421875 12.78125 6.34375 \nQ 5.515625 14.109375 5.515625 27.296875 \nQ 5.515625 40.671875 12.859375 48.328125 \nQ 20.21875 56 33.015625 56 \nQ 37.15625 56 41.109375 55.140625 \nQ 45.0625 54.296875 48.78125 52.59375 \nz\n\" id=\"DejaVuSans-99\"/>\n      <path d=\"M 9.421875 54.6875 \nL 18.40625 54.6875 \nL 18.40625 0 \nL 9.421875 0 \nz\nM 9.421875 75.984375 \nL 18.40625 75.984375 \nL 18.40625 64.59375 \nL 9.421875 64.59375 \nz\n\" id=\"DejaVuSans-105\"/>\n      <path d=\"M 6.296875 72.90625 \nL 16.890625 72.90625 \nL 35.015625 45.796875 \nL 53.21875 72.90625 \nL 63.8125 72.90625 \nL 40.375 37.890625 \nL 65.375 0 \nL 54.78125 0 \nL 34.28125 31 \nL 13.625 0 \nL 2.984375 0 \nL 29 38.921875 \nz\n\" id=\"DejaVuSans-88\"/>\n      <path d=\"M 59.515625 10.40625 \nL 59.515625 29.984375 \nL 43.40625 29.984375 \nL 43.40625 38.09375 \nL 69.28125 38.09375 \nL 69.28125 6.78125 \nQ 63.578125 2.734375 56.6875 0.65625 \nQ 49.8125 -1.421875 42 -1.421875 \nQ 24.90625 -1.421875 15.25 8.5625 \nQ 5.609375 18.5625 5.609375 36.375 \nQ 5.609375 54.25 15.25 64.234375 \nQ 24.90625 74.21875 42 74.21875 \nQ 49.125 74.21875 55.546875 72.453125 \nQ 61.96875 70.703125 67.390625 67.28125 \nL 67.390625 56.78125 \nQ 61.921875 61.421875 55.765625 63.765625 \nQ 49.609375 66.109375 42.828125 66.109375 \nQ 29.4375 66.109375 22.71875 58.640625 \nQ 16.015625 51.171875 16.015625 36.375 \nQ 16.015625 21.625 22.71875 14.15625 \nQ 29.4375 6.6875 42.828125 6.6875 \nQ 48.046875 6.6875 52.140625 7.59375 \nQ 56.25 8.5 59.515625 10.40625 \nz\n\" id=\"DejaVuSans-71\"/>\n      <path d=\"M 19.671875 34.8125 \nL 19.671875 8.109375 \nL 35.5 8.109375 \nQ 43.453125 8.109375 47.28125 11.40625 \nQ 51.125 14.703125 51.125 21.484375 \nQ 51.125 28.328125 47.28125 31.5625 \nQ 43.453125 34.8125 35.5 34.8125 \nz\nM 19.671875 64.796875 \nL 19.671875 42.828125 \nL 34.28125 42.828125 \nQ 41.5 42.828125 45.03125 45.53125 \nQ 48.578125 48.25 48.578125 53.8125 \nQ 48.578125 59.328125 45.03125 62.0625 \nQ 41.5 64.796875 34.28125 64.796875 \nz\nM 9.8125 72.90625 \nL 35.015625 72.90625 \nQ 46.296875 72.90625 52.390625 68.21875 \nQ 58.5 63.53125 58.5 54.890625 \nQ 58.5 48.1875 55.375 44.234375 \nQ 52.25 40.28125 46.1875 39.3125 \nQ 53.46875 37.75 57.5 32.78125 \nQ 61.53125 27.828125 61.53125 20.40625 \nQ 61.53125 10.640625 54.890625 5.3125 \nQ 48.25 0 35.984375 0 \nL 9.8125 0 \nz\n\" id=\"DejaVuSans-66\"/>\n      <path d=\"M 44.28125 53.078125 \nL 44.28125 44.578125 \nQ 40.484375 46.53125 36.375 47.5 \nQ 32.28125 48.484375 27.875 48.484375 \nQ 21.1875 48.484375 17.84375 46.4375 \nQ 14.5 44.390625 14.5 40.28125 \nQ 14.5 37.15625 16.890625 35.375 \nQ 19.28125 33.59375 26.515625 31.984375 \nL 29.59375 31.296875 \nQ 39.15625 29.25 43.1875 25.515625 \nQ 47.21875 21.78125 47.21875 15.09375 \nQ 47.21875 7.46875 41.1875 3.015625 \nQ 35.15625 -1.421875 24.609375 -1.421875 \nQ 20.21875 -1.421875 15.453125 -0.5625 \nQ 10.6875 0.296875 5.421875 2 \nL 5.421875 11.28125 \nQ 10.40625 8.6875 15.234375 7.390625 \nQ 20.0625 6.109375 24.8125 6.109375 \nQ 31.15625 6.109375 34.5625 8.28125 \nQ 37.984375 10.453125 37.984375 14.40625 \nQ 37.984375 18.0625 35.515625 20.015625 \nQ 33.0625 21.96875 24.703125 23.78125 \nL 21.578125 24.515625 \nQ 13.234375 26.265625 9.515625 29.90625 \nQ 5.8125 33.546875 5.8125 39.890625 \nQ 5.8125 47.609375 11.28125 51.796875 \nQ 16.75 56 26.8125 56 \nQ 31.78125 56 36.171875 55.265625 \nQ 40.578125 54.546875 44.28125 53.078125 \nz\n\" id=\"DejaVuSans-115\"/>\n      <path d=\"M 64.40625 67.28125 \nL 64.40625 56.890625 \nQ 59.421875 61.53125 53.78125 63.8125 \nQ 48.140625 66.109375 41.796875 66.109375 \nQ 29.296875 66.109375 22.65625 58.46875 \nQ 16.015625 50.828125 16.015625 36.375 \nQ 16.015625 21.96875 22.65625 14.328125 \nQ 29.296875 6.6875 41.796875 6.6875 \nQ 48.140625 6.6875 53.78125 8.984375 \nQ 59.421875 11.28125 64.40625 15.921875 \nL 64.40625 5.609375 \nQ 59.234375 2.09375 53.4375 0.328125 \nQ 47.65625 -1.421875 41.21875 -1.421875 \nQ 24.65625 -1.421875 15.125 8.703125 \nQ 5.609375 18.84375 5.609375 36.375 \nQ 5.609375 53.953125 15.125 64.078125 \nQ 24.65625 74.21875 41.21875 74.21875 \nQ 47.75 74.21875 53.53125 72.484375 \nQ 59.328125 70.75 64.40625 67.28125 \nz\n\" id=\"DejaVuSans-67\"/>\n      <path d=\"M 9.421875 75.984375 \nL 18.40625 75.984375 \nL 18.40625 0 \nL 9.421875 0 \nz\n\" id=\"DejaVuSans-108\"/>\n      <path d=\"M 37.109375 75.984375 \nL 37.109375 68.5 \nL 28.515625 68.5 \nQ 23.6875 68.5 21.796875 66.546875 \nQ 19.921875 64.59375 19.921875 59.515625 \nL 19.921875 54.6875 \nL 34.71875 54.6875 \nL 34.71875 47.703125 \nL 19.921875 47.703125 \nL 19.921875 0 \nL 10.890625 0 \nL 10.890625 47.703125 \nL 2.296875 47.703125 \nL 2.296875 54.6875 \nL 10.890625 54.6875 \nL 10.890625 58.5 \nQ 10.890625 67.625 15.140625 71.796875 \nQ 19.390625 75.984375 28.609375 75.984375 \nz\n\" id=\"DejaVuSans-102\"/>\n      <path d=\"M 32.171875 -5.078125 \nQ 28.375 -14.84375 24.75 -17.8125 \nQ 21.140625 -20.796875 15.09375 -20.796875 \nL 7.90625 -20.796875 \nL 7.90625 -13.28125 \nL 13.1875 -13.28125 \nQ 16.890625 -13.28125 18.9375 -11.515625 \nQ 21 -9.765625 23.484375 -3.21875 \nL 25.09375 0.875 \nL 2.984375 54.6875 \nL 12.5 54.6875 \nL 29.59375 11.921875 \nL 46.6875 54.6875 \nL 56.203125 54.6875 \nz\n\" id=\"DejaVuSans-121\"/>\n      <path d=\"M 53.515625 70.515625 \nL 53.515625 60.890625 \nQ 47.90625 63.578125 42.921875 64.890625 \nQ 37.9375 66.21875 33.296875 66.21875 \nQ 25.25 66.21875 20.875 63.09375 \nQ 16.5 59.96875 16.5 54.203125 \nQ 16.5 49.359375 19.40625 46.890625 \nQ 22.3125 44.4375 30.421875 42.921875 \nL 36.375 41.703125 \nQ 47.40625 39.59375 52.65625 34.296875 \nQ 57.90625 29 57.90625 20.125 \nQ 57.90625 9.515625 50.796875 4.046875 \nQ 43.703125 -1.421875 29.984375 -1.421875 \nQ 24.8125 -1.421875 18.96875 -0.25 \nQ 13.140625 0.921875 6.890625 3.21875 \nL 6.890625 13.375 \nQ 12.890625 10.015625 18.65625 8.296875 \nQ 24.421875 6.59375 29.984375 6.59375 \nQ 38.421875 6.59375 43.015625 9.90625 \nQ 47.609375 13.234375 47.609375 19.390625 \nQ 47.609375 24.75 44.3125 27.78125 \nQ 41.015625 30.8125 33.5 32.328125 \nL 27.484375 33.5 \nQ 16.453125 35.6875 11.515625 40.375 \nQ 6.59375 45.0625 6.59375 53.421875 \nQ 6.59375 63.09375 13.40625 68.65625 \nQ 20.21875 74.21875 32.171875 74.21875 \nQ 37.3125 74.21875 42.625 73.28125 \nQ 47.953125 72.359375 53.515625 70.515625 \nz\n\" id=\"DejaVuSans-83\"/>\n      <path d=\"M 45.40625 27.984375 \nQ 45.40625 37.75 41.375 43.109375 \nQ 37.359375 48.484375 30.078125 48.484375 \nQ 22.859375 48.484375 18.828125 43.109375 \nQ 14.796875 37.75 14.796875 27.984375 \nQ 14.796875 18.265625 18.828125 12.890625 \nQ 22.859375 7.515625 30.078125 7.515625 \nQ 37.359375 7.515625 41.375 12.890625 \nQ 45.40625 18.265625 45.40625 27.984375 \nz\nM 54.390625 6.78125 \nQ 54.390625 -7.171875 48.1875 -13.984375 \nQ 42 -20.796875 29.203125 -20.796875 \nQ 24.46875 -20.796875 20.265625 -20.09375 \nQ 16.0625 -19.390625 12.109375 -17.921875 \nL 12.109375 -9.1875 \nQ 16.0625 -11.328125 19.921875 -12.34375 \nQ 23.78125 -13.375 27.78125 -13.375 \nQ 36.625 -13.375 41.015625 -8.765625 \nQ 45.40625 -4.15625 45.40625 5.171875 \nL 45.40625 9.625 \nQ 42.625 4.78125 38.28125 2.390625 \nQ 33.9375 0 27.875 0 \nQ 17.828125 0 11.671875 7.65625 \nQ 5.515625 15.328125 5.515625 27.984375 \nQ 5.515625 40.671875 11.671875 48.328125 \nQ 17.828125 56 27.875 56 \nQ 33.9375 56 38.28125 53.609375 \nQ 42.625 51.21875 45.40625 46.390625 \nL 45.40625 54.6875 \nL 54.390625 54.6875 \nz\n\" id=\"DejaVuSans-103\"/>\n     </defs>\n     <use xlink:href=\"#DejaVuSans-70\"/>\n     <use x=\"52.019531\" xlink:href=\"#DejaVuSans-101\"/>\n     <use x=\"113.542969\" xlink:href=\"#DejaVuSans-97\"/>\n     <use x=\"174.822266\" xlink:href=\"#DejaVuSans-116\"/>\n     <use x=\"214.03125\" xlink:href=\"#DejaVuSans-117\"/>\n     <use x=\"277.410156\" xlink:href=\"#DejaVuSans-114\"/>\n     <use x=\"316.273438\" xlink:href=\"#DejaVuSans-101\"/>\n     <use x=\"377.796875\" xlink:href=\"#DejaVuSans-32\"/>\n     <use x=\"409.583984\" xlink:href=\"#DejaVuSans-73\"/>\n     <use x=\"439.076172\" xlink:href=\"#DejaVuSans-109\"/>\n     <use x=\"536.488281\" xlink:href=\"#DejaVuSans-112\"/>\n     <use x=\"599.964844\" xlink:href=\"#DejaVuSans-111\"/>\n     <use x=\"661.146484\" xlink:href=\"#DejaVuSans-114\"/>\n     <use x=\"702.259766\" xlink:href=\"#DejaVuSans-116\"/>\n     <use x=\"741.46875\" xlink:href=\"#DejaVuSans-97\"/>\n     <use x=\"802.748047\" xlink:href=\"#DejaVuSans-110\"/>\n     <use x=\"866.126953\" xlink:href=\"#DejaVuSans-99\"/>\n     <use x=\"921.107422\" xlink:href=\"#DejaVuSans-101\"/>\n     <use x=\"982.630859\" xlink:href=\"#DejaVuSans-32\"/>\n     <use x=\"1014.417969\" xlink:href=\"#DejaVuSans-105\"/>\n     <use x=\"1042.201172\" xlink:href=\"#DejaVuSans-110\"/>\n     <use x=\"1105.580078\" xlink:href=\"#DejaVuSans-32\"/>\n     <use x=\"1137.367188\" xlink:href=\"#DejaVuSans-88\"/>\n     <use x=\"1205.873047\" xlink:href=\"#DejaVuSans-71\"/>\n     <use x=\"1283.363281\" xlink:href=\"#DejaVuSans-66\"/>\n     <use x=\"1351.966797\" xlink:href=\"#DejaVuSans-111\"/>\n     <use x=\"1413.148438\" xlink:href=\"#DejaVuSans-111\"/>\n     <use x=\"1474.330078\" xlink:href=\"#DejaVuSans-115\"/>\n     <use x=\"1526.429688\" xlink:href=\"#DejaVuSans-116\"/>\n     <use x=\"1565.638672\" xlink:href=\"#DejaVuSans-32\"/>\n     <use x=\"1597.425781\" xlink:href=\"#DejaVuSans-67\"/>\n     <use x=\"1667.25\" xlink:href=\"#DejaVuSans-108\"/>\n     <use x=\"1695.033203\" xlink:href=\"#DejaVuSans-97\"/>\n     <use x=\"1756.3125\" xlink:href=\"#DejaVuSans-115\"/>\n     <use x=\"1808.412109\" xlink:href=\"#DejaVuSans-115\"/>\n     <use x=\"1860.511719\" xlink:href=\"#DejaVuSans-105\"/>\n     <use x=\"1888.294922\" xlink:href=\"#DejaVuSans-102\"/>\n     <use x=\"1923.5\" xlink:href=\"#DejaVuSans-105\"/>\n     <use x=\"1951.283203\" xlink:href=\"#DejaVuSans-99\"/>\n     <use x=\"2006.263672\" xlink:href=\"#DejaVuSans-97\"/>\n     <use x=\"2067.542969\" xlink:href=\"#DejaVuSans-116\"/>\n     <use x=\"2106.751953\" xlink:href=\"#DejaVuSans-105\"/>\n     <use x=\"2134.535156\" xlink:href=\"#DejaVuSans-111\"/>\n     <use x=\"2195.716797\" xlink:href=\"#DejaVuSans-110\"/>\n     <use x=\"2259.095703\" xlink:href=\"#DejaVuSans-32\"/>\n     <use x=\"2290.882812\" xlink:href=\"#DejaVuSans-102\"/>\n     <use x=\"2326.087891\" xlink:href=\"#DejaVuSans-111\"/>\n     <use x=\"2387.269531\" xlink:href=\"#DejaVuSans-114\"/>\n     <use x=\"2428.382812\" xlink:href=\"#DejaVuSans-32\"/>\n     <use x=\"2460.169922\" xlink:href=\"#DejaVuSans-66\"/>\n     <use x=\"2528.773438\" xlink:href=\"#DejaVuSans-117\"/>\n     <use x=\"2592.152344\" xlink:href=\"#DejaVuSans-121\"/>\n     <use x=\"2651.332031\" xlink:href=\"#DejaVuSans-32\"/>\n     <use x=\"2683.119141\" xlink:href=\"#DejaVuSans-83\"/>\n     <use x=\"2746.595703\" xlink:href=\"#DejaVuSans-105\"/>\n     <use x=\"2774.378906\" xlink:href=\"#DejaVuSans-103\"/>\n     <use x=\"2837.855469\" xlink:href=\"#DejaVuSans-110\"/>\n     <use x=\"2901.234375\" xlink:href=\"#DejaVuSans-97\"/>\n     <use x=\"2962.513672\" xlink:href=\"#DejaVuSans-108\"/>\n    </g>\n   </g>\n  </g>\n </g>\n <defs>\n  <clipPath id=\"p66c5fa1be8\">\n   <rect height=\"271.8\" width=\"1674\" x=\"30.103125\" y=\"22.318125\"/>\n  </clipPath>\n </defs>\n</svg>\n",
      "image/png": "[encoded data removed]"
     },
     "metadata": {
      "needs_background": "light"
     }
    },
    {
     "output_type": "stream",
     "name": "stdout",
     "text": [
      "CPU times: user 9.04 s, sys: 240 ms, total: 9.28 s\nWall time: 846 ms\n"
     ]
    }
   ],
   "source": [
    "%%time\n",
    "# xgboost for feature importance on a classification problem\n",
    "from xgboost import XGBClassifier\n",
    "# define the model\n",
    "model = XGBClassifier()\n",
    "# fit the model\n",
    "model.fit(features_train.drop(['Date','Symbol','Buy','Sell','TRACKER'],axis=1), features_train.Buy)\n",
    "# get importance\n",
    "importance = model.feature_importances_\n",
    "# summarize feature importance\n",
    "for i,v in enumerate(importance):\n",
    "\tprint('Feature: %0d, Score: %.5f' % (i,v))\n",
    "# plot feature importance\n",
    "pyplot.figure(figsize=(30,5))\n",
    "pyplot.title('Feature Importance in XGBoost Classification for Buy Signal')\n",
    "pyplot.bar([x for x in range(len(importance))], importance)\n",
    "pyplot.show()"
   ]
  },
  {
   "cell_type": "code",
   "execution_count": 401,
   "metadata": {},
   "outputs": [
    {
     "output_type": "stream",
     "name": "stdout",
     "text": [
      "[12:38:52] WARNING: /Users/travis/build/dmlc/xgboost/src/learner.cc:1061: Starting in XGBoost 1.3.0, the default evaluation metric used with the objective 'binary:logistic' was changed from 'error' to 'logloss'. Explicitly set eval_metric if you'd like to restore the old behavior.\n",
      "Feature: 0, Score: 0.01169\n",
      "Feature: 1, Score: 0.02284\n",
      "Feature: 2, Score: 0.01032\n",
      "Feature: 3, Score: 0.00862\n",
      "Feature: 4, Score: 0.00830\n",
      "Feature: 5, Score: 0.00000\n",
      "Feature: 6, Score: 0.01126\n",
      "Feature: 7, Score: 0.00898\n",
      "Feature: 8, Score: 0.00869\n",
      "Feature: 9, Score: 0.01010\n",
      "Feature: 10, Score: 0.00769\n",
      "Feature: 11, Score: 0.00944\n",
      "Feature: 12, Score: 0.00000\n",
      "Feature: 13, Score: 0.00695\n",
      "Feature: 14, Score: 0.00883\n",
      "Feature: 15, Score: 0.00897\n",
      "Feature: 16, Score: 0.01068\n",
      "Feature: 17, Score: 0.01018\n",
      "Feature: 18, Score: 0.01329\n",
      "Feature: 19, Score: 0.00918\n",
      "Feature: 20, Score: 0.02469\n",
      "Feature: 21, Score: 0.00000\n",
      "Feature: 22, Score: 0.00000\n",
      "Feature: 23, Score: 0.00000\n",
      "Feature: 24, Score: 0.00000\n",
      "Feature: 25, Score: 0.00679\n",
      "Feature: 26, Score: 0.00777\n",
      "Feature: 27, Score: 0.00962\n",
      "Feature: 28, Score: 0.00888\n",
      "Feature: 29, Score: 0.00821\n",
      "Feature: 30, Score: 0.01167\n",
      "Feature: 31, Score: 0.00558\n",
      "Feature: 32, Score: 0.01021\n",
      "Feature: 33, Score: 0.00820\n",
      "Feature: 34, Score: 0.01080\n",
      "Feature: 35, Score: 0.01021\n",
      "Feature: 36, Score: 0.01121\n",
      "Feature: 37, Score: 0.01135\n",
      "Feature: 38, Score: 0.01044\n",
      "Feature: 39, Score: 0.00000\n",
      "Feature: 40, Score: 0.00811\n",
      "Feature: 41, Score: 0.00932\n",
      "Feature: 42, Score: 0.64093\n"
     ]
    },
    {
     "output_type": "display_data",
     "data": {
      "text/plain": "<Figure size 2160x360 with 1 Axes>",
      "image/svg+xml": "<?xml version=\"1.0\" encoding=\"utf-8\" standalone=\"no\"?>\n<!DOCTYPE svg PUBLIC \"-//W3C//DTD SVG 1.1//EN\"\n  \"http://www.w3.org/Graphics/SVG/1.1/DTD/svg11.dtd\">\n<!-- Created with matplotlib (https://matplotlib.org/) -->\n<svg height=\"317.99625pt\" version=\"1.1\" viewBox=\"0 0 1711.303125 317.99625\" width=\"1711.303125pt\" xmlns=\"http://www.w3.org/2000/svg\" xmlns:xlink=\"http://www.w3.org/1999/xlink\">\n <metadata>\n  <rdf:RDF xmlns:cc=\"http://creativecommons.org/ns#\" xmlns:dc=\"http://purl.org/dc/elements/1.1/\" xmlns:rdf=\"http://www.w3.org/1999/02/22-rdf-syntax-ns#\">\n   <cc:Work>\n    <dc:type rdf:resource=\"http://purl.org/dc/dcmitype/StillImage\"/>\n    <dc:date>2021-01-26T12:38:53.234307</dc:date>\n    <dc:format>image/svg+xml</dc:format>\n    <dc:creator>\n     <cc:Agent>\n      <dc:title>Matplotlib v3.3.3, https://matplotlib.org/</dc:title>\n     </cc:Agent>\n    </dc:creator>\n   </cc:Work>\n  </rdf:RDF>\n </metadata>\n <defs>\n  <style type=\"text/css\">*{stroke-linecap:butt;stroke-linejoin:round;}</style>\n </defs>\n <g id=\"figure_1\">\n  <g id=\"patch_1\">\n   <path d=\"M 0 317.99625 \nL 1711.303125 317.99625 \nL 1711.303125 0 \nL 0 0 \nz\n\" style=\"fill:none;\"/>\n  </g>\n  <g id=\"axes_1\">\n   <g id=\"patch_2\">\n    <path d=\"M 30.103125 294.118125 \nL 1704.103125 294.118125 \nL 1704.103125 22.318125 \nL 30.103125 22.318125 \nz\n\" style=\"fill:#ffffff;\"/>\n   </g>\n   <g id=\"patch_3\">\n    <path clip-path=\"url(#pd41d8ea8af)\" d=\"M 106.194034 294.118125 \nL 134.639234 294.118125 \nL 134.639234 289.396581 \nL 106.194034 289.396581 \nz\n\" style=\"fill:#1f77b4;\"/>\n   </g>\n   <g id=\"patch_4\">\n    <path clip-path=\"url(#pd41d8ea8af)\" d=\"M 141.750534 294.118125 \nL 170.195733 294.118125 \nL 170.195733 284.892148 \nL 141.750534 284.892148 \nz\n\" style=\"fill:#1f77b4;\"/>\n   </g>\n   <g id=\"patch_5\">\n    <path clip-path=\"url(#pd41d8ea8af)\" d=\"M 177.307033 294.118125 \nL 205.752233 294.118125 \nL 205.752233 289.950763 \nL 177.307033 289.950763 \nz\n\" style=\"fill:#1f77b4;\"/>\n   </g>\n   <g id=\"patch_6\">\n    <path clip-path=\"url(#pd41d8ea8af)\" d=\"M 212.863533 294.118125 \nL 241.308732 294.118125 \nL 241.308732 290.636902 \nL 212.863533 290.636902 \nz\n\" style=\"fill:#1f77b4;\"/>\n   </g>\n   <g id=\"patch_7\">\n    <path clip-path=\"url(#pd41d8ea8af)\" d=\"M 248.420032 294.118125 \nL 276.865232 294.118125 \nL 276.865232 290.765127 \nL 248.420032 290.765127 \nz\n\" style=\"fill:#1f77b4;\"/>\n   </g>\n   <g id=\"patch_8\">\n    <path clip-path=\"url(#pd41d8ea8af)\" d=\"M 283.976532 294.118125 \nL 312.421732 294.118125 \nL 312.421732 294.118125 \nL 283.976532 294.118125 \nz\n\" style=\"fill:#1f77b4;\"/>\n   </g>\n   <g id=\"patch_9\">\n    <path clip-path=\"url(#pd41d8ea8af)\" d=\"M 319.533032 294.118125 \nL 347.978231 294.118125 \nL 347.978231 289.569056 \nL 319.533032 289.569056 \nz\n\" style=\"fill:#1f77b4;\"/>\n   </g>\n   <g id=\"patch_10\">\n    <path clip-path=\"url(#pd41d8ea8af)\" d=\"M 355.089531 294.118125 \nL 383.534731 294.118125 \nL 383.534731 290.493302 \nL 355.089531 290.493302 \nz\n\" style=\"fill:#1f77b4;\"/>\n   </g>\n   <g id=\"patch_11\">\n    <path clip-path=\"url(#pd41d8ea8af)\" d=\"M 390.646031 294.118125 \nL 419.09123 294.118125 \nL 419.09123 290.606604 \nL 390.646031 290.606604 \nz\n\" style=\"fill:#1f77b4;\"/>\n   </g>\n   <g id=\"patch_12\">\n    <path clip-path=\"url(#pd41d8ea8af)\" d=\"M 426.20253 294.118125 \nL 454.64773 294.118125 \nL 454.64773 290.039592 \nL 426.20253 290.039592 \nz\n\" style=\"fill:#1f77b4;\"/>\n   </g>\n   <g id=\"patch_13\">\n    <path clip-path=\"url(#pd41d8ea8af)\" d=\"M 461.75903 294.118125 \nL 490.20423 294.118125 \nL 490.20423 291.012349 \nL 461.75903 291.012349 \nz\n\" style=\"fill:#1f77b4;\"/>\n   </g>\n   <g id=\"patch_14\">\n    <path clip-path=\"url(#pd41d8ea8af)\" d=\"M 497.315529 294.118125 \nL 525.760729 294.118125 \nL 525.760729 290.305111 \nL 497.315529 290.305111 \nz\n\" style=\"fill:#1f77b4;\"/>\n   </g>\n   <g id=\"patch_15\">\n    <path clip-path=\"url(#pd41d8ea8af)\" d=\"M 532.872029 294.118125 \nL 561.317229 294.118125 \nL 561.317229 294.118125 \nL 532.872029 294.118125 \nz\n\" style=\"fill:#1f77b4;\"/>\n   </g>\n   <g id=\"patch_16\">\n    <path clip-path=\"url(#pd41d8ea8af)\" d=\"M 568.428529 294.118125 \nL 596.873728 294.118125 \nL 596.873728 291.313021 \nL 568.428529 291.313021 \nz\n\" style=\"fill:#1f77b4;\"/>\n   </g>\n   <g id=\"patch_17\">\n    <path clip-path=\"url(#pd41d8ea8af)\" d=\"M 603.985028 294.118125 \nL 632.430228 294.118125 \nL 632.430228 290.55212 \nL 603.985028 290.55212 \nz\n\" style=\"fill:#1f77b4;\"/>\n   </g>\n   <g id=\"patch_18\">\n    <path clip-path=\"url(#pd41d8ea8af)\" d=\"M 639.541528 294.118125 \nL 667.986727 294.118125 \nL 667.986727 290.496205 \nL 639.541528 290.496205 \nz\n\" style=\"fill:#1f77b4;\"/>\n   </g>\n   <g id=\"patch_19\">\n    <path clip-path=\"url(#pd41d8ea8af)\" d=\"M 675.098027 294.118125 \nL 703.543227 294.118125 \nL 703.543227 289.804809 \nL 675.098027 289.804809 \nz\n\" style=\"fill:#1f77b4;\"/>\n   </g>\n   <g id=\"patch_20\">\n    <path clip-path=\"url(#pd41d8ea8af)\" d=\"M 710.654527 294.118125 \nL 739.099727 294.118125 \nL 739.099727 290.004844 \nL 710.654527 290.004844 \nz\n\" style=\"fill:#1f77b4;\"/>\n   </g>\n   <g id=\"patch_21\">\n    <path clip-path=\"url(#pd41d8ea8af)\" d=\"M 746.211026 294.118125 \nL 774.656226 294.118125 \nL 774.656226 288.749064 \nL 746.211026 288.749064 \nz\n\" style=\"fill:#1f77b4;\"/>\n   </g>\n   <g id=\"patch_22\">\n    <path clip-path=\"url(#pd41d8ea8af)\" d=\"M 781.767526 294.118125 \nL 810.212726 294.118125 \nL 810.212726 290.409102 \nL 781.767526 290.409102 \nz\n\" style=\"fill:#1f77b4;\"/>\n   </g>\n   <g id=\"patch_23\">\n    <path clip-path=\"url(#pd41d8ea8af)\" d=\"M 817.324026 294.118125 \nL 845.769225 294.118125 \nL 845.769225 284.147216 \nL 817.324026 284.147216 \nz\n\" style=\"fill:#1f77b4;\"/>\n   </g>\n   <g id=\"patch_24\">\n    <path clip-path=\"url(#pd41d8ea8af)\" d=\"M 852.880525 294.118125 \nL 881.325725 294.118125 \nL 881.325725 294.118125 \nL 852.880525 294.118125 \nz\n\" style=\"fill:#1f77b4;\"/>\n   </g>\n   <g id=\"patch_25\">\n    <path clip-path=\"url(#pd41d8ea8af)\" d=\"M 888.437025 294.118125 \nL 916.882224 294.118125 \nL 916.882224 294.118125 \nL 888.437025 294.118125 \nz\n\" style=\"fill:#1f77b4;\"/>\n   </g>\n   <g id=\"patch_26\">\n    <path clip-path=\"url(#pd41d8ea8af)\" d=\"M 923.993524 294.118125 \nL 952.438724 294.118125 \nL 952.438724 294.118125 \nL 923.993524 294.118125 \nz\n\" style=\"fill:#1f77b4;\"/>\n   </g>\n   <g id=\"patch_27\">\n    <path clip-path=\"url(#pd41d8ea8af)\" d=\"M 959.550024 294.118125 \nL 987.995224 294.118125 \nL 987.995224 294.118125 \nL 959.550024 294.118125 \nz\n\" style=\"fill:#1f77b4;\"/>\n   </g>\n   <g id=\"patch_28\">\n    <path clip-path=\"url(#pd41d8ea8af)\" d=\"M 995.106523 294.118125 \nL 1023.551723 294.118125 \nL 1023.551723 291.375608 \nL 995.106523 291.375608 \nz\n\" style=\"fill:#1f77b4;\"/>\n   </g>\n   <g id=\"patch_29\">\n    <path clip-path=\"url(#pd41d8ea8af)\" d=\"M 1030.663023 294.118125 \nL 1059.108223 294.118125 \nL 1059.108223 290.980928 \nL 1030.663023 290.980928 \nz\n\" style=\"fill:#1f77b4;\"/>\n   </g>\n   <g id=\"patch_30\">\n    <path clip-path=\"url(#pd41d8ea8af)\" d=\"M 1066.219523 294.118125 \nL 1094.664722 294.118125 \nL 1094.664722 290.234582 \nL 1066.219523 290.234582 \nz\n\" style=\"fill:#1f77b4;\"/>\n   </g>\n   <g id=\"patch_31\">\n    <path clip-path=\"url(#pd41d8ea8af)\" d=\"M 1101.776022 294.118125 \nL 1130.221222 294.118125 \nL 1130.221222 290.529752 \nL 1101.776022 290.529752 \nz\n\" style=\"fill:#1f77b4;\"/>\n   </g>\n   <g id=\"patch_32\">\n    <path clip-path=\"url(#pd41d8ea8af)\" d=\"M 1137.332522 294.118125 \nL 1165.777721 294.118125 \nL 1165.777721 290.802488 \nL 1137.332522 290.802488 \nz\n\" style=\"fill:#1f77b4;\"/>\n   </g>\n   <g id=\"patch_33\">\n    <path clip-path=\"url(#pd41d8ea8af)\" d=\"M 1172.889021 294.118125 \nL 1201.334221 294.118125 \nL 1201.334221 289.406306 \nL 1172.889021 289.406306 \nz\n\" style=\"fill:#1f77b4;\"/>\n   </g>\n   <g id=\"patch_34\">\n    <path clip-path=\"url(#pd41d8ea8af)\" d=\"M 1208.445521 294.118125 \nL 1236.890721 294.118125 \nL 1236.890721 291.863477 \nL 1208.445521 291.863477 \nz\n\" style=\"fill:#1f77b4;\"/>\n   </g>\n   <g id=\"patch_35\">\n    <path clip-path=\"url(#pd41d8ea8af)\" d=\"M 1244.00202 294.118125 \nL 1272.44722 294.118125 \nL 1272.44722 289.992633 \nL 1244.00202 289.992633 \nz\n\" style=\"fill:#1f77b4;\"/>\n   </g>\n   <g id=\"patch_36\">\n    <path clip-path=\"url(#pd41d8ea8af)\" d=\"M 1279.55852 294.118125 \nL 1308.00372 294.118125 \nL 1308.00372 290.80796 \nL 1279.55852 290.80796 \nz\n\" style=\"fill:#1f77b4;\"/>\n   </g>\n   <g id=\"patch_37\">\n    <path clip-path=\"url(#pd41d8ea8af)\" d=\"M 1315.11502 294.118125 \nL 1343.560219 294.118125 \nL 1343.560219 289.757325 \nL 1315.11502 289.757325 \nz\n\" style=\"fill:#1f77b4;\"/>\n   </g>\n   <g id=\"patch_38\">\n    <path clip-path=\"url(#pd41d8ea8af)\" d=\"M 1350.671519 294.118125 \nL 1379.116719 294.118125 \nL 1379.116719 289.994152 \nL 1350.671519 289.994152 \nz\n\" style=\"fill:#1f77b4;\"/>\n   </g>\n   <g id=\"patch_39\">\n    <path clip-path=\"url(#pd41d8ea8af)\" d=\"M 1386.228019 294.118125 \nL 1414.673218 294.118125 \nL 1414.673218 289.590416 \nL 1386.228019 289.590416 \nz\n\" style=\"fill:#1f77b4;\"/>\n   </g>\n   <g id=\"patch_40\">\n    <path clip-path=\"url(#pd41d8ea8af)\" d=\"M 1421.784518 294.118125 \nL 1450.229718 294.118125 \nL 1450.229718 289.534131 \nL 1421.784518 289.534131 \nz\n\" style=\"fill:#1f77b4;\"/>\n   </g>\n   <g id=\"patch_41\">\n    <path clip-path=\"url(#pd41d8ea8af)\" d=\"M 1457.341018 294.118125 \nL 1485.786218 294.118125 \nL 1485.786218 289.903307 \nL 1457.341018 289.903307 \nz\n\" style=\"fill:#1f77b4;\"/>\n   </g>\n   <g id=\"patch_42\">\n    <path clip-path=\"url(#pd41d8ea8af)\" d=\"M 1492.897518 294.118125 \nL 1521.342717 294.118125 \nL 1521.342717 294.118125 \nL 1492.897518 294.118125 \nz\n\" style=\"fill:#1f77b4;\"/>\n   </g>\n   <g id=\"patch_43\">\n    <path clip-path=\"url(#pd41d8ea8af)\" d=\"M 1528.454017 294.118125 \nL 1556.899217 294.118125 \nL 1556.899217 290.843843 \nL 1528.454017 290.843843 \nz\n\" style=\"fill:#1f77b4;\"/>\n   </g>\n   <g id=\"patch_44\">\n    <path clip-path=\"url(#pd41d8ea8af)\" d=\"M 1564.010517 294.118125 \nL 1592.455716 294.118125 \nL 1592.455716 290.353321 \nL 1564.010517 290.353321 \nz\n\" style=\"fill:#1f77b4;\"/>\n   </g>\n   <g id=\"patch_45\">\n    <path clip-path=\"url(#pd41d8ea8af)\" d=\"M 1599.567016 294.118125 \nL 1628.012216 294.118125 \nL 1628.012216 35.260982 \nL 1599.567016 35.260982 \nz\n\" style=\"fill:#1f77b4;\"/>\n   </g>\n   <g id=\"matplotlib.axis_1\">\n    <g id=\"xtick_1\">\n     <g id=\"line2d_1\">\n      <defs>\n       <path d=\"M 0 0 \nL 0 3.5 \n\" id=\"m50b668ef0d\" style=\"stroke:#000000;stroke-width:0.8;\"/>\n      </defs>\n      <g>\n       <use style=\"stroke:#000000;stroke-width:0.8;\" x=\"120.416634\" xlink:href=\"#m50b668ef0d\" y=\"294.118125\"/>\n      </g>\n     </g>\n     <g id=\"text_1\">\n      <!-- 0 -->\n      <g transform=\"translate(117.235384 308.716563)scale(0.1 -0.1)\">\n       <defs>\n        <path d=\"M 31.78125 66.40625 \nQ 24.171875 66.40625 20.328125 58.90625 \nQ 16.5 51.421875 16.5 36.375 \nQ 16.5 21.390625 20.328125 13.890625 \nQ 24.171875 6.390625 31.78125 6.390625 \nQ 39.453125 6.390625 43.28125 13.890625 \nQ 47.125 21.390625 47.125 36.375 \nQ 47.125 51.421875 43.28125 58.90625 \nQ 39.453125 66.40625 31.78125 66.40625 \nz\nM 31.78125 74.21875 \nQ 44.046875 74.21875 50.515625 64.515625 \nQ 56.984375 54.828125 56.984375 36.375 \nQ 56.984375 17.96875 50.515625 8.265625 \nQ 44.046875 -1.421875 31.78125 -1.421875 \nQ 19.53125 -1.421875 13.0625 8.265625 \nQ 6.59375 17.96875 6.59375 36.375 \nQ 6.59375 54.828125 13.0625 64.515625 \nQ 19.53125 74.21875 31.78125 74.21875 \nz\n\" id=\"DejaVuSans-48\"/>\n       </defs>\n       <use xlink:href=\"#DejaVuSans-48\"/>\n      </g>\n     </g>\n    </g>\n    <g id=\"xtick_2\">\n     <g id=\"line2d_2\">\n      <g>\n       <use style=\"stroke:#000000;stroke-width:0.8;\" x=\"475.98163\" xlink:href=\"#m50b668ef0d\" y=\"294.118125\"/>\n      </g>\n     </g>\n     <g id=\"text_2\">\n      <!-- 10 -->\n      <g transform=\"translate(469.61913 308.716563)scale(0.1 -0.1)\">\n       <defs>\n        <path d=\"M 12.40625 8.296875 \nL 28.515625 8.296875 \nL 28.515625 63.921875 \nL 10.984375 60.40625 \nL 10.984375 69.390625 \nL 28.421875 72.90625 \nL 38.28125 72.90625 \nL 38.28125 8.296875 \nL 54.390625 8.296875 \nL 54.390625 0 \nL 12.40625 0 \nz\n\" id=\"DejaVuSans-49\"/>\n       </defs>\n       <use xlink:href=\"#DejaVuSans-49\"/>\n       <use x=\"63.623047\" xlink:href=\"#DejaVuSans-48\"/>\n      </g>\n     </g>\n    </g>\n    <g id=\"xtick_3\">\n     <g id=\"line2d_3\">\n      <g>\n       <use style=\"stroke:#000000;stroke-width:0.8;\" x=\"831.546625\" xlink:href=\"#m50b668ef0d\" y=\"294.118125\"/>\n      </g>\n     </g>\n     <g id=\"text_3\">\n      <!-- 20 -->\n      <g transform=\"translate(825.184125 308.716563)scale(0.1 -0.1)\">\n       <defs>\n        <path d=\"M 19.1875 8.296875 \nL 53.609375 8.296875 \nL 53.609375 0 \nL 7.328125 0 \nL 7.328125 8.296875 \nQ 12.9375 14.109375 22.625 23.890625 \nQ 32.328125 33.6875 34.8125 36.53125 \nQ 39.546875 41.84375 41.421875 45.53125 \nQ 43.3125 49.21875 43.3125 52.78125 \nQ 43.3125 58.59375 39.234375 62.25 \nQ 35.15625 65.921875 28.609375 65.921875 \nQ 23.96875 65.921875 18.8125 64.3125 \nQ 13.671875 62.703125 7.8125 59.421875 \nL 7.8125 69.390625 \nQ 13.765625 71.78125 18.9375 73 \nQ 24.125 74.21875 28.421875 74.21875 \nQ 39.75 74.21875 46.484375 68.546875 \nQ 53.21875 62.890625 53.21875 53.421875 \nQ 53.21875 48.921875 51.53125 44.890625 \nQ 49.859375 40.875 45.40625 35.40625 \nQ 44.1875 33.984375 37.640625 27.21875 \nQ 31.109375 20.453125 19.1875 8.296875 \nz\n\" id=\"DejaVuSans-50\"/>\n       </defs>\n       <use xlink:href=\"#DejaVuSans-50\"/>\n       <use x=\"63.623047\" xlink:href=\"#DejaVuSans-48\"/>\n      </g>\n     </g>\n    </g>\n    <g id=\"xtick_4\">\n     <g id=\"line2d_4\">\n      <g>\n       <use style=\"stroke:#000000;stroke-width:0.8;\" x=\"1187.111621\" xlink:href=\"#m50b668ef0d\" y=\"294.118125\"/>\n      </g>\n     </g>\n     <g id=\"text_4\">\n      <!-- 30 -->\n      <g transform=\"translate(1180.749121 308.716563)scale(0.1 -0.1)\">\n       <defs>\n        <path d=\"M 40.578125 39.3125 \nQ 47.65625 37.796875 51.625 33 \nQ 55.609375 28.21875 55.609375 21.1875 \nQ 55.609375 10.40625 48.1875 4.484375 \nQ 40.765625 -1.421875 27.09375 -1.421875 \nQ 22.515625 -1.421875 17.65625 -0.515625 \nQ 12.796875 0.390625 7.625 2.203125 \nL 7.625 11.71875 \nQ 11.71875 9.328125 16.59375 8.109375 \nQ 21.484375 6.890625 26.8125 6.890625 \nQ 36.078125 6.890625 40.9375 10.546875 \nQ 45.796875 14.203125 45.796875 21.1875 \nQ 45.796875 27.640625 41.28125 31.265625 \nQ 36.765625 34.90625 28.71875 34.90625 \nL 20.21875 34.90625 \nL 20.21875 43.015625 \nL 29.109375 43.015625 \nQ 36.375 43.015625 40.234375 45.921875 \nQ 44.09375 48.828125 44.09375 54.296875 \nQ 44.09375 59.90625 40.109375 62.90625 \nQ 36.140625 65.921875 28.71875 65.921875 \nQ 24.65625 65.921875 20.015625 65.03125 \nQ 15.375 64.15625 9.8125 62.3125 \nL 9.8125 71.09375 \nQ 15.4375 72.65625 20.34375 73.4375 \nQ 25.25 74.21875 29.59375 74.21875 \nQ 40.828125 74.21875 47.359375 69.109375 \nQ 53.90625 64.015625 53.90625 55.328125 \nQ 53.90625 49.265625 50.4375 45.09375 \nQ 46.96875 40.921875 40.578125 39.3125 \nz\n\" id=\"DejaVuSans-51\"/>\n       </defs>\n       <use xlink:href=\"#DejaVuSans-51\"/>\n       <use x=\"63.623047\" xlink:href=\"#DejaVuSans-48\"/>\n      </g>\n     </g>\n    </g>\n    <g id=\"xtick_5\">\n     <g id=\"line2d_5\">\n      <g>\n       <use style=\"stroke:#000000;stroke-width:0.8;\" x=\"1542.676617\" xlink:href=\"#m50b668ef0d\" y=\"294.118125\"/>\n      </g>\n     </g>\n     <g id=\"text_5\">\n      <!-- 40 -->\n      <g transform=\"translate(1536.314117 308.716563)scale(0.1 -0.1)\">\n       <defs>\n        <path d=\"M 37.796875 64.3125 \nL 12.890625 25.390625 \nL 37.796875 25.390625 \nz\nM 35.203125 72.90625 \nL 47.609375 72.90625 \nL 47.609375 25.390625 \nL 58.015625 25.390625 \nL 58.015625 17.1875 \nL 47.609375 17.1875 \nL 47.609375 0 \nL 37.796875 0 \nL 37.796875 17.1875 \nL 4.890625 17.1875 \nL 4.890625 26.703125 \nz\n\" id=\"DejaVuSans-52\"/>\n       </defs>\n       <use xlink:href=\"#DejaVuSans-52\"/>\n       <use x=\"63.623047\" xlink:href=\"#DejaVuSans-48\"/>\n      </g>\n     </g>\n    </g>\n   </g>\n   <g id=\"matplotlib.axis_2\">\n    <g id=\"ytick_1\">\n     <g id=\"line2d_6\">\n      <defs>\n       <path d=\"M 0 0 \nL -3.5 0 \n\" id=\"m75954f7aeb\" style=\"stroke:#000000;stroke-width:0.8;\"/>\n      </defs>\n      <g>\n       <use style=\"stroke:#000000;stroke-width:0.8;\" x=\"30.103125\" xlink:href=\"#m75954f7aeb\" y=\"294.118125\"/>\n      </g>\n     </g>\n     <g id=\"text_6\">\n      <!-- 0.0 -->\n      <g transform=\"translate(7.2 297.917344)scale(0.1 -0.1)\">\n       <defs>\n        <path d=\"M 10.6875 12.40625 \nL 21 12.40625 \nL 21 0 \nL 10.6875 0 \nz\n\" id=\"DejaVuSans-46\"/>\n       </defs>\n       <use xlink:href=\"#DejaVuSans-48\"/>\n       <use x=\"63.623047\" xlink:href=\"#DejaVuSans-46\"/>\n       <use x=\"95.410156\" xlink:href=\"#DejaVuSans-48\"/>\n      </g>\n     </g>\n    </g>\n    <g id=\"ytick_2\">\n     <g id=\"line2d_7\">\n      <g>\n       <use style=\"stroke:#000000;stroke-width:0.8;\" x=\"30.103125\" xlink:href=\"#m75954f7aeb\" y=\"253.730388\"/>\n      </g>\n     </g>\n     <g id=\"text_7\">\n      <!-- 0.1 -->\n      <g transform=\"translate(7.2 257.529607)scale(0.1 -0.1)\">\n       <use xlink:href=\"#DejaVuSans-48\"/>\n       <use x=\"63.623047\" xlink:href=\"#DejaVuSans-46\"/>\n       <use x=\"95.410156\" xlink:href=\"#DejaVuSans-49\"/>\n      </g>\n     </g>\n    </g>\n    <g id=\"ytick_3\">\n     <g id=\"line2d_8\">\n      <g>\n       <use style=\"stroke:#000000;stroke-width:0.8;\" x=\"30.103125\" xlink:href=\"#m75954f7aeb\" y=\"213.342652\"/>\n      </g>\n     </g>\n     <g id=\"text_8\">\n      <!-- 0.2 -->\n      <g transform=\"translate(7.2 217.141871)scale(0.1 -0.1)\">\n       <use xlink:href=\"#DejaVuSans-48\"/>\n       <use x=\"63.623047\" xlink:href=\"#DejaVuSans-46\"/>\n       <use x=\"95.410156\" xlink:href=\"#DejaVuSans-50\"/>\n      </g>\n     </g>\n    </g>\n    <g id=\"ytick_4\">\n     <g id=\"line2d_9\">\n      <g>\n       <use style=\"stroke:#000000;stroke-width:0.8;\" x=\"30.103125\" xlink:href=\"#m75954f7aeb\" y=\"172.954915\"/>\n      </g>\n     </g>\n     <g id=\"text_9\">\n      <!-- 0.3 -->\n      <g transform=\"translate(7.2 176.754134)scale(0.1 -0.1)\">\n       <use xlink:href=\"#DejaVuSans-48\"/>\n       <use x=\"63.623047\" xlink:href=\"#DejaVuSans-46\"/>\n       <use x=\"95.410156\" xlink:href=\"#DejaVuSans-51\"/>\n      </g>\n     </g>\n    </g>\n    <g id=\"ytick_5\">\n     <g id=\"line2d_10\">\n      <g>\n       <use style=\"stroke:#000000;stroke-width:0.8;\" x=\"30.103125\" xlink:href=\"#m75954f7aeb\" y=\"132.567179\"/>\n      </g>\n     </g>\n     <g id=\"text_10\">\n      <!-- 0.4 -->\n      <g transform=\"translate(7.2 136.366397)scale(0.1 -0.1)\">\n       <use xlink:href=\"#DejaVuSans-48\"/>\n       <use x=\"63.623047\" xlink:href=\"#DejaVuSans-46\"/>\n       <use x=\"95.410156\" xlink:href=\"#DejaVuSans-52\"/>\n      </g>\n     </g>\n    </g>\n    <g id=\"ytick_6\">\n     <g id=\"line2d_11\">\n      <g>\n       <use style=\"stroke:#000000;stroke-width:0.8;\" x=\"30.103125\" xlink:href=\"#m75954f7aeb\" y=\"92.179442\"/>\n      </g>\n     </g>\n     <g id=\"text_11\">\n      <!-- 0.5 -->\n      <g transform=\"translate(7.2 95.978661)scale(0.1 -0.1)\">\n       <defs>\n        <path d=\"M 10.796875 72.90625 \nL 49.515625 72.90625 \nL 49.515625 64.59375 \nL 19.828125 64.59375 \nL 19.828125 46.734375 \nQ 21.96875 47.46875 24.109375 47.828125 \nQ 26.265625 48.1875 28.421875 48.1875 \nQ 40.625 48.1875 47.75 41.5 \nQ 54.890625 34.8125 54.890625 23.390625 \nQ 54.890625 11.625 47.5625 5.09375 \nQ 40.234375 -1.421875 26.90625 -1.421875 \nQ 22.3125 -1.421875 17.546875 -0.640625 \nQ 12.796875 0.140625 7.71875 1.703125 \nL 7.71875 11.625 \nQ 12.109375 9.234375 16.796875 8.0625 \nQ 21.484375 6.890625 26.703125 6.890625 \nQ 35.15625 6.890625 40.078125 11.328125 \nQ 45.015625 15.765625 45.015625 23.390625 \nQ 45.015625 31 40.078125 35.4375 \nQ 35.15625 39.890625 26.703125 39.890625 \nQ 22.75 39.890625 18.8125 39.015625 \nQ 14.890625 38.140625 10.796875 36.28125 \nz\n\" id=\"DejaVuSans-53\"/>\n       </defs>\n       <use xlink:href=\"#DejaVuSans-48\"/>\n       <use x=\"63.623047\" xlink:href=\"#DejaVuSans-46\"/>\n       <use x=\"95.410156\" xlink:href=\"#DejaVuSans-53\"/>\n      </g>\n     </g>\n    </g>\n    <g id=\"ytick_7\">\n     <g id=\"line2d_12\">\n      <g>\n       <use style=\"stroke:#000000;stroke-width:0.8;\" x=\"30.103125\" xlink:href=\"#m75954f7aeb\" y=\"51.791706\"/>\n      </g>\n     </g>\n     <g id=\"text_12\">\n      <!-- 0.6 -->\n      <g transform=\"translate(7.2 55.590924)scale(0.1 -0.1)\">\n       <defs>\n        <path d=\"M 33.015625 40.375 \nQ 26.375 40.375 22.484375 35.828125 \nQ 18.609375 31.296875 18.609375 23.390625 \nQ 18.609375 15.53125 22.484375 10.953125 \nQ 26.375 6.390625 33.015625 6.390625 \nQ 39.65625 6.390625 43.53125 10.953125 \nQ 47.40625 15.53125 47.40625 23.390625 \nQ 47.40625 31.296875 43.53125 35.828125 \nQ 39.65625 40.375 33.015625 40.375 \nz\nM 52.59375 71.296875 \nL 52.59375 62.3125 \nQ 48.875 64.0625 45.09375 64.984375 \nQ 41.3125 65.921875 37.59375 65.921875 \nQ 27.828125 65.921875 22.671875 59.328125 \nQ 17.53125 52.734375 16.796875 39.40625 \nQ 19.671875 43.65625 24.015625 45.921875 \nQ 28.375 48.1875 33.59375 48.1875 \nQ 44.578125 48.1875 50.953125 41.515625 \nQ 57.328125 34.859375 57.328125 23.390625 \nQ 57.328125 12.15625 50.6875 5.359375 \nQ 44.046875 -1.421875 33.015625 -1.421875 \nQ 20.359375 -1.421875 13.671875 8.265625 \nQ 6.984375 17.96875 6.984375 36.375 \nQ 6.984375 53.65625 15.1875 63.9375 \nQ 23.390625 74.21875 37.203125 74.21875 \nQ 40.921875 74.21875 44.703125 73.484375 \nQ 48.484375 72.75 52.59375 71.296875 \nz\n\" id=\"DejaVuSans-54\"/>\n       </defs>\n       <use xlink:href=\"#DejaVuSans-48\"/>\n       <use x=\"63.623047\" xlink:href=\"#DejaVuSans-46\"/>\n       <use x=\"95.410156\" xlink:href=\"#DejaVuSans-54\"/>\n      </g>\n     </g>\n    </g>\n   </g>\n   <g id=\"patch_46\">\n    <path d=\"M 30.103125 294.118125 \nL 30.103125 22.318125 \n\" style=\"fill:none;stroke:#000000;stroke-linecap:square;stroke-linejoin:miter;stroke-width:0.8;\"/>\n   </g>\n   <g id=\"patch_47\">\n    <path d=\"M 1704.103125 294.118125 \nL 1704.103125 22.318125 \n\" style=\"fill:none;stroke:#000000;stroke-linecap:square;stroke-linejoin:miter;stroke-width:0.8;\"/>\n   </g>\n   <g id=\"patch_48\">\n    <path d=\"M 30.103125 294.118125 \nL 1704.103125 294.118125 \n\" style=\"fill:none;stroke:#000000;stroke-linecap:square;stroke-linejoin:miter;stroke-width:0.8;\"/>\n   </g>\n   <g id=\"patch_49\">\n    <path d=\"M 30.103125 22.318125 \nL 1704.103125 22.318125 \n\" style=\"fill:none;stroke:#000000;stroke-linecap:square;stroke-linejoin:miter;stroke-width:0.8;\"/>\n   </g>\n   <g id=\"text_13\">\n    <!-- Feature Importance in XGBoost Classification for Sell Signal -->\n    <g transform=\"translate(688.322813 16.318125)scale(0.12 -0.12)\">\n     <defs>\n      <path d=\"M 9.8125 72.90625 \nL 51.703125 72.90625 \nL 51.703125 64.59375 \nL 19.671875 64.59375 \nL 19.671875 43.109375 \nL 48.578125 43.109375 \nL 48.578125 34.8125 \nL 19.671875 34.8125 \nL 19.671875 0 \nL 9.8125 0 \nz\n\" id=\"DejaVuSans-70\"/>\n      <path d=\"M 56.203125 29.59375 \nL 56.203125 25.203125 \nL 14.890625 25.203125 \nQ 15.484375 15.921875 20.484375 11.0625 \nQ 25.484375 6.203125 34.421875 6.203125 \nQ 39.59375 6.203125 44.453125 7.46875 \nQ 49.3125 8.734375 54.109375 11.28125 \nL 54.109375 2.78125 \nQ 49.265625 0.734375 44.1875 -0.34375 \nQ 39.109375 -1.421875 33.890625 -1.421875 \nQ 20.796875 -1.421875 13.15625 6.1875 \nQ 5.515625 13.8125 5.515625 26.8125 \nQ 5.515625 40.234375 12.765625 48.109375 \nQ 20.015625 56 32.328125 56 \nQ 43.359375 56 49.78125 48.890625 \nQ 56.203125 41.796875 56.203125 29.59375 \nz\nM 47.21875 32.234375 \nQ 47.125 39.59375 43.09375 43.984375 \nQ 39.0625 48.390625 32.421875 48.390625 \nQ 24.90625 48.390625 20.390625 44.140625 \nQ 15.875 39.890625 15.1875 32.171875 \nz\n\" id=\"DejaVuSans-101\"/>\n      <path d=\"M 34.28125 27.484375 \nQ 23.390625 27.484375 19.1875 25 \nQ 14.984375 22.515625 14.984375 16.5 \nQ 14.984375 11.71875 18.140625 8.90625 \nQ 21.296875 6.109375 26.703125 6.109375 \nQ 34.1875 6.109375 38.703125 11.40625 \nQ 43.21875 16.703125 43.21875 25.484375 \nL 43.21875 27.484375 \nz\nM 52.203125 31.203125 \nL 52.203125 0 \nL 43.21875 0 \nL 43.21875 8.296875 \nQ 40.140625 3.328125 35.546875 0.953125 \nQ 30.953125 -1.421875 24.3125 -1.421875 \nQ 15.921875 -1.421875 10.953125 3.296875 \nQ 6 8.015625 6 15.921875 \nQ 6 25.140625 12.171875 29.828125 \nQ 18.359375 34.515625 30.609375 34.515625 \nL 43.21875 34.515625 \nL 43.21875 35.40625 \nQ 43.21875 41.609375 39.140625 45 \nQ 35.0625 48.390625 27.6875 48.390625 \nQ 23 48.390625 18.546875 47.265625 \nQ 14.109375 46.140625 10.015625 43.890625 \nL 10.015625 52.203125 \nQ 14.9375 54.109375 19.578125 55.046875 \nQ 24.21875 56 28.609375 56 \nQ 40.484375 56 46.34375 49.84375 \nQ 52.203125 43.703125 52.203125 31.203125 \nz\n\" id=\"DejaVuSans-97\"/>\n      <path d=\"M 18.3125 70.21875 \nL 18.3125 54.6875 \nL 36.8125 54.6875 \nL 36.8125 47.703125 \nL 18.3125 47.703125 \nL 18.3125 18.015625 \nQ 18.3125 11.328125 20.140625 9.421875 \nQ 21.96875 7.515625 27.59375 7.515625 \nL 36.8125 7.515625 \nL 36.8125 0 \nL 27.59375 0 \nQ 17.1875 0 13.234375 3.875 \nQ 9.28125 7.765625 9.28125 18.015625 \nL 9.28125 47.703125 \nL 2.6875 47.703125 \nL 2.6875 54.6875 \nL 9.28125 54.6875 \nL 9.28125 70.21875 \nz\n\" id=\"DejaVuSans-116\"/>\n      <path d=\"M 8.5 21.578125 \nL 8.5 54.6875 \nL 17.484375 54.6875 \nL 17.484375 21.921875 \nQ 17.484375 14.15625 20.5 10.265625 \nQ 23.53125 6.390625 29.59375 6.390625 \nQ 36.859375 6.390625 41.078125 11.03125 \nQ 45.3125 15.671875 45.3125 23.6875 \nL 45.3125 54.6875 \nL 54.296875 54.6875 \nL 54.296875 0 \nL 45.3125 0 \nL 45.3125 8.40625 \nQ 42.046875 3.421875 37.71875 1 \nQ 33.40625 -1.421875 27.6875 -1.421875 \nQ 18.265625 -1.421875 13.375 4.4375 \nQ 8.5 10.296875 8.5 21.578125 \nz\nM 31.109375 56 \nz\n\" id=\"DejaVuSans-117\"/>\n      <path d=\"M 41.109375 46.296875 \nQ 39.59375 47.171875 37.8125 47.578125 \nQ 36.03125 48 33.890625 48 \nQ 26.265625 48 22.1875 43.046875 \nQ 18.109375 38.09375 18.109375 28.8125 \nL 18.109375 0 \nL 9.078125 0 \nL 9.078125 54.6875 \nL 18.109375 54.6875 \nL 18.109375 46.1875 \nQ 20.953125 51.171875 25.484375 53.578125 \nQ 30.03125 56 36.53125 56 \nQ 37.453125 56 38.578125 55.875 \nQ 39.703125 55.765625 41.0625 55.515625 \nz\n\" id=\"DejaVuSans-114\"/>\n      <path id=\"DejaVuSans-32\"/>\n      <path d=\"M 9.8125 72.90625 \nL 19.671875 72.90625 \nL 19.671875 0 \nL 9.8125 0 \nz\n\" id=\"DejaVuSans-73\"/>\n      <path d=\"M 52 44.1875 \nQ 55.375 50.25 60.0625 53.125 \nQ 64.75 56 71.09375 56 \nQ 79.640625 56 84.28125 50.015625 \nQ 88.921875 44.046875 88.921875 33.015625 \nL 88.921875 0 \nL 79.890625 0 \nL 79.890625 32.71875 \nQ 79.890625 40.578125 77.09375 44.375 \nQ 74.3125 48.1875 68.609375 48.1875 \nQ 61.625 48.1875 57.5625 43.546875 \nQ 53.515625 38.921875 53.515625 30.90625 \nL 53.515625 0 \nL 44.484375 0 \nL 44.484375 32.71875 \nQ 44.484375 40.625 41.703125 44.40625 \nQ 38.921875 48.1875 33.109375 48.1875 \nQ 26.21875 48.1875 22.15625 43.53125 \nQ 18.109375 38.875 18.109375 30.90625 \nL 18.109375 0 \nL 9.078125 0 \nL 9.078125 54.6875 \nL 18.109375 54.6875 \nL 18.109375 46.1875 \nQ 21.1875 51.21875 25.484375 53.609375 \nQ 29.78125 56 35.6875 56 \nQ 41.65625 56 45.828125 52.96875 \nQ 50 49.953125 52 44.1875 \nz\n\" id=\"DejaVuSans-109\"/>\n      <path d=\"M 18.109375 8.203125 \nL 18.109375 -20.796875 \nL 9.078125 -20.796875 \nL 9.078125 54.6875 \nL 18.109375 54.6875 \nL 18.109375 46.390625 \nQ 20.953125 51.265625 25.265625 53.625 \nQ 29.59375 56 35.59375 56 \nQ 45.5625 56 51.78125 48.09375 \nQ 58.015625 40.1875 58.015625 27.296875 \nQ 58.015625 14.40625 51.78125 6.484375 \nQ 45.5625 -1.421875 35.59375 -1.421875 \nQ 29.59375 -1.421875 25.265625 0.953125 \nQ 20.953125 3.328125 18.109375 8.203125 \nz\nM 48.6875 27.296875 \nQ 48.6875 37.203125 44.609375 42.84375 \nQ 40.53125 48.484375 33.40625 48.484375 \nQ 26.265625 48.484375 22.1875 42.84375 \nQ 18.109375 37.203125 18.109375 27.296875 \nQ 18.109375 17.390625 22.1875 11.75 \nQ 26.265625 6.109375 33.40625 6.109375 \nQ 40.53125 6.109375 44.609375 11.75 \nQ 48.6875 17.390625 48.6875 27.296875 \nz\n\" id=\"DejaVuSans-112\"/>\n      <path d=\"M 30.609375 48.390625 \nQ 23.390625 48.390625 19.1875 42.75 \nQ 14.984375 37.109375 14.984375 27.296875 \nQ 14.984375 17.484375 19.15625 11.84375 \nQ 23.34375 6.203125 30.609375 6.203125 \nQ 37.796875 6.203125 41.984375 11.859375 \nQ 46.1875 17.53125 46.1875 27.296875 \nQ 46.1875 37.015625 41.984375 42.703125 \nQ 37.796875 48.390625 30.609375 48.390625 \nz\nM 30.609375 56 \nQ 42.328125 56 49.015625 48.375 \nQ 55.71875 40.765625 55.71875 27.296875 \nQ 55.71875 13.875 49.015625 6.21875 \nQ 42.328125 -1.421875 30.609375 -1.421875 \nQ 18.84375 -1.421875 12.171875 6.21875 \nQ 5.515625 13.875 5.515625 27.296875 \nQ 5.515625 40.765625 12.171875 48.375 \nQ 18.84375 56 30.609375 56 \nz\n\" id=\"DejaVuSans-111\"/>\n      <path d=\"M 54.890625 33.015625 \nL 54.890625 0 \nL 45.90625 0 \nL 45.90625 32.71875 \nQ 45.90625 40.484375 42.875 44.328125 \nQ 39.84375 48.1875 33.796875 48.1875 \nQ 26.515625 48.1875 22.3125 43.546875 \nQ 18.109375 38.921875 18.109375 30.90625 \nL 18.109375 0 \nL 9.078125 0 \nL 9.078125 54.6875 \nL 18.109375 54.6875 \nL 18.109375 46.1875 \nQ 21.34375 51.125 25.703125 53.5625 \nQ 30.078125 56 35.796875 56 \nQ 45.21875 56 50.046875 50.171875 \nQ 54.890625 44.34375 54.890625 33.015625 \nz\n\" id=\"DejaVuSans-110\"/>\n      <path d=\"M 48.78125 52.59375 \nL 48.78125 44.1875 \nQ 44.96875 46.296875 41.140625 47.34375 \nQ 37.3125 48.390625 33.40625 48.390625 \nQ 24.65625 48.390625 19.8125 42.84375 \nQ 14.984375 37.3125 14.984375 27.296875 \nQ 14.984375 17.28125 19.8125 11.734375 \nQ 24.65625 6.203125 33.40625 6.203125 \nQ 37.3125 6.203125 41.140625 7.25 \nQ 44.96875 8.296875 48.78125 10.40625 \nL 48.78125 2.09375 \nQ 45.015625 0.34375 40.984375 -0.53125 \nQ 36.96875 -1.421875 32.421875 -1.421875 \nQ 20.0625 -1.421875 12.78125 6.34375 \nQ 5.515625 14.109375 5.515625 27.296875 \nQ 5.515625 40.671875 12.859375 48.328125 \nQ 20.21875 56 33.015625 56 \nQ 37.15625 56 41.109375 55.140625 \nQ 45.0625 54.296875 48.78125 52.59375 \nz\n\" id=\"DejaVuSans-99\"/>\n      <path d=\"M 9.421875 54.6875 \nL 18.40625 54.6875 \nL 18.40625 0 \nL 9.421875 0 \nz\nM 9.421875 75.984375 \nL 18.40625 75.984375 \nL 18.40625 64.59375 \nL 9.421875 64.59375 \nz\n\" id=\"DejaVuSans-105\"/>\n      <path d=\"M 6.296875 72.90625 \nL 16.890625 72.90625 \nL 35.015625 45.796875 \nL 53.21875 72.90625 \nL 63.8125 72.90625 \nL 40.375 37.890625 \nL 65.375 0 \nL 54.78125 0 \nL 34.28125 31 \nL 13.625 0 \nL 2.984375 0 \nL 29 38.921875 \nz\n\" id=\"DejaVuSans-88\"/>\n      <path d=\"M 59.515625 10.40625 \nL 59.515625 29.984375 \nL 43.40625 29.984375 \nL 43.40625 38.09375 \nL 69.28125 38.09375 \nL 69.28125 6.78125 \nQ 63.578125 2.734375 56.6875 0.65625 \nQ 49.8125 -1.421875 42 -1.421875 \nQ 24.90625 -1.421875 15.25 8.5625 \nQ 5.609375 18.5625 5.609375 36.375 \nQ 5.609375 54.25 15.25 64.234375 \nQ 24.90625 74.21875 42 74.21875 \nQ 49.125 74.21875 55.546875 72.453125 \nQ 61.96875 70.703125 67.390625 67.28125 \nL 67.390625 56.78125 \nQ 61.921875 61.421875 55.765625 63.765625 \nQ 49.609375 66.109375 42.828125 66.109375 \nQ 29.4375 66.109375 22.71875 58.640625 \nQ 16.015625 51.171875 16.015625 36.375 \nQ 16.015625 21.625 22.71875 14.15625 \nQ 29.4375 6.6875 42.828125 6.6875 \nQ 48.046875 6.6875 52.140625 7.59375 \nQ 56.25 8.5 59.515625 10.40625 \nz\n\" id=\"DejaVuSans-71\"/>\n      <path d=\"M 19.671875 34.8125 \nL 19.671875 8.109375 \nL 35.5 8.109375 \nQ 43.453125 8.109375 47.28125 11.40625 \nQ 51.125 14.703125 51.125 21.484375 \nQ 51.125 28.328125 47.28125 31.5625 \nQ 43.453125 34.8125 35.5 34.8125 \nz\nM 19.671875 64.796875 \nL 19.671875 42.828125 \nL 34.28125 42.828125 \nQ 41.5 42.828125 45.03125 45.53125 \nQ 48.578125 48.25 48.578125 53.8125 \nQ 48.578125 59.328125 45.03125 62.0625 \nQ 41.5 64.796875 34.28125 64.796875 \nz\nM 9.8125 72.90625 \nL 35.015625 72.90625 \nQ 46.296875 72.90625 52.390625 68.21875 \nQ 58.5 63.53125 58.5 54.890625 \nQ 58.5 48.1875 55.375 44.234375 \nQ 52.25 40.28125 46.1875 39.3125 \nQ 53.46875 37.75 57.5 32.78125 \nQ 61.53125 27.828125 61.53125 20.40625 \nQ 61.53125 10.640625 54.890625 5.3125 \nQ 48.25 0 35.984375 0 \nL 9.8125 0 \nz\n\" id=\"DejaVuSans-66\"/>\n      <path d=\"M 44.28125 53.078125 \nL 44.28125 44.578125 \nQ 40.484375 46.53125 36.375 47.5 \nQ 32.28125 48.484375 27.875 48.484375 \nQ 21.1875 48.484375 17.84375 46.4375 \nQ 14.5 44.390625 14.5 40.28125 \nQ 14.5 37.15625 16.890625 35.375 \nQ 19.28125 33.59375 26.515625 31.984375 \nL 29.59375 31.296875 \nQ 39.15625 29.25 43.1875 25.515625 \nQ 47.21875 21.78125 47.21875 15.09375 \nQ 47.21875 7.46875 41.1875 3.015625 \nQ 35.15625 -1.421875 24.609375 -1.421875 \nQ 20.21875 -1.421875 15.453125 -0.5625 \nQ 10.6875 0.296875 5.421875 2 \nL 5.421875 11.28125 \nQ 10.40625 8.6875 15.234375 7.390625 \nQ 20.0625 6.109375 24.8125 6.109375 \nQ 31.15625 6.109375 34.5625 8.28125 \nQ 37.984375 10.453125 37.984375 14.40625 \nQ 37.984375 18.0625 35.515625 20.015625 \nQ 33.0625 21.96875 24.703125 23.78125 \nL 21.578125 24.515625 \nQ 13.234375 26.265625 9.515625 29.90625 \nQ 5.8125 33.546875 5.8125 39.890625 \nQ 5.8125 47.609375 11.28125 51.796875 \nQ 16.75 56 26.8125 56 \nQ 31.78125 56 36.171875 55.265625 \nQ 40.578125 54.546875 44.28125 53.078125 \nz\n\" id=\"DejaVuSans-115\"/>\n      <path d=\"M 64.40625 67.28125 \nL 64.40625 56.890625 \nQ 59.421875 61.53125 53.78125 63.8125 \nQ 48.140625 66.109375 41.796875 66.109375 \nQ 29.296875 66.109375 22.65625 58.46875 \nQ 16.015625 50.828125 16.015625 36.375 \nQ 16.015625 21.96875 22.65625 14.328125 \nQ 29.296875 6.6875 41.796875 6.6875 \nQ 48.140625 6.6875 53.78125 8.984375 \nQ 59.421875 11.28125 64.40625 15.921875 \nL 64.40625 5.609375 \nQ 59.234375 2.09375 53.4375 0.328125 \nQ 47.65625 -1.421875 41.21875 -1.421875 \nQ 24.65625 -1.421875 15.125 8.703125 \nQ 5.609375 18.84375 5.609375 36.375 \nQ 5.609375 53.953125 15.125 64.078125 \nQ 24.65625 74.21875 41.21875 74.21875 \nQ 47.75 74.21875 53.53125 72.484375 \nQ 59.328125 70.75 64.40625 67.28125 \nz\n\" id=\"DejaVuSans-67\"/>\n      <path d=\"M 9.421875 75.984375 \nL 18.40625 75.984375 \nL 18.40625 0 \nL 9.421875 0 \nz\n\" id=\"DejaVuSans-108\"/>\n      <path d=\"M 37.109375 75.984375 \nL 37.109375 68.5 \nL 28.515625 68.5 \nQ 23.6875 68.5 21.796875 66.546875 \nQ 19.921875 64.59375 19.921875 59.515625 \nL 19.921875 54.6875 \nL 34.71875 54.6875 \nL 34.71875 47.703125 \nL 19.921875 47.703125 \nL 19.921875 0 \nL 10.890625 0 \nL 10.890625 47.703125 \nL 2.296875 47.703125 \nL 2.296875 54.6875 \nL 10.890625 54.6875 \nL 10.890625 58.5 \nQ 10.890625 67.625 15.140625 71.796875 \nQ 19.390625 75.984375 28.609375 75.984375 \nz\n\" id=\"DejaVuSans-102\"/>\n      <path d=\"M 53.515625 70.515625 \nL 53.515625 60.890625 \nQ 47.90625 63.578125 42.921875 64.890625 \nQ 37.9375 66.21875 33.296875 66.21875 \nQ 25.25 66.21875 20.875 63.09375 \nQ 16.5 59.96875 16.5 54.203125 \nQ 16.5 49.359375 19.40625 46.890625 \nQ 22.3125 44.4375 30.421875 42.921875 \nL 36.375 41.703125 \nQ 47.40625 39.59375 52.65625 34.296875 \nQ 57.90625 29 57.90625 20.125 \nQ 57.90625 9.515625 50.796875 4.046875 \nQ 43.703125 -1.421875 29.984375 -1.421875 \nQ 24.8125 -1.421875 18.96875 -0.25 \nQ 13.140625 0.921875 6.890625 3.21875 \nL 6.890625 13.375 \nQ 12.890625 10.015625 18.65625 8.296875 \nQ 24.421875 6.59375 29.984375 6.59375 \nQ 38.421875 6.59375 43.015625 9.90625 \nQ 47.609375 13.234375 47.609375 19.390625 \nQ 47.609375 24.75 44.3125 27.78125 \nQ 41.015625 30.8125 33.5 32.328125 \nL 27.484375 33.5 \nQ 16.453125 35.6875 11.515625 40.375 \nQ 6.59375 45.0625 6.59375 53.421875 \nQ 6.59375 63.09375 13.40625 68.65625 \nQ 20.21875 74.21875 32.171875 74.21875 \nQ 37.3125 74.21875 42.625 73.28125 \nQ 47.953125 72.359375 53.515625 70.515625 \nz\n\" id=\"DejaVuSans-83\"/>\n      <path d=\"M 45.40625 27.984375 \nQ 45.40625 37.75 41.375 43.109375 \nQ 37.359375 48.484375 30.078125 48.484375 \nQ 22.859375 48.484375 18.828125 43.109375 \nQ 14.796875 37.75 14.796875 27.984375 \nQ 14.796875 18.265625 18.828125 12.890625 \nQ 22.859375 7.515625 30.078125 7.515625 \nQ 37.359375 7.515625 41.375 12.890625 \nQ 45.40625 18.265625 45.40625 27.984375 \nz\nM 54.390625 6.78125 \nQ 54.390625 -7.171875 48.1875 -13.984375 \nQ 42 -20.796875 29.203125 -20.796875 \nQ 24.46875 -20.796875 20.265625 -20.09375 \nQ 16.0625 -19.390625 12.109375 -17.921875 \nL 12.109375 -9.1875 \nQ 16.0625 -11.328125 19.921875 -12.34375 \nQ 23.78125 -13.375 27.78125 -13.375 \nQ 36.625 -13.375 41.015625 -8.765625 \nQ 45.40625 -4.15625 45.40625 5.171875 \nL 45.40625 9.625 \nQ 42.625 4.78125 38.28125 2.390625 \nQ 33.9375 0 27.875 0 \nQ 17.828125 0 11.671875 7.65625 \nQ 5.515625 15.328125 5.515625 27.984375 \nQ 5.515625 40.671875 11.671875 48.328125 \nQ 17.828125 56 27.875 56 \nQ 33.9375 56 38.28125 53.609375 \nQ 42.625 51.21875 45.40625 46.390625 \nL 45.40625 54.6875 \nL 54.390625 54.6875 \nz\n\" id=\"DejaVuSans-103\"/>\n     </defs>\n     <use xlink:href=\"#DejaVuSans-70\"/>\n     <use x=\"52.019531\" xlink:href=\"#DejaVuSans-101\"/>\n     <use x=\"113.542969\" xlink:href=\"#DejaVuSans-97\"/>\n     <use x=\"174.822266\" xlink:href=\"#DejaVuSans-116\"/>\n     <use x=\"214.03125\" xlink:href=\"#DejaVuSans-117\"/>\n     <use x=\"277.410156\" xlink:href=\"#DejaVuSans-114\"/>\n     <use x=\"316.273438\" xlink:href=\"#DejaVuSans-101\"/>\n     <use x=\"377.796875\" xlink:href=\"#DejaVuSans-32\"/>\n     <use x=\"409.583984\" xlink:href=\"#DejaVuSans-73\"/>\n     <use x=\"439.076172\" xlink:href=\"#DejaVuSans-109\"/>\n     <use x=\"536.488281\" xlink:href=\"#DejaVuSans-112\"/>\n     <use x=\"599.964844\" xlink:href=\"#DejaVuSans-111\"/>\n     <use x=\"661.146484\" xlink:href=\"#DejaVuSans-114\"/>\n     <use x=\"702.259766\" xlink:href=\"#DejaVuSans-116\"/>\n     <use x=\"741.46875\" xlink:href=\"#DejaVuSans-97\"/>\n     <use x=\"802.748047\" xlink:href=\"#DejaVuSans-110\"/>\n     <use x=\"866.126953\" xlink:href=\"#DejaVuSans-99\"/>\n     <use x=\"921.107422\" xlink:href=\"#DejaVuSans-101\"/>\n     <use x=\"982.630859\" xlink:href=\"#DejaVuSans-32\"/>\n     <use x=\"1014.417969\" xlink:href=\"#DejaVuSans-105\"/>\n     <use x=\"1042.201172\" xlink:href=\"#DejaVuSans-110\"/>\n     <use x=\"1105.580078\" xlink:href=\"#DejaVuSans-32\"/>\n     <use x=\"1137.367188\" xlink:href=\"#DejaVuSans-88\"/>\n     <use x=\"1205.873047\" xlink:href=\"#DejaVuSans-71\"/>\n     <use x=\"1283.363281\" xlink:href=\"#DejaVuSans-66\"/>\n     <use x=\"1351.966797\" xlink:href=\"#DejaVuSans-111\"/>\n     <use x=\"1413.148438\" xlink:href=\"#DejaVuSans-111\"/>\n     <use x=\"1474.330078\" xlink:href=\"#DejaVuSans-115\"/>\n     <use x=\"1526.429688\" xlink:href=\"#DejaVuSans-116\"/>\n     <use x=\"1565.638672\" xlink:href=\"#DejaVuSans-32\"/>\n     <use x=\"1597.425781\" xlink:href=\"#DejaVuSans-67\"/>\n     <use x=\"1667.25\" xlink:href=\"#DejaVuSans-108\"/>\n     <use x=\"1695.033203\" xlink:href=\"#DejaVuSans-97\"/>\n     <use x=\"1756.3125\" xlink:href=\"#DejaVuSans-115\"/>\n     <use x=\"1808.412109\" xlink:href=\"#DejaVuSans-115\"/>\n     <use x=\"1860.511719\" xlink:href=\"#DejaVuSans-105\"/>\n     <use x=\"1888.294922\" xlink:href=\"#DejaVuSans-102\"/>\n     <use x=\"1923.5\" xlink:href=\"#DejaVuSans-105\"/>\n     <use x=\"1951.283203\" xlink:href=\"#DejaVuSans-99\"/>\n     <use x=\"2006.263672\" xlink:href=\"#DejaVuSans-97\"/>\n     <use x=\"2067.542969\" xlink:href=\"#DejaVuSans-116\"/>\n     <use x=\"2106.751953\" xlink:href=\"#DejaVuSans-105\"/>\n     <use x=\"2134.535156\" xlink:href=\"#DejaVuSans-111\"/>\n     <use x=\"2195.716797\" xlink:href=\"#DejaVuSans-110\"/>\n     <use x=\"2259.095703\" xlink:href=\"#DejaVuSans-32\"/>\n     <use x=\"2290.882812\" xlink:href=\"#DejaVuSans-102\"/>\n     <use x=\"2326.087891\" xlink:href=\"#DejaVuSans-111\"/>\n     <use x=\"2387.269531\" xlink:href=\"#DejaVuSans-114\"/>\n     <use x=\"2428.382812\" xlink:href=\"#DejaVuSans-32\"/>\n     <use x=\"2460.169922\" xlink:href=\"#DejaVuSans-83\"/>\n     <use x=\"2523.646484\" xlink:href=\"#DejaVuSans-101\"/>\n     <use x=\"2585.169922\" xlink:href=\"#DejaVuSans-108\"/>\n     <use x=\"2612.953125\" xlink:href=\"#DejaVuSans-108\"/>\n     <use x=\"2640.736328\" xlink:href=\"#DejaVuSans-32\"/>\n     <use x=\"2672.523438\" xlink:href=\"#DejaVuSans-83\"/>\n     <use x=\"2736\" xlink:href=\"#DejaVuSans-105\"/>\n     <use x=\"2763.783203\" xlink:href=\"#DejaVuSans-103\"/>\n     <use x=\"2827.259766\" xlink:href=\"#DejaVuSans-110\"/>\n     <use x=\"2890.638672\" xlink:href=\"#DejaVuSans-97\"/>\n     <use x=\"2951.917969\" xlink:href=\"#DejaVuSans-108\"/>\n    </g>\n   </g>\n  </g>\n </g>\n <defs>\n  <clipPath id=\"pd41d8ea8af\">\n   <rect height=\"271.8\" width=\"1674\" x=\"30.103125\" y=\"22.318125\"/>\n  </clipPath>\n </defs>\n</svg>\n",
      "image/png": "[encoded data removed]"
     },
     "metadata": {
      "needs_background": "light"
     }
    },
    {
     "output_type": "stream",
     "name": "stdout",
     "text": [
      "CPU times: user 8.87 s, sys: 207 ms, total: 9.07 s\nWall time: 775 ms\n"
     ]
    }
   ],
   "source": [
    "%%time\n",
    "# xgboost for feature importance on a classification problem\n",
    "from xgboost import XGBClassifier\n",
    "# define the model\n",
    "model = XGBClassifier()\n",
    "# fit the model\n",
    "model.fit(features_train.drop(['Date','Symbol','Buy','Sell','TRACKER'],axis=1), features_train.Sell)\n",
    "# get importance\n",
    "importance = model.feature_importances_\n",
    "# summarize feature importance\n",
    "for i,v in enumerate(importance):\n",
    "\tprint('Feature: %0d, Score: %.5f' % (i,v))\n",
    "# plot feature importance\n",
    "pyplot.figure(figsize=(30,5))\n",
    "pyplot.title('Feature Importance in XGBoost Classification for Sell Signal')\n",
    "pyplot.bar([x for x in range(len(importance))], importance)\n",
    "pyplot.show()"
   ]
  },
  {
   "cell_type": "code",
   "execution_count": 402,
   "metadata": {},
   "outputs": [
    {
     "output_type": "stream",
     "name": "stdout",
     "text": [
      "<class 'pandas.core.frame.DataFrame'>\nDatetimeIndex: 3770 entries, 2010-01-06 09:30:00 to 2015-12-31 17:00:00\nData columns (total 48 columns):\n #   Column        Non-Null Count  Dtype  \n---  ------        --------------  -----  \n 0   Symbol        3770 non-null   object \n 1   Date          3770 non-null   object \n 2   FEMA_21       3770 non-null   float32\n 3   FEMA_8        3770 non-null   float32\n 4   FADRLo        3770 non-null   float32\n 5   FADRHi        3770 non-null   float32\n 6   FRVI40        3770 non-null   float32\n 7   FRVI60        3770 non-null   float32\n 8   FONLOSMA5     3770 non-null   float32\n 9   FONHISMA5     3770 non-null   float32\n 10  FONLOSMA21    3770 non-null   float32\n 11  FONHISMA21    3770 non-null   float32\n 12  FONLOSMA34    3770 non-null   float32\n 13  FONHISMA34    3770 non-null   float64\n 14  FSBGAMMA      3770 non-null   float32\n 15  FOPENWEEKLY   3770 non-null   float32\n 16  FHIGHWEEKLY   3770 non-null   float32\n 17  FLOWWEEKLY    3770 non-null   float32\n 18  FCLOSEWEEKLY  3770 non-null   float32\n 19  FOPENDAILY    3770 non-null   float32\n 20  FHIGHDAILY    3770 non-null   float32\n 21  FLOWDAILY     3770 non-null   float32\n 22  FCLOSEDAILY   3770 non-null   float32\n 23  FOPENHOURLY   3770 non-null   float32\n 24  FHIGHHOURLY   3770 non-null   float32\n 25  FLOWHOURLY    3770 non-null   float32\n 26  FCLOSEHOURLY  3770 non-null   float32\n 27  FSMA200       3770 non-null   float32\n 28  FBOLUP20      3770 non-null   float32\n 29  FBOLLOW20     3770 non-null   float64\n 30  FPP           3770 non-null   float32\n 31  FS38          3770 non-null   float32\n 32  FS62          3770 non-null   float32\n 33  FS100         3770 non-null   float32\n 34  FS138         3770 non-null   float32\n 35  FS162         3770 non-null   float64\n 36  FS200         3770 non-null   float32\n 37  FR38          3770 non-null   float32\n 38  FR62          3770 non-null   float32\n 39  FR100         3770 non-null   float32\n 40  FR138         3770 non-null   float32\n 41  FR162         3770 non-null   float32\n 42  FR200         3770 non-null   float32\n 43  SBATR         3770 non-null   float32\n 44  Signal        3770 non-null   int64  \n 45  TRACKER       3770 non-null   int64  \n 46  Buy           3770 non-null   int64  \n 47  Sell          3770 non-null   int64  \ndtypes: float32(39), float64(3), int64(4), object(2)\nmemory usage: 868.9+ KB\n"
     ]
    }
   ],
   "source": [
    "features_train.info()"
   ]
  },
  {
   "cell_type": "code",
   "execution_count": 403,
   "metadata": {},
   "outputs": [
    {
     "output_type": "stream",
     "name": "stdout",
     "text": [
      "CPU times: user 2 µs, sys: 1e+03 ns, total: 3 µs\nWall time: 5.72 µs\n"
     ]
    }
   ],
   "source": [
    "%%time\n",
    "_C = 1.0\n",
    "# Regularization parameter. The strength of the regularization is inversely proportional to C. Must be strictly positive. The penalty is a squared l2 penalty.\n",
    "\n",
    "_kernel = 'poly'\n",
    "#{‘linear’, ‘poly’, ‘rbf’, ‘sigmoid’, ‘precomputed’}, default=’rbf’\n",
    "#Specifies the kernel type to be used in the algorithm. It must be one of ‘linear’, ‘poly’, ‘rbf’, ‘sigmoid’, ‘precomputed’ or a callable. If none is given, ‘rbf’ will be used. If a callable is given it is used to pre-compute the kernel matrix from data matrices; that matrix should be an array of shape (n_samples, n_samples).\n",
    "\n",
    "_degree = 3\n",
    "#int, default=3\n",
    "#Degree of the polynomial kernel function (‘poly’). Ignored by all other kernels.\n",
    "\n",
    "_gamma = 1/42\n",
    "#{‘scale’, ‘auto’} or float, default=’scale’\n",
    "#Kernel coefficient for ‘rbf’, ‘poly’ and ‘sigmoid’.\n",
    "\n",
    "#if gamma='scale' (default) is passed then it uses 1 / (n_features * X.var()) as value of gamma,\n",
    "#if ‘auto’, uses 1 / n_features.\n",
    "#Changed in version 0.22: The default value of gamma changed from ‘auto’ to ‘scale’.\n",
    "_coef = 0.1\n",
    "#0float, default=0.0\n",
    "#Independent term in kernel function. It is only significant in ‘poly’ and ‘sigmoid’.\n",
    "\n",
    "_shrinking = False\n",
    "#bool, default=True\n",
    "#Whether to use the shrinking heuristic. See the User Guide.\n",
    "\n",
    "_probability = True\n",
    "#bool, default=False\n",
    "#Whether to enable probability estimates. This must be enabled prior to calling fit, will slow down that method as it internally uses 5-fold cross-validation, and predict_proba may be inconsistent with predict. Read more in the User Guide.\n",
    "\n",
    "_tol = 0.003\n",
    "#float, default=1e-3\n",
    "#Tolerance for stopping criterion.\n",
    "\n",
    "_cache_size = 200 \n",
    "# float, default=200\n",
    "#Specify the size of the kernel cache (in MB).\n",
    "\n",
    "_class_weight = 'balanced'\n",
    "#dict or ‘balanced’, default=None\n",
    "#Set the parameter C of class i to class_weight[i]*C for SVC. If not given, all classes are supposed to have weight one. The “balanced” mode uses the values of y to automatically adjust weights inversely proportional to class frequencies in the input data as n_samples / (n_classes * np.bincount(y))\n",
    "\n",
    "_verbose = False\n",
    "#bool, default=False\n",
    "#Enable verbose output. Note that this setting takes advantage of a per-process runtime setting in libsvm that, if enabled, may not work properly in a multithreaded context.\n",
    "\n",
    "_max_iter = -1\n",
    "#int, default=-1\n",
    "#Hard limit on iterations within solver, or -1 for no limit.\n",
    "\n",
    "_decision_function_shape = 'ovr'\n",
    "#{‘ovo’, ‘ovr’}, default=’ovr’\n",
    "#Whether to return a one-vs-rest (‘ovr’) decision function of shape (n_samples, n_classes) as all other classifiers, or the original one-vs-one (‘ovo’) decision function of libsvm which has shape (n_samples, n_classes * (n_classes - 1) / 2). However, one-vs-one (‘ovo’) is always used as multi-class strategy. The parameter is ignored for binary classification.\n",
    "\n",
    "#Changed in version 0.19: decision_function_shape is ‘ovr’ by default.\n",
    "#New in version 0.17: decision_function_shape=’ovr’ is recommended.\n",
    "\n",
    "#Changed in version 0.17: Deprecated decision_function_shape=’ovo’ and None.\n",
    "_break_ties = False\n",
    "#bool, default=False\n",
    "#If true, decision_function_shape='ovr', and number of classes > 2, predict will break ties according to the confidence values of decision_function; otherwise the first class among the tied classes is returned. Please note that breaking ties comes at a relatively high computational cost compared to a simple predict.\n",
    "\n",
    "#New in version 0.22.\n",
    "\n",
    "_random_state = 72\n",
    "#int or RandomState instance, default=None\n",
    "\n",
    "_coef0 = 1"
   ]
  },
  {
   "cell_type": "code",
   "execution_count": 404,
   "metadata": {},
   "outputs": [
    {
     "output_type": "stream",
     "name": "stdout",
     "text": [
      "\u001b[34m Support Vector Machine pour \u001b[33m EUR/USD \u001b[0m\n",
      "Signaux achat Counter({0: 3193, 1: 577})\n",
      "\u001b[34m Achat pour \u001b[33m EUR/USD \u001b[0m\n",
      "\u001b[32m\n",
      "Achat - Accuracy : 96.39 %\n",
      "Achat - Precision : 95.57 %\n",
      "Achat - Recall : 74.33 %\n",
      "Achat - F-measure: : 83.62 % \u001b[0m\n",
      "\n",
      "\n",
      "              precision    recall  f1-score   support\n",
      "\n",
      "           0       0.96      1.00      0.98      1843\n",
      "           1       0.96      0.74      0.84       261\n",
      "\n",
      "    accuracy                           0.96      2104\n",
      "   macro avg       0.96      0.87      0.91      2104\n",
      "weighted avg       0.96      0.96      0.96      2104\n",
      "\n",
      "              Vrais_estimés    Faux_estimés\n",
      "vrais_réels  Vrais_positifs    Faux_négatif\n",
      "Faux_réels    Faux_positifs  Vrais-négatifs\n",
      "[[1834    9]\n",
      " [  67  194]]\n",
      "\n",
      "\n",
      "\u001b[34m Joblib Model  JOBLIB/svm/SaveEURUSD_buy.sav  dumped to disk \u001b[0m\n",
      "Best Threshold=1.000000, F-Score=0.836\n",
      "Signaux achat Counter({0: 3227, 1: 543})\n",
      "\u001b[34m Vente pour \u001b[33m EUR/USD \u001b[0m\n",
      "\u001b[32m\n",
      "Vente - Accuracy : 94.77 %\n",
      "Vente - Precision : 70.97 %\n",
      "Vente - Recall : 95.65 %\n",
      "Vente - F-measure: : 81.48 % \u001b[0m\n",
      "\n",
      "\n",
      "              precision    recall  f1-score   support\n",
      "\n",
      "           0       0.99      0.95      0.97      1851\n",
      "           1       0.71      0.96      0.81       253\n",
      "\n",
      "    accuracy                           0.95      2104\n",
      "   macro avg       0.85      0.95      0.89      2104\n",
      "weighted avg       0.96      0.95      0.95      2104\n",
      "\n",
      "              Vrais_estimés    Faux_estimés\n",
      "vrais_réels  Vrais_positifs    Faux_négatif\n",
      "Faux_réels    Faux_positifs  Vrais-négatifs\n",
      "[[1752   99]\n",
      " [  11  242]]\n",
      "\n",
      "\n",
      "\u001b[34m Joblib Model  JOBLIB/svm/SaveEURUSD_sell.sav  dumped to disk \u001b[0m\n",
      "Best Threshold=1.000000, F-Score=0.836\n",
      "CPU times: user 1.21 s, sys: 10.8 ms, total: 1.22 s\n",
      "Wall time: 4.28 s\n"
     ]
    }
   ],
   "source": [
    "%%time\n",
    "\n",
    "from sklearn.metrics import accuracy_score\n",
    "from sklearn.metrics import precision_score\n",
    "from sklearn.metrics import recall_score\n",
    "from sklearn.metrics import precision_recall_curve\n",
    "from sklearn.metrics import confusion_matrix,classification_report\n",
    "from sklearn import svm\n",
    "from xgboost import XGBClassifier\n",
    "from sklearn.metrics import f1_score\n",
    "from sklearn.metrics import roc_curve\n",
    "from numpy import sqrt\n",
    "from numpy import argmax\n",
    "import colorama as col\n",
    "from collections import Counter\n",
    "\n",
    "_verb = 0\n",
    "\n",
    "engine.say(\"Support Vector Machine\")\n",
    "engine.runAndWait()\n",
    "\n",
    "x = 'EUR/USD'\n",
    "_model = 'svm'\n",
    "#_model = 'XGBoostClassifier'\n",
    "    \n",
    "print(col.Fore.BLUE,'Support Vector Machine pour',col.Fore.YELLOW,x,col.Style.RESET_ALL)\n",
    "\n",
    "trainXb = features_train.drop(['Signal','Date','Symbol','Buy','Sell'],axis=1)\n",
    "testXb = features_test.drop(['Signal','Date','Symbol','Buy','Sell'],axis=1)\n",
    "trainyb = features_train.Buy\n",
    "testyb = features_test.Buy\n",
    "\n",
    "trainXs = features_train.drop(['Signal','Date','Symbol','Buy','Sell'],axis=1)\n",
    "testXs = features_test.drop(['Signal','Date','Symbol','Buy','Sell'],axis=1)\n",
    "trainys = features_train.Sell\n",
    "testys = features_test.Sell\n",
    "\n",
    "\n",
    "############## B U Y ###################\n",
    "\n",
    "# summarize class distribution\n",
    "counterb = Counter(trainyb)\n",
    "\n",
    "print('Signaux achat',counterb)\n",
    "#print(counterb[-1],counterb[1])\n",
    "\n",
    "if counterb[1] > 2 and counterb[0] > 2:\n",
    "\n",
    "    \n",
    "    # define model\n",
    "    modelb = svm.SVC(_C, _kernel,_degree, _gamma, _coef0, _shrinking, _probability, _tol, _cache_size, _class_weight, _verbose, _max_iter, _decision_function_shape, _break_ties, _random_state)\n",
    "    \n",
    "    # modelb = svm.SVC() # XGBClassifier() # svm.SVC()\n",
    "    \n",
    "    # fit model\n",
    "    modelb.fit(trainXb, trainyb)\n",
    "    # predict on test set\n",
    "    yhatb = modelb.predict(testXb)\n",
    "    # evaluate predictions\n",
    "    accub = round(accuracy_score(testyb, yhatb) * 100,2)\n",
    "    precb = round(precision_score(testyb, yhatb) * 100,2)\n",
    "    recallb = round(recall_score(testyb, yhatb) * 100,2)\n",
    "    f1b = round(f1_score(testyb, yhatb) * 100,2)\n",
    "    \n",
    "    print(col.Fore.BLUE,'Achat pour',col.Fore.YELLOW,x,col.Style.RESET_ALL)\n",
    "    if accub > 69 and precb > 69 :\n",
    "        print(col.Fore.GREEN)\n",
    "    elif accub < 51 or precb < 51 :\n",
    "        print(col.Fore.RED)\n",
    "    else:\n",
    "        print(col.Fore.YELLOW)\n",
    "\n",
    "    print('Achat - Accuracy :' ,accub,'%')\n",
    "    print('Achat - Precision :',precb,'%')\n",
    "    print('Achat - Recall :', recallb,'%')\n",
    "    print('Achat - F-measure: :' ,f1b,'%',col.Style.RESET_ALL)\n",
    "    print('\\n')\n",
    "\n",
    "    \n",
    "    print(classification_report(testyb, yhatb))\n",
    "    conf_matrix = pd.DataFrame(index = ['vrais_réels','Faux_réels'])\n",
    "    conf_matrix['Vrais_estimés'] = ['Vrais_positifs','Faux_positifs']\n",
    "    conf_matrix['Faux_estimés'] = ['Faux_négatif','Vrais-négatifs']\n",
    "    print(conf_matrix)\n",
    "    print(confusion_matrix(testyb, yhatb))\n",
    "    print('\\n')\n",
    "\n",
    "    savenameb = 'JOBLIB/'+_model+'/Save'+x.replace('/','')+'_buy.sav'\n",
    "\n",
    "    # serialize model to JOBLIB\n",
    "    joblib.dump(modelb, savenameb)\n",
    "    print(col.Fore.BLUE,\"Joblib Model \",savenameb,\" dumped to disk\",col.Style.RESET_ALL)\n",
    "    \n",
    "    precisionb, recallb, thresholdsb = precision_recall_curve(testyb, yhatb)\n",
    "    # plot the roc curve for the model\n",
    "    no_skillb= len(testyb[testyb==1]) / len(testyb)\n",
    "\n",
    "    # convert to f score\n",
    "    fscoreb = (2 * precisionb * recallb) / (precisionb + recallb)\n",
    "    # locate the index of the largest f score\n",
    "    ixb = argmax(fscoreb)\n",
    "    print('Best Threshold=%f, F-Score=%.3f' % (thresholdsb[ixb], fscoreb[ixb]))\n",
    "    \n",
    "\n",
    "    if _verb == 1:\n",
    "        plt.ion()\n",
    "        plt.figure(figsize=(12,4))\n",
    "        plt.suptitle('Recall_Precision Curve la dataframe')\n",
    "        plt.plot([0,1], [no_skillb,no_skillb], linestyle='--', label='No Skill')\n",
    "        plt.plot(recallb, precisionb, marker='.', label='Logistic')\n",
    "        plt.scatter(recallb[ixb], precisionb[ixb], marker='o', color='black', label='Best')\n",
    "        # axis labels\n",
    "        plt.xlabel('Recall')\n",
    "        plt.ylabel('Precision')\n",
    "        plt.legend()\n",
    "        # show the plot\n",
    "        plt.show()\n",
    "\n",
    "else:\n",
    "    print(col.Fore.RED,'Not enough populated for',col.Fore.YELLOW,x,col.Style.RESET_ALL)\n",
    "\n",
    "\n",
    "############ S E L L ###############\n",
    "\n",
    "# summarize class distribution\n",
    "counters = Counter(trainys)\n",
    "\n",
    "print('Signaux achat',counters)\n",
    "#print(counterb[-1],counterb[1])\n",
    "\n",
    "if counters[1] > 2 and counters[0] > 2:\n",
    "\n",
    "    \n",
    "    # define model\n",
    "    models = svm.SVC(_C, _kernel,_degree, _gamma, _coef0, _shrinking, _probability, _tol, _cache_size, _class_weight, _verbose, _max_iter, _decision_function_shape, _break_ties, _random_state)\n",
    "    \n",
    "    \n",
    "    #models = svm.SVC() # XGBClassifier() # svm.SVC()\n",
    "    \n",
    "    \n",
    "    # fit model\n",
    "    models.fit(trainXs, trainys)\n",
    "    # predict on test set\n",
    "    yhats = models.predict(testXs)\n",
    "    # evaluate predictions\n",
    "    accus = round(accuracy_score(testys, yhats) * 100,2)\n",
    "    precs = round(precision_score(testys, yhats) * 100,2)\n",
    "    recalls = round(recall_score(testys, yhats) * 100,2)\n",
    "    f1s = round(f1_score(testys, yhats) * 100,2)\n",
    "    \n",
    "    print(col.Fore.BLUE,'Vente pour',col.Fore.YELLOW,x,col.Style.RESET_ALL)\n",
    "    if accus > 69 and precs > 69 :\n",
    "        print(col.Fore.GREEN)\n",
    "    elif accus < 51 or precs < 51 :\n",
    "        print(col.Fore.RED)\n",
    "    else:\n",
    "        print(col.Fore.YELLOW)\n",
    "\n",
    "    print('Vente - Accuracy :' ,accus,'%')\n",
    "    print('Vente - Precision :',precs,'%')\n",
    "    print('Vente - Recall :', recalls,'%')\n",
    "    print('Vente - F-measure: :' ,f1s,'%',col.Style.RESET_ALL)\n",
    "    print('\\n')\n",
    "\n",
    "    \n",
    "    print(classification_report(testys, yhats))\n",
    "    print(conf_matrix)\n",
    "    print(confusion_matrix(testys, yhats))\n",
    "    print('\\n')\n",
    "\n",
    "    savenames = 'JOBLIB/'+_model+'/Save'+x.replace('/','')+'_sell.sav'\n",
    "    \n",
    "    # serialize model to JOBLIB\n",
    "    joblib.dump(models, savenames)\n",
    "    print(col.Fore.BLUE,\"Joblib Model \",savenames,\" dumped to disk\",col.Style.RESET_ALL)\n",
    "    \n",
    "    precisions, recalls, thresholdss = precision_recall_curve(testys, yhats)\n",
    "    # plot the roc curve for the model\n",
    "    no_skills= len(testys[testys==1]) / len(testys)\n",
    "\n",
    "    # convert to f score\n",
    "    fscores = (2 * precisions * recalls) / (precisions + recalls)\n",
    "    # locate the index of the largest f score\n",
    "    ixs = argmax(fscores)\n",
    "    print('Best Threshold=%f, F-Score=%.3f' % (thresholdsb[ixs], fscoreb[ixs]))\n",
    "    \n",
    "\n",
    "    if _verb == 1:\n",
    "        plt.ion()\n",
    "        plt.figure(figsize=(12,4))\n",
    "        plt.suptitle('Recall_Precision Curve la dataframe pour les signaux de vente')\n",
    "        plt.plot([0,1], [no_skills,no_skills], linestyle='--', label='No Skill')\n",
    "        plt.plot(recalls, precisions, marker='.', label='Logistic')\n",
    "        plt.scatter(recallb[ixs], precisionb[ixs], marker='o', color='black', label='Best')\n",
    "        # axis labels\n",
    "        plt.xlabel('Recall')\n",
    "        plt.ylabel('Precision')\n",
    "        plt.legend()\n",
    "        # show the plot\n",
    "        plt.show()\n",
    "\n",
    "else:\n",
    "    print(col.Fore.RED,'Not enough populated for',col.Fore.YELLOW,x,col.Style.RESET_ALL)\n"
   ]
  },
  {
   "cell_type": "code",
   "execution_count": 405,
   "metadata": {},
   "outputs": [
    {
     "output_type": "stream",
     "name": "stdout",
     "text": [
      "<class 'pandas.core.frame.DataFrame'>\nDatetimeIndex: 1566 entries, 2019-01-02 14:15:00 to 2020-12-31 16:45:00\nData columns (total 46 columns):\n #   Column        Non-Null Count  Dtype  \n---  ------        --------------  -----  \n 0   Symbol        1566 non-null   object \n 1   Date          1566 non-null   object \n 2   FEMA_21       1566 non-null   float64\n 3   FEMA_8        1566 non-null   float64\n 4   FADRLo        1566 non-null   float64\n 5   FADRHi        1566 non-null   float64\n 6   FRVI40        1566 non-null   float64\n 7   FRVI60        1566 non-null   float64\n 8   FONLOSMA5     1566 non-null   float64\n 9   FONHISMA5     1566 non-null   float64\n 10  FONLOSMA21    1566 non-null   float64\n 11  FONHISMA21    1566 non-null   float64\n 12  FONLOSMA34    1566 non-null   float64\n 13  FONHISMA34    1566 non-null   float64\n 14  FSBGAMMA      1566 non-null   float64\n 15  FOPENWEEKLY   1566 non-null   float64\n 16  FHIGHWEEKLY   1566 non-null   float64\n 17  FLOWWEEKLY    1566 non-null   float64\n 18  FCLOSEWEEKLY  1566 non-null   float64\n 19  FOPENDAILY    1566 non-null   float64\n 20  FHIGHDAILY    1566 non-null   float64\n 21  FLOWDAILY     1566 non-null   float64\n 22  FCLOSEDAILY   1566 non-null   float64\n 23  FOPENHOURLY   1566 non-null   float64\n 24  FHIGHHOURLY   1566 non-null   float64\n 25  FLOWHOURLY    1566 non-null   float64\n 26  FCLOSEHOURLY  1566 non-null   float64\n 27  FSMA200       1566 non-null   float64\n 28  FBOLUP20      1566 non-null   float64\n 29  FBOLLOW20     1566 non-null   float64\n 30  FPP           1566 non-null   float64\n 31  FS38          1566 non-null   float64\n 32  FS62          1566 non-null   float64\n 33  FS100         1566 non-null   float64\n 34  FS138         1566 non-null   float64\n 35  FS162         1566 non-null   float64\n 36  FS200         1566 non-null   float64\n 37  FR38          1566 non-null   float64\n 38  FR62          1566 non-null   float64\n 39  FR100         1566 non-null   float64\n 40  FR138         1566 non-null   float64\n 41  FR162         1566 non-null   float64\n 42  FR200         1566 non-null   float64\n 43  SBATR         1566 non-null   float64\n 44  Signal        1566 non-null   int64  \n 45  TRACKER       1566 non-null   int64  \ndtypes: float64(42), int64(2), object(2)\nmemory usage: 575.0+ KB\n"
     ]
    }
   ],
   "source": [
    "features_oos.info()"
   ]
  },
  {
   "cell_type": "code",
   "execution_count": 406,
   "metadata": {},
   "outputs": [
    {
     "output_type": "stream",
     "name": "stdout",
     "text": [
      "CPU times: user 5.86 s, sys: 5.41 s, total: 11.3 s\nWall time: 11.5 s\n"
     ]
    }
   ],
   "source": [
    "%%time\n",
    "_ticker='EURUSD'\n",
    "df_all = joblib.load('JOBLIB/df_all')\n",
    "df_all_oos = df_all.copy()\n",
    "df_all_oos = df_all_oos[df_all_oos.Symbol==_ticker]\n",
    "df_all_oos = df_all_oos[df_all_oos.Date>'2018-12-31']"
   ]
  },
  {
   "cell_type": "code",
   "execution_count": 407,
   "metadata": {},
   "outputs": [
    {
     "output_type": "stream",
     "name": "stdout",
     "text": [
      "Signaux Achat Potentiels 707\nSignaux Vente Potentiels 860\nCPU times: user 3.95 ms, sys: 2.23 ms, total: 6.19 ms\nWall time: 4.13 ms\n"
     ]
    }
   ],
   "source": [
    "%%time\n",
    "print('Signaux Achat Potentiels',len(df_all_oos[df_all_oos.Signal==1]))\n",
    "print('Signaux Vente Potentiels',len(df_all_oos[df_all_oos.Signal==-1]))"
   ]
  },
  {
   "cell_type": "code",
   "execution_count": 408,
   "metadata": {},
   "outputs": [
    {
     "output_type": "stream",
     "name": "stdout",
     "text": [
      "CPU times: user 63.2 ms, sys: 8.44 ms, total: 71.7 ms\nWall time: 59.2 ms\n"
     ]
    }
   ],
   "source": [
    "%%time\n",
    "features_oos['Symbol'] = df_all_oos['Symbol']\n",
    "features_oos['Date'] = df_all_oos['Date']\n",
    "features_oos['FEMA_21'] = df_all_oos['Close'] - df_all_oos['EMA_21']\n",
    "features_oos['FEMA_8'] = df_all_oos['Close'] - df_all_oos['EMA_8']\n",
    "features_oos['FADRLo'] = df_all_oos['Close'] - df_all_oos['ADR_Low']\n",
    "features_oos['FADRHi'] = df_all_oos['Close'] - df_all_oos['ADR_High']\n",
    "features_oos['FRVI40'] = df_all_oos['RVI'] - 40\n",
    "features_oos['FRVI60'] = df_all_oos['RVI'] - 60\n",
    "features_oos['FONLOSMA5'] = df_all_oos['Low'] - df_all_oos['ONLOSMA_5']\n",
    "features_oos['FONHISMA5'] = df_all_oos['High'] - df_all_oos['ONHISMA_5']\n",
    "features_oos['FONLOSMA21'] = df_all_oos['Low'] - df_all_oos['ONLOSMA_21']\n",
    "features_oos['FONHISMA21'] = df_all_oos['High'] - df_all_oos['ONHISMA_21']\n",
    "features_oos['FONLOSMA34'] = df_all_oos['Low'] - df_all_oos['ONLOSMA_34']\n",
    "features_oos['FONHISMA34'] = df_all_oos['High'] - df_all_oos['ONHISMA_34']\n",
    "features_oos['FSBGAMMA'] = df_all_oos['SB_Gamma']\n",
    "features_oos['FOPENWEEKLY'] = df_all_oos['Close'] - df_all_oos['Open_weekly']\n",
    "features_oos['FHIGHWEEKLY'] = df_all_oos['Close'] - df_all_oos['High_weekly']\n",
    "features_oos['FLOWWEEKLY'] = df_all_oos['Close'] - df_all_oos['Low_weekly']\n",
    "features_oos['FCLOSEWEEKLY'] = df_all_oos['Close'] - df_all_oos['Close_weekly']\n",
    "features_oos['FOPENDAILY'] = df_all_oos['Close'] - df_all_oos['Open_daily']\n",
    "features_oos['FHIGHDAILY'] = df_all_oos['Close'] - df_all_oos['High_daily']\n",
    "features_oos['FLOWDAILY'] = df_all_oos['Close'] - df_all_oos['Low_daily']\n",
    "features_oos['FCLOSEDAILY'] = df_all_oos['Close'] - df_all_oos['Close_daily']\n",
    "features_oos['FOPENHOURLY'] = df_all_oos['Close'] - df_all_oos['Open_daily']\n",
    "features_oos['FHIGHHOURLY'] = df_all_oos['Close'] - df_all_oos['High_daily']\n",
    "features_oos['FLOWHOURLY'] = df_all_oos['Close'] - df_all_oos['Low_daily']\n",
    "features_oos['FCLOSEHOURLY'] = df_all_oos['Close'] - df_all_oos['Close_daily']\n",
    "features_oos['FSMA200'] = df_all_oos['Close'] - df_all_oos['SMA_200']\n",
    "features_oos['FBOLUP20'] = df_all_oos['Close'] - df_all_oos['UpperBand']\n",
    "features_oos['FBOLLOW20'] = df_all_oos['Close'] - df_all_oos['LowerBand']\n",
    "features_oos['FPP'] = df_all_oos['Close'] - df_all_oos['PP']\n",
    "features_oos['FS38'] = df_all_oos['Close'] - df_all_oos['S38']\n",
    "features_oos['FS62'] = df_all_oos['Close'] - df_all_oos['S62']\n",
    "features_oos['FS100'] = df_all_oos['Close'] - df_all_oos['S100']\n",
    "features_oos['FS138'] = df_all_oos['Close'] - df_all_oos['S138']\n",
    "features_oos['FS162'] = df_all_oos['Close'] - df_all_oos['S162']\n",
    "features_oos['FS200'] = df_all_oos['Close'] - df_all_oos['S200']\n",
    "features_oos['FR38'] = df_all_oos['Close'] - df_all_oos['R38']\n",
    "features_oos['FR62'] = df_all_oos['Close'] - df_all_oos['R62']\n",
    "features_oos['FR100'] = df_all_oos['Close'] - df_all_oos['R100']\n",
    "features_oos['FR138'] = df_all_oos['Close'] - df_all_oos['R138']\n",
    "features_oos['FR162'] = df_all_oos['Close'] - df_all_oos['R162']\n",
    "features_oos['FR200'] = df_all_oos['Close'] - df_all_oos['R200']\n",
    "features_oos['SBATR'] = (df_all_oos['Close'] - df_all_oos['Open']) / df_all_oos['ATR_14']\n",
    "features_oos['Signal'] = df_all_oos['Signal']\n",
    "\n",
    "features_oos['FEMA_21'] = scaler.fit_transform(np.nan_to_num(features_oos.FEMA_21.astype(np.float32)).reshape(-1, 1))\n",
    "features_oos['FEMA_8'] = scaler.fit_transform(np.nan_to_num(features_oos.FEMA_8.astype(np.float32)).reshape(-1, 1))\n",
    "features_oos['FADRLo'] = scaler.fit_transform(np.nan_to_num(features_oos.FADRLo.astype(np.float32)).reshape(-1, 1))\n",
    "features_oos['FADRHi'] = scaler.fit_transform(np.nan_to_num(features_oos.FADRHi.astype(np.float32)).reshape(-1, 1))\n",
    "features_oos['FRVI40'] = scaler.fit_transform(np.nan_to_num(features_oos.FRVI40.astype(np.float32)).reshape(-1, 1))\n",
    "features_oos['FRVI60'] = scaler.fit_transform(np.nan_to_num(features_oos.FRVI60.astype(np.float32)).reshape(-1, 1))\n",
    "features_oos['FONLOSMA5'] = scaler.fit_transform(np.nan_to_num(features_oos.FONLOSMA5.astype(np.float32)).reshape(-1, 1))\n",
    "features_oos['FONHISMA5'] = scaler.fit_transform(np.nan_to_num(features_oos.FONHISMA5.astype(np.float32)).reshape(-1, 1))\n",
    "features_oos['FONLOSMA21'] = scaler.fit_transform(np.nan_to_num(features_oos.FONLOSMA21.astype(np.float32)).reshape(-1, 1))\n",
    "features_oos['FONHISMA21'] = scaler.fit_transform(np.nan_to_num(features_oos.FONHISMA21.astype(np.float32)).reshape(-1, 1))\n",
    "features_oos['FONLOSMA34'] = scaler.fit_transform(np.nan_to_num(features_oos.FONLOSMA34.astype(np.float32)).reshape(-1, 1))\n",
    "features_oos['FSBGAMMA'] = scaler.fit_transform(np.nan_to_num(features_oos.FSBGAMMA.astype(np.float32)).reshape(-1, 1))\n",
    "features_oos['FOPENWEEKLY'] = scaler.fit_transform(np.nan_to_num(features_oos.FOPENWEEKLY.astype(np.float32)).reshape(-1, 1))\n",
    "features_oos['FHIGHWEEKLY'] = scaler.fit_transform(np.nan_to_num(features_oos.FHIGHWEEKLY.astype(np.float32)).reshape(-1, 1))\n",
    "features_oos['FLOWWEEKLY'] = scaler.fit_transform(np.nan_to_num(features_oos.FLOWWEEKLY.astype(np.float32)).reshape(-1, 1))\n",
    "features_oos['FCLOSEWEEKLY'] = scaler.fit_transform(np.nan_to_num(features_oos.FCLOSEWEEKLY.astype(np.float32)).reshape(-1, 1))\n",
    "features_oos['FOPENDAILY'] = scaler.fit_transform(np.nan_to_num(features_oos.FOPENDAILY.astype(np.float32)).reshape(-1, 1))\n",
    "features_oos['FHIGHDAILY'] = scaler.fit_transform(np.nan_to_num(features_oos.FHIGHDAILY.astype(np.float32)).reshape(-1, 1))\n",
    "features_oos['FLOWDAILY'] = scaler.fit_transform(np.nan_to_num(features_oos.FLOWDAILY.astype(np.float32)).reshape(-1, 1))\n",
    "features_oos['FCLOSEDAILY'] = scaler.fit_transform(np.nan_to_num(features_oos.FCLOSEDAILY.astype(np.float32)).reshape(-1, 1))\n",
    "features_oos['FOPENHOURLY'] = scaler.fit_transform(np.nan_to_num(features_oos.FOPENHOURLY.astype(np.float32)).reshape(-1, 1))\n",
    "features_oos['FHIGHHOURLY'] = scaler.fit_transform(np.nan_to_num(features_oos.FHIGHHOURLY.astype(np.float32)).reshape(-1, 1))\n",
    "features_oos['FLOWHOURLY'] = scaler.fit_transform(np.nan_to_num(features_oos.FLOWHOURLY.astype(np.float32)).reshape(-1, 1))\n",
    "features_oos['FCLOSEHOURLY'] = scaler.fit_transform(np.nan_to_num(features_oos.FCLOSEHOURLY.astype(np.float32)).reshape(-1, 1))\n",
    "features_oos['FSMA200'] = scaler.fit_transform(np.nan_to_num(features_oos.FSMA200.astype(np.float32)).reshape(-1, 1))\n",
    "features_oos['FBOLUP20'] = scaler.fit_transform(np.nan_to_num(features_oos.FBOLUP20.astype(np.float32)).reshape(-1, 1))\n",
    "features_oos['FPP'] = scaler.fit_transform(np.nan_to_num(features_oos.FPP.astype(np.float32)).reshape(-1, 1))\n",
    "features_oos['FS38'] = scaler.fit_transform(np.nan_to_num(features_oos.FS38.astype(np.float32)).reshape(-1, 1))\n",
    "features_oos['FS62'] = scaler.fit_transform(np.nan_to_num(features_oos.FS62.astype(np.float32)).reshape(-1, 1))\n",
    "features_oos['FS100'] = scaler.fit_transform(np.nan_to_num(features_oos.FS100.astype(np.float32)).reshape(-1, 1))\n",
    "features_oos['FS138'] = scaler.fit_transform(np.nan_to_num(features_oos.FS138.astype(np.float32)).reshape(-1, 1))\n",
    "features_oos['FR162'] = scaler.fit_transform(np.nan_to_num(features_oos.FS162.astype(np.float32)).reshape(-1, 1))\n",
    "features_oos['FS200'] = scaler.fit_transform(np.nan_to_num(features_oos.FS200.astype(np.float32)).reshape(-1, 1))\n",
    "features_oos['FR38'] = scaler.fit_transform(np.nan_to_num(features_oos.FR38.astype(np.float32)).reshape(-1, 1))\n",
    "features_oos['FR62'] = scaler.fit_transform(np.nan_to_num(features_oos.FR62.astype(np.float32)).reshape(-1, 1))\n",
    "features_oos['FR100'] = scaler.fit_transform(np.nan_to_num(features_oos.FR100.astype(np.float32)).reshape(-1, 1))\n",
    "features_oos['FR138'] = scaler.fit_transform(np.nan_to_num(features_oos.FR138.astype(np.float32)).reshape(-1, 1))\n",
    "features_oos['FR162'] = scaler.fit_transform(np.nan_to_num(features_oos.FR162.astype(np.float32)).reshape(-1, 1))\n",
    "features_oos['FR200'] = scaler.fit_transform(np.nan_to_num(features_oos.FR200.astype(np.float32)).reshape(-1, 1))\n",
    "features_oos['SBATR'] = scaler.fit_transform(np.nan_to_num(features_oos.SBATR.astype(np.float32)).reshape(-1, 1))"
   ]
  },
  {
   "cell_type": "code",
   "execution_count": 409,
   "metadata": {},
   "outputs": [
    {
     "output_type": "stream",
     "name": "stdout",
     "text": [
      "CPU times: user 80.7 ms, sys: 1.78 ms, total: 82.4 ms\nWall time: 81.2 ms\n"
     ]
    }
   ],
   "source": [
    "%%time\n",
    "features_oos['Buy'] = 0\n",
    "features_oos['Sell'] = 0\n",
    "features_oos['Buy'] = np.where(features_oos.Signal==1,modelb.predict(features_oos.drop(['Date','Symbol','TRACKER','Buy','Sell'],axis=1)),0)\n",
    "features_oos['Sell'] = np.where(features_oos.Signal==-1,models.predict(features_oos.drop(['Date','Symbol','TRACKER','Buy','Sell'],axis=1)),0)"
   ]
  },
  {
   "cell_type": "code",
   "execution_count": 410,
   "metadata": {},
   "outputs": [
    {
     "output_type": "stream",
     "name": "stdout",
     "text": [
      "Signaux Achat 403\nSignaux Vente 0\nCPU times: user 1.8 ms, sys: 747 µs, total: 2.55 ms\nWall time: 1.84 ms\n"
     ]
    }
   ],
   "source": [
    "%%time\n",
    "print('Signaux Achat',len(features_oos[features_oos.Buy!=0]))\n",
    "print('Signaux Vente',len(features_oos[features_oos.Sell!=0]))"
   ]
  },
  {
   "cell_type": "code",
   "execution_count": 411,
   "metadata": {},
   "outputs": [
    {
     "output_type": "stream",
     "name": "stdout",
     "text": [
      "CPU times: user 10.2 ms, sys: 1.14 ms, total: 11.3 ms\nWall time: 9.8 ms\n"
     ]
    }
   ],
   "source": [
    "%%time\n",
    "df_all_oos = df_all_oos.drop(['Signal'],axis=1)\n",
    "df_all_oos['Signal'] = np.where(df_all_oos.index.isin(features_oos[features_oos.Buy==1].index),1,np.where(df_all_oos.index.isin(features_oos[features_oos.Sell==0].index),-1,0))"
   ]
  },
  {
   "cell_type": "code",
   "execution_count": 412,
   "metadata": {},
   "outputs": [
    {
     "output_type": "stream",
     "name": "stdout",
     "text": [
      "Signaux Achat 403\nSignaux Vente 1163\n"
     ]
    }
   ],
   "source": [
    "print('Signaux Achat',len(df_all_oos[df_all_oos.Signal==1]))\n",
    "print('Signaux Vente',len(df_all_oos[df_all_oos.Signal==-1]))"
   ]
  },
  {
   "cell_type": "code",
   "execution_count": 413,
   "metadata": {},
   "outputs": [],
   "source": [
    "##### On backtest selon le ticker selectionné sur la période déterminée\n",
    "\n",
    "x='EUR/USD'\n",
    "_year_bottom = '2019-01-01'\n",
    "_year_top = '2020-12-31'\n",
    "_nb_bougie_exit = 96\n",
    "_trigger_reengage = 0\n",
    "_trigger_target = 0\n",
    "_trigger_invers = 1\n",
    "_trigger_sl = 0\n",
    "_verbose = 0\n",
    "_cash_ini = 200000\n",
    "_rate = 1\n",
    "_target = 0.002\n",
    "_exposure = 10\n",
    "_size = 50000\n",
    "_sl = 0.002\n",
    "_open_hour = 8 # day only\n",
    "_close_hour = 23 # day only\n",
    "_window = 0 # day only"
   ]
  },
  {
   "cell_type": "code",
   "execution_count": 414,
   "metadata": {},
   "outputs": [
    {
     "output_type": "stream",
     "name": "stdout",
     "text": [
      "Librairies imported\n",
      "\n",
      "Début des opérations horodatée à 2021-01-26 12:39:12.523638\n",
      "\n",
      "Chargement de la nouvelle base\n",
      "\n",
      "\n",
      "\u001b[35m Le rate du ticker EUR/USD est à  1 \u001b[0m\n",
      "Bases chargées\n",
      "TETEL process effectué\n",
      "\u001b[36m ENTERING THE BACKTEST \u001b[0m\n",
      "100%|██████████| 48057/48057 [00:02<00:00, 17964.25it/s]\n",
      "\u001b[34m Pour le ticker \u001b[33m EUR/USD \u001b[0m\n",
      "\u001b[35m \n",
      "Les gains faramineux s'élèvent à : $ \u001b[32m 11457.5 !. En  496 \u001b[0m  transactions.\n",
      "\u001b[32m \n",
      "Nbre de winners : 297 \u001b[0m\n",
      "\u001b[31m \n",
      "Nbre de loosers : 199 \u001b[0m\n",
      "Temps d'excution du BT 0:00:08.990376\n",
      "\u001b[33m EUR/USD \u001b[34m results \u001b[0m\n",
      "\u001b[35m Tested Period 2019-01-01  à 2020-12-31 \u001b[0m\n",
      "\u001b[36m Total Number of trades 496 \u001b[0m\n",
      "Started Cash : 50000\n",
      "P&L  in currency: \u001b[32m 11457.5$ \u001b[0m\n",
      "P&L in %: \u001b[32m 5.73% \u001b[0m\n",
      "Average trade duration 63.28\n",
      "# Winners  297.0\n",
      "# Loosers  199.0\n",
      "Cumulated gains 39366.5\n",
      "Cumulated losses -27909.0\n",
      "\u001b[34m PROFIT FACTOR :  1.41 \u001b[0m\n",
      "\u001b[36m Winners Ratio : 59.88 % \u001b[0m\n",
      "Average Winners 132.55\n",
      "% Average Winners 0.07\n",
      "Average Loosers -140.25\n",
      "% Average Loosers -0.07\n",
      "Average pnl 23.1\n",
      "% Average pnl 0.01\n",
      "Number of opened trades 496\n",
      "Number of closed trades 496\n",
      "Max Exposure 1 x  50000 =  50000 $\n",
      "CPU times: user 2.84 s, sys: 43.9 ms, total: 2.88 s\n",
      "Wall time: 12.2 s\n"
     ]
    }
   ],
   "source": [
    "%%time\n",
    "##### Backtest Over Night\n",
    "TRACKER = bt(df_all_oos,_year_bottom,_year_top,_nb_bougie_exit,_trigger_reengage,_trigger_target,_trigger_invers,_trigger_sl,_verbose,_cash_ini,\\\n",
    "        _rate,x,_target,_exposure,_size,_sl)"
   ]
  },
  {
   "cell_type": "code",
   "execution_count": 423,
   "metadata": {},
   "outputs": [
    {
     "output_type": "stream",
     "name": "stdout",
     "text": [
      "CPU times: user 1min 45s, sys: 461 ms, total: 1min 45s\nWall time: 1min 45s\n"
     ]
    }
   ],
   "source": [
    "%%time\n",
    "minute = pd.read_csv('../BASES/Base/EURUSD_m1_BidAndAsk.csv')\n",
    "minute.set_index(pd.to_datetime(minute['Date']+' '+minute['Time']),drop=True,inplace=True)"
   ]
  },
  {
   "cell_type": "code",
   "execution_count": 427,
   "metadata": {},
   "outputs": [
    {
     "output_type": "stream",
     "name": "stderr",
     "text": [
      "100%|██████████| 1/1 [00:00<00:00, 5133.79it/s]\u001b[33m\n",
      "Récupération des data intraday\u001b[0m\n",
      "\n",
      "\n",
      "Ajout Date\n",
      "100%|██████████| 1/1 [00:00<00:00, 4128.25it/s]\n",
      "Récupération de l'ADR en cours...\n",
      "\n",
      "\u001b[36m\n",
      "Calcul du ADR High & Low\u001b[0m\n",
      "En cours...\n",
      "100%|██████████| 1/1 [00:00<00:00, 14665.40it/s]\n",
      "\u001b[35m\n",
      "Calcul SMA\u001b[0m\n",
      "\u001b[35m\n",
      "Calcul BOLLINGER\u001b[0m\n",
      "100%|██████████| 1/1 [00:00<00:00, 6754.11it/s]\u001b[32m\n",
      "Calcul du Slow STOCHASTIC\u001b[0m\n",
      "\u001b[34mFenêtre de Glissement : \u001b[33m5 periodes.\u001b[0m\n",
      "\u001b[34mPériode de lissage : \u001b[33m3 periodes.\u001b[0m\n",
      "\n",
      "100%|██████████| 1/1 [00:00<00:00, 14074.85it/s]\u001b[32m\n",
      "Calcul de l'EMA_21en cours\u001b[0m\n",
      "\n",
      "100%|██████████| 1/1 [00:00<00:00, 6710.89it/s]\u001b[32m\n",
      "Processus de calcul de l'EMA_21terminé\u001b[0m\n",
      "\u001b[32m\n",
      "Calcul de l'EMA_8en cours\u001b[0m\n",
      "\n",
      "\u001b[32m\n",
      "Processus de calcul de l'EMA_8terminé\u001b[0m\n",
      "100%|██████████| 1/1 [00:00<00:00, 10010.27it/s]\n",
      "100%|██████████| 1/1 [00:00<00:00, 13357.66it/s]\u001b[35m\n",
      "Calcul ATR\u001b[0m\n",
      "\n",
      "100%|██████████| 1/1 [00:00<00:00, 14513.16it/s]\u001b[35m\n",
      "Calcul du RVI\u001b[0m\n",
      "\n",
      "100%|██████████| 1/1 [00:00<00:00, 9892.23it/s]\n",
      "100%|██████████| 1/1 [00:00<00:00, 6955.73it/s]\u001b[35m\n",
      "Calcul ONHISMA\u001b[0m\n",
      "On High Simple Moving Average Calculation\n",
      "\n",
      "100%|██████████| 1/1 [00:00<00:00, 4346.43it/s]\u001b[35m\n",
      "Calcul ONLOSMA\u001b[0m\n",
      "On High Simple Moving Average Calculation\n",
      "\n",
      "100%|██████████| 1/1 [00:00<00:00, 4583.94it/s]\u001b[35m\n",
      "Calcul ONHISMA\u001b[0m\n",
      "On High Simple Moving Average Calculation\n",
      "\n",
      "100%|██████████| 1/1 [00:00<00:00, 5622.39it/s]\u001b[35m\n",
      "Calcul ONLOSMA\u001b[0m\n",
      "On High Simple Moving Average Calculation\n",
      "\n",
      "100%|██████████| 1/1 [00:00<00:00, 5714.31it/s]\u001b[35m\n",
      "Calcul ONHISMA\u001b[0m\n",
      "On High Simple Moving Average Calculation\n",
      "\n",
      "100%|██████████| 1/1 [00:00<00:00, 5289.16it/s]\u001b[35m\n",
      "Calcul ONLOSMA\u001b[0m\n",
      "On High Simple Moving Average Calculation\n",
      "\n",
      "100%|██████████| 1/1 [00:00<00:00, 4258.18it/s]Récupération des OHLC en cours...\n",
      "\n",
      "100%|██████████| 1/1 [00:00<00:00, 5029.14it/s]Récupération des OHLC en cours...\n",
      "\n",
      "CPU times: user 29.7 s, sys: 12min 27s, total: 12min 57s\n",
      "Wall time: 17min 53s\n"
     ]
    }
   ],
   "source": [
    "%%time\n",
    "TICKER_LIST = ['EUR/USD']\n",
    "_period='m1'\n",
    "minute = get_all_data(TICKER_LIST,_period=_period)\n",
    "minute = timerange1D(minute)\n",
    "minute = getadr(daily_all,minute,TICKER_LIST)\n",
    "minute = adrhnl(daily_all,minute,TICKER_LIST)\n",
    "minute = sma(df_all=minute,_window=200)\n",
    "minute = bollinger(minute,_slow=20)\n",
    "minute = slowstochastic(minute,TICKER_LIST)\n",
    "minute = ema(minute,21,TICKER_LIST)\n",
    "minute = ema(minute,8,TICKER_LIST)\n",
    "minute = pivotimportdf(minute,weekly_all,TICKER_LIST)\n",
    "minute = atr(minute,TICKER_LIST,14)\n",
    "minute = rvi(minute,TICKER_LIST,_window=14)\n",
    "minute = sbgamma(minute,TICKER_LIST)\n",
    "minute = onhisma(minute,TICKER_LIST,_window=5)\n",
    "minute = onlosma(minute,TICKER_LIST,_window=5)\n",
    "minute = onhisma(minute,TICKER_LIST,_window=21)\n",
    "minute = onlosma(minute,TICKER_LIST,_window=21)\n",
    "minute = onhisma(minute,TICKER_LIST,_window=34)\n",
    "minute = onlosma(minute,TICKER_LIST,_window=34)\n",
    "minute = importohlc(minute,weekly_all,TICKER_LIST,_suffix='_weekly')\n",
    "minute = importohlc(df_all=minute,other_all=daily_all,TICKER_LIST=TICKER_LIST,_suffix='_daily')\n"
   ]
  },
  {
   "cell_type": "code",
   "execution_count": 428,
   "metadata": {},
   "outputs": [
    {
     "output_type": "execute_result",
     "data": {
      "text/plain": [
       "['JOBLIB/minute']"
      ]
     },
     "metadata": {},
     "execution_count": 428
    }
   ],
   "source": [
    "joblib.dump(minute,'JOBLIB/minute')"
   ]
  },
  {
   "cell_type": "code",
   "execution_count": 431,
   "metadata": {},
   "outputs": [
    {
     "output_type": "stream",
     "name": "stdout",
     "text": [
      "CPU times: user 87.1 ms, sys: 7.55 ms, total: 94.7 ms\nWall time: 53.3 ms\n"
     ]
    }
   ],
   "source": [
    "%%time\n",
    "_condition_7 = (minute.slow_K5 < 20) & (minute.slow_K5.shift(1) < minute.slow_D5.shift(1)) & (minute.slow_K5 > minute.slow_D5)\n",
    "\n",
    "_condition_7_bar = (minute.slow_K5 > 80) & (minute.slow_K5.shift(1) > minute.slow_D5.shift(1)) & (minute.slow_K5 < minute.slow_D5)\n",
    "\n",
    "##### 1 condition\n",
    "minute['Signal'] = np.where(_condition_7,1,np.where(_condition_7_bar,-1,0))\n"
   ]
  },
  {
   "cell_type": "code",
   "execution_count": null,
   "metadata": {},
   "outputs": [],
   "source": []
  },
  {
   "cell_type": "code",
   "execution_count": 433,
   "metadata": {},
   "outputs": [
    {
     "output_type": "stream",
     "name": "stdout",
     "text": [
      "CPU times: user 5.2 s, sys: 416 ms, total: 5.62 s\nWall time: 5.17 s\n"
     ]
    }
   ],
   "source": [
    "%%time\n",
    "_minute = pd.DataFrame()\n",
    "_minute['Symbol'] = minute['Symbol']\n",
    "_minute['Date'] = minute['Date']\n",
    "_minute['FEMA_21'] = minute['Close'] - minute['EMA_21']\n",
    "_minute['FEMA_8'] = minute['Close'] - minute['EMA_8']\n",
    "_minute['FADRLo'] = minute['Close'] - minute['ADR_Low']\n",
    "_minute['FADRHi'] = minute['Close'] - minute['ADR_High']\n",
    "_minute['FRVI40'] = minute['RVI'] - 40\n",
    "_minute['FRVI60'] = minute['RVI'] - 60\n",
    "_minute['FONLOSMA5'] = minute['Low'] - minute['ONLOSMA_5']\n",
    "_minute['FONHISMA5'] = minute['High'] - minute['ONHISMA_5']\n",
    "_minute['FONLOSMA21'] = minute['Low'] - minute['ONLOSMA_21']\n",
    "_minute['FONHISMA21'] = minute['High'] - minute['ONHISMA_21']\n",
    "_minute['FONLOSMA34'] = minute['Low'] - minute['ONLOSMA_34']\n",
    "_minute['FONHISMA34'] = minute['High'] - minute['ONHISMA_34']\n",
    "_minute['FSBGAMMA'] = minute['SB_Gamma']\n",
    "_minute['FOPENWEEKLY'] = minute['Close'] - minute['Open_weekly']\n",
    "_minute['FHIGHWEEKLY'] = minute['Close'] - minute['High_weekly']\n",
    "_minute['FLOWWEEKLY'] = minute['Close'] - minute['Low_weekly']\n",
    "_minute['FCLOSEWEEKLY'] = minute['Close'] - minute['Close_weekly']\n",
    "_minute['FOPENDAILY'] = minute['Close'] - minute['Open_daily']\n",
    "_minute['FHIGHDAILY'] = minute['Close'] - minute['High_daily']\n",
    "_minute['FLOWDAILY'] = minute['Close'] - minute['Low_daily']\n",
    "_minute['FCLOSEDAILY'] = minute['Close'] - minute['Close_daily']\n",
    "_minute['FOPENHOURLY'] = minute['Close'] - minute['Open_daily']\n",
    "_minute['FHIGHHOURLY'] = minute['Close'] - minute['High_daily']\n",
    "_minute['FLOWHOURLY'] = minute['Close'] - minute['Low_daily']\n",
    "_minute['FCLOSEHOURLY'] = minute['Close'] - minute['Close_daily']\n",
    "_minute['FSMA200'] = minute['Close'] - minute['SMA_200']\n",
    "_minute['FBOLUP20'] = minute['Close'] - minute['UpperBand']\n",
    "_minute['FBOLLOW20'] = minute['Close'] - minute['LowerBand']\n",
    "_minute['FPP'] = minute['Close'] - minute['PP']\n",
    "_minute['FS38'] = minute['Close'] - minute['S38']\n",
    "_minute['FS62'] = minute['Close'] - minute['S62']\n",
    "_minute['FS100'] = minute['Close'] - minute['S100']\n",
    "_minute['FS138'] = minute['Close'] - minute['S138']\n",
    "_minute['FS162'] = minute['Close'] - minute['S162']\n",
    "_minute['FS200'] = minute['Close'] - minute['S200']\n",
    "_minute['FR38'] = minute['Close'] - minute['R38']\n",
    "_minute['FR62'] = minute['Close'] - minute['R62']\n",
    "_minute['FR100'] = minute['Close'] - minute['R100']\n",
    "_minute['FR138'] = minute['Close'] - minute['R138']\n",
    "_minute['FR162'] = minute['Close'] - minute['R162']\n",
    "_minute['FR200'] = minute['Close'] - minute['R200']\n",
    "_minute['SBATR'] = (minute['Close'] - minute['Open']) / minute['ATR_14']\n",
    "_minute['Signal'] = minute['Signal']\n"
   ]
  },
  {
   "cell_type": "code",
   "execution_count": 435,
   "metadata": {},
   "outputs": [],
   "source": [
    "%%time\n",
    "_minute = _minute.dropna()"
   ]
  },
  {
   "cell_type": "code",
   "execution_count": 436,
   "metadata": {},
   "outputs": [
    {
     "output_type": "stream",
     "name": "stdout",
     "text": [
      "CPU times: user 59.5 s, sys: 355 ms, total: 59.8 s\nWall time: 59.8 s\n"
     ]
    }
   ],
   "source": [
    "%%time\n",
    "_minute['FEMA_21'] = scaler.fit_transform(np.nan_to_num(_minute.FEMA_21.astype(np.float32)).reshape(-1, 1))\n",
    "_minute['FEMA_8'] = scaler.fit_transform(np.nan_to_num(_minute.FEMA_8.astype(np.float32)).reshape(-1, 1))\n",
    "_minute['FADRLo'] = scaler.fit_transform(np.nan_to_num(_minute.FADRLo.astype(np.float32)).reshape(-1, 1))\n",
    "_minute['FADRHi'] = scaler.fit_transform(np.nan_to_num(_minute.FADRHi.astype(np.float32)).reshape(-1, 1))\n",
    "_minute['FRVI40'] = scaler.fit_transform(np.nan_to_num(_minute.FRVI40.astype(np.float32)).reshape(-1, 1))\n",
    "_minute['FRVI60'] = scaler.fit_transform(np.nan_to_num(_minute.FRVI60.astype(np.float32)).reshape(-1, 1))\n",
    "_minute['FONLOSMA5'] = scaler.fit_transform(np.nan_to_num(_minute.FONLOSMA5.astype(np.float32)).reshape(-1, 1))\n",
    "_minute['FONHISMA5'] = scaler.fit_transform(np.nan_to_num(_minute.FONHISMA5.astype(np.float32)).reshape(-1, 1))\n",
    "_minute['FONLOSMA21'] = scaler.fit_transform(np.nan_to_num(_minute.FONLOSMA21.astype(np.float32)).reshape(-1, 1))\n",
    "_minute['FONHISMA21'] = scaler.fit_transform(np.nan_to_num(_minute.FONHISMA21.astype(np.float32)).reshape(-1, 1))\n",
    "_minute['FONLOSMA34'] = scaler.fit_transform(np.nan_to_num(_minute.FONLOSMA34.astype(np.float32)).reshape(-1, 1))\n",
    "_minute['FSBGAMMA'] = scaler.fit_transform(np.nan_to_num(_minute.FSBGAMMA.astype(np.float32)).reshape(-1, 1))\n",
    "_minute['FOPENWEEKLY'] = scaler.fit_transform(np.nan_to_num(_minute.FOPENWEEKLY.astype(np.float32)).reshape(-1, 1))\n",
    "_minute['FHIGHWEEKLY'] = scaler.fit_transform(np.nan_to_num(_minute.FHIGHWEEKLY.astype(np.float32)).reshape(-1, 1))\n",
    "_minute['FLOWWEEKLY'] = scaler.fit_transform(np.nan_to_num(_minute.FLOWWEEKLY.astype(np.float32)).reshape(-1, 1))\n",
    "_minute['FCLOSEWEEKLY'] = scaler.fit_transform(np.nan_to_num(_minute.FCLOSEWEEKLY.astype(np.float32)).reshape(-1, 1))\n",
    "_minute['FOPENDAILY'] = scaler.fit_transform(np.nan_to_num(_minute.FOPENDAILY.astype(np.float32)).reshape(-1, 1))\n",
    "_minute['FHIGHDAILY'] = scaler.fit_transform(np.nan_to_num(_minute.FHIGHDAILY.astype(np.float32)).reshape(-1, 1))\n",
    "_minute['FLOWDAILY'] = scaler.fit_transform(np.nan_to_num(_minute.FLOWDAILY.astype(np.float32)).reshape(-1, 1))\n",
    "_minute['FCLOSEDAILY'] = scaler.fit_transform(np.nan_to_num(_minute.FCLOSEDAILY.astype(np.float32)).reshape(-1, 1))\n",
    "_minute['FOPENHOURLY'] = scaler.fit_transform(np.nan_to_num(_minute.FOPENHOURLY.astype(np.float32)).reshape(-1, 1))\n",
    "_minute['FHIGHHOURLY'] = scaler.fit_transform(np.nan_to_num(_minute.FHIGHHOURLY.astype(np.float32)).reshape(-1, 1))\n",
    "_minute['FLOWHOURLY'] = scaler.fit_transform(np.nan_to_num(_minute.FLOWHOURLY.astype(np.float32)).reshape(-1, 1))\n",
    "_minute['FCLOSEHOURLY'] = scaler.fit_transform(np.nan_to_num(_minute.FCLOSEHOURLY.astype(np.float32)).reshape(-1, 1))\n",
    "_minute['FSMA200'] = scaler.fit_transform(np.nan_to_num(_minute.FSMA200.astype(np.float32)).reshape(-1, 1))\n",
    "_minute['FBOLUP20'] = scaler.fit_transform(np.nan_to_num(_minute.FBOLUP20.astype(np.float32)).reshape(-1, 1))\n",
    "_minute['FPP'] = scaler.fit_transform(np.nan_to_num(_minute.FPP.astype(np.float32)).reshape(-1, 1))\n",
    "_minute['FS38'] = scaler.fit_transform(np.nan_to_num(_minute.FS38.astype(np.float32)).reshape(-1, 1))\n",
    "_minute['FS62'] = scaler.fit_transform(np.nan_to_num(_minute.FS62.astype(np.float32)).reshape(-1, 1))\n",
    "_minute['FS100'] = scaler.fit_transform(np.nan_to_num(_minute.FS100.astype(np.float32)).reshape(-1, 1))\n",
    "_minute['FS138'] = scaler.fit_transform(np.nan_to_num(_minute.FS138.astype(np.float32)).reshape(-1, 1))\n",
    "_minute['FR162'] = scaler.fit_transform(np.nan_to_num(_minute.FS162.astype(np.float32)).reshape(-1, 1))\n",
    "_minute['FS200'] = scaler.fit_transform(np.nan_to_num(_minute.FS200.astype(np.float32)).reshape(-1, 1))\n",
    "_minute['FR38'] = scaler.fit_transform(np.nan_to_num(_minute.FR38.astype(np.float32)).reshape(-1, 1))\n",
    "_minute['FR62'] = scaler.fit_transform(np.nan_to_num(_minute.FR62.astype(np.float32)).reshape(-1, 1))\n",
    "_minute['FR100'] = scaler.fit_transform(np.nan_to_num(_minute.FR100.astype(np.float32)).reshape(-1, 1))\n",
    "_minute['FR138'] = scaler.fit_transform(np.nan_to_num(_minute.FR138.astype(np.float32)).reshape(-1, 1))\n",
    "_minute['FR162'] = scaler.fit_transform(np.nan_to_num(_minute.FR162.astype(np.float32)).reshape(-1, 1))\n",
    "_minute['FR200'] = scaler.fit_transform(np.nan_to_num(_minute.FR200.astype(np.float32)).reshape(-1, 1))\n",
    "_minute['SBATR'] = scaler.fit_transform(np.nan_to_num(_minute.SBATR.astype(np.float32)).reshape(-1, 1))\n",
    "_minute['Buy'] = 0\n",
    "_minute['Sell'] = 0\n",
    "_minute['Buy'] = np.where(_minute.Signal==1,modelb.predict(_minute.drop(['Date','Symbol','Buy','Sell'],axis=1)),0)\n",
    "_minute['Sell'] = np.where(_minute.Signal==-1,models.predict(_minute.drop(['Date','Symbol','Buy','Sell'],axis=1)),0)"
   ]
  },
  {
   "cell_type": "code",
   "execution_count": 439,
   "metadata": {},
   "outputs": [
    {
     "output_type": "stream",
     "name": "stdout",
     "text": [
      "CPU times: user 182 ms, sys: 188 ms, total: 370 ms\nWall time: 393 ms\n"
     ]
    },
    {
     "output_type": "execute_result",
     "data": {
      "text/plain": [
       "['JOBLIB/_minute']"
      ]
     },
     "metadata": {},
     "execution_count": 439
    }
   ],
   "source": [
    "%%time\n",
    "joblib.dump(_minute,'JOBLIB/_minute')"
   ]
  },
  {
   "cell_type": "code",
   "execution_count": 441,
   "metadata": {},
   "outputs": [
    {
     "output_type": "stream",
     "name": "stdout",
     "text": [
      "CPU times: user 291 ms, sys: 29 ms, total: 320 ms\nWall time: 311 ms\n"
     ]
    }
   ],
   "source": [
    "%%time\n",
    "minute['Signal'] = np.where(minute.index.isin(_minute[_minute.Buy==1].index),1,np.where(minute.index.isin(_minute[_minute.Sell==0].index),-1,0))"
   ]
  },
  {
   "cell_type": "code",
   "execution_count": 455,
   "metadata": {},
   "outputs": [],
   "source": [
    "##### On backtest selon le ticker selectionné sur la période déterminée\n",
    "x='EUR/USD'\n",
    "_year_bottom = '2017-01-01'\n",
    "_year_top = '2020-12-31'\n",
    "_nb_bougie_exit = 1440\n",
    "_trigger_reengage = 0\n",
    "_trigger_target = 1\n",
    "_trigger_invers = 1\n",
    "_trigger_sl = 0\n",
    "_verbose = 0\n",
    "_cash_ini = 200000\n",
    "_rate = 1\n",
    "_target = 0.001\n",
    "_exposure = 10\n",
    "_size = 50000\n",
    "_sl = 0.006\n",
    "_open_hour = 8 # day only\n",
    "_close_hour = 23 # day only\n",
    "_window = 0 # day only"
   ]
  },
  {
   "cell_type": "code",
   "execution_count": 456,
   "metadata": {},
   "outputs": [
    {
     "output_type": "stream",
     "name": "stdout",
     "text": [
      "Librairies imported\n",
      "\n",
      "Début des opérations horodatée à 2021-01-26 15:59:34.067501\n",
      "\n",
      "Chargement de la nouvelle base\n",
      "\n",
      "\n",
      "\u001b[35m Le rate du ticker EUR/USD est à  1 \u001b[0m\n",
      "Bases chargées\n",
      "TETEL process effectué\n",
      "\u001b[36m ENTERING THE BACKTEST \u001b[0m\n",
      "100%|██████████| 1437272/1437272 [01:47<00:00, 13337.17it/s]\n",
      "\u001b[34m Pour le ticker \u001b[33m EUR/USD \u001b[0m\n",
      "\u001b[35m \n",
      "Les gains faramineux s'élèvent à : $ \u001b[31m -287237.0 !. En  40798 \u001b[0m  transactions.\n",
      "\u001b[32m \n",
      "Nbre de winners : 17448 \u001b[0m\n",
      "\u001b[31m \n",
      "Nbre de loosers : 23350 \u001b[0m\n",
      "Temps d'excution du BT 0:01:55.411215\n",
      "\u001b[33m EUR/USD \u001b[34m results \u001b[0m\n",
      "\u001b[35m Tested Period 2017-01-01  à 2020-12-31 \u001b[0m\n",
      "\u001b[36m Total Number of trades 40798 \u001b[0m\n",
      "Started Cash : 50000\n",
      "P&L in currency: \u001b[31m -287237.0$ \u001b[0m\n",
      "P&L in %: \u001b[31m -143.62% \u001b[0m\n",
      "Average trade duration 34.23\n",
      "# Winners  17448.0\n",
      "# Loosers  23350.0\n",
      "Cumulated gains 335432.5\n",
      "Cumulated losses -622669.5\n",
      "\u001b[34m PROFIT FACTOR :  0.54 \u001b[0m\n",
      "\u001b[36m Winners Ratio : 42.77 % \u001b[0m\n",
      "Average Winners 19.66\n",
      "% Average Winners 0.01\n",
      "Average Loosers -26.67\n",
      "% Average Loosers -0.01\n",
      "Average pnl -7.04\n",
      "% Average pnl -0.1\n",
      "Number of opened trades 40798\n",
      "Number of closed trades 40798\n",
      "Max Exposure 1 x  50000 =  50000 $\n",
      "CPU times: user 1min 51s, sys: 1.57 s, total: 1min 53s\n",
      "Wall time: 2min 2s\n"
     ]
    }
   ],
   "source": [
    "%%time\n",
    "##### Backtest Over Night\n",
    "TRACKER = bt(minute,_year_bottom,_year_top,_nb_bougie_exit,_trigger_reengage,_trigger_target,_trigger_invers,_trigger_sl,_verbose,_cash_ini,\\\n",
    "        _rate,x,_target,_exposure,_size,_sl)"
   ]
  },
  {
   "cell_type": "code",
   "execution_count": 457,
   "metadata": {},
   "outputs": [
    {
     "output_type": "execute_result",
     "data": {
      "text/plain": [
       "                        Close  CloseAsk  CloseBid      High  HighAsk  HighBid  \\\n",
       "Lindex                                                                          \n",
       "2017-01-03 00:00:00  1.045830   1.04592   1.04574  1.052340  1.05301  1.05167   \n",
       "2017-01-03 00:01:00  1.045775   1.04587   1.04568  1.045865  1.04595  1.04578   \n",
       "2017-01-03 00:02:00  1.045840   1.04593   1.04575  1.045870  1.04594  1.04580   \n",
       "2017-01-03 00:03:00  1.045835   1.04593   1.04574  1.045855  1.04594  1.04577   \n",
       "2017-01-03 00:04:00  1.045930   1.04602   1.04584  1.045930  1.04602  1.04584   \n",
       "...                       ...       ...       ...       ...      ...      ...   \n",
       "2020-12-31 18:57:00  1.221795   1.22185   1.22174  1.221815  1.22188  1.22175   \n",
       "2020-12-31 18:58:00  1.221770   1.22183   1.22171  1.221805  1.22187  1.22174   \n",
       "2020-12-31 18:59:00  1.221695   1.22176   1.22163  1.221880  1.22194  1.22182   \n",
       "2020-12-31 19:00:00  1.221570   1.22165   1.22149  1.221715  1.22178  1.22165   \n",
       "2020-12-31 19:01:00  1.221600   1.22169   1.22151  1.221600  1.22169  1.22151   \n",
       "\n",
       "                          Low   LowAsk   LowBid      Open  ...  ONLOSMA_34  \\\n",
       "Lindex                                                     ...               \n",
       "2017-01-03 00:00:00  1.045725  1.04581  1.04564  1.052340  ...         NaN   \n",
       "2017-01-03 00:01:00  1.045775  1.04587  1.04568  1.045830  ...         NaN   \n",
       "2017-01-03 00:02:00  1.045720  1.04579  1.04565  1.045775  ...         NaN   \n",
       "2017-01-03 00:03:00  1.045810  1.04590  1.04572  1.045840  ...         NaN   \n",
       "2017-01-03 00:04:00  1.045815  1.04591  1.04572  1.045835  ...         NaN   \n",
       "...                       ...      ...      ...       ...  ...         ...   \n",
       "2020-12-31 18:57:00  1.221655  1.22172  1.22159  1.221725  ...    1.221833   \n",
       "2020-12-31 18:58:00  1.221755  1.22182  1.22169  1.221795  ...    1.221827   \n",
       "2020-12-31 18:59:00  1.221675  1.22173  1.22162  1.221770  ...    1.221823   \n",
       "2020-12-31 19:00:00  1.221545  1.22162  1.22147  1.221695  ...    1.221804   \n",
       "2020-12-31 19:01:00  1.221545  1.22163  1.22146  1.221570  ...    1.221792   \n",
       "\n",
       "                     Open_weekly High_weekly Low_weekly  Close_weekly  \\\n",
       "Lindex                                                                  \n",
       "2017-01-03 00:00:00     1.052340    1.062300   1.034035       1.05345   \n",
       "2017-01-03 00:01:00     1.052340    1.062300   1.034035       1.05345   \n",
       "2017-01-03 00:02:00     1.052340    1.062300   1.034035       1.05345   \n",
       "2017-01-03 00:03:00     1.052340    1.062300   1.034035       1.05345   \n",
       "2017-01-03 00:04:00     1.052340    1.062300   1.034035       1.05345   \n",
       "...                          ...         ...        ...           ...   \n",
       "2020-12-31 18:57:00     1.220395    1.231005   1.218100       1.22160   \n",
       "2020-12-31 18:58:00     1.220395    1.231005   1.218100       1.22160   \n",
       "2020-12-31 18:59:00     1.220395    1.231005   1.218100       1.22160   \n",
       "2020-12-31 19:00:00     1.220395    1.231005   1.218100       1.22160   \n",
       "2020-12-31 19:01:00     1.220395    1.231005   1.218100       1.22160   \n",
       "\n",
       "                     Open_daily  High_daily  Low_daily  Close_daily  Signal  \n",
       "Lindex                                                                       \n",
       "2017-01-03 00:00:00     1.05234    1.052340   1.034035      1.04176       0  \n",
       "2017-01-03 00:01:00     1.05234    1.052340   1.034035      1.04176       0  \n",
       "2017-01-03 00:02:00     1.05234    1.052340   1.034035      1.04176       0  \n",
       "2017-01-03 00:03:00     1.05234    1.052340   1.034035      1.04176       0  \n",
       "2017-01-03 00:04:00     1.05234    1.052340   1.034035      1.04176       0  \n",
       "...                         ...         ...        ...          ...     ...  \n",
       "2020-12-31 18:57:00     1.22985    1.230935   1.221495      1.22160      -1  \n",
       "2020-12-31 18:58:00     1.22985    1.230935   1.221495      1.22160      -1  \n",
       "2020-12-31 18:59:00     1.22985    1.230935   1.221495      1.22160      -1  \n",
       "2020-12-31 19:00:00     1.22985    1.230935   1.221495      1.22160      -1  \n",
       "2020-12-31 19:01:00     1.22985    1.230935   1.221495      1.22160      -1  \n",
       "\n",
       "[1445849 rows x 57 columns]"
      ],
      "text/html": "<div>\n<style scoped>\n    .dataframe tbody tr th:only-of-type {\n        vertical-align: middle;\n    }\n\n    .dataframe tbody tr th {\n        vertical-align: top;\n    }\n\n    .dataframe thead th {\n        text-align: right;\n    }\n</style>\n<table border=\"1\" class=\"dataframe\">\n  <thead>\n    <tr style=\"text-align: right;\">\n      <th></th>\n      <th>Close</th>\n      <th>CloseAsk</th>\n      <th>CloseBid</th>\n      <th>High</th>\n      <th>HighAsk</th>\n      <th>HighBid</th>\n      <th>Low</th>\n      <th>LowAsk</th>\n      <th>LowBid</th>\n      <th>Open</th>\n      <th>...</th>\n      <th>ONLOSMA_34</th>\n      <th>Open_weekly</th>\n      <th>High_weekly</th>\n      <th>Low_weekly</th>\n      <th>Close_weekly</th>\n      <th>Open_daily</th>\n      <th>High_daily</th>\n      <th>Low_daily</th>\n      <th>Close_daily</th>\n      <th>Signal</th>\n    </tr>\n    <tr>\n      <th>Lindex</th>\n      <th></th>\n      <th></th>\n      <th></th>\n      <th></th>\n      <th></th>\n      <th></th>\n      <th></th>\n      <th></th>\n      <th></th>\n      <th></th>\n      <th></th>\n      <th></th>\n      <th></th>\n      <th></th>\n      <th></th>\n      <th></th>\n      <th></th>\n      <th></th>\n      <th></th>\n      <th></th>\n      <th></th>\n    </tr>\n  </thead>\n  <tbody>\n    <tr>\n      <th>2017-01-03 00:00:00</th>\n      <td>1.045830</td>\n      <td>1.04592</td>\n      <td>1.04574</td>\n      <td>1.052340</td>\n      <td>1.05301</td>\n      <td>1.05167</td>\n      <td>1.045725</td>\n      <td>1.04581</td>\n      <td>1.04564</td>\n      <td>1.052340</td>\n      <td>...</td>\n      <td>NaN</td>\n      <td>1.052340</td>\n      <td>1.062300</td>\n      <td>1.034035</td>\n      <td>1.05345</td>\n      <td>1.05234</td>\n      <td>1.052340</td>\n      <td>1.034035</td>\n      <td>1.04176</td>\n      <td>0</td>\n    </tr>\n    <tr>\n      <th>2017-01-03 00:01:00</th>\n      <td>1.045775</td>\n      <td>1.04587</td>\n      <td>1.04568</td>\n      <td>1.045865</td>\n      <td>1.04595</td>\n      <td>1.04578</td>\n      <td>1.045775</td>\n      <td>1.04587</td>\n      <td>1.04568</td>\n      <td>1.045830</td>\n      <td>...</td>\n      <td>NaN</td>\n      <td>1.052340</td>\n      <td>1.062300</td>\n      <td>1.034035</td>\n      <td>1.05345</td>\n      <td>1.05234</td>\n      <td>1.052340</td>\n      <td>1.034035</td>\n      <td>1.04176</td>\n      <td>0</td>\n    </tr>\n    <tr>\n      <th>2017-01-03 00:02:00</th>\n      <td>1.045840</td>\n      <td>1.04593</td>\n      <td>1.04575</td>\n      <td>1.045870</td>\n      <td>1.04594</td>\n      <td>1.04580</td>\n      <td>1.045720</td>\n      <td>1.04579</td>\n      <td>1.04565</td>\n      <td>1.045775</td>\n      <td>...</td>\n      <td>NaN</td>\n      <td>1.052340</td>\n      <td>1.062300</td>\n      <td>1.034035</td>\n      <td>1.05345</td>\n      <td>1.05234</td>\n      <td>1.052340</td>\n      <td>1.034035</td>\n      <td>1.04176</td>\n      <td>0</td>\n    </tr>\n    <tr>\n      <th>2017-01-03 00:03:00</th>\n      <td>1.045835</td>\n      <td>1.04593</td>\n      <td>1.04574</td>\n      <td>1.045855</td>\n      <td>1.04594</td>\n      <td>1.04577</td>\n      <td>1.045810</td>\n      <td>1.04590</td>\n      <td>1.04572</td>\n      <td>1.045840</td>\n      <td>...</td>\n      <td>NaN</td>\n      <td>1.052340</td>\n      <td>1.062300</td>\n      <td>1.034035</td>\n      <td>1.05345</td>\n      <td>1.05234</td>\n      <td>1.052340</td>\n      <td>1.034035</td>\n      <td>1.04176</td>\n      <td>0</td>\n    </tr>\n    <tr>\n      <th>2017-01-03 00:04:00</th>\n      <td>1.045930</td>\n      <td>1.04602</td>\n      <td>1.04584</td>\n      <td>1.045930</td>\n      <td>1.04602</td>\n      <td>1.04584</td>\n      <td>1.045815</td>\n      <td>1.04591</td>\n      <td>1.04572</td>\n      <td>1.045835</td>\n      <td>...</td>\n      <td>NaN</td>\n      <td>1.052340</td>\n      <td>1.062300</td>\n      <td>1.034035</td>\n      <td>1.05345</td>\n      <td>1.05234</td>\n      <td>1.052340</td>\n      <td>1.034035</td>\n      <td>1.04176</td>\n      <td>0</td>\n    </tr>\n    <tr>\n      <th>...</th>\n      <td>...</td>\n      <td>...</td>\n      <td>...</td>\n      <td>...</td>\n      <td>...</td>\n      <td>...</td>\n      <td>...</td>\n      <td>...</td>\n      <td>...</td>\n      <td>...</td>\n      <td>...</td>\n      <td>...</td>\n      <td>...</td>\n      <td>...</td>\n      <td>...</td>\n      <td>...</td>\n      <td>...</td>\n      <td>...</td>\n      <td>...</td>\n      <td>...</td>\n      <td>...</td>\n    </tr>\n    <tr>\n      <th>2020-12-31 18:57:00</th>\n      <td>1.221795</td>\n      <td>1.22185</td>\n      <td>1.22174</td>\n      <td>1.221815</td>\n      <td>1.22188</td>\n      <td>1.22175</td>\n      <td>1.221655</td>\n      <td>1.22172</td>\n      <td>1.22159</td>\n      <td>1.221725</td>\n      <td>...</td>\n      <td>1.221833</td>\n      <td>1.220395</td>\n      <td>1.231005</td>\n      <td>1.218100</td>\n      <td>1.22160</td>\n      <td>1.22985</td>\n      <td>1.230935</td>\n      <td>1.221495</td>\n      <td>1.22160</td>\n      <td>-1</td>\n    </tr>\n    <tr>\n      <th>2020-12-31 18:58:00</th>\n      <td>1.221770</td>\n      <td>1.22183</td>\n      <td>1.22171</td>\n      <td>1.221805</td>\n      <td>1.22187</td>\n      <td>1.22174</td>\n      <td>1.221755</td>\n      <td>1.22182</td>\n      <td>1.22169</td>\n      <td>1.221795</td>\n      <td>...</td>\n      <td>1.221827</td>\n      <td>1.220395</td>\n      <td>1.231005</td>\n      <td>1.218100</td>\n      <td>1.22160</td>\n      <td>1.22985</td>\n      <td>1.230935</td>\n      <td>1.221495</td>\n      <td>1.22160</td>\n      <td>-1</td>\n    </tr>\n    <tr>\n      <th>2020-12-31 18:59:00</th>\n      <td>1.221695</td>\n      <td>1.22176</td>\n      <td>1.22163</td>\n      <td>1.221880</td>\n      <td>1.22194</td>\n      <td>1.22182</td>\n      <td>1.221675</td>\n      <td>1.22173</td>\n      <td>1.22162</td>\n      <td>1.221770</td>\n      <td>...</td>\n      <td>1.221823</td>\n      <td>1.220395</td>\n      <td>1.231005</td>\n      <td>1.218100</td>\n      <td>1.22160</td>\n      <td>1.22985</td>\n      <td>1.230935</td>\n      <td>1.221495</td>\n      <td>1.22160</td>\n      <td>-1</td>\n    </tr>\n    <tr>\n      <th>2020-12-31 19:00:00</th>\n      <td>1.221570</td>\n      <td>1.22165</td>\n      <td>1.22149</td>\n      <td>1.221715</td>\n      <td>1.22178</td>\n      <td>1.22165</td>\n      <td>1.221545</td>\n      <td>1.22162</td>\n      <td>1.22147</td>\n      <td>1.221695</td>\n      <td>...</td>\n      <td>1.221804</td>\n      <td>1.220395</td>\n      <td>1.231005</td>\n      <td>1.218100</td>\n      <td>1.22160</td>\n      <td>1.22985</td>\n      <td>1.230935</td>\n      <td>1.221495</td>\n      <td>1.22160</td>\n      <td>-1</td>\n    </tr>\n    <tr>\n      <th>2020-12-31 19:01:00</th>\n      <td>1.221600</td>\n      <td>1.22169</td>\n      <td>1.22151</td>\n      <td>1.221600</td>\n      <td>1.22169</td>\n      <td>1.22151</td>\n      <td>1.221545</td>\n      <td>1.22163</td>\n      <td>1.22146</td>\n      <td>1.221570</td>\n      <td>...</td>\n      <td>1.221792</td>\n      <td>1.220395</td>\n      <td>1.231005</td>\n      <td>1.218100</td>\n      <td>1.22160</td>\n      <td>1.22985</td>\n      <td>1.230935</td>\n      <td>1.221495</td>\n      <td>1.22160</td>\n      <td>-1</td>\n    </tr>\n  </tbody>\n</table>\n<p>1445849 rows × 57 columns</p>\n</div>"
     },
     "metadata": {},
     "execution_count": 457
    }
   ],
   "source": [
    "minute"
   ]
  },
  {
   "cell_type": "code",
   "execution_count": null,
   "metadata": {},
   "outputs": [],
   "source": []
  }
 ]
}