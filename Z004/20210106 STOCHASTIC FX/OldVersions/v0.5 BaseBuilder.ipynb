{
 "metadata": {
  "language_info": {
   "codemirror_mode": {
    "name": "ipython",
    "version": 3
   },
   "file_extension": ".py",
   "mimetype": "text/x-python",
   "name": "python",
   "nbconvert_exporter": "python",
   "pygments_lexer": "ipython3",
   "version": "3.8.5-final"
  },
  "orig_nbformat": 2,
  "kernelspec": {
   "name": "python3",
   "display_name": "Python 3.8.5 64-bit ('DataSciences': conda)",
   "metadata": {
    "interpreter": {
     "hash": "7f9c69b77f8cb78a9d8b8acc2d09c3972908e6673afd8bfd04ee2f6acaaac495"
    }
   }
  }
 },
 "nbformat": 4,
 "nbformat_minor": 2,
 "cells": [
  {
   "cell_type": "code",
   "execution_count": 1,
   "metadata": {},
   "outputs": [
    {
     "output_type": "stream",
     "name": "stdout",
     "text": [
      "Importing Librairies...\n"
     ]
    }
   ],
   "source": [
    "import time\n",
    "import sys\n",
    "sys.path.append('../')\n",
    "import librairies.dagfeaturingfx \n",
    "from  librairies.dagfeaturingfx import *\n",
    "from matplotlib import pyplot as plt\n",
    "import seaborn as sns\n",
    "from tqdm import tqdm\n",
    "import joblib\n",
    "from joblib import Parallel,delayed\n",
    "import pyttsx3\n",
    "from sklearn.preprocessing import MinMaxScaler\n",
    "from librairies.bt import *\n",
    "from sklearn.metrics import accuracy_score\n",
    "from sklearn.metrics import precision_score\n",
    "from sklearn.metrics import recall_score\n",
    "from sklearn.metrics import precision_recall_curve\n",
    "from sklearn.metrics import confusion_matrix,classification_report\n",
    "from sklearn import svm\n",
    "from xgboost import XGBClassifier\n",
    "from sklearn.metrics import f1_score\n",
    "from sklearn.metrics import roc_curve\n",
    "from numpy import sqrt\n",
    "from numpy import argmax\n",
    "import colorama as col\n",
    "from collections import Counter\n",
    "\n",
    "scaler = MinMaxScaler(feature_range=(0, 1))\n",
    "engine = pyttsx3.init()\n",
    "engine.say(\"Librairies loaded\")\n",
    "engine.runAndWait()"
   ]
  },
  {
   "source": [
    "###### RELOAD LIBRAIRIE #####\n",
    "from importlib import reload\n",
    "sys.path.append('../')\n",
    "librairies.dagfeaturingfx= reload(librairies.dagfeaturingfx)\n",
    "from  librairies.dagfeaturingfx import *"
   ],
   "cell_type": "code",
   "metadata": {},
   "execution_count": 2,
   "outputs": []
  },
  {
   "cell_type": "code",
   "execution_count": 3,
   "metadata": {},
   "outputs": [],
   "source": [
    "####### CHOIX DE LA TIME FRAME\n",
    "_period = 'm15'"
   ]
  },
  {
   "cell_type": "code",
   "execution_count": 4,
   "metadata": {},
   "outputs": [
    {
     "output_type": "stream",
     "name": "stdout",
     "text": [
      "\u001b[34m\nRécupération des tickers\u001b[0m\nCPU times: user 713 µs, sys: 914 µs, total: 1.63 ms\nWall time: 821 µs\n"
     ]
    }
   ],
   "source": [
    "%%time\n",
    "##### Récupération de la liste des tickers à partir du répertoire où sont rangées les bases\n",
    "TICKER_LIST = get_ticker_list()\n"
   ]
  },
  {
   "cell_type": "code",
   "execution_count": 5,
   "metadata": {},
   "outputs": [
    {
     "output_type": "stream",
     "name": "stderr",
     "text": [
      "100%|██████████| 42/42 [00:00<00:00, 116972.62it/s]\u001b[33m\n",
      "Récupération des data intraday\u001b[0m\n",
      "\n",
      "CPU times: user 2.64 s, sys: 2.67 s, total: 5.31 s\n",
      "Wall time: 2min 4s\n"
     ]
    }
   ],
   "source": [
    "%%time\n",
    "engine.say(\"Processing featuring of dataframes, weekly, daily and intra-day\")\n",
    "engine.runAndWait()\n",
    "##### Récupération des data pour tous les tickers sur la période demandée en intraday => df_all\n",
    "df_all = get_all_data(TICKER_LIST,_period=_period)\n",
    "engine.say(\"The job is done\")\n",
    "engine.runAndWait()"
   ]
  },
  {
   "cell_type": "code",
   "execution_count": 6,
   "metadata": {},
   "outputs": [
    {
     "output_type": "stream",
     "name": "stdout",
     "text": [
      "\n",
      "Ajout Date\n",
      "100%|██████████| 42/42 [00:00<00:00, 141494.59it/s]\u001b[33m\n",
      "Récupération des data intraday\u001b[0m\n",
      "\n",
      "\n",
      "Ajout Date\n",
      "100%|██████████| 42/42 [00:00<00:00, 147909.96it/s]\u001b[32m\n",
      "Récupération des data daily\u001b[0m\n",
      "\n",
      "CPU times: user 1min 36s, sys: 3.76 s, total: 1min 40s\n",
      "Wall time: 2min 18s\n"
     ]
    }
   ],
   "source": [
    "%%time\n",
    "##### Si la période demandée est déjà H1, on peut construire directement la base daily pour tous les tickers => daily_all\n",
    "if _period == 'H1':\n",
    "    df_all = timerange1D(df_all)\n",
    "    daily_all = get_daily(df_all,TICKER_LIST) \n",
    "\n",
    "##### Si la période n'est pas H1, on récupère d'abord les data en 1H pour tous les tickers, et on construit la base daily à partir du 1H => daily_all\n",
    "else:\n",
    "    df_all = timerange1D(df_all)\n",
    "    hourly_all = get_all_data(TICKER_LIST,_period='H1')\n",
    "    hourly_all = timerange1D(hourly_all)\n",
    "    daily_all = get_daily(hourly_all,TICKER_LIST)\n",
    "    del hourly_all\n",
    "engine.say(\"The job is done\")\n",
    "engine.runAndWait()"
   ]
  },
  {
   "cell_type": "code",
   "execution_count": 7,
   "metadata": {},
   "outputs": [
    {
     "output_type": "stream",
     "name": "stdout",
     "text": [
      "\n",
      "Ajout colonne 'Date dans le weekly\n",
      "100%|██████████| 42/42 [00:00<00:00, 227011.30it/s]\u001b[34m\n",
      "Récupération des tickers weekly\u001b[0m\n",
      "\n",
      "CPU times: user 5.27 s, sys: 488 ms, total: 5.76 s\n",
      "Wall time: 10.6 s\n"
     ]
    }
   ],
   "source": [
    "%%time\n",
    "##### A partir de la base daily_all on construit la base weekly pour tous les tickers => weekly_all\n",
    "daily_all = timerange1W(daily_all)\n",
    "weekly_all = get_weekly(daily_all,TICKER_LIST)\n",
    "engine.say(\"The job is done\")\n",
    "engine.runAndWait()"
   ]
  },
  {
   "cell_type": "code",
   "execution_count": 10,
   "metadata": {},
   "outputs": [
    {
     "output_type": "stream",
     "name": "stderr",
     "text": [
      " 12%|█▏        | 5/42 [00:00<00:00, 47.85it/s]\u001b[35m\n",
      "Calcul du ADR\u001b[0m\n",
      "100%|██████████| 42/42 [00:00<00:00, 42.61it/s]\n",
      "CPU times: user 930 ms, sys: 79.3 ms, total: 1.01 s\n",
      "Wall time: 4.06 s\n"
     ]
    }
   ],
   "source": [
    "%%time\n",
    "##### On calcule l'ADR sur le daily\n",
    "daily_all = adr(daily_all,_window=14)\n",
    "engine.say(\"The job is done\")\n",
    "engine.runAndWait()"
   ]
  },
  {
   "cell_type": "code",
   "execution_count": 11,
   "metadata": {},
   "outputs": [
    {
     "output_type": "stream",
     "name": "stderr",
     "text": [
      "100%|██████████| 42/42 [00:00<00:00, 135508.28it/s]\n",
      "Récupération de l'ADR en cours...\n",
      "\n",
      "CPU times: user 2min 27s, sys: 14.1 s, total: 2min 42s\n",
      "Wall time: 4min 30s\n"
     ]
    }
   ],
   "source": [
    "%%time\n",
    "##### On récupère l'ADR qui a été calculé en daily (daily_all) pour le mettre dans la base intraday df_all\n",
    "df_all = getadr(daily_all,df_all,TICKER_LIST)"
   ]
  },
  {
   "cell_type": "code",
   "execution_count": 12,
   "metadata": {},
   "outputs": [
    {
     "output_type": "stream",
     "name": "stdout",
     "text": [
      "\u001b[36m\n",
      "Calcul du ADR High & Low\u001b[0m\n",
      "En cours...\n",
      "100%|██████████| 42/42 [00:00<00:00, 123882.40it/s]\n",
      "CPU times: user 31.5 s, sys: 15.8 s, total: 47.3 s\n",
      "Wall time: 2min 51s\n"
     ]
    }
   ],
   "source": [
    "%%time\n",
    "##### On calcule l'ADR High & Low dans notre base intraday df_all\n",
    "df_all = adrhnl(daily_all,df_all,TICKER_LIST)"
   ]
  },
  {
   "cell_type": "code",
   "execution_count": 13,
   "metadata": {},
   "outputs": [
    {
     "output_type": "stream",
     "name": "stdout",
     "text": [
      "\u001b[35m\n",
      "Calcul SMA\u001b[0m\n",
      "CPU times: user 3.93 s, sys: 824 ms, total: 4.75 s\n",
      "Wall time: 4.93 s\n"
     ]
    }
   ],
   "source": [
    "%%time\n",
    "##### Calcul d'une SMA 200 sur df_all\n",
    "df_all = sma(df_all=df_all,_window=200)"
   ]
  },
  {
   "cell_type": "code",
   "execution_count": 14,
   "metadata": {},
   "outputs": [
    {
     "output_type": "stream",
     "name": "stdout",
     "text": [
      "\u001b[35m\n",
      "Calcul BOLLINGER\u001b[0m\n",
      "CPU times: user 10.3 s, sys: 5.35 s, total: 15.7 s\n",
      "Wall time: 24 s\n"
     ]
    }
   ],
   "source": [
    "%%time\n",
    "##### Calcul des bollinger sur df_all\n",
    "df_all = bollinger(df_all,_slow=20)"
   ]
  },
  {
   "cell_type": "code",
   "execution_count": 15,
   "metadata": {},
   "outputs": [
    {
     "output_type": "stream",
     "name": "stderr",
     "text": [
      "100%|██████████| 42/42 [00:00<00:00, 122845.72it/s]\u001b[32m\n",
      "Calcul du Slow STOCHASTIC\u001b[0m\n",
      "\u001b[34mFenêtre de Glissement : \u001b[33m5 periodes.\u001b[0m\n",
      "\u001b[34mPériode de lissage : \u001b[33m3 periodes.\u001b[0m\n",
      "\n",
      "CPU times: user 23 s, sys: 15 s, total: 38 s\n",
      "Wall time: 38.3 s\n"
     ]
    }
   ],
   "source": [
    "%%time\n",
    "##### Calcul du stochastic slow. Par défaut les paramètres sont 5 et 3.\n",
    "df_all = slowstochastic(df_all,TICKER_LIST)"
   ]
  },
  {
   "cell_type": "code",
   "execution_count": 16,
   "metadata": {},
   "outputs": [
    {
     "output_type": "stream",
     "name": "stderr",
     "text": [
      "100%|██████████| 42/42 [00:00<00:00, 63344.40it/s]\u001b[32m\n",
      "Calcul de l'EMA_21en cours\u001b[0m\n",
      "\n",
      "\u001b[32m\n",
      "Processus de calcul de l'EMA_21terminé\u001b[0m\n",
      "CPU times: user 24 s, sys: 19.2 s, total: 43.2 s\n",
      "Wall time: 46.5 s\n"
     ]
    }
   ],
   "source": [
    "%%time\n",
    "df_all = ema(df_all,21,TICKER_LIST)"
   ]
  },
  {
   "cell_type": "code",
   "execution_count": 17,
   "metadata": {},
   "outputs": [
    {
     "output_type": "stream",
     "name": "stderr",
     "text": [
      "100%|██████████| 42/42 [00:00<00:00, 128961.03it/s]\u001b[32m\n",
      "Calcul de l'EMA_8en cours\u001b[0m\n",
      "\n",
      "\u001b[32m\n",
      "Processus de calcul de l'EMA_8terminé\u001b[0m\n",
      "CPU times: user 24.5 s, sys: 21.7 s, total: 46.2 s\n",
      "Wall time: 49.6 s\n"
     ]
    }
   ],
   "source": [
    "%%time\n",
    "df_all = ema(df_all,8,TICKER_LIST)"
   ]
  },
  {
   "cell_type": "code",
   "execution_count": 18,
   "metadata": {},
   "outputs": [
    {
     "output_type": "stream",
     "name": "stderr",
     "text": [
      "100%|██████████| 42/42 [00:00<00:00, 205795.29it/s]\u001b[35m\n",
      "Calcul des PIVOT, RESISTANCE ET SUPPORT\u001b[0m\n",
      "\n",
      "CPU times: user 239 ms, sys: 37.5 ms, total: 277 ms\n",
      "Wall time: 319 ms\n"
     ]
    }
   ],
   "source": [
    "%%time\n",
    "weekly_all = pivot(weekly_all,TICKER_LIST)"
   ]
  },
  {
   "source": [
    "%%time\n",
    "df_all = pivotimportdf(df_all,weekly_all,TICKER_LIST)"
   ],
   "cell_type": "code",
   "metadata": {},
   "execution_count": 19,
   "outputs": [
    {
     "output_type": "stream",
     "name": "stderr",
     "text": [
      "100%|██████████| 42/42 [00:00<00:00, 256047.63it/s]\n",
      "CPU times: user 26.3 s, sys: 55 s, total: 1min 21s\n",
      "Wall time: 1min 21s\n"
     ]
    }
   ]
  },
  {
   "cell_type": "code",
   "execution_count": 20,
   "metadata": {},
   "outputs": [
    {
     "output_type": "stream",
     "name": "stdout",
     "text": [
      "\u001b[35m\n",
      "Calcul ATR\u001b[0m\n",
      "100%|██████████| 42/42 [00:00<00:00, 228483.49it/s]\n",
      "CPU times: user 38.1 s, sys: 3min 2s, total: 3min 40s\n",
      "Wall time: 8min 37s\n"
     ]
    }
   ],
   "source": [
    "%%time\n",
    "df_all = atr(df_all,TICKER_LIST,14)"
   ]
  },
  {
   "cell_type": "code",
   "execution_count": 21,
   "metadata": {},
   "outputs": [
    {
     "output_type": "stream",
     "name": "stderr",
     "text": [
      "100%|██████████| 42/42 [00:00<00:00, 111423.64it/s]\u001b[35m\n",
      "Calcul du RVI\u001b[0m\n",
      "\n",
      "CPU times: user 26.5 s, sys: 58.6 s, total: 1min 25s\n",
      "Wall time: 1min 26s\n"
     ]
    }
   ],
   "source": [
    "%%time\n",
    "df_all = rvi(df_all,TICKER_LIST,_window=14)"
   ]
  },
  {
   "cell_type": "code",
   "execution_count": 22,
   "metadata": {},
   "outputs": [
    {
     "output_type": "stream",
     "name": "stderr",
     "text": [
      "100%|██████████| 42/42 [00:00<00:00, 216413.72it/s]\n",
      "CPU times: user 28.3 s, sys: 1min 2s, total: 1min 31s\n",
      "Wall time: 1min 31s\n"
     ]
    }
   ],
   "source": [
    "%%time\n",
    "df_all = sbgamma(df_all,TICKER_LIST)"
   ]
  },
  {
   "cell_type": "code",
   "execution_count": 23,
   "metadata": {},
   "outputs": [
    {
     "output_type": "stream",
     "name": "stderr",
     "text": [
      "100%|██████████| 42/42 [00:00<00:00, 156587.35it/s]\u001b[35m\n",
      "Calcul ONHISMA\u001b[0m\n",
      "On High Simple Moving Average Calculation\n",
      "\n",
      "100%|██████████| 42/42 [00:00<00:00, 161467.25it/s]\u001b[35m\n",
      "Calcul ONLOSMA\u001b[0m\n",
      "On High Simple Moving Average Calculation\n",
      "\n",
      "CPU times: user 57.4 s, sys: 1min 54s, total: 2min 51s\n",
      "Wall time: 2min 52s\n"
     ]
    }
   ],
   "source": [
    "%%time\n",
    "df_all = onhisma(df_all,TICKER_LIST,_window=5)\n",
    "df_all = onlosma(df_all,TICKER_LIST,_window=5)"
   ]
  },
  {
   "cell_type": "code",
   "execution_count": 24,
   "metadata": {},
   "outputs": [
    {
     "output_type": "stream",
     "name": "stderr",
     "text": [
      "100%|██████████| 42/42 [00:00<00:00, 201096.77it/s]\u001b[35m\n",
      "Calcul ONHISMA\u001b[0m\n",
      "On High Simple Moving Average Calculation\n",
      "\n",
      "100%|██████████| 42/42 [00:00<00:00, 162659.99it/s]\u001b[35m\n",
      "Calcul ONLOSMA\u001b[0m\n",
      "On High Simple Moving Average Calculation\n",
      "\n",
      "CPU times: user 59.9 s, sys: 2min 15s, total: 3min 15s\n",
      "Wall time: 3min 16s\n"
     ]
    }
   ],
   "source": [
    "%%time\n",
    "df_all = onhisma(df_all,TICKER_LIST,_window=21)\n",
    "df_all = onlosma(df_all,TICKER_LIST,_window=21)"
   ]
  },
  {
   "cell_type": "code",
   "execution_count": 25,
   "metadata": {},
   "outputs": [
    {
     "output_type": "stream",
     "name": "stderr",
     "text": [
      "100%|██████████| 42/42 [00:00<00:00, 161024.47it/s]\u001b[35m\n",
      "Calcul ONHISMA\u001b[0m\n",
      "On High Simple Moving Average Calculation\n",
      "\n",
      "100%|██████████| 42/42 [00:00<00:00, 119350.11it/s]\u001b[35m\n",
      "Calcul ONLOSMA\u001b[0m\n",
      "On High Simple Moving Average Calculation\n",
      "\n",
      "CPU times: user 1min, sys: 2min 30s, total: 3min 30s\n",
      "Wall time: 3min 31s\n"
     ]
    }
   ],
   "source": [
    "%%time\n",
    "df_all = onhisma(df_all,TICKER_LIST,_window=34)\n",
    "df_all = onlosma(df_all,TICKER_LIST,_window=34)"
   ]
  },
  {
   "cell_type": "code",
   "execution_count": 26,
   "metadata": {},
   "outputs": [
    {
     "output_type": "stream",
     "name": "stderr",
     "text": [
      "100%|██████████| 42/42 [00:00<00:00, 129529.98it/s]Récupération des OHLC en cours...\n",
      "\n",
      "CPU times: user 32.9 s, sys: 1min 8s, total: 1min 41s\n",
      "Wall time: 1min 42s\n"
     ]
    }
   ],
   "source": [
    "%%time\n",
    "df_all = importohlc(df_all,weekly_all,TICKER_LIST,_suffix='_weekly')"
   ]
  },
  {
   "cell_type": "code",
   "execution_count": 27,
   "metadata": {},
   "outputs": [
    {
     "output_type": "stream",
     "name": "stderr",
     "text": [
      "100%|██████████| 42/42 [00:00<00:00, 139699.26it/s]Récupération des OHLC en cours...\n",
      "\n",
      "CPU times: user 32.9 s, sys: 1min 24s, total: 1min 56s\n",
      "Wall time: 1min 57s\n"
     ]
    }
   ],
   "source": [
    "%%time\n",
    "df_all = importohlc(df_all=df_all,other_all=daily_all,TICKER_LIST=TICKER_LIST,_suffix='_daily')"
   ]
  },
  {
   "cell_type": "code",
   "execution_count": 30,
   "metadata": {},
   "outputs": [
    {
     "output_type": "stream",
     "name": "stdout",
     "text": [
      "CPU times: user 1.78 s, sys: 2.32 s, total: 4.09 s\nWall time: 4.56 s\n"
     ]
    },
    {
     "output_type": "execute_result",
     "data": {
      "text/plain": [
       "['JOBLIB/Built_bases/weekly_all']"
      ]
     },
     "metadata": {},
     "execution_count": 30
    }
   ],
   "source": [
    "%%time\n",
    "joblib.dump(df_all,'JOBLIB/Built_bases/df_all')\n",
    "joblib.dump(daily_all,'JOBLIB/Built_bases/daily_all')\n",
    "joblib.dump(weekly_all,'JOBLIB/Built_bases/weekly_all')"
   ]
  },
  {
   "cell_type": "code",
   "execution_count": null,
   "metadata": {},
   "outputs": [],
   "source": []
  }
 ]
}