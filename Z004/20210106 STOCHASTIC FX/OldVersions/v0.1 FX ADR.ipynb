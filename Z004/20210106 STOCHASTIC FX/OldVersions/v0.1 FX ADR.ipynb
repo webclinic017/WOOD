{
 "metadata": {
  "language_info": {
   "codemirror_mode": {
    "name": "ipython",
    "version": 3
   },
   "file_extension": ".py",
   "mimetype": "text/x-python",
   "name": "python",
   "nbconvert_exporter": "python",
   "pygments_lexer": "ipython3",
   "version": "3.8.5-final"
  },
  "orig_nbformat": 2,
  "kernelspec": {
   "name": "python3",
   "display_name": "Python 3.8.5 64-bit ('DataSciences': conda)",
   "metadata": {
    "interpreter": {
     "hash": "7f9c69b77f8cb78a9d8b8acc2d09c3972908e6673afd8bfd04ee2f6acaaac495"
    }
   }
  }
 },
 "nbformat": 4,
 "nbformat_minor": 2,
 "cells": [
  {
   "cell_type": "code",
   "execution_count": 15,
   "metadata": {},
   "outputs": [],
   "source": [
    "import time\n",
    "import sys\n",
    "sys.path.append('../')\n",
    "from  librairies.dagfeaturingfx import *\n",
    "from matplotlib import pyplot as plt\n",
    "import seaborn as sns\n",
    "from tqdm import tqdm\n",
    "import joblib\n",
    "from joblib import Parallel,delayed\n",
    "#from scipy.stats import mstats\n",
    "#from sklearn.cluster import KMeans\n",
    "#from sklearn.mixture import GaussianMixture\n",
    "#from sklearn.model_selection import RandomizedSearchCV, validation_curve, TimeSeriesSplit\n",
    "#from sklearn.ensemble import RandomForestClassifier\n",
    "import pyttsx3\n",
    "engine = pyttsx3.init()\n",
    "engine.say(\"Librairies loaded\")\n",
    "engine.runAndWait()"
   ]
  },
  {
   "cell_type": "code",
   "execution_count": 2,
   "metadata": {},
   "outputs": [
    {
     "output_type": "stream",
     "name": "stderr",
     "text": [
      "100%|██████████| 42/42 [00:00<00:00, 104237.14it/s]\n",
      "100%|██████████| 42/42 [00:00<00:00, 196388.82it/s]\n",
      "100%|██████████| 42/42 [00:00<00:00, 241647.14it/s]\n",
      "100%|██████████| 42/42 [00:00<00:00, 227011.30it/s]\n",
      "100%|██████████| 42/42 [00:00<00:00, 237093.90it/s]\n",
      "100%|██████████| 42/42 [00:00<00:00, 320875.72it/s]\n",
      "CPU times: user 1min 57s, sys: 8.91 s, total: 2min 6s\n",
      "Wall time: 20min 24s\n"
     ]
    }
   ],
   "source": [
    "%%time\n",
    "TICKER_LIST = get_ticker_list()\n",
    "_period = 'H1'\n",
    "df_all = get_all_data(TICKER_LIST,_period)\n",
    "df_all = timerange1D(df_all)\n",
    "daily_all = get_daily(df_all,TICKER_LIST)\n",
    "daily_all = timerange1W(daily_all)\n",
    "weekly_all = get_weekly(daily_all,TICKER_LIST)\n",
    "df_all =  rvi(df_all,TICKER_LIST,_window=14)\n",
    "df_all = atr(df_all)\n",
    "df_all = stochastic(df_all)\n",
    "df_all = onlosma(df_all)\n",
    "df_all = onhisma(df_all)\n",
    "weekly_all = pivot(weekly_all,TICKER_LIST)\n",
    "daily_all = pivotimport(daily_all,weekly_all,TICKER_LIST)"
   ]
  },
  {
   "cell_type": "code",
   "execution_count": 5,
   "metadata": {},
   "outputs": [
    {
     "output_type": "stream",
     "name": "stdout",
     "text": [
      "CPU times: user 1min 4s, sys: 1.2 s, total: 1min 5s\nWall time: 1min 5s\n"
     ]
    }
   ],
   "source": [
    "%%time\n",
    "df_all.to_csv('../BASES/Base_all/DF_ALL.csv')\n",
    "daily_all.to_csv('../BASES/Base_all/DAILY_ALL.csv')\n",
    "weekly_all.to_csv('../BASES/Base_all/WEEKLY_ALL.csv')\n"
   ]
  },
  {
   "cell_type": "code",
   "execution_count": 6,
   "metadata": {},
   "outputs": [
    {
     "output_type": "stream",
     "name": "stdout",
     "text": [
      "CPU times: user 7.26 s, sys: 325 ms, total: 7.59 s\nWall time: 7.59 s\n"
     ]
    }
   ],
   "source": [
    "%%time\n",
    "df_all = pd.read_csv('../BASES/Base_all/DF_ALL.csv')\n",
    "daily_all = pd.read_csv('../BASES/Base_all/DAILY_ALL.csv')\n",
    "weekly_all = pd.read_csv('../BASES/Base_all/WEEKLY_ALL.csv')"
   ]
  },
  {
   "cell_type": "code",
   "execution_count": 17,
   "metadata": {},
   "outputs": [
    {
     "output_type": "execute_result",
     "data": {
      "text/plain": [
       "        Unnamed: 0       Close        High         Low        Open  Symbol  \\\n",
       "0       2010-01-04   92.477500   93.214000   92.189500   92.743500  USDJPY   \n",
       "1       2010-01-04    1.501775    1.502655    1.491745    1.499365  EURCAD   \n",
       "2       2010-01-04    0.912555    0.913705    0.893875    0.897245  AUDUSD   \n",
       "3       2010-01-04  149.018500  150.724500  148.652000  149.685500  GBPJPY   \n",
       "4       2010-01-04   88.833500   89.509500   88.399500   88.558000  CADJPY   \n",
       "...            ...         ...         ...         ...         ...     ...   \n",
       "119155  2020-12-31    7.753885    7.753995    7.751100    7.752235  USDHKD   \n",
       "119156  2020-12-31    6.501725    6.517245    6.488610    6.505900  USDCNH   \n",
       "119157  2020-12-31   79.512500   79.793000   79.283500   79.285000  AUDJPY   \n",
       "119158  2020-12-31    1.699605    1.705065    1.694165    1.704770  EURNZD   \n",
       "119159  2020-12-31    1.586375    1.599780    1.582880    1.599725  EURAUD   \n",
       "\n",
       "              Date         PP        S38        S62       S100       S138  \\\n",
       "0       2010-01-04        NaN        NaN        NaN        NaN        NaN   \n",
       "1       2010-01-04        NaN        NaN        NaN        NaN        NaN   \n",
       "2       2010-01-04        NaN        NaN        NaN        NaN        NaN   \n",
       "3       2010-01-04        NaN        NaN        NaN        NaN        NaN   \n",
       "4       2010-01-04        NaN        NaN        NaN        NaN        NaN   \n",
       "...            ...        ...        ...        ...        ...        ...   \n",
       "119155  2020-12-31   7.753158   7.752370   7.751882   7.751093   7.750305   \n",
       "119156  2020-12-31   6.528585   6.514014   6.505011   6.490440   6.475869   \n",
       "119157  2020-12-31  78.361500  77.844081  77.524419  77.007000  76.489581   \n",
       "119158  2020-12-31   1.719452   1.710440   1.704873   1.695862   1.686850   \n",
       "119159  2020-12-31   1.610680   1.601774   1.596271   1.587365   1.578459   \n",
       "\n",
       "             S162       S200        R38        R62       R100       R138  \\\n",
       "0             NaN        NaN        NaN        NaN        NaN        NaN   \n",
       "1             NaN        NaN        NaN        NaN        NaN        NaN   \n",
       "2             NaN        NaN        NaN        NaN        NaN        NaN   \n",
       "3             NaN        NaN        NaN        NaN        NaN        NaN   \n",
       "4             NaN        NaN        NaN        NaN        NaN        NaN   \n",
       "...           ...        ...        ...        ...        ...        ...   \n",
       "119155   7.749817   7.749028   7.753947   7.754435   7.755223   7.756012   \n",
       "119156   6.466866   6.452295   6.543156   6.552159   6.566730   6.581301   \n",
       "119157  76.169919  75.652500  78.878919  79.198581  79.716000  80.233419   \n",
       "119158   1.681283   1.672272   1.728463   1.734030   1.743042   1.752053   \n",
       "119159   1.572956   1.564050   1.619586   1.625089   1.633995   1.642901   \n",
       "\n",
       "             R162       R200  \n",
       "0             NaN        NaN  \n",
       "1             NaN        NaN  \n",
       "2             NaN        NaN  \n",
       "3             NaN        NaN  \n",
       "4             NaN        NaN  \n",
       "...           ...        ...  \n",
       "119155   7.756500   7.757288  \n",
       "119156   6.590304   6.604875  \n",
       "119157  80.553081  81.070500  \n",
       "119158   1.757620   1.766632  \n",
       "119159   1.648404   1.657310  \n",
       "\n",
       "[119160 rows x 20 columns]"
      ],
      "text/html": "<div>\n<style scoped>\n    .dataframe tbody tr th:only-of-type {\n        vertical-align: middle;\n    }\n\n    .dataframe tbody tr th {\n        vertical-align: top;\n    }\n\n    .dataframe thead th {\n        text-align: right;\n    }\n</style>\n<table border=\"1\" class=\"dataframe\">\n  <thead>\n    <tr style=\"text-align: right;\">\n      <th></th>\n      <th>Unnamed: 0</th>\n      <th>Close</th>\n      <th>High</th>\n      <th>Low</th>\n      <th>Open</th>\n      <th>Symbol</th>\n      <th>Date</th>\n      <th>PP</th>\n      <th>S38</th>\n      <th>S62</th>\n      <th>S100</th>\n      <th>S138</th>\n      <th>S162</th>\n      <th>S200</th>\n      <th>R38</th>\n      <th>R62</th>\n      <th>R100</th>\n      <th>R138</th>\n      <th>R162</th>\n      <th>R200</th>\n    </tr>\n  </thead>\n  <tbody>\n    <tr>\n      <th>0</th>\n      <td>2010-01-04</td>\n      <td>92.477500</td>\n      <td>93.214000</td>\n      <td>92.189500</td>\n      <td>92.743500</td>\n      <td>USDJPY</td>\n      <td>2010-01-04</td>\n      <td>NaN</td>\n      <td>NaN</td>\n      <td>NaN</td>\n      <td>NaN</td>\n      <td>NaN</td>\n      <td>NaN</td>\n      <td>NaN</td>\n      <td>NaN</td>\n      <td>NaN</td>\n      <td>NaN</td>\n      <td>NaN</td>\n      <td>NaN</td>\n      <td>NaN</td>\n    </tr>\n    <tr>\n      <th>1</th>\n      <td>2010-01-04</td>\n      <td>1.501775</td>\n      <td>1.502655</td>\n      <td>1.491745</td>\n      <td>1.499365</td>\n      <td>EURCAD</td>\n      <td>2010-01-04</td>\n      <td>NaN</td>\n      <td>NaN</td>\n      <td>NaN</td>\n      <td>NaN</td>\n      <td>NaN</td>\n      <td>NaN</td>\n      <td>NaN</td>\n      <td>NaN</td>\n      <td>NaN</td>\n      <td>NaN</td>\n      <td>NaN</td>\n      <td>NaN</td>\n      <td>NaN</td>\n    </tr>\n    <tr>\n      <th>2</th>\n      <td>2010-01-04</td>\n      <td>0.912555</td>\n      <td>0.913705</td>\n      <td>0.893875</td>\n      <td>0.897245</td>\n      <td>AUDUSD</td>\n      <td>2010-01-04</td>\n      <td>NaN</td>\n      <td>NaN</td>\n      <td>NaN</td>\n      <td>NaN</td>\n      <td>NaN</td>\n      <td>NaN</td>\n      <td>NaN</td>\n      <td>NaN</td>\n      <td>NaN</td>\n      <td>NaN</td>\n      <td>NaN</td>\n      <td>NaN</td>\n      <td>NaN</td>\n    </tr>\n    <tr>\n      <th>3</th>\n      <td>2010-01-04</td>\n      <td>149.018500</td>\n      <td>150.724500</td>\n      <td>148.652000</td>\n      <td>149.685500</td>\n      <td>GBPJPY</td>\n      <td>2010-01-04</td>\n      <td>NaN</td>\n      <td>NaN</td>\n      <td>NaN</td>\n      <td>NaN</td>\n      <td>NaN</td>\n      <td>NaN</td>\n      <td>NaN</td>\n      <td>NaN</td>\n      <td>NaN</td>\n      <td>NaN</td>\n      <td>NaN</td>\n      <td>NaN</td>\n      <td>NaN</td>\n    </tr>\n    <tr>\n      <th>4</th>\n      <td>2010-01-04</td>\n      <td>88.833500</td>\n      <td>89.509500</td>\n      <td>88.399500</td>\n      <td>88.558000</td>\n      <td>CADJPY</td>\n      <td>2010-01-04</td>\n      <td>NaN</td>\n      <td>NaN</td>\n      <td>NaN</td>\n      <td>NaN</td>\n      <td>NaN</td>\n      <td>NaN</td>\n      <td>NaN</td>\n      <td>NaN</td>\n      <td>NaN</td>\n      <td>NaN</td>\n      <td>NaN</td>\n      <td>NaN</td>\n      <td>NaN</td>\n    </tr>\n    <tr>\n      <th>...</th>\n      <td>...</td>\n      <td>...</td>\n      <td>...</td>\n      <td>...</td>\n      <td>...</td>\n      <td>...</td>\n      <td>...</td>\n      <td>...</td>\n      <td>...</td>\n      <td>...</td>\n      <td>...</td>\n      <td>...</td>\n      <td>...</td>\n      <td>...</td>\n      <td>...</td>\n      <td>...</td>\n      <td>...</td>\n      <td>...</td>\n      <td>...</td>\n      <td>...</td>\n    </tr>\n    <tr>\n      <th>119155</th>\n      <td>2020-12-31</td>\n      <td>7.753885</td>\n      <td>7.753995</td>\n      <td>7.751100</td>\n      <td>7.752235</td>\n      <td>USDHKD</td>\n      <td>2020-12-31</td>\n      <td>7.753158</td>\n      <td>7.752370</td>\n      <td>7.751882</td>\n      <td>7.751093</td>\n      <td>7.750305</td>\n      <td>7.749817</td>\n      <td>7.749028</td>\n      <td>7.753947</td>\n      <td>7.754435</td>\n      <td>7.755223</td>\n      <td>7.756012</td>\n      <td>7.756500</td>\n      <td>7.757288</td>\n    </tr>\n    <tr>\n      <th>119156</th>\n      <td>2020-12-31</td>\n      <td>6.501725</td>\n      <td>6.517245</td>\n      <td>6.488610</td>\n      <td>6.505900</td>\n      <td>USDCNH</td>\n      <td>2020-12-31</td>\n      <td>6.528585</td>\n      <td>6.514014</td>\n      <td>6.505011</td>\n      <td>6.490440</td>\n      <td>6.475869</td>\n      <td>6.466866</td>\n      <td>6.452295</td>\n      <td>6.543156</td>\n      <td>6.552159</td>\n      <td>6.566730</td>\n      <td>6.581301</td>\n      <td>6.590304</td>\n      <td>6.604875</td>\n    </tr>\n    <tr>\n      <th>119157</th>\n      <td>2020-12-31</td>\n      <td>79.512500</td>\n      <td>79.793000</td>\n      <td>79.283500</td>\n      <td>79.285000</td>\n      <td>AUDJPY</td>\n      <td>2020-12-31</td>\n      <td>78.361500</td>\n      <td>77.844081</td>\n      <td>77.524419</td>\n      <td>77.007000</td>\n      <td>76.489581</td>\n      <td>76.169919</td>\n      <td>75.652500</td>\n      <td>78.878919</td>\n      <td>79.198581</td>\n      <td>79.716000</td>\n      <td>80.233419</td>\n      <td>80.553081</td>\n      <td>81.070500</td>\n    </tr>\n    <tr>\n      <th>119158</th>\n      <td>2020-12-31</td>\n      <td>1.699605</td>\n      <td>1.705065</td>\n      <td>1.694165</td>\n      <td>1.704770</td>\n      <td>EURNZD</td>\n      <td>2020-12-31</td>\n      <td>1.719452</td>\n      <td>1.710440</td>\n      <td>1.704873</td>\n      <td>1.695862</td>\n      <td>1.686850</td>\n      <td>1.681283</td>\n      <td>1.672272</td>\n      <td>1.728463</td>\n      <td>1.734030</td>\n      <td>1.743042</td>\n      <td>1.752053</td>\n      <td>1.757620</td>\n      <td>1.766632</td>\n    </tr>\n    <tr>\n      <th>119159</th>\n      <td>2020-12-31</td>\n      <td>1.586375</td>\n      <td>1.599780</td>\n      <td>1.582880</td>\n      <td>1.599725</td>\n      <td>EURAUD</td>\n      <td>2020-12-31</td>\n      <td>1.610680</td>\n      <td>1.601774</td>\n      <td>1.596271</td>\n      <td>1.587365</td>\n      <td>1.578459</td>\n      <td>1.572956</td>\n      <td>1.564050</td>\n      <td>1.619586</td>\n      <td>1.625089</td>\n      <td>1.633995</td>\n      <td>1.642901</td>\n      <td>1.648404</td>\n      <td>1.657310</td>\n    </tr>\n  </tbody>\n</table>\n<p>119160 rows × 20 columns</p>\n</div>"
     },
     "metadata": {},
     "execution_count": 17
    }
   ],
   "source": [
    "daily_all"
   ]
  },
  {
   "cell_type": "code",
   "execution_count": null,
   "metadata": {},
   "outputs": [],
   "source": [
    "%%time\n",
    "_window = 5\n",
    "_ticker = 'EUR/USD'\n",
    "\n"
   ]
  },
  {
   "cell_type": "code",
   "execution_count": null,
   "metadata": {},
   "outputs": [],
   "source": []
  },
  {
   "cell_type": "code",
   "execution_count": null,
   "metadata": {},
   "outputs": [],
   "source": []
  },
  {
   "cell_type": "code",
   "execution_count": 20,
   "metadata": {},
   "outputs": [
    {
     "output_type": "execute_result",
     "data": {
      "text/plain": [
       "Symbol\n",
       "AUDCAD       1.078435\n",
       "AUDCHF       1.034945\n",
       "AUDJPY     105.434000\n",
       "AUDNZD       1.379585\n",
       "AUDUSD       1.108040\n",
       "CADCHF       1.115250\n",
       "CADJPY     106.421500\n",
       "CHFJPY     139.414000\n",
       "EURAUD       1.980310\n",
       "EURCAD       1.615345\n",
       "EURCHF       1.489035\n",
       "EURGBP       0.949995\n",
       "EURJPY     149.557500\n",
       "EURNOK      13.157140\n",
       "EURNZD       2.006010\n",
       "EURSEK      11.362045\n",
       "EURTRY      10.202785\n",
       "EURUSD       1.494250\n",
       "GBPAUD       2.238500\n",
       "GBPCAD       2.097605\n",
       "GBPCHF       1.711310\n",
       "GBPJPY     195.887000\n",
       "GBPNZD       2.532045\n",
       "GBPUSD       1.719215\n",
       "NZDCAD       0.992610\n",
       "NZDCHF       0.814265\n",
       "NZDJPY      94.053000\n",
       "NZDUSD       0.884345\n",
       "TRYJPY      61.725000\n",
       "USDCAD       1.469015\n",
       "USDCHF       1.173015\n",
       "USDCNH       7.196695\n",
       "USDHKD       7.850710\n",
       "USDJPY     125.857000\n",
       "USDMXN      25.791435\n",
       "USDNOK      12.129130\n",
       "USDSEK      10.474885\n",
       "USDTRY       8.580875\n",
       "USDZAR      19.347900\n",
       "XAGUSD      49.825000\n",
       "XAUUSD    2075.480000\n",
       "ZARJPY      13.098000\n",
       "Name: High, dtype: float64"
      ]
     },
     "metadata": {},
     "execution_count": 20
    }
   ],
   "source": [
    "daily_all.groupby('Symbol').High.max()"
   ]
  },
  {
   "cell_type": "code",
   "execution_count": 13,
   "metadata": {},
   "outputs": [
    {
     "output_type": "stream",
     "name": "stdout",
     "text": [
      "CPU times: user 247 ms, sys: 24.9 ms, total: 272 ms\nWall time: 271 ms\n"
     ]
    }
   ],
   "source": [
    "%%time\n",
    "_window = 5\n",
    "_ticker = 'EUR/USD'\n",
    "\n",
    "### idée HIMAX ET LOWMIN => _flagLow et _flaghigh repère le premier croisement du jour\n",
    "### HIMAX et LOWMIN : groupby('Symbol).groupby('Day).High.max() et .Low.min()\n",
    "\n",
    "HIGHMAX = []\n",
    "LOWMIN = []\n",
    "def punch(df_all,daily_all,_ticker):\n",
    "    _ticker = _ticker.replace('/','')\n",
    "    \n",
    "    globals()['df_%s' %_ticker] = daily_all.copy()[daily_all.copy().Symbol==_ticker]\n",
    "    globals()['hourly_%s' %_ticker] = df_all.copy()[df_all.copy().Symbol==_ticker]\n",
    "\n",
    "    for day in sorted(list(set(globals()['hourly_%s' %_ticker].TimeRange))):\n",
    "        try:\n",
    "            highday = globals()['df_%s' %_ticker][globals()['df_%s' %_ticker].TimeRange<day].High[-1] \n",
    "            lowday = globals()['df_%s' %_ticker][globals()['df_%s' %_ticker].TimeRange<day].Low[-1]\n",
    "        except:\n",
    "            highday = 0\n",
    "            lowday = 0\n",
    "        for i in range(0,len(globals()['df_%s' %_ticker][globals()['df_%s' %_ticker].TimeRange==day])):\n",
    "            HIGHMAX.append(np.where(globals()['hourly_%s' %_ticker][globals()['hourly_%s' %_ticker].TimeRange==day].iloc[:i+1]['High'].max()\\\n",
    "                < highday,highday,globals()['hourly_%s' %_ticker][globals()['hourly_%s' %_ticker].TimeRange==day].iloc[:i+1]['High'].max()))\n",
    "            \n",
    "            LOWMIN.append(np.where(globals()['df_%s' %_ticker][globals()['df_%s' %_ticker].TimeRange==day].iloc[:i+1]['Low'].min()\\\n",
    "                > lowday,lowday,globals()['df_%s' %_ticker][globals()['df_%s' %_ticker].TimeRange==day].iloc[:i+1]['Low'].min()))\n",
    "\n",
    "    globals()['hourly_%s' %_ticker]['HighMax'] = HIGHMAX\n",
    "    globals()['hourly_%s' %_ticker]['LowMin'] = LOWMIN\n",
    "    globals()['df_%s' %_ticker]['temp'] = globals()['df_%s' %_ticker].High - globals()['df_%s' %_ticker].Low\n",
    "    globals()['df_%s' %_ticker]['ADR'+str(_window)] = globals()['df_%s' %_ticker]['temp'].rolling(5).mean().shift(1)\n",
    "    globals()['df_%s' %_ticker]['ADR_HIGH'] = globals()['df_%s' %_ticker].Low + globals()['df_%s' %_ticker]['ADR'+str(_window)]\n",
    "    globals()['df_%s' %_ticker]['ADR_LOW'] = globals()['df_%s' %_ticker].High - globals()['df_%s' %_ticker]['ADR'+str(_window)]\n",
    "    #daily_all['ADR_'+str(_window)] = daily_all.\n",
    "    return()\n",
    "df_temp = pd.DataFrame()\n",
    "number_of_cpu = joblib.cpu_count()\n",
    "delayed_funcs = [delayed(punch)(df_all,daily_all=daily_all,weekly_all=weekly_all,_ticker=_ticker) for _ticker in tqdm(TICKER_LIST)]\n",
    "parallel_pool = Parallel(n_jobs=number_of_cpu,prefer=\"processes\")\n",
    "df_temp = df_temp.append(parallel_pool(delayed_funcs))"
   ]
  },
  {
   "cell_type": "code",
   "execution_count": 16,
   "metadata": {},
   "outputs": [],
   "source": [
    "engine.say(\"Finito caucau\")\n",
    "engine.runAndWait()"
   ]
  },
  {
   "cell_type": "code",
   "execution_count": null,
   "metadata": {},
   "outputs": [],
   "source": []
  },
  {
   "cell_type": "code",
   "execution_count": null,
   "metadata": {},
   "outputs": [],
   "source": []
  },
  {
   "cell_type": "code",
   "execution_count": null,
   "metadata": {},
   "outputs": [],
   "source": []
  },
  {
   "cell_type": "code",
   "execution_count": 63,
   "metadata": {},
   "outputs": [],
   "source": [
    "df_all['Signal'] = np.where(((df_all['Stochastic_15']<20)&(df_all['SMA_8']>=df_all['Low'])),1,np.where(((df_all['Stochastic_15']>80)&(df_all['SMA_8']<=df_all['High'])),-1,0))"
   ]
  },
  {
   "cell_type": "code",
   "execution_count": 69,
   "metadata": {},
   "outputs": [
    {
     "output_type": "stream",
     "name": "stdout",
     "text": [
      "Librairies imported\n",
      "\n",
      "Début des opérations horodatée à 2021-01-10 23:01:04.476283\n",
      "\n",
      "Chargement de la nouvelle base\n",
      "\n",
      "\n",
      "\u001b[35m Le rate du ticker EUR/USD est à  1 \u001b[0m\n",
      "Bases chargées\n",
      "TETEL process effectué\n",
      "\u001b[36m ENTERING THE BACKTEST \u001b[0m\n",
      "100%|██████████| 66596/66596 [00:00<00:00, 67090.52it/s]\n",
      "\u001b[34m Pour le ticker \u001b[33m EUR/USD \u001b[0m\n",
      "\u001b[35m \n",
      "Les gains faramineux s'élèvent à : $ \u001b[32m 1574.5 !. En  24 \u001b[0m  transactions.\n",
      "\u001b[32m \n",
      "Nbre de winners : 5 \u001b[0m\n",
      "\u001b[31m \n",
      "Nbre de loosers : 19 \u001b[0m\n",
      "Temps d'excution du BT 0:00:07.251729\n",
      "\u001b[33m EUR/USD \u001b[34m results \u001b[0m\n",
      "\u001b[35m Tested Period 2010-01-04  à 2020-12-31 \u001b[0m\n",
      "\u001b[36m Total Number of trades 24 \u001b[0m\n",
      "Started Cash : 50000\n",
      "P&L  in currency: \u001b[32m 1574.5$ \u001b[0m\n",
      "P&L in %: \u001b[32m 0.79% \u001b[0m\n",
      "Average trade duration 17.3\n",
      "# Winners  5.0\n",
      "# Loosers  19.0\n",
      "Cumulated gains 3491.5\n",
      "Cumulated losses -1917.0\n",
      "\u001b[34m PROFIT FACTOR :  1.82 \u001b[0m\n",
      "\u001b[36m Winners Ratio : 20.83 % \u001b[0m\n",
      "Average Winners 698.3\n",
      "% Average Winners 0.35\n",
      "Average Loosers -106.5\n",
      "% Average Loosers -0.05\n",
      "Average pnl 65.6\n",
      "% Average pnl 0.03\n",
      "Number of opened trades 24\n",
      "Number of closed trades 24\n",
      "Max Exposure 2 x  50000 =  100000 $\n",
      "CPU times: user 1.22 s, sys: 19.8 ms, total: 1.24 s\n",
      "Wall time: 10.5 s\n"
     ]
    }
   ],
   "source": [
    "%%time\n",
    "from librairies.bt import bt\n",
    "\n",
    "_year_bottom = '2010-01-04'\n",
    "_year_top = '2020-12-31'\n",
    "_nb_bougie_exit = 1000000000\n",
    "_trigger_reengage = 0\n",
    "_trigger_target = 0\n",
    "_trigger_invers = 0\n",
    "_trigger_sl = 0\n",
    "_verbose = 0\n",
    "_cash_ini = 200000\n",
    "_rate = 1\n",
    "x = 'EUR/USD'\n",
    "_target = 0.003\n",
    "_exposure = 3\n",
    "_size = 50000\n",
    "_sl = 0.003\n",
    "df = df_all[df_all.Symbol==x.replace('/','')]\n",
    "\n",
    "TRACKER = bt(df,_year_bottom,_year_top,_nb_bougie_exit,_trigger_reengage,_trigger_target,_trigger_invers,_trigger_sl,_verbose,_cash_ini,\\\n",
    "        _rate,x,_target,_exposure,_size,_sl)"
   ]
  },
  {
   "cell_type": "code",
   "execution_count": null,
   "metadata": {},
   "outputs": [],
   "source": []
  }
 ]
}