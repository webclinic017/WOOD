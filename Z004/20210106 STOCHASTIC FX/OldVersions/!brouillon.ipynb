{
 "metadata": {
  "language_info": {
   "codemirror_mode": {
    "name": "ipython",
    "version": 3
   },
   "file_extension": ".py",
   "mimetype": "text/x-python",
   "name": "python",
   "nbconvert_exporter": "python",
   "pygments_lexer": "ipython3",
   "version": "3.8.5-final"
  },
  "orig_nbformat": 2,
  "kernelspec": {
   "name": "python3",
   "display_name": "Python 3.8.5 64-bit",
   "metadata": {
    "interpreter": {
     "hash": "7f9c69b77f8cb78a9d8b8acc2d09c3972908e6673afd8bfd04ee2f6acaaac495"
    }
   }
  }
 },
 "nbformat": 4,
 "nbformat_minor": 2,
 "cells": [
  {
   "cell_type": "code",
   "execution_count": 4,
   "metadata": {},
   "outputs": [],
   "source": [
    "import time\n",
    "import pandas as pd\n",
    "import numpy as np\n",
    "import datetime as dt\n",
    "import random\n",
    "import datetime as dt\n",
    "import colorama as col"
   ]
  },
  {
   "cell_type": "code",
   "execution_count": 5,
   "metadata": {},
   "outputs": [
    {
     "output_type": "stream",
     "name": "stdout",
     "text": [
      "Début des opérations horodatée à \u001b[33m 2021-02-03 22:09:20.005457 \u001b[0m\n"
     ]
    }
   ],
   "source": [
    "_t1 = dt.datetime.now()\n",
    "print('Début des opérations horodatée à',col.Fore.YELLOW,dt.datetime.now(),col.Style.RESET_ALL)"
   ]
  },
  {
   "cell_type": "code",
   "execution_count": 6,
   "metadata": {},
   "outputs": [
    {
     "output_type": "stream",
     "name": "stdout",
     "text": [
      "Fin des opérations horodatée à \u001b[33m 2021-02-03 22:09:45.816237 \u001b[0m\n"
     ]
    }
   ],
   "source": [
    "_t2 = dt.datetime.now()\n",
    "print('Fin des opérations horodatée à',col.Fore.YELLOW,dt.datetime.now(),col.Style.RESET_ALL)"
   ]
  },
  {
   "cell_type": "code",
   "execution_count": 17,
   "metadata": {},
   "outputs": [
    {
     "output_type": "execute_result",
     "data": {
      "text/plain": [
       "'m15'"
      ]
     },
     "metadata": {},
     "execution_count": 17
    }
   ],
   "source": [
    "_period = input('Enter the timframe')\n",
    "_period"
   ]
  },
  {
   "cell_type": "code",
   "execution_count": null,
   "metadata": {},
   "outputs": [],
   "source": []
  },
  {
   "cell_type": "code",
   "execution_count": 1,
   "metadata": {},
   "outputs": [
    {
     "output_type": "stream",
     "name": "stdout",
     "text": [
      "Importing Librairies...\n"
     ]
    }
   ],
   "source": [
    "import time\n",
    "import sys\n",
    "sys.path.append('../')\n",
    "import librairies.dagfeaturingfx \n",
    "from  librairies.dagfeaturingfx import *\n",
    "from matplotlib import pyplot as plt\n",
    "import seaborn as sns\n",
    "from tqdm import tqdm\n",
    "import joblib\n",
    "from joblib import Parallel,delayed\n",
    "import pyttsx3\n",
    "from sklearn.preprocessing import MinMaxScaler,MaxAbsScaler,quantile_transform,PolynomialFeatures\n",
    "from librairies.bt import *\n",
    "from sklearn.metrics import accuracy_score\n",
    "from sklearn.metrics import precision_score\n",
    "from sklearn.metrics import recall_score\n",
    "from sklearn.metrics import precision_recall_curve\n",
    "from sklearn.metrics import confusion_matrix,classification_report\n",
    "from sklearn import svm\n",
    "from xgboost import XGBClassifier\n",
    "from sklearn.metrics import f1_score\n",
    "from sklearn.metrics import roc_curve\n",
    "from numpy import sqrt\n",
    "from numpy import argmax\n",
    "import colorama as col\n",
    "from collections import Counter\n",
    "import datetime as dt\n",
    "scaler = MinMaxScaler(feature_range=(0, 1))\n",
    "engine = pyttsx3.init()\n",
    "engine.say(\"Librairies loaded\")\n",
    "engine.runAndWait()"
   ]
  },
  {
   "cell_type": "code",
   "execution_count": 2,
   "metadata": {},
   "outputs": [
    {
     "output_type": "stream",
     "name": "stdout",
     "text": [
      "CPU times: user 3 µs, sys: 1 µs, total: 4 µs\nWall time: 5.96 µs\n"
     ]
    }
   ],
   "source": [
    "%%time\n",
    "_period = 'm15'\n",
    "TICKER_LIST = ['USD/JPY']\n",
    "_ticker = TICKER_LIST[0]\n"
   ]
  },
  {
   "cell_type": "code",
   "execution_count": 3,
   "metadata": {},
   "outputs": [
    {
     "output_type": "stream",
     "name": "stderr",
     "text": [
      "100%|██████████| 1/1 [00:00<00:00, 8322.03it/s]\u001b[33m\n",
      "Récupération des data intraday\u001b[0m\n",
      "\n",
      "\n",
      "Ajout Date\n",
      "100%|██████████| 1/1 [00:00<00:00, 4946.11it/s]\u001b[33m\n",
      "Récupération des data intraday\u001b[0m\n",
      "\n",
      "\n",
      "Ajout Date\n",
      "100%|██████████| 1/1 [00:00<00:00, 20460.02it/s]\u001b[32m\n",
      "Récupération des data daily\u001b[0m\n",
      "\n",
      "100%|██████████| 1/1 [00:00<00:00, 14979.66it/s]\n",
      "Ajout colonne 'Date dans le weekly\n",
      "\u001b[34m\n",
      "Récupération des tickers weekly\u001b[0m\n",
      "\n",
      "100%|██████████| 1/1 [00:00<00:00, 85.00it/s]\n",
      "100%|██████████| 1/1 [00:00<00:00, 15592.21it/s]\u001b[35m\n",
      "Calcul du ADR\u001b[0m\n",
      "\n",
      "Récupération de l'ADR en cours...\n",
      "\n",
      "\u001b[36m\n",
      "Calcul du ADR High & Low\u001b[0m\n",
      "En cours...\n",
      "100%|██████████| 1/1 [00:00<00:00, 9709.04it/s]\n",
      "\u001b[35m\n",
      "Calcul SMA\u001b[0m\n",
      "\u001b[35m\n",
      "Calcul BOLLINGER\u001b[0m\n",
      "100%|██████████| 1/1 [00:00<00:00, 13706.88it/s]\u001b[32m\n",
      "Calcul du Slow STOCHASTIC\u001b[0m\n",
      "\u001b[34mFenêtre de Glissement : \u001b[33m5 periodes.\u001b[0m\n",
      "\u001b[34mPériode de lissage : \u001b[33m3 periodes.\u001b[0m\n",
      "\n",
      "100%|██████████| 1/1 [00:00<00:00, 6898.53it/s]\u001b[32m\n",
      "Calcul de l'EMA_21en cours\u001b[0m\n",
      "\n",
      "100%|██████████| 1/1 [00:00<00:00, 14768.68it/s]\u001b[32m\n",
      "Processus de calcul de l'EMA_21terminé\u001b[0m\n",
      "\u001b[32m\n",
      "Calcul de l'EMA_8en cours\u001b[0m\n",
      "\n",
      "100%|██████████| 1/1 [00:00<00:00, 12228.29it/s]\u001b[32m\n",
      "Processus de calcul de l'EMA_8terminé\u001b[0m\n",
      "\u001b[35m\n",
      "Calcul des PIVOT, RESISTANCE ET SUPPORT\u001b[0m\n",
      "\n",
      "CPU times: user 2.63 s, sys: 1.54 s, total: 4.17 s\n",
      "Wall time: 1min 7s\n"
     ]
    },
    {
     "output_type": "execute_result",
     "data": {
      "text/plain": [
       "                Open      High       Low     Close  Symbol       Date  \\\n",
       "Lindex                                                                  \n",
       "2010-01-04   92.7435   93.7695   91.2540   92.6210  USDJPY 2010-01-04   \n",
       "2010-01-11   92.3600   92.6655   90.6020   90.8095  USDJPY 2010-01-11   \n",
       "2010-01-18   90.8540   91.8735   89.7865   89.8545  USDJPY 2010-01-18   \n",
       "2010-01-25   90.0020   90.9260   89.1365   90.2650  USDJPY 2010-01-25   \n",
       "2010-02-01   90.2495   91.2785   88.5765   89.3845  USDJPY 2010-02-01   \n",
       "...              ...       ...       ...       ...     ...        ...   \n",
       "2020-11-30  104.0885  104.7525  103.6710  104.1845  USDJPY 2020-11-30   \n",
       "2020-12-07  104.2065  104.5790  103.8235  104.0225  USDJPY 2020-12-07   \n",
       "2020-12-14  103.9650  104.1520  102.8745  103.2940  USDJPY 2020-12-14   \n",
       "2020-12-21  103.4795  103.8910  103.2520  103.6755  USDJPY 2020-12-21   \n",
       "2020-12-28  103.5290  103.8985  102.9615  103.2555  USDJPY 2020-12-28   \n",
       "\n",
       "                    PP         S38         S62        S100        S138  \\\n",
       "Lindex                                                                   \n",
       "2010-01-04         NaN         NaN         NaN         NaN         NaN   \n",
       "2010-01-11   92.548167   91.587246   90.993588   90.032667   89.071746   \n",
       "2010-01-18   91.359000   90.570743   90.083757   89.295500   88.507243   \n",
       "2010-01-25   90.504833   89.707599   89.215067   88.417833   87.620599   \n",
       "2010-02-01   90.109167   89.425578   89.003256   88.319667   87.636078   \n",
       "...                ...         ...         ...         ...         ...   \n",
       "2020-11-30  104.174000  103.761631  103.506869  103.094500  102.682131   \n",
       "2020-12-07  104.202667  103.789534  103.534300  103.121167  102.708034   \n",
       "2020-12-14  104.141667  103.853066  103.674768  103.386167  103.097566   \n",
       "2020-12-21  103.440167  102.952162  102.650672  102.162667  101.674662   \n",
       "2020-12-28  103.606167  103.362069  103.211265  102.967167  102.723069   \n",
       "\n",
       "                  S162        S200         R38         R62        R100  \\\n",
       "Lindex                                                                   \n",
       "2010-01-04         NaN         NaN         NaN         NaN         NaN   \n",
       "2010-01-11   88.478088   87.517167   93.509088   94.102746   95.063667   \n",
       "2010-01-18   88.020257   87.232000   92.147257   92.634243   93.422500   \n",
       "2010-01-25   87.128067   86.330833   91.302067   91.794599   92.591833   \n",
       "2010-02-01   87.213756   86.530167   90.792756   91.215078   91.898667   \n",
       "...                ...         ...         ...         ...         ...   \n",
       "2020-11-30  102.427369  102.015000  104.586369  104.841131  105.253500   \n",
       "2020-12-07  102.452800  102.039667  104.615800  104.871034  105.284167   \n",
       "2020-12-14  102.919268  102.630667  104.430268  104.608566  104.897167   \n",
       "2020-12-21  101.373172  100.885167  103.928172  104.229662  104.717667   \n",
       "2020-12-28  102.572265  102.328167  103.850265  104.001069  104.245167   \n",
       "\n",
       "                  R138        R162        R200  \n",
       "Lindex                                          \n",
       "2010-01-04         NaN         NaN         NaN  \n",
       "2010-01-11   96.024588   96.618246   97.579167  \n",
       "2010-01-18   94.210757   94.697743   95.486000  \n",
       "2010-01-25   93.389067   93.881599   94.678833  \n",
       "2010-02-01   92.582256   93.004578   93.688167  \n",
       "...                ...         ...         ...  \n",
       "2020-11-30  105.665869  105.920631  106.333000  \n",
       "2020-12-07  105.697300  105.952534  106.365667  \n",
       "2020-12-14  105.185768  105.364066  105.652667  \n",
       "2020-12-21  105.205672  105.507162  105.995167  \n",
       "2020-12-28  104.489265  104.640069  104.884167  \n",
       "\n",
       "[574 rows x 19 columns]"
      ],
      "text/html": "<div>\n<style scoped>\n    .dataframe tbody tr th:only-of-type {\n        vertical-align: middle;\n    }\n\n    .dataframe tbody tr th {\n        vertical-align: top;\n    }\n\n    .dataframe thead th {\n        text-align: right;\n    }\n</style>\n<table border=\"1\" class=\"dataframe\">\n  <thead>\n    <tr style=\"text-align: right;\">\n      <th></th>\n      <th>Open</th>\n      <th>High</th>\n      <th>Low</th>\n      <th>Close</th>\n      <th>Symbol</th>\n      <th>Date</th>\n      <th>PP</th>\n      <th>S38</th>\n      <th>S62</th>\n      <th>S100</th>\n      <th>S138</th>\n      <th>S162</th>\n      <th>S200</th>\n      <th>R38</th>\n      <th>R62</th>\n      <th>R100</th>\n      <th>R138</th>\n      <th>R162</th>\n      <th>R200</th>\n    </tr>\n    <tr>\n      <th>Lindex</th>\n      <th></th>\n      <th></th>\n      <th></th>\n      <th></th>\n      <th></th>\n      <th></th>\n      <th></th>\n      <th></th>\n      <th></th>\n      <th></th>\n      <th></th>\n      <th></th>\n      <th></th>\n      <th></th>\n      <th></th>\n      <th></th>\n      <th></th>\n      <th></th>\n      <th></th>\n    </tr>\n  </thead>\n  <tbody>\n    <tr>\n      <th>2010-01-04</th>\n      <td>92.7435</td>\n      <td>93.7695</td>\n      <td>91.2540</td>\n      <td>92.6210</td>\n      <td>USDJPY</td>\n      <td>2010-01-04</td>\n      <td>NaN</td>\n      <td>NaN</td>\n      <td>NaN</td>\n      <td>NaN</td>\n      <td>NaN</td>\n      <td>NaN</td>\n      <td>NaN</td>\n      <td>NaN</td>\n      <td>NaN</td>\n      <td>NaN</td>\n      <td>NaN</td>\n      <td>NaN</td>\n      <td>NaN</td>\n    </tr>\n    <tr>\n      <th>2010-01-11</th>\n      <td>92.3600</td>\n      <td>92.6655</td>\n      <td>90.6020</td>\n      <td>90.8095</td>\n      <td>USDJPY</td>\n      <td>2010-01-11</td>\n      <td>92.548167</td>\n      <td>91.587246</td>\n      <td>90.993588</td>\n      <td>90.032667</td>\n      <td>89.071746</td>\n      <td>88.478088</td>\n      <td>87.517167</td>\n      <td>93.509088</td>\n      <td>94.102746</td>\n      <td>95.063667</td>\n      <td>96.024588</td>\n      <td>96.618246</td>\n      <td>97.579167</td>\n    </tr>\n    <tr>\n      <th>2010-01-18</th>\n      <td>90.8540</td>\n      <td>91.8735</td>\n      <td>89.7865</td>\n      <td>89.8545</td>\n      <td>USDJPY</td>\n      <td>2010-01-18</td>\n      <td>91.359000</td>\n      <td>90.570743</td>\n      <td>90.083757</td>\n      <td>89.295500</td>\n      <td>88.507243</td>\n      <td>88.020257</td>\n      <td>87.232000</td>\n      <td>92.147257</td>\n      <td>92.634243</td>\n      <td>93.422500</td>\n      <td>94.210757</td>\n      <td>94.697743</td>\n      <td>95.486000</td>\n    </tr>\n    <tr>\n      <th>2010-01-25</th>\n      <td>90.0020</td>\n      <td>90.9260</td>\n      <td>89.1365</td>\n      <td>90.2650</td>\n      <td>USDJPY</td>\n      <td>2010-01-25</td>\n      <td>90.504833</td>\n      <td>89.707599</td>\n      <td>89.215067</td>\n      <td>88.417833</td>\n      <td>87.620599</td>\n      <td>87.128067</td>\n      <td>86.330833</td>\n      <td>91.302067</td>\n      <td>91.794599</td>\n      <td>92.591833</td>\n      <td>93.389067</td>\n      <td>93.881599</td>\n      <td>94.678833</td>\n    </tr>\n    <tr>\n      <th>2010-02-01</th>\n      <td>90.2495</td>\n      <td>91.2785</td>\n      <td>88.5765</td>\n      <td>89.3845</td>\n      <td>USDJPY</td>\n      <td>2010-02-01</td>\n      <td>90.109167</td>\n      <td>89.425578</td>\n      <td>89.003256</td>\n      <td>88.319667</td>\n      <td>87.636078</td>\n      <td>87.213756</td>\n      <td>86.530167</td>\n      <td>90.792756</td>\n      <td>91.215078</td>\n      <td>91.898667</td>\n      <td>92.582256</td>\n      <td>93.004578</td>\n      <td>93.688167</td>\n    </tr>\n    <tr>\n      <th>...</th>\n      <td>...</td>\n      <td>...</td>\n      <td>...</td>\n      <td>...</td>\n      <td>...</td>\n      <td>...</td>\n      <td>...</td>\n      <td>...</td>\n      <td>...</td>\n      <td>...</td>\n      <td>...</td>\n      <td>...</td>\n      <td>...</td>\n      <td>...</td>\n      <td>...</td>\n      <td>...</td>\n      <td>...</td>\n      <td>...</td>\n      <td>...</td>\n    </tr>\n    <tr>\n      <th>2020-11-30</th>\n      <td>104.0885</td>\n      <td>104.7525</td>\n      <td>103.6710</td>\n      <td>104.1845</td>\n      <td>USDJPY</td>\n      <td>2020-11-30</td>\n      <td>104.174000</td>\n      <td>103.761631</td>\n      <td>103.506869</td>\n      <td>103.094500</td>\n      <td>102.682131</td>\n      <td>102.427369</td>\n      <td>102.015000</td>\n      <td>104.586369</td>\n      <td>104.841131</td>\n      <td>105.253500</td>\n      <td>105.665869</td>\n      <td>105.920631</td>\n      <td>106.333000</td>\n    </tr>\n    <tr>\n      <th>2020-12-07</th>\n      <td>104.2065</td>\n      <td>104.5790</td>\n      <td>103.8235</td>\n      <td>104.0225</td>\n      <td>USDJPY</td>\n      <td>2020-12-07</td>\n      <td>104.202667</td>\n      <td>103.789534</td>\n      <td>103.534300</td>\n      <td>103.121167</td>\n      <td>102.708034</td>\n      <td>102.452800</td>\n      <td>102.039667</td>\n      <td>104.615800</td>\n      <td>104.871034</td>\n      <td>105.284167</td>\n      <td>105.697300</td>\n      <td>105.952534</td>\n      <td>106.365667</td>\n    </tr>\n    <tr>\n      <th>2020-12-14</th>\n      <td>103.9650</td>\n      <td>104.1520</td>\n      <td>102.8745</td>\n      <td>103.2940</td>\n      <td>USDJPY</td>\n      <td>2020-12-14</td>\n      <td>104.141667</td>\n      <td>103.853066</td>\n      <td>103.674768</td>\n      <td>103.386167</td>\n      <td>103.097566</td>\n      <td>102.919268</td>\n      <td>102.630667</td>\n      <td>104.430268</td>\n      <td>104.608566</td>\n      <td>104.897167</td>\n      <td>105.185768</td>\n      <td>105.364066</td>\n      <td>105.652667</td>\n    </tr>\n    <tr>\n      <th>2020-12-21</th>\n      <td>103.4795</td>\n      <td>103.8910</td>\n      <td>103.2520</td>\n      <td>103.6755</td>\n      <td>USDJPY</td>\n      <td>2020-12-21</td>\n      <td>103.440167</td>\n      <td>102.952162</td>\n      <td>102.650672</td>\n      <td>102.162667</td>\n      <td>101.674662</td>\n      <td>101.373172</td>\n      <td>100.885167</td>\n      <td>103.928172</td>\n      <td>104.229662</td>\n      <td>104.717667</td>\n      <td>105.205672</td>\n      <td>105.507162</td>\n      <td>105.995167</td>\n    </tr>\n    <tr>\n      <th>2020-12-28</th>\n      <td>103.5290</td>\n      <td>103.8985</td>\n      <td>102.9615</td>\n      <td>103.2555</td>\n      <td>USDJPY</td>\n      <td>2020-12-28</td>\n      <td>103.606167</td>\n      <td>103.362069</td>\n      <td>103.211265</td>\n      <td>102.967167</td>\n      <td>102.723069</td>\n      <td>102.572265</td>\n      <td>102.328167</td>\n      <td>103.850265</td>\n      <td>104.001069</td>\n      <td>104.245167</td>\n      <td>104.489265</td>\n      <td>104.640069</td>\n      <td>104.884167</td>\n    </tr>\n  </tbody>\n</table>\n<p>574 rows × 19 columns</p>\n</div>"
     },
     "metadata": {},
     "execution_count": 3
    }
   ],
   "source": [
    "%%time\n",
    "df_all = get_all_data(TICKER_LIST,_period=_period)\n",
    "df_all = timerange1D(df_all)\n",
    "hourly_all = get_all_data(TICKER_LIST,_period='H1')\n",
    "hourly_all = timerange1D(hourly_all)\n",
    "daily_all = get_daily(hourly_all,TICKER_LIST)\n",
    "del hourly_all\n",
    "daily_all = timerange1W(daily_all)\n",
    "weekly_all = get_weekly(daily_all,TICKER_LIST)\n",
    "daily_all = adr(daily_all,_window=14)\n",
    "df_all = getadr(daily_all,df_all,TICKER_LIST)\n",
    "df_all = adrhnl(daily_all,df_all,TICKER_LIST)\n",
    "df_all = sma(df_all=df_all,_window=200)\n",
    "df_all = bollinger(df_all,_slow=20)\n",
    "df_all = slowstochastic(df_all,TICKER_LIST)\n",
    "df_all = ema(df_all,21,TICKER_LIST)\n",
    "df_all = ema(df_all,8,TICKER_LIST)\n",
    "weekly_all = pivot(weekly_all,TICKER_LIST)\n",
    "weekly_all"
   ]
  },
  {
   "cell_type": "code",
   "execution_count": 4,
   "metadata": {},
   "outputs": [
    {
     "output_type": "execute_result",
     "data": {
      "text/plain": [
       "               Close       Date      High       Low      Open  Symbol  \\\n",
       "Lindex                                                                  \n",
       "2010-01-04   92.4775 2010-01-04   93.2140   92.1895   92.7435  USDJPY   \n",
       "2010-01-05   91.5595 2010-01-05   92.5190   91.2540   92.4775  USDJPY   \n",
       "2010-01-06   92.3640 2010-01-06   92.7425   91.5240   91.5595  USDJPY   \n",
       "2010-01-07   93.4560 2010-01-07   93.7695   92.1060   92.3640  USDJPY   \n",
       "2010-01-08   92.6210 2010-01-08   93.6700   92.2760   93.4560  USDJPY   \n",
       "...              ...        ...       ...       ...       ...     ...   \n",
       "2020-12-24  103.6755 2020-12-24  103.7655  103.5015  103.5355  USDJPY   \n",
       "2020-12-28  103.6915 2020-12-28  103.8985  103.4025  103.5290  USDJPY   \n",
       "2020-12-29  103.5545 2020-12-29  103.8045  103.4630  103.6915  USDJPY   \n",
       "2020-12-30  103.1285 2020-12-30  103.5840  102.9615  103.5545  USDJPY   \n",
       "2020-12-31  103.2555 2020-12-31  103.3170  102.9950  103.1285  USDJPY   \n",
       "\n",
       "                 ADR  \n",
       "Lindex                \n",
       "2010-01-04       NaN  \n",
       "2010-01-05       NaN  \n",
       "2010-01-06       NaN  \n",
       "2010-01-07       NaN  \n",
       "2010-01-08       NaN  \n",
       "...              ...  \n",
       "2020-12-24  0.472250  \n",
       "2020-12-28  0.454929  \n",
       "2020-12-29  0.462429  \n",
       "2020-12-30  0.468750  \n",
       "2020-12-31  0.487964  \n",
       "\n",
       "[2853 rows x 7 columns]"
      ],
      "text/html": "<div>\n<style scoped>\n    .dataframe tbody tr th:only-of-type {\n        vertical-align: middle;\n    }\n\n    .dataframe tbody tr th {\n        vertical-align: top;\n    }\n\n    .dataframe thead th {\n        text-align: right;\n    }\n</style>\n<table border=\"1\" class=\"dataframe\">\n  <thead>\n    <tr style=\"text-align: right;\">\n      <th></th>\n      <th>Close</th>\n      <th>Date</th>\n      <th>High</th>\n      <th>Low</th>\n      <th>Open</th>\n      <th>Symbol</th>\n      <th>ADR</th>\n    </tr>\n    <tr>\n      <th>Lindex</th>\n      <th></th>\n      <th></th>\n      <th></th>\n      <th></th>\n      <th></th>\n      <th></th>\n      <th></th>\n    </tr>\n  </thead>\n  <tbody>\n    <tr>\n      <th>2010-01-04</th>\n      <td>92.4775</td>\n      <td>2010-01-04</td>\n      <td>93.2140</td>\n      <td>92.1895</td>\n      <td>92.7435</td>\n      <td>USDJPY</td>\n      <td>NaN</td>\n    </tr>\n    <tr>\n      <th>2010-01-05</th>\n      <td>91.5595</td>\n      <td>2010-01-05</td>\n      <td>92.5190</td>\n      <td>91.2540</td>\n      <td>92.4775</td>\n      <td>USDJPY</td>\n      <td>NaN</td>\n    </tr>\n    <tr>\n      <th>2010-01-06</th>\n      <td>92.3640</td>\n      <td>2010-01-06</td>\n      <td>92.7425</td>\n      <td>91.5240</td>\n      <td>91.5595</td>\n      <td>USDJPY</td>\n      <td>NaN</td>\n    </tr>\n    <tr>\n      <th>2010-01-07</th>\n      <td>93.4560</td>\n      <td>2010-01-07</td>\n      <td>93.7695</td>\n      <td>92.1060</td>\n      <td>92.3640</td>\n      <td>USDJPY</td>\n      <td>NaN</td>\n    </tr>\n    <tr>\n      <th>2010-01-08</th>\n      <td>92.6210</td>\n      <td>2010-01-08</td>\n      <td>93.6700</td>\n      <td>92.2760</td>\n      <td>93.4560</td>\n      <td>USDJPY</td>\n      <td>NaN</td>\n    </tr>\n    <tr>\n      <th>...</th>\n      <td>...</td>\n      <td>...</td>\n      <td>...</td>\n      <td>...</td>\n      <td>...</td>\n      <td>...</td>\n      <td>...</td>\n    </tr>\n    <tr>\n      <th>2020-12-24</th>\n      <td>103.6755</td>\n      <td>2020-12-24</td>\n      <td>103.7655</td>\n      <td>103.5015</td>\n      <td>103.5355</td>\n      <td>USDJPY</td>\n      <td>0.472250</td>\n    </tr>\n    <tr>\n      <th>2020-12-28</th>\n      <td>103.6915</td>\n      <td>2020-12-28</td>\n      <td>103.8985</td>\n      <td>103.4025</td>\n      <td>103.5290</td>\n      <td>USDJPY</td>\n      <td>0.454929</td>\n    </tr>\n    <tr>\n      <th>2020-12-29</th>\n      <td>103.5545</td>\n      <td>2020-12-29</td>\n      <td>103.8045</td>\n      <td>103.4630</td>\n      <td>103.6915</td>\n      <td>USDJPY</td>\n      <td>0.462429</td>\n    </tr>\n    <tr>\n      <th>2020-12-30</th>\n      <td>103.1285</td>\n      <td>2020-12-30</td>\n      <td>103.5840</td>\n      <td>102.9615</td>\n      <td>103.5545</td>\n      <td>USDJPY</td>\n      <td>0.468750</td>\n    </tr>\n    <tr>\n      <th>2020-12-31</th>\n      <td>103.2555</td>\n      <td>2020-12-31</td>\n      <td>103.3170</td>\n      <td>102.9950</td>\n      <td>103.1285</td>\n      <td>USDJPY</td>\n      <td>0.487964</td>\n    </tr>\n  </tbody>\n</table>\n<p>2853 rows × 7 columns</p>\n</div>"
     },
     "metadata": {},
     "execution_count": 4
    }
   ],
   "source": [
    "daily_all"
   ]
  },
  {
   "cell_type": "code",
   "execution_count": 5,
   "metadata": {},
   "outputs": [
    {
     "output_type": "execute_result",
     "data": {
      "text/plain": [
       "                        Close  CloseAsk  CloseBid      High  HighAsk  HighBid  \\\n",
       "Lindex                                                                          \n",
       "2010-01-04 00:00:00   92.8700    92.879    92.861   92.8865   92.891   92.882   \n",
       "2010-01-04 00:15:00   92.7945    92.803    92.786   92.8895   92.894   92.885   \n",
       "2010-01-04 00:30:00   92.9430    92.949    92.937   92.9605   92.967   92.954   \n",
       "2010-01-04 00:45:00   92.8960    92.903    92.889   92.9645   92.971   92.958   \n",
       "2010-01-04 01:00:00   92.9155    92.922    92.909   92.9585   92.964   92.953   \n",
       "...                       ...       ...       ...       ...      ...      ...   \n",
       "2020-12-31 18:00:00  103.2555   103.262   103.249  103.3005  103.307  103.294   \n",
       "2020-12-31 18:15:00  103.2645   103.271   103.258  103.2695  103.276  103.263   \n",
       "2020-12-31 18:30:00  103.2555   103.262   103.249  103.2770  103.284  103.270   \n",
       "2020-12-31 18:45:00  103.2535   103.260   103.247  103.2650  103.271  103.259   \n",
       "2020-12-31 19:00:00  103.2555   103.265   103.246  103.2590  103.267  103.251   \n",
       "\n",
       "                          Low   LowAsk   LowBid      Open  ...    DayLow  \\\n",
       "Lindex                                                     ...             \n",
       "2010-01-04 00:00:00   92.7435   92.752   92.735   92.7435  ...   92.1895   \n",
       "2010-01-04 00:15:00   92.7585   92.767   92.750   92.8700  ...   92.1895   \n",
       "2010-01-04 00:30:00   92.7795   92.788   92.771   92.7945  ...   92.1895   \n",
       "2010-01-04 00:45:00   92.8950   92.903   92.887   92.9430  ...   92.1895   \n",
       "2010-01-04 01:00:00   92.8925   92.900   92.885   92.8960  ...   92.1895   \n",
       "...                       ...      ...      ...       ...  ...       ...   \n",
       "2020-12-31 18:00:00  103.2525  103.259  103.246  103.2940  ...  102.9950   \n",
       "2020-12-31 18:15:00  103.2515  103.258  103.245  103.2555  ...  102.9950   \n",
       "2020-12-31 18:30:00  103.2505  103.257  103.244  103.2645  ...  102.9950   \n",
       "2020-12-31 18:45:00  103.2435  103.249  103.238  103.2555  ...  102.9950   \n",
       "2020-12-31 19:00:00  103.2520  103.258  103.246  103.2535  ...  102.9950   \n",
       "\n",
       "                       ADR_High     ADR_Low     SMA_200   UpperBand  \\\n",
       "Lindex                                                                \n",
       "2010-01-04 00:00:00         NaN         NaN         NaN         NaN   \n",
       "2010-01-04 00:15:00         NaN         NaN         NaN         NaN   \n",
       "2010-01-04 00:30:00         NaN         NaN         NaN         NaN   \n",
       "2010-01-04 00:45:00         NaN         NaN         NaN         NaN   \n",
       "2010-01-04 01:00:00         NaN         NaN         NaN         NaN   \n",
       "...                         ...         ...         ...         ...   \n",
       "2020-12-31 18:00:00  103.482964  102.829036  103.250208  103.332538   \n",
       "2020-12-31 18:15:00  103.482964  102.829036  103.248910  103.344614   \n",
       "2020-12-31 18:30:00  103.482964  102.829036  103.247605  103.353474   \n",
       "2020-12-31 18:45:00  103.482964  102.829036  103.246335  103.359571   \n",
       "2020-12-31 19:00:00  103.482964  102.829036  103.245143  103.364814   \n",
       "\n",
       "                      LowerBand    slow_K5    slow_D5      EMA_21       EMA_8  \n",
       "Lindex                                                                         \n",
       "2010-01-04 00:00:00         NaN        NaN        NaN   92.870000   92.870000  \n",
       "2010-01-04 00:15:00         NaN        NaN        NaN   92.863136   92.853222  \n",
       "2010-01-04 00:30:00         NaN        NaN        NaN   92.870397   92.873173  \n",
       "2010-01-04 00:45:00         NaN        NaN        NaN   92.872724   92.878246  \n",
       "2010-01-04 01:00:00         NaN        NaN        NaN   92.876613   92.886524  \n",
       "...                         ...        ...        ...         ...         ...  \n",
       "2020-12-31 18:00:00  102.971362  69.156700  57.036481  103.174874  103.228817  \n",
       "2020-12-31 18:15:00  102.978736  70.424513  66.480025  103.183021  103.236747  \n",
       "2020-12-31 18:30:00  102.987876  57.029569  65.536928  103.189610  103.240914  \n",
       "2020-12-31 18:45:00  103.000379  48.210987  58.555023  103.195419  103.243711  \n",
       "2020-12-31 19:00:00  103.012786  34.413393  46.551317  103.200880  103.246331  \n",
       "\n",
       "[266655 rows x 26 columns]"
      ],
      "text/html": "<div>\n<style scoped>\n    .dataframe tbody tr th:only-of-type {\n        vertical-align: middle;\n    }\n\n    .dataframe tbody tr th {\n        vertical-align: top;\n    }\n\n    .dataframe thead th {\n        text-align: right;\n    }\n</style>\n<table border=\"1\" class=\"dataframe\">\n  <thead>\n    <tr style=\"text-align: right;\">\n      <th></th>\n      <th>Close</th>\n      <th>CloseAsk</th>\n      <th>CloseBid</th>\n      <th>High</th>\n      <th>HighAsk</th>\n      <th>HighBid</th>\n      <th>Low</th>\n      <th>LowAsk</th>\n      <th>LowBid</th>\n      <th>Open</th>\n      <th>...</th>\n      <th>DayLow</th>\n      <th>ADR_High</th>\n      <th>ADR_Low</th>\n      <th>SMA_200</th>\n      <th>UpperBand</th>\n      <th>LowerBand</th>\n      <th>slow_K5</th>\n      <th>slow_D5</th>\n      <th>EMA_21</th>\n      <th>EMA_8</th>\n    </tr>\n    <tr>\n      <th>Lindex</th>\n      <th></th>\n      <th></th>\n      <th></th>\n      <th></th>\n      <th></th>\n      <th></th>\n      <th></th>\n      <th></th>\n      <th></th>\n      <th></th>\n      <th></th>\n      <th></th>\n      <th></th>\n      <th></th>\n      <th></th>\n      <th></th>\n      <th></th>\n      <th></th>\n      <th></th>\n      <th></th>\n      <th></th>\n    </tr>\n  </thead>\n  <tbody>\n    <tr>\n      <th>2010-01-04 00:00:00</th>\n      <td>92.8700</td>\n      <td>92.879</td>\n      <td>92.861</td>\n      <td>92.8865</td>\n      <td>92.891</td>\n      <td>92.882</td>\n      <td>92.7435</td>\n      <td>92.752</td>\n      <td>92.735</td>\n      <td>92.7435</td>\n      <td>...</td>\n      <td>92.1895</td>\n      <td>NaN</td>\n      <td>NaN</td>\n      <td>NaN</td>\n      <td>NaN</td>\n      <td>NaN</td>\n      <td>NaN</td>\n      <td>NaN</td>\n      <td>92.870000</td>\n      <td>92.870000</td>\n    </tr>\n    <tr>\n      <th>2010-01-04 00:15:00</th>\n      <td>92.7945</td>\n      <td>92.803</td>\n      <td>92.786</td>\n      <td>92.8895</td>\n      <td>92.894</td>\n      <td>92.885</td>\n      <td>92.7585</td>\n      <td>92.767</td>\n      <td>92.750</td>\n      <td>92.8700</td>\n      <td>...</td>\n      <td>92.1895</td>\n      <td>NaN</td>\n      <td>NaN</td>\n      <td>NaN</td>\n      <td>NaN</td>\n      <td>NaN</td>\n      <td>NaN</td>\n      <td>NaN</td>\n      <td>92.863136</td>\n      <td>92.853222</td>\n    </tr>\n    <tr>\n      <th>2010-01-04 00:30:00</th>\n      <td>92.9430</td>\n      <td>92.949</td>\n      <td>92.937</td>\n      <td>92.9605</td>\n      <td>92.967</td>\n      <td>92.954</td>\n      <td>92.7795</td>\n      <td>92.788</td>\n      <td>92.771</td>\n      <td>92.7945</td>\n      <td>...</td>\n      <td>92.1895</td>\n      <td>NaN</td>\n      <td>NaN</td>\n      <td>NaN</td>\n      <td>NaN</td>\n      <td>NaN</td>\n      <td>NaN</td>\n      <td>NaN</td>\n      <td>92.870397</td>\n      <td>92.873173</td>\n    </tr>\n    <tr>\n      <th>2010-01-04 00:45:00</th>\n      <td>92.8960</td>\n      <td>92.903</td>\n      <td>92.889</td>\n      <td>92.9645</td>\n      <td>92.971</td>\n      <td>92.958</td>\n      <td>92.8950</td>\n      <td>92.903</td>\n      <td>92.887</td>\n      <td>92.9430</td>\n      <td>...</td>\n      <td>92.1895</td>\n      <td>NaN</td>\n      <td>NaN</td>\n      <td>NaN</td>\n      <td>NaN</td>\n      <td>NaN</td>\n      <td>NaN</td>\n      <td>NaN</td>\n      <td>92.872724</td>\n      <td>92.878246</td>\n    </tr>\n    <tr>\n      <th>2010-01-04 01:00:00</th>\n      <td>92.9155</td>\n      <td>92.922</td>\n      <td>92.909</td>\n      <td>92.9585</td>\n      <td>92.964</td>\n      <td>92.953</td>\n      <td>92.8925</td>\n      <td>92.900</td>\n      <td>92.885</td>\n      <td>92.8960</td>\n      <td>...</td>\n      <td>92.1895</td>\n      <td>NaN</td>\n      <td>NaN</td>\n      <td>NaN</td>\n      <td>NaN</td>\n      <td>NaN</td>\n      <td>NaN</td>\n      <td>NaN</td>\n      <td>92.876613</td>\n      <td>92.886524</td>\n    </tr>\n    <tr>\n      <th>...</th>\n      <td>...</td>\n      <td>...</td>\n      <td>...</td>\n      <td>...</td>\n      <td>...</td>\n      <td>...</td>\n      <td>...</td>\n      <td>...</td>\n      <td>...</td>\n      <td>...</td>\n      <td>...</td>\n      <td>...</td>\n      <td>...</td>\n      <td>...</td>\n      <td>...</td>\n      <td>...</td>\n      <td>...</td>\n      <td>...</td>\n      <td>...</td>\n      <td>...</td>\n      <td>...</td>\n    </tr>\n    <tr>\n      <th>2020-12-31 18:00:00</th>\n      <td>103.2555</td>\n      <td>103.262</td>\n      <td>103.249</td>\n      <td>103.3005</td>\n      <td>103.307</td>\n      <td>103.294</td>\n      <td>103.2525</td>\n      <td>103.259</td>\n      <td>103.246</td>\n      <td>103.2940</td>\n      <td>...</td>\n      <td>102.9950</td>\n      <td>103.482964</td>\n      <td>102.829036</td>\n      <td>103.250208</td>\n      <td>103.332538</td>\n      <td>102.971362</td>\n      <td>69.156700</td>\n      <td>57.036481</td>\n      <td>103.174874</td>\n      <td>103.228817</td>\n    </tr>\n    <tr>\n      <th>2020-12-31 18:15:00</th>\n      <td>103.2645</td>\n      <td>103.271</td>\n      <td>103.258</td>\n      <td>103.2695</td>\n      <td>103.276</td>\n      <td>103.263</td>\n      <td>103.2515</td>\n      <td>103.258</td>\n      <td>103.245</td>\n      <td>103.2555</td>\n      <td>...</td>\n      <td>102.9950</td>\n      <td>103.482964</td>\n      <td>102.829036</td>\n      <td>103.248910</td>\n      <td>103.344614</td>\n      <td>102.978736</td>\n      <td>70.424513</td>\n      <td>66.480025</td>\n      <td>103.183021</td>\n      <td>103.236747</td>\n    </tr>\n    <tr>\n      <th>2020-12-31 18:30:00</th>\n      <td>103.2555</td>\n      <td>103.262</td>\n      <td>103.249</td>\n      <td>103.2770</td>\n      <td>103.284</td>\n      <td>103.270</td>\n      <td>103.2505</td>\n      <td>103.257</td>\n      <td>103.244</td>\n      <td>103.2645</td>\n      <td>...</td>\n      <td>102.9950</td>\n      <td>103.482964</td>\n      <td>102.829036</td>\n      <td>103.247605</td>\n      <td>103.353474</td>\n      <td>102.987876</td>\n      <td>57.029569</td>\n      <td>65.536928</td>\n      <td>103.189610</td>\n      <td>103.240914</td>\n    </tr>\n    <tr>\n      <th>2020-12-31 18:45:00</th>\n      <td>103.2535</td>\n      <td>103.260</td>\n      <td>103.247</td>\n      <td>103.2650</td>\n      <td>103.271</td>\n      <td>103.259</td>\n      <td>103.2435</td>\n      <td>103.249</td>\n      <td>103.238</td>\n      <td>103.2555</td>\n      <td>...</td>\n      <td>102.9950</td>\n      <td>103.482964</td>\n      <td>102.829036</td>\n      <td>103.246335</td>\n      <td>103.359571</td>\n      <td>103.000379</td>\n      <td>48.210987</td>\n      <td>58.555023</td>\n      <td>103.195419</td>\n      <td>103.243711</td>\n    </tr>\n    <tr>\n      <th>2020-12-31 19:00:00</th>\n      <td>103.2555</td>\n      <td>103.265</td>\n      <td>103.246</td>\n      <td>103.2590</td>\n      <td>103.267</td>\n      <td>103.251</td>\n      <td>103.2520</td>\n      <td>103.258</td>\n      <td>103.246</td>\n      <td>103.2535</td>\n      <td>...</td>\n      <td>102.9950</td>\n      <td>103.482964</td>\n      <td>102.829036</td>\n      <td>103.245143</td>\n      <td>103.364814</td>\n      <td>103.012786</td>\n      <td>34.413393</td>\n      <td>46.551317</td>\n      <td>103.200880</td>\n      <td>103.246331</td>\n    </tr>\n  </tbody>\n</table>\n<p>266655 rows × 26 columns</p>\n</div>"
     },
     "metadata": {},
     "execution_count": 5
    }
   ],
   "source": [
    "df_all"
   ]
  },
  {
   "cell_type": "code",
   "execution_count": 6,
   "metadata": {},
   "outputs": [
    {
     "output_type": "stream",
     "name": "stderr",
     "text": [
      "100%|██████████| 1/1 [00:00<00:00, 8473.34it/s]\n",
      "CPU times: user 200 ms, sys: 585 ms, total: 785 ms\n",
      "Wall time: 1.29 s\n"
     ]
    },
    {
     "output_type": "execute_result",
     "data": {
      "text/plain": [
       "                        Close  CloseAsk  CloseBid      High  HighAsk  HighBid  \\\n",
       "Lindex                                                                          \n",
       "2010-01-04 00:00:00   92.8700    92.879    92.861   92.8865   92.891   92.882   \n",
       "2010-01-04 00:15:00   92.7945    92.803    92.786   92.8895   92.894   92.885   \n",
       "2010-01-04 00:30:00   92.9430    92.949    92.937   92.9605   92.967   92.954   \n",
       "2010-01-04 00:45:00   92.8960    92.903    92.889   92.9645   92.971   92.958   \n",
       "2010-01-04 01:00:00   92.9155    92.922    92.909   92.9585   92.964   92.953   \n",
       "...                       ...       ...       ...       ...      ...      ...   \n",
       "2020-12-31 18:00:00  103.2555   103.262   103.249  103.3005  103.307  103.294   \n",
       "2020-12-31 18:15:00  103.2645   103.271   103.258  103.2695  103.276  103.263   \n",
       "2020-12-31 18:30:00  103.2555   103.262   103.249  103.2770  103.284  103.270   \n",
       "2020-12-31 18:45:00  103.2535   103.260   103.247  103.2650  103.271  103.259   \n",
       "2020-12-31 19:00:00  103.2555   103.265   103.246  103.2590  103.267  103.251   \n",
       "\n",
       "                          Low   LowAsk   LowBid      Open  ...        S100  \\\n",
       "Lindex                                                     ...               \n",
       "2010-01-04 00:00:00   92.7435   92.752   92.735   92.7435  ...         NaN   \n",
       "2010-01-04 00:15:00   92.7585   92.767   92.750   92.8700  ...         NaN   \n",
       "2010-01-04 00:30:00   92.7795   92.788   92.771   92.7945  ...         NaN   \n",
       "2010-01-04 00:45:00   92.8950   92.903   92.887   92.9430  ...         NaN   \n",
       "2010-01-04 01:00:00   92.8925   92.900   92.885   92.8960  ...         NaN   \n",
       "...                       ...      ...      ...       ...  ...         ...   \n",
       "2020-12-31 18:00:00  103.2525  103.259  103.246  103.2940  ...  102.967167   \n",
       "2020-12-31 18:15:00  103.2515  103.258  103.245  103.2555  ...  102.967167   \n",
       "2020-12-31 18:30:00  103.2505  103.257  103.244  103.2645  ...  102.967167   \n",
       "2020-12-31 18:45:00  103.2435  103.249  103.238  103.2555  ...  102.967167   \n",
       "2020-12-31 19:00:00  103.2520  103.258  103.246  103.2535  ...  102.967167   \n",
       "\n",
       "                           S138        S162        S200         R38  \\\n",
       "Lindex                                                                \n",
       "2010-01-04 00:00:00         NaN         NaN         NaN         NaN   \n",
       "2010-01-04 00:15:00         NaN         NaN         NaN         NaN   \n",
       "2010-01-04 00:30:00         NaN         NaN         NaN         NaN   \n",
       "2010-01-04 00:45:00         NaN         NaN         NaN         NaN   \n",
       "2010-01-04 01:00:00         NaN         NaN         NaN         NaN   \n",
       "...                         ...         ...         ...         ...   \n",
       "2020-12-31 18:00:00  102.723069  102.572265  102.328167  103.850265   \n",
       "2020-12-31 18:15:00  102.723069  102.572265  102.328167  103.850265   \n",
       "2020-12-31 18:30:00  102.723069  102.572265  102.328167  103.850265   \n",
       "2020-12-31 18:45:00  102.723069  102.572265  102.328167  103.850265   \n",
       "2020-12-31 19:00:00  102.723069  102.572265  102.328167  103.850265   \n",
       "\n",
       "                            R62        R100        R138        R162  \\\n",
       "Lindex                                                                \n",
       "2010-01-04 00:00:00         NaN         NaN         NaN         NaN   \n",
       "2010-01-04 00:15:00         NaN         NaN         NaN         NaN   \n",
       "2010-01-04 00:30:00         NaN         NaN         NaN         NaN   \n",
       "2010-01-04 00:45:00         NaN         NaN         NaN         NaN   \n",
       "2010-01-04 01:00:00         NaN         NaN         NaN         NaN   \n",
       "...                         ...         ...         ...         ...   \n",
       "2020-12-31 18:00:00  104.001069  104.245167  104.489265  104.640069   \n",
       "2020-12-31 18:15:00  104.001069  104.245167  104.489265  104.640069   \n",
       "2020-12-31 18:30:00  104.001069  104.245167  104.489265  104.640069   \n",
       "2020-12-31 18:45:00  104.001069  104.245167  104.489265  104.640069   \n",
       "2020-12-31 19:00:00  104.001069  104.245167  104.489265  104.640069   \n",
       "\n",
       "                           R200  \n",
       "Lindex                           \n",
       "2010-01-04 00:00:00         NaN  \n",
       "2010-01-04 00:15:00         NaN  \n",
       "2010-01-04 00:30:00         NaN  \n",
       "2010-01-04 00:45:00         NaN  \n",
       "2010-01-04 01:00:00         NaN  \n",
       "...                         ...  \n",
       "2020-12-31 18:00:00  104.884167  \n",
       "2020-12-31 18:15:00  104.884167  \n",
       "2020-12-31 18:30:00  104.884167  \n",
       "2020-12-31 18:45:00  104.884167  \n",
       "2020-12-31 19:00:00  104.884167  \n",
       "\n",
       "[266655 rows x 39 columns]"
      ],
      "text/html": "<div>\n<style scoped>\n    .dataframe tbody tr th:only-of-type {\n        vertical-align: middle;\n    }\n\n    .dataframe tbody tr th {\n        vertical-align: top;\n    }\n\n    .dataframe thead th {\n        text-align: right;\n    }\n</style>\n<table border=\"1\" class=\"dataframe\">\n  <thead>\n    <tr style=\"text-align: right;\">\n      <th></th>\n      <th>Close</th>\n      <th>CloseAsk</th>\n      <th>CloseBid</th>\n      <th>High</th>\n      <th>HighAsk</th>\n      <th>HighBid</th>\n      <th>Low</th>\n      <th>LowAsk</th>\n      <th>LowBid</th>\n      <th>Open</th>\n      <th>...</th>\n      <th>S100</th>\n      <th>S138</th>\n      <th>S162</th>\n      <th>S200</th>\n      <th>R38</th>\n      <th>R62</th>\n      <th>R100</th>\n      <th>R138</th>\n      <th>R162</th>\n      <th>R200</th>\n    </tr>\n    <tr>\n      <th>Lindex</th>\n      <th></th>\n      <th></th>\n      <th></th>\n      <th></th>\n      <th></th>\n      <th></th>\n      <th></th>\n      <th></th>\n      <th></th>\n      <th></th>\n      <th></th>\n      <th></th>\n      <th></th>\n      <th></th>\n      <th></th>\n      <th></th>\n      <th></th>\n      <th></th>\n      <th></th>\n      <th></th>\n      <th></th>\n    </tr>\n  </thead>\n  <tbody>\n    <tr>\n      <th>2010-01-04 00:00:00</th>\n      <td>92.8700</td>\n      <td>92.879</td>\n      <td>92.861</td>\n      <td>92.8865</td>\n      <td>92.891</td>\n      <td>92.882</td>\n      <td>92.7435</td>\n      <td>92.752</td>\n      <td>92.735</td>\n      <td>92.7435</td>\n      <td>...</td>\n      <td>NaN</td>\n      <td>NaN</td>\n      <td>NaN</td>\n      <td>NaN</td>\n      <td>NaN</td>\n      <td>NaN</td>\n      <td>NaN</td>\n      <td>NaN</td>\n      <td>NaN</td>\n      <td>NaN</td>\n    </tr>\n    <tr>\n      <th>2010-01-04 00:15:00</th>\n      <td>92.7945</td>\n      <td>92.803</td>\n      <td>92.786</td>\n      <td>92.8895</td>\n      <td>92.894</td>\n      <td>92.885</td>\n      <td>92.7585</td>\n      <td>92.767</td>\n      <td>92.750</td>\n      <td>92.8700</td>\n      <td>...</td>\n      <td>NaN</td>\n      <td>NaN</td>\n      <td>NaN</td>\n      <td>NaN</td>\n      <td>NaN</td>\n      <td>NaN</td>\n      <td>NaN</td>\n      <td>NaN</td>\n      <td>NaN</td>\n      <td>NaN</td>\n    </tr>\n    <tr>\n      <th>2010-01-04 00:30:00</th>\n      <td>92.9430</td>\n      <td>92.949</td>\n      <td>92.937</td>\n      <td>92.9605</td>\n      <td>92.967</td>\n      <td>92.954</td>\n      <td>92.7795</td>\n      <td>92.788</td>\n      <td>92.771</td>\n      <td>92.7945</td>\n      <td>...</td>\n      <td>NaN</td>\n      <td>NaN</td>\n      <td>NaN</td>\n      <td>NaN</td>\n      <td>NaN</td>\n      <td>NaN</td>\n      <td>NaN</td>\n      <td>NaN</td>\n      <td>NaN</td>\n      <td>NaN</td>\n    </tr>\n    <tr>\n      <th>2010-01-04 00:45:00</th>\n      <td>92.8960</td>\n      <td>92.903</td>\n      <td>92.889</td>\n      <td>92.9645</td>\n      <td>92.971</td>\n      <td>92.958</td>\n      <td>92.8950</td>\n      <td>92.903</td>\n      <td>92.887</td>\n      <td>92.9430</td>\n      <td>...</td>\n      <td>NaN</td>\n      <td>NaN</td>\n      <td>NaN</td>\n      <td>NaN</td>\n      <td>NaN</td>\n      <td>NaN</td>\n      <td>NaN</td>\n      <td>NaN</td>\n      <td>NaN</td>\n      <td>NaN</td>\n    </tr>\n    <tr>\n      <th>2010-01-04 01:00:00</th>\n      <td>92.9155</td>\n      <td>92.922</td>\n      <td>92.909</td>\n      <td>92.9585</td>\n      <td>92.964</td>\n      <td>92.953</td>\n      <td>92.8925</td>\n      <td>92.900</td>\n      <td>92.885</td>\n      <td>92.8960</td>\n      <td>...</td>\n      <td>NaN</td>\n      <td>NaN</td>\n      <td>NaN</td>\n      <td>NaN</td>\n      <td>NaN</td>\n      <td>NaN</td>\n      <td>NaN</td>\n      <td>NaN</td>\n      <td>NaN</td>\n      <td>NaN</td>\n    </tr>\n    <tr>\n      <th>...</th>\n      <td>...</td>\n      <td>...</td>\n      <td>...</td>\n      <td>...</td>\n      <td>...</td>\n      <td>...</td>\n      <td>...</td>\n      <td>...</td>\n      <td>...</td>\n      <td>...</td>\n      <td>...</td>\n      <td>...</td>\n      <td>...</td>\n      <td>...</td>\n      <td>...</td>\n      <td>...</td>\n      <td>...</td>\n      <td>...</td>\n      <td>...</td>\n      <td>...</td>\n      <td>...</td>\n    </tr>\n    <tr>\n      <th>2020-12-31 18:00:00</th>\n      <td>103.2555</td>\n      <td>103.262</td>\n      <td>103.249</td>\n      <td>103.3005</td>\n      <td>103.307</td>\n      <td>103.294</td>\n      <td>103.2525</td>\n      <td>103.259</td>\n      <td>103.246</td>\n      <td>103.2940</td>\n      <td>...</td>\n      <td>102.967167</td>\n      <td>102.723069</td>\n      <td>102.572265</td>\n      <td>102.328167</td>\n      <td>103.850265</td>\n      <td>104.001069</td>\n      <td>104.245167</td>\n      <td>104.489265</td>\n      <td>104.640069</td>\n      <td>104.884167</td>\n    </tr>\n    <tr>\n      <th>2020-12-31 18:15:00</th>\n      <td>103.2645</td>\n      <td>103.271</td>\n      <td>103.258</td>\n      <td>103.2695</td>\n      <td>103.276</td>\n      <td>103.263</td>\n      <td>103.2515</td>\n      <td>103.258</td>\n      <td>103.245</td>\n      <td>103.2555</td>\n      <td>...</td>\n      <td>102.967167</td>\n      <td>102.723069</td>\n      <td>102.572265</td>\n      <td>102.328167</td>\n      <td>103.850265</td>\n      <td>104.001069</td>\n      <td>104.245167</td>\n      <td>104.489265</td>\n      <td>104.640069</td>\n      <td>104.884167</td>\n    </tr>\n    <tr>\n      <th>2020-12-31 18:30:00</th>\n      <td>103.2555</td>\n      <td>103.262</td>\n      <td>103.249</td>\n      <td>103.2770</td>\n      <td>103.284</td>\n      <td>103.270</td>\n      <td>103.2505</td>\n      <td>103.257</td>\n      <td>103.244</td>\n      <td>103.2645</td>\n      <td>...</td>\n      <td>102.967167</td>\n      <td>102.723069</td>\n      <td>102.572265</td>\n      <td>102.328167</td>\n      <td>103.850265</td>\n      <td>104.001069</td>\n      <td>104.245167</td>\n      <td>104.489265</td>\n      <td>104.640069</td>\n      <td>104.884167</td>\n    </tr>\n    <tr>\n      <th>2020-12-31 18:45:00</th>\n      <td>103.2535</td>\n      <td>103.260</td>\n      <td>103.247</td>\n      <td>103.2650</td>\n      <td>103.271</td>\n      <td>103.259</td>\n      <td>103.2435</td>\n      <td>103.249</td>\n      <td>103.238</td>\n      <td>103.2555</td>\n      <td>...</td>\n      <td>102.967167</td>\n      <td>102.723069</td>\n      <td>102.572265</td>\n      <td>102.328167</td>\n      <td>103.850265</td>\n      <td>104.001069</td>\n      <td>104.245167</td>\n      <td>104.489265</td>\n      <td>104.640069</td>\n      <td>104.884167</td>\n    </tr>\n    <tr>\n      <th>2020-12-31 19:00:00</th>\n      <td>103.2555</td>\n      <td>103.265</td>\n      <td>103.246</td>\n      <td>103.2590</td>\n      <td>103.267</td>\n      <td>103.251</td>\n      <td>103.2520</td>\n      <td>103.258</td>\n      <td>103.246</td>\n      <td>103.2535</td>\n      <td>...</td>\n      <td>102.967167</td>\n      <td>102.723069</td>\n      <td>102.572265</td>\n      <td>102.328167</td>\n      <td>103.850265</td>\n      <td>104.001069</td>\n      <td>104.245167</td>\n      <td>104.489265</td>\n      <td>104.640069</td>\n      <td>104.884167</td>\n    </tr>\n  </tbody>\n</table>\n<p>266655 rows × 39 columns</p>\n</div>"
     },
     "metadata": {},
     "execution_count": 6
    }
   ],
   "source": [
    "%%time\n",
    "df_all = pivotimportdf(df_all,weekly_all,TICKER_LIST)\n",
    "df_all"
   ]
  },
  {
   "cell_type": "code",
   "execution_count": 7,
   "metadata": {},
   "outputs": [
    {
     "output_type": "stream",
     "name": "stderr",
     "text": [
      "100%|██████████| 1/1 [00:00<00:00, 10407.70it/s]\u001b[35m\n",
      "Calcul ATR\u001b[0m\n",
      "\n",
      "100%|██████████| 1/1 [00:00<00:00, 11008.67it/s]\u001b[35m\n",
      "Calcul du RVI\u001b[0m\n",
      "\n",
      "100%|██████████| 1/1 [00:00<00:00, 11366.68it/s]\n",
      "100%|██████████| 1/1 [00:00<00:00, 6026.30it/s]\u001b[35m\n",
      "Calcul ONHISMA\u001b[0m\n",
      "On High Simple Moving Average Calculation\n",
      "\n",
      "100%|██████████| 1/1 [00:00<00:00, 7037.42it/s]\u001b[35m\n",
      "Calcul ONLOSMA\u001b[0m\n",
      "On High Simple Moving Average Calculation\n",
      "\n",
      "100%|██████████| 1/1 [00:00<00:00, 6990.51it/s]\u001b[35m\n",
      "Calcul ONHISMA\u001b[0m\n",
      "On High Simple Moving Average Calculation\n",
      "\n",
      "100%|██████████| 1/1 [00:00<00:00, 6141.00it/s]\u001b[35m\n",
      "Calcul ONLOSMA\u001b[0m\n",
      "On High Simple Moving Average Calculation\n",
      "\n",
      "100%|██████████| 1/1 [00:00<00:00, 6765.01it/s]\u001b[35m\n",
      "Calcul ONHISMA\u001b[0m\n",
      "On High Simple Moving Average Calculation\n",
      "\n",
      "100%|██████████| 1/1 [00:00<00:00, 14716.86it/s]\u001b[35m\n",
      "Calcul ONLOSMA\u001b[0m\n",
      "On High Simple Moving Average Calculation\n",
      "\n",
      "100%|██████████| 1/1 [00:00<00:00, 4650.00it/s]Récupération des OHLC en cours...\n",
      "\n",
      "100%|██████████| 1/1 [00:00<00:00, 13315.25it/s]Récupération des OHLC en cours...\n",
      "\n",
      "CPU times: user 2.53 s, sys: 12.8 s, total: 15.3 s\n",
      "Wall time: 24.7 s\n"
     ]
    },
    {
     "output_type": "execute_result",
     "data": {
      "text/plain": [
       "                        Close  CloseAsk  CloseBid      High  HighAsk  HighBid  \\\n",
       "Lindex                                                                          \n",
       "2010-01-04 00:00:00   92.8700    92.879    92.861   92.8865   92.891   92.882   \n",
       "2010-01-04 00:15:00   92.7945    92.803    92.786   92.8895   92.894   92.885   \n",
       "2010-01-04 00:30:00   92.9430    92.949    92.937   92.9605   92.967   92.954   \n",
       "2010-01-04 00:45:00   92.8960    92.903    92.889   92.9645   92.971   92.958   \n",
       "2010-01-04 01:00:00   92.9155    92.922    92.909   92.9585   92.964   92.953   \n",
       "...                       ...       ...       ...       ...      ...      ...   \n",
       "2020-12-31 18:00:00  103.2555   103.262   103.249  103.3005  103.307  103.294   \n",
       "2020-12-31 18:15:00  103.2645   103.271   103.258  103.2695  103.276  103.263   \n",
       "2020-12-31 18:30:00  103.2555   103.262   103.249  103.2770  103.284  103.270   \n",
       "2020-12-31 18:45:00  103.2535   103.260   103.247  103.2650  103.271  103.259   \n",
       "2020-12-31 19:00:00  103.2555   103.265   103.246  103.2590  103.267  103.251   \n",
       "\n",
       "                          Low   LowAsk   LowBid      Open  ...  ONHISMA_34  \\\n",
       "Lindex                                                     ...               \n",
       "2010-01-04 00:00:00   92.7435   92.752   92.735   92.7435  ...         NaN   \n",
       "2010-01-04 00:15:00   92.7585   92.767   92.750   92.8700  ...         NaN   \n",
       "2010-01-04 00:30:00   92.7795   92.788   92.771   92.7945  ...         NaN   \n",
       "2010-01-04 00:45:00   92.8950   92.903   92.887   92.9430  ...         NaN   \n",
       "2010-01-04 01:00:00   92.8925   92.900   92.885   92.8960  ...         NaN   \n",
       "...                       ...      ...      ...       ...  ...         ...   \n",
       "2020-12-31 18:00:00  103.2525  103.259  103.246  103.2940  ...  103.139574   \n",
       "2020-12-31 18:15:00  103.2515  103.258  103.245  103.2555  ...  103.143088   \n",
       "2020-12-31 18:30:00  103.2505  103.257  103.244  103.2645  ...  103.148971   \n",
       "2020-12-31 18:45:00  103.2435  103.249  103.238  103.2555  ...  103.154750   \n",
       "2020-12-31 19:00:00  103.2520  103.258  103.246  103.2535  ...  103.161294   \n",
       "\n",
       "                     ONLOSMA_34 Open_weekly High_weekly  Low_weekly  \\\n",
       "Lindex                                                                \n",
       "2010-01-04 00:00:00         NaN     92.7435     93.7695     91.2540   \n",
       "2010-01-04 00:15:00         NaN     92.7435     93.7695     91.2540   \n",
       "2010-01-04 00:30:00         NaN     92.7435     93.7695     91.2540   \n",
       "2010-01-04 00:45:00         NaN     92.7435     93.7695     91.2540   \n",
       "2010-01-04 01:00:00         NaN     92.7435     93.7695     91.2540   \n",
       "...                         ...         ...         ...         ...   \n",
       "2020-12-31 18:00:00  103.083309    103.5290    103.8985    102.9615   \n",
       "2020-12-31 18:15:00  103.090853    103.5290    103.8985    102.9615   \n",
       "2020-12-31 18:30:00  103.098088    103.5290    103.8985    102.9615   \n",
       "2020-12-31 18:45:00  103.105279    103.5290    103.8985    102.9615   \n",
       "2020-12-31 19:00:00  103.112632    103.5290    103.8985    102.9615   \n",
       "\n",
       "                     Close_weekly  Open_daily  High_daily  Low_daily  \\\n",
       "Lindex                                                                 \n",
       "2010-01-04 00:00:00       92.6210     92.7435      93.214    92.1895   \n",
       "2010-01-04 00:15:00       92.6210     92.7435      93.214    92.1895   \n",
       "2010-01-04 00:30:00       92.6210     92.7435      93.214    92.1895   \n",
       "2010-01-04 00:45:00       92.6210     92.7435      93.214    92.1895   \n",
       "2010-01-04 01:00:00       92.6210     92.7435      93.214    92.1895   \n",
       "...                           ...         ...         ...        ...   \n",
       "2020-12-31 18:00:00      103.2555    103.1285     103.317   102.9950   \n",
       "2020-12-31 18:15:00      103.2555    103.1285     103.317   102.9950   \n",
       "2020-12-31 18:30:00      103.2555    103.1285     103.317   102.9950   \n",
       "2020-12-31 18:45:00      103.2555    103.1285     103.317   102.9950   \n",
       "2020-12-31 19:00:00      103.2555    103.1285     103.317   102.9950   \n",
       "\n",
       "                     Close_daily  \n",
       "Lindex                            \n",
       "2010-01-04 00:00:00      92.4775  \n",
       "2010-01-04 00:15:00      92.4775  \n",
       "2010-01-04 00:30:00      92.4775  \n",
       "2010-01-04 00:45:00      92.4775  \n",
       "2010-01-04 01:00:00      92.4775  \n",
       "...                          ...  \n",
       "2020-12-31 18:00:00     103.2555  \n",
       "2020-12-31 18:15:00     103.2555  \n",
       "2020-12-31 18:30:00     103.2555  \n",
       "2020-12-31 18:45:00     103.2555  \n",
       "2020-12-31 19:00:00     103.2555  \n",
       "\n",
       "[266655 rows x 56 columns]"
      ],
      "text/html": "<div>\n<style scoped>\n    .dataframe tbody tr th:only-of-type {\n        vertical-align: middle;\n    }\n\n    .dataframe tbody tr th {\n        vertical-align: top;\n    }\n\n    .dataframe thead th {\n        text-align: right;\n    }\n</style>\n<table border=\"1\" class=\"dataframe\">\n  <thead>\n    <tr style=\"text-align: right;\">\n      <th></th>\n      <th>Close</th>\n      <th>CloseAsk</th>\n      <th>CloseBid</th>\n      <th>High</th>\n      <th>HighAsk</th>\n      <th>HighBid</th>\n      <th>Low</th>\n      <th>LowAsk</th>\n      <th>LowBid</th>\n      <th>Open</th>\n      <th>...</th>\n      <th>ONHISMA_34</th>\n      <th>ONLOSMA_34</th>\n      <th>Open_weekly</th>\n      <th>High_weekly</th>\n      <th>Low_weekly</th>\n      <th>Close_weekly</th>\n      <th>Open_daily</th>\n      <th>High_daily</th>\n      <th>Low_daily</th>\n      <th>Close_daily</th>\n    </tr>\n    <tr>\n      <th>Lindex</th>\n      <th></th>\n      <th></th>\n      <th></th>\n      <th></th>\n      <th></th>\n      <th></th>\n      <th></th>\n      <th></th>\n      <th></th>\n      <th></th>\n      <th></th>\n      <th></th>\n      <th></th>\n      <th></th>\n      <th></th>\n      <th></th>\n      <th></th>\n      <th></th>\n      <th></th>\n      <th></th>\n      <th></th>\n    </tr>\n  </thead>\n  <tbody>\n    <tr>\n      <th>2010-01-04 00:00:00</th>\n      <td>92.8700</td>\n      <td>92.879</td>\n      <td>92.861</td>\n      <td>92.8865</td>\n      <td>92.891</td>\n      <td>92.882</td>\n      <td>92.7435</td>\n      <td>92.752</td>\n      <td>92.735</td>\n      <td>92.7435</td>\n      <td>...</td>\n      <td>NaN</td>\n      <td>NaN</td>\n      <td>92.7435</td>\n      <td>93.7695</td>\n      <td>91.2540</td>\n      <td>92.6210</td>\n      <td>92.7435</td>\n      <td>93.214</td>\n      <td>92.1895</td>\n      <td>92.4775</td>\n    </tr>\n    <tr>\n      <th>2010-01-04 00:15:00</th>\n      <td>92.7945</td>\n      <td>92.803</td>\n      <td>92.786</td>\n      <td>92.8895</td>\n      <td>92.894</td>\n      <td>92.885</td>\n      <td>92.7585</td>\n      <td>92.767</td>\n      <td>92.750</td>\n      <td>92.8700</td>\n      <td>...</td>\n      <td>NaN</td>\n      <td>NaN</td>\n      <td>92.7435</td>\n      <td>93.7695</td>\n      <td>91.2540</td>\n      <td>92.6210</td>\n      <td>92.7435</td>\n      <td>93.214</td>\n      <td>92.1895</td>\n      <td>92.4775</td>\n    </tr>\n    <tr>\n      <th>2010-01-04 00:30:00</th>\n      <td>92.9430</td>\n      <td>92.949</td>\n      <td>92.937</td>\n      <td>92.9605</td>\n      <td>92.967</td>\n      <td>92.954</td>\n      <td>92.7795</td>\n      <td>92.788</td>\n      <td>92.771</td>\n      <td>92.7945</td>\n      <td>...</td>\n      <td>NaN</td>\n      <td>NaN</td>\n      <td>92.7435</td>\n      <td>93.7695</td>\n      <td>91.2540</td>\n      <td>92.6210</td>\n      <td>92.7435</td>\n      <td>93.214</td>\n      <td>92.1895</td>\n      <td>92.4775</td>\n    </tr>\n    <tr>\n      <th>2010-01-04 00:45:00</th>\n      <td>92.8960</td>\n      <td>92.903</td>\n      <td>92.889</td>\n      <td>92.9645</td>\n      <td>92.971</td>\n      <td>92.958</td>\n      <td>92.8950</td>\n      <td>92.903</td>\n      <td>92.887</td>\n      <td>92.9430</td>\n      <td>...</td>\n      <td>NaN</td>\n      <td>NaN</td>\n      <td>92.7435</td>\n      <td>93.7695</td>\n      <td>91.2540</td>\n      <td>92.6210</td>\n      <td>92.7435</td>\n      <td>93.214</td>\n      <td>92.1895</td>\n      <td>92.4775</td>\n    </tr>\n    <tr>\n      <th>2010-01-04 01:00:00</th>\n      <td>92.9155</td>\n      <td>92.922</td>\n      <td>92.909</td>\n      <td>92.9585</td>\n      <td>92.964</td>\n      <td>92.953</td>\n      <td>92.8925</td>\n      <td>92.900</td>\n      <td>92.885</td>\n      <td>92.8960</td>\n      <td>...</td>\n      <td>NaN</td>\n      <td>NaN</td>\n      <td>92.7435</td>\n      <td>93.7695</td>\n      <td>91.2540</td>\n      <td>92.6210</td>\n      <td>92.7435</td>\n      <td>93.214</td>\n      <td>92.1895</td>\n      <td>92.4775</td>\n    </tr>\n    <tr>\n      <th>...</th>\n      <td>...</td>\n      <td>...</td>\n      <td>...</td>\n      <td>...</td>\n      <td>...</td>\n      <td>...</td>\n      <td>...</td>\n      <td>...</td>\n      <td>...</td>\n      <td>...</td>\n      <td>...</td>\n      <td>...</td>\n      <td>...</td>\n      <td>...</td>\n      <td>...</td>\n      <td>...</td>\n      <td>...</td>\n      <td>...</td>\n      <td>...</td>\n      <td>...</td>\n      <td>...</td>\n    </tr>\n    <tr>\n      <th>2020-12-31 18:00:00</th>\n      <td>103.2555</td>\n      <td>103.262</td>\n      <td>103.249</td>\n      <td>103.3005</td>\n      <td>103.307</td>\n      <td>103.294</td>\n      <td>103.2525</td>\n      <td>103.259</td>\n      <td>103.246</td>\n      <td>103.2940</td>\n      <td>...</td>\n      <td>103.139574</td>\n      <td>103.083309</td>\n      <td>103.5290</td>\n      <td>103.8985</td>\n      <td>102.9615</td>\n      <td>103.2555</td>\n      <td>103.1285</td>\n      <td>103.317</td>\n      <td>102.9950</td>\n      <td>103.2555</td>\n    </tr>\n    <tr>\n      <th>2020-12-31 18:15:00</th>\n      <td>103.2645</td>\n      <td>103.271</td>\n      <td>103.258</td>\n      <td>103.2695</td>\n      <td>103.276</td>\n      <td>103.263</td>\n      <td>103.2515</td>\n      <td>103.258</td>\n      <td>103.245</td>\n      <td>103.2555</td>\n      <td>...</td>\n      <td>103.143088</td>\n      <td>103.090853</td>\n      <td>103.5290</td>\n      <td>103.8985</td>\n      <td>102.9615</td>\n      <td>103.2555</td>\n      <td>103.1285</td>\n      <td>103.317</td>\n      <td>102.9950</td>\n      <td>103.2555</td>\n    </tr>\n    <tr>\n      <th>2020-12-31 18:30:00</th>\n      <td>103.2555</td>\n      <td>103.262</td>\n      <td>103.249</td>\n      <td>103.2770</td>\n      <td>103.284</td>\n      <td>103.270</td>\n      <td>103.2505</td>\n      <td>103.257</td>\n      <td>103.244</td>\n      <td>103.2645</td>\n      <td>...</td>\n      <td>103.148971</td>\n      <td>103.098088</td>\n      <td>103.5290</td>\n      <td>103.8985</td>\n      <td>102.9615</td>\n      <td>103.2555</td>\n      <td>103.1285</td>\n      <td>103.317</td>\n      <td>102.9950</td>\n      <td>103.2555</td>\n    </tr>\n    <tr>\n      <th>2020-12-31 18:45:00</th>\n      <td>103.2535</td>\n      <td>103.260</td>\n      <td>103.247</td>\n      <td>103.2650</td>\n      <td>103.271</td>\n      <td>103.259</td>\n      <td>103.2435</td>\n      <td>103.249</td>\n      <td>103.238</td>\n      <td>103.2555</td>\n      <td>...</td>\n      <td>103.154750</td>\n      <td>103.105279</td>\n      <td>103.5290</td>\n      <td>103.8985</td>\n      <td>102.9615</td>\n      <td>103.2555</td>\n      <td>103.1285</td>\n      <td>103.317</td>\n      <td>102.9950</td>\n      <td>103.2555</td>\n    </tr>\n    <tr>\n      <th>2020-12-31 19:00:00</th>\n      <td>103.2555</td>\n      <td>103.265</td>\n      <td>103.246</td>\n      <td>103.2590</td>\n      <td>103.267</td>\n      <td>103.251</td>\n      <td>103.2520</td>\n      <td>103.258</td>\n      <td>103.246</td>\n      <td>103.2535</td>\n      <td>...</td>\n      <td>103.161294</td>\n      <td>103.112632</td>\n      <td>103.5290</td>\n      <td>103.8985</td>\n      <td>102.9615</td>\n      <td>103.2555</td>\n      <td>103.1285</td>\n      <td>103.317</td>\n      <td>102.9950</td>\n      <td>103.2555</td>\n    </tr>\n  </tbody>\n</table>\n<p>266655 rows × 56 columns</p>\n</div>"
     },
     "metadata": {},
     "execution_count": 7
    }
   ],
   "source": [
    "%%time\n",
    "df_all = atr(df_all,TICKER_LIST,14)\n",
    "df_all = rvi(df_all,TICKER_LIST,_window=14)\n",
    "df_all = sbgamma(df_all,TICKER_LIST) \n",
    "df_all = onhisma(df_all,TICKER_LIST,_window=5)\n",
    "df_all = onlosma(df_all,TICKER_LIST,_window=5)\n",
    "df_all = onhisma(df_all,TICKER_LIST,_window=21)\n",
    "df_all = onlosma(df_all,TICKER_LIST,_window=21)\n",
    "df_all = onhisma(df_all,TICKER_LIST,_window=34)\n",
    "df_all = onlosma(df_all,TICKER_LIST,_window=34)\n",
    "df_all = importohlc(df_all,weekly_all,TICKER_LIST,_suffix='_weekly')\n",
    "df_all = importohlc(df_all=df_all,other_all=daily_all,TICKER_LIST=TICKER_LIST,_suffix='_daily')\n",
    "\n",
    "df_all"
   ]
  },
  {
   "cell_type": "code",
   "execution_count": null,
   "metadata": {},
   "outputs": [],
   "source": []
  },
  {
   "cell_type": "code",
   "execution_count": null,
   "metadata": {},
   "outputs": [],
   "source": []
  }
 ]
}