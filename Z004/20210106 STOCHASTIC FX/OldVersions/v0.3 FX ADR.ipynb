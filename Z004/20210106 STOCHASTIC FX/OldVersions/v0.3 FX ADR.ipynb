{
 "metadata": {
  "language_info": {
   "codemirror_mode": {
    "name": "ipython",
    "version": 3
   },
   "file_extension": ".py",
   "mimetype": "text/x-python",
   "name": "python",
   "nbconvert_exporter": "python",
   "pygments_lexer": "ipython3",
   "version": "3.8.5-final"
  },
  "orig_nbformat": 2,
  "kernelspec": {
   "name": "python3",
   "display_name": "Python 3.8.5 64-bit ('DataSciences': conda)",
   "metadata": {
    "interpreter": {
     "hash": "7f9c69b77f8cb78a9d8b8acc2d09c3972908e6673afd8bfd04ee2f6acaaac495"
    }
   }
  }
 },
 "nbformat": 4,
 "nbformat_minor": 2,
 "cells": [
  {
   "cell_type": "code",
   "execution_count": 1,
   "metadata": {},
   "outputs": [],
   "source": [
    "import time\n",
    "import sys\n",
    "sys.path.append('../')\n",
    "from  librairies.dagfeaturingfx import *\n",
    "from matplotlib import pyplot as plt\n",
    "import seaborn as sns\n",
    "from tqdm import tqdm\n",
    "import joblib\n",
    "from joblib import Parallel,delayed\n",
    "import pyttsx3\n",
    "engine = pyttsx3.init()\n",
    "engine.say(\"Librairies loaded\")\n",
    "engine.runAndWait()"
   ]
  },
  {
   "cell_type": "code",
   "execution_count": 2,
   "metadata": {},
   "outputs": [
    {
     "output_type": "stream",
     "name": "stderr",
     "text": [
      "100%|██████████| 42/42 [00:00<00:00, 176513.80it/s]\u001b[34m\n",
      "Récupération des tickers\u001b[0m\n",
      "\u001b[33m\n",
      "Récupération des data intraday\u001b[0m\n",
      "\n",
      "100%|██████████| 42/42 [00:00<00:00, 156032.57it/s]\u001b[33m\n",
      "Récupération des data intraday\u001b[0m\n",
      "\n",
      "\n",
      "Ajout TimeRange\n",
      "\n",
      "Ajout TimeRange\n",
      "100%|██████████| 42/42 [00:00<00:00, 160291.87it/s]\u001b[32m\n",
      "Récupération des tickers daily\u001b[0m\n",
      "\n",
      "\n",
      "Ajout colonne 'Date dans le weekly\n",
      "100%|██████████| 42/42 [00:00<00:00, 240001.05it/s]\u001b[34m\n",
      "Récupération des tickers weekly\u001b[0m\n",
      "\n",
      "CPU times: user 1min 46s, sys: 7.7 s, total: 1min 53s\n",
      "Wall time: 4min 37s\n"
     ]
    }
   ],
   "source": [
    "%%time\n",
    "engine = pyttsx3.init()\n",
    "engine.say(\"Processing featuring of dataframes, weekly, daily and intra-day\")\n",
    "engine.runAndWait()\n",
    "TICKER_LIST = get_ticker_list()\n",
    "df_all_15 = get_all_data(TICKER_LIST,_period='m15')\n",
    "hourly_all = get_all_data(TICKER_LIST,_period='H1')\n",
    "hourly_all = timerange1D(hourly_all)\n",
    "df_all_15 = timerange1D(df_all_15)\n",
    "daily_all = get_daily(hourly_all,TICKER_LIST)\n",
    "daily_all = timerange1W(daily_all)\n",
    "weekly_all = get_weekly(daily_all,TICKER_LIST)\n",
    "engine.say(\"The job is done\")\n",
    "engine.runAndWait()"
   ]
  },
  {
   "cell_type": "code",
   "execution_count": 3,
   "metadata": {},
   "outputs": [
    {
     "output_type": "stream",
     "name": "stderr",
     "text": [
      " 14%|█▍        | 6/42 [00:00<00:00, 54.82it/s]\u001b[35m\n",
      "Calcul du ADR\u001b[0m\n",
      "100%|██████████| 42/42 [00:00<00:00, 43.74it/s]\n",
      "CPU times: user 1.02 s, sys: 35.3 ms, total: 1.06 s\n",
      "Wall time: 1.05 s\n"
     ]
    }
   ],
   "source": [
    "%%time\n",
    "daily_all = adr(daily_all,_window=14)"
   ]
  },
  {
   "cell_type": "code",
   "execution_count": 4,
   "metadata": {},
   "outputs": [
    {
     "output_type": "stream",
     "name": "stderr",
     "text": [
      "100%|██████████| 42/42 [00:00<00:00, 257544.98it/s]\n",
      "CPU times: user 2min 36s, sys: 24.6 s, total: 3min 1s\n",
      "Wall time: 5min 43s\n"
     ]
    }
   ],
   "source": [
    "%%time\n",
    "#### CHOIX DE LA TF QUI SERA TESTEE\n",
    "df_all_15 = getadr(daily_all,df_all_15,TICKER_LIST)"
   ]
  },
  {
   "cell_type": "code",
   "execution_count": 5,
   "metadata": {},
   "outputs": [
    {
     "output_type": "stream",
     "name": "stdout",
     "text": [
      "\u001b[36m\n",
      "Calcul du ADR High & Low\u001b[0m\n",
      "100%|██████████| 42/42 [00:00<00:00, 130103.96it/s]\n",
      "CPU times: user 2min 18s, sys: 39.4 s, total: 2min 58s\n",
      "Wall time: 7min 9s\n"
     ]
    }
   ],
   "source": [
    "%%time\n",
    "#### CHOIX DE LA TF QUI SERA TESTEE\n",
    "df_all_15 = adrhnl(daily_all,df_all_15,TICKER_LIST)"
   ]
  },
  {
   "cell_type": "code",
   "execution_count": 39,
   "metadata": {},
   "outputs": [
    {
     "output_type": "stream",
     "name": "stdout",
     "text": [
      "\u001b[35m\n",
      "Calcul RSI\u001b[0m\n",
      "CPU times: user 21.9 s, sys: 6.43 s, total: 28.4 s\n",
      "Wall time: 27.8 s\n"
     ]
    }
   ],
   "source": [
    "%%time\n",
    "df_all_15 = rsi(df_all_15,_fast=2,_slow=14)"
   ]
  },
  {
   "cell_type": "code",
   "execution_count": 53,
   "metadata": {},
   "outputs": [
    {
     "output_type": "stream",
     "name": "stderr",
     "text": [
      "100%|██████████| 1/1 [00:00<00:00, 10754.63it/s]\u001b[34m\n",
      "Calcul du \u001b[33mJYSS\u001b[32m OSCILLATOR\u001b[0m\n",
      "\n",
      "Création du Jyss Oscillator\n",
      "HiWin => plus haut High d'une fenêtre de 10\n",
      "LoWin => plus bas Low d'une fenêtre de 10\n",
      "JyssOscBear => (HiWin - HiWin.shift(2))/HiWin.shift(2\n",
      "JyssOscBull => (LoWin - LoWin.shift(2))/LoWin.shift(2\n",
      "JyssOscBearSD et JyssOscBullSD => Les std() sur des fenêtres de 20\n",
      "TriggerBear => (HiWin - HiWin.shift(2) * 1000\n",
      "TriggerBull => (LoWin - LoWin.shift(2) * 1000\n",
      "Trigger => 1 quand il y a égalité entre LoWin et LoWin.shift(9) ou quand il y a égalité entre HiWin et HiWin.shift(9\n",
      "SigJyssOsc => 1 quand (Close <= LoWin) & (JyssOscUP<= -4 * JyssOscUpSD ) ou -1 quand (Close >= HiWin) & (JyssOscDwn >= 4 * JyssOscDwnSD )\n",
      "\n",
      "\n",
      "CPU times: user 917 ms, sys: 393 ms, total: 1.31 s\n",
      "Wall time: 2.7 s\n"
     ]
    }
   ],
   "source": [
    "%%time\n",
    "df_all_15 = jyss_oscillator(df_all_15])"
   ]
  },
  {
   "cell_type": "code",
   "execution_count": 47,
   "metadata": {},
   "outputs": [
    {
     "output_type": "stream",
     "name": "stdout",
     "text": [
      "CPU times: user 455 ms, sys: 21.1 ms, total: 476 ms\nWall time: 142 ms\n"
     ]
    }
   ],
   "source": [
    "%%time\n",
    "#### CONDITIONS LONG\n",
    "_condition_1 = df_all_15.Low < df_all_15.ADR_Low # adrlo\n",
    "_condition_2 = df_all_15.Close >=df_all_15.ADR_Low # close adrlo\n",
    "_condition_3 = df_all_15.RSI_14 <= 30 # RSI\n",
    "\n",
    "_condition_1_hat = df_all_15.High > df_all_15.ADR_High # adrhi\n",
    "_condition_2_hat = df_all_15.Close < df_all_15.ADR_High # close adrhi\n",
    "_condition_3_hat = df_all_15.RSI_14 >= 70\n",
    "\n",
    "\n",
    "##### 1 condition\n",
    "#df_all_15['Signal'] = np.where(_condition_1,1,np.where(_condition_1_hat,-1,0))\n",
    "\n",
    "##### 2 conditions\n",
    "df_all_15['Signal'] = np.where(((_condition_1)&(_condition_3)),1,np.where(((_condition_1_hat)&(_condition_3_hat)),-1,0))\n",
    "\n",
    "\n",
    "##### 2 conditions\n",
    "#df_all_15['Signal'] = np.where(((_condition_1)&(_condition_2)&(_condition_3)),1,np.where(((_condition_1_hat)&(_condition_2_hat)&(_condition_3_hat)),-1,0))\n",
    "\n",
    "\n",
    "##### 2 conditions\n",
    "#df_all_15['Signal'] = np.where(((_condition_1)&(_condition_2)&(_condition_3)&(_condition_4)),1,np.where(((_condition_1_hat)&(_condition_2_hat)&(_condition_3_hat)&(_condition_4_hat)),-1,0))"
   ]
  },
  {
   "cell_type": "code",
   "execution_count": 7,
   "metadata": {},
   "outputs": [
    {
     "output_type": "stream",
     "name": "stdout",
     "text": [
      "Importing Librairies...\n"
     ]
    }
   ],
   "source": [
    "from librairies.bt import *"
   ]
  },
  {
   "cell_type": "code",
   "execution_count": 90,
   "metadata": {},
   "outputs": [
    {
     "output_type": "stream",
     "name": "stdout",
     "text": [
      "Librairies imported\n",
      "\n",
      "Début des opérations horodatée à 2021-01-19 13:34:45.243413\n",
      "\n",
      "Chargement de la nouvelle base\n",
      "\n",
      "\n",
      "\u001b[35m Le rate du ticker EUR/USD est à  1 \u001b[0m\n",
      "Bases chargées\n",
      "TETEL process effectué\n",
      "\u001b[36m ENTERING THE BACKTEST \u001b[0m\n",
      "100%|██████████| 23823/23823 [00:12<00:00, 1854.93it/s]\n",
      "\u001b[34m Pour le ticker \u001b[33m EUR/USD \u001b[0m\n",
      "\u001b[35m \n",
      "Les gains faramineux s'élèvent à : $ \u001b[31m -1313.0 !. En  106 \u001b[0m  transactions.\n",
      "\u001b[32m \n",
      "Nbre de winners : 51 \u001b[0m\n",
      "\u001b[31m \n",
      "Nbre de loosers : 55 \u001b[0m\n",
      "Temps d'excution du BT 0:00:19.136669\n",
      "\u001b[33m EUR/USD \u001b[34m results \u001b[0m\n",
      "\u001b[35m Tested Period 2019-01-01  à 2019-12-31 \u001b[0m\n",
      "\u001b[36m Total Number of trades 106 \u001b[0m\n",
      "Started Cash : 50000\n",
      "P&L in currency: \u001b[31m -1313.0$ \u001b[0m\n",
      "P&L in %: \u001b[31m -0.66% \u001b[0m\n",
      "Average trade duration 37.65\n",
      "# Winners  51.0\n",
      "# Loosers  55.0\n",
      "Cumulated gains 3764.0\n",
      "Cumulated losses -5077.0\n",
      "\u001b[34m PROFIT FACTOR :  0.74 \u001b[0m\n",
      "\u001b[36m Winners Ratio : 48.11 % \u001b[0m\n",
      "Average Winners 73.8\n",
      "% Average Winners 0.04\n",
      "Average Loosers -92.31\n",
      "% Average Loosers -0.05\n",
      "Average pnl -12.39\n",
      "% Average pnl -0.01\n",
      "Number of opened trades 106\n",
      "Number of closed trades 106\n",
      "Max Exposure 1 x  50000 =  50000 $\n"
     ]
    }
   ],
   "source": [
    "x='EUR/USD'\n",
    "_year_bottom = '2019-01-01'\n",
    "_year_top = '2019-12-31'\n",
    "_nb_bougie_exit = 1200000\n",
    "_trigger_reengage = 0\n",
    "_trigger_target = 1\n",
    "_trigger_invers = 0\n",
    "_trigger_sl = 0\n",
    "_verbose = 0\n",
    "_cash_ini = 200000\n",
    "_rate = 1\n",
    "hourly = df_all_15[df_all_15.Symbol == x.replace('/','')]\n",
    "_target = 0.002\n",
    "_exposure = 10\n",
    "_size = 50000\n",
    "_sl = 0.003\n",
    "_open_hour = 9\n",
    "_close_hour = 22\n",
    "_window = 0\n",
    "\n",
    "TRACKER = bt_dayonly(hourly,_year_bottom,_year_top,_nb_bougie_exit,_trigger_reengage,_trigger_target,_trigger_invers,_trigger_sl,_verbose,_cash_ini,\\\n",
    "        _rate,x,_target,_exposure,_size,_sl,_open_hour,_close_hour,_window)\n",
    "\n",
    "#TRACKER = bt(hourly,_year_bottom,_year_top,_nb_bougie_exit,_trigger_reengage,_trigger_target,_trigger_invers,_trigger_sl,_verbose,_cash_ini,\\\n",
    " #       _rate,x,_target,_exposure,_size,_sl)"
   ]
  },
  {
   "cell_type": "code",
   "execution_count": null,
   "metadata": {},
   "outputs": [],
   "source": []
  },
  {
   "cell_type": "code",
   "execution_count": null,
   "metadata": {},
   "outputs": [],
   "source": []
  },
  {
   "cell_type": "code",
   "execution_count": null,
   "metadata": {},
   "outputs": [],
   "source": []
  },
  {
   "cell_type": "code",
   "execution_count": null,
   "metadata": {},
   "outputs": [],
   "source": []
  },
  {
   "cell_type": "code",
   "execution_count": null,
   "metadata": {},
   "outputs": [],
   "source": []
  },
  {
   "cell_type": "code",
   "execution_count": null,
   "metadata": {},
   "outputs": [],
   "source": []
  },
  {
   "cell_type": "code",
   "execution_count": null,
   "metadata": {},
   "outputs": [],
   "source": []
  },
  {
   "cell_type": "code",
   "execution_count": null,
   "metadata": {},
   "outputs": [],
   "source": []
  },
  {
   "cell_type": "code",
   "execution_count": null,
   "metadata": {},
   "outputs": [],
   "source": []
  },
  {
   "cell_type": "code",
   "execution_count": null,
   "metadata": {},
   "outputs": [],
   "source": []
  }
 ]
}