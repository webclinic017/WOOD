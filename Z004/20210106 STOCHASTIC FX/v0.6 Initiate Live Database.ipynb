{
 "metadata": {
  "language_info": {
   "codemirror_mode": {
    "name": "ipython",
    "version": 3
   },
   "file_extension": ".py",
   "mimetype": "text/x-python",
   "name": "python",
   "nbconvert_exporter": "python",
   "pygments_lexer": "ipython3",
   "version": "3.8.5-final"
  },
  "orig_nbformat": 2,
  "kernelspec": {
   "name": "python3",
   "display_name": "Python 3.8.5 64-bit ('DataSciences': conda)",
   "metadata": {
    "interpreter": {
     "hash": "7f9c69b77f8cb78a9d8b8acc2d09c3972908e6673afd8bfd04ee2f6acaaac495"
    }
   }
  }
 },
 "nbformat": 4,
 "nbformat_minor": 2,
 "cells": [
  {
   "cell_type": "code",
   "execution_count": 6,
   "metadata": {},
   "outputs": [],
   "source": [
    "import joblib\n",
    "from joblib import Parallel,delayed\n",
    "import pandas as pd\n",
    "import numpy as np\n",
    "import datetime as dt\n",
    "import os\n",
    "from tqdm import tqdm\n",
    "\n",
    "import seaborn as sns\n",
    "import fxcmpy\n",
    "import sys\n",
    "import time\n",
    "sys.path.append('../') \n",
    "from librairies.strategy import *\n",
    "from librairies.dagfeaturingfx import *\n",
    "import pyttsx3\n",
    "engine = pyttsx3.init()"
   ]
  },
  {
   "cell_type": "code",
   "execution_count": 7,
   "metadata": {},
   "outputs": [],
   "source": [
    "_token = 'dbdc379ce7761772c662c3e92250a0ae38385b2c'\n",
    "_server = 'demo'\n",
    "_user_id = 'D261282181'\n",
    "_compte = '01215060'\n",
    "_password = 'waXz1'\n",
    "\n",
    "_period = 'm15'\n",
    "_name = 'MLPClassifier'"
   ]
  },
  {
   "cell_type": "code",
   "execution_count": 9,
   "metadata": {},
   "outputs": [
    {
     "output_type": "stream",
     "name": "stderr",
     "text": [
      "  0%|          | 0/42 [00:00<?, ?it/s]\u001b[32mConnexion rétablie\u001b[0m\n",
      "Compte utilisé :  [1277536]\n",
      "\n",
      "\u001b[34m\n",
      "Récupération des tickers\u001b[0m\n",
      "100%|██████████| 42/42 [05:28<00:00,  7.83s/it]CPU times: user 2min 37s, sys: 2min 34s, total: 5min 12s\n",
      "Wall time: 5min 31s\n",
      "\n"
     ]
    }
   ],
   "source": [
    "%%time\n",
    "\n",
    "def conX():\n",
    "    con = fxcmpy.fxcmpy(access_token=_token, log_level='error',server=_server)\n",
    "    if con.is_connected() == True:\n",
    "        print(col.Fore.GREEN+'Connexion établie'+col.Style.RESET_ALL)\n",
    "        print('Compte utilisé : ',con.get_account_ids())\n",
    "    else:\n",
    "        print(col.Fore.RED+'Connexion non établie'+col.Style.RESET_ALL)\n",
    "    return(con)\n",
    "\n",
    "def deconX():\n",
    "    con = con.close()\n",
    "    if con.is_connected() == True:\n",
    "        print(col.Fore.GREEN+'Connexion non intérrompue'+col.Style.RESET_ALL)\n",
    "        print('Compte utilisé : ',con.get_account_ids())\n",
    "    else:\n",
    "        print(col.Fore.RED+'Connexion intérrompue'+col.Style.RESET_ALL)\n",
    "    return()\n",
    "\n",
    "def scrap_hist(ticker,invers = 'non'):\n",
    "    #_debut = pd.to_datetime((dt.datetime.now()-dt.timedelta(minutes=3987165)).strftime('%Y-%m-%d'))\n",
    "    #_fin = pd.to_datetime((dt.datetime.now().strftime('%Y-%m-%d')))\n",
    "    data = con.get_candles(ticker,period=_period,start=_debut,end=_fin)\n",
    "    data['Open'] = (data['bidopen']+data['askopen'])/2\n",
    "    data['High'] = (data['bidhigh']+data['askhigh'])/2\n",
    "    data['Low'] = (data['bidlow']+data['asklow'])/2\n",
    "    data['Close'] = (data['bidclose']+data['askclose'])/2\n",
    "    return(data)\n",
    "\n",
    "\n",
    "try:\n",
    "    con.is_connected() == True\n",
    "    \n",
    "    engine.say(\"already Connected\")\n",
    "    engine.runAndWait()\n",
    "    print(col.Fore.GREEN+'Connexion rétablie'+col.Style.RESET_ALL)\n",
    "    print('Compte utilisé : ',con.get_account_ids())\n",
    "    print('')\n",
    "    \n",
    "except:\n",
    "    try:\n",
    "        con = conX()\n",
    "        con.is_connected() == True\n",
    "        print(col.Fore.GREEN+'Connexion établie'+col.Style.RESET_ALL)\n",
    "        print('Compte utilisé : ',con.get_account_ids())\n",
    "        engine.say(\"Bigfoot is Connected\")\n",
    "        engine.runAndWait()\n",
    "    except:\n",
    "        print(col.Fore.RED+'Connexion non établie'+col.Style.RESET_ALL)\n",
    "        engine.say(\"Mayday, mayday, Not Connected, mauzerfucker!\")\n",
    "        engine.say(\"Check your internet, and launch agin the Bigfoot\")\n",
    "        engine.runAndWait()\n",
    "        print('')\n",
    "        #os._exit(0)\n",
    "        con = deconX()\n",
    "        time.sleep(1)\n",
    "        con = conX()\n",
    "\n",
    "TICKER_LIST = list(sorted(set(get_ticker_list())))\n",
    "\n",
    "\n",
    "for x in tqdm(TICKER_LIST):\n",
    "    _path = 'JOBLIB/Ticker_'+_period+'/df_'+x.replace('/','')\n",
    "    df_all = joblib.load('JOBLIB/Built_bases/df_all')\n",
    "    df_all = df_all[df_all.Symbol==x.replace('/','')]\n",
    "    df_all = df_all[['Close','CloseAsk','CloseBid','High','HighAsk','HighBid','Low','LowAsk','LowBid','Open','OpenAsk','OpenBid','Symbol','Date']]\n",
    "    _fin = dt.datetime.now()\n",
    "    _deb = df_all.index[-1]\n",
    "    _debut = dt.datetime(_deb.year,_deb.month,_deb.day,_deb.hour,_deb.minute)\n",
    "    addon = con.get_candles(x,period='m15',start=_debut,end=_fin).drop(['tickqty'],axis=1)\n",
    "    addon = addon.rename(columns={'bidopen':'OpenBid','bidclose':'CloseBid','bidhigh':'HighBid','bidlow':'LowBid','askopen':'OpenAsk','askclose':'CloseAsk','askhigh':'HighAsk','asklow':'LowAsk'})\n",
    "    addon['Open'] = (addon.OpenAsk + addon.OpenBid)/2\n",
    "    addon['High'] = (addon.HighAsk + addon.HighBid)/2\n",
    "    addon['Low'] = (addon.LowAsk + addon.LowBid)/2\n",
    "    addon['Close'] = (addon.CloseAsk + addon.CloseBid)/2\n",
    "    addon['Symbol'] = x.replace('/','')\n",
    "    addon['Date'] = addon.index\n",
    "    addon['Date'] = pd.to_datetime(addon['Date'].dt.strftime(date_format='%Y-%m-%d'))\n",
    "    df_all = df_all.append(addon.iloc[1:,:])\n",
    "    joblib.dump(df_all,_path)\n"
   ]
  },
  {
   "cell_type": "code",
   "execution_count": null,
   "metadata": {},
   "outputs": [],
   "source": []
  }
 ]
}