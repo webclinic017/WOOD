{
 "metadata": {
  "language_info": {
   "codemirror_mode": {
    "name": "ipython",
    "version": 3
   },
   "file_extension": ".py",
   "mimetype": "text/x-python",
   "name": "python",
   "nbconvert_exporter": "python",
   "pygments_lexer": "ipython3",
   "version": "3.8.5-final"
  },
  "orig_nbformat": 2,
  "kernelspec": {
   "name": "python3",
   "display_name": "Python 3",
   "language": "python"
  }
 },
 "nbformat": 4,
 "nbformat_minor": 2,
 "cells": [
  {
   "cell_type": "code",
   "execution_count": 1,
   "metadata": {},
   "outputs": [],
   "source": [
    "###########################################################################################################################\n",
    "###########################################################################################################################\n",
    "###########################################################################################################################\n",
    "###########################################################################################################################\n",
    "###########################################################################################################################\n",
    "################################     L I V E      R E T 3 A T R      S T R A T E G Y       ################################\n",
    "###########################################################################################################################\n",
    "###########################################################################################################################\n",
    "###########################################################################################################################\n",
    "###########################################################################################################################\n",
    "###########################################################################################################################"
   ]
  },
  {
   "cell_type": "code",
   "execution_count": 2,
   "metadata": {},
   "outputs": [],
   "source": [
    "# CLEAR VAR\n",
    "from clearall import clearall\n",
    "clearall()"
   ]
  },
  {
   "cell_type": "code",
   "execution_count": 3,
   "metadata": {},
   "outputs": [
    {
     "output_type": "stream",
     "name": "stdout",
     "text": [
      "version fxcmpy : 1.2.6\nversion socketio : 4.4.0\n"
     ]
    }
   ],
   "source": [
    "# LIBRAIRIES\n",
    "import pandas as pd\n",
    "import numpy as np\n",
    "import time\n",
    "import talib\n",
    "import datetime as dt\n",
    "import fxcmpy\n",
    "import socketio\n",
    "from mlpclassifier import modelize\n",
    "import joblib\n",
    "import colorama as col\n",
    "import pyttsx3\n",
    "import configparser\n",
    "\n",
    "config = configparser.ConfigParser()\n",
    "engine = pyttsx3.init()\n",
    "_model = 'mlpclassifier'\n",
    "\n",
    "\n",
    "engine.say(\"librairie loaded, over\")\n",
    "engine.runAndWait()\n",
    "\n",
    "print('version fxcmpy :',fxcmpy.__version__)\n",
    "print('version socketio :',socketio.__version__)"
   ]
  },
  {
   "cell_type": "code",
   "execution_count": 13,
   "metadata": {},
   "outputs": [],
   "source": [
    "\n",
    "# CHARGEMENT DU CONFIG\n",
    "\n",
    "config.read('config.ini')\n",
    "_period1 = config.get('TIMEFRAME','_period1') # 'm5'\n",
    "_period2 = config.get('TIMEFRAME','_period2') # 'H1'\n",
    "_period3 = config.get('TIMEFRAME','_period3') # 'D1'\n",
    "\n",
    "_period = _period1\n",
    "\n",
    "_path1 = config.get('PATH','_path1') # 'Base/'\n",
    "_path2 = config.get('PATH','_path2') # 'Base_Clean/'\n",
    "_path3 = config.get('PATH','_path3') # 'Base_Input/'\n",
    "\n",
    "_target = 0.0015\n",
    "\n",
    "_token = 'a5da541af5c2846326a900f3875afabd7e80392d'\n",
    "_server = 'demo'\n",
    "_user_id = 'D261219577'\n",
    "_compte = '01215060'\n",
    "_password = '3877'\n",
    "\n",
    "_number = 10\n",
    "\n",
    "x = 'EUR/USD'\n",
    "_x = x.replace('/','')\n"
   ]
  },
  {
   "cell_type": "code",
   "execution_count": 22,
   "metadata": {},
   "outputs": [],
   "source": [
    "############################\n",
    "######## FONCTIONS ########\n",
    "###########################\n",
    "\n",
    "\n",
    "def conX():\n",
    "    con = fxcmpy.fxcmpy(access_token=_token, log_level='error',server=_server)\n",
    "    if con.is_connected() == True:\n",
    "        print(col.Fore.GREEN+'Connexion établie'+col.Style.RESET_ALL)\n",
    "        print('Compte utilisé : ',con.get_account_ids())\n",
    "    else:\n",
    "        print(col.Fore.RED+'Connexion non établie'+col.Style.RESET_ALL)\n",
    "    return(con)\n",
    "\n",
    "def deconX():\n",
    "    con = con.close()\n",
    "    if con.is_connected() == True:\n",
    "        print(col.Fore.GREEN+'Connexion non intérrompue'+col.Style.RESET_ALL)\n",
    "        print('Compte utilisé : ',con.get_account_ids())\n",
    "    else:\n",
    "        print(col.Fore.RED+'Connexion intérrompue'+col.Style.RESET_ALL)\n",
    "    return()\n",
    "\n",
    "def scrap_hist(ticker,invers = 'non'):\n",
    "    data = con.get_candles(ticker,period=_period,number=_number)\n",
    "    data['Open'] = (data['bidopen']+data['askopen'])/2\n",
    "    data['High'] = (data['bidhigh']+data['askhigh'])/2\n",
    "    data['Low'] = (data['bidlow']+data['asklow'])/2\n",
    "    data['Close'] = (data['bidclose']+data['askclose'])/2\n",
    "    return(data)\n",
    "\n",
    "def buy():\n",
    "    p0ol = con.open_trade(symbol=x, is_buy=True, is_in_pips=False,\n",
    "                       amount='50', time_in_force='FOK',\n",
    "                       order_type='AtMarket')\n",
    "    return()\n",
    "\n",
    "def sell():\n",
    "    p0os = con.open_trade(symbol=x, is_buy=False, is_in_pips=False,\n",
    "                       amount='50', time_in_force='FOK',\n",
    "                       order_type='AtMarket')\n",
    "                                            #expiration = (dt.datetime.now() + dt.timedelta(hours=4)).strftime(format='%Y-%m-%d %H:%M'))\n",
    "    return()\n",
    "\n",
    "def close():\n",
    "    con.close_all_for_symbol(x)\n",
    "    return()"
   ]
  },
  {
   "cell_type": "code",
   "execution_count": 6,
   "metadata": {},
   "outputs": [
    {
     "output_type": "execute_result",
     "data": {
      "text/plain": [
       "'2020-11-17 05:51'"
      ]
     },
     "metadata": {},
     "execution_count": 6
    }
   ],
   "source": [
    "(dt.datetime.now() + dt.timedelta(hours=4)).strftime(format='%Y-%m-%d %H:%M')"
   ]
  },
  {
   "cell_type": "code",
   "execution_count": 7,
   "metadata": {},
   "outputs": [
    {
     "output_type": "stream",
     "name": "stdout",
     "text": [
      "Global Optimized LumberJack Environment Motor for FOR_EX\n",
      "LumberJack Jyss 5780(c)\n",
      "\u001b[34m °0Oo_D.A.G._26_oO0°\n",
      "\u001b[33m \u001b[44m --- Go!em Villa Longa & Gal. #v0.10 --- \u001b[0m\n",
      "\n",
      "\u001b[32mConnexion établie\u001b[0m\n",
      "Compte utilisé :  [1215060]\n",
      "\u001b[32mConnexion établie\u001b[0m\n",
      "Compte utilisé :  [1215060]\n",
      "Balance :  37078.07\n",
      "Equity :  37067.95337\n",
      "Marge disponible ; 95.50825 %\n"
     ]
    },
    {
     "output_type": "execute_result",
     "data": {
      "text/plain": [
       "True"
      ]
     },
     "metadata": {},
     "execution_count": 7
    }
   ],
   "source": [
    "#########################\n",
    "### CONNEXION A L'API ###\n",
    "#########################\n",
    "\n",
    "___Author___='LumberJack Jyss'\n",
    "print('Global Optimized LumberJack Environment Motor for FOR_EX\\nLumberJack Jyss 5780(c)')\n",
    "print(col.Fore.BLUE,'°0Oo_D.A.G._26_oO0°')\n",
    "print(col.Fore.YELLOW,col.Back.BLUE,'--- Go!em Villa Longa & Gal. #v0.10 ---',col.Style.RESET_ALL)\n",
    "\n",
    "\n",
    "print('')\n",
    "engine.say(\" Initialization of Faurex Golem, Villa Longa and Gal Method\")\n",
    "engine.say(\"Golem's Connexion to the a p i\")\n",
    "engine.runAndWait()\n",
    "\n",
    "try:\n",
    "    con.is_connected() == True\n",
    "    \n",
    "    engine.say(\"already Connected\")\n",
    "    engine.runAndWait()\n",
    "    print(col.Fore.GREEN+'Connexion rétablie'+col.Style.RESET_ALL)\n",
    "    print('Compte utilisé : ',con.get_account_ids())\n",
    "    print('')\n",
    "    \n",
    "except:\n",
    "    try:\n",
    "        con = conX()\n",
    "        con.is_connected() == True\n",
    "        print(col.Fore.GREEN+'Connexion établie'+col.Style.RESET_ALL)\n",
    "        print('Compte utilisé : ',con.get_account_ids())\n",
    "        engine.say(\"Connected\")\n",
    "        engine.runAndWait()\n",
    "    except:\n",
    "        print(col.Fore.RED+'Connexion non établie'+col.Style.RESET_ALL)\n",
    "        engine.say(\"Mayday, mayday, Not Connected, mauzerfucker!\")\n",
    "        engine.say(\"Check your internet, and launch agin the Golem\")\n",
    "        engine.runAndWait()\n",
    "        print('')\n",
    "        #os._exit(0)\n",
    "        con = deconX()\n",
    "        time.sleep(1)\n",
    "        con = conX()\n",
    "\n",
    "\n",
    "\n",
    "#########################\n",
    "######## SUMMARY ########\n",
    "#########################\n",
    "\n",
    "    \n",
    "engine.say(\"Data's upgrade\")\n",
    "engine.runAndWait()\n",
    "_balance = con.get_accounts().balance\n",
    "_balance = _balance[0]\n",
    "_equity = con.get_accounts().equity\n",
    "_equity = _equity[0]\n",
    "_resum = con.get_open_positions()\n",
    "_usable_margin = con.get_accounts_summary().usableMargin3Perc[0]\n",
    "\n",
    "\n",
    "print('Balance : ',_balance)\n",
    "\n",
    "print('Equity : ',_equity)\n",
    "\n",
    "print('Marge disponible ;',_usable_margin,'%')\n",
    "\n",
    "con.subscribe_market_data(x)\n",
    "con.subscribe_instrument(x)"
   ]
  },
  {
   "cell_type": "code",
   "execution_count": 36,
   "metadata": {},
   "outputs": [],
   "source": [
    "df = scrap_hist(x)\n",
    "df['Return3Neg'] = (df['askclose'] - df['bidclose'].shift(3))/df['bidclose'].shift(3)\n",
    "df['Return3Pos'] = (df['bidclose'] - df['askclose'].shift(3))/df['askclose'].shift(3)\n",
    "df['Return3'] = np.where(df['Return3Pos']>0,1,np.where(df['Return3Neg'],-1,0))\n",
    "df['ATR'] = talib.ATR(df['High'],df['Low'],df['Close'],timeperiod=5)\n",
    "loaded_model = joblib.load('JOBLIB/'+_model+'/SaveEURUSDm5.sav')\n",
    "_signal = loaded_model.predict(df.iloc[-1:][['Return3','ATR']])[0]"
   ]
  },
  {
   "cell_type": "code",
   "execution_count": 37,
   "metadata": {},
   "outputs": [
    {
     "output_type": "execute_result",
     "data": {
      "text/plain": [
       "-1.0"
      ]
     },
     "metadata": {},
     "execution_count": 37
    }
   ],
   "source": [
    "_signal"
   ]
  },
  {
   "cell_type": "code",
   "execution_count": 38,
   "metadata": {},
   "outputs": [
    {
     "output_type": "execute_result",
     "data": {
      "text/plain": [
       "(-1.0, 1.0, -1.0)"
      ]
     },
     "metadata": {},
     "execution_count": 38
    }
   ],
   "source": [
    "loaded_model.predict(df.iloc[-1:][['Return3','ATR']])[0],loaded_model.predict(df.iloc[-2:][['Return3','ATR']])[0],loaded_model.predict(df.iloc[-1:][['Return3','ATR']])[0]*loaded_model.predict(df.iloc[-2:][['Return3','ATR']])[0]"
   ]
  },
  {
   "cell_type": "code",
   "execution_count": null,
   "metadata": {},
   "outputs": [],
   "source": []
  }
 ]
}