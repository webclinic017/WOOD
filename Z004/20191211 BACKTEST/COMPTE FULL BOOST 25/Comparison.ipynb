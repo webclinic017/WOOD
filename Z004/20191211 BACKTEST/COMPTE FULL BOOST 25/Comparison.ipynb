{
 "cells": [
  {
   "cell_type": "code",
   "execution_count": 1,
   "metadata": {},
   "outputs": [],
   "source": [
    "import pandas as pd"
   ]
  },
  {
   "cell_type": "code",
   "execution_count": 8,
   "metadata": {},
   "outputs": [],
   "source": [
    "df_10 = pd.read_csv('test_12_15__18.csv')\n",
    "df_10.index = pd.to_datetime(df_10['Date'],format='%Y-%m-%d')\n",
    "df_10 = df_10.drop(['Unnamed: 0'],axis=1)\n",
    "df_10 = df_10.drop(['Date'],axis=1)"
   ]
  },
  {
   "cell_type": "code",
   "execution_count": 9,
   "metadata": {},
   "outputs": [],
   "source": [
    "df_09 = pd.read_csv('test_15_12__17.csv')\n",
    "df_09.index = pd.to_datetime(df_09['Date'],format='%Y-%m-%d')\n",
    "df_09 = df_09.drop(['Unnamed: 0'],axis=1)\n",
    "df_09 = df_09.drop(['Date'],axis=1)"
   ]
  },
  {
   "cell_type": "code",
   "execution_count": 10,
   "metadata": {},
   "outputs": [
    {
     "data": {
      "text/plain": [
       "DatetimeIndex(['2019-12-13'], dtype='datetime64[ns]', name='Date', freq=None)"
      ]
     },
     "execution_count": 10,
     "metadata": {},
     "output_type": "execute_result"
    }
   ],
   "source": [
    "df_10.index.symmetric_difference(df_09.index)"
   ]
  },
  {
   "cell_type": "code",
   "execution_count": 11,
   "metadata": {},
   "outputs": [
    {
     "data": {
      "text/plain": [
       "False"
      ]
     },
     "execution_count": 11,
     "metadata": {},
     "output_type": "execute_result"
    }
   ],
   "source": [
    "df_09.equals(df_10)"
   ]
  },
  {
   "cell_type": "code",
   "execution_count": 12,
   "metadata": {},
   "outputs": [
    {
     "name": "stdout",
     "output_type": "stream",
     "text": [
      "Il manque dans la 17 ADP\n",
      "Il manque dans la 17 AGN\n",
      "Il manque dans la 17 ARNC\n",
      "Il manque dans la 17 AVGO\n",
      "Il manque dans la 17 BBY\n",
      "Il manque dans la 17 BKNG\n",
      "Il manque dans la 17 BXP\n",
      "Il manque dans la 17 C\n",
      "Il manque dans la 17 CAG\n",
      "Il manque dans la 17 CB\n",
      "Il manque dans la 17 CCL\n",
      "Il manque dans la 17 CDNS\n",
      "Il manque dans la 17 CFG\n",
      "Il manque dans la 17 CLX\n",
      "Il manque dans la 17 CSCO\n",
      "Il manque dans la 17 CTL\n",
      "Il manque dans la 17 CTSH\n",
      "Il manque dans la 17 CVX\n",
      "Il manque dans la 17 D\n",
      "Il manque dans la 17 DISCA\n",
      "Il manque dans la 17 DISH\n",
      "Il manque dans la 17 DRE\n",
      "Il manque dans la 17 EA\n",
      "Il manque dans la 17 ED\n",
      "Il manque dans la 17 EFX\n",
      "Il manque dans la 17 EQIX\n",
      "Il manque dans la 17 ETR\n",
      "Il manque dans la 17 FISV\n",
      "Il manque dans la 17 FLS\n",
      "Il manque dans la 17 FRC\n",
      "Il manque dans la 17 FTI\n",
      "Il manque dans la 17 GOOG\n",
      "Il manque dans la 17 GS\n",
      "Il manque dans la 17 HAL\n",
      "Il manque dans la 17 HAS\n",
      "Il manque dans la 17 HBI\n",
      "Il manque dans la 17 HD\n",
      "Il manque dans la 17 HOG\n",
      "Il manque dans la 17 HPQ\n",
      "Il manque dans la 17 HST\n",
      "Il manque dans la 17 INTC\n",
      "Il manque dans la 17 IQV\n",
      "Il manque dans la 17 JCI\n",
      "Il manque dans la 17 JEF\n",
      "Il manque dans la 17 JNPR\n",
      "Il manque dans la 17 JPM\n",
      "Il manque dans la 17 JWN\n",
      "Il manque dans la 17 KEY\n",
      "Il manque dans la 17 KR\n",
      "Il manque dans la 17 KSU\n",
      "Il manque dans la 17 LEN\n",
      "Il manque dans la 17 LLY\n",
      "Il manque dans la 17 LYB\n",
      "Il manque dans la 17 MLM\n",
      "Il manque dans la 17 MOS\n",
      "Il manque dans la 17 MRO\n",
      "Il manque dans la 17 MU\n",
      "Il manque dans la 17 MXIM\n",
      "Il manque dans la 17 NBL\n",
      "Il manque dans la 17 NEM\n",
      "Il manque dans la 17 NTRS\n",
      "Il manque dans la 17 NVDA\n",
      "Il manque dans la 17 NWS\n",
      "Il manque dans la 17 OMC\n",
      "Il manque dans la 17 PBCT\n",
      "Il manque dans la 17 PHM\n",
      "Il manque dans la 17 PVH\n",
      "Il manque dans la 17 REG\n",
      "Il manque dans la 17 REGN\n",
      "Il manque dans la 17 RF\n",
      "Il manque dans la 17 RJF\n",
      "Il manque dans la 17 RTN\n",
      "Il manque dans la 17 SNA\n",
      "Il manque dans la 17 SWK\n",
      "Il manque dans la 17 SYF\n",
      "Il manque dans la 17 T\n",
      "Il manque dans la 17 TEL\n",
      "Il manque dans la 17 TROW\n",
      "Il manque dans la 17 TXN\n",
      "Il manque dans la 17 TXT\n",
      "Il manque dans la 17 VLO\n",
      "Il manque dans la 17 VNO\n",
      "Il manque dans la 17 VRTX\n",
      "Il manque dans la 17 WRK\n",
      "Il manque dans la 17 WY\n",
      "Il manque dans la 17 XRX\n"
     ]
    },
    {
     "data": {
      "text/plain": [
       "(86, 0, False)"
      ]
     },
     "execution_count": 12,
     "metadata": {},
     "output_type": "execute_result"
    }
   ],
   "source": [
    "TICKY = sorted(set(df_09['Ticker']))\n",
    "TICK = sorted(set(df_10['Ticker']))\n",
    "\n",
    "for ticky in TICKY:\n",
    "    if ticky in TICK:\n",
    "        pass\n",
    "    else:\n",
    "        print('Il manque dans la 18',ticky)\n",
    "for tick in TICK:\n",
    "    if tick in TICKY:\n",
    "        pass\n",
    "    else:\n",
    "        print('Il manque dans la 17',tick)\n",
    "len(TICK),len(TICKY),len(TICK)==len(TICKY) and all(TICK[i] == TICKY[i] for i in range(len(TICK)-1))"
   ]
  },
  {
   "cell_type": "code",
   "execution_count": null,
   "metadata": {},
   "outputs": [],
   "source": [
    "df = df_09.merge(df_10, how = 'outer' ,indicator=True).loc[lambda x : x['_merge']=='left_only']\n",
    "\n",
    "df"
   ]
  },
  {
   "cell_type": "code",
   "execution_count": null,
   "metadata": {},
   "outputs": [],
   "source": [
    "df = df_09.merge(df_10, how = 'outer' ,indicator=True).loc[lambda x : x['_merge']=='right_only']\n",
    "\n",
    "df"
   ]
  },
  {
   "cell_type": "code",
   "execution_count": null,
   "metadata": {},
   "outputs": [],
   "source": [
    "import pickle\n",
    "pickle.dump(TICK, open(\"list_ticker_18.txt\", \"wb\"))\n",
    "pickle.dump(TICKY, open(\"list_ticker_17.txt\", \"wb\"))"
   ]
  },
  {
   "cell_type": "code",
   "execution_count": null,
   "metadata": {},
   "outputs": [],
   "source": []
  },
  {
   "cell_type": "code",
   "execution_count": null,
   "metadata": {},
   "outputs": [],
   "source": []
  }
 ],
 "metadata": {
  "kernelspec": {
   "display_name": "Python 3",
   "language": "python",
   "name": "python3"
  },
  "language_info": {
   "codemirror_mode": {
    "name": "ipython",
    "version": 3
   },
   "file_extension": ".py",
   "mimetype": "text/x-python",
   "name": "python",
   "nbconvert_exporter": "python",
   "pygments_lexer": "ipython3",
   "version": "3.6.8"
  }
 },
 "nbformat": 4,
 "nbformat_minor": 2
}
