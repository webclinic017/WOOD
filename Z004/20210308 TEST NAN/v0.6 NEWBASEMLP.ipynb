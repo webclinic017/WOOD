{
 "metadata": {
  "language_info": {
   "codemirror_mode": {
    "name": "ipython",
    "version": 3
   },
   "file_extension": ".py",
   "mimetype": "text/x-python",
   "name": "python",
   "nbconvert_exporter": "python",
   "pygments_lexer": "ipython3",
   "version": "3.8.5-final"
  },
  "orig_nbformat": 2,
  "kernelspec": {
   "name": "python3",
   "display_name": "Python 3.8.5 64-bit",
   "metadata": {
    "interpreter": {
     "hash": "7f9c69b77f8cb78a9d8b8acc2d09c3972908e6673afd8bfd04ee2f6acaaac495"
    }
   }
  }
 },
 "nbformat": 4,
 "nbformat_minor": 2,
 "cells": [
  {
   "cell_type": "code",
   "execution_count": 1,
   "metadata": {},
   "outputs": [
    {
     "output_type": "stream",
     "name": "stdout",
     "text": [
      "Importing Librairies...\n"
     ]
    }
   ],
   "source": [
    "import time\n",
    "import sys\n",
    "sys.path.append('../')\n",
    "import librairies.dagfeaturingfx \n",
    "from  librairies.dagfeaturingfx import *\n",
    "from matplotlib import pyplot as plt\n",
    "import seaborn as sns\n",
    "from tqdm import tqdm\n",
    "import joblib\n",
    "from joblib import Parallel,delayed\n",
    "import pyttsx3\n",
    "from sklearn.preprocessing import MinMaxScaler,MaxAbsScaler,quantile_transform,PolynomialFeatures\n",
    "from librairies.bt import *\n",
    "from sklearn.metrics import accuracy_score, make_scorer, precision_score, recall_score, precision_recall_curve, confusion_matrix, classification_report\n",
    "from sklearn import svm\n",
    "from xgboost import XGBClassifier\n",
    "from sklearn.metrics import f1_score\n",
    "from sklearn.metrics import roc_curve\n",
    "from numpy import sqrt\n",
    "from numpy import argmax\n",
    "import colorama as col\n",
    "from collections import Counter\n",
    "from librairies.strategy import *\n",
    "scaler = MinMaxScaler(feature_range=(0, 1))\n",
    "engine = pyttsx3.init()\n",
    "engine.say(\"Librairies loaded\")\n",
    "engine.runAndWait() "
   ]
  },
  {
   "source": [
    "###### RELOAD LIBRAIRIE #####\n",
    "from importlib import reload\n",
    "sys.path.append('../')\n",
    "librairies.dagfeaturingfx= reload(librairies.dagfeaturingfx)\n",
    "from  librairies.dagfeaturingfx import *"
   ],
   "cell_type": "markdown",
   "metadata": {}
  },
  {
   "source": [
    "%%time\n",
    "\n",
    "_t1 = dt.datetime.now()\n",
    "print('Début des opérations horodatée à',col.Fore.YELLOW,dt.datetime.now(),col.Style.RESET_ALL)\n",
    "\n",
    "TICKER_LIST = ['EUR/AUD']\n",
    "x=TICKER_LIST[0]\n",
    "_ticker = x.replace('/','')\n",
    "_period = 'm5'\n",
    "df_all = pd.read_csv(x.replace('/','')+'_'+_period+'_BidAndAsk.csv')\n",
    "\n",
    "##### Ajout de la colonne Symbol pour identifier le ticker\n",
    "df_all['Symbol'] = _ticker\n",
    "\n",
    "##### On fixe la date en index sous forme de Timestamp\n",
    "df_all['Lindex'] = pd.to_datetime(df_all['Date'] + ' ' + df_all['Time'])\n",
    "df_all.set_index(pd.to_datetime(df_all.Lindex,format='%Y-%m-%d %H:%M:%S'),drop=True,inplace=True)\n",
    "\n",
    "###### On drop les colonnes inutiles\n",
    "df_all = df_all.drop(['Date','Lindex','Time','Total Ticks'],axis=1)\n",
    "\n",
    "##### On enlève les jours correspondant au samedi et au dimanche\n",
    "df_all['WE'] = np.where(((df_all.index.weekday == 5) | (df_all.index.weekday == 6)),None,df_all.index.weekday)\n",
    "df_all = df_all.dropna()\n",
    "df_all = df_all.drop(['WE'],axis=1)\n",
    "\n",
    "##### Calcul des averages pour les OHLC\n",
    "df_all['Open'] = (df_all['OpenBid'] + df_all['OpenAsk']) / 2\n",
    "df_all['High'] = (df_all['HighBid'] + df_all['HighAsk']) / 2\n",
    "df_all['Low'] = (df_all['LowBid'] + df_all['LowAsk']) / 2\n",
    "df_all['Close'] = (df_all['CloseBid'] + df_all['CloseAsk']) / 2\n",
    "\n",
    "hourly_all = pd.read_csv(x.replace('/','')+'_H1_BidAndAsk.csv')\n",
    "\n",
    "##### Ajout de la colonne Symbol pour identifier le ticker\n",
    "hourly_all['Symbol'] = _ticker\n",
    "\n",
    "##### On fixe la date en index sous forme de Timestamp\n",
    "hourly_all['Lindex'] = pd.to_datetime(hourly_all['Date'] + ' ' + hourly_all['Time'])\n",
    "hourly_all.set_index(pd.to_datetime(hourly_all.Lindex,format='%Y-%m-%d %H:%M:%S'),drop=True,inplace=True)\n",
    "\n",
    "###### On drop les colonnes inutiles\n",
    "hourly_all = hourly_all.drop(['Date','Lindex','Time','Total Ticks'],axis=1)\n",
    "\n",
    "##### On enlève les jours correspondant au samedi et au dimanche\n",
    "hourly_all['WE'] = np.where(((hourly_all.index.weekday == 5) | (hourly_all.index.weekday == 6)),None,hourly_all.index.weekday)\n",
    "hourly_all = hourly_all.dropna()\n",
    "hourly_all = hourly_all.drop(['WE'],axis=1)\n",
    "\n",
    "##### Calcul des averages pour les OHLC\n",
    "hourly_all['Open'] = (hourly_all['OpenBid'] + hourly_all['OpenAsk']) / 2\n",
    "hourly_all['High'] = (hourly_all['HighBid'] + hourly_all['HighAsk']) / 2\n",
    "hourly_all['Low'] = (hourly_all['LowBid'] + hourly_all['LowAsk']) / 2\n",
    "hourly_all['Close'] = (hourly_all['CloseBid'] + hourly_all['CloseAsk']) / 2\n",
    "\n",
    "engine.say(\"Processing featuring of dataframes, daily and intra-day\")\n",
    "engine.runAndWait()\n",
    "##### Récupération des data pour tous les tickers sur la période demandée en intraday => df_all\n",
    "\n",
    "engine.say(\"Raw data are loaded in memory\")\n",
    "engine.runAndWait()\n",
    "\n",
    "\n",
    "df_all = timerange1D(df_all)\n",
    "hourly_all = timerange1D(hourly_all)\n",
    "daily_all = get_daily(hourly_all,TICKER_LIST)\n",
    "\n",
    "engine.say(\"Daily up to date\")\n",
    "engine.runAndWait()\n",
    "\n",
    "daily_all = timerange1W(daily_all)\n",
    "weekly_all = get_weekly(daily_all,TICKER_LIST)\n",
    "engine.say(\"Weekly up to date\")\n",
    "engine.runAndWait()\n",
    "\n",
    "##### On calcule l'ADR sur le daily\n",
    "daily_all = adr(daily_all,_window=14)\n",
    "engine.say(\"ADR computed\")\n",
    "engine.runAndWait()\n",
    "\n",
    "##### On récupère l'ADR qui a été calculé en daily (daily_all) pour le mettre dans la base intraday df_all\n",
    "df_all = getadr(daily_all,df_all,TICKER_LIST)\n",
    "engine.say(\"ADR get in daily\")\n",
    "engine.runAndWait()\n",
    "\n",
    "df_all = adrhnl(daily_all,df_all,TICKER_LIST)\n",
    "\n",
    "##### Calcul d'une SMA 200 sur df_all\n",
    "df_all = sma(df_all=df_all,_window=200)\n",
    "\n",
    "##### Calcul des bollinger sur df_all\n",
    "df_all = bollinger(df_all,_slow=20)\n",
    "\n",
    "##### Calcul du stochastic slow. Par défaut les paramètres sont 5 et 3.\n",
    "df_all = slowstochastic(df_all,TICKER_LIST)\n",
    "\n",
    "df_all = ema(df_all,21,TICKER_LIST)\n",
    "\n",
    "df_all = ema(df_all,8,TICKER_LIST)\n",
    "\n",
    "weekly_all = pivot(weekly_all,TICKER_LIST)\n",
    "\n",
    "df_all = pivotimportdf(df_all,weekly_all,TICKER_LIST)\n",
    "\n",
    "df_all = atr(df_all,TICKER_LIST,14)\n",
    "\n",
    "df_all = rvi(df_all,TICKER_LIST,_window=14)\n",
    "\n",
    "df_all = sbgamma(df_all,TICKER_LIST)\n",
    "\n",
    "df_all = onhisma(df_all,TICKER_LIST,_window=5)\n",
    "df_all = onlosma(df_all,TICKER_LIST,_window=5)\n",
    "\n",
    "df_all = onhisma(df_all,TICKER_LIST,_window=21)\n",
    "df_all = onlosma(df_all,TICKER_LIST,_window=21)\n",
    "\n",
    "df_all = onhisma(df_all,TICKER_LIST,_window=34)\n",
    "df_all = onlosma(df_all,TICKER_LIST,_window=34)\n",
    "\n",
    "df_all = importohlc(df_all,weekly_all,TICKER_LIST,_suffix='_weekly')\n",
    "\n",
    "df_all = importohlc(df_all=df_all,other_all=daily_all,TICKER_LIST=TICKER_LIST,_suffix='_daily')\n",
    "\n",
    "engine.say(\"The job is done\")\n",
    "engine.runAndWait()\n",
    "\n",
    "\n",
    "engine.say(\"AAll the bases are saved\")\n",
    "engine.runAndWait()\n",
    "\n",
    "_t2 = dt.datetime.now()\n",
    "print('Début des opérations horodatée à',col.Fore.YELLOW,dt.datetime.now(),col.Style.RESET_ALL)\n",
    "print((_t2 - _t1))"
   ],
   "cell_type": "markdown",
   "metadata": {}
  },
  {
   "source": [
    "%%time\n",
    "joblib.dump(df_all,x.replace('/','')+'_DF_ALL')\n",
    "joblib.dump(hourly_all,x.replace('/','')+'_HOURLY_ALL')\n",
    "joblib.dump(weekly_all,x.replace('/','')+'_WEEKLY_ALL')\n",
    "joblib.dump(daily_all,x.replace('/','')+'_DAILY_ALL')"
   ],
   "cell_type": "markdown",
   "metadata": {}
  },
  {
   "cell_type": "code",
   "execution_count": 2,
   "metadata": {},
   "outputs": [
    {
     "output_type": "stream",
     "name": "stdout",
     "text": [
      "CPU times: user 255 ms, sys: 328 ms, total: 583 ms\nWall time: 596 ms\n"
     ]
    }
   ],
   "source": [
    "%%time\n",
    "x='EUR/AUD'\n",
    "df_all = joblib.load(x.replace('/','')+'_DF_ALL')\n",
    "hourly_all = joblib.load(x.replace('/','')+'_HOURLY_ALL')\n",
    "weekly_all = joblib.load(x.replace('/','')+'_WEEKLY_ALL')\n",
    "daily_all = joblib.load(x.replace('/','')+'_DAILY_ALL')\n"
   ]
  },
  {
   "cell_type": "code",
   "execution_count": 3,
   "metadata": {},
   "outputs": [
    {
     "output_type": "stream",
     "name": "stdout",
     "text": [
      "CPU times: user 55 ms, sys: 13.6 ms, total: 68.5 ms\nWall time: 48.9 ms\n"
     ]
    }
   ],
   "source": [
    "%%time\n",
    "df_all = stochastic(df_all)"
   ]
  },
  {
   "cell_type": "code",
   "execution_count": 4,
   "metadata": {},
   "outputs": [
    {
     "output_type": "stream",
     "name": "stdout",
     "text": [
      "\n",
      "checking for infinity\n",
      "\n",
      "printing the count of infinity values\n",
      "It contains 4016 infinite values\n",
      "It contains 4016 infinite values\n",
      "\n",
      "printing column name where infinity is present\n",
      "SB_Gamma    SB_Gamma\n",
      "dtype: object\n",
      "\n",
      "printing len(r),len(ds),len(df)\n",
      "4016 807116 807116\n"
     ]
    }
   ],
   "source": [
    "check_inf(df_all.drop(['Date','Symbol'],axis=1))"
   ]
  },
  {
   "cell_type": "code",
   "execution_count": 5,
   "metadata": {},
   "outputs": [
    {
     "output_type": "stream",
     "name": "stdout",
     "text": [
      "\n",
      "checking for NaN\n",
      "\n",
      "printing the count of NaN values\n",
      "It contains 30478 NaN values\n",
      "It contains 30478 NaN values\n",
      "\n",
      "printing column name where NaN is present\n",
      "ADR                  ADR\n",
      "ADR_High        ADR_High\n",
      "ADR_Low          ADR_Low\n",
      "SMA_200          SMA_200\n",
      "UpperBand      UpperBand\n",
      "LowerBand      LowerBand\n",
      "slow_K5          slow_K5\n",
      "slow_D5          slow_D5\n",
      "PP                    PP\n",
      "S38                  S38\n",
      "S62                  S62\n",
      "S100                S100\n",
      "S138                S138\n",
      "S162                S162\n",
      "S200                S200\n",
      "R38                  R38\n",
      "R62                  R62\n",
      "R100                R100\n",
      "R138                R138\n",
      "R162                R162\n",
      "R200                R200\n",
      "ATR_14            ATR_14\n",
      "RVI                  RVI\n",
      "SB_Gamma        SB_Gamma\n",
      "ONHISMA_5      ONHISMA_5\n",
      "ONLOSMA_5      ONLOSMA_5\n",
      "ONHISMA_21    ONHISMA_21\n",
      "ONLOSMA_21    ONLOSMA_21\n",
      "ONHISMA_34    ONHISMA_34\n",
      "ONLOSMA_34    ONLOSMA_34\n",
      "dtype: object\n",
      "\n",
      "printing len(r),len(ds),len(df)\n",
      "3966 807116 807116\n"
     ]
    }
   ],
   "source": [
    "check_nan(df_all.drop(['Date','Symbol'],axis=1))"
   ]
  },
  {
   "cell_type": "code",
   "execution_count": 6,
   "metadata": {},
   "outputs": [],
   "source": [
    "features = featuring(df_all)"
   ]
  },
  {
   "cell_type": "code",
   "execution_count": 7,
   "metadata": {},
   "outputs": [
    {
     "output_type": "stream",
     "name": "stdout",
     "text": [
      "\n",
      "checking for infinity\n",
      "\n",
      "printing the count of infinity values\n",
      "It contains 4016 infinite values\n",
      "It contains 4016 infinite values\n",
      "\n",
      "printing column name where infinity is present\n",
      "FSBGAMMA    FSBGAMMA\n",
      "dtype: object\n",
      "\n",
      "printing len(r),len(ds),len(df)\n",
      "4016 807116 807116\n"
     ]
    }
   ],
   "source": [
    "check_inf(features.drop(['Date','Symbol'],axis=1))"
   ]
  },
  {
   "cell_type": "code",
   "execution_count": 8,
   "metadata": {},
   "outputs": [
    {
     "output_type": "stream",
     "name": "stdout",
     "text": [
      "\n",
      "checking for NaN\n",
      "\n",
      "printing the count of NaN values\n",
      "It contains 26545 NaN values\n",
      "It contains 26545 NaN values\n",
      "\n",
      "printing column name where NaN is present\n",
      "FADRLo            FADRLo\n",
      "FADRHi            FADRHi\n",
      "FRVI40            FRVI40\n",
      "FRVI60            FRVI60\n",
      "FONLOSMA5      FONLOSMA5\n",
      "FONHISMA5      FONHISMA5\n",
      "FONLOSMA21    FONLOSMA21\n",
      "FONHISMA21    FONHISMA21\n",
      "FONLOSMA34    FONLOSMA34\n",
      "FONHISMA34    FONHISMA34\n",
      "FSBGAMMA        FSBGAMMA\n",
      "FSMA200          FSMA200\n",
      "FBOLUP20        FBOLUP20\n",
      "FBOLLOW20      FBOLLOW20\n",
      "FPP                  FPP\n",
      "FS38                FS38\n",
      "FS62                FS62\n",
      "FS100              FS100\n",
      "FS138              FS138\n",
      "FS162              FS162\n",
      "FS200              FS200\n",
      "FR38                FR38\n",
      "FR62                FR62\n",
      "FR100              FR100\n",
      "FR138              FR138\n",
      "FR162              FR162\n",
      "FR200              FR200\n",
      "SBATR              SBATR\n",
      "dtype: object\n",
      "\n",
      "printing len(r),len(ds),len(df)\n",
      "3966 807116 807116\n"
     ]
    }
   ],
   "source": [
    "check_nan(features.drop(['Date','Symbol'],axis=1))"
   ]
  },
  {
   "cell_type": "code",
   "execution_count": 14,
   "metadata": {},
   "outputs": [
    {
     "output_type": "stream",
     "name": "stdout",
     "text": [
      "CPU times: user 329 ms, sys: 87.1 ms, total: 416 ms\nWall time: 312 ms\n"
     ]
    }
   ],
   "source": [
    "%%time\n",
    "_ticker = x.replace('/','')\n",
    "hourly = df_all[df_all.Symbol==_ticker].copy()\n",
    "_op1 = (hourly.Close - hourly.Open)/(hourly.Close.shift(1) - hourly.Open.shift(1))\n",
    "_op2 = (hourly.Close - hourly.Open)/(hourly.CloseAsk.shift(1) - hourly.OpenAsk.shift(1))\n",
    "_op3 = (hourly.Close - hourly.Open)/(hourly.CloseBid.shift(1) - hourly.OpenBid.shift(1))\n",
    "_op4 = (hourly.Close - hourly.Open)/(hourly.CloseBid.shift(1) - hourly.OpenAsk.shift(1))\n",
    "_op5 = (hourly.Close - hourly.Open)/(hourly.CloseAsk.shift(1) - hourly.OpenBid.shift(1))\n",
    "\n",
    "_condition1 = hourly.Close.shift(1) != hourly.Open.shift(1)\n",
    "_condition2 = hourly.CloseAsk.shift(1) != hourly.OpenAsk.shift(1)\n",
    "_condition3 = hourly.CloseBid.shift(1) != hourly.OpenBid.shift(1)\n",
    "_condition4 = hourly.CloseBid.shift(1) != hourly.OpenAsk.shift(1)\n",
    "_condition5 = hourly.CloseAsk.shift(1) != hourly.OpenBid.shift(1)\n",
    "    \n",
    "hourly['SB_Gamma'] = np.where(_condition1,_op1,np.where(_condition2,_op2,np.where(_condition3,_op3,np.where(_condition4,_op4,np.where(_condition5,_op5,1.93E13)))))"
   ]
  },
  {
   "cell_type": "code",
   "execution_count": 15,
   "metadata": {},
   "outputs": [
    {
     "output_type": "stream",
     "name": "stdout",
     "text": [
      "\n",
      "checking for infinity\n",
      "\n",
      "printing the count of infinity values\n",
      "It contains 0 infinite values\n",
      "It contains 0 infinite values\n",
      "\n",
      "printing column name where infinity is present\n",
      "Series([], dtype: object)\n",
      "\n",
      "printing len(r),len(ds),len(df)\n",
      "0 807116 807116\n"
     ]
    }
   ],
   "source": [
    "check_inf(hourly.drop(['Date','Symbol'],axis=1))"
   ]
  },
  {
   "cell_type": "code",
   "execution_count": 16,
   "metadata": {},
   "outputs": [
    {
     "output_type": "stream",
     "name": "stdout",
     "text": [
      "\n",
      "checking for NaN\n",
      "\n",
      "printing the count of NaN values\n",
      "It contains 30445 NaN values\n",
      "It contains 30445 NaN values\n",
      "\n",
      "printing column name where NaN is present\n",
      "ADR                  ADR\n",
      "ADR_High        ADR_High\n",
      "ADR_Low          ADR_Low\n",
      "SMA_200          SMA_200\n",
      "UpperBand      UpperBand\n",
      "LowerBand      LowerBand\n",
      "slow_K5          slow_K5\n",
      "slow_D5          slow_D5\n",
      "PP                    PP\n",
      "S38                  S38\n",
      "S62                  S62\n",
      "S100                S100\n",
      "S138                S138\n",
      "S162                S162\n",
      "S200                S200\n",
      "R38                  R38\n",
      "R62                  R62\n",
      "R100                R100\n",
      "R138                R138\n",
      "R162                R162\n",
      "R200                R200\n",
      "ATR_14            ATR_14\n",
      "RVI                  RVI\n",
      "SB_Gamma        SB_Gamma\n",
      "ONHISMA_5      ONHISMA_5\n",
      "ONLOSMA_5      ONLOSMA_5\n",
      "ONHISMA_21    ONHISMA_21\n",
      "ONLOSMA_21    ONLOSMA_21\n",
      "ONHISMA_34    ONHISMA_34\n",
      "ONLOSMA_34    ONLOSMA_34\n",
      "dtype: object\n",
      "\n",
      "printing len(r),len(ds),len(df)\n",
      "3933 807116 807116\n"
     ]
    }
   ],
   "source": [
    "check_nan(hourly.drop(['Date','Symbol'],axis=1))"
   ]
  },
  {
   "cell_type": "code",
   "execution_count": 17,
   "metadata": {},
   "outputs": [
    {
     "output_type": "execute_result",
     "data": {
      "text/plain": [
       "Lindex\n",
       "2010-01-04 15:45:00    inf\n",
       "2010-01-07 17:05:00    inf\n",
       "2010-01-07 20:10:00    inf\n",
       "2010-01-11 06:55:00    inf\n",
       "2010-01-11 09:50:00   -inf\n",
       "                      ... \n",
       "2021-02-10 21:45:00    inf\n",
       "2021-02-10 23:30:00   -inf\n",
       "2021-02-11 18:55:00    inf\n",
       "2021-02-12 14:15:00    inf\n",
       "2021-02-15 08:45:00   -inf\n",
       "Name: SB_Gamma, Length: 4016, dtype: float64"
      ]
     },
     "metadata": {},
     "execution_count": 17
    }
   ],
   "source": [
    "df_all[np.isinf(df_all.SB_Gamma)].SB_Gamma"
   ]
  },
  {
   "cell_type": "code",
   "execution_count": 18,
   "metadata": {},
   "outputs": [
    {
     "output_type": "execute_result",
     "data": {
      "text/plain": [
       "Series([], Name: SB_Gamma, dtype: float64)"
      ]
     },
     "metadata": {},
     "execution_count": 18
    }
   ],
   "source": [
    "hourly[np.isinf(hourly.SB_Gamma)].SB_Gamma"
   ]
  },
  {
   "cell_type": "code",
   "execution_count": 25,
   "metadata": {},
   "outputs": [
    {
     "output_type": "execute_result",
     "data": {
      "text/plain": [
       "19275406405145.0"
      ]
     },
     "metadata": {},
     "execution_count": 25
    }
   ],
   "source": [
    "hourly.SB_Gamma.max()"
   ]
  },
  {
   "cell_type": "code",
   "execution_count": 35,
   "metadata": {},
   "outputs": [
    {
     "output_type": "execute_result",
     "data": {
      "text/plain": [
       "4593594855.0"
      ]
     },
     "metadata": {},
     "execution_count": 35
    }
   ],
   "source": [
    "1.93E13 - 19275406405145.0"
   ]
  },
  {
   "cell_type": "code",
   "execution_count": 37,
   "metadata": {},
   "outputs": [
    {
     "output_type": "execute_result",
     "data": {
      "text/plain": [
       "0"
      ]
     },
     "metadata": {},
     "execution_count": 37
    }
   ],
   "source": [
    "len(hourly[hourly.SB_Gamma==1.93E13])"
   ]
  },
  {
   "cell_type": "code",
   "execution_count": 24,
   "metadata": {},
   "outputs": [
    {
     "output_type": "execute_result",
     "data": {
      "text/plain": [
       "Lindex\n",
       "2010-01-04 15:40:00    0.000000\n",
       "2010-01-04 15:45:00         inf\n",
       "2010-01-04 15:50:00   -1.822785\n",
       "2010-01-04 15:55:00    2.583333\n",
       "Name: SB_Gamma, dtype: float64"
      ]
     },
     "metadata": {},
     "execution_count": 24
    }
   ],
   "source": [
    "df_all[(df_all.index>='2010-01-04 15:40:00') & (df_all.index<='2010-01-04 15:55:00')].SB_Gamma"
   ]
  },
  {
   "cell_type": "code",
   "execution_count": 48,
   "metadata": {},
   "outputs": [
    {
     "output_type": "execute_result",
     "data": {
      "text/plain": [
       "Lindex\n",
       "2010-01-04 15:40:00     0.000000\n",
       "2010-01-04 15:45:00   -39.500000\n",
       "2010-01-04 15:50:00    -1.822785\n",
       "2010-01-04 15:55:00     2.583333\n",
       "Name: SB_Gamma, dtype: float64"
      ]
     },
     "metadata": {},
     "execution_count": 48
    }
   ],
   "source": [
    "hourly[(hourly.index>='2010-01-04 15:40:00') & (hourly.index<='2010-01-04 15:55:00')].SB_Gamma"
   ]
  },
  {
   "cell_type": "code",
   "execution_count": 29,
   "metadata": {},
   "outputs": [
    {
     "output_type": "execute_result",
     "data": {
      "text/plain": [
       "(1.583, 1.582605)"
      ]
     },
     "metadata": {},
     "execution_count": 29
    }
   ],
   "source": [
    "df_all[df_all.index=='2010-01-04 15:45:00'].Close[0],df_all[df_all.index=='2010-01-04 15:45:00'].Open[0]"
   ]
  },
  {
   "cell_type": "code",
   "execution_count": 30,
   "metadata": {},
   "outputs": [
    {
     "output_type": "execute_result",
     "data": {
      "text/plain": [
       "(1.582605, 1.582605)"
      ]
     },
     "metadata": {},
     "execution_count": 30
    }
   ],
   "source": [
    "df_all[df_all.index=='2010-01-04 15:40:00'].Close[0],df_all[df_all.index=='2010-01-04 15:40:00'].Open[0]"
   ]
  },
  {
   "cell_type": "code",
   "execution_count": 28,
   "metadata": {},
   "outputs": [],
   "source": [
    "df_all['Close'] = round(df_all.Close,6)"
   ]
  },
  {
   "cell_type": "code",
   "execution_count": 31,
   "metadata": {},
   "outputs": [
    {
     "output_type": "execute_result",
     "data": {
      "text/plain": [
       "inf"
      ]
     },
     "metadata": {},
     "execution_count": 31
    }
   ],
   "source": [
    "(df_all[df_all.index=='2010-01-04 15:45:00'].Close[0]-df_all[df_all.index=='2010-01-04 15:45:00'].Open[0])/ (df_all[df_all.index=='2010-01-04 15:40:00'].Close[0]-df_all[df_all.index=='2010-01-04 15:40:00'].Open[0])"
   ]
  },
  {
   "cell_type": "code",
   "execution_count": 35,
   "metadata": {},
   "outputs": [
    {
     "output_type": "execute_result",
     "data": {
      "text/plain": [
       "                     OpenBid  HighBid   LowBid  CloseBid  OpenAsk  HighAsk  \\\n",
       "Lindex                                                                       \n",
       "2010-01-04 15:45:00  1.58233  1.58299  1.58205   1.58272  1.58288  1.58352   \n",
       "\n",
       "                      LowAsk  CloseAsk  Symbol      Open  ...  ONLOSMA_34  \\\n",
       "Lindex                                                    ...               \n",
       "2010-01-04 15:45:00  1.58267   1.58328  EURAUD  1.582605  ...    1.586623   \n",
       "\n",
       "                     Open_weekly  High_weekly Low_weekly  Close_weekly  \\\n",
       "Lindex                                                                   \n",
       "2010-01-04 15:45:00     1.595525      1.59603    1.55618      1.560425   \n",
       "\n",
       "                     Open_daily  High_daily  Low_daily  Close_daily  Signal  \n",
       "Lindex                                                                       \n",
       "2010-01-04 15:45:00    1.595525     1.59603     1.5771     1.580735       0  \n",
       "\n",
       "[1 rows x 57 columns]"
      ],
      "text/html": "<div>\n<style scoped>\n    .dataframe tbody tr th:only-of-type {\n        vertical-align: middle;\n    }\n\n    .dataframe tbody tr th {\n        vertical-align: top;\n    }\n\n    .dataframe thead th {\n        text-align: right;\n    }\n</style>\n<table border=\"1\" class=\"dataframe\">\n  <thead>\n    <tr style=\"text-align: right;\">\n      <th></th>\n      <th>OpenBid</th>\n      <th>HighBid</th>\n      <th>LowBid</th>\n      <th>CloseBid</th>\n      <th>OpenAsk</th>\n      <th>HighAsk</th>\n      <th>LowAsk</th>\n      <th>CloseAsk</th>\n      <th>Symbol</th>\n      <th>Open</th>\n      <th>...</th>\n      <th>ONLOSMA_34</th>\n      <th>Open_weekly</th>\n      <th>High_weekly</th>\n      <th>Low_weekly</th>\n      <th>Close_weekly</th>\n      <th>Open_daily</th>\n      <th>High_daily</th>\n      <th>Low_daily</th>\n      <th>Close_daily</th>\n      <th>Signal</th>\n    </tr>\n    <tr>\n      <th>Lindex</th>\n      <th></th>\n      <th></th>\n      <th></th>\n      <th></th>\n      <th></th>\n      <th></th>\n      <th></th>\n      <th></th>\n      <th></th>\n      <th></th>\n      <th></th>\n      <th></th>\n      <th></th>\n      <th></th>\n      <th></th>\n      <th></th>\n      <th></th>\n      <th></th>\n      <th></th>\n      <th></th>\n      <th></th>\n    </tr>\n  </thead>\n  <tbody>\n    <tr>\n      <th>2010-01-04 15:45:00</th>\n      <td>1.58233</td>\n      <td>1.58299</td>\n      <td>1.58205</td>\n      <td>1.58272</td>\n      <td>1.58288</td>\n      <td>1.58352</td>\n      <td>1.58267</td>\n      <td>1.58328</td>\n      <td>EURAUD</td>\n      <td>1.582605</td>\n      <td>...</td>\n      <td>1.586623</td>\n      <td>1.595525</td>\n      <td>1.59603</td>\n      <td>1.55618</td>\n      <td>1.560425</td>\n      <td>1.595525</td>\n      <td>1.59603</td>\n      <td>1.5771</td>\n      <td>1.580735</td>\n      <td>0</td>\n    </tr>\n  </tbody>\n</table>\n<p>1 rows × 57 columns</p>\n</div>"
     },
     "metadata": {},
     "execution_count": 35
    }
   ],
   "source": [
    "df_all[df_all.index=='2010-01-04 15:45:00']"
   ]
  },
  {
   "cell_type": "code",
   "execution_count": 37,
   "metadata": {},
   "outputs": [
    {
     "output_type": "execute_result",
     "data": {
      "text/plain": [
       "3523"
      ]
     },
     "metadata": {},
     "execution_count": 37
    }
   ],
   "source": [
    "np.where(df_all.Open==df_all.Close,1,0).sum()"
   ]
  },
  {
   "cell_type": "code",
   "execution_count": 38,
   "metadata": {},
   "outputs": [
    {
     "output_type": "execute_result",
     "data": {
      "text/plain": [
       "10071"
      ]
     },
     "metadata": {},
     "execution_count": 38
    }
   ],
   "source": [
    "np.where(df_all.OpenBid==df_all.CloseBid,1,0).sum()"
   ]
  },
  {
   "cell_type": "code",
   "execution_count": 39,
   "metadata": {},
   "outputs": [
    {
     "output_type": "execute_result",
     "data": {
      "text/plain": [
       "9977"
      ]
     },
     "metadata": {},
     "execution_count": 39
    }
   ],
   "source": [
    "np.where(df_all.OpenAsk==df_all.CloseAsk,1,0).sum()"
   ]
  },
  {
   "cell_type": "code",
   "execution_count": 40,
   "metadata": {},
   "outputs": [
    {
     "output_type": "execute_result",
     "data": {
      "text/plain": [
       "5780"
      ]
     },
     "metadata": {},
     "execution_count": 40
    }
   ],
   "source": [
    "np.where(df_all.OpenAsk==df_all.CloseBid,1,0).sum()"
   ]
  },
  {
   "cell_type": "code",
   "execution_count": 41,
   "metadata": {},
   "outputs": [
    {
     "output_type": "execute_result",
     "data": {
      "text/plain": [
       "5936"
      ]
     },
     "metadata": {},
     "execution_count": 41
    }
   ],
   "source": [
    "np.where(df_all.OpenBid==df_all.CloseAsk,1,0).sum()"
   ]
  },
  {
   "cell_type": "code",
   "execution_count": 51,
   "metadata": {},
   "outputs": [],
   "source": [
    "test = pd.read_csv('AUDCAD.csv')"
   ]
  },
  {
   "cell_type": "code",
   "execution_count": 52,
   "metadata": {},
   "outputs": [
    {
     "output_type": "execute_result",
     "data": {
      "text/plain": [
       "            Date Timestamp     Open     High      Low    Close      Volume\n",
       "0       20100101  12:00:00  0.94343  0.94343  0.94343  0.94343    1.669749\n",
       "1       20100101  12:05:00  0.94353  0.94353  0.94340  0.94340    6.312595\n",
       "2       20100101  12:10:00  0.94350  0.94350  0.94350  0.94350    1.975511\n",
       "3       20100101  12:15:00  0.94343  0.94343  0.94343  0.94343    5.962901\n",
       "4       20100101  12:20:00  0.94350  0.94350  0.94342  0.94342    6.765226\n",
       "...          ...       ...      ...      ...      ...      ...         ...\n",
       "639411  20180720  08:05:00  0.97619  0.97631  0.97614  0.97624  416.189999\n",
       "639412  20180720  08:10:00  0.97625  0.97685  0.97613  0.97669  618.719998\n",
       "639413  20180720  08:15:00  0.97669  0.97680  0.97652  0.97674  366.219999\n",
       "639414  20180720  08:20:00  0.97673  0.97679  0.97634  0.97634  477.110000\n",
       "639415     20180       NaN      NaN      NaN      NaN      NaN         NaN\n",
       "\n",
       "[639416 rows x 7 columns]"
      ],
      "text/html": "<div>\n<style scoped>\n    .dataframe tbody tr th:only-of-type {\n        vertical-align: middle;\n    }\n\n    .dataframe tbody tr th {\n        vertical-align: top;\n    }\n\n    .dataframe thead th {\n        text-align: right;\n    }\n</style>\n<table border=\"1\" class=\"dataframe\">\n  <thead>\n    <tr style=\"text-align: right;\">\n      <th></th>\n      <th>Date</th>\n      <th>Timestamp</th>\n      <th>Open</th>\n      <th>High</th>\n      <th>Low</th>\n      <th>Close</th>\n      <th>Volume</th>\n    </tr>\n  </thead>\n  <tbody>\n    <tr>\n      <th>0</th>\n      <td>20100101</td>\n      <td>12:00:00</td>\n      <td>0.94343</td>\n      <td>0.94343</td>\n      <td>0.94343</td>\n      <td>0.94343</td>\n      <td>1.669749</td>\n    </tr>\n    <tr>\n      <th>1</th>\n      <td>20100101</td>\n      <td>12:05:00</td>\n      <td>0.94353</td>\n      <td>0.94353</td>\n      <td>0.94340</td>\n      <td>0.94340</td>\n      <td>6.312595</td>\n    </tr>\n    <tr>\n      <th>2</th>\n      <td>20100101</td>\n      <td>12:10:00</td>\n      <td>0.94350</td>\n      <td>0.94350</td>\n      <td>0.94350</td>\n      <td>0.94350</td>\n      <td>1.975511</td>\n    </tr>\n    <tr>\n      <th>3</th>\n      <td>20100101</td>\n      <td>12:15:00</td>\n      <td>0.94343</td>\n      <td>0.94343</td>\n      <td>0.94343</td>\n      <td>0.94343</td>\n      <td>5.962901</td>\n    </tr>\n    <tr>\n      <th>4</th>\n      <td>20100101</td>\n      <td>12:20:00</td>\n      <td>0.94350</td>\n      <td>0.94350</td>\n      <td>0.94342</td>\n      <td>0.94342</td>\n      <td>6.765226</td>\n    </tr>\n    <tr>\n      <th>...</th>\n      <td>...</td>\n      <td>...</td>\n      <td>...</td>\n      <td>...</td>\n      <td>...</td>\n      <td>...</td>\n      <td>...</td>\n    </tr>\n    <tr>\n      <th>639411</th>\n      <td>20180720</td>\n      <td>08:05:00</td>\n      <td>0.97619</td>\n      <td>0.97631</td>\n      <td>0.97614</td>\n      <td>0.97624</td>\n      <td>416.189999</td>\n    </tr>\n    <tr>\n      <th>639412</th>\n      <td>20180720</td>\n      <td>08:10:00</td>\n      <td>0.97625</td>\n      <td>0.97685</td>\n      <td>0.97613</td>\n      <td>0.97669</td>\n      <td>618.719998</td>\n    </tr>\n    <tr>\n      <th>639413</th>\n      <td>20180720</td>\n      <td>08:15:00</td>\n      <td>0.97669</td>\n      <td>0.97680</td>\n      <td>0.97652</td>\n      <td>0.97674</td>\n      <td>366.219999</td>\n    </tr>\n    <tr>\n      <th>639414</th>\n      <td>20180720</td>\n      <td>08:20:00</td>\n      <td>0.97673</td>\n      <td>0.97679</td>\n      <td>0.97634</td>\n      <td>0.97634</td>\n      <td>477.110000</td>\n    </tr>\n    <tr>\n      <th>639415</th>\n      <td>20180</td>\n      <td>NaN</td>\n      <td>NaN</td>\n      <td>NaN</td>\n      <td>NaN</td>\n      <td>NaN</td>\n      <td>NaN</td>\n    </tr>\n  </tbody>\n</table>\n<p>639416 rows × 7 columns</p>\n</div>"
     },
     "metadata": {},
     "execution_count": 52
    }
   ],
   "source": [
    "test"
   ]
  },
  {
   "cell_type": "code",
   "execution_count": 20,
   "metadata": {},
   "outputs": [
    {
     "output_type": "execute_result",
     "data": {
      "text/plain": [
       "Lindex\n",
       "2010-01-04   NaN\n",
       "Name: SB_Gamma, dtype: float64"
      ]
     },
     "metadata": {},
     "execution_count": 20
    }
   ],
   "source": [
    "hourly[np.isnan(hourly.SB_Gamma)].SB_Gamma"
   ]
  },
  {
   "cell_type": "code",
   "execution_count": 43,
   "metadata": {},
   "outputs": [
    {
     "output_type": "stream",
     "name": "stdout",
     "text": [
      "\n",
      "checking for NaN\n",
      "\n",
      "printing the count of NaN values\n",
      "It contains 30478 NaN values\n",
      "It contains 30478 NaN values\n",
      "\n",
      "printing column name where NaN is present\n",
      "ADR                  ADR\n",
      "ADR_High        ADR_High\n",
      "ADR_Low          ADR_Low\n",
      "SMA_200          SMA_200\n",
      "UpperBand      UpperBand\n",
      "LowerBand      LowerBand\n",
      "slow_K5          slow_K5\n",
      "slow_D5          slow_D5\n",
      "PP                    PP\n",
      "S38                  S38\n",
      "S62                  S62\n",
      "S100                S100\n",
      "S138                S138\n",
      "S162                S162\n",
      "S200                S200\n",
      "R38                  R38\n",
      "R62                  R62\n",
      "R100                R100\n",
      "R138                R138\n",
      "R162                R162\n",
      "R200                R200\n",
      "ATR_14            ATR_14\n",
      "RVI                  RVI\n",
      "SB_Gamma        SB_Gamma\n",
      "ONHISMA_5      ONHISMA_5\n",
      "ONLOSMA_5      ONLOSMA_5\n",
      "ONHISMA_21    ONHISMA_21\n",
      "ONLOSMA_21    ONLOSMA_21\n",
      "ONHISMA_34    ONHISMA_34\n",
      "ONLOSMA_34    ONLOSMA_34\n",
      "dtype: object\n",
      "\n",
      "printing len(r),len(ds),len(df)\n",
      "3966 807116 807116\n"
     ]
    }
   ],
   "source": [
    "check_nan(df_all.drop(['Date','Symbol'],axis=1))"
   ]
  },
  {
   "cell_type": "code",
   "execution_count": 91,
   "metadata": {},
   "outputs": [
    {
     "output_type": "execute_result",
     "data": {
      "text/plain": [
       "                     OpenBid  HighBid   LowBid  CloseBid  OpenAsk  HighAsk  \\\n",
       "Lindex                                                                       \n",
       "2020-12-14 10:35:00  1.60666  1.60699  1.60656   1.60666  1.60688  1.60719   \n",
       "2020-12-14 10:40:00  1.60666  1.60679  1.60638   1.60667  1.60688  1.60701   \n",
       "\n",
       "                      LowAsk  CloseAsk  Symbol     Open     High       Low  \\\n",
       "Lindex                                                                       \n",
       "2020-12-14 10:35:00  1.60677   1.60688  EURAUD  1.60677  1.60709  1.606665   \n",
       "2020-12-14 10:40:00  1.60658   1.60687  EURAUD  1.60677  1.60690  1.606480   \n",
       "\n",
       "                       Close       Date     ADR  DayHigh    DayLow  ADR_High  \n",
       "Lindex                                                                        \n",
       "2020-12-14 10:35:00  1.60677 2020-12-14  0.0108  1.61298  1.604535  1.615335  \n",
       "2020-12-14 10:40:00  1.60677 2020-12-14  0.0108  1.61298  1.604535  1.615335  "
      ],
      "text/html": "<div>\n<style scoped>\n    .dataframe tbody tr th:only-of-type {\n        vertical-align: middle;\n    }\n\n    .dataframe tbody tr th {\n        vertical-align: top;\n    }\n\n    .dataframe thead th {\n        text-align: right;\n    }\n</style>\n<table border=\"1\" class=\"dataframe\">\n  <thead>\n    <tr style=\"text-align: right;\">\n      <th></th>\n      <th>OpenBid</th>\n      <th>HighBid</th>\n      <th>LowBid</th>\n      <th>CloseBid</th>\n      <th>OpenAsk</th>\n      <th>HighAsk</th>\n      <th>LowAsk</th>\n      <th>CloseAsk</th>\n      <th>Symbol</th>\n      <th>Open</th>\n      <th>High</th>\n      <th>Low</th>\n      <th>Close</th>\n      <th>Date</th>\n      <th>ADR</th>\n      <th>DayHigh</th>\n      <th>DayLow</th>\n      <th>ADR_High</th>\n    </tr>\n    <tr>\n      <th>Lindex</th>\n      <th></th>\n      <th></th>\n      <th></th>\n      <th></th>\n      <th></th>\n      <th></th>\n      <th></th>\n      <th></th>\n      <th></th>\n      <th></th>\n      <th></th>\n      <th></th>\n      <th></th>\n      <th></th>\n      <th></th>\n      <th></th>\n      <th></th>\n      <th></th>\n    </tr>\n  </thead>\n  <tbody>\n    <tr>\n      <th>2020-12-14 10:35:00</th>\n      <td>1.60666</td>\n      <td>1.60699</td>\n      <td>1.60656</td>\n      <td>1.60666</td>\n      <td>1.60688</td>\n      <td>1.60719</td>\n      <td>1.60677</td>\n      <td>1.60688</td>\n      <td>EURAUD</td>\n      <td>1.60677</td>\n      <td>1.60709</td>\n      <td>1.606665</td>\n      <td>1.60677</td>\n      <td>2020-12-14</td>\n      <td>0.0108</td>\n      <td>1.61298</td>\n      <td>1.604535</td>\n      <td>1.615335</td>\n    </tr>\n    <tr>\n      <th>2020-12-14 10:40:00</th>\n      <td>1.60666</td>\n      <td>1.60679</td>\n      <td>1.60638</td>\n      <td>1.60667</td>\n      <td>1.60688</td>\n      <td>1.60701</td>\n      <td>1.60658</td>\n      <td>1.60687</td>\n      <td>EURAUD</td>\n      <td>1.60677</td>\n      <td>1.60690</td>\n      <td>1.606480</td>\n      <td>1.60677</td>\n      <td>2020-12-14</td>\n      <td>0.0108</td>\n      <td>1.61298</td>\n      <td>1.604535</td>\n      <td>1.615335</td>\n    </tr>\n  </tbody>\n</table>\n</div>"
     },
     "metadata": {},
     "execution_count": 91
    }
   ],
   "source": [
    "df_all[(df_all.index=='2020-12-14 10:35:00')|(df_all.index=='2020-12-14 10:40:00')].iloc[:,:18]"
   ]
  },
  {
   "cell_type": "code",
   "execution_count": 94,
   "metadata": {},
   "outputs": [
    {
     "output_type": "execute_result",
     "data": {
      "text/plain": [
       "nan"
      ]
     },
     "metadata": {},
     "execution_count": 94
    }
   ],
   "source": [
    "(df_all[(df_all.index=='2020-12-14 10:40:00')].Open[0] - df_all[(df_all.index=='2020-12-14 10:40:00')].Close[0]) / (df_all[(df_all.index=='2020-12-14 10:35:00')].Open[0] - df_all[(df_all.index=='2020-12-14 10:35:00')].Close[0])"
   ]
  },
  {
   "cell_type": "code",
   "execution_count": 21,
   "metadata": {},
   "outputs": [],
   "source": [
    "newfeatures = featuring(hourly)"
   ]
  },
  {
   "cell_type": "code",
   "execution_count": 22,
   "metadata": {},
   "outputs": [
    {
     "output_type": "execute_result",
     "data": {
      "text/plain": [
       "(807116, 807116, 807116, 807116, 803150, 803150, 803183, 803183)"
      ]
     },
     "metadata": {},
     "execution_count": 22
    }
   ],
   "source": [
    "len(df_all),len(features),len(hourly),len(newfeatures),len(df_all.dropna()),len(features.dropna()),len(hourly.dropna()),len(newfeatures.dropna())"
   ]
  },
  {
   "cell_type": "code",
   "execution_count": 45,
   "metadata": {},
   "outputs": [
    {
     "output_type": "stream",
     "name": "stdout",
     "text": [
      "CPU times: user 28.1 s, sys: 348 ms, total: 28.5 s\nWall time: 28.5 s\n"
     ]
    },
    {
     "output_type": "execute_result",
     "data": {
      "text/plain": [
       "Empty DataFrame\n",
       "Columns: [OpenBid, HighBid, LowBid, CloseBid, OpenAsk, HighAsk, LowAsk, CloseAsk, Symbol, Open, High, Low, Close, Date, ADR, DayHigh, DayLow, ADR_High, ADR_Low, SMA_200, UpperBand, LowerBand, slow_K5, slow_D5, EMA_21, EMA_8, PP, S38, S62, S100, S138, S162, S200, R38, R62, R100, R138, R162, R200, ATR_14, RVI, SB_Gamma, ONHISMA_5, ONLOSMA_5, ONHISMA_21, ONLOSMA_21, ONHISMA_34, ONLOSMA_34, Open_weekly, High_weekly, Low_weekly, Close_weekly, Open_daily, High_daily, Low_daily, Close_daily, Signal]\n",
       "Index: []\n",
       "\n",
       "[0 rows x 57 columns]"
      ],
      "text/html": "<div>\n<style scoped>\n    .dataframe tbody tr th:only-of-type {\n        vertical-align: middle;\n    }\n\n    .dataframe tbody tr th {\n        vertical-align: top;\n    }\n\n    .dataframe thead th {\n        text-align: right;\n    }\n</style>\n<table border=\"1\" class=\"dataframe\">\n  <thead>\n    <tr style=\"text-align: right;\">\n      <th></th>\n      <th>OpenBid</th>\n      <th>HighBid</th>\n      <th>LowBid</th>\n      <th>CloseBid</th>\n      <th>OpenAsk</th>\n      <th>HighAsk</th>\n      <th>LowAsk</th>\n      <th>CloseAsk</th>\n      <th>Symbol</th>\n      <th>Open</th>\n      <th>...</th>\n      <th>ONLOSMA_34</th>\n      <th>Open_weekly</th>\n      <th>High_weekly</th>\n      <th>Low_weekly</th>\n      <th>Close_weekly</th>\n      <th>Open_daily</th>\n      <th>High_daily</th>\n      <th>Low_daily</th>\n      <th>Close_daily</th>\n      <th>Signal</th>\n    </tr>\n  </thead>\n  <tbody>\n  </tbody>\n</table>\n<p>0 rows × 57 columns</p>\n</div>"
     },
     "metadata": {},
     "execution_count": 45
    }
   ],
   "source": [
    "%%time\n",
    "df_max = pd.DataFrame(index=df_all.T.index)\n",
    "df_max = df_max.T\n",
    "df_max"
   ]
  },
  {
   "cell_type": "code",
   "execution_count": 54,
   "metadata": {},
   "outputs": [
    {
     "output_type": "error",
     "ename": "NameError",
     "evalue": "name 'features_train' is not defined",
     "traceback": [
      "\u001b[0;31m---------------------------------------------------------------------------\u001b[0m",
      "\u001b[0;31mNameError\u001b[0m                                 Traceback (most recent call last)",
      "\u001b[0;32m<timed exec>\u001b[0m in \u001b[0;36m<module>\u001b[0;34m\u001b[0m\n",
      "\u001b[0;31mNameError\u001b[0m: name 'features_train' is not defined"
     ]
    }
   ],
   "source": [
    "%%time\n",
    "def DagMaxBase(features_train):\n",
    "    features_max = pd.DataFrame()\n",
    "    for label in features_train.columns:\n",
    "        features_max.loc[0,label] = features_train[label].max()\n",
    "    joblib.dump(features_max,x.replace('/',''+'_MAX'))\n",
    "    return(features_max)"
   ]
  },
  {
   "cell_type": "code",
   "execution_count": 50,
   "metadata": {},
   "outputs": [
    {
     "output_type": "execute_result",
     "data": {
      "text/plain": [
       "                     Symbol       Date   FEMA_21    FEMA_8    FADRLo  \\\n",
       "Lindex                                                                 \n",
       "2010-01-04 00:00:00  EURAUD 2010-01-04  0.000000  0.000000       NaN   \n",
       "2010-01-04 00:05:00  EURAUD 2010-01-04 -0.000177 -0.000152       NaN   \n",
       "2010-01-04 00:10:00  EURAUD 2010-01-04 -0.001138 -0.000954       NaN   \n",
       "2010-01-04 00:15:00  EURAUD 2010-01-04 -0.000439 -0.000233       NaN   \n",
       "2010-01-04 00:20:00  EURAUD 2010-01-04 -0.000522 -0.000286       NaN   \n",
       "...                     ...        ...       ...       ...       ...   \n",
       "2021-02-15 23:35:00  EURAUD 2021-02-15 -0.000711 -0.000399  0.006002   \n",
       "2021-02-15 23:40:00  EURAUD 2021-02-15 -0.000746 -0.000396  0.005892   \n",
       "2021-02-15 23:45:00  EURAUD 2021-02-15 -0.000256  0.000054  0.006357   \n",
       "2021-02-15 23:50:00  EURAUD 2021-02-15 -0.000124  0.000135  0.006477   \n",
       "2021-02-15 23:55:00  EURAUD 2021-02-15  0.000092  0.000280  0.006702   \n",
       "\n",
       "                       FADRHi     FRVI40     FRVI60  FONLOSMA5  FONHISMA5  \\\n",
       "Lindex                                                                      \n",
       "2010-01-04 00:00:00       NaN        NaN        NaN        NaN        NaN   \n",
       "2010-01-04 00:05:00       NaN        NaN        NaN        NaN        NaN   \n",
       "2010-01-04 00:10:00       NaN        NaN        NaN        NaN        NaN   \n",
       "2010-01-04 00:15:00       NaN        NaN        NaN        NaN        NaN   \n",
       "2010-01-04 00:20:00       NaN        NaN        NaN  -0.000371  -0.000708   \n",
       "...                       ...        ...        ...        ...        ...   \n",
       "2021-02-15 23:35:00 -0.010082  24.201741   4.201741  -0.000147  -0.000214   \n",
       "2021-02-15 23:40:00 -0.009967  28.221246   8.221246  -0.000303  -0.000314   \n",
       "2021-02-15 23:45:00 -0.009502  20.940659   0.940659  -0.000099   0.000227   \n",
       "2021-02-15 23:50:00 -0.009382  14.769106  -5.230894   0.000329   0.000209   \n",
       "2021-02-15 23:55:00 -0.009157   9.454986 -10.545014   0.000295   0.000338   \n",
       "\n",
       "                     ...     FS162     FS200      FR38      FR62     FR100  \\\n",
       "Lindex               ...                                                     \n",
       "2010-01-04 00:00:00  ...       NaN       NaN       NaN       NaN       NaN   \n",
       "2010-01-04 00:05:00  ...       NaN       NaN       NaN       NaN       NaN   \n",
       "2010-01-04 00:10:00  ...       NaN       NaN       NaN       NaN       NaN   \n",
       "2010-01-04 00:15:00  ...       NaN       NaN       NaN       NaN       NaN   \n",
       "2010-01-04 00:20:00  ...       NaN       NaN       NaN       NaN       NaN   \n",
       "...                  ...       ...       ...       ...       ...       ...   \n",
       "2021-02-15 23:35:00  ...  0.009844  0.013868 -0.011226 -0.013712 -0.017737   \n",
       "2021-02-15 23:40:00  ...  0.009734  0.013758 -0.011336 -0.013822 -0.017847   \n",
       "2021-02-15 23:45:00  ...  0.010199  0.014223 -0.010871 -0.013357 -0.017382   \n",
       "2021-02-15 23:50:00  ...  0.010319  0.014343 -0.010751 -0.013237 -0.017262   \n",
       "2021-02-15 23:55:00  ...  0.010544  0.014568 -0.010526 -0.013012 -0.017037   \n",
       "\n",
       "                        FR138     FR162     FR200     SBATR  Signal  \n",
       "Lindex                                                               \n",
       "2010-01-04 00:00:00       NaN       NaN       NaN       NaN       0  \n",
       "2010-01-04 00:05:00       NaN       NaN       NaN       NaN       0  \n",
       "2010-01-04 00:10:00       NaN       NaN       NaN       NaN       0  \n",
       "2010-01-04 00:15:00       NaN       NaN       NaN       NaN       0  \n",
       "2010-01-04 00:20:00       NaN       NaN       NaN       NaN       0  \n",
       "...                       ...       ...       ...       ...     ...  \n",
       "2021-02-15 23:35:00 -0.021761 -0.024247 -0.028272 -0.562484       0  \n",
       "2021-02-15 23:40:00 -0.021871 -0.024357 -0.028382 -0.295641       0  \n",
       "2021-02-15 23:45:00 -0.021406 -0.023892 -0.027917  1.182142       0  \n",
       "2021-02-15 23:50:00 -0.021286 -0.023772 -0.027797  0.316468       0  \n",
       "2021-02-15 23:55:00 -0.021061 -0.023547 -0.027572  0.592728       0  \n",
       "\n",
       "[807116 rows x 45 columns]"
      ],
      "text/html": "<div>\n<style scoped>\n    .dataframe tbody tr th:only-of-type {\n        vertical-align: middle;\n    }\n\n    .dataframe tbody tr th {\n        vertical-align: top;\n    }\n\n    .dataframe thead th {\n        text-align: right;\n    }\n</style>\n<table border=\"1\" class=\"dataframe\">\n  <thead>\n    <tr style=\"text-align: right;\">\n      <th></th>\n      <th>Symbol</th>\n      <th>Date</th>\n      <th>FEMA_21</th>\n      <th>FEMA_8</th>\n      <th>FADRLo</th>\n      <th>FADRHi</th>\n      <th>FRVI40</th>\n      <th>FRVI60</th>\n      <th>FONLOSMA5</th>\n      <th>FONHISMA5</th>\n      <th>...</th>\n      <th>FS162</th>\n      <th>FS200</th>\n      <th>FR38</th>\n      <th>FR62</th>\n      <th>FR100</th>\n      <th>FR138</th>\n      <th>FR162</th>\n      <th>FR200</th>\n      <th>SBATR</th>\n      <th>Signal</th>\n    </tr>\n    <tr>\n      <th>Lindex</th>\n      <th></th>\n      <th></th>\n      <th></th>\n      <th></th>\n      <th></th>\n      <th></th>\n      <th></th>\n      <th></th>\n      <th></th>\n      <th></th>\n      <th></th>\n      <th></th>\n      <th></th>\n      <th></th>\n      <th></th>\n      <th></th>\n      <th></th>\n      <th></th>\n      <th></th>\n      <th></th>\n      <th></th>\n    </tr>\n  </thead>\n  <tbody>\n    <tr>\n      <th>2010-01-04 00:00:00</th>\n      <td>EURAUD</td>\n      <td>2010-01-04</td>\n      <td>0.000000</td>\n      <td>0.000000</td>\n      <td>NaN</td>\n      <td>NaN</td>\n      <td>NaN</td>\n      <td>NaN</td>\n      <td>NaN</td>\n      <td>NaN</td>\n      <td>...</td>\n      <td>NaN</td>\n      <td>NaN</td>\n      <td>NaN</td>\n      <td>NaN</td>\n      <td>NaN</td>\n      <td>NaN</td>\n      <td>NaN</td>\n      <td>NaN</td>\n      <td>NaN</td>\n      <td>0</td>\n    </tr>\n    <tr>\n      <th>2010-01-04 00:05:00</th>\n      <td>EURAUD</td>\n      <td>2010-01-04</td>\n      <td>-0.000177</td>\n      <td>-0.000152</td>\n      <td>NaN</td>\n      <td>NaN</td>\n      <td>NaN</td>\n      <td>NaN</td>\n      <td>NaN</td>\n      <td>NaN</td>\n      <td>...</td>\n      <td>NaN</td>\n      <td>NaN</td>\n      <td>NaN</td>\n      <td>NaN</td>\n      <td>NaN</td>\n      <td>NaN</td>\n      <td>NaN</td>\n      <td>NaN</td>\n      <td>NaN</td>\n      <td>0</td>\n    </tr>\n    <tr>\n      <th>2010-01-04 00:10:00</th>\n      <td>EURAUD</td>\n      <td>2010-01-04</td>\n      <td>-0.001138</td>\n      <td>-0.000954</td>\n      <td>NaN</td>\n      <td>NaN</td>\n      <td>NaN</td>\n      <td>NaN</td>\n      <td>NaN</td>\n      <td>NaN</td>\n      <td>...</td>\n      <td>NaN</td>\n      <td>NaN</td>\n      <td>NaN</td>\n      <td>NaN</td>\n      <td>NaN</td>\n      <td>NaN</td>\n      <td>NaN</td>\n      <td>NaN</td>\n      <td>NaN</td>\n      <td>0</td>\n    </tr>\n    <tr>\n      <th>2010-01-04 00:15:00</th>\n      <td>EURAUD</td>\n      <td>2010-01-04</td>\n      <td>-0.000439</td>\n      <td>-0.000233</td>\n      <td>NaN</td>\n      <td>NaN</td>\n      <td>NaN</td>\n      <td>NaN</td>\n      <td>NaN</td>\n      <td>NaN</td>\n      <td>...</td>\n      <td>NaN</td>\n      <td>NaN</td>\n      <td>NaN</td>\n      <td>NaN</td>\n      <td>NaN</td>\n      <td>NaN</td>\n      <td>NaN</td>\n      <td>NaN</td>\n      <td>NaN</td>\n      <td>0</td>\n    </tr>\n    <tr>\n      <th>2010-01-04 00:20:00</th>\n      <td>EURAUD</td>\n      <td>2010-01-04</td>\n      <td>-0.000522</td>\n      <td>-0.000286</td>\n      <td>NaN</td>\n      <td>NaN</td>\n      <td>NaN</td>\n      <td>NaN</td>\n      <td>-0.000371</td>\n      <td>-0.000708</td>\n      <td>...</td>\n      <td>NaN</td>\n      <td>NaN</td>\n      <td>NaN</td>\n      <td>NaN</td>\n      <td>NaN</td>\n      <td>NaN</td>\n      <td>NaN</td>\n      <td>NaN</td>\n      <td>NaN</td>\n      <td>0</td>\n    </tr>\n    <tr>\n      <th>...</th>\n      <td>...</td>\n      <td>...</td>\n      <td>...</td>\n      <td>...</td>\n      <td>...</td>\n      <td>...</td>\n      <td>...</td>\n      <td>...</td>\n      <td>...</td>\n      <td>...</td>\n      <td>...</td>\n      <td>...</td>\n      <td>...</td>\n      <td>...</td>\n      <td>...</td>\n      <td>...</td>\n      <td>...</td>\n      <td>...</td>\n      <td>...</td>\n      <td>...</td>\n      <td>...</td>\n    </tr>\n    <tr>\n      <th>2021-02-15 23:35:00</th>\n      <td>EURAUD</td>\n      <td>2021-02-15</td>\n      <td>-0.000711</td>\n      <td>-0.000399</td>\n      <td>0.006002</td>\n      <td>-0.010082</td>\n      <td>24.201741</td>\n      <td>4.201741</td>\n      <td>-0.000147</td>\n      <td>-0.000214</td>\n      <td>...</td>\n      <td>0.009844</td>\n      <td>0.013868</td>\n      <td>-0.011226</td>\n      <td>-0.013712</td>\n      <td>-0.017737</td>\n      <td>-0.021761</td>\n      <td>-0.024247</td>\n      <td>-0.028272</td>\n      <td>-0.562484</td>\n      <td>0</td>\n    </tr>\n    <tr>\n      <th>2021-02-15 23:40:00</th>\n      <td>EURAUD</td>\n      <td>2021-02-15</td>\n      <td>-0.000746</td>\n      <td>-0.000396</td>\n      <td>0.005892</td>\n      <td>-0.009967</td>\n      <td>28.221246</td>\n      <td>8.221246</td>\n      <td>-0.000303</td>\n      <td>-0.000314</td>\n      <td>...</td>\n      <td>0.009734</td>\n      <td>0.013758</td>\n      <td>-0.011336</td>\n      <td>-0.013822</td>\n      <td>-0.017847</td>\n      <td>-0.021871</td>\n      <td>-0.024357</td>\n      <td>-0.028382</td>\n      <td>-0.295641</td>\n      <td>0</td>\n    </tr>\n    <tr>\n      <th>2021-02-15 23:45:00</th>\n      <td>EURAUD</td>\n      <td>2021-02-15</td>\n      <td>-0.000256</td>\n      <td>0.000054</td>\n      <td>0.006357</td>\n      <td>-0.009502</td>\n      <td>20.940659</td>\n      <td>0.940659</td>\n      <td>-0.000099</td>\n      <td>0.000227</td>\n      <td>...</td>\n      <td>0.010199</td>\n      <td>0.014223</td>\n      <td>-0.010871</td>\n      <td>-0.013357</td>\n      <td>-0.017382</td>\n      <td>-0.021406</td>\n      <td>-0.023892</td>\n      <td>-0.027917</td>\n      <td>1.182142</td>\n      <td>0</td>\n    </tr>\n    <tr>\n      <th>2021-02-15 23:50:00</th>\n      <td>EURAUD</td>\n      <td>2021-02-15</td>\n      <td>-0.000124</td>\n      <td>0.000135</td>\n      <td>0.006477</td>\n      <td>-0.009382</td>\n      <td>14.769106</td>\n      <td>-5.230894</td>\n      <td>0.000329</td>\n      <td>0.000209</td>\n      <td>...</td>\n      <td>0.010319</td>\n      <td>0.014343</td>\n      <td>-0.010751</td>\n      <td>-0.013237</td>\n      <td>-0.017262</td>\n      <td>-0.021286</td>\n      <td>-0.023772</td>\n      <td>-0.027797</td>\n      <td>0.316468</td>\n      <td>0</td>\n    </tr>\n    <tr>\n      <th>2021-02-15 23:55:00</th>\n      <td>EURAUD</td>\n      <td>2021-02-15</td>\n      <td>0.000092</td>\n      <td>0.000280</td>\n      <td>0.006702</td>\n      <td>-0.009157</td>\n      <td>9.454986</td>\n      <td>-10.545014</td>\n      <td>0.000295</td>\n      <td>0.000338</td>\n      <td>...</td>\n      <td>0.010544</td>\n      <td>0.014568</td>\n      <td>-0.010526</td>\n      <td>-0.013012</td>\n      <td>-0.017037</td>\n      <td>-0.021061</td>\n      <td>-0.023547</td>\n      <td>-0.027572</td>\n      <td>0.592728</td>\n      <td>0</td>\n    </tr>\n  </tbody>\n</table>\n<p>807116 rows × 45 columns</p>\n</div>"
     },
     "metadata": {},
     "execution_count": 50
    }
   ],
   "source": [
    "features"
   ]
  },
  {
   "cell_type": "code",
   "execution_count": 38,
   "metadata": {},
   "outputs": [
    {
     "output_type": "execute_result",
     "data": {
      "text/plain": [
       "'CloseBid'"
      ]
     },
     "metadata": {},
     "execution_count": 38
    }
   ],
   "source": [
    "label"
   ]
  },
  {
   "cell_type": "code",
   "execution_count": null,
   "metadata": {},
   "outputs": [],
   "source": []
  },
  {
   "cell_type": "code",
   "execution_count": null,
   "metadata": {},
   "outputs": [],
   "source": []
  },
  {
   "cell_type": "code",
   "execution_count": null,
   "metadata": {},
   "outputs": [],
   "source": []
  },
  {
   "cell_type": "code",
   "execution_count": null,
   "metadata": {},
   "outputs": [],
   "source": []
  },
  {
   "cell_type": "code",
   "execution_count": null,
   "metadata": {},
   "outputs": [],
   "source": []
  },
  {
   "cell_type": "code",
   "execution_count": null,
   "metadata": {},
   "outputs": [],
   "source": []
  },
  {
   "cell_type": "code",
   "execution_count": null,
   "metadata": {},
   "outputs": [],
   "source": []
  },
  {
   "cell_type": "code",
   "execution_count": null,
   "metadata": {},
   "outputs": [],
   "source": []
  },
  {
   "cell_type": "code",
   "execution_count": 20,
   "metadata": {},
   "outputs": [
    {
     "output_type": "stream",
     "name": "stdout",
     "text": [
      "(807116, 56) (2884, 7) (581, 19)\n",
      "EUR/AUD\n",
      "\n",
      "\u001b[31m ###############################################################################################\n",
      " ####################################### OOS WITHOUT AI ########################################\n",
      " ############################################################################################### \u001b[0m\n",
      "Librairies imported\n",
      "\n",
      "Début des opérations horodatée à 2021-03-07 15:53:25.120290\n",
      "\n",
      "Chargement de la nouvelle base\n",
      "\n",
      "\n",
      "\u001b[35m Le rate du ticker EUR/AUD est à  1.302761855132882 \u001b[0m\n",
      "Bases chargées\n",
      "TETEL process effectué\n",
      "\u001b[36m ENTERING THE BACKTEST \u001b[0m\n",
      "100%|██████████| 81786/81786 [00:04<00:00, 18319.44it/s]\n",
      "\u001b[34m For ticker \u001b[33m EUR/AUD \u001b[0m\n",
      "\u001b[35m \n",
      "Total Profit & Loss : $ \u001b[31m -138361.13 . En  1767 \u001b[0m  transactions.\n",
      "\u001b[32m \n",
      "Winners Number : 548 \u001b[0m\n",
      "\u001b[31m \n",
      "Loosers number : 1219 \u001b[0m\n",
      "BT's execution time 0:00:10.816881\n",
      "\u001b[33m EUR/AUD \u001b[34m results \u001b[0m\n",
      "\u001b[35m Tested Period 2019-12-30  à 2021-02-15 \u001b[0m\n",
      "\u001b[36m Total Number of trades 1767 \u001b[0m\n",
      "Started Cash : 200000\n",
      "P&L in currency: \u001b[31m -138361.13$ \u001b[0m\n",
      "P&L in %: \u001b[31m -69.18% \u001b[0m\n",
      "Average trade duration 30.68\n",
      "# Winners  548.0\n",
      "# Winners long  265.0\n",
      "# Winners short  283.0\n",
      "# Loosers  1219.0\n",
      "# Loosers  long 622.0\n",
      "# Loosers  short 597.0\n",
      "Cumulated gains 561406.98\n",
      "Cumulated losses -699768.11\n",
      "\u001b[34m PROFIT FACTOR :  0.8 \u001b[0m\n",
      "\u001b[36m Winners Ratio : 31.01 % \u001b[0m\n",
      "Average Winners 1024.47\n",
      "% Average Winners 0.51\n",
      "Average Loosers -574.05\n",
      "% Average Loosers -0.29\n",
      "Average pnl -78.3\n",
      "% Average pnl -0.11\n",
      "Number of opened trades 1767\n",
      "Number of closed trades 1767\n",
      "Max Exposure 1 x  200000 =  200000 $\n",
      "\n",
      "\u001b[36m ###############################################################################################\n",
      " #################################### TRAIN/TEST WITHOUT AI ####################################\n",
      " ############################################################################################### \u001b[0m\n",
      "Librairies imported\n",
      "\n",
      "Début des opérations horodatée à 2021-03-07 15:53:39.108750\n",
      "\n",
      "Chargement de la nouvelle base\n",
      "\n",
      "\n",
      "\u001b[35m Le rate du ticker EUR/AUD est à  1.302761855132882 \u001b[0m\n",
      "Bases chargées\n",
      "TETEL process effectué\n",
      "\u001b[36m ENTERING THE BACKTEST \u001b[0m\n",
      "100%|██████████| 721078/721078 [00:38<00:00, 18804.23it/s]\n",
      "\u001b[34m For ticker \u001b[33m EUR/AUD \u001b[0m\n",
      "\u001b[35m \n",
      "Total Profit & Loss : $ \u001b[31m -1427334.55 . En  15220 \u001b[0m  transactions.\n",
      "\u001b[32m \n",
      "Winners Number : 4431 \u001b[0m\n",
      "\u001b[31m \n",
      "Loosers number : 10789 \u001b[0m\n",
      "BT's execution time 0:00:45.264525\n",
      "\u001b[33m EUR/AUD \u001b[34m results \u001b[0m\n",
      "\u001b[35m Tested Period 2010-01-01  à 2019-12-30 \u001b[0m\n",
      "\u001b[36m Total Number of trades 15220 \u001b[0m\n",
      "Started Cash : 200000\n",
      "P&L in currency: \u001b[31m -1427334.55$ \u001b[0m\n",
      "P&L in %: \u001b[31m -713.67% \u001b[0m\n",
      "Average trade duration 30.24\n",
      "# Winners  4431.0\n",
      "# Winners long  2244.0\n",
      "# Winners short  2187.0\n",
      "# Loosers  10789.0\n",
      "# Loosers  long 5483.0\n",
      "# Loosers  short 5306.0\n",
      "Cumulated gains 3908092.76\n",
      "Cumulated losses -5335427.31\n",
      "\u001b[34m PROFIT FACTOR :  0.73 \u001b[0m\n",
      "\u001b[36m Winners Ratio : 29.11 % \u001b[0m\n",
      "Average Winners 881.99\n",
      "% Average Winners 0.44\n",
      "Average Loosers -494.52\n",
      "% Average Loosers -0.25\n",
      "Average pnl -93.78\n",
      "% Average pnl -0.52\n",
      "Number of opened trades 15220\n",
      "Number of closed trades 15220\n",
      "Max Exposure 1 x  200000 =  200000 $\n",
      "\n",
      "\u001b[34m ###############################################################################################\n",
      " #################################### DENOISING & ENHANCING ####################################\n",
      " ############################################################################################### \u001b[0m\n",
      "Librairies imported\n",
      "\n",
      "Début des opérations horodatée à 2021-03-07 15:54:28.942545\n",
      "\n",
      "Chargement de la nouvelle base\n",
      "\n",
      "\n",
      "\u001b[35m Le rate du ticker EUR/AUD est à  1.302761855132882 \u001b[0m\n",
      "Bases chargées\n",
      "TETEL process effectué\n",
      "\u001b[36m ENTERING THE BACKTEST \u001b[0m\n",
      "100%|██████████| 721078/721078 [00:23<00:00, 31282.67it/s]\n",
      "\u001b[34m For ticker \u001b[33m EUR/AUD \u001b[0m\n",
      "\u001b[35m \n",
      "Total Profit & Loss : $ \u001b[32m 3907946.85 . En  4430 \u001b[0m  transactions.\n",
      "\u001b[32m \n",
      "Winners Number : 4430 \u001b[0m\n",
      "\u001b[31m \n",
      "Loosers number : 0 \u001b[0m\n",
      "BT's execution time 0:00:29.836477\n",
      "\u001b[33m EUR/AUD \u001b[34m results \u001b[0m\n",
      "\u001b[35m Tested Period 2010-01-01  à 2019-12-30 \u001b[0m\n",
      "\u001b[36m Total Number of trades 4430 \u001b[0m\n",
      "Started Cash : 200000\n",
      "P&L  in currency: \u001b[32m 3907946.85$ \u001b[0m\n",
      "P&L in %: \u001b[32m 1953.97% \u001b[0m\n",
      "Average trade duration 43.75\n",
      "# Winners  4430.0\n",
      "# Winners long  2243.0\n",
      "# Winners short  2187.0\n",
      "# Loosers  0.0\n",
      "# Loosers  long 0.0\n",
      "# Loosers  short 0.0\n",
      "Cumulated gains 3907946.85\n",
      "Cumulated losses 0.0\n",
      "\u001b[34m PROFIT FACTOR :  inf \u001b[0m\n",
      "\u001b[36m Winners Ratio : 100.0 % \u001b[0m\n",
      "Average Winners 882.16\n",
      "% Average Winners 0.44\n",
      "No looser\n",
      "Average pnl 882.16\n",
      "% Average pnl 3.04\n",
      "Number of opened trades 4430\n",
      "Number of closed trades 4430\n",
      "Max Exposure 1 x  200000 =  200000 $\n",
      "Signaux - Accuracy : 81.96 %\n",
      "Signaux - Precision : 27.91 %\n",
      "Signaux - Recall : 46.93 %\n",
      "Achat - F-measure: : 35.0 %\n",
      "\n",
      "\n",
      "              precision    recall  f1-score   support\n",
      "\n",
      "         Neg       0.93      0.86      0.90      3672\n",
      "         Pos       0.28      0.47      0.35       424\n",
      "\n",
      "    accuracy                           0.82      4096\n",
      "   macro avg       0.61      0.66      0.62      4096\n",
      "weighted avg       0.87      0.82      0.84      4096\n",
      "\n",
      "            Bonnes_Estimations Mauvaises_Estimations\n",
      "vrais-réels                199                   225\n",
      "faux-réels                 514                  3158\n",
      "\n",
      "\u001b[34m Signaux pour \u001b[33m EUR/AUD \u001b[0m\n",
      "Vrais signaux trouvés    :  199\n",
      "Vrais signaux non trouvé : 225\n",
      "Total des vrais signaux  : 424\n",
      "\u001b[31m\n",
      "Precision :  46.93 %\n",
      "\u001b[33m\n",
      "Recall 53.07 %\n",
      "\u001b[0m\n",
      "EUR/AUD\n",
      "Librairies imported\n",
      "\n",
      "Début des opérations horodatée à 2021-03-07 15:56:18.648790\n",
      "\n",
      "Chargement de la nouvelle base\n",
      "\n",
      "\n",
      "\u001b[35m Le rate du ticker EUR/AUD est à  1.302761855132882 \u001b[0m\n",
      "Bases chargées\n",
      "TETEL process effectué\n",
      "\u001b[36m ENTERING THE BACKTEST \u001b[0m\n",
      "100%|██████████| 81502/81502 [00:02<00:00, 30935.07it/s]\n",
      "\u001b[34m For ticker \u001b[33m EUR/AUD \u001b[0m\n",
      "\u001b[35m \n",
      "Total Profit & Loss : $ \u001b[32m 209025.53 . En  590 \u001b[0m  transactions.\n",
      "\u001b[32m \n",
      "Winners Number : 354 \u001b[0m\n",
      "\u001b[31m \n",
      "Loosers number : 236 \u001b[0m\n",
      "BT's execution time 0:00:08.958894\n",
      "\u001b[33m EUR/AUD \u001b[34m results \u001b[0m\n",
      "\u001b[35m Tested Period 2019-12-30  à 2021-02-15 \u001b[0m\n",
      "\u001b[36m Total Number of trades 590 \u001b[0m\n",
      "Started Cash : 200000\n",
      "P&L  in currency: \u001b[32m 209025.53$ \u001b[0m\n",
      "P&L in %: \u001b[32m 104.51% \u001b[0m\n",
      "Average trade duration 40.3\n",
      "# Winners  354.0\n",
      "# Winners long  164.0\n",
      "# Winners short  190.0\n",
      "# Loosers  236.0\n",
      "# Loosers  long 103.0\n",
      "# Loosers  short 133.0\n",
      "Cumulated gains 348590.41\n",
      "Cumulated losses -139564.88\n",
      "\u001b[34m PROFIT FACTOR :  2.5 \u001b[0m\n",
      "\u001b[36m Winners Ratio : 60.0 % \u001b[0m\n",
      "Average Winners 984.72\n",
      "% Average Winners 0.49\n",
      "Average Loosers -591.38\n",
      "% Average Loosers -0.3\n",
      "Average pnl 354.28\n",
      "% Average pnl 0.32\n",
      "Number of opened trades 590\n",
      "Number of closed trades 590\n",
      "Max Exposure 1 x  200000 =  200000 $\n",
      "CPU times: user 9min 38s, sys: 1min 21s, total: 11min\n",
      "Wall time: 3min 6s\n"
     ]
    }
   ],
   "source": [
    "%%time\n",
    "####### CHOIX DE LA TIME FRAME\n",
    "_period = 'm5'\n",
    "##### Récupération de la liste des tickers à partir du répertoire où sont rangées les bases\n",
    "TICKER_LIST = ['EUR/AUD']\n",
    "TIK = ['JPY','CHF','CAD','GBP','AUD','NZD','SEK','NOK','MXN','ZAR','TRY','ILS','CNH','USD','HKD','0']\n",
    "RATE = [105.4,0.8989,1.276,0.877,0.7676,0.7201,8.3684,8.5238,20.09,14.81,7.03,3.28,6.458,1,7.7527,1.21]\n",
    "df_ratefx = pd.DataFrame(index=TIK)\n",
    "df_ratefx['rate'] = RATE\n",
    "#############################\n",
    "##### F E A T U R I N G #####\n",
    "#############################\n",
    "\n",
    "print(df_all.shape,daily_all.shape,weekly_all.shape)\n",
    "# Make our choice for the split, compliant to our backtest \n",
    "_start = '2010-01-01' # start the train there '2010-01-01'\n",
    "_mid = '2018-08-29' # stop the train and begin the test there '2016-08-31'\n",
    "_stop = '2019-12-30' # stop the test there. After that, it is kept for oos\n",
    "_last = '2021-02-15' # '2020-12-31'\n",
    "#### S T R A T E G Y\n",
    "\n",
    "df_all = stochastic(df_all)\n",
    "##### On backtest selon le ticker selectionné sur la période déterminée\n",
    "\n",
    "x=TICKER_LIST[0]\n",
    "print(x)\n",
    "_year_bottom = _stop\n",
    "_year_top = _last\n",
    "_nb_bougie_exit = 2000000\n",
    "_trigger_reengage = 0\n",
    "_trigger_target = 1\n",
    "_trigger_invers = 0\n",
    "_trigger_sl = 1\n",
    "_verbose = 0\n",
    "_cash_ini = 200000\n",
    "_rate = 1/df_ratefx.loc[x[4:],'rate']\n",
    "backtest = df_all[df_all.Symbol == x.replace('/','')]\n",
    "_target =  0.002\n",
    "_exposure = 10\n",
    "_size = 200000\n",
    "_sl =  0.001\n",
    "_open_hour = 8 # day only\n",
    "_close_hour = 23 # day only\n",
    "_window = 0 # day only\n",
    "print()\n",
    "print(col.Fore.RED,'###############################################################################################')\n",
    "print(' ####################################### OOS WITHOUT AI ########################################')\n",
    "print(' ###############################################################################################',col.Style.RESET_ALL)\n",
    "##### Backtest Over Night\n",
    "TRACKER,_nb_looser = bt(backtest,_year_bottom,_year_top,_nb_bougie_exit,_trigger_reengage,_trigger_target,_trigger_invers,_trigger_sl,_verbose,_cash_ini,\\\n",
    "        _rate,x,_target,_exposure,_size,_sl)\n",
    "\n",
    "print()\n",
    "print(col.Fore.CYAN,'###############################################################################################')\n",
    "print(' #################################### TRAIN/TEST WITHOUT AI ####################################')\n",
    "print(' ###############################################################################################',col.Style.RESET_ALL)\n",
    "_year_bottom = _start\n",
    "_year_top = _stop\n",
    "\n",
    "TRACKER,_nb_looser = bt(backtest,_year_bottom,_year_top,_nb_bougie_exit,_trigger_reengage,_trigger_target,_trigger_invers,_trigger_sl,_verbose,_cash_ini,\\\n",
    "        _rate,x,_target,_exposure,_size,_sl)\n",
    "\n",
    "print()\n",
    "print(col.Fore.BLUE,'###############################################################################################')\n",
    "print(' #################################### DENOISING & ENHANCING ####################################')\n",
    "print(' ###############################################################################################',col.Style.RESET_ALL)\n",
    "while _nb_looser > 0 :\n",
    "    \n",
    "    df_all['TRACKER'] = np.where(df_all.index.isin(TRACKER),1,0)\n",
    "    df_all['Valid'] = np.where(((df_all.Signal!=0)&(df_all.TRACKER==1)),1,0)\n",
    "    df_all['Signal'] = np.where(((df_all.Valid==1)&(df_all.Signal==1)),1,np.where(((df_all.Valid==1)&(df_all.Signal==-1)),-1,0))\n",
    "    backtest = df_all[df_all.Symbol == x.replace('/','')]\n",
    "    ##### Purification of signal by denoising and enhancing\n",
    "    TRACKER,_nb_looser = bt(backtest,_year_bottom,_year_top,_nb_bougie_exit,_trigger_reengage,_trigger_target,_trigger_invers,_trigger_sl,_verbose,_cash_ini,\\\n",
    "            _rate,x,_target,_exposure,_size,_sl)\n",
    "\n",
    "df_all = joblib.load(x.replace('/','')+'_DF_ALL')\n",
    "df_all = stochastic(df_all)\n",
    "features = featuring(df_all)\n",
    "\n",
    "features['TRACKER'] = np.where(features.index.isin(TRACKER),1,0)\n",
    "\n",
    "# First, we must have an output. We'll call it 'Valid'. It wil be where Tracker & Signal are both to 1\n",
    "features['Valid'] = np.where(((features.Signal!=0)&(features.TRACKER==1)),1,0) # Don't miss the point that even a Signal -1 must be considered as a good one by TRACKER\n",
    "\n",
    "# Let's isolate the ticker on which we made the test\n",
    "features = features[features.Symbol==x.replace('/','')]\n",
    "\n",
    "# And drop the nan\n",
    "features = features.dropna()\n",
    "##### Signal is from strategy. This is potential good one. But we have to create the TRACKER column where the Signal where efficient\n",
    "\n",
    "# Proceed an MaxAbsScaler on features\n",
    "features_train,features_test,features_oos = scaling(features,x.replace('/',''),TRACKER,_start,_mid,_stop,_last,scaler=MaxAbsScaler())\n",
    "features_train,features_test,features_oos = quantile(features_train,features_test,features_oos,quantile_transform)\n",
    "\n",
    "features_train = features_train.drop(['FSBGAMMA'],axis=1)\n",
    "features_test = features_test.drop(['FSBGAMMA'],axis=1)\n",
    "features_oos = features_oos.drop(['FSBGAMMA'],axis=1)\n",
    "\n",
    "from sklearn.neural_network import MLPClassifier\n",
    "_name = 'MLPClassifier'\n",
    "_model = MLPClassifier(hidden_layer_sizes=(300,15), activation='relu', solver='adam', alpha=0.000001, batch_size='auto', learning_rate='constant', learning_rate_init=0.001, power_t=0.5, max_iter=400, shuffle=True, random_state=26, tol=0.0000001, verbose=False, warm_start=True, momentum=0.9, nesterovs_momentum=True, early_stopping=False, validation_fraction=0.1, beta_1=0.8, beta_2=0.999, epsilon=1e-08)\n",
    "\n",
    "_model.fit(features_train.drop(['Date','Symbol','TRACKER','Valid','Signal'],axis=1),features_train.Valid)\n",
    "yhat = _model.predict(features_test.drop(['Date','Symbol','TRACKER','Valid','Signal'],axis=1))\n",
    "accu = round(accuracy_score(features_test.Valid, yhat) * 100,2)\n",
    "prec = round(precision_score(features_test.Valid, yhat,pos_label=1) * 100,2)\n",
    "recall = round(recall_score(features_test.Valid, yhat) * 100,2)\n",
    "f1 = round(f1_score(features_test.Valid, yhat) * 100,2)\n",
    "\n",
    "\n",
    "print('Signaux - Accuracy :' ,accu,'%')\n",
    "print('Signaux - Precision :',prec,'%')\n",
    "print('Signaux - Recall :', recall,'%')\n",
    "print('Achat - F-measure: :' ,f1,'%')\n",
    "print('\\n')\n",
    "print(classification_report(features_test.Valid, yhat, target_names=['Neg', 'Pos']))\n",
    "conf_matrix = pd.DataFrame(columns=['Bonnes_Estimations','Mauvaises_Estimations'])\n",
    "tt = confusion_matrix(features_test.Valid, yhat, labels=[1,0])    #_model.classes_)\n",
    "\n",
    "conf_matrix.loc['vrais-réels'] = tt[0]\n",
    "conf_matrix.loc['faux-réels'] = tt[1]\n",
    "\n",
    "print(conf_matrix)\n",
    "print()\n",
    "print(col.Fore.BLUE,'Signaux pour',col.Fore.YELLOW,x,col.Style.RESET_ALL)\n",
    "_tp = tt[0][0]\n",
    "_fn = tt[0][1]\n",
    "_prec = round((tt[0][0]/(tt[0][0]+tt[0][1]))*100,2)\n",
    "_rec = round((tt[0][1]/(tt[0][0]+tt[0][1]))*100,2)\n",
    "\n",
    "print('Vrais signaux trouvés    : ',tt[0][0])\n",
    "print('Vrais signaux non trouvé :',tt[0][1])\n",
    "print('Total des vrais signaux  :',tt[0][0]+tt[0][1])\n",
    "if _prec > 69 and prec > 69 :\n",
    "    print(col.Fore.GREEN)\n",
    "elif _prec < 51 or prec < 51 :\n",
    "    print(col.Fore.RED)\n",
    "else:\n",
    "    print(col.Fore.YELLOW)\n",
    "print('Precision : ',_prec,'%')\n",
    "if _rec > 69 and _rec > 69 :\n",
    "    print(col.Fore.GREEN)\n",
    "elif _rec < 51 or _rec < 51 :\n",
    "    print(col.Fore.RED)\n",
    "else:\n",
    "    print(col.Fore.YELLOW)\n",
    "print('Recall',_rec,'%')\n",
    "print(col.Style.RESET_ALL)\n",
    "\n",
    "df_all_oos = df_all[(df_all.Date > _stop)&(df_all.Date <= _last)].dropna()\n",
    "\n",
    "df_all_oos = df_all_oos[df_all_oos.Symbol==x.replace('/','')]\n",
    "\n",
    "\n",
    "df_all_oos['Valid'] = _model.predict(features_oos.drop(['Date','Symbol','Signal','TRACKER','Valid'],axis=1))\n",
    "\n",
    "\n",
    "df_all_oos['Signal'] = np.where((df_all_oos.Signal==1)&(df_all_oos.Valid==1),1,np.where((df_all_oos.Signal==-1)&(df_all_oos.Valid==1),-1,0))\n",
    " \n",
    "##### On backtest selon le ticker selectionné sur la période déterminée\n",
    "\n",
    "#joblib.dump(_model,'Save_'+x.replace('/','')+'_m5.sav')\n",
    "\n",
    "print(x)\n",
    "_year_bottom = _stop\n",
    "_year_top = _last\n",
    "\n",
    "#_trigger_invers = 1\n",
    "#_target = 0.017\n",
    "##### Backtest Over Night\n",
    "FINAL_TRACKER = bt(df_all_oos,_year_bottom,_year_top,_nb_bougie_exit,_trigger_reengage,_trigger_target,_trigger_invers,_trigger_sl,_verbose,_cash_ini,\\\n",
    "        _rate,x,_target,_exposure,_size,_sl)"
   ]
  },
  {
   "cell_type": "code",
   "execution_count": null,
   "metadata": {},
   "outputs": [],
   "source": []
  },
  {
   "cell_type": "code",
   "execution_count": null,
   "metadata": {},
   "outputs": [],
   "source": []
  },
  {
   "cell_type": "code",
   "execution_count": null,
   "metadata": {},
   "outputs": [],
   "source": []
  }
 ]
}