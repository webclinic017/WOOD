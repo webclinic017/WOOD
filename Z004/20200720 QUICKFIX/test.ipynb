{
 "metadata": {
  "language_info": {
   "codemirror_mode": {
    "name": "ipython",
    "version": 3
   },
   "file_extension": ".py",
   "mimetype": "text/x-python",
   "name": "python",
   "nbconvert_exporter": "python",
   "pygments_lexer": "ipython3",
   "version": "3.7.6-final"
  },
  "orig_nbformat": 2,
  "kernelspec": {
   "name": "python37664bitfintechcondac76ab263fd6941b2a7e8b27983583628",
   "display_name": "Python 3.7.6 64-bit ('FinTech': conda)"
  }
 },
 "nbformat": 4,
 "nbformat_minor": 2,
 "cells": [
  {
   "cell_type": "code",
   "execution_count": 1,
   "metadata": {},
   "outputs": [],
   "source": [
    "import quickfix as fix\n",
    "import quickfix44 as fixnn"
   ]
  },
  {
   "cell_type": "code",
   "execution_count": 2,
   "metadata": {},
   "outputs": [],
   "source": [
    "\n",
    "class Application(fix.Application):\n",
    "    orderID = 0\n",
    "    execID = 0\n",
    "    def gen_ord_id(self):\n",
    "        global orderID\n",
    "        orderID+=1\n",
    "        return orderID\n",
    "\n",
    "    def onCreate(self, sessionID):\n",
    "        self.session_id = sessionID\n",
    "        target = sessionID.getTargetCompID().getString()\n",
    "        sender = sessionID.getSenderCompID().getString()\n",
    "        return\n",
    "    \n",
    "    def onLogon(self, sessionID):\n",
    "        self.sessionID = sessionID\n",
    "        print (\"Successful Logon to session '%s'.\" % sessionID.toString())\n",
    "        return\n",
    "\n",
    "    def onLogout(self, sessionID): \n",
    "        return\n",
    "\n",
    "    def toAdmin(self, sessionID, message):\n",
    "        return\n",
    "\n",
    "    def fromAdmin(self, sessionID, message):\n",
    "        return\n",
    "\n",
    "    def toApp(self, sessionID, message):\n",
    "        print (\"Recieved the following message: %s\" % message.toString())\n",
    "        return\n",
    "\n",
    "    def fromApp(self, message, sessionID):\n",
    "        return\n",
    "\n",
    "    def genOrderID(self):\n",
    "    \tself.orderID = self.orderID+1\n",
    "    \treturn ('self.orderID')\n",
    "\n",
    "    def genExecID(self):\n",
    "    \tself.execID = self.execID+1\n",
    "    \treturn ('self.execID')\n",
    "    \n",
    "    def put_order(self):\n",
    "        print(\"Creating the following order: \")\n",
    "        trade = fix.Message()\n",
    "        trade.getHeader().setField(fix.BeginString(fix.BeginString_FIX42)) #\n",
    "        trade.getHeader().setField(fix.MsgType(fix.MsgType_NewOrderSingle)) #39=D\n",
    "        trade.setField(fix.ClOrdID(self.genExecID())) #11=Unique order\n",
    "\n",
    "        trade.setField(fix.HandlInst(fix.HandlInst_MANUAL_ORDER_BEST_EXECUTION)) #21=3 (Manual order, best executiona)\n",
    "        trade.setField(fix.Symbol('SMBL')) #55=SMBL ?\n",
    "        trade.setField(fix.Side(fix.Side_BUY)) #43=1 Buy\n",
    "        trade.setField(fix.OrdType(fix.OrdType_LIMIT)) #40=2 Limit order\n",
    "        trade.setField(fix.OrderQty(100)) #38=100\n",
    "        trade.setField(fix.Price(10))\n",
    "        trade.setField(fix.TransactTime(int(datetime.utcnow().strftime(\"%s\"))))\n",
    "        print(trade.toString())\n",
    "        fix.Session.sendToTarget(trade, self.sessionID)\n",
    "\n",
    "def main(config_file):\n",
    "    try:\n",
    "        settings = fix.SessionSettings( config_file )\n",
    "        application = Application()\n",
    "        storeFactory = fix.FileStoreFactory( settings )\n",
    "        logFactory = fix.FileLogFactory( settings )\n",
    "        initiator = fix.SocketInitiator( application, storeFactory, settings, logFactory )\n",
    "        initiator.start()\n",
    "\n",
    "        while 1:\n",
    "                input = raw_input()\n",
    "                if input == '1':\n",
    "                    print (\"Putin Order\")\n",
    "                    application.put_order()\n",
    "                if input == '2':\n",
    "                    sys.exit(0)\n",
    "                if input == 'd':\n",
    "                    import pdb\n",
    "                    pdb.set_trace()\n",
    "                else:\n",
    "                    print (\"Valid input is 1 for order, 2 for exit\")\n",
    "                    continue\n",
    "    except (fix.ConfigError, fix.RuntimeError):\n",
    "        print (e)\n",
    "\n"
   ]
  },
  {
   "cell_type": "code",
   "execution_count": 3,
   "metadata": {
    "tags": []
   },
   "outputs": [
    {
     "output_type": "stream",
     "name": "stderr",
     "text": "No traceback available to show.\n"
    }
   ],
   "source": [
    "%tb\n",
    "fileName = 'client.cfg'\n",
    "settings = fix.SessionSettings(fileName)\n",
    "app = Application()\n",
    "storeFactory = fix.FileStoreFactory(settings)\n",
    "logFactory = fix.FileLogFactory(settings)\n",
    "initiator = fix.SocketInitiator(app, storeFactory, settings, logFactory)\n",
    "initiator.start()\n"
   ]
  },
  {
   "cell_type": "code",
   "execution_count": 4,
   "metadata": {
    "tags": []
   },
   "outputs": [
    {
     "output_type": "stream",
     "name": "stdout",
     "text": "creating acceptor\nstarting acceptor\nNo traceback available to show.\n"
    }
   ],
   "source": [
    "%tb\n",
    "file_name = 'executor.cfg'\n",
    "settings = fix.SessionSettings(file_name)\n",
    "application = Application()\n",
    "storeFactory = fix.FileStoreFactory( settings )\n",
    "logFactory = fix.FileLogFactory( settings )\n",
    "print ('creating acceptor')\n",
    "acceptor = fix.SocketAcceptor( application, storeFactory, settings, logFactory )\n",
    "print ('starting acceptor')\n",
    "acceptor.start()"
   ]
  },
  {
   "cell_type": "code",
   "execution_count": 4,
   "metadata": {
    "tags": []
   },
   "outputs": [],
   "source": [
    "\n"
   ]
  },
  {
   "cell_type": "code",
   "execution_count": 5,
   "metadata": {
    "tags": []
   },
   "outputs": [],
   "source": [
    "symbol = fix.Symbol()\n",
    "side = fix.Side()\n",
    "ordType = fix.OrdType()\n",
    "orderQty = fix.OrderQty()\n",
    "price = fix.Price()\n",
    "clOrdID = fix.ClOrdID()\n"
   ]
  },
  {
   "cell_type": "code",
   "execution_count": 10,
   "metadata": {
    "tags": []
   },
   "outputs": [],
   "source": [
    "message = fix.Message()\n",
    "header = message.getHeader()\n",
    "new_pairs = ['EUR/USD', 'GBP/USD']"
   ]
  },
  {
   "cell_type": "code",
   "execution_count": 11,
   "metadata": {
    "tags": []
   },
   "outputs": [
    {
     "output_type": "stream",
     "name": "stdout",
     "text": "9=0\u000110=167\u0001\n"
    }
   ],
   "source": [
    "print(fix.Message())"
   ]
  },
  {
   "cell_type": "code",
   "execution_count": 12,
   "metadata": {},
   "outputs": [
    {
     "output_type": "error",
     "ename": "NameError",
     "evalue": "name 'sessionID' is not defined",
     "traceback": [
      "\u001b[0;31m---------------------------------------------------------------------------\u001b[0m",
      "\u001b[0;31mNameError\u001b[0m                                 Traceback (most recent call last)",
      "\u001b[0;32m<ipython-input-12-b123e2106914>\u001b[0m in \u001b[0;36m<module>\u001b[0;34m\u001b[0m\n\u001b[1;32m     23\u001b[0m     \u001b[0mmdr\u001b[0m\u001b[0;34m.\u001b[0m\u001b[0maddGroup\u001b[0m\u001b[0;34m(\u001b[0m\u001b[0msymbol\u001b[0m\u001b[0;34m)\u001b[0m\u001b[0;34m\u001b[0m\u001b[0;34m\u001b[0m\u001b[0m\n\u001b[1;32m     24\u001b[0m \u001b[0;34m\u001b[0m\u001b[0m\n\u001b[0;32m---> 25\u001b[0;31m \u001b[0mfix\u001b[0m\u001b[0;34m.\u001b[0m\u001b[0mSession\u001b[0m\u001b[0;34m.\u001b[0m\u001b[0msendToTarget\u001b[0m\u001b[0;34m(\u001b[0m\u001b[0mmdr\u001b[0m\u001b[0;34m,\u001b[0m \u001b[0msessionID\u001b[0m\u001b[0;34m)\u001b[0m\u001b[0;34m\u001b[0m\u001b[0;34m\u001b[0m\u001b[0m\n\u001b[0m",
      "\u001b[0;31mNameError\u001b[0m: name 'sessionID' is not defined"
     ]
    }
   ],
   "source": [
    "mdr = fix.Message()\n",
    "mdr.getHeader().setField(fix.BeginString(fix.BeginString_FIX44))\n",
    "mdr.getHeader().setField(fix.MsgType(fix.MsgType_MarketDataRequest))\n",
    "\n",
    "mdr.setField(fix.MDReqID('1'))\n",
    "mdr.setField(fix.SubscriptionRequestType(fix.SubscriptionRequestType_SNAPSHOT_PLUS_UPDATES))\n",
    "mdr.setField(fix.MarketDepth(0))\n",
    "mdr.setField(fix.NoMDEntryTypes(2))\n",
    "mdr.setField(fix.MDUpdateType(fix.MDUpdateType_INCREMENTAL_REFRESH))\n",
    "\n",
    "group = fixnn.MarketDataRequest().NoMDEntryTypes()\n",
    "group.setField(fix.MDEntryType(fix.MDEntryType_BID))\n",
    "mdr.addGroup(group)\n",
    "group.setField(fix.MDEntryType(fix.MDEntryType_OFFER))\n",
    "mdr.addGroup(group)\n",
    "\n",
    "mdr.setField(fix.NoRelatedSym(len(new_pairs)))\n",
    "\n",
    "symbol = fixnn.MarketDataRequest().NoRelatedSym()\n",
    "\n",
    "for pair in new_pairs:\n",
    "    symbol.setField(fix.Symbol(pair))\n",
    "    mdr.addGroup(symbol)\n",
    "\n",
    "fix.Session.sendToTarget(mdr, sessionID)"
   ]
  },
  {
   "cell_type": "code",
   "execution_count": 20,
   "metadata": {},
   "outputs": [],
   "source": []
  },
  {
   "cell_type": "code",
   "execution_count": null,
   "metadata": {},
   "outputs": [],
   "source": []
  }
 ]
}