{
 "metadata": {
  "language_info": {
   "codemirror_mode": {
    "name": "ipython",
    "version": 3
   },
   "file_extension": ".py",
   "mimetype": "text/x-python",
   "name": "python",
   "nbconvert_exporter": "python",
   "pygments_lexer": "ipython3",
   "version": "3.8.5-final"
  },
  "orig_nbformat": 2,
  "kernelspec": {
   "name": "python3",
   "display_name": "Python 3.8.5 64-bit ('DataSciences': conda)",
   "metadata": {
    "interpreter": {
     "hash": "7f9c69b77f8cb78a9d8b8acc2d09c3972908e6673afd8bfd04ee2f6acaaac495"
    }
   }
  }
 },
 "nbformat": 4,
 "nbformat_minor": 2,
 "cells": [
  {
   "cell_type": "code",
   "execution_count": 1,
   "metadata": {},
   "outputs": [
    {
     "output_type": "stream",
     "name": "stdout",
     "text": [
      "Importing Librairies...\n"
     ]
    }
   ],
   "source": [
    "import time\n",
    "import sys\n",
    "sys.path.append('../')\n",
    "#import librairies.dagfeaturingfx \n",
    "#from  librairies.dagfeaturingfx import *\n",
    "from matplotlib import pyplot as plt\n",
    "import seaborn as sns\n",
    "from tqdm import tqdm\n",
    "import joblib\n",
    "from joblib import Parallel,delayed\n",
    "import pyttsx3\n",
    "from sklearn.preprocessing import MinMaxScaler,MaxAbsScaler,quantile_transform,PolynomialFeatures\n",
    "from librairies.bt import *\n",
    "from sklearn.metrics import accuracy_score, make_scorer, precision_score, recall_score, precision_recall_curve, confusion_matrix, classification_report\n",
    "from sklearn import svm\n",
    "from xgboost import XGBClassifier\n",
    "from sklearn.metrics import f1_score\n",
    "from sklearn.metrics import roc_curve\n",
    "from numpy import sqrt\n",
    "from numpy import argmax\n",
    "import colorama as col\n",
    "from collections import Counter\n",
    "#from librairies.strategy import *\n",
    "scaler = MinMaxScaler(feature_range=(0, 1))\n",
    "engine = pyttsx3.init()\n",
    "engine.say(\"Librairies loaded\")\n",
    "engine.runAndWait() "
   ]
  },
  {
   "source": [
    "###### RELOAD LIBRAIRIE #####\n",
    "from importlib import reload\n",
    "sys.path.append('../')\n",
    "librairies.dagfeaturingfx= reload(librairies.dagfeaturingfx)\n",
    "from  librairies.dagfeaturingfx import *"
   ],
   "cell_type": "markdown",
   "metadata": {}
  },
  {
   "source": [
    "%%time\n",
    "\n",
    "_t1 = dt.datetime.now()\n",
    "print('Début des opérations horodatée à',col.Fore.YELLOW,dt.datetime.now(),col.Style.RESET_ALL)\n",
    "\n",
    "TICKER_LIST = ['GBP/CAD']\n",
    "x=TICKER_LIST[0]\n",
    "_ticker = x.replace('/','')\n",
    "_period = 'm5'\n",
    "df_all = pd.read_csv(x.replace('/','')+'_'+_period+'_BidAndAsk.csv')\n",
    "\n",
    "##### Ajout de la colonne Symbol pour identifier le ticker\n",
    "df_all['Symbol'] = _ticker\n",
    "\n",
    "##### On fixe la date en index sous forme de Timestamp\n",
    "df_all['Lindex'] = pd.to_datetime(df_all['Date'] + ' ' + df_all['Time'])\n",
    "df_all.set_index(pd.to_datetime(df_all.Lindex,format='%Y-%m-%d %H:%M:%S'),drop=True,inplace=True)\n",
    "\n",
    "###### On drop les colonnes inutiles\n",
    "df_all = df_all.drop(['Date','Lindex','Time','Total Ticks'],axis=1)\n",
    "\n",
    "##### On enlève les jours correspondant au samedi et au dimanche\n",
    "df_all['WE'] = np.where(((df_all.index.weekday == 5) | (df_all.index.weekday == 6)),None,df_all.index.weekday)\n",
    "df_all = df_all.dropna()\n",
    "df_all = df_all.drop(['WE'],axis=1)\n",
    "\n",
    "##### Calcul des averages pour les OHLC\n",
    "df_all['Open'] = (df_all['OpenBid'] + df_all['OpenAsk']) / 2\n",
    "df_all['High'] = (df_all['HighBid'] + df_all['HighAsk']) / 2\n",
    "df_all['Low'] = (df_all['LowBid'] + df_all['LowAsk']) / 2\n",
    "df_all['Close'] = (df_all['CloseBid'] + df_all['CloseAsk']) / 2\n",
    "\n",
    "hourly_all = pd.read_csv(x.replace('/','')+'_H1_BidAndAsk.csv')\n",
    "\n",
    "##### Ajout de la colonne Symbol pour identifier le ticker\n",
    "hourly_all['Symbol'] = _ticker\n",
    "\n",
    "##### On fixe la date en index sous forme de Timestamp\n",
    "hourly_all['Lindex'] = pd.to_datetime(hourly_all['Date'] + ' ' + hourly_all['Time'])\n",
    "hourly_all.set_index(pd.to_datetime(hourly_all.Lindex,format='%Y-%m-%d %H:%M:%S'),drop=True,inplace=True)\n",
    "\n",
    "###### On drop les colonnes inutiles\n",
    "hourly_all = hourly_all.drop(['Date','Lindex','Time','Total Ticks'],axis=1)\n",
    "\n",
    "##### On enlève les jours correspondant au samedi et au dimanche\n",
    "hourly_all['WE'] = np.where(((hourly_all.index.weekday == 5) | (hourly_all.index.weekday == 6)),None,hourly_all.index.weekday)\n",
    "hourly_all = hourly_all.dropna()\n",
    "hourly_all = hourly_all.drop(['WE'],axis=1)\n",
    "\n",
    "##### Calcul des averages pour les OHLC\n",
    "hourly_all['Open'] = (hourly_all['OpenBid'] + hourly_all['OpenAsk']) / 2\n",
    "hourly_all['High'] = (hourly_all['HighBid'] + hourly_all['HighAsk']) / 2\n",
    "hourly_all['Low'] = (hourly_all['LowBid'] + hourly_all['LowAsk']) / 2\n",
    "hourly_all['Close'] = (hourly_all['CloseBid'] + hourly_all['CloseAsk']) / 2\n",
    "\n",
    "engine.say(\"Processing featuring of dataframes, daily and intra-day\")\n",
    "engine.runAndWait()\n",
    "##### Récupération des data pour tous les tickers sur la période demandée en intraday => df_all\n",
    "\n",
    "engine.say(\"Raw data are loaded in memory\")\n",
    "engine.runAndWait()\n",
    "\n",
    "\n",
    "df_all = timerange1D(df_all)\n",
    "hourly_all = timerange1D(hourly_all)\n",
    "daily_all = get_daily(hourly_all,TICKER_LIST)\n",
    "\n",
    "engine.say(\"Daily up to date\")\n",
    "engine.runAndWait()\n",
    "\n",
    "daily_all = timerange1W(daily_all)\n",
    "weekly_all = get_weekly(daily_all,TICKER_LIST)\n",
    "engine.say(\"Weekly up to date\")\n",
    "engine.runAndWait()\n",
    "\n",
    "##### On calcule l'ADR sur le daily\n",
    "daily_all = adr(daily_all,_window=14)\n",
    "engine.say(\"ADR computed\")\n",
    "engine.runAndWait()\n",
    "\n",
    "##### On récupère l'ADR qui a été calculé en daily (daily_all) pour le mettre dans la base intraday df_all\n",
    "df_all = getadr(daily_all,df_all,TICKER_LIST)\n",
    "engine.say(\"ADR get in daily\")\n",
    "engine.runAndWait()\n",
    "\n",
    "df_all = adrhnl(daily_all,df_all,TICKER_LIST)\n",
    "\n",
    "##### Calcul d'une SMA 200 sur df_all\n",
    "df_all = sma(df_all=df_all,_window=200)\n",
    "\n",
    "##### Calcul des bollinger sur df_all\n",
    "df_all = bollinger(df_all,_slow=20)\n",
    "\n",
    "##### Calcul du stochastic slow. Par défaut les paramètres sont 5 et 3.\n",
    "df_all = slowstochastic(df_all,TICKER_LIST)\n",
    "\n",
    "df_all = ema(df_all,21,TICKER_LIST)\n",
    "\n",
    "df_all = ema(df_all,8,TICKER_LIST)\n",
    "\n",
    "weekly_all = pivot(weekly_all,TICKER_LIST)\n",
    "\n",
    "df_all = pivotimportdf(df_all,weekly_all,TICKER_LIST)\n",
    "\n",
    "df_all = atr(df_all,TICKER_LIST,14)\n",
    "\n",
    "df_all = rvi(df_all,TICKER_LIST,_window=14)\n",
    "\n",
    "df_all = sbgamma(df_all,TICKER_LIST)\n",
    "\n",
    "df_all = onhisma(df_all,TICKER_LIST,_window=5)\n",
    "df_all = onlosma(df_all,TICKER_LIST,_window=5)\n",
    "\n",
    "df_all = onhisma(df_all,TICKER_LIST,_window=21)\n",
    "df_all = onlosma(df_all,TICKER_LIST,_window=21)\n",
    "\n",
    "df_all = onhisma(df_all,TICKER_LIST,_window=34)\n",
    "df_all = onlosma(df_all,TICKER_LIST,_window=34)\n",
    "\n",
    "df_all = importohlc(df_all,weekly_all,TICKER_LIST,_suffix='_weekly')\n",
    "\n",
    "df_all = importohlc(df_all=df_all,other_all=daily_all,TICKER_LIST=TICKER_LIST,_suffix='_daily')\n",
    "\n",
    "engine.say(\"The job is done\")\n",
    "engine.runAndWait()\n",
    "\n",
    "\n",
    "engine.say(\"AAll the bases are saved\")\n",
    "engine.runAndWait()\n",
    "\n",
    "_t2 = dt.datetime.now()\n",
    "print('Début des opérations horodatée à',col.Fore.YELLOW,dt.datetime.now(),col.Style.RESET_ALL)\n",
    "print((_t2 - _t1))"
   ],
   "cell_type": "markdown",
   "metadata": {}
  },
  {
   "source": [
    "%%time\n",
    "joblib.dump(df_all,x.replace('/','')+'_DF_ALL')\n",
    "joblib.dump(hourly_all,x.replace('/','')+'_HOURLY_ALL')\n",
    "joblib.dump(weekly_all,x.replace('/','')+'_WEEKLY_ALL')\n",
    "joblib.dump(daily_all,x.replace('/','')+'_DAILY_ALL')"
   ],
   "cell_type": "markdown",
   "metadata": {}
  },
  {
   "cell_type": "code",
   "execution_count": 4,
   "metadata": {},
   "outputs": [
    {
     "output_type": "stream",
     "name": "stdout",
     "text": [
      "CPU times: user 484 ms, sys: 444 ms, total: 927 ms\nWall time: 963 ms\n"
     ]
    }
   ],
   "source": [
    "%%time\n",
    "TICKER_LIST = ['GBP/NZD']\n",
    "x = TICKER_LIST[0]\n",
    "df_all = joblib.load(x.replace('/','')+'_DF_ALL')\n",
    "hourly_all = joblib.load(x.replace('/','')+'_HOURLY_ALL')\n",
    "weekly_all = joblib.load(x.replace('/','')+'_WEEKLY_ALL')\n",
    "daily_all = joblib.load(x.replace('/','')+'_DAILY_ALL')\n"
   ]
  },
  {
   "cell_type": "code",
   "execution_count": 5,
   "metadata": {},
   "outputs": [
    {
     "output_type": "stream",
     "name": "stdout",
     "text": [
      "(814131, 59) (2901, 7) (584, 19)\n",
      "GBP/NZD\n",
      "GBP/NZD\n",
      "Librairies imported\n",
      "\n",
      "Début des opérations horodatée à 2021-04-08 12:26:43.909506\n",
      "\n",
      "Chargement de la nouvelle base\n",
      "\n",
      "\n",
      "\u001b[35m Le rate du ticker GBP/NZD est à  1.3886960144424387 \u001b[0m\n",
      "Bases chargées\n",
      "TETEL process effectué\n",
      "\u001b[36m ENTERING THE BACKTEST \u001b[0m\n",
      "100%|██████████| 1798/1798 [00:00<00:00, 36870.75it/s]\n",
      "\u001b[35m 2021-03-15 16:15:00 \u001b[0m\n",
      "Position 1 bought at 1.9297 (verification liste 1.9297 )\n",
      "\u001b[35m 2021-03-15 21:10:00 \u001b[0m\n",
      "1 positions (SL) closed at 1.92673 \u001b[31m pnl -29.69999999999917 \u001b[0m\n",
      "nombre de candles en position : 59\n",
      "Equity : 199970.3\n",
      "\u001b[35m 2021-03-22 22:35:00 \u001b[0m\n",
      "Position 1 sold at 1.94173 (verification liste 1.94173 )\n",
      "\u001b[35m 2021-03-22 23:10:00 \u001b[0m\n",
      "1 position (SL) closed at 1.94504 \u001b[31m pnl -33.10000000000146 \u001b[0m\n",
      "nombre de candles en position : 7\n",
      "Equity : 199937.19999999998\n",
      "\u001b[35m 2021-03-23 03:35:00 \u001b[0m\n",
      "Position 1 sold at 1.95159 (verification liste 1.95159 )\n",
      "\u001b[35m 2021-03-23 05:25:00 \u001b[0m\n",
      "1 position (SL) closed at 1.95387 \u001b[31m pnl -22.800000000000598 \u001b[0m\n",
      "nombre de candles en position : 22\n",
      "Equity : 199914.4\n",
      "\u001b[35m 2021-03-23 08:05:00 \u001b[0m\n",
      "Position 1 sold at 1.95879 (verification liste 1.95879 )\n",
      "\u001b[35m 2021-03-23 08:30:00 \u001b[0m\n",
      "1 position (TG) closed at 1.95441 \u001b[32m pnl 43.80000000000051 \u001b[0m\n",
      "nombre de candles en position : 5\n",
      "Equity : 199958.19999999998\n",
      "\u001b[34m For ticker \u001b[33m GBP/NZD \u001b[0m\n",
      "\u001b[35m \n",
      "Total Profit & Loss : $ \u001b[31m -58.05 . En  4 \u001b[0m  transactions.\n",
      "\u001b[32m \n",
      "Winners Number : 1 \u001b[0m\n",
      "\u001b[31m \n",
      "Loosers number : 3 \u001b[0m\n",
      "BT's execution time 0:00:06.293621\n",
      "\u001b[33m GBP/NZD \u001b[34m results \u001b[0m\n",
      "\u001b[35m Tested Period 2021-03-15  à 2021-03-24 \u001b[0m\n",
      "\u001b[36m Total Number of trades 4 \u001b[0m\n",
      "Started Cash : 200000\n",
      "P&L in currency: \u001b[31m -58.05$ \u001b[0m\n",
      "P&L in %: \u001b[31m -0.03% \u001b[0m\n",
      "Average trade duration 23.25\n",
      "# Winners  1.0\n",
      "# Winners long  0.0\n",
      "# Winners short  1.0\n",
      "# Loosers  3.0\n",
      "# Loosers  long 1.0\n",
      "# Loosers  short 2.0\n",
      "Cumulated gains 60.82\n",
      "Cumulated losses -118.87\n",
      "\u001b[34m PROFIT FACTOR :  0.51 \u001b[0m\n",
      "\u001b[36m Winners Ratio : 25.0 % \u001b[0m\n",
      "Average Winners 60.82\n",
      "% Average Winners 0.03\n",
      "Average Loosers -39.62\n",
      "% Average Loosers -0.02\n",
      "Average pnl -14.51\n",
      "% Average pnl -0.01\n",
      "Number of opened trades 4\n",
      "Number of closed trades 4\n",
      "Max Exposure 1 x  10000 =  10000 $\n",
      "CPU times: user 992 ms, sys: 212 ms, total: 1.2 s\n",
      "Wall time: 9.63 s\n"
     ]
    }
   ],
   "source": [
    "%%time\n",
    "\n",
    "def featuring(df_all):\n",
    "    \"\"\"[Entrer la df préparée avec les bons indictaurs. Renvoie une nouvelle df qu'avec les features + Symbol + Date + Signal]\n",
    "\n",
    "    Args:\n",
    "        df_all ([dataframe]): [Mettre la df qui doit être featurée.]\n",
    "    \"\"\"   \n",
    "    features = pd.DataFrame()\n",
    "    features = pd.DataFrame(index=df_all.index)\n",
    "    features['Symbol'] = df_all['Symbol']\n",
    "    features['Date'] = df_all['Date']\n",
    "    features['FEMA_21'] = df_all['Close'] - df_all['EMA_21']\n",
    "    features['FEMA_8'] = df_all['Close'] - df_all['EMA_8']\n",
    "    features['FADRLo'] = df_all['Close'] - df_all['ADR_Low']\n",
    "    features['FADRHi'] = df_all['Close'] - df_all['ADR_High']\n",
    "    features['FRVI40'] = df_all['RVI'] - 40\n",
    "    features['FRVI60'] = df_all['RVI'] - 60\n",
    "    features['FONLOSMA5'] = df_all['Low'] - df_all['ONLOSMA_5']\n",
    "    features['FONHISMA5'] = df_all['High'] - df_all['ONHISMA_5']\n",
    "    features['FONLOSMA21'] = df_all['Low'] - df_all['ONLOSMA_21']\n",
    "    features['FONHISMA21'] = df_all['High'] - df_all['ONHISMA_21']\n",
    "    features['FONLOSMA34'] = df_all['Low'] - df_all['ONLOSMA_34']\n",
    "    features['FONHISMA34'] = df_all['High'] - df_all['ONHISMA_34']\n",
    "    features['FSBGAMMA'] = df_all['SB_Gamma']\n",
    "    features['FOPENWEEKLY'] = df_all['Close'] - df_all['Open_weekly']\n",
    "    features['FHIGHWEEKLY'] = df_all['Close'] - df_all['High_weekly']\n",
    "    features['FLOWWEEKLY'] = df_all['Close'] - df_all['Low_weekly']\n",
    "    features['FCLOSEWEEKLY'] = df_all['Close'] - df_all['Close_weekly']\n",
    "    features['FOPENDAILY'] = df_all['Close'] - df_all['Open_daily']\n",
    "    features['FHIGHDAILY'] = df_all['Close'] - df_all['High_daily']\n",
    "    features['FLOWDAILY'] = df_all['Close'] - df_all['Low_daily']\n",
    "    features['FCLOSEDAILY'] = df_all['Close'] - df_all['Close_daily']\n",
    "    features['FOPENHOURLY'] = df_all['Close'] - df_all['Open_daily']\n",
    "    features['FHIGHHOURLY'] = df_all['Close'] - df_all['High_daily']\n",
    "    features['FLOWHOURLY'] = df_all['Close'] - df_all['Low_daily']\n",
    "    features['FCLOSEHOURLY'] = df_all['Close'] - df_all['Close_daily']\n",
    "    features['FSMA200'] = df_all['Close'] - df_all['SMA_200']\n",
    "    features['FBOLUP20'] = df_all['Close'] - df_all['UpperBand']\n",
    "    features['FBOLLOW20'] = df_all['Close'] - df_all['LowerBand']\n",
    "    features['FPP'] = df_all['Close'] - df_all['PP']\n",
    "    features['FS38'] = df_all['Close'] - df_all['S38']\n",
    "    features['FS62'] = df_all['Close'] - df_all['S62']\n",
    "    features['FS100'] = df_all['Close'] - df_all['S100']\n",
    "    features['FS138'] = df_all['Close'] - df_all['S138']\n",
    "    features['FS162'] = df_all['Close'] - df_all['S162']\n",
    "    features['FS200'] = df_all['Close'] - df_all['S200']\n",
    "    features['FR38'] = df_all['Close'] - df_all['R38']\n",
    "    features['FR62'] = df_all['Close'] - df_all['R62']\n",
    "    features['FR100'] = df_all['Close'] - df_all['R100']\n",
    "    features['FR138'] = df_all['Close'] - df_all['R138']\n",
    "    features['FR162'] = df_all['Close'] - df_all['R162']\n",
    "    features['FR200'] = df_all['Close'] - df_all['R200']\n",
    "    features['SBATR'] = (df_all['Close'] - df_all['Open']) / df_all['ATR_14']\n",
    "    features['Signal'] = df_all['Signal']\n",
    "    return(features)\n",
    "\n",
    "\n",
    "\n",
    "def stochastic(df):\n",
    "        \"\"\"[Determine the stochastic strategy based on _window=5. Enter dataframe with column slow_K5 and slow_D5. Return dataframe with column Signal.]\n",
    "\n",
    "        Args:\n",
    "            df ([dataframe]): [Must been already computed with slow_D5 and slow_K5 column]\n",
    "        \"\"\"    \n",
    "        ##### CONDITIONS LONG\n",
    "        _condition_1 = (df.slow_K5 <= 20) & (df.slow_K5.shift(1) <= df.slow_D5.shift(1)) & (df.slow_K5 >= df.slow_D5)\n",
    "\n",
    "        ##### CONDITIONS SHORT\n",
    "        _condition_1_bar = (df.slow_K5 >= 80) & (df.slow_K5.shift(1) >= df.slow_D5.shift(1)) & (df.slow_K5 <= df.slow_D5)\n",
    "\n",
    "        ##### 1 condition\n",
    "        df['Signal'] = np.where(_condition_1,1,np.where(_condition_1_bar,-1,0))\n",
    "        return(df) \n",
    "\n",
    "####### CHOIX DE LA TIME FRAME\n",
    "_period = 'm5'\n",
    "##### Récupération de la liste des tickers à partir du répertoire où sont rangées les bases\n",
    "TRACKER = joblib.load('TRACKER')\n",
    "TIK = ['JPY','CHF','CAD','GBP','AUD','NZD','SEK','NOK','MXN','ZAR','TRY','ILS','CNH','USD','HKD','0']\n",
    "RATE = [105.4,0.8989,1.276,0.877,0.7676,0.7201,8.3684,8.5238,20.09,14.81,7.03,3.28,6.458,1,7.7527,1.21]\n",
    "df_ratefx = pd.DataFrame(index=TIK)\n",
    "df_ratefx['rate'] = RATE\n",
    "#############################\n",
    "##### F E A T U R I N G #####\n",
    "#############################\n",
    "\n",
    "print(df_all.shape,daily_all.shape,weekly_all.shape)\n",
    "# Make our choice for the split, compliant to our backtest \n",
    "_start = '2010-01-01' # start the train there '2010-01-01'\n",
    "_mid = '2018-08-29' # stop the train and begin the test there '2016-08-31'\n",
    "_stop = '2021-03-15' # stop the test there. After that, it is kept for oos\n",
    "_last = '2021-03-24' # '2020-12-31'\n",
    "#### S T R A T E G Y\n",
    "\n",
    "df_all = stochastic(df_all)\n",
    "##### On backtest selon le ticker selectionné sur la période déterminée\n",
    "\n",
    "x=TICKER_LIST[0]\n",
    "print(x)\n",
    "_year_bottom = _stop\n",
    "_year_top = _last\n",
    "_nb_bougie_exit = 2000000\n",
    "_trigger_reengage = 0\n",
    "_trigger_target = 1\n",
    "_trigger_invers = 0\n",
    "_trigger_sl = 1\n",
    "_verbose = 1\n",
    "_cash_ini = 200000\n",
    "_rate = 1/df_ratefx.loc[x[4:],'rate']\n",
    "backtest = df_all[df_all.Symbol == x.replace('/','')]\n",
    "_target =  0.002\n",
    "_exposure = 10\n",
    "_size = 10000\n",
    "_sl =  0.001\n",
    "_open_hour = 8 # day only\n",
    "_close_hour = 23 # day only\n",
    "_window = 0 # day only\n",
    "\n",
    "#features = featuring(df_all)\n",
    "#features['TRACKER'] = np.where(features.index.isin(TRACKER),1,0)\n",
    "\n",
    "# First, we must have an output. We'll call it 'Valid'. It wil be where Tracker & Signal are both to 1\n",
    "#features['Valid'] = np.where(((features.Signal!=0)&(features.TRACKER==1)),1,0) # Don't miss the point that even a Signal -1 must be considered as a good one by TRACKER\n",
    "\n",
    "# Let's isolate the ticker on which we made the test\n",
    "#features = features[features.Symbol==x.replace('/','')]\n",
    "\n",
    "# And drop the nan\n",
    "#features = features.dropna()\n",
    "##### Signal is from strategy. This is potential good one. But we have to create the TRACKER column where the Signal where efficient\n",
    "\n",
    "# Proceed an MaxAbsScaler on features\n",
    "#features_train,features_test,features_oos = scaling(features,x.replace('/',''),TRACKER,_start,_mid,_stop,_last,scaler=MaxAbsScaler())\n",
    "#features_train,features_test,features_oos = quantile(features_train,features_test,features_oos,quantile_transform)\n",
    "\n",
    "_model = joblib.load('Save_'+x.replace('/','')+'_m5.sav')\n",
    "\n",
    "\n",
    "df_all_oos = df_all[(df_all.Date >= _stop)&(df_all.Date <= _last)].dropna()\n",
    "\n",
    "#df_all_oos = df_all_oos[df_all_oos.Symbol==x.replace('/','')]\n",
    "\n",
    "features_oos = featuring(df_all_oos)\n",
    "\n",
    "features_max = joblib.load(x.replace('/','')+'_MAX.dagmax')\n",
    "\n",
    "for label in features_oos.drop(['Date','Symbol','Signal'],axis=1).columns:\n",
    "                    features_oos[label] = features_oos[label] / features_max[label][0]\n",
    "\n",
    "\n",
    "df_all_oos['Valid'] = _model.predict(features_oos.drop(['Date','Symbol','Signal'],axis=1))\n",
    "\n",
    "df_all_oos['Verif_raw_sig'] = df_all_oos.Signal\n",
    "df_all_oos['Signal'] = np.where((df_all_oos.Verif_raw_sig==1)&(df_all_oos.Valid==1),1,np.where((df_all_oos.Verif_raw_sig==-1)&(df_all_oos.Valid==1),-1,0))\n",
    " \n",
    "##### On backtest selon le ticker selectionné sur la période déterminée\n",
    "\n",
    "print(x)\n",
    "_year_bottom = _stop\n",
    "_year_top = _last\n",
    "\n",
    "##### Backtest Over Night\n",
    "FINAL_TRACKER = bt(df_all_oos,_year_bottom,_year_top,_nb_bougie_exit,_trigger_reengage,_trigger_target,_trigger_invers,_trigger_sl,_verbose,_cash_ini,\\\n",
    "        _rate,x,_target,_exposure,_size,_sl)"
   ]
  },
  {
   "cell_type": "code",
   "execution_count": null,
   "metadata": {},
   "outputs": [],
   "source": []
  },
  {
   "cell_type": "code",
   "execution_count": null,
   "metadata": {},
   "outputs": [],
   "source": []
  },
  {
   "cell_type": "code",
   "execution_count": null,
   "metadata": {},
   "outputs": [],
   "source": []
  },
  {
   "cell_type": "code",
   "execution_count": 17,
   "metadata": {},
   "outputs": [],
   "source": [
    "verif = joblib.load('GBPNZD_m5')\n",
    "verif = verif.rename(columns={'bidopen':'OpenBid','bidclose':'CloseBid','bidhigh':'HighBid','bidlow':'LowBid','askopen':'OpenAsk','askclose':'CloseAsk','askhigh':'HighAsk','asklow':'LowAsk'})\n",
    "# Calculate the mid prices\n",
    "verif['Open'] = (verif.OpenAsk + verif.OpenBid)/2\n",
    "verif['High'] = (verif.HighAsk + verif.HighBid)/2\n",
    "verif['Low'] = (verif.LowAsk + verif.LowBid)/2\n",
    "verif['Close'] = (verif.CloseAsk + verif.CloseBid)/2\n",
    "verif['Symbol'] = x.replace('/','')\n",
    "verif['Date'] = verif.index\n",
    "verif['Date'] = pd.to_datetime(verif['Date'].dt.strftime(date_format='%Y-%m-%d'))"
   ]
  },
  {
   "cell_type": "code",
   "execution_count": 18,
   "metadata": {},
   "outputs": [
    {
     "output_type": "stream",
     "name": "stdout",
     "text": [
      "GBP/NZD\n",
      "Librairies imported\n",
      "\n",
      "Début des opérations horodatée à 2021-03-23 10:11:16.109609\n",
      "\n",
      "Chargement de la nouvelle base\n",
      "\n",
      "\n",
      "\u001b[35m Le rate du ticker GBP/NZD est à  1.3886960144424387 \u001b[0m\n",
      "Bases chargées\n",
      "TETEL process effectué\n",
      "\u001b[36m ENTERING THE BACKTEST \u001b[0m\n",
      "100%|██████████| 397/397 [00:00<00:00, 45690.34it/s]\n",
      "\u001b[35m 2021-03-22 22:35:00 \u001b[0m\n",
      "Position 1 sold at 1.94173 (verification liste 1.94173 )\n",
      "\u001b[35m 2021-03-22 23:10:00 \u001b[0m\n",
      "1 position (SL) closed at 1.94504 \u001b[31m pnl -33.10000000000146 \u001b[0m\n",
      "nombre de candles en position : 7\n",
      "Equity : 199966.9\n",
      "\u001b[35m 2021-03-23 08:05:00 \u001b[0m\n",
      "Position 1 sold at 1.95879 (verification liste 1.95879 )\n",
      "\u001b[35m 2021-03-23 08:30:00 \u001b[0m\n",
      "1 position (TG) closed at 1.95485 \u001b[32m pnl 39.400000000000546 \u001b[0m\n",
      "nombre de candles en position : 5\n",
      "Equity : 200006.3\n",
      "\u001b[34m For ticker \u001b[33m GBP/NZD \u001b[0m\n",
      "\u001b[35m \n",
      "Total Profit & Loss : $ \u001b[32m 8.75 . En  2 \u001b[0m  transactions.\n",
      "\u001b[32m \n",
      "Winners Number : 1 \u001b[0m\n",
      "\u001b[31m \n",
      "Loosers number : 1 \u001b[0m\n",
      "BT's execution time 0:00:06.233987\n",
      "\u001b[33m GBP/NZD \u001b[34m results \u001b[0m\n",
      "\u001b[35m Tested Period 2021-03-21  à 2021-03-24 \u001b[0m\n",
      "\u001b[36m Total Number of trades 2 \u001b[0m\n",
      "Started Cash : 200000\n",
      "P&L  in currency: \u001b[32m 8.75$ \u001b[0m\n",
      "P&L in %: \u001b[32m 0.0% \u001b[0m\n",
      "Average trade duration 6.0\n",
      "# Winners  1.0\n",
      "# Winners long  0.0\n",
      "# Winners short  1.0\n",
      "# Loosers  1.0\n",
      "# Loosers  long 0.0\n",
      "# Loosers  short 1.0\n",
      "Cumulated gains 54.71\n",
      "Cumulated losses -45.97\n",
      "\u001b[34m PROFIT FACTOR :  1.19 \u001b[0m\n",
      "\u001b[36m Winners Ratio : 50.0 % \u001b[0m\n",
      "Average Winners 54.71\n",
      "% Average Winners 0.03\n",
      "Average Loosers -45.97\n",
      "% Average Loosers -0.02\n",
      "Average pnl 4.37\n",
      "% Average pnl 0.0\n",
      "Number of opened trades 2\n",
      "Number of closed trades 2\n",
      "Max Exposure 1 x  10000 =  10000 $\n"
     ]
    }
   ],
   "source": [
    "verif = verif[(verif.Date >= _stop)&(verif.Date <= _last)].dropna()\n",
    "verif = stochastic(verif)\n",
    "features_oos = featuring(verif)\n",
    "\n",
    "features_max = joblib.load(x.replace('/','')+'_MAX.dagmax')\n",
    "\n",
    "for label in features_oos.drop(['Date','Symbol','Signal'],axis=1).columns:\n",
    "                    features_oos[label] = features_oos[label] / features_max[label][0]\n",
    "\n",
    "#features_oos = scaling(features_oos,scaler)\n",
    "#features_oos = quantile(features_oos,quantile_transform)\n",
    "\n",
    "verif['Valid'] = _model.predict(features_oos.drop(['Date','Symbol','Signal'],axis=1))\n",
    "\n",
    "verif['Verif_raw_sig'] = verif.Signal\n",
    "verif['Signal'] = np.where((verif.Signal==1)&(verif.Valid==1),1,np.where((verif.Signal==-1)&(verif.Valid==1),-1,0))\n",
    "verif = verif.dropna()\n",
    "print(x)\n",
    "_year_bottom = _stop\n",
    "_year_top = _last\n",
    "feature_api = features_oos\n",
    "##### Backtest Over Night\n",
    "FINAL_TRACKER = bt(verif,_year_bottom,_year_top,_nb_bougie_exit,_trigger_reengage,_trigger_target,_trigger_invers,_trigger_sl,_verbose,_cash_ini,\\\n",
    "        _rate,x,_target,_exposure,_size,_sl)"
   ]
  },
  {
   "cell_type": "code",
   "execution_count": 19,
   "metadata": {},
   "outputs": [
    {
     "output_type": "error",
     "ename": "ValueError",
     "evalue": "a must be greater than 0 unless no samples are taken",
     "traceback": [
      "\u001b[0;31m---------------------------------------------------------------------------\u001b[0m",
      "\u001b[0;31mValueError\u001b[0m                                Traceback (most recent call last)",
      "\u001b[0;32m<ipython-input-19-bfe5556a5941>\u001b[0m in \u001b[0;36m<module>\u001b[0;34m\u001b[0m\n\u001b[1;32m     11\u001b[0m \u001b[0mverif1\u001b[0m \u001b[0;34m=\u001b[0m \u001b[0mverif1\u001b[0m\u001b[0;34m[\u001b[0m\u001b[0;34m(\u001b[0m\u001b[0mverif1\u001b[0m\u001b[0;34m.\u001b[0m\u001b[0mDate\u001b[0m \u001b[0;34m>=\u001b[0m \u001b[0m_stop\u001b[0m\u001b[0;34m)\u001b[0m\u001b[0;34m&\u001b[0m\u001b[0;34m(\u001b[0m\u001b[0mverif1\u001b[0m\u001b[0;34m.\u001b[0m\u001b[0mDate\u001b[0m \u001b[0;34m<=\u001b[0m \u001b[0m_last\u001b[0m\u001b[0;34m)\u001b[0m\u001b[0;34m]\u001b[0m\u001b[0;34m.\u001b[0m\u001b[0mdropna\u001b[0m\u001b[0;34m(\u001b[0m\u001b[0;34m)\u001b[0m\u001b[0;34m\u001b[0m\u001b[0;34m\u001b[0m\u001b[0m\n\u001b[1;32m     12\u001b[0m \u001b[0mverif1\u001b[0m \u001b[0;34m=\u001b[0m \u001b[0mstochastic\u001b[0m\u001b[0;34m(\u001b[0m\u001b[0mverif1\u001b[0m\u001b[0;34m)\u001b[0m\u001b[0;34m\u001b[0m\u001b[0;34m\u001b[0m\u001b[0m\n\u001b[0;32m---> 13\u001b[0;31m \u001b[0mverif1\u001b[0m \u001b[0;34m=\u001b[0m \u001b[0mverif1\u001b[0m\u001b[0;34m.\u001b[0m\u001b[0mdrop\u001b[0m\u001b[0;34m(\u001b[0m\u001b[0mverif1\u001b[0m\u001b[0;34m.\u001b[0m\u001b[0msample\u001b[0m\u001b[0;34m(\u001b[0m\u001b[0;36m50\u001b[0m\u001b[0;34m)\u001b[0m\u001b[0;34m.\u001b[0m\u001b[0mindex\u001b[0m\u001b[0;34m)\u001b[0m\u001b[0;34m\u001b[0m\u001b[0;34m\u001b[0m\u001b[0m\n\u001b[0m\u001b[1;32m     14\u001b[0m \u001b[0mfeatures_oos1\u001b[0m \u001b[0;34m=\u001b[0m \u001b[0mfeaturing\u001b[0m\u001b[0;34m(\u001b[0m\u001b[0mverif1\u001b[0m\u001b[0;34m)\u001b[0m\u001b[0;34m\u001b[0m\u001b[0;34m\u001b[0m\u001b[0m\n\u001b[1;32m     15\u001b[0m \u001b[0;34m\u001b[0m\u001b[0m\n",
      "\u001b[0;32m~/anaconda3/envs/DataSciences/lib/python3.8/site-packages/pandas/core/generic.py\u001b[0m in \u001b[0;36msample\u001b[0;34m(self, n, frac, replace, weights, random_state, axis)\u001b[0m\n\u001b[1;32m   5345\u001b[0m             )\n\u001b[1;32m   5346\u001b[0m \u001b[0;34m\u001b[0m\u001b[0m\n\u001b[0;32m-> 5347\u001b[0;31m         \u001b[0mlocs\u001b[0m \u001b[0;34m=\u001b[0m \u001b[0mrs\u001b[0m\u001b[0;34m.\u001b[0m\u001b[0mchoice\u001b[0m\u001b[0;34m(\u001b[0m\u001b[0maxis_length\u001b[0m\u001b[0;34m,\u001b[0m \u001b[0msize\u001b[0m\u001b[0;34m=\u001b[0m\u001b[0mn\u001b[0m\u001b[0;34m,\u001b[0m \u001b[0mreplace\u001b[0m\u001b[0;34m=\u001b[0m\u001b[0mreplace\u001b[0m\u001b[0;34m,\u001b[0m \u001b[0mp\u001b[0m\u001b[0;34m=\u001b[0m\u001b[0mweights\u001b[0m\u001b[0;34m)\u001b[0m\u001b[0;34m\u001b[0m\u001b[0;34m\u001b[0m\u001b[0m\n\u001b[0m\u001b[1;32m   5348\u001b[0m         \u001b[0;32mreturn\u001b[0m \u001b[0mself\u001b[0m\u001b[0;34m.\u001b[0m\u001b[0mtake\u001b[0m\u001b[0;34m(\u001b[0m\u001b[0mlocs\u001b[0m\u001b[0;34m,\u001b[0m \u001b[0maxis\u001b[0m\u001b[0;34m=\u001b[0m\u001b[0maxis\u001b[0m\u001b[0;34m)\u001b[0m\u001b[0;34m\u001b[0m\u001b[0;34m\u001b[0m\u001b[0m\n\u001b[1;32m   5349\u001b[0m \u001b[0;34m\u001b[0m\u001b[0m\n",
      "\u001b[0;32mmtrand.pyx\u001b[0m in \u001b[0;36mnumpy.random.mtrand.RandomState.choice\u001b[0;34m()\u001b[0m\n",
      "\u001b[0;31mValueError\u001b[0m: a must be greater than 0 unless no samples are taken"
     ]
    }
   ],
   "source": [
    "verif1 = joblib.load('GBPCAD_m5')\n",
    "verif1 = verif1.rename(columns={'bidopen':'OpenBid','bidclose':'CloseBid','bidhigh':'HighBid','bidlow':'LowBid','askopen':'OpenAsk','askclose':'CloseAsk','askhigh':'HighAsk','asklow':'LowAsk'})\n",
    "# Calculate the mid prices\n",
    "verif1['Open'] = (verif1.OpenAsk + verif1.OpenBid)/2\n",
    "verif1['High'] = (verif1.HighAsk + verif1.HighBid)/2\n",
    "verif1['Low'] = (verif1.LowAsk + verif1.LowBid)/2\n",
    "verif1['Close'] = (verif1.CloseAsk + verif1.CloseBid)/2\n",
    "verif1['Symbol'] = x.replace('/','')\n",
    "verif1['Date'] = verif1.index\n",
    "verif1['Date'] = pd.to_datetime(verif1['Date'].dt.strftime(date_format='%Y-%m-%d'))\n",
    "verif1 = verif1[(verif1.Date >= _stop)&(verif1.Date <= _last)].dropna()\n",
    "verif1 = stochastic(verif1)\n",
    "verif1 = verif1.drop(verif1.sample(50).index)\n",
    "features_oos1 = featuring(verif1)\n",
    "\n",
    "features_oos1 = featuring(verif1)\n",
    "\n",
    "features_oos1 = scaling(features_oos1,scaler)\n",
    "features_oos1 = quantile(features_oos1,quantile_transform)\n",
    "\n",
    "verif1['Valid'] = _model.predict(features_oos1.drop(['Date','Symbol','Signal'],axis=1))\n",
    "\n",
    "verif1['Verif_raw_sig'] = verif1.Signal\n",
    "verif1['Signal'] = np.where((verif1.Signal==1)&(verif1.Valid==1),1,np.where((verif1.Signal==-1)&(verif1.Valid==1),-1,0))\n",
    "verif1 = verif1.dropna()\n",
    "print(x)\n",
    "_year_bottom = _stop\n",
    "_year_top = _last\n",
    "feature_api1 = features_oos1\n",
    "##### Backtest Over Night\n",
    "FINAL_TRACKER = bt(verif1,_year_bottom,_year_top,_nb_bougie_exit,_trigger_reengage,_trigger_target,_trigger_invers,_trigger_sl,_verbose,_cash_ini,\\\n",
    "        _rate,x,_target,_exposure,_size,_sl)"
   ]
  },
  {
   "cell_type": "code",
   "execution_count": null,
   "metadata": {},
   "outputs": [],
   "source": []
  },
  {
   "cell_type": "code",
   "execution_count": null,
   "metadata": {},
   "outputs": [],
   "source": []
  },
  {
   "cell_type": "code",
   "execution_count": 6,
   "metadata": {},
   "outputs": [
    {
     "output_type": "execute_result",
     "data": {
      "text/plain": [
       "                       slow_K5    slow_D5  Signal  Valid  Verif_raw_sig\n",
       "2021-02-26 19:40:00   8.542570  17.646010       0      1              0\n",
       "2021-02-26 19:45:00  13.157169  13.026805       1      1              1"
      ],
      "text/html": "<div>\n<style scoped>\n    .dataframe tbody tr th:only-of-type {\n        vertical-align: middle;\n    }\n\n    .dataframe tbody tr th {\n        vertical-align: top;\n    }\n\n    .dataframe thead th {\n        text-align: right;\n    }\n</style>\n<table border=\"1\" class=\"dataframe\">\n  <thead>\n    <tr style=\"text-align: right;\">\n      <th></th>\n      <th>slow_K5</th>\n      <th>slow_D5</th>\n      <th>Signal</th>\n      <th>Valid</th>\n      <th>Verif_raw_sig</th>\n    </tr>\n  </thead>\n  <tbody>\n    <tr>\n      <th>2021-02-26 19:40:00</th>\n      <td>8.542570</td>\n      <td>17.646010</td>\n      <td>0</td>\n      <td>1</td>\n      <td>0</td>\n    </tr>\n    <tr>\n      <th>2021-02-26 19:45:00</th>\n      <td>13.157169</td>\n      <td>13.026805</td>\n      <td>1</td>\n      <td>1</td>\n      <td>1</td>\n    </tr>\n  </tbody>\n</table>\n</div>"
     },
     "metadata": {},
     "execution_count": 6
    }
   ],
   "source": [
    "verif[(verif.index>='2021-02-26 19:40:00')&(verif.index<='2021-02-26 19:45:00')][['slow_K5','slow_D5','Signal','Valid','Verif_raw_sig']]"
   ]
  },
  {
   "cell_type": "code",
   "execution_count": 7,
   "metadata": {},
   "outputs": [
    {
     "output_type": "execute_result",
     "data": {
      "text/plain": [
       "                       slow_K5    slow_D5  Signal  Valid  Verif_raw_sig\n",
       "Lindex                                                                 \n",
       "2021-02-26 19:40:00   8.542570  17.646010       0      1              0\n",
       "2021-02-26 19:45:00  13.157169  13.026805       1      1              1"
      ],
      "text/html": "<div>\n<style scoped>\n    .dataframe tbody tr th:only-of-type {\n        vertical-align: middle;\n    }\n\n    .dataframe tbody tr th {\n        vertical-align: top;\n    }\n\n    .dataframe thead th {\n        text-align: right;\n    }\n</style>\n<table border=\"1\" class=\"dataframe\">\n  <thead>\n    <tr style=\"text-align: right;\">\n      <th></th>\n      <th>slow_K5</th>\n      <th>slow_D5</th>\n      <th>Signal</th>\n      <th>Valid</th>\n      <th>Verif_raw_sig</th>\n    </tr>\n    <tr>\n      <th>Lindex</th>\n      <th></th>\n      <th></th>\n      <th></th>\n      <th></th>\n      <th></th>\n    </tr>\n  </thead>\n  <tbody>\n    <tr>\n      <th>2021-02-26 19:40:00</th>\n      <td>8.542570</td>\n      <td>17.646010</td>\n      <td>0</td>\n      <td>1</td>\n      <td>0</td>\n    </tr>\n    <tr>\n      <th>2021-02-26 19:45:00</th>\n      <td>13.157169</td>\n      <td>13.026805</td>\n      <td>1</td>\n      <td>1</td>\n      <td>1</td>\n    </tr>\n  </tbody>\n</table>\n</div>"
     },
     "metadata": {},
     "execution_count": 7
    }
   ],
   "source": [
    "df_all_oos[(df_all_oos.index>='2021-02-26 19:40:00')&(df_all_oos.index<='2021-02-26 19:45:00')][['slow_K5','slow_D5','Signal','Valid','Verif_raw_sig']]"
   ]
  },
  {
   "cell_type": "code",
   "execution_count": 8,
   "metadata": {},
   "outputs": [
    {
     "output_type": "execute_result",
     "data": {
      "text/plain": [
       "1664"
      ]
     },
     "metadata": {},
     "execution_count": 8
    }
   ],
   "source": [
    "_model.predict(feature_api.drop(['Date','Symbol','Signal'],axis=1)).sum()"
   ]
  },
  {
   "cell_type": "code",
   "execution_count": 9,
   "metadata": {},
   "outputs": [
    {
     "output_type": "execute_result",
     "data": {
      "text/plain": [
       "1683"
      ]
     },
     "metadata": {},
     "execution_count": 9
    }
   ],
   "source": [
    "_model.predict(feature_hdd.drop(['Date','Symbol','Signal'],axis=1)).sum()"
   ]
  },
  {
   "cell_type": "code",
   "execution_count": null,
   "metadata": {},
   "outputs": [],
   "source": []
  },
  {
   "cell_type": "code",
   "execution_count": 10,
   "metadata": {},
   "outputs": [
    {
     "output_type": "execute_result",
     "data": {
      "text/plain": [
       "              2021-02-26 19:40:00  2021-02-26 19:45:00\n",
       "FEMA_21              0.000000e+00         0.000000e+00\n",
       "FEMA_8               0.000000e+00         0.000000e+00\n",
       "FADRLo               0.000000e+00         0.000000e+00\n",
       "FADRHi               0.000000e+00         0.000000e+00\n",
       "FRVI40               0.000000e+00         0.000000e+00\n",
       "FRVI60               0.000000e+00         0.000000e+00\n",
       "FONLOSMA5            0.000000e+00         0.000000e+00\n",
       "FONHISMA5            0.000000e+00         0.000000e+00\n",
       "FONLOSMA21           0.000000e+00         0.000000e+00\n",
       "FONHISMA21           0.000000e+00         0.000000e+00\n",
       "FONLOSMA34           0.000000e+00         0.000000e+00\n",
       "FONHISMA34           3.552714e-15         3.552714e-15\n",
       "FSBGAMMA             0.000000e+00         0.000000e+00\n",
       "FOPENWEEKLY          0.000000e+00         0.000000e+00\n",
       "FHIGHWEEKLY          0.000000e+00         0.000000e+00\n",
       "FLOWWEEKLY           0.000000e+00         0.000000e+00\n",
       "FCLOSEWEEKLY         0.000000e+00         0.000000e+00\n",
       "FOPENDAILY           0.000000e+00         0.000000e+00\n",
       "FHIGHDAILY           0.000000e+00         0.000000e+00\n",
       "FLOWDAILY            0.000000e+00         0.000000e+00\n",
       "FCLOSEDAILY          0.000000e+00         0.000000e+00\n",
       "FOPENHOURLY          0.000000e+00         0.000000e+00\n",
       "FHIGHHOURLY          0.000000e+00         0.000000e+00\n",
       "FLOWHOURLY           0.000000e+00         0.000000e+00\n",
       "FCLOSEHOURLY         0.000000e+00         0.000000e+00\n",
       "FSMA200              0.000000e+00         0.000000e+00\n",
       "FBOLUP20             0.000000e+00         0.000000e+00\n",
       "FBOLLOW20            1.443290e-13         1.589839e-13\n",
       "FPP                  0.000000e+00         0.000000e+00\n",
       "FS38                 0.000000e+00         0.000000e+00\n",
       "FS62                 0.000000e+00         0.000000e+00\n",
       "FS100                0.000000e+00         0.000000e+00\n",
       "FS138                0.000000e+00         0.000000e+00\n",
       "FS162               -2.147567e-04        -2.147567e-04\n",
       "FS200                0.000000e+00         0.000000e+00\n",
       "FR38                 0.000000e+00         0.000000e+00\n",
       "FR62                 0.000000e+00         0.000000e+00\n",
       "FR100                0.000000e+00         0.000000e+00\n",
       "FR138                0.000000e+00         0.000000e+00\n",
       "FR162                0.000000e+00         0.000000e+00\n",
       "FR200                0.000000e+00         0.000000e+00\n",
       "SBATR                0.000000e+00         0.000000e+00\n",
       "Signal               0.000000e+00         0.000000e+00"
      ],
      "text/html": "<div>\n<style scoped>\n    .dataframe tbody tr th:only-of-type {\n        vertical-align: middle;\n    }\n\n    .dataframe tbody tr th {\n        vertical-align: top;\n    }\n\n    .dataframe thead th {\n        text-align: right;\n    }\n</style>\n<table border=\"1\" class=\"dataframe\">\n  <thead>\n    <tr style=\"text-align: right;\">\n      <th></th>\n      <th>2021-02-26 19:40:00</th>\n      <th>2021-02-26 19:45:00</th>\n    </tr>\n  </thead>\n  <tbody>\n    <tr>\n      <th>FEMA_21</th>\n      <td>0.000000e+00</td>\n      <td>0.000000e+00</td>\n    </tr>\n    <tr>\n      <th>FEMA_8</th>\n      <td>0.000000e+00</td>\n      <td>0.000000e+00</td>\n    </tr>\n    <tr>\n      <th>FADRLo</th>\n      <td>0.000000e+00</td>\n      <td>0.000000e+00</td>\n    </tr>\n    <tr>\n      <th>FADRHi</th>\n      <td>0.000000e+00</td>\n      <td>0.000000e+00</td>\n    </tr>\n    <tr>\n      <th>FRVI40</th>\n      <td>0.000000e+00</td>\n      <td>0.000000e+00</td>\n    </tr>\n    <tr>\n      <th>FRVI60</th>\n      <td>0.000000e+00</td>\n      <td>0.000000e+00</td>\n    </tr>\n    <tr>\n      <th>FONLOSMA5</th>\n      <td>0.000000e+00</td>\n      <td>0.000000e+00</td>\n    </tr>\n    <tr>\n      <th>FONHISMA5</th>\n      <td>0.000000e+00</td>\n      <td>0.000000e+00</td>\n    </tr>\n    <tr>\n      <th>FONLOSMA21</th>\n      <td>0.000000e+00</td>\n      <td>0.000000e+00</td>\n    </tr>\n    <tr>\n      <th>FONHISMA21</th>\n      <td>0.000000e+00</td>\n      <td>0.000000e+00</td>\n    </tr>\n    <tr>\n      <th>FONLOSMA34</th>\n      <td>0.000000e+00</td>\n      <td>0.000000e+00</td>\n    </tr>\n    <tr>\n      <th>FONHISMA34</th>\n      <td>3.552714e-15</td>\n      <td>3.552714e-15</td>\n    </tr>\n    <tr>\n      <th>FSBGAMMA</th>\n      <td>0.000000e+00</td>\n      <td>0.000000e+00</td>\n    </tr>\n    <tr>\n      <th>FOPENWEEKLY</th>\n      <td>0.000000e+00</td>\n      <td>0.000000e+00</td>\n    </tr>\n    <tr>\n      <th>FHIGHWEEKLY</th>\n      <td>0.000000e+00</td>\n      <td>0.000000e+00</td>\n    </tr>\n    <tr>\n      <th>FLOWWEEKLY</th>\n      <td>0.000000e+00</td>\n      <td>0.000000e+00</td>\n    </tr>\n    <tr>\n      <th>FCLOSEWEEKLY</th>\n      <td>0.000000e+00</td>\n      <td>0.000000e+00</td>\n    </tr>\n    <tr>\n      <th>FOPENDAILY</th>\n      <td>0.000000e+00</td>\n      <td>0.000000e+00</td>\n    </tr>\n    <tr>\n      <th>FHIGHDAILY</th>\n      <td>0.000000e+00</td>\n      <td>0.000000e+00</td>\n    </tr>\n    <tr>\n      <th>FLOWDAILY</th>\n      <td>0.000000e+00</td>\n      <td>0.000000e+00</td>\n    </tr>\n    <tr>\n      <th>FCLOSEDAILY</th>\n      <td>0.000000e+00</td>\n      <td>0.000000e+00</td>\n    </tr>\n    <tr>\n      <th>FOPENHOURLY</th>\n      <td>0.000000e+00</td>\n      <td>0.000000e+00</td>\n    </tr>\n    <tr>\n      <th>FHIGHHOURLY</th>\n      <td>0.000000e+00</td>\n      <td>0.000000e+00</td>\n    </tr>\n    <tr>\n      <th>FLOWHOURLY</th>\n      <td>0.000000e+00</td>\n      <td>0.000000e+00</td>\n    </tr>\n    <tr>\n      <th>FCLOSEHOURLY</th>\n      <td>0.000000e+00</td>\n      <td>0.000000e+00</td>\n    </tr>\n    <tr>\n      <th>FSMA200</th>\n      <td>0.000000e+00</td>\n      <td>0.000000e+00</td>\n    </tr>\n    <tr>\n      <th>FBOLUP20</th>\n      <td>0.000000e+00</td>\n      <td>0.000000e+00</td>\n    </tr>\n    <tr>\n      <th>FBOLLOW20</th>\n      <td>1.443290e-13</td>\n      <td>1.589839e-13</td>\n    </tr>\n    <tr>\n      <th>FPP</th>\n      <td>0.000000e+00</td>\n      <td>0.000000e+00</td>\n    </tr>\n    <tr>\n      <th>FS38</th>\n      <td>0.000000e+00</td>\n      <td>0.000000e+00</td>\n    </tr>\n    <tr>\n      <th>FS62</th>\n      <td>0.000000e+00</td>\n      <td>0.000000e+00</td>\n    </tr>\n    <tr>\n      <th>FS100</th>\n      <td>0.000000e+00</td>\n      <td>0.000000e+00</td>\n    </tr>\n    <tr>\n      <th>FS138</th>\n      <td>0.000000e+00</td>\n      <td>0.000000e+00</td>\n    </tr>\n    <tr>\n      <th>FS162</th>\n      <td>-2.147567e-04</td>\n      <td>-2.147567e-04</td>\n    </tr>\n    <tr>\n      <th>FS200</th>\n      <td>0.000000e+00</td>\n      <td>0.000000e+00</td>\n    </tr>\n    <tr>\n      <th>FR38</th>\n      <td>0.000000e+00</td>\n      <td>0.000000e+00</td>\n    </tr>\n    <tr>\n      <th>FR62</th>\n      <td>0.000000e+00</td>\n      <td>0.000000e+00</td>\n    </tr>\n    <tr>\n      <th>FR100</th>\n      <td>0.000000e+00</td>\n      <td>0.000000e+00</td>\n    </tr>\n    <tr>\n      <th>FR138</th>\n      <td>0.000000e+00</td>\n      <td>0.000000e+00</td>\n    </tr>\n    <tr>\n      <th>FR162</th>\n      <td>0.000000e+00</td>\n      <td>0.000000e+00</td>\n    </tr>\n    <tr>\n      <th>FR200</th>\n      <td>0.000000e+00</td>\n      <td>0.000000e+00</td>\n    </tr>\n    <tr>\n      <th>SBATR</th>\n      <td>0.000000e+00</td>\n      <td>0.000000e+00</td>\n    </tr>\n    <tr>\n      <th>Signal</th>\n      <td>0.000000e+00</td>\n      <td>0.000000e+00</td>\n    </tr>\n  </tbody>\n</table>\n</div>"
     },
     "metadata": {},
     "execution_count": 10
    }
   ],
   "source": [
    "(quantile(scaling(featuring(verif[(verif.index>='2021-02-26 19:40:00')&(verif.index<='2021-02-26 19:45:00')]).drop(['Date','Symbol'],axis=1),scaler),quantile_transform)-quantile(scaling(featuring(df_all_oos[(df_all_oos.index>='2021-02-26 19:40:00')&(df_all_oos.index<='2021-02-26 19:45:00')]).drop(['Date','Symbol'],axis=1),scaler),quantile_transform)).T"
   ]
  },
  {
   "cell_type": "code",
   "execution_count": null,
   "metadata": {},
   "outputs": [],
   "source": []
  },
  {
   "cell_type": "code",
   "execution_count": 11,
   "metadata": {},
   "outputs": [
    {
     "output_type": "execute_result",
     "data": {
      "text/plain": [
       "                     OpenBid  HighBid   LowBid  CloseBid  OpenAsk  HighAsk  \\\n",
       "Lindex                                                                       \n",
       "2021-01-04 00:10:00  1.73966  1.73991  1.73953   1.73979  1.74024  1.74045   \n",
       "2021-01-04 02:00:00  1.73843  1.73881  1.73833   1.73873  1.73888  1.73925   \n",
       "2021-01-04 04:35:00  1.73742  1.73777  1.73713   1.73773  1.73785  1.73820   \n",
       "2021-01-04 05:50:00  1.73869  1.73869  1.73816   1.73824  1.73913  1.73913   \n",
       "2021-01-04 09:20:00  1.73615  1.73633  1.73450   1.73459  1.73652  1.73667   \n",
       "...                      ...      ...      ...       ...      ...      ...   \n",
       "2021-03-01 16:55:00  1.76428  1.76434  1.76326   1.76331  1.76457  1.76466   \n",
       "2021-03-01 18:00:00  1.76231  1.76240  1.76170   1.76187  1.76264  1.76273   \n",
       "2021-03-01 19:20:00  1.76163  1.76183  1.76146   1.76173  1.76195  1.76216   \n",
       "2021-03-01 21:15:00  1.76060  1.76113  1.76060   1.76113  1.76111  1.76150   \n",
       "2021-03-01 21:45:00  1.76039  1.76089  1.76026   1.76029  1.76080  1.76136   \n",
       "\n",
       "                      LowAsk  CloseAsk  Symbol      Open  ...  High_weekly  \\\n",
       "Lindex                                                    ...                \n",
       "2021-01-04 00:10:00  1.74009   1.74036  GBPCAD  1.739950  ...      1.74131   \n",
       "2021-01-04 02:00:00  1.73878   1.73920  GBPCAD  1.738655  ...      1.74131   \n",
       "2021-01-04 04:35:00  1.73757   1.73809  GBPCAD  1.737635  ...      1.74131   \n",
       "2021-01-04 05:50:00  1.73854   1.73866  GBPCAD  1.738910  ...      1.74131   \n",
       "2021-01-04 09:20:00  1.73482   1.73492  GBPCAD  1.736335  ...      1.74131   \n",
       "...                      ...       ...     ...       ...  ...          ...   \n",
       "2021-03-01 16:55:00  1.76357   1.76363  GBPCAD  1.764425  ...      1.77793   \n",
       "2021-03-01 18:00:00  1.76204   1.76222  GBPCAD  1.762475  ...      1.77793   \n",
       "2021-03-01 19:20:00  1.76178   1.76204  GBPCAD  1.761790  ...      1.77793   \n",
       "2021-03-01 21:15:00  1.76105   1.76150  GBPCAD  1.760855  ...      1.77793   \n",
       "2021-03-01 21:45:00  1.76078   1.76085  GBPCAD  1.760595  ...      1.77793   \n",
       "\n",
       "                     Low_weekly  Close_weekly Open_daily  High_daily  \\\n",
       "Lindex                                                                 \n",
       "2021-01-04 00:10:00    1.718890      1.722470   1.740735     1.74131   \n",
       "2021-01-04 02:00:00    1.718890      1.722470   1.740735     1.74131   \n",
       "2021-01-04 04:35:00    1.718890      1.722470   1.740735     1.74131   \n",
       "2021-01-04 05:50:00    1.718890      1.722470   1.740735     1.74131   \n",
       "2021-01-04 09:20:00    1.718890      1.722470   1.740735     1.74131   \n",
       "...                         ...           ...        ...         ...   \n",
       "2021-03-01 16:55:00    1.760045      1.760765   1.774350     1.77793   \n",
       "2021-03-01 18:00:00    1.760045      1.760765   1.774350     1.77793   \n",
       "2021-03-01 19:20:00    1.760045      1.760765   1.774350     1.77793   \n",
       "2021-03-01 21:15:00    1.760045      1.760765   1.774350     1.77793   \n",
       "2021-03-01 21:45:00    1.760045      1.760765   1.774350     1.77793   \n",
       "\n",
       "                     Low_daily  Close_daily  Signal  Valid  Verif_raw_sig  \n",
       "Lindex                                                                     \n",
       "2021-01-04 00:10:00   1.724660     1.734575       0      0              1  \n",
       "2021-01-04 02:00:00   1.724660     1.734575       0      0              1  \n",
       "2021-01-04 04:35:00   1.724660     1.734575       0      0              1  \n",
       "2021-01-04 05:50:00   1.724660     1.734575       0      0             -1  \n",
       "2021-01-04 09:20:00   1.724660     1.734575       0      0              1  \n",
       "...                        ...          ...     ...    ...            ...  \n",
       "2021-03-01 16:55:00   1.760045     1.760765       0      0              1  \n",
       "2021-03-01 18:00:00   1.760045     1.760765       0      0              1  \n",
       "2021-03-01 19:20:00   1.760045     1.760765       0      0              1  \n",
       "2021-03-01 21:15:00   1.760045     1.760765       0      0              1  \n",
       "2021-03-01 21:45:00   1.760045     1.760765       1      1              1  \n",
       "\n",
       "[480 rows x 59 columns]"
      ],
      "text/html": "<div>\n<style scoped>\n    .dataframe tbody tr th:only-of-type {\n        vertical-align: middle;\n    }\n\n    .dataframe tbody tr th {\n        vertical-align: top;\n    }\n\n    .dataframe thead th {\n        text-align: right;\n    }\n</style>\n<table border=\"1\" class=\"dataframe\">\n  <thead>\n    <tr style=\"text-align: right;\">\n      <th></th>\n      <th>OpenBid</th>\n      <th>HighBid</th>\n      <th>LowBid</th>\n      <th>CloseBid</th>\n      <th>OpenAsk</th>\n      <th>HighAsk</th>\n      <th>LowAsk</th>\n      <th>CloseAsk</th>\n      <th>Symbol</th>\n      <th>Open</th>\n      <th>...</th>\n      <th>High_weekly</th>\n      <th>Low_weekly</th>\n      <th>Close_weekly</th>\n      <th>Open_daily</th>\n      <th>High_daily</th>\n      <th>Low_daily</th>\n      <th>Close_daily</th>\n      <th>Signal</th>\n      <th>Valid</th>\n      <th>Verif_raw_sig</th>\n    </tr>\n    <tr>\n      <th>Lindex</th>\n      <th></th>\n      <th></th>\n      <th></th>\n      <th></th>\n      <th></th>\n      <th></th>\n      <th></th>\n      <th></th>\n      <th></th>\n      <th></th>\n      <th></th>\n      <th></th>\n      <th></th>\n      <th></th>\n      <th></th>\n      <th></th>\n      <th></th>\n      <th></th>\n      <th></th>\n      <th></th>\n      <th></th>\n    </tr>\n  </thead>\n  <tbody>\n    <tr>\n      <th>2021-01-04 00:10:00</th>\n      <td>1.73966</td>\n      <td>1.73991</td>\n      <td>1.73953</td>\n      <td>1.73979</td>\n      <td>1.74024</td>\n      <td>1.74045</td>\n      <td>1.74009</td>\n      <td>1.74036</td>\n      <td>GBPCAD</td>\n      <td>1.739950</td>\n      <td>...</td>\n      <td>1.74131</td>\n      <td>1.718890</td>\n      <td>1.722470</td>\n      <td>1.740735</td>\n      <td>1.74131</td>\n      <td>1.724660</td>\n      <td>1.734575</td>\n      <td>0</td>\n      <td>0</td>\n      <td>1</td>\n    </tr>\n    <tr>\n      <th>2021-01-04 02:00:00</th>\n      <td>1.73843</td>\n      <td>1.73881</td>\n      <td>1.73833</td>\n      <td>1.73873</td>\n      <td>1.73888</td>\n      <td>1.73925</td>\n      <td>1.73878</td>\n      <td>1.73920</td>\n      <td>GBPCAD</td>\n      <td>1.738655</td>\n      <td>...</td>\n      <td>1.74131</td>\n      <td>1.718890</td>\n      <td>1.722470</td>\n      <td>1.740735</td>\n      <td>1.74131</td>\n      <td>1.724660</td>\n      <td>1.734575</td>\n      <td>0</td>\n      <td>0</td>\n      <td>1</td>\n    </tr>\n    <tr>\n      <th>2021-01-04 04:35:00</th>\n      <td>1.73742</td>\n      <td>1.73777</td>\n      <td>1.73713</td>\n      <td>1.73773</td>\n      <td>1.73785</td>\n      <td>1.73820</td>\n      <td>1.73757</td>\n      <td>1.73809</td>\n      <td>GBPCAD</td>\n      <td>1.737635</td>\n      <td>...</td>\n      <td>1.74131</td>\n      <td>1.718890</td>\n      <td>1.722470</td>\n      <td>1.740735</td>\n      <td>1.74131</td>\n      <td>1.724660</td>\n      <td>1.734575</td>\n      <td>0</td>\n      <td>0</td>\n      <td>1</td>\n    </tr>\n    <tr>\n      <th>2021-01-04 05:50:00</th>\n      <td>1.73869</td>\n      <td>1.73869</td>\n      <td>1.73816</td>\n      <td>1.73824</td>\n      <td>1.73913</td>\n      <td>1.73913</td>\n      <td>1.73854</td>\n      <td>1.73866</td>\n      <td>GBPCAD</td>\n      <td>1.738910</td>\n      <td>...</td>\n      <td>1.74131</td>\n      <td>1.718890</td>\n      <td>1.722470</td>\n      <td>1.740735</td>\n      <td>1.74131</td>\n      <td>1.724660</td>\n      <td>1.734575</td>\n      <td>0</td>\n      <td>0</td>\n      <td>-1</td>\n    </tr>\n    <tr>\n      <th>2021-01-04 09:20:00</th>\n      <td>1.73615</td>\n      <td>1.73633</td>\n      <td>1.73450</td>\n      <td>1.73459</td>\n      <td>1.73652</td>\n      <td>1.73667</td>\n      <td>1.73482</td>\n      <td>1.73492</td>\n      <td>GBPCAD</td>\n      <td>1.736335</td>\n      <td>...</td>\n      <td>1.74131</td>\n      <td>1.718890</td>\n      <td>1.722470</td>\n      <td>1.740735</td>\n      <td>1.74131</td>\n      <td>1.724660</td>\n      <td>1.734575</td>\n      <td>0</td>\n      <td>0</td>\n      <td>1</td>\n    </tr>\n    <tr>\n      <th>...</th>\n      <td>...</td>\n      <td>...</td>\n      <td>...</td>\n      <td>...</td>\n      <td>...</td>\n      <td>...</td>\n      <td>...</td>\n      <td>...</td>\n      <td>...</td>\n      <td>...</td>\n      <td>...</td>\n      <td>...</td>\n      <td>...</td>\n      <td>...</td>\n      <td>...</td>\n      <td>...</td>\n      <td>...</td>\n      <td>...</td>\n      <td>...</td>\n      <td>...</td>\n      <td>...</td>\n    </tr>\n    <tr>\n      <th>2021-03-01 16:55:00</th>\n      <td>1.76428</td>\n      <td>1.76434</td>\n      <td>1.76326</td>\n      <td>1.76331</td>\n      <td>1.76457</td>\n      <td>1.76466</td>\n      <td>1.76357</td>\n      <td>1.76363</td>\n      <td>GBPCAD</td>\n      <td>1.764425</td>\n      <td>...</td>\n      <td>1.77793</td>\n      <td>1.760045</td>\n      <td>1.760765</td>\n      <td>1.774350</td>\n      <td>1.77793</td>\n      <td>1.760045</td>\n      <td>1.760765</td>\n      <td>0</td>\n      <td>0</td>\n      <td>1</td>\n    </tr>\n    <tr>\n      <th>2021-03-01 18:00:00</th>\n      <td>1.76231</td>\n      <td>1.76240</td>\n      <td>1.76170</td>\n      <td>1.76187</td>\n      <td>1.76264</td>\n      <td>1.76273</td>\n      <td>1.76204</td>\n      <td>1.76222</td>\n      <td>GBPCAD</td>\n      <td>1.762475</td>\n      <td>...</td>\n      <td>1.77793</td>\n      <td>1.760045</td>\n      <td>1.760765</td>\n      <td>1.774350</td>\n      <td>1.77793</td>\n      <td>1.760045</td>\n      <td>1.760765</td>\n      <td>0</td>\n      <td>0</td>\n      <td>1</td>\n    </tr>\n    <tr>\n      <th>2021-03-01 19:20:00</th>\n      <td>1.76163</td>\n      <td>1.76183</td>\n      <td>1.76146</td>\n      <td>1.76173</td>\n      <td>1.76195</td>\n      <td>1.76216</td>\n      <td>1.76178</td>\n      <td>1.76204</td>\n      <td>GBPCAD</td>\n      <td>1.761790</td>\n      <td>...</td>\n      <td>1.77793</td>\n      <td>1.760045</td>\n      <td>1.760765</td>\n      <td>1.774350</td>\n      <td>1.77793</td>\n      <td>1.760045</td>\n      <td>1.760765</td>\n      <td>0</td>\n      <td>0</td>\n      <td>1</td>\n    </tr>\n    <tr>\n      <th>2021-03-01 21:15:00</th>\n      <td>1.76060</td>\n      <td>1.76113</td>\n      <td>1.76060</td>\n      <td>1.76113</td>\n      <td>1.76111</td>\n      <td>1.76150</td>\n      <td>1.76105</td>\n      <td>1.76150</td>\n      <td>GBPCAD</td>\n      <td>1.760855</td>\n      <td>...</td>\n      <td>1.77793</td>\n      <td>1.760045</td>\n      <td>1.760765</td>\n      <td>1.774350</td>\n      <td>1.77793</td>\n      <td>1.760045</td>\n      <td>1.760765</td>\n      <td>0</td>\n      <td>0</td>\n      <td>1</td>\n    </tr>\n    <tr>\n      <th>2021-03-01 21:45:00</th>\n      <td>1.76039</td>\n      <td>1.76089</td>\n      <td>1.76026</td>\n      <td>1.76029</td>\n      <td>1.76080</td>\n      <td>1.76136</td>\n      <td>1.76078</td>\n      <td>1.76085</td>\n      <td>GBPCAD</td>\n      <td>1.760595</td>\n      <td>...</td>\n      <td>1.77793</td>\n      <td>1.760045</td>\n      <td>1.760765</td>\n      <td>1.774350</td>\n      <td>1.77793</td>\n      <td>1.760045</td>\n      <td>1.760765</td>\n      <td>1</td>\n      <td>1</td>\n      <td>1</td>\n    </tr>\n  </tbody>\n</table>\n<p>480 rows × 59 columns</p>\n</div>"
     },
     "metadata": {},
     "execution_count": 11
    }
   ],
   "source": [
    "df_all_oos[df_all_oos.Verif_raw_sig!=0]"
   ]
  },
  {
   "cell_type": "code",
   "execution_count": 12,
   "metadata": {},
   "outputs": [
    {
     "output_type": "execute_result",
     "data": {
      "text/plain": [
       "Lindex         2021-01-04 15:30:00  2021-01-04 15:35:00  2021-01-04 15:40:00\n",
       "OpenBid                    1.72744              1.72761              1.72909\n",
       "HighBid                    1.72811               1.7293              1.72909\n",
       "LowBid                     1.72692              1.72758               1.7272\n",
       "CloseBid                   1.72761              1.72909              1.72734\n",
       "OpenAsk                    1.72783              1.72803              1.72948\n",
       "HighAsk                    1.72846              1.72968              1.72948\n",
       "LowAsk                     1.72734              1.72797               1.7276\n",
       "CloseAsk                   1.72803              1.72948              1.72772\n",
       "Symbol                      GBPCAD               GBPCAD               GBPCAD\n",
       "Open                       1.72764              1.72782              1.72928\n",
       "High                       1.72828              1.72949              1.72928\n",
       "Low                        1.72713              1.72777               1.7274\n",
       "Close                      1.72782              1.72928              1.72753\n",
       "Date           2021-01-04 00:00:00  2021-01-04 00:00:00  2021-01-04 00:00:00\n",
       "ADR                      0.0155757            0.0155757            0.0155757\n",
       "DayHigh                    1.74131              1.74131              1.74131\n",
       "DayLow                     1.72466              1.72466              1.72466\n",
       "ADR_High                   1.74024              1.74024              1.74024\n",
       "ADR_Low                    1.72573              1.72573              1.72573\n",
       "SMA_200                     1.7366              1.73653              1.73646\n",
       "UpperBand                  1.73312              1.73303              1.73289\n",
       "LowerBand                  1.72599              1.72596              1.72575\n",
       "slow_K5                    76.9861              77.1704              60.1015\n",
       "slow_D5                    73.5925              76.4836              71.4193\n",
       "EMA_21                     1.72942              1.72941              1.72924\n",
       "EMA_8                      1.72823              1.72846              1.72826\n",
       "PP                         1.73752              1.73752              1.73752\n",
       "S38                         1.7303               1.7303               1.7303\n",
       "S62                        1.72584              1.72584              1.72584\n",
       "S100                       1.71862              1.71862              1.71862\n",
       "S138                        1.7114               1.7114               1.7114\n",
       "S162                       1.70694              1.70694              1.70694\n",
       "S200                       1.69972              1.69972              1.69972\n",
       "R38                        1.74474              1.74474              1.74474\n",
       "R62                         1.7492               1.7492               1.7492\n",
       "R100                       1.75642              1.75642              1.75642\n",
       "R138                       1.76364              1.76364              1.76364\n",
       "R162                        1.7681               1.7681               1.7681\n",
       "R200                       1.77532              1.77532              1.77532\n",
       "ATR_14                   0.0014947           0.00151044           0.00153719\n",
       "RVI                        60.3625              53.8951              48.3235\n",
       "SB_Gamma                 -0.154167              7.91892             -1.19795\n",
       "ONHISMA_5                  1.72861              1.72889              1.72899\n",
       "ONLOSMA_5                  1.72692              1.72754              1.72754\n",
       "ONHISMA_21                 1.73032              1.73024              1.73015\n",
       "ONLOSMA_21                 1.72889              1.72878              1.72864\n",
       "ONHISMA_34                 1.73145              1.73128              1.73111\n",
       "ONLOSMA_34                 1.73001              1.72985              1.72966\n",
       "Open_weekly                1.74073              1.74073              1.74073\n",
       "High_weekly                1.74131              1.74131              1.74131\n",
       "Low_weekly                 1.71889              1.71889              1.71889\n",
       "Close_weekly               1.72247              1.72247              1.72247\n",
       "Open_daily                 1.74073              1.74073              1.74073\n",
       "High_daily                 1.74131              1.74131              1.74131\n",
       "Low_daily                  1.72466              1.72466              1.72466\n",
       "Close_daily                1.73457              1.73457              1.73457\n",
       "Signal                           0                    0                    0\n",
       "Valid                            0                    0                    0\n",
       "Verif_raw_sig                    0                    0                    0"
      ],
      "text/html": "<div>\n<style scoped>\n    .dataframe tbody tr th:only-of-type {\n        vertical-align: middle;\n    }\n\n    .dataframe tbody tr th {\n        vertical-align: top;\n    }\n\n    .dataframe thead th {\n        text-align: right;\n    }\n</style>\n<table border=\"1\" class=\"dataframe\">\n  <thead>\n    <tr style=\"text-align: right;\">\n      <th>Lindex</th>\n      <th>2021-01-04 15:30:00</th>\n      <th>2021-01-04 15:35:00</th>\n      <th>2021-01-04 15:40:00</th>\n    </tr>\n  </thead>\n  <tbody>\n    <tr>\n      <th>OpenBid</th>\n      <td>1.72744</td>\n      <td>1.72761</td>\n      <td>1.72909</td>\n    </tr>\n    <tr>\n      <th>HighBid</th>\n      <td>1.72811</td>\n      <td>1.7293</td>\n      <td>1.72909</td>\n    </tr>\n    <tr>\n      <th>LowBid</th>\n      <td>1.72692</td>\n      <td>1.72758</td>\n      <td>1.7272</td>\n    </tr>\n    <tr>\n      <th>CloseBid</th>\n      <td>1.72761</td>\n      <td>1.72909</td>\n      <td>1.72734</td>\n    </tr>\n    <tr>\n      <th>OpenAsk</th>\n      <td>1.72783</td>\n      <td>1.72803</td>\n      <td>1.72948</td>\n    </tr>\n    <tr>\n      <th>HighAsk</th>\n      <td>1.72846</td>\n      <td>1.72968</td>\n      <td>1.72948</td>\n    </tr>\n    <tr>\n      <th>LowAsk</th>\n      <td>1.72734</td>\n      <td>1.72797</td>\n      <td>1.7276</td>\n    </tr>\n    <tr>\n      <th>CloseAsk</th>\n      <td>1.72803</td>\n      <td>1.72948</td>\n      <td>1.72772</td>\n    </tr>\n    <tr>\n      <th>Symbol</th>\n      <td>GBPCAD</td>\n      <td>GBPCAD</td>\n      <td>GBPCAD</td>\n    </tr>\n    <tr>\n      <th>Open</th>\n      <td>1.72764</td>\n      <td>1.72782</td>\n      <td>1.72928</td>\n    </tr>\n    <tr>\n      <th>High</th>\n      <td>1.72828</td>\n      <td>1.72949</td>\n      <td>1.72928</td>\n    </tr>\n    <tr>\n      <th>Low</th>\n      <td>1.72713</td>\n      <td>1.72777</td>\n      <td>1.7274</td>\n    </tr>\n    <tr>\n      <th>Close</th>\n      <td>1.72782</td>\n      <td>1.72928</td>\n      <td>1.72753</td>\n    </tr>\n    <tr>\n      <th>Date</th>\n      <td>2021-01-04 00:00:00</td>\n      <td>2021-01-04 00:00:00</td>\n      <td>2021-01-04 00:00:00</td>\n    </tr>\n    <tr>\n      <th>ADR</th>\n      <td>0.0155757</td>\n      <td>0.0155757</td>\n      <td>0.0155757</td>\n    </tr>\n    <tr>\n      <th>DayHigh</th>\n      <td>1.74131</td>\n      <td>1.74131</td>\n      <td>1.74131</td>\n    </tr>\n    <tr>\n      <th>DayLow</th>\n      <td>1.72466</td>\n      <td>1.72466</td>\n      <td>1.72466</td>\n    </tr>\n    <tr>\n      <th>ADR_High</th>\n      <td>1.74024</td>\n      <td>1.74024</td>\n      <td>1.74024</td>\n    </tr>\n    <tr>\n      <th>ADR_Low</th>\n      <td>1.72573</td>\n      <td>1.72573</td>\n      <td>1.72573</td>\n    </tr>\n    <tr>\n      <th>SMA_200</th>\n      <td>1.7366</td>\n      <td>1.73653</td>\n      <td>1.73646</td>\n    </tr>\n    <tr>\n      <th>UpperBand</th>\n      <td>1.73312</td>\n      <td>1.73303</td>\n      <td>1.73289</td>\n    </tr>\n    <tr>\n      <th>LowerBand</th>\n      <td>1.72599</td>\n      <td>1.72596</td>\n      <td>1.72575</td>\n    </tr>\n    <tr>\n      <th>slow_K5</th>\n      <td>76.9861</td>\n      <td>77.1704</td>\n      <td>60.1015</td>\n    </tr>\n    <tr>\n      <th>slow_D5</th>\n      <td>73.5925</td>\n      <td>76.4836</td>\n      <td>71.4193</td>\n    </tr>\n    <tr>\n      <th>EMA_21</th>\n      <td>1.72942</td>\n      <td>1.72941</td>\n      <td>1.72924</td>\n    </tr>\n    <tr>\n      <th>EMA_8</th>\n      <td>1.72823</td>\n      <td>1.72846</td>\n      <td>1.72826</td>\n    </tr>\n    <tr>\n      <th>PP</th>\n      <td>1.73752</td>\n      <td>1.73752</td>\n      <td>1.73752</td>\n    </tr>\n    <tr>\n      <th>S38</th>\n      <td>1.7303</td>\n      <td>1.7303</td>\n      <td>1.7303</td>\n    </tr>\n    <tr>\n      <th>S62</th>\n      <td>1.72584</td>\n      <td>1.72584</td>\n      <td>1.72584</td>\n    </tr>\n    <tr>\n      <th>S100</th>\n      <td>1.71862</td>\n      <td>1.71862</td>\n      <td>1.71862</td>\n    </tr>\n    <tr>\n      <th>S138</th>\n      <td>1.7114</td>\n      <td>1.7114</td>\n      <td>1.7114</td>\n    </tr>\n    <tr>\n      <th>S162</th>\n      <td>1.70694</td>\n      <td>1.70694</td>\n      <td>1.70694</td>\n    </tr>\n    <tr>\n      <th>S200</th>\n      <td>1.69972</td>\n      <td>1.69972</td>\n      <td>1.69972</td>\n    </tr>\n    <tr>\n      <th>R38</th>\n      <td>1.74474</td>\n      <td>1.74474</td>\n      <td>1.74474</td>\n    </tr>\n    <tr>\n      <th>R62</th>\n      <td>1.7492</td>\n      <td>1.7492</td>\n      <td>1.7492</td>\n    </tr>\n    <tr>\n      <th>R100</th>\n      <td>1.75642</td>\n      <td>1.75642</td>\n      <td>1.75642</td>\n    </tr>\n    <tr>\n      <th>R138</th>\n      <td>1.76364</td>\n      <td>1.76364</td>\n      <td>1.76364</td>\n    </tr>\n    <tr>\n      <th>R162</th>\n      <td>1.7681</td>\n      <td>1.7681</td>\n      <td>1.7681</td>\n    </tr>\n    <tr>\n      <th>R200</th>\n      <td>1.77532</td>\n      <td>1.77532</td>\n      <td>1.77532</td>\n    </tr>\n    <tr>\n      <th>ATR_14</th>\n      <td>0.0014947</td>\n      <td>0.00151044</td>\n      <td>0.00153719</td>\n    </tr>\n    <tr>\n      <th>RVI</th>\n      <td>60.3625</td>\n      <td>53.8951</td>\n      <td>48.3235</td>\n    </tr>\n    <tr>\n      <th>SB_Gamma</th>\n      <td>-0.154167</td>\n      <td>7.91892</td>\n      <td>-1.19795</td>\n    </tr>\n    <tr>\n      <th>ONHISMA_5</th>\n      <td>1.72861</td>\n      <td>1.72889</td>\n      <td>1.72899</td>\n    </tr>\n    <tr>\n      <th>ONLOSMA_5</th>\n      <td>1.72692</td>\n      <td>1.72754</td>\n      <td>1.72754</td>\n    </tr>\n    <tr>\n      <th>ONHISMA_21</th>\n      <td>1.73032</td>\n      <td>1.73024</td>\n      <td>1.73015</td>\n    </tr>\n    <tr>\n      <th>ONLOSMA_21</th>\n      <td>1.72889</td>\n      <td>1.72878</td>\n      <td>1.72864</td>\n    </tr>\n    <tr>\n      <th>ONHISMA_34</th>\n      <td>1.73145</td>\n      <td>1.73128</td>\n      <td>1.73111</td>\n    </tr>\n    <tr>\n      <th>ONLOSMA_34</th>\n      <td>1.73001</td>\n      <td>1.72985</td>\n      <td>1.72966</td>\n    </tr>\n    <tr>\n      <th>Open_weekly</th>\n      <td>1.74073</td>\n      <td>1.74073</td>\n      <td>1.74073</td>\n    </tr>\n    <tr>\n      <th>High_weekly</th>\n      <td>1.74131</td>\n      <td>1.74131</td>\n      <td>1.74131</td>\n    </tr>\n    <tr>\n      <th>Low_weekly</th>\n      <td>1.71889</td>\n      <td>1.71889</td>\n      <td>1.71889</td>\n    </tr>\n    <tr>\n      <th>Close_weekly</th>\n      <td>1.72247</td>\n      <td>1.72247</td>\n      <td>1.72247</td>\n    </tr>\n    <tr>\n      <th>Open_daily</th>\n      <td>1.74073</td>\n      <td>1.74073</td>\n      <td>1.74073</td>\n    </tr>\n    <tr>\n      <th>High_daily</th>\n      <td>1.74131</td>\n      <td>1.74131</td>\n      <td>1.74131</td>\n    </tr>\n    <tr>\n      <th>Low_daily</th>\n      <td>1.72466</td>\n      <td>1.72466</td>\n      <td>1.72466</td>\n    </tr>\n    <tr>\n      <th>Close_daily</th>\n      <td>1.73457</td>\n      <td>1.73457</td>\n      <td>1.73457</td>\n    </tr>\n    <tr>\n      <th>Signal</th>\n      <td>0</td>\n      <td>0</td>\n      <td>0</td>\n    </tr>\n    <tr>\n      <th>Valid</th>\n      <td>0</td>\n      <td>0</td>\n      <td>0</td>\n    </tr>\n    <tr>\n      <th>Verif_raw_sig</th>\n      <td>0</td>\n      <td>0</td>\n      <td>0</td>\n    </tr>\n  </tbody>\n</table>\n</div>"
     },
     "metadata": {},
     "execution_count": 12
    }
   ],
   "source": [
    "df_all_oos.iloc[186:189,:].T"
   ]
  },
  {
   "cell_type": "code",
   "execution_count": 13,
   "metadata": {},
   "outputs": [
    {
     "output_type": "execute_result",
     "data": {
      "text/plain": [
       "Lindex        2021-02-26 12:50:00\n",
       "OpenBid                   1.76516\n",
       "HighBid                    1.7659\n",
       "LowBid                    1.76421\n",
       "CloseBid                  1.76452\n",
       "OpenAsk                   1.76553\n",
       "HighAsk                   1.76622\n",
       "LowAsk                    1.76457\n",
       "CloseAsk                   1.7649\n",
       "Symbol                     GBPCAD\n",
       "Open                      1.76534\n",
       "High                      1.76606\n",
       "Low                       1.76439\n",
       "Close                     1.76471\n",
       "Date          2021-02-26 00:00:00\n",
       "ADR                    0.00942821\n",
       "DayHigh                   1.77601\n",
       "DayLow                    1.75524\n",
       "ADR_High                  1.76467\n",
       "ADR_Low                   1.75663\n",
       "SMA_200                   1.76249\n",
       "UpperBand                 1.76571\n",
       "LowerBand                 1.75922\n",
       "slow_K5                   80.1845\n",
       "slow_D5                   83.3878\n",
       "EMA_21                    1.76254\n",
       "EMA_8                     1.76409\n",
       "PP                        1.76623\n",
       "S38                       1.75914\n",
       "S62                       1.75476\n",
       "S100                      1.74767\n",
       "S138                      1.74058\n",
       "S162                       1.7362\n",
       "S200                      1.72911\n",
       "R38                       1.77332\n",
       "R62                        1.7777\n",
       "R100                      1.78479\n",
       "R138                      1.79188\n",
       "R162                      1.79626\n",
       "R200                      1.80335\n",
       "ATR_14                 0.00144464\n",
       "RVI                       66.2842\n",
       "SB_Gamma                  1.30928\n",
       "ONHISMA_5                 1.76541\n",
       "ONLOSMA_5                 1.76387\n",
       "ONHISMA_21                 1.7631\n",
       "ONLOSMA_21                1.76166\n",
       "ONHISMA_34                1.76173\n",
       "ONLOSMA_34                1.76024\n",
       "Open_weekly               1.76757\n",
       "High_weekly               1.78878\n",
       "Low_weekly                1.75524\n",
       "Close_weekly              1.77572\n",
       "Open_daily                1.76639\n",
       "High_daily                1.77601\n",
       "Low_daily                 1.75524\n",
       "Close_daily               1.77572\n",
       "Signal                         -1"
      ],
      "text/html": "<div>\n<style scoped>\n    .dataframe tbody tr th:only-of-type {\n        vertical-align: middle;\n    }\n\n    .dataframe tbody tr th {\n        vertical-align: top;\n    }\n\n    .dataframe thead th {\n        text-align: right;\n    }\n</style>\n<table border=\"1\" class=\"dataframe\">\n  <thead>\n    <tr style=\"text-align: right;\">\n      <th>Lindex</th>\n      <th>2021-02-26 12:50:00</th>\n    </tr>\n  </thead>\n  <tbody>\n    <tr>\n      <th>OpenBid</th>\n      <td>1.76516</td>\n    </tr>\n    <tr>\n      <th>HighBid</th>\n      <td>1.7659</td>\n    </tr>\n    <tr>\n      <th>LowBid</th>\n      <td>1.76421</td>\n    </tr>\n    <tr>\n      <th>CloseBid</th>\n      <td>1.76452</td>\n    </tr>\n    <tr>\n      <th>OpenAsk</th>\n      <td>1.76553</td>\n    </tr>\n    <tr>\n      <th>HighAsk</th>\n      <td>1.76622</td>\n    </tr>\n    <tr>\n      <th>LowAsk</th>\n      <td>1.76457</td>\n    </tr>\n    <tr>\n      <th>CloseAsk</th>\n      <td>1.7649</td>\n    </tr>\n    <tr>\n      <th>Symbol</th>\n      <td>GBPCAD</td>\n    </tr>\n    <tr>\n      <th>Open</th>\n      <td>1.76534</td>\n    </tr>\n    <tr>\n      <th>High</th>\n      <td>1.76606</td>\n    </tr>\n    <tr>\n      <th>Low</th>\n      <td>1.76439</td>\n    </tr>\n    <tr>\n      <th>Close</th>\n      <td>1.76471</td>\n    </tr>\n    <tr>\n      <th>Date</th>\n      <td>2021-02-26 00:00:00</td>\n    </tr>\n    <tr>\n      <th>ADR</th>\n      <td>0.00942821</td>\n    </tr>\n    <tr>\n      <th>DayHigh</th>\n      <td>1.77601</td>\n    </tr>\n    <tr>\n      <th>DayLow</th>\n      <td>1.75524</td>\n    </tr>\n    <tr>\n      <th>ADR_High</th>\n      <td>1.76467</td>\n    </tr>\n    <tr>\n      <th>ADR_Low</th>\n      <td>1.75663</td>\n    </tr>\n    <tr>\n      <th>SMA_200</th>\n      <td>1.76249</td>\n    </tr>\n    <tr>\n      <th>UpperBand</th>\n      <td>1.76571</td>\n    </tr>\n    <tr>\n      <th>LowerBand</th>\n      <td>1.75922</td>\n    </tr>\n    <tr>\n      <th>slow_K5</th>\n      <td>80.1845</td>\n    </tr>\n    <tr>\n      <th>slow_D5</th>\n      <td>83.3878</td>\n    </tr>\n    <tr>\n      <th>EMA_21</th>\n      <td>1.76254</td>\n    </tr>\n    <tr>\n      <th>EMA_8</th>\n      <td>1.76409</td>\n    </tr>\n    <tr>\n      <th>PP</th>\n      <td>1.76623</td>\n    </tr>\n    <tr>\n      <th>S38</th>\n      <td>1.75914</td>\n    </tr>\n    <tr>\n      <th>S62</th>\n      <td>1.75476</td>\n    </tr>\n    <tr>\n      <th>S100</th>\n      <td>1.74767</td>\n    </tr>\n    <tr>\n      <th>S138</th>\n      <td>1.74058</td>\n    </tr>\n    <tr>\n      <th>S162</th>\n      <td>1.7362</td>\n    </tr>\n    <tr>\n      <th>S200</th>\n      <td>1.72911</td>\n    </tr>\n    <tr>\n      <th>R38</th>\n      <td>1.77332</td>\n    </tr>\n    <tr>\n      <th>R62</th>\n      <td>1.7777</td>\n    </tr>\n    <tr>\n      <th>R100</th>\n      <td>1.78479</td>\n    </tr>\n    <tr>\n      <th>R138</th>\n      <td>1.79188</td>\n    </tr>\n    <tr>\n      <th>R162</th>\n      <td>1.79626</td>\n    </tr>\n    <tr>\n      <th>R200</th>\n      <td>1.80335</td>\n    </tr>\n    <tr>\n      <th>ATR_14</th>\n      <td>0.00144464</td>\n    </tr>\n    <tr>\n      <th>RVI</th>\n      <td>66.2842</td>\n    </tr>\n    <tr>\n      <th>SB_Gamma</th>\n      <td>1.30928</td>\n    </tr>\n    <tr>\n      <th>ONHISMA_5</th>\n      <td>1.76541</td>\n    </tr>\n    <tr>\n      <th>ONLOSMA_5</th>\n      <td>1.76387</td>\n    </tr>\n    <tr>\n      <th>ONHISMA_21</th>\n      <td>1.7631</td>\n    </tr>\n    <tr>\n      <th>ONLOSMA_21</th>\n      <td>1.76166</td>\n    </tr>\n    <tr>\n      <th>ONHISMA_34</th>\n      <td>1.76173</td>\n    </tr>\n    <tr>\n      <th>ONLOSMA_34</th>\n      <td>1.76024</td>\n    </tr>\n    <tr>\n      <th>Open_weekly</th>\n      <td>1.76757</td>\n    </tr>\n    <tr>\n      <th>High_weekly</th>\n      <td>1.78878</td>\n    </tr>\n    <tr>\n      <th>Low_weekly</th>\n      <td>1.75524</td>\n    </tr>\n    <tr>\n      <th>Close_weekly</th>\n      <td>1.77572</td>\n    </tr>\n    <tr>\n      <th>Open_daily</th>\n      <td>1.76639</td>\n    </tr>\n    <tr>\n      <th>High_daily</th>\n      <td>1.77601</td>\n    </tr>\n    <tr>\n      <th>Low_daily</th>\n      <td>1.75524</td>\n    </tr>\n    <tr>\n      <th>Close_daily</th>\n      <td>1.77572</td>\n    </tr>\n    <tr>\n      <th>Signal</th>\n      <td>-1</td>\n    </tr>\n  </tbody>\n</table>\n</div>"
     },
     "metadata": {},
     "execution_count": 13
    }
   ],
   "source": [
    "df_all[df_all.index=='2021-02-26 12:50:00'].T"
   ]
  },
  {
   "cell_type": "code",
   "execution_count": 14,
   "metadata": {},
   "outputs": [
    {
     "output_type": "execute_result",
     "data": {
      "text/plain": [
       "Lindex        2021-02-26 12:50:00\n",
       "OpenBid                   1.76516\n",
       "HighBid                    1.7659\n",
       "LowBid                    1.76421\n",
       "CloseBid                  1.76452\n",
       "OpenAsk                   1.76553\n",
       "HighAsk                   1.76622\n",
       "LowAsk                    1.76457\n",
       "CloseAsk                   1.7649\n",
       "Symbol                     GBPCAD\n",
       "Open                      1.76534\n",
       "High                      1.76606\n",
       "Low                       1.76439\n",
       "Close                     1.76471\n",
       "Date          2021-02-26 00:00:00\n",
       "ADR                    0.00942821\n",
       "DayHigh                   1.77601\n",
       "DayLow                    1.75524\n",
       "ADR_High                  1.76467\n",
       "ADR_Low                   1.75663\n",
       "SMA_200                   1.76249\n",
       "UpperBand                 1.76571\n",
       "LowerBand                 1.75922\n",
       "slow_K5                   80.1845\n",
       "slow_D5                   83.3878\n",
       "EMA_21                    1.76254\n",
       "EMA_8                     1.76409\n",
       "PP                        1.76623\n",
       "S38                       1.75914\n",
       "S62                       1.75476\n",
       "S100                      1.74767\n",
       "S138                      1.74058\n",
       "S162                       1.7362\n",
       "S200                      1.72911\n",
       "R38                       1.77332\n",
       "R62                        1.7777\n",
       "R100                      1.78479\n",
       "R138                      1.79188\n",
       "R162                      1.79626\n",
       "R200                      1.80335\n",
       "ATR_14                 0.00144464\n",
       "RVI                       66.2842\n",
       "SB_Gamma                  1.30928\n",
       "ONHISMA_5                 1.76541\n",
       "ONLOSMA_5                 1.76387\n",
       "ONHISMA_21                 1.7631\n",
       "ONLOSMA_21                1.76166\n",
       "ONHISMA_34                1.76173\n",
       "ONLOSMA_34                1.76024\n",
       "Open_weekly               1.76757\n",
       "High_weekly               1.78878\n",
       "Low_weekly                1.75524\n",
       "Close_weekly              1.77572\n",
       "Open_daily                1.76639\n",
       "High_daily                1.77601\n",
       "Low_daily                 1.75524\n",
       "Close_daily               1.77572\n",
       "Signal                         -1"
      ],
      "text/html": "<div>\n<style scoped>\n    .dataframe tbody tr th:only-of-type {\n        vertical-align: middle;\n    }\n\n    .dataframe tbody tr th {\n        vertical-align: top;\n    }\n\n    .dataframe thead th {\n        text-align: right;\n    }\n</style>\n<table border=\"1\" class=\"dataframe\">\n  <thead>\n    <tr style=\"text-align: right;\">\n      <th>Lindex</th>\n      <th>2021-02-26 12:50:00</th>\n    </tr>\n  </thead>\n  <tbody>\n    <tr>\n      <th>OpenBid</th>\n      <td>1.76516</td>\n    </tr>\n    <tr>\n      <th>HighBid</th>\n      <td>1.7659</td>\n    </tr>\n    <tr>\n      <th>LowBid</th>\n      <td>1.76421</td>\n    </tr>\n    <tr>\n      <th>CloseBid</th>\n      <td>1.76452</td>\n    </tr>\n    <tr>\n      <th>OpenAsk</th>\n      <td>1.76553</td>\n    </tr>\n    <tr>\n      <th>HighAsk</th>\n      <td>1.76622</td>\n    </tr>\n    <tr>\n      <th>LowAsk</th>\n      <td>1.76457</td>\n    </tr>\n    <tr>\n      <th>CloseAsk</th>\n      <td>1.7649</td>\n    </tr>\n    <tr>\n      <th>Symbol</th>\n      <td>GBPCAD</td>\n    </tr>\n    <tr>\n      <th>Open</th>\n      <td>1.76534</td>\n    </tr>\n    <tr>\n      <th>High</th>\n      <td>1.76606</td>\n    </tr>\n    <tr>\n      <th>Low</th>\n      <td>1.76439</td>\n    </tr>\n    <tr>\n      <th>Close</th>\n      <td>1.76471</td>\n    </tr>\n    <tr>\n      <th>Date</th>\n      <td>2021-02-26 00:00:00</td>\n    </tr>\n    <tr>\n      <th>ADR</th>\n      <td>0.00942821</td>\n    </tr>\n    <tr>\n      <th>DayHigh</th>\n      <td>1.77601</td>\n    </tr>\n    <tr>\n      <th>DayLow</th>\n      <td>1.75524</td>\n    </tr>\n    <tr>\n      <th>ADR_High</th>\n      <td>1.76467</td>\n    </tr>\n    <tr>\n      <th>ADR_Low</th>\n      <td>1.75663</td>\n    </tr>\n    <tr>\n      <th>SMA_200</th>\n      <td>1.76249</td>\n    </tr>\n    <tr>\n      <th>UpperBand</th>\n      <td>1.76571</td>\n    </tr>\n    <tr>\n      <th>LowerBand</th>\n      <td>1.75922</td>\n    </tr>\n    <tr>\n      <th>slow_K5</th>\n      <td>80.1845</td>\n    </tr>\n    <tr>\n      <th>slow_D5</th>\n      <td>83.3878</td>\n    </tr>\n    <tr>\n      <th>EMA_21</th>\n      <td>1.76254</td>\n    </tr>\n    <tr>\n      <th>EMA_8</th>\n      <td>1.76409</td>\n    </tr>\n    <tr>\n      <th>PP</th>\n      <td>1.76623</td>\n    </tr>\n    <tr>\n      <th>S38</th>\n      <td>1.75914</td>\n    </tr>\n    <tr>\n      <th>S62</th>\n      <td>1.75476</td>\n    </tr>\n    <tr>\n      <th>S100</th>\n      <td>1.74767</td>\n    </tr>\n    <tr>\n      <th>S138</th>\n      <td>1.74058</td>\n    </tr>\n    <tr>\n      <th>S162</th>\n      <td>1.7362</td>\n    </tr>\n    <tr>\n      <th>S200</th>\n      <td>1.72911</td>\n    </tr>\n    <tr>\n      <th>R38</th>\n      <td>1.77332</td>\n    </tr>\n    <tr>\n      <th>R62</th>\n      <td>1.7777</td>\n    </tr>\n    <tr>\n      <th>R100</th>\n      <td>1.78479</td>\n    </tr>\n    <tr>\n      <th>R138</th>\n      <td>1.79188</td>\n    </tr>\n    <tr>\n      <th>R162</th>\n      <td>1.79626</td>\n    </tr>\n    <tr>\n      <th>R200</th>\n      <td>1.80335</td>\n    </tr>\n    <tr>\n      <th>ATR_14</th>\n      <td>0.00144464</td>\n    </tr>\n    <tr>\n      <th>RVI</th>\n      <td>66.2842</td>\n    </tr>\n    <tr>\n      <th>SB_Gamma</th>\n      <td>1.30928</td>\n    </tr>\n    <tr>\n      <th>ONHISMA_5</th>\n      <td>1.76541</td>\n    </tr>\n    <tr>\n      <th>ONLOSMA_5</th>\n      <td>1.76387</td>\n    </tr>\n    <tr>\n      <th>ONHISMA_21</th>\n      <td>1.7631</td>\n    </tr>\n    <tr>\n      <th>ONLOSMA_21</th>\n      <td>1.76166</td>\n    </tr>\n    <tr>\n      <th>ONHISMA_34</th>\n      <td>1.76173</td>\n    </tr>\n    <tr>\n      <th>ONLOSMA_34</th>\n      <td>1.76024</td>\n    </tr>\n    <tr>\n      <th>Open_weekly</th>\n      <td>1.76757</td>\n    </tr>\n    <tr>\n      <th>High_weekly</th>\n      <td>1.78878</td>\n    </tr>\n    <tr>\n      <th>Low_weekly</th>\n      <td>1.75524</td>\n    </tr>\n    <tr>\n      <th>Close_weekly</th>\n      <td>1.77572</td>\n    </tr>\n    <tr>\n      <th>Open_daily</th>\n      <td>1.76639</td>\n    </tr>\n    <tr>\n      <th>High_daily</th>\n      <td>1.77601</td>\n    </tr>\n    <tr>\n      <th>Low_daily</th>\n      <td>1.75524</td>\n    </tr>\n    <tr>\n      <th>Close_daily</th>\n      <td>1.77572</td>\n    </tr>\n    <tr>\n      <th>Signal</th>\n      <td>-1</td>\n    </tr>\n  </tbody>\n</table>\n</div>"
     },
     "metadata": {},
     "execution_count": 14
    }
   ],
   "source": [
    "df_all[(df_all.Date >= _stop)&(df_all.Date <= _last)].dropna()[df_all[(df_all.Date >= _stop)&(df_all.Date <= _last)].dropna().index=='2021-02-26 12:50:00'].T"
   ]
  },
  {
   "cell_type": "code",
   "execution_count": 15,
   "metadata": {},
   "outputs": [
    {
     "output_type": "execute_result",
     "data": {
      "text/plain": [
       "              2021-02-26 15:35:00\n",
       "Close                     1.76928\n",
       "CloseAsk                  1.76947\n",
       "CloseBid                   1.7691\n",
       "High                      1.76967\n",
       "HighAsk                   1.76985\n",
       "...                           ...\n",
       "Low_daily                 1.75524\n",
       "Close_daily               1.77572\n",
       "Signal                          0\n",
       "Valid                           0\n",
       "Verif_raw_sig                   0\n",
       "\n",
       "[61 rows x 1 columns]"
      ],
      "text/html": "<div>\n<style scoped>\n    .dataframe tbody tr th:only-of-type {\n        vertical-align: middle;\n    }\n\n    .dataframe tbody tr th {\n        vertical-align: top;\n    }\n\n    .dataframe thead th {\n        text-align: right;\n    }\n</style>\n<table border=\"1\" class=\"dataframe\">\n  <thead>\n    <tr style=\"text-align: right;\">\n      <th></th>\n      <th>2021-02-26 15:35:00</th>\n    </tr>\n  </thead>\n  <tbody>\n    <tr>\n      <th>Close</th>\n      <td>1.76928</td>\n    </tr>\n    <tr>\n      <th>CloseAsk</th>\n      <td>1.76947</td>\n    </tr>\n    <tr>\n      <th>CloseBid</th>\n      <td>1.7691</td>\n    </tr>\n    <tr>\n      <th>High</th>\n      <td>1.76967</td>\n    </tr>\n    <tr>\n      <th>HighAsk</th>\n      <td>1.76985</td>\n    </tr>\n    <tr>\n      <th>...</th>\n      <td>...</td>\n    </tr>\n    <tr>\n      <th>Low_daily</th>\n      <td>1.75524</td>\n    </tr>\n    <tr>\n      <th>Close_daily</th>\n      <td>1.77572</td>\n    </tr>\n    <tr>\n      <th>Signal</th>\n      <td>0</td>\n    </tr>\n    <tr>\n      <th>Valid</th>\n      <td>0</td>\n    </tr>\n    <tr>\n      <th>Verif_raw_sig</th>\n      <td>0</td>\n    </tr>\n  </tbody>\n</table>\n<p>61 rows × 1 columns</p>\n</div>"
     },
     "metadata": {},
     "execution_count": 15
    }
   ],
   "source": [
    "verif[verif.index=='2021-02-26 15:35:00'].T"
   ]
  },
  {
   "cell_type": "code",
   "execution_count": 16,
   "metadata": {},
   "outputs": [
    {
     "output_type": "execute_result",
     "data": {
      "text/plain": [
       "Empty DataFrame\n",
       "Columns: [OpenBid, HighBid, LowBid, CloseBid, OpenAsk, HighAsk, LowAsk, CloseAsk, Symbol, Open, High, Low, Close, Date, ADR, DayHigh, DayLow, ADR_High, ADR_Low, SMA_200, UpperBand, LowerBand, slow_K5, slow_D5, EMA_21, EMA_8, PP, S38, S62, S100, S138, S162, S200, R38, R62, R100, R138, R162, R200, ATR_14, RVI, SB_Gamma, ONHISMA_5, ONLOSMA_5, ONHISMA_21, ONLOSMA_21, ONHISMA_34, ONLOSMA_34, Open_weekly, High_weekly, Low_weekly, Close_weekly, Open_daily, High_daily, Low_daily, Close_daily, Signal, Valid, Verif_raw_sig]\n",
       "Index: []\n",
       "\n",
       "[0 rows x 59 columns]"
      ],
      "text/html": "<div>\n<style scoped>\n    .dataframe tbody tr th:only-of-type {\n        vertical-align: middle;\n    }\n\n    .dataframe tbody tr th {\n        vertical-align: top;\n    }\n\n    .dataframe thead th {\n        text-align: right;\n    }\n</style>\n<table border=\"1\" class=\"dataframe\">\n  <thead>\n    <tr style=\"text-align: right;\">\n      <th></th>\n      <th>OpenBid</th>\n      <th>HighBid</th>\n      <th>LowBid</th>\n      <th>CloseBid</th>\n      <th>OpenAsk</th>\n      <th>HighAsk</th>\n      <th>LowAsk</th>\n      <th>CloseAsk</th>\n      <th>Symbol</th>\n      <th>Open</th>\n      <th>...</th>\n      <th>High_weekly</th>\n      <th>Low_weekly</th>\n      <th>Close_weekly</th>\n      <th>Open_daily</th>\n      <th>High_daily</th>\n      <th>Low_daily</th>\n      <th>Close_daily</th>\n      <th>Signal</th>\n      <th>Valid</th>\n      <th>Verif_raw_sig</th>\n    </tr>\n    <tr>\n      <th>Lindex</th>\n      <th></th>\n      <th></th>\n      <th></th>\n      <th></th>\n      <th></th>\n      <th></th>\n      <th></th>\n      <th></th>\n      <th></th>\n      <th></th>\n      <th></th>\n      <th></th>\n      <th></th>\n      <th></th>\n      <th></th>\n      <th></th>\n      <th></th>\n      <th></th>\n      <th></th>\n      <th></th>\n      <th></th>\n    </tr>\n  </thead>\n  <tbody>\n  </tbody>\n</table>\n<p>0 rows × 59 columns</p>\n</div>"
     },
     "metadata": {},
     "execution_count": 16
    }
   ],
   "source": [
    "df_all_oos[df_all_oos.duplicated()]"
   ]
  },
  {
   "cell_type": "code",
   "execution_count": 17,
   "metadata": {},
   "outputs": [
    {
     "output_type": "execute_result",
     "data": {
      "text/plain": [
       "Empty DataFrame\n",
       "Columns: [Close, CloseAsk, CloseBid, High, HighAsk, HighBid, Low, LowAsk, LowBid, Open, OpenAsk, OpenBid, Symbol, Date, ADR, DayHigh, DayLow, ADR_High, ADR_Low, SMA_200, UpperBand, LowerBand, slow_K5, slow_D5, EMA_21, EMA_8, PP, S38, S62, S100, S138, S162, S200, R38, R62, R100, R138, R162, R200, prev_close, TR, ATR_14, RVI, SB_Gamma, ONHISMA_5, ONLOSMA_5, ONHISMA_21, ONLOSMA_21, ONHISMA_34, ONLOSMA_34, Open_weekly, High_weekly, Low_weekly, Close_weekly, Open_daily, High_daily, Low_daily, Close_daily, Signal, Valid, Verif_raw_sig]\n",
       "Index: []\n",
       "\n",
       "[0 rows x 61 columns]"
      ],
      "text/html": "<div>\n<style scoped>\n    .dataframe tbody tr th:only-of-type {\n        vertical-align: middle;\n    }\n\n    .dataframe tbody tr th {\n        vertical-align: top;\n    }\n\n    .dataframe thead th {\n        text-align: right;\n    }\n</style>\n<table border=\"1\" class=\"dataframe\">\n  <thead>\n    <tr style=\"text-align: right;\">\n      <th></th>\n      <th>Close</th>\n      <th>CloseAsk</th>\n      <th>CloseBid</th>\n      <th>High</th>\n      <th>HighAsk</th>\n      <th>HighBid</th>\n      <th>Low</th>\n      <th>LowAsk</th>\n      <th>LowBid</th>\n      <th>Open</th>\n      <th>...</th>\n      <th>High_weekly</th>\n      <th>Low_weekly</th>\n      <th>Close_weekly</th>\n      <th>Open_daily</th>\n      <th>High_daily</th>\n      <th>Low_daily</th>\n      <th>Close_daily</th>\n      <th>Signal</th>\n      <th>Valid</th>\n      <th>Verif_raw_sig</th>\n    </tr>\n  </thead>\n  <tbody>\n  </tbody>\n</table>\n<p>0 rows × 61 columns</p>\n</div>"
     },
     "metadata": {},
     "execution_count": 17
    }
   ],
   "source": [
    "verif[verif.duplicated()]"
   ]
  },
  {
   "cell_type": "code",
   "execution_count": 18,
   "metadata": {},
   "outputs": [
    {
     "output_type": "execute_result",
     "data": {
      "text/plain": [
       "((11667, 61), (11667, 45))"
      ]
     },
     "metadata": {},
     "execution_count": 18
    }
   ],
   "source": [
    "verif.shape,features_oos.shape"
   ]
  },
  {
   "cell_type": "code",
   "execution_count": 19,
   "metadata": {},
   "outputs": [
    {
     "output_type": "execute_result",
     "data": {
      "text/plain": [
       "                        Close  CloseAsk  CloseBid      High  HighAsk  HighBid  \\\n",
       "2021-01-04 00:00:00  1.739300   1.73954   1.73906  1.741180  1.74142  1.74094   \n",
       "2021-01-04 00:05:00  1.739950   1.74024   1.73966  1.740125  1.74041  1.73984   \n",
       "2021-01-04 00:10:00  1.740075   1.74036   1.73979  1.740180  1.74045  1.73991   \n",
       "2021-01-04 00:15:00  1.740240   1.74048   1.74000  1.740360  1.74061  1.74011   \n",
       "2021-01-04 00:20:00  1.740205   1.74045   1.73996  1.740555  1.74078  1.74033   \n",
       "...                       ...       ...       ...       ...      ...      ...   \n",
       "2021-03-01 23:35:00  1.761110   1.76129   1.76093  1.761170  1.76135  1.76099   \n",
       "2021-03-01 23:40:00  1.760740   1.76092   1.76056  1.761145  1.76132  1.76097   \n",
       "2021-03-01 23:45:00  1.760805   1.76097   1.76064  1.760865  1.76105  1.76068   \n",
       "2021-03-01 23:50:00  1.760890   1.76106   1.76072  1.761000  1.76117  1.76083   \n",
       "2021-03-01 23:55:00  1.760765   1.76094   1.76059  1.761110  1.76128  1.76094   \n",
       "\n",
       "                          Low   LowAsk   LowBid      Open  ...  High_weekly  \\\n",
       "2021-01-04 00:00:00  1.739240  1.73949  1.73899  1.740735  ...     1.741310   \n",
       "2021-01-04 00:05:00  1.739090  1.73935  1.73883  1.739300  ...     1.741310   \n",
       "2021-01-04 00:10:00  1.739810  1.74009  1.73953  1.739950  ...     1.741310   \n",
       "2021-01-04 00:15:00  1.739875  1.74012  1.73963  1.740075  ...     1.741310   \n",
       "2021-01-04 00:20:00  1.740055  1.74030  1.73981  1.740240  ...     1.741310   \n",
       "...                       ...      ...      ...       ...  ...          ...   \n",
       "2021-03-01 23:35:00  1.760835  1.76101  1.76066  1.760940  ...     1.777015   \n",
       "2021-03-01 23:40:00  1.760585  1.76077  1.76040  1.761115  ...     1.777015   \n",
       "2021-03-01 23:45:00  1.760655  1.76083  1.76048  1.760730  ...     1.777015   \n",
       "2021-03-01 23:50:00  1.760565  1.76073  1.76040  1.760795  ...     1.777015   \n",
       "2021-03-01 23:55:00  1.760650  1.76083  1.76047  1.760905  ...     1.777015   \n",
       "\n",
       "                     Low_weekly Close_weekly Open_daily  High_daily  \\\n",
       "2021-01-04 00:00:00    1.718890     1.722470   1.740735    1.741310   \n",
       "2021-01-04 00:05:00    1.718890     1.722470   1.740735    1.741310   \n",
       "2021-01-04 00:10:00    1.718890     1.722470   1.740735    1.741310   \n",
       "2021-01-04 00:15:00    1.718890     1.722470   1.740735    1.741310   \n",
       "2021-01-04 00:20:00    1.718890     1.722470   1.740735    1.741310   \n",
       "...                         ...          ...        ...         ...   \n",
       "2021-03-01 23:35:00    1.756635     1.760905   1.774330    1.777015   \n",
       "2021-03-01 23:40:00    1.756635     1.760905   1.774330    1.777015   \n",
       "2021-03-01 23:45:00    1.756635     1.760905   1.774330    1.777015   \n",
       "2021-03-01 23:50:00    1.756635     1.760905   1.774330    1.777015   \n",
       "2021-03-01 23:55:00    1.756635     1.760905   1.774330    1.777015   \n",
       "\n",
       "                     Low_daily  Close_daily  Signal  Valid  Verif_raw_sig  \n",
       "2021-01-04 00:00:00   1.724660     1.734575       0      0              0  \n",
       "2021-01-04 00:05:00   1.724660     1.734575       0      0              0  \n",
       "2021-01-04 00:10:00   1.724660     1.734575       0      0              1  \n",
       "2021-01-04 00:15:00   1.724660     1.734575       0      0              0  \n",
       "2021-01-04 00:20:00   1.724660     1.734575       0      0              0  \n",
       "...                        ...          ...     ...    ...            ...  \n",
       "2021-03-01 23:35:00   1.760345     1.761075       0      0              0  \n",
       "2021-03-01 23:40:00   1.760345     1.761075       0      0              0  \n",
       "2021-03-01 23:45:00   1.760345     1.761075       0      1              0  \n",
       "2021-03-01 23:50:00   1.760345     1.761075       0      0              0  \n",
       "2021-03-01 23:55:00   1.760345     1.761075       0      0              0  \n",
       "\n",
       "[11667 rows x 61 columns]"
      ],
      "text/html": "<div>\n<style scoped>\n    .dataframe tbody tr th:only-of-type {\n        vertical-align: middle;\n    }\n\n    .dataframe tbody tr th {\n        vertical-align: top;\n    }\n\n    .dataframe thead th {\n        text-align: right;\n    }\n</style>\n<table border=\"1\" class=\"dataframe\">\n  <thead>\n    <tr style=\"text-align: right;\">\n      <th></th>\n      <th>Close</th>\n      <th>CloseAsk</th>\n      <th>CloseBid</th>\n      <th>High</th>\n      <th>HighAsk</th>\n      <th>HighBid</th>\n      <th>Low</th>\n      <th>LowAsk</th>\n      <th>LowBid</th>\n      <th>Open</th>\n      <th>...</th>\n      <th>High_weekly</th>\n      <th>Low_weekly</th>\n      <th>Close_weekly</th>\n      <th>Open_daily</th>\n      <th>High_daily</th>\n      <th>Low_daily</th>\n      <th>Close_daily</th>\n      <th>Signal</th>\n      <th>Valid</th>\n      <th>Verif_raw_sig</th>\n    </tr>\n  </thead>\n  <tbody>\n    <tr>\n      <th>2021-01-04 00:00:00</th>\n      <td>1.739300</td>\n      <td>1.73954</td>\n      <td>1.73906</td>\n      <td>1.741180</td>\n      <td>1.74142</td>\n      <td>1.74094</td>\n      <td>1.739240</td>\n      <td>1.73949</td>\n      <td>1.73899</td>\n      <td>1.740735</td>\n      <td>...</td>\n      <td>1.741310</td>\n      <td>1.718890</td>\n      <td>1.722470</td>\n      <td>1.740735</td>\n      <td>1.741310</td>\n      <td>1.724660</td>\n      <td>1.734575</td>\n      <td>0</td>\n      <td>0</td>\n      <td>0</td>\n    </tr>\n    <tr>\n      <th>2021-01-04 00:05:00</th>\n      <td>1.739950</td>\n      <td>1.74024</td>\n      <td>1.73966</td>\n      <td>1.740125</td>\n      <td>1.74041</td>\n      <td>1.73984</td>\n      <td>1.739090</td>\n      <td>1.73935</td>\n      <td>1.73883</td>\n      <td>1.739300</td>\n      <td>...</td>\n      <td>1.741310</td>\n      <td>1.718890</td>\n      <td>1.722470</td>\n      <td>1.740735</td>\n      <td>1.741310</td>\n      <td>1.724660</td>\n      <td>1.734575</td>\n      <td>0</td>\n      <td>0</td>\n      <td>0</td>\n    </tr>\n    <tr>\n      <th>2021-01-04 00:10:00</th>\n      <td>1.740075</td>\n      <td>1.74036</td>\n      <td>1.73979</td>\n      <td>1.740180</td>\n      <td>1.74045</td>\n      <td>1.73991</td>\n      <td>1.739810</td>\n      <td>1.74009</td>\n      <td>1.73953</td>\n      <td>1.739950</td>\n      <td>...</td>\n      <td>1.741310</td>\n      <td>1.718890</td>\n      <td>1.722470</td>\n      <td>1.740735</td>\n      <td>1.741310</td>\n      <td>1.724660</td>\n      <td>1.734575</td>\n      <td>0</td>\n      <td>0</td>\n      <td>1</td>\n    </tr>\n    <tr>\n      <th>2021-01-04 00:15:00</th>\n      <td>1.740240</td>\n      <td>1.74048</td>\n      <td>1.74000</td>\n      <td>1.740360</td>\n      <td>1.74061</td>\n      <td>1.74011</td>\n      <td>1.739875</td>\n      <td>1.74012</td>\n      <td>1.73963</td>\n      <td>1.740075</td>\n      <td>...</td>\n      <td>1.741310</td>\n      <td>1.718890</td>\n      <td>1.722470</td>\n      <td>1.740735</td>\n      <td>1.741310</td>\n      <td>1.724660</td>\n      <td>1.734575</td>\n      <td>0</td>\n      <td>0</td>\n      <td>0</td>\n    </tr>\n    <tr>\n      <th>2021-01-04 00:20:00</th>\n      <td>1.740205</td>\n      <td>1.74045</td>\n      <td>1.73996</td>\n      <td>1.740555</td>\n      <td>1.74078</td>\n      <td>1.74033</td>\n      <td>1.740055</td>\n      <td>1.74030</td>\n      <td>1.73981</td>\n      <td>1.740240</td>\n      <td>...</td>\n      <td>1.741310</td>\n      <td>1.718890</td>\n      <td>1.722470</td>\n      <td>1.740735</td>\n      <td>1.741310</td>\n      <td>1.724660</td>\n      <td>1.734575</td>\n      <td>0</td>\n      <td>0</td>\n      <td>0</td>\n    </tr>\n    <tr>\n      <th>...</th>\n      <td>...</td>\n      <td>...</td>\n      <td>...</td>\n      <td>...</td>\n      <td>...</td>\n      <td>...</td>\n      <td>...</td>\n      <td>...</td>\n      <td>...</td>\n      <td>...</td>\n      <td>...</td>\n      <td>...</td>\n      <td>...</td>\n      <td>...</td>\n      <td>...</td>\n      <td>...</td>\n      <td>...</td>\n      <td>...</td>\n      <td>...</td>\n      <td>...</td>\n      <td>...</td>\n    </tr>\n    <tr>\n      <th>2021-03-01 23:35:00</th>\n      <td>1.761110</td>\n      <td>1.76129</td>\n      <td>1.76093</td>\n      <td>1.761170</td>\n      <td>1.76135</td>\n      <td>1.76099</td>\n      <td>1.760835</td>\n      <td>1.76101</td>\n      <td>1.76066</td>\n      <td>1.760940</td>\n      <td>...</td>\n      <td>1.777015</td>\n      <td>1.756635</td>\n      <td>1.760905</td>\n      <td>1.774330</td>\n      <td>1.777015</td>\n      <td>1.760345</td>\n      <td>1.761075</td>\n      <td>0</td>\n      <td>0</td>\n      <td>0</td>\n    </tr>\n    <tr>\n      <th>2021-03-01 23:40:00</th>\n      <td>1.760740</td>\n      <td>1.76092</td>\n      <td>1.76056</td>\n      <td>1.761145</td>\n      <td>1.76132</td>\n      <td>1.76097</td>\n      <td>1.760585</td>\n      <td>1.76077</td>\n      <td>1.76040</td>\n      <td>1.761115</td>\n      <td>...</td>\n      <td>1.777015</td>\n      <td>1.756635</td>\n      <td>1.760905</td>\n      <td>1.774330</td>\n      <td>1.777015</td>\n      <td>1.760345</td>\n      <td>1.761075</td>\n      <td>0</td>\n      <td>0</td>\n      <td>0</td>\n    </tr>\n    <tr>\n      <th>2021-03-01 23:45:00</th>\n      <td>1.760805</td>\n      <td>1.76097</td>\n      <td>1.76064</td>\n      <td>1.760865</td>\n      <td>1.76105</td>\n      <td>1.76068</td>\n      <td>1.760655</td>\n      <td>1.76083</td>\n      <td>1.76048</td>\n      <td>1.760730</td>\n      <td>...</td>\n      <td>1.777015</td>\n      <td>1.756635</td>\n      <td>1.760905</td>\n      <td>1.774330</td>\n      <td>1.777015</td>\n      <td>1.760345</td>\n      <td>1.761075</td>\n      <td>0</td>\n      <td>1</td>\n      <td>0</td>\n    </tr>\n    <tr>\n      <th>2021-03-01 23:50:00</th>\n      <td>1.760890</td>\n      <td>1.76106</td>\n      <td>1.76072</td>\n      <td>1.761000</td>\n      <td>1.76117</td>\n      <td>1.76083</td>\n      <td>1.760565</td>\n      <td>1.76073</td>\n      <td>1.76040</td>\n      <td>1.760795</td>\n      <td>...</td>\n      <td>1.777015</td>\n      <td>1.756635</td>\n      <td>1.760905</td>\n      <td>1.774330</td>\n      <td>1.777015</td>\n      <td>1.760345</td>\n      <td>1.761075</td>\n      <td>0</td>\n      <td>0</td>\n      <td>0</td>\n    </tr>\n    <tr>\n      <th>2021-03-01 23:55:00</th>\n      <td>1.760765</td>\n      <td>1.76094</td>\n      <td>1.76059</td>\n      <td>1.761110</td>\n      <td>1.76128</td>\n      <td>1.76094</td>\n      <td>1.760650</td>\n      <td>1.76083</td>\n      <td>1.76047</td>\n      <td>1.760905</td>\n      <td>...</td>\n      <td>1.777015</td>\n      <td>1.756635</td>\n      <td>1.760905</td>\n      <td>1.774330</td>\n      <td>1.777015</td>\n      <td>1.760345</td>\n      <td>1.761075</td>\n      <td>0</td>\n      <td>0</td>\n      <td>0</td>\n    </tr>\n  </tbody>\n</table>\n<p>11667 rows × 61 columns</p>\n</div>"
     },
     "metadata": {},
     "execution_count": 19
    }
   ],
   "source": [
    "verif"
   ]
  },
  {
   "cell_type": "code",
   "execution_count": 20,
   "metadata": {},
   "outputs": [
    {
     "output_type": "execute_result",
     "data": {
      "text/plain": [
       "                     Symbol       Date   FEMA_21    FEMA_8    FADRLo  \\\n",
       "2021-01-04 00:00:00  GBPCAD 2021-01-04  0.005814  0.001160  0.974584   \n",
       "2021-01-04 00:05:00  GBPCAD 2021-01-04  0.018402  0.008245  0.989349   \n",
       "2021-01-04 00:10:00  GBPCAD 2021-01-04  0.031251  0.025257  0.999990   \n",
       "2021-01-04 00:15:00  GBPCAD 2021-01-04  0.052005  0.071659  0.999961   \n",
       "2021-01-04 00:20:00  GBPCAD 2021-01-04  0.060834  0.100153  0.999515   \n",
       "...                     ...        ...       ...       ...       ...   \n",
       "2021-03-01 23:35:00  GBPCAD 2021-03-01  0.633320  0.699232  0.018084   \n",
       "2021-03-01 23:40:00  GBPCAD 2021-03-01  0.393179  0.345095  0.013364   \n",
       "2021-03-01 23:45:00  GBPCAD 2021-03-01  0.439861  0.429908  0.014114   \n",
       "2021-03-01 23:50:00  GBPCAD 2021-03-01  0.500231  0.527337  0.015285   \n",
       "2021-03-01 23:55:00  GBPCAD 2021-03-01  0.419609  0.405329  0.013648   \n",
       "\n",
       "                       FADRHi    FRVI40    FRVI60  FONLOSMA5  FONHISMA5  ...  \\\n",
       "2021-01-04 00:00:00  0.001098  0.373871  0.373871   0.000954   0.006232  ...   \n",
       "2021-01-04 00:05:00  0.025789  0.521733  0.521733   0.001624   0.001287  ...   \n",
       "2021-01-04 00:10:00  0.030434  0.656353  0.656353   0.039463   0.008328  ...   \n",
       "2021-01-04 00:15:00  0.035455  0.757850  0.757850   0.316316   0.086425  ...   \n",
       "2021-01-04 00:20:00  0.034072  0.828027  0.828027   0.881882   0.602603  ...   \n",
       "...                       ...       ...       ...        ...        ...  ...   \n",
       "2021-03-01 23:35:00  0.469469  0.423826  0.423826   0.550050   0.550050  ...   \n",
       "2021-03-01 23:40:00  0.411023  0.345782  0.345782   0.301301   0.535536  ...   \n",
       "2021-03-01 23:45:00  0.420643  0.278466  0.278466   0.405405   0.276276  ...   \n",
       "2021-03-01 23:50:00  0.435435  0.218216  0.218216   0.345345   0.449950  ...   \n",
       "2021-03-01 23:55:00  0.414384  0.170997  0.170997   0.486486   0.574074  ...   \n",
       "\n",
       "                        FS162     FS200      FR38      FR62     FR100  \\\n",
       "2021-01-04 00:00:00  0.032359  0.262763  0.445423  0.500324  0.575269   \n",
       "2021-01-04 00:05:00  0.033009  0.279086  0.485071  0.539560  0.604181   \n",
       "2021-01-04 00:10:00  0.033134  0.282045  0.493370  0.547857  0.611361   \n",
       "2021-01-04 00:15:00  0.033299  0.286768  0.506348  0.559325  0.620120   \n",
       "2021-01-04 00:20:00  0.033264  0.285285  0.504340  0.556837  0.618619   \n",
       "...                       ...       ...       ...       ...       ...   \n",
       "2021-03-01 23:35:00  0.043031  0.816327  0.013025  0.002601  0.002601   \n",
       "2021-03-01 23:40:00  0.042661  0.804745  0.008337  0.001063  0.001063   \n",
       "2021-03-01 23:45:00  0.042726  0.806341  0.009372  0.001479  0.001479   \n",
       "2021-03-01 23:50:00  0.042811  0.809074  0.010689  0.002011  0.002011   \n",
       "2021-03-01 23:55:00  0.042686  0.805522  0.008735  0.001223  0.001223   \n",
       "\n",
       "                        FR138     FR162     FR200     SBATR  Signal  \n",
       "2021-01-04 00:00:00  0.624827  0.271276  0.671004  0.009292       0  \n",
       "2021-01-04 00:05:00  0.643590  0.285793  0.690913  0.881114       0  \n",
       "2021-01-04 00:10:00  0.646931  0.287603  0.694135  0.604697       1  \n",
       "2021-01-04 00:15:00  0.652382  0.290541  0.699180  0.638641       0  \n",
       "2021-01-04 00:20:00  0.651469  0.289859  0.698345  0.472484       0  \n",
       "...                       ...       ...       ...       ...     ...  \n",
       "2021-03-01 23:35:00  0.002601  0.688931  0.002601  0.750977       0  \n",
       "2021-03-01 23:40:00  0.001063  0.672673  0.001063  0.082629       0  \n",
       "2021-03-01 23:45:00  0.001479  0.675477  0.001479  0.625098       0  \n",
       "2021-03-01 23:50:00  0.002011  0.679778  0.002011  0.656540       0  \n",
       "2021-03-01 23:55:00  0.001223  0.673945  0.001223  0.283255       0  \n",
       "\n",
       "[11667 rows x 45 columns]"
      ],
      "text/html": "<div>\n<style scoped>\n    .dataframe tbody tr th:only-of-type {\n        vertical-align: middle;\n    }\n\n    .dataframe tbody tr th {\n        vertical-align: top;\n    }\n\n    .dataframe thead th {\n        text-align: right;\n    }\n</style>\n<table border=\"1\" class=\"dataframe\">\n  <thead>\n    <tr style=\"text-align: right;\">\n      <th></th>\n      <th>Symbol</th>\n      <th>Date</th>\n      <th>FEMA_21</th>\n      <th>FEMA_8</th>\n      <th>FADRLo</th>\n      <th>FADRHi</th>\n      <th>FRVI40</th>\n      <th>FRVI60</th>\n      <th>FONLOSMA5</th>\n      <th>FONHISMA5</th>\n      <th>...</th>\n      <th>FS162</th>\n      <th>FS200</th>\n      <th>FR38</th>\n      <th>FR62</th>\n      <th>FR100</th>\n      <th>FR138</th>\n      <th>FR162</th>\n      <th>FR200</th>\n      <th>SBATR</th>\n      <th>Signal</th>\n    </tr>\n  </thead>\n  <tbody>\n    <tr>\n      <th>2021-01-04 00:00:00</th>\n      <td>GBPCAD</td>\n      <td>2021-01-04</td>\n      <td>0.005814</td>\n      <td>0.001160</td>\n      <td>0.974584</td>\n      <td>0.001098</td>\n      <td>0.373871</td>\n      <td>0.373871</td>\n      <td>0.000954</td>\n      <td>0.006232</td>\n      <td>...</td>\n      <td>0.032359</td>\n      <td>0.262763</td>\n      <td>0.445423</td>\n      <td>0.500324</td>\n      <td>0.575269</td>\n      <td>0.624827</td>\n      <td>0.271276</td>\n      <td>0.671004</td>\n      <td>0.009292</td>\n      <td>0</td>\n    </tr>\n    <tr>\n      <th>2021-01-04 00:05:00</th>\n      <td>GBPCAD</td>\n      <td>2021-01-04</td>\n      <td>0.018402</td>\n      <td>0.008245</td>\n      <td>0.989349</td>\n      <td>0.025789</td>\n      <td>0.521733</td>\n      <td>0.521733</td>\n      <td>0.001624</td>\n      <td>0.001287</td>\n      <td>...</td>\n      <td>0.033009</td>\n      <td>0.279086</td>\n      <td>0.485071</td>\n      <td>0.539560</td>\n      <td>0.604181</td>\n      <td>0.643590</td>\n      <td>0.285793</td>\n      <td>0.690913</td>\n      <td>0.881114</td>\n      <td>0</td>\n    </tr>\n    <tr>\n      <th>2021-01-04 00:10:00</th>\n      <td>GBPCAD</td>\n      <td>2021-01-04</td>\n      <td>0.031251</td>\n      <td>0.025257</td>\n      <td>0.999990</td>\n      <td>0.030434</td>\n      <td>0.656353</td>\n      <td>0.656353</td>\n      <td>0.039463</td>\n      <td>0.008328</td>\n      <td>...</td>\n      <td>0.033134</td>\n      <td>0.282045</td>\n      <td>0.493370</td>\n      <td>0.547857</td>\n      <td>0.611361</td>\n      <td>0.646931</td>\n      <td>0.287603</td>\n      <td>0.694135</td>\n      <td>0.604697</td>\n      <td>1</td>\n    </tr>\n    <tr>\n      <th>2021-01-04 00:15:00</th>\n      <td>GBPCAD</td>\n      <td>2021-01-04</td>\n      <td>0.052005</td>\n      <td>0.071659</td>\n      <td>0.999961</td>\n      <td>0.035455</td>\n      <td>0.757850</td>\n      <td>0.757850</td>\n      <td>0.316316</td>\n      <td>0.086425</td>\n      <td>...</td>\n      <td>0.033299</td>\n      <td>0.286768</td>\n      <td>0.506348</td>\n      <td>0.559325</td>\n      <td>0.620120</td>\n      <td>0.652382</td>\n      <td>0.290541</td>\n      <td>0.699180</td>\n      <td>0.638641</td>\n      <td>0</td>\n    </tr>\n    <tr>\n      <th>2021-01-04 00:20:00</th>\n      <td>GBPCAD</td>\n      <td>2021-01-04</td>\n      <td>0.060834</td>\n      <td>0.100153</td>\n      <td>0.999515</td>\n      <td>0.034072</td>\n      <td>0.828027</td>\n      <td>0.828027</td>\n      <td>0.881882</td>\n      <td>0.602603</td>\n      <td>...</td>\n      <td>0.033264</td>\n      <td>0.285285</td>\n      <td>0.504340</td>\n      <td>0.556837</td>\n      <td>0.618619</td>\n      <td>0.651469</td>\n      <td>0.289859</td>\n      <td>0.698345</td>\n      <td>0.472484</td>\n      <td>0</td>\n    </tr>\n    <tr>\n      <th>...</th>\n      <td>...</td>\n      <td>...</td>\n      <td>...</td>\n      <td>...</td>\n      <td>...</td>\n      <td>...</td>\n      <td>...</td>\n      <td>...</td>\n      <td>...</td>\n      <td>...</td>\n      <td>...</td>\n      <td>...</td>\n      <td>...</td>\n      <td>...</td>\n      <td>...</td>\n      <td>...</td>\n      <td>...</td>\n      <td>...</td>\n      <td>...</td>\n      <td>...</td>\n      <td>...</td>\n    </tr>\n    <tr>\n      <th>2021-03-01 23:35:00</th>\n      <td>GBPCAD</td>\n      <td>2021-03-01</td>\n      <td>0.633320</td>\n      <td>0.699232</td>\n      <td>0.018084</td>\n      <td>0.469469</td>\n      <td>0.423826</td>\n      <td>0.423826</td>\n      <td>0.550050</td>\n      <td>0.550050</td>\n      <td>...</td>\n      <td>0.043031</td>\n      <td>0.816327</td>\n      <td>0.013025</td>\n      <td>0.002601</td>\n      <td>0.002601</td>\n      <td>0.002601</td>\n      <td>0.688931</td>\n      <td>0.002601</td>\n      <td>0.750977</td>\n      <td>0</td>\n    </tr>\n    <tr>\n      <th>2021-03-01 23:40:00</th>\n      <td>GBPCAD</td>\n      <td>2021-03-01</td>\n      <td>0.393179</td>\n      <td>0.345095</td>\n      <td>0.013364</td>\n      <td>0.411023</td>\n      <td>0.345782</td>\n      <td>0.345782</td>\n      <td>0.301301</td>\n      <td>0.535536</td>\n      <td>...</td>\n      <td>0.042661</td>\n      <td>0.804745</td>\n      <td>0.008337</td>\n      <td>0.001063</td>\n      <td>0.001063</td>\n      <td>0.001063</td>\n      <td>0.672673</td>\n      <td>0.001063</td>\n      <td>0.082629</td>\n      <td>0</td>\n    </tr>\n    <tr>\n      <th>2021-03-01 23:45:00</th>\n      <td>GBPCAD</td>\n      <td>2021-03-01</td>\n      <td>0.439861</td>\n      <td>0.429908</td>\n      <td>0.014114</td>\n      <td>0.420643</td>\n      <td>0.278466</td>\n      <td>0.278466</td>\n      <td>0.405405</td>\n      <td>0.276276</td>\n      <td>...</td>\n      <td>0.042726</td>\n      <td>0.806341</td>\n      <td>0.009372</td>\n      <td>0.001479</td>\n      <td>0.001479</td>\n      <td>0.001479</td>\n      <td>0.675477</td>\n      <td>0.001479</td>\n      <td>0.625098</td>\n      <td>0</td>\n    </tr>\n    <tr>\n      <th>2021-03-01 23:50:00</th>\n      <td>GBPCAD</td>\n      <td>2021-03-01</td>\n      <td>0.500231</td>\n      <td>0.527337</td>\n      <td>0.015285</td>\n      <td>0.435435</td>\n      <td>0.218216</td>\n      <td>0.218216</td>\n      <td>0.345345</td>\n      <td>0.449950</td>\n      <td>...</td>\n      <td>0.042811</td>\n      <td>0.809074</td>\n      <td>0.010689</td>\n      <td>0.002011</td>\n      <td>0.002011</td>\n      <td>0.002011</td>\n      <td>0.679778</td>\n      <td>0.002011</td>\n      <td>0.656540</td>\n      <td>0</td>\n    </tr>\n    <tr>\n      <th>2021-03-01 23:55:00</th>\n      <td>GBPCAD</td>\n      <td>2021-03-01</td>\n      <td>0.419609</td>\n      <td>0.405329</td>\n      <td>0.013648</td>\n      <td>0.414384</td>\n      <td>0.170997</td>\n      <td>0.170997</td>\n      <td>0.486486</td>\n      <td>0.574074</td>\n      <td>...</td>\n      <td>0.042686</td>\n      <td>0.805522</td>\n      <td>0.008735</td>\n      <td>0.001223</td>\n      <td>0.001223</td>\n      <td>0.001223</td>\n      <td>0.673945</td>\n      <td>0.001223</td>\n      <td>0.283255</td>\n      <td>0</td>\n    </tr>\n  </tbody>\n</table>\n<p>11667 rows × 45 columns</p>\n</div>"
     },
     "metadata": {},
     "execution_count": 20
    }
   ],
   "source": [
    "features_oos"
   ]
  },
  {
   "cell_type": "code",
   "execution_count": 21,
   "metadata": {},
   "outputs": [
    {
     "output_type": "execute_result",
     "data": {
      "text/plain": [
       "((11667, 61), (11589, 59))"
      ]
     },
     "metadata": {},
     "execution_count": 21
    }
   ],
   "source": [
    "verif.dropna().shape, df_all_oos.dropna().shape"
   ]
  },
  {
   "cell_type": "code",
   "execution_count": 22,
   "metadata": {},
   "outputs": [
    {
     "output_type": "execute_result",
     "data": {
      "text/plain": [
       "(Timestamp('2021-01-04 00:00:00'),\n",
       " Timestamp('2021-03-01 23:55:00'),\n",
       " Timestamp('2021-01-04 00:00:00'),\n",
       " Timestamp('2021-03-01 23:55:00'))"
      ]
     },
     "metadata": {},
     "execution_count": 22
    }
   ],
   "source": [
    "verif.index[0],verif.index[-1],df_all_oos.index[0],df_all_oos.index[-1]"
   ]
  },
  {
   "cell_type": "code",
   "execution_count": 23,
   "metadata": {},
   "outputs": [
    {
     "output_type": "execute_result",
     "data": {
      "text/plain": [
       "78"
      ]
     },
     "metadata": {},
     "execution_count": 23
    }
   ],
   "source": [
    "len(verif) - len(df_all_oos)"
   ]
  },
  {
   "cell_type": "code",
   "execution_count": 24,
   "metadata": {},
   "outputs": [],
   "source": [
    "verif['datation'] = verif.index\n",
    "verif['duplikindex'] = np.where((verif.datation==verif.datation.shift(1))|(verif.datation==verif.datation.shift(-1)),1,0)"
   ]
  },
  {
   "cell_type": "code",
   "execution_count": 25,
   "metadata": {},
   "outputs": [
    {
     "output_type": "execute_result",
     "data": {
      "text/plain": [
       "Empty DataFrame\n",
       "Columns: [Close, CloseAsk, CloseBid, High, HighAsk, HighBid, Low, LowAsk, LowBid, Open, OpenAsk, OpenBid, Symbol, Date, ADR, DayHigh, DayLow, ADR_High, ADR_Low, SMA_200, UpperBand, LowerBand, slow_K5, slow_D5, EMA_21, EMA_8, PP, S38, S62, S100, S138, S162, S200, R38, R62, R100, R138, R162, R200, prev_close, TR, ATR_14, RVI, SB_Gamma, ONHISMA_5, ONLOSMA_5, ONHISMA_21, ONLOSMA_21, ONHISMA_34, ONLOSMA_34, Open_weekly, High_weekly, Low_weekly, Close_weekly, Open_daily, High_daily, Low_daily, Close_daily, Signal, Valid, Verif_raw_sig, datation, duplikindex]\n",
       "Index: []\n",
       "\n",
       "[0 rows x 63 columns]"
      ],
      "text/html": "<div>\n<style scoped>\n    .dataframe tbody tr th:only-of-type {\n        vertical-align: middle;\n    }\n\n    .dataframe tbody tr th {\n        vertical-align: top;\n    }\n\n    .dataframe thead th {\n        text-align: right;\n    }\n</style>\n<table border=\"1\" class=\"dataframe\">\n  <thead>\n    <tr style=\"text-align: right;\">\n      <th></th>\n      <th>Close</th>\n      <th>CloseAsk</th>\n      <th>CloseBid</th>\n      <th>High</th>\n      <th>HighAsk</th>\n      <th>HighBid</th>\n      <th>Low</th>\n      <th>LowAsk</th>\n      <th>LowBid</th>\n      <th>Open</th>\n      <th>...</th>\n      <th>Close_weekly</th>\n      <th>Open_daily</th>\n      <th>High_daily</th>\n      <th>Low_daily</th>\n      <th>Close_daily</th>\n      <th>Signal</th>\n      <th>Valid</th>\n      <th>Verif_raw_sig</th>\n      <th>datation</th>\n      <th>duplikindex</th>\n    </tr>\n  </thead>\n  <tbody>\n  </tbody>\n</table>\n<p>0 rows × 63 columns</p>\n</div>"
     },
     "metadata": {},
     "execution_count": 25
    }
   ],
   "source": [
    "verif[verif['duplikindex'] == 1]"
   ]
  },
  {
   "cell_type": "code",
   "execution_count": 26,
   "metadata": {},
   "outputs": [
    {
     "output_type": "execute_result",
     "data": {
      "text/plain": [
       "Empty DataFrame\n",
       "Columns: [OpenBid, HighBid, LowBid, CloseBid, OpenAsk, HighAsk, LowAsk, CloseAsk, Symbol, Open, High, Low, Close, Date, ADR, DayHigh, DayLow, ADR_High, ADR_Low, SMA_200, UpperBand, LowerBand, slow_K5, slow_D5, EMA_21, EMA_8, PP, S38, S62, S100, S138, S162, S200, R38, R62, R100, R138, R162, R200, ATR_14, RVI, SB_Gamma, ONHISMA_5, ONLOSMA_5, ONHISMA_21, ONLOSMA_21, ONHISMA_34, ONLOSMA_34, Open_weekly, High_weekly, Low_weekly, Close_weekly, Open_daily, High_daily, Low_daily, Close_daily, Signal, Valid, Verif_raw_sig, datation, duplikindex]\n",
       "Index: []\n",
       "\n",
       "[0 rows x 61 columns]"
      ],
      "text/html": "<div>\n<style scoped>\n    .dataframe tbody tr th:only-of-type {\n        vertical-align: middle;\n    }\n\n    .dataframe tbody tr th {\n        vertical-align: top;\n    }\n\n    .dataframe thead th {\n        text-align: right;\n    }\n</style>\n<table border=\"1\" class=\"dataframe\">\n  <thead>\n    <tr style=\"text-align: right;\">\n      <th></th>\n      <th>OpenBid</th>\n      <th>HighBid</th>\n      <th>LowBid</th>\n      <th>CloseBid</th>\n      <th>OpenAsk</th>\n      <th>HighAsk</th>\n      <th>LowAsk</th>\n      <th>CloseAsk</th>\n      <th>Symbol</th>\n      <th>Open</th>\n      <th>...</th>\n      <th>Close_weekly</th>\n      <th>Open_daily</th>\n      <th>High_daily</th>\n      <th>Low_daily</th>\n      <th>Close_daily</th>\n      <th>Signal</th>\n      <th>Valid</th>\n      <th>Verif_raw_sig</th>\n      <th>datation</th>\n      <th>duplikindex</th>\n    </tr>\n    <tr>\n      <th>Lindex</th>\n      <th></th>\n      <th></th>\n      <th></th>\n      <th></th>\n      <th></th>\n      <th></th>\n      <th></th>\n      <th></th>\n      <th></th>\n      <th></th>\n      <th></th>\n      <th></th>\n      <th></th>\n      <th></th>\n      <th></th>\n      <th></th>\n      <th></th>\n      <th></th>\n      <th></th>\n      <th></th>\n      <th></th>\n    </tr>\n  </thead>\n  <tbody>\n  </tbody>\n</table>\n<p>0 rows × 61 columns</p>\n</div>"
     },
     "metadata": {},
     "execution_count": 26
    }
   ],
   "source": [
    "df_all_oos['datation'] = df_all_oos.index\n",
    "df_all_oos['duplikindex'] = np.where((df_all_oos.datation==df_all_oos.datation.shift(1))|(df_all_oos.datation==df_all_oos.datation.shift(-1)),1,0)\n",
    "df_all_oos[df_all_oos['duplikindex'] == 1]"
   ]
  },
  {
   "cell_type": "code",
   "execution_count": 27,
   "metadata": {},
   "outputs": [
    {
     "output_type": "stream",
     "name": "stderr",
     "text": [
      "100%|██████████| 11667/11667 [03:17<00:00, 59.19it/s]CPU times: user 3min 11s, sys: 2.35 s, total: 3min 14s\n",
      "Wall time: 3min 17s\n",
      "\n"
     ]
    },
    {
     "output_type": "execute_result",
     "data": {
      "text/plain": [
       "105"
      ]
     },
     "metadata": {},
     "execution_count": 27
    }
   ],
   "source": [
    "%%time\n",
    "VERIF = []\n",
    "for i in tqdm(range(len(verif))):\n",
    "    if verif.datation[i] not in df_all_oos.datation.to_list():\n",
    "        VERIF.append(verif.datation[i])\n",
    "len(VERIF)"
   ]
  },
  {
   "cell_type": "code",
   "execution_count": 28,
   "metadata": {},
   "outputs": [
    {
     "output_type": "execute_result",
     "data": {
      "text/plain": [
       "[Timestamp('2021-01-04 21:40:00'),\n",
       " Timestamp('2021-01-05 23:05:00'),\n",
       " Timestamp('2021-01-20 07:05:00'),\n",
       " Timestamp('2021-01-21 08:10:00'),\n",
       " Timestamp('2021-01-21 08:20:00'),\n",
       " Timestamp('2021-01-25 09:10:00'),\n",
       " Timestamp('2021-01-25 09:20:00'),\n",
       " Timestamp('2021-01-25 09:40:00'),\n",
       " Timestamp('2021-01-25 09:45:00'),\n",
       " Timestamp('2021-01-26 10:00:00'),\n",
       " Timestamp('2021-01-26 10:05:00'),\n",
       " Timestamp('2021-01-28 12:05:00'),\n",
       " Timestamp('2021-02-01 12:20:00'),\n",
       " Timestamp('2021-02-01 12:50:00'),\n",
       " Timestamp('2021-02-03 14:00:00'),\n",
       " Timestamp('2021-02-04 15:35:00'),\n",
       " Timestamp('2021-02-04 15:40:00'),\n",
       " Timestamp('2021-02-04 16:10:00'),\n",
       " Timestamp('2021-02-04 16:20:00'),\n",
       " Timestamp('2021-02-08 15:05:00'),\n",
       " Timestamp('2021-02-08 15:20:00'),\n",
       " Timestamp('2021-02-10 17:00:00'),\n",
       " Timestamp('2021-02-10 17:05:00'),\n",
       " Timestamp('2021-02-15 18:15:00'),\n",
       " Timestamp('2021-02-15 18:35:00'),\n",
       " Timestamp('2021-02-21 19:30:00'),\n",
       " Timestamp('2021-02-21 19:35:00'),\n",
       " Timestamp('2021-02-21 19:40:00'),\n",
       " Timestamp('2021-02-21 19:45:00'),\n",
       " Timestamp('2021-02-21 20:00:00'),\n",
       " Timestamp('2021-02-21 20:05:00'),\n",
       " Timestamp('2021-02-21 20:10:00'),\n",
       " Timestamp('2021-02-21 20:15:00'),\n",
       " Timestamp('2021-02-21 20:25:00'),\n",
       " Timestamp('2021-02-21 20:30:00'),\n",
       " Timestamp('2021-02-21 20:45:00'),\n",
       " Timestamp('2021-02-21 20:50:00'),\n",
       " Timestamp('2021-02-21 20:55:00'),\n",
       " Timestamp('2021-02-21 21:00:00'),\n",
       " Timestamp('2021-02-21 21:05:00'),\n",
       " Timestamp('2021-02-21 21:10:00'),\n",
       " Timestamp('2021-02-21 21:15:00'),\n",
       " Timestamp('2021-02-21 21:20:00'),\n",
       " Timestamp('2021-02-21 21:25:00'),\n",
       " Timestamp('2021-02-21 21:30:00'),\n",
       " Timestamp('2021-02-21 21:35:00'),\n",
       " Timestamp('2021-02-21 21:40:00'),\n",
       " Timestamp('2021-02-21 21:45:00'),\n",
       " Timestamp('2021-02-21 21:50:00'),\n",
       " Timestamp('2021-02-21 21:55:00'),\n",
       " Timestamp('2021-02-21 22:00:00'),\n",
       " Timestamp('2021-02-21 22:05:00'),\n",
       " Timestamp('2021-02-21 22:10:00'),\n",
       " Timestamp('2021-02-21 22:15:00'),\n",
       " Timestamp('2021-02-21 22:20:00'),\n",
       " Timestamp('2021-02-21 22:25:00'),\n",
       " Timestamp('2021-02-21 22:30:00'),\n",
       " Timestamp('2021-02-21 22:35:00'),\n",
       " Timestamp('2021-02-21 22:40:00'),\n",
       " Timestamp('2021-02-21 22:45:00'),\n",
       " Timestamp('2021-02-21 22:50:00'),\n",
       " Timestamp('2021-02-21 22:55:00'),\n",
       " Timestamp('2021-02-21 23:00:00'),\n",
       " Timestamp('2021-02-21 23:05:00'),\n",
       " Timestamp('2021-02-21 23:10:00'),\n",
       " Timestamp('2021-02-21 23:15:00'),\n",
       " Timestamp('2021-02-21 23:20:00'),\n",
       " Timestamp('2021-02-21 23:25:00'),\n",
       " Timestamp('2021-02-21 23:30:00'),\n",
       " Timestamp('2021-02-21 23:35:00'),\n",
       " Timestamp('2021-02-21 23:40:00'),\n",
       " Timestamp('2021-02-21 23:45:00'),\n",
       " Timestamp('2021-02-21 23:50:00'),\n",
       " Timestamp('2021-02-21 23:55:00'),\n",
       " Timestamp('2021-02-28 20:50:00'),\n",
       " Timestamp('2021-02-28 21:05:00'),\n",
       " Timestamp('2021-02-28 21:10:00'),\n",
       " Timestamp('2021-02-28 21:15:00'),\n",
       " Timestamp('2021-02-28 21:30:00'),\n",
       " Timestamp('2021-02-28 21:35:00'),\n",
       " Timestamp('2021-02-28 21:55:00'),\n",
       " Timestamp('2021-02-28 22:00:00'),\n",
       " Timestamp('2021-02-28 22:05:00'),\n",
       " Timestamp('2021-02-28 22:10:00'),\n",
       " Timestamp('2021-02-28 22:15:00'),\n",
       " Timestamp('2021-02-28 22:20:00'),\n",
       " Timestamp('2021-02-28 22:25:00'),\n",
       " Timestamp('2021-02-28 22:30:00'),\n",
       " Timestamp('2021-02-28 22:35:00'),\n",
       " Timestamp('2021-02-28 22:40:00'),\n",
       " Timestamp('2021-02-28 22:45:00'),\n",
       " Timestamp('2021-02-28 22:50:00'),\n",
       " Timestamp('2021-02-28 22:55:00'),\n",
       " Timestamp('2021-02-28 23:00:00'),\n",
       " Timestamp('2021-02-28 23:05:00'),\n",
       " Timestamp('2021-02-28 23:10:00'),\n",
       " Timestamp('2021-02-28 23:15:00'),\n",
       " Timestamp('2021-02-28 23:20:00'),\n",
       " Timestamp('2021-02-28 23:25:00'),\n",
       " Timestamp('2021-02-28 23:30:00'),\n",
       " Timestamp('2021-02-28 23:35:00'),\n",
       " Timestamp('2021-02-28 23:40:00'),\n",
       " Timestamp('2021-02-28 23:45:00'),\n",
       " Timestamp('2021-02-28 23:50:00'),\n",
       " Timestamp('2021-02-28 23:55:00')]"
      ]
     },
     "metadata": {},
     "execution_count": 28
    }
   ],
   "source": [
    "VERIF"
   ]
  },
  {
   "cell_type": "code",
   "execution_count": 29,
   "metadata": {},
   "outputs": [
    {
     "output_type": "stream",
     "name": "stderr",
     "text": [
      "100%|██████████| 11589/11589 [03:29<00:00, 55.36it/s]CPU times: user 3min 24s, sys: 2.53 s, total: 3min 26s\n",
      "Wall time: 3min 29s\n",
      "\n"
     ]
    },
    {
     "output_type": "execute_result",
     "data": {
      "text/plain": [
       "27"
      ]
     },
     "metadata": {},
     "execution_count": 29
    }
   ],
   "source": [
    "%%time\n",
    "FIREV = []\n",
    "for i in tqdm(range(len(df_all_oos))):\n",
    "    if df_all_oos.datation[i] not in verif.datation.to_list():\n",
    "        FIREV.append(df_all_oos.datation[i])\n",
    "len(FIREV)"
   ]
  },
  {
   "cell_type": "code",
   "execution_count": 30,
   "metadata": {},
   "outputs": [
    {
     "output_type": "execute_result",
     "data": {
      "text/plain": [
       "[Timestamp('2021-01-04 03:45:00'),\n",
       " Timestamp('2021-01-04 04:00:00'),\n",
       " Timestamp('2021-01-08 06:30:00'),\n",
       " Timestamp('2021-01-12 09:00:00'),\n",
       " Timestamp('2021-01-14 11:05:00'),\n",
       " Timestamp('2021-01-14 11:20:00'),\n",
       " Timestamp('2021-01-14 11:30:00'),\n",
       " Timestamp('2021-01-19 13:00:00'),\n",
       " Timestamp('2021-01-20 14:05:00'),\n",
       " Timestamp('2021-01-20 14:20:00'),\n",
       " Timestamp('2021-01-21 14:45:00'),\n",
       " Timestamp('2021-01-21 15:00:00'),\n",
       " Timestamp('2021-01-25 16:20:00'),\n",
       " Timestamp('2021-01-26 16:35:00'),\n",
       " Timestamp('2021-01-26 16:45:00'),\n",
       " Timestamp('2021-01-26 17:05:00'),\n",
       " Timestamp('2021-01-28 18:45:00'),\n",
       " Timestamp('2021-01-28 19:05:00'),\n",
       " Timestamp('2021-01-28 19:20:00'),\n",
       " Timestamp('2021-02-17 23:40:00'),\n",
       " Timestamp('2021-02-18 00:10:00'),\n",
       " Timestamp('2021-02-18 02:10:00'),\n",
       " Timestamp('2021-02-18 03:00:00'),\n",
       " Timestamp('2021-02-18 04:15:00'),\n",
       " Timestamp('2021-02-18 04:30:00'),\n",
       " Timestamp('2021-02-18 04:45:00'),\n",
       " Timestamp('2021-02-18 05:05:00')]"
      ]
     },
     "metadata": {},
     "execution_count": 30
    }
   ],
   "source": [
    "FIREV"
   ]
  },
  {
   "cell_type": "code",
   "execution_count": 31,
   "metadata": {},
   "outputs": [
    {
     "output_type": "execute_result",
     "data": {
      "text/plain": [
       "27"
      ]
     },
     "metadata": {},
     "execution_count": 31
    }
   ],
   "source": [
    "105 - 78"
   ]
  },
  {
   "cell_type": "code",
   "execution_count": 32,
   "metadata": {},
   "outputs": [
    {
     "output_type": "execute_result",
     "data": {
      "text/plain": [
       "Empty DataFrame\n",
       "Columns: [Close, CloseAsk, CloseBid, High, HighAsk, HighBid, Low, LowAsk, LowBid, Open, OpenAsk, OpenBid, Symbol, Date, ADR, DayHigh, DayLow, ADR_High, ADR_Low, SMA_200, UpperBand, LowerBand, slow_K5, slow_D5, EMA_21, EMA_8, PP, S38, S62, S100, S138, S162, S200, R38, R62, R100, R138, R162, R200, prev_close, TR, ATR_14, RVI, SB_Gamma, ONHISMA_5, ONLOSMA_5, ONHISMA_21, ONLOSMA_21, ONHISMA_34, ONLOSMA_34, Open_weekly, High_weekly, Low_weekly, Close_weekly, Open_daily, High_daily, Low_daily, Close_daily, Signal, Valid, Verif_raw_sig, datation, duplikindex]\n",
       "Index: []\n",
       "\n",
       "[0 rows x 63 columns]"
      ],
      "text/html": "<div>\n<style scoped>\n    .dataframe tbody tr th:only-of-type {\n        vertical-align: middle;\n    }\n\n    .dataframe tbody tr th {\n        vertical-align: top;\n    }\n\n    .dataframe thead th {\n        text-align: right;\n    }\n</style>\n<table border=\"1\" class=\"dataframe\">\n  <thead>\n    <tr style=\"text-align: right;\">\n      <th></th>\n      <th>Close</th>\n      <th>CloseAsk</th>\n      <th>CloseBid</th>\n      <th>High</th>\n      <th>HighAsk</th>\n      <th>HighBid</th>\n      <th>Low</th>\n      <th>LowAsk</th>\n      <th>LowBid</th>\n      <th>Open</th>\n      <th>...</th>\n      <th>Close_weekly</th>\n      <th>Open_daily</th>\n      <th>High_daily</th>\n      <th>Low_daily</th>\n      <th>Close_daily</th>\n      <th>Signal</th>\n      <th>Valid</th>\n      <th>Verif_raw_sig</th>\n      <th>datation</th>\n      <th>duplikindex</th>\n    </tr>\n  </thead>\n  <tbody>\n  </tbody>\n</table>\n<p>0 rows × 63 columns</p>\n</div>"
     },
     "metadata": {},
     "execution_count": 32
    }
   ],
   "source": [
    "verif[verif.index=='2021-02-18 05:05:00']"
   ]
  },
  {
   "cell_type": "code",
   "execution_count": 34,
   "metadata": {},
   "outputs": [
    {
     "output_type": "stream",
     "name": "stderr",
     "text": [
      "100%|██████████| 11589/11589 [04:55<00:00, 39.26it/s]27\n",
      "CPU times: user 4min 47s, sys: 3.79 s, total: 4min 50s\n",
      "Wall time: 4min 55s\n",
      "\n"
     ]
    },
    {
     "output_type": "execute_result",
     "data": {
      "text/plain": [
       "[Timestamp('2021-01-04 03:45:00'),\n",
       " Timestamp('2021-01-04 04:00:00'),\n",
       " Timestamp('2021-01-08 06:30:00'),\n",
       " Timestamp('2021-01-12 09:00:00'),\n",
       " Timestamp('2021-01-14 11:05:00'),\n",
       " Timestamp('2021-01-14 11:20:00'),\n",
       " Timestamp('2021-01-14 11:30:00'),\n",
       " Timestamp('2021-01-19 13:00:00'),\n",
       " Timestamp('2021-01-20 14:05:00'),\n",
       " Timestamp('2021-01-20 14:20:00'),\n",
       " Timestamp('2021-01-21 14:45:00'),\n",
       " Timestamp('2021-01-21 15:00:00'),\n",
       " Timestamp('2021-01-25 16:20:00'),\n",
       " Timestamp('2021-01-26 16:35:00'),\n",
       " Timestamp('2021-01-26 16:45:00'),\n",
       " Timestamp('2021-01-26 17:05:00'),\n",
       " Timestamp('2021-01-28 18:45:00'),\n",
       " Timestamp('2021-01-28 19:05:00'),\n",
       " Timestamp('2021-01-28 19:20:00'),\n",
       " Timestamp('2021-02-17 23:40:00'),\n",
       " Timestamp('2021-02-18 00:10:00'),\n",
       " Timestamp('2021-02-18 02:10:00'),\n",
       " Timestamp('2021-02-18 03:00:00'),\n",
       " Timestamp('2021-02-18 04:15:00'),\n",
       " Timestamp('2021-02-18 04:30:00'),\n",
       " Timestamp('2021-02-18 04:45:00'),\n",
       " Timestamp('2021-02-18 05:05:00')]"
      ]
     },
     "metadata": {},
     "execution_count": 34
    }
   ],
   "source": [
    "%%time\n",
    "feature_hdd['datation'] = feature_hdd.index\n",
    "feature_api['datation'] = feature_api.index\n",
    "GOLO = []\n",
    "for i in tqdm(range(len(feature_hdd))):\n",
    "    if feature_hdd.datation[i] not in feature_api.datation.to_list():\n",
    "        GOLO.append(feature_hdd.datation[i])\n",
    "print(len(GOLO))\n",
    "GOLO"
   ]
  },
  {
   "cell_type": "code",
   "execution_count": 35,
   "metadata": {},
   "outputs": [
    {
     "output_type": "stream",
     "name": "stderr",
     "text": [
      "100%|██████████| 11667/11667 [03:49<00:00, 50.93it/s]105\n",
      "CPU times: user 3min 42s, sys: 2.15 s, total: 3min 44s\n",
      "Wall time: 3min 49s\n",
      "\n"
     ]
    },
    {
     "output_type": "execute_result",
     "data": {
      "text/plain": [
       "[Timestamp('2021-01-04 21:40:00'),\n",
       " Timestamp('2021-01-05 23:05:00'),\n",
       " Timestamp('2021-01-20 07:05:00'),\n",
       " Timestamp('2021-01-21 08:10:00'),\n",
       " Timestamp('2021-01-21 08:20:00'),\n",
       " Timestamp('2021-01-25 09:10:00'),\n",
       " Timestamp('2021-01-25 09:20:00'),\n",
       " Timestamp('2021-01-25 09:40:00'),\n",
       " Timestamp('2021-01-25 09:45:00'),\n",
       " Timestamp('2021-01-26 10:00:00'),\n",
       " Timestamp('2021-01-26 10:05:00'),\n",
       " Timestamp('2021-01-28 12:05:00'),\n",
       " Timestamp('2021-02-01 12:20:00'),\n",
       " Timestamp('2021-02-01 12:50:00'),\n",
       " Timestamp('2021-02-03 14:00:00'),\n",
       " Timestamp('2021-02-04 15:35:00'),\n",
       " Timestamp('2021-02-04 15:40:00'),\n",
       " Timestamp('2021-02-04 16:10:00'),\n",
       " Timestamp('2021-02-04 16:20:00'),\n",
       " Timestamp('2021-02-08 15:05:00'),\n",
       " Timestamp('2021-02-08 15:20:00'),\n",
       " Timestamp('2021-02-10 17:00:00'),\n",
       " Timestamp('2021-02-10 17:05:00'),\n",
       " Timestamp('2021-02-15 18:15:00'),\n",
       " Timestamp('2021-02-15 18:35:00'),\n",
       " Timestamp('2021-02-21 19:30:00'),\n",
       " Timestamp('2021-02-21 19:35:00'),\n",
       " Timestamp('2021-02-21 19:40:00'),\n",
       " Timestamp('2021-02-21 19:45:00'),\n",
       " Timestamp('2021-02-21 20:00:00'),\n",
       " Timestamp('2021-02-21 20:05:00'),\n",
       " Timestamp('2021-02-21 20:10:00'),\n",
       " Timestamp('2021-02-21 20:15:00'),\n",
       " Timestamp('2021-02-21 20:25:00'),\n",
       " Timestamp('2021-02-21 20:30:00'),\n",
       " Timestamp('2021-02-21 20:45:00'),\n",
       " Timestamp('2021-02-21 20:50:00'),\n",
       " Timestamp('2021-02-21 20:55:00'),\n",
       " Timestamp('2021-02-21 21:00:00'),\n",
       " Timestamp('2021-02-21 21:05:00'),\n",
       " Timestamp('2021-02-21 21:10:00'),\n",
       " Timestamp('2021-02-21 21:15:00'),\n",
       " Timestamp('2021-02-21 21:20:00'),\n",
       " Timestamp('2021-02-21 21:25:00'),\n",
       " Timestamp('2021-02-21 21:30:00'),\n",
       " Timestamp('2021-02-21 21:35:00'),\n",
       " Timestamp('2021-02-21 21:40:00'),\n",
       " Timestamp('2021-02-21 21:45:00'),\n",
       " Timestamp('2021-02-21 21:50:00'),\n",
       " Timestamp('2021-02-21 21:55:00'),\n",
       " Timestamp('2021-02-21 22:00:00'),\n",
       " Timestamp('2021-02-21 22:05:00'),\n",
       " Timestamp('2021-02-21 22:10:00'),\n",
       " Timestamp('2021-02-21 22:15:00'),\n",
       " Timestamp('2021-02-21 22:20:00'),\n",
       " Timestamp('2021-02-21 22:25:00'),\n",
       " Timestamp('2021-02-21 22:30:00'),\n",
       " Timestamp('2021-02-21 22:35:00'),\n",
       " Timestamp('2021-02-21 22:40:00'),\n",
       " Timestamp('2021-02-21 22:45:00'),\n",
       " Timestamp('2021-02-21 22:50:00'),\n",
       " Timestamp('2021-02-21 22:55:00'),\n",
       " Timestamp('2021-02-21 23:00:00'),\n",
       " Timestamp('2021-02-21 23:05:00'),\n",
       " Timestamp('2021-02-21 23:10:00'),\n",
       " Timestamp('2021-02-21 23:15:00'),\n",
       " Timestamp('2021-02-21 23:20:00'),\n",
       " Timestamp('2021-02-21 23:25:00'),\n",
       " Timestamp('2021-02-21 23:30:00'),\n",
       " Timestamp('2021-02-21 23:35:00'),\n",
       " Timestamp('2021-02-21 23:40:00'),\n",
       " Timestamp('2021-02-21 23:45:00'),\n",
       " Timestamp('2021-02-21 23:50:00'),\n",
       " Timestamp('2021-02-21 23:55:00'),\n",
       " Timestamp('2021-02-28 20:50:00'),\n",
       " Timestamp('2021-02-28 21:05:00'),\n",
       " Timestamp('2021-02-28 21:10:00'),\n",
       " Timestamp('2021-02-28 21:15:00'),\n",
       " Timestamp('2021-02-28 21:30:00'),\n",
       " Timestamp('2021-02-28 21:35:00'),\n",
       " Timestamp('2021-02-28 21:55:00'),\n",
       " Timestamp('2021-02-28 22:00:00'),\n",
       " Timestamp('2021-02-28 22:05:00'),\n",
       " Timestamp('2021-02-28 22:10:00'),\n",
       " Timestamp('2021-02-28 22:15:00'),\n",
       " Timestamp('2021-02-28 22:20:00'),\n",
       " Timestamp('2021-02-28 22:25:00'),\n",
       " Timestamp('2021-02-28 22:30:00'),\n",
       " Timestamp('2021-02-28 22:35:00'),\n",
       " Timestamp('2021-02-28 22:40:00'),\n",
       " Timestamp('2021-02-28 22:45:00'),\n",
       " Timestamp('2021-02-28 22:50:00'),\n",
       " Timestamp('2021-02-28 22:55:00'),\n",
       " Timestamp('2021-02-28 23:00:00'),\n",
       " Timestamp('2021-02-28 23:05:00'),\n",
       " Timestamp('2021-02-28 23:10:00'),\n",
       " Timestamp('2021-02-28 23:15:00'),\n",
       " Timestamp('2021-02-28 23:20:00'),\n",
       " Timestamp('2021-02-28 23:25:00'),\n",
       " Timestamp('2021-02-28 23:30:00'),\n",
       " Timestamp('2021-02-28 23:35:00'),\n",
       " Timestamp('2021-02-28 23:40:00'),\n",
       " Timestamp('2021-02-28 23:45:00'),\n",
       " Timestamp('2021-02-28 23:50:00'),\n",
       " Timestamp('2021-02-28 23:55:00')]"
      ]
     },
     "metadata": {},
     "execution_count": 35
    }
   ],
   "source": [
    "%%time\n",
    "feature_hdd['datation'] = feature_hdd.index\n",
    "feature_api['datation'] = feature_api.index\n",
    "OLGO = []\n",
    "for i in tqdm(range(len(feature_api))):\n",
    "    if feature_api.datation[i] not in feature_hdd.datation.to_list():\n",
    "        OLGO.append(feature_api.datation[i])\n",
    "print(len(OLGO))\n",
    "OLGO"
   ]
  },
  {
   "cell_type": "code",
   "execution_count": 38,
   "metadata": {},
   "outputs": [
    {
     "output_type": "stream",
     "name": "stdout",
     "text": [
      "27\nCPU times: user 273 µs, sys: 80 µs, total: 353 µs\nWall time: 322 µs\n"
     ]
    },
    {
     "output_type": "execute_result",
     "data": {
      "text/plain": [
       "[Timestamp('2021-01-04 03:45:00'),\n",
       " Timestamp('2021-01-04 04:00:00'),\n",
       " Timestamp('2021-01-08 06:30:00'),\n",
       " Timestamp('2021-01-12 09:00:00'),\n",
       " Timestamp('2021-01-14 11:05:00'),\n",
       " Timestamp('2021-01-14 11:20:00'),\n",
       " Timestamp('2021-01-14 11:30:00'),\n",
       " Timestamp('2021-01-19 13:00:00'),\n",
       " Timestamp('2021-01-20 14:05:00'),\n",
       " Timestamp('2021-01-20 14:20:00'),\n",
       " Timestamp('2021-01-21 14:45:00'),\n",
       " Timestamp('2021-01-21 15:00:00'),\n",
       " Timestamp('2021-01-25 16:20:00'),\n",
       " Timestamp('2021-01-26 16:35:00'),\n",
       " Timestamp('2021-01-26 16:45:00'),\n",
       " Timestamp('2021-01-26 17:05:00'),\n",
       " Timestamp('2021-01-28 18:45:00'),\n",
       " Timestamp('2021-01-28 19:05:00'),\n",
       " Timestamp('2021-01-28 19:20:00'),\n",
       " Timestamp('2021-02-17 23:40:00'),\n",
       " Timestamp('2021-02-18 00:10:00'),\n",
       " Timestamp('2021-02-18 02:10:00'),\n",
       " Timestamp('2021-02-18 03:00:00'),\n",
       " Timestamp('2021-02-18 04:15:00'),\n",
       " Timestamp('2021-02-18 04:30:00'),\n",
       " Timestamp('2021-02-18 04:45:00'),\n",
       " Timestamp('2021-02-18 05:05:00')]"
      ]
     },
     "metadata": {},
     "execution_count": 38
    }
   ],
   "source": [
    "%%time\n",
    "setb = set(OLGO)\n",
    "print(len([x for x in GOLO if not x in setb]))\n",
    "[x for x in GOLO if not x in setb]"
   ]
  },
  {
   "cell_type": "code",
   "execution_count": 39,
   "metadata": {},
   "outputs": [
    {
     "output_type": "stream",
     "name": "stdout",
     "text": [
      "105\nCPU times: user 268 µs, sys: 105 µs, total: 373 µs\nWall time: 444 µs\n"
     ]
    },
    {
     "output_type": "execute_result",
     "data": {
      "text/plain": [
       "[Timestamp('2021-01-04 21:40:00'),\n",
       " Timestamp('2021-01-05 23:05:00'),\n",
       " Timestamp('2021-01-20 07:05:00'),\n",
       " Timestamp('2021-01-21 08:10:00'),\n",
       " Timestamp('2021-01-21 08:20:00'),\n",
       " Timestamp('2021-01-25 09:10:00'),\n",
       " Timestamp('2021-01-25 09:20:00'),\n",
       " Timestamp('2021-01-25 09:40:00'),\n",
       " Timestamp('2021-01-25 09:45:00'),\n",
       " Timestamp('2021-01-26 10:00:00'),\n",
       " Timestamp('2021-01-26 10:05:00'),\n",
       " Timestamp('2021-01-28 12:05:00'),\n",
       " Timestamp('2021-02-01 12:20:00'),\n",
       " Timestamp('2021-02-01 12:50:00'),\n",
       " Timestamp('2021-02-03 14:00:00'),\n",
       " Timestamp('2021-02-04 15:35:00'),\n",
       " Timestamp('2021-02-04 15:40:00'),\n",
       " Timestamp('2021-02-04 16:10:00'),\n",
       " Timestamp('2021-02-04 16:20:00'),\n",
       " Timestamp('2021-02-08 15:05:00'),\n",
       " Timestamp('2021-02-08 15:20:00'),\n",
       " Timestamp('2021-02-10 17:00:00'),\n",
       " Timestamp('2021-02-10 17:05:00'),\n",
       " Timestamp('2021-02-15 18:15:00'),\n",
       " Timestamp('2021-02-15 18:35:00'),\n",
       " Timestamp('2021-02-21 19:30:00'),\n",
       " Timestamp('2021-02-21 19:35:00'),\n",
       " Timestamp('2021-02-21 19:40:00'),\n",
       " Timestamp('2021-02-21 19:45:00'),\n",
       " Timestamp('2021-02-21 20:00:00'),\n",
       " Timestamp('2021-02-21 20:05:00'),\n",
       " Timestamp('2021-02-21 20:10:00'),\n",
       " Timestamp('2021-02-21 20:15:00'),\n",
       " Timestamp('2021-02-21 20:25:00'),\n",
       " Timestamp('2021-02-21 20:30:00'),\n",
       " Timestamp('2021-02-21 20:45:00'),\n",
       " Timestamp('2021-02-21 20:50:00'),\n",
       " Timestamp('2021-02-21 20:55:00'),\n",
       " Timestamp('2021-02-21 21:00:00'),\n",
       " Timestamp('2021-02-21 21:05:00'),\n",
       " Timestamp('2021-02-21 21:10:00'),\n",
       " Timestamp('2021-02-21 21:15:00'),\n",
       " Timestamp('2021-02-21 21:20:00'),\n",
       " Timestamp('2021-02-21 21:25:00'),\n",
       " Timestamp('2021-02-21 21:30:00'),\n",
       " Timestamp('2021-02-21 21:35:00'),\n",
       " Timestamp('2021-02-21 21:40:00'),\n",
       " Timestamp('2021-02-21 21:45:00'),\n",
       " Timestamp('2021-02-21 21:50:00'),\n",
       " Timestamp('2021-02-21 21:55:00'),\n",
       " Timestamp('2021-02-21 22:00:00'),\n",
       " Timestamp('2021-02-21 22:05:00'),\n",
       " Timestamp('2021-02-21 22:10:00'),\n",
       " Timestamp('2021-02-21 22:15:00'),\n",
       " Timestamp('2021-02-21 22:20:00'),\n",
       " Timestamp('2021-02-21 22:25:00'),\n",
       " Timestamp('2021-02-21 22:30:00'),\n",
       " Timestamp('2021-02-21 22:35:00'),\n",
       " Timestamp('2021-02-21 22:40:00'),\n",
       " Timestamp('2021-02-21 22:45:00'),\n",
       " Timestamp('2021-02-21 22:50:00'),\n",
       " Timestamp('2021-02-21 22:55:00'),\n",
       " Timestamp('2021-02-21 23:00:00'),\n",
       " Timestamp('2021-02-21 23:05:00'),\n",
       " Timestamp('2021-02-21 23:10:00'),\n",
       " Timestamp('2021-02-21 23:15:00'),\n",
       " Timestamp('2021-02-21 23:20:00'),\n",
       " Timestamp('2021-02-21 23:25:00'),\n",
       " Timestamp('2021-02-21 23:30:00'),\n",
       " Timestamp('2021-02-21 23:35:00'),\n",
       " Timestamp('2021-02-21 23:40:00'),\n",
       " Timestamp('2021-02-21 23:45:00'),\n",
       " Timestamp('2021-02-21 23:50:00'),\n",
       " Timestamp('2021-02-21 23:55:00'),\n",
       " Timestamp('2021-02-28 20:50:00'),\n",
       " Timestamp('2021-02-28 21:05:00'),\n",
       " Timestamp('2021-02-28 21:10:00'),\n",
       " Timestamp('2021-02-28 21:15:00'),\n",
       " Timestamp('2021-02-28 21:30:00'),\n",
       " Timestamp('2021-02-28 21:35:00'),\n",
       " Timestamp('2021-02-28 21:55:00'),\n",
       " Timestamp('2021-02-28 22:00:00'),\n",
       " Timestamp('2021-02-28 22:05:00'),\n",
       " Timestamp('2021-02-28 22:10:00'),\n",
       " Timestamp('2021-02-28 22:15:00'),\n",
       " Timestamp('2021-02-28 22:20:00'),\n",
       " Timestamp('2021-02-28 22:25:00'),\n",
       " Timestamp('2021-02-28 22:30:00'),\n",
       " Timestamp('2021-02-28 22:35:00'),\n",
       " Timestamp('2021-02-28 22:40:00'),\n",
       " Timestamp('2021-02-28 22:45:00'),\n",
       " Timestamp('2021-02-28 22:50:00'),\n",
       " Timestamp('2021-02-28 22:55:00'),\n",
       " Timestamp('2021-02-28 23:00:00'),\n",
       " Timestamp('2021-02-28 23:05:00'),\n",
       " Timestamp('2021-02-28 23:10:00'),\n",
       " Timestamp('2021-02-28 23:15:00'),\n",
       " Timestamp('2021-02-28 23:20:00'),\n",
       " Timestamp('2021-02-28 23:25:00'),\n",
       " Timestamp('2021-02-28 23:30:00'),\n",
       " Timestamp('2021-02-28 23:35:00'),\n",
       " Timestamp('2021-02-28 23:40:00'),\n",
       " Timestamp('2021-02-28 23:45:00'),\n",
       " Timestamp('2021-02-28 23:50:00'),\n",
       " Timestamp('2021-02-28 23:55:00')]"
      ]
     },
     "metadata": {},
     "execution_count": 39
    }
   ],
   "source": [
    "%%time\n",
    "seta = set(GOLO)\n",
    "print(len([x for x in OLGO if not x in seta]))\n",
    "[x for x in OLGO if not x in seta]"
   ]
  },
  {
   "cell_type": "code",
   "execution_count": 41,
   "metadata": {},
   "outputs": [
    {
     "output_type": "stream",
     "name": "stdout",
     "text": [
      "0\nCPU times: user 415 µs, sys: 115 µs, total: 530 µs\nWall time: 480 µs\n"
     ]
    },
    {
     "output_type": "execute_result",
     "data": {
      "text/plain": [
       "[]"
      ]
     },
     "metadata": {},
     "execution_count": 41
    }
   ],
   "source": [
    "%%time\n",
    "seta = set(VERIF)\n",
    "print(len([x for x in OLGO if not x in seta]))\n",
    "[x for x in OLGO if not x in seta]"
   ]
  },
  {
   "cell_type": "code",
   "execution_count": 42,
   "metadata": {},
   "outputs": [
    {
     "output_type": "stream",
     "name": "stdout",
     "text": [
      "0\nCPU times: user 335 µs, sys: 106 µs, total: 441 µs\nWall time: 387 µs\n"
     ]
    },
    {
     "output_type": "execute_result",
     "data": {
      "text/plain": [
       "[]"
      ]
     },
     "metadata": {},
     "execution_count": 42
    }
   ],
   "source": [
    "%%time\n",
    "seta = set(FIREV)\n",
    "print(len([x for x in GOLO if not x in seta]))\n",
    "[x for x in GOLO if not x in seta]"
   ]
  },
  {
   "cell_type": "code",
   "execution_count": 60,
   "metadata": {},
   "outputs": [
    {
     "output_type": "execute_result",
     "data": {
      "text/plain": [
       "              2021-03-01 23:55:00  2021-03-01 23:55:00\n",
       "Symbol                     GBPCAD               GBPCAD\n",
       "Date          2021-03-01 00:00:00  2021-03-01 00:00:00\n",
       "FEMA_21                  0.419323             0.419609\n",
       "FEMA_8                   0.400959             0.405329\n",
       "FADRLo                  0.0124261            0.0136476\n",
       "FADRHi                   0.376598             0.414384\n",
       "FRVI40                   0.235521             0.170997\n",
       "FRVI60                   0.235521             0.170997\n",
       "FONLOSMA5                0.486486             0.486486\n",
       "FONHISMA5                0.575075             0.574074\n",
       "FONLOSMA21               0.535002             0.533626\n",
       "FONHISMA21               0.563377             0.568735\n",
       "FONLOSMA34               0.508695             0.506915\n",
       "FONHISMA34            4.16176e-05             4.75e-05\n",
       "FSBGAMMA                        0                    0\n",
       "FOPENWEEKLY             0.0731595            0.0729955\n",
       "FHIGHWEEKLY              0.195596             0.226226\n",
       "FLOWWEEKLY             0.00586812             0.124331\n",
       "FCLOSEWEEKLY              0.62894             0.599666\n",
       "FOPENDAILY             0.00179579           0.00183945\n",
       "FHIGHDAILY               0.016016            0.0233001\n",
       "FLOWDAILY               0.0228228           0.00879038\n",
       "FCLOSEDAILY               0.55005             0.495185\n",
       "FOPENHOURLY            0.00179579           0.00183945\n",
       "FHIGHHOURLY              0.016016            0.0233001\n",
       "FLOWHOURLY              0.0228228           0.00879038\n",
       "FCLOSEHOURLY              0.55005             0.495185\n",
       "FSMA200                 0.0580816            0.0576624\n",
       "FBOLUP20                 0.757635             0.759336\n",
       "FBOLLOW20             0.000368464          0.000368269\n",
       "FPP                     0.0423706            0.0583748\n",
       "FS38                    0.0950545             0.101422\n",
       "FS62                     0.133828             0.158037\n",
       "FS100                    0.282711             0.309336\n",
       "FS138                    0.467597             0.529384\n",
       "FS162                   0.0417746            0.0426863\n",
       "FS200                     0.78014             0.805522\n",
       "FR38                   0.00256548           0.00873469\n",
       "FR62                   0.00122971           0.00122281\n",
       "FR100                   0.0012297           0.00122283\n",
       "FR138                  0.00122971            0.0012228\n",
       "FR162                    0.629659             0.673945\n",
       "FR200                  0.00122971           0.00122279\n",
       "SBATR                    0.277778             0.283255\n",
       "Signal                          0                    0\n",
       "datation      2021-03-01 23:55:00  2021-03-01 23:55:00"
      ],
      "text/html": "<div>\n<style scoped>\n    .dataframe tbody tr th:only-of-type {\n        vertical-align: middle;\n    }\n\n    .dataframe tbody tr th {\n        vertical-align: top;\n    }\n\n    .dataframe thead th {\n        text-align: right;\n    }\n</style>\n<table border=\"1\" class=\"dataframe\">\n  <thead>\n    <tr style=\"text-align: right;\">\n      <th></th>\n      <th>2021-03-01 23:55:00</th>\n      <th>2021-03-01 23:55:00</th>\n    </tr>\n  </thead>\n  <tbody>\n    <tr>\n      <th>Symbol</th>\n      <td>GBPCAD</td>\n      <td>GBPCAD</td>\n    </tr>\n    <tr>\n      <th>Date</th>\n      <td>2021-03-01 00:00:00</td>\n      <td>2021-03-01 00:00:00</td>\n    </tr>\n    <tr>\n      <th>FEMA_21</th>\n      <td>0.419323</td>\n      <td>0.419609</td>\n    </tr>\n    <tr>\n      <th>FEMA_8</th>\n      <td>0.400959</td>\n      <td>0.405329</td>\n    </tr>\n    <tr>\n      <th>FADRLo</th>\n      <td>0.0124261</td>\n      <td>0.0136476</td>\n    </tr>\n    <tr>\n      <th>FADRHi</th>\n      <td>0.376598</td>\n      <td>0.414384</td>\n    </tr>\n    <tr>\n      <th>FRVI40</th>\n      <td>0.235521</td>\n      <td>0.170997</td>\n    </tr>\n    <tr>\n      <th>FRVI60</th>\n      <td>0.235521</td>\n      <td>0.170997</td>\n    </tr>\n    <tr>\n      <th>FONLOSMA5</th>\n      <td>0.486486</td>\n      <td>0.486486</td>\n    </tr>\n    <tr>\n      <th>FONHISMA5</th>\n      <td>0.575075</td>\n      <td>0.574074</td>\n    </tr>\n    <tr>\n      <th>FONLOSMA21</th>\n      <td>0.535002</td>\n      <td>0.533626</td>\n    </tr>\n    <tr>\n      <th>FONHISMA21</th>\n      <td>0.563377</td>\n      <td>0.568735</td>\n    </tr>\n    <tr>\n      <th>FONLOSMA34</th>\n      <td>0.508695</td>\n      <td>0.506915</td>\n    </tr>\n    <tr>\n      <th>FONHISMA34</th>\n      <td>4.16176e-05</td>\n      <td>4.75e-05</td>\n    </tr>\n    <tr>\n      <th>FSBGAMMA</th>\n      <td>0</td>\n      <td>0</td>\n    </tr>\n    <tr>\n      <th>FOPENWEEKLY</th>\n      <td>0.0731595</td>\n      <td>0.0729955</td>\n    </tr>\n    <tr>\n      <th>FHIGHWEEKLY</th>\n      <td>0.195596</td>\n      <td>0.226226</td>\n    </tr>\n    <tr>\n      <th>FLOWWEEKLY</th>\n      <td>0.00586812</td>\n      <td>0.124331</td>\n    </tr>\n    <tr>\n      <th>FCLOSEWEEKLY</th>\n      <td>0.62894</td>\n      <td>0.599666</td>\n    </tr>\n    <tr>\n      <th>FOPENDAILY</th>\n      <td>0.00179579</td>\n      <td>0.00183945</td>\n    </tr>\n    <tr>\n      <th>FHIGHDAILY</th>\n      <td>0.016016</td>\n      <td>0.0233001</td>\n    </tr>\n    <tr>\n      <th>FLOWDAILY</th>\n      <td>0.0228228</td>\n      <td>0.00879038</td>\n    </tr>\n    <tr>\n      <th>FCLOSEDAILY</th>\n      <td>0.55005</td>\n      <td>0.495185</td>\n    </tr>\n    <tr>\n      <th>FOPENHOURLY</th>\n      <td>0.00179579</td>\n      <td>0.00183945</td>\n    </tr>\n    <tr>\n      <th>FHIGHHOURLY</th>\n      <td>0.016016</td>\n      <td>0.0233001</td>\n    </tr>\n    <tr>\n      <th>FLOWHOURLY</th>\n      <td>0.0228228</td>\n      <td>0.00879038</td>\n    </tr>\n    <tr>\n      <th>FCLOSEHOURLY</th>\n      <td>0.55005</td>\n      <td>0.495185</td>\n    </tr>\n    <tr>\n      <th>FSMA200</th>\n      <td>0.0580816</td>\n      <td>0.0576624</td>\n    </tr>\n    <tr>\n      <th>FBOLUP20</th>\n      <td>0.757635</td>\n      <td>0.759336</td>\n    </tr>\n    <tr>\n      <th>FBOLLOW20</th>\n      <td>0.000368464</td>\n      <td>0.000368269</td>\n    </tr>\n    <tr>\n      <th>FPP</th>\n      <td>0.0423706</td>\n      <td>0.0583748</td>\n    </tr>\n    <tr>\n      <th>FS38</th>\n      <td>0.0950545</td>\n      <td>0.101422</td>\n    </tr>\n    <tr>\n      <th>FS62</th>\n      <td>0.133828</td>\n      <td>0.158037</td>\n    </tr>\n    <tr>\n      <th>FS100</th>\n      <td>0.282711</td>\n      <td>0.309336</td>\n    </tr>\n    <tr>\n      <th>FS138</th>\n      <td>0.467597</td>\n      <td>0.529384</td>\n    </tr>\n    <tr>\n      <th>FS162</th>\n      <td>0.0417746</td>\n      <td>0.0426863</td>\n    </tr>\n    <tr>\n      <th>FS200</th>\n      <td>0.78014</td>\n      <td>0.805522</td>\n    </tr>\n    <tr>\n      <th>FR38</th>\n      <td>0.00256548</td>\n      <td>0.00873469</td>\n    </tr>\n    <tr>\n      <th>FR62</th>\n      <td>0.00122971</td>\n      <td>0.00122281</td>\n    </tr>\n    <tr>\n      <th>FR100</th>\n      <td>0.0012297</td>\n      <td>0.00122283</td>\n    </tr>\n    <tr>\n      <th>FR138</th>\n      <td>0.00122971</td>\n      <td>0.0012228</td>\n    </tr>\n    <tr>\n      <th>FR162</th>\n      <td>0.629659</td>\n      <td>0.673945</td>\n    </tr>\n    <tr>\n      <th>FR200</th>\n      <td>0.00122971</td>\n      <td>0.00122279</td>\n    </tr>\n    <tr>\n      <th>SBATR</th>\n      <td>0.277778</td>\n      <td>0.283255</td>\n    </tr>\n    <tr>\n      <th>Signal</th>\n      <td>0</td>\n      <td>0</td>\n    </tr>\n    <tr>\n      <th>datation</th>\n      <td>2021-03-01 23:55:00</td>\n      <td>2021-03-01 23:55:00</td>\n    </tr>\n  </tbody>\n</table>\n</div>"
     },
     "metadata": {},
     "execution_count": 60
    }
   ],
   "source": [
    "feature_hdd.iloc[-1:,:].append(feature_api.iloc[-1:,:]).T"
   ]
  },
  {
   "cell_type": "code",
   "execution_count": 73,
   "metadata": {},
   "outputs": [
    {
     "output_type": "stream",
     "name": "stdout",
     "text": [
      "CPU times: user 5.78 ms, sys: 2.78 ms, total: 8.56 ms\nWall time: 7.15 ms\n"
     ]
    }
   ],
   "source": [
    "%%time\n",
    "_condition = (abs(features_oos.datation.dt.minute - features_oos.datation.shift(1).dt.minute) !=5) | (abs(features_oos.datation.dt.minute - features_oos.datation.shift(-1).dt.minute) != 5)\n",
    "features_oos['TimeJump'] = np.where(_condition,1,0)"
   ]
  },
  {
   "cell_type": "code",
   "execution_count": 77,
   "metadata": {},
   "outputs": [
    {
     "output_type": "execute_result",
     "data": {
      "text/plain": [
       "((1997, 47), (11667, 47))"
      ]
     },
     "metadata": {},
     "execution_count": 77
    }
   ],
   "source": [
    "features_oos[features_oos.TimeJump==1].shape,features_oos.shape"
   ]
  },
  {
   "cell_type": "code",
   "execution_count": 78,
   "metadata": {},
   "outputs": [
    {
     "output_type": "execute_result",
     "data": {
      "text/plain": [
       "                     Symbol       Date   FEMA_21    FEMA_8    FADRLo  \\\n",
       "2021-01-04 00:00:00  GBPCAD 2021-01-04  0.005814  0.001160  0.974584   \n",
       "2021-01-04 00:55:00  GBPCAD 2021-01-04  0.472621  0.824719  0.999486   \n",
       "2021-01-04 01:00:00  GBPCAD 2021-01-04  0.242433  0.426442  0.996338   \n",
       "2021-01-04 01:55:00  GBPCAD 2021-01-04  0.052739  0.060136  0.942097   \n",
       "2021-01-04 02:00:00  GBPCAD 2021-01-04  0.099414  0.198343  0.961154   \n",
       "...                     ...        ...       ...       ...       ...   \n",
       "2021-03-01 21:55:00  GBPCAD 2021-03-01  0.272608  0.527031  0.015199   \n",
       "2021-03-01 22:00:00  GBPCAD 2021-03-01  0.303128  0.551792  0.015799   \n",
       "2021-03-01 22:55:00  GBPCAD 2021-03-01  0.592430  0.781158  0.016644   \n",
       "2021-03-01 23:00:00  GBPCAD 2021-03-01  0.645965  0.794913  0.017937   \n",
       "2021-03-01 23:55:00  GBPCAD 2021-03-01  0.419609  0.405329  0.013648   \n",
       "\n",
       "                       FADRHi    FRVI40    FRVI60  FONLOSMA5  FONHISMA5  ...  \\\n",
       "2021-01-04 00:00:00  0.001098  0.373871  0.373871   0.000954   0.006232  ...   \n",
       "2021-01-04 00:55:00  0.012608  0.376620  0.376620   0.841174   0.795796  ...   \n",
       "2021-01-04 01:00:00  0.002114  0.302169  0.302169   0.575576   0.551552  ...   \n",
       "2021-01-04 01:55:00  0.000728  0.730834  0.730834   0.109109   0.094094  ...   \n",
       "2021-01-04 02:00:00  0.012316  0.628635  0.628635   0.158158   0.135135  ...   \n",
       "...                       ...       ...       ...        ...        ...  ...   \n",
       "2021-03-01 21:55:00  0.424424  0.696329  0.696329   0.400400   0.776777  ...   \n",
       "2021-03-01 22:00:00  0.430114  0.608967  0.608967   0.685686   0.681682  ...   \n",
       "2021-03-01 22:55:00  0.448830  0.173590  0.173590   0.672673   0.853353  ...   \n",
       "2021-03-01 23:00:00  0.466719  0.275048  0.275048   0.366337   0.914305  ...   \n",
       "2021-03-01 23:55:00  0.414384  0.170997  0.170997   0.486486   0.574074  ...   \n",
       "\n",
       "                         FR38      FR62     FR100     FR138     FR162  \\\n",
       "2021-01-04 00:00:00  0.445423  0.500324  0.575269  0.624827  0.271276   \n",
       "2021-01-04 00:55:00  0.553981  0.597898  0.644083  0.675633  0.301279   \n",
       "2021-01-04 01:00:00  0.525597  0.577018  0.632633  0.660438  0.294822   \n",
       "2021-01-04 01:55:00  0.407863  0.458541  0.537538  0.599762  0.250929   \n",
       "2021-01-04 02:00:00  0.427380  0.479901  0.558559  0.613520  0.260906   \n",
       "...                       ...       ...       ...       ...       ...   \n",
       "2021-03-01 21:55:00  0.010614  0.001991  0.001991  0.001991  0.679507   \n",
       "2021-03-01 22:00:00  0.011093  0.002091  0.002091  0.002091  0.681251   \n",
       "2021-03-01 22:55:00  0.011703  0.002265  0.002265  0.002265  0.684058   \n",
       "2021-03-01 23:00:00  0.012868  0.002560  0.002560  0.002560  0.688518   \n",
       "2021-03-01 23:55:00  0.008735  0.001223  0.001223  0.001223  0.673945   \n",
       "\n",
       "                        FR200     SBATR  Signal            datation  TimeJump  \n",
       "2021-01-04 00:00:00  0.671004  0.009292       0 2021-01-04 00:00:00         1  \n",
       "2021-01-04 00:55:00  0.716717  0.699715       0 2021-01-04 00:55:00         1  \n",
       "2021-01-04 01:00:00  0.705706  0.134626       0 2021-01-04 01:00:00         1  \n",
       "2021-01-04 01:55:00  0.649650  0.311175       0 2021-01-04 01:55:00         1  \n",
       "2021-01-04 02:00:00  0.659358  0.820569       1 2021-01-04 02:00:00         1  \n",
       "...                       ...       ...     ...                 ...       ...  \n",
       "2021-03-01 21:55:00  0.001991  0.717329       0 2021-03-01 21:55:00         1  \n",
       "2021-03-01 22:00:00  0.002091  0.415437       0 2021-03-01 22:00:00         1  \n",
       "2021-03-01 22:55:00  0.002265  0.907375       0 2021-03-01 22:55:00         1  \n",
       "2021-03-01 23:00:00  0.002560  0.653917       0 2021-03-01 23:00:00         1  \n",
       "2021-03-01 23:55:00  0.001223  0.283255       0 2021-03-01 23:55:00         1  \n",
       "\n",
       "[1997 rows x 47 columns]"
      ],
      "text/html": "<div>\n<style scoped>\n    .dataframe tbody tr th:only-of-type {\n        vertical-align: middle;\n    }\n\n    .dataframe tbody tr th {\n        vertical-align: top;\n    }\n\n    .dataframe thead th {\n        text-align: right;\n    }\n</style>\n<table border=\"1\" class=\"dataframe\">\n  <thead>\n    <tr style=\"text-align: right;\">\n      <th></th>\n      <th>Symbol</th>\n      <th>Date</th>\n      <th>FEMA_21</th>\n      <th>FEMA_8</th>\n      <th>FADRLo</th>\n      <th>FADRHi</th>\n      <th>FRVI40</th>\n      <th>FRVI60</th>\n      <th>FONLOSMA5</th>\n      <th>FONHISMA5</th>\n      <th>...</th>\n      <th>FR38</th>\n      <th>FR62</th>\n      <th>FR100</th>\n      <th>FR138</th>\n      <th>FR162</th>\n      <th>FR200</th>\n      <th>SBATR</th>\n      <th>Signal</th>\n      <th>datation</th>\n      <th>TimeJump</th>\n    </tr>\n  </thead>\n  <tbody>\n    <tr>\n      <th>2021-01-04 00:00:00</th>\n      <td>GBPCAD</td>\n      <td>2021-01-04</td>\n      <td>0.005814</td>\n      <td>0.001160</td>\n      <td>0.974584</td>\n      <td>0.001098</td>\n      <td>0.373871</td>\n      <td>0.373871</td>\n      <td>0.000954</td>\n      <td>0.006232</td>\n      <td>...</td>\n      <td>0.445423</td>\n      <td>0.500324</td>\n      <td>0.575269</td>\n      <td>0.624827</td>\n      <td>0.271276</td>\n      <td>0.671004</td>\n      <td>0.009292</td>\n      <td>0</td>\n      <td>2021-01-04 00:00:00</td>\n      <td>1</td>\n    </tr>\n    <tr>\n      <th>2021-01-04 00:55:00</th>\n      <td>GBPCAD</td>\n      <td>2021-01-04</td>\n      <td>0.472621</td>\n      <td>0.824719</td>\n      <td>0.999486</td>\n      <td>0.012608</td>\n      <td>0.376620</td>\n      <td>0.376620</td>\n      <td>0.841174</td>\n      <td>0.795796</td>\n      <td>...</td>\n      <td>0.553981</td>\n      <td>0.597898</td>\n      <td>0.644083</td>\n      <td>0.675633</td>\n      <td>0.301279</td>\n      <td>0.716717</td>\n      <td>0.699715</td>\n      <td>0</td>\n      <td>2021-01-04 00:55:00</td>\n      <td>1</td>\n    </tr>\n    <tr>\n      <th>2021-01-04 01:00:00</th>\n      <td>GBPCAD</td>\n      <td>2021-01-04</td>\n      <td>0.242433</td>\n      <td>0.426442</td>\n      <td>0.996338</td>\n      <td>0.002114</td>\n      <td>0.302169</td>\n      <td>0.302169</td>\n      <td>0.575576</td>\n      <td>0.551552</td>\n      <td>...</td>\n      <td>0.525597</td>\n      <td>0.577018</td>\n      <td>0.632633</td>\n      <td>0.660438</td>\n      <td>0.294822</td>\n      <td>0.705706</td>\n      <td>0.134626</td>\n      <td>0</td>\n      <td>2021-01-04 01:00:00</td>\n      <td>1</td>\n    </tr>\n    <tr>\n      <th>2021-01-04 01:55:00</th>\n      <td>GBPCAD</td>\n      <td>2021-01-04</td>\n      <td>0.052739</td>\n      <td>0.060136</td>\n      <td>0.942097</td>\n      <td>0.000728</td>\n      <td>0.730834</td>\n      <td>0.730834</td>\n      <td>0.109109</td>\n      <td>0.094094</td>\n      <td>...</td>\n      <td>0.407863</td>\n      <td>0.458541</td>\n      <td>0.537538</td>\n      <td>0.599762</td>\n      <td>0.250929</td>\n      <td>0.649650</td>\n      <td>0.311175</td>\n      <td>0</td>\n      <td>2021-01-04 01:55:00</td>\n      <td>1</td>\n    </tr>\n    <tr>\n      <th>2021-01-04 02:00:00</th>\n      <td>GBPCAD</td>\n      <td>2021-01-04</td>\n      <td>0.099414</td>\n      <td>0.198343</td>\n      <td>0.961154</td>\n      <td>0.012316</td>\n      <td>0.628635</td>\n      <td>0.628635</td>\n      <td>0.158158</td>\n      <td>0.135135</td>\n      <td>...</td>\n      <td>0.427380</td>\n      <td>0.479901</td>\n      <td>0.558559</td>\n      <td>0.613520</td>\n      <td>0.260906</td>\n      <td>0.659358</td>\n      <td>0.820569</td>\n      <td>1</td>\n      <td>2021-01-04 02:00:00</td>\n      <td>1</td>\n    </tr>\n    <tr>\n      <th>...</th>\n      <td>...</td>\n      <td>...</td>\n      <td>...</td>\n      <td>...</td>\n      <td>...</td>\n      <td>...</td>\n      <td>...</td>\n      <td>...</td>\n      <td>...</td>\n      <td>...</td>\n      <td>...</td>\n      <td>...</td>\n      <td>...</td>\n      <td>...</td>\n      <td>...</td>\n      <td>...</td>\n      <td>...</td>\n      <td>...</td>\n      <td>...</td>\n      <td>...</td>\n      <td>...</td>\n    </tr>\n    <tr>\n      <th>2021-03-01 21:55:00</th>\n      <td>GBPCAD</td>\n      <td>2021-03-01</td>\n      <td>0.272608</td>\n      <td>0.527031</td>\n      <td>0.015199</td>\n      <td>0.424424</td>\n      <td>0.696329</td>\n      <td>0.696329</td>\n      <td>0.400400</td>\n      <td>0.776777</td>\n      <td>...</td>\n      <td>0.010614</td>\n      <td>0.001991</td>\n      <td>0.001991</td>\n      <td>0.001991</td>\n      <td>0.679507</td>\n      <td>0.001991</td>\n      <td>0.717329</td>\n      <td>0</td>\n      <td>2021-03-01 21:55:00</td>\n      <td>1</td>\n    </tr>\n    <tr>\n      <th>2021-03-01 22:00:00</th>\n      <td>GBPCAD</td>\n      <td>2021-03-01</td>\n      <td>0.303128</td>\n      <td>0.551792</td>\n      <td>0.015799</td>\n      <td>0.430114</td>\n      <td>0.608967</td>\n      <td>0.608967</td>\n      <td>0.685686</td>\n      <td>0.681682</td>\n      <td>...</td>\n      <td>0.011093</td>\n      <td>0.002091</td>\n      <td>0.002091</td>\n      <td>0.002091</td>\n      <td>0.681251</td>\n      <td>0.002091</td>\n      <td>0.415437</td>\n      <td>0</td>\n      <td>2021-03-01 22:00:00</td>\n      <td>1</td>\n    </tr>\n    <tr>\n      <th>2021-03-01 22:55:00</th>\n      <td>GBPCAD</td>\n      <td>2021-03-01</td>\n      <td>0.592430</td>\n      <td>0.781158</td>\n      <td>0.016644</td>\n      <td>0.448830</td>\n      <td>0.173590</td>\n      <td>0.173590</td>\n      <td>0.672673</td>\n      <td>0.853353</td>\n      <td>...</td>\n      <td>0.011703</td>\n      <td>0.002265</td>\n      <td>0.002265</td>\n      <td>0.002265</td>\n      <td>0.684058</td>\n      <td>0.002265</td>\n      <td>0.907375</td>\n      <td>0</td>\n      <td>2021-03-01 22:55:00</td>\n      <td>1</td>\n    </tr>\n    <tr>\n      <th>2021-03-01 23:00:00</th>\n      <td>GBPCAD</td>\n      <td>2021-03-01</td>\n      <td>0.645965</td>\n      <td>0.794913</td>\n      <td>0.017937</td>\n      <td>0.466719</td>\n      <td>0.275048</td>\n      <td>0.275048</td>\n      <td>0.366337</td>\n      <td>0.914305</td>\n      <td>...</td>\n      <td>0.012868</td>\n      <td>0.002560</td>\n      <td>0.002560</td>\n      <td>0.002560</td>\n      <td>0.688518</td>\n      <td>0.002560</td>\n      <td>0.653917</td>\n      <td>0</td>\n      <td>2021-03-01 23:00:00</td>\n      <td>1</td>\n    </tr>\n    <tr>\n      <th>2021-03-01 23:55:00</th>\n      <td>GBPCAD</td>\n      <td>2021-03-01</td>\n      <td>0.419609</td>\n      <td>0.405329</td>\n      <td>0.013648</td>\n      <td>0.414384</td>\n      <td>0.170997</td>\n      <td>0.170997</td>\n      <td>0.486486</td>\n      <td>0.574074</td>\n      <td>...</td>\n      <td>0.008735</td>\n      <td>0.001223</td>\n      <td>0.001223</td>\n      <td>0.001223</td>\n      <td>0.673945</td>\n      <td>0.001223</td>\n      <td>0.283255</td>\n      <td>0</td>\n      <td>2021-03-01 23:55:00</td>\n      <td>1</td>\n    </tr>\n  </tbody>\n</table>\n<p>1997 rows × 47 columns</p>\n</div>"
     },
     "metadata": {},
     "execution_count": 78
    }
   ],
   "source": [
    "features_oos[features_oos.TimeJump==1]"
   ]
  },
  {
   "cell_type": "code",
   "execution_count": 106,
   "metadata": {},
   "outputs": [
    {
     "output_type": "stream",
     "name": "stdout",
     "text": [
      "CPU times: user 118 ms, sys: 1.99 ms, total: 120 ms\nWall time: 111 ms\n"
     ]
    },
    {
     "output_type": "execute_result",
     "data": {
      "text/plain": [
       "                     OpenBid  HighBid   LowBid  CloseBid  OpenAsk  HighAsk  \\\n",
       "Lindex                                                                       \n",
       "2010-01-22 16:50:00  1.70186  1.70186  1.69996   1.70024  1.70278  1.70278   \n",
       "2010-01-22 17:45:00  1.70194  1.70218  1.70170   1.70204  1.70213  1.70310   \n",
       "2010-02-11 22:45:00  1.64739  1.64749  1.64729   1.64729  1.64846  1.64856   \n",
       "2010-02-15 20:45:00  1.64229  1.64239  1.64199   1.64209  1.64381  1.64381   \n",
       "2010-02-15 22:30:00  1.64234  1.64269  1.64234   1.64269  1.64409  1.64448   \n",
       "...                      ...      ...      ...       ...      ...      ...   \n",
       "2021-02-10 17:10:00  1.75653  1.75670  1.75615   1.75646  1.75685  1.75700   \n",
       "2021-02-15 18:20:00  1.75693  1.75734  1.75641   1.75707  1.75772  1.75802   \n",
       "2021-02-15 18:40:00  1.75695  1.75710  1.75681   1.75700  1.75772  1.75786   \n",
       "2021-02-25 22:05:00  1.76470  1.76531  1.76470   1.76473  1.76798  1.76839   \n",
       "2021-02-25 22:15:00  1.76473  1.76493  1.76421   1.76485  1.76798  1.76810   \n",
       "\n",
       "                      LowAsk  CloseAsk  Symbol      Open  ...  High_weekly  \\\n",
       "Lindex                                                    ...                \n",
       "2010-01-22 16:50:00  1.70083   1.70087  GBPCAD  1.702320  ...     1.709475   \n",
       "2010-01-22 17:45:00  1.70213   1.70296  GBPCAD  1.702035  ...     1.709475   \n",
       "2010-02-11 22:45:00  1.64829   1.64851  GBPCAD  1.647925  ...     1.680450   \n",
       "2010-02-15 20:45:00  1.64298   1.64351  GBPCAD  1.643050  ...     1.650900   \n",
       "2010-02-15 22:30:00  1.64409   1.64441  GBPCAD  1.643215  ...     1.650900   \n",
       "...                      ...       ...     ...       ...  ...          ...   \n",
       "2021-02-10 17:10:00  1.75647   1.75678  GBPCAD  1.756690  ...     1.761570   \n",
       "2021-02-15 18:20:00  1.75743   1.75794  GBPCAD  1.757325  ...     1.775145   \n",
       "2021-02-15 18:40:00  1.75759   1.75775  GBPCAD  1.757335  ...     1.775145   \n",
       "2021-02-25 22:05:00  1.76797   1.76798  GBPCAD  1.766340  ...     1.788780   \n",
       "2021-02-25 22:15:00  1.76640   1.76808  GBPCAD  1.766355  ...     1.788780   \n",
       "\n",
       "                     Low_weekly  Close_weekly Open_daily  High_daily  \\\n",
       "Lindex                                                                 \n",
       "2010-01-22 16:50:00    1.672170      1.702500   1.702180    1.706030   \n",
       "2010-01-22 17:45:00    1.672170      1.702500   1.702180    1.706030   \n",
       "2010-02-11 22:45:00    1.640195      1.648045   1.657935    1.658240   \n",
       "2010-02-15 20:45:00    1.606320      1.607945   1.646475    1.648670   \n",
       "2010-02-15 22:30:00    1.606320      1.607945   1.646475    1.648670   \n",
       "...                         ...           ...        ...         ...   \n",
       "2021-02-10 17:10:00    1.747590      1.758275   1.754395    1.759440   \n",
       "2021-02-15 18:20:00    1.756585      1.766960   1.759880    1.762815   \n",
       "2021-02-15 18:40:00    1.756585      1.766960   1.759880    1.762815   \n",
       "2021-02-25 22:05:00    1.755245      1.775725   1.770165    1.771410   \n",
       "2021-02-25 22:15:00    1.755245      1.775725   1.770165    1.771410   \n",
       "\n",
       "                     Low_daily  Close_daily  Signal            datation  \\\n",
       "Lindex                                                                    \n",
       "2010-01-22 16:50:00   1.696230     1.702500       0 2010-01-22 16:50:00   \n",
       "2010-01-22 17:45:00   1.696230     1.702500       0 2010-01-22 17:45:00   \n",
       "2010-02-11 22:45:00   1.644910     1.649230       0 2010-02-11 22:45:00   \n",
       "2010-02-15 20:45:00   1.639575     1.644220       0 2010-02-15 20:45:00   \n",
       "2010-02-15 22:30:00   1.639575     1.644220       0 2010-02-15 22:30:00   \n",
       "...                        ...          ...     ...                 ...   \n",
       "2021-02-10 17:10:00   1.752955     1.756145       0 2021-02-10 17:10:00   \n",
       "2021-02-15 18:20:00   1.756585     1.758190       0 2021-02-15 18:20:00   \n",
       "2021-02-15 18:40:00   1.756585     1.758190       0 2021-02-15 18:40:00   \n",
       "2021-02-25 22:05:00   1.761925     1.766395       0 2021-02-25 22:05:00   \n",
       "2021-02-25 22:15:00   1.761925     1.766395       0 2021-02-25 22:15:00   \n",
       "\n",
       "                     TimeJump  \n",
       "Lindex                         \n",
       "2010-01-22 16:50:00         1  \n",
       "2010-01-22 17:45:00         1  \n",
       "2010-02-11 22:45:00         1  \n",
       "2010-02-15 20:45:00         1  \n",
       "2010-02-15 22:30:00         1  \n",
       "...                       ...  \n",
       "2021-02-10 17:10:00         1  \n",
       "2021-02-15 18:20:00         1  \n",
       "2021-02-15 18:40:00         1  \n",
       "2021-02-25 22:05:00         1  \n",
       "2021-02-25 22:15:00         1  \n",
       "\n",
       "[767 rows x 59 columns]"
      ],
      "text/html": "<div>\n<style scoped>\n    .dataframe tbody tr th:only-of-type {\n        vertical-align: middle;\n    }\n\n    .dataframe tbody tr th {\n        vertical-align: top;\n    }\n\n    .dataframe thead th {\n        text-align: right;\n    }\n</style>\n<table border=\"1\" class=\"dataframe\">\n  <thead>\n    <tr style=\"text-align: right;\">\n      <th></th>\n      <th>OpenBid</th>\n      <th>HighBid</th>\n      <th>LowBid</th>\n      <th>CloseBid</th>\n      <th>OpenAsk</th>\n      <th>HighAsk</th>\n      <th>LowAsk</th>\n      <th>CloseAsk</th>\n      <th>Symbol</th>\n      <th>Open</th>\n      <th>...</th>\n      <th>High_weekly</th>\n      <th>Low_weekly</th>\n      <th>Close_weekly</th>\n      <th>Open_daily</th>\n      <th>High_daily</th>\n      <th>Low_daily</th>\n      <th>Close_daily</th>\n      <th>Signal</th>\n      <th>datation</th>\n      <th>TimeJump</th>\n    </tr>\n    <tr>\n      <th>Lindex</th>\n      <th></th>\n      <th></th>\n      <th></th>\n      <th></th>\n      <th></th>\n      <th></th>\n      <th></th>\n      <th></th>\n      <th></th>\n      <th></th>\n      <th></th>\n      <th></th>\n      <th></th>\n      <th></th>\n      <th></th>\n      <th></th>\n      <th></th>\n      <th></th>\n      <th></th>\n      <th></th>\n      <th></th>\n    </tr>\n  </thead>\n  <tbody>\n    <tr>\n      <th>2010-01-22 16:50:00</th>\n      <td>1.70186</td>\n      <td>1.70186</td>\n      <td>1.69996</td>\n      <td>1.70024</td>\n      <td>1.70278</td>\n      <td>1.70278</td>\n      <td>1.70083</td>\n      <td>1.70087</td>\n      <td>GBPCAD</td>\n      <td>1.702320</td>\n      <td>...</td>\n      <td>1.709475</td>\n      <td>1.672170</td>\n      <td>1.702500</td>\n      <td>1.702180</td>\n      <td>1.706030</td>\n      <td>1.696230</td>\n      <td>1.702500</td>\n      <td>0</td>\n      <td>2010-01-22 16:50:00</td>\n      <td>1</td>\n    </tr>\n    <tr>\n      <th>2010-01-22 17:45:00</th>\n      <td>1.70194</td>\n      <td>1.70218</td>\n      <td>1.70170</td>\n      <td>1.70204</td>\n      <td>1.70213</td>\n      <td>1.70310</td>\n      <td>1.70213</td>\n      <td>1.70296</td>\n      <td>GBPCAD</td>\n      <td>1.702035</td>\n      <td>...</td>\n      <td>1.709475</td>\n      <td>1.672170</td>\n      <td>1.702500</td>\n      <td>1.702180</td>\n      <td>1.706030</td>\n      <td>1.696230</td>\n      <td>1.702500</td>\n      <td>0</td>\n      <td>2010-01-22 17:45:00</td>\n      <td>1</td>\n    </tr>\n    <tr>\n      <th>2010-02-11 22:45:00</th>\n      <td>1.64739</td>\n      <td>1.64749</td>\n      <td>1.64729</td>\n      <td>1.64729</td>\n      <td>1.64846</td>\n      <td>1.64856</td>\n      <td>1.64829</td>\n      <td>1.64851</td>\n      <td>GBPCAD</td>\n      <td>1.647925</td>\n      <td>...</td>\n      <td>1.680450</td>\n      <td>1.640195</td>\n      <td>1.648045</td>\n      <td>1.657935</td>\n      <td>1.658240</td>\n      <td>1.644910</td>\n      <td>1.649230</td>\n      <td>0</td>\n      <td>2010-02-11 22:45:00</td>\n      <td>1</td>\n    </tr>\n    <tr>\n      <th>2010-02-15 20:45:00</th>\n      <td>1.64229</td>\n      <td>1.64239</td>\n      <td>1.64199</td>\n      <td>1.64209</td>\n      <td>1.64381</td>\n      <td>1.64381</td>\n      <td>1.64298</td>\n      <td>1.64351</td>\n      <td>GBPCAD</td>\n      <td>1.643050</td>\n      <td>...</td>\n      <td>1.650900</td>\n      <td>1.606320</td>\n      <td>1.607945</td>\n      <td>1.646475</td>\n      <td>1.648670</td>\n      <td>1.639575</td>\n      <td>1.644220</td>\n      <td>0</td>\n      <td>2010-02-15 20:45:00</td>\n      <td>1</td>\n    </tr>\n    <tr>\n      <th>2010-02-15 22:30:00</th>\n      <td>1.64234</td>\n      <td>1.64269</td>\n      <td>1.64234</td>\n      <td>1.64269</td>\n      <td>1.64409</td>\n      <td>1.64448</td>\n      <td>1.64409</td>\n      <td>1.64441</td>\n      <td>GBPCAD</td>\n      <td>1.643215</td>\n      <td>...</td>\n      <td>1.650900</td>\n      <td>1.606320</td>\n      <td>1.607945</td>\n      <td>1.646475</td>\n      <td>1.648670</td>\n      <td>1.639575</td>\n      <td>1.644220</td>\n      <td>0</td>\n      <td>2010-02-15 22:30:00</td>\n      <td>1</td>\n    </tr>\n    <tr>\n      <th>...</th>\n      <td>...</td>\n      <td>...</td>\n      <td>...</td>\n      <td>...</td>\n      <td>...</td>\n      <td>...</td>\n      <td>...</td>\n      <td>...</td>\n      <td>...</td>\n      <td>...</td>\n      <td>...</td>\n      <td>...</td>\n      <td>...</td>\n      <td>...</td>\n      <td>...</td>\n      <td>...</td>\n      <td>...</td>\n      <td>...</td>\n      <td>...</td>\n      <td>...</td>\n      <td>...</td>\n    </tr>\n    <tr>\n      <th>2021-02-10 17:10:00</th>\n      <td>1.75653</td>\n      <td>1.75670</td>\n      <td>1.75615</td>\n      <td>1.75646</td>\n      <td>1.75685</td>\n      <td>1.75700</td>\n      <td>1.75647</td>\n      <td>1.75678</td>\n      <td>GBPCAD</td>\n      <td>1.756690</td>\n      <td>...</td>\n      <td>1.761570</td>\n      <td>1.747590</td>\n      <td>1.758275</td>\n      <td>1.754395</td>\n      <td>1.759440</td>\n      <td>1.752955</td>\n      <td>1.756145</td>\n      <td>0</td>\n      <td>2021-02-10 17:10:00</td>\n      <td>1</td>\n    </tr>\n    <tr>\n      <th>2021-02-15 18:20:00</th>\n      <td>1.75693</td>\n      <td>1.75734</td>\n      <td>1.75641</td>\n      <td>1.75707</td>\n      <td>1.75772</td>\n      <td>1.75802</td>\n      <td>1.75743</td>\n      <td>1.75794</td>\n      <td>GBPCAD</td>\n      <td>1.757325</td>\n      <td>...</td>\n      <td>1.775145</td>\n      <td>1.756585</td>\n      <td>1.766960</td>\n      <td>1.759880</td>\n      <td>1.762815</td>\n      <td>1.756585</td>\n      <td>1.758190</td>\n      <td>0</td>\n      <td>2021-02-15 18:20:00</td>\n      <td>1</td>\n    </tr>\n    <tr>\n      <th>2021-02-15 18:40:00</th>\n      <td>1.75695</td>\n      <td>1.75710</td>\n      <td>1.75681</td>\n      <td>1.75700</td>\n      <td>1.75772</td>\n      <td>1.75786</td>\n      <td>1.75759</td>\n      <td>1.75775</td>\n      <td>GBPCAD</td>\n      <td>1.757335</td>\n      <td>...</td>\n      <td>1.775145</td>\n      <td>1.756585</td>\n      <td>1.766960</td>\n      <td>1.759880</td>\n      <td>1.762815</td>\n      <td>1.756585</td>\n      <td>1.758190</td>\n      <td>0</td>\n      <td>2021-02-15 18:40:00</td>\n      <td>1</td>\n    </tr>\n    <tr>\n      <th>2021-02-25 22:05:00</th>\n      <td>1.76470</td>\n      <td>1.76531</td>\n      <td>1.76470</td>\n      <td>1.76473</td>\n      <td>1.76798</td>\n      <td>1.76839</td>\n      <td>1.76797</td>\n      <td>1.76798</td>\n      <td>GBPCAD</td>\n      <td>1.766340</td>\n      <td>...</td>\n      <td>1.788780</td>\n      <td>1.755245</td>\n      <td>1.775725</td>\n      <td>1.770165</td>\n      <td>1.771410</td>\n      <td>1.761925</td>\n      <td>1.766395</td>\n      <td>0</td>\n      <td>2021-02-25 22:05:00</td>\n      <td>1</td>\n    </tr>\n    <tr>\n      <th>2021-02-25 22:15:00</th>\n      <td>1.76473</td>\n      <td>1.76493</td>\n      <td>1.76421</td>\n      <td>1.76485</td>\n      <td>1.76798</td>\n      <td>1.76810</td>\n      <td>1.76640</td>\n      <td>1.76808</td>\n      <td>GBPCAD</td>\n      <td>1.766355</td>\n      <td>...</td>\n      <td>1.788780</td>\n      <td>1.755245</td>\n      <td>1.775725</td>\n      <td>1.770165</td>\n      <td>1.771410</td>\n      <td>1.761925</td>\n      <td>1.766395</td>\n      <td>0</td>\n      <td>2021-02-25 22:15:00</td>\n      <td>1</td>\n    </tr>\n  </tbody>\n</table>\n<p>767 rows × 59 columns</p>\n</div>"
     },
     "metadata": {},
     "execution_count": 106
    }
   ],
   "source": [
    "%%time\n",
    "df_all['datation'] = df_all.index\n",
    "_condition = (abs(df_all.datation - df_all.datation.shift(1)) != dt.timedelta(minutes=5)) & (df_all.datation.dt.day == df_all.datation.shift(1).dt.day)\n",
    "df_all['TimeJump'] = np.where(_condition,1,0)\n",
    "df_all[(df_all.TimeJump==1)&(df_all.datation.dt.hour>=8)&(df_all.datation.dt.hour<=22)]"
   ]
  },
  {
   "cell_type": "code",
   "execution_count": 107,
   "metadata": {},
   "outputs": [
    {
     "output_type": "execute_result",
     "data": {
      "text/plain": [
       "0.1431665730735765"
      ]
     },
     "metadata": {},
     "execution_count": 107
    }
   ],
   "source": [
    "len(df_all[df_all.TimeJump==1])/len(df_all)*100"
   ]
  },
  {
   "cell_type": "code",
   "execution_count": 98,
   "metadata": {},
   "outputs": [
    {
     "output_type": "execute_result",
     "data": {
      "text/plain": [
       "                     OpenBid  HighBid   LowBid  CloseBid  OpenAsk  HighAsk  \\\n",
       "Lindex                                                                       \n",
       "2010-01-11 00:00:00  1.65312  1.65389  1.65217   1.65222  1.65525  1.65555   \n",
       "2010-01-11 00:05:00  1.65222  1.65377  1.65114   1.65324  1.65370  1.65490   \n",
       "2010-01-11 00:10:00  1.65324  1.65397  1.65308   1.65329  1.65480  1.65503   \n",
       "2010-01-11 00:20:00  1.65329  1.65329  1.65254   1.65270  1.65473  1.65473   \n",
       "2010-01-11 00:25:00  1.65270  1.65329  1.65254   1.65329  1.65397  1.65428   \n",
       "...                      ...      ...      ...       ...      ...      ...   \n",
       "2021-03-01 23:35:00  1.76076  1.76099  1.76066   1.76093  1.76111  1.76135   \n",
       "2021-03-01 23:40:00  1.76093  1.76097  1.76040   1.76056  1.76129  1.76132   \n",
       "2021-03-01 23:45:00  1.76056  1.76068  1.76048   1.76064  1.76092  1.76105   \n",
       "2021-03-01 23:50:00  1.76064  1.76083  1.76040   1.76074  1.76097  1.76117   \n",
       "2021-03-01 23:55:00  1.76074  1.76094  1.76047   1.76059  1.76108  1.76128   \n",
       "\n",
       "                      LowAsk  CloseAsk  Symbol      Open  ...  High_weekly  \\\n",
       "Lindex                                                    ...                \n",
       "2010-01-11 00:00:00  1.65342   1.65370  GBPCAD  1.654185  ...      1.68972   \n",
       "2010-01-11 00:05:00  1.65289   1.65480  GBPCAD  1.652960  ...      1.68972   \n",
       "2010-01-11 00:10:00  1.65444   1.65473  GBPCAD  1.654020  ...      1.68972   \n",
       "2010-01-11 00:20:00  1.65371   1.65397  GBPCAD  1.654010  ...      1.68972   \n",
       "2010-01-11 00:25:00  1.65397   1.65408  GBPCAD  1.653335  ...      1.68972   \n",
       "...                      ...       ...     ...       ...  ...          ...   \n",
       "2021-03-01 23:35:00  1.76101   1.76129  GBPCAD  1.760935  ...      1.77793   \n",
       "2021-03-01 23:40:00  1.76077   1.76092  GBPCAD  1.761110  ...      1.77793   \n",
       "2021-03-01 23:45:00  1.76083   1.76097  GBPCAD  1.760740  ...      1.77793   \n",
       "2021-03-01 23:50:00  1.76073   1.76108  GBPCAD  1.760805  ...      1.77793   \n",
       "2021-03-01 23:55:00  1.76083   1.76094  GBPCAD  1.760910  ...      1.77793   \n",
       "\n",
       "                     Low_weekly  Close_weekly Open_daily  High_daily  \\\n",
       "Lindex                                                                 \n",
       "2010-01-11 00:00:00    1.649120      1.673725   1.654185    1.670615   \n",
       "2010-01-11 00:05:00    1.649120      1.673725   1.654185    1.670615   \n",
       "2010-01-11 00:10:00    1.649120      1.673725   1.654185    1.670615   \n",
       "2010-01-11 00:20:00    1.649120      1.673725   1.654185    1.670615   \n",
       "2010-01-11 00:25:00    1.649120      1.673725   1.654185    1.670615   \n",
       "...                         ...           ...        ...         ...   \n",
       "2021-03-01 23:35:00    1.760045      1.760765   1.774350    1.777930   \n",
       "2021-03-01 23:40:00    1.760045      1.760765   1.774350    1.777930   \n",
       "2021-03-01 23:45:00    1.760045      1.760765   1.774350    1.777930   \n",
       "2021-03-01 23:50:00    1.760045      1.760765   1.774350    1.777930   \n",
       "2021-03-01 23:55:00    1.760045      1.760765   1.774350    1.777930   \n",
       "\n",
       "                     Low_daily  Close_daily  Signal            datation  \\\n",
       "Lindex                                                                    \n",
       "2010-01-11 00:00:00   1.649120     1.666010       0 2010-01-11 00:00:00   \n",
       "2010-01-11 00:05:00   1.649120     1.666010       0 2010-01-11 00:05:00   \n",
       "2010-01-11 00:10:00   1.649120     1.666010       0 2010-01-11 00:10:00   \n",
       "2010-01-11 00:20:00   1.649120     1.666010       0 2010-01-11 00:20:00   \n",
       "2010-01-11 00:25:00   1.649120     1.666010       0 2010-01-11 00:25:00   \n",
       "...                        ...          ...     ...                 ...   \n",
       "2021-03-01 23:35:00   1.760045     1.760765       0 2021-03-01 23:35:00   \n",
       "2021-03-01 23:40:00   1.760045     1.760765       0 2021-03-01 23:40:00   \n",
       "2021-03-01 23:45:00   1.760045     1.760765       0 2021-03-01 23:45:00   \n",
       "2021-03-01 23:50:00   1.760045     1.760765       0 2021-03-01 23:50:00   \n",
       "2021-03-01 23:55:00   1.760045     1.760765       0 2021-03-01 23:55:00   \n",
       "\n",
       "                     TimeJump  \n",
       "Lindex                         \n",
       "2010-01-11 00:00:00         1  \n",
       "2010-01-11 00:05:00         0  \n",
       "2010-01-11 00:10:00         0  \n",
       "2010-01-11 00:20:00         1  \n",
       "2010-01-11 00:25:00         0  \n",
       "...                       ...  \n",
       "2021-03-01 23:35:00         0  \n",
       "2021-03-01 23:40:00         0  \n",
       "2021-03-01 23:45:00         0  \n",
       "2021-03-01 23:50:00         0  \n",
       "2021-03-01 23:55:00         0  \n",
       "\n",
       "[808840 rows x 59 columns]"
      ],
      "text/html": "<div>\n<style scoped>\n    .dataframe tbody tr th:only-of-type {\n        vertical-align: middle;\n    }\n\n    .dataframe tbody tr th {\n        vertical-align: top;\n    }\n\n    .dataframe thead th {\n        text-align: right;\n    }\n</style>\n<table border=\"1\" class=\"dataframe\">\n  <thead>\n    <tr style=\"text-align: right;\">\n      <th></th>\n      <th>OpenBid</th>\n      <th>HighBid</th>\n      <th>LowBid</th>\n      <th>CloseBid</th>\n      <th>OpenAsk</th>\n      <th>HighAsk</th>\n      <th>LowAsk</th>\n      <th>CloseAsk</th>\n      <th>Symbol</th>\n      <th>Open</th>\n      <th>...</th>\n      <th>High_weekly</th>\n      <th>Low_weekly</th>\n      <th>Close_weekly</th>\n      <th>Open_daily</th>\n      <th>High_daily</th>\n      <th>Low_daily</th>\n      <th>Close_daily</th>\n      <th>Signal</th>\n      <th>datation</th>\n      <th>TimeJump</th>\n    </tr>\n    <tr>\n      <th>Lindex</th>\n      <th></th>\n      <th></th>\n      <th></th>\n      <th></th>\n      <th></th>\n      <th></th>\n      <th></th>\n      <th></th>\n      <th></th>\n      <th></th>\n      <th></th>\n      <th></th>\n      <th></th>\n      <th></th>\n      <th></th>\n      <th></th>\n      <th></th>\n      <th></th>\n      <th></th>\n      <th></th>\n      <th></th>\n    </tr>\n  </thead>\n  <tbody>\n    <tr>\n      <th>2010-01-11 00:00:00</th>\n      <td>1.65312</td>\n      <td>1.65389</td>\n      <td>1.65217</td>\n      <td>1.65222</td>\n      <td>1.65525</td>\n      <td>1.65555</td>\n      <td>1.65342</td>\n      <td>1.65370</td>\n      <td>GBPCAD</td>\n      <td>1.654185</td>\n      <td>...</td>\n      <td>1.68972</td>\n      <td>1.649120</td>\n      <td>1.673725</td>\n      <td>1.654185</td>\n      <td>1.670615</td>\n      <td>1.649120</td>\n      <td>1.666010</td>\n      <td>0</td>\n      <td>2010-01-11 00:00:00</td>\n      <td>1</td>\n    </tr>\n    <tr>\n      <th>2010-01-11 00:05:00</th>\n      <td>1.65222</td>\n      <td>1.65377</td>\n      <td>1.65114</td>\n      <td>1.65324</td>\n      <td>1.65370</td>\n      <td>1.65490</td>\n      <td>1.65289</td>\n      <td>1.65480</td>\n      <td>GBPCAD</td>\n      <td>1.652960</td>\n      <td>...</td>\n      <td>1.68972</td>\n      <td>1.649120</td>\n      <td>1.673725</td>\n      <td>1.654185</td>\n      <td>1.670615</td>\n      <td>1.649120</td>\n      <td>1.666010</td>\n      <td>0</td>\n      <td>2010-01-11 00:05:00</td>\n      <td>0</td>\n    </tr>\n    <tr>\n      <th>2010-01-11 00:10:00</th>\n      <td>1.65324</td>\n      <td>1.65397</td>\n      <td>1.65308</td>\n      <td>1.65329</td>\n      <td>1.65480</td>\n      <td>1.65503</td>\n      <td>1.65444</td>\n      <td>1.65473</td>\n      <td>GBPCAD</td>\n      <td>1.654020</td>\n      <td>...</td>\n      <td>1.68972</td>\n      <td>1.649120</td>\n      <td>1.673725</td>\n      <td>1.654185</td>\n      <td>1.670615</td>\n      <td>1.649120</td>\n      <td>1.666010</td>\n      <td>0</td>\n      <td>2010-01-11 00:10:00</td>\n      <td>0</td>\n    </tr>\n    <tr>\n      <th>2010-01-11 00:20:00</th>\n      <td>1.65329</td>\n      <td>1.65329</td>\n      <td>1.65254</td>\n      <td>1.65270</td>\n      <td>1.65473</td>\n      <td>1.65473</td>\n      <td>1.65371</td>\n      <td>1.65397</td>\n      <td>GBPCAD</td>\n      <td>1.654010</td>\n      <td>...</td>\n      <td>1.68972</td>\n      <td>1.649120</td>\n      <td>1.673725</td>\n      <td>1.654185</td>\n      <td>1.670615</td>\n      <td>1.649120</td>\n      <td>1.666010</td>\n      <td>0</td>\n      <td>2010-01-11 00:20:00</td>\n      <td>1</td>\n    </tr>\n    <tr>\n      <th>2010-01-11 00:25:00</th>\n      <td>1.65270</td>\n      <td>1.65329</td>\n      <td>1.65254</td>\n      <td>1.65329</td>\n      <td>1.65397</td>\n      <td>1.65428</td>\n      <td>1.65397</td>\n      <td>1.65408</td>\n      <td>GBPCAD</td>\n      <td>1.653335</td>\n      <td>...</td>\n      <td>1.68972</td>\n      <td>1.649120</td>\n      <td>1.673725</td>\n      <td>1.654185</td>\n      <td>1.670615</td>\n      <td>1.649120</td>\n      <td>1.666010</td>\n      <td>0</td>\n      <td>2010-01-11 00:25:00</td>\n      <td>0</td>\n    </tr>\n    <tr>\n      <th>...</th>\n      <td>...</td>\n      <td>...</td>\n      <td>...</td>\n      <td>...</td>\n      <td>...</td>\n      <td>...</td>\n      <td>...</td>\n      <td>...</td>\n      <td>...</td>\n      <td>...</td>\n      <td>...</td>\n      <td>...</td>\n      <td>...</td>\n      <td>...</td>\n      <td>...</td>\n      <td>...</td>\n      <td>...</td>\n      <td>...</td>\n      <td>...</td>\n      <td>...</td>\n      <td>...</td>\n    </tr>\n    <tr>\n      <th>2021-03-01 23:35:00</th>\n      <td>1.76076</td>\n      <td>1.76099</td>\n      <td>1.76066</td>\n      <td>1.76093</td>\n      <td>1.76111</td>\n      <td>1.76135</td>\n      <td>1.76101</td>\n      <td>1.76129</td>\n      <td>GBPCAD</td>\n      <td>1.760935</td>\n      <td>...</td>\n      <td>1.77793</td>\n      <td>1.760045</td>\n      <td>1.760765</td>\n      <td>1.774350</td>\n      <td>1.777930</td>\n      <td>1.760045</td>\n      <td>1.760765</td>\n      <td>0</td>\n      <td>2021-03-01 23:35:00</td>\n      <td>0</td>\n    </tr>\n    <tr>\n      <th>2021-03-01 23:40:00</th>\n      <td>1.76093</td>\n      <td>1.76097</td>\n      <td>1.76040</td>\n      <td>1.76056</td>\n      <td>1.76129</td>\n      <td>1.76132</td>\n      <td>1.76077</td>\n      <td>1.76092</td>\n      <td>GBPCAD</td>\n      <td>1.761110</td>\n      <td>...</td>\n      <td>1.77793</td>\n      <td>1.760045</td>\n      <td>1.760765</td>\n      <td>1.774350</td>\n      <td>1.777930</td>\n      <td>1.760045</td>\n      <td>1.760765</td>\n      <td>0</td>\n      <td>2021-03-01 23:40:00</td>\n      <td>0</td>\n    </tr>\n    <tr>\n      <th>2021-03-01 23:45:00</th>\n      <td>1.76056</td>\n      <td>1.76068</td>\n      <td>1.76048</td>\n      <td>1.76064</td>\n      <td>1.76092</td>\n      <td>1.76105</td>\n      <td>1.76083</td>\n      <td>1.76097</td>\n      <td>GBPCAD</td>\n      <td>1.760740</td>\n      <td>...</td>\n      <td>1.77793</td>\n      <td>1.760045</td>\n      <td>1.760765</td>\n      <td>1.774350</td>\n      <td>1.777930</td>\n      <td>1.760045</td>\n      <td>1.760765</td>\n      <td>0</td>\n      <td>2021-03-01 23:45:00</td>\n      <td>0</td>\n    </tr>\n    <tr>\n      <th>2021-03-01 23:50:00</th>\n      <td>1.76064</td>\n      <td>1.76083</td>\n      <td>1.76040</td>\n      <td>1.76074</td>\n      <td>1.76097</td>\n      <td>1.76117</td>\n      <td>1.76073</td>\n      <td>1.76108</td>\n      <td>GBPCAD</td>\n      <td>1.760805</td>\n      <td>...</td>\n      <td>1.77793</td>\n      <td>1.760045</td>\n      <td>1.760765</td>\n      <td>1.774350</td>\n      <td>1.777930</td>\n      <td>1.760045</td>\n      <td>1.760765</td>\n      <td>0</td>\n      <td>2021-03-01 23:50:00</td>\n      <td>0</td>\n    </tr>\n    <tr>\n      <th>2021-03-01 23:55:00</th>\n      <td>1.76074</td>\n      <td>1.76094</td>\n      <td>1.76047</td>\n      <td>1.76059</td>\n      <td>1.76108</td>\n      <td>1.76128</td>\n      <td>1.76083</td>\n      <td>1.76094</td>\n      <td>GBPCAD</td>\n      <td>1.760910</td>\n      <td>...</td>\n      <td>1.77793</td>\n      <td>1.760045</td>\n      <td>1.760765</td>\n      <td>1.774350</td>\n      <td>1.777930</td>\n      <td>1.760045</td>\n      <td>1.760765</td>\n      <td>0</td>\n      <td>2021-03-01 23:55:00</td>\n      <td>0</td>\n    </tr>\n  </tbody>\n</table>\n<p>808840 rows × 59 columns</p>\n</div>"
     },
     "metadata": {},
     "execution_count": 98
    }
   ],
   "source": [
    "df_all[df_all.index >= '2010-01-11 00:00:00']"
   ]
  },
  {
   "cell_type": "code",
   "execution_count": 2,
   "metadata": {},
   "outputs": [
    {
     "output_type": "stream",
     "name": "stdout",
     "text": [
      "CPU times: user 1min 39s, sys: 1.05 s, total: 1min 40s\nWall time: 1min 45s\n"
     ]
    },
    {
     "output_type": "execute_result",
     "data": {
      "text/plain": [
       "                           Date      Time  OpenBid  HighBid   LowBid  \\\n",
       "2010-01-17 22:15:00  01-17-2010  22:15:00  1.67512  1.67629  1.67512   \n",
       "2010-01-22 16:50:00  01-22-2010  16:50:00  1.70186  1.70186  1.69996   \n",
       "2010-01-22 17:45:00  01-22-2010  17:45:00  1.70194  1.70218  1.70170   \n",
       "2010-01-31 22:20:00  01-31-2010  22:20:00  1.70419  1.70456  1.70412   \n",
       "2010-02-07 22:15:00  02-07-2010  22:15:00  1.66372  1.66632  1.66372   \n",
       "...                         ...       ...      ...      ...      ...   \n",
       "2021-02-25 22:05:00  02-25-2021  22:05:00  1.76470  1.76531  1.76470   \n",
       "2021-02-25 22:15:00  02-25-2021  22:15:00  1.76473  1.76493  1.76421   \n",
       "2021-02-28 21:05:00  02-28-2021  21:05:00  1.77231  1.77231  1.77075   \n",
       "2021-02-28 21:30:00  02-28-2021  21:30:00  1.77146  1.77164  1.77108   \n",
       "2021-02-28 21:55:00  02-28-2021  21:55:00  1.77221  1.77308  1.77221   \n",
       "\n",
       "                     CloseBid  OpenAsk  HighAsk   LowAsk  CloseAsk  \\\n",
       "2010-01-17 22:15:00   1.67626  1.67687  1.67779  1.67687   1.67776   \n",
       "2010-01-22 16:50:00   1.70024  1.70278  1.70278  1.70083   1.70087   \n",
       "2010-01-22 17:45:00   1.70204  1.70213  1.70310  1.70213   1.70296   \n",
       "2010-01-31 22:20:00   1.70423  1.71005  1.71005  1.70616   1.70616   \n",
       "2010-02-07 22:15:00   1.66632  1.66962  1.66962  1.66705   1.66799   \n",
       "...                       ...      ...      ...      ...       ...   \n",
       "2021-02-25 22:05:00   1.76473  1.76798  1.76839  1.76797   1.76798   \n",
       "2021-02-25 22:15:00   1.76485  1.76798  1.76810  1.76640   1.76808   \n",
       "2021-02-28 21:05:00   1.77084  1.77514  1.77514  1.77403   1.77406   \n",
       "2021-02-28 21:30:00   1.77108  1.77455  1.77479  1.77423   1.77423   \n",
       "2021-02-28 21:55:00   1.77278  1.77543  1.77560  1.77543   1.77560   \n",
       "\n",
       "                     Total Ticks            datation  TimeJump  \n",
       "2010-01-17 22:15:00           17 2010-01-17 22:15:00         1  \n",
       "2010-01-22 16:50:00           91 2010-01-22 16:50:00         1  \n",
       "2010-01-22 17:45:00           64 2010-01-22 17:45:00         1  \n",
       "2010-01-31 22:20:00           11 2010-01-31 22:20:00         1  \n",
       "2010-02-07 22:15:00           13 2010-02-07 22:15:00         1  \n",
       "...                          ...                 ...       ...  \n",
       "2021-02-25 22:05:00            5 2021-02-25 22:05:00         1  \n",
       "2021-02-25 22:15:00           45 2021-02-25 22:15:00         1  \n",
       "2021-02-28 21:05:00            2 2021-02-28 21:05:00         1  \n",
       "2021-02-28 21:30:00           10 2021-02-28 21:30:00         1  \n",
       "2021-02-28 21:55:00            3 2021-02-28 21:55:00         1  \n",
       "\n",
       "[1577 rows x 13 columns]"
      ],
      "text/html": "<div>\n<style scoped>\n    .dataframe tbody tr th:only-of-type {\n        vertical-align: middle;\n    }\n\n    .dataframe tbody tr th {\n        vertical-align: top;\n    }\n\n    .dataframe thead th {\n        text-align: right;\n    }\n</style>\n<table border=\"1\" class=\"dataframe\">\n  <thead>\n    <tr style=\"text-align: right;\">\n      <th></th>\n      <th>Date</th>\n      <th>Time</th>\n      <th>OpenBid</th>\n      <th>HighBid</th>\n      <th>LowBid</th>\n      <th>CloseBid</th>\n      <th>OpenAsk</th>\n      <th>HighAsk</th>\n      <th>LowAsk</th>\n      <th>CloseAsk</th>\n      <th>Total Ticks</th>\n      <th>datation</th>\n      <th>TimeJump</th>\n    </tr>\n  </thead>\n  <tbody>\n    <tr>\n      <th>2010-01-17 22:15:00</th>\n      <td>01-17-2010</td>\n      <td>22:15:00</td>\n      <td>1.67512</td>\n      <td>1.67629</td>\n      <td>1.67512</td>\n      <td>1.67626</td>\n      <td>1.67687</td>\n      <td>1.67779</td>\n      <td>1.67687</td>\n      <td>1.67776</td>\n      <td>17</td>\n      <td>2010-01-17 22:15:00</td>\n      <td>1</td>\n    </tr>\n    <tr>\n      <th>2010-01-22 16:50:00</th>\n      <td>01-22-2010</td>\n      <td>16:50:00</td>\n      <td>1.70186</td>\n      <td>1.70186</td>\n      <td>1.69996</td>\n      <td>1.70024</td>\n      <td>1.70278</td>\n      <td>1.70278</td>\n      <td>1.70083</td>\n      <td>1.70087</td>\n      <td>91</td>\n      <td>2010-01-22 16:50:00</td>\n      <td>1</td>\n    </tr>\n    <tr>\n      <th>2010-01-22 17:45:00</th>\n      <td>01-22-2010</td>\n      <td>17:45:00</td>\n      <td>1.70194</td>\n      <td>1.70218</td>\n      <td>1.70170</td>\n      <td>1.70204</td>\n      <td>1.70213</td>\n      <td>1.70310</td>\n      <td>1.70213</td>\n      <td>1.70296</td>\n      <td>64</td>\n      <td>2010-01-22 17:45:00</td>\n      <td>1</td>\n    </tr>\n    <tr>\n      <th>2010-01-31 22:20:00</th>\n      <td>01-31-2010</td>\n      <td>22:20:00</td>\n      <td>1.70419</td>\n      <td>1.70456</td>\n      <td>1.70412</td>\n      <td>1.70423</td>\n      <td>1.71005</td>\n      <td>1.71005</td>\n      <td>1.70616</td>\n      <td>1.70616</td>\n      <td>11</td>\n      <td>2010-01-31 22:20:00</td>\n      <td>1</td>\n    </tr>\n    <tr>\n      <th>2010-02-07 22:15:00</th>\n      <td>02-07-2010</td>\n      <td>22:15:00</td>\n      <td>1.66372</td>\n      <td>1.66632</td>\n      <td>1.66372</td>\n      <td>1.66632</td>\n      <td>1.66962</td>\n      <td>1.66962</td>\n      <td>1.66705</td>\n      <td>1.66799</td>\n      <td>13</td>\n      <td>2010-02-07 22:15:00</td>\n      <td>1</td>\n    </tr>\n    <tr>\n      <th>...</th>\n      <td>...</td>\n      <td>...</td>\n      <td>...</td>\n      <td>...</td>\n      <td>...</td>\n      <td>...</td>\n      <td>...</td>\n      <td>...</td>\n      <td>...</td>\n      <td>...</td>\n      <td>...</td>\n      <td>...</td>\n      <td>...</td>\n    </tr>\n    <tr>\n      <th>2021-02-25 22:05:00</th>\n      <td>02-25-2021</td>\n      <td>22:05:00</td>\n      <td>1.76470</td>\n      <td>1.76531</td>\n      <td>1.76470</td>\n      <td>1.76473</td>\n      <td>1.76798</td>\n      <td>1.76839</td>\n      <td>1.76797</td>\n      <td>1.76798</td>\n      <td>5</td>\n      <td>2021-02-25 22:05:00</td>\n      <td>1</td>\n    </tr>\n    <tr>\n      <th>2021-02-25 22:15:00</th>\n      <td>02-25-2021</td>\n      <td>22:15:00</td>\n      <td>1.76473</td>\n      <td>1.76493</td>\n      <td>1.76421</td>\n      <td>1.76485</td>\n      <td>1.76798</td>\n      <td>1.76810</td>\n      <td>1.76640</td>\n      <td>1.76808</td>\n      <td>45</td>\n      <td>2021-02-25 22:15:00</td>\n      <td>1</td>\n    </tr>\n    <tr>\n      <th>2021-02-28 21:05:00</th>\n      <td>02-28-2021</td>\n      <td>21:05:00</td>\n      <td>1.77231</td>\n      <td>1.77231</td>\n      <td>1.77075</td>\n      <td>1.77084</td>\n      <td>1.77514</td>\n      <td>1.77514</td>\n      <td>1.77403</td>\n      <td>1.77406</td>\n      <td>2</td>\n      <td>2021-02-28 21:05:00</td>\n      <td>1</td>\n    </tr>\n    <tr>\n      <th>2021-02-28 21:30:00</th>\n      <td>02-28-2021</td>\n      <td>21:30:00</td>\n      <td>1.77146</td>\n      <td>1.77164</td>\n      <td>1.77108</td>\n      <td>1.77108</td>\n      <td>1.77455</td>\n      <td>1.77479</td>\n      <td>1.77423</td>\n      <td>1.77423</td>\n      <td>10</td>\n      <td>2021-02-28 21:30:00</td>\n      <td>1</td>\n    </tr>\n    <tr>\n      <th>2021-02-28 21:55:00</th>\n      <td>02-28-2021</td>\n      <td>21:55:00</td>\n      <td>1.77221</td>\n      <td>1.77308</td>\n      <td>1.77221</td>\n      <td>1.77278</td>\n      <td>1.77543</td>\n      <td>1.77560</td>\n      <td>1.77543</td>\n      <td>1.77560</td>\n      <td>3</td>\n      <td>2021-02-28 21:55:00</td>\n      <td>1</td>\n    </tr>\n  </tbody>\n</table>\n<p>1577 rows × 13 columns</p>\n</div>"
     },
     "metadata": {},
     "execution_count": 2
    }
   ],
   "source": [
    "%%time\n",
    "toto = pd.read_csv('GBPCAD_m5_BidAndAsk.csv')\n",
    "toto.index = pd.to_datetime(toto.Date+' '+toto.Time)\n",
    "toto['datation'] = toto.index\n",
    "_condition = (abs(toto.datation - toto.datation.shift(1)) != dt.timedelta(minutes=5)) & (toto.datation.dt.day == toto.datation.shift(1).dt.day)\n",
    "toto['TimeJump'] = np.where(_condition,1,0)\n",
    "toto[(toto.TimeJump==1)&(toto.datation.dt.hour>=8)&(toto.datation.dt.hour<=22)]"
   ]
  },
  {
   "cell_type": "code",
   "execution_count": 3,
   "metadata": {},
   "outputs": [
    {
     "output_type": "execute_result",
     "data": {
      "text/plain": [
       "0.23808668367285837"
      ]
     },
     "metadata": {},
     "execution_count": 3
    }
   ],
   "source": [
    "len(toto[toto.TimeJump==1])/len(toto)*100"
   ]
  },
  {
   "cell_type": "code",
   "execution_count": 128,
   "metadata": {},
   "outputs": [
    {
     "output_type": "execute_result",
     "data": {
      "text/plain": [
       "                           Date      Time  OpenBid  HighBid   LowBid  \\\n",
       "2010-01-22 16:40:00  01-22-2010  16:40:00  1.70252  1.70252  1.70136   \n",
       "2010-01-22 16:50:00  01-22-2010  16:50:00  1.70186  1.70186  1.69996   \n",
       "2010-01-22 16:55:00  01-22-2010  16:55:00  1.70024  1.70139  1.70010   \n",
       "2010-01-22 17:00:00  01-22-2010  17:00:00  1.70121  1.70199  1.70121   \n",
       "2010-01-22 17:05:00  01-22-2010  17:05:00  1.70192  1.70203  1.70191   \n",
       "2010-01-22 17:45:00  01-22-2010  17:45:00  1.70194  1.70218  1.70170   \n",
       "2010-01-24 22:00:00  01-24-2010  22:00:00  1.70204  1.70313  1.70204   \n",
       "2010-01-24 22:05:00  01-24-2010  22:05:00  1.70261  1.70261  1.70199   \n",
       "2010-01-24 22:10:00  01-24-2010  22:10:00  1.70199  1.70211  1.70127   \n",
       "2010-01-24 22:15:00  01-24-2010  22:15:00  1.70127  1.70177  1.70122   \n",
       "2010-01-24 22:20:00  01-24-2010  22:20:00  1.70177  1.70184  1.70156   \n",
       "2010-01-24 22:25:00  01-24-2010  22:25:00  1.70184  1.70239  1.70184   \n",
       "2010-01-24 22:30:00  01-24-2010  22:30:00  1.70239  1.70239  1.70196   \n",
       "2010-01-24 22:35:00  01-24-2010  22:35:00  1.70236  1.70236  1.70219   \n",
       "2010-01-24 22:40:00  01-24-2010  22:40:00  1.70236  1.70236  1.70183   \n",
       "2010-01-24 22:45:00  01-24-2010  22:45:00  1.70183  1.70216  1.70183   \n",
       "2010-01-24 22:50:00  01-24-2010  22:50:00  1.70214  1.70230  1.70214   \n",
       "2010-01-24 22:55:00  01-24-2010  22:55:00  1.70221  1.70257  1.70119   \n",
       "2010-01-24 23:00:00  01-24-2010  23:00:00  1.70149  1.70229  1.70139   \n",
       "2010-01-24 23:05:00  01-24-2010  23:05:00  1.70209  1.70229  1.70167   \n",
       "2010-01-24 23:10:00  01-24-2010  23:10:00  1.70199  1.70199  1.70124   \n",
       "2010-01-24 23:15:00  01-24-2010  23:15:00  1.70185  1.70219  1.70139   \n",
       "2010-01-24 23:20:00  01-24-2010  23:20:00  1.70169  1.70309  1.70169   \n",
       "2010-01-24 23:25:00  01-24-2010  23:25:00  1.70299  1.70309  1.70199   \n",
       "2010-01-24 23:30:00  01-24-2010  23:30:00  1.70216  1.70249  1.70182   \n",
       "2010-01-24 23:35:00  01-24-2010  23:35:00  1.70204  1.70224  1.70169   \n",
       "2010-01-24 23:40:00  01-24-2010  23:40:00  1.70202  1.70259  1.70159   \n",
       "2010-01-24 23:45:00  01-24-2010  23:45:00  1.70235  1.70329  1.70234   \n",
       "2010-01-24 23:50:00  01-24-2010  23:50:00  1.70319  1.70339  1.70149   \n",
       "2010-01-24 23:55:00  01-24-2010  23:55:00  1.70215  1.70307  1.70205   \n",
       "2010-01-25 00:00:00  01-25-2010  00:00:00  1.70247  1.70280  1.70141   \n",
       "2010-01-25 00:05:00  01-25-2010  00:05:00  1.70203  1.70249  1.70176   \n",
       "2010-01-25 00:10:00  01-25-2010  00:10:00  1.70209  1.70219  1.70149   \n",
       "2010-01-25 00:15:00  01-25-2010  00:15:00  1.70156  1.70205  1.70144   \n",
       "2010-01-25 00:20:00  01-25-2010  00:20:00  1.70169  1.70189  1.70149   \n",
       "2010-01-25 00:25:00  01-25-2010  00:25:00  1.70172  1.70291  1.70099   \n",
       "2010-01-25 00:30:00  01-25-2010  00:30:00  1.70226  1.70299  1.70071   \n",
       "2010-01-25 00:35:00  01-25-2010  00:35:00  1.70129  1.70184  1.70099   \n",
       "2010-01-25 00:40:00  01-25-2010  00:40:00  1.70149  1.70169  1.70030   \n",
       "2010-01-25 00:45:00  01-25-2010  00:45:00  1.70069  1.70150  1.70069   \n",
       "2010-01-25 00:50:00  01-25-2010  00:50:00  1.70139  1.70170  1.70069   \n",
       "2010-01-25 00:55:00  01-25-2010  00:55:00  1.70159  1.70169  1.70039   \n",
       "2010-01-25 01:00:00  01-25-2010  01:00:00  1.70055  1.70140  1.70049   \n",
       "2010-01-25 01:05:00  01-25-2010  01:05:00  1.70139  1.70189  1.70128   \n",
       "2010-01-25 01:10:00  01-25-2010  01:10:00  1.70149  1.70180  1.70049   \n",
       "2010-01-25 01:15:00  01-25-2010  01:15:00  1.70180  1.70180  1.70049   \n",
       "2010-01-25 01:20:00  01-25-2010  01:20:00  1.70049  1.70049  1.69989   \n",
       "2010-01-25 01:25:00  01-25-2010  01:25:00  1.70009  1.70072  1.70009   \n",
       "2010-01-25 01:30:00  01-25-2010  01:30:00  1.70058  1.70063  1.69986   \n",
       "2010-01-25 01:35:00  01-25-2010  01:35:00  1.69994  1.70024  1.69969   \n",
       "2010-01-25 01:40:00  01-25-2010  01:40:00  1.69974  1.70009  1.69938   \n",
       "2010-01-25 01:45:00  01-25-2010  01:45:00  1.69987  1.70003  1.69914   \n",
       "2010-01-25 01:50:00  01-25-2010  01:50:00  1.69941  1.69983  1.69911   \n",
       "2010-01-25 01:55:00  01-25-2010  01:55:00  1.69935  1.70079  1.69910   \n",
       "2010-01-25 02:00:00  01-25-2010  02:00:00  1.70069  1.70114  1.69999   \n",
       "2010-01-25 02:05:00  01-25-2010  02:05:00  1.70049  1.70216  1.70019   \n",
       "2010-01-25 02:10:00  01-25-2010  02:10:00  1.70205  1.70210  1.70139   \n",
       "2010-01-25 02:15:00  01-25-2010  02:15:00  1.70193  1.70257  1.70129   \n",
       "2010-01-25 02:20:00  01-25-2010  02:20:00  1.70149  1.70230  1.70109   \n",
       "2010-01-25 02:25:00  01-25-2010  02:25:00  1.70169  1.70179  1.70073   \n",
       "\n",
       "                     CloseBid  OpenAsk  HighAsk   LowAsk  CloseAsk  \\\n",
       "2010-01-22 16:40:00   1.70186  1.70327  1.70327  1.70228   1.70278   \n",
       "2010-01-22 16:50:00   1.70024  1.70278  1.70278  1.70083   1.70087   \n",
       "2010-01-22 16:55:00   1.70121  1.70087  1.70231  1.70087   1.70213   \n",
       "2010-01-22 17:00:00   1.70192  1.70213  1.70213  1.70213   1.70213   \n",
       "2010-01-22 17:05:00   1.70194  1.70213  1.70213  1.70213   1.70213   \n",
       "2010-01-22 17:45:00   1.70204  1.70213  1.70310  1.70213   1.70296   \n",
       "2010-01-24 22:00:00   1.70261  1.70296  1.70520  1.70296   1.70476   \n",
       "2010-01-24 22:05:00   1.70199  1.70476  1.70489  1.70406   1.70406   \n",
       "2010-01-24 22:10:00   1.70127  1.70406  1.70413  1.70402   1.70402   \n",
       "2010-01-24 22:15:00   1.70177  1.70402  1.70443  1.70402   1.70433   \n",
       "2010-01-24 22:20:00   1.70184  1.70433  1.70433  1.70358   1.70374   \n",
       "2010-01-24 22:25:00   1.70239  1.70374  1.70401  1.70374   1.70396   \n",
       "2010-01-24 22:30:00   1.70236  1.70396  1.70396  1.70381   1.70381   \n",
       "2010-01-24 22:35:00   1.70236  1.70381  1.70381  1.70372   1.70372   \n",
       "2010-01-24 22:40:00   1.70183  1.70372  1.70372  1.70317   1.70317   \n",
       "2010-01-24 22:45:00   1.70214  1.70317  1.70349  1.70317   1.70349   \n",
       "2010-01-24 22:50:00   1.70221  1.70349  1.70359  1.70338   1.70359   \n",
       "2010-01-24 22:55:00   1.70149  1.70359  1.70359  1.70230   1.70251   \n",
       "2010-01-24 23:00:00   1.70209  1.70251  1.70367  1.70239   1.70321   \n",
       "2010-01-24 23:05:00   1.70199  1.70321  1.70331  1.70281   1.70301   \n",
       "2010-01-24 23:10:00   1.70185  1.70301  1.70301  1.70207   1.70260   \n",
       "2010-01-24 23:15:00   1.70169  1.70260  1.70327  1.70212   1.70238   \n",
       "2010-01-24 23:20:00   1.70299  1.70238  1.70418  1.70238   1.70386   \n",
       "2010-01-24 23:25:00   1.70216  1.70386  1.70418  1.70301   1.70311   \n",
       "2010-01-24 23:30:00   1.70204  1.70311  1.70351  1.70301   1.70311   \n",
       "2010-01-24 23:35:00   1.70202  1.70311  1.70331  1.70266   1.70288   \n",
       "2010-01-24 23:40:00   1.70235  1.70288  1.70373  1.70272   1.70336   \n",
       "2010-01-24 23:45:00   1.70319  1.70336  1.70427  1.70331   1.70411   \n",
       "2010-01-24 23:50:00   1.70215  1.70411  1.70452  1.70264   1.70294   \n",
       "2010-01-24 23:55:00   1.70247  1.70294  1.70414  1.70284   1.70317   \n",
       "2010-01-25 00:00:00   1.70203  1.70317  1.70352  1.70248   1.70311   \n",
       "2010-01-25 00:05:00   1.70209  1.70311  1.70341  1.70271   1.70301   \n",
       "2010-01-25 00:10:00   1.70156  1.70301  1.70317  1.70241   1.70251   \n",
       "2010-01-25 00:15:00   1.70169  1.70251  1.70271  1.70236   1.70261   \n",
       "2010-01-25 00:20:00   1.70172  1.70261  1.70281  1.70242   1.70260   \n",
       "2010-01-25 00:25:00   1.70226  1.70260  1.70388  1.70211   1.70322   \n",
       "2010-01-25 00:30:00   1.70129  1.70322  1.70413  1.70140   1.70220   \n",
       "2010-01-25 00:35:00   1.70149  1.70220  1.70290  1.70211   1.70261   \n",
       "2010-01-25 00:40:00   1.70069  1.70261  1.70271  1.70141   1.70161   \n",
       "2010-01-25 00:45:00   1.70139  1.70161  1.70241  1.70161   1.70231   \n",
       "2010-01-25 00:50:00   1.70159  1.70231  1.70289  1.70151   1.70247   \n",
       "2010-01-25 00:55:00   1.70055  1.70247  1.70251  1.70120   1.70120   \n",
       "2010-01-25 01:00:00   1.70139  1.70120  1.70231  1.70120   1.70231   \n",
       "2010-01-25 01:05:00   1.70149  1.70231  1.70281  1.70231   1.70251   \n",
       "2010-01-25 01:10:00   1.70180  1.70251  1.70257  1.70137   1.70241   \n",
       "2010-01-25 01:15:00   1.70049  1.70241  1.70261  1.70141   1.70141   \n",
       "2010-01-25 01:20:00   1.70009  1.70141  1.70141  1.70091   1.70101   \n",
       "2010-01-25 01:25:00   1.70058  1.70101  1.70161  1.70101   1.70151   \n",
       "2010-01-25 01:30:00   1.69994  1.70151  1.70152  1.70040   1.70050   \n",
       "2010-01-25 01:35:00   1.69974  1.70050  1.70098  1.70046   1.70055   \n",
       "2010-01-25 01:40:00   1.69987  1.70055  1.70111  1.70013   1.70081   \n",
       "2010-01-25 01:45:00   1.69941  1.70081  1.70111  1.70011   1.70040   \n",
       "2010-01-25 01:50:00   1.69935  1.70040  1.70080  1.70011   1.70031   \n",
       "2010-01-25 01:55:00   1.70069  1.70031  1.70171  1.69996   1.70154   \n",
       "2010-01-25 02:00:00   1.70049  1.70154  1.70201  1.70111   1.70127   \n",
       "2010-01-25 02:05:00   1.70205  1.70127  1.70311  1.70120   1.70301   \n",
       "2010-01-25 02:10:00   1.70193  1.70301  1.70301  1.70231   1.70271   \n",
       "2010-01-25 02:15:00   1.70149  1.70271  1.70331  1.70192   1.70232   \n",
       "2010-01-25 02:20:00   1.70169  1.70232  1.70306  1.70208   1.70267   \n",
       "2010-01-25 02:25:00   1.70073  1.70267  1.70276  1.70177   1.70189   \n",
       "\n",
       "                     Total Ticks            datation  TimeJump  \n",
       "2010-01-22 16:40:00           46 2010-01-22 16:40:00         0  \n",
       "2010-01-22 16:50:00           91 2010-01-22 16:50:00         1  \n",
       "2010-01-22 16:55:00          134 2010-01-22 16:55:00         0  \n",
       "2010-01-22 17:00:00            5 2010-01-22 17:00:00         0  \n",
       "2010-01-22 17:05:00            7 2010-01-22 17:05:00         0  \n",
       "2010-01-22 17:45:00           64 2010-01-22 17:45:00         1  \n",
       "2010-01-24 22:00:00            6 2010-01-24 22:00:00         0  \n",
       "2010-01-24 22:05:00           11 2010-01-24 22:05:00         0  \n",
       "2010-01-24 22:10:00            4 2010-01-24 22:10:00         0  \n",
       "2010-01-24 22:15:00           10 2010-01-24 22:15:00         0  \n",
       "2010-01-24 22:20:00           10 2010-01-24 22:20:00         0  \n",
       "2010-01-24 22:25:00            8 2010-01-24 22:25:00         0  \n",
       "2010-01-24 22:30:00            6 2010-01-24 22:30:00         0  \n",
       "2010-01-24 22:35:00            8 2010-01-24 22:35:00         0  \n",
       "2010-01-24 22:40:00            6 2010-01-24 22:40:00         0  \n",
       "2010-01-24 22:45:00           17 2010-01-24 22:45:00         0  \n",
       "2010-01-24 22:50:00           12 2010-01-24 22:50:00         0  \n",
       "2010-01-24 22:55:00           23 2010-01-24 22:55:00         0  \n",
       "2010-01-24 23:00:00           88 2010-01-24 23:00:00         0  \n",
       "2010-01-24 23:05:00           12 2010-01-24 23:05:00         0  \n",
       "2010-01-24 23:10:00           37 2010-01-24 23:10:00         0  \n",
       "2010-01-24 23:15:00           36 2010-01-24 23:15:00         0  \n",
       "2010-01-24 23:20:00           66 2010-01-24 23:20:00         0  \n",
       "2010-01-24 23:25:00           90 2010-01-24 23:25:00         0  \n",
       "2010-01-24 23:30:00           64 2010-01-24 23:30:00         0  \n",
       "2010-01-24 23:35:00           77 2010-01-24 23:35:00         0  \n",
       "2010-01-24 23:40:00          177 2010-01-24 23:40:00         0  \n",
       "2010-01-24 23:45:00           97 2010-01-24 23:45:00         0  \n",
       "2010-01-24 23:50:00          154 2010-01-24 23:50:00         0  \n",
       "2010-01-24 23:55:00          231 2010-01-24 23:55:00         0  \n",
       "2010-01-25 00:00:00          179 2010-01-25 00:00:00         0  \n",
       "2010-01-25 00:05:00          226 2010-01-25 00:05:00         0  \n",
       "2010-01-25 00:10:00           76 2010-01-25 00:10:00         0  \n",
       "2010-01-25 00:15:00           97 2010-01-25 00:15:00         0  \n",
       "2010-01-25 00:20:00           69 2010-01-25 00:20:00         0  \n",
       "2010-01-25 00:25:00           64 2010-01-25 00:25:00         0  \n",
       "2010-01-25 00:30:00          139 2010-01-25 00:30:00         0  \n",
       "2010-01-25 00:35:00          167 2010-01-25 00:35:00         0  \n",
       "2010-01-25 00:40:00          209 2010-01-25 00:40:00         0  \n",
       "2010-01-25 00:45:00           28 2010-01-25 00:45:00         0  \n",
       "2010-01-25 00:50:00          141 2010-01-25 00:50:00         0  \n",
       "2010-01-25 00:55:00           90 2010-01-25 00:55:00         0  \n",
       "2010-01-25 01:00:00          107 2010-01-25 01:00:00         0  \n",
       "2010-01-25 01:05:00           64 2010-01-25 01:05:00         0  \n",
       "2010-01-25 01:10:00           78 2010-01-25 01:10:00         0  \n",
       "2010-01-25 01:15:00          100 2010-01-25 01:15:00         0  \n",
       "2010-01-25 01:20:00          142 2010-01-25 01:20:00         0  \n",
       "2010-01-25 01:25:00          120 2010-01-25 01:25:00         0  \n",
       "2010-01-25 01:30:00           82 2010-01-25 01:30:00         0  \n",
       "2010-01-25 01:35:00          129 2010-01-25 01:35:00         0  \n",
       "2010-01-25 01:40:00          177 2010-01-25 01:40:00         0  \n",
       "2010-01-25 01:45:00          253 2010-01-25 01:45:00         0  \n",
       "2010-01-25 01:50:00          101 2010-01-25 01:50:00         0  \n",
       "2010-01-25 01:55:00          132 2010-01-25 01:55:00         0  \n",
       "2010-01-25 02:00:00          142 2010-01-25 02:00:00         0  \n",
       "2010-01-25 02:05:00          214 2010-01-25 02:05:00         0  \n",
       "2010-01-25 02:10:00          149 2010-01-25 02:10:00         0  \n",
       "2010-01-25 02:15:00          171 2010-01-25 02:15:00         0  \n",
       "2010-01-25 02:20:00          201 2010-01-25 02:20:00         0  \n",
       "2010-01-25 02:25:00          141 2010-01-25 02:25:00         0  "
      ],
      "text/html": "<div>\n<style scoped>\n    .dataframe tbody tr th:only-of-type {\n        vertical-align: middle;\n    }\n\n    .dataframe tbody tr th {\n        vertical-align: top;\n    }\n\n    .dataframe thead th {\n        text-align: right;\n    }\n</style>\n<table border=\"1\" class=\"dataframe\">\n  <thead>\n    <tr style=\"text-align: right;\">\n      <th></th>\n      <th>Date</th>\n      <th>Time</th>\n      <th>OpenBid</th>\n      <th>HighBid</th>\n      <th>LowBid</th>\n      <th>CloseBid</th>\n      <th>OpenAsk</th>\n      <th>HighAsk</th>\n      <th>LowAsk</th>\n      <th>CloseAsk</th>\n      <th>Total Ticks</th>\n      <th>datation</th>\n      <th>TimeJump</th>\n    </tr>\n  </thead>\n  <tbody>\n    <tr>\n      <th>2010-01-22 16:40:00</th>\n      <td>01-22-2010</td>\n      <td>16:40:00</td>\n      <td>1.70252</td>\n      <td>1.70252</td>\n      <td>1.70136</td>\n      <td>1.70186</td>\n      <td>1.70327</td>\n      <td>1.70327</td>\n      <td>1.70228</td>\n      <td>1.70278</td>\n      <td>46</td>\n      <td>2010-01-22 16:40:00</td>\n      <td>0</td>\n    </tr>\n    <tr>\n      <th>2010-01-22 16:50:00</th>\n      <td>01-22-2010</td>\n      <td>16:50:00</td>\n      <td>1.70186</td>\n      <td>1.70186</td>\n      <td>1.69996</td>\n      <td>1.70024</td>\n      <td>1.70278</td>\n      <td>1.70278</td>\n      <td>1.70083</td>\n      <td>1.70087</td>\n      <td>91</td>\n      <td>2010-01-22 16:50:00</td>\n      <td>1</td>\n    </tr>\n    <tr>\n      <th>2010-01-22 16:55:00</th>\n      <td>01-22-2010</td>\n      <td>16:55:00</td>\n      <td>1.70024</td>\n      <td>1.70139</td>\n      <td>1.70010</td>\n      <td>1.70121</td>\n      <td>1.70087</td>\n      <td>1.70231</td>\n      <td>1.70087</td>\n      <td>1.70213</td>\n      <td>134</td>\n      <td>2010-01-22 16:55:00</td>\n      <td>0</td>\n    </tr>\n    <tr>\n      <th>2010-01-22 17:00:00</th>\n      <td>01-22-2010</td>\n      <td>17:00:00</td>\n      <td>1.70121</td>\n      <td>1.70199</td>\n      <td>1.70121</td>\n      <td>1.70192</td>\n      <td>1.70213</td>\n      <td>1.70213</td>\n      <td>1.70213</td>\n      <td>1.70213</td>\n      <td>5</td>\n      <td>2010-01-22 17:00:00</td>\n      <td>0</td>\n    </tr>\n    <tr>\n      <th>2010-01-22 17:05:00</th>\n      <td>01-22-2010</td>\n      <td>17:05:00</td>\n      <td>1.70192</td>\n      <td>1.70203</td>\n      <td>1.70191</td>\n      <td>1.70194</td>\n      <td>1.70213</td>\n      <td>1.70213</td>\n      <td>1.70213</td>\n      <td>1.70213</td>\n      <td>7</td>\n      <td>2010-01-22 17:05:00</td>\n      <td>0</td>\n    </tr>\n    <tr>\n      <th>2010-01-22 17:45:00</th>\n      <td>01-22-2010</td>\n      <td>17:45:00</td>\n      <td>1.70194</td>\n      <td>1.70218</td>\n      <td>1.70170</td>\n      <td>1.70204</td>\n      <td>1.70213</td>\n      <td>1.70310</td>\n      <td>1.70213</td>\n      <td>1.70296</td>\n      <td>64</td>\n      <td>2010-01-22 17:45:00</td>\n      <td>1</td>\n    </tr>\n    <tr>\n      <th>2010-01-24 22:00:00</th>\n      <td>01-24-2010</td>\n      <td>22:00:00</td>\n      <td>1.70204</td>\n      <td>1.70313</td>\n      <td>1.70204</td>\n      <td>1.70261</td>\n      <td>1.70296</td>\n      <td>1.70520</td>\n      <td>1.70296</td>\n      <td>1.70476</td>\n      <td>6</td>\n      <td>2010-01-24 22:00:00</td>\n      <td>0</td>\n    </tr>\n    <tr>\n      <th>2010-01-24 22:05:00</th>\n      <td>01-24-2010</td>\n      <td>22:05:00</td>\n      <td>1.70261</td>\n      <td>1.70261</td>\n      <td>1.70199</td>\n      <td>1.70199</td>\n      <td>1.70476</td>\n      <td>1.70489</td>\n      <td>1.70406</td>\n      <td>1.70406</td>\n      <td>11</td>\n      <td>2010-01-24 22:05:00</td>\n      <td>0</td>\n    </tr>\n    <tr>\n      <th>2010-01-24 22:10:00</th>\n      <td>01-24-2010</td>\n      <td>22:10:00</td>\n      <td>1.70199</td>\n      <td>1.70211</td>\n      <td>1.70127</td>\n      <td>1.70127</td>\n      <td>1.70406</td>\n      <td>1.70413</td>\n      <td>1.70402</td>\n      <td>1.70402</td>\n      <td>4</td>\n      <td>2010-01-24 22:10:00</td>\n      <td>0</td>\n    </tr>\n    <tr>\n      <th>2010-01-24 22:15:00</th>\n      <td>01-24-2010</td>\n      <td>22:15:00</td>\n      <td>1.70127</td>\n      <td>1.70177</td>\n      <td>1.70122</td>\n      <td>1.70177</td>\n      <td>1.70402</td>\n      <td>1.70443</td>\n      <td>1.70402</td>\n      <td>1.70433</td>\n      <td>10</td>\n      <td>2010-01-24 22:15:00</td>\n      <td>0</td>\n    </tr>\n    <tr>\n      <th>2010-01-24 22:20:00</th>\n      <td>01-24-2010</td>\n      <td>22:20:00</td>\n      <td>1.70177</td>\n      <td>1.70184</td>\n      <td>1.70156</td>\n      <td>1.70184</td>\n      <td>1.70433</td>\n      <td>1.70433</td>\n      <td>1.70358</td>\n      <td>1.70374</td>\n      <td>10</td>\n      <td>2010-01-24 22:20:00</td>\n      <td>0</td>\n    </tr>\n    <tr>\n      <th>2010-01-24 22:25:00</th>\n      <td>01-24-2010</td>\n      <td>22:25:00</td>\n      <td>1.70184</td>\n      <td>1.70239</td>\n      <td>1.70184</td>\n      <td>1.70239</td>\n      <td>1.70374</td>\n      <td>1.70401</td>\n      <td>1.70374</td>\n      <td>1.70396</td>\n      <td>8</td>\n      <td>2010-01-24 22:25:00</td>\n      <td>0</td>\n    </tr>\n    <tr>\n      <th>2010-01-24 22:30:00</th>\n      <td>01-24-2010</td>\n      <td>22:30:00</td>\n      <td>1.70239</td>\n      <td>1.70239</td>\n      <td>1.70196</td>\n      <td>1.70236</td>\n      <td>1.70396</td>\n      <td>1.70396</td>\n      <td>1.70381</td>\n      <td>1.70381</td>\n      <td>6</td>\n      <td>2010-01-24 22:30:00</td>\n      <td>0</td>\n    </tr>\n    <tr>\n      <th>2010-01-24 22:35:00</th>\n      <td>01-24-2010</td>\n      <td>22:35:00</td>\n      <td>1.70236</td>\n      <td>1.70236</td>\n      <td>1.70219</td>\n      <td>1.70236</td>\n      <td>1.70381</td>\n      <td>1.70381</td>\n      <td>1.70372</td>\n      <td>1.70372</td>\n      <td>8</td>\n      <td>2010-01-24 22:35:00</td>\n      <td>0</td>\n    </tr>\n    <tr>\n      <th>2010-01-24 22:40:00</th>\n      <td>01-24-2010</td>\n      <td>22:40:00</td>\n      <td>1.70236</td>\n      <td>1.70236</td>\n      <td>1.70183</td>\n      <td>1.70183</td>\n      <td>1.70372</td>\n      <td>1.70372</td>\n      <td>1.70317</td>\n      <td>1.70317</td>\n      <td>6</td>\n      <td>2010-01-24 22:40:00</td>\n      <td>0</td>\n    </tr>\n    <tr>\n      <th>2010-01-24 22:45:00</th>\n      <td>01-24-2010</td>\n      <td>22:45:00</td>\n      <td>1.70183</td>\n      <td>1.70216</td>\n      <td>1.70183</td>\n      <td>1.70214</td>\n      <td>1.70317</td>\n      <td>1.70349</td>\n      <td>1.70317</td>\n      <td>1.70349</td>\n      <td>17</td>\n      <td>2010-01-24 22:45:00</td>\n      <td>0</td>\n    </tr>\n    <tr>\n      <th>2010-01-24 22:50:00</th>\n      <td>01-24-2010</td>\n      <td>22:50:00</td>\n      <td>1.70214</td>\n      <td>1.70230</td>\n      <td>1.70214</td>\n      <td>1.70221</td>\n      <td>1.70349</td>\n      <td>1.70359</td>\n      <td>1.70338</td>\n      <td>1.70359</td>\n      <td>12</td>\n      <td>2010-01-24 22:50:00</td>\n      <td>0</td>\n    </tr>\n    <tr>\n      <th>2010-01-24 22:55:00</th>\n      <td>01-24-2010</td>\n      <td>22:55:00</td>\n      <td>1.70221</td>\n      <td>1.70257</td>\n      <td>1.70119</td>\n      <td>1.70149</td>\n      <td>1.70359</td>\n      <td>1.70359</td>\n      <td>1.70230</td>\n      <td>1.70251</td>\n      <td>23</td>\n      <td>2010-01-24 22:55:00</td>\n      <td>0</td>\n    </tr>\n    <tr>\n      <th>2010-01-24 23:00:00</th>\n      <td>01-24-2010</td>\n      <td>23:00:00</td>\n      <td>1.70149</td>\n      <td>1.70229</td>\n      <td>1.70139</td>\n      <td>1.70209</td>\n      <td>1.70251</td>\n      <td>1.70367</td>\n      <td>1.70239</td>\n      <td>1.70321</td>\n      <td>88</td>\n      <td>2010-01-24 23:00:00</td>\n      <td>0</td>\n    </tr>\n    <tr>\n      <th>2010-01-24 23:05:00</th>\n      <td>01-24-2010</td>\n      <td>23:05:00</td>\n      <td>1.70209</td>\n      <td>1.70229</td>\n      <td>1.70167</td>\n      <td>1.70199</td>\n      <td>1.70321</td>\n      <td>1.70331</td>\n      <td>1.70281</td>\n      <td>1.70301</td>\n      <td>12</td>\n      <td>2010-01-24 23:05:00</td>\n      <td>0</td>\n    </tr>\n    <tr>\n      <th>2010-01-24 23:10:00</th>\n      <td>01-24-2010</td>\n      <td>23:10:00</td>\n      <td>1.70199</td>\n      <td>1.70199</td>\n      <td>1.70124</td>\n      <td>1.70185</td>\n      <td>1.70301</td>\n      <td>1.70301</td>\n      <td>1.70207</td>\n      <td>1.70260</td>\n      <td>37</td>\n      <td>2010-01-24 23:10:00</td>\n      <td>0</td>\n    </tr>\n    <tr>\n      <th>2010-01-24 23:15:00</th>\n      <td>01-24-2010</td>\n      <td>23:15:00</td>\n      <td>1.70185</td>\n      <td>1.70219</td>\n      <td>1.70139</td>\n      <td>1.70169</td>\n      <td>1.70260</td>\n      <td>1.70327</td>\n      <td>1.70212</td>\n      <td>1.70238</td>\n      <td>36</td>\n      <td>2010-01-24 23:15:00</td>\n      <td>0</td>\n    </tr>\n    <tr>\n      <th>2010-01-24 23:20:00</th>\n      <td>01-24-2010</td>\n      <td>23:20:00</td>\n      <td>1.70169</td>\n      <td>1.70309</td>\n      <td>1.70169</td>\n      <td>1.70299</td>\n      <td>1.70238</td>\n      <td>1.70418</td>\n      <td>1.70238</td>\n      <td>1.70386</td>\n      <td>66</td>\n      <td>2010-01-24 23:20:00</td>\n      <td>0</td>\n    </tr>\n    <tr>\n      <th>2010-01-24 23:25:00</th>\n      <td>01-24-2010</td>\n      <td>23:25:00</td>\n      <td>1.70299</td>\n      <td>1.70309</td>\n      <td>1.70199</td>\n      <td>1.70216</td>\n      <td>1.70386</td>\n      <td>1.70418</td>\n      <td>1.70301</td>\n      <td>1.70311</td>\n      <td>90</td>\n      <td>2010-01-24 23:25:00</td>\n      <td>0</td>\n    </tr>\n    <tr>\n      <th>2010-01-24 23:30:00</th>\n      <td>01-24-2010</td>\n      <td>23:30:00</td>\n      <td>1.70216</td>\n      <td>1.70249</td>\n      <td>1.70182</td>\n      <td>1.70204</td>\n      <td>1.70311</td>\n      <td>1.70351</td>\n      <td>1.70301</td>\n      <td>1.70311</td>\n      <td>64</td>\n      <td>2010-01-24 23:30:00</td>\n      <td>0</td>\n    </tr>\n    <tr>\n      <th>2010-01-24 23:35:00</th>\n      <td>01-24-2010</td>\n      <td>23:35:00</td>\n      <td>1.70204</td>\n      <td>1.70224</td>\n      <td>1.70169</td>\n      <td>1.70202</td>\n      <td>1.70311</td>\n      <td>1.70331</td>\n      <td>1.70266</td>\n      <td>1.70288</td>\n      <td>77</td>\n      <td>2010-01-24 23:35:00</td>\n      <td>0</td>\n    </tr>\n    <tr>\n      <th>2010-01-24 23:40:00</th>\n      <td>01-24-2010</td>\n      <td>23:40:00</td>\n      <td>1.70202</td>\n      <td>1.70259</td>\n      <td>1.70159</td>\n      <td>1.70235</td>\n      <td>1.70288</td>\n      <td>1.70373</td>\n      <td>1.70272</td>\n      <td>1.70336</td>\n      <td>177</td>\n      <td>2010-01-24 23:40:00</td>\n      <td>0</td>\n    </tr>\n    <tr>\n      <th>2010-01-24 23:45:00</th>\n      <td>01-24-2010</td>\n      <td>23:45:00</td>\n      <td>1.70235</td>\n      <td>1.70329</td>\n      <td>1.70234</td>\n      <td>1.70319</td>\n      <td>1.70336</td>\n      <td>1.70427</td>\n      <td>1.70331</td>\n      <td>1.70411</td>\n      <td>97</td>\n      <td>2010-01-24 23:45:00</td>\n      <td>0</td>\n    </tr>\n    <tr>\n      <th>2010-01-24 23:50:00</th>\n      <td>01-24-2010</td>\n      <td>23:50:00</td>\n      <td>1.70319</td>\n      <td>1.70339</td>\n      <td>1.70149</td>\n      <td>1.70215</td>\n      <td>1.70411</td>\n      <td>1.70452</td>\n      <td>1.70264</td>\n      <td>1.70294</td>\n      <td>154</td>\n      <td>2010-01-24 23:50:00</td>\n      <td>0</td>\n    </tr>\n    <tr>\n      <th>2010-01-24 23:55:00</th>\n      <td>01-24-2010</td>\n      <td>23:55:00</td>\n      <td>1.70215</td>\n      <td>1.70307</td>\n      <td>1.70205</td>\n      <td>1.70247</td>\n      <td>1.70294</td>\n      <td>1.70414</td>\n      <td>1.70284</td>\n      <td>1.70317</td>\n      <td>231</td>\n      <td>2010-01-24 23:55:00</td>\n      <td>0</td>\n    </tr>\n    <tr>\n      <th>2010-01-25 00:00:00</th>\n      <td>01-25-2010</td>\n      <td>00:00:00</td>\n      <td>1.70247</td>\n      <td>1.70280</td>\n      <td>1.70141</td>\n      <td>1.70203</td>\n      <td>1.70317</td>\n      <td>1.70352</td>\n      <td>1.70248</td>\n      <td>1.70311</td>\n      <td>179</td>\n      <td>2010-01-25 00:00:00</td>\n      <td>0</td>\n    </tr>\n    <tr>\n      <th>2010-01-25 00:05:00</th>\n      <td>01-25-2010</td>\n      <td>00:05:00</td>\n      <td>1.70203</td>\n      <td>1.70249</td>\n      <td>1.70176</td>\n      <td>1.70209</td>\n      <td>1.70311</td>\n      <td>1.70341</td>\n      <td>1.70271</td>\n      <td>1.70301</td>\n      <td>226</td>\n      <td>2010-01-25 00:05:00</td>\n      <td>0</td>\n    </tr>\n    <tr>\n      <th>2010-01-25 00:10:00</th>\n      <td>01-25-2010</td>\n      <td>00:10:00</td>\n      <td>1.70209</td>\n      <td>1.70219</td>\n      <td>1.70149</td>\n      <td>1.70156</td>\n      <td>1.70301</td>\n      <td>1.70317</td>\n      <td>1.70241</td>\n      <td>1.70251</td>\n      <td>76</td>\n      <td>2010-01-25 00:10:00</td>\n      <td>0</td>\n    </tr>\n    <tr>\n      <th>2010-01-25 00:15:00</th>\n      <td>01-25-2010</td>\n      <td>00:15:00</td>\n      <td>1.70156</td>\n      <td>1.70205</td>\n      <td>1.70144</td>\n      <td>1.70169</td>\n      <td>1.70251</td>\n      <td>1.70271</td>\n      <td>1.70236</td>\n      <td>1.70261</td>\n      <td>97</td>\n      <td>2010-01-25 00:15:00</td>\n      <td>0</td>\n    </tr>\n    <tr>\n      <th>2010-01-25 00:20:00</th>\n      <td>01-25-2010</td>\n      <td>00:20:00</td>\n      <td>1.70169</td>\n      <td>1.70189</td>\n      <td>1.70149</td>\n      <td>1.70172</td>\n      <td>1.70261</td>\n      <td>1.70281</td>\n      <td>1.70242</td>\n      <td>1.70260</td>\n      <td>69</td>\n      <td>2010-01-25 00:20:00</td>\n      <td>0</td>\n    </tr>\n    <tr>\n      <th>2010-01-25 00:25:00</th>\n      <td>01-25-2010</td>\n      <td>00:25:00</td>\n      <td>1.70172</td>\n      <td>1.70291</td>\n      <td>1.70099</td>\n      <td>1.70226</td>\n      <td>1.70260</td>\n      <td>1.70388</td>\n      <td>1.70211</td>\n      <td>1.70322</td>\n      <td>64</td>\n      <td>2010-01-25 00:25:00</td>\n      <td>0</td>\n    </tr>\n    <tr>\n      <th>2010-01-25 00:30:00</th>\n      <td>01-25-2010</td>\n      <td>00:30:00</td>\n      <td>1.70226</td>\n      <td>1.70299</td>\n      <td>1.70071</td>\n      <td>1.70129</td>\n      <td>1.70322</td>\n      <td>1.70413</td>\n      <td>1.70140</td>\n      <td>1.70220</td>\n      <td>139</td>\n      <td>2010-01-25 00:30:00</td>\n      <td>0</td>\n    </tr>\n    <tr>\n      <th>2010-01-25 00:35:00</th>\n      <td>01-25-2010</td>\n      <td>00:35:00</td>\n      <td>1.70129</td>\n      <td>1.70184</td>\n      <td>1.70099</td>\n      <td>1.70149</td>\n      <td>1.70220</td>\n      <td>1.70290</td>\n      <td>1.70211</td>\n      <td>1.70261</td>\n      <td>167</td>\n      <td>2010-01-25 00:35:00</td>\n      <td>0</td>\n    </tr>\n    <tr>\n      <th>2010-01-25 00:40:00</th>\n      <td>01-25-2010</td>\n      <td>00:40:00</td>\n      <td>1.70149</td>\n      <td>1.70169</td>\n      <td>1.70030</td>\n      <td>1.70069</td>\n      <td>1.70261</td>\n      <td>1.70271</td>\n      <td>1.70141</td>\n      <td>1.70161</td>\n      <td>209</td>\n      <td>2010-01-25 00:40:00</td>\n      <td>0</td>\n    </tr>\n    <tr>\n      <th>2010-01-25 00:45:00</th>\n      <td>01-25-2010</td>\n      <td>00:45:00</td>\n      <td>1.70069</td>\n      <td>1.70150</td>\n      <td>1.70069</td>\n      <td>1.70139</td>\n      <td>1.70161</td>\n      <td>1.70241</td>\n      <td>1.70161</td>\n      <td>1.70231</td>\n      <td>28</td>\n      <td>2010-01-25 00:45:00</td>\n      <td>0</td>\n    </tr>\n    <tr>\n      <th>2010-01-25 00:50:00</th>\n      <td>01-25-2010</td>\n      <td>00:50:00</td>\n      <td>1.70139</td>\n      <td>1.70170</td>\n      <td>1.70069</td>\n      <td>1.70159</td>\n      <td>1.70231</td>\n      <td>1.70289</td>\n      <td>1.70151</td>\n      <td>1.70247</td>\n      <td>141</td>\n      <td>2010-01-25 00:50:00</td>\n      <td>0</td>\n    </tr>\n    <tr>\n      <th>2010-01-25 00:55:00</th>\n      <td>01-25-2010</td>\n      <td>00:55:00</td>\n      <td>1.70159</td>\n      <td>1.70169</td>\n      <td>1.70039</td>\n      <td>1.70055</td>\n      <td>1.70247</td>\n      <td>1.70251</td>\n      <td>1.70120</td>\n      <td>1.70120</td>\n      <td>90</td>\n      <td>2010-01-25 00:55:00</td>\n      <td>0</td>\n    </tr>\n    <tr>\n      <th>2010-01-25 01:00:00</th>\n      <td>01-25-2010</td>\n      <td>01:00:00</td>\n      <td>1.70055</td>\n      <td>1.70140</td>\n      <td>1.70049</td>\n      <td>1.70139</td>\n      <td>1.70120</td>\n      <td>1.70231</td>\n      <td>1.70120</td>\n      <td>1.70231</td>\n      <td>107</td>\n      <td>2010-01-25 01:00:00</td>\n      <td>0</td>\n    </tr>\n    <tr>\n      <th>2010-01-25 01:05:00</th>\n      <td>01-25-2010</td>\n      <td>01:05:00</td>\n      <td>1.70139</td>\n      <td>1.70189</td>\n      <td>1.70128</td>\n      <td>1.70149</td>\n      <td>1.70231</td>\n      <td>1.70281</td>\n      <td>1.70231</td>\n      <td>1.70251</td>\n      <td>64</td>\n      <td>2010-01-25 01:05:00</td>\n      <td>0</td>\n    </tr>\n    <tr>\n      <th>2010-01-25 01:10:00</th>\n      <td>01-25-2010</td>\n      <td>01:10:00</td>\n      <td>1.70149</td>\n      <td>1.70180</td>\n      <td>1.70049</td>\n      <td>1.70180</td>\n      <td>1.70251</td>\n      <td>1.70257</td>\n      <td>1.70137</td>\n      <td>1.70241</td>\n      <td>78</td>\n      <td>2010-01-25 01:10:00</td>\n      <td>0</td>\n    </tr>\n    <tr>\n      <th>2010-01-25 01:15:00</th>\n      <td>01-25-2010</td>\n      <td>01:15:00</td>\n      <td>1.70180</td>\n      <td>1.70180</td>\n      <td>1.70049</td>\n      <td>1.70049</td>\n      <td>1.70241</td>\n      <td>1.70261</td>\n      <td>1.70141</td>\n      <td>1.70141</td>\n      <td>100</td>\n      <td>2010-01-25 01:15:00</td>\n      <td>0</td>\n    </tr>\n    <tr>\n      <th>2010-01-25 01:20:00</th>\n      <td>01-25-2010</td>\n      <td>01:20:00</td>\n      <td>1.70049</td>\n      <td>1.70049</td>\n      <td>1.69989</td>\n      <td>1.70009</td>\n      <td>1.70141</td>\n      <td>1.70141</td>\n      <td>1.70091</td>\n      <td>1.70101</td>\n      <td>142</td>\n      <td>2010-01-25 01:20:00</td>\n      <td>0</td>\n    </tr>\n    <tr>\n      <th>2010-01-25 01:25:00</th>\n      <td>01-25-2010</td>\n      <td>01:25:00</td>\n      <td>1.70009</td>\n      <td>1.70072</td>\n      <td>1.70009</td>\n      <td>1.70058</td>\n      <td>1.70101</td>\n      <td>1.70161</td>\n      <td>1.70101</td>\n      <td>1.70151</td>\n      <td>120</td>\n      <td>2010-01-25 01:25:00</td>\n      <td>0</td>\n    </tr>\n    <tr>\n      <th>2010-01-25 01:30:00</th>\n      <td>01-25-2010</td>\n      <td>01:30:00</td>\n      <td>1.70058</td>\n      <td>1.70063</td>\n      <td>1.69986</td>\n      <td>1.69994</td>\n      <td>1.70151</td>\n      <td>1.70152</td>\n      <td>1.70040</td>\n      <td>1.70050</td>\n      <td>82</td>\n      <td>2010-01-25 01:30:00</td>\n      <td>0</td>\n    </tr>\n    <tr>\n      <th>2010-01-25 01:35:00</th>\n      <td>01-25-2010</td>\n      <td>01:35:00</td>\n      <td>1.69994</td>\n      <td>1.70024</td>\n      <td>1.69969</td>\n      <td>1.69974</td>\n      <td>1.70050</td>\n      <td>1.70098</td>\n      <td>1.70046</td>\n      <td>1.70055</td>\n      <td>129</td>\n      <td>2010-01-25 01:35:00</td>\n      <td>0</td>\n    </tr>\n    <tr>\n      <th>2010-01-25 01:40:00</th>\n      <td>01-25-2010</td>\n      <td>01:40:00</td>\n      <td>1.69974</td>\n      <td>1.70009</td>\n      <td>1.69938</td>\n      <td>1.69987</td>\n      <td>1.70055</td>\n      <td>1.70111</td>\n      <td>1.70013</td>\n      <td>1.70081</td>\n      <td>177</td>\n      <td>2010-01-25 01:40:00</td>\n      <td>0</td>\n    </tr>\n    <tr>\n      <th>2010-01-25 01:45:00</th>\n      <td>01-25-2010</td>\n      <td>01:45:00</td>\n      <td>1.69987</td>\n      <td>1.70003</td>\n      <td>1.69914</td>\n      <td>1.69941</td>\n      <td>1.70081</td>\n      <td>1.70111</td>\n      <td>1.70011</td>\n      <td>1.70040</td>\n      <td>253</td>\n      <td>2010-01-25 01:45:00</td>\n      <td>0</td>\n    </tr>\n    <tr>\n      <th>2010-01-25 01:50:00</th>\n      <td>01-25-2010</td>\n      <td>01:50:00</td>\n      <td>1.69941</td>\n      <td>1.69983</td>\n      <td>1.69911</td>\n      <td>1.69935</td>\n      <td>1.70040</td>\n      <td>1.70080</td>\n      <td>1.70011</td>\n      <td>1.70031</td>\n      <td>101</td>\n      <td>2010-01-25 01:50:00</td>\n      <td>0</td>\n    </tr>\n    <tr>\n      <th>2010-01-25 01:55:00</th>\n      <td>01-25-2010</td>\n      <td>01:55:00</td>\n      <td>1.69935</td>\n      <td>1.70079</td>\n      <td>1.69910</td>\n      <td>1.70069</td>\n      <td>1.70031</td>\n      <td>1.70171</td>\n      <td>1.69996</td>\n      <td>1.70154</td>\n      <td>132</td>\n      <td>2010-01-25 01:55:00</td>\n      <td>0</td>\n    </tr>\n    <tr>\n      <th>2010-01-25 02:00:00</th>\n      <td>01-25-2010</td>\n      <td>02:00:00</td>\n      <td>1.70069</td>\n      <td>1.70114</td>\n      <td>1.69999</td>\n      <td>1.70049</td>\n      <td>1.70154</td>\n      <td>1.70201</td>\n      <td>1.70111</td>\n      <td>1.70127</td>\n      <td>142</td>\n      <td>2010-01-25 02:00:00</td>\n      <td>0</td>\n    </tr>\n    <tr>\n      <th>2010-01-25 02:05:00</th>\n      <td>01-25-2010</td>\n      <td>02:05:00</td>\n      <td>1.70049</td>\n      <td>1.70216</td>\n      <td>1.70019</td>\n      <td>1.70205</td>\n      <td>1.70127</td>\n      <td>1.70311</td>\n      <td>1.70120</td>\n      <td>1.70301</td>\n      <td>214</td>\n      <td>2010-01-25 02:05:00</td>\n      <td>0</td>\n    </tr>\n    <tr>\n      <th>2010-01-25 02:10:00</th>\n      <td>01-25-2010</td>\n      <td>02:10:00</td>\n      <td>1.70205</td>\n      <td>1.70210</td>\n      <td>1.70139</td>\n      <td>1.70193</td>\n      <td>1.70301</td>\n      <td>1.70301</td>\n      <td>1.70231</td>\n      <td>1.70271</td>\n      <td>149</td>\n      <td>2010-01-25 02:10:00</td>\n      <td>0</td>\n    </tr>\n    <tr>\n      <th>2010-01-25 02:15:00</th>\n      <td>01-25-2010</td>\n      <td>02:15:00</td>\n      <td>1.70193</td>\n      <td>1.70257</td>\n      <td>1.70129</td>\n      <td>1.70149</td>\n      <td>1.70271</td>\n      <td>1.70331</td>\n      <td>1.70192</td>\n      <td>1.70232</td>\n      <td>171</td>\n      <td>2010-01-25 02:15:00</td>\n      <td>0</td>\n    </tr>\n    <tr>\n      <th>2010-01-25 02:20:00</th>\n      <td>01-25-2010</td>\n      <td>02:20:00</td>\n      <td>1.70149</td>\n      <td>1.70230</td>\n      <td>1.70109</td>\n      <td>1.70169</td>\n      <td>1.70232</td>\n      <td>1.70306</td>\n      <td>1.70208</td>\n      <td>1.70267</td>\n      <td>201</td>\n      <td>2010-01-25 02:20:00</td>\n      <td>0</td>\n    </tr>\n    <tr>\n      <th>2010-01-25 02:25:00</th>\n      <td>01-25-2010</td>\n      <td>02:25:00</td>\n      <td>1.70169</td>\n      <td>1.70179</td>\n      <td>1.70073</td>\n      <td>1.70073</td>\n      <td>1.70267</td>\n      <td>1.70276</td>\n      <td>1.70177</td>\n      <td>1.70189</td>\n      <td>141</td>\n      <td>2010-01-25 02:25:00</td>\n      <td>0</td>\n    </tr>\n  </tbody>\n</table>\n</div>"
     },
     "metadata": {},
     "execution_count": 128
    }
   ],
   "source": [
    "toto[(toto.index>='2010-01-22 16:40:00')].head(60)"
   ]
  },
  {
   "cell_type": "code",
   "execution_count": 6,
   "metadata": {},
   "outputs": [
    {
     "output_type": "stream",
     "name": "stdout",
     "text": [
      "Nombre (shape) de bougies manquante comparé au nombre (shape) de bougie total (909, 61) (812947, 61)\nPourcentage de trous dans la base : 0.11181540740048246\n                        Close  CloseAsk  CloseBid      High  HighAsk  HighBid  \\\n2010-01-11 00:20:00  1.446960   1.44714   1.44678  1.447670  1.44776  1.44758   \n2010-01-11 02:20:00  1.447950   1.44811   1.44779  1.448100  1.44829  1.44791   \n2010-01-18 20:45:00  1.438345   1.43848   1.43821  1.438555  1.43865  1.43846   \n2010-01-29 04:50:00  1.393285   1.39335   1.39322  1.393430  1.39351  1.39335   \n2010-02-12 16:10:00  1.361485   1.36156   1.36141  1.361510  1.36157  1.36145   \n...                       ...       ...       ...       ...      ...      ...   \n2021-03-07 20:05:00  1.191500   1.19190   1.19110  1.191800  1.19230  1.19130   \n2021-03-07 20:30:00  1.191400   1.19190   1.19090  1.191675  1.19205  1.19130   \n2021-03-07 20:40:00  1.191575   1.19205   1.19110  1.191575  1.19205  1.19110   \n2021-03-07 21:45:00  1.191900   1.19240   1.19140  1.191900  1.19240  1.19140   \n2021-03-09 06:30:00  1.186065   1.18613   1.18600  1.186225  1.18628  1.18617   \n\n                          Low   LowAsk   LowBid      Open  ...  High_weekly  \\\n2010-01-11 00:20:00  1.446725  1.44688  1.44657  1.447670  ...     1.457920   \n2010-01-11 02:20:00  1.447750  1.44791  1.44759  1.448100  ...     1.457920   \n2010-01-18 20:45:00  1.438155  1.43825  1.43806  1.438530  ...     1.441415   \n2010-01-29 04:50:00  1.392970  1.39305  1.39289  1.393430  ...     1.419405   \n2010-02-12 16:10:00  1.360275  1.36034  1.36021  1.360895  ...     1.383920   \n...                       ...      ...      ...       ...  ...          ...   \n2021-03-07 20:05:00  1.191500  1.19190  1.19110  1.191600  ...     1.211340   \n2021-03-07 20:30:00  1.191400  1.19190  1.19090  1.191595  ...     1.211340   \n2021-03-07 20:40:00  1.191500  1.19190  1.19110  1.191500  ...     1.211340   \n2021-03-07 21:45:00  1.191900  1.19240  1.19140  1.191900  ...     1.211340   \n2021-03-09 06:30:00  1.185835  1.18590  1.18577  1.186030  ...     1.193240   \n\n                     Low_weekly Close_weekly Open_daily  High_daily  \\\n2010-01-11 00:20:00    1.433670     1.437950   1.446425    1.455640   \n2010-01-11 02:20:00    1.433670     1.437950   1.446425    1.455640   \n2010-01-18 20:45:00    1.402925     1.413695   1.436825    1.440855   \n2010-01-29 04:50:00    1.386270     1.386460   1.396325    1.398720   \n2010-02-12 16:10:00    1.353190     1.361755   1.368760    1.368920   \n...                         ...          ...        ...         ...   \n2021-03-07 20:05:00    1.189315     1.192620   1.191500    1.193205   \n2021-03-07 20:30:00    1.189315     1.192620   1.191500    1.193205   \n2021-03-07 20:40:00    1.189315     1.192620   1.191500    1.193205   \n2021-03-07 21:45:00    1.189315     1.192620   1.191500    1.193205   \n2021-03-09 06:30:00    1.183550     1.192405   1.184905    1.191585   \n\n                     Low_daily  Close_daily  Signal            datation  \\\n2010-01-11 00:20:00    1.44627     1.450830       0 2010-01-11 00:20:00   \n2010-01-11 02:20:00    1.44627     1.450830       0 2010-01-11 02:20:00   \n2010-01-18 20:45:00    1.43350     1.440460       0 2010-01-18 20:45:00   \n2010-01-29 04:50:00    1.38627     1.386460       0 2010-01-29 04:50:00   \n2010-02-12 16:10:00    1.35319     1.361755       0 2010-02-12 16:10:00   \n...                        ...          ...     ...                 ...   \n2021-03-07 20:05:00    1.19140     1.192620       0 2021-03-07 20:05:00   \n2021-03-07 20:30:00    1.19140     1.192620       0 2021-03-07 20:30:00   \n2021-03-07 20:40:00    1.19140     1.192620       0 2021-03-07 20:40:00   \n2021-03-07 21:45:00    1.19140     1.192620       0 2021-03-07 21:45:00   \n2021-03-09 06:30:00    1.18355     1.189695       0 2021-03-09 06:30:00   \n\n                     TimeJump  \n2010-01-11 00:20:00         1  \n2010-01-11 02:20:00         1  \n2010-01-18 20:45:00         1  \n2010-01-29 04:50:00         1  \n2010-02-12 16:10:00         1  \n...                       ...  \n2021-03-07 20:05:00         1  \n2021-03-07 20:30:00         1  \n2021-03-07 20:40:00         1  \n2021-03-07 21:45:00         1  \n2021-03-09 06:30:00         1  \n\n[909 rows x 61 columns]\nCPU times: user 285 ms, sys: 220 ms, total: 505 ms\nWall time: 496 ms\n"
     ]
    }
   ],
   "source": [
    "%%time\n",
    "from librairies.dagfeaturingfx import *\n",
    "df = joblib.load('EURUSD_m5')\n",
    "missing_candle(df,'m5',1)"
   ]
  },
  {
   "cell_type": "code",
   "execution_count": 11,
   "metadata": {},
   "outputs": [
    {
     "output_type": "execute_result",
     "data": {
      "text/plain": [
       "                        Close  CloseAsk  CloseBid      High  HighAsk  HighBid  \\\n",
       "2021-03-07 19:30:00  1.191500   1.19190    1.1911  1.191500  1.19190  1.19110   \n",
       "2021-03-07 19:40:00  1.191500   1.19190    1.1911  1.191500  1.19190  1.19110   \n",
       "2021-03-07 20:05:00  1.191500   1.19190    1.1911  1.191800  1.19230  1.19130   \n",
       "2021-03-07 20:30:00  1.191400   1.19190    1.1909  1.191675  1.19205  1.19130   \n",
       "2021-03-07 20:40:00  1.191575   1.19205    1.1911  1.191575  1.19205  1.19110   \n",
       "2021-03-07 21:45:00  1.191900   1.19240    1.1914  1.191900  1.19240  1.19140   \n",
       "2021-03-07 21:50:00  1.191750   1.19210    1.1914  1.191865  1.19233  1.19140   \n",
       "2021-03-07 21:55:00  1.191870   1.19204    1.1917  1.191925  1.19215  1.19170   \n",
       "2021-03-07 22:00:00  1.191870   1.19204    1.1917  1.191960  1.19210  1.19182   \n",
       "\n",
       "                         Low   LowAsk   LowBid      Open  ...  High_weekly  \\\n",
       "2021-03-07 19:30:00  1.19150  1.19190  1.19110  1.191500  ...      1.21134   \n",
       "2021-03-07 19:40:00  1.19145  1.19180  1.19110  1.191450  ...      1.21134   \n",
       "2021-03-07 20:05:00  1.19150  1.19190  1.19110  1.191600  ...      1.21134   \n",
       "2021-03-07 20:30:00  1.19140  1.19190  1.19090  1.191595  ...      1.21134   \n",
       "2021-03-07 20:40:00  1.19150  1.19190  1.19110  1.191500  ...      1.21134   \n",
       "2021-03-07 21:45:00  1.19190  1.19240  1.19140  1.191900  ...      1.21134   \n",
       "2021-03-07 21:50:00  1.19175  1.19210  1.19140  1.191865  ...      1.21134   \n",
       "2021-03-07 21:55:00  1.19172  1.19204  1.19140  1.191755  ...      1.21134   \n",
       "2021-03-07 22:00:00  1.19184  1.19204  1.19164  1.191870  ...      1.21134   \n",
       "\n",
       "                     Low_weekly Close_weekly Open_daily  High_daily  \\\n",
       "2021-03-07 19:30:00    1.189315      1.19262     1.1915    1.193205   \n",
       "2021-03-07 19:40:00    1.189315      1.19262     1.1915    1.193205   \n",
       "2021-03-07 20:05:00    1.189315      1.19262     1.1915    1.193205   \n",
       "2021-03-07 20:30:00    1.189315      1.19262     1.1915    1.193205   \n",
       "2021-03-07 20:40:00    1.189315      1.19262     1.1915    1.193205   \n",
       "2021-03-07 21:45:00    1.189315      1.19262     1.1915    1.193205   \n",
       "2021-03-07 21:50:00    1.189315      1.19262     1.1915    1.193205   \n",
       "2021-03-07 21:55:00    1.189315      1.19262     1.1915    1.193205   \n",
       "2021-03-07 22:00:00    1.189315      1.19262     1.1915    1.193205   \n",
       "\n",
       "                     Low_daily  Close_daily  Signal            datation  \\\n",
       "2021-03-07 19:30:00     1.1914      1.19262       0 2021-03-07 19:30:00   \n",
       "2021-03-07 19:40:00     1.1914      1.19262       0 2021-03-07 19:40:00   \n",
       "2021-03-07 20:05:00     1.1914      1.19262       0 2021-03-07 20:05:00   \n",
       "2021-03-07 20:30:00     1.1914      1.19262       0 2021-03-07 20:30:00   \n",
       "2021-03-07 20:40:00     1.1914      1.19262       0 2021-03-07 20:40:00   \n",
       "2021-03-07 21:45:00     1.1914      1.19262       0 2021-03-07 21:45:00   \n",
       "2021-03-07 21:50:00     1.1914      1.19262       0 2021-03-07 21:50:00   \n",
       "2021-03-07 21:55:00     1.1914      1.19262       0 2021-03-07 21:55:00   \n",
       "2021-03-07 22:00:00     1.1914      1.19262       0 2021-03-07 22:00:00   \n",
       "\n",
       "                     TimeJump  \n",
       "2021-03-07 19:30:00         0  \n",
       "2021-03-07 19:40:00         1  \n",
       "2021-03-07 20:05:00         1  \n",
       "2021-03-07 20:30:00         1  \n",
       "2021-03-07 20:40:00         1  \n",
       "2021-03-07 21:45:00         1  \n",
       "2021-03-07 21:50:00         0  \n",
       "2021-03-07 21:55:00         0  \n",
       "2021-03-07 22:00:00         0  \n",
       "\n",
       "[9 rows x 61 columns]"
      ],
      "text/html": "<div>\n<style scoped>\n    .dataframe tbody tr th:only-of-type {\n        vertical-align: middle;\n    }\n\n    .dataframe tbody tr th {\n        vertical-align: top;\n    }\n\n    .dataframe thead th {\n        text-align: right;\n    }\n</style>\n<table border=\"1\" class=\"dataframe\">\n  <thead>\n    <tr style=\"text-align: right;\">\n      <th></th>\n      <th>Close</th>\n      <th>CloseAsk</th>\n      <th>CloseBid</th>\n      <th>High</th>\n      <th>HighAsk</th>\n      <th>HighBid</th>\n      <th>Low</th>\n      <th>LowAsk</th>\n      <th>LowBid</th>\n      <th>Open</th>\n      <th>...</th>\n      <th>High_weekly</th>\n      <th>Low_weekly</th>\n      <th>Close_weekly</th>\n      <th>Open_daily</th>\n      <th>High_daily</th>\n      <th>Low_daily</th>\n      <th>Close_daily</th>\n      <th>Signal</th>\n      <th>datation</th>\n      <th>TimeJump</th>\n    </tr>\n  </thead>\n  <tbody>\n    <tr>\n      <th>2021-03-07 19:30:00</th>\n      <td>1.191500</td>\n      <td>1.19190</td>\n      <td>1.1911</td>\n      <td>1.191500</td>\n      <td>1.19190</td>\n      <td>1.19110</td>\n      <td>1.19150</td>\n      <td>1.19190</td>\n      <td>1.19110</td>\n      <td>1.191500</td>\n      <td>...</td>\n      <td>1.21134</td>\n      <td>1.189315</td>\n      <td>1.19262</td>\n      <td>1.1915</td>\n      <td>1.193205</td>\n      <td>1.1914</td>\n      <td>1.19262</td>\n      <td>0</td>\n      <td>2021-03-07 19:30:00</td>\n      <td>0</td>\n    </tr>\n    <tr>\n      <th>2021-03-07 19:40:00</th>\n      <td>1.191500</td>\n      <td>1.19190</td>\n      <td>1.1911</td>\n      <td>1.191500</td>\n      <td>1.19190</td>\n      <td>1.19110</td>\n      <td>1.19145</td>\n      <td>1.19180</td>\n      <td>1.19110</td>\n      <td>1.191450</td>\n      <td>...</td>\n      <td>1.21134</td>\n      <td>1.189315</td>\n      <td>1.19262</td>\n      <td>1.1915</td>\n      <td>1.193205</td>\n      <td>1.1914</td>\n      <td>1.19262</td>\n      <td>0</td>\n      <td>2021-03-07 19:40:00</td>\n      <td>1</td>\n    </tr>\n    <tr>\n      <th>2021-03-07 20:05:00</th>\n      <td>1.191500</td>\n      <td>1.19190</td>\n      <td>1.1911</td>\n      <td>1.191800</td>\n      <td>1.19230</td>\n      <td>1.19130</td>\n      <td>1.19150</td>\n      <td>1.19190</td>\n      <td>1.19110</td>\n      <td>1.191600</td>\n      <td>...</td>\n      <td>1.21134</td>\n      <td>1.189315</td>\n      <td>1.19262</td>\n      <td>1.1915</td>\n      <td>1.193205</td>\n      <td>1.1914</td>\n      <td>1.19262</td>\n      <td>0</td>\n      <td>2021-03-07 20:05:00</td>\n      <td>1</td>\n    </tr>\n    <tr>\n      <th>2021-03-07 20:30:00</th>\n      <td>1.191400</td>\n      <td>1.19190</td>\n      <td>1.1909</td>\n      <td>1.191675</td>\n      <td>1.19205</td>\n      <td>1.19130</td>\n      <td>1.19140</td>\n      <td>1.19190</td>\n      <td>1.19090</td>\n      <td>1.191595</td>\n      <td>...</td>\n      <td>1.21134</td>\n      <td>1.189315</td>\n      <td>1.19262</td>\n      <td>1.1915</td>\n      <td>1.193205</td>\n      <td>1.1914</td>\n      <td>1.19262</td>\n      <td>0</td>\n      <td>2021-03-07 20:30:00</td>\n      <td>1</td>\n    </tr>\n    <tr>\n      <th>2021-03-07 20:40:00</th>\n      <td>1.191575</td>\n      <td>1.19205</td>\n      <td>1.1911</td>\n      <td>1.191575</td>\n      <td>1.19205</td>\n      <td>1.19110</td>\n      <td>1.19150</td>\n      <td>1.19190</td>\n      <td>1.19110</td>\n      <td>1.191500</td>\n      <td>...</td>\n      <td>1.21134</td>\n      <td>1.189315</td>\n      <td>1.19262</td>\n      <td>1.1915</td>\n      <td>1.193205</td>\n      <td>1.1914</td>\n      <td>1.19262</td>\n      <td>0</td>\n      <td>2021-03-07 20:40:00</td>\n      <td>1</td>\n    </tr>\n    <tr>\n      <th>2021-03-07 21:45:00</th>\n      <td>1.191900</td>\n      <td>1.19240</td>\n      <td>1.1914</td>\n      <td>1.191900</td>\n      <td>1.19240</td>\n      <td>1.19140</td>\n      <td>1.19190</td>\n      <td>1.19240</td>\n      <td>1.19140</td>\n      <td>1.191900</td>\n      <td>...</td>\n      <td>1.21134</td>\n      <td>1.189315</td>\n      <td>1.19262</td>\n      <td>1.1915</td>\n      <td>1.193205</td>\n      <td>1.1914</td>\n      <td>1.19262</td>\n      <td>0</td>\n      <td>2021-03-07 21:45:00</td>\n      <td>1</td>\n    </tr>\n    <tr>\n      <th>2021-03-07 21:50:00</th>\n      <td>1.191750</td>\n      <td>1.19210</td>\n      <td>1.1914</td>\n      <td>1.191865</td>\n      <td>1.19233</td>\n      <td>1.19140</td>\n      <td>1.19175</td>\n      <td>1.19210</td>\n      <td>1.19140</td>\n      <td>1.191865</td>\n      <td>...</td>\n      <td>1.21134</td>\n      <td>1.189315</td>\n      <td>1.19262</td>\n      <td>1.1915</td>\n      <td>1.193205</td>\n      <td>1.1914</td>\n      <td>1.19262</td>\n      <td>0</td>\n      <td>2021-03-07 21:50:00</td>\n      <td>0</td>\n    </tr>\n    <tr>\n      <th>2021-03-07 21:55:00</th>\n      <td>1.191870</td>\n      <td>1.19204</td>\n      <td>1.1917</td>\n      <td>1.191925</td>\n      <td>1.19215</td>\n      <td>1.19170</td>\n      <td>1.19172</td>\n      <td>1.19204</td>\n      <td>1.19140</td>\n      <td>1.191755</td>\n      <td>...</td>\n      <td>1.21134</td>\n      <td>1.189315</td>\n      <td>1.19262</td>\n      <td>1.1915</td>\n      <td>1.193205</td>\n      <td>1.1914</td>\n      <td>1.19262</td>\n      <td>0</td>\n      <td>2021-03-07 21:55:00</td>\n      <td>0</td>\n    </tr>\n    <tr>\n      <th>2021-03-07 22:00:00</th>\n      <td>1.191870</td>\n      <td>1.19204</td>\n      <td>1.1917</td>\n      <td>1.191960</td>\n      <td>1.19210</td>\n      <td>1.19182</td>\n      <td>1.19184</td>\n      <td>1.19204</td>\n      <td>1.19164</td>\n      <td>1.191870</td>\n      <td>...</td>\n      <td>1.21134</td>\n      <td>1.189315</td>\n      <td>1.19262</td>\n      <td>1.1915</td>\n      <td>1.193205</td>\n      <td>1.1914</td>\n      <td>1.19262</td>\n      <td>0</td>\n      <td>2021-03-07 22:00:00</td>\n      <td>0</td>\n    </tr>\n  </tbody>\n</table>\n<p>9 rows × 61 columns</p>\n</div>"
     },
     "metadata": {},
     "execution_count": 11
    }
   ],
   "source": [
    "df[(df.index>='2021-03-07 19:00:00')&(df.index<='2021-03-07 22:00:00')]"
   ]
  },
  {
   "cell_type": "code",
   "execution_count": null,
   "metadata": {},
   "outputs": [],
   "source": []
  }
 ]
}