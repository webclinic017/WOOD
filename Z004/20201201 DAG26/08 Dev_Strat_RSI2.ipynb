{
 "metadata": {
  "language_info": {
   "codemirror_mode": {
    "name": "ipython",
    "version": 3
   },
   "file_extension": ".py",
   "mimetype": "text/x-python",
   "name": "python",
   "nbconvert_exporter": "python",
   "pygments_lexer": "ipython3",
   "version": "3.7.6-final"
  },
  "orig_nbformat": 2,
  "kernelspec": {
   "name": "python37664bitfintechcondac76ab263fd6941b2a7e8b27983583628",
   "display_name": "Python 3.7.6 64-bit ('FinTech': conda)",
   "language": "python"
  }
 },
 "nbformat": 4,
 "nbformat_minor": 2,
 "cells": [
  {
   "cell_type": "code",
   "execution_count": 1,
   "metadata": {},
   "outputs": [
    {
     "output_type": "stream",
     "name": "stdout",
     "text": [
      "Importing Librairies...\n"
     ]
    }
   ],
   "source": [
    "import pandas as pd\n",
    "import numpy as np\n",
    "import time\n",
    "from matplotlib import pyplot as plt\n",
    "import datetime as dt\n",
    "from zigzag_dag26 import zigzag\n",
    "import talib\n",
    "from tqdm import tqdm\n",
    "import colorama as col\n",
    "from retracement import ret_hilo\n",
    "from bt import *\n",
    "from fibostoch import Fibo_Stoch\n",
    "from sklearn.preprocessing import MinMaxScaler"
   ]
  },
  {
   "cell_type": "code",
   "execution_count": 2,
   "metadata": {},
   "outputs": [
    {
     "output_type": "stream",
     "name": "stdout",
     "text": [
      "CPU times: user 1.96 s, sys: 270 ms, total: 2.23 s\nWall time: 2.24 s\n"
     ]
    }
   ],
   "source": [
    "%%time\n",
    "##### Chargement de la base\n",
    "base = pd.read_csv('Base_Clean/EURUSDm5.csv')\n",
    "\n",
    "##### On fixe la date en index sous forme de Timestamp\n",
    "base.set_index(pd.to_datetime(base.Date),drop=True,inplace=True)\n",
    "\n",
    "###### On drop les colonnes inutiles\n",
    "base = base.drop(['Date','Total'],axis=1)\n",
    "\n",
    "##### On enlève les jours correspondant au samedi et au dimanche\n",
    "base['WE'] = np.where(((base.index.weekday == 5) | (base.index.weekday == 6)),None,base.index.weekday)\n",
    "base = base.dropna()\n",
    "base = base.drop(['WE'],axis=1)\n"
   ]
  },
  {
   "cell_type": "code",
   "execution_count": 3,
   "metadata": {},
   "outputs": [
    {
     "output_type": "execute_result",
     "data": {
      "text/plain": [
       "(Timestamp('2010-11-23 00:00:00'), Timestamp('2020-11-23 15:40:00'))"
      ]
     },
     "metadata": {},
     "execution_count": 3
    }
   ],
   "source": [
    "base.index[0],base.index[-1]"
   ]
  },
  {
   "cell_type": "code",
   "execution_count": 4,
   "metadata": {},
   "outputs": [
    {
     "output_type": "stream",
     "name": "stdout",
     "text": [
      "CPU times: user 7.53 ms, sys: 2.67 ms, total: 10.2 ms\nWall time: 8.69 ms\n"
     ]
    }
   ],
   "source": [
    "%%time\n",
    "_year_bottom = pd.to_datetime('2018-01-01 16:00:00')\n",
    "_year_top = pd.to_datetime('2018-12-31 16:00:00') #2020-11-23 16:00:00\n",
    "\n",
    "df = base[(base.index>=_year_bottom)&(base.index<=_year_top)]"
   ]
  },
  {
   "cell_type": "code",
   "execution_count": 5,
   "metadata": {},
   "outputs": [],
   "source": [
    "df['RSI2'] = talib.RSI(df.Close,timeperiod=2)\n",
    "df['MMA200'] = talib.EMA(df.Close,timeperiod=80)\n",
    "upper, middle, lower = talib.BBANDS(df.Close, timeperiod=10, nbdevup=2, nbdevdn=2)\n",
    "#df['SBVol'] = upper - lower"
   ]
  },
  {
   "cell_type": "code",
   "execution_count": 6,
   "metadata": {},
   "outputs": [
    {
     "output_type": "stream",
     "name": "stdout",
     "text": [
      "CPU times: user 9.22 ms, sys: 3.22 ms, total: 12.4 ms\nWall time: 6.8 ms\n"
     ]
    }
   ],
   "source": [
    "%%time\n",
    "df['Signal'] = np.where(\\\n",
    "    ((df.RSI2 < 10)&(df.Close>df.MMA200)),1,\\\n",
    "        np.where(\\\n",
    "            ((df.RSI2 > 90)&(df.Close<df.MMA200)),-1,0)\n",
    ")"
   ]
  },
  {
   "cell_type": "code",
   "execution_count": 7,
   "metadata": {},
   "outputs": [
    {
     "output_type": "stream",
     "name": "stdout",
     "text": [
      "Librairies imported\n",
      "\n",
      "Début des opérations horodatée à 2020-12-14 14:57:51.092396\n",
      "\n",
      "Chargement de la nouvelle base\n",
      "\n",
      "\n",
      "\u001b[35m Le rate du ticker EUR/USD est à  1 \u001b[0m\n",
      "Bases chargées\n",
      "TETEL process effectué\n",
      "\u001b[36m ENTERING THE BACKTEST \u001b[0m\n",
      "100%|██████████| 73523/73523 [00:07<00:00, 9602.64it/s]\n",
      "\u001b[34m Pour le ticker \u001b[33m EUR/USD \u001b[0m\n",
      "\u001b[35m \n",
      "Les gains faramineux s'élèvent à : $ \u001b[31m -2886.5 !. En  444 \u001b[0m  transactions.\n",
      "\u001b[32m \n",
      "Nbre de winners : 282 \u001b[0m\n",
      "\u001b[31m \n",
      "Nbre de loosers : 162 \u001b[0m\n",
      "Temps d'excution du BT 0:00:13.945350\n",
      "\u001b[33m EUR/USD \u001b[34m results \u001b[0m\n",
      "\u001b[35m Tested Period 2018-01-01 16:00:00  à 2018-12-31 16:00:00 \u001b[0m\n",
      "\u001b[36m Total Number of trades 444 \u001b[0m\n",
      "Started Cash : 50000\n",
      "P&L in currency: \u001b[31m -2886.5$ \u001b[0m\n",
      "P&L in %: \u001b[31m -1.44% \u001b[0m\n",
      "Average trade duration 147.81\n",
      "# Winners  282.0\n",
      "# Loosers  162.0\n",
      "Cumulated gains 38247.5\n",
      "Cumulated losses -41134.0\n",
      "\u001b[34m PROFIT FACTOR :  0.93 \u001b[0m\n",
      "\u001b[36m Winners Ratio : 63.51 % \u001b[0m\n",
      "Average Winners 135.63\n",
      "% Average Winners 0.07\n",
      "Average Loosers -253.91\n",
      "% Average Loosers -0.13\n",
      "Average pnl -6.5\n",
      "% Average pnl -0.01\n",
      "Number of opened trades 444\n",
      "Number of closed trades 444\n",
      "Max Exposure 1 x  50000 =  50000 $\n"
     ]
    }
   ],
   "source": [
    "_nb_bougie_exit = 3000000000\n",
    "_trigger_reengage = 0\n",
    "_trigger_target = 1\n",
    "_trigger_invers = 0\n",
    "_trigger_sl = 1\n",
    "_verbose = 0\n",
    "_cash_ini = 200000\n",
    "_rate = 1\n",
    "x = 'EUR/USD'\n",
    "_target = 0.002\n",
    "_exposure = 2\n",
    "_size = 50000\n",
    "_sl = 0.004\n",
    "TRACKER = bt(df,_year_bottom,_year_top,_nb_bougie_exit,_trigger_reengage,_trigger_target,_trigger_invers,_trigger_sl,_verbose,_cash_ini,\\\n",
    "        _rate,x,_target,_exposure,_size,_sl)"
   ]
  },
  {
   "cell_type": "code",
   "execution_count": 8,
   "metadata": {},
   "outputs": [
    {
     "output_type": "execute_result",
     "data": {
      "text/plain": [
       "282"
      ]
     },
     "metadata": {},
     "execution_count": 8
    }
   ],
   "source": [
    "len(TRACKER)"
   ]
  },
  {
   "cell_type": "code",
   "execution_count": 9,
   "metadata": {},
   "outputs": [],
   "source": []
  },
  {
   "cell_type": "code",
   "execution_count": 17,
   "metadata": {},
   "outputs": [
    {
     "output_type": "stream",
     "name": "stderr",
     "text": [
      "100%|██████████| 73602/73602 [00:04<00:00, 18163.53it/s]CPU times: user 4.03 s, sys: 33.9 ms, total: 4.06 s\n",
      "Wall time: 4.09 s\n",
      "\n"
     ]
    }
   ],
   "source": [
    "%%time\n",
    "scaler = MinMaxScaler((0,1))\n",
    "df_2 = df.copy()\n",
    "#df_2.loc[:, df_2.columns != 'Signal'] = scaler.fit_transform(df_2.loc[:, df_2.columns != 'Signal'].values) \n",
    "df_2.rename(columns = {'Signal':'Sig4bt'}, inplace = True)\n",
    "SIGNAL = []\n",
    "SIGNAL = [1 if (df_2.Sig4bt[i] == 1 or df_2.Sig4bt[i] == -1) & (df_2.index[i] in TRACKER) else 0 for i in tqdm(range(len(df_2)))]\n",
    "df_2['Signal'] = SIGNAL\n",
    "df_2 = df_2[['Open','High','Low','Close','RSI2','MMA200','Sig4bt','Signal']]\n",
    "df_2 = df_2.dropna()\n",
    "df_2 = df_2.sort_index(axis=1)"
   ]
  },
  {
   "cell_type": "code",
   "execution_count": 18,
   "metadata": {},
   "outputs": [
    {
     "output_type": "stream",
     "name": "stdout",
     "text": [
      "PyCaret: 2.2.0\n"
     ]
    },
    {
     "output_type": "display_data",
     "data": {
      "text/plain": "Text(value=\"Following data types have been inferred automatically, if they are correct press enter to continue…",
      "application/vnd.jupyter.widget-view+json": {
       "version_major": 2,
       "version_minor": 0,
       "model_id": "19e7a37a6ab84567b99432a17c7e4e0d"
      }
     },
     "metadata": {}
    },
    {
     "output_type": "display_data",
     "data": {
      "text/plain": "          Data Type\nClose       Numeric\nHigh        Numeric\nLow         Numeric\nMMA200      Numeric\nOpen        Numeric\nRSI2        Numeric\nSig4bt  Categorical\nSignal        Label",
      "text/html": "<div>\n<style scoped>\n    .dataframe tbody tr th:only-of-type {\n        vertical-align: middle;\n    }\n\n    .dataframe tbody tr th {\n        vertical-align: top;\n    }\n\n    .dataframe thead th {\n        text-align: right;\n    }\n</style>\n<table border=\"1\" class=\"dataframe\">\n  <thead>\n    <tr style=\"text-align: right;\">\n      <th></th>\n      <th>Data Type</th>\n    </tr>\n  </thead>\n  <tbody>\n    <tr>\n      <th>Close</th>\n      <td>Numeric</td>\n    </tr>\n    <tr>\n      <th>High</th>\n      <td>Numeric</td>\n    </tr>\n    <tr>\n      <th>Low</th>\n      <td>Numeric</td>\n    </tr>\n    <tr>\n      <th>MMA200</th>\n      <td>Numeric</td>\n    </tr>\n    <tr>\n      <th>Open</th>\n      <td>Numeric</td>\n    </tr>\n    <tr>\n      <th>RSI2</th>\n      <td>Numeric</td>\n    </tr>\n    <tr>\n      <th>Sig4bt</th>\n      <td>Categorical</td>\n    </tr>\n    <tr>\n      <th>Signal</th>\n      <td>Label</td>\n    </tr>\n  </tbody>\n</table>\n</div>"
     },
     "metadata": {}
    },
    {
     "output_type": "stream",
     "name": "stdout",
     "text": [
      "Setup Succesfully Completed!\n"
     ]
    },
    {
     "output_type": "display_data",
     "data": {
      "text/plain": "                               Description             Value\n0                               session_id              1650\n1                                   Target            Signal\n2                              Target Type            Binary\n3                            Label Encoded        0: 0, 1: 1\n4                            Original Data        (73523, 8)\n5                           Missing Values             False\n6                         Numeric Features                 6\n7                     Categorical Features                 1\n8                         Ordinal Features             False\n9                High Cardinality Features             False\n10                 High Cardinality Method              None\n11                   Transformed Train Set        (51466, 4)\n12                    Transformed Test Set        (22057, 4)\n13                      Shuffle Train-Test              True\n14                     Stratify Train-Test             False\n15                          Fold Generator   StratifiedKFold\n16                             Fold Number                10\n17                                CPU Jobs                -1\n18                                 Use GPU             False\n19                          Log Experiment             False\n20                         Experiment Name  clf-default-name\n21                                     USI              4af9\n22                         Imputation Type            simple\n23          Iterative Imputation Iteration              None\n24                         Numeric Imputer              mean\n25      Iterative Imputation Numeric Model              None\n26                     Categorical Imputer          constant\n27  Iterative Imputation Categorical Model              None\n28           Unknown Categoricals Handling    least_frequent\n29                               Normalize             False\n30                        Normalize Method              None\n31                          Transformation             False\n32                   Transformation Method              None\n33                                     PCA             False\n34                              PCA Method              None\n35                          PCA Components              None\n36                     Ignore Low Variance             False\n37                     Combine Rare Levels             False\n38                    Rare Level Threshold              None\n39                         Numeric Binning             False\n40                         Remove Outliers             False\n41                      Outliers Threshold              None\n42                Remove Multicollinearity             False\n43             Multicollinearity Threshold              None\n44                              Clustering             False\n45                    Clustering Iteration              None\n46                     Polynomial Features             False\n47                       Polynomial Degree              None\n48                    Trignometry Features             False\n49                    Polynomial Threshold              None\n50                          Group Features             False\n51                       Feature Selection             False\n52            Features Selection Threshold              None\n53                     Feature Interaction             False\n54                           Feature Ratio             False\n55                   Interaction Threshold              None\n56                           Fix Imbalance             False\n57                    Fix Imbalance Method             SMOTE",
      "text/html": "<div>\n<style scoped>\n    .dataframe tbody tr th:only-of-type {\n        vertical-align: middle;\n    }\n\n    .dataframe tbody tr th {\n        vertical-align: top;\n    }\n\n    .dataframe thead th {\n        text-align: right;\n    }\n</style>\n<table border=\"1\" class=\"dataframe\">\n  <thead>\n    <tr style=\"text-align: right;\">\n      <th></th>\n      <th>Description</th>\n      <th>Value</th>\n    </tr>\n  </thead>\n  <tbody>\n    <tr>\n      <th>0</th>\n      <td>session_id</td>\n      <td>1650</td>\n    </tr>\n    <tr>\n      <th>1</th>\n      <td>Target</td>\n      <td>Signal</td>\n    </tr>\n    <tr>\n      <th>2</th>\n      <td>Target Type</td>\n      <td>Binary</td>\n    </tr>\n    <tr>\n      <th>3</th>\n      <td>Label Encoded</td>\n      <td>0: 0, 1: 1</td>\n    </tr>\n    <tr>\n      <th>4</th>\n      <td>Original Data</td>\n      <td>(73523, 8)</td>\n    </tr>\n    <tr>\n      <th>5</th>\n      <td>Missing Values</td>\n      <td>False</td>\n    </tr>\n    <tr>\n      <th>6</th>\n      <td>Numeric Features</td>\n      <td>6</td>\n    </tr>\n    <tr>\n      <th>7</th>\n      <td>Categorical Features</td>\n      <td>1</td>\n    </tr>\n    <tr>\n      <th>8</th>\n      <td>Ordinal Features</td>\n      <td>False</td>\n    </tr>\n    <tr>\n      <th>9</th>\n      <td>High Cardinality Features</td>\n      <td>False</td>\n    </tr>\n    <tr>\n      <th>10</th>\n      <td>High Cardinality Method</td>\n      <td>None</td>\n    </tr>\n    <tr>\n      <th>11</th>\n      <td>Transformed Train Set</td>\n      <td>(51466, 4)</td>\n    </tr>\n    <tr>\n      <th>12</th>\n      <td>Transformed Test Set</td>\n      <td>(22057, 4)</td>\n    </tr>\n    <tr>\n      <th>13</th>\n      <td>Shuffle Train-Test</td>\n      <td>True</td>\n    </tr>\n    <tr>\n      <th>14</th>\n      <td>Stratify Train-Test</td>\n      <td>False</td>\n    </tr>\n    <tr>\n      <th>15</th>\n      <td>Fold Generator</td>\n      <td>StratifiedKFold</td>\n    </tr>\n    <tr>\n      <th>16</th>\n      <td>Fold Number</td>\n      <td>10</td>\n    </tr>\n    <tr>\n      <th>17</th>\n      <td>CPU Jobs</td>\n      <td>-1</td>\n    </tr>\n    <tr>\n      <th>18</th>\n      <td>Use GPU</td>\n      <td>False</td>\n    </tr>\n    <tr>\n      <th>19</th>\n      <td>Log Experiment</td>\n      <td>False</td>\n    </tr>\n    <tr>\n      <th>20</th>\n      <td>Experiment Name</td>\n      <td>clf-default-name</td>\n    </tr>\n    <tr>\n      <th>21</th>\n      <td>USI</td>\n      <td>4af9</td>\n    </tr>\n    <tr>\n      <th>22</th>\n      <td>Imputation Type</td>\n      <td>simple</td>\n    </tr>\n    <tr>\n      <th>23</th>\n      <td>Iterative Imputation Iteration</td>\n      <td>None</td>\n    </tr>\n    <tr>\n      <th>24</th>\n      <td>Numeric Imputer</td>\n      <td>mean</td>\n    </tr>\n    <tr>\n      <th>25</th>\n      <td>Iterative Imputation Numeric Model</td>\n      <td>None</td>\n    </tr>\n    <tr>\n      <th>26</th>\n      <td>Categorical Imputer</td>\n      <td>constant</td>\n    </tr>\n    <tr>\n      <th>27</th>\n      <td>Iterative Imputation Categorical Model</td>\n      <td>None</td>\n    </tr>\n    <tr>\n      <th>28</th>\n      <td>Unknown Categoricals Handling</td>\n      <td>least_frequent</td>\n    </tr>\n    <tr>\n      <th>29</th>\n      <td>Normalize</td>\n      <td>False</td>\n    </tr>\n    <tr>\n      <th>30</th>\n      <td>Normalize Method</td>\n      <td>None</td>\n    </tr>\n    <tr>\n      <th>31</th>\n      <td>Transformation</td>\n      <td>False</td>\n    </tr>\n    <tr>\n      <th>32</th>\n      <td>Transformation Method</td>\n      <td>None</td>\n    </tr>\n    <tr>\n      <th>33</th>\n      <td>PCA</td>\n      <td>False</td>\n    </tr>\n    <tr>\n      <th>34</th>\n      <td>PCA Method</td>\n      <td>None</td>\n    </tr>\n    <tr>\n      <th>35</th>\n      <td>PCA Components</td>\n      <td>None</td>\n    </tr>\n    <tr>\n      <th>36</th>\n      <td>Ignore Low Variance</td>\n      <td>False</td>\n    </tr>\n    <tr>\n      <th>37</th>\n      <td>Combine Rare Levels</td>\n      <td>False</td>\n    </tr>\n    <tr>\n      <th>38</th>\n      <td>Rare Level Threshold</td>\n      <td>None</td>\n    </tr>\n    <tr>\n      <th>39</th>\n      <td>Numeric Binning</td>\n      <td>False</td>\n    </tr>\n    <tr>\n      <th>40</th>\n      <td>Remove Outliers</td>\n      <td>False</td>\n    </tr>\n    <tr>\n      <th>41</th>\n      <td>Outliers Threshold</td>\n      <td>None</td>\n    </tr>\n    <tr>\n      <th>42</th>\n      <td>Remove Multicollinearity</td>\n      <td>False</td>\n    </tr>\n    <tr>\n      <th>43</th>\n      <td>Multicollinearity Threshold</td>\n      <td>None</td>\n    </tr>\n    <tr>\n      <th>44</th>\n      <td>Clustering</td>\n      <td>False</td>\n    </tr>\n    <tr>\n      <th>45</th>\n      <td>Clustering Iteration</td>\n      <td>None</td>\n    </tr>\n    <tr>\n      <th>46</th>\n      <td>Polynomial Features</td>\n      <td>False</td>\n    </tr>\n    <tr>\n      <th>47</th>\n      <td>Polynomial Degree</td>\n      <td>None</td>\n    </tr>\n    <tr>\n      <th>48</th>\n      <td>Trignometry Features</td>\n      <td>False</td>\n    </tr>\n    <tr>\n      <th>49</th>\n      <td>Polynomial Threshold</td>\n      <td>None</td>\n    </tr>\n    <tr>\n      <th>50</th>\n      <td>Group Features</td>\n      <td>False</td>\n    </tr>\n    <tr>\n      <th>51</th>\n      <td>Feature Selection</td>\n      <td>False</td>\n    </tr>\n    <tr>\n      <th>52</th>\n      <td>Features Selection Threshold</td>\n      <td>None</td>\n    </tr>\n    <tr>\n      <th>53</th>\n      <td>Feature Interaction</td>\n      <td>False</td>\n    </tr>\n    <tr>\n      <th>54</th>\n      <td>Feature Ratio</td>\n      <td>False</td>\n    </tr>\n    <tr>\n      <th>55</th>\n      <td>Interaction Threshold</td>\n      <td>None</td>\n    </tr>\n    <tr>\n      <th>56</th>\n      <td>Fix Imbalance</td>\n      <td>False</td>\n    </tr>\n    <tr>\n      <th>57</th>\n      <td>Fix Imbalance Method</td>\n      <td>SMOTE</td>\n    </tr>\n  </tbody>\n</table>\n</div>"
     },
     "metadata": {}
    },
    {
     "output_type": "display_data",
     "data": {
      "text/plain": "                  Model  Accuracy     AUC  Recall  Prec.   F1  Kappa  MCC  \\\nlr  Logistic Regression     0.996  0.9719     0.0    0.0  0.0    0.0  0.0   \n\n    TT (Sec)  \nlr     0.586  ",
      "text/html": "<div>\n<style scoped>\n    .dataframe tbody tr th:only-of-type {\n        vertical-align: middle;\n    }\n\n    .dataframe tbody tr th {\n        vertical-align: top;\n    }\n\n    .dataframe thead th {\n        text-align: right;\n    }\n</style>\n<table border=\"1\" class=\"dataframe\">\n  <thead>\n    <tr style=\"text-align: right;\">\n      <th></th>\n      <th>Model</th>\n      <th>Accuracy</th>\n      <th>AUC</th>\n      <th>Recall</th>\n      <th>Prec.</th>\n      <th>F1</th>\n      <th>Kappa</th>\n      <th>MCC</th>\n      <th>TT (Sec)</th>\n    </tr>\n  </thead>\n  <tbody>\n    <tr>\n      <th>lr</th>\n      <td>Logistic Regression</td>\n      <td>0.996</td>\n      <td>0.9719</td>\n      <td>0.0</td>\n      <td>0.0</td>\n      <td>0.0</td>\n      <td>0.0</td>\n      <td>0.0</td>\n      <td>0.586</td>\n    </tr>\n  </tbody>\n</table>\n</div>"
     },
     "metadata": {}
    },
    {
     "output_type": "display_data",
     "data": {
      "text/plain": "                      Model  Accuracy     AUC  Recall  Prec.   F1   Kappa  \\\nlr      Logistic Regression    0.9960  0.9719     0.0    0.0  0.0  0.0000   \nknn  K Neighbors Classifier    0.9958  0.6476     0.0    0.0  0.0 -0.0003   \n\n        MCC  TT (Sec)  \nlr   0.0000     0.586  \nknn -0.0006     0.139  ",
      "text/html": "<div>\n<style scoped>\n    .dataframe tbody tr th:only-of-type {\n        vertical-align: middle;\n    }\n\n    .dataframe tbody tr th {\n        vertical-align: top;\n    }\n\n    .dataframe thead th {\n        text-align: right;\n    }\n</style>\n<table border=\"1\" class=\"dataframe\">\n  <thead>\n    <tr style=\"text-align: right;\">\n      <th></th>\n      <th>Model</th>\n      <th>Accuracy</th>\n      <th>AUC</th>\n      <th>Recall</th>\n      <th>Prec.</th>\n      <th>F1</th>\n      <th>Kappa</th>\n      <th>MCC</th>\n      <th>TT (Sec)</th>\n    </tr>\n  </thead>\n  <tbody>\n    <tr>\n      <th>lr</th>\n      <td>Logistic Regression</td>\n      <td>0.9960</td>\n      <td>0.9719</td>\n      <td>0.0</td>\n      <td>0.0</td>\n      <td>0.0</td>\n      <td>0.0000</td>\n      <td>0.0000</td>\n      <td>0.586</td>\n    </tr>\n    <tr>\n      <th>knn</th>\n      <td>K Neighbors Classifier</td>\n      <td>0.9958</td>\n      <td>0.6476</td>\n      <td>0.0</td>\n      <td>0.0</td>\n      <td>0.0</td>\n      <td>-0.0003</td>\n      <td>-0.0006</td>\n      <td>0.139</td>\n    </tr>\n  </tbody>\n</table>\n</div>"
     },
     "metadata": {}
    },
    {
     "output_type": "display_data",
     "data": {
      "text/plain": "                      Model  Accuracy     AUC  Recall   Prec.      F1   Kappa  \\\nlr      Logistic Regression    0.9960  0.9719     0.0  0.0000  0.0000  0.0000   \nknn  K Neighbors Classifier    0.9958  0.6476     0.0  0.0000  0.0000 -0.0003   \nnb              Naive Bayes    0.9403  0.9672     1.0  0.0631  0.1188  0.1121   \n\n        MCC  TT (Sec)  \nlr   0.0000     0.586  \nknn -0.0006     0.139  \nnb   0.2435     0.019  ",
      "text/html": "<div>\n<style scoped>\n    .dataframe tbody tr th:only-of-type {\n        vertical-align: middle;\n    }\n\n    .dataframe tbody tr th {\n        vertical-align: top;\n    }\n\n    .dataframe thead th {\n        text-align: right;\n    }\n</style>\n<table border=\"1\" class=\"dataframe\">\n  <thead>\n    <tr style=\"text-align: right;\">\n      <th></th>\n      <th>Model</th>\n      <th>Accuracy</th>\n      <th>AUC</th>\n      <th>Recall</th>\n      <th>Prec.</th>\n      <th>F1</th>\n      <th>Kappa</th>\n      <th>MCC</th>\n      <th>TT (Sec)</th>\n    </tr>\n  </thead>\n  <tbody>\n    <tr>\n      <th>lr</th>\n      <td>Logistic Regression</td>\n      <td>0.9960</td>\n      <td>0.9719</td>\n      <td>0.0</td>\n      <td>0.0000</td>\n      <td>0.0000</td>\n      <td>0.0000</td>\n      <td>0.0000</td>\n      <td>0.586</td>\n    </tr>\n    <tr>\n      <th>knn</th>\n      <td>K Neighbors Classifier</td>\n      <td>0.9958</td>\n      <td>0.6476</td>\n      <td>0.0</td>\n      <td>0.0000</td>\n      <td>0.0000</td>\n      <td>-0.0003</td>\n      <td>-0.0006</td>\n      <td>0.139</td>\n    </tr>\n    <tr>\n      <th>nb</th>\n      <td>Naive Bayes</td>\n      <td>0.9403</td>\n      <td>0.9672</td>\n      <td>1.0</td>\n      <td>0.0631</td>\n      <td>0.1188</td>\n      <td>0.1121</td>\n      <td>0.2435</td>\n      <td>0.019</td>\n    </tr>\n  </tbody>\n</table>\n</div>"
     },
     "metadata": {}
    },
    {
     "output_type": "display_data",
     "data": {
      "text/plain": "                        Model  Accuracy     AUC  Recall   Prec.      F1  \\\nlr        Logistic Regression    0.9960  0.9719  0.0000  0.0000  0.0000   \nknn    K Neighbors Classifier    0.9958  0.6476  0.0000  0.0000  0.0000   \ndt   Decision Tree Classifier    0.9929  0.5349  0.0731  0.0871  0.0790   \nnb                Naive Bayes    0.9403  0.9672  1.0000  0.0631  0.1188   \n\n      Kappa     MCC  TT (Sec)  \nlr   0.0000  0.0000     0.586  \nknn -0.0003 -0.0006     0.139  \ndt   0.0755  0.0760     0.027  \nnb   0.1121  0.2435     0.019  ",
      "text/html": "<div>\n<style scoped>\n    .dataframe tbody tr th:only-of-type {\n        vertical-align: middle;\n    }\n\n    .dataframe tbody tr th {\n        vertical-align: top;\n    }\n\n    .dataframe thead th {\n        text-align: right;\n    }\n</style>\n<table border=\"1\" class=\"dataframe\">\n  <thead>\n    <tr style=\"text-align: right;\">\n      <th></th>\n      <th>Model</th>\n      <th>Accuracy</th>\n      <th>AUC</th>\n      <th>Recall</th>\n      <th>Prec.</th>\n      <th>F1</th>\n      <th>Kappa</th>\n      <th>MCC</th>\n      <th>TT (Sec)</th>\n    </tr>\n  </thead>\n  <tbody>\n    <tr>\n      <th>lr</th>\n      <td>Logistic Regression</td>\n      <td>0.9960</td>\n      <td>0.9719</td>\n      <td>0.0000</td>\n      <td>0.0000</td>\n      <td>0.0000</td>\n      <td>0.0000</td>\n      <td>0.0000</td>\n      <td>0.586</td>\n    </tr>\n    <tr>\n      <th>knn</th>\n      <td>K Neighbors Classifier</td>\n      <td>0.9958</td>\n      <td>0.6476</td>\n      <td>0.0000</td>\n      <td>0.0000</td>\n      <td>0.0000</td>\n      <td>-0.0003</td>\n      <td>-0.0006</td>\n      <td>0.139</td>\n    </tr>\n    <tr>\n      <th>dt</th>\n      <td>Decision Tree Classifier</td>\n      <td>0.9929</td>\n      <td>0.5349</td>\n      <td>0.0731</td>\n      <td>0.0871</td>\n      <td>0.0790</td>\n      <td>0.0755</td>\n      <td>0.0760</td>\n      <td>0.027</td>\n    </tr>\n    <tr>\n      <th>nb</th>\n      <td>Naive Bayes</td>\n      <td>0.9403</td>\n      <td>0.9672</td>\n      <td>1.0000</td>\n      <td>0.0631</td>\n      <td>0.1188</td>\n      <td>0.1121</td>\n      <td>0.2435</td>\n      <td>0.019</td>\n    </tr>\n  </tbody>\n</table>\n</div>"
     },
     "metadata": {}
    },
    {
     "output_type": "display_data",
     "data": {
      "text/plain": "                        Model  Accuracy     AUC  Recall   Prec.      F1  \\\nlr        Logistic Regression    0.9960  0.9719  0.0000  0.0000  0.0000   \nknn    K Neighbors Classifier    0.9958  0.6476  0.0000  0.0000  0.0000   \ndt   Decision Tree Classifier    0.9929  0.5349  0.0731  0.0871  0.0790   \nnb                Naive Bayes    0.9403  0.9672  1.0000  0.0631  0.1188   \nsvm       SVM - Linear Kernel    0.8896  0.0000  0.2667  0.0094  0.0172   \n\n      Kappa     MCC  TT (Sec)  \nlr   0.0000  0.0000     0.586  \nknn -0.0003 -0.0006     0.139  \ndt   0.0755  0.0760     0.027  \nnb   0.1121  0.2435     0.019  \nsvm  0.0149  0.0344     0.065  ",
      "text/html": "<div>\n<style scoped>\n    .dataframe tbody tr th:only-of-type {\n        vertical-align: middle;\n    }\n\n    .dataframe tbody tr th {\n        vertical-align: top;\n    }\n\n    .dataframe thead th {\n        text-align: right;\n    }\n</style>\n<table border=\"1\" class=\"dataframe\">\n  <thead>\n    <tr style=\"text-align: right;\">\n      <th></th>\n      <th>Model</th>\n      <th>Accuracy</th>\n      <th>AUC</th>\n      <th>Recall</th>\n      <th>Prec.</th>\n      <th>F1</th>\n      <th>Kappa</th>\n      <th>MCC</th>\n      <th>TT (Sec)</th>\n    </tr>\n  </thead>\n  <tbody>\n    <tr>\n      <th>lr</th>\n      <td>Logistic Regression</td>\n      <td>0.9960</td>\n      <td>0.9719</td>\n      <td>0.0000</td>\n      <td>0.0000</td>\n      <td>0.0000</td>\n      <td>0.0000</td>\n      <td>0.0000</td>\n      <td>0.586</td>\n    </tr>\n    <tr>\n      <th>knn</th>\n      <td>K Neighbors Classifier</td>\n      <td>0.9958</td>\n      <td>0.6476</td>\n      <td>0.0000</td>\n      <td>0.0000</td>\n      <td>0.0000</td>\n      <td>-0.0003</td>\n      <td>-0.0006</td>\n      <td>0.139</td>\n    </tr>\n    <tr>\n      <th>dt</th>\n      <td>Decision Tree Classifier</td>\n      <td>0.9929</td>\n      <td>0.5349</td>\n      <td>0.0731</td>\n      <td>0.0871</td>\n      <td>0.0790</td>\n      <td>0.0755</td>\n      <td>0.0760</td>\n      <td>0.027</td>\n    </tr>\n    <tr>\n      <th>nb</th>\n      <td>Naive Bayes</td>\n      <td>0.9403</td>\n      <td>0.9672</td>\n      <td>1.0000</td>\n      <td>0.0631</td>\n      <td>0.1188</td>\n      <td>0.1121</td>\n      <td>0.2435</td>\n      <td>0.019</td>\n    </tr>\n    <tr>\n      <th>svm</th>\n      <td>SVM - Linear Kernel</td>\n      <td>0.8896</td>\n      <td>0.0000</td>\n      <td>0.2667</td>\n      <td>0.0094</td>\n      <td>0.0172</td>\n      <td>0.0149</td>\n      <td>0.0344</td>\n      <td>0.065</td>\n    </tr>\n  </tbody>\n</table>\n</div>"
     },
     "metadata": {}
    },
    {
     "output_type": "display_data",
     "data": {
      "text/plain": "                          Model  Accuracy     AUC  Recall   Prec.      F1  \\\nlr          Logistic Regression    0.9960  0.9719  0.0000  0.0000  0.0000   \nridge          Ridge Classifier    0.9960  0.0000  0.0000  0.0000  0.0000   \nknn      K Neighbors Classifier    0.9958  0.6476  0.0000  0.0000  0.0000   \ndt     Decision Tree Classifier    0.9929  0.5349  0.0731  0.0871  0.0790   \nnb                  Naive Bayes    0.9403  0.9672  1.0000  0.0631  0.1188   \nsvm         SVM - Linear Kernel    0.8896  0.0000  0.2667  0.0094  0.0172   \n\n        Kappa     MCC  TT (Sec)  \nlr     0.0000  0.0000     0.586  \nridge  0.0000  0.0000     0.030  \nknn   -0.0003 -0.0006     0.139  \ndt     0.0755  0.0760     0.027  \nnb     0.1121  0.2435     0.019  \nsvm    0.0149  0.0344     0.065  ",
      "text/html": "<div>\n<style scoped>\n    .dataframe tbody tr th:only-of-type {\n        vertical-align: middle;\n    }\n\n    .dataframe tbody tr th {\n        vertical-align: top;\n    }\n\n    .dataframe thead th {\n        text-align: right;\n    }\n</style>\n<table border=\"1\" class=\"dataframe\">\n  <thead>\n    <tr style=\"text-align: right;\">\n      <th></th>\n      <th>Model</th>\n      <th>Accuracy</th>\n      <th>AUC</th>\n      <th>Recall</th>\n      <th>Prec.</th>\n      <th>F1</th>\n      <th>Kappa</th>\n      <th>MCC</th>\n      <th>TT (Sec)</th>\n    </tr>\n  </thead>\n  <tbody>\n    <tr>\n      <th>lr</th>\n      <td>Logistic Regression</td>\n      <td>0.9960</td>\n      <td>0.9719</td>\n      <td>0.0000</td>\n      <td>0.0000</td>\n      <td>0.0000</td>\n      <td>0.0000</td>\n      <td>0.0000</td>\n      <td>0.586</td>\n    </tr>\n    <tr>\n      <th>ridge</th>\n      <td>Ridge Classifier</td>\n      <td>0.9960</td>\n      <td>0.0000</td>\n      <td>0.0000</td>\n      <td>0.0000</td>\n      <td>0.0000</td>\n      <td>0.0000</td>\n      <td>0.0000</td>\n      <td>0.030</td>\n    </tr>\n    <tr>\n      <th>knn</th>\n      <td>K Neighbors Classifier</td>\n      <td>0.9958</td>\n      <td>0.6476</td>\n      <td>0.0000</td>\n      <td>0.0000</td>\n      <td>0.0000</td>\n      <td>-0.0003</td>\n      <td>-0.0006</td>\n      <td>0.139</td>\n    </tr>\n    <tr>\n      <th>dt</th>\n      <td>Decision Tree Classifier</td>\n      <td>0.9929</td>\n      <td>0.5349</td>\n      <td>0.0731</td>\n      <td>0.0871</td>\n      <td>0.0790</td>\n      <td>0.0755</td>\n      <td>0.0760</td>\n      <td>0.027</td>\n    </tr>\n    <tr>\n      <th>nb</th>\n      <td>Naive Bayes</td>\n      <td>0.9403</td>\n      <td>0.9672</td>\n      <td>1.0000</td>\n      <td>0.0631</td>\n      <td>0.1188</td>\n      <td>0.1121</td>\n      <td>0.2435</td>\n      <td>0.019</td>\n    </tr>\n    <tr>\n      <th>svm</th>\n      <td>SVM - Linear Kernel</td>\n      <td>0.8896</td>\n      <td>0.0000</td>\n      <td>0.2667</td>\n      <td>0.0094</td>\n      <td>0.0172</td>\n      <td>0.0149</td>\n      <td>0.0344</td>\n      <td>0.065</td>\n    </tr>\n  </tbody>\n</table>\n</div>"
     },
     "metadata": {}
    },
    {
     "output_type": "display_data",
     "data": {
      "text/plain": "                          Model  Accuracy     AUC  Recall   Prec.      F1  \\\nlr          Logistic Regression    0.9960  0.9719  0.0000  0.0000  0.0000   \nridge          Ridge Classifier    0.9960  0.0000  0.0000  0.0000  0.0000   \nknn      K Neighbors Classifier    0.9958  0.6476  0.0000  0.0000  0.0000   \ndt     Decision Tree Classifier    0.9929  0.5349  0.0731  0.0871  0.0790   \nrf     Random Forest Classifier    0.9929  0.6568  0.0731  0.0871  0.0790   \nnb                  Naive Bayes    0.9403  0.9672  1.0000  0.0631  0.1188   \nsvm         SVM - Linear Kernel    0.8896  0.0000  0.2667  0.0094  0.0172   \n\n        Kappa     MCC  TT (Sec)  \nlr     0.0000  0.0000     0.586  \nridge  0.0000  0.0000     0.030  \nknn   -0.0003 -0.0006     0.139  \ndt     0.0755  0.0760     0.027  \nrf     0.0755  0.0760     0.423  \nnb     0.1121  0.2435     0.019  \nsvm    0.0149  0.0344     0.065  ",
      "text/html": "<div>\n<style scoped>\n    .dataframe tbody tr th:only-of-type {\n        vertical-align: middle;\n    }\n\n    .dataframe tbody tr th {\n        vertical-align: top;\n    }\n\n    .dataframe thead th {\n        text-align: right;\n    }\n</style>\n<table border=\"1\" class=\"dataframe\">\n  <thead>\n    <tr style=\"text-align: right;\">\n      <th></th>\n      <th>Model</th>\n      <th>Accuracy</th>\n      <th>AUC</th>\n      <th>Recall</th>\n      <th>Prec.</th>\n      <th>F1</th>\n      <th>Kappa</th>\n      <th>MCC</th>\n      <th>TT (Sec)</th>\n    </tr>\n  </thead>\n  <tbody>\n    <tr>\n      <th>lr</th>\n      <td>Logistic Regression</td>\n      <td>0.9960</td>\n      <td>0.9719</td>\n      <td>0.0000</td>\n      <td>0.0000</td>\n      <td>0.0000</td>\n      <td>0.0000</td>\n      <td>0.0000</td>\n      <td>0.586</td>\n    </tr>\n    <tr>\n      <th>ridge</th>\n      <td>Ridge Classifier</td>\n      <td>0.9960</td>\n      <td>0.0000</td>\n      <td>0.0000</td>\n      <td>0.0000</td>\n      <td>0.0000</td>\n      <td>0.0000</td>\n      <td>0.0000</td>\n      <td>0.030</td>\n    </tr>\n    <tr>\n      <th>knn</th>\n      <td>K Neighbors Classifier</td>\n      <td>0.9958</td>\n      <td>0.6476</td>\n      <td>0.0000</td>\n      <td>0.0000</td>\n      <td>0.0000</td>\n      <td>-0.0003</td>\n      <td>-0.0006</td>\n      <td>0.139</td>\n    </tr>\n    <tr>\n      <th>dt</th>\n      <td>Decision Tree Classifier</td>\n      <td>0.9929</td>\n      <td>0.5349</td>\n      <td>0.0731</td>\n      <td>0.0871</td>\n      <td>0.0790</td>\n      <td>0.0755</td>\n      <td>0.0760</td>\n      <td>0.027</td>\n    </tr>\n    <tr>\n      <th>rf</th>\n      <td>Random Forest Classifier</td>\n      <td>0.9929</td>\n      <td>0.6568</td>\n      <td>0.0731</td>\n      <td>0.0871</td>\n      <td>0.0790</td>\n      <td>0.0755</td>\n      <td>0.0760</td>\n      <td>0.423</td>\n    </tr>\n    <tr>\n      <th>nb</th>\n      <td>Naive Bayes</td>\n      <td>0.9403</td>\n      <td>0.9672</td>\n      <td>1.0000</td>\n      <td>0.0631</td>\n      <td>0.1188</td>\n      <td>0.1121</td>\n      <td>0.2435</td>\n      <td>0.019</td>\n    </tr>\n    <tr>\n      <th>svm</th>\n      <td>SVM - Linear Kernel</td>\n      <td>0.8896</td>\n      <td>0.0000</td>\n      <td>0.2667</td>\n      <td>0.0094</td>\n      <td>0.0172</td>\n      <td>0.0149</td>\n      <td>0.0344</td>\n      <td>0.065</td>\n    </tr>\n  </tbody>\n</table>\n</div>"
     },
     "metadata": {}
    },
    {
     "output_type": "display_data",
     "data": {
      "text/plain": "                                 Model  Accuracy     AUC  Recall   Prec.  \\\nlr                 Logistic Regression    0.9960  0.9719  0.0000  0.0000   \nridge                 Ridge Classifier    0.9960  0.0000  0.0000  0.0000   \nknn             K Neighbors Classifier    0.9958  0.6476  0.0000  0.0000   \ndt            Decision Tree Classifier    0.9929  0.5349  0.0731  0.0871   \nrf            Random Forest Classifier    0.9929  0.6568  0.0731  0.0871   \nnb                         Naive Bayes    0.9403  0.9672  1.0000  0.0631   \nsvm                SVM - Linear Kernel    0.8896  0.0000  0.2667  0.0094   \nqda    Quadratic Discriminant Analysis    0.0040  0.0000  1.0000  0.0040   \n\n           F1   Kappa     MCC  TT (Sec)  \nlr     0.0000  0.0000  0.0000     0.586  \nridge  0.0000  0.0000  0.0000     0.030  \nknn    0.0000 -0.0003 -0.0006     0.139  \ndt     0.0790  0.0755  0.0760     0.027  \nrf     0.0790  0.0755  0.0760     0.423  \nnb     0.1188  0.1121  0.2435     0.019  \nsvm    0.0172  0.0149  0.0344     0.065  \nqda    0.0080  0.0000  0.0000     0.027  ",
      "text/html": "<div>\n<style scoped>\n    .dataframe tbody tr th:only-of-type {\n        vertical-align: middle;\n    }\n\n    .dataframe tbody tr th {\n        vertical-align: top;\n    }\n\n    .dataframe thead th {\n        text-align: right;\n    }\n</style>\n<table border=\"1\" class=\"dataframe\">\n  <thead>\n    <tr style=\"text-align: right;\">\n      <th></th>\n      <th>Model</th>\n      <th>Accuracy</th>\n      <th>AUC</th>\n      <th>Recall</th>\n      <th>Prec.</th>\n      <th>F1</th>\n      <th>Kappa</th>\n      <th>MCC</th>\n      <th>TT (Sec)</th>\n    </tr>\n  </thead>\n  <tbody>\n    <tr>\n      <th>lr</th>\n      <td>Logistic Regression</td>\n      <td>0.9960</td>\n      <td>0.9719</td>\n      <td>0.0000</td>\n      <td>0.0000</td>\n      <td>0.0000</td>\n      <td>0.0000</td>\n      <td>0.0000</td>\n      <td>0.586</td>\n    </tr>\n    <tr>\n      <th>ridge</th>\n      <td>Ridge Classifier</td>\n      <td>0.9960</td>\n      <td>0.0000</td>\n      <td>0.0000</td>\n      <td>0.0000</td>\n      <td>0.0000</td>\n      <td>0.0000</td>\n      <td>0.0000</td>\n      <td>0.030</td>\n    </tr>\n    <tr>\n      <th>knn</th>\n      <td>K Neighbors Classifier</td>\n      <td>0.9958</td>\n      <td>0.6476</td>\n      <td>0.0000</td>\n      <td>0.0000</td>\n      <td>0.0000</td>\n      <td>-0.0003</td>\n      <td>-0.0006</td>\n      <td>0.139</td>\n    </tr>\n    <tr>\n      <th>dt</th>\n      <td>Decision Tree Classifier</td>\n      <td>0.9929</td>\n      <td>0.5349</td>\n      <td>0.0731</td>\n      <td>0.0871</td>\n      <td>0.0790</td>\n      <td>0.0755</td>\n      <td>0.0760</td>\n      <td>0.027</td>\n    </tr>\n    <tr>\n      <th>rf</th>\n      <td>Random Forest Classifier</td>\n      <td>0.9929</td>\n      <td>0.6568</td>\n      <td>0.0731</td>\n      <td>0.0871</td>\n      <td>0.0790</td>\n      <td>0.0755</td>\n      <td>0.0760</td>\n      <td>0.423</td>\n    </tr>\n    <tr>\n      <th>nb</th>\n      <td>Naive Bayes</td>\n      <td>0.9403</td>\n      <td>0.9672</td>\n      <td>1.0000</td>\n      <td>0.0631</td>\n      <td>0.1188</td>\n      <td>0.1121</td>\n      <td>0.2435</td>\n      <td>0.019</td>\n    </tr>\n    <tr>\n      <th>svm</th>\n      <td>SVM - Linear Kernel</td>\n      <td>0.8896</td>\n      <td>0.0000</td>\n      <td>0.2667</td>\n      <td>0.0094</td>\n      <td>0.0172</td>\n      <td>0.0149</td>\n      <td>0.0344</td>\n      <td>0.065</td>\n    </tr>\n    <tr>\n      <th>qda</th>\n      <td>Quadratic Discriminant Analysis</td>\n      <td>0.0040</td>\n      <td>0.0000</td>\n      <td>1.0000</td>\n      <td>0.0040</td>\n      <td>0.0080</td>\n      <td>0.0000</td>\n      <td>0.0000</td>\n      <td>0.027</td>\n    </tr>\n  </tbody>\n</table>\n</div>"
     },
     "metadata": {}
    },
    {
     "output_type": "display_data",
     "data": {
      "text/plain": "                                 Model  Accuracy     AUC  Recall   Prec.  \\\nlr                 Logistic Regression    0.9960  0.9719  0.0000  0.0000   \nridge                 Ridge Classifier    0.9960  0.0000  0.0000  0.0000   \nada               Ada Boost Classifier    0.9960  0.9779  0.0000  0.0000   \nknn             K Neighbors Classifier    0.9958  0.6476  0.0000  0.0000   \ndt            Decision Tree Classifier    0.9929  0.5349  0.0731  0.0871   \nrf            Random Forest Classifier    0.9929  0.6568  0.0731  0.0871   \nnb                         Naive Bayes    0.9403  0.9672  1.0000  0.0631   \nsvm                SVM - Linear Kernel    0.8896  0.0000  0.2667  0.0094   \nqda    Quadratic Discriminant Analysis    0.0040  0.0000  1.0000  0.0040   \n\n           F1   Kappa     MCC  TT (Sec)  \nlr     0.0000  0.0000  0.0000     0.586  \nridge  0.0000  0.0000  0.0000     0.030  \nada    0.0000 -0.0000 -0.0001     0.317  \nknn    0.0000 -0.0003 -0.0006     0.139  \ndt     0.0790  0.0755  0.0760     0.027  \nrf     0.0790  0.0755  0.0760     0.423  \nnb     0.1188  0.1121  0.2435     0.019  \nsvm    0.0172  0.0149  0.0344     0.065  \nqda    0.0080  0.0000  0.0000     0.027  ",
      "text/html": "<div>\n<style scoped>\n    .dataframe tbody tr th:only-of-type {\n        vertical-align: middle;\n    }\n\n    .dataframe tbody tr th {\n        vertical-align: top;\n    }\n\n    .dataframe thead th {\n        text-align: right;\n    }\n</style>\n<table border=\"1\" class=\"dataframe\">\n  <thead>\n    <tr style=\"text-align: right;\">\n      <th></th>\n      <th>Model</th>\n      <th>Accuracy</th>\n      <th>AUC</th>\n      <th>Recall</th>\n      <th>Prec.</th>\n      <th>F1</th>\n      <th>Kappa</th>\n      <th>MCC</th>\n      <th>TT (Sec)</th>\n    </tr>\n  </thead>\n  <tbody>\n    <tr>\n      <th>lr</th>\n      <td>Logistic Regression</td>\n      <td>0.9960</td>\n      <td>0.9719</td>\n      <td>0.0000</td>\n      <td>0.0000</td>\n      <td>0.0000</td>\n      <td>0.0000</td>\n      <td>0.0000</td>\n      <td>0.586</td>\n    </tr>\n    <tr>\n      <th>ridge</th>\n      <td>Ridge Classifier</td>\n      <td>0.9960</td>\n      <td>0.0000</td>\n      <td>0.0000</td>\n      <td>0.0000</td>\n      <td>0.0000</td>\n      <td>0.0000</td>\n      <td>0.0000</td>\n      <td>0.030</td>\n    </tr>\n    <tr>\n      <th>ada</th>\n      <td>Ada Boost Classifier</td>\n      <td>0.9960</td>\n      <td>0.9779</td>\n      <td>0.0000</td>\n      <td>0.0000</td>\n      <td>0.0000</td>\n      <td>-0.0000</td>\n      <td>-0.0001</td>\n      <td>0.317</td>\n    </tr>\n    <tr>\n      <th>knn</th>\n      <td>K Neighbors Classifier</td>\n      <td>0.9958</td>\n      <td>0.6476</td>\n      <td>0.0000</td>\n      <td>0.0000</td>\n      <td>0.0000</td>\n      <td>-0.0003</td>\n      <td>-0.0006</td>\n      <td>0.139</td>\n    </tr>\n    <tr>\n      <th>dt</th>\n      <td>Decision Tree Classifier</td>\n      <td>0.9929</td>\n      <td>0.5349</td>\n      <td>0.0731</td>\n      <td>0.0871</td>\n      <td>0.0790</td>\n      <td>0.0755</td>\n      <td>0.0760</td>\n      <td>0.027</td>\n    </tr>\n    <tr>\n      <th>rf</th>\n      <td>Random Forest Classifier</td>\n      <td>0.9929</td>\n      <td>0.6568</td>\n      <td>0.0731</td>\n      <td>0.0871</td>\n      <td>0.0790</td>\n      <td>0.0755</td>\n      <td>0.0760</td>\n      <td>0.423</td>\n    </tr>\n    <tr>\n      <th>nb</th>\n      <td>Naive Bayes</td>\n      <td>0.9403</td>\n      <td>0.9672</td>\n      <td>1.0000</td>\n      <td>0.0631</td>\n      <td>0.1188</td>\n      <td>0.1121</td>\n      <td>0.2435</td>\n      <td>0.019</td>\n    </tr>\n    <tr>\n      <th>svm</th>\n      <td>SVM - Linear Kernel</td>\n      <td>0.8896</td>\n      <td>0.0000</td>\n      <td>0.2667</td>\n      <td>0.0094</td>\n      <td>0.0172</td>\n      <td>0.0149</td>\n      <td>0.0344</td>\n      <td>0.065</td>\n    </tr>\n    <tr>\n      <th>qda</th>\n      <td>Quadratic Discriminant Analysis</td>\n      <td>0.0040</td>\n      <td>0.0000</td>\n      <td>1.0000</td>\n      <td>0.0040</td>\n      <td>0.0080</td>\n      <td>0.0000</td>\n      <td>0.0000</td>\n      <td>0.027</td>\n    </tr>\n  </tbody>\n</table>\n</div>"
     },
     "metadata": {}
    },
    {
     "output_type": "display_data",
     "data": {
      "text/plain": "                                 Model  Accuracy     AUC  Recall   Prec.  \\\nlr                 Logistic Regression    0.9960  0.9719  0.0000  0.0000   \nridge                 Ridge Classifier    0.9960  0.0000  0.0000  0.0000   \nada               Ada Boost Classifier    0.9960  0.9779  0.0000  0.0000   \ngbc       Gradient Boosting Classifier    0.9959  0.9769  0.0098  0.0833   \nknn             K Neighbors Classifier    0.9958  0.6476  0.0000  0.0000   \ndt            Decision Tree Classifier    0.9929  0.5349  0.0731  0.0871   \nrf            Random Forest Classifier    0.9929  0.6568  0.0731  0.0871   \nnb                         Naive Bayes    0.9403  0.9672  1.0000  0.0631   \nsvm                SVM - Linear Kernel    0.8896  0.0000  0.2667  0.0094   \nqda    Quadratic Discriminant Analysis    0.0040  0.0000  1.0000  0.0040   \n\n           F1   Kappa     MCC  TT (Sec)  \nlr     0.0000  0.0000  0.0000     0.586  \nridge  0.0000  0.0000  0.0000     0.030  \nada    0.0000 -0.0000 -0.0001     0.317  \ngbc    0.0174  0.0171  0.0278     0.899  \nknn    0.0000 -0.0003 -0.0006     0.139  \ndt     0.0790  0.0755  0.0760     0.027  \nrf     0.0790  0.0755  0.0760     0.423  \nnb     0.1188  0.1121  0.2435     0.019  \nsvm    0.0172  0.0149  0.0344     0.065  \nqda    0.0080  0.0000  0.0000     0.027  ",
      "text/html": "<div>\n<style scoped>\n    .dataframe tbody tr th:only-of-type {\n        vertical-align: middle;\n    }\n\n    .dataframe tbody tr th {\n        vertical-align: top;\n    }\n\n    .dataframe thead th {\n        text-align: right;\n    }\n</style>\n<table border=\"1\" class=\"dataframe\">\n  <thead>\n    <tr style=\"text-align: right;\">\n      <th></th>\n      <th>Model</th>\n      <th>Accuracy</th>\n      <th>AUC</th>\n      <th>Recall</th>\n      <th>Prec.</th>\n      <th>F1</th>\n      <th>Kappa</th>\n      <th>MCC</th>\n      <th>TT (Sec)</th>\n    </tr>\n  </thead>\n  <tbody>\n    <tr>\n      <th>lr</th>\n      <td>Logistic Regression</td>\n      <td>0.9960</td>\n      <td>0.9719</td>\n      <td>0.0000</td>\n      <td>0.0000</td>\n      <td>0.0000</td>\n      <td>0.0000</td>\n      <td>0.0000</td>\n      <td>0.586</td>\n    </tr>\n    <tr>\n      <th>ridge</th>\n      <td>Ridge Classifier</td>\n      <td>0.9960</td>\n      <td>0.0000</td>\n      <td>0.0000</td>\n      <td>0.0000</td>\n      <td>0.0000</td>\n      <td>0.0000</td>\n      <td>0.0000</td>\n      <td>0.030</td>\n    </tr>\n    <tr>\n      <th>ada</th>\n      <td>Ada Boost Classifier</td>\n      <td>0.9960</td>\n      <td>0.9779</td>\n      <td>0.0000</td>\n      <td>0.0000</td>\n      <td>0.0000</td>\n      <td>-0.0000</td>\n      <td>-0.0001</td>\n      <td>0.317</td>\n    </tr>\n    <tr>\n      <th>gbc</th>\n      <td>Gradient Boosting Classifier</td>\n      <td>0.9959</td>\n      <td>0.9769</td>\n      <td>0.0098</td>\n      <td>0.0833</td>\n      <td>0.0174</td>\n      <td>0.0171</td>\n      <td>0.0278</td>\n      <td>0.899</td>\n    </tr>\n    <tr>\n      <th>knn</th>\n      <td>K Neighbors Classifier</td>\n      <td>0.9958</td>\n      <td>0.6476</td>\n      <td>0.0000</td>\n      <td>0.0000</td>\n      <td>0.0000</td>\n      <td>-0.0003</td>\n      <td>-0.0006</td>\n      <td>0.139</td>\n    </tr>\n    <tr>\n      <th>dt</th>\n      <td>Decision Tree Classifier</td>\n      <td>0.9929</td>\n      <td>0.5349</td>\n      <td>0.0731</td>\n      <td>0.0871</td>\n      <td>0.0790</td>\n      <td>0.0755</td>\n      <td>0.0760</td>\n      <td>0.027</td>\n    </tr>\n    <tr>\n      <th>rf</th>\n      <td>Random Forest Classifier</td>\n      <td>0.9929</td>\n      <td>0.6568</td>\n      <td>0.0731</td>\n      <td>0.0871</td>\n      <td>0.0790</td>\n      <td>0.0755</td>\n      <td>0.0760</td>\n      <td>0.423</td>\n    </tr>\n    <tr>\n      <th>nb</th>\n      <td>Naive Bayes</td>\n      <td>0.9403</td>\n      <td>0.9672</td>\n      <td>1.0000</td>\n      <td>0.0631</td>\n      <td>0.1188</td>\n      <td>0.1121</td>\n      <td>0.2435</td>\n      <td>0.019</td>\n    </tr>\n    <tr>\n      <th>svm</th>\n      <td>SVM - Linear Kernel</td>\n      <td>0.8896</td>\n      <td>0.0000</td>\n      <td>0.2667</td>\n      <td>0.0094</td>\n      <td>0.0172</td>\n      <td>0.0149</td>\n      <td>0.0344</td>\n      <td>0.065</td>\n    </tr>\n    <tr>\n      <th>qda</th>\n      <td>Quadratic Discriminant Analysis</td>\n      <td>0.0040</td>\n      <td>0.0000</td>\n      <td>1.0000</td>\n      <td>0.0040</td>\n      <td>0.0080</td>\n      <td>0.0000</td>\n      <td>0.0000</td>\n      <td>0.027</td>\n    </tr>\n  </tbody>\n</table>\n</div>"
     },
     "metadata": {}
    },
    {
     "output_type": "display_data",
     "data": {
      "text/plain": "                                 Model  Accuracy     AUC  Recall   Prec.  \\\nlr                 Logistic Regression    0.9960  0.9719  0.0000  0.0000   \nridge                 Ridge Classifier    0.9960  0.0000  0.0000  0.0000   \nada               Ada Boost Classifier    0.9960  0.9779  0.0000  0.0000   \ngbc       Gradient Boosting Classifier    0.9959  0.9769  0.0098  0.0833   \nknn             K Neighbors Classifier    0.9958  0.6476  0.0000  0.0000   \ndt            Decision Tree Classifier    0.9929  0.5349  0.0731  0.0871   \nrf            Random Forest Classifier    0.9929  0.6568  0.0731  0.0871   \nnb                         Naive Bayes    0.9403  0.9672  1.0000  0.0631   \nlda       Linear Discriminant Analysis    0.9403  0.9709  1.0000  0.0631   \nsvm                SVM - Linear Kernel    0.8896  0.0000  0.2667  0.0094   \nqda    Quadratic Discriminant Analysis    0.0040  0.0000  1.0000  0.0040   \n\n           F1   Kappa     MCC  TT (Sec)  \nlr     0.0000  0.0000  0.0000     0.586  \nridge  0.0000  0.0000  0.0000     0.030  \nada    0.0000 -0.0000 -0.0001     0.317  \ngbc    0.0174  0.0171  0.0278     0.899  \nknn    0.0000 -0.0003 -0.0006     0.139  \ndt     0.0790  0.0755  0.0760     0.027  \nrf     0.0790  0.0755  0.0760     0.423  \nnb     0.1188  0.1121  0.2435     0.019  \nlda    0.1188  0.1121  0.2435     0.042  \nsvm    0.0172  0.0149  0.0344     0.065  \nqda    0.0080  0.0000  0.0000     0.027  ",
      "text/html": "<div>\n<style scoped>\n    .dataframe tbody tr th:only-of-type {\n        vertical-align: middle;\n    }\n\n    .dataframe tbody tr th {\n        vertical-align: top;\n    }\n\n    .dataframe thead th {\n        text-align: right;\n    }\n</style>\n<table border=\"1\" class=\"dataframe\">\n  <thead>\n    <tr style=\"text-align: right;\">\n      <th></th>\n      <th>Model</th>\n      <th>Accuracy</th>\n      <th>AUC</th>\n      <th>Recall</th>\n      <th>Prec.</th>\n      <th>F1</th>\n      <th>Kappa</th>\n      <th>MCC</th>\n      <th>TT (Sec)</th>\n    </tr>\n  </thead>\n  <tbody>\n    <tr>\n      <th>lr</th>\n      <td>Logistic Regression</td>\n      <td>0.9960</td>\n      <td>0.9719</td>\n      <td>0.0000</td>\n      <td>0.0000</td>\n      <td>0.0000</td>\n      <td>0.0000</td>\n      <td>0.0000</td>\n      <td>0.586</td>\n    </tr>\n    <tr>\n      <th>ridge</th>\n      <td>Ridge Classifier</td>\n      <td>0.9960</td>\n      <td>0.0000</td>\n      <td>0.0000</td>\n      <td>0.0000</td>\n      <td>0.0000</td>\n      <td>0.0000</td>\n      <td>0.0000</td>\n      <td>0.030</td>\n    </tr>\n    <tr>\n      <th>ada</th>\n      <td>Ada Boost Classifier</td>\n      <td>0.9960</td>\n      <td>0.9779</td>\n      <td>0.0000</td>\n      <td>0.0000</td>\n      <td>0.0000</td>\n      <td>-0.0000</td>\n      <td>-0.0001</td>\n      <td>0.317</td>\n    </tr>\n    <tr>\n      <th>gbc</th>\n      <td>Gradient Boosting Classifier</td>\n      <td>0.9959</td>\n      <td>0.9769</td>\n      <td>0.0098</td>\n      <td>0.0833</td>\n      <td>0.0174</td>\n      <td>0.0171</td>\n      <td>0.0278</td>\n      <td>0.899</td>\n    </tr>\n    <tr>\n      <th>knn</th>\n      <td>K Neighbors Classifier</td>\n      <td>0.9958</td>\n      <td>0.6476</td>\n      <td>0.0000</td>\n      <td>0.0000</td>\n      <td>0.0000</td>\n      <td>-0.0003</td>\n      <td>-0.0006</td>\n      <td>0.139</td>\n    </tr>\n    <tr>\n      <th>dt</th>\n      <td>Decision Tree Classifier</td>\n      <td>0.9929</td>\n      <td>0.5349</td>\n      <td>0.0731</td>\n      <td>0.0871</td>\n      <td>0.0790</td>\n      <td>0.0755</td>\n      <td>0.0760</td>\n      <td>0.027</td>\n    </tr>\n    <tr>\n      <th>rf</th>\n      <td>Random Forest Classifier</td>\n      <td>0.9929</td>\n      <td>0.6568</td>\n      <td>0.0731</td>\n      <td>0.0871</td>\n      <td>0.0790</td>\n      <td>0.0755</td>\n      <td>0.0760</td>\n      <td>0.423</td>\n    </tr>\n    <tr>\n      <th>nb</th>\n      <td>Naive Bayes</td>\n      <td>0.9403</td>\n      <td>0.9672</td>\n      <td>1.0000</td>\n      <td>0.0631</td>\n      <td>0.1188</td>\n      <td>0.1121</td>\n      <td>0.2435</td>\n      <td>0.019</td>\n    </tr>\n    <tr>\n      <th>lda</th>\n      <td>Linear Discriminant Analysis</td>\n      <td>0.9403</td>\n      <td>0.9709</td>\n      <td>1.0000</td>\n      <td>0.0631</td>\n      <td>0.1188</td>\n      <td>0.1121</td>\n      <td>0.2435</td>\n      <td>0.042</td>\n    </tr>\n    <tr>\n      <th>svm</th>\n      <td>SVM - Linear Kernel</td>\n      <td>0.8896</td>\n      <td>0.0000</td>\n      <td>0.2667</td>\n      <td>0.0094</td>\n      <td>0.0172</td>\n      <td>0.0149</td>\n      <td>0.0344</td>\n      <td>0.065</td>\n    </tr>\n    <tr>\n      <th>qda</th>\n      <td>Quadratic Discriminant Analysis</td>\n      <td>0.0040</td>\n      <td>0.0000</td>\n      <td>1.0000</td>\n      <td>0.0040</td>\n      <td>0.0080</td>\n      <td>0.0000</td>\n      <td>0.0000</td>\n      <td>0.027</td>\n    </tr>\n  </tbody>\n</table>\n</div>"
     },
     "metadata": {}
    },
    {
     "output_type": "display_data",
     "data": {
      "text/plain": "                                 Model  Accuracy     AUC  Recall   Prec.  \\\nlr                 Logistic Regression    0.9960  0.9719  0.0000  0.0000   \nridge                 Ridge Classifier    0.9960  0.0000  0.0000  0.0000   \nada               Ada Boost Classifier    0.9960  0.9779  0.0000  0.0000   \ngbc       Gradient Boosting Classifier    0.9959  0.9769  0.0098  0.0833   \nknn             K Neighbors Classifier    0.9958  0.6476  0.0000  0.0000   \net              Extra Trees Classifier    0.9930  0.5673  0.0729  0.0856   \ndt            Decision Tree Classifier    0.9929  0.5349  0.0731  0.0871   \nrf            Random Forest Classifier    0.9929  0.6568  0.0731  0.0871   \nnb                         Naive Bayes    0.9403  0.9672  1.0000  0.0631   \nlda       Linear Discriminant Analysis    0.9403  0.9709  1.0000  0.0631   \nsvm                SVM - Linear Kernel    0.8896  0.0000  0.2667  0.0094   \nqda    Quadratic Discriminant Analysis    0.0040  0.0000  1.0000  0.0040   \n\n           F1   Kappa     MCC  TT (Sec)  \nlr     0.0000  0.0000  0.0000     0.586  \nridge  0.0000  0.0000  0.0000     0.030  \nada    0.0000 -0.0000 -0.0001     0.317  \ngbc    0.0174  0.0171  0.0278     0.899  \nknn    0.0000 -0.0003 -0.0006     0.139  \net     0.0785  0.0750  0.0754     0.313  \ndt     0.0790  0.0755  0.0760     0.027  \nrf     0.0790  0.0755  0.0760     0.423  \nnb     0.1188  0.1121  0.2435     0.019  \nlda    0.1188  0.1121  0.2435     0.042  \nsvm    0.0172  0.0149  0.0344     0.065  \nqda    0.0080  0.0000  0.0000     0.027  ",
      "text/html": "<div>\n<style scoped>\n    .dataframe tbody tr th:only-of-type {\n        vertical-align: middle;\n    }\n\n    .dataframe tbody tr th {\n        vertical-align: top;\n    }\n\n    .dataframe thead th {\n        text-align: right;\n    }\n</style>\n<table border=\"1\" class=\"dataframe\">\n  <thead>\n    <tr style=\"text-align: right;\">\n      <th></th>\n      <th>Model</th>\n      <th>Accuracy</th>\n      <th>AUC</th>\n      <th>Recall</th>\n      <th>Prec.</th>\n      <th>F1</th>\n      <th>Kappa</th>\n      <th>MCC</th>\n      <th>TT (Sec)</th>\n    </tr>\n  </thead>\n  <tbody>\n    <tr>\n      <th>lr</th>\n      <td>Logistic Regression</td>\n      <td>0.9960</td>\n      <td>0.9719</td>\n      <td>0.0000</td>\n      <td>0.0000</td>\n      <td>0.0000</td>\n      <td>0.0000</td>\n      <td>0.0000</td>\n      <td>0.586</td>\n    </tr>\n    <tr>\n      <th>ridge</th>\n      <td>Ridge Classifier</td>\n      <td>0.9960</td>\n      <td>0.0000</td>\n      <td>0.0000</td>\n      <td>0.0000</td>\n      <td>0.0000</td>\n      <td>0.0000</td>\n      <td>0.0000</td>\n      <td>0.030</td>\n    </tr>\n    <tr>\n      <th>ada</th>\n      <td>Ada Boost Classifier</td>\n      <td>0.9960</td>\n      <td>0.9779</td>\n      <td>0.0000</td>\n      <td>0.0000</td>\n      <td>0.0000</td>\n      <td>-0.0000</td>\n      <td>-0.0001</td>\n      <td>0.317</td>\n    </tr>\n    <tr>\n      <th>gbc</th>\n      <td>Gradient Boosting Classifier</td>\n      <td>0.9959</td>\n      <td>0.9769</td>\n      <td>0.0098</td>\n      <td>0.0833</td>\n      <td>0.0174</td>\n      <td>0.0171</td>\n      <td>0.0278</td>\n      <td>0.899</td>\n    </tr>\n    <tr>\n      <th>knn</th>\n      <td>K Neighbors Classifier</td>\n      <td>0.9958</td>\n      <td>0.6476</td>\n      <td>0.0000</td>\n      <td>0.0000</td>\n      <td>0.0000</td>\n      <td>-0.0003</td>\n      <td>-0.0006</td>\n      <td>0.139</td>\n    </tr>\n    <tr>\n      <th>et</th>\n      <td>Extra Trees Classifier</td>\n      <td>0.9930</td>\n      <td>0.5673</td>\n      <td>0.0729</td>\n      <td>0.0856</td>\n      <td>0.0785</td>\n      <td>0.0750</td>\n      <td>0.0754</td>\n      <td>0.313</td>\n    </tr>\n    <tr>\n      <th>dt</th>\n      <td>Decision Tree Classifier</td>\n      <td>0.9929</td>\n      <td>0.5349</td>\n      <td>0.0731</td>\n      <td>0.0871</td>\n      <td>0.0790</td>\n      <td>0.0755</td>\n      <td>0.0760</td>\n      <td>0.027</td>\n    </tr>\n    <tr>\n      <th>rf</th>\n      <td>Random Forest Classifier</td>\n      <td>0.9929</td>\n      <td>0.6568</td>\n      <td>0.0731</td>\n      <td>0.0871</td>\n      <td>0.0790</td>\n      <td>0.0755</td>\n      <td>0.0760</td>\n      <td>0.423</td>\n    </tr>\n    <tr>\n      <th>nb</th>\n      <td>Naive Bayes</td>\n      <td>0.9403</td>\n      <td>0.9672</td>\n      <td>1.0000</td>\n      <td>0.0631</td>\n      <td>0.1188</td>\n      <td>0.1121</td>\n      <td>0.2435</td>\n      <td>0.019</td>\n    </tr>\n    <tr>\n      <th>lda</th>\n      <td>Linear Discriminant Analysis</td>\n      <td>0.9403</td>\n      <td>0.9709</td>\n      <td>1.0000</td>\n      <td>0.0631</td>\n      <td>0.1188</td>\n      <td>0.1121</td>\n      <td>0.2435</td>\n      <td>0.042</td>\n    </tr>\n    <tr>\n      <th>svm</th>\n      <td>SVM - Linear Kernel</td>\n      <td>0.8896</td>\n      <td>0.0000</td>\n      <td>0.2667</td>\n      <td>0.0094</td>\n      <td>0.0172</td>\n      <td>0.0149</td>\n      <td>0.0344</td>\n      <td>0.065</td>\n    </tr>\n    <tr>\n      <th>qda</th>\n      <td>Quadratic Discriminant Analysis</td>\n      <td>0.0040</td>\n      <td>0.0000</td>\n      <td>1.0000</td>\n      <td>0.0040</td>\n      <td>0.0080</td>\n      <td>0.0000</td>\n      <td>0.0000</td>\n      <td>0.027</td>\n    </tr>\n  </tbody>\n</table>\n</div>"
     },
     "metadata": {}
    },
    {
     "output_type": "display_data",
     "data": {
      "text/plain": "                                   Model  Accuracy     AUC  Recall   Prec.  \\\nlr                   Logistic Regression    0.9960  0.9719  0.0000  0.0000   \nridge                   Ridge Classifier    0.9960  0.0000  0.0000  0.0000   \nada                 Ada Boost Classifier    0.9960  0.9779  0.0000  0.0000   \ngbc         Gradient Boosting Classifier    0.9959  0.9769  0.0098  0.0833   \nknn               K Neighbors Classifier    0.9958  0.6476  0.0000  0.0000   \net                Extra Trees Classifier    0.9930  0.5673  0.0729  0.0856   \ndt              Decision Tree Classifier    0.9929  0.5349  0.0731  0.0871   \nrf              Random Forest Classifier    0.9929  0.6568  0.0731  0.0871   \nnb                           Naive Bayes    0.9403  0.9672  1.0000  0.0631   \nlda         Linear Discriminant Analysis    0.9403  0.9709  1.0000  0.0631   \nsvm                  SVM - Linear Kernel    0.8896  0.0000  0.2667  0.0094   \nqda      Quadratic Discriminant Analysis    0.0040  0.0000  1.0000  0.0040   \nxgboost        Extreme Gradient Boosting    0.0000  0.0000  0.0000  0.0000   \n\n             F1   Kappa     MCC  TT (Sec)  \nlr       0.0000  0.0000  0.0000     0.586  \nridge    0.0000  0.0000  0.0000     0.030  \nada      0.0000 -0.0000 -0.0001     0.317  \ngbc      0.0174  0.0171  0.0278     0.899  \nknn      0.0000 -0.0003 -0.0006     0.139  \net       0.0785  0.0750  0.0754     0.313  \ndt       0.0790  0.0755  0.0760     0.027  \nrf       0.0790  0.0755  0.0760     0.423  \nnb       0.1188  0.1121  0.2435     0.019  \nlda      0.1188  0.1121  0.2435     0.042  \nsvm      0.0172  0.0149  0.0344     0.065  \nqda      0.0080  0.0000  0.0000     0.027  \nxgboost  0.0000  0.0000  0.0000     0.015  ",
      "text/html": "<div>\n<style scoped>\n    .dataframe tbody tr th:only-of-type {\n        vertical-align: middle;\n    }\n\n    .dataframe tbody tr th {\n        vertical-align: top;\n    }\n\n    .dataframe thead th {\n        text-align: right;\n    }\n</style>\n<table border=\"1\" class=\"dataframe\">\n  <thead>\n    <tr style=\"text-align: right;\">\n      <th></th>\n      <th>Model</th>\n      <th>Accuracy</th>\n      <th>AUC</th>\n      <th>Recall</th>\n      <th>Prec.</th>\n      <th>F1</th>\n      <th>Kappa</th>\n      <th>MCC</th>\n      <th>TT (Sec)</th>\n    </tr>\n  </thead>\n  <tbody>\n    <tr>\n      <th>lr</th>\n      <td>Logistic Regression</td>\n      <td>0.9960</td>\n      <td>0.9719</td>\n      <td>0.0000</td>\n      <td>0.0000</td>\n      <td>0.0000</td>\n      <td>0.0000</td>\n      <td>0.0000</td>\n      <td>0.586</td>\n    </tr>\n    <tr>\n      <th>ridge</th>\n      <td>Ridge Classifier</td>\n      <td>0.9960</td>\n      <td>0.0000</td>\n      <td>0.0000</td>\n      <td>0.0000</td>\n      <td>0.0000</td>\n      <td>0.0000</td>\n      <td>0.0000</td>\n      <td>0.030</td>\n    </tr>\n    <tr>\n      <th>ada</th>\n      <td>Ada Boost Classifier</td>\n      <td>0.9960</td>\n      <td>0.9779</td>\n      <td>0.0000</td>\n      <td>0.0000</td>\n      <td>0.0000</td>\n      <td>-0.0000</td>\n      <td>-0.0001</td>\n      <td>0.317</td>\n    </tr>\n    <tr>\n      <th>gbc</th>\n      <td>Gradient Boosting Classifier</td>\n      <td>0.9959</td>\n      <td>0.9769</td>\n      <td>0.0098</td>\n      <td>0.0833</td>\n      <td>0.0174</td>\n      <td>0.0171</td>\n      <td>0.0278</td>\n      <td>0.899</td>\n    </tr>\n    <tr>\n      <th>knn</th>\n      <td>K Neighbors Classifier</td>\n      <td>0.9958</td>\n      <td>0.6476</td>\n      <td>0.0000</td>\n      <td>0.0000</td>\n      <td>0.0000</td>\n      <td>-0.0003</td>\n      <td>-0.0006</td>\n      <td>0.139</td>\n    </tr>\n    <tr>\n      <th>et</th>\n      <td>Extra Trees Classifier</td>\n      <td>0.9930</td>\n      <td>0.5673</td>\n      <td>0.0729</td>\n      <td>0.0856</td>\n      <td>0.0785</td>\n      <td>0.0750</td>\n      <td>0.0754</td>\n      <td>0.313</td>\n    </tr>\n    <tr>\n      <th>dt</th>\n      <td>Decision Tree Classifier</td>\n      <td>0.9929</td>\n      <td>0.5349</td>\n      <td>0.0731</td>\n      <td>0.0871</td>\n      <td>0.0790</td>\n      <td>0.0755</td>\n      <td>0.0760</td>\n      <td>0.027</td>\n    </tr>\n    <tr>\n      <th>rf</th>\n      <td>Random Forest Classifier</td>\n      <td>0.9929</td>\n      <td>0.6568</td>\n      <td>0.0731</td>\n      <td>0.0871</td>\n      <td>0.0790</td>\n      <td>0.0755</td>\n      <td>0.0760</td>\n      <td>0.423</td>\n    </tr>\n    <tr>\n      <th>nb</th>\n      <td>Naive Bayes</td>\n      <td>0.9403</td>\n      <td>0.9672</td>\n      <td>1.0000</td>\n      <td>0.0631</td>\n      <td>0.1188</td>\n      <td>0.1121</td>\n      <td>0.2435</td>\n      <td>0.019</td>\n    </tr>\n    <tr>\n      <th>lda</th>\n      <td>Linear Discriminant Analysis</td>\n      <td>0.9403</td>\n      <td>0.9709</td>\n      <td>1.0000</td>\n      <td>0.0631</td>\n      <td>0.1188</td>\n      <td>0.1121</td>\n      <td>0.2435</td>\n      <td>0.042</td>\n    </tr>\n    <tr>\n      <th>svm</th>\n      <td>SVM - Linear Kernel</td>\n      <td>0.8896</td>\n      <td>0.0000</td>\n      <td>0.2667</td>\n      <td>0.0094</td>\n      <td>0.0172</td>\n      <td>0.0149</td>\n      <td>0.0344</td>\n      <td>0.065</td>\n    </tr>\n    <tr>\n      <th>qda</th>\n      <td>Quadratic Discriminant Analysis</td>\n      <td>0.0040</td>\n      <td>0.0000</td>\n      <td>1.0000</td>\n      <td>0.0040</td>\n      <td>0.0080</td>\n      <td>0.0000</td>\n      <td>0.0000</td>\n      <td>0.027</td>\n    </tr>\n    <tr>\n      <th>xgboost</th>\n      <td>Extreme Gradient Boosting</td>\n      <td>0.0000</td>\n      <td>0.0000</td>\n      <td>0.0000</td>\n      <td>0.0000</td>\n      <td>0.0000</td>\n      <td>0.0000</td>\n      <td>0.0000</td>\n      <td>0.015</td>\n    </tr>\n  </tbody>\n</table>\n</div>"
     },
     "metadata": {}
    },
    {
     "output_type": "display_data",
     "data": {
      "text/plain": "                                    Model  Accuracy     AUC  Recall   Prec.  \\\nlr                    Logistic Regression    0.9960  0.9719  0.0000  0.0000   \nridge                    Ridge Classifier    0.9960  0.0000  0.0000  0.0000   \nada                  Ada Boost Classifier    0.9960  0.9779  0.0000  0.0000   \nlightgbm  Light Gradient Boosting Machine    0.9960  0.9761  0.0000  0.0000   \ngbc          Gradient Boosting Classifier    0.9959  0.9769  0.0098  0.0833   \nknn                K Neighbors Classifier    0.9958  0.6476  0.0000  0.0000   \net                 Extra Trees Classifier    0.9930  0.5673  0.0729  0.0856   \ndt               Decision Tree Classifier    0.9929  0.5349  0.0731  0.0871   \nrf               Random Forest Classifier    0.9929  0.6568  0.0731  0.0871   \nnb                            Naive Bayes    0.9403  0.9672  1.0000  0.0631   \nlda          Linear Discriminant Analysis    0.9403  0.9709  1.0000  0.0631   \nsvm                   SVM - Linear Kernel    0.8896  0.0000  0.2667  0.0094   \nqda       Quadratic Discriminant Analysis    0.0040  0.0000  1.0000  0.0040   \nxgboost         Extreme Gradient Boosting    0.0000  0.0000  0.0000  0.0000   \n\n              F1   Kappa     MCC  TT (Sec)  \nlr        0.0000  0.0000  0.0000     0.586  \nridge     0.0000  0.0000  0.0000     0.030  \nada       0.0000 -0.0000 -0.0001     0.317  \nlightgbm  0.0000  0.0000  0.0000     0.133  \ngbc       0.0174  0.0171  0.0278     0.899  \nknn       0.0000 -0.0003 -0.0006     0.139  \net        0.0785  0.0750  0.0754     0.313  \ndt        0.0790  0.0755  0.0760     0.027  \nrf        0.0790  0.0755  0.0760     0.423  \nnb        0.1188  0.1121  0.2435     0.019  \nlda       0.1188  0.1121  0.2435     0.042  \nsvm       0.0172  0.0149  0.0344     0.065  \nqda       0.0080  0.0000  0.0000     0.027  \nxgboost   0.0000  0.0000  0.0000     0.015  ",
      "text/html": "<div>\n<style scoped>\n    .dataframe tbody tr th:only-of-type {\n        vertical-align: middle;\n    }\n\n    .dataframe tbody tr th {\n        vertical-align: top;\n    }\n\n    .dataframe thead th {\n        text-align: right;\n    }\n</style>\n<table border=\"1\" class=\"dataframe\">\n  <thead>\n    <tr style=\"text-align: right;\">\n      <th></th>\n      <th>Model</th>\n      <th>Accuracy</th>\n      <th>AUC</th>\n      <th>Recall</th>\n      <th>Prec.</th>\n      <th>F1</th>\n      <th>Kappa</th>\n      <th>MCC</th>\n      <th>TT (Sec)</th>\n    </tr>\n  </thead>\n  <tbody>\n    <tr>\n      <th>lr</th>\n      <td>Logistic Regression</td>\n      <td>0.9960</td>\n      <td>0.9719</td>\n      <td>0.0000</td>\n      <td>0.0000</td>\n      <td>0.0000</td>\n      <td>0.0000</td>\n      <td>0.0000</td>\n      <td>0.586</td>\n    </tr>\n    <tr>\n      <th>ridge</th>\n      <td>Ridge Classifier</td>\n      <td>0.9960</td>\n      <td>0.0000</td>\n      <td>0.0000</td>\n      <td>0.0000</td>\n      <td>0.0000</td>\n      <td>0.0000</td>\n      <td>0.0000</td>\n      <td>0.030</td>\n    </tr>\n    <tr>\n      <th>ada</th>\n      <td>Ada Boost Classifier</td>\n      <td>0.9960</td>\n      <td>0.9779</td>\n      <td>0.0000</td>\n      <td>0.0000</td>\n      <td>0.0000</td>\n      <td>-0.0000</td>\n      <td>-0.0001</td>\n      <td>0.317</td>\n    </tr>\n    <tr>\n      <th>lightgbm</th>\n      <td>Light Gradient Boosting Machine</td>\n      <td>0.9960</td>\n      <td>0.9761</td>\n      <td>0.0000</td>\n      <td>0.0000</td>\n      <td>0.0000</td>\n      <td>0.0000</td>\n      <td>0.0000</td>\n      <td>0.133</td>\n    </tr>\n    <tr>\n      <th>gbc</th>\n      <td>Gradient Boosting Classifier</td>\n      <td>0.9959</td>\n      <td>0.9769</td>\n      <td>0.0098</td>\n      <td>0.0833</td>\n      <td>0.0174</td>\n      <td>0.0171</td>\n      <td>0.0278</td>\n      <td>0.899</td>\n    </tr>\n    <tr>\n      <th>knn</th>\n      <td>K Neighbors Classifier</td>\n      <td>0.9958</td>\n      <td>0.6476</td>\n      <td>0.0000</td>\n      <td>0.0000</td>\n      <td>0.0000</td>\n      <td>-0.0003</td>\n      <td>-0.0006</td>\n      <td>0.139</td>\n    </tr>\n    <tr>\n      <th>et</th>\n      <td>Extra Trees Classifier</td>\n      <td>0.9930</td>\n      <td>0.5673</td>\n      <td>0.0729</td>\n      <td>0.0856</td>\n      <td>0.0785</td>\n      <td>0.0750</td>\n      <td>0.0754</td>\n      <td>0.313</td>\n    </tr>\n    <tr>\n      <th>dt</th>\n      <td>Decision Tree Classifier</td>\n      <td>0.9929</td>\n      <td>0.5349</td>\n      <td>0.0731</td>\n      <td>0.0871</td>\n      <td>0.0790</td>\n      <td>0.0755</td>\n      <td>0.0760</td>\n      <td>0.027</td>\n    </tr>\n    <tr>\n      <th>rf</th>\n      <td>Random Forest Classifier</td>\n      <td>0.9929</td>\n      <td>0.6568</td>\n      <td>0.0731</td>\n      <td>0.0871</td>\n      <td>0.0790</td>\n      <td>0.0755</td>\n      <td>0.0760</td>\n      <td>0.423</td>\n    </tr>\n    <tr>\n      <th>nb</th>\n      <td>Naive Bayes</td>\n      <td>0.9403</td>\n      <td>0.9672</td>\n      <td>1.0000</td>\n      <td>0.0631</td>\n      <td>0.1188</td>\n      <td>0.1121</td>\n      <td>0.2435</td>\n      <td>0.019</td>\n    </tr>\n    <tr>\n      <th>lda</th>\n      <td>Linear Discriminant Analysis</td>\n      <td>0.9403</td>\n      <td>0.9709</td>\n      <td>1.0000</td>\n      <td>0.0631</td>\n      <td>0.1188</td>\n      <td>0.1121</td>\n      <td>0.2435</td>\n      <td>0.042</td>\n    </tr>\n    <tr>\n      <th>svm</th>\n      <td>SVM - Linear Kernel</td>\n      <td>0.8896</td>\n      <td>0.0000</td>\n      <td>0.2667</td>\n      <td>0.0094</td>\n      <td>0.0172</td>\n      <td>0.0149</td>\n      <td>0.0344</td>\n      <td>0.065</td>\n    </tr>\n    <tr>\n      <th>qda</th>\n      <td>Quadratic Discriminant Analysis</td>\n      <td>0.0040</td>\n      <td>0.0000</td>\n      <td>1.0000</td>\n      <td>0.0040</td>\n      <td>0.0080</td>\n      <td>0.0000</td>\n      <td>0.0000</td>\n      <td>0.027</td>\n    </tr>\n    <tr>\n      <th>xgboost</th>\n      <td>Extreme Gradient Boosting</td>\n      <td>0.0000</td>\n      <td>0.0000</td>\n      <td>0.0000</td>\n      <td>0.0000</td>\n      <td>0.0000</td>\n      <td>0.0000</td>\n      <td>0.0000</td>\n      <td>0.015</td>\n    </tr>\n  </tbody>\n</table>\n</div>"
     },
     "metadata": {}
    },
    {
     "output_type": "display_data",
     "data": {
      "text/plain": "                                    Model  Accuracy     AUC  Recall   Prec.  \\\nlr                    Logistic Regression    0.9960  0.9719  0.0000  0.0000   \nridge                    Ridge Classifier    0.9960  0.0000  0.0000  0.0000   \nada                  Ada Boost Classifier    0.9960  0.9779  0.0000  0.0000   \nlightgbm  Light Gradient Boosting Machine    0.9960  0.9761  0.0000  0.0000   \ncatboost              CatBoost Classifier    0.9960  0.9761  0.0000  0.0000   \ngbc          Gradient Boosting Classifier    0.9959  0.9769  0.0098  0.0833   \nknn                K Neighbors Classifier    0.9958  0.6476  0.0000  0.0000   \net                 Extra Trees Classifier    0.9930  0.5673  0.0729  0.0856   \ndt               Decision Tree Classifier    0.9929  0.5349  0.0731  0.0871   \nrf               Random Forest Classifier    0.9929  0.6568  0.0731  0.0871   \nnb                            Naive Bayes    0.9403  0.9672  1.0000  0.0631   \nlda          Linear Discriminant Analysis    0.9403  0.9709  1.0000  0.0631   \nsvm                   SVM - Linear Kernel    0.8896  0.0000  0.2667  0.0094   \nqda       Quadratic Discriminant Analysis    0.0040  0.0000  1.0000  0.0040   \nxgboost         Extreme Gradient Boosting    0.0000  0.0000  0.0000  0.0000   \n\n              F1   Kappa     MCC  TT (Sec)  \nlr        0.0000  0.0000  0.0000     0.586  \nridge     0.0000  0.0000  0.0000     0.030  \nada       0.0000 -0.0000 -0.0001     0.317  \nlightgbm  0.0000  0.0000  0.0000     0.133  \ncatboost  0.0000  0.0000  0.0000    17.111  \ngbc       0.0174  0.0171  0.0278     0.899  \nknn       0.0000 -0.0003 -0.0006     0.139  \net        0.0785  0.0750  0.0754     0.313  \ndt        0.0790  0.0755  0.0760     0.027  \nrf        0.0790  0.0755  0.0760     0.423  \nnb        0.1188  0.1121  0.2435     0.019  \nlda       0.1188  0.1121  0.2435     0.042  \nsvm       0.0172  0.0149  0.0344     0.065  \nqda       0.0080  0.0000  0.0000     0.027  \nxgboost   0.0000  0.0000  0.0000     0.015  ",
      "text/html": "<div>\n<style scoped>\n    .dataframe tbody tr th:only-of-type {\n        vertical-align: middle;\n    }\n\n    .dataframe tbody tr th {\n        vertical-align: top;\n    }\n\n    .dataframe thead th {\n        text-align: right;\n    }\n</style>\n<table border=\"1\" class=\"dataframe\">\n  <thead>\n    <tr style=\"text-align: right;\">\n      <th></th>\n      <th>Model</th>\n      <th>Accuracy</th>\n      <th>AUC</th>\n      <th>Recall</th>\n      <th>Prec.</th>\n      <th>F1</th>\n      <th>Kappa</th>\n      <th>MCC</th>\n      <th>TT (Sec)</th>\n    </tr>\n  </thead>\n  <tbody>\n    <tr>\n      <th>lr</th>\n      <td>Logistic Regression</td>\n      <td>0.9960</td>\n      <td>0.9719</td>\n      <td>0.0000</td>\n      <td>0.0000</td>\n      <td>0.0000</td>\n      <td>0.0000</td>\n      <td>0.0000</td>\n      <td>0.586</td>\n    </tr>\n    <tr>\n      <th>ridge</th>\n      <td>Ridge Classifier</td>\n      <td>0.9960</td>\n      <td>0.0000</td>\n      <td>0.0000</td>\n      <td>0.0000</td>\n      <td>0.0000</td>\n      <td>0.0000</td>\n      <td>0.0000</td>\n      <td>0.030</td>\n    </tr>\n    <tr>\n      <th>ada</th>\n      <td>Ada Boost Classifier</td>\n      <td>0.9960</td>\n      <td>0.9779</td>\n      <td>0.0000</td>\n      <td>0.0000</td>\n      <td>0.0000</td>\n      <td>-0.0000</td>\n      <td>-0.0001</td>\n      <td>0.317</td>\n    </tr>\n    <tr>\n      <th>lightgbm</th>\n      <td>Light Gradient Boosting Machine</td>\n      <td>0.9960</td>\n      <td>0.9761</td>\n      <td>0.0000</td>\n      <td>0.0000</td>\n      <td>0.0000</td>\n      <td>0.0000</td>\n      <td>0.0000</td>\n      <td>0.133</td>\n    </tr>\n    <tr>\n      <th>catboost</th>\n      <td>CatBoost Classifier</td>\n      <td>0.9960</td>\n      <td>0.9761</td>\n      <td>0.0000</td>\n      <td>0.0000</td>\n      <td>0.0000</td>\n      <td>0.0000</td>\n      <td>0.0000</td>\n      <td>17.111</td>\n    </tr>\n    <tr>\n      <th>gbc</th>\n      <td>Gradient Boosting Classifier</td>\n      <td>0.9959</td>\n      <td>0.9769</td>\n      <td>0.0098</td>\n      <td>0.0833</td>\n      <td>0.0174</td>\n      <td>0.0171</td>\n      <td>0.0278</td>\n      <td>0.899</td>\n    </tr>\n    <tr>\n      <th>knn</th>\n      <td>K Neighbors Classifier</td>\n      <td>0.9958</td>\n      <td>0.6476</td>\n      <td>0.0000</td>\n      <td>0.0000</td>\n      <td>0.0000</td>\n      <td>-0.0003</td>\n      <td>-0.0006</td>\n      <td>0.139</td>\n    </tr>\n    <tr>\n      <th>et</th>\n      <td>Extra Trees Classifier</td>\n      <td>0.9930</td>\n      <td>0.5673</td>\n      <td>0.0729</td>\n      <td>0.0856</td>\n      <td>0.0785</td>\n      <td>0.0750</td>\n      <td>0.0754</td>\n      <td>0.313</td>\n    </tr>\n    <tr>\n      <th>dt</th>\n      <td>Decision Tree Classifier</td>\n      <td>0.9929</td>\n      <td>0.5349</td>\n      <td>0.0731</td>\n      <td>0.0871</td>\n      <td>0.0790</td>\n      <td>0.0755</td>\n      <td>0.0760</td>\n      <td>0.027</td>\n    </tr>\n    <tr>\n      <th>rf</th>\n      <td>Random Forest Classifier</td>\n      <td>0.9929</td>\n      <td>0.6568</td>\n      <td>0.0731</td>\n      <td>0.0871</td>\n      <td>0.0790</td>\n      <td>0.0755</td>\n      <td>0.0760</td>\n      <td>0.423</td>\n    </tr>\n    <tr>\n      <th>nb</th>\n      <td>Naive Bayes</td>\n      <td>0.9403</td>\n      <td>0.9672</td>\n      <td>1.0000</td>\n      <td>0.0631</td>\n      <td>0.1188</td>\n      <td>0.1121</td>\n      <td>0.2435</td>\n      <td>0.019</td>\n    </tr>\n    <tr>\n      <th>lda</th>\n      <td>Linear Discriminant Analysis</td>\n      <td>0.9403</td>\n      <td>0.9709</td>\n      <td>1.0000</td>\n      <td>0.0631</td>\n      <td>0.1188</td>\n      <td>0.1121</td>\n      <td>0.2435</td>\n      <td>0.042</td>\n    </tr>\n    <tr>\n      <th>svm</th>\n      <td>SVM - Linear Kernel</td>\n      <td>0.8896</td>\n      <td>0.0000</td>\n      <td>0.2667</td>\n      <td>0.0094</td>\n      <td>0.0172</td>\n      <td>0.0149</td>\n      <td>0.0344</td>\n      <td>0.065</td>\n    </tr>\n    <tr>\n      <th>qda</th>\n      <td>Quadratic Discriminant Analysis</td>\n      <td>0.0040</td>\n      <td>0.0000</td>\n      <td>1.0000</td>\n      <td>0.0040</td>\n      <td>0.0080</td>\n      <td>0.0000</td>\n      <td>0.0000</td>\n      <td>0.027</td>\n    </tr>\n    <tr>\n      <th>xgboost</th>\n      <td>Extreme Gradient Boosting</td>\n      <td>0.0000</td>\n      <td>0.0000</td>\n      <td>0.0000</td>\n      <td>0.0000</td>\n      <td>0.0000</td>\n      <td>0.0000</td>\n      <td>0.0000</td>\n      <td>0.015</td>\n    </tr>\n  </tbody>\n</table>\n</div>"
     },
     "metadata": {}
    },
    {
     "output_type": "display_data",
     "data": {
      "text/plain": "                                    Model  Accuracy     AUC  Recall   Prec.  \\\nlr                    Logistic Regression    0.9960  0.9719  0.0000  0.0000   \nridge                    Ridge Classifier    0.9960  0.0000  0.0000  0.0000   \nada                  Ada Boost Classifier    0.9960  0.9779  0.0000  0.0000   \nlightgbm  Light Gradient Boosting Machine    0.9960  0.9761  0.0000  0.0000   \ncatboost              CatBoost Classifier    0.9960  0.9761  0.0000  0.0000   \ngbc          Gradient Boosting Classifier    0.9959  0.9769  0.0098  0.0833   \nknn                K Neighbors Classifier    0.9958  0.6476  0.0000  0.0000   \net                 Extra Trees Classifier    0.9930  0.5673  0.0729  0.0856   \ndt               Decision Tree Classifier    0.9929  0.5349  0.0731  0.0871   \nrf               Random Forest Classifier    0.9929  0.6568  0.0731  0.0871   \nnb                            Naive Bayes    0.9403  0.9672  1.0000  0.0631   \nlda          Linear Discriminant Analysis    0.9403  0.9709  1.0000  0.0631   \nsvm                   SVM - Linear Kernel    0.8896  0.0000  0.2667  0.0094   \nqda       Quadratic Discriminant Analysis    0.0040  0.0000  1.0000  0.0040   \nxgboost         Extreme Gradient Boosting    0.0000  0.0000  0.0000  0.0000   \n\n              F1   Kappa     MCC  TT (Sec)  \nlr        0.0000  0.0000  0.0000     0.586  \nridge     0.0000  0.0000  0.0000     0.030  \nada       0.0000 -0.0000 -0.0001     0.317  \nlightgbm  0.0000  0.0000  0.0000     0.133  \ncatboost  0.0000  0.0000  0.0000    17.111  \ngbc       0.0174  0.0171  0.0278     0.899  \nknn       0.0000 -0.0003 -0.0006     0.139  \net        0.0785  0.0750  0.0754     0.313  \ndt        0.0790  0.0755  0.0760     0.027  \nrf        0.0790  0.0755  0.0760     0.423  \nnb        0.1188  0.1121  0.2435     0.019  \nlda       0.1188  0.1121  0.2435     0.042  \nsvm       0.0172  0.0149  0.0344     0.065  \nqda       0.0080  0.0000  0.0000     0.027  \nxgboost   0.0000  0.0000  0.0000     0.015  ",
      "text/html": "<div>\n<style scoped>\n    .dataframe tbody tr th:only-of-type {\n        vertical-align: middle;\n    }\n\n    .dataframe tbody tr th {\n        vertical-align: top;\n    }\n\n    .dataframe thead th {\n        text-align: right;\n    }\n</style>\n<table border=\"1\" class=\"dataframe\">\n  <thead>\n    <tr style=\"text-align: right;\">\n      <th></th>\n      <th>Model</th>\n      <th>Accuracy</th>\n      <th>AUC</th>\n      <th>Recall</th>\n      <th>Prec.</th>\n      <th>F1</th>\n      <th>Kappa</th>\n      <th>MCC</th>\n      <th>TT (Sec)</th>\n    </tr>\n  </thead>\n  <tbody>\n    <tr>\n      <th>lr</th>\n      <td>Logistic Regression</td>\n      <td>0.9960</td>\n      <td>0.9719</td>\n      <td>0.0000</td>\n      <td>0.0000</td>\n      <td>0.0000</td>\n      <td>0.0000</td>\n      <td>0.0000</td>\n      <td>0.586</td>\n    </tr>\n    <tr>\n      <th>ridge</th>\n      <td>Ridge Classifier</td>\n      <td>0.9960</td>\n      <td>0.0000</td>\n      <td>0.0000</td>\n      <td>0.0000</td>\n      <td>0.0000</td>\n      <td>0.0000</td>\n      <td>0.0000</td>\n      <td>0.030</td>\n    </tr>\n    <tr>\n      <th>ada</th>\n      <td>Ada Boost Classifier</td>\n      <td>0.9960</td>\n      <td>0.9779</td>\n      <td>0.0000</td>\n      <td>0.0000</td>\n      <td>0.0000</td>\n      <td>-0.0000</td>\n      <td>-0.0001</td>\n      <td>0.317</td>\n    </tr>\n    <tr>\n      <th>lightgbm</th>\n      <td>Light Gradient Boosting Machine</td>\n      <td>0.9960</td>\n      <td>0.9761</td>\n      <td>0.0000</td>\n      <td>0.0000</td>\n      <td>0.0000</td>\n      <td>0.0000</td>\n      <td>0.0000</td>\n      <td>0.133</td>\n    </tr>\n    <tr>\n      <th>catboost</th>\n      <td>CatBoost Classifier</td>\n      <td>0.9960</td>\n      <td>0.9761</td>\n      <td>0.0000</td>\n      <td>0.0000</td>\n      <td>0.0000</td>\n      <td>0.0000</td>\n      <td>0.0000</td>\n      <td>17.111</td>\n    </tr>\n    <tr>\n      <th>gbc</th>\n      <td>Gradient Boosting Classifier</td>\n      <td>0.9959</td>\n      <td>0.9769</td>\n      <td>0.0098</td>\n      <td>0.0833</td>\n      <td>0.0174</td>\n      <td>0.0171</td>\n      <td>0.0278</td>\n      <td>0.899</td>\n    </tr>\n    <tr>\n      <th>knn</th>\n      <td>K Neighbors Classifier</td>\n      <td>0.9958</td>\n      <td>0.6476</td>\n      <td>0.0000</td>\n      <td>0.0000</td>\n      <td>0.0000</td>\n      <td>-0.0003</td>\n      <td>-0.0006</td>\n      <td>0.139</td>\n    </tr>\n    <tr>\n      <th>et</th>\n      <td>Extra Trees Classifier</td>\n      <td>0.9930</td>\n      <td>0.5673</td>\n      <td>0.0729</td>\n      <td>0.0856</td>\n      <td>0.0785</td>\n      <td>0.0750</td>\n      <td>0.0754</td>\n      <td>0.313</td>\n    </tr>\n    <tr>\n      <th>dt</th>\n      <td>Decision Tree Classifier</td>\n      <td>0.9929</td>\n      <td>0.5349</td>\n      <td>0.0731</td>\n      <td>0.0871</td>\n      <td>0.0790</td>\n      <td>0.0755</td>\n      <td>0.0760</td>\n      <td>0.027</td>\n    </tr>\n    <tr>\n      <th>rf</th>\n      <td>Random Forest Classifier</td>\n      <td>0.9929</td>\n      <td>0.6568</td>\n      <td>0.0731</td>\n      <td>0.0871</td>\n      <td>0.0790</td>\n      <td>0.0755</td>\n      <td>0.0760</td>\n      <td>0.423</td>\n    </tr>\n    <tr>\n      <th>nb</th>\n      <td>Naive Bayes</td>\n      <td>0.9403</td>\n      <td>0.9672</td>\n      <td>1.0000</td>\n      <td>0.0631</td>\n      <td>0.1188</td>\n      <td>0.1121</td>\n      <td>0.2435</td>\n      <td>0.019</td>\n    </tr>\n    <tr>\n      <th>lda</th>\n      <td>Linear Discriminant Analysis</td>\n      <td>0.9403</td>\n      <td>0.9709</td>\n      <td>1.0000</td>\n      <td>0.0631</td>\n      <td>0.1188</td>\n      <td>0.1121</td>\n      <td>0.2435</td>\n      <td>0.042</td>\n    </tr>\n    <tr>\n      <th>svm</th>\n      <td>SVM - Linear Kernel</td>\n      <td>0.8896</td>\n      <td>0.0000</td>\n      <td>0.2667</td>\n      <td>0.0094</td>\n      <td>0.0172</td>\n      <td>0.0149</td>\n      <td>0.0344</td>\n      <td>0.065</td>\n    </tr>\n    <tr>\n      <th>qda</th>\n      <td>Quadratic Discriminant Analysis</td>\n      <td>0.0040</td>\n      <td>0.0000</td>\n      <td>1.0000</td>\n      <td>0.0040</td>\n      <td>0.0080</td>\n      <td>0.0000</td>\n      <td>0.0000</td>\n      <td>0.027</td>\n    </tr>\n    <tr>\n      <th>xgboost</th>\n      <td>Extreme Gradient Boosting</td>\n      <td>0.0000</td>\n      <td>0.0000</td>\n      <td>0.0000</td>\n      <td>0.0000</td>\n      <td>0.0000</td>\n      <td>0.0000</td>\n      <td>0.0000</td>\n      <td>0.015</td>\n    </tr>\n  </tbody>\n</table>\n</div>"
     },
     "metadata": {}
    },
    {
     "output_type": "stream",
     "name": "stdout",
     "text": [
      "LogisticRegression(C=1.0, class_weight=None, dual=False, fit_intercept=True,\n                   intercept_scaling=1, l1_ratio=None, max_iter=1000,\n                   multi_class='auto', n_jobs=None, penalty='l2',\n                   random_state=1650, solver='lbfgs', tol=0.0001, verbose=0,\n                   warm_start=False)\nCPU times: user 7.87 s, sys: 1.03 s, total: 8.89 s\nWall time: 3min 31s\n"
     ]
    }
   ],
   "source": [
    "%%time\n",
    "# check pycaret version\n",
    "import pycaret\n",
    "from pycaret.classification import setup\n",
    "from pycaret.classification import compare_models\n",
    "\n",
    "print('PyCaret: %s' % pycaret.__version__)\n",
    "\n",
    "# setup the dataset\n",
    "grid = setup(data=df_2.sort_index(axis=1), target='Signal', html=False, silent=False, verbose=True)\n",
    "\n",
    "# evaluate models and compare models\n",
    "best = compare_models()\n",
    "\n",
    "# report the best model\n",
    "print(best)"
   ]
  },
  {
   "cell_type": "code",
   "execution_count": 22,
   "metadata": {},
   "outputs": [
    {
     "output_type": "stream",
     "name": "stdout",
     "text": [
      "\u001b[34m Regression Logistique pour \u001b[33m EUR/USD \u001b[0m\nSignaux achat Counter({0: 4417, 1: 282})\n\u001b[34m Pour \u001b[33m EUR/USD \u001b[0m\n\u001b[31m\nAchat - Accuracy : 94.01 %\nAchat - Precision : 0.0 %\nAchat - Recall : 0.0 %\nAchat - F-measure: : 0.0 % \u001b[0m\n\n\n              precision    recall  f1-score   support\n\n           0       0.94      1.00      0.97      3093\n           1       0.00      0.00      0.00       197\n\n    accuracy                           0.94      3290\n   macro avg       0.47      0.50      0.48      3290\nweighted avg       0.88      0.94      0.91      3290\n\n              Vrais_estimés    Faux_estimés\nvrais_réels  Vrais_positifs    Faux_négatif\nFaux_réels    Faux_positifs  Vrais-négatifs\n[[3093    0]\n [ 197    0]]\n\n\n\u001b[34m Joblib Model  JOBLIB/reglog/SaveEURUSDm5.sav  dumped to disk \u001b[0m\nBest Threshold=0.000000, F-Score=0.113\nCPU times: user 171 ms, sys: 32.2 ms, total: 203 ms\nWall time: 63 ms\n"
     ]
    },
    {
     "output_type": "execute_result",
     "data": {
      "text/plain": [
       "()"
      ]
     },
     "metadata": {},
     "execution_count": 22
    }
   ],
   "source": [
    "%%time\n",
    "from reglog import modelize\n",
    "_model = 'reglog'\n",
    "modelize(df_2[df_2.Sig4bt != 0],x,_model,0)"
   ]
  },
  {
   "cell_type": "code",
   "execution_count": 23,
   "metadata": {},
   "outputs": [
    {
     "output_type": "stream",
     "name": "stdout",
     "text": [
      "Modèle retenu,  reglog\nCPU times: user 58.2 ms, sys: 18.8 ms, total: 77 ms\nWall time: 56.2 ms\n"
     ]
    }
   ],
   "source": [
    "%%time\n",
    "print('Modèle retenu, ',_model)\n",
    "_year_bottom = pd.to_datetime('2020-01-01 16:00:00')\n",
    "_year_top = pd.to_datetime('2020-11-23 16:00:00') #2020-11-23 16:00:00\n",
    "\n",
    "df_oos = base[(base.index>=_year_bottom)&(base.index<=_year_top)]\n",
    "\n",
    "df_oos['RSI2'] = talib.RSI(df_oos.Close,timeperiod=2)\n",
    "df_oos['MMA200'] = talib.EMA(df_oos.Close,timeperiod=80)\n",
    "upper, middle, lower = talib.BBANDS(df_oos.Close, timeperiod=10, nbdevup=2, nbdevdn=2)\n",
    "\n",
    "df_oos['Signal'] = np.where(\\\n",
    "    ((df_oos.RSI2 < 10)&(df_oos.Close>df_oos.MMA200)),1,\\\n",
    "        np.where(\\\n",
    "            ((df_oos.RSI2 > 90)&(df_oos.Close<df_oos.MMA200)),-1,0)\n",
    ")\n",
    "\n",
    "#df_oos.loc[:, df_oos.columns != 'Signal'] = scaler.fit_transform(df_oos.loc[:, df_oos.columns != 'Signal'].values) \n",
    "df_oos.rename(columns = {'Signal':'Sig4bt'}, inplace = True)\n",
    "\n",
    "\n",
    "loaded_model = joblib.load('JOBLIB/'+_model+'/SaveEURUSDm5.sav')\n",
    "df_oos = df_oos.dropna()\n",
    "df_oos = df_oos.sort_index(axis=1)\n",
    "\n",
    "df_oos['Signal_hat'] = loaded_model.predict(scaler.fit_transform(df_oos[['Open','High','Low','Close','RSI2','MMA200','Sig4bt']].values))\n",
    "\n",
    "df_oos['Signal'] = np.where(\n",
    "                            ((df_oos.Sig4bt == 1)&(df_oos.Signal_hat==0)),1,\\\n",
    "                                np.where(((df_oos.Sig4bt == -1)&(df_oos.Signal_hat==0)),-1,0)\n",
    "\n",
    "\n",
    ")\n",
    "\n"
   ]
  },
  {
   "cell_type": "code",
   "execution_count": 24,
   "metadata": {},
   "outputs": [
    {
     "output_type": "stream",
     "name": "stdout",
     "text": [
      "Librairies imported\n",
      "\n",
      "Début des opérations horodatée à 2020-12-14 16:06:26.248958\n",
      "\n",
      "Chargement de la nouvelle base\n",
      "\n",
      "\n",
      "\u001b[35m Le rate du ticker EUR/USD est à  1 \u001b[0m\n",
      "Bases chargées\n",
      "TETEL process effectué\n",
      "\u001b[36m ENTERING THE BACKTEST \u001b[0m\n",
      "100%|██████████| 65978/65978 [00:06<00:00, 9511.45it/s]\n",
      "\u001b[34m Pour le ticker \u001b[33m EUR/USD \u001b[0m\n",
      "\u001b[35m \n",
      "Les gains faramineux s'élèvent à : $ \u001b[31m -709.5 !. En  653 \u001b[0m  transactions.\n",
      "\u001b[32m \n",
      "Nbre de winners : 325 \u001b[0m\n",
      "\u001b[31m \n",
      "Nbre de loosers : 328 \u001b[0m\n",
      "Temps d'excution du BT 0:00:13.201516\n",
      "\u001b[33m EUR/USD \u001b[34m results \u001b[0m\n",
      "\u001b[35m Tested Period 2020-01-01 16:00:00  à 2020-11-23 16:00:00 \u001b[0m\n",
      "\u001b[36m Total Number of trades 653 \u001b[0m\n",
      "Started Cash : 50000\n",
      "P&L in currency: \u001b[31m -709.5$ \u001b[0m\n",
      "P&L in %: \u001b[31m -0.35% \u001b[0m\n",
      "Average trade duration 79.31\n",
      "# Winners  325.0\n",
      "# Loosers  328.0\n",
      "Cumulated gains 41989.0\n",
      "Cumulated losses -42698.5\n",
      "\u001b[34m PROFIT FACTOR :  0.98 \u001b[0m\n",
      "\u001b[36m Winners Ratio : 49.77 % \u001b[0m\n",
      "Average Winners 129.2\n",
      "% Average Winners 0.06\n",
      "Average Loosers -130.18\n",
      "% Average Loosers -0.07\n",
      "Average pnl -1.09\n",
      "% Average pnl -0.0\n",
      "Number of opened trades 653\n",
      "Number of closed trades 653\n",
      "Max Exposure 1 x  50000 =  50000 $\n"
     ]
    },
    {
     "output_type": "execute_result",
     "data": {
      "text/plain": [
       "[Timestamp('2020-01-02 15:55:00'),\n",
       " Timestamp('2020-01-02 19:20:00'),\n",
       " Timestamp('2020-01-03 19:20:00'),\n",
       " Timestamp('2020-01-07 10:30:00'),\n",
       " Timestamp('2020-01-08 11:30:00'),\n",
       " Timestamp('2020-01-08 15:35:00'),\n",
       " Timestamp('2020-01-10 19:40:00'),\n",
       " Timestamp('2020-01-17 14:05:00'),\n",
       " Timestamp('2020-01-23 19:05:00'),\n",
       " Timestamp('2020-01-27 11:50:00'),\n",
       " Timestamp('2020-01-30 18:40:00'),\n",
       " Timestamp('2020-01-31 15:35:00'),\n",
       " Timestamp('2020-02-03 17:55:00'),\n",
       " Timestamp('2020-02-05 13:35:00'),\n",
       " Timestamp('2020-02-05 18:55:00'),\n",
       " Timestamp('2020-02-06 21:25:00'),\n",
       " Timestamp('2020-02-07 13:20:00'),\n",
       " Timestamp('2020-02-10 17:10:00'),\n",
       " Timestamp('2020-02-11 02:40:00'),\n",
       " Timestamp('2020-02-12 22:15:00'),\n",
       " Timestamp('2020-02-13 20:40:00'),\n",
       " Timestamp('2020-02-21 11:55:00'),\n",
       " Timestamp('2020-02-24 01:00:00'),\n",
       " Timestamp('2020-02-25 18:50:00'),\n",
       " Timestamp('2020-02-26 22:10:00'),\n",
       " Timestamp('2020-02-27 08:15:00'),\n",
       " Timestamp('2020-02-27 13:00:00'),\n",
       " Timestamp('2020-02-27 16:10:00'),\n",
       " Timestamp('2020-02-27 19:00:00'),\n",
       " Timestamp('2020-02-28 01:05:00'),\n",
       " Timestamp('2020-02-28 15:50:00'),\n",
       " Timestamp('2020-02-28 23:00:00'),\n",
       " Timestamp('2020-03-02 05:45:00'),\n",
       " Timestamp('2020-03-02 11:00:00'),\n",
       " Timestamp('2020-03-02 14:25:00'),\n",
       " Timestamp('2020-03-02 17:45:00'),\n",
       " Timestamp('2020-03-03 03:40:00'),\n",
       " Timestamp('2020-03-03 11:45:00'),\n",
       " Timestamp('2020-03-03 18:20:00'),\n",
       " Timestamp('2020-03-03 19:35:00'),\n",
       " Timestamp('2020-03-04 13:15:00'),\n",
       " Timestamp('2020-03-04 15:20:00'),\n",
       " Timestamp('2020-03-04 22:25:00'),\n",
       " Timestamp('2020-03-05 15:40:00'),\n",
       " Timestamp('2020-03-05 20:40:00'),\n",
       " Timestamp('2020-03-06 00:25:00'),\n",
       " Timestamp('2020-03-06 14:10:00'),\n",
       " Timestamp('2020-03-09 01:15:00'),\n",
       " Timestamp('2020-03-10 02:05:00'),\n",
       " Timestamp('2020-03-10 03:40:00'),\n",
       " Timestamp('2020-03-10 09:50:00'),\n",
       " Timestamp('2020-03-10 19:50:00'),\n",
       " Timestamp('2020-03-11 04:25:00'),\n",
       " Timestamp('2020-03-12 13:55:00'),\n",
       " Timestamp('2020-03-12 21:55:00'),\n",
       " Timestamp('2020-03-13 13:20:00'),\n",
       " Timestamp('2020-03-13 15:50:00'),\n",
       " Timestamp('2020-03-13 19:00:00'),\n",
       " Timestamp('2020-03-13 20:05:00'),\n",
       " Timestamp('2020-03-16 02:05:00'),\n",
       " Timestamp('2020-03-17 15:30:00'),\n",
       " Timestamp('2020-03-18 18:25:00'),\n",
       " Timestamp('2020-03-19 17:25:00'),\n",
       " Timestamp('2020-03-19 19:20:00'),\n",
       " Timestamp('2020-03-19 21:10:00'),\n",
       " Timestamp('2020-03-20 04:55:00'),\n",
       " Timestamp('2020-03-20 07:15:00'),\n",
       " Timestamp('2020-03-20 09:00:00'),\n",
       " Timestamp('2020-03-20 13:40:00'),\n",
       " Timestamp('2020-03-20 19:10:00'),\n",
       " Timestamp('2020-03-23 04:20:00'),\n",
       " Timestamp('2020-03-23 10:20:00'),\n",
       " Timestamp('2020-03-23 12:55:00'),\n",
       " Timestamp('2020-03-24 03:40:00'),\n",
       " Timestamp('2020-03-24 10:45:00'),\n",
       " Timestamp('2020-03-24 12:30:00'),\n",
       " Timestamp('2020-03-24 15:05:00'),\n",
       " Timestamp('2020-03-24 17:55:00'),\n",
       " Timestamp('2020-03-25 05:50:00'),\n",
       " Timestamp('2020-03-25 22:55:00'),\n",
       " Timestamp('2020-03-26 03:25:00'),\n",
       " Timestamp('2020-03-26 11:25:00'),\n",
       " Timestamp('2020-03-26 15:35:00'),\n",
       " Timestamp('2020-03-26 19:55:00'),\n",
       " Timestamp('2020-03-26 22:30:00'),\n",
       " Timestamp('2020-03-27 10:00:00'),\n",
       " Timestamp('2020-03-27 11:45:00'),\n",
       " Timestamp('2020-03-30 07:40:00'),\n",
       " Timestamp('2020-03-30 12:35:00'),\n",
       " Timestamp('2020-03-30 15:20:00'),\n",
       " Timestamp('2020-03-31 03:50:00'),\n",
       " Timestamp('2020-03-31 10:20:00'),\n",
       " Timestamp('2020-03-31 14:45:00'),\n",
       " Timestamp('2020-04-01 10:40:00'),\n",
       " Timestamp('2020-04-01 16:05:00'),\n",
       " Timestamp('2020-04-02 10:50:00'),\n",
       " Timestamp('2020-04-02 15:30:00'),\n",
       " Timestamp('2020-04-02 17:20:00'),\n",
       " Timestamp('2020-04-03 11:55:00'),\n",
       " Timestamp('2020-04-03 21:55:00'),\n",
       " Timestamp('2020-04-07 07:10:00'),\n",
       " Timestamp('2020-04-07 11:35:00'),\n",
       " Timestamp('2020-04-07 13:20:00'),\n",
       " Timestamp('2020-04-08 06:15:00'),\n",
       " Timestamp('2020-04-09 10:15:00'),\n",
       " Timestamp('2020-04-09 16:00:00'),\n",
       " Timestamp('2020-04-09 20:05:00'),\n",
       " Timestamp('2020-04-13 13:25:00'),\n",
       " Timestamp('2020-04-14 12:45:00'),\n",
       " Timestamp('2020-04-14 15:05:00'),\n",
       " Timestamp('2020-04-15 17:55:00'),\n",
       " Timestamp('2020-04-16 01:25:00'),\n",
       " Timestamp('2020-04-16 10:20:00'),\n",
       " Timestamp('2020-04-20 22:15:00'),\n",
       " Timestamp('2020-04-21 16:40:00'),\n",
       " Timestamp('2020-04-22 20:00:00'),\n",
       " Timestamp('2020-04-23 10:00:00'),\n",
       " Timestamp('2020-04-23 21:10:00'),\n",
       " Timestamp('2020-04-24 04:40:00'),\n",
       " Timestamp('2020-04-24 15:20:00'),\n",
       " Timestamp('2020-04-24 17:20:00'),\n",
       " Timestamp('2020-04-27 00:35:00'),\n",
       " Timestamp('2020-04-28 11:05:00'),\n",
       " Timestamp('2020-04-28 16:30:00'),\n",
       " Timestamp('2020-04-30 18:00:00'),\n",
       " Timestamp('2020-04-30 22:05:00'),\n",
       " Timestamp('2020-05-01 13:30:00'),\n",
       " Timestamp('2020-05-01 22:40:00'),\n",
       " Timestamp('2020-05-04 08:30:00'),\n",
       " Timestamp('2020-05-04 16:55:00'),\n",
       " Timestamp('2020-05-05 09:50:00'),\n",
       " Timestamp('2020-05-05 19:55:00'),\n",
       " Timestamp('2020-05-06 17:55:00'),\n",
       " Timestamp('2020-05-07 11:50:00'),\n",
       " Timestamp('2020-05-07 21:40:00'),\n",
       " Timestamp('2020-05-08 21:40:00'),\n",
       " Timestamp('2020-05-11 11:30:00'),\n",
       " Timestamp('2020-05-12 07:55:00'),\n",
       " Timestamp('2020-05-13 03:40:00'),\n",
       " Timestamp('2020-05-13 20:10:00'),\n",
       " Timestamp('2020-05-15 00:10:00'),\n",
       " Timestamp('2020-05-18 18:50:00'),\n",
       " Timestamp('2020-05-19 11:55:00'),\n",
       " Timestamp('2020-05-20 13:35:00'),\n",
       " Timestamp('2020-05-21 17:35:00'),\n",
       " Timestamp('2020-05-22 07:40:00'),\n",
       " Timestamp('2020-05-22 11:15:00'),\n",
       " Timestamp('2020-05-25 13:00:00'),\n",
       " Timestamp('2020-05-26 08:35:00'),\n",
       " Timestamp('2020-05-26 11:50:00'),\n",
       " Timestamp('2020-05-27 05:00:00'),\n",
       " Timestamp('2020-05-27 23:50:00'),\n",
       " Timestamp('2020-05-28 19:25:00'),\n",
       " Timestamp('2020-05-29 08:15:00'),\n",
       " Timestamp('2020-06-01 02:40:00'),\n",
       " Timestamp('2020-06-01 21:30:00'),\n",
       " Timestamp('2020-06-02 12:00:00'),\n",
       " Timestamp('2020-06-03 03:30:00'),\n",
       " Timestamp('2020-06-03 09:40:00'),\n",
       " Timestamp('2020-06-04 14:25:00'),\n",
       " Timestamp('2020-06-04 17:25:00'),\n",
       " Timestamp('2020-06-04 21:10:00'),\n",
       " Timestamp('2020-06-05 12:50:00'),\n",
       " Timestamp('2020-06-05 15:15:00'),\n",
       " Timestamp('2020-06-05 16:50:00'),\n",
       " Timestamp('2020-06-08 04:20:00'),\n",
       " Timestamp('2020-06-08 19:05:00'),\n",
       " Timestamp('2020-06-09 10:00:00'),\n",
       " Timestamp('2020-06-09 17:40:00'),\n",
       " Timestamp('2020-06-10 11:00:00'),\n",
       " Timestamp('2020-06-12 13:20:00'),\n",
       " Timestamp('2020-06-12 17:35:00'),\n",
       " Timestamp('2020-06-15 11:20:00'),\n",
       " Timestamp('2020-06-15 16:25:00'),\n",
       " Timestamp('2020-06-15 20:45:00'),\n",
       " Timestamp('2020-06-16 14:35:00'),\n",
       " Timestamp('2020-06-17 12:25:00'),\n",
       " Timestamp('2020-06-18 17:10:00'),\n",
       " Timestamp('2020-06-22 11:15:00'),\n",
       " Timestamp('2020-06-23 05:35:00'),\n",
       " Timestamp('2020-06-23 10:10:00'),\n",
       " Timestamp('2020-06-23 15:20:00'),\n",
       " Timestamp('2020-06-23 19:25:00'),\n",
       " Timestamp('2020-06-24 10:45:00'),\n",
       " Timestamp('2020-06-24 11:45:00'),\n",
       " Timestamp('2020-06-24 16:55:00'),\n",
       " Timestamp('2020-06-24 23:05:00'),\n",
       " Timestamp('2020-06-25 09:30:00'),\n",
       " Timestamp('2020-06-29 05:05:00'),\n",
       " Timestamp('2020-06-29 09:00:00'),\n",
       " Timestamp('2020-06-29 20:10:00'),\n",
       " Timestamp('2020-06-30 09:50:00'),\n",
       " Timestamp('2020-07-01 16:50:00'),\n",
       " Timestamp('2020-07-02 15:45:00'),\n",
       " Timestamp('2020-07-06 07:45:00'),\n",
       " Timestamp('2020-07-08 17:00:00'),\n",
       " Timestamp('2020-07-09 10:05:00'),\n",
       " Timestamp('2020-07-09 19:15:00'),\n",
       " Timestamp('2020-07-10 13:50:00'),\n",
       " Timestamp('2020-07-10 17:25:00'),\n",
       " Timestamp('2020-07-13 08:10:00'),\n",
       " Timestamp('2020-07-14 12:15:00'),\n",
       " Timestamp('2020-07-14 14:35:00'),\n",
       " Timestamp('2020-07-14 17:25:00'),\n",
       " Timestamp('2020-07-15 04:00:00'),\n",
       " Timestamp('2020-07-15 18:55:00'),\n",
       " Timestamp('2020-07-17 13:55:00'),\n",
       " Timestamp('2020-07-20 23:00:00'),\n",
       " Timestamp('2020-07-21 20:20:00'),\n",
       " Timestamp('2020-07-22 12:50:00'),\n",
       " Timestamp('2020-07-23 17:00:00'),\n",
       " Timestamp('2020-07-24 20:45:00'),\n",
       " Timestamp('2020-07-27 13:05:00'),\n",
       " Timestamp('2020-07-27 14:50:00'),\n",
       " Timestamp('2020-07-28 05:30:00'),\n",
       " Timestamp('2020-07-30 15:50:00'),\n",
       " Timestamp('2020-07-30 23:15:00'),\n",
       " Timestamp('2020-07-31 02:55:00'),\n",
       " Timestamp('2020-07-31 11:50:00'),\n",
       " Timestamp('2020-07-31 16:00:00'),\n",
       " Timestamp('2020-07-31 19:00:00'),\n",
       " Timestamp('2020-08-03 04:30:00'),\n",
       " Timestamp('2020-08-03 14:35:00'),\n",
       " Timestamp('2020-08-03 18:30:00'),\n",
       " Timestamp('2020-08-04 05:10:00'),\n",
       " Timestamp('2020-08-04 10:30:00'),\n",
       " Timestamp('2020-08-04 14:15:00'),\n",
       " Timestamp('2020-08-04 17:45:00'),\n",
       " Timestamp('2020-08-04 20:30:00'),\n",
       " Timestamp('2020-08-04 22:35:00'),\n",
       " Timestamp('2020-08-05 12:30:00'),\n",
       " Timestamp('2020-08-05 16:50:00'),\n",
       " Timestamp('2020-08-06 10:25:00'),\n",
       " Timestamp('2020-08-07 07:40:00'),\n",
       " Timestamp('2020-08-07 12:20:00'),\n",
       " Timestamp('2020-08-10 10:55:00'),\n",
       " Timestamp('2020-08-11 18:20:00'),\n",
       " Timestamp('2020-08-12 12:00:00'),\n",
       " Timestamp('2020-08-12 16:00:00'),\n",
       " Timestamp('2020-08-12 18:50:00'),\n",
       " Timestamp('2020-08-13 10:00:00'),\n",
       " Timestamp('2020-08-13 13:35:00'),\n",
       " Timestamp('2020-08-14 15:00:00'),\n",
       " Timestamp('2020-08-14 19:25:00'),\n",
       " Timestamp('2020-08-17 16:50:00'),\n",
       " Timestamp('2020-08-18 03:30:00'),\n",
       " Timestamp('2020-08-18 16:25:00'),\n",
       " Timestamp('2020-08-19 17:40:00'),\n",
       " Timestamp('2020-08-20 18:20:00'),\n",
       " Timestamp('2020-08-21 12:55:00'),\n",
       " Timestamp('2020-08-24 01:50:00'),\n",
       " Timestamp('2020-08-26 16:50:00'),\n",
       " Timestamp('2020-08-27 18:25:00'),\n",
       " Timestamp('2020-08-28 06:30:00'),\n",
       " Timestamp('2020-08-28 18:25:00'),\n",
       " Timestamp('2020-08-31 14:35:00'),\n",
       " Timestamp('2020-08-31 17:30:00'),\n",
       " Timestamp('2020-09-01 16:55:00'),\n",
       " Timestamp('2020-09-01 21:55:00'),\n",
       " Timestamp('2020-09-02 11:15:00'),\n",
       " Timestamp('2020-09-02 16:30:00'),\n",
       " Timestamp('2020-09-03 11:15:00'),\n",
       " Timestamp('2020-09-03 16:15:00'),\n",
       " Timestamp('2020-09-07 12:45:00'),\n",
       " Timestamp('2020-09-08 12:45:00'),\n",
       " Timestamp('2020-09-08 16:05:00'),\n",
       " Timestamp('2020-09-09 16:55:00'),\n",
       " Timestamp('2020-09-10 08:55:00'),\n",
       " Timestamp('2020-09-11 03:40:00'),\n",
       " Timestamp('2020-09-14 13:35:00'),\n",
       " Timestamp('2020-09-16 17:00:00'),\n",
       " Timestamp('2020-09-16 22:00:00'),\n",
       " Timestamp('2020-09-17 03:00:00'),\n",
       " Timestamp('2020-09-17 11:05:00'),\n",
       " Timestamp('2020-09-17 18:15:00'),\n",
       " Timestamp('2020-09-17 21:00:00'),\n",
       " Timestamp('2020-09-21 15:00:00'),\n",
       " Timestamp('2020-09-22 19:05:00'),\n",
       " Timestamp('2020-09-23 15:35:00'),\n",
       " Timestamp('2020-09-23 17:05:00'),\n",
       " Timestamp('2020-09-23 21:55:00'),\n",
       " Timestamp('2020-09-25 12:30:00'),\n",
       " Timestamp('2020-09-28 13:15:00'),\n",
       " Timestamp('2020-09-29 03:05:00'),\n",
       " Timestamp('2020-09-29 15:00:00'),\n",
       " Timestamp('2020-09-29 17:40:00'),\n",
       " Timestamp('2020-09-30 17:40:00'),\n",
       " Timestamp('2020-10-05 12:10:00'),\n",
       " Timestamp('2020-10-06 21:25:00'),\n",
       " Timestamp('2020-10-07 10:10:00'),\n",
       " Timestamp('2020-10-08 20:15:00'),\n",
       " Timestamp('2020-10-09 11:35:00'),\n",
       " Timestamp('2020-10-12 14:00:00'),\n",
       " Timestamp('2020-10-15 12:25:00'),\n",
       " Timestamp('2020-10-16 12:50:00'),\n",
       " Timestamp('2020-10-19 12:15:00'),\n",
       " Timestamp('2020-10-19 14:45:00'),\n",
       " Timestamp('2020-10-20 13:40:00'),\n",
       " Timestamp('2020-10-20 16:55:00'),\n",
       " Timestamp('2020-10-22 12:30:00'),\n",
       " Timestamp('2020-10-23 11:00:00'),\n",
       " Timestamp('2020-10-26 04:00:00'),\n",
       " Timestamp('2020-10-28 00:50:00'),\n",
       " Timestamp('2020-10-28 10:40:00'),\n",
       " Timestamp('2020-10-28 13:25:00'),\n",
       " Timestamp('2020-10-29 14:30:00'),\n",
       " Timestamp('2020-10-29 16:40:00'),\n",
       " Timestamp('2020-11-03 13:55:00'),\n",
       " Timestamp('2020-11-03 23:55:00'),\n",
       " Timestamp('2020-11-04 07:10:00'),\n",
       " Timestamp('2020-11-04 10:55:00'),\n",
       " Timestamp('2020-11-04 20:00:00'),\n",
       " Timestamp('2020-11-05 02:50:00'),\n",
       " Timestamp('2020-11-05 14:00:00'),\n",
       " Timestamp('2020-11-06 06:05:00'),\n",
       " Timestamp('2020-11-06 11:00:00'),\n",
       " Timestamp('2020-11-06 14:15:00'),\n",
       " Timestamp('2020-11-11 14:55:00'),\n",
       " Timestamp('2020-11-11 23:35:00'),\n",
       " Timestamp('2020-11-12 19:15:00'),\n",
       " Timestamp('2020-11-13 22:50:00'),\n",
       " Timestamp('2020-11-16 13:20:00'),\n",
       " Timestamp('2020-11-17 03:25:00'),\n",
       " Timestamp('2020-11-18 16:20:00'),\n",
       " Timestamp('2020-11-20 00:40:00')]"
      ]
     },
     "metadata": {},
     "execution_count": 24
    }
   ],
   "source": [
    "_nb_bougie_exit = 70000000000\n",
    "_trigger_reengage = 0\n",
    "_trigger_target = 1\n",
    "_trigger_invers = 0\n",
    "_trigger_sl = 1\n",
    "_verbose = 0\n",
    "_cash_ini = 200000\n",
    "_rate = 1\n",
    "x = 'EUR/USD'\n",
    "_target = 0.002\n",
    "_exposure = 3\n",
    "_size = 50000\n",
    "_sl = 0.002\n",
    "\n",
    "bt(df_oos,_year_bottom,_year_top,_nb_bougie_exit,_trigger_reengage,_trigger_target,_trigger_invers,_trigger_sl,_verbose,_cash_ini,\\\n",
    "        _rate,x,_target,_exposure,_size,_sl)"
   ]
  },
  {
   "cell_type": "code",
   "execution_count": 12,
   "metadata": {},
   "outputs": [],
   "source": [
    "\n"
   ]
  },
  {
   "cell_type": "code",
   "execution_count": null,
   "metadata": {},
   "outputs": [],
   "source": []
  },
  {
   "cell_type": "code",
   "execution_count": null,
   "metadata": {},
   "outputs": [],
   "source": []
  },
  {
   "cell_type": "code",
   "execution_count": 53,
   "metadata": {},
   "outputs": [],
   "source": [
    "from svm import modelize\n",
    "from sklearn.preprocessing import MinMaxScaler"
   ]
  },
  {
   "cell_type": "code",
   "execution_count": 54,
   "metadata": {},
   "outputs": [
    {
     "output_type": "stream",
     "name": "stderr",
     "text": [
      "100%|██████████| 503/503 [00:00<00:00, 14986.79it/s]\u001b[34m Support Vector Machine pour \u001b[33m EUR/USD \u001b[0m\n",
      "DF (Les 20% de la fin ont été enlevé pour un OOST ultérieur\n",
      "Signaux achat Counter({0: 8, 1: 1})\n",
      "\u001b[31m Not enough populated for \u001b[33m EUR/USD \u001b[0m\n",
      "\n"
     ]
    },
    {
     "output_type": "execute_result",
     "data": {
      "text/plain": [
       "()"
      ]
     },
     "metadata": {},
     "execution_count": 54
    }
   ],
   "source": [
    "_model = 'svm'\n",
    "scaler = MinMaxScaler((0,1))\n",
    "df_2 = df.copy()\n",
    "#df_2 = df_2.drop(['Peak','Valley','BackHi_pic','BackLo_val'],axis=1)\n",
    "df_2.loc[:, df_2.columns != 'Signal'] = scaler.fit_transform(df_2.loc[:, df_2.columns != 'Signal'].values) \n",
    "df_2.rename(columns = {'Signal':'SigRSI'}, inplace = True)\n",
    "SIGNAL = []\n",
    "SIGNAL = [1 if (df_2.SigRSI[i] != 0) & (df_2.index[i] in TRACKER) else 0 for i in tqdm(range(len(df_2)))]\n",
    "df_2['Signal'] = SIGNAL\n",
    "df_2 = df_2.dropna()\n",
    "modelize(df_2[df_2.SigRSI != 0],x,_model,0)"
   ]
  },
  {
   "cell_type": "code",
   "execution_count": 58,
   "metadata": {},
   "outputs": [
    {
     "output_type": "execute_result",
     "data": {
      "text/plain": [
       "<matplotlib.legend.Legend at 0x1a25b8d110>"
      ]
     },
     "metadata": {},
     "execution_count": 58
    },
    {
     "output_type": "display_data",
     "data": {
      "text/plain": "<Figure size 1584x288 with 1 Axes>",
      "image/svg+xml": "<?xml version=\"1.0\" encoding=\"utf-8\" standalone=\"no\"?>\n<!DOCTYPE svg PUBLIC \"-//W3C//DTD SVG 1.1//EN\"\n  \"http://www.w3.org/Graphics/SVG/1.1/DTD/svg11.dtd\">\n<!-- Created with matplotlib (https://matplotlib.org/) -->\n<svg height=\"268.35744pt\" version=\"1.1\" viewBox=\"0 0 1264.903125 268.35744\" width=\"1264.903125pt\" xmlns=\"http://www.w3.org/2000/svg\" xmlns:xlink=\"http://www.w3.org/1999/xlink\">\n <defs>\n  <style type=\"text/css\">\n*{stroke-linecap:butt;stroke-linejoin:round;}\n  </style>\n </defs>\n <g id=\"figure_1\">\n  <g id=\"patch_1\">\n   <path d=\"M 0 268.35744 \nL 1264.903125 268.35744 \nL 1264.903125 0 \nL 0 0 \nz\n\" style=\"fill:none;\"/>\n  </g>\n  <g id=\"axes_1\">\n   <g id=\"patch_2\">\n    <path d=\"M 30.103125 203.04 \nL 1257.703125 203.04 \nL 1257.703125 7.2 \nL 30.103125 7.2 \nz\n\" style=\"fill:#ffffff;\"/>\n   </g>\n   <g id=\"matplotlib.axis_1\">\n    <g id=\"xtick_1\">\n     <g id=\"line2d_1\">\n      <defs>\n       <path d=\"M 0 0 \nL 0 3.5 \n\" id=\"m7bdb3bda76\" style=\"stroke:#000000;stroke-width:0.8;\"/>\n      </defs>\n      <g>\n       <use style=\"stroke:#000000;stroke-width:0.8;\" x=\"85.903125\" xlink:href=\"#m7bdb3bda76\" y=\"203.04\"/>\n      </g>\n     </g>\n     <g id=\"text_1\">\n      <!-- 2020-10-29 -->\n      <defs>\n       <path d=\"M 19.1875 8.296875 \nL 53.609375 8.296875 \nL 53.609375 0 \nL 7.328125 0 \nL 7.328125 8.296875 \nQ 12.9375 14.109375 22.625 23.890625 \nQ 32.328125 33.6875 34.8125 36.53125 \nQ 39.546875 41.84375 41.421875 45.53125 \nQ 43.3125 49.21875 43.3125 52.78125 \nQ 43.3125 58.59375 39.234375 62.25 \nQ 35.15625 65.921875 28.609375 65.921875 \nQ 23.96875 65.921875 18.8125 64.3125 \nQ 13.671875 62.703125 7.8125 59.421875 \nL 7.8125 69.390625 \nQ 13.765625 71.78125 18.9375 73 \nQ 24.125 74.21875 28.421875 74.21875 \nQ 39.75 74.21875 46.484375 68.546875 \nQ 53.21875 62.890625 53.21875 53.421875 \nQ 53.21875 48.921875 51.53125 44.890625 \nQ 49.859375 40.875 45.40625 35.40625 \nQ 44.1875 33.984375 37.640625 27.21875 \nQ 31.109375 20.453125 19.1875 8.296875 \nz\n\" id=\"DejaVuSans-50\"/>\n       <path d=\"M 31.78125 66.40625 \nQ 24.171875 66.40625 20.328125 58.90625 \nQ 16.5 51.421875 16.5 36.375 \nQ 16.5 21.390625 20.328125 13.890625 \nQ 24.171875 6.390625 31.78125 6.390625 \nQ 39.453125 6.390625 43.28125 13.890625 \nQ 47.125 21.390625 47.125 36.375 \nQ 47.125 51.421875 43.28125 58.90625 \nQ 39.453125 66.40625 31.78125 66.40625 \nz\nM 31.78125 74.21875 \nQ 44.046875 74.21875 50.515625 64.515625 \nQ 56.984375 54.828125 56.984375 36.375 \nQ 56.984375 17.96875 50.515625 8.265625 \nQ 44.046875 -1.421875 31.78125 -1.421875 \nQ 19.53125 -1.421875 13.0625 8.265625 \nQ 6.59375 17.96875 6.59375 36.375 \nQ 6.59375 54.828125 13.0625 64.515625 \nQ 19.53125 74.21875 31.78125 74.21875 \nz\n\" id=\"DejaVuSans-48\"/>\n       <path d=\"M 4.890625 31.390625 \nL 31.203125 31.390625 \nL 31.203125 23.390625 \nL 4.890625 23.390625 \nz\n\" id=\"DejaVuSans-45\"/>\n       <path d=\"M 12.40625 8.296875 \nL 28.515625 8.296875 \nL 28.515625 63.921875 \nL 10.984375 60.40625 \nL 10.984375 69.390625 \nL 28.421875 72.90625 \nL 38.28125 72.90625 \nL 38.28125 8.296875 \nL 54.390625 8.296875 \nL 54.390625 0 \nL 12.40625 0 \nz\n\" id=\"DejaVuSans-49\"/>\n       <path d=\"M 10.984375 1.515625 \nL 10.984375 10.5 \nQ 14.703125 8.734375 18.5 7.8125 \nQ 22.3125 6.890625 25.984375 6.890625 \nQ 35.75 6.890625 40.890625 13.453125 \nQ 46.046875 20.015625 46.78125 33.40625 \nQ 43.953125 29.203125 39.59375 26.953125 \nQ 35.25 24.703125 29.984375 24.703125 \nQ 19.046875 24.703125 12.671875 31.3125 \nQ 6.296875 37.9375 6.296875 49.421875 \nQ 6.296875 60.640625 12.9375 67.421875 \nQ 19.578125 74.21875 30.609375 74.21875 \nQ 43.265625 74.21875 49.921875 64.515625 \nQ 56.59375 54.828125 56.59375 36.375 \nQ 56.59375 19.140625 48.40625 8.859375 \nQ 40.234375 -1.421875 26.421875 -1.421875 \nQ 22.703125 -1.421875 18.890625 -0.6875 \nQ 15.09375 0.046875 10.984375 1.515625 \nz\nM 30.609375 32.421875 \nQ 37.25 32.421875 41.125 36.953125 \nQ 45.015625 41.5 45.015625 49.421875 \nQ 45.015625 57.28125 41.125 61.84375 \nQ 37.25 66.40625 30.609375 66.40625 \nQ 23.96875 66.40625 20.09375 61.84375 \nQ 16.21875 57.28125 16.21875 49.421875 \nQ 16.21875 41.5 20.09375 36.953125 \nQ 23.96875 32.421875 30.609375 32.421875 \nz\n\" id=\"DejaVuSans-57\"/>\n      </defs>\n      <g transform=\"translate(34.533674 245.678252)rotate(-30)scale(0.1 -0.1)\">\n       <use xlink:href=\"#DejaVuSans-50\"/>\n       <use x=\"63.623047\" xlink:href=\"#DejaVuSans-48\"/>\n       <use x=\"127.246094\" xlink:href=\"#DejaVuSans-50\"/>\n       <use x=\"190.869141\" xlink:href=\"#DejaVuSans-48\"/>\n       <use x=\"254.492188\" xlink:href=\"#DejaVuSans-45\"/>\n       <use x=\"290.576172\" xlink:href=\"#DejaVuSans-49\"/>\n       <use x=\"354.199219\" xlink:href=\"#DejaVuSans-48\"/>\n       <use x=\"417.822266\" xlink:href=\"#DejaVuSans-45\"/>\n       <use x=\"453.90625\" xlink:href=\"#DejaVuSans-50\"/>\n       <use x=\"517.529297\" xlink:href=\"#DejaVuSans-57\"/>\n      </g>\n     </g>\n    </g>\n    <g id=\"xtick_2\">\n     <g id=\"line2d_2\">\n      <g>\n       <use style=\"stroke:#000000;stroke-width:0.8;\" x=\"216.344683\" xlink:href=\"#m7bdb3bda76\" y=\"203.04\"/>\n      </g>\n     </g>\n     <g id=\"text_2\">\n      <!-- 2020-11-01 -->\n      <g transform=\"translate(164.975232 245.678252)rotate(-30)scale(0.1 -0.1)\">\n       <use xlink:href=\"#DejaVuSans-50\"/>\n       <use x=\"63.623047\" xlink:href=\"#DejaVuSans-48\"/>\n       <use x=\"127.246094\" xlink:href=\"#DejaVuSans-50\"/>\n       <use x=\"190.869141\" xlink:href=\"#DejaVuSans-48\"/>\n       <use x=\"254.492188\" xlink:href=\"#DejaVuSans-45\"/>\n       <use x=\"290.576172\" xlink:href=\"#DejaVuSans-49\"/>\n       <use x=\"354.199219\" xlink:href=\"#DejaVuSans-49\"/>\n       <use x=\"417.822266\" xlink:href=\"#DejaVuSans-45\"/>\n       <use x=\"453.90625\" xlink:href=\"#DejaVuSans-48\"/>\n       <use x=\"517.529297\" xlink:href=\"#DejaVuSans-49\"/>\n      </g>\n     </g>\n    </g>\n    <g id=\"xtick_3\">\n     <g id=\"line2d_3\">\n      <g>\n       <use style=\"stroke:#000000;stroke-width:0.8;\" x=\"390.266761\" xlink:href=\"#m7bdb3bda76\" y=\"203.04\"/>\n      </g>\n     </g>\n     <g id=\"text_3\">\n      <!-- 2020-11-05 -->\n      <defs>\n       <path d=\"M 10.796875 72.90625 \nL 49.515625 72.90625 \nL 49.515625 64.59375 \nL 19.828125 64.59375 \nL 19.828125 46.734375 \nQ 21.96875 47.46875 24.109375 47.828125 \nQ 26.265625 48.1875 28.421875 48.1875 \nQ 40.625 48.1875 47.75 41.5 \nQ 54.890625 34.8125 54.890625 23.390625 \nQ 54.890625 11.625 47.5625 5.09375 \nQ 40.234375 -1.421875 26.90625 -1.421875 \nQ 22.3125 -1.421875 17.546875 -0.640625 \nQ 12.796875 0.140625 7.71875 1.703125 \nL 7.71875 11.625 \nQ 12.109375 9.234375 16.796875 8.0625 \nQ 21.484375 6.890625 26.703125 6.890625 \nQ 35.15625 6.890625 40.078125 11.328125 \nQ 45.015625 15.765625 45.015625 23.390625 \nQ 45.015625 31 40.078125 35.4375 \nQ 35.15625 39.890625 26.703125 39.890625 \nQ 22.75 39.890625 18.8125 39.015625 \nQ 14.890625 38.140625 10.796875 36.28125 \nz\n\" id=\"DejaVuSans-53\"/>\n      </defs>\n      <g transform=\"translate(338.89731 245.678252)rotate(-30)scale(0.1 -0.1)\">\n       <use xlink:href=\"#DejaVuSans-50\"/>\n       <use x=\"63.623047\" xlink:href=\"#DejaVuSans-48\"/>\n       <use x=\"127.246094\" xlink:href=\"#DejaVuSans-50\"/>\n       <use x=\"190.869141\" xlink:href=\"#DejaVuSans-48\"/>\n       <use x=\"254.492188\" xlink:href=\"#DejaVuSans-45\"/>\n       <use x=\"290.576172\" xlink:href=\"#DejaVuSans-49\"/>\n       <use x=\"354.199219\" xlink:href=\"#DejaVuSans-49\"/>\n       <use x=\"417.822266\" xlink:href=\"#DejaVuSans-45\"/>\n       <use x=\"453.90625\" xlink:href=\"#DejaVuSans-48\"/>\n       <use x=\"517.529297\" xlink:href=\"#DejaVuSans-53\"/>\n      </g>\n     </g>\n    </g>\n    <g id=\"xtick_4\">\n     <g id=\"line2d_4\">\n      <g>\n       <use style=\"stroke:#000000;stroke-width:0.8;\" x=\"564.188839\" xlink:href=\"#m7bdb3bda76\" y=\"203.04\"/>\n      </g>\n     </g>\n     <g id=\"text_4\">\n      <!-- 2020-11-09 -->\n      <g transform=\"translate(512.819388 245.678252)rotate(-30)scale(0.1 -0.1)\">\n       <use xlink:href=\"#DejaVuSans-50\"/>\n       <use x=\"63.623047\" xlink:href=\"#DejaVuSans-48\"/>\n       <use x=\"127.246094\" xlink:href=\"#DejaVuSans-50\"/>\n       <use x=\"190.869141\" xlink:href=\"#DejaVuSans-48\"/>\n       <use x=\"254.492188\" xlink:href=\"#DejaVuSans-45\"/>\n       <use x=\"290.576172\" xlink:href=\"#DejaVuSans-49\"/>\n       <use x=\"354.199219\" xlink:href=\"#DejaVuSans-49\"/>\n       <use x=\"417.822266\" xlink:href=\"#DejaVuSans-45\"/>\n       <use x=\"453.90625\" xlink:href=\"#DejaVuSans-48\"/>\n       <use x=\"517.529297\" xlink:href=\"#DejaVuSans-57\"/>\n      </g>\n     </g>\n    </g>\n    <g id=\"xtick_5\">\n     <g id=\"line2d_5\">\n      <g>\n       <use style=\"stroke:#000000;stroke-width:0.8;\" x=\"738.110917\" xlink:href=\"#m7bdb3bda76\" y=\"203.04\"/>\n      </g>\n     </g>\n     <g id=\"text_5\">\n      <!-- 2020-11-13 -->\n      <defs>\n       <path d=\"M 40.578125 39.3125 \nQ 47.65625 37.796875 51.625 33 \nQ 55.609375 28.21875 55.609375 21.1875 \nQ 55.609375 10.40625 48.1875 4.484375 \nQ 40.765625 -1.421875 27.09375 -1.421875 \nQ 22.515625 -1.421875 17.65625 -0.515625 \nQ 12.796875 0.390625 7.625 2.203125 \nL 7.625 11.71875 \nQ 11.71875 9.328125 16.59375 8.109375 \nQ 21.484375 6.890625 26.8125 6.890625 \nQ 36.078125 6.890625 40.9375 10.546875 \nQ 45.796875 14.203125 45.796875 21.1875 \nQ 45.796875 27.640625 41.28125 31.265625 \nQ 36.765625 34.90625 28.71875 34.90625 \nL 20.21875 34.90625 \nL 20.21875 43.015625 \nL 29.109375 43.015625 \nQ 36.375 43.015625 40.234375 45.921875 \nQ 44.09375 48.828125 44.09375 54.296875 \nQ 44.09375 59.90625 40.109375 62.90625 \nQ 36.140625 65.921875 28.71875 65.921875 \nQ 24.65625 65.921875 20.015625 65.03125 \nQ 15.375 64.15625 9.8125 62.3125 \nL 9.8125 71.09375 \nQ 15.4375 72.65625 20.34375 73.4375 \nQ 25.25 74.21875 29.59375 74.21875 \nQ 40.828125 74.21875 47.359375 69.109375 \nQ 53.90625 64.015625 53.90625 55.328125 \nQ 53.90625 49.265625 50.4375 45.09375 \nQ 46.96875 40.921875 40.578125 39.3125 \nz\n\" id=\"DejaVuSans-51\"/>\n      </defs>\n      <g transform=\"translate(686.741466 245.678252)rotate(-30)scale(0.1 -0.1)\">\n       <use xlink:href=\"#DejaVuSans-50\"/>\n       <use x=\"63.623047\" xlink:href=\"#DejaVuSans-48\"/>\n       <use x=\"127.246094\" xlink:href=\"#DejaVuSans-50\"/>\n       <use x=\"190.869141\" xlink:href=\"#DejaVuSans-48\"/>\n       <use x=\"254.492188\" xlink:href=\"#DejaVuSans-45\"/>\n       <use x=\"290.576172\" xlink:href=\"#DejaVuSans-49\"/>\n       <use x=\"354.199219\" xlink:href=\"#DejaVuSans-49\"/>\n       <use x=\"417.822266\" xlink:href=\"#DejaVuSans-45\"/>\n       <use x=\"453.90625\" xlink:href=\"#DejaVuSans-49\"/>\n       <use x=\"517.529297\" xlink:href=\"#DejaVuSans-51\"/>\n      </g>\n     </g>\n    </g>\n    <g id=\"xtick_6\">\n     <g id=\"line2d_6\">\n      <g>\n       <use style=\"stroke:#000000;stroke-width:0.8;\" x=\"912.032995\" xlink:href=\"#m7bdb3bda76\" y=\"203.04\"/>\n      </g>\n     </g>\n     <g id=\"text_6\">\n      <!-- 2020-11-17 -->\n      <defs>\n       <path d=\"M 8.203125 72.90625 \nL 55.078125 72.90625 \nL 55.078125 68.703125 \nL 28.609375 0 \nL 18.3125 0 \nL 43.21875 64.59375 \nL 8.203125 64.59375 \nz\n\" id=\"DejaVuSans-55\"/>\n      </defs>\n      <g transform=\"translate(860.663544 245.678252)rotate(-30)scale(0.1 -0.1)\">\n       <use xlink:href=\"#DejaVuSans-50\"/>\n       <use x=\"63.623047\" xlink:href=\"#DejaVuSans-48\"/>\n       <use x=\"127.246094\" xlink:href=\"#DejaVuSans-50\"/>\n       <use x=\"190.869141\" xlink:href=\"#DejaVuSans-48\"/>\n       <use x=\"254.492188\" xlink:href=\"#DejaVuSans-45\"/>\n       <use x=\"290.576172\" xlink:href=\"#DejaVuSans-49\"/>\n       <use x=\"354.199219\" xlink:href=\"#DejaVuSans-49\"/>\n       <use x=\"417.822266\" xlink:href=\"#DejaVuSans-45\"/>\n       <use x=\"453.90625\" xlink:href=\"#DejaVuSans-49\"/>\n       <use x=\"517.529297\" xlink:href=\"#DejaVuSans-55\"/>\n      </g>\n     </g>\n    </g>\n    <g id=\"xtick_7\">\n     <g id=\"line2d_7\">\n      <g>\n       <use style=\"stroke:#000000;stroke-width:0.8;\" x=\"1085.955073\" xlink:href=\"#m7bdb3bda76\" y=\"203.04\"/>\n      </g>\n     </g>\n     <g id=\"text_7\">\n      <!-- 2020-11-21 -->\n      <g transform=\"translate(1034.585622 245.678252)rotate(-30)scale(0.1 -0.1)\">\n       <use xlink:href=\"#DejaVuSans-50\"/>\n       <use x=\"63.623047\" xlink:href=\"#DejaVuSans-48\"/>\n       <use x=\"127.246094\" xlink:href=\"#DejaVuSans-50\"/>\n       <use x=\"190.869141\" xlink:href=\"#DejaVuSans-48\"/>\n       <use x=\"254.492188\" xlink:href=\"#DejaVuSans-45\"/>\n       <use x=\"290.576172\" xlink:href=\"#DejaVuSans-49\"/>\n       <use x=\"354.199219\" xlink:href=\"#DejaVuSans-49\"/>\n       <use x=\"417.822266\" xlink:href=\"#DejaVuSans-45\"/>\n       <use x=\"453.90625\" xlink:href=\"#DejaVuSans-50\"/>\n       <use x=\"517.529297\" xlink:href=\"#DejaVuSans-49\"/>\n      </g>\n     </g>\n    </g>\n    <g id=\"text_8\">\n     <!-- Date -->\n     <defs>\n      <path d=\"M 19.671875 64.796875 \nL 19.671875 8.109375 \nL 31.59375 8.109375 \nQ 46.6875 8.109375 53.6875 14.9375 \nQ 60.6875 21.78125 60.6875 36.53125 \nQ 60.6875 51.171875 53.6875 57.984375 \nQ 46.6875 64.796875 31.59375 64.796875 \nz\nM 9.8125 72.90625 \nL 30.078125 72.90625 \nQ 51.265625 72.90625 61.171875 64.09375 \nQ 71.09375 55.28125 71.09375 36.53125 \nQ 71.09375 17.671875 61.125 8.828125 \nQ 51.171875 0 30.078125 0 \nL 9.8125 0 \nz\n\" id=\"DejaVuSans-68\"/>\n      <path d=\"M 34.28125 27.484375 \nQ 23.390625 27.484375 19.1875 25 \nQ 14.984375 22.515625 14.984375 16.5 \nQ 14.984375 11.71875 18.140625 8.90625 \nQ 21.296875 6.109375 26.703125 6.109375 \nQ 34.1875 6.109375 38.703125 11.40625 \nQ 43.21875 16.703125 43.21875 25.484375 \nL 43.21875 27.484375 \nz\nM 52.203125 31.203125 \nL 52.203125 0 \nL 43.21875 0 \nL 43.21875 8.296875 \nQ 40.140625 3.328125 35.546875 0.953125 \nQ 30.953125 -1.421875 24.3125 -1.421875 \nQ 15.921875 -1.421875 10.953125 3.296875 \nQ 6 8.015625 6 15.921875 \nQ 6 25.140625 12.171875 29.828125 \nQ 18.359375 34.515625 30.609375 34.515625 \nL 43.21875 34.515625 \nL 43.21875 35.40625 \nQ 43.21875 41.609375 39.140625 45 \nQ 35.0625 48.390625 27.6875 48.390625 \nQ 23 48.390625 18.546875 47.265625 \nQ 14.109375 46.140625 10.015625 43.890625 \nL 10.015625 52.203125 \nQ 14.9375 54.109375 19.578125 55.046875 \nQ 24.21875 56 28.609375 56 \nQ 40.484375 56 46.34375 49.84375 \nQ 52.203125 43.703125 52.203125 31.203125 \nz\n\" id=\"DejaVuSans-97\"/>\n      <path d=\"M 18.3125 70.21875 \nL 18.3125 54.6875 \nL 36.8125 54.6875 \nL 36.8125 47.703125 \nL 18.3125 47.703125 \nL 18.3125 18.015625 \nQ 18.3125 11.328125 20.140625 9.421875 \nQ 21.96875 7.515625 27.59375 7.515625 \nL 36.8125 7.515625 \nL 36.8125 0 \nL 27.59375 0 \nQ 17.1875 0 13.234375 3.875 \nQ 9.28125 7.765625 9.28125 18.015625 \nL 9.28125 47.703125 \nL 2.6875 47.703125 \nL 2.6875 54.6875 \nL 9.28125 54.6875 \nL 9.28125 70.21875 \nz\n\" id=\"DejaVuSans-116\"/>\n      <path d=\"M 56.203125 29.59375 \nL 56.203125 25.203125 \nL 14.890625 25.203125 \nQ 15.484375 15.921875 20.484375 11.0625 \nQ 25.484375 6.203125 34.421875 6.203125 \nQ 39.59375 6.203125 44.453125 7.46875 \nQ 49.3125 8.734375 54.109375 11.28125 \nL 54.109375 2.78125 \nQ 49.265625 0.734375 44.1875 -0.34375 \nQ 39.109375 -1.421875 33.890625 -1.421875 \nQ 20.796875 -1.421875 13.15625 6.1875 \nQ 5.515625 13.8125 5.515625 26.8125 \nQ 5.515625 40.234375 12.765625 48.109375 \nQ 20.015625 56 32.328125 56 \nQ 43.359375 56 49.78125 48.890625 \nQ 56.203125 41.796875 56.203125 29.59375 \nz\nM 47.21875 32.234375 \nQ 47.125 39.59375 43.09375 43.984375 \nQ 39.0625 48.390625 32.421875 48.390625 \nQ 24.90625 48.390625 20.390625 44.140625 \nQ 15.875 39.890625 15.1875 32.171875 \nz\n\" id=\"DejaVuSans-101\"/>\n     </defs>\n     <g transform=\"translate(631.952344 259.077752)scale(0.1 -0.1)\">\n      <use xlink:href=\"#DejaVuSans-68\"/>\n      <use x=\"77.001953\" xlink:href=\"#DejaVuSans-97\"/>\n      <use x=\"138.28125\" xlink:href=\"#DejaVuSans-116\"/>\n      <use x=\"177.490234\" xlink:href=\"#DejaVuSans-101\"/>\n     </g>\n    </g>\n   </g>\n   <g id=\"matplotlib.axis_2\">\n    <g id=\"ytick_1\">\n     <g id=\"line2d_8\">\n      <defs>\n       <path d=\"M 0 0 \nL -3.5 0 \n\" id=\"ma9df1e6bf2\" style=\"stroke:#000000;stroke-width:0.8;\"/>\n      </defs>\n      <g>\n       <use style=\"stroke:#000000;stroke-width:0.8;\" x=\"30.103125\" xlink:href=\"#ma9df1e6bf2\" y=\"194.138182\"/>\n      </g>\n     </g>\n     <g id=\"text_9\">\n      <!-- 0.0 -->\n      <defs>\n       <path d=\"M 10.6875 12.40625 \nL 21 12.40625 \nL 21 0 \nL 10.6875 0 \nz\n\" id=\"DejaVuSans-46\"/>\n      </defs>\n      <g transform=\"translate(7.2 197.937401)scale(0.1 -0.1)\">\n       <use xlink:href=\"#DejaVuSans-48\"/>\n       <use x=\"63.623047\" xlink:href=\"#DejaVuSans-46\"/>\n       <use x=\"95.410156\" xlink:href=\"#DejaVuSans-48\"/>\n      </g>\n     </g>\n    </g>\n    <g id=\"ytick_2\">\n     <g id=\"line2d_9\">\n      <g>\n       <use style=\"stroke:#000000;stroke-width:0.8;\" x=\"30.103125\" xlink:href=\"#ma9df1e6bf2\" y=\"158.530909\"/>\n      </g>\n     </g>\n     <g id=\"text_10\">\n      <!-- 0.2 -->\n      <g transform=\"translate(7.2 162.330128)scale(0.1 -0.1)\">\n       <use xlink:href=\"#DejaVuSans-48\"/>\n       <use x=\"63.623047\" xlink:href=\"#DejaVuSans-46\"/>\n       <use x=\"95.410156\" xlink:href=\"#DejaVuSans-50\"/>\n      </g>\n     </g>\n    </g>\n    <g id=\"ytick_3\">\n     <g id=\"line2d_10\">\n      <g>\n       <use style=\"stroke:#000000;stroke-width:0.8;\" x=\"30.103125\" xlink:href=\"#ma9df1e6bf2\" y=\"122.923636\"/>\n      </g>\n     </g>\n     <g id=\"text_11\">\n      <!-- 0.4 -->\n      <defs>\n       <path d=\"M 37.796875 64.3125 \nL 12.890625 25.390625 \nL 37.796875 25.390625 \nz\nM 35.203125 72.90625 \nL 47.609375 72.90625 \nL 47.609375 25.390625 \nL 58.015625 25.390625 \nL 58.015625 17.1875 \nL 47.609375 17.1875 \nL 47.609375 0 \nL 37.796875 0 \nL 37.796875 17.1875 \nL 4.890625 17.1875 \nL 4.890625 26.703125 \nz\n\" id=\"DejaVuSans-52\"/>\n      </defs>\n      <g transform=\"translate(7.2 126.722855)scale(0.1 -0.1)\">\n       <use xlink:href=\"#DejaVuSans-48\"/>\n       <use x=\"63.623047\" xlink:href=\"#DejaVuSans-46\"/>\n       <use x=\"95.410156\" xlink:href=\"#DejaVuSans-52\"/>\n      </g>\n     </g>\n    </g>\n    <g id=\"ytick_4\">\n     <g id=\"line2d_11\">\n      <g>\n       <use style=\"stroke:#000000;stroke-width:0.8;\" x=\"30.103125\" xlink:href=\"#ma9df1e6bf2\" y=\"87.316364\"/>\n      </g>\n     </g>\n     <g id=\"text_12\">\n      <!-- 0.6 -->\n      <defs>\n       <path d=\"M 33.015625 40.375 \nQ 26.375 40.375 22.484375 35.828125 \nQ 18.609375 31.296875 18.609375 23.390625 \nQ 18.609375 15.53125 22.484375 10.953125 \nQ 26.375 6.390625 33.015625 6.390625 \nQ 39.65625 6.390625 43.53125 10.953125 \nQ 47.40625 15.53125 47.40625 23.390625 \nQ 47.40625 31.296875 43.53125 35.828125 \nQ 39.65625 40.375 33.015625 40.375 \nz\nM 52.59375 71.296875 \nL 52.59375 62.3125 \nQ 48.875 64.0625 45.09375 64.984375 \nQ 41.3125 65.921875 37.59375 65.921875 \nQ 27.828125 65.921875 22.671875 59.328125 \nQ 17.53125 52.734375 16.796875 39.40625 \nQ 19.671875 43.65625 24.015625 45.921875 \nQ 28.375 48.1875 33.59375 48.1875 \nQ 44.578125 48.1875 50.953125 41.515625 \nQ 57.328125 34.859375 57.328125 23.390625 \nQ 57.328125 12.15625 50.6875 5.359375 \nQ 44.046875 -1.421875 33.015625 -1.421875 \nQ 20.359375 -1.421875 13.671875 8.265625 \nQ 6.984375 17.96875 6.984375 36.375 \nQ 6.984375 53.65625 15.1875 63.9375 \nQ 23.390625 74.21875 37.203125 74.21875 \nQ 40.921875 74.21875 44.703125 73.484375 \nQ 48.484375 72.75 52.59375 71.296875 \nz\n\" id=\"DejaVuSans-54\"/>\n      </defs>\n      <g transform=\"translate(7.2 91.115582)scale(0.1 -0.1)\">\n       <use xlink:href=\"#DejaVuSans-48\"/>\n       <use x=\"63.623047\" xlink:href=\"#DejaVuSans-46\"/>\n       <use x=\"95.410156\" xlink:href=\"#DejaVuSans-54\"/>\n      </g>\n     </g>\n    </g>\n    <g id=\"ytick_5\">\n     <g id=\"line2d_12\">\n      <g>\n       <use style=\"stroke:#000000;stroke-width:0.8;\" x=\"30.103125\" xlink:href=\"#ma9df1e6bf2\" y=\"51.709091\"/>\n      </g>\n     </g>\n     <g id=\"text_13\">\n      <!-- 0.8 -->\n      <defs>\n       <path d=\"M 31.78125 34.625 \nQ 24.75 34.625 20.71875 30.859375 \nQ 16.703125 27.09375 16.703125 20.515625 \nQ 16.703125 13.921875 20.71875 10.15625 \nQ 24.75 6.390625 31.78125 6.390625 \nQ 38.8125 6.390625 42.859375 10.171875 \nQ 46.921875 13.96875 46.921875 20.515625 \nQ 46.921875 27.09375 42.890625 30.859375 \nQ 38.875 34.625 31.78125 34.625 \nz\nM 21.921875 38.8125 \nQ 15.578125 40.375 12.03125 44.71875 \nQ 8.5 49.078125 8.5 55.328125 \nQ 8.5 64.0625 14.71875 69.140625 \nQ 20.953125 74.21875 31.78125 74.21875 \nQ 42.671875 74.21875 48.875 69.140625 \nQ 55.078125 64.0625 55.078125 55.328125 \nQ 55.078125 49.078125 51.53125 44.71875 \nQ 48 40.375 41.703125 38.8125 \nQ 48.828125 37.15625 52.796875 32.3125 \nQ 56.78125 27.484375 56.78125 20.515625 \nQ 56.78125 9.90625 50.3125 4.234375 \nQ 43.84375 -1.421875 31.78125 -1.421875 \nQ 19.734375 -1.421875 13.25 4.234375 \nQ 6.78125 9.90625 6.78125 20.515625 \nQ 6.78125 27.484375 10.78125 32.3125 \nQ 14.796875 37.15625 21.921875 38.8125 \nz\nM 18.3125 54.390625 \nQ 18.3125 48.734375 21.84375 45.5625 \nQ 25.390625 42.390625 31.78125 42.390625 \nQ 38.140625 42.390625 41.71875 45.5625 \nQ 45.3125 48.734375 45.3125 54.390625 \nQ 45.3125 60.0625 41.71875 63.234375 \nQ 38.140625 66.40625 31.78125 66.40625 \nQ 25.390625 66.40625 21.84375 63.234375 \nQ 18.3125 60.0625 18.3125 54.390625 \nz\n\" id=\"DejaVuSans-56\"/>\n      </defs>\n      <g transform=\"translate(7.2 55.50831)scale(0.1 -0.1)\">\n       <use xlink:href=\"#DejaVuSans-48\"/>\n       <use x=\"63.623047\" xlink:href=\"#DejaVuSans-46\"/>\n       <use x=\"95.410156\" xlink:href=\"#DejaVuSans-56\"/>\n      </g>\n     </g>\n    </g>\n    <g id=\"ytick_6\">\n     <g id=\"line2d_13\">\n      <g>\n       <use style=\"stroke:#000000;stroke-width:0.8;\" x=\"30.103125\" xlink:href=\"#ma9df1e6bf2\" y=\"16.101818\"/>\n      </g>\n     </g>\n     <g id=\"text_14\">\n      <!-- 1.0 -->\n      <g transform=\"translate(7.2 19.901037)scale(0.1 -0.1)\">\n       <use xlink:href=\"#DejaVuSans-49\"/>\n       <use x=\"63.623047\" xlink:href=\"#DejaVuSans-46\"/>\n       <use x=\"95.410156\" xlink:href=\"#DejaVuSans-48\"/>\n      </g>\n     </g>\n    </g>\n   </g>\n   <g id=\"line2d_14\">\n    <path clip-path=\"url(#pd20dbacc84)\" d=\"M 87.714813 117.78016 \nL 89.526502 116.008654 \nL 91.33819 114.54258 \nL 93.149878 114.54258 \nL 94.961567 115.092358 \nL 96.773255 116.802777 \nL 98.584943 116.802777 \nL 100.396631 115.367247 \nL 102.20832 115.367247 \nL 104.020008 116.619518 \nL 105.831696 125.904654 \nL 107.643385 127.004209 \nL 109.455073 133.265567 \nL 111.266761 137.785962 \nL 113.07845 139.923986 \nL 114.890138 141.542776 \nL 116.701826 150.308677 \nL 118.513515 159.838158 \nL 120.325203 171.475121 \nL 122.136891 166.099516 \nL 123.94858 163.747689 \nL 125.760268 163.747689 \nL 127.571956 164.541813 \nL 129.383644 165.09159 \nL 131.195333 163.350627 \nL 133.007021 163.350627 \nL 134.818709 159.56327 \nL 138.442086 153.821146 \nL 140.253774 153.821146 \nL 142.065463 155.745368 \nL 143.877151 160.051961 \nL 145.688839 160.051961 \nL 147.500528 160.510109 \nL 149.312216 160.510109 \nL 151.123904 160.968257 \nL 152.935593 164.266924 \nL 154.747281 147.865221 \nL 156.558969 147.865221 \nL 158.370657 148.81206 \nL 160.182346 156.814381 \nL 161.994034 157.700134 \nL 163.805722 176.850726 \nL 165.617411 180.271565 \nL 167.429099 180.485368 \nL 261.636891 180.546454 \nL 263.44858 183.17317 \nL 265.260268 181.859812 \nL 267.071956 181.859812 \nL 268.883644 182.745565 \nL 270.695333 184.517071 \nL 272.507021 186.777269 \nL 274.318709 185.219565 \nL 276.130398 184.975219 \nL 277.942086 184.975219 \nL 279.753774 181.523837 \nL 281.565463 180.454824 \nL 283.377151 177.492133 \nL 285.188839 177.492133 \nL 287.000528 178.3168 \nL 288.812216 179.477442 \nL 290.623904 187.968454 \nL 292.435593 186.685639 \nL 294.247281 186.685639 \nL 296.058969 190.50354 \nL 297.870657 191.664182 \nL 299.682346 186.50238 \nL 301.494034 186.105318 \nL 303.305722 185.463911 \nL 305.117411 185.463911 \nL 306.929099 183.692404 \nL 308.740787 180.271565 \nL 310.552476 179.721787 \nL 312.364164 178.164084 \nL 314.175852 178.164084 \nL 315.987541 175.140306 \nL 317.799229 171.322405 \nL 319.610917 167.076899 \nL 321.422606 157.394702 \nL 323.234294 151.866381 \nL 325.045982 151.37769 \nL 326.85767 139.404752 \nL 328.669359 139.404752 \nL 330.481047 142.275813 \nL 332.292735 136.961295 \nL 334.104424 128.958974 \nL 335.916112 126.118456 \nL 337.7278 126.118456 \nL 339.539489 132.654703 \nL 341.351177 142.672875 \nL 343.162865 146.918381 \nL 344.974554 136.53369 \nL 346.786242 133.29611 \nL 348.59793 111.366086 \nL 350.409619 107.12058 \nL 352.221307 107.12058 \nL 354.032995 134.304036 \nL 355.844683 158.982949 \nL 357.656372 164.847245 \nL 359.46806 161.395862 \nL 361.279748 161.395862 \nL 363.091437 171.352948 \nL 364.903125 153.301912 \nL 366.714813 153.301912 \nL 368.526502 152.232899 \nL 370.33819 144.352752 \nL 372.149878 122.544901 \nL 373.961567 122.544901 \nL 375.773255 133.082308 \nL 377.584943 138.335739 \nL 379.396631 129.600382 \nL 381.20832 129.600382 \nL 383.020008 132.471443 \nL 384.831696 134.670554 \nL 386.643385 133.051764 \nL 388.455073 133.051764 \nL 390.266761 131.524604 \nL 392.07845 127.401271 \nL 393.890138 126.423888 \nL 395.701826 126.423888 \nL 397.513515 129.630925 \nL 399.325203 126.240629 \nL 402.94858 123.369567 \nL 404.760268 123.369567 \nL 406.571956 120.773394 \nL 408.383644 107.731444 \nL 410.195333 87.878359 \nL 412.007021 82.472211 \nL 413.818709 80.486902 \nL 415.630398 60.817076 \nL 417.442086 52.875841 \nL 419.253774 52.875841 \nL 421.065463 65.001495 \nL 422.877151 69.155372 \nL 424.688839 69.949495 \nL 426.500528 79.601149 \nL 428.312216 65.154211 \nL 430.123904 62.344236 \nL 431.935593 62.344236 \nL 433.747281 66.925717 \nL 435.558969 61.091965 \nL 437.370657 61.091965 \nL 439.182346 69.949495 \nL 440.994034 73.095446 \nL 442.805722 68.972112 \nL 444.617411 68.972112 \nL 446.429099 72.8511 \nL 448.240787 70.132754 \nL 450.052476 64.512804 \nL 451.864164 56.724286 \nL 453.675852 56.632656 \nL 455.487541 43.376904 \nL 457.299229 40.169867 \nL 459.110917 37.909669 \nL 460.922606 34.152855 \nL 462.734294 33.847422 \nL 464.545982 33.847422 \nL 466.35767 34.244484 \nL 469.981047 34.275027 \nL 471.792735 36.474138 \nL 473.604424 36.474138 \nL 475.416112 38.734336 \nL 564.188839 33.847422 \nL 566.000528 31.342879 \nL 567.812216 31.342879 \nL 569.623904 31.190163 \nL 571.435593 31.190163 \nL 573.247281 32.534064 \nL 575.058969 31.801027 \nL 576.870657 30.854188 \nL 578.682346 30.854188 \nL 580.494034 29.296484 \nL 582.305722 29.296484 \nL 584.117411 30.609842 \nL 585.929099 37.329348 \nL 587.740787 28.380188 \nL 589.552476 28.380188 \nL 591.364164 24.195768 \nL 593.175852 16.101818 \nL 594.987541 16.101818 \nL 596.799229 46.247965 \nL 598.610917 72.118063 \nL 600.422606 75.202927 \nL 602.234294 69.52189 \nL 604.045982 67.108977 \nL 605.85767 67.108977 \nL 607.669359 74.46989 \nL 609.481047 72.484581 \nL 611.292735 72.484581 \nL 613.104424 72.270779 \nL 614.916112 65.856705 \nL 616.7278 65.856705 \nL 618.539489 66.467569 \nL 620.351177 66.467569 \nL 622.162865 66.589742 \nL 623.974554 67.506038 \nL 625.786242 62.894014 \nL 627.59793 62.894014 \nL 629.409619 64.634977 \nL 631.221307 83.449593 \nL 633.032995 77.279865 \nL 634.844683 77.279865 \nL 638.46806 68.361248 \nL 640.279748 68.361248 \nL 642.091437 75.111297 \nL 643.903125 74.805865 \nL 645.714813 73.553594 \nL 647.526502 73.553594 \nL 649.33819 77.921273 \nL 651.149878 75.844334 \nL 652.961567 75.844334 \nL 654.773255 73.400878 \nL 656.584943 72.118063 \nL 658.396631 71.99589 \nL 660.20832 69.399717 \nL 662.020008 69.399717 \nL 663.831696 71.721001 \nL 665.643385 73.034359 \nL 667.455073 72.179149 \nL 669.266761 72.179149 \nL 671.07845 83.235791 \nL 672.890138 89.344433 \nL 674.701826 91.085396 \nL 676.513515 94.231346 \nL 678.325203 105.104728 \nL 680.136891 105.104728 \nL 681.94858 111.488259 \nL 683.760268 109.014259 \nL 685.571956 105.104728 \nL 687.383644 102.813988 \nL 689.195333 102.813988 \nL 691.007021 100.859222 \nL 692.818709 100.126185 \nL 694.630398 100.126185 \nL 696.442086 101.683889 \nL 698.253774 100.64542 \nL 700.065463 96.583173 \nL 701.877151 96.583173 \nL 703.688839 99.637494 \nL 705.500528 100.767593 \nL 707.312216 103.852457 \nL 709.123904 105.074185 \nL 710.935593 104.554951 \nL 712.747281 94.017544 \nL 714.558969 81.952976 \nL 716.370657 77.03552 \nL 718.182346 75.23347 \nL 719.994034 75.23347 \nL 721.805722 81.494828 \nL 723.617411 81.158853 \nL 725.429099 79.692779 \nL 727.240787 78.65431 \nL 729.052476 78.65431 \nL 730.864164 80.2731 \nL 732.675852 82.380581 \nL 734.487541 82.380581 \nL 736.299229 83.693939 \nL 738.110917 83.693939 \nL 739.922606 84.18263 \nL 741.734294 80.975594 \nL 743.545982 80.975594 \nL 745.35767 81.189396 \nL 747.169359 85.2211 \nL 748.981047 85.312729 \nL 750.792735 83.388507 \nL 752.604424 83.388507 \nL 754.416112 78.409964 \nL 758.039489 72.728927 \nL 759.851177 68.330705 \nL 761.662865 68.330705 \nL 765.286242 73.278705 \nL 767.09793 73.278705 \nL 768.909619 70.041125 \nL 770.721307 70.041125 \nL 772.532995 70.193841 \nL 776.156372 67.99473 \nL 777.96806 67.750384 \nL 779.779748 66.528656 \nL 868.552476 63.382705 \nL 870.364164 59.534261 \nL 872.175852 59.534261 \nL 873.987541 59.04557 \nL 875.799229 58.740138 \nL 877.610917 56.235594 \nL 879.422606 55.930162 \nL 881.234294 55.930162 \nL 883.045982 57.090804 \nL 884.85767 54.647348 \nL 886.669359 47.225348 \nL 888.481047 47.225348 \nL 890.292735 52.356607 \nL 892.104424 59.412088 \nL 893.916112 59.259372 \nL 895.7278 59.259372 \nL 897.539489 68.025273 \nL 899.351177 63.779767 \nL 901.162865 61.611199 \nL 902.974554 61.611199 \nL 904.786242 60.969792 \nL 906.59793 60.969792 \nL 908.409619 57.33515 \nL 910.221307 54.647348 \nL 912.032995 54.525175 \nL 915.656372 49.943693 \nL 917.46806 48.599792 \nL 919.279748 48.477619 \nL 921.091437 48.477619 \nL 922.903125 51.165422 \nL 924.714813 52.264977 \nL 926.526502 53.181274 \nL 928.33819 52.845298 \nL 930.149878 43.193644 \nL 931.961567 43.193644 \nL 933.773255 42.338434 \nL 935.584943 37.115546 \nL 937.396631 37.115546 \nL 939.20832 32.137003 \nL 941.020008 32.137003 \nL 942.831696 36.810114 \nL 944.643385 42.063546 \nL 946.455073 42.063546 \nL 948.266761 47.43915 \nL 950.07845 46.950459 \nL 951.890138 46.950459 \nL 953.701826 48.844138 \nL 957.325203 48.935768 \nL 959.136891 49.05794 \nL 960.94858 49.05794 \nL 962.760268 52.723125 \nL 964.571956 51.379224 \nL 968.195333 42.216262 \nL 970.007021 41.452681 \nL 971.818709 36.749027 \nL 973.630398 33.786336 \nL 975.442086 33.786336 \nL 977.253774 34.885892 \nL 979.065463 35.496756 \nL 980.877151 41.299965 \nL 982.688839 45.14841 \nL 984.500528 44.873521 \nL 986.312216 42.521694 \nL 989.935593 42.552237 \nL 991.747281 45.453842 \nL 993.558969 46.492311 \nL 995.370657 47.927842 \nL 997.182346 48.416533 \nL 998.994034 53.089644 \nL 1000.805722 53.089644 \nL 1002.617411 56.632656 \nL 1004.429099 61.763915 \nL 1006.240787 58.09873 \nL 1008.052476 58.09873 \nL 1009.864164 59.778607 \nL 1011.675852 57.518409 \nL 1017.110917 57.457323 \nL 1018.922606 58.923397 \nL 1020.734294 67.506038 \nL 1022.545982 65.887248 \nL 1024.35767 64.085199 \nL 1026.169359 64.085199 \nL 1027.981047 67.04789 \nL 1029.792735 61.550113 \nL 1031.604424 61.550113 \nL 1033.416112 58.373619 \nL 1035.2278 56.296681 \nL 1037.039489 43.102015 \nL 1038.851177 40.383669 \nL 1040.662865 38.917595 \nL 1042.474554 38.917595 \nL 1044.286242 42.155175 \nL 1046.09793 43.682336 \nL 1047.909619 41.605397 \nL 1049.721307 41.605397 \nL 1051.532995 41.147249 \nL 1053.344683 36.77957 \nL 1055.156372 33.908509 \nL 1056.96806 33.908509 \nL 1058.779748 35.099694 \nL 1060.591437 36.718484 \nL 1062.403125 44.109941 \nL 1064.214813 44.690262 \nL 1066.026502 43.560163 \nL 1067.83819 41.544311 \nL 1069.649878 41.544311 \nL 1071.461567 43.040928 \nL 1073.273255 43.040928 \nL 1075.084943 44.323743 \nL 1076.896631 50.829446 \nL 1078.70832 53.028558 \nL 1080.520008 53.028558 \nL 1084.143385 50.462928 \nL 1172.916112 50.462928 \nL 1174.7278 48.996854 \nL 1176.539489 44.507002 \nL 1178.351177 41.72757 \nL 1180.162865 41.72757 \nL 1181.974554 42.552237 \nL 1183.786242 43.010385 \nL 1185.59793 42.338434 \nL 1187.409619 41.299965 \nL 1189.221307 41.177793 \nL 1191.032995 41.177793 \nL 1192.844683 38.825965 \nL 1194.656372 29.052139 \nL 1196.46806 24.837176 \nL 1198.279748 24.59283 \nL 1200.091437 24.59283 \nL 1201.903125 25.570213 \nL 1201.903125 25.570213 \n\" style=\"fill:none;stroke:#1f77b4;stroke-linecap:square;stroke-opacity:0.6;stroke-width:1.5;\"/>\n   </g>\n   <g id=\"line2d_15\">\n    <path clip-path=\"url(#pd20dbacc84)\" d=\"M 85.903125 108.372356 \nL 87.714813 108.793957 \nL 89.526502 108.974644 \nL 91.33819 106.655835 \nL 93.149878 106.866636 \nL 94.961567 108.854186 \nL 96.773255 104.668284 \nL 98.584943 105.842746 \nL 100.396631 104.758627 \nL 102.20832 114.21455 \nL 104.020008 120.628919 \nL 105.831696 121.140864 \nL 107.643385 126.38077 \nL 109.455073 134.210515 \nL 111.266761 138.396418 \nL 113.07845 147.731883 \nL 114.890138 150.773438 \nL 116.701826 162.548171 \nL 118.513515 161.704967 \nL 120.325203 165.409039 \nL 122.136891 160.982222 \nL 123.94858 153.483735 \nL 125.760268 153.001904 \nL 129.383644 154.597968 \nL 131.195333 154.086023 \nL 133.007021 154.236595 \nL 134.818709 151.978015 \nL 136.630398 146.647765 \nL 138.442086 144.389184 \nL 140.253774 146.738108 \nL 142.065463 150.472294 \nL 143.877151 150.080807 \nL 145.688839 156.585519 \nL 147.500528 159.295815 \nL 149.312216 154.296824 \nL 151.123904 156.736091 \nL 152.935593 156.796319 \nL 154.747281 153.212705 \nL 156.558969 149.207489 \nL 158.370657 150.17115 \nL 160.182346 170.347802 \nL 161.994034 169.022768 \nL 163.805722 171.552378 \nL 165.617411 170.19723 \nL 167.429099 169.17334 \nL 169.240787 170.438145 \nL 259.825203 169.354026 \nL 261.636891 172.425696 \nL 263.44858 172.967755 \nL 265.260268 171.612607 \nL 267.071956 172.094437 \nL 268.883644 172.004094 \nL 270.695333 177.635488 \nL 272.507021 177.0332 \nL 274.318709 175.437136 \nL 276.130398 179.321894 \nL 277.942086 182.393564 \nL 279.753774 176.400797 \nL 281.565463 172.756954 \nL 283.377151 168.751738 \nL 285.188839 169.896086 \nL 287.000528 173.780844 \nL 288.812216 177.996861 \nL 290.623904 180.526471 \nL 292.435593 178.599149 \nL 294.247281 181.33956 \nL 296.058969 182.002077 \nL 297.870657 181.369674 \nL 301.494034 173.509814 \nL 303.305722 175.075763 \nL 305.117411 172.004094 \nL 306.929099 173.178556 \nL 308.740787 170.95009 \nL 310.552476 166.884645 \nL 312.364164 167.185789 \nL 314.175852 166.071556 \nL 315.987541 165.981213 \nL 317.799229 163.541946 \nL 319.610917 160.590734 \nL 321.422606 155.5014 \nL 323.234294 148.304057 \nL 325.045982 140.353854 \nL 326.85767 138.00493 \nL 328.669359 136.228181 \nL 330.481047 135.866808 \nL 332.292735 133.939486 \nL 334.104424 128.549007 \nL 335.916112 122.676698 \nL 337.7278 130.476329 \nL 339.539489 135.656007 \nL 341.351177 136.167952 \nL 343.162865 138.035045 \nL 344.974554 134.782689 \nL 346.786242 126.561457 \nL 348.59793 120.29766 \nL 350.409619 142.281176 \nL 352.221307 150.984239 \nL 354.032995 194.138182 \nL 355.844683 186.157864 \nL 357.656372 176.792284 \nL 359.46806 166.282357 \nL 361.279748 173.871187 \nL 363.091437 178.719606 \nL 364.903125 163.030001 \nL 368.526502 152.098472 \nL 370.33819 142.431748 \nL 372.149878 137.071384 \nL 373.961567 134.421316 \nL 375.773255 147.280167 \nL 377.584943 134.270744 \nL 379.396631 136.830469 \nL 381.20832 128.368321 \nL 383.020008 129.301867 \nL 386.643385 126.019397 \nL 388.455073 126.200084 \nL 390.266761 124.965393 \nL 392.07845 122.676698 \nL 393.890138 118.099309 \nL 395.701826 124.363105 \nL 397.513515 128.91038 \nL 399.325203 118.852169 \nL 401.136891 114.75661 \nL 402.94858 115.178211 \nL 404.760268 114.666266 \nL 406.571956 118.79194 \nL 408.383644 111.293453 \nL 410.195333 102.138674 \nL 412.007021 81.871679 \nL 413.818709 75.216396 \nL 415.630398 71.843582 \nL 417.442086 56.425007 \nL 419.253774 64.10418 \nL 421.065463 74.553879 \nL 422.877151 72.174841 \nL 424.688839 80.456302 \nL 426.500528 78.137493 \nL 428.312216 70.66912 \nL 430.123904 68.832142 \nL 431.935593 61.122854 \nL 433.747281 61.815485 \nL 435.558969 70.127061 \nL 437.370657 72.626557 \nL 439.182346 77.986921 \nL 442.805722 63.08029 \nL 444.617411 63.863265 \nL 446.429099 66.724133 \nL 448.240787 67.296307 \nL 450.052476 58.683587 \nL 451.864164 55.401117 \nL 453.675852 59.79782 \nL 455.487541 47.119656 \nL 457.299229 35.555724 \nL 459.110917 37.874533 \nL 460.922606 35.676182 \nL 462.734294 44.409359 \nL 464.545982 39.741626 \nL 466.35767 32.514169 \nL 468.169359 28.719754 \nL 471.792735 26.882775 \nL 475.416112 32.062453 \nL 564.188839 23.118475 \nL 566.000528 24.684424 \nL 567.812216 27.876551 \nL 569.623904 25.467398 \nL 571.435593 22.817331 \nL 573.247281 22.486072 \nL 575.058969 23.08836 \nL 576.870657 27.063462 \nL 580.494034 26.250373 \nL 582.305722 36.188126 \nL 584.117411 35.164237 \nL 585.929099 33.086343 \nL 587.740787 39.018881 \nL 589.552476 32.604512 \nL 591.364164 32.152796 \nL 593.175852 38.175677 \nL 594.987541 66.754248 \nL 596.799229 77.986921 \nL 598.610917 70.66912 \nL 600.422606 73.319188 \nL 602.234294 66.061616 \nL 604.045982 69.073057 \nL 605.85767 69.012828 \nL 607.669359 69.283858 \nL 609.481047 66.694019 \nL 611.292735 70.879921 \nL 613.104424 66.844591 \nL 614.916112 60.460337 \nL 616.7278 61.333655 \nL 618.539489 56.936952 \nL 623.974554 66.663905 \nL 625.786242 65.338871 \nL 627.59793 75.065824 \nL 629.409619 87.382615 \nL 631.221307 87.41273 \nL 633.032995 77.896578 \nL 634.844683 79.372184 \nL 636.656372 74.583993 \nL 638.46806 70.849807 \nL 640.279748 73.529989 \nL 642.091437 70.247519 \nL 643.903125 65.88093 \nL 645.714813 67.356536 \nL 647.526502 73.19873 \nL 649.33819 72.506099 \nL 651.149878 69.042943 \nL 652.961567 65.037727 \nL 656.584943 64.826926 \nL 658.396631 62.237087 \nL 660.20832 60.761481 \nL 662.020008 61.514341 \nL 663.831696 62.447888 \nL 665.643385 65.12807 \nL 667.455073 70.970264 \nL 669.266761 84.822891 \nL 671.07845 87.382615 \nL 672.890138 90.273598 \nL 674.701826 97.952772 \nL 676.513515 103.07222 \nL 678.325203 103.011992 \nL 680.136891 107.830296 \nL 681.94858 108.071212 \nL 683.760268 101.626729 \nL 685.571956 97.621513 \nL 687.383644 92.712865 \nL 689.195333 93.736755 \nL 691.007021 93.164581 \nL 692.818709 89.008793 \nL 694.630398 91.297488 \nL 696.442086 90.183255 \nL 698.253774 91.327602 \nL 700.065463 89.67131 \nL 701.877151 88.587192 \nL 703.688839 91.839547 \nL 705.500528 93.646412 \nL 707.312216 94.579958 \nL 709.123904 100.090894 \nL 710.935593 97.591399 \nL 712.747281 93.315153 \nL 714.558969 84.913234 \nL 716.370657 69.946375 \nL 718.182346 70.277633 \nL 719.994034 80.30573 \nL 721.805722 81.239277 \nL 723.617411 82.895569 \nL 725.429099 79.733556 \nL 727.240787 69.554887 \nL 729.052476 75.99937 \nL 730.864164 77.565319 \nL 732.675852 74.49365 \nL 734.487541 75.728341 \nL 736.299229 73.19873 \nL 738.110917 74.252735 \nL 739.922606 73.46976 \nL 741.734294 72.927701 \nL 743.545982 71.181065 \nL 745.35767 74.614108 \nL 747.169359 74.76468 \nL 748.981047 75.698226 \nL 750.792735 73.258959 \nL 752.604424 73.228845 \nL 754.416112 74.704451 \nL 756.2278 69.886146 \nL 758.039489 71.030493 \nL 759.851177 62.658689 \nL 761.662865 66.182074 \nL 765.286242 70.157176 \nL 767.09793 67.175849 \nL 768.909619 66.36276 \nL 770.721307 64.495667 \nL 772.532995 61.484227 \nL 774.344683 60.580795 \nL 776.156372 60.610909 \nL 777.96806 56.726151 \nL 779.779748 55.882947 \nL 868.552476 55.551689 \nL 870.364164 52.751049 \nL 872.175852 52.690821 \nL 873.987541 52.178876 \nL 875.799229 47.962859 \nL 877.610917 45.403134 \nL 879.422606 44.559931 \nL 881.234294 46.87874 \nL 883.045982 47.270228 \nL 884.85767 48.504918 \nL 886.669359 42.873524 \nL 888.481047 50.914071 \nL 890.292735 54.076083 \nL 892.104424 59.677363 \nL 893.916112 59.948392 \nL 895.7278 66.694019 \nL 897.539489 63.923494 \nL 899.351177 62.718917 \nL 901.162865 54.316998 \nL 902.974554 51.998189 \nL 904.786242 53.112422 \nL 906.59793 52.269219 \nL 908.409619 49.709494 \nL 910.221307 45.674164 \nL 912.032995 44.439473 \nL 915.656372 39.831969 \nL 917.46806 39.169453 \nL 919.279748 39.591054 \nL 921.091437 39.681397 \nL 922.903125 40.554715 \nL 924.714813 42.632609 \nL 926.526502 44.288901 \nL 928.33819 47.481028 \nL 930.149878 49.589037 \nL 931.961567 36.158012 \nL 933.773255 35.886982 \nL 935.584943 30.345932 \nL 937.396631 35.073893 \nL 939.20832 31.520394 \nL 941.020008 34.98355 \nL 942.831696 40.374029 \nL 944.643385 38.777965 \nL 946.455073 40.645058 \nL 948.266761 37.573389 \nL 950.07845 37.001215 \nL 951.890138 38.235906 \nL 953.701826 38.717736 \nL 955.513515 38.235906 \nL 957.325203 38.597279 \nL 960.94858 44.830961 \nL 962.760268 42.933753 \nL 964.571956 40.614944 \nL 966.383644 38.717736 \nL 968.195333 34.772749 \nL 970.007021 33.47783 \nL 971.818709 29.532843 \nL 973.630398 29.562957 \nL 975.442086 29.352156 \nL 977.253774 31.761309 \nL 979.065463 33.267029 \nL 980.877151 38.446707 \nL 982.688839 44.168444 \nL 984.500528 42.542266 \nL 986.312216 36.820529 \nL 988.123904 37.51316 \nL 989.935593 36.459156 \nL 991.747281 36.459156 \nL 993.558969 40.102999 \nL 995.370657 43.385469 \nL 997.182346 45.553706 \nL 998.994034 44.379245 \nL 1000.805722 48.143545 \nL 1002.617411 55.943176 \nL 1004.429099 54.889172 \nL 1006.240787 49.40835 \nL 1008.052476 50.612927 \nL 1009.864164 50.372011 \nL 1011.675852 49.438465 \nL 1013.487541 47.812287 \nL 1015.299229 49.649266 \nL 1017.110917 62.086515 \nL 1018.922606 61.544456 \nL 1020.734294 65.429214 \nL 1022.545982 61.393884 \nL 1024.35767 55.792604 \nL 1026.169359 58.653473 \nL 1027.981047 64.074066 \nL 1029.792735 58.111413 \nL 1033.416112 50.612927 \nL 1035.2278 47.300342 \nL 1037.039489 43.204783 \nL 1038.851177 30.586847 \nL 1040.662865 31.369822 \nL 1042.474554 33.899432 \nL 1044.286242 35.917097 \nL 1046.09793 35.766525 \nL 1047.909619 30.67719 \nL 1049.721307 32.72497 \nL 1053.344683 30.225474 \nL 1055.156372 26.250373 \nL 1056.96806 26.551517 \nL 1058.779748 35.344923 \nL 1060.591437 35.555724 \nL 1062.403125 41.428033 \nL 1064.214813 44.258787 \nL 1066.026502 43.536041 \nL 1067.83819 34.321033 \nL 1069.649878 41.126889 \nL 1071.461567 34.923321 \nL 1073.273255 45.071876 \nL 1075.084943 43.204783 \nL 1076.896631 44.740618 \nL 1078.70832 45.222448 \nL 1080.520008 42.301351 \nL 1082.331696 40.885974 \nL 1084.143385 41.970092 \nL 1172.916112 43.566156 \nL 1174.7278 41.006431 \nL 1176.539489 36.790415 \nL 1178.351177 32.002224 \nL 1181.974554 31.731194 \nL 1183.786242 32.152796 \nL 1185.59793 31.821538 \nL 1187.409619 31.640851 \nL 1189.221307 34.712521 \nL 1191.032995 37.302359 \nL 1192.844683 33.026114 \nL 1194.656372 29.683415 \nL 1196.46806 19.745661 \nL 1198.279748 16.101818 \nL 1200.091437 20.980352 \nL 1201.903125 36.248355 \nL 1201.903125 36.248355 \n\" style=\"fill:none;stroke:#ff7f0e;stroke-linecap:square;stroke-width:1.5;\"/>\n   </g>\n   <g id=\"patch_3\">\n    <path d=\"M 30.103125 203.04 \nL 30.103125 7.2 \n\" style=\"fill:none;stroke:#000000;stroke-linecap:square;stroke-linejoin:miter;stroke-width:0.8;\"/>\n   </g>\n   <g id=\"patch_4\">\n    <path d=\"M 1257.703125 203.04 \nL 1257.703125 7.2 \n\" style=\"fill:none;stroke:#000000;stroke-linecap:square;stroke-linejoin:miter;stroke-width:0.8;\"/>\n   </g>\n   <g id=\"patch_5\">\n    <path d=\"M 30.103125 203.04 \nL 1257.703125 203.04 \n\" style=\"fill:none;stroke:#000000;stroke-linecap:square;stroke-linejoin:miter;stroke-width:0.8;\"/>\n   </g>\n   <g id=\"patch_6\">\n    <path d=\"M 30.103125 7.2 \nL 1257.703125 7.2 \n\" style=\"fill:none;stroke:#000000;stroke-linecap:square;stroke-linejoin:miter;stroke-width:0.8;\"/>\n   </g>\n   <g id=\"legend_1\">\n    <g id=\"patch_7\">\n     <path d=\"M 37.103125 44.55625 \nL 96.345312 44.55625 \nQ 98.345312 44.55625 98.345312 42.55625 \nL 98.345312 14.2 \nQ 98.345312 12.2 96.345312 12.2 \nL 37.103125 12.2 \nQ 35.103125 12.2 35.103125 14.2 \nL 35.103125 42.55625 \nQ 35.103125 44.55625 37.103125 44.55625 \nz\n\" style=\"fill:#ffffff;opacity:0.8;stroke:#cccccc;stroke-linejoin:miter;\"/>\n    </g>\n    <g id=\"line2d_16\">\n     <path d=\"M 39.103125 20.298437 \nL 59.103125 20.298437 \n\" style=\"fill:none;stroke:#1f77b4;stroke-linecap:square;stroke-opacity:0.6;stroke-width:1.5;\"/>\n    </g>\n    <g id=\"line2d_17\"/>\n    <g id=\"text_15\">\n     <!-- Close -->\n     <defs>\n      <path d=\"M 64.40625 67.28125 \nL 64.40625 56.890625 \nQ 59.421875 61.53125 53.78125 63.8125 \nQ 48.140625 66.109375 41.796875 66.109375 \nQ 29.296875 66.109375 22.65625 58.46875 \nQ 16.015625 50.828125 16.015625 36.375 \nQ 16.015625 21.96875 22.65625 14.328125 \nQ 29.296875 6.6875 41.796875 6.6875 \nQ 48.140625 6.6875 53.78125 8.984375 \nQ 59.421875 11.28125 64.40625 15.921875 \nL 64.40625 5.609375 \nQ 59.234375 2.09375 53.4375 0.328125 \nQ 47.65625 -1.421875 41.21875 -1.421875 \nQ 24.65625 -1.421875 15.125 8.703125 \nQ 5.609375 18.84375 5.609375 36.375 \nQ 5.609375 53.953125 15.125 64.078125 \nQ 24.65625 74.21875 41.21875 74.21875 \nQ 47.75 74.21875 53.53125 72.484375 \nQ 59.328125 70.75 64.40625 67.28125 \nz\n\" id=\"DejaVuSans-67\"/>\n      <path d=\"M 9.421875 75.984375 \nL 18.40625 75.984375 \nL 18.40625 0 \nL 9.421875 0 \nz\n\" id=\"DejaVuSans-108\"/>\n      <path d=\"M 30.609375 48.390625 \nQ 23.390625 48.390625 19.1875 42.75 \nQ 14.984375 37.109375 14.984375 27.296875 \nQ 14.984375 17.484375 19.15625 11.84375 \nQ 23.34375 6.203125 30.609375 6.203125 \nQ 37.796875 6.203125 41.984375 11.859375 \nQ 46.1875 17.53125 46.1875 27.296875 \nQ 46.1875 37.015625 41.984375 42.703125 \nQ 37.796875 48.390625 30.609375 48.390625 \nz\nM 30.609375 56 \nQ 42.328125 56 49.015625 48.375 \nQ 55.71875 40.765625 55.71875 27.296875 \nQ 55.71875 13.875 49.015625 6.21875 \nQ 42.328125 -1.421875 30.609375 -1.421875 \nQ 18.84375 -1.421875 12.171875 6.21875 \nQ 5.515625 13.875 5.515625 27.296875 \nQ 5.515625 40.765625 12.171875 48.375 \nQ 18.84375 56 30.609375 56 \nz\n\" id=\"DejaVuSans-111\"/>\n      <path d=\"M 44.28125 53.078125 \nL 44.28125 44.578125 \nQ 40.484375 46.53125 36.375 47.5 \nQ 32.28125 48.484375 27.875 48.484375 \nQ 21.1875 48.484375 17.84375 46.4375 \nQ 14.5 44.390625 14.5 40.28125 \nQ 14.5 37.15625 16.890625 35.375 \nQ 19.28125 33.59375 26.515625 31.984375 \nL 29.59375 31.296875 \nQ 39.15625 29.25 43.1875 25.515625 \nQ 47.21875 21.78125 47.21875 15.09375 \nQ 47.21875 7.46875 41.1875 3.015625 \nQ 35.15625 -1.421875 24.609375 -1.421875 \nQ 20.21875 -1.421875 15.453125 -0.5625 \nQ 10.6875 0.296875 5.421875 2 \nL 5.421875 11.28125 \nQ 10.40625 8.6875 15.234375 7.390625 \nQ 20.0625 6.109375 24.8125 6.109375 \nQ 31.15625 6.109375 34.5625 8.28125 \nQ 37.984375 10.453125 37.984375 14.40625 \nQ 37.984375 18.0625 35.515625 20.015625 \nQ 33.0625 21.96875 24.703125 23.78125 \nL 21.578125 24.515625 \nQ 13.234375 26.265625 9.515625 29.90625 \nQ 5.8125 33.546875 5.8125 39.890625 \nQ 5.8125 47.609375 11.28125 51.796875 \nQ 16.75 56 26.8125 56 \nQ 31.78125 56 36.171875 55.265625 \nQ 40.578125 54.546875 44.28125 53.078125 \nz\n\" id=\"DejaVuSans-115\"/>\n     </defs>\n     <g transform=\"translate(67.103125 23.798437)scale(0.1 -0.1)\">\n      <use xlink:href=\"#DejaVuSans-67\"/>\n      <use x=\"69.824219\" xlink:href=\"#DejaVuSans-108\"/>\n      <use x=\"97.607422\" xlink:href=\"#DejaVuSans-111\"/>\n      <use x=\"158.789062\" xlink:href=\"#DejaVuSans-115\"/>\n      <use x=\"210.888672\" xlink:href=\"#DejaVuSans-101\"/>\n     </g>\n    </g>\n    <g id=\"line2d_18\">\n     <path d=\"M 39.103125 34.976562 \nL 59.103125 34.976562 \n\" style=\"fill:none;stroke:#ff7f0e;stroke-linecap:square;stroke-width:1.5;\"/>\n    </g>\n    <g id=\"line2d_19\"/>\n    <g id=\"text_16\">\n     <!-- Low -->\n     <defs>\n      <path d=\"M 9.8125 72.90625 \nL 19.671875 72.90625 \nL 19.671875 8.296875 \nL 55.171875 8.296875 \nL 55.171875 0 \nL 9.8125 0 \nz\n\" id=\"DejaVuSans-76\"/>\n      <path d=\"M 4.203125 54.6875 \nL 13.1875 54.6875 \nL 24.421875 12.015625 \nL 35.59375 54.6875 \nL 46.1875 54.6875 \nL 57.421875 12.015625 \nL 68.609375 54.6875 \nL 77.59375 54.6875 \nL 63.28125 0 \nL 52.6875 0 \nL 40.921875 44.828125 \nL 29.109375 0 \nL 18.5 0 \nz\n\" id=\"DejaVuSans-119\"/>\n     </defs>\n     <g transform=\"translate(67.103125 38.476562)scale(0.1 -0.1)\">\n      <use xlink:href=\"#DejaVuSans-76\"/>\n      <use x=\"55.697266\" xlink:href=\"#DejaVuSans-111\"/>\n      <use x=\"116.878906\" xlink:href=\"#DejaVuSans-119\"/>\n     </g>\n    </g>\n   </g>\n  </g>\n </g>\n <defs>\n  <clipPath id=\"pd20dbacc84\">\n   <rect height=\"195.84\" width=\"1227.6\" x=\"30.103125\" y=\"7.2\"/>\n  </clipPath>\n </defs>\n</svg>\n",
      "image/png": "[encoded data removed]"
     },
     "metadata": {
      "needs_background": "light"
     }
    }
   ],
   "source": [
    "df_2['HiWin'] = df_2.High.rolling(2).max()\n",
    "df_2.HiWin.plot(figsize=(22,4),label='Close',alpha=0.6)\n",
    "df_2.Low.plot()\n",
    "#df_2.HiWin.plot(alpha=0.4)\n",
    "#df_2.MMA200.plot(alpha=0.6)\n",
    "#plt.scatter(x=df_2[df_2.Signal==1].index,y=df_2[df_2.Signal==1].Close,color='green',marker='o')\n",
    "#df_2.High.plot(alpha=0.5)\n",
    "#df_2.Low.plot()\n",
    "#plt.scatter(x=df_2[df_2.SigRSI==1].index,y=df_2[df_2.SigRSI==1].Close,color='green',marker='^')\n",
    "\n",
    "#plt.scatter(x=df_2[df_2.SigRSI==-1].index,y=df_2[df_2.SigRSI==-1].Close,color='red',marker='v')\n",
    "\n",
    "plt.legend()"
   ]
  },
  {
   "cell_type": "code",
   "execution_count": 55,
   "metadata": {},
   "outputs": [],
   "source": [
    "\n"
   ]
  },
  {
   "cell_type": "code",
   "execution_count": 43,
   "metadata": {},
   "outputs": [
    {
     "output_type": "stream",
     "name": "stdout",
     "text": [
      "\u001b[34m Support Vector Machine pour \u001b[33m EUR/USD \u001b[0m\nSignaux achat Counter({0: 3013, 1: 22})\n\u001b[34m Achat pour \u001b[33m EUR/USD \u001b[0m\n\u001b[32m\nAchat - Accuracy : 99.34 %\nAchat - Precision : 100.0 %\nAchat - Recall : 6.67 %\nAchat - F-measure: : 12.5 % \u001b[0m\n\n\n              precision    recall  f1-score   support\n\n           0       0.99      1.00      1.00      2110\n           1       1.00      0.07      0.12        15\n\n    accuracy                           0.99      2125\n   macro avg       1.00      0.53      0.56      2125\nweighted avg       0.99      0.99      0.99      2125\n\n[[2110    0]\n [  14    1]]\n\n\n\u001b[34m Joblib Model  JOBLIB/svm/SaveEURUSDm5.sav  dumped to disk \u001b[0m\nBest Threshold=1.000000, F-Score=0.125\n"
     ]
    }
   ],
   "source": [
    "from collections import Counter\n",
    "from sklearn.model_selection import train_test_split\n",
    "from sklearn.metrics import accuracy_score\n",
    "from sklearn.metrics import precision_score\n",
    "from sklearn.metrics import recall_score\n",
    "from sklearn.metrics import precision_recall_curve\n",
    "from sklearn.metrics import confusion_matrix,classification_report\n",
    "from sklearn import svm\n",
    "from sklearn.metrics import f1_score\n",
    "from sklearn.metrics import roc_curve\n",
    "from matplotlib import pyplot as plt\n",
    "from numpy import sqrt\n",
    "from numpy import argmax\n",
    "import colorama as col\n",
    "from collections import Counter\n",
    "import joblib\n",
    "\n",
    "import pyttsx3\n",
    "engine = pyttsx3.init()\n",
    "\n",
    "import configparser\n",
    "config = configparser.ConfigParser()\n",
    "print(col.Fore.BLUE,'Support Vector Machine pour',col.Fore.YELLOW,x,col.Style.RESET_ALL)\n",
    "\n",
    "### Isolation de la partie out of sample ####\n",
    "\n",
    "#df.iloc[-int(len(df) * 0.2):,:].to_csv(_path5+x.replace('/','')+_period1+'.csv')\n",
    "\n",
    "#print(df.head())\n",
    "\n",
    "Xb = df_2.copy()\n",
    "try:\n",
    "    Xb = Xb.set_index(Xb.Date, drop =True)\n",
    "except:\n",
    "    pass\n",
    "yb = Xb['Signal']\n",
    "Xb = Xb.loc[:, Xb.columns != 'Signal']\n",
    "\n",
    "# summarize class distribution\n",
    "counterb = Counter(yb)\n",
    "\n",
    "print('Signaux achat',counterb)\n",
    "#print(counterb[-1],counterb[1])\n",
    "\n",
    "if counterb[1] > 2 and counterb[0] > 2:\n",
    "\n",
    "    # split into train/test sets with same class ratio\n",
    "    trainXb, testXb, trainyb, testyb = train_test_split(Xb, yb, test_size=0.7, stratify=yb)\n",
    "    # define model\n",
    "    model = svm.SVC(kernel='rbf',random_state=770)\n",
    "    # fit model\n",
    "    model.fit(trainXb, trainyb)\n",
    "    # predict on test set\n",
    "    yhatb = model.predict(testXb)\n",
    "    # evaluate predictions\n",
    "    accub = round(accuracy_score(testyb, yhatb) * 100,2)\n",
    "    precb = round(precision_score(testyb, yhatb) * 100,2)\n",
    "    recallb = round(recall_score(testyb, yhatb) * 100,2)\n",
    "    f1b = round(f1_score(testyb, yhatb) * 100,2)\n",
    "\n",
    "    print(col.Fore.BLUE,'Achat pour',col.Fore.YELLOW,x,col.Style.RESET_ALL)\n",
    "    if accub > 69 and precb > 69 :\n",
    "        print(col.Fore.GREEN)\n",
    "    elif accub < 51 or precb < 51 :\n",
    "        print(col.Fore.RED)\n",
    "    else:\n",
    "        print(col.Fore.YELLOW)\n",
    "\n",
    "    print('Achat - Accuracy :' ,accub,'%')\n",
    "    print('Achat - Precision :',precb,'%')\n",
    "    print('Achat - Recall :', recallb,'%')\n",
    "    print('Achat - F-measure: :' ,f1b,'%',col.Style.RESET_ALL)\n",
    "    print('\\n')\n",
    "    \n",
    "    print(classification_report(testyb, yhatb))\n",
    "    conf_matrix = pd.DataFrame(index = ['vrais_réels','Faux_réels'])\n",
    "    conf_matrix['Vrais_estimés'] = ['Vrais_positifs','Faux_positifs']\n",
    "    conf_matrix['Faux_estimés'] = ['Faux_négatif','Vrais-négatifs']\n",
    "    print(confusion_matrix(testyb, yhatb))\n",
    "    print('\\n')\n",
    "\n",
    "    savename = 'JOBLIB/'+_model+'/Save'+x.replace('/','')+'m5.sav'\n",
    "    \n",
    "    # some time later...\n",
    "    \n",
    "    # load the model from disk\n",
    "    #loaded_model = joblib.load(filename)\n",
    "    #result = loaded_model.score(X_test, Y_test)\n",
    "    #print(result)\n",
    "\n",
    "    # serialize model to JOBLIB\n",
    "    joblib.dump(model, savename)\n",
    "    print(col.Fore.BLUE,\"Joblib Model \",savename,\" dumped to disk\",col.Style.RESET_ALL)\n",
    "    \n",
    "    precisionb, recallb, thresholdsb = precision_recall_curve(testyb, yhatb)\n",
    "    # plot the roc curve for the model\n",
    "    no_skillb= len(testyb[testyb==1]) / len(testyb)\n",
    "\n",
    "    # convert to f score\n",
    "    fscoreb = (2 * precisionb * recallb) / (precisionb + recallb)\n",
    "    # locate the index of the largest f score\n",
    "    ixb = argmax(fscoreb)\n",
    "    print('Best Threshold=%f, F-Score=%.3f' % (thresholdsb[ixb], fscoreb[ixb]))\n",
    "    if _verbose == 1:\n",
    "        plt.ion()\n",
    "        plt.figure(figsize=(12,4))\n",
    "        plt.suptitle('Recall_Precision Curve la dataframe')\n",
    "        plt.plot([0,1], [no_skillb,no_skillb], linestyle='--', label='No Skill')\n",
    "        plt.plot(recallb, precisionb, marker='.', label='Logistic')\n",
    "        plt.scatter(recallb[ixb], precisionb[ixb], marker='o', color='black', label='Best')\n",
    "        # axis labels\n",
    "        plt.xlabel('Recall')\n",
    "        plt.ylabel('Precision')\n",
    "        plt.legend()\n",
    "        # show the plot\n",
    "        plt.show()\n",
    "\n",
    "else:\n",
    "    print(col.Fore.RED,'Not enough populated for',col.Fore.YELLOW,x,col.Style.RESET_ALL)"
   ]
  },
  {
   "cell_type": "code",
   "execution_count": null,
   "metadata": {},
   "outputs": [],
   "source": [
    "%%time\n",
    "_year_bottom = pd.to_datetime('2020-05-23 16:00:00')\n",
    "_year_top = pd.to_datetime('2020-11-23 16:00:00') #2020-11-23 16:00:00\n",
    "\n",
    "df_bt = base[(base.index>=_year_bottom)&(base.index<=_year_top)]\n",
    "\n",
    "df['RSI2'] = talib.RSI(df.Close,timeperiod=2)\n",
    "df['MMA200'] = talib.EMA(df.Close,timeperiod=80)\n",
    "upper, middle, lower = talib.BBANDS(df.Close, timeperiod=10, nbdevup=2, nbdevdn=2)\n",
    "\n",
    "df['Signal'] = np.where(\\\n",
    "    ((df.RSI2 < 5)&(df.Close>df.MMA200)),1,\\\n",
    "        np.where(\\\n",
    "            ((df.RSI2 > 95)&(df.Close<df.MMA200)),-1,0)\n",
    ")\n",
    "\n"
   ]
  }
 ]
}