{
 "metadata": {
  "language_info": {
   "codemirror_mode": {
    "name": "ipython",
    "version": 3
   },
   "file_extension": ".py",
   "mimetype": "text/x-python",
   "name": "python",
   "nbconvert_exporter": "python",
   "pygments_lexer": "ipython3",
   "version": "3.8.5-final"
  },
  "orig_nbformat": 2,
  "kernelspec": {
   "name": "python3",
   "display_name": "Python 3.8.5 64-bit ('DataSciences': conda)",
   "metadata": {
    "interpreter": {
     "hash": "7f9c69b77f8cb78a9d8b8acc2d09c3972908e6673afd8bfd04ee2f6acaaac495"
    }
   }
  }
 },
 "nbformat": 4,
 "nbformat_minor": 2,
 "cells": [
  {
   "cell_type": "code",
   "execution_count": 20,
   "metadata": {},
   "outputs": [
    {
     "output_type": "stream",
     "name": "stdout",
     "text": [
      "Ready\n"
     ]
    }
   ],
   "source": [
    "import pandas as pd\n",
    "import numpy as np\n",
    "import time\n",
    "from matplotlib import pyplot as plt\n",
    "import datetime as dt\n",
    "import talib\n",
    "from tqdm import tqdm\n",
    "import colorama as col\n",
    "from bt import *\n",
    "from sklearn.preprocessing import *\n",
    "from sklearn.pipeline import Pipeline\n",
    "\n",
    "print('Ready')"
   ]
  },
  {
   "cell_type": "code",
   "execution_count": 19,
   "metadata": {},
   "outputs": [
    {
     "output_type": "stream",
     "name": "stdout",
     "text": [
      "CPU times: user 1.38 s, sys: 116 ms, total: 1.5 s\nWall time: 1.49 s\n"
     ]
    }
   ],
   "source": [
    "%%time\n",
    "##### Chargement de la base\n",
    "base = pd.read_csv('Base_Clean/EURUSDm5.csv')\n",
    "\n",
    "##### On fixe la date en index sous forme de Timestamp\n",
    "base.set_index(pd.to_datetime(base.Date),drop=True,inplace=True)\n",
    "\n",
    "###### On drop les colonnes inutiles\n",
    "base = base.drop(['Date','Total'],axis=1)\n",
    "\n",
    "##### On enlève les jours correspondant au samedi et au dimanche\n",
    "base['WE'] = np.where(((base.index.weekday == 5) | (base.index.weekday == 6)),None,base.index.weekday)\n",
    "base = base.dropna()\n",
    "base = base.drop(['WE'],axis=1)\n"
   ]
  },
  {
   "cell_type": "code",
   "execution_count": 6,
   "metadata": {},
   "outputs": [
    {
     "output_type": "execute_result",
     "data": {
      "text/plain": [
       "(Timestamp('2010-11-23 00:00:00'), Timestamp('2020-11-23 15:40:00'))"
      ]
     },
     "metadata": {},
     "execution_count": 6
    }
   ],
   "source": [
    "base.index[0],base.index[-1]"
   ]
  },
  {
   "cell_type": "code",
   "execution_count": 7,
   "metadata": {},
   "outputs": [
    {
     "output_type": "stream",
     "name": "stdout",
     "text": [
      "CPU times: user 19.9 ms, sys: 10.7 ms, total: 30.5 ms\nWall time: 29.3 ms\n"
     ]
    }
   ],
   "source": [
    "%%time\n",
    "_year_bottom = pd.to_datetime('2011-01-01 16:00:00')\n",
    "_year_top = pd.to_datetime('2015-12-31 16:00:00') #2020-11-23 16:00:00\n",
    "\n",
    "df = base[(base.index>=_year_bottom)&(base.index<=_year_top)]"
   ]
  },
  {
   "cell_type": "code",
   "execution_count": 8,
   "metadata": {},
   "outputs": [],
   "source": [
    "df['HiWin'] = df.High.rolling(10).max()\n",
    "df['LoWin'] = df.Low.rolling(10).min()\n",
    "df['JyssOscUp'] = ((df.HiWin-df.HiWin.shift(2))/df.HiWin.shift(2))*1000\n",
    "df['JyssOscUpSD'] = df.JyssOscUp.rolling(20).std()\n",
    "df['JyssOscDwn'] = ((df.LoWin-df.LoWin.shift(2))/df.LoWin.shift(2))*1000\n",
    "df['JyssOscDwnSD'] = df.JyssOscDwn.rolling(20).std()\n",
    "df['TriggerBull'] = (df.HiWin - df.HiWin.shift(2)) * 1000\n",
    "df['TriggerBear'] = (df.LoWin - df.LoWin.shift(2)) * 1000\n",
    "df['Trigger'] = np.where((df.LoWin - df.LoWin.shift(9) == 0),1,np.where((df.HiWin - df.HiWin.shift(9) == 0 ),1,0))"
   ]
  },
  {
   "cell_type": "code",
   "execution_count": 9,
   "metadata": {},
   "outputs": [],
   "source": [
    "df['Signal'] = np.where(\\\n",
    "    ((df.Close <= 1.01*df.LoWin)&(df.JyssOscUp <= -4*df.JyssOscUpSD)),1,\\\n",
    "        np.where(\\\n",
    "            ((df.Close >= 0.99*df.HiWin)&(df.JyssOscDwn >= 4*df.JyssOscDwnSD)),-1,0)\n",
    ")\n"
   ]
  },
  {
   "cell_type": "code",
   "execution_count": null,
   "metadata": {},
   "outputs": [],
   "source": []
  },
  {
   "cell_type": "code",
   "execution_count": 10,
   "metadata": {},
   "outputs": [
    {
     "output_type": "stream",
     "name": "stdout",
     "text": [
      "Librairies imported\n",
      "\n",
      "Début des opérations horodatée à 2020-12-23 20:04:16.979173\n",
      "\n",
      "Chargement de la nouvelle base\n",
      "\n",
      "\n",
      "\u001b[35m Le rate du ticker EUR/USD est à  1 \u001b[0m\n",
      "Bases chargées\n",
      "TETEL process effectué\n",
      "\u001b[36m ENTERING THE BACKTEST \u001b[0m\n",
      "100%|██████████| 369102/369102 [00:11<00:00, 31393.29it/s]\n",
      "\u001b[34m Pour le ticker \u001b[33m EUR/USD \u001b[0m\n",
      "\u001b[35m \n",
      "Les gains faramineux s'élèvent à : $ \u001b[31m -2981.0 !. En  1899 \u001b[0m  transactions.\n",
      "\u001b[32m \n",
      "Nbre de winners : 1035 \u001b[0m\n",
      "\u001b[31m \n",
      "Nbre de loosers : 864 \u001b[0m\n",
      "Temps d'excution du BT 0:00:18.310665\n",
      "\u001b[33m EUR/USD \u001b[34m results \u001b[0m\n",
      "\u001b[35m Tested Period 2011-01-01 16:00:00  à 2015-12-31 16:00:00 \u001b[0m\n",
      "\u001b[36m Total Number of trades 1899 \u001b[0m\n",
      "Started Cash : 50000\n",
      "P&L in currency: \u001b[31m -2981.0$ \u001b[0m\n",
      "P&L in %: \u001b[31m -1.49% \u001b[0m\n",
      "Average trade duration 58.02\n",
      "# Winners  1035.0\n",
      "# Loosers  864.0\n",
      "Cumulated gains 110448.0\n",
      "Cumulated losses -113429.0\n",
      "\u001b[34m PROFIT FACTOR :  0.97 \u001b[0m\n",
      "\u001b[36m Winners Ratio : 54.5 % \u001b[0m\n",
      "Average Winners 107.13\n",
      "% Average Winners 0.05\n",
      "Average Loosers -131.28\n",
      "% Average Loosers -0.07\n",
      "Average pnl -1.57\n",
      "% Average pnl -0.0\n",
      "Number of opened trades 1899\n",
      "Number of closed trades 1899\n",
      "Max Exposure 1 x  50000 =  50000 $\n"
     ]
    }
   ],
   "source": [
    "_nb_bougie_exit = 70\n",
    "_trigger_reengage = 0\n",
    "_trigger_target = 1\n",
    "_trigger_invers = 0\n",
    "_trigger_sl = 0\n",
    "_verbose = 0\n",
    "_cash_ini = 200000\n",
    "_rate = 1\n",
    "x = 'EUR/USD'\n",
    "_target = 0.002\n",
    "_exposure = 3\n",
    "_size = 50000\n",
    "_sl = 0.002\n",
    "TRACKER = bt(df,_year_bottom,_year_top,_nb_bougie_exit,_trigger_reengage,_trigger_target,_trigger_invers,_trigger_sl,_verbose,_cash_ini,\\\n",
    "        _rate,x,_target,_exposure,_size,_sl)"
   ]
  },
  {
   "cell_type": "code",
   "execution_count": 11,
   "metadata": {},
   "outputs": [
    {
     "output_type": "execute_result",
     "data": {
      "text/plain": [
       "1040"
      ]
     },
     "metadata": {},
     "execution_count": 11
    }
   ],
   "source": [
    "len(TRACKER)"
   ]
  },
  {
   "cell_type": "code",
   "execution_count": 12,
   "metadata": {},
   "outputs": [
    {
     "output_type": "stream",
     "name": "stderr",
     "text": [
      "100%|██████████| 369132/369132 [00:23<00:00, 15752.28it/s]\n",
      "CPU times: user 23.6 s, sys: 263 ms, total: 23.8 s\n",
      "Wall time: 23.8 s\n"
     ]
    }
   ],
   "source": [
    "%%time\n",
    "scaler = MinMaxScaler((0,1))\n",
    "df_2 = df.copy()\n",
    "df_2['RSI2'] = talib.RSI(df_2.Close,timeperiod=2)\n",
    "df_2['MMA200'] = talib.EMA(df_2.Close,timeperiod=200)\n",
    "upper, middle, lower = talib.BBANDS(df_2.Close, timeperiod=10, nbdevup=2, nbdevdn=2)\n",
    "df_2['SBVol'] = upper - lower\n",
    "df_2['MMA55'] = talib.EMA(df_2.Close,timeperiod=55)\n",
    "df_2['MMA80'] = talib.EMA(df_2.Close,timeperiod=80)\n",
    "df_2['RSI14'] = talib.RSI(df_2.Close,timeperiod=14)\n",
    "\n",
    "ar_up,ar_low = talib.AROON(df_2.High,df_2.Low,10)\n",
    "df_2['AR_HI'] = ar_up\n",
    "df_2['AR_LO'] = ar_low\n",
    "df_2['AROON'] = ar_up - ar_low\n",
    "\n",
    "#df_2 = df_2.drop(['SignalClose'],axis=1)\n",
    "\n",
    "df_2.rename(columns = {'Signal':'SigO4bt'}, inplace = True)\n",
    "SIGNAL = []\n",
    "SIGNAL = [1 if ((df_2['SigO4bt'][i] != 0) & (df_2.index[i] in TRACKER)) else 0 for i in tqdm(range(len(df_2)))]\n",
    "df_2['Signal'] = SIGNAL\n",
    "\n",
    "df_2 = df_2.dropna()\n",
    "\n",
    "df_2 = df_2.sort_index(axis=1)\n"
   ]
  },
  {
   "cell_type": "code",
   "execution_count": 13,
   "metadata": {},
   "outputs": [
    {
     "output_type": "stream",
     "name": "stdout",
     "text": [
      "<class 'pandas.core.frame.DataFrame'>\nDatetimeIndex: 368933 entries, 2011-01-03 16:35:00 to 2015-12-31 16:00:00\nData columns (total 34 columns):\n #   Column        Non-Null Count   Dtype  \n---  ------        --------------   -----  \n 0   AROON         368933 non-null  float64\n 1   AR_HI         368933 non-null  float64\n 2   AR_LO         368933 non-null  float64\n 3   Close         368933 non-null  float64\n 4   CloseAsk      368933 non-null  float64\n 5   CloseBid      368933 non-null  float64\n 6   HiWin         368933 non-null  float64\n 7   HigMax        368933 non-null  float64\n 8   High          368933 non-null  float64\n 9   HighAsk       368933 non-null  float64\n 10  HighBid       368933 non-null  float64\n 11  JyssOscDwn    368933 non-null  float64\n 12  JyssOscDwnSD  368933 non-null  float64\n 13  JyssOscUp     368933 non-null  float64\n 14  JyssOscUpSD   368933 non-null  float64\n 15  LoWin         368933 non-null  float64\n 16  Low           368933 non-null  float64\n 17  LowAsk        368933 non-null  float64\n 18  LowBid        368933 non-null  float64\n 19  LowMin        368933 non-null  float64\n 20  MMA200        368933 non-null  float64\n 21  MMA55         368933 non-null  float64\n 22  MMA80         368933 non-null  float64\n 23  Open          368933 non-null  float64\n 24  OpenAsk       368933 non-null  float64\n 25  OpenBid       368933 non-null  float64\n 26  RSI14         368933 non-null  float64\n 27  RSI2          368933 non-null  float64\n 28  SBVol         368933 non-null  float64\n 29  SigO4bt       368933 non-null  int64  \n 30  Signal        368933 non-null  int64  \n 31  Trigger       368933 non-null  int64  \n 32  TriggerBear   368933 non-null  float64\n 33  TriggerBull   368933 non-null  float64\ndtypes: float64(31), int64(3)\nmemory usage: 98.5 MB\n"
     ]
    }
   ],
   "source": [
    "df_2.info()"
   ]
  },
  {
   "cell_type": "code",
   "execution_count": 14,
   "metadata": {},
   "outputs": [
    {
     "output_type": "stream",
     "name": "stdout",
     "text": [
      "CPU times: user 12.8 ms, sys: 1.99 ms, total: 14.8 ms\nWall time: 14.3 ms\n"
     ]
    }
   ],
   "source": [
    "%%time\n",
    "poly = PolynomialFeatures(3)\n",
    "df_2['_AROON'] = poly.fit_transform(\n",
    "    X = df_2['AROON'].values.reshape(-1,1),\n",
    "    y = df_2['Signal']\n",
    "    )[:,3]"
   ]
  },
  {
   "cell_type": "code",
   "execution_count": 15,
   "metadata": {},
   "outputs": [],
   "source": [
    "_C = 1.0\n",
    "# Regularization parameter. The strength of the regularization is inversely proportional to C. Must be strictly positive. The penalty is a squared l2 penalty.\n",
    "\n",
    "_kernel = 'poly'\n",
    "#{‘linear’, ‘poly’, ‘rbf’, ‘sigmoid’, ‘precomputed’}, default=’rbf’\n",
    "#Specifies the kernel type to be used in the algorithm. It must be one of ‘linear’, ‘poly’, ‘rbf’, ‘sigmoid’, ‘precomputed’ or a callable. If none is given, ‘rbf’ will be used. If a callable is given it is used to pre-compute the kernel matrix from data matrices; that matrix should be an array of shape (n_samples, n_samples).\n",
    "\n",
    "_degree = 3\n",
    "#int, default=3\n",
    "#Degree of the polynomial kernel function (‘poly’). Ignored by all other kernels.\n",
    "\n",
    "_gamma = 'scale'\n",
    "#{‘scale’, ‘auto’} or float, default=’scale’\n",
    "#Kernel coefficient for ‘rbf’, ‘poly’ and ‘sigmoid’.\n",
    "\n",
    "#if gamma='scale' (default) is passed then it uses 1 / (n_features * X.var()) as value of gamma,\n",
    "#if ‘auto’, uses 1 / n_features.\n",
    "#Changed in version 0.22: The default value of gamma changed from ‘auto’ to ‘scale’.\n",
    "_coef = 0.0\n",
    "#0float, default=0.0\n",
    "#Independent term in kernel function. It is only significant in ‘poly’ and ‘sigmoid’.\n",
    "\n",
    "_shrinking = True\n",
    "#bool, default=True\n",
    "#Whether to use the shrinking heuristic. See the User Guide.\n",
    "\n",
    "_probability = False\n",
    "#bool, default=False\n",
    "#Whether to enable probability estimates. This must be enabled prior to calling fit, will slow down that method as it internally uses 5-fold cross-validation, and predict_proba may be inconsistent with predict. Read more in the User Guide.\n",
    "\n",
    "_tol = 0.003\n",
    "#float, default=1e-3\n",
    "#Tolerance for stopping criterion.\n",
    "\n",
    "_cache_size = 200 \n",
    "# float, default=200\n",
    "#Specify the size of the kernel cache (in MB).\n",
    "\n",
    "_class_weight = None\n",
    "#dict or ‘balanced’, default=None\n",
    "#Set the parameter C of class i to class_weight[i]*C for SVC. If not given, all classes are supposed to have weight one. The “balanced” mode uses the values of y to automatically adjust weights inversely proportional to class frequencies in the input data as n_samples / (n_classes * np.bincount(y))\n",
    "\n",
    "_verbose = False\n",
    "#bool, default=False\n",
    "#Enable verbose output. Note that this setting takes advantage of a per-process runtime setting in libsvm that, if enabled, may not work properly in a multithreaded context.\n",
    "\n",
    "_max_iter = -1\n",
    "#int, default=-1\n",
    "#Hard limit on iterations within solver, or -1 for no limit.\n",
    "\n",
    "_decision_function_shape = 'ovr'\n",
    "#{‘ovo’, ‘ovr’}, default=’ovr’\n",
    "#Whether to return a one-vs-rest (‘ovr’) decision function of shape (n_samples, n_classes) as all other classifiers, or the original one-vs-one (‘ovo’) decision function of libsvm which has shape (n_samples, n_classes * (n_classes - 1) / 2). However, one-vs-one (‘ovo’) is always used as multi-class strategy. The parameter is ignored for binary classification.\n",
    "\n",
    "#Changed in version 0.19: decision_function_shape is ‘ovr’ by default.\n",
    "#New in version 0.17: decision_function_shape=’ovr’ is recommended.\n",
    "\n",
    "#Changed in version 0.17: Deprecated decision_function_shape=’ovo’ and None.\n",
    "_break_ties = False\n",
    "#bool, default=False\n",
    "#If true, decision_function_shape='ovr', and number of classes > 2, predict will break ties according to the confidence values of decision_function; otherwise the first class among the tied classes is returned. Please note that breaking ties comes at a relatively high computational cost compared to a simple predict.\n",
    "\n",
    "#New in version 0.22.\n",
    "\n",
    "_random_state = 53\n",
    "#int or RandomState instance, default=None"
   ]
  },
  {
   "cell_type": "code",
   "execution_count": 16,
   "metadata": {},
   "outputs": [
    {
     "output_type": "error",
     "ename": "ModuleNotFoundError",
     "evalue": "No module named 'svm'",
     "traceback": [
      "\u001b[0;31m---------------------------------------------------------------------------\u001b[0m",
      "\u001b[0;31mModuleNotFoundError\u001b[0m                       Traceback (most recent call last)",
      "\u001b[0;32m<timed exec>\u001b[0m in \u001b[0;36m<module>\u001b[0;34m\u001b[0m\n",
      "\u001b[0;31mModuleNotFoundError\u001b[0m: No module named 'svm'"
     ]
    }
   ],
   "source": [
    "%%time\n",
    "from svm import modelize\n",
    "\n",
    "x = 'EUR/USD'\n",
    "_model = 'svm'\n",
    "\n",
    "modelize(df=df_2[df_2.SigO4bt != 0],x=x,_model=_model,_verb=0,C=_C, kernel=_kernel, degree=_degree, gamma=_gamma, coef0=_coef0, shrinking=_shrinking, probability=_probability, tol=_tol, cache_size=_cache_size, class_weight=_class_weight, verbose=_verbose, max_iter=_max_iter, decision_function_shape=_decision_function_shape, break_ties=_break_ties, random_state=_random_state)"
   ]
  },
  {
   "cell_type": "code",
   "execution_count": null,
   "metadata": {},
   "outputs": [],
   "source": []
  }
 ]
}