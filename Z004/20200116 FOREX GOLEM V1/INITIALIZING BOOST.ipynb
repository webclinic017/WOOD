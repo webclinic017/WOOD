{
 "cells": [
  {
   "cell_type": "code",
   "execution_count": 1,
   "metadata": {},
   "outputs": [
    {
     "name": "stdout",
     "output_type": "stream",
     "text": [
      "Importing Librairies...\n",
      "Librairies imported.\n",
      "\n"
     ]
    }
   ],
   "source": [
    "print('Importing Librairies...')\n",
    "import pandas as pd\n",
    "import time\n",
    "from colorama import Fore, Back, Style\n",
    "# XGBoost on Stock Price dataset, Tune n_estimators and max_depth\n",
    "from sklearn.model_selection import GridSearchCV\n",
    "from sklearn.model_selection import StratifiedKFold\n",
    "from sklearn.preprocessing import LabelEncoder\n",
    "from sklearn.metrics import accuracy_score, precision_score, recall_score, roc_auc_score,roc_curve,confusion_matrix,classification_report\n",
    "import matplotlib.pyplot as plt\n",
    "import matplotlib.dates as mdates\n",
    "import xgboost as xgb\n",
    "from xgboost import XGBRegressor, plot_importance\n",
    "import seaborn as sns\n",
    "%matplotlib inline\n",
    "plt.style.use('seaborn')\n",
    "import warnings\n",
    "import pickle\n",
    "warnings.filterwarnings(\"ignore\")\n",
    "#import tensorflow as tf\n",
    "#tf.logging.set_verbosity(tf.logging.ERROR)\n",
    "print('Librairies imported.')\n",
    "print('')"
   ]
  },
  {
   "cell_type": "code",
   "execution_count": 2,
   "metadata": {},
   "outputs": [],
   "source": [
    "LaDate = '2020-01-15'\n",
    "ticker = 'USDJPY'\n",
    "indice = 0.5\n",
    "try:\n",
    "    os.mkdir('DL_'+ticker+'-'+LaDate)\n",
    "except:\n",
    "    pass\n",
    "try:\n",
    "    os.mkdir('Boost_'+ticker+'-'+LaDate)\n",
    "except:\n",
    "    pass"
   ]
  },
  {
   "cell_type": "code",
   "execution_count": 3,
   "metadata": {},
   "outputs": [
    {
     "name": "stdout",
     "output_type": "stream",
     "text": [
      "DATE ORIGINELLE DU DEBUT DE TOUT... : 2003-05-04\n"
     ]
    }
   ],
   "source": [
    "# PARAMETRES TEMPORELS INITIAUX\n",
    "start = '2003-05-04'\n",
    "end = LaDate\n",
    "print('DATE ORIGINELLE DU DEBUT DE TOUT... :',start)\n",
    "error = []"
   ]
  },
  {
   "cell_type": "code",
   "execution_count": 4,
   "metadata": {},
   "outputs": [
    {
     "name": "stdout",
     "output_type": "stream",
     "text": [
      " - Date de début :  2003-05-04  - Date de fin :  2020-01-15\n",
      "\u001b[33m GENERATION DE LaBase : \u001b[35m 20:11:57\n",
      "\u001b[34m Time for complete Base Preparation = 0.140000 seconds \n",
      " \u001b[0m\n"
     ]
    },
    {
     "data": {
      "text/html": [
       "<div>\n",
       "<style scoped>\n",
       "    .dataframe tbody tr th:only-of-type {\n",
       "        vertical-align: middle;\n",
       "    }\n",
       "\n",
       "    .dataframe tbody tr th {\n",
       "        vertical-align: top;\n",
       "    }\n",
       "\n",
       "    .dataframe thead th {\n",
       "        text-align: right;\n",
       "    }\n",
       "</style>\n",
       "<table border=\"1\" class=\"dataframe\">\n",
       "  <thead>\n",
       "    <tr style=\"text-align: right;\">\n",
       "      <th></th>\n",
       "      <th>Open</th>\n",
       "      <th>High</th>\n",
       "      <th>Low</th>\n",
       "      <th>Close</th>\n",
       "      <th>Volume</th>\n",
       "    </tr>\n",
       "  </thead>\n",
       "  <tbody>\n",
       "    <tr>\n",
       "      <th>04-05-2003</th>\n",
       "      <td>118.940</td>\n",
       "      <td>119.046</td>\n",
       "      <td>118.461</td>\n",
       "      <td>118.603</td>\n",
       "      <td>592866.9024</td>\n",
       "    </tr>\n",
       "    <tr>\n",
       "      <th>05-05-2003</th>\n",
       "      <td>118.591</td>\n",
       "      <td>118.751</td>\n",
       "      <td>117.290</td>\n",
       "      <td>117.500</td>\n",
       "      <td>581706.9990</td>\n",
       "    </tr>\n",
       "    <tr>\n",
       "      <th>06-05-2003</th>\n",
       "      <td>117.456</td>\n",
       "      <td>117.830</td>\n",
       "      <td>116.052</td>\n",
       "      <td>116.303</td>\n",
       "      <td>584496.2120</td>\n",
       "    </tr>\n",
       "    <tr>\n",
       "      <th>07-05-2003</th>\n",
       "      <td>116.311</td>\n",
       "      <td>116.969</td>\n",
       "      <td>115.940</td>\n",
       "      <td>116.823</td>\n",
       "      <td>588236.7032</td>\n",
       "    </tr>\n",
       "    <tr>\n",
       "      <th>08-05-2003</th>\n",
       "      <td>116.835</td>\n",
       "      <td>117.612</td>\n",
       "      <td>116.794</td>\n",
       "      <td>117.151</td>\n",
       "      <td>583132.8985</td>\n",
       "    </tr>\n",
       "  </tbody>\n",
       "</table>\n",
       "</div>"
      ],
      "text/plain": [
       "               Open     High      Low    Close       Volume\n",
       "04-05-2003  118.940  119.046  118.461  118.603  592866.9024\n",
       "05-05-2003  118.591  118.751  117.290  117.500  581706.9990\n",
       "06-05-2003  117.456  117.830  116.052  116.303  584496.2120\n",
       "07-05-2003  116.311  116.969  115.940  116.823  588236.7032\n",
       "08-05-2003  116.835  117.612  116.794  117.151  583132.8985"
      ]
     },
     "execution_count": 4,
     "metadata": {},
     "output_type": "execute_result"
    }
   ],
   "source": [
    "print(' - Date de début : ',start,' - Date de fin : ',end)\n",
    "print(Fore.YELLOW,'GENERATION DE LaBase :',Fore.MAGENTA,time.strftime(\"%H:%M:%S\", time.localtime()))\n",
    "tmps55=time.time()\n",
    "LaBase = pd.read_csv('USDJPY.csv')\n",
    "df = LaBase\n",
    "\n",
    "INDEX = []\n",
    "for i in range(0,len(df)):\n",
    "    INDEX.append((str(df.iloc[i,0])[:2]+'-'+str(df.iloc[i,0])[3:5]+'-'+str(df.iloc[i,0])[6:10]))\n",
    "df.index = INDEX\n",
    "df = df.drop(['Local time'],axis=1)\n",
    "\n",
    "delta = round(df.shape[0])\n",
    "bloc1 = round(delta*0.75)\n",
    "bloc2 = delta - bloc1\n",
    "\n",
    "tmps22=round(time.time()-tmps55,2)\n",
    "print(Fore.BLUE,\"Time for complete Base Preparation = %f\" %tmps22,'seconds \\n',Style.RESET_ALL)\n",
    "#LaBasePrep.to_csv('LaBasePrep.csv')\n",
    "df.head()"
   ]
  },
  {
   "cell_type": "code",
   "execution_count": null,
   "metadata": {},
   "outputs": [
    {
     "name": "stdout",
     "output_type": "stream",
     "text": [
      "\u001b[33m GENERATION DU BOOST : \u001b[35m 20:11:59\n",
      "Fitting 3 folds for each of 10000 candidates, totalling 30000 fits\n"
     ]
    },
    {
     "name": "stderr",
     "output_type": "stream",
     "text": [
      "[Parallel(n_jobs=1)]: Using backend SequentialBackend with 1 concurrent workers.\n"
     ]
    }
   ],
   "source": [
    "print(Fore.YELLOW,'GENERATION DU BOOST :',Fore.MAGENTA,time.strftime(\"%H:%M:%S\", time.localtime()))\n",
    "tmps55=time.time()\n",
    "X = df.copy()\n",
    "X = X.drop(['Close'],axis=1)\n",
    "X['Close'] = df['Close']\n",
    "y = X.iloc[:,-1]\n",
    "Xtrain = X.iloc[:-2,:-1]\n",
    "Xtest = X.iloc[-2:-1,:-1]\n",
    "yshift = y.shift(-1)\n",
    "ytrain = yshift.iloc[:-2]\n",
    "ytest = yshift.iloc[-2:-1]\n",
    "\n",
    "#model = xgb.XGBRegressor(n_estimators=20000, learning_rate=1, gamma=1, subsample=1, colsample_bytree=1, max_depth=100,objective='reg:squarederror')\n",
    "\n",
    "#model.fit( Xtrain, ytrain, early_stopping_rounds=150, eval_set=[(Xtest, ytest)], verbose=0)\n",
    "\n",
    "#ytrain_pred = model.predict(Xtrain)\n",
    "\n",
    "#y_pred = model.predict(Xtest)\n",
    "\n",
    "#pred = model.predict(X.iloc[:,:-1])\n",
    "#pickle.dump(model, open('Boost_'+ticker+'-'+LaDate+'/'+ticker+'_boost.dat', \"wb\"))\n",
    "#df['Close.S'] = pred\n",
    "#tmps22=round(time.time()-tmps55,2)\n",
    "#print(Fore.BLUE,\"Time for complete BOOST GENERATION = %f\" %tmps22,'seconds \\n',Style.RESET_ALL)\n",
    "\n",
    "\n",
    "\n",
    "\n",
    "params = {'n_estimators':[100,100000],'min_child_weight':[4,5], 'gamma':[i/10.0 for i in range(1,6)],  'subsample':[i/10.0 for i in range(1,11)],\n",
    "'colsample_bytree':[i/10.0 for i in range(1,11)], 'max_depth': [1,10,50,100,500]}\n",
    "\n",
    "# Initialize XGB and GridSearch\n",
    "xgb = XGBRegressor(nthread=-1,objective='reg:squarederror') \n",
    "\n",
    "grid = GridSearchCV(xgb, params, verbose=1)\n",
    "grid.fit(Xtrain, ytrain)\n",
    "print('Done.')"
   ]
  },
  {
   "cell_type": "code",
   "execution_count": null,
   "metadata": {},
   "outputs": [],
   "source": [
    "from sklearn.metrics import mean_squared_error,r2_score\n",
    "mse = mean_squared_error(ytest, grid.predict(Xtest))\n",
    "print(\"MSE: %.4f\" % mse)\n",
    "\n",
    "# Print the r2 score\n",
    "print(r2_score(ytest, grid.best_estimator_.predict(Xtest))) "
   ]
  },
  {
   "cell_type": "code",
   "execution_count": null,
   "metadata": {},
   "outputs": [],
   "source": []
  },
  {
   "cell_type": "code",
   "execution_count": null,
   "metadata": {},
   "outputs": [],
   "source": []
  }
 ],
 "metadata": {
  "kernelspec": {
   "display_name": "Python 3",
   "language": "python",
   "name": "python3"
  },
  "language_info": {
   "codemirror_mode": {
    "name": "ipython",
    "version": 3
   },
   "file_extension": ".py",
   "mimetype": "text/x-python",
   "name": "python",
   "nbconvert_exporter": "python",
   "pygments_lexer": "ipython3",
   "version": "3.6.8"
  }
 },
 "nbformat": 4,
 "nbformat_minor": 4
}
