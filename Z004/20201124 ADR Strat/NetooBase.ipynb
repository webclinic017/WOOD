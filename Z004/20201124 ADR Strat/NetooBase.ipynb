{
 "metadata": {
  "language_info": {
   "codemirror_mode": {
    "name": "ipython",
    "version": 3
   },
   "file_extension": ".py",
   "mimetype": "text/x-python",
   "name": "python",
   "nbconvert_exporter": "python",
   "pygments_lexer": "ipython3",
   "version": "3.7.6-final"
  },
  "orig_nbformat": 2,
  "kernelspec": {
   "name": "python3",
   "display_name": "Python 3.7.6 64-bit ('FinTech': conda)",
   "metadata": {
    "interpreter": {
     "hash": "368096bf5c67b64f7235f072bcfb31703d805fe6f208ffd9e6f7c1070c0bd16b"
    }
   }
  }
 },
 "nbformat": 4,
 "nbformat_minor": 2,
 "cells": [
  {
   "cell_type": "code",
   "execution_count": 1,
   "metadata": {},
   "outputs": [],
   "source": [
    "###########################################################################################################################\n",
    "###########################################################################################################################\n",
    "###########################################################################################################################\n",
    "###########################################################################################################################\n",
    "###########################################################################################################################\n",
    "##############################      N E T O O B A S E      O N     F X C M      3      ####################################\n",
    "###########################################################################################################################\n",
    "###########################################################################################################################\n",
    "###########################################################################################################################\n",
    "###########################################################################################################################\n",
    "###########################################################################################################################"
   ]
  },
  {
   "cell_type": "code",
   "execution_count": 2,
   "metadata": {},
   "outputs": [],
   "source": [
    "# CLEAR VAR\n",
    "from clearall import clearall\n",
    "clearall()"
   ]
  },
  {
   "cell_type": "code",
   "execution_count": 3,
   "metadata": {
    "tags": []
   },
   "outputs": [
    {
     "output_type": "stream",
     "name": "stdout",
     "text": [
      "Début des opérations pour la timeframe m5\n",
      " \u001b[34m Reindexation de la base \u001b[33m EUR/USD \u001b[0m\n",
      "\n",
      " ===> Opération terminée. Tout est nettoyé et prêt à l'utilisation pour la time frame m5\n",
      "Début des opérations pour la timeframe H1\n",
      " \u001b[34m Reindexation de la base \u001b[33m EUR/USD \u001b[0m\n",
      "\n",
      " ===> Opération terminée. Tout est nettoyé et prêt à l'utilisation pour la time frame H1\n",
      "Début des opérations pour la timeframe D1\n",
      " \u001b[34m Reindexation de la base \u001b[33m EUR/USD \u001b[0m\n",
      "\n",
      " ===> Opération terminée. Tout est nettoyé et prêt à l'utilisation pour la time frame D1\n",
      "Début des opérations pour la timeframe W1\n",
      " \u001b[34m Reindexation de la base \u001b[33m EUR/USD \u001b[0m\n",
      "\n",
      " ===> Opération terminée. Tout est nettoyé et prêt à l'utilisation pour la time frame W1\n",
      "Début des opérations pour la timeframe M1\n",
      " \u001b[34m Reindexation de la base \u001b[33m EUR/USD \u001b[0m\n",
      "\n",
      " ===> Opération terminée. Tout est nettoyé et prêt à l'utilisation pour la time frame M1\n",
      "Début des opérations pour la timeframe m15\n",
      " \u001b[34m Reindexation de la base \u001b[33m EUR/USD \u001b[0m\n",
      "\n",
      " ===> Opération terminée. Tout est nettoyé et prêt à l'utilisation pour la time frame m15\n",
      "Début des opérations pour la timeframe m30\n",
      " \u001b[34m Reindexation de la base \u001b[33m EUR/USD \u001b[0m\n",
      "\n",
      " ===> Opération terminée. Tout est nettoyé et prêt à l'utilisation pour la time frame m30\n",
      "Début des opérations pour la timeframe H4\n",
      " \u001b[34m Reindexation de la base \u001b[33m EUR/USD \u001b[0m\n",
      "\n",
      " ===> Opération terminée. Tout est nettoyé et prêt à l'utilisation pour la time frame H4\n",
      "Temps d'excution du module 0:00:28.106833\n"
     ]
    },
    {
     "output_type": "execute_result",
     "data": {
      "text/plain": [
       "()"
      ]
     },
     "metadata": {},
     "execution_count": 3
    }
   ],
   "source": [
    "##### NETTOYAGE DES BASES POUR LES 3 TIMEFRAMEs (prévoir 16 min)\n",
    "\n",
    "from cleanbasefxcm import clean_base, scrap_ini\n",
    "import configparser\n",
    "\n",
    "config = configparser.ConfigParser()\n",
    "\n",
    "config.read('config.ini')\n",
    "_period1 = config.get('TIMEFRAME','_period1') # 'm5'\n",
    "_period2 = config.get('TIMEFRAME','_period2') # 'H1'\n",
    "_period3 = config.get('TIMEFRAME','_period3') # 'D1'\n",
    "_period4 = config.get('TIMEFRAME','_period4') # 'W1'\n",
    "_period5 = config.get('TIMEFRAME','_period5') # 'M1'\n",
    "_period6 = config.get('TIMEFRAME','_period6') # 'm15'\n",
    "_period7 = config.get('TIMEFRAME','_period7') # 'm30'\n",
    "_period8 = config.get('TIMEFRAME','_period8') # 'H4'\n",
    "\n",
    "_path1 = config.get('PATH','_path1') # 'Base/'\n",
    "_path2 = config.get('PATH','_path2') # 'Base_Clean/'\n",
    "_path3 = config.get('PATH','_path3') # 'Base_Input/'\n",
    "TICKERS = ['EUR/USD']\n",
    "x='EUR/USD'\n",
    "\n",
    "config['PATH']['_path'] = _path1\n",
    "\n",
    "with open('config.ini', 'w') as configfile:    # save\n",
    "    config.write(configfile)\n",
    "\n",
    "\n",
    "clean_base()"
   ]
  },
  {
   "cell_type": "code",
   "execution_count": null,
   "metadata": {},
   "outputs": [],
   "source": []
  },
  {
   "cell_type": "code",
   "execution_count": null,
   "metadata": {},
   "outputs": [],
   "source": []
  }
 ]
}