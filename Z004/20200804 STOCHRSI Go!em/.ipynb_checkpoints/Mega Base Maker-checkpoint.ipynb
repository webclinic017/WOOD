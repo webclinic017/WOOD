{
 "metadata": {
  "language_info": {
   "codemirror_mode": {
    "name": "ipython",
    "version": 3
   },
   "file_extension": ".py",
   "mimetype": "text/x-python",
   "name": "python",
   "nbconvert_exporter": "python",
   "pygments_lexer": "ipython3",
   "version": "3.7.6-final"
  },
  "orig_nbformat": 2,
  "kernelspec": {
   "name": "python_defaultSpec_1599070688017",
   "display_name": "Python 3.7.6 64-bit ('FinTech': conda)"
  }
 },
 "nbformat": 4,
 "nbformat_minor": 2,
 "cells": [
  {
   "cell_type": "code",
   "execution_count": 1,
   "metadata": {},
   "outputs": [],
   "source": [
    "def clearall():\n",
    "    all = [var for var in globals() if var[0] != \"_\"]\n",
    "    for var in all:\n",
    "        del globals()[var]\n",
    "        \n",
    "clearall()"
   ]
  },
  {
   "cell_type": "code",
   "execution_count": 2,
   "metadata": {},
   "outputs": [],
   "source": [
    "###########################################################################################################################\n",
    "###########################################################################################################################\n",
    "###########################################################################################################################\n",
    "###########################################################################################################################\n",
    "###########################################################################################################################\n",
    "#######################################      M E G A      B A S E      M A K E R ##########################################\n",
    "###########################################################################################################################\n",
    "###########################################################################################################################\n",
    "###########################################################################################################################\n",
    "###########################################################################################################################\n",
    "###########################################################################################################################"
   ]
  },
  {
   "cell_type": "code",
   "execution_count": 3,
   "metadata": {
    "tags": []
   },
   "outputs": [
    {
     "output_type": "stream",
     "name": "stdout",
     "text": "Importing Librairies...\nLibrairies imported\n\nPrêt\n"
    }
   ],
   "source": [
    "############################\n",
    "######## LIBRAIRIES ########\n",
    "############################\n",
    "print('Importing Librairies...')\n",
    "import colorama as col\n",
    "import pandas as pd\n",
    "import time\n",
    "import os\n",
    "import fxcmpy\n",
    "import socketio\n",
    "import datetime as dt\n",
    "import numpy as np\n",
    "import pyttsx3\n",
    "\n",
    "engine = pyttsx3.init()\n",
    "\n",
    "print('Librairies imported\\n')\n",
    "\n",
    "engine.say(\"librairie loaded\")\n",
    "engine.runAndWait()\n",
    "print('Prêt')"
   ]
  },
  {
   "cell_type": "code",
   "execution_count": 4,
   "metadata": {
    "tags": []
   },
   "outputs": [
    {
     "output_type": "stream",
     "name": "stdout",
     "text": "Variables initialisées\n"
    }
   ],
   "source": [
    "# COMPTE DEV #\n",
    "TOKEN = '79f83cbff13d296eb6d9b6c1ed6dccd768ef925a'\n",
    "server = 'demo'\n",
    "user_id = 'D261219577'\n",
    "compte = '01215060'\n",
    "password = '3877'\n",
    "\n",
    "# minutes: 'm1' , 'm5' , 'm15' , 'm30' \n",
    "# hours: 'H1' , 'H2', 'H3', 'H4', 'H6' 'H8'\n",
    "# one day: 'D1'\n",
    "# one week: 'W1'\n",
    "# one month: 'M1'\n",
    "\n",
    "\n",
    "_number = 10000\n",
    "_period = 'm5'\n",
    "_period2 = 'H1'\n",
    "_period3 = 'D1'\n",
    "_total = 0\n",
    "_cash_ini = 200000\n",
    "_cash = _cash_ini\n",
    "_rate = 1\n",
    "_flag = 0\n",
    "\n",
    "engine.say(\"בסדר\")\n",
    "engine.runAndWait()\n",
    "print('Variables initialisées')\n",
    "\n"
   ]
  },
  {
   "cell_type": "code",
   "execution_count": 5,
   "metadata": {
    "tags": []
   },
   "outputs": [
    {
     "output_type": "stream",
     "name": "stdout",
     "text": "Functions initiated\n"
    }
   ],
   "source": [
    "############################\n",
    "######## FONCTIONS ########\n",
    "###########################\n",
    "\n",
    "\n",
    "def conX():\n",
    "    con = fxcmpy.fxcmpy(access_token=TOKEN, log_level='error',server=server)\n",
    "    if con.is_connected() == True:\n",
    "        print(col.Fore.GREEN+'Connexion établie'+col.Style.RESET_ALL)\n",
    "        print('Compte utilisé : ',con.get_account_ids())\n",
    "    else:\n",
    "        print(col.Fore.RED+'Connexion non établie'+col.Style.RESET_ALL)\n",
    "    return(con)\n",
    "\n",
    "def deconX():\n",
    "    con = con.close()\n",
    "    if con.is_connected() == True:\n",
    "        print(col.Fore.GREEN+'Connexion non intérrompue'+col.Style.RESET_ALL)\n",
    "        print('Compte utilisé : ',con.get_account_ids())\n",
    "    else:\n",
    "        print(col.Fore.RED+'Connexion intérrompue'+col.Style.RESET_ALL)\n",
    "    return()\n",
    "\n",
    "def determine_bornes(_ticker,laperiod):\n",
    "    data = con.get_candles(instrument=_ticker,number = 10000,period=laperiod)\n",
    "    _start = data.index[0]\n",
    "    _stop = data.index[-1]\n",
    "    return(_start,_stop)\n",
    "\n",
    "def scrap_hist(_ticker,laperiod,start, stop):\n",
    "    print(col.Fore.BLUE,'Scraping des données OHLC pour le ticker',col.Fore.YELLOW,_ticker,col.Style.RESET_ALL)\n",
    "    data = con.get_candles(instrument=_ticker,number = 10000,period=laperiod)\n",
    "    df = pd.DataFrame(index=data.index)\n",
    "    df['Open_Bid'] = data['bidopen']\n",
    "    df['Open_Ask'] = data['askopen']\n",
    "    df['Open'] = (data['bidopen']+data['askopen'])/2\n",
    "    df['High_Bid'] = data['bidhigh']\n",
    "    df['High_Ask'] = data['askhigh']\n",
    "    df['High'] = (data['bidhigh']+data['askhigh'])/2\n",
    "    df['Low_Bid'] = data['bidlow']\n",
    "    df['Low_Ask'] = data['asklow']\n",
    "    df['Low'] = (data['bidlow']+data['asklow'])/2\n",
    "    df['Close_Bid'] = data['bidclose']\n",
    "    df['Close_Ask'] = data['askclose']\n",
    "    df['Close'] = (data['bidclose']+data['askclose'])/2\n",
    "    return(df)\n",
    "\n",
    "engine.say(\"functions initiated\")\n",
    "engine.runAndWait()\n",
    "print('Functions initiated')"
   ]
  },
  {
   "cell_type": "code",
   "execution_count": 6,
   "metadata": {
    "tags": []
   },
   "outputs": [
    {
     "output_type": "stream",
     "name": "stdout",
     "text": "Global Optimized LumberJack Environment Motor for FOR_EX\nLumberJack Jyss 5780(c)\n\u001b[34m °0Oo_D.A.G._26_oO0°\n\u001b[33m \u001b[44m --- MEGA BASE MAKER FXCM v0.1 --- \u001b[0m\n\n\u001b[32mConnexion établie\u001b[0m\nCompte utilisé :  [1215060]\n\u001b[32mConnexion établie\u001b[0m\nCompte utilisé :  [1215060]\n"
    }
   ],
   "source": [
    "#########################\n",
    "### CONNEXION A L'API ###\n",
    "#########################\n",
    "\n",
    "___Author___='LumberJack Jyss'\n",
    "print('Global Optimized LumberJack Environment Motor for FOR_EX\\nLumberJack Jyss 5780(c)')\n",
    "print(col.Fore.BLUE,'°0Oo_D.A.G._26_oO0°')\n",
    "print(col.Fore.YELLOW,col.Back.BLUE,'--- MEGA BASE MAKER FXCM v0.1 ---',col.Style.RESET_ALL)\n",
    "\n",
    "print('')\n",
    "engine.say(\" Initialisation du Mega Base Maker v0.10\")\n",
    "engine.say(\"Connexion du Gaulem hà la Péh e\")\n",
    "engine.runAndWait()\n",
    "\n",
    "try:\n",
    "    con.is_connected() == True\n",
    "    \n",
    "    engine.say(\"already Connected\")\n",
    "    engine.runAndWait()\n",
    "    print(col.Fore.GREEN+'Connexion rétablie'+col.Style.RESET_ALL)\n",
    "    print('Compte utilisé : ',con.get_account_ids())\n",
    "    print('')\n",
    "    \n",
    "except:\n",
    "    try:\n",
    "        con = conX()\n",
    "        con.is_connected() == True\n",
    "        print(col.Fore.GREEN+'Connexion établie'+col.Style.RESET_ALL)\n",
    "        print('Compte utilisé : ',con.get_account_ids())\n",
    "        engine.say(\"Connected\")\n",
    "        engine.runAndWait()\n",
    "    except:\n",
    "        print(col.Fore.RED+'Connexion non établie'+col.Style.RESET_ALL)\n",
    "        engine.say(\"Not Connected, sal rass de mor, pitun cé la merd\")\n",
    "        engine.say(\"vérifi ton internet, é relance le gaulèm\")\n",
    "        engine.runAndWait()\n",
    "        print('')\n",
    "        #os._exit(0)\n",
    "        con = deconX()\n",
    "        time.sleep(1)\n",
    "        con = conX()"
   ]
  },
  {
   "cell_type": "code",
   "execution_count": 8,
   "metadata": {
    "tags": []
   },
   "outputs": [
    {
     "output_type": "stream",
     "name": "stdout",
     "text": "CPU times: user 85.8 ms, sys: 8.51 ms, total: 94.3 ms\nWall time: 1.07 s\n"
    },
    {
     "output_type": "execute_result",
     "data": {
      "text/plain": "(Timestamp('2001-09-09 21:00:00'), Timestamp('2020-09-01 21:00:00'))"
     },
     "metadata": {},
     "execution_count": 8
    }
   ],
   "source": [
    "%%time\n",
    "# Je deterimne les bornes pour 10000 valeurs en daily\n",
    "_ticker = 'EUR/USD'\n",
    "_start,_stop = determine_bornes(_ticker,'D1')\n",
    "_start,_stop"
   ]
  },
  {
   "cell_type": "code",
   "execution_count": 9,
   "metadata": {
    "tags": []
   },
   "outputs": [
    {
     "output_type": "stream",
     "name": "stdout",
     "text": "\u001b[34m Scraping des données OHLC pour le ticker \u001b[33m EUR/USD \u001b[0m\nCPU times: user 88 ms, sys: 8.21 ms, total: 96.2 ms\nWall time: 797 ms\n"
    },
    {
     "output_type": "execute_result",
     "data": {
      "text/plain": "                     Open_Bid  Open_Ask    Open  High_Bid  High_Ask    High  \\\ndate                                                                          \n2001-09-09 21:00:00    0.9068    0.9072  0.9070    0.9079    0.9083  0.9081   \n2001-09-10 21:00:00    0.8979    0.8983  0.8981    0.9147    0.9151  0.9149   \n\n                     Low_Bid  Low_Ask     Low  Close_Bid  Close_Ask   Close  \ndate                                                                         \n2001-09-09 21:00:00   0.8972   0.8976  0.8974     0.8979     0.8983  0.8981  \n2001-09-10 21:00:00   0.8955   0.8959  0.8957     0.9130     0.9134  0.9132  ",
      "text/html": "<div>\n<style scoped>\n    .dataframe tbody tr th:only-of-type {\n        vertical-align: middle;\n    }\n\n    .dataframe tbody tr th {\n        vertical-align: top;\n    }\n\n    .dataframe thead th {\n        text-align: right;\n    }\n</style>\n<table border=\"1\" class=\"dataframe\">\n  <thead>\n    <tr style=\"text-align: right;\">\n      <th></th>\n      <th>Open_Bid</th>\n      <th>Open_Ask</th>\n      <th>Open</th>\n      <th>High_Bid</th>\n      <th>High_Ask</th>\n      <th>High</th>\n      <th>Low_Bid</th>\n      <th>Low_Ask</th>\n      <th>Low</th>\n      <th>Close_Bid</th>\n      <th>Close_Ask</th>\n      <th>Close</th>\n    </tr>\n    <tr>\n      <th>date</th>\n      <th></th>\n      <th></th>\n      <th></th>\n      <th></th>\n      <th></th>\n      <th></th>\n      <th></th>\n      <th></th>\n      <th></th>\n      <th></th>\n      <th></th>\n      <th></th>\n    </tr>\n  </thead>\n  <tbody>\n    <tr>\n      <th>2001-09-09 21:00:00</th>\n      <td>0.9068</td>\n      <td>0.9072</td>\n      <td>0.9070</td>\n      <td>0.9079</td>\n      <td>0.9083</td>\n      <td>0.9081</td>\n      <td>0.8972</td>\n      <td>0.8976</td>\n      <td>0.8974</td>\n      <td>0.8979</td>\n      <td>0.8983</td>\n      <td>0.8981</td>\n    </tr>\n    <tr>\n      <th>2001-09-10 21:00:00</th>\n      <td>0.8979</td>\n      <td>0.8983</td>\n      <td>0.8981</td>\n      <td>0.9147</td>\n      <td>0.9151</td>\n      <td>0.9149</td>\n      <td>0.8955</td>\n      <td>0.8959</td>\n      <td>0.8957</td>\n      <td>0.9130</td>\n      <td>0.9134</td>\n      <td>0.9132</td>\n    </tr>\n  </tbody>\n</table>\n</div>"
     },
     "metadata": {},
     "execution_count": 9
    }
   ],
   "source": [
    "%%time\n",
    "# Je scrape ces bornes en daily\n",
    "data_D1 = scrap_hist(_ticker,'D1',_start, _stop)\n",
    "data_D1.head(2)"
   ]
  },
  {
   "cell_type": "code",
   "execution_count": 10,
   "metadata": {},
   "outputs": [
    {
     "output_type": "execute_result",
     "data": {
      "text/plain": "                     Open_Bid  Open_Ask      Open  High_Bid  High_Ask  \\\ndate                                                                    \n2020-08-31 21:00:00   1.19348   1.19379  1.193635   1.20104   1.20127   \n2020-09-01 21:00:00   1.19087   1.19162  1.191245   1.19278   1.19299   \n\n                         High  Low_Bid  Low_Ask      Low  Close_Bid  \\\ndate                                                                  \n2020-08-31 21:00:00  1.201155  1.19002  1.19024  1.19013    1.19087   \n2020-09-01 21:00:00  1.192885  1.18213  1.18231  1.18222    1.18489   \n\n                     Close_Ask     Close  \ndate                                      \n2020-08-31 21:00:00    1.19162  1.191245  \n2020-09-01 21:00:00    1.18512  1.185005  ",
      "text/html": "<div>\n<style scoped>\n    .dataframe tbody tr th:only-of-type {\n        vertical-align: middle;\n    }\n\n    .dataframe tbody tr th {\n        vertical-align: top;\n    }\n\n    .dataframe thead th {\n        text-align: right;\n    }\n</style>\n<table border=\"1\" class=\"dataframe\">\n  <thead>\n    <tr style=\"text-align: right;\">\n      <th></th>\n      <th>Open_Bid</th>\n      <th>Open_Ask</th>\n      <th>Open</th>\n      <th>High_Bid</th>\n      <th>High_Ask</th>\n      <th>High</th>\n      <th>Low_Bid</th>\n      <th>Low_Ask</th>\n      <th>Low</th>\n      <th>Close_Bid</th>\n      <th>Close_Ask</th>\n      <th>Close</th>\n    </tr>\n    <tr>\n      <th>date</th>\n      <th></th>\n      <th></th>\n      <th></th>\n      <th></th>\n      <th></th>\n      <th></th>\n      <th></th>\n      <th></th>\n      <th></th>\n      <th></th>\n      <th></th>\n      <th></th>\n    </tr>\n  </thead>\n  <tbody>\n    <tr>\n      <th>2020-08-31 21:00:00</th>\n      <td>1.19348</td>\n      <td>1.19379</td>\n      <td>1.193635</td>\n      <td>1.20104</td>\n      <td>1.20127</td>\n      <td>1.201155</td>\n      <td>1.19002</td>\n      <td>1.19024</td>\n      <td>1.19013</td>\n      <td>1.19087</td>\n      <td>1.19162</td>\n      <td>1.191245</td>\n    </tr>\n    <tr>\n      <th>2020-09-01 21:00:00</th>\n      <td>1.19087</td>\n      <td>1.19162</td>\n      <td>1.191245</td>\n      <td>1.19278</td>\n      <td>1.19299</td>\n      <td>1.192885</td>\n      <td>1.18213</td>\n      <td>1.18231</td>\n      <td>1.18222</td>\n      <td>1.18489</td>\n      <td>1.18512</td>\n      <td>1.185005</td>\n    </tr>\n  </tbody>\n</table>\n</div>"
     },
     "metadata": {},
     "execution_count": 10
    }
   ],
   "source": [
    "#verification des bornes et de la timeframe\n",
    "data_D1.tail(2)"
   ]
  },
  {
   "cell_type": "code",
   "execution_count": 11,
   "metadata": {},
   "outputs": [
    {
     "output_type": "execute_result",
     "data": {
      "text/plain": "(5467, 12)"
     },
     "metadata": {},
     "execution_count": 11
    }
   ],
   "source": [
    "# longueur => Il n'y a même pas 10000 valeurs de dispo en daily\n",
    "data_D1.shape"
   ]
  },
  {
   "cell_type": "code",
   "execution_count": 12,
   "metadata": {},
   "outputs": [
    {
     "output_type": "execute_result",
     "data": {
      "text/plain": "Timedelta('6932 days 00:00:00')"
     },
     "metadata": {},
     "execution_count": 12
    }
   ],
   "source": [
    "# Calcul des 10000 valeurs en arrière pour du daily\n",
    "delta = _stop - _start\n",
    "delta"
   ]
  },
  {
   "cell_type": "code",
   "execution_count": 13,
   "metadata": {},
   "outputs": [
    {
     "output_type": "execute_result",
     "data": {
      "text/plain": "(Timestamp('1982-09-17 21:00:00'), Timestamp('2001-09-09 21:00:00'))"
     },
     "metadata": {},
     "execution_count": 13
    }
   ],
   "source": [
    "# On repart 10000 valeurs en arriere\n",
    "\n",
    "_stop = _start\n",
    "_start = _start - dt.timedelta(days=6932, hours=0,minutes=0,seconds=0)\n",
    "_start,_stop"
   ]
  },
  {
   "cell_type": "code",
   "execution_count": 15,
   "metadata": {
    "tags": []
   },
   "outputs": [
    {
     "output_type": "stream",
     "name": "stdout",
     "text": "CPU times: user 2 µs, sys: 1e+03 ns, total: 3 µs\nWall time: 5.96 µs\n"
    },
    {
     "output_type": "execute_result",
     "data": {
      "text/plain": "(Timestamp('2001-09-09 21:00:00'), Timestamp('2020-09-01 21:00:00'))"
     },
     "metadata": {},
     "execution_count": 15
    }
   ],
   "source": [
    "%time\n",
    "# On setermine les bornes, et ô surprise!!!! Lei a encore raconté de la m...\n",
    "_start,_stop = determine_bornes(_ticker,'D1')\n",
    "_start,_stop"
   ]
  },
  {
   "cell_type": "code",
   "execution_count": null,
   "metadata": {},
   "outputs": [],
   "source": [
    "#############################################################\n",
    "#############################################################\n",
    "#############################################################"
   ]
  },
  {
   "cell_type": "code",
   "execution_count": 16,
   "metadata": {
    "tags": []
   },
   "outputs": [
    {
     "output_type": "stream",
     "name": "stdout",
     "text": "CPU times: user 110 ms, sys: 9.21 ms, total: 119 ms\nWall time: 954 ms\n"
    },
    {
     "output_type": "execute_result",
     "data": {
      "text/plain": "(Timestamp('2019-02-05 08:00:00'), Timestamp('2020-09-02 20:00:00'))"
     },
     "metadata": {},
     "execution_count": 16
    }
   ],
   "source": [
    "%%time\n",
    "# Je deterimne les bornes pour 10000 valeurs en hourly. Sympa la close à 20H00... ça colle bien avec le 21H00 du daily...\n",
    "_ticker = 'EUR/USD'\n",
    "_start,_stop = determine_bornes(_ticker,'H1')\n",
    "_start,_stop"
   ]
  },
  {
   "cell_type": "code",
   "execution_count": 17,
   "metadata": {
    "tags": []
   },
   "outputs": [
    {
     "output_type": "stream",
     "name": "stdout",
     "text": "\u001b[34m Scraping des données OHLC pour le ticker \u001b[33m EUR/USD \u001b[0m\nCPU times: user 125 ms, sys: 11 ms, total: 136 ms\nWall time: 1.11 s\n"
    },
    {
     "output_type": "execute_result",
     "data": {
      "text/plain": "                     Open_Bid  Open_Ask      Open  High_Bid  High_Ask  \\\ndate                                                                    \n2019-02-05 08:00:00   1.14243   1.14258  1.142505   1.14250   1.14265   \n2019-02-05 09:00:00   1.14129   1.14144  1.141365   1.14248   1.14263   \n\n                         High  Low_Bid  Low_Ask       Low  Close_Bid  \\\ndate                                                                   \n2019-02-05 08:00:00  1.142575  1.14108  1.14123  1.141155    1.14129   \n2019-02-05 09:00:00  1.142555  1.14128  1.14142  1.141350    1.14186   \n\n                     Close_Ask     Close  \ndate                                      \n2019-02-05 08:00:00    1.14144  1.141365  \n2019-02-05 09:00:00    1.14201  1.141935  ",
      "text/html": "<div>\n<style scoped>\n    .dataframe tbody tr th:only-of-type {\n        vertical-align: middle;\n    }\n\n    .dataframe tbody tr th {\n        vertical-align: top;\n    }\n\n    .dataframe thead th {\n        text-align: right;\n    }\n</style>\n<table border=\"1\" class=\"dataframe\">\n  <thead>\n    <tr style=\"text-align: right;\">\n      <th></th>\n      <th>Open_Bid</th>\n      <th>Open_Ask</th>\n      <th>Open</th>\n      <th>High_Bid</th>\n      <th>High_Ask</th>\n      <th>High</th>\n      <th>Low_Bid</th>\n      <th>Low_Ask</th>\n      <th>Low</th>\n      <th>Close_Bid</th>\n      <th>Close_Ask</th>\n      <th>Close</th>\n    </tr>\n    <tr>\n      <th>date</th>\n      <th></th>\n      <th></th>\n      <th></th>\n      <th></th>\n      <th></th>\n      <th></th>\n      <th></th>\n      <th></th>\n      <th></th>\n      <th></th>\n      <th></th>\n      <th></th>\n    </tr>\n  </thead>\n  <tbody>\n    <tr>\n      <th>2019-02-05 08:00:00</th>\n      <td>1.14243</td>\n      <td>1.14258</td>\n      <td>1.142505</td>\n      <td>1.14250</td>\n      <td>1.14265</td>\n      <td>1.142575</td>\n      <td>1.14108</td>\n      <td>1.14123</td>\n      <td>1.141155</td>\n      <td>1.14129</td>\n      <td>1.14144</td>\n      <td>1.141365</td>\n    </tr>\n    <tr>\n      <th>2019-02-05 09:00:00</th>\n      <td>1.14129</td>\n      <td>1.14144</td>\n      <td>1.141365</td>\n      <td>1.14248</td>\n      <td>1.14263</td>\n      <td>1.142555</td>\n      <td>1.14128</td>\n      <td>1.14142</td>\n      <td>1.141350</td>\n      <td>1.14186</td>\n      <td>1.14201</td>\n      <td>1.141935</td>\n    </tr>\n  </tbody>\n</table>\n</div>"
     },
     "metadata": {},
     "execution_count": 17
    }
   ],
   "source": [
    "%%time\n",
    "# Je scrape ces bornes en hourly\n",
    "data_H1 = scrap_hist(_ticker,'H1',_start, _stop)\n",
    "data_H1.head(2)"
   ]
  },
  {
   "cell_type": "code",
   "execution_count": 46,
   "metadata": {},
   "outputs": [
    {
     "output_type": "execute_result",
     "data": {
      "text/plain": "                     Open_Bid  Open_Ask     Open  High_Bid  High_Ask  \\\ndate                                                                   \n2020-09-02 19:00:00   1.18239   1.18251  1.18245   1.18464   1.18476   \n2020-09-02 20:00:00   1.18456   1.18466  1.18461   1.18458   1.18469   \n\n                         High  Low_Bid  Low_Ask      Low  Close_Bid  \\\ndate                                                                  \n2020-09-02 19:00:00  1.184700  1.18230  1.18242  1.18236    1.18456   \n2020-09-02 20:00:00  1.184635  1.18425  1.18437  1.18431    1.18449   \n\n                     Close_Ask    Close  \ndate                                     \n2020-09-02 19:00:00    1.18466  1.18461  \n2020-09-02 20:00:00    1.18461  1.18455  ",
      "text/html": "<div>\n<style scoped>\n    .dataframe tbody tr th:only-of-type {\n        vertical-align: middle;\n    }\n\n    .dataframe tbody tr th {\n        vertical-align: top;\n    }\n\n    .dataframe thead th {\n        text-align: right;\n    }\n</style>\n<table border=\"1\" class=\"dataframe\">\n  <thead>\n    <tr style=\"text-align: right;\">\n      <th></th>\n      <th>Open_Bid</th>\n      <th>Open_Ask</th>\n      <th>Open</th>\n      <th>High_Bid</th>\n      <th>High_Ask</th>\n      <th>High</th>\n      <th>Low_Bid</th>\n      <th>Low_Ask</th>\n      <th>Low</th>\n      <th>Close_Bid</th>\n      <th>Close_Ask</th>\n      <th>Close</th>\n    </tr>\n    <tr>\n      <th>date</th>\n      <th></th>\n      <th></th>\n      <th></th>\n      <th></th>\n      <th></th>\n      <th></th>\n      <th></th>\n      <th></th>\n      <th></th>\n      <th></th>\n      <th></th>\n      <th></th>\n    </tr>\n  </thead>\n  <tbody>\n    <tr>\n      <th>2020-09-02 19:00:00</th>\n      <td>1.18239</td>\n      <td>1.18251</td>\n      <td>1.18245</td>\n      <td>1.18464</td>\n      <td>1.18476</td>\n      <td>1.184700</td>\n      <td>1.18230</td>\n      <td>1.18242</td>\n      <td>1.18236</td>\n      <td>1.18456</td>\n      <td>1.18466</td>\n      <td>1.18461</td>\n    </tr>\n    <tr>\n      <th>2020-09-02 20:00:00</th>\n      <td>1.18456</td>\n      <td>1.18466</td>\n      <td>1.18461</td>\n      <td>1.18458</td>\n      <td>1.18469</td>\n      <td>1.184635</td>\n      <td>1.18425</td>\n      <td>1.18437</td>\n      <td>1.18431</td>\n      <td>1.18449</td>\n      <td>1.18461</td>\n      <td>1.18455</td>\n    </tr>\n  </tbody>\n</table>\n</div>"
     },
     "metadata": {},
     "execution_count": 46
    }
   ],
   "source": [
    "#verification des bornes et de la timeframe. Tiens, là, ça close à 20H00. Sympa pour être raccord\n",
    "data_H1.tail(2)"
   ]
  },
  {
   "cell_type": "code",
   "execution_count": 18,
   "metadata": {},
   "outputs": [
    {
     "output_type": "execute_result",
     "data": {
      "text/plain": "(10000, 12)"
     },
     "metadata": {},
     "execution_count": 18
    }
   ],
   "source": [
    "# longueur => ok pour la longueur\n",
    "data_H1.shape"
   ]
  },
  {
   "cell_type": "code",
   "execution_count": 19,
   "metadata": {},
   "outputs": [
    {
     "output_type": "execute_result",
     "data": {
      "text/plain": "Timedelta('575 days 12:00:00')"
     },
     "metadata": {},
     "execution_count": 19
    }
   ],
   "source": [
    "# Calcul des 10000 valeurs en arrière pour du daily\n",
    "delta = _stop - _start\n",
    "delta"
   ]
  },
  {
   "cell_type": "code",
   "execution_count": 20,
   "metadata": {},
   "outputs": [
    {
     "output_type": "execute_result",
     "data": {
      "text/plain": "(Timestamp('2017-07-09 20:00:00'), Timestamp('2019-02-05 08:00:00'))"
     },
     "metadata": {},
     "execution_count": 20
    }
   ],
   "source": [
    "# On repart 10000 valeurs en arriere\n",
    "\n",
    "_stop = _start\n",
    "_start = _start - dt.timedelta(days=575, hours=12,minutes=0,seconds=0)\n",
    "_start,_stop"
   ]
  },
  {
   "cell_type": "code",
   "execution_count": 21,
   "metadata": {},
   "outputs": [
    {
     "output_type": "execute_result",
     "data": {
      "text/plain": "(Timestamp('2019-02-05 08:00:00'), Timestamp('2020-09-02 20:00:00'))"
     },
     "metadata": {},
     "execution_count": 21
    }
   ],
   "source": [
    "# On setermine les bornes, ôôôôô!!! ça passe pas non plus.\n",
    "_start,_stop = determine_bornes(_ticker,'H1')\n",
    "_start,_stop"
   ]
  },
  {
   "cell_type": "code",
   "execution_count": 22,
   "metadata": {
    "tags": []
   },
   "outputs": [
    {
     "output_type": "stream",
     "name": "stdout",
     "text": "\u001b[34m Scraping des données OHLC pour le ticker \u001b[33m EUR/USD \u001b[0m\nCPU times: user 164 ms, sys: 21.1 ms, total: 185 ms\nWall time: 1.78 s\n"
    },
    {
     "output_type": "execute_result",
     "data": {
      "text/plain": "                     Open_Bid  Open_Ask      Open  High_Bid  High_Ask  \\\ndate                                                                    \n2019-02-05 08:00:00   1.14243   1.14258  1.142505   1.14250   1.14265   \n2019-02-05 09:00:00   1.14129   1.14144  1.141365   1.14248   1.14263   \n\n                         High  Low_Bid  Low_Ask       Low  Close_Bid  \\\ndate                                                                   \n2019-02-05 08:00:00  1.142575  1.14108  1.14123  1.141155    1.14129   \n2019-02-05 09:00:00  1.142555  1.14128  1.14142  1.141350    1.14186   \n\n                     Close_Ask     Close  \ndate                                      \n2019-02-05 08:00:00    1.14144  1.141365  \n2019-02-05 09:00:00    1.14201  1.141935  ",
      "text/html": "<div>\n<style scoped>\n    .dataframe tbody tr th:only-of-type {\n        vertical-align: middle;\n    }\n\n    .dataframe tbody tr th {\n        vertical-align: top;\n    }\n\n    .dataframe thead th {\n        text-align: right;\n    }\n</style>\n<table border=\"1\" class=\"dataframe\">\n  <thead>\n    <tr style=\"text-align: right;\">\n      <th></th>\n      <th>Open_Bid</th>\n      <th>Open_Ask</th>\n      <th>Open</th>\n      <th>High_Bid</th>\n      <th>High_Ask</th>\n      <th>High</th>\n      <th>Low_Bid</th>\n      <th>Low_Ask</th>\n      <th>Low</th>\n      <th>Close_Bid</th>\n      <th>Close_Ask</th>\n      <th>Close</th>\n    </tr>\n    <tr>\n      <th>date</th>\n      <th></th>\n      <th></th>\n      <th></th>\n      <th></th>\n      <th></th>\n      <th></th>\n      <th></th>\n      <th></th>\n      <th></th>\n      <th></th>\n      <th></th>\n      <th></th>\n    </tr>\n  </thead>\n  <tbody>\n    <tr>\n      <th>2019-02-05 08:00:00</th>\n      <td>1.14243</td>\n      <td>1.14258</td>\n      <td>1.142505</td>\n      <td>1.14250</td>\n      <td>1.14265</td>\n      <td>1.142575</td>\n      <td>1.14108</td>\n      <td>1.14123</td>\n      <td>1.141155</td>\n      <td>1.14129</td>\n      <td>1.14144</td>\n      <td>1.141365</td>\n    </tr>\n    <tr>\n      <th>2019-02-05 09:00:00</th>\n      <td>1.14129</td>\n      <td>1.14144</td>\n      <td>1.141365</td>\n      <td>1.14248</td>\n      <td>1.14263</td>\n      <td>1.142555</td>\n      <td>1.14128</td>\n      <td>1.14142</td>\n      <td>1.141350</td>\n      <td>1.14186</td>\n      <td>1.14201</td>\n      <td>1.141935</td>\n    </tr>\n  </tbody>\n</table>\n</div>"
     },
     "metadata": {},
     "execution_count": 22
    }
   ],
   "source": [
    "%%time\n",
    "# Je scrape ces bornes en hourly pour vérifier\n",
    "data_H1 = scrap_hist(_ticker,'H1',_start, _stop)\n",
    "data_H1.head(2)"
   ]
  },
  {
   "cell_type": "code",
   "execution_count": 23,
   "metadata": {},
   "outputs": [
    {
     "output_type": "execute_result",
     "data": {
      "text/plain": "                     Open_Bid  Open_Ask     Open  High_Bid  High_Ask     High  \\\ndate                                                                            \n2020-09-02 19:00:00   1.18239   1.18251  1.18245   1.18464   1.18476  1.18470   \n2020-09-02 20:00:00   1.18456   1.18466  1.18461   1.18512   1.18524  1.18518   \n\n                     Low_Bid  Low_Ask      Low  Close_Bid  Close_Ask    Close  \ndate                                                                           \n2020-09-02 19:00:00  1.18230  1.18242  1.18236    1.18456    1.18466  1.18461  \n2020-09-02 20:00:00  1.18425  1.18437  1.18431    1.18507    1.18519  1.18513  ",
      "text/html": "<div>\n<style scoped>\n    .dataframe tbody tr th:only-of-type {\n        vertical-align: middle;\n    }\n\n    .dataframe tbody tr th {\n        vertical-align: top;\n    }\n\n    .dataframe thead th {\n        text-align: right;\n    }\n</style>\n<table border=\"1\" class=\"dataframe\">\n  <thead>\n    <tr style=\"text-align: right;\">\n      <th></th>\n      <th>Open_Bid</th>\n      <th>Open_Ask</th>\n      <th>Open</th>\n      <th>High_Bid</th>\n      <th>High_Ask</th>\n      <th>High</th>\n      <th>Low_Bid</th>\n      <th>Low_Ask</th>\n      <th>Low</th>\n      <th>Close_Bid</th>\n      <th>Close_Ask</th>\n      <th>Close</th>\n    </tr>\n    <tr>\n      <th>date</th>\n      <th></th>\n      <th></th>\n      <th></th>\n      <th></th>\n      <th></th>\n      <th></th>\n      <th></th>\n      <th></th>\n      <th></th>\n      <th></th>\n      <th></th>\n      <th></th>\n    </tr>\n  </thead>\n  <tbody>\n    <tr>\n      <th>2020-09-02 19:00:00</th>\n      <td>1.18239</td>\n      <td>1.18251</td>\n      <td>1.18245</td>\n      <td>1.18464</td>\n      <td>1.18476</td>\n      <td>1.18470</td>\n      <td>1.18230</td>\n      <td>1.18242</td>\n      <td>1.18236</td>\n      <td>1.18456</td>\n      <td>1.18466</td>\n      <td>1.18461</td>\n    </tr>\n    <tr>\n      <th>2020-09-02 20:00:00</th>\n      <td>1.18456</td>\n      <td>1.18466</td>\n      <td>1.18461</td>\n      <td>1.18512</td>\n      <td>1.18524</td>\n      <td>1.18518</td>\n      <td>1.18425</td>\n      <td>1.18437</td>\n      <td>1.18431</td>\n      <td>1.18507</td>\n      <td>1.18519</td>\n      <td>1.18513</td>\n    </tr>\n  </tbody>\n</table>\n</div>"
     },
     "metadata": {},
     "execution_count": 23
    }
   ],
   "source": [
    "#verification des bornes et de la timeframe. voilà voilà...\n",
    "data_H1.tail(2)"
   ]
  },
  {
   "cell_type": "code",
   "execution_count": null,
   "metadata": {},
   "outputs": [],
   "source": []
  }
 ]
}