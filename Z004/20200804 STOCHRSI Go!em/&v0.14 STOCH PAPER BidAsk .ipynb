{
 "cells": [
  {
   "cell_type": "code",
   "execution_count": 1,
   "metadata": {},
   "outputs": [],
   "source": [
    "def clearall():\n",
    "    all = [var for var in globals() if var[0] != \"_\"]\n",
    "    for var in all:\n",
    "        del globals()[var]\n",
    "        \n",
    "clearall()"
   ]
  },
  {
   "cell_type": "code",
   "execution_count": 2,
   "metadata": {
    "tags": []
   },
   "outputs": [
    {
     "output_type": "stream",
     "name": "stdout",
     "text": "Importing Librairies...\nLibrairies imported\n\nversion fxcmpy : 1.2.6\nPrêt\n"
    }
   ],
   "source": [
    "############################\n",
    "######## LIBRAIRIES ########\n",
    "############################\n",
    "print('Importing Librairies...')\n",
    "from sklearn.linear_model import LinearRegression\n",
    "import colorama as col\n",
    "import pandas as pd\n",
    "import matplotlib.pyplot as plt\n",
    "import matplotlib.dates as mdates\n",
    "import seaborn as sns\n",
    "import time\n",
    "import os\n",
    "import datetime as dt\n",
    "import numpy as np\n",
    "import fxcmpy\n",
    "import socketio\n",
    "import shelve\n",
    "import talib\n",
    "import statistics\n",
    "import pyttsx3\n",
    "\n",
    "engine = pyttsx3.init()\n",
    "\n",
    "print('Librairies imported\\n')\n",
    "print('version fxcmpy :',fxcmpy.__version__)\n",
    "%matplotlib inline\n",
    "plt.style.use('seaborn')\n",
    "engine.say(\"librairie loaded\")\n",
    "engine.runAndWait()\n",
    "print('Prêt')"
   ]
  },
  {
   "cell_type": "code",
   "execution_count": 3,
   "metadata": {
    "tags": []
   },
   "outputs": [
    {
     "output_type": "stream",
     "name": "stdout",
     "text": "Variables initialisées\n"
    }
   ],
   "source": [
    "engine.say(\"Ignition du Lumberjack\")\n",
    "engine.runAndWait() \n",
    "\n",
    "##############################################\n",
    "######## INITIALISATION DES VARIABLES ########\n",
    "##############################################\n",
    "\n",
    "\n",
    "# COMPTE TEST #\n",
    "\n",
    "TOKEN = '89410007226e1ad8ffce5dbf03f1e1bf056f2451'\n",
    "server = 'demo'\n",
    "user_id = 'D261219574'\n",
    "compte = '01215057'\n",
    "password = '3555'\n",
    "\n",
    "\n",
    "'''\n",
    "# COMPTE DEV #\n",
    "TOKEN = '79f83cbff13d296eb6d9b6c1ed6dccd768ef925a'\n",
    "server = 'demo'\n",
    "user_id = 'D261219577'\n",
    "compte = '01215060'\n",
    "password = '3877'\n",
    "'''\n",
    "\n",
    "'''\n",
    "# COMPTE POUBELLE #\n",
    "TOKEN = 'a66bf5c0ec732487f4b348baf6364d3ee8784935'\n",
    "server = 'demo'\n",
    "user_id = 'D261219576'\n",
    "compte = '01215059'\n",
    "password = '8029'\n",
    "'''\n",
    "\n",
    "\n",
    "# minutes: 'm1' , 'm5' , 'm15' , 'm30' \n",
    "# hours: 'H1' , 'H2', 'H3', 'H4', 'H6' 'H8'\n",
    "# one day: 'D1'\n",
    "# one week: 'W1'\n",
    "# one month: 'M1'\n",
    "\n",
    "\n",
    "_number = 40\n",
    "_period = 'm5'\n",
    "_period2 = 'D1'\n",
    "\n",
    "_amount = 50000\n",
    "_amount = _amount / 1000\n",
    "\n",
    "_target = 0.0020\n",
    "_sl = 0.0060\n",
    "_spread_filter = 0.002\n",
    "\n",
    "engine.say(\"בסדר\")\n",
    "engine.runAndWait()\n",
    "print('Variables initialisées')"
   ]
  },
  {
   "cell_type": "code",
   "execution_count": 4,
   "metadata": {
    "tags": []
   },
   "outputs": [
    {
     "output_type": "stream",
     "name": "stdout",
     "text": "Functions initiated\n"
    }
   ],
   "source": [
    "\n",
    "############################\n",
    "######## FONCTIONS ########\n",
    "###########################\n",
    "\n",
    "\n",
    "def conX():\n",
    "    con = fxcmpy.fxcmpy(access_token=TOKEN, log_level='error',server=server)\n",
    "    if con.is_connected() == True:\n",
    "        print(col.Fore.GREEN+'Connexion établie'+col.Style.RESET_ALL)\n",
    "        print('Compte utilisé : ',con.get_account_ids())\n",
    "    else:\n",
    "        print(col.Fore.RED+'Connexion non établie'+col.Style.RESET_ALL)\n",
    "    return(con)\n",
    "\n",
    "def deconX():\n",
    "    con = con.close()\n",
    "    if con.is_connected() == True:\n",
    "        print(col.Fore.GREEN+'Connexion non intérrompue'+col.Style.RESET_ALL)\n",
    "        print('Compte utilisé : ',con.get_account_ids())\n",
    "    else:\n",
    "        print(col.Fore.RED+'Connexion intérrompue'+col.Style.RESET_ALL)\n",
    "    return()\n",
    "\n",
    "\n",
    "def scrap_hist(_ticker,number,laperiod):\n",
    "    print('\\r',col.Fore.BLUE,'Scraping des données OHLC pour le ticker',col.Fore.YELLOW,_ticker,col.Style.RESET_ALL,\\\n",
    "        ' --- ',dt.datetime.now().strftime(format='%Y-%m-%d %H:%M:%S'),end='',flush=True)\n",
    "    data = con.get_candles(instrument=_ticker,number = 40,period=laperiod)\n",
    "    df = pd.DataFrame(index=data.index)\n",
    "    df['Open_Bid'] = data['bidopen']\n",
    "    df['Open_Ask'] = data['askopen']\n",
    "    df['Open'] = (data['bidopen']+data['askopen'])/2\n",
    "    df['High_Bid'] = data['bidhigh']\n",
    "    df['High_Ask'] = data['askhigh']\n",
    "    df['High'] = (data['bidhigh']+data['askhigh'])/2\n",
    "    df['Low_Bid'] = data['bidlow']\n",
    "    df['Low_Ask'] = data['asklow']\n",
    "    df['Low'] = (data['bidlow']+data['asklow'])/2\n",
    "    df['Close_Bid'] = data['bidclose']\n",
    "    df['Close_Ask'] = data['askclose']\n",
    "    df['Close'] = (data['bidclose']+data['askclose'])/2\n",
    "    return(df)\n",
    "\n",
    "\n",
    "\n",
    "def Short(ticker,_mise):\n",
    "    print('')\n",
    "    print(col.Fore.RED,'Short (',col.Fore.YELLOW,' Ticker : ',ticker,col.Fore.WHITE,' - Amount : ',_amount,')',col.Style.RESET_ALL)\n",
    "    engine.say(\"Foxtrot Foxtrot. We are going short\")\n",
    "    engine.runAndWait()\n",
    "    p0os = con.create_entry_order(symbol=ticker,\\\n",
    "                is_buy=False,\\\n",
    "                    amount=_mise,\\\n",
    "                    time_in_force='GTD',\\\n",
    "                        order_type='Entry',\\\n",
    "                        rate=round(float(con.get_last_price(ticker).Bid * 0.9999),4),\\\n",
    "                            is_in_pips=False,\\\n",
    "                                limit=round(float(con.get_last_price(ticker).Bid * (1 - _target)),4) ,\\\n",
    "                                    stop=round(float(con.get_last_price(ticker).Bid * (1 + _sl)),4),\\\n",
    "                                        trailing_step=None,\\\n",
    "                                            expiration = (dt.datetime.now() + dt.timedelta(minutes=10)).strftime(format='%Y-%m-%d %H:%M'))\n",
    "    return(p0os)\n",
    "\n",
    "def Long(ticker,_mise):\n",
    "    print('')\n",
    "    print(col.Fore.GREEN,'Long (',col.Fore.YELLOW,' Ticker : ',ticker,col.Fore.WHITE,' - Amount : ',_amount,')',col.Style.RESET_ALL)\n",
    "    engine.say(\"Foxtrot Foxtrot. We are going long\")\n",
    "    engine.runAndWait()\n",
    "    p0os = con.create_entry_order(symbol=ticker,\\\n",
    "                is_buy=True,\\\n",
    "                    amount=_mise,\\\n",
    "                    time_in_force='GTD',\\\n",
    "                        order_type='Entry',\\\n",
    "                        rate=round(float(con.get_last_price(ticker).Ask * 1.0001),4),\\\n",
    "                            is_in_pips=False,\\\n",
    "                                limit=round(float(con.get_last_price(ticker).Ask * (1 + _target)),4) ,\\\n",
    "                                    stop=round(float(con.get_last_price(ticker).Ask * (1 - _sl)),4),\\\n",
    "                                        trailing_step=None,\\\n",
    "                                            expiration = (dt.datetime.now() + dt.timedelta(minutes=10)).strftime(format='%Y-%m-%d %H:%M'))\n",
    "    return(p0os)\n",
    " \n",
    "\n",
    "engine.say(\"functions initiated\")\n",
    "engine.runAndWait()\n",
    "print('Functions initiated')"
   ]
  },
  {
   "cell_type": "code",
   "execution_count": 5,
   "metadata": {
    "tags": []
   },
   "outputs": [
    {
     "output_type": "stream",
     "name": "stdout",
     "text": "Global Optimized LumberJack Environment Motor for FOR_EX\nLumberJack Jyss 5780(c)\n\u001b[34m °0Oo_D.A.G._26_oO0°\n\u001b[33m \u001b[44m --- Go!em STOCHASTIC-RSI #v0.14 PAPER TRADE --- \u001b[0m\n\n\u001b[32mConnexion établie\u001b[0m\nCompte utilisé :  [1215057]\n\u001b[32mConnexion établie\u001b[0m\nCompte utilisé :  [1215057]\n"
    }
   ],
   "source": [
    "#########################\n",
    "### CONNEXION A L'API ###\n",
    "#########################\n",
    "\n",
    "___Author___='LumberJack Jyss'\n",
    "print('Global Optimized LumberJack Environment Motor for FOR_EX\\nLumberJack Jyss 5780(c)')\n",
    "print(col.Fore.BLUE,'°0Oo_D.A.G._26_oO0°')\n",
    "print(col.Fore.YELLOW,col.Back.BLUE,'--- Go!em STOCHASTIC-RSI #v0.14 PAPER TRADE ---',col.Style.RESET_ALL)\n",
    "\n",
    "print('')\n",
    "engine.say(\" Initialisation du Gaulem Stok R S E paper trade version 0.14\")\n",
    "engine.say(\"Connexion du Gaulem hà la Péh e\")\n",
    "engine.runAndWait()\n",
    "\n",
    "try:\n",
    "    con.is_connected() == True\n",
    "    \n",
    "    engine.say(\"already Connected\")\n",
    "    engine.runAndWait()\n",
    "    print(col.Fore.GREEN+'Connexion rétablie'+col.Style.RESET_ALL)\n",
    "    print('Compte utilisé : ',con.get_account_ids())\n",
    "    print('')\n",
    "    \n",
    "except:\n",
    "    try:\n",
    "        con = conX()\n",
    "        con.is_connected() == True\n",
    "        print(col.Fore.GREEN+'Connexion établie'+col.Style.RESET_ALL)\n",
    "        print('Compte utilisé : ',con.get_account_ids())\n",
    "        engine.say(\"Connected\")\n",
    "        engine.runAndWait()\n",
    "    except:\n",
    "        print(col.Fore.RED+'Connexion non établie'+col.Style.RESET_ALL)\n",
    "        engine.say(\"Not Connected, sal rass de mor, pitun cé la merd\")\n",
    "        engine.say(\"vérifi ton internet, é relance le gaulèm\")\n",
    "        engine.runAndWait()\n",
    "        print('')\n",
    "        #os._exit(0)\n",
    "        con = deconX()\n",
    "        time.sleep(1)\n",
    "        con = conX()"
   ]
  },
  {
   "cell_type": "code",
   "execution_count": null,
   "metadata": {},
   "outputs": [],
   "source": []
  },
  {
   "cell_type": "code",
   "execution_count": 10,
   "metadata": {
    "tags": []
   },
   "outputs": [
    {
     "output_type": "stream",
     "name": "stdout",
     "text": "\u001b[34m Scraping des données OHLC pour le ticker \u001b[33m USD/CNH \u001b[0m  ---  2020-08-25 22:00:13\nPause après le loop 0    2020-08-25- 22:00:13 \n\n \u001b[34m Scraping des données OHLC pour le ticker \u001b[33m USD/CNH \u001b[0m  ---  2020-08-25 22:05:12\nPause après le loop 1    2020-08-25- 22:05:12 \n\n \u001b[34m Scraping des données OHLC pour le ticker \u001b[33m USD/CNH \u001b[0m  ---  2020-08-25 22:10:13\nPause après le loop 2    2020-08-25- 22:10:13 \n\n \u001b[34m Scraping des données OHLC pour le ticker \u001b[33m USD/CNH \u001b[0m  ---  2020-08-25 22:15:13\nPause après le loop 3    2020-08-25- 22:15:14 \n\n \u001b[34m Scraping des données OHLC pour le ticker \u001b[33m USD/CNH \u001b[0m  ---  2020-08-25 22:20:13\nPause après le loop 4    2020-08-25- 22:20:13 \n\n \u001b[34m Scraping des données OHLC pour le ticker \u001b[33m USD/CNH \u001b[0m  ---  2020-08-25 22:25:13\nPause après le loop 5    2020-08-25- 22:25:13 \n\n \u001b[34m Scraping des données OHLC pour le ticker \u001b[33m USD/CNH \u001b[0m  ---  2020-08-25 22:30:15\nPause après le loop 6    2020-08-25- 22:30:15 \n\n \u001b[34m Scraping des données OHLC pour le ticker \u001b[33m USD/CNH \u001b[0m  ---  2020-08-25 22:35:17\nPause après le loop 7    2020-08-25- 22:35:17 \n\n \u001b[34m Scraping des données OHLC pour le ticker \u001b[33m USD/CNH \u001b[0m  ---  2020-08-25 22:40:13\nPause après le loop 8    2020-08-25- 22:40:13 \n\n \u001b[34m Scraping des données OHLC pour le ticker \u001b[33m USD/CNH \u001b[0m  ---  2020-08-25 22:45:12\nPause après le loop 9    2020-08-25- 22:45:12 \n\n \u001b[34m Scraping des données OHLC pour le ticker \u001b[33m USD/CNH \u001b[0m  ---  2020-08-25 22:50:13\nPause après le loop 10    2020-08-25- 22:50:13 \n\n \u001b[34m Scraping des données OHLC pour le ticker \u001b[33m USD/CNH \u001b[0m  ---  2020-08-25 22:55:13\nPause après le loop 11    2020-08-25- 22:55:13 \n\n \u001b[34m Scraping des données OHLC pour le ticker \u001b[33m USD/CNH \u001b[0m  ---  2020-08-25 23:00:12\nPause après le loop 12    2020-08-25- 23:00:12 \n\n \u001b[34m Scraping des données OHLC pour le ticker \u001b[33m USD/CNH \u001b[0m  ---  2020-08-25 23:05:15\nPause après le loop 13    2020-08-25- 23:05:15 \n\n"
    },
    {
     "output_type": "error",
     "ename": "KeyboardInterrupt",
     "evalue": "",
     "traceback": [
      "\u001b[0;31m---------------------------------------------------------------------------\u001b[0m",
      "\u001b[0;31mKeyboardInterrupt\u001b[0m                         Traceback (most recent call last)",
      "\u001b[0;32m<timed exec>\u001b[0m in \u001b[0;36m<module>\u001b[0;34m\u001b[0m\n",
      "\u001b[0;31mKeyboardInterrupt\u001b[0m: "
     ]
    }
   ],
   "source": [
    "%%time\n",
    "\n",
    "#TICKERS = con.get_instruments()\n",
    "TICKERS = [ 'EUR/USD','USD/JPY','GBP/USD','USD/CHF','EUR/CHF','AUD/USD','USD/CAD','NZD/USD','EUR/GBP','EUR/JPY','GBP/JPY','CHF/JPY','GBP/CHF','EUR/AUD','EUR/CAD','AUD/CAD','AUD/JPY','CAD/JPY','NZD/JPY','GBP/CAD','GBP/NZD','GBP/AUD','AUD/NZD','USD/SEK','EUR/SEK','EUR/NOK','USD/NOK','USD/MXN','AUD/CHF','EUR/NZD','USD/ZAR','ZAR/JPY','NZD/CHF','CAD/CHF','NZD/CAD','USD/ILS','USD/CNH']\n",
    "\n",
    "engine.say(\"Ready to go? Prepare to be billionnaire!!!! Bim\")\n",
    "engine.runAndWait()\n",
    "i = -1\n",
    "for loop in range(72000000):\n",
    "    for x in range(1000):\n",
    "        while dt.datetime.now().minute not in [0,5,10,15,20,25,30,35,40,45,50,55]:\n",
    "            time.sleep(1)\n",
    "    for x in TICKERS:\n",
    "        if con.is_subscribed(x) == False:\n",
    "            con.subscribe_market_data(x)\n",
    "\n",
    "        data = scrap_hist(x,_number,_period)\n",
    "        data2 = scrap_hist(x,_number,_period2)\n",
    "        price = data.copy()\n",
    "        price2 = data2.copy()\n",
    "        \n",
    "        MM21 = talib.EMA(price.Close, timeperiod=21)\n",
    "        rsi = talib.RSI(price.Close, timeperiod=14)\n",
    "        rsi_high = 65\n",
    "        rsi_low = 35\n",
    "        upperband, middleband, lowerband = talib.BBANDS(price.Close, timeperiod=5, nbdevup=2, nbdevdn=2, matype=0)\n",
    "        fastk, fastd = talib.STOCHRSI(price.Close, timeperiod=14, fastk_period=5, fastd_period=3, fastd_matype=0)#STOCHASTICRSI\n",
    "        slowk, slowd = talib.STOCH(price.High, price.Low, price.Close, fastk_period=5, slowk_period=3, slowk_matype=0, slowd_period=3, slowd_matype=0)#STOCHASTIC\n",
    "        \n",
    "        MM82 = talib.EMA(price2.Close, timeperiod=8)\n",
    "        MM212 = talib.EMA(price2.Close, timeperiod=21)\n",
    "        MM342 = talib.EMA(price2.Close, timeperiod=34)\n",
    "        rsi2 = talib.RSI(price2.Close, timeperiod=14)\n",
    "        upperband2, middleband2, lowerband2 = talib.BBANDS(price2.Close, timeperiod=5, nbdevup=2, nbdevdn=2, matype=0)\n",
    "        fastk2, fastd2 = talib.STOCHRSI(price2.Close, timeperiod=14, fastk_period=5, fastd_period=3, fastd_matype=0)#STOCHASTICRSI\n",
    "        slowk2, slowd2 = talib.STOCH(price2.High, price2.Low, price2.Close, fastk_period=5, slowk_period=3, slowk_matype=0, slowd_period=3, slowd_matype=0)\n",
    "\n",
    "        if slowk[i-1] > 80 and slowk[i-1] > slowd[i-1] and slowk[i] < slowd[i] and price.High[i-1] > price.High[i-2] and price.High[i] < price.High[i-2] :\n",
    "            j = len(price2[price2.index <= price.index[i]])-1\n",
    "                \n",
    "            if  price2.Close[j] < MM82[j] and MM82[j]<MM212[j] and MM212[j] < MM342[j] \\\n",
    "                and (price.Close_Ask[i]-price.Close_Bid[i])/price.Close_Ask[i] < _spread_filter:\n",
    "\n",
    "                if con.get_open_positions().shape[0] == 0:\n",
    "                    p0os = Short(x,_amount)\n",
    "                \n",
    "                elif x not in list(con.get_open_positions().currency):\n",
    "                    p0os = Short(x,_amount)\n",
    "\n",
    "                            \n",
    "        elif slowk[i-1] < 20 and slowk[i-1] < slowd[i-1] and slowk[i] > slowd[i] and price.Low[i-1] < price.Low[i-2] and price.Low[i] > price.Low[i-2]:\n",
    "            j = len(price2[price2.index <= price.index[i]])-1\n",
    "            \n",
    "            if price2.Close[j] > MM82[j] and MM82[j]>MM212[j] and MM212[j] > MM342[j] \\\n",
    "                and (price.Close_Ask[i]-price.Close_Bid[i])/price.Close_Ask[i] < _spread_filter:\n",
    "\n",
    "                if con.get_open_positions().shape[0] == 0:\n",
    "                    p0os = Long(x,_amount)\n",
    "                \n",
    "                elif x not in list(con.get_open_positions().currency):\n",
    "                    p0os = Long(x,_amount)\n",
    "\n",
    "        else :\n",
    "            pass\n",
    "    print('\\nPause après le loop',loop,'  ',dt.datetime.now().strftime(format='%Y-%m-%d- %H:%M:%S'),'\\n')\n",
    "    engine.say(\"\\nNow, entering the pause\\n\")\n",
    "    engine.runAndWait()\n",
    "    time.sleep(60)\n",
    "            \n"
   ]
  },
  {
   "cell_type": "code",
   "execution_count": 14,
   "metadata": {},
   "outputs": [
    {
     "output_type": "execute_result",
     "data": {
      "text/plain": "'2020-08-25- 21:05:44'"
     },
     "metadata": {},
     "execution_count": 14
    }
   ],
   "source": []
  },
  {
   "cell_type": "code",
   "execution_count": null,
   "metadata": {},
   "outputs": [],
   "source": []
  },
  {
   "cell_type": "code",
   "execution_count": null,
   "metadata": {},
   "outputs": [],
   "source": []
  },
  {
   "cell_type": "code",
   "execution_count": null,
   "metadata": {},
   "outputs": [],
   "source": []
  },
  {
   "cell_type": "code",
   "execution_count": null,
   "metadata": {},
   "outputs": [],
   "source": []
  },
  {
   "cell_type": "code",
   "execution_count": null,
   "metadata": {},
   "outputs": [],
   "source": []
  },
  {
   "cell_type": "code",
   "execution_count": null,
   "metadata": {},
   "outputs": [],
   "source": []
  },
  {
   "cell_type": "code",
   "execution_count": null,
   "metadata": {},
   "outputs": [],
   "source": []
  },
  {
   "cell_type": "code",
   "execution_count": null,
   "metadata": {},
   "outputs": [],
   "source": []
  },
  {
   "cell_type": "code",
   "execution_count": null,
   "metadata": {},
   "outputs": [],
   "source": []
  },
  {
   "cell_type": "code",
   "execution_count": null,
   "metadata": {},
   "outputs": [],
   "source": []
  },
  {
   "cell_type": "code",
   "execution_count": null,
   "metadata": {},
   "outputs": [],
   "source": []
  },
  {
   "cell_type": "code",
   "execution_count": null,
   "metadata": {},
   "outputs": [],
   "source": []
  },
  {
   "cell_type": "code",
   "execution_count": null,
   "metadata": {},
   "outputs": [],
   "source": []
  },
  {
   "cell_type": "code",
   "execution_count": null,
   "metadata": {},
   "outputs": [],
   "source": []
  }
 ],
 "metadata": {
  "kernelspec": {
   "display_name": "Python 3.7.6 64-bit ('FinTech': conda)",
   "language": "python",
   "name": "python37664bitfintechcondac76ab263fd6941b2a7e8b27983583628"
  },
  "language_info": {
   "codemirror_mode": {
    "name": "ipython",
    "version": 3
   },
   "file_extension": ".py",
   "mimetype": "text/x-python",
   "name": "python",
   "nbconvert_exporter": "python",
   "pygments_lexer": "ipython3",
   "version": "3.7.6-final"
  }
 },
 "nbformat": 4,
 "nbformat_minor": 4
}