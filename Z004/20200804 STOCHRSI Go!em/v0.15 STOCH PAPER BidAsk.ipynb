{
 "cells": [
  {
   "cell_type": "code",
   "execution_count": 1,
   "metadata": {},
   "outputs": [],
   "source": [
    "def clearall():\n",
    "    all = [var for var in globals() if var[0] != \"_\"]\n",
    "    for var in all:\n",
    "        del globals()[var]\n",
    "        \n",
    "clearall()"
   ]
  },
  {
   "cell_type": "code",
   "execution_count": 2,
   "metadata": {},
   "outputs": [],
   "source": [
    "# TO DO \n",
    "# \n",
    "# pour le nombre d'occurences (len !=), mettre un pnl latent pour la pos = 0\n",
    "# \n",
    "# \n",
    "# "
   ]
  },
  {
   "cell_type": "code",
   "execution_count": 3,
   "metadata": {
    "tags": []
   },
   "outputs": [
    {
     "output_type": "stream",
     "name": "stdout",
     "text": "Importing Librairies...\nLibrairies imported\n\nversion fxcmpy : 1.2.6\nPrêt\n"
    }
   ],
   "source": [
    "############################\n",
    "######## LIBRAIRIES ########\n",
    "############################\n",
    "print('Importing Librairies...')\n",
    "from sklearn.linear_model import LinearRegression\n",
    "import colorama as col\n",
    "import pandas as pd\n",
    "import matplotlib.pyplot as plt\n",
    "import matplotlib.dates as mdates\n",
    "import seaborn as sns\n",
    "import time\n",
    "import os\n",
    "import datetime as dt\n",
    "import numpy as np\n",
    "import fxcmpy\n",
    "import socketio\n",
    "import shelve\n",
    "import talib\n",
    "import statistics\n",
    "import pyttsx3\n",
    "import shelve\n",
    "\n",
    "engine = pyttsx3.init()\n",
    "\n",
    "print('Librairies imported\\n')\n",
    "print('version fxcmpy :',fxcmpy.__version__)\n",
    "%matplotlib inline\n",
    "plt.style.use('seaborn')\n",
    "engine.say(\"librairie loaded\")\n",
    "engine.runAndWait()\n",
    "print('Prêt')"
   ]
  },
  {
   "cell_type": "code",
   "execution_count": 4,
   "metadata": {
    "tags": []
   },
   "outputs": [
    {
     "output_type": "stream",
     "name": "stdout",
     "text": "Variables initialisées\n"
    }
   ],
   "source": [
    "engine.say(\"Ignition du Lumberjack\")\n",
    "engine.runAndWait() \n",
    "\n",
    "##############################################\n",
    "######## INITIALISATION DES VARIABLES ########\n",
    "##############################################\n",
    "\n",
    "\n",
    "# COMPTE TEST #\n",
    "\n",
    "'''\n",
    "TOKEN = 'a30285ad958d60b7e7134a195a516cf00a9967be'\n",
    "server = 'demo'\n",
    "user_id = 'D261219574'\n",
    "compte = '01215057'\n",
    "password = '3555'\n",
    "'''\n",
    "\n",
    "\n",
    "'''\n",
    "# COMPTE DEV #\n",
    "TOKEN = '79f83cbff13d296eb6d9b6c1ed6dccd768ef925a'\n",
    "server = 'demo'\n",
    "user_id = 'D261219577'\n",
    "compte = '01215060'\n",
    "password = '3877'\n",
    "'''\n",
    "\n",
    "\n",
    "# COMPTE POUBELLE #\n",
    "TOKEN = 'a66bf5c0ec732487f4b348baf6364d3ee8784935'\n",
    "server = 'demo'\n",
    "user_id = 'D261219576'\n",
    "compte = '01215059'\n",
    "password = '8029'\n",
    "\n",
    "\n",
    "\n",
    "# minutes: 'm1' , 'm5' , 'm15' , 'm30' \n",
    "# hours: 'H1' , 'H2', 'H3', 'H4', 'H6' 'H8'\n",
    "# one day: 'D1'\n",
    "# one week: 'W1'\n",
    "# one month: 'M1'\n",
    "\n",
    "\n",
    "_number = 40\n",
    "_period = 'm5'\n",
    "_period2 = 'D1'\n",
    "\n",
    "_amount = 10000\n",
    "_amount = _amount / 1000\n",
    "\n",
    "_target = 0.0020\n",
    "_sl = 0.0090\n",
    "_spread_filter = 0.0005\n",
    "_name = ''\n",
    "\n",
    "\n",
    "engine.say(\"בסדר\")\n",
    "engine.runAndWait()\n",
    "print('Variables initialisées')"
   ]
  },
  {
   "cell_type": "code",
   "execution_count": 5,
   "metadata": {
    "tags": []
   },
   "outputs": [
    {
     "output_type": "stream",
     "name": "stdout",
     "text": "Functions initiated\n"
    }
   ],
   "source": [
    "\n",
    "############################\n",
    "######## FONCTIONS ########\n",
    "###########################\n",
    "\n",
    "\n",
    "def conX():\n",
    "    con = fxcmpy.fxcmpy(access_token=TOKEN, log_level='error',server=server)\n",
    "    if con.is_connected() == True:\n",
    "        print(col.Fore.GREEN+'Connexion établie'+col.Style.RESET_ALL)\n",
    "        print('Compte utilisé : ',con.get_account_ids())\n",
    "    else:\n",
    "        print(col.Fore.RED+'Connexion non établie'+col.Style.RESET_ALL)\n",
    "    return(con)\n",
    "\n",
    "def deconX():\n",
    "    con = con.close()\n",
    "    if con.is_connected() == True:\n",
    "        print(col.Fore.GREEN+'Connexion non intérrompue'+col.Style.RESET_ALL)\n",
    "        print('Compte utilisé : ',con.get_account_ids())\n",
    "    else:\n",
    "        print(col.Fore.RED+'Connexion intérrompue'+col.Style.RESET_ALL)\n",
    "    return()\n",
    "\n",
    "\n",
    "def scrap_hist(_ticker,number,laperiod):\n",
    "    print(col.Fore.BLUE,'\\rScraping des données OHLC pour le ticker',col.Fore.YELLOW,_ticker,col.Style.RESET_ALL,' --- ',\\\n",
    "          dt.datetime.now().strftime(format='%Y-%m-%d %H:%M:%S'),end='',flush=True)\n",
    "\n",
    "    data = con.get_candles(instrument=_ticker,number = 40,period=laperiod)\n",
    "    df = pd.DataFrame(index=data.index)\n",
    "    df['Open_Bid'] = data['bidopen']\n",
    "    df['Open_Ask'] = data['askopen']\n",
    "    df['Open'] = (data['bidopen']+data['askopen'])/2\n",
    "    df['High_Bid'] = data['bidhigh']\n",
    "    df['High_Ask'] = data['askhigh']\n",
    "    df['High'] = (data['bidhigh']+data['askhigh'])/2\n",
    "    df['Low_Bid'] = data['bidlow']\n",
    "    df['Low_Ask'] = data['asklow']\n",
    "    df['Low'] = (data['bidlow']+data['asklow'])/2\n",
    "    df['Close_Bid'] = data['bidclose']\n",
    "    df['Close_Ask'] = data['askclose']\n",
    "    df['Close'] = (data['bidclose']+data['askclose'])/2\n",
    "    return(df)\n",
    "\n",
    "\n",
    "\n",
    "def Short(ticker,_mise):\n",
    "    print('')\n",
    "    print(col.Fore.RED,'Short =>',col.Fore.YELLOW,' Ticker : ',ticker,col.Fore.WHITE,' - Amount : ',_amount,')',col.Style.RESET_ALL)\n",
    "    engine.say(\"Foxtrot Foxtrot. We are going short\")\n",
    "    engine.runAndWait()\n",
    "    \n",
    "    p0os= con.open_trade(symbol=ticker, is_buy=False, is_in_pips=False, amount=_mise, time_in_force='GTC', order_type='AtMarket',\\\n",
    "                                limit=round(float(con.get_last_price(ticker).Bid * (1 - _target)),4) ,\\\n",
    "                         stop=round(float(con.get_last_price(ticker).Bid * (1 + _sl)),4),\\\n",
    "                                        trailing_step=None)\n",
    "    return(p0os)\n",
    "\n",
    "\n",
    "def Long(ticker,_mise):\n",
    "    print('')\n",
    "    print(col.Fore.GREEN,'Long =>',col.Fore.YELLOW,' Ticker : ',ticker,col.Fore.WHITE,' - Amount : ',_amount,')',col.Style.RESET_ALL)\n",
    "    engine.say(\"Foxtrot Foxtrot. We are going long\")\n",
    "    engine.runAndWait()\n",
    "    \n",
    "    p0os= con.open_trade(symbol=ticker, is_buy=True, is_in_pips=False, amount=_mise, time_in_force='GTC', order_type='AtMarket',\\\n",
    "                                limit=round(float(con.get_last_price(ticker).Ask * (1 + _target)),4) ,\\\n",
    "                         stop=round(float(con.get_last_price(ticker).Ask * (1 - _sl)),4),\\\n",
    "                                        trailing_step=None)\n",
    "    return(p0os)\n",
    " \n",
    "\n",
    "def load_data():\n",
    "    t = shelve.open('TABLES_'+compte+'/tables')\n",
    "    for key,val in t.items():\n",
    "        exec(key + '=val') \n",
    "    TABLE = t['TABLES']\n",
    "    t.close()\n",
    "    return(TABLE)\n",
    "\n",
    "\n",
    "def save_data(TABLE):\n",
    "    print('Sauvegarde de la table')\n",
    "    t = shelve.open('TABLES_'+compte+'/tables')\n",
    "    t['TABLES'] = TABLE\n",
    "    t.close()\n",
    "    return()\n",
    "\n",
    "engine.say(\"functions initiated\")\n",
    "engine.runAndWait()\n",
    "print('Functions initiated')"
   ]
  },
  {
   "cell_type": "code",
   "execution_count": 6,
   "metadata": {
    "tags": []
   },
   "outputs": [
    {
     "output_type": "stream",
     "name": "stdout",
     "text": "Global Optimized LumberJack Environment Motor for FOR_EX\nLumberJack Jyss 5780(c)\n\u001b[34m °0Oo_D.A.G._26_oO0°\n\u001b[33m \u001b[44m --- Go!em STOCHASTIC-RSI #v0.15 PAPER TRADE --- \u001b[0m\n\n\u001b[32mConnexion établie\u001b[0m\nCompte utilisé :  [1215059]\n\u001b[32mConnexion établie\u001b[0m\nCompte utilisé :  [1215059]\n"
    }
   ],
   "source": [
    "#########################\n",
    "### CONNEXION A L'API ###\n",
    "#########################\n",
    "\n",
    "___Author___='LumberJack Jyss'\n",
    "print('Global Optimized LumberJack Environment Motor for FOR_EX\\nLumberJack Jyss 5780(c)')\n",
    "print(col.Fore.BLUE,'°0Oo_D.A.G._26_oO0°')\n",
    "print(col.Fore.YELLOW,col.Back.BLUE,'--- Go!em STOCHASTIC-RSI #v0.15 PAPER TRADE ---',col.Style.RESET_ALL)\n",
    "\n",
    "print('')\n",
    "engine.say(\" Initialisation du Gaulem Stok R S E paper trade version 0.15\")\n",
    "engine.say(\"Connexion du Gaulem hà la Péh e\")\n",
    "engine.runAndWait()\n",
    "\n",
    "try:\n",
    "    con.is_connected() == True\n",
    "    \n",
    "    engine.say(\"already Connected\")\n",
    "    engine.runAndWait()\n",
    "    print(col.Fore.GREEN+'Connexion rétablie'+col.Style.RESET_ALL)\n",
    "    print('Compte utilisé : ',con.get_account_ids())\n",
    "    print('')\n",
    "    \n",
    "except:\n",
    "    try:\n",
    "        con = conX()\n",
    "        con.is_connected() == True\n",
    "        print(col.Fore.GREEN+'Connexion établie'+col.Style.RESET_ALL)\n",
    "        print('Compte utilisé : ',con.get_account_ids())\n",
    "        engine.say(\"Connected\")\n",
    "        engine.runAndWait()\n",
    "    except:\n",
    "        print(col.Fore.RED+'Connexion non établie'+col.Style.RESET_ALL)\n",
    "        engine.say(\"Not Connected, sal rass de mor, pitun cé la merd\")\n",
    "        engine.say(\"vérifi ton internet, é relance le gaulèm\")\n",
    "        engine.runAndWait()\n",
    "        print('')\n",
    "        #os._exit(0)\n",
    "        con = deconX()\n",
    "        time.sleep(1)\n",
    "        con = conX()"
   ]
  },
  {
   "cell_type": "code",
   "execution_count": 7,
   "metadata": {},
   "outputs": [],
   "source": [
    "_id = ''\n",
    "_currency = ''\n",
    "_open = 0\n",
    "_amountk = 0\n",
    "_isbuy = False\n",
    "_open_poz = 0\n",
    "_price_buy_mean = 0"
   ]
  },
  {
   "cell_type": "code",
   "execution_count": 9,
   "metadata": {
    "tags": []
   },
   "outputs": [
    {
     "output_type": "stream",
     "name": "stdout",
     "text": "Scraping des données OHLC pour le ticker \u001b[33m NZD/USD \u001b[0m  ---  2020-09-03 22:50:14\n\u001b[32m Long => \u001b[33m  Ticker :  NZD/USD \u001b[37m  - Amount :  10.0 ) \u001b[0m\nSauvegarde de la table\nScraping des données OHLC pour le ticker \u001b[33m USD/CNH \u001b[0m  ---  2020-09-03 22:50:45\nPause après le loop 0    2020-09-03- 22:50:45 \n\nScraping des données OHLC pour le ticker \u001b[33m USD/CNH \u001b[0m  ---  2020-09-03 22:55:41\nPause après le loop 1    2020-09-03- 22:55:41 \n\nScraping des données OHLC pour le ticker \u001b[33m USD/CNH \u001b[0m  ---  2020-09-03 23:00:38\nPause après le loop 2    2020-09-03- 23:00:38 \n\nScraping des données OHLC pour le ticker \u001b[33m USD/CNH \u001b[0m  ---  2020-09-03 23:05:31\nPause après le loop 3    2020-09-03- 23:05:31 \n\nScraping des données OHLC pour le ticker \u001b[33m USD/CNH \u001b[0m  ---  2020-09-03 23:10:30\nPause après le loop 4    2020-09-03- 23:10:30 \n\nScraping des données OHLC pour le ticker \u001b[33m USD/CNH \u001b[0m  ---  2020-09-03 23:15:30\nPause après le loop 5    2020-09-03- 23:15:31 \n\nScraping des données OHLC pour le ticker \u001b[33m USD/CNH \u001b[0m  ---  2020-09-03 23:20:34\nPause après le loop 6    2020-09-03- 23:20:35 \n\nScraping des données OHLC pour le ticker \u001b[33m USD/CNH \u001b[0m  ---  2020-09-03 23:25:31\nPause après le loop 7    2020-09-03- 23:25:32 \n\nScraping des données OHLC pour le ticker \u001b[33m USD/CNH \u001b[0m  ---  2020-09-03 23:30:31\nPause après le loop 8    2020-09-03- 23:30:31 \n\nScraping des données OHLC pour le ticker \u001b[33m USD/CNH \u001b[0m  ---  2020-09-03 23:35:30\nPause après le loop 9    2020-09-03- 23:35:30 \n\nScraping des données OHLC pour le ticker \u001b[33m USD/CNH \u001b[0m  ---  2020-09-03 23:40:30\nPause après le loop 10    2020-09-03- 23:40:30 \n\nScraping des données OHLC pour le ticker \u001b[33m USD/CNH \u001b[0m  ---  2020-09-03 23:45:29\nPause après le loop 11    2020-09-03- 23:45:30 \n\nScraping des données OHLC pour le ticker \u001b[33m USD/CNH \u001b[0m  ---  2020-09-03 23:50:30\nPause après le loop 12    2020-09-03- 23:50:31 \n\nScraping des données OHLC pour le ticker \u001b[33m USD/CNH \u001b[0m  ---  2020-09-03 23:55:30\nPause après le loop 13    2020-09-03- 23:55:30 \n\nScraping des données OHLC pour le ticker \u001b[33m USD/CNH \u001b[0m  ---  2020-09-04 00:00:30\nPause après le loop 14    2020-09-04- 00:00:31 \n\nScraping des données OHLC pour le ticker \u001b[33m USD/CNH \u001b[0m  ---  2020-09-04 00:05:30\nPause après le loop 15    2020-09-04- 00:05:30 \n\nScraping des données OHLC pour le ticker \u001b[33m USD/CNH \u001b[0m  ---  2020-09-04 00:10:33\nPause après le loop 16    2020-09-04- 00:10:33 \n\nScraping des données OHLC pour le ticker \u001b[33m USD/CNH \u001b[0m  ---  2020-09-04 00:15:31\nPause après le loop 17    2020-09-04- 00:15:31 \n\nScraping des données OHLC pour le ticker \u001b[33m USD/CNH \u001b[0m  ---  2020-09-04 00:20:29\nPause après le loop 18    2020-09-04- 00:20:29 \n\nScraping des données OHLC pour le ticker \u001b[33m EUR/JPY \u001b[0m  ---  2020-09-04 00:25:16\n\u001b[32m Long => \u001b[33m  Ticker :  EUR/JPY \u001b[37m  - Amount :  10.0 ) \u001b[0m\nSauvegarde de la table\nScraping des données OHLC pour le ticker \u001b[33m USD/MXN \u001b[0m  ---  2020-09-04 00:25:39\n\u001b[31m Short => \u001b[33m  Ticker :  USD/MXN \u001b[37m  - Amount :  10.0 ) \u001b[0m\nSauvegarde de la table\nScraping des données OHLC pour le ticker \u001b[33m USD/CNH \u001b[0m  ---  2020-09-04 00:25:58\nPause après le loop 19    2020-09-04- 00:25:58 \n\nScraping des données OHLC pour le ticker \u001b[33m USD/MXN \u001b[0m  ---  2020-09-04 00:30:26\n\u001b[31m Short => \u001b[33m  Ticker :  USD/MXN \u001b[37m  - Amount :  10.0 ) \u001b[0m\nSauvegarde de la table\nScraping des données OHLC pour le ticker \u001b[33m USD/CNH \u001b[0m  ---  2020-09-04 00:30:45\nPause après le loop 20    2020-09-04- 00:30:45 \n\nScraping des données OHLC pour le ticker \u001b[33m NZD/USD \u001b[0m  ---  2020-09-04 00:35:14\n\u001b[32m Long => \u001b[33m  Ticker :  NZD/USD \u001b[37m  - Amount :  10.0 ) \u001b[0m\nSauvegarde de la table\nScraping des données OHLC pour le ticker \u001b[33m USD/CNH \u001b[0m  ---  2020-09-04 00:35:44\nPause après le loop 21    2020-09-04- 00:35:44 \n\nScraping des données OHLC pour le ticker \u001b[33m USD/CNH \u001b[0m  ---  2020-09-04 00:40:30\nPause après le loop 22    2020-09-04- 00:40:31 \n\nScraping des données OHLC pour le ticker \u001b[33m USD/CNH \u001b[0m  ---  2020-09-04 00:45:30\nPause après le loop 23    2020-09-04- 00:45:31 \n\nScraping des données OHLC pour le ticker \u001b[33m USD/CNH \u001b[0m  ---  2020-09-04 00:50:34\nPause après le loop 24    2020-09-04- 00:50:34 \n\nScraping des données OHLC pour le ticker \u001b[33m USD/CNH \u001b[0m  ---  2020-09-04 00:55:33\nPause après le loop 25    2020-09-04- 00:55:33 \n\nScraping des données OHLC pour le ticker \u001b[33m NZD/USD \u001b[0m  ---  2020-09-04 01:00:14\n\u001b[32m Long => \u001b[33m  Ticker :  NZD/USD \u001b[37m  - Amount :  10.0 ) \u001b[0m\nSauvegarde de la table\nScraping des données OHLC pour le ticker \u001b[33m USD/CNH \u001b[0m  ---  2020-09-04 01:00:51\nPause après le loop 26    2020-09-04- 01:00:51 \n\nScraping des données OHLC pour le ticker \u001b[33m USD/CNH \u001b[0m  ---  2020-09-04 01:05:30\nPause après le loop 27    2020-09-04- 01:05:31 \n\nScraping des données OHLC pour le ticker \u001b[33m USD/CNH \u001b[0m  ---  2020-09-04 01:10:34\nPause après le loop 28    2020-09-04- 01:10:34 \n\nScraping des données OHLC pour le ticker \u001b[33m USD/CNH \u001b[0m  ---  2020-09-04 01:15:30\nPause après le loop 29    2020-09-04- 01:15:31 \n\nScraping des données OHLC pour le ticker \u001b[33m USD/CNH \u001b[0m  ---  2020-09-04 01:20:32\nPause après le loop 30    2020-09-04- 01:20:32 \n\nScraping des données OHLC pour le ticker \u001b[33m USD/CNH \u001b[0m  ---  2020-09-04 01:25:31\nPause après le loop 31    2020-09-04- 01:25:31 \n\nScraping des données OHLC pour le ticker \u001b[33m CHF/JPY \u001b[0m  ---  2020-09-04 01:30:17\n\u001b[32m Long => \u001b[33m  Ticker :  CHF/JPY \u001b[37m  - Amount :  10.0 ) \u001b[0m\nSauvegarde de la table\nScraping des données OHLC pour le ticker \u001b[33m USD/CNH \u001b[0m  ---  2020-09-04 01:30:45\nPause après le loop 32    2020-09-04- 01:30:46 \n\nScraping des données OHLC pour le ticker \u001b[33m EUR/GBP \u001b[0m  ---  2020-09-04 01:35:15\n\u001b[31m Short => \u001b[33m  Ticker :  EUR/GBP \u001b[37m  - Amount :  10.0 ) \u001b[0m\nSauvegarde de la table\nScraping des données OHLC pour le ticker \u001b[33m USD/CNH \u001b[0m  ---  2020-09-04 01:35:45\nPause après le loop 33    2020-09-04- 01:35:45 \n\nScraping des données OHLC pour le ticker \u001b[33m USD/CNH \u001b[0m  ---  2020-09-04 01:40:31\nPause après le loop 34    2020-09-04- 01:40:31 \n\nScraping des données OHLC pour le ticker \u001b[33m USD/CNH \u001b[0m  ---  2020-09-04 01:45:32\nPause après le loop 35    2020-09-04- 01:45:33 \n\nScraping des données OHLC pour le ticker \u001b[33m USD/CNH \u001b[0m  ---  2020-09-04 01:50:31\nPause après le loop 36    2020-09-04- 01:50:31 \n\nScraping des données OHLC pour le ticker \u001b[33m USD/CNH \u001b[0m  ---  2020-09-04 01:55:31\nPause après le loop 37    2020-09-04- 01:55:31 \n\nScraping des données OHLC pour le ticker \u001b[33m USD/CNH \u001b[0m  ---  2020-09-04 02:00:31\nPause après le loop 38    2020-09-04- 02:00:31 \n\nScraping des données OHLC pour le ticker \u001b[33m NZD/USD \u001b[0m  ---  2020-09-04 02:05:15\n\u001b[32m Long => \u001b[33m  Ticker :  NZD/USD \u001b[37m  - Amount :  10.0 ) \u001b[0m\nSauvegarde de la table\nScraping des données OHLC pour le ticker \u001b[33m USD/CNH \u001b[0m  ---  2020-09-04 02:05:47\nPause après le loop 39    2020-09-04- 02:05:47 \n\nScraping des données OHLC pour le ticker \u001b[33m USD/CNH \u001b[0m  ---  2020-09-04 02:10:31\nPause après le loop 40    2020-09-04- 02:10:31 \n\nScraping des données OHLC pour le ticker \u001b[33m USD/CNH \u001b[0m  ---  2020-09-04 02:15:31\nPause après le loop 41    2020-09-04- 02:15:32 \n\nScraping des données OHLC pour le ticker \u001b[33m USD/CNH \u001b[0m  ---  2020-09-04 02:20:31\nPause après le loop 42    2020-09-04- 02:20:32 \n\nScraping des données OHLC pour le ticker \u001b[33m USD/CNH \u001b[0m  ---  2020-09-04 02:25:32\nPause après le loop 43    2020-09-04- 02:25:32 \n\nScraping des données OHLC pour le ticker \u001b[33m USD/CNH \u001b[0m  ---  2020-09-04 02:30:31\nPause après le loop 44    2020-09-04- 02:30:32 \n\nScraping des données OHLC pour le ticker \u001b[33m USD/CNH \u001b[0m  ---  2020-09-04 02:35:32\nPause après le loop 45    2020-09-04- 02:35:35 \n\nScraping des données OHLC pour le ticker \u001b[33m USD/CNH \u001b[0m  ---  2020-09-04 02:40:31\nPause après le loop 46    2020-09-04- 02:40:32 \n\nScraping des données OHLC pour le ticker \u001b[33m USD/CNH \u001b[0m  ---  2020-09-04 02:45:32\nPause après le loop 47    2020-09-04- 02:45:32 \n\nScraping des données OHLC pour le ticker \u001b[33m USD/CNH \u001b[0m  ---  2020-09-04 02:50:30\nPause après le loop 48    2020-09-04- 02:50:31 \n\nScraping des données OHLC pour le ticker \u001b[33m USD/CNH \u001b[0m  ---  2020-09-04 02:55:32\nPause après le loop 49    2020-09-04- 02:55:32 \n\nScraping des données OHLC pour le ticker \u001b[33m USD/CNH \u001b[0m  ---  2020-09-04 03:00:32\nPause après le loop 50    2020-09-04- 03:00:32 \n\nScraping des données OHLC pour le ticker \u001b[33m USD/CNH \u001b[0m  ---  2020-09-04 03:05:31\nPause après le loop 51    2020-09-04- 03:05:31 \n\nScraping des données OHLC pour le ticker \u001b[33m USD/CNH \u001b[0m  ---  2020-09-04 03:10:30\nPause après le loop 52    2020-09-04- 03:10:31 \n\nScraping des données OHLC pour le ticker \u001b[33m USD/CNH \u001b[0m  ---  2020-09-04 03:15:34\nPause après le loop 53    2020-09-04- 03:15:34 \n\nScraping des données OHLC pour le ticker \u001b[33m USD/CNH \u001b[0m  ---  2020-09-04 03:20:31\nPause après le loop 54    2020-09-04- 03:20:32 \n\nScraping des données OHLC pour le ticker \u001b[33m USD/CNH \u001b[0m  ---  2020-09-04 03:25:36\nPause après le loop 55    2020-09-04- 03:25:36 \n\nScraping des données OHLC pour le ticker \u001b[33m USD/CNH \u001b[0m  ---  2020-09-04 03:30:32\nPause après le loop 56    2020-09-04- 03:30:33 \n\nScraping des données OHLC pour le ticker \u001b[33m USD/CNH \u001b[0m  ---  2020-09-04 03:35:32\nPause après le loop 57    2020-09-04- 03:35:32 \n\nScraping des données OHLC pour le ticker \u001b[33m USD/CNH \u001b[0m  ---  2020-09-04 03:40:31\nPause après le loop 58    2020-09-04- 03:40:31 \n\nScraping des données OHLC pour le ticker \u001b[33m USD/CNH \u001b[0m  ---  2020-09-04 03:45:35\nPause après le loop 59    2020-09-04- 03:45:35 \n\nScraping des données OHLC pour le ticker \u001b[33m USD/CNH \u001b[0m  ---  2020-09-04 03:50:32\nPause après le loop 60    2020-09-04- 03:50:33 \n\nScraping des données OHLC pour le ticker \u001b[33m USD/CNH \u001b[0m  ---  2020-09-04 03:55:32\nPause après le loop 61    2020-09-04- 03:55:32 \n\nScraping des données OHLC pour le ticker \u001b[33m USD/CNH \u001b[0m  ---  2020-09-04 04:00:34\nPause après le loop 62    2020-09-04- 04:00:35 \n\nScraping des données OHLC pour le ticker \u001b[33m USD/CNH \u001b[0m  ---  2020-09-04 04:05:31\nPause après le loop 63    2020-09-04- 04:05:31 \n\nScraping des données OHLC pour le ticker \u001b[33m USD/CNH \u001b[0m  ---  2020-09-04 04:10:31\nPause après le loop 64    2020-09-04- 04:10:32 \n\nScraping des données OHLC pour le ticker \u001b[33m USD/CNH \u001b[0m  ---  2020-09-04 04:15:31\nPause après le loop 65    2020-09-04- 04:15:32 \n\nScraping des données OHLC pour le ticker \u001b[33m USD/CNH \u001b[0m  ---  2020-09-04 04:20:32\nPause après le loop 66    2020-09-04- 04:20:32 \n\nScraping des données OHLC pour le ticker \u001b[33m USD/CNH \u001b[0m  ---  2020-09-04 04:25:31\nPause après le loop 67    2020-09-04- 04:25:31 \n\nScraping des données OHLC pour le ticker \u001b[33m USD/CNH \u001b[0m  ---  2020-09-04 04:30:31\nPause après le loop 68    2020-09-04- 04:30:32 \n\nScraping des données OHLC pour le ticker \u001b[33m USD/CNH \u001b[0m  ---  2020-09-04 04:35:31\nPause après le loop 69    2020-09-04- 04:35:31 \n\nScraping des données OHLC pour le ticker \u001b[33m USD/CNH \u001b[0m  ---  2020-09-04 04:40:31\nPause après le loop 70    2020-09-04- 04:40:31 \n\nScraping des données OHLC pour le ticker \u001b[33m EUR/USD \u001b[0m  ---  2020-09-04 04:45:10"
    },
    {
     "output_type": "error",
     "ename": "ConnectionError",
     "evalue": "('Connection aborted.', RemoteDisconnected('Remote end closed connection without response'))",
     "traceback": [
      "\u001b[0;31m---------------------------------------------------------------------------\u001b[0m",
      "\u001b[0;31mRemoteDisconnected\u001b[0m                        Traceback (most recent call last)",
      "\u001b[0;32m/opt/anaconda3/envs/FinTech/lib/python3.7/site-packages/urllib3/connectionpool.py\u001b[0m in \u001b[0;36murlopen\u001b[0;34m(self, method, url, body, headers, retries, redirect, assert_same_host, timeout, pool_timeout, release_conn, chunked, body_pos, **response_kw)\u001b[0m\n\u001b[1;32m    671\u001b[0m                 \u001b[0mheaders\u001b[0m\u001b[0;34m=\u001b[0m\u001b[0mheaders\u001b[0m\u001b[0;34m,\u001b[0m\u001b[0;34m\u001b[0m\u001b[0;34m\u001b[0m\u001b[0m\n\u001b[0;32m--> 672\u001b[0;31m                 \u001b[0mchunked\u001b[0m\u001b[0;34m=\u001b[0m\u001b[0mchunked\u001b[0m\u001b[0;34m,\u001b[0m\u001b[0;34m\u001b[0m\u001b[0;34m\u001b[0m\u001b[0m\n\u001b[0m\u001b[1;32m    673\u001b[0m             )\n",
      "\u001b[0;32m/opt/anaconda3/envs/FinTech/lib/python3.7/site-packages/urllib3/connectionpool.py\u001b[0m in \u001b[0;36m_make_request\u001b[0;34m(self, conn, method, url, timeout, chunked, **httplib_request_kw)\u001b[0m\n\u001b[1;32m    420\u001b[0m                     \u001b[0;31m# Otherwise it looks like a bug in the code.\u001b[0m\u001b[0;34m\u001b[0m\u001b[0;34m\u001b[0m\u001b[0;34m\u001b[0m\u001b[0m\n\u001b[0;32m--> 421\u001b[0;31m                     \u001b[0msix\u001b[0m\u001b[0;34m.\u001b[0m\u001b[0mraise_from\u001b[0m\u001b[0;34m(\u001b[0m\u001b[0me\u001b[0m\u001b[0;34m,\u001b[0m \u001b[0;32mNone\u001b[0m\u001b[0;34m)\u001b[0m\u001b[0;34m\u001b[0m\u001b[0;34m\u001b[0m\u001b[0m\n\u001b[0m\u001b[1;32m    422\u001b[0m         \u001b[0;32mexcept\u001b[0m \u001b[0;34m(\u001b[0m\u001b[0mSocketTimeout\u001b[0m\u001b[0;34m,\u001b[0m \u001b[0mBaseSSLError\u001b[0m\u001b[0;34m,\u001b[0m \u001b[0mSocketError\u001b[0m\u001b[0;34m)\u001b[0m \u001b[0;32mas\u001b[0m \u001b[0me\u001b[0m\u001b[0;34m:\u001b[0m\u001b[0;34m\u001b[0m\u001b[0;34m\u001b[0m\u001b[0m\n",
      "\u001b[0;32m/opt/anaconda3/envs/FinTech/lib/python3.7/site-packages/urllib3/packages/six.py\u001b[0m in \u001b[0;36mraise_from\u001b[0;34m(value, from_value)\u001b[0m\n",
      "\u001b[0;32m/opt/anaconda3/envs/FinTech/lib/python3.7/site-packages/urllib3/connectionpool.py\u001b[0m in \u001b[0;36m_make_request\u001b[0;34m(self, conn, method, url, timeout, chunked, **httplib_request_kw)\u001b[0m\n\u001b[1;32m    415\u001b[0m                 \u001b[0;32mtry\u001b[0m\u001b[0;34m:\u001b[0m\u001b[0;34m\u001b[0m\u001b[0;34m\u001b[0m\u001b[0m\n\u001b[0;32m--> 416\u001b[0;31m                     \u001b[0mhttplib_response\u001b[0m \u001b[0;34m=\u001b[0m \u001b[0mconn\u001b[0m\u001b[0;34m.\u001b[0m\u001b[0mgetresponse\u001b[0m\u001b[0;34m(\u001b[0m\u001b[0;34m)\u001b[0m\u001b[0;34m\u001b[0m\u001b[0;34m\u001b[0m\u001b[0m\n\u001b[0m\u001b[1;32m    417\u001b[0m                 \u001b[0;32mexcept\u001b[0m \u001b[0mBaseException\u001b[0m \u001b[0;32mas\u001b[0m \u001b[0me\u001b[0m\u001b[0;34m:\u001b[0m\u001b[0;34m\u001b[0m\u001b[0;34m\u001b[0m\u001b[0m\n",
      "\u001b[0;32m/opt/anaconda3/envs/FinTech/lib/python3.7/http/client.py\u001b[0m in \u001b[0;36mgetresponse\u001b[0;34m(self)\u001b[0m\n\u001b[1;32m   1343\u001b[0m             \u001b[0;32mtry\u001b[0m\u001b[0;34m:\u001b[0m\u001b[0;34m\u001b[0m\u001b[0;34m\u001b[0m\u001b[0m\n\u001b[0;32m-> 1344\u001b[0;31m                 \u001b[0mresponse\u001b[0m\u001b[0;34m.\u001b[0m\u001b[0mbegin\u001b[0m\u001b[0;34m(\u001b[0m\u001b[0;34m)\u001b[0m\u001b[0;34m\u001b[0m\u001b[0;34m\u001b[0m\u001b[0m\n\u001b[0m\u001b[1;32m   1345\u001b[0m             \u001b[0;32mexcept\u001b[0m \u001b[0mConnectionError\u001b[0m\u001b[0;34m:\u001b[0m\u001b[0;34m\u001b[0m\u001b[0;34m\u001b[0m\u001b[0m\n",
      "\u001b[0;32m/opt/anaconda3/envs/FinTech/lib/python3.7/http/client.py\u001b[0m in \u001b[0;36mbegin\u001b[0;34m(self)\u001b[0m\n\u001b[1;32m    305\u001b[0m         \u001b[0;32mwhile\u001b[0m \u001b[0;32mTrue\u001b[0m\u001b[0;34m:\u001b[0m\u001b[0;34m\u001b[0m\u001b[0;34m\u001b[0m\u001b[0m\n\u001b[0;32m--> 306\u001b[0;31m             \u001b[0mversion\u001b[0m\u001b[0;34m,\u001b[0m \u001b[0mstatus\u001b[0m\u001b[0;34m,\u001b[0m \u001b[0mreason\u001b[0m \u001b[0;34m=\u001b[0m \u001b[0mself\u001b[0m\u001b[0;34m.\u001b[0m\u001b[0m_read_status\u001b[0m\u001b[0;34m(\u001b[0m\u001b[0;34m)\u001b[0m\u001b[0;34m\u001b[0m\u001b[0;34m\u001b[0m\u001b[0m\n\u001b[0m\u001b[1;32m    307\u001b[0m             \u001b[0;32mif\u001b[0m \u001b[0mstatus\u001b[0m \u001b[0;34m!=\u001b[0m \u001b[0mCONTINUE\u001b[0m\u001b[0;34m:\u001b[0m\u001b[0;34m\u001b[0m\u001b[0;34m\u001b[0m\u001b[0m\n",
      "\u001b[0;32m/opt/anaconda3/envs/FinTech/lib/python3.7/http/client.py\u001b[0m in \u001b[0;36m_read_status\u001b[0;34m(self)\u001b[0m\n\u001b[1;32m    274\u001b[0m             \u001b[0;31m# sending a valid response.\u001b[0m\u001b[0;34m\u001b[0m\u001b[0;34m\u001b[0m\u001b[0;34m\u001b[0m\u001b[0m\n\u001b[0;32m--> 275\u001b[0;31m             raise RemoteDisconnected(\"Remote end closed connection without\"\n\u001b[0m\u001b[1;32m    276\u001b[0m                                      \" response\")\n",
      "\u001b[0;31mRemoteDisconnected\u001b[0m: Remote end closed connection without response",
      "\nDuring handling of the above exception, another exception occurred:\n",
      "\u001b[0;31mProtocolError\u001b[0m                             Traceback (most recent call last)",
      "\u001b[0;32m/opt/anaconda3/envs/FinTech/lib/python3.7/site-packages/requests/adapters.py\u001b[0m in \u001b[0;36msend\u001b[0;34m(self, request, stream, timeout, verify, cert, proxies)\u001b[0m\n\u001b[1;32m    448\u001b[0m                     \u001b[0mretries\u001b[0m\u001b[0;34m=\u001b[0m\u001b[0mself\u001b[0m\u001b[0;34m.\u001b[0m\u001b[0mmax_retries\u001b[0m\u001b[0;34m,\u001b[0m\u001b[0;34m\u001b[0m\u001b[0;34m\u001b[0m\u001b[0m\n\u001b[0;32m--> 449\u001b[0;31m                     \u001b[0mtimeout\u001b[0m\u001b[0;34m=\u001b[0m\u001b[0mtimeout\u001b[0m\u001b[0;34m\u001b[0m\u001b[0;34m\u001b[0m\u001b[0m\n\u001b[0m\u001b[1;32m    450\u001b[0m                 )\n",
      "\u001b[0;32m/opt/anaconda3/envs/FinTech/lib/python3.7/site-packages/urllib3/connectionpool.py\u001b[0m in \u001b[0;36murlopen\u001b[0;34m(self, method, url, body, headers, retries, redirect, assert_same_host, timeout, pool_timeout, release_conn, chunked, body_pos, **response_kw)\u001b[0m\n\u001b[1;32m    719\u001b[0m             retries = retries.increment(\n\u001b[0;32m--> 720\u001b[0;31m                 \u001b[0mmethod\u001b[0m\u001b[0;34m,\u001b[0m \u001b[0murl\u001b[0m\u001b[0;34m,\u001b[0m \u001b[0merror\u001b[0m\u001b[0;34m=\u001b[0m\u001b[0me\u001b[0m\u001b[0;34m,\u001b[0m \u001b[0m_pool\u001b[0m\u001b[0;34m=\u001b[0m\u001b[0mself\u001b[0m\u001b[0;34m,\u001b[0m \u001b[0m_stacktrace\u001b[0m\u001b[0;34m=\u001b[0m\u001b[0msys\u001b[0m\u001b[0;34m.\u001b[0m\u001b[0mexc_info\u001b[0m\u001b[0;34m(\u001b[0m\u001b[0;34m)\u001b[0m\u001b[0;34m[\u001b[0m\u001b[0;36m2\u001b[0m\u001b[0;34m]\u001b[0m\u001b[0;34m\u001b[0m\u001b[0;34m\u001b[0m\u001b[0m\n\u001b[0m\u001b[1;32m    721\u001b[0m             )\n",
      "\u001b[0;32m/opt/anaconda3/envs/FinTech/lib/python3.7/site-packages/urllib3/util/retry.py\u001b[0m in \u001b[0;36mincrement\u001b[0;34m(self, method, url, response, error, _pool, _stacktrace)\u001b[0m\n\u001b[1;32m    399\u001b[0m             \u001b[0;32mif\u001b[0m \u001b[0mread\u001b[0m \u001b[0;32mis\u001b[0m \u001b[0;32mFalse\u001b[0m \u001b[0;32mor\u001b[0m \u001b[0;32mnot\u001b[0m \u001b[0mself\u001b[0m\u001b[0;34m.\u001b[0m\u001b[0m_is_method_retryable\u001b[0m\u001b[0;34m(\u001b[0m\u001b[0mmethod\u001b[0m\u001b[0;34m)\u001b[0m\u001b[0;34m:\u001b[0m\u001b[0;34m\u001b[0m\u001b[0;34m\u001b[0m\u001b[0m\n\u001b[0;32m--> 400\u001b[0;31m                 \u001b[0;32mraise\u001b[0m \u001b[0msix\u001b[0m\u001b[0;34m.\u001b[0m\u001b[0mreraise\u001b[0m\u001b[0;34m(\u001b[0m\u001b[0mtype\u001b[0m\u001b[0;34m(\u001b[0m\u001b[0merror\u001b[0m\u001b[0;34m)\u001b[0m\u001b[0;34m,\u001b[0m \u001b[0merror\u001b[0m\u001b[0;34m,\u001b[0m \u001b[0m_stacktrace\u001b[0m\u001b[0;34m)\u001b[0m\u001b[0;34m\u001b[0m\u001b[0;34m\u001b[0m\u001b[0m\n\u001b[0m\u001b[1;32m    401\u001b[0m             \u001b[0;32melif\u001b[0m \u001b[0mread\u001b[0m \u001b[0;32mis\u001b[0m \u001b[0;32mnot\u001b[0m \u001b[0;32mNone\u001b[0m\u001b[0;34m:\u001b[0m\u001b[0;34m\u001b[0m\u001b[0;34m\u001b[0m\u001b[0m\n",
      "\u001b[0;32m/opt/anaconda3/envs/FinTech/lib/python3.7/site-packages/urllib3/packages/six.py\u001b[0m in \u001b[0;36mreraise\u001b[0;34m(tp, value, tb)\u001b[0m\n\u001b[1;32m    733\u001b[0m             \u001b[0;32mif\u001b[0m \u001b[0mvalue\u001b[0m\u001b[0;34m.\u001b[0m\u001b[0m__traceback__\u001b[0m \u001b[0;32mis\u001b[0m \u001b[0;32mnot\u001b[0m \u001b[0mtb\u001b[0m\u001b[0;34m:\u001b[0m\u001b[0;34m\u001b[0m\u001b[0;34m\u001b[0m\u001b[0m\n\u001b[0;32m--> 734\u001b[0;31m                 \u001b[0;32mraise\u001b[0m \u001b[0mvalue\u001b[0m\u001b[0;34m.\u001b[0m\u001b[0mwith_traceback\u001b[0m\u001b[0;34m(\u001b[0m\u001b[0mtb\u001b[0m\u001b[0;34m)\u001b[0m\u001b[0;34m\u001b[0m\u001b[0;34m\u001b[0m\u001b[0m\n\u001b[0m\u001b[1;32m    735\u001b[0m             \u001b[0;32mraise\u001b[0m \u001b[0mvalue\u001b[0m\u001b[0;34m\u001b[0m\u001b[0;34m\u001b[0m\u001b[0m\n",
      "\u001b[0;32m/opt/anaconda3/envs/FinTech/lib/python3.7/site-packages/urllib3/connectionpool.py\u001b[0m in \u001b[0;36murlopen\u001b[0;34m(self, method, url, body, headers, retries, redirect, assert_same_host, timeout, pool_timeout, release_conn, chunked, body_pos, **response_kw)\u001b[0m\n\u001b[1;32m    671\u001b[0m                 \u001b[0mheaders\u001b[0m\u001b[0;34m=\u001b[0m\u001b[0mheaders\u001b[0m\u001b[0;34m,\u001b[0m\u001b[0;34m\u001b[0m\u001b[0;34m\u001b[0m\u001b[0m\n\u001b[0;32m--> 672\u001b[0;31m                 \u001b[0mchunked\u001b[0m\u001b[0;34m=\u001b[0m\u001b[0mchunked\u001b[0m\u001b[0;34m,\u001b[0m\u001b[0;34m\u001b[0m\u001b[0;34m\u001b[0m\u001b[0m\n\u001b[0m\u001b[1;32m    673\u001b[0m             )\n",
      "\u001b[0;32m/opt/anaconda3/envs/FinTech/lib/python3.7/site-packages/urllib3/connectionpool.py\u001b[0m in \u001b[0;36m_make_request\u001b[0;34m(self, conn, method, url, timeout, chunked, **httplib_request_kw)\u001b[0m\n\u001b[1;32m    420\u001b[0m                     \u001b[0;31m# Otherwise it looks like a bug in the code.\u001b[0m\u001b[0;34m\u001b[0m\u001b[0;34m\u001b[0m\u001b[0;34m\u001b[0m\u001b[0m\n\u001b[0;32m--> 421\u001b[0;31m                     \u001b[0msix\u001b[0m\u001b[0;34m.\u001b[0m\u001b[0mraise_from\u001b[0m\u001b[0;34m(\u001b[0m\u001b[0me\u001b[0m\u001b[0;34m,\u001b[0m \u001b[0;32mNone\u001b[0m\u001b[0;34m)\u001b[0m\u001b[0;34m\u001b[0m\u001b[0;34m\u001b[0m\u001b[0m\n\u001b[0m\u001b[1;32m    422\u001b[0m         \u001b[0;32mexcept\u001b[0m \u001b[0;34m(\u001b[0m\u001b[0mSocketTimeout\u001b[0m\u001b[0;34m,\u001b[0m \u001b[0mBaseSSLError\u001b[0m\u001b[0;34m,\u001b[0m \u001b[0mSocketError\u001b[0m\u001b[0;34m)\u001b[0m \u001b[0;32mas\u001b[0m \u001b[0me\u001b[0m\u001b[0;34m:\u001b[0m\u001b[0;34m\u001b[0m\u001b[0;34m\u001b[0m\u001b[0m\n",
      "\u001b[0;32m/opt/anaconda3/envs/FinTech/lib/python3.7/site-packages/urllib3/packages/six.py\u001b[0m in \u001b[0;36mraise_from\u001b[0;34m(value, from_value)\u001b[0m\n",
      "\u001b[0;32m/opt/anaconda3/envs/FinTech/lib/python3.7/site-packages/urllib3/connectionpool.py\u001b[0m in \u001b[0;36m_make_request\u001b[0;34m(self, conn, method, url, timeout, chunked, **httplib_request_kw)\u001b[0m\n\u001b[1;32m    415\u001b[0m                 \u001b[0;32mtry\u001b[0m\u001b[0;34m:\u001b[0m\u001b[0;34m\u001b[0m\u001b[0;34m\u001b[0m\u001b[0m\n\u001b[0;32m--> 416\u001b[0;31m                     \u001b[0mhttplib_response\u001b[0m \u001b[0;34m=\u001b[0m \u001b[0mconn\u001b[0m\u001b[0;34m.\u001b[0m\u001b[0mgetresponse\u001b[0m\u001b[0;34m(\u001b[0m\u001b[0;34m)\u001b[0m\u001b[0;34m\u001b[0m\u001b[0;34m\u001b[0m\u001b[0m\n\u001b[0m\u001b[1;32m    417\u001b[0m                 \u001b[0;32mexcept\u001b[0m \u001b[0mBaseException\u001b[0m \u001b[0;32mas\u001b[0m \u001b[0me\u001b[0m\u001b[0;34m:\u001b[0m\u001b[0;34m\u001b[0m\u001b[0;34m\u001b[0m\u001b[0m\n",
      "\u001b[0;32m/opt/anaconda3/envs/FinTech/lib/python3.7/http/client.py\u001b[0m in \u001b[0;36mgetresponse\u001b[0;34m(self)\u001b[0m\n\u001b[1;32m   1343\u001b[0m             \u001b[0;32mtry\u001b[0m\u001b[0;34m:\u001b[0m\u001b[0;34m\u001b[0m\u001b[0;34m\u001b[0m\u001b[0m\n\u001b[0;32m-> 1344\u001b[0;31m                 \u001b[0mresponse\u001b[0m\u001b[0;34m.\u001b[0m\u001b[0mbegin\u001b[0m\u001b[0;34m(\u001b[0m\u001b[0;34m)\u001b[0m\u001b[0;34m\u001b[0m\u001b[0;34m\u001b[0m\u001b[0m\n\u001b[0m\u001b[1;32m   1345\u001b[0m             \u001b[0;32mexcept\u001b[0m \u001b[0mConnectionError\u001b[0m\u001b[0;34m:\u001b[0m\u001b[0;34m\u001b[0m\u001b[0;34m\u001b[0m\u001b[0m\n",
      "\u001b[0;32m/opt/anaconda3/envs/FinTech/lib/python3.7/http/client.py\u001b[0m in \u001b[0;36mbegin\u001b[0;34m(self)\u001b[0m\n\u001b[1;32m    305\u001b[0m         \u001b[0;32mwhile\u001b[0m \u001b[0;32mTrue\u001b[0m\u001b[0;34m:\u001b[0m\u001b[0;34m\u001b[0m\u001b[0;34m\u001b[0m\u001b[0m\n\u001b[0;32m--> 306\u001b[0;31m             \u001b[0mversion\u001b[0m\u001b[0;34m,\u001b[0m \u001b[0mstatus\u001b[0m\u001b[0;34m,\u001b[0m \u001b[0mreason\u001b[0m \u001b[0;34m=\u001b[0m \u001b[0mself\u001b[0m\u001b[0;34m.\u001b[0m\u001b[0m_read_status\u001b[0m\u001b[0;34m(\u001b[0m\u001b[0;34m)\u001b[0m\u001b[0;34m\u001b[0m\u001b[0;34m\u001b[0m\u001b[0m\n\u001b[0m\u001b[1;32m    307\u001b[0m             \u001b[0;32mif\u001b[0m \u001b[0mstatus\u001b[0m \u001b[0;34m!=\u001b[0m \u001b[0mCONTINUE\u001b[0m\u001b[0;34m:\u001b[0m\u001b[0;34m\u001b[0m\u001b[0;34m\u001b[0m\u001b[0m\n",
      "\u001b[0;32m/opt/anaconda3/envs/FinTech/lib/python3.7/http/client.py\u001b[0m in \u001b[0;36m_read_status\u001b[0;34m(self)\u001b[0m\n\u001b[1;32m    274\u001b[0m             \u001b[0;31m# sending a valid response.\u001b[0m\u001b[0;34m\u001b[0m\u001b[0;34m\u001b[0m\u001b[0;34m\u001b[0m\u001b[0m\n\u001b[0;32m--> 275\u001b[0;31m             raise RemoteDisconnected(\"Remote end closed connection without\"\n\u001b[0m\u001b[1;32m    276\u001b[0m                                      \" response\")\n",
      "\u001b[0;31mProtocolError\u001b[0m: ('Connection aborted.', RemoteDisconnected('Remote end closed connection without response'))",
      "\nDuring handling of the above exception, another exception occurred:\n",
      "\u001b[0;31mConnectionError\u001b[0m                           Traceback (most recent call last)",
      "\u001b[0;32m<timed exec>\u001b[0m in \u001b[0;36m<module>\u001b[0;34m\u001b[0m\n",
      "\u001b[0;32m<ipython-input-5-b05e573b5ccd>\u001b[0m in \u001b[0;36mscrap_hist\u001b[0;34m(_ticker, number, laperiod)\u001b[0m\n\u001b[1;32m     27\u001b[0m           dt.datetime.now().strftime(format='%Y-%m-%d %H:%M:%S'),end='',flush=True)\n\u001b[1;32m     28\u001b[0m \u001b[0;34m\u001b[0m\u001b[0m\n\u001b[0;32m---> 29\u001b[0;31m     \u001b[0mdata\u001b[0m \u001b[0;34m=\u001b[0m \u001b[0mcon\u001b[0m\u001b[0;34m.\u001b[0m\u001b[0mget_candles\u001b[0m\u001b[0;34m(\u001b[0m\u001b[0minstrument\u001b[0m\u001b[0;34m=\u001b[0m\u001b[0m_ticker\u001b[0m\u001b[0;34m,\u001b[0m\u001b[0mnumber\u001b[0m \u001b[0;34m=\u001b[0m \u001b[0;36m40\u001b[0m\u001b[0;34m,\u001b[0m\u001b[0mperiod\u001b[0m\u001b[0;34m=\u001b[0m\u001b[0mlaperiod\u001b[0m\u001b[0;34m)\u001b[0m\u001b[0;34m\u001b[0m\u001b[0;34m\u001b[0m\u001b[0m\n\u001b[0m\u001b[1;32m     30\u001b[0m     \u001b[0mdf\u001b[0m \u001b[0;34m=\u001b[0m \u001b[0mpd\u001b[0m\u001b[0;34m.\u001b[0m\u001b[0mDataFrame\u001b[0m\u001b[0;34m(\u001b[0m\u001b[0mindex\u001b[0m\u001b[0;34m=\u001b[0m\u001b[0mdata\u001b[0m\u001b[0;34m.\u001b[0m\u001b[0mindex\u001b[0m\u001b[0;34m)\u001b[0m\u001b[0;34m\u001b[0m\u001b[0;34m\u001b[0m\u001b[0m\n\u001b[1;32m     31\u001b[0m     \u001b[0mdf\u001b[0m\u001b[0;34m[\u001b[0m\u001b[0;34m'Open_Bid'\u001b[0m\u001b[0;34m]\u001b[0m \u001b[0;34m=\u001b[0m \u001b[0mdata\u001b[0m\u001b[0;34m[\u001b[0m\u001b[0;34m'bidopen'\u001b[0m\u001b[0;34m]\u001b[0m\u001b[0;34m\u001b[0m\u001b[0;34m\u001b[0m\u001b[0m\n",
      "\u001b[0;32m/opt/anaconda3/envs/FinTech/lib/python3.7/site-packages/fxcmpy/fxcmpy.py\u001b[0m in \u001b[0;36mget_candles\u001b[0;34m(self, instrument, offer_id, period, number, start, end, with_index, columns, stop)\u001b[0m\n\u001b[1;32m   2183\u001b[0m \u001b[0;34m\u001b[0m\u001b[0m\n\u001b[1;32m   2184\u001b[0m         data = self.__handle_request__(method='candles/%s/%s'\n\u001b[0;32m-> 2185\u001b[0;31m                                        % (offer_id, period), params=params)\n\u001b[0m\u001b[1;32m   2186\u001b[0m \u001b[0;34m\u001b[0m\u001b[0m\n\u001b[1;32m   2187\u001b[0m         \u001b[0;32mif\u001b[0m \u001b[0mlen\u001b[0m\u001b[0;34m(\u001b[0m\u001b[0mcolumns\u001b[0m\u001b[0;34m)\u001b[0m \u001b[0;34m==\u001b[0m \u001b[0;36m0\u001b[0m\u001b[0;34m:\u001b[0m\u001b[0;34m\u001b[0m\u001b[0;34m\u001b[0m\u001b[0m\n",
      "\u001b[0;32m/opt/anaconda3/envs/FinTech/lib/python3.7/site-packages/fxcmpy/fxcmpy.py\u001b[0m in \u001b[0;36m__handle_request__\u001b[0;34m(self, method, params, protocol)\u001b[0m\n\u001b[1;32m   2478\u001b[0m             req = requests.get('%s:443/%s' % (self.trading_url, method),\n\u001b[1;32m   2479\u001b[0m                                \u001b[0mheaders\u001b[0m\u001b[0;34m=\u001b[0m\u001b[0mself\u001b[0m\u001b[0;34m.\u001b[0m\u001b[0mrequest_headers\u001b[0m\u001b[0;34m,\u001b[0m \u001b[0mparams\u001b[0m\u001b[0;34m=\u001b[0m\u001b[0mparams\u001b[0m\u001b[0;34m,\u001b[0m\u001b[0;34m\u001b[0m\u001b[0;34m\u001b[0m\u001b[0m\n\u001b[0;32m-> 2480\u001b[0;31m                                proxies=self.proxies)\n\u001b[0m\u001b[1;32m   2481\u001b[0m             \u001b[0mself\u001b[0m\u001b[0;34m.\u001b[0m\u001b[0mlogger\u001b[0m\u001b[0;34m.\u001b[0m\u001b[0minfo\u001b[0m\u001b[0;34m(\u001b[0m\u001b[0;34m'Sending GET Request:'\u001b[0m\u001b[0;34m)\u001b[0m\u001b[0;34m\u001b[0m\u001b[0;34m\u001b[0m\u001b[0m\n\u001b[1;32m   2482\u001b[0m             \u001b[0mself\u001b[0m\u001b[0;34m.\u001b[0m\u001b[0mlogger\u001b[0m\u001b[0;34m.\u001b[0m\u001b[0minfo\u001b[0m\u001b[0;34m(\u001b[0m\u001b[0;34m'URL: %s'\u001b[0m \u001b[0;34m%\u001b[0m \u001b[0mreq\u001b[0m\u001b[0;34m.\u001b[0m\u001b[0murl\u001b[0m\u001b[0;34m)\u001b[0m\u001b[0;34m\u001b[0m\u001b[0;34m\u001b[0m\u001b[0m\n",
      "\u001b[0;32m/opt/anaconda3/envs/FinTech/lib/python3.7/site-packages/requests/api.py\u001b[0m in \u001b[0;36mget\u001b[0;34m(url, params, **kwargs)\u001b[0m\n\u001b[1;32m     73\u001b[0m \u001b[0;34m\u001b[0m\u001b[0m\n\u001b[1;32m     74\u001b[0m     \u001b[0mkwargs\u001b[0m\u001b[0;34m.\u001b[0m\u001b[0msetdefault\u001b[0m\u001b[0;34m(\u001b[0m\u001b[0;34m'allow_redirects'\u001b[0m\u001b[0;34m,\u001b[0m \u001b[0;32mTrue\u001b[0m\u001b[0;34m)\u001b[0m\u001b[0;34m\u001b[0m\u001b[0;34m\u001b[0m\u001b[0m\n\u001b[0;32m---> 75\u001b[0;31m     \u001b[0;32mreturn\u001b[0m \u001b[0mrequest\u001b[0m\u001b[0;34m(\u001b[0m\u001b[0;34m'get'\u001b[0m\u001b[0;34m,\u001b[0m \u001b[0murl\u001b[0m\u001b[0;34m,\u001b[0m \u001b[0mparams\u001b[0m\u001b[0;34m=\u001b[0m\u001b[0mparams\u001b[0m\u001b[0;34m,\u001b[0m \u001b[0;34m**\u001b[0m\u001b[0mkwargs\u001b[0m\u001b[0;34m)\u001b[0m\u001b[0;34m\u001b[0m\u001b[0;34m\u001b[0m\u001b[0m\n\u001b[0m\u001b[1;32m     76\u001b[0m \u001b[0;34m\u001b[0m\u001b[0m\n\u001b[1;32m     77\u001b[0m \u001b[0;34m\u001b[0m\u001b[0m\n",
      "\u001b[0;32m/opt/anaconda3/envs/FinTech/lib/python3.7/site-packages/requests/api.py\u001b[0m in \u001b[0;36mrequest\u001b[0;34m(method, url, **kwargs)\u001b[0m\n\u001b[1;32m     58\u001b[0m     \u001b[0;31m# cases, and look like a memory leak in others.\u001b[0m\u001b[0;34m\u001b[0m\u001b[0;34m\u001b[0m\u001b[0;34m\u001b[0m\u001b[0m\n\u001b[1;32m     59\u001b[0m     \u001b[0;32mwith\u001b[0m \u001b[0msessions\u001b[0m\u001b[0;34m.\u001b[0m\u001b[0mSession\u001b[0m\u001b[0;34m(\u001b[0m\u001b[0;34m)\u001b[0m \u001b[0;32mas\u001b[0m \u001b[0msession\u001b[0m\u001b[0;34m:\u001b[0m\u001b[0;34m\u001b[0m\u001b[0;34m\u001b[0m\u001b[0m\n\u001b[0;32m---> 60\u001b[0;31m         \u001b[0;32mreturn\u001b[0m \u001b[0msession\u001b[0m\u001b[0;34m.\u001b[0m\u001b[0mrequest\u001b[0m\u001b[0;34m(\u001b[0m\u001b[0mmethod\u001b[0m\u001b[0;34m=\u001b[0m\u001b[0mmethod\u001b[0m\u001b[0;34m,\u001b[0m \u001b[0murl\u001b[0m\u001b[0;34m=\u001b[0m\u001b[0murl\u001b[0m\u001b[0;34m,\u001b[0m \u001b[0;34m**\u001b[0m\u001b[0mkwargs\u001b[0m\u001b[0;34m)\u001b[0m\u001b[0;34m\u001b[0m\u001b[0;34m\u001b[0m\u001b[0m\n\u001b[0m\u001b[1;32m     61\u001b[0m \u001b[0;34m\u001b[0m\u001b[0m\n\u001b[1;32m     62\u001b[0m \u001b[0;34m\u001b[0m\u001b[0m\n",
      "\u001b[0;32m/opt/anaconda3/envs/FinTech/lib/python3.7/site-packages/requests/sessions.py\u001b[0m in \u001b[0;36mrequest\u001b[0;34m(self, method, url, params, data, headers, cookies, files, auth, timeout, allow_redirects, proxies, hooks, stream, verify, cert, json)\u001b[0m\n\u001b[1;32m    531\u001b[0m         }\n\u001b[1;32m    532\u001b[0m         \u001b[0msend_kwargs\u001b[0m\u001b[0;34m.\u001b[0m\u001b[0mupdate\u001b[0m\u001b[0;34m(\u001b[0m\u001b[0msettings\u001b[0m\u001b[0;34m)\u001b[0m\u001b[0;34m\u001b[0m\u001b[0;34m\u001b[0m\u001b[0m\n\u001b[0;32m--> 533\u001b[0;31m         \u001b[0mresp\u001b[0m \u001b[0;34m=\u001b[0m \u001b[0mself\u001b[0m\u001b[0;34m.\u001b[0m\u001b[0msend\u001b[0m\u001b[0;34m(\u001b[0m\u001b[0mprep\u001b[0m\u001b[0;34m,\u001b[0m \u001b[0;34m**\u001b[0m\u001b[0msend_kwargs\u001b[0m\u001b[0;34m)\u001b[0m\u001b[0;34m\u001b[0m\u001b[0;34m\u001b[0m\u001b[0m\n\u001b[0m\u001b[1;32m    534\u001b[0m \u001b[0;34m\u001b[0m\u001b[0m\n\u001b[1;32m    535\u001b[0m         \u001b[0;32mreturn\u001b[0m \u001b[0mresp\u001b[0m\u001b[0;34m\u001b[0m\u001b[0;34m\u001b[0m\u001b[0m\n",
      "\u001b[0;32m/opt/anaconda3/envs/FinTech/lib/python3.7/site-packages/requests/sessions.py\u001b[0m in \u001b[0;36msend\u001b[0;34m(self, request, **kwargs)\u001b[0m\n\u001b[1;32m    644\u001b[0m \u001b[0;34m\u001b[0m\u001b[0m\n\u001b[1;32m    645\u001b[0m         \u001b[0;31m# Send the request\u001b[0m\u001b[0;34m\u001b[0m\u001b[0;34m\u001b[0m\u001b[0;34m\u001b[0m\u001b[0m\n\u001b[0;32m--> 646\u001b[0;31m         \u001b[0mr\u001b[0m \u001b[0;34m=\u001b[0m \u001b[0madapter\u001b[0m\u001b[0;34m.\u001b[0m\u001b[0msend\u001b[0m\u001b[0;34m(\u001b[0m\u001b[0mrequest\u001b[0m\u001b[0;34m,\u001b[0m \u001b[0;34m**\u001b[0m\u001b[0mkwargs\u001b[0m\u001b[0;34m)\u001b[0m\u001b[0;34m\u001b[0m\u001b[0;34m\u001b[0m\u001b[0m\n\u001b[0m\u001b[1;32m    647\u001b[0m \u001b[0;34m\u001b[0m\u001b[0m\n\u001b[1;32m    648\u001b[0m         \u001b[0;31m# Total elapsed time of the request (approximately)\u001b[0m\u001b[0;34m\u001b[0m\u001b[0;34m\u001b[0m\u001b[0;34m\u001b[0m\u001b[0m\n",
      "\u001b[0;32m/opt/anaconda3/envs/FinTech/lib/python3.7/site-packages/requests/adapters.py\u001b[0m in \u001b[0;36msend\u001b[0;34m(self, request, stream, timeout, verify, cert, proxies)\u001b[0m\n\u001b[1;32m    496\u001b[0m \u001b[0;34m\u001b[0m\u001b[0m\n\u001b[1;32m    497\u001b[0m         \u001b[0;32mexcept\u001b[0m \u001b[0;34m(\u001b[0m\u001b[0mProtocolError\u001b[0m\u001b[0;34m,\u001b[0m \u001b[0msocket\u001b[0m\u001b[0;34m.\u001b[0m\u001b[0merror\u001b[0m\u001b[0;34m)\u001b[0m \u001b[0;32mas\u001b[0m \u001b[0merr\u001b[0m\u001b[0;34m:\u001b[0m\u001b[0;34m\u001b[0m\u001b[0;34m\u001b[0m\u001b[0m\n\u001b[0;32m--> 498\u001b[0;31m             \u001b[0;32mraise\u001b[0m \u001b[0mConnectionError\u001b[0m\u001b[0;34m(\u001b[0m\u001b[0merr\u001b[0m\u001b[0;34m,\u001b[0m \u001b[0mrequest\u001b[0m\u001b[0;34m=\u001b[0m\u001b[0mrequest\u001b[0m\u001b[0;34m)\u001b[0m\u001b[0;34m\u001b[0m\u001b[0;34m\u001b[0m\u001b[0m\n\u001b[0m\u001b[1;32m    499\u001b[0m \u001b[0;34m\u001b[0m\u001b[0m\n\u001b[1;32m    500\u001b[0m         \u001b[0;32mexcept\u001b[0m \u001b[0mMaxRetryError\u001b[0m \u001b[0;32mas\u001b[0m \u001b[0me\u001b[0m\u001b[0;34m:\u001b[0m\u001b[0;34m\u001b[0m\u001b[0;34m\u001b[0m\u001b[0m\n",
      "\u001b[0;31mConnectionError\u001b[0m: ('Connection aborted.', RemoteDisconnected('Remote end closed connection without response'))"
     ]
    }
   ],
   "source": [
    "%%time\n",
    "\n",
    "#TICKERS = con.get_instruments()\n",
    "TICKERS = [ 'EUR/USD','USD/JPY','GBP/USD','USD/CHF','EUR/CHF','AUD/USD','USD/CAD','NZD/USD','EUR/GBP','EUR/JPY','GBP/JPY','CHF/JPY','GBP/CHF','EUR/AUD','EUR/CAD','AUD/CAD','AUD/JPY','CAD/JPY','NZD/JPY','GBP/CAD','GBP/NZD','GBP/AUD','AUD/NZD','USD/SEK','EUR/SEK','EUR/NOK','USD/NOK','USD/MXN','AUD/CHF','EUR/NZD','USD/ZAR','ZAR/JPY','NZD/CHF','CAD/CHF','NZD/CAD','USD/ILS','USD/CNH']\n",
    "\n",
    "_answer = input('Reprendre une session en cours? (oui - non)')\n",
    "\n",
    "if _answer == 'oui' or _answer == 'OUI' or _answer == 'o' or _answer == 'O' :\n",
    "    \n",
    "    TABLE = load_data()\n",
    "    for key,val in TABLE.items():\n",
    "        exec(key + '=val')\n",
    "\n",
    "else:\n",
    "    try:\n",
    "        os.mkdir('TABLES_'+compte)\n",
    "    except :\n",
    "        pass \n",
    "    \n",
    "    TABLE = {}\n",
    "\n",
    "    for x in TICKERS:\n",
    "        _name = x.replace('/','')\n",
    "        globals()[_name] = []\n",
    "        TABLE[_name] = globals()[_name]\n",
    "\n",
    "engine.say(\"Ready to go? Prepare to be billionnaire!!!! Bim\")\n",
    "engine.runAndWait()\n",
    "\n",
    "i = -1\n",
    "for loop in range(72000000):\n",
    "    for x in range(1000):\n",
    "        while dt.datetime.now().minute not in [0,5,10,15,20,25,30,35,40,45,50,55] : #[1,6,11,16,21,26,31,36,41,46,51,56]:\n",
    "            time.sleep(1)\n",
    "    \n",
    "    time.sleep(10)\n",
    "\n",
    "    for x in TICKERS:\n",
    "    \n",
    "        _name = x.replace('/','')\n",
    "        \n",
    "        if con.is_subscribed(x) == False:\n",
    "            con.subscribe_market_data(x)\n",
    "\n",
    "        data = scrap_hist(x,_number,_period)\n",
    "        data2 = scrap_hist(x,_number,_period2)\n",
    "        price = data.copy()\n",
    "        price2 = data2.copy()\n",
    "        \n",
    "        MM21 = talib.EMA(price.Close, timeperiod=21)\n",
    "        rsi = talib.RSI(price.Close, timeperiod=14)\n",
    "        rsi_high = 65\n",
    "        rsi_low = 35\n",
    "        upperband, middleband, lowerband = talib.BBANDS(price.Close, timeperiod=5, nbdevup=2, nbdevdn=2, matype=0)\n",
    "        fastk, fastd = talib.STOCHRSI(price.Close, timeperiod=14, fastk_period=5, fastd_period=3, fastd_matype=0)#STOCHASTICRSI\n",
    "        slowk, slowd = talib.STOCH(price.High, price.Low, price.Close, fastk_period=5, slowk_period=3, slowk_matype=0, slowd_period=3, slowd_matype=0)#STOCHASTIC\n",
    "        \n",
    "        MM82 = talib.EMA(price2.Close, timeperiod=8)\n",
    "        MM212 = talib.EMA(price2.Close, timeperiod=21)\n",
    "        MM342 = talib.EMA(price2.Close, timeperiod=34)\n",
    "        rsi2 = talib.RSI(price2.Close, timeperiod=14)\n",
    "        upperband2, middleband2, lowerband2 = talib.BBANDS(price2.Close, timeperiod=5, nbdevup=2, nbdevdn=2, matype=0)\n",
    "        fastk2, fastd2 = talib.STOCHRSI(price2.Close, timeperiod=14, fastk_period=5, fastd_period=3, fastd_matype=0)#STOCHASTICRSI\n",
    "        slowk2, slowd2 = talib.STOCH(price2.High, price2.Low, price2.Close, fastk_period=5, slowk_period=3, slowk_matype=0, slowd_period=3, slowd_matype=0)\n",
    "\n",
    "\n",
    "# SHORT SIGNAL\n",
    "        if slowk[i-1] > 80 and slowk[i-1] > slowd[i-1] and slowk[i] < slowd[i] and price.High[i-1] > price.High[i-2] and price.High[i] < price.High[i-2] :\n",
    "            \n",
    "            j = len(price2[price2.index <= price.index[i]])-1\n",
    "                \n",
    "            if  price2.Close[j] < MM82[j] and MM82[j]<MM212[j] and MM212[j] < MM342[j] \\\n",
    "                and (price.Close_Ask[i]-price.Close_Bid[i])/price.Close_Ask[i] < _spread_filter: \n",
    "\n",
    "    # SHORT SIGNAL ACQUIRED\n",
    "                \n",
    "                if globals()[_name] == []: # PAS DE POSITION POUR CE TICKER\n",
    "                    p0os = Short(x,_amount)\n",
    "\n",
    "                    _res = con.get_open_positions()\n",
    "                    _table = _res.sort_values(by='time').iloc[-1]\n",
    "                    _time = _table.time\n",
    "                    _time = _time[-10:-6]+'-'+_time[:-12]+'-'+_time[-12:-10]+' '+_time[-6:-4]+':'+_time[-4:-2]+':'+_time[-2:]\n",
    "                    _time = dt.datetime.strptime(_time,'%Y-%m-%d %H:%M:%S')\n",
    "                    _id = _table.tradeId\n",
    "                    _currency = _table.currency\n",
    "                    _open = _table.open\n",
    "                    _amountk = _table.amountK\n",
    "                    _isbuy = _table.isBuy\n",
    "\n",
    "                    _open_poz = con.get_open_positions()\n",
    "                    _price_sell_mean = _open_poz[_open_poz.currency == x].open.mean()\n",
    "                    \n",
    "                    globals()[_name].append((_id, _currency, _time, _amountk, _isbuy, _open))\n",
    "                    TABLE[_name] = globals()[_name]\n",
    "\n",
    "                    save_data(TABLE)\n",
    "\n",
    "                elif globals()[_name] != []: # POSITION POUR CE TICKER\n",
    "                    p0os = Short(x,_amount)\n",
    "\n",
    "                    _res = con.get_open_positions()\n",
    "                    _table = _res.sort_values(by='time').iloc[-1]\n",
    "                    _time = _table.time\n",
    "                    _time = _time[-10:-6]+'-'+_time[:-12]+'-'+_time[-12:-10]+' '+_time[-6:-4]+':'+_time[-4:-2]+':'+_time[-2:]\n",
    "                    _time = dt.datetime.strptime(_time,'%Y-%m-%d %H:%M:%S')\n",
    "                    _id = _table.tradeId\n",
    "                    _currency = _table.currency\n",
    "                    _open = _table.open\n",
    "                    _amountk = _table.amountK\n",
    "                    _isbuy = _table.isBuy\n",
    "\n",
    "                    _open_poz = con.get_open_positions()\n",
    "                    _price_sell_mean = _open_poz[_open_poz.currency == x].open.mean()\n",
    "\n",
    "                    _limit=round(_price_sell_mean * (1 - _target),4)\n",
    "                    _stop=round(_price_sell_mean * (1 + _sl),4)\n",
    "\n",
    "                    for iii in globals()[_name]:\n",
    "\n",
    "                        con.change_trade_stop_limit(iii[0], is_in_pips=False,is_stop=False, rate=_limit)\n",
    "                        con.change_trade_stop_limit(iii[0], is_in_pips=False,is_stop=True, rate=_stop)\n",
    "                    \n",
    "                    globals()[_name].append((_id, _currency, _time, _amountk, _isbuy, _open))\n",
    "                    TABLE[_name] = globals()[_name]\n",
    "\n",
    "                    save_data(TABLE)\n",
    "                \n",
    "                else: #\n",
    "                    pass\n",
    "\n",
    "\n",
    "\n",
    "# LONG SIGNAL                   \n",
    "        elif slowk[i-1] < 20 and slowk[i-1] < slowd[i-1] and slowk[i] > slowd[i] and price.Low[i-1] < price.Low[i-2] and price.Low[i] > price.Low[i-2]:\n",
    "            j = len(price2[price2.index <= price.index[i]])-1\n",
    "            \n",
    "            if price2.Close[j] > MM82[j] and MM82[j]>MM212[j] and MM212[j] > MM342[j] \\\n",
    "                and (price.Close_Ask[i]-price.Close_Bid[i])/price.Close_Ask[i] < _spread_filter:\n",
    "\n",
    "    # LONG SIGNAL ACQUIRED             \n",
    "                if globals()[_name] == []: # PAS DE POSITION POUR CE TICKER\n",
    "                    \n",
    "                    p0os = Long(x,_amount)\n",
    "\n",
    "                    _res = con.get_open_positions()\n",
    "                    _table = _res.sort_values(by='time').iloc[-1]\n",
    "                    _time = _table.time\n",
    "                    _time = _time[-10:-6]+'-'+_time[:-12]+'-'+_time[-12:-10]+' '+_time[-6:-4]+':'+_time[-4:-2]+':'+_time[-2:]\n",
    "                    _time = dt.datetime.strptime(_time,'%Y-%m-%d %H:%M:%S')\n",
    "                    _id = _table.tradeId\n",
    "                    _currency = _table.currency\n",
    "                    _open = _table.open\n",
    "                    _amountk = _table.amountK\n",
    "                    _isbuy = _table.isBuy\n",
    "\n",
    "                    _open_poz = con.get_open_positions()\n",
    "                    _price_buy_mean = _open_poz[_open_poz.currency == x].open.mean()\n",
    "                    \n",
    "                    globals()[_name].append((_id, _currency, _time, _amountk, _isbuy, _open))\n",
    "                    TABLE[_name] = globals()[_name]\n",
    "\n",
    "                    save_data(TABLE)\n",
    "                \n",
    "                elif globals()[_name] != []: # POSITION POUR CE TICKER\n",
    "                    \n",
    "                    p0os = Long(x,_amount)\n",
    "\n",
    "                    _res = con.get_open_positions()\n",
    "                    _table = _res.sort_values(by='time').iloc[-1]\n",
    "                    _time = _table.time\n",
    "                    _time = _time[-10:-6]+'-'+_time[:-12]+'-'+_time[-12:-10]+' '+_time[-6:-4]+':'+_time[-4:-2]+':'+_time[-2:]\n",
    "                    _time = dt.datetime.strptime(_time,'%Y-%m-%d %H:%M:%S')\n",
    "                    _id = _table.tradeId\n",
    "                    _currency = _table.currency\n",
    "                    _open = _table.open\n",
    "                    _amountk = _table.amountK\n",
    "                    _isbuy = _table.isBuy\n",
    "\n",
    "                    _open_poz = con.get_open_positions()\n",
    "                    _price_buy_mean = _open_poz[_open_poz.currency == x].open.mean()\n",
    "\n",
    "                    _limit=round(_price_buy_mean * (1 + _target),4)\n",
    "                    _stop=round(_price_buy_mean * (1 - _sl),4)\n",
    "                                        \n",
    "                    for iii in globals()[_name]:\n",
    "\n",
    "                        con.change_trade_stop_limit(iii[0], is_in_pips=False,is_stop=False, rate=_limit)\n",
    "                        con.change_trade_stop_limit(iii[0], is_in_pips=False,is_stop=True, rate=_stop)\n",
    "                    \n",
    "                    globals()[_name].append((_id, _currency, _time, _amountk, _isbuy, _open))\n",
    "                    TABLE[_name] = globals()[_name]\n",
    "\n",
    "                    save_data(TABLE)\n",
    "                \n",
    "                else: #\n",
    "                    pass\n",
    "\n",
    "        else :\n",
    "            pass\n",
    "    \n",
    "    print('\\nPause après le loop',loop,'  ',dt.datetime.now().strftime(format='%Y-%m-%d- %H:%M:%S'),'\\n')\n",
    "    engine.say(\"\\nNow, enjoying doing nothing,\\n\")\n",
    "    engine.runAndWait()\n",
    "    time.sleep(60)"
   ]
  },
  {
   "cell_type": "code",
   "execution_count": 10,
   "metadata": {},
   "outputs": [
    {
     "output_type": "execute_result",
     "data": {
      "text/plain": "5    169266909\n2    169267217\n3    169277183\n7    169278379\n0    169281095\n8    169281962\n1    169282865\n6    169283308\n4    169335469\n9    169337399\nName: tradeId, dtype: object"
     },
     "metadata": {},
     "execution_count": 10
    }
   ],
   "source": [
    "con.get_open_positions().sort_values(by='time').tradeId"
   ]
  },
  {
   "cell_type": "code",
   "execution_count": 20,
   "metadata": {},
   "outputs": [],
   "source": [
    "TABLE = {}\n",
    "TABLE['']"
   ]
  },
  {
   "cell_type": "code",
   "execution_count": null,
   "metadata": {},
   "outputs": [],
   "source": [
    "_res = con.get_open_positions()\n",
    "_table = _res.sort_values(by='time').iloc[-1])\n",
    "\n",
    "_res,_table"
   ]
  },
  {
   "cell_type": "code",
   "execution_count": 16,
   "metadata": {
    "tags": []
   },
   "outputs": [
    {
     "output_type": "execute_result",
     "data": {
      "text/plain": "   t  ratePrecision    tradeId accountName accountId  roll  com      open  \\\n0  1              5  169267217    01215059   1215059  0.00    0   1.30605   \n1  1              5  169277183    01215059   1215059  0.00    0   0.69745   \n2  1              5  169266909    01215059   1215059 -0.08    0   1.74992   \n3  1              5  169278311    01215059   1215059  0.00    0  16.89532   \n\n  valueDate   grossPL  ...  currency  isBuy  amountK currencyPoint  \\\n0            -8.85496  ...   USD/CAD  False       10       0.64635   \n1            -4.63588  ...   CAD/CHF   True       10       0.92718   \n2           -71.61532  ...   GBP/CAD   True       10       0.64635   \n3            -5.70761  ...   USD/ZAR  False       10       0.04999   \n\n             time  usedMargin  OpenOrderRequestTXT     stop  stopMove    limit  \n0  09012020222023      166.50                 None   1.3178         0   1.3034  \n1  09022020135538      133.20                 None   0.6912         0   0.6989  \n2  09012020205034      216.45                 None   1.7342         0   1.7534  \n3  09022020145533      450.00                 None  17.0187         0  16.8331  \n\n[4 rows x 23 columns]",
      "text/html": "<div>\n<style scoped>\n    .dataframe tbody tr th:only-of-type {\n        vertical-align: middle;\n    }\n\n    .dataframe tbody tr th {\n        vertical-align: top;\n    }\n\n    .dataframe thead th {\n        text-align: right;\n    }\n</style>\n<table border=\"1\" class=\"dataframe\">\n  <thead>\n    <tr style=\"text-align: right;\">\n      <th></th>\n      <th>t</th>\n      <th>ratePrecision</th>\n      <th>tradeId</th>\n      <th>accountName</th>\n      <th>accountId</th>\n      <th>roll</th>\n      <th>com</th>\n      <th>open</th>\n      <th>valueDate</th>\n      <th>grossPL</th>\n      <th>...</th>\n      <th>currency</th>\n      <th>isBuy</th>\n      <th>amountK</th>\n      <th>currencyPoint</th>\n      <th>time</th>\n      <th>usedMargin</th>\n      <th>OpenOrderRequestTXT</th>\n      <th>stop</th>\n      <th>stopMove</th>\n      <th>limit</th>\n    </tr>\n  </thead>\n  <tbody>\n    <tr>\n      <th>0</th>\n      <td>1</td>\n      <td>5</td>\n      <td>169267217</td>\n      <td>01215059</td>\n      <td>1215059</td>\n      <td>0.00</td>\n      <td>0</td>\n      <td>1.30605</td>\n      <td></td>\n      <td>-8.85496</td>\n      <td>...</td>\n      <td>USD/CAD</td>\n      <td>False</td>\n      <td>10</td>\n      <td>0.64635</td>\n      <td>09012020222023</td>\n      <td>166.50</td>\n      <td>None</td>\n      <td>1.3178</td>\n      <td>0</td>\n      <td>1.3034</td>\n    </tr>\n    <tr>\n      <th>1</th>\n      <td>1</td>\n      <td>5</td>\n      <td>169277183</td>\n      <td>01215059</td>\n      <td>1215059</td>\n      <td>0.00</td>\n      <td>0</td>\n      <td>0.69745</td>\n      <td></td>\n      <td>-4.63588</td>\n      <td>...</td>\n      <td>CAD/CHF</td>\n      <td>True</td>\n      <td>10</td>\n      <td>0.92718</td>\n      <td>09022020135538</td>\n      <td>133.20</td>\n      <td>None</td>\n      <td>0.6912</td>\n      <td>0</td>\n      <td>0.6989</td>\n    </tr>\n    <tr>\n      <th>2</th>\n      <td>1</td>\n      <td>5</td>\n      <td>169266909</td>\n      <td>01215059</td>\n      <td>1215059</td>\n      <td>-0.08</td>\n      <td>0</td>\n      <td>1.74992</td>\n      <td></td>\n      <td>-71.61532</td>\n      <td>...</td>\n      <td>GBP/CAD</td>\n      <td>True</td>\n      <td>10</td>\n      <td>0.64635</td>\n      <td>09012020205034</td>\n      <td>216.45</td>\n      <td>None</td>\n      <td>1.7342</td>\n      <td>0</td>\n      <td>1.7534</td>\n    </tr>\n    <tr>\n      <th>3</th>\n      <td>1</td>\n      <td>5</td>\n      <td>169278311</td>\n      <td>01215059</td>\n      <td>1215059</td>\n      <td>0.00</td>\n      <td>0</td>\n      <td>16.89532</td>\n      <td></td>\n      <td>-5.70761</td>\n      <td>...</td>\n      <td>USD/ZAR</td>\n      <td>False</td>\n      <td>10</td>\n      <td>0.04999</td>\n      <td>09022020145533</td>\n      <td>450.00</td>\n      <td>None</td>\n      <td>17.0187</td>\n      <td>0</td>\n      <td>16.8331</td>\n    </tr>\n  </tbody>\n</table>\n<p>4 rows × 23 columns</p>\n</div>"
     },
     "metadata": {},
     "execution_count": 16
    }
   ],
   "source": [
    "con.get_open_positions()"
   ]
  },
  {
   "cell_type": "code",
   "execution_count": 86,
   "metadata": {},
   "outputs": [],
   "source": [
    "\n",
    "_id = con.get_open_positions().sort_values(by='time').tradeId.iloc[-1]"
   ]
  },
  {
   "cell_type": "code",
   "execution_count": 15,
   "metadata": {},
   "outputs": [
    {
     "output_type": "error",
     "ename": "ValueError",
     "evalue": "time data '- 00-0-0- :0:0::00' does not match format '%Y-%m-%d %H:%M:%S'",
     "traceback": [
      "\u001b[0;31m---------------------------------------------------------------------------\u001b[0m",
      "\u001b[0;31mValueError\u001b[0m                                Traceback (most recent call last)",
      "\u001b[0;32m<ipython-input-15-8d449c8b0bc2>\u001b[0m in \u001b[0;36m<module>\u001b[0;34m\u001b[0m\n\u001b[1;32m      2\u001b[0m \u001b[0m_table\u001b[0m \u001b[0;34m=\u001b[0m \u001b[0m_res\u001b[0m\u001b[0;34m.\u001b[0m\u001b[0msort_values\u001b[0m\u001b[0;34m(\u001b[0m\u001b[0mby\u001b[0m\u001b[0;34m=\u001b[0m\u001b[0;34m'time'\u001b[0m\u001b[0;34m)\u001b[0m\u001b[0;34m.\u001b[0m\u001b[0miloc\u001b[0m\u001b[0;34m[\u001b[0m\u001b[0;34m-\u001b[0m\u001b[0;36m1\u001b[0m\u001b[0;34m]\u001b[0m\u001b[0;34m\u001b[0m\u001b[0;34m\u001b[0m\u001b[0m\n\u001b[1;32m      3\u001b[0m \u001b[0m_time\u001b[0m \u001b[0;34m=\u001b[0m \u001b[0m_time\u001b[0m\u001b[0;34m[\u001b[0m\u001b[0;34m-\u001b[0m\u001b[0;36m10\u001b[0m\u001b[0;34m:\u001b[0m\u001b[0;34m-\u001b[0m\u001b[0;36m6\u001b[0m\u001b[0;34m]\u001b[0m\u001b[0;34m+\u001b[0m\u001b[0;34m'-'\u001b[0m\u001b[0;34m+\u001b[0m\u001b[0m_time\u001b[0m\u001b[0;34m[\u001b[0m\u001b[0;34m:\u001b[0m\u001b[0;34m-\u001b[0m\u001b[0;36m12\u001b[0m\u001b[0;34m]\u001b[0m\u001b[0;34m+\u001b[0m\u001b[0;34m'-'\u001b[0m\u001b[0;34m+\u001b[0m\u001b[0m_time\u001b[0m\u001b[0;34m[\u001b[0m\u001b[0;34m-\u001b[0m\u001b[0;36m12\u001b[0m\u001b[0;34m:\u001b[0m\u001b[0;34m-\u001b[0m\u001b[0;36m10\u001b[0m\u001b[0;34m]\u001b[0m\u001b[0;34m+\u001b[0m\u001b[0;34m' '\u001b[0m\u001b[0;34m+\u001b[0m\u001b[0m_time\u001b[0m\u001b[0;34m[\u001b[0m\u001b[0;34m-\u001b[0m\u001b[0;36m6\u001b[0m\u001b[0;34m:\u001b[0m\u001b[0;34m-\u001b[0m\u001b[0;36m4\u001b[0m\u001b[0;34m]\u001b[0m\u001b[0;34m+\u001b[0m\u001b[0;34m':'\u001b[0m\u001b[0;34m+\u001b[0m\u001b[0m_time\u001b[0m\u001b[0;34m[\u001b[0m\u001b[0;34m-\u001b[0m\u001b[0;36m4\u001b[0m\u001b[0;34m:\u001b[0m\u001b[0;34m-\u001b[0m\u001b[0;36m2\u001b[0m\u001b[0;34m]\u001b[0m\u001b[0;34m+\u001b[0m\u001b[0;34m':'\u001b[0m\u001b[0;34m+\u001b[0m\u001b[0m_time\u001b[0m\u001b[0;34m[\u001b[0m\u001b[0;34m-\u001b[0m\u001b[0;36m2\u001b[0m\u001b[0;34m:\u001b[0m\u001b[0;34m]\u001b[0m\u001b[0;34m\u001b[0m\u001b[0;34m\u001b[0m\u001b[0m\n\u001b[0;32m----> 4\u001b[0;31m \u001b[0m_time\u001b[0m \u001b[0;34m=\u001b[0m \u001b[0mdt\u001b[0m\u001b[0;34m.\u001b[0m\u001b[0mdatetime\u001b[0m\u001b[0;34m.\u001b[0m\u001b[0mstrptime\u001b[0m\u001b[0;34m(\u001b[0m\u001b[0m_time\u001b[0m\u001b[0;34m,\u001b[0m\u001b[0;34m'%Y-%m-%d %H:%M:%S'\u001b[0m\u001b[0;34m)\u001b[0m\u001b[0;34m\u001b[0m\u001b[0;34m\u001b[0m\u001b[0m\n\u001b[0m\u001b[1;32m      5\u001b[0m \u001b[0m_id\u001b[0m \u001b[0;34m=\u001b[0m \u001b[0m_table\u001b[0m\u001b[0;34m.\u001b[0m\u001b[0mtradeId\u001b[0m\u001b[0;34m\u001b[0m\u001b[0;34m\u001b[0m\u001b[0m\n\u001b[1;32m      6\u001b[0m \u001b[0m_currency\u001b[0m \u001b[0;34m=\u001b[0m \u001b[0m_table\u001b[0m\u001b[0;34m.\u001b[0m\u001b[0mcurrency\u001b[0m\u001b[0;34m\u001b[0m\u001b[0;34m\u001b[0m\u001b[0m\n",
      "\u001b[0;32m/opt/anaconda3/envs/FinTech/lib/python3.7/_strptime.py\u001b[0m in \u001b[0;36m_strptime_datetime\u001b[0;34m(cls, data_string, format)\u001b[0m\n\u001b[1;32m    575\u001b[0m     \"\"\"Return a class cls instance based on the input string and the\n\u001b[1;32m    576\u001b[0m     format string.\"\"\"\n\u001b[0;32m--> 577\u001b[0;31m     \u001b[0mtt\u001b[0m\u001b[0;34m,\u001b[0m \u001b[0mfraction\u001b[0m\u001b[0;34m,\u001b[0m \u001b[0mgmtoff_fraction\u001b[0m \u001b[0;34m=\u001b[0m \u001b[0m_strptime\u001b[0m\u001b[0;34m(\u001b[0m\u001b[0mdata_string\u001b[0m\u001b[0;34m,\u001b[0m \u001b[0mformat\u001b[0m\u001b[0;34m)\u001b[0m\u001b[0;34m\u001b[0m\u001b[0;34m\u001b[0m\u001b[0m\n\u001b[0m\u001b[1;32m    578\u001b[0m     \u001b[0mtzname\u001b[0m\u001b[0;34m,\u001b[0m \u001b[0mgmtoff\u001b[0m \u001b[0;34m=\u001b[0m \u001b[0mtt\u001b[0m\u001b[0;34m[\u001b[0m\u001b[0;34m-\u001b[0m\u001b[0;36m2\u001b[0m\u001b[0;34m:\u001b[0m\u001b[0;34m]\u001b[0m\u001b[0;34m\u001b[0m\u001b[0;34m\u001b[0m\u001b[0m\n\u001b[1;32m    579\u001b[0m     \u001b[0margs\u001b[0m \u001b[0;34m=\u001b[0m \u001b[0mtt\u001b[0m\u001b[0;34m[\u001b[0m\u001b[0;34m:\u001b[0m\u001b[0;36m6\u001b[0m\u001b[0;34m]\u001b[0m \u001b[0;34m+\u001b[0m \u001b[0;34m(\u001b[0m\u001b[0mfraction\u001b[0m\u001b[0;34m,\u001b[0m\u001b[0;34m)\u001b[0m\u001b[0;34m\u001b[0m\u001b[0;34m\u001b[0m\u001b[0m\n",
      "\u001b[0;32m/opt/anaconda3/envs/FinTech/lib/python3.7/_strptime.py\u001b[0m in \u001b[0;36m_strptime\u001b[0;34m(data_string, format)\u001b[0m\n\u001b[1;32m    357\u001b[0m     \u001b[0;32mif\u001b[0m \u001b[0;32mnot\u001b[0m \u001b[0mfound\u001b[0m\u001b[0;34m:\u001b[0m\u001b[0;34m\u001b[0m\u001b[0;34m\u001b[0m\u001b[0m\n\u001b[1;32m    358\u001b[0m         raise ValueError(\"time data %r does not match format %r\" %\n\u001b[0;32m--> 359\u001b[0;31m                          (data_string, format))\n\u001b[0m\u001b[1;32m    360\u001b[0m     \u001b[0;32mif\u001b[0m \u001b[0mlen\u001b[0m\u001b[0;34m(\u001b[0m\u001b[0mdata_string\u001b[0m\u001b[0;34m)\u001b[0m \u001b[0;34m!=\u001b[0m \u001b[0mfound\u001b[0m\u001b[0;34m.\u001b[0m\u001b[0mend\u001b[0m\u001b[0;34m(\u001b[0m\u001b[0;34m)\u001b[0m\u001b[0;34m:\u001b[0m\u001b[0;34m\u001b[0m\u001b[0;34m\u001b[0m\u001b[0m\n\u001b[1;32m    361\u001b[0m         raise ValueError(\"unconverted data remains: %s\" %\n",
      "\u001b[0;31mValueError\u001b[0m: time data '- 00-0-0- :0:0::00' does not match format '%Y-%m-%d %H:%M:%S'"
     ]
    }
   ],
   "source": [
    "_res = con.get_open_positions()\n",
    "_table = _res.sort_values(by='time').iloc[-1]\n",
    "_time = _time[-10:-6]+'-'+_time[:-12]+'-'+_time[-12:-10]+' '+_time[-6:-4]+':'+_time[-4:-2]+':'+_time[-2:]\n",
    "_time = dt.datetime.strptime(_time,'%Y-%m-%d %H:%M:%S')\n",
    "_id = _table.tradeId\n",
    "_currency = _table.currency\n",
    "_open = _table.open\n",
    "_amountk = _table.amountK\n",
    "_isbuy = _table.isBuy\n",
    "\n",
    "_open_poz = con.get_open_positions()\n",
    "_price_sell_mean = _open_poz[_open_poz.currency == x].open.mean()\n",
    "\n",
    "globals()[_name].append((_id, _currency, _time, _amountk, _isbuy, _open))\n",
    "TABLE[_name] = globals()[_name]"
   ]
  },
  {
   "cell_type": "code",
   "execution_count": 16,
   "metadata": {
    "tags": []
   },
   "outputs": [
    {
     "output_type": "stream",
     "name": "stdout",
     "text": "('169267217', 'USD/CAD', datetime.datetime(2020, 9, 1, 22, 20, 23), 10, False, 1.30605)\n"
    }
   ],
   "source": [
    "for iii in globals()[_name]:\n",
    "    print(iii)"
   ]
  },
  {
   "cell_type": "code",
   "execution_count": 19,
   "metadata": {},
   "outputs": [
    {
     "output_type": "execute_result",
     "data": {
      "text/plain": "'169267217'"
     },
     "metadata": {},
     "execution_count": 19
    }
   ],
   "source": [
    "iii[0]"
   ]
  },
  {
   "cell_type": "code",
   "execution_count": 5,
   "metadata": {},
   "outputs": [
    {
     "output_type": "error",
     "ename": "NameError",
     "evalue": "name '_table' is not defined",
     "traceback": [
      "\u001b[0;31m---------------------------------------------------------------------------\u001b[0m",
      "\u001b[0;31mNameError\u001b[0m                                 Traceback (most recent call last)",
      "\u001b[0;32m<ipython-input-5-c46ab17abe62>\u001b[0m in \u001b[0;36m<module>\u001b[0;34m\u001b[0m\n\u001b[0;32m----> 1\u001b[0;31m \u001b[0m_time\u001b[0m \u001b[0;34m=\u001b[0m \u001b[0m_table\u001b[0m\u001b[0;34m.\u001b[0m\u001b[0mtime\u001b[0m\u001b[0;34m\u001b[0m\u001b[0;34m\u001b[0m\u001b[0m\n\u001b[0m\u001b[1;32m      2\u001b[0m \u001b[0m_time\u001b[0m\u001b[0;34m\u001b[0m\u001b[0;34m\u001b[0m\u001b[0m\n",
      "\u001b[0;31mNameError\u001b[0m: name '_table' is not defined"
     ]
    }
   ],
   "source": [
    "_time = _table.time\n",
    "_time"
   ]
  },
  {
   "cell_type": "code",
   "execution_count": 11,
   "metadata": {},
   "outputs": [
    {
     "output_type": "execute_result",
     "data": {
      "text/plain": "str"
     },
     "metadata": {},
     "execution_count": 11
    }
   ],
   "source": []
  },
  {
   "cell_type": "code",
   "execution_count": null,
   "metadata": {},
   "outputs": [],
   "source": []
  },
  {
   "cell_type": "code",
   "execution_count": null,
   "metadata": {},
   "outputs": [],
   "source": []
  },
  {
   "cell_type": "code",
   "execution_count": null,
   "metadata": {},
   "outputs": [],
   "source": []
  },
  {
   "cell_type": "code",
   "execution_count": null,
   "metadata": {},
   "outputs": [],
   "source": []
  },
  {
   "cell_type": "code",
   "execution_count": null,
   "metadata": {},
   "outputs": [],
   "source": []
  },
  {
   "cell_type": "code",
   "execution_count": null,
   "metadata": {},
   "outputs": [],
   "source": []
  },
  {
   "cell_type": "code",
   "execution_count": null,
   "metadata": {},
   "outputs": [],
   "source": []
  },
  {
   "cell_type": "code",
   "execution_count": null,
   "metadata": {},
   "outputs": [],
   "source": []
  },
  {
   "cell_type": "code",
   "execution_count": null,
   "metadata": {},
   "outputs": [],
   "source": []
  },
  {
   "cell_type": "code",
   "execution_count": null,
   "metadata": {},
   "outputs": [],
   "source": []
  },
  {
   "cell_type": "code",
   "execution_count": null,
   "metadata": {},
   "outputs": [],
   "source": []
  }
 ],
 "metadata": {
  "kernelspec": {
   "display_name": "Python 3.7.6 64-bit ('FinTech': conda)",
   "language": "python",
   "name": "python37664bitfintechcondac76ab263fd6941b2a7e8b27983583628"
  },
  "language_info": {
   "codemirror_mode": {
    "name": "ipython",
    "version": 3
   },
   "file_extension": ".py",
   "mimetype": "text/x-python",
   "name": "python",
   "nbconvert_exporter": "python",
   "pygments_lexer": "ipython3",
   "version": "3.7.6-final"
  }
 },
 "nbformat": 4,
 "nbformat_minor": 4
}