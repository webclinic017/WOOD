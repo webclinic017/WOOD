{
 "cells": [
  {
   "cell_type": "code",
   "execution_count": 124,
   "metadata": {},
   "outputs": [],
   "source": [
    "___Author___='LumberJack Jyss'"
   ]
  },
  {
   "cell_type": "markdown",
   "metadata": {},
   "source": [
    "https://www.quantinsti.com/blog/random-forest-algorithm-in-python"
   ]
  },
  {
   "cell_type": "code",
   "execution_count": 125,
   "metadata": {},
   "outputs": [],
   "source": [
    "import numpy as np\n",
    "from sklearn.ensemble import RandomForestClassifier\n",
    "from sklearn.model_selection import train_test_split\n",
    "from sklearn.linear_model import LinearRegression\n",
    "from sklearn.preprocessing import PolynomialFeatures\n",
    "from sklearn.preprocessing import StandardScaler\n",
    "from sklearn.preprocessing import MinMaxScaler\n",
    "import tensorflow as tf\n",
    "import matplotlib.pyplot as plt\n",
    "import matplotlib.cm as cm\n",
    "%matplotlib inline\n",
    "import seaborn as sns\n",
    "sns.set(palette='bright',style='whitegrid')\n",
    "import numpy as np\n",
    "import pandas as pd\n",
    "import quandl\n",
    "import pandas_datareader as web\n",
    "from statsmodels.tsa.stattools import coint\n",
    "import statsmodels\n",
    "from statsmodels.tsa.stattools import adfuller\n",
    "import itertools\n",
    "import scipy\n",
    "from scipy import stats\n",
    "import time\n",
    "from matplotlib.backends.backend_pdf import PdfPages\n",
    "import warnings\n",
    "warnings.filterwarnings('ignore')"
   ]
  },
  {
   "cell_type": "code",
   "execution_count": 126,
   "metadata": {},
   "outputs": [],
   "source": [
    "start = pd.to_datetime('2016-03-31')\n",
    "end = pd.to_datetime('2019-03-19')"
   ]
  },
  {
   "cell_type": "code",
   "execution_count": 127,
   "metadata": {},
   "outputs": [
    {
     "data": {
      "text/html": [
       "<div>\n",
       "<style scoped>\n",
       "    .dataframe tbody tr th:only-of-type {\n",
       "        vertical-align: middle;\n",
       "    }\n",
       "\n",
       "    .dataframe tbody tr th {\n",
       "        vertical-align: top;\n",
       "    }\n",
       "\n",
       "    .dataframe thead th {\n",
       "        text-align: right;\n",
       "    }\n",
       "</style>\n",
       "<table border=\"1\" class=\"dataframe\">\n",
       "  <thead>\n",
       "    <tr style=\"text-align: right;\">\n",
       "      <th></th>\n",
       "      <th>High</th>\n",
       "      <th>Low</th>\n",
       "      <th>Open</th>\n",
       "      <th>Close</th>\n",
       "      <th>Volume</th>\n",
       "      <th>Adj Close</th>\n",
       "    </tr>\n",
       "    <tr>\n",
       "      <th>Date</th>\n",
       "      <th></th>\n",
       "      <th></th>\n",
       "      <th></th>\n",
       "      <th></th>\n",
       "      <th></th>\n",
       "      <th></th>\n",
       "    </tr>\n",
       "  </thead>\n",
       "  <tbody>\n",
       "    <tr>\n",
       "      <th>2019-03-13</th>\n",
       "      <td>1700.000000</td>\n",
       "      <td>1679.349976</td>\n",
       "      <td>1683.000000</td>\n",
       "      <td>1690.810059</td>\n",
       "      <td>3552000</td>\n",
       "      <td>1690.810059</td>\n",
       "    </tr>\n",
       "    <tr>\n",
       "      <th>2019-03-14</th>\n",
       "      <td>1702.000000</td>\n",
       "      <td>1684.339966</td>\n",
       "      <td>1691.199951</td>\n",
       "      <td>1686.219971</td>\n",
       "      <td>2946600</td>\n",
       "      <td>1686.219971</td>\n",
       "    </tr>\n",
       "    <tr>\n",
       "      <th>2019-03-15</th>\n",
       "      <td>1718.800049</td>\n",
       "      <td>1693.130005</td>\n",
       "      <td>1703.000000</td>\n",
       "      <td>1712.359985</td>\n",
       "      <td>7550900</td>\n",
       "      <td>1712.359985</td>\n",
       "    </tr>\n",
       "    <tr>\n",
       "      <th>2019-03-18</th>\n",
       "      <td>1750.000000</td>\n",
       "      <td>1712.630005</td>\n",
       "      <td>1712.699951</td>\n",
       "      <td>1742.150024</td>\n",
       "      <td>5429100</td>\n",
       "      <td>1742.150024</td>\n",
       "    </tr>\n",
       "    <tr>\n",
       "      <th>2019-03-19</th>\n",
       "      <td>1784.160034</td>\n",
       "      <td>1753.510010</td>\n",
       "      <td>1753.510010</td>\n",
       "      <td>1761.849976</td>\n",
       "      <td>6364200</td>\n",
       "      <td>1761.849976</td>\n",
       "    </tr>\n",
       "  </tbody>\n",
       "</table>\n",
       "</div>"
      ],
      "text/plain": [
       "                   High          Low         Open        Close   Volume  \\\n",
       "Date                                                                      \n",
       "2019-03-13  1700.000000  1679.349976  1683.000000  1690.810059  3552000   \n",
       "2019-03-14  1702.000000  1684.339966  1691.199951  1686.219971  2946600   \n",
       "2019-03-15  1718.800049  1693.130005  1703.000000  1712.359985  7550900   \n",
       "2019-03-18  1750.000000  1712.630005  1712.699951  1742.150024  5429100   \n",
       "2019-03-19  1784.160034  1753.510010  1753.510010  1761.849976  6364200   \n",
       "\n",
       "              Adj Close  \n",
       "Date                     \n",
       "2019-03-13  1690.810059  \n",
       "2019-03-14  1686.219971  \n",
       "2019-03-15  1712.359985  \n",
       "2019-03-18  1742.150024  \n",
       "2019-03-19  1761.849976  "
      ]
     },
     "execution_count": 127,
     "metadata": {},
     "output_type": "execute_result"
    }
   ],
   "source": [
    "data = web.DataReader('AMZN','yahoo',start,end)\n",
    "spy_etf = web.DataReader('SPY','yahoo',start,end)\n",
    "cpi = web.DataReader('CPI','yahoo',start,end)\n",
    "pmi = web.DataReader('PMIDX','yahoo',start,end)\n",
    "tlt = web.DataReader('TLT','yahoo',start,end)\n",
    "eur = web.DataReader('EUR','yahoo',start,end)\n",
    "\n",
    "\n",
    "data.tail()"
   ]
  },
  {
   "cell_type": "code",
   "execution_count": 128,
   "metadata": {},
   "outputs": [
    {
     "data": {
      "text/html": [
       "<div>\n",
       "<style scoped>\n",
       "    .dataframe tbody tr th:only-of-type {\n",
       "        vertical-align: middle;\n",
       "    }\n",
       "\n",
       "    .dataframe tbody tr th {\n",
       "        vertical-align: top;\n",
       "    }\n",
       "\n",
       "    .dataframe thead th {\n",
       "        text-align: right;\n",
       "    }\n",
       "</style>\n",
       "<table border=\"1\" class=\"dataframe\">\n",
       "  <thead>\n",
       "    <tr style=\"text-align: right;\">\n",
       "      <th></th>\n",
       "      <th>High</th>\n",
       "      <th>Low</th>\n",
       "      <th>Open</th>\n",
       "      <th>Close</th>\n",
       "      <th>Volume</th>\n",
       "      <th>Adj Close</th>\n",
       "    </tr>\n",
       "    <tr>\n",
       "      <th>Date</th>\n",
       "      <th></th>\n",
       "      <th></th>\n",
       "      <th></th>\n",
       "      <th></th>\n",
       "      <th></th>\n",
       "      <th></th>\n",
       "    </tr>\n",
       "  </thead>\n",
       "  <tbody>\n",
       "    <tr>\n",
       "      <th>2016-03-31</th>\n",
       "      <td>206.410004</td>\n",
       "      <td>205.330002</td>\n",
       "      <td>205.910004</td>\n",
       "      <td>205.520004</td>\n",
       "      <td>94584100.0</td>\n",
       "      <td>193.828278</td>\n",
       "    </tr>\n",
       "    <tr>\n",
       "      <th>2016-04-01</th>\n",
       "      <td>207.139999</td>\n",
       "      <td>203.979996</td>\n",
       "      <td>204.350006</td>\n",
       "      <td>206.919998</td>\n",
       "      <td>114423500.0</td>\n",
       "      <td>195.148621</td>\n",
       "    </tr>\n",
       "    <tr>\n",
       "      <th>2016-04-04</th>\n",
       "      <td>207.070007</td>\n",
       "      <td>205.889999</td>\n",
       "      <td>206.830002</td>\n",
       "      <td>206.250000</td>\n",
       "      <td>63497000.0</td>\n",
       "      <td>194.516769</td>\n",
       "    </tr>\n",
       "    <tr>\n",
       "      <th>2016-04-05</th>\n",
       "      <td>206.259995</td>\n",
       "      <td>203.889999</td>\n",
       "      <td>204.669998</td>\n",
       "      <td>204.190002</td>\n",
       "      <td>99662200.0</td>\n",
       "      <td>192.573914</td>\n",
       "    </tr>\n",
       "    <tr>\n",
       "      <th>2016-04-06</th>\n",
       "      <td>206.490005</td>\n",
       "      <td>203.979996</td>\n",
       "      <td>204.190002</td>\n",
       "      <td>206.419998</td>\n",
       "      <td>89889800.0</td>\n",
       "      <td>194.677063</td>\n",
       "    </tr>\n",
       "  </tbody>\n",
       "</table>\n",
       "</div>"
      ],
      "text/plain": [
       "                  High         Low        Open       Close       Volume  \\\n",
       "Date                                                                      \n",
       "2016-03-31  206.410004  205.330002  205.910004  205.520004   94584100.0   \n",
       "2016-04-01  207.139999  203.979996  204.350006  206.919998  114423500.0   \n",
       "2016-04-04  207.070007  205.889999  206.830002  206.250000   63497000.0   \n",
       "2016-04-05  206.259995  203.889999  204.669998  204.190002   99662200.0   \n",
       "2016-04-06  206.490005  203.979996  204.190002  206.419998   89889800.0   \n",
       "\n",
       "             Adj Close  \n",
       "Date                    \n",
       "2016-03-31  193.828278  \n",
       "2016-04-01  195.148621  \n",
       "2016-04-04  194.516769  \n",
       "2016-04-05  192.573914  \n",
       "2016-04-06  194.677063  "
      ]
     },
     "execution_count": 128,
     "metadata": {},
     "output_type": "execute_result"
    }
   ],
   "source": [
    "spy_etf.head()"
   ]
  },
  {
   "cell_type": "code",
   "execution_count": 129,
   "metadata": {},
   "outputs": [
    {
     "data": {
      "text/html": [
       "<div>\n",
       "<style scoped>\n",
       "    .dataframe tbody tr th:only-of-type {\n",
       "        vertical-align: middle;\n",
       "    }\n",
       "\n",
       "    .dataframe tbody tr th {\n",
       "        vertical-align: top;\n",
       "    }\n",
       "\n",
       "    .dataframe thead th {\n",
       "        text-align: right;\n",
       "    }\n",
       "</style>\n",
       "<table border=\"1\" class=\"dataframe\">\n",
       "  <thead>\n",
       "    <tr style=\"text-align: right;\">\n",
       "      <th></th>\n",
       "      <th>Adj Close</th>\n",
       "      <th>SPY</th>\n",
       "    </tr>\n",
       "    <tr>\n",
       "      <th>Date</th>\n",
       "      <th></th>\n",
       "      <th></th>\n",
       "    </tr>\n",
       "  </thead>\n",
       "  <tbody>\n",
       "    <tr>\n",
       "      <th>2019-03-13</th>\n",
       "      <td>1673.099976</td>\n",
       "      <td>280.106201</td>\n",
       "    </tr>\n",
       "    <tr>\n",
       "      <th>2019-03-14</th>\n",
       "      <td>1690.810059</td>\n",
       "      <td>279.927002</td>\n",
       "    </tr>\n",
       "    <tr>\n",
       "      <th>2019-03-15</th>\n",
       "      <td>1686.219971</td>\n",
       "      <td>281.309998</td>\n",
       "    </tr>\n",
       "    <tr>\n",
       "      <th>2019-03-18</th>\n",
       "      <td>1712.359985</td>\n",
       "      <td>282.329987</td>\n",
       "    </tr>\n",
       "    <tr>\n",
       "      <th>2019-03-19</th>\n",
       "      <td>1742.150024</td>\n",
       "      <td>282.399994</td>\n",
       "    </tr>\n",
       "  </tbody>\n",
       "</table>\n",
       "</div>"
      ],
      "text/plain": [
       "              Adj Close         SPY\n",
       "Date                               \n",
       "2019-03-13  1673.099976  280.106201\n",
       "2019-03-14  1690.810059  279.927002\n",
       "2019-03-15  1686.219971  281.309998\n",
       "2019-03-18  1712.359985  282.329987\n",
       "2019-03-19  1742.150024  282.399994"
      ]
     },
     "execution_count": 129,
     "metadata": {},
     "output_type": "execute_result"
    }
   ],
   "source": [
    "dataset = pd.DataFrame()\n",
    "dataset['Adj Close'] = data['Adj Close'].shift(1)\n",
    "dataset['SPY'] = spy_etf['Adj Close']\n",
    "#dataset['SPY'] = dataset['SPY'].iloc[:-1,1]\n",
    "#index =range(0,len(dataset))\n",
    "#index = np.array(index)\n",
    "#dataset.set_index(keys = index, inplace = True)\n",
    "#dataset = dataset.to_frame()\n",
    "#dataset['Date'] = dataset.index.strftime('%Y,%M,%D')\n",
    "#cols = dataset.columns.tolist()\n",
    "#cols = cols[-1:] + cols[:-1]\n",
    "#dataset = dataset[cols]\n",
    "dataset.tail()"
   ]
  },
  {
   "cell_type": "code",
   "execution_count": 130,
   "metadata": {},
   "outputs": [
    {
     "data": {
      "text/html": [
       "<div>\n",
       "<style scoped>\n",
       "    .dataframe tbody tr th:only-of-type {\n",
       "        vertical-align: middle;\n",
       "    }\n",
       "\n",
       "    .dataframe tbody tr th {\n",
       "        vertical-align: top;\n",
       "    }\n",
       "\n",
       "    .dataframe thead th {\n",
       "        text-align: right;\n",
       "    }\n",
       "</style>\n",
       "<table border=\"1\" class=\"dataframe\">\n",
       "  <thead>\n",
       "    <tr style=\"text-align: right;\">\n",
       "      <th></th>\n",
       "      <th>Adj Close</th>\n",
       "      <th>SPY</th>\n",
       "    </tr>\n",
       "    <tr>\n",
       "      <th>Date</th>\n",
       "      <th></th>\n",
       "      <th></th>\n",
       "    </tr>\n",
       "  </thead>\n",
       "  <tbody>\n",
       "    <tr>\n",
       "      <th>2016-03-31</th>\n",
       "      <td>NaN</td>\n",
       "      <td>193.828278</td>\n",
       "    </tr>\n",
       "    <tr>\n",
       "      <th>2016-04-01</th>\n",
       "      <td>593.640015</td>\n",
       "      <td>195.148621</td>\n",
       "    </tr>\n",
       "    <tr>\n",
       "      <th>2016-04-04</th>\n",
       "      <td>598.500000</td>\n",
       "      <td>194.516769</td>\n",
       "    </tr>\n",
       "    <tr>\n",
       "      <th>2016-04-05</th>\n",
       "      <td>593.190002</td>\n",
       "      <td>192.573914</td>\n",
       "    </tr>\n",
       "    <tr>\n",
       "      <th>2016-04-06</th>\n",
       "      <td>586.140015</td>\n",
       "      <td>194.677063</td>\n",
       "    </tr>\n",
       "  </tbody>\n",
       "</table>\n",
       "</div>"
      ],
      "text/plain": [
       "             Adj Close         SPY\n",
       "Date                              \n",
       "2016-03-31         NaN  193.828278\n",
       "2016-04-01  593.640015  195.148621\n",
       "2016-04-04  598.500000  194.516769\n",
       "2016-04-05  593.190002  192.573914\n",
       "2016-04-06  586.140015  194.677063"
      ]
     },
     "execution_count": 130,
     "metadata": {},
     "output_type": "execute_result"
    }
   ],
   "source": [
    "dataset.head()"
   ]
  },
  {
   "cell_type": "code",
   "execution_count": 131,
   "metadata": {},
   "outputs": [],
   "source": [
    "X = dataset.iloc[1:, 1].to_frame().dropna()\n",
    "y = dataset.iloc[1:, 0].to_frame().dropna()"
   ]
  },
  {
   "cell_type": "code",
   "execution_count": 132,
   "metadata": {},
   "outputs": [
    {
     "data": {
      "text/plain": [
       "746"
      ]
     },
     "execution_count": 132,
     "metadata": {},
     "output_type": "execute_result"
    }
   ],
   "source": [
    "len(X)"
   ]
  },
  {
   "cell_type": "code",
   "execution_count": 133,
   "metadata": {},
   "outputs": [
    {
     "data": {
      "text/plain": [
       "746"
      ]
     },
     "execution_count": 133,
     "metadata": {},
     "output_type": "execute_result"
    }
   ],
   "source": [
    "len(y)"
   ]
  },
  {
   "cell_type": "code",
   "execution_count": 134,
   "metadata": {},
   "outputs": [],
   "source": [
    "train_X, test_X, train_y, test_y = train_test_split(X, y, random_state = 0, test_size = 0.25)"
   ]
  },
  {
   "cell_type": "code",
   "execution_count": 135,
   "metadata": {},
   "outputs": [
    {
     "data": {
      "text/html": [
       "<div>\n",
       "<style scoped>\n",
       "    .dataframe tbody tr th:only-of-type {\n",
       "        vertical-align: middle;\n",
       "    }\n",
       "\n",
       "    .dataframe tbody tr th {\n",
       "        vertical-align: top;\n",
       "    }\n",
       "\n",
       "    .dataframe thead th {\n",
       "        text-align: right;\n",
       "    }\n",
       "</style>\n",
       "<table border=\"1\" class=\"dataframe\">\n",
       "  <thead>\n",
       "    <tr style=\"text-align: right;\">\n",
       "      <th></th>\n",
       "      <th>Adj Close</th>\n",
       "    </tr>\n",
       "    <tr>\n",
       "      <th>Date</th>\n",
       "      <th></th>\n",
       "    </tr>\n",
       "  </thead>\n",
       "  <tbody>\n",
       "    <tr>\n",
       "      <th>2016-04-01</th>\n",
       "      <td>593.640015</td>\n",
       "    </tr>\n",
       "    <tr>\n",
       "      <th>2016-04-04</th>\n",
       "      <td>598.500000</td>\n",
       "    </tr>\n",
       "    <tr>\n",
       "      <th>2016-04-05</th>\n",
       "      <td>593.190002</td>\n",
       "    </tr>\n",
       "    <tr>\n",
       "      <th>2016-04-06</th>\n",
       "      <td>586.140015</td>\n",
       "    </tr>\n",
       "    <tr>\n",
       "      <th>2016-04-07</th>\n",
       "      <td>602.080017</td>\n",
       "    </tr>\n",
       "  </tbody>\n",
       "</table>\n",
       "</div>"
      ],
      "text/plain": [
       "             Adj Close\n",
       "Date                  \n",
       "2016-04-01  593.640015\n",
       "2016-04-04  598.500000\n",
       "2016-04-05  593.190002\n",
       "2016-04-06  586.140015\n",
       "2016-04-07  602.080017"
      ]
     },
     "execution_count": 135,
     "metadata": {},
     "output_type": "execute_result"
    }
   ],
   "source": [
    "y.head()"
   ]
  },
  {
   "cell_type": "code",
   "execution_count": 136,
   "metadata": {},
   "outputs": [
    {
     "data": {
      "text/plain": [
       "LinearRegression(copy_X=True, fit_intercept=True, n_jobs=None,\n",
       "         normalize=False)"
      ]
     },
     "execution_count": 136,
     "metadata": {},
     "output_type": "execute_result"
    }
   ],
   "source": [
    "linearRegression = LinearRegression()\n",
    "linearRegression.fit(train_X, train_y)"
   ]
  },
  {
   "cell_type": "code",
   "execution_count": 137,
   "metadata": {},
   "outputs": [
    {
     "name": "stdout",
     "output_type": "stream",
     "text": [
      "Training Score: 87.36 %\n",
      "Testing Score: 86.55 %\n"
     ]
    }
   ],
   "source": [
    "print(\"Training Score: {:.2f}\".format(linearRegression.score(train_X, train_y)*100),'%')\n",
    "print(\"Testing Score: {:.2f}\".format(linearRegression.score(test_X, test_y)*100),'%')"
   ]
  },
  {
   "cell_type": "code",
   "execution_count": 138,
   "metadata": {},
   "outputs": [
    {
     "data": {
      "text/plain": [
       "Text(0.5, 1.0, 'Correlation between AMZN & SPY (Training Data)')"
      ]
     },
     "execution_count": 138,
     "metadata": {},
     "output_type": "execute_result"
    },
    {
     "data": {
      "image/png": "[encoded data removed]",
      "text/plain": [
       "<Figure size 1152x432 with 1 Axes>"
      ]
     },
     "metadata": {},
     "output_type": "display_data"
    }
   ],
   "source": [
    "plt.figure(figsize = (16, 6))\n",
    "plt.scatter(train_X, train_y, color = 'r')\n",
    "plt.plot(train_X, linearRegression.predict(train_X), color = 'b')\n",
    "plt.xlabel('Indice SPY')\n",
    "plt.ylabel('AMZN')\n",
    "plt.title('Correlation between AMZN & SPY (Training Data)')"
   ]
  },
  {
   "cell_type": "code",
   "execution_count": 139,
   "metadata": {},
   "outputs": [
    {
     "data": {
      "text/plain": [
       "Text(0.5, 1.0, 'Correlation between AMZN & SPY (Testing Data)')"
      ]
     },
     "execution_count": 139,
     "metadata": {},
     "output_type": "execute_result"
    },
    {
     "data": {
      "image/png": "[encoded data removed]",
      "text/plain": [
       "<Figure size 864x576 with 1 Axes>"
      ]
     },
     "metadata": {},
     "output_type": "display_data"
    }
   ],
   "source": [
    "plt.figure(figsize = (12, 8))\n",
    "plt.scatter(test_X, test_y, color = 'r')\n",
    "plt.plot(test_X, linearRegression.predict(test_X), color = 'b')\n",
    "plt.xlabel('Indice SPY')\n",
    "plt.ylabel('AMZN')\n",
    "plt.title('Correlation between AMZN & SPY (Testing Data)')"
   ]
  },
  {
   "cell_type": "markdown",
   "metadata": {},
   "source": [
    "## Multiple Lnear Regression"
   ]
  },
  {
   "cell_type": "code",
   "execution_count": 140,
   "metadata": {},
   "outputs": [
    {
     "data": {
      "text/html": [
       "<div>\n",
       "<style scoped>\n",
       "    .dataframe tbody tr th:only-of-type {\n",
       "        vertical-align: middle;\n",
       "    }\n",
       "\n",
       "    .dataframe tbody tr th {\n",
       "        vertical-align: top;\n",
       "    }\n",
       "\n",
       "    .dataframe thead th {\n",
       "        text-align: right;\n",
       "    }\n",
       "</style>\n",
       "<table border=\"1\" class=\"dataframe\">\n",
       "  <thead>\n",
       "    <tr style=\"text-align: right;\">\n",
       "      <th></th>\n",
       "      <th>Adj Close</th>\n",
       "      <th>SPY</th>\n",
       "      <th>cpi</th>\n",
       "      <th>pmi</th>\n",
       "      <th>tlt</th>\n",
       "    </tr>\n",
       "    <tr>\n",
       "      <th>Date</th>\n",
       "      <th></th>\n",
       "      <th></th>\n",
       "      <th></th>\n",
       "      <th></th>\n",
       "      <th></th>\n",
       "    </tr>\n",
       "  </thead>\n",
       "  <tbody>\n",
       "    <tr>\n",
       "      <th>2019-03-13</th>\n",
       "      <td>1673.099976</td>\n",
       "      <td>280.106201</td>\n",
       "      <td>27.520000</td>\n",
       "      <td>10.01</td>\n",
       "      <td>121.830002</td>\n",
       "    </tr>\n",
       "    <tr>\n",
       "      <th>2019-03-14</th>\n",
       "      <td>1690.810059</td>\n",
       "      <td>279.927002</td>\n",
       "      <td>27.530001</td>\n",
       "      <td>10.00</td>\n",
       "      <td>120.949997</td>\n",
       "    </tr>\n",
       "    <tr>\n",
       "      <th>2019-03-15</th>\n",
       "      <td>1686.219971</td>\n",
       "      <td>281.309998</td>\n",
       "      <td>27.520000</td>\n",
       "      <td>10.03</td>\n",
       "      <td>121.750000</td>\n",
       "    </tr>\n",
       "    <tr>\n",
       "      <th>2019-03-18</th>\n",
       "      <td>1712.359985</td>\n",
       "      <td>282.329987</td>\n",
       "      <td>27.559999</td>\n",
       "      <td>10.07</td>\n",
       "      <td>121.680000</td>\n",
       "    </tr>\n",
       "    <tr>\n",
       "      <th>2019-03-19</th>\n",
       "      <td>1742.150024</td>\n",
       "      <td>282.399994</td>\n",
       "      <td>27.570000</td>\n",
       "      <td>10.06</td>\n",
       "      <td>121.410004</td>\n",
       "    </tr>\n",
       "  </tbody>\n",
       "</table>\n",
       "</div>"
      ],
      "text/plain": [
       "              Adj Close         SPY        cpi    pmi         tlt\n",
       "Date                                                             \n",
       "2019-03-13  1673.099976  280.106201  27.520000  10.01  121.830002\n",
       "2019-03-14  1690.810059  279.927002  27.530001  10.00  120.949997\n",
       "2019-03-15  1686.219971  281.309998  27.520000  10.03  121.750000\n",
       "2019-03-18  1712.359985  282.329987  27.559999  10.07  121.680000\n",
       "2019-03-19  1742.150024  282.399994  27.570000  10.06  121.410004"
      ]
     },
     "execution_count": 140,
     "metadata": {},
     "output_type": "execute_result"
    }
   ],
   "source": [
    "dataset['cpi'] = cpi['Adj Close']\n",
    "dataset['pmi'] = pmi['Adj Close']\n",
    "dataset['tlt'] = tlt['Adj Close']\n",
    "\n",
    "dataset.tail()"
   ]
  },
  {
   "cell_type": "code",
   "execution_count": 141,
   "metadata": {},
   "outputs": [
    {
     "name": "stdout",
     "output_type": "stream",
     "text": [
      "<class 'pandas.core.frame.DataFrame'>\n",
      "DatetimeIndex: 747 entries, 2016-03-31 to 2019-03-19\n",
      "Data columns (total 5 columns):\n",
      "Adj Close    746 non-null float64\n",
      "SPY          747 non-null float64\n",
      "cpi          747 non-null float64\n",
      "pmi          745 non-null float64\n",
      "tlt          747 non-null float64\n",
      "dtypes: float64(5)\n",
      "memory usage: 35.0 KB\n"
     ]
    }
   ],
   "source": [
    "dataset.info()"
   ]
  },
  {
   "cell_type": "code",
   "execution_count": 142,
   "metadata": {},
   "outputs": [],
   "source": [
    "X = dataset.iloc[:,1:].dropna()\n",
    "y = dataset.iloc[:, 0].to_frame().dropna()"
   ]
  },
  {
   "cell_type": "code",
   "execution_count": 143,
   "metadata": {},
   "outputs": [
    {
     "name": "stdout",
     "output_type": "stream",
     "text": [
      "<class 'pandas.core.frame.DataFrame'>\n",
      "DatetimeIndex: 745 entries, 2016-03-31 to 2019-03-19\n",
      "Data columns (total 4 columns):\n",
      "SPY    745 non-null float64\n",
      "cpi    745 non-null float64\n",
      "pmi    745 non-null float64\n",
      "tlt    745 non-null float64\n",
      "dtypes: float64(4)\n",
      "memory usage: 29.1 KB\n"
     ]
    }
   ],
   "source": [
    "X.info()"
   ]
  },
  {
   "cell_type": "code",
   "execution_count": 144,
   "metadata": {},
   "outputs": [
    {
     "name": "stdout",
     "output_type": "stream",
     "text": [
      "<class 'pandas.core.frame.DataFrame'>\n",
      "DatetimeIndex: 746 entries, 2016-04-01 to 2019-03-19\n",
      "Data columns (total 1 columns):\n",
      "Adj Close    746 non-null float64\n",
      "dtypes: float64(1)\n",
      "memory usage: 11.7 KB\n"
     ]
    }
   ],
   "source": [
    "y.info()"
   ]
  },
  {
   "cell_type": "code",
   "execution_count": 145,
   "metadata": {},
   "outputs": [],
   "source": [
    "standardScaler = StandardScaler()\n",
    "train_X = standardScaler.fit_transform(train_X)\n",
    "test_X = standardScaler.transform(test_X)"
   ]
  },
  {
   "cell_type": "code",
   "execution_count": 146,
   "metadata": {},
   "outputs": [
    {
     "name": "stdout",
     "output_type": "stream",
     "text": [
      "Training Score: 87.36 %\n",
      "Testing Score: 86.55 %\n"
     ]
    }
   ],
   "source": [
    "linearRegression = LinearRegression()\n",
    "linearRegression.fit(train_X, train_y)\n",
    "print(\"Training Score: {0:.2f}\".format(linearRegression.score(train_X, train_y)*100),'%')\n",
    "print(\"Testing Score: {0:.2f}\".format(linearRegression.score(test_X, test_y)*100),'%')"
   ]
  },
  {
   "cell_type": "markdown",
   "metadata": {},
   "source": [
    "### DEEP LEARNIG\n",
    "\n",
    "https://medium.com/mlreview/a-simple-deep-learning-model-for-stock-price-prediction-using-tensorflow-30505541d877"
   ]
  },
  {
   "cell_type": "code",
   "execution_count": 147,
   "metadata": {},
   "outputs": [
    {
     "name": "stdout",
     "output_type": "stream",
     "text": [
      "X head: \n",
      "                    SPY        cpi       pmi         tlt\n",
      "Date                                                   \n",
      "2016-03-31  193.828278  26.104795  8.275249  121.034134\n",
      "2016-04-01  195.148621  26.055967  8.308350  121.349808\n",
      "2016-04-05  192.573914  25.968071  8.175945  122.752037\n",
      "2016-04-06  194.677063  25.968071  8.217321  121.860588\n",
      "2016-04-07  192.347565  25.938772  8.134570  123.364914 \n",
      "\n",
      "y head: \n",
      "              Adj Close\n",
      "Date                  \n",
      "2016-04-01  593.640015\n",
      "2016-04-04  598.500000\n",
      "2016-04-05  593.190002\n",
      "2016-04-06  586.140015\n",
      "2016-04-07  602.080017 \n",
      "\n",
      "X tail: \n",
      "                    SPY        cpi    pmi         tlt\n",
      "Date                                                \n",
      "2019-03-13  280.106201  27.520000  10.01  121.830002\n",
      "2019-03-14  279.927002  27.530001  10.00  120.949997\n",
      "2019-03-15  281.309998  27.520000  10.03  121.750000\n",
      "2019-03-18  282.329987  27.559999  10.07  121.680000\n",
      "2019-03-19  282.399994  27.570000  10.06  121.410004 \n",
      "\n",
      "y tail: \n",
      "               Adj Close\n",
      "Date                   \n",
      "2019-03-13  1673.099976\n",
      "2019-03-14  1690.810059\n",
      "2019-03-15  1686.219971\n",
      "2019-03-18  1712.359985\n",
      "2019-03-19  1742.150024 \n",
      "\n"
     ]
    }
   ],
   "source": [
    "print ('X head: \\n',X.head(),'\\n')\n",
    "print ('y head: \\n',y.head(),'\\n')\n",
    "print ('X tail: \\n',X.tail(),'\\n')\n",
    "print ('y tail: \\n',y.tail(),'\\n')"
   ]
  },
  {
   "cell_type": "code",
   "execution_count": 148,
   "metadata": {},
   "outputs": [
    {
     "name": "stdout",
     "output_type": "stream",
     "text": [
      "\n",
      "Infos X : \n",
      "\n",
      "<class 'pandas.core.frame.DataFrame'>\n",
      "DatetimeIndex: 745 entries, 2016-03-31 to 2019-03-19\n",
      "Data columns (total 4 columns):\n",
      "SPY    745 non-null float64\n",
      "cpi    745 non-null float64\n",
      "pmi    745 non-null float64\n",
      "tlt    745 non-null float64\n",
      "dtypes: float64(4)\n",
      "memory usage: 29.1 KB\n",
      "None \n",
      "\n"
     ]
    }
   ],
   "source": [
    "print ('\\nInfos X : \\n')\n",
    "print (X.info(),'\\n')"
   ]
  },
  {
   "cell_type": "code",
   "execution_count": 149,
   "metadata": {},
   "outputs": [
    {
     "name": "stdout",
     "output_type": "stream",
     "text": [
      "\n",
      "Infos y : \n",
      "\n",
      "<class 'pandas.core.frame.DataFrame'>\n",
      "DatetimeIndex: 746 entries, 2016-04-01 to 2019-03-19\n",
      "Data columns (total 1 columns):\n",
      "Adj Close    746 non-null float64\n",
      "dtypes: float64(1)\n",
      "memory usage: 11.7 KB\n",
      "None \n",
      "\n"
     ]
    }
   ],
   "source": [
    "print ('\\nInfos y : \\n')\n",
    "print(y.info(),'\\n')"
   ]
  },
  {
   "cell_type": "code",
   "execution_count": 150,
   "metadata": {},
   "outputs": [
    {
     "data": {
      "text/plain": [
       "<matplotlib.axes._subplots.AxesSubplot at 0x1c3caf57b8>"
      ]
     },
     "execution_count": 150,
     "metadata": {},
     "output_type": "execute_result"
    },
    {
     "data": {
      "image/png": "[encoded data removed]",
      "text/plain": [
       "<Figure size 1152x432 with 1 Axes>"
      ]
     },
     "metadata": {},
     "output_type": "display_data"
    }
   ],
   "source": [
    "X['SPY'].plot(figsize=(16,6),title='SPY 500 sur la période')"
   ]
  },
  {
   "cell_type": "code",
   "execution_count": 151,
   "metadata": {},
   "outputs": [
    {
     "name": "stdout",
     "output_type": "stream",
     "text": [
      "La valeur de n (shape de X) est de :  745\n",
      "La valeur de p (shape de y) est de :  746\n"
     ]
    }
   ],
   "source": [
    "# Dimensions of dataset sur 2 colonnes\n",
    "X.dropna()\n",
    "y.dropna()\n",
    "n = X.shape[0]\n",
    "p = y.shape[0]\n",
    "print('La valeur de n (shape de X) est de : ',n)\n",
    "print('La valeur de p (shape de y) est de : ',p)"
   ]
  },
  {
   "cell_type": "code",
   "execution_count": 152,
   "metadata": {},
   "outputs": [],
   "source": [
    "X = X.values\n",
    "y = y.values"
   ]
  },
  {
   "cell_type": "code",
   "execution_count": 153,
   "metadata": {},
   "outputs": [],
   "source": [
    "# Training and test data\n",
    "train_start = 0\n",
    "train_end = int(np.floor(0.8*n))\n",
    "test_start = train_end\n",
    "test_end = n\n",
    "X_train = X[np.arange(train_start, train_end), :]\n",
    "X_test = X[np.arange(test_start, test_end), :]\n",
    "y_train = y[np.arange(train_start, train_end), :]\n",
    "y_test = y[np.arange(test_start, test_end), :]"
   ]
  },
  {
   "cell_type": "code",
   "execution_count": 154,
   "metadata": {},
   "outputs": [],
   "source": [
    "# Scale data\n",
    "scaler = MinMaxScaler()\n",
    "X_train = scaler.fit_transform(X_train)\n",
    "X_test = scaler.transform(X_test)\n",
    "y_train = scaler.fit_transform(y_train)\n",
    "y_test = scaler.transform(y_test)"
   ]
  },
  {
   "cell_type": "code",
   "execution_count": 155,
   "metadata": {},
   "outputs": [],
   "source": [
    "# Initialize the graph\n",
    "graph = tf.Session()"
   ]
  },
  {
   "cell_type": "code",
   "execution_count": 156,
   "metadata": {},
   "outputs": [],
   "source": [
    "# Placeholder\n",
    "X = tf.placeholder(dtype=tf.float32, shape=[None, 4])\n",
    "Y = tf.placeholder(dtype=tf.float32, shape=[None,1])"
   ]
  },
  {
   "cell_type": "code",
   "execution_count": 157,
   "metadata": {},
   "outputs": [],
   "source": [
    "# Initializers\n",
    "sigma = 1\n",
    "weight_initializer = tf.variance_scaling_initializer(mode=\"fan_avg\", distribution=\"uniform\", scale=sigma)\n",
    "bias_initializer = tf.zeros_initializer()"
   ]
  },
  {
   "cell_type": "code",
   "execution_count": 206,
   "metadata": {},
   "outputs": [],
   "source": [
    "# Model architecture parameters\n",
    "n_stocks = 4 # Nb of columns\n",
    "n_neurons_1 = 2048\n",
    "n_neurons_2 = 1024\n",
    "n_neurons_3 = 512\n",
    "n_neurons_4 = 256\n",
    "n_neurons_5 = 128\n",
    "n_target = 1\n",
    "\n",
    "# Layer 1: Variables for hidden weights and biases\n",
    "W_hidden_1 = tf.Variable(weight_initializer([n_stocks, n_neurons_1]))\n",
    "bias_hidden_1 = tf.Variable(bias_initializer([n_neurons_1]))\n",
    "# Layer 2: Variables for hidden weights and biases\n",
    "W_hidden_2 = tf.Variable(weight_initializer([n_neurons_1, n_neurons_2]))\n",
    "bias_hidden_2 = tf.Variable(bias_initializer([n_neurons_2]))\n",
    "# Layer 3: Variables for hidden weights and biases\n",
    "W_hidden_3 = tf.Variable(weight_initializer([n_neurons_2, n_neurons_3]))\n",
    "bias_hidden_3 = tf.Variable(bias_initializer([n_neurons_3]))\n",
    "# Layer 4: Variables for hidden weights and biases\n",
    "W_hidden_4 = tf.Variable(weight_initializer([n_neurons_3, n_neurons_4]))\n",
    "bias_hidden_4 = tf.Variable(bias_initializer([n_neurons_4]))\n",
    "# Layer 5: Variables for hidden weights and biases\n",
    "W_hidden_5 = tf.Variable(weight_initializer([n_neurons_4, n_neurons_5]))\n",
    "bias_hidden_5 = tf.Variable(bias_initializer([n_neurons_5]))\n",
    "\n",
    "# Output layer: Variables for output weights and biases\n",
    "W_out = tf.Variable(weight_initializer([n_neurons_5, n_target]))\n",
    "bias_out = tf.Variable(bias_initializer([n_target]))"
   ]
  },
  {
   "cell_type": "code",
   "execution_count": 207,
   "metadata": {},
   "outputs": [],
   "source": [
    "# Hidden layer\n",
    "hidden_1 = tf.nn.relu(tf.add(tf.matmul(X, W_hidden_1), bias_hidden_1))\n",
    "hidden_2 = tf.nn.relu(tf.add(tf.matmul(hidden_1, W_hidden_2), bias_hidden_2))\n",
    "hidden_3 = tf.nn.relu(tf.add(tf.matmul(hidden_2, W_hidden_3), bias_hidden_3))\n",
    "hidden_4 = tf.nn.relu(tf.add(tf.matmul(hidden_3, W_hidden_4), bias_hidden_4))\n",
    "hidden_5 = tf.nn.relu(tf.add(tf.matmul(hidden_4, W_hidden_5), bias_hidden_5))\n",
    "\n",
    "# Output layer (must be transposed)\n",
    "out = tf.transpose(tf.add(tf.matmul(hidden_5, W_out), bias_out))"
   ]
  },
  {
   "cell_type": "code",
   "execution_count": 208,
   "metadata": {},
   "outputs": [],
   "source": [
    "# Cost function\n",
    "mse = tf.reduce_mean(tf.squared_difference(out, Y))"
   ]
  },
  {
   "cell_type": "code",
   "execution_count": 209,
   "metadata": {},
   "outputs": [],
   "source": [
    "# Optimizer\n",
    "opt = tf.train.AdamOptimizer().minimize(mse)"
   ]
  },
  {
   "cell_type": "code",
   "execution_count": 233,
   "metadata": {},
   "outputs": [
    {
     "name": "stderr",
     "output_type": "stream",
     "text": [
      "No handles with labels found to put in legend.\n"
     ]
    },
    {
     "data": {
      "image/png": "[encoded data removed]",
      "text/plain": [
       "<Figure size 1152x432 with 1 Axes>"
      ]
     },
     "metadata": {},
     "output_type": "display_data"
    }
   ],
   "source": [
    "# Make Session\n",
    "net = tf.Session()\n",
    "# Run initializer\n",
    "net.run(tf.global_variables_initializer())\n",
    "\n",
    "# Setup interactive plot\n",
    "plt.ion()\n",
    "fig = plt.figure(figsize=(16,6))\n",
    "ax1 = fig.add_subplot(111)\n",
    "line1, = ax1.plot(y_test)\n",
    "line2, = ax1.plot(y_test*0.5)\n",
    "plt.legend()\n",
    "#plt.show()\n",
    "\n",
    "# Number of epochs and batch size\n",
    "epochs = 200\n",
    "batch_size = 745\n",
    "\n",
    "for e in range(epochs):\n",
    "\n",
    "    # Shuffle training data\n",
    "    shuffle_indices = np.random.permutation(np.arange(len(y_train)))\n",
    "    X_train = X_train[shuffle_indices]\n",
    "    y_train = y_train[shuffle_indices]\n",
    "\n",
    "    # Minibatch training\n",
    "    for i in range(0, len(y_train) // batch_size):\n",
    "        start = i * batch_size\n",
    "        batch_x = X_train[start:start + batch_size]\n",
    "        batch_y = y_train[start:start + batch_size]\n",
    "        # Run optimizer with batch\n",
    "        net.run(opt, feed_dict={X: batch_x, Y: batch_y})\n",
    "\n",
    "        # Show progress\n",
    "        if np.mod(i, 5) == 0:\n",
    "            # Prediction\n",
    "            pred = net.run(out, feed_dict={X: X_test})\n",
    "            line2.set_ydata(pred)\n",
    "            plt.title('Epoch ' + str(e) + ', Batch ' + str(i))\n",
    "            #file_name = 'img/epoch_' + str(e) + '_batch_' + str(i) + '.jpg'\n",
    "            #plt.savefig(file_name)\n",
    "            plt.pause(0.01)\n",
    "# Print final MSE after Training"
   ]
  },
  {
   "cell_type": "code",
   "execution_count": 234,
   "metadata": {},
   "outputs": [],
   "source": [
    "mse_final = net.run(mse, feed_dict={X: X_test, Y: y_test})"
   ]
  },
  {
   "cell_type": "code",
   "execution_count": 235,
   "metadata": {},
   "outputs": [
    {
     "name": "stdout",
     "output_type": "stream",
     "text": [
      "74.1220772266388 %\n"
     ]
    }
   ],
   "source": [
    "print(mse_final*100,'%')"
   ]
  },
  {
   "cell_type": "code",
   "execution_count": 229,
   "metadata": {},
   "outputs": [
    {
     "data": {
      "text/plain": [
       "<tf.Tensor 'Mean_4:0' shape=() dtype=float32>"
      ]
     },
     "execution_count": 229,
     "metadata": {},
     "output_type": "execute_result"
    }
   ],
   "source": [
    "mse"
   ]
  },
  {
   "cell_type": "code",
   "execution_count": null,
   "metadata": {},
   "outputs": [],
   "source": []
  },
  {
   "cell_type": "code",
   "execution_count": null,
   "metadata": {},
   "outputs": [],
   "source": []
  }
 ],
 "metadata": {
  "kernelspec": {
   "display_name": "Python 3",
   "language": "python",
   "name": "python3"
  },
  "language_info": {
   "codemirror_mode": {
    "name": "ipython",
    "version": 3
   },
   "file_extension": ".py",
   "mimetype": "text/x-python",
   "name": "python",
   "nbconvert_exporter": "python",
   "pygments_lexer": "ipython3",
   "version": "3.6.8"
  }
 },
 "nbformat": 4,
 "nbformat_minor": 2
}
