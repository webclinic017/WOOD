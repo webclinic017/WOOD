{
 "cells": [
  {
   "cell_type": "code",
   "execution_count": 28,
   "metadata": {},
   "outputs": [],
   "source": [
    "___Author___='LumberJack Jyss'"
   ]
  },
  {
   "cell_type": "markdown",
   "metadata": {},
   "source": [
    "https://www.quantinsti.com/blog/random-forest-algorithm-in-python"
   ]
  },
  {
   "cell_type": "code",
   "execution_count": 29,
   "metadata": {},
   "outputs": [],
   "source": [
    "import numpy as np\n",
    "from sklearn.ensemble import RandomForestClassifier\n",
    "import matplotlib.pyplot as plt\n",
    "import matplotlib.cm as cm\n",
    "%matplotlib inline\n",
    "import seaborn as sns\n",
    "sns.set(palette='bright',style='whitegrid')\n",
    "import numpy as np\n",
    "import pandas as pd\n",
    "import quandl\n",
    "import pandas_datareader as web\n",
    "from statsmodels.tsa.stattools import coint\n",
    "import statsmodels\n",
    "from statsmodels.tsa.stattools import adfuller\n",
    "import itertools\n",
    "import scipy\n",
    "from scipy import stats\n",
    "import time\n",
    "from matplotlib.backends.backend_pdf import PdfPages"
   ]
  },
  {
   "cell_type": "code",
   "execution_count": 30,
   "metadata": {},
   "outputs": [],
   "source": [
    "start = pd.to_datetime('2010-01-19')\n",
    "end = pd.to_datetime('2019-03-19')"
   ]
  },
  {
   "cell_type": "code",
   "execution_count": 31,
   "metadata": {},
   "outputs": [
    {
     "data": {
      "text/html": [
       "<div>\n",
       "<style scoped>\n",
       "    .dataframe tbody tr th:only-of-type {\n",
       "        vertical-align: middle;\n",
       "    }\n",
       "\n",
       "    .dataframe tbody tr th {\n",
       "        vertical-align: top;\n",
       "    }\n",
       "\n",
       "    .dataframe thead th {\n",
       "        text-align: right;\n",
       "    }\n",
       "</style>\n",
       "<table border=\"1\" class=\"dataframe\">\n",
       "  <thead>\n",
       "    <tr style=\"text-align: right;\">\n",
       "      <th></th>\n",
       "      <th>High</th>\n",
       "      <th>Low</th>\n",
       "      <th>Open</th>\n",
       "      <th>Close</th>\n",
       "      <th>Volume</th>\n",
       "      <th>Adj Close</th>\n",
       "    </tr>\n",
       "    <tr>\n",
       "      <th>Date</th>\n",
       "      <th></th>\n",
       "      <th></th>\n",
       "      <th></th>\n",
       "      <th></th>\n",
       "      <th></th>\n",
       "      <th></th>\n",
       "    </tr>\n",
       "  </thead>\n",
       "  <tbody>\n",
       "    <tr>\n",
       "      <th>2019-03-13</th>\n",
       "      <td>183.300003</td>\n",
       "      <td>180.919998</td>\n",
       "      <td>182.250000</td>\n",
       "      <td>181.710007</td>\n",
       "      <td>31032500.0</td>\n",
       "      <td>181.710007</td>\n",
       "    </tr>\n",
       "    <tr>\n",
       "      <th>2019-03-14</th>\n",
       "      <td>184.100006</td>\n",
       "      <td>182.559998</td>\n",
       "      <td>183.899994</td>\n",
       "      <td>183.729996</td>\n",
       "      <td>23579500.0</td>\n",
       "      <td>183.729996</td>\n",
       "    </tr>\n",
       "    <tr>\n",
       "      <th>2019-03-15</th>\n",
       "      <td>187.330002</td>\n",
       "      <td>183.740005</td>\n",
       "      <td>184.850006</td>\n",
       "      <td>186.119995</td>\n",
       "      <td>39042900.0</td>\n",
       "      <td>186.119995</td>\n",
       "    </tr>\n",
       "    <tr>\n",
       "      <th>2019-03-18</th>\n",
       "      <td>188.389999</td>\n",
       "      <td>185.789993</td>\n",
       "      <td>185.800003</td>\n",
       "      <td>188.020004</td>\n",
       "      <td>26219800.0</td>\n",
       "      <td>188.020004</td>\n",
       "    </tr>\n",
       "    <tr>\n",
       "      <th>2019-03-19</th>\n",
       "      <td>188.990005</td>\n",
       "      <td>185.919998</td>\n",
       "      <td>188.350006</td>\n",
       "      <td>186.529999</td>\n",
       "      <td>31646400.0</td>\n",
       "      <td>186.529999</td>\n",
       "    </tr>\n",
       "  </tbody>\n",
       "</table>\n",
       "</div>"
      ],
      "text/plain": [
       "                  High         Low        Open       Close      Volume  \\\n",
       "Date                                                                     \n",
       "2019-03-13  183.300003  180.919998  182.250000  181.710007  31032500.0   \n",
       "2019-03-14  184.100006  182.559998  183.899994  183.729996  23579500.0   \n",
       "2019-03-15  187.330002  183.740005  184.850006  186.119995  39042900.0   \n",
       "2019-03-18  188.389999  185.789993  185.800003  188.020004  26219800.0   \n",
       "2019-03-19  188.990005  185.919998  188.350006  186.529999  31646400.0   \n",
       "\n",
       "             Adj Close  \n",
       "Date                    \n",
       "2019-03-13  181.710007  \n",
       "2019-03-14  183.729996  \n",
       "2019-03-15  186.119995  \n",
       "2019-03-18  188.020004  \n",
       "2019-03-19  186.529999  "
      ]
     },
     "execution_count": 31,
     "metadata": {},
     "output_type": "execute_result"
    }
   ],
   "source": [
    "data = web.DataReader('AAPL','yahoo',start,end)\n",
    "data.tail()"
   ]
  },
  {
   "cell_type": "code",
   "execution_count": 32,
   "metadata": {},
   "outputs": [],
   "source": [
    "#ppi = web.DataReader('PPI','yahoo',start,end)\n",
    "#ppi.tail()"
   ]
  },
  {
   "cell_type": "code",
   "execution_count": 33,
   "metadata": {},
   "outputs": [
    {
     "data": {
      "text/html": [
       "<div>\n",
       "<style scoped>\n",
       "    .dataframe tbody tr th:only-of-type {\n",
       "        vertical-align: middle;\n",
       "    }\n",
       "\n",
       "    .dataframe tbody tr th {\n",
       "        vertical-align: top;\n",
       "    }\n",
       "\n",
       "    .dataframe thead th {\n",
       "        text-align: right;\n",
       "    }\n",
       "</style>\n",
       "<table border=\"1\" class=\"dataframe\">\n",
       "  <thead>\n",
       "    <tr style=\"text-align: right;\">\n",
       "      <th></th>\n",
       "      <th>High</th>\n",
       "      <th>Low</th>\n",
       "      <th>Open</th>\n",
       "      <th>Close</th>\n",
       "      <th>Volume</th>\n",
       "      <th>Adj Close</th>\n",
       "    </tr>\n",
       "    <tr>\n",
       "      <th>Date</th>\n",
       "      <th></th>\n",
       "      <th></th>\n",
       "      <th></th>\n",
       "      <th></th>\n",
       "      <th></th>\n",
       "      <th></th>\n",
       "    </tr>\n",
       "  </thead>\n",
       "  <tbody>\n",
       "    <tr>\n",
       "      <th>2019-03-13</th>\n",
       "      <td>27.520000</td>\n",
       "      <td>27.480000</td>\n",
       "      <td>27.490000</td>\n",
       "      <td>27.520000</td>\n",
       "      <td>5400.0</td>\n",
       "      <td>27.520000</td>\n",
       "    </tr>\n",
       "    <tr>\n",
       "      <th>2019-03-14</th>\n",
       "      <td>27.530001</td>\n",
       "      <td>27.530001</td>\n",
       "      <td>27.530001</td>\n",
       "      <td>27.530001</td>\n",
       "      <td>100.0</td>\n",
       "      <td>27.530001</td>\n",
       "    </tr>\n",
       "    <tr>\n",
       "      <th>2019-03-15</th>\n",
       "      <td>27.520000</td>\n",
       "      <td>27.520000</td>\n",
       "      <td>27.520000</td>\n",
       "      <td>27.520000</td>\n",
       "      <td>0.0</td>\n",
       "      <td>27.520000</td>\n",
       "    </tr>\n",
       "    <tr>\n",
       "      <th>2019-03-18</th>\n",
       "      <td>27.559999</td>\n",
       "      <td>27.530001</td>\n",
       "      <td>27.540001</td>\n",
       "      <td>27.559999</td>\n",
       "      <td>3000.0</td>\n",
       "      <td>27.559999</td>\n",
       "    </tr>\n",
       "    <tr>\n",
       "      <th>2019-03-19</th>\n",
       "      <td>27.580000</td>\n",
       "      <td>27.570000</td>\n",
       "      <td>27.580000</td>\n",
       "      <td>27.570000</td>\n",
       "      <td>600.0</td>\n",
       "      <td>27.570000</td>\n",
       "    </tr>\n",
       "  </tbody>\n",
       "</table>\n",
       "</div>"
      ],
      "text/plain": [
       "                 High        Low       Open      Close  Volume  Adj Close\n",
       "Date                                                                     \n",
       "2019-03-13  27.520000  27.480000  27.490000  27.520000  5400.0  27.520000\n",
       "2019-03-14  27.530001  27.530001  27.530001  27.530001   100.0  27.530001\n",
       "2019-03-15  27.520000  27.520000  27.520000  27.520000     0.0  27.520000\n",
       "2019-03-18  27.559999  27.530001  27.540001  27.559999  3000.0  27.559999\n",
       "2019-03-19  27.580000  27.570000  27.580000  27.570000   600.0  27.570000"
      ]
     },
     "execution_count": 33,
     "metadata": {},
     "output_type": "execute_result"
    }
   ],
   "source": [
    "cpi = web.DataReader('CPI','yahoo',start,end)\n",
    "cpi.tail()\n",
    "#payroll = web.DataReader('payroll','yahoo',start,end)"
   ]
  },
  {
   "cell_type": "code",
   "execution_count": 34,
   "metadata": {},
   "outputs": [
    {
     "data": {
      "text/html": [
       "<div>\n",
       "<style scoped>\n",
       "    .dataframe tbody tr th:only-of-type {\n",
       "        vertical-align: middle;\n",
       "    }\n",
       "\n",
       "    .dataframe tbody tr th {\n",
       "        vertical-align: top;\n",
       "    }\n",
       "\n",
       "    .dataframe thead th {\n",
       "        text-align: right;\n",
       "    }\n",
       "</style>\n",
       "<table border=\"1\" class=\"dataframe\">\n",
       "  <thead>\n",
       "    <tr style=\"text-align: right;\">\n",
       "      <th></th>\n",
       "      <th>High</th>\n",
       "      <th>Low</th>\n",
       "      <th>Open</th>\n",
       "      <th>Close</th>\n",
       "      <th>Volume</th>\n",
       "      <th>Adj Close</th>\n",
       "    </tr>\n",
       "    <tr>\n",
       "      <th>Date</th>\n",
       "      <th></th>\n",
       "      <th></th>\n",
       "      <th></th>\n",
       "      <th></th>\n",
       "      <th></th>\n",
       "      <th></th>\n",
       "    </tr>\n",
       "  </thead>\n",
       "  <tbody>\n",
       "    <tr>\n",
       "      <th>2016-03-31</th>\n",
       "      <td>10.00</td>\n",
       "      <td>10.00</td>\n",
       "      <td>10.00</td>\n",
       "      <td>10.00</td>\n",
       "      <td>0.0</td>\n",
       "      <td>8.275249</td>\n",
       "    </tr>\n",
       "    <tr>\n",
       "      <th>2016-04-01</th>\n",
       "      <td>10.04</td>\n",
       "      <td>10.04</td>\n",
       "      <td>10.04</td>\n",
       "      <td>10.04</td>\n",
       "      <td>0.0</td>\n",
       "      <td>8.308350</td>\n",
       "    </tr>\n",
       "    <tr>\n",
       "      <th>2016-04-05</th>\n",
       "      <td>9.88</td>\n",
       "      <td>9.88</td>\n",
       "      <td>9.88</td>\n",
       "      <td>9.88</td>\n",
       "      <td>0.0</td>\n",
       "      <td>8.175945</td>\n",
       "    </tr>\n",
       "    <tr>\n",
       "      <th>2016-04-06</th>\n",
       "      <td>9.93</td>\n",
       "      <td>9.93</td>\n",
       "      <td>9.93</td>\n",
       "      <td>9.93</td>\n",
       "      <td>0.0</td>\n",
       "      <td>8.217321</td>\n",
       "    </tr>\n",
       "    <tr>\n",
       "      <th>2016-04-07</th>\n",
       "      <td>9.83</td>\n",
       "      <td>9.83</td>\n",
       "      <td>9.83</td>\n",
       "      <td>9.83</td>\n",
       "      <td>0.0</td>\n",
       "      <td>8.134570</td>\n",
       "    </tr>\n",
       "  </tbody>\n",
       "</table>\n",
       "</div>"
      ],
      "text/plain": [
       "             High    Low   Open  Close  Volume  Adj Close\n",
       "Date                                                     \n",
       "2016-03-31  10.00  10.00  10.00  10.00     0.0   8.275249\n",
       "2016-04-01  10.04  10.04  10.04  10.04     0.0   8.308350\n",
       "2016-04-05   9.88   9.88   9.88   9.88     0.0   8.175945\n",
       "2016-04-06   9.93   9.93   9.93   9.93     0.0   8.217321\n",
       "2016-04-07   9.83   9.83   9.83   9.83     0.0   8.134570"
      ]
     },
     "execution_count": 34,
     "metadata": {},
     "output_type": "execute_result"
    }
   ],
   "source": [
    "pmi = web.DataReader('PMIDX','yahoo',start,end)\n",
    "pmi.head()"
   ]
  },
  {
   "cell_type": "code",
   "execution_count": 35,
   "metadata": {},
   "outputs": [
    {
     "data": {
      "text/html": [
       "<div>\n",
       "<style scoped>\n",
       "    .dataframe tbody tr th:only-of-type {\n",
       "        vertical-align: middle;\n",
       "    }\n",
       "\n",
       "    .dataframe tbody tr th {\n",
       "        vertical-align: top;\n",
       "    }\n",
       "\n",
       "    .dataframe thead th {\n",
       "        text-align: right;\n",
       "    }\n",
       "</style>\n",
       "<table border=\"1\" class=\"dataframe\">\n",
       "  <thead>\n",
       "    <tr style=\"text-align: right;\">\n",
       "      <th></th>\n",
       "      <th>High</th>\n",
       "      <th>Low</th>\n",
       "      <th>Open</th>\n",
       "      <th>Close</th>\n",
       "      <th>Volume</th>\n",
       "      <th>Adj Close</th>\n",
       "    </tr>\n",
       "    <tr>\n",
       "      <th>Date</th>\n",
       "      <th></th>\n",
       "      <th></th>\n",
       "      <th></th>\n",
       "      <th></th>\n",
       "      <th></th>\n",
       "      <th></th>\n",
       "    </tr>\n",
       "  </thead>\n",
       "  <tbody>\n",
       "    <tr>\n",
       "      <th>2019-03-13</th>\n",
       "      <td>121.959999</td>\n",
       "      <td>121.620003</td>\n",
       "      <td>121.660004</td>\n",
       "      <td>121.830002</td>\n",
       "      <td>4386300.0</td>\n",
       "      <td>121.830002</td>\n",
       "    </tr>\n",
       "    <tr>\n",
       "      <th>2019-03-14</th>\n",
       "      <td>121.760002</td>\n",
       "      <td>120.919998</td>\n",
       "      <td>121.690002</td>\n",
       "      <td>120.949997</td>\n",
       "      <td>8188400.0</td>\n",
       "      <td>120.949997</td>\n",
       "    </tr>\n",
       "    <tr>\n",
       "      <th>2019-03-15</th>\n",
       "      <td>121.949997</td>\n",
       "      <td>121.400002</td>\n",
       "      <td>121.739998</td>\n",
       "      <td>121.750000</td>\n",
       "      <td>4302000.0</td>\n",
       "      <td>121.750000</td>\n",
       "    </tr>\n",
       "    <tr>\n",
       "      <th>2019-03-18</th>\n",
       "      <td>121.870003</td>\n",
       "      <td>121.519997</td>\n",
       "      <td>121.570000</td>\n",
       "      <td>121.680000</td>\n",
       "      <td>3893300.0</td>\n",
       "      <td>121.680000</td>\n",
       "    </tr>\n",
       "    <tr>\n",
       "      <th>2019-03-19</th>\n",
       "      <td>121.620003</td>\n",
       "      <td>120.889999</td>\n",
       "      <td>121.089996</td>\n",
       "      <td>121.410004</td>\n",
       "      <td>5220200.0</td>\n",
       "      <td>121.410004</td>\n",
       "    </tr>\n",
       "  </tbody>\n",
       "</table>\n",
       "</div>"
      ],
      "text/plain": [
       "                  High         Low        Open       Close     Volume  \\\n",
       "Date                                                                    \n",
       "2019-03-13  121.959999  121.620003  121.660004  121.830002  4386300.0   \n",
       "2019-03-14  121.760002  120.919998  121.690002  120.949997  8188400.0   \n",
       "2019-03-15  121.949997  121.400002  121.739998  121.750000  4302000.0   \n",
       "2019-03-18  121.870003  121.519997  121.570000  121.680000  3893300.0   \n",
       "2019-03-19  121.620003  120.889999  121.089996  121.410004  5220200.0   \n",
       "\n",
       "             Adj Close  \n",
       "Date                    \n",
       "2019-03-13  121.830002  \n",
       "2019-03-14  120.949997  \n",
       "2019-03-15  121.750000  \n",
       "2019-03-18  121.680000  \n",
       "2019-03-19  121.410004  "
      ]
     },
     "execution_count": 35,
     "metadata": {},
     "output_type": "execute_result"
    }
   ],
   "source": [
    "tlt = web.DataReader('TLT','yahoo',start,end)\n",
    "tlt.tail()"
   ]
  },
  {
   "cell_type": "code",
   "execution_count": 36,
   "metadata": {},
   "outputs": [
    {
     "data": {
      "text/html": [
       "<div>\n",
       "<style scoped>\n",
       "    .dataframe tbody tr th:only-of-type {\n",
       "        vertical-align: middle;\n",
       "    }\n",
       "\n",
       "    .dataframe tbody tr th {\n",
       "        vertical-align: top;\n",
       "    }\n",
       "\n",
       "    .dataframe thead th {\n",
       "        text-align: right;\n",
       "    }\n",
       "</style>\n",
       "<table border=\"1\" class=\"dataframe\">\n",
       "  <thead>\n",
       "    <tr style=\"text-align: right;\">\n",
       "      <th></th>\n",
       "      <th>High</th>\n",
       "      <th>Low</th>\n",
       "      <th>Open</th>\n",
       "      <th>Close</th>\n",
       "      <th>Volume</th>\n",
       "      <th>Adj Close</th>\n",
       "    </tr>\n",
       "    <tr>\n",
       "      <th>Date</th>\n",
       "      <th></th>\n",
       "      <th></th>\n",
       "      <th></th>\n",
       "      <th></th>\n",
       "      <th></th>\n",
       "      <th></th>\n",
       "    </tr>\n",
       "  </thead>\n",
       "  <tbody>\n",
       "    <tr>\n",
       "      <th>2010-01-19</th>\n",
       "      <td>17.900000</td>\n",
       "      <td>17.510000</td>\n",
       "      <td>17.870001</td>\n",
       "      <td>17.700001</td>\n",
       "      <td>49149.0</td>\n",
       "      <td>17.700001</td>\n",
       "    </tr>\n",
       "    <tr>\n",
       "      <th>2010-01-20</th>\n",
       "      <td>17.879999</td>\n",
       "      <td>17.500000</td>\n",
       "      <td>17.879999</td>\n",
       "      <td>17.740000</td>\n",
       "      <td>27227.0</td>\n",
       "      <td>17.740000</td>\n",
       "    </tr>\n",
       "    <tr>\n",
       "      <th>2010-01-21</th>\n",
       "      <td>17.750000</td>\n",
       "      <td>17.549999</td>\n",
       "      <td>17.600000</td>\n",
       "      <td>17.690001</td>\n",
       "      <td>39291.0</td>\n",
       "      <td>17.690001</td>\n",
       "    </tr>\n",
       "    <tr>\n",
       "      <th>2010-01-22</th>\n",
       "      <td>17.650000</td>\n",
       "      <td>17.330000</td>\n",
       "      <td>17.500000</td>\n",
       "      <td>17.500000</td>\n",
       "      <td>109623.0</td>\n",
       "      <td>17.500000</td>\n",
       "    </tr>\n",
       "    <tr>\n",
       "      <th>2010-01-25</th>\n",
       "      <td>17.450001</td>\n",
       "      <td>17.049999</td>\n",
       "      <td>17.290001</td>\n",
       "      <td>17.370001</td>\n",
       "      <td>43965.0</td>\n",
       "      <td>17.370001</td>\n",
       "    </tr>\n",
       "  </tbody>\n",
       "</table>\n",
       "</div>"
      ],
      "text/plain": [
       "                 High        Low       Open      Close    Volume  Adj Close\n",
       "Date                                                                       \n",
       "2010-01-19  17.900000  17.510000  17.870001  17.700001   49149.0  17.700001\n",
       "2010-01-20  17.879999  17.500000  17.879999  17.740000   27227.0  17.740000\n",
       "2010-01-21  17.750000  17.549999  17.600000  17.690001   39291.0  17.690001\n",
       "2010-01-22  17.650000  17.330000  17.500000  17.500000  109623.0  17.500000\n",
       "2010-01-25  17.450001  17.049999  17.290001  17.370001   43965.0  17.370001"
      ]
     },
     "execution_count": 36,
     "metadata": {},
     "output_type": "execute_result"
    }
   ],
   "source": [
    "eur = web.DataReader('EUR','yahoo',start,end)\n",
    "eur.head()\n",
    "#callput = web.DataReader('callput','yahoo',start,end)"
   ]
  },
  {
   "cell_type": "code",
   "execution_count": null,
   "metadata": {},
   "outputs": [],
   "source": []
  },
  {
   "cell_type": "markdown",
   "metadata": {},
   "source": [
    "Creating input and output dataset\n",
    "\n",
    "In this step, I will create the input and output variable.\n",
    "\n",
    "Input variable: I have used ‘(Open – Close)/Open’, ‘(High – Low)/Low’, standard deviation of last 5 days returns (std_5), and average of last 5 days returns (ret_5)\n",
    "Output variable: If tomorrow’s close price is greater than today’s close price then the output variable is set to 1 and otherwise set to -1. 1 indicates to buy the stock and -1 indicates to sell the stock.\n",
    "The choice of these features as input and output is completely random."
   ]
  },
  {
   "cell_type": "code",
   "execution_count": 40,
   "metadata": {},
   "outputs": [],
   "source": [
    "# Features construction \n",
    "data['valOpen-Close'] = (data.Open - data.Close)/data.Open\n",
    "data['valHigh-Low'] = (data.High - data.Low)/data.Low\n",
    "data['valpercent_change'] = data['Adj Close'].pct_change()\n",
    "data['valstd_5'] = data['valpercent_change'].rolling(5).std()\n",
    "data['valret_5'] = data['valpercent_change'].rolling(5).mean()\n",
    "data['cpiOpen-Close'] = (cpi.Open - cpi.Close)/cpi.Open\n",
    "data['cpiHigh-Low'] = (cpi.High - cpi.Low)/cpi.Low\n",
    "data['cpipercent_change'] = cpi['Adj Close'].pct_change()\n",
    "data['cpistd_5'] = data['cpipercent_change'].rolling(5).std()\n",
    "data['cpiret_5'] = data['cpipercent_change'].rolling(5).mean()\n",
    "data['pmiOpen-Close'] = (pmi.Open - pmi.Close)/pmi.Open\n",
    "data['pmiHigh-Low'] = (pmi.High - pmi.Low)/pmi.Low\n",
    "data['pmipercent_change'] = pmi['Adj Close'].pct_change()\n",
    "data['pmistd_5'] = data['pmipercent_change'].rolling(5).std()\n",
    "data['pmiret_5'] = data['pmipercent_change'].rolling(5).mean()\n",
    "data['tltOpen-Close'] = (tlt.Open - tlt.Close)/tlt.Open\n",
    "data['tltHigh-Low'] = (tlt.High - tlt.Low)/tlt.Low\n",
    "data['tltpercent_change'] = tlt['Adj Close'].pct_change()\n",
    "data['tltstd_5'] = data['tltpercent_change'].rolling(5).std()\n",
    "data['tltret_5'] = data['tltpercent_change'].rolling(5).mean()\n",
    "data['eurOpen-Close'] = (eur.Open - eur.Close)/eur.Open\n",
    "data['eurHigh-Low'] = (eur.High - eur.Low)/eur.Low\n",
    "data['eurpercent_change'] = eur['Adj Close'].pct_change()\n",
    "data['eurstd_5'] = data['eurpercent_change'].rolling(5).std()\n",
    "data['eurret_5'] = data['eurpercent_change'].rolling(5).mean()\n",
    "data.dropna(inplace=True)\n",
    "# X is the input variable\n",
    "X = data[['valOpen-Close', 'valHigh-Low', 'valstd_5', 'valret_5',\\\n",
    "          'cpiOpen-Close', 'cpiHigh-Low', 'cpistd_5', 'cpiret_5',\\\n",
    "          'pmiOpen-Close', 'pmiHigh-Low', 'pmistd_5', 'pmiret_5',\\\n",
    "          'tltOpen-Close', 'tltHigh-Low', 'tltstd_5', 'tltret_5',\\\n",
    "          'eurOpen-Close', 'eurHigh-Low', 'eurstd_5', 'eurret_5',]]\n",
    "\n",
    "# Y is the target or output variable\n",
    "y = np.where(data['Adj Close'].shift(-1) > data['Adj Close'], 1, -1)"
   ]
  },
  {
   "cell_type": "markdown",
   "metadata": {},
   "source": [
    "Train Test Split\n",
    "\n",
    "We now split the dataset into 75% Training dataset and 25% for Testing dataset."
   ]
  },
  {
   "cell_type": "code",
   "execution_count": 41,
   "metadata": {},
   "outputs": [
    {
     "data": {
      "text/plain": [
       "387"
      ]
     },
     "execution_count": 41,
     "metadata": {},
     "output_type": "execute_result"
    }
   ],
   "source": [
    "# Total dataset length\n",
    "dataset_length = data.shape[0]\n",
    "\n",
    "# Training dataset length\n",
    "split = int(dataset_length * 0.75)\n",
    "split"
   ]
  },
  {
   "cell_type": "code",
   "execution_count": 42,
   "metadata": {},
   "outputs": [
    {
     "name": "stdout",
     "output_type": "stream",
     "text": [
      "(387, 20) (129, 20)\n",
      "(387,) (129,)\n"
     ]
    }
   ],
   "source": [
    "# Splitiing the X and y into train and test datasets\n",
    "X_train, X_test = X[:split], X[split:]\n",
    "y_train, y_test = y[:split], y[split:]\n",
    "\n",
    "# Print the size of the train and test dataset\n",
    "print(X_train.shape, X_test.shape)\n",
    "print(y_train.shape, y_test.shape)"
   ]
  },
  {
   "cell_type": "markdown",
   "metadata": {},
   "source": [
    "Training the machine learning model\n",
    "\n",
    "All set with the data! Let’s train a decision tree classifier model. The RandomForestClassifier function from tree is stored in variable ‘clf’ and then a fit method is called on it with ‘X_train’ and ‘y_train’ dataset as the parameters so that the classifier model can learn the relationship between input and output.\n",
    "\n"
   ]
  },
  {
   "cell_type": "code",
   "execution_count": 43,
   "metadata": {},
   "outputs": [],
   "source": [
    "clf = RandomForestClassifier(random_state=5)"
   ]
  },
  {
   "cell_type": "code",
   "execution_count": 44,
   "metadata": {},
   "outputs": [
    {
     "name": "stderr",
     "output_type": "stream",
     "text": [
      "/Users/YTsBaCh/Applications/anaconda3/envs/env_zipline/lib/python3.6/site-packages/sklearn/ensemble/forest.py:246: FutureWarning: The default value of n_estimators will change from 10 in version 0.20 to 100 in 0.22.\n",
      "  \"10 in version 0.20 to 100 in 0.22.\", FutureWarning)\n"
     ]
    }
   ],
   "source": [
    "# Create the model on train dataset\n",
    "model = clf.fit(X_train, y_train)"
   ]
  },
  {
   "cell_type": "code",
   "execution_count": 45,
   "metadata": {},
   "outputs": [
    {
     "name": "stdout",
     "output_type": "stream",
     "text": [
      "              precision    recall  f1-score   support\n",
      "\n",
      "          -1       0.49      0.58      0.53        60\n",
      "           1       0.57      0.48      0.52        69\n",
      "\n",
      "   micro avg       0.53      0.53      0.53       129\n",
      "   macro avg       0.53      0.53      0.53       129\n",
      "weighted avg       0.53      0.53      0.53       129\n",
      "\n"
     ]
    }
   ],
   "source": [
    "# Run the code to view the classification report metrics\n",
    "from sklearn.metrics import classification_report\n",
    "report = classification_report(y_test, model.predict(X_test))\n",
    "print(report)"
   ]
  },
  {
   "cell_type": "code",
   "execution_count": 47,
   "metadata": {},
   "outputs": [],
   "source": [
    "data['strategy_returns'] = data.valpercent_change.shift(-1) * model.predict(X)"
   ]
  },
  {
   "cell_type": "code",
   "execution_count": 48,
   "metadata": {},
   "outputs": [
    {
     "data": {
      "image/png": "[encoded data removed]",
      "text/plain": [
       "<Figure size 864x432 with 1 Axes>"
      ]
     },
     "metadata": {},
     "output_type": "display_data"
    }
   ],
   "source": [
    "data.strategy_returns[split:].hist(figsize=(12,6))\n",
    "plt.xlabel('Strategy returns (%)')\n",
    "plt.show()"
   ]
  },
  {
   "cell_type": "markdown",
   "metadata": {},
   "source": [
    "### Strategy Returns"
   ]
  },
  {
   "cell_type": "code",
   "execution_count": 49,
   "metadata": {},
   "outputs": [
    {
     "data": {
      "image/png": "[encoded data removed]",
      "text/plain": [
       "<Figure size 1152x432 with 1 Axes>"
      ]
     },
     "metadata": {},
     "output_type": "display_data"
    }
   ],
   "source": [
    "(data.strategy_returns[split:]+1).cumprod().plot(figsize=(16,6))\n",
    "plt.ylabel('Strategy returns (%)')\n",
    "plt.show()"
   ]
  },
  {
   "cell_type": "markdown",
   "metadata": {},
   "source": [
    "The output displays the strategy returns and daily returns according to the code for the Random Forest Classifier.\n",
    "\n",
    "Advantages\n",
    "Avoids Overfitting\n",
    "Can be used for both Classification and Regression\n",
    "Can handle missing values\n",
    "Disadvantages\n",
    "Large number of trees can take up space and reduce time.\n",
    "In this blog, we learnt the functioning of the Random Forest Algorithm with the help of an example, along with the Python code to implement this strategy."
   ]
  },
  {
   "cell_type": "code",
   "execution_count": null,
   "metadata": {},
   "outputs": [],
   "source": []
  }
 ],
 "metadata": {
  "kernelspec": {
   "display_name": "Python 3",
   "language": "python",
   "name": "python3"
  },
  "language_info": {
   "codemirror_mode": {
    "name": "ipython",
    "version": 3
   },
   "file_extension": ".py",
   "mimetype": "text/x-python",
   "name": "python",
   "nbconvert_exporter": "python",
   "pygments_lexer": "ipython3",
   "version": "3.6.8"
  }
 },
 "nbformat": 4,
 "nbformat_minor": 2
}
