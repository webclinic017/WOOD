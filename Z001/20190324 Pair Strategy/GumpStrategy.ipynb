{
 "cells": [
  {
   "cell_type": "code",
   "execution_count": 1,
   "metadata": {},
   "outputs": [],
   "source": [
    "___Author___='LumberJack Jyss'"
   ]
  },
  {
   "cell_type": "markdown",
   "metadata": {},
   "source": [
    "https://www.quantinsti.com/blog/random-forest-algorithm-in-python"
   ]
  },
  {
   "cell_type": "code",
   "execution_count": 1,
   "metadata": {},
   "outputs": [],
   "source": [
    "import numpy as np\n",
    "from sklearn.ensemble import RandomForestClassifier\n",
    "import matplotlib.pyplot as plt\n",
    "import matplotlib.cm as cm\n",
    "%matplotlib inline\n",
    "import seaborn as sns\n",
    "sns.set(palette='bright',style='whitegrid')\n",
    "import numpy as np\n",
    "import pandas as pd\n",
    "import quandl\n",
    "import pandas_datareader as web\n",
    "from statsmodels.tsa.stattools import coint\n",
    "import statsmodels\n",
    "from statsmodels.tsa.stattools import adfuller\n",
    "import itertools\n",
    "import scipy\n",
    "from scipy import stats\n",
    "import time\n",
    "from matplotlib.backends.backend_pdf import PdfPages"
   ]
  },
  {
   "cell_type": "code",
   "execution_count": 2,
   "metadata": {},
   "outputs": [],
   "source": [
    "start = pd.to_datetime('2010-01-19')\n",
    "end = pd.to_datetime('2019-03-19')"
   ]
  },
  {
   "cell_type": "code",
   "execution_count": 3,
   "metadata": {},
   "outputs": [],
   "source": [
    "data = web.DataReader('BAC','yahoo',start,end)"
   ]
  },
  {
   "cell_type": "code",
   "execution_count": 4,
   "metadata": {},
   "outputs": [
    {
     "data": {
      "text/html": [
       "<div>\n",
       "<style scoped>\n",
       "    .dataframe tbody tr th:only-of-type {\n",
       "        vertical-align: middle;\n",
       "    }\n",
       "\n",
       "    .dataframe tbody tr th {\n",
       "        vertical-align: top;\n",
       "    }\n",
       "\n",
       "    .dataframe thead th {\n",
       "        text-align: right;\n",
       "    }\n",
       "</style>\n",
       "<table border=\"1\" class=\"dataframe\">\n",
       "  <thead>\n",
       "    <tr style=\"text-align: right;\">\n",
       "      <th></th>\n",
       "      <th>High</th>\n",
       "      <th>Low</th>\n",
       "      <th>Open</th>\n",
       "      <th>Close</th>\n",
       "      <th>Volume</th>\n",
       "      <th>Adj Close</th>\n",
       "    </tr>\n",
       "    <tr>\n",
       "      <th>Date</th>\n",
       "      <th></th>\n",
       "      <th></th>\n",
       "      <th></th>\n",
       "      <th></th>\n",
       "      <th></th>\n",
       "      <th></th>\n",
       "    </tr>\n",
       "  </thead>\n",
       "  <tbody>\n",
       "    <tr>\n",
       "      <th>2019-03-13</th>\n",
       "      <td>29.510000</td>\n",
       "      <td>28.980000</td>\n",
       "      <td>29.049999</td>\n",
       "      <td>29.290001</td>\n",
       "      <td>54683300.0</td>\n",
       "      <td>29.290001</td>\n",
       "    </tr>\n",
       "    <tr>\n",
       "      <th>2019-03-14</th>\n",
       "      <td>29.639999</td>\n",
       "      <td>29.240000</td>\n",
       "      <td>29.309999</td>\n",
       "      <td>29.459999</td>\n",
       "      <td>45219100.0</td>\n",
       "      <td>29.459999</td>\n",
       "    </tr>\n",
       "    <tr>\n",
       "      <th>2019-03-15</th>\n",
       "      <td>29.610001</td>\n",
       "      <td>29.260000</td>\n",
       "      <td>29.440001</td>\n",
       "      <td>29.299999</td>\n",
       "      <td>82346200.0</td>\n",
       "      <td>29.299999</td>\n",
       "    </tr>\n",
       "    <tr>\n",
       "      <th>2019-03-18</th>\n",
       "      <td>29.959999</td>\n",
       "      <td>29.330000</td>\n",
       "      <td>29.379999</td>\n",
       "      <td>29.820000</td>\n",
       "      <td>58568600.0</td>\n",
       "      <td>29.820000</td>\n",
       "    </tr>\n",
       "    <tr>\n",
       "      <th>2019-03-19</th>\n",
       "      <td>30.139999</td>\n",
       "      <td>29.540001</td>\n",
       "      <td>30.010000</td>\n",
       "      <td>29.650000</td>\n",
       "      <td>55455100.0</td>\n",
       "      <td>29.650000</td>\n",
       "    </tr>\n",
       "  </tbody>\n",
       "</table>\n",
       "</div>"
      ],
      "text/plain": [
       "                 High        Low       Open      Close      Volume  Adj Close\n",
       "Date                                                                         \n",
       "2019-03-13  29.510000  28.980000  29.049999  29.290001  54683300.0  29.290001\n",
       "2019-03-14  29.639999  29.240000  29.309999  29.459999  45219100.0  29.459999\n",
       "2019-03-15  29.610001  29.260000  29.440001  29.299999  82346200.0  29.299999\n",
       "2019-03-18  29.959999  29.330000  29.379999  29.820000  58568600.0  29.820000\n",
       "2019-03-19  30.139999  29.540001  30.010000  29.650000  55455100.0  29.650000"
      ]
     },
     "execution_count": 4,
     "metadata": {},
     "output_type": "execute_result"
    }
   ],
   "source": [
    "data.tail()"
   ]
  },
  {
   "cell_type": "markdown",
   "metadata": {},
   "source": [
    "Creating input and output dataset\n",
    "\n",
    "In this step, I will create the input and output variable.\n",
    "\n",
    "Input variable: I have used ‘(Open – Close)/Open’, ‘(High – Low)/Low’, standard deviation of last 5 days returns (std_5), and average of last 5 days returns (ret_5)\n",
    "Output variable: If tomorrow’s close price is greater than today’s close price then the output variable is set to 1 and otherwise set to -1. 1 indicates to buy the stock and -1 indicates to sell the stock.\n",
    "The choice of these features as input and output is completely random."
   ]
  },
  {
   "cell_type": "code",
   "execution_count": 5,
   "metadata": {},
   "outputs": [],
   "source": [
    "# Features construction \n",
    "data['Open-Close'] = (data.Open - data.Close)/data.Open\n",
    "data['High-Low'] = (data.High - data.Low)/data.Low\n",
    "data['percent_change'] = data['Adj Close'].pct_change()\n",
    "data['std_5'] = data['percent_change'].rolling(5).std()\n",
    "data['ret_5'] = data['percent_change'].rolling(5).mean()\n",
    "data.dropna(inplace=True)\n",
    "# X is the input variable\n",
    "X = data[['Open-Close', 'High-Low', 'std_5', 'ret_5']]\n",
    "\n",
    "# Y is the target or output variable\n",
    "y = np.where(data['Adj Close'].shift(-1) > data['Adj Close'], 1, -1)"
   ]
  },
  {
   "cell_type": "markdown",
   "metadata": {},
   "source": [
    "Train Test Split\n",
    "\n",
    "We now split the dataset into 75% Training dataset and 25% for Testing dataset."
   ]
  },
  {
   "cell_type": "code",
   "execution_count": 6,
   "metadata": {},
   "outputs": [
    {
     "data": {
      "text/plain": [
       "1726"
      ]
     },
     "execution_count": 6,
     "metadata": {},
     "output_type": "execute_result"
    }
   ],
   "source": [
    "# Total dataset length\n",
    "dataset_length = data.shape[0]\n",
    "\n",
    "# Training dataset length\n",
    "split = int(dataset_length * 0.75)\n",
    "split"
   ]
  },
  {
   "cell_type": "code",
   "execution_count": 7,
   "metadata": {},
   "outputs": [
    {
     "name": "stdout",
     "output_type": "stream",
     "text": [
      "(1726, 4) (576, 4)\n",
      "(1726,) (576,)\n"
     ]
    }
   ],
   "source": [
    "# Splitiing the X and y into train and test datasets\n",
    "X_train, X_test = X[:split], X[split:]\n",
    "y_train, y_test = y[:split], y[split:]\n",
    "\n",
    "# Print the size of the train and test dataset\n",
    "print(X_train.shape, X_test.shape)\n",
    "print(y_train.shape, y_test.shape)"
   ]
  },
  {
   "cell_type": "markdown",
   "metadata": {},
   "source": [
    "Training the machine learning model\n",
    "\n",
    "All set with the data! Let’s train a decision tree classifier model. The RandomForestClassifier function from tree is stored in variable ‘clf’ and then a fit method is called on it with ‘X_train’ and ‘y_train’ dataset as the parameters so that the classifier model can learn the relationship between input and output.\n",
    "\n"
   ]
  },
  {
   "cell_type": "code",
   "execution_count": 8,
   "metadata": {},
   "outputs": [],
   "source": [
    "clf = RandomForestClassifier(random_state=5)"
   ]
  },
  {
   "cell_type": "code",
   "execution_count": 9,
   "metadata": {},
   "outputs": [
    {
     "name": "stderr",
     "output_type": "stream",
     "text": [
      "/Users/YTsBaCh/Applications/anaconda3/envs/env_zipline/lib/python3.6/site-packages/sklearn/ensemble/forest.py:246: FutureWarning: The default value of n_estimators will change from 10 in version 0.20 to 100 in 0.22.\n",
      "  \"10 in version 0.20 to 100 in 0.22.\", FutureWarning)\n"
     ]
    }
   ],
   "source": [
    "# Create the model on train dataset\n",
    "model = clf.fit(X_train, y_train)"
   ]
  },
  {
   "cell_type": "code",
   "execution_count": 10,
   "metadata": {},
   "outputs": [
    {
     "name": "stdout",
     "output_type": "stream",
     "text": [
      "              precision    recall  f1-score   support\n",
      "\n",
      "          -1       0.48      0.55      0.51       288\n",
      "           1       0.47      0.40      0.43       288\n",
      "\n",
      "   micro avg       0.48      0.48      0.48       576\n",
      "   macro avg       0.48      0.48      0.47       576\n",
      "weighted avg       0.48      0.48      0.47       576\n",
      "\n"
     ]
    }
   ],
   "source": [
    "# Run the code to view the classification report metrics\n",
    "from sklearn.metrics import classification_report\n",
    "report = classification_report(y_test, model.predict(X_test))\n",
    "print(report)"
   ]
  },
  {
   "cell_type": "code",
   "execution_count": 56,
   "metadata": {},
   "outputs": [],
   "source": [
    "data['strategy_returns'] = data.percent_change.shift(-1) * model.predict(X)"
   ]
  },
  {
   "cell_type": "code",
   "execution_count": 57,
   "metadata": {},
   "outputs": [
    {
     "data": {
      "image/png": "[encoded data removed]",
      "text/plain": [
       "<Figure size 864x432 with 1 Axes>"
      ]
     },
     "metadata": {},
     "output_type": "display_data"
    }
   ],
   "source": [
    "data.strategy_returns[split:].hist(figsize=(12,6))\n",
    "plt.xlabel('Strategy returns (%)')\n",
    "plt.show()"
   ]
  },
  {
   "cell_type": "markdown",
   "metadata": {},
   "source": [
    "### Strategy Returns"
   ]
  },
  {
   "cell_type": "code",
   "execution_count": 47,
   "metadata": {},
   "outputs": [
    {
     "data": {
      "image/png": "[encoded data removed]",
      "text/plain": [
       "<Figure size 1152x432 with 1 Axes>"
      ]
     },
     "metadata": {},
     "output_type": "display_data"
    }
   ],
   "source": [
    "(data.strategy_returns[split:]+1).cumprod().plot(figsize=(16,6))\n",
    "plt.ylabel('Strategy returns (%)')\n",
    "plt.show()"
   ]
  },
  {
   "cell_type": "markdown",
   "metadata": {},
   "source": [
    "The output displays the strategy returns and daily returns according to the code for the Random Forest Classifier.\n",
    "\n",
    "Advantages\n",
    "Avoids Overfitting\n",
    "Can be used for both Classification and Regression\n",
    "Can handle missing values\n",
    "Disadvantages\n",
    "Large number of trees can take up space and reduce time.\n",
    "In this blog, we learnt the functioning of the Random Forest Algorithm with the help of an example, along with the Python code to implement this strategy."
   ]
  },
  {
   "cell_type": "code",
   "execution_count": null,
   "metadata": {},
   "outputs": [],
   "source": []
  }
 ],
 "metadata": {
  "kernelspec": {
   "display_name": "Python 3",
   "language": "python",
   "name": "python3"
  },
  "language_info": {
   "codemirror_mode": {
    "name": "ipython",
    "version": 3
   },
   "file_extension": ".py",
   "mimetype": "text/x-python",
   "name": "python",
   "nbconvert_exporter": "python",
   "pygments_lexer": "ipython3",
   "version": "3.6.8"
  }
 },
 "nbformat": 4,
 "nbformat_minor": 2
}
