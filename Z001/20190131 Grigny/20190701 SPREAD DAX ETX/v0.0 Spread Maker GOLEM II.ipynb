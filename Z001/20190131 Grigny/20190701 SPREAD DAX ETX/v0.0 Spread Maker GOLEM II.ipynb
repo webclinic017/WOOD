{
 "cells": [
  {
   "cell_type": "code",
   "execution_count": 21,
   "metadata": {},
   "outputs": [],
   "source": [
    "from ibapi.wrapper import EWrapper\n",
    "from ibapi.client import EClient\n",
    "from ibapi.contract import Contract as IBcontract\n",
    "from threading import Thread\n",
    "\n",
    "from ibapi.order import (OrderComboLeg, Order)\n",
    "from ibapi.common import * # @UnusedWildImport\n",
    "from ibapi.tag_value import TagValue\n",
    "from ibapi import order_condition\n",
    "from ibapi.order_condition import * # @UnusedWildImport\n",
    "\n",
    "import pandas as pd\n",
    "import numpy as np\n",
    "import queue\n",
    "import datetime"
   ]
  },
  {
   "cell_type": "code",
   "execution_count": 44,
   "metadata": {},
   "outputs": [],
   "source": [
    "ipaddress = '127.0.0.1'\n",
    "portid = 4001\n",
    "clientid = 1"
   ]
  },
  {
   "cell_type": "code",
   "execution_count": 39,
   "metadata": {},
   "outputs": [
    {
     "name": "stdout",
     "output_type": "stream",
     "text": [
      "That's horrible Captain, we've got a problem with the connexion\n"
     ]
    }
   ],
   "source": [
    "try :\n",
    "    self.connect(ipaddress, portid, clientid)\n",
    "except:\n",
    "    print(\"That's horrible Captain, we've got a problem with the connexion\")\n",
    "    "
   ]
  },
  {
   "cell_type": "code",
   "execution_count": 30,
   "metadata": {},
   "outputs": [],
   "source": [
    "def stream_in():\n",
    "    self.reqTickByTickData(19003, ContractSamples.EuropeanStock2(), \"BidAsk\", 0, True)\n",
    "    self.reqTickByTickData(19003, ContractSamples.EuropeanStock2(), \"BidAsk\", 0, True)\n",
    "    return"
   ]
  },
  {
   "cell_type": "code",
   "execution_count": 25,
   "metadata": {},
   "outputs": [],
   "source": [
    "def tickByTickBidAsk(self, reqId: int, time: int, bidPrice: float, askPrice: float,bidSize: int, askSize: int, tickAttribBidAsk: TickAttribBidAsk):\n",
    "    \n",
    "    super().tickByTickBidAsk(reqId, time, bidPrice, askPrice, bidSize,askSize, tickAttribBidAsk)\n",
    "    print(\"BidAsk. ReqId:\", reqId, \"Time:\", datetime.datetime.fromtimestamp(time).strftime(\"%Y%m%d %H:%M:%S\"),\"BidPrice:\", bidPrice, \"AskPrice:\", \n",
    "          askPrice, \"BidSize:\", bidSize,\"AskSize:\", askSize, \"BidPastLow:\", tickAttribBidAsk.bidPastLow, \"AskPastHigh:\", tickAttribBidAsk.askPastHigh)\n",
    "    return(reqId,time,bidPrice,askPrice,bidSize,askSize,TickAttribBidAsk)"
   ]
  },
  {
   "cell_type": "code",
   "execution_count": 26,
   "metadata": {},
   "outputs": [],
   "source": [
    "def open_order(action:str, quantity:float, limitPrice:float):\n",
    "    # ! [limitorder]\n",
    "    order = Order()\n",
    "    order.action = action\n",
    "    order.orderType = \"LMT\"\n",
    "    order.totalQuantity = quantity\n",
    "    order.lmtPrice = limitPrice\n",
    "    # ! [limitorder]\n",
    "    return (order)"
   ]
  },
  {
   "cell_type": "code",
   "execution_count": 33,
   "metadata": {},
   "outputs": [],
   "source": [
    "class TestWrapper(EWrapper):\n",
    "    \"\"\"\n",
    "    The wrapper deals with the action coming back from the IB gateway or TWS instance\n",
    "    We override methods in EWrapper that will get called when this action happens, like currentTime\n",
    "    Extra methods are added as we need to store the results in this object\n",
    "    \"\"\"\n",
    "\n",
    "    def __init__(self):\n",
    "        self._my_contract_details = {}\n",
    "        self._my_historic_data_dict = {}\n",
    "\n",
    "    ## error handling code\n",
    "    def init_error(self):\n",
    "        error_queue=queue.Queue()\n",
    "        self._my_errors = error_queue\n",
    "\n",
    "    def get_error(self, timeout=5):\n",
    "        if self.is_error():\n",
    "            try:\n",
    "                return self._my_errors.get(timeout=timeout)\n",
    "            except queue.Empty:\n",
    "                return None\n",
    "\n",
    "        return None\n",
    "\n",
    "    def is_error(self):\n",
    "        an_error_if=not self._my_errors.empty()\n",
    "        return an_error_if\n",
    "\n",
    "    def error(self, id, errorCode, errorString):\n",
    "        ## Overriden method\n",
    "        errormsg = \"IB error id %d errorcode %d string %s\" % (id, errorCode, errorString)\n",
    "        self._my_errors.put(errormsg)\n",
    "\n",
    "\n",
    "    ## get contract details code\n",
    "    def init_contractdetails(self, reqId):\n",
    "        contract_details_queue = self._my_contract_details[reqId] = queue.Queue()\n",
    "\n",
    "        return contract_details_queue\n",
    "\n",
    "    def contractDetails(self, reqId, contractDetails):\n",
    "        ## overridden method\n",
    "\n",
    "        if reqId not in self._my_contract_details.keys():\n",
    "            self.init_contractdetails(reqId)\n",
    "\n",
    "        self._my_contract_details[reqId].put(contractDetails)\n",
    "\n",
    "    def contractDetailsEnd(self, reqId):\n",
    "        ## overriden method\n",
    "        if reqId not in self._my_contract_details.keys():\n",
    "            self.init_contractdetails(reqId)\n",
    "\n",
    "        self._my_contract_details[reqId].put(FINISHED)\n",
    "\n",
    "    ## Historic data code\n",
    "    def init_historicprices(self, tickerid):\n",
    "        historic_data_queue = self._my_historic_data_dict[tickerid] = queue.Queue()\n",
    "\n",
    "        return historic_data_queue\n",
    "\n",
    "\n",
    "    def historicalData(self, tickerid , bar):\n",
    "\n",
    "        ## Overriden method\n",
    "        ## Note I'm choosing to ignore barCount, WAP and hasGaps but you could use them if you like\n",
    "        bardata=(bar.date, bar.open, bar.high, bar.low, bar.close, bar.volume)\n",
    "\n",
    "        historic_data_dict=self._my_historic_data_dict\n",
    "\n",
    "        ## Add on to the current data\n",
    "        if tickerid not in historic_data_dict.keys():\n",
    "            self.init_historicprices(tickerid)\n",
    "\n",
    "        historic_data_dict[tickerid].put(bardata)\n",
    "\n",
    "    def historicalDataEnd(self, tickerid, start:str, end:str):\n",
    "        ## overriden method\n",
    "\n",
    "        if tickerid not in self._my_historic_data_dict.keys():\n",
    "            self.init_historicprices(tickerid)\n",
    "\n",
    "        self._my_historic_data_dict[tickerid].put(FINISHED)"
   ]
  },
  {
   "cell_type": "code",
   "execution_count": 35,
   "metadata": {},
   "outputs": [],
   "source": [
    "class TestClient(EClient):\n",
    "    \"\"\"\n",
    "    The client method\n",
    "    We don't override native methods, but instead call them from our own wrappers\n",
    "    \"\"\"\n",
    "    def __init__(self, wrapper):\n",
    "        ## Set up with a wrapper inside\n",
    "        EClient.__init__(self, wrapper)\n",
    "\n",
    "\n",
    "    def resolve_ib_contract(self, ibcontract, reqId=DEFAULT_GET_CONTRACT_ID):\n",
    "\n",
    "        \"\"\"\n",
    "        From a partially formed contract, returns a fully fledged version\n",
    "        :returns fully resolved IB contract\n",
    "        \"\"\"\n",
    "\n",
    "        ## Make a place to store the data we're going to return\n",
    "        contract_details_queue = finishableQueue(self.init_contractdetails(reqId))\n",
    "\n",
    "        print(\"Getting full contract details from the server... \")\n",
    "\n",
    "        self.reqContractDetails(reqId, ibcontract)\n",
    "\n",
    "        ## Run until we get a valid contract(s) or get bored waiting\n",
    "        MAX_WAIT_SECONDS = 10\n",
    "        new_contract_details = contract_details_queue.get(timeout = MAX_WAIT_SECONDS)\n",
    "\n",
    "        while self.wrapper.is_error():\n",
    "            print(self.get_error())\n",
    "\n",
    "        if contract_details_queue.timed_out():\n",
    "            print(\"Exceeded maximum wait for wrapper to confirm finished - seems to be normal behaviour\")\n",
    "\n",
    "        if len(new_contract_details)==0:\n",
    "            print(\"Failed to get additional contract details: returning unresolved contract\")\n",
    "            return ibcontract\n",
    "\n",
    "        if len(new_contract_details)>1:\n",
    "            print(\"got multiple contracts using first one\")\n",
    "\n",
    "        new_contract_details=new_contract_details[0]\n",
    "\n",
    "        resolved_ibcontract=new_contract_details.contract\n",
    "\n",
    "        return resolved_ibcontract"
   ]
  },
  {
   "cell_type": "code",
   "execution_count": 36,
   "metadata": {},
   "outputs": [
    {
     "ename": "AttributeError",
     "evalue": "'TestApp' object has no attribute '_my_errors'",
     "output_type": "error",
     "traceback": [
      "\u001b[0;31m---------------------------------------------------------------------------\u001b[0m",
      "\u001b[0;31mBrokenPipeError\u001b[0m                           Traceback (most recent call last)",
      "\u001b[0;32m~/Applications/anaconda3/envs/LumberJack/lib/python3.6/site-packages/ibapi-9.76.1-py3.6.egg/ibapi/client.py\u001b[0m in \u001b[0;36mconnect\u001b[0;34m(self, host, port, clientId)\u001b[0m\n\u001b[1;32m    148\u001b[0m             \u001b[0mlogger\u001b[0m\u001b[0;34m.\u001b[0m\u001b[0mdebug\u001b[0m\u001b[0;34m(\u001b[0m\u001b[0;34m\"REQUEST %s\"\u001b[0m\u001b[0;34m,\u001b[0m \u001b[0mmsg2\u001b[0m\u001b[0;34m)\u001b[0m\u001b[0;34m\u001b[0m\u001b[0;34m\u001b[0m\u001b[0m\n\u001b[0;32m--> 149\u001b[0;31m             \u001b[0mself\u001b[0m\u001b[0;34m.\u001b[0m\u001b[0mconn\u001b[0m\u001b[0;34m.\u001b[0m\u001b[0msendMsg\u001b[0m\u001b[0;34m(\u001b[0m\u001b[0mmsg2\u001b[0m\u001b[0;34m)\u001b[0m\u001b[0;34m\u001b[0m\u001b[0;34m\u001b[0m\u001b[0m\n\u001b[0m\u001b[1;32m    150\u001b[0m \u001b[0;34m\u001b[0m\u001b[0m\n",
      "\u001b[0;32m~/Applications/anaconda3/envs/LumberJack/lib/python3.6/site-packages/ibapi-9.76.1-py3.6.egg/ibapi/connection.py\u001b[0m in \u001b[0;36msendMsg\u001b[0;34m(self, msg)\u001b[0m\n\u001b[1;32m     79\u001b[0m         \u001b[0;32mtry\u001b[0m\u001b[0;34m:\u001b[0m\u001b[0;34m\u001b[0m\u001b[0;34m\u001b[0m\u001b[0m\n\u001b[0;32m---> 80\u001b[0;31m             \u001b[0mnSent\u001b[0m \u001b[0;34m=\u001b[0m \u001b[0mself\u001b[0m\u001b[0;34m.\u001b[0m\u001b[0msocket\u001b[0m\u001b[0;34m.\u001b[0m\u001b[0msend\u001b[0m\u001b[0;34m(\u001b[0m\u001b[0mmsg\u001b[0m\u001b[0;34m)\u001b[0m\u001b[0;34m\u001b[0m\u001b[0;34m\u001b[0m\u001b[0m\n\u001b[0m\u001b[1;32m     81\u001b[0m         \u001b[0;32mexcept\u001b[0m \u001b[0msocket\u001b[0m\u001b[0;34m.\u001b[0m\u001b[0merror\u001b[0m\u001b[0;34m:\u001b[0m\u001b[0;34m\u001b[0m\u001b[0;34m\u001b[0m\u001b[0m\n",
      "\u001b[0;31mBrokenPipeError\u001b[0m: [Errno 32] Broken pipe",
      "\nDuring handling of the above exception, another exception occurred:\n",
      "\u001b[0;31mAttributeError\u001b[0m                            Traceback (most recent call last)",
      "\u001b[0;32m<ipython-input-36-97472c2701ec>\u001b[0m in \u001b[0;36m<module>\u001b[0;34m\u001b[0m\n\u001b[0;32m----> 1\u001b[0;31m \u001b[0mapp\u001b[0m \u001b[0;34m=\u001b[0m \u001b[0mTestApp\u001b[0m\u001b[0;34m(\u001b[0m\u001b[0;34m\"127.0.0.1\"\u001b[0m\u001b[0;34m,\u001b[0m \u001b[0;36m4001\u001b[0m\u001b[0;34m,\u001b[0m \u001b[0;36m1\u001b[0m\u001b[0;34m)\u001b[0m\u001b[0;34m\u001b[0m\u001b[0;34m\u001b[0m\u001b[0m\n\u001b[0m",
      "\u001b[0;32m<ipython-input-5-9ab6f79b245f>\u001b[0m in \u001b[0;36m__init__\u001b[0;34m(self, ipaddress, portid, clientid)\u001b[0m\n\u001b[1;32m    230\u001b[0m         \u001b[0mTestClient\u001b[0m\u001b[0;34m.\u001b[0m\u001b[0m__init__\u001b[0m\u001b[0;34m(\u001b[0m\u001b[0mself\u001b[0m\u001b[0;34m,\u001b[0m \u001b[0mwrapper\u001b[0m\u001b[0;34m=\u001b[0m\u001b[0mself\u001b[0m\u001b[0;34m)\u001b[0m\u001b[0;34m\u001b[0m\u001b[0;34m\u001b[0m\u001b[0m\n\u001b[1;32m    231\u001b[0m \u001b[0;34m\u001b[0m\u001b[0m\n\u001b[0;32m--> 232\u001b[0;31m         \u001b[0mself\u001b[0m\u001b[0;34m.\u001b[0m\u001b[0mconnect\u001b[0m\u001b[0;34m(\u001b[0m\u001b[0mipaddress\u001b[0m\u001b[0;34m,\u001b[0m \u001b[0mportid\u001b[0m\u001b[0;34m,\u001b[0m \u001b[0mclientid\u001b[0m\u001b[0;34m)\u001b[0m\u001b[0;34m\u001b[0m\u001b[0;34m\u001b[0m\u001b[0m\n\u001b[0m\u001b[1;32m    233\u001b[0m \u001b[0;34m\u001b[0m\u001b[0m\n\u001b[1;32m    234\u001b[0m         \u001b[0mthread\u001b[0m \u001b[0;34m=\u001b[0m \u001b[0mThread\u001b[0m\u001b[0;34m(\u001b[0m\u001b[0mtarget\u001b[0m \u001b[0;34m=\u001b[0m \u001b[0mself\u001b[0m\u001b[0;34m.\u001b[0m\u001b[0mrun\u001b[0m\u001b[0;34m)\u001b[0m\u001b[0;34m\u001b[0m\u001b[0;34m\u001b[0m\u001b[0m\n",
      "\u001b[0;32m~/Applications/anaconda3/envs/LumberJack/lib/python3.6/site-packages/ibapi-9.76.1-py3.6.egg/ibapi/client.py\u001b[0m in \u001b[0;36mconnect\u001b[0;34m(self, host, port, clientId)\u001b[0m\n\u001b[1;32m    181\u001b[0m         \u001b[0;32mexcept\u001b[0m \u001b[0msocket\u001b[0m\u001b[0;34m.\u001b[0m\u001b[0merror\u001b[0m\u001b[0;34m:\u001b[0m\u001b[0;34m\u001b[0m\u001b[0;34m\u001b[0m\u001b[0m\n\u001b[1;32m    182\u001b[0m             \u001b[0;32mif\u001b[0m \u001b[0mself\u001b[0m\u001b[0;34m.\u001b[0m\u001b[0mwrapper\u001b[0m\u001b[0;34m:\u001b[0m\u001b[0;34m\u001b[0m\u001b[0;34m\u001b[0m\u001b[0m\n\u001b[0;32m--> 183\u001b[0;31m                 \u001b[0mself\u001b[0m\u001b[0;34m.\u001b[0m\u001b[0mwrapper\u001b[0m\u001b[0;34m.\u001b[0m\u001b[0merror\u001b[0m\u001b[0;34m(\u001b[0m\u001b[0mNO_VALID_ID\u001b[0m\u001b[0;34m,\u001b[0m \u001b[0mCONNECT_FAIL\u001b[0m\u001b[0;34m.\u001b[0m\u001b[0mcode\u001b[0m\u001b[0;34m(\u001b[0m\u001b[0;34m)\u001b[0m\u001b[0;34m,\u001b[0m \u001b[0mCONNECT_FAIL\u001b[0m\u001b[0;34m.\u001b[0m\u001b[0mmsg\u001b[0m\u001b[0;34m(\u001b[0m\u001b[0;34m)\u001b[0m\u001b[0;34m)\u001b[0m\u001b[0;34m\u001b[0m\u001b[0;34m\u001b[0m\u001b[0m\n\u001b[0m\u001b[1;32m    184\u001b[0m             \u001b[0mlogger\u001b[0m\u001b[0;34m.\u001b[0m\u001b[0minfo\u001b[0m\u001b[0;34m(\u001b[0m\u001b[0;34m\"could not connect\"\u001b[0m\u001b[0;34m)\u001b[0m\u001b[0;34m\u001b[0m\u001b[0;34m\u001b[0m\u001b[0m\n\u001b[1;32m    185\u001b[0m             \u001b[0mself\u001b[0m\u001b[0;34m.\u001b[0m\u001b[0mdisconnect\u001b[0m\u001b[0;34m(\u001b[0m\u001b[0;34m)\u001b[0m\u001b[0;34m\u001b[0m\u001b[0;34m\u001b[0m\u001b[0m\n",
      "\u001b[0;32m<ipython-input-5-9ab6f79b245f>\u001b[0m in \u001b[0;36merror\u001b[0;34m(self, id, errorCode, errorString)\u001b[0m\n\u001b[1;32m     73\u001b[0m         \u001b[0;31m## Overriden method\u001b[0m\u001b[0;34m\u001b[0m\u001b[0;34m\u001b[0m\u001b[0;34m\u001b[0m\u001b[0m\n\u001b[1;32m     74\u001b[0m         \u001b[0merrormsg\u001b[0m \u001b[0;34m=\u001b[0m \u001b[0;34m\"IB error id %d errorcode %d string %s\"\u001b[0m \u001b[0;34m%\u001b[0m \u001b[0;34m(\u001b[0m\u001b[0mid\u001b[0m\u001b[0;34m,\u001b[0m \u001b[0merrorCode\u001b[0m\u001b[0;34m,\u001b[0m \u001b[0merrorString\u001b[0m\u001b[0;34m)\u001b[0m\u001b[0;34m\u001b[0m\u001b[0;34m\u001b[0m\u001b[0m\n\u001b[0;32m---> 75\u001b[0;31m         \u001b[0mself\u001b[0m\u001b[0;34m.\u001b[0m\u001b[0m_my_errors\u001b[0m\u001b[0;34m.\u001b[0m\u001b[0mput\u001b[0m\u001b[0;34m(\u001b[0m\u001b[0merrormsg\u001b[0m\u001b[0;34m)\u001b[0m\u001b[0;34m\u001b[0m\u001b[0;34m\u001b[0m\u001b[0m\n\u001b[0m\u001b[1;32m     76\u001b[0m \u001b[0;34m\u001b[0m\u001b[0m\n\u001b[1;32m     77\u001b[0m \u001b[0;34m\u001b[0m\u001b[0m\n",
      "\u001b[0;31mAttributeError\u001b[0m: 'TestApp' object has no attribute '_my_errors'"
     ]
    }
   ],
   "source": [
    "app = TestApp(\"127.0.0.1\", 4001, 1)"
   ]
  },
  {
   "cell_type": "code",
   "execution_count": 45,
   "metadata": {},
   "outputs": [
    {
     "ename": "TypeError",
     "evalue": "connect() missing 1 required positional argument: 'clientId'",
     "output_type": "error",
     "traceback": [
      "\u001b[0;31m---------------------------------------------------------------------------\u001b[0m",
      "\u001b[0;31mTypeError\u001b[0m                                 Traceback (most recent call last)",
      "\u001b[0;32m<ipython-input-45-4ed09e736a59>\u001b[0m in \u001b[0;36m<module>\u001b[0;34m\u001b[0m\n\u001b[0;32m----> 1\u001b[0;31m \u001b[0mTestApp\u001b[0m\u001b[0;34m.\u001b[0m\u001b[0mconnect\u001b[0m\u001b[0;34m(\u001b[0m\u001b[0mipaddress\u001b[0m\u001b[0;34m,\u001b[0m \u001b[0mportid\u001b[0m\u001b[0;34m,\u001b[0m \u001b[0mclientid\u001b[0m\u001b[0;34m)\u001b[0m\u001b[0;34m\u001b[0m\u001b[0;34m\u001b[0m\u001b[0m\n\u001b[0m",
      "\u001b[0;31mTypeError\u001b[0m: connect() missing 1 required positional argument: 'clientId'"
     ]
    }
   ],
   "source": [
    "TestApp.connect(ipaddress, portid, clientid)"
   ]
  },
  {
   "cell_type": "code",
   "execution_count": null,
   "metadata": {},
   "outputs": [],
   "source": []
  }
 ],
 "metadata": {
  "kernelspec": {
   "display_name": "Python 3",
   "language": "python",
   "name": "python3"
  },
  "language_info": {
   "codemirror_mode": {
    "name": "ipython",
    "version": 3
   },
   "file_extension": ".py",
   "mimetype": "text/x-python",
   "name": "python",
   "nbconvert_exporter": "python",
   "pygments_lexer": "ipython3",
   "version": "3.6.8"
  }
 },
 "nbformat": 4,
 "nbformat_minor": 2
}
