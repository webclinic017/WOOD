{
 "cells": [
  {
   "cell_type": "code",
   "execution_count": 1,
   "metadata": {},
   "outputs": [],
   "source": [
    "___Author___='LumberJack Jyss'"
   ]
  },
  {
   "cell_type": "code",
   "execution_count": 2,
   "metadata": {},
   "outputs": [
    {
     "name": "stdout",
     "output_type": "stream",
     "text": [
      "LumberJack BRUTAL AtidotCom XGBOOST\n",
      "LumberJack Jyss (c)\n"
     ]
    }
   ],
   "source": [
    "print('LumberJack BRUTAL AtidotCom XGBOOST\\nLumberJack Jyss (c)')"
   ]
  },
  {
   "cell_type": "code",
   "execution_count": 3,
   "metadata": {},
   "outputs": [
    {
     "name": "stdout",
     "output_type": "stream",
     "text": [
      "Importation des librairies...\n",
      "Librairies importées\n"
     ]
    }
   ],
   "source": [
    "print('Importation des librairies...')\n",
    "import statistics\n",
    "import pickle\n",
    "import numpy as np\n",
    "import pandas as pd\n",
    "import xgboost as xgb\n",
    "from xgboost import XGBClassifier\n",
    "from pandas.plotting import register_matplotlib_converters\n",
    "import pandas_datareader as web\n",
    "import matplotlib.pyplot as plt\n",
    "from sklearn.linear_model import LogisticRegression\n",
    "from sklearn.preprocessing import LabelEncoder\n",
    "from sklearn.metrics import accuracy_score, precision_score, recall_score, roc_auc_score,roc_curve\n",
    "from sklearn import model_selection\n",
    "from sklearn.model_selection import cross_val_score\n",
    "from sklearn.model_selection import train_test_split\n",
    "from sklearn.ensemble import AdaBoostClassifier\n",
    "import seaborn as sns\n",
    "%matplotlib inline\n",
    "print('Librairies importées')"
   ]
  },
  {
   "cell_type": "code",
   "execution_count": 4,
   "metadata": {},
   "outputs": [],
   "source": [
    "df = pd.read_csv('dataset_ready_to_use.csv')"
   ]
  },
  {
   "cell_type": "code",
   "execution_count": 5,
   "metadata": {},
   "outputs": [],
   "source": [
    "df = df.dropna()"
   ]
  },
  {
   "cell_type": "code",
   "execution_count": 6,
   "metadata": {},
   "outputs": [
    {
     "data": {
      "text/html": [
       "<div>\n",
       "<style scoped>\n",
       "    .dataframe tbody tr th:only-of-type {\n",
       "        vertical-align: middle;\n",
       "    }\n",
       "\n",
       "    .dataframe tbody tr th {\n",
       "        vertical-align: top;\n",
       "    }\n",
       "\n",
       "    .dataframe thead th {\n",
       "        text-align: right;\n",
       "    }\n",
       "</style>\n",
       "<table border=\"1\" class=\"dataframe\">\n",
       "  <thead>\n",
       "    <tr style=\"text-align: right;\">\n",
       "      <th></th>\n",
       "      <th>Open_audusd</th>\n",
       "      <th>High_audusd</th>\n",
       "      <th>Low_audusd</th>\n",
       "      <th>Close_audusd</th>\n",
       "      <th>Volume_audusd</th>\n",
       "      <th>Open_usdjpy</th>\n",
       "      <th>High_usdjpy</th>\n",
       "      <th>Low_usdjpy</th>\n",
       "      <th>Close_usdjpy</th>\n",
       "      <th>Volume_usdjpy</th>\n",
       "      <th>...</th>\n",
       "      <th>Volume_eurusd</th>\n",
       "      <th>Macdsignal_eurusd</th>\n",
       "      <th>rsi_eurusd</th>\n",
       "      <th>BBup_eurusd</th>\n",
       "      <th>BBmid_eurusd</th>\n",
       "      <th>BBlow_eurusd</th>\n",
       "      <th>atr_eurusd</th>\n",
       "      <th>wclprince_eurusd</th>\n",
       "      <th>short</th>\n",
       "      <th>long</th>\n",
       "    </tr>\n",
       "    <tr>\n",
       "      <th>Local time</th>\n",
       "      <th></th>\n",
       "      <th></th>\n",
       "      <th></th>\n",
       "      <th></th>\n",
       "      <th></th>\n",
       "      <th></th>\n",
       "      <th></th>\n",
       "      <th></th>\n",
       "      <th></th>\n",
       "      <th></th>\n",
       "      <th></th>\n",
       "      <th></th>\n",
       "      <th></th>\n",
       "      <th></th>\n",
       "      <th></th>\n",
       "      <th></th>\n",
       "      <th></th>\n",
       "      <th></th>\n",
       "      <th></th>\n",
       "      <th></th>\n",
       "      <th></th>\n",
       "    </tr>\n",
       "  </thead>\n",
       "  <tbody>\n",
       "    <tr>\n",
       "      <th>10.04.2004 02:00:00.000 GMT+0200</th>\n",
       "      <td>0.76255</td>\n",
       "      <td>0.76255</td>\n",
       "      <td>0.76255</td>\n",
       "      <td>0.76255</td>\n",
       "      <td>0.0</td>\n",
       "      <td>106.39</td>\n",
       "      <td>106.39</td>\n",
       "      <td>106.39</td>\n",
       "      <td>106.39</td>\n",
       "      <td>0.0</td>\n",
       "      <td>...</td>\n",
       "      <td>0.0</td>\n",
       "      <td>-0.003009</td>\n",
       "      <td>37.355005</td>\n",
       "      <td>1.210666</td>\n",
       "      <td>1.209442</td>\n",
       "      <td>1.208217</td>\n",
       "      <td>0.001222</td>\n",
       "      <td>1.20888</td>\n",
       "      <td>0</td>\n",
       "      <td>1</td>\n",
       "    </tr>\n",
       "    <tr>\n",
       "      <th>10.04.2004 03:00:00.000 GMT+0200</th>\n",
       "      <td>0.76255</td>\n",
       "      <td>0.76255</td>\n",
       "      <td>0.76255</td>\n",
       "      <td>0.76255</td>\n",
       "      <td>0.0</td>\n",
       "      <td>106.39</td>\n",
       "      <td>106.39</td>\n",
       "      <td>106.39</td>\n",
       "      <td>106.39</td>\n",
       "      <td>0.0</td>\n",
       "      <td>...</td>\n",
       "      <td>0.0</td>\n",
       "      <td>-0.003035</td>\n",
       "      <td>37.355005</td>\n",
       "      <td>1.210610</td>\n",
       "      <td>1.209471</td>\n",
       "      <td>1.208331</td>\n",
       "      <td>0.001134</td>\n",
       "      <td>1.20888</td>\n",
       "      <td>0</td>\n",
       "      <td>0</td>\n",
       "    </tr>\n",
       "    <tr>\n",
       "      <th>10.04.2004 04:00:00.000 GMT+0200</th>\n",
       "      <td>0.76255</td>\n",
       "      <td>0.76255</td>\n",
       "      <td>0.76255</td>\n",
       "      <td>0.76255</td>\n",
       "      <td>0.0</td>\n",
       "      <td>106.39</td>\n",
       "      <td>106.39</td>\n",
       "      <td>106.39</td>\n",
       "      <td>106.39</td>\n",
       "      <td>0.0</td>\n",
       "      <td>...</td>\n",
       "      <td>0.0</td>\n",
       "      <td>-0.003060</td>\n",
       "      <td>37.355005</td>\n",
       "      <td>1.210553</td>\n",
       "      <td>1.209414</td>\n",
       "      <td>1.208275</td>\n",
       "      <td>0.001053</td>\n",
       "      <td>1.20888</td>\n",
       "      <td>0</td>\n",
       "      <td>0</td>\n",
       "    </tr>\n",
       "    <tr>\n",
       "      <th>10.04.2004 05:00:00.000 GMT+0200</th>\n",
       "      <td>0.76255</td>\n",
       "      <td>0.76255</td>\n",
       "      <td>0.76255</td>\n",
       "      <td>0.76255</td>\n",
       "      <td>0.0</td>\n",
       "      <td>106.39</td>\n",
       "      <td>106.39</td>\n",
       "      <td>106.39</td>\n",
       "      <td>106.39</td>\n",
       "      <td>0.0</td>\n",
       "      <td>...</td>\n",
       "      <td>0.0</td>\n",
       "      <td>-0.003084</td>\n",
       "      <td>37.355005</td>\n",
       "      <td>1.210526</td>\n",
       "      <td>1.209373</td>\n",
       "      <td>1.208219</td>\n",
       "      <td>0.000978</td>\n",
       "      <td>1.20888</td>\n",
       "      <td>0</td>\n",
       "      <td>0</td>\n",
       "    </tr>\n",
       "    <tr>\n",
       "      <th>10.04.2004 06:00:00.000 GMT+0200</th>\n",
       "      <td>0.76255</td>\n",
       "      <td>0.76255</td>\n",
       "      <td>0.76255</td>\n",
       "      <td>0.76255</td>\n",
       "      <td>0.0</td>\n",
       "      <td>106.39</td>\n",
       "      <td>106.39</td>\n",
       "      <td>106.39</td>\n",
       "      <td>106.39</td>\n",
       "      <td>0.0</td>\n",
       "      <td>...</td>\n",
       "      <td>0.0</td>\n",
       "      <td>-0.003107</td>\n",
       "      <td>37.355005</td>\n",
       "      <td>1.210429</td>\n",
       "      <td>1.209311</td>\n",
       "      <td>1.208192</td>\n",
       "      <td>0.000908</td>\n",
       "      <td>1.20888</td>\n",
       "      <td>0</td>\n",
       "      <td>0</td>\n",
       "    </tr>\n",
       "  </tbody>\n",
       "</table>\n",
       "<p>5 rows × 44 columns</p>\n",
       "</div>"
      ],
      "text/plain": [
       "                                  Open_audusd  High_audusd  Low_audusd  \\\n",
       "Local time                                                               \n",
       "10.04.2004 02:00:00.000 GMT+0200      0.76255      0.76255     0.76255   \n",
       "10.04.2004 03:00:00.000 GMT+0200      0.76255      0.76255     0.76255   \n",
       "10.04.2004 04:00:00.000 GMT+0200      0.76255      0.76255     0.76255   \n",
       "10.04.2004 05:00:00.000 GMT+0200      0.76255      0.76255     0.76255   \n",
       "10.04.2004 06:00:00.000 GMT+0200      0.76255      0.76255     0.76255   \n",
       "\n",
       "                                  Close_audusd  Volume_audusd  Open_usdjpy  \\\n",
       "Local time                                                                   \n",
       "10.04.2004 02:00:00.000 GMT+0200       0.76255            0.0       106.39   \n",
       "10.04.2004 03:00:00.000 GMT+0200       0.76255            0.0       106.39   \n",
       "10.04.2004 04:00:00.000 GMT+0200       0.76255            0.0       106.39   \n",
       "10.04.2004 05:00:00.000 GMT+0200       0.76255            0.0       106.39   \n",
       "10.04.2004 06:00:00.000 GMT+0200       0.76255            0.0       106.39   \n",
       "\n",
       "                                  High_usdjpy  Low_usdjpy  Close_usdjpy  \\\n",
       "Local time                                                                \n",
       "10.04.2004 02:00:00.000 GMT+0200       106.39      106.39        106.39   \n",
       "10.04.2004 03:00:00.000 GMT+0200       106.39      106.39        106.39   \n",
       "10.04.2004 04:00:00.000 GMT+0200       106.39      106.39        106.39   \n",
       "10.04.2004 05:00:00.000 GMT+0200       106.39      106.39        106.39   \n",
       "10.04.2004 06:00:00.000 GMT+0200       106.39      106.39        106.39   \n",
       "\n",
       "                                  Volume_usdjpy  ...  Volume_eurusd  \\\n",
       "Local time                                       ...                  \n",
       "10.04.2004 02:00:00.000 GMT+0200            0.0  ...            0.0   \n",
       "10.04.2004 03:00:00.000 GMT+0200            0.0  ...            0.0   \n",
       "10.04.2004 04:00:00.000 GMT+0200            0.0  ...            0.0   \n",
       "10.04.2004 05:00:00.000 GMT+0200            0.0  ...            0.0   \n",
       "10.04.2004 06:00:00.000 GMT+0200            0.0  ...            0.0   \n",
       "\n",
       "                                  Macdsignal_eurusd  rsi_eurusd  BBup_eurusd  \\\n",
       "Local time                                                                     \n",
       "10.04.2004 02:00:00.000 GMT+0200          -0.003009   37.355005     1.210666   \n",
       "10.04.2004 03:00:00.000 GMT+0200          -0.003035   37.355005     1.210610   \n",
       "10.04.2004 04:00:00.000 GMT+0200          -0.003060   37.355005     1.210553   \n",
       "10.04.2004 05:00:00.000 GMT+0200          -0.003084   37.355005     1.210526   \n",
       "10.04.2004 06:00:00.000 GMT+0200          -0.003107   37.355005     1.210429   \n",
       "\n",
       "                                  BBmid_eurusd  BBlow_eurusd  atr_eurusd  \\\n",
       "Local time                                                                 \n",
       "10.04.2004 02:00:00.000 GMT+0200      1.209442      1.208217    0.001222   \n",
       "10.04.2004 03:00:00.000 GMT+0200      1.209471      1.208331    0.001134   \n",
       "10.04.2004 04:00:00.000 GMT+0200      1.209414      1.208275    0.001053   \n",
       "10.04.2004 05:00:00.000 GMT+0200      1.209373      1.208219    0.000978   \n",
       "10.04.2004 06:00:00.000 GMT+0200      1.209311      1.208192    0.000908   \n",
       "\n",
       "                                  wclprince_eurusd  short  long  \n",
       "Local time                                                       \n",
       "10.04.2004 02:00:00.000 GMT+0200           1.20888      0     1  \n",
       "10.04.2004 03:00:00.000 GMT+0200           1.20888      0     0  \n",
       "10.04.2004 04:00:00.000 GMT+0200           1.20888      0     0  \n",
       "10.04.2004 05:00:00.000 GMT+0200           1.20888      0     0  \n",
       "10.04.2004 06:00:00.000 GMT+0200           1.20888      0     0  \n",
       "\n",
       "[5 rows x 44 columns]"
      ]
     },
     "execution_count": 6,
     "metadata": {},
     "output_type": "execute_result"
    }
   ],
   "source": [
    "df.set_index('Local time', inplace=True)\n",
    "df = df.iloc[:,1:]\n",
    "df.head()"
   ]
  },
  {
   "cell_type": "code",
   "execution_count": 7,
   "metadata": {},
   "outputs": [
    {
     "name": "stdout",
     "output_type": "stream",
     "text": [
      "Période d'étude :  131566 jours\n",
      "Sur un découpage 80% - 20% de la période : \n",
      "Bloc 1 :  105253  jours \n",
      "Bloc 2 : 26313  jours\n"
     ]
    }
   ],
   "source": [
    "delta = df.shape[0]\n",
    "bloc1 = round(delta*0.8)\n",
    "bloc2 = delta - bloc1\n",
    "print(\"Période d'étude : \",delta,'jours')\n",
    "print('Sur un découpage 80% - 20% de la période : ')\n",
    "print('Bloc 1 : ',bloc1,' jours \\nBloc 2 :',bloc2,' jours')"
   ]
  },
  {
   "cell_type": "code",
   "execution_count": 9,
   "metadata": {},
   "outputs": [
    {
     "data": {
      "text/plain": [
       "941"
      ]
     },
     "execution_count": 9,
     "metadata": {},
     "output_type": "execute_result"
    }
   ],
   "source": [
    "df['long'].sum()"
   ]
  },
  {
   "cell_type": "code",
   "execution_count": 10,
   "metadata": {},
   "outputs": [
    {
     "name": "stdout",
     "output_type": "stream",
     "text": [
      "Split effectué\n"
     ]
    }
   ],
   "source": [
    "Xtrain = df.iloc[:bloc1,:-1]\n",
    "Xtest = df.iloc[bloc1:,:-1]\n",
    "ytrain = df.iloc[:bloc1,-1]\n",
    "ytest = df.iloc[bloc1:,-1]\n",
    "print('Split effectué')"
   ]
  },
  {
   "cell_type": "code",
   "execution_count": 11,
   "metadata": {},
   "outputs": [
    {
     "data": {
      "text/plain": [
       "(898,\n",
       " (105253,),\n",
       " (105253, 43),\n",
       " (26313, 43),\n",
       " pandas.core.series.Series,\n",
       " 43,\n",
       " (26313,),\n",
       " pandas.core.series.Series)"
      ]
     },
     "execution_count": 11,
     "metadata": {},
     "output_type": "execute_result"
    }
   ],
   "source": [
    "ytrain.sum(),ytrain.shape,Xtrain.shape,Xtest.shape,type(ytrain),ytest.sum(),ytest.shape,type(ytest)"
   ]
  },
  {
   "cell_type": "code",
   "execution_count": null,
   "metadata": {},
   "outputs": [
    {
     "name": "stderr",
     "output_type": "stream",
     "text": [
      "[Parallel(n_jobs=1)]: Using backend SequentialBackend with 1 concurrent workers.\n"
     ]
    }
   ],
   "source": [
    "clf = AdaBoostClassifier(n_estimators=100,learning_rate=0.5)\n",
    "scores = cross_val_score(clf, Xtrain, ytrain, cv=5,verbose=1)\n",
    "print(scores.mean()*100,'%')"
   ]
  },
  {
   "cell_type": "code",
   "execution_count": null,
   "metadata": {},
   "outputs": [],
   "source": [
    "print('Cross Val Scores sur 5 passages : ',round(scores[0]*100,2),'%',round(scores[1]*100,2),'%',\\\n",
    "      round(scores[2]*100,2),'%',round(scores[3]*100,2),'%',round(scores[4]*100,2),'%')"
   ]
  },
  {
   "cell_type": "code",
   "execution_count": null,
   "metadata": {},
   "outputs": [],
   "source": [
    "clf.fit(Xtrain,ytrain)"
   ]
  },
  {
   "cell_type": "code",
   "execution_count": null,
   "metadata": {},
   "outputs": [],
   "source": [
    "predictions = clf.predict(Xtest)"
   ]
  },
  {
   "cell_type": "code",
   "execution_count": null,
   "metadata": {},
   "outputs": [],
   "source": [
    "type(predictions)"
   ]
  },
  {
   "cell_type": "code",
   "execution_count": null,
   "metadata": {},
   "outputs": [],
   "source": [
    "accuracy = accuracy_score(ytest, predictions)\n",
    "precision=precision_score(ytest, predictions) # vrais_positifs/(vrais_positifs+faux_positifs)\n",
    "# La précision permet de mesurer la capacité du modèle à refuser résultats non-pertinents.\n",
    "recall=recall_score(ytest, predictions) # (vrai_positifs/(vrais_positifs+faux_négatifs))\n",
    "roc=roc_auc_score(ytest,predictions)\n",
    "print('Accuracy: %.2f%%' % (accuracy * 100.0))\n",
    "print(\"Precision: %.2f%% \" % (precision *100))\n",
    "print(\"Recall: %.2f%% \" % (recall * 100))\n",
    "print(\"AUC: %.2f%% \" % (roc *100))"
   ]
  },
  {
   "cell_type": "code",
   "execution_count": null,
   "metadata": {},
   "outputs": [],
   "source": [
    "# get probabilities for positive class\n",
    "prediction = clf.predict_proba(Xtest)[:,1]\n",
    "roc = roc_auc_score(ytest, prediction)\n",
    "print(\"AUC: %.2f%% \" % (roc * 100))"
   ]
  },
  {
   "cell_type": "code",
   "execution_count": null,
   "metadata": {},
   "outputs": [],
   "source": []
  },
  {
   "cell_type": "code",
   "execution_count": 49,
   "metadata": {},
   "outputs": [
    {
     "data": {
      "text/plain": [
       "[<matplotlib.lines.Line2D at 0x11927b080>]"
      ]
     },
     "execution_count": 49,
     "metadata": {},
     "output_type": "execute_result"
    },
    {
     "data": {
      "image/png": "[encoded data removed]",
      "text/plain": [
       "<Figure size 1152x432 with 1 Axes>"
      ]
     },
     "metadata": {
      "needs_background": "light"
     },
     "output_type": "display_data"
    }
   ],
   "source": [
    "plt.figure(figsize=(16,6))\n",
    "plt.plot(prediction)\n",
    "plt.plot(predictions)"
   ]
  },
  {
   "cell_type": "code",
   "execution_count": null,
   "metadata": {},
   "outputs": [],
   "source": []
  },
  {
   "cell_type": "code",
   "execution_count": null,
   "metadata": {},
   "outputs": [],
   "source": []
  },
  {
   "cell_type": "code",
   "execution_count": 47,
   "metadata": {},
   "outputs": [
    {
     "data": {
      "text/html": [
       "<div>\n",
       "<style scoped>\n",
       "    .dataframe tbody tr th:only-of-type {\n",
       "        vertical-align: middle;\n",
       "    }\n",
       "\n",
       "    .dataframe tbody tr th {\n",
       "        vertical-align: top;\n",
       "    }\n",
       "\n",
       "    .dataframe thead th {\n",
       "        text-align: right;\n",
       "    }\n",
       "</style>\n",
       "<table border=\"1\" class=\"dataframe\">\n",
       "  <thead>\n",
       "    <tr style=\"text-align: right;\">\n",
       "      <th></th>\n",
       "      <th>Close_eurusd</th>\n",
       "      <th>trend</th>\n",
       "    </tr>\n",
       "    <tr>\n",
       "      <th>Local time</th>\n",
       "      <th></th>\n",
       "      <th></th>\n",
       "    </tr>\n",
       "  </thead>\n",
       "  <tbody>\n",
       "    <tr>\n",
       "      <th>13.04.2019 17:00:00.000 GMT+0200</th>\n",
       "      <td>1.13006</td>\n",
       "      <td>0.0</td>\n",
       "    </tr>\n",
       "    <tr>\n",
       "      <th>13.04.2019 18:00:00.000 GMT+0200</th>\n",
       "      <td>1.13006</td>\n",
       "      <td>0.0</td>\n",
       "    </tr>\n",
       "    <tr>\n",
       "      <th>13.04.2019 19:00:00.000 GMT+0200</th>\n",
       "      <td>1.13006</td>\n",
       "      <td>0.0</td>\n",
       "    </tr>\n",
       "    <tr>\n",
       "      <th>13.04.2019 20:00:00.000 GMT+0200</th>\n",
       "      <td>1.13006</td>\n",
       "      <td>0.0</td>\n",
       "    </tr>\n",
       "    <tr>\n",
       "      <th>13.04.2019 21:00:00.000 GMT+0200</th>\n",
       "      <td>1.13006</td>\n",
       "      <td>0.0</td>\n",
       "    </tr>\n",
       "  </tbody>\n",
       "</table>\n",
       "</div>"
      ],
      "text/plain": [
       "                                  Close_eurusd  trend\n",
       "Local time                                           \n",
       "13.04.2019 17:00:00.000 GMT+0200       1.13006    0.0\n",
       "13.04.2019 18:00:00.000 GMT+0200       1.13006    0.0\n",
       "13.04.2019 19:00:00.000 GMT+0200       1.13006    0.0\n",
       "13.04.2019 20:00:00.000 GMT+0200       1.13006    0.0\n",
       "13.04.2019 21:00:00.000 GMT+0200       1.13006    0.0"
      ]
     },
     "execution_count": 47,
     "metadata": {},
     "output_type": "execute_result"
    }
   ],
   "source": [
    "backtest = pd.DataFrame()\n",
    "backtest['Close_eurusd'] = df['Close_eurusd']\n",
    "backtest['trend'] = df['trend']\n",
    "backtest.index = df.index\n",
    "backtest.tail()"
   ]
  },
  {
   "cell_type": "code",
   "execution_count": 48,
   "metadata": {},
   "outputs": [
    {
     "data": {
      "text/plain": [
       "5593.0"
      ]
     },
     "execution_count": 48,
     "metadata": {},
     "output_type": "execute_result"
    }
   ],
   "source": [
    "backtest['trend'].sum()"
   ]
  },
  {
   "cell_type": "code",
   "execution_count": 52,
   "metadata": {},
   "outputs": [
    {
     "data": {
      "text/plain": [
       "(26313, 1)"
      ]
     },
     "execution_count": 52,
     "metadata": {},
     "output_type": "execute_result"
    }
   ],
   "source": [
    "len(prediction),prediction.sum()"
   ]
  },
  {
   "cell_type": "code",
   "execution_count": null,
   "metadata": {},
   "outputs": [],
   "source": []
  },
  {
   "cell_type": "code",
   "execution_count": 24,
   "metadata": {},
   "outputs": [
    {
     "data": {
      "text/html": [
       "<div>\n",
       "<style scoped>\n",
       "    .dataframe tbody tr th:only-of-type {\n",
       "        vertical-align: middle;\n",
       "    }\n",
       "\n",
       "    .dataframe tbody tr th {\n",
       "        vertical-align: top;\n",
       "    }\n",
       "\n",
       "    .dataframe thead th {\n",
       "        text-align: right;\n",
       "    }\n",
       "</style>\n",
       "<table border=\"1\" class=\"dataframe\">\n",
       "  <thead>\n",
       "    <tr style=\"text-align: right;\">\n",
       "      <th></th>\n",
       "      <th>trend</th>\n",
       "    </tr>\n",
       "    <tr>\n",
       "      <th>Local time</th>\n",
       "      <th></th>\n",
       "    </tr>\n",
       "  </thead>\n",
       "  <tbody>\n",
       "    <tr>\n",
       "      <th>13.04.2019 17:00:00.000 GMT+0200</th>\n",
       "      <td>0</td>\n",
       "    </tr>\n",
       "    <tr>\n",
       "      <th>13.04.2019 18:00:00.000 GMT+0200</th>\n",
       "      <td>0</td>\n",
       "    </tr>\n",
       "    <tr>\n",
       "      <th>13.04.2019 19:00:00.000 GMT+0200</th>\n",
       "      <td>0</td>\n",
       "    </tr>\n",
       "    <tr>\n",
       "      <th>13.04.2019 20:00:00.000 GMT+0200</th>\n",
       "      <td>0</td>\n",
       "    </tr>\n",
       "    <tr>\n",
       "      <th>13.04.2019 21:00:00.000 GMT+0200</th>\n",
       "      <td>0</td>\n",
       "    </tr>\n",
       "  </tbody>\n",
       "</table>\n",
       "</div>"
      ],
      "text/plain": [
       "                                  trend\n",
       "Local time                             \n",
       "13.04.2019 17:00:00.000 GMT+0200      0\n",
       "13.04.2019 18:00:00.000 GMT+0200      0\n",
       "13.04.2019 19:00:00.000 GMT+0200      0\n",
       "13.04.2019 20:00:00.000 GMT+0200      0\n",
       "13.04.2019 21:00:00.000 GMT+0200      0"
      ]
     },
     "execution_count": 24,
     "metadata": {},
     "output_type": "execute_result"
    }
   ],
   "source": [
    "trend_df = pd.DataFrame(trend,columns=['trend'])\n",
    "trend_df.index = df.index\n",
    "trend_df.tail()"
   ]
  },
  {
   "cell_type": "code",
   "execution_count": 25,
   "metadata": {},
   "outputs": [],
   "source": [
    "backtest = pd.concat((backtest,trend_df),axis=1)"
   ]
  },
  {
   "cell_type": "code",
   "execution_count": 26,
   "metadata": {},
   "outputs": [
    {
     "data": {
      "text/plain": [
       "(                                  Close_eurusd  trend\n",
       " Local time                                           \n",
       " 13.04.2019 17:00:00.000 GMT+0200       1.13006      0\n",
       " 13.04.2019 18:00:00.000 GMT+0200       1.13006      0\n",
       " 13.04.2019 19:00:00.000 GMT+0200       1.13006      0\n",
       " 13.04.2019 20:00:00.000 GMT+0200       1.13006      0\n",
       " 13.04.2019 21:00:00.000 GMT+0200       1.13006      0, trend    32\n",
       " dtype: int64, (131564, 2))"
      ]
     },
     "execution_count": 26,
     "metadata": {},
     "output_type": "execute_result"
    }
   ],
   "source": [
    "backtest.tail(),trend_df.sum(), backtest.shape"
   ]
  },
  {
   "cell_type": "code",
   "execution_count": 27,
   "metadata": {},
   "outputs": [],
   "source": [
    "backtest = backtest.iloc[118000:,:]"
   ]
  },
  {
   "cell_type": "code",
   "execution_count": 28,
   "metadata": {},
   "outputs": [],
   "source": [
    "base_test = df.iloc[118000:,:]"
   ]
  },
  {
   "cell_type": "code",
   "execution_count": 38,
   "metadata": {},
   "outputs": [
    {
     "data": {
      "text/html": [
       "<div>\n",
       "<style scoped>\n",
       "    .dataframe tbody tr th:only-of-type {\n",
       "        vertical-align: middle;\n",
       "    }\n",
       "\n",
       "    .dataframe tbody tr th {\n",
       "        vertical-align: top;\n",
       "    }\n",
       "\n",
       "    .dataframe thead th {\n",
       "        text-align: right;\n",
       "    }\n",
       "</style>\n",
       "<table border=\"1\" class=\"dataframe\">\n",
       "  <thead>\n",
       "    <tr style=\"text-align: right;\">\n",
       "      <th></th>\n",
       "      <th>Close_eurusd</th>\n",
       "      <th>trend</th>\n",
       "    </tr>\n",
       "    <tr>\n",
       "      <th>Local time</th>\n",
       "      <th></th>\n",
       "      <th></th>\n",
       "    </tr>\n",
       "  </thead>\n",
       "  <tbody>\n",
       "    <tr>\n",
       "      <th>25.09.2017 18:00:00.000 GMT+0200</th>\n",
       "      <td>1.18451</td>\n",
       "      <td>0</td>\n",
       "    </tr>\n",
       "    <tr>\n",
       "      <th>25.09.2017 19:00:00.000 GMT+0200</th>\n",
       "      <td>1.18407</td>\n",
       "      <td>0</td>\n",
       "    </tr>\n",
       "    <tr>\n",
       "      <th>25.09.2017 20:00:00.000 GMT+0200</th>\n",
       "      <td>1.18453</td>\n",
       "      <td>0</td>\n",
       "    </tr>\n",
       "    <tr>\n",
       "      <th>25.09.2017 21:00:00.000 GMT+0200</th>\n",
       "      <td>1.18482</td>\n",
       "      <td>0</td>\n",
       "    </tr>\n",
       "    <tr>\n",
       "      <th>25.09.2017 22:00:00.000 GMT+0200</th>\n",
       "      <td>1.18486</td>\n",
       "      <td>0</td>\n",
       "    </tr>\n",
       "  </tbody>\n",
       "</table>\n",
       "</div>"
      ],
      "text/plain": [
       "                                  Close_eurusd  trend\n",
       "Local time                                           \n",
       "25.09.2017 18:00:00.000 GMT+0200       1.18451      0\n",
       "25.09.2017 19:00:00.000 GMT+0200       1.18407      0\n",
       "25.09.2017 20:00:00.000 GMT+0200       1.18453      0\n",
       "25.09.2017 21:00:00.000 GMT+0200       1.18482      0\n",
       "25.09.2017 22:00:00.000 GMT+0200       1.18486      0"
      ]
     },
     "execution_count": 38,
     "metadata": {},
     "output_type": "execute_result"
    }
   ],
   "source": []
  },
  {
   "cell_type": "code",
   "execution_count": 35,
   "metadata": {},
   "outputs": [
    {
     "name": "stdout",
     "output_type": "stream",
     "text": [
      "\n",
      "\u001b[95m \u001b[1m Les gains faramineux s'élèvent à : $ 0 !. En  0  transactions.\n"
     ]
    }
   ],
   "source": [
    "trend_label = []\n",
    "trend_label4 = []\n",
    "var_list = [0]\n",
    "target = 0.001\n",
    "stop_loss = 0.015\n",
    "equity_list = [0]\n",
    "equity = 100000\n",
    "col_open_pos = [0]\n",
    "col_close_pos = [0]\n",
    "col_is_win = [0]\n",
    "col_profit = [0]\n",
    "col_cours = [0]\n",
    "max_gain = (0,0)\n",
    "max_loss = (0,0)\n",
    "pos = 0\n",
    "a = 0\n",
    "nb_transactions = 0\n",
    "\n",
    "for i in range(0,backtest.shape[0]):\n",
    "    candle_close = float(base_test.iloc[i,33])\n",
    "    candle_open = float(base_test.iloc[i,30])\n",
    "    candle_high = float(base_test.iloc[i,31])\n",
    "    candle_low = float(base_test.iloc[i,32])\n",
    "    trend = backtest.iloc[i,1]\n",
    "    \n",
    "    \n",
    "    if a == 0:\n",
    "        pos = 0\n",
    "    else:\n",
    "        pos = 1\n",
    "    \n",
    "    if trend == 1 and pos == 0:\n",
    "        a = 1\n",
    "        nb_transactions+=1\n",
    "        equity = equity - 1.5\n",
    "        price_buy = candle_open\n",
    "        var = candle_close-price_buy\n",
    "        col_open_pos.append(1)\n",
    "        equity_list.append(equity)\n",
    "        var_list.append(0)\n",
    "        col_cours.append(price_buy)\n",
    "        col_profit.append(0)\n",
    "        print('\\033[94m \\n',backtest.index[i])\n",
    "        print(\"\\033[94m Ouverture de position de $100,000\")\n",
    "        print(\"\\033[94m Prix d'achat =$\",price_buy)\n",
    "        \n",
    "        \n",
    "    \n",
    "    elif trend == 1 and pos == 1:\n",
    "        var_list.append(0)\n",
    "        equity_list.append(equity)\n",
    "        col_profit.append(0)\n",
    "    \n",
    "    elif trend == 0 and pos == 1:\n",
    "        var = candle_close-price_buy\n",
    "\n",
    "        if var > target :\n",
    "            price_sell = candle_close\n",
    "            a = 0\n",
    "            nb_transactions+=1\n",
    "            col_close_pos.append(1)\n",
    "            equity = equity - 1.5 + (price_sell-price_buy)*100000\n",
    "            \n",
    "            if (price_sell-price_buy)*100000 > max_gain[1]:\n",
    "                max_gain = (i,(price_sell-price_buy)*100000)\n",
    "                \n",
    "            elif (price_sell-price_buy)*100000 < max_loss[1]:\n",
    "                max_loss = (i,(price_sell-price_buy)*100000)\n",
    "                \n",
    "            equity_list.append(equity)\n",
    "            var_list.append(var)\n",
    "            col_cours.append(price_sell)\n",
    "            print('\\n\\033[92m \\n',backtest.index[i+1])\n",
    "            print(\"\\033[92m Cloture de position\")\n",
    "            print(\"\\033[92m Prix de cloture = $\",price_sell)\n",
    "            print('pnl : ',(price_sell-price_buy)*100000)\n",
    "            col_is_win.append(1)\n",
    "            col_profit.append((price_sell-price_buy)*100000)\n",
    "            \n",
    "            \n",
    "        elif var < stop_loss :\n",
    "            price_sell = candle_close\n",
    "            a = 0\n",
    "            nb_transactions+=1\n",
    "            col_close_pos.append(1)\n",
    "            equity = equity - 1.5 + (price_sell-price_buy)*100000\n",
    "            \n",
    "            if (price_sell-price_buy)*100000 > max_gain[1]:\n",
    "                max_gain = (i,(price_sell-price_buy)*100000)\n",
    "                \n",
    "            elif (price_sell-price_buy)*100000 < max_loss[1]:\n",
    "                max_loss = (i,(price_sell-price_buy)*100000)\n",
    "                \n",
    "                equity_list.append(equity)\n",
    "                var_list.append(var)\n",
    "                col_cours.append(price_sell)\n",
    "                print('\\n\\033[92m \\n',backtest.index[i+1])\n",
    "                print(\"\\033[92m Cloture de position\")\n",
    "                print(\"\\033[92m Prix de cloture = $\",price_sell)\n",
    "                print('pnl : ',(price_sell-price_buy)*100000)\n",
    "                col_profit.append((price_sell-price_buy)*100000)\n",
    "                col_is_win.append(0)\n",
    "        \n",
    "        elif var < target and var > stop_loss:\n",
    "            var_list.append(0)\n",
    "            equity_list.append(equity)\n",
    "            col_profit.append(0)\n",
    "            \n",
    "    elif trend == 0 and pos == 0:\n",
    "        var_list.append(0)\n",
    "        equity_list.append(equity)\n",
    "        col_profit.append(0)\n",
    "        \n",
    "        \n",
    "        \n",
    "        \n",
    "        \n",
    "        \n",
    "var_dtf = pd.DataFrame()\n",
    "var_dtf['Variations'] = var_list\n",
    "var_dtf['Equity'] = equity_list\n",
    "print(\"\\n\\033[95m \\033[1m Les gains faramineux s'élèvent à : $\",equity-100000,'!. En ',nb_transactions,' transactions.' )"
   ]
  },
  {
   "cell_type": "code",
   "execution_count": 103,
   "metadata": {},
   "outputs": [
    {
     "data": {
      "text/plain": [
       "(13565, 13565, 13565, 0.0, 0, 0)"
      ]
     },
     "execution_count": 103,
     "metadata": {},
     "output_type": "execute_result"
    }
   ],
   "source": [
    "len(equity_list),len(var_list),len(col_profit),backtest['trend'].sum(),nb_transactions,equity-100000"
   ]
  },
  {
   "cell_type": "code",
   "execution_count": 96,
   "metadata": {},
   "outputs": [],
   "source": [
    "gain_sum = 0\n",
    "loss_sum = 0\n",
    "for i in range(len(col_profit)):\n",
    "    if col_profit[i]>0:\n",
    "        gain_sum+=col_profit[i]\n",
    "    else :\n",
    "        loss_sum+=col_profit[i]\n",
    "        "
   ]
  },
  {
   "cell_type": "code",
   "execution_count": 97,
   "metadata": {},
   "outputs": [],
   "source": [
    "backtest_graph = pd.DataFrame()\n",
    "backtest_graph['equity'] = equity_list\n",
    "backtest_graph['col_profit'] = col_profit\n",
    "#backtest_graph['col_is_win'] = col_is_win\n",
    "#backtest_graph['col_cours'] = col_cours"
   ]
  },
  {
   "cell_type": "code",
   "execution_count": 98,
   "metadata": {},
   "outputs": [
    {
     "data": {
      "text/plain": [
       "<matplotlib.legend.Legend at 0x1127947f0>"
      ]
     },
     "execution_count": 98,
     "metadata": {},
     "output_type": "execute_result"
    },
    {
     "data": {
      "image/png": "[encoded data removed]",
      "text/plain": [
       "<Figure size 1152x432 with 1 Axes>"
      ]
     },
     "metadata": {
      "needs_background": "light"
     },
     "output_type": "display_data"
    }
   ],
   "source": [
    "plt.figure(figsize=(16,6))\n",
    "backtest_graph['equity'].plot(ylim=95000)\n",
    "plt.legend()"
   ]
  },
  {
   "cell_type": "code",
   "execution_count": 99,
   "metadata": {},
   "outputs": [
    {
     "data": {
      "text/plain": [
       "<matplotlib.legend.Legend at 0x113b5db38>"
      ]
     },
     "execution_count": 99,
     "metadata": {},
     "output_type": "execute_result"
    },
    {
     "data": {
      "image/png": "[encoded data removed]",
      "text/plain": [
       "<Figure size 1152x432 with 1 Axes>"
      ]
     },
     "metadata": {
      "needs_background": "light"
     },
     "output_type": "display_data"
    }
   ],
   "source": [
    "plt.figure(figsize=(16,6))\n",
    "plt.plot(backtest_graph['col_profit'])\n",
    "plt.scatter(max_gain[0],max_gain[1],c='y')\n",
    "plt.scatter(max_loss[0],max_loss[1],c='r')\n",
    "plt.legend()"
   ]
  },
  {
   "cell_type": "code",
   "execution_count": null,
   "metadata": {},
   "outputs": [],
   "source": []
  },
  {
   "cell_type": "code",
   "execution_count": 100,
   "metadata": {},
   "outputs": [
    {
     "name": "stdout",
     "output_type": "stream",
     "text": [
      "Score Train :  95.38 %\n",
      "Score Test :  100.0 %\n",
      "Transaction à $100,000\n",
      "Gain généré 0\n",
      "Nombre de transactions :  0\n",
      "Fees :  0.0\n",
      "Nombre de positions gagnées 0\n",
      "Nombre de positions perdues 0\n",
      "Gain maximal 0   0\n",
      "Perte maximale 0   0\n",
      "Moyenne du gain 0\n",
      "Somme de tous les gains 0\n",
      "Somme de tous le loss 0\n"
     ]
    },
    {
     "ename": "ZeroDivisionError",
     "evalue": "division by zero",
     "output_type": "error",
     "traceback": [
      "\u001b[0;31m---------------------------------------------------------------------------\u001b[0m",
      "\u001b[0;31mZeroDivisionError\u001b[0m                         Traceback (most recent call last)",
      "\u001b[0;32m<ipython-input-100-cd533bc95bce>\u001b[0m in \u001b[0;36m<module>\u001b[0;34m\u001b[0m\n\u001b[1;32m     12\u001b[0m \u001b[0mprint\u001b[0m\u001b[0;34m(\u001b[0m\u001b[0;34m'Somme de tous les gains'\u001b[0m\u001b[0;34m,\u001b[0m\u001b[0mround\u001b[0m\u001b[0;34m(\u001b[0m\u001b[0mgain_sum\u001b[0m\u001b[0;34m,\u001b[0m\u001b[0;36m2\u001b[0m\u001b[0;34m)\u001b[0m\u001b[0;34m)\u001b[0m\u001b[0;34m\u001b[0m\u001b[0;34m\u001b[0m\u001b[0m\n\u001b[1;32m     13\u001b[0m \u001b[0mprint\u001b[0m\u001b[0;34m(\u001b[0m\u001b[0;34m'Somme de tous le loss'\u001b[0m\u001b[0;34m,\u001b[0m\u001b[0mround\u001b[0m\u001b[0;34m(\u001b[0m\u001b[0mabs\u001b[0m\u001b[0;34m(\u001b[0m\u001b[0mloss_sum\u001b[0m\u001b[0;34m)\u001b[0m\u001b[0;34m,\u001b[0m\u001b[0;36m2\u001b[0m\u001b[0;34m)\u001b[0m\u001b[0;34m)\u001b[0m\u001b[0;34m\u001b[0m\u001b[0;34m\u001b[0m\u001b[0m\n\u001b[0;32m---> 14\u001b[0;31m \u001b[0mprint\u001b[0m\u001b[0;34m(\u001b[0m\u001b[0;34m'profit factor'\u001b[0m\u001b[0;34m,\u001b[0m\u001b[0mround\u001b[0m\u001b[0;34m(\u001b[0m\u001b[0mabs\u001b[0m\u001b[0;34m(\u001b[0m\u001b[0mgain_sum\u001b[0m\u001b[0;34m/\u001b[0m\u001b[0mloss_sum\u001b[0m\u001b[0;34m)\u001b[0m\u001b[0;34m,\u001b[0m\u001b[0;36m2\u001b[0m\u001b[0;34m)\u001b[0m\u001b[0;34m)\u001b[0m\u001b[0;34m\u001b[0m\u001b[0;34m\u001b[0m\u001b[0m\n\u001b[0m",
      "\u001b[0;31mZeroDivisionError\u001b[0m: division by zero"
     ]
    }
   ],
   "source": [
    "print('Score Train : ',score_train,'%')\n",
    "print('Score Test : ',score_test,'%')\n",
    "print('Transaction à $100,000')\n",
    "print('Gain généré',round(equity-100000,2))\n",
    "print('Nombre de transactions : ',nb_transactions)\n",
    "print('Fees : ',nb_transactions*1.5)\n",
    "print('Nombre de positions gagnées',sum(col_is_win))\n",
    "print('Nombre de positions perdues',sum(col_close_pos)-sum(col_is_win))\n",
    "print('Gain maximal',round(max(col_profit),2),' ',round(max_gain[1],2))\n",
    "print('Perte maximale',round(min(col_profit),2),' ',round(max_loss[1],2))\n",
    "print('Moyenne du gain',statistics.mean(col_profit))\n",
    "print('Somme de tous les gains',round(gain_sum,2))\n",
    "print('Somme de tous le loss',round(abs(loss_sum),2))\n",
    "print('profit factor',round(abs(gain_sum/loss_sum),2))\n"
   ]
  },
  {
   "cell_type": "code",
   "execution_count": 34,
   "metadata": {},
   "outputs": [],
   "source": [
    "# save the model to disk\n",
    "filename = 'finalized_model.sav'\n",
    "pickle.dump(boost, open(filename, 'wb'))"
   ]
  },
  {
   "cell_type": "code",
   "execution_count": null,
   "metadata": {},
   "outputs": [],
   "source": []
  },
  {
   "cell_type": "markdown",
   "metadata": {},
   "source": [
    "# load the model from disk\n",
    "loaded_model = pickle.load(open(filename, 'rb'))\n",
    "result = loaded_model.score(X_test, Y_test)\n",
    "print(result)"
   ]
  }
 ],
 "metadata": {
  "kernelspec": {
   "display_name": "Python 3",
   "language": "python",
   "name": "python3"
  },
  "language_info": {
   "codemirror_mode": {
    "name": "ipython",
    "version": 3
   },
   "file_extension": ".py",
   "mimetype": "text/x-python",
   "name": "python",
   "nbconvert_exporter": "python",
   "pygments_lexer": "ipython3",
   "version": "3.6.8"
  }
 },
 "nbformat": 4,
 "nbformat_minor": 2
}
