{
 "cells": [
  {
   "cell_type": "code",
   "execution_count": 1,
   "metadata": {},
   "outputs": [],
   "source": [
    "___Author___='LumberJack Jyss'"
   ]
  },
  {
   "cell_type": "code",
   "execution_count": 2,
   "metadata": {},
   "outputs": [
    {
     "name": "stdout",
     "output_type": "stream",
     "text": [
      "LumberJack BRUTAL AtidotCom REGLOG\n",
      "LumberJack Jyss (c)\n"
     ]
    }
   ],
   "source": [
    "print('LumberJack BRUTAL AtidotCom REGLOG\\nLumberJack Jyss (c)')"
   ]
  },
  {
   "cell_type": "code",
   "execution_count": 3,
   "metadata": {},
   "outputs": [
    {
     "name": "stdout",
     "output_type": "stream",
     "text": [
      "Importation des librairies...\n",
      "Librairies importées\n"
     ]
    }
   ],
   "source": [
    "print('Importation des librairies...')\n",
    "import statistics\n",
    "import pickle\n",
    "#import talib\n",
    "#import time\n",
    "#from datetime import date,datetime\n",
    "import numpy as np\n",
    "import pandas as pd\n",
    "#import xgboost as xgb\n",
    "#from xgboost import XGBClassifier\n",
    "from pandas.plotting import register_matplotlib_converters\n",
    "import pandas_datareader as web\n",
    "import matplotlib.pyplot as plt\n",
    "from sklearn.linear_model import LogisticRegression\n",
    "from sklearn.metrics import roc_auc_score\n",
    "from sklearn.metrics import roc_curve\n",
    "from sklearn import model_selection\n",
    "from sklearn.model_selection import cross_val_score\n",
    "from sklearn.model_selection import train_test_split\n",
    "import seaborn as sns\n",
    "%matplotlib inline\n",
    "print('Librairies importées')"
   ]
  },
  {
   "cell_type": "code",
   "execution_count": 4,
   "metadata": {},
   "outputs": [],
   "source": [
    "simanim = pd.read_csv('dataset_ready_to_use.csv')"
   ]
  },
  {
   "cell_type": "code",
   "execution_count": 5,
   "metadata": {},
   "outputs": [
    {
     "data": {
      "text/plain": [
       "(131566, 46)"
      ]
     },
     "execution_count": 5,
     "metadata": {},
     "output_type": "execute_result"
    }
   ],
   "source": [
    "simanim.shape"
   ]
  },
  {
   "cell_type": "code",
   "execution_count": 6,
   "metadata": {},
   "outputs": [],
   "source": [
    "simanim = simanim.dropna()"
   ]
  },
  {
   "cell_type": "code",
   "execution_count": 7,
   "metadata": {},
   "outputs": [
    {
     "data": {
      "text/html": [
       "<div>\n",
       "<style scoped>\n",
       "    .dataframe tbody tr th:only-of-type {\n",
       "        vertical-align: middle;\n",
       "    }\n",
       "\n",
       "    .dataframe tbody tr th {\n",
       "        vertical-align: top;\n",
       "    }\n",
       "\n",
       "    .dataframe thead th {\n",
       "        text-align: right;\n",
       "    }\n",
       "</style>\n",
       "<table border=\"1\" class=\"dataframe\">\n",
       "  <thead>\n",
       "    <tr style=\"text-align: right;\">\n",
       "      <th></th>\n",
       "      <th>Open_audusd</th>\n",
       "      <th>High_audusd</th>\n",
       "      <th>Low_audusd</th>\n",
       "      <th>Close_audusd</th>\n",
       "      <th>Volume_audusd</th>\n",
       "      <th>Open_usdjpy</th>\n",
       "      <th>High_usdjpy</th>\n",
       "      <th>Low_usdjpy</th>\n",
       "      <th>Close_usdjpy</th>\n",
       "      <th>Volume_usdjpy</th>\n",
       "      <th>...</th>\n",
       "      <th>Volume_eurusd</th>\n",
       "      <th>Macdsignal_eurusd</th>\n",
       "      <th>rsi_eurusd</th>\n",
       "      <th>BBup_eurusd</th>\n",
       "      <th>BBmid_eurusd</th>\n",
       "      <th>BBlow_eurusd</th>\n",
       "      <th>atr_eurusd</th>\n",
       "      <th>wclprince_eurusd</th>\n",
       "      <th>short</th>\n",
       "      <th>long</th>\n",
       "    </tr>\n",
       "    <tr>\n",
       "      <th>Local time</th>\n",
       "      <th></th>\n",
       "      <th></th>\n",
       "      <th></th>\n",
       "      <th></th>\n",
       "      <th></th>\n",
       "      <th></th>\n",
       "      <th></th>\n",
       "      <th></th>\n",
       "      <th></th>\n",
       "      <th></th>\n",
       "      <th></th>\n",
       "      <th></th>\n",
       "      <th></th>\n",
       "      <th></th>\n",
       "      <th></th>\n",
       "      <th></th>\n",
       "      <th></th>\n",
       "      <th></th>\n",
       "      <th></th>\n",
       "      <th></th>\n",
       "      <th></th>\n",
       "    </tr>\n",
       "  </thead>\n",
       "  <tbody>\n",
       "    <tr>\n",
       "      <th>10.04.2004 02:00:00.000 GMT+0200</th>\n",
       "      <td>0.76255</td>\n",
       "      <td>0.76255</td>\n",
       "      <td>0.76255</td>\n",
       "      <td>0.76255</td>\n",
       "      <td>0.0</td>\n",
       "      <td>106.39</td>\n",
       "      <td>106.39</td>\n",
       "      <td>106.39</td>\n",
       "      <td>106.39</td>\n",
       "      <td>0.0</td>\n",
       "      <td>...</td>\n",
       "      <td>0.0</td>\n",
       "      <td>-0.003009</td>\n",
       "      <td>37.355005</td>\n",
       "      <td>1.210666</td>\n",
       "      <td>1.209442</td>\n",
       "      <td>1.208217</td>\n",
       "      <td>0.001222</td>\n",
       "      <td>1.20888</td>\n",
       "      <td>0</td>\n",
       "      <td>1</td>\n",
       "    </tr>\n",
       "    <tr>\n",
       "      <th>10.04.2004 03:00:00.000 GMT+0200</th>\n",
       "      <td>0.76255</td>\n",
       "      <td>0.76255</td>\n",
       "      <td>0.76255</td>\n",
       "      <td>0.76255</td>\n",
       "      <td>0.0</td>\n",
       "      <td>106.39</td>\n",
       "      <td>106.39</td>\n",
       "      <td>106.39</td>\n",
       "      <td>106.39</td>\n",
       "      <td>0.0</td>\n",
       "      <td>...</td>\n",
       "      <td>0.0</td>\n",
       "      <td>-0.003035</td>\n",
       "      <td>37.355005</td>\n",
       "      <td>1.210610</td>\n",
       "      <td>1.209471</td>\n",
       "      <td>1.208331</td>\n",
       "      <td>0.001134</td>\n",
       "      <td>1.20888</td>\n",
       "      <td>0</td>\n",
       "      <td>0</td>\n",
       "    </tr>\n",
       "    <tr>\n",
       "      <th>10.04.2004 04:00:00.000 GMT+0200</th>\n",
       "      <td>0.76255</td>\n",
       "      <td>0.76255</td>\n",
       "      <td>0.76255</td>\n",
       "      <td>0.76255</td>\n",
       "      <td>0.0</td>\n",
       "      <td>106.39</td>\n",
       "      <td>106.39</td>\n",
       "      <td>106.39</td>\n",
       "      <td>106.39</td>\n",
       "      <td>0.0</td>\n",
       "      <td>...</td>\n",
       "      <td>0.0</td>\n",
       "      <td>-0.003060</td>\n",
       "      <td>37.355005</td>\n",
       "      <td>1.210553</td>\n",
       "      <td>1.209414</td>\n",
       "      <td>1.208275</td>\n",
       "      <td>0.001053</td>\n",
       "      <td>1.20888</td>\n",
       "      <td>0</td>\n",
       "      <td>0</td>\n",
       "    </tr>\n",
       "    <tr>\n",
       "      <th>10.04.2004 05:00:00.000 GMT+0200</th>\n",
       "      <td>0.76255</td>\n",
       "      <td>0.76255</td>\n",
       "      <td>0.76255</td>\n",
       "      <td>0.76255</td>\n",
       "      <td>0.0</td>\n",
       "      <td>106.39</td>\n",
       "      <td>106.39</td>\n",
       "      <td>106.39</td>\n",
       "      <td>106.39</td>\n",
       "      <td>0.0</td>\n",
       "      <td>...</td>\n",
       "      <td>0.0</td>\n",
       "      <td>-0.003084</td>\n",
       "      <td>37.355005</td>\n",
       "      <td>1.210526</td>\n",
       "      <td>1.209373</td>\n",
       "      <td>1.208219</td>\n",
       "      <td>0.000978</td>\n",
       "      <td>1.20888</td>\n",
       "      <td>0</td>\n",
       "      <td>0</td>\n",
       "    </tr>\n",
       "    <tr>\n",
       "      <th>10.04.2004 06:00:00.000 GMT+0200</th>\n",
       "      <td>0.76255</td>\n",
       "      <td>0.76255</td>\n",
       "      <td>0.76255</td>\n",
       "      <td>0.76255</td>\n",
       "      <td>0.0</td>\n",
       "      <td>106.39</td>\n",
       "      <td>106.39</td>\n",
       "      <td>106.39</td>\n",
       "      <td>106.39</td>\n",
       "      <td>0.0</td>\n",
       "      <td>...</td>\n",
       "      <td>0.0</td>\n",
       "      <td>-0.003107</td>\n",
       "      <td>37.355005</td>\n",
       "      <td>1.210429</td>\n",
       "      <td>1.209311</td>\n",
       "      <td>1.208192</td>\n",
       "      <td>0.000908</td>\n",
       "      <td>1.20888</td>\n",
       "      <td>0</td>\n",
       "      <td>0</td>\n",
       "    </tr>\n",
       "  </tbody>\n",
       "</table>\n",
       "<p>5 rows × 44 columns</p>\n",
       "</div>"
      ],
      "text/plain": [
       "                                  Open_audusd  High_audusd  Low_audusd  \\\n",
       "Local time                                                               \n",
       "10.04.2004 02:00:00.000 GMT+0200      0.76255      0.76255     0.76255   \n",
       "10.04.2004 03:00:00.000 GMT+0200      0.76255      0.76255     0.76255   \n",
       "10.04.2004 04:00:00.000 GMT+0200      0.76255      0.76255     0.76255   \n",
       "10.04.2004 05:00:00.000 GMT+0200      0.76255      0.76255     0.76255   \n",
       "10.04.2004 06:00:00.000 GMT+0200      0.76255      0.76255     0.76255   \n",
       "\n",
       "                                  Close_audusd  Volume_audusd  Open_usdjpy  \\\n",
       "Local time                                                                   \n",
       "10.04.2004 02:00:00.000 GMT+0200       0.76255            0.0       106.39   \n",
       "10.04.2004 03:00:00.000 GMT+0200       0.76255            0.0       106.39   \n",
       "10.04.2004 04:00:00.000 GMT+0200       0.76255            0.0       106.39   \n",
       "10.04.2004 05:00:00.000 GMT+0200       0.76255            0.0       106.39   \n",
       "10.04.2004 06:00:00.000 GMT+0200       0.76255            0.0       106.39   \n",
       "\n",
       "                                  High_usdjpy  Low_usdjpy  Close_usdjpy  \\\n",
       "Local time                                                                \n",
       "10.04.2004 02:00:00.000 GMT+0200       106.39      106.39        106.39   \n",
       "10.04.2004 03:00:00.000 GMT+0200       106.39      106.39        106.39   \n",
       "10.04.2004 04:00:00.000 GMT+0200       106.39      106.39        106.39   \n",
       "10.04.2004 05:00:00.000 GMT+0200       106.39      106.39        106.39   \n",
       "10.04.2004 06:00:00.000 GMT+0200       106.39      106.39        106.39   \n",
       "\n",
       "                                  Volume_usdjpy  ...  Volume_eurusd  \\\n",
       "Local time                                       ...                  \n",
       "10.04.2004 02:00:00.000 GMT+0200            0.0  ...            0.0   \n",
       "10.04.2004 03:00:00.000 GMT+0200            0.0  ...            0.0   \n",
       "10.04.2004 04:00:00.000 GMT+0200            0.0  ...            0.0   \n",
       "10.04.2004 05:00:00.000 GMT+0200            0.0  ...            0.0   \n",
       "10.04.2004 06:00:00.000 GMT+0200            0.0  ...            0.0   \n",
       "\n",
       "                                  Macdsignal_eurusd  rsi_eurusd  BBup_eurusd  \\\n",
       "Local time                                                                     \n",
       "10.04.2004 02:00:00.000 GMT+0200          -0.003009   37.355005     1.210666   \n",
       "10.04.2004 03:00:00.000 GMT+0200          -0.003035   37.355005     1.210610   \n",
       "10.04.2004 04:00:00.000 GMT+0200          -0.003060   37.355005     1.210553   \n",
       "10.04.2004 05:00:00.000 GMT+0200          -0.003084   37.355005     1.210526   \n",
       "10.04.2004 06:00:00.000 GMT+0200          -0.003107   37.355005     1.210429   \n",
       "\n",
       "                                  BBmid_eurusd  BBlow_eurusd  atr_eurusd  \\\n",
       "Local time                                                                 \n",
       "10.04.2004 02:00:00.000 GMT+0200      1.209442      1.208217    0.001222   \n",
       "10.04.2004 03:00:00.000 GMT+0200      1.209471      1.208331    0.001134   \n",
       "10.04.2004 04:00:00.000 GMT+0200      1.209414      1.208275    0.001053   \n",
       "10.04.2004 05:00:00.000 GMT+0200      1.209373      1.208219    0.000978   \n",
       "10.04.2004 06:00:00.000 GMT+0200      1.209311      1.208192    0.000908   \n",
       "\n",
       "                                  wclprince_eurusd  short  long  \n",
       "Local time                                                       \n",
       "10.04.2004 02:00:00.000 GMT+0200           1.20888      0     1  \n",
       "10.04.2004 03:00:00.000 GMT+0200           1.20888      0     0  \n",
       "10.04.2004 04:00:00.000 GMT+0200           1.20888      0     0  \n",
       "10.04.2004 05:00:00.000 GMT+0200           1.20888      0     0  \n",
       "10.04.2004 06:00:00.000 GMT+0200           1.20888      0     0  \n",
       "\n",
       "[5 rows x 44 columns]"
      ]
     },
     "execution_count": 7,
     "metadata": {},
     "output_type": "execute_result"
    }
   ],
   "source": [
    "simanim.set_index('Local time', inplace=True)\n",
    "# simanim = simanim.iloc[:,1:]\n",
    "simanim = simanim.iloc[:,1:]\n",
    "simanim.head()"
   ]
  },
  {
   "cell_type": "code",
   "execution_count": 8,
   "metadata": {},
   "outputs": [
    {
     "name": "stdout",
     "output_type": "stream",
     "text": [
      "Période d'étude :  131566\n",
      "Sur un découpage 80% - 20% de la période : \n",
      "Bloc 1 :  118409  jours \n",
      "Bloc 2 : 13157  jours\n"
     ]
    }
   ],
   "source": [
    "#delta = round((date(simanim.index[simanim.shape[0]-1].year,\\\n",
    " #                   simanim.index[simanim.shape[0]-1].month,simanim.index[simanim.shape[0]-1].day)\\\n",
    "  #             -date(simanim.index[0].year,simanim.index[0].month,simanim.index[0].day)).days)\n",
    "delta = simanim.shape[0]\n",
    "bloc1 = round(delta*0.9)\n",
    "bloc2 = delta - bloc1\n",
    "print(\"Période d'étude : \",delta)\n",
    "print('Sur un découpage 80% - 20% de la période : ')\n",
    "print('Bloc 1 : ',bloc1,' jours \\nBloc 2 :',bloc2,' jours')"
   ]
  },
  {
   "cell_type": "code",
   "execution_count": 9,
   "metadata": {},
   "outputs": [
    {
     "data": {
      "image/png": "[encoded data removed]",
      "text/plain": [
       "<Figure size 1152x432 with 2 Axes>"
      ]
     },
     "metadata": {
      "needs_background": "light"
     },
     "output_type": "display_data"
    }
   ],
   "source": [
    "plt.figure(figsize=(16,6))\n",
    "sns.heatmap(simanim.iloc[:,:-1].corr())\n",
    "plt.show()"
   ]
  },
  {
   "cell_type": "code",
   "execution_count": 10,
   "metadata": {},
   "outputs": [],
   "source": [
    "# SPLIT TRAIN ET TEST\n",
    "X = simanim.iloc[:,:-1]\n",
    "y = simanim.iloc[:,-1]\n",
    "#X_train, X_test, y_train, y_test = train_test_split(X, y, random_state=0)\n",
    "X_train = X.iloc[:bloc1,:]\n",
    "X_test = X.iloc[bloc1:,:]\n",
    "y_train = y.iloc[:bloc1]\n",
    "y_test = y.iloc[bloc1:]"
   ]
  },
  {
   "cell_type": "code",
   "execution_count": 14,
   "metadata": {},
   "outputs": [
    {
     "name": "stderr",
     "output_type": "stream",
     "text": [
      "/Users/YTsBaCh/Applications/anaconda3/envs/LumberJack/lib/python3.6/site-packages/statsmodels/discrete/discrete_model.py:1674: RuntimeWarning: overflow encountered in exp\n",
      "  return 1/(1+np.exp(-X))\n",
      "/Users/YTsBaCh/Applications/anaconda3/envs/LumberJack/lib/python3.6/site-packages/statsmodels/discrete/discrete_model.py:1724: RuntimeWarning: divide by zero encountered in log\n",
      "  return np.sum(np.log(self.cdf(q*np.dot(X,params))))\n",
      "/Users/YTsBaCh/Applications/anaconda3/envs/LumberJack/lib/python3.6/site-packages/scipy/optimize/optimize.py:1927: RuntimeWarning: invalid value encountered in double_scalars\n",
      "  tmp2 = (x - v) * (fx - fw)\n",
      "/Users/YTsBaCh/Applications/anaconda3/envs/LumberJack/lib/python3.6/site-packages/scipy/optimize/optimize.py:1932: RuntimeWarning: invalid value encountered in absolute\n",
      "  tmp2 = numpy.abs(tmp2)\n",
      "/Users/YTsBaCh/Applications/anaconda3/envs/LumberJack/lib/python3.6/site-packages/scipy/optimize/optimize.py:1928: RuntimeWarning: invalid value encountered in double_scalars\n",
      "  p = (x - v) * tmp2 - (x - w) * tmp1\n"
     ]
    },
    {
     "name": "stdout",
     "output_type": "stream",
     "text": [
      "Optimization terminated successfully.\n",
      "         Current function value: 0.035148\n",
      "         Iterations: 16\n",
      "         Function evaluations: 10738\n"
     ]
    },
    {
     "name": "stderr",
     "output_type": "stream",
     "text": [
      "/Users/YTsBaCh/Applications/anaconda3/envs/LumberJack/lib/python3.6/site-packages/statsmodels/base/model.py:488: HessianInversionWarning: Inverting hessian failed, no bse or cov_params available\n",
      "  'available', HessianInversionWarning)\n",
      "/Users/YTsBaCh/Applications/anaconda3/envs/LumberJack/lib/python3.6/site-packages/statsmodels/base/model.py:1108: RuntimeWarning: invalid value encountered in absolute\n",
      "  return stats.norm.sf(np.abs(self.tvalues)) * 2\n",
      "/Users/YTsBaCh/Applications/anaconda3/envs/LumberJack/lib/python3.6/site-packages/scipy/stats/_distn_infrastructure.py:879: RuntimeWarning: invalid value encountered in greater\n",
      "  return (self.a < x) & (x < self.b)\n",
      "/Users/YTsBaCh/Applications/anaconda3/envs/LumberJack/lib/python3.6/site-packages/scipy/stats/_distn_infrastructure.py:879: RuntimeWarning: invalid value encountered in less\n",
      "  return (self.a < x) & (x < self.b)\n",
      "/Users/YTsBaCh/Applications/anaconda3/envs/LumberJack/lib/python3.6/site-packages/scipy/stats/_distn_infrastructure.py:1821: RuntimeWarning: invalid value encountered in less_equal\n",
      "  cond2 = cond0 & (x <= self.a)\n"
     ]
    },
    {
     "name": "stdout",
     "output_type": "stream",
     "text": [
      "                         Results: Logit\n",
      "================================================================\n",
      "Model:              Logit            Pseudo R-squared: 0.172    \n",
      "Dependent Variable: y                AIC:              9330.6559\n",
      "Date:               2019-04-19 00:23 BIC:              9731.9337\n",
      "No. Observations:   131566           Log-Likelihood:   -4624.3  \n",
      "Df Model:           40               LL-Null:          -5586.5  \n",
      "Df Residuals:       131525           LLR p-value:      0.0000   \n",
      "Converged:          1.0000           Scale:            1.0000   \n",
      "No. Iterations:     16.0000                                     \n",
      "-------------------------------------------------------------------\n",
      "            Coef.      Std.Err.     z     P>|z|    [0.025    0.975]\n",
      "-------------------------------------------------------------------\n",
      "x1          -5.9893         nan    nan      nan       nan       nan\n",
      "x2          -0.5706         nan    nan      nan       nan       nan\n",
      "x3          -0.0240         nan    nan      nan       nan       nan\n",
      "x4           0.0026         nan    nan      nan       nan       nan\n",
      "x5           0.0000         nan    nan      nan       nan       nan\n",
      "x6          -0.0327         nan    nan      nan       nan       nan\n",
      "x7          -0.0147         nan    nan      nan       nan       nan\n",
      "x8          -0.0003         nan    nan      nan       nan       nan\n",
      "x9           0.0003         nan    nan      nan       nan       nan\n",
      "x10         -0.0000         nan    nan      nan       nan       nan\n",
      "x11          3.0200         nan    nan      nan       nan       nan\n",
      "x12         -0.0038         nan    nan      nan       nan       nan\n",
      "x13         -0.0154         nan    nan      nan       nan       nan\n",
      "x14          0.0026         nan    nan      nan       nan       nan\n",
      "x15          0.0000         nan    nan      nan       nan       nan\n",
      "x16         -1.0536         nan    nan      nan       nan       nan\n",
      "x17          0.0237         nan    nan      nan       nan       nan\n",
      "x18         -0.0776         nan    nan      nan       nan       nan\n",
      "x19          0.0272         nan    nan      nan       nan       nan\n",
      "x20          0.0000         nan    nan      nan       nan       nan\n",
      "x21         -3.5626         nan    nan      nan       nan       nan\n",
      "x22         -0.1009         nan    nan      nan       nan       nan\n",
      "x23         -0.0323         nan    nan      nan       nan       nan\n",
      "x24          0.0197         nan    nan      nan       nan       nan\n",
      "x25         -0.0000         nan    nan      nan       nan       nan\n",
      "x26          1.7472         nan    nan      nan       nan       nan\n",
      "x27          0.0262         nan    nan      nan       nan       nan\n",
      "x28         -0.0436         nan    nan      nan       nan       nan\n",
      "x29          0.0297         nan    nan      nan       nan       nan\n",
      "x30          0.0000         nan    nan      nan       nan       nan\n",
      "x31          2.6253         nan    nan      nan       nan       nan\n",
      "x32         -0.0031         nan    nan      nan       nan       nan\n",
      "x33         -0.0270         nan    nan      nan       nan       nan\n",
      "x34          0.0042         nan    nan      nan       nan       nan\n",
      "x35          0.0000         nan    nan      nan       nan       nan\n",
      "x36        -24.6843         nan    nan      nan       nan       nan\n",
      "x37          0.0607         nan    nan      nan       nan       nan\n",
      "x38         -3.0782         nan    nan      nan       nan       nan\n",
      "x39          0.0176         nan    nan      nan       nan       nan\n",
      "x40          0.0202         nan    nan      nan       nan       nan\n",
      "x41        -41.3082         nan    nan      nan       nan       nan\n",
      "x42          0.0940         nan    nan      nan       nan       nan\n",
      "x43        -50.6103         nan    nan      nan       nan       nan\n",
      "================================================================\n",
      "\n"
     ]
    }
   ],
   "source": [
    "import statsmodels.api as sm\n",
    "logit_model=sm.Logit(y.values,X.values)\n",
    "result=logit_model.fit(\n",
    "    start_params=None,\n",
    "    method='powell',\n",
    "    maxiter=350,\n",
    "    full_output=True,\n",
    "    retall=True,\n",
    "    disp=1,\n",
    "    callback=None,\n",
    "    missing='drop'\n",
    ")\n",
    "print(result.summary2())"
   ]
  },
  {
   "cell_type": "markdown",
   "metadata": {},
   "source": [
    "from sklearn.metrics import roc_auc_score\n",
    "from sklearn.metrics import roc_curve\n",
    "logit_roc_auc = roc_auc_score(y_test, logreg.predict(X_test))\n",
    "fpr, tpr, thresholds = roc_curve(y_test, logreg.predict_proba(X_test)[:,1])\n",
    "plt.figure()\n",
    "plt.plot(fpr, tpr, label='Logistic Regression (area = %0.2f)' % logit_roc_auc)\n",
    "plt.plot([0, 1], [0, 1],'r--')\n",
    "plt.xlim([0.0, 1.0])\n",
    "plt.ylim([0.0, 1.05])\n",
    "plt.xlabel('False Positive Rate')\n",
    "plt.ylabel('True Positive Rate')\n",
    "plt.title('Receiver operating characteristic')\n",
    "plt.legend(loc=\"lower right\")\n",
    "plt.savefig('Log_ROC')\n",
    "plt.show()"
   ]
  },
  {
   "cell_type": "code",
   "execution_count": null,
   "metadata": {},
   "outputs": [
    {
     "name": "stderr",
     "output_type": "stream",
     "text": [
      "[Parallel(n_jobs=-1)]: Using backend LokyBackend with 8 concurrent workers.\n"
     ]
    }
   ],
   "source": [
    "classifier = LogisticRegression(\n",
    "    penalty='l2',\n",
    "    dual=False,\n",
    "    tol=0.001,\n",
    "    C=1,\n",
    "    fit_intercept=True,\n",
    "    intercept_scaling=1,\n",
    "    class_weight=None,\n",
    "    random_state=None,\n",
    "    solver='newton-cg',\n",
    "    max_iter=1000,\n",
    "    multi_class='ovr',\n",
    "    verbose=1,\n",
    "    warm_start=False,\n",
    "    n_jobs=-1,\n",
    ")\n",
    "classifier.fit(X_train, y_train)"
   ]
  },
  {
   "cell_type": "code",
   "execution_count": null,
   "metadata": {},
   "outputs": [],
   "source": [
    "type(y_pred),len(y_pred),len(X_test),type(X_test)"
   ]
  },
  {
   "cell_type": "code",
   "execution_count": null,
   "metadata": {},
   "outputs": [],
   "source": [
    "y_pred = classifier.predict(X_test)"
   ]
  },
  {
   "cell_type": "code",
   "execution_count": null,
   "metadata": {},
   "outputs": [],
   "source": [
    "from sklearn.metrics import confusion_matrix\n",
    "confusion_matrix = confusion_matrix(y_test, y_pred)\n",
    "print(confusion_matrix)"
   ]
  },
  {
   "cell_type": "code",
   "execution_count": null,
   "metadata": {},
   "outputs": [],
   "source": [
    "print('Accuracy de la regression logistique sue le test set: {:.2f}%'.format(classifier.score(X_test, y_test)*100))"
   ]
  },
  {
   "cell_type": "code",
   "execution_count": null,
   "metadata": {},
   "outputs": [],
   "source": [
    "from sklearn.metrics import classification_report,accuracy_score\n",
    "print(classification_report(y_test, y_pred))\n",
    "print(accuracy_score(y_test, y_pred)*100,'%')"
   ]
  },
  {
   "cell_type": "code",
   "execution_count": null,
   "metadata": {},
   "outputs": [],
   "source": [
    "np.unique(y_pred, return_counts=True)"
   ]
  },
  {
   "cell_type": "code",
   "execution_count": null,
   "metadata": {},
   "outputs": [],
   "source": [
    "backtest = simanim[['Close_eurusd','trend']]\n",
    "backtest.index = simanim.index"
   ]
  },
  {
   "cell_type": "code",
   "execution_count": null,
   "metadata": {},
   "outputs": [],
   "source": [
    "backtest.head()"
   ]
  },
  {
   "cell_type": "code",
   "execution_count": 82,
   "metadata": {},
   "outputs": [
    {
     "name": "stdout",
     "output_type": "stream",
     "text": [
      "\n",
      "\u001b[95m \u001b[1m Les gains faramineux s'élèvent à : $ 16353.0 !. En  5318  transactions.\n"
     ]
    }
   ],
   "source": [
    "equity = 100000\n",
    "pos = 0\n",
    "nb_transactions = 0\n",
    "backtest_graph = pd.DataFrame()\n",
    "col_equity = [100000]\n",
    "col_open_pos = [0]\n",
    "col_close_pos = [0]\n",
    "col_is_win = [0]\n",
    "col_profit = [0]\n",
    "col_cours = [0]\n",
    "max_gross = (0,0)\n",
    "max_loss = (0,0)\n",
    "trend = backtest.iloc[i,1]\n",
    "\n",
    "for i in range (backtest.shape[0]-6):\n",
    "    \n",
    "    jour_0 = backtest.iloc[i,0]\n",
    "    jour_1 = backtest.iloc[i+1,0]\n",
    "    jour_2 = backtest.iloc[i+2,0]\n",
    "    jour_3 = backtest.iloc[i+3,0]\n",
    "    jour_4 = backtest.iloc[i+4,0]\n",
    "    jour_5 = backtest.iloc[i+5,0]\n",
    "    trend = backtest.iloc[i,1]\n",
    "    \n",
    "    pip_1 = (jour_1-jour_0)\n",
    "    pip_2 = (jour_2-jour_0)\n",
    "    pip_3 = (jour_3-jour_0)\n",
    "    pip_4 = (jour_4-jour_0)\n",
    "    pip_5 = (jour_5-jour_0)\n",
    "    \n",
    "    \n",
    "    \n",
    "    \n",
    "    if trend == 0:\n",
    "        pass\n",
    "    else:\n",
    "        \n",
    "        if trend == 1 and pos ==0 :\n",
    "            nb_transactions+=1\n",
    "            price_buy = jour_0\n",
    "            pos = 1\n",
    "            col_open_pos.append(1)\n",
    "            #col_cours.append(price_buy)\n",
    "            #print('\\033[94m \\n',backtest.index[i])\n",
    "            #print(\"\\033[94m Ouverture de position de $100,000\")\n",
    "            #print(\"\\033[94m Prix d'achat =$\",price_buy)\n",
    "            \n",
    "            \n",
    "            if pip_1 > 0.003 and pos == 1 or pip_1 < -0.0015 : \n",
    "                price_sell  = jour_1\n",
    "                pos = 0\n",
    "                nb_transactions+=1\n",
    "                equity = equity + (price_sell-price_buy)*100000\n",
    "                if (price_sell-price_buy)*100000 > max_gross[1]:\n",
    "                    max_gross = (nb_transactions-len(col_close_pos),(price_sell-price_buy)*100000)\n",
    "                elif (price_sell-price_buy)*100000 < max_loss[1]:\n",
    "                    max_loss = (nb_transactions-len(col_close_pos),(price_sell-price_buy)*100000)\n",
    "                col_close_pos.append(1)\n",
    "                col_equity.append(equity)\n",
    "                col_cours.append(price_sell)\n",
    "                if pip_1 > 0:\n",
    "                    col_is_win.append(1)\n",
    "                    col_profit.append((price_sell-price_buy)*100000)\n",
    "                else :\n",
    "                    col_profit.append((price_sell-price_buy)*100000)\n",
    "                    col_is_win.append(0)\n",
    "                #print('\\n\\033[92m \\n',backtest.index[i+1])\n",
    "                #print(\"\\033[92m Cloture de position\")\n",
    "                #print(\"\\033[92m Prix de cloture = $\",price_sell)\n",
    "                #print('pnl en 1 minute : ',(price_sell-price_buy)*100000)\n",
    "            elif pip_2 > 0.003 and pos == 1 or pip_2 < -0.0015 : \n",
    "                price_sell  = jour_2\n",
    "                pos = 0\n",
    "                nb_transactions+=1\n",
    "                equity = equity + (price_sell-price_buy)*100000\n",
    "                if (price_sell-price_buy)*100000 > max_gross[1]:\n",
    "                    max_gross = (nb_transactions-len(col_close_pos),(price_sell-price_buy)*100000)\n",
    "                elif (price_sell-price_buy)*100000 < max_loss[1]:\n",
    "                    max_loss = (nb_transactions-len(col_close_pos),(price_sell-price_buy)*100000)\n",
    "                col_close_pos.append(1)\n",
    "                col_equity.append(equity)\n",
    "                col_cours.append(price_sell)\n",
    "                if pip_2 > 0:\n",
    "                    col_is_win.append(1)\n",
    "                    col_profit.append((price_sell-price_buy)*100000)\n",
    "                else :\n",
    "                    col_profit.append((price_sell-price_buy)*100000)\n",
    "                    col_is_win.append(0)\n",
    "                #print('\\033[92m',backtest.index[i+2])\n",
    "                #print(\"\\033[92m Vente\")\n",
    "                #print(\"\\033[92m Prix de cloture = $\",price_sell)\n",
    "                #print('pnl en 2 minutes ',(price_sell-price_buy)*100000)\n",
    "            elif pip_3 > 0.003 and pos == 1 or pip_3 < -0.0015 : \n",
    "                price_sell  = jour_3\n",
    "                pos = 0\n",
    "                nb_transactions+=1\n",
    "                equity = equity + (price_sell-price_buy)*100000\n",
    "                if (price_sell-price_buy)*100000 > max_gross[1]:\n",
    "                    max_gross = (nb_transactions-len(col_close_pos),(price_sell-price_buy)*100000)\n",
    "                elif (price_sell-price_buy)*100000 < max_loss[1]:\n",
    "                    max_loss = (nb_transactions-len(col_close_pos),(price_sell-price_buy)*100000)\n",
    "                col_close_pos.append(1)\n",
    "                col_equity.append(equity)\n",
    "                col_cours.append(price_sell)\n",
    "                if pip_3 > 0:\n",
    "                    col_is_win.append(1)\n",
    "                    col_profit.append((price_sell-price_buy)*100000)\n",
    "                else :\n",
    "                    col_profit.append((price_sell-price_buy)*100000)\n",
    "                    col_is_win.append(0)\n",
    "                #print('\\033[92m',backtest.index[i+3])\n",
    "                #print(\"\\033[92m Vente\")\n",
    "                #print(\"\\033[92m Prix de cloture = $\",price_sell)\n",
    "                #print('pnl en 3 minutes ',(price_sell-price_buy)*100000)\n",
    "            elif pip_4 > 0.003 and pos == 1 or pip_4 < -0.0015 : \n",
    "                price_sell  = jour_4\n",
    "                pos = 0\n",
    "                nb_transactions+=1\n",
    "                equity = equity + (price_sell-price_buy)*100000\n",
    "                if (price_sell-price_buy)*100000 > max_gross[1]:\n",
    "                    max_gross = (nb_transactions-len(col_close_pos),(price_sell-price_buy)*100000)\n",
    "                elif (price_sell-price_buy)*100000 < max_loss[1]:\n",
    "                    max_loss = (nb_transactions-len(col_close_pos),(price_sell-price_buy)*100000)\n",
    "                col_close_pos.append(1)\n",
    "                col_equity.append(equity)\n",
    "                col_cours.append(price_sell)\n",
    "                if pip_4 > 0:\n",
    "                    col_is_win.append(1)\n",
    "                    col_profit.append((price_sell-price_buy)*100000)\n",
    "                else :\n",
    "                    col_profit.append((price_sell-price_buy)*100000)\n",
    "                    col_is_win.append(0)\n",
    "                #print('\\033[92m',backtest.index[i+4])\n",
    "                #print(\"\\033[92m Vente\")\n",
    "                #print(\"\\033[92m Prix de cloture = $\",price_sell)\n",
    "                #print('pnl en 4 minutes ',(price_sell-price_buy)*100000)\n",
    "            else : \n",
    "                price_sell  = jour_5\n",
    "                pos = 0\n",
    "                nb_transactions+=1\n",
    "                equity = equity + (price_sell-price_buy)*100000\n",
    "                if (price_sell-price_buy)*100000 > max_gross[1]:\n",
    "                    max_gross = (nb_transactions-len(col_close_pos),(price_sell-price_buy)*100000)\n",
    "                elif (price_sell-price_buy)*100000 < max_loss[1]:\n",
    "                    max_loss = (nb_transactions-len(col_close_pos),(price_sell-price_buy)*100000)\n",
    "                col_close_pos.append(1)\n",
    "                col_equity.append(equity)\n",
    "                col_cours.append(price_sell)\n",
    "                if pip_5 > 0:\n",
    "                    col_is_win.append(1)\n",
    "                    col_profit.append((price_sell-price_buy)*100000)\n",
    "                else :\n",
    "                    col_profit.append((price_sell-price_buy)*100000)\n",
    "                    col_is_win.append(0)\n",
    "                #print('\\033[92m',backtest.index[i+5])\n",
    "                #print(\"\\033[92m Prix de cloture = $\",price_sell)\n",
    "                #print(\"\\033[92m Nouvelle balance equity = $ \\033[4m\",equity)\n",
    "                #print('pnl en 5 minutes ',(price_sell-price_buy)*100000)\n",
    "print(\"\\n\\033[95m \\033[1m Les gains faramineux s'élèvent à : $\",equity-100000,'!. En ',nb_transactions,' transactions.' )"
   ]
  },
  {
   "cell_type": "code",
   "execution_count": 83,
   "metadata": {},
   "outputs": [],
   "source": [
    "gross_sum = 0\n",
    "loss_sum = 0\n",
    "for i in range(len(col_profit)):\n",
    "    if col_profit[i]>0:\n",
    "        gross_sum+=col_profit[i]\n",
    "    else :\n",
    "        loss_sum+=col_profit[i]\n",
    "        "
   ]
  },
  {
   "cell_type": "code",
   "execution_count": 84,
   "metadata": {},
   "outputs": [],
   "source": [
    "backtest_graph['equity'] = col_equity\n",
    "backtest_graph['col_profit'] = col_profit\n",
    "backtest_graph['col_is_win'] = col_is_win\n",
    "backtest_graph['col_cours'] = col_cours"
   ]
  },
  {
   "cell_type": "code",
   "execution_count": 85,
   "metadata": {},
   "outputs": [
    {
     "data": {
      "text/plain": [
       "<matplotlib.legend.Legend at 0x11a9919b0>"
      ]
     },
     "execution_count": 85,
     "metadata": {},
     "output_type": "execute_result"
    },
    {
     "data": {
      "image/png": "[encoded data removed]",
      "text/plain": [
       "<Figure size 1152x432 with 1 Axes>"
      ]
     },
     "metadata": {
      "needs_background": "light"
     },
     "output_type": "display_data"
    }
   ],
   "source": [
    "plt.figure(figsize=(16,6))\n",
    "backtest_graph['equity'].plot()\n",
    "plt.legend()"
   ]
  },
  {
   "cell_type": "code",
   "execution_count": 87,
   "metadata": {},
   "outputs": [
    {
     "data": {
      "text/plain": [
       "<matplotlib.legend.Legend at 0x11a90c4a8>"
      ]
     },
     "execution_count": 87,
     "metadata": {},
     "output_type": "execute_result"
    },
    {
     "data": {
      "image/png": "[encoded data removed]",
      "text/plain": [
       "<Figure size 1152x432 with 1 Axes>"
      ]
     },
     "metadata": {
      "needs_background": "light"
     },
     "output_type": "display_data"
    }
   ],
   "source": [
    "plt.figure(figsize=(16,6))\n",
    "plt.plot(backtest_graph['col_profit'])\n",
    "plt.scatter(max_gross[0],max_gross[1],c='g')\n",
    "plt.scatter(max_loss[0],max_loss[1],c='r')\n",
    "plt.legend()"
   ]
  },
  {
   "cell_type": "code",
   "execution_count": null,
   "metadata": {},
   "outputs": [],
   "source": []
  },
  {
   "cell_type": "code",
   "execution_count": 88,
   "metadata": {},
   "outputs": [
    {
     "name": "stdout",
     "output_type": "stream",
     "text": [
      "Transaction à $100,000\n",
      "Gain généré 16353.0\n",
      "Nombre de transactions :  5318\n",
      "Nombre de positions ouvertes 2659\n",
      "Nombre de positions fermées 2659\n",
      "Nombre de positions gagnées 1169\n",
      "Nombre de positions perdues 1490\n",
      "Gain maximal 1991.0   1991.0\n",
      "Perte maximale -2550.0   -2550.0\n",
      "Moyenne du gain 6.1477443609\n",
      "Somme de tous les gains 422084.0\n",
      "Somme de tous le loss 405731.0\n",
      "profit factor 1.04030502969\n"
     ]
    }
   ],
   "source": [
    "print('Transaction à $100,000')\n",
    "print('Gain généré',equity-100000)\n",
    "print('Nombre de transactions : ',nb_transactions)\n",
    "print('Nombre de positions ouvertes',sum(col_open_pos))\n",
    "print('Nombre de positions fermées',sum(col_close_pos))\n",
    "print('Nombre de positions gagnées',sum(col_is_win))\n",
    "print('Nombre de positions perdues',sum(col_close_pos)-sum(col_is_win))\n",
    "print('Gain maximal',max(col_profit),' ',max_gross[1])\n",
    "print('Perte maximale',min(col_profit),' ',max_loss[1])\n",
    "print('Moyenne du gain',statistics.mean(col_profit))\n",
    "print('Somme de tous les gains',gross_sum)\n",
    "print('Somme de tous le loss',abs(loss_sum))\n",
    "print('profit factor',abs(gross_sum/loss_sum))\n"
   ]
  },
  {
   "cell_type": "code",
   "execution_count": null,
   "metadata": {},
   "outputs": [],
   "source": []
  },
  {
   "cell_type": "code",
   "execution_count": null,
   "metadata": {},
   "outputs": [],
   "source": []
  },
  {
   "cell_type": "code",
   "execution_count": null,
   "metadata": {},
   "outputs": [],
   "source": []
  },
  {
   "cell_type": "code",
   "execution_count": null,
   "metadata": {},
   "outputs": [],
   "source": []
  },
  {
   "cell_type": "code",
   "execution_count": null,
   "metadata": {},
   "outputs": [],
   "source": []
  },
  {
   "cell_type": "code",
   "execution_count": null,
   "metadata": {},
   "outputs": [],
   "source": []
  },
  {
   "cell_type": "code",
   "execution_count": null,
   "metadata": {},
   "outputs": [],
   "source": []
  },
  {
   "cell_type": "code",
   "execution_count": null,
   "metadata": {},
   "outputs": [],
   "source": []
  },
  {
   "cell_type": "code",
   "execution_count": 76,
   "metadata": {},
   "outputs": [],
   "source": [
    "# save the model to disk\n",
    "filename = 'finalized_model.sav'\n",
    "pickle.dump(logit_model, open(filename, 'wb'))"
   ]
  },
  {
   "cell_type": "code",
   "execution_count": 1,
   "metadata": {},
   "outputs": [
    {
     "data": {
      "text/plain": [
       "129600"
      ]
     },
     "execution_count": 1,
     "metadata": {},
     "output_type": "execute_result"
    }
   ],
   "source": []
  },
  {
   "cell_type": "markdown",
   "metadata": {},
   "source": [
    "# load the model from disk\n",
    "loaded_model = pickle.load(open(filename, 'rb'))\n",
    "result = loaded_model.score(X_test, Y_test)\n",
    "print(result)"
   ]
  }
 ],
 "metadata": {
  "kernelspec": {
   "display_name": "Python 3",
   "language": "python",
   "name": "python3"
  },
  "language_info": {
   "codemirror_mode": {
    "name": "ipython",
    "version": 3
   },
   "file_extension": ".py",
   "mimetype": "text/x-python",
   "name": "python",
   "nbconvert_exporter": "python",
   "pygments_lexer": "ipython3",
   "version": "3.6.8"
  }
 },
 "nbformat": 4,
 "nbformat_minor": 2
}
