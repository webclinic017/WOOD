{
 "cells": [
  {
   "cell_type": "code",
   "execution_count": 85,
   "metadata": {},
   "outputs": [],
   "source": [
    "___Author___='LumberJack Jyss'"
   ]
  },
  {
   "cell_type": "code",
   "execution_count": 2,
   "metadata": {},
   "outputs": [
    {
     "name": "stdout",
     "output_type": "stream",
     "text": [
      "LumberJack Trading Predictor Model\n",
      "LumberJack Jyss (c)\n"
     ]
    }
   ],
   "source": [
    "print('LumberJack Trading Predictor Model\\nLumberJack Jyss (c)')"
   ]
  },
  {
   "cell_type": "markdown",
   "metadata": {},
   "source": [
    "## IMPORT DES LIBRAIRIES"
   ]
  },
  {
   "cell_type": "code",
   "execution_count": 3,
   "metadata": {},
   "outputs": [],
   "source": [
    "from python_utils import *\n",
    "import time\n",
    "import numpy as np\n",
    "import pandas as pd\n",
    "from mxnet import nd, autograd, gluon\n",
    "from mxnet.gluon import nn, rnn\n",
    "import mxnet as mx\n",
    "import datetime\n",
    "import seaborn as sns\n",
    "import matplotlib.pyplot as plt\n",
    "%matplotlib inline\n",
    "from sklearn.decomposition import PCA\n",
    "import math\n",
    "from sklearn.preprocessing import MinMaxScaler\n",
    "from sklearn.metrics import mean_squared_error\n",
    "from sklearn.preprocessing import StandardScaler\n",
    "import xgboost as xgb\n",
    "from sklearn.metrics import accuracy_score\n",
    "import warnings\n",
    "import pandas_datareader as web"
   ]
  },
  {
   "cell_type": "markdown",
   "metadata": {},
   "source": [
    "## PREPARATION DU DATASET"
   ]
  },
  {
   "cell_type": "markdown",
   "metadata": {},
   "source": [
    "Il nous faut récupérer sur une période donnée : \n",
    "\n",
    "EURUSD (OUTPUT) | USDJPY | USDCAD | USDGBP\n",
    "\n",
    "\n",
    "NIKKEI225 | EUROSTOXX50 | FTSE100 | VIX | GLD | SLV | USO\n",
    "\n",
    "\n",
    "Sur ces indices\n",
    "\n",
    "MM8 => Moving Mean 8D | MM34 => Moving Mean 34D | RSI | MACD | BOLLINGER (modifié) [On currencies & stocks]"
   ]
  },
  {
   "cell_type": "code",
   "execution_count": 43,
   "metadata": {},
   "outputs": [
    {
     "name": "stdout",
     "output_type": "stream",
     "text": [
      "Setting the data\n",
      "Période d'étude :  365\n",
      "Sur un découpage 80% - 20% de la période : \n",
      "Bloc 1 :  292  jours \n",
      "Bloc 2 : 73  jours\n",
      "Note : On change de règles de calculs, car tous les jours ne sont pas ouvrés\n"
     ]
    }
   ],
   "source": [
    "# PARAMETRES TEMPORELS\n",
    "print('Setting the data')\n",
    "start = pd.to_datetime('2018-03-03')\n",
    "end = pd.to_datetime('2019-03-03')\n",
    "delta = round((end-start).days)\n",
    "bloc1 = round(delta*0.8)\n",
    "bloc2 = delta - bloc1\n",
    "print(\"Période d'étude : \",delta)\n",
    "print('Sur un découpage 80% - 20% de la période : ')\n",
    "print('Bloc 1 : ',bloc1,' jours \\nBloc 2 :',bloc2,' jours')\n",
    "print('Note : On change de règles de calculs, car tous les jours ne sont pas ouvrés')"
   ]
  },
  {
   "cell_type": "code",
   "execution_count": 44,
   "metadata": {},
   "outputs": [
    {
     "name": "stdout",
     "output_type": "stream",
     "text": [
      "Scraping des données brutes effectué\n",
      "\n"
     ]
    }
   ],
   "source": [
    "# SCRAPING DES DONNES BRUTES\n",
    "\n",
    "spy = web.DataReader('SPY','yahoo',start,end)\n",
    "vix = web.DataReader('^VIX','yahoo',start,end)\n",
    "gld = web.DataReader('GLD','yahoo',start,end)\n",
    "slv = web.DataReader('SLV','yahoo',start,end)\n",
    "uso = web.DataReader('USO','yahoo',start,end)\n",
    "eurostoxx = web.DataReader('^STOXX50E','yahoo',start,end)\n",
    "nikkei = web.DataReader('^N225','yahoo',start,end)\n",
    "print('Scraping des données brutes effectué\\n')"
   ]
  },
  {
   "cell_type": "code",
   "execution_count": 45,
   "metadata": {},
   "outputs": [
    {
     "name": "stdout",
     "output_type": "stream",
     "text": [
      "CSV chargés\n"
     ]
    }
   ],
   "source": [
    "# CHARGEMENT DES CSV\n",
    "path = '/Users/YTsBaCh/Documents/DATA SCIENCES/20190402 MODELES STOCK/'\n",
    "eurusd = pd.read_csv(path+'EURUSD.csv',sep=',',index_col='Date',parse_dates=True)\n",
    "usdcad = pd.read_csv(path+'USDCAD.csv',sep=',',index_col='Date',parse_dates=True)\n",
    "usdgbp = pd.read_csv(path+'USDGBP.csv',sep=',',index_col='Date',parse_dates=True)\n",
    "usdjpy = pd.read_csv(path+'USDJPY.csv',sep=',',index_col='Date',parse_dates=True)\n",
    "ftse = pd.read_csv(path+'FTSE.csv',sep=',',index_col='Date',parse_dates=True)\n",
    "print('CSV chargés')"
   ]
  },
  {
   "cell_type": "code",
   "execution_count": 46,
   "metadata": {},
   "outputs": [
    {
     "name": "stdout",
     "output_type": "stream",
     "text": [
      "TOUTES LES DONNEES SONT COLLECTEES\n",
      "\n",
      "\n",
      "PREPARATION DES DONNEES\n"
     ]
    }
   ],
   "source": [
    "print('TOUTES LES DONNEES SONT COLLECTEES')\n",
    "print('\\n\\nPREPARATION DES DONNEES')"
   ]
  },
  {
   "cell_type": "code",
   "execution_count": 47,
   "metadata": {},
   "outputs": [
    {
     "name": "stdout",
     "output_type": "stream",
     "text": [
      "DONNEES BRUTES TRAITEES\n"
     ]
    }
   ],
   "source": [
    "# TRAITEMENT DES DONNEES BRUTES\n",
    "spy = spy.drop(['Open','Adj Close','High','Low','Volume'],axis = 1)\n",
    "vix = vix.drop(['Open','Adj Close','High','Low','Volume'],axis = 1)\n",
    "gld = gld.drop(['Open','Adj Close','High','Low','Volume'],axis = 1)\n",
    "slv = slv.drop(['Open','Adj Close','High','Low','Volume'],axis = 1)\n",
    "uso = uso.drop(['Open','Adj Close','High','Low','Volume'],axis = 1)\n",
    "eurostoxx = eurostoxx.drop(['Open','Adj Close','High','Low','Volume'],axis = 1)\n",
    "nikkei = nikkei.drop(['Open','Adj Close','High','Low','Volume'],axis = 1)\n",
    "eurusd = eurusd.drop(['Open','High','Low','Change %'],axis = 1)\n",
    "usdcad = usdcad.drop(['Open','High','Low','Change %'],axis = 1)\n",
    "usdgbp = usdgbp.drop(['Open','High','Low','Change %'],axis = 1)\n",
    "usdjpy = usdjpy.drop(['Open','High','Low','Change %'],axis = 1)\n",
    "ftse = ftse.drop(['Open','High','Low','Change %','Vol.'],axis = 1)\n",
    "print('DONNEES BRUTES TRAITEES')"
   ]
  },
  {
   "cell_type": "code",
   "execution_count": 54,
   "metadata": {},
   "outputs": [
    {
     "name": "stdout",
     "output_type": "stream",
     "text": [
      "\n",
      "CONCATENATION EN UN DATASET BRUT => raw_dataset\n",
      "\n",
      "\n"
     ]
    }
   ],
   "source": [
    "print('\\nCONCATENATION EN UN DATASET BRUT => raw_dataset\\n\\n')\n",
    "raw_dataset = pd.concat((vix,gld,slv,uso,eurostoxx,nikkei,eurusd,usdcad,usdgbp,usdjpy,ftse,spy),axis = 1)\n",
    "raw_dataset.columns = (['VIX','GLD','SLV','USO','EURSTXX','NIKKEI','EURUSD','USDCAD','USDGBP','USDJPY','FTSE','SPY'])\n",
    "raw_dataset.head()\n",
    "raw_dataset.to_csv(path+'raw_data.csv')"
   ]
  },
  {
   "cell_type": "code",
   "execution_count": null,
   "metadata": {},
   "outputs": [],
   "source": []
  },
  {
   "cell_type": "code",
   "execution_count": 62,
   "metadata": {},
   "outputs": [
    {
     "name": "stdout",
     "output_type": "stream",
     "text": [
      "Le fichier contient 433  valeurs NaN, réparties ainsi :\n",
      "\n",
      "VIX        52\n",
      "GLD        52\n",
      "SLV        52\n",
      "USO        52\n",
      "EURSTXX    70\n",
      "NIKKEI     56\n",
      "EURUSD     42\n",
      "USDCAD      4\n",
      "USDGBP      1\n",
      "USDJPY      2\n",
      "FTSE       50\n",
      "dtype: int64\n"
     ]
    }
   ],
   "source": [
    "print('Le fichier contient',raw_dataset.isnull().sum().sum(),' valeurs NaN, réparties ainsi :\\n')\n",
    "print(raw_dataset.isnull().sum())"
   ]
  },
  {
   "cell_type": "code",
   "execution_count": 67,
   "metadata": {},
   "outputs": [
    {
     "name": "stdout",
     "output_type": "stream",
     "text": [
      "\n",
      "Repérage et nettoyage des lignes incirminées\n",
      "\n"
     ]
    }
   ],
   "source": [
    "print('\\nRepérage et nettoyage des lignes incirminées\\n')"
   ]
  },
  {
   "cell_type": "code",
   "execution_count": 68,
   "metadata": {},
   "outputs": [
    {
     "data": {
      "text/html": [
       "<div>\n",
       "<style scoped>\n",
       "    .dataframe tbody tr th:only-of-type {\n",
       "        vertical-align: middle;\n",
       "    }\n",
       "\n",
       "    .dataframe tbody tr th {\n",
       "        vertical-align: top;\n",
       "    }\n",
       "\n",
       "    .dataframe thead th {\n",
       "        text-align: right;\n",
       "    }\n",
       "</style>\n",
       "<table border=\"1\" class=\"dataframe\">\n",
       "  <thead>\n",
       "    <tr style=\"text-align: right;\">\n",
       "      <th></th>\n",
       "      <th>VIX</th>\n",
       "      <th>GLD</th>\n",
       "      <th>SLV</th>\n",
       "      <th>USO</th>\n",
       "      <th>EURSTXX</th>\n",
       "      <th>NIKKEI</th>\n",
       "      <th>EURUSD</th>\n",
       "      <th>USDCAD</th>\n",
       "      <th>USDGBP</th>\n",
       "      <th>USDJPY</th>\n",
       "      <th>FTSE</th>\n",
       "    </tr>\n",
       "    <tr>\n",
       "      <th>Date</th>\n",
       "      <th></th>\n",
       "      <th></th>\n",
       "      <th></th>\n",
       "      <th></th>\n",
       "      <th></th>\n",
       "      <th></th>\n",
       "      <th></th>\n",
       "      <th></th>\n",
       "      <th></th>\n",
       "      <th></th>\n",
       "      <th></th>\n",
       "    </tr>\n",
       "  </thead>\n",
       "  <tbody>\n",
       "    <tr>\n",
       "      <th>2018-03-05</th>\n",
       "      <td>False</td>\n",
       "      <td>False</td>\n",
       "      <td>False</td>\n",
       "      <td>False</td>\n",
       "      <td>False</td>\n",
       "      <td>False</td>\n",
       "      <td>False</td>\n",
       "      <td>False</td>\n",
       "      <td>False</td>\n",
       "      <td>False</td>\n",
       "      <td>False</td>\n",
       "    </tr>\n",
       "    <tr>\n",
       "      <th>2018-03-06</th>\n",
       "      <td>False</td>\n",
       "      <td>False</td>\n",
       "      <td>False</td>\n",
       "      <td>False</td>\n",
       "      <td>False</td>\n",
       "      <td>False</td>\n",
       "      <td>False</td>\n",
       "      <td>False</td>\n",
       "      <td>False</td>\n",
       "      <td>False</td>\n",
       "      <td>False</td>\n",
       "    </tr>\n",
       "    <tr>\n",
       "      <th>2018-03-07</th>\n",
       "      <td>False</td>\n",
       "      <td>False</td>\n",
       "      <td>False</td>\n",
       "      <td>False</td>\n",
       "      <td>False</td>\n",
       "      <td>False</td>\n",
       "      <td>False</td>\n",
       "      <td>False</td>\n",
       "      <td>False</td>\n",
       "      <td>False</td>\n",
       "      <td>False</td>\n",
       "    </tr>\n",
       "    <tr>\n",
       "      <th>2018-03-08</th>\n",
       "      <td>False</td>\n",
       "      <td>False</td>\n",
       "      <td>False</td>\n",
       "      <td>False</td>\n",
       "      <td>False</td>\n",
       "      <td>False</td>\n",
       "      <td>False</td>\n",
       "      <td>False</td>\n",
       "      <td>False</td>\n",
       "      <td>False</td>\n",
       "      <td>False</td>\n",
       "    </tr>\n",
       "    <tr>\n",
       "      <th>2018-03-09</th>\n",
       "      <td>False</td>\n",
       "      <td>False</td>\n",
       "      <td>False</td>\n",
       "      <td>False</td>\n",
       "      <td>False</td>\n",
       "      <td>False</td>\n",
       "      <td>False</td>\n",
       "      <td>False</td>\n",
       "      <td>False</td>\n",
       "      <td>False</td>\n",
       "      <td>False</td>\n",
       "    </tr>\n",
       "  </tbody>\n",
       "</table>\n",
       "</div>"
      ],
      "text/plain": [
       "              VIX    GLD    SLV    USO  EURSTXX  NIKKEI  EURUSD  USDCAD  \\\n",
       "Date                                                                      \n",
       "2018-03-05  False  False  False  False    False   False   False   False   \n",
       "2018-03-06  False  False  False  False    False   False   False   False   \n",
       "2018-03-07  False  False  False  False    False   False   False   False   \n",
       "2018-03-08  False  False  False  False    False   False   False   False   \n",
       "2018-03-09  False  False  False  False    False   False   False   False   \n",
       "\n",
       "            USDGBP  USDJPY   FTSE  \n",
       "Date                               \n",
       "2018-03-05   False   False  False  \n",
       "2018-03-06   False   False  False  \n",
       "2018-03-07   False   False  False  \n",
       "2018-03-08   False   False  False  \n",
       "2018-03-09   False   False  False  "
      ]
     },
     "execution_count": 68,
     "metadata": {},
     "output_type": "execute_result"
    }
   ],
   "source": [
    "datanan = raw_dataset.isnull()\n",
    "for row in range(datanan.shape[0]:\n",
    "    for col in len(datanan.shape[1]):\n",
    "                 if \n",
    "        \n",
    "    "
   ]
  },
  {
   "cell_type": "code",
   "execution_count": 84,
   "metadata": {},
   "outputs": [
    {
     "name": "stdout",
     "output_type": "stream",
     "text": [
      "oops)\n"
     ]
    }
   ],
   "source": [
    "if datanan.iloc[301,0]==False:\n",
    "    print('Youpi')\n",
    "else :\n",
    "    print('oops)')"
   ]
  },
  {
   "cell_type": "code",
   "execution_count": 83,
   "metadata": {},
   "outputs": [
    {
     "data": {
      "text/plain": [
       "True"
      ]
     },
     "execution_count": 83,
     "metadata": {},
     "output_type": "execute_result"
    }
   ],
   "source": [
    "datanan.iloc[301,0]"
   ]
  },
  {
   "cell_type": "code",
   "execution_count": 78,
   "metadata": {},
   "outputs": [
    {
     "data": {
      "text/plain": [
       "(302, 11)"
      ]
     },
     "execution_count": 78,
     "metadata": {},
     "output_type": "execute_result"
    }
   ],
   "source": [
    "datanan.shape"
   ]
  },
  {
   "cell_type": "code",
   "execution_count": null,
   "metadata": {},
   "outputs": [],
   "source": []
  }
 ],
 "metadata": {
  "kernelspec": {
   "display_name": "Python 3",
   "language": "python",
   "name": "python3"
  },
  "language_info": {
   "codemirror_mode": {
    "name": "ipython",
    "version": 3
   },
   "file_extension": ".py",
   "mimetype": "text/x-python",
   "name": "python",
   "nbconvert_exporter": "python",
   "pygments_lexer": "ipython3",
   "version": "3.6.8"
  }
 },
 "nbformat": 4,
 "nbformat_minor": 2
}
