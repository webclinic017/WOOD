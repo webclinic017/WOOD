{
 "cells": [
  {
   "cell_type": "code",
   "execution_count": 1,
   "metadata": {},
   "outputs": [],
   "source": [
    "___Author___='LumberJack Jyss'"
   ]
  },
  {
   "cell_type": "code",
   "execution_count": 2,
   "metadata": {},
   "outputs": [
    {
     "name": "stdout",
     "output_type": "stream",
     "text": [
      "Algo LumberJack FROM KEREAS with memory\n",
      "LumberJack Jyss (c)\n"
     ]
    }
   ],
   "source": [
    "print('Algo LumberJack FROM KEREAS with memory\\nLumberJack Jyss (c)')"
   ]
  },
  {
   "cell_type": "code",
   "execution_count": 3,
   "metadata": {},
   "outputs": [
    {
     "name": "stderr",
     "output_type": "stream",
     "text": [
      "Using TensorFlow backend.\n"
     ]
    }
   ],
   "source": [
    "import numpy as np\n",
    "import matplotlib.pyplot as plt\n",
    "import pandas_datareader as web\n",
    "import pandas as pd\n",
    "from pandas import read_csv\n",
    "import math\n",
    "import keras\n",
    "import sklearn\n",
    "from keras.models import *\n",
    "from keras.layers import *\n",
    "from keras.layers import LSTM\n",
    "from sklearn.preprocessing import MinMaxScaler\n",
    "from sklearn import preprocessing\n",
    "from sklearn.metrics import mean_squared_error\n",
    "%matplotlib inline"
   ]
  },
  {
   "cell_type": "code",
   "execution_count": 4,
   "metadata": {},
   "outputs": [
    {
     "name": "stdout",
     "output_type": "stream",
     "text": [
      "Période d'étude :  59\n",
      "Sur un découpage 80% - 20% de la période : \n",
      "Bloc 1 :  47  jours \n",
      "Bloc 2 : 12  jours\n",
      "Note : On change de règles de calculs, car tous les jours ne sont pas ouvrés\n"
     ]
    }
   ],
   "source": [
    "# Setting the data\n",
    "start = pd.to_datetime('2019-01-28')\n",
    "end = pd.to_datetime('2019-03-28')\n",
    "delta = round((end-start).days)\n",
    "bloc1 = round(delta*0.8)\n",
    "bloc2 = delta - bloc1\n",
    "print(\"Période d'étude : \",delta)\n",
    "print('Sur un découpage 80% - 20% de la période : ')\n",
    "print('Bloc 1 : ',bloc1,' jours \\nBloc 2 :',bloc2,' jours')\n",
    "print('Note : On change de règles de calculs, car tous les jours ne sont pas ouvrés')"
   ]
  },
  {
   "cell_type": "code",
   "execution_count": 5,
   "metadata": {},
   "outputs": [
    {
     "name": "stdout",
     "output_type": "stream",
     "text": [
      "Activation d'un modèle de type <class 'keras.layers.recurrent.LSTM'>  avec 4 layers identiques ayant respectivement  3000 ,  1500 ,  750  et  375  neurones. L'activation est de type  linear  le loss,  mean_squared_error  et les metrics,  ['accuracy'] . L'optimisation est  adam . Il y aura  6000 epochs.\n"
     ]
    }
   ],
   "source": [
    "Algo = LSTM #LSTM SimpleRNN GRU ReLU RNN NN\n",
    "nbneurons = 3000 #round(len(train_X)*2)\n",
    "ntimstep = 1 # incrémentation du timeframe\n",
    "nbfeature = 2 # nombre de colonnes dans le input\n",
    "activation = 'linear' #'tanh' # 'sigmoid' 'linear' 'Softmax activation' 'softmax'\n",
    "batchsize = 1 # incrémentation du tick\n",
    "nbepochs = 6000\n",
    "loop = 500 # si on utilise le looping pour le reset_states()\n",
    "laloss = 'mean_squared_error' # 'mean_squared_error' 'binary_crossentropy'\n",
    "lemetrics =  ['accuracy'] # ['accuracy']\n",
    "optimize = 'adam' # 'adam'\n",
    "kernelinitializer = 'glorot_uniform'\n",
    "recurrentinitializer = 'orthogonal'\n",
    "biasinitializer = 'zeros'\n",
    "recurrentactivation = 'hard_sigmoid'\n",
    "\n",
    "print (\"Activation d'un modèle de type\",Algo,\" avec 4 layers identiques ayant respectivement \",nbneurons,', '\\\n",
    "       ,round(nbneurons/2),', ',round(nbneurons/4),' et ',round(nbneurons/8),\" neurones. L'activation est de type \"\\\n",
    "       ,activation,\" le loss, \",laloss,\" et les metrics, \",lemetrics,\". L'optimisation est \",optimize,\". Il y aura \",\\\n",
    "       nbepochs,'epochs.')"
   ]
  },
  {
   "cell_type": "code",
   "execution_count": 6,
   "metadata": {},
   "outputs": [],
   "source": [
    "dataset = web.DataReader('AMZN','yahoo',start,end)\n",
    "dataset = dataset.drop(['Low','High','Close'],axis=1)"
   ]
  },
  {
   "cell_type": "code",
   "execution_count": 7,
   "metadata": {},
   "outputs": [
    {
     "data": {
      "text/html": [
       "<div>\n",
       "<style scoped>\n",
       "    .dataframe tbody tr th:only-of-type {\n",
       "        vertical-align: middle;\n",
       "    }\n",
       "\n",
       "    .dataframe tbody tr th {\n",
       "        vertical-align: top;\n",
       "    }\n",
       "\n",
       "    .dataframe thead th {\n",
       "        text-align: right;\n",
       "    }\n",
       "</style>\n",
       "<table border=\"1\" class=\"dataframe\">\n",
       "  <thead>\n",
       "    <tr style=\"text-align: right;\">\n",
       "      <th></th>\n",
       "      <th>Open</th>\n",
       "      <th>Volume</th>\n",
       "      <th>Adj Close</th>\n",
       "    </tr>\n",
       "    <tr>\n",
       "      <th>Date</th>\n",
       "      <th></th>\n",
       "      <th></th>\n",
       "      <th></th>\n",
       "    </tr>\n",
       "  </thead>\n",
       "  <tbody>\n",
       "    <tr>\n",
       "      <th>2019-01-28</th>\n",
       "      <td>1643.589966</td>\n",
       "      <td>4837700</td>\n",
       "      <td>1637.890015</td>\n",
       "    </tr>\n",
       "    <tr>\n",
       "      <th>2019-01-29</th>\n",
       "      <td>1631.270020</td>\n",
       "      <td>4632800</td>\n",
       "      <td>1593.880005</td>\n",
       "    </tr>\n",
       "    <tr>\n",
       "      <th>2019-01-30</th>\n",
       "      <td>1623.000000</td>\n",
       "      <td>5783800</td>\n",
       "      <td>1670.430054</td>\n",
       "    </tr>\n",
       "    <tr>\n",
       "      <th>2019-01-31</th>\n",
       "      <td>1692.849976</td>\n",
       "      <td>10910300</td>\n",
       "      <td>1718.729980</td>\n",
       "    </tr>\n",
       "    <tr>\n",
       "      <th>2019-02-01</th>\n",
       "      <td>1638.880005</td>\n",
       "      <td>11506200</td>\n",
       "      <td>1626.229980</td>\n",
       "    </tr>\n",
       "  </tbody>\n",
       "</table>\n",
       "</div>"
      ],
      "text/plain": [
       "                   Open    Volume    Adj Close\n",
       "Date                                          \n",
       "2019-01-28  1643.589966   4837700  1637.890015\n",
       "2019-01-29  1631.270020   4632800  1593.880005\n",
       "2019-01-30  1623.000000   5783800  1670.430054\n",
       "2019-01-31  1692.849976  10910300  1718.729980\n",
       "2019-02-01  1638.880005  11506200  1626.229980"
      ]
     },
     "execution_count": 7,
     "metadata": {},
     "output_type": "execute_result"
    }
   ],
   "source": [
    "data=pd.DataFrame(dataset)\n",
    "data.dropna()\n",
    "data.head()"
   ]
  },
  {
   "cell_type": "code",
   "execution_count": 8,
   "metadata": {},
   "outputs": [],
   "source": [
    "# specify columns to plot\n",
    "groups=[]\n",
    "for aa in range(len(dataset.columns)):\n",
    "    groups.append(aa)\n",
    "values = dataset.values"
   ]
  },
  {
   "cell_type": "code",
   "execution_count": 9,
   "metadata": {},
   "outputs": [
    {
     "data": {
      "image/png": "[encoded data removed]",
      "text/plain": [
       "<Figure size 1152x1152 with 3 Axes>"
      ]
     },
     "metadata": {
      "needs_background": "light"
     },
     "output_type": "display_data"
    }
   ],
   "source": [
    "i = 1\n",
    "# plot each column\n",
    "plt.figure(figsize=(16,16))\n",
    "for group in groups:\n",
    "\tplt.subplot(len(groups), 1, i)\n",
    "\tplt.plot(values[:, group])\n",
    "\tplt.title(dataset.columns[group], y=0.5, loc='left')\n",
    "\ti += 1\n",
    "plt.show()"
   ]
  },
  {
   "cell_type": "code",
   "execution_count": 10,
   "metadata": {},
   "outputs": [],
   "source": [
    "data = data.values\n",
    "# ensure all data is float\n",
    "values = values.astype('float32')\n",
    "# normalize features\n",
    "scaler = MinMaxScaler(feature_range=(0, 1))\n",
    "scaled = scaler.fit_transform(values)"
   ]
  },
  {
   "cell_type": "code",
   "execution_count": 11,
   "metadata": {},
   "outputs": [],
   "source": [
    "input_train = data[0:bloc1,0:2]\n",
    "input_test = data[bloc1:,0:2]\n",
    "output_train = data[0:bloc1,2]\n",
    "output_test = data[bloc1:,2]"
   ]
  },
  {
   "cell_type": "code",
   "execution_count": 12,
   "metadata": {},
   "outputs": [],
   "source": [
    "#input_train = train_X.values\n",
    "#output_train = train_y.values\n",
    "#input_test = test_X.values\n",
    "#output_test = test_y.values"
   ]
  },
  {
   "cell_type": "code",
   "execution_count": 13,
   "metadata": {},
   "outputs": [],
   "source": [
    "#input_train = input_train.astype(float)\n",
    "#output_train = output_train.astype(float)\n",
    "#input_test = input_test.astype(float)\n",
    "#output_test = output_test.astype(float)"
   ]
  },
  {
   "cell_type": "code",
   "execution_count": 14,
   "metadata": {},
   "outputs": [
    {
     "data": {
      "text/plain": [
       "(43, 2)"
      ]
     },
     "execution_count": 14,
     "metadata": {},
     "output_type": "execute_result"
    }
   ],
   "source": [
    "input_train.shape"
   ]
  },
  {
   "cell_type": "code",
   "execution_count": 15,
   "metadata": {},
   "outputs": [],
   "source": [
    "input_train = input_train.reshape((input_train.shape[0],1,input_train.shape[1]))\n",
    "output_train = output_train.reshape(output_train.shape[0],1,)#output_train.shape[1])\n",
    "input_test = input_test.reshape((input_test.shape[0],1,input_test.shape[1]))\n",
    "output_test = output_test.reshape(output_test.shape[0],1,)#output_test.shape[1])"
   ]
  },
  {
   "cell_type": "code",
   "execution_count": 16,
   "metadata": {},
   "outputs": [],
   "source": [
    "input_train_shape = input_train.shape\n",
    "output_train_shape = output_train.shape\n",
    "input_test_shape = input_test.shape\n",
    "output_test_shape = output_test.shape"
   ]
  },
  {
   "cell_type": "code",
   "execution_count": 17,
   "metadata": {},
   "outputs": [
    {
     "data": {
      "text/plain": [
       "((43, 1, 2), (43, 1), (0, 1, 2), (0, 1))"
      ]
     },
     "execution_count": 17,
     "metadata": {},
     "output_type": "execute_result"
    }
   ],
   "source": [
    "input_train_shape,output_train_shape,input_test_shape,output_test_shape"
   ]
  },
  {
   "cell_type": "code",
   "execution_count": 21,
   "metadata": {},
   "outputs": [],
   "source": [
    "model = Sequential()\n",
    "model.add(Algo(nbneurons,input_shape=(ntimstep,nbfeature)))#,stateful=True,\\\n",
    "               #kernelinitializer=kernelinitializer,recurrentinitializer = recurrentinitializer,\\\n",
    "        # biasinitializer='zeros',recurrent_activation==recurrentactivation,return_sequences=True))\n",
    "\n",
    "#model.add(Algo(round(nbneurons/2)))#,return_sequences=True))\n",
    "#model.add(Activation(activation))\n",
    "#model.add(Algo(round(nbneurons/4),return_sequences=True))\n",
    "#model.add(Algo(round(nbneurons/8)))\n",
    "model.add(Dense(1))\n"
   ]
  },
  {
   "cell_type": "code",
   "execution_count": 22,
   "metadata": {},
   "outputs": [],
   "source": [
    "model.compile(optimizer=optimize, loss=laloss,metrics=lemetrics) "
   ]
  },
  {
   "cell_type": "code",
   "execution_count": null,
   "metadata": {},
   "outputs": [],
   "source": [
    "#for i in range(loop):\n",
    "history = model.fit(input_train, output_train, batch_size=batchsize, epochs=nbepochs)\n",
    "#    model.reset_states()\n",
    "#    print('Loop N°',i,'/',loop)\n",
    "print('Modèle entrainé.')"
   ]
  },
  {
   "cell_type": "code",
   "execution_count": null,
   "metadata": {},
   "outputs": [],
   "source": [
    "evaluation = model.evaluate(input_test, output_test,verbose=2,batch_size=batchsize)\n",
    "evaluation"
   ]
  },
  {
   "cell_type": "code",
   "execution_count": null,
   "metadata": {},
   "outputs": [],
   "source": [
    "X=[[21],[63]] #=>84\n",
    "X = np.array(X).T\n",
    "X = X.reshape(X.shape[0],1,X.shape[1])"
   ]
  },
  {
   "cell_type": "code",
   "execution_count": null,
   "metadata": {},
   "outputs": [],
   "source": [
    "predictions = model.predict(X,verbose=1)\n",
    "predictions\n"
   ]
  },
  {
   "cell_type": "code",
   "execution_count": null,
   "metadata": {},
   "outputs": [],
   "source": [
    "# evaluate the model\n",
    "scores = model.evaluate(input_test,output_test, verbose=0)\n",
    "print(\"%s: %.2f%%\" % (model.metrics_names[1], scores[1]*100))"
   ]
  },
  {
   "cell_type": "code",
   "execution_count": 27,
   "metadata": {},
   "outputs": [
    {
     "name": "stdout",
     "output_type": "stream",
     "text": [
      "Saved model to disk\n"
     ]
    }
   ],
   "source": [
    "# serialize model to YAML\n",
    "model_yaml = model.to_yaml()\n",
    "with open(\"ModelMulti-NoNorm.yaml\", \"w\") as yaml_file:\n",
    "    yaml_file.write(model_yaml)\n",
    "# serialize weights to HDF5\n",
    "model.save_weights(\"ModelMulti-NoNorm-yaml.h5\")\n",
    "print(\"Saved model to disk\")"
   ]
  },
  {
   "cell_type": "code",
   "execution_count": 28,
   "metadata": {},
   "outputs": [
    {
     "name": "stdout",
     "output_type": "stream",
     "text": [
      "Saved model to disk\n"
     ]
    }
   ],
   "source": [
    "# serialize model to JSON\n",
    "model_json = model.to_json()\n",
    "with open(\"ModelMulti-NoNorm.json\", \"w\") as json_file:\n",
    "    json_file.write(model_json)\n",
    "# serialize weights to HDF5\n",
    "model.save_weights(\"ModelMulti-NoNorm-JSON.h5\")\n",
    "print(\"Saved model to disk\")"
   ]
  },
  {
   "cell_type": "markdown",
   "metadata": {},
   "source": [
    "___________________________________________________________________________________________________________________________"
   ]
  },
  {
   "cell_type": "code",
   "execution_count": null,
   "metadata": {},
   "outputs": [],
   "source": [
    "# load YAML and create model\n",
    "yaml_file = open('model.yaml', 'r')\n",
    "loaded_model_yaml = yaml_file.read()\n",
    "yaml_file.close()\n",
    "loaded_model = model_from_yaml(loaded_model_yaml)\n",
    "# load weights into new model\n",
    "loaded_model.load_weights(\"model.h5\")\n",
    "print(\"Loaded model from disk\")\n",
    " \n",
    "# evaluate loaded model on test data\n",
    "loaded_model.compile(loss='binary_crossentropy', optimizer='rmsprop', metrics=['accuracy'])\n",
    "score = loaded_model.evaluate(X, Y, verbose=0)\n",
    "print(\"%s: %.2f%%\" % (loaded_model.metrics_names[1], score[1]*100))"
   ]
  },
  {
   "cell_type": "code",
   "execution_count": null,
   "metadata": {},
   "outputs": [],
   "source": [
    "# load json and create model\n",
    "json_file = open('model.json', 'r')\n",
    "loaded_model_json = json_file.read()\n",
    "json_file.close()\n",
    "loaded_model = model_from_json(loaded_model_json)\n",
    "# load weights into new model\n",
    "loaded_model.load_weights(\"model.h5\")\n",
    "print(\"Loaded model from disk\")\n",
    " \n",
    "# evaluate loaded model on test data\n",
    "loaded_model.compile(loss='binary_crossentropy', optimizer='rmsprop', metrics=['accuracy'])\n",
    "score = loaded_model.evaluate(X, Y, verbose=0)\n",
    "print(\"%s: %.2f%%\" % (loaded_model.metrics_names[1], score[1]*100))"
   ]
  },
  {
   "cell_type": "code",
   "execution_count": null,
   "metadata": {},
   "outputs": [],
   "source": []
  },
  {
   "cell_type": "code",
   "execution_count": null,
   "metadata": {},
   "outputs": [],
   "source": [
    "# make a prediction\n",
    "yhat = model.predict(test_X)\n",
    "test_X = test_X.reshape((test_X.shape[0], test_X.shape[2]))\n",
    "# invert scaling for forecast\n",
    "inv_yhat = concatenate((yhat, test_X[:, 1:]), axis=1)\n",
    "inv_yhat = scaler.inverse_transform(inv_yhat)\n",
    "inv_yhat = inv_yhat[:,0]\n",
    "# invert scaling for actual\n",
    "test_y = test_y.reshape((len(test_y), 1))\n",
    "inv_y = concatenate((test_y, test_X[:, 1:]), axis=1)\n",
    "inv_y = scaler.inverse_transform(inv_y)\n",
    "inv_y = inv_y[:,0]\n",
    "# calculate RMSE\n",
    "rmse = sqrt(mean_squared_error(inv_y, inv_yhat))\n",
    "print('Test RMSE: %.3f' % rmse)"
   ]
  }
 ],
 "metadata": {
  "kernelspec": {
   "display_name": "Python 3",
   "language": "python",
   "name": "python3"
  },
  "language_info": {
   "codemirror_mode": {
    "name": "ipython",
    "version": 3
   },
   "file_extension": ".py",
   "mimetype": "text/x-python",
   "name": "python",
   "nbconvert_exporter": "python",
   "pygments_lexer": "ipython3",
   "version": "3.6.8"
  }
 },
 "nbformat": 4,
 "nbformat_minor": 2
}
