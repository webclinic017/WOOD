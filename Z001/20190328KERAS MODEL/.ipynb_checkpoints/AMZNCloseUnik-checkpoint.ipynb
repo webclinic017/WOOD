{
 "cells": [
  {
   "cell_type": "code",
   "execution_count": 1,
   "metadata": {},
   "outputs": [],
   "source": [
    "___Author___='LumberJack Jyss'"
   ]
  },
  {
   "cell_type": "code",
   "execution_count": 2,
   "metadata": {},
   "outputs": [
    {
     "name": "stdout",
     "output_type": "stream",
     "text": [
      "Algo LumberJack FROM KEREAS with memory\n",
      "LumberJack Jyss (c)\n"
     ]
    }
   ],
   "source": [
    "print('Algo LumberJack FROM KEREAS with memory\\nLumberJack Jyss (c)')"
   ]
  },
  {
   "cell_type": "markdown",
   "metadata": {},
   "source": [
    "https://keras.io/models/sequential/"
   ]
  },
  {
   "cell_type": "markdown",
   "metadata": {},
   "source": [
    "https://keras.io/layers/recurrent/#lstm"
   ]
  },
  {
   "cell_type": "markdown",
   "metadata": {},
   "source": [
    "https://keras.io/optimizers/"
   ]
  },
  {
   "cell_type": "markdown",
   "metadata": {},
   "source": [
    "https://keras.io/losses/"
   ]
  },
  {
   "cell_type": "code",
   "execution_count": 3,
   "metadata": {},
   "outputs": [
    {
     "name": "stderr",
     "output_type": "stream",
     "text": [
      "Using TensorFlow backend.\n"
     ]
    }
   ],
   "source": [
    "import numpy as np\n",
    "import matplotlib.pyplot as plt\n",
    "import pandas_datareader as web\n",
    "import pandas as pd\n",
    "from pandas import read_csv\n",
    "import math\n",
    "import keras\n",
    "import sklearn\n",
    "from keras.models import *\n",
    "from keras.layers import *\n",
    "from keras.layers import LSTM\n",
    "from sklearn.preprocessing import MinMaxScaler\n",
    "from sklearn import preprocessing\n",
    "from sklearn.metrics import mean_squared_error\n",
    "%matplotlib inline"
   ]
  },
  {
   "cell_type": "code",
   "execution_count": 4,
   "metadata": {},
   "outputs": [],
   "source": [
    "nbneurons = 500\n",
    "ntimstep = 1\n",
    "nbfeature = 1\n",
    "activation = 'sigmoid' #'tanh' # 'sigmoid'\n",
    "Algo = LSTM #LSTM SimpleRNN SimpleRNNCell ReLU RNN\n",
    "batchsize = 1\n",
    "nbepochs = 5000\n",
    "loop = 500"
   ]
  },
  {
   "cell_type": "code",
   "execution_count": 5,
   "metadata": {},
   "outputs": [
    {
     "name": "stdout",
     "output_type": "stream",
     "text": [
      "Période d'étude :  1092\n",
      "Sur un découpage 80% - 20% de la période : \n",
      "Bloc 1 :  874  jours \n",
      "Bloc 2 : 218  jours\n",
      "Note : On change de règles de calculs, car tous les jours ne sont pas ouvrés\n"
     ]
    }
   ],
   "source": [
    "# Setting the data\n",
    "start = pd.to_datetime('2016-03-31')\n",
    "end = pd.to_datetime('2019-03-28')\n",
    "delta = round((end-start).days)\n",
    "bloc1 = round(delta*0.8)\n",
    "bloc2 = delta - bloc1\n",
    "print(\"Période d'étude : \",delta)\n",
    "print('Sur un découpage 80% - 20% de la période : ')\n",
    "print('Bloc 1 : ',bloc1,' jours \\nBloc 2 :',bloc2,' jours')\n",
    "print('Note : On change de règles de calculs, car tous les jours ne sont pas ouvrés')"
   ]
  },
  {
   "cell_type": "code",
   "execution_count": 6,
   "metadata": {},
   "outputs": [],
   "source": [
    "dataset = web.DataReader('AMZN','yahoo',start,end)\n",
    "#spy_etf = web.DataReader('SPY','yahoo',start,end)\n",
    "dataset = dataset.drop(['Low','High','Volume','Close'],axis=1)"
   ]
  },
  {
   "cell_type": "code",
   "execution_count": 7,
   "metadata": {},
   "outputs": [
    {
     "data": {
      "text/html": [
       "<div>\n",
       "<style scoped>\n",
       "    .dataframe tbody tr th:only-of-type {\n",
       "        vertical-align: middle;\n",
       "    }\n",
       "\n",
       "    .dataframe tbody tr th {\n",
       "        vertical-align: top;\n",
       "    }\n",
       "\n",
       "    .dataframe thead th {\n",
       "        text-align: right;\n",
       "    }\n",
       "</style>\n",
       "<table border=\"1\" class=\"dataframe\">\n",
       "  <thead>\n",
       "    <tr style=\"text-align: right;\">\n",
       "      <th></th>\n",
       "      <th>Open</th>\n",
       "      <th>Adj Close</th>\n",
       "    </tr>\n",
       "    <tr>\n",
       "      <th>Date</th>\n",
       "      <th></th>\n",
       "      <th></th>\n",
       "    </tr>\n",
       "  </thead>\n",
       "  <tbody>\n",
       "    <tr>\n",
       "      <th>2016-03-31</th>\n",
       "      <td>599.280029</td>\n",
       "      <td>593.640015</td>\n",
       "    </tr>\n",
       "    <tr>\n",
       "      <th>2016-04-01</th>\n",
       "      <td>590.489990</td>\n",
       "      <td>598.500000</td>\n",
       "    </tr>\n",
       "    <tr>\n",
       "      <th>2016-04-04</th>\n",
       "      <td>599.000000</td>\n",
       "      <td>593.190002</td>\n",
       "    </tr>\n",
       "    <tr>\n",
       "      <th>2016-04-05</th>\n",
       "      <td>590.770020</td>\n",
       "      <td>586.140015</td>\n",
       "    </tr>\n",
       "    <tr>\n",
       "      <th>2016-04-06</th>\n",
       "      <td>587.520020</td>\n",
       "      <td>602.080017</td>\n",
       "    </tr>\n",
       "  </tbody>\n",
       "</table>\n",
       "</div>"
      ],
      "text/plain": [
       "                  Open   Adj Close\n",
       "Date                              \n",
       "2016-03-31  599.280029  593.640015\n",
       "2016-04-01  590.489990  598.500000\n",
       "2016-04-04  599.000000  593.190002\n",
       "2016-04-05  590.770020  586.140015\n",
       "2016-04-06  587.520020  602.080017"
      ]
     },
     "execution_count": 7,
     "metadata": {},
     "output_type": "execute_result"
    }
   ],
   "source": [
    "dataset.head()"
   ]
  },
  {
   "cell_type": "code",
   "execution_count": 8,
   "metadata": {},
   "outputs": [
    {
     "data": {
      "text/html": [
       "<div>\n",
       "<style scoped>\n",
       "    .dataframe tbody tr th:only-of-type {\n",
       "        vertical-align: middle;\n",
       "    }\n",
       "\n",
       "    .dataframe tbody tr th {\n",
       "        vertical-align: top;\n",
       "    }\n",
       "\n",
       "    .dataframe thead th {\n",
       "        text-align: right;\n",
       "    }\n",
       "</style>\n",
       "<table border=\"1\" class=\"dataframe\">\n",
       "  <thead>\n",
       "    <tr style=\"text-align: right;\">\n",
       "      <th></th>\n",
       "      <th>Open</th>\n",
       "      <th>Adj Close</th>\n",
       "    </tr>\n",
       "    <tr>\n",
       "      <th>Date</th>\n",
       "      <th></th>\n",
       "      <th></th>\n",
       "    </tr>\n",
       "  </thead>\n",
       "  <tbody>\n",
       "    <tr>\n",
       "      <th>2016-03-31</th>\n",
       "      <td>599.280029</td>\n",
       "      <td>593.640015</td>\n",
       "    </tr>\n",
       "    <tr>\n",
       "      <th>2016-04-01</th>\n",
       "      <td>590.489990</td>\n",
       "      <td>598.500000</td>\n",
       "    </tr>\n",
       "    <tr>\n",
       "      <th>2016-04-04</th>\n",
       "      <td>599.000000</td>\n",
       "      <td>593.190002</td>\n",
       "    </tr>\n",
       "    <tr>\n",
       "      <th>2016-04-05</th>\n",
       "      <td>590.770020</td>\n",
       "      <td>586.140015</td>\n",
       "    </tr>\n",
       "    <tr>\n",
       "      <th>2016-04-06</th>\n",
       "      <td>587.520020</td>\n",
       "      <td>602.080017</td>\n",
       "    </tr>\n",
       "  </tbody>\n",
       "</table>\n",
       "</div>"
      ],
      "text/plain": [
       "                  Open   Adj Close\n",
       "Date                              \n",
       "2016-03-31  599.280029  593.640015\n",
       "2016-04-01  590.489990  598.500000\n",
       "2016-04-04  599.000000  593.190002\n",
       "2016-04-05  590.770020  586.140015\n",
       "2016-04-06  587.520020  602.080017"
      ]
     },
     "execution_count": 8,
     "metadata": {},
     "output_type": "execute_result"
    }
   ],
   "source": [
    "#dataset\n",
    "data=pd.DataFrame(dataset)\n",
    "#data.loc[:,0] = dataset.loc[:,0]\n",
    "#data.loc[:,1] = dataset[:,1]#.shift(-1)\n",
    "data.dropna()\n",
    "data.head()"
   ]
  },
  {
   "cell_type": "code",
   "execution_count": 9,
   "metadata": {},
   "outputs": [
    {
     "data": {
      "text/plain": [
       "<matplotlib.axes._subplots.AxesSubplot at 0x1a3a2b4cf8>"
      ]
     },
     "execution_count": 9,
     "metadata": {},
     "output_type": "execute_result"
    },
    {
     "data": {
      "image/png": "[encoded data removed]",
      "text/plain": [
       "<Figure size 1152x432 with 1 Axes>"
      ]
     },
     "metadata": {
      "needs_background": "light"
     },
     "output_type": "display_data"
    },
    {
     "data": {
      "image/png": "[encoded data removed]",
      "text/plain": [
       "<Figure size 1152x432 with 1 Axes>"
      ]
     },
     "metadata": {
      "needs_background": "light"
     },
     "output_type": "display_data"
    }
   ],
   "source": [
    "dataset.plot(figsize=(16,6),title='Original')\n",
    "data.plot(figsize=(16,6),title='Copie')"
   ]
  },
  {
   "cell_type": "code",
   "execution_count": 10,
   "metadata": {},
   "outputs": [],
   "source": [
    "train_X = data.iloc[0:bloc1,0]\n",
    "test_X = data.iloc[bloc1:,0]\n",
    "train_y = data.iloc[0:bloc1,1]\n",
    "test_y = data.iloc[bloc1:,1]"
   ]
  },
  {
   "cell_type": "code",
   "execution_count": 11,
   "metadata": {},
   "outputs": [],
   "source": [
    "input_train = train_X.values\n",
    "output_train = train_y.values\n",
    "input_test = test_y.values\n",
    "output_test = test_y.values"
   ]
  },
  {
   "cell_type": "code",
   "execution_count": 12,
   "metadata": {},
   "outputs": [],
   "source": [
    "input_train = input_train.astype(float)\n",
    "output_train = output_train.astype(float)\n",
    "input_test = input_test.astype(float)\n",
    "output_test = output_test.astype(float)"
   ]
  },
  {
   "cell_type": "code",
   "execution_count": 13,
   "metadata": {},
   "outputs": [],
   "source": [
    "input_train = input_train.reshape(-1,1)\n",
    "output_train = output_train.reshape(-1,1)\n",
    "input_test = input_test.reshape(-1,1)\n",
    "output_test = output_test.reshape(-1,1)"
   ]
  },
  {
   "cell_type": "code",
   "execution_count": 14,
   "metadata": {},
   "outputs": [],
   "source": [
    "input_train = input_train.reshape(len(input_train),1,1)\n",
    "output_train = output_train.reshape(len(output_train),1,)\n",
    "input_test = input_test.reshape(len(input_test),1,1)\n",
    "output_test = output_test.reshape(len(output_test),1,)"
   ]
  },
  {
   "cell_type": "code",
   "execution_count": 15,
   "metadata": {},
   "outputs": [],
   "source": [
    "input_train_shape = input_train.shape\n",
    "output_train_shape = output_train.shape\n",
    "input_test_shape = input_test.shape\n",
    "output_test_shape = output_test.shape"
   ]
  },
  {
   "cell_type": "markdown",
   "metadata": {},
   "source": [
    "## Step 1. Define Network\n",
    "\n",
    "The first step is to define your network.\n",
    "\n",
    "Neural networks are defined in Keras as a sequence of layers. The container for these layers is the Sequential class.\n",
    "\n",
    "The first step is to create an instance of the Sequential class. Then you can create your layers and add them in the order that they should be connected. The LSTM recurrent layer comprised of memory units is called LSTM(). A fully connected layer that often follows LSTM layers and is used for outputting a prediction is called Dense()."
   ]
  },
  {
   "cell_type": "markdown",
   "metadata": {},
   "source": [
    "model = Sequential()\n",
    "model.add(LSTM(2))\n",
    "model.add(Dense(1))"
   ]
  },
  {
   "cell_type": "markdown",
   "metadata": {},
   "source": [
    "The first layer in the network must define the number of inputs to expect. Input must be three-dimensional, comprised of samples, timesteps, and features.\n",
    "\n",
    "Samples. These are the rows in your data.\n",
    "Timesteps. These are the past observations for a feature, such as lag variables.\n",
    "Features. These are columns in your data.\n",
    "Assuming your data is loaded as a NumPy array, you can convert a 2D dataset to a 3D dataset using the reshape() function in NumPy."
   ]
  },
  {
   "cell_type": "code",
   "execution_count": 16,
   "metadata": {},
   "outputs": [
    {
     "data": {
      "text/plain": [
       "((754, 1, 1), (754, 1), (0, 1, 1), (0, 1))"
      ]
     },
     "execution_count": 16,
     "metadata": {},
     "output_type": "execute_result"
    }
   ],
   "source": [
    "input_train_shape,output_train_shape,input_test_shape,output_test_shape"
   ]
  },
  {
   "cell_type": "markdown",
   "metadata": {},
   "source": [
    "LSTM layers can be stacked by adding them to the Sequential model. Importantly, when stacking LSTM layers, we must output a sequence rather than a single value for each input so that the subsequent LSTM layer can have the required 3D input. We can do this by setting the return_sequences argument = True."
   ]
  },
  {
   "cell_type": "code",
   "execution_count": 17,
   "metadata": {},
   "outputs": [],
   "source": [
    "model = Sequential()\n",
    "model.add(Algo(nbneurons,input_shape=(ntimstep,nbfeature)))\n",
    "model.add(Dense(1))\n",
    "model.add(Activation('linear'))"
   ]
  },
  {
   "cell_type": "markdown",
   "metadata": {},
   "source": [
    "The choice of activation function is most important for the output layer as it will define the format that predictions will take.\n",
    "\n",
    "For example, below are some common predictive modeling problem types and the structure and standard activation function that you can use in the output layer:\n",
    "\n",
    "Regression: Linear activation function, or ‘linear’, and the number of neurons matching the number of outputs.\n",
    "Binary Classification (2 class): Logistic activation function, or ‘sigmoid’, and one neuron the output layer.\n",
    "Multiclass Classification (>2 class): Softmax activation function, or ‘softmax’, and one output neuron per class value, assuming a one-hot encoded output pattern."
   ]
  },
  {
   "cell_type": "markdown",
   "metadata": {},
   "source": [
    "## Step 2. Compile Network\n",
    "\n",
    "Once we have defined our network, we must compile it.\n",
    "\n",
    "Compilation is an efficiency step. It transforms the simple sequence of layers that we defined into a highly efficient series of matrix transforms in a format intended to be executed on your GPU or CPU, depending on how Keras is configured.\n",
    "\n",
    "Think of compilation as a precompute step for your network. It is always required after defining a model.\n",
    "\n",
    "Compilation requires a number of parameters to be specified, specifically tailored to training your network. Specifically, the optimization algorithm to use to train the network and the loss function used to evaluate the network that is minimized by the optimization algorithm.\n",
    "\n",
    "For example, below is a case of compiling a defined model and specifying the stochastic gradient descent (sgd) optimization algorithm and the mean squared error (mean_squared_error) loss function, intended for a regression type problem."
   ]
  },
  {
   "cell_type": "code",
   "execution_count": 18,
   "metadata": {},
   "outputs": [],
   "source": [
    "#algorithm = 'SGD(lr=0.1, momentum=0.3)'\n",
    "#model.compile(optimizer=algorithm, loss='mean_squared_error')"
   ]
  },
  {
   "cell_type": "code",
   "execution_count": 19,
   "metadata": {},
   "outputs": [],
   "source": [
    "model.compile(optimizer='adam', loss='mean_squared_error',metrics=['accuracy'])"
   ]
  },
  {
   "cell_type": "markdown",
   "metadata": {},
   "source": [
    "The type of predictive modeling problem imposes constraints on the type of loss function that can be used.\n",
    "\n",
    "For example, below are some standard loss functions for different predictive model types:\n",
    "\n",
    "Regression: Mean Squared Error or ‘mean_squared_error’.\n",
    "\n",
    "Binary Classification (2 class): Logarithmic Loss, also called cross entropy or ‘binary_crossentropy‘.\n",
    "\n",
    "Multiclass Classification (>2 class): Multiclass Logarithmic Loss or ‘categorical_crossentropy‘.\n",
    "\n",
    "The most common optimization algorithm is stochastic gradient descent, but Keras also supports a suite of other state-of-the-art optimization algorithms that work well with little or no configuration.\n",
    "\n",
    "Perhaps the most commonly used optimization algorithms because of their generally better performance are:\n",
    "\n",
    "Stochastic Gradient Descent, or ‘sgd‘, that requires the tuning of a learning rate and momentum.\n",
    "\n",
    "ADAM, or ‘adam‘, that requires the tuning of learning rate.\n",
    "\n",
    "RMSprop, or ‘rmsprop‘, that requires the tuning of learning rate.\n",
    "\n",
    "Finally, you can also specify metrics to collect while fitting your model in addition to the loss function. Generally, the most useful additional metric to collect is accuracy for classification problems. The metrics to collect are specified by name in an array."
   ]
  },
  {
   "cell_type": "markdown",
   "metadata": {},
   "source": [
    "## Step 3. Fit Network\n",
    "\n",
    "Once the network is compiled, it can be fit, which means adapt the weights on a training dataset.\n",
    "\n",
    "Fitting the network requires the training data to be specified, both a matrix of input patterns, X, and an array of matching output patterns, y.\n",
    "\n",
    "The network is trained using the backpropagation algorithm and optimized according to the optimization algorithm and loss function specified when compiling the model.\n",
    "\n",
    "The backpropagation algorithm requires that the network be trained for a specified number of epochs or exposures to the training dataset.\n",
    "\n",
    "Each epoch can be partitioned into groups of input-output pattern pairs called batches. This defines the number of patterns that the network is exposed to before the weights are updated within an epoch. It is also an efficiency optimization, ensuring that not too many input patterns are loaded into memory at a time.\n",
    "\n"
   ]
  },
  {
   "cell_type": "code",
   "execution_count": null,
   "metadata": {},
   "outputs": [
    {
     "name": "stdout",
     "output_type": "stream",
     "text": [
      "Epoch 1/5000\n",
      " - 25s - loss: 1495416.0531 - acc: 0.0000e+00\n",
      "Epoch 2/5000\n",
      " - 24s - loss: 1330916.1216 - acc: 0.0000e+00\n",
      "Epoch 3/5000\n",
      " - 24s - loss: 1181515.2820 - acc: 0.0000e+00\n",
      "Epoch 4/5000\n",
      " - 24s - loss: 1045687.5078 - acc: 0.0000e+00\n",
      "Epoch 5/5000\n",
      " - 23s - loss: 922885.0687 - acc: 0.0000e+00\n",
      "Epoch 6/5000\n",
      " - 23s - loss: 812016.2017 - acc: 0.0000e+00\n",
      "Epoch 7/5000\n",
      " - 23s - loss: 712224.0269 - acc: 0.0000e+00\n",
      "Epoch 8/5000\n",
      " - 23s - loss: 622868.7820 - acc: 0.0000e+00\n",
      "Epoch 9/5000\n",
      " - 23s - loss: 543970.2791 - acc: 0.0000e+00\n",
      "Epoch 10/5000\n",
      " - 24s - loss: 474926.4648 - acc: 0.0000e+00\n",
      "Epoch 11/5000\n",
      " - 23s - loss: 415268.3481 - acc: 0.0000e+00\n",
      "Epoch 12/5000\n",
      " - 23s - loss: 364171.2438 - acc: 0.0000e+00\n",
      "Epoch 13/5000\n",
      " - 23s - loss: 321190.9257 - acc: 0.0000e+00\n",
      "Epoch 14/5000\n",
      " - 23s - loss: 286036.9450 - acc: 0.0000e+00\n",
      "Epoch 15/5000\n",
      " - 23s - loss: 257733.9644 - acc: 0.0000e+00\n",
      "Epoch 16/5000\n",
      " - 23s - loss: 235314.0731 - acc: 0.0000e+00\n",
      "Epoch 17/5000\n",
      " - 23s - loss: 217971.2727 - acc: 0.0000e+00\n",
      "Epoch 18/5000\n",
      " - 23s - loss: 204763.8546 - acc: 0.0000e+00\n",
      "Epoch 19/5000\n",
      " - 23s - loss: 194936.9777 - acc: 0.0000e+00\n",
      "Epoch 20/5000\n",
      " - 23s - loss: 187848.9632 - acc: 0.0000e+00\n",
      "Epoch 21/5000\n",
      " - 23s - loss: 182795.3246 - acc: 0.0000e+00\n",
      "Epoch 22/5000\n",
      " - 23s - loss: 179269.0733 - acc: 0.0000e+00\n",
      "Epoch 23/5000\n",
      " - 23s - loss: 176803.2504 - acc: 0.0000e+00\n",
      "Epoch 24/5000\n",
      " - 23s - loss: 175084.2869 - acc: 0.0000e+00\n",
      "Epoch 25/5000\n",
      " - 23s - loss: 173907.7963 - acc: 0.0000e+00\n",
      "Epoch 26/5000\n",
      " - 23s - loss: 173087.9127 - acc: 0.0000e+00\n",
      "Epoch 27/5000\n",
      " - 23s - loss: 172520.9394 - acc: 0.0000e+00\n",
      "Epoch 28/5000\n",
      " - 23s - loss: 172119.0847 - acc: 0.0000e+00\n",
      "Epoch 29/5000\n",
      " - 23s - loss: 171882.0794 - acc: 0.0000e+00\n",
      "Epoch 30/5000\n",
      " - 23s - loss: 171696.1863 - acc: 0.0000e+00\n",
      "Epoch 31/5000\n",
      " - 23s - loss: 171589.2658 - acc: 0.0000e+00\n",
      "Epoch 32/5000\n",
      " - 23s - loss: 171509.1034 - acc: 0.0000e+00\n",
      "Epoch 33/5000\n",
      " - 23s - loss: 171454.1392 - acc: 0.0000e+00\n",
      "Epoch 34/5000\n",
      " - 23s - loss: 171417.8770 - acc: 0.0000e+00\n",
      "Epoch 35/5000\n",
      " - 23s - loss: 171401.3839 - acc: 0.0000e+00\n",
      "Epoch 36/5000\n",
      " - 23s - loss: 171380.6445 - acc: 0.0000e+00\n",
      "Epoch 37/5000\n",
      " - 24s - loss: 171378.8106 - acc: 0.0000e+00\n",
      "Epoch 38/5000\n",
      " - 23s - loss: 171360.9398 - acc: 0.0013\n",
      "Epoch 39/5000\n",
      " - 24s - loss: 171367.8336 - acc: 0.0000e+00\n",
      "Epoch 40/5000\n",
      " - 23s - loss: 171358.4690 - acc: 0.0000e+00\n",
      "Epoch 41/5000\n",
      " - 23s - loss: 171366.5357 - acc: 0.0000e+00\n",
      "Epoch 42/5000\n",
      " - 23s - loss: 171345.8720 - acc: 0.0000e+00\n",
      "Epoch 43/5000\n",
      " - 23s - loss: 171350.8099 - acc: 0.0000e+00\n",
      "Epoch 44/5000\n",
      " - 23s - loss: 171349.5540 - acc: 0.0000e+00\n",
      "Epoch 45/5000\n",
      " - 23s - loss: 171352.5615 - acc: 0.0000e+00\n",
      "Epoch 46/5000\n",
      " - 23s - loss: 171342.5010 - acc: 0.0000e+00\n",
      "Epoch 47/5000\n",
      " - 23s - loss: 171345.2840 - acc: 0.0000e+00\n",
      "Epoch 48/5000\n",
      " - 23s - loss: 171358.9346 - acc: 0.0000e+00\n",
      "Epoch 49/5000\n",
      " - 23s - loss: 171349.9430 - acc: 0.0000e+00\n",
      "Epoch 50/5000\n",
      " - 24s - loss: 171357.6644 - acc: 0.0000e+00\n",
      "Epoch 51/5000\n",
      " - 23s - loss: 171352.5212 - acc: 0.0000e+00\n",
      "Epoch 52/5000\n",
      " - 23s - loss: 171355.0609 - acc: 0.0000e+00\n",
      "Epoch 53/5000\n",
      " - 23s - loss: 171351.2423 - acc: 0.0000e+00\n",
      "Epoch 54/5000\n",
      " - 23s - loss: 171358.5548 - acc: 0.0000e+00\n",
      "Epoch 55/5000\n",
      " - 23s - loss: 171368.4870 - acc: 0.0000e+00\n",
      "Epoch 56/5000\n",
      " - 23s - loss: 171352.8114 - acc: 0.0000e+00\n",
      "Epoch 57/5000\n",
      " - 23s - loss: 171356.1528 - acc: 0.0000e+00\n",
      "Epoch 58/5000\n",
      " - 23s - loss: 171345.8949 - acc: 0.0000e+00\n",
      "Epoch 59/5000\n",
      " - 23s - loss: 171347.8113 - acc: 0.0000e+00\n",
      "Epoch 60/5000\n",
      " - 23s - loss: 171350.8063 - acc: 0.0000e+00\n",
      "Epoch 61/5000\n",
      " - 23s - loss: 171343.4740 - acc: 0.0000e+00\n",
      "Epoch 62/5000\n",
      " - 23s - loss: 171343.1220 - acc: 0.0000e+00\n",
      "Epoch 63/5000\n",
      " - 23s - loss: 171342.5078 - acc: 0.0000e+00\n",
      "Epoch 64/5000\n",
      " - 23s - loss: 171363.1363 - acc: 0.0000e+00\n",
      "Epoch 65/5000\n",
      " - 23s - loss: 171346.5688 - acc: 0.0000e+00\n",
      "Epoch 66/5000\n",
      " - 23s - loss: 171338.6413 - acc: 0.0000e+00\n",
      "Epoch 67/5000\n",
      " - 23s - loss: 171355.3710 - acc: 0.0000e+00\n",
      "Epoch 68/5000\n",
      " - 23s - loss: 171351.2393 - acc: 0.0000e+00\n",
      "Epoch 69/5000\n",
      " - 23s - loss: 171348.8588 - acc: 0.0000e+00\n",
      "Epoch 70/5000\n",
      " - 23s - loss: 171348.3990 - acc: 0.0000e+00\n",
      "Epoch 71/5000\n",
      " - 23s - loss: 171352.1282 - acc: 0.0000e+00\n",
      "Epoch 72/5000\n",
      " - 23s - loss: 171352.9119 - acc: 0.0000e+00\n",
      "Epoch 73/5000\n",
      " - 23s - loss: 171384.5402 - acc: 0.0000e+00\n",
      "Epoch 74/5000\n",
      " - 23s - loss: 171346.9572 - acc: 0.0000e+00\n",
      "Epoch 75/5000\n",
      " - 23s - loss: 171349.4026 - acc: 0.0000e+00\n",
      "Epoch 76/5000\n",
      " - 23s - loss: 171350.1913 - acc: 0.0000e+00\n",
      "Epoch 77/5000\n",
      " - 23s - loss: 171341.7607 - acc: 0.0000e+00\n",
      "Epoch 78/5000\n",
      " - 23s - loss: 171347.2156 - acc: 0.0000e+00\n",
      "Epoch 79/5000\n",
      " - 23s - loss: 171351.7795 - acc: 0.0000e+00\n",
      "Epoch 80/5000\n",
      " - 23s - loss: 171349.9544 - acc: 0.0000e+00\n",
      "Epoch 81/5000\n",
      " - 23s - loss: 171340.3164 - acc: 0.0000e+00\n",
      "Epoch 82/5000\n",
      " - 24s - loss: 171345.5981 - acc: 0.0000e+00\n",
      "Epoch 83/5000\n",
      " - 23s - loss: 171352.4957 - acc: 0.0000e+00\n",
      "Epoch 84/5000\n",
      " - 23s - loss: 171344.3087 - acc: 0.0000e+00\n",
      "Epoch 85/5000\n",
      " - 23s - loss: 171357.6023 - acc: 0.0000e+00\n",
      "Epoch 86/5000\n",
      " - 23s - loss: 171344.3633 - acc: 0.0000e+00\n",
      "Epoch 87/5000\n",
      " - 24s - loss: 171351.7493 - acc: 0.0000e+00\n",
      "Epoch 88/5000\n",
      " - 23s - loss: 171352.9958 - acc: 0.0000e+00\n",
      "Epoch 89/5000\n",
      " - 23s - loss: 171346.8213 - acc: 0.0000e+00\n",
      "Epoch 90/5000\n",
      " - 23s - loss: 171354.8418 - acc: 0.0000e+00\n",
      "Epoch 91/5000\n",
      " - 23s - loss: 171359.0198 - acc: 0.0000e+00\n",
      "Epoch 92/5000\n",
      " - 23s - loss: 171354.5631 - acc: 0.0000e+00\n",
      "Epoch 93/5000\n",
      " - 23s - loss: 171348.5126 - acc: 0.0000e+00\n",
      "Epoch 94/5000\n",
      " - 23s - loss: 171349.5699 - acc: 0.0000e+00\n",
      "Epoch 95/5000\n",
      " - 23s - loss: 171343.1940 - acc: 0.0000e+00\n",
      "Epoch 96/5000\n",
      " - 24s - loss: 171349.8527 - acc: 0.0000e+00\n",
      "Epoch 97/5000\n",
      " - 23s - loss: 171349.6335 - acc: 0.0000e+00\n",
      "Epoch 98/5000\n",
      " - 23s - loss: 171363.4232 - acc: 0.0000e+00\n",
      "Epoch 99/5000\n",
      " - 23s - loss: 171358.7903 - acc: 0.0000e+00\n",
      "Epoch 100/5000\n",
      " - 23s - loss: 171350.8113 - acc: 0.0000e+00\n",
      "Epoch 101/5000\n",
      " - 24s - loss: 171363.3565 - acc: 0.0000e+00\n",
      "Epoch 102/5000\n",
      " - 24s - loss: 171344.0260 - acc: 0.0000e+00\n",
      "Epoch 103/5000\n",
      " - 23s - loss: 171353.1984 - acc: 0.0000e+00\n",
      "Epoch 104/5000\n",
      " - 23s - loss: 171344.8843 - acc: 0.0000e+00\n",
      "Epoch 105/5000\n",
      " - 23s - loss: 171348.6973 - acc: 0.0000e+00\n",
      "Epoch 106/5000\n",
      " - 23s - loss: 171352.3020 - acc: 0.0000e+00\n",
      "Epoch 107/5000\n",
      " - 23s - loss: 171344.9962 - acc: 0.0000e+00\n",
      "Epoch 108/5000\n",
      " - 24s - loss: 171355.3984 - acc: 0.0000e+00\n",
      "Epoch 109/5000\n",
      " - 25s - loss: 171355.6736 - acc: 0.0000e+00\n",
      "Epoch 110/5000\n",
      " - 24s - loss: 171353.4754 - acc: 0.0000e+00\n",
      "Epoch 111/5000\n",
      " - 23s - loss: 171348.3343 - acc: 0.0000e+00\n",
      "Epoch 112/5000\n",
      " - 23s - loss: 171349.0834 - acc: 0.0000e+00\n",
      "Epoch 113/5000\n",
      " - 23s - loss: 171358.7824 - acc: 0.0000e+00\n",
      "Epoch 114/5000\n",
      " - 23s - loss: 171360.9576 - acc: 0.0000e+00\n",
      "Epoch 115/5000\n",
      " - 23s - loss: 171344.2867 - acc: 0.0000e+00\n",
      "Epoch 116/5000\n",
      " - 23s - loss: 171350.3473 - acc: 0.0000e+00\n",
      "Epoch 117/5000\n",
      " - 23s - loss: 171350.1640 - acc: 0.0000e+00\n",
      "Epoch 118/5000\n",
      " - 24s - loss: 171342.4244 - acc: 0.0000e+00\n",
      "Epoch 119/5000\n",
      " - 31s - loss: 171353.7630 - acc: 0.0000e+00\n",
      "Epoch 120/5000\n",
      " - 27s - loss: 171338.9256 - acc: 0.0000e+00\n",
      "Epoch 121/5000\n",
      " - 25s - loss: 171342.1445 - acc: 0.0000e+00\n",
      "Epoch 122/5000\n",
      " - 25s - loss: 171355.7930 - acc: 0.0000e+00\n",
      "Epoch 123/5000\n",
      " - 25s - loss: 171357.5880 - acc: 0.0000e+00\n",
      "Epoch 124/5000\n",
      " - 24s - loss: 171353.4830 - acc: 0.0000e+00\n",
      "Epoch 125/5000\n",
      " - 24s - loss: 171356.3976 - acc: 0.0000e+00\n",
      "Epoch 126/5000\n",
      " - 24s - loss: 171351.4868 - acc: 0.0000e+00\n",
      "Epoch 127/5000\n",
      " - 23s - loss: 171352.9131 - acc: 0.0000e+00\n",
      "Epoch 128/5000\n",
      " - 24s - loss: 171339.7196 - acc: 0.0000e+00\n",
      "Epoch 129/5000\n",
      " - 23s - loss: 171351.5372 - acc: 0.0000e+00\n",
      "Epoch 130/5000\n",
      " - 24s - loss: 171354.4742 - acc: 0.0000e+00\n",
      "Epoch 131/5000\n",
      " - 23s - loss: 171349.0009 - acc: 0.0000e+00\n",
      "Epoch 132/5000\n",
      " - 23s - loss: 171347.1928 - acc: 0.0000e+00\n",
      "Epoch 133/5000\n",
      " - 24s - loss: 171354.5944 - acc: 0.0000e+00\n",
      "Epoch 134/5000\n",
      " - 23s - loss: 171359.9870 - acc: 0.0000e+00\n",
      "Epoch 135/5000\n",
      " - 23s - loss: 171348.4632 - acc: 0.0000e+00\n",
      "Epoch 136/5000\n",
      " - 24s - loss: 171353.2430 - acc: 0.0000e+00\n",
      "Epoch 137/5000\n",
      " - 24s - loss: 171367.2428 - acc: 0.0000e+00\n",
      "Epoch 138/5000\n",
      " - 24s - loss: 171364.0646 - acc: 0.0000e+00\n",
      "Epoch 139/5000\n",
      " - 23s - loss: 171353.9998 - acc: 0.0000e+00\n",
      "Epoch 140/5000\n",
      " - 23s - loss: 171356.3743 - acc: 0.0000e+00\n",
      "Epoch 141/5000\n",
      " - 23s - loss: 171347.2350 - acc: 0.0000e+00\n",
      "Epoch 142/5000\n",
      " - 23s - loss: 171348.6730 - acc: 0.0000e+00\n",
      "Epoch 143/5000\n",
      " - 23s - loss: 171347.8827 - acc: 0.0000e+00\n",
      "Epoch 144/5000\n",
      " - 23s - loss: 171345.5006 - acc: 0.0000e+00\n",
      "Epoch 145/5000\n",
      " - 23s - loss: 171350.0632 - acc: 0.0000e+00\n",
      "Epoch 146/5000\n",
      " - 24s - loss: 171343.9681 - acc: 0.0000e+00\n",
      "Epoch 147/5000\n",
      " - 23s - loss: 171342.4922 - acc: 0.0000e+00\n",
      "Epoch 148/5000\n",
      " - 23s - loss: 171355.3542 - acc: 0.0000e+00\n",
      "Epoch 149/5000\n",
      " - 24s - loss: 171356.0161 - acc: 0.0000e+00\n",
      "Epoch 150/5000\n",
      " - 23s - loss: 171349.3676 - acc: 0.0000e+00\n",
      "Epoch 151/5000\n",
      " - 25s - loss: 171353.4218 - acc: 0.0000e+00\n",
      "Epoch 152/5000\n",
      " - 24s - loss: 171351.9902 - acc: 0.0000e+00\n",
      "Epoch 153/5000\n",
      " - 24s - loss: 171345.9694 - acc: 0.0000e+00\n",
      "Epoch 154/5000\n",
      " - 24s - loss: 171353.0420 - acc: 0.0000e+00\n",
      "Epoch 155/5000\n",
      " - 27s - loss: 171354.1582 - acc: 0.0013\n",
      "Epoch 156/5000\n",
      " - 26s - loss: 171355.6740 - acc: 0.0000e+00\n",
      "Epoch 157/5000\n",
      " - 26s - loss: 171350.7159 - acc: 0.0000e+00\n",
      "Epoch 158/5000\n",
      " - 24s - loss: 171353.2952 - acc: 0.0000e+00\n",
      "Epoch 159/5000\n",
      " - 24s - loss: 171348.5776 - acc: 0.0000e+00\n",
      "Epoch 160/5000\n",
      " - 24s - loss: 171345.9364 - acc: 0.0000e+00\n",
      "Epoch 161/5000\n",
      " - 23s - loss: 171359.3133 - acc: 0.0000e+00\n",
      "Epoch 162/5000\n",
      " - 24s - loss: 171360.3817 - acc: 0.0000e+00\n",
      "Epoch 163/5000\n",
      " - 24s - loss: 171357.3208 - acc: 0.0000e+00\n",
      "Epoch 164/5000\n",
      " - 25s - loss: 171356.1010 - acc: 0.0000e+00\n",
      "Epoch 165/5000\n",
      " - 24s - loss: 171353.4495 - acc: 0.0000e+00\n",
      "Epoch 166/5000\n",
      " - 24s - loss: 171343.8419 - acc: 0.0000e+00\n",
      "Epoch 167/5000\n",
      " - 24s - loss: 171342.6904 - acc: 0.0000e+00\n",
      "Epoch 168/5000\n",
      " - 24s - loss: 171347.9567 - acc: 0.0000e+00\n",
      "Epoch 169/5000\n",
      " - 26s - loss: 171357.6886 - acc: 0.0000e+00\n",
      "Epoch 170/5000\n",
      " - 24s - loss: 171352.0070 - acc: 0.0000e+00\n",
      "Epoch 171/5000\n",
      " - 24s - loss: 171356.5096 - acc: 0.0000e+00\n",
      "Epoch 172/5000\n",
      " - 24s - loss: 171355.0745 - acc: 0.0000e+00\n",
      "Epoch 173/5000\n",
      " - 24s - loss: 171350.7543 - acc: 0.0000e+00\n",
      "Epoch 174/5000\n",
      " - 25s - loss: 171352.0697 - acc: 0.0000e+00\n",
      "Epoch 175/5000\n",
      " - 25s - loss: 171354.9424 - acc: 0.0000e+00\n",
      "Epoch 176/5000\n",
      " - 25s - loss: 171356.2184 - acc: 0.0000e+00\n",
      "Epoch 177/5000\n",
      " - 24s - loss: 171344.3841 - acc: 0.0000e+00\n",
      "Epoch 178/5000\n",
      " - 24s - loss: 171348.9362 - acc: 0.0000e+00\n",
      "Epoch 179/5000\n",
      " - 24s - loss: 171353.2527 - acc: 0.0000e+00\n",
      "Epoch 180/5000\n",
      " - 24s - loss: 171346.0200 - acc: 0.0000e+00\n",
      "Epoch 181/5000\n",
      " - 24s - loss: 171363.9120 - acc: 0.0000e+00\n",
      "Epoch 182/5000\n",
      " - 24s - loss: 171349.8277 - acc: 0.0000e+00\n",
      "Epoch 183/5000\n",
      " - 24s - loss: 171350.5466 - acc: 0.0000e+00\n",
      "Epoch 184/5000\n",
      " - 24s - loss: 171369.8975 - acc: 0.0000e+00\n",
      "Epoch 185/5000\n",
      " - 24s - loss: 171355.2047 - acc: 0.0000e+00\n",
      "Epoch 186/5000\n",
      " - 24s - loss: 171354.8525 - acc: 0.0000e+00\n",
      "Epoch 187/5000\n",
      " - 24s - loss: 171343.9364 - acc: 0.0000e+00\n",
      "Epoch 188/5000\n",
      " - 25s - loss: 171367.7297 - acc: 0.0000e+00\n",
      "Epoch 189/5000\n",
      " - 25s - loss: 171350.7019 - acc: 0.0000e+00\n",
      "Epoch 190/5000\n",
      " - 25s - loss: 171349.3425 - acc: 0.0000e+00\n",
      "Epoch 191/5000\n"
     ]
    }
   ],
   "source": [
    "#for i in range(loop):\n",
    "history = model.fit(input_train, output_train, batch_size=batchsize, epochs=nbepochs,verbose=2)\n",
    "#    model.reset_states()\n",
    "#    print('Loop N°',i,'/',loop)"
   ]
  },
  {
   "cell_type": "markdown",
   "metadata": {},
   "source": [
    "Once fit, a history object is returned that provides a summary of the performance of the model during training. This includes both the loss and any additional metrics specified when compiling the model, recorded each epoch.\n",
    "\n",
    "Training can take a long time, from seconds to hours to days depending on the size of the network and the size of the training data.\n",
    "\n",
    "By default, a progress bar is displayed on the command line for each epoch. This may create too much noise for you, or may cause problems for your environment, such as if you are in an interactive notebook or IDE.\n",
    "\n",
    "You can reduce the amount of information displayed to just the loss each epoch by setting the verbose argument to 2. You can turn off all output by setting verbose to 0."
   ]
  },
  {
   "cell_type": "markdown",
   "metadata": {},
   "source": [
    "## Step 4. Evaluate Network\n",
    "\n",
    "Once the network is trained, it can be evaluated.\n",
    "\n",
    "The network can be evaluated on the training data, but this will not provide a useful indication of the performance of the network as a predictive model, as it has seen all of this data before.\n",
    "\n",
    "We can evaluate the performance of the network on a separate dataset, unseen during testing. This will provide an estimate of the performance of the network at making predictions for unseen data in the future.\n",
    "\n",
    "The model evaluates the loss across all of the test patterns, as well as any other metrics specified when the model was compiled, like classification accuracy. A list of evaluation metrics is returned."
   ]
  },
  {
   "cell_type": "code",
   "execution_count": 27,
   "metadata": {},
   "outputs": [
    {
     "data": {
      "text/plain": [
       "[]"
      ]
     },
     "execution_count": 27,
     "metadata": {},
     "output_type": "execute_result"
    }
   ],
   "source": [
    "evaluation = model.evaluate(input_test, output_test,verbose=2,batch_size=batchsize)\n",
    "evaluation"
   ]
  },
  {
   "cell_type": "code",
   "execution_count": null,
   "metadata": {},
   "outputs": [],
   "source": []
  },
  {
   "cell_type": "markdown",
   "metadata": {},
   "source": [
    "## Step 5. Make Predictions\n",
    "\n",
    "Once we are satisfied with the performance of our fit model, we can use it to make predictions on new data.\n",
    "\n",
    "This is as easy as calling the predict() function on the model with an array of new input patterns."
   ]
  },
  {
   "cell_type": "code",
   "execution_count": 28,
   "metadata": {},
   "outputs": [],
   "source": [
    "X=[20,21,22,23,24,25,26,27,28,29,30]\n",
    "X = np.array(X)\n",
    "X = X.reshape(len(X),1,1)"
   ]
  },
  {
   "cell_type": "code",
   "execution_count": 29,
   "metadata": {},
   "outputs": [
    {
     "name": "stdout",
     "output_type": "stream",
     "text": [
      "11/11 [==============================] - 0s 5ms/step\n"
     ]
    },
    {
     "data": {
      "text/plain": [
       "array([[[489.6813 ]],\n",
       "\n",
       "       [[513.0167 ]],\n",
       "\n",
       "       [[536.3521 ]],\n",
       "\n",
       "       [[559.6875 ]],\n",
       "\n",
       "       [[583.0229 ]],\n",
       "\n",
       "       [[606.3583 ]],\n",
       "\n",
       "       [[629.69366]],\n",
       "\n",
       "       [[653.0291 ]],\n",
       "\n",
       "       [[676.3645 ]],\n",
       "\n",
       "       [[699.6999 ]],\n",
       "\n",
       "       [[723.0353 ]]], dtype=float32)"
      ]
     },
     "execution_count": 29,
     "metadata": {},
     "output_type": "execute_result"
    }
   ],
   "source": [
    "predictions = model.predict(X,verbose=1)\n",
    "predictions\n"
   ]
  },
  {
   "cell_type": "markdown",
   "metadata": {},
   "source": [
    "The predictions will be returned in the format provided by the output layer of the network.\n",
    "\n",
    "In the case of a regression problem, these predictions may be in the format of the problem directly, provided by a linear activation function.\n",
    "\n",
    "For a binary classification problem, the predictions may be an array of probabilities for the first class that can be converted to a 1 or 0 by rounding.\n",
    "\n",
    "For a multiclass classification problem, the results may be in the form of an array of probabilities (assuming a one hot encoded output variable) that may need to be converted to a single class output prediction using the argmax() NumPy function.\n",
    "\n",
    "Alternately, for classification problems, we can use the predict_classes() function that will automatically convert uncrisp predictions to crisp integer class values."
   ]
  },
  {
   "cell_type": "code",
   "execution_count": 36,
   "metadata": {},
   "outputs": [],
   "source": [
    "resultats=list()\n",
    "for i in range(len(predictions)):\n",
    "    resultats.append(predictions.reshape(len(predictions))[i])"
   ]
  },
  {
   "cell_type": "code",
   "execution_count": 39,
   "metadata": {},
   "outputs": [
    {
     "data": {
      "text/plain": [
       "[<matplotlib.lines.Line2D at 0x1a3eec31d0>]"
      ]
     },
     "execution_count": 39,
     "metadata": {},
     "output_type": "execute_result"
    },
    {
     "data": {
      "image/png": "[encoded data removed]",
      "text/plain": [
       "<Figure size 432x288 with 1 Axes>"
      ]
     },
     "metadata": {
      "needs_background": "light"
     },
     "output_type": "display_data"
    }
   ],
   "source": [
    "plt.plot(resultats)"
   ]
  },
  {
   "cell_type": "code",
   "execution_count": null,
   "metadata": {},
   "outputs": [],
   "source": []
  },
  {
   "cell_type": "code",
   "execution_count": null,
   "metadata": {},
   "outputs": [],
   "source": []
  },
  {
   "cell_type": "code",
   "execution_count": null,
   "metadata": {},
   "outputs": [],
   "source": []
  },
  {
   "cell_type": "code",
   "execution_count": null,
   "metadata": {},
   "outputs": [],
   "source": []
  }
 ],
 "metadata": {
  "kernelspec": {
   "display_name": "Python 3",
   "language": "python",
   "name": "python3"
  },
  "language_info": {
   "codemirror_mode": {
    "name": "ipython",
    "version": 3
   },
   "file_extension": ".py",
   "mimetype": "text/x-python",
   "name": "python",
   "nbconvert_exporter": "python",
   "pygments_lexer": "ipython3",
   "version": "3.6.8"
  }
 },
 "nbformat": 4,
 "nbformat_minor": 2
}
