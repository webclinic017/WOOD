{
 "cells": [
  {
   "cell_type": "code",
   "execution_count": 1,
   "metadata": {},
   "outputs": [],
   "source": [
    "___Author___='LumberJack Jyss'"
   ]
  },
  {
   "cell_type": "code",
   "execution_count": 2,
   "metadata": {},
   "outputs": [
    {
     "name": "stdout",
     "output_type": "stream",
     "text": [
      "Global Optimized LumberJack Equities Method\n",
      "°OoO_FOREX_Oo0°\n",
      "LumberJack Jyss 5779(c)\n"
     ]
    }
   ],
   "source": [
    "print('Global Optimized LumberJack Equities Method\\n°OoO_FOREX_Oo0°\\nLumberJack Jyss 5779(c)')"
   ]
  },
  {
   "cell_type": "code",
   "execution_count": 28,
   "metadata": {},
   "outputs": [
    {
     "name": "stdout",
     "output_type": "stream",
     "text": [
      "Importation des librairies...\n",
      "Librairies importées\n"
     ]
    }
   ],
   "source": [
    "print('Importation des librairies...')\n",
    "import numpy as np\n",
    "import pandas as pd\n",
    "from statsmodels.tsa.vector_ar.vecm import coint_johansen\n",
    "import statsmodels.api as sm\n",
    "import matplotlib\n",
    "import matplotlib.pyplot as plt\n",
    "matplotlib.use('TkAgg')\n",
    "import seaborn as sns\n",
    "%matplotlib inline\n",
    "print('Librairies importées')"
   ]
  },
  {
   "cell_type": "code",
   "execution_count": 7,
   "metadata": {},
   "outputs": [],
   "source": [
    "# SCRAPING DES DONNES BRUTES\n",
    "gbpjpy = pd.read_csv('gbpjpy_15mn_1Y.csv')\n",
    "gbpjpy = gbpjpy.set_index('Date')\n",
    "gbpjpy = gbpjpy.iloc[:,1:-1]\n",
    "gbpusd = pd.read_csv('gbpusd_15mn_1Y.csv')\n",
    "gbpusd = gbpusd.set_index('Date')\n",
    "gbpusd = gbpusd.iloc[:-2,1:-1]\n",
    "eurusd = pd.read_csv('eurusd_15mn_1Y.csv')\n",
    "eurusd = eurusd.set_index('Date')\n",
    "eurusd = eurusd.iloc[:-2,1:-1]\n",
    "df = pd.DataFrame({'x':gbpjpy['Close'],'y':gbpusd['Close'],'z':eurusd['Close']})"
   ]
  },
  {
   "cell_type": "code",
   "execution_count": 10,
   "metadata": {},
   "outputs": [],
   "source": [
    "coint = coint_johansen(df,0,1)"
   ]
  },
  {
   "cell_type": "code",
   "execution_count": 12,
   "metadata": {},
   "outputs": [
    {
     "data": {
      "text/plain": [
       "array([5.59898533e-04, 3.77733176e-04, 9.53621067e-05])"
      ]
     },
     "execution_count": 12,
     "metadata": {},
     "output_type": "execute_result"
    }
   ],
   "source": [
    "coint.eig"
   ]
  },
  {
   "cell_type": "code",
   "execution_count": 13,
   "metadata": {},
   "outputs": [
    {
     "data": {
      "text/plain": [
       "array([[ -0.10471411,  -0.55159454,   0.10909666],\n",
       "       [-26.44295974,  51.0836691 , -51.19829245],\n",
       "       [-15.8941922 ,   9.00249642,  63.75593769]])"
      ]
     },
     "execution_count": 13,
     "metadata": {},
     "output_type": "execute_result"
    }
   ],
   "source": [
    "coint.evec"
   ]
  },
  {
   "cell_type": "code",
   "execution_count": 14,
   "metadata": {},
   "outputs": [
    {
     "data": {
      "text/plain": [
       "array([25.29235208, 11.58275754,  2.33448032])"
      ]
     },
     "execution_count": 14,
     "metadata": {},
     "output_type": "execute_result"
    }
   ],
   "source": [
    "coint.lr1"
   ]
  },
  {
   "cell_type": "code",
   "execution_count": 15,
   "metadata": {},
   "outputs": [
    {
     "data": {
      "text/plain": [
       "array([13.70959455,  9.24827721,  2.33448032])"
      ]
     },
     "execution_count": 15,
     "metadata": {},
     "output_type": "execute_result"
    }
   ],
   "source": [
    "coint.lr2"
   ]
  },
  {
   "cell_type": "code",
   "execution_count": 16,
   "metadata": {},
   "outputs": [
    {
     "data": {
      "text/plain": [
       "array([[27.0669, 29.7961, 35.4628],\n",
       "       [13.4294, 15.4943, 19.9349],\n",
       "       [ 2.7055,  3.8415,  6.6349]])"
      ]
     },
     "execution_count": 16,
     "metadata": {},
     "output_type": "execute_result"
    }
   ],
   "source": [
    "coint.cvt"
   ]
  },
  {
   "cell_type": "code",
   "execution_count": 17,
   "metadata": {},
   "outputs": [
    {
     "data": {
      "text/plain": [
       "array([[18.8928, 21.1314, 25.865 ],\n",
       "       [12.2971, 14.2639, 18.52  ],\n",
       "       [ 2.7055,  3.8415,  6.6349]])"
      ]
     },
     "execution_count": 17,
     "metadata": {},
     "output_type": "execute_result"
    }
   ],
   "source": [
    "coint.cvm"
   ]
  },
  {
   "cell_type": "code",
   "execution_count": 21,
   "metadata": {},
   "outputs": [
    {
     "data": {
      "text/plain": [
       "array([[-1.45811546e-02,  5.88626803e-05, -2.53913502e-04],\n",
       "       [-4.17845387e-02,  5.89436934e-05,  1.69434290e-04],\n",
       "       [ 8.49666860e-03,  1.65666280e-04,  2.75969339e-04],\n",
       "       ...,\n",
       "       [-5.66546852e-02, -9.84586726e-05, -4.45947868e-05],\n",
       "       [ 1.97270708e-01,  4.59958941e-04,  8.36574956e-04],\n",
       "       [-3.34091141e-02, -4.81621280e-04,  1.50028677e-04]])"
      ]
     },
     "execution_count": 21,
     "metadata": {},
     "output_type": "execute_result"
    }
   ],
   "source": [
    "coint.r0t"
   ]
  },
  {
   "cell_type": "code",
   "execution_count": 23,
   "metadata": {},
   "outputs": [
    {
     "data": {
      "text/plain": [
       "array([0, 1, 2])"
      ]
     },
     "execution_count": 23,
     "metadata": {},
     "output_type": "execute_result"
    }
   ],
   "source": [
    "coint.ind"
   ]
  },
  {
   "cell_type": "code",
   "execution_count": 24,
   "metadata": {},
   "outputs": [
    {
     "data": {
      "text/plain": [
       "'johansen'"
      ]
     },
     "execution_count": 24,
     "metadata": {},
     "output_type": "execute_result"
    }
   ],
   "source": [
    "coint.meth"
   ]
  },
  {
   "cell_type": "code",
   "execution_count": 31,
   "metadata": {},
   "outputs": [],
   "source": [
    "results = sm.OLS(gbpjpy['Close'], gbpusd['Close']).fit()"
   ]
  },
  {
   "cell_type": "code",
   "execution_count": 35,
   "metadata": {},
   "outputs": [
    {
     "data": {
      "text/html": [
       "<table class=\"simpletable\">\n",
       "<caption>OLS Regression Results</caption>\n",
       "<tr>\n",
       "  <th>Dep. Variable:</th>          <td>Close</td>      <th>  R-squared:         </th> <td>   1.000</td> \n",
       "</tr>\n",
       "<tr>\n",
       "  <th>Model:</th>                   <td>OLS</td>       <th>  Adj. R-squared:    </th> <td>   1.000</td> \n",
       "</tr>\n",
       "<tr>\n",
       "  <th>Method:</th>             <td>Least Squares</td>  <th>  F-statistic:       </th> <td>1.553e+08</td>\n",
       "</tr>\n",
       "<tr>\n",
       "  <th>Date:</th>             <td>Wed, 15 May 2019</td> <th>  Prob (F-statistic):</th>  <td>  0.00</td>  \n",
       "</tr>\n",
       "<tr>\n",
       "  <th>Time:</th>                 <td>14:41:26</td>     <th>  Log-Likelihood:    </th> <td> -49417.</td> \n",
       "</tr>\n",
       "<tr>\n",
       "  <th>No. Observations:</th>      <td> 24481</td>      <th>  AIC:               </th> <td>9.884e+04</td>\n",
       "</tr>\n",
       "<tr>\n",
       "  <th>Df Residuals:</th>          <td> 24480</td>      <th>  BIC:               </th> <td>9.884e+04</td>\n",
       "</tr>\n",
       "<tr>\n",
       "  <th>Df Model:</th>              <td>     1</td>      <th>                     </th>     <td> </td>    \n",
       "</tr>\n",
       "<tr>\n",
       "  <th>Covariance Type:</th>      <td>nonrobust</td>    <th>                     </th>     <td> </td>    \n",
       "</tr>\n",
       "</table>\n",
       "<table class=\"simpletable\">\n",
       "<tr>\n",
       "    <td></td>       <th>coef</th>     <th>std err</th>      <th>t</th>      <th>P>|t|</th>  <th>[0.025</th>    <th>0.975]</th>  \n",
       "</tr>\n",
       "<tr>\n",
       "  <th>Close</th> <td>  111.2406</td> <td>    0.009</td> <td> 1.25e+04</td> <td> 0.000</td> <td>  111.223</td> <td>  111.258</td>\n",
       "</tr>\n",
       "</table>\n",
       "<table class=\"simpletable\">\n",
       "<tr>\n",
       "  <th>Omnibus:</th>       <td>639.703</td> <th>  Durbin-Watson:     </th> <td>   0.001</td>\n",
       "</tr>\n",
       "<tr>\n",
       "  <th>Prob(Omnibus):</th> <td> 0.000</td>  <th>  Jarque-Bera (JB):  </th> <td> 325.798</td>\n",
       "</tr>\n",
       "<tr>\n",
       "  <th>Skew:</th>          <td>-0.055</td>  <th>  Prob(JB):          </th> <td>1.79e-71</td>\n",
       "</tr>\n",
       "<tr>\n",
       "  <th>Kurtosis:</th>      <td> 2.445</td>  <th>  Cond. No.          </th> <td>    1.00</td>\n",
       "</tr>\n",
       "</table><br/><br/>Warnings:<br/>[1] Standard Errors assume that the covariance matrix of the errors is correctly specified."
      ],
      "text/plain": [
       "<class 'statsmodels.iolib.summary.Summary'>\n",
       "\"\"\"\n",
       "                            OLS Regression Results                            \n",
       "==============================================================================\n",
       "Dep. Variable:                  Close   R-squared:                       1.000\n",
       "Model:                            OLS   Adj. R-squared:                  1.000\n",
       "Method:                 Least Squares   F-statistic:                 1.553e+08\n",
       "Date:                Wed, 15 May 2019   Prob (F-statistic):               0.00\n",
       "Time:                        14:41:26   Log-Likelihood:                -49417.\n",
       "No. Observations:               24481   AIC:                         9.884e+04\n",
       "Df Residuals:                   24480   BIC:                         9.884e+04\n",
       "Df Model:                           1                                         \n",
       "Covariance Type:            nonrobust                                         \n",
       "==============================================================================\n",
       "                 coef    std err          t      P>|t|      [0.025      0.975]\n",
       "------------------------------------------------------------------------------\n",
       "Close        111.2406      0.009   1.25e+04      0.000     111.223     111.258\n",
       "==============================================================================\n",
       "Omnibus:                      639.703   Durbin-Watson:                   0.001\n",
       "Prob(Omnibus):                  0.000   Jarque-Bera (JB):              325.798\n",
       "Skew:                          -0.055   Prob(JB):                     1.79e-71\n",
       "Kurtosis:                       2.445   Cond. No.                         1.00\n",
       "==============================================================================\n",
       "\n",
       "Warnings:\n",
       "[1] Standard Errors assume that the covariance matrix of the errors is correctly specified.\n",
       "\"\"\""
      ]
     },
     "execution_count": 35,
     "metadata": {},
     "output_type": "execute_result"
    }
   ],
   "source": [
    "results.summary()"
   ]
  },
  {
   "cell_type": "code",
   "execution_count": 22,
   "metadata": {},
   "outputs": [
    {
     "data": {
      "text/html": [
       "<div>\n",
       "<style scoped>\n",
       "    .dataframe tbody tr th:only-of-type {\n",
       "        vertical-align: middle;\n",
       "    }\n",
       "\n",
       "    .dataframe tbody tr th {\n",
       "        vertical-align: top;\n",
       "    }\n",
       "\n",
       "    .dataframe thead th {\n",
       "        text-align: right;\n",
       "    }\n",
       "</style>\n",
       "<table border=\"1\" class=\"dataframe\">\n",
       "  <thead>\n",
       "    <tr style=\"text-align: right;\">\n",
       "      <th></th>\n",
       "      <th>x</th>\n",
       "      <th>y</th>\n",
       "      <th>z</th>\n",
       "    </tr>\n",
       "    <tr>\n",
       "      <th>Date</th>\n",
       "      <th></th>\n",
       "      <th></th>\n",
       "      <th></th>\n",
       "    </tr>\n",
       "  </thead>\n",
       "  <tbody>\n",
       "    <tr>\n",
       "      <th>20180506  23:30:00</th>\n",
       "      <td>2.609233</td>\n",
       "      <td>0.049417</td>\n",
       "      <td>0.047476</td>\n",
       "    </tr>\n",
       "    <tr>\n",
       "      <th>20180506  23:45:00</th>\n",
       "      <td>2.609635</td>\n",
       "      <td>0.049504</td>\n",
       "      <td>0.047376</td>\n",
       "    </tr>\n",
       "    <tr>\n",
       "      <th>20180507  00:00:00</th>\n",
       "      <td>2.594378</td>\n",
       "      <td>0.049715</td>\n",
       "      <td>0.047390</td>\n",
       "    </tr>\n",
       "    <tr>\n",
       "      <th>20180507  00:15:00</th>\n",
       "      <td>2.563840</td>\n",
       "      <td>0.049649</td>\n",
       "      <td>0.047513</td>\n",
       "    </tr>\n",
       "    <tr>\n",
       "      <th>20180507  00:30:00</th>\n",
       "      <td>2.541510</td>\n",
       "      <td>0.049252</td>\n",
       "      <td>0.047287</td>\n",
       "    </tr>\n",
       "    <tr>\n",
       "      <th>20180507  00:45:00</th>\n",
       "      <td>2.604015</td>\n",
       "      <td>0.049598</td>\n",
       "      <td>0.047396</td>\n",
       "    </tr>\n",
       "    <tr>\n",
       "      <th>20180507  01:00:00</th>\n",
       "      <td>2.603853</td>\n",
       "      <td>0.049283</td>\n",
       "      <td>0.047193</td>\n",
       "    </tr>\n",
       "    <tr>\n",
       "      <th>20180507  01:15:00</th>\n",
       "      <td>2.688593</td>\n",
       "      <td>0.049525</td>\n",
       "      <td>0.047278</td>\n",
       "    </tr>\n",
       "    <tr>\n",
       "      <th>20180507  01:30:00</th>\n",
       "      <td>2.703114</td>\n",
       "      <td>0.049783</td>\n",
       "      <td>0.047373</td>\n",
       "    </tr>\n",
       "    <tr>\n",
       "      <th>20180507  01:45:00</th>\n",
       "      <td>2.624079</td>\n",
       "      <td>0.049256</td>\n",
       "      <td>0.047031</td>\n",
       "    </tr>\n",
       "    <tr>\n",
       "      <th>20180507  02:00:00</th>\n",
       "      <td>2.637282</td>\n",
       "      <td>0.050155</td>\n",
       "      <td>0.047656</td>\n",
       "    </tr>\n",
       "    <tr>\n",
       "      <th>20180507  02:15:00</th>\n",
       "      <td>2.512877</td>\n",
       "      <td>0.049941</td>\n",
       "      <td>0.047785</td>\n",
       "    </tr>\n",
       "    <tr>\n",
       "      <th>20180507  02:30:00</th>\n",
       "      <td>2.497386</td>\n",
       "      <td>0.050002</td>\n",
       "      <td>0.047796</td>\n",
       "    </tr>\n",
       "    <tr>\n",
       "      <th>20180507  02:45:00</th>\n",
       "      <td>2.538812</td>\n",
       "      <td>0.050836</td>\n",
       "      <td>0.048327</td>\n",
       "    </tr>\n",
       "    <tr>\n",
       "      <th>20180507  03:00:00</th>\n",
       "      <td>2.478407</td>\n",
       "      <td>0.051510</td>\n",
       "      <td>0.048921</td>\n",
       "    </tr>\n",
       "    <tr>\n",
       "      <th>20180507  03:15:00</th>\n",
       "      <td>2.336105</td>\n",
       "      <td>0.050834</td>\n",
       "      <td>0.048604</td>\n",
       "    </tr>\n",
       "    <tr>\n",
       "      <th>20180507  03:30:00</th>\n",
       "      <td>2.353542</td>\n",
       "      <td>0.050613</td>\n",
       "      <td>0.048504</td>\n",
       "    </tr>\n",
       "    <tr>\n",
       "      <th>20180507  03:45:00</th>\n",
       "      <td>2.408547</td>\n",
       "      <td>0.050246</td>\n",
       "      <td>0.047974</td>\n",
       "    </tr>\n",
       "    <tr>\n",
       "      <th>20180507  04:00:00</th>\n",
       "      <td>2.564765</td>\n",
       "      <td>0.051223</td>\n",
       "      <td>0.048436</td>\n",
       "    </tr>\n",
       "    <tr>\n",
       "      <th>20180507  04:15:00</th>\n",
       "      <td>2.575625</td>\n",
       "      <td>0.051524</td>\n",
       "      <td>0.048671</td>\n",
       "    </tr>\n",
       "    <tr>\n",
       "      <th>20180507  04:30:00</th>\n",
       "      <td>2.573951</td>\n",
       "      <td>0.051466</td>\n",
       "      <td>0.048619</td>\n",
       "    </tr>\n",
       "    <tr>\n",
       "      <th>20180507  04:45:00</th>\n",
       "      <td>2.607449</td>\n",
       "      <td>0.051372</td>\n",
       "      <td>0.048566</td>\n",
       "    </tr>\n",
       "    <tr>\n",
       "      <th>20180507  05:00:00</th>\n",
       "      <td>2.700056</td>\n",
       "      <td>0.051915</td>\n",
       "      <td>0.048828</td>\n",
       "    </tr>\n",
       "    <tr>\n",
       "      <th>20180507  05:15:00</th>\n",
       "      <td>2.712224</td>\n",
       "      <td>0.052108</td>\n",
       "      <td>0.048935</td>\n",
       "    </tr>\n",
       "    <tr>\n",
       "      <th>20180507  05:30:00</th>\n",
       "      <td>2.696218</td>\n",
       "      <td>0.052080</td>\n",
       "      <td>0.048882</td>\n",
       "    </tr>\n",
       "    <tr>\n",
       "      <th>20180507  05:45:00</th>\n",
       "      <td>2.626486</td>\n",
       "      <td>0.051396</td>\n",
       "      <td>0.048290</td>\n",
       "    </tr>\n",
       "    <tr>\n",
       "      <th>20180507  06:00:00</th>\n",
       "      <td>2.640100</td>\n",
       "      <td>0.050745</td>\n",
       "      <td>0.047686</td>\n",
       "    </tr>\n",
       "    <tr>\n",
       "      <th>20180507  06:15:00</th>\n",
       "      <td>2.707408</td>\n",
       "      <td>0.050810</td>\n",
       "      <td>0.047638</td>\n",
       "    </tr>\n",
       "    <tr>\n",
       "      <th>20180507  06:30:00</th>\n",
       "      <td>2.738621</td>\n",
       "      <td>0.050651</td>\n",
       "      <td>0.047428</td>\n",
       "    </tr>\n",
       "    <tr>\n",
       "      <th>20180507  06:45:00</th>\n",
       "      <td>2.781353</td>\n",
       "      <td>0.050914</td>\n",
       "      <td>0.047468</td>\n",
       "    </tr>\n",
       "    <tr>\n",
       "      <th>...</th>\n",
       "      <td>...</td>\n",
       "      <td>...</td>\n",
       "      <td>...</td>\n",
       "    </tr>\n",
       "    <tr>\n",
       "      <th>20190503  16:30:00</th>\n",
       "      <td>0.425314</td>\n",
       "      <td>0.003722</td>\n",
       "      <td>-0.030614</td>\n",
       "    </tr>\n",
       "    <tr>\n",
       "      <th>20190503  16:45:00</th>\n",
       "      <td>0.769244</td>\n",
       "      <td>0.006273</td>\n",
       "      <td>-0.029769</td>\n",
       "    </tr>\n",
       "    <tr>\n",
       "      <th>20190503  17:00:00</th>\n",
       "      <td>1.194093</td>\n",
       "      <td>0.010125</td>\n",
       "      <td>-0.028983</td>\n",
       "    </tr>\n",
       "    <tr>\n",
       "      <th>20190503  17:15:00</th>\n",
       "      <td>1.199481</td>\n",
       "      <td>0.011697</td>\n",
       "      <td>-0.029278</td>\n",
       "    </tr>\n",
       "    <tr>\n",
       "      <th>20190503  17:30:00</th>\n",
       "      <td>1.025666</td>\n",
       "      <td>0.009632</td>\n",
       "      <td>-0.030067</td>\n",
       "    </tr>\n",
       "    <tr>\n",
       "      <th>20190503  17:45:00</th>\n",
       "      <td>1.106725</td>\n",
       "      <td>0.009604</td>\n",
       "      <td>-0.029911</td>\n",
       "    </tr>\n",
       "    <tr>\n",
       "      <th>20190503  18:00:00</th>\n",
       "      <td>1.110841</td>\n",
       "      <td>0.009689</td>\n",
       "      <td>-0.029794</td>\n",
       "    </tr>\n",
       "    <tr>\n",
       "      <th>20190503  18:15:00</th>\n",
       "      <td>1.189162</td>\n",
       "      <td>0.010282</td>\n",
       "      <td>-0.029303</td>\n",
       "    </tr>\n",
       "    <tr>\n",
       "      <th>20190503  18:30:00</th>\n",
       "      <td>1.264487</td>\n",
       "      <td>0.011269</td>\n",
       "      <td>-0.028841</td>\n",
       "    </tr>\n",
       "    <tr>\n",
       "      <th>20190503  18:45:00</th>\n",
       "      <td>1.182304</td>\n",
       "      <td>0.011036</td>\n",
       "      <td>-0.029109</td>\n",
       "    </tr>\n",
       "    <tr>\n",
       "      <th>20190503  19:00:00</th>\n",
       "      <td>1.182694</td>\n",
       "      <td>0.010710</td>\n",
       "      <td>-0.029073</td>\n",
       "    </tr>\n",
       "    <tr>\n",
       "      <th>20190503  19:15:00</th>\n",
       "      <td>1.202937</td>\n",
       "      <td>0.010896</td>\n",
       "      <td>-0.029156</td>\n",
       "    </tr>\n",
       "    <tr>\n",
       "      <th>20190503  19:30:00</th>\n",
       "      <td>1.249866</td>\n",
       "      <td>0.011325</td>\n",
       "      <td>-0.029113</td>\n",
       "    </tr>\n",
       "    <tr>\n",
       "      <th>20190503  19:45:00</th>\n",
       "      <td>1.248667</td>\n",
       "      <td>0.011665</td>\n",
       "      <td>-0.029192</td>\n",
       "    </tr>\n",
       "    <tr>\n",
       "      <th>20190503  20:00:00</th>\n",
       "      <td>1.276974</td>\n",
       "      <td>0.012174</td>\n",
       "      <td>-0.029170</td>\n",
       "    </tr>\n",
       "    <tr>\n",
       "      <th>20190503  20:15:00</th>\n",
       "      <td>1.230782</td>\n",
       "      <td>0.012314</td>\n",
       "      <td>-0.029314</td>\n",
       "    </tr>\n",
       "    <tr>\n",
       "      <th>20190503  20:30:00</th>\n",
       "      <td>1.251643</td>\n",
       "      <td>0.012718</td>\n",
       "      <td>-0.028867</td>\n",
       "    </tr>\n",
       "    <tr>\n",
       "      <th>20190503  20:45:00</th>\n",
       "      <td>1.180098</td>\n",
       "      <td>0.012445</td>\n",
       "      <td>-0.029074</td>\n",
       "    </tr>\n",
       "    <tr>\n",
       "      <th>20190503  21:00:00</th>\n",
       "      <td>1.228026</td>\n",
       "      <td>0.012744</td>\n",
       "      <td>-0.029006</td>\n",
       "    </tr>\n",
       "    <tr>\n",
       "      <th>20190503  21:15:00</th>\n",
       "      <td>1.235534</td>\n",
       "      <td>0.012906</td>\n",
       "      <td>-0.028936</td>\n",
       "    </tr>\n",
       "    <tr>\n",
       "      <th>20190503  21:30:00</th>\n",
       "      <td>1.233854</td>\n",
       "      <td>0.012826</td>\n",
       "      <td>-0.028859</td>\n",
       "    </tr>\n",
       "    <tr>\n",
       "      <th>20190503  21:45:00</th>\n",
       "      <td>1.227763</td>\n",
       "      <td>0.012794</td>\n",
       "      <td>-0.028728</td>\n",
       "    </tr>\n",
       "    <tr>\n",
       "      <th>20190503  22:00:00</th>\n",
       "      <td>1.218611</td>\n",
       "      <td>0.012737</td>\n",
       "      <td>-0.028578</td>\n",
       "    </tr>\n",
       "    <tr>\n",
       "      <th>20190503  22:15:00</th>\n",
       "      <td>1.222364</td>\n",
       "      <td>0.012837</td>\n",
       "      <td>-0.028383</td>\n",
       "    </tr>\n",
       "    <tr>\n",
       "      <th>20190503  22:30:00</th>\n",
       "      <td>1.204253</td>\n",
       "      <td>0.012661</td>\n",
       "      <td>-0.028349</td>\n",
       "    </tr>\n",
       "    <tr>\n",
       "      <th>20190503  22:45:00</th>\n",
       "      <td>1.283770</td>\n",
       "      <td>0.013177</td>\n",
       "      <td>-0.028246</td>\n",
       "    </tr>\n",
       "    <tr>\n",
       "      <th>20190505  23:15:00</th>\n",
       "      <td>1.095327</td>\n",
       "      <td>0.015109</td>\n",
       "      <td>-0.028030</td>\n",
       "    </tr>\n",
       "    <tr>\n",
       "      <th>20190505  23:30:00</th>\n",
       "      <td>0.524739</td>\n",
       "      <td>0.011812</td>\n",
       "      <td>-0.030633</td>\n",
       "    </tr>\n",
       "    <tr>\n",
       "      <th>20190505  23:45:00</th>\n",
       "      <td>0.530443</td>\n",
       "      <td>0.012182</td>\n",
       "      <td>-0.030499</td>\n",
       "    </tr>\n",
       "    <tr>\n",
       "      <th>20190506  00:00:00</th>\n",
       "      <td>0.534328</td>\n",
       "      <td>0.011552</td>\n",
       "      <td>-0.030627</td>\n",
       "    </tr>\n",
       "  </tbody>\n",
       "</table>\n",
       "<p>24479 rows × 3 columns</p>\n",
       "</div>"
      ],
      "text/plain": [
       "                           x         y         z\n",
       "Date                                            \n",
       "20180506  23:30:00  2.609233  0.049417  0.047476\n",
       "20180506  23:45:00  2.609635  0.049504  0.047376\n",
       "20180507  00:00:00  2.594378  0.049715  0.047390\n",
       "20180507  00:15:00  2.563840  0.049649  0.047513\n",
       "20180507  00:30:00  2.541510  0.049252  0.047287\n",
       "20180507  00:45:00  2.604015  0.049598  0.047396\n",
       "20180507  01:00:00  2.603853  0.049283  0.047193\n",
       "20180507  01:15:00  2.688593  0.049525  0.047278\n",
       "20180507  01:30:00  2.703114  0.049783  0.047373\n",
       "20180507  01:45:00  2.624079  0.049256  0.047031\n",
       "20180507  02:00:00  2.637282  0.050155  0.047656\n",
       "20180507  02:15:00  2.512877  0.049941  0.047785\n",
       "20180507  02:30:00  2.497386  0.050002  0.047796\n",
       "20180507  02:45:00  2.538812  0.050836  0.048327\n",
       "20180507  03:00:00  2.478407  0.051510  0.048921\n",
       "20180507  03:15:00  2.336105  0.050834  0.048604\n",
       "20180507  03:30:00  2.353542  0.050613  0.048504\n",
       "20180507  03:45:00  2.408547  0.050246  0.047974\n",
       "20180507  04:00:00  2.564765  0.051223  0.048436\n",
       "20180507  04:15:00  2.575625  0.051524  0.048671\n",
       "20180507  04:30:00  2.573951  0.051466  0.048619\n",
       "20180507  04:45:00  2.607449  0.051372  0.048566\n",
       "20180507  05:00:00  2.700056  0.051915  0.048828\n",
       "20180507  05:15:00  2.712224  0.052108  0.048935\n",
       "20180507  05:30:00  2.696218  0.052080  0.048882\n",
       "20180507  05:45:00  2.626486  0.051396  0.048290\n",
       "20180507  06:00:00  2.640100  0.050745  0.047686\n",
       "20180507  06:15:00  2.707408  0.050810  0.047638\n",
       "20180507  06:30:00  2.738621  0.050651  0.047428\n",
       "20180507  06:45:00  2.781353  0.050914  0.047468\n",
       "...                      ...       ...       ...\n",
       "20190503  16:30:00  0.425314  0.003722 -0.030614\n",
       "20190503  16:45:00  0.769244  0.006273 -0.029769\n",
       "20190503  17:00:00  1.194093  0.010125 -0.028983\n",
       "20190503  17:15:00  1.199481  0.011697 -0.029278\n",
       "20190503  17:30:00  1.025666  0.009632 -0.030067\n",
       "20190503  17:45:00  1.106725  0.009604 -0.029911\n",
       "20190503  18:00:00  1.110841  0.009689 -0.029794\n",
       "20190503  18:15:00  1.189162  0.010282 -0.029303\n",
       "20190503  18:30:00  1.264487  0.011269 -0.028841\n",
       "20190503  18:45:00  1.182304  0.011036 -0.029109\n",
       "20190503  19:00:00  1.182694  0.010710 -0.029073\n",
       "20190503  19:15:00  1.202937  0.010896 -0.029156\n",
       "20190503  19:30:00  1.249866  0.011325 -0.029113\n",
       "20190503  19:45:00  1.248667  0.011665 -0.029192\n",
       "20190503  20:00:00  1.276974  0.012174 -0.029170\n",
       "20190503  20:15:00  1.230782  0.012314 -0.029314\n",
       "20190503  20:30:00  1.251643  0.012718 -0.028867\n",
       "20190503  20:45:00  1.180098  0.012445 -0.029074\n",
       "20190503  21:00:00  1.228026  0.012744 -0.029006\n",
       "20190503  21:15:00  1.235534  0.012906 -0.028936\n",
       "20190503  21:30:00  1.233854  0.012826 -0.028859\n",
       "20190503  21:45:00  1.227763  0.012794 -0.028728\n",
       "20190503  22:00:00  1.218611  0.012737 -0.028578\n",
       "20190503  22:15:00  1.222364  0.012837 -0.028383\n",
       "20190503  22:30:00  1.204253  0.012661 -0.028349\n",
       "20190503  22:45:00  1.283770  0.013177 -0.028246\n",
       "20190505  23:15:00  1.095327  0.015109 -0.028030\n",
       "20190505  23:30:00  0.524739  0.011812 -0.030633\n",
       "20190505  23:45:00  0.530443  0.012182 -0.030499\n",
       "20190506  00:00:00  0.534328  0.011552 -0.030627\n",
       "\n",
       "[24479 rows x 3 columns]"
      ]
     },
     "execution_count": 22,
     "metadata": {},
     "output_type": "execute_result"
    }
   ],
   "source": [
    "coint.rkt"
   ]
  },
  {
   "cell_type": "code",
   "execution_count": null,
   "metadata": {},
   "outputs": [],
   "source": []
  }
 ],
 "metadata": {
  "kernelspec": {
   "display_name": "Python 3",
   "language": "python",
   "name": "python3"
  },
  "language_info": {
   "codemirror_mode": {
    "name": "ipython",
    "version": 3
   },
   "file_extension": ".py",
   "mimetype": "text/x-python",
   "name": "python",
   "nbconvert_exporter": "python",
   "pygments_lexer": "ipython3",
   "version": "3.6.8"
  }
 },
 "nbformat": 4,
 "nbformat_minor": 2
}
