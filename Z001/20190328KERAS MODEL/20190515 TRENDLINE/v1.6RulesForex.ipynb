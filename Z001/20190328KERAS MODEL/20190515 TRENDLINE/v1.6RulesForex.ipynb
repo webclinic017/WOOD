{
 "cells": [
  {
   "cell_type": "code",
   "execution_count": 65,
   "metadata": {},
   "outputs": [],
   "source": [
    "___Author___='LumberJack Jyss'"
   ]
  },
  {
   "cell_type": "code",
   "execution_count": 66,
   "metadata": {},
   "outputs": [
    {
     "name": "stdout",
     "output_type": "stream",
     "text": [
      "LumberJack BRUTAL AtidotCom TREND RULES\n",
      "LumberJack Jyss 5779(c)\n"
     ]
    }
   ],
   "source": [
    "print('LumberJack BRUTAL AtidotCom TREND RULES\\nLumberJack Jyss 5779(c)')"
   ]
  },
  {
   "cell_type": "code",
   "execution_count": 67,
   "metadata": {},
   "outputs": [],
   "source": [
    "import pandas as pd\n",
    "import numpy as np\n",
    "import matplotlib\n",
    "import matplotlib.pyplot as plt\n",
    "%matplotlib inline"
   ]
  },
  {
   "cell_type": "code",
   "execution_count": 71,
   "metadata": {},
   "outputs": [],
   "source": [
    "df =  pd.read_csv('eurusd.csv')\n",
    "#df =  pd.read_csv('dataset_daily.csv')"
   ]
  },
  {
   "cell_type": "code",
   "execution_count": 72,
   "metadata": {},
   "outputs": [
    {
     "data": {
      "text/html": [
       "<div>\n",
       "<style scoped>\n",
       "    .dataframe tbody tr th:only-of-type {\n",
       "        vertical-align: middle;\n",
       "    }\n",
       "\n",
       "    .dataframe tbody tr th {\n",
       "        vertical-align: top;\n",
       "    }\n",
       "\n",
       "    .dataframe thead th {\n",
       "        text-align: right;\n",
       "    }\n",
       "</style>\n",
       "<table border=\"1\" class=\"dataframe\">\n",
       "  <thead>\n",
       "    <tr style=\"text-align: right;\">\n",
       "      <th></th>\n",
       "      <th>Date</th>\n",
       "      <th>oc_eurusd</th>\n",
       "      <th>hl_eurusd</th>\n",
       "      <th>eurusd_close</th>\n",
       "      <th>eurusd_Doc</th>\n",
       "      <th>eurusd_Dhl</th>\n",
       "      <th>rsi_eurusd</th>\n",
       "      <th>ema5_eurusd</th>\n",
       "      <th>ema21_eurusd</th>\n",
       "      <th>EURUSD</th>\n",
       "      <th>short_eurusd</th>\n",
       "      <th>long_eurusd</th>\n",
       "    </tr>\n",
       "  </thead>\n",
       "  <tbody>\n",
       "    <tr>\n",
       "      <th>0</th>\n",
       "      <td>20180507  05:30:00</td>\n",
       "      <td>0.000155</td>\n",
       "      <td>0.000440</td>\n",
       "      <td>-0.000129</td>\n",
       "      <td>0.645161</td>\n",
       "      <td>0.611940</td>\n",
       "      <td>34.044301</td>\n",
       "      <td>1.197409</td>\n",
       "      <td>1.196776</td>\n",
       "      <td>1.197395</td>\n",
       "      <td>0</td>\n",
       "      <td>0</td>\n",
       "    </tr>\n",
       "    <tr>\n",
       "      <th>1</th>\n",
       "      <td>20180507  05:45:00</td>\n",
       "      <td>0.000695</td>\n",
       "      <td>0.000700</td>\n",
       "      <td>-0.000580</td>\n",
       "      <td>2.117647</td>\n",
       "      <td>0.481481</td>\n",
       "      <td>6.246257</td>\n",
       "      <td>1.197172</td>\n",
       "      <td>1.196769</td>\n",
       "      <td>1.196700</td>\n",
       "      <td>0</td>\n",
       "      <td>0</td>\n",
       "    </tr>\n",
       "    <tr>\n",
       "      <th>2</th>\n",
       "      <td>20180507  06:00:00</td>\n",
       "      <td>0.000125</td>\n",
       "      <td>0.000425</td>\n",
       "      <td>-0.000104</td>\n",
       "      <td>-0.716981</td>\n",
       "      <td>-0.343750</td>\n",
       "      <td>4.828158</td>\n",
       "      <td>1.196973</td>\n",
       "      <td>1.196751</td>\n",
       "      <td>1.196575</td>\n",
       "      <td>0</td>\n",
       "      <td>0</td>\n",
       "    </tr>\n",
       "    <tr>\n",
       "      <th>3</th>\n",
       "      <td>20180507  06:15:00</td>\n",
       "      <td>0.000395</td>\n",
       "      <td>0.000560</td>\n",
       "      <td>-0.000330</td>\n",
       "      <td>1.200000</td>\n",
       "      <td>0.257143</td>\n",
       "      <td>1.982946</td>\n",
       "      <td>1.196709</td>\n",
       "      <td>1.196699</td>\n",
       "      <td>1.196180</td>\n",
       "      <td>0</td>\n",
       "      <td>0</td>\n",
       "    </tr>\n",
       "    <tr>\n",
       "      <th>4</th>\n",
       "      <td>20180507  06:30:00</td>\n",
       "      <td>0.000025</td>\n",
       "      <td>0.000250</td>\n",
       "      <td>-0.000021</td>\n",
       "      <td>-0.747475</td>\n",
       "      <td>-0.469697</td>\n",
       "      <td>1.845297</td>\n",
       "      <td>1.196524</td>\n",
       "      <td>1.196650</td>\n",
       "      <td>1.196155</td>\n",
       "      <td>0</td>\n",
       "      <td>0</td>\n",
       "    </tr>\n",
       "  </tbody>\n",
       "</table>\n",
       "</div>"
      ],
      "text/plain": [
       "                 Date  oc_eurusd  hl_eurusd  eurusd_close  eurusd_Doc  \\\n",
       "0  20180507  05:30:00   0.000155   0.000440     -0.000129    0.645161   \n",
       "1  20180507  05:45:00   0.000695   0.000700     -0.000580    2.117647   \n",
       "2  20180507  06:00:00   0.000125   0.000425     -0.000104   -0.716981   \n",
       "3  20180507  06:15:00   0.000395   0.000560     -0.000330    1.200000   \n",
       "4  20180507  06:30:00   0.000025   0.000250     -0.000021   -0.747475   \n",
       "\n",
       "   eurusd_Dhl  rsi_eurusd  ema5_eurusd  ema21_eurusd    EURUSD  short_eurusd  \\\n",
       "0    0.611940   34.044301     1.197409      1.196776  1.197395             0   \n",
       "1    0.481481    6.246257     1.197172      1.196769  1.196700             0   \n",
       "2   -0.343750    4.828158     1.196973      1.196751  1.196575             0   \n",
       "3    0.257143    1.982946     1.196709      1.196699  1.196180             0   \n",
       "4   -0.469697    1.845297     1.196524      1.196650  1.196155             0   \n",
       "\n",
       "   long_eurusd  \n",
       "0            0  \n",
       "1            0  \n",
       "2            0  \n",
       "3            0  \n",
       "4            0  "
      ]
     },
     "execution_count": 72,
     "metadata": {},
     "output_type": "execute_result"
    }
   ],
   "source": [
    "df.head()"
   ]
  },
  {
   "cell_type": "code",
   "execution_count": 73,
   "metadata": {},
   "outputs": [
    {
     "data": {
      "text/html": [
       "<div>\n",
       "<style scoped>\n",
       "    .dataframe tbody tr th:only-of-type {\n",
       "        vertical-align: middle;\n",
       "    }\n",
       "\n",
       "    .dataframe tbody tr th {\n",
       "        vertical-align: top;\n",
       "    }\n",
       "\n",
       "    .dataframe thead th {\n",
       "        text-align: right;\n",
       "    }\n",
       "</style>\n",
       "<table border=\"1\" class=\"dataframe\">\n",
       "  <thead>\n",
       "    <tr style=\"text-align: right;\">\n",
       "      <th></th>\n",
       "      <th>oc_eurusd</th>\n",
       "      <th>hl_eurusd</th>\n",
       "      <th>eurusd_close</th>\n",
       "      <th>eurusd_Doc</th>\n",
       "      <th>eurusd_Dhl</th>\n",
       "      <th>rsi_eurusd</th>\n",
       "      <th>ema5_eurusd</th>\n",
       "      <th>ema21_eurusd</th>\n",
       "      <th>EURUSD</th>\n",
       "    </tr>\n",
       "    <tr>\n",
       "      <th>Date</th>\n",
       "      <th></th>\n",
       "      <th></th>\n",
       "      <th></th>\n",
       "      <th></th>\n",
       "      <th></th>\n",
       "      <th></th>\n",
       "      <th></th>\n",
       "      <th></th>\n",
       "      <th></th>\n",
       "    </tr>\n",
       "  </thead>\n",
       "  <tbody>\n",
       "    <tr>\n",
       "      <th>20180507  05:30:00</th>\n",
       "      <td>0.000155</td>\n",
       "      <td>0.000440</td>\n",
       "      <td>-0.000129</td>\n",
       "      <td>0.645161</td>\n",
       "      <td>0.611940</td>\n",
       "      <td>34.044301</td>\n",
       "      <td>1.197409</td>\n",
       "      <td>1.196776</td>\n",
       "      <td>1.197395</td>\n",
       "    </tr>\n",
       "    <tr>\n",
       "      <th>20180507  05:45:00</th>\n",
       "      <td>0.000695</td>\n",
       "      <td>0.000700</td>\n",
       "      <td>-0.000580</td>\n",
       "      <td>2.117647</td>\n",
       "      <td>0.481481</td>\n",
       "      <td>6.246257</td>\n",
       "      <td>1.197172</td>\n",
       "      <td>1.196769</td>\n",
       "      <td>1.196700</td>\n",
       "    </tr>\n",
       "    <tr>\n",
       "      <th>20180507  06:00:00</th>\n",
       "      <td>0.000125</td>\n",
       "      <td>0.000425</td>\n",
       "      <td>-0.000104</td>\n",
       "      <td>-0.716981</td>\n",
       "      <td>-0.343750</td>\n",
       "      <td>4.828158</td>\n",
       "      <td>1.196973</td>\n",
       "      <td>1.196751</td>\n",
       "      <td>1.196575</td>\n",
       "    </tr>\n",
       "    <tr>\n",
       "      <th>20180507  06:15:00</th>\n",
       "      <td>0.000395</td>\n",
       "      <td>0.000560</td>\n",
       "      <td>-0.000330</td>\n",
       "      <td>1.200000</td>\n",
       "      <td>0.257143</td>\n",
       "      <td>1.982946</td>\n",
       "      <td>1.196709</td>\n",
       "      <td>1.196699</td>\n",
       "      <td>1.196180</td>\n",
       "    </tr>\n",
       "    <tr>\n",
       "      <th>20180507  06:30:00</th>\n",
       "      <td>0.000025</td>\n",
       "      <td>0.000250</td>\n",
       "      <td>-0.000021</td>\n",
       "      <td>-0.747475</td>\n",
       "      <td>-0.469697</td>\n",
       "      <td>1.845297</td>\n",
       "      <td>1.196524</td>\n",
       "      <td>1.196650</td>\n",
       "      <td>1.196155</td>\n",
       "    </tr>\n",
       "  </tbody>\n",
       "</table>\n",
       "</div>"
      ],
      "text/plain": [
       "                    oc_eurusd  hl_eurusd  eurusd_close  eurusd_Doc  \\\n",
       "Date                                                                 \n",
       "20180507  05:30:00   0.000155   0.000440     -0.000129    0.645161   \n",
       "20180507  05:45:00   0.000695   0.000700     -0.000580    2.117647   \n",
       "20180507  06:00:00   0.000125   0.000425     -0.000104   -0.716981   \n",
       "20180507  06:15:00   0.000395   0.000560     -0.000330    1.200000   \n",
       "20180507  06:30:00   0.000025   0.000250     -0.000021   -0.747475   \n",
       "\n",
       "                    eurusd_Dhl  rsi_eurusd  ema5_eurusd  ema21_eurusd  \\\n",
       "Date                                                                    \n",
       "20180507  05:30:00    0.611940   34.044301     1.197409      1.196776   \n",
       "20180507  05:45:00    0.481481    6.246257     1.197172      1.196769   \n",
       "20180507  06:00:00   -0.343750    4.828158     1.196973      1.196751   \n",
       "20180507  06:15:00    0.257143    1.982946     1.196709      1.196699   \n",
       "20180507  06:30:00   -0.469697    1.845297     1.196524      1.196650   \n",
       "\n",
       "                      EURUSD  \n",
       "Date                          \n",
       "20180507  05:30:00  1.197395  \n",
       "20180507  05:45:00  1.196700  \n",
       "20180507  06:00:00  1.196575  \n",
       "20180507  06:15:00  1.196180  \n",
       "20180507  06:30:00  1.196155  "
      ]
     },
     "execution_count": 73,
     "metadata": {},
     "output_type": "execute_result"
    }
   ],
   "source": [
    "df.set_index(df['Date'],drop=True,inplace=True)\n",
    "df = df.iloc[:,1:10]\n",
    "df.head()"
   ]
  },
  {
   "cell_type": "code",
   "execution_count": 74,
   "metadata": {},
   "outputs": [
    {
     "name": "stdout",
     "output_type": "stream",
     "text": [
      "<class 'pandas.core.frame.DataFrame'>\n",
      "Index: 24456 entries, 20180507  05:30:00 to 20190506  00:15:00\n",
      "Data columns (total 9 columns):\n",
      "oc_eurusd       24456 non-null float64\n",
      "hl_eurusd       24456 non-null float64\n",
      "eurusd_close    24456 non-null float64\n",
      "eurusd_Doc      24456 non-null float64\n",
      "eurusd_Dhl      24456 non-null float64\n",
      "rsi_eurusd      24456 non-null float64\n",
      "ema5_eurusd     24456 non-null float64\n",
      "ema21_eurusd    24456 non-null float64\n",
      "EURUSD          24456 non-null float64\n",
      "dtypes: float64(9)\n",
      "memory usage: 1.9+ MB\n"
     ]
    }
   ],
   "source": [
    "df.info()"
   ]
  },
  {
   "cell_type": "code",
   "execution_count": 75,
   "metadata": {},
   "outputs": [
    {
     "data": {
      "text/plain": [
       "(24456, 9)"
      ]
     },
     "execution_count": 75,
     "metadata": {},
     "output_type": "execute_result"
    }
   ],
   "source": [
    "df.shape"
   ]
  },
  {
   "cell_type": "code",
   "execution_count": 76,
   "metadata": {},
   "outputs": [
    {
     "data": {
      "text/plain": [
       "24456"
      ]
     },
     "execution_count": 76,
     "metadata": {},
     "output_type": "execute_result"
    }
   ],
   "source": [
    "df.shape[0]"
   ]
  },
  {
   "cell_type": "code",
   "execution_count": 77,
   "metadata": {},
   "outputs": [
    {
     "data": {
      "text/html": [
       "<div>\n",
       "<style scoped>\n",
       "    .dataframe tbody tr th:only-of-type {\n",
       "        vertical-align: middle;\n",
       "    }\n",
       "\n",
       "    .dataframe tbody tr th {\n",
       "        vertical-align: top;\n",
       "    }\n",
       "\n",
       "    .dataframe thead th {\n",
       "        text-align: right;\n",
       "    }\n",
       "</style>\n",
       "<table border=\"1\" class=\"dataframe\">\n",
       "  <thead>\n",
       "    <tr style=\"text-align: right;\">\n",
       "      <th></th>\n",
       "      <th>oc_eurusd</th>\n",
       "      <th>hl_eurusd</th>\n",
       "      <th>eurusd_close</th>\n",
       "      <th>eurusd_Doc</th>\n",
       "      <th>eurusd_Dhl</th>\n",
       "      <th>rsi_eurusd</th>\n",
       "      <th>ema5_eurusd</th>\n",
       "      <th>ema21_eurusd</th>\n",
       "      <th>EURUSD</th>\n",
       "    </tr>\n",
       "    <tr>\n",
       "      <th>Date</th>\n",
       "      <th></th>\n",
       "      <th></th>\n",
       "      <th></th>\n",
       "      <th></th>\n",
       "      <th></th>\n",
       "      <th></th>\n",
       "      <th></th>\n",
       "      <th></th>\n",
       "      <th></th>\n",
       "    </tr>\n",
       "  </thead>\n",
       "  <tbody>\n",
       "    <tr>\n",
       "      <th>20190505  23:15:00</th>\n",
       "      <td>-0.000345</td>\n",
       "      <td>0.001425</td>\n",
       "      <td>-0.002013</td>\n",
       "      <td>-1.960784</td>\n",
       "      <td>2.388889</td>\n",
       "      <td>1.873345</td>\n",
       "      <td>1.119404</td>\n",
       "      <td>1.119337</td>\n",
       "      <td>1.117915</td>\n",
       "    </tr>\n",
       "    <tr>\n",
       "      <th>20190505  23:30:00</th>\n",
       "      <td>-0.000125</td>\n",
       "      <td>0.000690</td>\n",
       "      <td>0.000112</td>\n",
       "      <td>-0.897959</td>\n",
       "      <td>-0.481967</td>\n",
       "      <td>11.193971</td>\n",
       "      <td>1.118949</td>\n",
       "      <td>1.119219</td>\n",
       "      <td>1.118040</td>\n",
       "    </tr>\n",
       "    <tr>\n",
       "      <th>20190505  23:45:00</th>\n",
       "      <td>0.000050</td>\n",
       "      <td>0.001415</td>\n",
       "      <td>-0.000045</td>\n",
       "      <td>-7.000000</td>\n",
       "      <td>0.917722</td>\n",
       "      <td>10.403430</td>\n",
       "      <td>1.118629</td>\n",
       "      <td>1.119107</td>\n",
       "      <td>1.117990</td>\n",
       "    </tr>\n",
       "    <tr>\n",
       "      <th>20190506  00:00:00</th>\n",
       "      <td>-0.000840</td>\n",
       "      <td>0.000890</td>\n",
       "      <td>0.000751</td>\n",
       "      <td>-5.933333</td>\n",
       "      <td>-0.346535</td>\n",
       "      <td>73.436352</td>\n",
       "      <td>1.118696</td>\n",
       "      <td>1.119082</td>\n",
       "      <td>1.118830</td>\n",
       "    </tr>\n",
       "    <tr>\n",
       "      <th>20190506  00:15:00</th>\n",
       "      <td>-0.000110</td>\n",
       "      <td>0.000555</td>\n",
       "      <td>0.000098</td>\n",
       "      <td>-0.986486</td>\n",
       "      <td>-0.338384</td>\n",
       "      <td>77.569319</td>\n",
       "      <td>1.118778</td>\n",
       "      <td>1.119069</td>\n",
       "      <td>1.118940</td>\n",
       "    </tr>\n",
       "  </tbody>\n",
       "</table>\n",
       "</div>"
      ],
      "text/plain": [
       "                    oc_eurusd  hl_eurusd  eurusd_close  eurusd_Doc  \\\n",
       "Date                                                                 \n",
       "20190505  23:15:00  -0.000345   0.001425     -0.002013   -1.960784   \n",
       "20190505  23:30:00  -0.000125   0.000690      0.000112   -0.897959   \n",
       "20190505  23:45:00   0.000050   0.001415     -0.000045   -7.000000   \n",
       "20190506  00:00:00  -0.000840   0.000890      0.000751   -5.933333   \n",
       "20190506  00:15:00  -0.000110   0.000555      0.000098   -0.986486   \n",
       "\n",
       "                    eurusd_Dhl  rsi_eurusd  ema5_eurusd  ema21_eurusd  \\\n",
       "Date                                                                    \n",
       "20190505  23:15:00    2.388889    1.873345     1.119404      1.119337   \n",
       "20190505  23:30:00   -0.481967   11.193971     1.118949      1.119219   \n",
       "20190505  23:45:00    0.917722   10.403430     1.118629      1.119107   \n",
       "20190506  00:00:00   -0.346535   73.436352     1.118696      1.119082   \n",
       "20190506  00:15:00   -0.338384   77.569319     1.118778      1.119069   \n",
       "\n",
       "                      EURUSD  \n",
       "Date                          \n",
       "20190505  23:15:00  1.117915  \n",
       "20190505  23:30:00  1.118040  \n",
       "20190505  23:45:00  1.117990  \n",
       "20190506  00:00:00  1.118830  \n",
       "20190506  00:15:00  1.118940  "
      ]
     },
     "execution_count": 77,
     "metadata": {},
     "output_type": "execute_result"
    }
   ],
   "source": [
    "df.tail()"
   ]
  },
  {
   "cell_type": "code",
   "execution_count": 78,
   "metadata": {},
   "outputs": [
    {
     "name": "stdout",
     "output_type": "stream",
     "text": [
      "Début de la boucle\n",
      "Boucle terminée\n",
      "La long target était fixée à  0.0007\n",
      "La short target était fixée à  -0.0007\n",
      "La règle était qu'une des 5 periodes d'avant était inférieure ou supérieure à la target (long ou short)\n",
      "Il y a eu  24456  périodes testées\n",
      "Durant cette période, 6521  long et  6019  short\n",
      "Les gains totaux s'élèvent à : 1772505 $\n"
     ]
    }
   ],
   "source": [
    "long_list = []\n",
    "short_list = []\n",
    "equity_list = []\n",
    "var_long_list = []\n",
    "var_short_list = []\n",
    "candle_close = 0\n",
    "candle_close_1 = 0\n",
    "candle_close_2 = 0\n",
    "candle_close_3 = 0\n",
    "candle_close_4 = 0\n",
    "candle_close_5 = 0\n",
    "candle_open = 0\n",
    "candle_high = 0\n",
    "candle_low = 0\n",
    "c = 0\n",
    "cc = 0\n",
    "long_target = 0.0007\n",
    "short_target = -0.0007\n",
    "ticket = 100000\n",
    "equity = 100000\n",
    "print('Début de la boucle')\n",
    "\n",
    "import sys\n",
    "orig_stdout = sys.stdout\n",
    "f = open('OUt_rules.txt', 'w')\n",
    "sys.stdout = f\n",
    "\n",
    "\n",
    "for i in range(5,df.shape[0]-1):\n",
    "    print('\\nCompteur de ligne :',i)\n",
    "    print('Date :',df.index[i])\n",
    "    c+=1\n",
    "    \n",
    "    candle_close = float(df.iloc[i,8])\n",
    "    candle_close_1 = float(df.iloc[i-1,8])\n",
    "    print('candle_close_1',candle_close_1)\n",
    "    candle_close_2 = float(df.iloc[i-2,8])\n",
    "    candle_close_3 = float(df.iloc[i-3,8])\n",
    "    candle_close_4 = float(df.iloc[i-4,8])\n",
    "    candle_close_5 = float(df.iloc[i-5,8])\n",
    "    \n",
    "    \n",
    "    var1 = candle_close - candle_close_1\n",
    "    var2 = candle_close - candle_close_2\n",
    "    var3 = candle_close - candle_close_3\n",
    "    var4 = candle_close - candle_close_4\n",
    "    var5 = candle_close - candle_close_5\n",
    "    \n",
    "    if var1 > long_target or var2 > long_target or\\\n",
    "    var3 > long_target or var4 > long_target or var5 > long_target:\n",
    "        var_long_list.append(var1)\n",
    "        var_long_list.append(var2)\n",
    "        var_long_list.append(var3)\n",
    "        var_long_list.append(var4)\n",
    "        var_long_list.append(var5)\n",
    "        print('\\nDate :',df.index[i])\n",
    "        print('Long effectué, :',var1,', ',var2,', ',var3,', ',var4)\n",
    "        print('close actuel',candle_close)\n",
    "        print(\"les 4 close d'avant\",\\\n",
    "              candle_close_1,candle_close_2,candle_close_3,\\\n",
    "              candle_close_4,candle_close_5)\n",
    "        print('Max ',max(var_long_list))\n",
    "        print('pnl :',max(var_long_list))\n",
    "        equity = equity -3 + max(var_long_list)*ticket\n",
    "        #equity = equity - 3 + max(var_long_list)*ticket\n",
    "        print('Nouvel equity :',equity)\n",
    "        long_list.append(1)\n",
    "        short_list.append(0)\n",
    "        equity_list.append(equity)\n",
    "        cc+=1\n",
    "        var_long_list = []\n",
    "    \n",
    "    elif var1 < short_target or var2 < short_target or \\\n",
    "    var3 < short_target or var4 < short_target or var5 < short_target:\n",
    "        var_short_list.append(var1)\n",
    "        var_short_list.append(var2)\n",
    "        var_short_list.append(var3)\n",
    "        var_short_list.append(var4)\n",
    "        var_short_list.append(var5)\n",
    "        print('\\nDate :',df.index[i])\n",
    "        print('Short effectué :',var1,', ',var2,', ',var3,', ',var4)\n",
    "        print('close actuel',candle_close)\n",
    "        print(\"les 4 close d'avant\",\\\n",
    "              candle_close_1,candle_close_2,candle_close_3,\\\n",
    "              candle_close_4,candle_close_5)\n",
    "        print('Min ',-min(var_short_list))\n",
    "        print('pnl :', - min(var_short_list))\n",
    "        equity = equity -3 - min(var_short_list)*ticket\n",
    "        #equity = equity - 3 - min(var_short_list)*ticket\n",
    "        print('Nouvel equity :',equity)\n",
    "        short_list.append(1)\n",
    "        long_list.append(0)\n",
    "        equity_list.append(equity)\n",
    "        cc+=1\n",
    "        var_short_list = []\n",
    "    \n",
    "    else :\n",
    "        print('\\nDate :',df.index[i])\n",
    "        print('Il ne se passe rien')\n",
    "        short_list.append(0)\n",
    "        long_list.append(0)\n",
    "        equity_list.append(equity)\n",
    "        cc+=1\n",
    "\n",
    "\n",
    "print('Boucle terminée')\n",
    "print('La long target était fixée à ',long_target)\n",
    "print('La short target était fixée à ',short_target)\n",
    "print('La règle était 4 périodes consécutives au dessus de long ou au dessous de short')\n",
    "print('Il y a eu ',df.shape[0],' périodes testées')\n",
    "print('Durant cette période,',sum(long_list),' long et ',sum(short_list),' short')\n",
    "print(\"Les gains totaux s'élèvent à :\",round(equity-100000),'$' )\n",
    "    \n",
    "f.close()\n",
    "sys.stdout = orig_stdout\n",
    "\n",
    "\n",
    "print('Boucle terminée')\n",
    "print('La long target était fixée à ',long_target)\n",
    "print('La short target était fixée à ',short_target)\n",
    "print(\"La règle était qu'une des 5 periodes d'avant était inférieure ou supérieure à la target (long ou short)\")\n",
    "print('Il y a eu ',df.shape[0],' périodes testées')\n",
    "print('Durant cette période,',sum(long_list),' long et ',sum(short_list),' short')\n",
    "print(\"Les gains totaux s'élèvent à :\",round(equity-100000),'$' )\n",
    "\n",
    "var_dtf = pd.DataFrame()\n",
    "var_dtf['Long'] = long_list\n",
    "var_dtf['Short'] = short_list\n",
    "var_dtf['Equity'] = equity_list\n",
    "\n",
    " \n",
    "    "
   ]
  },
  {
   "cell_type": "code",
   "execution_count": 79,
   "metadata": {},
   "outputs": [
    {
     "data": {
      "text/plain": [
       "(1.11883, 1.11799, 1.11804, 1.117915, 1.12017, 1.120325, 0)"
      ]
     },
     "execution_count": 79,
     "metadata": {},
     "output_type": "execute_result"
    }
   ],
   "source": [
    "candle_close,candle_close_1,candle_close_2,candle_close_3,candle_close_4,candle_close_5,candle_open"
   ]
  },
  {
   "cell_type": "code",
   "execution_count": 80,
   "metadata": {},
   "outputs": [
    {
     "data": {
      "text/plain": [
       "(12540, 24450, 24450, 24450, 24450, 24450, 24456)"
      ]
     },
     "execution_count": 80,
     "metadata": {},
     "output_type": "execute_result"
    }
   ],
   "source": [
    "sum(short_list)+sum(long_list), c, cc, len(short_list),len(long_list),len(equity_list),len(df)"
   ]
  },
  {
   "cell_type": "code",
   "execution_count": 81,
   "metadata": {},
   "outputs": [
    {
     "data": {
      "text/plain": [
       "<matplotlib.legend.Legend at 0x118e97860>"
      ]
     },
     "execution_count": 81,
     "metadata": {},
     "output_type": "execute_result"
    },
    {
     "data": {
      "image/png": "[encoded data removed]",
      "text/plain": [
       "<Figure size 1152x432 with 1 Axes>"
      ]
     },
     "metadata": {
      "needs_background": "light"
     },
     "output_type": "display_data"
    }
   ],
   "source": [
    "plt.figure(figsize=(16,6))\n",
    "plt.plot(var_dtf['Long'],color='orange',label='Long')\n",
    "plt.plot(-var_dtf['Short'],color='purple',label='Short')\n",
    "plt.axhline(y=long_target, color='cyan',linestyle='-', label='Long Target')\n",
    "plt.axhline(y=0, color='red',linestyle='--', label='Zéro')\n",
    "plt.axhline(y=short_target,color='cyan',label='Short Target')\n",
    "plt.legend()"
   ]
  },
  {
   "cell_type": "code",
   "execution_count": 82,
   "metadata": {},
   "outputs": [
    {
     "data": {
      "text/plain": [
       "<matplotlib.legend.Legend at 0x11d1879b0>"
      ]
     },
     "execution_count": 82,
     "metadata": {},
     "output_type": "execute_result"
    },
    {
     "data": {
      "image/png": "[encoded data removed]",
      "text/plain": [
       "<Figure size 1152x432 with 1 Axes>"
      ]
     },
     "metadata": {
      "needs_background": "light"
     },
     "output_type": "display_data"
    }
   ],
   "source": [
    "plt.figure(figsize=(16,6))\n",
    "plt.plot(var_dtf['Equity'],color='green',label='Equity')\n",
    "plt.axhline(y=100000., color='red',linestyle='-', label='mise de départ')\n",
    "plt.legend()"
   ]
  },
  {
   "cell_type": "code",
   "execution_count": 83,
   "metadata": {},
   "outputs": [
    {
     "data": {
      "text/plain": [
       "(24450, 24450, 24456)"
      ]
     },
     "execution_count": 83,
     "metadata": {},
     "output_type": "execute_result"
    }
   ],
   "source": [
    "len(short_list),len(long_list),len(df)"
   ]
  },
  {
   "cell_type": "code",
   "execution_count": 84,
   "metadata": {},
   "outputs": [],
   "source": [
    "df = df.iloc[5:(df.shape[0]-1),:]\n",
    "df['short_eurusd'] = short_list\n",
    "df['long_eurusd'] = long_list"
   ]
  },
  {
   "cell_type": "code",
   "execution_count": 85,
   "metadata": {},
   "outputs": [
    {
     "name": "stdout",
     "output_type": "stream",
     "text": [
      "Nombre de positions de long trouvées : 6521\n",
      "Nombre de positions short trouvées : 6019\n",
      "Sur un total de  12540\n"
     ]
    }
   ],
   "source": [
    "print('Nombre de positions de long trouvées :',sum(long_list))\n",
    "print('Nombre de positions short trouvées :',sum(short_list))\n",
    "print('Sur un total de ',sum(short_list)+sum(long_list))"
   ]
  },
  {
   "cell_type": "code",
   "execution_count": 86,
   "metadata": {},
   "outputs": [
    {
     "name": "stdout",
     "output_type": "stream",
     "text": [
      "Sur un achat systématique, les gains représentent 25.64 %\n"
     ]
    }
   ],
   "source": [
    "print('Sur un achat systématique, les gains représentent',\\\n",
    "      round((sum(short_list)+sum(long_list))/(len(short_list)+len(long_list))*100,2),'%')"
   ]
  },
  {
   "cell_type": "code",
   "execution_count": 87,
   "metadata": {},
   "outputs": [
    {
     "data": {
      "text/plain": [
       "(6019, 6521)"
      ]
     },
     "execution_count": 87,
     "metadata": {},
     "output_type": "execute_result"
    }
   ],
   "source": [
    "#df['short'] = df['trend'].shift(-1)\n",
    "df['short_eurusd'].sum(),df['long_eurusd'].sum()"
   ]
  },
  {
   "cell_type": "code",
   "execution_count": 88,
   "metadata": {},
   "outputs": [
    {
     "data": {
      "text/html": [
       "<div>\n",
       "<style scoped>\n",
       "    .dataframe tbody tr th:only-of-type {\n",
       "        vertical-align: middle;\n",
       "    }\n",
       "\n",
       "    .dataframe tbody tr th {\n",
       "        vertical-align: top;\n",
       "    }\n",
       "\n",
       "    .dataframe thead th {\n",
       "        text-align: right;\n",
       "    }\n",
       "</style>\n",
       "<table border=\"1\" class=\"dataframe\">\n",
       "  <thead>\n",
       "    <tr style=\"text-align: right;\">\n",
       "      <th></th>\n",
       "      <th>oc_eurusd</th>\n",
       "      <th>hl_eurusd</th>\n",
       "      <th>eurusd_close</th>\n",
       "      <th>eurusd_Doc</th>\n",
       "      <th>eurusd_Dhl</th>\n",
       "      <th>rsi_eurusd</th>\n",
       "      <th>ema5_eurusd</th>\n",
       "      <th>ema21_eurusd</th>\n",
       "      <th>EURUSD</th>\n",
       "      <th>short_eurusd</th>\n",
       "      <th>long_eurusd</th>\n",
       "    </tr>\n",
       "    <tr>\n",
       "      <th>Date</th>\n",
       "      <th></th>\n",
       "      <th></th>\n",
       "      <th></th>\n",
       "      <th></th>\n",
       "      <th></th>\n",
       "      <th></th>\n",
       "      <th></th>\n",
       "      <th></th>\n",
       "      <th></th>\n",
       "      <th></th>\n",
       "      <th></th>\n",
       "    </tr>\n",
       "  </thead>\n",
       "  <tbody>\n",
       "    <tr>\n",
       "      <th>20190503  22:45:00</th>\n",
       "      <td>0.000155</td>\n",
       "      <td>0.000350</td>\n",
       "      <td>-0.000138</td>\n",
       "      <td>1.318182</td>\n",
       "      <td>0.875000</td>\n",
       "      <td>35.142608</td>\n",
       "      <td>1.120148</td>\n",
       "      <td>1.119479</td>\n",
       "      <td>1.120170</td>\n",
       "      <td>0</td>\n",
       "      <td>0</td>\n",
       "    </tr>\n",
       "    <tr>\n",
       "      <th>20190505  23:15:00</th>\n",
       "      <td>-0.000345</td>\n",
       "      <td>0.001425</td>\n",
       "      <td>-0.002013</td>\n",
       "      <td>-1.960784</td>\n",
       "      <td>2.388889</td>\n",
       "      <td>1.873345</td>\n",
       "      <td>1.119404</td>\n",
       "      <td>1.119337</td>\n",
       "      <td>1.117915</td>\n",
       "      <td>1</td>\n",
       "      <td>0</td>\n",
       "    </tr>\n",
       "    <tr>\n",
       "      <th>20190505  23:30:00</th>\n",
       "      <td>-0.000125</td>\n",
       "      <td>0.000690</td>\n",
       "      <td>0.000112</td>\n",
       "      <td>-0.897959</td>\n",
       "      <td>-0.481967</td>\n",
       "      <td>11.193971</td>\n",
       "      <td>1.118949</td>\n",
       "      <td>1.119219</td>\n",
       "      <td>1.118040</td>\n",
       "      <td>1</td>\n",
       "      <td>0</td>\n",
       "    </tr>\n",
       "    <tr>\n",
       "      <th>20190505  23:45:00</th>\n",
       "      <td>0.000050</td>\n",
       "      <td>0.001415</td>\n",
       "      <td>-0.000045</td>\n",
       "      <td>-7.000000</td>\n",
       "      <td>0.917722</td>\n",
       "      <td>10.403430</td>\n",
       "      <td>1.118629</td>\n",
       "      <td>1.119107</td>\n",
       "      <td>1.117990</td>\n",
       "      <td>1</td>\n",
       "      <td>0</td>\n",
       "    </tr>\n",
       "    <tr>\n",
       "      <th>20190506  00:00:00</th>\n",
       "      <td>-0.000840</td>\n",
       "      <td>0.000890</td>\n",
       "      <td>0.000751</td>\n",
       "      <td>-5.933333</td>\n",
       "      <td>-0.346535</td>\n",
       "      <td>73.436352</td>\n",
       "      <td>1.118696</td>\n",
       "      <td>1.119082</td>\n",
       "      <td>1.118830</td>\n",
       "      <td>0</td>\n",
       "      <td>1</td>\n",
       "    </tr>\n",
       "  </tbody>\n",
       "</table>\n",
       "</div>"
      ],
      "text/plain": [
       "                    oc_eurusd  hl_eurusd  eurusd_close  eurusd_Doc  \\\n",
       "Date                                                                 \n",
       "20190503  22:45:00   0.000155   0.000350     -0.000138    1.318182   \n",
       "20190505  23:15:00  -0.000345   0.001425     -0.002013   -1.960784   \n",
       "20190505  23:30:00  -0.000125   0.000690      0.000112   -0.897959   \n",
       "20190505  23:45:00   0.000050   0.001415     -0.000045   -7.000000   \n",
       "20190506  00:00:00  -0.000840   0.000890      0.000751   -5.933333   \n",
       "\n",
       "                    eurusd_Dhl  rsi_eurusd  ema5_eurusd  ema21_eurusd  \\\n",
       "Date                                                                    \n",
       "20190503  22:45:00    0.875000   35.142608     1.120148      1.119479   \n",
       "20190505  23:15:00    2.388889    1.873345     1.119404      1.119337   \n",
       "20190505  23:30:00   -0.481967   11.193971     1.118949      1.119219   \n",
       "20190505  23:45:00    0.917722   10.403430     1.118629      1.119107   \n",
       "20190506  00:00:00   -0.346535   73.436352     1.118696      1.119082   \n",
       "\n",
       "                      EURUSD  short_eurusd  long_eurusd  \n",
       "Date                                                     \n",
       "20190503  22:45:00  1.120170             0            0  \n",
       "20190505  23:15:00  1.117915             1            0  \n",
       "20190505  23:30:00  1.118040             1            0  \n",
       "20190505  23:45:00  1.117990             1            0  \n",
       "20190506  00:00:00  1.118830             0            1  "
      ]
     },
     "execution_count": 88,
     "metadata": {},
     "output_type": "execute_result"
    }
   ],
   "source": [
    "df.tail()"
   ]
  },
  {
   "cell_type": "code",
   "execution_count": 89,
   "metadata": {},
   "outputs": [
    {
     "data": {
      "text/html": [
       "<div>\n",
       "<style scoped>\n",
       "    .dataframe tbody tr th:only-of-type {\n",
       "        vertical-align: middle;\n",
       "    }\n",
       "\n",
       "    .dataframe tbody tr th {\n",
       "        vertical-align: top;\n",
       "    }\n",
       "\n",
       "    .dataframe thead th {\n",
       "        text-align: right;\n",
       "    }\n",
       "</style>\n",
       "<table border=\"1\" class=\"dataframe\">\n",
       "  <thead>\n",
       "    <tr style=\"text-align: right;\">\n",
       "      <th></th>\n",
       "      <th>oc_eurusd</th>\n",
       "      <th>hl_eurusd</th>\n",
       "      <th>eurusd_close</th>\n",
       "      <th>eurusd_Doc</th>\n",
       "      <th>eurusd_Dhl</th>\n",
       "      <th>rsi_eurusd</th>\n",
       "      <th>ema5_eurusd</th>\n",
       "      <th>ema21_eurusd</th>\n",
       "      <th>EURUSD</th>\n",
       "      <th>short_eurusd</th>\n",
       "      <th>long_eurusd</th>\n",
       "    </tr>\n",
       "    <tr>\n",
       "      <th>Date</th>\n",
       "      <th></th>\n",
       "      <th></th>\n",
       "      <th></th>\n",
       "      <th></th>\n",
       "      <th></th>\n",
       "      <th></th>\n",
       "      <th></th>\n",
       "      <th></th>\n",
       "      <th></th>\n",
       "      <th></th>\n",
       "      <th></th>\n",
       "    </tr>\n",
       "  </thead>\n",
       "  <tbody>\n",
       "    <tr>\n",
       "      <th>20190503  22:45:00</th>\n",
       "      <td>0.000155</td>\n",
       "      <td>0.000350</td>\n",
       "      <td>-0.000138</td>\n",
       "      <td>1.318182</td>\n",
       "      <td>0.875000</td>\n",
       "      <td>35.142608</td>\n",
       "      <td>1.120148</td>\n",
       "      <td>1.119479</td>\n",
       "      <td>1.120170</td>\n",
       "      <td>0</td>\n",
       "      <td>0</td>\n",
       "    </tr>\n",
       "    <tr>\n",
       "      <th>20190505  23:15:00</th>\n",
       "      <td>-0.000345</td>\n",
       "      <td>0.001425</td>\n",
       "      <td>-0.002013</td>\n",
       "      <td>-1.960784</td>\n",
       "      <td>2.388889</td>\n",
       "      <td>1.873345</td>\n",
       "      <td>1.119404</td>\n",
       "      <td>1.119337</td>\n",
       "      <td>1.117915</td>\n",
       "      <td>1</td>\n",
       "      <td>0</td>\n",
       "    </tr>\n",
       "    <tr>\n",
       "      <th>20190505  23:30:00</th>\n",
       "      <td>-0.000125</td>\n",
       "      <td>0.000690</td>\n",
       "      <td>0.000112</td>\n",
       "      <td>-0.897959</td>\n",
       "      <td>-0.481967</td>\n",
       "      <td>11.193971</td>\n",
       "      <td>1.118949</td>\n",
       "      <td>1.119219</td>\n",
       "      <td>1.118040</td>\n",
       "      <td>1</td>\n",
       "      <td>0</td>\n",
       "    </tr>\n",
       "    <tr>\n",
       "      <th>20190505  23:45:00</th>\n",
       "      <td>0.000050</td>\n",
       "      <td>0.001415</td>\n",
       "      <td>-0.000045</td>\n",
       "      <td>-7.000000</td>\n",
       "      <td>0.917722</td>\n",
       "      <td>10.403430</td>\n",
       "      <td>1.118629</td>\n",
       "      <td>1.119107</td>\n",
       "      <td>1.117990</td>\n",
       "      <td>1</td>\n",
       "      <td>0</td>\n",
       "    </tr>\n",
       "    <tr>\n",
       "      <th>20190506  00:00:00</th>\n",
       "      <td>-0.000840</td>\n",
       "      <td>0.000890</td>\n",
       "      <td>0.000751</td>\n",
       "      <td>-5.933333</td>\n",
       "      <td>-0.346535</td>\n",
       "      <td>73.436352</td>\n",
       "      <td>1.118696</td>\n",
       "      <td>1.119082</td>\n",
       "      <td>1.118830</td>\n",
       "      <td>0</td>\n",
       "      <td>1</td>\n",
       "    </tr>\n",
       "  </tbody>\n",
       "</table>\n",
       "</div>"
      ],
      "text/plain": [
       "                    oc_eurusd  hl_eurusd  eurusd_close  eurusd_Doc  \\\n",
       "Date                                                                 \n",
       "20190503  22:45:00   0.000155   0.000350     -0.000138    1.318182   \n",
       "20190505  23:15:00  -0.000345   0.001425     -0.002013   -1.960784   \n",
       "20190505  23:30:00  -0.000125   0.000690      0.000112   -0.897959   \n",
       "20190505  23:45:00   0.000050   0.001415     -0.000045   -7.000000   \n",
       "20190506  00:00:00  -0.000840   0.000890      0.000751   -5.933333   \n",
       "\n",
       "                    eurusd_Dhl  rsi_eurusd  ema5_eurusd  ema21_eurusd  \\\n",
       "Date                                                                    \n",
       "20190503  22:45:00    0.875000   35.142608     1.120148      1.119479   \n",
       "20190505  23:15:00    2.388889    1.873345     1.119404      1.119337   \n",
       "20190505  23:30:00   -0.481967   11.193971     1.118949      1.119219   \n",
       "20190505  23:45:00    0.917722   10.403430     1.118629      1.119107   \n",
       "20190506  00:00:00   -0.346535   73.436352     1.118696      1.119082   \n",
       "\n",
       "                      EURUSD  short_eurusd  long_eurusd  \n",
       "Date                                                     \n",
       "20190503  22:45:00  1.120170             0            0  \n",
       "20190505  23:15:00  1.117915             1            0  \n",
       "20190505  23:30:00  1.118040             1            0  \n",
       "20190505  23:45:00  1.117990             1            0  \n",
       "20190506  00:00:00  1.118830             0            1  "
      ]
     },
     "execution_count": 89,
     "metadata": {},
     "output_type": "execute_result"
    }
   ],
   "source": [
    "df = df.dropna()\n",
    "df.tail()"
   ]
  },
  {
   "cell_type": "code",
   "execution_count": 90,
   "metadata": {},
   "outputs": [
    {
     "data": {
      "text/plain": [
       "(6019, 6521)"
      ]
     },
     "execution_count": 90,
     "metadata": {},
     "output_type": "execute_result"
    }
   ],
   "source": [
    "df['short_eurusd'].sum(),df['long_eurusd'].sum()"
   ]
  },
  {
   "cell_type": "code",
   "execution_count": 91,
   "metadata": {},
   "outputs": [],
   "source": [
    "df.to_csv('dataset_Ruled.csv')"
   ]
  },
  {
   "cell_type": "code",
   "execution_count": null,
   "metadata": {},
   "outputs": [],
   "source": []
  },
  {
   "cell_type": "code",
   "execution_count": null,
   "metadata": {},
   "outputs": [],
   "source": []
  },
  {
   "cell_type": "code",
   "execution_count": null,
   "metadata": {},
   "outputs": [],
   "source": []
  }
 ],
 "metadata": {
  "kernelspec": {
   "display_name": "Python 3",
   "language": "python",
   "name": "python3"
  },
  "language_info": {
   "codemirror_mode": {
    "name": "ipython",
    "version": 3
   },
   "file_extension": ".py",
   "mimetype": "text/x-python",
   "name": "python",
   "nbconvert_exporter": "python",
   "pygments_lexer": "ipython3",
   "version": "3.6.8"
  }
 },
 "nbformat": 4,
 "nbformat_minor": 2
}
