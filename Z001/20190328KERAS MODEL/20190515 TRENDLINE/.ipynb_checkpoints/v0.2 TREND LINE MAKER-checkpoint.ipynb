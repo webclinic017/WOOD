{
 "cells": [
  {
   "cell_type": "code",
   "execution_count": 1,
   "metadata": {},
   "outputs": [],
   "source": [
    "___Author___='LumberJack Jyss'"
   ]
  },
  {
   "cell_type": "code",
   "execution_count": 2,
   "metadata": {},
   "outputs": [
    {
     "name": "stdout",
     "output_type": "stream",
     "text": [
      "Global Optimized LumberJack Equities Method\n",
      "°OoO_TRENDLINE_Oo0°\n",
      "LumberJack Jyss 5779(c)\n"
     ]
    }
   ],
   "source": [
    "print('Global Optimized LumberJack Equities Method\\n°OoO_TRENDLINE_Oo0°\\nLumberJack Jyss 5779(c)')"
   ]
  },
  {
   "cell_type": "code",
   "execution_count": 3,
   "metadata": {},
   "outputs": [
    {
     "name": "stdout",
     "output_type": "stream",
     "text": [
      "Importation des librairies...\n",
      "Librairies importées\n"
     ]
    }
   ],
   "source": [
    "print('Importation des librairies...')\n",
    "import numpy as np\n",
    "import pandas as pd\n",
    "import pandas\n",
    "import trendy\n",
    "import matplotlib.pyplot as plt\n",
    "import seaborn as sns\n",
    "%matplotlib inline\n",
    "print('Librairies importées')"
   ]
  },
  {
   "cell_type": "code",
   "execution_count": 4,
   "metadata": {},
   "outputs": [],
   "source": [
    "# SCRAPING DES DONNES BRUTES\n",
    "eurusd = pd.read_csv('eurusd_15mn_1Y.csv')\n",
    "eurusd = eurusd.set_index('Date')\n",
    "eurusd = eurusd.iloc[:-2,1:-1]"
   ]
  },
  {
   "cell_type": "code",
   "execution_count": 27,
   "metadata": {},
   "outputs": [
    {
     "data": {
      "text/html": [
       "<div>\n",
       "<style scoped>\n",
       "    .dataframe tbody tr th:only-of-type {\n",
       "        vertical-align: middle;\n",
       "    }\n",
       "\n",
       "    .dataframe tbody tr th {\n",
       "        vertical-align: top;\n",
       "    }\n",
       "\n",
       "    .dataframe thead th {\n",
       "        text-align: right;\n",
       "    }\n",
       "</style>\n",
       "<table border=\"1\" class=\"dataframe\">\n",
       "  <thead>\n",
       "    <tr style=\"text-align: right;\">\n",
       "      <th></th>\n",
       "      <th>Open</th>\n",
       "      <th>High</th>\n",
       "      <th>Low</th>\n",
       "      <th>Close</th>\n",
       "    </tr>\n",
       "    <tr>\n",
       "      <th>Date</th>\n",
       "      <th></th>\n",
       "      <th></th>\n",
       "      <th></th>\n",
       "      <th></th>\n",
       "    </tr>\n",
       "  </thead>\n",
       "  <tbody>\n",
       "    <tr>\n",
       "      <th>20190503  17:45:00</th>\n",
       "      <td>1.118635</td>\n",
       "      <td>1.118980</td>\n",
       "      <td>1.118460</td>\n",
       "      <td>1.118815</td>\n",
       "    </tr>\n",
       "    <tr>\n",
       "      <th>20190503  18:00:00</th>\n",
       "      <td>1.118815</td>\n",
       "      <td>1.119215</td>\n",
       "      <td>1.118400</td>\n",
       "      <td>1.118875</td>\n",
       "    </tr>\n",
       "    <tr>\n",
       "      <th>20190503  18:15:00</th>\n",
       "      <td>1.118875</td>\n",
       "      <td>1.119635</td>\n",
       "      <td>1.118840</td>\n",
       "      <td>1.119555</td>\n",
       "    </tr>\n",
       "    <tr>\n",
       "      <th>20190503  18:30:00</th>\n",
       "      <td>1.119555</td>\n",
       "      <td>1.120075</td>\n",
       "      <td>1.119520</td>\n",
       "      <td>1.119630</td>\n",
       "    </tr>\n",
       "    <tr>\n",
       "      <th>20190503  18:45:00</th>\n",
       "      <td>1.119630</td>\n",
       "      <td>1.119895</td>\n",
       "      <td>1.119430</td>\n",
       "      <td>1.119575</td>\n",
       "    </tr>\n",
       "    <tr>\n",
       "      <th>20190503  19:00:00</th>\n",
       "      <td>1.119575</td>\n",
       "      <td>1.119755</td>\n",
       "      <td>1.119405</td>\n",
       "      <td>1.119585</td>\n",
       "    </tr>\n",
       "    <tr>\n",
       "      <th>20190503  19:15:00</th>\n",
       "      <td>1.119585</td>\n",
       "      <td>1.119735</td>\n",
       "      <td>1.119335</td>\n",
       "      <td>1.119355</td>\n",
       "    </tr>\n",
       "    <tr>\n",
       "      <th>20190503  19:30:00</th>\n",
       "      <td>1.119355</td>\n",
       "      <td>1.119565</td>\n",
       "      <td>1.119355</td>\n",
       "      <td>1.119420</td>\n",
       "    </tr>\n",
       "    <tr>\n",
       "      <th>20190503  19:45:00</th>\n",
       "      <td>1.119420</td>\n",
       "      <td>1.119585</td>\n",
       "      <td>1.119235</td>\n",
       "      <td>1.119275</td>\n",
       "    </tr>\n",
       "    <tr>\n",
       "      <th>20190503  20:00:00</th>\n",
       "      <td>1.119275</td>\n",
       "      <td>1.119470</td>\n",
       "      <td>1.119105</td>\n",
       "      <td>1.119220</td>\n",
       "    </tr>\n",
       "    <tr>\n",
       "      <th>20190503  20:15:00</th>\n",
       "      <td>1.119220</td>\n",
       "      <td>1.119355</td>\n",
       "      <td>1.119010</td>\n",
       "      <td>1.119295</td>\n",
       "    </tr>\n",
       "    <tr>\n",
       "      <th>20190503  20:30:00</th>\n",
       "      <td>1.119295</td>\n",
       "      <td>1.119885</td>\n",
       "      <td>1.119215</td>\n",
       "      <td>1.119845</td>\n",
       "    </tr>\n",
       "    <tr>\n",
       "      <th>20190503  20:45:00</th>\n",
       "      <td>1.119845</td>\n",
       "      <td>1.120040</td>\n",
       "      <td>1.119340</td>\n",
       "      <td>1.119380</td>\n",
       "    </tr>\n",
       "    <tr>\n",
       "      <th>20190503  21:00:00</th>\n",
       "      <td>1.119380</td>\n",
       "      <td>1.119690</td>\n",
       "      <td>1.119210</td>\n",
       "      <td>1.119645</td>\n",
       "    </tr>\n",
       "    <tr>\n",
       "      <th>20190503  21:15:00</th>\n",
       "      <td>1.119645</td>\n",
       "      <td>1.119955</td>\n",
       "      <td>1.119600</td>\n",
       "      <td>1.119870</td>\n",
       "    </tr>\n",
       "    <tr>\n",
       "      <th>20190503  21:30:00</th>\n",
       "      <td>1.119870</td>\n",
       "      <td>1.120225</td>\n",
       "      <td>1.119775</td>\n",
       "      <td>1.119780</td>\n",
       "    </tr>\n",
       "    <tr>\n",
       "      <th>20190503  21:45:00</th>\n",
       "      <td>1.119780</td>\n",
       "      <td>1.120135</td>\n",
       "      <td>1.119735</td>\n",
       "      <td>1.119960</td>\n",
       "    </tr>\n",
       "    <tr>\n",
       "      <th>20190503  22:00:00</th>\n",
       "      <td>1.119960</td>\n",
       "      <td>1.120155</td>\n",
       "      <td>1.119840</td>\n",
       "      <td>1.120140</td>\n",
       "    </tr>\n",
       "    <tr>\n",
       "      <th>20190503  22:15:00</th>\n",
       "      <td>1.120140</td>\n",
       "      <td>1.120485</td>\n",
       "      <td>1.120135</td>\n",
       "      <td>1.120335</td>\n",
       "    </tr>\n",
       "    <tr>\n",
       "      <th>20190503  22:30:00</th>\n",
       "      <td>1.120335</td>\n",
       "      <td>1.120340</td>\n",
       "      <td>1.120200</td>\n",
       "      <td>1.120325</td>\n",
       "    </tr>\n",
       "    <tr>\n",
       "      <th>20190503  22:45:00</th>\n",
       "      <td>1.120325</td>\n",
       "      <td>1.120480</td>\n",
       "      <td>1.120130</td>\n",
       "      <td>1.120170</td>\n",
       "    </tr>\n",
       "  </tbody>\n",
       "</table>\n",
       "</div>"
      ],
      "text/plain": [
       "                        Open      High       Low     Close\n",
       "Date                                                      \n",
       "20190503  17:45:00  1.118635  1.118980  1.118460  1.118815\n",
       "20190503  18:00:00  1.118815  1.119215  1.118400  1.118875\n",
       "20190503  18:15:00  1.118875  1.119635  1.118840  1.119555\n",
       "20190503  18:30:00  1.119555  1.120075  1.119520  1.119630\n",
       "20190503  18:45:00  1.119630  1.119895  1.119430  1.119575\n",
       "20190503  19:00:00  1.119575  1.119755  1.119405  1.119585\n",
       "20190503  19:15:00  1.119585  1.119735  1.119335  1.119355\n",
       "20190503  19:30:00  1.119355  1.119565  1.119355  1.119420\n",
       "20190503  19:45:00  1.119420  1.119585  1.119235  1.119275\n",
       "20190503  20:00:00  1.119275  1.119470  1.119105  1.119220\n",
       "20190503  20:15:00  1.119220  1.119355  1.119010  1.119295\n",
       "20190503  20:30:00  1.119295  1.119885  1.119215  1.119845\n",
       "20190503  20:45:00  1.119845  1.120040  1.119340  1.119380\n",
       "20190503  21:00:00  1.119380  1.119690  1.119210  1.119645\n",
       "20190503  21:15:00  1.119645  1.119955  1.119600  1.119870\n",
       "20190503  21:30:00  1.119870  1.120225  1.119775  1.119780\n",
       "20190503  21:45:00  1.119780  1.120135  1.119735  1.119960\n",
       "20190503  22:00:00  1.119960  1.120155  1.119840  1.120140\n",
       "20190503  22:15:00  1.120140  1.120485  1.120135  1.120335\n",
       "20190503  22:30:00  1.120335  1.120340  1.120200  1.120325\n",
       "20190503  22:45:00  1.120325  1.120480  1.120130  1.120170"
      ]
     },
     "execution_count": 27,
     "metadata": {},
     "output_type": "execute_result"
    }
   ],
   "source": [
    "df = eurusd.iloc[-26:-5,:]\n",
    "df"
   ]
  },
  {
   "cell_type": "code",
   "execution_count": 28,
   "metadata": {},
   "outputs": [],
   "source": [
    "x = df['Close']"
   ]
  },
  {
   "cell_type": "code",
   "execution_count": 29,
   "metadata": {},
   "outputs": [
    {
     "data": {
      "image/png": "[encoded data removed]",
      "text/plain": [
       "<Figure size 1152x432 with 1 Axes>"
      ]
     },
     "metadata": {
      "needs_background": "light"
     },
     "output_type": "display_data"
    },
    {
     "data": {
      "text/plain": [
       "(        Data  Max Line  Min Line\n",
       " 0   1.118815  1.119075  1.118815\n",
       " 1   1.118875  1.119148  1.118862\n",
       " 2   1.119555  1.119222  1.118910\n",
       " 3   1.119630  1.119295  1.118957\n",
       " 4   1.119575  1.119369  1.119004\n",
       " 5   1.119585  1.119442  1.119051\n",
       " 6   1.119355  1.119516  1.119098\n",
       " 7   1.119420  1.119590  1.119146\n",
       " 8   1.119275  1.119663  1.119193\n",
       " 9   1.119220  1.119736  1.119240\n",
       " 10  1.119295  1.119810  1.119287\n",
       " 11  1.119845  1.119884  1.119335\n",
       " 12  1.119380  1.119957  1.119382\n",
       " 13  1.119645  1.120030  1.119429\n",
       " 14  1.119870  1.120104  1.119477\n",
       " 15  1.119780  1.120178  1.119524\n",
       " 16  1.119960  1.120251  1.119571\n",
       " 17  1.120140  1.120325  1.119618\n",
       " 18  1.120335  1.120398  1.119666\n",
       " 19  1.120325  1.120472  1.119713\n",
       " 20  1.120170  1.120545  1.119760,\n",
       " 7.00000000000145e-05,\n",
       " 4.5000000000023415e-05)"
      ]
     },
     "execution_count": 29,
     "metadata": {},
     "output_type": "execute_result"
    }
   ],
   "source": [
    "plt.figure(figsize=(16,6))\n",
    "trendy.gentrends(x, window = .9/3, charts = True)"
   ]
  },
  {
   "cell_type": "code",
   "execution_count": null,
   "metadata": {},
   "outputs": [],
   "source": []
  }
 ],
 "metadata": {
  "kernelspec": {
   "display_name": "Python 3",
   "language": "python",
   "name": "python3"
  },
  "language_info": {
   "codemirror_mode": {
    "name": "ipython",
    "version": 3
   },
   "file_extension": ".py",
   "mimetype": "text/x-python",
   "name": "python",
   "nbconvert_exporter": "python",
   "pygments_lexer": "ipython3",
   "version": "3.6.8"
  }
 },
 "nbformat": 4,
 "nbformat_minor": 2
}
