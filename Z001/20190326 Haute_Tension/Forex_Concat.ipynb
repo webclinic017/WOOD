{
 "cells": [
  {
   "cell_type": "code",
   "execution_count": 1,
   "metadata": {},
   "outputs": [],
   "source": [
    "import pandas as pd"
   ]
  },
  {
   "cell_type": "code",
   "execution_count": 2,
   "metadata": {
    "collapsed": true
   },
   "outputs": [
    {
     "name": "stdout",
     "output_type": "stream",
     "text": [
      "Génération des fichiers CSV sériés raw par symbol, de 2018 à mars 2019\n"
     ]
    },
    {
     "name": "stderr",
     "output_type": "stream",
     "text": [
      "/Users/YTsBaCh/Applications/anaconda3/envs/env_zipline/lib/python3.6/site-packages/ipykernel_launcher.py:38: FutureWarning: The signature of `Series.to_csv` was aligned to that of `DataFrame.to_csv`, and argument 'header' will change its default value from False to True: please pass an explicit value to suppress this warning.\n"
     ]
    },
    {
     "name": "stdout",
     "output_type": "stream",
     "text": [
      "\n",
      "Nombre de NaN dans var01 de  AUDUSD  :  0\n",
      "\n",
      "Nombre de NaN dans var02 de  AUDUSD  :  0\n",
      "\n",
      "Nombre de NaN dans var03 de  AUDUSD  :  0\n",
      "\n",
      "Nombre de NaN dans var de  AUDUSD  :  0\n",
      "\n",
      "Nombre de NaN dans var_full de  AUDUSD  :  0\n",
      "\n",
      "Nombre de NaN dans var2018 de  AUDUSD  :  0\n",
      "\n",
      "Nombre de NaN dans var01 de  EURUSD  :  0\n",
      "\n",
      "Nombre de NaN dans var02 de  EURUSD  :  0\n",
      "\n",
      "Nombre de NaN dans var03 de  EURUSD  :  0\n",
      "\n",
      "Nombre de NaN dans var de  EURUSD  :  0\n",
      "\n",
      "Nombre de NaN dans var_full de  EURUSD  :  0\n",
      "\n",
      "Nombre de NaN dans var2018 de  EURUSD  :  0\n",
      "\n",
      "Nombre de NaN dans var01 de  GBPUSD  :  0\n",
      "\n",
      "Nombre de NaN dans var02 de  GBPUSD  :  0\n",
      "\n",
      "Nombre de NaN dans var03 de  GBPUSD  :  0\n",
      "\n",
      "Nombre de NaN dans var de  GBPUSD  :  0\n",
      "\n",
      "Nombre de NaN dans var_full de  GBPUSD  :  0\n",
      "\n",
      "Nombre de NaN dans var2018 de  GBPUSD  :  0\n",
      "\n",
      "Nombre de NaN dans var01 de  NZDUSD  :  0\n",
      "\n",
      "Nombre de NaN dans var02 de  NZDUSD  :  0\n",
      "\n",
      "Nombre de NaN dans var03 de  NZDUSD  :  0\n",
      "\n",
      "Nombre de NaN dans var de  NZDUSD  :  0\n",
      "\n",
      "Nombre de NaN dans var_full de  NZDUSD  :  0\n",
      "\n",
      "Nombre de NaN dans var2018 de  NZDUSD  :  0\n",
      "\n",
      "Nombre de NaN dans var01 de  USDCAD  :  0\n",
      "\n",
      "Nombre de NaN dans var02 de  USDCAD  :  0\n",
      "\n",
      "Nombre de NaN dans var03 de  USDCAD  :  0\n",
      "\n",
      "Nombre de NaN dans var de  USDCAD  :  0\n",
      "\n",
      "Nombre de NaN dans var_full de  USDCAD  :  0\n",
      "\n",
      "Nombre de NaN dans var2018 de  USDCAD  :  0\n",
      "\n",
      "Nombre de NaN dans var01 de  USDCHF  :  0\n",
      "\n",
      "Nombre de NaN dans var02 de  USDCHF  :  0\n",
      "\n",
      "Nombre de NaN dans var03 de  USDCHF  :  0\n",
      "\n",
      "Nombre de NaN dans var de  USDCHF  :  0\n",
      "\n",
      "Nombre de NaN dans var_full de  USDCHF  :  0\n",
      "\n",
      "Nombre de NaN dans var2018 de  USDCHF  :  0\n",
      "\n",
      "Nombre de NaN dans var01 de  USDJPY  :  0\n",
      "\n",
      "Nombre de NaN dans var02 de  USDJPY  :  0\n",
      "\n",
      "Nombre de NaN dans var03 de  USDJPY  :  0\n",
      "\n",
      "Nombre de NaN dans var de  USDJPY  :  0\n",
      "\n",
      "Nombre de NaN dans var_full de  USDJPY  :  0\n",
      "\n",
      "Nombre de NaN dans var2018 de  USDJPY  :  0\n",
      "Opération terminée\n"
     ]
    }
   ],
   "source": [
    "chaines = ['AUDUSD','EURUSD','GBPUSD','NZDUSD','USDCAD','USDCHF','USDJPY']\n",
    "debut = 'DAT_ASCII_'\n",
    "fin_2018 = '_M1_2018.csv'\n",
    "fin_01 = '_M1_201901.csv'\n",
    "fin_02 = '_M1_201902.csv'\n",
    "fin_03 = '_M1_201903.csv'\n",
    "raw_dataset = pd.DataFrame()\n",
    "\n",
    "print('Génération des fichiers CSV sériés raw par symbol, de 2018 à mars 2019')\n",
    "for chaine in chaines:\n",
    "    nom_2018 = debut+chaine+fin_2018\n",
    "    nom_01 =  debut+chaine+fin_01\n",
    "    nom_02 =  debut+chaine+fin_02\n",
    "    nom_03 =  debut+chaine+fin_03\n",
    "    var2018 = pd.read_csv(nom_2018,delimiter=';',keep_date_col=False,header=None)\n",
    "    var2018.columns = ['Date', 'Open', 'High', 'Low','Close','null']\n",
    "    var2018['Date'] = pd.to_datetime(var2018['Date'])\n",
    "    #var2018.reset_index(drop=True)\n",
    "    var2018.set_index('Date', inplace=True,drop=True)\n",
    "    var01 = pd.read_csv(nom_01,delimiter=';',keep_date_col=False,header=None)\n",
    "    var01.columns = ['Date', 'Open', 'High', 'Low','Close','null']\n",
    "    var01['Date'] = pd.to_datetime(var01['Date'])\n",
    "    #var01.reset_index(drop=True)\n",
    "    var01.set_index('Date', inplace=True,drop=True)\n",
    "    var02 = pd.read_csv(nom_02,delimiter=';',keep_date_col=False,header=None)\n",
    "    var02.columns = ['Date', 'Open', 'High', 'Low','Close','null']\n",
    "    var02['Date'] = pd.to_datetime(var02['Date'])\n",
    "    #var02.reset_index(drop=True)\n",
    "    var02.set_index('Date', inplace=True,drop=True)\n",
    "    var03 = pd.read_csv(nom_03,delimiter=';',keep_date_col=False,header=None)\n",
    "    var03.columns = ['Date', 'Open', 'High', 'Low','Close','null']\n",
    "    var03['Date'] = pd.to_datetime(var03['Date'])\n",
    "    #var03.reset_index(drop=True)\n",
    "    var03.set_index('Date', inplace=True,drop=True)\n",
    "    var_full = pd.concat([var2018,var01,var02,var03],sort=True)\n",
    "    var = var_full['Close']\n",
    "    var.columns = ['Close']\n",
    "    var.to_csv('raw_data'+chaine+'.csv',sep=';')\n",
    "    raw_dataset[chaine+' Close'] = var\n",
    "    print('\\nNombre de NaN dans var01 de ',chaine,' : ',var01.isnull().sum().sum())\n",
    "    print('\\nNombre de NaN dans var02 de ',chaine,' : ',var02.isnull().sum().sum())\n",
    "    print('\\nNombre de NaN dans var03 de ',chaine,' : ',var03.isnull().sum().sum())\n",
    "    print('\\nNombre de NaN dans var de ',chaine,' : ',var.isnull().sum().sum())\n",
    "    print('\\nNombre de NaN dans var_full de ',chaine,' : ',var_full.isnull().sum().sum())\n",
    "    print('\\nNombre de NaN dans var2018 de ',chaine,' : ',var2018.isnull().sum().sum())\n",
    "\n",
    "print('Opération terminée')\n",
    "    "
   ]
  },
  {
   "cell_type": "code",
   "execution_count": 3,
   "metadata": {
    "scrolled": false
   },
   "outputs": [
    {
     "name": "stdout",
     "output_type": "stream",
     "text": [
      "Il faut attendre la valeur : 451569 pour ne plus avoir de NaN dans le dataframe\n"
     ]
    }
   ],
   "source": [
    "for i in range(430000,len(raw_dataset)):\n",
    "    if raw_dataset.iloc[i:,:].isnull().sum().sum()!=0:\n",
    "        pass\n",
    "    else :\n",
    "        print('Il faut attendre la valeur :',i,'pour ne plus avoir de NaN dans le dataframe')\n",
    "        break"
   ]
  },
  {
   "cell_type": "code",
   "execution_count": 4,
   "metadata": {},
   "outputs": [
    {
     "name": "stdout",
     "output_type": "stream",
     "text": [
      "Initialisation du dataset complet et du CSV sérié raw par symbol, de 2018 à mars 2019\n",
      "\n",
      "\n",
      "Il y a  15675 valeurs NaN\n",
      "\n",
      "Les Nan sont réparties comme suit :\n",
      "AUDUSD Close       0\n",
      "EURUSD Close     832\n",
      "GBPUSD Close    1175\n",
      "NZDUSD Close    3252\n",
      "USDCAD Close    5171\n",
      "USDCHF Close    3544\n",
      "USDJPY Close    1701\n",
      "dtype: int64\n",
      "Il faut attendre la valeur 451569, sur  452921  pour avoir 0 NaN\n",
      "\n",
      "Le ration d'erreurs est de : 3.368578626294652 %\n",
      "\n",
      "Le maximum du ratio est de  1.1271281305128267 % pour la colonne USDCAD\n",
      "\n",
      "On remplace donc chaque NaN par la valeur de la minute d'avant pour éviter de perdre trop de données\n"
     ]
    }
   ],
   "source": [
    "print('Initialisation du dataset complet et du CSV sérié raw par symbol, de 2018 à mars 2019\\n\\n')\n",
    "print('Il y a ',raw_dataset.isnull().sum().sum(),'valeurs NaN\\n')\n",
    "print('Les Nan sont réparties comme suit :')\n",
    "print(raw_dataset.isnull().sum())\n",
    "print('Il faut attendre la valeur 451569, sur ',len(raw_dataset),' pour avoir 0 NaN')\n",
    "ratio = 15257/len(raw_dataset)*100\n",
    "print(\"\\nLe ration d'erreurs est de :\",ratio,'%')\n",
    "print (\"\\nLe maximum du ratio est de \",(5105/len(raw_dataset)*100),'% pour la colonne USDCAD')\n",
    "print('\\nOn remplace donc chaque NaN par la valeur de la minute d\\'avant pour éviter de perdre trop de données')"
   ]
  },
  {
   "cell_type": "code",
   "execution_count": 5,
   "metadata": {},
   "outputs": [
    {
     "data": {
      "text/html": [
       "<div>\n",
       "<style scoped>\n",
       "    .dataframe tbody tr th:only-of-type {\n",
       "        vertical-align: middle;\n",
       "    }\n",
       "\n",
       "    .dataframe tbody tr th {\n",
       "        vertical-align: top;\n",
       "    }\n",
       "\n",
       "    .dataframe thead th {\n",
       "        text-align: right;\n",
       "    }\n",
       "</style>\n",
       "<table border=\"1\" class=\"dataframe\">\n",
       "  <thead>\n",
       "    <tr style=\"text-align: right;\">\n",
       "      <th></th>\n",
       "      <th>AUDUSD Close</th>\n",
       "      <th>EURUSD Close</th>\n",
       "      <th>GBPUSD Close</th>\n",
       "      <th>NZDUSD Close</th>\n",
       "      <th>USDCAD Close</th>\n",
       "      <th>USDCHF Close</th>\n",
       "      <th>USDJPY Close</th>\n",
       "    </tr>\n",
       "    <tr>\n",
       "      <th>Date</th>\n",
       "      <th></th>\n",
       "      <th></th>\n",
       "      <th></th>\n",
       "      <th></th>\n",
       "      <th></th>\n",
       "      <th></th>\n",
       "      <th></th>\n",
       "    </tr>\n",
       "  </thead>\n",
       "  <tbody>\n",
       "    <tr>\n",
       "      <th>2018-01-01 17:00:00</th>\n",
       "      <td>0.78040</td>\n",
       "      <td>1.20100</td>\n",
       "      <td>1.34985</td>\n",
       "      <td>NaN</td>\n",
       "      <td>1.25425</td>\n",
       "      <td>0.97472</td>\n",
       "      <td>112.645</td>\n",
       "    </tr>\n",
       "    <tr>\n",
       "      <th>2018-01-01 17:01:00</th>\n",
       "      <td>0.78005</td>\n",
       "      <td>1.20030</td>\n",
       "      <td>NaN</td>\n",
       "      <td>NaN</td>\n",
       "      <td>NaN</td>\n",
       "      <td>NaN</td>\n",
       "      <td>112.616</td>\n",
       "    </tr>\n",
       "    <tr>\n",
       "      <th>2018-01-01 17:02:00</th>\n",
       "      <td>0.78038</td>\n",
       "      <td>1.20043</td>\n",
       "      <td>1.35019</td>\n",
       "      <td>0.71027</td>\n",
       "      <td>NaN</td>\n",
       "      <td>0.97429</td>\n",
       "      <td>112.634</td>\n",
       "    </tr>\n",
       "    <tr>\n",
       "      <th>2018-01-01 17:04:00</th>\n",
       "      <td>0.78037</td>\n",
       "      <td>1.20048</td>\n",
       "      <td>NaN</td>\n",
       "      <td>NaN</td>\n",
       "      <td>1.25440</td>\n",
       "      <td>0.97475</td>\n",
       "      <td>112.613</td>\n",
       "    </tr>\n",
       "    <tr>\n",
       "      <th>2018-01-01 17:05:00</th>\n",
       "      <td>0.77968</td>\n",
       "      <td>1.20048</td>\n",
       "      <td>1.35012</td>\n",
       "      <td>0.71027</td>\n",
       "      <td>1.25441</td>\n",
       "      <td>NaN</td>\n",
       "      <td>112.620</td>\n",
       "    </tr>\n",
       "  </tbody>\n",
       "</table>\n",
       "</div>"
      ],
      "text/plain": [
       "                     AUDUSD Close  EURUSD Close  GBPUSD Close  NZDUSD Close  \\\n",
       "Date                                                                          \n",
       "2018-01-01 17:00:00       0.78040       1.20100       1.34985           NaN   \n",
       "2018-01-01 17:01:00       0.78005       1.20030           NaN           NaN   \n",
       "2018-01-01 17:02:00       0.78038       1.20043       1.35019       0.71027   \n",
       "2018-01-01 17:04:00       0.78037       1.20048           NaN           NaN   \n",
       "2018-01-01 17:05:00       0.77968       1.20048       1.35012       0.71027   \n",
       "\n",
       "                     USDCAD Close  USDCHF Close  USDJPY Close  \n",
       "Date                                                           \n",
       "2018-01-01 17:00:00       1.25425       0.97472       112.645  \n",
       "2018-01-01 17:01:00           NaN           NaN       112.616  \n",
       "2018-01-01 17:02:00           NaN       0.97429       112.634  \n",
       "2018-01-01 17:04:00       1.25440       0.97475       112.613  \n",
       "2018-01-01 17:05:00       1.25441           NaN       112.620  "
      ]
     },
     "execution_count": 5,
     "metadata": {},
     "output_type": "execute_result"
    }
   ],
   "source": [
    "raw_dataset.head()"
   ]
  },
  {
   "cell_type": "code",
   "execution_count": 6,
   "metadata": {},
   "outputs": [
    {
     "data": {
      "text/html": [
       "<div>\n",
       "<style scoped>\n",
       "    .dataframe tbody tr th:only-of-type {\n",
       "        vertical-align: middle;\n",
       "    }\n",
       "\n",
       "    .dataframe tbody tr th {\n",
       "        vertical-align: top;\n",
       "    }\n",
       "\n",
       "    .dataframe thead th {\n",
       "        text-align: right;\n",
       "    }\n",
       "</style>\n",
       "<table border=\"1\" class=\"dataframe\">\n",
       "  <thead>\n",
       "    <tr style=\"text-align: right;\">\n",
       "      <th></th>\n",
       "      <th>AUDUSD Close</th>\n",
       "      <th>EURUSD Close</th>\n",
       "      <th>GBPUSD Close</th>\n",
       "      <th>NZDUSD Close</th>\n",
       "      <th>USDCAD Close</th>\n",
       "      <th>USDCHF Close</th>\n",
       "      <th>USDJPY Close</th>\n",
       "    </tr>\n",
       "    <tr>\n",
       "      <th>Date</th>\n",
       "      <th></th>\n",
       "      <th></th>\n",
       "      <th></th>\n",
       "      <th></th>\n",
       "      <th></th>\n",
       "      <th></th>\n",
       "      <th></th>\n",
       "    </tr>\n",
       "  </thead>\n",
       "  <tbody>\n",
       "    <tr>\n",
       "      <th>2018-01-01 17:00:00</th>\n",
       "      <td>0.78040</td>\n",
       "      <td>1.20100</td>\n",
       "      <td>1.34985</td>\n",
       "      <td>0.71027</td>\n",
       "      <td>1.25425</td>\n",
       "      <td>0.97472</td>\n",
       "      <td>112.645</td>\n",
       "    </tr>\n",
       "    <tr>\n",
       "      <th>2018-01-01 17:01:00</th>\n",
       "      <td>0.78005</td>\n",
       "      <td>1.20030</td>\n",
       "      <td>1.34985</td>\n",
       "      <td>0.71027</td>\n",
       "      <td>1.25425</td>\n",
       "      <td>0.97472</td>\n",
       "      <td>112.616</td>\n",
       "    </tr>\n",
       "    <tr>\n",
       "      <th>2018-01-01 17:02:00</th>\n",
       "      <td>0.78038</td>\n",
       "      <td>1.20043</td>\n",
       "      <td>1.35019</td>\n",
       "      <td>0.71027</td>\n",
       "      <td>1.25425</td>\n",
       "      <td>0.97429</td>\n",
       "      <td>112.634</td>\n",
       "    </tr>\n",
       "    <tr>\n",
       "      <th>2018-01-01 17:04:00</th>\n",
       "      <td>0.78037</td>\n",
       "      <td>1.20048</td>\n",
       "      <td>1.35019</td>\n",
       "      <td>0.71027</td>\n",
       "      <td>1.25440</td>\n",
       "      <td>0.97475</td>\n",
       "      <td>112.613</td>\n",
       "    </tr>\n",
       "    <tr>\n",
       "      <th>2018-01-01 17:05:00</th>\n",
       "      <td>0.77968</td>\n",
       "      <td>1.20048</td>\n",
       "      <td>1.35012</td>\n",
       "      <td>0.71027</td>\n",
       "      <td>1.25441</td>\n",
       "      <td>0.97475</td>\n",
       "      <td>112.620</td>\n",
       "    </tr>\n",
       "  </tbody>\n",
       "</table>\n",
       "</div>"
      ],
      "text/plain": [
       "                     AUDUSD Close  EURUSD Close  GBPUSD Close  NZDUSD Close  \\\n",
       "Date                                                                          \n",
       "2018-01-01 17:00:00       0.78040       1.20100       1.34985       0.71027   \n",
       "2018-01-01 17:01:00       0.78005       1.20030       1.34985       0.71027   \n",
       "2018-01-01 17:02:00       0.78038       1.20043       1.35019       0.71027   \n",
       "2018-01-01 17:04:00       0.78037       1.20048       1.35019       0.71027   \n",
       "2018-01-01 17:05:00       0.77968       1.20048       1.35012       0.71027   \n",
       "\n",
       "                     USDCAD Close  USDCHF Close  USDJPY Close  \n",
       "Date                                                           \n",
       "2018-01-01 17:00:00       1.25425       0.97472       112.645  \n",
       "2018-01-01 17:01:00       1.25425       0.97472       112.616  \n",
       "2018-01-01 17:02:00       1.25425       0.97429       112.634  \n",
       "2018-01-01 17:04:00       1.25440       0.97475       112.613  \n",
       "2018-01-01 17:05:00       1.25441       0.97475       112.620  "
      ]
     },
     "execution_count": 6,
     "metadata": {},
     "output_type": "execute_result"
    }
   ],
   "source": [
    "raw_dataset = raw_dataset.ffill().bfill()\n",
    "raw_dataset.head()"
   ]
  },
  {
   "cell_type": "code",
   "execution_count": 7,
   "metadata": {},
   "outputs": [
    {
     "data": {
      "text/plain": [
       "0"
      ]
     },
     "execution_count": 7,
     "metadata": {},
     "output_type": "execute_result"
    }
   ],
   "source": [
    "raw_dataset.isnull().sum().sum()"
   ]
  },
  {
   "cell_type": "code",
   "execution_count": 8,
   "metadata": {},
   "outputs": [
    {
     "name": "stdout",
     "output_type": "stream",
     "text": [
      "Génération du CSV raw_dataset_solid.csv depuis 2018 jusqu'à mars 2019\n"
     ]
    }
   ],
   "source": [
    "print('Génération du CSV raw_dataset_solid.csv depuis 2018 jusqu\\'à mars 2019')\n",
    "raw_dataset.to_csv('raw_data_solid.csv',sep=';')"
   ]
  },
  {
   "cell_type": "code",
   "execution_count": 9,
   "metadata": {},
   "outputs": [
    {
     "name": "stdout",
     "output_type": "stream",
     "text": [
      "TOUT EST TERMINE.\n"
     ]
    }
   ],
   "source": [
    "print('TOUT EST TERMINE.')"
   ]
  },
  {
   "cell_type": "code",
   "execution_count": null,
   "metadata": {},
   "outputs": [],
   "source": []
  }
 ],
 "metadata": {
  "kernelspec": {
   "display_name": "Python 3",
   "language": "python",
   "name": "python3"
  },
  "language_info": {
   "codemirror_mode": {
    "name": "ipython",
    "version": 3
   },
   "file_extension": ".py",
   "mimetype": "text/x-python",
   "name": "python",
   "nbconvert_exporter": "python",
   "pygments_lexer": "ipython3",
   "version": "3.6.8"
  }
 },
 "nbformat": 4,
 "nbformat_minor": 2
}
