{
 "cells": [
  {
   "cell_type": "code",
   "execution_count": 1,
   "metadata": {},
   "outputs": [],
   "source": [
    "___Author___='LumberJack Jyss'"
   ]
  },
  {
   "cell_type": "markdown",
   "metadata": {},
   "source": [
    "# LumberJack_Haute_Tension_Forex_01"
   ]
  },
  {
   "cell_type": "code",
   "execution_count": 2,
   "metadata": {},
   "outputs": [
    {
     "name": "stderr",
     "output_type": "stream",
     "text": [
      "Using TensorFlow backend.\n"
     ]
    }
   ],
   "source": [
    "import numpy as np\n",
    "from sklearn.ensemble import RandomForestClassifier\n",
    "from sklearn.model_selection import train_test_split\n",
    "from sklearn.linear_model import LinearRegression\n",
    "from sklearn.preprocessing import PolynomialFeatures\n",
    "from sklearn.preprocessing import StandardScaler\n",
    "from sklearn.preprocessing import MinMaxScaler\n",
    "from keras.layers.recurrent import LSTM\n",
    "import tensorflow as tf\n",
    "import matplotlib.pyplot as plt\n",
    "import matplotlib.cm as cm\n",
    "%matplotlib inline\n",
    "import seaborn as sns\n",
    "sns.set(palette='bright',style='whitegrid')\n",
    "import numpy as np\n",
    "import pandas as pd\n",
    "import quandl\n",
    "import pandas_datareader as web\n",
    "from statsmodels.tsa.stattools import coint\n",
    "import statsmodels\n",
    "from statsmodels.tsa.stattools import adfuller\n",
    "import itertools\n",
    "import scipy\n",
    "from scipy import stats\n",
    "import time\n",
    "from matplotlib.backends.backend_pdf import PdfPages\n",
    "import warnings\n",
    "warnings.filterwarnings('ignore')"
   ]
  },
  {
   "cell_type": "code",
   "execution_count": 3,
   "metadata": {},
   "outputs": [],
   "source": [
    "data = pd.read_csv('raw_data_solid.csv',delimiter=';')"
   ]
  },
  {
   "cell_type": "markdown",
   "metadata": {},
   "source": [
    "### On choisit 'USDJPY Close' comme target, et on le shift de une heure\n",
    "En réalité, il manque des minutes. Donc on shift arbitrairement de 60\n",
    "\n",
    "Il faudra vraiment des données solides"
   ]
  },
  {
   "cell_type": "code",
   "execution_count": 4,
   "metadata": {
    "scrolled": true
   },
   "outputs": [
    {
     "data": {
      "text/html": [
       "<div>\n",
       "<style scoped>\n",
       "    .dataframe tbody tr th:only-of-type {\n",
       "        vertical-align: middle;\n",
       "    }\n",
       "\n",
       "    .dataframe tbody tr th {\n",
       "        vertical-align: top;\n",
       "    }\n",
       "\n",
       "    .dataframe thead th {\n",
       "        text-align: right;\n",
       "    }\n",
       "</style>\n",
       "<table border=\"1\" class=\"dataframe\">\n",
       "  <thead>\n",
       "    <tr style=\"text-align: right;\">\n",
       "      <th></th>\n",
       "      <th>Date</th>\n",
       "      <th>AUDUSD Close</th>\n",
       "      <th>EURUSD Close</th>\n",
       "      <th>GBPUSD Close</th>\n",
       "      <th>NZDUSD Close</th>\n",
       "      <th>USDCAD Close</th>\n",
       "      <th>USDCHF Close</th>\n",
       "      <th>USDJPY Close</th>\n",
       "    </tr>\n",
       "  </thead>\n",
       "  <tbody>\n",
       "    <tr>\n",
       "      <th>452916</th>\n",
       "      <td>2019-03-22 15:54:00</td>\n",
       "      <td>0.70792</td>\n",
       "      <td>1.13002</td>\n",
       "      <td>1.32091</td>\n",
       "      <td>0.68763</td>\n",
       "      <td>1.34285</td>\n",
       "      <td>0.99342</td>\n",
       "      <td>NaN</td>\n",
       "    </tr>\n",
       "    <tr>\n",
       "      <th>452917</th>\n",
       "      <td>2019-03-22 15:55:00</td>\n",
       "      <td>0.70796</td>\n",
       "      <td>1.13001</td>\n",
       "      <td>1.32106</td>\n",
       "      <td>0.68733</td>\n",
       "      <td>1.34259</td>\n",
       "      <td>0.99343</td>\n",
       "      <td>NaN</td>\n",
       "    </tr>\n",
       "    <tr>\n",
       "      <th>452918</th>\n",
       "      <td>2019-03-22 15:56:00</td>\n",
       "      <td>0.70796</td>\n",
       "      <td>1.13000</td>\n",
       "      <td>1.32110</td>\n",
       "      <td>0.68726</td>\n",
       "      <td>1.34250</td>\n",
       "      <td>0.99343</td>\n",
       "      <td>NaN</td>\n",
       "    </tr>\n",
       "    <tr>\n",
       "      <th>452919</th>\n",
       "      <td>2019-03-22 15:57:00</td>\n",
       "      <td>0.70796</td>\n",
       "      <td>1.13009</td>\n",
       "      <td>1.32083</td>\n",
       "      <td>0.68742</td>\n",
       "      <td>1.34280</td>\n",
       "      <td>0.99336</td>\n",
       "      <td>NaN</td>\n",
       "    </tr>\n",
       "    <tr>\n",
       "      <th>452920</th>\n",
       "      <td>2019-03-22 15:58:00</td>\n",
       "      <td>0.70786</td>\n",
       "      <td>1.13007</td>\n",
       "      <td>1.32088</td>\n",
       "      <td>0.68729</td>\n",
       "      <td>1.34278</td>\n",
       "      <td>0.99312</td>\n",
       "      <td>NaN</td>\n",
       "    </tr>\n",
       "  </tbody>\n",
       "</table>\n",
       "</div>"
      ],
      "text/plain": [
       "                       Date  AUDUSD Close  EURUSD Close  GBPUSD Close  \\\n",
       "452916  2019-03-22 15:54:00       0.70792       1.13002       1.32091   \n",
       "452917  2019-03-22 15:55:00       0.70796       1.13001       1.32106   \n",
       "452918  2019-03-22 15:56:00       0.70796       1.13000       1.32110   \n",
       "452919  2019-03-22 15:57:00       0.70796       1.13009       1.32083   \n",
       "452920  2019-03-22 15:58:00       0.70786       1.13007       1.32088   \n",
       "\n",
       "        NZDUSD Close  USDCAD Close  USDCHF Close  USDJPY Close  \n",
       "452916       0.68763       1.34285       0.99342           NaN  \n",
       "452917       0.68733       1.34259       0.99343           NaN  \n",
       "452918       0.68726       1.34250       0.99343           NaN  \n",
       "452919       0.68742       1.34280       0.99336           NaN  \n",
       "452920       0.68729       1.34278       0.99312           NaN  "
      ]
     },
     "execution_count": 4,
     "metadata": {},
     "output_type": "execute_result"
    }
   ],
   "source": [
    "dataset = data\n",
    "dataset['USDJPY Close'] = dataset['USDJPY Close'].shift(-60)\n",
    "dataset.tail()"
   ]
  },
  {
   "cell_type": "code",
   "execution_count": 5,
   "metadata": {},
   "outputs": [
    {
     "data": {
      "text/html": [
       "<div>\n",
       "<style scoped>\n",
       "    .dataframe tbody tr th:only-of-type {\n",
       "        vertical-align: middle;\n",
       "    }\n",
       "\n",
       "    .dataframe tbody tr th {\n",
       "        vertical-align: top;\n",
       "    }\n",
       "\n",
       "    .dataframe thead th {\n",
       "        text-align: right;\n",
       "    }\n",
       "</style>\n",
       "<table border=\"1\" class=\"dataframe\">\n",
       "  <thead>\n",
       "    <tr style=\"text-align: right;\">\n",
       "      <th></th>\n",
       "      <th>AUDUSD Close</th>\n",
       "      <th>EURUSD Close</th>\n",
       "      <th>GBPUSD Close</th>\n",
       "      <th>NZDUSD Close</th>\n",
       "      <th>USDCAD Close</th>\n",
       "      <th>USDCHF Close</th>\n",
       "      <th>USDJPY Close</th>\n",
       "    </tr>\n",
       "    <tr>\n",
       "      <th>Date</th>\n",
       "      <th></th>\n",
       "      <th></th>\n",
       "      <th></th>\n",
       "      <th></th>\n",
       "      <th></th>\n",
       "      <th></th>\n",
       "      <th></th>\n",
       "    </tr>\n",
       "  </thead>\n",
       "  <tbody>\n",
       "    <tr>\n",
       "      <th>2018-01-01 17:00:00</th>\n",
       "      <td>0.78040</td>\n",
       "      <td>1.20100</td>\n",
       "      <td>1.34985</td>\n",
       "      <td>0.71027</td>\n",
       "      <td>1.25425</td>\n",
       "      <td>0.97472</td>\n",
       "      <td>112.660</td>\n",
       "    </tr>\n",
       "    <tr>\n",
       "      <th>2018-01-01 17:01:00</th>\n",
       "      <td>0.78005</td>\n",
       "      <td>1.20030</td>\n",
       "      <td>1.34985</td>\n",
       "      <td>0.71027</td>\n",
       "      <td>1.25425</td>\n",
       "      <td>0.97472</td>\n",
       "      <td>112.656</td>\n",
       "    </tr>\n",
       "    <tr>\n",
       "      <th>2018-01-01 17:02:00</th>\n",
       "      <td>0.78038</td>\n",
       "      <td>1.20043</td>\n",
       "      <td>1.35019</td>\n",
       "      <td>0.71027</td>\n",
       "      <td>1.25425</td>\n",
       "      <td>0.97429</td>\n",
       "      <td>112.648</td>\n",
       "    </tr>\n",
       "    <tr>\n",
       "      <th>2018-01-01 17:04:00</th>\n",
       "      <td>0.78037</td>\n",
       "      <td>1.20048</td>\n",
       "      <td>1.35019</td>\n",
       "      <td>0.71027</td>\n",
       "      <td>1.25440</td>\n",
       "      <td>0.97475</td>\n",
       "      <td>112.660</td>\n",
       "    </tr>\n",
       "    <tr>\n",
       "      <th>2018-01-01 17:05:00</th>\n",
       "      <td>0.77968</td>\n",
       "      <td>1.20048</td>\n",
       "      <td>1.35012</td>\n",
       "      <td>0.71027</td>\n",
       "      <td>1.25441</td>\n",
       "      <td>0.97475</td>\n",
       "      <td>112.650</td>\n",
       "    </tr>\n",
       "  </tbody>\n",
       "</table>\n",
       "</div>"
      ],
      "text/plain": [
       "                     AUDUSD Close  EURUSD Close  GBPUSD Close  NZDUSD Close  \\\n",
       "Date                                                                          \n",
       "2018-01-01 17:00:00       0.78040       1.20100       1.34985       0.71027   \n",
       "2018-01-01 17:01:00       0.78005       1.20030       1.34985       0.71027   \n",
       "2018-01-01 17:02:00       0.78038       1.20043       1.35019       0.71027   \n",
       "2018-01-01 17:04:00       0.78037       1.20048       1.35019       0.71027   \n",
       "2018-01-01 17:05:00       0.77968       1.20048       1.35012       0.71027   \n",
       "\n",
       "                     USDCAD Close  USDCHF Close  USDJPY Close  \n",
       "Date                                                           \n",
       "2018-01-01 17:00:00       1.25425       0.97472       112.660  \n",
       "2018-01-01 17:01:00       1.25425       0.97472       112.656  \n",
       "2018-01-01 17:02:00       1.25425       0.97429       112.648  \n",
       "2018-01-01 17:04:00       1.25440       0.97475       112.660  \n",
       "2018-01-01 17:05:00       1.25441       0.97475       112.650  "
      ]
     },
     "execution_count": 5,
     "metadata": {},
     "output_type": "execute_result"
    }
   ],
   "source": [
    "dataset.set_index('Date', inplace=True,drop=True)\n",
    "dataset.head()"
   ]
  },
  {
   "cell_type": "markdown",
   "metadata": {},
   "source": [
    "On retire les 60 dernières lignes qui ne nous servent plus et on sépare les X des y"
   ]
  },
  {
   "cell_type": "code",
   "execution_count": 6,
   "metadata": {},
   "outputs": [],
   "source": [
    "X = dataset.iloc[:-60:, :6]#.to_frame()#.dropna()\n",
    "y = dataset.iloc[:-60:, 6].to_frame()#.dropna()"
   ]
  },
  {
   "cell_type": "code",
   "execution_count": 7,
   "metadata": {},
   "outputs": [
    {
     "data": {
      "text/plain": [
       "0"
      ]
     },
     "execution_count": 7,
     "metadata": {},
     "output_type": "execute_result"
    }
   ],
   "source": [
    "X.isnull().sum().sum()"
   ]
  },
  {
   "cell_type": "code",
   "execution_count": 8,
   "metadata": {},
   "outputs": [
    {
     "data": {
      "text/plain": [
       "0"
      ]
     },
     "execution_count": 8,
     "metadata": {},
     "output_type": "execute_result"
    }
   ],
   "source": [
    "y.isnull().sum().sum()"
   ]
  },
  {
   "cell_type": "code",
   "execution_count": 9,
   "metadata": {},
   "outputs": [
    {
     "data": {
      "text/html": [
       "<div>\n",
       "<style scoped>\n",
       "    .dataframe tbody tr th:only-of-type {\n",
       "        vertical-align: middle;\n",
       "    }\n",
       "\n",
       "    .dataframe tbody tr th {\n",
       "        vertical-align: top;\n",
       "    }\n",
       "\n",
       "    .dataframe thead th {\n",
       "        text-align: right;\n",
       "    }\n",
       "</style>\n",
       "<table border=\"1\" class=\"dataframe\">\n",
       "  <thead>\n",
       "    <tr style=\"text-align: right;\">\n",
       "      <th></th>\n",
       "      <th>AUDUSD Close</th>\n",
       "      <th>EURUSD Close</th>\n",
       "      <th>GBPUSD Close</th>\n",
       "      <th>NZDUSD Close</th>\n",
       "      <th>USDCAD Close</th>\n",
       "      <th>USDCHF Close</th>\n",
       "    </tr>\n",
       "    <tr>\n",
       "      <th>Date</th>\n",
       "      <th></th>\n",
       "      <th></th>\n",
       "      <th></th>\n",
       "      <th></th>\n",
       "      <th></th>\n",
       "      <th></th>\n",
       "    </tr>\n",
       "  </thead>\n",
       "  <tbody>\n",
       "    <tr>\n",
       "      <th>2018-01-01 17:00:00</th>\n",
       "      <td>0.78040</td>\n",
       "      <td>1.20100</td>\n",
       "      <td>1.34985</td>\n",
       "      <td>0.71027</td>\n",
       "      <td>1.25425</td>\n",
       "      <td>0.97472</td>\n",
       "    </tr>\n",
       "    <tr>\n",
       "      <th>2018-01-01 17:01:00</th>\n",
       "      <td>0.78005</td>\n",
       "      <td>1.20030</td>\n",
       "      <td>1.34985</td>\n",
       "      <td>0.71027</td>\n",
       "      <td>1.25425</td>\n",
       "      <td>0.97472</td>\n",
       "    </tr>\n",
       "    <tr>\n",
       "      <th>2018-01-01 17:02:00</th>\n",
       "      <td>0.78038</td>\n",
       "      <td>1.20043</td>\n",
       "      <td>1.35019</td>\n",
       "      <td>0.71027</td>\n",
       "      <td>1.25425</td>\n",
       "      <td>0.97429</td>\n",
       "    </tr>\n",
       "    <tr>\n",
       "      <th>2018-01-01 17:04:00</th>\n",
       "      <td>0.78037</td>\n",
       "      <td>1.20048</td>\n",
       "      <td>1.35019</td>\n",
       "      <td>0.71027</td>\n",
       "      <td>1.25440</td>\n",
       "      <td>0.97475</td>\n",
       "    </tr>\n",
       "    <tr>\n",
       "      <th>2018-01-01 17:05:00</th>\n",
       "      <td>0.77968</td>\n",
       "      <td>1.20048</td>\n",
       "      <td>1.35012</td>\n",
       "      <td>0.71027</td>\n",
       "      <td>1.25441</td>\n",
       "      <td>0.97475</td>\n",
       "    </tr>\n",
       "  </tbody>\n",
       "</table>\n",
       "</div>"
      ],
      "text/plain": [
       "                     AUDUSD Close  EURUSD Close  GBPUSD Close  NZDUSD Close  \\\n",
       "Date                                                                          \n",
       "2018-01-01 17:00:00       0.78040       1.20100       1.34985       0.71027   \n",
       "2018-01-01 17:01:00       0.78005       1.20030       1.34985       0.71027   \n",
       "2018-01-01 17:02:00       0.78038       1.20043       1.35019       0.71027   \n",
       "2018-01-01 17:04:00       0.78037       1.20048       1.35019       0.71027   \n",
       "2018-01-01 17:05:00       0.77968       1.20048       1.35012       0.71027   \n",
       "\n",
       "                     USDCAD Close  USDCHF Close  \n",
       "Date                                             \n",
       "2018-01-01 17:00:00       1.25425       0.97472  \n",
       "2018-01-01 17:01:00       1.25425       0.97472  \n",
       "2018-01-01 17:02:00       1.25425       0.97429  \n",
       "2018-01-01 17:04:00       1.25440       0.97475  \n",
       "2018-01-01 17:05:00       1.25441       0.97475  "
      ]
     },
     "execution_count": 9,
     "metadata": {},
     "output_type": "execute_result"
    }
   ],
   "source": [
    "X.head()"
   ]
  },
  {
   "cell_type": "code",
   "execution_count": 10,
   "metadata": {},
   "outputs": [
    {
     "data": {
      "text/html": [
       "<div>\n",
       "<style scoped>\n",
       "    .dataframe tbody tr th:only-of-type {\n",
       "        vertical-align: middle;\n",
       "    }\n",
       "\n",
       "    .dataframe tbody tr th {\n",
       "        vertical-align: top;\n",
       "    }\n",
       "\n",
       "    .dataframe thead th {\n",
       "        text-align: right;\n",
       "    }\n",
       "</style>\n",
       "<table border=\"1\" class=\"dataframe\">\n",
       "  <thead>\n",
       "    <tr style=\"text-align: right;\">\n",
       "      <th></th>\n",
       "      <th>USDJPY Close</th>\n",
       "    </tr>\n",
       "    <tr>\n",
       "      <th>Date</th>\n",
       "      <th></th>\n",
       "    </tr>\n",
       "  </thead>\n",
       "  <tbody>\n",
       "    <tr>\n",
       "      <th>2018-01-01 17:00:00</th>\n",
       "      <td>112.660</td>\n",
       "    </tr>\n",
       "    <tr>\n",
       "      <th>2018-01-01 17:01:00</th>\n",
       "      <td>112.656</td>\n",
       "    </tr>\n",
       "    <tr>\n",
       "      <th>2018-01-01 17:02:00</th>\n",
       "      <td>112.648</td>\n",
       "    </tr>\n",
       "    <tr>\n",
       "      <th>2018-01-01 17:04:00</th>\n",
       "      <td>112.660</td>\n",
       "    </tr>\n",
       "    <tr>\n",
       "      <th>2018-01-01 17:05:00</th>\n",
       "      <td>112.650</td>\n",
       "    </tr>\n",
       "  </tbody>\n",
       "</table>\n",
       "</div>"
      ],
      "text/plain": [
       "                     USDJPY Close\n",
       "Date                             \n",
       "2018-01-01 17:00:00       112.660\n",
       "2018-01-01 17:01:00       112.656\n",
       "2018-01-01 17:02:00       112.648\n",
       "2018-01-01 17:04:00       112.660\n",
       "2018-01-01 17:05:00       112.650"
      ]
     },
     "execution_count": 10,
     "metadata": {},
     "output_type": "execute_result"
    }
   ],
   "source": [
    "y.head()"
   ]
  },
  {
   "cell_type": "code",
   "execution_count": 11,
   "metadata": {},
   "outputs": [
    {
     "data": {
      "text/plain": [
       "0.7803800000000001"
      ]
     },
     "execution_count": 11,
     "metadata": {},
     "output_type": "execute_result"
    }
   ],
   "source": [
    "X.iloc[2,0]"
   ]
  },
  {
   "cell_type": "code",
   "execution_count": 12,
   "metadata": {},
   "outputs": [
    {
     "data": {
      "text/plain": [
       "452861"
      ]
     },
     "execution_count": 12,
     "metadata": {},
     "output_type": "execute_result"
    }
   ],
   "source": [
    "len(X)"
   ]
  },
  {
   "cell_type": "code",
   "execution_count": 13,
   "metadata": {},
   "outputs": [
    {
     "data": {
      "text/plain": [
       "452861"
      ]
     },
     "execution_count": 13,
     "metadata": {},
     "output_type": "execute_result"
    }
   ],
   "source": [
    "len(y)"
   ]
  },
  {
   "cell_type": "markdown",
   "metadata": {},
   "source": [
    "### DEEP LEARNIG"
   ]
  },
  {
   "cell_type": "code",
   "execution_count": 14,
   "metadata": {},
   "outputs": [
    {
     "name": "stdout",
     "output_type": "stream",
     "text": [
      "\n",
      "Infos X : \n",
      "\n",
      "<class 'pandas.core.frame.DataFrame'>\n",
      "Index: 452861 entries, 2018-01-01 17:00:00 to 2019-03-22 14:58:00\n",
      "Data columns (total 6 columns):\n",
      "AUDUSD Close    452861 non-null float64\n",
      "EURUSD Close    452861 non-null float64\n",
      "GBPUSD Close    452861 non-null float64\n",
      "NZDUSD Close    452861 non-null float64\n",
      "USDCAD Close    452861 non-null float64\n",
      "USDCHF Close    452861 non-null float64\n",
      "dtypes: float64(6)\n",
      "memory usage: 44.2+ MB\n",
      "None \n",
      "\n"
     ]
    }
   ],
   "source": [
    "print ('\\nInfos X : \\n')\n",
    "print (X.info(),'\\n')"
   ]
  },
  {
   "cell_type": "code",
   "execution_count": 15,
   "metadata": {},
   "outputs": [
    {
     "name": "stdout",
     "output_type": "stream",
     "text": [
      "\n",
      "Infos y : \n",
      "\n",
      "<class 'pandas.core.frame.DataFrame'>\n",
      "Index: 452861 entries, 2018-01-01 17:00:00 to 2019-03-22 14:58:00\n",
      "Data columns (total 1 columns):\n",
      "USDJPY Close    452861 non-null float64\n",
      "dtypes: float64(1)\n",
      "memory usage: 6.9+ MB\n",
      "None \n",
      "\n"
     ]
    }
   ],
   "source": [
    "print ('\\nInfos y : \\n')\n",
    "print(y.info(),'\\n')"
   ]
  },
  {
   "cell_type": "code",
   "execution_count": 16,
   "metadata": {},
   "outputs": [
    {
     "name": "stdout",
     "output_type": "stream",
     "text": [
      "La valeur de n (shape de X) est de :  452861\n",
      "La valeur de p (shape de y) est de :  452861\n"
     ]
    }
   ],
   "source": [
    "# Dimensions of dataset sur 2 colonnes\n",
    "#X.dropna()\n",
    "#y.dropna()\n",
    "n = X.shape[0]\n",
    "p = y.shape[0]\n",
    "print('La valeur de n (shape de X) est de : ',n)\n",
    "print('La valeur de p (shape de y) est de : ',p)"
   ]
  },
  {
   "cell_type": "code",
   "execution_count": 17,
   "metadata": {},
   "outputs": [],
   "source": [
    "X = X.values\n",
    "y = y.values"
   ]
  },
  {
   "cell_type": "code",
   "execution_count": 18,
   "metadata": {},
   "outputs": [
    {
     "data": {
      "text/plain": [
       "(452861, 6)"
      ]
     },
     "execution_count": 18,
     "metadata": {},
     "output_type": "execute_result"
    }
   ],
   "source": [
    "X.shape"
   ]
  },
  {
   "cell_type": "code",
   "execution_count": 19,
   "metadata": {},
   "outputs": [
    {
     "data": {
      "text/plain": [
       "(452861, 1)"
      ]
     },
     "execution_count": 19,
     "metadata": {},
     "output_type": "execute_result"
    }
   ],
   "source": [
    "y.shape"
   ]
  },
  {
   "cell_type": "code",
   "execution_count": 20,
   "metadata": {},
   "outputs": [],
   "source": [
    "# Training and test data\n",
    "train_start = 0\n",
    "train_end = int(np.floor(0.8*n))\n",
    "test_start = train_end\n",
    "test_end = n\n",
    "X_train = X[np.arange(train_start, train_end), :]\n",
    "X_test = X[np.arange(test_start, test_end), :]\n",
    "y_train = y[np.arange(train_start, train_end), :]\n",
    "y_test = y[np.arange(test_start, test_end), :]"
   ]
  },
  {
   "cell_type": "code",
   "execution_count": 21,
   "metadata": {},
   "outputs": [],
   "source": [
    "# Scale data\n",
    "scaler = MinMaxScaler()\n",
    "X_train = scaler.fit_transform(X_train)\n",
    "X_test = scaler.transform(X_test)\n",
    "y_train = scaler.fit_transform(y_train)\n",
    "y_test = scaler.transform(y_test)"
   ]
  },
  {
   "cell_type": "code",
   "execution_count": 22,
   "metadata": {},
   "outputs": [],
   "source": [
    "# Initialize the graph\n",
    "graph = tf.Session()"
   ]
  },
  {
   "cell_type": "code",
   "execution_count": 23,
   "metadata": {},
   "outputs": [],
   "source": [
    "# Placeholder\n",
    "X = tf.placeholder(dtype=tf.float32, shape=[None, 6]) # correspond au shape de X \n",
    "Y = tf.placeholder(dtype=tf.float32, shape=[None,1]) # correspond au shape de y"
   ]
  },
  {
   "cell_type": "code",
   "execution_count": 24,
   "metadata": {},
   "outputs": [],
   "source": [
    "# Initializers\n",
    "sigma = 1\n",
    "weight_initializer = tf.variance_scaling_initializer(mode=\"fan_avg\", distribution=\"uniform\", scale=sigma)\n",
    "bias_initializer = tf.zeros_initializer()"
   ]
  },
  {
   "cell_type": "code",
   "execution_count": 25,
   "metadata": {},
   "outputs": [],
   "source": [
    "# Model architecture parameters\n",
    "n_stocks = 6 # Nb of columns\n",
    "n_neurons_1 = 100\n",
    "n_neurons_2 = 100\n",
    "n_neurons_3 = 100\n",
    "n_neurons_4 = 100\n",
    "n_neurons_5 = 100\n",
    "n_target = 1\n",
    "\n",
    "# Layer 1: Variables for hidden weights and biases\n",
    "W_hidden_1 = tf.Variable(weight_initializer([n_stocks, n_neurons_1]))\n",
    "bias_hidden_1 = tf.Variable(bias_initializer([n_neurons_1]))\n",
    "# Layer 2: Variables for hidden weights and biases\n",
    "#W_hidden_2 = tf.Variable(weight_initializer([n_neurons_1, n_neurons_2]))\n",
    "#bias_hidden_2 = tf.Variable(bias_initializer([n_neurons_2]))\n",
    "# Layer 3: Variables for hidden weights and biases\n",
    "#W_hidden_3 = tf.Variable(weight_initializer([n_neurons_2, n_neurons_3]))\n",
    "#bias_hidden_3 = tf.Variable(bias_initializer([n_neurons_3]))\n",
    "# Layer 4: Variables for hidden weights and biases\n",
    "#W_hidden_4 = tf.Variable(weight_initializer([n_neurons_3, n_neurons_4]))\n",
    "#bias_hidden_4 = tf.Variable(bias_initializer([n_neurons_4]))\n",
    "# Layer 4: Variables for hidden weights and biases\n",
    "W_hidden_5 = tf.Variable(weight_initializer([n_neurons_1, n_neurons_5]))\n",
    "bias_hidden_5 = tf.Variable(bias_initializer([n_neurons_5]))\n",
    "\n",
    "# Output layer: Variables for output weights and biases\n",
    "W_out = tf.Variable(weight_initializer([n_neurons_5, n_target]))\n",
    "bias_out = tf.Variable(bias_initializer([n_target]))"
   ]
  },
  {
   "cell_type": "code",
   "execution_count": 29,
   "metadata": {},
   "outputs": [],
   "source": [
    "# Hidden layer\n",
    "hidden_1 = tf.nn.relu(tf.add(tf.matmul(X, W_hidden_1), bias_hidden_1))\n",
    "#hidden_2 = tf.nn.relu(tf.add(tf.matmul(hidden_1, W_hidden_2), bias_hidden_2))\n",
    "#hidden_3 = tf.nn.relu(tf.add(tf.matmul(hidden_2, W_hidden_3), bias_hidden_3))\n",
    "#hidden_4 = tf.nn.relu(tf.add(tf.matmul(hidden_3, W_hidden_4), bias_hidden_4))\n",
    "hidden_5 = tf.nn.relu(tf.add(tf.matmul(hidden_1, W_hidden_5), bias_hidden_5))\n",
    "\n",
    "\n",
    "# Output layer (must be transposed)\n",
    "out = tf.transpose(tf.add(tf.matmul(hidden_5, W_out), bias_out))"
   ]
  },
  {
   "cell_type": "code",
   "execution_count": 30,
   "metadata": {},
   "outputs": [],
   "source": [
    "# Cost function\n",
    "mse = tf.reduce_mean(tf.squared_difference(out, Y))"
   ]
  },
  {
   "cell_type": "code",
   "execution_count": 31,
   "metadata": {},
   "outputs": [],
   "source": [
    "# Optimizer\n",
    "opt = tf.train.AdamOptimizer().minimize(mse)"
   ]
  },
  {
   "cell_type": "code",
   "execution_count": null,
   "metadata": {},
   "outputs": [],
   "source": [
    "# Make Session\n",
    "net = tf.Session()\n",
    "# Run initializer\n",
    "net.run(tf.global_variables_initializer())\n",
    "\n",
    "# Setup interactive plot\n",
    "#plt.ion()\n",
    "#fig = plt.figure(figsize=(16,6))\n",
    "#ax1 = fig.add_subplot(111)\n",
    "#line1, = ax1.plot(y_test)\n",
    "#line2, = ax1.plot(y_test*0.5)\n",
    "#plt.legend()\n",
    "#plt.show()\n",
    "\n",
    "# Number of epochs and batch size\n",
    "epochs = 1\n",
    "batch_size = 100000\n",
    "\n",
    "for e in range(epochs):\n",
    "\n",
    "    # Shuffle training data\n",
    "    shuffle_indices = np.random.permutation(np.arange(len(y_train)))\n",
    "    X_train = X_train[shuffle_indices]\n",
    "    y_train = y_train[shuffle_indices]\n",
    "\n",
    "    # Minibatch training\n",
    "    for i in range(0, len(y_train) // batch_size):\n",
    "        start = i * batch_size\n",
    "        batch_x = X_train[start:start + batch_size]\n",
    "        batch_y = y_train[start:start + batch_size]\n",
    "        # Run optimizer with batch\n",
    "        net.run(opt, feed_dict={X: batch_x, Y: batch_y})\n",
    "\n",
    "        # Show progress\n",
    "        if np.mod(i, 5) == 0:\n",
    "            # Prediction\n",
    "            pred = net.run(out, feed_dict={X: X_test})\n",
    "            line2.set_ydata(pred)\n",
    "            plt.title('Epoch ' + str(e) + ', Batch ' + str(i))\n",
    "            file_name = 'img/epoch_' + str(e) + '_batch_' + str(i) + '.jpg'\n",
    "           # plt.savefig(file_name)\n",
    "            plt.pause(0.01)\n",
    "# Print final MSE after Training"
   ]
  },
  {
   "cell_type": "code",
   "execution_count": null,
   "metadata": {},
   "outputs": [],
   "source": [
    "mse_final = net.run(mse, feed_dict={X: X_test, Y: y_test})"
   ]
  },
  {
   "cell_type": "code",
   "execution_count": null,
   "metadata": {},
   "outputs": [],
   "source": [
    "print(mse_final)"
   ]
  },
  {
   "cell_type": "code",
   "execution_count": null,
   "metadata": {},
   "outputs": [],
   "source": []
  },
  {
   "cell_type": "code",
   "execution_count": null,
   "metadata": {},
   "outputs": [],
   "source": []
  },
  {
   "cell_type": "code",
   "execution_count": null,
   "metadata": {},
   "outputs": [],
   "source": []
  }
 ],
 "metadata": {
  "kernelspec": {
   "display_name": "Python 3",
   "language": "python",
   "name": "python3"
  },
  "language_info": {
   "codemirror_mode": {
    "name": "ipython",
    "version": 3
   },
   "file_extension": ".py",
   "mimetype": "text/x-python",
   "name": "python",
   "nbconvert_exporter": "python",
   "pygments_lexer": "ipython3",
   "version": "3.6.8"
  }
 },
 "nbformat": 4,
 "nbformat_minor": 2
}
