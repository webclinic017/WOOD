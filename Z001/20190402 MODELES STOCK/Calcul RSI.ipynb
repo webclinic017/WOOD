{
 "cells": [
  {
   "cell_type": "code",
   "execution_count": null,
   "metadata": {},
   "outputs": [],
   "source": [
    "def stochRsi(self, offset, rsi, lengthStoch):\n",
    "  \"\"\"\n",
    "    :param offset: int, shift in the past (offset = 0, current candle, offset = 1, previous candle, ...)\n",
    "    :param rsi: list of rsi values previously computed\n",
    "  \"\"\"\n",
    "  if offset > 0:\n",
    "    MinRSI = min(rsi[-lengthStoch-offset:-offset])\n",
    "    MaxRSI = max(rsi[-lengthStoch-offset:-offset])\n",
    "  else:\n",
    "    MinRSI = min(rsi[-lengthStoch:])\n",
    "    MaxRSI = max(rsi[-lengthStoch:])\n",
    "  return (rsi[-offset-1] - MinRSI)/(MaxRSI - MinRSI)\n",
    "\n",
    "def k(self, offset, rsi, lengthStoch, smoothK):\n",
    "  return 100 * (sum([self.stochRsi(offset+i, rsi, lengthStoch) for i in range(smoothK)])) / smoothK\n",
    "\n",
    "def d(self, offset, rsi, lengthStoch, smoothK, smoothD):\n",
    "  return sum([self.k(offset+i, rsi, lengthStoch, smoothK) for i in range(smoothD)]) / smoothD"
   ]
  }
 ],
 "metadata": {
  "kernelspec": {
   "display_name": "Python 3",
   "language": "python",
   "name": "python3"
  },
  "language_info": {
   "codemirror_mode": {
    "name": "ipython",
    "version": 3
   },
   "file_extension": ".py",
   "mimetype": "text/x-python",
   "name": "python",
   "nbconvert_exporter": "python",
   "pygments_lexer": "ipython3",
   "version": "3.6.8"
  }
 },
 "nbformat": 4,
 "nbformat_minor": 2
}
