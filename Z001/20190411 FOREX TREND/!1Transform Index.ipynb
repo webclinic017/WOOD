{
 "cells": [
  {
   "cell_type": "code",
   "execution_count": 1,
   "metadata": {},
   "outputs": [],
   "source": [
    "# TRANSFORM INDEX"
   ]
  },
  {
   "cell_type": "code",
   "execution_count": 1,
   "metadata": {},
   "outputs": [],
   "source": [
    "import pandas as pd\n",
    "import os\n",
    "path_abs='/Users/YTsBaCh/Documents/DATA SCIENCES/20190411 FOREX TREND/'\n",
    "#path_rel = os.path.dirname(os.path.abspath(__file__))\n",
    "# SCRAPING DES DONNES BRUTES\n",
    "audusd = pd.read_csv(filepath_or_buffer = path_abs+'AUDUSD_raw.csv')\n",
    "eurusd = pd.read_csv(filepath_or_buffer = path_abs+'EURUSD_raw.csv')\n",
    "gbpusd = pd.read_csv(filepath_or_buffer = path_abs+'GBPUSD_raw.csv')\n",
    "nzdusd = pd.read_csv(filepath_or_buffer = path_abs+'NZDUSD_raw.csv')\n",
    "usdcad = pd.read_csv(filepath_or_buffer = path_abs+'USDCAD_raw.csv')\n",
    "usdchf = pd.read_csv(filepath_or_buffer = path_abs+'USDCHF_raw.csv')\n",
    "usdjpy = pd.read_csv(filepath_or_buffer = path_abs+'USDJPY_raw.csv')"
   ]
  },
  {
   "cell_type": "code",
   "execution_count": 2,
   "metadata": {},
   "outputs": [],
   "source": [
    "usdchf = usdchf.iloc[:1123140,:]"
   ]
  },
  {
   "cell_type": "code",
   "execution_count": 3,
   "metadata": {},
   "outputs": [],
   "source": [
    "from dateutil import parser\n",
    "import time\n",
    "from datetime import date,datetime\n",
    "\n",
    "list_index=[]\n",
    "for dd in range(len(audusd['Local time'])):\n",
    "    original_date = parser.parse(audusd['Local time'][dd])\n",
    "    required_date = original_date.strftime(\"%Y-%m-%d %H:%M:%S\")\n",
    "    list_index.append(required_date)"
   ]
  },
  {
   "cell_type": "code",
   "execution_count": null,
   "metadata": {},
   "outputs": [],
   "source": []
  },
  {
   "cell_type": "code",
   "execution_count": 6,
   "metadata": {},
   "outputs": [],
   "source": [
    "audusd['Local time'] = list_index\n",
    "audusd = audusd.set_index('Local time')"
   ]
  },
  {
   "cell_type": "code",
   "execution_count": 7,
   "metadata": {},
   "outputs": [],
   "source": [
    "eurusd['Local time'] = list_index\n",
    "eurusd = eurusd.set_index('Local time')"
   ]
  },
  {
   "cell_type": "code",
   "execution_count": 8,
   "metadata": {},
   "outputs": [],
   "source": [
    "gbpusd['Local time'] = list_index\n",
    "gbpusd = gbpusd.set_index('Local time')"
   ]
  },
  {
   "cell_type": "code",
   "execution_count": 9,
   "metadata": {},
   "outputs": [],
   "source": [
    "nzdusd['Local time'] = list_index\n",
    "nzdusd = nzdusd.set_index('Local time')"
   ]
  },
  {
   "cell_type": "code",
   "execution_count": 10,
   "metadata": {},
   "outputs": [],
   "source": [
    "usdcad['Local time'] = list_index\n",
    "usdcad = usdcad.set_index('Local time')"
   ]
  },
  {
   "cell_type": "code",
   "execution_count": 11,
   "metadata": {},
   "outputs": [],
   "source": [
    "usdchf['Local time'] = list_index\n",
    "usdchf = usdchf.set_index('Local time')"
   ]
  },
  {
   "cell_type": "code",
   "execution_count": 12,
   "metadata": {},
   "outputs": [],
   "source": [
    "usdjpy['Local time'] = list_index\n",
    "usdjpy = usdjpy.set_index('Local time')"
   ]
  },
  {
   "cell_type": "code",
   "execution_count": 13,
   "metadata": {},
   "outputs": [
    {
     "data": {
      "text/html": [
       "<div>\n",
       "<style scoped>\n",
       "    .dataframe tbody tr th:only-of-type {\n",
       "        vertical-align: middle;\n",
       "    }\n",
       "\n",
       "    .dataframe tbody tr th {\n",
       "        vertical-align: top;\n",
       "    }\n",
       "\n",
       "    .dataframe thead th {\n",
       "        text-align: right;\n",
       "    }\n",
       "</style>\n",
       "<table border=\"1\" class=\"dataframe\">\n",
       "  <thead>\n",
       "    <tr style=\"text-align: right;\">\n",
       "      <th></th>\n",
       "      <th>Open</th>\n",
       "      <th>High</th>\n",
       "      <th>Low</th>\n",
       "      <th>Close</th>\n",
       "      <th>Volume</th>\n",
       "    </tr>\n",
       "    <tr>\n",
       "      <th>Local time</th>\n",
       "      <th></th>\n",
       "      <th></th>\n",
       "      <th></th>\n",
       "      <th></th>\n",
       "      <th></th>\n",
       "    </tr>\n",
       "  </thead>\n",
       "  <tbody>\n",
       "    <tr>\n",
       "      <th>2016-11-04 00:00:00</th>\n",
       "      <td>0.75465</td>\n",
       "      <td>0.75501</td>\n",
       "      <td>0.75463</td>\n",
       "      <td>0.75498</td>\n",
       "      <td>29.19</td>\n",
       "    </tr>\n",
       "  </tbody>\n",
       "</table>\n",
       "</div>"
      ],
      "text/plain": [
       "                        Open     High      Low    Close  Volume\n",
       "Local time                                                     \n",
       "2016-11-04 00:00:00  0.75465  0.75501  0.75463  0.75498   29.19"
      ]
     },
     "execution_count": 13,
     "metadata": {},
     "output_type": "execute_result"
    }
   ],
   "source": [
    "audusd.head(1)"
   ]
  },
  {
   "cell_type": "code",
   "execution_count": 14,
   "metadata": {},
   "outputs": [],
   "source": [
    "original_list = ['Open','High','Low','Close','Volume']\n",
    "ticker_list = ['audusd','eurusd','gbpusd','nzdusd','usdcad','usdchf','usdjpy']\n",
    "final_list = []\n",
    "for ticker in ticker_list:\n",
    "    for col in original_list:\n",
    "        final_list.append(ticker+'_'+col)"
   ]
  },
  {
   "cell_type": "code",
   "execution_count": 15,
   "metadata": {},
   "outputs": [],
   "source": [
    "audusd.columns.values[0:5] = final_list[0:5]"
   ]
  },
  {
   "cell_type": "code",
   "execution_count": 16,
   "metadata": {},
   "outputs": [],
   "source": [
    "eurusd.columns.values[0:5] = final_list[5:10]"
   ]
  },
  {
   "cell_type": "code",
   "execution_count": 17,
   "metadata": {},
   "outputs": [],
   "source": [
    "gbpusd.columns.values[0:5] = final_list[10:15]"
   ]
  },
  {
   "cell_type": "code",
   "execution_count": 18,
   "metadata": {},
   "outputs": [],
   "source": [
    "nzdusd.columns.values[0:5] = final_list[15:20]"
   ]
  },
  {
   "cell_type": "code",
   "execution_count": 19,
   "metadata": {},
   "outputs": [],
   "source": [
    "usdcad.columns.values[0:5] = final_list[20:25]"
   ]
  },
  {
   "cell_type": "code",
   "execution_count": 20,
   "metadata": {},
   "outputs": [],
   "source": [
    "usdchf.columns.values[0:5] = final_list[25:30]"
   ]
  },
  {
   "cell_type": "code",
   "execution_count": 21,
   "metadata": {},
   "outputs": [],
   "source": [
    "usdjpy.columns.values[0:5] = final_list[30:35]"
   ]
  },
  {
   "cell_type": "code",
   "execution_count": 22,
   "metadata": {},
   "outputs": [],
   "source": [
    "audusd.to_csv('AUDUSD.csv')\n",
    "eurusd.to_csv('EURUSD.csv')\n",
    "gbpusd.to_csv('GBPUSD.csv')\n",
    "nzdusd.to_csv('NZDUSD.csv')\n",
    "usdcad.to_csv('USDCAD.csv')\n",
    "usdchf.to_csv('USDCHF.csv')\n",
    "usdjpy.to_csv('USDJPY.csv')\n",
    "\n"
   ]
  },
  {
   "cell_type": "code",
   "execution_count": 23,
   "metadata": {},
   "outputs": [
    {
     "data": {
      "text/html": [
       "<div>\n",
       "<style scoped>\n",
       "    .dataframe tbody tr th:only-of-type {\n",
       "        vertical-align: middle;\n",
       "    }\n",
       "\n",
       "    .dataframe tbody tr th {\n",
       "        vertical-align: top;\n",
       "    }\n",
       "\n",
       "    .dataframe thead th {\n",
       "        text-align: right;\n",
       "    }\n",
       "</style>\n",
       "<table border=\"1\" class=\"dataframe\">\n",
       "  <thead>\n",
       "    <tr style=\"text-align: right;\">\n",
       "      <th></th>\n",
       "      <th>usdjpy_Open</th>\n",
       "      <th>usdjpy_High</th>\n",
       "      <th>usdjpy_Low</th>\n",
       "      <th>usdjpy_Close</th>\n",
       "      <th>usdjpy_Volume</th>\n",
       "    </tr>\n",
       "    <tr>\n",
       "      <th>Local time</th>\n",
       "      <th></th>\n",
       "      <th></th>\n",
       "      <th></th>\n",
       "      <th></th>\n",
       "      <th></th>\n",
       "    </tr>\n",
       "  </thead>\n",
       "  <tbody>\n",
       "    <tr>\n",
       "      <th>2016-11-04 00:00:00</th>\n",
       "      <td>108.084</td>\n",
       "      <td>108.121</td>\n",
       "      <td>108.073</td>\n",
       "      <td>108.118</td>\n",
       "      <td>92.08</td>\n",
       "    </tr>\n",
       "    <tr>\n",
       "      <th>2016-11-04 00:01:00</th>\n",
       "      <td>108.116</td>\n",
       "      <td>108.116</td>\n",
       "      <td>108.093</td>\n",
       "      <td>108.106</td>\n",
       "      <td>47.29</td>\n",
       "    </tr>\n",
       "    <tr>\n",
       "      <th>2016-11-04 00:02:00</th>\n",
       "      <td>108.106</td>\n",
       "      <td>108.121</td>\n",
       "      <td>108.098</td>\n",
       "      <td>108.107</td>\n",
       "      <td>85.62</td>\n",
       "    </tr>\n",
       "    <tr>\n",
       "      <th>2016-11-04 00:03:00</th>\n",
       "      <td>108.107</td>\n",
       "      <td>108.120</td>\n",
       "      <td>108.104</td>\n",
       "      <td>108.106</td>\n",
       "      <td>48.37</td>\n",
       "    </tr>\n",
       "    <tr>\n",
       "      <th>2016-11-04 00:04:00</th>\n",
       "      <td>108.107</td>\n",
       "      <td>108.110</td>\n",
       "      <td>108.083</td>\n",
       "      <td>108.084</td>\n",
       "      <td>59.22</td>\n",
       "    </tr>\n",
       "  </tbody>\n",
       "</table>\n",
       "</div>"
      ],
      "text/plain": [
       "                     usdjpy_Open  usdjpy_High  usdjpy_Low  usdjpy_Close  \\\n",
       "Local time                                                                \n",
       "2016-11-04 00:00:00      108.084      108.121     108.073       108.118   \n",
       "2016-11-04 00:01:00      108.116      108.116     108.093       108.106   \n",
       "2016-11-04 00:02:00      108.106      108.121     108.098       108.107   \n",
       "2016-11-04 00:03:00      108.107      108.120     108.104       108.106   \n",
       "2016-11-04 00:04:00      108.107      108.110     108.083       108.084   \n",
       "\n",
       "                     usdjpy_Volume  \n",
       "Local time                          \n",
       "2016-11-04 00:00:00          92.08  \n",
       "2016-11-04 00:01:00          47.29  \n",
       "2016-11-04 00:02:00          85.62  \n",
       "2016-11-04 00:03:00          48.37  \n",
       "2016-11-04 00:04:00          59.22  "
      ]
     },
     "execution_count": 23,
     "metadata": {},
     "output_type": "execute_result"
    }
   ],
   "source": [
    "usdjpy.head()"
   ]
  },
  {
   "cell_type": "code",
   "execution_count": null,
   "metadata": {},
   "outputs": [],
   "source": []
  }
 ],
 "metadata": {
  "kernelspec": {
   "display_name": "Python 3",
   "language": "python",
   "name": "python3"
  },
  "language_info": {
   "codemirror_mode": {
    "name": "ipython",
    "version": 3
   },
   "file_extension": ".py",
   "mimetype": "text/x-python",
   "name": "python",
   "nbconvert_exporter": "python",
   "pygments_lexer": "ipython3",
   "version": "3.6.8"
  }
 },
 "nbformat": 4,
 "nbformat_minor": 2
}
