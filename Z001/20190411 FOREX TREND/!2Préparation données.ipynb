{
 "cells": [
  {
   "cell_type": "code",
   "execution_count": 356,
   "metadata": {},
   "outputs": [],
   "source": [
    "___Author___='LumberJack Jyss'"
   ]
  },
  {
   "cell_type": "code",
   "execution_count": 357,
   "metadata": {},
   "outputs": [
    {
     "name": "stdout",
     "output_type": "stream",
     "text": [
      "LumberJack Trading AtidotCom PREPARATION\n",
      "LumberJack Jyss (c)\n"
     ]
    }
   ],
   "source": [
    "print('LumberJack Trading AtidotCom PREPARATION\\nLumberJack Jyss (c)')"
   ]
  },
  {
   "cell_type": "code",
   "execution_count": 358,
   "metadata": {},
   "outputs": [
    {
     "name": "stdout",
     "output_type": "stream",
     "text": [
      "Importation des librairies...\n",
      "Librairies importées\n"
     ]
    }
   ],
   "source": [
    "print('Importation des librairies...')\n",
    "import numpy as np\n",
    "import pandas as pd\n",
    "print('Librairies importées')"
   ]
  },
  {
   "cell_type": "code",
   "execution_count": 359,
   "metadata": {},
   "outputs": [],
   "source": [
    "# SCRAPING DES DONNES BRUTES\n",
    "audusd = pd.read_csv('AUDUSD.csv')\n",
    "audusd = audusd.set_index('Local time')\n",
    "eurusd = pd.read_csv('EURUSD.csv')\n",
    "eurusd = eurusd.set_index('Local time')\n",
    "gbpusd = pd.read_csv('GBPUSD.csv')\n",
    "gbpusd = gbpusd.set_index('Local time')\n",
    "nzdusd = pd.read_csv('NZDUSD.csv')\n",
    "nzdusd = nzdusd.set_index('Local time')\n",
    "usdcad = pd.read_csv('USDCAD.csv')\n",
    "usdcad = usdcad.set_index('Local time')\n",
    "usdchf = pd.read_csv('USDCHF.csv')\n",
    "usdchf = usdchf.set_index('Local time')\n",
    "usdjpy = pd.read_csv('USDJPY.csv')\n",
    "usdjpy = usdjpy.set_index('Local time')"
   ]
  },
  {
   "cell_type": "code",
   "execution_count": null,
   "metadata": {},
   "outputs": [],
   "source": []
  },
  {
   "cell_type": "code",
   "execution_count": null,
   "metadata": {},
   "outputs": [],
   "source": [
    "def Resample30(df):\n",
    "    min_candle = (0,0)\n",
    "    max_candle = (0,0)\n",
    "    open_candle = (0,0)\n",
    "    close_candle = (0,0)\n",
    "    time_is_money = []\n",
    "    candle = []\n",
    "    \n",
    "    for i in range(0,30):\n",
    "        if \n",
    "        open_candle = \n",
    "        "
   ]
  },
  {
   "cell_type": "code",
   "execution_count": 360,
   "metadata": {},
   "outputs": [],
   "source": [
    "labasequoi = pd.DataFrame(index = audusd.index)\n",
    "labasequoi = pd.concat((audusd,usdjpy,gbpusd,nzdusd,usdcad,usdchf,eurusd),axis=1)"
   ]
  },
  {
   "cell_type": "code",
   "execution_count": 361,
   "metadata": {},
   "outputs": [],
   "source": [
    "balise = labasequoi.shape[0]-10000"
   ]
  },
  {
   "cell_type": "code",
   "execution_count": 362,
   "metadata": {},
   "outputs": [],
   "source": [
    "simanim = labasequoi.iloc[balise:,:]"
   ]
  },
  {
   "cell_type": "code",
   "execution_count": 363,
   "metadata": {},
   "outputs": [
    {
     "name": "stderr",
     "output_type": "stream",
     "text": [
      "/Users/YTsBaCh/Applications/anaconda3/envs/LumberJack/lib/python3.6/site-packages/ipykernel_launcher.py:1: SettingWithCopyWarning: \n",
      "A value is trying to be set on a copy of a slice from a DataFrame.\n",
      "Try using .loc[row_indexer,col_indexer] = value instead\n",
      "\n",
      "See the caveats in the documentation: http://pandas.pydata.org/pandas-docs/stable/indexing.html#indexing-view-versus-copy\n",
      "  \"\"\"Entry point for launching an IPython kernel.\n",
      "/Users/YTsBaCh/Applications/anaconda3/envs/LumberJack/lib/python3.6/site-packages/ipykernel_launcher.py:2: SettingWithCopyWarning: \n",
      "A value is trying to be set on a copy of a slice from a DataFrame.\n",
      "Try using .loc[row_indexer,col_indexer] = value instead\n",
      "\n",
      "See the caveats in the documentation: http://pandas.pydata.org/pandas-docs/stable/indexing.html#indexing-view-versus-copy\n",
      "  \n",
      "/Users/YTsBaCh/Applications/anaconda3/envs/LumberJack/lib/python3.6/site-packages/ipykernel_launcher.py:3: SettingWithCopyWarning: \n",
      "A value is trying to be set on a copy of a slice from a DataFrame.\n",
      "Try using .loc[row_indexer,col_indexer] = value instead\n",
      "\n",
      "See the caveats in the documentation: http://pandas.pydata.org/pandas-docs/stable/indexing.html#indexing-view-versus-copy\n",
      "  This is separate from the ipykernel package so we can avoid doing imports until\n",
      "/Users/YTsBaCh/Applications/anaconda3/envs/LumberJack/lib/python3.6/site-packages/ipykernel_launcher.py:4: SettingWithCopyWarning: \n",
      "A value is trying to be set on a copy of a slice from a DataFrame.\n",
      "Try using .loc[row_indexer,col_indexer] = value instead\n",
      "\n",
      "See the caveats in the documentation: http://pandas.pydata.org/pandas-docs/stable/indexing.html#indexing-view-versus-copy\n",
      "  after removing the cwd from sys.path.\n",
      "/Users/YTsBaCh/Applications/anaconda3/envs/LumberJack/lib/python3.6/site-packages/ipykernel_launcher.py:5: SettingWithCopyWarning: \n",
      "A value is trying to be set on a copy of a slice from a DataFrame.\n",
      "Try using .loc[row_indexer,col_indexer] = value instead\n",
      "\n",
      "See the caveats in the documentation: http://pandas.pydata.org/pandas-docs/stable/indexing.html#indexing-view-versus-copy\n",
      "  \"\"\"\n"
     ]
    }
   ],
   "source": [
    "simanim['return_1'] = np.nan\n",
    "simanim['return_2'] = np.nan\n",
    "simanim['return_3'] = np.nan\n",
    "simanim['return_4'] = np.nan\n",
    "simanim['return_5'] = np.nan"
   ]
  },
  {
   "cell_type": "code",
   "execution_count": 364,
   "metadata": {},
   "outputs": [
    {
     "data": {
      "text/html": [
       "<div>\n",
       "<style scoped>\n",
       "    .dataframe tbody tr th:only-of-type {\n",
       "        vertical-align: middle;\n",
       "    }\n",
       "\n",
       "    .dataframe tbody tr th {\n",
       "        vertical-align: top;\n",
       "    }\n",
       "\n",
       "    .dataframe thead th {\n",
       "        text-align: right;\n",
       "    }\n",
       "</style>\n",
       "<table border=\"1\" class=\"dataframe\">\n",
       "  <thead>\n",
       "    <tr style=\"text-align: right;\">\n",
       "      <th></th>\n",
       "      <th>audusd_Open</th>\n",
       "      <th>audusd_High</th>\n",
       "      <th>audusd_Low</th>\n",
       "      <th>audusd_Close</th>\n",
       "      <th>audusd_Volume</th>\n",
       "      <th>usdjpy_Open</th>\n",
       "      <th>usdjpy_High</th>\n",
       "      <th>usdjpy_Low</th>\n",
       "      <th>usdjpy_Close</th>\n",
       "      <th>usdjpy_Volume</th>\n",
       "      <th>...</th>\n",
       "      <th>eurusd_Open</th>\n",
       "      <th>eurusd_High</th>\n",
       "      <th>eurusd_Low</th>\n",
       "      <th>eurusd_Close</th>\n",
       "      <th>eurusd_Volume</th>\n",
       "      <th>return_1</th>\n",
       "      <th>return_2</th>\n",
       "      <th>return_3</th>\n",
       "      <th>return_4</th>\n",
       "      <th>return_5</th>\n",
       "    </tr>\n",
       "    <tr>\n",
       "      <th>Local time</th>\n",
       "      <th></th>\n",
       "      <th></th>\n",
       "      <th></th>\n",
       "      <th></th>\n",
       "      <th></th>\n",
       "      <th></th>\n",
       "      <th></th>\n",
       "      <th></th>\n",
       "      <th></th>\n",
       "      <th></th>\n",
       "      <th></th>\n",
       "      <th></th>\n",
       "      <th></th>\n",
       "      <th></th>\n",
       "      <th></th>\n",
       "      <th></th>\n",
       "      <th></th>\n",
       "      <th></th>\n",
       "      <th></th>\n",
       "      <th></th>\n",
       "      <th></th>\n",
       "    </tr>\n",
       "  </thead>\n",
       "  <tbody>\n",
       "    <tr>\n",
       "      <th>2019-03-27 23:20:00</th>\n",
       "      <td>0.70917</td>\n",
       "      <td>0.70917</td>\n",
       "      <td>0.70901</td>\n",
       "      <td>0.70902</td>\n",
       "      <td>42.1</td>\n",
       "      <td>110.504</td>\n",
       "      <td>110.504</td>\n",
       "      <td>110.493</td>\n",
       "      <td>110.499</td>\n",
       "      <td>65.5</td>\n",
       "      <td>...</td>\n",
       "      <td>1.12517</td>\n",
       "      <td>1.12517</td>\n",
       "      <td>1.12511</td>\n",
       "      <td>1.12511</td>\n",
       "      <td>76.01</td>\n",
       "      <td>NaN</td>\n",
       "      <td>NaN</td>\n",
       "      <td>NaN</td>\n",
       "      <td>NaN</td>\n",
       "      <td>NaN</td>\n",
       "    </tr>\n",
       "  </tbody>\n",
       "</table>\n",
       "<p>1 rows × 40 columns</p>\n",
       "</div>"
      ],
      "text/plain": [
       "                     audusd_Open  audusd_High  audusd_Low  audusd_Close  \\\n",
       "Local time                                                                \n",
       "2019-03-27 23:20:00      0.70917      0.70917     0.70901       0.70902   \n",
       "\n",
       "                     audusd_Volume  usdjpy_Open  usdjpy_High  usdjpy_Low  \\\n",
       "Local time                                                                 \n",
       "2019-03-27 23:20:00           42.1      110.504      110.504     110.493   \n",
       "\n",
       "                     usdjpy_Close  usdjpy_Volume  ...  eurusd_Open  \\\n",
       "Local time                                        ...                \n",
       "2019-03-27 23:20:00       110.499           65.5  ...      1.12517   \n",
       "\n",
       "                     eurusd_High  eurusd_Low  eurusd_Close  eurusd_Volume  \\\n",
       "Local time                                                                  \n",
       "2019-03-27 23:20:00      1.12517     1.12511       1.12511          76.01   \n",
       "\n",
       "                     return_1  return_2  return_3  return_4  return_5  \n",
       "Local time                                                             \n",
       "2019-03-27 23:20:00       NaN       NaN       NaN       NaN       NaN  \n",
       "\n",
       "[1 rows x 40 columns]"
      ]
     },
     "execution_count": 364,
     "metadata": {},
     "output_type": "execute_result"
    }
   ],
   "source": [
    "simanim.head(1)"
   ]
  },
  {
   "cell_type": "code",
   "execution_count": 365,
   "metadata": {},
   "outputs": [
    {
     "data": {
      "text/plain": [
       "1.1251100000000001"
      ]
     },
     "execution_count": 365,
     "metadata": {},
     "output_type": "execute_result"
    }
   ],
   "source": [
    "simanim.iloc[0,33] # => 33 est bien le close"
   ]
  },
  {
   "cell_type": "code",
   "execution_count": 366,
   "metadata": {},
   "outputs": [],
   "source": [
    "# On va établir sur je jpy nos return.\n",
    "# Return du jour J = (Close de la veille - Close du jour)/Close ddu jour\n",
    "# Le return du nième jour = (Close du jour n - Close du jour)/Close du jour\n",
    "\n",
    "pnl_1 = []\n",
    "pnl_2 = []\n",
    "pnl_3 = []\n",
    "pnl_4 = []\n",
    "pnl_5 = []\n",
    "\n",
    "\n",
    "\n",
    "for i in range(6,simanim.shape[0]):\n",
    "    \n",
    "    jour_0 = simanim.iloc[i-1,33]\n",
    "    jour_1 = simanim.iloc[i-2,33]\n",
    "    jour_2 = simanim.iloc[i-3,33]\n",
    "    jour_3 = simanim.iloc[i-4,33]\n",
    "    jour_4 = simanim.iloc[i-5,33]\n",
    "    jour_5 = simanim.iloc[i-6,33]\n",
    "    \n",
    "    pnl_1.append(jour_1-jour_0)\n",
    "    pnl_2.append(jour_2-jour_0)\n",
    "    pnl_3.append(jour_3-jour_0)\n",
    "    pnl_4.append(jour_4-jour_0)\n",
    "    pnl_5.append(jour_5-jour_0)"
   ]
  },
  {
   "cell_type": "code",
   "execution_count": 368,
   "metadata": {},
   "outputs": [
    {
     "name": "stderr",
     "output_type": "stream",
     "text": [
      "/Users/YTsBaCh/Applications/anaconda3/envs/LumberJack/lib/python3.6/site-packages/ipykernel_launcher.py:2: SettingWithCopyWarning: \n",
      "A value is trying to be set on a copy of a slice from a DataFrame\n",
      "\n",
      "See the caveats in the documentation: http://pandas.pydata.org/pandas-docs/stable/indexing.html#indexing-view-versus-copy\n",
      "  \n",
      "/Users/YTsBaCh/Applications/anaconda3/envs/LumberJack/lib/python3.6/site-packages/ipykernel_launcher.py:3: SettingWithCopyWarning: \n",
      "A value is trying to be set on a copy of a slice from a DataFrame\n",
      "\n",
      "See the caveats in the documentation: http://pandas.pydata.org/pandas-docs/stable/indexing.html#indexing-view-versus-copy\n",
      "  This is separate from the ipykernel package so we can avoid doing imports until\n",
      "/Users/YTsBaCh/Applications/anaconda3/envs/LumberJack/lib/python3.6/site-packages/ipykernel_launcher.py:4: SettingWithCopyWarning: \n",
      "A value is trying to be set on a copy of a slice from a DataFrame\n",
      "\n",
      "See the caveats in the documentation: http://pandas.pydata.org/pandas-docs/stable/indexing.html#indexing-view-versus-copy\n",
      "  after removing the cwd from sys.path.\n",
      "/Users/YTsBaCh/Applications/anaconda3/envs/LumberJack/lib/python3.6/site-packages/ipykernel_launcher.py:5: SettingWithCopyWarning: \n",
      "A value is trying to be set on a copy of a slice from a DataFrame\n",
      "\n",
      "See the caveats in the documentation: http://pandas.pydata.org/pandas-docs/stable/indexing.html#indexing-view-versus-copy\n",
      "  \"\"\"\n",
      "/Users/YTsBaCh/Applications/anaconda3/envs/LumberJack/lib/python3.6/site-packages/ipykernel_launcher.py:6: SettingWithCopyWarning: \n",
      "A value is trying to be set on a copy of a slice from a DataFrame\n",
      "\n",
      "See the caveats in the documentation: http://pandas.pydata.org/pandas-docs/stable/indexing.html#indexing-view-versus-copy\n",
      "  \n"
     ]
    }
   ],
   "source": [
    "    \n",
    "simanim.loc[6:,'return_1'] = pnl_1\n",
    "simanim.loc[6:,'return_2'] = pnl_2\n",
    "simanim.loc[6:,'return_3'] = pnl_3\n",
    "simanim.loc[6:,'return_4'] = pnl_4\n",
    "simanim.loc[6:,'return_5'] = pnl_5"
   ]
  },
  {
   "cell_type": "code",
   "execution_count": 369,
   "metadata": {},
   "outputs": [],
   "source": [
    "simanim = simanim.dropna()"
   ]
  },
  {
   "cell_type": "code",
   "execution_count": 376,
   "metadata": {},
   "outputs": [
    {
     "data": {
      "text/plain": [
       "(9994, 41)"
      ]
     },
     "execution_count": 376,
     "metadata": {},
     "output_type": "execute_result"
    }
   ],
   "source": [
    "simanim.shape"
   ]
  },
  {
   "cell_type": "code",
   "execution_count": 377,
   "metadata": {},
   "outputs": [
    {
     "data": {
      "text/html": [
       "<div>\n",
       "<style scoped>\n",
       "    .dataframe tbody tr th:only-of-type {\n",
       "        vertical-align: middle;\n",
       "    }\n",
       "\n",
       "    .dataframe tbody tr th {\n",
       "        vertical-align: top;\n",
       "    }\n",
       "\n",
       "    .dataframe thead th {\n",
       "        text-align: right;\n",
       "    }\n",
       "</style>\n",
       "<table border=\"1\" class=\"dataframe\">\n",
       "  <thead>\n",
       "    <tr style=\"text-align: right;\">\n",
       "      <th></th>\n",
       "      <th>audusd_Open</th>\n",
       "      <th>audusd_High</th>\n",
       "      <th>audusd_Low</th>\n",
       "      <th>audusd_Close</th>\n",
       "      <th>audusd_Volume</th>\n",
       "      <th>usdjpy_Open</th>\n",
       "      <th>usdjpy_High</th>\n",
       "      <th>usdjpy_Low</th>\n",
       "      <th>usdjpy_Close</th>\n",
       "      <th>usdjpy_Volume</th>\n",
       "      <th>...</th>\n",
       "      <th>eurusd_High</th>\n",
       "      <th>eurusd_Low</th>\n",
       "      <th>eurusd_Close</th>\n",
       "      <th>eurusd_Volume</th>\n",
       "      <th>return_1</th>\n",
       "      <th>return_2</th>\n",
       "      <th>return_3</th>\n",
       "      <th>return_4</th>\n",
       "      <th>return_5</th>\n",
       "      <th>trend</th>\n",
       "    </tr>\n",
       "    <tr>\n",
       "      <th>Local time</th>\n",
       "      <th></th>\n",
       "      <th></th>\n",
       "      <th></th>\n",
       "      <th></th>\n",
       "      <th></th>\n",
       "      <th></th>\n",
       "      <th></th>\n",
       "      <th></th>\n",
       "      <th></th>\n",
       "      <th></th>\n",
       "      <th></th>\n",
       "      <th></th>\n",
       "      <th></th>\n",
       "      <th></th>\n",
       "      <th></th>\n",
       "      <th></th>\n",
       "      <th></th>\n",
       "      <th></th>\n",
       "      <th></th>\n",
       "      <th></th>\n",
       "      <th></th>\n",
       "    </tr>\n",
       "  </thead>\n",
       "  <tbody>\n",
       "    <tr>\n",
       "      <th>2019-03-27 23:26:00</th>\n",
       "      <td>0.70904</td>\n",
       "      <td>0.70904</td>\n",
       "      <td>0.70904</td>\n",
       "      <td>0.70904</td>\n",
       "      <td>3.90</td>\n",
       "      <td>110.484</td>\n",
       "      <td>110.501</td>\n",
       "      <td>110.480</td>\n",
       "      <td>110.500</td>\n",
       "      <td>51.18</td>\n",
       "      <td>...</td>\n",
       "      <td>1.12511</td>\n",
       "      <td>1.12507</td>\n",
       "      <td>1.12510</td>\n",
       "      <td>54.50</td>\n",
       "      <td>0.000000</td>\n",
       "      <td>-0.004444</td>\n",
       "      <td>-0.004444</td>\n",
       "      <td>-0.005333</td>\n",
       "      <td>0.002666</td>\n",
       "      <td>NaN</td>\n",
       "    </tr>\n",
       "    <tr>\n",
       "      <th>2019-03-27 23:27:00</th>\n",
       "      <td>0.70904</td>\n",
       "      <td>0.70904</td>\n",
       "      <td>0.70882</td>\n",
       "      <td>0.70883</td>\n",
       "      <td>53.34</td>\n",
       "      <td>110.497</td>\n",
       "      <td>110.497</td>\n",
       "      <td>110.466</td>\n",
       "      <td>110.468</td>\n",
       "      <td>91.26</td>\n",
       "      <td>...</td>\n",
       "      <td>1.12512</td>\n",
       "      <td>1.12509</td>\n",
       "      <td>1.12511</td>\n",
       "      <td>47.81</td>\n",
       "      <td>-0.001778</td>\n",
       "      <td>-0.001778</td>\n",
       "      <td>-0.006222</td>\n",
       "      <td>-0.006222</td>\n",
       "      <td>-0.007110</td>\n",
       "      <td>NaN</td>\n",
       "    </tr>\n",
       "    <tr>\n",
       "      <th>2019-03-27 23:28:00</th>\n",
       "      <td>0.70885</td>\n",
       "      <td>0.70885</td>\n",
       "      <td>0.70874</td>\n",
       "      <td>0.70883</td>\n",
       "      <td>35.73</td>\n",
       "      <td>110.469</td>\n",
       "      <td>110.469</td>\n",
       "      <td>110.455</td>\n",
       "      <td>110.457</td>\n",
       "      <td>79.43</td>\n",
       "      <td>...</td>\n",
       "      <td>1.12515</td>\n",
       "      <td>1.12511</td>\n",
       "      <td>1.12513</td>\n",
       "      <td>132.43</td>\n",
       "      <td>-0.000889</td>\n",
       "      <td>-0.002666</td>\n",
       "      <td>-0.002666</td>\n",
       "      <td>-0.007110</td>\n",
       "      <td>-0.007110</td>\n",
       "      <td>NaN</td>\n",
       "    </tr>\n",
       "    <tr>\n",
       "      <th>2019-03-27 23:29:00</th>\n",
       "      <td>0.70883</td>\n",
       "      <td>0.70883</td>\n",
       "      <td>0.70865</td>\n",
       "      <td>0.70877</td>\n",
       "      <td>41.47</td>\n",
       "      <td>110.457</td>\n",
       "      <td>110.478</td>\n",
       "      <td>110.456</td>\n",
       "      <td>110.469</td>\n",
       "      <td>60.94</td>\n",
       "      <td>...</td>\n",
       "      <td>1.12514</td>\n",
       "      <td>1.12510</td>\n",
       "      <td>1.12511</td>\n",
       "      <td>84.85</td>\n",
       "      <td>-0.001778</td>\n",
       "      <td>-0.002666</td>\n",
       "      <td>-0.004444</td>\n",
       "      <td>-0.004444</td>\n",
       "      <td>-0.008888</td>\n",
       "      <td>NaN</td>\n",
       "    </tr>\n",
       "    <tr>\n",
       "      <th>2019-03-27 23:30:00</th>\n",
       "      <td>0.70880</td>\n",
       "      <td>0.70888</td>\n",
       "      <td>0.70864</td>\n",
       "      <td>0.70866</td>\n",
       "      <td>40.08</td>\n",
       "      <td>110.467</td>\n",
       "      <td>110.469</td>\n",
       "      <td>110.454</td>\n",
       "      <td>110.454</td>\n",
       "      <td>33.25</td>\n",
       "      <td>...</td>\n",
       "      <td>1.12516</td>\n",
       "      <td>1.12512</td>\n",
       "      <td>1.12513</td>\n",
       "      <td>102.78</td>\n",
       "      <td>0.001778</td>\n",
       "      <td>0.000000</td>\n",
       "      <td>-0.000889</td>\n",
       "      <td>-0.002666</td>\n",
       "      <td>-0.002666</td>\n",
       "      <td>NaN</td>\n",
       "    </tr>\n",
       "  </tbody>\n",
       "</table>\n",
       "<p>5 rows × 41 columns</p>\n",
       "</div>"
      ],
      "text/plain": [
       "                     audusd_Open  audusd_High  audusd_Low  audusd_Close  \\\n",
       "Local time                                                                \n",
       "2019-03-27 23:26:00      0.70904      0.70904     0.70904       0.70904   \n",
       "2019-03-27 23:27:00      0.70904      0.70904     0.70882       0.70883   \n",
       "2019-03-27 23:28:00      0.70885      0.70885     0.70874       0.70883   \n",
       "2019-03-27 23:29:00      0.70883      0.70883     0.70865       0.70877   \n",
       "2019-03-27 23:30:00      0.70880      0.70888     0.70864       0.70866   \n",
       "\n",
       "                     audusd_Volume  usdjpy_Open  usdjpy_High  usdjpy_Low  \\\n",
       "Local time                                                                 \n",
       "2019-03-27 23:26:00           3.90      110.484      110.501     110.480   \n",
       "2019-03-27 23:27:00          53.34      110.497      110.497     110.466   \n",
       "2019-03-27 23:28:00          35.73      110.469      110.469     110.455   \n",
       "2019-03-27 23:29:00          41.47      110.457      110.478     110.456   \n",
       "2019-03-27 23:30:00          40.08      110.467      110.469     110.454   \n",
       "\n",
       "                     usdjpy_Close  usdjpy_Volume  ...  eurusd_High  \\\n",
       "Local time                                        ...                \n",
       "2019-03-27 23:26:00       110.500          51.18  ...      1.12511   \n",
       "2019-03-27 23:27:00       110.468          91.26  ...      1.12512   \n",
       "2019-03-27 23:28:00       110.457          79.43  ...      1.12515   \n",
       "2019-03-27 23:29:00       110.469          60.94  ...      1.12514   \n",
       "2019-03-27 23:30:00       110.454          33.25  ...      1.12516   \n",
       "\n",
       "                     eurusd_Low  eurusd_Close  eurusd_Volume  return_1  \\\n",
       "Local time                                                               \n",
       "2019-03-27 23:26:00     1.12507       1.12510          54.50  0.000000   \n",
       "2019-03-27 23:27:00     1.12509       1.12511          47.81 -0.001778   \n",
       "2019-03-27 23:28:00     1.12511       1.12513         132.43 -0.000889   \n",
       "2019-03-27 23:29:00     1.12510       1.12511          84.85 -0.001778   \n",
       "2019-03-27 23:30:00     1.12512       1.12513         102.78  0.001778   \n",
       "\n",
       "                     return_2  return_3  return_4  return_5  trend  \n",
       "Local time                                                          \n",
       "2019-03-27 23:26:00 -0.004444 -0.004444 -0.005333  0.002666    NaN  \n",
       "2019-03-27 23:27:00 -0.001778 -0.006222 -0.006222 -0.007110    NaN  \n",
       "2019-03-27 23:28:00 -0.002666 -0.002666 -0.007110 -0.007110    NaN  \n",
       "2019-03-27 23:29:00 -0.002666 -0.004444 -0.004444 -0.008888    NaN  \n",
       "2019-03-27 23:30:00  0.000000 -0.000889 -0.002666 -0.002666    NaN  \n",
       "\n",
       "[5 rows x 41 columns]"
      ]
     },
     "execution_count": 377,
     "metadata": {},
     "output_type": "execute_result"
    }
   ],
   "source": [
    "simanim.head()"
   ]
  },
  {
   "cell_type": "code",
   "execution_count": 371,
   "metadata": {},
   "outputs": [
    {
     "data": {
      "text/plain": [
       "(9994, 40)"
      ]
     },
     "execution_count": 371,
     "metadata": {},
     "output_type": "execute_result"
    }
   ],
   "source": [
    "trend = []\n",
    "max_dronedraoune = []\n",
    "simanim.shape"
   ]
  },
  {
   "cell_type": "code",
   "execution_count": 372,
   "metadata": {},
   "outputs": [],
   "source": [
    "for j in range(6,simanim.shape[0]):\n",
    "    if simanim.iloc[j,35] > .0008 and\\\n",
    "    simanim.iloc[j,36] > .0008 and\\\n",
    "    simanim.iloc[j,37] > .0008 and\\\n",
    "    simanim.iloc[j,38] > .0008 and\\\n",
    "    simanim.iloc[j,39] > .008 :\n",
    "        trend.append(1)\n",
    "    else :\n",
    "        trend.append(0)"
   ]
  },
  {
   "cell_type": "code",
   "execution_count": 373,
   "metadata": {},
   "outputs": [],
   "source": [
    "simanim.loc[6:,'trend'] = trend"
   ]
  },
  {
   "cell_type": "code",
   "execution_count": 374,
   "metadata": {},
   "outputs": [
    {
     "data": {
      "text/plain": [
       "1455.0"
      ]
     },
     "execution_count": 374,
     "metadata": {},
     "output_type": "execute_result"
    }
   ],
   "source": [
    "simanim['trend'].sum()"
   ]
  },
  {
   "cell_type": "code",
   "execution_count": null,
   "metadata": {},
   "outputs": [],
   "source": []
  },
  {
   "cell_type": "code",
   "execution_count": 375,
   "metadata": {},
   "outputs": [],
   "source": [
    "simanim.to_csv('simanim.csv')"
   ]
  },
  {
   "cell_type": "code",
   "execution_count": null,
   "metadata": {},
   "outputs": [],
   "source": []
  }
 ],
 "metadata": {
  "kernelspec": {
   "display_name": "Python 3",
   "language": "python",
   "name": "python3"
  },
  "language_info": {
   "codemirror_mode": {
    "name": "ipython",
    "version": 3
   },
   "file_extension": ".py",
   "mimetype": "text/x-python",
   "name": "python",
   "nbconvert_exporter": "python",
   "pygments_lexer": "ipython3",
   "version": "3.6.8"
  }
 },
 "nbformat": 4,
 "nbformat_minor": 2
}
