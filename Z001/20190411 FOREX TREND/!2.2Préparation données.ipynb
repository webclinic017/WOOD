{
 "cells": [
  {
   "cell_type": "code",
   "execution_count": 37,
   "metadata": {},
   "outputs": [],
   "source": [
    "___Author___='LumberJack Jyss'"
   ]
  },
  {
   "cell_type": "code",
   "execution_count": 38,
   "metadata": {},
   "outputs": [
    {
     "name": "stdout",
     "output_type": "stream",
     "text": [
      "LumberJack Trading AtidotCom PREPARATION\n",
      "LumberJack Jyss (c)\n"
     ]
    }
   ],
   "source": [
    "print('LumberJack Trading AtidotCom PREPARATION\\nLumberJack Jyss (c)')"
   ]
  },
  {
   "cell_type": "code",
   "execution_count": 39,
   "metadata": {},
   "outputs": [
    {
     "name": "stdout",
     "output_type": "stream",
     "text": [
      "Importation des librairies...\n",
      "Librairies importées\n"
     ]
    }
   ],
   "source": [
    "print('Importation des librairies...')\n",
    "import numpy as np\n",
    "import pandas as pd\n",
    "print('Librairies importées')"
   ]
  },
  {
   "cell_type": "code",
   "execution_count": 40,
   "metadata": {},
   "outputs": [],
   "source": [
    "# SCRAPING DES DONNES BRUTES\n",
    "audusd = pd.read_csv('AUDUSD.csv')\n",
    "audusd = audusd.set_index('Local time')\n",
    "eurusd = pd.read_csv('EURUSD.csv')\n",
    "eurusd = eurusd.set_index('Local time')\n",
    "gbpusd = pd.read_csv('GBPUSD.csv')\n",
    "gbpusd = gbpusd.set_index('Local time')\n",
    "nzdusd = pd.read_csv('NZDUSD.csv')\n",
    "nzdusd = nzdusd.set_index('Local time')\n",
    "usdcad = pd.read_csv('USDCAD.csv')\n",
    "usdcad = usdcad.set_index('Local time')\n",
    "usdchf = pd.read_csv('USDCHF.csv')\n",
    "usdchf = usdchf.set_index('Local time')\n",
    "usdjpy = pd.read_csv('USDJPY.csv')\n",
    "usdjpy = usdjpy.set_index('Local time')"
   ]
  },
  {
   "cell_type": "code",
   "execution_count": 41,
   "metadata": {},
   "outputs": [],
   "source": [
    "labasequoi = pd.DataFrame(index = audusd.index)\n",
    "labasequoi = pd.concat((audusd,usdjpy,gbpusd,nzdusd,usdcad,usdchf,eurusd),axis=1)"
   ]
  },
  {
   "cell_type": "code",
   "execution_count": 42,
   "metadata": {},
   "outputs": [],
   "source": [
    "balise = labasequoi.shape[0]#-52500"
   ]
  },
  {
   "cell_type": "code",
   "execution_count": 43,
   "metadata": {},
   "outputs": [],
   "source": [
    "simanim = labasequoi.iloc[balise:,:]"
   ]
  },
  {
   "cell_type": "code",
   "execution_count": 44,
   "metadata": {},
   "outputs": [],
   "source": [
    "simanim['return_1'] = ''"
   ]
  },
  {
   "cell_type": "code",
   "execution_count": 45,
   "metadata": {},
   "outputs": [
    {
     "ename": "IndexError",
     "evalue": "single positional indexer is out-of-bounds",
     "output_type": "error",
     "traceback": [
      "\u001b[0;31m---------------------------------------------------------------------------\u001b[0m",
      "\u001b[0;31mIndexError\u001b[0m                                Traceback (most recent call last)",
      "\u001b[0;32m<ipython-input-45-a23e5e42a9f0>\u001b[0m in \u001b[0;36m<module>\u001b[0;34m\u001b[0m\n\u001b[0;32m----> 1\u001b[0;31m \u001b[0msimanim\u001b[0m\u001b[0;34m.\u001b[0m\u001b[0miloc\u001b[0m\u001b[0;34m[\u001b[0m\u001b[0;36m0\u001b[0m\u001b[0;34m,\u001b[0m\u001b[0;36m30\u001b[0m\u001b[0;34m:\u001b[0m\u001b[0;34m]\u001b[0m\u001b[0;34m\u001b[0m\u001b[0;34m\u001b[0m\u001b[0m\n\u001b[0m",
      "\u001b[0;32m~/Applications/anaconda3/envs/LumberJack/lib/python3.6/site-packages/pandas/core/indexing.py\u001b[0m in \u001b[0;36m__getitem__\u001b[0;34m(self, key)\u001b[0m\n\u001b[1;32m   1492\u001b[0m             \u001b[0;32mexcept\u001b[0m \u001b[0;34m(\u001b[0m\u001b[0mKeyError\u001b[0m\u001b[0;34m,\u001b[0m \u001b[0mIndexError\u001b[0m\u001b[0;34m,\u001b[0m \u001b[0mAttributeError\u001b[0m\u001b[0;34m)\u001b[0m\u001b[0;34m:\u001b[0m\u001b[0;34m\u001b[0m\u001b[0;34m\u001b[0m\u001b[0m\n\u001b[1;32m   1493\u001b[0m                 \u001b[0;32mpass\u001b[0m\u001b[0;34m\u001b[0m\u001b[0;34m\u001b[0m\u001b[0m\n\u001b[0;32m-> 1494\u001b[0;31m             \u001b[0;32mreturn\u001b[0m \u001b[0mself\u001b[0m\u001b[0;34m.\u001b[0m\u001b[0m_getitem_tuple\u001b[0m\u001b[0;34m(\u001b[0m\u001b[0mkey\u001b[0m\u001b[0;34m)\u001b[0m\u001b[0;34m\u001b[0m\u001b[0;34m\u001b[0m\u001b[0m\n\u001b[0m\u001b[1;32m   1495\u001b[0m         \u001b[0;32melse\u001b[0m\u001b[0;34m:\u001b[0m\u001b[0;34m\u001b[0m\u001b[0;34m\u001b[0m\u001b[0m\n\u001b[1;32m   1496\u001b[0m             \u001b[0;31m# we by definition only have the 0th axis\u001b[0m\u001b[0;34m\u001b[0m\u001b[0;34m\u001b[0m\u001b[0;34m\u001b[0m\u001b[0m\n",
      "\u001b[0;32m~/Applications/anaconda3/envs/LumberJack/lib/python3.6/site-packages/pandas/core/indexing.py\u001b[0m in \u001b[0;36m_getitem_tuple\u001b[0;34m(self, tup)\u001b[0m\n\u001b[1;32m   2141\u001b[0m     \u001b[0;32mdef\u001b[0m \u001b[0m_getitem_tuple\u001b[0m\u001b[0;34m(\u001b[0m\u001b[0mself\u001b[0m\u001b[0;34m,\u001b[0m \u001b[0mtup\u001b[0m\u001b[0;34m)\u001b[0m\u001b[0;34m:\u001b[0m\u001b[0;34m\u001b[0m\u001b[0;34m\u001b[0m\u001b[0m\n\u001b[1;32m   2142\u001b[0m \u001b[0;34m\u001b[0m\u001b[0m\n\u001b[0;32m-> 2143\u001b[0;31m         \u001b[0mself\u001b[0m\u001b[0;34m.\u001b[0m\u001b[0m_has_valid_tuple\u001b[0m\u001b[0;34m(\u001b[0m\u001b[0mtup\u001b[0m\u001b[0;34m)\u001b[0m\u001b[0;34m\u001b[0m\u001b[0;34m\u001b[0m\u001b[0m\n\u001b[0m\u001b[1;32m   2144\u001b[0m         \u001b[0;32mtry\u001b[0m\u001b[0;34m:\u001b[0m\u001b[0;34m\u001b[0m\u001b[0;34m\u001b[0m\u001b[0m\n\u001b[1;32m   2145\u001b[0m             \u001b[0;32mreturn\u001b[0m \u001b[0mself\u001b[0m\u001b[0;34m.\u001b[0m\u001b[0m_getitem_lowerdim\u001b[0m\u001b[0;34m(\u001b[0m\u001b[0mtup\u001b[0m\u001b[0;34m)\u001b[0m\u001b[0;34m\u001b[0m\u001b[0;34m\u001b[0m\u001b[0m\n",
      "\u001b[0;32m~/Applications/anaconda3/envs/LumberJack/lib/python3.6/site-packages/pandas/core/indexing.py\u001b[0m in \u001b[0;36m_has_valid_tuple\u001b[0;34m(self, key)\u001b[0m\n\u001b[1;32m    221\u001b[0m                 \u001b[0;32mraise\u001b[0m \u001b[0mIndexingError\u001b[0m\u001b[0;34m(\u001b[0m\u001b[0;34m'Too many indexers'\u001b[0m\u001b[0;34m)\u001b[0m\u001b[0;34m\u001b[0m\u001b[0;34m\u001b[0m\u001b[0m\n\u001b[1;32m    222\u001b[0m             \u001b[0;32mtry\u001b[0m\u001b[0;34m:\u001b[0m\u001b[0;34m\u001b[0m\u001b[0;34m\u001b[0m\u001b[0m\n\u001b[0;32m--> 223\u001b[0;31m                 \u001b[0mself\u001b[0m\u001b[0;34m.\u001b[0m\u001b[0m_validate_key\u001b[0m\u001b[0;34m(\u001b[0m\u001b[0mk\u001b[0m\u001b[0;34m,\u001b[0m \u001b[0mi\u001b[0m\u001b[0;34m)\u001b[0m\u001b[0;34m\u001b[0m\u001b[0;34m\u001b[0m\u001b[0m\n\u001b[0m\u001b[1;32m    224\u001b[0m             \u001b[0;32mexcept\u001b[0m \u001b[0mValueError\u001b[0m\u001b[0;34m:\u001b[0m\u001b[0;34m\u001b[0m\u001b[0;34m\u001b[0m\u001b[0m\n\u001b[1;32m    225\u001b[0m                 raise ValueError(\"Location based indexing can only have \"\n",
      "\u001b[0;32m~/Applications/anaconda3/envs/LumberJack/lib/python3.6/site-packages/pandas/core/indexing.py\u001b[0m in \u001b[0;36m_validate_key\u001b[0;34m(self, key, axis)\u001b[0m\n\u001b[1;32m   2068\u001b[0m             \u001b[0;32mreturn\u001b[0m\u001b[0;34m\u001b[0m\u001b[0;34m\u001b[0m\u001b[0m\n\u001b[1;32m   2069\u001b[0m         \u001b[0;32melif\u001b[0m \u001b[0mis_integer\u001b[0m\u001b[0;34m(\u001b[0m\u001b[0mkey\u001b[0m\u001b[0;34m)\u001b[0m\u001b[0;34m:\u001b[0m\u001b[0;34m\u001b[0m\u001b[0;34m\u001b[0m\u001b[0m\n\u001b[0;32m-> 2070\u001b[0;31m             \u001b[0mself\u001b[0m\u001b[0;34m.\u001b[0m\u001b[0m_validate_integer\u001b[0m\u001b[0;34m(\u001b[0m\u001b[0mkey\u001b[0m\u001b[0;34m,\u001b[0m \u001b[0maxis\u001b[0m\u001b[0;34m)\u001b[0m\u001b[0;34m\u001b[0m\u001b[0;34m\u001b[0m\u001b[0m\n\u001b[0m\u001b[1;32m   2071\u001b[0m         \u001b[0;32melif\u001b[0m \u001b[0misinstance\u001b[0m\u001b[0;34m(\u001b[0m\u001b[0mkey\u001b[0m\u001b[0;34m,\u001b[0m \u001b[0mtuple\u001b[0m\u001b[0;34m)\u001b[0m\u001b[0;34m:\u001b[0m\u001b[0;34m\u001b[0m\u001b[0;34m\u001b[0m\u001b[0m\n\u001b[1;32m   2072\u001b[0m             \u001b[0;31m# a tuple should already have been caught by this point\u001b[0m\u001b[0;34m\u001b[0m\u001b[0;34m\u001b[0m\u001b[0;34m\u001b[0m\u001b[0m\n",
      "\u001b[0;32m~/Applications/anaconda3/envs/LumberJack/lib/python3.6/site-packages/pandas/core/indexing.py\u001b[0m in \u001b[0;36m_validate_integer\u001b[0;34m(self, key, axis)\u001b[0m\n\u001b[1;32m   2137\u001b[0m         \u001b[0mlen_axis\u001b[0m \u001b[0;34m=\u001b[0m \u001b[0mlen\u001b[0m\u001b[0;34m(\u001b[0m\u001b[0mself\u001b[0m\u001b[0;34m.\u001b[0m\u001b[0mobj\u001b[0m\u001b[0;34m.\u001b[0m\u001b[0m_get_axis\u001b[0m\u001b[0;34m(\u001b[0m\u001b[0maxis\u001b[0m\u001b[0;34m)\u001b[0m\u001b[0;34m)\u001b[0m\u001b[0;34m\u001b[0m\u001b[0;34m\u001b[0m\u001b[0m\n\u001b[1;32m   2138\u001b[0m         \u001b[0;32mif\u001b[0m \u001b[0mkey\u001b[0m \u001b[0;34m>=\u001b[0m \u001b[0mlen_axis\u001b[0m \u001b[0;32mor\u001b[0m \u001b[0mkey\u001b[0m \u001b[0;34m<\u001b[0m \u001b[0;34m-\u001b[0m\u001b[0mlen_axis\u001b[0m\u001b[0;34m:\u001b[0m\u001b[0;34m\u001b[0m\u001b[0;34m\u001b[0m\u001b[0m\n\u001b[0;32m-> 2139\u001b[0;31m             \u001b[0;32mraise\u001b[0m \u001b[0mIndexError\u001b[0m\u001b[0;34m(\u001b[0m\u001b[0;34m\"single positional indexer is out-of-bounds\"\u001b[0m\u001b[0;34m)\u001b[0m\u001b[0;34m\u001b[0m\u001b[0;34m\u001b[0m\u001b[0m\n\u001b[0m\u001b[1;32m   2140\u001b[0m \u001b[0;34m\u001b[0m\u001b[0m\n\u001b[1;32m   2141\u001b[0m     \u001b[0;32mdef\u001b[0m \u001b[0m_getitem_tuple\u001b[0m\u001b[0;34m(\u001b[0m\u001b[0mself\u001b[0m\u001b[0;34m,\u001b[0m \u001b[0mtup\u001b[0m\u001b[0;34m)\u001b[0m\u001b[0;34m:\u001b[0m\u001b[0;34m\u001b[0m\u001b[0;34m\u001b[0m\u001b[0m\n",
      "\u001b[0;31mIndexError\u001b[0m: single positional indexer is out-of-bounds"
     ]
    }
   ],
   "source": [
    "simanim.iloc[0,30:]"
   ]
  },
  {
   "cell_type": "code",
   "execution_count": 46,
   "metadata": {},
   "outputs": [],
   "source": [
    "# On va établir sur je jpy nos return.\n",
    "# Return du jour J = (Close de la veille - Close du jour)/Close ddu jour\n",
    " \n",
    "pnl_1 = []\n",
    "for i in range(6,simanim.shape[0]):\n",
    "    jour_0 = simanim.iloc[i,33]\n",
    "    jour_1 = simanim.iloc[i-1,33]\n",
    "    pnl_1.append((jour_1-jour_0))\n",
    "\n",
    "trend = [] \n",
    "enter_pos = []\n",
    "simanim.loc[6:,'return_1'] = pnl_1"
   ]
  },
  {
   "cell_type": "code",
   "execution_count": 47,
   "metadata": {},
   "outputs": [
    {
     "data": {
      "text/plain": [
       "[]"
      ]
     },
     "execution_count": 47,
     "metadata": {},
     "output_type": "execute_result"
    }
   ],
   "source": [
    "bingo_1 = 0\n",
    "bingo_2 = 1\n",
    "mega_bingo = 0\n",
    "trend = []\n",
    "\n",
    "    \n",
    "for i in range(0,simanim.shape[0]-59,60):\n",
    "    close_time_1 = simanim.iloc[i,33]\n",
    "    close_time_2 = simanim.iloc[i+59,33]\n",
    "    \n",
    "    if close_time_2 - close_time_1 > 0.003:\n",
    "        bingo_1 = 1\n",
    "        for t in range(i, i+59):\n",
    "            if simanim.iloc[t,33] - simanim.iloc[t+1,33] < -0.0015:\n",
    "                bingo_2 = 0\n",
    "            if bingo_1 == 1 and bingo_2 == 1 :\n",
    "                trend.append(simanim.index[t])\n",
    "                bingo_1 = 0\n",
    "                bingo_2 = 1\n",
    "trend"
   ]
  },
  {
   "cell_type": "code",
   "execution_count": 268,
   "metadata": {},
   "outputs": [],
   "source": [
    "simanim = simanim.dropna()"
   ]
  },
  {
   "cell_type": "code",
   "execution_count": 18,
   "metadata": {},
   "outputs": [
    {
     "data": {
      "text/plain": [
       "(1.1275999999999999, '2019-02-14 12:12:00')"
      ]
     },
     "execution_count": 18,
     "metadata": {},
     "output_type": "execute_result"
    }
   ],
   "source": [
    "simanim.iloc[12,33], simanim.index[12]"
   ]
  },
  {
   "cell_type": "code",
   "execution_count": 270,
   "metadata": {},
   "outputs": [
    {
     "data": {
      "text/plain": [
       "(49994, 40)"
      ]
     },
     "execution_count": 270,
     "metadata": {},
     "output_type": "execute_result"
    }
   ],
   "source": [
    "\n"
   ]
  },
  {
   "cell_type": "code",
   "execution_count": 271,
   "metadata": {},
   "outputs": [
    {
     "data": {
      "text/plain": [
       "'2019-02-18 06:06:00'"
      ]
     },
     "execution_count": 271,
     "metadata": {},
     "output_type": "execute_result"
    }
   ],
   "source": []
  },
  {
   "cell_type": "code",
   "execution_count": 283,
   "metadata": {},
   "outputs": [],
   "source": [
    "\n",
    "\n",
    "           "
   ]
  },
  {
   "cell_type": "code",
   "execution_count": null,
   "metadata": {},
   "outputs": [],
   "source": []
  },
  {
   "cell_type": "code",
   "execution_count": null,
   "metadata": {},
   "outputs": [],
   "source": []
  },
  {
   "cell_type": "code",
   "execution_count": null,
   "metadata": {},
   "outputs": [],
   "source": []
  },
  {
   "cell_type": "code",
   "execution_count": 212,
   "metadata": {},
   "outputs": [],
   "source": [
    "simanim.to_csv('simanim.csv')"
   ]
  },
  {
   "cell_type": "code",
   "execution_count": null,
   "metadata": {},
   "outputs": [],
   "source": []
  },
  {
   "cell_type": "code",
   "execution_count": null,
   "metadata": {},
   "outputs": [],
   "source": []
  },
  {
   "cell_type": "markdown",
   "metadata": {},
   "source": [
    "backtest = simanim\n",
    "equity = 100000\n",
    "pos = 0\n",
    "nb_transactions = 0\n",
    "backtest_graph = pd.DataFrame()\n",
    "col_equity = [100000]\n",
    "col_open_pos = [0]\n",
    "col_close_pos = [0]\n",
    "col_is_win = [0]\n",
    "col_profit = [0]\n",
    "col_cours = [0]\n",
    "max_gross = (0,0)\n",
    "max_loss = (0,0)\n",
    "\n",
    "for i in range (backtest.shape[0]-6):\n",
    "    \n",
    "    jour_0 = backtest.iloc[i,0]\n",
    "    jour_1 = backtest.iloc[i+1,0]\n",
    "    jour_2 = backtest.iloc[i+2,0]\n",
    "    jour_3 = backtest.iloc[i+3,0]\n",
    "    jour_4 = backtest.iloc[i+4,0]\n",
    "    jour_5 = backtest.iloc[i+5,0]\n",
    "    trend = backtest.iloc[i,1]\n",
    "    \n",
    "    pip_1 = (jour_1-jour_0)\n",
    "    pip_2 = (jour_2-jour_0)\n",
    "    pip_3 = (jour_3-jour_0)\n",
    "    pip_4 = (jour_4-jour_0)\n",
    "    pip_5 = (jour_5-jour_0)\n",
    "    \n",
    "    \n",
    "pos ==0   \n",
    "for i in range (backtest.shape[0]-6):\n",
    "    nb_transactions+=1\n",
    "    price_buy = jour_0\n",
    "    pos = 1\n",
    "    col_open_pos.append(1)\n",
    "    equity = equity - 1.5 \n",
    "    #col_cours.append(price_buy)\n",
    "    #print('\\033[94m \\n',backtest.index[i])\n",
    "    #print(\"\\033[94m Ouverture de position de $100,000\")\n",
    "    #print(\"\\033[94m Prix d'achat =$\",price_buy)\n",
    "            \n",
    "            \n",
    "    if pip_1 > 0.001 and pos == 1 or pip_1 < -0.001 : \n",
    "        price_sell  = jour_1\n",
    "        pos = 0\n",
    "        nb_transactions+=1\n",
    "        equity = equity - 1.5 + (price_sell-price_buy)*100000\n",
    "        if (price_sell-price_buy)*100000 > max_gross[1]:\n",
    "            max_gross = (nb_transactions-len(col_close_pos),(price_sell-price_buy)*100000)\n",
    "        elif (price_sell-price_buy)*100000 < max_loss[1]:\n",
    "            max_loss = (nb_transactions-len(col_close_pos),(price_sell-price_buy)*100000)\n",
    "        col_close_pos.append(1)\n",
    "        col_equity.append(equity)\n",
    "        col_cours.append(price_sell)\n",
    "        if pip_1 > 0:\n",
    "            col_is_win.append(1)\n",
    "            col_profit.append((price_sell-price_buy)*100000)\n",
    "        else :\n",
    "            col_profit.append((price_sell-price_buy)*100000)\n",
    "            col_is_win.append(0)\n",
    "        #print('\\n\\033[92m \\n',backtest.index[i+1])\n",
    "        #print(\"\\033[92m Cloture de position\")\n",
    "        #print(\"\\033[92m Prix de cloture = $\",price_sell)\n",
    "        #print('pnl en 1 minute : ',(price_sell-price_buy)*100000)\n",
    "    elif pip_2 > 0.001 and pos == 1 or pip_2 < -0.001 : \n",
    "        price_sell  = jour_2\n",
    "        pos = 0\n",
    "        nb_transactions+=1\n",
    "        equity = equity - 1.5 + (price_sell-price_buy)*100000\n",
    "        if (price_sell-price_buy)*100000 > max_gross[1]:\n",
    "            max_gross = (nb_transactions-len(col_close_pos),(price_sell-price_buy)*100000)\n",
    "        elif (price_sell-price_buy)*100000 < max_loss[1]:\n",
    "            max_loss = (nb_transactions-len(col_close_pos),(price_sell-price_buy)*100000)\n",
    "        col_close_pos.append(1)\n",
    "        col_equity.append(equity)\n",
    "        col_cours.append(price_sell)\n",
    "        if pip_2 > 0:\n",
    "            col_is_win.append(1)\n",
    "            col_profit.append((price_sell-price_buy)*100000)\n",
    "        else :\n",
    "            col_profit.append((price_sell-price_buy)*100000)\n",
    "            col_is_win.append(0)\n",
    "        #print('\\033[92m',backtest.index[i+2])\n",
    "        #print(\"\\033[92m Vente\")\n",
    "        #print(\"\\033[92m Prix de cloture = $\",price_sell)\n",
    "        #print('pnl en 2 minutes ',(price_sell-price_buy)*100000)\n",
    "    elif pip_3 > 0.001 and pos == 1 or pip_3 < -0.001 : \n",
    "        price_sell  = jour_3\n",
    "        pos = 0\n",
    "        nb_transactions+=1\n",
    "        equity = equity - 1.5 + (price_sell-price_buy)*100000\n",
    "        if (price_sell-price_buy)*100000 > max_gross[1]:\n",
    "            max_gross = (nb_transactions-len(col_close_pos),(price_sell-price_buy)*100000)\n",
    "        elif (price_sell-price_buy)*100000 < max_loss[1]:\n",
    "            max_loss = (nb_transactions-len(col_close_pos),(price_sell-price_buy)*100000)\n",
    "        col_close_pos.append(1)\n",
    "        col_equity.append(equity)\n",
    "        col_cours.append(price_sell)\n",
    "        if pip_3 > 0:\n",
    "            col_is_win.append(1)\n",
    "            col_profit.append((price_sell-price_buy)*100000)\n",
    "        else :\n",
    "            col_profit.append((price_sell-price_buy)*100000)\n",
    "            col_is_win.append(0)\n",
    "        #print('\\033[92m',backtest.index[i+3])\n",
    "        #print(\"\\033[92m Vente\")\n",
    "        #print(\"\\033[92m Prix de cloture = $\",price_sell)\n",
    "        #print('pnl en 3 minutes ',(price_sell-price_buy)*100000)\n",
    "    elif pip_4 > 0.001 and pos == 1 or pip_4 < -0.001 : \n",
    "        price_sell  = jour_4\n",
    "        pos = 0\n",
    "        nb_transactions+=1\n",
    "        equity = equity - 1.5 + (price_sell-price_buy)*100000\n",
    "        if (price_sell-price_buy)*100000 > max_gross[1]:\n",
    "            max_gross = (nb_transactions-len(col_close_pos),(price_sell-price_buy)*100000)\n",
    "        elif (price_sell-price_buy)*100000 < max_loss[1]:\n",
    "            max_loss = (nb_transactions-len(col_close_pos),(price_sell-price_buy)*100000)\n",
    "        col_close_pos.append(1)\n",
    "        col_equity.append(equity)\n",
    "        col_cours.append(price_sell)\n",
    "        if pip_4 > 0:\n",
    "            col_is_win.append(1)\n",
    "            col_profit.append((price_sell-price_buy)*100000)\n",
    "        else :\n",
    "            col_profit.append((price_sell-price_buy)*100000)\n",
    "            col_is_win.append(0)\n",
    "        #print('\\033[92m',backtest.index[i+4])\n",
    "        #print(\"\\033[92m Vente\")\n",
    "        #print(\"\\033[92m Prix de cloture = $\",price_sell)\n",
    "        #print('pnl en 4 minutes ',(price_sell-price_buy)*100000)\n",
    "    else : \n",
    "        price_sell  = jour_5\n",
    "        pos = 0\n",
    "        nb_transactions+=1\n",
    "        equity = equity - 1.5 + (price_sell-price_buy)*100000\n",
    "        if (price_sell-price_buy)*100000 > max_gross[1]:\n",
    "            max_gross = (nb_transactions-len(col_close_pos),(price_sell-price_buy)*100000)\n",
    "        elif (price_sell-price_buy)*100000 < max_loss[1]:\n",
    "            max_loss = (nb_transactions-len(col_close_pos),(price_sell-price_buy)*100000)\n",
    "        col_close_pos.append(1)\n",
    "        col_equity.append(equity)\n",
    "        col_cours.append(price_sell)\n",
    "        if pip_5 > 0:\n",
    "            col_is_win.append(1)\n",
    "            col_profit.append((price_sell-price_buy)*100000)\n",
    "        else :\n",
    "            col_profit.append((price_sell-price_buy)*100000)\n",
    "            col_is_win.append(0)\n",
    "        "
   ]
  }
 ],
 "metadata": {
  "kernelspec": {
   "display_name": "Python 3",
   "language": "python",
   "name": "python3"
  },
  "language_info": {
   "codemirror_mode": {
    "name": "ipython",
    "version": 3
   },
   "file_extension": ".py",
   "mimetype": "text/x-python",
   "name": "python",
   "nbconvert_exporter": "python",
   "pygments_lexer": "ipython3",
   "version": "3.6.8"
  }
 },
 "nbformat": 4,
 "nbformat_minor": 2
}
