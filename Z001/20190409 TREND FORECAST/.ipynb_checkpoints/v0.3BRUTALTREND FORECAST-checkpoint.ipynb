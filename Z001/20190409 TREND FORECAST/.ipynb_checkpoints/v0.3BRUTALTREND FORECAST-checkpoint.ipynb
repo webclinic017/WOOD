{
 "cells": [
  {
   "cell_type": "code",
   "execution_count": 180,
   "metadata": {},
   "outputs": [],
   "source": [
    "___Author___='LumberJack Jyss'"
   ]
  },
  {
   "cell_type": "code",
   "execution_count": 181,
   "metadata": {},
   "outputs": [
    {
     "name": "stdout",
     "output_type": "stream",
     "text": [
      "LumberJack Trading AtidotCom TREND FORECAST\n",
      "LumberJack Jyss (c)\n"
     ]
    }
   ],
   "source": [
    "print('LumberJack Trading AtidotCom TREND FORECAST\\nLumberJack Jyss (c)')"
   ]
  },
  {
   "cell_type": "code",
   "execution_count": 182,
   "metadata": {},
   "outputs": [
    {
     "name": "stdout",
     "output_type": "stream",
     "text": [
      "Importation des librairies...\n",
      "Librairies importées\n"
     ]
    }
   ],
   "source": [
    "print('Importation des librairies...')\n",
    "import yahoofinancials\n",
    "from yahoofinancials import YahooFinancials\n",
    "import talib\n",
    "import time\n",
    "import numpy as np\n",
    "import pandas as pd\n",
    "from pandas.plotting import register_matplotlib_converters\n",
    "import pandas_datareader as web\n",
    "import matplotlib.pyplot as plt\n",
    "from sklearn.linear_model import LogisticRegression\n",
    "from sklearn.metrics import roc_auc_score\n",
    "from sklearn.metrics import roc_curve\n",
    "from sklearn import model_selection\n",
    "from sklearn.model_selection import cross_val_score\n",
    "from sklearn.model_selection import train_test_split\n",
    "import seaborn as sns\n",
    "print('Librairies importées')"
   ]
  },
  {
   "cell_type": "code",
   "execution_count": 183,
   "metadata": {},
   "outputs": [
    {
     "name": "stdout",
     "output_type": "stream",
     "text": [
      "Période d'étude :  2960\n",
      "Sur un découpage 80% - 20% de la période : \n",
      "Bloc 1 :  2368  jours \n",
      "Bloc 2 : 592  jours\n"
     ]
    }
   ],
   "source": [
    "# PARAMETRES TEMPORELS INITIAUX\n",
    "start = pd.to_datetime('2011-03-03')\n",
    "end = pd.to_datetime('2019-04-10')\n",
    "delta = round((end-start).days)\n",
    "bloc1 = round(delta*0.8)\n",
    "bloc2 = delta - bloc1\n",
    "print(\"Période d'étude : \",delta)\n",
    "print('Sur un découpage 80% - 20% de la période : ')\n",
    "print('Bloc 1 : ',bloc1,' jours \\nBloc 2 :',bloc2,' jours')"
   ]
  },
  {
   "cell_type": "code",
   "execution_count": 184,
   "metadata": {},
   "outputs": [],
   "source": [
    "# SCRAPING DES DONNES BRUTES\n",
    "spy = web.DataReader('SPY','yahoo',start,end)"
   ]
  },
  {
   "cell_type": "code",
   "execution_count": 185,
   "metadata": {},
   "outputs": [
    {
     "data": {
      "text/plain": [
       "(2040, 6)"
      ]
     },
     "execution_count": 185,
     "metadata": {},
     "output_type": "execute_result"
    }
   ],
   "source": [
    "spy.shape"
   ]
  },
  {
   "cell_type": "code",
   "execution_count": 186,
   "metadata": {},
   "outputs": [
    {
     "data": {
      "text/html": [
       "<div>\n",
       "<style scoped>\n",
       "    .dataframe tbody tr th:only-of-type {\n",
       "        vertical-align: middle;\n",
       "    }\n",
       "\n",
       "    .dataframe tbody tr th {\n",
       "        vertical-align: top;\n",
       "    }\n",
       "\n",
       "    .dataframe thead th {\n",
       "        text-align: right;\n",
       "    }\n",
       "</style>\n",
       "<table border=\"1\" class=\"dataframe\">\n",
       "  <thead>\n",
       "    <tr style=\"text-align: right;\">\n",
       "      <th></th>\n",
       "      <th>High</th>\n",
       "      <th>Low</th>\n",
       "      <th>Open</th>\n",
       "      <th>Close</th>\n",
       "      <th>Volume</th>\n",
       "      <th>Adj Close</th>\n",
       "    </tr>\n",
       "    <tr>\n",
       "      <th>Date</th>\n",
       "      <th></th>\n",
       "      <th></th>\n",
       "      <th></th>\n",
       "      <th></th>\n",
       "      <th></th>\n",
       "      <th></th>\n",
       "    </tr>\n",
       "  </thead>\n",
       "  <tbody>\n",
       "    <tr>\n",
       "      <th>2011-03-03</th>\n",
       "      <td>133.619995</td>\n",
       "      <td>132.389999</td>\n",
       "      <td>132.399994</td>\n",
       "      <td>133.470001</td>\n",
       "      <td>176480100.0</td>\n",
       "      <td>113.035248</td>\n",
       "    </tr>\n",
       "    <tr>\n",
       "      <th>2011-03-04</th>\n",
       "      <td>133.630005</td>\n",
       "      <td>131.600006</td>\n",
       "      <td>133.369995</td>\n",
       "      <td>132.470001</td>\n",
       "      <td>277202300.0</td>\n",
       "      <td>112.188354</td>\n",
       "    </tr>\n",
       "    <tr>\n",
       "      <th>2011-03-07</th>\n",
       "      <td>133.160004</td>\n",
       "      <td>130.740005</td>\n",
       "      <td>132.860001</td>\n",
       "      <td>131.429993</td>\n",
       "      <td>216790400.0</td>\n",
       "      <td>111.307579</td>\n",
       "    </tr>\n",
       "    <tr>\n",
       "      <th>2011-03-08</th>\n",
       "      <td>133.000000</td>\n",
       "      <td>131.070007</td>\n",
       "      <td>131.639999</td>\n",
       "      <td>132.580002</td>\n",
       "      <td>174615000.0</td>\n",
       "      <td>112.281494</td>\n",
       "    </tr>\n",
       "    <tr>\n",
       "      <th>2011-03-09</th>\n",
       "      <td>132.800003</td>\n",
       "      <td>131.600006</td>\n",
       "      <td>132.320007</td>\n",
       "      <td>132.389999</td>\n",
       "      <td>153806000.0</td>\n",
       "      <td>112.120583</td>\n",
       "    </tr>\n",
       "  </tbody>\n",
       "</table>\n",
       "</div>"
      ],
      "text/plain": [
       "                  High         Low        Open       Close       Volume  \\\n",
       "Date                                                                      \n",
       "2011-03-03  133.619995  132.389999  132.399994  133.470001  176480100.0   \n",
       "2011-03-04  133.630005  131.600006  133.369995  132.470001  277202300.0   \n",
       "2011-03-07  133.160004  130.740005  132.860001  131.429993  216790400.0   \n",
       "2011-03-08  133.000000  131.070007  131.639999  132.580002  174615000.0   \n",
       "2011-03-09  132.800003  131.600006  132.320007  132.389999  153806000.0   \n",
       "\n",
       "             Adj Close  \n",
       "Date                    \n",
       "2011-03-03  113.035248  \n",
       "2011-03-04  112.188354  \n",
       "2011-03-07  111.307579  \n",
       "2011-03-08  112.281494  \n",
       "2011-03-09  112.120583  "
      ]
     },
     "execution_count": 186,
     "metadata": {},
     "output_type": "execute_result"
    }
   ],
   "source": [
    "spy.head()"
   ]
  },
  {
   "cell_type": "code",
   "execution_count": 187,
   "metadata": {},
   "outputs": [
    {
     "data": {
      "text/html": [
       "<div>\n",
       "<style scoped>\n",
       "    .dataframe tbody tr th:only-of-type {\n",
       "        vertical-align: middle;\n",
       "    }\n",
       "\n",
       "    .dataframe tbody tr th {\n",
       "        vertical-align: top;\n",
       "    }\n",
       "\n",
       "    .dataframe thead th {\n",
       "        text-align: right;\n",
       "    }\n",
       "</style>\n",
       "<table border=\"1\" class=\"dataframe\">\n",
       "  <thead>\n",
       "    <tr style=\"text-align: right;\">\n",
       "      <th></th>\n",
       "      <th>High</th>\n",
       "      <th>Low</th>\n",
       "      <th>Open</th>\n",
       "      <th>Close</th>\n",
       "      <th>Volume</th>\n",
       "      <th>Adj Close</th>\n",
       "    </tr>\n",
       "    <tr>\n",
       "      <th>Date</th>\n",
       "      <th></th>\n",
       "      <th></th>\n",
       "      <th></th>\n",
       "      <th></th>\n",
       "      <th></th>\n",
       "      <th></th>\n",
       "    </tr>\n",
       "  </thead>\n",
       "  <tbody>\n",
       "    <tr>\n",
       "      <th>2019-04-04</th>\n",
       "      <td>287.459991</td>\n",
       "      <td>286.010010</td>\n",
       "      <td>286.779999</td>\n",
       "      <td>287.179993</td>\n",
       "      <td>48997500.0</td>\n",
       "      <td>287.179993</td>\n",
       "    </tr>\n",
       "    <tr>\n",
       "      <th>2019-04-05</th>\n",
       "      <td>288.630005</td>\n",
       "      <td>287.600006</td>\n",
       "      <td>287.920013</td>\n",
       "      <td>288.570007</td>\n",
       "      <td>58621700.0</td>\n",
       "      <td>288.570007</td>\n",
       "    </tr>\n",
       "    <tr>\n",
       "      <th>2019-04-08</th>\n",
       "      <td>288.910004</td>\n",
       "      <td>287.369995</td>\n",
       "      <td>288.100006</td>\n",
       "      <td>288.790009</td>\n",
       "      <td>53566300.0</td>\n",
       "      <td>288.790009</td>\n",
       "    </tr>\n",
       "    <tr>\n",
       "      <th>2019-04-09</th>\n",
       "      <td>288.079987</td>\n",
       "      <td>286.700012</td>\n",
       "      <td>287.720001</td>\n",
       "      <td>287.309998</td>\n",
       "      <td>66107100.0</td>\n",
       "      <td>287.309998</td>\n",
       "    </tr>\n",
       "    <tr>\n",
       "      <th>2019-04-10</th>\n",
       "      <td>287.980011</td>\n",
       "      <td>287.320007</td>\n",
       "      <td>287.769989</td>\n",
       "      <td>287.779999</td>\n",
       "      <td>22006149.0</td>\n",
       "      <td>287.779999</td>\n",
       "    </tr>\n",
       "  </tbody>\n",
       "</table>\n",
       "</div>"
      ],
      "text/plain": [
       "                  High         Low        Open       Close      Volume  \\\n",
       "Date                                                                     \n",
       "2019-04-04  287.459991  286.010010  286.779999  287.179993  48997500.0   \n",
       "2019-04-05  288.630005  287.600006  287.920013  288.570007  58621700.0   \n",
       "2019-04-08  288.910004  287.369995  288.100006  288.790009  53566300.0   \n",
       "2019-04-09  288.079987  286.700012  287.720001  287.309998  66107100.0   \n",
       "2019-04-10  287.980011  287.320007  287.769989  287.779999  22006149.0   \n",
       "\n",
       "             Adj Close  \n",
       "Date                    \n",
       "2019-04-04  287.179993  \n",
       "2019-04-05  288.570007  \n",
       "2019-04-08  288.790009  \n",
       "2019-04-09  287.309998  \n",
       "2019-04-10  287.779999  "
      ]
     },
     "execution_count": 187,
     "metadata": {},
     "output_type": "execute_result"
    }
   ],
   "source": [
    "spy.tail()"
   ]
  },
  {
   "cell_type": "code",
   "execution_count": 188,
   "metadata": {},
   "outputs": [
    {
     "data": {
      "text/plain": [
       "0"
      ]
     },
     "execution_count": 188,
     "metadata": {},
     "output_type": "execute_result"
    }
   ],
   "source": [
    "# NOMBRE DE NaN\n",
    "spy.isnull().sum().sum()"
   ]
  },
  {
   "cell_type": "code",
   "execution_count": 189,
   "metadata": {},
   "outputs": [
    {
     "data": {
      "text/plain": [
       "(2040, 6)"
      ]
     },
     "execution_count": 189,
     "metadata": {},
     "output_type": "execute_result"
    }
   ],
   "source": [
    "spy.shape"
   ]
  },
  {
   "cell_type": "code",
   "execution_count": 190,
   "metadata": {},
   "outputs": [],
   "source": [
    "# DEFINITION DU DATAFRAME DES SIMANIM\n",
    "simanim = pd.DataFrame(index=spy.index)"
   ]
  },
  {
   "cell_type": "code",
   "execution_count": 191,
   "metadata": {},
   "outputs": [],
   "source": [
    "# DEFINITIONS DES SIMANIM\n",
    "\n",
    "# ema8 = talib.EMA(spy['Close'], timeperiod=8) # => Coorelation\n",
    "# simanim['ema8'] = ema8\n",
    "\n",
    "# ema34 = talib.EMA(spy['Close'], timeperiod=34) # => Coorelation\n",
    "# simanim['ema34'] = ema34\n",
    "\n",
    "#atr8 = talib.EMA(spy['Close'], timeperiod=8) # => Coorelation\n",
    "#simanim['atr8'] = atr8\n",
    "\n",
    "rsi = talib.RSI(spy['Close'], timeperiod=21)\n",
    "simanim['rsi'] = rsi\n",
    "\n",
    "macd, macdsignal, macdhist = talib.MACD(spy['Close'], fastperiod=12, slowperiod=26, signalperiod=9)\n",
    "simanim['macd'] = macd\n",
    "#simanim['macdsignal'] = macdsignal\n",
    "#simanim['macdhist'] = macdhist\n",
    "\n",
    "fastk, fastd = talib.STOCHRSI(spy['Close'], timeperiod=14, fastk_period=5, fastd_period=3, fastd_matype=0)\n",
    "simanim['fastk'] = fastk\n",
    "#simanim['fastd'] = fastd\n",
    "\n",
    "# ad = talib.AD(spy['High'], spy['Low'], spy['Close'], spy['Volume']) # => Coorelation\n",
    "# simanim['ad'] = ad\n",
    "\n",
    "atr14 = talib.ATR(spy['High'], spy['Low'], spy['Close'], timeperiod=14)\n",
    "simanim['atr14'] = atr14\n",
    "\n",
    "wclprice = talib.WCLPRICE(spy['High'], spy['Low'], spy['Close'])\n",
    "simanim['wclprice'] = wclprice\n",
    "\n",
    "sine, leadsine = talib.HT_SINE(spy['Close'])\n",
    "simanim['sine'] = sine\n",
    "simanim['leadsine'] = leadsine\n",
    "\n",
    "instant_trendline = talib.HT_TRENDLINE(spy['Close'])\n",
    "simanim['instant_trendline'] = instant_trendline\n",
    "\n",
    "#midprice5 = talib.MIDPRICE(spy['High'],spy['Low'], timeperiod=5) # Correlation \n",
    "#simanim['midprice5'] = midprice5\n",
    "\n",
    "ultosc = talib.ULTOSC(spy['High'], spy['Low'], spy['Close'], timeperiod1=5, timeperiod2=9, timeperiod3=13)\n",
    "simanim['ultosc'] = ultosc\n",
    "\n",
    "obv = talib.OBV(spy['Close'], spy['Volume'])\n",
    "simanim['obv'] = obv\n",
    "\n",
    "ht_trendmode = talib.HT_TRENDMODE(spy['Close'])\n",
    "simanim['ht_trendmode'] = ht_trendmode"
   ]
  },
  {
   "cell_type": "code",
   "execution_count": 192,
   "metadata": {},
   "outputs": [
    {
     "data": {
      "text/plain": [
       "(2040, 11)"
      ]
     },
     "execution_count": 192,
     "metadata": {},
     "output_type": "execute_result"
    }
   ],
   "source": [
    "simanim.shape"
   ]
  },
  {
   "cell_type": "code",
   "execution_count": 193,
   "metadata": {},
   "outputs": [
    {
     "data": {
      "text/plain": [
       "(30, 12)"
      ]
     },
     "execution_count": 193,
     "metadata": {},
     "output_type": "execute_result"
    }
   ],
   "source": [
    "backtest_inputs.shape"
   ]
  },
  {
   "cell_type": "code",
   "execution_count": 194,
   "metadata": {},
   "outputs": [],
   "source": [
    "# TREND GLISSANT 5 JOURS COEF +atr14*2\n",
    "trend5 = []\n",
    "hausse = []\n",
    "baisse = []\n",
    "stagne = []"
   ]
  },
  {
   "cell_type": "code",
   "execution_count": 195,
   "metadata": {},
   "outputs": [
    {
     "data": {
      "text/plain": [
       "(2040, 12)"
      ]
     },
     "execution_count": 195,
     "metadata": {},
     "output_type": "execute_result"
    }
   ],
   "source": [
    "for i in range(0,len(simanim)-4):\n",
    "    \n",
    "    ii = 0.02\n",
    "    jour = spy.iloc[i,3]\n",
    "    jour2 = spy.iloc[i+1,3]\n",
    "    jour3 = spy.iloc[i+2,3]\n",
    "    jour4 = spy.iloc[i+3,3]\n",
    "    jour5 = spy.iloc[i+4,3]\n",
    "    moy = (jour2+jour3+jour4+jour5)/4\n",
    "    jtest = jour+(jour*ii)\n",
    "    trend5.append((jour5-jour)/jour)\n",
    "    \n",
    "    if jtest>moy:\n",
    "        hausse.append(1)\n",
    "        baisse.append(0)\n",
    "        stagne.append(0)\n",
    "    \n",
    "    elif jtest<moy:\n",
    "        hausse.append(0)\n",
    "        baisse.append(1)\n",
    "        stagne.append(0)\n",
    "\n",
    "\n",
    "      \n",
    "    else :\n",
    "        hausse.append(0)\n",
    "        baisse.append(0)\n",
    "        stagne.append(1)\n",
    "\n",
    "nb_row= len(hausse)\n",
    "#simanim.loc[:nb_row,'trend'] = trend5\n",
    "\n",
    "simanim.loc[:nb_row,'hausse'] = hausse\n",
    "\n",
    "#simanim.loc[:nb_row,'baisse'] = baisse\n",
    "\n",
    "#simanim.loc[:nb_row,'stagne'] = stagne\n",
    "simanim.shape"
   ]
  },
  {
   "cell_type": "code",
   "execution_count": 196,
   "metadata": {},
   "outputs": [
    {
     "data": {
      "text/html": [
       "<div>\n",
       "<style scoped>\n",
       "    .dataframe tbody tr th:only-of-type {\n",
       "        vertical-align: middle;\n",
       "    }\n",
       "\n",
       "    .dataframe tbody tr th {\n",
       "        vertical-align: top;\n",
       "    }\n",
       "\n",
       "    .dataframe thead th {\n",
       "        text-align: right;\n",
       "    }\n",
       "</style>\n",
       "<table border=\"1\" class=\"dataframe\">\n",
       "  <thead>\n",
       "    <tr style=\"text-align: right;\">\n",
       "      <th></th>\n",
       "      <th>rsi</th>\n",
       "      <th>macd</th>\n",
       "      <th>fastk</th>\n",
       "      <th>atr14</th>\n",
       "      <th>wclprice</th>\n",
       "      <th>sine</th>\n",
       "      <th>leadsine</th>\n",
       "      <th>instant_trendline</th>\n",
       "      <th>ultosc</th>\n",
       "      <th>obv</th>\n",
       "      <th>ht_trendmode</th>\n",
       "    </tr>\n",
       "    <tr>\n",
       "      <th>Date</th>\n",
       "      <th></th>\n",
       "      <th></th>\n",
       "      <th></th>\n",
       "      <th></th>\n",
       "      <th></th>\n",
       "      <th></th>\n",
       "      <th></th>\n",
       "      <th></th>\n",
       "      <th></th>\n",
       "      <th></th>\n",
       "      <th></th>\n",
       "    </tr>\n",
       "  </thead>\n",
       "  <tbody>\n",
       "    <tr>\n",
       "      <th>2019-04-04</th>\n",
       "      <td>64.518067</td>\n",
       "      <td>2.549669</td>\n",
       "      <td>100.000000</td>\n",
       "      <td>2.633531</td>\n",
       "      <td>286.957497</td>\n",
       "      <td>-0.355686</td>\n",
       "      <td>-0.912374</td>\n",
       "      <td>281.187147</td>\n",
       "      <td>69.905648</td>\n",
       "      <td>3.355822e+09</td>\n",
       "      <td>1</td>\n",
       "    </tr>\n",
       "    <tr>\n",
       "      <th>2019-04-05</th>\n",
       "      <td>66.093390</td>\n",
       "      <td>2.763179</td>\n",
       "      <td>100.000000</td>\n",
       "      <td>2.548994</td>\n",
       "      <td>288.342506</td>\n",
       "      <td>0.643083</td>\n",
       "      <td>-0.086772</td>\n",
       "      <td>281.873683</td>\n",
       "      <td>72.140177</td>\n",
       "      <td>3.414444e+09</td>\n",
       "      <td>1</td>\n",
       "    </tr>\n",
       "    <tr>\n",
       "      <th>2019-04-08</th>\n",
       "      <td>66.341732</td>\n",
       "      <td>2.916519</td>\n",
       "      <td>100.000000</td>\n",
       "      <td>2.476923</td>\n",
       "      <td>288.465004</td>\n",
       "      <td>0.664463</td>\n",
       "      <td>-0.058589</td>\n",
       "      <td>282.519470</td>\n",
       "      <td>71.105850</td>\n",
       "      <td>3.468010e+09</td>\n",
       "      <td>1</td>\n",
       "    </tr>\n",
       "    <tr>\n",
       "      <th>2019-04-09</th>\n",
       "      <td>63.078304</td>\n",
       "      <td>2.885357</td>\n",
       "      <td>0.000000</td>\n",
       "      <td>2.449286</td>\n",
       "      <td>287.349998</td>\n",
       "      <td>0.557507</td>\n",
       "      <td>-0.192803</td>\n",
       "      <td>283.087322</td>\n",
       "      <td>64.039609</td>\n",
       "      <td>3.401903e+09</td>\n",
       "      <td>1</td>\n",
       "    </tr>\n",
       "    <tr>\n",
       "      <th>2019-04-10</th>\n",
       "      <td>63.674140</td>\n",
       "      <td>2.865555</td>\n",
       "      <td>16.931378</td>\n",
       "      <td>2.322195</td>\n",
       "      <td>287.715004</td>\n",
       "      <td>0.326670</td>\n",
       "      <td>-0.437323</td>\n",
       "      <td>283.591423</td>\n",
       "      <td>70.433433</td>\n",
       "      <td>3.423909e+09</td>\n",
       "      <td>1</td>\n",
       "    </tr>\n",
       "  </tbody>\n",
       "</table>\n",
       "</div>"
      ],
      "text/plain": [
       "                  rsi      macd       fastk     atr14    wclprice      sine  \\\n",
       "Date                                                                          \n",
       "2019-04-04  64.518067  2.549669  100.000000  2.633531  286.957497 -0.355686   \n",
       "2019-04-05  66.093390  2.763179  100.000000  2.548994  288.342506  0.643083   \n",
       "2019-04-08  66.341732  2.916519  100.000000  2.476923  288.465004  0.664463   \n",
       "2019-04-09  63.078304  2.885357    0.000000  2.449286  287.349998  0.557507   \n",
       "2019-04-10  63.674140  2.865555   16.931378  2.322195  287.715004  0.326670   \n",
       "\n",
       "            leadsine  instant_trendline     ultosc           obv  ht_trendmode  \n",
       "Date                                                                            \n",
       "2019-04-04 -0.912374         281.187147  69.905648  3.355822e+09             1  \n",
       "2019-04-05 -0.086772         281.873683  72.140177  3.414444e+09             1  \n",
       "2019-04-08 -0.058589         282.519470  71.105850  3.468010e+09             1  \n",
       "2019-04-09 -0.192803         283.087322  64.039609  3.401903e+09             1  \n",
       "2019-04-10 -0.437323         283.591423  70.433433  3.423909e+09             1  "
      ]
     },
     "execution_count": 196,
     "metadata": {},
     "output_type": "execute_result"
    }
   ],
   "source": [
    "backtest_inputs = pd.DataFrame(index=spy.index)\n",
    "backtest_inputs = backtest_inputs.iloc[-30:,:]\n",
    "backtest_inputs = simanim.iloc[-30:,:-1]\n",
    "backtest_inputs.tail()"
   ]
  },
  {
   "cell_type": "code",
   "execution_count": 197,
   "metadata": {},
   "outputs": [
    {
     "data": {
      "text/plain": [
       "(2010, 12)"
      ]
     },
     "execution_count": 197,
     "metadata": {},
     "output_type": "execute_result"
    }
   ],
   "source": [
    "backtest_outputs = pd.DataFrame(index=backtest_inputs.index)\n",
    "simanim = simanim.iloc[:-30,:]\n",
    "simanim.shape"
   ]
  },
  {
   "cell_type": "code",
   "execution_count": 198,
   "metadata": {},
   "outputs": [
    {
     "data": {
      "text/html": [
       "<div>\n",
       "<style scoped>\n",
       "    .dataframe tbody tr th:only-of-type {\n",
       "        vertical-align: middle;\n",
       "    }\n",
       "\n",
       "    .dataframe tbody tr th {\n",
       "        vertical-align: top;\n",
       "    }\n",
       "\n",
       "    .dataframe thead th {\n",
       "        text-align: right;\n",
       "    }\n",
       "</style>\n",
       "<table border=\"1\" class=\"dataframe\">\n",
       "  <thead>\n",
       "    <tr style=\"text-align: right;\">\n",
       "      <th></th>\n",
       "      <th>rsi</th>\n",
       "      <th>macd</th>\n",
       "      <th>fastk</th>\n",
       "      <th>atr14</th>\n",
       "      <th>wclprice</th>\n",
       "      <th>sine</th>\n",
       "      <th>leadsine</th>\n",
       "      <th>instant_trendline</th>\n",
       "      <th>ultosc</th>\n",
       "      <th>obv</th>\n",
       "      <th>ht_trendmode</th>\n",
       "      <th>hausse</th>\n",
       "    </tr>\n",
       "    <tr>\n",
       "      <th>Date</th>\n",
       "      <th></th>\n",
       "      <th></th>\n",
       "      <th></th>\n",
       "      <th></th>\n",
       "      <th></th>\n",
       "      <th></th>\n",
       "      <th></th>\n",
       "      <th></th>\n",
       "      <th></th>\n",
       "      <th></th>\n",
       "      <th></th>\n",
       "      <th></th>\n",
       "    </tr>\n",
       "  </thead>\n",
       "  <tbody>\n",
       "    <tr>\n",
       "      <th>2019-02-21</th>\n",
       "      <td>62.592130</td>\n",
       "      <td>4.236517</td>\n",
       "      <td>41.091562</td>\n",
       "      <td>3.035272</td>\n",
       "      <td>277.322510</td>\n",
       "      <td>-0.115535</td>\n",
       "      <td>-0.784067</td>\n",
       "      <td>267.802581</td>\n",
       "      <td>70.624043</td>\n",
       "      <td>3.186360e+09</td>\n",
       "      <td>1</td>\n",
       "      <td>1.0</td>\n",
       "    </tr>\n",
       "    <tr>\n",
       "      <th>2019-02-22</th>\n",
       "      <td>64.241151</td>\n",
       "      <td>4.303476</td>\n",
       "      <td>78.216810</td>\n",
       "      <td>2.958466</td>\n",
       "      <td>278.760002</td>\n",
       "      <td>-0.109036</td>\n",
       "      <td>-0.779991</td>\n",
       "      <td>268.764903</td>\n",
       "      <td>74.201856</td>\n",
       "      <td>3.264474e+09</td>\n",
       "      <td>1</td>\n",
       "      <td>1.0</td>\n",
       "    </tr>\n",
       "    <tr>\n",
       "      <th>2019-02-25</th>\n",
       "      <td>64.603096</td>\n",
       "      <td>4.337206</td>\n",
       "      <td>95.110816</td>\n",
       "      <td>2.902146</td>\n",
       "      <td>279.944992</td>\n",
       "      <td>-0.108258</td>\n",
       "      <td>-0.779501</td>\n",
       "      <td>269.638883</td>\n",
       "      <td>61.517092</td>\n",
       "      <td>3.333505e+09</td>\n",
       "      <td>1</td>\n",
       "      <td>1.0</td>\n",
       "    </tr>\n",
       "    <tr>\n",
       "      <th>2019-02-26</th>\n",
       "      <td>64.243748</td>\n",
       "      <td>4.298252</td>\n",
       "      <td>72.481703</td>\n",
       "      <td>2.794850</td>\n",
       "      <td>279.459999</td>\n",
       "      <td>-0.115823</td>\n",
       "      <td>-0.784247</td>\n",
       "      <td>270.548292</td>\n",
       "      <td>55.887321</td>\n",
       "      <td>3.276661e+09</td>\n",
       "      <td>1</td>\n",
       "      <td>1.0</td>\n",
       "    </tr>\n",
       "    <tr>\n",
       "      <th>2019-02-27</th>\n",
       "      <td>64.019392</td>\n",
       "      <td>4.209178</td>\n",
       "      <td>61.083194</td>\n",
       "      <td>2.745931</td>\n",
       "      <td>278.867508</td>\n",
       "      <td>-0.183234</td>\n",
       "      <td>-0.824701</td>\n",
       "      <td>271.446518</td>\n",
       "      <td>59.494208</td>\n",
       "      <td>3.219739e+09</td>\n",
       "      <td>1</td>\n",
       "      <td>1.0</td>\n",
       "    </tr>\n",
       "  </tbody>\n",
       "</table>\n",
       "</div>"
      ],
      "text/plain": [
       "                  rsi      macd      fastk     atr14    wclprice      sine  \\\n",
       "Date                                                                         \n",
       "2019-02-21  62.592130  4.236517  41.091562  3.035272  277.322510 -0.115535   \n",
       "2019-02-22  64.241151  4.303476  78.216810  2.958466  278.760002 -0.109036   \n",
       "2019-02-25  64.603096  4.337206  95.110816  2.902146  279.944992 -0.108258   \n",
       "2019-02-26  64.243748  4.298252  72.481703  2.794850  279.459999 -0.115823   \n",
       "2019-02-27  64.019392  4.209178  61.083194  2.745931  278.867508 -0.183234   \n",
       "\n",
       "            leadsine  instant_trendline     ultosc           obv  \\\n",
       "Date                                                               \n",
       "2019-02-21 -0.784067         267.802581  70.624043  3.186360e+09   \n",
       "2019-02-22 -0.779991         268.764903  74.201856  3.264474e+09   \n",
       "2019-02-25 -0.779501         269.638883  61.517092  3.333505e+09   \n",
       "2019-02-26 -0.784247         270.548292  55.887321  3.276661e+09   \n",
       "2019-02-27 -0.824701         271.446518  59.494208  3.219739e+09   \n",
       "\n",
       "            ht_trendmode  hausse  \n",
       "Date                              \n",
       "2019-02-21             1     1.0  \n",
       "2019-02-22             1     1.0  \n",
       "2019-02-25             1     1.0  \n",
       "2019-02-26             1     1.0  \n",
       "2019-02-27             1     1.0  "
      ]
     },
     "execution_count": 198,
     "metadata": {},
     "output_type": "execute_result"
    }
   ],
   "source": [
    "simanim.tail()"
   ]
  },
  {
   "cell_type": "code",
   "execution_count": 199,
   "metadata": {},
   "outputs": [
    {
     "data": {
      "text/plain": [
       "0"
      ]
     },
     "execution_count": 199,
     "metadata": {},
     "output_type": "execute_result"
    }
   ],
   "source": [
    "simanim = simanim.dropna()\n",
    "simanim.isnull().sum().sum()"
   ]
  },
  {
   "cell_type": "code",
   "execution_count": 200,
   "metadata": {},
   "outputs": [
    {
     "data": {
      "text/plain": [
       "(1947, 12)"
      ]
     },
     "execution_count": 200,
     "metadata": {},
     "output_type": "execute_result"
    }
   ],
   "source": [
    "simanim.shape"
   ]
  },
  {
   "cell_type": "code",
   "execution_count": 201,
   "metadata": {},
   "outputs": [
    {
     "data": {
      "text/html": [
       "<div>\n",
       "<style scoped>\n",
       "    .dataframe tbody tr th:only-of-type {\n",
       "        vertical-align: middle;\n",
       "    }\n",
       "\n",
       "    .dataframe tbody tr th {\n",
       "        vertical-align: top;\n",
       "    }\n",
       "\n",
       "    .dataframe thead th {\n",
       "        text-align: right;\n",
       "    }\n",
       "</style>\n",
       "<table border=\"1\" class=\"dataframe\">\n",
       "  <thead>\n",
       "    <tr style=\"text-align: right;\">\n",
       "      <th></th>\n",
       "      <th>rsi</th>\n",
       "      <th>macd</th>\n",
       "      <th>fastk</th>\n",
       "      <th>atr14</th>\n",
       "      <th>wclprice</th>\n",
       "      <th>sine</th>\n",
       "      <th>leadsine</th>\n",
       "      <th>instant_trendline</th>\n",
       "      <th>ultosc</th>\n",
       "      <th>obv</th>\n",
       "      <th>ht_trendmode</th>\n",
       "      <th>hausse</th>\n",
       "    </tr>\n",
       "    <tr>\n",
       "      <th>Date</th>\n",
       "      <th></th>\n",
       "      <th></th>\n",
       "      <th></th>\n",
       "      <th></th>\n",
       "      <th></th>\n",
       "      <th></th>\n",
       "      <th></th>\n",
       "      <th></th>\n",
       "      <th></th>\n",
       "      <th></th>\n",
       "      <th></th>\n",
       "      <th></th>\n",
       "    </tr>\n",
       "  </thead>\n",
       "  <tbody>\n",
       "    <tr>\n",
       "      <th>2019-02-21</th>\n",
       "      <td>62.592130</td>\n",
       "      <td>4.236517</td>\n",
       "      <td>41.091562</td>\n",
       "      <td>3.035272</td>\n",
       "      <td>277.322510</td>\n",
       "      <td>-0.115535</td>\n",
       "      <td>-0.784067</td>\n",
       "      <td>267.802581</td>\n",
       "      <td>70.624043</td>\n",
       "      <td>3.186360e+09</td>\n",
       "      <td>1</td>\n",
       "      <td>1.0</td>\n",
       "    </tr>\n",
       "    <tr>\n",
       "      <th>2019-02-22</th>\n",
       "      <td>64.241151</td>\n",
       "      <td>4.303476</td>\n",
       "      <td>78.216810</td>\n",
       "      <td>2.958466</td>\n",
       "      <td>278.760002</td>\n",
       "      <td>-0.109036</td>\n",
       "      <td>-0.779991</td>\n",
       "      <td>268.764903</td>\n",
       "      <td>74.201856</td>\n",
       "      <td>3.264474e+09</td>\n",
       "      <td>1</td>\n",
       "      <td>1.0</td>\n",
       "    </tr>\n",
       "    <tr>\n",
       "      <th>2019-02-25</th>\n",
       "      <td>64.603096</td>\n",
       "      <td>4.337206</td>\n",
       "      <td>95.110816</td>\n",
       "      <td>2.902146</td>\n",
       "      <td>279.944992</td>\n",
       "      <td>-0.108258</td>\n",
       "      <td>-0.779501</td>\n",
       "      <td>269.638883</td>\n",
       "      <td>61.517092</td>\n",
       "      <td>3.333505e+09</td>\n",
       "      <td>1</td>\n",
       "      <td>1.0</td>\n",
       "    </tr>\n",
       "    <tr>\n",
       "      <th>2019-02-26</th>\n",
       "      <td>64.243748</td>\n",
       "      <td>4.298252</td>\n",
       "      <td>72.481703</td>\n",
       "      <td>2.794850</td>\n",
       "      <td>279.459999</td>\n",
       "      <td>-0.115823</td>\n",
       "      <td>-0.784247</td>\n",
       "      <td>270.548292</td>\n",
       "      <td>55.887321</td>\n",
       "      <td>3.276661e+09</td>\n",
       "      <td>1</td>\n",
       "      <td>1.0</td>\n",
       "    </tr>\n",
       "    <tr>\n",
       "      <th>2019-02-27</th>\n",
       "      <td>64.019392</td>\n",
       "      <td>4.209178</td>\n",
       "      <td>61.083194</td>\n",
       "      <td>2.745931</td>\n",
       "      <td>278.867508</td>\n",
       "      <td>-0.183234</td>\n",
       "      <td>-0.824701</td>\n",
       "      <td>271.446518</td>\n",
       "      <td>59.494208</td>\n",
       "      <td>3.219739e+09</td>\n",
       "      <td>1</td>\n",
       "      <td>1.0</td>\n",
       "    </tr>\n",
       "  </tbody>\n",
       "</table>\n",
       "</div>"
      ],
      "text/plain": [
       "                  rsi      macd      fastk     atr14    wclprice      sine  \\\n",
       "Date                                                                         \n",
       "2019-02-21  62.592130  4.236517  41.091562  3.035272  277.322510 -0.115535   \n",
       "2019-02-22  64.241151  4.303476  78.216810  2.958466  278.760002 -0.109036   \n",
       "2019-02-25  64.603096  4.337206  95.110816  2.902146  279.944992 -0.108258   \n",
       "2019-02-26  64.243748  4.298252  72.481703  2.794850  279.459999 -0.115823   \n",
       "2019-02-27  64.019392  4.209178  61.083194  2.745931  278.867508 -0.183234   \n",
       "\n",
       "            leadsine  instant_trendline     ultosc           obv  \\\n",
       "Date                                                               \n",
       "2019-02-21 -0.784067         267.802581  70.624043  3.186360e+09   \n",
       "2019-02-22 -0.779991         268.764903  74.201856  3.264474e+09   \n",
       "2019-02-25 -0.779501         269.638883  61.517092  3.333505e+09   \n",
       "2019-02-26 -0.784247         270.548292  55.887321  3.276661e+09   \n",
       "2019-02-27 -0.824701         271.446518  59.494208  3.219739e+09   \n",
       "\n",
       "            ht_trendmode  hausse  \n",
       "Date                              \n",
       "2019-02-21             1     1.0  \n",
       "2019-02-22             1     1.0  \n",
       "2019-02-25             1     1.0  \n",
       "2019-02-26             1     1.0  \n",
       "2019-02-27             1     1.0  "
      ]
     },
     "execution_count": 201,
     "metadata": {},
     "output_type": "execute_result"
    }
   ],
   "source": [
    "simanim.tail()"
   ]
  },
  {
   "cell_type": "code",
   "execution_count": null,
   "metadata": {},
   "outputs": [],
   "source": []
  },
  {
   "cell_type": "code",
   "execution_count": 202,
   "metadata": {},
   "outputs": [
    {
     "data": {
      "image/png": "[encoded data removed]",
      "text/plain": [
       "<Figure size 1152x432 with 2 Axes>"
      ]
     },
     "metadata": {
      "needs_background": "light"
     },
     "output_type": "display_data"
    }
   ],
   "source": [
    "plt.figure(figsize=(16,6))\n",
    "sns.heatmap(simanim.corr())\n",
    "plt.show()"
   ]
  },
  {
   "cell_type": "code",
   "execution_count": 203,
   "metadata": {},
   "outputs": [],
   "source": [
    "# SPLIT TRAIN ET TEST\n",
    "X = simanim.iloc[:,:-1]\n",
    "y = simanim.iloc[:,-1]\n",
    "X_train, X_test, y_train, y_test = train_test_split(X, y, random_state=0)"
   ]
  },
  {
   "cell_type": "code",
   "execution_count": 204,
   "metadata": {},
   "outputs": [
    {
     "data": {
      "text/plain": [
       "(1460, 11)"
      ]
     },
     "execution_count": 204,
     "metadata": {},
     "output_type": "execute_result"
    }
   ],
   "source": [
    "X_train.shape"
   ]
  },
  {
   "cell_type": "code",
   "execution_count": 205,
   "metadata": {},
   "outputs": [
    {
     "name": "stdout",
     "output_type": "stream",
     "text": [
      "Optimization terminated successfully.\n",
      "         Current function value: 0.126634\n",
      "         Iterations 9\n",
      "                         Results: Logit\n",
      "=================================================================\n",
      "Model:              Logit            Pseudo R-squared: 0.306     \n",
      "Dependent Variable: hausse           AIC:              515.1117  \n",
      "Date:               2019-04-10 19:02 BIC:              576.4262  \n",
      "No. Observations:   1947             Log-Likelihood:   -246.56   \n",
      "Df Model:           10               LL-Null:          -355.43   \n",
      "Df Residuals:       1936             LLR p-value:      3.1495e-41\n",
      "Converged:          1.0000           Scale:            1.0000    \n",
      "No. Iterations:     9.0000                                       \n",
      "-----------------------------------------------------------------\n",
      "                   Coef.  Std.Err.    z    P>|z|   [0.025  0.975]\n",
      "-----------------------------------------------------------------\n",
      "rsi                0.1085   0.0264  4.1061 0.0000  0.0567  0.1603\n",
      "macd              -0.2913   0.1968 -1.4799 0.1389 -0.6771  0.0945\n",
      "fastk              0.0034   0.0042  0.8114 0.4171 -0.0048  0.0115\n",
      "atr14             -0.7313   0.1991 -3.6738 0.0002 -1.1215 -0.3412\n",
      "wclprice           0.0758   0.0583  1.2996 0.1937 -0.0385  0.1901\n",
      "sine               0.4127   0.3774  1.0937 0.2741 -0.3269  1.1524\n",
      "leadsine           0.1191   0.3637  0.3276 0.7432 -0.5937  0.8319\n",
      "instant_trendline -0.0747   0.0561 -1.3312 0.1831 -0.1847  0.0353\n",
      "ultosc            -0.0132   0.0172 -0.7662 0.4436 -0.0468  0.0205\n",
      "obv                0.0000   0.0000  3.2778 0.0010  0.0000  0.0000\n",
      "ht_trendmode      -0.4141   0.3119 -1.3277 0.1843 -1.0254  0.1972\n",
      "=================================================================\n",
      "\n"
     ]
    }
   ],
   "source": [
    "import statsmodels.api as sm\n",
    "logit_model=sm.Logit(y,X)\n",
    "result=logit_model.fit()\n",
    "print(result.summary2())"
   ]
  },
  {
   "cell_type": "markdown",
   "metadata": {},
   "source": [
    "from sklearn.metrics import roc_auc_score\n",
    "from sklearn.metrics import roc_curve\n",
    "logit_roc_auc = roc_auc_score(y_test, logreg.predict(X_test))\n",
    "fpr, tpr, thresholds = roc_curve(y_test, logreg.predict_proba(X_test)[:,1])\n",
    "plt.figure()\n",
    "plt.plot(fpr, tpr, label='Logistic Regression (area = %0.2f)' % logit_roc_auc)\n",
    "plt.plot([0, 1], [0, 1],'r--')\n",
    "plt.xlim([0.0, 1.0])\n",
    "plt.ylim([0.0, 1.05])\n",
    "plt.xlabel('False Positive Rate')\n",
    "plt.ylabel('True Positive Rate')\n",
    "plt.title('Receiver operating characteristic')\n",
    "plt.legend(loc=\"lower right\")\n",
    "plt.savefig('Log_ROC')\n",
    "plt.show()"
   ]
  },
  {
   "cell_type": "code",
   "execution_count": 206,
   "metadata": {},
   "outputs": [
    {
     "data": {
      "text/plain": [
       "LogisticRegression(C=1.0, class_weight=None, dual=False, fit_intercept=True,\n",
       "          intercept_scaling=1, max_iter=100, multi_class='warn',\n",
       "          n_jobs=None, penalty='l2', random_state=0, solver='lbfgs',\n",
       "          tol=0.0001, verbose=0, warm_start=False)"
      ]
     },
     "execution_count": 206,
     "metadata": {},
     "output_type": "execute_result"
    }
   ],
   "source": [
    "classifier = LogisticRegression(random_state=0,solver='lbfgs')\n",
    "classifier.fit(X_train, y_train)"
   ]
  },
  {
   "cell_type": "code",
   "execution_count": 207,
   "metadata": {},
   "outputs": [
    {
     "name": "stdout",
     "output_type": "stream",
     "text": [
      "[[ 15  12]\n",
      " [ 92 368]]\n"
     ]
    }
   ],
   "source": [
    "y_pred = classifier.predict(X_test)\n",
    "from sklearn.metrics import confusion_matrix\n",
    "confusion_matrix = confusion_matrix(y_test, y_pred)\n",
    "print(confusion_matrix)"
   ]
  },
  {
   "cell_type": "code",
   "execution_count": 208,
   "metadata": {},
   "outputs": [
    {
     "name": "stdout",
     "output_type": "stream",
     "text": [
      "Accuracy de la regression logistique sue le test set: 78.64%\n"
     ]
    }
   ],
   "source": [
    "print('Accuracy de la regression logistique sue le test set: {:.2f}%'.format(classifier.score(X_test, y_test)*100))"
   ]
  },
  {
   "cell_type": "code",
   "execution_count": 209,
   "metadata": {},
   "outputs": [
    {
     "name": "stdout",
     "output_type": "stream",
     "text": [
      "              precision    recall  f1-score   support\n",
      "\n",
      "         0.0       0.14      0.56      0.22        27\n",
      "         1.0       0.97      0.80      0.88       460\n",
      "\n",
      "   micro avg       0.79      0.79      0.79       487\n",
      "   macro avg       0.55      0.68      0.55       487\n",
      "weighted avg       0.92      0.79      0.84       487\n",
      "\n"
     ]
    }
   ],
   "source": [
    "from sklearn.metrics import classification_report\n",
    "print(classification_report(y_test, y_pred))"
   ]
  },
  {
   "cell_type": "code",
   "execution_count": 210,
   "metadata": {},
   "outputs": [
    {
     "name": "stdout",
     "output_type": "stream",
     "text": [
      "The precision is the ratio tp / (tp + fp) where tp is the number of true positives and fp the number of false positives. The precision is intuitively the ability of the classifier to not label a sample as positive if it is negative.The recall is the ratio tp / (tp + fn) where tp is the number of true positives and fn the number of false negatives. The recall is intuitively the ability of the classifier to find all the positive samples.The F-beta score can be interpreted as a weighted harmonic mean of the precision and recall, where an F-beta score reaches its best value at 1 and worst score at 0.The F-beta score weights the recall more than the precision by a factor of beta. beta = 1.0 means recall and precision are equally important.The support is the number of occurrences of each class in y_test.\n"
     ]
    }
   ],
   "source": [
    "print(\"The precision is the ratio tp / (tp + fp) where tp is the number of true positives and fp the number of false positives. The precision is intuitively the ability of the classifier to not label a sample as positive if it is negative.The recall is the ratio tp / (tp + fn) where tp is the number of true positives and fn the number of false negatives. The recall is intuitively the ability of the classifier to find all the positive samples.The F-beta score can be interpreted as a weighted harmonic mean of the precision and recall, where an F-beta score reaches its best value at 1 and worst score at 0.The F-beta score weights the recall more than the precision by a factor of beta. beta = 1.0 means recall and precision are equally important.The support is the number of occurrences of each class in y_test.\")"
   ]
  },
  {
   "cell_type": "code",
   "execution_count": 211,
   "metadata": {
    "slideshow": {
     "slide_type": "-"
    }
   },
   "outputs": [
    {
     "data": {
      "text/plain": [
       "[<matplotlib.lines.Line2D at 0x1c20dcd0b8>,\n",
       " <matplotlib.lines.Line2D at 0x1c20dcd208>]"
      ]
     },
     "execution_count": 211,
     "metadata": {},
     "output_type": "execute_result"
    },
    {
     "data": {
      "image/png": "[encoded data removed]",
      "text/plain": [
       "<Figure size 1152x432 with 1 Axes>"
      ]
     },
     "metadata": {
      "needs_background": "light"
     },
     "output_type": "display_data"
    }
   ],
   "source": [
    "from sklearn.decomposition import PCA\n",
    "X = simanim.iloc[:,:-1]\n",
    "y = simanim.iloc[:,-1]\n",
    "pca = PCA(n_components=2).fit_transform(X)\n",
    "X_train, X_test, y_train, y_test = train_test_split(pca, y, random_state=770)\n",
    "\n",
    "plt.figure(figsize=(16,6))\n",
    "plt.plot(pca)"
   ]
  },
  {
   "cell_type": "code",
   "execution_count": null,
   "metadata": {},
   "outputs": [],
   "source": []
  },
  {
   "cell_type": "code",
   "execution_count": 212,
   "metadata": {},
   "outputs": [
    {
     "name": "stdout",
     "output_type": "stream",
     "text": [
      "                       ==========================> BACKTEST <==========================\n"
     ]
    }
   ],
   "source": [
    "# BACKTEST\n",
    "\n",
    "print('                       ==========================> BACKTEST <==========================')"
   ]
  },
  {
   "cell_type": "code",
   "execution_count": 213,
   "metadata": {},
   "outputs": [
    {
     "data": {
      "text/plain": [
       "(30, 11)"
      ]
     },
     "execution_count": 213,
     "metadata": {},
     "output_type": "execute_result"
    }
   ],
   "source": [
    "backtest_inputs.shape"
   ]
  },
  {
   "cell_type": "code",
   "execution_count": 214,
   "metadata": {},
   "outputs": [
    {
     "data": {
      "text/plain": [
       "0"
      ]
     },
     "execution_count": 214,
     "metadata": {},
     "output_type": "execute_result"
    }
   ],
   "source": [
    "backtest_inputs.isnull().sum().sum()"
   ]
  },
  {
   "cell_type": "code",
   "execution_count": 215,
   "metadata": {},
   "outputs": [
    {
     "data": {
      "text/html": [
       "<div>\n",
       "<style scoped>\n",
       "    .dataframe tbody tr th:only-of-type {\n",
       "        vertical-align: middle;\n",
       "    }\n",
       "\n",
       "    .dataframe tbody tr th {\n",
       "        vertical-align: top;\n",
       "    }\n",
       "\n",
       "    .dataframe thead th {\n",
       "        text-align: right;\n",
       "    }\n",
       "</style>\n",
       "<table border=\"1\" class=\"dataframe\">\n",
       "  <thead>\n",
       "    <tr style=\"text-align: right;\">\n",
       "      <th></th>\n",
       "      <th>rsi</th>\n",
       "      <th>macd</th>\n",
       "      <th>fastk</th>\n",
       "      <th>atr14</th>\n",
       "      <th>wclprice</th>\n",
       "      <th>sine</th>\n",
       "      <th>leadsine</th>\n",
       "      <th>instant_trendline</th>\n",
       "      <th>ultosc</th>\n",
       "      <th>obv</th>\n",
       "      <th>ht_trendmode</th>\n",
       "    </tr>\n",
       "    <tr>\n",
       "      <th>Date</th>\n",
       "      <th></th>\n",
       "      <th></th>\n",
       "      <th></th>\n",
       "      <th></th>\n",
       "      <th></th>\n",
       "      <th></th>\n",
       "      <th></th>\n",
       "      <th></th>\n",
       "      <th></th>\n",
       "      <th></th>\n",
       "      <th></th>\n",
       "    </tr>\n",
       "  </thead>\n",
       "  <tbody>\n",
       "    <tr>\n",
       "      <th>2019-04-04</th>\n",
       "      <td>64.518067</td>\n",
       "      <td>2.549669</td>\n",
       "      <td>100.000000</td>\n",
       "      <td>2.633531</td>\n",
       "      <td>286.957497</td>\n",
       "      <td>-0.355686</td>\n",
       "      <td>-0.912374</td>\n",
       "      <td>281.187147</td>\n",
       "      <td>69.905648</td>\n",
       "      <td>3.355822e+09</td>\n",
       "      <td>1</td>\n",
       "    </tr>\n",
       "    <tr>\n",
       "      <th>2019-04-05</th>\n",
       "      <td>66.093390</td>\n",
       "      <td>2.763179</td>\n",
       "      <td>100.000000</td>\n",
       "      <td>2.548994</td>\n",
       "      <td>288.342506</td>\n",
       "      <td>0.643083</td>\n",
       "      <td>-0.086772</td>\n",
       "      <td>281.873683</td>\n",
       "      <td>72.140177</td>\n",
       "      <td>3.414444e+09</td>\n",
       "      <td>1</td>\n",
       "    </tr>\n",
       "    <tr>\n",
       "      <th>2019-04-08</th>\n",
       "      <td>66.341732</td>\n",
       "      <td>2.916519</td>\n",
       "      <td>100.000000</td>\n",
       "      <td>2.476923</td>\n",
       "      <td>288.465004</td>\n",
       "      <td>0.664463</td>\n",
       "      <td>-0.058589</td>\n",
       "      <td>282.519470</td>\n",
       "      <td>71.105850</td>\n",
       "      <td>3.468010e+09</td>\n",
       "      <td>1</td>\n",
       "    </tr>\n",
       "    <tr>\n",
       "      <th>2019-04-09</th>\n",
       "      <td>63.078304</td>\n",
       "      <td>2.885357</td>\n",
       "      <td>0.000000</td>\n",
       "      <td>2.449286</td>\n",
       "      <td>287.349998</td>\n",
       "      <td>0.557507</td>\n",
       "      <td>-0.192803</td>\n",
       "      <td>283.087322</td>\n",
       "      <td>64.039609</td>\n",
       "      <td>3.401903e+09</td>\n",
       "      <td>1</td>\n",
       "    </tr>\n",
       "    <tr>\n",
       "      <th>2019-04-10</th>\n",
       "      <td>63.674140</td>\n",
       "      <td>2.865555</td>\n",
       "      <td>16.931378</td>\n",
       "      <td>2.322195</td>\n",
       "      <td>287.715004</td>\n",
       "      <td>0.326670</td>\n",
       "      <td>-0.437323</td>\n",
       "      <td>283.591423</td>\n",
       "      <td>70.433433</td>\n",
       "      <td>3.423909e+09</td>\n",
       "      <td>1</td>\n",
       "    </tr>\n",
       "  </tbody>\n",
       "</table>\n",
       "</div>"
      ],
      "text/plain": [
       "                  rsi      macd       fastk     atr14    wclprice      sine  \\\n",
       "Date                                                                          \n",
       "2019-04-04  64.518067  2.549669  100.000000  2.633531  286.957497 -0.355686   \n",
       "2019-04-05  66.093390  2.763179  100.000000  2.548994  288.342506  0.643083   \n",
       "2019-04-08  66.341732  2.916519  100.000000  2.476923  288.465004  0.664463   \n",
       "2019-04-09  63.078304  2.885357    0.000000  2.449286  287.349998  0.557507   \n",
       "2019-04-10  63.674140  2.865555   16.931378  2.322195  287.715004  0.326670   \n",
       "\n",
       "            leadsine  instant_trendline     ultosc           obv  ht_trendmode  \n",
       "Date                                                                            \n",
       "2019-04-04 -0.912374         281.187147  69.905648  3.355822e+09             1  \n",
       "2019-04-05 -0.086772         281.873683  72.140177  3.414444e+09             1  \n",
       "2019-04-08 -0.058589         282.519470  71.105850  3.468010e+09             1  \n",
       "2019-04-09 -0.192803         283.087322  64.039609  3.401903e+09             1  \n",
       "2019-04-10 -0.437323         283.591423  70.433433  3.423909e+09             1  "
      ]
     },
     "execution_count": 215,
     "metadata": {},
     "output_type": "execute_result"
    }
   ],
   "source": [
    "backtest_inputs.tail()"
   ]
  },
  {
   "cell_type": "code",
   "execution_count": 216,
   "metadata": {},
   "outputs": [],
   "source": [
    "X_pour_de_vrai = np.array(backtest_inputs)\n",
    "#X_pour_de_vrai = X_pour_de_vrai.reshape(-1,1)"
   ]
  },
  {
   "cell_type": "code",
   "execution_count": 217,
   "metadata": {},
   "outputs": [
    {
     "data": {
      "text/plain": [
       "array([ 1.,  1.,  1.,  1.,  1.,  1.,  1.,  1.,  1.,  1.,  1.,  1.,  1.,\n",
       "        1.,  1.,  1.,  1.,  1.,  1.,  1.,  1.,  1.,  1.,  1.,  1.,  1.,\n",
       "        1.,  1.,  1.,  1.])"
      ]
     },
     "execution_count": 217,
     "metadata": {},
     "output_type": "execute_result"
    }
   ],
   "source": [
    "classifier.predict(X_pour_de_vrai)"
   ]
  },
  {
   "cell_type": "code",
   "execution_count": null,
   "metadata": {},
   "outputs": [],
   "source": []
  },
  {
   "cell_type": "code",
   "execution_count": null,
   "metadata": {},
   "outputs": [],
   "source": []
  },
  {
   "cell_type": "code",
   "execution_count": null,
   "metadata": {},
   "outputs": [],
   "source": []
  },
  {
   "cell_type": "code",
   "execution_count": null,
   "metadata": {},
   "outputs": [],
   "source": []
  },
  {
   "cell_type": "code",
   "execution_count": null,
   "metadata": {},
   "outputs": [],
   "source": []
  },
  {
   "cell_type": "code",
   "execution_count": null,
   "metadata": {},
   "outputs": [],
   "source": []
  },
  {
   "cell_type": "code",
   "execution_count": null,
   "metadata": {},
   "outputs": [],
   "source": []
  },
  {
   "cell_type": "code",
   "execution_count": null,
   "metadata": {},
   "outputs": [],
   "source": []
  },
  {
   "cell_type": "code",
   "execution_count": null,
   "metadata": {},
   "outputs": [],
   "source": []
  },
  {
   "cell_type": "code",
   "execution_count": null,
   "metadata": {},
   "outputs": [],
   "source": []
  },
  {
   "cell_type": "code",
   "execution_count": null,
   "metadata": {},
   "outputs": [],
   "source": []
  },
  {
   "cell_type": "code",
   "execution_count": 154,
   "metadata": {},
   "outputs": [],
   "source": [
    "temp = SAVERECORDS\n",
    "temp = temp.drop(['hausse'],axis=0)"
   ]
  },
  {
   "cell_type": "code",
   "execution_count": 147,
   "metadata": {},
   "outputs": [
    {
     "data": {
      "text/plain": [
       "rsi                  6.460310e+01\n",
       "macd                 4.337206e+00\n",
       "fastk                9.511082e+01\n",
       "fastd                7.147306e+01\n",
       "atr14                2.902146e+00\n",
       "wclprice             2.799450e+02\n",
       "sine                -1.082582e-01\n",
       "leadsine            -7.795011e-01\n",
       "instant_trendline    2.696389e+02\n",
       "ultosc               6.151709e+01\n",
       "obv                  3.333505e+09\n",
       "ht_trendmode         1.000000e+00\n",
       "trend                3.219893e-03\n",
       "hausse               1.000000e+00\n",
       "Name: 2019-02-25 00:00:00, dtype: float64"
      ]
     },
     "execution_count": 147,
     "metadata": {},
     "output_type": "execute_result"
    }
   ],
   "source": [
    "temp"
   ]
  },
  {
   "cell_type": "code",
   "execution_count": 165,
   "metadata": {},
   "outputs": [],
   "source": [
    "X_pour_de_vrai = np.array(temp)\n",
    "X_pour_de_vrai = X_pour_de_vrai.reshape(1,-1)"
   ]
  },
  {
   "cell_type": "code",
   "execution_count": 166,
   "metadata": {},
   "outputs": [
    {
     "data": {
      "text/plain": [
       "array([[  6.46030961e+01,   4.33720576e+00,   9.51108156e+01,\n",
       "          7.14730624e+01,   2.90214611e+00,   2.79944992e+02,\n",
       "         -1.08258184e-01,  -7.79501078e-01,   2.69638883e+02,\n",
       "          6.15170920e+01,   3.33350490e+09,   1.00000000e+00,\n",
       "          3.21989285e-03]])"
      ]
     },
     "execution_count": 166,
     "metadata": {},
     "output_type": "execute_result"
    }
   ],
   "source": [
    "X_pour_de_vrai"
   ]
  },
  {
   "cell_type": "code",
   "execution_count": 167,
   "metadata": {},
   "outputs": [
    {
     "ename": "ValueError",
     "evalue": "X has 1 features per sample; expecting 13",
     "output_type": "error",
     "traceback": [
      "\u001b[0;31m---------------------------------------------------------------------------\u001b[0m",
      "\u001b[0;31mValueError\u001b[0m                                Traceback (most recent call last)",
      "\u001b[0;32m<ipython-input-167-a87cba0b834f>\u001b[0m in \u001b[0;36m<module>\u001b[0;34m\u001b[0m\n\u001b[0;32m----> 1\u001b[0;31m \u001b[0mclassifier\u001b[0m\u001b[0;34m.\u001b[0m\u001b[0mdecision_function\u001b[0m\u001b[0;34m(\u001b[0m\u001b[0mX_pour_de_vrai\u001b[0m\u001b[0;34m.\u001b[0m\u001b[0mreshape\u001b[0m\u001b[0;34m(\u001b[0m\u001b[0;36m13\u001b[0m\u001b[0;34m,\u001b[0m\u001b[0;36m1\u001b[0m\u001b[0;34m)\u001b[0m\u001b[0;34m)\u001b[0m\u001b[0;34m\u001b[0m\u001b[0;34m\u001b[0m\u001b[0m\n\u001b[0m",
      "\u001b[0;32m~/Applications/anaconda3/envs/LumberJack/lib/python3.6/site-packages/sklearn/linear_model/base.py\u001b[0m in \u001b[0;36mdecision_function\u001b[0;34m(self, X)\u001b[0m\n\u001b[1;32m    260\u001b[0m         \u001b[0;32mif\u001b[0m \u001b[0mX\u001b[0m\u001b[0;34m.\u001b[0m\u001b[0mshape\u001b[0m\u001b[0;34m[\u001b[0m\u001b[0;36m1\u001b[0m\u001b[0;34m]\u001b[0m \u001b[0;34m!=\u001b[0m \u001b[0mn_features\u001b[0m\u001b[0;34m:\u001b[0m\u001b[0;34m\u001b[0m\u001b[0;34m\u001b[0m\u001b[0m\n\u001b[1;32m    261\u001b[0m             raise ValueError(\"X has %d features per sample; expecting %d\"\n\u001b[0;32m--> 262\u001b[0;31m                              % (X.shape[1], n_features))\n\u001b[0m\u001b[1;32m    263\u001b[0m \u001b[0;34m\u001b[0m\u001b[0m\n\u001b[1;32m    264\u001b[0m         scores = safe_sparse_dot(X, self.coef_.T,\n",
      "\u001b[0;31mValueError\u001b[0m: X has 1 features per sample; expecting 13"
     ]
    }
   ],
   "source": [
    "    classifier.decision_function(X_pour_de_vrai.reshape(13,1))"
   ]
  },
  {
   "cell_type": "code",
   "execution_count": 168,
   "metadata": {},
   "outputs": [
    {
     "data": {
      "text/plain": [
       "array([[ 0.15089687,  0.84910313]])"
      ]
     },
     "execution_count": 168,
     "metadata": {},
     "output_type": "execute_result"
    }
   ],
   "source": [
    "classifier.predict_proba(X_pour_de_vrai)"
   ]
  },
  {
   "cell_type": "code",
   "execution_count": 172,
   "metadata": {},
   "outputs": [
    {
     "data": {
      "text/plain": [
       "array([ 1.72758402])"
      ]
     },
     "execution_count": 172,
     "metadata": {},
     "output_type": "execute_result"
    }
   ],
   "source": [
    "classifier.decision_function(X_pour_de_vrai)"
   ]
  },
  {
   "cell_type": "code",
   "execution_count": 173,
   "metadata": {},
   "outputs": [
    {
     "data": {
      "text/plain": [
       "LogisticRegression(C=1.0, class_weight=None, dual=False, fit_intercept=True,\n",
       "          intercept_scaling=1, max_iter=100, multi_class='warn',\n",
       "          n_jobs=None, penalty='l2', random_state=0, solver='lbfgs',\n",
       "          tol=0.0001, verbose=0, warm_start=False)"
      ]
     },
     "execution_count": 173,
     "metadata": {},
     "output_type": "execute_result"
    }
   ],
   "source": [
    "classifier.densify()"
   ]
  },
  {
   "cell_type": "code",
   "execution_count": 176,
   "metadata": {},
   "outputs": [
    {
     "data": {
      "text/plain": [
       "array([ 1.])"
      ]
     },
     "execution_count": 176,
     "metadata": {},
     "output_type": "execute_result"
    }
   ],
   "source": [
    "classifier.predict(X_pour_de_vrai)"
   ]
  },
  {
   "cell_type": "code",
   "execution_count": null,
   "metadata": {},
   "outputs": [],
   "source": []
  },
  {
   "cell_type": "code",
   "execution_count": null,
   "metadata": {},
   "outputs": [],
   "source": []
  },
  {
   "cell_type": "code",
   "execution_count": null,
   "metadata": {},
   "outputs": [],
   "source": []
  },
  {
   "cell_type": "code",
   "execution_count": null,
   "metadata": {},
   "outputs": [],
   "source": []
  },
  {
   "cell_type": "code",
   "execution_count": null,
   "metadata": {},
   "outputs": [],
   "source": []
  },
  {
   "cell_type": "code",
   "execution_count": null,
   "metadata": {},
   "outputs": [],
   "source": []
  },
  {
   "cell_type": "code",
   "execution_count": null,
   "metadata": {},
   "outputs": [],
   "source": [
    "simanim"
   ]
  },
  {
   "cell_type": "code",
   "execution_count": null,
   "metadata": {},
   "outputs": [],
   "source": []
  }
 ],
 "metadata": {
  "kernelspec": {
   "display_name": "Python 3",
   "language": "python",
   "name": "python3"
  },
  "language_info": {
   "codemirror_mode": {
    "name": "ipython",
    "version": 3
   },
   "file_extension": ".py",
   "mimetype": "text/x-python",
   "name": "python",
   "nbconvert_exporter": "python",
   "pygments_lexer": "ipython3",
   "version": "3.6.8"
  }
 },
 "nbformat": 4,
 "nbformat_minor": 2
}
