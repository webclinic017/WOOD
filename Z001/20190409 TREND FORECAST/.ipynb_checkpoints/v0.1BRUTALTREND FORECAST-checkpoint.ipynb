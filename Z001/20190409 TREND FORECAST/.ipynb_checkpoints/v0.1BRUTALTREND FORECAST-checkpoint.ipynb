{
 "cells": [
  {
   "cell_type": "code",
   "execution_count": 202,
   "metadata": {},
   "outputs": [],
   "source": [
    "___Author___='LumberJack Jyss'"
   ]
  },
  {
   "cell_type": "code",
   "execution_count": 203,
   "metadata": {},
   "outputs": [
    {
     "name": "stdout",
     "output_type": "stream",
     "text": [
      "LumberJack Trading AtidotCom TREND FORECAST\n",
      "LumberJack Jyss (c)\n"
     ]
    }
   ],
   "source": [
    "print('LumberJack Trading AtidotCom TREND FORECAST\\nLumberJack Jyss (c)')"
   ]
  },
  {
   "cell_type": "code",
   "execution_count": 204,
   "metadata": {},
   "outputs": [
    {
     "name": "stdout",
     "output_type": "stream",
     "text": [
      "Importation des librairies...\n",
      "Librairies importées\n"
     ]
    }
   ],
   "source": [
    "print('Importation des librairies...')\n",
    "import yahoofinancials\n",
    "from yahoofinancials import YahooFinancials\n",
    "import talib\n",
    "import time\n",
    "import numpy as np\n",
    "import pandas as pd\n",
    "from pandas.plotting import register_matplotlib_converters\n",
    "import pandas_datareader as web\n",
    "import matplotlib.pyplot as plt\n",
    "from sklearn.linear_model import LogisticRegression\n",
    "from sklearn.metrics import roc_auc_score\n",
    "from sklearn.metrics import roc_curve\n",
    "from sklearn import model_selection\n",
    "from sklearn.model_selection import cross_val_score\n",
    "from sklearn.model_selection import train_test_split\n",
    "import seaborn as sns\n",
    "print('Librairies importées')"
   ]
  },
  {
   "cell_type": "code",
   "execution_count": 205,
   "metadata": {},
   "outputs": [
    {
     "name": "stdout",
     "output_type": "stream",
     "text": [
      "Période d'étude :  2960\n",
      "Sur un découpage 80% - 20% de la période : \n",
      "Bloc 1 :  2368  jours \n",
      "Bloc 2 : 592  jours\n"
     ]
    }
   ],
   "source": [
    "# PARAMETRES TEMPORELS INITIAUX\n",
    "start = pd.to_datetime('2011-03-03')\n",
    "end = pd.to_datetime('2019-04-10')\n",
    "delta = round((end-start).days)\n",
    "bloc1 = round(delta*0.8)\n",
    "bloc2 = delta - bloc1\n",
    "print(\"Période d'étude : \",delta)\n",
    "print('Sur un découpage 80% - 20% de la période : ')\n",
    "print('Bloc 1 : ',bloc1,' jours \\nBloc 2 :',bloc2,' jours')"
   ]
  },
  {
   "cell_type": "code",
   "execution_count": 222,
   "metadata": {},
   "outputs": [
    {
     "data": {
      "text/plain": [
       "(2040, 6)"
      ]
     },
     "execution_count": 222,
     "metadata": {},
     "output_type": "execute_result"
    }
   ],
   "source": [
    "# SCRAPING DES DONNES BRUTES\n",
    "spy = web.DataReader('SPY','yahoo',start,end)\n",
    "spy.shape"
   ]
  },
  {
   "cell_type": "code",
   "execution_count": 223,
   "metadata": {},
   "outputs": [
    {
     "data": {
      "text/html": [
       "<div>\n",
       "<style scoped>\n",
       "    .dataframe tbody tr th:only-of-type {\n",
       "        vertical-align: middle;\n",
       "    }\n",
       "\n",
       "    .dataframe tbody tr th {\n",
       "        vertical-align: top;\n",
       "    }\n",
       "\n",
       "    .dataframe thead th {\n",
       "        text-align: right;\n",
       "    }\n",
       "</style>\n",
       "<table border=\"1\" class=\"dataframe\">\n",
       "  <thead>\n",
       "    <tr style=\"text-align: right;\">\n",
       "      <th></th>\n",
       "      <th>High</th>\n",
       "      <th>Low</th>\n",
       "      <th>Open</th>\n",
       "      <th>Close</th>\n",
       "      <th>Volume</th>\n",
       "      <th>Adj Close</th>\n",
       "    </tr>\n",
       "    <tr>\n",
       "      <th>Date</th>\n",
       "      <th></th>\n",
       "      <th></th>\n",
       "      <th></th>\n",
       "      <th></th>\n",
       "      <th></th>\n",
       "      <th></th>\n",
       "    </tr>\n",
       "  </thead>\n",
       "  <tbody>\n",
       "    <tr>\n",
       "      <th>2011-03-03</th>\n",
       "      <td>133.619995</td>\n",
       "      <td>132.389999</td>\n",
       "      <td>132.399994</td>\n",
       "      <td>133.470001</td>\n",
       "      <td>176480100.0</td>\n",
       "      <td>113.035248</td>\n",
       "    </tr>\n",
       "    <tr>\n",
       "      <th>2011-03-04</th>\n",
       "      <td>133.630005</td>\n",
       "      <td>131.600006</td>\n",
       "      <td>133.369995</td>\n",
       "      <td>132.470001</td>\n",
       "      <td>277202300.0</td>\n",
       "      <td>112.188354</td>\n",
       "    </tr>\n",
       "    <tr>\n",
       "      <th>2011-03-07</th>\n",
       "      <td>133.160004</td>\n",
       "      <td>130.740005</td>\n",
       "      <td>132.860001</td>\n",
       "      <td>131.429993</td>\n",
       "      <td>216790400.0</td>\n",
       "      <td>111.307579</td>\n",
       "    </tr>\n",
       "    <tr>\n",
       "      <th>2011-03-08</th>\n",
       "      <td>133.000000</td>\n",
       "      <td>131.070007</td>\n",
       "      <td>131.639999</td>\n",
       "      <td>132.580002</td>\n",
       "      <td>174615000.0</td>\n",
       "      <td>112.281494</td>\n",
       "    </tr>\n",
       "    <tr>\n",
       "      <th>2011-03-09</th>\n",
       "      <td>132.800003</td>\n",
       "      <td>131.600006</td>\n",
       "      <td>132.320007</td>\n",
       "      <td>132.389999</td>\n",
       "      <td>153806000.0</td>\n",
       "      <td>112.120583</td>\n",
       "    </tr>\n",
       "  </tbody>\n",
       "</table>\n",
       "</div>"
      ],
      "text/plain": [
       "                  High         Low        Open       Close       Volume  \\\n",
       "Date                                                                      \n",
       "2011-03-03  133.619995  132.389999  132.399994  133.470001  176480100.0   \n",
       "2011-03-04  133.630005  131.600006  133.369995  132.470001  277202300.0   \n",
       "2011-03-07  133.160004  130.740005  132.860001  131.429993  216790400.0   \n",
       "2011-03-08  133.000000  131.070007  131.639999  132.580002  174615000.0   \n",
       "2011-03-09  132.800003  131.600006  132.320007  132.389999  153806000.0   \n",
       "\n",
       "             Adj Close  \n",
       "Date                    \n",
       "2011-03-03  113.035248  \n",
       "2011-03-04  112.188354  \n",
       "2011-03-07  111.307579  \n",
       "2011-03-08  112.281494  \n",
       "2011-03-09  112.120583  "
      ]
     },
     "execution_count": 223,
     "metadata": {},
     "output_type": "execute_result"
    }
   ],
   "source": [
    "spy.head()"
   ]
  },
  {
   "cell_type": "code",
   "execution_count": 224,
   "metadata": {},
   "outputs": [
    {
     "data": {
      "text/html": [
       "<div>\n",
       "<style scoped>\n",
       "    .dataframe tbody tr th:only-of-type {\n",
       "        vertical-align: middle;\n",
       "    }\n",
       "\n",
       "    .dataframe tbody tr th {\n",
       "        vertical-align: top;\n",
       "    }\n",
       "\n",
       "    .dataframe thead th {\n",
       "        text-align: right;\n",
       "    }\n",
       "</style>\n",
       "<table border=\"1\" class=\"dataframe\">\n",
       "  <thead>\n",
       "    <tr style=\"text-align: right;\">\n",
       "      <th></th>\n",
       "      <th>High</th>\n",
       "      <th>Low</th>\n",
       "      <th>Open</th>\n",
       "      <th>Close</th>\n",
       "      <th>Volume</th>\n",
       "      <th>Adj Close</th>\n",
       "    </tr>\n",
       "    <tr>\n",
       "      <th>Date</th>\n",
       "      <th></th>\n",
       "      <th></th>\n",
       "      <th></th>\n",
       "      <th></th>\n",
       "      <th></th>\n",
       "      <th></th>\n",
       "    </tr>\n",
       "  </thead>\n",
       "  <tbody>\n",
       "    <tr>\n",
       "      <th>2019-04-04</th>\n",
       "      <td>287.459991</td>\n",
       "      <td>286.010010</td>\n",
       "      <td>286.779999</td>\n",
       "      <td>287.179993</td>\n",
       "      <td>48997500.0</td>\n",
       "      <td>287.179993</td>\n",
       "    </tr>\n",
       "    <tr>\n",
       "      <th>2019-04-05</th>\n",
       "      <td>288.630005</td>\n",
       "      <td>287.600006</td>\n",
       "      <td>287.920013</td>\n",
       "      <td>288.570007</td>\n",
       "      <td>58621700.0</td>\n",
       "      <td>288.570007</td>\n",
       "    </tr>\n",
       "    <tr>\n",
       "      <th>2019-04-08</th>\n",
       "      <td>288.910004</td>\n",
       "      <td>287.369995</td>\n",
       "      <td>288.100006</td>\n",
       "      <td>288.790009</td>\n",
       "      <td>53566300.0</td>\n",
       "      <td>288.790009</td>\n",
       "    </tr>\n",
       "    <tr>\n",
       "      <th>2019-04-09</th>\n",
       "      <td>288.079987</td>\n",
       "      <td>286.700012</td>\n",
       "      <td>287.720001</td>\n",
       "      <td>287.309998</td>\n",
       "      <td>66107100.0</td>\n",
       "      <td>287.309998</td>\n",
       "    </tr>\n",
       "    <tr>\n",
       "      <th>2019-04-10</th>\n",
       "      <td>287.975006</td>\n",
       "      <td>287.320007</td>\n",
       "      <td>287.769989</td>\n",
       "      <td>287.799988</td>\n",
       "      <td>14184668.0</td>\n",
       "      <td>287.799988</td>\n",
       "    </tr>\n",
       "  </tbody>\n",
       "</table>\n",
       "</div>"
      ],
      "text/plain": [
       "                  High         Low        Open       Close      Volume  \\\n",
       "Date                                                                     \n",
       "2019-04-04  287.459991  286.010010  286.779999  287.179993  48997500.0   \n",
       "2019-04-05  288.630005  287.600006  287.920013  288.570007  58621700.0   \n",
       "2019-04-08  288.910004  287.369995  288.100006  288.790009  53566300.0   \n",
       "2019-04-09  288.079987  286.700012  287.720001  287.309998  66107100.0   \n",
       "2019-04-10  287.975006  287.320007  287.769989  287.799988  14184668.0   \n",
       "\n",
       "             Adj Close  \n",
       "Date                    \n",
       "2019-04-04  287.179993  \n",
       "2019-04-05  288.570007  \n",
       "2019-04-08  288.790009  \n",
       "2019-04-09  287.309998  \n",
       "2019-04-10  287.799988  "
      ]
     },
     "execution_count": 224,
     "metadata": {},
     "output_type": "execute_result"
    }
   ],
   "source": [
    "spy.tail()"
   ]
  },
  {
   "cell_type": "code",
   "execution_count": 225,
   "metadata": {},
   "outputs": [
    {
     "data": {
      "text/plain": [
       "0"
      ]
     },
     "execution_count": 225,
     "metadata": {},
     "output_type": "execute_result"
    }
   ],
   "source": [
    "# NOMBRE DE NaN\n",
    "spy.isnull().sum().sum()"
   ]
  },
  {
   "cell_type": "code",
   "execution_count": 226,
   "metadata": {},
   "outputs": [
    {
     "data": {
      "text/plain": [
       "2040"
      ]
     },
     "execution_count": 226,
     "metadata": {},
     "output_type": "execute_result"
    }
   ],
   "source": [
    "len(spy)"
   ]
  },
  {
   "cell_type": "code",
   "execution_count": 227,
   "metadata": {},
   "outputs": [],
   "source": [
    "# DEFINITION DU DATAFRAME DES SIMANIM\n",
    "simanim = pd.DataFrame(index=spy.index)"
   ]
  },
  {
   "cell_type": "code",
   "execution_count": 228,
   "metadata": {},
   "outputs": [],
   "source": [
    "# DEFINITIONS DES SIMANIM\n",
    "\n",
    "# ema8 = talib.EMA(spy['Close'], timeperiod=8) # => Coorelation\n",
    "# simanim['ema8'] = ema8\n",
    "\n",
    "# ema34 = talib.EMA(spy['Close'], timeperiod=34) # => Coorelation\n",
    "# simanim['ema34'] = ema34\n",
    "\n",
    "#atr8 = talib.EMA(spy['Close'], timeperiod=8) # => Coorelation\n",
    "#simanim['atr8'] = atr8\n",
    "\n",
    "rsi = talib.RSI(spy['Close'], timeperiod=21)\n",
    "simanim['rsi'] = rsi\n",
    "\n",
    "macd, macdsignal, macdhist = talib.MACD(spy['Close'], fastperiod=12, slowperiod=26, signalperiod=9)\n",
    "simanim['macd'] = macd\n",
    "#simanim['macdsignal'] = macdsignal\n",
    "#simanim['macdhist'] = macdhist\n",
    "\n",
    "fastk, fastd = talib.STOCHRSI(spy['Close'], timeperiod=14, fastk_period=5, fastd_period=3, fastd_matype=0)\n",
    "simanim['fastk'] = fastk\n",
    "#simanim['fastd'] = fastd\n",
    "\n",
    "# ad = talib.AD(spy['High'], spy['Low'], spy['Close'], spy['Volume']) # => Coorelation\n",
    "# simanim['ad'] = ad\n",
    "\n",
    "atr14 = talib.ATR(spy['High'], spy['Low'], spy['Close'], timeperiod=14)\n",
    "simanim['atr14'] = atr14\n",
    "\n",
    "wclprice = talib.WCLPRICE(spy['High'], spy['Low'], spy['Close'])\n",
    "simanim['wclprice'] = wclprice\n",
    "\n",
    "sine, leadsine = talib.HT_SINE(spy['Close'])\n",
    "simanim['sine'] = sine\n",
    "simanim['leadsine'] = leadsine\n",
    "\n",
    "instant_trendline = talib.HT_TRENDLINE(spy['Close'])\n",
    "simanim['instant_trendline'] = instant_trendline\n",
    "\n",
    "#midprice5 = talib.MIDPRICE(spy['High'],spy['Low'], timeperiod=5) # Correlation \n",
    "#simanim['midprice5'] = midprice5\n",
    "\n",
    "ultosc = talib.ULTOSC(spy['High'], spy['Low'], spy['Close'], timeperiod1=5, timeperiod2=9, timeperiod3=13)\n",
    "simanim['ultosc'] = ultosc\n",
    "\n",
    "obv = talib.OBV(spy['Close'], spy['Volume'])\n",
    "simanim['obv'] = obv\n",
    "\n",
    "ht_trendmode = talib.HT_TRENDMODE(spy['Close'])\n",
    "simanim['ht_trendmode'] = ht_trendmode"
   ]
  },
  {
   "cell_type": "code",
   "execution_count": 258,
   "metadata": {},
   "outputs": [
    {
     "data": {
      "text/html": [
       "<div>\n",
       "<style scoped>\n",
       "    .dataframe tbody tr th:only-of-type {\n",
       "        vertical-align: middle;\n",
       "    }\n",
       "\n",
       "    .dataframe tbody tr th {\n",
       "        vertical-align: top;\n",
       "    }\n",
       "\n",
       "    .dataframe thead th {\n",
       "        text-align: right;\n",
       "    }\n",
       "</style>\n",
       "<table border=\"1\" class=\"dataframe\">\n",
       "  <thead>\n",
       "    <tr style=\"text-align: right;\">\n",
       "      <th></th>\n",
       "      <th>rsi</th>\n",
       "      <th>macd</th>\n",
       "      <th>fastk</th>\n",
       "      <th>atr14</th>\n",
       "      <th>wclprice</th>\n",
       "      <th>sine</th>\n",
       "      <th>leadsine</th>\n",
       "      <th>instant_trendline</th>\n",
       "      <th>ultosc</th>\n",
       "      <th>obv</th>\n",
       "      <th>ht_trendmode</th>\n",
       "      <th>trend</th>\n",
       "      <th>hausse</th>\n",
       "    </tr>\n",
       "    <tr>\n",
       "      <th>Date</th>\n",
       "      <th></th>\n",
       "      <th></th>\n",
       "      <th></th>\n",
       "      <th></th>\n",
       "      <th></th>\n",
       "      <th></th>\n",
       "      <th></th>\n",
       "      <th></th>\n",
       "      <th></th>\n",
       "      <th></th>\n",
       "      <th></th>\n",
       "      <th></th>\n",
       "      <th></th>\n",
       "    </tr>\n",
       "  </thead>\n",
       "  <tbody>\n",
       "    <tr>\n",
       "      <th>2019-02-14</th>\n",
       "      <td>60.544509</td>\n",
       "      <td>3.752310</td>\n",
       "      <td>73.984874</td>\n",
       "      <td>3.327827</td>\n",
       "      <td>274.317505</td>\n",
       "      <td>-0.275404</td>\n",
       "      <td>-0.874502</td>\n",
       "      <td>262.687130</td>\n",
       "      <td>70.332938</td>\n",
       "      <td>3.017754e+09</td>\n",
       "      <td>1</td>\n",
       "      <td>0.011080</td>\n",
       "      <td>1.0</td>\n",
       "    </tr>\n",
       "    <tr>\n",
       "      <th>2019-02-15</th>\n",
       "      <td>63.283665</td>\n",
       "      <td>3.972210</td>\n",
       "      <td>100.000000</td>\n",
       "      <td>3.306553</td>\n",
       "      <td>277.070000</td>\n",
       "      <td>-0.188373</td>\n",
       "      <td>-0.827648</td>\n",
       "      <td>264.319323</td>\n",
       "      <td>71.719522</td>\n",
       "      <td>3.114843e+09</td>\n",
       "      <td>1</td>\n",
       "      <td>0.006381</td>\n",
       "      <td>1.0</td>\n",
       "    </tr>\n",
       "    <tr>\n",
       "      <th>2019-02-19</th>\n",
       "      <td>63.708369</td>\n",
       "      <td>4.137521</td>\n",
       "      <td>100.000000</td>\n",
       "      <td>3.221084</td>\n",
       "      <td>277.687500</td>\n",
       "      <td>-0.149146</td>\n",
       "      <td>-0.804660</td>\n",
       "      <td>265.636032</td>\n",
       "      <td>72.519503</td>\n",
       "      <td>3.173964e+09</td>\n",
       "      <td>1</td>\n",
       "      <td>0.006010</td>\n",
       "      <td>1.0</td>\n",
       "    </tr>\n",
       "    <tr>\n",
       "      <th>2019-02-20</th>\n",
       "      <td>64.215415</td>\n",
       "      <td>4.264559</td>\n",
       "      <td>100.000000</td>\n",
       "      <td>3.110293</td>\n",
       "      <td>278.247505</td>\n",
       "      <td>-0.113119</td>\n",
       "      <td>-0.782555</td>\n",
       "      <td>266.846601</td>\n",
       "      <td>69.307759</td>\n",
       "      <td>3.250574e+09</td>\n",
       "      <td>1</td>\n",
       "      <td>0.003269</td>\n",
       "      <td>1.0</td>\n",
       "    </tr>\n",
       "    <tr>\n",
       "      <th>2019-02-21</th>\n",
       "      <td>62.592130</td>\n",
       "      <td>4.236517</td>\n",
       "      <td>41.091562</td>\n",
       "      <td>3.035272</td>\n",
       "      <td>277.322510</td>\n",
       "      <td>-0.115535</td>\n",
       "      <td>-0.784067</td>\n",
       "      <td>267.802581</td>\n",
       "      <td>70.624043</td>\n",
       "      <td>3.186360e+09</td>\n",
       "      <td>1</td>\n",
       "      <td>0.006416</td>\n",
       "      <td>1.0</td>\n",
       "    </tr>\n",
       "  </tbody>\n",
       "</table>\n",
       "</div>"
      ],
      "text/plain": [
       "                  rsi      macd       fastk     atr14    wclprice      sine  \\\n",
       "Date                                                                          \n",
       "2019-02-14  60.544509  3.752310   73.984874  3.327827  274.317505 -0.275404   \n",
       "2019-02-15  63.283665  3.972210  100.000000  3.306553  277.070000 -0.188373   \n",
       "2019-02-19  63.708369  4.137521  100.000000  3.221084  277.687500 -0.149146   \n",
       "2019-02-20  64.215415  4.264559  100.000000  3.110293  278.247505 -0.113119   \n",
       "2019-02-21  62.592130  4.236517   41.091562  3.035272  277.322510 -0.115535   \n",
       "\n",
       "            leadsine  instant_trendline     ultosc           obv  \\\n",
       "Date                                                               \n",
       "2019-02-14 -0.874502         262.687130  70.332938  3.017754e+09   \n",
       "2019-02-15 -0.827648         264.319323  71.719522  3.114843e+09   \n",
       "2019-02-19 -0.804660         265.636032  72.519503  3.173964e+09   \n",
       "2019-02-20 -0.782555         266.846601  69.307759  3.250574e+09   \n",
       "2019-02-21 -0.784067         267.802581  70.624043  3.186360e+09   \n",
       "\n",
       "            ht_trendmode     trend  hausse  \n",
       "Date                                        \n",
       "2019-02-14             1  0.011080     1.0  \n",
       "2019-02-15             1  0.006381     1.0  \n",
       "2019-02-19             1  0.006010     1.0  \n",
       "2019-02-20             1  0.003269     1.0  \n",
       "2019-02-21             1  0.006416     1.0  "
      ]
     },
     "execution_count": 258,
     "metadata": {},
     "output_type": "execute_result"
    }
   ],
   "source": [
    "backtest_inputs = pd.DataFrame(index=spy.index)\n",
    "backtest_inputs = simanim.iloc[-30:,:]\n",
    "backtest_inputs.tail()"
   ]
  },
  {
   "cell_type": "code",
   "execution_count": null,
   "metadata": {},
   "outputs": [],
   "source": []
  },
  {
   "cell_type": "code",
   "execution_count": 231,
   "metadata": {},
   "outputs": [],
   "source": [
    "backtest_outputs = pd.DataFrame(index=backtest_inputs.index)\n",
    "simanim = simanim.iloc[:-30,:]"
   ]
  },
  {
   "cell_type": "code",
   "execution_count": 234,
   "metadata": {},
   "outputs": [],
   "source": [
    "# TREND GLISSANT 5 JOURS COEF +atr14*2\n",
    "trend5 = []\n",
    "hausse = []\n",
    "baisse = []\n",
    "stagne = []"
   ]
  },
  {
   "cell_type": "code",
   "execution_count": 235,
   "metadata": {},
   "outputs": [],
   "source": [
    "for i in range(0,len(simanim)-4):\n",
    "    \n",
    "    ii = 0.02\n",
    "    jour = spy.iloc[i,3]\n",
    "    jour2 = spy.iloc[i+1,3]\n",
    "    jour3 = spy.iloc[i+2,3]\n",
    "    jour4 = spy.iloc[i+3,3]\n",
    "    jour5 = spy.iloc[i+4,3]\n",
    "    moy = (jour2+jour3+jour4+jour5)/4\n",
    "    jtest = jour+(jour*ii)\n",
    "    trend5.append((jour5-jour)/jour)\n",
    "    \n",
    "    if jtest>moy:\n",
    "        hausse.append(1)\n",
    "        baisse.append(0)\n",
    "        stagne.append(0)\n",
    "    \n",
    "    elif jtest<moy:\n",
    "        hausse.append(0)\n",
    "        baisse.append(1)\n",
    "        stagne.append(0)\n",
    "\n",
    "\n",
    "      \n",
    "    else :\n",
    "        hausse.append(0)\n",
    "        baisse.append(0)\n",
    "        stagne.append(1)\n",
    "\n",
    "nb_row= len(hausse)\n",
    "simanim.loc[:nb_row,'trend'] = trend5\n",
    "\n",
    "simanim.loc[:nb_row,'hausse'] = hausse\n",
    "\n",
    "#simanim.loc[:nb_row,'baisse'] = baisse\n",
    "\n",
    "#simanim.loc[:nb_row,'stagne'] = stagne"
   ]
  },
  {
   "cell_type": "code",
   "execution_count": 236,
   "metadata": {},
   "outputs": [
    {
     "data": {
      "text/html": [
       "<div>\n",
       "<style scoped>\n",
       "    .dataframe tbody tr th:only-of-type {\n",
       "        vertical-align: middle;\n",
       "    }\n",
       "\n",
       "    .dataframe tbody tr th {\n",
       "        vertical-align: top;\n",
       "    }\n",
       "\n",
       "    .dataframe thead th {\n",
       "        text-align: right;\n",
       "    }\n",
       "</style>\n",
       "<table border=\"1\" class=\"dataframe\">\n",
       "  <thead>\n",
       "    <tr style=\"text-align: right;\">\n",
       "      <th></th>\n",
       "      <th>rsi</th>\n",
       "      <th>macd</th>\n",
       "      <th>fastk</th>\n",
       "      <th>atr14</th>\n",
       "      <th>wclprice</th>\n",
       "      <th>sine</th>\n",
       "      <th>leadsine</th>\n",
       "      <th>instant_trendline</th>\n",
       "      <th>ultosc</th>\n",
       "      <th>obv</th>\n",
       "      <th>ht_trendmode</th>\n",
       "      <th>trend</th>\n",
       "      <th>hausse</th>\n",
       "    </tr>\n",
       "    <tr>\n",
       "      <th>Date</th>\n",
       "      <th></th>\n",
       "      <th></th>\n",
       "      <th></th>\n",
       "      <th></th>\n",
       "      <th></th>\n",
       "      <th></th>\n",
       "      <th></th>\n",
       "      <th></th>\n",
       "      <th></th>\n",
       "      <th></th>\n",
       "      <th></th>\n",
       "      <th></th>\n",
       "      <th></th>\n",
       "    </tr>\n",
       "  </thead>\n",
       "  <tbody>\n",
       "    <tr>\n",
       "      <th>2019-02-21</th>\n",
       "      <td>62.592130</td>\n",
       "      <td>4.236517</td>\n",
       "      <td>41.091562</td>\n",
       "      <td>3.035272</td>\n",
       "      <td>277.322510</td>\n",
       "      <td>-0.115535</td>\n",
       "      <td>-0.784067</td>\n",
       "      <td>267.802581</td>\n",
       "      <td>70.624043</td>\n",
       "      <td>3.186360e+09</td>\n",
       "      <td>1</td>\n",
       "      <td>0.006416</td>\n",
       "      <td>1.0</td>\n",
       "    </tr>\n",
       "    <tr>\n",
       "      <th>2019-02-22</th>\n",
       "      <td>64.241151</td>\n",
       "      <td>4.303476</td>\n",
       "      <td>78.216810</td>\n",
       "      <td>2.958466</td>\n",
       "      <td>278.760002</td>\n",
       "      <td>-0.109036</td>\n",
       "      <td>-0.779991</td>\n",
       "      <td>268.764903</td>\n",
       "      <td>74.201856</td>\n",
       "      <td>3.264474e+09</td>\n",
       "      <td>1</td>\n",
       "      <td>NaN</td>\n",
       "      <td>NaN</td>\n",
       "    </tr>\n",
       "    <tr>\n",
       "      <th>2019-02-25</th>\n",
       "      <td>64.603096</td>\n",
       "      <td>4.337206</td>\n",
       "      <td>95.110816</td>\n",
       "      <td>2.902146</td>\n",
       "      <td>279.944992</td>\n",
       "      <td>-0.108258</td>\n",
       "      <td>-0.779501</td>\n",
       "      <td>269.638883</td>\n",
       "      <td>61.517092</td>\n",
       "      <td>3.333505e+09</td>\n",
       "      <td>1</td>\n",
       "      <td>NaN</td>\n",
       "      <td>NaN</td>\n",
       "    </tr>\n",
       "    <tr>\n",
       "      <th>2019-02-26</th>\n",
       "      <td>64.243748</td>\n",
       "      <td>4.298252</td>\n",
       "      <td>72.481703</td>\n",
       "      <td>2.794850</td>\n",
       "      <td>279.459999</td>\n",
       "      <td>-0.115823</td>\n",
       "      <td>-0.784247</td>\n",
       "      <td>270.548292</td>\n",
       "      <td>55.887321</td>\n",
       "      <td>3.276661e+09</td>\n",
       "      <td>1</td>\n",
       "      <td>NaN</td>\n",
       "      <td>NaN</td>\n",
       "    </tr>\n",
       "    <tr>\n",
       "      <th>2019-02-27</th>\n",
       "      <td>64.019392</td>\n",
       "      <td>4.209178</td>\n",
       "      <td>61.083194</td>\n",
       "      <td>2.745931</td>\n",
       "      <td>278.867508</td>\n",
       "      <td>-0.183234</td>\n",
       "      <td>-0.824701</td>\n",
       "      <td>271.446518</td>\n",
       "      <td>59.494208</td>\n",
       "      <td>3.219739e+09</td>\n",
       "      <td>1</td>\n",
       "      <td>NaN</td>\n",
       "      <td>NaN</td>\n",
       "    </tr>\n",
       "  </tbody>\n",
       "</table>\n",
       "</div>"
      ],
      "text/plain": [
       "                  rsi      macd      fastk     atr14    wclprice      sine  \\\n",
       "Date                                                                         \n",
       "2019-02-21  62.592130  4.236517  41.091562  3.035272  277.322510 -0.115535   \n",
       "2019-02-22  64.241151  4.303476  78.216810  2.958466  278.760002 -0.109036   \n",
       "2019-02-25  64.603096  4.337206  95.110816  2.902146  279.944992 -0.108258   \n",
       "2019-02-26  64.243748  4.298252  72.481703  2.794850  279.459999 -0.115823   \n",
       "2019-02-27  64.019392  4.209178  61.083194  2.745931  278.867508 -0.183234   \n",
       "\n",
       "            leadsine  instant_trendline     ultosc           obv  \\\n",
       "Date                                                               \n",
       "2019-02-21 -0.784067         267.802581  70.624043  3.186360e+09   \n",
       "2019-02-22 -0.779991         268.764903  74.201856  3.264474e+09   \n",
       "2019-02-25 -0.779501         269.638883  61.517092  3.333505e+09   \n",
       "2019-02-26 -0.784247         270.548292  55.887321  3.276661e+09   \n",
       "2019-02-27 -0.824701         271.446518  59.494208  3.219739e+09   \n",
       "\n",
       "            ht_trendmode     trend  hausse  \n",
       "Date                                        \n",
       "2019-02-21             1  0.006416     1.0  \n",
       "2019-02-22             1       NaN     NaN  \n",
       "2019-02-25             1       NaN     NaN  \n",
       "2019-02-26             1       NaN     NaN  \n",
       "2019-02-27             1       NaN     NaN  "
      ]
     },
     "execution_count": 236,
     "metadata": {},
     "output_type": "execute_result"
    }
   ],
   "source": [
    "simanim.tail()"
   ]
  },
  {
   "cell_type": "code",
   "execution_count": 237,
   "metadata": {},
   "outputs": [
    {
     "data": {
      "text/plain": [
       "0"
      ]
     },
     "execution_count": 237,
     "metadata": {},
     "output_type": "execute_result"
    }
   ],
   "source": [
    "simanim = simanim.dropna()\n",
    "simanim.isnull().sum().sum()"
   ]
  },
  {
   "cell_type": "code",
   "execution_count": 238,
   "metadata": {},
   "outputs": [
    {
     "data": {
      "text/plain": [
       "(1943, 13)"
      ]
     },
     "execution_count": 238,
     "metadata": {},
     "output_type": "execute_result"
    }
   ],
   "source": [
    "simanim.shape"
   ]
  },
  {
   "cell_type": "code",
   "execution_count": 239,
   "metadata": {},
   "outputs": [
    {
     "data": {
      "text/html": [
       "<div>\n",
       "<style scoped>\n",
       "    .dataframe tbody tr th:only-of-type {\n",
       "        vertical-align: middle;\n",
       "    }\n",
       "\n",
       "    .dataframe tbody tr th {\n",
       "        vertical-align: top;\n",
       "    }\n",
       "\n",
       "    .dataframe thead th {\n",
       "        text-align: right;\n",
       "    }\n",
       "</style>\n",
       "<table border=\"1\" class=\"dataframe\">\n",
       "  <thead>\n",
       "    <tr style=\"text-align: right;\">\n",
       "      <th></th>\n",
       "      <th>rsi</th>\n",
       "      <th>macd</th>\n",
       "      <th>fastk</th>\n",
       "      <th>atr14</th>\n",
       "      <th>wclprice</th>\n",
       "      <th>sine</th>\n",
       "      <th>leadsine</th>\n",
       "      <th>instant_trendline</th>\n",
       "      <th>ultosc</th>\n",
       "      <th>obv</th>\n",
       "      <th>ht_trendmode</th>\n",
       "      <th>trend</th>\n",
       "      <th>hausse</th>\n",
       "    </tr>\n",
       "    <tr>\n",
       "      <th>Date</th>\n",
       "      <th></th>\n",
       "      <th></th>\n",
       "      <th></th>\n",
       "      <th></th>\n",
       "      <th></th>\n",
       "      <th></th>\n",
       "      <th></th>\n",
       "      <th></th>\n",
       "      <th></th>\n",
       "      <th></th>\n",
       "      <th></th>\n",
       "      <th></th>\n",
       "      <th></th>\n",
       "    </tr>\n",
       "  </thead>\n",
       "  <tbody>\n",
       "    <tr>\n",
       "      <th>2019-02-14</th>\n",
       "      <td>60.544509</td>\n",
       "      <td>3.752310</td>\n",
       "      <td>73.984874</td>\n",
       "      <td>3.327827</td>\n",
       "      <td>274.317505</td>\n",
       "      <td>-0.275404</td>\n",
       "      <td>-0.874502</td>\n",
       "      <td>262.687130</td>\n",
       "      <td>70.332938</td>\n",
       "      <td>3.017754e+09</td>\n",
       "      <td>1</td>\n",
       "      <td>0.011080</td>\n",
       "      <td>1.0</td>\n",
       "    </tr>\n",
       "    <tr>\n",
       "      <th>2019-02-15</th>\n",
       "      <td>63.283665</td>\n",
       "      <td>3.972210</td>\n",
       "      <td>100.000000</td>\n",
       "      <td>3.306553</td>\n",
       "      <td>277.070000</td>\n",
       "      <td>-0.188373</td>\n",
       "      <td>-0.827648</td>\n",
       "      <td>264.319323</td>\n",
       "      <td>71.719522</td>\n",
       "      <td>3.114843e+09</td>\n",
       "      <td>1</td>\n",
       "      <td>0.006381</td>\n",
       "      <td>1.0</td>\n",
       "    </tr>\n",
       "    <tr>\n",
       "      <th>2019-02-19</th>\n",
       "      <td>63.708369</td>\n",
       "      <td>4.137521</td>\n",
       "      <td>100.000000</td>\n",
       "      <td>3.221084</td>\n",
       "      <td>277.687500</td>\n",
       "      <td>-0.149146</td>\n",
       "      <td>-0.804660</td>\n",
       "      <td>265.636032</td>\n",
       "      <td>72.519503</td>\n",
       "      <td>3.173964e+09</td>\n",
       "      <td>1</td>\n",
       "      <td>0.006010</td>\n",
       "      <td>1.0</td>\n",
       "    </tr>\n",
       "    <tr>\n",
       "      <th>2019-02-20</th>\n",
       "      <td>64.215415</td>\n",
       "      <td>4.264559</td>\n",
       "      <td>100.000000</td>\n",
       "      <td>3.110293</td>\n",
       "      <td>278.247505</td>\n",
       "      <td>-0.113119</td>\n",
       "      <td>-0.782555</td>\n",
       "      <td>266.846601</td>\n",
       "      <td>69.307759</td>\n",
       "      <td>3.250574e+09</td>\n",
       "      <td>1</td>\n",
       "      <td>0.003269</td>\n",
       "      <td>1.0</td>\n",
       "    </tr>\n",
       "    <tr>\n",
       "      <th>2019-02-21</th>\n",
       "      <td>62.592130</td>\n",
       "      <td>4.236517</td>\n",
       "      <td>41.091562</td>\n",
       "      <td>3.035272</td>\n",
       "      <td>277.322510</td>\n",
       "      <td>-0.115535</td>\n",
       "      <td>-0.784067</td>\n",
       "      <td>267.802581</td>\n",
       "      <td>70.624043</td>\n",
       "      <td>3.186360e+09</td>\n",
       "      <td>1</td>\n",
       "      <td>0.006416</td>\n",
       "      <td>1.0</td>\n",
       "    </tr>\n",
       "  </tbody>\n",
       "</table>\n",
       "</div>"
      ],
      "text/plain": [
       "                  rsi      macd       fastk     atr14    wclprice      sine  \\\n",
       "Date                                                                          \n",
       "2019-02-14  60.544509  3.752310   73.984874  3.327827  274.317505 -0.275404   \n",
       "2019-02-15  63.283665  3.972210  100.000000  3.306553  277.070000 -0.188373   \n",
       "2019-02-19  63.708369  4.137521  100.000000  3.221084  277.687500 -0.149146   \n",
       "2019-02-20  64.215415  4.264559  100.000000  3.110293  278.247505 -0.113119   \n",
       "2019-02-21  62.592130  4.236517   41.091562  3.035272  277.322510 -0.115535   \n",
       "\n",
       "            leadsine  instant_trendline     ultosc           obv  \\\n",
       "Date                                                               \n",
       "2019-02-14 -0.874502         262.687130  70.332938  3.017754e+09   \n",
       "2019-02-15 -0.827648         264.319323  71.719522  3.114843e+09   \n",
       "2019-02-19 -0.804660         265.636032  72.519503  3.173964e+09   \n",
       "2019-02-20 -0.782555         266.846601  69.307759  3.250574e+09   \n",
       "2019-02-21 -0.784067         267.802581  70.624043  3.186360e+09   \n",
       "\n",
       "            ht_trendmode     trend  hausse  \n",
       "Date                                        \n",
       "2019-02-14             1  0.011080     1.0  \n",
       "2019-02-15             1  0.006381     1.0  \n",
       "2019-02-19             1  0.006010     1.0  \n",
       "2019-02-20             1  0.003269     1.0  \n",
       "2019-02-21             1  0.006416     1.0  "
      ]
     },
     "execution_count": 239,
     "metadata": {},
     "output_type": "execute_result"
    }
   ],
   "source": [
    "simanim.tail()"
   ]
  },
  {
   "cell_type": "code",
   "execution_count": null,
   "metadata": {},
   "outputs": [],
   "source": []
  },
  {
   "cell_type": "code",
   "execution_count": 241,
   "metadata": {},
   "outputs": [
    {
     "data": {
      "image/png": "[encoded data removed]",
      "text/plain": [
       "<Figure size 1152x432 with 2 Axes>"
      ]
     },
     "metadata": {
      "needs_background": "light"
     },
     "output_type": "display_data"
    }
   ],
   "source": [
    "plt.figure(figsize=(16,6))\n",
    "sns.heatmap(simanim.corr())\n",
    "plt.show()"
   ]
  },
  {
   "cell_type": "code",
   "execution_count": 242,
   "metadata": {},
   "outputs": [],
   "source": [
    "# SPLIT TRAIN ET TEST\n",
    "X = simanim.iloc[:,:-1]\n",
    "y = simanim.iloc[:,-1]\n",
    "X_train, X_test, y_train, y_test = train_test_split(X, y, random_state=0)"
   ]
  },
  {
   "cell_type": "code",
   "execution_count": 243,
   "metadata": {},
   "outputs": [
    {
     "data": {
      "text/plain": [
       "(1457, 12)"
      ]
     },
     "execution_count": 243,
     "metadata": {},
     "output_type": "execute_result"
    }
   ],
   "source": [
    "X_train.shape"
   ]
  },
  {
   "cell_type": "code",
   "execution_count": 244,
   "metadata": {},
   "outputs": [
    {
     "name": "stdout",
     "output_type": "stream",
     "text": [
      "Optimization terminated successfully.\n",
      "         Current function value: 0.051972\n",
      "         Iterations 11\n",
      "                            Results: Logit\n",
      "=======================================================================\n",
      "Model:                 Logit             Pseudo R-squared:  0.716      \n",
      "Dependent Variable:    hausse            AIC:               225.9640   \n",
      "Date:                  2019-04-10 17:16  BIC:               292.8279   \n",
      "No. Observations:      1943              Log-Likelihood:    -100.98    \n",
      "Df Model:              11                LL-Null:           -355.25    \n",
      "Df Residuals:          1931              LLR p-value:       4.8402e-102\n",
      "Converged:             1.0000            Scale:             1.0000     \n",
      "No. Iterations:        11.0000                                         \n",
      "-----------------------------------------------------------------------\n",
      "                    Coef.   Std.Err.    z    P>|z|    [0.025    0.975] \n",
      "-----------------------------------------------------------------------\n",
      "rsi                  0.2420   0.0463  5.2275 0.0000    0.1513    0.3327\n",
      "macd                -0.7301   0.3767 -1.9379 0.0526   -1.4685    0.0083\n",
      "fastk               -0.0138   0.0066 -2.0817 0.0374   -0.0267   -0.0008\n",
      "atr14               -0.0945   0.3725 -0.2537 0.7997   -0.8246    0.6356\n",
      "wclprice             0.0148   0.0953  0.1551 0.8767   -0.1720    0.2016\n",
      "sine                -0.0665   0.6342 -0.1048 0.9165   -1.3095    1.1765\n",
      "leadsine             0.4688   0.5750  0.8152 0.4149   -0.6583    1.5958\n",
      "instant_trendline   -0.0219   0.0932 -0.2351 0.8142   -0.2047    0.1608\n",
      "ultosc              -0.0413   0.0267 -1.5481 0.1216   -0.0936    0.0110\n",
      "obv                  0.0000   0.0000  1.7262 0.0843   -0.0000    0.0000\n",
      "ht_trendmode         0.0892   0.4327  0.2062 0.8366   -0.7589    0.9374\n",
      "trend             -246.7846  27.9436 -8.8315 0.0000 -301.5531 -192.0161\n",
      "=======================================================================\n",
      "\n"
     ]
    }
   ],
   "source": [
    "import statsmodels.api as sm\n",
    "logit_model=sm.Logit(y,X)\n",
    "result=logit_model.fit()\n",
    "print(result.summary2())"
   ]
  },
  {
   "cell_type": "markdown",
   "metadata": {},
   "source": [
    "from sklearn.metrics import roc_auc_score\n",
    "from sklearn.metrics import roc_curve\n",
    "logit_roc_auc = roc_auc_score(y_test, logreg.predict(X_test))\n",
    "fpr, tpr, thresholds = roc_curve(y_test, logreg.predict_proba(X_test)[:,1])\n",
    "plt.figure()\n",
    "plt.plot(fpr, tpr, label='Logistic Regression (area = %0.2f)' % logit_roc_auc)\n",
    "plt.plot([0, 1], [0, 1],'r--')\n",
    "plt.xlim([0.0, 1.0])\n",
    "plt.ylim([0.0, 1.05])\n",
    "plt.xlabel('False Positive Rate')\n",
    "plt.ylabel('True Positive Rate')\n",
    "plt.title('Receiver operating characteristic')\n",
    "plt.legend(loc=\"lower right\")\n",
    "plt.savefig('Log_ROC')\n",
    "plt.show()"
   ]
  },
  {
   "cell_type": "code",
   "execution_count": 245,
   "metadata": {},
   "outputs": [
    {
     "data": {
      "text/plain": [
       "LogisticRegression(C=1.0, class_weight=None, dual=False, fit_intercept=True,\n",
       "          intercept_scaling=1, max_iter=100, multi_class='warn',\n",
       "          n_jobs=None, penalty='l2', random_state=0, solver='lbfgs',\n",
       "          tol=0.0001, verbose=0, warm_start=False)"
      ]
     },
     "execution_count": 245,
     "metadata": {},
     "output_type": "execute_result"
    }
   ],
   "source": [
    "classifier = LogisticRegression(random_state=0,solver='lbfgs')\n",
    "classifier.fit(X_train, y_train)"
   ]
  },
  {
   "cell_type": "code",
   "execution_count": 246,
   "metadata": {},
   "outputs": [
    {
     "name": "stdout",
     "output_type": "stream",
     "text": [
      "[[ 15   8]\n",
      " [ 91 372]]\n"
     ]
    }
   ],
   "source": [
    "y_pred = classifier.predict(X_test)\n",
    "from sklearn.metrics import confusion_matrix\n",
    "confusion_matrix = confusion_matrix(y_test, y_pred)\n",
    "print(confusion_matrix)"
   ]
  },
  {
   "cell_type": "code",
   "execution_count": 247,
   "metadata": {},
   "outputs": [
    {
     "name": "stdout",
     "output_type": "stream",
     "text": [
      "Accuracy de la regression logistique sue le test set: 79.63%\n"
     ]
    }
   ],
   "source": [
    "print('Accuracy de la regression logistique sue le test set: {:.2f}%'.format(classifier.score(X_test, y_test)*100))"
   ]
  },
  {
   "cell_type": "code",
   "execution_count": 248,
   "metadata": {},
   "outputs": [
    {
     "name": "stdout",
     "output_type": "stream",
     "text": [
      "              precision    recall  f1-score   support\n",
      "\n",
      "         0.0       0.14      0.65      0.23        23\n",
      "         1.0       0.98      0.80      0.88       463\n",
      "\n",
      "   micro avg       0.80      0.80      0.80       486\n",
      "   macro avg       0.56      0.73      0.56       486\n",
      "weighted avg       0.94      0.80      0.85       486\n",
      "\n"
     ]
    }
   ],
   "source": [
    "from sklearn.metrics import classification_report\n",
    "print(classification_report(y_test, y_pred))"
   ]
  },
  {
   "cell_type": "code",
   "execution_count": 249,
   "metadata": {},
   "outputs": [
    {
     "name": "stdout",
     "output_type": "stream",
     "text": [
      "The precision is the ratio tp / (tp + fp) where tp is the number of true positives and fp the number of false positives. The precision is intuitively the ability of the classifier to not label a sample as positive if it is negative.The recall is the ratio tp / (tp + fn) where tp is the number of true positives and fn the number of false negatives. The recall is intuitively the ability of the classifier to find all the positive samples.The F-beta score can be interpreted as a weighted harmonic mean of the precision and recall, where an F-beta score reaches its best value at 1 and worst score at 0.The F-beta score weights the recall more than the precision by a factor of beta. beta = 1.0 means recall and precision are equally important.The support is the number of occurrences of each class in y_test.\n"
     ]
    }
   ],
   "source": [
    "print(\"The precision is the ratio tp / (tp + fp) where tp is the number of true positives and fp the number of false positives. The precision is intuitively the ability of the classifier to not label a sample as positive if it is negative.The recall is the ratio tp / (tp + fn) where tp is the number of true positives and fn the number of false negatives. The recall is intuitively the ability of the classifier to find all the positive samples.The F-beta score can be interpreted as a weighted harmonic mean of the precision and recall, where an F-beta score reaches its best value at 1 and worst score at 0.The F-beta score weights the recall more than the precision by a factor of beta. beta = 1.0 means recall and precision are equally important.The support is the number of occurrences of each class in y_test.\")"
   ]
  },
  {
   "cell_type": "code",
   "execution_count": 250,
   "metadata": {
    "slideshow": {
     "slide_type": "-"
    }
   },
   "outputs": [
    {
     "data": {
      "text/plain": [
       "[<matplotlib.lines.Line2D at 0x1c2a96fb38>,\n",
       " <matplotlib.lines.Line2D at 0x1c2a96fc88>]"
      ]
     },
     "execution_count": 250,
     "metadata": {},
     "output_type": "execute_result"
    },
    {
     "data": {
      "image/png": "[encoded data removed]",
      "text/plain": [
       "<Figure size 1152x432 with 1 Axes>"
      ]
     },
     "metadata": {
      "needs_background": "light"
     },
     "output_type": "display_data"
    }
   ],
   "source": [
    "from sklearn.decomposition import PCA\n",
    "X = simanim.iloc[:,:-1]\n",
    "y = simanim.iloc[:,-1]\n",
    "pca = PCA(n_components=2).fit_transform(X)\n",
    "X_train, X_test, y_train, y_test = train_test_split(pca, y, random_state=770)\n",
    "\n",
    "plt.figure(figsize=(16,6))\n",
    "plt.plot(pca)"
   ]
  },
  {
   "cell_type": "code",
   "execution_count": null,
   "metadata": {},
   "outputs": [],
   "source": []
  },
  {
   "cell_type": "code",
   "execution_count": 253,
   "metadata": {},
   "outputs": [
    {
     "name": "stdout",
     "output_type": "stream",
     "text": [
      "                       ==========================> BACKTEST <==========================\n"
     ]
    }
   ],
   "source": [
    "# BACKTEST\n",
    "\n",
    "print('                       ==========================> BACKTEST <==========================')"
   ]
  },
  {
   "cell_type": "code",
   "execution_count": 259,
   "metadata": {},
   "outputs": [
    {
     "data": {
      "text/plain": [
       "(30, 13)"
      ]
     },
     "execution_count": 259,
     "metadata": {},
     "output_type": "execute_result"
    }
   ],
   "source": [
    "backtest_inputs.shape"
   ]
  },
  {
   "cell_type": "code",
   "execution_count": 260,
   "metadata": {},
   "outputs": [
    {
     "data": {
      "text/plain": [
       "0"
      ]
     },
     "execution_count": 260,
     "metadata": {},
     "output_type": "execute_result"
    }
   ],
   "source": [
    "backtest_inputs.isnull().sum().sum()"
   ]
  },
  {
   "cell_type": "code",
   "execution_count": 273,
   "metadata": {},
   "outputs": [
    {
     "data": {
      "text/html": [
       "<div>\n",
       "<style scoped>\n",
       "    .dataframe tbody tr th:only-of-type {\n",
       "        vertical-align: middle;\n",
       "    }\n",
       "\n",
       "    .dataframe tbody tr th {\n",
       "        vertical-align: top;\n",
       "    }\n",
       "\n",
       "    .dataframe thead th {\n",
       "        text-align: right;\n",
       "    }\n",
       "</style>\n",
       "<table border=\"1\" class=\"dataframe\">\n",
       "  <thead>\n",
       "    <tr style=\"text-align: right;\">\n",
       "      <th></th>\n",
       "      <th>rsi</th>\n",
       "      <th>macd</th>\n",
       "      <th>fastk</th>\n",
       "      <th>atr14</th>\n",
       "      <th>wclprice</th>\n",
       "      <th>sine</th>\n",
       "      <th>leadsine</th>\n",
       "      <th>instant_trendline</th>\n",
       "      <th>ultosc</th>\n",
       "      <th>obv</th>\n",
       "      <th>ht_trendmode</th>\n",
       "      <th>trend</th>\n",
       "      <th>hausse</th>\n",
       "    </tr>\n",
       "    <tr>\n",
       "      <th>Date</th>\n",
       "      <th></th>\n",
       "      <th></th>\n",
       "      <th></th>\n",
       "      <th></th>\n",
       "      <th></th>\n",
       "      <th></th>\n",
       "      <th></th>\n",
       "      <th></th>\n",
       "      <th></th>\n",
       "      <th></th>\n",
       "      <th></th>\n",
       "      <th></th>\n",
       "      <th></th>\n",
       "    </tr>\n",
       "  </thead>\n",
       "  <tbody>\n",
       "    <tr>\n",
       "      <th>2019-02-14</th>\n",
       "      <td>60.544509</td>\n",
       "      <td>3.752310</td>\n",
       "      <td>73.984874</td>\n",
       "      <td>3.327827</td>\n",
       "      <td>274.317505</td>\n",
       "      <td>-0.275404</td>\n",
       "      <td>-0.874502</td>\n",
       "      <td>262.687130</td>\n",
       "      <td>70.332938</td>\n",
       "      <td>3.017754e+09</td>\n",
       "      <td>1</td>\n",
       "      <td>0.011080</td>\n",
       "      <td>1.0</td>\n",
       "    </tr>\n",
       "    <tr>\n",
       "      <th>2019-02-15</th>\n",
       "      <td>63.283665</td>\n",
       "      <td>3.972210</td>\n",
       "      <td>100.000000</td>\n",
       "      <td>3.306553</td>\n",
       "      <td>277.070000</td>\n",
       "      <td>-0.188373</td>\n",
       "      <td>-0.827648</td>\n",
       "      <td>264.319323</td>\n",
       "      <td>71.719522</td>\n",
       "      <td>3.114843e+09</td>\n",
       "      <td>1</td>\n",
       "      <td>0.006381</td>\n",
       "      <td>1.0</td>\n",
       "    </tr>\n",
       "    <tr>\n",
       "      <th>2019-02-19</th>\n",
       "      <td>63.708369</td>\n",
       "      <td>4.137521</td>\n",
       "      <td>100.000000</td>\n",
       "      <td>3.221084</td>\n",
       "      <td>277.687500</td>\n",
       "      <td>-0.149146</td>\n",
       "      <td>-0.804660</td>\n",
       "      <td>265.636032</td>\n",
       "      <td>72.519503</td>\n",
       "      <td>3.173964e+09</td>\n",
       "      <td>1</td>\n",
       "      <td>0.006010</td>\n",
       "      <td>1.0</td>\n",
       "    </tr>\n",
       "    <tr>\n",
       "      <th>2019-02-20</th>\n",
       "      <td>64.215415</td>\n",
       "      <td>4.264559</td>\n",
       "      <td>100.000000</td>\n",
       "      <td>3.110293</td>\n",
       "      <td>278.247505</td>\n",
       "      <td>-0.113119</td>\n",
       "      <td>-0.782555</td>\n",
       "      <td>266.846601</td>\n",
       "      <td>69.307759</td>\n",
       "      <td>3.250574e+09</td>\n",
       "      <td>1</td>\n",
       "      <td>0.003269</td>\n",
       "      <td>1.0</td>\n",
       "    </tr>\n",
       "    <tr>\n",
       "      <th>2019-02-21</th>\n",
       "      <td>62.592130</td>\n",
       "      <td>4.236517</td>\n",
       "      <td>41.091562</td>\n",
       "      <td>3.035272</td>\n",
       "      <td>277.322510</td>\n",
       "      <td>-0.115535</td>\n",
       "      <td>-0.784067</td>\n",
       "      <td>267.802581</td>\n",
       "      <td>70.624043</td>\n",
       "      <td>3.186360e+09</td>\n",
       "      <td>1</td>\n",
       "      <td>0.006416</td>\n",
       "      <td>1.0</td>\n",
       "    </tr>\n",
       "  </tbody>\n",
       "</table>\n",
       "</div>"
      ],
      "text/plain": [
       "                  rsi      macd       fastk     atr14    wclprice      sine  \\\n",
       "Date                                                                          \n",
       "2019-02-14  60.544509  3.752310   73.984874  3.327827  274.317505 -0.275404   \n",
       "2019-02-15  63.283665  3.972210  100.000000  3.306553  277.070000 -0.188373   \n",
       "2019-02-19  63.708369  4.137521  100.000000  3.221084  277.687500 -0.149146   \n",
       "2019-02-20  64.215415  4.264559  100.000000  3.110293  278.247505 -0.113119   \n",
       "2019-02-21  62.592130  4.236517   41.091562  3.035272  277.322510 -0.115535   \n",
       "\n",
       "            leadsine  instant_trendline     ultosc           obv  \\\n",
       "Date                                                               \n",
       "2019-02-14 -0.874502         262.687130  70.332938  3.017754e+09   \n",
       "2019-02-15 -0.827648         264.319323  71.719522  3.114843e+09   \n",
       "2019-02-19 -0.804660         265.636032  72.519503  3.173964e+09   \n",
       "2019-02-20 -0.782555         266.846601  69.307759  3.250574e+09   \n",
       "2019-02-21 -0.784067         267.802581  70.624043  3.186360e+09   \n",
       "\n",
       "            ht_trendmode     trend  hausse  \n",
       "Date                                        \n",
       "2019-02-14             1  0.011080     1.0  \n",
       "2019-02-15             1  0.006381     1.0  \n",
       "2019-02-19             1  0.006010     1.0  \n",
       "2019-02-20             1  0.003269     1.0  \n",
       "2019-02-21             1  0.006416     1.0  "
      ]
     },
     "execution_count": 273,
     "metadata": {},
     "output_type": "execute_result"
    }
   ],
   "source": [
    "backtest_inputs.tail()"
   ]
  },
  {
   "cell_type": "code",
   "execution_count": 268,
   "metadata": {},
   "outputs": [],
   "source": [
    "X_pour_de_vrai = np.array(backtest_inputs)\n",
    "X_pour_de_vrai = X_pour_de_vrai.reshape(1,-1)"
   ]
  },
  {
   "cell_type": "code",
   "execution_count": 271,
   "metadata": {},
   "outputs": [
    {
     "data": {
      "text/plain": [
       "array([[  4.85198566e+01,  -3.24221995e+00,   1.00000000e+02,\n",
       "          5.82124704e+00,   2.57760002e+02,   6.74600753e-01,\n",
       "          9.98988820e-01,   2.55311735e+02,   6.35060453e+01,\n",
       "          2.08942050e+09,   1.00000000e+00,   9.22589786e-03,\n",
       "          1.00000000e+00,   4.92350069e+01,  -2.50290226e+00,\n",
       "          1.00000000e+02,   5.66687251e+00,   2.58105003e+02,\n",
       "          7.93907354e-01,   9.91325592e-01,   2.54859450e+02,\n",
       "          7.42990379e+01,   2.18624440e+09,   0.00000000e+00,\n",
       "          8.11188993e-03,   1.00000000e+00,   4.93162524e+01,\n",
       "         -1.88716396e+00,   1.00000000e+02,   5.40352526e+00,\n",
       "          2.58500008e+02,   9.40080281e-01,   9.05827442e-01,\n",
       "          2.54194478e+02,   7.54254274e+01,   2.26010250e+09,\n",
       "          1.00000000e+00,   1.53679060e-02,   1.00000000e+00,\n",
       "          4.80407851e+01,  -1.50928302e+00,   1.07217012e+01,\n",
       "          5.20113112e+00,   2.57377495e+02,   9.95924612e-01,\n",
       "          7.67998738e-01,   2.53632461e+02,   7.37431061e+01,\n",
       "          2.18919430e+09,   1.00000000e+00,   3.51981265e-02,\n",
       "          0.00000000e+00,   5.05481258e+01,  -9.60694033e-01,\n",
       "          1.00000000e+02,   5.06533735e+00,   2.59802505e+02,\n",
       "          9.83737290e-01,   5.68601515e-01,   2.53257420e+02,\n",
       "          7.39116575e+01,   2.27440260e+09,   1.00000000e+00,\n",
       "          9.64078813e-03,   1.00000000e+00,   5.10775072e+01,\n",
       "         -4.69682970e-01,   1.00000000e+02,   4.81924148e+00,\n",
       "          2.61132507e+02,   8.97373669e-01,   3.22512967e-01,\n",
       "          2.52984739e+02,   7.48087267e+01,   2.35203930e+09,\n",
       "          1.00000000e+00,   9.31102986e-03,   1.00000000e+00,\n",
       "          5.27467666e+01,   7.83119799e-02,   1.00000000e+02,\n",
       "          4.75786865e+00,   2.62449997e+02,   8.50661487e-01,\n",
       "          2.29772690e-01,   2.53033942e+02,   7.15228837e+01,\n",
       "          2.44815770e+09,   1.00000000e+00,   2.24367340e-03,\n",
       "          1.00000000e+00,   5.55610965e+01,   7.85962588e-01,\n",
       "          1.00000000e+02,   4.70516514e+00,   2.65724998e+02,\n",
       "          6.84094754e-01,  -3.20308035e-02,   2.53123848e+02,\n",
       "          7.29836434e+01,   2.57605800e+09,   1.00000000e+00,\n",
       "         -2.55195038e-03,   1.00000000e+00,   5.22032161e+01,\n",
       "          1.04425289e+00,   1.86520115e+01,   4.75479577e+00,\n",
       "          2.62959991e+02,   4.77245616e-01,  -2.83920578e-01,\n",
       "          2.53242581e+02,   6.59725949e+01,   2.46052680e+09,\n",
       "          1.00000000e+00,   3.42396890e-03,   1.00000000e+00,\n",
       "          5.26621667e+01,   1.27859287e+00,   1.94187368e+01,\n",
       "          4.71016785e+00,   2.63067505e+02,   4.19478333e-01,\n",
       "         -3.45271060e-01,   2.53484743e+02,   6.48514678e+01,\n",
       "          2.54655710e+09,   1.00000000e+00,   0.00000000e+00,\n",
       "          1.00000000e+00,   5.27833252e+01,   1.45878854e+00,\n",
       "          1.46923448e+01,   4.52515769e+00,   2.63344994e+02,\n",
       "          2.15291208e-01,  -5.38291180e-01,   2.53760861e+02,\n",
       "          6.49819785e+01,   2.60576120e+09,   1.00000000e+00,\n",
       "          1.52912122e-02,   1.00000000e+00,   5.47217649e+01,\n",
       "          1.76123573e+00,   6.44083435e+01,   4.42693389e+00,\n",
       "          2.65480003e+02,   1.69516365e-01,  -5.77006917e-01,\n",
       "          2.54129389e+02,   6.38581759e+01,   2.70264460e+09,\n",
       "          1.00000000e+00,   1.56143950e-02,   1.00000000e+00,\n",
       "          5.26653389e+01,   1.81698598e+00,   2.32360258e+00,\n",
       "          4.39572363e+00,   2.63285004e+02,   1.24439738e-01,\n",
       "         -6.13618376e-01,   2.54506650e+02,   5.89018891e+01,\n",
       "          2.61703090e+09,   1.00000000e+00,   2.38853032e-02,\n",
       "          1.00000000e+00,   5.23077084e+01,   1.81203785e+00,\n",
       "          0.00000000e+00,   4.22959885e+00,   2.63462502e+02,\n",
       "          7.75907974e-02,  -6.50110080e-01,   2.54853687e+02,\n",
       "          6.10832151e+01,   2.55089460e+09,   1.00000000e+00,\n",
       "          3.24588576e-02,   0.00000000e+00,   5.60418998e+01,\n",
       "          2.12015932e+00,   1.00000000e+02,   4.29248360e+00,\n",
       "          2.66982491e+02,   4.16454175e-02,  -6.77045576e-01,\n",
       "          2.55229350e+02,   6.51220722e+01,   2.64336830e+09,\n",
       "          1.00000000e+00,   2.06294185e-02,   1.00000000e+00,\n",
       "          5.79883450e+01,   2.52486854e+00,   1.00000000e+02,\n",
       "          4.21444993e+00,   2.69399994e+02,   2.36101538e-02,\n",
       "         -6.90214769e-01,   2.55643591e+02,   6.67959564e+01,\n",
       "          2.74738040e+09,   1.00000000e+00,   1.04100976e-02,\n",
       "          1.00000000e+00,   5.80961249e+01,   2.82354574e+00,\n",
       "          1.00000000e+02,   4.05770490e+00,   2.70125000e+02,\n",
       "          1.34815886e-01,  -6.05322140e-01,   2.56068267e+02,\n",
       "          6.36446554e+01,   2.83316290e+09,   1.00000000e+00,\n",
       "          2.96293752e-04,   1.00000000e+00,   5.96833338e+01,\n",
       "          3.17694140e+00,   1.00000000e+02,   3.95858408e+00,\n",
       "          2.71327492e+02,   1.24049932e-01,  -6.13928524e-01,\n",
       "          2.56517983e+02,   7.17548224e+01,   2.89390770e+09,\n",
       "          1.00000000e+00,  -5.47871114e-03,   1.00000000e+00,\n",
       "          6.06229925e+01,   3.50855523e+00,   1.00000000e+02,\n",
       "          3.78725647e+00,   2.72880005e+02,   1.12799656e-01,\n",
       "         -6.22832449e-01,   2.56978756e+02,   7.48637628e+01,\n",
       "          2.97346050e+09,   1.00000000e+00,  -9.08096276e-03,\n",
       "          1.00000000e+00,   6.01580707e+01,   3.69966387e+00,\n",
       "          7.64437921e+01,   3.61816551e+00,   2.72684998e+02,\n",
       "         -9.81548500e-02,  -7.73098231e-01,   2.57495473e+02,\n",
       "          7.22678842e+01,   2.91511270e+09,   1.00000000e+00,\n",
       "          4.98649233e-03,   1.00000000e+00,   5.68519057e+01,\n",
       "          3.59982600e+00,   0.00000000e+00,   3.67758095e+00,\n",
       "          2.70030006e+02,  -1.88732324e-01,  -8.27852967e-01,\n",
       "          2.58045542e+02,   6.19620763e+01,   2.81963070e+09,\n",
       "          1.00000000e+00,   1.79535623e-02,   1.00000000e+00,\n",
       "          5.71656236e+01,   3.50690550e+00,   7.01707066e+00,\n",
       "          3.61132517e+00,   2.69837494e+02,  -2.54847275e-01,\n",
       "         -8.63963283e-01,   2.58666710e+02,   7.03907241e+01,\n",
       "          2.89541960e+09,   1.00000000e+00,   1.44563303e-02,\n",
       "          1.00000000e+00,   5.73137500e+01,   3.40610513e+00,\n",
       "          1.03896960e+01,   3.45765847e+00,   2.70689995e+02,\n",
       "         -2.67233822e-01,  -8.70353369e-01,   2.59185706e+02,\n",
       "          6.47081881e+01,   2.96344100e+09,   1.00000000e+00,\n",
       "          2.49427246e-02,   1.00000000e+00,   6.06303832e+01,\n",
       "          3.56592218e+00,   9.52281332e+01,   3.48925386e+00,\n",
       "          2.73764999e+02,  -2.96106715e-01,  -8.84775547e-01,\n",
       "          2.60195507e+02,   6.86083806e+01,   3.03571120e+09,\n",
       "          1.00000000e+00,   1.36811380e-02,   1.00000000e+00,\n",
       "          6.14350084e+01,   3.72149357e+00,   1.00000000e+02,\n",
       "          3.37073477e+00,   2.75117493e+02,  -2.77109456e-01,\n",
       "         -8.75361294e-01,   2.61393504e+02,   6.66008456e+01,\n",
       "          3.10098840e+09,   1.00000000e+00,   1.24368652e-02,\n",
       "          1.00000000e+00,   6.05445089e+01,   3.75231000e+00,\n",
       "          7.39848742e+01,   3.32782654e+00,   2.74317505e+02,\n",
       "         -2.75404201e-01,  -8.74502094e-01,   2.62687130e+02,\n",
       "          7.03329381e+01,   3.01775400e+09,   1.00000000e+00,\n",
       "          1.10795557e-02,   1.00000000e+00,   6.32836646e+01,\n",
       "          3.97221030e+00,   1.00000000e+02,   3.30655312e+00,\n",
       "          2.77070000e+02,  -1.88373402e-01,  -8.27647898e-01,\n",
       "          2.64319323e+02,   7.17195221e+01,   3.11484270e+09,\n",
       "          1.00000000e+00,   6.38143838e-03,   1.00000000e+00,\n",
       "          6.37083687e+01,   4.13752098e+00,   1.00000000e+02,\n",
       "          3.22108400e+00,   2.77687500e+02,  -1.49146164e-01,\n",
       "         -8.04660169e-01,   2.65636032e+02,   7.25195033e+01,\n",
       "          3.17396350e+09,   1.00000000e+00,   6.01037565e-03,\n",
       "          1.00000000e+00,   6.42154147e+01,   4.26455882e+00,\n",
       "          1.00000000e+02,   3.11029324e+00,   2.78247505e+02,\n",
       "         -1.13118683e-01,  -7.82555192e-01,   2.66846601e+02,\n",
       "          6.93077585e+01,   3.25057430e+09,   1.00000000e+00,\n",
       "          3.26857387e-03,   1.00000000e+00,   6.25921300e+01,\n",
       "          4.23651736e+00,   4.10915618e+01,   3.03527212e+00,\n",
       "          2.77322510e+02,  -1.15534682e-01,  -7.84066960e-01,\n",
       "          2.67802581e+02,   7.06240432e+01,   3.18635960e+09,\n",
       "          1.00000000e+00,   6.41625944e-03,   1.00000000e+00]])"
      ]
     },
     "execution_count": 271,
     "metadata": {},
     "output_type": "execute_result"
    }
   ],
   "source": [
    "X_pour_de_vrai"
   ]
  },
  {
   "cell_type": "code",
   "execution_count": 270,
   "metadata": {},
   "outputs": [
    {
     "ename": "ValueError",
     "evalue": "X has 1 features per sample; expecting 12",
     "output_type": "error",
     "traceback": [
      "\u001b[0;31m---------------------------------------------------------------------------\u001b[0m",
      "\u001b[0;31mValueError\u001b[0m                                Traceback (most recent call last)",
      "\u001b[0;32m<ipython-input-270-6b6a4681070e>\u001b[0m in \u001b[0;36m<module>\u001b[0;34m\u001b[0m\n\u001b[0;32m----> 1\u001b[0;31m \u001b[0mclassifier\u001b[0m\u001b[0;34m.\u001b[0m\u001b[0mpredict\u001b[0m\u001b[0;34m(\u001b[0m\u001b[0mX_pour_de_vrai\u001b[0m\u001b[0;34m.\u001b[0m\u001b[0mT\u001b[0m\u001b[0;34m)\u001b[0m\u001b[0;34m\u001b[0m\u001b[0;34m\u001b[0m\u001b[0m\n\u001b[0m",
      "\u001b[0;32m~/Applications/anaconda3/envs/LumberJack/lib/python3.6/site-packages/sklearn/linear_model/base.py\u001b[0m in \u001b[0;36mpredict\u001b[0;34m(self, X)\u001b[0m\n\u001b[1;32m    279\u001b[0m             \u001b[0mPredicted\u001b[0m \u001b[0;32mclass\u001b[0m \u001b[0mlabel\u001b[0m \u001b[0mper\u001b[0m \u001b[0msample\u001b[0m\u001b[0;34m.\u001b[0m\u001b[0;34m\u001b[0m\u001b[0;34m\u001b[0m\u001b[0m\n\u001b[1;32m    280\u001b[0m         \"\"\"\n\u001b[0;32m--> 281\u001b[0;31m         \u001b[0mscores\u001b[0m \u001b[0;34m=\u001b[0m \u001b[0mself\u001b[0m\u001b[0;34m.\u001b[0m\u001b[0mdecision_function\u001b[0m\u001b[0;34m(\u001b[0m\u001b[0mX\u001b[0m\u001b[0;34m)\u001b[0m\u001b[0;34m\u001b[0m\u001b[0;34m\u001b[0m\u001b[0m\n\u001b[0m\u001b[1;32m    282\u001b[0m         \u001b[0;32mif\u001b[0m \u001b[0mlen\u001b[0m\u001b[0;34m(\u001b[0m\u001b[0mscores\u001b[0m\u001b[0;34m.\u001b[0m\u001b[0mshape\u001b[0m\u001b[0;34m)\u001b[0m \u001b[0;34m==\u001b[0m \u001b[0;36m1\u001b[0m\u001b[0;34m:\u001b[0m\u001b[0;34m\u001b[0m\u001b[0;34m\u001b[0m\u001b[0m\n\u001b[1;32m    283\u001b[0m             \u001b[0mindices\u001b[0m \u001b[0;34m=\u001b[0m \u001b[0;34m(\u001b[0m\u001b[0mscores\u001b[0m \u001b[0;34m>\u001b[0m \u001b[0;36m0\u001b[0m\u001b[0;34m)\u001b[0m\u001b[0;34m.\u001b[0m\u001b[0mastype\u001b[0m\u001b[0;34m(\u001b[0m\u001b[0mnp\u001b[0m\u001b[0;34m.\u001b[0m\u001b[0mint\u001b[0m\u001b[0;34m)\u001b[0m\u001b[0;34m\u001b[0m\u001b[0;34m\u001b[0m\u001b[0m\n",
      "\u001b[0;32m~/Applications/anaconda3/envs/LumberJack/lib/python3.6/site-packages/sklearn/linear_model/base.py\u001b[0m in \u001b[0;36mdecision_function\u001b[0;34m(self, X)\u001b[0m\n\u001b[1;32m    260\u001b[0m         \u001b[0;32mif\u001b[0m \u001b[0mX\u001b[0m\u001b[0;34m.\u001b[0m\u001b[0mshape\u001b[0m\u001b[0;34m[\u001b[0m\u001b[0;36m1\u001b[0m\u001b[0;34m]\u001b[0m \u001b[0;34m!=\u001b[0m \u001b[0mn_features\u001b[0m\u001b[0;34m:\u001b[0m\u001b[0;34m\u001b[0m\u001b[0;34m\u001b[0m\u001b[0m\n\u001b[1;32m    261\u001b[0m             raise ValueError(\"X has %d features per sample; expecting %d\"\n\u001b[0;32m--> 262\u001b[0;31m                              % (X.shape[1], n_features))\n\u001b[0m\u001b[1;32m    263\u001b[0m \u001b[0;34m\u001b[0m\u001b[0m\n\u001b[1;32m    264\u001b[0m         scores = safe_sparse_dot(X, self.coef_.T,\n",
      "\u001b[0;31mValueError\u001b[0m: X has 1 features per sample; expecting 12"
     ]
    }
   ],
   "source": [
    "classifier.predict(X_pour_de_vrai)"
   ]
  },
  {
   "cell_type": "code",
   "execution_count": null,
   "metadata": {},
   "outputs": [],
   "source": []
  },
  {
   "cell_type": "code",
   "execution_count": null,
   "metadata": {},
   "outputs": [],
   "source": []
  },
  {
   "cell_type": "code",
   "execution_count": null,
   "metadata": {},
   "outputs": [],
   "source": []
  },
  {
   "cell_type": "code",
   "execution_count": null,
   "metadata": {},
   "outputs": [],
   "source": []
  },
  {
   "cell_type": "code",
   "execution_count": null,
   "metadata": {},
   "outputs": [],
   "source": []
  },
  {
   "cell_type": "code",
   "execution_count": null,
   "metadata": {},
   "outputs": [],
   "source": []
  },
  {
   "cell_type": "code",
   "execution_count": null,
   "metadata": {},
   "outputs": [],
   "source": []
  },
  {
   "cell_type": "code",
   "execution_count": null,
   "metadata": {},
   "outputs": [],
   "source": []
  },
  {
   "cell_type": "code",
   "execution_count": null,
   "metadata": {},
   "outputs": [],
   "source": []
  },
  {
   "cell_type": "code",
   "execution_count": null,
   "metadata": {},
   "outputs": [],
   "source": []
  },
  {
   "cell_type": "code",
   "execution_count": null,
   "metadata": {},
   "outputs": [],
   "source": []
  },
  {
   "cell_type": "code",
   "execution_count": 154,
   "metadata": {},
   "outputs": [],
   "source": [
    "temp = SAVERECORDS\n",
    "temp = temp.drop(['hausse'],axis=0)"
   ]
  },
  {
   "cell_type": "code",
   "execution_count": 147,
   "metadata": {},
   "outputs": [
    {
     "data": {
      "text/plain": [
       "rsi                  6.460310e+01\n",
       "macd                 4.337206e+00\n",
       "fastk                9.511082e+01\n",
       "fastd                7.147306e+01\n",
       "atr14                2.902146e+00\n",
       "wclprice             2.799450e+02\n",
       "sine                -1.082582e-01\n",
       "leadsine            -7.795011e-01\n",
       "instant_trendline    2.696389e+02\n",
       "ultosc               6.151709e+01\n",
       "obv                  3.333505e+09\n",
       "ht_trendmode         1.000000e+00\n",
       "trend                3.219893e-03\n",
       "hausse               1.000000e+00\n",
       "Name: 2019-02-25 00:00:00, dtype: float64"
      ]
     },
     "execution_count": 147,
     "metadata": {},
     "output_type": "execute_result"
    }
   ],
   "source": [
    "temp"
   ]
  },
  {
   "cell_type": "code",
   "execution_count": 165,
   "metadata": {},
   "outputs": [],
   "source": [
    "X_pour_de_vrai = np.array(temp)\n",
    "X_pour_de_vrai = X_pour_de_vrai.reshape(1,-1)"
   ]
  },
  {
   "cell_type": "code",
   "execution_count": 166,
   "metadata": {},
   "outputs": [
    {
     "data": {
      "text/plain": [
       "array([[  6.46030961e+01,   4.33720576e+00,   9.51108156e+01,\n",
       "          7.14730624e+01,   2.90214611e+00,   2.79944992e+02,\n",
       "         -1.08258184e-01,  -7.79501078e-01,   2.69638883e+02,\n",
       "          6.15170920e+01,   3.33350490e+09,   1.00000000e+00,\n",
       "          3.21989285e-03]])"
      ]
     },
     "execution_count": 166,
     "metadata": {},
     "output_type": "execute_result"
    }
   ],
   "source": [
    "X_pour_de_vrai"
   ]
  },
  {
   "cell_type": "code",
   "execution_count": 167,
   "metadata": {},
   "outputs": [
    {
     "ename": "ValueError",
     "evalue": "X has 1 features per sample; expecting 13",
     "output_type": "error",
     "traceback": [
      "\u001b[0;31m---------------------------------------------------------------------------\u001b[0m",
      "\u001b[0;31mValueError\u001b[0m                                Traceback (most recent call last)",
      "\u001b[0;32m<ipython-input-167-a87cba0b834f>\u001b[0m in \u001b[0;36m<module>\u001b[0;34m\u001b[0m\n\u001b[0;32m----> 1\u001b[0;31m \u001b[0mclassifier\u001b[0m\u001b[0;34m.\u001b[0m\u001b[0mdecision_function\u001b[0m\u001b[0;34m(\u001b[0m\u001b[0mX_pour_de_vrai\u001b[0m\u001b[0;34m.\u001b[0m\u001b[0mreshape\u001b[0m\u001b[0;34m(\u001b[0m\u001b[0;36m13\u001b[0m\u001b[0;34m,\u001b[0m\u001b[0;36m1\u001b[0m\u001b[0;34m)\u001b[0m\u001b[0;34m)\u001b[0m\u001b[0;34m\u001b[0m\u001b[0;34m\u001b[0m\u001b[0m\n\u001b[0m",
      "\u001b[0;32m~/Applications/anaconda3/envs/LumberJack/lib/python3.6/site-packages/sklearn/linear_model/base.py\u001b[0m in \u001b[0;36mdecision_function\u001b[0;34m(self, X)\u001b[0m\n\u001b[1;32m    260\u001b[0m         \u001b[0;32mif\u001b[0m \u001b[0mX\u001b[0m\u001b[0;34m.\u001b[0m\u001b[0mshape\u001b[0m\u001b[0;34m[\u001b[0m\u001b[0;36m1\u001b[0m\u001b[0;34m]\u001b[0m \u001b[0;34m!=\u001b[0m \u001b[0mn_features\u001b[0m\u001b[0;34m:\u001b[0m\u001b[0;34m\u001b[0m\u001b[0;34m\u001b[0m\u001b[0m\n\u001b[1;32m    261\u001b[0m             raise ValueError(\"X has %d features per sample; expecting %d\"\n\u001b[0;32m--> 262\u001b[0;31m                              % (X.shape[1], n_features))\n\u001b[0m\u001b[1;32m    263\u001b[0m \u001b[0;34m\u001b[0m\u001b[0m\n\u001b[1;32m    264\u001b[0m         scores = safe_sparse_dot(X, self.coef_.T,\n",
      "\u001b[0;31mValueError\u001b[0m: X has 1 features per sample; expecting 13"
     ]
    }
   ],
   "source": [
    "    classifier.decision_function(X_pour_de_vrai.reshape(13,1))"
   ]
  },
  {
   "cell_type": "code",
   "execution_count": 168,
   "metadata": {},
   "outputs": [
    {
     "data": {
      "text/plain": [
       "array([[ 0.15089687,  0.84910313]])"
      ]
     },
     "execution_count": 168,
     "metadata": {},
     "output_type": "execute_result"
    }
   ],
   "source": [
    "classifier.predict_proba(X_pour_de_vrai)"
   ]
  },
  {
   "cell_type": "code",
   "execution_count": 172,
   "metadata": {},
   "outputs": [
    {
     "data": {
      "text/plain": [
       "array([ 1.72758402])"
      ]
     },
     "execution_count": 172,
     "metadata": {},
     "output_type": "execute_result"
    }
   ],
   "source": [
    "classifier.decision_function(X_pour_de_vrai)"
   ]
  },
  {
   "cell_type": "code",
   "execution_count": 173,
   "metadata": {},
   "outputs": [
    {
     "data": {
      "text/plain": [
       "LogisticRegression(C=1.0, class_weight=None, dual=False, fit_intercept=True,\n",
       "          intercept_scaling=1, max_iter=100, multi_class='warn',\n",
       "          n_jobs=None, penalty='l2', random_state=0, solver='lbfgs',\n",
       "          tol=0.0001, verbose=0, warm_start=False)"
      ]
     },
     "execution_count": 173,
     "metadata": {},
     "output_type": "execute_result"
    }
   ],
   "source": [
    "classifier.densify()"
   ]
  },
  {
   "cell_type": "code",
   "execution_count": 176,
   "metadata": {},
   "outputs": [
    {
     "data": {
      "text/plain": [
       "array([ 1.])"
      ]
     },
     "execution_count": 176,
     "metadata": {},
     "output_type": "execute_result"
    }
   ],
   "source": [
    "classifier.predict(X_pour_de_vrai)"
   ]
  },
  {
   "cell_type": "code",
   "execution_count": null,
   "metadata": {},
   "outputs": [],
   "source": []
  },
  {
   "cell_type": "code",
   "execution_count": null,
   "metadata": {},
   "outputs": [],
   "source": []
  },
  {
   "cell_type": "code",
   "execution_count": null,
   "metadata": {},
   "outputs": [],
   "source": []
  },
  {
   "cell_type": "code",
   "execution_count": null,
   "metadata": {},
   "outputs": [],
   "source": []
  },
  {
   "cell_type": "code",
   "execution_count": null,
   "metadata": {},
   "outputs": [],
   "source": []
  },
  {
   "cell_type": "code",
   "execution_count": null,
   "metadata": {},
   "outputs": [],
   "source": []
  },
  {
   "cell_type": "code",
   "execution_count": null,
   "metadata": {},
   "outputs": [],
   "source": [
    "simanim"
   ]
  },
  {
   "cell_type": "code",
   "execution_count": null,
   "metadata": {},
   "outputs": [],
   "source": []
  }
 ],
 "metadata": {
  "kernelspec": {
   "display_name": "Python 3",
   "language": "python",
   "name": "python3"
  },
  "language_info": {
   "codemirror_mode": {
    "name": "ipython",
    "version": 3
   },
   "file_extension": ".py",
   "mimetype": "text/x-python",
   "name": "python",
   "nbconvert_exporter": "python",
   "pygments_lexer": "ipython3",
   "version": "3.6.8"
  }
 },
 "nbformat": 4,
 "nbformat_minor": 2
}
