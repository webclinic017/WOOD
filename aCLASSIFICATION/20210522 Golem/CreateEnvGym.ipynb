{
 "metadata": {
  "language_info": {
   "codemirror_mode": {
    "name": "ipython",
    "version": 3
   },
   "file_extension": ".py",
   "mimetype": "text/x-python",
   "name": "python",
   "nbconvert_exporter": "python",
   "pygments_lexer": "ipython3",
   "version": "3.8.5"
  },
  "orig_nbformat": 2,
  "kernelspec": {
   "name": "python385jvsc74a57bd07f9c69b77f8cb78a9d8b8acc2d09c3972908e6673afd8bfd04ee2f6acaaac495",
   "display_name": "Python 3.8.5 64-bit ('DataSciences': conda)"
  },
  "metadata": {
   "interpreter": {
    "hash": "7f9c69b77f8cb78a9d8b8acc2d09c3972908e6673afd8bfd04ee2f6acaaac495"
   }
  }
 },
 "nbformat": 4,
 "nbformat_minor": 2,
 "cells": [
  {
   "cell_type": "code",
   "execution_count": 1,
   "metadata": {},
   "outputs": [],
   "source": [
    "from gym import Env\n",
    "from gym.spaces import Discrete, Box\n",
    "import numpy as np\n",
    "import pandas as pd\n",
    "import time\n",
    "import random"
   ]
  },
  {
   "cell_type": "code",
   "execution_count": null,
   "metadata": {},
   "outputs": [],
   "source": [
    "%%time\n",
    "\n",
    "class Actions(Enum):\n",
    "    Sell = 0\n",
    "    Hold = 1\n",
    "    Buy = 2\n",
    "\n",
    "\n",
    "class Positions(Enum):\n",
    "    Short = 0\n",
    "    Flat = 1\n",
    "    Long = 2\n",
    "\n",
    "    def opposite(self):\n",
    "        return Positions.Short if self == Positions.Long else Positions.Long\n",
    "\n",
    "\n",
    "class GolemEnv(Env,df,window_size):\n",
    "\n",
    "    metadata = {'render.modes': ['human']}\n",
    "    \n",
    "    def __init__(self):\n",
    "        \n",
    "        self.seed()\n",
    "        self.df = df\n",
    "        self.window_size = window_size\n",
    "        self.prices, self.signal_features = self._process_data(). ####### ?\n",
    "        self.shape = (window_size, self.signal_features.shape[1]) ####### ?\n",
    "\n",
    "        # How many Action do we have\n",
    "        self.action_space = spaces.Discrete(len(Actions))\n",
    "        # Dimension of our space, and caracteristics\n",
    "        self.observation_space = spaces.Box(low=-np.inf, high=np.inf, shape=self.shape, dtype=np.float32)\n",
    "\n",
    "        # For one episode, we begin at window_size\n",
    "        self._start_tick = self.window_size\n",
    "        # And we finish at the end of price (processed df)\n",
    "        self._end_tick = len(self.prices) - 1\n",
    "        \n",
    "        # Initialisation of variables\n",
    "        self._done = None\n",
    "        self._current_tick = None\n",
    "        self._last_trade_tick = None\n",
    "        self._position = None\n",
    "        self._position_history = None\n",
    "        self._total_reward = None\n",
    "        self._total_profit = None\n",
    "        self._first_rendering = None\n",
    "        self.history = None\n",
    "    \n",
    "    def step(self):\n",
    "        pass\n",
    "\n",
    "    def render(self):\n",
    "        pass\n",
    "\n",
    "    def reset(self):\n",
    "        pass\n"
   ]
  }
 ]
}