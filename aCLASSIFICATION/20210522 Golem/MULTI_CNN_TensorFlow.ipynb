{
 "metadata": {
  "language_info": {
   "codemirror_mode": {
    "name": "ipython",
    "version": 3
   },
   "file_extension": ".py",
   "mimetype": "text/x-python",
   "name": "python",
   "nbconvert_exporter": "python",
   "pygments_lexer": "ipython3",
   "version": "3.8.5"
  },
  "orig_nbformat": 2,
  "kernelspec": {
   "name": "python385jvsc74a57bd07f9c69b77f8cb78a9d8b8acc2d09c3972908e6673afd8bfd04ee2f6acaaac495",
   "display_name": "Python 3.8.5 64-bit ('DataSciences': conda)"
  },
  "metadata": {
   "interpreter": {
    "hash": "7f9c69b77f8cb78a9d8b8acc2d09c3972908e6673afd8bfd04ee2f6acaaac495"
   }
  }
 },
 "nbformat": 4,
 "nbformat_minor": 2,
 "cells": [
  {
   "cell_type": "code",
   "execution_count": 1,
   "metadata": {},
   "outputs": [
    {
     "output_type": "stream",
     "name": "stdout",
     "text": [
      "Imblearn version  0.7.0\nPandas version  1.2.2\nNumpy version  1.19.5\nTensorflow version  2.4.1\nJoblib version  1.0.1\n"
     ]
    }
   ],
   "source": [
    "# Math Stuff\n",
    "import numpy as np\n",
    "import pandas as pd\n",
    "\n",
    "# Proceesing librairies\n",
    "from natsort import natsorted\n",
    "import tensorflow as tf\n",
    "from sklearn.preprocessing import MinMaxScaler, StandardScaler, Normalizer\n",
    "import imblearn\n",
    "\n",
    "# Side Stuff\n",
    "import joblib\n",
    "import warnings\n",
    "import colorama as col\n",
    "import pyttsx3\n",
    "engine = pyttsx3.init()\n",
    "from tqdm import tqdm, tqdm_notebook, tqdm_pandas\n",
    "\n",
    "# Random Seed\n",
    "seed_value = 42\n",
    "import os\n",
    "os.environ['PYTHONHASHSEED']=str(seed_value)\n",
    "import random\n",
    "random.seed(seed_value)\n",
    "np.random.seed(seed_value)\n",
    "import tensorflow as tf\n",
    "tf.random.set_seed(seed_value)\n",
    "\n",
    "\n",
    "# Technical analysis\n",
    "from finta import TA\n",
    "\n",
    "# Plotting stuff\n",
    "import matplotlib.pyplot as plt\n",
    "%matplotlib inline\n",
    "import seaborn as sns\n",
    "sns.set(style=\"darkgrid\")\n",
    "\n",
    "# Time Stuff\n",
    "import time\n",
    "import datetime as dt\n",
    "\n",
    "print('Imblearn version ',imblearn.__version__)\n",
    "print('Pandas version ',pd.__version__)\n",
    "print('Numpy version ',np.__version__)\n",
    "print('Tensorflow version ',tf.__version__)\n",
    "print('Joblib version ',joblib.__version__)\n",
    "\n",
    "warnings.filterwarnings('ignore')\n"
   ]
  },
  {
   "cell_type": "code",
   "execution_count": 2,
   "metadata": {},
   "outputs": [],
   "source": [
    "TIK = ['AUD','NZD','GBP','JPY','CHF','CAD','SEK','NOK','ILS','MXN','USD','EUR']\n",
    "RATE = [0.776,0.721,1.3912,1/105.91,1/0.892,1/1.2681,1/8.2884,1/8.4261,1/3.2385,1/20.1564,1,1.21]\n",
    "df_ratefx = pd.DataFrame(index=TIK)\n",
    "df_ratefx['rate'] = RATE\n",
    "\n",
    "x = 'EUR/USD'\n",
    "_period = 'm5'\n",
    "_period2 = 'H1'\n",
    "_ticker = x.replace('/','')\n",
    "_start = '2010-01-01' # start the train there '2010-01-01'\n",
    "_mid = '2016-06-30' # stop the train and begin the test there '2016-08-31'\n",
    "_stop = '2017-12-31' # stop the test there. After that, it is kept for oos '2017-12-31'\n",
    "_last = '2021-04-29' # '2020-12-31'\n",
    "_nb_bougie_exit = 555555555555555\n",
    "_trigger_reengage = 0\n",
    "_trigger_target = 1\n",
    "_trigger_invers = 0\n",
    "_trigger_sl = 1\n",
    "_trigger_rsi = 0\n",
    "_verbose = 0\n",
    "_cash_ini = 200000\n",
    "_target = 0.002\n",
    "_sl = 0.001\n",
    "_exposure = 1\n",
    "_rate = df_ratefx.loc[x[4:],'rate']\n",
    "_size = _cash_ini / df_ratefx.loc[x[:3],'rate']\n",
    "_trigger_spread = 0.025\n",
    "_no_access = 0\n"
   ]
  },
  {
   "cell_type": "code",
   "execution_count": 3,
   "metadata": {},
   "outputs": [],
   "source": [
    "def klines(df):\n",
    "    _condition1 = df.Close >= df.Open\n",
    "    df['Color'] = np.where(_condition1,1,-1)\n",
    "    _condition2 = df.Color = 1\n",
    "    df['UpperShadow'] = np.where(_condition2,(df.High-df.Close),(df.High-df.Open))\n",
    "    df['LowerShadow'] = np.where(_condition2,(df.Open-df.Low),(df.Close-df.Low))\n",
    "    df['Body'] = abs(df.Close-df.Open)\n",
    "    return (df)"
   ]
  },
  {
   "cell_type": "code",
   "execution_count": 4,
   "metadata": {},
   "outputs": [],
   "source": [
    "def undersample3(df):\n",
    "    \n",
    "    print('Avant Resampling :')\n",
    "    print('Classe 0',df[df.Signal==0].shape[0])\n",
    "    print('Classe 1',df[df.Signal==1].shape[0])\n",
    "    print('Classe -1',df[df.Signal==-1].shape[0])\n",
    "\n",
    "    # Class count\n",
    "    count_class_0, count_class_1, count_class_2 = df_train.Signal.value_counts()\n",
    "    # Divide by class\n",
    "    df_class_0 = df[df.Signal== 0]\n",
    "    df_class_1 = df[df.Signal != 0]\n",
    "\n",
    "    df_class_0_under = df_class_0.sample(int((count_class_1+count_class_1)/1.5))\n",
    "    df = pd.concat([df_class_0_under, df_class_1], axis=0)\n",
    "    df = df.sort_index()\n",
    "    print('Random under-sampling:')\n",
    "    print(df.Signal.value_counts())\n",
    "\n",
    "    # Classify and report the results\n",
    "    print('\\nAprès resample:')\n",
    "    print('Classe 0',df[df.Signal==0].shape[0])\n",
    "    print('Classe 1',df[df.Signal==1].shape[0])\n",
    "    print('Classe -1',df[df.Signal==-1].shape[0])\n",
    "    return df\n",
    "\n",
    "def undersample2(df):\n",
    "    \n",
    "    print('Avant Resampling :')\n",
    "    print('Classe 0',df[df.Signal==0].shape[0])\n",
    "    print('Classe 1',df[df.Signal==1].shape[0])\n",
    "\n",
    "    # Class count\n",
    "    count_class_0, count_class_1 = df.Signal.value_counts()\n",
    "    # Divide by class\n",
    "    df_class_0 = df[df.Signal== 0]\n",
    "    df_class_1 = df[df.Signal != 0]\n",
    "\n",
    "    df_class_0_under = df_class_0.sample(int((count_class_1)))\n",
    "    df = pd.concat([df_class_0_under, df_class_1], axis=0)\n",
    "    df = df.sort_index()\n",
    "    print('Random under-sampling:')\n",
    "    print(df.Signal.value_counts())\n",
    "\n",
    "    # Classify and report the results\n",
    "    print('\\nAprès resample:')\n",
    "    print('Classe 0',df[df.Signal==0].shape[0])\n",
    "    print('Classe 1',df[df.Signal==1].shape[0])\n",
    "    return df"
   ]
  },
  {
   "cell_type": "code",
   "execution_count": 0,
   "metadata": {},
   "outputs": [],
   "source": []
  },
  {
   "cell_type": "code",
   "execution_count": 5,
   "metadata": {},
   "outputs": [],
   "source": [
    "def split_df(df):\n",
    "    \"\"\"[Split the dtaframe in train/test/oos and reduce train and test to dataframe with signal!=0 only]\n",
    "\n",
    "    Args:\n",
    "        df ([pandas]): [the datframe to split already featured]\n",
    "        _start ([date]): [beginning of the df]\n",
    "        _mid ([date]): [stop of the train and beginning of the test]\n",
    "        _stop ([date]): [stop of the test and beginning of the oos]\n",
    "        _last ([date]): [end of the oos]\n",
    "    \"\"\"    \n",
    "    df = df.dropna()\n",
    "    df['Date'] = pd.to_datetime(df.index)\n",
    "    \n",
    "    df_train = df[(df.Date>=_start)&(df.Date<=_mid)]\n",
    "    df_test = df[(df.Date>_mid)&(df.Date<=_stop)]\n",
    "    df_oos = df[(df.Date>_stop)&(df.Date <= _last)]\n",
    "    df_train = df_train.drop(['Date'],axis=1)\n",
    "    df_test = df_test.drop(['Date'],axis=1)\n",
    "    df_oos = df_oos.drop(['Date'],axis=1)\n",
    "    return(df_train, df_test,df_oos)"
   ]
  },
  {
   "cell_type": "code",
   "execution_count": 6,
   "metadata": {},
   "outputs": [],
   "source": [
    "def strategy(df):\n",
    "    ##### CONDITIONS LONG\n",
    "    _condition_1 = (df.slow_K5 < 20) & (df.slow_K5.shift(1) < df.slow_D5.shift(1)) & (df.slow_K5 > df.slow_D5)\n",
    "\n",
    "    ##### CONDITIONS SHORT\n",
    "    _condition_1_bar = (df.slow_K5 > 80) & (df.slow_K5.shift(1) > df.slow_D5.shift(1)) & (df.slow_K5 < df.slow_D5)\n",
    "\n",
    "    ##### 1 condition\n",
    "    df['Signal'] = np.where(_condition_1,1,np.where(_condition_1_bar,-1,0))\n",
    "    try:\n",
    "        df = df.drop(['Symbol','Date','DateIndex','SB_Gamma'], axis=1)\n",
    "    except:\n",
    "        pass\n",
    "    return(df.sort_index(axis=0)) \n",
    "\n",
    "def strategy5(df,_window=40):\n",
    "\n",
    "    #df['RSI_2'] = TA.RSI(ohlc=df,int=2,str='Close')\n",
    "\n",
    "    df['Window_High_Ask'] = df.HighAsk.iloc[::-1].rolling(_window).max().iloc[::-1] # Limite SL Short\n",
    "    df['Window_High_Bid'] = df.HighBid.iloc[::-1].rolling(_window).max().iloc[::-1] # Limite Target Long\n",
    "    df['Window_Low_Ask'] = df.LowAsk.iloc[::-1].rolling(_window).min().iloc[::-1] # Limite Target Short\n",
    "    df['Window_Low_Bid'] = df.LowBid.iloc[::-1].rolling(_window).min().iloc[::-1] # Limite SL Long\n",
    "    df['Window_sl_Short'] = df.CloseBid + (df.CloseBid * _sl) # Short pour SL\n",
    "    df['Window_sl_Long'] = df.CloseAsk - (df.CloseAsk * _sl) # Long pour SL\n",
    "    df['Window_tp_Short'] = df.CloseBid - (df.CloseBid * _target) # Short pour TP\n",
    "    df['Window_tp_Long'] = df.CloseAsk + (df.CloseAsk * _target) # Long pour TP\n",
    "\n",
    "    ##### CONDITIONS LONG\n",
    "    _condition_1 = (df['Window_tp_Long'] <= df['Window_High_Bid']) & (df['Window_sl_Long'] <= df['Window_Low_Bid'])\n",
    "\n",
    "    ##### CONDITIONS SHORT\n",
    "    _condition_1_bar = (df['Window_tp_Short'] >= df['Window_Low_Ask']) & (df['Window_sl_Short'] >= df['Window_High_Ask'])\n",
    "\n",
    "    ##### 1 condition\n",
    "    df['Signal'] = np.where(_condition_1,1,np.where(_condition_1_bar,-1,0))\n",
    "    df = df.drop(['Symbol','Date','DateIndex','Window_High_Ask','Window_High_Bid','Window_Low_Ask','Window_Low_Bid','Window_sl_Short','Window_sl_Long','Window_tp_Short','Window_tp_Long'], axis=1)\n",
    "    return(df.sort_index(axis=0))"
   ]
  },
  {
   "source": [
    "%%time\n",
    "\n",
    "_nb_looser = 10000000000\n",
    "TRACKER = []\n",
    "_year_bottom = _start\n",
    "_year_top = _stop\n",
    "\n",
    "#scaler = Normalizer()\n",
    "scaler = MinMaxScaler()\n",
    "# scaler = StandardScaler()\n",
    "df = joblib.load('BASES/EURUSD_m5')\n",
    "\n",
    "\n",
    "df = klines(df)\n",
    "\n",
    "df = strategy(df)\n",
    "\n",
    "print()\n",
    "print(col.Fore.CYAN,'###############################################################################################')\n",
    "print(' #################################### TRAIN/TEST WITHOUT AI ####################################')\n",
    "print(' ###############################################################################################',col.Style.RESET_ALL)\n",
    "\n",
    "\n",
    "TRACKER,_nb_looser = bt(df,_year_bottom,_year_top,_nb_bougie_exit,_trigger_reengage,_trigger_target,_trigger_invers,_trigger_sl,_verbose,_cash_ini,\\\n",
    "        _rate,x,_target,_exposure,_size,_sl,_trigger_rsi=_trigger_rsi)\n",
    "\n",
    "\n",
    "print()\n",
    "print(col.Fore.BLUE,'###############################################################################################')\n",
    "print(' #################################### DENOISING & ENHANCING ####################################')\n",
    "print(' ###############################################################################################',col.Style.RESET_ALL)\n",
    "while _nb_looser > 0 :\n",
    "    \n",
    "    df['TRACKER'] = np.where(df.index.isin(TRACKER),1,0)\n",
    "\n",
    "    _condition1 = ((df.Signal==1)&(df.TRACKER==1))\n",
    "    _condition2 = ((df.Signal==-1)&(df.TRACKER==1))\n",
    "    df['Signal'] = np.where(_condition1,1,np.where(_condition2,-1,0))\n",
    "\n",
    "    ##### Purification of signal by denoising and enhancing\n",
    "    TRACKER,_nb_looser = bt(df,_year_bottom,_year_top,_nb_bougie_exit,_trigger_reengage,_trigger_target,_trigger_invers,_trigger_sl,_verbose,_cash_ini,\\\n",
    "            _rate,x,_target,_exposure,_size,_sl,_trigger_rsi=_trigger_rsi)\n",
    "\n",
    "print('Shape de features',df.shape)\n",
    "df['TRACKER'] = np.where(df.index.isin(TRACKER),1,0)\n",
    "df['Valid'] = np.where(_condition1,1,np.where(_condition2,-1,0))\n",
    "df = strategy(df)\n",
    "df_raw = df.copy()\n",
    "\n",
    "#df = undersample2(df)\n",
    "\n",
    "df_train, df_test, df_oos = split_df(df)\n",
    "\n",
    "df_train.sort_index(inplace=True)\n",
    "for i in df.columns.unique():\n",
    "    if i != 'Signal' and i != 'Color' and i != 'Valid' and i!= 'TRACKER':\n",
    "        df_train[i] = scaler.fit_transform(df_train[i].values.reshape(-1, 1))\n",
    "        df_test[i] = scaler.fit_transform(df_test[i].values.reshape(-1, 1))\n",
    "        df_oos[i] = scaler.fit_transform(df_oos[i].values.reshape(-1, 1))\n",
    "\n",
    "df_train = df_train.dropna()\n",
    "df_test = df_test.dropna()\n",
    "df_oos = df_oos.dropna()\n",
    "\n",
    "df_oos= df_oos.reindex(natsorted(df_oos.columns), axis=1)\n",
    "df_test= df_test.reindex(natsorted(df_test.columns), axis=1)\n",
    "df_train = df_train.reindex(natsorted(df_train.columns), axis=1)\n"
   ],
   "cell_type": "markdown",
   "metadata": {}
  },
  {
   "source": [
    "joblib.dump(df,'BASES/multi_df_EURUSD_m5')\n",
    "joblib.dump(df_raw,'BASES/multi_df_raw_EURUSD_m5')\n",
    "joblib.dump(df_train,'BASES/multi_df_train_EURUSD_m5')\n",
    "joblib.dump(df_test,'BASES/multi_df_test_EURUSD_m5')\n",
    "joblib.dump(df_oos,'BASES/multi_df_oos_EURUSD_m5')"
   ],
   "cell_type": "markdown",
   "metadata": {}
  },
  {
   "source": [],
   "cell_type": "code",
   "metadata": {},
   "execution_count": null,
   "outputs": []
  },
  {
   "source": [
    "## DEBUT BASE PREPAREE"
   ],
   "cell_type": "markdown",
   "metadata": {}
  },
  {
   "cell_type": "code",
   "execution_count": 14,
   "metadata": {},
   "outputs": [],
   "source": [
    "import tensorflow as tf\n",
    "from tensorflow.keras.layers import Input, Dense, Activation,Dropout, LSTM\n",
    "from tensorflow.keras.models import Model\n",
    "from tensorflow.keras.metrics import Recall, Precision, Metric\n",
    "from keras.utils import to_categorical\n",
    "# Disable eager execution\n",
    "tf.compat.v1.disable_eager_execution()\n",
    "\n"
   ]
  },
  {
   "cell_type": "code",
   "execution_count": null,
   "metadata": {},
   "outputs": [],
   "source": []
  },
  {
   "cell_type": "code",
   "execution_count": 16,
   "metadata": {},
   "outputs": [
    {
     "output_type": "stream",
     "name": "stdout",
     "text": [
      "Premier ytrain (signal à 0): [1. 0. 0.]  et premier signal de df_raw : 0\nDeuxieme ytrain (signal à 1): [1. 0. 0.]  et deuxième signal de df_raw : 0\nCPU times: user 742 ms, sys: 588 ms, total: 1.33 s\nWall time: 1.31 s\n"
     ]
    }
   ],
   "source": [
    "%%time\n",
    "df = joblib.load('BASES/multi_df_EURUSD_m5')\n",
    "df_raw = joblib.load('BASES/multi_df_raw_EURUSD_m5')\n",
    "df_train = joblib.load('BASES/multi_df_train_EURUSD_m5')\n",
    "df_test = joblib.load('BASES/multi_df_test_EURUSD_m5')\n",
    "df_oos = joblib.load('BASES/multi_df_oos_EURUSD_m5')\n",
    "\n",
    "X_train = df_train.drop(['Valid','Signal','TRACKER'],axis=1)\n",
    "y_train = df_train[['Valid']]\n",
    "X_test = df_test.drop(['Valid','Signal','TRACKER'],axis=1)\n",
    "y_test = df_test[['Valid']]\n",
    "X_oos = df_oos.drop(['Valid','Signal','TRACKER'],axis=1)\n",
    "\n",
    "# Première variable pour proba de signal à 0, et deuxième pour proba de signal ) 1\n",
    "y_train = to_categorical(y_train, 3) \n",
    "y_test = to_categorical(y_test, 3)\n",
    "\n",
    "#X_train = X_train.stack()\n",
    "#X_test = X_test.stack()\n",
    "\n",
    "X_train = X_train.values.reshape(-1,X_train.shape[1])\n",
    "X_test = X_test.values.reshape(-1,X_test.shape[1])\n",
    "X_oos = X_oos.values.reshape(-1,X_oos.shape[1])\n",
    "\n",
    "test = strategy(df_raw)\n",
    "#X_train = X_train.reshape(-1,X_train.shape[1]*X_train.shape[1])\n",
    "#X_test = X_test.reshape(-1,X_test.shape[1]*X_test.shape[1])\n",
    "print('Premier ytrain (signal à 0):',y_train[0],' et premier signal de df_raw :',test.Valid[20])\n",
    "print('Deuxieme ytrain (signal à 1):',y_train[1],' et deuxième signal de df_raw :',test.Valid[21])\n",
    "del test\n"
   ]
  },
  {
   "cell_type": "code",
   "execution_count": 17,
   "metadata": {},
   "outputs": [
    {
     "output_type": "execute_result",
     "data": {
      "text/plain": [
       "(365344, 108797, 240612, 820907, 820907, 365344, 108797, 240612)"
      ]
     },
     "metadata": {},
     "execution_count": 17
    }
   ],
   "source": [
    "len(df_train),len(df_test),len(df_oos),len(df),len(df_raw),len(X_train), len(X_test),len(X_oos)"
   ]
  },
  {
   "cell_type": "code",
   "execution_count": 50,
   "metadata": {},
   "outputs": [],
   "source": []
  },
  {
   "cell_type": "code",
   "execution_count": 18,
   "metadata": {},
   "outputs": [
    {
     "output_type": "stream",
     "name": "stdout",
     "text": [
      "CPU times: user 2.02 s, sys: 890 ms, total: 2.91 s\nWall time: 2.91 s\n"
     ]
    }
   ],
   "source": [
    "%%time\n",
    "# univariate data preparation\n",
    "from numpy import array\n",
    "def split_sequence(sequence, sequence_y, n_steps):\n",
    "    X, y = list(), list()\n",
    "    for i in range(len(sequence)):\n",
    "        # find the end of this pattern\n",
    "        end_ix = i + n_steps\n",
    "        # check if we are beyond the sequence\n",
    "        if end_ix > len(sequence)-1:\n",
    "            break\n",
    "        # gather input and output parts of the pattern\n",
    "        seq_x, seq_y = sequence[i:end_ix+1], sequence_y[end_ix]\n",
    "        X.append(seq_x)\n",
    "        y.append(seq_y)\n",
    "    return array(X), array(y)\n",
    " \n",
    "# define input sequence\n",
    "raw_seq = X_train\n",
    "raw_seq_y = y_train\n",
    "raw_seqt = X_test\n",
    "raw_seq_yt = y_test\n",
    "raw_seq_oos = X_oos\n",
    "# choose a number of time steps\n",
    "n_steps = 11\n",
    "# split into samples\n",
    "X_train, y_train = split_sequence(raw_seq,raw_seq_y, n_steps)\n",
    "X_test, y_test = split_sequence(raw_seqt,raw_seq_yt, n_steps)\n",
    "X_oos, _ = split_sequence(raw_seq_oos,raw_seq_y, n_steps)\n",
    "\n"
   ]
  },
  {
   "cell_type": "code",
   "execution_count": 19,
   "metadata": {},
   "outputs": [
    {
     "output_type": "execute_result",
     "data": {
      "text/plain": [
       "(365344, 108797, 240612, 820907, 820907, 365333, 108786, 240601, 365333)"
      ]
     },
     "metadata": {},
     "execution_count": 19
    }
   ],
   "source": [
    "len(df_train),len(df_test),len(df_oos),len(df),len(df_raw),len(X_train), len(X_test),len(X_oos),len(df_train[df_train.Signal!=0])+len(df_train[df_train.Signal==0])-11"
   ]
  },
  {
   "cell_type": "code",
   "execution_count": 20,
   "metadata": {},
   "outputs": [
    {
     "output_type": "execute_result",
     "data": {
      "text/plain": [
       "((820907, 66), (365344, 66), (108797, 66), (240612, 66), 240612)"
      ]
     },
     "metadata": {},
     "execution_count": 20
    }
   ],
   "source": [
    "df.shape,df_train.shape, df_test.shape,df_oos.shape,len(X_oos)+11"
   ]
  },
  {
   "cell_type": "code",
   "execution_count": 21,
   "metadata": {},
   "outputs": [
    {
     "output_type": "execute_result",
     "data": {
      "text/plain": [
       "((365333, 12, 63), (108786, 12, 63), (240601, 12, 63))"
      ]
     },
     "metadata": {},
     "execution_count": 21
    }
   ],
   "source": [
    "X_train.shape, X_test.shape,  X_oos.shape"
   ]
  },
  {
   "cell_type": "code",
   "execution_count": 22,
   "metadata": {},
   "outputs": [
    {
     "output_type": "execute_result",
     "data": {
      "text/plain": [
       "(12, 12, 12)"
      ]
     },
     "metadata": {},
     "execution_count": 22
    }
   ],
   "source": [
    "len(X_train[0]),len(X_test[0]),len(X_oos[0])"
   ]
  },
  {
   "cell_type": "code",
   "execution_count": 22,
   "metadata": {},
   "outputs": [],
   "source": [
    "\n"
   ]
  },
  {
   "cell_type": "code",
   "execution_count": 24,
   "metadata": {},
   "outputs": [
    {
     "output_type": "execute_result",
     "data": {
      "text/plain": [
       "<AxesSubplot:ylabel='Valid'>"
      ]
     },
     "metadata": {},
     "execution_count": 24
    },
    {
     "output_type": "display_data",
     "data": {
      "text/plain": "<Figure size 1728x432 with 1 Axes>",
      "image/svg+xml": "<?xml version=\"1.0\" encoding=\"utf-8\" standalone=\"no\"?>\n<!DOCTYPE svg PUBLIC \"-//W3C//DTD SVG 1.1//EN\"\n  \"http://www.w3.org/Graphics/SVG/1.1/DTD/svg11.dtd\">\n<!-- Created with matplotlib (https://matplotlib.org/) -->\n<svg height=\"340.56pt\" version=\"1.1\" viewBox=\"0 0 355.534375 340.56\" width=\"355.534375pt\" xmlns=\"http://www.w3.org/2000/svg\" xmlns:xlink=\"http://www.w3.org/1999/xlink\">\n <metadata>\n  <rdf:RDF xmlns:cc=\"http://creativecommons.org/ns#\" xmlns:dc=\"http://purl.org/dc/elements/1.1/\" xmlns:rdf=\"http://www.w3.org/1999/02/22-rdf-syntax-ns#\">\n   <cc:Work>\n    <dc:type rdf:resource=\"http://purl.org/dc/dcmitype/StillImage\"/>\n    <dc:date>2021-05-21T11:03:35.464515</dc:date>\n    <dc:format>image/svg+xml</dc:format>\n    <dc:creator>\n     <cc:Agent>\n      <dc:title>Matplotlib v3.3.3, https://matplotlib.org/</dc:title>\n     </cc:Agent>\n    </dc:creator>\n   </cc:Work>\n  </rdf:RDF>\n </metadata>\n <defs>\n  <style type=\"text/css\">*{stroke-linecap:butt;stroke-linejoin:round;}</style>\n </defs>\n <g id=\"figure_1\">\n  <g id=\"patch_1\">\n   <path d=\"M 0 340.56 \nL 355.534375 340.56 \nL 355.534375 0 \nL 0 0 \nz\n\" style=\"fill:#ffffff;\"/>\n  </g>\n  <g id=\"axes_1\">\n   <g id=\"matplotlib.axis_1\"/>\n   <g id=\"matplotlib.axis_2\">\n    <g id=\"text_1\">\n     <!-- Valid -->\n     <g style=\"fill:#262626;\" transform=\"translate(15.789375 183.179062)rotate(-90)scale(0.12 -0.12)\">\n      <defs>\n       <path d=\"M 28.171875 0 \nL 0.4375 71.578125 \nL 10.6875 71.578125 \nL 29.296875 19.578125 \nQ 31.546875 13.328125 33.0625 7.859375 \nQ 34.71875 13.71875 36.921875 19.578125 \nL 56.25 71.578125 \nL 65.921875 71.578125 \nL 37.890625 0 \nz\n\" id=\"ArialMT-86\"/>\n       <path d=\"M 40.4375 6.390625 \nQ 35.546875 2.25 31.03125 0.53125 \nQ 26.515625 -1.171875 21.34375 -1.171875 \nQ 12.796875 -1.171875 8.203125 3 \nQ 3.609375 7.171875 3.609375 13.671875 \nQ 3.609375 17.484375 5.34375 20.625 \nQ 7.078125 23.78125 9.890625 25.6875 \nQ 12.703125 27.59375 16.21875 28.5625 \nQ 18.796875 29.25 24.03125 29.890625 \nQ 34.671875 31.15625 39.703125 32.90625 \nQ 39.75 34.71875 39.75 35.203125 \nQ 39.75 40.578125 37.25 42.78125 \nQ 33.890625 45.75 27.25 45.75 \nQ 21.046875 45.75 18.09375 43.578125 \nQ 15.140625 41.40625 13.71875 35.890625 \nL 5.125 37.0625 \nQ 6.296875 42.578125 8.984375 45.96875 \nQ 11.671875 49.359375 16.75 51.1875 \nQ 21.828125 53.03125 28.515625 53.03125 \nQ 35.15625 53.03125 39.296875 51.46875 \nQ 43.453125 49.90625 45.40625 47.53125 \nQ 47.359375 45.171875 48.140625 41.546875 \nQ 48.578125 39.3125 48.578125 33.453125 \nL 48.578125 21.734375 \nQ 48.578125 9.46875 49.140625 6.21875 \nQ 49.703125 2.984375 51.375 0 \nL 42.1875 0 \nQ 40.828125 2.734375 40.4375 6.390625 \nz\nM 39.703125 26.03125 \nQ 34.90625 24.078125 25.34375 22.703125 \nQ 19.921875 21.921875 17.671875 20.9375 \nQ 15.4375 19.96875 14.203125 18.09375 \nQ 12.984375 16.21875 12.984375 13.921875 \nQ 12.984375 10.40625 15.640625 8.0625 \nQ 18.3125 5.71875 23.4375 5.71875 \nQ 28.515625 5.71875 32.46875 7.9375 \nQ 36.421875 10.15625 38.28125 14.015625 \nQ 39.703125 17 39.703125 22.796875 \nz\n\" id=\"ArialMT-97\"/>\n       <path d=\"M 6.390625 0 \nL 6.390625 71.578125 \nL 15.1875 71.578125 \nL 15.1875 0 \nz\n\" id=\"ArialMT-108\"/>\n       <path d=\"M 6.640625 61.46875 \nL 6.640625 71.578125 \nL 15.4375 71.578125 \nL 15.4375 61.46875 \nz\nM 6.640625 0 \nL 6.640625 51.859375 \nL 15.4375 51.859375 \nL 15.4375 0 \nz\n\" id=\"ArialMT-105\"/>\n       <path d=\"M 40.234375 0 \nL 40.234375 6.546875 \nQ 35.296875 -1.171875 25.734375 -1.171875 \nQ 19.53125 -1.171875 14.328125 2.25 \nQ 9.125 5.671875 6.265625 11.796875 \nQ 3.421875 17.921875 3.421875 25.875 \nQ 3.421875 33.640625 6 39.96875 \nQ 8.59375 46.296875 13.765625 49.65625 \nQ 18.953125 53.03125 25.34375 53.03125 \nQ 30.03125 53.03125 33.6875 51.046875 \nQ 37.359375 49.078125 39.65625 45.90625 \nL 39.65625 71.578125 \nL 48.390625 71.578125 \nL 48.390625 0 \nz\nM 12.453125 25.875 \nQ 12.453125 15.921875 16.640625 10.984375 \nQ 20.84375 6.0625 26.5625 6.0625 \nQ 32.328125 6.0625 36.34375 10.765625 \nQ 40.375 15.484375 40.375 25.140625 \nQ 40.375 35.796875 36.265625 40.765625 \nQ 32.171875 45.75 26.171875 45.75 \nQ 20.3125 45.75 16.375 40.96875 \nQ 12.453125 36.1875 12.453125 25.875 \nz\n\" id=\"ArialMT-100\"/>\n      </defs>\n      <use xlink:href=\"#ArialMT-86\"/>\n      <use x=\"59.324219\" xlink:href=\"#ArialMT-97\"/>\n      <use x=\"114.939453\" xlink:href=\"#ArialMT-108\"/>\n      <use x=\"137.15625\" xlink:href=\"#ArialMT-105\"/>\n      <use x=\"159.373047\" xlink:href=\"#ArialMT-100\"/>\n     </g>\n    </g>\n   </g>\n   <g id=\"patch_2\">\n    <path d=\"M 309.196307 170.158454 \nC 309.196307 153.128338 305.861769 136.261842 299.381291 120.512929 \nC 292.900813 104.764016 283.398921 90.435307 271.413039 78.337229 \nC 259.427157 66.239152 245.187598 56.604174 229.499746 49.977247 \nC 213.811894 43.35032 196.977198 39.858783 179.947821 39.700116 \nC 162.918444 39.541449 146.021613 42.718701 130.213006 49.052167 \nC 114.404398 55.385634 99.987784 64.753614 87.778561 76.62626 \nC 75.569337 88.498906 65.80211 102.648079 59.02931 118.273508 \nC 52.256509 133.898937 48.608277 150.700372 48.290957 167.727532 \nC 47.973637 184.754692 50.993325 201.680391 57.17923 217.54732 \nC 63.365135 233.41425 72.598392 247.917518 84.356771 260.236827 \nC 96.11515 272.556137 110.172709 282.454766 125.734359 289.372852 \nC 141.296008 296.290938 158.062724 300.095548 175.086189 300.571494 \nC 192.109653 301.04744 209.062752 298.185577 224.986625 292.147771 \nC 240.910499 286.109964 255.499163 277.012233 267.927488 265.369141 \nC 280.355814 253.72605 290.384986 239.761325 297.447757 224.264805 \nC 304.510529 208.768286 308.471187 192.037745 309.105717 175.019453 \nL 178.732307 170.158454 \nL 309.196307 170.158454 \nz\n\" style=\"fill:#add8e6;stroke:#ffffff;stroke-linejoin:miter;\"/>\n   </g>\n   <g id=\"patch_3\">\n    <path d=\"M 322.14854 175.319577 \nC 322.164563 174.889828 322.178462 174.460003 322.190234 174.030117 \nC 322.202007 173.600231 322.211654 173.170289 322.219176 172.740308 \nL 191.77513 170.458577 \nL 322.14854 175.319577 \nz\n\" style=\"fill:#90ee90;stroke:#ffffff;stroke-linejoin:miter;\"/>\n   </g>\n   <g id=\"patch_4\">\n    <path d=\"M 322.221371 172.618776 \nC 322.228022 172.238523 322.233011 171.858243 322.236337 171.477947 \nC 322.239663 171.09765 322.241326 170.717341 322.241326 170.33703 \nL 191.777326 170.337045 \nL 322.221371 172.618776 \nz\n\" style=\"fill:#ffa500;stroke:#ffffff;stroke-linejoin:miter;\"/>\n   </g>\n   <g id=\"text_2\">\n    <!-- 0 -->\n    <g style=\"fill:#262626;\" transform=\"translate(29.129791 170.328112)scale(0.11 -0.11)\">\n     <defs>\n      <path d=\"M 4.15625 35.296875 \nQ 4.15625 48 6.765625 55.734375 \nQ 9.375 63.484375 14.515625 67.671875 \nQ 19.671875 71.875 27.484375 71.875 \nQ 33.25 71.875 37.59375 69.546875 \nQ 41.9375 67.234375 44.765625 62.859375 \nQ 47.609375 58.5 49.21875 52.21875 \nQ 50.828125 45.953125 50.828125 35.296875 \nQ 50.828125 22.703125 48.234375 14.96875 \nQ 45.65625 7.234375 40.5 3 \nQ 35.359375 -1.21875 27.484375 -1.21875 \nQ 17.140625 -1.21875 11.234375 6.203125 \nQ 4.15625 15.140625 4.15625 35.296875 \nz\nM 13.1875 35.296875 \nQ 13.1875 17.671875 17.3125 11.828125 \nQ 21.4375 6 27.484375 6 \nQ 33.546875 6 37.671875 11.859375 \nQ 41.796875 17.71875 41.796875 35.296875 \nQ 41.796875 52.984375 37.671875 58.78125 \nQ 33.546875 64.59375 27.390625 64.59375 \nQ 21.34375 64.59375 17.71875 59.46875 \nQ 13.1875 52.9375 13.1875 35.296875 \nz\n\" id=\"ArialMT-48\"/>\n     </defs>\n     <use xlink:href=\"#ArialMT-48\"/>\n    </g>\n   </g>\n   <g id=\"text_3\">\n    <!-- 99.40686% -->\n    <g style=\"fill:#262626;\" transform=\"translate(70.109372 171.802088)scale(0.12 -0.12)\">\n     <defs>\n      <path d=\"M 5.46875 16.546875 \nL 13.921875 17.328125 \nQ 14.984375 11.375 18.015625 8.6875 \nQ 21.046875 6 25.78125 6 \nQ 29.828125 6 32.875 7.859375 \nQ 35.9375 9.71875 37.890625 12.8125 \nQ 39.84375 15.921875 41.15625 21.1875 \nQ 42.484375 26.46875 42.484375 31.9375 \nQ 42.484375 32.515625 42.4375 33.6875 \nQ 39.796875 29.5 35.234375 26.875 \nQ 30.671875 24.265625 25.34375 24.265625 \nQ 16.453125 24.265625 10.296875 30.703125 \nQ 4.15625 37.15625 4.15625 47.703125 \nQ 4.15625 58.59375 10.578125 65.234375 \nQ 17 71.875 26.65625 71.875 \nQ 33.640625 71.875 39.421875 68.109375 \nQ 45.21875 64.359375 48.21875 57.390625 \nQ 51.21875 50.4375 51.21875 37.25 \nQ 51.21875 23.53125 48.234375 15.40625 \nQ 45.265625 7.28125 39.375 3.03125 \nQ 33.5 -1.21875 25.59375 -1.21875 \nQ 17.1875 -1.21875 11.859375 3.4375 \nQ 6.546875 8.109375 5.46875 16.546875 \nz\nM 41.453125 48.140625 \nQ 41.453125 55.71875 37.421875 60.15625 \nQ 33.40625 64.59375 27.734375 64.59375 \nQ 21.875 64.59375 17.53125 59.8125 \nQ 13.1875 55.03125 13.1875 47.40625 \nQ 13.1875 40.578125 17.3125 36.296875 \nQ 21.4375 32.03125 27.484375 32.03125 \nQ 33.59375 32.03125 37.515625 36.296875 \nQ 41.453125 40.578125 41.453125 48.140625 \nz\n\" id=\"ArialMT-57\"/>\n      <path d=\"M 9.078125 0 \nL 9.078125 10.015625 \nL 19.09375 10.015625 \nL 19.09375 0 \nz\n\" id=\"ArialMT-46\"/>\n      <path d=\"M 32.328125 0 \nL 32.328125 17.140625 \nL 1.265625 17.140625 \nL 1.265625 25.203125 \nL 33.9375 71.578125 \nL 41.109375 71.578125 \nL 41.109375 25.203125 \nL 50.78125 25.203125 \nL 50.78125 17.140625 \nL 41.109375 17.140625 \nL 41.109375 0 \nz\nM 32.328125 25.203125 \nL 32.328125 57.46875 \nL 9.90625 25.203125 \nz\n\" id=\"ArialMT-52\"/>\n      <path d=\"M 49.75 54.046875 \nL 41.015625 53.375 \nQ 39.84375 58.546875 37.703125 60.890625 \nQ 34.125 64.65625 28.90625 64.65625 \nQ 24.703125 64.65625 21.53125 62.3125 \nQ 17.390625 59.28125 14.984375 53.46875 \nQ 12.59375 47.65625 12.5 36.921875 \nQ 15.671875 41.75 20.265625 44.09375 \nQ 24.859375 46.4375 29.890625 46.4375 \nQ 38.671875 46.4375 44.84375 39.96875 \nQ 51.03125 33.5 51.03125 23.25 \nQ 51.03125 16.5 48.125 10.71875 \nQ 45.21875 4.9375 40.140625 1.859375 \nQ 35.0625 -1.21875 28.609375 -1.21875 \nQ 17.625 -1.21875 10.6875 6.859375 \nQ 3.765625 14.9375 3.765625 33.5 \nQ 3.765625 54.25 11.421875 63.671875 \nQ 18.109375 71.875 29.4375 71.875 \nQ 37.890625 71.875 43.28125 67.140625 \nQ 48.6875 62.40625 49.75 54.046875 \nz\nM 13.875 23.1875 \nQ 13.875 18.65625 15.796875 14.5 \nQ 17.71875 10.359375 21.1875 8.171875 \nQ 24.65625 6 28.46875 6 \nQ 34.03125 6 38.03125 10.484375 \nQ 42.046875 14.984375 42.046875 22.703125 \nQ 42.046875 30.125 38.078125 34.390625 \nQ 34.125 38.671875 28.125 38.671875 \nQ 22.171875 38.671875 18.015625 34.390625 \nQ 13.875 30.125 13.875 23.1875 \nz\n\" id=\"ArialMT-54\"/>\n      <path d=\"M 17.671875 38.8125 \nQ 12.203125 40.828125 9.5625 44.53125 \nQ 6.9375 48.25 6.9375 53.421875 \nQ 6.9375 61.234375 12.546875 66.546875 \nQ 18.171875 71.875 27.484375 71.875 \nQ 36.859375 71.875 42.578125 66.421875 \nQ 48.296875 60.984375 48.296875 53.171875 \nQ 48.296875 48.1875 45.671875 44.5 \nQ 43.0625 40.828125 37.75 38.8125 \nQ 44.34375 36.671875 47.78125 31.875 \nQ 51.21875 27.09375 51.21875 20.453125 \nQ 51.21875 11.28125 44.71875 5.03125 \nQ 38.234375 -1.21875 27.640625 -1.21875 \nQ 17.046875 -1.21875 10.546875 5.046875 \nQ 4.046875 11.328125 4.046875 20.703125 \nQ 4.046875 27.6875 7.59375 32.390625 \nQ 11.140625 37.109375 17.671875 38.8125 \nz\nM 15.921875 53.71875 \nQ 15.921875 48.640625 19.1875 45.40625 \nQ 22.46875 42.1875 27.6875 42.1875 \nQ 32.765625 42.1875 36.015625 45.375 \nQ 39.265625 48.578125 39.265625 53.21875 \nQ 39.265625 58.0625 35.90625 61.359375 \nQ 32.5625 64.65625 27.59375 64.65625 \nQ 22.5625 64.65625 19.234375 61.421875 \nQ 15.921875 58.203125 15.921875 53.71875 \nz\nM 13.09375 20.65625 \nQ 13.09375 16.890625 14.875 13.375 \nQ 16.65625 9.859375 20.171875 7.921875 \nQ 23.6875 6 27.734375 6 \nQ 34.03125 6 38.125 10.046875 \nQ 42.234375 14.109375 42.234375 20.359375 \nQ 42.234375 26.703125 38.015625 30.859375 \nQ 33.796875 35.015625 27.4375 35.015625 \nQ 21.234375 35.015625 17.15625 30.90625 \nQ 13.09375 26.8125 13.09375 20.65625 \nz\n\" id=\"ArialMT-56\"/>\n      <path d=\"M 5.8125 54.390625 \nQ 5.8125 62.0625 9.671875 67.421875 \nQ 13.53125 72.796875 20.84375 72.796875 \nQ 27.59375 72.796875 32 67.984375 \nQ 36.421875 63.1875 36.421875 53.859375 \nQ 36.421875 44.78125 31.953125 39.875 \nQ 27.484375 34.96875 20.953125 34.96875 \nQ 14.453125 34.96875 10.125 39.796875 \nQ 5.8125 44.625 5.8125 54.390625 \nz\nM 21.09375 66.75 \nQ 17.828125 66.75 15.65625 63.90625 \nQ 13.484375 61.078125 13.484375 53.515625 \nQ 13.484375 46.625 15.671875 43.8125 \nQ 17.875 41.015625 21.09375 41.015625 \nQ 24.421875 41.015625 26.59375 43.84375 \nQ 28.765625 46.6875 28.765625 54.203125 \nQ 28.765625 61.140625 26.5625 63.9375 \nQ 24.359375 66.75 21.09375 66.75 \nz\nM 21.140625 -2.640625 \nL 60.296875 72.796875 \nL 67.4375 72.796875 \nL 28.421875 -2.640625 \nz\nM 52.09375 16.796875 \nQ 52.09375 24.515625 55.953125 29.859375 \nQ 59.8125 35.203125 67.1875 35.203125 \nQ 73.921875 35.203125 78.34375 30.390625 \nQ 82.765625 25.59375 82.765625 16.265625 \nQ 82.765625 7.171875 78.296875 2.265625 \nQ 73.828125 -2.640625 67.234375 -2.640625 \nQ 60.75 -2.640625 56.421875 2.21875 \nQ 52.09375 7.078125 52.09375 16.796875 \nz\nM 67.4375 29.15625 \nQ 64.109375 29.15625 61.9375 26.3125 \nQ 59.765625 23.484375 59.765625 15.921875 \nQ 59.765625 9.078125 61.953125 6.25 \nQ 64.15625 3.421875 67.390625 3.421875 \nQ 70.75 3.421875 72.921875 6.25 \nQ 75.09375 9.078125 75.09375 16.609375 \nQ 75.09375 23.53125 72.890625 26.34375 \nQ 70.703125 29.15625 67.4375 29.15625 \nz\n\" id=\"ArialMT-37\"/>\n     </defs>\n     <use xlink:href=\"#ArialMT-57\"/>\n     <use x=\"55.615234\" xlink:href=\"#ArialMT-57\"/>\n     <use x=\"111.230469\" xlink:href=\"#ArialMT-46\"/>\n     <use x=\"139.013672\" xlink:href=\"#ArialMT-52\"/>\n     <use x=\"194.628906\" xlink:href=\"#ArialMT-48\"/>\n     <use x=\"250.244141\" xlink:href=\"#ArialMT-54\"/>\n     <use x=\"305.859375\" xlink:href=\"#ArialMT-56\"/>\n     <use x=\"361.474609\" xlink:href=\"#ArialMT-54\"/>\n     <use x=\"417.089844\" xlink:href=\"#ArialMT-37\"/>\n    </g>\n   </g>\n   <g id=\"text_4\">\n    <!-- 1 -->\n    <g style=\"fill:#262626;\" transform=\"translate(335.231745 177.230943)scale(0.11 -0.11)\">\n     <defs>\n      <path d=\"M 37.25 0 \nL 28.46875 0 \nL 28.46875 56 \nQ 25.296875 52.984375 20.140625 49.953125 \nQ 14.984375 46.921875 10.890625 45.40625 \nL 10.890625 53.90625 \nQ 18.265625 57.375 23.78125 62.296875 \nQ 29.296875 67.234375 31.59375 71.875 \nL 37.25 71.875 \nz\n\" id=\"ArialMT-49\"/>\n     </defs>\n     <use xlink:href=\"#ArialMT-49\"/>\n    </g>\n   </g>\n   <g id=\"text_5\">\n    <!-- 0.31477% -->\n    <g style=\"fill:#262626;\" transform=\"translate(243.00263 175.703688)scale(0.12 -0.12)\">\n     <defs>\n      <path d=\"M 4.203125 18.890625 \nL 12.984375 20.0625 \nQ 14.5 12.59375 18.140625 9.296875 \nQ 21.78125 6 27 6 \nQ 33.203125 6 37.46875 10.296875 \nQ 41.75 14.59375 41.75 20.953125 \nQ 41.75 27 37.796875 30.921875 \nQ 33.84375 34.859375 27.734375 34.859375 \nQ 25.25 34.859375 21.53125 33.890625 \nL 22.515625 41.609375 \nQ 23.390625 41.5 23.921875 41.5 \nQ 29.546875 41.5 34.03125 44.421875 \nQ 38.53125 47.359375 38.53125 53.46875 \nQ 38.53125 58.296875 35.25 61.46875 \nQ 31.984375 64.65625 26.8125 64.65625 \nQ 21.6875 64.65625 18.265625 61.421875 \nQ 14.84375 58.203125 13.875 51.765625 \nL 5.078125 53.328125 \nQ 6.6875 62.15625 12.390625 67.015625 \nQ 18.109375 71.875 26.609375 71.875 \nQ 32.46875 71.875 37.390625 69.359375 \nQ 42.328125 66.84375 44.9375 62.5 \nQ 47.5625 58.15625 47.5625 53.265625 \nQ 47.5625 48.640625 45.0625 44.828125 \nQ 42.578125 41.015625 37.703125 38.765625 \nQ 44.046875 37.3125 47.5625 32.6875 \nQ 51.078125 28.078125 51.078125 21.140625 \nQ 51.078125 11.765625 44.234375 5.25 \nQ 37.40625 -1.265625 26.953125 -1.265625 \nQ 17.53125 -1.265625 11.296875 4.34375 \nQ 5.078125 9.96875 4.203125 18.890625 \nz\n\" id=\"ArialMT-51\"/>\n      <path d=\"M 4.734375 62.203125 \nL 4.734375 70.65625 \nL 51.078125 70.65625 \nL 51.078125 63.8125 \nQ 44.234375 56.546875 37.515625 44.484375 \nQ 30.8125 32.421875 27.15625 19.671875 \nQ 24.515625 10.6875 23.78125 0 \nL 14.75 0 \nQ 14.890625 8.453125 18.0625 20.40625 \nQ 21.234375 32.375 27.171875 43.484375 \nQ 33.109375 54.59375 39.796875 62.203125 \nz\n\" id=\"ArialMT-55\"/>\n     </defs>\n     <use xlink:href=\"#ArialMT-48\"/>\n     <use x=\"55.615234\" xlink:href=\"#ArialMT-46\"/>\n     <use x=\"83.398438\" xlink:href=\"#ArialMT-51\"/>\n     <use x=\"139.013672\" xlink:href=\"#ArialMT-49\"/>\n     <use x=\"194.628906\" xlink:href=\"#ArialMT-52\"/>\n     <use x=\"250.244141\" xlink:href=\"#ArialMT-55\"/>\n     <use x=\"305.859375\" xlink:href=\"#ArialMT-55\"/>\n     <use x=\"361.474609\" xlink:href=\"#ArialMT-37\"/>\n    </g>\n   </g>\n   <g id=\"text_6\">\n    <!-- -1 -->\n    <g style=\"fill:#262626;\" transform=\"translate(335.282238 174.435709)scale(0.11 -0.11)\">\n     <defs>\n      <path d=\"M 3.171875 21.484375 \nL 3.171875 30.328125 \nL 30.171875 30.328125 \nL 30.171875 21.484375 \nz\n\" id=\"ArialMT-45\"/>\n     </defs>\n     <use xlink:href=\"#ArialMT-45\"/>\n     <use x=\"33.300781\" xlink:href=\"#ArialMT-49\"/>\n    </g>\n   </g>\n   <g id=\"text_7\">\n    <!-- 0.27837% -->\n    <g style=\"fill:#262626;\" transform=\"translate(243.03117 174.123774)scale(0.12 -0.12)\">\n     <defs>\n      <path d=\"M 50.34375 8.453125 \nL 50.34375 0 \nL 3.03125 0 \nQ 2.9375 3.171875 4.046875 6.109375 \nQ 5.859375 10.9375 9.828125 15.625 \nQ 13.8125 20.3125 21.34375 26.46875 \nQ 33.015625 36.03125 37.109375 41.625 \nQ 41.21875 47.21875 41.21875 52.203125 \nQ 41.21875 57.421875 37.46875 61 \nQ 33.734375 64.59375 27.734375 64.59375 \nQ 21.390625 64.59375 17.578125 60.78125 \nQ 13.765625 56.984375 13.71875 50.25 \nL 4.6875 51.171875 \nQ 5.609375 61.28125 11.65625 66.578125 \nQ 17.71875 71.875 27.9375 71.875 \nQ 38.234375 71.875 44.234375 66.15625 \nQ 50.25 60.453125 50.25 52 \nQ 50.25 47.703125 48.484375 43.546875 \nQ 46.734375 39.40625 42.65625 34.8125 \nQ 38.578125 30.21875 29.109375 22.21875 \nQ 21.1875 15.578125 18.9375 13.203125 \nQ 16.703125 10.84375 15.234375 8.453125 \nz\n\" id=\"ArialMT-50\"/>\n     </defs>\n     <use xlink:href=\"#ArialMT-48\"/>\n     <use x=\"55.615234\" xlink:href=\"#ArialMT-46\"/>\n     <use x=\"83.398438\" xlink:href=\"#ArialMT-50\"/>\n     <use x=\"139.013672\" xlink:href=\"#ArialMT-55\"/>\n     <use x=\"194.628906\" xlink:href=\"#ArialMT-56\"/>\n     <use x=\"250.244141\" xlink:href=\"#ArialMT-51\"/>\n     <use x=\"305.859375\" xlink:href=\"#ArialMT-55\"/>\n     <use x=\"361.474609\" xlink:href=\"#ArialMT-37\"/>\n    </g>\n   </g>\n  </g>\n </g>\n</svg>\n",
      "image/png": "[encoded data removed]"
     },
     "metadata": {}
    }
   ],
   "source": [
    "plt.figure(figsize=(24,6))\n",
    "df_train.Valid.value_counts().plot(kind='pie', autopct='%0.05f%%', colors=['lightblue', 'lightgreen', 'orange'], explode=(0.05, 0.05, 0.05))"
   ]
  },
  {
   "source": [
    "## NAIVE BUILD ON"
   ],
   "cell_type": "markdown",
   "metadata": {}
  },
  {
   "cell_type": "code",
   "execution_count": 25,
   "metadata": {},
   "outputs": [],
   "source": [
    "\n",
    "model  = tf.keras.models.Sequential()\n",
    "_filters = df_train.shape[1]\n",
    "\n",
    "\n",
    "model.add(tf.keras.layers.Conv1D(filters=63, kernel_size=3, activation='relu',input_shape=(12,63)))\n",
    "\n",
    "model.add(tf.keras.layers.Conv1D(filters=63, kernel_size=3, activation='relu'))\n",
    "\n",
    "model.add(tf.keras.layers.MaxPool1D(pool_size=2, strides=1))\n",
    "\n",
    "model.add(tf.keras.layers.Conv1D(filters=32, kernel_size=1, activation='relu'))\n",
    "\n",
    "model.add(tf.keras.layers.MaxPool1D(pool_size=2, strides=1))\n",
    "\n",
    "model.add(tf.keras.layers.Flatten())\n",
    "\n",
    "#model.add(tf.keras.layers.Dense(units=63, activation='relu'))\n",
    "\n",
    "#model.add(tf.keras.layers.Dropout(0.2))\n",
    "\n",
    "model.add(tf.keras.layers.Dense(units=128, activation='relu'))\n",
    "\n",
    "model.add(tf.keras.layers.Dropout(0.2))\n",
    "\n",
    "#model.add(tf.keras.layers.Dense(units=256, activation='relu'))\n",
    "\n",
    "#model.add(tf.keras.layers.Dropout(0.2))\n",
    "\n",
    "#model.add(tf.keras.layers.Dense(units=128, activation='relu'))\n",
    "\n",
    "#model.add(tf.keras.layers.Dropout(0.2))\n",
    "\n",
    "#model.add(tf.keras.layers.Dense(units=63, activation='relu'))\n",
    "\n",
    "#model.add(tf.keras.layers.Dropout(0.2))\n",
    "\n",
    "model.add(tf.keras.layers.Dense(units=3, activation='softmax'))\n"
   ]
  },
  {
   "cell_type": "code",
   "execution_count": 26,
   "metadata": {},
   "outputs": [
    {
     "output_type": "stream",
     "name": "stdout",
     "text": [
      "Model: \"sequential\"\n_________________________________________________________________\nLayer (type)                 Output Shape              Param #   \n=================================================================\nconv1d (Conv1D)              (None, 10, 63)            11970     \n_________________________________________________________________\nconv1d_1 (Conv1D)            (None, 8, 63)             11970     \n_________________________________________________________________\nmax_pooling1d (MaxPooling1D) (None, 7, 63)             0         \n_________________________________________________________________\nconv1d_2 (Conv1D)            (None, 7, 32)             2048      \n_________________________________________________________________\nmax_pooling1d_1 (MaxPooling1 (None, 6, 32)             0         \n_________________________________________________________________\nflatten (Flatten)            (None, 192)               0         \n_________________________________________________________________\ndense (Dense)                (None, 128)               24704     \n_________________________________________________________________\ndropout (Dropout)            (None, 128)               0         \n_________________________________________________________________\ndense_1 (Dense)              (None, 3)                 387       \n=================================================================\nTotal params: 51,079\nTrainable params: 51,079\nNon-trainable params: 0\n_________________________________________________________________\nNone\n"
     ]
    }
   ],
   "source": [
    "print(model.summary())"
   ]
  },
  {
   "cell_type": "code",
   "execution_count": 37,
   "metadata": {},
   "outputs": [
    {
     "output_type": "error",
     "ename": "ValueError",
     "evalue": "When passing a list of lists as `metrics`, it should have one entry per model output. The model has 1 outputs, but you passed metrics=[[<tensorflow.python.keras.metrics.CategoricalAccuracy object at 0x7fd2726f8b80>, <__main__.CategoricalTruePositives object at 0x7fd2726f8b50>], <tensorflow.python.keras.metrics.Precision object at 0x7fd255c17280>, <tensorflow.python.keras.metrics.Recall object at 0x7fd255c17a90>]",
     "traceback": [
      "\u001b[0;31m---------------------------------------------------------------------------\u001b[0m",
      "\u001b[0;31mValueError\u001b[0m                                Traceback (most recent call last)",
      "\u001b[0;32m<timed exec>\u001b[0m in \u001b[0;36m<module>\u001b[0;34m\u001b[0m\n",
      "\u001b[0;32m~/anaconda3/envs/DataSciences/lib/python3.8/site-packages/tensorflow/python/training/tracking/base.py\u001b[0m in \u001b[0;36m_method_wrapper\u001b[0;34m(self, *args, **kwargs)\u001b[0m\n\u001b[1;32m    515\u001b[0m     \u001b[0mself\u001b[0m\u001b[0;34m.\u001b[0m\u001b[0m_self_setattr_tracking\u001b[0m \u001b[0;34m=\u001b[0m \u001b[0;32mFalse\u001b[0m  \u001b[0;31m# pylint: disable=protected-access\u001b[0m\u001b[0;34m\u001b[0m\u001b[0;34m\u001b[0m\u001b[0m\n\u001b[1;32m    516\u001b[0m     \u001b[0;32mtry\u001b[0m\u001b[0;34m:\u001b[0m\u001b[0;34m\u001b[0m\u001b[0;34m\u001b[0m\u001b[0m\n\u001b[0;32m--> 517\u001b[0;31m       \u001b[0mresult\u001b[0m \u001b[0;34m=\u001b[0m \u001b[0mmethod\u001b[0m\u001b[0;34m(\u001b[0m\u001b[0mself\u001b[0m\u001b[0;34m,\u001b[0m \u001b[0;34m*\u001b[0m\u001b[0margs\u001b[0m\u001b[0;34m,\u001b[0m \u001b[0;34m**\u001b[0m\u001b[0mkwargs\u001b[0m\u001b[0;34m)\u001b[0m\u001b[0;34m\u001b[0m\u001b[0;34m\u001b[0m\u001b[0m\n\u001b[0m\u001b[1;32m    518\u001b[0m     \u001b[0;32mfinally\u001b[0m\u001b[0;34m:\u001b[0m\u001b[0;34m\u001b[0m\u001b[0;34m\u001b[0m\u001b[0m\n\u001b[1;32m    519\u001b[0m       \u001b[0mself\u001b[0m\u001b[0;34m.\u001b[0m\u001b[0m_self_setattr_tracking\u001b[0m \u001b[0;34m=\u001b[0m \u001b[0mprevious_value\u001b[0m  \u001b[0;31m# pylint: disable=protected-access\u001b[0m\u001b[0;34m\u001b[0m\u001b[0;34m\u001b[0m\u001b[0m\n",
      "\u001b[0;32m~/anaconda3/envs/DataSciences/lib/python3.8/site-packages/tensorflow/python/keras/engine/training_v1.py\u001b[0m in \u001b[0;36mcompile\u001b[0;34m(self, optimizer, loss, metrics, loss_weights, sample_weight_mode, weighted_metrics, target_tensors, distribute, **kwargs)\u001b[0m\n\u001b[1;32m    438\u001b[0m     \u001b[0;32mwith\u001b[0m \u001b[0mK\u001b[0m\u001b[0;34m.\u001b[0m\u001b[0mget_graph\u001b[0m\u001b[0;34m(\u001b[0m\u001b[0;34m)\u001b[0m\u001b[0;34m.\u001b[0m\u001b[0mas_default\u001b[0m\u001b[0;34m(\u001b[0m\u001b[0;34m)\u001b[0m\u001b[0;34m:\u001b[0m\u001b[0;34m\u001b[0m\u001b[0;34m\u001b[0m\u001b[0m\n\u001b[1;32m    439\u001b[0m       \u001b[0;31m# Save all metric attributes per output of the model.\u001b[0m\u001b[0;34m\u001b[0m\u001b[0;34m\u001b[0m\u001b[0;34m\u001b[0m\u001b[0m\n\u001b[0;32m--> 440\u001b[0;31m       \u001b[0mself\u001b[0m\u001b[0;34m.\u001b[0m\u001b[0m_cache_output_metric_attributes\u001b[0m\u001b[0;34m(\u001b[0m\u001b[0mmetrics\u001b[0m\u001b[0;34m,\u001b[0m \u001b[0mweighted_metrics\u001b[0m\u001b[0;34m)\u001b[0m\u001b[0;34m\u001b[0m\u001b[0;34m\u001b[0m\u001b[0m\n\u001b[0m\u001b[1;32m    441\u001b[0m \u001b[0;34m\u001b[0m\u001b[0m\n\u001b[1;32m    442\u001b[0m       \u001b[0;31m# Set metric attributes on model.\u001b[0m\u001b[0;34m\u001b[0m\u001b[0;34m\u001b[0m\u001b[0;34m\u001b[0m\u001b[0m\n",
      "\u001b[0;32m~/anaconda3/envs/DataSciences/lib/python3.8/site-packages/tensorflow/python/keras/engine/training_v1.py\u001b[0m in \u001b[0;36m_cache_output_metric_attributes\u001b[0;34m(self, metrics, weighted_metrics)\u001b[0m\n\u001b[1;32m   1792\u001b[0m       \u001b[0;32melse\u001b[0m\u001b[0;34m:\u001b[0m\u001b[0;34m\u001b[0m\u001b[0;34m\u001b[0m\u001b[0m\n\u001b[1;32m   1793\u001b[0m         \u001b[0moutput_shapes\u001b[0m\u001b[0;34m.\u001b[0m\u001b[0mappend\u001b[0m\u001b[0;34m(\u001b[0m\u001b[0moutput\u001b[0m\u001b[0;34m.\u001b[0m\u001b[0mshape\u001b[0m\u001b[0;34m.\u001b[0m\u001b[0mas_list\u001b[0m\u001b[0;34m(\u001b[0m\u001b[0;34m)\u001b[0m\u001b[0;34m)\u001b[0m\u001b[0;34m\u001b[0m\u001b[0;34m\u001b[0m\u001b[0m\n\u001b[0;32m-> 1794\u001b[0;31m     self._per_output_metrics = training_utils_v1.collect_per_output_metric_info(\n\u001b[0m\u001b[1;32m   1795\u001b[0m         metrics, self.output_names, output_shapes, self.loss_functions)\n\u001b[1;32m   1796\u001b[0m     self._per_output_weighted_metrics = (\n",
      "\u001b[0;32m~/anaconda3/envs/DataSciences/lib/python3.8/site-packages/tensorflow/python/keras/engine/training_utils_v1.py\u001b[0m in \u001b[0;36mcollect_per_output_metric_info\u001b[0;34m(metrics, output_names, output_shapes, loss_fns, is_weighted)\u001b[0m\n\u001b[1;32m    748\u001b[0m     \u001b[0;32mif\u001b[0m \u001b[0many_sub_list\u001b[0m\u001b[0;34m:\u001b[0m\u001b[0;34m\u001b[0m\u001b[0;34m\u001b[0m\u001b[0m\n\u001b[1;32m    749\u001b[0m       \u001b[0;32mif\u001b[0m \u001b[0mlen\u001b[0m\u001b[0;34m(\u001b[0m\u001b[0mmetrics\u001b[0m\u001b[0;34m)\u001b[0m \u001b[0;34m!=\u001b[0m \u001b[0mlen\u001b[0m\u001b[0;34m(\u001b[0m\u001b[0moutput_names\u001b[0m\u001b[0;34m)\u001b[0m\u001b[0;34m:\u001b[0m\u001b[0;34m\u001b[0m\u001b[0;34m\u001b[0m\u001b[0m\n\u001b[0;32m--> 750\u001b[0;31m         raise ValueError('When passing a list of lists as `metrics`, '\n\u001b[0m\u001b[1;32m    751\u001b[0m                          \u001b[0;34m'it should have one entry per model output. '\u001b[0m\u001b[0;34m\u001b[0m\u001b[0;34m\u001b[0m\u001b[0m\n\u001b[1;32m    752\u001b[0m                          \u001b[0;34m'The model has '\u001b[0m \u001b[0;34m+\u001b[0m \u001b[0mstr\u001b[0m\u001b[0;34m(\u001b[0m\u001b[0mlen\u001b[0m\u001b[0;34m(\u001b[0m\u001b[0moutput_names\u001b[0m\u001b[0;34m)\u001b[0m\u001b[0;34m)\u001b[0m \u001b[0;34m+\u001b[0m\u001b[0;34m\u001b[0m\u001b[0;34m\u001b[0m\u001b[0m\n",
      "\u001b[0;31mValueError\u001b[0m: When passing a list of lists as `metrics`, it should have one entry per model output. The model has 1 outputs, but you passed metrics=[[<tensorflow.python.keras.metrics.CategoricalAccuracy object at 0x7fd2726f8b80>, <__main__.CategoricalTruePositives object at 0x7fd2726f8b50>], <tensorflow.python.keras.metrics.Precision object at 0x7fd255c17280>, <tensorflow.python.keras.metrics.Recall object at 0x7fd255c17a90>]"
     ]
    }
   ],
   "source": [
    "%%time\n",
    "\n",
    "class CategoricalTruePositives(tf.keras.metrics.Metric):\n",
    "\n",
    "    def __init__(self, num_classes, batch_size,\n",
    "                 name=\"categorical_true_positives\", **kwargs):\n",
    "        super(CategoricalTruePositives, self).__init__(name=name, **kwargs)\n",
    "\n",
    "        self.batch_size = batch_size\n",
    "        self.num_classes = num_classes    \n",
    "\n",
    "        self.cat_true_positives = self.add_weight(name=\"ctp\", initializer=\"zeros\")\n",
    "\n",
    "    def update_state(self, y_true, y_pred, sample_weight=None):     \n",
    "\n",
    "        y_true = K.argmax(y_true, axis=-1)\n",
    "        y_pred = K.argmax(y_pred, axis=-1)\n",
    "        y_true = K.flatten(y_true)\n",
    "\n",
    "        true_poss = K.sum(K.cast((K.equal(y_true, y_pred)), dtype=tf.float32))\n",
    "\n",
    "        self.cat_true_positives.assign_add(true_poss)\n",
    "\n",
    "    def result(self):\n",
    "\n",
    "        return self.cat_true_positives\n",
    "\n",
    "\n",
    "METRICS = [\n",
    "  tf.keras.metrics.CategoricalAccuracy(name='acc'),\n",
    "  CategoricalTruePositives(3, 12),\n",
    "]\n",
    "model.compile(optimizer='adam', loss='sparse_categorical_crossentropy',metrics=[METRICS,tf.keras.metrics.Precision(),tf.keras.metrics.Recall()])\n",
    "#model.compile(optimizer='adam', loss='sparse_categorical_crossentropy',metrics=['sparse_categorical_accuracy',tf.keras.metrics.Precision(),tf.keras.metrics.Recall()])"
   ]
  },
  {
   "cell_type": "code",
   "execution_count": null,
   "metadata": {},
   "outputs": [],
   "source": []
  },
  {
   "cell_type": "code",
   "execution_count": 30,
   "metadata": {},
   "outputs": [
    {
     "output_type": "stream",
     "name": "stdout",
     "text": [
      "Train on 365333 samples\n",
      "Epoch 1/15\n"
     ]
    },
    {
     "output_type": "error",
     "ename": "InvalidArgumentError",
     "evalue": "Can not squeeze dim[1], expected a dimension of 1, got 3\n\t [[{{node metrics_2/sparse_categorical_accuracy/Squeeze}}]]",
     "traceback": [
      "\u001b[0;31m---------------------------------------------------------------------------\u001b[0m",
      "\u001b[0;31mInvalidArgumentError\u001b[0m                      Traceback (most recent call last)",
      "\u001b[0;32m<timed eval>\u001b[0m in \u001b[0;36m<module>\u001b[0;34m\u001b[0m\n",
      "\u001b[0;32m~/anaconda3/envs/DataSciences/lib/python3.8/site-packages/tensorflow/python/keras/engine/training_v1.py\u001b[0m in \u001b[0;36mfit\u001b[0;34m(self, x, y, batch_size, epochs, verbose, callbacks, validation_split, validation_data, shuffle, class_weight, sample_weight, initial_epoch, steps_per_epoch, validation_steps, validation_freq, max_queue_size, workers, use_multiprocessing, **kwargs)\u001b[0m\n\u001b[1;32m    787\u001b[0m \u001b[0;34m\u001b[0m\u001b[0m\n\u001b[1;32m    788\u001b[0m     \u001b[0mfunc\u001b[0m \u001b[0;34m=\u001b[0m \u001b[0mself\u001b[0m\u001b[0;34m.\u001b[0m\u001b[0m_select_training_loop\u001b[0m\u001b[0;34m(\u001b[0m\u001b[0mx\u001b[0m\u001b[0;34m)\u001b[0m\u001b[0;34m\u001b[0m\u001b[0;34m\u001b[0m\u001b[0m\n\u001b[0;32m--> 789\u001b[0;31m     return func.fit(\n\u001b[0m\u001b[1;32m    790\u001b[0m         \u001b[0mself\u001b[0m\u001b[0;34m,\u001b[0m\u001b[0;34m\u001b[0m\u001b[0;34m\u001b[0m\u001b[0m\n\u001b[1;32m    791\u001b[0m         \u001b[0mx\u001b[0m\u001b[0;34m=\u001b[0m\u001b[0mx\u001b[0m\u001b[0;34m,\u001b[0m\u001b[0;34m\u001b[0m\u001b[0;34m\u001b[0m\u001b[0m\n",
      "\u001b[0;32m~/anaconda3/envs/DataSciences/lib/python3.8/site-packages/tensorflow/python/keras/engine/training_arrays_v1.py\u001b[0m in \u001b[0;36mfit\u001b[0;34m(self, model, x, y, batch_size, epochs, verbose, callbacks, validation_split, validation_data, shuffle, class_weight, sample_weight, initial_epoch, steps_per_epoch, validation_steps, validation_freq, **kwargs)\u001b[0m\n\u001b[1;32m    645\u001b[0m       \u001b[0mval_x\u001b[0m\u001b[0;34m,\u001b[0m \u001b[0mval_y\u001b[0m\u001b[0;34m,\u001b[0m \u001b[0mval_sample_weights\u001b[0m \u001b[0;34m=\u001b[0m \u001b[0;32mNone\u001b[0m\u001b[0;34m,\u001b[0m \u001b[0;32mNone\u001b[0m\u001b[0;34m,\u001b[0m \u001b[0;32mNone\u001b[0m\u001b[0;34m\u001b[0m\u001b[0;34m\u001b[0m\u001b[0m\n\u001b[1;32m    646\u001b[0m \u001b[0;34m\u001b[0m\u001b[0m\n\u001b[0;32m--> 647\u001b[0;31m     return fit_loop(\n\u001b[0m\u001b[1;32m    648\u001b[0m         \u001b[0mmodel\u001b[0m\u001b[0;34m,\u001b[0m\u001b[0;34m\u001b[0m\u001b[0;34m\u001b[0m\u001b[0m\n\u001b[1;32m    649\u001b[0m         \u001b[0minputs\u001b[0m\u001b[0;34m=\u001b[0m\u001b[0mx\u001b[0m\u001b[0;34m,\u001b[0m\u001b[0;34m\u001b[0m\u001b[0;34m\u001b[0m\u001b[0m\n",
      "\u001b[0;32m~/anaconda3/envs/DataSciences/lib/python3.8/site-packages/tensorflow/python/keras/engine/training_arrays_v1.py\u001b[0m in \u001b[0;36mmodel_iteration\u001b[0;34m(model, inputs, targets, sample_weights, batch_size, epochs, verbose, callbacks, val_inputs, val_targets, val_sample_weights, shuffle, initial_epoch, steps_per_epoch, validation_steps, validation_freq, mode, validation_in_fit, prepared_feed_values_from_dataset, steps_name, **kwargs)\u001b[0m\n\u001b[1;32m    382\u001b[0m \u001b[0;34m\u001b[0m\u001b[0m\n\u001b[1;32m    383\u001b[0m         \u001b[0;31m# Get outputs.\u001b[0m\u001b[0;34m\u001b[0m\u001b[0;34m\u001b[0m\u001b[0;34m\u001b[0m\u001b[0m\n\u001b[0;32m--> 384\u001b[0;31m         \u001b[0mbatch_outs\u001b[0m \u001b[0;34m=\u001b[0m \u001b[0mf\u001b[0m\u001b[0;34m(\u001b[0m\u001b[0mins_batch\u001b[0m\u001b[0;34m)\u001b[0m\u001b[0;34m\u001b[0m\u001b[0;34m\u001b[0m\u001b[0m\n\u001b[0m\u001b[1;32m    385\u001b[0m         \u001b[0;32mif\u001b[0m \u001b[0;32mnot\u001b[0m \u001b[0misinstance\u001b[0m\u001b[0;34m(\u001b[0m\u001b[0mbatch_outs\u001b[0m\u001b[0;34m,\u001b[0m \u001b[0mlist\u001b[0m\u001b[0;34m)\u001b[0m\u001b[0;34m:\u001b[0m\u001b[0;34m\u001b[0m\u001b[0;34m\u001b[0m\u001b[0m\n\u001b[1;32m    386\u001b[0m           \u001b[0mbatch_outs\u001b[0m \u001b[0;34m=\u001b[0m \u001b[0;34m[\u001b[0m\u001b[0mbatch_outs\u001b[0m\u001b[0;34m]\u001b[0m\u001b[0;34m\u001b[0m\u001b[0;34m\u001b[0m\u001b[0m\n",
      "\u001b[0;32m~/anaconda3/envs/DataSciences/lib/python3.8/site-packages/tensorflow/python/keras/backend.py\u001b[0m in \u001b[0;36m__call__\u001b[0;34m(self, inputs)\u001b[0m\n\u001b[1;32m   3954\u001b[0m       \u001b[0mself\u001b[0m\u001b[0;34m.\u001b[0m\u001b[0m_make_callable\u001b[0m\u001b[0;34m(\u001b[0m\u001b[0mfeed_arrays\u001b[0m\u001b[0;34m,\u001b[0m \u001b[0mfeed_symbols\u001b[0m\u001b[0;34m,\u001b[0m \u001b[0msymbol_vals\u001b[0m\u001b[0;34m,\u001b[0m \u001b[0msession\u001b[0m\u001b[0;34m)\u001b[0m\u001b[0;34m\u001b[0m\u001b[0;34m\u001b[0m\u001b[0m\n\u001b[1;32m   3955\u001b[0m \u001b[0;34m\u001b[0m\u001b[0m\n\u001b[0;32m-> 3956\u001b[0;31m     fetched = self._callable_fn(*array_vals,\n\u001b[0m\u001b[1;32m   3957\u001b[0m                                 run_metadata=self.run_metadata)\n\u001b[1;32m   3958\u001b[0m     \u001b[0mself\u001b[0m\u001b[0;34m.\u001b[0m\u001b[0m_call_fetch_callbacks\u001b[0m\u001b[0;34m(\u001b[0m\u001b[0mfetched\u001b[0m\u001b[0;34m[\u001b[0m\u001b[0;34m-\u001b[0m\u001b[0mlen\u001b[0m\u001b[0;34m(\u001b[0m\u001b[0mself\u001b[0m\u001b[0;34m.\u001b[0m\u001b[0m_fetches\u001b[0m\u001b[0;34m)\u001b[0m\u001b[0;34m:\u001b[0m\u001b[0;34m]\u001b[0m\u001b[0;34m)\u001b[0m\u001b[0;34m\u001b[0m\u001b[0;34m\u001b[0m\u001b[0m\n",
      "\u001b[0;32m~/anaconda3/envs/DataSciences/lib/python3.8/site-packages/tensorflow/python/client/session.py\u001b[0m in \u001b[0;36m__call__\u001b[0;34m(self, *args, **kwargs)\u001b[0m\n\u001b[1;32m   1478\u001b[0m       \u001b[0;32mtry\u001b[0m\u001b[0;34m:\u001b[0m\u001b[0;34m\u001b[0m\u001b[0;34m\u001b[0m\u001b[0m\n\u001b[1;32m   1479\u001b[0m         \u001b[0mrun_metadata_ptr\u001b[0m \u001b[0;34m=\u001b[0m \u001b[0mtf_session\u001b[0m\u001b[0;34m.\u001b[0m\u001b[0mTF_NewBuffer\u001b[0m\u001b[0;34m(\u001b[0m\u001b[0;34m)\u001b[0m \u001b[0;32mif\u001b[0m \u001b[0mrun_metadata\u001b[0m \u001b[0;32melse\u001b[0m \u001b[0;32mNone\u001b[0m\u001b[0;34m\u001b[0m\u001b[0;34m\u001b[0m\u001b[0m\n\u001b[0;32m-> 1480\u001b[0;31m         ret = tf_session.TF_SessionRunCallable(self._session._session,\n\u001b[0m\u001b[1;32m   1481\u001b[0m                                                \u001b[0mself\u001b[0m\u001b[0;34m.\u001b[0m\u001b[0m_handle\u001b[0m\u001b[0;34m,\u001b[0m \u001b[0margs\u001b[0m\u001b[0;34m,\u001b[0m\u001b[0;34m\u001b[0m\u001b[0;34m\u001b[0m\u001b[0m\n\u001b[1;32m   1482\u001b[0m                                                run_metadata_ptr)\n",
      "\u001b[0;31mInvalidArgumentError\u001b[0m: Can not squeeze dim[1], expected a dimension of 1, got 3\n\t [[{{node metrics_2/sparse_categorical_accuracy/Squeeze}}]]"
     ]
    }
   ],
   "source": [
    "%%time\n",
    "model.fit(X_train, y_train, epochs=5)"
   ]
  },
  {
   "cell_type": "code",
   "execution_count": null,
   "metadata": {},
   "outputs": [],
   "source": []
  },
  {
   "cell_type": "code",
   "execution_count": 72,
   "metadata": {},
   "outputs": [
    {
     "output_type": "stream",
     "name": "stdout",
     "text": [
      "Test Score: 0.36145147262057137\nTest Accuracy: 9.890441596508026 %\nTest Precision: 88.87998461723328 %\nTest Recall: 88.87998461723328 %\n"
     ]
    }
   ],
   "source": [
    "score = model.evaluate(X_test, y_test, verbose=1)\n",
    "\n",
    "print(\"Test Score:\", score[0])\n",
    "print(\"Test Accuracy:\", score[1]*100,'%')\n",
    "print(\"Test Precision:\", score[2]*100,'%')\n",
    "print(\"Test Recall:\", score[3]*100,'%')"
   ]
  },
  {
   "cell_type": "code",
   "execution_count": 73,
   "metadata": {},
   "outputs": [
    {
     "output_type": "execute_result",
     "data": {
      "text/plain": [
       "9982"
      ]
     },
     "metadata": {},
     "execution_count": 73
    }
   ],
   "source": [
    "len(model.predict(X_test).reshape(-1,))"
   ]
  },
  {
   "cell_type": "code",
   "execution_count": 74,
   "metadata": {},
   "outputs": [
    {
     "output_type": "execute_result",
     "data": {
      "text/plain": [
       "array([0.8283087 , 0.17169124, 0.8514216 , ..., 0.12792106, 0.9448053 ,\n",
       "       0.05519468], dtype=float32)"
      ]
     },
     "metadata": {},
     "execution_count": 74
    }
   ],
   "source": [
    "model.predict(X_test).reshape(-1,)"
   ]
  },
  {
   "cell_type": "code",
   "execution_count": 82,
   "metadata": {},
   "outputs": [
    {
     "output_type": "execute_result",
     "data": {
      "text/plain": [
       "array([1, 0])"
      ]
     },
     "metadata": {},
     "execution_count": 82
    }
   ],
   "source": [
    "yhat = pd.DataFrame()\n",
    "yhat['Predict'] = model.predict(X_test).reshape(-1,)\n",
    "_condition1 = yhat.Predict <= 0.5\n",
    "_condition2 = yhat.Predict > 0.5\n",
    "yhat['Predict'] = np.where(_condition1, 0, np.where(_condition2, 1, 999))\n",
    "yhat.Predict.unique()"
   ]
  },
  {
   "cell_type": "code",
   "execution_count": 74,
   "metadata": {},
   "outputs": [],
   "source": []
  },
  {
   "cell_type": "code",
   "execution_count": 83,
   "metadata": {},
   "outputs": [
    {
     "output_type": "execute_result",
     "data": {
      "text/plain": [
       "<tf.Tensor 'confusion_matrix_2/ScatterNd:0' shape=(2, 2) dtype=int32>"
      ]
     },
     "metadata": {},
     "execution_count": 83
    }
   ],
   "source": [
    "tf.math.confusion_matrix(y_test.reshape(-1,), yhat.Predict, num_classes=None, weights=None, dtype=tf.dtypes.int32,name=None)"
   ]
  },
  {
   "cell_type": "code",
   "execution_count": null,
   "metadata": {},
   "outputs": [],
   "source": []
  },
  {
   "cell_type": "code",
   "execution_count": 84,
   "metadata": {},
   "outputs": [
    {
     "output_type": "stream",
     "name": "stdout",
     "text": [
      "Signaux - Precision : 88.88 %\nSignaux - Recall : 88.88 %\nAchat - F-measure: : 88.88 %\n\n\n              precision    recall  f1-score   support\n\n         Neg       0.89      0.89      0.89      4991\n         Pos       0.89      0.89      0.89      4991\n\n    accuracy                           0.89      9982\n   macro avg       0.89      0.89      0.89      9982\nweighted avg       0.89      0.89      0.89      9982\n\n            Bonnes_Estimations Mauvaises_Estimations\nvrais-réels               4436                   555\nfaux-réels                 555                  4436\n\n\u001b[34m Signaux pour \u001b[33m EUR/USD \u001b[0m\nVrais signaux trouvés    :  4436\nVrais signaux non trouvé : 555\nTotal des vrais signaux  : 4991\n\u001b[32m 88.88 % \u001b[0m\nPrecision :  88.88 %\n\u001b[31m 11.12 % \u001b[0m\nRecall 11.12 % \u001b[0m\n"
     ]
    }
   ],
   "source": [
    "from sklearn.metrics import accuracy_score, precision_score, recall_score, confusion_matrix, classification_report, f1_score\n",
    "\n",
    "y_test = y_test.reshape(-1,)\n",
    "yhat = yhat.Predict\n",
    "\n",
    "accu = round(accuracy_score(y_test, yhat) * 100,2)\n",
    "prec = round(precision_score(y_test, yhat,pos_label=1) * 100,2)\n",
    "recall = round(recall_score(y_test, yhat) * 100,2)\n",
    "f1 = round(f1_score(y_test, yhat) * 100,2)\n",
    "\n",
    "\n",
    "#print('Signaux - Accuracy :' ,accu,'%')\n",
    "print('Signaux - Precision :',prec,'%')\n",
    "print('Signaux - Recall :', recall,'%')\n",
    "print('Achat - F-measure: :' ,f1,'%')\n",
    "print('\\n')\n",
    "print(classification_report(y_test, yhat, target_names=['Neg', 'Pos']))\n",
    "conf_matrix = pd.DataFrame(columns=['Bonnes_Estimations','Mauvaises_Estimations'])\n",
    "tt = confusion_matrix(y_test, yhat, labels=[1,0])    #_model.classes_)\n",
    "\n",
    "conf_matrix.loc['vrais-réels'] = tt[0]\n",
    "conf_matrix.loc['faux-réels'] = tt[1]\n",
    "\n",
    "print(conf_matrix)\n",
    "print()\n",
    "print(col.Fore.BLUE,'Signaux pour',col.Fore.YELLOW,x,col.Style.RESET_ALL)\n",
    "_tp = tt[0][0]\n",
    "_fn = tt[0][1]\n",
    "_prec = round((tt[0][0]/(tt[0][0]+tt[0][1]))*100,2)\n",
    "_rec = round((tt[0][1]/(tt[0][0]+tt[0][1]))*100,2)\n",
    "\n",
    "print('Vrais signaux trouvés    : ',tt[0][0])\n",
    "print('Vrais signaux non trouvé :',tt[0][1])\n",
    "print('Total des vrais signaux  :',tt[0][0]+tt[0][1])\n",
    "\n",
    "if _prec > 69 :\n",
    "    print(col.Fore.GREEN,_prec,'%',col.Style.RESET_ALL)\n",
    "elif _prec < 51 :\n",
    "    print(col.Fore.RED,_prec,'%',col.Style.RESET_ALL)\n",
    "else:\n",
    "    print(col.Fore.YELLOW)\n",
    "print('Precision : ',_prec,'%')\n",
    "if _rec > 69  :\n",
    "    print(col.Fore.GREEN,_rec,'%',col.Style.RESET_ALL)\n",
    "elif _rec < 51  :\n",
    "    print(col.Fore.RED,_rec,'%',col.Style.RESET_ALL)\n",
    "else:\n",
    "    print(col.Fore.YELLOW)\n",
    "print('Recall',_rec,'%',col.Style.RESET_ALL)"
   ]
  },
  {
   "cell_type": "code",
   "execution_count": null,
   "metadata": {},
   "outputs": [],
   "source": []
  },
  {
   "cell_type": "code",
   "execution_count": 87,
   "metadata": {},
   "outputs": [
    {
     "output_type": "stream",
     "name": "stdout",
     "text": [
      "240612\nCPU times: user 720 ms, sys: 159 ms, total: 879 ms\nWall time: 872 ms\n"
     ]
    }
   ],
   "source": [
    "%%time\n",
    "_, _, df_oos = split_df(df_raw)\n",
    "scaler = MinMaxScaler()\n",
    "df_train.sort_index(inplace=True)\n",
    "for i in df.columns.unique():\n",
    "    if i != 'Signal' and i != 'Color' and i != 'Valid' and 'TRACKER':\n",
    "        df_oos[i] = scaler.fit_transform(df_oos[i].values.reshape(-1, 1))\n",
    "\n",
    "df_oos = df_oos.dropna()\n",
    "\n",
    "df_oos = strategy(df_oos)\n",
    "\n",
    "df_oos= df_oos.reindex(natsorted(df_oos.columns), axis=1)\n",
    "\n",
    "print(len(df_oos))\n",
    "\n",
    "#X_oos = X_oos.values.reshape(-1,X_oos.shape[1])\n",
    "#print(len(X_oos))\n",
    "#raw_seqoos = X_oos\n",
    "#raw_seq_yt = y_test\n",
    "# choose a number of time steps\n",
    "#n_steps = 12\n",
    "# split into samples\n",
    "#X_oos = split_sequence_oos(raw_seq, n_steps)\n"
   ]
  },
  {
   "cell_type": "code",
   "execution_count": 86,
   "metadata": {},
   "outputs": [
    {
     "output_type": "execute_result",
     "data": {
      "text/plain": [
       "((208880, 66), (0, 66), (31732, 66))"
      ]
     },
     "metadata": {},
     "execution_count": 86
    }
   ],
   "source": [
    "df_oos[df_oos.Signal==0].shape, df_oos[df_oos.Signal==-1].shape,df_oos[df_oos.Signal==1].shape"
   ]
  },
  {
   "cell_type": "code",
   "execution_count": 100,
   "metadata": {},
   "outputs": [
    {
     "output_type": "stream",
     "name": "stdout",
     "text": [
      "CPU times: user 775 ms, sys: 248 ms, total: 1.02 s\nWall time: 1.01 s\n"
     ]
    },
    {
     "output_type": "execute_result",
     "data": {
      "text/plain": [
       "((229192, 63), (5955, 63), (5465, 63), 24)"
      ]
     },
     "metadata": {},
     "execution_count": 100
    }
   ],
   "source": [
    "%%time\n",
    "test = joblib.load('BASES/EURUSD_m5')\n",
    "_, _, test = split_df(test)\n",
    "test = strategy(test)\n",
    "test[test.Signal==0].shape, test[test.Signal==-1].shape,test[test.Signal==1].shape,test[test.Signal==1].Signal[:12].sum()+abs(test[test.Signal==-1].Signal[:12].sum())"
   ]
  },
  {
   "cell_type": "code",
   "execution_count": 92,
   "metadata": {},
   "outputs": [
    {
     "output_type": "execute_result",
     "data": {
      "text/plain": [
       "22"
      ]
     },
     "metadata": {},
     "execution_count": 92
    }
   ],
   "source": [
    "5955+5465-11398"
   ]
  },
  {
   "cell_type": "code",
   "execution_count": 94,
   "metadata": {},
   "outputs": [
    {
     "output_type": "execute_result",
     "data": {
      "text/plain": [
       "2722"
      ]
     },
     "metadata": {},
     "execution_count": 94
    }
   ],
   "source": [
    "df[df.Signal!=0].Valid.sum()"
   ]
  },
  {
   "cell_type": "code",
   "execution_count": 104,
   "metadata": {},
   "outputs": [
    {
     "output_type": "stream",
     "name": "stdout",
     "text": [
      "CPU times: user 220 ms, sys: 176 ms, total: 396 ms\nWall time: 395 ms\n"
     ]
    }
   ],
   "source": [
    "%%time\n",
    "# split a univariate sequence into samples\n",
    "def split_sequence_oos(sequence, sequence_y, n_steps):\n",
    "\tX, y = list(), list()\n",
    "\tfor i in range(len(sequence)):\n",
    "\t\t# find the end of this pattern\n",
    "\t\tend_ix = i + n_steps\n",
    "\t\t# check if we are beyond the sequence\n",
    "\t\tif end_ix > len(sequence)-1:\n",
    "\t\t\tbreak\n",
    "\t\t# gather input and output parts of the pattern\n",
    "\t\tseq_x, seq_y = sequence[i:end_ix+1], sequence_y[end_ix]\n",
    "\t\tX.append(seq_x)\n",
    "\t\ty.append(seq_y)\n",
    "\treturn array(X), array(y)\n",
    " \n",
    "# define input sequence\n",
    "raw_seq = X_oos\n",
    "raw_seq_y = df_oos.Signal\n",
    "\n",
    "# choose a number of time steps\n",
    "n_steps = 11\n",
    "# split into samples\n",
    "X_oos, y_oos = split_sequence_oos(raw_seq,raw_seq_y, n_steps)"
   ]
  },
  {
   "cell_type": "code",
   "execution_count": 108,
   "metadata": {},
   "outputs": [
    {
     "output_type": "execute_result",
     "data": {
      "text/plain": [
       "(11398, 11398, 240612, 31732, 208880, 22796)"
      ]
     },
     "metadata": {},
     "execution_count": 108
    }
   ],
   "source": [
    "len(X_oos),len(y_oos),len(df_oos),len(df_oos[df_oos.Signal!=0]),len(df_oos[df_oos.Signal==0])"
   ]
  },
  {
   "cell_type": "code",
   "execution_count": 94,
   "metadata": {},
   "outputs": [
    {
     "output_type": "execute_result",
     "data": {
      "text/plain": [
       "12"
      ]
     },
     "metadata": {},
     "execution_count": 94
    }
   ],
   "source": [
    "len(X_oos[0])"
   ]
  },
  {
   "cell_type": "code",
   "execution_count": 109,
   "metadata": {},
   "outputs": [
    {
     "output_type": "stream",
     "name": "stdout",
     "text": [
      "3228   [1. 0.] \n\n  [[1.90455124e-01 2.15888838e-01 7.08547030e-01 5.02250225e-01\n  1.33362181e-01 1.33521252e-01 1.33203106e-01 2.07109233e-01\n  1.66682846e-01 1.00000000e+00 1.28089970e-01 1.25243797e-01\n  1.41522491e-01 1.41614354e-01 1.41430619e-01 2.01440602e-01\n  1.71758747e-01 1.34717135e-01 1.34801806e-01 1.34632462e-01\n  2.13599573e-01 1.67462094e-01 1.12619008e-01 8.15483871e-01\n  4.56240026e-01 1.32657436e-01 1.24453176e-01 1.25533318e-01\n  1.27854853e-01 1.19164728e-01 1.19226737e-01 1.41509085e-01\n  1.41553187e-01 1.41464979e-01 2.06436575e-01 1.77732954e-01\n  1.62210913e-01 1.63802221e-01 1.63530376e-01 1.63349774e-01\n  1.63111954e-01 1.62718174e-01 1.53327260e-01 1.46933159e-01\n  1.39251675e-01 5.44711454e-01 2.19115734e-01 3.71518178e-01\n  1.83348771e-01 1.96509912e-01 2.05303237e-01 2.16943462e-01\n  2.36882144e-01 2.53320778e-01 2.83095927e-01 3.32717287e-01\n  1.87336448e-01 5.28005464e-01 1.33956851e-01 5.54502370e-01\n  1.41509085e-01 8.86317307e-01 8.26771440e-01]\n [1.90455124e-01 2.15888838e-01 3.14844242e-01 1.35013501e-02\n  1.64702973e-01 1.64676211e-01 1.64729736e-01 2.07109233e-01\n  1.66682846e-01 1.00000000e+00 1.61261548e-01 1.58776973e-01\n  1.64804745e-01 1.64846028e-01 1.64763458e-01 2.01440602e-01\n  1.71758747e-01 1.65932833e-01 1.65980119e-01 1.65885545e-01\n  2.13599573e-01 1.67462094e-01 1.55826593e-01 8.12903226e-02\n  8.07350952e-01 1.62495384e-01 1.59532875e-01 1.57905863e-01\n  1.62632600e-01 1.57736170e-01 1.55551092e-01 1.65710691e-01\n  1.65704559e-01 1.65716823e-01 2.06436575e-01 1.77732954e-01\n  1.62210913e-01 1.63802221e-01 1.63530376e-01 1.63349774e-01\n  1.63111954e-01 1.62718174e-01 1.53327260e-01 1.46933159e-01\n  1.39251675e-01 9.79775944e-01 5.18811478e-01 4.84052933e-01\n  1.83348771e-01 1.96509912e-01 2.05303237e-01 2.16943462e-01\n  2.36882144e-01 2.53320778e-01 2.83095927e-01 3.32717287e-01\n  1.42845470e-01 8.60655738e-02 1.65120865e-01 4.02843602e-02\n  1.65710691e-01 9.30596686e-01 9.41107983e-01]\n [1.08893570e-01 1.86203017e-01 3.55545486e-01 2.97029703e-02\n  1.28713606e-01 1.28749104e-01 1.28678107e-01 1.54100317e-01\n  1.20165439e-01 1.00000000e+00 1.32817354e-01 1.41386954e-01\n  1.29658922e-01 1.29726657e-01 1.29591181e-01 1.44284829e-01\n  1.45318655e-01 1.30400464e-01 1.30485188e-01 1.30315738e-01\n  1.49941535e-01 1.08736968e-01 1.37492121e-01 1.04516129e-01\n  3.34703386e-02 1.28662521e-01 1.45550066e-01 1.49683545e-01\n  1.29138794e-01 1.43741633e-01 1.48099580e-01 1.30395096e-01\n  1.30451944e-01 1.30338243e-01 1.54077453e-01 1.32173788e-01\n  1.38909706e-01 1.74616991e-01 1.94528254e-01 2.07756421e-01\n  2.25175569e-01 2.54017978e-01 2.55727260e-01 2.55535183e-01\n  2.55304433e-01 4.30422054e-01 4.40802558e-01 6.68582699e-01\n  1.27157645e-01 1.20868377e-01 1.16666341e-01 1.11103868e-01\n  1.02421013e-01 1.02819327e-01 1.26112715e-01 1.70817454e-01\n  1.43290379e-01 1.11338798e-01 1.53293859e-01 9.32069510e-02\n  1.30395096e-01 3.07436584e-02 4.45943933e-02]\n [1.08893570e-01 1.86203017e-01 1.68226735e-01 9.00090009e-04\n  1.21110218e-01 1.21133447e-01 1.21086989e-01 1.54100317e-01\n  1.20165439e-01 1.00000000e+00 1.19343653e-01 1.22735039e-01\n  1.20711814e-01 1.20755277e-01 1.20668347e-01 1.44284829e-01\n  1.45318655e-01 1.22568789e-01 1.22616610e-01 1.22520967e-01\n  1.49941535e-01 1.08736968e-01 1.28469541e-01 8.90322581e-02\n  6.09655600e-01 1.19101491e-01 1.22820426e-01 1.26079780e-01\n  1.20292214e-01 1.22711006e-01 1.25811752e-01 1.22414240e-01\n  1.22409710e-01 1.22418770e-01 1.54077453e-01 1.32173788e-01\n  1.38909706e-01 1.74616991e-01 1.94528254e-01 2.07756421e-01\n  2.25175569e-01 2.54017978e-01 2.55727260e-01 2.55535183e-01\n  2.55304433e-01 7.41984528e-02 3.22319476e-01 2.57296900e-01\n  1.27157645e-01 1.20868377e-01 1.16666341e-01 1.11103868e-01\n  1.02421013e-01 1.02819327e-01 1.26112715e-01 1.70817454e-01\n  1.42938637e-01 5.05464481e-02 1.20287257e-01 7.10900474e-03\n  1.22414240e-01 8.56179832e-01 8.66405408e-01]\n [1.08893570e-01 1.86203017e-01 1.55637157e-01 3.78037804e-02\n  1.27094022e-01 1.27117177e-01 1.27070867e-01 1.54100317e-01\n  1.20165439e-01 1.00000000e+00 1.24480213e-01 1.25000027e-01\n  1.27001977e-01 1.27082201e-01 1.26921746e-01 1.44284829e-01\n  1.45318655e-01 1.28636795e-01 1.28684542e-01 1.28589048e-01\n  1.49941535e-01 1.08736968e-01 1.27399542e-01 2.32258065e-02\n  9.23379455e-01 1.24803910e-01 1.24574382e-01 1.25341494e-01\n  1.25940073e-01 1.24493263e-01 1.25123267e-01 1.27854050e-01\n  1.27886323e-01 1.27821775e-01 1.54077453e-01 1.32173788e-01\n  1.38909706e-01 1.74616991e-01 1.94528254e-01 2.07756421e-01\n  2.25175569e-01 2.54017978e-01 2.55727260e-01 2.55535183e-01\n  2.55304433e-01 1.11804989e-01 3.25199894e-01 3.52645339e-01\n  1.27157645e-01 1.20868377e-01 1.16666341e-01 1.11103868e-01\n  1.02421013e-01 1.02819327e-01 1.26112715e-01 1.70817454e-01\n  1.41543316e-01 6.21584699e-02 1.25174811e-01 2.68562401e-02\n  1.27854050e-01 8.54179115e-01 8.62459723e-01]\n [1.08893570e-01 1.86203017e-01 2.51260915e-01 1.70117012e-01\n  1.16560549e-01 1.16583834e-01 1.16537263e-01 1.54100317e-01\n  1.20165439e-01 1.00000000e+00 1.16295606e-01 1.20402591e-01\n  1.17226891e-01 1.17270525e-01 1.17183252e-01 1.44284829e-01\n  1.45318655e-01 1.16266450e-01 1.16252682e-01 1.16280217e-01\n  1.49941535e-01 1.08736968e-01 1.24902972e-01 2.83870968e-02\n  6.72289650e-01 1.15745961e-01 1.24091912e-01 1.24037889e-01\n  1.15720492e-01 1.22858057e-01 1.22627466e-01 1.15531214e-01\n  1.15502270e-01 1.15560161e-01 1.54077453e-01 1.32173788e-01\n  1.38909706e-01 1.74616991e-01 1.94528254e-01 2.07756421e-01\n  2.25175569e-01 2.54017978e-01 2.55727260e-01 2.55535183e-01\n  2.55304433e-01 1.98805498e-01 3.39945544e-01 5.98259754e-01\n  1.27157645e-01 1.20868377e-01 1.16666341e-01 1.11103868e-01\n  1.02421013e-01 1.02819327e-01 1.26112715e-01 1.70817454e-01\n  1.27383840e-01 2.06967213e-01 1.24593519e-01 7.50394945e-02\n  1.15531214e-01 9.31065675e-02 1.75809376e-01]\n [1.08893570e-01 1.86203017e-01 9.15609961e-02 5.40054005e-03\n  1.25511529e-01 1.25633608e-01 1.25389447e-01 1.54100317e-01\n  1.20165439e-01 1.00000000e+00 1.24738465e-01 1.26619028e-01\n  1.25086505e-01 1.25129751e-01 1.25043255e-01 1.44284829e-01\n  1.45318655e-01 1.27748794e-01 1.27821218e-01 1.27676369e-01\n  1.49941535e-01 1.08736968e-01 1.35769996e-01 1.29032258e-02\n  2.47497205e-01 1.24112482e-01 1.27915194e-01 1.28143790e-01\n  1.26068714e-01 1.28480694e-01 1.28363749e-01 1.26867237e-01\n  1.26899546e-01 1.26834925e-01 1.54077453e-01 1.32173788e-01\n  1.38909706e-01 1.74616991e-01 1.94528254e-01 2.07756421e-01\n  2.25175569e-01 2.54017978e-01 2.55727260e-01 2.55535183e-01\n  2.55304433e-01 7.69296062e-01 4.76544414e-01 4.40059843e-01\n  1.27157645e-01 1.20868377e-01 1.16666341e-01 1.11103868e-01\n  1.02421013e-01 1.02819327e-01 1.26112715e-01 1.70817454e-01\n  1.25358086e-01 5.46448087e-03 1.23907252e-01 5.52922591e-03\n  1.26867237e-01 3.99030295e-02 8.93075683e-02]\n [1.24554751e-01 1.20149035e-01 1.84359269e-01 2.10621062e-01\n  1.46949373e-01 1.46947556e-01 1.46951189e-01 1.40269960e-01\n  1.20165439e-01 1.00000000e+00 1.41253175e-01 1.40458427e-01\n  1.47948591e-01 1.47965993e-01 1.47931188e-01 1.26247432e-01\n  1.45318655e-01 1.45928146e-01 1.45926346e-01 1.45929946e-01\n  1.37063292e-01 1.08736968e-01 1.42016655e-01 3.87096774e-02\n  9.98603790e-01 1.42850416e-01 1.40600040e-01 1.41475369e-01\n  1.42641209e-01 1.40248292e-01 1.40982702e-01 1.45295982e-01\n  1.45278271e-01 1.45313695e-01 1.27125735e-01 1.32173788e-01\n  1.38909706e-01 1.74616991e-01 1.94528254e-01 2.07756421e-01\n  2.25175569e-01 2.54017978e-01 2.55727260e-01 2.55535183e-01\n  2.55304433e-01 8.31175610e-01 6.57570678e-01 6.93036334e-01\n  1.27157645e-01 1.20868377e-01 1.16666341e-01 1.11103868e-01\n  1.02421013e-01 1.02819327e-01 1.26112715e-01 1.70817454e-01\n  1.30076022e-01 2.62295082e-01 1.42017954e-01 9.71563981e-02\n  1.45295982e-01 9.10679138e-01 8.99485558e-01]\n [1.24554751e-01 1.20149035e-01 1.34252479e-01 7.74077408e-02\n  1.30914261e-01 1.30900279e-01 1.30928243e-01 1.40269960e-01\n  1.20165439e-01 1.00000000e+00 1.30993060e-01 1.33812555e-01\n  1.32031636e-01 1.32049825e-01 1.32013446e-01 1.26247432e-01\n  1.45318655e-01 1.33076800e-01 1.33075158e-01 1.33078441e-01\n  1.37063292e-01 1.08736968e-01 1.41248921e-01 1.22580645e-01\n  1.01432697e-01 1.30580675e-01 1.35681198e-01 1.36495200e-01\n  1.32092602e-01 1.35759124e-01 1.36194127e-01 1.33244520e-01\n  1.33214920e-01 1.33274122e-01 1.27125735e-01 1.32173788e-01\n  1.38909706e-01 1.74616991e-01 1.94528254e-01 2.07756421e-01\n  2.25175569e-01 2.54017978e-01 2.55727260e-01 2.55535183e-01\n  2.55304433e-01 1.80099657e-01 5.08085993e-01 3.89081883e-01\n  1.27157645e-01 1.20868377e-01 1.16666341e-01 1.11103868e-01\n  1.02421013e-01 1.02819327e-01 1.26112715e-01 1.70817454e-01\n  1.35775946e-01 9.42622951e-02 1.33099079e-01 1.04265403e-01\n  1.33244520e-01 4.11738799e-02 5.20811933e-02]\n [1.24554751e-01 1.20149035e-01 1.32899806e-01 1.62016202e-02\n  1.42696421e-01 1.42694657e-01 1.42698185e-01 1.40269960e-01\n  1.20165439e-01 1.00000000e+00 1.39643705e-01 1.38508272e-01\n  1.42745922e-01 1.42751223e-01 1.42740620e-01 1.26247432e-01\n  1.45318655e-01 1.44534478e-01 1.44545028e-01 1.44523927e-01\n  1.37063292e-01 1.08736968e-01 1.40606209e-01 1.93548387e-02\n  8.12180241e-01 1.40634874e-01 1.38540128e-01 1.37492394e-01\n  1.41584864e-01 1.38517210e-01 1.37541367e-01 1.43717081e-01\n  1.43699428e-01 1.43734735e-01 1.27125735e-01 1.32173788e-01\n  1.38909706e-01 1.74616991e-01 1.94528254e-01 2.07756421e-01\n  2.25175569e-01 2.54017978e-01 2.55727260e-01 2.55535183e-01\n  2.55304433e-01 9.09373140e-01 6.11779455e-01 7.11246514e-01\n  1.27157645e-01 1.20868377e-01 1.16666341e-01 1.11103868e-01\n  1.02421013e-01 1.02819327e-01 1.26112715e-01 1.70817454e-01\n  1.36231504e-01 5.19125683e-02 1.40413452e-01 3.63349131e-02\n  1.43717081e-01 9.31512642e-01 9.21563180e-01]\n [1.35637481e-01 1.26481305e-01 7.92977535e-02 1.44014401e-02\n  1.33448723e-01 1.33447074e-01 1.33450373e-01 1.56771750e-01\n  1.20165439e-01 1.00000000e+00 1.33590578e-01 1.37241593e-01\n  1.33255067e-01 1.33260837e-01 1.33249296e-01 1.45463151e-01\n  1.45318655e-01 1.35666802e-01 1.35665129e-01 1.35668476e-01\n  1.52146015e-01 1.08736968e-01 1.43551933e-01 2.58064516e-02\n  2.59418981e-01 1.32967215e-01 1.39096145e-01 1.40689217e-01\n  1.34249822e-01 1.39664795e-01 1.41368819e-01 1.34909768e-01\n  1.34917111e-01 1.34902425e-01 1.43620778e-01 1.32173788e-01\n  1.38909706e-01 1.74616991e-01 1.94528254e-01 2.07756421e-01\n  2.25175569e-01 2.54017978e-01 2.55727260e-01 2.55535183e-01\n  2.55304433e-01 2.12175317e-01 5.31478976e-01 6.36490986e-01\n  1.27157645e-01 1.20868377e-01 1.16666341e-01 1.11103868e-01\n  1.02421013e-01 1.02819327e-01 1.26112715e-01 1.70817454e-01\n  1.36859072e-01 1.84426230e-02 1.37771592e-01 2.05371248e-02\n  1.34909768e-01 5.75832803e-02 7.48998449e-02]\n [1.35637481e-01 1.26481305e-01 1.75426912e-01 9.54095410e-02\n  1.44328367e-01 1.44326583e-01 1.44330152e-01 1.56771750e-01\n  1.20165439e-01 1.00000000e+00 1.41428985e-01 1.40812359e-01\n  1.45328720e-01 1.45321536e-01 1.45335904e-01 1.45463151e-01\n  1.45318655e-01 1.45841813e-01 1.45827681e-01 1.45855945e-01\n  1.52146015e-01 1.08736968e-01 1.42853498e-01 2.12903226e-01\n  4.97312326e-01 1.42699244e-01 1.40750076e-01 1.40992727e-01\n  1.42559571e-01 1.40282408e-01 1.40908379e-01 1.46874884e-01\n  1.46857115e-01 1.46892655e-01 1.43620778e-01 1.32173788e-01\n  1.38909706e-01 1.74616991e-01 1.94528254e-01 2.07756421e-01\n  2.25175569e-01 2.54017978e-01 2.55727260e-01 2.55535183e-01\n  2.55304433e-01 7.04395327e-01 5.62926977e-01 5.64954213e-01\n  1.27157645e-01 1.20868377e-01 1.16666341e-01 1.11103868e-01\n  1.02421013e-01 1.02819327e-01 1.26112715e-01 1.70817454e-01\n  1.36099538e-01 1.22267760e-01 1.42121597e-01 9.71563981e-02\n  1.46874884e-01 8.99572465e-01 8.89421460e-01]\n [1.35637481e-01 1.26481305e-01 1.33131782e-01 1.89018902e-02\n  1.48766768e-01 1.48752565e-01 1.48780970e-01 1.56771750e-01\n  1.20165439e-01 1.00000000e+00 1.46678682e-01 1.47830090e-01\n  1.48628275e-01 1.48633286e-01 1.48623264e-01 1.45463151e-01\n  1.45318655e-01 1.50750484e-01 1.50736292e-01 1.50764677e-01\n  1.52146015e-01 1.08736968e-01 1.54159329e-01 5.29032258e-02\n  6.10547950e-01 1.47055981e-01 1.48327211e-01 1.50224568e-01\n  1.48375653e-01 1.48563725e-01 1.50048654e-01 1.50254721e-01\n  1.50236827e-01 1.50272617e-01 1.43620778e-01 1.32173788e-01\n  1.38909706e-01 1.74616991e-01 1.94528254e-01 2.07756421e-01\n  2.25175569e-01 2.54017978e-01 2.55727260e-01 2.55535183e-01\n  2.55304433e-01 6.54020333e-01 6.57544164e-01 5.77070704e-01\n  1.27157645e-01 1.20868377e-01 1.16666341e-01 1.11103868e-01\n  1.02421013e-01 1.02819327e-01 1.26112715e-01 1.70817454e-01\n  1.40794183e-01 3.27868852e-02 1.45718753e-01 2.44865719e-02\n  1.50254721e-01 8.66568809e-01 8.54947930e-01]]\n3229   [0. 1.] \n\n  [[1.90455124e-01 2.15888838e-01 3.14844242e-01 1.35013501e-02\n  1.64702973e-01 1.64676211e-01 1.64729736e-01 2.07109233e-01\n  1.66682846e-01 1.00000000e+00 1.61261548e-01 1.58776973e-01\n  1.64804745e-01 1.64846028e-01 1.64763458e-01 2.01440602e-01\n  1.71758747e-01 1.65932833e-01 1.65980119e-01 1.65885545e-01\n  2.13599573e-01 1.67462094e-01 1.55826593e-01 8.12903226e-02\n  8.07350952e-01 1.62495384e-01 1.59532875e-01 1.57905863e-01\n  1.62632600e-01 1.57736170e-01 1.55551092e-01 1.65710691e-01\n  1.65704559e-01 1.65716823e-01 2.06436575e-01 1.77732954e-01\n  1.62210913e-01 1.63802221e-01 1.63530376e-01 1.63349774e-01\n  1.63111954e-01 1.62718174e-01 1.53327260e-01 1.46933159e-01\n  1.39251675e-01 9.79775944e-01 5.18811478e-01 4.84052933e-01\n  1.83348771e-01 1.96509912e-01 2.05303237e-01 2.16943462e-01\n  2.36882144e-01 2.53320778e-01 2.83095927e-01 3.32717287e-01\n  1.42845470e-01 8.60655738e-02 1.65120865e-01 4.02843602e-02\n  1.65710691e-01 9.30596686e-01 9.41107983e-01]\n [1.08893570e-01 1.86203017e-01 3.55545486e-01 2.97029703e-02\n  1.28713606e-01 1.28749104e-01 1.28678107e-01 1.54100317e-01\n  1.20165439e-01 1.00000000e+00 1.32817354e-01 1.41386954e-01\n  1.29658922e-01 1.29726657e-01 1.29591181e-01 1.44284829e-01\n  1.45318655e-01 1.30400464e-01 1.30485188e-01 1.30315738e-01\n  1.49941535e-01 1.08736968e-01 1.37492121e-01 1.04516129e-01\n  3.34703386e-02 1.28662521e-01 1.45550066e-01 1.49683545e-01\n  1.29138794e-01 1.43741633e-01 1.48099580e-01 1.30395096e-01\n  1.30451944e-01 1.30338243e-01 1.54077453e-01 1.32173788e-01\n  1.38909706e-01 1.74616991e-01 1.94528254e-01 2.07756421e-01\n  2.25175569e-01 2.54017978e-01 2.55727260e-01 2.55535183e-01\n  2.55304433e-01 4.30422054e-01 4.40802558e-01 6.68582699e-01\n  1.27157645e-01 1.20868377e-01 1.16666341e-01 1.11103868e-01\n  1.02421013e-01 1.02819327e-01 1.26112715e-01 1.70817454e-01\n  1.43290379e-01 1.11338798e-01 1.53293859e-01 9.32069510e-02\n  1.30395096e-01 3.07436584e-02 4.45943933e-02]\n [1.08893570e-01 1.86203017e-01 1.68226735e-01 9.00090009e-04\n  1.21110218e-01 1.21133447e-01 1.21086989e-01 1.54100317e-01\n  1.20165439e-01 1.00000000e+00 1.19343653e-01 1.22735039e-01\n  1.20711814e-01 1.20755277e-01 1.20668347e-01 1.44284829e-01\n  1.45318655e-01 1.22568789e-01 1.22616610e-01 1.22520967e-01\n  1.49941535e-01 1.08736968e-01 1.28469541e-01 8.90322581e-02\n  6.09655600e-01 1.19101491e-01 1.22820426e-01 1.26079780e-01\n  1.20292214e-01 1.22711006e-01 1.25811752e-01 1.22414240e-01\n  1.22409710e-01 1.22418770e-01 1.54077453e-01 1.32173788e-01\n  1.38909706e-01 1.74616991e-01 1.94528254e-01 2.07756421e-01\n  2.25175569e-01 2.54017978e-01 2.55727260e-01 2.55535183e-01\n  2.55304433e-01 7.41984528e-02 3.22319476e-01 2.57296900e-01\n  1.27157645e-01 1.20868377e-01 1.16666341e-01 1.11103868e-01\n  1.02421013e-01 1.02819327e-01 1.26112715e-01 1.70817454e-01\n  1.42938637e-01 5.05464481e-02 1.20287257e-01 7.10900474e-03\n  1.22414240e-01 8.56179832e-01 8.66405408e-01]\n [1.08893570e-01 1.86203017e-01 1.55637157e-01 3.78037804e-02\n  1.27094022e-01 1.27117177e-01 1.27070867e-01 1.54100317e-01\n  1.20165439e-01 1.00000000e+00 1.24480213e-01 1.25000027e-01\n  1.27001977e-01 1.27082201e-01 1.26921746e-01 1.44284829e-01\n  1.45318655e-01 1.28636795e-01 1.28684542e-01 1.28589048e-01\n  1.49941535e-01 1.08736968e-01 1.27399542e-01 2.32258065e-02\n  9.23379455e-01 1.24803910e-01 1.24574382e-01 1.25341494e-01\n  1.25940073e-01 1.24493263e-01 1.25123267e-01 1.27854050e-01\n  1.27886323e-01 1.27821775e-01 1.54077453e-01 1.32173788e-01\n  1.38909706e-01 1.74616991e-01 1.94528254e-01 2.07756421e-01\n  2.25175569e-01 2.54017978e-01 2.55727260e-01 2.55535183e-01\n  2.55304433e-01 1.11804989e-01 3.25199894e-01 3.52645339e-01\n  1.27157645e-01 1.20868377e-01 1.16666341e-01 1.11103868e-01\n  1.02421013e-01 1.02819327e-01 1.26112715e-01 1.70817454e-01\n  1.41543316e-01 6.21584699e-02 1.25174811e-01 2.68562401e-02\n  1.27854050e-01 8.54179115e-01 8.62459723e-01]\n [1.08893570e-01 1.86203017e-01 2.51260915e-01 1.70117012e-01\n  1.16560549e-01 1.16583834e-01 1.16537263e-01 1.54100317e-01\n  1.20165439e-01 1.00000000e+00 1.16295606e-01 1.20402591e-01\n  1.17226891e-01 1.17270525e-01 1.17183252e-01 1.44284829e-01\n  1.45318655e-01 1.16266450e-01 1.16252682e-01 1.16280217e-01\n  1.49941535e-01 1.08736968e-01 1.24902972e-01 2.83870968e-02\n  6.72289650e-01 1.15745961e-01 1.24091912e-01 1.24037889e-01\n  1.15720492e-01 1.22858057e-01 1.22627466e-01 1.15531214e-01\n  1.15502270e-01 1.15560161e-01 1.54077453e-01 1.32173788e-01\n  1.38909706e-01 1.74616991e-01 1.94528254e-01 2.07756421e-01\n  2.25175569e-01 2.54017978e-01 2.55727260e-01 2.55535183e-01\n  2.55304433e-01 1.98805498e-01 3.39945544e-01 5.98259754e-01\n  1.27157645e-01 1.20868377e-01 1.16666341e-01 1.11103868e-01\n  1.02421013e-01 1.02819327e-01 1.26112715e-01 1.70817454e-01\n  1.27383840e-01 2.06967213e-01 1.24593519e-01 7.50394945e-02\n  1.15531214e-01 9.31065675e-02 1.75809376e-01]\n [1.08893570e-01 1.86203017e-01 9.15609961e-02 5.40054005e-03\n  1.25511529e-01 1.25633608e-01 1.25389447e-01 1.54100317e-01\n  1.20165439e-01 1.00000000e+00 1.24738465e-01 1.26619028e-01\n  1.25086505e-01 1.25129751e-01 1.25043255e-01 1.44284829e-01\n  1.45318655e-01 1.27748794e-01 1.27821218e-01 1.27676369e-01\n  1.49941535e-01 1.08736968e-01 1.35769996e-01 1.29032258e-02\n  2.47497205e-01 1.24112482e-01 1.27915194e-01 1.28143790e-01\n  1.26068714e-01 1.28480694e-01 1.28363749e-01 1.26867237e-01\n  1.26899546e-01 1.26834925e-01 1.54077453e-01 1.32173788e-01\n  1.38909706e-01 1.74616991e-01 1.94528254e-01 2.07756421e-01\n  2.25175569e-01 2.54017978e-01 2.55727260e-01 2.55535183e-01\n  2.55304433e-01 7.69296062e-01 4.76544414e-01 4.40059843e-01\n  1.27157645e-01 1.20868377e-01 1.16666341e-01 1.11103868e-01\n  1.02421013e-01 1.02819327e-01 1.26112715e-01 1.70817454e-01\n  1.25358086e-01 5.46448087e-03 1.23907252e-01 5.52922591e-03\n  1.26867237e-01 3.99030295e-02 8.93075683e-02]\n [1.24554751e-01 1.20149035e-01 1.84359269e-01 2.10621062e-01\n  1.46949373e-01 1.46947556e-01 1.46951189e-01 1.40269960e-01\n  1.20165439e-01 1.00000000e+00 1.41253175e-01 1.40458427e-01\n  1.47948591e-01 1.47965993e-01 1.47931188e-01 1.26247432e-01\n  1.45318655e-01 1.45928146e-01 1.45926346e-01 1.45929946e-01\n  1.37063292e-01 1.08736968e-01 1.42016655e-01 3.87096774e-02\n  9.98603790e-01 1.42850416e-01 1.40600040e-01 1.41475369e-01\n  1.42641209e-01 1.40248292e-01 1.40982702e-01 1.45295982e-01\n  1.45278271e-01 1.45313695e-01 1.27125735e-01 1.32173788e-01\n  1.38909706e-01 1.74616991e-01 1.94528254e-01 2.07756421e-01\n  2.25175569e-01 2.54017978e-01 2.55727260e-01 2.55535183e-01\n  2.55304433e-01 8.31175610e-01 6.57570678e-01 6.93036334e-01\n  1.27157645e-01 1.20868377e-01 1.16666341e-01 1.11103868e-01\n  1.02421013e-01 1.02819327e-01 1.26112715e-01 1.70817454e-01\n  1.30076022e-01 2.62295082e-01 1.42017954e-01 9.71563981e-02\n  1.45295982e-01 9.10679138e-01 8.99485558e-01]\n [1.24554751e-01 1.20149035e-01 1.34252479e-01 7.74077408e-02\n  1.30914261e-01 1.30900279e-01 1.30928243e-01 1.40269960e-01\n  1.20165439e-01 1.00000000e+00 1.30993060e-01 1.33812555e-01\n  1.32031636e-01 1.32049825e-01 1.32013446e-01 1.26247432e-01\n  1.45318655e-01 1.33076800e-01 1.33075158e-01 1.33078441e-01\n  1.37063292e-01 1.08736968e-01 1.41248921e-01 1.22580645e-01\n  1.01432697e-01 1.30580675e-01 1.35681198e-01 1.36495200e-01\n  1.32092602e-01 1.35759124e-01 1.36194127e-01 1.33244520e-01\n  1.33214920e-01 1.33274122e-01 1.27125735e-01 1.32173788e-01\n  1.38909706e-01 1.74616991e-01 1.94528254e-01 2.07756421e-01\n  2.25175569e-01 2.54017978e-01 2.55727260e-01 2.55535183e-01\n  2.55304433e-01 1.80099657e-01 5.08085993e-01 3.89081883e-01\n  1.27157645e-01 1.20868377e-01 1.16666341e-01 1.11103868e-01\n  1.02421013e-01 1.02819327e-01 1.26112715e-01 1.70817454e-01\n  1.35775946e-01 9.42622951e-02 1.33099079e-01 1.04265403e-01\n  1.33244520e-01 4.11738799e-02 5.20811933e-02]\n [1.24554751e-01 1.20149035e-01 1.32899806e-01 1.62016202e-02\n  1.42696421e-01 1.42694657e-01 1.42698185e-01 1.40269960e-01\n  1.20165439e-01 1.00000000e+00 1.39643705e-01 1.38508272e-01\n  1.42745922e-01 1.42751223e-01 1.42740620e-01 1.26247432e-01\n  1.45318655e-01 1.44534478e-01 1.44545028e-01 1.44523927e-01\n  1.37063292e-01 1.08736968e-01 1.40606209e-01 1.93548387e-02\n  8.12180241e-01 1.40634874e-01 1.38540128e-01 1.37492394e-01\n  1.41584864e-01 1.38517210e-01 1.37541367e-01 1.43717081e-01\n  1.43699428e-01 1.43734735e-01 1.27125735e-01 1.32173788e-01\n  1.38909706e-01 1.74616991e-01 1.94528254e-01 2.07756421e-01\n  2.25175569e-01 2.54017978e-01 2.55727260e-01 2.55535183e-01\n  2.55304433e-01 9.09373140e-01 6.11779455e-01 7.11246514e-01\n  1.27157645e-01 1.20868377e-01 1.16666341e-01 1.11103868e-01\n  1.02421013e-01 1.02819327e-01 1.26112715e-01 1.70817454e-01\n  1.36231504e-01 5.19125683e-02 1.40413452e-01 3.63349131e-02\n  1.43717081e-01 9.31512642e-01 9.21563180e-01]\n [1.35637481e-01 1.26481305e-01 7.92977535e-02 1.44014401e-02\n  1.33448723e-01 1.33447074e-01 1.33450373e-01 1.56771750e-01\n  1.20165439e-01 1.00000000e+00 1.33590578e-01 1.37241593e-01\n  1.33255067e-01 1.33260837e-01 1.33249296e-01 1.45463151e-01\n  1.45318655e-01 1.35666802e-01 1.35665129e-01 1.35668476e-01\n  1.52146015e-01 1.08736968e-01 1.43551933e-01 2.58064516e-02\n  2.59418981e-01 1.32967215e-01 1.39096145e-01 1.40689217e-01\n  1.34249822e-01 1.39664795e-01 1.41368819e-01 1.34909768e-01\n  1.34917111e-01 1.34902425e-01 1.43620778e-01 1.32173788e-01\n  1.38909706e-01 1.74616991e-01 1.94528254e-01 2.07756421e-01\n  2.25175569e-01 2.54017978e-01 2.55727260e-01 2.55535183e-01\n  2.55304433e-01 2.12175317e-01 5.31478976e-01 6.36490986e-01\n  1.27157645e-01 1.20868377e-01 1.16666341e-01 1.11103868e-01\n  1.02421013e-01 1.02819327e-01 1.26112715e-01 1.70817454e-01\n  1.36859072e-01 1.84426230e-02 1.37771592e-01 2.05371248e-02\n  1.34909768e-01 5.75832803e-02 7.48998449e-02]\n [1.35637481e-01 1.26481305e-01 1.75426912e-01 9.54095410e-02\n  1.44328367e-01 1.44326583e-01 1.44330152e-01 1.56771750e-01\n  1.20165439e-01 1.00000000e+00 1.41428985e-01 1.40812359e-01\n  1.45328720e-01 1.45321536e-01 1.45335904e-01 1.45463151e-01\n  1.45318655e-01 1.45841813e-01 1.45827681e-01 1.45855945e-01\n  1.52146015e-01 1.08736968e-01 1.42853498e-01 2.12903226e-01\n  4.97312326e-01 1.42699244e-01 1.40750076e-01 1.40992727e-01\n  1.42559571e-01 1.40282408e-01 1.40908379e-01 1.46874884e-01\n  1.46857115e-01 1.46892655e-01 1.43620778e-01 1.32173788e-01\n  1.38909706e-01 1.74616991e-01 1.94528254e-01 2.07756421e-01\n  2.25175569e-01 2.54017978e-01 2.55727260e-01 2.55535183e-01\n  2.55304433e-01 7.04395327e-01 5.62926977e-01 5.64954213e-01\n  1.27157645e-01 1.20868377e-01 1.16666341e-01 1.11103868e-01\n  1.02421013e-01 1.02819327e-01 1.26112715e-01 1.70817454e-01\n  1.36099538e-01 1.22267760e-01 1.42121597e-01 9.71563981e-02\n  1.46874884e-01 8.99572465e-01 8.89421460e-01]\n [1.35637481e-01 1.26481305e-01 1.33131782e-01 1.89018902e-02\n  1.48766768e-01 1.48752565e-01 1.48780970e-01 1.56771750e-01\n  1.20165439e-01 1.00000000e+00 1.46678682e-01 1.47830090e-01\n  1.48628275e-01 1.48633286e-01 1.48623264e-01 1.45463151e-01\n  1.45318655e-01 1.50750484e-01 1.50736292e-01 1.50764677e-01\n  1.52146015e-01 1.08736968e-01 1.54159329e-01 5.29032258e-02\n  6.10547950e-01 1.47055981e-01 1.48327211e-01 1.50224568e-01\n  1.48375653e-01 1.48563725e-01 1.50048654e-01 1.50254721e-01\n  1.50236827e-01 1.50272617e-01 1.43620778e-01 1.32173788e-01\n  1.38909706e-01 1.74616991e-01 1.94528254e-01 2.07756421e-01\n  2.25175569e-01 2.54017978e-01 2.55727260e-01 2.55535183e-01\n  2.55304433e-01 6.54020333e-01 6.57544164e-01 5.77070704e-01\n  1.27157645e-01 1.20868377e-01 1.16666341e-01 1.11103868e-01\n  1.02421013e-01 1.02819327e-01 1.26112715e-01 1.70817454e-01\n  1.40794183e-01 3.27868852e-02 1.45718753e-01 2.44865719e-02\n  1.50254721e-01 8.66568809e-01 8.54947930e-01]\n [1.35637481e-01 1.26481305e-01 7.87105572e-02 1.80018002e-03\n  1.52216109e-01 1.52263680e-01 1.52168538e-01 1.56771750e-01\n  1.20165439e-01 1.00000000e+00 1.50791821e-01 1.51848531e-01\n  1.51853683e-01 1.51895606e-01 1.51811755e-01 1.45463151e-01\n  1.45318655e-01 1.54191488e-01 1.54140253e-01 1.54242723e-01\n  1.52146015e-01 1.08736968e-01 1.60581698e-01 2.83870968e-02\n  7.44198510e-01 1.50299990e-01 1.52933036e-01 1.52381046e-01\n  1.52326433e-01 1.53517574e-01 1.52770325e-01 1.53461866e-01\n  1.53517861e-01 1.53405867e-01 1.43620778e-01 1.32173788e-01\n  1.38909706e-01 1.74616991e-01 1.94528254e-01 2.07756421e-01\n  2.25175569e-01 2.54017978e-01 2.55727260e-01 2.55535183e-01\n  2.55304433e-01 8.45047399e-01 6.85131593e-01 4.27058465e-01\n  1.27157645e-01 1.20868377e-01 1.16666341e-01 1.11103868e-01\n  1.02421013e-01 1.02819327e-01 1.26112715e-01 1.70817454e-01\n  1.43978355e-01 2.04918033e-02 1.49026420e-01 1.02685624e-02\n  1.53461866e-01 9.44628627e-01 9.23957839e-01]]\n"
     ]
    }
   ],
   "source": [
    "%%time\n",
    "for i in range(len(X)):\n",
    "    \n",
    "    if i<=len(X)-3:\n",
    "        continue\n",
    "    print(i,' ',y[i],'\\n\\n ',X[i])\n",
    "    "
   ]
  },
  {
   "cell_type": "code",
   "execution_count": null,
   "metadata": {},
   "outputs": [],
   "source": []
  },
  {
   "cell_type": "code",
   "execution_count": 44,
   "metadata": {},
   "outputs": [],
   "source": [
    "df_oos['Valid'].loc[12:,] = y_oos"
   ]
  },
  {
   "cell_type": "code",
   "execution_count": 45,
   "metadata": {},
   "outputs": [
    {
     "output_type": "execute_result",
     "data": {
      "text/plain": [
       "(240611, 240612)"
      ]
     },
     "metadata": {},
     "execution_count": 45
    }
   ],
   "source": [
    "df_oos.query('Signal == Valid').shape[0],df_oos.shape[0]"
   ]
  },
  {
   "cell_type": "code",
   "execution_count": 28,
   "metadata": {},
   "outputs": [
    {
     "output_type": "stream",
     "name": "stdout",
     "text": [
      "CPU times: user 11min 56s, sys: 3min 8s, total: 15min 5s\nWall time: 14min 58s\n"
     ]
    }
   ],
   "source": [
    "%%time\n",
    "PREDICTAT = []\n",
    "for idx in df_oos[df_oos.Signal!=0].index:\n",
    "    idx1 = df_oos.index.get_loc(idx) - 12\n",
    "    idx2 = df_oos.index.get_loc(idx) + 1\n",
    "    if idx1 < 0 :\n",
    "        continue\n",
    "    if idx2 >= len(df_oos):\n",
    "        break\n",
    "    _predictat = split_sequence_oos(df_oos.drop(['Signal','TRACKER','Valid'],axis=1).iloc[idx1:idx2,:],12)\n",
    "    if _predictat <= 0.5:\n",
    "        PREDICTAT.append(0)\n",
    "    else:\n",
    "        PREDICTAT.append(1)\n",
    "\n",
    "    "
   ]
  },
  {
   "cell_type": "code",
   "execution_count": 29,
   "metadata": {},
   "outputs": [
    {
     "output_type": "execute_result",
     "data": {
      "text/plain": [
       "['PREDICTAT.dag']"
      ]
     },
     "metadata": {},
     "execution_count": 29
    }
   ],
   "source": [
    "joblib.dump(PREDICTAT,'PREDICTAT.dag')"
   ]
  },
  {
   "cell_type": "code",
   "execution_count": 30,
   "metadata": {},
   "outputs": [
    {
     "output_type": "error",
     "ename": "ValueError",
     "evalue": "Length of values (31730) does not match length of index (240612)",
     "traceback": [
      "\u001b[0;31m---------------------------------------------------------------------------\u001b[0m",
      "\u001b[0;31mValueError\u001b[0m                                Traceback (most recent call last)",
      "\u001b[0;32m<ipython-input-30-78abcedb6091>\u001b[0m in \u001b[0;36m<module>\u001b[0;34m\u001b[0m\n\u001b[0;32m----> 1\u001b[0;31m \u001b[0mdf_oos\u001b[0m\u001b[0;34m[\u001b[0m\u001b[0;34m'Valid'\u001b[0m\u001b[0;34m]\u001b[0m \u001b[0;34m=\u001b[0m \u001b[0mPREDICTAT\u001b[0m\u001b[0;34m\u001b[0m\u001b[0;34m\u001b[0m\u001b[0m\n\u001b[0m",
      "\u001b[0;32m~/anaconda3/envs/DataSciences/lib/python3.8/site-packages/pandas/core/frame.py\u001b[0m in \u001b[0;36m__setitem__\u001b[0;34m(self, key, value)\u001b[0m\n\u001b[1;32m   3161\u001b[0m         \u001b[0;32melse\u001b[0m\u001b[0;34m:\u001b[0m\u001b[0;34m\u001b[0m\u001b[0;34m\u001b[0m\u001b[0m\n\u001b[1;32m   3162\u001b[0m             \u001b[0;31m# set column\u001b[0m\u001b[0;34m\u001b[0m\u001b[0;34m\u001b[0m\u001b[0;34m\u001b[0m\u001b[0m\n\u001b[0;32m-> 3163\u001b[0;31m             \u001b[0mself\u001b[0m\u001b[0;34m.\u001b[0m\u001b[0m_set_item\u001b[0m\u001b[0;34m(\u001b[0m\u001b[0mkey\u001b[0m\u001b[0;34m,\u001b[0m \u001b[0mvalue\u001b[0m\u001b[0;34m)\u001b[0m\u001b[0;34m\u001b[0m\u001b[0;34m\u001b[0m\u001b[0m\n\u001b[0m\u001b[1;32m   3164\u001b[0m \u001b[0;34m\u001b[0m\u001b[0m\n\u001b[1;32m   3165\u001b[0m     \u001b[0;32mdef\u001b[0m \u001b[0m_setitem_slice\u001b[0m\u001b[0;34m(\u001b[0m\u001b[0mself\u001b[0m\u001b[0;34m,\u001b[0m \u001b[0mkey\u001b[0m\u001b[0;34m:\u001b[0m \u001b[0mslice\u001b[0m\u001b[0;34m,\u001b[0m \u001b[0mvalue\u001b[0m\u001b[0;34m)\u001b[0m\u001b[0;34m:\u001b[0m\u001b[0;34m\u001b[0m\u001b[0;34m\u001b[0m\u001b[0m\n",
      "\u001b[0;32m~/anaconda3/envs/DataSciences/lib/python3.8/site-packages/pandas/core/frame.py\u001b[0m in \u001b[0;36m_set_item\u001b[0;34m(self, key, value)\u001b[0m\n\u001b[1;32m   3237\u001b[0m         \"\"\"\n\u001b[1;32m   3238\u001b[0m         \u001b[0mself\u001b[0m\u001b[0;34m.\u001b[0m\u001b[0m_ensure_valid_index\u001b[0m\u001b[0;34m(\u001b[0m\u001b[0mvalue\u001b[0m\u001b[0;34m)\u001b[0m\u001b[0;34m\u001b[0m\u001b[0;34m\u001b[0m\u001b[0m\n\u001b[0;32m-> 3239\u001b[0;31m         \u001b[0mvalue\u001b[0m \u001b[0;34m=\u001b[0m \u001b[0mself\u001b[0m\u001b[0;34m.\u001b[0m\u001b[0m_sanitize_column\u001b[0m\u001b[0;34m(\u001b[0m\u001b[0mkey\u001b[0m\u001b[0;34m,\u001b[0m \u001b[0mvalue\u001b[0m\u001b[0;34m)\u001b[0m\u001b[0;34m\u001b[0m\u001b[0;34m\u001b[0m\u001b[0m\n\u001b[0m\u001b[1;32m   3240\u001b[0m         \u001b[0mNDFrame\u001b[0m\u001b[0;34m.\u001b[0m\u001b[0m_set_item\u001b[0m\u001b[0;34m(\u001b[0m\u001b[0mself\u001b[0m\u001b[0;34m,\u001b[0m \u001b[0mkey\u001b[0m\u001b[0;34m,\u001b[0m \u001b[0mvalue\u001b[0m\u001b[0;34m)\u001b[0m\u001b[0;34m\u001b[0m\u001b[0;34m\u001b[0m\u001b[0m\n\u001b[1;32m   3241\u001b[0m \u001b[0;34m\u001b[0m\u001b[0m\n",
      "\u001b[0;32m~/anaconda3/envs/DataSciences/lib/python3.8/site-packages/pandas/core/frame.py\u001b[0m in \u001b[0;36m_sanitize_column\u001b[0;34m(self, key, value, broadcast)\u001b[0m\n\u001b[1;32m   3894\u001b[0m \u001b[0;34m\u001b[0m\u001b[0m\n\u001b[1;32m   3895\u001b[0m             \u001b[0;31m# turn me into an ndarray\u001b[0m\u001b[0;34m\u001b[0m\u001b[0;34m\u001b[0m\u001b[0;34m\u001b[0m\u001b[0m\n\u001b[0;32m-> 3896\u001b[0;31m             \u001b[0mvalue\u001b[0m \u001b[0;34m=\u001b[0m \u001b[0msanitize_index\u001b[0m\u001b[0;34m(\u001b[0m\u001b[0mvalue\u001b[0m\u001b[0;34m,\u001b[0m \u001b[0mself\u001b[0m\u001b[0;34m.\u001b[0m\u001b[0mindex\u001b[0m\u001b[0;34m)\u001b[0m\u001b[0;34m\u001b[0m\u001b[0;34m\u001b[0m\u001b[0m\n\u001b[0m\u001b[1;32m   3897\u001b[0m             \u001b[0;32mif\u001b[0m \u001b[0;32mnot\u001b[0m \u001b[0misinstance\u001b[0m\u001b[0;34m(\u001b[0m\u001b[0mvalue\u001b[0m\u001b[0;34m,\u001b[0m \u001b[0;34m(\u001b[0m\u001b[0mnp\u001b[0m\u001b[0;34m.\u001b[0m\u001b[0mndarray\u001b[0m\u001b[0;34m,\u001b[0m \u001b[0mIndex\u001b[0m\u001b[0;34m)\u001b[0m\u001b[0;34m)\u001b[0m\u001b[0;34m:\u001b[0m\u001b[0;34m\u001b[0m\u001b[0;34m\u001b[0m\u001b[0m\n\u001b[1;32m   3898\u001b[0m                 \u001b[0;32mif\u001b[0m \u001b[0misinstance\u001b[0m\u001b[0;34m(\u001b[0m\u001b[0mvalue\u001b[0m\u001b[0;34m,\u001b[0m \u001b[0mlist\u001b[0m\u001b[0;34m)\u001b[0m \u001b[0;32mand\u001b[0m \u001b[0mlen\u001b[0m\u001b[0;34m(\u001b[0m\u001b[0mvalue\u001b[0m\u001b[0;34m)\u001b[0m \u001b[0;34m>\u001b[0m \u001b[0;36m0\u001b[0m\u001b[0;34m:\u001b[0m\u001b[0;34m\u001b[0m\u001b[0;34m\u001b[0m\u001b[0m\n",
      "\u001b[0;32m~/anaconda3/envs/DataSciences/lib/python3.8/site-packages/pandas/core/internals/construction.py\u001b[0m in \u001b[0;36msanitize_index\u001b[0;34m(data, index)\u001b[0m\n\u001b[1;32m    749\u001b[0m     \"\"\"\n\u001b[1;32m    750\u001b[0m     \u001b[0;32mif\u001b[0m \u001b[0mlen\u001b[0m\u001b[0;34m(\u001b[0m\u001b[0mdata\u001b[0m\u001b[0;34m)\u001b[0m \u001b[0;34m!=\u001b[0m \u001b[0mlen\u001b[0m\u001b[0;34m(\u001b[0m\u001b[0mindex\u001b[0m\u001b[0;34m)\u001b[0m\u001b[0;34m:\u001b[0m\u001b[0;34m\u001b[0m\u001b[0;34m\u001b[0m\u001b[0m\n\u001b[0;32m--> 751\u001b[0;31m         raise ValueError(\n\u001b[0m\u001b[1;32m    752\u001b[0m             \u001b[0;34m\"Length of values \"\u001b[0m\u001b[0;34m\u001b[0m\u001b[0;34m\u001b[0m\u001b[0m\n\u001b[1;32m    753\u001b[0m             \u001b[0;34mf\"({len(data)}) \"\u001b[0m\u001b[0;34m\u001b[0m\u001b[0;34m\u001b[0m\u001b[0m\n",
      "\u001b[0;31mValueError\u001b[0m: Length of values (31730) does not match length of index (240612)"
     ]
    }
   ],
   "source": [
    "df_oos['Valid'] = PREDICTAT"
   ]
  },
  {
   "cell_type": "code",
   "execution_count": null,
   "metadata": {},
   "outputs": [],
   "source": []
  },
  {
   "cell_type": "code",
   "execution_count": null,
   "metadata": {},
   "outputs": [],
   "source": []
  },
  {
   "cell_type": "code",
   "execution_count": null,
   "metadata": {},
   "outputs": [],
   "source": []
  },
  {
   "cell_type": "code",
   "execution_count": null,
   "metadata": {},
   "outputs": [],
   "source": []
  },
  {
   "cell_type": "code",
   "execution_count": 134,
   "metadata": {},
   "outputs": [
    {
     "output_type": "execute_result",
     "data": {
      "text/plain": [
       "((240612, 66), 3230)"
      ]
     },
     "metadata": {},
     "execution_count": 134
    }
   ],
   "source": [
    "df_oos.shape,len(X_oos)"
   ]
  },
  {
   "cell_type": "code",
   "execution_count": 131,
   "metadata": {},
   "outputs": [
    {
     "output_type": "execute_result",
     "data": {
      "text/plain": [
       "(6460,)"
      ]
     },
     "metadata": {},
     "execution_count": 131
    }
   ],
   "source": [
    "model.predict(X_oos).reshape(-1,).shape"
   ]
  },
  {
   "cell_type": "code",
   "execution_count": 132,
   "metadata": {},
   "outputs": [
    {
     "output_type": "error",
     "ename": "ValueError",
     "evalue": "Length of values (3230) does not match length of index (240612)",
     "traceback": [
      "\u001b[0;31m---------------------------------------------------------------------------\u001b[0m",
      "\u001b[0;31mValueError\u001b[0m                                Traceback (most recent call last)",
      "\u001b[0;32m<timed exec>\u001b[0m in \u001b[0;36m<module>\u001b[0;34m\u001b[0m\n",
      "\u001b[0;32m~/anaconda3/envs/DataSciences/lib/python3.8/site-packages/pandas/core/frame.py\u001b[0m in \u001b[0;36m__setitem__\u001b[0;34m(self, key, value)\u001b[0m\n\u001b[1;32m   3161\u001b[0m         \u001b[0;32melse\u001b[0m\u001b[0;34m:\u001b[0m\u001b[0;34m\u001b[0m\u001b[0;34m\u001b[0m\u001b[0m\n\u001b[1;32m   3162\u001b[0m             \u001b[0;31m# set column\u001b[0m\u001b[0;34m\u001b[0m\u001b[0;34m\u001b[0m\u001b[0;34m\u001b[0m\u001b[0m\n\u001b[0;32m-> 3163\u001b[0;31m             \u001b[0mself\u001b[0m\u001b[0;34m.\u001b[0m\u001b[0m_set_item\u001b[0m\u001b[0;34m(\u001b[0m\u001b[0mkey\u001b[0m\u001b[0;34m,\u001b[0m \u001b[0mvalue\u001b[0m\u001b[0;34m)\u001b[0m\u001b[0;34m\u001b[0m\u001b[0;34m\u001b[0m\u001b[0m\n\u001b[0m\u001b[1;32m   3164\u001b[0m \u001b[0;34m\u001b[0m\u001b[0m\n\u001b[1;32m   3165\u001b[0m     \u001b[0;32mdef\u001b[0m \u001b[0m_setitem_slice\u001b[0m\u001b[0;34m(\u001b[0m\u001b[0mself\u001b[0m\u001b[0;34m,\u001b[0m \u001b[0mkey\u001b[0m\u001b[0;34m:\u001b[0m \u001b[0mslice\u001b[0m\u001b[0;34m,\u001b[0m \u001b[0mvalue\u001b[0m\u001b[0;34m)\u001b[0m\u001b[0;34m:\u001b[0m\u001b[0;34m\u001b[0m\u001b[0;34m\u001b[0m\u001b[0m\n",
      "\u001b[0;32m~/anaconda3/envs/DataSciences/lib/python3.8/site-packages/pandas/core/frame.py\u001b[0m in \u001b[0;36m_set_item\u001b[0;34m(self, key, value)\u001b[0m\n\u001b[1;32m   3237\u001b[0m         \"\"\"\n\u001b[1;32m   3238\u001b[0m         \u001b[0mself\u001b[0m\u001b[0;34m.\u001b[0m\u001b[0m_ensure_valid_index\u001b[0m\u001b[0;34m(\u001b[0m\u001b[0mvalue\u001b[0m\u001b[0;34m)\u001b[0m\u001b[0;34m\u001b[0m\u001b[0;34m\u001b[0m\u001b[0m\n\u001b[0;32m-> 3239\u001b[0;31m         \u001b[0mvalue\u001b[0m \u001b[0;34m=\u001b[0m \u001b[0mself\u001b[0m\u001b[0;34m.\u001b[0m\u001b[0m_sanitize_column\u001b[0m\u001b[0;34m(\u001b[0m\u001b[0mkey\u001b[0m\u001b[0;34m,\u001b[0m \u001b[0mvalue\u001b[0m\u001b[0;34m)\u001b[0m\u001b[0;34m\u001b[0m\u001b[0;34m\u001b[0m\u001b[0m\n\u001b[0m\u001b[1;32m   3240\u001b[0m         \u001b[0mNDFrame\u001b[0m\u001b[0;34m.\u001b[0m\u001b[0m_set_item\u001b[0m\u001b[0;34m(\u001b[0m\u001b[0mself\u001b[0m\u001b[0;34m,\u001b[0m \u001b[0mkey\u001b[0m\u001b[0;34m,\u001b[0m \u001b[0mvalue\u001b[0m\u001b[0;34m)\u001b[0m\u001b[0;34m\u001b[0m\u001b[0;34m\u001b[0m\u001b[0m\n\u001b[1;32m   3241\u001b[0m \u001b[0;34m\u001b[0m\u001b[0m\n",
      "\u001b[0;32m~/anaconda3/envs/DataSciences/lib/python3.8/site-packages/pandas/core/frame.py\u001b[0m in \u001b[0;36m_sanitize_column\u001b[0;34m(self, key, value, broadcast)\u001b[0m\n\u001b[1;32m   3894\u001b[0m \u001b[0;34m\u001b[0m\u001b[0m\n\u001b[1;32m   3895\u001b[0m             \u001b[0;31m# turn me into an ndarray\u001b[0m\u001b[0;34m\u001b[0m\u001b[0;34m\u001b[0m\u001b[0;34m\u001b[0m\u001b[0m\n\u001b[0;32m-> 3896\u001b[0;31m             \u001b[0mvalue\u001b[0m \u001b[0;34m=\u001b[0m \u001b[0msanitize_index\u001b[0m\u001b[0;34m(\u001b[0m\u001b[0mvalue\u001b[0m\u001b[0;34m,\u001b[0m \u001b[0mself\u001b[0m\u001b[0;34m.\u001b[0m\u001b[0mindex\u001b[0m\u001b[0;34m)\u001b[0m\u001b[0;34m\u001b[0m\u001b[0;34m\u001b[0m\u001b[0m\n\u001b[0m\u001b[1;32m   3897\u001b[0m             \u001b[0;32mif\u001b[0m \u001b[0;32mnot\u001b[0m \u001b[0misinstance\u001b[0m\u001b[0;34m(\u001b[0m\u001b[0mvalue\u001b[0m\u001b[0;34m,\u001b[0m \u001b[0;34m(\u001b[0m\u001b[0mnp\u001b[0m\u001b[0;34m.\u001b[0m\u001b[0mndarray\u001b[0m\u001b[0;34m,\u001b[0m \u001b[0mIndex\u001b[0m\u001b[0;34m)\u001b[0m\u001b[0;34m)\u001b[0m\u001b[0;34m:\u001b[0m\u001b[0;34m\u001b[0m\u001b[0;34m\u001b[0m\u001b[0m\n\u001b[1;32m   3898\u001b[0m                 \u001b[0;32mif\u001b[0m \u001b[0misinstance\u001b[0m\u001b[0;34m(\u001b[0m\u001b[0mvalue\u001b[0m\u001b[0;34m,\u001b[0m \u001b[0mlist\u001b[0m\u001b[0;34m)\u001b[0m \u001b[0;32mand\u001b[0m \u001b[0mlen\u001b[0m\u001b[0;34m(\u001b[0m\u001b[0mvalue\u001b[0m\u001b[0;34m)\u001b[0m \u001b[0;34m>\u001b[0m \u001b[0;36m0\u001b[0m\u001b[0;34m:\u001b[0m\u001b[0;34m\u001b[0m\u001b[0;34m\u001b[0m\u001b[0m\n",
      "\u001b[0;32m~/anaconda3/envs/DataSciences/lib/python3.8/site-packages/pandas/core/internals/construction.py\u001b[0m in \u001b[0;36msanitize_index\u001b[0;34m(data, index)\u001b[0m\n\u001b[1;32m    749\u001b[0m     \"\"\"\n\u001b[1;32m    750\u001b[0m     \u001b[0;32mif\u001b[0m \u001b[0mlen\u001b[0m\u001b[0;34m(\u001b[0m\u001b[0mdata\u001b[0m\u001b[0;34m)\u001b[0m \u001b[0;34m!=\u001b[0m \u001b[0mlen\u001b[0m\u001b[0;34m(\u001b[0m\u001b[0mindex\u001b[0m\u001b[0;34m)\u001b[0m\u001b[0;34m:\u001b[0m\u001b[0;34m\u001b[0m\u001b[0;34m\u001b[0m\u001b[0m\n\u001b[0;32m--> 751\u001b[0;31m         raise ValueError(\n\u001b[0m\u001b[1;32m    752\u001b[0m             \u001b[0;34m\"Length of values \"\u001b[0m\u001b[0;34m\u001b[0m\u001b[0;34m\u001b[0m\u001b[0m\n\u001b[1;32m    753\u001b[0m             \u001b[0;34mf\"({len(data)}) \"\u001b[0m\u001b[0;34m\u001b[0m\u001b[0;34m\u001b[0m\u001b[0m\n",
      "\u001b[0;31mValueError\u001b[0m: Length of values (3230) does not match length of index (240612)"
     ]
    }
   ],
   "source": [
    "%%time\n",
    "df_oos['Valid'] = model.predict(X_oos)\n",
    "_condition1 = df_oos.Valid <= 0.5\n",
    "_condition2 = df_oos.Valid > 0.5\n",
    "df_oos['Valid'] = np.where(_condition1, 0, np.where(_condition2, 1, 999))\n",
    "df_oos.Valid.unique()"
   ]
  },
  {
   "cell_type": "code",
   "execution_count": 28,
   "metadata": {},
   "outputs": [
    {
     "output_type": "execute_result",
     "data": {
      "text/plain": [
       "(240612,)"
      ]
     },
     "metadata": {},
     "execution_count": 28
    }
   ],
   "source": [
    "np.where(_condition1, 0, np.where(_condition2, 1, 999)).shape"
   ]
  },
  {
   "cell_type": "code",
   "execution_count": 29,
   "metadata": {},
   "outputs": [
    {
     "output_type": "execute_result",
     "data": {
      "text/plain": [
       "0    240089\n",
       "1       523\n",
       "Name: Valid, dtype: int64"
      ]
     },
     "metadata": {},
     "execution_count": 29
    }
   ],
   "source": [
    "df_oos.Valid.value_counts()"
   ]
  },
  {
   "cell_type": "code",
   "execution_count": 30,
   "metadata": {},
   "outputs": [
    {
     "output_type": "execute_result",
     "data": {
      "text/plain": [
       "0    208880\n",
       "1     31732\n",
       "Name: Signal, dtype: int64"
      ]
     },
     "metadata": {},
     "execution_count": 30
    }
   ],
   "source": [
    "df_oos.Signal.value_counts()"
   ]
  },
  {
   "cell_type": "code",
   "execution_count": 31,
   "metadata": {},
   "outputs": [
    {
     "output_type": "stream",
     "name": "stdout",
     "text": [
      "CPU times: user 397 ms, sys: 101 ms, total: 498 ms\nWall time: 494 ms\n"
     ]
    }
   ],
   "source": [
    "%%time\n",
    "_, _, df_oos_raw = split_df(df_raw)\n",
    "_condition3 = ((df_oos.Signal == 1) & (df_oos.Valid == 1))\n",
    "_condition4 = ((df_oos.Signal == -1 )& (df_oos.Valid == 1))\n",
    "df_oos['Signal'] = np.where(_condition3,1,np.where(_condition4,-1,0))\n",
    "df_oos_raw['Signal'] = df_oos['Signal']"
   ]
  },
  {
   "cell_type": "code",
   "execution_count": 32,
   "metadata": {},
   "outputs": [
    {
     "output_type": "execute_result",
     "data": {
      "text/plain": [
       "((240612, 66), (240612, 66))"
      ]
     },
     "metadata": {},
     "execution_count": 32
    }
   ],
   "source": [
    "df_oos.shape,df_oos_raw.shape"
   ]
  },
  {
   "cell_type": "code",
   "execution_count": 33,
   "metadata": {},
   "outputs": [
    {
     "output_type": "execute_result",
     "data": {
      "text/plain": [
       "0    240480\n",
       "1       132\n",
       "Name: Signal, dtype: int64"
      ]
     },
     "metadata": {},
     "execution_count": 33
    }
   ],
   "source": [
    "df_oos_raw.Signal.value_counts()"
   ]
  },
  {
   "cell_type": "code",
   "execution_count": 34,
   "metadata": {},
   "outputs": [
    {
     "output_type": "stream",
     "name": "stdout",
     "text": [
      "\u001b[33m\n",
      "\n",
      "_________________________________________________\n",
      "\n",
      "__________________________________\n",
      "     ___ Period 1 : =>  m5  ___\n",
      "     ___ Period 2 : =>  H1  ___\n",
      "__________________________________\n",
      "Ca$h Ini : 200000\n",
      "Date début: 2018-01-01 18:10:00\n",
      "Date fin : 2021-04-29 00:00:00\n",
      "Etat verbose : 0\n",
      "Nombre Bougies Exit : 555555555555555\n",
      "Target : 0.002\n",
      "Stop Loss : 0.001\n",
      "Trigger Reengage : 0\n",
      "Trigger Target : 1\n",
      "Trigger Inverse : 0\n",
      "Trigger StopLoss : 1\n",
      "Trigger RSI : 0\n",
      "Exposure : 1\n",
      "_bt_report :  0\n",
      "Verbose :  0\n",
      "Trigger Spread : 0.025\n",
      "Save :  0\n",
      "\n",
      "_________________________________________________\n",
      "\n",
      "\u001b[0m\n",
      "Début des opérations horodatée à 2021-05-20 00:03:01.925540\n",
      "\n",
      " _trigger_rsi : 0 \n",
      "\n",
      "\n",
      "Chargement de la nouvelle base\n",
      "\n",
      "\n",
      "\u001b[35m Le rate du ticker EUR/USD est à  1.0 \u001b[0m\n",
      "Bases chargées\n",
      "TETEL process effectué\n",
      "\u001b[36m ENTERING THE BACKTEST \u001b[0m\n",
      "100%|██████████| 240612/240612 [00:06<00:00, 38529.45it/s]\n",
      "\u001b[34m For ticker \u001b[33m EUR/USD \u001b[0m\n",
      "\u001b[35m \n",
      "Total Profit & Loss : $ \u001b[31m -3259.5 . En  44 \u001b[0m  transactions.\n",
      "\u001b[32m \n",
      "Winners Number : 9 \u001b[0m\n",
      "\u001b[31m \n",
      "Loosers number : 34 \u001b[0m\n",
      "BT's execution time 0:00:12.718237\n",
      "\u001b[33m EUR/USD \u001b[34m results \u001b[0m\n",
      "\u001b[35m Tested Period 2018-01-01 18:10:00  à 2021-04-29 00:00:00 \u001b[0m\n",
      "\u001b[36m Total Number of trades 44 \u001b[0m\n",
      "Started Cash : 200000\n",
      "P&L in currency: \u001b[31m -3259.5$ \u001b[0m\n",
      "P&L in %: \u001b[31m -1.63% \u001b[0m\n",
      "Average trade duration 103.16\n",
      "# Winners  9.0\n",
      "# Winners long  9.0\n",
      "# Winners short  0.0\n",
      "# Loosers  34.0\n",
      "# Loosers  long 34.0\n",
      "# Loosers  short 0.0\n",
      "Cumulated gains 3601.65\n",
      "Cumulated losses -6861.16\n",
      "\u001b[34m PROFIT FACTOR :  0.52 \u001b[0m\n",
      "\u001b[36m Winners Ratio : 20.93 % \u001b[0m\n",
      "Average Winners 400.18\n",
      "% Average Winners 0.2\n",
      "Average Loosers -201.8\n",
      "% Average Loosers -0.1\n",
      "Average pnl -74.08\n",
      "% Average pnl -0.05\n",
      "Number of opened trades 44\n",
      "Number of closed trades 43\n",
      "Max Exposure 1 x  165289.2561983471 =  165289.2561983471 $\n",
      "\n",
      "_bt_report : 0 \n",
      "\n"
     ]
    }
   ],
   "source": [
    "_year_bottom = df_oos_raw.index[0]\n",
    "_year_top = df_oos_raw.index[-1]\n",
    "_verbose = 0\n",
    "_,_ = bt(df_oos_raw,_year_bottom,_year_top,_nb_bougie_exit,_trigger_reengage,_trigger_target,_trigger_invers,_trigger_sl,_verbose,_cash_ini,\\\n",
    "            _rate,x,_target,_exposure,_size,_sl,_trigger_rsi=_trigger_rsi)"
   ]
  },
  {
   "source": [],
   "cell_type": "markdown",
   "metadata": {}
  },
  {
   "source": [
    "\n",
    "\n",
    "def bt(price,_year_bottom,_year_top,_nb_bougie_exit,_trigger_reengage,_trigger_target,_trigger_invers,_trigger_sl,_verbose,_cash_ini,\\\n",
    "        _rate,x,_target,_exposure,_size,_sl,_save=0,_bt_report=0,_trigger_rsi=_trigger_rsi):\n",
    "    engine = pyttsx3.init()\n",
    "\n",
    "    print(col.Fore.YELLOW)\n",
    "    print('\\n_________________________________________________\\n')\n",
    "    print('__________________________________')\n",
    "    print('     ___ Period 1 : => ', _period,' ___')\n",
    "    print('     ___ Period 2 : => ', _period2,' ___')\n",
    "    print('__________________________________')\n",
    "    print('Ca$h Ini :',_cash_ini)\n",
    "    print('Date début:',_year_bottom)\n",
    "    print('Date fin :',_year_top)\n",
    "    print('Etat verbose :',_verbose)\n",
    "    print('Nombre Bougies Exit :',_nb_bougie_exit)\n",
    "    print('Target :',_target)\n",
    "    print('Stop Loss :',_sl)\n",
    "    print('Trigger Reengage :',_trigger_reengage)\n",
    "    print('Trigger Target :',_trigger_target)\n",
    "    print('Trigger Inverse :',_trigger_invers)\n",
    "    print('Trigger StopLoss :',_trigger_sl)\n",
    "    print('Trigger RSI :',_trigger_rsi)\n",
    "    print('Exposure :',_exposure)\n",
    "    print('_bt_report : ',_bt_report)\n",
    "    print('Verbose : ',_verbose)\n",
    "    print('Trigger Spread :',_trigger_spread)\n",
    "    print('Save : ',_save)\n",
    "    print('\\n_________________________________________________\\n')\n",
    "    print(col.Style.RESET_ALL)\n",
    "\n",
    "    engine.say(\"Backtesting in progress\")\n",
    "    engine.runAndWait()\n",
    "\n",
    "\n",
    "    _t1 = dt.datetime.now()\n",
    "    print('Début des opérations horodatée à',dt.datetime.now())\n",
    "    print('\\n _trigger_rsi :',_trigger_rsi,'\\n')\n",
    "\n",
    "    _total = 0\n",
    "    _cash = _cash_ini\n",
    "    _pnl = 0\n",
    "    _tracker = 0\n",
    "\n",
    "    DATE = []\n",
    "    CONTRACT = []\n",
    "    OPEN_POZ = []\n",
    "    CLOSE_POZ = []\n",
    "    RATE_OPEN_POZ = []\n",
    "    RATE_CLOSE_POZ = []\n",
    "    PNL_LAT = []\n",
    "    PNL_REAL = []\n",
    "    TOTAL_OPEN = []\n",
    "    TOTAL_CLOSE = []\n",
    "    PRICE_BUY = []\n",
    "    PRICE_SELL = []\n",
    "    DER_POZ = []\n",
    "    TOTAL_PNL_LAT = []\n",
    "    TOTAL_PNL_REAL = []\n",
    "    EXPO_MAX = []\n",
    "    TRACKER = []\n",
    "    TRADE_DURATION = []\n",
    "    PRICE_BUY = []\n",
    "    PRICE_SELL = []\n",
    "    EQUITY = []\n",
    "    CASH = []\n",
    "    \n",
    "    df_resultats = pd.DataFrame(index=['Equity','Nbre Winners','Nbre winners long','Nbre winners short','Nbre Loosers','Nbre loosers long','Nbre loosers short','Max lenght of trade','Min lenght of trade',\\\n",
    "        'Average lenght of trade','Cumul pnl'])\n",
    "    \n",
    "    print('\\nChargement de la nouvelle base\\n\\n')\n",
    "\n",
    "    engine.say(\"קדימה\")\n",
    "    engine.runAndWait()\n",
    "\n",
    "    print(col.Fore.MAGENTA,'Le rate du ticker',x,'est à ',_rate,col.Style.RESET_ALL)\n",
    "\n",
    "    price = price[(price.index >= _year_bottom) & (price.index <= _year_top)]\n",
    "    print('Bases chargées')\n",
    "\n",
    "    print('TETEL process effectué')\n",
    "\n",
    "    print(col.Fore.CYAN,'ENTERING THE BACKTEST',col.Style.RESET_ALL)\n",
    "\n",
    "    time.sleep(0.2)\n",
    "        \n",
    "    price = price.dropna()\n",
    "\n",
    "    _position = 0\n",
    "    _equity = 0\n",
    "    _nbtransactions = 0\n",
    "    backtest_graph = pd.DataFrame()\n",
    "\n",
    "    _winner = 0\n",
    "    _looser = 0\n",
    "    _longwinner = 0\n",
    "    _longlooser = 0\n",
    "    _shortwinner = 0\n",
    "    _shortlooser = 0\n",
    "    _index_entry = 0\n",
    "    \n",
    "    _average_duration = 0\n",
    "    _total = 0\n",
    "\n",
    "    \n",
    "\n",
    "    _open_buy = 0\n",
    "    _open_sell = 0\n",
    "\n",
    "    for i in tqdm(range(0,len(price))):\n",
    "\n",
    "        _size = _cash_ini / df_ratefx.loc[x[:3],'rate']\n",
    "\n",
    "        ##### POSITIONS EN L'AIR \n",
    "        if i >= (len(price)-1) and (_position == 1 or _position == -1) :\n",
    "\n",
    "            if _position == -1:\n",
    "                _position = 99\n",
    "                _pnl = - (price.CloseAsk.iloc[i] - _price_sell_mean) * _size * _open_sell * _rate\n",
    "                _total += _pnl\n",
    "                _equity = _cash + _pnl\n",
    "                EQUITY.append(_equity)\n",
    "                CASH.append(_cash)\n",
    "                \n",
    "                if _pnl > 0:\n",
    "                    _winner += _open_sell\n",
    "                    _longwinner+=_open_sell\n",
    "                else:\n",
    "                    _looser += _open_sell\n",
    "                    _shortlooser +=_open_sell\n",
    "                \n",
    "                TRADE_DURATION.append(i - _index_entry)\n",
    "                \n",
    "                if _verbose == 1:\n",
    "                    print(col.Fore.MAGENTA,price.index[i].strftime(format='%Y-%m-%d %H:%M:%S'),col.Style.RESET_ALL)\n",
    "                    print(col.Fore.CYAN,\"Cloture des positions en l'air\",col.Style.RESET_ALL)\n",
    "                    print(_open_sell,'position closed at',price.CloseAsk.iloc[i],col.Fore.RED,'pnl', _pnl,col.Style.RESET_ALL)\n",
    "                    print('nombre de candles en position :',i - _index_entry)\n",
    "                    print('Equity :', _equity)\n",
    "\n",
    "                DATE.append(price.index[i].strftime(format='%Y-%m-%d %H:%M:%S'))\n",
    "                CONTRACT.append(x)\n",
    "                OPEN_POZ.append(0)\n",
    "                CLOSE_POZ.append(-1)\n",
    "                RATE_OPEN_POZ.append(0)\n",
    "                RATE_CLOSE_POZ.append(price.CloseAsk.iloc[i])\n",
    "                PNL_LAT.append(0)\n",
    "                PNL_REAL.append(_pnl)\n",
    "                TOTAL_PNL_LAT.append(0)\n",
    "                TOTAL_PNL_REAL.append(_pnl)\n",
    "                TOTAL_CLOSE.append(_open_sell)\n",
    "                PRICE_SELL = []\n",
    "                _open_sell = 0\n",
    "                continue\n",
    "\n",
    "            if _position == 1:\n",
    "\n",
    "                _position = 99\n",
    "                _pnl = (price.CloseBid.iloc[i] - _price_buy_mean) * _size * _open_buy * _rate\n",
    "                _total += _pnl\n",
    "                _equity = _cash + _pnl\n",
    "                EQUITY.append(_equity)\n",
    "                CASH.append(_cash)\n",
    "                \n",
    "                if _pnl > 0:\n",
    "                    _winner += _open_buy\n",
    "                    _longwinner +=_open_buy\n",
    "                else:\n",
    "                    _looser += _open_buy\n",
    "                    _longlooser += _open_buy\n",
    "\n",
    "                TRADE_DURATION.append(i - _index_entry)\n",
    "                if _verbose == 1:\n",
    "                    print(col.Fore.MAGENTA,price.index[i].strftime(format='%Y-%m-%d %H:%M:%S'),col.Style.RESET_ALL)\n",
    "                    print(col.Fore.CYAN,\"Cloture des positions en l'air\",col.Style.RESET_ALL)\n",
    "                    print(_open_buy,'positions closed at',price.CloseBid.iloc[i],col.Fore.RED,'pnl', _pnl,col.Style.RESET_ALL)\n",
    "                    print('nombre de candles en position :',i - _index_entry)\n",
    "                    print('Equity :', _equity)\n",
    "\n",
    "                DATE.append(price.index[i].strftime(format='%Y-%m-%d %H:%M:%S'))\n",
    "                CONTRACT.append(x)\n",
    "                OPEN_POZ.append(0)\n",
    "                CLOSE_POZ.append(1)\n",
    "                RATE_OPEN_POZ.append(0)\n",
    "                RATE_CLOSE_POZ.append(price.CloseBid.iloc[i])\n",
    "                PNL_LAT.append(0)\n",
    "                PNL_REAL.append(_pnl)\n",
    "                TOTAL_CLOSE.append(_open_buy) \n",
    "                TOTAL_PNL_LAT.append(0)\n",
    "                TOTAL_PNL_REAL.append(_pnl)\n",
    "                PRICE_BUY = []\n",
    "                _open_buy = 0\n",
    "                continue\n",
    "        \n",
    "        # SI PAS DE POSITION\n",
    "        if _position == 0:\n",
    "            # BUY SIGNAL\n",
    "            if  price.Signal[i] == 1: \n",
    "                _pnl = 0\n",
    "                _open_buy += 1\n",
    "                _equity = _cash + _pnl\n",
    "                EQUITY.append(_equity)\n",
    "                CASH.append(_cash)\n",
    "                _position = 1\n",
    "                _index_entry = i\n",
    "                _tracker = price.index[i]\n",
    "                _nbtransactions += 1\n",
    "                price_buy = price.CloseAsk.iloc[i]\n",
    "                PRICE_BUY.append(price_buy)\n",
    "                _price_buy_mean = round(sum(PRICE_BUY)/len(PRICE_BUY),5)\n",
    "                if _verbose == 1:\n",
    "                    print(col.Fore.MAGENTA,price.index[i].strftime(format='%Y-%m-%d %H:%M:%S'),col.Style.RESET_ALL)\n",
    "                    print('Position 1 bought at', price_buy,'(verification liste',PRICE_BUY[-1],')')\n",
    "\n",
    "                DATE.append(price.index[i].strftime(format='%Y-%m-%d %H:%M:%S'))\n",
    "                CONTRACT.append(x)\n",
    "                OPEN_POZ.append(1)\n",
    "                CLOSE_POZ.append(0)\n",
    "                RATE_OPEN_POZ.append(price_buy)\n",
    "                RATE_CLOSE_POZ.append(0)\n",
    "                PNL_LAT.append(_pnl)\n",
    "                PNL_REAL.append(0)\n",
    "                TOTAL_OPEN.append(1) \n",
    "                TOTAL_PNL_LAT.append(_pnl)\n",
    "                TOTAL_PNL_REAL.append(0)\n",
    "                continue \n",
    "\n",
    "            # SELL SIGNAL\n",
    "            elif price.Signal[i] == -1: \n",
    "                _pnl = 0\n",
    "                _open_sell += 1\n",
    "                _equity = _cash + _pnl\n",
    "                EQUITY.append(_equity)\n",
    "                CASH.append(_cash)\n",
    "                _index_entry = i\n",
    "                _tracker = price.index[i]\n",
    "                _position = -1\n",
    "                _nbtransactions += 1\n",
    "                price_sell = price.CloseBid.iloc[i]\n",
    "                PRICE_SELL.append(price_sell)\n",
    "                _price_sell_mean = round(sum(PRICE_SELL)/len(PRICE_SELL),5)\n",
    "                if _verbose == 1:\n",
    "                    print(col.Fore.MAGENTA,price.index[i].strftime(format='%Y-%m-%d %H:%M:%S'),col.Style.RESET_ALL)\n",
    "                    print('Position 1 sold at', price_sell,'(verification liste',PRICE_SELL[-1],')')\n",
    "\n",
    "                DATE.append(price.index[i].strftime(format='%Y-%m-%d %H:%M:%S'))\n",
    "                CONTRACT.append(x)\n",
    "                OPEN_POZ.append(-1)\n",
    "                CLOSE_POZ.append(0)\n",
    "                RATE_OPEN_POZ.append(price_sell)\n",
    "                RATE_CLOSE_POZ.append(0) \n",
    "                PNL_LAT.append(_pnl)\n",
    "                PNL_REAL.append(0)\n",
    "                TOTAL_PNL_LAT.append(_pnl)\n",
    "                TOTAL_PNL_REAL.append(0)\n",
    "                TOTAL_OPEN.append(1)\n",
    "                continue\n",
    "\n",
    "            else :\n",
    "                _pnl = 0\n",
    "                _equity = _cash + _pnl\n",
    "                EQUITY.append(_equity)\n",
    "                CASH.append(_cash)\n",
    "                PNL_LAT.append(0)\n",
    "                PNL_REAL.append(0)\n",
    "                continue\n",
    "        \n",
    "        # SI POSITION LONG\n",
    "        elif _position == 1:\n",
    "\n",
    "            ### RE_ENGAGE BUY ON VALID SIGNAL\n",
    "            if price.Signal[i] == 1 and i - _index_entry < _nb_bougie_exit and _trigger_reengage == 1\\\n",
    "                 and _open_buy < _exposure :\n",
    "                _pnl = 0\n",
    "                _open_buy += 1\n",
    "                _equity = _cash + _pnl\n",
    "                EQUITY.append(_equity)\n",
    "                CASH.append(_cash)\n",
    "                _position = 1\n",
    "                _index_entry = i\n",
    "                _tracker = price.index[i]\n",
    "                _nbtransactions += 1\n",
    "                price_buy = price.CloseAsk.iloc[i]\n",
    "                PRICE_BUY.append(price_buy)\n",
    "                _price_buy_mean = round(sum(PRICE_BUY)/len(PRICE_BUY),5)\n",
    "                if _verbose == 1:\n",
    "                    print(col.Fore.MAGENTA,price.index[i].strftime(format='%Y-%m-%d %H:%M:%S'),col.Style.RESET_ALL)\n",
    "                    print('Position (REENG) 1 bought at', price_buy,'(verification liste',PRICE_BUY[-1],')')\n",
    "\n",
    "                DATE.append(price.index[i].strftime(format='%Y-%m-%d %H:%M:%S'))\n",
    "                CONTRACT.append(x)\n",
    "                OPEN_POZ.append(1)\n",
    "                CLOSE_POZ.append(0)\n",
    "                RATE_OPEN_POZ.append(price_buy)\n",
    "                RATE_CLOSE_POZ.append(0)\n",
    "                PNL_LAT.append(_pnl)\n",
    "                PNL_REAL.append(0)\n",
    "                TOTAL_OPEN.append(1) \n",
    "                TOTAL_PNL_LAT.append(_pnl)\n",
    "                TOTAL_PNL_REAL.append(0)\n",
    "                continue\n",
    "            \n",
    "            ### CLOSE LONG ON RSI DROUP OUT\n",
    "            if _trigger_rsi == 1 and price.MYRSI_2[i] > 85:\n",
    "                _position = 0\n",
    "                _pnl = (price.CloseBid.iloc[i] - _price_buy_mean) * _size * _open_buy * _rate\n",
    "                _total += _pnl\n",
    "                _cash += _pnl\n",
    "                _equity = _cash\n",
    "                EQUITY.append(_equity)\n",
    "                EXPO_MAX.append(_open_buy)\n",
    "                CASH.append(_cash)\n",
    "                if _pnl >=0:\n",
    "                    _winner += _open_buy\n",
    "                    _longwinner += _open_buy\n",
    "                    TRACKER.append(_tracker)\n",
    "                else:\n",
    "                    _looser += _open_buy\n",
    "                    _longlooser +=_open_buy\n",
    "\n",
    "                TRADE_DURATION.append(i - _index_entry)\n",
    "                if _verbose == 1:\n",
    "                    print(col.Fore.MAGENTA,price.index[i].strftime(format='%Y-%m-%d %H:%M:%S'),col.Style.RESET_ALL)\n",
    "                    if _pnl < 0:\n",
    "                        print(_open_buy,'positions (RSI) closed at',price.CloseBid.iloc[i],col.Fore.RED,'pnl', _pnl,col.Style.RESET_ALL)\n",
    "                    else :\n",
    "                        print(_open_buy,'positions (RSI) closed at',price.CloseBid.iloc[i],col.Fore.GREEN,'pnl', _pnl,col.Style.RESET_ALL)\n",
    "                    print('nombre de candles en position :',i - _index_entry)\n",
    "                    print('Equity :', _equity)\n",
    "\n",
    "                DATE.append(price.index[i].strftime(format='%Y-%m-%d %H:%M:%S'))\n",
    "                CONTRACT.append(x)\n",
    "                OPEN_POZ.append(0)\n",
    "                CLOSE_POZ.append(1)\n",
    "                RATE_OPEN_POZ.append(0)\n",
    "                RATE_CLOSE_POZ.append(price.CloseBid.iloc[i])\n",
    "                PNL_LAT.append(0)\n",
    "                PNL_REAL.append(_pnl)\n",
    "                TOTAL_CLOSE.append(_open_buy) \n",
    "                TOTAL_PNL_LAT.append(0)\n",
    "                TOTAL_PNL_REAL.append(_pnl)\n",
    "                PRICE_BUY = []\n",
    "                _open_buy = 0\n",
    "                continue\n",
    "\n",
    "            ### CLOSE LONG ON INVERSE SIGNAL\n",
    "            if price.Signal[i] == -1 and _trigger_invers == 1:\n",
    "                _position = 0\n",
    "                _pnl = (price.CloseBid.iloc[i] - _price_buy_mean) * _size * _open_buy * _rate\n",
    "                _total += _pnl\n",
    "                _cash += _pnl\n",
    "                _equity = _cash\n",
    "                EQUITY.append(_equity)\n",
    "                EXPO_MAX.append(_open_buy)\n",
    "                CASH.append(_cash)\n",
    "                if _pnl >=0:\n",
    "                    _winner += _open_buy\n",
    "                    _longwinner += _open_buy\n",
    "                    TRACKER.append(_tracker)\n",
    "                else:\n",
    "                    _looser += _open_buy\n",
    "                    _longlooser +=_open_buy\n",
    "\n",
    "                TRADE_DURATION.append(i - _index_entry)\n",
    "                if _verbose == 1:\n",
    "                    print(col.Fore.MAGENTA,price.index[i].strftime(format='%Y-%m-%d %H:%M:%S'),col.Style.RESET_ALL)\n",
    "                    if _pnl < 0:\n",
    "                        print(_open_buy,'positions (INV) closed at',price.CloseBid.iloc[i],col.Fore.RED,'pnl', _pnl,col.Style.RESET_ALL)\n",
    "                    else :\n",
    "                        print(_open_buy,'positions (INV) closed at',price.CloseBid.iloc[i],col.Fore.GREEN,'pnl', _pnl,col.Style.RESET_ALL)\n",
    "                    print('nombre de candles en position :',i - _index_entry)\n",
    "                    print('Equity :', _equity)\n",
    "\n",
    "                DATE.append(price.index[i].strftime(format='%Y-%m-%d %H:%M:%S'))\n",
    "                CONTRACT.append(x)\n",
    "                OPEN_POZ.append(0)\n",
    "                CLOSE_POZ.append(1)\n",
    "                RATE_OPEN_POZ.append(0)\n",
    "                RATE_CLOSE_POZ.append(price.CloseBid.iloc[i])\n",
    "                PNL_LAT.append(0)\n",
    "                PNL_REAL.append(_pnl)\n",
    "                TOTAL_CLOSE.append(_open_buy) \n",
    "                TOTAL_PNL_LAT.append(0)\n",
    "                TOTAL_PNL_REAL.append(_pnl)\n",
    "                PRICE_BUY = []\n",
    "                _open_buy = 0\n",
    "                continue\n",
    "            \n",
    "            ### CLOSE LONG ON TIME EXIT\n",
    "            if i - _index_entry >= _nb_bougie_exit:\n",
    "                _position = 0\n",
    "                _pnl = (price.CloseBid.iloc[i] - _price_buy_mean) * _size * _open_buy * _rate\n",
    "                _total += _pnl\n",
    "                _cash += _pnl\n",
    "                _equity = _cash\n",
    "                EQUITY.append(_equity)\n",
    "                EXPO_MAX.append(_open_buy)\n",
    "                CASH.append(_cash)\n",
    "                if _pnl >=0:\n",
    "                    _winner += _open_buy\n",
    "                    _longwinner +=_open_buy\n",
    "                    TRACKER.append(_tracker)\n",
    "                else:\n",
    "                    _looser += _open_buy\n",
    "                    _longlooser += _open_buy\n",
    "\n",
    "                TRADE_DURATION.append(i - _index_entry)\n",
    "                if _verbose == 1:\n",
    "                    print(col.Fore.MAGENTA,price.index[i].strftime(format='%Y-%m-%d %H:%M:%S'),col.Style.RESET_ALL)\n",
    "                    if _pnl < 0:\n",
    "                        print(_open_buy,'positions (TIME EXIT) closed at',price.CloseBid.iloc[i],col.Fore.RED,'pnl', _pnl,col.Style.RESET_ALL)\n",
    "                    else :\n",
    "                        print(_open_buy,'positions (TIME EXIT) closed at',price.CloseBid.iloc[i],col.Fore.GREEN,'pnl', _pnl,col.Style.RESET_ALL)\n",
    "                    print('nombre de candles en position :',i - _index_entry)\n",
    "                    print('Equity :', _equity)\n",
    "\n",
    "                DATE.append(price.index[i].strftime(format='%Y-%m-%d %H:%M:%S'))\n",
    "                CONTRACT.append(x)\n",
    "                OPEN_POZ.append(0)\n",
    "                CLOSE_POZ.append(1)\n",
    "                RATE_OPEN_POZ.append(0)\n",
    "                RATE_CLOSE_POZ.append(price.CloseBid.iloc[i])\n",
    "                PNL_LAT.append(0)\n",
    "                PNL_REAL.append(_pnl)\n",
    "                TOTAL_CLOSE.append(_open_buy) \n",
    "                TOTAL_PNL_LAT.append(0)\n",
    "                TOTAL_PNL_REAL.append(_pnl)\n",
    "                PRICE_BUY = []\n",
    "                _open_buy = 0\n",
    "                continue\n",
    "            \n",
    "            # CLOSE LONG ON TARGET\n",
    "            if (float(price.HighBid.iloc[i]) - float(_price_buy_mean))/float(_price_buy_mean) >= _target and _trigger_target == 1:\n",
    "                _position = 0\n",
    "                _pnl = (price.HighBid.iloc[i] - _price_buy_mean) * _size * _open_buy * _rate\n",
    "                _total += _pnl\n",
    "                _cash += _pnl\n",
    "                _equity = _cash\n",
    "                EQUITY.append(_equity)\n",
    "                EXPO_MAX.append(_open_buy)\n",
    "                CASH.append(_cash)\n",
    "                if _pnl >=0:\n",
    "                    _winner += _open_buy\n",
    "                    _longwinner += _open_buy\n",
    "                    TRACKER.append(_tracker)\n",
    "                else:\n",
    "                    _looser += _open_buy\n",
    "                    _longlooser += _open_buy\n",
    "\n",
    "                TRADE_DURATION.append(i - _index_entry)\n",
    "                if _verbose == 1:\n",
    "                    print(col.Fore.MAGENTA,price.index[i].strftime(format='%Y-%m-%d %H:%M:%S'),col.Style.RESET_ALL)\n",
    "                    if _pnl < 0:\n",
    "                        print(_open_buy,'positions (TG) closed at',price.HighBid.iloc[i],col.Fore.RED,'pnl', _pnl,col.Style.RESET_ALL)\n",
    "                    else :\n",
    "                        print(_open_buy,'positions (TG) closed at',price.HighBid.iloc[i],col.Fore.GREEN,'pnl', _pnl,col.Style.RESET_ALL)\n",
    "                    print('nombre de candles en position :',i - _index_entry)\n",
    "                    print('Equity :', _equity)\n",
    "\n",
    "                DATE.append(price.index[i].strftime(format='%Y-%m-%d %H:%M:%S'))\n",
    "                CONTRACT.append(x)\n",
    "                OPEN_POZ.append(0)\n",
    "                CLOSE_POZ.append(1)\n",
    "                RATE_OPEN_POZ.append(0)\n",
    "                RATE_CLOSE_POZ.append(price.HighBid.iloc[i])\n",
    "                PNL_LAT.append(0)\n",
    "                PNL_REAL.append(_pnl)\n",
    "                TOTAL_CLOSE.append(_open_buy) \n",
    "                TOTAL_PNL_LAT.append(0)\n",
    "                TOTAL_PNL_REAL.append(_pnl)\n",
    "                PRICE_BUY = []\n",
    "                _open_buy = 0\n",
    "                continue\n",
    "\n",
    "            # CLOSE LONG ON STOP LOSS\n",
    "            if (float(price. LowBid.iloc[i]) - float(_price_buy_mean))/float(_price_buy_mean) <= - _sl and _trigger_sl == 1:\n",
    "                _position = 0\n",
    "                _pnl = (price.LowBid.iloc[i] - _price_buy_mean) * _size * _open_buy * _rate\n",
    "                _total += _pnl\n",
    "                _cash += _pnl\n",
    "                _equity = _cash\n",
    "                EQUITY.append(_equity)\n",
    "                EXPO_MAX.append(_open_buy)\n",
    "                CASH.append(_cash)\n",
    "                if _pnl >=0:\n",
    "                    _winner += _open_buy\n",
    "                    _longwinner += _open_buy\n",
    "                    TRACKER.append(_tracker)\n",
    "                else:\n",
    "                    _looser += _open_buy\n",
    "                    _longlooser += _open_buy\n",
    "\n",
    "                TRADE_DURATION.append(i - _index_entry)\n",
    "                if _verbose == 1:\n",
    "                    print(col.Fore.MAGENTA,price.index[i].strftime(format='%Y-%m-%d %H:%M:%S'),col.Style.RESET_ALL)\n",
    "                    if _pnl < 0:\n",
    "                        print(_open_buy,'positions (SL) closed at',price.LowBid.iloc[i],col.Fore.RED,'pnl', _pnl,col.Style.RESET_ALL)\n",
    "                    else :\n",
    "                        print(_open_buy,'positions (SL) closed at',price.LowBid.iloc[i],col.Fore.GREEN,'pnl', _pnl,col.Style.RESET_ALL)\n",
    "                    print('nombre de candles en position :',i - _index_entry)\n",
    "                    print('Equity :', _equity)\n",
    "\n",
    "                DATE.append(price.index[i].strftime(format='%Y-%m-%d %H:%M:%S'))\n",
    "                CONTRACT.append(x)\n",
    "                OPEN_POZ.append(0)\n",
    "                CLOSE_POZ.append(1)\n",
    "                RATE_OPEN_POZ.append(0)\n",
    "                RATE_CLOSE_POZ.append(price.LowBid.iloc[i])\n",
    "                PNL_LAT.append(0)\n",
    "                PNL_REAL.append(_pnl)\n",
    "                TOTAL_CLOSE.append(_open_buy) \n",
    "                TOTAL_PNL_LAT.append(0)\n",
    "                TOTAL_PNL_REAL.append(_pnl)\n",
    "                PRICE_BUY = []\n",
    "                _open_buy = 0\n",
    "                continue\n",
    "            \n",
    "            else:\n",
    "\n",
    "                _pnl = (price.CloseBid.iloc[i] - _price_buy_mean) * _size * _open_buy * _rate\n",
    "                _equity = _cash + _pnl\n",
    "                EQUITY.append(_equity)\n",
    "                CASH.append(_cash)\n",
    "                DATE.append(price.index[i].strftime(format='%Y-%m-%d %H:%M:%S'))\n",
    "                CONTRACT.append(x)\n",
    "                OPEN_POZ.append(0)\n",
    "                CLOSE_POZ.append(0)\n",
    "                RATE_OPEN_POZ.append(0)\n",
    "                RATE_CLOSE_POZ.append(0) \n",
    "                PNL_LAT.append(_pnl)\n",
    "                PNL_REAL.append(0)\n",
    "                TOTAL_PNL_LAT.append(_pnl)\n",
    "                TOTAL_PNL_REAL.append(0)\n",
    "                continue \n",
    " \n",
    "        # SI POSITION SHORT\n",
    "        elif _position == -1:\n",
    "\n",
    "            ### RE-ENGAGE SELL ON VALID SIGNAL\n",
    "            if price.Signal[i] == -1 and i - _index_entry < _nb_bougie_exit and _trigger_reengage == 1 \\\n",
    "                and _open_sell < _exposure :\n",
    "                \n",
    "                _pnl = 0\n",
    "                _open_sell += 1\n",
    "                _equity = _cash + _pnl\n",
    "                EQUITY.append(_equity)\n",
    "                CASH.append(_cash)\n",
    "                _index_entry = i\n",
    "                _tracker = price.index[i]\n",
    "                _position = -1\n",
    "                _nbtransactions += 1\n",
    "                price_sell = price.CloseBid.iloc[i]\n",
    "                PRICE_SELL.append(price_sell)\n",
    "                _price_sell_mean = round(sum(PRICE_SELL)/len(PRICE_SELL),5)\n",
    "                if _verbose == 1:\n",
    "                    print(col.Fore.MAGENTA,price.index[i].strftime(format='%Y-%m-%d %H:%M:%S'),col.Style.RESET_ALL)\n",
    "                    print('Position (REENG) 1 sold at', price_sell,'(verification liste',PRICE_SELL[-1],')')\n",
    "\n",
    "                DATE.append(price.index[i].strftime(format='%Y-%m-%d %H:%M:%S'))\n",
    "                CONTRACT.append(x)\n",
    "                OPEN_POZ.append(-1)\n",
    "                CLOSE_POZ.append(0)\n",
    "                RATE_OPEN_POZ.append(price_sell)\n",
    "                RATE_CLOSE_POZ.append(0) \n",
    "                PNL_LAT.append(_pnl)\n",
    "                PNL_REAL.append(0)\n",
    "                TOTAL_PNL_LAT.append(_pnl)\n",
    "                TOTAL_PNL_REAL.append(0)\n",
    "                TOTAL_OPEN.append(1)\n",
    "                continue\n",
    "\n",
    "            ### CLOSE SHORT ON RSI DROUP OUT\n",
    "            if _trigger_rsi == 1 and price.MYRSI_2[i] < 15:   \n",
    "                _position = 0\n",
    "                _pnl = - (price.CloseAsk.iloc[i] - _price_sell_mean) * _size * _open_sell * _rate\n",
    "                _total += _pnl\n",
    "                _cash += _pnl\n",
    "                _equity = _cash\n",
    "                EQUITY.append(_equity)\n",
    "                EXPO_MAX.append(_open_sell)\n",
    "                CASH.append(_cash)\n",
    "                if _pnl >=0:\n",
    "                    _winner += _open_sell\n",
    "                    _shortwinner += _open_sell\n",
    "                    TRACKER.append(_tracker)\n",
    "                else:\n",
    "                    _looser += _open_sell\n",
    "                    _shortlooser += _open_sell\n",
    "                TRADE_DURATION.append(i - _index_entry)\n",
    "                if _verbose == 1:\n",
    "                    print(col.Fore.MAGENTA,price.index[i].strftime(format='%Y-%m-%d %H:%M:%S'),col.Style.RESET_ALL)\n",
    "                    if _pnl < 0 :    \n",
    "                        print(_open_sell,'position (RSI) closed at',price.CloseAsk.iloc[i],col.Fore.RED,'pnl', _pnl,col.Style.RESET_ALL)\n",
    "                    else:\n",
    "                        print(_open_sell,'position (RSI) closed at',price.CloseAsk.iloc[i],col.Fore.GREEN,'pnl', _pnl,col.Style.RESET_ALL)\n",
    "                    print('nombre de candles en position :',i - _index_entry)\n",
    "                    print('Equity :', _equity)\n",
    "\n",
    "                DATE.append(price.index[i].strftime(format='%Y-%m-%d %H:%M:%S'))\n",
    "                CONTRACT.append(x)\n",
    "                OPEN_POZ.append(0)\n",
    "                CLOSE_POZ.append(-1)\n",
    "                RATE_OPEN_POZ.append(0)\n",
    "                RATE_CLOSE_POZ.append(price.CloseAsk.iloc[i])\n",
    "                PNL_LAT.append(0)\n",
    "                PNL_REAL.append(_pnl)\n",
    "                TOTAL_PNL_LAT.append(0)\n",
    "                TOTAL_PNL_REAL.append(_pnl)\n",
    "                TOTAL_CLOSE.append(_open_sell)\n",
    "                PRICE_SELL = []\n",
    "                _open_sell = 0\n",
    "                continue\n",
    "\n",
    "            ### CLOSE SHORT ON INVERSE SIGNAL\n",
    "            if price.Signal[i] == 1 and _trigger_invers == 1:   \n",
    "                _position = 0\n",
    "                _pnl = - (price.CloseAsk.iloc[i] - _price_sell_mean) * _size * _open_sell * _rate\n",
    "                _total += _pnl\n",
    "                _cash += _pnl\n",
    "                _equity = _cash\n",
    "                EQUITY.append(_equity)\n",
    "                EXPO_MAX.append(_open_sell)\n",
    "                CASH.append(_cash)\n",
    "                if _pnl >=0:\n",
    "                    _winner += _open_sell\n",
    "                    _shortwinner += _open_sell\n",
    "                    TRACKER.append(_tracker)\n",
    "                else:\n",
    "                    _looser += _open_sell\n",
    "                    _shortlooser += _open_sell\n",
    "                TRADE_DURATION.append(i - _index_entry)\n",
    "                if _verbose == 1:\n",
    "                    print(col.Fore.MAGENTA,price.index[i].strftime(format='%Y-%m-%d %H:%M:%S'),col.Style.RESET_ALL)\n",
    "                    if _pnl < 0 :    \n",
    "                        print(_open_sell,'position (INV) closed at',price.CloseAsk.iloc[i],col.Fore.RED,'pnl', _pnl,col.Style.RESET_ALL)\n",
    "                    else:\n",
    "                        print(_open_sell,'position (INV) closed at',price.CloseAsk.iloc[i],col.Fore.GREEN,'pnl', _pnl,col.Style.RESET_ALL)\n",
    "                    print('nombre de candles en position :',i - _index_entry)\n",
    "                    print('Equity :', _equity)\n",
    "\n",
    "                DATE.append(price.index[i].strftime(format='%Y-%m-%d %H:%M:%S'))\n",
    "                CONTRACT.append(x)\n",
    "                OPEN_POZ.append(0)\n",
    "                CLOSE_POZ.append(-1)\n",
    "                RATE_OPEN_POZ.append(0)\n",
    "                RATE_CLOSE_POZ.append(price.CloseAsk.iloc[i])\n",
    "                PNL_LAT.append(0)\n",
    "                PNL_REAL.append(_pnl)\n",
    "                TOTAL_PNL_LAT.append(0)\n",
    "                TOTAL_PNL_REAL.append(_pnl)\n",
    "                TOTAL_CLOSE.append(_open_sell)\n",
    "                PRICE_SELL = []\n",
    "                _open_sell = 0\n",
    "                continue\n",
    "\n",
    "            ### CLOSE SHORT ON TIME EXIT\n",
    "            if i - _index_entry >= _nb_bougie_exit:   \n",
    "                _position = 0\n",
    "                _pnl = - (price.CloseAsk.iloc[i] - _price_sell_mean) * _size * _open_sell * _rate\n",
    "                _total += _pnl\n",
    "                _cash += _pnl\n",
    "                _equity = _cash\n",
    "                EQUITY.append(_equity)\n",
    "                EXPO_MAX.append(_open_sell)\n",
    "                CASH.append(_cash)\n",
    "                if _pnl >=0:\n",
    "                    _winner += _open_sell\n",
    "                    _shortwinner += _open_sell\n",
    "                    TRACKER.append(_tracker)\n",
    "                else:\n",
    "                    _looser += _open_sell\n",
    "                    _shortlooser += _open_sell\n",
    "                TRADE_DURATION.append(i - _index_entry)\n",
    "                if _verbose == 1:\n",
    "                    print(col.Fore.MAGENTA,price.index[i].strftime(format='%Y-%m-%d %H:%M:%S'),col.Style.RESET_ALL)\n",
    "                    if _pnl < 0 :    \n",
    "                        print(_open_sell,'position (TIME EXIT) closed at',price.CloseAsk.iloc[i],col.Fore.RED,'pnl', _pnl,col.Style.RESET_ALL)\n",
    "                    else:\n",
    "                        print(_open_sell,'position (TIME EXIT) closed at',price.CloseAsk.iloc[i],col.Fore.GREEN,'pnl', _pnl,col.Style.RESET_ALL)\n",
    "                    print('nombre de candles en position :',i - _index_entry)\n",
    "                    print('Equity :', _equity)\n",
    "\n",
    "                DATE.append(price.index[i].strftime(format='%Y-%m-%d %H:%M:%S'))\n",
    "                CONTRACT.append(x)\n",
    "                OPEN_POZ.append(0)\n",
    "                CLOSE_POZ.append(-1)\n",
    "                RATE_OPEN_POZ.append(0)\n",
    "                RATE_CLOSE_POZ.append(price.CloseAsk.iloc[i])\n",
    "                PNL_LAT.append(0)\n",
    "                PNL_REAL.append(_pnl)\n",
    "                TOTAL_PNL_LAT.append(0)\n",
    "                TOTAL_PNL_REAL.append(_pnl)\n",
    "                TOTAL_CLOSE.append(_open_sell)\n",
    "                PRICE_SELL = []\n",
    "                _open_sell = 0\n",
    "                continue\n",
    "\n",
    "            ### CLOSE SHORT ON TARGET\n",
    "            if (float(price.LowAsk.iloc[i]) - float(_price_sell_mean))/float(_price_sell_mean) <= -_target and _trigger_target == 1:\n",
    "                _position = 0\n",
    "                _pnl = - (price.LowAsk.iloc[i] - _price_sell_mean) * _size * _open_sell * _rate\n",
    "                _total += _pnl\n",
    "                _cash += _pnl\n",
    "                _equity = _cash\n",
    "                EQUITY.append(_equity)\n",
    "                EXPO_MAX.append(_open_sell)\n",
    "                CASH.append(_cash)\n",
    "                if _pnl >=0:\n",
    "                    _winner += _open_sell\n",
    "                    _shortwinner += _open_sell\n",
    "                    TRACKER.append(_tracker)\n",
    "                else:\n",
    "                    _looser += _open_sell\n",
    "                    _shortlooser +=_open_sell\n",
    "                TRADE_DURATION.append(i - _index_entry)\n",
    "                if _verbose == 1:\n",
    "                    print(col.Fore.MAGENTA,price.index[i].strftime(format='%Y-%m-%d %H:%M:%S'),col.Style.RESET_ALL)\n",
    "                    if _pnl < 0 :    \n",
    "                        print(_open_sell,'position (TG) closed at',price.LowAsk.iloc[i],col.Fore.RED,'pnl', _pnl,col.Style.RESET_ALL)\n",
    "                    else:\n",
    "                        print(_open_sell,'position (TG) closed at',price.LowAsk.iloc[i],col.Fore.GREEN,'pnl', _pnl,col.Style.RESET_ALL)\n",
    "                    print('nombre de candles en position :',i - _index_entry)\n",
    "                    print('Equity :', _equity)\n",
    "\n",
    "                DATE.append(price.index[i].strftime(format='%Y-%m-%d %H:%M:%S'))\n",
    "                CONTRACT.append(x)\n",
    "                OPEN_POZ.append(0)\n",
    "                CLOSE_POZ.append(-1)\n",
    "                RATE_OPEN_POZ.append(0)\n",
    "                RATE_CLOSE_POZ.append(price.LowAsk.iloc[i])\n",
    "                PNL_LAT.append(0)\n",
    "                PNL_REAL.append(_pnl)\n",
    "                TOTAL_PNL_LAT.append(0)\n",
    "                TOTAL_PNL_REAL.append(_pnl)\n",
    "                TOTAL_CLOSE.append(_open_sell)\n",
    "                PRICE_SELL = []\n",
    "                _open_sell = 0\n",
    "                continue\n",
    "\n",
    "            ### CLOSE SHORT ON STOP LOSS\n",
    "            if (float(price.HighAsk.iloc[i]) - float(_price_sell_mean))/float(_price_sell_mean) > _sl and _trigger_sl == 1:\n",
    "                _position = 0\n",
    "                _pnl = - (price.HighAsk.iloc[i] - _price_sell_mean) * _size * _open_sell * _rate\n",
    "                _total += _pnl\n",
    "                _cash += _pnl\n",
    "                _equity = _cash\n",
    "                EQUITY.append(_equity)\n",
    "                EXPO_MAX.append(_open_sell)\n",
    "                CASH.append(_cash)\n",
    "                if _pnl >=0:\n",
    "                    _winner += _open_sell\n",
    "                    _shortwinner += _open_sell\n",
    "                    TRACKER.append(_tracker)\n",
    "                else:\n",
    "                    _looser += _open_sell\n",
    "                    _shortlooser +=_open_sell\n",
    "                TRADE_DURATION.append(i - _index_entry)\n",
    "                if _verbose == 1:\n",
    "                    print(col.Fore.MAGENTA,price.index[i].strftime(format='%Y-%m-%d %H:%M:%S'),col.Style.RESET_ALL)\n",
    "                    if _pnl < 0 :    \n",
    "                        print(_open_sell,'position (SL) closed at',price.HighAsk.iloc[i],col.Fore.RED,'pnl', _pnl,col.Style.RESET_ALL)\n",
    "                    else:\n",
    "                        print(_open_sell,'position (SL) closed at',price.HighAsk.iloc[i],col.Fore.GREEN,'pnl', _pnl,col.Style.RESET_ALL)\n",
    "                    print('nombre de candles en position :',i - _index_entry)\n",
    "                    print('Equity :', _equity)\n",
    "\n",
    "                DATE.append(price.index[i].strftime(format='%Y-%m-%d %H:%M:%S'))\n",
    "                CONTRACT.append(x)\n",
    "                OPEN_POZ.append(0)\n",
    "                CLOSE_POZ.append(-1)\n",
    "                RATE_OPEN_POZ.append(0)\n",
    "                RATE_CLOSE_POZ.append(price.HighAsk.iloc[i])\n",
    "                PNL_LAT.append(0)\n",
    "                PNL_REAL.append(_pnl)\n",
    "                TOTAL_PNL_LAT.append(0)\n",
    "                TOTAL_PNL_REAL.append(_pnl)\n",
    "                TOTAL_CLOSE.append(_open_sell)\n",
    "                PRICE_SELL = []\n",
    "                _open_sell = 0\n",
    "                continue\n",
    "\n",
    "            else:\n",
    "\n",
    "                _pnl = - (price.CloseAsk.iloc[i] - _price_sell_mean) * _size * _open_sell * _rate\n",
    "                _equity = _cash + _pnl\n",
    "\n",
    "                EQUITY.append(_equity)\n",
    "                CASH.append(_cash)\n",
    "\n",
    "                DATE.append(price.index[i].strftime(format='%Y-%m-%d %H:%M:%S'))\n",
    "                CONTRACT.append(x)\n",
    "                OPEN_POZ.append(0)\n",
    "                CLOSE_POZ.append(0)\n",
    "                RATE_OPEN_POZ.append(0)\n",
    "                RATE_CLOSE_POZ.append(0)\n",
    "                PNL_LAT.append(_pnl)\n",
    "                PNL_REAL.append(0)\n",
    "                TOTAL_PNL_LAT.append(_pnl)\n",
    "                TOTAL_PNL_REAL.append(0)\n",
    "                continue\n",
    "        \n",
    "\n",
    "    try:\n",
    "        _average_duration = round(sum(TRADE_DURATION)/len(TRADE_DURATION),2)\n",
    "        _max_duration = max(TRADE_DURATION)\n",
    "        _min_duration = min([item for item in TRADE_DURATION if item !=0])\n",
    "\n",
    "    except:\n",
    "        print(\"(No Duration)\") \n",
    "        _average_duration = 'NA'\n",
    "        _max_duration = 0.00002\n",
    "        _min_duration = 0.00001 \n",
    "    print(col.Fore.BLUE,'For ticker',col.Fore.YELLOW,x,col.Style.RESET_ALL)\n",
    "    if _total > 0:              \n",
    "        print(col.Fore.MAGENTA,\"\\nTotal Profit & Loss : $\",col.Fore.GREEN,round(_total,2),'. En ',\\\n",
    "            _nbtransactions,col.Style.RESET_ALL,' transactions.' )\n",
    "    else:\n",
    "        print(col.Fore.MAGENTA,\"\\nTotal Profit & Loss : $\",col.Fore.RED,round(_total,2),'. En ',\\\n",
    "            _nbtransactions,col.Style.RESET_ALL,' transactions.' ) \n",
    "    print(col.Fore.GREEN,\"\\nWinners Number :\",_winner,col.Style.RESET_ALL)\n",
    "    print(col.Fore.RED,\"\\nLoosers number :\",_looser,col.Style.RESET_ALL)\n",
    "\n",
    "    backtest_graph['Equity'] = EQUITY\n",
    "\n",
    "    df_resultats[x] = [(round(_equity,2)),(_winner),(_longwinner),(_shortwinner),(_looser),(_longlooser),(_shortlooser),(_max_duration),(_min_duration),(_average_duration),(_total)]\n",
    "\n",
    "    DER_POZ.append(_pnl)\n",
    "\n",
    "    engine.say(\"Finito caucau\")\n",
    "    engine.runAndWait()\n",
    "    _t2 = dt.datetime.now()\n",
    "    print(\"BT's execution time\",str((_t2 - _t1)))\n",
    "    df_historical = pd.DataFrame()\n",
    "    df_historical = pd.DataFrame(index=DATE)\n",
    "    df_historical['Contract'] = CONTRACT\n",
    "    df_historical['Open_Poz'] = OPEN_POZ\n",
    "    df_historical['Close_Pos'] = CLOSE_POZ\n",
    "    df_historical['Rate_Open_Poz'] = RATE_OPEN_POZ \n",
    "    df_historical['Rate_Close_Poze'] = RATE_CLOSE_POZ\n",
    "    df_historical['Pnl_Lat'] = TOTAL_PNL_LAT\n",
    "    df_historical['Pnl_Real'] = TOTAL_PNL_REAL\n",
    "    df_historical = df_historical.sort_index()\n",
    "    _generated_cash = round(df_historical.Pnl_Real.sum(),2)\n",
    "    _generated_cash_perc = round((_generated_cash / _cash_ini) * 100,2)\n",
    "    print(col.Fore.YELLOW,x,col.Fore.BLUE,'results',col.Style.RESET_ALL)\n",
    "    print(col.Fore.MAGENTA,'Tested Period',_year_bottom,' à',_year_top,col.Style.RESET_ALL)\n",
    "    print(col.Fore.CYAN,'Total Number of trades',max([sum(TOTAL_OPEN),sum(TOTAL_CLOSE)]),col.Style.RESET_ALL)\n",
    "    if _generated_cash <= 0:\n",
    "        print('Started Cash :',_cash_ini)\n",
    "        print('P&L in currency:',col.Fore.RED,str(_generated_cash)+'$',col.Style.RESET_ALL)\n",
    "        print('P&L in %:',col.Fore.RED,str(_generated_cash_perc)+'%',col.Style.RESET_ALL)\n",
    "\n",
    "    else:\n",
    "        print('Started Cash :',_cash_ini)\n",
    "        print('P&L  in currency:',col.Fore.GREEN,str(_generated_cash)+'$',col.Style.RESET_ALL)\n",
    "        print('P&L in %:',col.Fore.GREEN,str(_generated_cash_perc)+'%',col.Style.RESET_ALL)\n",
    "\n",
    "    print('Average trade duration',_average_duration)\n",
    "    print('# Winners ',df_resultats.T['Nbre Winners'].sum())\n",
    "    print('# Winners long ',df_resultats.T['Nbre winners long'].sum())\n",
    "    print('# Winners short ',df_resultats.T['Nbre winners short'].sum())\n",
    "\n",
    "    print('# Loosers ',df_resultats.T['Nbre Loosers'].sum())\n",
    "    print('# Loosers  long',df_resultats.T['Nbre loosers long'].sum())\n",
    "    print('# Loosers  short',df_resultats.T['Nbre loosers short'].sum())\n",
    "    print('Cumulated gains',round(df_historical[df_historical.Pnl_Real>0].Pnl_Real.sum(),2))\n",
    "    print('Cumulated losses',round(df_historical[df_historical.Pnl_Real<0].Pnl_Real.sum(),2))\n",
    "    print(col.Fore.BLUE,'PROFIT FACTOR : ',\\\n",
    "        abs(round(df_historical[df_historical.Pnl_Real>0].Pnl_Real.sum()/df_historical[df_historical.Pnl_Real<0].Pnl_Real.sum(),2)),col.Style.RESET_ALL)\n",
    "    try:\n",
    "        print(col.Fore.CYAN,'Winners Ratio :',\\\n",
    "            round((df_resultats.T['Nbre Winners'].sum()*100)/(df_resultats.T['Nbre Loosers'].sum()+df_resultats.T['Nbre Winners'].sum()),2),\\\n",
    "                '%',col.Style.RESET_ALL)\n",
    "    except:\n",
    "        print(col.Fore.CYAN,'Winners Ratio  :None',col.Style.RESET_ALL)\n",
    "    try:\n",
    "        print('Average Winners',round(sum(list(filter(lambda x:  x > 0,PNL_REAL)))/len(list(filter(lambda x:  x > 0,PNL_REAL))),2))\n",
    "        print('% Average Winners',round(sum(list(filter(lambda x:  x > 0,PNL_REAL)))/len(list(filter(lambda x:  x > 0,PNL_REAL))) * 100 / _cash_ini,2))\n",
    "    except:\n",
    "        print('No winner')\n",
    "    try:\n",
    "        print('Average Loosers',round(sum(list(filter(lambda x:  x < 0,PNL_REAL)))/len(list(filter(lambda x:  x < 0,PNL_REAL))),2))\n",
    "        print('% Average Loosers',round(sum(list(filter(lambda x:  x < 0,PNL_REAL)))/len(list(filter(lambda x:  x < 0,PNL_REAL))) / _cash_ini * 100,2))\n",
    "    except:\n",
    "        print('No looser')\n",
    "    try:\n",
    "        print('Average pnl',round(sum(PNL_REAL)/sum(TOTAL_OPEN),2))\n",
    "        print('% Average pnl',round((sum(PNL_REAL)/len(set(PNL_REAL))) / _cash_ini * 100,2))\n",
    "    except:\n",
    "        print('No trade')\n",
    "    \n",
    "    print('Number of opened trades',sum(TOTAL_OPEN))\n",
    "    print('Number of closed trades',sum(TOTAL_CLOSE))\n",
    "    try:\n",
    "        print('Max Exposure',max(EXPO_MAX),'x ',_size,'= ',max(EXPO_MAX)*_size,'$')\n",
    "    except:\n",
    "        print(\"Pas de trade => Pas d'exposure\")\n",
    "    candle_feedback = pd.DataFrame(index = price.index)\n",
    "    candle_feedback['Symbol'] = x\n",
    "    candle_feedback['Size'] = _size\n",
    "    candle_feedback[_ticker] = EQUITY\n",
    "    print('\\n_bt_report :',_bt_report,'\\n')\n",
    "    \n",
    "    if _bt_report == 1:\n",
    "        joblib.dump(candle_feedback,'BT/'+_ticker+'_candle_feedback_oos.dag')\n",
    "\n",
    "    elif _bt_report == 2:\n",
    "        joblib.dump(candle_feedback,'BT/'+_ticker+'_candle_feedback_bt_bt.dag')\n",
    "    \n",
    "    elif _bt_report == 3:\n",
    "        joblib.dump(candle_feedback,'BT/'+_ticker+'_candle_feedback_ai.dag')\n",
    "    \n",
    "    elif _bt_report == 4:\n",
    "        joblib.dump(candle_feedback,'BT/'+_ticker+'_candle_feedback_custom.dag')\n",
    "        \n",
    "    return(TRACKER,df_resultats.T['Nbre Loosers'].sum())"
   ],
   "cell_type": "markdown",
   "metadata": {}
  },
  {
   "cell_type": "code",
   "execution_count": 120,
   "metadata": {},
   "outputs": [
    {
     "output_type": "execute_result",
     "data": {
      "text/plain": [
       "                        Close  CloseAsk  CloseBid      High  HighAsk  HighBid  \\\n",
       "2018-01-01 18:50:00  1.200860   1.20125   1.20047  1.201220  1.20130  1.20114   \n",
       "2018-01-01 20:15:00  1.199765   1.20005   1.19948  1.199765  1.20005  1.19948   \n",
       "2018-01-01 21:45:00  1.200630   1.20099   1.20027  1.200695  1.20111  1.20028   \n",
       "2018-01-01 22:00:00  1.200680   1.20112   1.20024  1.201275  1.20157  1.20098   \n",
       "2018-01-01 23:25:00  1.201410   1.20152   1.20130  1.201425  1.20154  1.20131   \n",
       "...                       ...       ...       ...       ...      ...      ...   \n",
       "2021-04-28 18:30:00  1.210070   1.21013   1.21001  1.210295  1.21036  1.21023   \n",
       "2021-04-28 18:45:00  1.212225   1.21228   1.21217  1.213475  1.21353  1.21342   \n",
       "2021-04-28 19:40:00  1.212505   1.21257   1.21244  1.212980  1.21304  1.21292   \n",
       "2021-04-28 21:45:00  1.212540   1.21268   1.21240  1.212550  1.21270  1.21240   \n",
       "2021-04-28 23:55:00  1.213485   1.21355   1.21342  1.213530  1.21360  1.21346   \n",
       "\n",
       "                          Low   LowAsk   LowBid      Open  ...  \\\n",
       "2018-01-01 18:50:00  1.200860  1.20125  1.20047  1.200860  ...   \n",
       "2018-01-01 20:15:00  1.199640  1.20005  1.19923  1.199640  ...   \n",
       "2018-01-01 21:45:00  1.200130  1.20022  1.20004  1.200135  ...   \n",
       "2018-01-01 22:00:00  1.200660  1.20110  1.20022  1.201240  ...   \n",
       "2018-01-01 23:25:00  1.201150  1.20125  1.20105  1.201230  ...   \n",
       "...                       ...      ...      ...       ...  ...   \n",
       "2021-04-28 18:30:00  1.209880  1.20994  1.20982  1.210220  ...   \n",
       "2021-04-28 18:45:00  1.212215  1.21227  1.21216  1.212890  ...   \n",
       "2021-04-28 19:40:00  1.212290  1.21235  1.21223  1.212300  ...   \n",
       "2021-04-28 21:45:00  1.212530  1.21267  1.21239  1.212540  ...   \n",
       "2021-04-28 23:55:00  1.213455  1.21352  1.21339  1.213530  ...   \n",
       "\n",
       "                     CloseShift_daily  RSI_2_hourly  RSI_14_hourly  Color  \\\n",
       "2018-01-01 18:50:00          1.198082      8.543642      61.739887      1   \n",
       "2018-01-01 20:15:00          1.198082     31.452451      62.175428      1   \n",
       "2018-01-01 21:45:00          1.198082     14.923283      58.341948      1   \n",
       "2018-01-01 22:00:00          1.198082     77.081267      64.435322      1   \n",
       "2018-01-01 23:25:00          1.198082     82.551139      65.597901      1   \n",
       "...                               ...           ...            ...    ...   \n",
       "2021-04-28 18:30:00          1.209518     34.098683      53.849089      1   \n",
       "2021-04-28 18:45:00          1.209518     34.098683      53.849089      1   \n",
       "2021-04-28 19:40:00          1.209518     90.006498      69.262209      1   \n",
       "2021-04-28 21:45:00          1.209518     99.999988      99.999689      1   \n",
       "2021-04-28 23:55:00          1.209518     20.000015      46.301481      1   \n",
       "\n",
       "                     UpperShadow  LowerShadow      Body  Signal  TRACKER  \\\n",
       "2018-01-01 18:50:00     0.000360     0.000000  0.000000       0        0   \n",
       "2018-01-01 20:15:00     0.000000     0.000000  0.000125       0        0   \n",
       "2018-01-01 21:45:00     0.000065     0.000005  0.000495       0        0   \n",
       "2018-01-01 22:00:00     0.000595     0.000580  0.000560       0        0   \n",
       "2018-01-01 23:25:00     0.000015     0.000080  0.000180       0        0   \n",
       "...                          ...          ...       ...     ...      ...   \n",
       "2021-04-28 18:30:00     0.000225     0.000340  0.000150       0        0   \n",
       "2021-04-28 18:45:00     0.001250     0.000675  0.000665       0        0   \n",
       "2021-04-28 19:40:00     0.000475     0.000010  0.000205       0        0   \n",
       "2021-04-28 21:45:00     0.000010     0.000010  0.000000       0        0   \n",
       "2021-04-28 23:55:00     0.000045     0.000075  0.000045       0        0   \n",
       "\n",
       "                     Valid  \n",
       "2018-01-01 18:50:00      0  \n",
       "2018-01-01 20:15:00      0  \n",
       "2018-01-01 21:45:00      0  \n",
       "2018-01-01 22:00:00      0  \n",
       "2018-01-01 23:25:00      0  \n",
       "...                    ...  \n",
       "2021-04-28 18:30:00      0  \n",
       "2021-04-28 18:45:00      0  \n",
       "2021-04-28 19:40:00      0  \n",
       "2021-04-28 21:45:00      0  \n",
       "2021-04-28 23:55:00      0  \n",
       "\n",
       "[11420 rows x 66 columns]"
      ],
      "text/html": "<div>\n<style scoped>\n    .dataframe tbody tr th:only-of-type {\n        vertical-align: middle;\n    }\n\n    .dataframe tbody tr th {\n        vertical-align: top;\n    }\n\n    .dataframe thead th {\n        text-align: right;\n    }\n</style>\n<table border=\"1\" class=\"dataframe\">\n  <thead>\n    <tr style=\"text-align: right;\">\n      <th></th>\n      <th>Close</th>\n      <th>CloseAsk</th>\n      <th>CloseBid</th>\n      <th>High</th>\n      <th>HighAsk</th>\n      <th>HighBid</th>\n      <th>Low</th>\n      <th>LowAsk</th>\n      <th>LowBid</th>\n      <th>Open</th>\n      <th>...</th>\n      <th>CloseShift_daily</th>\n      <th>RSI_2_hourly</th>\n      <th>RSI_14_hourly</th>\n      <th>Color</th>\n      <th>UpperShadow</th>\n      <th>LowerShadow</th>\n      <th>Body</th>\n      <th>Signal</th>\n      <th>TRACKER</th>\n      <th>Valid</th>\n    </tr>\n  </thead>\n  <tbody>\n    <tr>\n      <th>2018-01-01 18:50:00</th>\n      <td>1.200860</td>\n      <td>1.20125</td>\n      <td>1.20047</td>\n      <td>1.201220</td>\n      <td>1.20130</td>\n      <td>1.20114</td>\n      <td>1.200860</td>\n      <td>1.20125</td>\n      <td>1.20047</td>\n      <td>1.200860</td>\n      <td>...</td>\n      <td>1.198082</td>\n      <td>8.543642</td>\n      <td>61.739887</td>\n      <td>1</td>\n      <td>0.000360</td>\n      <td>0.000000</td>\n      <td>0.000000</td>\n      <td>0</td>\n      <td>0</td>\n      <td>0</td>\n    </tr>\n    <tr>\n      <th>2018-01-01 20:15:00</th>\n      <td>1.199765</td>\n      <td>1.20005</td>\n      <td>1.19948</td>\n      <td>1.199765</td>\n      <td>1.20005</td>\n      <td>1.19948</td>\n      <td>1.199640</td>\n      <td>1.20005</td>\n      <td>1.19923</td>\n      <td>1.199640</td>\n      <td>...</td>\n      <td>1.198082</td>\n      <td>31.452451</td>\n      <td>62.175428</td>\n      <td>1</td>\n      <td>0.000000</td>\n      <td>0.000000</td>\n      <td>0.000125</td>\n      <td>0</td>\n      <td>0</td>\n      <td>0</td>\n    </tr>\n    <tr>\n      <th>2018-01-01 21:45:00</th>\n      <td>1.200630</td>\n      <td>1.20099</td>\n      <td>1.20027</td>\n      <td>1.200695</td>\n      <td>1.20111</td>\n      <td>1.20028</td>\n      <td>1.200130</td>\n      <td>1.20022</td>\n      <td>1.20004</td>\n      <td>1.200135</td>\n      <td>...</td>\n      <td>1.198082</td>\n      <td>14.923283</td>\n      <td>58.341948</td>\n      <td>1</td>\n      <td>0.000065</td>\n      <td>0.000005</td>\n      <td>0.000495</td>\n      <td>0</td>\n      <td>0</td>\n      <td>0</td>\n    </tr>\n    <tr>\n      <th>2018-01-01 22:00:00</th>\n      <td>1.200680</td>\n      <td>1.20112</td>\n      <td>1.20024</td>\n      <td>1.201275</td>\n      <td>1.20157</td>\n      <td>1.20098</td>\n      <td>1.200660</td>\n      <td>1.20110</td>\n      <td>1.20022</td>\n      <td>1.201240</td>\n      <td>...</td>\n      <td>1.198082</td>\n      <td>77.081267</td>\n      <td>64.435322</td>\n      <td>1</td>\n      <td>0.000595</td>\n      <td>0.000580</td>\n      <td>0.000560</td>\n      <td>0</td>\n      <td>0</td>\n      <td>0</td>\n    </tr>\n    <tr>\n      <th>2018-01-01 23:25:00</th>\n      <td>1.201410</td>\n      <td>1.20152</td>\n      <td>1.20130</td>\n      <td>1.201425</td>\n      <td>1.20154</td>\n      <td>1.20131</td>\n      <td>1.201150</td>\n      <td>1.20125</td>\n      <td>1.20105</td>\n      <td>1.201230</td>\n      <td>...</td>\n      <td>1.198082</td>\n      <td>82.551139</td>\n      <td>65.597901</td>\n      <td>1</td>\n      <td>0.000015</td>\n      <td>0.000080</td>\n      <td>0.000180</td>\n      <td>0</td>\n      <td>0</td>\n      <td>0</td>\n    </tr>\n    <tr>\n      <th>...</th>\n      <td>...</td>\n      <td>...</td>\n      <td>...</td>\n      <td>...</td>\n      <td>...</td>\n      <td>...</td>\n      <td>...</td>\n      <td>...</td>\n      <td>...</td>\n      <td>...</td>\n      <td>...</td>\n      <td>...</td>\n      <td>...</td>\n      <td>...</td>\n      <td>...</td>\n      <td>...</td>\n      <td>...</td>\n      <td>...</td>\n      <td>...</td>\n      <td>...</td>\n      <td>...</td>\n    </tr>\n    <tr>\n      <th>2021-04-28 18:30:00</th>\n      <td>1.210070</td>\n      <td>1.21013</td>\n      <td>1.21001</td>\n      <td>1.210295</td>\n      <td>1.21036</td>\n      <td>1.21023</td>\n      <td>1.209880</td>\n      <td>1.20994</td>\n      <td>1.20982</td>\n      <td>1.210220</td>\n      <td>...</td>\n      <td>1.209518</td>\n      <td>34.098683</td>\n      <td>53.849089</td>\n      <td>1</td>\n      <td>0.000225</td>\n      <td>0.000340</td>\n      <td>0.000150</td>\n      <td>0</td>\n      <td>0</td>\n      <td>0</td>\n    </tr>\n    <tr>\n      <th>2021-04-28 18:45:00</th>\n      <td>1.212225</td>\n      <td>1.21228</td>\n      <td>1.21217</td>\n      <td>1.213475</td>\n      <td>1.21353</td>\n      <td>1.21342</td>\n      <td>1.212215</td>\n      <td>1.21227</td>\n      <td>1.21216</td>\n      <td>1.212890</td>\n      <td>...</td>\n      <td>1.209518</td>\n      <td>34.098683</td>\n      <td>53.849089</td>\n      <td>1</td>\n      <td>0.001250</td>\n      <td>0.000675</td>\n      <td>0.000665</td>\n      <td>0</td>\n      <td>0</td>\n      <td>0</td>\n    </tr>\n    <tr>\n      <th>2021-04-28 19:40:00</th>\n      <td>1.212505</td>\n      <td>1.21257</td>\n      <td>1.21244</td>\n      <td>1.212980</td>\n      <td>1.21304</td>\n      <td>1.21292</td>\n      <td>1.212290</td>\n      <td>1.21235</td>\n      <td>1.21223</td>\n      <td>1.212300</td>\n      <td>...</td>\n      <td>1.209518</td>\n      <td>90.006498</td>\n      <td>69.262209</td>\n      <td>1</td>\n      <td>0.000475</td>\n      <td>0.000010</td>\n      <td>0.000205</td>\n      <td>0</td>\n      <td>0</td>\n      <td>0</td>\n    </tr>\n    <tr>\n      <th>2021-04-28 21:45:00</th>\n      <td>1.212540</td>\n      <td>1.21268</td>\n      <td>1.21240</td>\n      <td>1.212550</td>\n      <td>1.21270</td>\n      <td>1.21240</td>\n      <td>1.212530</td>\n      <td>1.21267</td>\n      <td>1.21239</td>\n      <td>1.212540</td>\n      <td>...</td>\n      <td>1.209518</td>\n      <td>99.999988</td>\n      <td>99.999689</td>\n      <td>1</td>\n      <td>0.000010</td>\n      <td>0.000010</td>\n      <td>0.000000</td>\n      <td>0</td>\n      <td>0</td>\n      <td>0</td>\n    </tr>\n    <tr>\n      <th>2021-04-28 23:55:00</th>\n      <td>1.213485</td>\n      <td>1.21355</td>\n      <td>1.21342</td>\n      <td>1.213530</td>\n      <td>1.21360</td>\n      <td>1.21346</td>\n      <td>1.213455</td>\n      <td>1.21352</td>\n      <td>1.21339</td>\n      <td>1.213530</td>\n      <td>...</td>\n      <td>1.209518</td>\n      <td>20.000015</td>\n      <td>46.301481</td>\n      <td>1</td>\n      <td>0.000045</td>\n      <td>0.000075</td>\n      <td>0.000045</td>\n      <td>0</td>\n      <td>0</td>\n      <td>0</td>\n    </tr>\n  </tbody>\n</table>\n<p>11420 rows × 66 columns</p>\n</div>"
     },
     "metadata": {},
     "execution_count": 120
    }
   ],
   "source": [
    "_, _, df_oos = split_df(df_raw)\n",
    "df_oos"
   ]
  },
  {
   "cell_type": "code",
   "execution_count": 36,
   "metadata": {},
   "outputs": [
    {
     "output_type": "execute_result",
     "data": {
      "text/plain": [
       "                        Close  CloseAsk  CloseBid      High  HighAsk  HighBid  \\\n",
       "2018-01-01 18:10:00  1.200860   1.20125   1.20047  1.200860  1.20125  1.20047   \n",
       "2018-01-01 18:25:00  1.200860   1.20125   1.20047  1.200860  1.20125  1.20047   \n",
       "2018-01-01 18:35:00  1.200860   1.20125   1.20047  1.200860  1.20125  1.20047   \n",
       "2018-01-01 18:50:00  1.200860   1.20125   1.20047  1.201220  1.20130  1.20114   \n",
       "2018-01-01 18:55:00  1.200855   1.20125   1.20046  1.200860  1.20125  1.20047   \n",
       "...                       ...       ...       ...       ...      ...      ...   \n",
       "2021-04-28 23:40:00  1.213290   1.21335   1.21323  1.213295  1.21335  1.21324   \n",
       "2021-04-28 23:45:00  1.213345   1.21341   1.21328  1.213470  1.21353  1.21341   \n",
       "2021-04-28 23:50:00  1.213525   1.21359   1.21346  1.213545  1.21361  1.21348   \n",
       "2021-04-28 23:55:00  1.213485   1.21355   1.21342  1.213530  1.21360  1.21346   \n",
       "2021-04-29 00:00:00  1.213540   1.21360   1.21348  1.213580  1.21364  1.21352   \n",
       "\n",
       "                          Low   LowAsk   LowBid      Open  ...  \\\n",
       "2018-01-01 18:10:00  1.199650  1.20000  1.19930  1.200700  ...   \n",
       "2018-01-01 18:25:00  1.200735  1.20100  1.20047  1.200860  ...   \n",
       "2018-01-01 18:35:00  1.200635  1.20080  1.20047  1.200860  ...   \n",
       "2018-01-01 18:50:00  1.200860  1.20125  1.20047  1.200860  ...   \n",
       "2018-01-01 18:55:00  1.200855  1.20125  1.20046  1.200860  ...   \n",
       "...                       ...      ...      ...       ...  ...   \n",
       "2021-04-28 23:40:00  1.213225  1.21329  1.21316  1.213230  ...   \n",
       "2021-04-28 23:45:00  1.213295  1.21335  1.21324  1.213295  ...   \n",
       "2021-04-28 23:50:00  1.213335  1.21340  1.21327  1.213340  ...   \n",
       "2021-04-28 23:55:00  1.213455  1.21352  1.21339  1.213530  ...   \n",
       "2021-04-29 00:00:00  1.213430  1.21349  1.21337  1.213505  ...   \n",
       "\n",
       "                     CloseShift_daily  RSI_2_hourly  RSI_14_hourly  Color  \\\n",
       "2018-01-01 18:10:00      1.198082e+00      8.543642      61.739887      1   \n",
       "2018-01-01 18:25:00      1.198082e+00      8.543642      61.739887      1   \n",
       "2018-01-01 18:35:00      1.198082e+00      8.543642      61.739887      1   \n",
       "2018-01-01 18:50:00      1.198082e+00      8.543642      61.739887      1   \n",
       "2018-01-01 18:55:00      1.198082e+00      8.543642      61.739887      1   \n",
       "...                               ...           ...            ...    ...   \n",
       "2021-04-28 23:40:00      1.209518e+00     20.000015      46.301481      1   \n",
       "2021-04-28 23:45:00      1.209518e+00     20.000015      46.301481      1   \n",
       "2021-04-28 23:50:00      1.209518e+00     20.000015      46.301481      1   \n",
       "2021-04-28 23:55:00      1.209518e+00     20.000015      46.301481      1   \n",
       "2021-04-29 00:00:00     -1.032504e+07     69.230771      65.976777      1   \n",
       "\n",
       "                     UpperShadow  LowerShadow      Body  Signal  TRACKER  \\\n",
       "2018-01-01 18:10:00     0.000000     0.001050  0.000160       0        0   \n",
       "2018-01-01 18:25:00     0.000000     0.000125  0.000000       0        0   \n",
       "2018-01-01 18:35:00     0.000000     0.000225  0.000000       0        0   \n",
       "2018-01-01 18:50:00     0.000360     0.000000  0.000000       0        0   \n",
       "2018-01-01 18:55:00     0.000005     0.000005  0.000005       0        0   \n",
       "...                          ...          ...       ...     ...      ...   \n",
       "2021-04-28 23:40:00     0.000005     0.000005  0.000060       0        0   \n",
       "2021-04-28 23:45:00     0.000125     0.000000  0.000050       0        0   \n",
       "2021-04-28 23:50:00     0.000020     0.000005  0.000185       0        0   \n",
       "2021-04-28 23:55:00     0.000045     0.000075  0.000045       0        0   \n",
       "2021-04-29 00:00:00     0.000040     0.000075  0.000035       1        0   \n",
       "\n",
       "                     Valid  \n",
       "2018-01-01 18:10:00      0  \n",
       "2018-01-01 18:25:00      0  \n",
       "2018-01-01 18:35:00      0  \n",
       "2018-01-01 18:50:00      0  \n",
       "2018-01-01 18:55:00      0  \n",
       "...                    ...  \n",
       "2021-04-28 23:40:00      0  \n",
       "2021-04-28 23:45:00      0  \n",
       "2021-04-28 23:50:00      0  \n",
       "2021-04-28 23:55:00      0  \n",
       "2021-04-29 00:00:00      0  \n",
       "\n",
       "[240612 rows x 66 columns]"
      ],
      "text/html": "<div>\n<style scoped>\n    .dataframe tbody tr th:only-of-type {\n        vertical-align: middle;\n    }\n\n    .dataframe tbody tr th {\n        vertical-align: top;\n    }\n\n    .dataframe thead th {\n        text-align: right;\n    }\n</style>\n<table border=\"1\" class=\"dataframe\">\n  <thead>\n    <tr style=\"text-align: right;\">\n      <th></th>\n      <th>Close</th>\n      <th>CloseAsk</th>\n      <th>CloseBid</th>\n      <th>High</th>\n      <th>HighAsk</th>\n      <th>HighBid</th>\n      <th>Low</th>\n      <th>LowAsk</th>\n      <th>LowBid</th>\n      <th>Open</th>\n      <th>...</th>\n      <th>CloseShift_daily</th>\n      <th>RSI_2_hourly</th>\n      <th>RSI_14_hourly</th>\n      <th>Color</th>\n      <th>UpperShadow</th>\n      <th>LowerShadow</th>\n      <th>Body</th>\n      <th>Signal</th>\n      <th>TRACKER</th>\n      <th>Valid</th>\n    </tr>\n  </thead>\n  <tbody>\n    <tr>\n      <th>2018-01-01 18:10:00</th>\n      <td>1.200860</td>\n      <td>1.20125</td>\n      <td>1.20047</td>\n      <td>1.200860</td>\n      <td>1.20125</td>\n      <td>1.20047</td>\n      <td>1.199650</td>\n      <td>1.20000</td>\n      <td>1.19930</td>\n      <td>1.200700</td>\n      <td>...</td>\n      <td>1.198082e+00</td>\n      <td>8.543642</td>\n      <td>61.739887</td>\n      <td>1</td>\n      <td>0.000000</td>\n      <td>0.001050</td>\n      <td>0.000160</td>\n      <td>0</td>\n      <td>0</td>\n      <td>0</td>\n    </tr>\n    <tr>\n      <th>2018-01-01 18:25:00</th>\n      <td>1.200860</td>\n      <td>1.20125</td>\n      <td>1.20047</td>\n      <td>1.200860</td>\n      <td>1.20125</td>\n      <td>1.20047</td>\n      <td>1.200735</td>\n      <td>1.20100</td>\n      <td>1.20047</td>\n      <td>1.200860</td>\n      <td>...</td>\n      <td>1.198082e+00</td>\n      <td>8.543642</td>\n      <td>61.739887</td>\n      <td>1</td>\n      <td>0.000000</td>\n      <td>0.000125</td>\n      <td>0.000000</td>\n      <td>0</td>\n      <td>0</td>\n      <td>0</td>\n    </tr>\n    <tr>\n      <th>2018-01-01 18:35:00</th>\n      <td>1.200860</td>\n      <td>1.20125</td>\n      <td>1.20047</td>\n      <td>1.200860</td>\n      <td>1.20125</td>\n      <td>1.20047</td>\n      <td>1.200635</td>\n      <td>1.20080</td>\n      <td>1.20047</td>\n      <td>1.200860</td>\n      <td>...</td>\n      <td>1.198082e+00</td>\n      <td>8.543642</td>\n      <td>61.739887</td>\n      <td>1</td>\n      <td>0.000000</td>\n      <td>0.000225</td>\n      <td>0.000000</td>\n      <td>0</td>\n      <td>0</td>\n      <td>0</td>\n    </tr>\n    <tr>\n      <th>2018-01-01 18:50:00</th>\n      <td>1.200860</td>\n      <td>1.20125</td>\n      <td>1.20047</td>\n      <td>1.201220</td>\n      <td>1.20130</td>\n      <td>1.20114</td>\n      <td>1.200860</td>\n      <td>1.20125</td>\n      <td>1.20047</td>\n      <td>1.200860</td>\n      <td>...</td>\n      <td>1.198082e+00</td>\n      <td>8.543642</td>\n      <td>61.739887</td>\n      <td>1</td>\n      <td>0.000360</td>\n      <td>0.000000</td>\n      <td>0.000000</td>\n      <td>0</td>\n      <td>0</td>\n      <td>0</td>\n    </tr>\n    <tr>\n      <th>2018-01-01 18:55:00</th>\n      <td>1.200855</td>\n      <td>1.20125</td>\n      <td>1.20046</td>\n      <td>1.200860</td>\n      <td>1.20125</td>\n      <td>1.20047</td>\n      <td>1.200855</td>\n      <td>1.20125</td>\n      <td>1.20046</td>\n      <td>1.200860</td>\n      <td>...</td>\n      <td>1.198082e+00</td>\n      <td>8.543642</td>\n      <td>61.739887</td>\n      <td>1</td>\n      <td>0.000005</td>\n      <td>0.000005</td>\n      <td>0.000005</td>\n      <td>0</td>\n      <td>0</td>\n      <td>0</td>\n    </tr>\n    <tr>\n      <th>...</th>\n      <td>...</td>\n      <td>...</td>\n      <td>...</td>\n      <td>...</td>\n      <td>...</td>\n      <td>...</td>\n      <td>...</td>\n      <td>...</td>\n      <td>...</td>\n      <td>...</td>\n      <td>...</td>\n      <td>...</td>\n      <td>...</td>\n      <td>...</td>\n      <td>...</td>\n      <td>...</td>\n      <td>...</td>\n      <td>...</td>\n      <td>...</td>\n      <td>...</td>\n      <td>...</td>\n    </tr>\n    <tr>\n      <th>2021-04-28 23:40:00</th>\n      <td>1.213290</td>\n      <td>1.21335</td>\n      <td>1.21323</td>\n      <td>1.213295</td>\n      <td>1.21335</td>\n      <td>1.21324</td>\n      <td>1.213225</td>\n      <td>1.21329</td>\n      <td>1.21316</td>\n      <td>1.213230</td>\n      <td>...</td>\n      <td>1.209518e+00</td>\n      <td>20.000015</td>\n      <td>46.301481</td>\n      <td>1</td>\n      <td>0.000005</td>\n      <td>0.000005</td>\n      <td>0.000060</td>\n      <td>0</td>\n      <td>0</td>\n      <td>0</td>\n    </tr>\n    <tr>\n      <th>2021-04-28 23:45:00</th>\n      <td>1.213345</td>\n      <td>1.21341</td>\n      <td>1.21328</td>\n      <td>1.213470</td>\n      <td>1.21353</td>\n      <td>1.21341</td>\n      <td>1.213295</td>\n      <td>1.21335</td>\n      <td>1.21324</td>\n      <td>1.213295</td>\n      <td>...</td>\n      <td>1.209518e+00</td>\n      <td>20.000015</td>\n      <td>46.301481</td>\n      <td>1</td>\n      <td>0.000125</td>\n      <td>0.000000</td>\n      <td>0.000050</td>\n      <td>0</td>\n      <td>0</td>\n      <td>0</td>\n    </tr>\n    <tr>\n      <th>2021-04-28 23:50:00</th>\n      <td>1.213525</td>\n      <td>1.21359</td>\n      <td>1.21346</td>\n      <td>1.213545</td>\n      <td>1.21361</td>\n      <td>1.21348</td>\n      <td>1.213335</td>\n      <td>1.21340</td>\n      <td>1.21327</td>\n      <td>1.213340</td>\n      <td>...</td>\n      <td>1.209518e+00</td>\n      <td>20.000015</td>\n      <td>46.301481</td>\n      <td>1</td>\n      <td>0.000020</td>\n      <td>0.000005</td>\n      <td>0.000185</td>\n      <td>0</td>\n      <td>0</td>\n      <td>0</td>\n    </tr>\n    <tr>\n      <th>2021-04-28 23:55:00</th>\n      <td>1.213485</td>\n      <td>1.21355</td>\n      <td>1.21342</td>\n      <td>1.213530</td>\n      <td>1.21360</td>\n      <td>1.21346</td>\n      <td>1.213455</td>\n      <td>1.21352</td>\n      <td>1.21339</td>\n      <td>1.213530</td>\n      <td>...</td>\n      <td>1.209518e+00</td>\n      <td>20.000015</td>\n      <td>46.301481</td>\n      <td>1</td>\n      <td>0.000045</td>\n      <td>0.000075</td>\n      <td>0.000045</td>\n      <td>0</td>\n      <td>0</td>\n      <td>0</td>\n    </tr>\n    <tr>\n      <th>2021-04-29 00:00:00</th>\n      <td>1.213540</td>\n      <td>1.21360</td>\n      <td>1.21348</td>\n      <td>1.213580</td>\n      <td>1.21364</td>\n      <td>1.21352</td>\n      <td>1.213430</td>\n      <td>1.21349</td>\n      <td>1.21337</td>\n      <td>1.213505</td>\n      <td>...</td>\n      <td>-1.032504e+07</td>\n      <td>69.230771</td>\n      <td>65.976777</td>\n      <td>1</td>\n      <td>0.000040</td>\n      <td>0.000075</td>\n      <td>0.000035</td>\n      <td>1</td>\n      <td>0</td>\n      <td>0</td>\n    </tr>\n  </tbody>\n</table>\n<p>240612 rows × 66 columns</p>\n</div>"
     },
     "metadata": {},
     "execution_count": 36
    }
   ],
   "source": [
    "df_oos_raw"
   ]
  },
  {
   "cell_type": "code",
   "execution_count": 122,
   "metadata": {},
   "outputs": [
    {
     "output_type": "execute_result",
     "data": {
      "text/plain": [
       "                        Close  CloseAsk  CloseBid      High  HighAsk  HighBid  \\\n",
       "2010-01-04 04:15:00  1.429280   1.42937   1.42919  1.429290  1.42937  1.42921   \n",
       "2010-01-04 12:25:00  1.440170   1.44025   1.44009  1.440435  1.44049  1.44038   \n",
       "2010-01-05 12:35:00  1.443295   1.44335   1.44324  1.443345  1.44343  1.44326   \n",
       "2010-01-07 02:30:00  1.440515   1.44059   1.44044  1.440555  1.44062  1.44049   \n",
       "2010-01-07 07:30:00  1.437540   1.43763   1.43745  1.438465  1.43854  1.43839   \n",
       "...                       ...       ...       ...       ...      ...      ...   \n",
       "2021-04-23 15:50:00  1.206655   1.20672   1.20659  1.207070  1.20713  1.20701   \n",
       "2021-04-26 06:50:00  1.210070   1.21013   1.21001  1.210335  1.21039  1.21028   \n",
       "2021-04-28 16:20:00  1.209115   1.20918   1.20905  1.209125  1.20919  1.20906   \n",
       "2021-04-29 02:35:00  1.213975   1.21404   1.21391  1.214080  1.21414  1.21402   \n",
       "2021-04-29 05:10:00  1.213440   1.21350   1.21338  1.213635  1.21369  1.21358   \n",
       "\n",
       "                          Low   LowAsk   LowBid      Open  ...  \\\n",
       "2010-01-04 04:15:00  1.428770  1.42885  1.42869  1.428935  ...   \n",
       "2010-01-04 12:25:00  1.440115  1.44019  1.44004  1.440245  ...   \n",
       "2010-01-05 12:35:00  1.442870  1.44295  1.44279  1.443345  ...   \n",
       "2010-01-07 02:30:00  1.439970  1.44005  1.43989  1.440005  ...   \n",
       "2010-01-07 07:30:00  1.437525  1.43760  1.43745  1.438305  ...   \n",
       "...                       ...      ...      ...       ...  ...   \n",
       "2021-04-23 15:50:00  1.206655  1.20672  1.20659  1.206965  ...   \n",
       "2021-04-26 06:50:00  1.209960  1.21003  1.20989  1.209960  ...   \n",
       "2021-04-28 16:20:00  1.208910  1.20897  1.20885  1.208965  ...   \n",
       "2021-04-29 02:35:00  1.213825  1.21389  1.21376  1.214020  ...   \n",
       "2021-04-29 05:10:00  1.213425  1.21348  1.21337  1.213490  ...   \n",
       "\n",
       "                     CloseShift_daily  RSI_2_hourly  RSI_14_hourly  Color  \\\n",
       "2010-01-04 04:15:00               NaN     39.540607            NaN      1   \n",
       "2010-01-04 12:25:00               NaN     77.180311            NaN      1   \n",
       "2010-01-05 12:35:00               NaN     23.339033      54.939132      1   \n",
       "2010-01-07 02:30:00               NaN     91.685971      62.984083      1   \n",
       "2010-01-07 07:30:00               NaN      1.562359      42.195236      1   \n",
       "...                               ...           ...            ...    ...   \n",
       "2021-04-23 15:50:00      1.200264e+00     17.987157      55.425941      1   \n",
       "2021-04-26 06:50:00      1.207399e+00     25.445532      70.530076      1   \n",
       "2021-04-28 16:20:00      1.209518e+00     96.228060      63.055620      1   \n",
       "2021-04-29 02:35:00     -1.032504e+07     20.000031      46.301448      1   \n",
       "2021-04-29 05:10:00     -1.032504e+07     20.000211      46.301428      1   \n",
       "\n",
       "                     UpperShadow  LowerShadow      Body  Signal  TRACKER  \\\n",
       "2010-01-04 04:15:00     0.000010     0.000165  0.000345       0        0   \n",
       "2010-01-04 12:25:00     0.000265     0.000130  0.000075       0        0   \n",
       "2010-01-05 12:35:00     0.000050     0.000475  0.000050       0        0   \n",
       "2010-01-07 02:30:00     0.000040     0.000035  0.000510       0        0   \n",
       "2010-01-07 07:30:00     0.000925     0.000780  0.000765       0        0   \n",
       "...                          ...          ...       ...     ...      ...   \n",
       "2021-04-23 15:50:00     0.000415     0.000310  0.000310       0        0   \n",
       "2021-04-26 06:50:00     0.000265     0.000000  0.000110       0        0   \n",
       "2021-04-28 16:20:00     0.000010     0.000055  0.000150       0        0   \n",
       "2021-04-29 02:35:00     0.000105     0.000195  0.000045       0        0   \n",
       "2021-04-29 05:10:00     0.000195     0.000065  0.000050       0        0   \n",
       "\n",
       "                     Valid  \n",
       "2010-01-04 04:15:00      0  \n",
       "2010-01-04 12:25:00      0  \n",
       "2010-01-05 12:35:00      0  \n",
       "2010-01-07 02:30:00      0  \n",
       "2010-01-07 07:30:00      0  \n",
       "...                    ...  \n",
       "2021-04-23 15:50:00      0  \n",
       "2021-04-26 06:50:00      0  \n",
       "2021-04-28 16:20:00      0  \n",
       "2021-04-29 02:35:00      0  \n",
       "2021-04-29 05:10:00      0  \n",
       "\n",
       "[5444 rows x 66 columns]"
      ],
      "text/html": "<div>\n<style scoped>\n    .dataframe tbody tr th:only-of-type {\n        vertical-align: middle;\n    }\n\n    .dataframe tbody tr th {\n        vertical-align: top;\n    }\n\n    .dataframe thead th {\n        text-align: right;\n    }\n</style>\n<table border=\"1\" class=\"dataframe\">\n  <thead>\n    <tr style=\"text-align: right;\">\n      <th></th>\n      <th>Close</th>\n      <th>CloseAsk</th>\n      <th>CloseBid</th>\n      <th>High</th>\n      <th>HighAsk</th>\n      <th>HighBid</th>\n      <th>Low</th>\n      <th>LowAsk</th>\n      <th>LowBid</th>\n      <th>Open</th>\n      <th>...</th>\n      <th>CloseShift_daily</th>\n      <th>RSI_2_hourly</th>\n      <th>RSI_14_hourly</th>\n      <th>Color</th>\n      <th>UpperShadow</th>\n      <th>LowerShadow</th>\n      <th>Body</th>\n      <th>Signal</th>\n      <th>TRACKER</th>\n      <th>Valid</th>\n    </tr>\n  </thead>\n  <tbody>\n    <tr>\n      <th>2010-01-04 04:15:00</th>\n      <td>1.429280</td>\n      <td>1.42937</td>\n      <td>1.42919</td>\n      <td>1.429290</td>\n      <td>1.42937</td>\n      <td>1.42921</td>\n      <td>1.428770</td>\n      <td>1.42885</td>\n      <td>1.42869</td>\n      <td>1.428935</td>\n      <td>...</td>\n      <td>NaN</td>\n      <td>39.540607</td>\n      <td>NaN</td>\n      <td>1</td>\n      <td>0.000010</td>\n      <td>0.000165</td>\n      <td>0.000345</td>\n      <td>0</td>\n      <td>0</td>\n      <td>0</td>\n    </tr>\n    <tr>\n      <th>2010-01-04 12:25:00</th>\n      <td>1.440170</td>\n      <td>1.44025</td>\n      <td>1.44009</td>\n      <td>1.440435</td>\n      <td>1.44049</td>\n      <td>1.44038</td>\n      <td>1.440115</td>\n      <td>1.44019</td>\n      <td>1.44004</td>\n      <td>1.440245</td>\n      <td>...</td>\n      <td>NaN</td>\n      <td>77.180311</td>\n      <td>NaN</td>\n      <td>1</td>\n      <td>0.000265</td>\n      <td>0.000130</td>\n      <td>0.000075</td>\n      <td>0</td>\n      <td>0</td>\n      <td>0</td>\n    </tr>\n    <tr>\n      <th>2010-01-05 12:35:00</th>\n      <td>1.443295</td>\n      <td>1.44335</td>\n      <td>1.44324</td>\n      <td>1.443345</td>\n      <td>1.44343</td>\n      <td>1.44326</td>\n      <td>1.442870</td>\n      <td>1.44295</td>\n      <td>1.44279</td>\n      <td>1.443345</td>\n      <td>...</td>\n      <td>NaN</td>\n      <td>23.339033</td>\n      <td>54.939132</td>\n      <td>1</td>\n      <td>0.000050</td>\n      <td>0.000475</td>\n      <td>0.000050</td>\n      <td>0</td>\n      <td>0</td>\n      <td>0</td>\n    </tr>\n    <tr>\n      <th>2010-01-07 02:30:00</th>\n      <td>1.440515</td>\n      <td>1.44059</td>\n      <td>1.44044</td>\n      <td>1.440555</td>\n      <td>1.44062</td>\n      <td>1.44049</td>\n      <td>1.439970</td>\n      <td>1.44005</td>\n      <td>1.43989</td>\n      <td>1.440005</td>\n      <td>...</td>\n      <td>NaN</td>\n      <td>91.685971</td>\n      <td>62.984083</td>\n      <td>1</td>\n      <td>0.000040</td>\n      <td>0.000035</td>\n      <td>0.000510</td>\n      <td>0</td>\n      <td>0</td>\n      <td>0</td>\n    </tr>\n    <tr>\n      <th>2010-01-07 07:30:00</th>\n      <td>1.437540</td>\n      <td>1.43763</td>\n      <td>1.43745</td>\n      <td>1.438465</td>\n      <td>1.43854</td>\n      <td>1.43839</td>\n      <td>1.437525</td>\n      <td>1.43760</td>\n      <td>1.43745</td>\n      <td>1.438305</td>\n      <td>...</td>\n      <td>NaN</td>\n      <td>1.562359</td>\n      <td>42.195236</td>\n      <td>1</td>\n      <td>0.000925</td>\n      <td>0.000780</td>\n      <td>0.000765</td>\n      <td>0</td>\n      <td>0</td>\n      <td>0</td>\n    </tr>\n    <tr>\n      <th>...</th>\n      <td>...</td>\n      <td>...</td>\n      <td>...</td>\n      <td>...</td>\n      <td>...</td>\n      <td>...</td>\n      <td>...</td>\n      <td>...</td>\n      <td>...</td>\n      <td>...</td>\n      <td>...</td>\n      <td>...</td>\n      <td>...</td>\n      <td>...</td>\n      <td>...</td>\n      <td>...</td>\n      <td>...</td>\n      <td>...</td>\n      <td>...</td>\n      <td>...</td>\n      <td>...</td>\n    </tr>\n    <tr>\n      <th>2021-04-23 15:50:00</th>\n      <td>1.206655</td>\n      <td>1.20672</td>\n      <td>1.20659</td>\n      <td>1.207070</td>\n      <td>1.20713</td>\n      <td>1.20701</td>\n      <td>1.206655</td>\n      <td>1.20672</td>\n      <td>1.20659</td>\n      <td>1.206965</td>\n      <td>...</td>\n      <td>1.200264e+00</td>\n      <td>17.987157</td>\n      <td>55.425941</td>\n      <td>1</td>\n      <td>0.000415</td>\n      <td>0.000310</td>\n      <td>0.000310</td>\n      <td>0</td>\n      <td>0</td>\n      <td>0</td>\n    </tr>\n    <tr>\n      <th>2021-04-26 06:50:00</th>\n      <td>1.210070</td>\n      <td>1.21013</td>\n      <td>1.21001</td>\n      <td>1.210335</td>\n      <td>1.21039</td>\n      <td>1.21028</td>\n      <td>1.209960</td>\n      <td>1.21003</td>\n      <td>1.20989</td>\n      <td>1.209960</td>\n      <td>...</td>\n      <td>1.207399e+00</td>\n      <td>25.445532</td>\n      <td>70.530076</td>\n      <td>1</td>\n      <td>0.000265</td>\n      <td>0.000000</td>\n      <td>0.000110</td>\n      <td>0</td>\n      <td>0</td>\n      <td>0</td>\n    </tr>\n    <tr>\n      <th>2021-04-28 16:20:00</th>\n      <td>1.209115</td>\n      <td>1.20918</td>\n      <td>1.20905</td>\n      <td>1.209125</td>\n      <td>1.20919</td>\n      <td>1.20906</td>\n      <td>1.208910</td>\n      <td>1.20897</td>\n      <td>1.20885</td>\n      <td>1.208965</td>\n      <td>...</td>\n      <td>1.209518e+00</td>\n      <td>96.228060</td>\n      <td>63.055620</td>\n      <td>1</td>\n      <td>0.000010</td>\n      <td>0.000055</td>\n      <td>0.000150</td>\n      <td>0</td>\n      <td>0</td>\n      <td>0</td>\n    </tr>\n    <tr>\n      <th>2021-04-29 02:35:00</th>\n      <td>1.213975</td>\n      <td>1.21404</td>\n      <td>1.21391</td>\n      <td>1.214080</td>\n      <td>1.21414</td>\n      <td>1.21402</td>\n      <td>1.213825</td>\n      <td>1.21389</td>\n      <td>1.21376</td>\n      <td>1.214020</td>\n      <td>...</td>\n      <td>-1.032504e+07</td>\n      <td>20.000031</td>\n      <td>46.301448</td>\n      <td>1</td>\n      <td>0.000105</td>\n      <td>0.000195</td>\n      <td>0.000045</td>\n      <td>0</td>\n      <td>0</td>\n      <td>0</td>\n    </tr>\n    <tr>\n      <th>2021-04-29 05:10:00</th>\n      <td>1.213440</td>\n      <td>1.21350</td>\n      <td>1.21338</td>\n      <td>1.213635</td>\n      <td>1.21369</td>\n      <td>1.21358</td>\n      <td>1.213425</td>\n      <td>1.21348</td>\n      <td>1.21337</td>\n      <td>1.213490</td>\n      <td>...</td>\n      <td>-1.032504e+07</td>\n      <td>20.000211</td>\n      <td>46.301428</td>\n      <td>1</td>\n      <td>0.000195</td>\n      <td>0.000065</td>\n      <td>0.000050</td>\n      <td>0</td>\n      <td>0</td>\n      <td>0</td>\n    </tr>\n  </tbody>\n</table>\n<p>5444 rows × 66 columns</p>\n</div>"
     },
     "metadata": {},
     "execution_count": 122
    }
   ],
   "source": [
    "df"
   ]
  },
  {
   "cell_type": "code",
   "execution_count": null,
   "metadata": {},
   "outputs": [],
   "source": []
  }
 ]
}