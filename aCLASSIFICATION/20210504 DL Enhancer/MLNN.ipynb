{
 "metadata": {
  "language_info": {
   "codemirror_mode": {
    "name": "ipython",
    "version": 3
   },
   "file_extension": ".py",
   "mimetype": "text/x-python",
   "name": "python",
   "nbconvert_exporter": "python",
   "pygments_lexer": "ipython3",
   "version": "3.8.5"
  },
  "orig_nbformat": 2,
  "kernelspec": {
   "name": "python385jvsc74a57bd07f9c69b77f8cb78a9d8b8acc2d09c3972908e6673afd8bfd04ee2f6acaaac495",
   "display_name": "Python 3.8.5 64-bit ('DataSciences': conda)"
  },
  "metadata": {
   "interpreter": {
    "hash": "7f9c69b77f8cb78a9d8b8acc2d09c3972908e6673afd8bfd04ee2f6acaaac495"
   }
  }
 },
 "nbformat": 4,
 "nbformat_minor": 2,
 "cells": [
  {
   "cell_type": "code",
   "execution_count": 8,
   "metadata": {},
   "outputs": [],
   "source": [
    "from numpy import exp, array, random, dot\n",
    "import joblib\n",
    "import time"
   ]
  },
  {
   "cell_type": "code",
   "execution_count": 28,
   "metadata": {},
   "outputs": [
    {
     "output_type": "stream",
     "name": "stdout",
     "text": [
      "Stage 1) Random starting synaptic weights: \n",
      "    Layer 1 (4 neurons, each with 3 inputs): \n",
      "[[-0.25091976  0.90142861  0.46398788 ...  0.27282082 -0.37128804\n",
      "   0.01714138]\n",
      " [ 0.81513295 -0.50141554 -0.17923415 ... -0.9816059  -0.79705691\n",
      "   0.32700354]\n",
      " [-0.98987683 -0.6783839   0.09746758 ... -0.4583355  -0.12205716\n",
      "  -0.84308724]\n",
      " ...\n",
      " [ 0.68798694 -0.47518325 -0.15657476 ... -0.87241089 -0.22555372\n",
      "  -0.43446909]\n",
      " [-0.39101915  0.96589376  0.28555483 ... -0.97897355  0.52377979\n",
      "   0.78660899]\n",
      " [-0.13432016  0.07108495 -0.04603321 ...  0.79111148  0.93324444\n",
      "  -0.11312179]]\n",
      "    Layer 2 (1 neuron, with 4 inputs):\n",
      "[[-0.35800591  0.05218803  0.37553841 ... -0.21816515  0.95291306\n",
      "   0.90933271]\n",
      " [ 0.60027517 -0.51668216 -0.86392537 ... -0.07202917 -0.73343148\n",
      "   0.85549147]\n",
      " [ 0.7354042   0.41524117 -0.78757234 ...  0.99534453 -0.47289704\n",
      "  -0.44173906]\n",
      " ...\n",
      " [ 0.0465725  -0.76650419 -0.74186975 ... -0.64333698 -0.52126033\n",
      "  -0.16406298]\n",
      " [-0.49761599 -0.35886483 -0.73004303 ...  0.63592699  0.85984353\n",
      "   0.09016683]\n",
      " [ 0.32293241  0.80654724 -0.8029063  ...  0.14463037  0.9984146\n",
      "  -0.42630671]]\n",
      "<timed exec>:16: RuntimeWarning: overflow encountered in exp\n"
     ]
    },
    {
     "output_type": "error",
     "ename": "ValueError",
     "evalue": "shapes (714845,104) and (26,52) not aligned: 104 (dim 1) != 26 (dim 0)",
     "traceback": [
      "\u001b[0;31m---------------------------------------------------------------------------\u001b[0m",
      "\u001b[0;31mValueError\u001b[0m                                Traceback (most recent call last)",
      "\u001b[0;32m<timed exec>\u001b[0m in \u001b[0;36m<module>\u001b[0;34m\u001b[0m\n",
      "\u001b[0;32m<timed exec>\u001b[0m in \u001b[0;36mtrain\u001b[0;34m(self, training_set_inputs, training_set_outputs, number_of_training_iterations)\u001b[0m\n",
      "\u001b[0;32m<timed exec>\u001b[0m in \u001b[0;36mthink\u001b[0;34m(self, inputs)\u001b[0m\n",
      "\u001b[0;32m<__array_function__ internals>\u001b[0m in \u001b[0;36mdot\u001b[0;34m(*args, **kwargs)\u001b[0m\n",
      "\u001b[0;31mValueError\u001b[0m: shapes (714845,104) and (26,52) not aligned: 104 (dim 1) != 26 (dim 0)"
     ]
    }
   ],
   "source": [
    "%%time\n",
    "\n",
    "_period = 'm5'\n",
    "class NeuronLayer():\n",
    "    def __init__(self, number_of_neurons, number_of_inputs_per_neuron):\n",
    "        self.synaptic_weights = 2 * random.random((number_of_inputs_per_neuron, number_of_neurons)) - 1\n",
    "\n",
    "\n",
    "class NeuralNetwork():\n",
    "    def __init__(self, layer1, layer2, layer3):\n",
    "        self.layer1 = layer1\n",
    "        self.layer2 = layer2\n",
    "\n",
    "    # The Sigmoid function, which describes an S shaped curve.\n",
    "    # We pass the weighted sum of the inputs through this function to\n",
    "    # normalise them between 0 and 1.\n",
    "    def __sigmoid(self, x):\n",
    "        return 1 / (1 + exp(-x))\n",
    "\n",
    "    # The derivative of the Sigmoid function.\n",
    "    # This is the gradient of the Sigmoid curve.\n",
    "    # It indicates how confident we are about the existing weight.\n",
    "    def __sigmoid_derivative(self, x):\n",
    "        return x * (1 - x)\n",
    "\n",
    "    # We train the neural network through a process of trial and error.\n",
    "    # Adjusting the synaptic weights each time.\n",
    "    def train(self, training_set_inputs, training_set_outputs, number_of_training_iterations):\n",
    "        for iteration in range(number_of_training_iterations):\n",
    "            # Pass the training set through our neural network\n",
    "            output_from_layer_1, output_from_layer_2 = self.think(training_set_inputs)\n",
    "\n",
    "            # Calculate the error for layer 2 (The difference between the desired output\n",
    "            # and the predicted output).\n",
    "            layer2_error = training_set_outputs - output_from_layer_2\n",
    "            layer2_delta = layer2_error * self.__sigmoid_derivative(output_from_layer_2)\n",
    "\n",
    "            # Calculate the error for layer 1 (By looking at the weights in layer 1,\n",
    "            # we can determine by how much layer 1 contributed to the error in layer 2).\n",
    "            layer1_error = layer2_delta.dot(self.layer2.synaptic_weights.T)\n",
    "            layer1_delta = layer1_error * self.__sigmoid_derivative(output_from_layer_1)\n",
    "\n",
    "            # Calculate how much to adjust the weights by\n",
    "            layer1_adjustment = training_set_inputs.T.dot(layer1_delta)\n",
    "            layer2_adjustment = output_from_layer_1.T.dot(layer2_delta)\n",
    "\n",
    "            # Adjust the weights.\n",
    "            self.layer1.synaptic_weights += layer1_adjustment\n",
    "            self.layer2.synaptic_weights += layer2_adjustment\n",
    "\n",
    "    # The neural network thinks.\n",
    "    def think(self, inputs):\n",
    "        output_from_layer1 = self.__sigmoid(dot(inputs, self.layer1.synaptic_weights))\n",
    "        output_from_layer2 = self.__sigmoid(dot(output_from_layer1, self.layer2.synaptic_weights))\n",
    "        return output_from_layer1, output_from_layer2\n",
    "\n",
    "    # The neural network prints its weights\n",
    "    def print_weights(self):\n",
    "        print( \"    Layer 1 (4 neurons, each with 3 inputs): \")\n",
    "        print (self.layer1.synaptic_weights)\n",
    "        print (\"    Layer 2 (1 neuron, with 4 inputs):\")\n",
    "        print (self.layer2.synaptic_weights)\n",
    "\n",
    "\n",
    "#Seed the random number generator\n",
    "random.seed(42)\n",
    "\n",
    "# Create layer 1 (52 neurons, each with 52 inputs)\n",
    "layer1 = NeuronLayer(104, 52)\n",
    "\n",
    "# Create layer 2 (a single neuron with 4 inputs)\n",
    "layer2 = NeuronLayer(52, 26)\n",
    "\n",
    "# Create layer 2 (a single neuron with 4 inputs)\n",
    "layer3 = NeuronLayer(26, 1)\n",
    "\n",
    "# Combine the layers to create a neural network\n",
    "neural_network = NeuralNetwork(layer1, layer2, layer3)\n",
    "\n",
    "print (\"Stage 1) Random starting synaptic weights: \")\n",
    "neural_network.print_weights()\n",
    "\n",
    "# The training set. We have 7 examples, each consisting of 3 input values\n",
    "# and 1 output value.\n",
    "\n",
    "features = joblib.load('FEATURES/featuring_'+_period+'.dag')\n",
    "features = features.dropna()\n",
    "training_set_inputs = array(features.drop(['Date','Symbol','TRACKER','Signal'],axis=1).values.reshape(714845,52)) # array([[0, 0, 1], [0, 1, 1], [1, 0, 1], [0, 1, 0], [1, 0, 0], [1, 1, 1], [0, 0, 0]])\n",
    "training_set_outputs = array(features.Signal).T.reshape(-1,1) # array([[0, 1, 1, 1, 1, 0, 0]]).T\n",
    "\n",
    "# Train the neural network using the training set.\n",
    "# Do it 60,000 times and make small adjustments each time.\n",
    "neural_network.train(training_set_inputs, training_set_outputs, 60000)\n",
    "\n",
    "print (\"Stage 2) New synaptic weights after training: \")\n",
    "neural_network.print_weights()\n",
    "\n",
    "# Test the neural network with a new situation.\n",
    "print( \"Stage 3) Considering a new situation [1, 1, 0] -> ?: \")\n",
    "hidden_state, output = neural_network.think(array([1, 1, 1, 0]))\n",
    "print (output)"
   ]
  },
  {
   "cell_type": "code",
   "execution_count": 20,
   "metadata": {},
   "outputs": [
    {
     "output_type": "execute_result",
     "data": {
      "text/plain": [
       "array([[ 1.43164   ,  1.43164   ,  1.43037   , ...,         nan,\n",
       "                nan,         nan],\n",
       "       [ 1.43109   ,  1.43113   ,  1.4296    , ...,         nan,\n",
       "                nan,         nan],\n",
       "       [ 1.43071   ,  1.43084   ,  1.42905   , ...,         nan,\n",
       "                nan,         nan],\n",
       "       ...,\n",
       "       [ 1.212055  ,  1.212135  ,  1.21182   , ..., -0.10474002,\n",
       "        21.21185188, 47.51342068],\n",
       "       [ 1.21202   ,  1.21215   ,  1.21161   , ..., -0.33062815,\n",
       "        21.21172688, 47.51329568],\n",
       "       [ 1.211895  ,  1.212145  ,  1.21177   , ...,  0.37000027,\n",
       "        21.21187688, 47.51344568]])"
      ]
     },
     "metadata": {},
     "execution_count": 20
    }
   ],
   "source": [
    "training_set_inputs"
   ]
  },
  {
   "cell_type": "code",
   "execution_count": null,
   "metadata": {},
   "outputs": [],
   "source": []
  }
 ]
}