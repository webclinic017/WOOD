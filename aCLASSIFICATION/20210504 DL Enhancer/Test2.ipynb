{
 "metadata": {
  "language_info": {
   "codemirror_mode": {
    "name": "ipython",
    "version": 3
   },
   "file_extension": ".py",
   "mimetype": "text/x-python",
   "name": "python",
   "nbconvert_exporter": "python",
   "pygments_lexer": "ipython3",
   "version": "3.8.5"
  },
  "orig_nbformat": 2,
  "kernelspec": {
   "name": "python385jvsc74a57bd07f9c69b77f8cb78a9d8b8acc2d09c3972908e6673afd8bfd04ee2f6acaaac495",
   "display_name": "Python 3.8.5 64-bit ('DataSciences': conda)"
  },
  "metadata": {
   "interpreter": {
    "hash": "7f9c69b77f8cb78a9d8b8acc2d09c3972908e6673afd8bfd04ee2f6acaaac495"
   }
  }
 },
 "nbformat": 4,
 "nbformat_minor": 2,
 "cells": [
  {
   "cell_type": "code",
   "execution_count": 1,
   "metadata": {},
   "outputs": [],
   "source": [
    "import joblib\n",
    "import pandas as pd\n",
    "import colorama as col\n",
    "from matplotlib import pyplot as plt\n",
    "import ffn\n",
    "import numpy as np\n",
    "import datetime as dt\n",
    "import fxcmpy\n",
    "from tqdm import tqdm\n",
    "import sys\n",
    "from sklearn.metrics import accuracy_score, make_scorer, precision_score, recall_score, precision_recall_curve, confusion_matrix, classification_report, f1_score\n",
    "sys.path.append('../') \n",
    "import pyttsx3\n",
    "engine = pyttsx3.init()\n",
    "from slack_sdk import WebClient\n",
    "_slack_token = joblib.load('TOKENS/_slack_token.dag')\n",
    "client = WebClient(token=_slack_token)\n",
    "import time\n",
    "import warnings\n",
    "import talib\n",
    "#from pycaret.regression import *\n",
    "from sklearn.linear_model import LinearRegression"
   ]
  },
  {
   "cell_type": "code",
   "execution_count": 2,
   "metadata": {},
   "outputs": [],
   "source": [
    "df = joblib.load('BASES/EURUSD_m5')\n",
    "df_H1 = joblib.load('BASES/EURUSD_H1')\n",
    "df_D1 = joblib.load('BASES/EURUSD_D1')\n",
    "df_W1 = joblib.load('BASES/EURUSD_W1')\n",
    "x = 'EUR/USD'\n",
    "_period = 'm5'\n",
    "_period2 = 'H1'\n",
    "_ticker = x.replace('/','')\n",
    "_start = '2010-01-01' # start the train there '2010-01-01'\n",
    "_mid = '2016-06-30' # stop the train and begin the test there '2016-08-31'\n",
    "_stop = '2017-12-31' # stop the test there. After that, it is kept for oos '2017-12-31'\n",
    "_last = '2021-04-09'"
   ]
  },
  {
   "cell_type": "code",
   "execution_count": 3,
   "metadata": {},
   "outputs": [
    {
     "output_type": "execute_result",
     "data": {
      "text/plain": [
       "                  Open        High         Low       Close  Symbol     OpenS  \\\n",
       "Lindex                                                                         \n",
       "2010-04-20    1.348635    1.352270    1.341915    1.342235  EURUSD  1.348781   \n",
       "2010-04-21    1.342235    1.344725    1.335845    1.338805  EURUSD  1.341893   \n",
       "2010-04-22    1.338805    1.342150    1.320215    1.322305  EURUSD  1.338607   \n",
       "2010-04-23    1.322305    1.339970    1.320585    1.337365  EURUSD  1.322204   \n",
       "2010-04-26    1.336275    1.341610    1.329145    1.339475  EURUSD  1.340340   \n",
       "...                ...         ...         ...         ...     ...       ...   \n",
       "2021-04-19    1.196895    1.204795    1.194250    1.204265  EURUSD  1.198084   \n",
       "2021-04-20    1.204275    1.207980    1.202245    1.203250  EURUSD  1.204283   \n",
       "2021-04-21    1.203245    1.204370    1.199835    1.203730  EURUSD  1.203223   \n",
       "2021-04-22    1.203735    1.206975    1.199370    1.201435  EURUSD  1.203479   \n",
       "2021-04-23  999.000000  999.000000  999.000000  999.000000     999  1.201419   \n",
       "\n",
       "               HighS      LowS    CloseS       Date       ADR  \n",
       "Lindex                                                         \n",
       "2010-04-20  1.355012  1.343648  1.349788 2010-04-20  0.011005  \n",
       "2010-04-21  1.347760  1.334891  1.342094 2010-04-21  0.010575  \n",
       "2010-04-22  1.344625  1.332698  1.339250 2010-04-22  0.010273  \n",
       "2010-04-23  1.327283  1.312599  1.321542 2010-04-23  0.011027  \n",
       "2010-04-26  1.346025  1.331834  1.339499 2010-04-26  0.011858  \n",
       "...              ...       ...       ...        ...       ...  \n",
       "2021-04-19  1.201362  1.195048  1.198865 2021-04-19  0.005787  \n",
       "2021-04-20  1.206602  1.199654  1.202243 2021-04-20  0.006092  \n",
       "2021-04-21  1.205853  1.198488  1.202007 2021-04-21  0.006103  \n",
       "2021-04-22  1.207186  1.200867  1.204989 2021-04-22  0.005926  \n",
       "2021-04-23  1.204038  1.196893  1.200266 2021-04-23  0.006201  \n",
       "\n",
       "[2857 rows x 11 columns]"
      ],
      "text/html": "<div>\n<style scoped>\n    .dataframe tbody tr th:only-of-type {\n        vertical-align: middle;\n    }\n\n    .dataframe tbody tr th {\n        vertical-align: top;\n    }\n\n    .dataframe thead th {\n        text-align: right;\n    }\n</style>\n<table border=\"1\" class=\"dataframe\">\n  <thead>\n    <tr style=\"text-align: right;\">\n      <th></th>\n      <th>Open</th>\n      <th>High</th>\n      <th>Low</th>\n      <th>Close</th>\n      <th>Symbol</th>\n      <th>OpenS</th>\n      <th>HighS</th>\n      <th>LowS</th>\n      <th>CloseS</th>\n      <th>Date</th>\n      <th>ADR</th>\n    </tr>\n    <tr>\n      <th>Lindex</th>\n      <th></th>\n      <th></th>\n      <th></th>\n      <th></th>\n      <th></th>\n      <th></th>\n      <th></th>\n      <th></th>\n      <th></th>\n      <th></th>\n      <th></th>\n    </tr>\n  </thead>\n  <tbody>\n    <tr>\n      <th>2010-04-20</th>\n      <td>1.348635</td>\n      <td>1.352270</td>\n      <td>1.341915</td>\n      <td>1.342235</td>\n      <td>EURUSD</td>\n      <td>1.348781</td>\n      <td>1.355012</td>\n      <td>1.343648</td>\n      <td>1.349788</td>\n      <td>2010-04-20</td>\n      <td>0.011005</td>\n    </tr>\n    <tr>\n      <th>2010-04-21</th>\n      <td>1.342235</td>\n      <td>1.344725</td>\n      <td>1.335845</td>\n      <td>1.338805</td>\n      <td>EURUSD</td>\n      <td>1.341893</td>\n      <td>1.347760</td>\n      <td>1.334891</td>\n      <td>1.342094</td>\n      <td>2010-04-21</td>\n      <td>0.010575</td>\n    </tr>\n    <tr>\n      <th>2010-04-22</th>\n      <td>1.338805</td>\n      <td>1.342150</td>\n      <td>1.320215</td>\n      <td>1.322305</td>\n      <td>EURUSD</td>\n      <td>1.338607</td>\n      <td>1.344625</td>\n      <td>1.332698</td>\n      <td>1.339250</td>\n      <td>2010-04-22</td>\n      <td>0.010273</td>\n    </tr>\n    <tr>\n      <th>2010-04-23</th>\n      <td>1.322305</td>\n      <td>1.339970</td>\n      <td>1.320585</td>\n      <td>1.337365</td>\n      <td>EURUSD</td>\n      <td>1.322204</td>\n      <td>1.327283</td>\n      <td>1.312599</td>\n      <td>1.321542</td>\n      <td>2010-04-23</td>\n      <td>0.011027</td>\n    </tr>\n    <tr>\n      <th>2010-04-26</th>\n      <td>1.336275</td>\n      <td>1.341610</td>\n      <td>1.329145</td>\n      <td>1.339475</td>\n      <td>EURUSD</td>\n      <td>1.340340</td>\n      <td>1.346025</td>\n      <td>1.331834</td>\n      <td>1.339499</td>\n      <td>2010-04-26</td>\n      <td>0.011858</td>\n    </tr>\n    <tr>\n      <th>...</th>\n      <td>...</td>\n      <td>...</td>\n      <td>...</td>\n      <td>...</td>\n      <td>...</td>\n      <td>...</td>\n      <td>...</td>\n      <td>...</td>\n      <td>...</td>\n      <td>...</td>\n      <td>...</td>\n    </tr>\n    <tr>\n      <th>2021-04-19</th>\n      <td>1.196895</td>\n      <td>1.204795</td>\n      <td>1.194250</td>\n      <td>1.204265</td>\n      <td>EURUSD</td>\n      <td>1.198084</td>\n      <td>1.201362</td>\n      <td>1.195048</td>\n      <td>1.198865</td>\n      <td>2021-04-19</td>\n      <td>0.005787</td>\n    </tr>\n    <tr>\n      <th>2021-04-20</th>\n      <td>1.204275</td>\n      <td>1.207980</td>\n      <td>1.202245</td>\n      <td>1.203250</td>\n      <td>EURUSD</td>\n      <td>1.204283</td>\n      <td>1.206602</td>\n      <td>1.199654</td>\n      <td>1.202243</td>\n      <td>2021-04-20</td>\n      <td>0.006092</td>\n    </tr>\n    <tr>\n      <th>2021-04-21</th>\n      <td>1.203245</td>\n      <td>1.204370</td>\n      <td>1.199835</td>\n      <td>1.203730</td>\n      <td>EURUSD</td>\n      <td>1.203223</td>\n      <td>1.205853</td>\n      <td>1.198488</td>\n      <td>1.202007</td>\n      <td>2021-04-21</td>\n      <td>0.006103</td>\n    </tr>\n    <tr>\n      <th>2021-04-22</th>\n      <td>1.203735</td>\n      <td>1.206975</td>\n      <td>1.199370</td>\n      <td>1.201435</td>\n      <td>EURUSD</td>\n      <td>1.203479</td>\n      <td>1.207186</td>\n      <td>1.200867</td>\n      <td>1.204989</td>\n      <td>2021-04-22</td>\n      <td>0.005926</td>\n    </tr>\n    <tr>\n      <th>2021-04-23</th>\n      <td>999.000000</td>\n      <td>999.000000</td>\n      <td>999.000000</td>\n      <td>999.000000</td>\n      <td>999</td>\n      <td>1.201419</td>\n      <td>1.204038</td>\n      <td>1.196893</td>\n      <td>1.200266</td>\n      <td>2021-04-23</td>\n      <td>0.006201</td>\n    </tr>\n  </tbody>\n</table>\n<p>2857 rows × 11 columns</p>\n</div>"
     },
     "metadata": {},
     "execution_count": 3
    }
   ],
   "source": [
    "df_D1.dropna()"
   ]
  },
  {
   "cell_type": "code",
   "execution_count": 4,
   "metadata": {},
   "outputs": [
    {
     "output_type": "execute_result",
     "data": {
      "text/plain": [
       "                 Date       ADR\n",
       "2021-04-22 2021-04-22  0.005926"
      ],
      "text/html": "<div>\n<style scoped>\n    .dataframe tbody tr th:only-of-type {\n        vertical-align: middle;\n    }\n\n    .dataframe tbody tr th {\n        vertical-align: top;\n    }\n\n    .dataframe thead th {\n        text-align: right;\n    }\n</style>\n<table border=\"1\" class=\"dataframe\">\n  <thead>\n    <tr style=\"text-align: right;\">\n      <th></th>\n      <th>Date</th>\n      <th>ADR</th>\n    </tr>\n  </thead>\n  <tbody>\n    <tr>\n      <th>2021-04-22</th>\n      <td>2021-04-22</td>\n      <td>0.005926</td>\n    </tr>\n  </tbody>\n</table>\n</div>"
     },
     "metadata": {},
     "execution_count": 4
    }
   ],
   "source": [
    "df[['Date'\t,'ADR']][df.index=='2021-04-22']"
   ]
  },
  {
   "cell_type": "code",
   "execution_count": 5,
   "metadata": {},
   "outputs": [
    {
     "output_type": "execute_result",
     "data": {
      "text/plain": [
       "              Close  CloseAsk  CloseBid      High  HighAsk  HighBid      Low  \\\n",
       "2021-04-22  1.20385   1.20391   1.20379  1.203995  1.20406  1.20393  1.20371   \n",
       "\n",
       "             LowAsk   LowBid      Open  ...  HighShift_weekly  \\\n",
       "2021-04-22  1.20376  1.20366  1.203735  ...          1.204795   \n",
       "\n",
       "            LowShift_weekly CloseShift_weekly OpenShift_daily  \\\n",
       "2021-04-22         1.190925          1.196941        1.203479   \n",
       "\n",
       "            HighShift_daily  LowShift_daily  CloseShift_daily  DateIndex  \\\n",
       "2021-04-22         1.207186        1.200867          1.204989 2021-04-22   \n",
       "\n",
       "            RSI_2_hourly  RSI_14_hourly  \n",
       "2021-04-22     85.117875      58.217236  \n",
       "\n",
       "[1 rows x 65 columns]"
      ],
      "text/html": "<div>\n<style scoped>\n    .dataframe tbody tr th:only-of-type {\n        vertical-align: middle;\n    }\n\n    .dataframe tbody tr th {\n        vertical-align: top;\n    }\n\n    .dataframe thead th {\n        text-align: right;\n    }\n</style>\n<table border=\"1\" class=\"dataframe\">\n  <thead>\n    <tr style=\"text-align: right;\">\n      <th></th>\n      <th>Close</th>\n      <th>CloseAsk</th>\n      <th>CloseBid</th>\n      <th>High</th>\n      <th>HighAsk</th>\n      <th>HighBid</th>\n      <th>Low</th>\n      <th>LowAsk</th>\n      <th>LowBid</th>\n      <th>Open</th>\n      <th>...</th>\n      <th>HighShift_weekly</th>\n      <th>LowShift_weekly</th>\n      <th>CloseShift_weekly</th>\n      <th>OpenShift_daily</th>\n      <th>HighShift_daily</th>\n      <th>LowShift_daily</th>\n      <th>CloseShift_daily</th>\n      <th>DateIndex</th>\n      <th>RSI_2_hourly</th>\n      <th>RSI_14_hourly</th>\n    </tr>\n  </thead>\n  <tbody>\n    <tr>\n      <th>2021-04-22</th>\n      <td>1.20385</td>\n      <td>1.20391</td>\n      <td>1.20379</td>\n      <td>1.203995</td>\n      <td>1.20406</td>\n      <td>1.20393</td>\n      <td>1.20371</td>\n      <td>1.20376</td>\n      <td>1.20366</td>\n      <td>1.203735</td>\n      <td>...</td>\n      <td>1.204795</td>\n      <td>1.190925</td>\n      <td>1.196941</td>\n      <td>1.203479</td>\n      <td>1.207186</td>\n      <td>1.200867</td>\n      <td>1.204989</td>\n      <td>2021-04-22</td>\n      <td>85.117875</td>\n      <td>58.217236</td>\n    </tr>\n  </tbody>\n</table>\n<p>1 rows × 65 columns</p>\n</div>"
     },
     "metadata": {},
     "execution_count": 5
    }
   ],
   "source": [
    "df[df.index=='2021-04-22 00:00:00']"
   ]
  },
  {
   "cell_type": "code",
   "execution_count": 43,
   "metadata": {},
   "outputs": [],
   "source": []
  },
  {
   "cell_type": "code",
   "execution_count": 10,
   "metadata": {},
   "outputs": [
    {
     "output_type": "stream",
     "name": "stdout",
     "text": [
      "CPU times: user 34min 6s, sys: 4min, total: 38min 6s\nWall time: 38min 8s\n"
     ]
    }
   ],
   "source": [
    "%%time\n",
    "# Debut de bougie daily\n",
    "_condition_1 = df['Date'] != df['Date'].shift()\n",
    "\n",
    "# Amorce\n",
    "df['HighSlope'] = np.where(_condition_1,df['High'], 10000)\n",
    "\n",
    "# Fin de bougie daily\n",
    "_condition_2 = df['Date'] != df['Date'].shift(-1)\n",
    "# Intérieur de bouige\n",
    "_condition_3 = (df['Date'] == df['Date'].shift()) & (df['Date'] == df['Date'].shift(-1))\n",
    "# Condition des highs et low par rapport à la bougie précédente\n",
    "_condition_4 = df['High'] <= df['HighSlope'].shift(1)\n",
    "_condition_5 = df['High'] > df['HighSlope'].shift(1)\n",
    "#_condition_6 = df['Low'] < df['LowSlope'].shift()\n",
    "#_condition_7 = df['Low'] >= df['LowSlope'].shift()\n",
    "\n",
    "for i in range(1,len(df)-1):\n",
    "    \n",
    "    if (df.Date[i] == df.Date[i-1]) and (df.Date[i] == df.Date[i+1]) and df.High[i] <= df.HighSlope[i-1]:\n",
    "        df.loc[df.index[i],'HighSlope'] =  df.HighSlope[i-1]\n",
    "    \n",
    "    elif (df.Date[i] == df.Date[i-1]) and (df.Date[i] == df.Date[i+1]) and df.High[i] > df.HighSlope[i-1]:\n",
    "        df.loc[df.index[i],'HighSlope'] =  df.High[i]"
   ]
  },
  {
   "cell_type": "code",
   "execution_count": 11,
   "metadata": {},
   "outputs": [
    {
     "output_type": "execute_result",
     "data": {
      "text/plain": [
       "True"
      ]
     },
     "metadata": {},
     "execution_count": 11
    }
   ],
   "source": [
    "10000 in df['HighSlope'].tolist()"
   ]
  },
  {
   "cell_type": "code",
   "execution_count": 12,
   "metadata": {},
   "outputs": [
    {
     "output_type": "execute_result",
     "data": {
      "text/plain": [
       "((2933, 3), (819803, 66))"
      ]
     },
     "metadata": {},
     "execution_count": 12
    }
   ],
   "source": [
    "df[['Date','High','HighSlope']][df.HighSlope==10000].shape,df.shape"
   ]
  },
  {
   "cell_type": "code",
   "execution_count": 20,
   "metadata": {},
   "outputs": [
    {
     "output_type": "execute_result",
     "data": {
      "text/plain": [
       "                          Date      High     HighSlope\n",
       "2021-04-15 23:45:00 2021-04-15  1.197020      1.199325\n",
       "2021-04-15 23:50:00 2021-04-15  1.197010      1.199325\n",
       "2021-04-15 23:55:00 2021-04-15  1.196955  10000.000000\n",
       "2021-04-16 00:00:00 2021-04-16  1.197275      1.197275\n",
       "2021-04-16 00:05:00 2021-04-16  1.197475      1.197475\n",
       "2021-04-16 00:10:00 2021-04-16  1.197415      1.197475\n",
       "2021-04-16 00:15:00 2021-04-16  1.197205      1.197475\n",
       "2021-04-16 00:20:00 2021-04-16  1.196740      1.197475\n",
       "2021-04-16 00:25:00 2021-04-16  1.196540      1.197475\n",
       "2021-04-16 00:30:00 2021-04-16  1.196330      1.197475\n",
       "2021-04-16 00:35:00 2021-04-16  1.196420      1.197475"
      ],
      "text/html": "<div>\n<style scoped>\n    .dataframe tbody tr th:only-of-type {\n        vertical-align: middle;\n    }\n\n    .dataframe tbody tr th {\n        vertical-align: top;\n    }\n\n    .dataframe thead th {\n        text-align: right;\n    }\n</style>\n<table border=\"1\" class=\"dataframe\">\n  <thead>\n    <tr style=\"text-align: right;\">\n      <th></th>\n      <th>Date</th>\n      <th>High</th>\n      <th>HighSlope</th>\n    </tr>\n  </thead>\n  <tbody>\n    <tr>\n      <th>2021-04-15 23:45:00</th>\n      <td>2021-04-15</td>\n      <td>1.197020</td>\n      <td>1.199325</td>\n    </tr>\n    <tr>\n      <th>2021-04-15 23:50:00</th>\n      <td>2021-04-15</td>\n      <td>1.197010</td>\n      <td>1.199325</td>\n    </tr>\n    <tr>\n      <th>2021-04-15 23:55:00</th>\n      <td>2021-04-15</td>\n      <td>1.196955</td>\n      <td>10000.000000</td>\n    </tr>\n    <tr>\n      <th>2021-04-16 00:00:00</th>\n      <td>2021-04-16</td>\n      <td>1.197275</td>\n      <td>1.197275</td>\n    </tr>\n    <tr>\n      <th>2021-04-16 00:05:00</th>\n      <td>2021-04-16</td>\n      <td>1.197475</td>\n      <td>1.197475</td>\n    </tr>\n    <tr>\n      <th>2021-04-16 00:10:00</th>\n      <td>2021-04-16</td>\n      <td>1.197415</td>\n      <td>1.197475</td>\n    </tr>\n    <tr>\n      <th>2021-04-16 00:15:00</th>\n      <td>2021-04-16</td>\n      <td>1.197205</td>\n      <td>1.197475</td>\n    </tr>\n    <tr>\n      <th>2021-04-16 00:20:00</th>\n      <td>2021-04-16</td>\n      <td>1.196740</td>\n      <td>1.197475</td>\n    </tr>\n    <tr>\n      <th>2021-04-16 00:25:00</th>\n      <td>2021-04-16</td>\n      <td>1.196540</td>\n      <td>1.197475</td>\n    </tr>\n    <tr>\n      <th>2021-04-16 00:30:00</th>\n      <td>2021-04-16</td>\n      <td>1.196330</td>\n      <td>1.197475</td>\n    </tr>\n    <tr>\n      <th>2021-04-16 00:35:00</th>\n      <td>2021-04-16</td>\n      <td>1.196420</td>\n      <td>1.197475</td>\n    </tr>\n  </tbody>\n</table>\n</div>"
     },
     "metadata": {},
     "execution_count": 20
    }
   ],
   "source": [
    "df[['Date','High','HighSlope']][(df.index>='2021-04-15 23:45:00')&(df.index<='2021-04-16 00:35:00')]"
   ]
  },
  {
   "cell_type": "code",
   "execution_count": 36,
   "metadata": {},
   "outputs": [
    {
     "output_type": "stream",
     "name": "stdout",
     "text": [
      "CPU times: user 67.8 ms, sys: 8.44 ms, total: 76.2 ms\nWall time: 62.1 ms\n"
     ]
    },
    {
     "output_type": "execute_result",
     "data": {
      "text/plain": [
       "((815218, 3), (819803, 66))"
      ]
     },
     "metadata": {},
     "execution_count": 36
    }
   ],
   "source": [
    "%%time\n",
    "# Debut de bougie daily\n",
    "_condition_1 = df['Date'] != df['Date'].shift()\n",
    "\n",
    "# Amorce\n",
    "df['HighSlope'] = np.where(_condition_1,df['High'], 10000)\n",
    "\n",
    "# Fin de bougie daily\n",
    "_condition_2 = df['Date'] != df['Date'].shift(-1)\n",
    "# Intérieur de bouige\n",
    "_condition_3 = (df['Date'] == df['Date'].shift()) & (df['Date'] == df['Date'].shift(-1))\n",
    "# Condition des highs et low par rapport à la bougie précédente\n",
    "_condition_4 = df['High'] <= df['HighSlope'].shift(1)\n",
    "_condition_5 = df['High'] > df['HighSlope'].shift(1)\n",
    "#_condition_6 = df['Low'] < df['LowSlope'].shift()\n",
    "#_condition_7 = df['Low'] >= df['LowSlope'].shift()\n",
    "\n",
    "df['HighSlope'] = np.where(_condition_3 & _condition_4,df.HighSlope.shift(1),df.HighSlope)\n",
    "df['HighSlope'] = np.where(_condition_3 & _condition_5,df.HighSlope,df.HighSlope)\n",
    "df[['Date','High','HighSlope']][df.HighSlope==10000].shape,df.shape"
   ]
  },
  {
   "cell_type": "code",
   "execution_count": 37,
   "metadata": {},
   "outputs": [
    {
     "output_type": "execute_result",
     "data": {
      "text/plain": [
       "                          Date      High     HighSlope\n",
       "2021-04-15 23:45:00 2021-04-15  1.197020  10000.000000\n",
       "2021-04-15 23:50:00 2021-04-15  1.197010  10000.000000\n",
       "2021-04-15 23:55:00 2021-04-15  1.196955  10000.000000\n",
       "2021-04-16 00:00:00 2021-04-16  1.197275      1.197275\n",
       "2021-04-16 00:05:00 2021-04-16  1.197475  10000.000000\n",
       "2021-04-16 00:10:00 2021-04-16  1.197415  10000.000000\n",
       "2021-04-16 00:15:00 2021-04-16  1.197205  10000.000000\n",
       "2021-04-16 00:20:00 2021-04-16  1.196740  10000.000000\n",
       "2021-04-16 00:25:00 2021-04-16  1.196540  10000.000000\n",
       "2021-04-16 00:30:00 2021-04-16  1.196330  10000.000000\n",
       "2021-04-16 00:35:00 2021-04-16  1.196420  10000.000000"
      ],
      "text/html": "<div>\n<style scoped>\n    .dataframe tbody tr th:only-of-type {\n        vertical-align: middle;\n    }\n\n    .dataframe tbody tr th {\n        vertical-align: top;\n    }\n\n    .dataframe thead th {\n        text-align: right;\n    }\n</style>\n<table border=\"1\" class=\"dataframe\">\n  <thead>\n    <tr style=\"text-align: right;\">\n      <th></th>\n      <th>Date</th>\n      <th>High</th>\n      <th>HighSlope</th>\n    </tr>\n  </thead>\n  <tbody>\n    <tr>\n      <th>2021-04-15 23:45:00</th>\n      <td>2021-04-15</td>\n      <td>1.197020</td>\n      <td>10000.000000</td>\n    </tr>\n    <tr>\n      <th>2021-04-15 23:50:00</th>\n      <td>2021-04-15</td>\n      <td>1.197010</td>\n      <td>10000.000000</td>\n    </tr>\n    <tr>\n      <th>2021-04-15 23:55:00</th>\n      <td>2021-04-15</td>\n      <td>1.196955</td>\n      <td>10000.000000</td>\n    </tr>\n    <tr>\n      <th>2021-04-16 00:00:00</th>\n      <td>2021-04-16</td>\n      <td>1.197275</td>\n      <td>1.197275</td>\n    </tr>\n    <tr>\n      <th>2021-04-16 00:05:00</th>\n      <td>2021-04-16</td>\n      <td>1.197475</td>\n      <td>10000.000000</td>\n    </tr>\n    <tr>\n      <th>2021-04-16 00:10:00</th>\n      <td>2021-04-16</td>\n      <td>1.197415</td>\n      <td>10000.000000</td>\n    </tr>\n    <tr>\n      <th>2021-04-16 00:15:00</th>\n      <td>2021-04-16</td>\n      <td>1.197205</td>\n      <td>10000.000000</td>\n    </tr>\n    <tr>\n      <th>2021-04-16 00:20:00</th>\n      <td>2021-04-16</td>\n      <td>1.196740</td>\n      <td>10000.000000</td>\n    </tr>\n    <tr>\n      <th>2021-04-16 00:25:00</th>\n      <td>2021-04-16</td>\n      <td>1.196540</td>\n      <td>10000.000000</td>\n    </tr>\n    <tr>\n      <th>2021-04-16 00:30:00</th>\n      <td>2021-04-16</td>\n      <td>1.196330</td>\n      <td>10000.000000</td>\n    </tr>\n    <tr>\n      <th>2021-04-16 00:35:00</th>\n      <td>2021-04-16</td>\n      <td>1.196420</td>\n      <td>10000.000000</td>\n    </tr>\n  </tbody>\n</table>\n</div>"
     },
     "metadata": {},
     "execution_count": 37
    }
   ],
   "source": [
    "df[['Date','High','HighSlope']][(df.index>='2021-04-15 23:45:00')&(df.index<='2021-04-16 00:35:00')]"
   ]
  },
  {
   "cell_type": "code",
   "execution_count": 30,
   "metadata": {},
   "outputs": [
    {
     "output_type": "execute_result",
     "data": {
      "text/plain": [
       "0.003577688786208394"
      ]
     },
     "metadata": {},
     "execution_count": 30
    }
   ],
   "source": [
    "2933/819803"
   ]
  },
  {
   "cell_type": "code",
   "execution_count": 34,
   "metadata": {},
   "outputs": [
    {
     "output_type": "execute_result",
     "data": {
      "text/plain": [
       "((359815, 3), (819803, 66))"
      ]
     },
     "metadata": {},
     "execution_count": 34
    }
   ],
   "source": [
    "df[['Date','High','HighSlope']][df.HighSlope==10000].shape,df.shape"
   ]
  },
  {
   "cell_type": "code",
   "execution_count": null,
   "metadata": {},
   "outputs": [],
   "source": []
  },
  {
   "cell_type": "code",
   "execution_count": 5,
   "metadata": {},
   "outputs": [
    {
     "output_type": "stream",
     "name": "stdout",
     "text": [
      "CPU times: user 6 µs, sys: 1 µs, total: 7 µs\nWall time: 10 µs\n"
     ]
    }
   ],
   "source": [
    "%%time\n",
    "_flagh = 0\n",
    "_flagl = 0\n",
    "val = 0\n",
    "\n",
    "def fh(row):\n",
    "    global _flagh, val\n",
    "   \n",
    "    if row['High'] < row['DayHigh'] and row['High'] <= row['HighSlope'].shift(1) and _flagh == 0 and row['Date'] == row['DateShiftMinus'] and row['Date'] == row['DateShiftPlus']:\n",
    "        val = row['HighSlope'].shift(1) # np.nan\n",
    "        _flagh = 0\n",
    "    \n",
    "    elif row['High'] < row['DayHigh'] and row['High'] >= row['HighSlope'].shift(1) and _flagh == 0 and row['Date'] == row['DateShiftMinus'] and row['Date'] == row['DateShiftPlus']:\n",
    "        val = row['High'] # \n",
    "        _flagh = 0\n",
    "    \n",
    "    elif row['High'] >= row['DayHigh'] and row['High'] >= row['HighSlope'].shift(1) and _flagh == 0 and row['Date'] == row['DateShiftMinus'] and row['Date'] == row['DateShiftPlus']:\n",
    "        val = row['DayHigh']\n",
    "        _flagh = 1\n",
    "        \n",
    "    \n",
    "    #elif _flagh == 1:\n",
    "     #   val = row['DayHigh']\n",
    "\n",
    "            \n",
    "    return(val)\n",
    "\n",
    "def fl(row):\n",
    "    global _flagl, val\n",
    "    \n",
    "    if row['Low'] > row['DayLow'] and row['Low'] >= row['LowSlope'].shift(1) and _flagl == 0 and row['Date'] == row['DateShiftMinus'] and row['Date'] == row['DateShiftPlus']:\n",
    "        _flagl = 0\n",
    "        val =  row['LowSlope'].shift(1) # np.nan\n",
    "    \n",
    "    elif row['Low'] > row['DayLow'] and row['Low'] <= row['LowSlope'].shift(1) and _flagl == 0 and row['Date'] == row['DateShiftMinus'] and row['Date'] == row['DateShiftPlus']:\n",
    "        val = row['Low']\n",
    "        _flagl = 0\n",
    "    \n",
    "    elif row['Low'] <= row['DayLow'] and row['Low'] <= row['LowSlope'].shift(1) and _flagl == 0 and row['Date'] == row['DateShiftMinus'] and row['Date'] == row['DateShiftPlus']:\n",
    "        val = row['DayLow']\n",
    "        _flagl = 1\n",
    "\n",
    "    #elif _flagh == 1:\n",
    "     #   val = row['DayLow']\n",
    "\n",
    "    return(val)\n",
    "\n"
   ]
  },
  {
   "source": [
    "%%time\n",
    "df['DateShiftMinus'] = df.Date.shift(1)\n",
    "df['DateShiftPlus'] = df.Date.shift(-1)\n",
    "\n",
    "df['HighShift'] = df.High.shift(1)\n",
    "df['LowShift'] = df.Low.shift(1)\n",
    "\n",
    "df['HighSlope'] = np.where(df['Date'] != df['Date'].shift(),df['High'], np.nan)\n",
    "df['LowSlope'] = np.where(df['Date'] != df['Date'].shift(),df['Low'], np.nan)\n",
    "\n",
    "df['DayHigh'] = df['High'].groupby(df['Date']).max()\n",
    "df['DayHigh'].fillna(method='ffill', inplace=True)\n",
    "df['DayLow'] = df['Low'].groupby(df['Date']).min()\n",
    "df['DayLow'].fillna(method='ffill', inplace=True)\n",
    "\n",
    "\n",
    "df['HighSlope'] = df.apply(fh,axis=1)\n",
    "df['LowSlope'] = df.apply(fl,axis=1)\n",
    "\n",
    "#df['ADR_High'] = df.LowSlope + df.ADR\n",
    "#df['ADR_Low'] = df.HighSlope - df.ADR\n",
    "\n",
    "df[['Date','DateShiftMinus','DateShiftPlus','High','Low','HighShift','LowShift','DayLow','DayHigh','HighSlope','LowSlope','ADR_High','ADR_Low']][(df.index>='2021-04-19 23:50:00')&(df.index<='2021-04-20 02:10:00')]"
   ],
   "cell_type": "code",
   "metadata": {},
   "execution_count": null,
   "outputs": []
  },
  {
   "cell_type": "code",
   "execution_count": 13,
   "metadata": {},
   "outputs": [
    {
     "output_type": "stream",
     "name": "stdout",
     "text": [
      "CPU times: user 63.9 ms, sys: 15.6 ms, total: 79.5 ms\nWall time: 58.3 ms\n"
     ]
    },
    {
     "output_type": "execute_result",
     "data": {
      "text/plain": [
       "                          Date      High       Low       ADR  ADR_High  \\\n",
       "2021-04-19 23:50:00 2021-04-19  1.204320  1.204105  0.005787  1.210007   \n",
       "2021-04-19 23:55:00 2021-04-19  1.204370  1.204165  0.005787  1.209892   \n",
       "2021-04-20 00:00:00 2021-04-20  1.204420  1.204165  0.006092  1.209952   \n",
       "2021-04-20 00:05:00 2021-04-20  1.204525  1.204295  0.006092  1.210257   \n",
       "2021-04-20 00:10:00 2021-04-20  1.204465  1.204280  0.006092  1.210387   \n",
       "2021-04-20 00:15:00 2021-04-20  1.204555  1.204380  0.006092  1.210373   \n",
       "2021-04-20 00:20:00 2021-04-20  1.204515  1.204290  0.006092  1.210472   \n",
       "2021-04-20 00:25:00 2021-04-20  1.204410  1.204280  0.006092  1.210382   \n",
       "2021-04-20 00:30:00 2021-04-20  1.204360  1.204250  0.006092  1.210373   \n",
       "2021-04-20 00:35:00 2021-04-20  1.204370  1.204250  0.006092  1.210342   \n",
       "2021-04-20 00:40:00 2021-04-20  1.204305  1.204130  0.006092  1.210342   \n",
       "2021-04-20 00:45:00 2021-04-20  1.204170  1.204030  0.006092  1.210222   \n",
       "2021-04-20 00:50:00 2021-04-20  1.204165  1.203815  0.006092  1.210122   \n",
       "2021-04-20 00:55:00 2021-04-20  1.204105  1.203905  0.006092  1.209907   \n",
       "2021-04-20 01:00:00 2021-04-20  1.203965  1.203740  0.006092  1.209998   \n",
       "2021-04-20 01:05:00 2021-04-20  1.204015  1.203780  0.006092  1.209833   \n",
       "2021-04-20 01:10:00 2021-04-20  1.203885  1.203750  0.006092  1.209872   \n",
       "2021-04-20 01:15:00 2021-04-20  1.203970  1.203750  0.006092  1.209842   \n",
       "2021-04-20 01:20:00 2021-04-20  1.203990  1.203775  0.006092  1.209842   \n",
       "2021-04-20 01:25:00 2021-04-20  1.204195  1.203935  0.006092  1.209868   \n",
       "2021-04-20 01:30:00 2021-04-20  1.204775  1.204130  0.006092  1.210027   \n",
       "2021-04-20 01:35:00 2021-04-20  1.204565  1.204265  0.006092  1.210222   \n",
       "2021-04-20 01:40:00 2021-04-20  1.204315  1.204185  0.006092  1.210357   \n",
       "2021-04-20 01:45:00 2021-04-20  1.204515  1.204210  0.006092  1.210278   \n",
       "2021-04-20 01:50:00 2021-04-20  1.204770  1.204275  0.006092  1.210303   \n",
       "2021-04-20 01:55:00 2021-04-20  1.204745  1.204410  0.006092  1.210367   \n",
       "2021-04-20 02:00:00 2021-04-20  1.204575  1.204370  0.006092  1.210503   \n",
       "2021-04-20 02:05:00 2021-04-20  1.204545  1.204365  0.006092  1.210462   \n",
       "2021-04-20 02:10:00 2021-04-20  1.204530  1.204410  0.006092  1.210457   \n",
       "\n",
       "                      ADR_Low  \n",
       "2021-04-19 23:50:00  1.198533  \n",
       "2021-04-19 23:55:00  1.198583  \n",
       "2021-04-20 00:00:00  1.198327  \n",
       "2021-04-20 00:05:00  1.198433  \n",
       "2021-04-20 00:10:00  1.198373  \n",
       "2021-04-20 00:15:00  1.198463  \n",
       "2021-04-20 00:20:00  1.198422  \n",
       "2021-04-20 00:25:00  1.198317  \n",
       "2021-04-20 00:30:00  1.198268  \n",
       "2021-04-20 00:35:00  1.198278  \n",
       "2021-04-20 00:40:00  1.198212  \n",
       "2021-04-20 00:45:00  1.198078  \n",
       "2021-04-20 00:50:00  1.198072  \n",
       "2021-04-20 00:55:00  1.198012  \n",
       "2021-04-20 01:00:00  1.197872  \n",
       "2021-04-20 01:05:00  1.197923  \n",
       "2021-04-20 01:10:00  1.197793  \n",
       "2021-04-20 01:15:00  1.197878  \n",
       "2021-04-20 01:20:00  1.197898  \n",
       "2021-04-20 01:25:00  1.198103  \n",
       "2021-04-20 01:30:00  1.198682  \n",
       "2021-04-20 01:35:00  1.198473  \n",
       "2021-04-20 01:40:00  1.198222  \n",
       "2021-04-20 01:45:00  1.198422  \n",
       "2021-04-20 01:50:00  1.198678  \n",
       "2021-04-20 01:55:00  1.198653  \n",
       "2021-04-20 02:00:00  1.198482  \n",
       "2021-04-20 02:05:00  1.198453  \n",
       "2021-04-20 02:10:00  1.198438  "
      ],
      "text/html": "<div>\n<style scoped>\n    .dataframe tbody tr th:only-of-type {\n        vertical-align: middle;\n    }\n\n    .dataframe tbody tr th {\n        vertical-align: top;\n    }\n\n    .dataframe thead th {\n        text-align: right;\n    }\n</style>\n<table border=\"1\" class=\"dataframe\">\n  <thead>\n    <tr style=\"text-align: right;\">\n      <th></th>\n      <th>Date</th>\n      <th>High</th>\n      <th>Low</th>\n      <th>ADR</th>\n      <th>ADR_High</th>\n      <th>ADR_Low</th>\n    </tr>\n  </thead>\n  <tbody>\n    <tr>\n      <th>2021-04-19 23:50:00</th>\n      <td>2021-04-19</td>\n      <td>1.204320</td>\n      <td>1.204105</td>\n      <td>0.005787</td>\n      <td>1.210007</td>\n      <td>1.198533</td>\n    </tr>\n    <tr>\n      <th>2021-04-19 23:55:00</th>\n      <td>2021-04-19</td>\n      <td>1.204370</td>\n      <td>1.204165</td>\n      <td>0.005787</td>\n      <td>1.209892</td>\n      <td>1.198583</td>\n    </tr>\n    <tr>\n      <th>2021-04-20 00:00:00</th>\n      <td>2021-04-20</td>\n      <td>1.204420</td>\n      <td>1.204165</td>\n      <td>0.006092</td>\n      <td>1.209952</td>\n      <td>1.198327</td>\n    </tr>\n    <tr>\n      <th>2021-04-20 00:05:00</th>\n      <td>2021-04-20</td>\n      <td>1.204525</td>\n      <td>1.204295</td>\n      <td>0.006092</td>\n      <td>1.210257</td>\n      <td>1.198433</td>\n    </tr>\n    <tr>\n      <th>2021-04-20 00:10:00</th>\n      <td>2021-04-20</td>\n      <td>1.204465</td>\n      <td>1.204280</td>\n      <td>0.006092</td>\n      <td>1.210387</td>\n      <td>1.198373</td>\n    </tr>\n    <tr>\n      <th>2021-04-20 00:15:00</th>\n      <td>2021-04-20</td>\n      <td>1.204555</td>\n      <td>1.204380</td>\n      <td>0.006092</td>\n      <td>1.210373</td>\n      <td>1.198463</td>\n    </tr>\n    <tr>\n      <th>2021-04-20 00:20:00</th>\n      <td>2021-04-20</td>\n      <td>1.204515</td>\n      <td>1.204290</td>\n      <td>0.006092</td>\n      <td>1.210472</td>\n      <td>1.198422</td>\n    </tr>\n    <tr>\n      <th>2021-04-20 00:25:00</th>\n      <td>2021-04-20</td>\n      <td>1.204410</td>\n      <td>1.204280</td>\n      <td>0.006092</td>\n      <td>1.210382</td>\n      <td>1.198317</td>\n    </tr>\n    <tr>\n      <th>2021-04-20 00:30:00</th>\n      <td>2021-04-20</td>\n      <td>1.204360</td>\n      <td>1.204250</td>\n      <td>0.006092</td>\n      <td>1.210373</td>\n      <td>1.198268</td>\n    </tr>\n    <tr>\n      <th>2021-04-20 00:35:00</th>\n      <td>2021-04-20</td>\n      <td>1.204370</td>\n      <td>1.204250</td>\n      <td>0.006092</td>\n      <td>1.210342</td>\n      <td>1.198278</td>\n    </tr>\n    <tr>\n      <th>2021-04-20 00:40:00</th>\n      <td>2021-04-20</td>\n      <td>1.204305</td>\n      <td>1.204130</td>\n      <td>0.006092</td>\n      <td>1.210342</td>\n      <td>1.198212</td>\n    </tr>\n    <tr>\n      <th>2021-04-20 00:45:00</th>\n      <td>2021-04-20</td>\n      <td>1.204170</td>\n      <td>1.204030</td>\n      <td>0.006092</td>\n      <td>1.210222</td>\n      <td>1.198078</td>\n    </tr>\n    <tr>\n      <th>2021-04-20 00:50:00</th>\n      <td>2021-04-20</td>\n      <td>1.204165</td>\n      <td>1.203815</td>\n      <td>0.006092</td>\n      <td>1.210122</td>\n      <td>1.198072</td>\n    </tr>\n    <tr>\n      <th>2021-04-20 00:55:00</th>\n      <td>2021-04-20</td>\n      <td>1.204105</td>\n      <td>1.203905</td>\n      <td>0.006092</td>\n      <td>1.209907</td>\n      <td>1.198012</td>\n    </tr>\n    <tr>\n      <th>2021-04-20 01:00:00</th>\n      <td>2021-04-20</td>\n      <td>1.203965</td>\n      <td>1.203740</td>\n      <td>0.006092</td>\n      <td>1.209998</td>\n      <td>1.197872</td>\n    </tr>\n    <tr>\n      <th>2021-04-20 01:05:00</th>\n      <td>2021-04-20</td>\n      <td>1.204015</td>\n      <td>1.203780</td>\n      <td>0.006092</td>\n      <td>1.209833</td>\n      <td>1.197923</td>\n    </tr>\n    <tr>\n      <th>2021-04-20 01:10:00</th>\n      <td>2021-04-20</td>\n      <td>1.203885</td>\n      <td>1.203750</td>\n      <td>0.006092</td>\n      <td>1.209872</td>\n      <td>1.197793</td>\n    </tr>\n    <tr>\n      <th>2021-04-20 01:15:00</th>\n      <td>2021-04-20</td>\n      <td>1.203970</td>\n      <td>1.203750</td>\n      <td>0.006092</td>\n      <td>1.209842</td>\n      <td>1.197878</td>\n    </tr>\n    <tr>\n      <th>2021-04-20 01:20:00</th>\n      <td>2021-04-20</td>\n      <td>1.203990</td>\n      <td>1.203775</td>\n      <td>0.006092</td>\n      <td>1.209842</td>\n      <td>1.197898</td>\n    </tr>\n    <tr>\n      <th>2021-04-20 01:25:00</th>\n      <td>2021-04-20</td>\n      <td>1.204195</td>\n      <td>1.203935</td>\n      <td>0.006092</td>\n      <td>1.209868</td>\n      <td>1.198103</td>\n    </tr>\n    <tr>\n      <th>2021-04-20 01:30:00</th>\n      <td>2021-04-20</td>\n      <td>1.204775</td>\n      <td>1.204130</td>\n      <td>0.006092</td>\n      <td>1.210027</td>\n      <td>1.198682</td>\n    </tr>\n    <tr>\n      <th>2021-04-20 01:35:00</th>\n      <td>2021-04-20</td>\n      <td>1.204565</td>\n      <td>1.204265</td>\n      <td>0.006092</td>\n      <td>1.210222</td>\n      <td>1.198473</td>\n    </tr>\n    <tr>\n      <th>2021-04-20 01:40:00</th>\n      <td>2021-04-20</td>\n      <td>1.204315</td>\n      <td>1.204185</td>\n      <td>0.006092</td>\n      <td>1.210357</td>\n      <td>1.198222</td>\n    </tr>\n    <tr>\n      <th>2021-04-20 01:45:00</th>\n      <td>2021-04-20</td>\n      <td>1.204515</td>\n      <td>1.204210</td>\n      <td>0.006092</td>\n      <td>1.210278</td>\n      <td>1.198422</td>\n    </tr>\n    <tr>\n      <th>2021-04-20 01:50:00</th>\n      <td>2021-04-20</td>\n      <td>1.204770</td>\n      <td>1.204275</td>\n      <td>0.006092</td>\n      <td>1.210303</td>\n      <td>1.198678</td>\n    </tr>\n    <tr>\n      <th>2021-04-20 01:55:00</th>\n      <td>2021-04-20</td>\n      <td>1.204745</td>\n      <td>1.204410</td>\n      <td>0.006092</td>\n      <td>1.210367</td>\n      <td>1.198653</td>\n    </tr>\n    <tr>\n      <th>2021-04-20 02:00:00</th>\n      <td>2021-04-20</td>\n      <td>1.204575</td>\n      <td>1.204370</td>\n      <td>0.006092</td>\n      <td>1.210503</td>\n      <td>1.198482</td>\n    </tr>\n    <tr>\n      <th>2021-04-20 02:05:00</th>\n      <td>2021-04-20</td>\n      <td>1.204545</td>\n      <td>1.204365</td>\n      <td>0.006092</td>\n      <td>1.210462</td>\n      <td>1.198453</td>\n    </tr>\n    <tr>\n      <th>2021-04-20 02:10:00</th>\n      <td>2021-04-20</td>\n      <td>1.204530</td>\n      <td>1.204410</td>\n      <td>0.006092</td>\n      <td>1.210457</td>\n      <td>1.198438</td>\n    </tr>\n  </tbody>\n</table>\n</div>"
     },
     "metadata": {},
     "execution_count": 13
    }
   ],
   "source": [
    "%%time\n",
    "\n",
    "df['ADR_High'] = df.Low + df.ADR\n",
    "df['ADR_Low'] = df.High - df.ADR\n",
    "\n",
    "# Intérieur de bouige\n",
    "_condition_1 = (df['Date'] == df['Date'].shift(1)) & (df['Date'] == df['Date'].shift(-1))\n",
    "_condition_2 = df.ADR_High >= df.ADR_High.shift(1)\n",
    "_condition_3 = df.ADR_Low <= df.ADR_Low.shift(1)\n",
    "\n",
    "df['ADR_High'] = np.where(_condition_1 & _condition_2,df.ADR_High.shift(1),df.ADR_High.shift(1))\n",
    "#df['ADR_Low'] = np.where(_condition_1 & _condition_3,df.ADR_Low.shift(1),df.ADR_Low.shift(1))\n",
    "\n",
    "df[['Date','High','Low','ADR','ADR_High','ADR_Low']][(df.index>='2021-04-19 23:50:00')&(df.index<='2021-04-20 02:10:00')]"
   ]
  },
  {
   "cell_type": "code",
   "execution_count": 26,
   "metadata": {},
   "outputs": [
    {
     "output_type": "execute_result",
     "data": {
      "text/plain": [
       "1.210257"
      ]
     },
     "metadata": {},
     "execution_count": 26
    }
   ],
   "source": [
    "1.204165+\t0.006092"
   ]
  },
  {
   "cell_type": "code",
   "execution_count": 4,
   "metadata": {},
   "outputs": [
    {
     "output_type": "execute_result",
     "data": {
      "text/plain": [
       "((819949, 2), (2933, 2))"
      ]
     },
     "metadata": {},
     "execution_count": 4
    }
   ],
   "source": [
    "df[['HighSlope'\t,'LowSlope']].shape,df[['HighSlope'\t,'LowSlope']].dropna().shape"
   ]
  },
  {
   "cell_type": "code",
   "execution_count": 5,
   "metadata": {},
   "outputs": [
    {
     "output_type": "execute_result",
     "data": {
      "text/plain": [
       "                          Date DateShiftMinus DateShiftPlus      High  \\\n",
       "2010-01-04 00:00:00 2010-01-04            NaT    2010-01-04  1.431640   \n",
       "2010-01-04 00:05:00 2010-01-04     2010-01-04    2010-01-04  1.431130   \n",
       "2010-01-04 00:10:00 2010-01-04     2010-01-04    2010-01-04  1.430840   \n",
       "2010-01-04 00:15:00 2010-01-04     2010-01-04    2010-01-04  1.430270   \n",
       "2010-01-04 00:20:00 2010-01-04     2010-01-04    2010-01-04  1.431210   \n",
       "2010-01-04 00:25:00 2010-01-04     2010-01-04    2010-01-04  1.432020   \n",
       "2010-01-04 00:30:00 2010-01-04     2010-01-04    2010-01-04  1.431590   \n",
       "2010-01-04 00:35:00 2010-01-04     2010-01-04    2010-01-04  1.431160   \n",
       "2010-01-04 00:40:00 2010-01-04     2010-01-04    2010-01-04  1.430760   \n",
       "2010-01-04 00:45:00 2010-01-04     2010-01-04    2010-01-04  1.430725   \n",
       "2010-01-04 00:50:00 2010-01-04     2010-01-04    2010-01-04  1.429990   \n",
       "2010-01-04 00:55:00 2010-01-04     2010-01-04    2010-01-04  1.429505   \n",
       "2010-01-04 01:00:00 2010-01-04     2010-01-04    2010-01-04  1.428945   \n",
       "2010-01-04 01:05:00 2010-01-04     2010-01-04    2010-01-04  1.427990   \n",
       "2010-01-04 01:10:00 2010-01-04     2010-01-04    2010-01-04  1.428865   \n",
       "2010-01-04 01:15:00 2010-01-04     2010-01-04    2010-01-04  1.428410   \n",
       "2010-01-04 01:20:00 2010-01-04     2010-01-04    2010-01-04  1.428150   \n",
       "2010-01-04 01:25:00 2010-01-04     2010-01-04    2010-01-04  1.428615   \n",
       "2010-01-04 01:30:00 2010-01-04     2010-01-04    2010-01-04  1.428155   \n",
       "2010-01-04 01:35:00 2010-01-04     2010-01-04    2010-01-04  1.427480   \n",
       "2010-01-04 01:40:00 2010-01-04     2010-01-04    2010-01-04  1.426970   \n",
       "2010-01-04 01:45:00 2010-01-04     2010-01-04    2010-01-04  1.426765   \n",
       "2010-01-04 01:50:00 2010-01-04     2010-01-04    2010-01-04  1.427215   \n",
       "2010-01-04 01:55:00 2010-01-04     2010-01-04    2010-01-04  1.427370   \n",
       "2010-01-04 02:00:00 2010-01-04     2010-01-04    2010-01-04  1.427905   \n",
       "2010-01-04 02:05:00 2010-01-04     2010-01-04    2010-01-04  1.428450   \n",
       "2010-01-04 02:10:00 2010-01-04     2010-01-04    2010-01-04  1.428925   \n",
       "2010-01-04 02:15:00 2010-01-04     2010-01-04    2010-01-04  1.428915   \n",
       "2010-01-04 02:20:00 2010-01-04     2010-01-04    2010-01-04  1.428810   \n",
       "2010-01-04 02:25:00 2010-01-04     2010-01-04    2010-01-04  1.428690   \n",
       "2010-01-04 02:30:00 2010-01-04     2010-01-04    2010-01-04  1.428245   \n",
       "2010-01-04 02:35:00 2010-01-04     2010-01-04    2010-01-04  1.428485   \n",
       "2010-01-04 02:40:00 2010-01-04     2010-01-04    2010-01-04  1.428590   \n",
       "2010-01-04 02:45:00 2010-01-04     2010-01-04    2010-01-04  1.428625   \n",
       "2010-01-04 02:50:00 2010-01-04     2010-01-04    2010-01-04  1.429320   \n",
       "2010-01-04 02:55:00 2010-01-04     2010-01-04    2010-01-04  1.429995   \n",
       "2010-01-04 03:00:00 2010-01-04     2010-01-04    2010-01-04  1.429760   \n",
       "2010-01-04 03:05:00 2010-01-04     2010-01-04    2010-01-04  1.429380   \n",
       "2010-01-04 03:10:00 2010-01-04     2010-01-04    2010-01-04  1.428970   \n",
       "2010-01-04 03:15:00 2010-01-04     2010-01-04    2010-01-04  1.429220   \n",
       "2010-01-04 03:20:00 2010-01-04     2010-01-04    2010-01-04  1.429065   \n",
       "2010-01-04 03:25:00 2010-01-04     2010-01-04    2010-01-04  1.428515   \n",
       "2010-01-04 03:30:00 2010-01-04     2010-01-04    2010-01-04  1.428590   \n",
       "2010-01-04 03:35:00 2010-01-04     2010-01-04    2010-01-04  1.428510   \n",
       "2010-01-04 03:40:00 2010-01-04     2010-01-04    2010-01-04  1.428030   \n",
       "2010-01-04 03:45:00 2010-01-04     2010-01-04    2010-01-04  1.427680   \n",
       "2010-01-04 03:50:00 2010-01-04     2010-01-04    2010-01-04  1.427930   \n",
       "2010-01-04 03:55:00 2010-01-04     2010-01-04    2010-01-04  1.428610   \n",
       "2010-01-04 04:00:00 2010-01-04     2010-01-04    2010-01-04  1.428800   \n",
       "2010-01-04 04:05:00 2010-01-04     2010-01-04    2010-01-04  1.429020   \n",
       "2010-01-04 04:10:00 2010-01-04     2010-01-04    2010-01-04  1.429010   \n",
       "2010-01-04 04:15:00 2010-01-04     2010-01-04    2010-01-04  1.429290   \n",
       "2010-01-04 04:20:00 2010-01-04     2010-01-04    2010-01-04  1.429290   \n",
       "2010-01-04 04:25:00 2010-01-04     2010-01-04    2010-01-04  1.429160   \n",
       "2010-01-04 04:30:00 2010-01-04     2010-01-04    2010-01-04  1.429160   \n",
       "2010-01-04 04:35:00 2010-01-04     2010-01-04    2010-01-04  1.429695   \n",
       "2010-01-04 04:40:00 2010-01-04     2010-01-04    2010-01-04  1.429890   \n",
       "2010-01-04 04:45:00 2010-01-04     2010-01-04    2010-01-04  1.429580   \n",
       "2010-01-04 04:50:00 2010-01-04     2010-01-04    2010-01-04  1.429470   \n",
       "2010-01-04 04:55:00 2010-01-04     2010-01-04    2010-01-04  1.429320   \n",
       "\n",
       "                          Low  HighShift  LowShift   DayLow  DayHigh  \\\n",
       "2010-01-04 00:00:00  1.430370        NaN       NaN  1.42577  1.44556   \n",
       "2010-01-04 00:05:00  1.429600   1.431640  1.430370  1.42577  1.44556   \n",
       "2010-01-04 00:10:00  1.429050   1.431130  1.429600  1.42577  1.44556   \n",
       "2010-01-04 00:15:00  1.428970   1.430840  1.429050  1.42577  1.44556   \n",
       "2010-01-04 00:20:00  1.429920   1.430270  1.428970  1.42577  1.44556   \n",
       "2010-01-04 00:25:00  1.431015   1.431210  1.429920  1.42577  1.44556   \n",
       "2010-01-04 00:30:00  1.431030   1.432020  1.431015  1.42577  1.44556   \n",
       "2010-01-04 00:35:00  1.430570   1.431590  1.431030  1.42577  1.44556   \n",
       "2010-01-04 00:40:00  1.429605   1.431160  1.430570  1.42577  1.44556   \n",
       "2010-01-04 00:45:00  1.429960   1.430760  1.429605  1.42577  1.44556   \n",
       "2010-01-04 00:50:00  1.429325   1.430725  1.429960  1.42577  1.44556   \n",
       "2010-01-04 00:55:00  1.428865   1.429990  1.429325  1.42577  1.44556   \n",
       "2010-01-04 01:00:00  1.426760   1.429505  1.428865  1.42577  1.44556   \n",
       "2010-01-04 01:05:00  1.426955   1.428945  1.426760  1.42577  1.44556   \n",
       "2010-01-04 01:10:00  1.427640   1.427990  1.426955  1.42577  1.44556   \n",
       "2010-01-04 01:15:00  1.427465   1.428865  1.427640  1.42577  1.44556   \n",
       "2010-01-04 01:20:00  1.427710   1.428410  1.427465  1.42577  1.44556   \n",
       "2010-01-04 01:25:00  1.428020   1.428150  1.427710  1.42577  1.44556   \n",
       "2010-01-04 01:30:00  1.427300   1.428615  1.428020  1.42577  1.44556   \n",
       "2010-01-04 01:35:00  1.426615   1.428155  1.427300  1.42577  1.44556   \n",
       "2010-01-04 01:40:00  1.425770   1.427480  1.426615  1.42577  1.44556   \n",
       "2010-01-04 01:45:00  1.425970   1.426970  1.425770  1.42577  1.44556   \n",
       "2010-01-04 01:50:00  1.426420   1.426765  1.425970  1.42577  1.44556   \n",
       "2010-01-04 01:55:00  1.426885   1.427215  1.426420  1.42577  1.44556   \n",
       "2010-01-04 02:00:00  1.427050   1.427370  1.426885  1.42577  1.44556   \n",
       "2010-01-04 02:05:00  1.427770   1.427905  1.427050  1.42577  1.44556   \n",
       "2010-01-04 02:10:00  1.427870   1.428450  1.427770  1.42577  1.44556   \n",
       "2010-01-04 02:15:00  1.428370   1.428925  1.427870  1.42577  1.44556   \n",
       "2010-01-04 02:20:00  1.428430   1.428915  1.428370  1.42577  1.44556   \n",
       "2010-01-04 02:25:00  1.427945   1.428810  1.428430  1.42577  1.44556   \n",
       "2010-01-04 02:30:00  1.427820   1.428690  1.427945  1.42577  1.44556   \n",
       "2010-01-04 02:35:00  1.427900   1.428245  1.427820  1.42577  1.44556   \n",
       "2010-01-04 02:40:00  1.428320   1.428485  1.427900  1.42577  1.44556   \n",
       "2010-01-04 02:45:00  1.428470   1.428590  1.428320  1.42577  1.44556   \n",
       "2010-01-04 02:50:00  1.428620   1.428625  1.428470  1.42577  1.44556   \n",
       "2010-01-04 02:55:00  1.429070   1.429320  1.428620  1.42577  1.44556   \n",
       "2010-01-04 03:00:00  1.429370   1.429995  1.429070  1.42577  1.44556   \n",
       "2010-01-04 03:05:00  1.428765   1.429760  1.429370  1.42577  1.44556   \n",
       "2010-01-04 03:10:00  1.428865   1.429380  1.428765  1.42577  1.44556   \n",
       "2010-01-04 03:15:00  1.428885   1.428970  1.428865  1.42577  1.44556   \n",
       "2010-01-04 03:20:00  1.428450   1.429220  1.428885  1.42577  1.44556   \n",
       "2010-01-04 03:25:00  1.427965   1.429065  1.428450  1.42577  1.44556   \n",
       "2010-01-04 03:30:00  1.428110   1.428515  1.427965  1.42577  1.44556   \n",
       "2010-01-04 03:35:00  1.428030   1.428590  1.428110  1.42577  1.44556   \n",
       "2010-01-04 03:40:00  1.427220   1.428510  1.428030  1.42577  1.44556   \n",
       "2010-01-04 03:45:00  1.427245   1.428030  1.427220  1.42577  1.44556   \n",
       "2010-01-04 03:50:00  1.427400   1.427680  1.427245  1.42577  1.44556   \n",
       "2010-01-04 03:55:00  1.427680   1.427930  1.427400  1.42577  1.44556   \n",
       "2010-01-04 04:00:00  1.428300   1.428610  1.427680  1.42577  1.44556   \n",
       "2010-01-04 04:05:00  1.428770   1.428800  1.428300  1.42577  1.44556   \n",
       "2010-01-04 04:10:00  1.428620   1.429020  1.428770  1.42577  1.44556   \n",
       "2010-01-04 04:15:00  1.428770   1.429010  1.428620  1.42577  1.44556   \n",
       "2010-01-04 04:20:00  1.428960   1.429290  1.428770  1.42577  1.44556   \n",
       "2010-01-04 04:25:00  1.428840   1.429290  1.428960  1.42577  1.44556   \n",
       "2010-01-04 04:30:00  1.428655   1.429160  1.428840  1.42577  1.44556   \n",
       "2010-01-04 04:35:00  1.428670   1.429160  1.428655  1.42577  1.44556   \n",
       "2010-01-04 04:40:00  1.429550   1.429695  1.428670  1.42577  1.44556   \n",
       "2010-01-04 04:45:00  1.429365   1.429890  1.429550  1.42577  1.44556   \n",
       "2010-01-04 04:50:00  1.428970   1.429580  1.429365  1.42577  1.44556   \n",
       "2010-01-04 04:55:00  1.428870   1.429470  1.428970  1.42577  1.44556   \n",
       "\n",
       "                     HighSlope  LowSlope  ADR_High  ADR_Low  \n",
       "2010-01-04 00:00:00    1.43164   1.43037       NaN      NaN  \n",
       "2010-01-04 00:05:00        NaN       NaN       NaN      NaN  \n",
       "2010-01-04 00:10:00        NaN       NaN       NaN      NaN  \n",
       "2010-01-04 00:15:00        NaN       NaN       NaN      NaN  \n",
       "2010-01-04 00:20:00        NaN       NaN       NaN      NaN  \n",
       "2010-01-04 00:25:00        NaN       NaN       NaN      NaN  \n",
       "2010-01-04 00:30:00        NaN       NaN       NaN      NaN  \n",
       "2010-01-04 00:35:00        NaN       NaN       NaN      NaN  \n",
       "2010-01-04 00:40:00        NaN       NaN       NaN      NaN  \n",
       "2010-01-04 00:45:00        NaN       NaN       NaN      NaN  \n",
       "2010-01-04 00:50:00        NaN       NaN       NaN      NaN  \n",
       "2010-01-04 00:55:00        NaN       NaN       NaN      NaN  \n",
       "2010-01-04 01:00:00        NaN       NaN       NaN      NaN  \n",
       "2010-01-04 01:05:00        NaN       NaN       NaN      NaN  \n",
       "2010-01-04 01:10:00        NaN       NaN       NaN      NaN  \n",
       "2010-01-04 01:15:00        NaN       NaN       NaN      NaN  \n",
       "2010-01-04 01:20:00        NaN       NaN       NaN      NaN  \n",
       "2010-01-04 01:25:00        NaN       NaN       NaN      NaN  \n",
       "2010-01-04 01:30:00        NaN       NaN       NaN      NaN  \n",
       "2010-01-04 01:35:00        NaN       NaN       NaN      NaN  \n",
       "2010-01-04 01:40:00        NaN       NaN       NaN      NaN  \n",
       "2010-01-04 01:45:00        NaN       NaN       NaN      NaN  \n",
       "2010-01-04 01:50:00        NaN       NaN       NaN      NaN  \n",
       "2010-01-04 01:55:00        NaN       NaN       NaN      NaN  \n",
       "2010-01-04 02:00:00        NaN       NaN       NaN      NaN  \n",
       "2010-01-04 02:05:00        NaN       NaN       NaN      NaN  \n",
       "2010-01-04 02:10:00        NaN       NaN       NaN      NaN  \n",
       "2010-01-04 02:15:00        NaN       NaN       NaN      NaN  \n",
       "2010-01-04 02:20:00        NaN       NaN       NaN      NaN  \n",
       "2010-01-04 02:25:00        NaN       NaN       NaN      NaN  \n",
       "2010-01-04 02:30:00        NaN       NaN       NaN      NaN  \n",
       "2010-01-04 02:35:00        NaN       NaN       NaN      NaN  \n",
       "2010-01-04 02:40:00        NaN       NaN       NaN      NaN  \n",
       "2010-01-04 02:45:00        NaN       NaN       NaN      NaN  \n",
       "2010-01-04 02:50:00        NaN       NaN       NaN      NaN  \n",
       "2010-01-04 02:55:00        NaN       NaN       NaN      NaN  \n",
       "2010-01-04 03:00:00        NaN       NaN       NaN      NaN  \n",
       "2010-01-04 03:05:00        NaN       NaN       NaN      NaN  \n",
       "2010-01-04 03:10:00        NaN       NaN       NaN      NaN  \n",
       "2010-01-04 03:15:00        NaN       NaN       NaN      NaN  \n",
       "2010-01-04 03:20:00        NaN       NaN       NaN      NaN  \n",
       "2010-01-04 03:25:00        NaN       NaN       NaN      NaN  \n",
       "2010-01-04 03:30:00        NaN       NaN       NaN      NaN  \n",
       "2010-01-04 03:35:00        NaN       NaN       NaN      NaN  \n",
       "2010-01-04 03:40:00        NaN       NaN       NaN      NaN  \n",
       "2010-01-04 03:45:00        NaN       NaN       NaN      NaN  \n",
       "2010-01-04 03:50:00        NaN       NaN       NaN      NaN  \n",
       "2010-01-04 03:55:00        NaN       NaN       NaN      NaN  \n",
       "2010-01-04 04:00:00        NaN       NaN       NaN      NaN  \n",
       "2010-01-04 04:05:00        NaN       NaN       NaN      NaN  \n",
       "2010-01-04 04:10:00        NaN       NaN       NaN      NaN  \n",
       "2010-01-04 04:15:00        NaN       NaN       NaN      NaN  \n",
       "2010-01-04 04:20:00        NaN       NaN       NaN      NaN  \n",
       "2010-01-04 04:25:00        NaN       NaN       NaN      NaN  \n",
       "2010-01-04 04:30:00        NaN       NaN       NaN      NaN  \n",
       "2010-01-04 04:35:00        NaN       NaN       NaN      NaN  \n",
       "2010-01-04 04:40:00        NaN       NaN       NaN      NaN  \n",
       "2010-01-04 04:45:00        NaN       NaN       NaN      NaN  \n",
       "2010-01-04 04:50:00        NaN       NaN       NaN      NaN  \n",
       "2010-01-04 04:55:00        NaN       NaN       NaN      NaN  "
      ],
      "text/html": "<div>\n<style scoped>\n    .dataframe tbody tr th:only-of-type {\n        vertical-align: middle;\n    }\n\n    .dataframe tbody tr th {\n        vertical-align: top;\n    }\n\n    .dataframe thead th {\n        text-align: right;\n    }\n</style>\n<table border=\"1\" class=\"dataframe\">\n  <thead>\n    <tr style=\"text-align: right;\">\n      <th></th>\n      <th>Date</th>\n      <th>DateShiftMinus</th>\n      <th>DateShiftPlus</th>\n      <th>High</th>\n      <th>Low</th>\n      <th>HighShift</th>\n      <th>LowShift</th>\n      <th>DayLow</th>\n      <th>DayHigh</th>\n      <th>HighSlope</th>\n      <th>LowSlope</th>\n      <th>ADR_High</th>\n      <th>ADR_Low</th>\n    </tr>\n  </thead>\n  <tbody>\n    <tr>\n      <th>2010-01-04 00:00:00</th>\n      <td>2010-01-04</td>\n      <td>NaT</td>\n      <td>2010-01-04</td>\n      <td>1.431640</td>\n      <td>1.430370</td>\n      <td>NaN</td>\n      <td>NaN</td>\n      <td>1.42577</td>\n      <td>1.44556</td>\n      <td>1.43164</td>\n      <td>1.43037</td>\n      <td>NaN</td>\n      <td>NaN</td>\n    </tr>\n    <tr>\n      <th>2010-01-04 00:05:00</th>\n      <td>2010-01-04</td>\n      <td>2010-01-04</td>\n      <td>2010-01-04</td>\n      <td>1.431130</td>\n      <td>1.429600</td>\n      <td>1.431640</td>\n      <td>1.430370</td>\n      <td>1.42577</td>\n      <td>1.44556</td>\n      <td>NaN</td>\n      <td>NaN</td>\n      <td>NaN</td>\n      <td>NaN</td>\n    </tr>\n    <tr>\n      <th>2010-01-04 00:10:00</th>\n      <td>2010-01-04</td>\n      <td>2010-01-04</td>\n      <td>2010-01-04</td>\n      <td>1.430840</td>\n      <td>1.429050</td>\n      <td>1.431130</td>\n      <td>1.429600</td>\n      <td>1.42577</td>\n      <td>1.44556</td>\n      <td>NaN</td>\n      <td>NaN</td>\n      <td>NaN</td>\n      <td>NaN</td>\n    </tr>\n    <tr>\n      <th>2010-01-04 00:15:00</th>\n      <td>2010-01-04</td>\n      <td>2010-01-04</td>\n      <td>2010-01-04</td>\n      <td>1.430270</td>\n      <td>1.428970</td>\n      <td>1.430840</td>\n      <td>1.429050</td>\n      <td>1.42577</td>\n      <td>1.44556</td>\n      <td>NaN</td>\n      <td>NaN</td>\n      <td>NaN</td>\n      <td>NaN</td>\n    </tr>\n    <tr>\n      <th>2010-01-04 00:20:00</th>\n      <td>2010-01-04</td>\n      <td>2010-01-04</td>\n      <td>2010-01-04</td>\n      <td>1.431210</td>\n      <td>1.429920</td>\n      <td>1.430270</td>\n      <td>1.428970</td>\n      <td>1.42577</td>\n      <td>1.44556</td>\n      <td>NaN</td>\n      <td>NaN</td>\n      <td>NaN</td>\n      <td>NaN</td>\n    </tr>\n    <tr>\n      <th>2010-01-04 00:25:00</th>\n      <td>2010-01-04</td>\n      <td>2010-01-04</td>\n      <td>2010-01-04</td>\n      <td>1.432020</td>\n      <td>1.431015</td>\n      <td>1.431210</td>\n      <td>1.429920</td>\n      <td>1.42577</td>\n      <td>1.44556</td>\n      <td>NaN</td>\n      <td>NaN</td>\n      <td>NaN</td>\n      <td>NaN</td>\n    </tr>\n    <tr>\n      <th>2010-01-04 00:30:00</th>\n      <td>2010-01-04</td>\n      <td>2010-01-04</td>\n      <td>2010-01-04</td>\n      <td>1.431590</td>\n      <td>1.431030</td>\n      <td>1.432020</td>\n      <td>1.431015</td>\n      <td>1.42577</td>\n      <td>1.44556</td>\n      <td>NaN</td>\n      <td>NaN</td>\n      <td>NaN</td>\n      <td>NaN</td>\n    </tr>\n    <tr>\n      <th>2010-01-04 00:35:00</th>\n      <td>2010-01-04</td>\n      <td>2010-01-04</td>\n      <td>2010-01-04</td>\n      <td>1.431160</td>\n      <td>1.430570</td>\n      <td>1.431590</td>\n      <td>1.431030</td>\n      <td>1.42577</td>\n      <td>1.44556</td>\n      <td>NaN</td>\n      <td>NaN</td>\n      <td>NaN</td>\n      <td>NaN</td>\n    </tr>\n    <tr>\n      <th>2010-01-04 00:40:00</th>\n      <td>2010-01-04</td>\n      <td>2010-01-04</td>\n      <td>2010-01-04</td>\n      <td>1.430760</td>\n      <td>1.429605</td>\n      <td>1.431160</td>\n      <td>1.430570</td>\n      <td>1.42577</td>\n      <td>1.44556</td>\n      <td>NaN</td>\n      <td>NaN</td>\n      <td>NaN</td>\n      <td>NaN</td>\n    </tr>\n    <tr>\n      <th>2010-01-04 00:45:00</th>\n      <td>2010-01-04</td>\n      <td>2010-01-04</td>\n      <td>2010-01-04</td>\n      <td>1.430725</td>\n      <td>1.429960</td>\n      <td>1.430760</td>\n      <td>1.429605</td>\n      <td>1.42577</td>\n      <td>1.44556</td>\n      <td>NaN</td>\n      <td>NaN</td>\n      <td>NaN</td>\n      <td>NaN</td>\n    </tr>\n    <tr>\n      <th>2010-01-04 00:50:00</th>\n      <td>2010-01-04</td>\n      <td>2010-01-04</td>\n      <td>2010-01-04</td>\n      <td>1.429990</td>\n      <td>1.429325</td>\n      <td>1.430725</td>\n      <td>1.429960</td>\n      <td>1.42577</td>\n      <td>1.44556</td>\n      <td>NaN</td>\n      <td>NaN</td>\n      <td>NaN</td>\n      <td>NaN</td>\n    </tr>\n    <tr>\n      <th>2010-01-04 00:55:00</th>\n      <td>2010-01-04</td>\n      <td>2010-01-04</td>\n      <td>2010-01-04</td>\n      <td>1.429505</td>\n      <td>1.428865</td>\n      <td>1.429990</td>\n      <td>1.429325</td>\n      <td>1.42577</td>\n      <td>1.44556</td>\n      <td>NaN</td>\n      <td>NaN</td>\n      <td>NaN</td>\n      <td>NaN</td>\n    </tr>\n    <tr>\n      <th>2010-01-04 01:00:00</th>\n      <td>2010-01-04</td>\n      <td>2010-01-04</td>\n      <td>2010-01-04</td>\n      <td>1.428945</td>\n      <td>1.426760</td>\n      <td>1.429505</td>\n      <td>1.428865</td>\n      <td>1.42577</td>\n      <td>1.44556</td>\n      <td>NaN</td>\n      <td>NaN</td>\n      <td>NaN</td>\n      <td>NaN</td>\n    </tr>\n    <tr>\n      <th>2010-01-04 01:05:00</th>\n      <td>2010-01-04</td>\n      <td>2010-01-04</td>\n      <td>2010-01-04</td>\n      <td>1.427990</td>\n      <td>1.426955</td>\n      <td>1.428945</td>\n      <td>1.426760</td>\n      <td>1.42577</td>\n      <td>1.44556</td>\n      <td>NaN</td>\n      <td>NaN</td>\n      <td>NaN</td>\n      <td>NaN</td>\n    </tr>\n    <tr>\n      <th>2010-01-04 01:10:00</th>\n      <td>2010-01-04</td>\n      <td>2010-01-04</td>\n      <td>2010-01-04</td>\n      <td>1.428865</td>\n      <td>1.427640</td>\n      <td>1.427990</td>\n      <td>1.426955</td>\n      <td>1.42577</td>\n      <td>1.44556</td>\n      <td>NaN</td>\n      <td>NaN</td>\n      <td>NaN</td>\n      <td>NaN</td>\n    </tr>\n    <tr>\n      <th>2010-01-04 01:15:00</th>\n      <td>2010-01-04</td>\n      <td>2010-01-04</td>\n      <td>2010-01-04</td>\n      <td>1.428410</td>\n      <td>1.427465</td>\n      <td>1.428865</td>\n      <td>1.427640</td>\n      <td>1.42577</td>\n      <td>1.44556</td>\n      <td>NaN</td>\n      <td>NaN</td>\n      <td>NaN</td>\n      <td>NaN</td>\n    </tr>\n    <tr>\n      <th>2010-01-04 01:20:00</th>\n      <td>2010-01-04</td>\n      <td>2010-01-04</td>\n      <td>2010-01-04</td>\n      <td>1.428150</td>\n      <td>1.427710</td>\n      <td>1.428410</td>\n      <td>1.427465</td>\n      <td>1.42577</td>\n      <td>1.44556</td>\n      <td>NaN</td>\n      <td>NaN</td>\n      <td>NaN</td>\n      <td>NaN</td>\n    </tr>\n    <tr>\n      <th>2010-01-04 01:25:00</th>\n      <td>2010-01-04</td>\n      <td>2010-01-04</td>\n      <td>2010-01-04</td>\n      <td>1.428615</td>\n      <td>1.428020</td>\n      <td>1.428150</td>\n      <td>1.427710</td>\n      <td>1.42577</td>\n      <td>1.44556</td>\n      <td>NaN</td>\n      <td>NaN</td>\n      <td>NaN</td>\n      <td>NaN</td>\n    </tr>\n    <tr>\n      <th>2010-01-04 01:30:00</th>\n      <td>2010-01-04</td>\n      <td>2010-01-04</td>\n      <td>2010-01-04</td>\n      <td>1.428155</td>\n      <td>1.427300</td>\n      <td>1.428615</td>\n      <td>1.428020</td>\n      <td>1.42577</td>\n      <td>1.44556</td>\n      <td>NaN</td>\n      <td>NaN</td>\n      <td>NaN</td>\n      <td>NaN</td>\n    </tr>\n    <tr>\n      <th>2010-01-04 01:35:00</th>\n      <td>2010-01-04</td>\n      <td>2010-01-04</td>\n      <td>2010-01-04</td>\n      <td>1.427480</td>\n      <td>1.426615</td>\n      <td>1.428155</td>\n      <td>1.427300</td>\n      <td>1.42577</td>\n      <td>1.44556</td>\n      <td>NaN</td>\n      <td>NaN</td>\n      <td>NaN</td>\n      <td>NaN</td>\n    </tr>\n    <tr>\n      <th>2010-01-04 01:40:00</th>\n      <td>2010-01-04</td>\n      <td>2010-01-04</td>\n      <td>2010-01-04</td>\n      <td>1.426970</td>\n      <td>1.425770</td>\n      <td>1.427480</td>\n      <td>1.426615</td>\n      <td>1.42577</td>\n      <td>1.44556</td>\n      <td>NaN</td>\n      <td>NaN</td>\n      <td>NaN</td>\n      <td>NaN</td>\n    </tr>\n    <tr>\n      <th>2010-01-04 01:45:00</th>\n      <td>2010-01-04</td>\n      <td>2010-01-04</td>\n      <td>2010-01-04</td>\n      <td>1.426765</td>\n      <td>1.425970</td>\n      <td>1.426970</td>\n      <td>1.425770</td>\n      <td>1.42577</td>\n      <td>1.44556</td>\n      <td>NaN</td>\n      <td>NaN</td>\n      <td>NaN</td>\n      <td>NaN</td>\n    </tr>\n    <tr>\n      <th>2010-01-04 01:50:00</th>\n      <td>2010-01-04</td>\n      <td>2010-01-04</td>\n      <td>2010-01-04</td>\n      <td>1.427215</td>\n      <td>1.426420</td>\n      <td>1.426765</td>\n      <td>1.425970</td>\n      <td>1.42577</td>\n      <td>1.44556</td>\n      <td>NaN</td>\n      <td>NaN</td>\n      <td>NaN</td>\n      <td>NaN</td>\n    </tr>\n    <tr>\n      <th>2010-01-04 01:55:00</th>\n      <td>2010-01-04</td>\n      <td>2010-01-04</td>\n      <td>2010-01-04</td>\n      <td>1.427370</td>\n      <td>1.426885</td>\n      <td>1.427215</td>\n      <td>1.426420</td>\n      <td>1.42577</td>\n      <td>1.44556</td>\n      <td>NaN</td>\n      <td>NaN</td>\n      <td>NaN</td>\n      <td>NaN</td>\n    </tr>\n    <tr>\n      <th>2010-01-04 02:00:00</th>\n      <td>2010-01-04</td>\n      <td>2010-01-04</td>\n      <td>2010-01-04</td>\n      <td>1.427905</td>\n      <td>1.427050</td>\n      <td>1.427370</td>\n      <td>1.426885</td>\n      <td>1.42577</td>\n      <td>1.44556</td>\n      <td>NaN</td>\n      <td>NaN</td>\n      <td>NaN</td>\n      <td>NaN</td>\n    </tr>\n    <tr>\n      <th>2010-01-04 02:05:00</th>\n      <td>2010-01-04</td>\n      <td>2010-01-04</td>\n      <td>2010-01-04</td>\n      <td>1.428450</td>\n      <td>1.427770</td>\n      <td>1.427905</td>\n      <td>1.427050</td>\n      <td>1.42577</td>\n      <td>1.44556</td>\n      <td>NaN</td>\n      <td>NaN</td>\n      <td>NaN</td>\n      <td>NaN</td>\n    </tr>\n    <tr>\n      <th>2010-01-04 02:10:00</th>\n      <td>2010-01-04</td>\n      <td>2010-01-04</td>\n      <td>2010-01-04</td>\n      <td>1.428925</td>\n      <td>1.427870</td>\n      <td>1.428450</td>\n      <td>1.427770</td>\n      <td>1.42577</td>\n      <td>1.44556</td>\n      <td>NaN</td>\n      <td>NaN</td>\n      <td>NaN</td>\n      <td>NaN</td>\n    </tr>\n    <tr>\n      <th>2010-01-04 02:15:00</th>\n      <td>2010-01-04</td>\n      <td>2010-01-04</td>\n      <td>2010-01-04</td>\n      <td>1.428915</td>\n      <td>1.428370</td>\n      <td>1.428925</td>\n      <td>1.427870</td>\n      <td>1.42577</td>\n      <td>1.44556</td>\n      <td>NaN</td>\n      <td>NaN</td>\n      <td>NaN</td>\n      <td>NaN</td>\n    </tr>\n    <tr>\n      <th>2010-01-04 02:20:00</th>\n      <td>2010-01-04</td>\n      <td>2010-01-04</td>\n      <td>2010-01-04</td>\n      <td>1.428810</td>\n      <td>1.428430</td>\n      <td>1.428915</td>\n      <td>1.428370</td>\n      <td>1.42577</td>\n      <td>1.44556</td>\n      <td>NaN</td>\n      <td>NaN</td>\n      <td>NaN</td>\n      <td>NaN</td>\n    </tr>\n    <tr>\n      <th>2010-01-04 02:25:00</th>\n      <td>2010-01-04</td>\n      <td>2010-01-04</td>\n      <td>2010-01-04</td>\n      <td>1.428690</td>\n      <td>1.427945</td>\n      <td>1.428810</td>\n      <td>1.428430</td>\n      <td>1.42577</td>\n      <td>1.44556</td>\n      <td>NaN</td>\n      <td>NaN</td>\n      <td>NaN</td>\n      <td>NaN</td>\n    </tr>\n    <tr>\n      <th>2010-01-04 02:30:00</th>\n      <td>2010-01-04</td>\n      <td>2010-01-04</td>\n      <td>2010-01-04</td>\n      <td>1.428245</td>\n      <td>1.427820</td>\n      <td>1.428690</td>\n      <td>1.427945</td>\n      <td>1.42577</td>\n      <td>1.44556</td>\n      <td>NaN</td>\n      <td>NaN</td>\n      <td>NaN</td>\n      <td>NaN</td>\n    </tr>\n    <tr>\n      <th>2010-01-04 02:35:00</th>\n      <td>2010-01-04</td>\n      <td>2010-01-04</td>\n      <td>2010-01-04</td>\n      <td>1.428485</td>\n      <td>1.427900</td>\n      <td>1.428245</td>\n      <td>1.427820</td>\n      <td>1.42577</td>\n      <td>1.44556</td>\n      <td>NaN</td>\n      <td>NaN</td>\n      <td>NaN</td>\n      <td>NaN</td>\n    </tr>\n    <tr>\n      <th>2010-01-04 02:40:00</th>\n      <td>2010-01-04</td>\n      <td>2010-01-04</td>\n      <td>2010-01-04</td>\n      <td>1.428590</td>\n      <td>1.428320</td>\n      <td>1.428485</td>\n      <td>1.427900</td>\n      <td>1.42577</td>\n      <td>1.44556</td>\n      <td>NaN</td>\n      <td>NaN</td>\n      <td>NaN</td>\n      <td>NaN</td>\n    </tr>\n    <tr>\n      <th>2010-01-04 02:45:00</th>\n      <td>2010-01-04</td>\n      <td>2010-01-04</td>\n      <td>2010-01-04</td>\n      <td>1.428625</td>\n      <td>1.428470</td>\n      <td>1.428590</td>\n      <td>1.428320</td>\n      <td>1.42577</td>\n      <td>1.44556</td>\n      <td>NaN</td>\n      <td>NaN</td>\n      <td>NaN</td>\n      <td>NaN</td>\n    </tr>\n    <tr>\n      <th>2010-01-04 02:50:00</th>\n      <td>2010-01-04</td>\n      <td>2010-01-04</td>\n      <td>2010-01-04</td>\n      <td>1.429320</td>\n      <td>1.428620</td>\n      <td>1.428625</td>\n      <td>1.428470</td>\n      <td>1.42577</td>\n      <td>1.44556</td>\n      <td>NaN</td>\n      <td>NaN</td>\n      <td>NaN</td>\n      <td>NaN</td>\n    </tr>\n    <tr>\n      <th>2010-01-04 02:55:00</th>\n      <td>2010-01-04</td>\n      <td>2010-01-04</td>\n      <td>2010-01-04</td>\n      <td>1.429995</td>\n      <td>1.429070</td>\n      <td>1.429320</td>\n      <td>1.428620</td>\n      <td>1.42577</td>\n      <td>1.44556</td>\n      <td>NaN</td>\n      <td>NaN</td>\n      <td>NaN</td>\n      <td>NaN</td>\n    </tr>\n    <tr>\n      <th>2010-01-04 03:00:00</th>\n      <td>2010-01-04</td>\n      <td>2010-01-04</td>\n      <td>2010-01-04</td>\n      <td>1.429760</td>\n      <td>1.429370</td>\n      <td>1.429995</td>\n      <td>1.429070</td>\n      <td>1.42577</td>\n      <td>1.44556</td>\n      <td>NaN</td>\n      <td>NaN</td>\n      <td>NaN</td>\n      <td>NaN</td>\n    </tr>\n    <tr>\n      <th>2010-01-04 03:05:00</th>\n      <td>2010-01-04</td>\n      <td>2010-01-04</td>\n      <td>2010-01-04</td>\n      <td>1.429380</td>\n      <td>1.428765</td>\n      <td>1.429760</td>\n      <td>1.429370</td>\n      <td>1.42577</td>\n      <td>1.44556</td>\n      <td>NaN</td>\n      <td>NaN</td>\n      <td>NaN</td>\n      <td>NaN</td>\n    </tr>\n    <tr>\n      <th>2010-01-04 03:10:00</th>\n      <td>2010-01-04</td>\n      <td>2010-01-04</td>\n      <td>2010-01-04</td>\n      <td>1.428970</td>\n      <td>1.428865</td>\n      <td>1.429380</td>\n      <td>1.428765</td>\n      <td>1.42577</td>\n      <td>1.44556</td>\n      <td>NaN</td>\n      <td>NaN</td>\n      <td>NaN</td>\n      <td>NaN</td>\n    </tr>\n    <tr>\n      <th>2010-01-04 03:15:00</th>\n      <td>2010-01-04</td>\n      <td>2010-01-04</td>\n      <td>2010-01-04</td>\n      <td>1.429220</td>\n      <td>1.428885</td>\n      <td>1.428970</td>\n      <td>1.428865</td>\n      <td>1.42577</td>\n      <td>1.44556</td>\n      <td>NaN</td>\n      <td>NaN</td>\n      <td>NaN</td>\n      <td>NaN</td>\n    </tr>\n    <tr>\n      <th>2010-01-04 03:20:00</th>\n      <td>2010-01-04</td>\n      <td>2010-01-04</td>\n      <td>2010-01-04</td>\n      <td>1.429065</td>\n      <td>1.428450</td>\n      <td>1.429220</td>\n      <td>1.428885</td>\n      <td>1.42577</td>\n      <td>1.44556</td>\n      <td>NaN</td>\n      <td>NaN</td>\n      <td>NaN</td>\n      <td>NaN</td>\n    </tr>\n    <tr>\n      <th>2010-01-04 03:25:00</th>\n      <td>2010-01-04</td>\n      <td>2010-01-04</td>\n      <td>2010-01-04</td>\n      <td>1.428515</td>\n      <td>1.427965</td>\n      <td>1.429065</td>\n      <td>1.428450</td>\n      <td>1.42577</td>\n      <td>1.44556</td>\n      <td>NaN</td>\n      <td>NaN</td>\n      <td>NaN</td>\n      <td>NaN</td>\n    </tr>\n    <tr>\n      <th>2010-01-04 03:30:00</th>\n      <td>2010-01-04</td>\n      <td>2010-01-04</td>\n      <td>2010-01-04</td>\n      <td>1.428590</td>\n      <td>1.428110</td>\n      <td>1.428515</td>\n      <td>1.427965</td>\n      <td>1.42577</td>\n      <td>1.44556</td>\n      <td>NaN</td>\n      <td>NaN</td>\n      <td>NaN</td>\n      <td>NaN</td>\n    </tr>\n    <tr>\n      <th>2010-01-04 03:35:00</th>\n      <td>2010-01-04</td>\n      <td>2010-01-04</td>\n      <td>2010-01-04</td>\n      <td>1.428510</td>\n      <td>1.428030</td>\n      <td>1.428590</td>\n      <td>1.428110</td>\n      <td>1.42577</td>\n      <td>1.44556</td>\n      <td>NaN</td>\n      <td>NaN</td>\n      <td>NaN</td>\n      <td>NaN</td>\n    </tr>\n    <tr>\n      <th>2010-01-04 03:40:00</th>\n      <td>2010-01-04</td>\n      <td>2010-01-04</td>\n      <td>2010-01-04</td>\n      <td>1.428030</td>\n      <td>1.427220</td>\n      <td>1.428510</td>\n      <td>1.428030</td>\n      <td>1.42577</td>\n      <td>1.44556</td>\n      <td>NaN</td>\n      <td>NaN</td>\n      <td>NaN</td>\n      <td>NaN</td>\n    </tr>\n    <tr>\n      <th>2010-01-04 03:45:00</th>\n      <td>2010-01-04</td>\n      <td>2010-01-04</td>\n      <td>2010-01-04</td>\n      <td>1.427680</td>\n      <td>1.427245</td>\n      <td>1.428030</td>\n      <td>1.427220</td>\n      <td>1.42577</td>\n      <td>1.44556</td>\n      <td>NaN</td>\n      <td>NaN</td>\n      <td>NaN</td>\n      <td>NaN</td>\n    </tr>\n    <tr>\n      <th>2010-01-04 03:50:00</th>\n      <td>2010-01-04</td>\n      <td>2010-01-04</td>\n      <td>2010-01-04</td>\n      <td>1.427930</td>\n      <td>1.427400</td>\n      <td>1.427680</td>\n      <td>1.427245</td>\n      <td>1.42577</td>\n      <td>1.44556</td>\n      <td>NaN</td>\n      <td>NaN</td>\n      <td>NaN</td>\n      <td>NaN</td>\n    </tr>\n    <tr>\n      <th>2010-01-04 03:55:00</th>\n      <td>2010-01-04</td>\n      <td>2010-01-04</td>\n      <td>2010-01-04</td>\n      <td>1.428610</td>\n      <td>1.427680</td>\n      <td>1.427930</td>\n      <td>1.427400</td>\n      <td>1.42577</td>\n      <td>1.44556</td>\n      <td>NaN</td>\n      <td>NaN</td>\n      <td>NaN</td>\n      <td>NaN</td>\n    </tr>\n    <tr>\n      <th>2010-01-04 04:00:00</th>\n      <td>2010-01-04</td>\n      <td>2010-01-04</td>\n      <td>2010-01-04</td>\n      <td>1.428800</td>\n      <td>1.428300</td>\n      <td>1.428610</td>\n      <td>1.427680</td>\n      <td>1.42577</td>\n      <td>1.44556</td>\n      <td>NaN</td>\n      <td>NaN</td>\n      <td>NaN</td>\n      <td>NaN</td>\n    </tr>\n    <tr>\n      <th>2010-01-04 04:05:00</th>\n      <td>2010-01-04</td>\n      <td>2010-01-04</td>\n      <td>2010-01-04</td>\n      <td>1.429020</td>\n      <td>1.428770</td>\n      <td>1.428800</td>\n      <td>1.428300</td>\n      <td>1.42577</td>\n      <td>1.44556</td>\n      <td>NaN</td>\n      <td>NaN</td>\n      <td>NaN</td>\n      <td>NaN</td>\n    </tr>\n    <tr>\n      <th>2010-01-04 04:10:00</th>\n      <td>2010-01-04</td>\n      <td>2010-01-04</td>\n      <td>2010-01-04</td>\n      <td>1.429010</td>\n      <td>1.428620</td>\n      <td>1.429020</td>\n      <td>1.428770</td>\n      <td>1.42577</td>\n      <td>1.44556</td>\n      <td>NaN</td>\n      <td>NaN</td>\n      <td>NaN</td>\n      <td>NaN</td>\n    </tr>\n    <tr>\n      <th>2010-01-04 04:15:00</th>\n      <td>2010-01-04</td>\n      <td>2010-01-04</td>\n      <td>2010-01-04</td>\n      <td>1.429290</td>\n      <td>1.428770</td>\n      <td>1.429010</td>\n      <td>1.428620</td>\n      <td>1.42577</td>\n      <td>1.44556</td>\n      <td>NaN</td>\n      <td>NaN</td>\n      <td>NaN</td>\n      <td>NaN</td>\n    </tr>\n    <tr>\n      <th>2010-01-04 04:20:00</th>\n      <td>2010-01-04</td>\n      <td>2010-01-04</td>\n      <td>2010-01-04</td>\n      <td>1.429290</td>\n      <td>1.428960</td>\n      <td>1.429290</td>\n      <td>1.428770</td>\n      <td>1.42577</td>\n      <td>1.44556</td>\n      <td>NaN</td>\n      <td>NaN</td>\n      <td>NaN</td>\n      <td>NaN</td>\n    </tr>\n    <tr>\n      <th>2010-01-04 04:25:00</th>\n      <td>2010-01-04</td>\n      <td>2010-01-04</td>\n      <td>2010-01-04</td>\n      <td>1.429160</td>\n      <td>1.428840</td>\n      <td>1.429290</td>\n      <td>1.428960</td>\n      <td>1.42577</td>\n      <td>1.44556</td>\n      <td>NaN</td>\n      <td>NaN</td>\n      <td>NaN</td>\n      <td>NaN</td>\n    </tr>\n    <tr>\n      <th>2010-01-04 04:30:00</th>\n      <td>2010-01-04</td>\n      <td>2010-01-04</td>\n      <td>2010-01-04</td>\n      <td>1.429160</td>\n      <td>1.428655</td>\n      <td>1.429160</td>\n      <td>1.428840</td>\n      <td>1.42577</td>\n      <td>1.44556</td>\n      <td>NaN</td>\n      <td>NaN</td>\n      <td>NaN</td>\n      <td>NaN</td>\n    </tr>\n    <tr>\n      <th>2010-01-04 04:35:00</th>\n      <td>2010-01-04</td>\n      <td>2010-01-04</td>\n      <td>2010-01-04</td>\n      <td>1.429695</td>\n      <td>1.428670</td>\n      <td>1.429160</td>\n      <td>1.428655</td>\n      <td>1.42577</td>\n      <td>1.44556</td>\n      <td>NaN</td>\n      <td>NaN</td>\n      <td>NaN</td>\n      <td>NaN</td>\n    </tr>\n    <tr>\n      <th>2010-01-04 04:40:00</th>\n      <td>2010-01-04</td>\n      <td>2010-01-04</td>\n      <td>2010-01-04</td>\n      <td>1.429890</td>\n      <td>1.429550</td>\n      <td>1.429695</td>\n      <td>1.428670</td>\n      <td>1.42577</td>\n      <td>1.44556</td>\n      <td>NaN</td>\n      <td>NaN</td>\n      <td>NaN</td>\n      <td>NaN</td>\n    </tr>\n    <tr>\n      <th>2010-01-04 04:45:00</th>\n      <td>2010-01-04</td>\n      <td>2010-01-04</td>\n      <td>2010-01-04</td>\n      <td>1.429580</td>\n      <td>1.429365</td>\n      <td>1.429890</td>\n      <td>1.429550</td>\n      <td>1.42577</td>\n      <td>1.44556</td>\n      <td>NaN</td>\n      <td>NaN</td>\n      <td>NaN</td>\n      <td>NaN</td>\n    </tr>\n    <tr>\n      <th>2010-01-04 04:50:00</th>\n      <td>2010-01-04</td>\n      <td>2010-01-04</td>\n      <td>2010-01-04</td>\n      <td>1.429470</td>\n      <td>1.428970</td>\n      <td>1.429580</td>\n      <td>1.429365</td>\n      <td>1.42577</td>\n      <td>1.44556</td>\n      <td>NaN</td>\n      <td>NaN</td>\n      <td>NaN</td>\n      <td>NaN</td>\n    </tr>\n    <tr>\n      <th>2010-01-04 04:55:00</th>\n      <td>2010-01-04</td>\n      <td>2010-01-04</td>\n      <td>2010-01-04</td>\n      <td>1.429320</td>\n      <td>1.428870</td>\n      <td>1.429470</td>\n      <td>1.428970</td>\n      <td>1.42577</td>\n      <td>1.44556</td>\n      <td>NaN</td>\n      <td>NaN</td>\n      <td>NaN</td>\n      <td>NaN</td>\n    </tr>\n  </tbody>\n</table>\n</div>"
     },
     "metadata": {},
     "execution_count": 5
    }
   ],
   "source": [
    "df[['Date','DateShiftMinus','DateShiftPlus','High','Low','HighShift','LowShift','DayLow','DayHigh','HighSlope','LowSlope','ADR_High','ADR_Low']].head(60)"
   ]
  },
  {
   "cell_type": "code",
   "execution_count": 54,
   "metadata": {},
   "outputs": [
    {
     "output_type": "stream",
     "name": "stdout",
     "text": [
      "<class 'pandas.core.frame.DataFrame'>\nDatetimeIndex: 819803 entries, 2010-01-04 00:00:00 to 2021-04-23 08:40:00\nData columns (total 71 columns):\n #   Column             Non-Null Count   Dtype         \n---  ------             --------------   -----         \n 0   Close              819803 non-null  float64       \n 1   CloseAsk           819803 non-null  float64       \n 2   CloseBid           819803 non-null  float64       \n 3   High               819803 non-null  float64       \n 4   HighAsk            819803 non-null  float64       \n 5   HighBid            819803 non-null  float64       \n 6   Low                819803 non-null  float64       \n 7   LowAsk             819803 non-null  float64       \n 8   LowBid             819803 non-null  float64       \n 9   Open               819803 non-null  float64       \n 10  OpenAsk            819803 non-null  float64       \n 11  OpenBid            819803 non-null  float64       \n 12  Symbol             819803 non-null  object        \n 13  Date               819803 non-null  datetime64[ns]\n 14  ADR                815852 non-null  float64       \n 15  DayHigh            819803 non-null  float64       \n 16  DayLow             819803 non-null  float64       \n 17  ADR_High           815852 non-null  float64       \n 18  ADR_Low            815852 non-null  float64       \n 19  SMA_200            819604 non-null  float64       \n 20  UpperBand          819784 non-null  float64       \n 21  LowerBand          819784 non-null  float64       \n 22  slow_K5            819797 non-null  float64       \n 23  slow_D5            819795 non-null  float64       \n 24  EMA_21             819803 non-null  float64       \n 25  EMA_8              819803 non-null  float64       \n 26  PP                 818398 non-null  float64       \n 27  S38                818398 non-null  float64       \n 28  S62                818398 non-null  float64       \n 29  S78                818398 non-null  float64       \n 30  S100               818398 non-null  float64       \n 31  S138               818398 non-null  float64       \n 32  S162               818398 non-null  float64       \n 33  S178               818398 non-null  float64       \n 34  S200               818398 non-null  float64       \n 35  R38                818398 non-null  float64       \n 36  R62                818398 non-null  float64       \n 37  R78                818398 non-null  float64       \n 38  R100               818398 non-null  float64       \n 39  R138               818398 non-null  float64       \n 40  R162               818398 non-null  float64       \n 41  R178               818398 non-null  float64       \n 42  R200               818398 non-null  float64       \n 43  prev_close         819802 non-null  float64       \n 44  TR                 819802 non-null  float64       \n 45  ATR_14             819789 non-null  float64       \n 46  RVI                819789 non-null  float64       \n 47  SB_Gamma           819802 non-null  float64       \n 48  ONHISMA_5          819799 non-null  float64       \n 49  ONLOSMA_5          819799 non-null  float64       \n 50  ONHISMA_21         819783 non-null  float64       \n 51  ONLOSMA_21         819783 non-null  float64       \n 52  ONHISMA_34         819770 non-null  float64       \n 53  ONLOSMA_34         819770 non-null  float64       \n 54  OpenShift_weekly   713741 non-null  float64       \n 55  HighShift_weekly   713741 non-null  float64       \n 56  LowShift_weekly    713741 non-null  float64       \n 57  CloseShift_weekly  713741 non-null  float64       \n 58  OpenShift_daily    798530 non-null  float64       \n 59  HighShift_daily    798530 non-null  float64       \n 60  LowShift_daily     798530 non-null  float64       \n 61  CloseShift_daily   798530 non-null  float64       \n 62  DateIndex          819803 non-null  datetime64[ns]\n 63  RSI_2_hourly       819767 non-null  float64       \n 64  RSI_14_hourly      819623 non-null  float64       \n 65  HighSlope          819803 non-null  float64       \n 66  DateShiftMinus     819802 non-null  datetime64[ns]\n 67  DateShiftPlus      819802 non-null  datetime64[ns]\n 68  HighShift          819802 non-null  float64       \n 69  LowShift           819802 non-null  float64       \n 70  LowSlope           819803 non-null  float64       \ndtypes: datetime64[ns](4), float64(66), object(1)\nmemory usage: 482.6+ MB\n"
     ]
    }
   ],
   "source": [
    "df.info()"
   ]
  },
  {
   "cell_type": "code",
   "execution_count": null,
   "metadata": {},
   "outputs": [],
   "source": []
  },
  {
   "cell_type": "code",
   "execution_count": null,
   "metadata": {},
   "outputs": [],
   "source": []
  }
 ]
}