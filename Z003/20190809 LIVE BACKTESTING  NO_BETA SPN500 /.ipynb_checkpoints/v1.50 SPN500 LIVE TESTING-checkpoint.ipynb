{
 "cells": [
  {
   "cell_type": "code",
   "execution_count": 1,
   "metadata": {},
   "outputs": [],
   "source": [
    "def clearall():\n",
    "    all = [var for var in globals() if var[0] != \"_\"]\n",
    "    for var in all:\n",
    "        del globals()[var]\n",
    "clearall()"
   ]
  },
  {
   "cell_type": "code",
   "execution_count": 2,
   "metadata": {},
   "outputs": [
    {
     "name": "stdout",
     "output_type": "stream",
     "text": [
      "Importing Librairies...\n",
      "Librairies imported\n",
      "\n",
      "Global Optimized LumberJack Environment Motor 55\n",
      "LumberJack Jyss 5779(c)\n",
      "\u001b[34m °0Oo_D.A.G._26_oO0°\n",
      "\u001b[33m \u001b[44m BOOST LIVE SPN500 55 Version v1.50 \u001b[0m\n"
     ]
    }
   ],
   "source": [
    "print('Importing Librairies...')\n",
    "import talib\n",
    "import numpy as np\n",
    "import pandas as pd\n",
    "import pandas_datareader as web\n",
    "from colorama import Fore, Back, Style\n",
    "import matplotlib.pyplot as plt\n",
    "import matplotlib.dates as mdates\n",
    "from keras.models import model_from_yaml\n",
    "\n",
    "import xgboost as xgb\n",
    "from xgboost import XGBRegressor, plot_importance\n",
    "import seaborn as sns\n",
    "%matplotlib inline\n",
    "plt.style.use('seaborn')\n",
    "import time\n",
    "import datetime as dt\n",
    "import os\n",
    "print('Librairies imported')\n",
    "print('')\n",
    "\n",
    "___Author___='LumberJack Jyss'\n",
    "print('Global Optimized LumberJack Environment Motor 55\\nLumberJack Jyss 5779(c)')\n",
    "print(Fore.BLUE,'°0Oo_D.A.G._26_oO0°')\n",
    "print(Fore.YELLOW,Back.BLUE,'BOOST LIVE SPN500 55 Version v1.50',Style.RESET_ALL)"
   ]
  },
  {
   "cell_type": "code",
   "execution_count": 3,
   "metadata": {},
   "outputs": [
    {
     "name": "stdout",
     "output_type": "stream",
     "text": [
      "\n",
      "Sraping tickers\n",
      "Scrap -----> ok\n"
     ]
    }
   ],
   "source": [
    "print('')\n",
    "print('Sraping tickers')\n",
    "constituents = pd.read_csv('constituents_csv.csv')\n",
    "print('Scrap -----> ok')"
   ]
  },
  {
   "cell_type": "code",
   "execution_count": null,
   "metadata": {},
   "outputs": [],
   "source": [
    "for loop in range(0,len(constituents)):\n",
    "    try:\n",
    "        yaml_file_up = open('Save_'+ticker+'_up.yaml', 'r')\n",
    "        yaml_file_down = open('Save_'+ticker+'_down.yaml', 'r')\n",
    "        model_yaml_up = yaml_file_up.read()\n",
    "        model_yaml_down = yaml_file_down.read()\n",
    "        yaml_file_up.close()\n",
    "        yaml_file_down.close()\n",
    "        model_up = model_from_yaml(model_yaml_up)\n",
    "        mode_down = model_from_yaml(model_yaml_down)\n",
    "        # load weights into new model\n",
    "        model_up.load_weights('Save_'+ticker+'_up.h5')\n",
    "        model_down.load_weights('Save_'+ticker+'_down.h5')\n",
    "        print(\"Loaded model from disk\")\n",
    "    except:\n",
    "        print(Fore.RED,Back.GREEN,'Il y a un problème en loop ',loop,', avec le ticker ',ticker,'absent de la base.',Style.RESET_ALL)\n",
    "        \n",
    "        "
   ]
  }
 ],
 "metadata": {
  "kernelspec": {
   "display_name": "Python 3",
   "language": "python",
   "name": "python3"
  },
  "language_info": {
   "codemirror_mode": {
    "name": "ipython",
    "version": 3
   },
   "file_extension": ".py",
   "mimetype": "text/x-python",
   "name": "python",
   "nbconvert_exporter": "python",
   "pygments_lexer": "ipython3",
   "version": "3.6.8"
  }
 },
 "nbformat": 4,
 "nbformat_minor": 2
}
