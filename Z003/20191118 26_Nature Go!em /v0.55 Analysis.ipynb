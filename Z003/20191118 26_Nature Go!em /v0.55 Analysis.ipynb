{
 "cells": [
  {
   "cell_type": "code",
   "execution_count": 22,
   "metadata": {},
   "outputs": [],
   "source": [
    "import pandas as pd\n",
    "import os\n",
    "import shutil\n",
    "import datetime as dt\n",
    "import time\n",
    "import sys"
   ]
  },
  {
   "cell_type": "code",
   "execution_count": 24,
   "metadata": {},
   "outputs": [],
   "source": [
    "try:\n",
    "    os.mkdir('Reports/')\n",
    "except:\n",
    "    pass\n",
    "\n",
    "try:\n",
    "    os.mkdir('Reports/Traités/')\n",
    "except:\n",
    "    pass\n",
    "\n",
    "try:\n",
    "    nav = pd.read_csv('Reports/NAV_MtD.csv',header= 2,skipfooter=2,engine='python')\n",
    "    footnav =  pd.read_csv('Reports/NAV_MtD.csv',header= nav.shape[0]+3)\n",
    "    defo = pd.read_csv('Reports/DefaultPositions.csv')\n",
    "    porto = pd.read_csv('Reports/Portfolio_MTM.csv')\n",
    "except:\n",
    "    os.system('say \"Les calculs sont pas bon Kévine. Tu ma pris pour un batard, ou quoi?\"')\n",
    "    sys.exit('Les fichiers ne sont pas tous présents. Arrêt du programme et destruction de la totalité du disque dur')\n"
   ]
  },
  {
   "cell_type": "code",
   "execution_count": 26,
   "metadata": {},
   "outputs": [],
   "source": [
    "jour = time.strftime(\"%A\", time.localtime())\n",
    "today = dt.date.today().strftime('%Y-%m-%d') # str(dt.date.today())[:5]+str(dt.date.today())[5:7]+str(dt.date.today())[7:10]\n",
    "heure = time.strftime(\"%H:%M:%S\", time.localtime())"
   ]
  },
  {
   "cell_type": "code",
   "execution_count": 27,
   "metadata": {},
   "outputs": [
    {
     "name": "stdout",
     "output_type": "stream",
     "text": [
      "We are  Sunday   2019-12-01   22:41:56\n",
      "Hier :  2019-11-29\n"
     ]
    }
   ],
   "source": [
    "if jour == 'Sunday' and heure > '08:00:00' and heure < '23:50:00':\n",
    "    print('We are ',jour,' ',today,' ',heure)\n",
    "    yesterday = str(dt.date.today()-dt.timedelta(2))[:5]+str(dt.date.today()-dt.timedelta(2))[5:7]+str(dt.date.today()-dt.timedelta(2))[7:10]\n",
    "    print('Hier : ', yesterday)\n",
    "\n",
    "elif jour == 'Monday' and heure > '08:00:00' and heure < '21:50:00':\n",
    "    print('We are ',jour,' ',today,' ',heure)\n",
    "    yesterday = str(dt.date.today()-dt.timedelta(3))[:5]+str(dt.date.today()-dt.timedelta(3))[5:7]+str(dt.date.today()-dt.timedelta(3))[7:10]\n",
    "    print('Hier : ', yesterday)\n",
    "\n",
    "elif jour == 'Tuesday' and heure > '08:00:00' and heure < '21:50:00':\n",
    "    print('We are ',jour,' ',today,' ',heure)\n",
    "    yesterday = str(dt.date.today()-dt.timedelta(1))[:5]+str(dt.date.today()-dt.timedelta(1))[5:7]+str(dt.date.today()-dt.timedelta(1))[7:10]\n",
    "    print('Hier : ', yesterday)\n",
    "\n",
    "elif jour == 'Wednesday' and heure > '08:00:00' and heure < '21:50:00':\n",
    "    print('We are ',jour,' ',today,' ',heure)\n",
    "    yesterday = str(dt.date.today()-dt.timedelta(1))[:5]+str(dt.date.today()-dt.timedelta(1))[5:7]+str(dt.date.today()-dt.timedelta(1))[7:10]\n",
    "    print('Hier : ', yesterday)\n",
    "\n",
    "elif jour == 'Thursday' and heure > '08:00:00' and heure < '21:50:00':\n",
    "    print('We are ',jour,' ',today,' ',heure)\n",
    "    yesterday = str(dt.date.today()-dt.timedelta(1))[:5]+str(dt.date.today()-dt.timedelta(1))[5:7]+str(dt.date.today()-dt.timedelta(1))[7:10]\n",
    "    print('Hier : ', yesterday)"
   ]
  },
  {
   "cell_type": "code",
   "execution_count": 28,
   "metadata": {},
   "outputs": [
    {
     "name": "stdout",
     "output_type": "stream",
     "text": [
      "Les dates correspondent\n"
     ]
    }
   ],
   "source": [
    "if yesterday == pd.to_datetime(footnav.iloc[-1]['ToDate'],format='%Y%m%d').strftime('%Y-%m-%d'):\n",
    "    print('Les dates correspondent')\n",
    "else:\n",
    "    sys.exit('Problème avec les dates')"
   ]
  },
  {
   "cell_type": "code",
   "execution_count": 59,
   "metadata": {},
   "outputs": [
    {
     "data": {
      "text/plain": [
       "'Reports/Traités/2019-11-29_Portfolio_MTM.csv'"
      ]
     },
     "execution_count": 59,
     "metadata": {},
     "output_type": "execute_result"
    }
   ],
   "source": [
    "os.rename('Reports/NAV_MtD.csv','Reports/'+yesterday+'_NAV_MtD.csv')\n",
    "os.rename('Reports/DefaultPositions.csv','Reports/'+yesterday+'_DefaultPositions.csv')\n",
    "os.rename('Reports/Portfolio_MTM.csv','Reports/'+yesterday+'_Portfolio_MTM.csv')\n",
    "shutil.move('Reports/'+yesterday+'_NAV_MtD.csv','Reports/Traités/'+yesterday+'_NAV_MtD.csv')\n",
    "shutil.move('Reports/'+yesterday+'_DefaultPositions.csv','Reports/Traités/'+yesterday+'_DefaultPositions.csv')\n",
    "shutil.move('Reports/'+yesterday+'_Portfolio_MTM.csv','Reports/Traités/'+yesterday+'_Portfolio_MTM.csv')"
   ]
  },
  {
   "cell_type": "code",
   "execution_count": 143,
   "metadata": {},
   "outputs": [],
   "source": [
    "d_report = pd.DataFrame()"
   ]
  },
  {
   "cell_type": "code",
   "execution_count": 144,
   "metadata": {},
   "outputs": [],
   "source": [
    "DATE = []\n",
    "NAV = []\n",
    "NLONG = []\n",
    "NSHORT = []\n",
    "NCLONG = []\n",
    "NCSHORT = []\n",
    "NNLONG = []\n",
    "NNSHORT = []\n",
    "TEL = []\n",
    "TES = []\n",
    "NE = []\n",
    "init = 0"
   ]
  },
  {
   "cell_type": "code",
   "execution_count": 145,
   "metadata": {},
   "outputs": [],
   "source": [
    "try:\n",
    "    d_report = pd.read('d_report.csv')\n",
    "    DATE = d_report['Date']\n",
    "    NAV = d_report['Nav']\n",
    "    NLONG = d_report['# of Long']\n",
    "    NSHORT = d_report['# of Short']\n",
    "    NCLONG = d_report['# of Close Long']\n",
    "    NCSHORT = d_report['# of Close Short']\n",
    "    NNLONG = d_report['# New Long']\n",
    "    NNSHORT = d_report['# New Short']\n",
    "    TEL = d_report['Total Exp. Long']\n",
    "    TES = d_report['Total Exp. Short']\n",
    "    NE = d_report['Net Exp.']\n",
    "    \n",
    "except:\n",
    "    init = 1\n",
    "    DATE.append(yesterday)\n",
    "    NAV.append(round(footnav.iloc[-1]['StartingValue'],2))\n",
    "    NLONG.append(defo[defo['Quantity']>0].shape[0])\n",
    "    NSHORT.append(defo[defo['Quantity']<0].shape[0])\n",
    "    NCLONG.append(porto[(porto['PreviousCloseQuantity']>0)&(porto['CloseQuantity']==0)].shape[0])\n",
    "    NCSHORT.append(porto[(porto['PreviousCloseQuantity']<0)&(porto['CloseQuantity']==0)].shape[0])\n",
    "    NNLONG.append(porto[(porto['PreviousCloseQuantity']==0)&(porto['CloseQuantity']>0)].shape[0])\n",
    "    NNSHORT.append(porto[(porto['PreviousCloseQuantity']==0)&(porto['CloseQuantity']<0)].shape[0])\n",
    "    TEL.append(defo[defo['Quantity']>0]['PositionValue'].sum())\n",
    "    TES.append(defo[defo['Quantity']<0]['PositionValue'].sum())\n",
    "    NE.append(defo[defo['Quantity']>0]['PositionValue'].sum() + defo[defo['Quantity']<0]['PositionValue'].sum())"
   ]
  },
  {
   "cell_type": "code",
   "execution_count": 147,
   "metadata": {},
   "outputs": [
    {
     "ename": "ValueError",
     "evalue": "Length of values does not match length of index",
     "output_type": "error",
     "traceback": [
      "\u001b[0;31m---------------------------------------------------------------------------\u001b[0m",
      "\u001b[0;31mValueError\u001b[0m                                Traceback (most recent call last)",
      "\u001b[0;32m<ipython-input-147-9c06414389b4>\u001b[0m in \u001b[0;36m<module>\u001b[0;34m\u001b[0m\n\u001b[1;32m     13\u001b[0m \u001b[0;34m\u001b[0m\u001b[0m\n\u001b[1;32m     14\u001b[0m \u001b[0;34m\u001b[0m\u001b[0m\n\u001b[0;32m---> 15\u001b[0;31m \u001b[0md_report\u001b[0m\u001b[0;34m[\u001b[0m\u001b[0;34m'Date'\u001b[0m\u001b[0;34m]\u001b[0m \u001b[0;34m=\u001b[0m \u001b[0mDATE\u001b[0m\u001b[0;34m\u001b[0m\u001b[0;34m\u001b[0m\u001b[0m\n\u001b[0m\u001b[1;32m     16\u001b[0m \u001b[0md_report\u001b[0m\u001b[0;34m[\u001b[0m\u001b[0;34m'Nav'\u001b[0m\u001b[0;34m]\u001b[0m \u001b[0;34m=\u001b[0m \u001b[0mNAV\u001b[0m\u001b[0;34m\u001b[0m\u001b[0;34m\u001b[0m\u001b[0m\n\u001b[1;32m     17\u001b[0m \u001b[0md_report\u001b[0m\u001b[0;34m[\u001b[0m\u001b[0;34m'# of Long'\u001b[0m\u001b[0;34m]\u001b[0m \u001b[0;34m=\u001b[0m \u001b[0mNLONG\u001b[0m\u001b[0;34m\u001b[0m\u001b[0;34m\u001b[0m\u001b[0m\n",
      "\u001b[0;32m~/Applications/anaconda3/envs/LumberJack/lib/python3.6/site-packages/pandas/core/frame.py\u001b[0m in \u001b[0;36m__setitem__\u001b[0;34m(self, key, value)\u001b[0m\n\u001b[1;32m   3485\u001b[0m         \u001b[0;32melse\u001b[0m\u001b[0;34m:\u001b[0m\u001b[0;34m\u001b[0m\u001b[0;34m\u001b[0m\u001b[0m\n\u001b[1;32m   3486\u001b[0m             \u001b[0;31m# set column\u001b[0m\u001b[0;34m\u001b[0m\u001b[0;34m\u001b[0m\u001b[0;34m\u001b[0m\u001b[0m\n\u001b[0;32m-> 3487\u001b[0;31m             \u001b[0mself\u001b[0m\u001b[0;34m.\u001b[0m\u001b[0m_set_item\u001b[0m\u001b[0;34m(\u001b[0m\u001b[0mkey\u001b[0m\u001b[0;34m,\u001b[0m \u001b[0mvalue\u001b[0m\u001b[0;34m)\u001b[0m\u001b[0;34m\u001b[0m\u001b[0;34m\u001b[0m\u001b[0m\n\u001b[0m\u001b[1;32m   3488\u001b[0m \u001b[0;34m\u001b[0m\u001b[0m\n\u001b[1;32m   3489\u001b[0m     \u001b[0;32mdef\u001b[0m \u001b[0m_setitem_slice\u001b[0m\u001b[0;34m(\u001b[0m\u001b[0mself\u001b[0m\u001b[0;34m,\u001b[0m \u001b[0mkey\u001b[0m\u001b[0;34m,\u001b[0m \u001b[0mvalue\u001b[0m\u001b[0;34m)\u001b[0m\u001b[0;34m:\u001b[0m\u001b[0;34m\u001b[0m\u001b[0;34m\u001b[0m\u001b[0m\n",
      "\u001b[0;32m~/Applications/anaconda3/envs/LumberJack/lib/python3.6/site-packages/pandas/core/frame.py\u001b[0m in \u001b[0;36m_set_item\u001b[0;34m(self, key, value)\u001b[0m\n\u001b[1;32m   3562\u001b[0m \u001b[0;34m\u001b[0m\u001b[0m\n\u001b[1;32m   3563\u001b[0m         \u001b[0mself\u001b[0m\u001b[0;34m.\u001b[0m\u001b[0m_ensure_valid_index\u001b[0m\u001b[0;34m(\u001b[0m\u001b[0mvalue\u001b[0m\u001b[0;34m)\u001b[0m\u001b[0;34m\u001b[0m\u001b[0;34m\u001b[0m\u001b[0m\n\u001b[0;32m-> 3564\u001b[0;31m         \u001b[0mvalue\u001b[0m \u001b[0;34m=\u001b[0m \u001b[0mself\u001b[0m\u001b[0;34m.\u001b[0m\u001b[0m_sanitize_column\u001b[0m\u001b[0;34m(\u001b[0m\u001b[0mkey\u001b[0m\u001b[0;34m,\u001b[0m \u001b[0mvalue\u001b[0m\u001b[0;34m)\u001b[0m\u001b[0;34m\u001b[0m\u001b[0;34m\u001b[0m\u001b[0m\n\u001b[0m\u001b[1;32m   3565\u001b[0m         \u001b[0mNDFrame\u001b[0m\u001b[0;34m.\u001b[0m\u001b[0m_set_item\u001b[0m\u001b[0;34m(\u001b[0m\u001b[0mself\u001b[0m\u001b[0;34m,\u001b[0m \u001b[0mkey\u001b[0m\u001b[0;34m,\u001b[0m \u001b[0mvalue\u001b[0m\u001b[0;34m)\u001b[0m\u001b[0;34m\u001b[0m\u001b[0;34m\u001b[0m\u001b[0m\n\u001b[1;32m   3566\u001b[0m \u001b[0;34m\u001b[0m\u001b[0m\n",
      "\u001b[0;32m~/Applications/anaconda3/envs/LumberJack/lib/python3.6/site-packages/pandas/core/frame.py\u001b[0m in \u001b[0;36m_sanitize_column\u001b[0;34m(self, key, value, broadcast)\u001b[0m\n\u001b[1;32m   3747\u001b[0m \u001b[0;34m\u001b[0m\u001b[0m\n\u001b[1;32m   3748\u001b[0m             \u001b[0;31m# turn me into an ndarray\u001b[0m\u001b[0;34m\u001b[0m\u001b[0;34m\u001b[0m\u001b[0;34m\u001b[0m\u001b[0m\n\u001b[0;32m-> 3749\u001b[0;31m             \u001b[0mvalue\u001b[0m \u001b[0;34m=\u001b[0m \u001b[0msanitize_index\u001b[0m\u001b[0;34m(\u001b[0m\u001b[0mvalue\u001b[0m\u001b[0;34m,\u001b[0m \u001b[0mself\u001b[0m\u001b[0;34m.\u001b[0m\u001b[0mindex\u001b[0m\u001b[0;34m,\u001b[0m \u001b[0mcopy\u001b[0m\u001b[0;34m=\u001b[0m\u001b[0;32mFalse\u001b[0m\u001b[0;34m)\u001b[0m\u001b[0;34m\u001b[0m\u001b[0;34m\u001b[0m\u001b[0m\n\u001b[0m\u001b[1;32m   3750\u001b[0m             \u001b[0;32mif\u001b[0m \u001b[0;32mnot\u001b[0m \u001b[0misinstance\u001b[0m\u001b[0;34m(\u001b[0m\u001b[0mvalue\u001b[0m\u001b[0;34m,\u001b[0m \u001b[0;34m(\u001b[0m\u001b[0mnp\u001b[0m\u001b[0;34m.\u001b[0m\u001b[0mndarray\u001b[0m\u001b[0;34m,\u001b[0m \u001b[0mIndex\u001b[0m\u001b[0;34m)\u001b[0m\u001b[0;34m)\u001b[0m\u001b[0;34m:\u001b[0m\u001b[0;34m\u001b[0m\u001b[0;34m\u001b[0m\u001b[0m\n\u001b[1;32m   3751\u001b[0m                 \u001b[0;32mif\u001b[0m \u001b[0misinstance\u001b[0m\u001b[0;34m(\u001b[0m\u001b[0mvalue\u001b[0m\u001b[0;34m,\u001b[0m \u001b[0mlist\u001b[0m\u001b[0;34m)\u001b[0m \u001b[0;32mand\u001b[0m \u001b[0mlen\u001b[0m\u001b[0;34m(\u001b[0m\u001b[0mvalue\u001b[0m\u001b[0;34m)\u001b[0m \u001b[0;34m>\u001b[0m \u001b[0;36m0\u001b[0m\u001b[0;34m:\u001b[0m\u001b[0;34m\u001b[0m\u001b[0;34m\u001b[0m\u001b[0m\n",
      "\u001b[0;32m~/Applications/anaconda3/envs/LumberJack/lib/python3.6/site-packages/pandas/core/internals/construction.py\u001b[0m in \u001b[0;36msanitize_index\u001b[0;34m(data, index, copy)\u001b[0m\n\u001b[1;32m    610\u001b[0m \u001b[0;34m\u001b[0m\u001b[0m\n\u001b[1;32m    611\u001b[0m     \u001b[0;32mif\u001b[0m \u001b[0mlen\u001b[0m\u001b[0;34m(\u001b[0m\u001b[0mdata\u001b[0m\u001b[0;34m)\u001b[0m \u001b[0;34m!=\u001b[0m \u001b[0mlen\u001b[0m\u001b[0;34m(\u001b[0m\u001b[0mindex\u001b[0m\u001b[0;34m)\u001b[0m\u001b[0;34m:\u001b[0m\u001b[0;34m\u001b[0m\u001b[0;34m\u001b[0m\u001b[0m\n\u001b[0;32m--> 612\u001b[0;31m         \u001b[0;32mraise\u001b[0m \u001b[0mValueError\u001b[0m\u001b[0;34m(\u001b[0m\u001b[0;34m\"Length of values does not match length of index\"\u001b[0m\u001b[0;34m)\u001b[0m\u001b[0;34m\u001b[0m\u001b[0;34m\u001b[0m\u001b[0m\n\u001b[0m\u001b[1;32m    613\u001b[0m \u001b[0;34m\u001b[0m\u001b[0m\n\u001b[1;32m    614\u001b[0m     \u001b[0;32mif\u001b[0m \u001b[0misinstance\u001b[0m\u001b[0;34m(\u001b[0m\u001b[0mdata\u001b[0m\u001b[0;34m,\u001b[0m \u001b[0mABCIndexClass\u001b[0m\u001b[0;34m)\u001b[0m \u001b[0;32mand\u001b[0m \u001b[0;32mnot\u001b[0m \u001b[0mcopy\u001b[0m\u001b[0;34m:\u001b[0m\u001b[0;34m\u001b[0m\u001b[0;34m\u001b[0m\u001b[0m\n",
      "\u001b[0;31mValueError\u001b[0m: Length of values does not match length of index"
     ]
    }
   ],
   "source": [
    "DATE.append(yesterday)\n",
    "NAV.append(round(footnav.iloc[-1]['EndingValue'],2))\n",
    "NLONG.append(defo[defo['Quantity']>0].shape[0])\n",
    "NSHORT.append(defo[defo['Quantity']<0].shape[0])\n",
    "NCLONG.append(porto[(porto['PreviousCloseQuantity']>0)&(porto['CloseQuantity']==0)].shape[0])\n",
    "NCSHORT.append(porto[(porto['PreviousCloseQuantity']<0)&(porto['CloseQuantity']==0)].shape[0])\n",
    "NNLONG.append(porto[(porto['PreviousCloseQuantity']==0)&(porto['CloseQuantity']>0)].shape[0])\n",
    "NNSHORT.append(porto[(porto['PreviousCloseQuantity']==0)&(porto['CloseQuantity']<0)].shape[0])\n",
    "TEL.append(defo[defo['Quantity']>0]['PositionValue'].sum())\n",
    "TES.append(defo[defo['Quantity']<0]['PositionValue'].sum())\n",
    "NE.append(defo[defo['Quantity']>0]['PositionValue'].sum() + defo[defo['Quantity']<0]['PositionValue'].sum())\n",
    "\n",
    "\n",
    "\n",
    "d_report['Date'] = DATE\n",
    "d_report['Nav'] = NAV\n",
    "d_report['# of Long'] = NLONG\n",
    "d_report['# of Short'] = NSHORT\n",
    "d_report['# of Close Long'] = NCLONG\n",
    "d_report['# of Close Short'] = NCSHORT\n",
    "d_report['# New Long'] = NNLONG\n",
    "d_report['# New Short'] = NNSHORT\n",
    "d_report['Total Exp. Long'] = TEL\n",
    "d_report['Total Exp. Short'] = TES\n",
    "d_report['Net Exp.'] = NE\n",
    "d_report['Profit & Loss'] = d_report.iloc[-1]['Nav'] - d_report.iloc[-2]['Nav']\n",
    "d_report['var Nav%'] = ((d_report.iloc[-1]['Profit & Loss'] - d_report.iloc[-2]['Profit & Loss'])/d_report.iloc[-2]['Profit & Loss']) * 100\n",
    "d_report['cumul Nav%'] = ((1 + d_report.iloc[-2]['cumul Nav%']) * (1 + d_report.iloc[-1]['var Nav%'])) - 1\n",
    "\n",
    "if init == 1:\n",
    "    d_report = d_report.iloc[1:,:]\n",
    "    d_report = d_report.reindex()"
   ]
  },
  {
   "cell_type": "code",
   "execution_count": 142,
   "metadata": {},
   "outputs": [
    {
     "data": {
      "text/html": [
       "<div>\n",
       "<style scoped>\n",
       "    .dataframe tbody tr th:only-of-type {\n",
       "        vertical-align: middle;\n",
       "    }\n",
       "\n",
       "    .dataframe tbody tr th {\n",
       "        vertical-align: top;\n",
       "    }\n",
       "\n",
       "    .dataframe thead th {\n",
       "        text-align: right;\n",
       "    }\n",
       "</style>\n",
       "<table border=\"1\" class=\"dataframe\">\n",
       "  <thead>\n",
       "    <tr style=\"text-align: right;\">\n",
       "      <th></th>\n",
       "      <th>Date</th>\n",
       "      <th>Nav</th>\n",
       "      <th># of Long</th>\n",
       "      <th># of Short</th>\n",
       "      <th># of Close Long</th>\n",
       "      <th># of Close Short</th>\n",
       "      <th># New Long</th>\n",
       "      <th># New Short</th>\n",
       "      <th>Total Exp. Long</th>\n",
       "      <th>Total Exp. Short</th>\n",
       "      <th>Net Exp.</th>\n",
       "      <th>Profit &amp; Loss</th>\n",
       "      <th>var Nav%</th>\n",
       "      <th>cumul Nav%</th>\n",
       "    </tr>\n",
       "  </thead>\n",
       "  <tbody>\n",
       "    <tr>\n",
       "      <th>1</th>\n",
       "      <td>2019-11-29</td>\n",
       "      <td>528090.74</td>\n",
       "      <td>21</td>\n",
       "      <td>26</td>\n",
       "      <td>1</td>\n",
       "      <td>1</td>\n",
       "      <td>5</td>\n",
       "      <td>12</td>\n",
       "      <td>340067.62</td>\n",
       "      <td>-388109.36</td>\n",
       "      <td>-48041.74</td>\n",
       "      <td>23258.35</td>\n",
       "      <td>0.0</td>\n",
       "      <td>0.0</td>\n",
       "    </tr>\n",
       "  </tbody>\n",
       "</table>\n",
       "</div>"
      ],
      "text/plain": [
       "         Date        Nav  # of Long  # of Short  # of Close Long  \\\n",
       "1  2019-11-29  528090.74         21          26                1   \n",
       "\n",
       "   # of Close Short  # New Long  # New Short  Total Exp. Long  \\\n",
       "1                 1           5           12        340067.62   \n",
       "\n",
       "   Total Exp. Short  Net Exp.  Profit & Loss  var Nav%  cumul Nav%  \n",
       "1        -388109.36 -48041.74       23258.35       0.0         0.0  "
      ]
     },
     "execution_count": 142,
     "metadata": {},
     "output_type": "execute_result"
    }
   ],
   "source": [
    "d_report"
   ]
  },
  {
   "cell_type": "code",
   "execution_count": null,
   "metadata": {},
   "outputs": [],
   "source": []
  },
  {
   "cell_type": "code",
   "execution_count": 57,
   "metadata": {},
   "outputs": [
    {
     "data": {
      "text/html": [
       "<div>\n",
       "<style scoped>\n",
       "    .dataframe tbody tr th:only-of-type {\n",
       "        vertical-align: middle;\n",
       "    }\n",
       "\n",
       "    .dataframe tbody tr th {\n",
       "        vertical-align: top;\n",
       "    }\n",
       "\n",
       "    .dataframe thead th {\n",
       "        text-align: right;\n",
       "    }\n",
       "</style>\n",
       "<table border=\"1\" class=\"dataframe\">\n",
       "  <thead>\n",
       "    <tr style=\"text-align: right;\">\n",
       "      <th></th>\n",
       "      <th>ClientAccountID</th>\n",
       "      <th>FromDate</th>\n",
       "      <th>ToDate</th>\n",
       "      <th>StartingValue</th>\n",
       "      <th>Mtm</th>\n",
       "      <th>Realized</th>\n",
       "      <th>DepositsWithdrawals</th>\n",
       "      <th>EndingValue</th>\n",
       "    </tr>\n",
       "  </thead>\n",
       "  <tbody>\n",
       "    <tr>\n",
       "      <th>0</th>\n",
       "      <td>DU1507426</td>\n",
       "      <td>20191101</td>\n",
       "      <td>20191129</td>\n",
       "      <td>504832.390233</td>\n",
       "      <td>23898.25</td>\n",
       "      <td>0</td>\n",
       "      <td>0</td>\n",
       "      <td>528090.740435</td>\n",
       "    </tr>\n",
       "  </tbody>\n",
       "</table>\n",
       "</div>"
      ],
      "text/plain": [
       "  ClientAccountID  FromDate    ToDate  StartingValue       Mtm  Realized  \\\n",
       "0       DU1507426  20191101  20191129  504832.390233  23898.25         0   \n",
       "\n",
       "   DepositsWithdrawals    EndingValue  \n",
       "0                    0  528090.740435  "
      ]
     },
     "execution_count": 57,
     "metadata": {},
     "output_type": "execute_result"
    }
   ],
   "source": [
    "footnav"
   ]
  },
  {
   "cell_type": "code",
   "execution_count": 58,
   "metadata": {},
   "outputs": [],
   "source": [
    "TEST = [1,2,3,4,5,6,7,8,9]"
   ]
  },
  {
   "cell_type": "code",
   "execution_count": 71,
   "metadata": {},
   "outputs": [
    {
     "data": {
      "text/html": [
       "<div>\n",
       "<style scoped>\n",
       "    .dataframe tbody tr th:only-of-type {\n",
       "        vertical-align: middle;\n",
       "    }\n",
       "\n",
       "    .dataframe tbody tr th {\n",
       "        vertical-align: top;\n",
       "    }\n",
       "\n",
       "    .dataframe thead th {\n",
       "        text-align: right;\n",
       "    }\n",
       "</style>\n",
       "<table border=\"1\" class=\"dataframe\">\n",
       "  <thead>\n",
       "    <tr style=\"text-align: right;\">\n",
       "      <th></th>\n",
       "      <th>Date</th>\n",
       "      <th>Nav</th>\n",
       "      <th># of Long</th>\n",
       "      <th># of Short</th>\n",
       "      <th># of Close Long</th>\n",
       "      <th># of Close Short</th>\n",
       "      <th># New Long</th>\n",
       "      <th># New Short</th>\n",
       "      <th>Total Exp. Long</th>\n",
       "      <th>Total Exp. Short</th>\n",
       "      <th>Net Exp.</th>\n",
       "    </tr>\n",
       "  </thead>\n",
       "  <tbody>\n",
       "    <tr>\n",
       "      <th>0</th>\n",
       "      <td>2019-11-29</td>\n",
       "      <td>528090.740435</td>\n",
       "      <td>21</td>\n",
       "      <td>26</td>\n",
       "      <td>1</td>\n",
       "      <td>1</td>\n",
       "      <td>5</td>\n",
       "      <td>12</td>\n",
       "      <td>340067.62</td>\n",
       "      <td>-388109.36</td>\n",
       "      <td>-48041.74</td>\n",
       "    </tr>\n",
       "  </tbody>\n",
       "</table>\n",
       "</div>"
      ],
      "text/plain": [
       "         Date            Nav  # of Long  # of Short  # of Close Long  \\\n",
       "0  2019-11-29  528090.740435         21          26                1   \n",
       "\n",
       "   # of Close Short  # New Long  # New Short  Total Exp. Long  \\\n",
       "0                 1           5           12        340067.62   \n",
       "\n",
       "   Total Exp. Short  Net Exp.  \n",
       "0        -388109.36 -48041.74  "
      ]
     },
     "execution_count": 71,
     "metadata": {},
     "output_type": "execute_result"
    }
   ],
   "source": [
    "d_report"
   ]
  },
  {
   "cell_type": "code",
   "execution_count": null,
   "metadata": {},
   "outputs": [],
   "source": []
  }
 ],
 "metadata": {
  "kernelspec": {
   "display_name": "Python 3",
   "language": "python",
   "name": "python3"
  },
  "language_info": {
   "codemirror_mode": {
    "name": "ipython",
    "version": 3
   },
   "file_extension": ".py",
   "mimetype": "text/x-python",
   "name": "python",
   "nbconvert_exporter": "python",
   "pygments_lexer": "ipython3",
   "version": "3.6.8"
  }
 },
 "nbformat": 4,
 "nbformat_minor": 2
}
