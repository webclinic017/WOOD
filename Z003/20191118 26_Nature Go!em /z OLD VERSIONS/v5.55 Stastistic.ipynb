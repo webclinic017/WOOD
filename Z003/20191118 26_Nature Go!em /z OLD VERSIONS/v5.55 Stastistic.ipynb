{
 "cells": [
  {
   "cell_type": "code",
   "execution_count": 2,
   "metadata": {},
   "outputs": [
    {
     "name": "stdout",
     "output_type": "stream",
     "text": [
      "Importing Librairies...\n",
      "Librairies imported\n",
      "\n",
      "Global Optimized LumberJack Environment Motor 55\n",
      "LumberJack Jyss 5780(c)\n",
      "\u001b[34m °0Oo_D.A.G._26_oO0°\n",
      "\u001b[33m \u001b[44m OneShot Go!em Statistics on Nature #26 -- 0.5 % --  \u001b[0m\n",
      "\n"
     ]
    }
   ],
   "source": [
    "def clearall():\n",
    "    all = [var for var in globals() if var[0] != \"_\"]\n",
    "    for var in all:\n",
    "        del globals()[var]\n",
    "clearall()\n",
    "\n",
    "print('Importing Librairies...')\n",
    "\n",
    "import pandas as pd\n",
    "import sys\n",
    "import datetime as dt\n",
    "import os\n",
    "import shutil\n",
    "from colorama import Fore, Back, Style\n",
    "print('Librairies imported')\n",
    "print('')\n",
    "\n",
    "___Author___='LumberJack Jyss'\n",
    "print('Global Optimized LumberJack Environment Motor 55\\nLumberJack Jyss 5780(c)')\n",
    "print(Fore.BLUE,'°0Oo_D.A.G._26_oO0°')\n",
    "print(Fore.YELLOW,Back.BLUE,'OneShot Go!em Statistics on Nature #26 -- 0.5 % -- ',Style.RESET_ALL)\n",
    "\n",
    "print('')"
   ]
  },
  {
   "cell_type": "code",
   "execution_count": 46,
   "metadata": {},
   "outputs": [
    {
     "name": "stdout",
     "output_type": "stream",
     "text": [
      "On skippe le premier fichier de début de trade => Pas de positions\n",
      "Il y a  1  erreurs pour les tupples  [('2019-11-20', 'CAH')]\n",
      " /!\\ Attention! On retire les lignes NA! /!\\ \n",
      "Il y a  2  erreurs pour les tupples  [('2019-11-20', 'CAH'), ('2019-11-20', 'VRTX')]\n",
      " /!\\ Attention! On retire les lignes NA! /!\\ \n",
      "Il y a  3  erreurs pour les tupples  [('2019-11-20', 'CAH'), ('2019-11-20', 'VRTX'), ('2019-11-20', 'AMZN')]\n",
      " /!\\ Attention! On retire les lignes NA! /!\\ \n",
      "Il y a  4  erreurs pour les tupples  [('2019-11-20', 'CAH'), ('2019-11-20', 'VRTX'), ('2019-11-20', 'AMZN'), ('2019-11-20', 'MCK')]\n",
      " /!\\ Attention! On retire les lignes NA! /!\\ \n",
      "Il y a  5  erreurs pour les tupples  [('2019-11-20', 'CAH'), ('2019-11-20', 'VRTX'), ('2019-11-20', 'AMZN'), ('2019-11-20', 'MCK'), ('2019-11-20', 'CNC')]\n",
      " /!\\ Attention! On retire les lignes NA! /!\\ \n",
      "Il y a  6  erreurs pour les tupples  [('2019-11-20', 'CAH'), ('2019-11-20', 'VRTX'), ('2019-11-20', 'AMZN'), ('2019-11-20', 'MCK'), ('2019-11-20', 'CNC'), ('2019-11-20', 'XRX')]\n",
      " /!\\ Attention! On retire les lignes NA! /!\\ \n",
      "Il y a  7  erreurs pour les tupples  [('2019-11-20', 'CAH'), ('2019-11-20', 'VRTX'), ('2019-11-20', 'AMZN'), ('2019-11-20', 'MCK'), ('2019-11-20', 'CNC'), ('2019-11-20', 'XRX'), ('2019-11-20', 'MAR')]\n",
      " /!\\ Attention! On retire les lignes NA! /!\\ \n",
      "Il y a  8  erreurs pour les tupples  [('2019-11-20', 'CAH'), ('2019-11-20', 'VRTX'), ('2019-11-20', 'AMZN'), ('2019-11-20', 'MCK'), ('2019-11-20', 'CNC'), ('2019-11-20', 'XRX'), ('2019-11-20', 'MAR'), ('2019-11-20', 'MAS')]\n",
      " /!\\ Attention! On retire les lignes NA! /!\\ \n",
      "Il y a  9  erreurs pour les tupples  [('2019-11-20', 'CAH'), ('2019-11-20', 'VRTX'), ('2019-11-20', 'AMZN'), ('2019-11-20', 'MCK'), ('2019-11-20', 'CNC'), ('2019-11-20', 'XRX'), ('2019-11-20', 'MAR'), ('2019-11-20', 'MAS'), ('2019-11-20', 'CI')]\n",
      " /!\\ Attention! On retire les lignes NA! /!\\ \n",
      "Il y a  10  erreurs pour les tupples  [('2019-11-20', 'CAH'), ('2019-11-20', 'VRTX'), ('2019-11-20', 'AMZN'), ('2019-11-20', 'MCK'), ('2019-11-20', 'CNC'), ('2019-11-20', 'XRX'), ('2019-11-20', 'MAR'), ('2019-11-20', 'MAS'), ('2019-11-20', 'CI'), ('2019-11-20', 'KMX')]\n",
      " /!\\ Attention! On retire les lignes NA! /!\\ \n",
      "Il y a  11  erreurs pour les tupples  [('2019-11-20', 'CAH'), ('2019-11-20', 'VRTX'), ('2019-11-20', 'AMZN'), ('2019-11-20', 'MCK'), ('2019-11-20', 'CNC'), ('2019-11-20', 'XRX'), ('2019-11-20', 'MAR'), ('2019-11-20', 'MAS'), ('2019-11-20', 'CI'), ('2019-11-20', 'KMX'), ('2019-11-20', 'NDAQ')]\n",
      " /!\\ Attention! On retire les lignes NA! /!\\ \n",
      "Il y a  12  erreurs pour les tupples  [('2019-11-20', 'CAH'), ('2019-11-20', 'VRTX'), ('2019-11-20', 'AMZN'), ('2019-11-20', 'MCK'), ('2019-11-20', 'CNC'), ('2019-11-20', 'XRX'), ('2019-11-20', 'MAR'), ('2019-11-20', 'MAS'), ('2019-11-20', 'CI'), ('2019-11-20', 'KMX'), ('2019-11-20', 'NDAQ'), ('2019-11-20', 'HUM')]\n",
      " /!\\ Attention! On retire les lignes NA! /!\\ \n",
      "Il y a  13  erreurs pour les tupples  [('2019-11-20', 'CAH'), ('2019-11-20', 'VRTX'), ('2019-11-20', 'AMZN'), ('2019-11-20', 'MCK'), ('2019-11-20', 'CNC'), ('2019-11-20', 'XRX'), ('2019-11-20', 'MAR'), ('2019-11-20', 'MAS'), ('2019-11-20', 'CI'), ('2019-11-20', 'KMX'), ('2019-11-20', 'NDAQ'), ('2019-11-20', 'HUM'), ('2019-11-20', 'FBHS')]\n",
      " /!\\ Attention! On retire les lignes NA! /!\\ \n",
      "Il y a  14  erreurs pour les tupples  [('2019-11-20', 'CAH'), ('2019-11-20', 'VRTX'), ('2019-11-20', 'AMZN'), ('2019-11-20', 'MCK'), ('2019-11-20', 'CNC'), ('2019-11-20', 'XRX'), ('2019-11-20', 'MAR'), ('2019-11-20', 'MAS'), ('2019-11-20', 'CI'), ('2019-11-20', 'KMX'), ('2019-11-20', 'NDAQ'), ('2019-11-20', 'HUM'), ('2019-11-20', 'FBHS'), ('2019-11-20', 'KO')]\n",
      " /!\\ Attention! On retire les lignes NA! /!\\ \n",
      "Il y a  15  erreurs pour les tupples  [('2019-11-20', 'CAH'), ('2019-11-20', 'VRTX'), ('2019-11-20', 'AMZN'), ('2019-11-20', 'MCK'), ('2019-11-20', 'CNC'), ('2019-11-20', 'XRX'), ('2019-11-20', 'MAR'), ('2019-11-20', 'MAS'), ('2019-11-20', 'CI'), ('2019-11-20', 'KMX'), ('2019-11-20', 'NDAQ'), ('2019-11-20', 'HUM'), ('2019-11-20', 'FBHS'), ('2019-11-20', 'KO'), ('2019-11-20', 'SWKS')]\n",
      " /!\\ Attention! On retire les lignes NA! /!\\ \n",
      "Il y a  16  erreurs pour les tupples  [('2019-11-20', 'CAH'), ('2019-11-20', 'VRTX'), ('2019-11-20', 'AMZN'), ('2019-11-20', 'MCK'), ('2019-11-20', 'CNC'), ('2019-11-20', 'XRX'), ('2019-11-20', 'MAR'), ('2019-11-20', 'MAS'), ('2019-11-20', 'CI'), ('2019-11-20', 'KMX'), ('2019-11-20', 'NDAQ'), ('2019-11-20', 'HUM'), ('2019-11-20', 'FBHS'), ('2019-11-20', 'KO'), ('2019-11-20', 'SWKS'), ('2019-11-20', 'REGN')]\n",
      " /!\\ Attention! On retire les lignes NA! /!\\ \n",
      "Il y a  17  erreurs pour les tupples  [('2019-11-20', 'CAH'), ('2019-11-20', 'VRTX'), ('2019-11-20', 'AMZN'), ('2019-11-20', 'MCK'), ('2019-11-20', 'CNC'), ('2019-11-20', 'XRX'), ('2019-11-20', 'MAR'), ('2019-11-20', 'MAS'), ('2019-11-20', 'CI'), ('2019-11-20', 'KMX'), ('2019-11-20', 'NDAQ'), ('2019-11-20', 'HUM'), ('2019-11-20', 'FBHS'), ('2019-11-20', 'KO'), ('2019-11-20', 'SWKS'), ('2019-11-20', 'REGN'), ('2019-11-20', 'FISV')]\n",
      " /!\\ Attention! On retire les lignes NA! /!\\ \n",
      "Il y a  18  erreurs pour les tupples  [('2019-11-20', 'CAH'), ('2019-11-20', 'VRTX'), ('2019-11-20', 'AMZN'), ('2019-11-20', 'MCK'), ('2019-11-20', 'CNC'), ('2019-11-20', 'XRX'), ('2019-11-20', 'MAR'), ('2019-11-20', 'MAS'), ('2019-11-20', 'CI'), ('2019-11-20', 'KMX'), ('2019-11-20', 'NDAQ'), ('2019-11-20', 'HUM'), ('2019-11-20', 'FBHS'), ('2019-11-20', 'KO'), ('2019-11-20', 'SWKS'), ('2019-11-20', 'REGN'), ('2019-11-20', 'FISV'), ('2019-11-20', 'SHW')]\n",
      " /!\\ Attention! On retire les lignes NA! /!\\ \n",
      "Il y a  19  erreurs pour les tupples  [('2019-11-20', 'CAH'), ('2019-11-20', 'VRTX'), ('2019-11-20', 'AMZN'), ('2019-11-20', 'MCK'), ('2019-11-20', 'CNC'), ('2019-11-20', 'XRX'), ('2019-11-20', 'MAR'), ('2019-11-20', 'MAS'), ('2019-11-20', 'CI'), ('2019-11-20', 'KMX'), ('2019-11-20', 'NDAQ'), ('2019-11-20', 'HUM'), ('2019-11-20', 'FBHS'), ('2019-11-20', 'KO'), ('2019-11-20', 'SWKS'), ('2019-11-20', 'REGN'), ('2019-11-20', 'FISV'), ('2019-11-20', 'SHW'), ('2019-11-20', 'SIVB')]\n",
      " /!\\ Attention! On retire les lignes NA! /!\\ \n",
      "Il y a  20  erreurs pour les tupples  [('2019-11-20', 'CAH'), ('2019-11-20', 'VRTX'), ('2019-11-20', 'AMZN'), ('2019-11-20', 'MCK'), ('2019-11-20', 'CNC'), ('2019-11-20', 'XRX'), ('2019-11-20', 'MAR'), ('2019-11-20', 'MAS'), ('2019-11-20', 'CI'), ('2019-11-20', 'KMX'), ('2019-11-20', 'NDAQ'), ('2019-11-20', 'HUM'), ('2019-11-20', 'FBHS'), ('2019-11-20', 'KO'), ('2019-11-20', 'SWKS'), ('2019-11-20', 'REGN'), ('2019-11-20', 'FISV'), ('2019-11-20', 'SHW'), ('2019-11-20', 'SIVB'), ('2019-11-20', 'DHI')]\n",
      " /!\\ Attention! On retire les lignes NA! /!\\ \n",
      "Il y a  21  erreurs pour les tupples  [('2019-11-20', 'CAH'), ('2019-11-20', 'VRTX'), ('2019-11-20', 'AMZN'), ('2019-11-20', 'MCK'), ('2019-11-20', 'CNC'), ('2019-11-20', 'XRX'), ('2019-11-20', 'MAR'), ('2019-11-20', 'MAS'), ('2019-11-20', 'CI'), ('2019-11-20', 'KMX'), ('2019-11-20', 'NDAQ'), ('2019-11-20', 'HUM'), ('2019-11-20', 'FBHS'), ('2019-11-20', 'KO'), ('2019-11-20', 'SWKS'), ('2019-11-20', 'REGN'), ('2019-11-20', 'FISV'), ('2019-11-20', 'SHW'), ('2019-11-20', 'SIVB'), ('2019-11-20', 'DHI'), ('2019-11-20', 'DHR')]\n",
      " /!\\ Attention! On retire les lignes NA! /!\\ \n",
      "Il y a  22  erreurs pour les tupples  [('2019-11-20', 'CAH'), ('2019-11-20', 'VRTX'), ('2019-11-20', 'AMZN'), ('2019-11-20', 'MCK'), ('2019-11-20', 'CNC'), ('2019-11-20', 'XRX'), ('2019-11-20', 'MAR'), ('2019-11-20', 'MAS'), ('2019-11-20', 'CI'), ('2019-11-20', 'KMX'), ('2019-11-20', 'NDAQ'), ('2019-11-20', 'HUM'), ('2019-11-20', 'FBHS'), ('2019-11-20', 'KO'), ('2019-11-20', 'SWKS'), ('2019-11-20', 'REGN'), ('2019-11-20', 'FISV'), ('2019-11-20', 'SHW'), ('2019-11-20', 'SIVB'), ('2019-11-20', 'DHI'), ('2019-11-20', 'DHR'), ('2019-11-20', 'NCLH')]\n",
      " /!\\ Attention! On retire les lignes NA! /!\\ \n",
      "Il y a  23  erreurs pour les tupples  [('2019-11-20', 'CAH'), ('2019-11-20', 'VRTX'), ('2019-11-20', 'AMZN'), ('2019-11-20', 'MCK'), ('2019-11-20', 'CNC'), ('2019-11-20', 'XRX'), ('2019-11-20', 'MAR'), ('2019-11-20', 'MAS'), ('2019-11-20', 'CI'), ('2019-11-20', 'KMX'), ('2019-11-20', 'NDAQ'), ('2019-11-20', 'HUM'), ('2019-11-20', 'FBHS'), ('2019-11-20', 'KO'), ('2019-11-20', 'SWKS'), ('2019-11-20', 'REGN'), ('2019-11-20', 'FISV'), ('2019-11-20', 'SHW'), ('2019-11-20', 'SIVB'), ('2019-11-20', 'DHI'), ('2019-11-20', 'DHR'), ('2019-11-20', 'NCLH'), ('2019-11-19', 'VRTX')]\n",
      " /!\\ Attention! On retire les lignes NA! /!\\ \n",
      "Il y a  24  erreurs pour les tupples  [('2019-11-20', 'CAH'), ('2019-11-20', 'VRTX'), ('2019-11-20', 'AMZN'), ('2019-11-20', 'MCK'), ('2019-11-20', 'CNC'), ('2019-11-20', 'XRX'), ('2019-11-20', 'MAR'), ('2019-11-20', 'MAS'), ('2019-11-20', 'CI'), ('2019-11-20', 'KMX'), ('2019-11-20', 'NDAQ'), ('2019-11-20', 'HUM'), ('2019-11-20', 'FBHS'), ('2019-11-20', 'KO'), ('2019-11-20', 'SWKS'), ('2019-11-20', 'REGN'), ('2019-11-20', 'FISV'), ('2019-11-20', 'SHW'), ('2019-11-20', 'SIVB'), ('2019-11-20', 'DHI'), ('2019-11-20', 'DHR'), ('2019-11-20', 'NCLH'), ('2019-11-19', 'VRTX'), ('2019-11-19', 'AMZN')]\n",
      " /!\\ Attention! On retire les lignes NA! /!\\ \n",
      "Il y a  25  erreurs pour les tupples  [('2019-11-20', 'CAH'), ('2019-11-20', 'VRTX'), ('2019-11-20', 'AMZN'), ('2019-11-20', 'MCK'), ('2019-11-20', 'CNC'), ('2019-11-20', 'XRX'), ('2019-11-20', 'MAR'), ('2019-11-20', 'MAS'), ('2019-11-20', 'CI'), ('2019-11-20', 'KMX'), ('2019-11-20', 'NDAQ'), ('2019-11-20', 'HUM'), ('2019-11-20', 'FBHS'), ('2019-11-20', 'KO'), ('2019-11-20', 'SWKS'), ('2019-11-20', 'REGN'), ('2019-11-20', 'FISV'), ('2019-11-20', 'SHW'), ('2019-11-20', 'SIVB'), ('2019-11-20', 'DHI'), ('2019-11-20', 'DHR'), ('2019-11-20', 'NCLH'), ('2019-11-19', 'VRTX'), ('2019-11-19', 'AMZN'), ('2019-11-19', 'MCK')]\n",
      " /!\\ Attention! On retire les lignes NA! /!\\ \n",
      "Il y a  26  erreurs pour les tupples  [('2019-11-20', 'CAH'), ('2019-11-20', 'VRTX'), ('2019-11-20', 'AMZN'), ('2019-11-20', 'MCK'), ('2019-11-20', 'CNC'), ('2019-11-20', 'XRX'), ('2019-11-20', 'MAR'), ('2019-11-20', 'MAS'), ('2019-11-20', 'CI'), ('2019-11-20', 'KMX'), ('2019-11-20', 'NDAQ'), ('2019-11-20', 'HUM'), ('2019-11-20', 'FBHS'), ('2019-11-20', 'KO'), ('2019-11-20', 'SWKS'), ('2019-11-20', 'REGN'), ('2019-11-20', 'FISV'), ('2019-11-20', 'SHW'), ('2019-11-20', 'SIVB'), ('2019-11-20', 'DHI'), ('2019-11-20', 'DHR'), ('2019-11-20', 'NCLH'), ('2019-11-19', 'VRTX'), ('2019-11-19', 'AMZN'), ('2019-11-19', 'MCK'), ('2019-11-19', 'CNC')]\n",
      " /!\\ Attention! On retire les lignes NA! /!\\ \n",
      "Il y a  27  erreurs pour les tupples  [('2019-11-20', 'CAH'), ('2019-11-20', 'VRTX'), ('2019-11-20', 'AMZN'), ('2019-11-20', 'MCK'), ('2019-11-20', 'CNC'), ('2019-11-20', 'XRX'), ('2019-11-20', 'MAR'), ('2019-11-20', 'MAS'), ('2019-11-20', 'CI'), ('2019-11-20', 'KMX'), ('2019-11-20', 'NDAQ'), ('2019-11-20', 'HUM'), ('2019-11-20', 'FBHS'), ('2019-11-20', 'KO'), ('2019-11-20', 'SWKS'), ('2019-11-20', 'REGN'), ('2019-11-20', 'FISV'), ('2019-11-20', 'SHW'), ('2019-11-20', 'SIVB'), ('2019-11-20', 'DHI'), ('2019-11-20', 'DHR'), ('2019-11-20', 'NCLH'), ('2019-11-19', 'VRTX'), ('2019-11-19', 'AMZN'), ('2019-11-19', 'MCK'), ('2019-11-19', 'CNC'), ('2019-11-19', 'XRX')]\n",
      " /!\\ Attention! On retire les lignes NA! /!\\ \n",
      "Il y a  28  erreurs pour les tupples  [('2019-11-20', 'CAH'), ('2019-11-20', 'VRTX'), ('2019-11-20', 'AMZN'), ('2019-11-20', 'MCK'), ('2019-11-20', 'CNC'), ('2019-11-20', 'XRX'), ('2019-11-20', 'MAR'), ('2019-11-20', 'MAS'), ('2019-11-20', 'CI'), ('2019-11-20', 'KMX'), ('2019-11-20', 'NDAQ'), ('2019-11-20', 'HUM'), ('2019-11-20', 'FBHS'), ('2019-11-20', 'KO'), ('2019-11-20', 'SWKS'), ('2019-11-20', 'REGN'), ('2019-11-20', 'FISV'), ('2019-11-20', 'SHW'), ('2019-11-20', 'SIVB'), ('2019-11-20', 'DHI'), ('2019-11-20', 'DHR'), ('2019-11-20', 'NCLH'), ('2019-11-19', 'VRTX'), ('2019-11-19', 'AMZN'), ('2019-11-19', 'MCK'), ('2019-11-19', 'CNC'), ('2019-11-19', 'XRX'), ('2019-11-19', 'MAR')]\n",
      " /!\\ Attention! On retire les lignes NA! /!\\ \n",
      "Il y a  29  erreurs pour les tupples  [('2019-11-20', 'CAH'), ('2019-11-20', 'VRTX'), ('2019-11-20', 'AMZN'), ('2019-11-20', 'MCK'), ('2019-11-20', 'CNC'), ('2019-11-20', 'XRX'), ('2019-11-20', 'MAR'), ('2019-11-20', 'MAS'), ('2019-11-20', 'CI'), ('2019-11-20', 'KMX'), ('2019-11-20', 'NDAQ'), ('2019-11-20', 'HUM'), ('2019-11-20', 'FBHS'), ('2019-11-20', 'KO'), ('2019-11-20', 'SWKS'), ('2019-11-20', 'REGN'), ('2019-11-20', 'FISV'), ('2019-11-20', 'SHW'), ('2019-11-20', 'SIVB'), ('2019-11-20', 'DHI'), ('2019-11-20', 'DHR'), ('2019-11-20', 'NCLH'), ('2019-11-19', 'VRTX'), ('2019-11-19', 'AMZN'), ('2019-11-19', 'MCK'), ('2019-11-19', 'CNC'), ('2019-11-19', 'XRX'), ('2019-11-19', 'MAR'), ('2019-11-19', 'MAS')]\n",
      " /!\\ Attention! On retire les lignes NA! /!\\ \n",
      "Il y a  30  erreurs pour les tupples  [('2019-11-20', 'CAH'), ('2019-11-20', 'VRTX'), ('2019-11-20', 'AMZN'), ('2019-11-20', 'MCK'), ('2019-11-20', 'CNC'), ('2019-11-20', 'XRX'), ('2019-11-20', 'MAR'), ('2019-11-20', 'MAS'), ('2019-11-20', 'CI'), ('2019-11-20', 'KMX'), ('2019-11-20', 'NDAQ'), ('2019-11-20', 'HUM'), ('2019-11-20', 'FBHS'), ('2019-11-20', 'KO'), ('2019-11-20', 'SWKS'), ('2019-11-20', 'REGN'), ('2019-11-20', 'FISV'), ('2019-11-20', 'SHW'), ('2019-11-20', 'SIVB'), ('2019-11-20', 'DHI'), ('2019-11-20', 'DHR'), ('2019-11-20', 'NCLH'), ('2019-11-19', 'VRTX'), ('2019-11-19', 'AMZN'), ('2019-11-19', 'MCK'), ('2019-11-19', 'CNC'), ('2019-11-19', 'XRX'), ('2019-11-19', 'MAR'), ('2019-11-19', 'MAS'), ('2019-11-19', 'CI')]\n",
      " /!\\ Attention! On retire les lignes NA! /!\\ \n",
      "Il y a  31  erreurs pour les tupples  [('2019-11-20', 'CAH'), ('2019-11-20', 'VRTX'), ('2019-11-20', 'AMZN'), ('2019-11-20', 'MCK'), ('2019-11-20', 'CNC'), ('2019-11-20', 'XRX'), ('2019-11-20', 'MAR'), ('2019-11-20', 'MAS'), ('2019-11-20', 'CI'), ('2019-11-20', 'KMX'), ('2019-11-20', 'NDAQ'), ('2019-11-20', 'HUM'), ('2019-11-20', 'FBHS'), ('2019-11-20', 'KO'), ('2019-11-20', 'SWKS'), ('2019-11-20', 'REGN'), ('2019-11-20', 'FISV'), ('2019-11-20', 'SHW'), ('2019-11-20', 'SIVB'), ('2019-11-20', 'DHI'), ('2019-11-20', 'DHR'), ('2019-11-20', 'NCLH'), ('2019-11-19', 'VRTX'), ('2019-11-19', 'AMZN'), ('2019-11-19', 'MCK'), ('2019-11-19', 'CNC'), ('2019-11-19', 'XRX'), ('2019-11-19', 'MAR'), ('2019-11-19', 'MAS'), ('2019-11-19', 'CI'), ('2019-11-19', 'KMX')]\n",
      " /!\\ Attention! On retire les lignes NA! /!\\ \n",
      "Il y a  32  erreurs pour les tupples  [('2019-11-20', 'CAH'), ('2019-11-20', 'VRTX'), ('2019-11-20', 'AMZN'), ('2019-11-20', 'MCK'), ('2019-11-20', 'CNC'), ('2019-11-20', 'XRX'), ('2019-11-20', 'MAR'), ('2019-11-20', 'MAS'), ('2019-11-20', 'CI'), ('2019-11-20', 'KMX'), ('2019-11-20', 'NDAQ'), ('2019-11-20', 'HUM'), ('2019-11-20', 'FBHS'), ('2019-11-20', 'KO'), ('2019-11-20', 'SWKS'), ('2019-11-20', 'REGN'), ('2019-11-20', 'FISV'), ('2019-11-20', 'SHW'), ('2019-11-20', 'SIVB'), ('2019-11-20', 'DHI'), ('2019-11-20', 'DHR'), ('2019-11-20', 'NCLH'), ('2019-11-19', 'VRTX'), ('2019-11-19', 'AMZN'), ('2019-11-19', 'MCK'), ('2019-11-19', 'CNC'), ('2019-11-19', 'XRX'), ('2019-11-19', 'MAR'), ('2019-11-19', 'MAS'), ('2019-11-19', 'CI'), ('2019-11-19', 'KMX'), ('2019-11-19', 'NDAQ')]\n",
      " /!\\ Attention! On retire les lignes NA! /!\\ \n",
      "Il y a  33  erreurs pour les tupples  [('2019-11-20', 'CAH'), ('2019-11-20', 'VRTX'), ('2019-11-20', 'AMZN'), ('2019-11-20', 'MCK'), ('2019-11-20', 'CNC'), ('2019-11-20', 'XRX'), ('2019-11-20', 'MAR'), ('2019-11-20', 'MAS'), ('2019-11-20', 'CI'), ('2019-11-20', 'KMX'), ('2019-11-20', 'NDAQ'), ('2019-11-20', 'HUM'), ('2019-11-20', 'FBHS'), ('2019-11-20', 'KO'), ('2019-11-20', 'SWKS'), ('2019-11-20', 'REGN'), ('2019-11-20', 'FISV'), ('2019-11-20', 'SHW'), ('2019-11-20', 'SIVB'), ('2019-11-20', 'DHI'), ('2019-11-20', 'DHR'), ('2019-11-20', 'NCLH'), ('2019-11-19', 'VRTX'), ('2019-11-19', 'AMZN'), ('2019-11-19', 'MCK'), ('2019-11-19', 'CNC'), ('2019-11-19', 'XRX'), ('2019-11-19', 'MAR'), ('2019-11-19', 'MAS'), ('2019-11-19', 'CI'), ('2019-11-19', 'KMX'), ('2019-11-19', 'NDAQ'), ('2019-11-19', 'HUM')]\n",
      " /!\\ Attention! On retire les lignes NA! /!\\ \n",
      "Il y a  34  erreurs pour les tupples  [('2019-11-20', 'CAH'), ('2019-11-20', 'VRTX'), ('2019-11-20', 'AMZN'), ('2019-11-20', 'MCK'), ('2019-11-20', 'CNC'), ('2019-11-20', 'XRX'), ('2019-11-20', 'MAR'), ('2019-11-20', 'MAS'), ('2019-11-20', 'CI'), ('2019-11-20', 'KMX'), ('2019-11-20', 'NDAQ'), ('2019-11-20', 'HUM'), ('2019-11-20', 'FBHS'), ('2019-11-20', 'KO'), ('2019-11-20', 'SWKS'), ('2019-11-20', 'REGN'), ('2019-11-20', 'FISV'), ('2019-11-20', 'SHW'), ('2019-11-20', 'SIVB'), ('2019-11-20', 'DHI'), ('2019-11-20', 'DHR'), ('2019-11-20', 'NCLH'), ('2019-11-19', 'VRTX'), ('2019-11-19', 'AMZN'), ('2019-11-19', 'MCK'), ('2019-11-19', 'CNC'), ('2019-11-19', 'XRX'), ('2019-11-19', 'MAR'), ('2019-11-19', 'MAS'), ('2019-11-19', 'CI'), ('2019-11-19', 'KMX'), ('2019-11-19', 'NDAQ'), ('2019-11-19', 'HUM'), ('2019-11-19', 'FBHS')]\n",
      " /!\\ Attention! On retire les lignes NA! /!\\ \n",
      "Il y a  35  erreurs pour les tupples  [('2019-11-20', 'CAH'), ('2019-11-20', 'VRTX'), ('2019-11-20', 'AMZN'), ('2019-11-20', 'MCK'), ('2019-11-20', 'CNC'), ('2019-11-20', 'XRX'), ('2019-11-20', 'MAR'), ('2019-11-20', 'MAS'), ('2019-11-20', 'CI'), ('2019-11-20', 'KMX'), ('2019-11-20', 'NDAQ'), ('2019-11-20', 'HUM'), ('2019-11-20', 'FBHS'), ('2019-11-20', 'KO'), ('2019-11-20', 'SWKS'), ('2019-11-20', 'REGN'), ('2019-11-20', 'FISV'), ('2019-11-20', 'SHW'), ('2019-11-20', 'SIVB'), ('2019-11-20', 'DHI'), ('2019-11-20', 'DHR'), ('2019-11-20', 'NCLH'), ('2019-11-19', 'VRTX'), ('2019-11-19', 'AMZN'), ('2019-11-19', 'MCK'), ('2019-11-19', 'CNC'), ('2019-11-19', 'XRX'), ('2019-11-19', 'MAR'), ('2019-11-19', 'MAS'), ('2019-11-19', 'CI'), ('2019-11-19', 'KMX'), ('2019-11-19', 'NDAQ'), ('2019-11-19', 'HUM'), ('2019-11-19', 'FBHS'), ('2019-11-19', 'KO')]\n",
      " /!\\ Attention! On retire les lignes NA! /!\\ \n",
      "Il y a  36  erreurs pour les tupples  [('2019-11-20', 'CAH'), ('2019-11-20', 'VRTX'), ('2019-11-20', 'AMZN'), ('2019-11-20', 'MCK'), ('2019-11-20', 'CNC'), ('2019-11-20', 'XRX'), ('2019-11-20', 'MAR'), ('2019-11-20', 'MAS'), ('2019-11-20', 'CI'), ('2019-11-20', 'KMX'), ('2019-11-20', 'NDAQ'), ('2019-11-20', 'HUM'), ('2019-11-20', 'FBHS'), ('2019-11-20', 'KO'), ('2019-11-20', 'SWKS'), ('2019-11-20', 'REGN'), ('2019-11-20', 'FISV'), ('2019-11-20', 'SHW'), ('2019-11-20', 'SIVB'), ('2019-11-20', 'DHI'), ('2019-11-20', 'DHR'), ('2019-11-20', 'NCLH'), ('2019-11-19', 'VRTX'), ('2019-11-19', 'AMZN'), ('2019-11-19', 'MCK'), ('2019-11-19', 'CNC'), ('2019-11-19', 'XRX'), ('2019-11-19', 'MAR'), ('2019-11-19', 'MAS'), ('2019-11-19', 'CI'), ('2019-11-19', 'KMX'), ('2019-11-19', 'NDAQ'), ('2019-11-19', 'HUM'), ('2019-11-19', 'FBHS'), ('2019-11-19', 'KO'), ('2019-11-19', 'SWKS')]\n",
      " /!\\ Attention! On retire les lignes NA! /!\\ \n",
      "Il y a  37  erreurs pour les tupples  [('2019-11-20', 'CAH'), ('2019-11-20', 'VRTX'), ('2019-11-20', 'AMZN'), ('2019-11-20', 'MCK'), ('2019-11-20', 'CNC'), ('2019-11-20', 'XRX'), ('2019-11-20', 'MAR'), ('2019-11-20', 'MAS'), ('2019-11-20', 'CI'), ('2019-11-20', 'KMX'), ('2019-11-20', 'NDAQ'), ('2019-11-20', 'HUM'), ('2019-11-20', 'FBHS'), ('2019-11-20', 'KO'), ('2019-11-20', 'SWKS'), ('2019-11-20', 'REGN'), ('2019-11-20', 'FISV'), ('2019-11-20', 'SHW'), ('2019-11-20', 'SIVB'), ('2019-11-20', 'DHI'), ('2019-11-20', 'DHR'), ('2019-11-20', 'NCLH'), ('2019-11-19', 'VRTX'), ('2019-11-19', 'AMZN'), ('2019-11-19', 'MCK'), ('2019-11-19', 'CNC'), ('2019-11-19', 'XRX'), ('2019-11-19', 'MAR'), ('2019-11-19', 'MAS'), ('2019-11-19', 'CI'), ('2019-11-19', 'KMX'), ('2019-11-19', 'NDAQ'), ('2019-11-19', 'HUM'), ('2019-11-19', 'FBHS'), ('2019-11-19', 'KO'), ('2019-11-19', 'SWKS'), ('2019-11-19', 'REGN')]\n",
      " /!\\ Attention! On retire les lignes NA! /!\\ \n",
      "Il y a  38  erreurs pour les tupples  [('2019-11-20', 'CAH'), ('2019-11-20', 'VRTX'), ('2019-11-20', 'AMZN'), ('2019-11-20', 'MCK'), ('2019-11-20', 'CNC'), ('2019-11-20', 'XRX'), ('2019-11-20', 'MAR'), ('2019-11-20', 'MAS'), ('2019-11-20', 'CI'), ('2019-11-20', 'KMX'), ('2019-11-20', 'NDAQ'), ('2019-11-20', 'HUM'), ('2019-11-20', 'FBHS'), ('2019-11-20', 'KO'), ('2019-11-20', 'SWKS'), ('2019-11-20', 'REGN'), ('2019-11-20', 'FISV'), ('2019-11-20', 'SHW'), ('2019-11-20', 'SIVB'), ('2019-11-20', 'DHI'), ('2019-11-20', 'DHR'), ('2019-11-20', 'NCLH'), ('2019-11-19', 'VRTX'), ('2019-11-19', 'AMZN'), ('2019-11-19', 'MCK'), ('2019-11-19', 'CNC'), ('2019-11-19', 'XRX'), ('2019-11-19', 'MAR'), ('2019-11-19', 'MAS'), ('2019-11-19', 'CI'), ('2019-11-19', 'KMX'), ('2019-11-19', 'NDAQ'), ('2019-11-19', 'HUM'), ('2019-11-19', 'FBHS'), ('2019-11-19', 'KO'), ('2019-11-19', 'SWKS'), ('2019-11-19', 'REGN'), ('2019-11-19', 'SHW')]\n",
      " /!\\ Attention! On retire les lignes NA! /!\\ \n",
      "Il y a  39  erreurs pour les tupples  [('2019-11-20', 'CAH'), ('2019-11-20', 'VRTX'), ('2019-11-20', 'AMZN'), ('2019-11-20', 'MCK'), ('2019-11-20', 'CNC'), ('2019-11-20', 'XRX'), ('2019-11-20', 'MAR'), ('2019-11-20', 'MAS'), ('2019-11-20', 'CI'), ('2019-11-20', 'KMX'), ('2019-11-20', 'NDAQ'), ('2019-11-20', 'HUM'), ('2019-11-20', 'FBHS'), ('2019-11-20', 'KO'), ('2019-11-20', 'SWKS'), ('2019-11-20', 'REGN'), ('2019-11-20', 'FISV'), ('2019-11-20', 'SHW'), ('2019-11-20', 'SIVB'), ('2019-11-20', 'DHI'), ('2019-11-20', 'DHR'), ('2019-11-20', 'NCLH'), ('2019-11-19', 'VRTX'), ('2019-11-19', 'AMZN'), ('2019-11-19', 'MCK'), ('2019-11-19', 'CNC'), ('2019-11-19', 'XRX'), ('2019-11-19', 'MAR'), ('2019-11-19', 'MAS'), ('2019-11-19', 'CI'), ('2019-11-19', 'KMX'), ('2019-11-19', 'NDAQ'), ('2019-11-19', 'HUM'), ('2019-11-19', 'FBHS'), ('2019-11-19', 'KO'), ('2019-11-19', 'SWKS'), ('2019-11-19', 'REGN'), ('2019-11-19', 'SHW'), ('2019-11-19', 'SIVB')]\n",
      " /!\\ Attention! On retire les lignes NA! /!\\ \n",
      "Il y a  40  erreurs pour les tupples  [('2019-11-20', 'CAH'), ('2019-11-20', 'VRTX'), ('2019-11-20', 'AMZN'), ('2019-11-20', 'MCK'), ('2019-11-20', 'CNC'), ('2019-11-20', 'XRX'), ('2019-11-20', 'MAR'), ('2019-11-20', 'MAS'), ('2019-11-20', 'CI'), ('2019-11-20', 'KMX'), ('2019-11-20', 'NDAQ'), ('2019-11-20', 'HUM'), ('2019-11-20', 'FBHS'), ('2019-11-20', 'KO'), ('2019-11-20', 'SWKS'), ('2019-11-20', 'REGN'), ('2019-11-20', 'FISV'), ('2019-11-20', 'SHW'), ('2019-11-20', 'SIVB'), ('2019-11-20', 'DHI'), ('2019-11-20', 'DHR'), ('2019-11-20', 'NCLH'), ('2019-11-19', 'VRTX'), ('2019-11-19', 'AMZN'), ('2019-11-19', 'MCK'), ('2019-11-19', 'CNC'), ('2019-11-19', 'XRX'), ('2019-11-19', 'MAR'), ('2019-11-19', 'MAS'), ('2019-11-19', 'CI'), ('2019-11-19', 'KMX'), ('2019-11-19', 'NDAQ'), ('2019-11-19', 'HUM'), ('2019-11-19', 'FBHS'), ('2019-11-19', 'KO'), ('2019-11-19', 'SWKS'), ('2019-11-19', 'REGN'), ('2019-11-19', 'SHW'), ('2019-11-19', 'SIVB'), ('2019-11-19', 'DHI')]\n",
      " /!\\ Attention! On retire les lignes NA! /!\\ \n",
      "Il y a  41  erreurs pour les tupples  [('2019-11-20', 'CAH'), ('2019-11-20', 'VRTX'), ('2019-11-20', 'AMZN'), ('2019-11-20', 'MCK'), ('2019-11-20', 'CNC'), ('2019-11-20', 'XRX'), ('2019-11-20', 'MAR'), ('2019-11-20', 'MAS'), ('2019-11-20', 'CI'), ('2019-11-20', 'KMX'), ('2019-11-20', 'NDAQ'), ('2019-11-20', 'HUM'), ('2019-11-20', 'FBHS'), ('2019-11-20', 'KO'), ('2019-11-20', 'SWKS'), ('2019-11-20', 'REGN'), ('2019-11-20', 'FISV'), ('2019-11-20', 'SHW'), ('2019-11-20', 'SIVB'), ('2019-11-20', 'DHI'), ('2019-11-20', 'DHR'), ('2019-11-20', 'NCLH'), ('2019-11-19', 'VRTX'), ('2019-11-19', 'AMZN'), ('2019-11-19', 'MCK'), ('2019-11-19', 'CNC'), ('2019-11-19', 'XRX'), ('2019-11-19', 'MAR'), ('2019-11-19', 'MAS'), ('2019-11-19', 'CI'), ('2019-11-19', 'KMX'), ('2019-11-19', 'NDAQ'), ('2019-11-19', 'HUM'), ('2019-11-19', 'FBHS'), ('2019-11-19', 'KO'), ('2019-11-19', 'SWKS'), ('2019-11-19', 'REGN'), ('2019-11-19', 'SHW'), ('2019-11-19', 'SIVB'), ('2019-11-19', 'DHI'), ('2019-11-19', 'DHR')]\n",
      " /!\\ Attention! On retire les lignes NA! /!\\ \n",
      "Il y a  42  erreurs pour les tupples  [('2019-11-20', 'CAH'), ('2019-11-20', 'VRTX'), ('2019-11-20', 'AMZN'), ('2019-11-20', 'MCK'), ('2019-11-20', 'CNC'), ('2019-11-20', 'XRX'), ('2019-11-20', 'MAR'), ('2019-11-20', 'MAS'), ('2019-11-20', 'CI'), ('2019-11-20', 'KMX'), ('2019-11-20', 'NDAQ'), ('2019-11-20', 'HUM'), ('2019-11-20', 'FBHS'), ('2019-11-20', 'KO'), ('2019-11-20', 'SWKS'), ('2019-11-20', 'REGN'), ('2019-11-20', 'FISV'), ('2019-11-20', 'SHW'), ('2019-11-20', 'SIVB'), ('2019-11-20', 'DHI'), ('2019-11-20', 'DHR'), ('2019-11-20', 'NCLH'), ('2019-11-19', 'VRTX'), ('2019-11-19', 'AMZN'), ('2019-11-19', 'MCK'), ('2019-11-19', 'CNC'), ('2019-11-19', 'XRX'), ('2019-11-19', 'MAR'), ('2019-11-19', 'MAS'), ('2019-11-19', 'CI'), ('2019-11-19', 'KMX'), ('2019-11-19', 'NDAQ'), ('2019-11-19', 'HUM'), ('2019-11-19', 'FBHS'), ('2019-11-19', 'KO'), ('2019-11-19', 'SWKS'), ('2019-11-19', 'REGN'), ('2019-11-19', 'SHW'), ('2019-11-19', 'SIVB'), ('2019-11-19', 'DHI'), ('2019-11-19', 'DHR'), ('2019-11-19', 'NCLH')]\n",
      " /!\\ Attention! On retire les lignes NA! /!\\ \n"
     ]
    },
    {
     "ename": "KeyError",
     "evalue": "'Date'",
     "output_type": "error",
     "traceback": [
      "\u001b[0;31m---------------------------------------------------------------------------\u001b[0m",
      "\u001b[0;31mKeyError\u001b[0m                                  Traceback (most recent call last)",
      "\u001b[0;32m~/Applications/anaconda3/envs/LumberJack/lib/python3.6/site-packages/pandas/core/indexes/base.py\u001b[0m in \u001b[0;36mget_loc\u001b[0;34m(self, key, method, tolerance)\u001b[0m\n\u001b[1;32m   2896\u001b[0m             \u001b[0;32mtry\u001b[0m\u001b[0;34m:\u001b[0m\u001b[0;34m\u001b[0m\u001b[0;34m\u001b[0m\u001b[0m\n\u001b[0;32m-> 2897\u001b[0;31m                 \u001b[0;32mreturn\u001b[0m \u001b[0mself\u001b[0m\u001b[0;34m.\u001b[0m\u001b[0m_engine\u001b[0m\u001b[0;34m.\u001b[0m\u001b[0mget_loc\u001b[0m\u001b[0;34m(\u001b[0m\u001b[0mkey\u001b[0m\u001b[0;34m)\u001b[0m\u001b[0;34m\u001b[0m\u001b[0;34m\u001b[0m\u001b[0m\n\u001b[0m\u001b[1;32m   2898\u001b[0m             \u001b[0;32mexcept\u001b[0m \u001b[0mKeyError\u001b[0m\u001b[0;34m:\u001b[0m\u001b[0;34m\u001b[0m\u001b[0;34m\u001b[0m\u001b[0m\n",
      "\u001b[0;32mpandas/_libs/index.pyx\u001b[0m in \u001b[0;36mpandas._libs.index.IndexEngine.get_loc\u001b[0;34m()\u001b[0m\n",
      "\u001b[0;32mpandas/_libs/index.pyx\u001b[0m in \u001b[0;36mpandas._libs.index.IndexEngine.get_loc\u001b[0;34m()\u001b[0m\n",
      "\u001b[0;32mpandas/_libs/hashtable_class_helper.pxi\u001b[0m in \u001b[0;36mpandas._libs.hashtable.PyObjectHashTable.get_item\u001b[0;34m()\u001b[0m\n",
      "\u001b[0;32mpandas/_libs/hashtable_class_helper.pxi\u001b[0m in \u001b[0;36mpandas._libs.hashtable.PyObjectHashTable.get_item\u001b[0;34m()\u001b[0m\n",
      "\u001b[0;31mKeyError\u001b[0m: 'Date'",
      "\nDuring handling of the above exception, another exception occurred:\n",
      "\u001b[0;31mKeyError\u001b[0m                                  Traceback (most recent call last)",
      "\u001b[0;32m<ipython-input-46-aaba7d21d6e5>\u001b[0m in \u001b[0;36m<module>\u001b[0;34m\u001b[0m\n\u001b[1;32m    178\u001b[0m \u001b[0;34m\u001b[0m\u001b[0m\n\u001b[1;32m    179\u001b[0m \u001b[0mdf\u001b[0m \u001b[0;34m=\u001b[0m \u001b[0mpd\u001b[0m\u001b[0;34m.\u001b[0m\u001b[0mDataFrame\u001b[0m\u001b[0;34m(\u001b[0m\u001b[0;34m)\u001b[0m\u001b[0;34m\u001b[0m\u001b[0;34m\u001b[0m\u001b[0m\n\u001b[0;32m--> 180\u001b[0;31m \u001b[0;32mfor\u001b[0m \u001b[0mbar\u001b[0m \u001b[0;32min\u001b[0m \u001b[0msorted\u001b[0m\u001b[0;34m(\u001b[0m\u001b[0mset\u001b[0m\u001b[0;34m(\u001b[0m\u001b[0mtickerdf\u001b[0m\u001b[0;34m[\u001b[0m\u001b[0;34m'Date'\u001b[0m\u001b[0;34m]\u001b[0m\u001b[0;34m)\u001b[0m\u001b[0;34m)\u001b[0m\u001b[0;34m:\u001b[0m\u001b[0;34m\u001b[0m\u001b[0;34m\u001b[0m\u001b[0m\n\u001b[0m\u001b[1;32m    181\u001b[0m     \u001b[0mdf\u001b[0m\u001b[0;34m[\u001b[0m\u001b[0;34m'Date'\u001b[0m\u001b[0;34m]\u001b[0m \u001b[0;34m=\u001b[0m \u001b[0mpd\u001b[0m\u001b[0;34m.\u001b[0m\u001b[0mDataFrame\u001b[0m\u001b[0;34m(\u001b[0m\u001b[0;34m[\u001b[0m\u001b[0mbar\u001b[0m\u001b[0;34m]\u001b[0m\u001b[0;34m,\u001b[0m\u001b[0mcolumns\u001b[0m\u001b[0;34m=\u001b[0m\u001b[0;34m[\u001b[0m\u001b[0;34m'Date'\u001b[0m\u001b[0;34m]\u001b[0m\u001b[0;34m)\u001b[0m\u001b[0;34m\u001b[0m\u001b[0;34m\u001b[0m\u001b[0m\n\u001b[1;32m    182\u001b[0m     \u001b[0mdf\u001b[0m\u001b[0;34m[\u001b[0m\u001b[0;34m'Nbre Positions'\u001b[0m\u001b[0;34m]\u001b[0m \u001b[0;34m=\u001b[0m \u001b[0mpd\u001b[0m\u001b[0;34m.\u001b[0m\u001b[0mDataFrame\u001b[0m\u001b[0;34m(\u001b[0m\u001b[0;34m[\u001b[0m\u001b[0mtickerdf\u001b[0m\u001b[0;34m[\u001b[0m\u001b[0mtickerdf\u001b[0m\u001b[0;34m[\u001b[0m\u001b[0;34m'Date'\u001b[0m\u001b[0;34m]\u001b[0m\u001b[0;34m==\u001b[0m\u001b[0mbar\u001b[0m\u001b[0;34m]\u001b[0m\u001b[0;34m.\u001b[0m\u001b[0mshape\u001b[0m\u001b[0;34m[\u001b[0m\u001b[0;36m0\u001b[0m\u001b[0;34m]\u001b[0m\u001b[0;34m]\u001b[0m\u001b[0;34m,\u001b[0m\u001b[0mcolumns\u001b[0m\u001b[0;34m=\u001b[0m\u001b[0;34m[\u001b[0m\u001b[0;34m'Nbre Positions'\u001b[0m\u001b[0;34m]\u001b[0m\u001b[0;34m)\u001b[0m\u001b[0;34m\u001b[0m\u001b[0;34m\u001b[0m\u001b[0m\n",
      "\u001b[0;32m~/Applications/anaconda3/envs/LumberJack/lib/python3.6/site-packages/pandas/core/frame.py\u001b[0m in \u001b[0;36m__getitem__\u001b[0;34m(self, key)\u001b[0m\n\u001b[1;32m   2993\u001b[0m             \u001b[0;32mif\u001b[0m \u001b[0mself\u001b[0m\u001b[0;34m.\u001b[0m\u001b[0mcolumns\u001b[0m\u001b[0;34m.\u001b[0m\u001b[0mnlevels\u001b[0m \u001b[0;34m>\u001b[0m \u001b[0;36m1\u001b[0m\u001b[0;34m:\u001b[0m\u001b[0;34m\u001b[0m\u001b[0;34m\u001b[0m\u001b[0m\n\u001b[1;32m   2994\u001b[0m                 \u001b[0;32mreturn\u001b[0m \u001b[0mself\u001b[0m\u001b[0;34m.\u001b[0m\u001b[0m_getitem_multilevel\u001b[0m\u001b[0;34m(\u001b[0m\u001b[0mkey\u001b[0m\u001b[0;34m)\u001b[0m\u001b[0;34m\u001b[0m\u001b[0;34m\u001b[0m\u001b[0m\n\u001b[0;32m-> 2995\u001b[0;31m             \u001b[0mindexer\u001b[0m \u001b[0;34m=\u001b[0m \u001b[0mself\u001b[0m\u001b[0;34m.\u001b[0m\u001b[0mcolumns\u001b[0m\u001b[0;34m.\u001b[0m\u001b[0mget_loc\u001b[0m\u001b[0;34m(\u001b[0m\u001b[0mkey\u001b[0m\u001b[0;34m)\u001b[0m\u001b[0;34m\u001b[0m\u001b[0;34m\u001b[0m\u001b[0m\n\u001b[0m\u001b[1;32m   2996\u001b[0m             \u001b[0;32mif\u001b[0m \u001b[0mis_integer\u001b[0m\u001b[0;34m(\u001b[0m\u001b[0mindexer\u001b[0m\u001b[0;34m)\u001b[0m\u001b[0;34m:\u001b[0m\u001b[0;34m\u001b[0m\u001b[0;34m\u001b[0m\u001b[0m\n\u001b[1;32m   2997\u001b[0m                 \u001b[0mindexer\u001b[0m \u001b[0;34m=\u001b[0m \u001b[0;34m[\u001b[0m\u001b[0mindexer\u001b[0m\u001b[0;34m]\u001b[0m\u001b[0;34m\u001b[0m\u001b[0;34m\u001b[0m\u001b[0m\n",
      "\u001b[0;32m~/Applications/anaconda3/envs/LumberJack/lib/python3.6/site-packages/pandas/core/indexes/base.py\u001b[0m in \u001b[0;36mget_loc\u001b[0;34m(self, key, method, tolerance)\u001b[0m\n\u001b[1;32m   2897\u001b[0m                 \u001b[0;32mreturn\u001b[0m \u001b[0mself\u001b[0m\u001b[0;34m.\u001b[0m\u001b[0m_engine\u001b[0m\u001b[0;34m.\u001b[0m\u001b[0mget_loc\u001b[0m\u001b[0;34m(\u001b[0m\u001b[0mkey\u001b[0m\u001b[0;34m)\u001b[0m\u001b[0;34m\u001b[0m\u001b[0;34m\u001b[0m\u001b[0m\n\u001b[1;32m   2898\u001b[0m             \u001b[0;32mexcept\u001b[0m \u001b[0mKeyError\u001b[0m\u001b[0;34m:\u001b[0m\u001b[0;34m\u001b[0m\u001b[0;34m\u001b[0m\u001b[0m\n\u001b[0;32m-> 2899\u001b[0;31m                 \u001b[0;32mreturn\u001b[0m \u001b[0mself\u001b[0m\u001b[0;34m.\u001b[0m\u001b[0m_engine\u001b[0m\u001b[0;34m.\u001b[0m\u001b[0mget_loc\u001b[0m\u001b[0;34m(\u001b[0m\u001b[0mself\u001b[0m\u001b[0;34m.\u001b[0m\u001b[0m_maybe_cast_indexer\u001b[0m\u001b[0;34m(\u001b[0m\u001b[0mkey\u001b[0m\u001b[0;34m)\u001b[0m\u001b[0;34m)\u001b[0m\u001b[0;34m\u001b[0m\u001b[0;34m\u001b[0m\u001b[0m\n\u001b[0m\u001b[1;32m   2900\u001b[0m         \u001b[0mindexer\u001b[0m \u001b[0;34m=\u001b[0m \u001b[0mself\u001b[0m\u001b[0;34m.\u001b[0m\u001b[0mget_indexer\u001b[0m\u001b[0;34m(\u001b[0m\u001b[0;34m[\u001b[0m\u001b[0mkey\u001b[0m\u001b[0;34m]\u001b[0m\u001b[0;34m,\u001b[0m \u001b[0mmethod\u001b[0m\u001b[0;34m=\u001b[0m\u001b[0mmethod\u001b[0m\u001b[0;34m,\u001b[0m \u001b[0mtolerance\u001b[0m\u001b[0;34m=\u001b[0m\u001b[0mtolerance\u001b[0m\u001b[0;34m)\u001b[0m\u001b[0;34m\u001b[0m\u001b[0;34m\u001b[0m\u001b[0m\n\u001b[1;32m   2901\u001b[0m         \u001b[0;32mif\u001b[0m \u001b[0mindexer\u001b[0m\u001b[0;34m.\u001b[0m\u001b[0mndim\u001b[0m \u001b[0;34m>\u001b[0m \u001b[0;36m1\u001b[0m \u001b[0;32mor\u001b[0m \u001b[0mindexer\u001b[0m\u001b[0;34m.\u001b[0m\u001b[0msize\u001b[0m \u001b[0;34m>\u001b[0m \u001b[0;36m1\u001b[0m\u001b[0;34m:\u001b[0m\u001b[0;34m\u001b[0m\u001b[0;34m\u001b[0m\u001b[0m\n",
      "\u001b[0;32mpandas/_libs/index.pyx\u001b[0m in \u001b[0;36mpandas._libs.index.IndexEngine.get_loc\u001b[0;34m()\u001b[0m\n",
      "\u001b[0;32mpandas/_libs/index.pyx\u001b[0m in \u001b[0;36mpandas._libs.index.IndexEngine.get_loc\u001b[0;34m()\u001b[0m\n",
      "\u001b[0;32mpandas/_libs/hashtable_class_helper.pxi\u001b[0m in \u001b[0;36mpandas._libs.hashtable.PyObjectHashTable.get_item\u001b[0;34m()\u001b[0m\n",
      "\u001b[0;32mpandas/_libs/hashtable_class_helper.pxi\u001b[0m in \u001b[0;36mpandas._libs.hashtable.PyObjectHashTable.get_item\u001b[0;34m()\u001b[0m\n",
      "\u001b[0;31mKeyError\u001b[0m: 'Date'"
     ]
    }
   ],
   "source": [
    "try :\n",
    "    list_poz = sorted(os.listdir('Relev_poz/'))\n",
    "except:\n",
    "    list_poz = ['!101']\n",
    "    try:\n",
    "        os.mkdir('Relev_poz/')\n",
    "    except:\n",
    "        pass\n",
    "    os.system('say \" Il nia pas de répertoire validee. Arrêt du programme. A demain.\"')\n",
    "    sys.exit(\"Il n'y a pas de nouveau relevé de position valable. Arrêt du programme. A demain. \\n \\n \\n ;) \")\n",
    "\n",
    "try:\n",
    "    list_poz = [list_poz[x] for x in range(len(list_poz)) if list_poz[x][:9] == 'RelevPoz_' ]\n",
    "    \n",
    "except:\n",
    "    list_poz = ['!101']\n",
    "    \n",
    "        \n",
    "if list_poz == ['!101']:\n",
    "    os.system('say \" Il nia pas de nouveau relevé de position valable. Arrêt du programme. A demain.\"')\n",
    "    sys.exit(\"Il n'y a pas de nouveau relevé de position valable. Arrêt du programme. A demain. \\n \\n \\n ;) \")\n",
    "\n",
    "\n",
    "try:\n",
    "    os.mkdir('Relev_poz/Traité/')\n",
    "except:\n",
    "    pass\n",
    "\n",
    "try:\n",
    "    os.mkdir('Relev_poz/Doublons/')\n",
    "except:\n",
    "    pass\n",
    "    \n",
    "RAB = []\n",
    "HORO = []\n",
    "BOO = []\n",
    "CLEAN = []\n",
    "for foo,bar in enumerate(list_poz):\n",
    "    if list_poz[foo][:8] == 'RelevPoz':\n",
    "        rab = bar[9:19].replace('_','')[4:]+bar[9:19].replace('_','')[2:4]+bar[9:19].replace('_','')[:2]\n",
    "        horo = bar[20:].replace('_','')\n",
    "        RAB.append(rab)\n",
    "        HORO.append(horo)\n",
    "for i in set(RAB):\n",
    "    TEMPHORO = []\n",
    "    for j,k in enumerate(RAB):\n",
    "        if i==k:\n",
    "            TEMPHORO.append('RelevPoz_'+k[6:10]+'_'+k[4:6]+'_'+k[:4]+'_'+HORO[j][:2]+'_'+HORO[j][2:4]+'_'+HORO[j][4:])\n",
    "    CLEAN.append(max(TEMPHORO))\n",
    "\n",
    "CLOSE = []\n",
    "ERROR = []\n",
    "\n",
    "def get_creation_date(file):\n",
    "    stat = os.stat(file)\n",
    "    try:\n",
    "        \n",
    "        return stat.st_birthtime\n",
    "    except AttributeError:\n",
    "        return stat.st_mtime\n",
    "\n",
    "try:\n",
    "    LaBase = pd.read_csv('LaBase_adj.csv')\n",
    "    try:\n",
    "        LaBase = LaBase.drop('Unnamed: 0',axis=1)\n",
    "    except:\n",
    "        pass\n",
    "    \n",
    "        \"\"\"\n",
    "    Pour remettre toutes dates de LaBase au même format\n",
    "\n",
    "    LaBase['Date'] = LaBase.Date.apply(\n",
    "        lambda x: pd.to_datetime(x).strftime('%Y-%m-%d'))\n",
    "    \"\"\"   \n",
    "\n",
    "    \n",
    "except:\n",
    "    pass\n",
    "LaBase=LaBase.drop_duplicates(subset=(['Date','Symbol']),keep='last')\n",
    "try:\n",
    "    megadf = pd.read_csv('Relev_poz/Traité/megadf.csv')\n",
    "    try:\n",
    "        megadf = megadf.drop('Unnamed: 0',axis=1)\n",
    "    except:\n",
    "        pass\n",
    "except:\n",
    "    megadf = pd.DataFrame()\n",
    "try:\n",
    "    globaldf = pd.read_csv('Relev_poz/Traité/globaldf.csv')\n",
    "    try:\n",
    "        globaldf = globaldf.drop('Unnamed: 0',axis=1)\n",
    "    except:\n",
    "        pass\n",
    "except:\n",
    "    globaldf = pd.DataFrame()\n",
    "try:\n",
    "    tickerdf = pd.read_csv('Relev_poz/Traité/tickerdf.csv')\n",
    "    try:\n",
    "        tickerdf = tickerdf.drop('Unnamed: 0',axis=1)\n",
    "    except:\n",
    "        pass\n",
    "except:\n",
    "    tickerdf = pd.DataFrame()\n",
    "\n",
    "    \n",
    "for foo,bar in enumerate(CLEAN):\n",
    "    df = (pd.read_csv('Relev_poz/'+bar))\n",
    "    \n",
    "    try:\n",
    "        df = df.drop('Unnamed: 0',axis=1)\n",
    "    except:\n",
    "        pass\n",
    "    \n",
    "    if df.iloc[0,0] == 101:\n",
    "        print('On skippe le premier fichier de début de trade => Pas de positions')\n",
    "        continue\n",
    "     \n",
    "    creation_date = dt.datetime.fromtimestamp(get_creation_date(file='Relev_poz/'+bar))\n",
    "    ddate = creation_date\n",
    "    heure = str(creation_date)\n",
    "    jour = creation_date.weekday()\n",
    "    if jour == 6 and heure > '05:00:00' and heure < '23:50:00':\n",
    "        yesterday = str(ddate-dt.timedelta(2))[:5]+str(ddate-dt.timedelta(2))[5:7]+str(ddate-dt.timedelta(2))[7:10]\n",
    "\n",
    "    elif jour == 0 and heure > '05:00:00' and heure < '21:50:00':\n",
    "        yesterday = str(ddate-dt.timedelta(3))[:5]+str(ddate-dt.timedelta(3))[5:7]+str(ddate-dt.timedelta(3))[7:10]\n",
    "        \n",
    "    elif jour == 1 and heure > '05:00:00' and heure < '21:50:00':\n",
    "        yesterday = str(ddate-dt.timedelta(1))[:5]+str(ddate-dt.timedelta(1))[5:7]+str(ddate-dt.timedelta(1))[7:10]        \n",
    "\n",
    "    elif jour == 2 and heure > '05:00:00' and heure < '21:50:00':\n",
    "        yesterday = str(ddate-dt.timedelta(1))[:5]+str(ddate-dt.timedelta(1))[5:7]+str(ddate-dt.timedelta(1))[7:10]\n",
    "\n",
    "    elif jour == 3 and heure > '05:00:00' and heure < '21:50:00':\n",
    "        yesterday = str(ddate-dt.timedelta(1))[:5]+str(ddate-dt.timedelta(1))[5:7]+str(ddate-dt.timedelta(1))[7:10]\n",
    "\n",
    "    elif jour == 4 and heure > '05:00:00' and heure < '21:50:00':\n",
    "        yesterday = str(ddate-dt.timedelta(1))[:5]+str(ddate-dt.timedelta(1))[5:7]+str(ddate-dt.timedelta(1))[7:10]\n",
    "    else:\n",
    "        os.system('say \"Nous ne sommes pas dans un créneau où il est pertient dopérer\"')\n",
    "        os.exit(\"Nous ne sommes pas dans un créneau où il est pertient d'opérer\")\n",
    "\n",
    "    \n",
    "    for titi in range(0,len(df)):\n",
    "        try:\n",
    "            CLOSE.append(round(float(LaBase[(LaBase['Date']==yesterday)&(LaBase['Symbol']==df.iloc[titi]['Ticker'])].Close),2))\n",
    "        except:\n",
    "            CLOSE.append('NA')\n",
    "            ERROR.append((yesterday,df.iloc[titi]['Ticker']))\n",
    "            print('Il y a ',len(ERROR),' erreurs pour les tupples ', ERROR)\n",
    "            print(' /!\\ Attention! On retire les lignes NA! /!\\ ')\n",
    "    \n",
    "    df['Average Cost'] = round(df['Average Cost'],2)\n",
    "    df['Date du Relevé'] = bar[15:19]+'-'+bar[12:14]+'-'+bar[9:11]\n",
    "    df['Exposition'] = round(df['Quantité'] * df['Average Cost'],2)\n",
    "    df['Date'] = yesterday\n",
    "    df['Close'] = CLOSE\n",
    "    df = df[df['Close'] != 'NA']\n",
    "    df['Latent PnL'] = (df['Close'] - df['Average Cost']) * df['Quantité']\n",
    "    df = df[['Date du Relevé','Compte','Type','Ticker','Quantité','Average Cost','Exposition','Date','Close','Latent PnL']]\n",
    "    CLOSE = []\n",
    "    megadf = pd.concat((megadf,df), ignore_index=True)\n",
    "\n",
    "\n",
    "    \n",
    "df1 = pd.DataFrame()\n",
    "for foo,bar in enumerate(megadf['Ticker'].unique()):\n",
    "    df = megadf[megadf['Ticker'] == bar]\n",
    "    df1['Date'] = pd.DataFrame([df.iloc[-1]['Date']], columns=['Date'])\n",
    "    df1['Compte'] = pd.DataFrame([df.iloc[-1]['Compte']], columns=['Compte'])\n",
    "    df1['Ticker'] = pd.DataFrame([bar], columns=['Ticker'])\n",
    "    df1['Type'] = pd.DataFrame([df.iloc[-1]['Type']], columns=['Type'])\n",
    "    df1['Quantité'] = pd.DataFrame([df['Quantité'].sum()],columns=['Quantité'])\n",
    "    df1['Exposition'] = pd.DataFrame([df['Exposition'].sum()],columns=['Exposition'])\n",
    "    df1['Latent PnL'] = pd.DataFrame([df['Latent PnL'].sum()],columns=['Latent PnL'])\n",
    "\n",
    "    tickerdf = pd.concat((tickerdf,df1),ignore_index=True)\n",
    "\n",
    "df = pd.DataFrame()\n",
    "for bar in sorted(set(tickerdf['Date'])):\n",
    "    df['Date'] = pd.DataFrame([bar],columns=['Date'])\n",
    "    df['Nbre Positions'] = pd.DataFrame([tickerdf[tickerdf['Date']==bar].shape[0]],columns=['Nbre Positions'])\n",
    "    df['Nbre Tickers'] = pd.DataFrame([tickerdf[(tickerdf['Date']==bar) & (tickerdf['Ticker'])]['Ticker'].unique().shape[0]],columns=['Nbre Tickers'])\n",
    "    df['Nbre Long'] = pd.DataFrame([tickerdf[(tickerdf['Date']==bar)&(tickerdf['Quantité']>0)].shape[0]],columns=['Nbre Long'])\n",
    "    df['Nbre Short'] = pd.DataFrame([tickerdf[(tickerdf['Date']==bar)&(tickerdf['Quantité']<0)].shape[0]],columns=['Nbre Short'])\n",
    "    df['Exposition Long'] = pd.DataFrame([tickerdf[(tickerdf['Date']==bar)&(tickerdf['Quantité']>0)]['Exposition'].sum()],columns=['Exposition Long'])\n",
    "    df['Exposition Short'] = pd.DataFrame([tickerdf[(tickerdf['Date']==bar)&(tickerdf['Quantité']<0)]['Exposition'].sum()],columns=['Exposition Short'])\n",
    "    df['Exposition Totale'] = pd.DataFrame([tickerdf[(tickerdf['Date']==bar)&(tickerdf['Quantité'])]['Exposition'].sum()],columns=['Exposition Totale'])\n",
    "    df['Latent PnL'] = pd.DataFrame([tickerdf[(tickerdf['Date']==bar)]['Latent PnL'].sum()],columns=['Latent PnL'])\n",
    "    globaldf = pd.concat((globaldf,df),ignore_index=True)\n",
    "    \n",
    "\n",
    "megadf = megadf.drop_duplicates()\n",
    "tickerdf = tickerdf.drop_duplicates()\n",
    "globaldf = globaldf.drop_duplicates()\n",
    "\n",
    "megadf.to_csv('Relev_poz/Traité/megadf.csv')\n",
    "tickerdf.to_csv('Relev_poz/Traité/tickerdf.csv')\n",
    "globaldf.to_csv('Relev_poz/Traité/globaldf.csv')\n",
    "\n",
    "for file in CLEAN:\n",
    "    shutil.move('Relev_poz/'+file,'Relev_poz/Traité/'+file)\n",
    "list_poz = sorted(os.listdir('Relev_poz/'))\n",
    "for file in list_poz:\n",
    "    if file[:9] == 'RelevPoz_':\n",
    "        shutil.move('Relev_poz/'+file,'Relev_poz/Doublons/'+file)\n"
   ]
  },
  {
   "cell_type": "code",
   "execution_count": 22,
   "metadata": {},
   "outputs": [
    {
     "data": {
      "text/plain": [
       "['.DS_Store',\n",
       " 'BCF01599.pdf',\n",
       " 'RelevPoz_19_11_2019_12_17_52.csv',\n",
       " 'RelevPoz_20_11_2019_16_03_15.csv',\n",
       " 'RelevPoz_21_11_2019_11_58_34.csv']"
      ]
     },
     "execution_count": 22,
     "metadata": {},
     "output_type": "execute_result"
    }
   ],
   "source": [
    "list_poz = sorted(os.listdir('Relev_poz/'))#[1][:9]\n",
    "list_poz"
   ]
  },
  {
   "cell_type": "code",
   "execution_count": 24,
   "metadata": {},
   "outputs": [
    {
     "data": {
      "text/plain": [
       "'BCF01599.pdf'"
      ]
     },
     "execution_count": 24,
     "metadata": {},
     "output_type": "execute_result"
    }
   ],
   "source": [
    "list_poz[list_poz[:9]=='RelevPoz_']"
   ]
  },
  {
   "cell_type": "code",
   "execution_count": 17,
   "metadata": {},
   "outputs": [
    {
     "data": {
      "text/plain": [
       "['.DS_Store',\n",
       " 'RelevPoz_19_11_2019_12_17_52.csv',\n",
       " 'RelevPoz_20_11_2019_16_03_15.csv',\n",
       " 'RelevPoz_21_11_2019_11_58_34.csv']"
      ]
     },
     "execution_count": 17,
     "metadata": {},
     "output_type": "execute_result"
    }
   ],
   "source": [
    "list_poz[:9]"
   ]
  },
  {
   "cell_type": "code",
   "execution_count": 19,
   "metadata": {},
   "outputs": [],
   "source": [
    "list_poz.remove(list_poz[list_poz[:9]=='RelevPoz_'])"
   ]
  },
  {
   "cell_type": "code",
   "execution_count": 21,
   "metadata": {},
   "outputs": [
    {
     "data": {
      "text/plain": [
       "['RelevPoz_19_11_2019_12_17_52.csv',\n",
       " 'RelevPoz_20_11_2019_16_03_15.csv',\n",
       " 'RelevPoz_21_11_2019_11_58_34.csv']"
      ]
     },
     "execution_count": 21,
     "metadata": {},
     "output_type": "execute_result"
    }
   ],
   "source": [
    "list_poz"
   ]
  },
  {
   "cell_type": "code",
   "execution_count": 47,
   "metadata": {},
   "outputs": [
    {
     "data": {
      "text/plain": [
       "2"
      ]
     },
     "execution_count": 47,
     "metadata": {},
     "output_type": "execute_result"
    }
   ],
   "source": [
    "foo"
   ]
  },
  {
   "cell_type": "code",
   "execution_count": 42,
   "metadata": {},
   "outputs": [
    {
     "data": {
      "text/plain": [
       "True"
      ]
     },
     "execution_count": 42,
     "metadata": {},
     "output_type": "execute_result"
    }
   ],
   "source": [
    "df.iloc[0,0]==101"
   ]
  },
  {
   "cell_type": "code",
   "execution_count": 45,
   "metadata": {},
   "outputs": [
    {
     "data": {
      "text/plain": [
       "['RelevPoz_19_11_2019_12_17_52.csv',\n",
       " 'RelevPoz_21_11_2019_11_58_34.csv',\n",
       " 'RelevPoz_20_11_2019_16_03_15.csv']"
      ]
     },
     "execution_count": 45,
     "metadata": {},
     "output_type": "execute_result"
    }
   ],
   "source": [
    "CLEAN"
   ]
  },
  {
   "cell_type": "code",
   "execution_count": 48,
   "metadata": {},
   "outputs": [
    {
     "data": {
      "text/html": [
       "<div>\n",
       "<style scoped>\n",
       "    .dataframe tbody tr th:only-of-type {\n",
       "        vertical-align: middle;\n",
       "    }\n",
       "\n",
       "    .dataframe tbody tr th {\n",
       "        vertical-align: top;\n",
       "    }\n",
       "\n",
       "    .dataframe thead th {\n",
       "        text-align: right;\n",
       "    }\n",
       "</style>\n",
       "<table border=\"1\" class=\"dataframe\">\n",
       "  <thead>\n",
       "    <tr style=\"text-align: right;\">\n",
       "      <th></th>\n",
       "    </tr>\n",
       "  </thead>\n",
       "  <tbody>\n",
       "  </tbody>\n",
       "</table>\n",
       "</div>"
      ],
      "text/plain": [
       "Empty DataFrame\n",
       "Columns: []\n",
       "Index: []"
      ]
     },
     "execution_count": 48,
     "metadata": {},
     "output_type": "execute_result"
    }
   ],
   "source": [
    "df"
   ]
  },
  {
   "cell_type": "code",
   "execution_count": null,
   "metadata": {},
   "outputs": [],
   "source": []
  }
 ],
 "metadata": {
  "kernelspec": {
   "display_name": "Python 3",
   "language": "python",
   "name": "python3"
  },
  "language_info": {
   "codemirror_mode": {
    "name": "ipython",
    "version": 3
   },
   "file_extension": ".py",
   "mimetype": "text/x-python",
   "name": "python",
   "nbconvert_exporter": "python",
   "pygments_lexer": "ipython3",
   "version": "3.6.8"
  }
 },
 "nbformat": 4,
 "nbformat_minor": 2
}
