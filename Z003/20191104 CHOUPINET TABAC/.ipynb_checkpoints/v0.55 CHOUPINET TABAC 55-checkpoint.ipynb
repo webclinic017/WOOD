{
 "cells": [
  {
   "cell_type": "code",
   "execution_count": 1,
   "metadata": {},
   "outputs": [],
   "source": [
    "def clearall():\n",
    "    all = [var for var in globals() if var[0] != \"_\"]\n",
    "    for var in all:\n",
    "        del globals()[var]\n",
    "clearall()"
   ]
  },
  {
   "cell_type": "code",
   "execution_count": 2,
   "metadata": {},
   "outputs": [],
   "source": [
    "import pandas as pd\n",
    "import os\n",
    "import shutil\n",
    "import smtplib\n",
    "import mimetypes\n",
    "from email.message import EmailMessage\n",
    "from bs4 import BeautifulSoup\n",
    "import time\n",
    "from colorama import Fore, Back, Style"
   ]
  },
  {
   "cell_type": "code",
   "execution_count": 3,
   "metadata": {},
   "outputs": [
    {
     "name": "stdout",
     "output_type": "stream",
     "text": [
      "Global Optimized LumberJack Environment Motor 55\n",
      "LumberJack Jyss 5780(c)\n",
      "\u001b[34m °0Oo_D.A.G._26_oO0°\n",
      "\u001b[33m \u001b[44m CHOUPINET TABAC v0.55 \u001b[0m\n",
      "\n"
     ]
    }
   ],
   "source": [
    "___Author___='LumberJack Jyss'\n",
    "print('Global Optimized LumberJack Environment Motor 55\\nLumberJack Jyss 5780(c)')\n",
    "print(Fore.BLUE,'°0Oo_D.A.G._26_oO0°')\n",
    "print(Fore.YELLOW,Back.BLUE,'CHOUPINET TABAC v0.55',Style.RESET_ALL)\n",
    "\n",
    "print('')"
   ]
  },
  {
   "cell_type": "code",
   "execution_count": 10,
   "metadata": {},
   "outputs": [],
   "source": [
    "df = pd.read_csv('tabac_53.csv')"
   ]
  },
  {
   "cell_type": "code",
   "execution_count": 11,
   "metadata": {},
   "outputs": [
    {
     "data": {
      "text/html": [
       "<div>\n",
       "<style scoped>\n",
       "    .dataframe tbody tr th:only-of-type {\n",
       "        vertical-align: middle;\n",
       "    }\n",
       "\n",
       "    .dataframe tbody tr th {\n",
       "        vertical-align: top;\n",
       "    }\n",
       "\n",
       "    .dataframe thead th {\n",
       "        text-align: right;\n",
       "    }\n",
       "</style>\n",
       "<table border=\"1\" class=\"dataframe\">\n",
       "  <thead>\n",
       "    <tr style=\"text-align: right;\">\n",
       "      <th></th>\n",
       "      <th>Nom</th>\n",
       "      <th>Adresse</th>\n",
       "      <th>Téléphone</th>\n",
       "    </tr>\n",
       "  </thead>\n",
       "  <tbody>\n",
       "    <tr>\n",
       "      <th>0</th>\n",
       "      <td>La Civette</td>\n",
       "      <td>53 Rue Du General De Gaul</td>\n",
       "      <td>02 43 66 13 56</td>\n",
       "    </tr>\n",
       "    <tr>\n",
       "      <th>1</th>\n",
       "      <td>Robinet Françoise</td>\n",
       "      <td>12 Ter place Eglise</td>\n",
       "      <td>02 43 37 33 94</td>\n",
       "    </tr>\n",
       "    <tr>\n",
       "      <th>2</th>\n",
       "      <td>Guellier Michel</td>\n",
       "      <td>50 rue Victor Boissel</td>\n",
       "      <td>02 43 53 27 77</td>\n",
       "    </tr>\n",
       "    <tr>\n",
       "      <th>3</th>\n",
       "      <td>Guillard</td>\n",
       "      <td>27 Rue Maurice Courcelle</td>\n",
       "      <td>09 62 08 62 97</td>\n",
       "    </tr>\n",
       "    <tr>\n",
       "      <th>4</th>\n",
       "      <td>Le Fluvial</td>\n",
       "      <td>13 Quai Waiblingen</td>\n",
       "      <td>02 43 04 15 02</td>\n",
       "    </tr>\n",
       "    <tr>\n",
       "      <th>...</th>\n",
       "      <td>...</td>\n",
       "      <td>...</td>\n",
       "      <td>...</td>\n",
       "    </tr>\n",
       "    <tr>\n",
       "      <th>94</th>\n",
       "      <td>Quenot Michel</td>\n",
       "      <td>20 place Gén de Gaulle</td>\n",
       "      <td>02 33 27 84 67</td>\n",
       "    </tr>\n",
       "    <tr>\n",
       "      <th>95</th>\n",
       "      <td>Aubril</td>\n",
       "      <td>22 rue Constitution</td>\n",
       "      <td>02 33 58 45 69</td>\n",
       "    </tr>\n",
       "    <tr>\n",
       "      <th>96</th>\n",
       "      <td>Le Saint Gaudens</td>\n",
       "      <td>4 Rue St Gaudens</td>\n",
       "      <td>02 33 58 05 88</td>\n",
       "    </tr>\n",
       "    <tr>\n",
       "      <th>97</th>\n",
       "      <td>Lescot</td>\n",
       "      <td>4 Place Littré</td>\n",
       "      <td>02 33 58 27 61</td>\n",
       "    </tr>\n",
       "    <tr>\n",
       "      <th>98</th>\n",
       "      <td>Hôtel Restaurant Alentel</td>\n",
       "      <td>3 Rue de la Pyramide</td>\n",
       "      <td>02 33 29 15 97</td>\n",
       "    </tr>\n",
       "  </tbody>\n",
       "</table>\n",
       "<p>99 rows × 3 columns</p>\n",
       "</div>"
      ],
      "text/plain": [
       "                         Nom                    Adresse       Téléphone\n",
       "0                 La Civette  53 Rue Du General De Gaul  02 43 66 13 56\n",
       "1          Robinet Françoise        12 Ter place Eglise  02 43 37 33 94\n",
       "2            Guellier Michel      50 rue Victor Boissel  02 43 53 27 77\n",
       "3                   Guillard   27 Rue Maurice Courcelle  09 62 08 62 97\n",
       "4                 Le Fluvial         13 Quai Waiblingen  02 43 04 15 02\n",
       "..                       ...                        ...             ...\n",
       "94             Quenot Michel     20 place Gén de Gaulle  02 33 27 84 67\n",
       "95                    Aubril        22 rue Constitution  02 33 58 45 69\n",
       "96          Le Saint Gaudens           4 Rue St Gaudens  02 33 58 05 88\n",
       "97                    Lescot             4 Place Littré  02 33 58 27 61\n",
       "98  Hôtel Restaurant Alentel       3 Rue de la Pyramide  02 33 29 15 97\n",
       "\n",
       "[99 rows x 3 columns]"
      ]
     },
     "execution_count": 11,
     "metadata": {},
     "output_type": "execute_result"
    }
   ],
   "source": [
    "df"
   ]
  },
  {
   "cell_type": "code",
   "execution_count": 18,
   "metadata": {},
   "outputs": [],
   "source": [
    "base = pd.read_csv('base.csv')\n"
   ]
  },
  {
   "cell_type": "code",
   "execution_count": 82,
   "metadata": {},
   "outputs": [
    {
     "name": "stdout",
     "output_type": "stream",
     "text": [
      "5300   CHATEAUROUX\n",
      "5300   CHATEAUROUX\n",
      "5300   CHATEAUROUX\n",
      "5300   CHAILLAC\n",
      "5310   LIGNAC\n",
      "5320   SAINT-BENOIT-DU-SAULT\n",
      "5330   SAINT-BENOIT-DU-SAULT\n",
      "5350   EGUZON-CHANTOME\n",
      "5350   TILLY\n",
      "5350   AMBRAULT\n"
     ]
    }
   ],
   "source": [
    "for i,j in enumerate (sorted(base['CODE POSTAL'])):\n",
    "    if (j[:2]) == '53':\n",
    "        print(j,' ',base.iloc[i]['COMMUNE'])"
   ]
  },
  {
   "cell_type": "code",
   "execution_count": 30,
   "metadata": {},
   "outputs": [],
   "source": [
    "base = base.iloc[:9360,:]"
   ]
  },
  {
   "cell_type": "code",
   "execution_count": 31,
   "metadata": {},
   "outputs": [],
   "source": [
    "VILLE = []\n",
    "CP = []"
   ]
  },
  {
   "cell_type": "code",
   "execution_count": 83,
   "metadata": {},
   "outputs": [],
   "source": [
    "df.to_csv('Tabac_du_53.csv')"
   ]
  },
  {
   "cell_type": "code",
   "execution_count": null,
   "metadata": {},
   "outputs": [],
   "source": []
  }
 ],
 "metadata": {
  "kernelspec": {
   "display_name": "Python 3",
   "language": "python",
   "name": "python3"
  },
  "language_info": {
   "codemirror_mode": {
    "name": "ipython",
    "version": 3
   },
   "file_extension": ".py",
   "mimetype": "text/x-python",
   "name": "python",
   "nbconvert_exporter": "python",
   "pygments_lexer": "ipython3",
   "version": "3.6.8"
  }
 },
 "nbformat": 4,
 "nbformat_minor": 2
}
