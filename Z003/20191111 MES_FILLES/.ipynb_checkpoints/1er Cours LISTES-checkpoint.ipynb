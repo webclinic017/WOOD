{
 "cells": [
  {
   "cell_type": "markdown",
   "metadata": {},
   "source": [
    "# LES LISTES\n",
    "\n",
    "Suite d'information, où on liste les données. Syntaxe : LISTE = [ data_1 , data_2, data_3, ... , data_n]"
   ]
  },
  {
   "cell_type": "code",
   "execution_count": 134,
   "metadata": {},
   "outputs": [],
   "source": [
    "HUDADA = [127, 12, 15, 28, 23, 0, 1] # Convention personnelle : Liste en majuscule"
   ]
  },
  {
   "cell_type": "code",
   "execution_count": 135,
   "metadata": {},
   "outputs": [
    {
     "data": {
      "text/plain": [
       "[127, 12, 15, 28, 23, 0, 1]"
      ]
     },
     "execution_count": 135,
     "metadata": {},
     "output_type": "execute_result"
    }
   ],
   "source": [
    "HUDADA"
   ]
  },
  {
   "cell_type": "code",
   "execution_count": 136,
   "metadata": {},
   "outputs": [
    {
     "data": {
      "text/plain": [
       "7"
      ]
     },
     "execution_count": 136,
     "metadata": {},
     "output_type": "execute_result"
    }
   ],
   "source": [
    "len(HUDADA) # len(LISTE) => renvoie la longueur (length en anglais) de la LISTE"
   ]
  },
  {
   "cell_type": "code",
   "execution_count": 137,
   "metadata": {},
   "outputs": [
    {
     "data": {
      "text/plain": [
       "15"
      ]
     },
     "execution_count": 137,
     "metadata": {},
     "output_type": "execute_result"
    }
   ],
   "source": [
    "HUDADA[2] # => LISTE[n] => renvoie le nième élément de LISTE à condition que n < len(LISTE) avec n commence à 0. (n s'appelle l'index)"
   ]
  },
  {
   "cell_type": "markdown",
   "metadata": {},
   "source": [
    "[élément_0, élémént_1, élément_2 ... élément_n], avec élément peut être n'importe quel nombre"
   ]
  },
  {
   "cell_type": "code",
   "execution_count": 138,
   "metadata": {},
   "outputs": [
    {
     "data": {
      "text/plain": [
       "7"
      ]
     },
     "execution_count": 138,
     "metadata": {},
     "output_type": "execute_result"
    }
   ],
   "source": [
    "len(HUDADA) # j'ai 7 éléments dans ma liste, numéroté de 0 à 6"
   ]
  },
  {
   "cell_type": "code",
   "execution_count": 139,
   "metadata": {},
   "outputs": [
    {
     "data": {
      "text/plain": [
       "2"
      ]
     },
     "execution_count": 139,
     "metadata": {},
     "output_type": "execute_result"
    }
   ],
   "source": [
    "HUDADA.index(15) # LISTE.(élément_n) => Renvoie l'index n de l'élément_n"
   ]
  },
  {
   "cell_type": "code",
   "execution_count": 140,
   "metadata": {},
   "outputs": [],
   "source": [
    "ECURIE = ['Azzaro', 'Coudcoeur', 'Coko Chanel'] # => string veut dire chaine. Entre ' '. "
   ]
  },
  {
   "cell_type": "code",
   "execution_count": 141,
   "metadata": {},
   "outputs": [
    {
     "data": {
      "text/plain": [
       "'Coudcoeur'"
      ]
     },
     "execution_count": 141,
     "metadata": {},
     "output_type": "execute_result"
    }
   ],
   "source": [
    "ECURIE[1]"
   ]
  },
  {
   "cell_type": "code",
   "execution_count": 142,
   "metadata": {},
   "outputs": [
    {
     "data": {
      "text/plain": [
       "0"
      ]
     },
     "execution_count": 142,
     "metadata": {},
     "output_type": "execute_result"
    }
   ],
   "source": [
    "ECURIE.index('Azzaro')"
   ]
  },
  {
   "cell_type": "code",
   "execution_count": 143,
   "metadata": {},
   "outputs": [],
   "source": [
    "Azzaro = 15 # On met la valeur 15 dans la variable Azzaro"
   ]
  },
  {
   "cell_type": "code",
   "execution_count": 144,
   "metadata": {},
   "outputs": [],
   "source": [
    "Coudcoeur = 5 # Convention personnelle : variable en minuscules"
   ]
  },
  {
   "cell_type": "code",
   "execution_count": 145,
   "metadata": {},
   "outputs": [],
   "source": [
    "Coko_Chanel = 6.5 # Attention, la décimale s'écrit avec un point!!!!!!"
   ]
  },
  {
   "cell_type": "code",
   "execution_count": 146,
   "metadata": {},
   "outputs": [],
   "source": [
    "variable1, variable2 = 5,6 # => Je mets 5 dans variable1 et 6 dans variable2"
   ]
  },
  {
   "cell_type": "code",
   "execution_count": 147,
   "metadata": {},
   "outputs": [
    {
     "data": {
      "text/plain": [
       "5"
      ]
     },
     "execution_count": 147,
     "metadata": {},
     "output_type": "execute_result"
    }
   ],
   "source": [
    "variable1"
   ]
  },
  {
   "cell_type": "code",
   "execution_count": 148,
   "metadata": {},
   "outputs": [
    {
     "data": {
      "text/plain": [
       "6"
      ]
     },
     "execution_count": 148,
     "metadata": {},
     "output_type": "execute_result"
    }
   ],
   "source": [
    "variable2"
   ]
  },
  {
   "cell_type": "code",
   "execution_count": 149,
   "metadata": {},
   "outputs": [],
   "source": [
    "variable3 = 7,8 # => Je mets le tuple (couple) 7 et 8 (dans l'ordre) dans ma variable3"
   ]
  },
  {
   "cell_type": "code",
   "execution_count": 150,
   "metadata": {},
   "outputs": [
    {
     "data": {
      "text/plain": [
       "(7, 8)"
      ]
     },
     "execution_count": 150,
     "metadata": {},
     "output_type": "execute_result"
    }
   ],
   "source": [
    "variable3"
   ]
  },
  {
   "cell_type": "code",
   "execution_count": 151,
   "metadata": {},
   "outputs": [],
   "source": [
    "variable4 = (4,'bleu','gentil','lent')"
   ]
  },
  {
   "cell_type": "code",
   "execution_count": 152,
   "metadata": {},
   "outputs": [
    {
     "data": {
      "text/plain": [
       "(4, 'bleu', 'gentil', 'lent')"
      ]
     },
     "execution_count": 152,
     "metadata": {},
     "output_type": "execute_result"
    }
   ],
   "source": [
    "variable4"
   ]
  },
  {
   "cell_type": "code",
   "execution_count": 153,
   "metadata": {},
   "outputs": [],
   "source": [
    "cheval_1 = 'Azzaro', 15, 'Lourd','Lent','Gris'\n",
    "cheval_2 = 'Coudcoeur', 5, 'Affectueux','Rapide','Baie'\n",
    "cheval_3 = 'Coko Chanel', 6.5, 'Electrique', 'Rapide','Gris'\n",
    "PADDOCK =[cheval_1, cheval_2, cheval_3]"
   ]
  },
  {
   "cell_type": "code",
   "execution_count": 154,
   "metadata": {},
   "outputs": [
    {
     "data": {
      "text/plain": [
       "('Coko Chanel', 6.5, 'Electrique', 'Rapide', 'Gris')"
      ]
     },
     "execution_count": 154,
     "metadata": {},
     "output_type": "execute_result"
    }
   ],
   "source": [
    "PADDOCK[2]"
   ]
  },
  {
   "cell_type": "markdown",
   "metadata": {},
   "source": [
    "Pour afficher en console, on marque print(nnn), où nnn est ou une variable, ou une chaine"
   ]
  },
  {
   "cell_type": "code",
   "execution_count": 155,
   "metadata": {},
   "outputs": [
    {
     "name": "stdout",
     "output_type": "stream",
     "text": [
      "Bonjour tout le monde!\n"
     ]
    }
   ],
   "source": [
    "print('Bonjour tout le monde!')"
   ]
  },
  {
   "cell_type": "code",
   "execution_count": 156,
   "metadata": {},
   "outputs": [
    {
     "name": "stdout",
     "output_type": "stream",
     "text": [
      "Je m'appelle Elorie\n"
     ]
    }
   ],
   "source": [
    "print(\"Je m'appelle Elorie\") # => Si j'ai besoin du ' (single quote) dans ma string, je définie ma string avec \" \" (double quote)"
   ]
  },
  {
   "cell_type": "code",
   "execution_count": 157,
   "metadata": {},
   "outputs": [
    {
     "name": "stdout",
     "output_type": "stream",
     "text": [
      "Sa réponse était : \"Pas du tout!\"\n"
     ]
    }
   ],
   "source": [
    "print('Sa réponse était : \"Pas du tout!\"') # => Si j'ai besoin du \" dans ma string, je définie ma string avec ' '"
   ]
  },
  {
   "cell_type": "code",
   "execution_count": 158,
   "metadata": {},
   "outputs": [
    {
     "name": "stdout",
     "output_type": "stream",
     "text": [
      " Et il m'a dit : \"Mais pas du tout\" \n"
     ]
    }
   ],
   "source": [
    "print(\"\"\" Et il m'a dit : \"Mais pas du tout\" \"\"\") # => Si j'ai besoin du ' et du \" dans ma string, je définie ma string avec \"\"\" \"\"\" "
   ]
  },
  {
   "cell_type": "code",
   "execution_count": 159,
   "metadata": {},
   "outputs": [
    {
     "name": "stdout",
     "output_type": "stream",
     "text": [
      "5\n"
     ]
    }
   ],
   "source": [
    "print(Coudcoeur)"
   ]
  },
  {
   "cell_type": "code",
   "execution_count": 160,
   "metadata": {},
   "outputs": [
    {
     "name": "stdout",
     "output_type": "stream",
     "text": [
      "Coudcoeur\n"
     ]
    }
   ],
   "source": [
    "print('Coudcoeur')"
   ]
  },
  {
   "cell_type": "code",
   "execution_count": 161,
   "metadata": {},
   "outputs": [
    {
     "name": "stdout",
     "output_type": "stream",
     "text": [
      "('Azzaro', 15, 'Lourd', 'Lent', 'Gris')\n"
     ]
    }
   ],
   "source": [
    "print(cheval_1)"
   ]
  },
  {
   "cell_type": "code",
   "execution_count": 162,
   "metadata": {},
   "outputs": [
    {
     "name": "stdout",
     "output_type": "stream",
     "text": [
      "('Azzaro', 15, 'Lourd', 'Lent', 'Gris') ('Coudcoeur', 5, 'Affectueux', 'Rapide', 'Baie') ('Coko Chanel', 6.5, 'Electrique', 'Rapide', 'Gris')\n"
     ]
    }
   ],
   "source": [
    "print(cheval_1,cheval_2,cheval_3)"
   ]
  },
  {
   "cell_type": "code",
   "execution_count": 163,
   "metadata": {},
   "outputs": [
    {
     "data": {
      "text/plain": [
       "('Azzaro', 15, 'Lourd', 'Lent')"
      ]
     },
     "execution_count": 163,
     "metadata": {},
     "output_type": "execute_result"
    }
   ],
   "source": [
    "cheval_1[0],cheval_1[1],cheval_1[2],cheval_1[3]"
   ]
  },
  {
   "cell_type": "code",
   "execution_count": 164,
   "metadata": {},
   "outputs": [
    {
     "name": "stdout",
     "output_type": "stream",
     "text": [
      "Ce cheval s'appelle Azzaro , il a  15  ans, il est Lourd  et Lent .\n"
     ]
    }
   ],
   "source": [
    "print(\"Ce cheval s'appelle\", cheval_1[0], \", il a \" ,cheval_1[1],\" ans, il est\", cheval_1[2],\" et\" ,cheval_1[3],\".\")"
   ]
  },
  {
   "cell_type": "code",
   "execution_count": 165,
   "metadata": {},
   "outputs": [
    {
     "data": {
      "text/plain": [
       "6.5"
      ]
     },
     "execution_count": 165,
     "metadata": {},
     "output_type": "execute_result"
    }
   ],
   "source": [
    "PADDOCK[2][1]"
   ]
  },
  {
   "cell_type": "code",
   "execution_count": 166,
   "metadata": {},
   "outputs": [],
   "source": [
    "LISTE1 = [1,2,3,4,5,6]\n",
    "LISTE2 = [2,3,2,6,6,6,8]\n",
    "LISTE = [LISTE1,LISTE2]"
   ]
  },
  {
   "cell_type": "code",
   "execution_count": 167,
   "metadata": {},
   "outputs": [
    {
     "data": {
      "text/plain": [
       "[[1, 2, 3, 4, 5, 6], [2, 3, 2, 6, 6, 6, 8]]"
      ]
     },
     "execution_count": 167,
     "metadata": {},
     "output_type": "execute_result"
    }
   ],
   "source": [
    "LISTE"
   ]
  },
  {
   "cell_type": "code",
   "execution_count": 168,
   "metadata": {},
   "outputs": [
    {
     "data": {
      "text/plain": [
       "[2, 3, 2, 6, 6, 6, 8]"
      ]
     },
     "execution_count": 168,
     "metadata": {},
     "output_type": "execute_result"
    }
   ],
   "source": [
    "LISTE[1]"
   ]
  },
  {
   "cell_type": "code",
   "execution_count": 169,
   "metadata": {},
   "outputs": [
    {
     "data": {
      "text/plain": [
       "2"
      ]
     },
     "execution_count": 169,
     "metadata": {},
     "output_type": "execute_result"
    }
   ],
   "source": [
    "LISTE[1][2]"
   ]
  },
  {
   "cell_type": "code",
   "execution_count": 170,
   "metadata": {},
   "outputs": [
    {
     "data": {
      "text/plain": [
       "[('Azzaro', 15, 'Lourd', 'Lent', 'Gris'),\n",
       " ('Coudcoeur', 5, 'Affectueux', 'Rapide', 'Baie'),\n",
       " ('Coko Chanel', 6.5, 'Electrique', 'Rapide', 'Gris')]"
      ]
     },
     "execution_count": 170,
     "metadata": {},
     "output_type": "execute_result"
    }
   ],
   "source": [
    "PADDOCK"
   ]
  },
  {
   "cell_type": "code",
   "execution_count": 171,
   "metadata": {},
   "outputs": [],
   "source": [
    "PADDOCK.append('Veneur') # => Point + append pour ajouter un élément à la suite dans une liste"
   ]
  },
  {
   "cell_type": "code",
   "execution_count": 172,
   "metadata": {},
   "outputs": [
    {
     "data": {
      "text/plain": [
       "[('Azzaro', 15, 'Lourd', 'Lent', 'Gris'),\n",
       " ('Coudcoeur', 5, 'Affectueux', 'Rapide', 'Baie'),\n",
       " ('Coko Chanel', 6.5, 'Electrique', 'Rapide', 'Gris'),\n",
       " 'Veneur']"
      ]
     },
     "execution_count": 172,
     "metadata": {},
     "output_type": "execute_result"
    }
   ],
   "source": [
    "PADDOCK"
   ]
  },
  {
   "cell_type": "code",
   "execution_count": 173,
   "metadata": {},
   "outputs": [
    {
     "data": {
      "text/plain": [
       "('V', 'e', 'n', 'e', 'u', 'r')"
      ]
     },
     "execution_count": 173,
     "metadata": {},
     "output_type": "execute_result"
    }
   ],
   "source": [
    "PADDOCK[3][0],PADDOCK[3][1],PADDOCK[3][2],PADDOCK[3][3],PADDOCK[3][4],PADDOCK[3][5]"
   ]
  },
  {
   "cell_type": "code",
   "execution_count": 174,
   "metadata": {},
   "outputs": [
    {
     "name": "stdout",
     "output_type": "stream",
     "text": [
      "V e n e u r\n"
     ]
    }
   ],
   "source": [
    "print(PADDOCK[3][0],PADDOCK[3][1],PADDOCK[3][2],PADDOCK[3][3],PADDOCK[3][4],PADDOCK[3][5])"
   ]
  },
  {
   "cell_type": "code",
   "execution_count": 175,
   "metadata": {},
   "outputs": [
    {
     "name": "stdout",
     "output_type": "stream",
     "text": [
      "Veneur\n"
     ]
    }
   ],
   "source": [
    "print(PADDOCK[3][0]+PADDOCK[3][1]+PADDOCK[3][2]+PADDOCK[3][3]+PADDOCK[3][4]+PADDOCK[3][5])"
   ]
  },
  {
   "cell_type": "code",
   "execution_count": 176,
   "metadata": {},
   "outputs": [
    {
     "name": "stdout",
     "output_type": "stream",
     "text": [
      "V , e , n , e , u , r\n"
     ]
    }
   ],
   "source": [
    "print(PADDOCK[3][0],',',PADDOCK[3][1],',',PADDOCK[3][2],',',PADDOCK[3][3],',',PADDOCK[3][4],',',PADDOCK[3][5])"
   ]
  },
  {
   "cell_type": "code",
   "execution_count": 177,
   "metadata": {},
   "outputs": [],
   "source": [
    "cheval_4 = 'Veneur',3.5,'Craintif','Ultra Beau','Baie'"
   ]
  },
  {
   "cell_type": "code",
   "execution_count": 178,
   "metadata": {},
   "outputs": [],
   "source": [
    "PADDOCK.append('cheval_4')"
   ]
  },
  {
   "cell_type": "code",
   "execution_count": 179,
   "metadata": {},
   "outputs": [
    {
     "data": {
      "text/plain": [
       "[('Azzaro', 15, 'Lourd', 'Lent', 'Gris'),\n",
       " ('Coudcoeur', 5, 'Affectueux', 'Rapide', 'Baie'),\n",
       " ('Coko Chanel', 6.5, 'Electrique', 'Rapide', 'Gris'),\n",
       " 'Veneur',\n",
       " 'cheval_4']"
      ]
     },
     "execution_count": 179,
     "metadata": {},
     "output_type": "execute_result"
    }
   ],
   "source": [
    "PADDOCK"
   ]
  },
  {
   "cell_type": "code",
   "execution_count": 180,
   "metadata": {},
   "outputs": [],
   "source": [
    "PADDOCK.append(cheval_4)"
   ]
  },
  {
   "cell_type": "code",
   "execution_count": 181,
   "metadata": {},
   "outputs": [
    {
     "data": {
      "text/plain": [
       "[('Azzaro', 15, 'Lourd', 'Lent', 'Gris'),\n",
       " ('Coudcoeur', 5, 'Affectueux', 'Rapide', 'Baie'),\n",
       " ('Coko Chanel', 6.5, 'Electrique', 'Rapide', 'Gris'),\n",
       " 'Veneur',\n",
       " 'cheval_4',\n",
       " ('Veneur', 3.5, 'Craintif', 'Ultra Beau', 'Baie')]"
      ]
     },
     "execution_count": 181,
     "metadata": {},
     "output_type": "execute_result"
    }
   ],
   "source": [
    "PADDOCK"
   ]
  },
  {
   "cell_type": "code",
   "execution_count": 182,
   "metadata": {},
   "outputs": [],
   "source": [
    "PADDOCK.remove('Veneur')"
   ]
  },
  {
   "cell_type": "code",
   "execution_count": 183,
   "metadata": {},
   "outputs": [
    {
     "data": {
      "text/plain": [
       "[('Azzaro', 15, 'Lourd', 'Lent', 'Gris'),\n",
       " ('Coudcoeur', 5, 'Affectueux', 'Rapide', 'Baie'),\n",
       " ('Coko Chanel', 6.5, 'Electrique', 'Rapide', 'Gris'),\n",
       " 'cheval_4',\n",
       " ('Veneur', 3.5, 'Craintif', 'Ultra Beau', 'Baie')]"
      ]
     },
     "execution_count": 183,
     "metadata": {},
     "output_type": "execute_result"
    }
   ],
   "source": [
    "PADDOCK"
   ]
  },
  {
   "cell_type": "code",
   "execution_count": 184,
   "metadata": {},
   "outputs": [],
   "source": [
    "PADDOCK.append('pouet pouet')"
   ]
  },
  {
   "cell_type": "code",
   "execution_count": 185,
   "metadata": {},
   "outputs": [
    {
     "data": {
      "text/plain": [
       "[('Azzaro', 15, 'Lourd', 'Lent', 'Gris'),\n",
       " ('Coudcoeur', 5, 'Affectueux', 'Rapide', 'Baie'),\n",
       " ('Coko Chanel', 6.5, 'Electrique', 'Rapide', 'Gris'),\n",
       " 'cheval_4',\n",
       " ('Veneur', 3.5, 'Craintif', 'Ultra Beau', 'Baie'),\n",
       " 'pouet pouet']"
      ]
     },
     "execution_count": 185,
     "metadata": {},
     "output_type": "execute_result"
    }
   ],
   "source": [
    "PADDOCK"
   ]
  },
  {
   "cell_type": "code",
   "execution_count": 186,
   "metadata": {},
   "outputs": [],
   "source": [
    "PADDOCK.remove('cheval_4') # => On ne peut retirer qu'un élément à chaque fois\n",
    "PADDOCK.remove('pouet pouet')"
   ]
  },
  {
   "cell_type": "code",
   "execution_count": 187,
   "metadata": {},
   "outputs": [
    {
     "data": {
      "text/plain": [
       "[('Azzaro', 15, 'Lourd', 'Lent', 'Gris'),\n",
       " ('Coudcoeur', 5, 'Affectueux', 'Rapide', 'Baie'),\n",
       " ('Coko Chanel', 6.5, 'Electrique', 'Rapide', 'Gris'),\n",
       " ('Veneur', 3.5, 'Craintif', 'Ultra Beau', 'Baie')]"
      ]
     },
     "execution_count": 187,
     "metadata": {},
     "output_type": "execute_result"
    }
   ],
   "source": [
    "PADDOCK"
   ]
  },
  {
   "cell_type": "code",
   "execution_count": 188,
   "metadata": {},
   "outputs": [
    {
     "data": {
      "text/plain": [
       "'Affectueux'"
      ]
     },
     "execution_count": 188,
     "metadata": {},
     "output_type": "execute_result"
    }
   ],
   "source": [
    "PADDOCK[1][2]"
   ]
  },
  {
   "cell_type": "code",
   "execution_count": null,
   "metadata": {},
   "outputs": [],
   "source": []
  }
 ],
 "metadata": {
  "kernelspec": {
   "display_name": "Python 3",
   "language": "python",
   "name": "python3"
  },
  "language_info": {
   "codemirror_mode": {
    "name": "ipython",
    "version": 3
   },
   "file_extension": ".py",
   "mimetype": "text/x-python",
   "name": "python",
   "nbconvert_exporter": "python",
   "pygments_lexer": "ipython3",
   "version": "3.6.8"
  }
 },
 "nbformat": 4,
 "nbformat_minor": 2
}
