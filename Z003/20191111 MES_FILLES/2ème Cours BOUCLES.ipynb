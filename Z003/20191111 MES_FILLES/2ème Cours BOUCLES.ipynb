{
 "cells": [
  {
   "cell_type": "markdown",
   "metadata": {},
   "source": [
    "# LES BOUCLES\n",
    "\n",
    "Boucle indéfinie => while (Tant que...)\n",
    "\n",
    "Boucle définie => for i in range () (Répter n fois une action) \n"
   ]
  },
  {
   "cell_type": "code",
   "execution_count": 1,
   "metadata": {},
   "outputs": [],
   "source": [
    "cheval_1 = 'Azzaro', 15, 'Lourd','Lent','Gris'\n",
    "cheval_2 = 'Coudcoeur', 5, 'Affectueux','Rapide','Baie'\n",
    "cheval_3 = 'Coko Chanel', 6.5, 'Electrique', 'Rapide','Gris'\n",
    "cheval_4 = 'Veneur',3.5,'Craintif','Ultra Beau','Baie'\n",
    "PADDOCK =[cheval_1, cheval_2, cheval_3, cheval_4]"
   ]
  },
  {
   "cell_type": "markdown",
   "metadata": {},
   "source": [
    "La boucle permet de parcourir une liste par exemple."
   ]
  },
  {
   "cell_type": "code",
   "execution_count": 4,
   "metadata": {},
   "outputs": [
    {
     "name": "stdout",
     "output_type": "stream",
     "text": [
      "11\n",
      "12\n",
      "13\n",
      "14\n",
      "15\n",
      "16\n",
      "17\n",
      "18\n",
      "19\n",
      "20\n",
      "21\n"
     ]
    }
   ],
   "source": [
    "for i in range(11,22):\n",
    "    print(i)"
   ]
  },
  {
   "cell_type": "markdown",
   "metadata": {},
   "source": [
    "Je demande que la variable 'i' prenne successivement les valeurs, 11, puis 12, puis 13, puis 14, puis... jusqu'à 22 non inclus\n",
    "    - Je n'oublie pas l'indentation pour toute ma boucle.\n",
    "    - A chaque passage de ma boucle, je demande d'afficher i"
   ]
  },
  {
   "cell_type": "code",
   "execution_count": 11,
   "metadata": {},
   "outputs": [
    {
     "name": "stdout",
     "output_type": "stream",
     "text": [
      "20\n",
      "30\n",
      "40\n",
      "50\n",
      "60\n",
      "70\n",
      "80\n",
      "90\n"
     ]
    }
   ],
   "source": [
    "for foo in range(20,100,10): # Le 10 demande un saut de 10 dans les boucles (step). Ce nombre doit être un entier (integer)\n",
    "    print(foo)"
   ]
  },
  {
   "cell_type": "code",
   "execution_count": 2,
   "metadata": {},
   "outputs": [
    {
     "name": "stdout",
     "output_type": "stream",
     "text": [
      "('Azzaro', 15, 'Lourd', 'Lent', 'Gris')\n",
      "('Coudcoeur', 5, 'Affectueux', 'Rapide', 'Baie')\n",
      "('Coko Chanel', 6.5, 'Electrique', 'Rapide', 'Gris')\n"
     ]
    }
   ],
   "source": [
    "for index in range(0,3):\n",
    "    print(PADDOCK[index])"
   ]
  },
  {
   "cell_type": "code",
   "execution_count": 12,
   "metadata": {},
   "outputs": [
    {
     "data": {
      "text/plain": [
       "4"
      ]
     },
     "execution_count": 12,
     "metadata": {},
     "output_type": "execute_result"
    }
   ],
   "source": [
    "len(PADDOCK)"
   ]
  },
  {
   "cell_type": "code",
   "execution_count": 13,
   "metadata": {},
   "outputs": [
    {
     "name": "stdout",
     "output_type": "stream",
     "text": [
      "('Azzaro', 15, 'Lourd', 'Lent', 'Gris')\n",
      "('Coudcoeur', 5, 'Affectueux', 'Rapide', 'Baie')\n",
      "('Coko Chanel', 6.5, 'Electrique', 'Rapide', 'Gris')\n",
      "('Veneur', 3.5, 'Craintif', 'Ultra Beau', 'Baie')\n"
     ]
    }
   ],
   "source": [
    "for pouet in range(0,len(PADDOCK)):\n",
    "    print(PADDOCK[pouet])"
   ]
  },
  {
   "cell_type": "code",
   "execution_count": 17,
   "metadata": {},
   "outputs": [
    {
     "name": "stdout",
     "output_type": "stream",
     "text": [
      "0 0\n",
      "0 1\n",
      "0 2\n",
      "0 3\n",
      "0 4\n",
      "1 0\n",
      "1 1\n",
      "1 2\n",
      "1 3\n",
      "1 4\n",
      "2 0\n",
      "2 1\n",
      "2 2\n",
      "2 3\n",
      "2 4\n",
      "3 0\n",
      "3 1\n",
      "3 2\n",
      "3 3\n",
      "3 4\n"
     ]
    }
   ],
   "source": [
    "for foo in range(0,len(PADDOCK)):\n",
    "    for bar in range(0,len(cheval_1)):\n",
    "        print(foo,bar)"
   ]
  },
  {
   "cell_type": "code",
   "execution_count": 20,
   "metadata": {},
   "outputs": [
    {
     "name": "stdout",
     "output_type": "stream",
     "text": [
      "Azzaro\n",
      "15\n",
      "Lourd\n",
      "Lent\n",
      "Gris\n",
      "Coudcoeur\n",
      "5\n",
      "Affectueux\n",
      "Rapide\n",
      "Baie\n",
      "Coko Chanel\n",
      "6.5\n",
      "Electrique\n",
      "Rapide\n",
      "Gris\n",
      "Veneur\n",
      "3.5\n",
      "Craintif\n",
      "Ultra Beau\n",
      "Baie\n"
     ]
    }
   ],
   "source": [
    "for foo in range(0,len(PADDOCK)):\n",
    "    for bar in range(0,len(cheval_1)):\n",
    "        print(PADDOCK[foo][bar])"
   ]
  },
  {
   "cell_type": "code",
   "execution_count": 25,
   "metadata": {},
   "outputs": [
    {
     "name": "stdout",
     "output_type": "stream",
     "text": [
      "0 ('Azzaro', 15, 'Lourd', 'Lent', 'Gris')\n",
      "1 ('Coudcoeur', 5, 'Affectueux', 'Rapide', 'Baie')\n",
      "2 ('Coko Chanel', 6.5, 'Electrique', 'Rapide', 'Gris')\n",
      "3 ('Veneur', 3.5, 'Craintif', 'Ultra Beau', 'Baie')\n"
     ]
    }
   ],
   "source": [
    "for foo,bar in enumerate(PADDOCK):\n",
    "    print(foo,bar)"
   ]
  },
  {
   "cell_type": "code",
   "execution_count": 26,
   "metadata": {},
   "outputs": [
    {
     "name": "stdout",
     "output_type": "stream",
     "text": [
      "('Azzaro', 15, 'Lourd', 'Lent', 'Gris')\n",
      "('Coudcoeur', 5, 'Affectueux', 'Rapide', 'Baie')\n",
      "('Coko Chanel', 6.5, 'Electrique', 'Rapide', 'Gris')\n",
      "('Veneur', 3.5, 'Craintif', 'Ultra Beau', 'Baie')\n"
     ]
    }
   ],
   "source": [
    "for foo,bar in enumerate(PADDOCK):\n",
    "    print(PADDOCK[foo])"
   ]
  },
  {
   "cell_type": "code",
   "execution_count": 29,
   "metadata": {},
   "outputs": [
    {
     "name": "stdout",
     "output_type": "stream",
     "text": [
      "15\n",
      "5\n",
      "6.5\n",
      "3.5\n"
     ]
    }
   ],
   "source": [
    "for foo,bar in enumerate(PADDOCK): # => Fonction enumerate propre à Python.\n",
    "    print(bar[1])"
   ]
  },
  {
   "cell_type": "code",
   "execution_count": null,
   "metadata": {},
   "outputs": [],
   "source": []
  }
 ],
 "metadata": {
  "kernelspec": {
   "display_name": "Python 3",
   "language": "python",
   "name": "python3"
  },
  "language_info": {
   "codemirror_mode": {
    "name": "ipython",
    "version": 3
   },
   "file_extension": ".py",
   "mimetype": "text/x-python",
   "name": "python",
   "nbconvert_exporter": "python",
   "pygments_lexer": "ipython3",
   "version": "3.6.8"
  }
 },
 "nbformat": 4,
 "nbformat_minor": 2
}
