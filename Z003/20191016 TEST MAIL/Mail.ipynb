{
 "cells": [
  {
   "cell_type": "code",
   "execution_count": 37,
   "metadata": {},
   "outputs": [
    {
     "data": {
      "text/plain": [
       "(221, b'2.0.0 Bye')"
      ]
     },
     "execution_count": 37,
     "metadata": {},
     "output_type": "execute_result"
    }
   ],
   "source": [
    "# Import smtplib for the actual sending function\n",
    "import smtplib\n",
    "\n",
    "# Import the email modules we'll need\n",
    "from email.message import EmailMessage\n",
    "\n",
    "# Open the plain text file whose name is in textfile for reading.\n",
    "\n",
    "# Create a text/plain message\n",
    "msg = EmailMessage()\n",
    "msg.set_content('Bla bla blabla tout ça quoi')\n",
    "filename = 'DU1507428_20191002_20191011.pdf'\n",
    "ctype, encoding = mimetypes.guess_type(filename)\n",
    "if ctype is None or encoding is not None:\n",
    "    # No guess could be made, or the file is encoded (compressed), so\n",
    "    # use a generic bag-of-bits type.\n",
    "    ctype = 'application/octet-stream'\n",
    "maintype, subtype = ctype.split('/', 1)\n",
    "with open(filename, 'rb') as fp:\n",
    "    msg.add_attachment(fp.read(),\n",
    "                       maintype=maintype,\n",
    "                       subtype=subtype,\n",
    "                       filename=filename)\n",
    "\n",
    "msg['Subject'] = 'Test envoi par python'\n",
    "msg['From'] = 'jyss@dag26.com'\n",
    "msg['To'] = 'sbenichou1@gmail.com'\n",
    "\n",
    "# Send the message via our own SMTP server.\n",
    "s = smtplib.SMTP('smtp.free.fr')\n",
    "s.send_message(msg)\n",
    "s.quit()"
   ]
  },
  {
   "cell_type": "code",
   "execution_count": null,
   "metadata": {},
   "outputs": [],
   "source": [
    "'Stephane.Benichou@css-europe.co.uk'"
   ]
  },
  {
   "cell_type": "code",
   "execution_count": 5,
   "metadata": {},
   "outputs": [
    {
     "data": {
      "text/plain": [
       "(221, b'2.0.0 Bye')"
      ]
     },
     "execution_count": 5,
     "metadata": {},
     "output_type": "execute_result"
    }
   ],
   "source": [
    "# Import smtplib for the actual sending function\n",
    "import smtplib\n",
    "\n",
    "# Import the email modules we'll need\n",
    "from email.message import EmailMessage\n",
    "\n",
    "# Open the plain text file whose name is in textfile for reading.\n",
    "\n",
    "# Create a text/plain message\n",
    "msg = EmailMessage()\n",
    "msg.set_content(\"C'est ta dernière chance\")\n",
    "#filename = 'DU1507428_20191002_20191011.pdf'\n",
    "#ctype, encoding = mimetypes.guess_type(filename)\n",
    "#if ctype is None or encoding is not None:\n",
    "    # No guess could be made, or the file is encoded (compressed), so\n",
    "    # use a generic bag-of-bits type.\n",
    " #   ctype = 'application/octet-stream'\n",
    "#maintype, subtype = ctype.split('/', 1)\n",
    "#with open(filename, 'rb') as fp:\n",
    "#    msg.add_attachment(fp.read(),\n",
    "#                       maintype=maintype,\n",
    "#                       subtype=subtype,\n",
    "#                       filename=filename)\n",
    "\n",
    "msg['Subject'] = 'DERNIER AVERTISSEMENT CRAPAUD'\n",
    "msg['From'] = 'Stephane.Benichou@css-europe.co.uk'\n",
    "msg['To'] = 'sbenichou1@gmail.com'\n",
    "\n",
    "# Send the message via our own SMTP server.\n",
    "s = smtplib.SMTP('smtp.free.fr')\n",
    "s.send_message(msg)\n",
    "s.quit()"
   ]
  },
  {
   "cell_type": "code",
   "execution_count": null,
   "metadata": {},
   "outputs": [],
   "source": []
  }
 ],
 "metadata": {
  "kernelspec": {
   "display_name": "Python 3",
   "language": "python",
   "name": "python3"
  },
  "language_info": {
   "codemirror_mode": {
    "name": "ipython",
    "version": 3
   },
   "file_extension": ".py",
   "mimetype": "text/x-python",
   "name": "python",
   "nbconvert_exporter": "python",
   "pygments_lexer": "ipython3",
   "version": "3.6.8"
  }
 },
 "nbformat": 4,
 "nbformat_minor": 2
}
