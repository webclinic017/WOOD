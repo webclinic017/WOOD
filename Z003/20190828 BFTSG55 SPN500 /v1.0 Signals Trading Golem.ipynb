{
 "cells": [
  {
   "cell_type": "code",
   "execution_count": 1,
   "metadata": {},
   "outputs": [],
   "source": [
    "def clearall():\n",
    "    all = [var for var in globals() if var[0] != \"_\"]\n",
    "    for var in all:\n",
    "        del globals()[var]\n",
    "clearall()"
   ]
  },
  {
   "cell_type": "code",
   "execution_count": 2,
   "metadata": {},
   "outputs": [],
   "source": [
    "import warnings\n",
    "warnings.filterwarnings(\"ignore\")"
   ]
  },
  {
   "cell_type": "code",
   "execution_count": 5,
   "metadata": {},
   "outputs": [
    {
     "name": "stdout",
     "output_type": "stream",
     "text": [
      "Importing Librairies...\n",
      "Librairies imported\n",
      "\n"
     ]
    }
   ],
   "source": [
    "print('Importing Librairies...')\n",
    "import numpy as np\n",
    "import pandas as pd\n",
    "import pandas_datareader as web\n",
    "from colorama import Fore, Back, Style\n",
    "import matplotlib.pyplot as plt\n",
    "import matplotlib.dates as mdates\n",
    "import seaborn as sns\n",
    "%matplotlib inline\n",
    "plt.style.use('seaborn')\n",
    "import time\n",
    "import datetime as dt\n",
    "import os\n",
    "print('Librairies imported')\n",
    "print('')"
   ]
  },
  {
   "cell_type": "code",
   "execution_count": 9,
   "metadata": {},
   "outputs": [
    {
     "name": "stdout",
     "output_type": "stream",
     "text": [
      "Global Optimized LumberJack Environment Motor 55\n",
      "LumberJack Jyss 5779(c)\n",
      "\u001b[34m °0Oo_D.A.G._26_oO0°\n",
      "\u001b[31m \u001b[44m SIGNALS TRADING GOLEM 55 Version v1.0 \u001b[0m\n"
     ]
    }
   ],
   "source": [
    "___Author___='LumberJack Jyss'\n",
    "print('Global Optimized LumberJack Environment Motor 55\\nLumberJack Jyss 5779(c)')\n",
    "print(Fore.BLUE,'°0Oo_D.A.G._26_oO0°')\n",
    "print(Fore.RED,Back.BLUE,'SIGNALS TRADING GOLEM 55 Version v1.0',Style.RESET_ALL)\n"
   ]
  },
  {
   "cell_type": "code",
   "execution_count": 17,
   "metadata": {},
   "outputs": [],
   "source": [
    "tmps55=time.time()\n",
    "start =str(dt.date.today()) #- dt.timedelta(1))\n",
    "end = str(dt.date.today())"
   ]
  },
  {
   "cell_type": "code",
   "execution_count": null,
   "metadata": {},
   "outputs": [],
   "source": [
    "def kill():\n",
    "    os._exit "
   ]
  },
  {
   "cell_type": "code",
   "execution_count": 23,
   "metadata": {},
   "outputs": [],
   "source": [
    "def scrap_data(ticker,start,end):\n",
    "    df = web.DataReader(ticker,'yahoo',start,end)\n",
    "    df = df.drop(['Close'],axis=1)\n",
    "    df['Close'] = df['Adj Close']\n",
    "    df = df.drop(['Adj Close'],axis = 1)    \n",
    "    return(df)"
   ]
  },
  {
   "cell_type": "code",
   "execution_count": null,
   "metadata": {},
   "outputs": [],
   "source": [
    "def test_valid(start,end):\n",
    "    # Ici on vérifie sur un ticker si on a les nouvelles données du jour\n",
    "    # Si oui, on part en boucle. Sinon, on arrête.\n",
    "    df = scrap_data('MMM',start,end)\n",
    "\n",
    "    # on essaye d'ouvrir le fichier. Il faut qu'il existe.\n",
    "    if str(df.index[-1]) == str(dt.date.today()):\n",
    "        return\n",
    "    else:\n",
    "        print(Fore.RED,'La date est pourrite',Style.RESET_ALL)\n",
    "        kill()\n"
   ]
  },
  {
   "cell_type": "code",
   "execution_count": null,
   "metadata": {},
   "outputs": [],
   "source": [
    "print('')\n",
    "print('Sraping tickers')\n",
    "try :\n",
    "    compteur = pd.read_csv('compteur.csv')\n",
    "    compteur = compteur.drop('Unnamed: 0',axis=1)\n",
    "                        \n",
    "except:\n",
    "    compteur = pd.read_csv('compteur.csv')\n",
    "print('Scrap -----> ok')\n",
    "\n",
    "megabase = pd.DataFrame()\n",
    "infrabase = pd.DataFrame()\n",
    "for boo in range(0,compteur.shape[0]):\n",
    "    stock = compteur.iloc[boo,0]\n",
    "    try:\n",
    "        infrabase = web.DataReader(stock, 'yahoo', '2018-01-01', '2019-02-28')\n",
    "        tempo = infrabase['Adj Close']\n",
    "        infrabase = infrabase.drop(['Adj Close'],axis=1)\n",
    "        infrabase['Stock'] = stock\n",
    "        infrabase['Adj Close'] = tempo\n",
    "        infrabase['Adj Close Shift_22'] = tempo.shift(-22)\n",
    "        infrabase['% Evolution'] = (((infrabase['Adj Close Shift_22'] - infrabase['Adj Close'])/infrabase['Adj Close'])*100)\n",
    "        infrabase = infrabase.dropna()\n",
    "\n",
    "        megabase = pd.concat((megabase,infrabase))\n",
    "    except:\n",
    "        print(Fore.RED,'Problème avec le ticker ',stock,Style.RESET_ALL)\n",
    "        continue\n",
    "megabase.to_csv('megabase.csv')\n",
    "\n",
    "for loop in range(0, len(constituents)):\n",
    "    \n",
    "    ticker = (constituents.iloc[loop]['Symbol'])\n",
    "    name = constituents.iloc[loop]['Name']\n",
    "    sector = constituents.iloc[loop]['Sector']\n",
    "    \n",
    "    "
   ]
  },
  {
   "cell_type": "code",
   "execution_count": null,
   "metadata": {},
   "outputs": [],
   "source": []
  },
  {
   "cell_type": "code",
   "execution_count": 37,
   "metadata": {},
   "outputs": [],
   "source": [
    "df = scrap_data('MMM',start,end)"
   ]
  },
  {
   "cell_type": "code",
   "execution_count": 38,
   "metadata": {},
   "outputs": [
    {
     "data": {
      "text/html": [
       "<div>\n",
       "<style scoped>\n",
       "    .dataframe tbody tr th:only-of-type {\n",
       "        vertical-align: middle;\n",
       "    }\n",
       "\n",
       "    .dataframe tbody tr th {\n",
       "        vertical-align: top;\n",
       "    }\n",
       "\n",
       "    .dataframe thead th {\n",
       "        text-align: right;\n",
       "    }\n",
       "</style>\n",
       "<table border=\"1\" class=\"dataframe\">\n",
       "  <thead>\n",
       "    <tr style=\"text-align: right;\">\n",
       "      <th></th>\n",
       "      <th>High</th>\n",
       "      <th>Low</th>\n",
       "      <th>Open</th>\n",
       "      <th>Volume</th>\n",
       "      <th>Close</th>\n",
       "    </tr>\n",
       "    <tr>\n",
       "      <th>Date</th>\n",
       "      <th></th>\n",
       "      <th></th>\n",
       "      <th></th>\n",
       "      <th></th>\n",
       "      <th></th>\n",
       "    </tr>\n",
       "  </thead>\n",
       "  <tbody>\n",
       "    <tr>\n",
       "      <th>2019-08-28</th>\n",
       "      <td>157.779999</td>\n",
       "      <td>154</td>\n",
       "      <td>155.100006</td>\n",
       "      <td>2315156</td>\n",
       "      <td>157.550003</td>\n",
       "    </tr>\n",
       "  </tbody>\n",
       "</table>\n",
       "</div>"
      ],
      "text/plain": [
       "                  High  Low        Open   Volume       Close\n",
       "Date                                                        \n",
       "2019-08-28  157.779999  154  155.100006  2315156  157.550003"
      ]
     },
     "execution_count": 38,
     "metadata": {},
     "output_type": "execute_result"
    }
   ],
   "source": [
    "df"
   ]
  },
  {
   "cell_type": "code",
   "execution_count": 34,
   "metadata": {},
   "outputs": [
    {
     "name": "stdout",
     "output_type": "stream",
     "text": [
      "2019-08-29\n"
     ]
    }
   ],
   "source": [
    "print(dt.date.today() + dt.timedelta(1))"
   ]
  },
  {
   "cell_type": "code",
   "execution_count": 35,
   "metadata": {},
   "outputs": [],
   "source": [
    "end =str(dt.date.today() + dt.timedelta(1))\n",
    "start = str(dt.date.today())"
   ]
  },
  {
   "cell_type": "code",
   "execution_count": 36,
   "metadata": {},
   "outputs": [
    {
     "data": {
      "text/plain": [
       "True"
      ]
     },
     "execution_count": 36,
     "metadata": {},
     "output_type": "execute_result"
    }
   ],
   "source": [
    "str(df.index[-1])[0:10] == start"
   ]
  },
  {
   "cell_type": "code",
   "execution_count": null,
   "metadata": {},
   "outputs": [],
   "source": []
  },
  {
   "cell_type": "code",
   "execution_count": null,
   "metadata": {},
   "outputs": [],
   "source": []
  }
 ],
 "metadata": {
  "kernelspec": {
   "display_name": "Python 3",
   "language": "python",
   "name": "python3"
  },
  "language_info": {
   "codemirror_mode": {
    "name": "ipython",
    "version": 3
   },
   "file_extension": ".py",
   "mimetype": "text/x-python",
   "name": "python",
   "nbconvert_exporter": "python",
   "pygments_lexer": "ipython3",
   "version": "3.6.8"
  }
 },
 "nbformat": 4,
 "nbformat_minor": 2
}
