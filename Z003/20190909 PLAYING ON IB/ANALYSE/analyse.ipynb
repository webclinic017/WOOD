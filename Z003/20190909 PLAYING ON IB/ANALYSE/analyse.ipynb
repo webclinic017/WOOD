{
 "cells": [
  {
   "cell_type": "markdown",
   "metadata": {},
   "source": [
    "# RELEVE POUR LE COMPTE 28 DU 3 OCTOBRE AU 8 NOVEMBRE 2019"
   ]
  },
  {
   "cell_type": "code",
   "execution_count": 1,
   "metadata": {},
   "outputs": [],
   "source": [
    "import pandas as pd"
   ]
  },
  {
   "cell_type": "code",
   "execution_count": 11,
   "metadata": {},
   "outputs": [],
   "source": [
    "df = pd.read_csv('pnl.csv')"
   ]
  },
  {
   "cell_type": "code",
   "execution_count": 12,
   "metadata": {},
   "outputs": [
    {
     "data": {
      "text/html": [
       "<div>\n",
       "<style scoped>\n",
       "    .dataframe tbody tr th:only-of-type {\n",
       "        vertical-align: middle;\n",
       "    }\n",
       "\n",
       "    .dataframe tbody tr th {\n",
       "        vertical-align: top;\n",
       "    }\n",
       "\n",
       "    .dataframe thead th {\n",
       "        text-align: right;\n",
       "    }\n",
       "</style>\n",
       "<table border=\"1\" class=\"dataframe\">\n",
       "  <thead>\n",
       "    <tr style=\"text-align: right;\">\n",
       "      <th></th>\n",
       "      <th>Symbole</th>\n",
       "      <th>Quantité</th>\n",
       "      <th>Mult</th>\n",
       "      <th>Coût</th>\n",
       "      <th>Coût d'acquisition</th>\n",
       "      <th>Prix de clôture</th>\n",
       "      <th>Valeur</th>\n",
       "      <th>P/L Non-Réalisé</th>\n",
       "      <th>P&amp;L non réalisé %</th>\n",
       "      <th>Code</th>\n",
       "    </tr>\n",
       "  </thead>\n",
       "  <tbody>\n",
       "    <tr>\n",
       "      <th>0</th>\n",
       "      <td>A</td>\n",
       "      <td>-132.0</td>\n",
       "      <td>1.0</td>\n",
       "      <td>76.010732</td>\n",
       "      <td>-10033.416575</td>\n",
       "      <td>76.64</td>\n",
       "      <td>-10116.48</td>\n",
       "      <td>-83.063425</td>\n",
       "      <td>-0.83</td>\n",
       "      <td>NaN</td>\n",
       "    </tr>\n",
       "    <tr>\n",
       "      <th>1</th>\n",
       "      <td>ABC</td>\n",
       "      <td>-123.0</td>\n",
       "      <td>1.0</td>\n",
       "      <td>81.681930</td>\n",
       "      <td>-10046.877368</td>\n",
       "      <td>86.07</td>\n",
       "      <td>-10586.61</td>\n",
       "      <td>-539.732632</td>\n",
       "      <td>-5.37</td>\n",
       "      <td>NaN</td>\n",
       "    </tr>\n",
       "    <tr>\n",
       "      <th>2</th>\n",
       "      <td>ABMD</td>\n",
       "      <td>54.0</td>\n",
       "      <td>1.0</td>\n",
       "      <td>183.138519</td>\n",
       "      <td>9889.480000</td>\n",
       "      <td>219.62</td>\n",
       "      <td>11859.48</td>\n",
       "      <td>1970.000000</td>\n",
       "      <td>19.92</td>\n",
       "      <td>NaN</td>\n",
       "    </tr>\n",
       "    <tr>\n",
       "      <th>3</th>\n",
       "      <td>ACN</td>\n",
       "      <td>52.0</td>\n",
       "      <td>1.0</td>\n",
       "      <td>193.359231</td>\n",
       "      <td>10054.680000</td>\n",
       "      <td>189.70</td>\n",
       "      <td>9864.40</td>\n",
       "      <td>-190.280000</td>\n",
       "      <td>-1.89</td>\n",
       "      <td>NaN</td>\n",
       "    </tr>\n",
       "    <tr>\n",
       "      <th>4</th>\n",
       "      <td>ADBE</td>\n",
       "      <td>4.0</td>\n",
       "      <td>1.0</td>\n",
       "      <td>282.070000</td>\n",
       "      <td>1128.280000</td>\n",
       "      <td>292.46</td>\n",
       "      <td>1169.84</td>\n",
       "      <td>41.560000</td>\n",
       "      <td>3.68</td>\n",
       "      <td>NaN</td>\n",
       "    </tr>\n",
       "    <tr>\n",
       "      <th>...</th>\n",
       "      <td>...</td>\n",
       "      <td>...</td>\n",
       "      <td>...</td>\n",
       "      <td>...</td>\n",
       "      <td>...</td>\n",
       "      <td>...</td>\n",
       "      <td>...</td>\n",
       "      <td>...</td>\n",
       "      <td>...</td>\n",
       "      <td>...</td>\n",
       "    </tr>\n",
       "    <tr>\n",
       "      <th>235</th>\n",
       "      <td>XEL</td>\n",
       "      <td>155.0</td>\n",
       "      <td>1.0</td>\n",
       "      <td>64.736452</td>\n",
       "      <td>10034.150000</td>\n",
       "      <td>60.08</td>\n",
       "      <td>9312.40</td>\n",
       "      <td>-721.750000</td>\n",
       "      <td>-7.19</td>\n",
       "      <td>NaN</td>\n",
       "    </tr>\n",
       "    <tr>\n",
       "      <th>236</th>\n",
       "      <td>XRAY</td>\n",
       "      <td>187.0</td>\n",
       "      <td>1.0</td>\n",
       "      <td>53.575348</td>\n",
       "      <td>10018.590000</td>\n",
       "      <td>57.42</td>\n",
       "      <td>10737.54</td>\n",
       "      <td>718.950000</td>\n",
       "      <td>7.18</td>\n",
       "      <td>NaN</td>\n",
       "    </tr>\n",
       "    <tr>\n",
       "      <th>237</th>\n",
       "      <td>XRX</td>\n",
       "      <td>-294.0</td>\n",
       "      <td>1.0</td>\n",
       "      <td>34.134174</td>\n",
       "      <td>-10035.447244</td>\n",
       "      <td>38.85</td>\n",
       "      <td>-11421.90</td>\n",
       "      <td>-1386.452756</td>\n",
       "      <td>-13.82</td>\n",
       "      <td>NaN</td>\n",
       "    </tr>\n",
       "    <tr>\n",
       "      <th>238</th>\n",
       "      <td>ZBH</td>\n",
       "      <td>-70.0</td>\n",
       "      <td>1.0</td>\n",
       "      <td>142.912637</td>\n",
       "      <td>-10003.884564</td>\n",
       "      <td>144.00</td>\n",
       "      <td>-10080.00</td>\n",
       "      <td>-76.115436</td>\n",
       "      <td>-0.76</td>\n",
       "      <td>NaN</td>\n",
       "    </tr>\n",
       "    <tr>\n",
       "      <th>239</th>\n",
       "      <td>NaN</td>\n",
       "      <td>NaN</td>\n",
       "      <td>NaN</td>\n",
       "      <td>NaN</td>\n",
       "      <td>-158476.048872</td>\n",
       "      <td>NaN</td>\n",
       "      <td>-175614.34</td>\n",
       "      <td>-17138.291129</td>\n",
       "      <td>NaN</td>\n",
       "      <td>NaN</td>\n",
       "    </tr>\n",
       "  </tbody>\n",
       "</table>\n",
       "<p>240 rows × 10 columns</p>\n",
       "</div>"
      ],
      "text/plain": [
       "    Symbole  Quantité  Mult        Coût  Coût d'acquisition  Prix de clôture  \\\n",
       "0         A    -132.0   1.0   76.010732       -10033.416575            76.64   \n",
       "1       ABC    -123.0   1.0   81.681930       -10046.877368            86.07   \n",
       "2      ABMD      54.0   1.0  183.138519         9889.480000           219.62   \n",
       "3       ACN      52.0   1.0  193.359231        10054.680000           189.70   \n",
       "4      ADBE       4.0   1.0  282.070000         1128.280000           292.46   \n",
       "..      ...       ...   ...         ...                 ...              ...   \n",
       "235     XEL     155.0   1.0   64.736452        10034.150000            60.08   \n",
       "236    XRAY     187.0   1.0   53.575348        10018.590000            57.42   \n",
       "237     XRX    -294.0   1.0   34.134174       -10035.447244            38.85   \n",
       "238     ZBH     -70.0   1.0  142.912637       -10003.884564           144.00   \n",
       "239     NaN       NaN   NaN         NaN      -158476.048872              NaN   \n",
       "\n",
       "        Valeur  P/L Non-Réalisé  P&L non réalisé %  Code  \n",
       "0    -10116.48       -83.063425              -0.83   NaN  \n",
       "1    -10586.61      -539.732632              -5.37   NaN  \n",
       "2     11859.48      1970.000000              19.92   NaN  \n",
       "3      9864.40      -190.280000              -1.89   NaN  \n",
       "4      1169.84        41.560000               3.68   NaN  \n",
       "..         ...              ...                ...   ...  \n",
       "235    9312.40      -721.750000              -7.19   NaN  \n",
       "236   10737.54       718.950000               7.18   NaN  \n",
       "237  -11421.90     -1386.452756             -13.82   NaN  \n",
       "238  -10080.00       -76.115436              -0.76   NaN  \n",
       "239 -175614.34    -17138.291129                NaN   NaN  \n",
       "\n",
       "[240 rows x 10 columns]"
      ]
     },
     "execution_count": 12,
     "metadata": {},
     "output_type": "execute_result"
    }
   ],
   "source": [
    "df"
   ]
  },
  {
   "cell_type": "code",
   "execution_count": 33,
   "metadata": {},
   "outputs": [
    {
     "data": {
      "text/plain": [
       "(240, 10)"
      ]
     },
     "execution_count": 33,
     "metadata": {},
     "output_type": "execute_result"
    }
   ],
   "source": [
    "df.shape"
   ]
  },
  {
   "cell_type": "code",
   "execution_count": 32,
   "metadata": {},
   "outputs": [
    {
     "data": {
      "text/plain": [
       "240"
      ]
     },
     "execution_count": 32,
     "metadata": {},
     "output_type": "execute_result"
    }
   ],
   "source": [
    "len(df['Symbole'].unique())"
   ]
  },
  {
   "cell_type": "code",
   "execution_count": 24,
   "metadata": {},
   "outputs": [
    {
     "data": {
      "text/plain": [
       "3941.54"
      ]
     },
     "execution_count": 24,
     "metadata": {},
     "output_type": "execute_result"
    }
   ],
   "source": [
    "df.iloc[:-1,7].max() # Gain maximal pour un ticker en $"
   ]
  },
  {
   "cell_type": "code",
   "execution_count": 25,
   "metadata": {},
   "outputs": [
    {
     "data": {
      "text/plain": [
       "-2528.1"
      ]
     },
     "execution_count": 25,
     "metadata": {},
     "output_type": "execute_result"
    }
   ],
   "source": [
    "df.iloc[:-1,7].min() # Perte maximal pour un ticker en $"
   ]
  },
  {
   "cell_type": "code",
   "execution_count": 26,
   "metadata": {},
   "outputs": [],
   "source": [
    "df1 = pd.read_csv('transactions.csv')"
   ]
  },
  {
   "cell_type": "code",
   "execution_count": 27,
   "metadata": {},
   "outputs": [
    {
     "data": {
      "text/html": [
       "<div>\n",
       "<style scoped>\n",
       "    .dataframe tbody tr th:only-of-type {\n",
       "        vertical-align: middle;\n",
       "    }\n",
       "\n",
       "    .dataframe tbody tr th {\n",
       "        vertical-align: top;\n",
       "    }\n",
       "\n",
       "    .dataframe thead th {\n",
       "        text-align: right;\n",
       "    }\n",
       "</style>\n",
       "<table border=\"1\" class=\"dataframe\">\n",
       "  <thead>\n",
       "    <tr style=\"text-align: right;\">\n",
       "      <th></th>\n",
       "      <th>Symbole</th>\n",
       "      <th>Date/Heure</th>\n",
       "      <th>Quantité</th>\n",
       "      <th>Prix Trans.</th>\n",
       "      <th>Produit</th>\n",
       "      <th>Comm/Tarif</th>\n",
       "      <th>Base</th>\n",
       "      <th>P/L Réalisé</th>\n",
       "      <th>% P&amp;L réalisé</th>\n",
       "      <th>Code</th>\n",
       "    </tr>\n",
       "  </thead>\n",
       "  <tbody>\n",
       "    <tr>\n",
       "      <th>0</th>\n",
       "      <td>A</td>\n",
       "      <td>2019-10-03, 09:30:05</td>\n",
       "      <td>136.0</td>\n",
       "      <td>73.50</td>\n",
       "      <td>-9996.00</td>\n",
       "      <td>-1.00</td>\n",
       "      <td>9997.00</td>\n",
       "      <td>0.00</td>\n",
       "      <td>0.00</td>\n",
       "      <td>O;P</td>\n",
       "    </tr>\n",
       "    <tr>\n",
       "      <th>1</th>\n",
       "      <td>A</td>\n",
       "      <td>2019-10-04, 09:30:25</td>\n",
       "      <td>-136.0</td>\n",
       "      <td>74.06</td>\n",
       "      <td>10072.16</td>\n",
       "      <td>-1.22</td>\n",
       "      <td>-9997.00</td>\n",
       "      <td>73.94</td>\n",
       "      <td>0.74</td>\n",
       "      <td>C;P</td>\n",
       "    </tr>\n",
       "    <tr>\n",
       "      <th>2</th>\n",
       "      <td>A</td>\n",
       "      <td>2019-10-11, 09:31:06</td>\n",
       "      <td>-135.0</td>\n",
       "      <td>75.50</td>\n",
       "      <td>10192.50</td>\n",
       "      <td>-1.23</td>\n",
       "      <td>-10191.27</td>\n",
       "      <td>0.00</td>\n",
       "      <td>0.00</td>\n",
       "      <td>O;P</td>\n",
       "    </tr>\n",
       "    <tr>\n",
       "      <th>3</th>\n",
       "      <td>A</td>\n",
       "      <td>2019-10-17, 09:34:05</td>\n",
       "      <td>135.0</td>\n",
       "      <td>75.42</td>\n",
       "      <td>-10181.70</td>\n",
       "      <td>-1.00</td>\n",
       "      <td>10191.27</td>\n",
       "      <td>8.57</td>\n",
       "      <td>0.08</td>\n",
       "      <td>C;P</td>\n",
       "    </tr>\n",
       "    <tr>\n",
       "      <th>4</th>\n",
       "      <td>A</td>\n",
       "      <td>2019-10-21, 09:35:26</td>\n",
       "      <td>134.0</td>\n",
       "      <td>74.72</td>\n",
       "      <td>-10012.48</td>\n",
       "      <td>-1.00</td>\n",
       "      <td>10013.48</td>\n",
       "      <td>0.00</td>\n",
       "      <td>0.00</td>\n",
       "      <td>O;P</td>\n",
       "    </tr>\n",
       "    <tr>\n",
       "      <th>...</th>\n",
       "      <td>...</td>\n",
       "      <td>...</td>\n",
       "      <td>...</td>\n",
       "      <td>...</td>\n",
       "      <td>...</td>\n",
       "      <td>...</td>\n",
       "      <td>...</td>\n",
       "      <td>...</td>\n",
       "      <td>...</td>\n",
       "      <td>...</td>\n",
       "    </tr>\n",
       "    <tr>\n",
       "      <th>752</th>\n",
       "      <td>XRX</td>\n",
       "      <td>2019-10-31, 09:30:19</td>\n",
       "      <td>-294.0</td>\n",
       "      <td>34.14</td>\n",
       "      <td>10037.16</td>\n",
       "      <td>-1.71</td>\n",
       "      <td>-10035.45</td>\n",
       "      <td>0.00</td>\n",
       "      <td>0.00</td>\n",
       "      <td>O;P</td>\n",
       "    </tr>\n",
       "    <tr>\n",
       "      <th>753</th>\n",
       "      <td>ZBH</td>\n",
       "      <td>2019-10-04, 09:30:27</td>\n",
       "      <td>-9.0</td>\n",
       "      <td>133.55</td>\n",
       "      <td>1201.95</td>\n",
       "      <td>-1.03</td>\n",
       "      <td>-1258.21</td>\n",
       "      <td>-57.29</td>\n",
       "      <td>-4.55</td>\n",
       "      <td>C</td>\n",
       "    </tr>\n",
       "    <tr>\n",
       "      <th>754</th>\n",
       "      <td>ZBH</td>\n",
       "      <td>2019-10-14, 09:31:40</td>\n",
       "      <td>-73.0</td>\n",
       "      <td>136.17</td>\n",
       "      <td>9940.41</td>\n",
       "      <td>-1.21</td>\n",
       "      <td>-9939.20</td>\n",
       "      <td>0.00</td>\n",
       "      <td>0.00</td>\n",
       "      <td>O</td>\n",
       "    </tr>\n",
       "    <tr>\n",
       "      <th>755</th>\n",
       "      <td>ZBH</td>\n",
       "      <td>2019-10-31, 09:30:18</td>\n",
       "      <td>73.0</td>\n",
       "      <td>138.20</td>\n",
       "      <td>-10088.60</td>\n",
       "      <td>-1.00</td>\n",
       "      <td>9939.20</td>\n",
       "      <td>-150.40</td>\n",
       "      <td>-1.51</td>\n",
       "      <td>C</td>\n",
       "    </tr>\n",
       "    <tr>\n",
       "      <th>756</th>\n",
       "      <td>ZBH</td>\n",
       "      <td>2019-11-07, 09:31:32</td>\n",
       "      <td>-70.0</td>\n",
       "      <td>142.93</td>\n",
       "      <td>10005.10</td>\n",
       "      <td>-1.22</td>\n",
       "      <td>-10003.88</td>\n",
       "      <td>0.00</td>\n",
       "      <td>0.00</td>\n",
       "      <td>O</td>\n",
       "    </tr>\n",
       "  </tbody>\n",
       "</table>\n",
       "<p>757 rows × 10 columns</p>\n",
       "</div>"
      ],
      "text/plain": [
       "    Symbole            Date/Heure  Quantité  Prix Trans.   Produit  \\\n",
       "0         A  2019-10-03, 09:30:05     136.0        73.50  -9996.00   \n",
       "1         A  2019-10-04, 09:30:25    -136.0        74.06  10072.16   \n",
       "2         A  2019-10-11, 09:31:06    -135.0        75.50  10192.50   \n",
       "3         A  2019-10-17, 09:34:05     135.0        75.42 -10181.70   \n",
       "4         A  2019-10-21, 09:35:26     134.0        74.72 -10012.48   \n",
       "..      ...                   ...       ...          ...       ...   \n",
       "752     XRX  2019-10-31, 09:30:19    -294.0        34.14  10037.16   \n",
       "753     ZBH  2019-10-04, 09:30:27      -9.0       133.55   1201.95   \n",
       "754     ZBH  2019-10-14, 09:31:40     -73.0       136.17   9940.41   \n",
       "755     ZBH  2019-10-31, 09:30:18      73.0       138.20 -10088.60   \n",
       "756     ZBH  2019-11-07, 09:31:32     -70.0       142.93  10005.10   \n",
       "\n",
       "     Comm/Tarif      Base  P/L Réalisé  % P&L réalisé Code  \n",
       "0         -1.00   9997.00         0.00           0.00  O;P  \n",
       "1         -1.22  -9997.00        73.94           0.74  C;P  \n",
       "2         -1.23 -10191.27         0.00           0.00  O;P  \n",
       "3         -1.00  10191.27         8.57           0.08  C;P  \n",
       "4         -1.00  10013.48         0.00           0.00  O;P  \n",
       "..          ...       ...          ...            ...  ...  \n",
       "752       -1.71 -10035.45         0.00           0.00  O;P  \n",
       "753       -1.03  -1258.21       -57.29          -4.55    C  \n",
       "754       -1.21  -9939.20         0.00           0.00    O  \n",
       "755       -1.00   9939.20      -150.40          -1.51    C  \n",
       "756       -1.22 -10003.88         0.00           0.00    O  \n",
       "\n",
       "[757 rows x 10 columns]"
      ]
     },
     "execution_count": 27,
     "metadata": {},
     "output_type": "execute_result"
    }
   ],
   "source": [
    "df1"
   ]
  },
  {
   "cell_type": "code",
   "execution_count": 28,
   "metadata": {},
   "outputs": [
    {
     "data": {
      "text/plain": [
       "(757, 10)"
      ]
     },
     "execution_count": 28,
     "metadata": {},
     "output_type": "execute_result"
    }
   ],
   "source": [
    "df1.shape # 757 transactions réalisées sur la période"
   ]
  },
  {
   "cell_type": "code",
   "execution_count": 30,
   "metadata": {},
   "outputs": [
    {
     "data": {
      "text/plain": [
       "256"
      ]
     },
     "execution_count": 30,
     "metadata": {},
     "output_type": "execute_result"
    }
   ],
   "source": [
    "len(df1['Symbole'].unique()) # 256 tickers différents"
   ]
  },
  {
   "cell_type": "code",
   "execution_count": 34,
   "metadata": {},
   "outputs": [
    {
     "data": {
      "text/plain": [
       "-3356.0"
      ]
     },
     "execution_count": 34,
     "metadata": {},
     "output_type": "execute_result"
    }
   ],
   "source": [
    "df['Quantité'].sum()"
   ]
  },
  {
   "cell_type": "code",
   "execution_count": 38,
   "metadata": {},
   "outputs": [
    {
     "data": {
      "text/plain": [
       "array(['O;P', 'C;P', 'O', 'C'], dtype=object)"
      ]
     },
     "execution_count": 38,
     "metadata": {},
     "output_type": "execute_result"
    }
   ],
   "source": [
    "df1['Code'].unique()"
   ]
  },
  {
   "cell_type": "code",
   "execution_count": 66,
   "metadata": {},
   "outputs": [],
   "source": [
    "BALANCE = []\n",
    "for foo,bar in enumerate(df1['Symbole']):\n",
    "    BALANCE.append((bar,df1[df1['Symbole'] == bar]['Quantité'].sum()))\n",
    "BALANCE = set(BALANCE)"
   ]
  },
  {
   "cell_type": "code",
   "execution_count": 71,
   "metadata": {},
   "outputs": [
    {
     "data": {
      "text/plain": [
       "0      136.0\n",
       "1     -136.0\n",
       "2     -135.0\n",
       "3      135.0\n",
       "4      134.0\n",
       "       ...  \n",
       "752   -294.0\n",
       "753     -9.0\n",
       "754    -73.0\n",
       "755     73.0\n",
       "756    -70.0\n",
       "Name: Quantité, Length: 757, dtype: float64"
      ]
     },
     "execution_count": 71,
     "metadata": {},
     "output_type": "execute_result"
    }
   ],
   "source": []
  },
  {
   "cell_type": "code",
   "execution_count": null,
   "metadata": {},
   "outputs": [],
   "source": []
  }
 ],
 "metadata": {
  "kernelspec": {
   "display_name": "Python 3",
   "language": "python",
   "name": "python3"
  },
  "language_info": {
   "codemirror_mode": {
    "name": "ipython",
    "version": 3
   },
   "file_extension": ".py",
   "mimetype": "text/x-python",
   "name": "python",
   "nbconvert_exporter": "python",
   "pygments_lexer": "ipython3",
   "version": "3.6.8"
  }
 },
 "nbformat": 4,
 "nbformat_minor": 2
}
