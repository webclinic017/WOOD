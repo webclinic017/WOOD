{
 "cells": [
  {
   "cell_type": "code",
   "execution_count": 1,
   "metadata": {},
   "outputs": [],
   "source": [
    "def clearall():\n",
    "    all = [var for var in globals() if var[0] != \"_\"]\n",
    "    for var in all:\n",
    "        del globals()[var]\n",
    "clearall()"
   ]
  },
  {
   "cell_type": "code",
   "execution_count": 2,
   "metadata": {},
   "outputs": [
    {
     "name": "stdout",
     "output_type": "stream",
     "text": [
      "Importing Librairies...\n",
      "Librairies imported\n",
      "\n",
      "Global Optimized LumberJack Environment Motor 55\n",
      "LumberJack Jyss 5779(c)\n",
      "\u001b[34m °0Oo_D.A.G._26_oO0°\n",
      "\u001b[33m \u001b[44m PlaySignal IB Version v1.55 \u001b[0m\n",
      "\n",
      "LaBase est chargée :\n",
      "               Date Symbol        High         Low        Open       Close  \\\n",
      "408941  2019-12-11    ZTS  123.709999  122.809998  123.199997  123.559998   \n",
      "408942  2019-12-12    ZTS  125.000000  123.389999  123.690002  124.330002   \n",
      "\n",
      "           Volume   Adj Close  \n",
      "408941  1803000.0  123.559998  \n",
      "408942  2041800.0  124.330002  \n"
     ]
    },
    {
     "name": "stdin",
     "output_type": "stream",
     "text": [
      "Enter the date (YYYY-MM-DD):  2019-12-12\n"
     ]
    },
    {
     "name": "stdout",
     "output_type": "stream",
     "text": [
      "Golem est maintenant déconnecté de IB\n",
      "Golem est maintenant connecté à IB\n",
      "Le fichier SIGNALS_2019-12-12.csv a bien été chargé\n",
      "Il y a actuellement  249 positions en cours\n",
      "Passage\n",
      "\u001b[44m \u001b[33m Les fonds disponibles sur le compte sont de : $ 494963.9377 \u001b[0m\n",
      "\n",
      "\u001b[31m Close Short \u001b[0m  sur le ticker  ADP  basé sur un close limité à  167.16 \n",
      "\n",
      "Trade(contract=Stock(conId=4661, symbol='ADP', exchange='SMART', primaryExchange='NASDAQ', currency='USD', localSymbol='ADP', tradingClass='NMS'), order=LimitOrder(orderId=20037, clientId=1, action='BUY', totalQuantity=62.0, lmtPrice=162.82, outsideRth=True, account='DU1507427', conditions=[], softDollarTier=SoftDollarTier()), orderStatus=OrderStatus(status='PendingSubmit'), fills=[], log=[TradeLogEntry(time=datetime.datetime(2019, 12, 13, 12, 15, 0, 337394, tzinfo=datetime.timezone.utc), status='PendingSubmit', message='')])\n",
      "\n",
      "\u001b[31m Close Long \u001b[0m  sur le ticker  AEP  basé sur un close limité à  91.14 \n",
      "\n",
      "Trade(contract=Stock(conId=4211, symbol='AEP', exchange='SMART', primaryExchange='NYSE', currency='USD', localSymbol='AEP', tradingClass='AEP'), order=LimitOrder(orderId=20039, clientId=1, action='SELL', totalQuantity=107.0, lmtPrice=93.42, outsideRth=True, account='DU1507427', conditions=[], softDollarTier=SoftDollarTier()), orderStatus=OrderStatus(status='PendingSubmit'), fills=[], log=[TradeLogEntry(time=datetime.datetime(2019, 12, 13, 12, 15, 0, 807442, tzinfo=datetime.timezone.utc), status='PendingSubmit', message='')])\n",
      "\n",
      "\u001b[32m Open Long \u001b[0m  sur le ticker  AMCR  basé sur un close limité à  10.68 \n",
      "\n"
     ]
    },
    {
     "name": "stderr",
     "output_type": "stream",
     "text": [
      "Error 201, reqId 20041: Ordre rejeté - Raison :Votre ordre a été rejeté parce que votre actif avec valeur d'emprunt pour [432335.18 USD] ne suffit pas pour couvrir l'exigence de marge initiale de [447994.75 USD].\n",
      "\n",
      "Canceled order: Trade(contract=Stock(conId=364845429, symbol='AMCR', exchange='SMART', primaryExchange='NYSE', currency='USD', localSymbol='AMCR', tradingClass='AMCR'), order=LimitOrder(orderId=20041, clientId=1, permId=495755483, action='BUY', totalQuantity=925.0, lmtPrice=10.7, auxPrice=0.0, tif='DAY', ocaType=3, outsideRth=True, trailStopPrice=11.7, volatilityType=0, deltaNeutralOrderType='None', referencePriceType=0, account='DU1507427', clearingIntent='IB', orderComboLegs=[], adjustedOrderType='None', conditions=[], softDollarTier=SoftDollarTier(), cashQty=0.0, dontUseAutoPriceForHedge=True), orderStatus=OrderStatus(status='Cancelled', remaining=925.0, permId=495755483, clientId=1), fills=[], log=[TradeLogEntry(time=datetime.datetime(2019, 12, 13, 12, 15, 1, 725913, tzinfo=datetime.timezone.utc), status='PendingSubmit', message=''), TradeLogEntry(time=datetime.datetime(2019, 12, 13, 12, 15, 1, 897355, tzinfo=datetime.timezone.utc), status='Inactive', message=''), TradeLogEntry(time=datetime.datetime(2019, 12, 13, 12, 15, 1, 898951, tzinfo=datetime.timezone.utc), status='Cancelled', message=\"Error 201, reqId 20041: Ordre rejeté - Raison :Votre ordre a été rejeté parce que votre actif avec valeur d'emprunt pour [432335.18 USD] ne suffit pas pour couvrir l'exigence de marge initiale de [447994.75 USD].\\n\")])\n"
     ]
    },
    {
     "name": "stdout",
     "output_type": "stream",
     "text": [
      "Trade(contract=Stock(conId=364845429, symbol='AMCR', exchange='SMART', primaryExchange='NYSE', currency='USD', localSymbol='AMCR', tradingClass='AMCR'), order=LimitOrder(orderId=20041, clientId=1, action='BUY', totalQuantity=925.0, lmtPrice=10.7, outsideRth=True, account='DU1507427', conditions=[], softDollarTier=SoftDollarTier()), orderStatus=OrderStatus(status='PendingSubmit'), fills=[], log=[TradeLogEntry(time=datetime.datetime(2019, 12, 13, 12, 15, 1, 725913, tzinfo=datetime.timezone.utc), status='PendingSubmit', message='')])\n",
      "\n",
      "\u001b[32m Open Short \u001b[0m  sur le ticker  AMG  basé sur un close limité à  86.94 \n",
      "\n"
     ]
    },
    {
     "name": "stderr",
     "output_type": "stream",
     "text": [
      "Error 201, reqId 20043: Ordre rejeté - Raison :Votre ordre a été rejeté parce que votre actif avec valeur d'emprunt pour [432347.07 USD] ne suffit pas pour couvrir l'exigence de marge initiale de [447565.38 USD].\n",
      "\n",
      "Canceled order: Trade(contract=Stock(conId=6607470, symbol='AMG', exchange='SMART', primaryExchange='NYSE', currency='USD', localSymbol='AMG', tradingClass='AMG'), order=LimitOrder(orderId=20043, clientId=1, permId=495755484, action='SELL', totalQuantity=114.0, lmtPrice=86.77, auxPrice=0.0, tif='DAY', ocaType=3, outsideRth=True, trailStopPrice=87.77, volatilityType=0, deltaNeutralOrderType='None', referencePriceType=0, account='DU1507427', clearingIntent='IB', orderComboLegs=[], adjustedOrderType='None', conditions=[], softDollarTier=SoftDollarTier(), cashQty=0.0, dontUseAutoPriceForHedge=True), orderStatus=OrderStatus(status='Cancelled', remaining=114.0, permId=495755484, clientId=1), fills=[], log=[TradeLogEntry(time=datetime.datetime(2019, 12, 13, 12, 15, 2, 259732, tzinfo=datetime.timezone.utc), status='PendingSubmit', message=''), TradeLogEntry(time=datetime.datetime(2019, 12, 13, 12, 15, 2, 462934, tzinfo=datetime.timezone.utc), status='Inactive', message=''), TradeLogEntry(time=datetime.datetime(2019, 12, 13, 12, 15, 2, 462934, tzinfo=datetime.timezone.utc), status='Cancelled', message=\"Error 201, reqId 20043: Ordre rejeté - Raison :Votre ordre a été rejeté parce que votre actif avec valeur d'emprunt pour [432347.07 USD] ne suffit pas pour couvrir l'exigence de marge initiale de [447565.38 USD].\\n\")])\n"
     ]
    },
    {
     "name": "stdout",
     "output_type": "stream",
     "text": [
      "Trade(contract=Stock(conId=6607470, symbol='AMG', exchange='SMART', primaryExchange='NYSE', currency='USD', localSymbol='AMG', tradingClass='AMG'), order=LimitOrder(orderId=20043, clientId=1, action='SELL', totalQuantity=114.0, lmtPrice=86.77, outsideRth=True, account='DU1507427', conditions=[], softDollarTier=SoftDollarTier()), orderStatus=OrderStatus(status='PendingSubmit'), fills=[], log=[TradeLogEntry(time=datetime.datetime(2019, 12, 13, 12, 15, 2, 259732, tzinfo=datetime.timezone.utc), status='PendingSubmit', message='')])\n",
      "\n",
      "\u001b[31m Close Long \u001b[0m  sur le ticker  APTV  basé sur un close limité à  95.81 \n",
      "\n",
      "Trade(contract=Stock(conId=298541832, symbol='APTV', exchange='SMART', primaryExchange='NYSE', currency='USD', localSymbol='APTV', tradingClass='APTV'), order=LimitOrder(orderId=20045, clientId=1, action='SELL', totalQuantity=106.0, lmtPrice=92.97, outsideRth=True, account='DU1507427', conditions=[], softDollarTier=SoftDollarTier()), orderStatus=OrderStatus(status='PendingSubmit'), fills=[], log=[TradeLogEntry(time=datetime.datetime(2019, 12, 13, 12, 15, 2, 893077, tzinfo=datetime.timezone.utc), status='PendingSubmit', message='')])\n",
      "\n",
      "\u001b[31m Close Long \u001b[0m  sur le ticker  AVB  basé sur un close limité à  209.16 \n",
      "\n",
      "Trade(contract=Stock(conId=5026974, symbol='AVB', exchange='SMART', primaryExchange='NYSE', currency='USD', localSymbol='AVB', tradingClass='AVB'), order=LimitOrder(orderId=20047, clientId=1, action='SELL', totalQuantity=46.0, lmtPrice=215.73, outsideRth=True, account='DU1507427', conditions=[], softDollarTier=SoftDollarTier()), orderStatus=OrderStatus(status='PendingSubmit'), fills=[], log=[TradeLogEntry(time=datetime.datetime(2019, 12, 13, 12, 15, 3, 371703, tzinfo=datetime.timezone.utc), status='PendingSubmit', message='')])\n",
      "\n",
      "\u001b[31m Close Long \u001b[0m  sur le ticker  BLL  basé sur un close limité à  63.41 \n",
      "\n",
      "Trade(contract=Stock(conId=5052, symbol='BLL', exchange='SMART', primaryExchange='NYSE', currency='USD', localSymbol='BLL', tradingClass='BLL'), order=LimitOrder(orderId=20049, clientId=1, action='SELL', totalQuantity=151.0, lmtPrice=65.88, outsideRth=True, account='DU1507427', conditions=[], softDollarTier=SoftDollarTier()), orderStatus=OrderStatus(status='PendingSubmit'), fills=[], log=[TradeLogEntry(time=datetime.datetime(2019, 12, 13, 12, 15, 4, 67596, tzinfo=datetime.timezone.utc), status='PendingSubmit', message='')])\n",
      "\n",
      "\u001b[31m Close Short \u001b[0m  sur le ticker  BWA  basé sur un close limité à  44.5 \n",
      "\n",
      "Trade(contract=Stock(conId=5336, symbol='BWA', exchange='SMART', primaryExchange='NYSE', currency='USD', localSymbol='BWA', tradingClass='BWA'), order=LimitOrder(orderId=20051, clientId=1, action='BUY', totalQuantity=266.0, lmtPrice=37.64, outsideRth=True, account='DU1507427', conditions=[], softDollarTier=SoftDollarTier()), orderStatus=OrderStatus(status='PendingSubmit'), fills=[], log=[TradeLogEntry(time=datetime.datetime(2019, 12, 13, 12, 15, 4, 553810, tzinfo=datetime.timezone.utc), status='PendingSubmit', message='')])\n",
      "\n",
      "\u001b[32m Open Short \u001b[0m  sur le ticker  CE  basé sur un close limité à  125.36 \n",
      "\n"
     ]
    },
    {
     "name": "stderr",
     "output_type": "stream",
     "text": [
      "Error 201, reqId 20053: Ordre rejeté - Raison :Votre ordre a été rejeté parce que votre actif avec valeur d'emprunt pour [432343.92 USD] ne suffit pas pour couvrir l'exigence de marge initiale de [447564.11 USD].\n",
      "\n",
      "Canceled order: Trade(contract=Stock(conId=32943358, symbol='CE', exchange='SMART', primaryExchange='NYSE', currency='USD', localSymbol='CE', tradingClass='CE'), order=LimitOrder(orderId=20053, clientId=1, permId=495755489, action='SELL', totalQuantity=79.0, lmtPrice=125.11, auxPrice=0.0, tif='DAY', ocaType=3, outsideRth=True, trailStopPrice=126.11, volatilityType=0, deltaNeutralOrderType='None', referencePriceType=0, account='DU1507427', clearingIntent='IB', orderComboLegs=[], adjustedOrderType='None', conditions=[], softDollarTier=SoftDollarTier(), cashQty=0.0, dontUseAutoPriceForHedge=True), orderStatus=OrderStatus(status='Cancelled', remaining=79.0, permId=495755489, clientId=1), fills=[], log=[TradeLogEntry(time=datetime.datetime(2019, 12, 13, 12, 15, 5, 229112, tzinfo=datetime.timezone.utc), status='PendingSubmit', message=''), TradeLogEntry(time=datetime.datetime(2019, 12, 13, 12, 15, 5, 390332, tzinfo=datetime.timezone.utc), status='Inactive', message=''), TradeLogEntry(time=datetime.datetime(2019, 12, 13, 12, 15, 5, 391621, tzinfo=datetime.timezone.utc), status='Cancelled', message=\"Error 201, reqId 20053: Ordre rejeté - Raison :Votre ordre a été rejeté parce que votre actif avec valeur d'emprunt pour [432343.92 USD] ne suffit pas pour couvrir l'exigence de marge initiale de [447564.11 USD].\\n\")])\n"
     ]
    },
    {
     "name": "stdout",
     "output_type": "stream",
     "text": [
      "Trade(contract=Stock(conId=32943358, symbol='CE', exchange='SMART', primaryExchange='NYSE', currency='USD', localSymbol='CE', tradingClass='CE'), order=LimitOrder(orderId=20053, clientId=1, action='SELL', totalQuantity=79.0, lmtPrice=125.11, outsideRth=True, account='DU1507427', conditions=[], softDollarTier=SoftDollarTier()), orderStatus=OrderStatus(status='PendingSubmit'), fills=[], log=[TradeLogEntry(time=datetime.datetime(2019, 12, 13, 12, 15, 5, 229112, tzinfo=datetime.timezone.utc), status='PendingSubmit', message='')])\n",
      "\n",
      "\u001b[31m Close Short \u001b[0m  sur le ticker  CERN  basé sur un close limité à  71.82 \n",
      "\n",
      "Trade(contract=Stock(conId=267475, symbol='CERN', exchange='SMART', primaryExchange='NASDAQ', currency='USD', localSymbol='CERN', tradingClass='NMS'), order=LimitOrder(orderId=20055, clientId=1, action='BUY', totalQuantity=144.0, lmtPrice=68.64, outsideRth=True, account='DU1507427', conditions=[], softDollarTier=SoftDollarTier()), orderStatus=OrderStatus(status='PendingSubmit'), fills=[], log=[TradeLogEntry(time=datetime.datetime(2019, 12, 13, 12, 15, 5, 722652, tzinfo=datetime.timezone.utc), status='PendingSubmit', message='')])\n",
      "\n",
      "\u001b[31m Close Long \u001b[0m  sur le ticker  CHRW  basé sur un close limité à  77.98 \n",
      "\n",
      "Trade(contract=Stock(conId=36320731, symbol='CHRW', exchange='SMART', primaryExchange='NASDAQ', currency='USD', localSymbol='CHRW', tradingClass='NMS'), order=LimitOrder(orderId=20057, clientId=1, action='SELL', totalQuantity=128.0, lmtPrice=76.47, outsideRth=True, account='DU1507427', conditions=[], softDollarTier=SoftDollarTier()), orderStatus=OrderStatus(status='PendingSubmit'), fills=[], log=[TradeLogEntry(time=datetime.datetime(2019, 12, 13, 12, 15, 6, 193090, tzinfo=datetime.timezone.utc), status='PendingSubmit', message='')])\n",
      "\n",
      "\u001b[32m Open Short \u001b[0m  sur le ticker  DIS  basé sur un close limité à  147.76 \n",
      "\n"
     ]
    },
    {
     "name": "stderr",
     "output_type": "stream",
     "text": [
      "Error 201, reqId 20059: Ordre rejeté - Raison :Votre ordre a été rejeté parce que votre actif avec valeur d'emprunt pour [432296.12 USD] ne suffit pas pour couvrir l'exigence de marge initiale de [445917.64 USD].\n",
      "\n",
      "Canceled order: Trade(contract=Stock(conId=6459, symbol='DIS', exchange='SMART', primaryExchange='NYSE', currency='USD', localSymbol='DIS', tradingClass='DIS'), order=LimitOrder(orderId=20059, clientId=1, permId=495755492, action='SELL', totalQuantity=67.0, lmtPrice=147.46, auxPrice=0.0, tif='DAY', ocaType=3, outsideRth=True, trailStopPrice=148.46, volatilityType=0, deltaNeutralOrderType='None', referencePriceType=0, account='DU1507427', clearingIntent='IB', orderComboLegs=[], adjustedOrderType='None', conditions=[], softDollarTier=SoftDollarTier(), cashQty=0.0, dontUseAutoPriceForHedge=True), orderStatus=OrderStatus(status='Cancelled', remaining=67.0, permId=495755492, clientId=1), fills=[], log=[TradeLogEntry(time=datetime.datetime(2019, 12, 13, 12, 15, 7, 325744, tzinfo=datetime.timezone.utc), status='PendingSubmit', message=''), TradeLogEntry(time=datetime.datetime(2019, 12, 13, 12, 15, 7, 472316, tzinfo=datetime.timezone.utc), status='Inactive', message=''), TradeLogEntry(time=datetime.datetime(2019, 12, 13, 12, 15, 7, 473640, tzinfo=datetime.timezone.utc), status='Cancelled', message=\"Error 201, reqId 20059: Ordre rejeté - Raison :Votre ordre a été rejeté parce que votre actif avec valeur d'emprunt pour [432296.12 USD] ne suffit pas pour couvrir l'exigence de marge initiale de [445917.64 USD].\\n\")])\n"
     ]
    },
    {
     "name": "stdout",
     "output_type": "stream",
     "text": [
      "Trade(contract=Stock(conId=6459, symbol='DIS', exchange='SMART', primaryExchange='NYSE', currency='USD', localSymbol='DIS', tradingClass='DIS'), order=LimitOrder(orderId=20059, clientId=1, action='SELL', totalQuantity=67.0, lmtPrice=147.46, outsideRth=True, account='DU1507427', conditions=[], softDollarTier=SoftDollarTier()), orderStatus=OrderStatus(status='PendingSubmit'), fills=[], log=[TradeLogEntry(time=datetime.datetime(2019, 12, 13, 12, 15, 7, 325744, tzinfo=datetime.timezone.utc), status='PendingSubmit', message='')])\n",
      "\n",
      "\u001b[31m Close Short \u001b[0m  sur le ticker  DLR  basé sur un close limité à  114.67 \n",
      "\n",
      "Trade(contract=Stock(conId=31832526, symbol='DLR', exchange='SMART', primaryExchange='NYSE', currency='USD', localSymbol='DLR', tradingClass='DLR'), order=LimitOrder(orderId=20061, clientId=1, action='BUY', totalQuantity=86.0, lmtPrice=116.48, outsideRth=True, account='DU1507427', conditions=[], softDollarTier=SoftDollarTier()), orderStatus=OrderStatus(status='PendingSubmit'), fills=[], log=[TradeLogEntry(time=datetime.datetime(2019, 12, 13, 12, 15, 7, 761464, tzinfo=datetime.timezone.utc), status='PendingSubmit', message='')])\n",
      "\n",
      "\u001b[32m Open Short \u001b[0m  sur le ticker  EOG  basé sur un close limité à  76.71 \n",
      "\n",
      "Trade(contract=Stock(conId=6890, symbol='EOG', exchange='SMART', primaryExchange='NYSE', currency='USD', localSymbol='EOG', tradingClass='EOG'), order=LimitOrder(orderId=20063, clientId=1, action='SELL', totalQuantity=129.0, lmtPrice=76.56, outsideRth=True, account='DU1507427', conditions=[], softDollarTier=SoftDollarTier()), orderStatus=OrderStatus(status='PendingSubmit'), fills=[], log=[TradeLogEntry(time=datetime.datetime(2019, 12, 13, 12, 15, 8, 596073, tzinfo=datetime.timezone.utc), status='PendingSubmit', message='')])\n"
     ]
    },
    {
     "name": "stderr",
     "output_type": "stream",
     "text": [
      "Error 201, reqId 20063: Ordre rejeté - Raison :Votre ordre a été rejeté parce que votre actif avec valeur d'emprunt pour [432216.00 USD] ne suffit pas pour couvrir l'exigence de marge initiale de [445926.72 USD].\n",
      "\n",
      "Canceled order: Trade(contract=Stock(conId=6890, symbol='EOG', exchange='SMART', primaryExchange='NYSE', currency='USD', localSymbol='EOG', tradingClass='EOG'), order=LimitOrder(orderId=20063, clientId=1, permId=495755494, action='SELL', totalQuantity=129.0, lmtPrice=76.56, auxPrice=0.0, tif='DAY', ocaType=3, outsideRth=True, trailStopPrice=77.56, volatilityType=0, deltaNeutralOrderType='None', referencePriceType=0, account='DU1507427', clearingIntent='IB', orderComboLegs=[], adjustedOrderType='None', conditions=[], softDollarTier=SoftDollarTier(), cashQty=0.0, dontUseAutoPriceForHedge=True), orderStatus=OrderStatus(status='Cancelled', remaining=129.0, permId=495755494, clientId=1), fills=[], log=[TradeLogEntry(time=datetime.datetime(2019, 12, 13, 12, 15, 8, 596073, tzinfo=datetime.timezone.utc), status='PendingSubmit', message=''), TradeLogEntry(time=datetime.datetime(2019, 12, 13, 12, 15, 8, 976755, tzinfo=datetime.timezone.utc), status='Inactive', message=''), TradeLogEntry(time=datetime.datetime(2019, 12, 13, 12, 15, 8, 977495, tzinfo=datetime.timezone.utc), status='Cancelled', message=\"Error 201, reqId 20063: Ordre rejeté - Raison :Votre ordre a été rejeté parce que votre actif avec valeur d'emprunt pour [432216.00 USD] ne suffit pas pour couvrir l'exigence de marge initiale de [445926.72 USD].\\n\")])\n"
     ]
    },
    {
     "name": "stdout",
     "output_type": "stream",
     "text": [
      "\n",
      "\u001b[32m Open Short \u001b[0m  sur le ticker  FBHS  basé sur un close limité à  65.52 \n",
      "\n"
     ]
    },
    {
     "name": "stderr",
     "output_type": "stream",
     "text": [
      "Error 201, reqId 20065: Ordre rejeté - Raison :Votre ordre a été rejeté parce que votre actif avec valeur d'emprunt pour [432275.33 USD] ne suffit pas pour couvrir l'exigence de marge initiale de [445926.31 USD].\n",
      "\n",
      "Canceled order: Trade(contract=Stock(conId=94078796, symbol='FBHS', exchange='SMART', primaryExchange='NYSE', currency='USD', localSymbol='FBHS', tradingClass='FBHS'), order=LimitOrder(orderId=20065, clientId=1, permId=495755495, action='SELL', totalQuantity=151.0, lmtPrice=65.39, auxPrice=0.0, tif='DAY', ocaType=3, outsideRth=True, trailStopPrice=66.39, volatilityType=0, deltaNeutralOrderType='None', referencePriceType=0, account='DU1507427', clearingIntent='IB', orderComboLegs=[], adjustedOrderType='None', conditions=[], softDollarTier=SoftDollarTier(), cashQty=0.0, dontUseAutoPriceForHedge=True), orderStatus=OrderStatus(status='Cancelled', remaining=151.0, permId=495755495, clientId=1), fills=[], log=[TradeLogEntry(time=datetime.datetime(2019, 12, 13, 12, 15, 9, 447237, tzinfo=datetime.timezone.utc), status='PendingSubmit', message=''), TradeLogEntry(time=datetime.datetime(2019, 12, 13, 12, 15, 9, 617624, tzinfo=datetime.timezone.utc), status='Inactive', message=''), TradeLogEntry(time=datetime.datetime(2019, 12, 13, 12, 15, 9, 618189, tzinfo=datetime.timezone.utc), status='Cancelled', message=\"Error 201, reqId 20065: Ordre rejeté - Raison :Votre ordre a été rejeté parce que votre actif avec valeur d'emprunt pour [432275.33 USD] ne suffit pas pour couvrir l'exigence de marge initiale de [445926.31 USD].\\n\")])\n"
     ]
    },
    {
     "name": "stdout",
     "output_type": "stream",
     "text": [
      "Trade(contract=Stock(conId=94078796, symbol='FBHS', exchange='SMART', primaryExchange='NYSE', currency='USD', localSymbol='FBHS', tradingClass='FBHS'), order=LimitOrder(orderId=20065, clientId=1, action='SELL', totalQuantity=151.0, lmtPrice=65.39, outsideRth=True, account='DU1507427', conditions=[], softDollarTier=SoftDollarTier()), orderStatus=OrderStatus(status='PendingSubmit'), fills=[], log=[TradeLogEntry(time=datetime.datetime(2019, 12, 13, 12, 15, 9, 447237, tzinfo=datetime.timezone.utc), status='PendingSubmit', message='')])\n",
      "\n",
      "\u001b[31m Close Long \u001b[0m  sur le ticker  FDX  basé sur un close limité à  164.89 \n",
      "\n",
      "Trade(contract=Stock(conId=5100583, symbol='FDX', exchange='SMART', primaryExchange='NYSE', currency='USD', localSymbol='FDX', tradingClass='FDX'), order=LimitOrder(orderId=20067, clientId=1, action='SELL', totalQuantity=61.0, lmtPrice=164.27, outsideRth=True, account='DU1507427', conditions=[], softDollarTier=SoftDollarTier()), orderStatus=OrderStatus(status='PendingSubmit'), fills=[], log=[TradeLogEntry(time=datetime.datetime(2019, 12, 13, 12, 15, 9, 788493, tzinfo=datetime.timezone.utc), status='PendingSubmit', message='')])\n",
      "\n",
      "\u001b[32m Open Short \u001b[0m  sur le ticker  FITB  basé sur un close limité à  31.49 \n",
      "\n",
      "Trade(contract=Stock(conId=269318, symbol='FITB', exchange='SMART', primaryExchange='NASDAQ', currency='USD', localSymbol='FITB', tradingClass='NMS'), order=LimitOrder(orderId=20069, clientId=1, action='SELL', totalQuantity=315.0, lmtPrice=31.43, outsideRth=True, account='DU1507427', conditions=[], softDollarTier=SoftDollarTier()), orderStatus=OrderStatus(status='PendingSubmit'), fills=[], log=[TradeLogEntry(time=datetime.datetime(2019, 12, 13, 12, 15, 10, 436312, tzinfo=datetime.timezone.utc), status='PendingSubmit', message='')])\n"
     ]
    },
    {
     "name": "stderr",
     "output_type": "stream",
     "text": [
      "Error 201, reqId 20069: Ordre rejeté - Raison :Votre ordre a été rejeté parce que votre actif avec valeur d'emprunt pour [432300.54 USD] ne suffit pas pour couvrir l'exigence de marge initiale de [445930.74 USD].\n",
      "\n",
      "Canceled order: Trade(contract=Stock(conId=269318, symbol='FITB', exchange='SMART', primaryExchange='NASDAQ', currency='USD', localSymbol='FITB', tradingClass='NMS'), order=LimitOrder(orderId=20069, clientId=1, permId=495755497, action='SELL', totalQuantity=315.0, lmtPrice=31.43, auxPrice=0.0, tif='DAY', ocaType=3, outsideRth=True, trailStopPrice=32.43, volatilityType=0, deltaNeutralOrderType='None', referencePriceType=0, account='DU1507427', clearingIntent='IB', orderComboLegs=[], adjustedOrderType='None', conditions=[], softDollarTier=SoftDollarTier(), cashQty=0.0, dontUseAutoPriceForHedge=True), orderStatus=OrderStatus(status='Cancelled', remaining=315.0, permId=495755497, clientId=1), fills=[], log=[TradeLogEntry(time=datetime.datetime(2019, 12, 13, 12, 15, 10, 436312, tzinfo=datetime.timezone.utc), status='PendingSubmit', message=''), TradeLogEntry(time=datetime.datetime(2019, 12, 13, 12, 15, 10, 817175, tzinfo=datetime.timezone.utc), status='Inactive', message=''), TradeLogEntry(time=datetime.datetime(2019, 12, 13, 12, 15, 10, 817175, tzinfo=datetime.timezone.utc), status='Cancelled', message=\"Error 201, reqId 20069: Ordre rejeté - Raison :Votre ordre a été rejeté parce que votre actif avec valeur d'emprunt pour [432300.54 USD] ne suffit pas pour couvrir l'exigence de marge initiale de [445930.74 USD].\\n\")])\n"
     ]
    },
    {
     "name": "stdout",
     "output_type": "stream",
     "text": [
      "\n",
      "\u001b[31m Close Short \u001b[0m  sur le ticker  GS  basé sur un close limité à  226.05 \n",
      "\n",
      "Trade(contract=Stock(conId=4627828, symbol='GS', exchange='SMART', primaryExchange='NYSE', currency='USD', localSymbol='GS', tradingClass='GS'), order=LimitOrder(orderId=20071, clientId=1, action='BUY', totalQuantity=48.0, lmtPrice=208.86, outsideRth=True, account='DU1507427', conditions=[], softDollarTier=SoftDollarTier()), orderStatus=OrderStatus(status='PendingSubmit'), fills=[], log=[TradeLogEntry(time=datetime.datetime(2019, 12, 13, 12, 15, 11, 580819, tzinfo=datetime.timezone.utc), status='PendingSubmit', message='')])\n",
      "\n",
      "\u001b[32m Open Short \u001b[0m  sur le ticker  HAL  basé sur un close limité à  24.3 \n",
      "\n",
      "Trade(contract=Stock(conId=7890, symbol='HAL', exchange='SMART', primaryExchange='NYSE', currency='USD', localSymbol='HAL', tradingClass='HAL'), order=LimitOrder(orderId=20073, clientId=1, action='SELL', totalQuantity=408.0, lmtPrice=24.25, outsideRth=True, account='DU1507427', conditions=[], softDollarTier=SoftDollarTier()), orderStatus=OrderStatus(status='PendingSubmit'), fills=[], log=[TradeLogEntry(time=datetime.datetime(2019, 12, 13, 12, 15, 12, 199750, tzinfo=datetime.timezone.utc), status='PendingSubmit', message='')])\n"
     ]
    },
    {
     "name": "stderr",
     "output_type": "stream",
     "text": [
      "Error 201, reqId 20073: Ordre rejeté - Raison :Votre ordre a été rejeté parce que votre actif avec valeur d'emprunt pour [432213.84 USD] ne suffit pas pour couvrir l'exigence de marge initiale de [444270.10 USD].\n",
      "\n",
      "Canceled order: Trade(contract=Stock(conId=7890, symbol='HAL', exchange='SMART', primaryExchange='NYSE', currency='USD', localSymbol='HAL', tradingClass='HAL'), order=LimitOrder(orderId=20073, clientId=1, permId=495755499, action='SELL', totalQuantity=408.0, lmtPrice=24.25, auxPrice=0.0, tif='DAY', ocaType=3, outsideRth=True, trailStopPrice=25.25, volatilityType=0, deltaNeutralOrderType='None', referencePriceType=0, account='DU1507427', clearingIntent='IB', orderComboLegs=[], adjustedOrderType='None', conditions=[], softDollarTier=SoftDollarTier(), cashQty=0.0, dontUseAutoPriceForHedge=True), orderStatus=OrderStatus(status='Cancelled', remaining=408.0, permId=495755499, clientId=1), fills=[], log=[TradeLogEntry(time=datetime.datetime(2019, 12, 13, 12, 15, 12, 199750, tzinfo=datetime.timezone.utc), status='PendingSubmit', message=''), TradeLogEntry(time=datetime.datetime(2019, 12, 13, 12, 15, 12, 676086, tzinfo=datetime.timezone.utc), status='Inactive', message=''), TradeLogEntry(time=datetime.datetime(2019, 12, 13, 12, 15, 12, 676086, tzinfo=datetime.timezone.utc), status='Cancelled', message=\"Error 201, reqId 20073: Ordre rejeté - Raison :Votre ordre a été rejeté parce que votre actif avec valeur d'emprunt pour [432213.84 USD] ne suffit pas pour couvrir l'exigence de marge initiale de [444270.10 USD].\\n\")])\n"
     ]
    },
    {
     "name": "stdout",
     "output_type": "stream",
     "text": [
      "\n",
      "\u001b[32m Open Long \u001b[0m  sur le ticker  ILMN  basé sur un close limité à  321.99 \n",
      "\n"
     ]
    },
    {
     "name": "stderr",
     "output_type": "stream",
     "text": [
      "Error 201, reqId 20075: Ordre rejeté - Raison :Votre ordre a été rejeté parce que votre actif avec valeur d'emprunt pour [432273.25 USD] ne suffit pas pour couvrir l'exigence de marge initiale de [445849.41 USD].\n",
      "\n",
      "Canceled order: Trade(contract=Stock(conId=9869443, symbol='ILMN', exchange='SMART', primaryExchange='NASDAQ', currency='USD', localSymbol='ILMN', tradingClass='NMS'), order=LimitOrder(orderId=20075, clientId=1, permId=495755500, action='BUY', totalQuantity=31.0, lmtPrice=322.63, auxPrice=0.0, tif='DAY', ocaType=3, outsideRth=True, trailStopPrice=323.63, volatilityType=0, deltaNeutralOrderType='None', referencePriceType=0, account='DU1507427', clearingIntent='IB', orderComboLegs=[], adjustedOrderType='None', conditions=[], softDollarTier=SoftDollarTier(), cashQty=0.0, dontUseAutoPriceForHedge=True), orderStatus=OrderStatus(status='Cancelled', remaining=31.0, permId=495755500, clientId=1), fills=[], log=[TradeLogEntry(time=datetime.datetime(2019, 12, 13, 12, 15, 13, 24843, tzinfo=datetime.timezone.utc), status='PendingSubmit', message=''), TradeLogEntry(time=datetime.datetime(2019, 12, 13, 12, 15, 13, 193544, tzinfo=datetime.timezone.utc), status='Inactive', message=''), TradeLogEntry(time=datetime.datetime(2019, 12, 13, 12, 15, 13, 194080, tzinfo=datetime.timezone.utc), status='Cancelled', message=\"Error 201, reqId 20075: Ordre rejeté - Raison :Votre ordre a été rejeté parce que votre actif avec valeur d'emprunt pour [432273.25 USD] ne suffit pas pour couvrir l'exigence de marge initiale de [445849.41 USD].\\n\")])\n"
     ]
    },
    {
     "name": "stdout",
     "output_type": "stream",
     "text": [
      "Trade(contract=Stock(conId=9869443, symbol='ILMN', exchange='SMART', primaryExchange='NASDAQ', currency='USD', localSymbol='ILMN', tradingClass='NMS'), order=LimitOrder(orderId=20075, clientId=1, action='BUY', totalQuantity=31.0, lmtPrice=322.63, outsideRth=True, account='DU1507427', conditions=[], softDollarTier=SoftDollarTier()), orderStatus=OrderStatus(status='PendingSubmit'), fills=[], log=[TradeLogEntry(time=datetime.datetime(2019, 12, 13, 12, 15, 13, 24843, tzinfo=datetime.timezone.utc), status='PendingSubmit', message='')])\n",
      "\n",
      "\u001b[31m Close Long \u001b[0m  sur le ticker  IPG  basé sur un close limité à  23.06 \n",
      "\n",
      "Trade(contract=Stock(conId=8514, symbol='IPG', exchange='SMART', primaryExchange='NYSE', currency='USD', localSymbol='IPG', tradingClass='IPG'), order=LimitOrder(orderId=20077, clientId=1, action='SELL', totalQuantity=440.0, lmtPrice=22.32, outsideRth=True, account='DU1507427', conditions=[], softDollarTier=SoftDollarTier()), orderStatus=OrderStatus(status='PendingSubmit'), fills=[], log=[TradeLogEntry(time=datetime.datetime(2019, 12, 13, 12, 15, 13, 480886, tzinfo=datetime.timezone.utc), status='PendingSubmit', message='')])\n",
      "\n",
      "\u001b[32m Open Short \u001b[0m  sur le ticker  IVZ  basé sur un close limité à  17.71 \n",
      "\n"
     ]
    },
    {
     "name": "stderr",
     "output_type": "stream",
     "text": [
      "Error 201, reqId 20079: Ordre rejeté - Raison :Votre ordre a été rejeté parce que votre actif avec valeur d'emprunt pour [432197.38 USD] ne suffit pas pour couvrir l'exigence de marge initiale de [444270.94 USD].\n",
      "\n",
      "Canceled order: Trade(contract=Stock(conId=47550606, symbol='IVZ', exchange='SMART', primaryExchange='NYSE', currency='USD', localSymbol='IVZ', tradingClass='IVZ'), order=LimitOrder(orderId=20079, clientId=1, permId=495755502, action='SELL', totalQuantity=560.0, lmtPrice=17.67, auxPrice=0.0, tif='DAY', ocaType=3, outsideRth=True, trailStopPrice=18.67, volatilityType=0, deltaNeutralOrderType='None', referencePriceType=0, account='DU1507427', clearingIntent='IB', orderComboLegs=[], adjustedOrderType='None', conditions=[], softDollarTier=SoftDollarTier(), cashQty=0.0, dontUseAutoPriceForHedge=True), orderStatus=OrderStatus(status='Cancelled', remaining=560.0, permId=495755502, clientId=1), fills=[], log=[TradeLogEntry(time=datetime.datetime(2019, 12, 13, 12, 15, 13, 940149, tzinfo=datetime.timezone.utc), status='PendingSubmit', message=''), TradeLogEntry(time=datetime.datetime(2019, 12, 13, 12, 15, 14, 88196, tzinfo=datetime.timezone.utc), status='Inactive', message=''), TradeLogEntry(time=datetime.datetime(2019, 12, 13, 12, 15, 14, 89109, tzinfo=datetime.timezone.utc), status='Cancelled', message=\"Error 201, reqId 20079: Ordre rejeté - Raison :Votre ordre a été rejeté parce que votre actif avec valeur d'emprunt pour [432197.38 USD] ne suffit pas pour couvrir l'exigence de marge initiale de [444270.94 USD].\\n\")])\n"
     ]
    },
    {
     "name": "stdout",
     "output_type": "stream",
     "text": [
      "Trade(contract=Stock(conId=47550606, symbol='IVZ', exchange='SMART', primaryExchange='NYSE', currency='USD', localSymbol='IVZ', tradingClass='IVZ'), order=LimitOrder(orderId=20079, clientId=1, action='SELL', totalQuantity=560.0, lmtPrice=17.67, outsideRth=True, account='DU1507427', conditions=[], softDollarTier=SoftDollarTier()), orderStatus=OrderStatus(status='PendingSubmit'), fills=[], log=[TradeLogEntry(time=datetime.datetime(2019, 12, 13, 12, 15, 13, 940149, tzinfo=datetime.timezone.utc), status='PendingSubmit', message='')])\n",
      "\n",
      "\u001b[32m Open Long \u001b[0m  sur le ticker  JEC  basé sur un close limité à  88.09 \n",
      "\n"
     ]
    },
    {
     "name": "stderr",
     "output_type": "stream",
     "text": [
      "Error 200, reqId 20080: Aucune définition de titre trouvée pour cette requête, contract: Stock(symbol='JEC', exchange='SMART', currency='USD')\n",
      "Unknown contract: Stock(symbol='JEC', exchange='SMART', currency='USD')\n"
     ]
    },
    {
     "name": "stdout",
     "output_type": "stream",
     "text": [
      "Trade(contract=Stock(symbol='JEC', exchange='SMART', currency='USD'), order=LimitOrder(orderId=20081, clientId=1, action='BUY', totalQuantity=112.0, lmtPrice=88.27, outsideRth=True, account='DU1507427', conditions=[], softDollarTier=SoftDollarTier()), orderStatus=OrderStatus(status='PendingSubmit'), fills=[], log=[TradeLogEntry(time=datetime.datetime(2019, 12, 13, 12, 15, 14, 170943, tzinfo=datetime.timezone.utc), status='PendingSubmit', message='')])\n"
     ]
    },
    {
     "name": "stderr",
     "output_type": "stream",
     "text": [
      "Error 200, reqId 20081: Aucune définition de titre trouvée pour cette requête\n",
      "Canceled order: Trade(contract=Stock(symbol='JEC', exchange='SMART', currency='USD'), order=LimitOrder(orderId=20081, clientId=1, action='BUY', totalQuantity=112.0, lmtPrice=88.27, outsideRth=True, account='DU1507427', conditions=[], softDollarTier=SoftDollarTier()), orderStatus=OrderStatus(status='Cancelled'), fills=[], log=[TradeLogEntry(time=datetime.datetime(2019, 12, 13, 12, 15, 14, 170943, tzinfo=datetime.timezone.utc), status='PendingSubmit', message=''), TradeLogEntry(time=datetime.datetime(2019, 12, 13, 12, 15, 14, 452875, tzinfo=datetime.timezone.utc), status='Cancelled', message='Error 200, reqId 20081: Aucune définition de titre trouvée pour cette requête')])\n"
     ]
    },
    {
     "name": "stdout",
     "output_type": "stream",
     "text": [
      "\n",
      "\u001b[32m Open Short \u001b[0m  sur le ticker  KR  basé sur un close limité à  28.2 \n",
      "\n",
      "Trade(contract=Stock(conId=8908, symbol='KR', exchange='SMART', primaryExchange='NYSE', currency='USD', localSymbol='KR', tradingClass='KR'), order=LimitOrder(orderId=20083, clientId=1, action='SELL', totalQuantity=352.0, lmtPrice=28.14, outsideRth=True, account='DU1507427', conditions=[], softDollarTier=SoftDollarTier()), orderStatus=OrderStatus(status='PendingSubmit'), fills=[], log=[TradeLogEntry(time=datetime.datetime(2019, 12, 13, 12, 15, 14, 826740, tzinfo=datetime.timezone.utc), status='PendingSubmit', message='')])\n"
     ]
    },
    {
     "name": "stderr",
     "output_type": "stream",
     "text": [
      "Error 201, reqId 20083: Ordre rejeté - Raison :Votre ordre a été rejeté parce que votre actif avec valeur d'emprunt pour [432250.12 USD] ne suffit pas pour couvrir l'exigence de marge initiale de [444272.08 USD].\n",
      "\n",
      "Canceled order: Trade(contract=Stock(conId=8908, symbol='KR', exchange='SMART', primaryExchange='NYSE', currency='USD', localSymbol='KR', tradingClass='KR'), order=LimitOrder(orderId=20083, clientId=1, permId=495755503, action='SELL', totalQuantity=352.0, lmtPrice=28.14, auxPrice=0.0, tif='DAY', ocaType=3, outsideRth=True, trailStopPrice=29.14, volatilityType=0, deltaNeutralOrderType='None', referencePriceType=0, account='DU1507427', clearingIntent='IB', orderComboLegs=[], adjustedOrderType='None', conditions=[], softDollarTier=SoftDollarTier(), cashQty=0.0, dontUseAutoPriceForHedge=True), orderStatus=OrderStatus(status='Cancelled', remaining=352.0, permId=495755503, clientId=1), fills=[], log=[TradeLogEntry(time=datetime.datetime(2019, 12, 13, 12, 15, 14, 826740, tzinfo=datetime.timezone.utc), status='PendingSubmit', message=''), TradeLogEntry(time=datetime.datetime(2019, 12, 13, 12, 15, 15, 69178, tzinfo=datetime.timezone.utc), status='Inactive', message=''), TradeLogEntry(time=datetime.datetime(2019, 12, 13, 12, 15, 15, 69178, tzinfo=datetime.timezone.utc), status='Cancelled', message=\"Error 201, reqId 20083: Ordre rejeté - Raison :Votre ordre a été rejeté parce que votre actif avec valeur d'emprunt pour [432250.12 USD] ne suffit pas pour couvrir l'exigence de marge initiale de [444272.08 USD].\\n\")])\n"
     ]
    },
    {
     "name": "stdout",
     "output_type": "stream",
     "text": [
      "\n",
      "\u001b[32m Open Long \u001b[0m  sur le ticker  LMT  basé sur un close limité à  384.05 \n",
      "\n",
      "Trade(contract=Stock(conId=611191, symbol='LMT', exchange='SMART', primaryExchange='NYSE', currency='USD', localSymbol='LMT', tradingClass='LMT'), order=LimitOrder(orderId=20085, clientId=1, action='BUY', totalQuantity=26.0, lmtPrice=384.82, outsideRth=True, account='DU1507427', conditions=[], softDollarTier=SoftDollarTier()), orderStatus=OrderStatus(status='PendingSubmit'), fills=[], log=[TradeLogEntry(time=datetime.datetime(2019, 12, 13, 12, 15, 15, 426495, tzinfo=datetime.timezone.utc), status='PendingSubmit', message='')])\n"
     ]
    },
    {
     "name": "stderr",
     "output_type": "stream",
     "text": [
      "Error 201, reqId 20085: Ordre rejeté - Raison :Votre ordre a été rejeté parce que votre actif avec valeur d'emprunt pour [432273.25 USD] ne suffit pas pour couvrir l'exigence de marge initiale de [444281.81 USD].\n",
      "\n",
      "Canceled order: Trade(contract=Stock(conId=611191, symbol='LMT', exchange='SMART', primaryExchange='NYSE', currency='USD', localSymbol='LMT', tradingClass='LMT'), order=LimitOrder(orderId=20085, clientId=1, permId=495755504, action='BUY', totalQuantity=26.0, lmtPrice=384.82, auxPrice=0.0, tif='DAY', ocaType=3, outsideRth=True, trailStopPrice=385.82, volatilityType=0, deltaNeutralOrderType='None', referencePriceType=0, account='DU1507427', clearingIntent='IB', orderComboLegs=[], adjustedOrderType='None', conditions=[], softDollarTier=SoftDollarTier(), cashQty=0.0, dontUseAutoPriceForHedge=True), orderStatus=OrderStatus(status='Cancelled', remaining=26.0, permId=495755504, clientId=1), fills=[], log=[TradeLogEntry(time=datetime.datetime(2019, 12, 13, 12, 15, 15, 426495, tzinfo=datetime.timezone.utc), status='PendingSubmit', message=''), TradeLogEntry(time=datetime.datetime(2019, 12, 13, 12, 15, 16, 72731, tzinfo=datetime.timezone.utc), status='Inactive', message=''), TradeLogEntry(time=datetime.datetime(2019, 12, 13, 12, 15, 16, 72731, tzinfo=datetime.timezone.utc), status='Cancelled', message=\"Error 201, reqId 20085: Ordre rejeté - Raison :Votre ordre a été rejeté parce que votre actif avec valeur d'emprunt pour [432273.25 USD] ne suffit pas pour couvrir l'exigence de marge initiale de [444281.81 USD].\\n\")])\n"
     ]
    },
    {
     "name": "stdout",
     "output_type": "stream",
     "text": [
      "\n",
      "\u001b[31m Close Short \u001b[0m  sur le ticker  MXIM  basé sur un close limité à  59.46 \n",
      "\n",
      "Trade(contract=Stock(conId=272207, symbol='MXIM', exchange='SMART', primaryExchange='NASDAQ', currency='USD', localSymbol='MXIM', tradingClass='NMS'), order=LimitOrder(orderId=20087, clientId=1, action='BUY', totalQuantity=178.0, lmtPrice=55.31, outsideRth=True, account='DU1507427', conditions=[], softDollarTier=SoftDollarTier()), orderStatus=OrderStatus(status='PendingSubmit'), fills=[], log=[TradeLogEntry(time=datetime.datetime(2019, 12, 13, 12, 15, 16, 446226, tzinfo=datetime.timezone.utc), status='PendingSubmit', message='')])\n",
      "\n",
      "\u001b[32m Open Short \u001b[0m  sur le ticker  NKE  basé sur un close limité à  97.72 \n",
      "\n",
      "Trade(contract=Stock(conId=10291, symbol='NKE', exchange='SMART', primaryExchange='NYSE', currency='USD', localSymbol='NKE', tradingClass='NKE'), order=LimitOrder(orderId=20089, clientId=1, action='SELL', totalQuantity=102.0, lmtPrice=97.52, outsideRth=True, account='DU1507427', conditions=[], softDollarTier=SoftDollarTier()), orderStatus=OrderStatus(status='PendingSubmit'), fills=[], log=[TradeLogEntry(time=datetime.datetime(2019, 12, 13, 12, 15, 16, 943318, tzinfo=datetime.timezone.utc), status='PendingSubmit', message='')])\n"
     ]
    },
    {
     "name": "stderr",
     "output_type": "stream",
     "text": [
      "Error 201, reqId 20089: Ordre rejeté - Raison :Votre ordre a été rejeté parce que votre actif avec valeur d'emprunt pour [432259.79 USD] ne suffit pas pour couvrir l'exigence de marge initiale de [444278.85 USD].\n",
      "\n",
      "Canceled order: Trade(contract=Stock(conId=10291, symbol='NKE', exchange='SMART', primaryExchange='NYSE', currency='USD', localSymbol='NKE', tradingClass='NKE'), order=LimitOrder(orderId=20089, clientId=1, permId=495755506, action='SELL', totalQuantity=102.0, lmtPrice=97.52, auxPrice=0.0, tif='DAY', ocaType=3, outsideRth=True, trailStopPrice=98.52, volatilityType=0, deltaNeutralOrderType='None', referencePriceType=0, account='DU1507427', clearingIntent='IB', orderComboLegs=[], adjustedOrderType='None', conditions=[], softDollarTier=SoftDollarTier(), cashQty=0.0, dontUseAutoPriceForHedge=True), orderStatus=OrderStatus(status='Cancelled', remaining=102.0, permId=495755506, clientId=1), fills=[], log=[TradeLogEntry(time=datetime.datetime(2019, 12, 13, 12, 15, 16, 943318, tzinfo=datetime.timezone.utc), status='PendingSubmit', message=''), TradeLogEntry(time=datetime.datetime(2019, 12, 13, 12, 15, 17, 690744, tzinfo=datetime.timezone.utc), status='Inactive', message=''), TradeLogEntry(time=datetime.datetime(2019, 12, 13, 12, 15, 17, 690744, tzinfo=datetime.timezone.utc), status='Cancelled', message=\"Error 201, reqId 20089: Ordre rejeté - Raison :Votre ordre a été rejeté parce que votre actif avec valeur d'emprunt pour [432259.79 USD] ne suffit pas pour couvrir l'exigence de marge initiale de [444278.85 USD].\\n\")])\n"
     ]
    },
    {
     "name": "stdout",
     "output_type": "stream",
     "text": [
      "\n",
      "\u001b[32m Open Short \u001b[0m  sur le ticker  PXD  basé sur un close limité à  139.55 \n",
      "\n"
     ]
    },
    {
     "name": "stderr",
     "output_type": "stream",
     "text": [
      "Error 201, reqId 20091: Ordre rejeté - Raison :Votre ordre a été rejeté parce que votre actif avec valeur d'emprunt pour [432196.07 USD] ne suffit pas pour couvrir l'exigence de marge initiale de [444269.09 USD].\n",
      "\n",
      "Canceled order: Trade(contract=Stock(conId=3142097, symbol='PXD', exchange='SMART', primaryExchange='NYSE', currency='USD', localSymbol='PXD', tradingClass='PXD'), order=LimitOrder(orderId=20091, clientId=1, permId=495755507, action='SELL', totalQuantity=71.0, lmtPrice=139.27, auxPrice=0.0, tif='DAY', ocaType=3, outsideRth=True, trailStopPrice=140.27, volatilityType=0, deltaNeutralOrderType='None', referencePriceType=0, account='DU1507427', clearingIntent='IB', orderComboLegs=[], adjustedOrderType='None', conditions=[], softDollarTier=SoftDollarTier(), cashQty=0.0, dontUseAutoPriceForHedge=True), orderStatus=OrderStatus(status='Cancelled', remaining=71.0, permId=495755507, clientId=1), fills=[], log=[TradeLogEntry(time=datetime.datetime(2019, 12, 13, 12, 15, 18, 44006, tzinfo=datetime.timezone.utc), status='PendingSubmit', message=''), TradeLogEntry(time=datetime.datetime(2019, 12, 13, 12, 15, 18, 257575, tzinfo=datetime.timezone.utc), status='Inactive', message=''), TradeLogEntry(time=datetime.datetime(2019, 12, 13, 12, 15, 18, 257575, tzinfo=datetime.timezone.utc), status='Cancelled', message=\"Error 201, reqId 20091: Ordre rejeté - Raison :Votre ordre a été rejeté parce que votre actif avec valeur d'emprunt pour [432196.07 USD] ne suffit pas pour couvrir l'exigence de marge initiale de [444269.09 USD].\\n\")])\n"
     ]
    },
    {
     "name": "stdout",
     "output_type": "stream",
     "text": [
      "Trade(contract=Stock(conId=3142097, symbol='PXD', exchange='SMART', primaryExchange='NYSE', currency='USD', localSymbol='PXD', tradingClass='PXD'), order=LimitOrder(orderId=20091, clientId=1, action='SELL', totalQuantity=71.0, lmtPrice=139.27, outsideRth=True, account='DU1507427', conditions=[], softDollarTier=SoftDollarTier()), orderStatus=OrderStatus(status='PendingSubmit'), fills=[], log=[TradeLogEntry(time=datetime.datetime(2019, 12, 13, 12, 15, 18, 44006, tzinfo=datetime.timezone.utc), status='PendingSubmit', message='')])\n",
      "\n",
      "\u001b[32m Open Short \u001b[0m  sur le ticker  RL  basé sur un close limité à  115.75 \n",
      "\n"
     ]
    },
    {
     "name": "stderr",
     "output_type": "stream",
     "text": [
      "Error 201, reqId 20093: Ordre rejeté - Raison :Votre ordre a été rejeté parce que votre actif avec valeur d'emprunt pour [432241.94 USD] ne suffit pas pour couvrir l'exigence de marge initiale de [444276.77 USD].\n",
      "\n",
      "Canceled order: Trade(contract=Stock(conId=92306678, symbol='RL', exchange='SMART', primaryExchange='NYSE', currency='USD', localSymbol='RL', tradingClass='RL'), order=LimitOrder(orderId=20093, clientId=1, permId=495755508, action='SELL', totalQuantity=86.0, lmtPrice=115.52, auxPrice=0.0, tif='DAY', ocaType=3, outsideRth=True, trailStopPrice=116.52, volatilityType=0, deltaNeutralOrderType='None', referencePriceType=0, account='DU1507427', clearingIntent='IB', orderComboLegs=[], adjustedOrderType='None', conditions=[], softDollarTier=SoftDollarTier(), cashQty=0.0, dontUseAutoPriceForHedge=True), orderStatus=OrderStatus(status='Cancelled', remaining=86.0, permId=495755508, clientId=1), fills=[], log=[TradeLogEntry(time=datetime.datetime(2019, 12, 13, 12, 15, 18, 606181, tzinfo=datetime.timezone.utc), status='PendingSubmit', message=''), TradeLogEntry(time=datetime.datetime(2019, 12, 13, 12, 15, 18, 754691, tzinfo=datetime.timezone.utc), status='Inactive', message=''), TradeLogEntry(time=datetime.datetime(2019, 12, 13, 12, 15, 18, 756118, tzinfo=datetime.timezone.utc), status='Cancelled', message=\"Error 201, reqId 20093: Ordre rejeté - Raison :Votre ordre a été rejeté parce que votre actif avec valeur d'emprunt pour [432241.94 USD] ne suffit pas pour couvrir l'exigence de marge initiale de [444276.77 USD].\\n\")])\n"
     ]
    },
    {
     "name": "stdout",
     "output_type": "stream",
     "text": [
      "Trade(contract=Stock(conId=92306678, symbol='RL', exchange='SMART', primaryExchange='NYSE', currency='USD', localSymbol='RL', tradingClass='RL'), order=LimitOrder(orderId=20093, clientId=1, action='SELL', totalQuantity=86.0, lmtPrice=115.52, outsideRth=True, account='DU1507427', conditions=[], softDollarTier=SoftDollarTier()), orderStatus=OrderStatus(status='PendingSubmit'), fills=[], log=[TradeLogEntry(time=datetime.datetime(2019, 12, 13, 12, 15, 18, 606181, tzinfo=datetime.timezone.utc), status='PendingSubmit', message='')])\n",
      "\n",
      "\u001b[31m Close Long \u001b[0m  sur le ticker  ROK  basé sur un close limité à  205.47 \n",
      "\n",
      "Trade(contract=Stock(conId=11697, symbol='ROK', exchange='SMART', primaryExchange='NYSE', currency='USD', localSymbol='ROK', tradingClass='ROK'), order=LimitOrder(orderId=20095, clientId=1, action='SELL', totalQuantity=50.0, lmtPrice=198.09, outsideRth=True, account='DU1507427', conditions=[], softDollarTier=SoftDollarTier()), orderStatus=OrderStatus(status='PendingSubmit'), fills=[], log=[TradeLogEntry(time=datetime.datetime(2019, 12, 13, 12, 15, 19, 110181, tzinfo=datetime.timezone.utc), status='PendingSubmit', message='')])\n",
      "\n",
      "\u001b[31m Close Long \u001b[0m  sur le ticker  SPG  basé sur un close limité à  144.01 \n",
      "\n",
      "Trade(contract=Stock(conId=2009113, symbol='SPG', exchange='SMART', primaryExchange='NYSE', currency='USD', localSymbol='SPG', tradingClass='SPG'), order=LimitOrder(orderId=20097, clientId=1, action='SELL', totalQuantity=65.0, lmtPrice=154.04, outsideRth=True, account='DU1507427', conditions=[], softDollarTier=SoftDollarTier()), orderStatus=OrderStatus(status='PendingSubmit'), fills=[], log=[TradeLogEntry(time=datetime.datetime(2019, 12, 13, 12, 15, 19, 530977, tzinfo=datetime.timezone.utc), status='PendingSubmit', message='')])\n",
      "\n",
      "\u001b[32m Open Short \u001b[0m  sur le ticker  TMUS  basé sur un close limité à  74.89 \n",
      "\n",
      "Trade(contract=Stock(conId=125980227, symbol='TMUS', exchange='SMART', primaryExchange='NASDAQ', currency='USD', localSymbol='TMUS', tradingClass='NMS'), order=LimitOrder(orderId=20099, clientId=1, action='SELL', totalQuantity=132.0, lmtPrice=74.74, outsideRth=True, account='DU1507427', conditions=[], softDollarTier=SoftDollarTier()), orderStatus=OrderStatus(status='PendingSubmit'), fills=[], log=[TradeLogEntry(time=datetime.datetime(2019, 12, 13, 12, 15, 20, 416228, tzinfo=datetime.timezone.utc), status='PendingSubmit', message='')])\n"
     ]
    },
    {
     "name": "stderr",
     "output_type": "stream",
     "text": [
      "Error 201, reqId 20099: Ordre rejeté - Raison :Votre ordre a été rejeté parce que votre actif avec valeur d'emprunt pour [432148.72 USD] ne suffit pas pour couvrir l'exigence de marge initiale de [442570.25 USD].\n",
      "\n",
      "Canceled order: Trade(contract=Stock(conId=125980227, symbol='TMUS', exchange='SMART', primaryExchange='NASDAQ', currency='USD', localSymbol='TMUS', tradingClass='NMS'), order=LimitOrder(orderId=20099, clientId=1, permId=495755511, action='SELL', totalQuantity=132.0, lmtPrice=74.74, auxPrice=0.0, tif='DAY', ocaType=3, outsideRth=True, trailStopPrice=75.74, volatilityType=0, deltaNeutralOrderType='None', referencePriceType=0, account='DU1507427', clearingIntent='IB', orderComboLegs=[], adjustedOrderType='None', conditions=[], softDollarTier=SoftDollarTier(), cashQty=0.0, dontUseAutoPriceForHedge=True), orderStatus=OrderStatus(status='Cancelled', remaining=132.0, permId=495755511, clientId=1), fills=[], log=[TradeLogEntry(time=datetime.datetime(2019, 12, 13, 12, 15, 20, 416228, tzinfo=datetime.timezone.utc), status='PendingSubmit', message=''), TradeLogEntry(time=datetime.datetime(2019, 12, 13, 12, 15, 21, 54134, tzinfo=datetime.timezone.utc), status='Inactive', message=''), TradeLogEntry(time=datetime.datetime(2019, 12, 13, 12, 15, 21, 54134, tzinfo=datetime.timezone.utc), status='Cancelled', message=\"Error 201, reqId 20099: Ordre rejeté - Raison :Votre ordre a été rejeté parce que votre actif avec valeur d'emprunt pour [432148.72 USD] ne suffit pas pour couvrir l'exigence de marge initiale de [442570.25 USD].\\n\")])\n"
     ]
    },
    {
     "name": "stdout",
     "output_type": "stream",
     "text": [
      "\n",
      "\u001b[31m Close Long \u001b[0m  sur le ticker  WAB  basé sur un close limité à  75.14 \n",
      "\n",
      "Trade(contract=Stock(conId=661633, symbol='WAB', exchange='SMART', primaryExchange='NYSE', currency='USD', localSymbol='WAB', tradingClass='WAB'), order=LimitOrder(orderId=20101, clientId=1, action='SELL', totalQuantity=125.0, lmtPrice=78.74, outsideRth=True, account='DU1507427', conditions=[], softDollarTier=SoftDollarTier()), orderStatus=OrderStatus(status='PendingSubmit'), fills=[], log=[TradeLogEntry(time=datetime.datetime(2019, 12, 13, 12, 15, 21, 396592, tzinfo=datetime.timezone.utc), status='PendingSubmit', message='')])\n",
      "\n",
      "\u001b[31m Close Short \u001b[0m  sur le ticker  WBA  basé sur un close limité à  58.58 \n",
      "\n",
      "Trade(contract=Stock(conId=178634687, symbol='WBA', exchange='SMART', primaryExchange='NASDAQ', currency='USD', localSymbol='WBA', tradingClass='NMS'), order=LimitOrder(orderId=20103, clientId=1, action='BUY', totalQuantity=175.0, lmtPrice=57.26, outsideRth=True, account='DU1507427', conditions=[], softDollarTier=SoftDollarTier()), orderStatus=OrderStatus(status='PendingSubmit'), fills=[], log=[TradeLogEntry(time=datetime.datetime(2019, 12, 13, 12, 15, 21, 880399, tzinfo=datetime.timezone.utc), status='PendingSubmit', message='')])\n",
      "\n",
      "\u001b[32m Open Short \u001b[0m  sur le ticker  WDC  basé sur un close limité à  53.73 \n",
      "\n"
     ]
    },
    {
     "name": "stderr",
     "output_type": "stream",
     "text": [
      "Error 201, reqId 20105: Ordre rejeté - Raison :Votre ordre a été rejeté parce que votre actif avec valeur d'emprunt pour [432151.35 USD] ne suffit pas pour couvrir l'exigence de marge initiale de [442579.28 USD].\n",
      "\n",
      "Canceled order: Trade(contract=Stock(conId=13681, symbol='WDC', exchange='SMART', primaryExchange='NASDAQ', currency='USD', localSymbol='WDC', tradingClass='NMS'), order=LimitOrder(orderId=20105, clientId=1, permId=495755514, action='SELL', totalQuantity=185.0, lmtPrice=53.62, auxPrice=0.0, tif='DAY', ocaType=3, outsideRth=True, trailStopPrice=54.62, volatilityType=0, deltaNeutralOrderType='None', referencePriceType=0, account='DU1507427', clearingIntent='IB', orderComboLegs=[], adjustedOrderType='None', conditions=[], softDollarTier=SoftDollarTier(), cashQty=0.0, dontUseAutoPriceForHedge=True), orderStatus=OrderStatus(status='Cancelled', remaining=185.0, permId=495755514, clientId=1), fills=[], log=[TradeLogEntry(time=datetime.datetime(2019, 12, 13, 12, 15, 22, 376449, tzinfo=datetime.timezone.utc), status='PendingSubmit', message=''), TradeLogEntry(time=datetime.datetime(2019, 12, 13, 12, 15, 22, 583129, tzinfo=datetime.timezone.utc), status='Inactive', message=''), TradeLogEntry(time=datetime.datetime(2019, 12, 13, 12, 15, 22, 583129, tzinfo=datetime.timezone.utc), status='Cancelled', message=\"Error 201, reqId 20105: Ordre rejeté - Raison :Votre ordre a été rejeté parce que votre actif avec valeur d'emprunt pour [432151.35 USD] ne suffit pas pour couvrir l'exigence de marge initiale de [442579.28 USD].\\n\")])\n"
     ]
    },
    {
     "name": "stdout",
     "output_type": "stream",
     "text": [
      "Trade(contract=Stock(conId=13681, symbol='WDC', exchange='SMART', primaryExchange='NASDAQ', currency='USD', localSymbol='WDC', tradingClass='NMS'), order=LimitOrder(orderId=20105, clientId=1, action='SELL', totalQuantity=185.0, lmtPrice=53.62, outsideRth=True, account='DU1507427', conditions=[], softDollarTier=SoftDollarTier()), orderStatus=OrderStatus(status='PendingSubmit'), fills=[], log=[TradeLogEntry(time=datetime.datetime(2019, 12, 13, 12, 15, 22, 376449, tzinfo=datetime.timezone.utc), status='PendingSubmit', message='')])\n",
      "\n",
      "\u001b[31m Close Long \u001b[0m  sur le ticker  XEC  basé sur un close limité à  49.04 \n",
      "\n",
      "Trade(contract=Stock(conId=16191746, symbol='XEC', exchange='SMART', primaryExchange='NYSE', currency='USD', localSymbol='XEC', tradingClass='XEC'), order=LimitOrder(orderId=20107, clientId=1, action='SELL', totalQuantity=197.0, lmtPrice=50.82, outsideRth=True, account='DU1507427', conditions=[], softDollarTier=SoftDollarTier()), orderStatus=OrderStatus(status='PendingSubmit'), fills=[], log=[TradeLogEntry(time=datetime.datetime(2019, 12, 13, 12, 15, 22, 936936, tzinfo=datetime.timezone.utc), status='PendingSubmit', message='')])\n",
      "\n",
      "\u001b[32m Open Long \u001b[0m  sur le ticker  XOM  basé sur un close limité à  70.34 \n",
      "\n",
      "Trade(contract=Stock(conId=13977, symbol='XOM', exchange='SMART', primaryExchange='NYSE', currency='USD', localSymbol='XOM', tradingClass='XOM'), order=LimitOrder(orderId=20109, clientId=1, action='BUY', totalQuantity=140.0, lmtPrice=70.48, outsideRth=True, account='DU1507427', conditions=[], softDollarTier=SoftDollarTier()), orderStatus=OrderStatus(status='PendingSubmit'), fills=[], log=[TradeLogEntry(time=datetime.datetime(2019, 12, 13, 12, 15, 23, 440739, tzinfo=datetime.timezone.utc), status='PendingSubmit', message='')])\n",
      "\n",
      " Ensemble des opérations du jour effectué en 23.840000 seconds \n",
      "\n",
      "Il y a eu  5  Open Long,  14  Open Short,  11  Close Long, et  7  Close Short.\n",
      "Golem est maintenant déconnecté de IB\n"
     ]
    }
   ],
   "source": [
    "import warnings\n",
    "warnings.filterwarnings(\"ignore\")\n",
    "\n",
    "print('Importing Librairies...')\n",
    "import warnings\n",
    "warnings.filterwarnings(\"ignore\")\n",
    "import ib_insync\n",
    "from ib_insync import *\n",
    "import numpy as np\n",
    "import pandas as pd\n",
    "import pandas_datareader as web\n",
    "from colorama import Fore, Back, Style\n",
    "import time\n",
    "import datetime as dt\n",
    "import os\n",
    "import sys\n",
    "print('Librairies imported')\n",
    "print('')\n",
    "\n",
    "___Author___='LumberJack Jyss'\n",
    "print('Global Optimized LumberJack Environment Motor 55\\nLumberJack Jyss 5779(c)')\n",
    "print(Fore.BLUE,'°0Oo_D.A.G._26_oO0°')\n",
    "print(Fore.YELLOW,Back.BLUE,'PlaySignal IB Version v1.55',Style.RESET_ALL)\n",
    "\n",
    "print('')\n",
    "ib = IB()\n",
    "\n",
    "\n",
    "try:\n",
    "    LaBase = pd.read_csv('LaBase.csv')\n",
    "    print('LaBase est chargée :\\n',LaBase.tail(2))\n",
    "    try:\n",
    "        LaBase = LaBase.drop(['Unnamed: 0'],axis=1)\n",
    "    except:\n",
    "        pass\n",
    "    try:\n",
    "        LaBase = LaBase.drop(['Date.1'],axis=1)\n",
    "    except:\n",
    "        pass\n",
    "except:\n",
    "    print(\"Il n'y a pas de fichier LaBase\")\n",
    "    kill()\n",
    "stamp = input(\"Enter the date (YYYY-MM-DD): \")\n",
    "compte = 'DU1507427'\n",
    "\n",
    "def conX():\n",
    "    util.startLoop()  # uncomment this line when in a notebook\n",
    "    ib.connect('127.0.0.1', 7497, clientId=1)\n",
    "    if ib.isConnected() == True:\n",
    "        print('Golem est maintenant connecté à IB')\n",
    "    return\n",
    "\n",
    "def disconX():\n",
    "    ib.disconnect()\n",
    "    if ib.isConnected() == False:\n",
    "        print('Golem est maintenant déconnecté de IB')\n",
    "    return\n",
    "\n",
    "\n",
    "\n",
    "def relevpoz():\n",
    "    CPT = []\n",
    "    QT = []\n",
    "    TYPE = []\n",
    "    STOCK = []\n",
    "    TICK = []\n",
    "    AVGCOST = []\n",
    "    globalpoz = ib.positions(account=compte)\n",
    "    \n",
    "    if globalpoz == []:\n",
    "        print(\"Il n'y a aucune position en cours actuellement.\")\n",
    "        poz = pd.DataFrame({'ALERTE': [101]}) \n",
    "    else:\n",
    "        print('Il y a actuellement ',len(globalpoz),'positions en cours')\n",
    "        for i in range(0,len(globalpoz)):\n",
    "            CPT.append(globalpoz[i][0])\n",
    "            TYPE.append(str(globalpoz[i][1]).split(\"(\")[0])\n",
    "            if str(globalpoz[i][1]).split(\"(\")[0] == 'Future':\n",
    "                TICK.append(str(globalpoz[i][1]).split(\"'\")[1])\n",
    "            elif str(globalpoz[i][1]).split(\"(\")[0] == 'Forex':\n",
    "                TICK.append(str(globalpoz[i][1]).split(\"'\")[1])\n",
    "            elif str(globalpoz[i][1]).split(\"(\")[0] == 'Stock':\n",
    "                TICK.append(str(globalpoz[i][1]).split(\"'\")[1])\n",
    "            else:\n",
    "                TICK.append('NA')\n",
    "\n",
    "            QT.append(globalpoz[i][2])\n",
    "            AVGCOST.append(globalpoz[i][3])\n",
    "            poz = pd.DataFrame()\n",
    "            \n",
    "            poz['Compte'] = CPT\n",
    "            poz['Type'] = TYPE\n",
    "            poz['Ticker'] = TICK\n",
    "            poz['Quantité'] = QT\n",
    "            poz['Average Cost'] = AVGCOST\n",
    "            poz.to_csv('RelevPoz_'+time.strftime(\"%d_%m_%Y_%H_%M_%S\", time.localtime())+'.csv')\n",
    "    return(poz)\n",
    "\n",
    "def price_close(LaBase,ticker):\n",
    "    \n",
    "    #today = str(dt.date.today())[:5]+str(dt.date.today())[5:7]+str(dt.date.today())[7:10]\n",
    "    #yesterday = str(dt.date.today()-dt.timedelta(1))[:5]+str(dt.date.today()-dt.timedelta(1))[5:7]+str(dt.date.today()-dt.timedelta(1))[7:10]\n",
    "    \n",
    "    #if str(web.DataReader(ticker,'yahoo',yesterday,today).index[-1])[:10] == today:\n",
    "    #    price = web.DataReader(ticker,'yahoo',yesterday,today).iloc[-2,3]\n",
    "\n",
    "    #elif str(web.DataReader(ticker,'yahoo',yesterday,today).index[-1])[:10] == yesterday:\n",
    "    #    price = web.DataReader(ticker,'yahoo',yesterday,today).iloc[-1,3]\n",
    "    #else:\n",
    "    #    price = web.DataReader(ticker,'yahoo',yesterday,today).iloc[-1,3]\n",
    "    \n",
    "    price = round(LaBase[LaBase['Symbol']==ticker].iloc[-1]['Close'],2)\n",
    "    \n",
    "    return(price)\n",
    "\n",
    "def BUY(contract,quantity,pot):\n",
    "    #Contract(conId=270639)\n",
    "    ib.qualifyContracts(contract)\n",
    "    order = LimitOrder('BUY', quantity, pot,account=compte,outsideRth=True)\n",
    "    trade = ib.placeOrder(contract, order)\n",
    "    print(trade)\n",
    "    return()\n",
    "\n",
    "def SELL(contract,quantity,pot):\n",
    "    #Contract(conId=270639)\n",
    "    ib.qualifyContracts(contract)\n",
    "    order = LimitOrder('SELL', quantity, pot,account=compte,outsideRth=True)\n",
    "    trade = ib.placeOrder(contract, order)\n",
    "    print(trade)\n",
    "    return()\n",
    "\n",
    "try:\n",
    "    disconX()\n",
    "except:\n",
    "    pass\n",
    "\n",
    "try:\n",
    "    conX()\n",
    "except:\n",
    "    pass\n",
    "\n",
    "today = str(dt.date.today())[:5]+str(dt.date.today())[5:7]+str(dt.date.today())[7:10]\n",
    "yesterday = str(dt.date.today()-dt.timedelta(1))[:5]+str(dt.date.today()-dt.timedelta(1))[5:7]+str(dt.date.today()-dt.timedelta(1))[7:10]\n",
    "\n",
    "try:\n",
    "    \n",
    "    signals = pd.read_csv('SIGNALS_'+stamp+'.csv')\n",
    "    try:\n",
    "        signals = signals.drop('Unnamed: 0',axis=1)\n",
    "    except:\n",
    "        pass\n",
    "    print('Le fichier SIGNALS_'+stamp+'.csv a bien été chargé')\n",
    "    \n",
    "    \n",
    "except:\n",
    "    sys.exit(\"\\n Golem n'a pas trouvé le fichier SIGNALS_\"+stamp+\".csv => Arrêt du programme\")\n",
    "\n",
    "poz = relevpoz()\n",
    "\n",
    "\n",
    "foo = 0\n",
    "ACTION = []\n",
    "ASKED_PRICE = []\n",
    "WHEN = []\n",
    "OL = []\n",
    "CL = []\n",
    "OS = []\n",
    "CS = []\n",
    "\n",
    "try:\n",
    "    signals['Tradé']\n",
    "except:\n",
    "    signals['Tradé'] = 'NA'\n",
    "if (signals[signals['Tradé']=='NA'].shape[0] == signals.shape[0]):\n",
    "    print('Passage')\n",
    "else:\n",
    "    \n",
    "    foo = signals[signals['Tradé']=='NA'].index[0]\n",
    "    print('On reprend le passage en ligne ',foo)\n",
    "    \n",
    "try:\n",
    "    pactol = float(str(str([v for v in ib.accountValues() if v.tag == 'NetLiquidationByCurrency' and v.currency == 'BASE']).split()[2]).split(\"'\")[1])\n",
    "except:\n",
    "    print('Montant du pactol non récupéré')\n",
    "    ib.isConnected()\n",
    "print(Back.BLUE,Fore.YELLOW,'Les fonds disponibles sur le compte sont de : $',pactol,Style.RESET_ALL)\n",
    "mise = pactol * 0.02\n",
    "tmps55=time.time()\n",
    "for i in range (foo,signals.shape[0]):\n",
    "    #try:\n",
    "    #Contract(conId=270639)\n",
    "    horo = signals.iloc[i,0]\n",
    "    ticker = signals.iloc[i,1]\n",
    "    openlong = signals.iloc[i,2]\n",
    "    closelong = signals.iloc[i,3]\n",
    "    openshort = signals.iloc[i,4]\n",
    "    closeshort = signals.iloc[i,5]\n",
    "    contract = Stock(ticker,'SMART','USD')\n",
    "    price = price_close(LaBase,ticker)\n",
    "\n",
    "    en_poz = 0\n",
    "    if poz.iloc[0,0] != 101:\n",
    "        if len(poz[ticker == poz.iloc[:,2]]) > 1:\n",
    "            exit(\"Il y a plus d'une position pour le ticker \",ticker)\n",
    "        elif len(poz[ticker == poz.iloc[:,2]]) == 1:\n",
    "            indeX = int(str(str(poz[ticker == poz.iloc[:,2]].index).split('[')[1]).split(']')[0])\n",
    "            quantity = abs(poz.iloc[indeX,3])\n",
    "            if poz.iloc[indeX,3] < 0:\n",
    "                en_poz = -1\n",
    "            if poz.iloc[indeX,3] > 0:\n",
    "                en_poz = 1\n",
    "\n",
    "    if openlong == 1 and en_poz == 0:\n",
    "        print('')\n",
    "        pot = round(price * 1.002,2)\n",
    "        quantity = round(mise/pot)\n",
    "        print(Fore.GREEN,'Open Long',Style.RESET_ALL,' sur le ticker ',ticker,' basé sur un close limité à ', price,'\\n')\n",
    "        WHEN.append(time.strftime(\"%d-%m-%Y %H:%M:%S\", time.localtime()))\n",
    "        ASKED_PRICE.append(pot)\n",
    "        ACTION.append('Open Long')\n",
    "        OL.append(1)\n",
    "        BUY(contract,quantity,pot)\n",
    "\n",
    "\n",
    "    elif openshort == 1 and en_poz == 0:\n",
    "        print('')\n",
    "        pot = round(price * 0.998,2)\n",
    "        quantity = round(mise/pot)\n",
    "        print(Fore.GREEN,'Open Short',Style.RESET_ALL,' sur le ticker ',ticker,' basé sur un close limité à ', price,'\\n')\n",
    "        WHEN.append(time.strftime(\"%d-%m-%Y %H:%M:%S\", time.localtime()))\n",
    "        ASKED_PRICE.append(pot)\n",
    "        ACTION.append('Open Short')\n",
    "        OS.append(1)\n",
    "        SELL(contract,quantity,pot)\n",
    "\n",
    "\n",
    "    elif closelong == 1 and en_poz == 1:\n",
    "        print('')\n",
    "        pot = float(round(poz[poz['Ticker']==ticker]['Average Cost'],2))\n",
    "        print(Fore.RED,'Close Long',Style.RESET_ALL,' sur le ticker ',ticker,' basé sur un close limité à ', price,'\\n')\n",
    "        WHEN.append(time.strftime(\"%d-%m-%Y %H:%M:%S\", time.localtime()))\n",
    "        ASKED_PRICE.append(pot)\n",
    "        ACTION.append('Close Long')\n",
    "        CL.append(1)\n",
    "        SELL(contract,quantity,pot)\n",
    "\n",
    "\n",
    "    elif closeshort == 1 and en_poz == -1:\n",
    "        print('')\n",
    "        pot = pot = float(round(poz[poz['Ticker']==ticker]['Average Cost'],2))\n",
    "        print(Fore.RED,'Close Short',Style.RESET_ALL,' sur le ticker ',ticker,' basé sur un close limité à ', price,'\\n')\n",
    "        WHEN.append(time.strftime(\"%d-%m-%Y %H:%M:%S\", time.localtime()))\n",
    "        ASKED_PRICE.append(pot)\n",
    "        ACTION.append('Close Short')\n",
    "        CS.append(1)\n",
    "        BUY(contract,quantity,pot)\n",
    "\n",
    "\n",
    "    else:\n",
    "        WHEN.append('NA')\n",
    "        ASKED_PRICE.append('NA')\n",
    "        ACTION.append('NA')\n",
    "        \n",
    "    signals.iloc[foo,7]='Traité'\n",
    "    #except:\n",
    "     #   print('souci boucle ',i,' pour le ticker ',ticker)\n",
    "      #  continue\n",
    "\n",
    "traded = signals\n",
    "traded['Action'] = ACTION\n",
    "traded['Quand'] = WHEN\n",
    "traded['Prix limite'] = ASKED_PRICE\n",
    "\n",
    "traded.to_csv('27_OrdresPasses_'+time.strftime(\"%d_%m_%Y_%H_%M_%S\", time.localtime())+'.csv')\n",
    "\n",
    "tmps22=round(time.time()-tmps55,2)\n",
    "print(\"\\n Ensemble des opérations du jour effectué en %f\" %tmps22,'seconds \\n')\n",
    "\n",
    "print('Il y a eu ',sum(OL),' Open Long, ',sum(OS),' Open Short, ',sum(CL),' Close Long, et ',sum(CS),' Close Short.')\n",
    "disconX()"
   ]
  },
  {
   "cell_type": "code",
   "execution_count": null,
   "metadata": {},
   "outputs": [],
   "source": [
    "conX()"
   ]
  },
  {
   "cell_type": "code",
   "execution_count": null,
   "metadata": {},
   "outputs": [],
   "source": [
    "ib.trades()"
   ]
  },
  {
   "cell_type": "code",
   "execution_count": null,
   "metadata": {},
   "outputs": [],
   "source": [
    "disconX()"
   ]
  },
  {
   "cell_type": "code",
   "execution_count": null,
   "metadata": {},
   "outputs": [],
   "source": [
    "conX()"
   ]
  },
  {
   "cell_type": "code",
   "execution_count": null,
   "metadata": {},
   "outputs": [],
   "source": [
    "# MANOUAL\n",
    "\n",
    "#ticker = 'TROW'\n",
    "#contract = Stock(ticker,'SMART','USD')\n",
    "#indeX = int(str(str(poz[ticker == poz.iloc[:,2]].index).split('[')[1]).split(']')[0])\n",
    "#quantity = abs(poz.iloc[indeX,3])\n",
    "#price = 117.34\n",
    "#indeX, quantity, price"
   ]
  },
  {
   "cell_type": "code",
   "execution_count": null,
   "metadata": {},
   "outputs": [],
   "source": [
    "#BUY(contract,quantity,price)\n",
    "#SELL(contract,quantity,price)"
   ]
  },
  {
   "cell_type": "code",
   "execution_count": null,
   "metadata": {},
   "outputs": [],
   "source": [
    "len(ib.positions(compte))"
   ]
  },
  {
   "cell_type": "code",
   "execution_count": null,
   "metadata": {},
   "outputs": [],
   "source": [
    "ib.positions(compte)"
   ]
  },
  {
   "cell_type": "code",
   "execution_count": null,
   "metadata": {},
   "outputs": [],
   "source": [
    "relevpoz()"
   ]
  },
  {
   "cell_type": "code",
   "execution_count": null,
   "metadata": {},
   "outputs": [],
   "source": [
    "signals.iloc[foo,7]='Traité'"
   ]
  },
  {
   "cell_type": "code",
   "execution_count": null,
   "metadata": {},
   "outputs": [],
   "source": [
    "signals.head()"
   ]
  },
  {
   "cell_type": "code",
   "execution_count": null,
   "metadata": {},
   "outputs": [],
   "source": [
    "util.df(ib.accountSummary(account=compte))"
   ]
  },
  {
   "cell_type": "code",
   "execution_count": null,
   "metadata": {},
   "outputs": [],
   "source": [
    "ib_insync.objects.PnLSingle(compte).dailyPnL"
   ]
  },
  {
   "cell_type": "code",
   "execution_count": null,
   "metadata": {},
   "outputs": [],
   "source": [
    "ib_insync.objects.PnLSingle(compte).unrealizedPnL"
   ]
  },
  {
   "cell_type": "code",
   "execution_count": null,
   "metadata": {},
   "outputs": [],
   "source": [
    "ib_insync.objects.PnLSingle(compte).realizedPnL"
   ]
  },
  {
   "cell_type": "code",
   "execution_count": null,
   "metadata": {},
   "outputs": [],
   "source": [
    "ib_insync.objects.PnLSingle(compte).value"
   ]
  },
  {
   "cell_type": "code",
   "execution_count": null,
   "metadata": {},
   "outputs": [],
   "source": [
    "ib_insync.objects.PnL(compte,'dailyPnL')"
   ]
  },
  {
   "cell_type": "code",
   "execution_count": null,
   "metadata": {},
   "outputs": [],
   "source": [
    "ib_insync.client.Client()#.reqCompletedOrders()"
   ]
  },
  {
   "cell_type": "code",
   "execution_count": null,
   "metadata": {},
   "outputs": [],
   "source": [
    "\n",
    "ib.qualifyContracts(contract)\n",
    "order = LimitOrder('SELL', quantity, pot,account=compte,conditionsIgnoreRth=True)\n",
    "trade = ib.placeOrder(contract, order)\n",
    "print(trade)"
   ]
  },
  {
   "cell_type": "code",
   "execution_count": null,
   "metadata": {},
   "outputs": [],
   "source": [
    "disconX()"
   ]
  },
  {
   "cell_type": "code",
   "execution_count": null,
   "metadata": {},
   "outputs": [],
   "source": []
  }
 ],
 "metadata": {
  "kernelspec": {
   "display_name": "Python 3",
   "language": "python",
   "name": "python3"
  },
  "language_info": {
   "codemirror_mode": {
    "name": "ipython",
    "version": 3
   },
   "file_extension": ".py",
   "mimetype": "text/x-python",
   "name": "python",
   "nbconvert_exporter": "python",
   "pygments_lexer": "ipython3",
   "version": "3.6.8"
  }
 },
 "nbformat": 4,
 "nbformat_minor": 2
}
