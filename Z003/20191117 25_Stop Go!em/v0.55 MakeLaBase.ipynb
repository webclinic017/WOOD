{
 "cells": [
  {
   "cell_type": "code",
   "execution_count": 1,
   "metadata": {},
   "outputs": [],
   "source": [
    "def clearall():\n",
    "    all = [var for var in globals() if var[0] != \"_\"]\n",
    "    for var in all:\n",
    "        del globals()[var]\n",
    "clearall()"
   ]
  },
  {
   "cell_type": "code",
   "execution_count": 3,
   "metadata": {},
   "outputs": [
    {
     "name": "stdout",
     "output_type": "stream",
     "text": [
      "Importing Librairies...\n",
      "Librairies imported\n",
      "\n",
      "Global Optimized LumberJack Environment Motor 55\n",
      "LumberJack Jyss 5779(c)\n",
      "\u001b[34m °0Oo_D.A.G._26_oO0°\n",
      "\u001b[33m \u001b[44m LaBase Version v0.55 \u001b[0m\n",
      "\n",
      "Sraping tickers\n",
      "shape :  (505, 4)\n",
      "shape :  (505, 3)\n",
      "Scrap -----> ok\n"
     ]
    },
    {
     "name": "stdin",
     "output_type": "stream",
     "text": [
      "Enter the date (YYYY-MM-DD):  2019-11-27\n"
     ]
    },
    {
     "name": "stdout",
     "output_type": "stream",
     "text": [
      "Date et heure actuelle :  28/11/2019 22:56:10\n",
      "La date scrapée est :  2019-11-27\n",
      "\u001b[33m ON GENERE LaBase \u001b[0m\n",
      "\u001b[34m Time for completing LaBase Generation = 782.300000 seconds \n",
      " \u001b[0m\n",
      "                  Date Symbol        High         Low        Open       Close  \\\n",
      "Date                                                                            \n",
      "2019-11-21  2019-11-21    ZTS  121.070000  119.389999  119.860001  120.220001   \n",
      "2019-11-22  2019-11-22    ZTS  121.059998  119.180000  120.410004  119.809998   \n",
      "2019-11-25  2019-11-25    ZTS  121.970001  120.000000  120.739998  120.610001   \n",
      "2019-11-26  2019-11-26    ZTS  122.000000  120.250000  120.910004  121.889999   \n",
      "2019-11-27  2019-11-27    ZTS  122.919998  120.940002  122.139999  121.629997   \n",
      "\n",
      "               Volume   Adj Close  \n",
      "Date                               \n",
      "2019-11-21  1654500.0  120.220001  \n",
      "2019-11-22  1627700.0  119.809998  \n",
      "2019-11-25  1774400.0  120.610001  \n",
      "2019-11-26  3688700.0  121.889999  \n",
      "2019-11-27  1443300.0  121.629997  \n",
      "Il y a  3  mauvais tickers\n",
      "Les voici\n",
      "['BF.B', 'BRK.B', 'TSS']\n",
      "Base générée :  (1008573, 8)\n",
      "Il y a  (0, 8)  Duplicats\n",
      "Base déclonée :  (1008573, 8)\n"
     ]
    }
   ],
   "source": [
    "print('Importing Librairies...')\n",
    "import warnings\n",
    "warnings.filterwarnings(\"ignore\")\n",
    "import numpy as np\n",
    "import pandas as pd\n",
    "import pandas_datareader as web\n",
    "from colorama import Fore, Back, Style\n",
    "import time\n",
    "import datetime as dt\n",
    "import os\n",
    "print('Librairies imported')\n",
    "print('')\n",
    "\n",
    "___Author___='LumberJack Jyss'\n",
    "print('Global Optimized LumberJack Environment Motor 55\\nLumberJack Jyss 5779(c)')\n",
    "print(Fore.BLUE,'°0Oo_D.A.G._26_oO0°')\n",
    "print(Fore.YELLOW,Back.BLUE,'LaBase Version v0.55',Style.RESET_ALL)\n",
    "\n",
    "print('')\n",
    "\n",
    "print('Sraping tickers')\n",
    "constituents = pd.read_csv('New.csv')\n",
    "print('shape : ',constituents.shape)\n",
    "constituents = constituents.drop_duplicates(['Symbol'])\n",
    "try:\n",
    "    constituents = constituents.drop(['Unnamed: 0'],axis=1)\n",
    "except:\n",
    "    pass\n",
    "print('shape : ',constituents.shape)    \n",
    "print('Scrap -----> ok')\n",
    "\n",
    "today = str(dt.date.today())[:5]+str(dt.date.today())[5:7]+str(dt.date.today())[7:10]\n",
    "startday = str(dt.date.today()-dt.timedelta(3000))[:5]+str(dt.date.today()-dt.timedelta(3000))[5:7]+str(dt.date.today()-dt.timedelta(1190))[7:10]\n",
    "yesterday = str(dt.date.today()-dt.timedelta(1))[:5]+str(dt.date.today()-dt.timedelta(1))[5:7]+str(dt.date.today()-dt.timedelta(1))[7:10]\n",
    "stamp = input(\"Enter the date (YYYY-MM-DD): \")\n",
    "\n",
    "start = startday\n",
    "end = stamp\n",
    "print('Date et heure actuelle : ',time.strftime(\"%d/%m/%Y %H:%M:%S\", time.localtime()))\n",
    "print('La date scrapée est : ', stamp)\n",
    "\n",
    "\n",
    "print(Fore.YELLOW,'ON GENERE LaBase',Style.RESET_ALL)\n",
    "tmps55=time.time()\n",
    "LaBase = pd.DataFrame()\n",
    "df = pd.DataFrame()\n",
    "BADTICKER = []\n",
    "for loop in range(0, len(constituents)):\n",
    "    \n",
    "    #for loop in range(0, 2):\n",
    "    if loop == 1:\n",
    "        print('\\r',Fore.GREEN,' |==',Fore.BLUE,'O',Fore.RED,'==================|',end='',flush=True)\n",
    "    if loop == 50:\n",
    "        print('\\r',Fore.GREEN,' |====',Fore.BLUE,'O',Fore.RED,'================|',end='',flush=True)\n",
    "    if loop == 100:\n",
    "        print('\\r',Fore.GREEN,' |======',Fore.BLUE,'O',Fore.RED,'==============|',end='',flush=True)\n",
    "    if loop == 150:\n",
    "        print('\\r',Fore.GREEN,' |========',Fore.BLUE,'O',Fore.RED,'============|',end='',flush=True)\n",
    "    if loop == 200:\n",
    "        print('\\r',Fore.GREEN,' |==========',Fore.BLUE,'O',Fore.RED,'==========|',end='',flush=True)\n",
    "    if loop == 250:\n",
    "        print('\\r',Fore.GREEN,' |============',Fore.BLUE,'O',Fore.RED,'========|',end='',flush=True)\n",
    "    if loop == 300:\n",
    "        print('\\r',Fore.GREEN,' |==============',Fore.BLUE,'O',Fore.RED,'======|',end='',flush=True)\n",
    "    if loop == 350:\n",
    "        print('\\r',Fore.GREEN,' |================',Fore.BLUE,'O',Fore.RED,'====|',end='',flush=True)\n",
    "    if loop == 400:\n",
    "        print('\\r',Fore.GREEN,' |==================',Fore.BLUE,'O',Fore.RED,'==|',end='',flush=True)\n",
    "\n",
    "    #try:\n",
    "    ticker = (constituents.iloc[loop]['Symbol'])\n",
    "    try:\n",
    "        df = web.DataReader(ticker,'yahoo',startday,end)\n",
    "        df['Date'] = df.index\n",
    "        df['Date'] = df['Date'].dt.strftime('%Y-%m-%d')\n",
    "    except:\n",
    "        BADTICKER.append(ticker)\n",
    "        continue\n",
    "    df['Symbol'] = ticker\n",
    "    df = df[['Date','Symbol','High','Low','Open','Close','Volume','Adj Close']]\n",
    "    LaBase = pd.concat((LaBase,df),ignore_index=False)\n",
    "    LaBase = LaBase.drop_duplicates()\n",
    "    \n",
    "tmps22=round(time.time()-tmps55,2)\n",
    "print(Fore.BLUE,\"Time for completing LaBase Generation = %f\" %tmps22,'seconds \\n',Style.RESET_ALL)\n",
    "print(LaBase.tail())\n",
    "\n",
    "print('Il y a ',len(BADTICKER),' mauvais tickers')\n",
    "print('Les voici')\n",
    "print(BADTICKER)\n",
    "\n",
    "#LaBase[LaBase.duplicated()].shape\n",
    "\n",
    "print('Base générée : ',LaBase.shape)\n",
    "print('Il y a ',LaBase[LaBase.duplicated()].shape,' Duplicats')\n",
    "LaBase = LaBase.drop_duplicates()\n",
    "print('Base déclonée : ',LaBase.shape)\n",
    "###########################################################\n",
    "############## SI BESOIN DE RETIRER LA DATE DU JOUR #######\n",
    "##\n",
    "#  LaBase = LaBase[LaBase.index != '2019-09-18 00:00:00'] #\n",
    "##\n",
    "###########################################################\n",
    "\n",
    "LaBase = LaBase.drop(['Date'],axis=1)\n",
    "\n",
    "LaBase_adj = LaBase\n",
    "LaBase_adj = LaBase_adj.drop(['Close'],axis=1)\n",
    "LaBase_adj['Close'] = LaBase_adj['Adj Close']\n",
    "LaBase_adj = LaBase_adj.drop(['Adj Close'],axis = 1)\n",
    "\n",
    "\n",
    "LaBase_cloz = LaBase\n",
    "LaBase_cloz = LaBase_cloz.drop(['Adj Close'], axis=1)\n",
    "LaBase_cloz = LaBase_cloz[['High', 'Low', 'Open', 'Volume', 'Close']]\n",
    "\n",
    "LaBase_adj.to_csv('LaBase_adj.csv')\n",
    "LaBase_cloz.to_csv('LaBase_cloz.csv')\n",
    "LaBase.to_csv('LaBase.csv')"
   ]
  },
  {
   "cell_type": "code",
   "execution_count": 3,
   "metadata": {},
   "outputs": [
    {
     "data": {
      "text/plain": [
       "(1008075, 7)"
      ]
     },
     "execution_count": 3,
     "metadata": {},
     "output_type": "execute_result"
    }
   ],
   "source": [
    "LaBase.shape"
   ]
  },
  {
   "cell_type": "code",
   "execution_count": 4,
   "metadata": {},
   "outputs": [],
   "source": [
    "LaBase = LaBase.drop_duplicates()"
   ]
  },
  {
   "cell_type": "code",
   "execution_count": 5,
   "metadata": {},
   "outputs": [
    {
     "data": {
      "text/plain": [
       "(1006877, 7)"
      ]
     },
     "execution_count": 5,
     "metadata": {},
     "output_type": "execute_result"
    }
   ],
   "source": [
    "LaBase.shape"
   ]
  },
  {
   "cell_type": "code",
   "execution_count": 6,
   "metadata": {},
   "outputs": [
    {
     "data": {
      "text/plain": [
       "1198"
      ]
     },
     "execution_count": 6,
     "metadata": {},
     "output_type": "execute_result"
    }
   ],
   "source": [
    "1008075 - 1006877"
   ]
  },
  {
   "cell_type": "code",
   "execution_count": 7,
   "metadata": {},
   "outputs": [
    {
     "data": {
      "text/plain": [
       "(1008075, 6)"
      ]
     },
     "execution_count": 7,
     "metadata": {},
     "output_type": "execute_result"
    }
   ],
   "source": [
    "LaBase_adj.shape"
   ]
  },
  {
   "cell_type": "code",
   "execution_count": 8,
   "metadata": {},
   "outputs": [],
   "source": [
    "test = LaBase_adj"
   ]
  },
  {
   "cell_type": "code",
   "execution_count": 9,
   "metadata": {},
   "outputs": [],
   "source": [
    "doublon = test[test.duplicated() == True]"
   ]
  },
  {
   "cell_type": "code",
   "execution_count": 11,
   "metadata": {},
   "outputs": [
    {
     "data": {
      "text/html": [
       "<div>\n",
       "<style scoped>\n",
       "    .dataframe tbody tr th:only-of-type {\n",
       "        vertical-align: middle;\n",
       "    }\n",
       "\n",
       "    .dataframe tbody tr th {\n",
       "        vertical-align: top;\n",
       "    }\n",
       "\n",
       "    .dataframe thead th {\n",
       "        text-align: right;\n",
       "    }\n",
       "</style>\n",
       "<table border=\"1\" class=\"dataframe\">\n",
       "  <thead>\n",
       "    <tr style=\"text-align: right;\">\n",
       "      <th></th>\n",
       "      <th>Symbol</th>\n",
       "      <th>High</th>\n",
       "      <th>Low</th>\n",
       "      <th>Open</th>\n",
       "      <th>Volume</th>\n",
       "      <th>Close</th>\n",
       "    </tr>\n",
       "    <tr>\n",
       "      <th>Date</th>\n",
       "      <th></th>\n",
       "      <th></th>\n",
       "      <th></th>\n",
       "      <th></th>\n",
       "      <th></th>\n",
       "      <th></th>\n",
       "    </tr>\n",
       "  </thead>\n",
       "  <tbody>\n",
       "    <tr>\n",
       "      <th>2012-05-16</th>\n",
       "      <td>AMCR</td>\n",
       "      <td>7.700000</td>\n",
       "      <td>7.700000</td>\n",
       "      <td>7.700000</td>\n",
       "      <td>0.0</td>\n",
       "      <td>6.067985</td>\n",
       "    </tr>\n",
       "    <tr>\n",
       "      <th>2012-05-17</th>\n",
       "      <td>AMCR</td>\n",
       "      <td>7.700000</td>\n",
       "      <td>7.700000</td>\n",
       "      <td>7.700000</td>\n",
       "      <td>0.0</td>\n",
       "      <td>6.067985</td>\n",
       "    </tr>\n",
       "    <tr>\n",
       "      <th>2012-05-18</th>\n",
       "      <td>AMCR</td>\n",
       "      <td>7.700000</td>\n",
       "      <td>7.700000</td>\n",
       "      <td>7.700000</td>\n",
       "      <td>0.0</td>\n",
       "      <td>6.067985</td>\n",
       "    </tr>\n",
       "    <tr>\n",
       "      <th>2012-05-21</th>\n",
       "      <td>AMCR</td>\n",
       "      <td>7.700000</td>\n",
       "      <td>7.700000</td>\n",
       "      <td>7.700000</td>\n",
       "      <td>0.0</td>\n",
       "      <td>6.067985</td>\n",
       "    </tr>\n",
       "    <tr>\n",
       "      <th>2012-05-22</th>\n",
       "      <td>AMCR</td>\n",
       "      <td>7.700000</td>\n",
       "      <td>7.700000</td>\n",
       "      <td>7.700000</td>\n",
       "      <td>0.0</td>\n",
       "      <td>6.067985</td>\n",
       "    </tr>\n",
       "    <tr>\n",
       "      <th>...</th>\n",
       "      <td>...</td>\n",
       "      <td>...</td>\n",
       "      <td>...</td>\n",
       "      <td>...</td>\n",
       "      <td>...</td>\n",
       "      <td>...</td>\n",
       "    </tr>\n",
       "    <tr>\n",
       "      <th>2019-06-05</th>\n",
       "      <td>AMCR</td>\n",
       "      <td>11.150000</td>\n",
       "      <td>11.150000</td>\n",
       "      <td>11.150000</td>\n",
       "      <td>0.0</td>\n",
       "      <td>10.888330</td>\n",
       "    </tr>\n",
       "    <tr>\n",
       "      <th>2019-06-06</th>\n",
       "      <td>AMCR</td>\n",
       "      <td>11.150000</td>\n",
       "      <td>11.150000</td>\n",
       "      <td>11.150000</td>\n",
       "      <td>0.0</td>\n",
       "      <td>10.888330</td>\n",
       "    </tr>\n",
       "    <tr>\n",
       "      <th>2019-06-07</th>\n",
       "      <td>AMCR</td>\n",
       "      <td>11.150000</td>\n",
       "      <td>11.150000</td>\n",
       "      <td>11.150000</td>\n",
       "      <td>0.0</td>\n",
       "      <td>10.888330</td>\n",
       "    </tr>\n",
       "    <tr>\n",
       "      <th>2019-06-10</th>\n",
       "      <td>AMCR</td>\n",
       "      <td>11.150000</td>\n",
       "      <td>11.150000</td>\n",
       "      <td>11.150000</td>\n",
       "      <td>0.0</td>\n",
       "      <td>10.888330</td>\n",
       "    </tr>\n",
       "    <tr>\n",
       "      <th>2019-11-25</th>\n",
       "      <td>CELG</td>\n",
       "      <td>108.239998</td>\n",
       "      <td>108.239998</td>\n",
       "      <td>108.239998</td>\n",
       "      <td>0.0</td>\n",
       "      <td>108.239998</td>\n",
       "    </tr>\n",
       "  </tbody>\n",
       "</table>\n",
       "<p>1198 rows × 6 columns</p>\n",
       "</div>"
      ],
      "text/plain": [
       "           Symbol        High         Low        Open  Volume       Close\n",
       "Date                                                                     \n",
       "2012-05-16   AMCR    7.700000    7.700000    7.700000     0.0    6.067985\n",
       "2012-05-17   AMCR    7.700000    7.700000    7.700000     0.0    6.067985\n",
       "2012-05-18   AMCR    7.700000    7.700000    7.700000     0.0    6.067985\n",
       "2012-05-21   AMCR    7.700000    7.700000    7.700000     0.0    6.067985\n",
       "2012-05-22   AMCR    7.700000    7.700000    7.700000     0.0    6.067985\n",
       "...           ...         ...         ...         ...     ...         ...\n",
       "2019-06-05   AMCR   11.150000   11.150000   11.150000     0.0   10.888330\n",
       "2019-06-06   AMCR   11.150000   11.150000   11.150000     0.0   10.888330\n",
       "2019-06-07   AMCR   11.150000   11.150000   11.150000     0.0   10.888330\n",
       "2019-06-10   AMCR   11.150000   11.150000   11.150000     0.0   10.888330\n",
       "2019-11-25   CELG  108.239998  108.239998  108.239998     0.0  108.239998\n",
       "\n",
       "[1198 rows x 6 columns]"
      ]
     },
     "execution_count": 11,
     "metadata": {},
     "output_type": "execute_result"
    }
   ],
   "source": [
    "doublon = doublon.sort_values('Date')\n",
    "doublon"
   ]
  },
  {
   "cell_type": "code",
   "execution_count": 13,
   "metadata": {},
   "outputs": [
    {
     "data": {
      "text/html": [
       "<div>\n",
       "<style scoped>\n",
       "    .dataframe tbody tr th:only-of-type {\n",
       "        vertical-align: middle;\n",
       "    }\n",
       "\n",
       "    .dataframe tbody tr th {\n",
       "        vertical-align: top;\n",
       "    }\n",
       "\n",
       "    .dataframe thead th {\n",
       "        text-align: right;\n",
       "    }\n",
       "</style>\n",
       "<table border=\"1\" class=\"dataframe\">\n",
       "  <thead>\n",
       "    <tr style=\"text-align: right;\">\n",
       "      <th></th>\n",
       "      <th>Symbol</th>\n",
       "      <th>High</th>\n",
       "      <th>Low</th>\n",
       "      <th>Open</th>\n",
       "      <th>Volume</th>\n",
       "      <th>Close</th>\n",
       "    </tr>\n",
       "    <tr>\n",
       "      <th>Date</th>\n",
       "      <th></th>\n",
       "      <th></th>\n",
       "      <th></th>\n",
       "      <th></th>\n",
       "      <th></th>\n",
       "      <th></th>\n",
       "    </tr>\n",
       "  </thead>\n",
       "  <tbody>\n",
       "    <tr>\n",
       "      <th>2014-06-12</th>\n",
       "      <td>NKTR</td>\n",
       "      <td>12.540000</td>\n",
       "      <td>12.540000</td>\n",
       "      <td>12.540000</td>\n",
       "      <td>0.0</td>\n",
       "      <td>12.540000</td>\n",
       "    </tr>\n",
       "    <tr>\n",
       "      <th>2016-03-29</th>\n",
       "      <td>UA</td>\n",
       "      <td>40.582272</td>\n",
       "      <td>40.582272</td>\n",
       "      <td>40.582272</td>\n",
       "      <td>0.0</td>\n",
       "      <td>40.582272</td>\n",
       "    </tr>\n",
       "    <tr>\n",
       "      <th>2019-11-25</th>\n",
       "      <td>CELG</td>\n",
       "      <td>108.239998</td>\n",
       "      <td>108.239998</td>\n",
       "      <td>108.239998</td>\n",
       "      <td>0.0</td>\n",
       "      <td>108.239998</td>\n",
       "    </tr>\n",
       "  </tbody>\n",
       "</table>\n",
       "</div>"
      ],
      "text/plain": [
       "           Symbol        High         Low        Open  Volume       Close\n",
       "Date                                                                     \n",
       "2014-06-12   NKTR   12.540000   12.540000   12.540000     0.0   12.540000\n",
       "2016-03-29     UA   40.582272   40.582272   40.582272     0.0   40.582272\n",
       "2019-11-25   CELG  108.239998  108.239998  108.239998     0.0  108.239998"
      ]
     },
     "execution_count": 13,
     "metadata": {},
     "output_type": "execute_result"
    }
   ],
   "source": [
    "doublon[doublon['Symbol']!='AMCR']"
   ]
  },
  {
   "cell_type": "code",
   "execution_count": null,
   "metadata": {},
   "outputs": [],
   "source": []
  }
 ],
 "metadata": {
  "kernelspec": {
   "display_name": "Python 3",
   "language": "python",
   "name": "python3"
  },
  "language_info": {
   "codemirror_mode": {
    "name": "ipython",
    "version": 3
   },
   "file_extension": ".py",
   "mimetype": "text/x-python",
   "name": "python",
   "nbconvert_exporter": "python",
   "pygments_lexer": "ipython3",
   "version": "3.6.8"
  }
 },
 "nbformat": 4,
 "nbformat_minor": 2
}
