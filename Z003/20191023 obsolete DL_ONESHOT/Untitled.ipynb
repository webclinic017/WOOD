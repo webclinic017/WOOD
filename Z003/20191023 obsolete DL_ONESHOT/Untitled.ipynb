{
 "cells": [
  {
   "cell_type": "code",
   "execution_count": 1,
   "metadata": {},
   "outputs": [
    {
     "name": "stdin",
     "output_type": "stream",
     "text": [
      "Date de DL - YYYY-MM-DD  2019-10-23\n"
     ]
    }
   ],
   "source": [
    "import time\n",
    "import datetime as dt\n",
    "LaDate = input('Date de DL - YYYY-MM-DD ')"
   ]
  },
  {
   "cell_type": "code",
   "execution_count": 3,
   "metadata": {},
   "outputs": [
    {
     "name": "stdout",
     "output_type": "stream",
     "text": [
      "\n",
      "Sraping tickers\n",
      "Scrap -----> ok\n"
     ]
    }
   ],
   "source": [
    "import pandas as pd\n",
    "print('')\n",
    "print('Sraping tickers')\n",
    "constituents = pd.read_csv('New.csv')\n",
    "print('Scrap -----> ok')"
   ]
  },
  {
   "cell_type": "code",
   "execution_count": 39,
   "metadata": {},
   "outputs": [],
   "source": [
    "# PARAMETRES TEMPORELS INITIAUX\n",
    "start =LaDate[:2]+str(int(LaDate[2:4])-4)+'-'+LaDate[5:]\n",
    "end = LaDate"
   ]
  },
  {
   "cell_type": "code",
   "execution_count": 44,
   "metadata": {},
   "outputs": [],
   "source": [
    "import pandas_datareader as web\n",
    "df = web.DataReader('A','yahoo',start,end)\n",
    "df = df.drop(['Close'],axis=1)\n",
    "df['Close'] = df['Adj Close']\n",
    "df = df.drop(['Adj Close'],axis = 1)\n",
    "df = df[-820:]"
   ]
  },
  {
   "cell_type": "code",
   "execution_count": 45,
   "metadata": {},
   "outputs": [
    {
     "data": {
      "text/plain": [
       "(820, 5)"
      ]
     },
     "execution_count": 45,
     "metadata": {},
     "output_type": "execute_result"
    }
   ],
   "source": [
    "df.shape"
   ]
  },
  {
   "cell_type": "code",
   "execution_count": 52,
   "metadata": {},
   "outputs": [],
   "source": [
    "import os\n",
    "chemin = os.path.abspath('compteur.csv')\n"
   ]
  },
  {
   "cell_type": "code",
   "execution_count": 53,
   "metadata": {},
   "outputs": [],
   "source": [
    "df.to_csv(os.path.join(os.path.dirname(chemin),'RELEVPOZ\\\\RelevPoz.csv'))"
   ]
  },
  {
   "cell_type": "code",
   "execution_count": 55,
   "metadata": {},
   "outputs": [],
   "source": [
    "os.mkdir(LaDate)"
   ]
  },
  {
   "cell_type": "code",
   "execution_count": 58,
   "metadata": {},
   "outputs": [],
   "source": [
    "df.to_csv(LaDate+'/poupou.csv')"
   ]
  },
  {
   "cell_type": "code",
   "execution_count": 60,
   "metadata": {},
   "outputs": [],
   "source": [
    "os.mkdir('DL_'+LaDate)"
   ]
  },
  {
   "cell_type": "code",
   "execution_count": null,
   "metadata": {},
   "outputs": [],
   "source": []
  }
 ],
 "metadata": {
  "kernelspec": {
   "display_name": "Python 3",
   "language": "python",
   "name": "python3"
  },
  "language_info": {
   "codemirror_mode": {
    "name": "ipython",
    "version": 3
   },
   "file_extension": ".py",
   "mimetype": "text/x-python",
   "name": "python",
   "nbconvert_exporter": "python",
   "pygments_lexer": "ipython3",
   "version": "3.6.8"
  }
 },
 "nbformat": 4,
 "nbformat_minor": 2
}
