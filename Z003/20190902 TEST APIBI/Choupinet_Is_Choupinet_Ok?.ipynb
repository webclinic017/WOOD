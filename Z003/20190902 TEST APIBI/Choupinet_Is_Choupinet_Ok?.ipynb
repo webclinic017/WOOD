{
 "cells": [
  {
   "cell_type": "code",
   "execution_count": 18,
   "metadata": {},
   "outputs": [],
   "source": [
    "import ibapi as ib\n",
    "import pandas as pd\n",
    "import numpy as np\n",
    "import datetime as dt\n",
    "import colorama\n",
    "import os.path\n",
    "import time\n",
    "import logging\n",
    "import collections\n",
    "import inspect\n",
    "\n",
    "from ibapi import wrapper\n",
    "from ibapi import utils\n",
    "from ibapi.client import EClient\n",
    "from ibapi.utils import iswrapper\n",
    "\n",
    "import warnings\n",
    "with warnings.catch_warnings():\n",
    "    warnings.simplefilter(\"ignore\")\n",
    "\n",
    "# types\n",
    "from ibapi.common import * # @UnusedWildImport\n",
    "from ibapi.order_condition import * # @UnusedWildImport\n",
    "from ibapi.contract import * # @UnusedWildImport\n",
    "from ibapi.order import * # @UnusedWildImport\n",
    "from ibapi.order_state import * # @UnusedWildImport\n",
    "from ibapi.execution import Execution\n",
    "from ibapi.execution import ExecutionFilter\n",
    "from ibapi.commission_report import CommissionReport\n",
    "from ibapi.ticktype import * # @UnusedWildImport\n",
    "from ibapi.tag_value import TagValue\n",
    "\n",
    "from ibapi.account_summary_tags import *\n",
    "\n",
    "from ContractSamples import ContractSamples\n",
    "from OrderSamples import OrderSamples\n",
    "from AvailableAlgoParams import AvailableAlgoParams\n",
    "from ScannerSubscriptionSamples import ScannerSubscriptionSamples\n",
    "from FaAllocationSamples import FaAllocationSamples\n",
    "from ibapi.scanner import ScanData"
   ]
  },
  {
   "cell_type": "code",
   "execution_count": 19,
   "metadata": {},
   "outputs": [],
   "source": [
    "def SetupLogger():\n",
    "    #####################################################\n",
    "    ### CREE UN FICHIER LOG HORODATE DANS DOSSIER LOG ###\n",
    "    #####################################################\n",
    "    \n",
    "    if not os.path.exists(\"log\"):\n",
    "        os.makedirs(\"log\")\n",
    "\n",
    "    time.strftime(\"pyibapi.%Y%m%d_%H%M%S.log\")\n",
    "\n",
    "    recfmt = '(%(threadName)s) %(asctime)s.%(msecs)03d %(levelname)s %(filename)s:%(lineno)d %(message)s'\n",
    "\n",
    "    timefmt = '%y%m%d_%H:%M:%S'\n",
    "\n",
    "    # logging.basicConfig( level=logging.DEBUG,\n",
    "    #                    format=recfmt, datefmt=timefmt)\n",
    "    logging.basicConfig(filename=time.strftime(\"log/pyibapi.%y%m%d_%H%M%S.log\"),\n",
    "                        filemode=\"w\",\n",
    "                        level=logging.INFO,\n",
    "                        format=recfmt, datefmt=timefmt)\n",
    "    logger = logging.getLogger()\n",
    "    console = logging.StreamHandler()\n",
    "    console.setLevel(logging.ERROR)\n",
    "    logger.addHandler(console)"
   ]
  },
  {
   "cell_type": "code",
   "execution_count": 20,
   "metadata": {},
   "outputs": [],
   "source": [
    "class TestClient(EClient):\n",
    "    def __init__(self, wrapper):\n",
    "        EClient.__init__(self, wrapper)"
   ]
  },
  {
   "cell_type": "code",
   "execution_count": 28,
   "metadata": {},
   "outputs": [],
   "source": [
    "class TestWrapper(wrapper.EWrapper):\n",
    "    def __init__(self):\n",
    "        wrapper.EWrapper.__init__(self)\n",
    "\n",
    "        self.wrapMeth2callCount = collections.defaultdict(int)\n",
    "        self.wrapMeth2reqIdIdx = collections.defaultdict(lambda: -1)\n",
    "        self.reqId2nAns = collections.defaultdict(int)\n",
    "        self.setupDetectWrapperReqId()\n",
    "        \n",
    "    def setupDetectWrapperReqId(self):\n",
    "\n",
    "        methods = inspect.getmembers(wrapper.EWrapper, inspect.isfunction)\n",
    "        for (methName, meth) in methods:\n",
    "            self.wrapMeth2callCount[methName] = 0\n",
    "            # logging.debug(\"meth %s\", name)\n",
    "            sig = inspect.signature(meth)\n",
    "            for (idx, pnameNparam) in enumerate(sig.parameters.items()):\n",
    "                (paramName, param) = pnameNparam # @UnusedVariable\n",
    "                # we want to count the errors as 'error' not 'answer'\n",
    "                if 'error' not in methName and paramName == \"reqId\":\n",
    "                    self.wrapMeth2reqIdIdx[methName] = idx\n",
    "\n",
    "            setattr(TestWrapper, methName, self.countWrapReqId(methName, meth))\n",
    "    def countWrapReqId(self, methName, fn):\n",
    "        def countWrapReqId_(*args, **kwargs):\n",
    "            self.wrapMeth2callCount[methName] += 1\n",
    "            idx = self.wrapMeth2reqIdIdx[methName]\n",
    "            if idx >= 0:\n",
    "                self.reqId2nAns[args[idx]] += 1\n",
    "            return fn(*args, **kwargs)\n",
    "\n",
    "        return countWrapReqId_\n"
   ]
  },
  {
   "cell_type": "code",
   "execution_count": 29,
   "metadata": {},
   "outputs": [],
   "source": [
    "class TestApp(TestWrapper, TestClient):\n",
    "    def __init__(self):\n",
    "        TestWrapper.__init__(self)\n",
    "        TestClient.__init__(self, wrapper=self)"
   ]
  },
  {
   "cell_type": "code",
   "execution_count": null,
   "metadata": {},
   "outputs": [],
   "source": []
  },
  {
   "cell_type": "code",
   "execution_count": null,
   "metadata": {},
   "outputs": [
    {
     "name": "stdout",
     "output_type": "stream",
     "text": [
      "serverVersion:151 connectionTime:b'20190904 18:22:57 CET'\n"
     ]
    }
   ],
   "source": [
    "try:\n",
    "    app = TestApp()\n",
    "\n",
    "    #if args.global_cancel:\n",
    "    #    app.globalCancelOnly = True\n",
    "    # ! [connect]\n",
    "    app.connect(\"127.0.0.1\", 4001, clientId=0)\n",
    "    # ! [connect]\n",
    "    print(\"serverVersion:%s connectionTime:%s\" % (app.serverVersion(),\n",
    "                                                  app.twsConnectionTime()))\n",
    "\n",
    "    # ! [clientrun]\n",
    "    app.run()\n",
    "    # ! [clientrun]\n",
    "except:\n",
    "    raise\n",
    "#finally:\n",
    "#    app.dumpTestCoverageSituation()\n",
    "#    app.dumpReqAnsErrSituation()"
   ]
  },
  {
   "cell_type": "code",
   "execution_count": null,
   "metadata": {},
   "outputs": [],
   "source": [
    "displayGroupUpdate()"
   ]
  },
  {
   "cell_type": "code",
   "execution_count": null,
   "metadata": {},
   "outputs": [],
   "source": []
  }
 ],
 "metadata": {
  "kernelspec": {
   "display_name": "Python 3",
   "language": "python",
   "name": "python3"
  },
  "language_info": {
   "codemirror_mode": {
    "name": "ipython",
    "version": 3
   },
   "file_extension": ".py",
   "mimetype": "text/x-python",
   "name": "python",
   "nbconvert_exporter": "python",
   "pygments_lexer": "ipython3",
   "version": "3.6.8"
  }
 },
 "nbformat": 4,
 "nbformat_minor": 2
}
