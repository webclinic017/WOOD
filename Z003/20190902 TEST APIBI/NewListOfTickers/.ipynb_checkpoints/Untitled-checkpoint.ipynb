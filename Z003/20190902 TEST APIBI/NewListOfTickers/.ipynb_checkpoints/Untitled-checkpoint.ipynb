{
 "cells": [
  {
   "cell_type": "code",
   "execution_count": 1,
   "metadata": {},
   "outputs": [],
   "source": [
    "import pandas as pd\n",
    "\n",
    "former = pd.read_csv('constituents_csv.csv')\n",
    "new = pd.read_csv('sp-500-index-.csv')\n",
    "\n",
    "new = new.drop(['Market Cap','P/E ttm','EPS ttm','Net Income(a)','Beta','Dividend(a)','Div Yield'],axis=1)\n",
    "new['Sector'] = 'None'\n",
    "\n",
    "for i in range (0, len(new)-1): \n",
    "        for j in range (0,len(former)-1):\n",
    "\n",
    "            if new.iloc[i]['Symbol'] == former.iloc[j]['Symbol']:\n",
    "                new.Sector[i] = former.Sector[j]\n",
    "new.to_csv('New.csv')"
   ]
  },
  {
   "cell_type": "code",
   "execution_count": null,
   "metadata": {},
   "outputs": [],
   "source": []
  }
 ],
 "metadata": {
  "kernelspec": {
   "display_name": "Python 3",
   "language": "python",
   "name": "python3"
  },
  "language_info": {
   "codemirror_mode": {
    "name": "ipython",
    "version": 3
   },
   "file_extension": ".py",
   "mimetype": "text/x-python",
   "name": "python",
   "nbconvert_exporter": "python",
   "pygments_lexer": "ipython3",
   "version": "3.6.8"
  }
 },
 "nbformat": 4,
 "nbformat_minor": 2
}
